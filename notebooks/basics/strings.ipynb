{
 "cells": [
  {
   "cell_type": "code",
   "execution_count": 33,
   "id": "5d83426c",
   "metadata": {},
   "outputs": [],
   "source": [
    "s = 'hello world'"
   ]
  },
  {
   "cell_type": "code",
   "execution_count": 34,
   "id": "f6deed53",
   "metadata": {},
   "outputs": [
    {
     "name": "stdout",
     "output_type": "stream",
     "text": [
      "11\n"
     ]
    }
   ],
   "source": [
    "print(len(s))"
   ]
  },
  {
   "cell_type": "code",
   "execution_count": 35,
   "id": "0cbe03ed",
   "metadata": {},
   "outputs": [
    {
     "name": "stdout",
     "output_type": "stream",
     "text": [
      "HELLO WORLD\n"
     ]
    }
   ],
   "source": [
    "print(s.upper())"
   ]
  },
  {
   "cell_type": "code",
   "execution_count": 36,
   "id": "c3474cc4",
   "metadata": {},
   "outputs": [
    {
     "name": "stdout",
     "output_type": "stream",
     "text": [
      "hello world\n"
     ]
    }
   ],
   "source": [
    "print(s.lower())"
   ]
  },
  {
   "cell_type": "code",
   "execution_count": 37,
   "id": "3572762e",
   "metadata": {},
   "outputs": [
    {
     "name": "stdout",
     "output_type": "stream",
     "text": [
      "Hello world\n"
     ]
    }
   ],
   "source": [
    "print(s.capitalize())"
   ]
  },
  {
   "cell_type": "code",
   "execution_count": 38,
   "id": "d695ca6e",
   "metadata": {},
   "outputs": [
    {
     "name": "stdout",
     "output_type": "stream",
     "text": [
      "Hello World\n"
     ]
    }
   ],
   "source": [
    "print(s.title())"
   ]
  },
  {
   "cell_type": "code",
   "execution_count": 39,
   "id": "5855a770",
   "metadata": {},
   "outputs": [
    {
     "name": "stdout",
     "output_type": "stream",
     "text": [
      "HELLO WORLD\n"
     ]
    }
   ],
   "source": [
    "print(s.swapcase())"
   ]
  },
  {
   "cell_type": "code",
   "execution_count": 40,
   "id": "1271b95f",
   "metadata": {},
   "outputs": [
    {
     "name": "stdout",
     "output_type": "stream",
     "text": [
      "True\n"
     ]
    }
   ],
   "source": [
    "print(s.startswith('hello'))"
   ]
  },
  {
   "cell_type": "code",
   "execution_count": 41,
   "id": "3072ba27",
   "metadata": {},
   "outputs": [
    {
     "name": "stdout",
     "output_type": "stream",
     "text": [
      "True\n"
     ]
    }
   ],
   "source": [
    "print(s.endswith('world'))"
   ]
  },
  {
   "cell_type": "code",
   "execution_count": 42,
   "id": "8dae4c25",
   "metadata": {},
   "outputs": [
    {
     "name": "stdout",
     "output_type": "stream",
     "text": [
      "4\n"
     ]
    }
   ],
   "source": [
    "print(s.find('o'))"
   ]
  },
  {
   "cell_type": "code",
   "execution_count": 43,
   "id": "eb827927",
   "metadata": {},
   "outputs": [
    {
     "name": "stdout",
     "output_type": "stream",
     "text": [
      "7\n"
     ]
    }
   ],
   "source": [
    "print(s.rfind('o'))"
   ]
  },
  {
   "cell_type": "code",
   "execution_count": 44,
   "id": "f1372eb7",
   "metadata": {},
   "outputs": [
    {
     "name": "stdout",
     "output_type": "stream",
     "text": [
      "1\n"
     ]
    }
   ],
   "source": [
    "print(s.index('e'))"
   ]
  },
  {
   "cell_type": "code",
   "execution_count": 45,
   "id": "844b3d91",
   "metadata": {},
   "outputs": [
    {
     "name": "stdout",
     "output_type": "stream",
     "text": [
      "hello python\n"
     ]
    }
   ],
   "source": [
    "print(s.replace('world', 'python'))"
   ]
  },
  {
   "cell_type": "code",
   "execution_count": 46,
   "id": "d56f8a45",
   "metadata": {},
   "outputs": [
    {
     "name": "stdout",
     "output_type": "stream",
     "text": [
      "['hello', 'world']\n"
     ]
    }
   ],
   "source": [
    "print(s.split())"
   ]
  },
  {
   "cell_type": "code",
   "execution_count": 47,
   "id": "d878fbd5",
   "metadata": {},
   "outputs": [
    {
     "name": "stdout",
     "output_type": "stream",
     "text": [
      "a-b-c\n"
     ]
    }
   ],
   "source": [
    "print('-'.join(['a', 'b', 'c']))"
   ]
  },
  {
   "cell_type": "code",
   "execution_count": 48,
   "id": "06763b30",
   "metadata": {},
   "outputs": [
    {
     "name": "stdout",
     "output_type": "stream",
     "text": [
      "hello world\n"
     ]
    }
   ],
   "source": [
    "print(s.strip())"
   ]
  },
  {
   "cell_type": "code",
   "execution_count": 49,
   "id": "490185ff",
   "metadata": {},
   "outputs": [
    {
     "name": "stdout",
     "output_type": "stream",
     "text": [
      "test  \n"
     ]
    }
   ],
   "source": [
    "print('  test  '.lstrip())"
   ]
  },
  {
   "cell_type": "code",
   "execution_count": 50,
   "id": "08a7db95",
   "metadata": {},
   "outputs": [
    {
     "name": "stdout",
     "output_type": "stream",
     "text": [
      "  test\n"
     ]
    }
   ],
   "source": [
    "print('  test  '.rstrip())"
   ]
  },
  {
   "cell_type": "code",
   "execution_count": 51,
   "id": "644fe993",
   "metadata": {},
   "outputs": [
    {
     "name": "stdout",
     "output_type": "stream",
     "text": [
      "3\n"
     ]
    }
   ],
   "source": [
    "print(s.count('l'))"
   ]
  },
  {
   "cell_type": "code",
   "execution_count": 52,
   "id": "5e2b3d1a",
   "metadata": {},
   "outputs": [
    {
     "name": "stdout",
     "output_type": "stream",
     "text": [
      "True\n"
     ]
    }
   ],
   "source": [
    "print('abc123'.isalnum())"
   ]
  },
  {
   "cell_type": "code",
   "execution_count": 53,
   "id": "378065ec",
   "metadata": {},
   "outputs": [
    {
     "name": "stdout",
     "output_type": "stream",
     "text": [
      "True\n"
     ]
    }
   ],
   "source": [
    "print('abc'.isalpha())"
   ]
  },
  {
   "cell_type": "code",
   "execution_count": 54,
   "id": "7d9acbe1",
   "metadata": {},
   "outputs": [
    {
     "name": "stdout",
     "output_type": "stream",
     "text": [
      "True\n"
     ]
    }
   ],
   "source": [
    "print('123'.isdigit())"
   ]
  },
  {
   "cell_type": "code",
   "execution_count": 55,
   "id": "83d4ea68",
   "metadata": {},
   "outputs": [
    {
     "name": "stdout",
     "output_type": "stream",
     "text": [
      "True\n"
     ]
    }
   ],
   "source": [
    "print('abc'.islower())"
   ]
  },
  {
   "cell_type": "code",
   "execution_count": 56,
   "id": "c996b88d",
   "metadata": {},
   "outputs": [
    {
     "name": "stdout",
     "output_type": "stream",
     "text": [
      "True\n"
     ]
    }
   ],
   "source": [
    "print('ABC'.isupper())"
   ]
  },
  {
   "cell_type": "code",
   "execution_count": 57,
   "id": "e17adcfa",
   "metadata": {},
   "outputs": [
    {
     "name": "stdout",
     "output_type": "stream",
     "text": [
      "True\n"
     ]
    }
   ],
   "source": [
    "print('Hello'.istitle())"
   ]
  },
  {
   "cell_type": "code",
   "execution_count": 58,
   "id": "f9ce953f",
   "metadata": {},
   "outputs": [
    {
     "name": "stdout",
     "output_type": "stream",
     "text": [
      "True\n"
     ]
    }
   ],
   "source": [
    "print('   '.isspace())"
   ]
  },
  {
   "cell_type": "code",
   "execution_count": 59,
   "id": "bef4368a",
   "metadata": {},
   "outputs": [
    {
     "name": "stdout",
     "output_type": "stream",
     "text": [
      "---abc----\n"
     ]
    }
   ],
   "source": [
    "print('abc'.center(10, '-'))"
   ]
  },
  {
   "cell_type": "code",
   "execution_count": 60,
   "id": "efc9228e",
   "metadata": {},
   "outputs": [
    {
     "name": "stdout",
     "output_type": "stream",
     "text": [
      "abc*******\n"
     ]
    }
   ],
   "source": [
    "print('abc'.ljust(10, '*'))"
   ]
  },
  {
   "cell_type": "code",
   "execution_count": 61,
   "id": "7ac1d104",
   "metadata": {},
   "outputs": [
    {
     "name": "stdout",
     "output_type": "stream",
     "text": [
      "*******abc\n"
     ]
    }
   ],
   "source": [
    "print('abc'.rjust(10, '*'))"
   ]
  },
  {
   "cell_type": "code",
   "execution_count": 62,
   "id": "0f7d7e63",
   "metadata": {},
   "outputs": [
    {
     "name": "stdout",
     "output_type": "stream",
     "text": [
      "00042\n"
     ]
    }
   ],
   "source": [
    "print('42'.zfill(5))"
   ]
  },
  {
   "cell_type": "code",
   "execution_count": 63,
   "id": "c07a84b6",
   "metadata": {},
   "outputs": [
    {
     "name": "stdout",
     "output_type": "stream",
     "text": [
      "a   b   c\n"
     ]
    }
   ],
   "source": [
    "print('a\tb\tc'.expandtabs(4))"
   ]
  },
  {
   "cell_type": "code",
   "execution_count": 65,
   "id": "20b89ba8",
   "metadata": {},
   "outputs": [
    {
     "name": "stdout",
     "output_type": "stream",
     "text": [
      "Length of s is 11\n"
     ]
    }
   ],
   "source": [
    "print(f'Length of s is {len(s)}')"
   ]
  },
  {
   "cell_type": "code",
   "execution_count": 66,
   "id": "7c9439fa",
   "metadata": {},
   "outputs": [
    {
     "name": "stdout",
     "output_type": "stream",
     "text": [
      "b'\\xe3\\x81\\x93\\xe3\\x82\\x93\\xe3\\x81\\xab\\xe3\\x81\\xa1\\xe3\\x81\\xaf'\n"
     ]
    }
   ],
   "source": [
    "s2 = 'こんにちは'\n",
    "print(s2.encode('utf-8'))"
   ]
  },
  {
   "cell_type": "code",
   "execution_count": 67,
   "id": "1e05c107",
   "metadata": {},
   "outputs": [
    {
     "name": "stdout",
     "output_type": "stream",
     "text": [
      "['h', 'e', 'l', 'l', 'o']\n"
     ]
    }
   ],
   "source": [
    "print(list('hello'))"
   ]
  },
  {
   "cell_type": "code",
   "execution_count": 68,
   "id": "1c452b10",
   "metadata": {},
   "outputs": [
    {
     "name": "stdout",
     "output_type": "stream",
     "text": [
      "ello\n"
     ]
    }
   ],
   "source": [
    "print(s[1:5])"
   ]
  },
  {
   "cell_type": "code",
   "execution_count": 69,
   "id": "707d3ea8",
   "metadata": {},
   "outputs": [
    {
     "name": "stdout",
     "output_type": "stream",
     "text": [
      "hello\n"
     ]
    }
   ],
   "source": [
    "print(s[:5])"
   ]
  },
  {
   "cell_type": "code",
   "execution_count": 70,
   "id": "7e46cf62",
   "metadata": {},
   "outputs": [
    {
     "name": "stdout",
     "output_type": "stream",
     "text": [
      "world\n"
     ]
    }
   ],
   "source": [
    "print(s[6:])"
   ]
  },
  {
   "cell_type": "code",
   "execution_count": 71,
   "id": "a8bcb60e",
   "metadata": {},
   "outputs": [
    {
     "name": "stdout",
     "output_type": "stream",
     "text": [
      "dlrow olleh\n"
     ]
    }
   ],
   "source": [
    "print(s[::-1])"
   ]
  },
  {
   "cell_type": "code",
   "execution_count": 72,
   "id": "11c476cd",
   "metadata": {},
   "outputs": [
    {
     "name": "stdout",
     "output_type": "stream",
     "text": [
      "hellohellohello\n"
     ]
    }
   ],
   "source": [
    "print('hello' * 3)"
   ]
  },
  {
   "cell_type": "code",
   "execution_count": 73,
   "id": "acfd891f",
   "metadata": {},
   "outputs": [
    {
     "name": "stdout",
     "output_type": "stream",
     "text": [
      "True\n"
     ]
    }
   ],
   "source": [
    "print('lo' in s)"
   ]
  },
  {
   "cell_type": "code",
   "execution_count": 74,
   "id": "f8341ffa",
   "metadata": {},
   "outputs": [
    {
     "name": "stdout",
     "output_type": "stream",
     "text": [
      "True\n"
     ]
    }
   ],
   "source": [
    "print('xyz' not in s)"
   ]
  },
  {
   "cell_type": "code",
   "execution_count": 75,
   "id": "f13658c8",
   "metadata": {},
   "outputs": [
    {
     "name": "stdout",
     "output_type": "stream",
     "text": [
      "False\n"
     ]
    }
   ],
   "source": [
    "print(any(char.isdigit() for char in s))"
   ]
  },
  {
   "cell_type": "code",
   "execution_count": 76,
   "id": "c6be7c5d",
   "metadata": {},
   "outputs": [
    {
     "name": "stdout",
     "output_type": "stream",
     "text": [
      "True\n"
     ]
    }
   ],
   "source": [
    "print(all(char.isalpha() for char in 'abc'))"
   ]
  },
  {
   "cell_type": "code",
   "execution_count": 77,
   "id": "6da576d2",
   "metadata": {},
   "outputs": [
    {
     "name": "stdout",
     "output_type": "stream",
     "text": [
      "('python', '3', '')\n"
     ]
    }
   ],
   "source": [
    "print('python3'.partition('3'))"
   ]
  },
  {
   "cell_type": "code",
   "execution_count": 78,
   "id": "5c9f1001",
   "metadata": {},
   "outputs": [
    {
     "ename": "SyntaxError",
     "evalue": "unterminated string literal (detected at line 1) (1331961568.py, line 1)",
     "output_type": "error",
     "traceback": [
      "  \u001b[36mCell\u001b[39m\u001b[36m \u001b[39m\u001b[32mIn[78]\u001b[39m\u001b[32m, line 1\u001b[39m\n\u001b[31m    \u001b[39m\u001b[31mprint('foo\u001b[39m\n          ^\n\u001b[31mSyntaxError\u001b[39m\u001b[31m:\u001b[39m unterminated string literal (detected at line 1)\n"
     ]
    }
   ],
   "source": [
    "print('foo\n",
    "bar\n",
    "baz'.splitlines())"
   ]
  },
  {
   "cell_type": "code",
   "execution_count": 79,
   "id": "dff2a10b",
   "metadata": {},
   "outputs": [
    {
     "name": "stdout",
     "output_type": "stream",
     "text": [
      "['1', '2', '3']\n"
     ]
    }
   ],
   "source": [
    "print('1,2,3'.split(','))"
   ]
  },
  {
   "cell_type": "code",
   "execution_count": 80,
   "id": "a2ab24cb",
   "metadata": {},
   "outputs": [
    {
     "name": "stdout",
     "output_type": "stream",
     "text": [
      "hello\n"
     ]
    }
   ],
   "source": [
    "print('...hello...'.strip('.'))"
   ]
  },
  {
   "cell_type": "code",
   "execution_count": 81,
   "id": "937ceb4c",
   "metadata": {},
   "outputs": [
    {
     "name": "stdout",
     "output_type": "stream",
     "text": [
      "testcase\n"
     ]
    }
   ],
   "source": [
    "print('TestCase'.casefold())"
   ]
  },
  {
   "cell_type": "code",
   "execution_count": 82,
   "id": "8700426d",
   "metadata": {},
   "outputs": [
    {
     "name": "stdout",
     "output_type": "stream",
     "text": [
      "ß\n"
     ]
    }
   ],
   "source": [
    "print('ß'.lower())"
   ]
  },
  {
   "cell_type": "code",
   "execution_count": 83,
   "id": "78ceb07e",
   "metadata": {},
   "outputs": [
    {
     "name": "stdout",
     "output_type": "stream",
     "text": [
      "ss\n"
     ]
    }
   ],
   "source": [
    "print('ß'.casefold())"
   ]
  },
  {
   "cell_type": "code",
   "execution_count": 84,
   "id": "f81553d3",
   "metadata": {},
   "outputs": [
    {
     "name": "stdout",
     "output_type": "stream",
     "text": [
      "a\n"
     ]
    }
   ],
   "source": [
    "print(chr(97))"
   ]
  },
  {
   "cell_type": "code",
   "execution_count": 85,
   "id": "2ce90a66",
   "metadata": {},
   "outputs": [
    {
     "name": "stdout",
     "output_type": "stream",
     "text": [
      "97\n"
     ]
    }
   ],
   "source": [
    "print(ord('a'))"
   ]
  },
  {
   "cell_type": "code",
   "execution_count": 86,
   "id": "8d60145c",
   "metadata": {},
   "outputs": [
    {
     "name": "stdout",
     "output_type": "stream",
     "text": [
      "True\n"
     ]
    }
   ],
   "source": [
    "print('hello'.__contains__('ell'))"
   ]
  },
  {
   "cell_type": "code",
   "execution_count": 87,
   "id": "cd1b0d56",
   "metadata": {},
   "outputs": [
    {
     "name": "stdout",
     "output_type": "stream",
     "text": [
      "h\n"
     ]
    }
   ],
   "source": [
    "print('python'.__getitem__(3))"
   ]
  },
  {
   "cell_type": "code",
   "execution_count": 88,
   "id": "0648a3e0",
   "metadata": {},
   "outputs": [
    {
     "name": "stdout",
     "output_type": "stream",
     "text": [
      "5\n"
     ]
    }
   ],
   "source": [
    "print('hello'.__len__())"
   ]
  },
  {
   "cell_type": "code",
   "execution_count": 89,
   "id": "660f0388",
   "metadata": {},
   "outputs": [
    {
     "name": "stdout",
     "output_type": "stream",
     "text": [
      "abc\n"
     ]
    }
   ],
   "source": [
    "print('  abc  '.strip(' '))"
   ]
  },
  {
   "cell_type": "code",
   "execution_count": 90,
   "id": "08383711",
   "metadata": {},
   "outputs": [
    {
     "name": "stdout",
     "output_type": "stream",
     "text": [
      "True\n"
     ]
    }
   ],
   "source": [
    "print('abcABC123'.isprintable())"
   ]
  },
  {
   "cell_type": "code",
   "execution_count": 91,
   "id": "e2d0712e",
   "metadata": {},
   "outputs": [
    {
     "ename": "SyntaxError",
     "evalue": "unterminated string literal (detected at line 1) (2148063895.py, line 1)",
     "output_type": "error",
     "traceback": [
      "  \u001b[36mCell\u001b[39m\u001b[36m \u001b[39m\u001b[32mIn[91]\u001b[39m\u001b[32m, line 1\u001b[39m\n\u001b[31m    \u001b[39m\u001b[31mprint('abc\u001b[39m\n          ^\n\u001b[31mSyntaxError\u001b[39m\u001b[31m:\u001b[39m unterminated string literal (detected at line 1)\n"
     ]
    }
   ],
   "source": [
    "print('abc\n",
    "def'.isprintable())"
   ]
  },
  {
   "cell_type": "code",
   "execution_count": 92,
   "id": "983f06f3",
   "metadata": {},
   "outputs": [
    {
     "name": "stdout",
     "output_type": "stream",
     "text": [
      "('A', 'B', 'C')\n"
     ]
    }
   ],
   "source": [
    "print('ABC'.rpartition('B'))"
   ]
  },
  {
   "cell_type": "code",
   "execution_count": 93,
   "id": "586336cc",
   "metadata": {},
   "outputs": [
    {
     "name": "stdout",
     "output_type": "stream",
     "text": [
      "3\n"
     ]
    }
   ],
   "source": [
    "print('hello'.rindex('l'))"
   ]
  },
  {
   "cell_type": "code",
   "execution_count": 94,
   "id": "9d65aff6",
   "metadata": {},
   "outputs": [
    {
     "name": "stdout",
     "output_type": "stream",
     "text": [
      "True\n"
     ]
    }
   ],
   "source": [
    "print('hello'.isidentifier())"
   ]
  },
  {
   "cell_type": "code",
   "execution_count": 95,
   "id": "6ba1b14a",
   "metadata": {},
   "outputs": [
    {
     "name": "stdout",
     "output_type": "stream",
     "text": [
      "True\n"
     ]
    }
   ],
   "source": [
    "print('_var'.isidentifier())"
   ]
  },
  {
   "cell_type": "code",
   "execution_count": 96,
   "id": "88e0e7fb",
   "metadata": {},
   "outputs": [
    {
     "name": "stdout",
     "output_type": "stream",
     "text": [
      "SnakeCase\n"
     ]
    }
   ],
   "source": [
    "print('snake_case'.replace('_', ' ').title().replace(' ', ''))"
   ]
  },
  {
   "cell_type": "code",
   "execution_count": 97,
   "id": "64e8968d",
   "metadata": {},
   "outputs": [
    {
     "name": "stdout",
     "output_type": "stream",
     "text": [
      "b'abc'\n"
     ]
    }
   ],
   "source": [
    "print('abc'.encode())"
   ]
  },
  {
   "cell_type": "code",
   "execution_count": 98,
   "id": "01b65d72",
   "metadata": {},
   "outputs": [
    {
     "name": "stdout",
     "output_type": "stream",
     "text": [
      "abc\n"
     ]
    }
   ],
   "source": [
    "print(b'abc'.decode())"
   ]
  },
  {
   "cell_type": "code",
   "execution_count": 99,
   "id": "b01c6cb6",
   "metadata": {},
   "outputs": [
    {
     "name": "stdout",
     "output_type": "stream",
     "text": [
      "123DEF\n"
     ]
    }
   ],
   "source": [
    "print('abcDEF'.translate(str.maketrans('abc', '123')))"
   ]
  },
  {
   "cell_type": "code",
   "execution_count": 100,
   "id": "f82b2044",
   "metadata": {},
   "outputs": [
    {
     "name": "stdout",
     "output_type": "stream",
     "text": [
      "True\n"
     ]
    }
   ],
   "source": [
    "print('12345'.isdigit())"
   ]
  },
  {
   "cell_type": "code",
   "execution_count": 101,
   "id": "8f9cf6aa",
   "metadata": {},
   "outputs": [
    {
     "name": "stdout",
     "output_type": "stream",
     "text": [
      "True\n"
     ]
    }
   ],
   "source": [
    "print('Ⅻ'.isnumeric())"
   ]
  },
  {
   "cell_type": "code",
   "execution_count": 102,
   "id": "4f01570d",
   "metadata": {},
   "outputs": [
    {
     "name": "stdout",
     "output_type": "stream",
     "text": [
      "onetwo\n"
     ]
    }
   ],
   "source": [
    "print('one1two2'.translate(str.maketrans('', '', '0123456789')))"
   ]
  },
  {
   "cell_type": "code",
   "execution_count": 103,
   "id": "1e7db9ac",
   "metadata": {},
   "outputs": [
    {
     "name": "stdout",
     "output_type": "stream",
     "text": [
      "hello\n"
     ]
    }
   ],
   "source": [
    "print('  Hello  '.strip().lower())"
   ]
  },
  {
   "cell_type": "code",
   "execution_count": 104,
   "id": "1eb94dfb",
   "metadata": {},
   "outputs": [
    {
     "name": "stdout",
     "output_type": "stream",
     "text": [
      "00012\n"
     ]
    }
   ],
   "source": [
    "print('12'.rjust(5, '0'))"
   ]
  },
  {
   "cell_type": "code",
   "execution_count": 105,
   "id": "39d38afc",
   "metadata": {},
   "outputs": [
    {
     "name": "stdout",
     "output_type": "stream",
     "text": [
      "       abc\n"
     ]
    }
   ],
   "source": [
    "print('abc'.rjust(10))"
   ]
  },
  {
   "cell_type": "code",
   "execution_count": 106,
   "id": "b019c502",
   "metadata": {},
   "outputs": [
    {
     "name": "stdout",
     "output_type": "stream",
     "text": [
      "zzxy\n"
     ]
    }
   ],
   "source": [
    "print('xyxyxy'.replace('xy', 'z', 2))"
   ]
  },
  {
   "cell_type": "code",
   "execution_count": 107,
   "id": "f112e9bf",
   "metadata": {},
   "outputs": [
    {
     "name": "stdout",
     "output_type": "stream",
     "text": [
      "2\n"
     ]
    }
   ],
   "source": [
    "print('hello'.count('l', 1, 4))"
   ]
  },
  {
   "cell_type": "code",
   "execution_count": 108,
   "id": "2f8f2132",
   "metadata": {},
   "outputs": [
    {
     "name": "stdout",
     "output_type": "stream",
     "text": [
      "10\n"
     ]
    }
   ],
   "source": [
    "print('abcdefghijklmno'.find('k', 5))"
   ]
  },
  {
   "cell_type": "code",
   "execution_count": 109,
   "id": "21610bf3",
   "metadata": {},
   "outputs": [
    {
     "name": "stdout",
     "output_type": "stream",
     "text": [
      "['a-b', 'c']\n"
     ]
    }
   ],
   "source": [
    "print('a-b-c'.rsplit('-', 1))"
   ]
  },
  {
   "cell_type": "code",
   "execution_count": 110,
   "id": "d651fb68",
   "metadata": {},
   "outputs": [
    {
     "name": "stdout",
     "output_type": "stream",
     "text": [
      "['a', 'b', 'c']\n"
     ]
    }
   ],
   "source": [
    "print('a,b,c'.split(',', 2))"
   ]
  },
  {
   "cell_type": "code",
   "execution_count": 111,
   "id": "0e31034e",
   "metadata": {},
   "outputs": [
    {
     "name": "stdout",
     "output_type": "stream",
     "text": [
      "...abc\n"
     ]
    }
   ],
   "source": [
    "print('abc'.rjust(6, '.'))"
   ]
  },
  {
   "cell_type": "code",
   "execution_count": 112,
   "id": "6ecb3f6e",
   "metadata": {},
   "outputs": [
    {
     "name": "stdout",
     "output_type": "stream",
     "text": [
      "0,1,2,3,4\n"
     ]
    }
   ],
   "source": [
    "print(','.join(map(str, range(5))))"
   ]
  },
  {
   "cell_type": "code",
   "execution_count": 113,
   "id": "dbedc522",
   "metadata": {},
   "outputs": [
    {
     "name": "stdout",
     "output_type": "stream",
     "text": [
      "abc123\n"
     ]
    }
   ],
   "source": [
    "print('abc'.__add__('123'))"
   ]
  },
  {
   "cell_type": "code",
   "execution_count": 114,
   "id": "3214aa1a",
   "metadata": {},
   "outputs": [
    {
     "name": "stdout",
     "output_type": "stream",
     "text": [
      "True\n"
     ]
    }
   ],
   "source": [
    "print('abc' < 'abd')"
   ]
  },
  {
   "cell_type": "code",
   "execution_count": 115,
   "id": "826c1c28",
   "metadata": {},
   "outputs": [
    {
     "name": "stdout",
     "output_type": "stream",
     "text": [
      "True\n"
     ]
    }
   ],
   "source": [
    "print('Abc' < 'abc')"
   ]
  },
  {
   "cell_type": "code",
   "execution_count": 116,
   "id": "3b6cdeb3",
   "metadata": {},
   "outputs": [
    {
     "name": "stdout",
     "output_type": "stream",
     "text": [
      "True\n"
     ]
    }
   ],
   "source": [
    "print('hello'.endswith(('o', 'd')))"
   ]
  },
  {
   "cell_type": "code",
   "execution_count": 117,
   "id": "f33e037d",
   "metadata": {},
   "outputs": [
    {
     "name": "stdout",
     "output_type": "stream",
     "text": [
      "True\n"
     ]
    }
   ],
   "source": [
    "print('hello'.startswith(('he', 'le')))"
   ]
  },
  {
   "cell_type": "code",
   "execution_count": null,
   "id": "5daae3da-94aa-4fc0-ba05-4bfbb6a891f5",
   "metadata": {},
   "outputs": [],
   "source": []
  },
  {
   "cell_type": "code",
   "execution_count": null,
   "id": "d832ed60-8b6d-4e27-a1f3-56c5d0282889",
   "metadata": {},
   "outputs": [],
   "source": []
  },
  {
   "cell_type": "code",
   "execution_count": null,
   "id": "4209ff89-6fa9-430d-8b9c-a2cc4ea093e1",
   "metadata": {},
   "outputs": [],
   "source": []
  }
 ],
 "metadata": {
  "kernelspec": {
   "display_name": "Python 3 (ipykernel)",
   "language": "python",
   "name": "python3"
  },
  "language_info": {
   "codemirror_mode": {
    "name": "ipython",
    "version": 3
   },
   "file_extension": ".py",
   "mimetype": "text/x-python",
   "name": "python",
   "nbconvert_exporter": "python",
   "pygments_lexer": "ipython3",
   "version": "3.12.11"
  }
 },
 "nbformat": 4,
 "nbformat_minor": 5
}
