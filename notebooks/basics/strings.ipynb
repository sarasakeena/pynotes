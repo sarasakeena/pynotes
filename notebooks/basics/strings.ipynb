{
 "cells": [
  {
   "cell_type": "code",
   "execution_count": 1,
   "id": "941ee322-6275-4a19-b7ef-226b5e0a303e",
   "metadata": {},
   "outputs": [
    {
     "name": "stdout",
     "output_type": "stream",
     "text": [
      "Original: PythonString1\n",
      "Upper: PYTHONSTRING1\n"
     ]
    }
   ],
   "source": [
    "sample = \"PythonString1\"\n",
    "print(\"Original:\", sample)\n",
    "print(\"Upper:\", sample.upper())"
   ]
  },
  {
   "cell_type": "code",
   "execution_count": 2,
   "id": "1be6c919-ef30-4ad4-86b5-769678d79877",
   "metadata": {},
   "outputs": [
    {
     "name": "stdout",
     "output_type": "stream",
     "text": [
      "Original: PythonString1\n",
      "Upper: PYTHONSTRING1\n"
     ]
    }
   ],
   "source": [
    "sample = \"PythonString1\"\n",
    "print(\"Original:\", sample)\n",
    "print(\"Upper:\", sample.upper())"
   ]
  },
  {
   "cell_type": "code",
   "execution_count": 3,
   "id": "e431e0a5-3436-4e31-b3d7-0108df01f7ad",
   "metadata": {},
   "outputs": [
    {
     "name": "stdout",
     "output_type": "stream",
     "text": [
      "Lower: pythonstring2\n"
     ]
    }
   ],
   "source": [
    "sample = \"PythonString2\"\n",
    "print(\"Lower:\", sample.lower())"
   ]
  },
  {
   "cell_type": "code",
   "execution_count": 4,
   "id": "f4a8f495-9996-43b7-985d-bd04781ce8c9",
   "metadata": {},
   "outputs": [
    {
     "name": "stdout",
     "output_type": "stream",
     "text": [
      "Reversed: 4gnirtSnohtyP\n"
     ]
    }
   ],
   "source": [
    "sample = \"PythonString4\"\n",
    "print(\"Reversed:\", sample[::-1])"
   ]
  },
  {
   "cell_type": "code",
   "execution_count": 5,
   "id": "089de30d-e16c-40e3-b03b-ac8873ecc1b5",
   "metadata": {},
   "outputs": [
    {
     "name": "stdout",
     "output_type": "stream",
     "text": [
      "Slice 2–6: thon\n"
     ]
    }
   ],
   "source": [
    "# Cell 5\n",
    "sample = \"PythonString5\"\n",
    "print(\"Slice 2–6:\", sample[2:6])"
   ]
  },
  {
   "cell_type": "code",
   "execution_count": 6,
   "id": "f5b92915-a138-439c-9b50-26d6b2d5dbd0",
   "metadata": {},
   "outputs": [
    {
     "name": "stdout",
     "output_type": "stream",
     "text": [
      "Replace 'o' with '@': Pyth@nString6\n"
     ]
    }
   ],
   "source": [
    "sample = \"PythonString6\"\n",
    "print(\"Replace 'o' with '@':\", sample.replace('o', '@'))"
   ]
  },
  {
   "cell_type": "code",
   "execution_count": 7,
   "id": "518d744f-6a2a-4ed5-9df7-deede186f673",
   "metadata": {},
   "outputs": [
    {
     "name": "stdout",
     "output_type": "stream",
     "text": [
      "Count 'n': 2\n"
     ]
    }
   ],
   "source": [
    "sample = \"PythonString7\"\n",
    "print(\"Count 'n':\", sample.count('n'))"
   ]
  },
  {
   "cell_type": "code",
   "execution_count": 8,
   "id": "ee57546d-a259-4009-917c-32d1d1ddd944",
   "metadata": {},
   "outputs": [
    {
     "name": "stdout",
     "output_type": "stream",
     "text": [
      "Ends with 'g': False\n"
     ]
    }
   ],
   "source": [
    "sample = \"PythonString8\"\n",
    "print(\"Ends with 'g':\", sample.endswith('g'))"
   ]
  },
  {
   "cell_type": "code",
   "execution_count": 9,
   "id": "1a1b91e0-e57f-4471-ad83-b1612041ad71",
   "metadata": {},
   "outputs": [
    {
     "ename": "SyntaxError",
     "evalue": "incomplete input (743960663.py, line 2)",
     "output_type": "error",
     "traceback": [
      "  \u001b[36mCell\u001b[39m\u001b[36m \u001b[39m\u001b[32mIn[9]\u001b[39m\u001b[32m, line 2\u001b[39m\n\u001b[31m    \u001b[39m\u001b[31mprint(\"Starts with 'P':\", sample.startswith('P')\u001b[39m\n                                                    ^\n\u001b[31mSyntaxError\u001b[39m\u001b[31m:\u001b[39m incomplete input\n"
     ]
    }
   ],
   "source": [
    "sample = \"PythonString9\"\n",
    "print(\"Starts with 'P':\", sample.startswith('P')"
   ]
  },
  {
   "cell_type": "code",
   "execution_count": 10,
   "id": "a27e0231-04d4-4633-8b2e-8e4aeba7f9ea",
   "metadata": {},
   "outputs": [
    {
     "name": "stdout",
     "output_type": "stream",
     "text": [
      "Title: Pythonstring10\n"
     ]
    }
   ],
   "source": [
    "sample = \"PythonString10\"\n",
    "print(\"Title:\", sample.title())"
   ]
  },
  {
   "cell_type": "code",
   "execution_count": 11,
   "id": "a2a83626-2ad2-4ac6-9988-ae929f8b8d80",
   "metadata": {},
   "outputs": [
    {
     "name": "stdout",
     "output_type": "stream",
     "text": [
      "Swapcase: pYTHONsTRING11\n"
     ]
    }
   ],
   "source": [
    "sample = \"PythonString11\"\n",
    "print(\"Swapcase:\", sample.swapcase())"
   ]
  },
  {
   "cell_type": "code",
   "execution_count": 12,
   "id": "ce7cb309-e0b5-4664-b81c-94c6ce30e866",
   "metadata": {},
   "outputs": [
    {
     "name": "stdout",
     "output_type": "stream",
     "text": [
      "Center (20): ---PythonString12---\n"
     ]
    }
   ],
   "source": [
    "sample = \"PythonString12\"\n",
    "print(\"Center (20):\", sample.center(20, \"-\"))"
   ]
  },
  {
   "cell_type": "code",
   "execution_count": 13,
   "id": "ce80bd04-ec87-4bb8-98be-2b82963ef944",
   "metadata": {},
   "outputs": [
    {
     "name": "stdout",
     "output_type": "stream",
     "text": [
      "Find 't': 2\n"
     ]
    }
   ],
   "source": [
    "sample = \"PythonString13\"\n",
    "print(\"Find 't':\", sample.find('t'))"
   ]
  },
  {
   "cell_type": "code",
   "execution_count": null,
   "id": "2f9f41fc-b86f-46f9-a7f2-492239ef1354",
   "metadata": {},
   "outputs": [],
   "source": []
  },
  {
   "cell_type": "code",
   "execution_count": 14,
   "id": "29a963bf-a548-47c9-92a0-7346d4965bea",
   "metadata": {},
   "outputs": [
    {
     "name": "stdout",
     "output_type": "stream",
     "text": [
      "Zfill (20): 000000PythonString14\n"
     ]
    }
   ],
   "source": [
    "sample = \"PythonString14\"\n",
    "print(\"Zfill (20):\", sample.zfill(20))"
   ]
  },
  {
   "cell_type": "code",
   "execution_count": 15,
   "id": "7813daee-a1d5-48bb-832e-29937dc6118c",
   "metadata": {},
   "outputs": [
    {
     "name": "stdout",
     "output_type": "stream",
     "text": [
      "Encode: b'PythonString15'\n"
     ]
    }
   ],
   "source": [
    "# Cell 15\n",
    "sample = \"PythonString15\"\n",
    "print(\"Encode:\", sample.encode())"
   ]
  },
  {
   "cell_type": "code",
   "execution_count": 16,
   "id": "6878af87-387f-4959-8a13-8dc59a50b751",
   "metadata": {},
   "outputs": [
    {
     "name": "stdout",
     "output_type": "stream",
     "text": [
      "IsUpper: False\n"
     ]
    }
   ],
   "source": [
    "sample = \"PythonString16\"\n",
    "print(\"IsUpper:\", sample.isupper())"
   ]
  },
  {
   "cell_type": "code",
   "execution_count": 17,
   "id": "24ae649d-4555-4c35-9b97-8080209db627",
   "metadata": {},
   "outputs": [
    {
     "name": "stdout",
     "output_type": "stream",
     "text": [
      "IsUpper: False\n"
     ]
    }
   ],
   "source": [
    "sample = \"PythonString16\"\n",
    "print(\"IsUpper:\", sample.isupper())"
   ]
  },
  {
   "cell_type": "code",
   "execution_count": 18,
   "id": "9d72d1a4-e82a-49f4-9717-5068c254a8b3",
   "metadata": {},
   "outputs": [
    {
     "name": "stdout",
     "output_type": "stream",
     "text": [
      "IsLower: False\n"
     ]
    }
   ],
   "source": [
    "sample = \"PythonString17\"\n",
    "print(\"IsLower:\", sample.islower())"
   ]
  },
  {
   "cell_type": "code",
   "execution_count": 19,
   "id": "e5b30bcf-db28-492e-b10f-329416e33d70",
   "metadata": {},
   "outputs": [
    {
     "name": "stdout",
     "output_type": "stream",
     "text": [
      "Index of 'h': 3\n"
     ]
    }
   ],
   "source": [
    "sample = \"PythonString20\"\n",
    "print(\"Index of 'h':\", sample.index('h'))"
   ]
  },
  {
   "cell_type": "code",
   "execution_count": 20,
   "id": "39b5ee8b-64ae-4539-8b6a-3841a2cc95ad",
   "metadata": {},
   "outputs": [
    {
     "name": "stdout",
     "output_type": "stream",
     "text": [
      "Partition: ('Pytho', 'n', 'String21')\n"
     ]
    }
   ],
   "source": [
    "sample = \"PythonString21\"\n",
    "print(\"Partition:\", sample.partition(\"n\"))"
   ]
  },
  {
   "cell_type": "code",
   "execution_count": 21,
   "id": "89ab46a9-6e04-4e94-95aa-79b655128bbd",
   "metadata": {},
   "outputs": [
    {
     "name": "stdout",
     "output_type": "stream",
     "text": [
      "Ljust (20): PythonString23******\n"
     ]
    }
   ],
   "source": [
    "sample = \"PythonString23\"\n",
    "print(\"Ljust (20):\", sample.ljust(20, \"*\"))"
   ]
  },
  {
   "cell_type": "code",
   "execution_count": 22,
   "id": "88ee66f2-7ea4-47b8-b26c-b0fd77848a0b",
   "metadata": {},
   "outputs": [
    {
     "name": "stdout",
     "output_type": "stream",
     "text": [
      "Rjust (20): ******PythonString22\n"
     ]
    }
   ],
   "source": [
    "sample = \"PythonString22\"\n",
    "print(\"Rjust (20):\", sample.rjust(20, \"*\"))"
   ]
  },
  {
   "cell_type": "code",
   "execution_count": 23,
   "id": "8d25b021-d214-4552-a48c-c12cf152457b",
   "metadata": {},
   "outputs": [
    {
     "name": "stdout",
     "output_type": "stream",
     "text": [
      "Rjust (20): ******PythonString22\n"
     ]
    }
   ],
   "source": [
    "sample = \"PythonString22\"\n",
    "print(\"Rjust (20):\", sample.rjust(20, \"*\"))"
   ]
  },
  {
   "cell_type": "code",
   "execution_count": 24,
   "id": "996846db-f58e-44df-aa5f-6496a6b2a77a",
   "metadata": {},
   "outputs": [
    {
     "name": "stdout",
     "output_type": "stream",
     "text": [
      "Isdecimal: False\n"
     ]
    }
   ],
   "source": [
    "sample = \"PythonString26\"\n",
    "print(\"Isdecimal:\", sample.isdecimal())"
   ]
  },
  {
   "cell_type": "code",
   "execution_count": 25,
   "id": "3f6b27a0-16d4-4ec6-8a73-664d18ba2d20",
   "metadata": {},
   "outputs": [
    {
     "name": "stdout",
     "output_type": "stream",
     "text": [
      "Isidentifier: True\n"
     ]
    }
   ],
   "source": [
    "sample = \"PythonString27\"\n",
    "print(\"Isidentifier:\", sample.isidentifier())"
   ]
  },
  {
   "cell_type": "code",
   "execution_count": 26,
   "id": "915cc548-e553-4db1-8be3-270431bd2e63",
   "metadata": {},
   "outputs": [
    {
     "name": "stdout",
     "output_type": "stream",
     "text": [
      "Isidentifier: True\n"
     ]
    }
   ],
   "source": [
    "sample = \"PythonString28\"\n",
    "print(\"Isidentifier:\", sample.isidentifier())"
   ]
  },
  {
   "cell_type": "code",
   "execution_count": 27,
   "id": "6bf680b8-8d5f-40c7-a682-c85a886f923e",
   "metadata": {},
   "outputs": [
    {
     "name": "stdout",
     "output_type": "stream",
     "text": [
      "Expandtabs: Python  String\n"
     ]
    }
   ],
   "source": [
    "sample = \"PythonString29\"\n",
    "print(\"Expandtabs:\", \"Python\\tString\".expandtabs(4))\n"
   ]
  },
  {
   "cell_type": "code",
   "execution_count": 28,
   "id": "c5bd22ae-adb5-414a-b52b-8724cd3bce0d",
   "metadata": {},
   "outputs": [
    {
     "name": "stdout",
     "output_type": "stream",
     "text": [
      "Translate (remove 'o'): PythnString30\n"
     ]
    }
   ],
   "source": [
    "sample = \"PythonString30\"\n",
    "print(\"Translate (remove 'o'):\", sample.translate(str.maketrans(\"\", \"\", \"o\")))\n"
   ]
  },
  {
   "cell_type": "code",
   "execution_count": 29,
   "id": "67348a28-71f6-4f3c-9ba7-a63186393b92",
   "metadata": {},
   "outputs": [
    {
     "name": "stdout",
     "output_type": "stream",
     "text": [
      "Replace 'P' with 'X': XythonString31\n"
     ]
    }
   ],
   "source": [
    "sample = \"PythonString31\"\n",
    "print(\"Replace 'P' with 'X':\", sample.replace(\"P\", \"X\"))\n"
   ]
  },
  {
   "cell_type": "code",
   "execution_count": 30,
   "id": "bd0a25cb-f52b-4edf-8102-b19981c201d9",
   "metadata": {},
   "outputs": [
    {
     "name": "stdout",
     "output_type": "stream",
     "text": [
      "Strip: PythonString32\n"
     ]
    }
   ],
   "source": [
    "# Cell 32\n",
    "sample = \"PythonString32\"\n",
    "print(\"Strip:\", f\"   {sample}   \".strip())"
   ]
  },
  {
   "cell_type": "code",
   "execution_count": 31,
   "id": "4316b0b5-8a80-4c82-9476-d313b01b94ea",
   "metadata": {},
   "outputs": [
    {
     "name": "stdout",
     "output_type": "stream",
     "text": [
      "Rstrip:    PythonString33\n"
     ]
    }
   ],
   "source": [
    "sample = \"PythonString33\"\n",
    "print(\"Rstrip:\", f\"   {sample}   \".rstrip())"
   ]
  },
  {
   "cell_type": "code",
   "execution_count": 32,
   "id": "ddaf1d1f-5ee6-447d-be38-03dbfec11ac3",
   "metadata": {},
   "outputs": [
    {
     "name": "stdout",
     "output_type": "stream",
     "text": [
      "Lstrip: PythonString34   \n"
     ]
    }
   ],
   "source": [
    "sample = \"PythonString34\"\n",
    "print(\"Lstrip:\", f\"   {sample}   \".lstrip())"
   ]
  },
  {
   "cell_type": "code",
   "execution_count": 33,
   "id": "6f83f2c2-7711-41ea-8450-3e1e5f80bb66",
   "metadata": {},
   "outputs": [
    {
     "name": "stdout",
     "output_type": "stream",
     "text": [
      "Casefold: pythonstring35\n"
     ]
    }
   ],
   "source": [
    "sample = \"PythonString35\"\n",
    "print(\"Casefold:\", sample.casefold())"
   ]
  },
  {
   "cell_type": "code",
   "execution_count": 34,
   "id": "401d2bfa-a8b9-4a46-9281-36692c1efda0",
   "metadata": {},
   "outputs": [
    {
     "name": "stdout",
     "output_type": "stream",
     "text": [
      "Count 't': 2\n"
     ]
    }
   ],
   "source": [
    "sample = \"PythonString36\"\n",
    "print(\"Count 't':\", sample.count(\"t\"))"
   ]
  },
  {
   "cell_type": "code",
   "execution_count": 35,
   "id": "27a32637-8a7f-48f4-aaf9-a28add4ac530",
   "metadata": {},
   "outputs": [
    {
     "name": "stdout",
     "output_type": "stream",
     "text": [
      "Find 'S': 6\n"
     ]
    }
   ],
   "source": [
    "sample = \"PythonString37\"\n",
    "print(\"Find 'S':\", sample.find(\"S\"))"
   ]
  },
  {
   "cell_type": "code",
   "execution_count": 36,
   "id": "e71bba10-fc38-4796-a201-1105ac406690",
   "metadata": {},
   "outputs": [
    {
     "name": "stdout",
     "output_type": "stream",
     "text": [
      "Rfind 'n': 10\n"
     ]
    }
   ],
   "source": [
    "sample = \"PythonString38\"\n",
    "print(\"Rfind 'n':\", sample.rfind(\"n\"))"
   ]
  },
  {
   "cell_type": "code",
   "execution_count": 37,
   "id": "67e6050d-5a52-4284-b236-962b07e27ea2",
   "metadata": {},
   "outputs": [
    {
     "name": "stdout",
     "output_type": "stream",
     "text": [
      "IsSpace: True\n"
     ]
    }
   ],
   "source": [
    "sample = \"PythonString39\"\n",
    "print(\"IsSpace:\", \"   \".isspace())\n"
   ]
  },
  {
   "cell_type": "code",
   "execution_count": 38,
   "id": "223866ab-624b-4e93-83a9-2e206a56fa3a",
   "metadata": {},
   "outputs": [
    {
     "name": "stdout",
     "output_type": "stream",
     "text": [
      "IsTitle: True\n"
     ]
    }
   ],
   "source": [
    "sample = \"PythonString40\"\n",
    "print(\"IsTitle:\", \"Python Is Cool\".istitle())\n"
   ]
  },
  {
   "cell_type": "code",
   "execution_count": 39,
   "id": "743ed38c-f582-48d1-878d-fa8d6b319e04",
   "metadata": {},
   "outputs": [
    {
     "name": "stdout",
     "output_type": "stream",
     "text": [
      "Startswith 'Py': True\n"
     ]
    }
   ],
   "source": [
    "sample = \"PythonString41\"\n",
    "print(\"Startswith 'Py':\", sample.startswith(\"Py\"))"
   ]
  },
  {
   "cell_type": "code",
   "execution_count": 40,
   "id": "e12e9dbd-c1d4-4516-82fa-56a2bb0e61d6",
   "metadata": {},
   "outputs": [
    {
     "name": "stdout",
     "output_type": "stream",
     "text": [
      "Endswith '42': True\n"
     ]
    }
   ],
   "source": [
    "sample = \"PythonString42\"\n",
    "print(\"Endswith '42':\", sample.endswith(\"42\"))\n"
   ]
  },
  {
   "cell_type": "code",
   "execution_count": 41,
   "id": "f26c8a88-366b-46df-9b65-278a8277dbb8",
   "metadata": {},
   "outputs": [
    {
     "name": "stdout",
     "output_type": "stream",
     "text": [
      "Length: 14\n"
     ]
    }
   ],
   "source": [
    "sample = \"PythonString43\"\n",
    "print(\"Length:\", len(sample))\n"
   ]
  },
  {
   "cell_type": "code",
   "execution_count": 42,
   "id": "6669bc10-6453-4c06-a990-3a1cfc7946a3",
   "metadata": {},
   "outputs": [
    {
     "name": "stdout",
     "output_type": "stream",
     "text": [
      "Multiply * 2: PythonString44PythonString44\n"
     ]
    }
   ],
   "source": [
    "sample = \"PythonString44\"\n",
    "print(\"Multiply * 2:\", sample * 2)"
   ]
  },
  {
   "cell_type": "code",
   "execution_count": 43,
   "id": "d0247cd2-406f-4e0e-9b5c-cdf3277cd8c8",
   "metadata": {},
   "outputs": [
    {
     "name": "stdout",
     "output_type": "stream",
     "text": [
      "In Operator ('on' in str): True\n"
     ]
    }
   ],
   "source": [
    "sample = \"PythonString45\"\n",
    "print(\"In Operator ('on' in str):\", \"on\" in sample)\n"
   ]
  },
  {
   "cell_type": "code",
   "execution_count": 44,
   "id": "ad7ebf0e-1c76-4fa7-9a6d-9ab51797d230",
   "metadata": {},
   "outputs": [
    {
     "name": "stdout",
     "output_type": "stream",
     "text": [
      "Convert to List: ['P', 'y', 't', 'h', 'o', 'n', 'S', 't', 'r', 'i', 'n', 'g', '4', '6']\n"
     ]
    }
   ],
   "source": [
    "sample = \"PythonString46\"\n",
    "print(\"Convert to List:\", list(sample))"
   ]
  },
  {
   "cell_type": "code",
   "execution_count": 45,
   "id": "bfa59ec7-b370-4c0e-a36c-0fe0764e7863",
   "metadata": {},
   "outputs": [
    {
     "name": "stdout",
     "output_type": "stream",
     "text": [
      "Convert to List: ['P', 'y', 't', 'h', 'o', 'n', 'S', 't', 'r', 'i', 'n', 'g', '4', '6']\n"
     ]
    }
   ],
   "source": [
    "sample = \"PythonString46\"\n",
    "print(\"Convert to List:\", list(sample))"
   ]
  },
  {
   "cell_type": "code",
   "execution_count": 46,
   "id": "565ad378-3e7e-4066-9f31-a7027d380b71",
   "metadata": {},
   "outputs": [
    {
     "name": "stdout",
     "output_type": "stream",
     "text": [
      "Count 'i': 1\n"
     ]
    }
   ],
   "source": [
    "sample = \"PythonString47\"\n",
    "print(\"Count 'i':\", sample.count(\"i\"))"
   ]
  },
  {
   "cell_type": "code",
   "execution_count": 47,
   "id": "4adadbb8-74e1-4ae2-936d-e264e3058fb8",
   "metadata": {},
   "outputs": [
    {
     "name": "stdout",
     "output_type": "stream",
     "text": [
      "Count 'g': 1\n"
     ]
    }
   ],
   "source": [
    "sample = \"PythonString48\"\n",
    "print(\"Count 'g':\", sample.count(\"g\"))"
   ]
  },
  {
   "cell_type": "code",
   "execution_count": 48,
   "id": "3c966d55-44d6-4324-9c99-f7c92d3193fc",
   "metadata": {},
   "outputs": [
    {
     "name": "stdout",
     "output_type": "stream",
     "text": [
      "Count 'z': 0\n"
     ]
    }
   ],
   "source": [
    "sample = \"PythonString50\"\n",
    "print(\"Count 'z':\", sample.count(\"z\"))\n"
   ]
  },
  {
   "cell_type": "code",
   "execution_count": 49,
   "id": "372146f9-9167-49dc-b427-283079e9bc60",
   "metadata": {},
   "outputs": [
    {
     "name": "stdout",
     "output_type": "stream",
     "text": [
      "Count 'z': 0\n"
     ]
    }
   ],
   "source": [
    "sample = \"PythonString50\"\n",
    "print(\"Count 'z':\", sample.count(\"z\"))\n"
   ]
  },
  {
   "cell_type": "code",
   "execution_count": 50,
   "id": "3e59d3bd-356f-4f71-92b3-96b25567de9a",
   "metadata": {},
   "outputs": [
    {
     "name": "stdout",
     "output_type": "stream",
     "text": [
      "All Upper: False\n"
     ]
    }
   ],
   "source": [
    "sample = \"PythonString51\"\n",
    "print(\"All Upper:\", sample.upper() == sample)"
   ]
  },
  {
   "cell_type": "code",
   "execution_count": 51,
   "id": "11d8ae83-528b-4ff9-b38c-95942a516681",
   "metadata": {},
   "outputs": [
    {
     "name": "stdout",
     "output_type": "stream",
     "text": [
      "All Lower: False\n"
     ]
    }
   ],
   "source": [
    "sample = \"PythonString52\"\n",
    "print(\"All Lower:\", sample.lower() == sample)"
   ]
  },
  {
   "cell_type": "code",
   "execution_count": 52,
   "id": "bc6d70bb-e04a-44c8-bfd1-0dfc94c87165",
   "metadata": {},
   "outputs": [
    {
     "name": "stdout",
     "output_type": "stream",
     "text": [
      "Only alphabets: False\n"
     ]
    }
   ],
   "source": [
    "sample = \"PythonString53\"\n",
    "print(\"Only alphabets:\", sample.isalpha())\n"
   ]
  },
  {
   "cell_type": "code",
   "execution_count": 53,
   "id": "27b499c7-3ad5-4df2-bf90-949b8740542a",
   "metadata": {},
   "outputs": [
    {
     "name": "stdout",
     "output_type": "stream",
     "text": [
      "Only digits: False\n"
     ]
    }
   ],
   "source": [
    "sample = \"PythonString54\"\n",
    "print(\"Only digits:\", sample.isdigit())\n"
   ]
  },
  {
   "cell_type": "code",
   "execution_count": 54,
   "id": "54cd1f2a-edc3-4145-8e34-0e26d8166b80",
   "metadata": {},
   "outputs": [
    {
     "name": "stdout",
     "output_type": "stream",
     "text": [
      "Only alnum: True\n"
     ]
    }
   ],
   "source": [
    "sample = \"PythonString55\"\n",
    "print(\"Only alnum:\", sample.isalnum())"
   ]
  },
  {
   "cell_type": "code",
   "execution_count": 55,
   "id": "fdc2f5a7-9331-4477-a1c0-57b80dea2e30",
   "metadata": {},
   "outputs": [
    {
     "name": "stdout",
     "output_type": "stream",
     "text": [
      "Replace 't' with '*': Py*honS*ring56\n"
     ]
    }
   ],
   "source": [
    "sample = \"PythonString56\"\n",
    "print(\"Replace 't' with '*':\", sample.replace(\"t\", \"*\"))"
   ]
  },
  {
   "cell_type": "code",
   "execution_count": 56,
   "id": "955c07ab-00b6-47f2-9e13-85f031074189",
   "metadata": {},
   "outputs": [
    {
     "name": "stdout",
     "output_type": "stream",
     "text": [
      "Count of vowels: 2\n"
     ]
    }
   ],
   "source": [
    "sample = \"PythonString57\"\n",
    "print(\"Count of vowels:\", sum(sample.count(v) for v in \"aeiouAEIOU\"))"
   ]
  },
  {
   "cell_type": "code",
   "execution_count": 57,
   "id": "fbbab6ac-c43f-4c28-a23c-1a069d770eee",
   "metadata": {},
   "outputs": [
    {
     "name": "stdout",
     "output_type": "stream",
     "text": [
      "ASCII sum: 1382\n"
     ]
    }
   ],
   "source": [
    "sample = \"PythonString58\"\n",
    "print(\"ASCII sum:\", sum(ord(c) for c in sample))"
   ]
  },
  {
   "cell_type": "code",
   "execution_count": 58,
   "id": "6256453e-2552-404e-b146-aff6595ce854",
   "metadata": {},
   "outputs": [
    {
     "name": "stdout",
     "output_type": "stream",
     "text": [
      "Check 'String' in value: True\n"
     ]
    }
   ],
   "source": [
    "sample = \"PythonString59\"\n",
    "print(\"Check 'String' in value:\", \"String\" in sample)"
   ]
  },
  {
   "cell_type": "code",
   "execution_count": 59,
   "id": "fbd19137-5edb-438d-9909-21ff9c7128e5",
   "metadata": {},
   "outputs": [
    {
     "name": "stdout",
     "output_type": "stream",
     "text": [
      "Max char: y\n"
     ]
    }
   ],
   "source": [
    "sample = \"PythonString61\"\n",
    "print(\"Max char:\", max(sample))"
   ]
  },
  {
   "cell_type": "code",
   "execution_count": 60,
   "id": "67f1b50a-5b78-4c61-885c-c76e6741751e",
   "metadata": {},
   "outputs": [
    {
     "name": "stdout",
     "output_type": "stream",
     "text": [
      "Min char: 2\n"
     ]
    }
   ],
   "source": [
    "sample = \"PythonString62\"\n",
    "print(\"Min char:\", min(sample))"
   ]
  },
  {
   "cell_type": "code",
   "execution_count": 61,
   "id": "b7a523ae-5ecd-41e7-a840-e0ce10a17b85",
   "metadata": {},
   "outputs": [
    {
     "name": "stdout",
     "output_type": "stream",
     "text": [
      "String multiplied: PythonString63PythonString63PythonString63\n"
     ]
    }
   ],
   "source": [
    "sample = \"PythonString63\"\n",
    "print(\"String multiplied:\", sample * 3)"
   ]
  },
  {
   "cell_type": "code",
   "execution_count": 62,
   "id": "2cccfc28-7b47-4ab7-ab3d-48b79fe94613",
   "metadata": {},
   "outputs": [
    {
     "name": "stdout",
     "output_type": "stream",
     "text": [
      "First char: P\n"
     ]
    }
   ],
   "source": [
    "sample = \"PythonString64\"\n",
    "print(\"First char:\", sample[0])"
   ]
  },
  {
   "cell_type": "code",
   "execution_count": 63,
   "id": "32b5c43f-1d19-45e1-9474-57a1503e49e8",
   "metadata": {},
   "outputs": [
    {
     "name": "stdout",
     "output_type": "stream",
     "text": [
      "Last char: 5\n"
     ]
    }
   ],
   "source": [
    "sample = \"PythonString65\"\n",
    "print(\"Last char:\", sample[-1])"
   ]
  },
  {
   "cell_type": "code",
   "execution_count": 64,
   "id": "46203d03-af4d-4476-a9aa-c2d3ba9f8458",
   "metadata": {},
   "outputs": [
    {
     "name": "stdout",
     "output_type": "stream",
     "text": [
      "Slice last 3: g66\n"
     ]
    }
   ],
   "source": [
    "sample = \"PythonString66\"\n",
    "print(\"Slice last 3:\", sample[-3:])"
   ]
  },
  {
   "cell_type": "code",
   "execution_count": 65,
   "id": "5062a49f-8ad0-4ea0-95c3-cb6fe9f6b48e",
   "metadata": {},
   "outputs": [
    {
     "name": "stdout",
     "output_type": "stream",
     "text": [
      "Slice middle: honSt\n"
     ]
    }
   ],
   "source": [
    "sample = \"PythonString67\"\n",
    "print(\"Slice middle:\", sample[3:8])"
   ]
  },
  {
   "cell_type": "code",
   "execution_count": 66,
   "id": "6fc30717-5f9f-4e02-863c-d6baec07d656",
   "metadata": {},
   "outputs": [
    {
     "name": "stdout",
     "output_type": "stream",
     "text": [
      "Slice even index: PtoSrn6\n"
     ]
    }
   ],
   "source": [
    "sample = \"PythonString68\"\n",
    "print(\"Slice even index:\", sample[::2])"
   ]
  },
  {
   "cell_type": "code",
   "execution_count": 67,
   "id": "181b84fd-9bc2-482a-a669-20bcbc20351b",
   "metadata": {},
   "outputs": [
    {
     "name": "stdout",
     "output_type": "stream",
     "text": [
      "Slice odd index: yhntig9\n"
     ]
    }
   ],
   "source": [
    "sample = \"PythonString69\"\n",
    "print(\"Slice odd index:\", sample[1::2])"
   ]
  },
  {
   "cell_type": "code",
   "execution_count": 68,
   "id": "98899176-d8d8-46aa-8bd9-5641d164ca4f",
   "metadata": {},
   "outputs": [
    {
     "name": "stdout",
     "output_type": "stream",
     "text": [
      "Replace 'n' with 'Z': PythoZStriZg70\n"
     ]
    }
   ],
   "source": [
    "sample = \"PythonString70\"\n",
    "print(\"Replace 'n' with 'Z':\", sample.replace('n', 'Z'))"
   ]
  },
  {
   "cell_type": "code",
   "execution_count": 69,
   "id": "3d57cbbe-d336-4bb0-9d7a-aea6891915f4",
   "metadata": {},
   "outputs": [
    {
     "name": "stdout",
     "output_type": "stream",
     "text": [
      "Make binary of each char: ['0b1010000', '0b1111001', '0b1110100', '0b1101000', '0b1101111', '0b1101110', '0b1010011', '0b1110100', '0b1110010', '0b1101001', '0b1101110', '0b1100111', '0b110111', '0b110001']\n"
     ]
    }
   ],
   "source": [
    "sample = \"PythonString71\"\n",
    "print(\"Make binary of each char:\", [bin(ord(c)) for c in sample])\n",
    "\n",
    "# Cell 72"
   ]
  },
  {
   "cell_type": "code",
   "execution_count": 70,
   "id": "e290f253-bcb0-4dd9-b898-f3b66aec9e6a",
   "metadata": {},
   "outputs": [
    {
     "name": "stdout",
     "output_type": "stream",
     "text": [
      "Find index of first vowel: 4\n"
     ]
    }
   ],
   "source": [
    "ample = \"PythonString72\"\n",
    "print(\"Find index of first vowel:\", next((i for i, c in enumerate(sample) if c.lower() in 'aeiou'), -1))\n"
   ]
  },
  {
   "cell_type": "code",
   "execution_count": 71,
   "id": "95cb77b2-e199-4b44-9f71-2dfabf186c47",
   "metadata": {},
   "outputs": [
    {
     "name": "stdout",
     "output_type": "stream",
     "text": [
      "String after removing vowels: PythnStrng73\n"
     ]
    }
   ],
   "source": [
    "sample = \"PythonString73\"\n",
    "print(\"String after removing vowels:\", ''.join([c for c in sample if c.lower() not in 'aeiou']))\n"
   ]
  },
  {
   "cell_type": "code",
   "execution_count": 72,
   "id": "7a5197e1-bf89-4b64-8b83-19d5c4afa574",
   "metadata": {},
   "outputs": [
    {
     "name": "stdout",
     "output_type": "stream",
     "text": [
      "Reverse using loop: 47gnirtSnohtyP\n"
     ]
    }
   ],
   "source": [
    "sample = \"PythonString74\"\n",
    "print(\"Reverse using loop:\", ''.join(reversed(sample)))"
   ]
  },
  {
   "cell_type": "code",
   "execution_count": 73,
   "id": "32c352fc-69c8-4b1a-a5f0-6d0cd636130d",
   "metadata": {},
   "outputs": [
    {
     "name": "stdout",
     "output_type": "stream",
     "text": [
      "String repeated with newlines:\n",
      " PythonString75\n",
      "PythonString75\n",
      "PythonString75\n"
     ]
    }
   ],
   "source": [
    "sample = \"PythonString75\"\n",
    "print(\"String repeated with newlines:\\n\", '\\n'.join([sample] * 3))"
   ]
  },
  {
   "cell_type": "code",
   "execution_count": 74,
   "id": "aef1afb6-296c-44d5-adb1-62ebba9fd126",
   "metadata": {},
   "outputs": [
    {
     "name": "stdout",
     "output_type": "stream",
     "text": [
      "Is numeric: False\n"
     ]
    }
   ],
   "source": [
    "sample = \"PythonString76\"\n",
    "print(\"Is numeric:\", sample.isnumeric())"
   ]
  },
  {
   "cell_type": "code",
   "execution_count": 75,
   "id": "5d24c3c5-ccf2-4040-8dc7-c8afcbd29132",
   "metadata": {},
   "outputs": [
    {
     "name": "stdout",
     "output_type": "stream",
     "text": [
      "String in Title Case: Pythonstring77\n"
     ]
    }
   ],
   "source": [
    "sample = \"PythonString77\"\n",
    "print(\"String in Title Case:\", sample.title())"
   ]
  },
  {
   "cell_type": "code",
   "execution_count": 76,
   "id": "26d89c2f-9d5f-4662-a933-d1011bdf0298",
   "metadata": {},
   "outputs": [
    {
     "name": "stdout",
     "output_type": "stream",
     "text": [
      "Count of 'Py': 1\n"
     ]
    }
   ],
   "source": [
    "sample = \"PythonString78\"\n",
    "print(\"Count of 'Py':\", sample.count('Py'))"
   ]
  },
  {
   "cell_type": "code",
   "execution_count": 77,
   "id": "d3d3ab3a-bd57-44eb-a1f9-8320596821db",
   "metadata": {},
   "outputs": [
    {
     "name": "stdout",
     "output_type": "stream",
     "text": [
      "Count of 'Py': 1\n"
     ]
    }
   ],
   "source": [
    "sample = \"PythonString78\"\n",
    "print(\"Count of 'Py':\", sample.count('Py'))"
   ]
  },
  {
   "cell_type": "code",
   "execution_count": 78,
   "id": "62de7be4-3b32-4002-8025-3101a5794234",
   "metadata": {},
   "outputs": [
    {
     "name": "stdout",
     "output_type": "stream",
     "text": [
      "Number of uppercase letters: 2\n"
     ]
    }
   ],
   "source": [
    "sample = \"PythonString80\"\n",
    "print(\"Number of uppercase letters:\", sum(1 for c in sample if c.isupper()))\n"
   ]
  },
  {
   "cell_type": "code",
   "execution_count": 79,
   "id": "02725139-2223-42ca-bbb2-5d65fd7c80d8",
   "metadata": {},
   "outputs": [
    {
     "name": "stdout",
     "output_type": "stream",
     "text": [
      "Number of uppercase letters: 2\n"
     ]
    }
   ],
   "source": [
    "\n",
    "\n",
    "\n",
    "\n",
    "sample = \"PythonString80\"\n",
    "print(\"Number of uppercase letters:\", sum(1 for c in sample if c.isupper()))\n"
   ]
  },
  {
   "cell_type": "code",
   "execution_count": 80,
   "id": "ad4727f4-b145-4a34-a6aa-b9795777728b",
   "metadata": {},
   "outputs": [
    {
     "name": "stdout",
     "output_type": "stream",
     "text": [
      "Number of lowercase letters: 10\n"
     ]
    }
   ],
   "source": [
    "sample = \"PythonString81\"\n",
    "print(\"Number of lowercase letters:\", sum(1 for c in sample if c.islower()))"
   ]
  },
  {
   "cell_type": "code",
   "execution_count": null,
   "id": "776e1ee2-d31d-44b7-838f-79937bd2f30b",
   "metadata": {},
   "outputs": [],
   "source": []
  },
  {
   "cell_type": "code",
   "execution_count": null,
   "id": "64a4b35f-79d2-4630-8ff5-e9a5624d1eb9",
   "metadata": {},
   "outputs": [],
   "source": []
  },
  {
   "cell_type": "code",
   "execution_count": null,
   "id": "ef5345da-d844-45b0-acc7-bc827d6f63a8",
   "metadata": {},
   "outputs": [],
   "source": []
  },
  {
   "cell_type": "code",
   "execution_count": null,
   "id": "51c43071-0739-4129-bb5f-235fd5a5baa9",
   "metadata": {},
   "outputs": [],
   "source": []
  }
 ],
 "metadata": {
  "kernelspec": {
   "display_name": "Python 3 (ipykernel)",
   "language": "python",
   "name": "python3"
  },
  "language_info": {
   "codemirror_mode": {
    "name": "ipython",
    "version": 3
   },
   "file_extension": ".py",
   "mimetype": "text/x-python",
   "name": "python",
   "nbconvert_exporter": "python",
   "pygments_lexer": "ipython3",
   "version": "3.12.11"
  }
 },
 "nbformat": 4,
 "nbformat_minor": 5
}
