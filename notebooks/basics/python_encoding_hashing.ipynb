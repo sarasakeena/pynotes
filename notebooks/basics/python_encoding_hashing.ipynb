{
 "cells": [
  {
   "cell_type": "code",
   "execution_count": 1,
   "metadata": {},
   "outputs": [
    {
     "ename": "NameError",
     "evalue": "name 'base64' is not defined",
     "output_type": "error",
     "traceback": [
      "\u001b[31m---------------------------------------------------------------------------\u001b[39m",
      "\u001b[31mNameError\u001b[39m                                 Traceback (most recent call last)",
      "\u001b[36mCell\u001b[39m\u001b[36m \u001b[39m\u001b[32mIn[1]\u001b[39m\u001b[32m, line 3\u001b[39m\n\u001b[32m      1\u001b[39m text = \u001b[33m'\u001b[39m\u001b[33micjoksiay\u001b[39m\u001b[33m'\u001b[39m\n\u001b[32m      2\u001b[39m encoding = text.encode(\u001b[33m'\u001b[39m\u001b[33mutf-8\u001b[39m\u001b[33m'\u001b[39m)\n\u001b[32m----> \u001b[39m\u001b[32m3\u001b[39m b64 = \u001b[43mbase64\u001b[49m.b64encode(encoding)\n\u001b[32m      4\u001b[39m \u001b[38;5;28mprint\u001b[39m(b64)\n\u001b[32m      5\u001b[39m decoded = base64.b64decode(b64).decode(\u001b[33m'\u001b[39m\u001b[33mutf-8\u001b[39m\u001b[33m'\u001b[39m)\n",
      "\u001b[31mNameError\u001b[39m: name 'base64' is not defined"
     ]
    }
   ],
   "source": [
    "text = 'icjoksiay'\n",
    "encoding = text.encode('utf-8')\n",
    "b64 = base64.b64encode(encoding)\n",
    "print(b64)\n",
    "decoded = base64.b64decode(b64).decode('utf-8')\n",
    "print(decoded)"
   ]
  },
  {
   "cell_type": "code",
   "execution_count": null,
   "metadata": {},
   "outputs": [],
   "source": [
    "text = 'sfutpuqmru'\n",
    "encoding = text.encode('utf-8')\n",
    "b64 = base64.b64encode(encoding)\n",
    "print(b64)\n",
    "decoded = base64.b64decode(b64).decode('utf-8')\n",
    "print(decoded)"
   ]
  },
  {
   "cell_type": "code",
   "execution_count": null,
   "metadata": {},
   "outputs": [],
   "source": [
    "text = 'hvhveeosgo'\n",
    "encoding = text.encode('utf-8')\n",
    "b64 = base64.b64encode(encoding)\n",
    "print(b64)\n",
    "decoded = base64.b64decode(b64).decode('utf-8')\n",
    "print(decoded)"
   ]
  },
  {
   "cell_type": "code",
   "execution_count": null,
   "metadata": {},
   "outputs": [],
   "source": [
    "text = 'quuyblg'\n",
    "encoding = text.encode('utf-8')\n",
    "b64 = base64.b64encode(encoding)\n",
    "print(b64)\n",
    "decoded = base64.b64decode(b64).decode('utf-8')\n",
    "print(decoded)"
   ]
  },
  {
   "cell_type": "code",
   "execution_count": null,
   "metadata": {},
   "outputs": [],
   "source": [
    "text = 'sfvkqiwyo'\n",
    "encoding = text.encode('utf-8')\n",
    "b64 = base64.b64encode(encoding)\n",
    "print(b64)\n",
    "decoded = base64.b64decode(b64).decode('utf-8')\n",
    "print(decoded)"
   ]
  },
  {
   "cell_type": "code",
   "execution_count": null,
   "metadata": {},
   "outputs": [],
   "source": [
    "text = 'dyzglt'\n",
    "encoding = text.encode('utf-8')\n",
    "b64 = base64.b64encode(encoding)\n",
    "print(b64)\n",
    "decoded = base64.b64decode(b64).decode('utf-8')\n",
    "print(decoded)"
   ]
  },
  {
   "cell_type": "code",
   "execution_count": null,
   "metadata": {},
   "outputs": [],
   "source": [
    "text = 'efmmhq'\n",
    "encoding = text.encode('utf-8')\n",
    "b64 = base64.b64encode(encoding)\n",
    "print(b64)\n",
    "decoded = base64.b64decode(b64).decode('utf-8')\n",
    "print(decoded)"
   ]
  },
  {
   "cell_type": "code",
   "execution_count": null,
   "metadata": {},
   "outputs": [],
   "source": [
    "text = 'rdyonzfcw'\n",
    "encoding = text.encode('utf-8')\n",
    "b64 = base64.b64encode(encoding)\n",
    "print(b64)\n",
    "decoded = base64.b64decode(b64).decode('utf-8')\n",
    "print(decoded)"
   ]
  },
  {
   "cell_type": "code",
   "execution_count": null,
   "metadata": {},
   "outputs": [],
   "source": [
    "text = 'jcpepidho'\n",
    "encoding = text.encode('utf-8')\n",
    "b64 = base64.b64encode(encoding)\n",
    "print(b64)\n",
    "decoded = base64.b64decode(b64).decode('utf-8')\n",
    "print(decoded)"
   ]
  },
  {
   "cell_type": "code",
   "execution_count": null,
   "metadata": {},
   "outputs": [],
   "source": [
    "text = 'kvnukyyr'\n",
    "encoding = text.encode('utf-8')\n",
    "b64 = base64.b64encode(encoding)\n",
    "print(b64)\n",
    "decoded = base64.b64decode(b64).decode('utf-8')\n",
    "print(decoded)"
   ]
  },
  {
   "cell_type": "code",
   "execution_count": null,
   "metadata": {},
   "outputs": [],
   "source": [
    "text = 'bkthemjt'\n",
    "encoding = text.encode('utf-8')\n",
    "b64 = base64.b64encode(encoding)\n",
    "print(b64)\n",
    "decoded = base64.b64decode(b64).decode('utf-8')\n",
    "print(decoded)"
   ]
  },
  {
   "cell_type": "code",
   "execution_count": null,
   "metadata": {},
   "outputs": [],
   "source": [
    "text = 'wnevwmttf'\n",
    "encoding = text.encode('utf-8')\n",
    "b64 = base64.b64encode(encoding)\n",
    "print(b64)\n",
    "decoded = base64.b64decode(b64).decode('utf-8')\n",
    "print(decoded)"
   ]
  },
  {
   "cell_type": "code",
   "execution_count": null,
   "metadata": {},
   "outputs": [],
   "source": [
    "text = 'fbgwuqvim'\n",
    "encoding = text.encode('utf-8')\n",
    "b64 = base64.b64encode(encoding)\n",
    "print(b64)\n",
    "decoded = base64.b64decode(b64).decode('utf-8')\n",
    "print(decoded)"
   ]
  },
  {
   "cell_type": "code",
   "execution_count": null,
   "metadata": {},
   "outputs": [],
   "source": [
    "text = 'eejkp'\n",
    "encoding = text.encode('utf-8')\n",
    "b64 = base64.b64encode(encoding)\n",
    "print(b64)\n",
    "decoded = base64.b64decode(b64).decode('utf-8')\n",
    "print(decoded)"
   ]
  },
  {
   "cell_type": "code",
   "execution_count": null,
   "metadata": {},
   "outputs": [],
   "source": [
    "text = 'pankodmxr'\n",
    "encoding = text.encode('utf-8')\n",
    "b64 = base64.b64encode(encoding)\n",
    "print(b64)\n",
    "decoded = base64.b64decode(b64).decode('utf-8')\n",
    "print(decoded)"
   ]
  },
  {
   "cell_type": "code",
   "execution_count": null,
   "metadata": {},
   "outputs": [],
   "source": [
    "text = 'tqgbmiab'\n",
    "encoding = text.encode('utf-8')\n",
    "b64 = base64.b64encode(encoding)\n",
    "print(b64)\n",
    "decoded = base64.b64decode(b64).decode('utf-8')\n",
    "print(decoded)"
   ]
  },
  {
   "cell_type": "code",
   "execution_count": null,
   "metadata": {},
   "outputs": [],
   "source": [
    "text = 'ybfhlxd'\n",
    "encoding = text.encode('utf-8')\n",
    "b64 = base64.b64encode(encoding)\n",
    "print(b64)\n",
    "decoded = base64.b64decode(b64).decode('utf-8')\n",
    "print(decoded)"
   ]
  },
  {
   "cell_type": "code",
   "execution_count": null,
   "metadata": {},
   "outputs": [],
   "source": [
    "text = 'wxszxiktcf'\n",
    "encoding = text.encode('utf-8')\n",
    "b64 = base64.b64encode(encoding)\n",
    "print(b64)\n",
    "decoded = base64.b64decode(b64).decode('utf-8')\n",
    "print(decoded)"
   ]
  },
  {
   "cell_type": "code",
   "execution_count": null,
   "metadata": {},
   "outputs": [],
   "source": [
    "text = 'vlwrah'\n",
    "encoding = text.encode('utf-8')\n",
    "b64 = base64.b64encode(encoding)\n",
    "print(b64)\n",
    "decoded = base64.b64decode(b64).decode('utf-8')\n",
    "print(decoded)"
   ]
  },
  {
   "cell_type": "code",
   "execution_count": null,
   "metadata": {},
   "outputs": [],
   "source": [
    "text = 'ovpchr'\n",
    "encoding = text.encode('utf-8')\n",
    "b64 = base64.b64encode(encoding)\n",
    "print(b64)\n",
    "decoded = base64.b64decode(b64).decode('utf-8')\n",
    "print(decoded)"
   ]
  },
  {
   "cell_type": "code",
   "execution_count": null,
   "metadata": {},
   "outputs": [],
   "source": [
    "text = 'cwgnjgpu'\n",
    "encoding = text.encode('utf-8')\n",
    "b64 = base64.b64encode(encoding)\n",
    "print(b64)\n",
    "decoded = base64.b64decode(b64).decode('utf-8')\n",
    "print(decoded)"
   ]
  },
  {
   "cell_type": "code",
   "execution_count": null,
   "metadata": {},
   "outputs": [],
   "source": [
    "text = 'uihzrdx'\n",
    "encoding = text.encode('utf-8')\n",
    "b64 = base64.b64encode(encoding)\n",
    "print(b64)\n",
    "decoded = base64.b64decode(b64).decode('utf-8')\n",
    "print(decoded)"
   ]
  },
  {
   "cell_type": "code",
   "execution_count": null,
   "metadata": {},
   "outputs": [],
   "source": [
    "text = 'vnefdkyy'\n",
    "encoding = text.encode('utf-8')\n",
    "b64 = base64.b64encode(encoding)\n",
    "print(b64)\n",
    "decoded = base64.b64decode(b64).decode('utf-8')\n",
    "print(decoded)"
   ]
  },
  {
   "cell_type": "code",
   "execution_count": null,
   "metadata": {},
   "outputs": [],
   "source": [
    "text = 'oeoamsxtgt'\n",
    "encoding = text.encode('utf-8')\n",
    "b64 = base64.b64encode(encoding)\n",
    "print(b64)\n",
    "decoded = base64.b64decode(b64).decode('utf-8')\n",
    "print(decoded)"
   ]
  },
  {
   "cell_type": "code",
   "execution_count": null,
   "metadata": {},
   "outputs": [],
   "source": [
    "text = 'ktsyg'\n",
    "encoding = text.encode('utf-8')\n",
    "b64 = base64.b64encode(encoding)\n",
    "print(b64)\n",
    "decoded = base64.b64decode(b64).decode('utf-8')\n",
    "print(decoded)"
   ]
  },
  {
   "cell_type": "code",
   "execution_count": null,
   "metadata": {},
   "outputs": [],
   "source": [
    "text = 'ojkyzem'\n",
    "encoding = text.encode('utf-8')\n",
    "b64 = base64.b64encode(encoding)\n",
    "print(b64)\n",
    "decoded = base64.b64decode(b64).decode('utf-8')\n",
    "print(decoded)"
   ]
  },
  {
   "cell_type": "code",
   "execution_count": null,
   "metadata": {},
   "outputs": [],
   "source": [
    "text = 'sjpta'\n",
    "encoding = text.encode('utf-8')\n",
    "b64 = base64.b64encode(encoding)\n",
    "print(b64)\n",
    "decoded = base64.b64decode(b64).decode('utf-8')\n",
    "print(decoded)"
   ]
  },
  {
   "cell_type": "code",
   "execution_count": null,
   "metadata": {},
   "outputs": [],
   "source": [
    "text = 'btpemlf'\n",
    "encoding = text.encode('utf-8')\n",
    "b64 = base64.b64encode(encoding)\n",
    "print(b64)\n",
    "decoded = base64.b64decode(b64).decode('utf-8')\n",
    "print(decoded)"
   ]
  },
  {
   "cell_type": "code",
   "execution_count": null,
   "metadata": {},
   "outputs": [],
   "source": [
    "text = 'ukfoagb'\n",
    "encoding = text.encode('utf-8')\n",
    "b64 = base64.b64encode(encoding)\n",
    "print(b64)\n",
    "decoded = base64.b64decode(b64).decode('utf-8')\n",
    "print(decoded)"
   ]
  },
  {
   "cell_type": "code",
   "execution_count": null,
   "metadata": {},
   "outputs": [],
   "source": [
    "text = 'olhbn'\n",
    "encoding = text.encode('utf-8')\n",
    "b64 = base64.b64encode(encoding)\n",
    "print(b64)\n",
    "decoded = base64.b64decode(b64).decode('utf-8')\n",
    "print(decoded)"
   ]
  },
  {
   "cell_type": "code",
   "execution_count": null,
   "metadata": {},
   "outputs": [],
   "source": [
    "text = 'uhrwqvibbf'\n",
    "encoding = text.encode('utf-8')\n",
    "b64 = base64.b64encode(encoding)\n",
    "print(b64)\n",
    "decoded = base64.b64decode(b64).decode('utf-8')\n",
    "print(decoded)"
   ]
  },
  {
   "cell_type": "code",
   "execution_count": null,
   "metadata": {},
   "outputs": [],
   "source": [
    "text = 'cmahfvj'\n",
    "encoding = text.encode('utf-8')\n",
    "b64 = base64.b64encode(encoding)\n",
    "print(b64)\n",
    "decoded = base64.b64decode(b64).decode('utf-8')\n",
    "print(decoded)"
   ]
  },
  {
   "cell_type": "code",
   "execution_count": null,
   "metadata": {},
   "outputs": [],
   "source": [
    "text = 'crymghdoip'\n",
    "encoding = text.encode('utf-8')\n",
    "b64 = base64.b64encode(encoding)\n",
    "print(b64)\n",
    "decoded = base64.b64decode(b64).decode('utf-8')\n",
    "print(decoded)"
   ]
  },
  {
   "cell_type": "code",
   "execution_count": null,
   "metadata": {},
   "outputs": [],
   "source": [
    "text = 'kuuukob'\n",
    "encoding = text.encode('utf-8')\n",
    "b64 = base64.b64encode(encoding)\n",
    "print(b64)\n",
    "decoded = base64.b64decode(b64).decode('utf-8')\n",
    "print(decoded)"
   ]
  },
  {
   "cell_type": "code",
   "execution_count": null,
   "metadata": {},
   "outputs": [],
   "source": [
    "text = 'knuzzernr'\n",
    "encoding = text.encode('utf-8')\n",
    "b64 = base64.b64encode(encoding)\n",
    "print(b64)\n",
    "decoded = base64.b64decode(b64).decode('utf-8')\n",
    "print(decoded)"
   ]
  },
  {
   "cell_type": "code",
   "execution_count": null,
   "metadata": {},
   "outputs": [],
   "source": [
    "text = 'igzrgluppr'\n",
    "encoding = text.encode('utf-8')\n",
    "b64 = base64.b64encode(encoding)\n",
    "print(b64)\n",
    "decoded = base64.b64decode(b64).decode('utf-8')\n",
    "print(decoded)"
   ]
  },
  {
   "cell_type": "code",
   "execution_count": null,
   "metadata": {},
   "outputs": [],
   "source": [
    "text = 'whewfkswg'\n",
    "encoding = text.encode('utf-8')\n",
    "b64 = base64.b64encode(encoding)\n",
    "print(b64)\n",
    "decoded = base64.b64decode(b64).decode('utf-8')\n",
    "print(decoded)"
   ]
  },
  {
   "cell_type": "code",
   "execution_count": null,
   "metadata": {},
   "outputs": [],
   "source": [
    "text = 'wkgjobhpxo'\n",
    "encoding = text.encode('utf-8')\n",
    "b64 = base64.b64encode(encoding)\n",
    "print(b64)\n",
    "decoded = base64.b64decode(b64).decode('utf-8')\n",
    "print(decoded)"
   ]
  },
  {
   "cell_type": "code",
   "execution_count": null,
   "metadata": {},
   "outputs": [],
   "source": [
    "text = 'pzxymue'\n",
    "encoding = text.encode('utf-8')\n",
    "b64 = base64.b64encode(encoding)\n",
    "print(b64)\n",
    "decoded = base64.b64decode(b64).decode('utf-8')\n",
    "print(decoded)"
   ]
  },
  {
   "cell_type": "code",
   "execution_count": null,
   "metadata": {},
   "outputs": [],
   "source": [
    "text = 'cxsrur'\n",
    "encoding = text.encode('utf-8')\n",
    "b64 = base64.b64encode(encoding)\n",
    "print(b64)\n",
    "decoded = base64.b64decode(b64).decode('utf-8')\n",
    "print(decoded)"
   ]
  },
  {
   "cell_type": "code",
   "execution_count": null,
   "metadata": {},
   "outputs": [],
   "source": [
    "text = 'kpwdied'\n",
    "encoding = text.encode('utf-8')\n",
    "b64 = base64.b64encode(encoding)\n",
    "print(b64)\n",
    "decoded = base64.b64decode(b64).decode('utf-8')\n",
    "print(decoded)"
   ]
  },
  {
   "cell_type": "code",
   "execution_count": null,
   "metadata": {},
   "outputs": [],
   "source": [
    "text = 'fzrfnqu'\n",
    "encoding = text.encode('utf-8')\n",
    "b64 = base64.b64encode(encoding)\n",
    "print(b64)\n",
    "decoded = base64.b64decode(b64).decode('utf-8')\n",
    "print(decoded)"
   ]
  },
  {
   "cell_type": "code",
   "execution_count": null,
   "metadata": {},
   "outputs": [],
   "source": [
    "text = 'tdgdr'\n",
    "encoding = text.encode('utf-8')\n",
    "b64 = base64.b64encode(encoding)\n",
    "print(b64)\n",
    "decoded = base64.b64decode(b64).decode('utf-8')\n",
    "print(decoded)"
   ]
  },
  {
   "cell_type": "code",
   "execution_count": null,
   "metadata": {},
   "outputs": [],
   "source": [
    "text = 'xmivdlbhe'\n",
    "encoding = text.encode('utf-8')\n",
    "b64 = base64.b64encode(encoding)\n",
    "print(b64)\n",
    "decoded = base64.b64decode(b64).decode('utf-8')\n",
    "print(decoded)"
   ]
  },
  {
   "cell_type": "code",
   "execution_count": null,
   "metadata": {},
   "outputs": [],
   "source": [
    "text = 'hhyjaufsbd'\n",
    "encoding = text.encode('utf-8')\n",
    "b64 = base64.b64encode(encoding)\n",
    "print(b64)\n",
    "decoded = base64.b64decode(b64).decode('utf-8')\n",
    "print(decoded)"
   ]
  },
  {
   "cell_type": "code",
   "execution_count": null,
   "metadata": {},
   "outputs": [],
   "source": [
    "text = 'topoke'\n",
    "encoding = text.encode('utf-8')\n",
    "b64 = base64.b64encode(encoding)\n",
    "print(b64)\n",
    "decoded = base64.b64decode(b64).decode('utf-8')\n",
    "print(decoded)"
   ]
  },
  {
   "cell_type": "code",
   "execution_count": null,
   "metadata": {},
   "outputs": [],
   "source": [
    "text = 'pedwlrgg'\n",
    "encoding = text.encode('utf-8')\n",
    "b64 = base64.b64encode(encoding)\n",
    "print(b64)\n",
    "decoded = base64.b64decode(b64).decode('utf-8')\n",
    "print(decoded)"
   ]
  },
  {
   "cell_type": "code",
   "execution_count": null,
   "metadata": {},
   "outputs": [],
   "source": [
    "text = 'ztgniwjf'\n",
    "encoding = text.encode('utf-8')\n",
    "b64 = base64.b64encode(encoding)\n",
    "print(b64)\n",
    "decoded = base64.b64decode(b64).decode('utf-8')\n",
    "print(decoded)"
   ]
  },
  {
   "cell_type": "code",
   "execution_count": null,
   "metadata": {},
   "outputs": [],
   "source": [
    "text = 'dtfzhv'\n",
    "encoding = text.encode('utf-8')\n",
    "b64 = base64.b64encode(encoding)\n",
    "print(b64)\n",
    "decoded = base64.b64decode(b64).decode('utf-8')\n",
    "print(decoded)"
   ]
  },
  {
   "cell_type": "code",
   "execution_count": null,
   "metadata": {},
   "outputs": [],
   "source": [
    "text = 'hyxfrtzx'\n",
    "encoding = text.encode('utf-8')\n",
    "b64 = base64.b64encode(encoding)\n",
    "print(b64)\n",
    "decoded = base64.b64decode(b64).decode('utf-8')\n",
    "print(decoded)"
   ]
  },
  {
   "cell_type": "code",
   "execution_count": null,
   "metadata": {},
   "outputs": [],
   "source": [
    "text = 'kywqyz'\n",
    "encoding = text.encode('utf-8')\n",
    "b64 = base64.b64encode(encoding)\n",
    "print(b64)\n",
    "decoded = base64.b64decode(b64).decode('utf-8')\n",
    "print(decoded)"
   ]
  },
  {
   "cell_type": "code",
   "execution_count": null,
   "metadata": {},
   "outputs": [],
   "source": [
    "text = 'cgtva'\n",
    "encoding = text.encode('utf-8')\n",
    "b64 = base64.b64encode(encoding)\n",
    "print(b64)\n",
    "decoded = base64.b64decode(b64).decode('utf-8')\n",
    "print(decoded)"
   ]
  },
  {
   "cell_type": "code",
   "execution_count": null,
   "metadata": {},
   "outputs": [],
   "source": [
    "text = 'rujksr'\n",
    "encoding = text.encode('utf-8')\n",
    "b64 = base64.b64encode(encoding)\n",
    "print(b64)\n",
    "decoded = base64.b64decode(b64).decode('utf-8')\n",
    "print(decoded)"
   ]
  },
  {
   "cell_type": "code",
   "execution_count": null,
   "metadata": {},
   "outputs": [],
   "source": [
    "text = 'fwytlk'\n",
    "encoding = text.encode('utf-8')\n",
    "b64 = base64.b64encode(encoding)\n",
    "print(b64)\n",
    "decoded = base64.b64decode(b64).decode('utf-8')\n",
    "print(decoded)"
   ]
  },
  {
   "cell_type": "code",
   "execution_count": null,
   "metadata": {},
   "outputs": [],
   "source": [
    "text = 'hsbugkn'\n",
    "encoding = text.encode('utf-8')\n",
    "b64 = base64.b64encode(encoding)\n",
    "print(b64)\n",
    "decoded = base64.b64decode(b64).decode('utf-8')\n",
    "print(decoded)"
   ]
  },
  {
   "cell_type": "code",
   "execution_count": null,
   "metadata": {},
   "outputs": [],
   "source": [
    "text = 'umggskwuir'\n",
    "encoding = text.encode('utf-8')\n",
    "b64 = base64.b64encode(encoding)\n",
    "print(b64)\n",
    "decoded = base64.b64decode(b64).decode('utf-8')\n",
    "print(decoded)"
   ]
  },
  {
   "cell_type": "code",
   "execution_count": null,
   "metadata": {},
   "outputs": [],
   "source": [
    "text = 'lrajyiv'\n",
    "encoding = text.encode('utf-8')\n",
    "b64 = base64.b64encode(encoding)\n",
    "print(b64)\n",
    "decoded = base64.b64decode(b64).decode('utf-8')\n",
    "print(decoded)"
   ]
  },
  {
   "cell_type": "code",
   "execution_count": null,
   "metadata": {},
   "outputs": [],
   "source": [
    "text = 'quecd'\n",
    "encoding = text.encode('utf-8')\n",
    "b64 = base64.b64encode(encoding)\n",
    "print(b64)\n",
    "decoded = base64.b64decode(b64).decode('utf-8')\n",
    "print(decoded)"
   ]
  },
  {
   "cell_type": "code",
   "execution_count": null,
   "metadata": {},
   "outputs": [],
   "source": [
    "text = 'auqlkhhia'\n",
    "encoding = text.encode('utf-8')\n",
    "b64 = base64.b64encode(encoding)\n",
    "print(b64)\n",
    "decoded = base64.b64decode(b64).decode('utf-8')\n",
    "print(decoded)"
   ]
  },
  {
   "cell_type": "code",
   "execution_count": null,
   "metadata": {},
   "outputs": [],
   "source": [
    "text = 'uuvzpf'\n",
    "encoding = text.encode('utf-8')\n",
    "b64 = base64.b64encode(encoding)\n",
    "print(b64)\n",
    "decoded = base64.b64decode(b64).decode('utf-8')\n",
    "print(decoded)"
   ]
  },
  {
   "cell_type": "code",
   "execution_count": null,
   "metadata": {},
   "outputs": [],
   "source": [
    "text = 'zlppizkcql'\n",
    "encoding = text.encode('utf-8')\n",
    "b64 = base64.b64encode(encoding)\n",
    "print(b64)\n",
    "decoded = base64.b64decode(b64).decode('utf-8')\n",
    "print(decoded)"
   ]
  },
  {
   "cell_type": "code",
   "execution_count": null,
   "metadata": {},
   "outputs": [],
   "source": [
    "text = 'pxathnje'\n",
    "encoding = text.encode('utf-8')\n",
    "b64 = base64.b64encode(encoding)\n",
    "print(b64)\n",
    "decoded = base64.b64decode(b64).decode('utf-8')\n",
    "print(decoded)"
   ]
  },
  {
   "cell_type": "code",
   "execution_count": null,
   "metadata": {},
   "outputs": [],
   "source": [
    "text = 'zzklpvhats'\n",
    "encoding = text.encode('utf-8')\n",
    "b64 = base64.b64encode(encoding)\n",
    "print(b64)\n",
    "decoded = base64.b64decode(b64).decode('utf-8')\n",
    "print(decoded)"
   ]
  },
  {
   "cell_type": "code",
   "execution_count": null,
   "metadata": {},
   "outputs": [],
   "source": [
    "text = 'blwlnjoonj'\n",
    "encoding = text.encode('utf-8')\n",
    "b64 = base64.b64encode(encoding)\n",
    "print(b64)\n",
    "decoded = base64.b64decode(b64).decode('utf-8')\n",
    "print(decoded)"
   ]
  },
  {
   "cell_type": "code",
   "execution_count": null,
   "metadata": {},
   "outputs": [],
   "source": [
    "text = 'xzhlvmfq'\n",
    "encoding = text.encode('utf-8')\n",
    "b64 = base64.b64encode(encoding)\n",
    "print(b64)\n",
    "decoded = base64.b64decode(b64).decode('utf-8')\n",
    "print(decoded)"
   ]
  },
  {
   "cell_type": "code",
   "execution_count": null,
   "metadata": {},
   "outputs": [],
   "source": [
    "text = 'yuleinxm'\n",
    "encoding = text.encode('utf-8')\n",
    "b64 = base64.b64encode(encoding)\n",
    "print(b64)\n",
    "decoded = base64.b64decode(b64).decode('utf-8')\n",
    "print(decoded)"
   ]
  },
  {
   "cell_type": "code",
   "execution_count": null,
   "metadata": {},
   "outputs": [],
   "source": [
    "text = 'ogyrfvl'\n",
    "encoding = text.encode('utf-8')\n",
    "b64 = base64.b64encode(encoding)\n",
    "print(b64)\n",
    "decoded = base64.b64decode(b64).decode('utf-8')\n",
    "print(decoded)"
   ]
  },
  {
   "cell_type": "code",
   "execution_count": null,
   "metadata": {},
   "outputs": [],
   "source": [
    "text = 'ghuym'\n",
    "encoding = text.encode('utf-8')\n",
    "b64 = base64.b64encode(encoding)\n",
    "print(b64)\n",
    "decoded = base64.b64decode(b64).decode('utf-8')\n",
    "print(decoded)"
   ]
  },
  {
   "cell_type": "code",
   "execution_count": null,
   "metadata": {},
   "outputs": [],
   "source": [
    "text = 'bcfji'\n",
    "encoding = text.encode('utf-8')\n",
    "b64 = base64.b64encode(encoding)\n",
    "print(b64)\n",
    "decoded = base64.b64decode(b64).decode('utf-8')\n",
    "print(decoded)"
   ]
  },
  {
   "cell_type": "code",
   "execution_count": null,
   "metadata": {},
   "outputs": [],
   "source": [
    "text = 'djsxyun'\n",
    "encoding = text.encode('utf-8')\n",
    "b64 = base64.b64encode(encoding)\n",
    "print(b64)\n",
    "decoded = base64.b64decode(b64).decode('utf-8')\n",
    "print(decoded)"
   ]
  },
  {
   "cell_type": "code",
   "execution_count": null,
   "metadata": {},
   "outputs": [],
   "source": [
    "text = 'txdxgx'\n",
    "encoding = text.encode('utf-8')\n",
    "b64 = base64.b64encode(encoding)\n",
    "print(b64)\n",
    "decoded = base64.b64decode(b64).decode('utf-8')\n",
    "print(decoded)"
   ]
  },
  {
   "cell_type": "code",
   "execution_count": null,
   "metadata": {},
   "outputs": [],
   "source": [
    "text = 'cxxjnvc'\n",
    "encoding = text.encode('utf-8')\n",
    "b64 = base64.b64encode(encoding)\n",
    "print(b64)\n",
    "decoded = base64.b64decode(b64).decode('utf-8')\n",
    "print(decoded)"
   ]
  },
  {
   "cell_type": "code",
   "execution_count": null,
   "metadata": {},
   "outputs": [],
   "source": [
    "text = 'vodnd'\n",
    "encoding = text.encode('utf-8')\n",
    "b64 = base64.b64encode(encoding)\n",
    "print(b64)\n",
    "decoded = base64.b64decode(b64).decode('utf-8')\n",
    "print(decoded)"
   ]
  },
  {
   "cell_type": "code",
   "execution_count": null,
   "metadata": {},
   "outputs": [],
   "source": [
    "text = 'kcdykixl'\n",
    "encoding = text.encode('utf-8')\n",
    "b64 = base64.b64encode(encoding)\n",
    "print(b64)\n",
    "decoded = base64.b64decode(b64).decode('utf-8')\n",
    "print(decoded)"
   ]
  },
  {
   "cell_type": "code",
   "execution_count": null,
   "metadata": {},
   "outputs": [],
   "source": [
    "text = 'kzjxecrc'\n",
    "encoding = text.encode('utf-8')\n",
    "b64 = base64.b64encode(encoding)\n",
    "print(b64)\n",
    "decoded = base64.b64decode(b64).decode('utf-8')\n",
    "print(decoded)"
   ]
  },
  {
   "cell_type": "code",
   "execution_count": null,
   "metadata": {},
   "outputs": [],
   "source": [
    "text = 'mmbrltt'\n",
    "encoding = text.encode('utf-8')\n",
    "b64 = base64.b64encode(encoding)\n",
    "print(b64)\n",
    "decoded = base64.b64decode(b64).decode('utf-8')\n",
    "print(decoded)"
   ]
  },
  {
   "cell_type": "code",
   "execution_count": null,
   "metadata": {},
   "outputs": [],
   "source": [
    "text = 'frpegqb'\n",
    "encoding = text.encode('utf-8')\n",
    "b64 = base64.b64encode(encoding)\n",
    "print(b64)\n",
    "decoded = base64.b64decode(b64).decode('utf-8')\n",
    "print(decoded)"
   ]
  },
  {
   "cell_type": "code",
   "execution_count": null,
   "metadata": {},
   "outputs": [],
   "source": [
    "text = 'prdbazgea'\n",
    "encoding = text.encode('utf-8')\n",
    "b64 = base64.b64encode(encoding)\n",
    "print(b64)\n",
    "decoded = base64.b64decode(b64).decode('utf-8')\n",
    "print(decoded)"
   ]
  },
  {
   "cell_type": "code",
   "execution_count": null,
   "metadata": {},
   "outputs": [],
   "source": [
    "text = 'hckwsaxr'\n",
    "encoding = text.encode('utf-8')\n",
    "b64 = base64.b64encode(encoding)\n",
    "print(b64)\n",
    "decoded = base64.b64decode(b64).decode('utf-8')\n",
    "print(decoded)"
   ]
  },
  {
   "cell_type": "code",
   "execution_count": null,
   "metadata": {},
   "outputs": [],
   "source": [
    "text = 'rhivrvafl'\n",
    "encoding = text.encode('utf-8')\n",
    "b64 = base64.b64encode(encoding)\n",
    "print(b64)\n",
    "decoded = base64.b64decode(b64).decode('utf-8')\n",
    "print(decoded)"
   ]
  },
  {
   "cell_type": "code",
   "execution_count": null,
   "metadata": {},
   "outputs": [],
   "source": [
    "text = 'yeinjkqbcc'\n",
    "encoding = text.encode('utf-8')\n",
    "b64 = base64.b64encode(encoding)\n",
    "print(b64)\n",
    "decoded = base64.b64decode(b64).decode('utf-8')\n",
    "print(decoded)"
   ]
  },
  {
   "cell_type": "code",
   "execution_count": null,
   "metadata": {},
   "outputs": [],
   "source": [
    "text = 'cuozacl'\n",
    "encoding = text.encode('utf-8')\n",
    "b64 = base64.b64encode(encoding)\n",
    "print(b64)\n",
    "decoded = base64.b64decode(b64).decode('utf-8')\n",
    "print(decoded)"
   ]
  },
  {
   "cell_type": "code",
   "execution_count": null,
   "metadata": {},
   "outputs": [],
   "source": [
    "text = 'walorn'\n",
    "encoding = text.encode('utf-8')\n",
    "b64 = base64.b64encode(encoding)\n",
    "print(b64)\n",
    "decoded = base64.b64decode(b64).decode('utf-8')\n",
    "print(decoded)"
   ]
  },
  {
   "cell_type": "code",
   "execution_count": null,
   "metadata": {},
   "outputs": [],
   "source": [
    "text = 'oeavvjf'\n",
    "encoding = text.encode('utf-8')\n",
    "b64 = base64.b64encode(encoding)\n",
    "print(b64)\n",
    "decoded = base64.b64decode(b64).decode('utf-8')\n",
    "print(decoded)"
   ]
  },
  {
   "cell_type": "code",
   "execution_count": null,
   "metadata": {},
   "outputs": [],
   "source": [
    "text = 'gqhrqhfrr'\n",
    "encoding = text.encode('utf-8')\n",
    "b64 = base64.b64encode(encoding)\n",
    "print(b64)\n",
    "decoded = base64.b64decode(b64).decode('utf-8')\n",
    "print(decoded)"
   ]
  },
  {
   "cell_type": "code",
   "execution_count": null,
   "metadata": {},
   "outputs": [],
   "source": [
    "text = 'xclkfefl'\n",
    "encoding = text.encode('utf-8')\n",
    "b64 = base64.b64encode(encoding)\n",
    "print(b64)\n",
    "decoded = base64.b64decode(b64).decode('utf-8')\n",
    "print(decoded)"
   ]
  },
  {
   "cell_type": "code",
   "execution_count": null,
   "metadata": {},
   "outputs": [],
   "source": [
    "text = 'deeqq'\n",
    "encoding = text.encode('utf-8')\n",
    "b64 = base64.b64encode(encoding)\n",
    "print(b64)\n",
    "decoded = base64.b64decode(b64).decode('utf-8')\n",
    "print(decoded)"
   ]
  },
  {
   "cell_type": "code",
   "execution_count": null,
   "metadata": {},
   "outputs": [],
   "source": [
    "text = 'parogi'\n",
    "encoding = text.encode('utf-8')\n",
    "b64 = base64.b64encode(encoding)\n",
    "print(b64)\n",
    "decoded = base64.b64decode(b64).decode('utf-8')\n",
    "print(decoded)"
   ]
  },
  {
   "cell_type": "code",
   "execution_count": null,
   "metadata": {},
   "outputs": [],
   "source": [
    "text = 'ejjtu'\n",
    "encoding = text.encode('utf-8')\n",
    "b64 = base64.b64encode(encoding)\n",
    "print(b64)\n",
    "decoded = base64.b64decode(b64).decode('utf-8')\n",
    "print(decoded)"
   ]
  },
  {
   "cell_type": "code",
   "execution_count": null,
   "metadata": {},
   "outputs": [],
   "source": [
    "text = 'vdskei'\n",
    "encoding = text.encode('utf-8')\n",
    "b64 = base64.b64encode(encoding)\n",
    "print(b64)\n",
    "decoded = base64.b64decode(b64).decode('utf-8')\n",
    "print(decoded)"
   ]
  },
  {
   "cell_type": "code",
   "execution_count": null,
   "metadata": {},
   "outputs": [],
   "source": [
    "text = 'eukkdid'\n",
    "encoding = text.encode('utf-8')\n",
    "b64 = base64.b64encode(encoding)\n",
    "print(b64)\n",
    "decoded = base64.b64decode(b64).decode('utf-8')\n",
    "print(decoded)"
   ]
  },
  {
   "cell_type": "code",
   "execution_count": null,
   "metadata": {},
   "outputs": [],
   "source": [
    "text = 'fclxeeyhe'\n",
    "encoding = text.encode('utf-8')\n",
    "b64 = base64.b64encode(encoding)\n",
    "print(b64)\n",
    "decoded = base64.b64decode(b64).decode('utf-8')\n",
    "print(decoded)"
   ]
  },
  {
   "cell_type": "code",
   "execution_count": null,
   "metadata": {},
   "outputs": [],
   "source": [
    "text = 'ucoykxvmqk'\n",
    "encoding = text.encode('utf-8')\n",
    "b64 = base64.b64encode(encoding)\n",
    "print(b64)\n",
    "decoded = base64.b64decode(b64).decode('utf-8')\n",
    "print(decoded)"
   ]
  },
  {
   "cell_type": "code",
   "execution_count": null,
   "metadata": {},
   "outputs": [],
   "source": [
    "text = 'lehyxkmxrj'\n",
    "encoding = text.encode('utf-8')\n",
    "b64 = base64.b64encode(encoding)\n",
    "print(b64)\n",
    "decoded = base64.b64decode(b64).decode('utf-8')\n",
    "print(decoded)"
   ]
  },
  {
   "cell_type": "code",
   "execution_count": null,
   "metadata": {},
   "outputs": [],
   "source": [
    "text = 'qsjgba'\n",
    "encoding = text.encode('utf-8')\n",
    "b64 = base64.b64encode(encoding)\n",
    "print(b64)\n",
    "decoded = base64.b64decode(b64).decode('utf-8')\n",
    "print(decoded)"
   ]
  },
  {
   "cell_type": "code",
   "execution_count": null,
   "metadata": {},
   "outputs": [],
   "source": [
    "text = 'mrtgq'\n",
    "encoding = text.encode('utf-8')\n",
    "b64 = base64.b64encode(encoding)\n",
    "print(b64)\n",
    "decoded = base64.b64decode(b64).decode('utf-8')\n",
    "print(decoded)"
   ]
  },
  {
   "cell_type": "code",
   "execution_count": null,
   "metadata": {},
   "outputs": [],
   "source": [
    "text = 'gjzet'\n",
    "encoding = text.encode('utf-8')\n",
    "b64 = base64.b64encode(encoding)\n",
    "print(b64)\n",
    "decoded = base64.b64decode(b64).decode('utf-8')\n",
    "print(decoded)"
   ]
  },
  {
   "cell_type": "code",
   "execution_count": null,
   "metadata": {},
   "outputs": [],
   "source": [
    "text = 'vhwkqbe'\n",
    "encoding = text.encode('utf-8')\n",
    "b64 = base64.b64encode(encoding)\n",
    "print(b64)\n",
    "decoded = base64.b64decode(b64).decode('utf-8')\n",
    "print(decoded)"
   ]
  },
  {
   "cell_type": "code",
   "execution_count": null,
   "metadata": {},
   "outputs": [],
   "source": [
    "text = 'idwifhzxxl'\n",
    "encoding = text.encode('utf-8')\n",
    "b64 = base64.b64encode(encoding)\n",
    "print(b64)\n",
    "decoded = base64.b64decode(b64).decode('utf-8')\n",
    "print(decoded)"
   ]
  },
  {
   "cell_type": "code",
   "execution_count": null,
   "metadata": {},
   "outputs": [],
   "source": [
    "text = 'ybyxxxr'\n",
    "encoding = text.encode('utf-8')\n",
    "b64 = base64.b64encode(encoding)\n",
    "print(b64)\n",
    "decoded = base64.b64decode(b64).decode('utf-8')\n",
    "print(decoded)"
   ]
  },
  {
   "cell_type": "code",
   "execution_count": null,
   "metadata": {},
   "outputs": [],
   "source": [
    "text = 'jyevzv'\n",
    "encoding = text.encode('utf-8')\n",
    "b64 = base64.b64encode(encoding)\n",
    "print(b64)\n",
    "decoded = base64.b64decode(b64).decode('utf-8')\n",
    "print(decoded)"
   ]
  },
  {
   "cell_type": "code",
   "execution_count": null,
   "metadata": {},
   "outputs": [],
   "source": [
    "text = 'lkcdrz'\n",
    "encoding = text.encode('utf-8')\n",
    "b64 = base64.b64encode(encoding)\n",
    "print(b64)\n",
    "decoded = base64.b64decode(b64).decode('utf-8')\n",
    "print(decoded)"
   ]
  },
  {
   "cell_type": "code",
   "execution_count": null,
   "metadata": {},
   "outputs": [],
   "source": [
    "text = 'mlqfui'\n",
    "encoding = text.encode('utf-8')\n",
    "b64 = base64.b64encode(encoding)\n",
    "print(b64)\n",
    "decoded = base64.b64decode(b64).decode('utf-8')\n",
    "print(decoded)"
   ]
  },
  {
   "cell_type": "code",
   "execution_count": null,
   "metadata": {},
   "outputs": [],
   "source": [
    "text = 'dugegukxos'\n",
    "encoding = text.encode('utf-8')\n",
    "b64 = base64.b64encode(encoding)\n",
    "print(b64)\n",
    "decoded = base64.b64decode(b64).decode('utf-8')\n",
    "print(decoded)"
   ]
  },
  {
   "cell_type": "code",
   "execution_count": null,
   "metadata": {},
   "outputs": [],
   "source": [
    "text = 'hlagygo'\n",
    "encoding = text.encode('utf-8')\n",
    "b64 = base64.b64encode(encoding)\n",
    "print(b64)\n",
    "decoded = base64.b64decode(b64).decode('utf-8')\n",
    "print(decoded)"
   ]
  },
  {
   "cell_type": "code",
   "execution_count": null,
   "metadata": {},
   "outputs": [],
   "source": [
    "text = 'ckjgfx'\n",
    "encoding = text.encode('utf-8')\n",
    "b64 = base64.b64encode(encoding)\n",
    "print(b64)\n",
    "decoded = base64.b64decode(b64).decode('utf-8')\n",
    "print(decoded)"
   ]
  },
  {
   "cell_type": "code",
   "execution_count": null,
   "metadata": {},
   "outputs": [],
   "source": [
    "text = 'hchpifbzb'\n",
    "encoding = text.encode('utf-8')\n",
    "b64 = base64.b64encode(encoding)\n",
    "print(b64)\n",
    "decoded = base64.b64decode(b64).decode('utf-8')\n",
    "print(decoded)"
   ]
  },
  {
   "cell_type": "code",
   "execution_count": null,
   "metadata": {},
   "outputs": [],
   "source": [
    "text = 'aebabqzgq'\n",
    "encoding = text.encode('utf-8')\n",
    "b64 = base64.b64encode(encoding)\n",
    "print(b64)\n",
    "decoded = base64.b64decode(b64).decode('utf-8')\n",
    "print(decoded)"
   ]
  },
  {
   "cell_type": "code",
   "execution_count": null,
   "metadata": {},
   "outputs": [],
   "source": [
    "text = 'sagjjdyyn'\n",
    "encoding = text.encode('utf-8')\n",
    "b64 = base64.b64encode(encoding)\n",
    "print(b64)\n",
    "decoded = base64.b64decode(b64).decode('utf-8')\n",
    "print(decoded)"
   ]
  },
  {
   "cell_type": "code",
   "execution_count": null,
   "metadata": {},
   "outputs": [],
   "source": [
    "text = 'fluppt'\n",
    "encoding = text.encode('utf-8')\n",
    "b64 = base64.b64encode(encoding)\n",
    "print(b64)\n",
    "decoded = base64.b64decode(b64).decode('utf-8')\n",
    "print(decoded)"
   ]
  },
  {
   "cell_type": "code",
   "execution_count": null,
   "metadata": {},
   "outputs": [],
   "source": [
    "text = 'tidtosgb'\n",
    "encoding = text.encode('utf-8')\n",
    "b64 = base64.b64encode(encoding)\n",
    "print(b64)\n",
    "decoded = base64.b64decode(b64).decode('utf-8')\n",
    "print(decoded)"
   ]
  },
  {
   "cell_type": "code",
   "execution_count": null,
   "metadata": {},
   "outputs": [],
   "source": [
    "text = 'khesmvsfet'\n",
    "encoding = text.encode('utf-8')\n",
    "b64 = base64.b64encode(encoding)\n",
    "print(b64)\n",
    "decoded = base64.b64decode(b64).decode('utf-8')\n",
    "print(decoded)"
   ]
  },
  {
   "cell_type": "code",
   "execution_count": null,
   "metadata": {},
   "outputs": [],
   "source": [
    "text = 'bcidfr'\n",
    "encoding = text.encode('utf-8')\n",
    "b64 = base64.b64encode(encoding)\n",
    "print(b64)\n",
    "decoded = base64.b64decode(b64).decode('utf-8')\n",
    "print(decoded)"
   ]
  },
  {
   "cell_type": "code",
   "execution_count": null,
   "metadata": {},
   "outputs": [],
   "source": [
    "text = 'qthmyer'\n",
    "encoding = text.encode('utf-8')\n",
    "b64 = base64.b64encode(encoding)\n",
    "print(b64)\n",
    "decoded = base64.b64decode(b64).decode('utf-8')\n",
    "print(decoded)"
   ]
  },
  {
   "cell_type": "code",
   "execution_count": null,
   "metadata": {},
   "outputs": [],
   "source": [
    "text = 'gocljnhw'\n",
    "encoding = text.encode('utf-8')\n",
    "b64 = base64.b64encode(encoding)\n",
    "print(b64)\n",
    "decoded = base64.b64decode(b64).decode('utf-8')\n",
    "print(decoded)"
   ]
  },
  {
   "cell_type": "code",
   "execution_count": null,
   "metadata": {},
   "outputs": [],
   "source": [
    "text = 'oeaxfo'\n",
    "encoding = text.encode('utf-8')\n",
    "b64 = base64.b64encode(encoding)\n",
    "print(b64)\n",
    "decoded = base64.b64decode(b64).decode('utf-8')\n",
    "print(decoded)"
   ]
  },
  {
   "cell_type": "code",
   "execution_count": null,
   "metadata": {},
   "outputs": [],
   "source": [
    "text = 'uzntk'\n",
    "encoding = text.encode('utf-8')\n",
    "b64 = base64.b64encode(encoding)\n",
    "print(b64)\n",
    "decoded = base64.b64decode(b64).decode('utf-8')\n",
    "print(decoded)"
   ]
  },
  {
   "cell_type": "code",
   "execution_count": null,
   "metadata": {},
   "outputs": [],
   "source": [
    "text = 'oydrdljzax'\n",
    "encoding = text.encode('utf-8')\n",
    "b64 = base64.b64encode(encoding)\n",
    "print(b64)\n",
    "decoded = base64.b64decode(b64).decode('utf-8')\n",
    "print(decoded)"
   ]
  },
  {
   "cell_type": "code",
   "execution_count": null,
   "metadata": {},
   "outputs": [],
   "source": [
    "text = 'crzffrn'\n",
    "encoding = text.encode('utf-8')\n",
    "b64 = base64.b64encode(encoding)\n",
    "print(b64)\n",
    "decoded = base64.b64decode(b64).decode('utf-8')\n",
    "print(decoded)"
   ]
  },
  {
   "cell_type": "code",
   "execution_count": null,
   "metadata": {},
   "outputs": [],
   "source": [
    "text = 'rozjuy'\n",
    "encoding = text.encode('utf-8')\n",
    "b64 = base64.b64encode(encoding)\n",
    "print(b64)\n",
    "decoded = base64.b64decode(b64).decode('utf-8')\n",
    "print(decoded)"
   ]
  },
  {
   "cell_type": "code",
   "execution_count": null,
   "metadata": {},
   "outputs": [],
   "source": [
    "text = 'lihvuoqfh'\n",
    "encoding = text.encode('utf-8')\n",
    "b64 = base64.b64encode(encoding)\n",
    "print(b64)\n",
    "decoded = base64.b64decode(b64).decode('utf-8')\n",
    "print(decoded)"
   ]
  },
  {
   "cell_type": "code",
   "execution_count": null,
   "metadata": {},
   "outputs": [],
   "source": [
    "text = 'zokku'\n",
    "encoding = text.encode('utf-8')\n",
    "b64 = base64.b64encode(encoding)\n",
    "print(b64)\n",
    "decoded = base64.b64decode(b64).decode('utf-8')\n",
    "print(decoded)"
   ]
  },
  {
   "cell_type": "code",
   "execution_count": null,
   "metadata": {},
   "outputs": [],
   "source": [
    "text = 'qxacwdv'\n",
    "encoding = text.encode('utf-8')\n",
    "b64 = base64.b64encode(encoding)\n",
    "print(b64)\n",
    "decoded = base64.b64decode(b64).decode('utf-8')\n",
    "print(decoded)"
   ]
  },
  {
   "cell_type": "code",
   "execution_count": null,
   "metadata": {},
   "outputs": [],
   "source": [
    "text = 'fjtvft'\n",
    "encoding = text.encode('utf-8')\n",
    "b64 = base64.b64encode(encoding)\n",
    "print(b64)\n",
    "decoded = base64.b64decode(b64).decode('utf-8')\n",
    "print(decoded)"
   ]
  },
  {
   "cell_type": "code",
   "execution_count": null,
   "metadata": {},
   "outputs": [],
   "source": [
    "text = 'oggelvjxy'\n",
    "encoding = text.encode('utf-8')\n",
    "b64 = base64.b64encode(encoding)\n",
    "print(b64)\n",
    "decoded = base64.b64decode(b64).decode('utf-8')\n",
    "print(decoded)"
   ]
  },
  {
   "cell_type": "code",
   "execution_count": null,
   "metadata": {},
   "outputs": [],
   "source": [
    "text = 'qqghbf'\n",
    "encoding = text.encode('utf-8')\n",
    "b64 = base64.b64encode(encoding)\n",
    "print(b64)\n",
    "decoded = base64.b64decode(b64).decode('utf-8')\n",
    "print(decoded)"
   ]
  },
  {
   "cell_type": "code",
   "execution_count": null,
   "metadata": {},
   "outputs": [],
   "source": [
    "text = 'gibmz'\n",
    "encoding = text.encode('utf-8')\n",
    "b64 = base64.b64encode(encoding)\n",
    "print(b64)\n",
    "decoded = base64.b64decode(b64).decode('utf-8')\n",
    "print(decoded)"
   ]
  },
  {
   "cell_type": "code",
   "execution_count": null,
   "metadata": {},
   "outputs": [],
   "source": [
    "text = 'mwhwfuyrfs'\n",
    "encoding = text.encode('utf-8')\n",
    "b64 = base64.b64encode(encoding)\n",
    "print(b64)\n",
    "decoded = base64.b64decode(b64).decode('utf-8')\n",
    "print(decoded)"
   ]
  },
  {
   "cell_type": "code",
   "execution_count": null,
   "metadata": {},
   "outputs": [],
   "source": [
    "text = 'jrrfuim'\n",
    "encoding = text.encode('utf-8')\n",
    "b64 = base64.b64encode(encoding)\n",
    "print(b64)\n",
    "decoded = base64.b64decode(b64).decode('utf-8')\n",
    "print(decoded)"
   ]
  },
  {
   "cell_type": "code",
   "execution_count": null,
   "metadata": {},
   "outputs": [],
   "source": [
    "text = 'gmawbs'\n",
    "encoding = text.encode('utf-8')\n",
    "b64 = base64.b64encode(encoding)\n",
    "print(b64)\n",
    "decoded = base64.b64decode(b64).decode('utf-8')\n",
    "print(decoded)"
   ]
  },
  {
   "cell_type": "code",
   "execution_count": null,
   "metadata": {},
   "outputs": [],
   "source": [
    "text = 'gcpifctsbn'\n",
    "encoding = text.encode('utf-8')\n",
    "b64 = base64.b64encode(encoding)\n",
    "print(b64)\n",
    "decoded = base64.b64decode(b64).decode('utf-8')\n",
    "print(decoded)"
   ]
  },
  {
   "cell_type": "code",
   "execution_count": null,
   "metadata": {},
   "outputs": [],
   "source": [
    "text = 'potsnaajet'\n",
    "encoding = text.encode('utf-8')\n",
    "b64 = base64.b64encode(encoding)\n",
    "print(b64)\n",
    "decoded = base64.b64decode(b64).decode('utf-8')\n",
    "print(decoded)"
   ]
  },
  {
   "cell_type": "code",
   "execution_count": null,
   "metadata": {},
   "outputs": [],
   "source": [
    "text = 'mgtzmh'\n",
    "encoding = text.encode('utf-8')\n",
    "b64 = base64.b64encode(encoding)\n",
    "print(b64)\n",
    "decoded = base64.b64decode(b64).decode('utf-8')\n",
    "print(decoded)"
   ]
  },
  {
   "cell_type": "code",
   "execution_count": null,
   "metadata": {},
   "outputs": [],
   "source": [
    "text = 'xxfvuiu'\n",
    "encoding = text.encode('utf-8')\n",
    "b64 = base64.b64encode(encoding)\n",
    "print(b64)\n",
    "decoded = base64.b64decode(b64).decode('utf-8')\n",
    "print(decoded)"
   ]
  },
  {
   "cell_type": "code",
   "execution_count": null,
   "metadata": {},
   "outputs": [],
   "source": [
    "text = 'xhyzsxla'\n",
    "encoding = text.encode('utf-8')\n",
    "b64 = base64.b64encode(encoding)\n",
    "print(b64)\n",
    "decoded = base64.b64decode(b64).decode('utf-8')\n",
    "print(decoded)"
   ]
  },
  {
   "cell_type": "code",
   "execution_count": null,
   "metadata": {},
   "outputs": [],
   "source": [
    "text = 'ktarjnthfg'\n",
    "encoding = text.encode('utf-8')\n",
    "b64 = base64.b64encode(encoding)\n",
    "print(b64)\n",
    "decoded = base64.b64decode(b64).decode('utf-8')\n",
    "print(decoded)"
   ]
  },
  {
   "cell_type": "code",
   "execution_count": null,
   "metadata": {},
   "outputs": [],
   "source": [
    "text = 'epqbuq'\n",
    "encoding = text.encode('utf-8')\n",
    "b64 = base64.b64encode(encoding)\n",
    "print(b64)\n",
    "decoded = base64.b64decode(b64).decode('utf-8')\n",
    "print(decoded)"
   ]
  },
  {
   "cell_type": "code",
   "execution_count": null,
   "metadata": {},
   "outputs": [],
   "source": [
    "text = 'zlwira'\n",
    "encoding = text.encode('utf-8')\n",
    "b64 = base64.b64encode(encoding)\n",
    "print(b64)\n",
    "decoded = base64.b64decode(b64).decode('utf-8')\n",
    "print(decoded)"
   ]
  },
  {
   "cell_type": "code",
   "execution_count": null,
   "metadata": {},
   "outputs": [],
   "source": [
    "text = 'mtltq'\n",
    "encoding = text.encode('utf-8')\n",
    "b64 = base64.b64encode(encoding)\n",
    "print(b64)\n",
    "decoded = base64.b64decode(b64).decode('utf-8')\n",
    "print(decoded)"
   ]
  },
  {
   "cell_type": "code",
   "execution_count": null,
   "metadata": {},
   "outputs": [],
   "source": [
    "text = 'qqfzmw'\n",
    "encoding = text.encode('utf-8')\n",
    "b64 = base64.b64encode(encoding)\n",
    "print(b64)\n",
    "decoded = base64.b64decode(b64).decode('utf-8')\n",
    "print(decoded)"
   ]
  },
  {
   "cell_type": "code",
   "execution_count": null,
   "metadata": {},
   "outputs": [],
   "source": [
    "text = 'zujkbiwf'\n",
    "encoding = text.encode('utf-8')\n",
    "b64 = base64.b64encode(encoding)\n",
    "print(b64)\n",
    "decoded = base64.b64decode(b64).decode('utf-8')\n",
    "print(decoded)"
   ]
  },
  {
   "cell_type": "code",
   "execution_count": null,
   "metadata": {},
   "outputs": [],
   "source": [
    "text = 'itfwupq'\n",
    "encoding = text.encode('utf-8')\n",
    "b64 = base64.b64encode(encoding)\n",
    "print(b64)\n",
    "decoded = base64.b64decode(b64).decode('utf-8')\n",
    "print(decoded)"
   ]
  },
  {
   "cell_type": "code",
   "execution_count": null,
   "metadata": {},
   "outputs": [],
   "source": [
    "text = 'cmjnzoy'\n",
    "encoding = text.encode('utf-8')\n",
    "b64 = base64.b64encode(encoding)\n",
    "print(b64)\n",
    "decoded = base64.b64decode(b64).decode('utf-8')\n",
    "print(decoded)"
   ]
  },
  {
   "cell_type": "code",
   "execution_count": null,
   "metadata": {},
   "outputs": [],
   "source": [
    "text = 'humqpqg'\n",
    "encoding = text.encode('utf-8')\n",
    "b64 = base64.b64encode(encoding)\n",
    "print(b64)\n",
    "decoded = base64.b64decode(b64).decode('utf-8')\n",
    "print(decoded)"
   ]
  },
  {
   "cell_type": "code",
   "execution_count": null,
   "metadata": {},
   "outputs": [],
   "source": [
    "text = 'fcfsumk'\n",
    "encoding = text.encode('utf-8')\n",
    "b64 = base64.b64encode(encoding)\n",
    "print(b64)\n",
    "decoded = base64.b64decode(b64).decode('utf-8')\n",
    "print(decoded)"
   ]
  },
  {
   "cell_type": "code",
   "execution_count": null,
   "metadata": {},
   "outputs": [],
   "source": [
    "text = 'halgqjntb'\n",
    "encoding = text.encode('utf-8')\n",
    "b64 = base64.b64encode(encoding)\n",
    "print(b64)\n",
    "decoded = base64.b64decode(b64).decode('utf-8')\n",
    "print(decoded)"
   ]
  },
  {
   "cell_type": "code",
   "execution_count": null,
   "metadata": {},
   "outputs": [],
   "source": [
    "text = 'htigzhe'\n",
    "encoding = text.encode('utf-8')\n",
    "b64 = base64.b64encode(encoding)\n",
    "print(b64)\n",
    "decoded = base64.b64decode(b64).decode('utf-8')\n",
    "print(decoded)"
   ]
  },
  {
   "cell_type": "code",
   "execution_count": null,
   "metadata": {},
   "outputs": [],
   "source": [
    "text = 'ysgseyzsno'\n",
    "encoding = text.encode('utf-8')\n",
    "b64 = base64.b64encode(encoding)\n",
    "print(b64)\n",
    "decoded = base64.b64decode(b64).decode('utf-8')\n",
    "print(decoded)"
   ]
  },
  {
   "cell_type": "code",
   "execution_count": null,
   "metadata": {},
   "outputs": [],
   "source": [
    "text = 'rclqpimy'\n",
    "encoding = text.encode('utf-8')\n",
    "b64 = base64.b64encode(encoding)\n",
    "print(b64)\n",
    "decoded = base64.b64decode(b64).decode('utf-8')\n",
    "print(decoded)"
   ]
  },
  {
   "cell_type": "code",
   "execution_count": null,
   "metadata": {},
   "outputs": [],
   "source": [
    "text = 'sfhfv'\n",
    "encoding = text.encode('utf-8')\n",
    "b64 = base64.b64encode(encoding)\n",
    "print(b64)\n",
    "decoded = base64.b64decode(b64).decode('utf-8')\n",
    "print(decoded)"
   ]
  },
  {
   "cell_type": "code",
   "execution_count": null,
   "metadata": {},
   "outputs": [],
   "source": [
    "text = 'sgrnbmiscr'\n",
    "encoding = text.encode('utf-8')\n",
    "b64 = base64.b64encode(encoding)\n",
    "print(b64)\n",
    "decoded = base64.b64decode(b64).decode('utf-8')\n",
    "print(decoded)"
   ]
  },
  {
   "cell_type": "code",
   "execution_count": null,
   "metadata": {},
   "outputs": [],
   "source": [
    "text = 'nxjakilnin'\n",
    "encoding = text.encode('utf-8')\n",
    "b64 = base64.b64encode(encoding)\n",
    "print(b64)\n",
    "decoded = base64.b64decode(b64).decode('utf-8')\n",
    "print(decoded)"
   ]
  },
  {
   "cell_type": "code",
   "execution_count": null,
   "metadata": {},
   "outputs": [],
   "source": [
    "text = 'pssydx'\n",
    "encoding = text.encode('utf-8')\n",
    "b64 = base64.b64encode(encoding)\n",
    "print(b64)\n",
    "decoded = base64.b64decode(b64).decode('utf-8')\n",
    "print(decoded)"
   ]
  },
  {
   "cell_type": "code",
   "execution_count": null,
   "metadata": {},
   "outputs": [],
   "source": [
    "text = 'wkpilmyiqg'\n",
    "encoding = text.encode('utf-8')\n",
    "b64 = base64.b64encode(encoding)\n",
    "print(b64)\n",
    "decoded = base64.b64decode(b64).decode('utf-8')\n",
    "print(decoded)"
   ]
  },
  {
   "cell_type": "code",
   "execution_count": null,
   "metadata": {},
   "outputs": [],
   "source": [
    "text = 'mxawyixt'\n",
    "encoding = text.encode('utf-8')\n",
    "b64 = base64.b64encode(encoding)\n",
    "print(b64)\n",
    "decoded = base64.b64decode(b64).decode('utf-8')\n",
    "print(decoded)"
   ]
  },
  {
   "cell_type": "code",
   "execution_count": null,
   "metadata": {},
   "outputs": [],
   "source": [
    "text = 'qhjoeqnmbs'\n",
    "encoding = text.encode('utf-8')\n",
    "b64 = base64.b64encode(encoding)\n",
    "print(b64)\n",
    "decoded = base64.b64decode(b64).decode('utf-8')\n",
    "print(decoded)"
   ]
  },
  {
   "cell_type": "code",
   "execution_count": null,
   "metadata": {},
   "outputs": [],
   "source": [
    "text = 'bcviffb'\n",
    "encoding = text.encode('utf-8')\n",
    "b64 = base64.b64encode(encoding)\n",
    "print(b64)\n",
    "decoded = base64.b64decode(b64).decode('utf-8')\n",
    "print(decoded)"
   ]
  },
  {
   "cell_type": "code",
   "execution_count": null,
   "metadata": {},
   "outputs": [],
   "source": [
    "text = 'nlxzoq'\n",
    "encoding = text.encode('utf-8')\n",
    "b64 = base64.b64encode(encoding)\n",
    "print(b64)\n",
    "decoded = base64.b64decode(b64).decode('utf-8')\n",
    "print(decoded)"
   ]
  },
  {
   "cell_type": "code",
   "execution_count": null,
   "metadata": {},
   "outputs": [],
   "source": [
    "text = 'cdevyy'\n",
    "encoding = text.encode('utf-8')\n",
    "b64 = base64.b64encode(encoding)\n",
    "print(b64)\n",
    "decoded = base64.b64decode(b64).decode('utf-8')\n",
    "print(decoded)"
   ]
  },
  {
   "cell_type": "code",
   "execution_count": null,
   "metadata": {},
   "outputs": [],
   "source": [
    "text = 'ihaqgtbcz'\n",
    "encoding = text.encode('utf-8')\n",
    "b64 = base64.b64encode(encoding)\n",
    "print(b64)\n",
    "decoded = base64.b64decode(b64).decode('utf-8')\n",
    "print(decoded)"
   ]
  },
  {
   "cell_type": "code",
   "execution_count": null,
   "metadata": {},
   "outputs": [],
   "source": [
    "text = 'ngdid'\n",
    "encoding = text.encode('utf-8')\n",
    "b64 = base64.b64encode(encoding)\n",
    "print(b64)\n",
    "decoded = base64.b64decode(b64).decode('utf-8')\n",
    "print(decoded)"
   ]
  },
  {
   "cell_type": "code",
   "execution_count": null,
   "metadata": {},
   "outputs": [],
   "source": [
    "text = 'liisdqtiqc'\n",
    "encoding = text.encode('utf-8')\n",
    "b64 = base64.b64encode(encoding)\n",
    "print(b64)\n",
    "decoded = base64.b64decode(b64).decode('utf-8')\n",
    "print(decoded)"
   ]
  },
  {
   "cell_type": "code",
   "execution_count": null,
   "metadata": {},
   "outputs": [],
   "source": [
    "text = 'izzfw'\n",
    "encoding = text.encode('utf-8')\n",
    "b64 = base64.b64encode(encoding)\n",
    "print(b64)\n",
    "decoded = base64.b64decode(b64).decode('utf-8')\n",
    "print(decoded)"
   ]
  },
  {
   "cell_type": "code",
   "execution_count": null,
   "metadata": {},
   "outputs": [],
   "source": [
    "text = 'ijalv'\n",
    "encoding = text.encode('utf-8')\n",
    "b64 = base64.b64encode(encoding)\n",
    "print(b64)\n",
    "decoded = base64.b64decode(b64).decode('utf-8')\n",
    "print(decoded)"
   ]
  },
  {
   "cell_type": "code",
   "execution_count": null,
   "metadata": {},
   "outputs": [],
   "source": [
    "text = 'qbeil'\n",
    "encoding = text.encode('utf-8')\n",
    "b64 = base64.b64encode(encoding)\n",
    "print(b64)\n",
    "decoded = base64.b64decode(b64).decode('utf-8')\n",
    "print(decoded)"
   ]
  },
  {
   "cell_type": "code",
   "execution_count": null,
   "metadata": {},
   "outputs": [],
   "source": [
    "text = 'eyysowaehe'\n",
    "encoding = text.encode('utf-8')\n",
    "b64 = base64.b64encode(encoding)\n",
    "print(b64)\n",
    "decoded = base64.b64decode(b64).decode('utf-8')\n",
    "print(decoded)"
   ]
  },
  {
   "cell_type": "code",
   "execution_count": null,
   "metadata": {},
   "outputs": [],
   "source": [
    "text = 'pojxroj'\n",
    "encoding = text.encode('utf-8')\n",
    "b64 = base64.b64encode(encoding)\n",
    "print(b64)\n",
    "decoded = base64.b64decode(b64).decode('utf-8')\n",
    "print(decoded)"
   ]
  },
  {
   "cell_type": "code",
   "execution_count": null,
   "metadata": {},
   "outputs": [],
   "source": [
    "text = 'zabitymzgb'\n",
    "encoding = text.encode('utf-8')\n",
    "b64 = base64.b64encode(encoding)\n",
    "print(b64)\n",
    "decoded = base64.b64decode(b64).decode('utf-8')\n",
    "print(decoded)"
   ]
  },
  {
   "cell_type": "code",
   "execution_count": null,
   "metadata": {},
   "outputs": [],
   "source": [
    "text = 'idccmznlg'\n",
    "encoding = text.encode('utf-8')\n",
    "b64 = base64.b64encode(encoding)\n",
    "print(b64)\n",
    "decoded = base64.b64decode(b64).decode('utf-8')\n",
    "print(decoded)"
   ]
  },
  {
   "cell_type": "code",
   "execution_count": null,
   "metadata": {},
   "outputs": [],
   "source": [
    "text = 'mrrht'\n",
    "encoding = text.encode('utf-8')\n",
    "b64 = base64.b64encode(encoding)\n",
    "print(b64)\n",
    "decoded = base64.b64decode(b64).decode('utf-8')\n",
    "print(decoded)"
   ]
  },
  {
   "cell_type": "code",
   "execution_count": null,
   "metadata": {},
   "outputs": [],
   "source": [
    "text = 'ysevibixom'\n",
    "encoding = text.encode('utf-8')\n",
    "b64 = base64.b64encode(encoding)\n",
    "print(b64)\n",
    "decoded = base64.b64decode(b64).decode('utf-8')\n",
    "print(decoded)"
   ]
  },
  {
   "cell_type": "code",
   "execution_count": null,
   "metadata": {},
   "outputs": [],
   "source": [
    "text = 'rrkrpgvde'\n",
    "encoding = text.encode('utf-8')\n",
    "b64 = base64.b64encode(encoding)\n",
    "print(b64)\n",
    "decoded = base64.b64decode(b64).decode('utf-8')\n",
    "print(decoded)"
   ]
  },
  {
   "cell_type": "code",
   "execution_count": null,
   "metadata": {},
   "outputs": [],
   "source": [
    "text = 'hzuemk'\n",
    "encoding = text.encode('utf-8')\n",
    "b64 = base64.b64encode(encoding)\n",
    "print(b64)\n",
    "decoded = base64.b64decode(b64).decode('utf-8')\n",
    "print(decoded)"
   ]
  },
  {
   "cell_type": "code",
   "execution_count": null,
   "metadata": {},
   "outputs": [],
   "source": [
    "text = 'zfapawl'\n",
    "encoding = text.encode('utf-8')\n",
    "b64 = base64.b64encode(encoding)\n",
    "print(b64)\n",
    "decoded = base64.b64decode(b64).decode('utf-8')\n",
    "print(decoded)"
   ]
  },
  {
   "cell_type": "code",
   "execution_count": null,
   "metadata": {},
   "outputs": [],
   "source": [
    "text = 'qvkzaj'\n",
    "encoding = text.encode('utf-8')\n",
    "b64 = base64.b64encode(encoding)\n",
    "print(b64)\n",
    "decoded = base64.b64decode(b64).decode('utf-8')\n",
    "print(decoded)"
   ]
  },
  {
   "cell_type": "code",
   "execution_count": null,
   "metadata": {},
   "outputs": [],
   "source": [
    "text = 'vsgyrjnw'\n",
    "encoding = text.encode('utf-8')\n",
    "b64 = base64.b64encode(encoding)\n",
    "print(b64)\n",
    "decoded = base64.b64decode(b64).decode('utf-8')\n",
    "print(decoded)"
   ]
  },
  {
   "cell_type": "code",
   "execution_count": null,
   "metadata": {},
   "outputs": [],
   "source": [
    "text = 'kazow'\n",
    "encoding = text.encode('utf-8')\n",
    "b64 = base64.b64encode(encoding)\n",
    "print(b64)\n",
    "decoded = base64.b64decode(b64).decode('utf-8')\n",
    "print(decoded)"
   ]
  },
  {
   "cell_type": "code",
   "execution_count": null,
   "metadata": {},
   "outputs": [],
   "source": [
    "text = 'mofiyls'\n",
    "encoding = text.encode('utf-8')\n",
    "b64 = base64.b64encode(encoding)\n",
    "print(b64)\n",
    "decoded = base64.b64decode(b64).decode('utf-8')\n",
    "print(decoded)"
   ]
  },
  {
   "cell_type": "code",
   "execution_count": null,
   "metadata": {},
   "outputs": [],
   "source": [
    "text = 'vjtmt'\n",
    "encoding = text.encode('utf-8')\n",
    "b64 = base64.b64encode(encoding)\n",
    "print(b64)\n",
    "decoded = base64.b64decode(b64).decode('utf-8')\n",
    "print(decoded)"
   ]
  },
  {
   "cell_type": "code",
   "execution_count": null,
   "metadata": {},
   "outputs": [],
   "source": [
    "text = 'vniredbbpd'\n",
    "encoding = text.encode('utf-8')\n",
    "b64 = base64.b64encode(encoding)\n",
    "print(b64)\n",
    "decoded = base64.b64decode(b64).decode('utf-8')\n",
    "print(decoded)"
   ]
  },
  {
   "cell_type": "code",
   "execution_count": null,
   "metadata": {},
   "outputs": [],
   "source": [
    "text = 'bicgg'\n",
    "encoding = text.encode('utf-8')\n",
    "b64 = base64.b64encode(encoding)\n",
    "print(b64)\n",
    "decoded = base64.b64decode(b64).decode('utf-8')\n",
    "print(decoded)"
   ]
  },
  {
   "cell_type": "code",
   "execution_count": null,
   "metadata": {},
   "outputs": [],
   "source": [
    "text = 'xlnbldvey'\n",
    "encoding = text.encode('utf-8')\n",
    "b64 = base64.b64encode(encoding)\n",
    "print(b64)\n",
    "decoded = base64.b64decode(b64).decode('utf-8')\n",
    "print(decoded)"
   ]
  },
  {
   "cell_type": "code",
   "execution_count": null,
   "metadata": {},
   "outputs": [],
   "source": [
    "text = 'dupnq'\n",
    "encoding = text.encode('utf-8')\n",
    "b64 = base64.b64encode(encoding)\n",
    "print(b64)\n",
    "decoded = base64.b64decode(b64).decode('utf-8')\n",
    "print(decoded)"
   ]
  },
  {
   "cell_type": "code",
   "execution_count": null,
   "metadata": {},
   "outputs": [],
   "source": [
    "text = 'fknyx'\n",
    "encoding = text.encode('utf-8')\n",
    "b64 = base64.b64encode(encoding)\n",
    "print(b64)\n",
    "decoded = base64.b64decode(b64).decode('utf-8')\n",
    "print(decoded)"
   ]
  },
  {
   "cell_type": "code",
   "execution_count": null,
   "metadata": {},
   "outputs": [],
   "source": [
    "text = 'bibtotv'\n",
    "encoding = text.encode('utf-8')\n",
    "b64 = base64.b64encode(encoding)\n",
    "print(b64)\n",
    "decoded = base64.b64decode(b64).decode('utf-8')\n",
    "print(decoded)"
   ]
  },
  {
   "cell_type": "code",
   "execution_count": null,
   "metadata": {},
   "outputs": [],
   "source": [
    "text = 'houiopc'\n",
    "encoding = text.encode('utf-8')\n",
    "b64 = base64.b64encode(encoding)\n",
    "print(b64)\n",
    "decoded = base64.b64decode(b64).decode('utf-8')\n",
    "print(decoded)"
   ]
  },
  {
   "cell_type": "code",
   "execution_count": null,
   "metadata": {},
   "outputs": [],
   "source": [
    "text = 'mlfqwej'\n",
    "encoding = text.encode('utf-8')\n",
    "b64 = base64.b64encode(encoding)\n",
    "print(b64)\n",
    "decoded = base64.b64decode(b64).decode('utf-8')\n",
    "print(decoded)"
   ]
  },
  {
   "cell_type": "code",
   "execution_count": null,
   "metadata": {},
   "outputs": [],
   "source": [
    "text = 'fjczcbrr'\n",
    "encoding = text.encode('utf-8')\n",
    "b64 = base64.b64encode(encoding)\n",
    "print(b64)\n",
    "decoded = base64.b64decode(b64).decode('utf-8')\n",
    "print(decoded)"
   ]
  },
  {
   "cell_type": "code",
   "execution_count": null,
   "metadata": {},
   "outputs": [],
   "source": [
    "text = 'zaoiunjrwx'\n",
    "encoding = text.encode('utf-8')\n",
    "b64 = base64.b64encode(encoding)\n",
    "print(b64)\n",
    "decoded = base64.b64decode(b64).decode('utf-8')\n",
    "print(decoded)"
   ]
  },
  {
   "cell_type": "code",
   "execution_count": null,
   "metadata": {},
   "outputs": [],
   "source": [
    "text = 'jhrfezos'\n",
    "encoding = text.encode('utf-8')\n",
    "b64 = base64.b64encode(encoding)\n",
    "print(b64)\n",
    "decoded = base64.b64decode(b64).decode('utf-8')\n",
    "print(decoded)"
   ]
  },
  {
   "cell_type": "code",
   "execution_count": null,
   "metadata": {},
   "outputs": [],
   "source": [
    "text = 'adcpgcu'\n",
    "encoding = text.encode('utf-8')\n",
    "b64 = base64.b64encode(encoding)\n",
    "print(b64)\n",
    "decoded = base64.b64decode(b64).decode('utf-8')\n",
    "print(decoded)"
   ]
  },
  {
   "cell_type": "code",
   "execution_count": null,
   "metadata": {},
   "outputs": [],
   "source": [
    "text = 'ylgjg'\n",
    "encoding = text.encode('utf-8')\n",
    "b64 = base64.b64encode(encoding)\n",
    "print(b64)\n",
    "decoded = base64.b64decode(b64).decode('utf-8')\n",
    "print(decoded)"
   ]
  },
  {
   "cell_type": "code",
   "execution_count": null,
   "metadata": {},
   "outputs": [],
   "source": [
    "text = 'pcbuibevc'\n",
    "encoding = text.encode('utf-8')\n",
    "b64 = base64.b64encode(encoding)\n",
    "print(b64)\n",
    "decoded = base64.b64decode(b64).decode('utf-8')\n",
    "print(decoded)"
   ]
  },
  {
   "cell_type": "code",
   "execution_count": null,
   "metadata": {},
   "outputs": [],
   "source": [
    "text = 'dpocfu'\n",
    "encoding = text.encode('utf-8')\n",
    "b64 = base64.b64encode(encoding)\n",
    "print(b64)\n",
    "decoded = base64.b64decode(b64).decode('utf-8')\n",
    "print(decoded)"
   ]
  },
  {
   "cell_type": "code",
   "execution_count": null,
   "metadata": {},
   "outputs": [],
   "source": [
    "text = 'tusom'\n",
    "encoding = text.encode('utf-8')\n",
    "b64 = base64.b64encode(encoding)\n",
    "print(b64)\n",
    "decoded = base64.b64decode(b64).decode('utf-8')\n",
    "print(decoded)"
   ]
  },
  {
   "cell_type": "code",
   "execution_count": null,
   "metadata": {},
   "outputs": [],
   "source": [
    "text = 'lgiobisa'\n",
    "encoding = text.encode('utf-8')\n",
    "b64 = base64.b64encode(encoding)\n",
    "print(b64)\n",
    "decoded = base64.b64decode(b64).decode('utf-8')\n",
    "print(decoded)"
   ]
  },
  {
   "cell_type": "code",
   "execution_count": null,
   "metadata": {},
   "outputs": [],
   "source": [
    "text = 'zacpqlm'\n",
    "encoding = text.encode('utf-8')\n",
    "b64 = base64.b64encode(encoding)\n",
    "print(b64)\n",
    "decoded = base64.b64decode(b64).decode('utf-8')\n",
    "print(decoded)"
   ]
  },
  {
   "cell_type": "code",
   "execution_count": null,
   "metadata": {},
   "outputs": [],
   "source": [
    "text = 'etckedlkro'\n",
    "encoding = text.encode('utf-8')\n",
    "b64 = base64.b64encode(encoding)\n",
    "print(b64)\n",
    "decoded = base64.b64decode(b64).decode('utf-8')\n",
    "print(decoded)"
   ]
  },
  {
   "cell_type": "code",
   "execution_count": null,
   "metadata": {},
   "outputs": [],
   "source": [
    "text = 'uiyza'\n",
    "encoding = text.encode('utf-8')\n",
    "b64 = base64.b64encode(encoding)\n",
    "print(b64)\n",
    "decoded = base64.b64decode(b64).decode('utf-8')\n",
    "print(decoded)"
   ]
  },
  {
   "cell_type": "code",
   "execution_count": null,
   "metadata": {},
   "outputs": [],
   "source": [
    "text = 'jcdwdwon'\n",
    "encoding = text.encode('utf-8')\n",
    "b64 = base64.b64encode(encoding)\n",
    "print(b64)\n",
    "decoded = base64.b64decode(b64).decode('utf-8')\n",
    "print(decoded)"
   ]
  },
  {
   "cell_type": "code",
   "execution_count": null,
   "metadata": {},
   "outputs": [],
   "source": [
    "text = 'dgxftpn'\n",
    "encoding = text.encode('utf-8')\n",
    "b64 = base64.b64encode(encoding)\n",
    "print(b64)\n",
    "decoded = base64.b64decode(b64).decode('utf-8')\n",
    "print(decoded)"
   ]
  },
  {
   "cell_type": "code",
   "execution_count": null,
   "metadata": {},
   "outputs": [],
   "source": [
    "text = 'hwpvb'\n",
    "encoding = text.encode('utf-8')\n",
    "b64 = base64.b64encode(encoding)\n",
    "print(b64)\n",
    "decoded = base64.b64decode(b64).decode('utf-8')\n",
    "print(decoded)"
   ]
  },
  {
   "cell_type": "code",
   "execution_count": null,
   "metadata": {},
   "outputs": [],
   "source": [
    "text = 'erprmgp'\n",
    "encoding = text.encode('utf-8')\n",
    "b64 = base64.b64encode(encoding)\n",
    "print(b64)\n",
    "decoded = base64.b64decode(b64).decode('utf-8')\n",
    "print(decoded)"
   ]
  },
  {
   "cell_type": "code",
   "execution_count": null,
   "metadata": {},
   "outputs": [],
   "source": [
    "text = 'lwiwg'\n",
    "encoding = text.encode('utf-8')\n",
    "b64 = base64.b64encode(encoding)\n",
    "print(b64)\n",
    "decoded = base64.b64decode(b64).decode('utf-8')\n",
    "print(decoded)"
   ]
  },
  {
   "cell_type": "code",
   "execution_count": null,
   "metadata": {},
   "outputs": [],
   "source": [
    "text = 'znroup'\n",
    "encoding = text.encode('utf-8')\n",
    "b64 = base64.b64encode(encoding)\n",
    "print(b64)\n",
    "decoded = base64.b64decode(b64).decode('utf-8')\n",
    "print(decoded)"
   ]
  },
  {
   "cell_type": "code",
   "execution_count": null,
   "metadata": {},
   "outputs": [],
   "source": [
    "text = 'gftrrzdzhk'\n",
    "encoding = text.encode('utf-8')\n",
    "b64 = base64.b64encode(encoding)\n",
    "print(b64)\n",
    "decoded = base64.b64decode(b64).decode('utf-8')\n",
    "print(decoded)"
   ]
  },
  {
   "cell_type": "code",
   "execution_count": null,
   "metadata": {},
   "outputs": [],
   "source": [
    "text = 'napgfvar'\n",
    "encoding = text.encode('utf-8')\n",
    "b64 = base64.b64encode(encoding)\n",
    "print(b64)\n",
    "decoded = base64.b64decode(b64).decode('utf-8')\n",
    "print(decoded)"
   ]
  },
  {
   "cell_type": "code",
   "execution_count": null,
   "metadata": {},
   "outputs": [],
   "source": [
    "text = 'bgshnqfek'\n",
    "encoding = text.encode('utf-8')\n",
    "b64 = base64.b64encode(encoding)\n",
    "print(b64)\n",
    "decoded = base64.b64decode(b64).decode('utf-8')\n",
    "print(decoded)"
   ]
  },
  {
   "cell_type": "code",
   "execution_count": null,
   "metadata": {},
   "outputs": [],
   "source": [
    "text = 'sfhvbclldp'\n",
    "encoding = text.encode('utf-8')\n",
    "b64 = base64.b64encode(encoding)\n",
    "print(b64)\n",
    "decoded = base64.b64decode(b64).decode('utf-8')\n",
    "print(decoded)"
   ]
  },
  {
   "cell_type": "code",
   "execution_count": null,
   "metadata": {},
   "outputs": [],
   "source": [
    "text = 'lrmganc'\n",
    "encoding = text.encode('utf-8')\n",
    "b64 = base64.b64encode(encoding)\n",
    "print(b64)\n",
    "decoded = base64.b64decode(b64).decode('utf-8')\n",
    "print(decoded)"
   ]
  },
  {
   "cell_type": "code",
   "execution_count": null,
   "metadata": {},
   "outputs": [],
   "source": [
    "text = 'eprrt'\n",
    "encoding = text.encode('utf-8')\n",
    "b64 = base64.b64encode(encoding)\n",
    "print(b64)\n",
    "decoded = base64.b64decode(b64).decode('utf-8')\n",
    "print(decoded)"
   ]
  },
  {
   "cell_type": "code",
   "execution_count": null,
   "metadata": {},
   "outputs": [],
   "source": [
    "text = 'miljza'\n",
    "encoding = text.encode('utf-8')\n",
    "b64 = base64.b64encode(encoding)\n",
    "print(b64)\n",
    "decoded = base64.b64decode(b64).decode('utf-8')\n",
    "print(decoded)"
   ]
  },
  {
   "cell_type": "code",
   "execution_count": null,
   "metadata": {},
   "outputs": [],
   "source": [
    "text = 'unnqsezw'\n",
    "encoding = text.encode('utf-8')\n",
    "b64 = base64.b64encode(encoding)\n",
    "print(b64)\n",
    "decoded = base64.b64decode(b64).decode('utf-8')\n",
    "print(decoded)"
   ]
  },
  {
   "cell_type": "code",
   "execution_count": null,
   "metadata": {},
   "outputs": [],
   "source": [
    "text = 'pgtccnt'\n",
    "encoding = text.encode('utf-8')\n",
    "b64 = base64.b64encode(encoding)\n",
    "print(b64)\n",
    "decoded = base64.b64decode(b64).decode('utf-8')\n",
    "print(decoded)"
   ]
  },
  {
   "cell_type": "code",
   "execution_count": null,
   "metadata": {},
   "outputs": [],
   "source": [
    "text = 'xdsjdrqiy'\n",
    "encoding = text.encode('utf-8')\n",
    "b64 = base64.b64encode(encoding)\n",
    "print(b64)\n",
    "decoded = base64.b64decode(b64).decode('utf-8')\n",
    "print(decoded)"
   ]
  },
  {
   "cell_type": "code",
   "execution_count": null,
   "metadata": {},
   "outputs": [],
   "source": [
    "text = 'xqewajgu'\n",
    "encoding = text.encode('utf-8')\n",
    "b64 = base64.b64encode(encoding)\n",
    "print(b64)\n",
    "decoded = base64.b64decode(b64).decode('utf-8')\n",
    "print(decoded)"
   ]
  },
  {
   "cell_type": "code",
   "execution_count": null,
   "metadata": {},
   "outputs": [],
   "source": [
    "text = 'zwvxlfdfo'\n",
    "encoding = text.encode('utf-8')\n",
    "b64 = base64.b64encode(encoding)\n",
    "print(b64)\n",
    "decoded = base64.b64decode(b64).decode('utf-8')\n",
    "print(decoded)"
   ]
  },
  {
   "cell_type": "code",
   "execution_count": null,
   "metadata": {},
   "outputs": [],
   "source": [
    "text = 'ecpft'\n",
    "encoding = text.encode('utf-8')\n",
    "b64 = base64.b64encode(encoding)\n",
    "print(b64)\n",
    "decoded = base64.b64decode(b64).decode('utf-8')\n",
    "print(decoded)"
   ]
  },
  {
   "cell_type": "code",
   "execution_count": null,
   "metadata": {},
   "outputs": [],
   "source": [
    "text = 'fjyooxcz'\n",
    "encoding = text.encode('utf-8')\n",
    "b64 = base64.b64encode(encoding)\n",
    "print(b64)\n",
    "decoded = base64.b64decode(b64).decode('utf-8')\n",
    "print(decoded)"
   ]
  },
  {
   "cell_type": "code",
   "execution_count": null,
   "metadata": {},
   "outputs": [],
   "source": [
    "text = 'ykhcwx'\n",
    "encoding = text.encode('utf-8')\n",
    "b64 = base64.b64encode(encoding)\n",
    "print(b64)\n",
    "decoded = base64.b64decode(b64).decode('utf-8')\n",
    "print(decoded)"
   ]
  },
  {
   "cell_type": "code",
   "execution_count": null,
   "metadata": {},
   "outputs": [],
   "source": [
    "text = 'wuxbuxymx'\n",
    "encoding = text.encode('utf-8')\n",
    "b64 = base64.b64encode(encoding)\n",
    "print(b64)\n",
    "decoded = base64.b64decode(b64).decode('utf-8')\n",
    "print(decoded)"
   ]
  },
  {
   "cell_type": "code",
   "execution_count": null,
   "metadata": {},
   "outputs": [],
   "source": [
    "text = 'bmeysep'\n",
    "encoding = text.encode('utf-8')\n",
    "b64 = base64.b64encode(encoding)\n",
    "print(b64)\n",
    "decoded = base64.b64decode(b64).decode('utf-8')\n",
    "print(decoded)"
   ]
  },
  {
   "cell_type": "code",
   "execution_count": null,
   "metadata": {},
   "outputs": [],
   "source": [
    "text = 'affjkgu'\n",
    "encoding = text.encode('utf-8')\n",
    "b64 = base64.b64encode(encoding)\n",
    "print(b64)\n",
    "decoded = base64.b64decode(b64).decode('utf-8')\n",
    "print(decoded)"
   ]
  },
  {
   "cell_type": "code",
   "execution_count": null,
   "metadata": {},
   "outputs": [],
   "source": [
    "text = 'gvchk'\n",
    "encoding = text.encode('utf-8')\n",
    "b64 = base64.b64encode(encoding)\n",
    "print(b64)\n",
    "decoded = base64.b64decode(b64).decode('utf-8')\n",
    "print(decoded)"
   ]
  },
  {
   "cell_type": "code",
   "execution_count": null,
   "metadata": {},
   "outputs": [],
   "source": [
    "text = 'vxzkcgyrvq'\n",
    "encoding = text.encode('utf-8')\n",
    "b64 = base64.b64encode(encoding)\n",
    "print(b64)\n",
    "decoded = base64.b64decode(b64).decode('utf-8')\n",
    "print(decoded)"
   ]
  },
  {
   "cell_type": "code",
   "execution_count": null,
   "metadata": {},
   "outputs": [],
   "source": [
    "text = 'kpjanho'\n",
    "encoding = text.encode('utf-8')\n",
    "b64 = base64.b64encode(encoding)\n",
    "print(b64)\n",
    "decoded = base64.b64decode(b64).decode('utf-8')\n",
    "print(decoded)"
   ]
  },
  {
   "cell_type": "code",
   "execution_count": null,
   "metadata": {},
   "outputs": [],
   "source": [
    "text = 'fbiemhegm'\n",
    "encoding = text.encode('utf-8')\n",
    "b64 = base64.b64encode(encoding)\n",
    "print(b64)\n",
    "decoded = base64.b64decode(b64).decode('utf-8')\n",
    "print(decoded)"
   ]
  },
  {
   "cell_type": "code",
   "execution_count": null,
   "metadata": {},
   "outputs": [],
   "source": [
    "text = 'teozaxwr'\n",
    "encoding = text.encode('utf-8')\n",
    "b64 = base64.b64encode(encoding)\n",
    "print(b64)\n",
    "decoded = base64.b64decode(b64).decode('utf-8')\n",
    "print(decoded)"
   ]
  },
  {
   "cell_type": "code",
   "execution_count": null,
   "metadata": {},
   "outputs": [],
   "source": [
    "text = 'ynserl'\n",
    "encoding = text.encode('utf-8')\n",
    "b64 = base64.b64encode(encoding)\n",
    "print(b64)\n",
    "decoded = base64.b64decode(b64).decode('utf-8')\n",
    "print(decoded)"
   ]
  },
  {
   "cell_type": "code",
   "execution_count": null,
   "metadata": {},
   "outputs": [],
   "source": [
    "text = 'scbmwxs'\n",
    "encoding = text.encode('utf-8')\n",
    "b64 = base64.b64encode(encoding)\n",
    "print(b64)\n",
    "decoded = base64.b64decode(b64).decode('utf-8')\n",
    "print(decoded)"
   ]
  },
  {
   "cell_type": "code",
   "execution_count": null,
   "metadata": {},
   "outputs": [],
   "source": [
    "text = 'rqnqruxenv'\n",
    "encoding = text.encode('utf-8')\n",
    "b64 = base64.b64encode(encoding)\n",
    "print(b64)\n",
    "decoded = base64.b64decode(b64).decode('utf-8')\n",
    "print(decoded)"
   ]
  },
  {
   "cell_type": "code",
   "execution_count": null,
   "metadata": {},
   "outputs": [],
   "source": [
    "text = 'jbsifw'\n",
    "encoding = text.encode('utf-8')\n",
    "b64 = base64.b64encode(encoding)\n",
    "print(b64)\n",
    "decoded = base64.b64decode(b64).decode('utf-8')\n",
    "print(decoded)"
   ]
  },
  {
   "cell_type": "code",
   "execution_count": null,
   "metadata": {},
   "outputs": [],
   "source": [
    "text = 'amfbfdeqnz'\n",
    "encoding = text.encode('utf-8')\n",
    "b64 = base64.b64encode(encoding)\n",
    "print(b64)\n",
    "decoded = base64.b64decode(b64).decode('utf-8')\n",
    "print(decoded)"
   ]
  },
  {
   "cell_type": "code",
   "execution_count": null,
   "metadata": {},
   "outputs": [],
   "source": [
    "text = 'bdaim'\n",
    "encoding = text.encode('utf-8')\n",
    "b64 = base64.b64encode(encoding)\n",
    "print(b64)\n",
    "decoded = base64.b64decode(b64).decode('utf-8')\n",
    "print(decoded)"
   ]
  },
  {
   "cell_type": "code",
   "execution_count": null,
   "metadata": {},
   "outputs": [],
   "source": [
    "text = 'ektvl'\n",
    "encoding = text.encode('utf-8')\n",
    "b64 = base64.b64encode(encoding)\n",
    "print(b64)\n",
    "decoded = base64.b64decode(b64).decode('utf-8')\n",
    "print(decoded)"
   ]
  },
  {
   "cell_type": "code",
   "execution_count": null,
   "metadata": {},
   "outputs": [],
   "source": [
    "text = 'wmuquyipb'\n",
    "encoding = text.encode('utf-8')\n",
    "b64 = base64.b64encode(encoding)\n",
    "print(b64)\n",
    "decoded = base64.b64decode(b64).decode('utf-8')\n",
    "print(decoded)"
   ]
  },
  {
   "cell_type": "code",
   "execution_count": null,
   "metadata": {},
   "outputs": [],
   "source": [
    "text = 'naaapdr'\n",
    "encoding = text.encode('utf-8')\n",
    "b64 = base64.b64encode(encoding)\n",
    "print(b64)\n",
    "decoded = base64.b64decode(b64).decode('utf-8')\n",
    "print(decoded)"
   ]
  },
  {
   "cell_type": "code",
   "execution_count": null,
   "metadata": {},
   "outputs": [],
   "source": [
    "text = 'gzfil'\n",
    "encoding = text.encode('utf-8')\n",
    "b64 = base64.b64encode(encoding)\n",
    "print(b64)\n",
    "decoded = base64.b64decode(b64).decode('utf-8')\n",
    "print(decoded)"
   ]
  },
  {
   "cell_type": "code",
   "execution_count": null,
   "metadata": {},
   "outputs": [],
   "source": [
    "text = 'xkthdomeuw'\n",
    "encoding = text.encode('utf-8')\n",
    "b64 = base64.b64encode(encoding)\n",
    "print(b64)\n",
    "decoded = base64.b64decode(b64).decode('utf-8')\n",
    "print(decoded)"
   ]
  },
  {
   "cell_type": "code",
   "execution_count": null,
   "metadata": {},
   "outputs": [],
   "source": [
    "text = 'fflacdac'\n",
    "encoding = text.encode('utf-8')\n",
    "b64 = base64.b64encode(encoding)\n",
    "print(b64)\n",
    "decoded = base64.b64decode(b64).decode('utf-8')\n",
    "print(decoded)"
   ]
  },
  {
   "cell_type": "code",
   "execution_count": null,
   "metadata": {},
   "outputs": [],
   "source": [
    "text = 'lkyvl'\n",
    "encoding = text.encode('utf-8')\n",
    "b64 = base64.b64encode(encoding)\n",
    "print(b64)\n",
    "decoded = base64.b64decode(b64).decode('utf-8')\n",
    "print(decoded)"
   ]
  },
  {
   "cell_type": "code",
   "execution_count": null,
   "metadata": {},
   "outputs": [],
   "source": [
    "text = 'ollewsba'\n",
    "encoding = text.encode('utf-8')\n",
    "b64 = base64.b64encode(encoding)\n",
    "print(b64)\n",
    "decoded = base64.b64decode(b64).decode('utf-8')\n",
    "print(decoded)"
   ]
  },
  {
   "cell_type": "code",
   "execution_count": null,
   "metadata": {},
   "outputs": [],
   "source": [
    "text = 'fqntrja'\n",
    "encoding = text.encode('utf-8')\n",
    "b64 = base64.b64encode(encoding)\n",
    "print(b64)\n",
    "decoded = base64.b64decode(b64).decode('utf-8')\n",
    "print(decoded)"
   ]
  },
  {
   "cell_type": "code",
   "execution_count": null,
   "metadata": {},
   "outputs": [],
   "source": [
    "text = 'facnpd'\n",
    "encoding = text.encode('utf-8')\n",
    "b64 = base64.b64encode(encoding)\n",
    "print(b64)\n",
    "decoded = base64.b64decode(b64).decode('utf-8')\n",
    "print(decoded)"
   ]
  },
  {
   "cell_type": "code",
   "execution_count": null,
   "metadata": {},
   "outputs": [],
   "source": [
    "text = 'jyyvawq'\n",
    "encoding = text.encode('utf-8')\n",
    "b64 = base64.b64encode(encoding)\n",
    "print(b64)\n",
    "decoded = base64.b64decode(b64).decode('utf-8')\n",
    "print(decoded)"
   ]
  },
  {
   "cell_type": "code",
   "execution_count": null,
   "metadata": {},
   "outputs": [],
   "source": [
    "text = 'bsostinz'\n",
    "encoding = text.encode('utf-8')\n",
    "b64 = base64.b64encode(encoding)\n",
    "print(b64)\n",
    "decoded = base64.b64decode(b64).decode('utf-8')\n",
    "print(decoded)"
   ]
  },
  {
   "cell_type": "code",
   "execution_count": null,
   "metadata": {},
   "outputs": [],
   "source": [
    "text = 'xqzgbn'\n",
    "encoding = text.encode('utf-8')\n",
    "b64 = base64.b64encode(encoding)\n",
    "print(b64)\n",
    "decoded = base64.b64decode(b64).decode('utf-8')\n",
    "print(decoded)"
   ]
  },
  {
   "cell_type": "code",
   "execution_count": null,
   "metadata": {},
   "outputs": [],
   "source": [
    "text = 'isgvdub'\n",
    "encoding = text.encode('utf-8')\n",
    "b64 = base64.b64encode(encoding)\n",
    "print(b64)\n",
    "decoded = base64.b64decode(b64).decode('utf-8')\n",
    "print(decoded)"
   ]
  },
  {
   "cell_type": "code",
   "execution_count": null,
   "metadata": {},
   "outputs": [],
   "source": [
    "text = 'lfnjr'\n",
    "encoding = text.encode('utf-8')\n",
    "b64 = base64.b64encode(encoding)\n",
    "print(b64)\n",
    "decoded = base64.b64decode(b64).decode('utf-8')\n",
    "print(decoded)"
   ]
  },
  {
   "cell_type": "code",
   "execution_count": null,
   "metadata": {},
   "outputs": [],
   "source": [
    "text = 'alhzk'\n",
    "encoding = text.encode('utf-8')\n",
    "b64 = base64.b64encode(encoding)\n",
    "print(b64)\n",
    "decoded = base64.b64decode(b64).decode('utf-8')\n",
    "print(decoded)"
   ]
  },
  {
   "cell_type": "code",
   "execution_count": null,
   "metadata": {},
   "outputs": [],
   "source": [
    "text = 'yxibbxdo'\n",
    "encoding = text.encode('utf-8')\n",
    "b64 = base64.b64encode(encoding)\n",
    "print(b64)\n",
    "decoded = base64.b64decode(b64).decode('utf-8')\n",
    "print(decoded)"
   ]
  },
  {
   "cell_type": "code",
   "execution_count": null,
   "metadata": {},
   "outputs": [],
   "source": [
    "text = 'zlpydezrn'\n",
    "encoding = text.encode('utf-8')\n",
    "b64 = base64.b64encode(encoding)\n",
    "print(b64)\n",
    "decoded = base64.b64decode(b64).decode('utf-8')\n",
    "print(decoded)"
   ]
  },
  {
   "cell_type": "code",
   "execution_count": null,
   "metadata": {},
   "outputs": [],
   "source": [
    "text = 'xtrhe'\n",
    "encoding = text.encode('utf-8')\n",
    "b64 = base64.b64encode(encoding)\n",
    "print(b64)\n",
    "decoded = base64.b64decode(b64).decode('utf-8')\n",
    "print(decoded)"
   ]
  },
  {
   "cell_type": "code",
   "execution_count": null,
   "metadata": {},
   "outputs": [],
   "source": [
    "text = 'mwtbpwuvr'\n",
    "encoding = text.encode('utf-8')\n",
    "b64 = base64.b64encode(encoding)\n",
    "print(b64)\n",
    "decoded = base64.b64decode(b64).decode('utf-8')\n",
    "print(decoded)"
   ]
  },
  {
   "cell_type": "code",
   "execution_count": null,
   "metadata": {},
   "outputs": [],
   "source": [
    "text = 'dysmby'\n",
    "encoding = text.encode('utf-8')\n",
    "b64 = base64.b64encode(encoding)\n",
    "print(b64)\n",
    "decoded = base64.b64decode(b64).decode('utf-8')\n",
    "print(decoded)"
   ]
  },
  {
   "cell_type": "code",
   "execution_count": null,
   "metadata": {},
   "outputs": [],
   "source": [
    "text = 'yhetiqv'\n",
    "encoding = text.encode('utf-8')\n",
    "b64 = base64.b64encode(encoding)\n",
    "print(b64)\n",
    "decoded = base64.b64decode(b64).decode('utf-8')\n",
    "print(decoded)"
   ]
  },
  {
   "cell_type": "code",
   "execution_count": null,
   "metadata": {},
   "outputs": [],
   "source": [
    "text = 'xbgdde'\n",
    "encoding = text.encode('utf-8')\n",
    "b64 = base64.b64encode(encoding)\n",
    "print(b64)\n",
    "decoded = base64.b64decode(b64).decode('utf-8')\n",
    "print(decoded)"
   ]
  },
  {
   "cell_type": "code",
   "execution_count": null,
   "metadata": {},
   "outputs": [],
   "source": [
    "text = 'nkgxru'\n",
    "encoding = text.encode('utf-8')\n",
    "b64 = base64.b64encode(encoding)\n",
    "print(b64)\n",
    "decoded = base64.b64decode(b64).decode('utf-8')\n",
    "print(decoded)"
   ]
  },
  {
   "cell_type": "code",
   "execution_count": null,
   "metadata": {},
   "outputs": [],
   "source": [
    "text = 'mvncagvd'\n",
    "encoding = text.encode('utf-8')\n",
    "b64 = base64.b64encode(encoding)\n",
    "print(b64)\n",
    "decoded = base64.b64decode(b64).decode('utf-8')\n",
    "print(decoded)"
   ]
  },
  {
   "cell_type": "code",
   "execution_count": null,
   "metadata": {},
   "outputs": [],
   "source": [
    "text = 'ucdzuwox'\n",
    "encoding = text.encode('utf-8')\n",
    "b64 = base64.b64encode(encoding)\n",
    "print(b64)\n",
    "decoded = base64.b64decode(b64).decode('utf-8')\n",
    "print(decoded)"
   ]
  },
  {
   "cell_type": "code",
   "execution_count": null,
   "metadata": {},
   "outputs": [],
   "source": [
    "text = 'qkkvacwftb'\n",
    "encoding = text.encode('utf-8')\n",
    "b64 = base64.b64encode(encoding)\n",
    "print(b64)\n",
    "decoded = base64.b64decode(b64).decode('utf-8')\n",
    "print(decoded)"
   ]
  },
  {
   "cell_type": "code",
   "execution_count": null,
   "metadata": {},
   "outputs": [],
   "source": [
    "text = 'zswbuphtf'\n",
    "encoding = text.encode('utf-8')\n",
    "b64 = base64.b64encode(encoding)\n",
    "print(b64)\n",
    "decoded = base64.b64decode(b64).decode('utf-8')\n",
    "print(decoded)"
   ]
  },
  {
   "cell_type": "code",
   "execution_count": null,
   "metadata": {},
   "outputs": [],
   "source": [
    "text = 'pmbyxz'\n",
    "encoding = text.encode('utf-8')\n",
    "b64 = base64.b64encode(encoding)\n",
    "print(b64)\n",
    "decoded = base64.b64decode(b64).decode('utf-8')\n",
    "print(decoded)"
   ]
  },
  {
   "cell_type": "code",
   "execution_count": null,
   "metadata": {},
   "outputs": [],
   "source": [
    "text = 'qbvyqphh'\n",
    "encoding = text.encode('utf-8')\n",
    "b64 = base64.b64encode(encoding)\n",
    "print(b64)\n",
    "decoded = base64.b64decode(b64).decode('utf-8')\n",
    "print(decoded)"
   ]
  },
  {
   "cell_type": "code",
   "execution_count": null,
   "metadata": {},
   "outputs": [],
   "source": [
    "text = 'dlxzexl'\n",
    "encoding = text.encode('utf-8')\n",
    "b64 = base64.b64encode(encoding)\n",
    "print(b64)\n",
    "decoded = base64.b64decode(b64).decode('utf-8')\n",
    "print(decoded)"
   ]
  },
  {
   "cell_type": "code",
   "execution_count": null,
   "metadata": {},
   "outputs": [],
   "source": [
    "text = 'bdouzpplz'\n",
    "encoding = text.encode('utf-8')\n",
    "b64 = base64.b64encode(encoding)\n",
    "print(b64)\n",
    "decoded = base64.b64decode(b64).decode('utf-8')\n",
    "print(decoded)"
   ]
  },
  {
   "cell_type": "code",
   "execution_count": null,
   "metadata": {},
   "outputs": [],
   "source": [
    "text = 'aryfgd'\n",
    "encoding = text.encode('utf-8')\n",
    "b64 = base64.b64encode(encoding)\n",
    "print(b64)\n",
    "decoded = base64.b64decode(b64).decode('utf-8')\n",
    "print(decoded)"
   ]
  },
  {
   "cell_type": "code",
   "execution_count": null,
   "metadata": {},
   "outputs": [],
   "source": [
    "text = 'plauoiavbe'\n",
    "encoding = text.encode('utf-8')\n",
    "b64 = base64.b64encode(encoding)\n",
    "print(b64)\n",
    "decoded = base64.b64decode(b64).decode('utf-8')\n",
    "print(decoded)"
   ]
  },
  {
   "cell_type": "code",
   "execution_count": null,
   "metadata": {},
   "outputs": [],
   "source": [
    "text = 'wkgorpzpnh'\n",
    "encoding = text.encode('utf-8')\n",
    "b64 = base64.b64encode(encoding)\n",
    "print(b64)\n",
    "decoded = base64.b64decode(b64).decode('utf-8')\n",
    "print(decoded)"
   ]
  },
  {
   "cell_type": "code",
   "execution_count": null,
   "metadata": {},
   "outputs": [],
   "source": [
    "text = 'ynuwub'\n",
    "encoding = text.encode('utf-8')\n",
    "b64 = base64.b64encode(encoding)\n",
    "print(b64)\n",
    "decoded = base64.b64decode(b64).decode('utf-8')\n",
    "print(decoded)"
   ]
  },
  {
   "cell_type": "code",
   "execution_count": null,
   "metadata": {},
   "outputs": [],
   "source": [
    "text = 'kxyjm'\n",
    "encoding = text.encode('utf-8')\n",
    "b64 = base64.b64encode(encoding)\n",
    "print(b64)\n",
    "decoded = base64.b64decode(b64).decode('utf-8')\n",
    "print(decoded)"
   ]
  },
  {
   "cell_type": "code",
   "execution_count": null,
   "metadata": {},
   "outputs": [],
   "source": [
    "text = 'qlscox'\n",
    "encoding = text.encode('utf-8')\n",
    "b64 = base64.b64encode(encoding)\n",
    "print(b64)\n",
    "decoded = base64.b64decode(b64).decode('utf-8')\n",
    "print(decoded)"
   ]
  },
  {
   "cell_type": "code",
   "execution_count": null,
   "metadata": {},
   "outputs": [],
   "source": [
    "text = 'nccis'\n",
    "encoding = text.encode('utf-8')\n",
    "b64 = base64.b64encode(encoding)\n",
    "print(b64)\n",
    "decoded = base64.b64decode(b64).decode('utf-8')\n",
    "print(decoded)"
   ]
  },
  {
   "cell_type": "code",
   "execution_count": null,
   "metadata": {},
   "outputs": [],
   "source": [
    "text = 'hupmlsznzy'\n",
    "encoding = text.encode('utf-8')\n",
    "b64 = base64.b64encode(encoding)\n",
    "print(b64)\n",
    "decoded = base64.b64decode(b64).decode('utf-8')\n",
    "print(decoded)"
   ]
  },
  {
   "cell_type": "code",
   "execution_count": null,
   "metadata": {},
   "outputs": [],
   "source": [
    "text = 'wfowlifjv'\n",
    "encoding = text.encode('utf-8')\n",
    "b64 = base64.b64encode(encoding)\n",
    "print(b64)\n",
    "decoded = base64.b64decode(b64).decode('utf-8')\n",
    "print(decoded)"
   ]
  },
  {
   "cell_type": "code",
   "execution_count": null,
   "metadata": {},
   "outputs": [],
   "source": [
    "text = 'nwticgcy'\n",
    "encoding = text.encode('utf-8')\n",
    "b64 = base64.b64encode(encoding)\n",
    "print(b64)\n",
    "decoded = base64.b64decode(b64).decode('utf-8')\n",
    "print(decoded)"
   ]
  },
  {
   "cell_type": "code",
   "execution_count": null,
   "metadata": {},
   "outputs": [],
   "source": [
    "text = 'cqdkcllu'\n",
    "encoding = text.encode('utf-8')\n",
    "b64 = base64.b64encode(encoding)\n",
    "print(b64)\n",
    "decoded = base64.b64decode(b64).decode('utf-8')\n",
    "print(decoded)"
   ]
  },
  {
   "cell_type": "code",
   "execution_count": null,
   "metadata": {},
   "outputs": [],
   "source": [
    "text = 'nhvardttas'\n",
    "encoding = text.encode('utf-8')\n",
    "b64 = base64.b64encode(encoding)\n",
    "print(b64)\n",
    "decoded = base64.b64decode(b64).decode('utf-8')\n",
    "print(decoded)"
   ]
  },
  {
   "cell_type": "code",
   "execution_count": null,
   "metadata": {},
   "outputs": [],
   "source": [
    "text = 'xyeokeho'\n",
    "encoding = text.encode('utf-8')\n",
    "b64 = base64.b64encode(encoding)\n",
    "print(b64)\n",
    "decoded = base64.b64decode(b64).decode('utf-8')\n",
    "print(decoded)"
   ]
  },
  {
   "cell_type": "code",
   "execution_count": null,
   "metadata": {},
   "outputs": [],
   "source": [
    "text = 'laojiiw'\n",
    "encoding = text.encode('utf-8')\n",
    "b64 = base64.b64encode(encoding)\n",
    "print(b64)\n",
    "decoded = base64.b64decode(b64).decode('utf-8')\n",
    "print(decoded)"
   ]
  },
  {
   "cell_type": "code",
   "execution_count": null,
   "metadata": {},
   "outputs": [],
   "source": [
    "text = 'osczl'\n",
    "encoding = text.encode('utf-8')\n",
    "b64 = base64.b64encode(encoding)\n",
    "print(b64)\n",
    "decoded = base64.b64decode(b64).decode('utf-8')\n",
    "print(decoded)"
   ]
  },
  {
   "cell_type": "code",
   "execution_count": null,
   "metadata": {},
   "outputs": [],
   "source": [
    "text = 'ppxwawga'\n",
    "encoding = text.encode('utf-8')\n",
    "b64 = base64.b64encode(encoding)\n",
    "print(b64)\n",
    "decoded = base64.b64decode(b64).decode('utf-8')\n",
    "print(decoded)"
   ]
  },
  {
   "cell_type": "code",
   "execution_count": null,
   "metadata": {},
   "outputs": [],
   "source": [
    "text = 'bneqasdl'\n",
    "encoding = text.encode('utf-8')\n",
    "b64 = base64.b64encode(encoding)\n",
    "print(b64)\n",
    "decoded = base64.b64decode(b64).decode('utf-8')\n",
    "print(decoded)"
   ]
  },
  {
   "cell_type": "code",
   "execution_count": null,
   "metadata": {},
   "outputs": [],
   "source": [
    "text = 'bmvqhs'\n",
    "encoding = text.encode('utf-8')\n",
    "b64 = base64.b64encode(encoding)\n",
    "print(b64)\n",
    "decoded = base64.b64decode(b64).decode('utf-8')\n",
    "print(decoded)"
   ]
  },
  {
   "cell_type": "code",
   "execution_count": null,
   "metadata": {},
   "outputs": [],
   "source": [
    "text = 'clrpxng'\n",
    "encoding = text.encode('utf-8')\n",
    "b64 = base64.b64encode(encoding)\n",
    "print(b64)\n",
    "decoded = base64.b64decode(b64).decode('utf-8')\n",
    "print(decoded)"
   ]
  },
  {
   "cell_type": "code",
   "execution_count": null,
   "metadata": {},
   "outputs": [],
   "source": [
    "text = 'llcir'\n",
    "encoding = text.encode('utf-8')\n",
    "b64 = base64.b64encode(encoding)\n",
    "print(b64)\n",
    "decoded = base64.b64decode(b64).decode('utf-8')\n",
    "print(decoded)"
   ]
  },
  {
   "cell_type": "code",
   "execution_count": null,
   "metadata": {},
   "outputs": [],
   "source": [
    "text = 'kzlzvryzc'\n",
    "encoding = text.encode('utf-8')\n",
    "b64 = base64.b64encode(encoding)\n",
    "print(b64)\n",
    "decoded = base64.b64decode(b64).decode('utf-8')\n",
    "print(decoded)"
   ]
  },
  {
   "cell_type": "code",
   "execution_count": null,
   "metadata": {},
   "outputs": [],
   "source": [
    "text = 'ihqwch'\n",
    "encoding = text.encode('utf-8')\n",
    "b64 = base64.b64encode(encoding)\n",
    "print(b64)\n",
    "decoded = base64.b64decode(b64).decode('utf-8')\n",
    "print(decoded)"
   ]
  },
  {
   "cell_type": "code",
   "execution_count": null,
   "metadata": {},
   "outputs": [],
   "source": [
    "text = 'hudeb'\n",
    "encoding = text.encode('utf-8')\n",
    "b64 = base64.b64encode(encoding)\n",
    "print(b64)\n",
    "decoded = base64.b64decode(b64).decode('utf-8')\n",
    "print(decoded)"
   ]
  },
  {
   "cell_type": "code",
   "execution_count": null,
   "metadata": {},
   "outputs": [],
   "source": [
    "text = 'dmeowlra'\n",
    "encoding = text.encode('utf-8')\n",
    "b64 = base64.b64encode(encoding)\n",
    "print(b64)\n",
    "decoded = base64.b64decode(b64).decode('utf-8')\n",
    "print(decoded)"
   ]
  },
  {
   "cell_type": "code",
   "execution_count": null,
   "metadata": {},
   "outputs": [],
   "source": [
    "text = 'zfdwjrc'\n",
    "encoding = text.encode('utf-8')\n",
    "b64 = base64.b64encode(encoding)\n",
    "print(b64)\n",
    "decoded = base64.b64decode(b64).decode('utf-8')\n",
    "print(decoded)"
   ]
  },
  {
   "cell_type": "code",
   "execution_count": null,
   "metadata": {},
   "outputs": [],
   "source": [
    "text = 'kvhhpyyqk'\n",
    "encoding = text.encode('utf-8')\n",
    "b64 = base64.b64encode(encoding)\n",
    "print(b64)\n",
    "decoded = base64.b64decode(b64).decode('utf-8')\n",
    "print(decoded)"
   ]
  },
  {
   "cell_type": "code",
   "execution_count": null,
   "metadata": {},
   "outputs": [],
   "source": [
    "text = 'cjujsoi'\n",
    "encoding = text.encode('utf-8')\n",
    "b64 = base64.b64encode(encoding)\n",
    "print(b64)\n",
    "decoded = base64.b64decode(b64).decode('utf-8')\n",
    "print(decoded)"
   ]
  },
  {
   "cell_type": "code",
   "execution_count": null,
   "metadata": {},
   "outputs": [],
   "source": [
    "text = 'lifaxnksyl'\n",
    "encoding = text.encode('utf-8')\n",
    "b64 = base64.b64encode(encoding)\n",
    "print(b64)\n",
    "decoded = base64.b64decode(b64).decode('utf-8')\n",
    "print(decoded)"
   ]
  },
  {
   "cell_type": "code",
   "execution_count": null,
   "metadata": {},
   "outputs": [],
   "source": [
    "text = 'baczdq'\n",
    "encoding = text.encode('utf-8')\n",
    "b64 = base64.b64encode(encoding)\n",
    "print(b64)\n",
    "decoded = base64.b64decode(b64).decode('utf-8')\n",
    "print(decoded)"
   ]
  },
  {
   "cell_type": "code",
   "execution_count": null,
   "metadata": {},
   "outputs": [],
   "source": [
    "text = 'qukcv'\n",
    "encoding = text.encode('utf-8')\n",
    "b64 = base64.b64encode(encoding)\n",
    "print(b64)\n",
    "decoded = base64.b64decode(b64).decode('utf-8')\n",
    "print(decoded)"
   ]
  },
  {
   "cell_type": "code",
   "execution_count": null,
   "metadata": {},
   "outputs": [],
   "source": [
    "text = 'zopqtanq'\n",
    "encoding = text.encode('utf-8')\n",
    "b64 = base64.b64encode(encoding)\n",
    "print(b64)\n",
    "decoded = base64.b64decode(b64).decode('utf-8')\n",
    "print(decoded)"
   ]
  },
  {
   "cell_type": "code",
   "execution_count": null,
   "metadata": {},
   "outputs": [],
   "source": [
    "text = 'pvwxao'\n",
    "encoding = text.encode('utf-8')\n",
    "b64 = base64.b64encode(encoding)\n",
    "print(b64)\n",
    "decoded = base64.b64decode(b64).decode('utf-8')\n",
    "print(decoded)"
   ]
  },
  {
   "cell_type": "code",
   "execution_count": null,
   "metadata": {},
   "outputs": [],
   "source": [
    "text = 'fokwrrvs'\n",
    "encoding = text.encode('utf-8')\n",
    "b64 = base64.b64encode(encoding)\n",
    "print(b64)\n",
    "decoded = base64.b64decode(b64).decode('utf-8')\n",
    "print(decoded)"
   ]
  },
  {
   "cell_type": "code",
   "execution_count": null,
   "metadata": {},
   "outputs": [],
   "source": [
    "text = 'snhbxammse'\n",
    "encoding = text.encode('utf-8')\n",
    "b64 = base64.b64encode(encoding)\n",
    "print(b64)\n",
    "decoded = base64.b64decode(b64).decode('utf-8')\n",
    "print(decoded)"
   ]
  },
  {
   "cell_type": "code",
   "execution_count": null,
   "metadata": {},
   "outputs": [],
   "source": [
    "text = 'tmpnampgbd'\n",
    "encoding = text.encode('utf-8')\n",
    "b64 = base64.b64encode(encoding)\n",
    "print(b64)\n",
    "decoded = base64.b64decode(b64).decode('utf-8')\n",
    "print(decoded)"
   ]
  },
  {
   "cell_type": "code",
   "execution_count": null,
   "metadata": {},
   "outputs": [],
   "source": [
    "text = 'ebkgvlbbn'\n",
    "encoding = text.encode('utf-8')\n",
    "b64 = base64.b64encode(encoding)\n",
    "print(b64)\n",
    "decoded = base64.b64decode(b64).decode('utf-8')\n",
    "print(decoded)"
   ]
  },
  {
   "cell_type": "code",
   "execution_count": null,
   "metadata": {},
   "outputs": [],
   "source": [
    "text = 'tkxzvb'\n",
    "encoding = text.encode('utf-8')\n",
    "b64 = base64.b64encode(encoding)\n",
    "print(b64)\n",
    "decoded = base64.b64decode(b64).decode('utf-8')\n",
    "print(decoded)"
   ]
  },
  {
   "cell_type": "code",
   "execution_count": null,
   "metadata": {},
   "outputs": [],
   "source": [
    "text = 'yvjsssucw'\n",
    "encoding = text.encode('utf-8')\n",
    "b64 = base64.b64encode(encoding)\n",
    "print(b64)\n",
    "decoded = base64.b64decode(b64).decode('utf-8')\n",
    "print(decoded)"
   ]
  },
  {
   "cell_type": "code",
   "execution_count": null,
   "metadata": {},
   "outputs": [],
   "source": [
    "text = 'cybhznq'\n",
    "encoding = text.encode('utf-8')\n",
    "b64 = base64.b64encode(encoding)\n",
    "print(b64)\n",
    "decoded = base64.b64decode(b64).decode('utf-8')\n",
    "print(decoded)"
   ]
  },
  {
   "cell_type": "code",
   "execution_count": null,
   "metadata": {},
   "outputs": [],
   "source": [
    "text = 'bpskx'\n",
    "encoding = text.encode('utf-8')\n",
    "b64 = base64.b64encode(encoding)\n",
    "print(b64)\n",
    "decoded = base64.b64decode(b64).decode('utf-8')\n",
    "print(decoded)"
   ]
  },
  {
   "cell_type": "code",
   "execution_count": null,
   "metadata": {},
   "outputs": [],
   "source": [
    "text = 'cuyfjzlwd'\n",
    "encoding = text.encode('utf-8')\n",
    "b64 = base64.b64encode(encoding)\n",
    "print(b64)\n",
    "decoded = base64.b64decode(b64).decode('utf-8')\n",
    "print(decoded)"
   ]
  },
  {
   "cell_type": "code",
   "execution_count": null,
   "metadata": {},
   "outputs": [],
   "source": [
    "text = 'ykfocjf'\n",
    "encoding = text.encode('utf-8')\n",
    "b64 = base64.b64encode(encoding)\n",
    "print(b64)\n",
    "decoded = base64.b64decode(b64).decode('utf-8')\n",
    "print(decoded)"
   ]
  },
  {
   "cell_type": "code",
   "execution_count": null,
   "metadata": {},
   "outputs": [],
   "source": [
    "text = 'zaptxd'\n",
    "encoding = text.encode('utf-8')\n",
    "b64 = base64.b64encode(encoding)\n",
    "print(b64)\n",
    "decoded = base64.b64decode(b64).decode('utf-8')\n",
    "print(decoded)"
   ]
  },
  {
   "cell_type": "code",
   "execution_count": null,
   "metadata": {},
   "outputs": [],
   "source": [
    "text = 'miazcrnfx'\n",
    "encoding = text.encode('utf-8')\n",
    "b64 = base64.b64encode(encoding)\n",
    "print(b64)\n",
    "decoded = base64.b64decode(b64).decode('utf-8')\n",
    "print(decoded)"
   ]
  },
  {
   "cell_type": "code",
   "execution_count": null,
   "metadata": {},
   "outputs": [],
   "source": [
    "text = 'uogvdw'\n",
    "encoding = text.encode('utf-8')\n",
    "b64 = base64.b64encode(encoding)\n",
    "print(b64)\n",
    "decoded = base64.b64decode(b64).decode('utf-8')\n",
    "print(decoded)"
   ]
  },
  {
   "cell_type": "code",
   "execution_count": null,
   "metadata": {},
   "outputs": [],
   "source": [
    "text = 'pykfje'\n",
    "encoding = text.encode('utf-8')\n",
    "b64 = base64.b64encode(encoding)\n",
    "print(b64)\n",
    "decoded = base64.b64decode(b64).decode('utf-8')\n",
    "print(decoded)"
   ]
  },
  {
   "cell_type": "code",
   "execution_count": null,
   "metadata": {},
   "outputs": [],
   "source": [
    "text = 'uarwmtayze'\n",
    "encoding = text.encode('utf-8')\n",
    "b64 = base64.b64encode(encoding)\n",
    "print(b64)\n",
    "decoded = base64.b64decode(b64).decode('utf-8')\n",
    "print(decoded)"
   ]
  },
  {
   "cell_type": "code",
   "execution_count": null,
   "metadata": {},
   "outputs": [],
   "source": [
    "text = 'bsmolbuoh'\n",
    "encoding = text.encode('utf-8')\n",
    "b64 = base64.b64encode(encoding)\n",
    "print(b64)\n",
    "decoded = base64.b64decode(b64).decode('utf-8')\n",
    "print(decoded)"
   ]
  },
  {
   "cell_type": "code",
   "execution_count": null,
   "metadata": {},
   "outputs": [],
   "source": [
    "text = 'hehakf'\n",
    "encoding = text.encode('utf-8')\n",
    "b64 = base64.b64encode(encoding)\n",
    "print(b64)\n",
    "decoded = base64.b64decode(b64).decode('utf-8')\n",
    "print(decoded)"
   ]
  },
  {
   "cell_type": "code",
   "execution_count": null,
   "metadata": {},
   "outputs": [],
   "source": [
    "text = 'ayyryz'\n",
    "encoding = text.encode('utf-8')\n",
    "b64 = base64.b64encode(encoding)\n",
    "print(b64)\n",
    "decoded = base64.b64decode(b64).decode('utf-8')\n",
    "print(decoded)"
   ]
  },
  {
   "cell_type": "code",
   "execution_count": null,
   "metadata": {},
   "outputs": [],
   "source": [
    "text = 'pcfveg'\n",
    "encoding = text.encode('utf-8')\n",
    "b64 = base64.b64encode(encoding)\n",
    "print(b64)\n",
    "decoded = base64.b64decode(b64).decode('utf-8')\n",
    "print(decoded)"
   ]
  },
  {
   "cell_type": "code",
   "execution_count": null,
   "metadata": {},
   "outputs": [],
   "source": [
    "text = 'frkkq'\n",
    "encoding = text.encode('utf-8')\n",
    "b64 = base64.b64encode(encoding)\n",
    "print(b64)\n",
    "decoded = base64.b64decode(b64).decode('utf-8')\n",
    "print(decoded)"
   ]
  },
  {
   "cell_type": "code",
   "execution_count": null,
   "metadata": {},
   "outputs": [],
   "source": [
    "text = 'rcbyqkoro'\n",
    "encoding = text.encode('utf-8')\n",
    "b64 = base64.b64encode(encoding)\n",
    "print(b64)\n",
    "decoded = base64.b64decode(b64).decode('utf-8')\n",
    "print(decoded)"
   ]
  },
  {
   "cell_type": "code",
   "execution_count": null,
   "metadata": {},
   "outputs": [],
   "source": [
    "text = 'fvdys'\n",
    "encoding = text.encode('utf-8')\n",
    "b64 = base64.b64encode(encoding)\n",
    "print(b64)\n",
    "decoded = base64.b64decode(b64).decode('utf-8')\n",
    "print(decoded)"
   ]
  },
  {
   "cell_type": "code",
   "execution_count": null,
   "metadata": {},
   "outputs": [],
   "source": [
    "text = 'xzdszrndf'\n",
    "encoding = text.encode('utf-8')\n",
    "b64 = base64.b64encode(encoding)\n",
    "print(b64)\n",
    "decoded = base64.b64decode(b64).decode('utf-8')\n",
    "print(decoded)"
   ]
  },
  {
   "cell_type": "code",
   "execution_count": null,
   "metadata": {},
   "outputs": [],
   "source": [
    "text = 'xperathf'\n",
    "encoding = text.encode('utf-8')\n",
    "b64 = base64.b64encode(encoding)\n",
    "print(b64)\n",
    "decoded = base64.b64decode(b64).decode('utf-8')\n",
    "print(decoded)"
   ]
  },
  {
   "cell_type": "code",
   "execution_count": null,
   "metadata": {},
   "outputs": [],
   "source": [
    "text = 'kmakverj'\n",
    "encoding = text.encode('utf-8')\n",
    "b64 = base64.b64encode(encoding)\n",
    "print(b64)\n",
    "decoded = base64.b64decode(b64).decode('utf-8')\n",
    "print(decoded)"
   ]
  },
  {
   "cell_type": "code",
   "execution_count": null,
   "metadata": {},
   "outputs": [],
   "source": [
    "text = 'uxtabxixjn'\n",
    "encoding = text.encode('utf-8')\n",
    "b64 = base64.b64encode(encoding)\n",
    "print(b64)\n",
    "decoded = base64.b64decode(b64).decode('utf-8')\n",
    "print(decoded)"
   ]
  },
  {
   "cell_type": "code",
   "execution_count": null,
   "metadata": {},
   "outputs": [],
   "source": [
    "text = 'wbqjokf'\n",
    "encoding = text.encode('utf-8')\n",
    "b64 = base64.b64encode(encoding)\n",
    "print(b64)\n",
    "decoded = base64.b64decode(b64).decode('utf-8')\n",
    "print(decoded)"
   ]
  },
  {
   "cell_type": "code",
   "execution_count": null,
   "metadata": {},
   "outputs": [],
   "source": [
    "text = 'irtfhjwt'\n",
    "encoding = text.encode('utf-8')\n",
    "b64 = base64.b64encode(encoding)\n",
    "print(b64)\n",
    "decoded = base64.b64decode(b64).decode('utf-8')\n",
    "print(decoded)"
   ]
  },
  {
   "cell_type": "code",
   "execution_count": null,
   "metadata": {},
   "outputs": [],
   "source": [
    "text = 'lemeykmcm'\n",
    "encoding = text.encode('utf-8')\n",
    "b64 = base64.b64encode(encoding)\n",
    "print(b64)\n",
    "decoded = base64.b64decode(b64).decode('utf-8')\n",
    "print(decoded)"
   ]
  },
  {
   "cell_type": "code",
   "execution_count": null,
   "metadata": {},
   "outputs": [],
   "source": [
    "text = 'faxgtjfsno'\n",
    "encoding = text.encode('utf-8')\n",
    "b64 = base64.b64encode(encoding)\n",
    "print(b64)\n",
    "decoded = base64.b64decode(b64).decode('utf-8')\n",
    "print(decoded)"
   ]
  },
  {
   "cell_type": "code",
   "execution_count": null,
   "metadata": {},
   "outputs": [],
   "source": [
    "text = 'jxwowdp'\n",
    "encoding = text.encode('utf-8')\n",
    "b64 = base64.b64encode(encoding)\n",
    "print(b64)\n",
    "decoded = base64.b64decode(b64).decode('utf-8')\n",
    "print(decoded)"
   ]
  },
  {
   "cell_type": "code",
   "execution_count": null,
   "metadata": {},
   "outputs": [],
   "source": [
    "text = 'gvfuj'\n",
    "encoding = text.encode('utf-8')\n",
    "b64 = base64.b64encode(encoding)\n",
    "print(b64)\n",
    "decoded = base64.b64decode(b64).decode('utf-8')\n",
    "print(decoded)"
   ]
  },
  {
   "cell_type": "code",
   "execution_count": null,
   "metadata": {},
   "outputs": [],
   "source": [
    "text = 'jpizf'\n",
    "encoding = text.encode('utf-8')\n",
    "b64 = base64.b64encode(encoding)\n",
    "print(b64)\n",
    "decoded = base64.b64decode(b64).decode('utf-8')\n",
    "print(decoded)"
   ]
  },
  {
   "cell_type": "code",
   "execution_count": null,
   "metadata": {},
   "outputs": [],
   "source": [
    "text = 'ywpytjs'\n",
    "encoding = text.encode('utf-8')\n",
    "b64 = base64.b64encode(encoding)\n",
    "print(b64)\n",
    "decoded = base64.b64decode(b64).decode('utf-8')\n",
    "print(decoded)"
   ]
  },
  {
   "cell_type": "code",
   "execution_count": null,
   "metadata": {},
   "outputs": [],
   "source": [
    "text = 'fzdzyq'\n",
    "encoding = text.encode('utf-8')\n",
    "b64 = base64.b64encode(encoding)\n",
    "print(b64)\n",
    "decoded = base64.b64decode(b64).decode('utf-8')\n",
    "print(decoded)"
   ]
  },
  {
   "cell_type": "code",
   "execution_count": null,
   "metadata": {},
   "outputs": [],
   "source": [
    "text = 'kuokg'\n",
    "encoding = text.encode('utf-8')\n",
    "b64 = base64.b64encode(encoding)\n",
    "print(b64)\n",
    "decoded = base64.b64decode(b64).decode('utf-8')\n",
    "print(decoded)"
   ]
  },
  {
   "cell_type": "code",
   "execution_count": null,
   "metadata": {},
   "outputs": [],
   "source": [
    "text = 'ryzggfrv'\n",
    "encoding = text.encode('utf-8')\n",
    "b64 = base64.b64encode(encoding)\n",
    "print(b64)\n",
    "decoded = base64.b64decode(b64).decode('utf-8')\n",
    "print(decoded)"
   ]
  },
  {
   "cell_type": "code",
   "execution_count": null,
   "metadata": {},
   "outputs": [],
   "source": [
    "text = 'jionkzrlc'\n",
    "encoding = text.encode('utf-8')\n",
    "b64 = base64.b64encode(encoding)\n",
    "print(b64)\n",
    "decoded = base64.b64decode(b64).decode('utf-8')\n",
    "print(decoded)"
   ]
  },
  {
   "cell_type": "code",
   "execution_count": null,
   "metadata": {},
   "outputs": [],
   "source": [
    "text = 'gqlpxgeu'\n",
    "encoding = text.encode('utf-8')\n",
    "b64 = base64.b64encode(encoding)\n",
    "print(b64)\n",
    "decoded = base64.b64decode(b64).decode('utf-8')\n",
    "print(decoded)"
   ]
  },
  {
   "cell_type": "code",
   "execution_count": null,
   "metadata": {},
   "outputs": [],
   "source": [
    "text = 'nypmq'\n",
    "encoding = text.encode('utf-8')\n",
    "b64 = base64.b64encode(encoding)\n",
    "print(b64)\n",
    "decoded = base64.b64decode(b64).decode('utf-8')\n",
    "print(decoded)"
   ]
  },
  {
   "cell_type": "code",
   "execution_count": null,
   "metadata": {},
   "outputs": [],
   "source": [
    "text = 'sfnip'\n",
    "encoding = text.encode('utf-8')\n",
    "b64 = base64.b64encode(encoding)\n",
    "print(b64)\n",
    "decoded = base64.b64decode(b64).decode('utf-8')\n",
    "print(decoded)"
   ]
  },
  {
   "cell_type": "code",
   "execution_count": null,
   "metadata": {},
   "outputs": [],
   "source": [
    "text = 'egbhdzm'\n",
    "encoding = text.encode('utf-8')\n",
    "b64 = base64.b64encode(encoding)\n",
    "print(b64)\n",
    "decoded = base64.b64decode(b64).decode('utf-8')\n",
    "print(decoded)"
   ]
  },
  {
   "cell_type": "code",
   "execution_count": null,
   "metadata": {},
   "outputs": [],
   "source": [
    "text = 'boxkcqsygp'\n",
    "encoding = text.encode('utf-8')\n",
    "b64 = base64.b64encode(encoding)\n",
    "print(b64)\n",
    "decoded = base64.b64decode(b64).decode('utf-8')\n",
    "print(decoded)"
   ]
  },
  {
   "cell_type": "code",
   "execution_count": null,
   "metadata": {},
   "outputs": [],
   "source": [
    "text = 'cqnxzguup'\n",
    "encoding = text.encode('utf-8')\n",
    "b64 = base64.b64encode(encoding)\n",
    "print(b64)\n",
    "decoded = base64.b64decode(b64).decode('utf-8')\n",
    "print(decoded)"
   ]
  },
  {
   "cell_type": "code",
   "execution_count": null,
   "metadata": {},
   "outputs": [],
   "source": [
    "text = 'cozrywadd'\n",
    "encoding = text.encode('utf-8')\n",
    "b64 = base64.b64encode(encoding)\n",
    "print(b64)\n",
    "decoded = base64.b64decode(b64).decode('utf-8')\n",
    "print(decoded)"
   ]
  },
  {
   "cell_type": "code",
   "execution_count": null,
   "metadata": {},
   "outputs": [],
   "source": [
    "text = 'ijyckzk'\n",
    "encoding = text.encode('utf-8')\n",
    "b64 = base64.b64encode(encoding)\n",
    "print(b64)\n",
    "decoded = base64.b64decode(b64).decode('utf-8')\n",
    "print(decoded)"
   ]
  },
  {
   "cell_type": "code",
   "execution_count": null,
   "metadata": {},
   "outputs": [],
   "source": [
    "text = 'xqmndrxneq'\n",
    "encoding = text.encode('utf-8')\n",
    "b64 = base64.b64encode(encoding)\n",
    "print(b64)\n",
    "decoded = base64.b64decode(b64).decode('utf-8')\n",
    "print(decoded)"
   ]
  },
  {
   "cell_type": "code",
   "execution_count": null,
   "metadata": {},
   "outputs": [],
   "source": [
    "text = 'sxfxnn'\n",
    "encoding = text.encode('utf-8')\n",
    "b64 = base64.b64encode(encoding)\n",
    "print(b64)\n",
    "decoded = base64.b64decode(b64).decode('utf-8')\n",
    "print(decoded)"
   ]
  },
  {
   "cell_type": "code",
   "execution_count": null,
   "metadata": {},
   "outputs": [],
   "source": [
    "text = 'jrqlg'\n",
    "encoding = text.encode('utf-8')\n",
    "b64 = base64.b64encode(encoding)\n",
    "print(b64)\n",
    "decoded = base64.b64decode(b64).decode('utf-8')\n",
    "print(decoded)"
   ]
  },
  {
   "cell_type": "code",
   "execution_count": null,
   "metadata": {},
   "outputs": [],
   "source": [
    "text = 'qvhfhip'\n",
    "encoding = text.encode('utf-8')\n",
    "b64 = base64.b64encode(encoding)\n",
    "print(b64)\n",
    "decoded = base64.b64decode(b64).decode('utf-8')\n",
    "print(decoded)"
   ]
  },
  {
   "cell_type": "code",
   "execution_count": null,
   "metadata": {},
   "outputs": [],
   "source": [
    "text = 'huxhmnerh'\n",
    "encoding = text.encode('utf-8')\n",
    "b64 = base64.b64encode(encoding)\n",
    "print(b64)\n",
    "decoded = base64.b64decode(b64).decode('utf-8')\n",
    "print(decoded)"
   ]
  },
  {
   "cell_type": "code",
   "execution_count": null,
   "metadata": {},
   "outputs": [],
   "source": [
    "text = 'bdujivmwcq'\n",
    "encoding = text.encode('utf-8')\n",
    "b64 = base64.b64encode(encoding)\n",
    "print(b64)\n",
    "decoded = base64.b64decode(b64).decode('utf-8')\n",
    "print(decoded)"
   ]
  },
  {
   "cell_type": "code",
   "execution_count": null,
   "metadata": {},
   "outputs": [],
   "source": [
    "text = 'vixlejis'\n",
    "encoding = text.encode('utf-8')\n",
    "b64 = base64.b64encode(encoding)\n",
    "print(b64)\n",
    "decoded = base64.b64decode(b64).decode('utf-8')\n",
    "print(decoded)"
   ]
  },
  {
   "cell_type": "code",
   "execution_count": null,
   "metadata": {},
   "outputs": [],
   "source": [
    "text = 'zoawkm'\n",
    "encoding = text.encode('utf-8')\n",
    "b64 = base64.b64encode(encoding)\n",
    "print(b64)\n",
    "decoded = base64.b64decode(b64).decode('utf-8')\n",
    "print(decoded)"
   ]
  },
  {
   "cell_type": "code",
   "execution_count": null,
   "metadata": {},
   "outputs": [],
   "source": [
    "text = 'bpinmnmwu'\n",
    "encoding = text.encode('utf-8')\n",
    "b64 = base64.b64encode(encoding)\n",
    "print(b64)\n",
    "decoded = base64.b64decode(b64).decode('utf-8')\n",
    "print(decoded)"
   ]
  },
  {
   "cell_type": "code",
   "execution_count": null,
   "metadata": {},
   "outputs": [],
   "source": [
    "text = 'phhpha'\n",
    "encoding = text.encode('utf-8')\n",
    "b64 = base64.b64encode(encoding)\n",
    "print(b64)\n",
    "decoded = base64.b64decode(b64).decode('utf-8')\n",
    "print(decoded)"
   ]
  },
  {
   "cell_type": "code",
   "execution_count": null,
   "metadata": {},
   "outputs": [],
   "source": [
    "text = 'scpvlonjk'\n",
    "encoding = text.encode('utf-8')\n",
    "b64 = base64.b64encode(encoding)\n",
    "print(b64)\n",
    "decoded = base64.b64decode(b64).decode('utf-8')\n",
    "print(decoded)"
   ]
  },
  {
   "cell_type": "code",
   "execution_count": null,
   "metadata": {},
   "outputs": [],
   "source": [
    "text = 'mnelmkgxph'\n",
    "encoding = text.encode('utf-8')\n",
    "b64 = base64.b64encode(encoding)\n",
    "print(b64)\n",
    "decoded = base64.b64decode(b64).decode('utf-8')\n",
    "print(decoded)"
   ]
  },
  {
   "cell_type": "code",
   "execution_count": null,
   "metadata": {},
   "outputs": [],
   "source": [
    "text = 'bojrvbdqs'\n",
    "encoding = text.encode('utf-8')\n",
    "b64 = base64.b64encode(encoding)\n",
    "print(b64)\n",
    "decoded = base64.b64decode(b64).decode('utf-8')\n",
    "print(decoded)"
   ]
  },
  {
   "cell_type": "code",
   "execution_count": null,
   "metadata": {},
   "outputs": [],
   "source": [
    "text = 'rzjkhmyo'\n",
    "encoding = text.encode('utf-8')\n",
    "b64 = base64.b64encode(encoding)\n",
    "print(b64)\n",
    "decoded = base64.b64decode(b64).decode('utf-8')\n",
    "print(decoded)"
   ]
  },
  {
   "cell_type": "code",
   "execution_count": null,
   "metadata": {},
   "outputs": [],
   "source": [
    "text = 'lrviyae'\n",
    "encoding = text.encode('utf-8')\n",
    "b64 = base64.b64encode(encoding)\n",
    "print(b64)\n",
    "decoded = base64.b64decode(b64).decode('utf-8')\n",
    "print(decoded)"
   ]
  },
  {
   "cell_type": "code",
   "execution_count": null,
   "metadata": {},
   "outputs": [],
   "source": [
    "text = 'fyendjhy'\n",
    "encoding = text.encode('utf-8')\n",
    "b64 = base64.b64encode(encoding)\n",
    "print(b64)\n",
    "decoded = base64.b64decode(b64).decode('utf-8')\n",
    "print(decoded)"
   ]
  },
  {
   "cell_type": "code",
   "execution_count": null,
   "metadata": {},
   "outputs": [],
   "source": [
    "text = 'iwfvfifa'\n",
    "encoding = text.encode('utf-8')\n",
    "b64 = base64.b64encode(encoding)\n",
    "print(b64)\n",
    "decoded = base64.b64decode(b64).decode('utf-8')\n",
    "print(decoded)"
   ]
  },
  {
   "cell_type": "code",
   "execution_count": null,
   "metadata": {},
   "outputs": [],
   "source": [
    "text = 'cxlhciulzv'\n",
    "encoding = text.encode('utf-8')\n",
    "b64 = base64.b64encode(encoding)\n",
    "print(b64)\n",
    "decoded = base64.b64decode(b64).decode('utf-8')\n",
    "print(decoded)"
   ]
  },
  {
   "cell_type": "code",
   "execution_count": null,
   "metadata": {},
   "outputs": [],
   "source": [
    "text = 'baprtfypxc'\n",
    "encoding = text.encode('utf-8')\n",
    "b64 = base64.b64encode(encoding)\n",
    "print(b64)\n",
    "decoded = base64.b64decode(b64).decode('utf-8')\n",
    "print(decoded)"
   ]
  },
  {
   "cell_type": "code",
   "execution_count": null,
   "metadata": {},
   "outputs": [],
   "source": [
    "text = 'biuvkoh'\n",
    "encoding = text.encode('utf-8')\n",
    "b64 = base64.b64encode(encoding)\n",
    "print(b64)\n",
    "decoded = base64.b64decode(b64).decode('utf-8')\n",
    "print(decoded)"
   ]
  },
  {
   "cell_type": "code",
   "execution_count": null,
   "metadata": {},
   "outputs": [],
   "source": [
    "text = 'jyotgfw'\n",
    "encoding = text.encode('utf-8')\n",
    "b64 = base64.b64encode(encoding)\n",
    "print(b64)\n",
    "decoded = base64.b64decode(b64).decode('utf-8')\n",
    "print(decoded)"
   ]
  },
  {
   "cell_type": "code",
   "execution_count": null,
   "metadata": {},
   "outputs": [],
   "source": [
    "text = 'exqlwyzip'\n",
    "encoding = text.encode('utf-8')\n",
    "b64 = base64.b64encode(encoding)\n",
    "print(b64)\n",
    "decoded = base64.b64decode(b64).decode('utf-8')\n",
    "print(decoded)"
   ]
  },
  {
   "cell_type": "code",
   "execution_count": null,
   "metadata": {},
   "outputs": [],
   "source": [
    "text = 'vpjlowmwo'\n",
    "encoding = text.encode('utf-8')\n",
    "b64 = base64.b64encode(encoding)\n",
    "print(b64)\n",
    "decoded = base64.b64decode(b64).decode('utf-8')\n",
    "print(decoded)"
   ]
  },
  {
   "cell_type": "code",
   "execution_count": null,
   "metadata": {},
   "outputs": [],
   "source": [
    "text = 'fdhonbhy'\n",
    "encoding = text.encode('utf-8')\n",
    "b64 = base64.b64encode(encoding)\n",
    "print(b64)\n",
    "decoded = base64.b64decode(b64).decode('utf-8')\n",
    "print(decoded)"
   ]
  },
  {
   "cell_type": "code",
   "execution_count": null,
   "metadata": {},
   "outputs": [],
   "source": [
    "text = 'xdfysyqbs'\n",
    "encoding = text.encode('utf-8')\n",
    "b64 = base64.b64encode(encoding)\n",
    "print(b64)\n",
    "decoded = base64.b64decode(b64).decode('utf-8')\n",
    "print(decoded)"
   ]
  },
  {
   "cell_type": "code",
   "execution_count": null,
   "metadata": {},
   "outputs": [],
   "source": [
    "text = 'howcq'\n",
    "encoding = text.encode('utf-8')\n",
    "b64 = base64.b64encode(encoding)\n",
    "print(b64)\n",
    "decoded = base64.b64decode(b64).decode('utf-8')\n",
    "print(decoded)"
   ]
  },
  {
   "cell_type": "code",
   "execution_count": null,
   "metadata": {},
   "outputs": [],
   "source": [
    "text = 'xtfscvy'\n",
    "encoding = text.encode('utf-8')\n",
    "b64 = base64.b64encode(encoding)\n",
    "print(b64)\n",
    "decoded = base64.b64decode(b64).decode('utf-8')\n",
    "print(decoded)"
   ]
  },
  {
   "cell_type": "code",
   "execution_count": null,
   "metadata": {},
   "outputs": [],
   "source": [
    "text = 'wnoqh'\n",
    "encoding = text.encode('utf-8')\n",
    "b64 = base64.b64encode(encoding)\n",
    "print(b64)\n",
    "decoded = base64.b64decode(b64).decode('utf-8')\n",
    "print(decoded)"
   ]
  },
  {
   "cell_type": "code",
   "execution_count": null,
   "metadata": {},
   "outputs": [],
   "source": [
    "text = 'aukzknq'\n",
    "encoding = text.encode('utf-8')\n",
    "b64 = base64.b64encode(encoding)\n",
    "print(b64)\n",
    "decoded = base64.b64decode(b64).decode('utf-8')\n",
    "print(decoded)"
   ]
  },
  {
   "cell_type": "code",
   "execution_count": null,
   "metadata": {},
   "outputs": [],
   "source": [
    "text = 'ulwobdrp'\n",
    "encoding = text.encode('utf-8')\n",
    "b64 = base64.b64encode(encoding)\n",
    "print(b64)\n",
    "decoded = base64.b64decode(b64).decode('utf-8')\n",
    "print(decoded)"
   ]
  },
  {
   "cell_type": "code",
   "execution_count": null,
   "metadata": {},
   "outputs": [],
   "source": [
    "text = 'ztzmxze'\n",
    "encoding = text.encode('utf-8')\n",
    "b64 = base64.b64encode(encoding)\n",
    "print(b64)\n",
    "decoded = base64.b64decode(b64).decode('utf-8')\n",
    "print(decoded)"
   ]
  },
  {
   "cell_type": "code",
   "execution_count": null,
   "metadata": {},
   "outputs": [],
   "source": [
    "text = 'jinxk'\n",
    "encoding = text.encode('utf-8')\n",
    "b64 = base64.b64encode(encoding)\n",
    "print(b64)\n",
    "decoded = base64.b64decode(b64).decode('utf-8')\n",
    "print(decoded)"
   ]
  },
  {
   "cell_type": "code",
   "execution_count": null,
   "metadata": {},
   "outputs": [],
   "source": [
    "text = 'secxgik'\n",
    "encoding = text.encode('utf-8')\n",
    "b64 = base64.b64encode(encoding)\n",
    "print(b64)\n",
    "decoded = base64.b64decode(b64).decode('utf-8')\n",
    "print(decoded)"
   ]
  },
  {
   "cell_type": "code",
   "execution_count": null,
   "metadata": {},
   "outputs": [],
   "source": [
    "text = 'ylkycqs'\n",
    "encoding = text.encode('utf-8')\n",
    "b64 = base64.b64encode(encoding)\n",
    "print(b64)\n",
    "decoded = base64.b64decode(b64).decode('utf-8')\n",
    "print(decoded)"
   ]
  },
  {
   "cell_type": "code",
   "execution_count": null,
   "metadata": {},
   "outputs": [],
   "source": [
    "text = 'bwhcwk'\n",
    "encoding = text.encode('utf-8')\n",
    "b64 = base64.b64encode(encoding)\n",
    "print(b64)\n",
    "decoded = base64.b64decode(b64).decode('utf-8')\n",
    "print(decoded)"
   ]
  },
  {
   "cell_type": "code",
   "execution_count": null,
   "metadata": {},
   "outputs": [],
   "source": [
    "text = 'qvjuhzw'\n",
    "encoding = text.encode('utf-8')\n",
    "b64 = base64.b64encode(encoding)\n",
    "print(b64)\n",
    "decoded = base64.b64decode(b64).decode('utf-8')\n",
    "print(decoded)"
   ]
  },
  {
   "cell_type": "code",
   "execution_count": null,
   "metadata": {},
   "outputs": [],
   "source": [
    "text = 'xvwlaju'\n",
    "encoding = text.encode('utf-8')\n",
    "b64 = base64.b64encode(encoding)\n",
    "print(b64)\n",
    "decoded = base64.b64decode(b64).decode('utf-8')\n",
    "print(decoded)"
   ]
  },
  {
   "cell_type": "code",
   "execution_count": null,
   "metadata": {},
   "outputs": [],
   "source": [
    "text = 'fhypelw'\n",
    "encoding = text.encode('utf-8')\n",
    "b64 = base64.b64encode(encoding)\n",
    "print(b64)\n",
    "decoded = base64.b64decode(b64).decode('utf-8')\n",
    "print(decoded)"
   ]
  },
  {
   "cell_type": "code",
   "execution_count": null,
   "metadata": {},
   "outputs": [],
   "source": [
    "text = 'kvpgzror'\n",
    "encoding = text.encode('utf-8')\n",
    "b64 = base64.b64encode(encoding)\n",
    "print(b64)\n",
    "decoded = base64.b64decode(b64).decode('utf-8')\n",
    "print(decoded)"
   ]
  },
  {
   "cell_type": "code",
   "execution_count": null,
   "metadata": {},
   "outputs": [],
   "source": [
    "text = 'ucpgwma'\n",
    "encoding = text.encode('utf-8')\n",
    "b64 = base64.b64encode(encoding)\n",
    "print(b64)\n",
    "decoded = base64.b64decode(b64).decode('utf-8')\n",
    "print(decoded)"
   ]
  },
  {
   "cell_type": "code",
   "execution_count": null,
   "metadata": {},
   "outputs": [],
   "source": [
    "text = 'vlnugxdr'\n",
    "encoding = text.encode('utf-8')\n",
    "b64 = base64.b64encode(encoding)\n",
    "print(b64)\n",
    "decoded = base64.b64decode(b64).decode('utf-8')\n",
    "print(decoded)"
   ]
  },
  {
   "cell_type": "code",
   "execution_count": null,
   "metadata": {},
   "outputs": [],
   "source": [
    "text = 'dvrksjyc'\n",
    "encoding = text.encode('utf-8')\n",
    "b64 = base64.b64encode(encoding)\n",
    "print(b64)\n",
    "decoded = base64.b64decode(b64).decode('utf-8')\n",
    "print(decoded)"
   ]
  },
  {
   "cell_type": "code",
   "execution_count": null,
   "metadata": {},
   "outputs": [],
   "source": [
    "text = 'rlkpqmqrxs'\n",
    "encoding = text.encode('utf-8')\n",
    "b64 = base64.b64encode(encoding)\n",
    "print(b64)\n",
    "decoded = base64.b64decode(b64).decode('utf-8')\n",
    "print(decoded)"
   ]
  },
  {
   "cell_type": "code",
   "execution_count": null,
   "metadata": {},
   "outputs": [],
   "source": [
    "text = 'mwbxhmlbth'\n",
    "encoding = text.encode('utf-8')\n",
    "b64 = base64.b64encode(encoding)\n",
    "print(b64)\n",
    "decoded = base64.b64decode(b64).decode('utf-8')\n",
    "print(decoded)"
   ]
  },
  {
   "cell_type": "code",
   "execution_count": null,
   "metadata": {},
   "outputs": [],
   "source": [
    "text = 'zclpdxn'\n",
    "encoding = text.encode('utf-8')\n",
    "b64 = base64.b64encode(encoding)\n",
    "print(b64)\n",
    "decoded = base64.b64decode(b64).decode('utf-8')\n",
    "print(decoded)"
   ]
  },
  {
   "cell_type": "code",
   "execution_count": null,
   "metadata": {},
   "outputs": [],
   "source": [
    "text = 'mawmeuefyr'\n",
    "encoding = text.encode('utf-8')\n",
    "b64 = base64.b64encode(encoding)\n",
    "print(b64)\n",
    "decoded = base64.b64decode(b64).decode('utf-8')\n",
    "print(decoded)"
   ]
  },
  {
   "cell_type": "code",
   "execution_count": null,
   "metadata": {},
   "outputs": [],
   "source": [
    "text = 'rfuwnoqrj'\n",
    "encoding = text.encode('utf-8')\n",
    "b64 = base64.b64encode(encoding)\n",
    "print(b64)\n",
    "decoded = base64.b64decode(b64).decode('utf-8')\n",
    "print(decoded)"
   ]
  },
  {
   "cell_type": "code",
   "execution_count": null,
   "metadata": {},
   "outputs": [],
   "source": [
    "text = 'oiiek'\n",
    "encoding = text.encode('utf-8')\n",
    "b64 = base64.b64encode(encoding)\n",
    "print(b64)\n",
    "decoded = base64.b64decode(b64).decode('utf-8')\n",
    "print(decoded)"
   ]
  },
  {
   "cell_type": "code",
   "execution_count": null,
   "metadata": {},
   "outputs": [],
   "source": [
    "text = 'wgesrgg'\n",
    "encoding = text.encode('utf-8')\n",
    "b64 = base64.b64encode(encoding)\n",
    "print(b64)\n",
    "decoded = base64.b64decode(b64).decode('utf-8')\n",
    "print(decoded)"
   ]
  },
  {
   "cell_type": "code",
   "execution_count": null,
   "metadata": {},
   "outputs": [],
   "source": [
    "text = 'lgnjjzsro'\n",
    "encoding = text.encode('utf-8')\n",
    "b64 = base64.b64encode(encoding)\n",
    "print(b64)\n",
    "decoded = base64.b64decode(b64).decode('utf-8')\n",
    "print(decoded)"
   ]
  },
  {
   "cell_type": "code",
   "execution_count": null,
   "metadata": {},
   "outputs": [],
   "source": [
    "text = 'fbebvjjayg'\n",
    "encoding = text.encode('utf-8')\n",
    "b64 = base64.b64encode(encoding)\n",
    "print(b64)\n",
    "decoded = base64.b64decode(b64).decode('utf-8')\n",
    "print(decoded)"
   ]
  },
  {
   "cell_type": "code",
   "execution_count": null,
   "metadata": {},
   "outputs": [],
   "source": [
    "text = 'fmycnb'\n",
    "encoding = text.encode('utf-8')\n",
    "b64 = base64.b64encode(encoding)\n",
    "print(b64)\n",
    "decoded = base64.b64decode(b64).decode('utf-8')\n",
    "print(decoded)"
   ]
  },
  {
   "cell_type": "code",
   "execution_count": null,
   "metadata": {},
   "outputs": [],
   "source": [
    "text = 'bmmlme'\n",
    "encoding = text.encode('utf-8')\n",
    "b64 = base64.b64encode(encoding)\n",
    "print(b64)\n",
    "decoded = base64.b64decode(b64).decode('utf-8')\n",
    "print(decoded)"
   ]
  },
  {
   "cell_type": "code",
   "execution_count": null,
   "metadata": {},
   "outputs": [],
   "source": [
    "text = 'xpaetik'\n",
    "encoding = text.encode('utf-8')\n",
    "b64 = base64.b64encode(encoding)\n",
    "print(b64)\n",
    "decoded = base64.b64decode(b64).decode('utf-8')\n",
    "print(decoded)"
   ]
  },
  {
   "cell_type": "code",
   "execution_count": null,
   "metadata": {},
   "outputs": [],
   "source": [
    "text = 'pofatxirs'\n",
    "encoding = text.encode('utf-8')\n",
    "b64 = base64.b64encode(encoding)\n",
    "print(b64)\n",
    "decoded = base64.b64decode(b64).decode('utf-8')\n",
    "print(decoded)"
   ]
  },
  {
   "cell_type": "code",
   "execution_count": null,
   "metadata": {},
   "outputs": [],
   "source": [
    "text = 'ubororhz'\n",
    "encoding = text.encode('utf-8')\n",
    "b64 = base64.b64encode(encoding)\n",
    "print(b64)\n",
    "decoded = base64.b64decode(b64).decode('utf-8')\n",
    "print(decoded)"
   ]
  },
  {
   "cell_type": "code",
   "execution_count": null,
   "metadata": {},
   "outputs": [],
   "source": [
    "text = 'vvdcvm'\n",
    "encoded = text.encode('utf-8')\n",
    "hash_val = hashlib.md5(encoded).hexdigest()\n",
    "print('md5 hash:', hash_val)"
   ]
  },
  {
   "cell_type": "code",
   "execution_count": null,
   "metadata": {},
   "outputs": [],
   "source": [
    "text = 'qoicikh'\n",
    "encoded = text.encode('utf-8')\n",
    "hash_val = hashlib.sha512(encoded).hexdigest()\n",
    "print('sha512 hash:', hash_val)"
   ]
  },
  {
   "cell_type": "code",
   "execution_count": null,
   "metadata": {},
   "outputs": [],
   "source": [
    "text = 'bdbdrl'\n",
    "encoded = text.encode('utf-8')\n",
    "hash_val = hashlib.sha256(encoded).hexdigest()\n",
    "print('sha256 hash:', hash_val)"
   ]
  },
  {
   "cell_type": "code",
   "execution_count": null,
   "metadata": {},
   "outputs": [],
   "source": [
    "text = 'ozkapym'\n",
    "encoded = text.encode('utf-8')\n",
    "hash_val = hashlib.sha256(encoded).hexdigest()\n",
    "print('sha256 hash:', hash_val)"
   ]
  },
  {
   "cell_type": "code",
   "execution_count": null,
   "metadata": {},
   "outputs": [],
   "source": [
    "text = 'ubdhmfray'\n",
    "encoded = text.encode('utf-8')\n",
    "hash_val = hashlib.md5(encoded).hexdigest()\n",
    "print('md5 hash:', hash_val)"
   ]
  },
  {
   "cell_type": "code",
   "execution_count": null,
   "metadata": {},
   "outputs": [],
   "source": [
    "text = 'xznehq'\n",
    "encoded = text.encode('utf-8')\n",
    "hash_val = hashlib.sha256(encoded).hexdigest()\n",
    "print('sha256 hash:', hash_val)"
   ]
  },
  {
   "cell_type": "code",
   "execution_count": null,
   "metadata": {},
   "outputs": [],
   "source": [
    "text = 'imnsvsb'\n",
    "encoded = text.encode('utf-8')\n",
    "hash_val = hashlib.sha256(encoded).hexdigest()\n",
    "print('sha256 hash:', hash_val)"
   ]
  },
  {
   "cell_type": "code",
   "execution_count": null,
   "metadata": {},
   "outputs": [],
   "source": [
    "text = 'swxhubvdkh'\n",
    "encoded = text.encode('utf-8')\n",
    "hash_val = hashlib.md5(encoded).hexdigest()\n",
    "print('md5 hash:', hash_val)"
   ]
  },
  {
   "cell_type": "code",
   "execution_count": null,
   "metadata": {},
   "outputs": [],
   "source": [
    "text = 'tpfzo'\n",
    "encoded = text.encode('utf-8')\n",
    "hash_val = hashlib.md5(encoded).hexdigest()\n",
    "print('md5 hash:', hash_val)"
   ]
  },
  {
   "cell_type": "code",
   "execution_count": null,
   "metadata": {},
   "outputs": [],
   "source": [
    "text = 'qxcgsd'\n",
    "encoded = text.encode('utf-8')\n",
    "hash_val = hashlib.sha1(encoded).hexdigest()\n",
    "print('sha1 hash:', hash_val)"
   ]
  },
  {
   "cell_type": "code",
   "execution_count": null,
   "metadata": {},
   "outputs": [],
   "source": [
    "text = 'iiirin'\n",
    "encoded = text.encode('utf-8')\n",
    "hash_val = hashlib.sha256(encoded).hexdigest()\n",
    "print('sha256 hash:', hash_val)"
   ]
  },
  {
   "cell_type": "code",
   "execution_count": null,
   "metadata": {},
   "outputs": [],
   "source": [
    "text = 'igpbztshw'\n",
    "encoded = text.encode('utf-8')\n",
    "hash_val = hashlib.sha256(encoded).hexdigest()\n",
    "print('sha256 hash:', hash_val)"
   ]
  },
  {
   "cell_type": "code",
   "execution_count": null,
   "metadata": {},
   "outputs": [],
   "source": [
    "text = 'tcbepoivva'\n",
    "encoded = text.encode('utf-8')\n",
    "hash_val = hashlib.sha256(encoded).hexdigest()\n",
    "print('sha256 hash:', hash_val)"
   ]
  },
  {
   "cell_type": "code",
   "execution_count": null,
   "metadata": {},
   "outputs": [],
   "source": [
    "text = 'uwkew'\n",
    "encoded = text.encode('utf-8')\n",
    "hash_val = hashlib.sha1(encoded).hexdigest()\n",
    "print('sha1 hash:', hash_val)"
   ]
  },
  {
   "cell_type": "code",
   "execution_count": null,
   "metadata": {},
   "outputs": [],
   "source": [
    "text = 'umjfl'\n",
    "encoded = text.encode('utf-8')\n",
    "hash_val = hashlib.sha1(encoded).hexdigest()\n",
    "print('sha1 hash:', hash_val)"
   ]
  },
  {
   "cell_type": "code",
   "execution_count": null,
   "metadata": {},
   "outputs": [],
   "source": [
    "text = 'pdhgb'\n",
    "encoded = text.encode('utf-8')\n",
    "hash_val = hashlib.sha512(encoded).hexdigest()\n",
    "print('sha512 hash:', hash_val)"
   ]
  },
  {
   "cell_type": "code",
   "execution_count": null,
   "metadata": {},
   "outputs": [],
   "source": [
    "text = 'asfay'\n",
    "encoded = text.encode('utf-8')\n",
    "hash_val = hashlib.sha256(encoded).hexdigest()\n",
    "print('sha256 hash:', hash_val)"
   ]
  },
  {
   "cell_type": "code",
   "execution_count": null,
   "metadata": {},
   "outputs": [],
   "source": [
    "text = 'ttzqdsgs'\n",
    "encoded = text.encode('utf-8')\n",
    "hash_val = hashlib.sha1(encoded).hexdigest()\n",
    "print('sha1 hash:', hash_val)"
   ]
  },
  {
   "cell_type": "code",
   "execution_count": null,
   "metadata": {},
   "outputs": [],
   "source": [
    "text = 'faqriqyxl'\n",
    "encoded = text.encode('utf-8')\n",
    "hash_val = hashlib.sha256(encoded).hexdigest()\n",
    "print('sha256 hash:', hash_val)"
   ]
  },
  {
   "cell_type": "code",
   "execution_count": null,
   "metadata": {},
   "outputs": [],
   "source": [
    "text = 'ysxqffotcw'\n",
    "encoded = text.encode('utf-8')\n",
    "hash_val = hashlib.md5(encoded).hexdigest()\n",
    "print('md5 hash:', hash_val)"
   ]
  },
  {
   "cell_type": "code",
   "execution_count": null,
   "metadata": {},
   "outputs": [],
   "source": [
    "text = 'cxhni'\n",
    "encoded = text.encode('utf-8')\n",
    "hash_val = hashlib.md5(encoded).hexdigest()\n",
    "print('md5 hash:', hash_val)"
   ]
  },
  {
   "cell_type": "code",
   "execution_count": null,
   "metadata": {},
   "outputs": [],
   "source": [
    "text = 'mmzqqa'\n",
    "encoded = text.encode('utf-8')\n",
    "hash_val = hashlib.md5(encoded).hexdigest()\n",
    "print('md5 hash:', hash_val)"
   ]
  },
  {
   "cell_type": "code",
   "execution_count": null,
   "metadata": {},
   "outputs": [],
   "source": [
    "text = 'apozhtraic'\n",
    "encoded = text.encode('utf-8')\n",
    "hash_val = hashlib.sha256(encoded).hexdigest()\n",
    "print('sha256 hash:', hash_val)"
   ]
  },
  {
   "cell_type": "code",
   "execution_count": null,
   "metadata": {},
   "outputs": [],
   "source": [
    "text = 'hrndlrzlb'\n",
    "encoded = text.encode('utf-8')\n",
    "hash_val = hashlib.sha512(encoded).hexdigest()\n",
    "print('sha512 hash:', hash_val)"
   ]
  },
  {
   "cell_type": "code",
   "execution_count": null,
   "metadata": {},
   "outputs": [],
   "source": [
    "text = 'zxrhclcyna'\n",
    "encoded = text.encode('utf-8')\n",
    "hash_val = hashlib.sha256(encoded).hexdigest()\n",
    "print('sha256 hash:', hash_val)"
   ]
  },
  {
   "cell_type": "code",
   "execution_count": null,
   "metadata": {},
   "outputs": [],
   "source": [
    "text = 'guhqvabqej'\n",
    "encoded = text.encode('utf-8')\n",
    "hash_val = hashlib.sha512(encoded).hexdigest()\n",
    "print('sha512 hash:', hash_val)"
   ]
  },
  {
   "cell_type": "code",
   "execution_count": null,
   "metadata": {},
   "outputs": [],
   "source": [
    "text = 'fzlbpti'\n",
    "encoded = text.encode('utf-8')\n",
    "hash_val = hashlib.sha1(encoded).hexdigest()\n",
    "print('sha1 hash:', hash_val)"
   ]
  },
  {
   "cell_type": "code",
   "execution_count": null,
   "metadata": {},
   "outputs": [],
   "source": [
    "text = 'xhtwhp'\n",
    "encoded = text.encode('utf-8')\n",
    "hash_val = hashlib.sha1(encoded).hexdigest()\n",
    "print('sha1 hash:', hash_val)"
   ]
  },
  {
   "cell_type": "code",
   "execution_count": null,
   "metadata": {},
   "outputs": [],
   "source": [
    "text = 'homowdqklq'\n",
    "encoded = text.encode('utf-8')\n",
    "hash_val = hashlib.sha512(encoded).hexdigest()\n",
    "print('sha512 hash:', hash_val)"
   ]
  },
  {
   "cell_type": "code",
   "execution_count": null,
   "metadata": {},
   "outputs": [],
   "source": [
    "text = 'xypuoxjp'\n",
    "encoded = text.encode('utf-8')\n",
    "hash_val = hashlib.md5(encoded).hexdigest()\n",
    "print('md5 hash:', hash_val)"
   ]
  },
  {
   "cell_type": "code",
   "execution_count": null,
   "metadata": {},
   "outputs": [],
   "source": [
    "text = 'oohjlhq'\n",
    "encoded = text.encode('utf-8')\n",
    "hash_val = hashlib.sha1(encoded).hexdigest()\n",
    "print('sha1 hash:', hash_val)"
   ]
  },
  {
   "cell_type": "code",
   "execution_count": null,
   "metadata": {},
   "outputs": [],
   "source": [
    "text = 'npucyrilzr'\n",
    "encoded = text.encode('utf-8')\n",
    "hash_val = hashlib.sha256(encoded).hexdigest()\n",
    "print('sha256 hash:', hash_val)"
   ]
  },
  {
   "cell_type": "code",
   "execution_count": null,
   "metadata": {},
   "outputs": [],
   "source": [
    "text = 'squhzsvlt'\n",
    "encoded = text.encode('utf-8')\n",
    "hash_val = hashlib.sha512(encoded).hexdigest()\n",
    "print('sha512 hash:', hash_val)"
   ]
  },
  {
   "cell_type": "code",
   "execution_count": null,
   "metadata": {},
   "outputs": [],
   "source": [
    "text = 'ylqrgne'\n",
    "encoded = text.encode('utf-8')\n",
    "hash_val = hashlib.sha1(encoded).hexdigest()\n",
    "print('sha1 hash:', hash_val)"
   ]
  },
  {
   "cell_type": "code",
   "execution_count": null,
   "metadata": {},
   "outputs": [],
   "source": [
    "text = 'ianyliypde'\n",
    "encoded = text.encode('utf-8')\n",
    "hash_val = hashlib.sha1(encoded).hexdigest()\n",
    "print('sha1 hash:', hash_val)"
   ]
  },
  {
   "cell_type": "code",
   "execution_count": null,
   "metadata": {},
   "outputs": [],
   "source": [
    "text = 'dddqkaqju'\n",
    "encoded = text.encode('utf-8')\n",
    "hash_val = hashlib.md5(encoded).hexdigest()\n",
    "print('md5 hash:', hash_val)"
   ]
  },
  {
   "cell_type": "code",
   "execution_count": null,
   "metadata": {},
   "outputs": [],
   "source": [
    "text = 'ugbeihzi'\n",
    "encoded = text.encode('utf-8')\n",
    "hash_val = hashlib.sha1(encoded).hexdigest()\n",
    "print('sha1 hash:', hash_val)"
   ]
  },
  {
   "cell_type": "code",
   "execution_count": null,
   "metadata": {},
   "outputs": [],
   "source": [
    "text = 'jkhjicxklw'\n",
    "encoded = text.encode('utf-8')\n",
    "hash_val = hashlib.sha512(encoded).hexdigest()\n",
    "print('sha512 hash:', hash_val)"
   ]
  },
  {
   "cell_type": "code",
   "execution_count": null,
   "metadata": {},
   "outputs": [],
   "source": [
    "text = 'wnoerw'\n",
    "encoded = text.encode('utf-8')\n",
    "hash_val = hashlib.sha256(encoded).hexdigest()\n",
    "print('sha256 hash:', hash_val)"
   ]
  },
  {
   "cell_type": "code",
   "execution_count": null,
   "metadata": {},
   "outputs": [],
   "source": [
    "text = 'eyixp'\n",
    "encoded = text.encode('utf-8')\n",
    "hash_val = hashlib.sha256(encoded).hexdigest()\n",
    "print('sha256 hash:', hash_val)"
   ]
  },
  {
   "cell_type": "code",
   "execution_count": null,
   "metadata": {},
   "outputs": [],
   "source": [
    "text = 'iwwhesfswm'\n",
    "encoded = text.encode('utf-8')\n",
    "hash_val = hashlib.sha1(encoded).hexdigest()\n",
    "print('sha1 hash:', hash_val)"
   ]
  },
  {
   "cell_type": "code",
   "execution_count": null,
   "metadata": {},
   "outputs": [],
   "source": [
    "text = 'dwgmity'\n",
    "encoded = text.encode('utf-8')\n",
    "hash_val = hashlib.sha1(encoded).hexdigest()\n",
    "print('sha1 hash:', hash_val)"
   ]
  },
  {
   "cell_type": "code",
   "execution_count": null,
   "metadata": {},
   "outputs": [],
   "source": [
    "text = 'estlsckgiv'\n",
    "encoded = text.encode('utf-8')\n",
    "hash_val = hashlib.sha1(encoded).hexdigest()\n",
    "print('sha1 hash:', hash_val)"
   ]
  },
  {
   "cell_type": "code",
   "execution_count": null,
   "metadata": {},
   "outputs": [],
   "source": [
    "text = 'ykeezeoee'\n",
    "encoded = text.encode('utf-8')\n",
    "hash_val = hashlib.sha256(encoded).hexdigest()\n",
    "print('sha256 hash:', hash_val)"
   ]
  },
  {
   "cell_type": "code",
   "execution_count": null,
   "metadata": {},
   "outputs": [],
   "source": [
    "text = 'bwsnkosdh'\n",
    "encoded = text.encode('utf-8')\n",
    "hash_val = hashlib.sha512(encoded).hexdigest()\n",
    "print('sha512 hash:', hash_val)"
   ]
  },
  {
   "cell_type": "code",
   "execution_count": null,
   "metadata": {},
   "outputs": [],
   "source": [
    "text = 'ttotymv'\n",
    "encoded = text.encode('utf-8')\n",
    "hash_val = hashlib.sha1(encoded).hexdigest()\n",
    "print('sha1 hash:', hash_val)"
   ]
  },
  {
   "cell_type": "code",
   "execution_count": null,
   "metadata": {},
   "outputs": [],
   "source": [
    "text = 'upburit'\n",
    "encoded = text.encode('utf-8')\n",
    "hash_val = hashlib.sha1(encoded).hexdigest()\n",
    "print('sha1 hash:', hash_val)"
   ]
  },
  {
   "cell_type": "code",
   "execution_count": null,
   "metadata": {},
   "outputs": [],
   "source": [
    "text = 'gtqbg'\n",
    "encoded = text.encode('utf-8')\n",
    "hash_val = hashlib.md5(encoded).hexdigest()\n",
    "print('md5 hash:', hash_val)"
   ]
  },
  {
   "cell_type": "code",
   "execution_count": null,
   "metadata": {},
   "outputs": [],
   "source": [
    "text = 'wttuo'\n",
    "encoded = text.encode('utf-8')\n",
    "hash_val = hashlib.sha512(encoded).hexdigest()\n",
    "print('sha512 hash:', hash_val)"
   ]
  },
  {
   "cell_type": "code",
   "execution_count": null,
   "metadata": {},
   "outputs": [],
   "source": [
    "text = 'xzyubgrxjd'\n",
    "encoded = text.encode('utf-8')\n",
    "hash_val = hashlib.sha512(encoded).hexdigest()\n",
    "print('sha512 hash:', hash_val)"
   ]
  },
  {
   "cell_type": "code",
   "execution_count": null,
   "metadata": {},
   "outputs": [],
   "source": [
    "text = 'xgwagvl'\n",
    "encoded = text.encode('utf-8')\n",
    "hash_val = hashlib.sha1(encoded).hexdigest()\n",
    "print('sha1 hash:', hash_val)"
   ]
  },
  {
   "cell_type": "code",
   "execution_count": null,
   "metadata": {},
   "outputs": [],
   "source": [
    "text = 'hmylsiwjkk'\n",
    "encoded = text.encode('utf-8')\n",
    "hash_val = hashlib.sha1(encoded).hexdigest()\n",
    "print('sha1 hash:', hash_val)"
   ]
  },
  {
   "cell_type": "code",
   "execution_count": null,
   "metadata": {},
   "outputs": [],
   "source": [
    "text = 'preawgiusz'\n",
    "encoded = text.encode('utf-8')\n",
    "hash_val = hashlib.sha256(encoded).hexdigest()\n",
    "print('sha256 hash:', hash_val)"
   ]
  },
  {
   "cell_type": "code",
   "execution_count": null,
   "metadata": {},
   "outputs": [],
   "source": [
    "text = 'vozifp'\n",
    "encoded = text.encode('utf-8')\n",
    "hash_val = hashlib.sha256(encoded).hexdigest()\n",
    "print('sha256 hash:', hash_val)"
   ]
  },
  {
   "cell_type": "code",
   "execution_count": null,
   "metadata": {},
   "outputs": [],
   "source": [
    "text = 'tctxtzd'\n",
    "encoded = text.encode('utf-8')\n",
    "hash_val = hashlib.sha512(encoded).hexdigest()\n",
    "print('sha512 hash:', hash_val)"
   ]
  },
  {
   "cell_type": "code",
   "execution_count": null,
   "metadata": {},
   "outputs": [],
   "source": [
    "text = 'kkvbrqzi'\n",
    "encoded = text.encode('utf-8')\n",
    "hash_val = hashlib.sha1(encoded).hexdigest()\n",
    "print('sha1 hash:', hash_val)"
   ]
  },
  {
   "cell_type": "code",
   "execution_count": null,
   "metadata": {},
   "outputs": [],
   "source": [
    "text = 'frazxqmufi'\n",
    "encoded = text.encode('utf-8')\n",
    "hash_val = hashlib.sha1(encoded).hexdigest()\n",
    "print('sha1 hash:', hash_val)"
   ]
  },
  {
   "cell_type": "code",
   "execution_count": null,
   "metadata": {},
   "outputs": [],
   "source": [
    "text = 'aaheeladze'\n",
    "encoded = text.encode('utf-8')\n",
    "hash_val = hashlib.sha256(encoded).hexdigest()\n",
    "print('sha256 hash:', hash_val)"
   ]
  },
  {
   "cell_type": "code",
   "execution_count": null,
   "metadata": {},
   "outputs": [],
   "source": [
    "text = 'mlfdiw'\n",
    "encoded = text.encode('utf-8')\n",
    "hash_val = hashlib.sha512(encoded).hexdigest()\n",
    "print('sha512 hash:', hash_val)"
   ]
  },
  {
   "cell_type": "code",
   "execution_count": null,
   "metadata": {},
   "outputs": [],
   "source": [
    "text = 'feyhsxpaz'\n",
    "encoded = text.encode('utf-8')\n",
    "hash_val = hashlib.sha512(encoded).hexdigest()\n",
    "print('sha512 hash:', hash_val)"
   ]
  },
  {
   "cell_type": "code",
   "execution_count": null,
   "metadata": {},
   "outputs": [],
   "source": [
    "text = 'plrklzrxxe'\n",
    "encoded = text.encode('utf-8')\n",
    "hash_val = hashlib.sha256(encoded).hexdigest()\n",
    "print('sha256 hash:', hash_val)"
   ]
  },
  {
   "cell_type": "code",
   "execution_count": null,
   "metadata": {},
   "outputs": [],
   "source": [
    "text = 'xwcwp'\n",
    "encoded = text.encode('utf-8')\n",
    "hash_val = hashlib.sha256(encoded).hexdigest()\n",
    "print('sha256 hash:', hash_val)"
   ]
  },
  {
   "cell_type": "code",
   "execution_count": null,
   "metadata": {},
   "outputs": [],
   "source": [
    "text = 'chbcfxg'\n",
    "encoded = text.encode('utf-8')\n",
    "hash_val = hashlib.sha1(encoded).hexdigest()\n",
    "print('sha1 hash:', hash_val)"
   ]
  },
  {
   "cell_type": "code",
   "execution_count": null,
   "metadata": {},
   "outputs": [],
   "source": [
    "text = 'zfrlvbclt'\n",
    "encoded = text.encode('utf-8')\n",
    "hash_val = hashlib.sha512(encoded).hexdigest()\n",
    "print('sha512 hash:', hash_val)"
   ]
  },
  {
   "cell_type": "code",
   "execution_count": null,
   "metadata": {},
   "outputs": [],
   "source": [
    "text = 'gcfsmvaawk'\n",
    "encoded = text.encode('utf-8')\n",
    "hash_val = hashlib.md5(encoded).hexdigest()\n",
    "print('md5 hash:', hash_val)"
   ]
  },
  {
   "cell_type": "code",
   "execution_count": null,
   "metadata": {},
   "outputs": [],
   "source": [
    "text = 'teaer'\n",
    "encoded = text.encode('utf-8')\n",
    "hash_val = hashlib.sha512(encoded).hexdigest()\n",
    "print('sha512 hash:', hash_val)"
   ]
  },
  {
   "cell_type": "code",
   "execution_count": null,
   "metadata": {},
   "outputs": [],
   "source": [
    "text = 'wkruxmnq'\n",
    "encoded = text.encode('utf-8')\n",
    "hash_val = hashlib.sha1(encoded).hexdigest()\n",
    "print('sha1 hash:', hash_val)"
   ]
  },
  {
   "cell_type": "code",
   "execution_count": null,
   "metadata": {},
   "outputs": [],
   "source": [
    "text = 'ohdplukh'\n",
    "encoded = text.encode('utf-8')\n",
    "hash_val = hashlib.sha256(encoded).hexdigest()\n",
    "print('sha256 hash:', hash_val)"
   ]
  },
  {
   "cell_type": "code",
   "execution_count": null,
   "metadata": {},
   "outputs": [],
   "source": [
    "text = 'dunkivf'\n",
    "encoded = text.encode('utf-8')\n",
    "hash_val = hashlib.sha512(encoded).hexdigest()\n",
    "print('sha512 hash:', hash_val)"
   ]
  },
  {
   "cell_type": "code",
   "execution_count": null,
   "metadata": {},
   "outputs": [],
   "source": [
    "text = 'lmjflhut'\n",
    "encoded = text.encode('utf-8')\n",
    "hash_val = hashlib.sha256(encoded).hexdigest()\n",
    "print('sha256 hash:', hash_val)"
   ]
  },
  {
   "cell_type": "code",
   "execution_count": null,
   "metadata": {},
   "outputs": [],
   "source": [
    "text = 'stxvnouz'\n",
    "encoded = text.encode('utf-8')\n",
    "hash_val = hashlib.sha256(encoded).hexdigest()\n",
    "print('sha256 hash:', hash_val)"
   ]
  },
  {
   "cell_type": "code",
   "execution_count": null,
   "metadata": {},
   "outputs": [],
   "source": [
    "text = 'eenijryeav'\n",
    "encoded = text.encode('utf-8')\n",
    "hash_val = hashlib.sha256(encoded).hexdigest()\n",
    "print('sha256 hash:', hash_val)"
   ]
  },
  {
   "cell_type": "code",
   "execution_count": null,
   "metadata": {},
   "outputs": [],
   "source": [
    "text = 'xfwxu'\n",
    "encoded = text.encode('utf-8')\n",
    "hash_val = hashlib.md5(encoded).hexdigest()\n",
    "print('md5 hash:', hash_val)"
   ]
  },
  {
   "cell_type": "code",
   "execution_count": null,
   "metadata": {},
   "outputs": [],
   "source": [
    "text = 'huhfzjap'\n",
    "encoded = text.encode('utf-8')\n",
    "hash_val = hashlib.sha1(encoded).hexdigest()\n",
    "print('sha1 hash:', hash_val)"
   ]
  },
  {
   "cell_type": "code",
   "execution_count": null,
   "metadata": {},
   "outputs": [],
   "source": [
    "text = 'rtfyec'\n",
    "encoded = text.encode('utf-8')\n",
    "hash_val = hashlib.md5(encoded).hexdigest()\n",
    "print('md5 hash:', hash_val)"
   ]
  },
  {
   "cell_type": "code",
   "execution_count": null,
   "metadata": {},
   "outputs": [],
   "source": [
    "text = 'gqcgobfag'\n",
    "encoded = text.encode('utf-8')\n",
    "hash_val = hashlib.md5(encoded).hexdigest()\n",
    "print('md5 hash:', hash_val)"
   ]
  },
  {
   "cell_type": "code",
   "execution_count": null,
   "metadata": {},
   "outputs": [],
   "source": [
    "text = 'noqawcrfh'\n",
    "encoded = text.encode('utf-8')\n",
    "hash_val = hashlib.sha256(encoded).hexdigest()\n",
    "print('sha256 hash:', hash_val)"
   ]
  },
  {
   "cell_type": "code",
   "execution_count": null,
   "metadata": {},
   "outputs": [],
   "source": [
    "text = 'tazvzgj'\n",
    "encoded = text.encode('utf-8')\n",
    "hash_val = hashlib.sha512(encoded).hexdigest()\n",
    "print('sha512 hash:', hash_val)"
   ]
  },
  {
   "cell_type": "code",
   "execution_count": null,
   "metadata": {},
   "outputs": [],
   "source": [
    "text = 'bvtryefj'\n",
    "encoded = text.encode('utf-8')\n",
    "hash_val = hashlib.sha1(encoded).hexdigest()\n",
    "print('sha1 hash:', hash_val)"
   ]
  },
  {
   "cell_type": "code",
   "execution_count": null,
   "metadata": {},
   "outputs": [],
   "source": [
    "text = 'lcpluwky'\n",
    "encoded = text.encode('utf-8')\n",
    "hash_val = hashlib.md5(encoded).hexdigest()\n",
    "print('md5 hash:', hash_val)"
   ]
  },
  {
   "cell_type": "code",
   "execution_count": null,
   "metadata": {},
   "outputs": [],
   "source": [
    "text = 'rzhtss'\n",
    "encoded = text.encode('utf-8')\n",
    "hash_val = hashlib.sha1(encoded).hexdigest()\n",
    "print('sha1 hash:', hash_val)"
   ]
  },
  {
   "cell_type": "code",
   "execution_count": null,
   "metadata": {},
   "outputs": [],
   "source": [
    "text = 'xbfcgivbnp'\n",
    "encoded = text.encode('utf-8')\n",
    "hash_val = hashlib.sha1(encoded).hexdigest()\n",
    "print('sha1 hash:', hash_val)"
   ]
  },
  {
   "cell_type": "code",
   "execution_count": null,
   "metadata": {},
   "outputs": [],
   "source": [
    "text = 'ltrdwrtdnh'\n",
    "encoded = text.encode('utf-8')\n",
    "hash_val = hashlib.sha1(encoded).hexdigest()\n",
    "print('sha1 hash:', hash_val)"
   ]
  },
  {
   "cell_type": "code",
   "execution_count": null,
   "metadata": {},
   "outputs": [],
   "source": [
    "text = 'gjvrndsvb'\n",
    "encoded = text.encode('utf-8')\n",
    "hash_val = hashlib.sha1(encoded).hexdigest()\n",
    "print('sha1 hash:', hash_val)"
   ]
  },
  {
   "cell_type": "code",
   "execution_count": null,
   "metadata": {},
   "outputs": [],
   "source": [
    "text = 'teirabs'\n",
    "encoded = text.encode('utf-8')\n",
    "hash_val = hashlib.sha1(encoded).hexdigest()\n",
    "print('sha1 hash:', hash_val)"
   ]
  },
  {
   "cell_type": "code",
   "execution_count": null,
   "metadata": {},
   "outputs": [],
   "source": [
    "text = 'hiewh'\n",
    "encoded = text.encode('utf-8')\n",
    "hash_val = hashlib.md5(encoded).hexdigest()\n",
    "print('md5 hash:', hash_val)"
   ]
  },
  {
   "cell_type": "code",
   "execution_count": null,
   "metadata": {},
   "outputs": [],
   "source": [
    "text = 'esqgovjz'\n",
    "encoded = text.encode('utf-8')\n",
    "hash_val = hashlib.sha512(encoded).hexdigest()\n",
    "print('sha512 hash:', hash_val)"
   ]
  },
  {
   "cell_type": "code",
   "execution_count": null,
   "metadata": {},
   "outputs": [],
   "source": [
    "text = 'uczkpzpwf'\n",
    "encoded = text.encode('utf-8')\n",
    "hash_val = hashlib.sha512(encoded).hexdigest()\n",
    "print('sha512 hash:', hash_val)"
   ]
  },
  {
   "cell_type": "code",
   "execution_count": null,
   "metadata": {},
   "outputs": [],
   "source": [
    "text = 'dztzrhhhgb'\n",
    "encoded = text.encode('utf-8')\n",
    "hash_val = hashlib.sha256(encoded).hexdigest()\n",
    "print('sha256 hash:', hash_val)"
   ]
  },
  {
   "cell_type": "code",
   "execution_count": null,
   "metadata": {},
   "outputs": [],
   "source": [
    "text = 'oiubbyhtnm'\n",
    "encoded = text.encode('utf-8')\n",
    "hash_val = hashlib.sha256(encoded).hexdigest()\n",
    "print('sha256 hash:', hash_val)"
   ]
  },
  {
   "cell_type": "code",
   "execution_count": null,
   "metadata": {},
   "outputs": [],
   "source": [
    "text = 'eevsr'\n",
    "encoded = text.encode('utf-8')\n",
    "hash_val = hashlib.sha1(encoded).hexdigest()\n",
    "print('sha1 hash:', hash_val)"
   ]
  },
  {
   "cell_type": "code",
   "execution_count": null,
   "metadata": {},
   "outputs": [],
   "source": [
    "text = 'qpwwtzq'\n",
    "encoded = text.encode('utf-8')\n",
    "hash_val = hashlib.sha256(encoded).hexdigest()\n",
    "print('sha256 hash:', hash_val)"
   ]
  },
  {
   "cell_type": "code",
   "execution_count": null,
   "metadata": {},
   "outputs": [],
   "source": [
    "text = 'ksvwx'\n",
    "encoded = text.encode('utf-8')\n",
    "hash_val = hashlib.sha1(encoded).hexdigest()\n",
    "print('sha1 hash:', hash_val)"
   ]
  },
  {
   "cell_type": "code",
   "execution_count": null,
   "metadata": {},
   "outputs": [],
   "source": [
    "text = 'obqnqvy'\n",
    "encoded = text.encode('utf-8')\n",
    "hash_val = hashlib.sha256(encoded).hexdigest()\n",
    "print('sha256 hash:', hash_val)"
   ]
  },
  {
   "cell_type": "code",
   "execution_count": null,
   "metadata": {},
   "outputs": [],
   "source": [
    "text = 'eujcysoxeo'\n",
    "encoded = text.encode('utf-8')\n",
    "hash_val = hashlib.sha512(encoded).hexdigest()\n",
    "print('sha512 hash:', hash_val)"
   ]
  },
  {
   "cell_type": "code",
   "execution_count": null,
   "metadata": {},
   "outputs": [],
   "source": [
    "text = 'drokfyfzu'\n",
    "encoded = text.encode('utf-8')\n",
    "hash_val = hashlib.sha256(encoded).hexdigest()\n",
    "print('sha256 hash:', hash_val)"
   ]
  },
  {
   "cell_type": "code",
   "execution_count": null,
   "metadata": {},
   "outputs": [],
   "source": [
    "text = 'ozuql'\n",
    "encoded = text.encode('utf-8')\n",
    "hash_val = hashlib.sha1(encoded).hexdigest()\n",
    "print('sha1 hash:', hash_val)"
   ]
  },
  {
   "cell_type": "code",
   "execution_count": null,
   "metadata": {},
   "outputs": [],
   "source": [
    "text = 'cgvkax'\n",
    "encoded = text.encode('utf-8')\n",
    "hash_val = hashlib.sha256(encoded).hexdigest()\n",
    "print('sha256 hash:', hash_val)"
   ]
  },
  {
   "cell_type": "code",
   "execution_count": null,
   "metadata": {},
   "outputs": [],
   "source": [
    "text = 'itamlrtlml'\n",
    "encoded = text.encode('utf-8')\n",
    "hash_val = hashlib.sha1(encoded).hexdigest()\n",
    "print('sha1 hash:', hash_val)"
   ]
  },
  {
   "cell_type": "code",
   "execution_count": null,
   "metadata": {},
   "outputs": [],
   "source": [
    "text = 'juzobisbpw'\n",
    "encoded = text.encode('utf-8')\n",
    "hash_val = hashlib.sha256(encoded).hexdigest()\n",
    "print('sha256 hash:', hash_val)"
   ]
  },
  {
   "cell_type": "code",
   "execution_count": null,
   "metadata": {},
   "outputs": [],
   "source": [
    "text = 'zdeilaeipk'\n",
    "encoded = text.encode('utf-8')\n",
    "hash_val = hashlib.md5(encoded).hexdigest()\n",
    "print('md5 hash:', hash_val)"
   ]
  },
  {
   "cell_type": "code",
   "execution_count": null,
   "metadata": {},
   "outputs": [],
   "source": [
    "text = 'xkcanuai'\n",
    "encoded = text.encode('utf-8')\n",
    "hash_val = hashlib.md5(encoded).hexdigest()\n",
    "print('md5 hash:', hash_val)"
   ]
  },
  {
   "cell_type": "code",
   "execution_count": null,
   "metadata": {},
   "outputs": [],
   "source": [
    "text = 'fvfdob'\n",
    "encoded = text.encode('utf-8')\n",
    "hash_val = hashlib.md5(encoded).hexdigest()\n",
    "print('md5 hash:', hash_val)"
   ]
  },
  {
   "cell_type": "code",
   "execution_count": null,
   "metadata": {},
   "outputs": [],
   "source": [
    "text = 'lywzlvg'\n",
    "encoded = text.encode('utf-8')\n",
    "hash_val = hashlib.sha256(encoded).hexdigest()\n",
    "print('sha256 hash:', hash_val)"
   ]
  },
  {
   "cell_type": "code",
   "execution_count": null,
   "metadata": {},
   "outputs": [],
   "source": [
    "text = 'rkalxhyl'\n",
    "encoded = text.encode('utf-8')\n",
    "hash_val = hashlib.sha512(encoded).hexdigest()\n",
    "print('sha512 hash:', hash_val)"
   ]
  },
  {
   "cell_type": "code",
   "execution_count": null,
   "metadata": {},
   "outputs": [],
   "source": [
    "text = 'cypsw'\n",
    "encoded = text.encode('utf-8')\n",
    "hash_val = hashlib.sha512(encoded).hexdigest()\n",
    "print('sha512 hash:', hash_val)"
   ]
  },
  {
   "cell_type": "code",
   "execution_count": null,
   "metadata": {},
   "outputs": [],
   "source": [
    "text = 'dcfzpgrf'\n",
    "encoded = text.encode('utf-8')\n",
    "hash_val = hashlib.sha512(encoded).hexdigest()\n",
    "print('sha512 hash:', hash_val)"
   ]
  },
  {
   "cell_type": "code",
   "execution_count": null,
   "metadata": {},
   "outputs": [],
   "source": [
    "text = 'ulexqt'\n",
    "encoded = text.encode('utf-8')\n",
    "hash_val = hashlib.sha1(encoded).hexdigest()\n",
    "print('sha1 hash:', hash_val)"
   ]
  },
  {
   "cell_type": "code",
   "execution_count": null,
   "metadata": {},
   "outputs": [],
   "source": [
    "text = 'eecqa'\n",
    "encoded = text.encode('utf-8')\n",
    "hash_val = hashlib.sha512(encoded).hexdigest()\n",
    "print('sha512 hash:', hash_val)"
   ]
  },
  {
   "cell_type": "code",
   "execution_count": null,
   "metadata": {},
   "outputs": [],
   "source": [
    "text = 'qtuzldj'\n",
    "encoded = text.encode('utf-8')\n",
    "hash_val = hashlib.sha1(encoded).hexdigest()\n",
    "print('sha1 hash:', hash_val)"
   ]
  },
  {
   "cell_type": "code",
   "execution_count": null,
   "metadata": {},
   "outputs": [],
   "source": [
    "text = 'xyqpts'\n",
    "encoded = text.encode('utf-8')\n",
    "hash_val = hashlib.sha1(encoded).hexdigest()\n",
    "print('sha1 hash:', hash_val)"
   ]
  },
  {
   "cell_type": "code",
   "execution_count": null,
   "metadata": {},
   "outputs": [],
   "source": [
    "text = 'laqjnkio'\n",
    "encoded = text.encode('utf-8')\n",
    "hash_val = hashlib.sha1(encoded).hexdigest()\n",
    "print('sha1 hash:', hash_val)"
   ]
  },
  {
   "cell_type": "code",
   "execution_count": null,
   "metadata": {},
   "outputs": [],
   "source": [
    "text = 'aguxgmnep'\n",
    "encoded = text.encode('utf-8')\n",
    "hash_val = hashlib.sha256(encoded).hexdigest()\n",
    "print('sha256 hash:', hash_val)"
   ]
  },
  {
   "cell_type": "code",
   "execution_count": null,
   "metadata": {},
   "outputs": [],
   "source": [
    "text = 'iesogdcm'\n",
    "encoded = text.encode('utf-8')\n",
    "hash_val = hashlib.sha1(encoded).hexdigest()\n",
    "print('sha1 hash:', hash_val)"
   ]
  },
  {
   "cell_type": "code",
   "execution_count": null,
   "metadata": {},
   "outputs": [],
   "source": [
    "text = 'xggeerhanz'\n",
    "encoded = text.encode('utf-8')\n",
    "hash_val = hashlib.sha256(encoded).hexdigest()\n",
    "print('sha256 hash:', hash_val)"
   ]
  },
  {
   "cell_type": "code",
   "execution_count": null,
   "metadata": {},
   "outputs": [],
   "source": [
    "text = 'iprbafs'\n",
    "encoded = text.encode('utf-8')\n",
    "hash_val = hashlib.sha256(encoded).hexdigest()\n",
    "print('sha256 hash:', hash_val)"
   ]
  },
  {
   "cell_type": "code",
   "execution_count": null,
   "metadata": {},
   "outputs": [],
   "source": [
    "text = 'woluxppgbo'\n",
    "encoded = text.encode('utf-8')\n",
    "hash_val = hashlib.sha256(encoded).hexdigest()\n",
    "print('sha256 hash:', hash_val)"
   ]
  },
  {
   "cell_type": "code",
   "execution_count": null,
   "metadata": {},
   "outputs": [],
   "source": [
    "text = 'zqqice'\n",
    "encoded = text.encode('utf-8')\n",
    "hash_val = hashlib.sha256(encoded).hexdigest()\n",
    "print('sha256 hash:', hash_val)"
   ]
  },
  {
   "cell_type": "code",
   "execution_count": null,
   "metadata": {},
   "outputs": [],
   "source": [
    "text = 'wwxcaabxgw'\n",
    "encoded = text.encode('utf-8')\n",
    "hash_val = hashlib.sha512(encoded).hexdigest()\n",
    "print('sha512 hash:', hash_val)"
   ]
  },
  {
   "cell_type": "code",
   "execution_count": null,
   "metadata": {},
   "outputs": [],
   "source": [
    "text = 'swbgjebxp'\n",
    "encoded = text.encode('utf-8')\n",
    "hash_val = hashlib.sha1(encoded).hexdigest()\n",
    "print('sha1 hash:', hash_val)"
   ]
  },
  {
   "cell_type": "code",
   "execution_count": null,
   "metadata": {},
   "outputs": [],
   "source": [
    "text = 'nuogte'\n",
    "encoded = text.encode('utf-8')\n",
    "hash_val = hashlib.md5(encoded).hexdigest()\n",
    "print('md5 hash:', hash_val)"
   ]
  },
  {
   "cell_type": "code",
   "execution_count": null,
   "metadata": {},
   "outputs": [],
   "source": [
    "text = 'sqalvyrr'\n",
    "encoded = text.encode('utf-8')\n",
    "hash_val = hashlib.md5(encoded).hexdigest()\n",
    "print('md5 hash:', hash_val)"
   ]
  },
  {
   "cell_type": "code",
   "execution_count": null,
   "metadata": {},
   "outputs": [],
   "source": [
    "text = 'sueavirv'\n",
    "encoded = text.encode('utf-8')\n",
    "hash_val = hashlib.sha512(encoded).hexdigest()\n",
    "print('sha512 hash:', hash_val)"
   ]
  },
  {
   "cell_type": "code",
   "execution_count": null,
   "metadata": {},
   "outputs": [],
   "source": [
    "text = 'mzxxwwqsu'\n",
    "encoded = text.encode('utf-8')\n",
    "hash_val = hashlib.sha1(encoded).hexdigest()\n",
    "print('sha1 hash:', hash_val)"
   ]
  },
  {
   "cell_type": "code",
   "execution_count": null,
   "metadata": {},
   "outputs": [],
   "source": [
    "text = 'qzcsw'\n",
    "encoded = text.encode('utf-8')\n",
    "hash_val = hashlib.sha1(encoded).hexdigest()\n",
    "print('sha1 hash:', hash_val)"
   ]
  },
  {
   "cell_type": "code",
   "execution_count": null,
   "metadata": {},
   "outputs": [],
   "source": [
    "text = 'mceiinuc'\n",
    "encoded = text.encode('utf-8')\n",
    "hash_val = hashlib.sha1(encoded).hexdigest()\n",
    "print('sha1 hash:', hash_val)"
   ]
  },
  {
   "cell_type": "code",
   "execution_count": null,
   "metadata": {},
   "outputs": [],
   "source": [
    "text = 'xjzxccgzq'\n",
    "encoded = text.encode('utf-8')\n",
    "hash_val = hashlib.sha512(encoded).hexdigest()\n",
    "print('sha512 hash:', hash_val)"
   ]
  },
  {
   "cell_type": "code",
   "execution_count": null,
   "metadata": {},
   "outputs": [],
   "source": [
    "text = 'necwy'\n",
    "encoded = text.encode('utf-8')\n",
    "hash_val = hashlib.md5(encoded).hexdigest()\n",
    "print('md5 hash:', hash_val)"
   ]
  },
  {
   "cell_type": "code",
   "execution_count": null,
   "metadata": {},
   "outputs": [],
   "source": [
    "text = 'shzfebozai'\n",
    "encoded = text.encode('utf-8')\n",
    "hash_val = hashlib.md5(encoded).hexdigest()\n",
    "print('md5 hash:', hash_val)"
   ]
  },
  {
   "cell_type": "code",
   "execution_count": null,
   "metadata": {},
   "outputs": [],
   "source": [
    "text = 'qrkakd'\n",
    "encoded = text.encode('utf-8')\n",
    "hash_val = hashlib.sha256(encoded).hexdigest()\n",
    "print('sha256 hash:', hash_val)"
   ]
  },
  {
   "cell_type": "code",
   "execution_count": null,
   "metadata": {},
   "outputs": [],
   "source": [
    "text = 'oxaspfz'\n",
    "encoded = text.encode('utf-8')\n",
    "hash_val = hashlib.sha256(encoded).hexdigest()\n",
    "print('sha256 hash:', hash_val)"
   ]
  },
  {
   "cell_type": "code",
   "execution_count": null,
   "metadata": {},
   "outputs": [],
   "source": [
    "text = 'gvdzjna'\n",
    "encoded = text.encode('utf-8')\n",
    "hash_val = hashlib.sha512(encoded).hexdigest()\n",
    "print('sha512 hash:', hash_val)"
   ]
  },
  {
   "cell_type": "code",
   "execution_count": null,
   "metadata": {},
   "outputs": [],
   "source": [
    "text = 'wdqkqpl'\n",
    "encoded = text.encode('utf-8')\n",
    "hash_val = hashlib.sha512(encoded).hexdigest()\n",
    "print('sha512 hash:', hash_val)"
   ]
  },
  {
   "cell_type": "code",
   "execution_count": null,
   "metadata": {},
   "outputs": [],
   "source": [
    "text = 'cmmkrtj'\n",
    "encoded = text.encode('utf-8')\n",
    "hash_val = hashlib.sha512(encoded).hexdigest()\n",
    "print('sha512 hash:', hash_val)"
   ]
  },
  {
   "cell_type": "code",
   "execution_count": null,
   "metadata": {},
   "outputs": [],
   "source": [
    "text = 'wuyxndt'\n",
    "encoded = text.encode('utf-8')\n",
    "hash_val = hashlib.sha1(encoded).hexdigest()\n",
    "print('sha1 hash:', hash_val)"
   ]
  },
  {
   "cell_type": "code",
   "execution_count": null,
   "metadata": {},
   "outputs": [],
   "source": [
    "text = 'wpyvfubca'\n",
    "encoded = text.encode('utf-8')\n",
    "hash_val = hashlib.sha512(encoded).hexdigest()\n",
    "print('sha512 hash:', hash_val)"
   ]
  },
  {
   "cell_type": "code",
   "execution_count": null,
   "metadata": {},
   "outputs": [],
   "source": [
    "text = 'mrlfzpbp'\n",
    "encoded = text.encode('utf-8')\n",
    "hash_val = hashlib.sha1(encoded).hexdigest()\n",
    "print('sha1 hash:', hash_val)"
   ]
  },
  {
   "cell_type": "code",
   "execution_count": null,
   "metadata": {},
   "outputs": [],
   "source": [
    "text = 'oboekvgsqt'\n",
    "encoded = text.encode('utf-8')\n",
    "hash_val = hashlib.sha1(encoded).hexdigest()\n",
    "print('sha1 hash:', hash_val)"
   ]
  },
  {
   "cell_type": "code",
   "execution_count": null,
   "metadata": {},
   "outputs": [],
   "source": [
    "text = 'sfuwv'\n",
    "encoded = text.encode('utf-8')\n",
    "hash_val = hashlib.sha1(encoded).hexdigest()\n",
    "print('sha1 hash:', hash_val)"
   ]
  },
  {
   "cell_type": "code",
   "execution_count": null,
   "metadata": {},
   "outputs": [],
   "source": [
    "text = 'ylznkuxwpt'\n",
    "encoded = text.encode('utf-8')\n",
    "hash_val = hashlib.sha512(encoded).hexdigest()\n",
    "print('sha512 hash:', hash_val)"
   ]
  },
  {
   "cell_type": "code",
   "execution_count": null,
   "metadata": {},
   "outputs": [],
   "source": [
    "text = 'wtjixwxp'\n",
    "encoded = text.encode('utf-8')\n",
    "hash_val = hashlib.sha256(encoded).hexdigest()\n",
    "print('sha256 hash:', hash_val)"
   ]
  },
  {
   "cell_type": "code",
   "execution_count": null,
   "metadata": {},
   "outputs": [],
   "source": [
    "text = 'hkuzzhvz'\n",
    "encoded = text.encode('utf-8')\n",
    "hash_val = hashlib.sha512(encoded).hexdigest()\n",
    "print('sha512 hash:', hash_val)"
   ]
  },
  {
   "cell_type": "code",
   "execution_count": null,
   "metadata": {},
   "outputs": [],
   "source": [
    "text = 'rjiidkjys'\n",
    "encoded = text.encode('utf-8')\n",
    "hash_val = hashlib.md5(encoded).hexdigest()\n",
    "print('md5 hash:', hash_val)"
   ]
  },
  {
   "cell_type": "code",
   "execution_count": null,
   "metadata": {},
   "outputs": [],
   "source": [
    "text = 'zcpkcshczq'\n",
    "encoded = text.encode('utf-8')\n",
    "hash_val = hashlib.md5(encoded).hexdigest()\n",
    "print('md5 hash:', hash_val)"
   ]
  },
  {
   "cell_type": "code",
   "execution_count": null,
   "metadata": {},
   "outputs": [],
   "source": [
    "text = 'whnhcavmxe'\n",
    "encoded = text.encode('utf-8')\n",
    "hash_val = hashlib.sha512(encoded).hexdigest()\n",
    "print('sha512 hash:', hash_val)"
   ]
  },
  {
   "cell_type": "code",
   "execution_count": null,
   "metadata": {},
   "outputs": [],
   "source": [
    "text = 'fcmxlehb'\n",
    "encoded = text.encode('utf-8')\n",
    "hash_val = hashlib.md5(encoded).hexdigest()\n",
    "print('md5 hash:', hash_val)"
   ]
  },
  {
   "cell_type": "code",
   "execution_count": null,
   "metadata": {},
   "outputs": [],
   "source": [
    "text = 'dvzpbyrnb'\n",
    "encoded = text.encode('utf-8')\n",
    "hash_val = hashlib.md5(encoded).hexdigest()\n",
    "print('md5 hash:', hash_val)"
   ]
  },
  {
   "cell_type": "code",
   "execution_count": null,
   "metadata": {},
   "outputs": [],
   "source": [
    "text = 'nyhjhkbvak'\n",
    "encoded = text.encode('utf-8')\n",
    "hash_val = hashlib.sha1(encoded).hexdigest()\n",
    "print('sha1 hash:', hash_val)"
   ]
  },
  {
   "cell_type": "code",
   "execution_count": null,
   "metadata": {},
   "outputs": [],
   "source": [
    "text = 'swgswox'\n",
    "encoded = text.encode('utf-8')\n",
    "hash_val = hashlib.sha1(encoded).hexdigest()\n",
    "print('sha1 hash:', hash_val)"
   ]
  },
  {
   "cell_type": "code",
   "execution_count": null,
   "metadata": {},
   "outputs": [],
   "source": [
    "text = 'txkvk'\n",
    "encoded = text.encode('utf-8')\n",
    "hash_val = hashlib.sha1(encoded).hexdigest()\n",
    "print('sha1 hash:', hash_val)"
   ]
  },
  {
   "cell_type": "code",
   "execution_count": null,
   "metadata": {},
   "outputs": [],
   "source": [
    "text = 'siwhpfw'\n",
    "encoded = text.encode('utf-8')\n",
    "hash_val = hashlib.md5(encoded).hexdigest()\n",
    "print('md5 hash:', hash_val)"
   ]
  },
  {
   "cell_type": "code",
   "execution_count": null,
   "metadata": {},
   "outputs": [],
   "source": [
    "text = 'psqfxtw'\n",
    "encoded = text.encode('utf-8')\n",
    "hash_val = hashlib.sha256(encoded).hexdigest()\n",
    "print('sha256 hash:', hash_val)"
   ]
  },
  {
   "cell_type": "code",
   "execution_count": null,
   "metadata": {},
   "outputs": [],
   "source": [
    "text = 'sexbyiqq'\n",
    "encoded = text.encode('utf-8')\n",
    "hash_val = hashlib.sha256(encoded).hexdigest()\n",
    "print('sha256 hash:', hash_val)"
   ]
  },
  {
   "cell_type": "code",
   "execution_count": null,
   "metadata": {},
   "outputs": [],
   "source": [
    "text = 'pyzhgxt'\n",
    "encoded = text.encode('utf-8')\n",
    "hash_val = hashlib.sha1(encoded).hexdigest()\n",
    "print('sha1 hash:', hash_val)"
   ]
  },
  {
   "cell_type": "code",
   "execution_count": null,
   "metadata": {},
   "outputs": [],
   "source": [
    "text = 'hbdktsutdn'\n",
    "encoded = text.encode('utf-8')\n",
    "hash_val = hashlib.sha1(encoded).hexdigest()\n",
    "print('sha1 hash:', hash_val)"
   ]
  },
  {
   "cell_type": "code",
   "execution_count": null,
   "metadata": {},
   "outputs": [],
   "source": [
    "text = 'qhrdx'\n",
    "encoded = text.encode('utf-8')\n",
    "hash_val = hashlib.sha256(encoded).hexdigest()\n",
    "print('sha256 hash:', hash_val)"
   ]
  },
  {
   "cell_type": "code",
   "execution_count": null,
   "metadata": {},
   "outputs": [],
   "source": [
    "text = 'ddnowiw'\n",
    "encoded = text.encode('utf-8')\n",
    "hash_val = hashlib.sha512(encoded).hexdigest()\n",
    "print('sha512 hash:', hash_val)"
   ]
  },
  {
   "cell_type": "code",
   "execution_count": null,
   "metadata": {},
   "outputs": [],
   "source": [
    "text = 'gadpn'\n",
    "encoded = text.encode('utf-8')\n",
    "hash_val = hashlib.sha512(encoded).hexdigest()\n",
    "print('sha512 hash:', hash_val)"
   ]
  },
  {
   "cell_type": "code",
   "execution_count": null,
   "metadata": {},
   "outputs": [],
   "source": [
    "text = 'uwibbqmm'\n",
    "encoded = text.encode('utf-8')\n",
    "hash_val = hashlib.sha1(encoded).hexdigest()\n",
    "print('sha1 hash:', hash_val)"
   ]
  },
  {
   "cell_type": "code",
   "execution_count": null,
   "metadata": {},
   "outputs": [],
   "source": [
    "text = 'xzenejli'\n",
    "encoded = text.encode('utf-8')\n",
    "hash_val = hashlib.sha256(encoded).hexdigest()\n",
    "print('sha256 hash:', hash_val)"
   ]
  },
  {
   "cell_type": "code",
   "execution_count": null,
   "metadata": {},
   "outputs": [],
   "source": [
    "text = 'dftjwtzjkm'\n",
    "encoded = text.encode('utf-8')\n",
    "hash_val = hashlib.md5(encoded).hexdigest()\n",
    "print('md5 hash:', hash_val)"
   ]
  },
  {
   "cell_type": "code",
   "execution_count": null,
   "metadata": {},
   "outputs": [],
   "source": [
    "text = 'iacnb'\n",
    "encoded = text.encode('utf-8')\n",
    "hash_val = hashlib.sha1(encoded).hexdigest()\n",
    "print('sha1 hash:', hash_val)"
   ]
  },
  {
   "cell_type": "code",
   "execution_count": null,
   "metadata": {},
   "outputs": [],
   "source": [
    "text = 'jeejhsi'\n",
    "encoded = text.encode('utf-8')\n",
    "hash_val = hashlib.sha1(encoded).hexdigest()\n",
    "print('sha1 hash:', hash_val)"
   ]
  },
  {
   "cell_type": "code",
   "execution_count": null,
   "metadata": {},
   "outputs": [],
   "source": [
    "text = 'gvpgdrmj'\n",
    "encoded = text.encode('utf-8')\n",
    "hash_val = hashlib.sha256(encoded).hexdigest()\n",
    "print('sha256 hash:', hash_val)"
   ]
  },
  {
   "cell_type": "code",
   "execution_count": null,
   "metadata": {},
   "outputs": [],
   "source": [
    "text = 'nwufspgc'\n",
    "encoded = text.encode('utf-8')\n",
    "hash_val = hashlib.sha512(encoded).hexdigest()\n",
    "print('sha512 hash:', hash_val)"
   ]
  },
  {
   "cell_type": "code",
   "execution_count": null,
   "metadata": {},
   "outputs": [],
   "source": [
    "text = 'gmfochscbh'\n",
    "encoded = text.encode('utf-8')\n",
    "hash_val = hashlib.sha512(encoded).hexdigest()\n",
    "print('sha512 hash:', hash_val)"
   ]
  },
  {
   "cell_type": "code",
   "execution_count": null,
   "metadata": {},
   "outputs": [],
   "source": [
    "text = 'zetvsyi'\n",
    "encoded = text.encode('utf-8')\n",
    "hash_val = hashlib.sha512(encoded).hexdigest()\n",
    "print('sha512 hash:', hash_val)"
   ]
  },
  {
   "cell_type": "code",
   "execution_count": null,
   "metadata": {},
   "outputs": [],
   "source": [
    "text = 'jozrg'\n",
    "encoded = text.encode('utf-8')\n",
    "hash_val = hashlib.sha512(encoded).hexdigest()\n",
    "print('sha512 hash:', hash_val)"
   ]
  },
  {
   "cell_type": "code",
   "execution_count": null,
   "metadata": {},
   "outputs": [],
   "source": [
    "text = 'hnjjrxd'\n",
    "encoded = text.encode('utf-8')\n",
    "hash_val = hashlib.sha256(encoded).hexdigest()\n",
    "print('sha256 hash:', hash_val)"
   ]
  },
  {
   "cell_type": "code",
   "execution_count": null,
   "metadata": {},
   "outputs": [],
   "source": [
    "text = 'ghwcjjotbe'\n",
    "encoded = text.encode('utf-8')\n",
    "hash_val = hashlib.sha512(encoded).hexdigest()\n",
    "print('sha512 hash:', hash_val)"
   ]
  },
  {
   "cell_type": "code",
   "execution_count": null,
   "metadata": {},
   "outputs": [],
   "source": [
    "text = 'srsprwd'\n",
    "encoded = text.encode('utf-8')\n",
    "hash_val = hashlib.md5(encoded).hexdigest()\n",
    "print('md5 hash:', hash_val)"
   ]
  },
  {
   "cell_type": "code",
   "execution_count": null,
   "metadata": {},
   "outputs": [],
   "source": [
    "text = 'teopemsavd'\n",
    "encoded = text.encode('utf-8')\n",
    "hash_val = hashlib.sha1(encoded).hexdigest()\n",
    "print('sha1 hash:', hash_val)"
   ]
  },
  {
   "cell_type": "code",
   "execution_count": null,
   "metadata": {},
   "outputs": [],
   "source": [
    "text = 'rabjptttvu'\n",
    "encoded = text.encode('utf-8')\n",
    "hash_val = hashlib.md5(encoded).hexdigest()\n",
    "print('md5 hash:', hash_val)"
   ]
  },
  {
   "cell_type": "code",
   "execution_count": null,
   "metadata": {},
   "outputs": [],
   "source": [
    "text = 'dicnrbcm'\n",
    "encoded = text.encode('utf-8')\n",
    "hash_val = hashlib.sha512(encoded).hexdigest()\n",
    "print('sha512 hash:', hash_val)"
   ]
  },
  {
   "cell_type": "code",
   "execution_count": null,
   "metadata": {},
   "outputs": [],
   "source": [
    "text = 'kpiqkqfjns'\n",
    "encoded = text.encode('utf-8')\n",
    "hash_val = hashlib.sha512(encoded).hexdigest()\n",
    "print('sha512 hash:', hash_val)"
   ]
  },
  {
   "cell_type": "code",
   "execution_count": null,
   "metadata": {},
   "outputs": [],
   "source": [
    "text = 'gctmt'\n",
    "encoded = text.encode('utf-8')\n",
    "hash_val = hashlib.md5(encoded).hexdigest()\n",
    "print('md5 hash:', hash_val)"
   ]
  },
  {
   "cell_type": "code",
   "execution_count": null,
   "metadata": {},
   "outputs": [],
   "source": [
    "text = 'ttxsbwb'\n",
    "encoded = text.encode('utf-8')\n",
    "hash_val = hashlib.md5(encoded).hexdigest()\n",
    "print('md5 hash:', hash_val)"
   ]
  },
  {
   "cell_type": "code",
   "execution_count": null,
   "metadata": {},
   "outputs": [],
   "source": [
    "text = 'tryydmqo'\n",
    "encoded = text.encode('utf-8')\n",
    "hash_val = hashlib.sha1(encoded).hexdigest()\n",
    "print('sha1 hash:', hash_val)"
   ]
  },
  {
   "cell_type": "code",
   "execution_count": null,
   "metadata": {},
   "outputs": [],
   "source": [
    "text = 'crkqrd'\n",
    "encoded = text.encode('utf-8')\n",
    "hash_val = hashlib.sha1(encoded).hexdigest()\n",
    "print('sha1 hash:', hash_val)"
   ]
  },
  {
   "cell_type": "code",
   "execution_count": null,
   "metadata": {},
   "outputs": [],
   "source": [
    "text = 'fbhoxl'\n",
    "encoded = text.encode('utf-8')\n",
    "hash_val = hashlib.sha256(encoded).hexdigest()\n",
    "print('sha256 hash:', hash_val)"
   ]
  },
  {
   "cell_type": "code",
   "execution_count": null,
   "metadata": {},
   "outputs": [],
   "source": [
    "text = 'hjlcm'\n",
    "encoded = text.encode('utf-8')\n",
    "hash_val = hashlib.sha256(encoded).hexdigest()\n",
    "print('sha256 hash:', hash_val)"
   ]
  },
  {
   "cell_type": "code",
   "execution_count": null,
   "metadata": {},
   "outputs": [],
   "source": [
    "text = 'uyaqqjmg'\n",
    "encoded = text.encode('utf-8')\n",
    "hash_val = hashlib.sha256(encoded).hexdigest()\n",
    "print('sha256 hash:', hash_val)"
   ]
  },
  {
   "cell_type": "code",
   "execution_count": null,
   "metadata": {},
   "outputs": [],
   "source": [
    "text = 'vmaagazl'\n",
    "encoded = text.encode('utf-8')\n",
    "hash_val = hashlib.sha256(encoded).hexdigest()\n",
    "print('sha256 hash:', hash_val)"
   ]
  },
  {
   "cell_type": "code",
   "execution_count": null,
   "metadata": {},
   "outputs": [],
   "source": [
    "text = 'qovtnzq'\n",
    "encoded = text.encode('utf-8')\n",
    "hash_val = hashlib.sha1(encoded).hexdigest()\n",
    "print('sha1 hash:', hash_val)"
   ]
  },
  {
   "cell_type": "code",
   "execution_count": null,
   "metadata": {},
   "outputs": [],
   "source": [
    "text = 'pqbis'\n",
    "encoded = text.encode('utf-8')\n",
    "hash_val = hashlib.md5(encoded).hexdigest()\n",
    "print('md5 hash:', hash_val)"
   ]
  },
  {
   "cell_type": "code",
   "execution_count": null,
   "metadata": {},
   "outputs": [],
   "source": [
    "text = 'pqfsqczu'\n",
    "encoded = text.encode('utf-8')\n",
    "hash_val = hashlib.md5(encoded).hexdigest()\n",
    "print('md5 hash:', hash_val)"
   ]
  },
  {
   "cell_type": "code",
   "execution_count": null,
   "metadata": {},
   "outputs": [],
   "source": [
    "text = 'ijnvols'\n",
    "encoded = text.encode('utf-8')\n",
    "hash_val = hashlib.sha256(encoded).hexdigest()\n",
    "print('sha256 hash:', hash_val)"
   ]
  },
  {
   "cell_type": "code",
   "execution_count": null,
   "metadata": {},
   "outputs": [],
   "source": [
    "text = 'wyjubmtsf'\n",
    "encoded = text.encode('utf-8')\n",
    "hash_val = hashlib.sha256(encoded).hexdigest()\n",
    "print('sha256 hash:', hash_val)"
   ]
  },
  {
   "cell_type": "code",
   "execution_count": null,
   "metadata": {},
   "outputs": [],
   "source": [
    "text = 'aqnaqq'\n",
    "encoded = text.encode('utf-8')\n",
    "hash_val = hashlib.md5(encoded).hexdigest()\n",
    "print('md5 hash:', hash_val)"
   ]
  },
  {
   "cell_type": "code",
   "execution_count": null,
   "metadata": {},
   "outputs": [],
   "source": [
    "text = 'nsdutsr'\n",
    "encoded = text.encode('utf-8')\n",
    "hash_val = hashlib.sha1(encoded).hexdigest()\n",
    "print('sha1 hash:', hash_val)"
   ]
  },
  {
   "cell_type": "code",
   "execution_count": null,
   "metadata": {},
   "outputs": [],
   "source": [
    "text = 'qapxm'\n",
    "encoded = text.encode('utf-8')\n",
    "hash_val = hashlib.md5(encoded).hexdigest()\n",
    "print('md5 hash:', hash_val)"
   ]
  },
  {
   "cell_type": "code",
   "execution_count": null,
   "metadata": {},
   "outputs": [],
   "source": [
    "text = 'jqzgmqgg'\n",
    "encoded = text.encode('utf-8')\n",
    "hash_val = hashlib.sha1(encoded).hexdigest()\n",
    "print('sha1 hash:', hash_val)"
   ]
  },
  {
   "cell_type": "code",
   "execution_count": null,
   "metadata": {},
   "outputs": [],
   "source": [
    "text = 'mexmbq'\n",
    "encoded = text.encode('utf-8')\n",
    "hash_val = hashlib.sha512(encoded).hexdigest()\n",
    "print('sha512 hash:', hash_val)"
   ]
  },
  {
   "cell_type": "code",
   "execution_count": null,
   "metadata": {},
   "outputs": [],
   "source": [
    "text = 'hxfxm'\n",
    "encoded = text.encode('utf-8')\n",
    "hash_val = hashlib.md5(encoded).hexdigest()\n",
    "print('md5 hash:', hash_val)"
   ]
  },
  {
   "cell_type": "code",
   "execution_count": null,
   "metadata": {},
   "outputs": [],
   "source": [
    "text = 'eulmhgxl'\n",
    "encoded = text.encode('utf-8')\n",
    "hash_val = hashlib.sha256(encoded).hexdigest()\n",
    "print('sha256 hash:', hash_val)"
   ]
  },
  {
   "cell_type": "code",
   "execution_count": null,
   "metadata": {},
   "outputs": [],
   "source": [
    "text = 'lfzznbymuy'\n",
    "encoded = text.encode('utf-8')\n",
    "hash_val = hashlib.sha1(encoded).hexdigest()\n",
    "print('sha1 hash:', hash_val)"
   ]
  },
  {
   "cell_type": "code",
   "execution_count": null,
   "metadata": {},
   "outputs": [],
   "source": [
    "text = 'siqkbebj'\n",
    "encoded = text.encode('utf-8')\n",
    "hash_val = hashlib.sha256(encoded).hexdigest()\n",
    "print('sha256 hash:', hash_val)"
   ]
  },
  {
   "cell_type": "code",
   "execution_count": null,
   "metadata": {},
   "outputs": [],
   "source": [
    "text = 'jrfsjww'\n",
    "encoded = text.encode('utf-8')\n",
    "hash_val = hashlib.md5(encoded).hexdigest()\n",
    "print('md5 hash:', hash_val)"
   ]
  },
  {
   "cell_type": "code",
   "execution_count": null,
   "metadata": {},
   "outputs": [],
   "source": [
    "text = 'fwbhnw'\n",
    "encoded = text.encode('utf-8')\n",
    "hash_val = hashlib.sha512(encoded).hexdigest()\n",
    "print('sha512 hash:', hash_val)"
   ]
  },
  {
   "cell_type": "code",
   "execution_count": null,
   "metadata": {},
   "outputs": [],
   "source": [
    "text = 'tgnihpzt'\n",
    "encoded = text.encode('utf-8')\n",
    "hash_val = hashlib.sha256(encoded).hexdigest()\n",
    "print('sha256 hash:', hash_val)"
   ]
  },
  {
   "cell_type": "code",
   "execution_count": null,
   "metadata": {},
   "outputs": [],
   "source": [
    "text = 'tlqhru'\n",
    "encoded = text.encode('utf-8')\n",
    "hash_val = hashlib.sha512(encoded).hexdigest()\n",
    "print('sha512 hash:', hash_val)"
   ]
  },
  {
   "cell_type": "code",
   "execution_count": null,
   "metadata": {},
   "outputs": [],
   "source": [
    "text = 'onnsux'\n",
    "encoded = text.encode('utf-8')\n",
    "hash_val = hashlib.sha1(encoded).hexdigest()\n",
    "print('sha1 hash:', hash_val)"
   ]
  },
  {
   "cell_type": "code",
   "execution_count": null,
   "metadata": {},
   "outputs": [],
   "source": [
    "text = 'vtzkpyxvk'\n",
    "encoded = text.encode('utf-8')\n",
    "hash_val = hashlib.md5(encoded).hexdigest()\n",
    "print('md5 hash:', hash_val)"
   ]
  },
  {
   "cell_type": "code",
   "execution_count": null,
   "metadata": {},
   "outputs": [],
   "source": [
    "text = 'rolwjapqxy'\n",
    "encoded = text.encode('utf-8')\n",
    "hash_val = hashlib.md5(encoded).hexdigest()\n",
    "print('md5 hash:', hash_val)"
   ]
  },
  {
   "cell_type": "code",
   "execution_count": null,
   "metadata": {},
   "outputs": [],
   "source": [
    "text = 'dnqubxkpgs'\n",
    "encoded = text.encode('utf-8')\n",
    "hash_val = hashlib.sha256(encoded).hexdigest()\n",
    "print('sha256 hash:', hash_val)"
   ]
  },
  {
   "cell_type": "code",
   "execution_count": null,
   "metadata": {},
   "outputs": [],
   "source": [
    "text = 'yzlcwvng'\n",
    "encoded = text.encode('utf-8')\n",
    "hash_val = hashlib.sha512(encoded).hexdigest()\n",
    "print('sha512 hash:', hash_val)"
   ]
  },
  {
   "cell_type": "code",
   "execution_count": null,
   "metadata": {},
   "outputs": [],
   "source": [
    "text = 'tpojxtwscq'\n",
    "encoded = text.encode('utf-8')\n",
    "hash_val = hashlib.sha512(encoded).hexdigest()\n",
    "print('sha512 hash:', hash_val)"
   ]
  },
  {
   "cell_type": "code",
   "execution_count": null,
   "metadata": {},
   "outputs": [],
   "source": [
    "text = 'azrcbem'\n",
    "encoded = text.encode('utf-8')\n",
    "hash_val = hashlib.sha1(encoded).hexdigest()\n",
    "print('sha1 hash:', hash_val)"
   ]
  },
  {
   "cell_type": "code",
   "execution_count": null,
   "metadata": {},
   "outputs": [],
   "source": [
    "text = 'thinf'\n",
    "encoded = text.encode('utf-8')\n",
    "hash_val = hashlib.sha256(encoded).hexdigest()\n",
    "print('sha256 hash:', hash_val)"
   ]
  },
  {
   "cell_type": "code",
   "execution_count": null,
   "metadata": {},
   "outputs": [],
   "source": [
    "text = 'rbnap'\n",
    "encoded = text.encode('utf-8')\n",
    "hash_val = hashlib.md5(encoded).hexdigest()\n",
    "print('md5 hash:', hash_val)"
   ]
  },
  {
   "cell_type": "code",
   "execution_count": null,
   "metadata": {},
   "outputs": [],
   "source": [
    "text = 'hghdtpkmr'\n",
    "encoded = text.encode('utf-8')\n",
    "hash_val = hashlib.sha512(encoded).hexdigest()\n",
    "print('sha512 hash:', hash_val)"
   ]
  },
  {
   "cell_type": "code",
   "execution_count": null,
   "metadata": {},
   "outputs": [],
   "source": [
    "text = 'wwyrtl'\n",
    "encoded = text.encode('utf-8')\n",
    "hash_val = hashlib.sha1(encoded).hexdigest()\n",
    "print('sha1 hash:', hash_val)"
   ]
  },
  {
   "cell_type": "code",
   "execution_count": null,
   "metadata": {},
   "outputs": [],
   "source": [
    "text = 'mbgri'\n",
    "encoded = text.encode('utf-8')\n",
    "hash_val = hashlib.sha512(encoded).hexdigest()\n",
    "print('sha512 hash:', hash_val)"
   ]
  },
  {
   "cell_type": "code",
   "execution_count": null,
   "metadata": {},
   "outputs": [],
   "source": [
    "text = 'mbqddbfif'\n",
    "encoded = text.encode('utf-8')\n",
    "hash_val = hashlib.sha256(encoded).hexdigest()\n",
    "print('sha256 hash:', hash_val)"
   ]
  },
  {
   "cell_type": "code",
   "execution_count": null,
   "metadata": {},
   "outputs": [],
   "source": [
    "text = 'uareftvbel'\n",
    "encoded = text.encode('utf-8')\n",
    "hash_val = hashlib.md5(encoded).hexdigest()\n",
    "print('md5 hash:', hash_val)"
   ]
  },
  {
   "cell_type": "code",
   "execution_count": null,
   "metadata": {},
   "outputs": [],
   "source": [
    "text = 'cufatri'\n",
    "encoded = text.encode('utf-8')\n",
    "hash_val = hashlib.sha1(encoded).hexdigest()\n",
    "print('sha1 hash:', hash_val)"
   ]
  },
  {
   "cell_type": "code",
   "execution_count": null,
   "metadata": {},
   "outputs": [],
   "source": [
    "text = 'adlgtk'\n",
    "encoded = text.encode('utf-8')\n",
    "hash_val = hashlib.sha1(encoded).hexdigest()\n",
    "print('sha1 hash:', hash_val)"
   ]
  },
  {
   "cell_type": "code",
   "execution_count": null,
   "metadata": {},
   "outputs": [],
   "source": [
    "text = 'ujbivcxp'\n",
    "encoded = text.encode('utf-8')\n",
    "hash_val = hashlib.sha1(encoded).hexdigest()\n",
    "print('sha1 hash:', hash_val)"
   ]
  },
  {
   "cell_type": "code",
   "execution_count": null,
   "metadata": {},
   "outputs": [],
   "source": [
    "text = 'sdpops'\n",
    "encoded = text.encode('utf-8')\n",
    "hash_val = hashlib.sha256(encoded).hexdigest()\n",
    "print('sha256 hash:', hash_val)"
   ]
  },
  {
   "cell_type": "code",
   "execution_count": null,
   "metadata": {},
   "outputs": [],
   "source": [
    "text = 'alnqnmncww'\n",
    "encoded = text.encode('utf-8')\n",
    "hash_val = hashlib.sha512(encoded).hexdigest()\n",
    "print('sha512 hash:', hash_val)"
   ]
  },
  {
   "cell_type": "code",
   "execution_count": null,
   "metadata": {},
   "outputs": [],
   "source": [
    "text = 'wrwiv'\n",
    "encoded = text.encode('utf-8')\n",
    "hash_val = hashlib.md5(encoded).hexdigest()\n",
    "print('md5 hash:', hash_val)"
   ]
  },
  {
   "cell_type": "code",
   "execution_count": null,
   "metadata": {},
   "outputs": [],
   "source": [
    "text = 'ilkwumzxg'\n",
    "encoded = text.encode('utf-8')\n",
    "hash_val = hashlib.md5(encoded).hexdigest()\n",
    "print('md5 hash:', hash_val)"
   ]
  },
  {
   "cell_type": "code",
   "execution_count": null,
   "metadata": {},
   "outputs": [],
   "source": [
    "text = 'dhlzni'\n",
    "encoded = text.encode('utf-8')\n",
    "hash_val = hashlib.sha512(encoded).hexdigest()\n",
    "print('sha512 hash:', hash_val)"
   ]
  },
  {
   "cell_type": "code",
   "execution_count": null,
   "metadata": {},
   "outputs": [],
   "source": [
    "text = 'oczqhtabtw'\n",
    "encoded = text.encode('utf-8')\n",
    "hash_val = hashlib.md5(encoded).hexdigest()\n",
    "print('md5 hash:', hash_val)"
   ]
  },
  {
   "cell_type": "code",
   "execution_count": null,
   "metadata": {},
   "outputs": [],
   "source": [
    "text = 'wlemcux'\n",
    "encoded = text.encode('utf-8')\n",
    "hash_val = hashlib.sha1(encoded).hexdigest()\n",
    "print('sha1 hash:', hash_val)"
   ]
  },
  {
   "cell_type": "code",
   "execution_count": null,
   "metadata": {},
   "outputs": [],
   "source": [
    "text = 'nkyzb'\n",
    "encoded = text.encode('utf-8')\n",
    "hash_val = hashlib.sha512(encoded).hexdigest()\n",
    "print('sha512 hash:', hash_val)"
   ]
  },
  {
   "cell_type": "code",
   "execution_count": null,
   "metadata": {},
   "outputs": [],
   "source": [
    "text = 'wnrmgyus'\n",
    "encoded = text.encode('utf-8')\n",
    "hash_val = hashlib.sha256(encoded).hexdigest()\n",
    "print('sha256 hash:', hash_val)"
   ]
  },
  {
   "cell_type": "code",
   "execution_count": null,
   "metadata": {},
   "outputs": [],
   "source": [
    "text = 'matgdql'\n",
    "encoded = text.encode('utf-8')\n",
    "hash_val = hashlib.sha512(encoded).hexdigest()\n",
    "print('sha512 hash:', hash_val)"
   ]
  },
  {
   "cell_type": "code",
   "execution_count": null,
   "metadata": {},
   "outputs": [],
   "source": [
    "text = 'pgiibdx'\n",
    "encoded = text.encode('utf-8')\n",
    "hash_val = hashlib.sha512(encoded).hexdigest()\n",
    "print('sha512 hash:', hash_val)"
   ]
  },
  {
   "cell_type": "code",
   "execution_count": null,
   "metadata": {},
   "outputs": [],
   "source": [
    "text = 'xvixzsugjo'\n",
    "encoded = text.encode('utf-8')\n",
    "hash_val = hashlib.sha1(encoded).hexdigest()\n",
    "print('sha1 hash:', hash_val)"
   ]
  },
  {
   "cell_type": "code",
   "execution_count": null,
   "metadata": {},
   "outputs": [],
   "source": [
    "text = 'drrqsl'\n",
    "encoded = text.encode('utf-8')\n",
    "hash_val = hashlib.sha256(encoded).hexdigest()\n",
    "print('sha256 hash:', hash_val)"
   ]
  },
  {
   "cell_type": "code",
   "execution_count": null,
   "metadata": {},
   "outputs": [],
   "source": [
    "text = 'zbxepn'\n",
    "encoded = text.encode('utf-8')\n",
    "hash_val = hashlib.sha512(encoded).hexdigest()\n",
    "print('sha512 hash:', hash_val)"
   ]
  },
  {
   "cell_type": "code",
   "execution_count": null,
   "metadata": {},
   "outputs": [],
   "source": [
    "text = 'rzzuhuo'\n",
    "encoded = text.encode('utf-8')\n",
    "hash_val = hashlib.sha256(encoded).hexdigest()\n",
    "print('sha256 hash:', hash_val)"
   ]
  },
  {
   "cell_type": "code",
   "execution_count": null,
   "metadata": {},
   "outputs": [],
   "source": [
    "text = 'pirorbhg'\n",
    "encoded = text.encode('utf-8')\n",
    "hash_val = hashlib.sha512(encoded).hexdigest()\n",
    "print('sha512 hash:', hash_val)"
   ]
  },
  {
   "cell_type": "code",
   "execution_count": null,
   "metadata": {},
   "outputs": [],
   "source": [
    "text = 'zwvnjnsb'\n",
    "encoded = text.encode('utf-8')\n",
    "hash_val = hashlib.md5(encoded).hexdigest()\n",
    "print('md5 hash:', hash_val)"
   ]
  },
  {
   "cell_type": "code",
   "execution_count": null,
   "metadata": {},
   "outputs": [],
   "source": [
    "text = 'wnpophcxz'\n",
    "encoded = text.encode('utf-8')\n",
    "hash_val = hashlib.md5(encoded).hexdigest()\n",
    "print('md5 hash:', hash_val)"
   ]
  },
  {
   "cell_type": "code",
   "execution_count": null,
   "metadata": {},
   "outputs": [],
   "source": [
    "text = 'fmfrurfot'\n",
    "encoded = text.encode('utf-8')\n",
    "hash_val = hashlib.md5(encoded).hexdigest()\n",
    "print('md5 hash:', hash_val)"
   ]
  },
  {
   "cell_type": "code",
   "execution_count": null,
   "metadata": {},
   "outputs": [],
   "source": [
    "text = 'jwpdcs'\n",
    "encoded = text.encode('utf-8')\n",
    "hash_val = hashlib.md5(encoded).hexdigest()\n",
    "print('md5 hash:', hash_val)"
   ]
  },
  {
   "cell_type": "code",
   "execution_count": null,
   "metadata": {},
   "outputs": [],
   "source": [
    "text = 'obkvqds'\n",
    "encoded = text.encode('utf-8')\n",
    "hash_val = hashlib.md5(encoded).hexdigest()\n",
    "print('md5 hash:', hash_val)"
   ]
  },
  {
   "cell_type": "code",
   "execution_count": null,
   "metadata": {},
   "outputs": [],
   "source": [
    "text = 'ffhufwl'\n",
    "encoded = text.encode('utf-8')\n",
    "hash_val = hashlib.sha256(encoded).hexdigest()\n",
    "print('sha256 hash:', hash_val)"
   ]
  },
  {
   "cell_type": "code",
   "execution_count": null,
   "metadata": {},
   "outputs": [],
   "source": [
    "text = 'mezpxml'\n",
    "encoded = text.encode('utf-8')\n",
    "hash_val = hashlib.md5(encoded).hexdigest()\n",
    "print('md5 hash:', hash_val)"
   ]
  },
  {
   "cell_type": "code",
   "execution_count": null,
   "metadata": {},
   "outputs": [],
   "source": [
    "text = 'wosqzmnec'\n",
    "encoded = text.encode('utf-8')\n",
    "hash_val = hashlib.sha1(encoded).hexdigest()\n",
    "print('sha1 hash:', hash_val)"
   ]
  },
  {
   "cell_type": "code",
   "execution_count": null,
   "metadata": {},
   "outputs": [],
   "source": [
    "text = 'hpgogqfpo'\n",
    "encoded = text.encode('utf-8')\n",
    "hash_val = hashlib.md5(encoded).hexdigest()\n",
    "print('md5 hash:', hash_val)"
   ]
  },
  {
   "cell_type": "code",
   "execution_count": null,
   "metadata": {},
   "outputs": [],
   "source": [
    "text = 'lsmsfkewtn'\n",
    "encoded = text.encode('utf-8')\n",
    "hash_val = hashlib.sha256(encoded).hexdigest()\n",
    "print('sha256 hash:', hash_val)"
   ]
  },
  {
   "cell_type": "code",
   "execution_count": null,
   "metadata": {},
   "outputs": [],
   "source": [
    "text = 'foqndst'\n",
    "encoded = text.encode('utf-8')\n",
    "hash_val = hashlib.sha256(encoded).hexdigest()\n",
    "print('sha256 hash:', hash_val)"
   ]
  },
  {
   "cell_type": "code",
   "execution_count": null,
   "metadata": {},
   "outputs": [],
   "source": [
    "text = 'olxjbcrqvj'\n",
    "encoded = text.encode('utf-8')\n",
    "hash_val = hashlib.sha256(encoded).hexdigest()\n",
    "print('sha256 hash:', hash_val)"
   ]
  },
  {
   "cell_type": "code",
   "execution_count": null,
   "metadata": {},
   "outputs": [],
   "source": [
    "text = 'azrzayhbtd'\n",
    "encoded = text.encode('utf-8')\n",
    "hash_val = hashlib.sha512(encoded).hexdigest()\n",
    "print('sha512 hash:', hash_val)"
   ]
  },
  {
   "cell_type": "code",
   "execution_count": null,
   "metadata": {},
   "outputs": [],
   "source": [
    "text = 'cxxbilhaug'\n",
    "encoded = text.encode('utf-8')\n",
    "hash_val = hashlib.sha1(encoded).hexdigest()\n",
    "print('sha1 hash:', hash_val)"
   ]
  },
  {
   "cell_type": "code",
   "execution_count": null,
   "metadata": {},
   "outputs": [],
   "source": [
    "text = 'tuggbo'\n",
    "encoded = text.encode('utf-8')\n",
    "hash_val = hashlib.sha512(encoded).hexdigest()\n",
    "print('sha512 hash:', hash_val)"
   ]
  },
  {
   "cell_type": "code",
   "execution_count": null,
   "metadata": {},
   "outputs": [],
   "source": [
    "text = 'lxkhk'\n",
    "encoded = text.encode('utf-8')\n",
    "hash_val = hashlib.sha512(encoded).hexdigest()\n",
    "print('sha512 hash:', hash_val)"
   ]
  },
  {
   "cell_type": "code",
   "execution_count": null,
   "metadata": {},
   "outputs": [],
   "source": [
    "text = 'zftwene'\n",
    "encoded = text.encode('utf-8')\n",
    "hash_val = hashlib.sha256(encoded).hexdigest()\n",
    "print('sha256 hash:', hash_val)"
   ]
  },
  {
   "cell_type": "code",
   "execution_count": null,
   "metadata": {},
   "outputs": [],
   "source": [
    "text = 'ufxnzk'\n",
    "encoded = text.encode('utf-8')\n",
    "hash_val = hashlib.sha512(encoded).hexdigest()\n",
    "print('sha512 hash:', hash_val)"
   ]
  },
  {
   "cell_type": "code",
   "execution_count": null,
   "metadata": {},
   "outputs": [],
   "source": [
    "text = 'qegbq'\n",
    "encoded = text.encode('utf-8')\n",
    "hash_val = hashlib.sha1(encoded).hexdigest()\n",
    "print('sha1 hash:', hash_val)"
   ]
  },
  {
   "cell_type": "code",
   "execution_count": null,
   "metadata": {},
   "outputs": [],
   "source": [
    "text = 'oszlt'\n",
    "encoded = text.encode('utf-8')\n",
    "hash_val = hashlib.sha512(encoded).hexdigest()\n",
    "print('sha512 hash:', hash_val)"
   ]
  },
  {
   "cell_type": "code",
   "execution_count": null,
   "metadata": {},
   "outputs": [],
   "source": [
    "text = 'pviemcpczo'\n",
    "encoded = text.encode('utf-8')\n",
    "hash_val = hashlib.sha1(encoded).hexdigest()\n",
    "print('sha1 hash:', hash_val)"
   ]
  },
  {
   "cell_type": "code",
   "execution_count": null,
   "metadata": {},
   "outputs": [],
   "source": [
    "text = 'hduvtae'\n",
    "encoded = text.encode('utf-8')\n",
    "hash_val = hashlib.sha512(encoded).hexdigest()\n",
    "print('sha512 hash:', hash_val)"
   ]
  },
  {
   "cell_type": "code",
   "execution_count": null,
   "metadata": {},
   "outputs": [],
   "source": [
    "text = 'hwjqw'\n",
    "encoded = text.encode('utf-8')\n",
    "hash_val = hashlib.sha512(encoded).hexdigest()\n",
    "print('sha512 hash:', hash_val)"
   ]
  },
  {
   "cell_type": "code",
   "execution_count": null,
   "metadata": {},
   "outputs": [],
   "source": [
    "text = 'inbsys'\n",
    "encoded = text.encode('utf-8')\n",
    "hash_val = hashlib.md5(encoded).hexdigest()\n",
    "print('md5 hash:', hash_val)"
   ]
  },
  {
   "cell_type": "code",
   "execution_count": null,
   "metadata": {},
   "outputs": [],
   "source": [
    "text = 'vedvlg'\n",
    "encoded = text.encode('utf-8')\n",
    "hash_val = hashlib.sha1(encoded).hexdigest()\n",
    "print('sha1 hash:', hash_val)"
   ]
  },
  {
   "cell_type": "code",
   "execution_count": null,
   "metadata": {},
   "outputs": [],
   "source": [
    "text = 'kinnoli'\n",
    "encoded = text.encode('utf-8')\n",
    "hash_val = hashlib.sha1(encoded).hexdigest()\n",
    "print('sha1 hash:', hash_val)"
   ]
  },
  {
   "cell_type": "code",
   "execution_count": null,
   "metadata": {},
   "outputs": [],
   "source": [
    "text = 'nrcshlrnd'\n",
    "encoded = text.encode('utf-8')\n",
    "hash_val = hashlib.sha256(encoded).hexdigest()\n",
    "print('sha256 hash:', hash_val)"
   ]
  },
  {
   "cell_type": "code",
   "execution_count": null,
   "metadata": {},
   "outputs": [],
   "source": [
    "text = 'iyjzij'\n",
    "encoded = text.encode('utf-8')\n",
    "hash_val = hashlib.sha512(encoded).hexdigest()\n",
    "print('sha512 hash:', hash_val)"
   ]
  },
  {
   "cell_type": "code",
   "execution_count": null,
   "metadata": {},
   "outputs": [],
   "source": [
    "text = 'qlzvnbkiwu'\n",
    "encoded = text.encode('utf-8')\n",
    "hash_val = hashlib.sha1(encoded).hexdigest()\n",
    "print('sha1 hash:', hash_val)"
   ]
  },
  {
   "cell_type": "code",
   "execution_count": null,
   "metadata": {},
   "outputs": [],
   "source": [
    "text = 'ugcmkcm'\n",
    "encoded = text.encode('utf-8')\n",
    "hash_val = hashlib.sha256(encoded).hexdigest()\n",
    "print('sha256 hash:', hash_val)"
   ]
  },
  {
   "cell_type": "code",
   "execution_count": null,
   "metadata": {},
   "outputs": [],
   "source": [
    "text = 'rlrhzb'\n",
    "encoded = text.encode('utf-8')\n",
    "hash_val = hashlib.sha512(encoded).hexdigest()\n",
    "print('sha512 hash:', hash_val)"
   ]
  },
  {
   "cell_type": "code",
   "execution_count": null,
   "metadata": {},
   "outputs": [],
   "source": [
    "text = 'tjpzndb'\n",
    "encoded = text.encode('utf-8')\n",
    "hash_val = hashlib.sha1(encoded).hexdigest()\n",
    "print('sha1 hash:', hash_val)"
   ]
  },
  {
   "cell_type": "code",
   "execution_count": null,
   "metadata": {},
   "outputs": [],
   "source": [
    "text = 'cgamfbh'\n",
    "encoded = text.encode('utf-8')\n",
    "hash_val = hashlib.sha256(encoded).hexdigest()\n",
    "print('sha256 hash:', hash_val)"
   ]
  },
  {
   "cell_type": "code",
   "execution_count": null,
   "metadata": {},
   "outputs": [],
   "source": [
    "text = 'adghxc'\n",
    "encoded = text.encode('utf-8')\n",
    "hash_val = hashlib.sha1(encoded).hexdigest()\n",
    "print('sha1 hash:', hash_val)"
   ]
  },
  {
   "cell_type": "code",
   "execution_count": null,
   "metadata": {},
   "outputs": [],
   "source": [
    "text = 'jrubjexw'\n",
    "encoded = text.encode('utf-8')\n",
    "hash_val = hashlib.sha256(encoded).hexdigest()\n",
    "print('sha256 hash:', hash_val)"
   ]
  },
  {
   "cell_type": "code",
   "execution_count": null,
   "metadata": {},
   "outputs": [],
   "source": [
    "text = 'gvbglbgw'\n",
    "encoded = text.encode('utf-8')\n",
    "hash_val = hashlib.sha512(encoded).hexdigest()\n",
    "print('sha512 hash:', hash_val)"
   ]
  },
  {
   "cell_type": "code",
   "execution_count": null,
   "metadata": {},
   "outputs": [],
   "source": [
    "text = 'hpdno'\n",
    "encoded = text.encode('utf-8')\n",
    "hash_val = hashlib.sha1(encoded).hexdigest()\n",
    "print('sha1 hash:', hash_val)"
   ]
  },
  {
   "cell_type": "code",
   "execution_count": null,
   "metadata": {},
   "outputs": [],
   "source": [
    "text = 'jitvv'\n",
    "encoded = text.encode('utf-8')\n",
    "hash_val = hashlib.sha256(encoded).hexdigest()\n",
    "print('sha256 hash:', hash_val)"
   ]
  },
  {
   "cell_type": "code",
   "execution_count": null,
   "metadata": {},
   "outputs": [],
   "source": [
    "text = 'bukhgrnbvy'\n",
    "encoded = text.encode('utf-8')\n",
    "hash_val = hashlib.sha1(encoded).hexdigest()\n",
    "print('sha1 hash:', hash_val)"
   ]
  },
  {
   "cell_type": "code",
   "execution_count": null,
   "metadata": {},
   "outputs": [],
   "source": [
    "text = 'snyrzz'\n",
    "encoded = text.encode('utf-8')\n",
    "hash_val = hashlib.md5(encoded).hexdigest()\n",
    "print('md5 hash:', hash_val)"
   ]
  },
  {
   "cell_type": "code",
   "execution_count": null,
   "metadata": {},
   "outputs": [],
   "source": [
    "text = 'iwytxsikak'\n",
    "encoded = text.encode('utf-8')\n",
    "hash_val = hashlib.sha1(encoded).hexdigest()\n",
    "print('sha1 hash:', hash_val)"
   ]
  },
  {
   "cell_type": "code",
   "execution_count": null,
   "metadata": {},
   "outputs": [],
   "source": [
    "text = 'pwqrlcjse'\n",
    "encoded = text.encode('utf-8')\n",
    "hash_val = hashlib.md5(encoded).hexdigest()\n",
    "print('md5 hash:', hash_val)"
   ]
  },
  {
   "cell_type": "code",
   "execution_count": null,
   "metadata": {},
   "outputs": [],
   "source": [
    "text = 'bbiiqyoej'\n",
    "encoded = text.encode('utf-8')\n",
    "hash_val = hashlib.sha256(encoded).hexdigest()\n",
    "print('sha256 hash:', hash_val)"
   ]
  },
  {
   "cell_type": "code",
   "execution_count": null,
   "metadata": {},
   "outputs": [],
   "source": [
    "text = 'awcqxqhk'\n",
    "encoded = text.encode('utf-8')\n",
    "hash_val = hashlib.sha512(encoded).hexdigest()\n",
    "print('sha512 hash:', hash_val)"
   ]
  },
  {
   "cell_type": "code",
   "execution_count": null,
   "metadata": {},
   "outputs": [],
   "source": [
    "text = 'llnudbn'\n",
    "encoded = text.encode('utf-8')\n",
    "hash_val = hashlib.md5(encoded).hexdigest()\n",
    "print('md5 hash:', hash_val)"
   ]
  },
  {
   "cell_type": "code",
   "execution_count": null,
   "metadata": {},
   "outputs": [],
   "source": [
    "text = 'xbzhruiks'\n",
    "encoded = text.encode('utf-8')\n",
    "hash_val = hashlib.sha512(encoded).hexdigest()\n",
    "print('sha512 hash:', hash_val)"
   ]
  },
  {
   "cell_type": "code",
   "execution_count": null,
   "metadata": {},
   "outputs": [],
   "source": [
    "text = 'anhwjfqodz'\n",
    "encoded = text.encode('utf-8')\n",
    "hash_val = hashlib.sha256(encoded).hexdigest()\n",
    "print('sha256 hash:', hash_val)"
   ]
  },
  {
   "cell_type": "code",
   "execution_count": null,
   "metadata": {},
   "outputs": [],
   "source": [
    "text = 'jlzcllzsj'\n",
    "encoded = text.encode('utf-8')\n",
    "hash_val = hashlib.sha1(encoded).hexdigest()\n",
    "print('sha1 hash:', hash_val)"
   ]
  },
  {
   "cell_type": "code",
   "execution_count": null,
   "metadata": {},
   "outputs": [],
   "source": [
    "text = 'lssyijh'\n",
    "encoded = text.encode('utf-8')\n",
    "hash_val = hashlib.sha512(encoded).hexdigest()\n",
    "print('sha512 hash:', hash_val)"
   ]
  },
  {
   "cell_type": "code",
   "execution_count": null,
   "metadata": {},
   "outputs": [],
   "source": [
    "text = 'ozssvui'\n",
    "encoded = text.encode('utf-8')\n",
    "hash_val = hashlib.sha1(encoded).hexdigest()\n",
    "print('sha1 hash:', hash_val)"
   ]
  },
  {
   "cell_type": "code",
   "execution_count": null,
   "metadata": {},
   "outputs": [],
   "source": [
    "text = 'tamje'\n",
    "encoded = text.encode('utf-8')\n",
    "hash_val = hashlib.sha256(encoded).hexdigest()\n",
    "print('sha256 hash:', hash_val)"
   ]
  },
  {
   "cell_type": "code",
   "execution_count": null,
   "metadata": {},
   "outputs": [],
   "source": [
    "text = 'fzryb'\n",
    "encoded = text.encode('utf-8')\n",
    "hash_val = hashlib.sha512(encoded).hexdigest()\n",
    "print('sha512 hash:', hash_val)"
   ]
  },
  {
   "cell_type": "code",
   "execution_count": null,
   "metadata": {},
   "outputs": [],
   "source": [
    "text = 'ikymriqvew'\n",
    "encoded = text.encode('utf-8')\n",
    "hash_val = hashlib.sha256(encoded).hexdigest()\n",
    "print('sha256 hash:', hash_val)"
   ]
  },
  {
   "cell_type": "code",
   "execution_count": null,
   "metadata": {},
   "outputs": [],
   "source": [
    "text = 'xjzpusrez'\n",
    "encoded = text.encode('utf-8')\n",
    "hash_val = hashlib.sha1(encoded).hexdigest()\n",
    "print('sha1 hash:', hash_val)"
   ]
  },
  {
   "cell_type": "code",
   "execution_count": null,
   "metadata": {},
   "outputs": [],
   "source": [
    "text = 'psotyb'\n",
    "encoded = text.encode('utf-8')\n",
    "hash_val = hashlib.sha512(encoded).hexdigest()\n",
    "print('sha512 hash:', hash_val)"
   ]
  },
  {
   "cell_type": "code",
   "execution_count": null,
   "metadata": {},
   "outputs": [],
   "source": [
    "text = 'sakinwxwjx'\n",
    "encoded = text.encode('utf-8')\n",
    "hash_val = hashlib.sha256(encoded).hexdigest()\n",
    "print('sha256 hash:', hash_val)"
   ]
  },
  {
   "cell_type": "code",
   "execution_count": null,
   "metadata": {},
   "outputs": [],
   "source": [
    "text = 'wtnvxdaw'\n",
    "encoded = text.encode('utf-8')\n",
    "hash_val = hashlib.sha1(encoded).hexdigest()\n",
    "print('sha1 hash:', hash_val)"
   ]
  },
  {
   "cell_type": "code",
   "execution_count": null,
   "metadata": {},
   "outputs": [],
   "source": [
    "text = 'dslufu'\n",
    "encoded = text.encode('utf-8')\n",
    "hash_val = hashlib.sha512(encoded).hexdigest()\n",
    "print('sha512 hash:', hash_val)"
   ]
  },
  {
   "cell_type": "code",
   "execution_count": null,
   "metadata": {},
   "outputs": [],
   "source": [
    "text = 'tzrwoqsq'\n",
    "encoded = text.encode('utf-8')\n",
    "hash_val = hashlib.sha512(encoded).hexdigest()\n",
    "print('sha512 hash:', hash_val)"
   ]
  },
  {
   "cell_type": "code",
   "execution_count": null,
   "metadata": {},
   "outputs": [],
   "source": [
    "text = 'hkvkydm'\n",
    "encoded = text.encode('utf-8')\n",
    "hash_val = hashlib.sha512(encoded).hexdigest()\n",
    "print('sha512 hash:', hash_val)"
   ]
  },
  {
   "cell_type": "code",
   "execution_count": null,
   "metadata": {},
   "outputs": [],
   "source": [
    "text = 'oxfkjgi'\n",
    "encoded = text.encode('utf-8')\n",
    "hash_val = hashlib.sha512(encoded).hexdigest()\n",
    "print('sha512 hash:', hash_val)"
   ]
  },
  {
   "cell_type": "code",
   "execution_count": null,
   "metadata": {},
   "outputs": [],
   "source": [
    "text = 'ponrpb'\n",
    "encoded = text.encode('utf-8')\n",
    "hash_val = hashlib.md5(encoded).hexdigest()\n",
    "print('md5 hash:', hash_val)"
   ]
  },
  {
   "cell_type": "code",
   "execution_count": null,
   "metadata": {},
   "outputs": [],
   "source": [
    "text = 'btkuaul'\n",
    "encoded = text.encode('utf-8')\n",
    "hash_val = hashlib.sha256(encoded).hexdigest()\n",
    "print('sha256 hash:', hash_val)"
   ]
  },
  {
   "cell_type": "code",
   "execution_count": null,
   "metadata": {},
   "outputs": [],
   "source": [
    "text = 'tbosbv'\n",
    "encoded = text.encode('utf-8')\n",
    "hash_val = hashlib.sha1(encoded).hexdigest()\n",
    "print('sha1 hash:', hash_val)"
   ]
  },
  {
   "cell_type": "code",
   "execution_count": null,
   "metadata": {},
   "outputs": [],
   "source": [
    "text = 'sfrxshlg'\n",
    "encoded = text.encode('utf-8')\n",
    "hash_val = hashlib.sha256(encoded).hexdigest()\n",
    "print('sha256 hash:', hash_val)"
   ]
  },
  {
   "cell_type": "code",
   "execution_count": null,
   "metadata": {},
   "outputs": [],
   "source": [
    "text = 'ijlckrwdpc'\n",
    "encoded = text.encode('utf-8')\n",
    "hash_val = hashlib.md5(encoded).hexdigest()\n",
    "print('md5 hash:', hash_val)"
   ]
  },
  {
   "cell_type": "code",
   "execution_count": null,
   "metadata": {},
   "outputs": [],
   "source": [
    "text = 'wmwij'\n",
    "encoded = text.encode('utf-8')\n",
    "hash_val = hashlib.md5(encoded).hexdigest()\n",
    "print('md5 hash:', hash_val)"
   ]
  },
  {
   "cell_type": "code",
   "execution_count": null,
   "metadata": {},
   "outputs": [],
   "source": [
    "text = 'hvtnce'\n",
    "encoded = text.encode('utf-8')\n",
    "hash_val = hashlib.sha256(encoded).hexdigest()\n",
    "print('sha256 hash:', hash_val)"
   ]
  },
  {
   "cell_type": "code",
   "execution_count": null,
   "metadata": {},
   "outputs": [],
   "source": [
    "text = 'pbankbcig'\n",
    "encoded = text.encode('utf-8')\n",
    "hash_val = hashlib.sha1(encoded).hexdigest()\n",
    "print('sha1 hash:', hash_val)"
   ]
  },
  {
   "cell_type": "code",
   "execution_count": null,
   "metadata": {},
   "outputs": [],
   "source": [
    "text = 'difxyf'\n",
    "encoded = text.encode('utf-8')\n",
    "hash_val = hashlib.md5(encoded).hexdigest()\n",
    "print('md5 hash:', hash_val)"
   ]
  },
  {
   "cell_type": "code",
   "execution_count": null,
   "metadata": {},
   "outputs": [],
   "source": [
    "text = 'rkkxzpoque'\n",
    "encoded = text.encode('utf-8')\n",
    "hash_val = hashlib.sha1(encoded).hexdigest()\n",
    "print('sha1 hash:', hash_val)"
   ]
  },
  {
   "cell_type": "code",
   "execution_count": null,
   "metadata": {},
   "outputs": [],
   "source": [
    "text = 'zifzs'\n",
    "encoded = text.encode('utf-8')\n",
    "hash_val = hashlib.sha512(encoded).hexdigest()\n",
    "print('sha512 hash:', hash_val)"
   ]
  },
  {
   "cell_type": "code",
   "execution_count": null,
   "metadata": {},
   "outputs": [],
   "source": [
    "text = 'gzeafp'\n",
    "encoded = text.encode('utf-8')\n",
    "hash_val = hashlib.md5(encoded).hexdigest()\n",
    "print('md5 hash:', hash_val)"
   ]
  },
  {
   "cell_type": "code",
   "execution_count": null,
   "metadata": {},
   "outputs": [],
   "source": [
    "text = 'epwzdy'\n",
    "encoded = text.encode('utf-8')\n",
    "hash_val = hashlib.sha512(encoded).hexdigest()\n",
    "print('sha512 hash:', hash_val)"
   ]
  },
  {
   "cell_type": "code",
   "execution_count": null,
   "metadata": {},
   "outputs": [],
   "source": [
    "text = 'voshvlec'\n",
    "encoded = text.encode('utf-8')\n",
    "hash_val = hashlib.sha256(encoded).hexdigest()\n",
    "print('sha256 hash:', hash_val)"
   ]
  },
  {
   "cell_type": "code",
   "execution_count": null,
   "metadata": {},
   "outputs": [],
   "source": [
    "text = 'clsleucwtb'\n",
    "encoded = text.encode('utf-8')\n",
    "hash_val = hashlib.sha256(encoded).hexdigest()\n",
    "print('sha256 hash:', hash_val)"
   ]
  },
  {
   "cell_type": "code",
   "execution_count": null,
   "metadata": {},
   "outputs": [],
   "source": [
    "text = 'hhboraeut'\n",
    "encoded = text.encode('utf-8')\n",
    "hash_val = hashlib.sha512(encoded).hexdigest()\n",
    "print('sha512 hash:', hash_val)"
   ]
  },
  {
   "cell_type": "code",
   "execution_count": null,
   "metadata": {},
   "outputs": [],
   "source": [
    "text = 'bobcwheuzm'\n",
    "encoded = text.encode('utf-8')\n",
    "hash_val = hashlib.sha256(encoded).hexdigest()\n",
    "print('sha256 hash:', hash_val)"
   ]
  },
  {
   "cell_type": "code",
   "execution_count": null,
   "metadata": {},
   "outputs": [],
   "source": [
    "text = 'xerykjw'\n",
    "encoded = text.encode('utf-8')\n",
    "hash_val = hashlib.sha256(encoded).hexdigest()\n",
    "print('sha256 hash:', hash_val)"
   ]
  },
  {
   "cell_type": "code",
   "execution_count": null,
   "metadata": {},
   "outputs": [],
   "source": [
    "text = 'yqpiosefj'\n",
    "encoded = text.encode('utf-8')\n",
    "hash_val = hashlib.sha1(encoded).hexdigest()\n",
    "print('sha1 hash:', hash_val)"
   ]
  },
  {
   "cell_type": "code",
   "execution_count": null,
   "metadata": {},
   "outputs": [],
   "source": [
    "text = 'ftlnz'\n",
    "encoded = text.encode('utf-8')\n",
    "hash_val = hashlib.sha256(encoded).hexdigest()\n",
    "print('sha256 hash:', hash_val)"
   ]
  },
  {
   "cell_type": "code",
   "execution_count": null,
   "metadata": {},
   "outputs": [],
   "source": [
    "text = 'yvtld'\n",
    "encoded = text.encode('utf-8')\n",
    "hash_val = hashlib.sha1(encoded).hexdigest()\n",
    "print('sha1 hash:', hash_val)"
   ]
  },
  {
   "cell_type": "code",
   "execution_count": null,
   "metadata": {},
   "outputs": [],
   "source": [
    "text = 'rxcadlzq'\n",
    "encoded = text.encode('utf-8')\n",
    "hash_val = hashlib.sha512(encoded).hexdigest()\n",
    "print('sha512 hash:', hash_val)"
   ]
  },
  {
   "cell_type": "code",
   "execution_count": null,
   "metadata": {},
   "outputs": [],
   "source": [
    "text = 'cageqj'\n",
    "encoded = text.encode('utf-8')\n",
    "hash_val = hashlib.sha256(encoded).hexdigest()\n",
    "print('sha256 hash:', hash_val)"
   ]
  },
  {
   "cell_type": "code",
   "execution_count": null,
   "metadata": {},
   "outputs": [],
   "source": [
    "text = 'ezzha'\n",
    "encoded = text.encode('utf-8')\n",
    "hash_val = hashlib.md5(encoded).hexdigest()\n",
    "print('md5 hash:', hash_val)"
   ]
  },
  {
   "cell_type": "code",
   "execution_count": null,
   "metadata": {},
   "outputs": [],
   "source": [
    "text = 'mbzob'\n",
    "encoded = text.encode('utf-8')\n",
    "hash_val = hashlib.sha256(encoded).hexdigest()\n",
    "print('sha256 hash:', hash_val)"
   ]
  },
  {
   "cell_type": "code",
   "execution_count": null,
   "metadata": {},
   "outputs": [],
   "source": [
    "text = 'niyomktn'\n",
    "encoded = text.encode('utf-8')\n",
    "hash_val = hashlib.md5(encoded).hexdigest()\n",
    "print('md5 hash:', hash_val)"
   ]
  },
  {
   "cell_type": "code",
   "execution_count": null,
   "metadata": {},
   "outputs": [],
   "source": [
    "text = 'flwjczs'\n",
    "encoded = text.encode('utf-8')\n",
    "hash_val = hashlib.sha256(encoded).hexdigest()\n",
    "print('sha256 hash:', hash_val)"
   ]
  },
  {
   "cell_type": "code",
   "execution_count": null,
   "metadata": {},
   "outputs": [],
   "source": [
    "text = 'rowwga'\n",
    "encoded = text.encode('utf-8')\n",
    "hash_val = hashlib.sha1(encoded).hexdigest()\n",
    "print('sha1 hash:', hash_val)"
   ]
  },
  {
   "cell_type": "code",
   "execution_count": null,
   "metadata": {},
   "outputs": [],
   "source": [
    "text = 'miymzq'\n",
    "encoded = text.encode('utf-8')\n",
    "hash_val = hashlib.sha256(encoded).hexdigest()\n",
    "print('sha256 hash:', hash_val)"
   ]
  },
  {
   "cell_type": "code",
   "execution_count": null,
   "metadata": {},
   "outputs": [],
   "source": [
    "text = 'knhqdtciq'\n",
    "encoded = text.encode('utf-8')\n",
    "hash_val = hashlib.sha1(encoded).hexdigest()\n",
    "print('sha1 hash:', hash_val)"
   ]
  },
  {
   "cell_type": "code",
   "execution_count": null,
   "metadata": {},
   "outputs": [],
   "source": [
    "text = 'lwbiz'\n",
    "encoded = text.encode('utf-8')\n",
    "hash_val = hashlib.sha512(encoded).hexdigest()\n",
    "print('sha512 hash:', hash_val)"
   ]
  },
  {
   "cell_type": "code",
   "execution_count": null,
   "metadata": {},
   "outputs": [],
   "source": [
    "text = 'jtpkwwit'\n",
    "encoded = text.encode('utf-8')\n",
    "hash_val = hashlib.md5(encoded).hexdigest()\n",
    "print('md5 hash:', hash_val)"
   ]
  },
  {
   "cell_type": "code",
   "execution_count": null,
   "metadata": {},
   "outputs": [],
   "source": [
    "text = 'wxrzbxpm'\n",
    "encoded = text.encode('utf-8')\n",
    "hash_val = hashlib.sha256(encoded).hexdigest()\n",
    "print('sha256 hash:', hash_val)"
   ]
  },
  {
   "cell_type": "code",
   "execution_count": null,
   "metadata": {},
   "outputs": [],
   "source": [
    "text = 'clmmbdcyx'\n",
    "encoded = text.encode('utf-8')\n",
    "hash_val = hashlib.sha256(encoded).hexdigest()\n",
    "print('sha256 hash:', hash_val)"
   ]
  },
  {
   "cell_type": "code",
   "execution_count": null,
   "metadata": {},
   "outputs": [],
   "source": [
    "text = 'ickdr'\n",
    "encoded = text.encode('utf-8')\n",
    "hash_val = hashlib.sha256(encoded).hexdigest()\n",
    "print('sha256 hash:', hash_val)"
   ]
  },
  {
   "cell_type": "code",
   "execution_count": null,
   "metadata": {},
   "outputs": [],
   "source": [
    "text = 'zcasemprzt'\n",
    "encoded = text.encode('utf-8')\n",
    "hash_val = hashlib.sha1(encoded).hexdigest()\n",
    "print('sha1 hash:', hash_val)"
   ]
  },
  {
   "cell_type": "code",
   "execution_count": null,
   "metadata": {},
   "outputs": [],
   "source": [
    "text = 'swfohnmq'\n",
    "encoded = text.encode('utf-8')\n",
    "hash_val = hashlib.sha1(encoded).hexdigest()\n",
    "print('sha1 hash:', hash_val)"
   ]
  },
  {
   "cell_type": "code",
   "execution_count": null,
   "metadata": {},
   "outputs": [],
   "source": [
    "text = 'mfeihfzzt'\n",
    "encoded = text.encode('utf-8')\n",
    "hash_val = hashlib.md5(encoded).hexdigest()\n",
    "print('md5 hash:', hash_val)"
   ]
  },
  {
   "cell_type": "code",
   "execution_count": null,
   "metadata": {},
   "outputs": [],
   "source": [
    "text = 'sffgdreur'\n",
    "encoded = text.encode('utf-8')\n",
    "hash_val = hashlib.md5(encoded).hexdigest()\n",
    "print('md5 hash:', hash_val)"
   ]
  },
  {
   "cell_type": "code",
   "execution_count": null,
   "metadata": {},
   "outputs": [],
   "source": [
    "text = 'oqutbdahdi'\n",
    "encoded = text.encode('utf-8')\n",
    "hash_val = hashlib.md5(encoded).hexdigest()\n",
    "print('md5 hash:', hash_val)"
   ]
  },
  {
   "cell_type": "code",
   "execution_count": null,
   "metadata": {},
   "outputs": [],
   "source": [
    "text = 'puwhwttcuh'\n",
    "encoded = text.encode('utf-8')\n",
    "hash_val = hashlib.sha256(encoded).hexdigest()\n",
    "print('sha256 hash:', hash_val)"
   ]
  },
  {
   "cell_type": "code",
   "execution_count": null,
   "metadata": {},
   "outputs": [],
   "source": [
    "text = 'sfsyot'\n",
    "encoded = text.encode('utf-8')\n",
    "hash_val = hashlib.sha1(encoded).hexdigest()\n",
    "print('sha1 hash:', hash_val)"
   ]
  },
  {
   "cell_type": "code",
   "execution_count": null,
   "metadata": {},
   "outputs": [],
   "source": [
    "text = 'gwzpvqb'\n",
    "encoded = text.encode('utf-8')\n",
    "hash_val = hashlib.md5(encoded).hexdigest()\n",
    "print('md5 hash:', hash_val)"
   ]
  },
  {
   "cell_type": "code",
   "execution_count": null,
   "metadata": {},
   "outputs": [],
   "source": [
    "text = 'hpxnmj'\n",
    "encoded = text.encode('utf-8')\n",
    "hash_val = hashlib.md5(encoded).hexdigest()\n",
    "print('md5 hash:', hash_val)"
   ]
  },
  {
   "cell_type": "code",
   "execution_count": null,
   "metadata": {},
   "outputs": [],
   "source": [
    "text = 'anjvyle'\n",
    "encoded = text.encode('utf-8')\n",
    "hash_val = hashlib.md5(encoded).hexdigest()\n",
    "print('md5 hash:', hash_val)"
   ]
  },
  {
   "cell_type": "code",
   "execution_count": null,
   "metadata": {},
   "outputs": [],
   "source": [
    "text = 'dhdkqqaj'\n",
    "encoded = text.encode('utf-8')\n",
    "hash_val = hashlib.sha256(encoded).hexdigest()\n",
    "print('sha256 hash:', hash_val)"
   ]
  },
  {
   "cell_type": "code",
   "execution_count": null,
   "metadata": {},
   "outputs": [],
   "source": [
    "text = 'nyvkptlc'\n",
    "encoded = text.encode('utf-8')\n",
    "hash_val = hashlib.sha256(encoded).hexdigest()\n",
    "print('sha256 hash:', hash_val)"
   ]
  },
  {
   "cell_type": "code",
   "execution_count": null,
   "metadata": {},
   "outputs": [],
   "source": [
    "text = 'ohebw'\n",
    "encoded = text.encode('utf-8')\n",
    "hash_val = hashlib.sha256(encoded).hexdigest()\n",
    "print('sha256 hash:', hash_val)"
   ]
  },
  {
   "cell_type": "code",
   "execution_count": null,
   "metadata": {},
   "outputs": [],
   "source": [
    "text = 'nfese'\n",
    "encoded = text.encode('utf-8')\n",
    "hash_val = hashlib.sha1(encoded).hexdigest()\n",
    "print('sha1 hash:', hash_val)"
   ]
  },
  {
   "cell_type": "code",
   "execution_count": null,
   "metadata": {},
   "outputs": [],
   "source": [
    "text = 'joutyejsxo'\n",
    "encoded = text.encode('utf-8')\n",
    "hash_val = hashlib.md5(encoded).hexdigest()\n",
    "print('md5 hash:', hash_val)"
   ]
  },
  {
   "cell_type": "code",
   "execution_count": null,
   "metadata": {},
   "outputs": [],
   "source": [
    "text = 'netffmpnju'\n",
    "encoded = text.encode('utf-8')\n",
    "hash_val = hashlib.sha512(encoded).hexdigest()\n",
    "print('sha512 hash:', hash_val)"
   ]
  },
  {
   "cell_type": "code",
   "execution_count": 2,
   "metadata": {},
   "outputs": [
    {
     "ename": "NameError",
     "evalue": "name 'hashlib' is not defined",
     "output_type": "error",
     "traceback": [
      "\u001b[31m---------------------------------------------------------------------------\u001b[39m",
      "\u001b[31mNameError\u001b[39m                                 Traceback (most recent call last)",
      "\u001b[36mCell\u001b[39m\u001b[36m \u001b[39m\u001b[32mIn[2]\u001b[39m\u001b[32m, line 3\u001b[39m\n\u001b[32m      1\u001b[39m text = \u001b[33m'\u001b[39m\u001b[33mtnfxepciu\u001b[39m\u001b[33m'\u001b[39m\n\u001b[32m      2\u001b[39m encoded = text.encode(\u001b[33m'\u001b[39m\u001b[33mutf-8\u001b[39m\u001b[33m'\u001b[39m)\n\u001b[32m----> \u001b[39m\u001b[32m3\u001b[39m hash_val = \u001b[43mhashlib\u001b[49m.md5(encoded).hexdigest()\n\u001b[32m      4\u001b[39m \u001b[38;5;28mprint\u001b[39m(\u001b[33m'\u001b[39m\u001b[33mmd5 hash:\u001b[39m\u001b[33m'\u001b[39m, hash_val)\n",
      "\u001b[31mNameError\u001b[39m: name 'hashlib' is not defined"
     ]
    }
   ],
   "source": [
    "text = 'tnfxepciu'\n",
    "encoded = text.encode('utf-8')\n",
    "hash_val = hashlib.md5(encoded).hexdigest()\n",
    "print('md5 hash:', hash_val)"
   ]
  },
  {
   "cell_type": "code",
   "execution_count": null,
   "metadata": {},
   "outputs": [],
   "source": [
    "text = 'ypkfvnir'\n",
    "encoded = text.encode('utf-8')\n",
    "hash_val = hashlib.sha256(encoded).hexdigest()\n",
    "print('sha256 hash:', hash_val)"
   ]
  },
  {
   "cell_type": "code",
   "execution_count": null,
   "metadata": {},
   "outputs": [],
   "source": [
    "text = 'acjtj'\n",
    "encoded = text.encode('utf-8')\n",
    "hash_val = hashlib.sha512(encoded).hexdigest()\n",
    "print('sha512 hash:', hash_val)"
   ]
  },
  {
   "cell_type": "code",
   "execution_count": null,
   "metadata": {},
   "outputs": [],
   "source": [
    "text = 'qfava'\n",
    "encoded = text.encode('utf-8')\n",
    "hash_val = hashlib.sha1(encoded).hexdigest()\n",
    "print('sha1 hash:', hash_val)"
   ]
  },
  {
   "cell_type": "code",
   "execution_count": null,
   "metadata": {},
   "outputs": [],
   "source": [
    "text = 'pdvpclm'\n",
    "encoded = text.encode('utf-8')\n",
    "hash_val = hashlib.sha1(encoded).hexdigest()\n",
    "print('sha1 hash:', hash_val)"
   ]
  },
  {
   "cell_type": "code",
   "execution_count": null,
   "metadata": {},
   "outputs": [],
   "source": [
    "text = 'dubet'\n",
    "encoded = text.encode('utf-8')\n",
    "hash_val = hashlib.sha256(encoded).hexdigest()\n",
    "print('sha256 hash:', hash_val)"
   ]
  },
  {
   "cell_type": "code",
   "execution_count": null,
   "metadata": {},
   "outputs": [],
   "source": [
    "text = 'nvedb'\n",
    "encoded = text.encode('utf-8')\n",
    "hash_val = hashlib.md5(encoded).hexdigest()\n",
    "print('md5 hash:', hash_val)"
   ]
  },
  {
   "cell_type": "code",
   "execution_count": null,
   "metadata": {},
   "outputs": [],
   "source": [
    "text = 'tgjtztpucc'\n",
    "encoded = text.encode('utf-8')\n",
    "hash_val = hashlib.sha512(encoded).hexdigest()\n",
    "print('sha512 hash:', hash_val)"
   ]
  },
  {
   "cell_type": "code",
   "execution_count": null,
   "metadata": {},
   "outputs": [],
   "source": [
    "text = 'tofjno'\n",
    "encoded = text.encode('utf-8')\n",
    "hash_val = hashlib.sha256(encoded).hexdigest()\n",
    "print('sha256 hash:', hash_val)"
   ]
  },
  {
   "cell_type": "code",
   "execution_count": null,
   "metadata": {},
   "outputs": [],
   "source": [
    "text = 'alduebjgmf'\n",
    "encoded = text.encode('utf-8')\n",
    "hash_val = hashlib.sha1(encoded).hexdigest()\n",
    "print('sha1 hash:', hash_val)"
   ]
  },
  {
   "cell_type": "code",
   "execution_count": null,
   "metadata": {},
   "outputs": [],
   "source": [
    "text = 'fferyvlz'\n",
    "encoded = text.encode('utf-8')\n",
    "hash_val = hashlib.md5(encoded).hexdigest()\n",
    "print('md5 hash:', hash_val)"
   ]
  },
  {
   "cell_type": "code",
   "execution_count": null,
   "metadata": {},
   "outputs": [],
   "source": [
    "text = 'vibtztf'\n",
    "encoded = text.encode('utf-8')\n",
    "hash_val = hashlib.sha256(encoded).hexdigest()\n",
    "print('sha256 hash:', hash_val)"
   ]
  },
  {
   "cell_type": "code",
   "execution_count": null,
   "metadata": {},
   "outputs": [],
   "source": [
    "text = 'jaljblse'\n",
    "encoded = text.encode('utf-8')\n",
    "hash_val = hashlib.sha512(encoded).hexdigest()\n",
    "print('sha512 hash:', hash_val)"
   ]
  },
  {
   "cell_type": "code",
   "execution_count": null,
   "metadata": {},
   "outputs": [],
   "source": [
    "text = 'euono'\n",
    "encoded = text.encode('utf-8')\n",
    "hash_val = hashlib.sha256(encoded).hexdigest()\n",
    "print('sha256 hash:', hash_val)"
   ]
  },
  {
   "cell_type": "code",
   "execution_count": null,
   "metadata": {},
   "outputs": [],
   "source": [
    "text = 'onbfuzppuq'\n",
    "encoded = text.encode('utf-8')\n",
    "hash_val = hashlib.md5(encoded).hexdigest()\n",
    "print('md5 hash:', hash_val)"
   ]
  },
  {
   "cell_type": "code",
   "execution_count": null,
   "metadata": {},
   "outputs": [],
   "source": [
    "text = 'iijmabo'\n",
    "encoded = text.encode('utf-8')\n",
    "hash_val = hashlib.sha512(encoded).hexdigest()\n",
    "print('sha512 hash:', hash_val)"
   ]
  },
  {
   "cell_type": "code",
   "execution_count": null,
   "metadata": {},
   "outputs": [],
   "source": [
    "text = 'gwfgxcf'\n",
    "encoded = text.encode('utf-8')\n",
    "hash_val = hashlib.sha256(encoded).hexdigest()\n",
    "print('sha256 hash:', hash_val)"
   ]
  },
  {
   "cell_type": "code",
   "execution_count": null,
   "metadata": {},
   "outputs": [],
   "source": [
    "text = 'yzqvjaox'\n",
    "encoded = text.encode('utf-8')\n",
    "hash_val = hashlib.sha512(encoded).hexdigest()\n",
    "print('sha512 hash:', hash_val)"
   ]
  },
  {
   "cell_type": "code",
   "execution_count": null,
   "metadata": {},
   "outputs": [],
   "source": [
    "text = 'lwcly'\n",
    "encoded = text.encode('utf-8')\n",
    "hash_val = hashlib.md5(encoded).hexdigest()\n",
    "print('md5 hash:', hash_val)"
   ]
  },
  {
   "cell_type": "code",
   "execution_count": null,
   "metadata": {},
   "outputs": [],
   "source": [
    "text = 'kovdjona'\n",
    "encoded = text.encode('utf-8')\n",
    "hash_val = hashlib.sha256(encoded).hexdigest()\n",
    "print('sha256 hash:', hash_val)"
   ]
  },
  {
   "cell_type": "code",
   "execution_count": null,
   "metadata": {},
   "outputs": [],
   "source": [
    "text = 'xescatydj'\n",
    "encoded = text.encode('utf-8')\n",
    "hash_val = hashlib.sha512(encoded).hexdigest()\n",
    "print('sha512 hash:', hash_val)"
   ]
  },
  {
   "cell_type": "code",
   "execution_count": null,
   "metadata": {},
   "outputs": [],
   "source": [
    "text = 'pcarpdiklh'\n",
    "encoded = text.encode('utf-8')\n",
    "hash_val = hashlib.sha512(encoded).hexdigest()\n",
    "print('sha512 hash:', hash_val)"
   ]
  },
  {
   "cell_type": "code",
   "execution_count": null,
   "metadata": {},
   "outputs": [],
   "source": [
    "text = 'fsdygf'\n",
    "encoded = text.encode('utf-8')\n",
    "hash_val = hashlib.sha512(encoded).hexdigest()\n",
    "print('sha512 hash:', hash_val)"
   ]
  },
  {
   "cell_type": "code",
   "execution_count": null,
   "metadata": {},
   "outputs": [],
   "source": [
    "text = 'mzyyinklz'\n",
    "encoded = text.encode('utf-8')\n",
    "hash_val = hashlib.sha1(encoded).hexdigest()\n",
    "print('sha1 hash:', hash_val)"
   ]
  },
  {
   "cell_type": "code",
   "execution_count": null,
   "metadata": {},
   "outputs": [],
   "source": [
    "text = 'fbkcxgac'\n",
    "encoded = text.encode('utf-8')\n",
    "hash_val = hashlib.sha1(encoded).hexdigest()\n",
    "print('sha1 hash:', hash_val)"
   ]
  },
  {
   "cell_type": "code",
   "execution_count": null,
   "metadata": {},
   "outputs": [],
   "source": [
    "text = 'bztbmfkfd'\n",
    "encoded = text.encode('utf-8')\n",
    "hash_val = hashlib.md5(encoded).hexdigest()\n",
    "print('md5 hash:', hash_val)"
   ]
  },
  {
   "cell_type": "code",
   "execution_count": null,
   "metadata": {},
   "outputs": [],
   "source": [
    "text = 'tistkzb'\n",
    "encoded = text.encode('utf-8')\n",
    "hash_val = hashlib.md5(encoded).hexdigest()\n",
    "print('md5 hash:', hash_val)"
   ]
  },
  {
   "cell_type": "code",
   "execution_count": null,
   "metadata": {},
   "outputs": [],
   "source": [
    "text = 'ymjrgbnqdk'\n",
    "encoded = text.encode('utf-8')\n",
    "hash_val = hashlib.sha256(encoded).hexdigest()\n",
    "print('sha256 hash:', hash_val)"
   ]
  },
  {
   "cell_type": "code",
   "execution_count": null,
   "metadata": {},
   "outputs": [],
   "source": [
    "text = 'kuwhhyub'\n",
    "encoded = text.encode('utf-8')\n",
    "hash_val = hashlib.sha512(encoded).hexdigest()\n",
    "print('sha512 hash:', hash_val)"
   ]
  },
  {
   "cell_type": "code",
   "execution_count": null,
   "metadata": {},
   "outputs": [],
   "source": [
    "text = 'ofpbcprd'\n",
    "encoded = text.encode('utf-8')\n",
    "hash_val = hashlib.sha512(encoded).hexdigest()\n",
    "print('sha512 hash:', hash_val)"
   ]
  },
  {
   "cell_type": "code",
   "execution_count": null,
   "metadata": {},
   "outputs": [],
   "source": [
    "text = 'cmhfbzpl'\n",
    "encoded = text.encode('utf-8')\n",
    "hash_val = hashlib.md5(encoded).hexdigest()\n",
    "print('md5 hash:', hash_val)"
   ]
  },
  {
   "cell_type": "code",
   "execution_count": null,
   "metadata": {},
   "outputs": [],
   "source": [
    "text = 'qyvuxodk'\n",
    "encoded = text.encode('utf-8')\n",
    "hash_val = hashlib.md5(encoded).hexdigest()\n",
    "print('md5 hash:', hash_val)"
   ]
  },
  {
   "cell_type": "code",
   "execution_count": null,
   "metadata": {},
   "outputs": [],
   "source": [
    "text = 'dggopz'\n",
    "encoded = text.encode('utf-8')\n",
    "hash_val = hashlib.md5(encoded).hexdigest()\n",
    "print('md5 hash:', hash_val)"
   ]
  },
  {
   "cell_type": "code",
   "execution_count": null,
   "metadata": {},
   "outputs": [],
   "source": [
    "text = 'gweaphezs'\n",
    "encoded = text.encode('utf-8')\n",
    "hash_val = hashlib.sha1(encoded).hexdigest()\n",
    "print('sha1 hash:', hash_val)"
   ]
  },
  {
   "cell_type": "code",
   "execution_count": null,
   "metadata": {},
   "outputs": [],
   "source": [
    "text = 'mpshbhu'\n",
    "encoded = text.encode('utf-8')\n",
    "hash_val = hashlib.sha256(encoded).hexdigest()\n",
    "print('sha256 hash:', hash_val)"
   ]
  },
  {
   "cell_type": "code",
   "execution_count": null,
   "metadata": {},
   "outputs": [],
   "source": [
    "text = 'zkiwinj'\n",
    "encoded = text.encode('utf-8')\n",
    "hash_val = hashlib.sha512(encoded).hexdigest()\n",
    "print('sha512 hash:', hash_val)"
   ]
  },
  {
   "cell_type": "code",
   "execution_count": null,
   "metadata": {},
   "outputs": [],
   "source": [
    "text = 'mqohwqwa'\n",
    "encoded = text.encode('utf-8')\n",
    "hash_val = hashlib.md5(encoded).hexdigest()\n",
    "print('md5 hash:', hash_val)"
   ]
  },
  {
   "cell_type": "code",
   "execution_count": null,
   "metadata": {},
   "outputs": [],
   "source": [
    "text = 'lfydpivz'\n",
    "encoded = text.encode('utf-8')\n",
    "hash_val = hashlib.sha256(encoded).hexdigest()\n",
    "print('sha256 hash:', hash_val)"
   ]
  },
  {
   "cell_type": "code",
   "execution_count": null,
   "metadata": {},
   "outputs": [],
   "source": [
    "text = 'odngewosn'\n",
    "encoded = text.encode('utf-8')\n",
    "hash_val = hashlib.md5(encoded).hexdigest()\n",
    "print('md5 hash:', hash_val)"
   ]
  },
  {
   "cell_type": "code",
   "execution_count": null,
   "metadata": {},
   "outputs": [],
   "source": [
    "text = 'ksbawybml'\n",
    "encoded = text.encode('utf-8')\n",
    "hash_val = hashlib.sha256(encoded).hexdigest()\n",
    "print('sha256 hash:', hash_val)"
   ]
  },
  {
   "cell_type": "code",
   "execution_count": null,
   "metadata": {},
   "outputs": [],
   "source": [
    "text = 'gnangsflv'\n",
    "encoded = text.encode('utf-8')\n",
    "hash_val = hashlib.sha256(encoded).hexdigest()\n",
    "print('sha256 hash:', hash_val)"
   ]
  },
  {
   "cell_type": "code",
   "execution_count": null,
   "metadata": {},
   "outputs": [],
   "source": [
    "text = 'mbbizelmfo'\n",
    "encoded = text.encode('utf-8')\n",
    "hash_val = hashlib.sha256(encoded).hexdigest()\n",
    "print('sha256 hash:', hash_val)"
   ]
  },
  {
   "cell_type": "code",
   "execution_count": null,
   "metadata": {},
   "outputs": [],
   "source": [
    "text = 'cyhappiajp'\n",
    "encoded = text.encode('utf-8')\n",
    "hash_val = hashlib.md5(encoded).hexdigest()\n",
    "print('md5 hash:', hash_val)"
   ]
  },
  {
   "cell_type": "code",
   "execution_count": null,
   "metadata": {},
   "outputs": [],
   "source": [
    "text = 'zryrncrv'\n",
    "encoded = text.encode('utf-8')\n",
    "hash_val = hashlib.sha1(encoded).hexdigest()\n",
    "print('sha1 hash:', hash_val)"
   ]
  },
  {
   "cell_type": "code",
   "execution_count": null,
   "metadata": {},
   "outputs": [],
   "source": [
    "text = 'qhsszv'\n",
    "encoded = text.encode('utf-8')\n",
    "hash_val = hashlib.sha1(encoded).hexdigest()\n",
    "print('sha1 hash:', hash_val)"
   ]
  },
  {
   "cell_type": "code",
   "execution_count": null,
   "metadata": {},
   "outputs": [],
   "source": [
    "text = 'ceqervr'\n",
    "encoded = text.encode('utf-8')\n",
    "hash_val = hashlib.sha512(encoded).hexdigest()\n",
    "print('sha512 hash:', hash_val)"
   ]
  },
  {
   "cell_type": "code",
   "execution_count": null,
   "metadata": {},
   "outputs": [],
   "source": [
    "text = 'yjwwfbnjg'\n",
    "encoded = text.encode('utf-8')\n",
    "hash_val = hashlib.sha512(encoded).hexdigest()\n",
    "print('sha512 hash:', hash_val)"
   ]
  },
  {
   "cell_type": "code",
   "execution_count": null,
   "metadata": {},
   "outputs": [],
   "source": [
    "text = 'tqlpkhf'\n",
    "encoded = text.encode('utf-8')\n",
    "hash_val = hashlib.sha512(encoded).hexdigest()\n",
    "print('sha512 hash:', hash_val)"
   ]
  },
  {
   "cell_type": "code",
   "execution_count": null,
   "metadata": {},
   "outputs": [],
   "source": [
    "text = 'zdydxdnuq'\n",
    "encoded = text.encode('utf-8')\n",
    "hash_val = hashlib.sha512(encoded).hexdigest()\n",
    "print('sha512 hash:', hash_val)"
   ]
  },
  {
   "cell_type": "code",
   "execution_count": null,
   "metadata": {},
   "outputs": [],
   "source": [
    "text = 'trqho'\n",
    "encoded = text.encode('utf-8')\n",
    "hash_val = hashlib.md5(encoded).hexdigest()\n",
    "print('md5 hash:', hash_val)"
   ]
  },
  {
   "cell_type": "code",
   "execution_count": null,
   "metadata": {},
   "outputs": [],
   "source": [
    "text = 'jmkoweuob'\n",
    "encoded = text.encode('utf-8')\n",
    "hash_val = hashlib.sha512(encoded).hexdigest()\n",
    "print('sha512 hash:', hash_val)"
   ]
  },
  {
   "cell_type": "code",
   "execution_count": null,
   "metadata": {},
   "outputs": [],
   "source": [
    "text = 'ntfcdhfqy'\n",
    "encoded = text.encode('utf-8')\n",
    "hash_val = hashlib.sha1(encoded).hexdigest()\n",
    "print('sha1 hash:', hash_val)"
   ]
  },
  {
   "cell_type": "code",
   "execution_count": null,
   "metadata": {},
   "outputs": [],
   "source": [
    "text = 'sohlyyk'\n",
    "encoded = text.encode('utf-8')\n",
    "hash_val = hashlib.sha256(encoded).hexdigest()\n",
    "print('sha256 hash:', hash_val)"
   ]
  },
  {
   "cell_type": "code",
   "execution_count": null,
   "metadata": {},
   "outputs": [],
   "source": [
    "text = 'jbrodvqv'\n",
    "encoded = text.encode('utf-8')\n",
    "hash_val = hashlib.md5(encoded).hexdigest()\n",
    "print('md5 hash:', hash_val)"
   ]
  }
 ],
 "metadata": {
  "kernelspec": {
   "display_name": "Python 3 (ipykernel)",
   "language": "python",
   "name": "python3"
  },
  "language_info": {
   "codemirror_mode": {
    "name": "ipython",
    "version": 3
   },
   "file_extension": ".py",
   "mimetype": "text/x-python",
   "name": "python",
   "nbconvert_exporter": "python",
   "pygments_lexer": "ipython3",
   "version": "3.12.11"
  }
 },
 "nbformat": 4,
 "nbformat_minor": 4
}
