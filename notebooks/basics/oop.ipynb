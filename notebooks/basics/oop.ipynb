{
 "cells": [
  {
   "cell_type": "code",
   "execution_count": null,
   "id": "acce0a9c-f6d1-4e02-bea0-826d1a5fc685",
   "metadata": {},
   "outputs": [],
   "source": [
    "class Person:\n",
    "    pass\n"
   ]
  },
  {
   "cell_type": "code",
   "execution_count": null,
   "id": "d6ec79c6-d8ba-4e68-9f2d-1d65d99d3b98",
   "metadata": {},
   "outputs": [],
   "source": [
    "p1 = Person()\n",
    "print(type(p1))\n"
   ]
  },
  {
   "cell_type": "code",
   "execution_count": null,
   "id": "ad0a3a6a-c690-479b-8b1a-6d99940e2364",
   "metadata": {},
   "outputs": [],
   "source": [
    "class Student:\n",
    "    def __init__(self, name, age):\n",
    "        self.name = name\n",
    "        self.age = age\n",
    "    "
   ]
  },
  {
   "cell_type": "code",
   "execution_count": null,
   "id": "3bd23394-556d-471f-b458-2d4b776c8c86",
   "metadata": {},
   "outputs": [],
   "source": [
    "s1 = Student(\"Sara\", 20)\n",
    "print(s1.name, s1.age)\n"
   ]
  },
  {
   "cell_type": "code",
   "execution_count": null,
   "id": "90959862-77bd-4722-96c0-80bd553b53e8",
   "metadata": {},
   "outputs": [],
   "source": [
    "class Dog:\n",
    "    def __init__(self, breed):\n",
    "        self.breed = breed\n",
    "\n",
    "    def bark(self):\n",
    "        print(\"Woof! I am a\", self.breed)\n"
   ]
  },
  {
   "cell_type": "code",
   "execution_count": null,
   "id": "96bde4c0-f932-460e-b16c-9bed86b2ffb8",
   "metadata": {},
   "outputs": [],
   "source": [
    "d = Dog(\"Labrador\")\n",
    "d.bark()\n"
   ]
  },
  {
   "cell_type": "code",
   "execution_count": null,
   "id": "13aa60bb-2240-4740-8447-8d74680573ea",
   "metadata": {},
   "outputs": [],
   "source": [
    "class Book:\n",
    "    def __init__(self, title):\n",
    "        self.title = title\n",
    "\n",
    "    def __str__(self):\n",
    "        return f\"Book: {self.title}\"\n"
   ]
  },
  {
   "cell_type": "code",
   "execution_count": null,
   "id": "e60bade8-e698-411b-9177-e117e2019a03",
   "metadata": {},
   "outputs": [],
   "source": [
    "b = Book(\"Harry Potter\")\n",
    "print(b)\n"
   ]
  },
  {
   "cell_type": "code",
   "execution_count": null,
   "id": "ab1c42ee-5a41-4998-86c3-34320c87e2e0",
   "metadata": {},
   "outputs": [],
   "source": [
    "class Animal:\n",
    "    def __init__(self, name):\n",
    "        self.name = name\n",
    "\n",
    "    def speak(self):\n",
    "        print(\"I am an animal.\")\n"
   ]
  },
  {
   "cell_type": "code",
   "execution_count": null,
   "id": "910352e8-5ee8-4c7e-823b-5357f5b623df",
   "metadata": {},
   "outputs": [],
   "source": [
    "class Cat(Animal):\n",
    "    def speak(self):\n",
    "        print(f\"{self.name} says Meow!\")\n"
   ]
  },
  {
   "cell_type": "code",
   "execution_count": null,
   "id": "35e9ac89-8672-493f-be63-fb8e5500d78b",
   "metadata": {},
   "outputs": [],
   "source": [
    "c = Cat(\"Luna\")\n",
    "c.speak()\n"
   ]
  },
  {
   "cell_type": "code",
   "execution_count": null,
   "id": "2ee33412-acc5-4b6d-9549-1d3269b184d4",
   "metadata": {},
   "outputs": [],
   "source": [
    "class Parent:\n",
    "    def __init__(self):\n",
    "        print(\"Parent init\")"
   ]
  },
  {
   "cell_type": "code",
   "execution_count": null,
   "id": "d1ab8305-24f4-474d-a30b-cb55eea034f1",
   "metadata": {},
   "outputs": [],
   "source": [
    "\n",
    "class Child(Parent):\n",
    "    def __init__(self):\n",
    "        super().__init__()\n",
    "        print(\"Child init\")"
   ]
  },
  {
   "cell_type": "code",
   "execution_count": null,
   "id": "7c1a25b2-f4f0-4cbb-a321-73751fafe665",
   "metadata": {},
   "outputs": [],
   "source": [
    "c = Child()"
   ]
  },
  {
   "cell_type": "code",
   "execution_count": null,
   "id": "e9fa0387-f571-4729-8c88-6e3de6a78c4d",
   "metadata": {},
   "outputs": [],
   "source": [
    "class Account:\n",
    "    def __init__(self, balance):\n",
    "        self.__balance = balance  # private\n",
    "\n",
    "    def show_balance(self):\n",
    "        print(\"Balance:\", self.__balance)\n"
   ]
  },
  {
   "cell_type": "code",
   "execution_count": null,
   "id": "9f4be86f-584f-43db-8afd-2b2cfeb09f7b",
   "metadata": {},
   "outputs": [],
   "source": [
    "acc = Account(1000)\n",
    "acc.show_balance()\n"
   ]
  },
  {
   "cell_type": "code",
   "execution_count": null,
   "id": "8853fce8-3d8a-4181-96d8-ab815360759c",
   "metadata": {},
   "outputs": [],
   "source": [
    "class BankAccount:\n",
    "    def __init__(self, name, balance):\n",
    "        self.name = name\n",
    "        self.__balance = balance\n",
    "\n",
    "    def deposit(self, amount):\n",
    "        self.__balance += amount\n",
    "\n",
    "    def withdraw(self, amount):\n",
    "        if amount <= self.__balance:\n",
    "            self.__balance -= amount\n",
    "        else:\n",
    "            print(\"Insufficient funds\")\n",
    "\n",
    "    def show(self):\n",
    "        print(f\"{self.name} has ₹{self.__balance}\")\n"
   ]
  },
  {
   "cell_type": "code",
   "execution_count": null,
   "id": "90409cd8-b015-4baa-a84b-87e6d7643689",
   "metadata": {},
   "outputs": [],
   "source": [
    "user1 = BankAccount(\"Sara\", 5000)\n",
    "user1.show()\n"
   ]
  },
  {
   "cell_type": "code",
   "execution_count": null,
   "id": "ce39c235-4861-4750-b2df-c63c5c623d5c",
   "metadata": {},
   "outputs": [],
   "source": [
    "user1.deposit(2000)\n",
    "user1.show()\n"
   ]
  },
  {
   "cell_type": "code",
   "execution_count": null,
   "id": "a8ef7b71-ba3f-4ccd-9324-f4a0188c37e6",
   "metadata": {},
   "outputs": [],
   "source": [
    "user1.withdraw(3000)\n",
    "user1.show()\n"
   ]
  },
  {
   "cell_type": "code",
   "execution_count": null,
   "id": "281ccef5-d713-4fa5-bad8-ccef9bb83d6e",
   "metadata": {},
   "outputs": [],
   "source": [
    "class MathOps:\n",
    "    @staticmethod\n",
    "    def add(a, b):\n",
    "        return a + b\n"
   ]
  },
  {
   "cell_type": "code",
   "execution_count": null,
   "id": "d440adcb-db03-4fec-940e-cd2a299151b0",
   "metadata": {},
   "outputs": [],
   "source": [
    "print(MathOps.add(5, 7))\n"
   ]
  },
  {
   "cell_type": "code",
   "execution_count": null,
   "id": "ab6d32fe-45a0-405a-9256-9326f530b07b",
   "metadata": {},
   "outputs": [],
   "source": [
    "class Student:\n",
    "    school = \"CodeHigh\"\n",
    "\n",
    "    @classmethod\n",
    "    def get_school(cls):\n",
    "        return cls.school\n"
   ]
  },
  {
   "cell_type": "code",
   "execution_count": null,
   "id": "d8edd2f4-5a6e-44ad-968f-92abc10c8c5b",
   "metadata": {},
   "outputs": [],
   "source": [
    "print(Student.get_school())\n"
   ]
  },
  {
   "cell_type": "code",
   "execution_count": null,
   "id": "8979e7d2-aa08-4592-ab21-64d61c6e0618",
   "metadata": {},
   "outputs": [],
   "source": [
    "class Calculator:\n",
    "    def add(self, a: int, b: int) -> int:\n",
    "        \"\"\"Returns the sum of two numbers.\"\"\"\n",
    "        return a + b\n"
   ]
  },
  {
   "cell_type": "code",
   "execution_count": null,
   "id": "1c91bcd2-d0a4-4379-a3e8-3256ea1dd60d",
   "metadata": {},
   "outputs": [],
   "source": [
    "calc = Calculator()\n",
    "print(calc.add(2, 3))\n"
   ]
  },
  {
   "cell_type": "code",
   "execution_count": null,
   "id": "d943dc13-d48a-4377-80c2-d74380c2a758",
   "metadata": {},
   "outputs": [],
   "source": [
    "class Vehicle:\n",
    "    def __init__(self, name):\n",
    "        self.name = name\n",
    "\n",
    "    def drive(self):\n",
    "        print(f\"{self.name} is driving.\")\n"
   ]
  },
  {
   "cell_type": "code",
   "execution_count": null,
   "id": "d7e3d33e-c8dc-4b68-b3eb-3ace69d0b728",
   "metadata": {},
   "outputs": [],
   "source": [
    "class Car(Vehicle):\n",
    "    def drive(self):\n",
    "        print(f\"{self.name} (car) is zooming!\")\n"
   ]
  },
  {
   "cell_type": "code",
   "execution_count": null,
   "id": "ffd57009-d178-4f90-9f9a-6f14afe8f39e",
   "metadata": {},
   "outputs": [],
   "source": [
    "class Bike(Vehicle):\n",
    "    def drive(self):\n",
    "        print(f\"{self.name} (bike) is vrooming!\")\n"
   ]
  },
  {
   "cell_type": "code",
   "execution_count": null,
   "id": "03d0ebe8-e5cd-4768-8b45-a0d6d84eec80",
   "metadata": {},
   "outputs": [],
   "source": [
    "v = Vehicle(\"Generic\")\n",
    "v.drive()\n",
    "\n",
    "c = Car(\"Suzuki\")\n",
    "c.drive()\n",
    "\n",
    "b = Bike(\"Yamaha\")\n",
    "b.drive()\n"
   ]
  },
  {
   "cell_type": "code",
   "execution_count": null,
   "id": "b7e8e7d5-740e-4dd9-a37e-b5ea6d88bb5a",
   "metadata": {},
   "outputs": [],
   "source": [
    "class Student:\n",
    "    def __init__(self, name):\n",
    "        self.__name = name\n",
    "\n",
    "    def get_name(self):\n",
    "        return self.__name\n",
    "\n",
    "    def set_name(self, new_name):\n",
    "        self.__name = new_name\n"
   ]
  },
  {
   "cell_type": "code",
   "execution_count": null,
   "id": "fedb881c-7cf3-4acf-b7e0-83486e39c7bf",
   "metadata": {},
   "outputs": [],
   "source": [
    "s = Student(\"Sara\")\n",
    "print(s.get_name())\n",
    "s.set_name(\"Queen Sara\")\n",
    "print(s.get_name())\n"
   ]
  },
  {
   "cell_type": "code",
   "execution_count": null,
   "id": "a764d5e9-f545-480c-83c7-0ed7cfd938fe",
   "metadata": {},
   "outputs": [],
   "source": [
    "class Book:\n",
    "    def __init__(self, title):\n",
    "        self.title = title\n",
    "        self.available = True\n"
   ]
  },
  {
   "cell_type": "code",
   "execution_count": null,
   "id": "7dcd3e3e-75c3-4bd2-87ae-2431aff05153",
   "metadata": {},
   "outputs": [],
   "source": [
    "class Library:\n",
    "    def __init__(self):\n",
    "        self.books = []\n",
    "\n",
    "    def add_book(self, book):\n",
    "        self.books.append(book)\n"
   ]
  },
  {
   "cell_type": "code",
   "execution_count": null,
   "id": "a89dc53a-eb73-4e49-af9d-231bfdc3a93c",
   "metadata": {},
   "outputs": [],
   "source": [
    "    def show_books(self):\n",
    "        for book in self.books:\n",
    "            status = \"Available\" if book.available else \"Issued\"\n",
    "            print(f\"{book.title} - {status}\")\n"
   ]
  },
  {
   "cell_type": "code",
   "execution_count": null,
   "id": "d9be14a1-b9ae-43dd-b903-7a7332890dc4",
   "metadata": {},
   "outputs": [],
   "source": [
    "    def issue_book(self, title):\n",
    "        for book in self.books:\n",
    "            if book.title == title and book.available:\n",
    "                book.available = False\n",
    "                print(f\"{title} issued!\")\n",
    "                return\n",
    "        print(\"Book not available\")\n",
    "    "
   ]
  },
  {
   "cell_type": "code",
   "execution_count": null,
   "id": "105b0c68-d250-4166-877a-a53669138863",
   "metadata": {},
   "outputs": [],
   "source": [
    "lib = Library()\n",
    "book1 = Book(\"Harry Potter\")\n",
    "book2 = Book(\"Sherlock Holmes\")\n",
    "lib.add_book(book1)\n",
    "lib.add_book(book2)\n"
   ]
  },
  {
   "cell_type": "code",
   "execution_count": null,
   "id": "b88f9156-8620-4779-b396-1df50c9f99a2",
   "metadata": {},
   "outputs": [],
   "source": [
    "lib.show_books()\n"
   ]
  },
  {
   "cell_type": "code",
   "execution_count": null,
   "id": "f399a159-95d0-4361-95c7-9b37a3afb7d6",
   "metadata": {},
   "outputs": [],
   "source": [
    "lib.issue_book(\"Harry Potter\")\n",
    "lib.show_books()\n"
   ]
  },
  {
   "cell_type": "code",
   "execution_count": null,
   "id": "2e6afab6-50ce-4d79-af68-5068765626f7",
   "metadata": {},
   "outputs": [],
   "source": [
    "class Employee:\n",
    "    def __init__(self, name, salary):\n",
    "        self.name = name\n",
    "        self.salary = salary\n"
   ]
  },
  {
   "cell_type": "code",
   "execution_count": null,
   "id": "02a8deb5-703c-42d7-b31b-719f687a69c1",
   "metadata": {},
   "outputs": [],
   "source": [
    "employees = [\n",
    "    Employee(\"Sara\", 70000),\n",
    "    Employee(\"Ali\", 65000),\n",
    "    Employee(\"Afia\", 72000)\n",
    "]\n",
    "\n",
    "for emp in employees:\n",
    "    print(f\"{emp.name} earns ₹{emp.salary}\")\n"
   ]
  },
  {
   "cell_type": "code",
   "execution_count": null,
   "id": "d2037f04-8794-4e7a-8904-98b32ae7bd63",
   "metadata": {},
   "outputs": [],
   "source": []
  }
 ],
 "metadata": {
  "kernelspec": {
   "display_name": "Python 3 (ipykernel)",
   "language": "python",
   "name": "python3"
  },
  "language_info": {
   "codemirror_mode": {
    "name": "ipython",
    "version": 3
   },
   "file_extension": ".py",
   "mimetype": "text/x-python",
   "name": "python",
   "nbconvert_exporter": "python",
   "pygments_lexer": "ipython3",
   "version": "3.12.11"
  }
 },
 "nbformat": 4,
 "nbformat_minor": 5
}
