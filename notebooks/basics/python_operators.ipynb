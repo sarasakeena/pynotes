{
 "cells": [
  {
   "cell_type": "code",
   "execution_count": null,
   "id": "203dec54-9be4-4d0f-bec1-e79266dce5ba",
   "metadata": {},
   "outputs": [],
   "source": [
    "a = 10\n",
    "b = 3"
   ]
  },
  {
   "cell_type": "code",
   "execution_count": null,
   "id": "f6e76bec-fce7-4fc5-8bcd-4aca192c0638",
   "metadata": {},
   "outputs": [],
   "source": [
    "print(\"Addition (+):\", a + b)\n",
    "print(\"Subtraction (-):\", a - b)\n",
    "print(\"Multiplication (*):\", a * b)\n",
    "print(\"Division (/):\", a / b)\n",
    "print(\"Floor Division (//):\", a // b)\n",
    "print(\"Modulus (%):\", a % b)\n",
    "print(\"Exponentiation (**):\", a ** b)"
   ]
  },
  {
   "cell_type": "code",
   "execution_count": null,
   "id": "8e03d4a6-6688-4044-8dca-76e89ff80ce1",
   "metadata": {},
   "outputs": [],
   "source": [
    "x = 5\n",
    "print(\"Initial x:\", x)"
   ]
  },
  {
   "cell_type": "code",
   "execution_count": null,
   "id": "2e344b25-f8fa-4774-92f1-0c6a054e97fc",
   "metadata": {},
   "outputs": [],
   "source": [
    "x += 3\n",
    "print(\"x += 3:\", x)"
   ]
  },
  {
   "cell_type": "code",
   "execution_count": null,
   "id": "624a494b-69b0-4c26-8481-304cdc41a11f",
   "metadata": {},
   "outputs": [],
   "source": [
    "x -= 2\n",
    "print(\"x -= 2:\", x)"
   ]
  },
  {
   "cell_type": "code",
   "execution_count": null,
   "id": "a1f2a177-2cef-4d6c-9ad8-ae9db7116e00",
   "metadata": {},
   "outputs": [],
   "source": [
    "x *= 4\n",
    "print(\"x *= 4:\", x)"
   ]
  },
  {
   "cell_type": "code",
   "execution_count": null,
   "id": "02a5818b-c4b4-49d5-9138-52c37d96fe60",
   "metadata": {},
   "outputs": [],
   "source": [
    "\n",
    "x /= 3\n",
    "print(\"x /= 3:\", x)"
   ]
  },
  {
   "cell_type": "code",
   "execution_count": null,
   "id": "189e46fb-1372-4ca3-bc15-7749d067e0ba",
   "metadata": {},
   "outputs": [],
   "source": [
    "x %= 2\n",
    "print(\"x %= 2:\", x)"
   ]
  },
  {
   "cell_type": "code",
   "execution_count": null,
   "id": "60280c5a-7079-40a4-8d76-f6a5daeb91ac",
   "metadata": {},
   "outputs": [],
   "source": [
    "x = 5\n",
    "x **= 2\n",
    "print(\"x **= 2:\", x)"
   ]
  },
  {
   "cell_type": "code",
   "execution_count": null,
   "id": "598233de-a15a-4a42-a2d9-e36811153dac",
   "metadata": {},
   "outputs": [],
   "source": [
    "x //= 2\n",
    "print(\"x //= 2:\", x)"
   ]
  }
 ],
 "metadata": {
  "kernelspec": {
   "display_name": "Python 3 (ipykernel)",
   "language": "python",
   "name": "python3"
  },
  "language_info": {
   "codemirror_mode": {
    "name": "ipython",
    "version": 3
   },
   "file_extension": ".py",
   "mimetype": "text/x-python",
   "name": "python",
   "nbconvert_exporter": "python",
   "pygments_lexer": "ipython3",
   "version": "3.12.11"
  }
 },
 "nbformat": 4,
 "nbformat_minor": 5
}
