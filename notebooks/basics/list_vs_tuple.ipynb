{
 "cells": [
  {
   "cell_type": "code",
   "execution_count": 1,
   "id": "228e8735-4d97-4adf-be6c-f105f0977681",
   "metadata": {},
   "outputs": [],
   "source": [
    "import time"
   ]
  },
  {
   "cell_type": "code",
   "execution_count": 2,
   "id": "b6aa164f-1851-4592-82c5-962feba5aed0",
   "metadata": {},
   "outputs": [],
   "source": [
    "list1 = [1, 2, 3]\n",
    "list1[0] = 100"
   ]
  },
  {
   "cell_type": "code",
   "execution_count": 3,
   "id": "bbae57b2-77ee-4ce0-b806-5ab5a87c76c5",
   "metadata": {},
   "outputs": [
    {
     "name": "stdout",
     "output_type": "stream",
     "text": [
      "Tuples are immutable: 'tuple' object does not support item assignment\n"
     ]
    }
   ],
   "source": [
    "tuple1 = (1, 2, 3)\n",
    "try:\n",
    "    tuple1[0] = 100\n",
    "except TypeError as e:\n",
    "    print(\"Tuples are immutable:\", e)"
   ]
  },
  {
   "cell_type": "code",
   "execution_count": 4,
   "id": "bab94b72-89a8-435a-ba5a-8239db85235c",
   "metadata": {},
   "outputs": [
    {
     "name": "stdout",
     "output_type": "stream",
     "text": [
      "List time: 0.09406590461730957\n",
      "Tuple time: 0.0926821231842041\n"
     ]
    }
   ],
   "source": [
    "def list_test():\n",
    "    list_x = [x for x in range(1000000)]\n",
    "    \n",
    "def tuple_test():\n",
    "    tuple_x = tuple(x for x in range(1000000))\n",
    "\n",
    "start = time.time()\n",
    "list_test()\n",
    "print(\"List time:\", time.time() - start)\n",
    "\n",
    "start = time.time()\n",
    "tuple_test()\n",
    "print(\"Tuple time:\", time.time() - start)"
   ]
  },
  {
   "cell_type": "code",
   "execution_count": null,
   "id": "3c045e36-fdbe-47fa-996a-cc22d40a9a17",
   "metadata": {},
   "outputs": [],
   "source": [
    "- Lists: Mutable, Slower, More flexible\n",
    "- Tuples: Immutable, Faster, Safer for fixed data"
   ]
  }
 ],
 "metadata": {
  "kernelspec": {
   "display_name": "Python 3 (ipykernel)",
   "language": "python",
   "name": "python3"
  },
  "language_info": {
   "codemirror_mode": {
    "name": "ipython",
    "version": 3
   },
   "file_extension": ".py",
   "mimetype": "text/x-python",
   "name": "python",
   "nbconvert_exporter": "python",
   "pygments_lexer": "ipython3",
   "version": "3.12.11"
  }
 },
 "nbformat": 4,
 "nbformat_minor": 5
}
