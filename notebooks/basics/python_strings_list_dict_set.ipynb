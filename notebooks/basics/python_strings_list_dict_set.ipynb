{
 "cells": [
  {
   "cell_type": "code",
   "execution_count": 1,
   "metadata": {},
   "outputs": [
    {
     "name": "stdout",
     "output_type": "stream",
     "text": [
      "FPGFXDA\n",
      "adxfgpf\n",
      "7\n"
     ]
    }
   ],
   "source": [
    "s = 'fpgfxda'\n",
    "print(s.upper())\n",
    "print(s[::-1])\n",
    "print(len(s))"
   ]
  },
  {
   "cell_type": "code",
   "execution_count": 2,
   "metadata": {},
   "outputs": [
    {
     "name": "stdout",
     "output_type": "stream",
     "text": [
      "EBHCMAD\n",
      "damchbe\n",
      "7\n"
     ]
    }
   ],
   "source": [
    "s = 'ebhcmad'\n",
    "print(s.upper())\n",
    "print(s[::-1])\n",
    "print(len(s))"
   ]
  },
  {
   "cell_type": "code",
   "execution_count": 3,
   "metadata": {},
   "outputs": [
    {
     "name": "stdout",
     "output_type": "stream",
     "text": [
      "LAOLQYU\n",
      "uyqloal\n",
      "7\n"
     ]
    }
   ],
   "source": [
    "s = 'laolqyu'\n",
    "print(s.upper())\n",
    "print(s[::-1])\n",
    "print(len(s))"
   ]
  },
  {
   "cell_type": "code",
   "execution_count": 4,
   "metadata": {},
   "outputs": [
    {
     "name": "stdout",
     "output_type": "stream",
     "text": [
      "FAIVRVAZMC\n",
      "cmzavrviaf\n",
      "10\n"
     ]
    }
   ],
   "source": [
    "s = 'faivrvazmc'\n",
    "print(s.upper())\n",
    "print(s[::-1])\n",
    "print(len(s))"
   ]
  },
  {
   "cell_type": "code",
   "execution_count": 5,
   "metadata": {},
   "outputs": [
    {
     "name": "stdout",
     "output_type": "stream",
     "text": [
      "ZSUGPL\n",
      "lpgusz\n",
      "6\n"
     ]
    }
   ],
   "source": [
    "s = 'zsugpl'\n",
    "print(s.upper())\n",
    "print(s[::-1])\n",
    "print(len(s))"
   ]
  },
  {
   "cell_type": "code",
   "execution_count": 6,
   "metadata": {},
   "outputs": [
    {
     "name": "stdout",
     "output_type": "stream",
     "text": [
      "PSSSW\n",
      "wsssp\n",
      "5\n"
     ]
    }
   ],
   "source": [
    "s = 'psssw'\n",
    "print(s.upper())\n",
    "print(s[::-1])\n",
    "print(len(s))"
   ]
  },
  {
   "cell_type": "code",
   "execution_count": 7,
   "metadata": {},
   "outputs": [
    {
     "name": "stdout",
     "output_type": "stream",
     "text": [
      "MJNHWQXY\n",
      "yxqwhnjm\n",
      "8\n"
     ]
    }
   ],
   "source": [
    "s = 'mjnhwqxy'\n",
    "print(s.upper())\n",
    "print(s[::-1])\n",
    "print(len(s))"
   ]
  },
  {
   "cell_type": "code",
   "execution_count": 8,
   "metadata": {},
   "outputs": [
    {
     "name": "stdout",
     "output_type": "stream",
     "text": [
      "QLFNQ\n",
      "qnflq\n",
      "5\n"
     ]
    }
   ],
   "source": [
    "s = 'qlfnq'\n",
    "print(s.upper())\n",
    "print(s[::-1])\n",
    "print(len(s))"
   ]
  },
  {
   "cell_type": "code",
   "execution_count": 9,
   "metadata": {},
   "outputs": [
    {
     "name": "stdout",
     "output_type": "stream",
     "text": [
      "ZHMAOED\n",
      "deoamhz\n",
      "7\n"
     ]
    }
   ],
   "source": [
    "s = 'zhmaoed'\n",
    "print(s.upper())\n",
    "print(s[::-1])\n",
    "print(len(s))"
   ]
  },
  {
   "cell_type": "code",
   "execution_count": 10,
   "metadata": {},
   "outputs": [
    {
     "name": "stdout",
     "output_type": "stream",
     "text": [
      "LTPLJXXZ\n",
      "zxxjlptl\n",
      "8\n"
     ]
    }
   ],
   "source": [
    "s = 'ltpljxxz'\n",
    "print(s.upper())\n",
    "print(s[::-1])\n",
    "print(len(s))"
   ]
  },
  {
   "cell_type": "code",
   "execution_count": 11,
   "metadata": {},
   "outputs": [
    {
     "name": "stdout",
     "output_type": "stream",
     "text": [
      "QGITPS\n",
      "sptigq\n",
      "6\n"
     ]
    }
   ],
   "source": [
    "s = 'qgitps'\n",
    "print(s.upper())\n",
    "print(s[::-1])\n",
    "print(len(s))"
   ]
  },
  {
   "cell_type": "code",
   "execution_count": 12,
   "metadata": {},
   "outputs": [
    {
     "name": "stdout",
     "output_type": "stream",
     "text": [
      "PBFVXRBF\n",
      "fbrxvfbp\n",
      "8\n"
     ]
    }
   ],
   "source": [
    "s = 'pbfvxrbf'\n",
    "print(s.upper())\n",
    "print(s[::-1])\n",
    "print(len(s))"
   ]
  },
  {
   "cell_type": "code",
   "execution_count": 13,
   "metadata": {},
   "outputs": [
    {
     "name": "stdout",
     "output_type": "stream",
     "text": [
      "YNTZYNNN\n",
      "nnnyztny\n",
      "8\n"
     ]
    }
   ],
   "source": [
    "s = 'yntzynnn'\n",
    "print(s.upper())\n",
    "print(s[::-1])\n",
    "print(len(s))"
   ]
  },
  {
   "cell_type": "code",
   "execution_count": 14,
   "metadata": {},
   "outputs": [
    {
     "name": "stdout",
     "output_type": "stream",
     "text": [
      "TQSCELSJK\n",
      "kjslecsqt\n",
      "9\n"
     ]
    }
   ],
   "source": [
    "s = 'tqscelsjk'\n",
    "print(s.upper())\n",
    "print(s[::-1])\n",
    "print(len(s))"
   ]
  },
  {
   "cell_type": "code",
   "execution_count": 15,
   "metadata": {},
   "outputs": [
    {
     "name": "stdout",
     "output_type": "stream",
     "text": [
      "GBDJHEAM\n",
      "maehjdbg\n",
      "8\n"
     ]
    }
   ],
   "source": [
    "s = 'gbdjheam'\n",
    "print(s.upper())\n",
    "print(s[::-1])\n",
    "print(len(s))"
   ]
  },
  {
   "cell_type": "code",
   "execution_count": 16,
   "metadata": {},
   "outputs": [
    {
     "name": "stdout",
     "output_type": "stream",
     "text": [
      "NGGGT\n",
      "tgggn\n",
      "5\n"
     ]
    }
   ],
   "source": [
    "s = 'ngggt'\n",
    "print(s.upper())\n",
    "print(s[::-1])\n",
    "print(len(s))"
   ]
  },
  {
   "cell_type": "code",
   "execution_count": 17,
   "metadata": {},
   "outputs": [
    {
     "name": "stdout",
     "output_type": "stream",
     "text": [
      "IMXPTWMRL\n",
      "lrmwtpxmi\n",
      "9\n"
     ]
    }
   ],
   "source": [
    "s = 'imxptwmrl'\n",
    "print(s.upper())\n",
    "print(s[::-1])\n",
    "print(len(s))"
   ]
  },
  {
   "cell_type": "code",
   "execution_count": 18,
   "metadata": {},
   "outputs": [
    {
     "name": "stdout",
     "output_type": "stream",
     "text": [
      "HBSBWEJMFD\n",
      "dfmjewbsbh\n",
      "10\n"
     ]
    }
   ],
   "source": [
    "s = 'hbsbwejmfd'\n",
    "print(s.upper())\n",
    "print(s[::-1])\n",
    "print(len(s))"
   ]
  },
  {
   "cell_type": "code",
   "execution_count": 19,
   "metadata": {},
   "outputs": [
    {
     "name": "stdout",
     "output_type": "stream",
     "text": [
      "MOGMLAXA\n",
      "axalmgom\n",
      "8\n"
     ]
    }
   ],
   "source": [
    "s = 'mogmlaxa'\n",
    "print(s.upper())\n",
    "print(s[::-1])\n",
    "print(len(s))"
   ]
  },
  {
   "cell_type": "code",
   "execution_count": 20,
   "metadata": {},
   "outputs": [
    {
     "name": "stdout",
     "output_type": "stream",
     "text": [
      "UYSZH\n",
      "hzsyu\n",
      "5\n"
     ]
    }
   ],
   "source": [
    "s = 'uyszh'\n",
    "print(s.upper())\n",
    "print(s[::-1])\n",
    "print(len(s))"
   ]
  },
  {
   "cell_type": "code",
   "execution_count": 21,
   "metadata": {},
   "outputs": [
    {
     "name": "stdout",
     "output_type": "stream",
     "text": [
      "FPJENCWII\n",
      "iiwcnejpf\n",
      "9\n"
     ]
    }
   ],
   "source": [
    "s = 'fpjencwii'\n",
    "print(s.upper())\n",
    "print(s[::-1])\n",
    "print(len(s))"
   ]
  },
  {
   "cell_type": "code",
   "execution_count": 22,
   "metadata": {},
   "outputs": [
    {
     "name": "stdout",
     "output_type": "stream",
     "text": [
      "KQJNPSPL\n",
      "lpspnjqk\n",
      "8\n"
     ]
    }
   ],
   "source": [
    "s = 'kqjnpspl'\n",
    "print(s.upper())\n",
    "print(s[::-1])\n",
    "print(len(s))"
   ]
  },
  {
   "cell_type": "code",
   "execution_count": 23,
   "metadata": {},
   "outputs": [
    {
     "name": "stdout",
     "output_type": "stream",
     "text": [
      "XZRHLTV\n",
      "vtlhrzx\n",
      "7\n"
     ]
    }
   ],
   "source": [
    "s = 'xzrhltv'\n",
    "print(s.upper())\n",
    "print(s[::-1])\n",
    "print(len(s))"
   ]
  },
  {
   "cell_type": "code",
   "execution_count": 24,
   "metadata": {},
   "outputs": [
    {
     "name": "stdout",
     "output_type": "stream",
     "text": [
      "DNXFKUB\n",
      "bukfxnd\n",
      "7\n"
     ]
    }
   ],
   "source": [
    "s = 'dnxfkub'\n",
    "print(s.upper())\n",
    "print(s[::-1])\n",
    "print(len(s))"
   ]
  },
  {
   "cell_type": "code",
   "execution_count": 25,
   "metadata": {},
   "outputs": [
    {
     "name": "stdout",
     "output_type": "stream",
     "text": [
      "GLYCCGFH\n",
      "hfgccylg\n",
      "8\n"
     ]
    }
   ],
   "source": [
    "s = 'glyccgfh'\n",
    "print(s.upper())\n",
    "print(s[::-1])\n",
    "print(len(s))"
   ]
  },
  {
   "cell_type": "code",
   "execution_count": 26,
   "metadata": {},
   "outputs": [
    {
     "name": "stdout",
     "output_type": "stream",
     "text": [
      "DJFALEDYT\n",
      "tydelafjd\n",
      "9\n"
     ]
    }
   ],
   "source": [
    "s = 'djfaledyt'\n",
    "print(s.upper())\n",
    "print(s[::-1])\n",
    "print(len(s))"
   ]
  },
  {
   "cell_type": "code",
   "execution_count": 27,
   "metadata": {},
   "outputs": [
    {
     "name": "stdout",
     "output_type": "stream",
     "text": [
      "IOCZDWQP\n",
      "pqwdzcoi\n",
      "8\n"
     ]
    }
   ],
   "source": [
    "s = 'ioczdwqp'\n",
    "print(s.upper())\n",
    "print(s[::-1])\n",
    "print(len(s))"
   ]
  },
  {
   "cell_type": "code",
   "execution_count": 28,
   "metadata": {},
   "outputs": [
    {
     "name": "stdout",
     "output_type": "stream",
     "text": [
      "HLSZIJPJMM\n",
      "mmjpjizslh\n",
      "10\n"
     ]
    }
   ],
   "source": [
    "s = 'hlszijpjmm'\n",
    "print(s.upper())\n",
    "print(s[::-1])\n",
    "print(len(s))"
   ]
  },
  {
   "cell_type": "code",
   "execution_count": 29,
   "metadata": {},
   "outputs": [
    {
     "name": "stdout",
     "output_type": "stream",
     "text": [
      "IYGFYCID\n",
      "dicyfgyi\n",
      "8\n"
     ]
    }
   ],
   "source": [
    "s = 'iygfycid'\n",
    "print(s.upper())\n",
    "print(s[::-1])\n",
    "print(len(s))"
   ]
  },
  {
   "cell_type": "code",
   "execution_count": 30,
   "metadata": {},
   "outputs": [
    {
     "name": "stdout",
     "output_type": "stream",
     "text": [
      "FNJGM\n",
      "mgjnf\n",
      "5\n"
     ]
    }
   ],
   "source": [
    "s = 'fnjgm'\n",
    "print(s.upper())\n",
    "print(s[::-1])\n",
    "print(len(s))"
   ]
  },
  {
   "cell_type": "code",
   "execution_count": 31,
   "metadata": {},
   "outputs": [
    {
     "name": "stdout",
     "output_type": "stream",
     "text": [
      "ELJRTZ\n",
      "ztrjle\n",
      "6\n"
     ]
    }
   ],
   "source": [
    "s = 'eljrtz'\n",
    "print(s.upper())\n",
    "print(s[::-1])\n",
    "print(len(s))"
   ]
  },
  {
   "cell_type": "code",
   "execution_count": 32,
   "metadata": {},
   "outputs": [
    {
     "name": "stdout",
     "output_type": "stream",
     "text": [
      "HWGVBHEXQM\n",
      "mqxehbvgwh\n",
      "10\n"
     ]
    }
   ],
   "source": [
    "s = 'hwgvbhexqm'\n",
    "print(s.upper())\n",
    "print(s[::-1])\n",
    "print(len(s))"
   ]
  },
  {
   "cell_type": "code",
   "execution_count": 33,
   "metadata": {},
   "outputs": [
    {
     "name": "stdout",
     "output_type": "stream",
     "text": [
      "KOCAXKJL\n",
      "ljkxacok\n",
      "8\n"
     ]
    }
   ],
   "source": [
    "s = 'kocaxkjl'\n",
    "print(s.upper())\n",
    "print(s[::-1])\n",
    "print(len(s))"
   ]
  },
  {
   "cell_type": "code",
   "execution_count": 34,
   "metadata": {},
   "outputs": [
    {
     "name": "stdout",
     "output_type": "stream",
     "text": [
      "TGLVR\n",
      "rvlgt\n",
      "5\n"
     ]
    }
   ],
   "source": [
    "s = 'tglvr'\n",
    "print(s.upper())\n",
    "print(s[::-1])\n",
    "print(len(s))"
   ]
  },
  {
   "cell_type": "code",
   "execution_count": 35,
   "metadata": {},
   "outputs": [
    {
     "name": "stdout",
     "output_type": "stream",
     "text": [
      "JEXIA\n",
      "aixej\n",
      "5\n"
     ]
    }
   ],
   "source": [
    "s = 'jexia'\n",
    "print(s.upper())\n",
    "print(s[::-1])\n",
    "print(len(s))"
   ]
  },
  {
   "cell_type": "code",
   "execution_count": 36,
   "metadata": {},
   "outputs": [
    {
     "name": "stdout",
     "output_type": "stream",
     "text": [
      "FPYBV\n",
      "vbypf\n",
      "5\n"
     ]
    }
   ],
   "source": [
    "s = 'fpybv'\n",
    "print(s.upper())\n",
    "print(s[::-1])\n",
    "print(len(s))"
   ]
  },
  {
   "cell_type": "code",
   "execution_count": 37,
   "metadata": {},
   "outputs": [
    {
     "name": "stdout",
     "output_type": "stream",
     "text": [
      "GRJMLYDOWG\n",
      "gwodylmjrg\n",
      "10\n"
     ]
    }
   ],
   "source": [
    "s = 'grjmlydowg'\n",
    "print(s.upper())\n",
    "print(s[::-1])\n",
    "print(len(s))"
   ]
  },
  {
   "cell_type": "code",
   "execution_count": 38,
   "metadata": {},
   "outputs": [
    {
     "name": "stdout",
     "output_type": "stream",
     "text": [
      "MGSDJKCTR\n",
      "rtckjdsgm\n",
      "9\n"
     ]
    }
   ],
   "source": [
    "s = 'mgsdjkctr'\n",
    "print(s.upper())\n",
    "print(s[::-1])\n",
    "print(len(s))"
   ]
  },
  {
   "cell_type": "code",
   "execution_count": 39,
   "metadata": {},
   "outputs": [
    {
     "name": "stdout",
     "output_type": "stream",
     "text": [
      "RHBKJSF\n",
      "fsjkbhr\n",
      "7\n"
     ]
    }
   ],
   "source": [
    "s = 'rhbkjsf'\n",
    "print(s.upper())\n",
    "print(s[::-1])\n",
    "print(len(s))"
   ]
  },
  {
   "cell_type": "code",
   "execution_count": 40,
   "metadata": {},
   "outputs": [
    {
     "name": "stdout",
     "output_type": "stream",
     "text": [
      "PDURMUOTS\n",
      "stoumrudp\n",
      "9\n"
     ]
    }
   ],
   "source": [
    "s = 'pdurmuots'\n",
    "print(s.upper())\n",
    "print(s[::-1])\n",
    "print(len(s))"
   ]
  },
  {
   "cell_type": "code",
   "execution_count": 41,
   "metadata": {},
   "outputs": [
    {
     "name": "stdout",
     "output_type": "stream",
     "text": [
      "OUFKL\n",
      "lkfuo\n",
      "5\n"
     ]
    }
   ],
   "source": [
    "s = 'oufkl'\n",
    "print(s.upper())\n",
    "print(s[::-1])\n",
    "print(len(s))"
   ]
  },
  {
   "cell_type": "code",
   "execution_count": 42,
   "metadata": {},
   "outputs": [
    {
     "name": "stdout",
     "output_type": "stream",
     "text": [
      "LRGWBG\n",
      "gbwgrl\n",
      "6\n"
     ]
    }
   ],
   "source": [
    "s = 'lrgwbg'\n",
    "print(s.upper())\n",
    "print(s[::-1])\n",
    "print(len(s))"
   ]
  },
  {
   "cell_type": "code",
   "execution_count": 43,
   "metadata": {},
   "outputs": [
    {
     "name": "stdout",
     "output_type": "stream",
     "text": [
      "WTTUDKCNFK\n",
      "kfnckduttw\n",
      "10\n"
     ]
    }
   ],
   "source": [
    "s = 'wttudkcnfk'\n",
    "print(s.upper())\n",
    "print(s[::-1])\n",
    "print(len(s))"
   ]
  },
  {
   "cell_type": "code",
   "execution_count": 44,
   "metadata": {},
   "outputs": [
    {
     "name": "stdout",
     "output_type": "stream",
     "text": [
      "MDJMYBB\n",
      "bbymjdm\n",
      "7\n"
     ]
    }
   ],
   "source": [
    "s = 'mdjmybb'\n",
    "print(s.upper())\n",
    "print(s[::-1])\n",
    "print(len(s))"
   ]
  },
  {
   "cell_type": "code",
   "execution_count": 45,
   "metadata": {},
   "outputs": [
    {
     "name": "stdout",
     "output_type": "stream",
     "text": [
      "WRDRKOP\n",
      "pokrdrw\n",
      "7\n"
     ]
    }
   ],
   "source": [
    "s = 'wrdrkop'\n",
    "print(s.upper())\n",
    "print(s[::-1])\n",
    "print(len(s))"
   ]
  },
  {
   "cell_type": "code",
   "execution_count": 46,
   "metadata": {},
   "outputs": [
    {
     "name": "stdout",
     "output_type": "stream",
     "text": [
      "BGGGPQC\n",
      "cqpgggb\n",
      "7\n"
     ]
    }
   ],
   "source": [
    "s = 'bgggpqc'\n",
    "print(s.upper())\n",
    "print(s[::-1])\n",
    "print(len(s))"
   ]
  },
  {
   "cell_type": "code",
   "execution_count": 47,
   "metadata": {},
   "outputs": [
    {
     "name": "stdout",
     "output_type": "stream",
     "text": [
      "SGLOKPR\n",
      "rpkolgs\n",
      "7\n"
     ]
    }
   ],
   "source": [
    "s = 'sglokpr'\n",
    "print(s.upper())\n",
    "print(s[::-1])\n",
    "print(len(s))"
   ]
  },
  {
   "cell_type": "code",
   "execution_count": 48,
   "metadata": {},
   "outputs": [
    {
     "name": "stdout",
     "output_type": "stream",
     "text": [
      "AYFWBXMHLX\n",
      "xlhmxbwfya\n",
      "10\n"
     ]
    }
   ],
   "source": [
    "s = 'ayfwbxmhlx'\n",
    "print(s.upper())\n",
    "print(s[::-1])\n",
    "print(len(s))"
   ]
  },
  {
   "cell_type": "code",
   "execution_count": 49,
   "metadata": {},
   "outputs": [
    {
     "name": "stdout",
     "output_type": "stream",
     "text": [
      "CBSVWAVCWE\n",
      "ewcvawvsbc\n",
      "10\n"
     ]
    }
   ],
   "source": [
    "s = 'cbsvwavcwe'\n",
    "print(s.upper())\n",
    "print(s[::-1])\n",
    "print(len(s))"
   ]
  },
  {
   "cell_type": "code",
   "execution_count": 50,
   "metadata": {},
   "outputs": [
    {
     "name": "stdout",
     "output_type": "stream",
     "text": [
      "YMFNRC\n",
      "crnfmy\n",
      "6\n"
     ]
    }
   ],
   "source": [
    "s = 'ymfnrc'\n",
    "print(s.upper())\n",
    "print(s[::-1])\n",
    "print(len(s))"
   ]
  },
  {
   "cell_type": "code",
   "execution_count": 51,
   "metadata": {},
   "outputs": [
    {
     "name": "stdout",
     "output_type": "stream",
     "text": [
      "INJOZSGVF\n",
      "fvgszojni\n",
      "9\n"
     ]
    }
   ],
   "source": [
    "s = 'injozsgvf'\n",
    "print(s.upper())\n",
    "print(s[::-1])\n",
    "print(len(s))"
   ]
  },
  {
   "cell_type": "code",
   "execution_count": 52,
   "metadata": {},
   "outputs": [
    {
     "name": "stdout",
     "output_type": "stream",
     "text": [
      "TUDGVIGIC\n",
      "cigivgdut\n",
      "9\n"
     ]
    }
   ],
   "source": [
    "s = 'tudgvigic'\n",
    "print(s.upper())\n",
    "print(s[::-1])\n",
    "print(len(s))"
   ]
  },
  {
   "cell_type": "code",
   "execution_count": 53,
   "metadata": {},
   "outputs": [
    {
     "name": "stdout",
     "output_type": "stream",
     "text": [
      "YHGTURTYJ\n",
      "jytrutghy\n",
      "9\n"
     ]
    }
   ],
   "source": [
    "s = 'yhgturtyj'\n",
    "print(s.upper())\n",
    "print(s[::-1])\n",
    "print(len(s))"
   ]
  },
  {
   "cell_type": "code",
   "execution_count": 54,
   "metadata": {},
   "outputs": [
    {
     "name": "stdout",
     "output_type": "stream",
     "text": [
      "RWXBZ\n",
      "zbxwr\n",
      "5\n"
     ]
    }
   ],
   "source": [
    "s = 'rwxbz'\n",
    "print(s.upper())\n",
    "print(s[::-1])\n",
    "print(len(s))"
   ]
  },
  {
   "cell_type": "code",
   "execution_count": 55,
   "metadata": {},
   "outputs": [
    {
     "name": "stdout",
     "output_type": "stream",
     "text": [
      "GJILSQUCB\n",
      "bcuqslijg\n",
      "9\n"
     ]
    }
   ],
   "source": [
    "s = 'gjilsqucb'\n",
    "print(s.upper())\n",
    "print(s[::-1])\n",
    "print(len(s))"
   ]
  },
  {
   "cell_type": "code",
   "execution_count": 56,
   "metadata": {},
   "outputs": [
    {
     "name": "stdout",
     "output_type": "stream",
     "text": [
      "PCRZJRBI\n",
      "ibrjzrcp\n",
      "8\n"
     ]
    }
   ],
   "source": [
    "s = 'pcrzjrbi'\n",
    "print(s.upper())\n",
    "print(s[::-1])\n",
    "print(len(s))"
   ]
  },
  {
   "cell_type": "code",
   "execution_count": 57,
   "metadata": {},
   "outputs": [
    {
     "name": "stdout",
     "output_type": "stream",
     "text": [
      "ZBGAUWDYT\n",
      "tydwuagbz\n",
      "9\n"
     ]
    }
   ],
   "source": [
    "s = 'zbgauwdyt'\n",
    "print(s.upper())\n",
    "print(s[::-1])\n",
    "print(len(s))"
   ]
  },
  {
   "cell_type": "code",
   "execution_count": 58,
   "metadata": {},
   "outputs": [
    {
     "name": "stdout",
     "output_type": "stream",
     "text": [
      "YFOSHUMUJY\n",
      "yjumuhsofy\n",
      "10\n"
     ]
    }
   ],
   "source": [
    "s = 'yfoshumujy'\n",
    "print(s.upper())\n",
    "print(s[::-1])\n",
    "print(len(s))"
   ]
  },
  {
   "cell_type": "code",
   "execution_count": 59,
   "metadata": {},
   "outputs": [
    {
     "name": "stdout",
     "output_type": "stream",
     "text": [
      "NIBQKUM\n",
      "mukqbin\n",
      "7\n"
     ]
    }
   ],
   "source": [
    "s = 'nibqkum'\n",
    "print(s.upper())\n",
    "print(s[::-1])\n",
    "print(len(s))"
   ]
  },
  {
   "cell_type": "code",
   "execution_count": 60,
   "metadata": {},
   "outputs": [
    {
     "name": "stdout",
     "output_type": "stream",
     "text": [
      "EERBGCIT\n",
      "ticgbree\n",
      "8\n"
     ]
    }
   ],
   "source": [
    "s = 'eerbgcit'\n",
    "print(s.upper())\n",
    "print(s[::-1])\n",
    "print(len(s))"
   ]
  },
  {
   "cell_type": "code",
   "execution_count": 61,
   "metadata": {},
   "outputs": [
    {
     "name": "stdout",
     "output_type": "stream",
     "text": [
      "QDZSX\n",
      "xszdq\n",
      "5\n"
     ]
    }
   ],
   "source": [
    "s = 'qdzsx'\n",
    "print(s.upper())\n",
    "print(s[::-1])\n",
    "print(len(s))"
   ]
  },
  {
   "cell_type": "code",
   "execution_count": 62,
   "metadata": {},
   "outputs": [
    {
     "name": "stdout",
     "output_type": "stream",
     "text": [
      "JVRMBTBGO\n",
      "ogbtbmrvj\n",
      "9\n"
     ]
    }
   ],
   "source": [
    "s = 'jvrmbtbgo'\n",
    "print(s.upper())\n",
    "print(s[::-1])\n",
    "print(len(s))"
   ]
  },
  {
   "cell_type": "code",
   "execution_count": 63,
   "metadata": {},
   "outputs": [
    {
     "name": "stdout",
     "output_type": "stream",
     "text": [
      "TLSDLWZBR\n",
      "rbzwldslt\n",
      "9\n"
     ]
    }
   ],
   "source": [
    "s = 'tlsdlwzbr'\n",
    "print(s.upper())\n",
    "print(s[::-1])\n",
    "print(len(s))"
   ]
  },
  {
   "cell_type": "code",
   "execution_count": 64,
   "metadata": {},
   "outputs": [
    {
     "name": "stdout",
     "output_type": "stream",
     "text": [
      "LDAIHRSGAN\n",
      "nagsrhiadl\n",
      "10\n"
     ]
    }
   ],
   "source": [
    "s = 'ldaihrsgan'\n",
    "print(s.upper())\n",
    "print(s[::-1])\n",
    "print(len(s))"
   ]
  },
  {
   "cell_type": "code",
   "execution_count": 65,
   "metadata": {},
   "outputs": [
    {
     "name": "stdout",
     "output_type": "stream",
     "text": [
      "YZPUAJBCZ\n",
      "zcbjaupzy\n",
      "9\n"
     ]
    }
   ],
   "source": [
    "s = 'yzpuajbcz'\n",
    "print(s.upper())\n",
    "print(s[::-1])\n",
    "print(len(s))"
   ]
  },
  {
   "cell_type": "code",
   "execution_count": 66,
   "metadata": {},
   "outputs": [
    {
     "name": "stdout",
     "output_type": "stream",
     "text": [
      "VGDHBPTLZ\n",
      "zltpbhdgv\n",
      "9\n"
     ]
    }
   ],
   "source": [
    "s = 'vgdhbptlz'\n",
    "print(s.upper())\n",
    "print(s[::-1])\n",
    "print(len(s))"
   ]
  },
  {
   "cell_type": "code",
   "execution_count": 67,
   "metadata": {},
   "outputs": [
    {
     "name": "stdout",
     "output_type": "stream",
     "text": [
      "XVULMBZY\n",
      "yzbmluvx\n",
      "8\n"
     ]
    }
   ],
   "source": [
    "s = 'xvulmbzy'\n",
    "print(s.upper())\n",
    "print(s[::-1])\n",
    "print(len(s))"
   ]
  },
  {
   "cell_type": "code",
   "execution_count": 68,
   "metadata": {},
   "outputs": [
    {
     "name": "stdout",
     "output_type": "stream",
     "text": [
      "ADRLVNLE\n",
      "elnvlrda\n",
      "8\n"
     ]
    }
   ],
   "source": [
    "s = 'adrlvnle'\n",
    "print(s.upper())\n",
    "print(s[::-1])\n",
    "print(len(s))"
   ]
  },
  {
   "cell_type": "code",
   "execution_count": 69,
   "metadata": {},
   "outputs": [
    {
     "name": "stdout",
     "output_type": "stream",
     "text": [
      "SDYEPFNOUX\n",
      "xuonfpeyds\n",
      "10\n"
     ]
    }
   ],
   "source": [
    "s = 'sdyepfnoux'\n",
    "print(s.upper())\n",
    "print(s[::-1])\n",
    "print(len(s))"
   ]
  },
  {
   "cell_type": "code",
   "execution_count": 70,
   "metadata": {},
   "outputs": [
    {
     "name": "stdout",
     "output_type": "stream",
     "text": [
      "EQCPLNVBK\n",
      "kbvnlpcqe\n",
      "9\n"
     ]
    }
   ],
   "source": [
    "s = 'eqcplnvbk'\n",
    "print(s.upper())\n",
    "print(s[::-1])\n",
    "print(len(s))"
   ]
  },
  {
   "cell_type": "code",
   "execution_count": 71,
   "metadata": {},
   "outputs": [
    {
     "name": "stdout",
     "output_type": "stream",
     "text": [
      "WICZAX\n",
      "xazciw\n",
      "6\n"
     ]
    }
   ],
   "source": [
    "s = 'wiczax'\n",
    "print(s.upper())\n",
    "print(s[::-1])\n",
    "print(len(s))"
   ]
  },
  {
   "cell_type": "code",
   "execution_count": 72,
   "metadata": {},
   "outputs": [
    {
     "name": "stdout",
     "output_type": "stream",
     "text": [
      "LSGBWX\n",
      "xwbgsl\n",
      "6\n"
     ]
    }
   ],
   "source": [
    "s = 'lsgbwx'\n",
    "print(s.upper())\n",
    "print(s[::-1])\n",
    "print(len(s))"
   ]
  },
  {
   "cell_type": "code",
   "execution_count": 73,
   "metadata": {},
   "outputs": [
    {
     "name": "stdout",
     "output_type": "stream",
     "text": [
      "YUINANCSLL\n",
      "llscnaniuy\n",
      "10\n"
     ]
    }
   ],
   "source": [
    "s = 'yuinancsll'\n",
    "print(s.upper())\n",
    "print(s[::-1])\n",
    "print(len(s))"
   ]
  },
  {
   "cell_type": "code",
   "execution_count": 74,
   "metadata": {},
   "outputs": [
    {
     "name": "stdout",
     "output_type": "stream",
     "text": [
      "UIPAV\n",
      "vapiu\n",
      "5\n"
     ]
    }
   ],
   "source": [
    "s = 'uipav'\n",
    "print(s.upper())\n",
    "print(s[::-1])\n",
    "print(len(s))"
   ]
  },
  {
   "cell_type": "code",
   "execution_count": 75,
   "metadata": {},
   "outputs": [
    {
     "name": "stdout",
     "output_type": "stream",
     "text": [
      "XAYAX\n",
      "xayax\n",
      "5\n"
     ]
    }
   ],
   "source": [
    "s = 'xayax'\n",
    "print(s.upper())\n",
    "print(s[::-1])\n",
    "print(len(s))"
   ]
  },
  {
   "cell_type": "code",
   "execution_count": 76,
   "metadata": {},
   "outputs": [
    {
     "name": "stdout",
     "output_type": "stream",
     "text": [
      "YSAOPRPYL\n",
      "lyprpoasy\n",
      "9\n"
     ]
    }
   ],
   "source": [
    "s = 'ysaoprpyl'\n",
    "print(s.upper())\n",
    "print(s[::-1])\n",
    "print(len(s))"
   ]
  },
  {
   "cell_type": "code",
   "execution_count": 77,
   "metadata": {},
   "outputs": [
    {
     "name": "stdout",
     "output_type": "stream",
     "text": [
      "TDWQYO\n",
      "oyqwdt\n",
      "6\n"
     ]
    }
   ],
   "source": [
    "s = 'tdwqyo'\n",
    "print(s.upper())\n",
    "print(s[::-1])\n",
    "print(len(s))"
   ]
  },
  {
   "cell_type": "code",
   "execution_count": 78,
   "metadata": {},
   "outputs": [
    {
     "name": "stdout",
     "output_type": "stream",
     "text": [
      "HYYRACKNP\n",
      "pnkcaryyh\n",
      "9\n"
     ]
    }
   ],
   "source": [
    "s = 'hyyracknp'\n",
    "print(s.upper())\n",
    "print(s[::-1])\n",
    "print(len(s))"
   ]
  },
  {
   "cell_type": "code",
   "execution_count": 79,
   "metadata": {},
   "outputs": [
    {
     "name": "stdout",
     "output_type": "stream",
     "text": [
      "WPSCU\n",
      "ucspw\n",
      "5\n"
     ]
    }
   ],
   "source": [
    "s = 'wpscu'\n",
    "print(s.upper())\n",
    "print(s[::-1])\n",
    "print(len(s))"
   ]
  },
  {
   "cell_type": "code",
   "execution_count": 80,
   "metadata": {},
   "outputs": [
    {
     "name": "stdout",
     "output_type": "stream",
     "text": [
      "PGDKKQLG\n",
      "glqkkdgp\n",
      "8\n"
     ]
    }
   ],
   "source": [
    "s = 'pgdkkqlg'\n",
    "print(s.upper())\n",
    "print(s[::-1])\n",
    "print(len(s))"
   ]
  },
  {
   "cell_type": "code",
   "execution_count": 81,
   "metadata": {},
   "outputs": [
    {
     "name": "stdout",
     "output_type": "stream",
     "text": [
      "DKIFHU\n",
      "uhfikd\n",
      "6\n"
     ]
    }
   ],
   "source": [
    "s = 'dkifhu'\n",
    "print(s.upper())\n",
    "print(s[::-1])\n",
    "print(len(s))"
   ]
  },
  {
   "cell_type": "code",
   "execution_count": 82,
   "metadata": {},
   "outputs": [
    {
     "name": "stdout",
     "output_type": "stream",
     "text": [
      "DWRAZYH\n",
      "hyzarwd\n",
      "7\n"
     ]
    }
   ],
   "source": [
    "s = 'dwrazyh'\n",
    "print(s.upper())\n",
    "print(s[::-1])\n",
    "print(len(s))"
   ]
  },
  {
   "cell_type": "code",
   "execution_count": 83,
   "metadata": {},
   "outputs": [
    {
     "name": "stdout",
     "output_type": "stream",
     "text": [
      "CXUVRZPPN\n",
      "nppzrvuxc\n",
      "9\n"
     ]
    }
   ],
   "source": [
    "s = 'cxuvrzppn'\n",
    "print(s.upper())\n",
    "print(s[::-1])\n",
    "print(len(s))"
   ]
  },
  {
   "cell_type": "code",
   "execution_count": 84,
   "metadata": {},
   "outputs": [
    {
     "name": "stdout",
     "output_type": "stream",
     "text": [
      "BIUHQJW\n",
      "wjqhuib\n",
      "7\n"
     ]
    }
   ],
   "source": [
    "s = 'biuhqjw'\n",
    "print(s.upper())\n",
    "print(s[::-1])\n",
    "print(len(s))"
   ]
  },
  {
   "cell_type": "code",
   "execution_count": 85,
   "metadata": {},
   "outputs": [
    {
     "name": "stdout",
     "output_type": "stream",
     "text": [
      "TBOZZXV\n",
      "vxzzobt\n",
      "7\n"
     ]
    }
   ],
   "source": [
    "s = 'tbozzxv'\n",
    "print(s.upper())\n",
    "print(s[::-1])\n",
    "print(len(s))"
   ]
  },
  {
   "cell_type": "code",
   "execution_count": 86,
   "metadata": {},
   "outputs": [
    {
     "name": "stdout",
     "output_type": "stream",
     "text": [
      "NMPZAZT\n",
      "tzazpmn\n",
      "7\n"
     ]
    }
   ],
   "source": [
    "s = 'nmpzazt'\n",
    "print(s.upper())\n",
    "print(s[::-1])\n",
    "print(len(s))"
   ]
  },
  {
   "cell_type": "code",
   "execution_count": 87,
   "metadata": {},
   "outputs": [
    {
     "name": "stdout",
     "output_type": "stream",
     "text": [
      "QWFAQRBB\n",
      "bbrqafwq\n",
      "8\n"
     ]
    }
   ],
   "source": [
    "s = 'qwfaqrbb'\n",
    "print(s.upper())\n",
    "print(s[::-1])\n",
    "print(len(s))"
   ]
  },
  {
   "cell_type": "code",
   "execution_count": 88,
   "metadata": {},
   "outputs": [
    {
     "name": "stdout",
     "output_type": "stream",
     "text": [
      "ZEQSMX\n",
      "xmsqez\n",
      "6\n"
     ]
    }
   ],
   "source": [
    "s = 'zeqsmx'\n",
    "print(s.upper())\n",
    "print(s[::-1])\n",
    "print(len(s))"
   ]
  },
  {
   "cell_type": "code",
   "execution_count": 89,
   "metadata": {},
   "outputs": [
    {
     "name": "stdout",
     "output_type": "stream",
     "text": [
      "NCDEDCPECP\n",
      "pcepcdedcn\n",
      "10\n"
     ]
    }
   ],
   "source": [
    "s = 'ncdedcpecp'\n",
    "print(s.upper())\n",
    "print(s[::-1])\n",
    "print(len(s))"
   ]
  },
  {
   "cell_type": "code",
   "execution_count": 90,
   "metadata": {},
   "outputs": [
    {
     "name": "stdout",
     "output_type": "stream",
     "text": [
      "NCZROSYN\n",
      "nysorzcn\n",
      "8\n"
     ]
    }
   ],
   "source": [
    "s = 'nczrosyn'\n",
    "print(s.upper())\n",
    "print(s[::-1])\n",
    "print(len(s))"
   ]
  },
  {
   "cell_type": "code",
   "execution_count": 91,
   "metadata": {},
   "outputs": [
    {
     "name": "stdout",
     "output_type": "stream",
     "text": [
      "TDKJJPVWU\n",
      "uwvpjjkdt\n",
      "9\n"
     ]
    }
   ],
   "source": [
    "s = 'tdkjjpvwu'\n",
    "print(s.upper())\n",
    "print(s[::-1])\n",
    "print(len(s))"
   ]
  },
  {
   "cell_type": "code",
   "execution_count": 92,
   "metadata": {},
   "outputs": [
    {
     "name": "stdout",
     "output_type": "stream",
     "text": [
      "CTJNYQ\n",
      "qynjtc\n",
      "6\n"
     ]
    }
   ],
   "source": [
    "s = 'ctjnyq'\n",
    "print(s.upper())\n",
    "print(s[::-1])\n",
    "print(len(s))"
   ]
  },
  {
   "cell_type": "code",
   "execution_count": 93,
   "metadata": {},
   "outputs": [
    {
     "name": "stdout",
     "output_type": "stream",
     "text": [
      "VLNLP\n",
      "plnlv\n",
      "5\n"
     ]
    }
   ],
   "source": [
    "s = 'vlnlp'\n",
    "print(s.upper())\n",
    "print(s[::-1])\n",
    "print(len(s))"
   ]
  },
  {
   "cell_type": "code",
   "execution_count": 94,
   "metadata": {},
   "outputs": [
    {
     "name": "stdout",
     "output_type": "stream",
     "text": [
      "BQVHDQMPH\n",
      "hpmqdhvqb\n",
      "9\n"
     ]
    }
   ],
   "source": [
    "s = 'bqvhdqmph'\n",
    "print(s.upper())\n",
    "print(s[::-1])\n",
    "print(len(s))"
   ]
  },
  {
   "cell_type": "code",
   "execution_count": 95,
   "metadata": {},
   "outputs": [
    {
     "name": "stdout",
     "output_type": "stream",
     "text": [
      "HOYNFNAI\n",
      "ianfnyoh\n",
      "8\n"
     ]
    }
   ],
   "source": [
    "s = 'hoynfnai'\n",
    "print(s.upper())\n",
    "print(s[::-1])\n",
    "print(len(s))"
   ]
  },
  {
   "cell_type": "code",
   "execution_count": 96,
   "metadata": {},
   "outputs": [
    {
     "name": "stdout",
     "output_type": "stream",
     "text": [
      "YEFUXCSOI\n",
      "ioscxufey\n",
      "9\n"
     ]
    }
   ],
   "source": [
    "s = 'yefuxcsoi'\n",
    "print(s.upper())\n",
    "print(s[::-1])\n",
    "print(len(s))"
   ]
  },
  {
   "cell_type": "code",
   "execution_count": 97,
   "metadata": {},
   "outputs": [
    {
     "name": "stdout",
     "output_type": "stream",
     "text": [
      "ERXWUF\n",
      "fuwxre\n",
      "6\n"
     ]
    }
   ],
   "source": [
    "s = 'erxwuf'\n",
    "print(s.upper())\n",
    "print(s[::-1])\n",
    "print(len(s))"
   ]
  },
  {
   "cell_type": "code",
   "execution_count": 98,
   "metadata": {},
   "outputs": [
    {
     "name": "stdout",
     "output_type": "stream",
     "text": [
      "UGLAVRAVUG\n",
      "guvarvalgu\n",
      "10\n"
     ]
    }
   ],
   "source": [
    "s = 'uglavravug'\n",
    "print(s.upper())\n",
    "print(s[::-1])\n",
    "print(len(s))"
   ]
  },
  {
   "cell_type": "code",
   "execution_count": 99,
   "metadata": {},
   "outputs": [
    {
     "name": "stdout",
     "output_type": "stream",
     "text": [
      "IPOWLCK\n",
      "kclwopi\n",
      "7\n"
     ]
    }
   ],
   "source": [
    "s = 'ipowlck'\n",
    "print(s.upper())\n",
    "print(s[::-1])\n",
    "print(len(s))"
   ]
  },
  {
   "cell_type": "code",
   "execution_count": 100,
   "metadata": {},
   "outputs": [
    {
     "name": "stdout",
     "output_type": "stream",
     "text": [
      "LJKDV\n",
      "vdkjl\n",
      "5\n"
     ]
    }
   ],
   "source": [
    "s = 'ljkdv'\n",
    "print(s.upper())\n",
    "print(s[::-1])\n",
    "print(len(s))"
   ]
  },
  {
   "cell_type": "code",
   "execution_count": 101,
   "metadata": {},
   "outputs": [
    {
     "name": "stdout",
     "output_type": "stream",
     "text": [
      "QAOLYCMALK\n",
      "klamcyloaq\n",
      "10\n"
     ]
    }
   ],
   "source": [
    "s = 'qaolycmalk'\n",
    "print(s.upper())\n",
    "print(s[::-1])\n",
    "print(len(s))"
   ]
  },
  {
   "cell_type": "code",
   "execution_count": 102,
   "metadata": {},
   "outputs": [
    {
     "name": "stdout",
     "output_type": "stream",
     "text": [
      "GOAUMJZY\n",
      "yzjmuaog\n",
      "8\n"
     ]
    }
   ],
   "source": [
    "s = 'goaumjzy'\n",
    "print(s.upper())\n",
    "print(s[::-1])\n",
    "print(len(s))"
   ]
  },
  {
   "cell_type": "code",
   "execution_count": 103,
   "metadata": {},
   "outputs": [
    {
     "name": "stdout",
     "output_type": "stream",
     "text": [
      "JACTUMEAA\n",
      "aaemutcaj\n",
      "9\n"
     ]
    }
   ],
   "source": [
    "s = 'jactumeaa'\n",
    "print(s.upper())\n",
    "print(s[::-1])\n",
    "print(len(s))"
   ]
  },
  {
   "cell_type": "code",
   "execution_count": 104,
   "metadata": {},
   "outputs": [
    {
     "name": "stdout",
     "output_type": "stream",
     "text": [
      "KXFUMVMCRZ\n",
      "zrcmvmufxk\n",
      "10\n"
     ]
    }
   ],
   "source": [
    "s = 'kxfumvmcrz'\n",
    "print(s.upper())\n",
    "print(s[::-1])\n",
    "print(len(s))"
   ]
  },
  {
   "cell_type": "code",
   "execution_count": 105,
   "metadata": {},
   "outputs": [
    {
     "name": "stdout",
     "output_type": "stream",
     "text": [
      "GCIJIBHIG\n",
      "gihbijicg\n",
      "9\n"
     ]
    }
   ],
   "source": [
    "s = 'gcijibhig'\n",
    "print(s.upper())\n",
    "print(s[::-1])\n",
    "print(len(s))"
   ]
  },
  {
   "cell_type": "code",
   "execution_count": 106,
   "metadata": {},
   "outputs": [
    {
     "name": "stdout",
     "output_type": "stream",
     "text": [
      "AGUHHCJX\n",
      "xjchhuga\n",
      "8\n"
     ]
    }
   ],
   "source": [
    "s = 'aguhhcjx'\n",
    "print(s.upper())\n",
    "print(s[::-1])\n",
    "print(len(s))"
   ]
  },
  {
   "cell_type": "code",
   "execution_count": 107,
   "metadata": {},
   "outputs": [
    {
     "name": "stdout",
     "output_type": "stream",
     "text": [
      "QTBEZEOVQ\n",
      "qvoezebtq\n",
      "9\n"
     ]
    }
   ],
   "source": [
    "s = 'qtbezeovq'\n",
    "print(s.upper())\n",
    "print(s[::-1])\n",
    "print(len(s))"
   ]
  },
  {
   "cell_type": "code",
   "execution_count": 108,
   "metadata": {},
   "outputs": [
    {
     "name": "stdout",
     "output_type": "stream",
     "text": [
      "GZIDLM\n",
      "mldizg\n",
      "6\n"
     ]
    }
   ],
   "source": [
    "s = 'gzidlm'\n",
    "print(s.upper())\n",
    "print(s[::-1])\n",
    "print(len(s))"
   ]
  },
  {
   "cell_type": "code",
   "execution_count": 109,
   "metadata": {},
   "outputs": [
    {
     "name": "stdout",
     "output_type": "stream",
     "text": [
      "URKWIPGV\n",
      "vgpiwkru\n",
      "8\n"
     ]
    }
   ],
   "source": [
    "s = 'urkwipgv'\n",
    "print(s.upper())\n",
    "print(s[::-1])\n",
    "print(len(s))"
   ]
  },
  {
   "cell_type": "code",
   "execution_count": 110,
   "metadata": {},
   "outputs": [
    {
     "name": "stdout",
     "output_type": "stream",
     "text": [
      "ORJHAIRUHT\n",
      "thuriahjro\n",
      "10\n"
     ]
    }
   ],
   "source": [
    "s = 'orjhairuht'\n",
    "print(s.upper())\n",
    "print(s[::-1])\n",
    "print(len(s))"
   ]
  },
  {
   "cell_type": "code",
   "execution_count": 111,
   "metadata": {},
   "outputs": [
    {
     "name": "stdout",
     "output_type": "stream",
     "text": [
      "VMOAZQSA\n",
      "asqzaomv\n",
      "8\n"
     ]
    }
   ],
   "source": [
    "s = 'vmoazqsa'\n",
    "print(s.upper())\n",
    "print(s[::-1])\n",
    "print(len(s))"
   ]
  },
  {
   "cell_type": "code",
   "execution_count": 112,
   "metadata": {},
   "outputs": [
    {
     "name": "stdout",
     "output_type": "stream",
     "text": [
      "FILUFXZ\n",
      "zxfulif\n",
      "7\n"
     ]
    }
   ],
   "source": [
    "s = 'filufxz'\n",
    "print(s.upper())\n",
    "print(s[::-1])\n",
    "print(len(s))"
   ]
  },
  {
   "cell_type": "code",
   "execution_count": 113,
   "metadata": {},
   "outputs": [
    {
     "name": "stdout",
     "output_type": "stream",
     "text": [
      "OPVGUA\n",
      "augvpo\n",
      "6\n"
     ]
    }
   ],
   "source": [
    "s = 'opvgua'\n",
    "print(s.upper())\n",
    "print(s[::-1])\n",
    "print(len(s))"
   ]
  },
  {
   "cell_type": "code",
   "execution_count": 114,
   "metadata": {},
   "outputs": [
    {
     "name": "stdout",
     "output_type": "stream",
     "text": [
      "WSCOL\n",
      "locsw\n",
      "5\n"
     ]
    }
   ],
   "source": [
    "s = 'wscol'\n",
    "print(s.upper())\n",
    "print(s[::-1])\n",
    "print(len(s))"
   ]
  },
  {
   "cell_type": "code",
   "execution_count": 115,
   "metadata": {},
   "outputs": [
    {
     "name": "stdout",
     "output_type": "stream",
     "text": [
      "YVWAHZI\n",
      "izhawvy\n",
      "7\n"
     ]
    }
   ],
   "source": [
    "s = 'yvwahzi'\n",
    "print(s.upper())\n",
    "print(s[::-1])\n",
    "print(len(s))"
   ]
  },
  {
   "cell_type": "code",
   "execution_count": 116,
   "metadata": {},
   "outputs": [
    {
     "name": "stdout",
     "output_type": "stream",
     "text": [
      "XTMSHQSG\n",
      "gsqhsmtx\n",
      "8\n"
     ]
    }
   ],
   "source": [
    "s = 'xtmshqsg'\n",
    "print(s.upper())\n",
    "print(s[::-1])\n",
    "print(len(s))"
   ]
  },
  {
   "cell_type": "code",
   "execution_count": 117,
   "metadata": {},
   "outputs": [
    {
     "name": "stdout",
     "output_type": "stream",
     "text": [
      "CPJBBIEM\n",
      "meibbjpc\n",
      "8\n"
     ]
    }
   ],
   "source": [
    "s = 'cpjbbiem'\n",
    "print(s.upper())\n",
    "print(s[::-1])\n",
    "print(len(s))"
   ]
  },
  {
   "cell_type": "code",
   "execution_count": 118,
   "metadata": {},
   "outputs": [
    {
     "name": "stdout",
     "output_type": "stream",
     "text": [
      "NFRQG\n",
      "gqrfn\n",
      "5\n"
     ]
    }
   ],
   "source": [
    "s = 'nfrqg'\n",
    "print(s.upper())\n",
    "print(s[::-1])\n",
    "print(len(s))"
   ]
  },
  {
   "cell_type": "code",
   "execution_count": 119,
   "metadata": {},
   "outputs": [
    {
     "name": "stdout",
     "output_type": "stream",
     "text": [
      "JOZNHYTCGG\n",
      "ggctyhnzoj\n",
      "10\n"
     ]
    }
   ],
   "source": [
    "s = 'joznhytcgg'\n",
    "print(s.upper())\n",
    "print(s[::-1])\n",
    "print(len(s))"
   ]
  },
  {
   "cell_type": "code",
   "execution_count": 120,
   "metadata": {},
   "outputs": [
    {
     "name": "stdout",
     "output_type": "stream",
     "text": [
      "PYACLC\n",
      "clcayp\n",
      "6\n"
     ]
    }
   ],
   "source": [
    "s = 'pyaclc'\n",
    "print(s.upper())\n",
    "print(s[::-1])\n",
    "print(len(s))"
   ]
  },
  {
   "cell_type": "code",
   "execution_count": 121,
   "metadata": {},
   "outputs": [
    {
     "name": "stdout",
     "output_type": "stream",
     "text": [
      "DJHFZCJ\n",
      "jczfhjd\n",
      "7\n"
     ]
    }
   ],
   "source": [
    "s = 'djhfzcj'\n",
    "print(s.upper())\n",
    "print(s[::-1])\n",
    "print(len(s))"
   ]
  },
  {
   "cell_type": "code",
   "execution_count": 122,
   "metadata": {},
   "outputs": [
    {
     "name": "stdout",
     "output_type": "stream",
     "text": [
      "VBBQRTPWDS\n",
      "sdwptrqbbv\n",
      "10\n"
     ]
    }
   ],
   "source": [
    "s = 'vbbqrtpwds'\n",
    "print(s.upper())\n",
    "print(s[::-1])\n",
    "print(len(s))"
   ]
  },
  {
   "cell_type": "code",
   "execution_count": 123,
   "metadata": {},
   "outputs": [
    {
     "name": "stdout",
     "output_type": "stream",
     "text": [
      "CCKLMJTV\n",
      "vtjmlkcc\n",
      "8\n"
     ]
    }
   ],
   "source": [
    "s = 'ccklmjtv'\n",
    "print(s.upper())\n",
    "print(s[::-1])\n",
    "print(len(s))"
   ]
  },
  {
   "cell_type": "code",
   "execution_count": 124,
   "metadata": {},
   "outputs": [
    {
     "name": "stdout",
     "output_type": "stream",
     "text": [
      "SYGUW\n",
      "wugys\n",
      "5\n"
     ]
    }
   ],
   "source": [
    "s = 'syguw'\n",
    "print(s.upper())\n",
    "print(s[::-1])\n",
    "print(len(s))"
   ]
  },
  {
   "cell_type": "code",
   "execution_count": 125,
   "metadata": {},
   "outputs": [
    {
     "name": "stdout",
     "output_type": "stream",
     "text": [
      "EJMRQK\n",
      "kqrmje\n",
      "6\n"
     ]
    }
   ],
   "source": [
    "s = 'ejmrqk'\n",
    "print(s.upper())\n",
    "print(s[::-1])\n",
    "print(len(s))"
   ]
  },
  {
   "cell_type": "code",
   "execution_count": 126,
   "metadata": {},
   "outputs": [
    {
     "name": "stdout",
     "output_type": "stream",
     "text": [
      "MKFQRALHC\n",
      "chlarqfkm\n",
      "9\n"
     ]
    }
   ],
   "source": [
    "s = 'mkfqralhc'\n",
    "print(s.upper())\n",
    "print(s[::-1])\n",
    "print(len(s))"
   ]
  },
  {
   "cell_type": "code",
   "execution_count": 127,
   "metadata": {},
   "outputs": [
    {
     "name": "stdout",
     "output_type": "stream",
     "text": [
      "AIHFWXBYW\n",
      "wybxwfhia\n",
      "9\n"
     ]
    }
   ],
   "source": [
    "s = 'aihfwxbyw'\n",
    "print(s.upper())\n",
    "print(s[::-1])\n",
    "print(len(s))"
   ]
  },
  {
   "cell_type": "code",
   "execution_count": 128,
   "metadata": {},
   "outputs": [
    {
     "name": "stdout",
     "output_type": "stream",
     "text": [
      "ILSYCEO\n",
      "oecysli\n",
      "7\n"
     ]
    }
   ],
   "source": [
    "s = 'ilsyceo'\n",
    "print(s.upper())\n",
    "print(s[::-1])\n",
    "print(len(s))"
   ]
  },
  {
   "cell_type": "code",
   "execution_count": 129,
   "metadata": {},
   "outputs": [
    {
     "name": "stdout",
     "output_type": "stream",
     "text": [
      "PVEUNWUDKF\n",
      "fkduwnuevp\n",
      "10\n"
     ]
    }
   ],
   "source": [
    "s = 'pveunwudkf'\n",
    "print(s.upper())\n",
    "print(s[::-1])\n",
    "print(len(s))"
   ]
  },
  {
   "cell_type": "code",
   "execution_count": 130,
   "metadata": {},
   "outputs": [
    {
     "name": "stdout",
     "output_type": "stream",
     "text": [
      "JFVPZUAB\n",
      "bauzpvfj\n",
      "8\n"
     ]
    }
   ],
   "source": [
    "s = 'jfvpzuab'\n",
    "print(s.upper())\n",
    "print(s[::-1])\n",
    "print(len(s))"
   ]
  },
  {
   "cell_type": "code",
   "execution_count": 131,
   "metadata": {},
   "outputs": [
    {
     "name": "stdout",
     "output_type": "stream",
     "text": [
      "QFFJEAFX\n",
      "xfaejffq\n",
      "8\n"
     ]
    }
   ],
   "source": [
    "s = 'qffjeafx'\n",
    "print(s.upper())\n",
    "print(s[::-1])\n",
    "print(len(s))"
   ]
  },
  {
   "cell_type": "code",
   "execution_count": 132,
   "metadata": {},
   "outputs": [
    {
     "name": "stdout",
     "output_type": "stream",
     "text": [
      "DVPDRD\n",
      "drdpvd\n",
      "6\n"
     ]
    }
   ],
   "source": [
    "s = 'dvpdrd'\n",
    "print(s.upper())\n",
    "print(s[::-1])\n",
    "print(len(s))"
   ]
  },
  {
   "cell_type": "code",
   "execution_count": 133,
   "metadata": {},
   "outputs": [
    {
     "name": "stdout",
     "output_type": "stream",
     "text": [
      "QZQKK\n",
      "kkqzq\n",
      "5\n"
     ]
    }
   ],
   "source": [
    "s = 'qzqkk'\n",
    "print(s.upper())\n",
    "print(s[::-1])\n",
    "print(len(s))"
   ]
  },
  {
   "cell_type": "code",
   "execution_count": 134,
   "metadata": {},
   "outputs": [
    {
     "name": "stdout",
     "output_type": "stream",
     "text": [
      "MGOMXWTM\n",
      "mtwxmogm\n",
      "8\n"
     ]
    }
   ],
   "source": [
    "s = 'mgomxwtm'\n",
    "print(s.upper())\n",
    "print(s[::-1])\n",
    "print(len(s))"
   ]
  },
  {
   "cell_type": "code",
   "execution_count": 135,
   "metadata": {},
   "outputs": [
    {
     "name": "stdout",
     "output_type": "stream",
     "text": [
      "TPCVNEXBC\n",
      "cbxenvcpt\n",
      "9\n"
     ]
    }
   ],
   "source": [
    "s = 'tpcvnexbc'\n",
    "print(s.upper())\n",
    "print(s[::-1])\n",
    "print(len(s))"
   ]
  },
  {
   "cell_type": "code",
   "execution_count": 136,
   "metadata": {},
   "outputs": [
    {
     "name": "stdout",
     "output_type": "stream",
     "text": [
      "DYNRUFI\n",
      "ifurnyd\n",
      "7\n"
     ]
    }
   ],
   "source": [
    "s = 'dynrufi'\n",
    "print(s.upper())\n",
    "print(s[::-1])\n",
    "print(len(s))"
   ]
  },
  {
   "cell_type": "code",
   "execution_count": 137,
   "metadata": {},
   "outputs": [
    {
     "name": "stdout",
     "output_type": "stream",
     "text": [
      "TOGQPJUP\n",
      "pujpqgot\n",
      "8\n"
     ]
    }
   ],
   "source": [
    "s = 'togqpjup'\n",
    "print(s.upper())\n",
    "print(s[::-1])\n",
    "print(len(s))"
   ]
  },
  {
   "cell_type": "code",
   "execution_count": 138,
   "metadata": {},
   "outputs": [
    {
     "name": "stdout",
     "output_type": "stream",
     "text": [
      "EUVHDPO\n",
      "opdhvue\n",
      "7\n"
     ]
    }
   ],
   "source": [
    "s = 'euvhdpo'\n",
    "print(s.upper())\n",
    "print(s[::-1])\n",
    "print(len(s))"
   ]
  },
  {
   "cell_type": "code",
   "execution_count": 139,
   "metadata": {},
   "outputs": [
    {
     "name": "stdout",
     "output_type": "stream",
     "text": [
      "FNMSZSUIN\n",
      "niuszsmnf\n",
      "9\n"
     ]
    }
   ],
   "source": [
    "s = 'fnmszsuin'\n",
    "print(s.upper())\n",
    "print(s[::-1])\n",
    "print(len(s))"
   ]
  },
  {
   "cell_type": "code",
   "execution_count": 140,
   "metadata": {},
   "outputs": [
    {
     "name": "stdout",
     "output_type": "stream",
     "text": [
      "PCKNMWK\n",
      "kwmnkcp\n",
      "7\n"
     ]
    }
   ],
   "source": [
    "s = 'pcknmwk'\n",
    "print(s.upper())\n",
    "print(s[::-1])\n",
    "print(len(s))"
   ]
  },
  {
   "cell_type": "code",
   "execution_count": 141,
   "metadata": {},
   "outputs": [
    {
     "name": "stdout",
     "output_type": "stream",
     "text": [
      "QMPKEBPD\n",
      "dpbekpmq\n",
      "8\n"
     ]
    }
   ],
   "source": [
    "s = 'qmpkebpd'\n",
    "print(s.upper())\n",
    "print(s[::-1])\n",
    "print(len(s))"
   ]
  },
  {
   "cell_type": "code",
   "execution_count": 142,
   "metadata": {},
   "outputs": [
    {
     "name": "stdout",
     "output_type": "stream",
     "text": [
      "ACTLF\n",
      "fltca\n",
      "5\n"
     ]
    }
   ],
   "source": [
    "s = 'actlf'\n",
    "print(s.upper())\n",
    "print(s[::-1])\n",
    "print(len(s))"
   ]
  },
  {
   "cell_type": "code",
   "execution_count": 143,
   "metadata": {},
   "outputs": [
    {
     "name": "stdout",
     "output_type": "stream",
     "text": [
      "TYZMVIMTD\n",
      "dtmivmzyt\n",
      "9\n"
     ]
    }
   ],
   "source": [
    "s = 'tyzmvimtd'\n",
    "print(s.upper())\n",
    "print(s[::-1])\n",
    "print(len(s))"
   ]
  },
  {
   "cell_type": "code",
   "execution_count": 144,
   "metadata": {},
   "outputs": [
    {
     "name": "stdout",
     "output_type": "stream",
     "text": [
      "ZSDJZVKGD\n",
      "dgkvzjdsz\n",
      "9\n"
     ]
    }
   ],
   "source": [
    "s = 'zsdjzvkgd'\n",
    "print(s.upper())\n",
    "print(s[::-1])\n",
    "print(len(s))"
   ]
  },
  {
   "cell_type": "code",
   "execution_count": 145,
   "metadata": {},
   "outputs": [
    {
     "name": "stdout",
     "output_type": "stream",
     "text": [
      "UNSUI\n",
      "iusnu\n",
      "5\n"
     ]
    }
   ],
   "source": [
    "s = 'unsui'\n",
    "print(s.upper())\n",
    "print(s[::-1])\n",
    "print(len(s))"
   ]
  },
  {
   "cell_type": "code",
   "execution_count": 146,
   "metadata": {},
   "outputs": [
    {
     "name": "stdout",
     "output_type": "stream",
     "text": [
      "QONVSQFLG\n",
      "glfqsvnoq\n",
      "9\n"
     ]
    }
   ],
   "source": [
    "s = 'qonvsqflg'\n",
    "print(s.upper())\n",
    "print(s[::-1])\n",
    "print(len(s))"
   ]
  },
  {
   "cell_type": "code",
   "execution_count": 147,
   "metadata": {},
   "outputs": [
    {
     "name": "stdout",
     "output_type": "stream",
     "text": [
      "YJMWCMSXR\n",
      "rxsmcwmjy\n",
      "9\n"
     ]
    }
   ],
   "source": [
    "s = 'yjmwcmsxr'\n",
    "print(s.upper())\n",
    "print(s[::-1])\n",
    "print(len(s))"
   ]
  },
  {
   "cell_type": "code",
   "execution_count": 148,
   "metadata": {},
   "outputs": [
    {
     "name": "stdout",
     "output_type": "stream",
     "text": [
      "QRKVNRBYLT\n",
      "tlybrnvkrq\n",
      "10\n"
     ]
    }
   ],
   "source": [
    "s = 'qrkvnrbylt'\n",
    "print(s.upper())\n",
    "print(s[::-1])\n",
    "print(len(s))"
   ]
  },
  {
   "cell_type": "code",
   "execution_count": 149,
   "metadata": {},
   "outputs": [
    {
     "name": "stdout",
     "output_type": "stream",
     "text": [
      "SOODSLZV\n",
      "vzlsdoos\n",
      "8\n"
     ]
    }
   ],
   "source": [
    "s = 'soodslzv'\n",
    "print(s.upper())\n",
    "print(s[::-1])\n",
    "print(len(s))"
   ]
  },
  {
   "cell_type": "code",
   "execution_count": 150,
   "metadata": {},
   "outputs": [
    {
     "name": "stdout",
     "output_type": "stream",
     "text": [
      "CKNPIJPVKK\n",
      "kkvpjipnkc\n",
      "10\n"
     ]
    }
   ],
   "source": [
    "s = 'cknpijpvkk'\n",
    "print(s.upper())\n",
    "print(s[::-1])\n",
    "print(len(s))"
   ]
  },
  {
   "cell_type": "code",
   "execution_count": 151,
   "metadata": {},
   "outputs": [
    {
     "name": "stdout",
     "output_type": "stream",
     "text": [
      "[73, 47, 73, 56, 48, 149]\n",
      "[47, 48, 56, 73, 73, 149]\n"
     ]
    }
   ],
   "source": [
    "lst = [73, 47, 73, 56, 48]\n",
    "lst.append(149)\n",
    "print(lst)\n",
    "print(sorted(lst))"
   ]
  },
  {
   "cell_type": "code",
   "execution_count": 152,
   "metadata": {},
   "outputs": [
    {
     "name": "stdout",
     "output_type": "stream",
     "text": [
      "[65, 100, 11, 3, 144]\n",
      "[3, 11, 65, 100, 144]\n"
     ]
    }
   ],
   "source": [
    "lst = [65, 100, 11, 3]\n",
    "lst.append(144)\n",
    "print(lst)\n",
    "print(sorted(lst))"
   ]
  },
  {
   "cell_type": "code",
   "execution_count": 153,
   "metadata": {},
   "outputs": [
    {
     "name": "stdout",
     "output_type": "stream",
     "text": [
      "[53, 71, 4, 77, 91, 20, 157]\n",
      "[4, 20, 53, 71, 77, 91, 157]\n"
     ]
    }
   ],
   "source": [
    "lst = [53, 71, 4, 77, 91, 20]\n",
    "lst.append(157)\n",
    "print(lst)\n",
    "print(sorted(lst))"
   ]
  },
  {
   "cell_type": "code",
   "execution_count": 154,
   "metadata": {},
   "outputs": [
    {
     "name": "stdout",
     "output_type": "stream",
     "text": [
      "[43, 42, 82, 54, 1, 82, 144]\n",
      "[1, 42, 43, 54, 82, 82, 144]\n"
     ]
    }
   ],
   "source": [
    "lst = [43, 42, 82, 54, 1, 82]\n",
    "lst.append(144)\n",
    "print(lst)\n",
    "print(sorted(lst))"
   ]
  },
  {
   "cell_type": "code",
   "execution_count": 155,
   "metadata": {},
   "outputs": [
    {
     "name": "stdout",
     "output_type": "stream",
     "text": [
      "[22, 86, 68, 27, 28, 106]\n",
      "[22, 27, 28, 68, 86, 106]\n"
     ]
    }
   ],
   "source": [
    "lst = [22, 86, 68, 27, 28]\n",
    "lst.append(106)\n",
    "print(lst)\n",
    "print(sorted(lst))"
   ]
  },
  {
   "cell_type": "code",
   "execution_count": 156,
   "metadata": {},
   "outputs": [
    {
     "name": "stdout",
     "output_type": "stream",
     "text": [
      "[14, 16, 33, 96, 181]\n",
      "[14, 16, 33, 96, 181]\n"
     ]
    }
   ],
   "source": [
    "lst = [14, 16, 33, 96]\n",
    "lst.append(181)\n",
    "print(lst)\n",
    "print(sorted(lst))"
   ]
  },
  {
   "cell_type": "code",
   "execution_count": 157,
   "metadata": {},
   "outputs": [
    {
     "name": "stdout",
     "output_type": "stream",
     "text": [
      "[94, 23, 70, 147]\n",
      "[23, 70, 94, 147]\n"
     ]
    }
   ],
   "source": [
    "lst = [94, 23, 70]\n",
    "lst.append(147)\n",
    "print(lst)\n",
    "print(sorted(lst))"
   ]
  },
  {
   "cell_type": "code",
   "execution_count": 158,
   "metadata": {},
   "outputs": [
    {
     "name": "stdout",
     "output_type": "stream",
     "text": [
      "[11, 82, 94, 133]\n",
      "[11, 82, 94, 133]\n"
     ]
    }
   ],
   "source": [
    "lst = [11, 82, 94]\n",
    "lst.append(133)\n",
    "print(lst)\n",
    "print(sorted(lst))"
   ]
  },
  {
   "cell_type": "code",
   "execution_count": 159,
   "metadata": {},
   "outputs": [
    {
     "name": "stdout",
     "output_type": "stream",
     "text": [
      "[93, 11, 92, 76, 40, 97, 192]\n",
      "[11, 40, 76, 92, 93, 97, 192]\n"
     ]
    }
   ],
   "source": [
    "lst = [93, 11, 92, 76, 40, 97]\n",
    "lst.append(192)\n",
    "print(lst)\n",
    "print(sorted(lst))"
   ]
  },
  {
   "cell_type": "code",
   "execution_count": 160,
   "metadata": {},
   "outputs": [
    {
     "name": "stdout",
     "output_type": "stream",
     "text": [
      "[76, 19, 60, 38, 16, 141]\n",
      "[16, 19, 38, 60, 76, 141]\n"
     ]
    }
   ],
   "source": [
    "lst = [76, 19, 60, 38, 16]\n",
    "lst.append(141)\n",
    "print(lst)\n",
    "print(sorted(lst))"
   ]
  },
  {
   "cell_type": "code",
   "execution_count": 161,
   "metadata": {},
   "outputs": [
    {
     "name": "stdout",
     "output_type": "stream",
     "text": [
      "[51, 35, 99, 82, 119]\n",
      "[35, 51, 82, 99, 119]\n"
     ]
    }
   ],
   "source": [
    "lst = [51, 35, 99, 82]\n",
    "lst.append(119)\n",
    "print(lst)\n",
    "print(sorted(lst))"
   ]
  },
  {
   "cell_type": "code",
   "execution_count": 162,
   "metadata": {},
   "outputs": [
    {
     "name": "stdout",
     "output_type": "stream",
     "text": [
      "[75, 53, 43, 51, 45, 24, 123]\n",
      "[24, 43, 45, 51, 53, 75, 123]\n"
     ]
    }
   ],
   "source": [
    "lst = [75, 53, 43, 51, 45, 24]\n",
    "lst.append(123)\n",
    "print(lst)\n",
    "print(sorted(lst))"
   ]
  },
  {
   "cell_type": "code",
   "execution_count": 163,
   "metadata": {},
   "outputs": [
    {
     "name": "stdout",
     "output_type": "stream",
     "text": [
      "[55, 32, 37, 34, 3, 58, 111]\n",
      "[3, 32, 34, 37, 55, 58, 111]\n"
     ]
    }
   ],
   "source": [
    "lst = [55, 32, 37, 34, 3, 58]\n",
    "lst.append(111)\n",
    "print(lst)\n",
    "print(sorted(lst))"
   ]
  },
  {
   "cell_type": "code",
   "execution_count": 164,
   "metadata": {},
   "outputs": [
    {
     "name": "stdout",
     "output_type": "stream",
     "text": [
      "[16, 75, 77, 73, 91, 75, 140]\n",
      "[16, 73, 75, 75, 77, 91, 140]\n"
     ]
    }
   ],
   "source": [
    "lst = [16, 75, 77, 73, 91, 75]\n",
    "lst.append(140)\n",
    "print(lst)\n",
    "print(sorted(lst))"
   ]
  },
  {
   "cell_type": "code",
   "execution_count": 165,
   "metadata": {},
   "outputs": [
    {
     "name": "stdout",
     "output_type": "stream",
     "text": [
      "[3, 6, 60, 133]\n",
      "[3, 6, 60, 133]\n"
     ]
    }
   ],
   "source": [
    "lst = [3, 6, 60]\n",
    "lst.append(133)\n",
    "print(lst)\n",
    "print(sorted(lst))"
   ]
  },
  {
   "cell_type": "code",
   "execution_count": 166,
   "metadata": {},
   "outputs": [
    {
     "name": "stdout",
     "output_type": "stream",
     "text": [
      "[6, 87, 82, 184]\n",
      "[6, 82, 87, 184]\n"
     ]
    }
   ],
   "source": [
    "lst = [6, 87, 82]\n",
    "lst.append(184)\n",
    "print(lst)\n",
    "print(sorted(lst))"
   ]
  },
  {
   "cell_type": "code",
   "execution_count": 167,
   "metadata": {},
   "outputs": [
    {
     "name": "stdout",
     "output_type": "stream",
     "text": [
      "[67, 10, 21, 10, 39, 120]\n",
      "[10, 10, 21, 39, 67, 120]\n"
     ]
    }
   ],
   "source": [
    "lst = [67, 10, 21, 10, 39]\n",
    "lst.append(120)\n",
    "print(lst)\n",
    "print(sorted(lst))"
   ]
  },
  {
   "cell_type": "code",
   "execution_count": 168,
   "metadata": {},
   "outputs": [
    {
     "name": "stdout",
     "output_type": "stream",
     "text": [
      "[100, 27, 96, 57, 31, 112]\n",
      "[27, 31, 57, 96, 100, 112]\n"
     ]
    }
   ],
   "source": [
    "lst = [100, 27, 96, 57, 31]\n",
    "lst.append(112)\n",
    "print(lst)\n",
    "print(sorted(lst))"
   ]
  },
  {
   "cell_type": "code",
   "execution_count": 169,
   "metadata": {},
   "outputs": [
    {
     "name": "stdout",
     "output_type": "stream",
     "text": [
      "[80, 6, 8, 144]\n",
      "[6, 8, 80, 144]\n"
     ]
    }
   ],
   "source": [
    "lst = [80, 6, 8]\n",
    "lst.append(144)\n",
    "print(lst)\n",
    "print(sorted(lst))"
   ]
  },
  {
   "cell_type": "code",
   "execution_count": 170,
   "metadata": {},
   "outputs": [
    {
     "name": "stdout",
     "output_type": "stream",
     "text": [
      "[1, 97, 2, 186]\n",
      "[1, 2, 97, 186]\n"
     ]
    }
   ],
   "source": [
    "lst = [1, 97, 2]\n",
    "lst.append(186)\n",
    "print(lst)\n",
    "print(sorted(lst))"
   ]
  },
  {
   "cell_type": "code",
   "execution_count": 171,
   "metadata": {},
   "outputs": [
    {
     "name": "stdout",
     "output_type": "stream",
     "text": [
      "[51, 95, 39, 40, 43, 197]\n",
      "[39, 40, 43, 51, 95, 197]\n"
     ]
    }
   ],
   "source": [
    "lst = [51, 95, 39, 40, 43]\n",
    "lst.append(197)\n",
    "print(lst)\n",
    "print(sorted(lst))"
   ]
  },
  {
   "cell_type": "code",
   "execution_count": 172,
   "metadata": {},
   "outputs": [
    {
     "name": "stdout",
     "output_type": "stream",
     "text": [
      "[79, 76, 51, 83, 25, 173]\n",
      "[25, 51, 76, 79, 83, 173]\n"
     ]
    }
   ],
   "source": [
    "lst = [79, 76, 51, 83, 25]\n",
    "lst.append(173)\n",
    "print(lst)\n",
    "print(sorted(lst))"
   ]
  },
  {
   "cell_type": "code",
   "execution_count": 173,
   "metadata": {},
   "outputs": [
    {
     "name": "stdout",
     "output_type": "stream",
     "text": [
      "[38, 12, 66, 18, 61, 195]\n",
      "[12, 18, 38, 61, 66, 195]\n"
     ]
    }
   ],
   "source": [
    "lst = [38, 12, 66, 18, 61]\n",
    "lst.append(195)\n",
    "print(lst)\n",
    "print(sorted(lst))"
   ]
  },
  {
   "cell_type": "code",
   "execution_count": 174,
   "metadata": {},
   "outputs": [
    {
     "name": "stdout",
     "output_type": "stream",
     "text": [
      "[88, 16, 68, 162]\n",
      "[16, 68, 88, 162]\n"
     ]
    }
   ],
   "source": [
    "lst = [88, 16, 68]\n",
    "lst.append(162)\n",
    "print(lst)\n",
    "print(sorted(lst))"
   ]
  },
  {
   "cell_type": "code",
   "execution_count": 175,
   "metadata": {},
   "outputs": [
    {
     "name": "stdout",
     "output_type": "stream",
     "text": [
      "[65, 29, 22, 99, 127]\n",
      "[22, 29, 65, 99, 127]\n"
     ]
    }
   ],
   "source": [
    "lst = [65, 29, 22, 99]\n",
    "lst.append(127)\n",
    "print(lst)\n",
    "print(sorted(lst))"
   ]
  },
  {
   "cell_type": "code",
   "execution_count": 176,
   "metadata": {},
   "outputs": [
    {
     "name": "stdout",
     "output_type": "stream",
     "text": [
      "[23, 40, 56, 9, 101]\n",
      "[9, 23, 40, 56, 101]\n"
     ]
    }
   ],
   "source": [
    "lst = [23, 40, 56, 9]\n",
    "lst.append(101)\n",
    "print(lst)\n",
    "print(sorted(lst))"
   ]
  },
  {
   "cell_type": "code",
   "execution_count": 177,
   "metadata": {},
   "outputs": [
    {
     "name": "stdout",
     "output_type": "stream",
     "text": [
      "[8, 45, 74, 123]\n",
      "[8, 45, 74, 123]\n"
     ]
    }
   ],
   "source": [
    "lst = [8, 45, 74]\n",
    "lst.append(123)\n",
    "print(lst)\n",
    "print(sorted(lst))"
   ]
  },
  {
   "cell_type": "code",
   "execution_count": 178,
   "metadata": {},
   "outputs": [
    {
     "name": "stdout",
     "output_type": "stream",
     "text": [
      "[45, 67, 5, 37, 10, 6, 157]\n",
      "[5, 6, 10, 37, 45, 67, 157]\n"
     ]
    }
   ],
   "source": [
    "lst = [45, 67, 5, 37, 10, 6]\n",
    "lst.append(157)\n",
    "print(lst)\n",
    "print(sorted(lst))"
   ]
  },
  {
   "cell_type": "code",
   "execution_count": 179,
   "metadata": {},
   "outputs": [
    {
     "name": "stdout",
     "output_type": "stream",
     "text": [
      "[26, 71, 5, 99, 27, 180]\n",
      "[5, 26, 27, 71, 99, 180]\n"
     ]
    }
   ],
   "source": [
    "lst = [26, 71, 5, 99, 27]\n",
    "lst.append(180)\n",
    "print(lst)\n",
    "print(sorted(lst))"
   ]
  },
  {
   "cell_type": "code",
   "execution_count": 180,
   "metadata": {},
   "outputs": [
    {
     "name": "stdout",
     "output_type": "stream",
     "text": [
      "[37, 48, 41, 133]\n",
      "[37, 41, 48, 133]\n"
     ]
    }
   ],
   "source": [
    "lst = [37, 48, 41]\n",
    "lst.append(133)\n",
    "print(lst)\n",
    "print(sorted(lst))"
   ]
  },
  {
   "cell_type": "code",
   "execution_count": 181,
   "metadata": {},
   "outputs": [
    {
     "name": "stdout",
     "output_type": "stream",
     "text": [
      "[68, 42, 12, 120]\n",
      "[12, 42, 68, 120]\n"
     ]
    }
   ],
   "source": [
    "lst = [68, 42, 12]\n",
    "lst.append(120)\n",
    "print(lst)\n",
    "print(sorted(lst))"
   ]
  },
  {
   "cell_type": "code",
   "execution_count": 182,
   "metadata": {},
   "outputs": [
    {
     "name": "stdout",
     "output_type": "stream",
     "text": [
      "[19, 44, 63, 82, 60, 13, 146]\n",
      "[13, 19, 44, 60, 63, 82, 146]\n"
     ]
    }
   ],
   "source": [
    "lst = [19, 44, 63, 82, 60, 13]\n",
    "lst.append(146)\n",
    "print(lst)\n",
    "print(sorted(lst))"
   ]
  },
  {
   "cell_type": "code",
   "execution_count": 183,
   "metadata": {},
   "outputs": [
    {
     "name": "stdout",
     "output_type": "stream",
     "text": [
      "[59, 34, 90, 27, 25, 28, 182]\n",
      "[25, 27, 28, 34, 59, 90, 182]\n"
     ]
    }
   ],
   "source": [
    "lst = [59, 34, 90, 27, 25, 28]\n",
    "lst.append(182)\n",
    "print(lst)\n",
    "print(sorted(lst))"
   ]
  },
  {
   "cell_type": "code",
   "execution_count": 184,
   "metadata": {},
   "outputs": [
    {
     "name": "stdout",
     "output_type": "stream",
     "text": [
      "[4, 20, 74, 22, 14, 39, 108]\n",
      "[4, 14, 20, 22, 39, 74, 108]\n"
     ]
    }
   ],
   "source": [
    "lst = [4, 20, 74, 22, 14, 39]\n",
    "lst.append(108)\n",
    "print(lst)\n",
    "print(sorted(lst))"
   ]
  },
  {
   "cell_type": "code",
   "execution_count": 185,
   "metadata": {},
   "outputs": [
    {
     "name": "stdout",
     "output_type": "stream",
     "text": [
      "[4, 100, 42, 117]\n",
      "[4, 42, 100, 117]\n"
     ]
    }
   ],
   "source": [
    "lst = [4, 100, 42]\n",
    "lst.append(117)\n",
    "print(lst)\n",
    "print(sorted(lst))"
   ]
  },
  {
   "cell_type": "code",
   "execution_count": 186,
   "metadata": {},
   "outputs": [
    {
     "name": "stdout",
     "output_type": "stream",
     "text": [
      "[2, 78, 63, 77, 136]\n",
      "[2, 63, 77, 78, 136]\n"
     ]
    }
   ],
   "source": [
    "lst = [2, 78, 63, 77]\n",
    "lst.append(136)\n",
    "print(lst)\n",
    "print(sorted(lst))"
   ]
  },
  {
   "cell_type": "code",
   "execution_count": 187,
   "metadata": {},
   "outputs": [
    {
     "name": "stdout",
     "output_type": "stream",
     "text": [
      "[88, 28, 64, 102]\n",
      "[28, 64, 88, 102]\n"
     ]
    }
   ],
   "source": [
    "lst = [88, 28, 64]\n",
    "lst.append(102)\n",
    "print(lst)\n",
    "print(sorted(lst))"
   ]
  },
  {
   "cell_type": "code",
   "execution_count": 188,
   "metadata": {},
   "outputs": [
    {
     "name": "stdout",
     "output_type": "stream",
     "text": [
      "[35, 40, 67, 152]\n",
      "[35, 40, 67, 152]\n"
     ]
    }
   ],
   "source": [
    "lst = [35, 40, 67]\n",
    "lst.append(152)\n",
    "print(lst)\n",
    "print(sorted(lst))"
   ]
  },
  {
   "cell_type": "code",
   "execution_count": 189,
   "metadata": {},
   "outputs": [
    {
     "name": "stdout",
     "output_type": "stream",
     "text": [
      "[99, 19, 62, 85, 8, 51, 177]\n",
      "[8, 19, 51, 62, 85, 99, 177]\n"
     ]
    }
   ],
   "source": [
    "lst = [99, 19, 62, 85, 8, 51]\n",
    "lst.append(177)\n",
    "print(lst)\n",
    "print(sorted(lst))"
   ]
  },
  {
   "cell_type": "code",
   "execution_count": 190,
   "metadata": {},
   "outputs": [
    {
     "name": "stdout",
     "output_type": "stream",
     "text": [
      "[42, 88, 67, 199]\n",
      "[42, 67, 88, 199]\n"
     ]
    }
   ],
   "source": [
    "lst = [42, 88, 67]\n",
    "lst.append(199)\n",
    "print(lst)\n",
    "print(sorted(lst))"
   ]
  },
  {
   "cell_type": "code",
   "execution_count": 191,
   "metadata": {},
   "outputs": [
    {
     "name": "stdout",
     "output_type": "stream",
     "text": [
      "[23, 16, 4, 60, 86, 41, 121]\n",
      "[4, 16, 23, 41, 60, 86, 121]\n"
     ]
    }
   ],
   "source": [
    "lst = [23, 16, 4, 60, 86, 41]\n",
    "lst.append(121)\n",
    "print(lst)\n",
    "print(sorted(lst))"
   ]
  },
  {
   "cell_type": "code",
   "execution_count": 192,
   "metadata": {},
   "outputs": [
    {
     "name": "stdout",
     "output_type": "stream",
     "text": [
      "[25, 4, 80, 53, 18, 50, 187]\n",
      "[4, 18, 25, 50, 53, 80, 187]\n"
     ]
    }
   ],
   "source": [
    "lst = [25, 4, 80, 53, 18, 50]\n",
    "lst.append(187)\n",
    "print(lst)\n",
    "print(sorted(lst))"
   ]
  },
  {
   "cell_type": "code",
   "execution_count": 193,
   "metadata": {},
   "outputs": [
    {
     "name": "stdout",
     "output_type": "stream",
     "text": [
      "[97, 89, 63, 44, 46, 96, 114]\n",
      "[44, 46, 63, 89, 96, 97, 114]\n"
     ]
    }
   ],
   "source": [
    "lst = [97, 89, 63, 44, 46, 96]\n",
    "lst.append(114)\n",
    "print(lst)\n",
    "print(sorted(lst))"
   ]
  },
  {
   "cell_type": "code",
   "execution_count": 194,
   "metadata": {},
   "outputs": [
    {
     "name": "stdout",
     "output_type": "stream",
     "text": [
      "[92, 71, 69, 54, 111]\n",
      "[54, 69, 71, 92, 111]\n"
     ]
    }
   ],
   "source": [
    "lst = [92, 71, 69, 54]\n",
    "lst.append(111)\n",
    "print(lst)\n",
    "print(sorted(lst))"
   ]
  },
  {
   "cell_type": "code",
   "execution_count": 195,
   "metadata": {},
   "outputs": [
    {
     "name": "stdout",
     "output_type": "stream",
     "text": [
      "[98, 51, 3, 131]\n",
      "[3, 51, 98, 131]\n"
     ]
    }
   ],
   "source": [
    "lst = [98, 51, 3]\n",
    "lst.append(131)\n",
    "print(lst)\n",
    "print(sorted(lst))"
   ]
  },
  {
   "cell_type": "code",
   "execution_count": 196,
   "metadata": {},
   "outputs": [
    {
     "name": "stdout",
     "output_type": "stream",
     "text": [
      "[81, 73, 59, 41, 140]\n",
      "[41, 59, 73, 81, 140]\n"
     ]
    }
   ],
   "source": [
    "lst = [81, 73, 59, 41]\n",
    "lst.append(140)\n",
    "print(lst)\n",
    "print(sorted(lst))"
   ]
  },
  {
   "cell_type": "code",
   "execution_count": 197,
   "metadata": {},
   "outputs": [
    {
     "name": "stdout",
     "output_type": "stream",
     "text": [
      "[17, 36, 59, 93, 44, 49, 129]\n",
      "[17, 36, 44, 49, 59, 93, 129]\n"
     ]
    }
   ],
   "source": [
    "lst = [17, 36, 59, 93, 44, 49]\n",
    "lst.append(129)\n",
    "print(lst)\n",
    "print(sorted(lst))"
   ]
  },
  {
   "cell_type": "code",
   "execution_count": 198,
   "metadata": {},
   "outputs": [
    {
     "name": "stdout",
     "output_type": "stream",
     "text": [
      "[76, 77, 22, 95, 2, 139]\n",
      "[2, 22, 76, 77, 95, 139]\n"
     ]
    }
   ],
   "source": [
    "lst = [76, 77, 22, 95, 2]\n",
    "lst.append(139)\n",
    "print(lst)\n",
    "print(sorted(lst))"
   ]
  },
  {
   "cell_type": "code",
   "execution_count": 199,
   "metadata": {},
   "outputs": [
    {
     "name": "stdout",
     "output_type": "stream",
     "text": [
      "[99, 89, 96, 12, 54, 41, 185]\n",
      "[12, 41, 54, 89, 96, 99, 185]\n"
     ]
    }
   ],
   "source": [
    "lst = [99, 89, 96, 12, 54, 41]\n",
    "lst.append(185)\n",
    "print(lst)\n",
    "print(sorted(lst))"
   ]
  },
  {
   "cell_type": "code",
   "execution_count": 200,
   "metadata": {},
   "outputs": [
    {
     "name": "stdout",
     "output_type": "stream",
     "text": [
      "[15, 1, 61, 100, 43, 69, 152]\n",
      "[1, 15, 43, 61, 69, 100, 152]\n"
     ]
    }
   ],
   "source": [
    "lst = [15, 1, 61, 100, 43, 69]\n",
    "lst.append(152)\n",
    "print(lst)\n",
    "print(sorted(lst))"
   ]
  },
  {
   "cell_type": "code",
   "execution_count": 201,
   "metadata": {},
   "outputs": [
    {
     "name": "stdout",
     "output_type": "stream",
     "text": [
      "[67, 81, 21, 94, 49, 190]\n",
      "[21, 49, 67, 81, 94, 190]\n"
     ]
    }
   ],
   "source": [
    "lst = [67, 81, 21, 94, 49]\n",
    "lst.append(190)\n",
    "print(lst)\n",
    "print(sorted(lst))"
   ]
  },
  {
   "cell_type": "code",
   "execution_count": 202,
   "metadata": {},
   "outputs": [
    {
     "name": "stdout",
     "output_type": "stream",
     "text": [
      "[28, 16, 16, 29, 44, 60, 164]\n",
      "[16, 16, 28, 29, 44, 60, 164]\n"
     ]
    }
   ],
   "source": [
    "lst = [28, 16, 16, 29, 44, 60]\n",
    "lst.append(164)\n",
    "print(lst)\n",
    "print(sorted(lst))"
   ]
  },
  {
   "cell_type": "code",
   "execution_count": 203,
   "metadata": {},
   "outputs": [
    {
     "name": "stdout",
     "output_type": "stream",
     "text": [
      "[62, 79, 9, 27, 159]\n",
      "[9, 27, 62, 79, 159]\n"
     ]
    }
   ],
   "source": [
    "lst = [62, 79, 9, 27]\n",
    "lst.append(159)\n",
    "print(lst)\n",
    "print(sorted(lst))"
   ]
  },
  {
   "cell_type": "code",
   "execution_count": 204,
   "metadata": {},
   "outputs": [
    {
     "name": "stdout",
     "output_type": "stream",
     "text": [
      "[89, 86, 6, 99, 82, 181]\n",
      "[6, 82, 86, 89, 99, 181]\n"
     ]
    }
   ],
   "source": [
    "lst = [89, 86, 6, 99, 82]\n",
    "lst.append(181)\n",
    "print(lst)\n",
    "print(sorted(lst))"
   ]
  },
  {
   "cell_type": "code",
   "execution_count": 205,
   "metadata": {},
   "outputs": [
    {
     "name": "stdout",
     "output_type": "stream",
     "text": [
      "[12, 49, 5, 87, 97, 118]\n",
      "[5, 12, 49, 87, 97, 118]\n"
     ]
    }
   ],
   "source": [
    "lst = [12, 49, 5, 87, 97]\n",
    "lst.append(118)\n",
    "print(lst)\n",
    "print(sorted(lst))"
   ]
  },
  {
   "cell_type": "code",
   "execution_count": 206,
   "metadata": {},
   "outputs": [
    {
     "name": "stdout",
     "output_type": "stream",
     "text": [
      "[51, 79, 16, 117]\n",
      "[16, 51, 79, 117]\n"
     ]
    }
   ],
   "source": [
    "lst = [51, 79, 16]\n",
    "lst.append(117)\n",
    "print(lst)\n",
    "print(sorted(lst))"
   ]
  },
  {
   "cell_type": "code",
   "execution_count": 207,
   "metadata": {},
   "outputs": [
    {
     "name": "stdout",
     "output_type": "stream",
     "text": [
      "[37, 35, 68, 79, 83, 147]\n",
      "[35, 37, 68, 79, 83, 147]\n"
     ]
    }
   ],
   "source": [
    "lst = [37, 35, 68, 79, 83]\n",
    "lst.append(147)\n",
    "print(lst)\n",
    "print(sorted(lst))"
   ]
  },
  {
   "cell_type": "code",
   "execution_count": 208,
   "metadata": {},
   "outputs": [
    {
     "name": "stdout",
     "output_type": "stream",
     "text": [
      "[48, 14, 4, 69, 75, 155]\n",
      "[4, 14, 48, 69, 75, 155]\n"
     ]
    }
   ],
   "source": [
    "lst = [48, 14, 4, 69, 75]\n",
    "lst.append(155)\n",
    "print(lst)\n",
    "print(sorted(lst))"
   ]
  },
  {
   "cell_type": "code",
   "execution_count": 209,
   "metadata": {},
   "outputs": [
    {
     "name": "stdout",
     "output_type": "stream",
     "text": [
      "[47, 23, 20, 123]\n",
      "[20, 23, 47, 123]\n"
     ]
    }
   ],
   "source": [
    "lst = [47, 23, 20]\n",
    "lst.append(123)\n",
    "print(lst)\n",
    "print(sorted(lst))"
   ]
  },
  {
   "cell_type": "code",
   "execution_count": 210,
   "metadata": {},
   "outputs": [
    {
     "name": "stdout",
     "output_type": "stream",
     "text": [
      "[23, 22, 45, 57, 161]\n",
      "[22, 23, 45, 57, 161]\n"
     ]
    }
   ],
   "source": [
    "lst = [23, 22, 45, 57]\n",
    "lst.append(161)\n",
    "print(lst)\n",
    "print(sorted(lst))"
   ]
  },
  {
   "cell_type": "code",
   "execution_count": 211,
   "metadata": {},
   "outputs": [
    {
     "name": "stdout",
     "output_type": "stream",
     "text": [
      "[16, 15, 29, 198]\n",
      "[15, 16, 29, 198]\n"
     ]
    }
   ],
   "source": [
    "lst = [16, 15, 29]\n",
    "lst.append(198)\n",
    "print(lst)\n",
    "print(sorted(lst))"
   ]
  },
  {
   "cell_type": "code",
   "execution_count": 212,
   "metadata": {},
   "outputs": [
    {
     "name": "stdout",
     "output_type": "stream",
     "text": [
      "[40, 21, 74, 17, 106]\n",
      "[17, 21, 40, 74, 106]\n"
     ]
    }
   ],
   "source": [
    "lst = [40, 21, 74, 17]\n",
    "lst.append(106)\n",
    "print(lst)\n",
    "print(sorted(lst))"
   ]
  },
  {
   "cell_type": "code",
   "execution_count": 213,
   "metadata": {},
   "outputs": [
    {
     "name": "stdout",
     "output_type": "stream",
     "text": [
      "[59, 4, 74, 162]\n",
      "[4, 59, 74, 162]\n"
     ]
    }
   ],
   "source": [
    "lst = [59, 4, 74]\n",
    "lst.append(162)\n",
    "print(lst)\n",
    "print(sorted(lst))"
   ]
  },
  {
   "cell_type": "code",
   "execution_count": 214,
   "metadata": {},
   "outputs": [
    {
     "name": "stdout",
     "output_type": "stream",
     "text": [
      "[33, 10, 20, 102]\n",
      "[10, 20, 33, 102]\n"
     ]
    }
   ],
   "source": [
    "lst = [33, 10, 20]\n",
    "lst.append(102)\n",
    "print(lst)\n",
    "print(sorted(lst))"
   ]
  },
  {
   "cell_type": "code",
   "execution_count": 215,
   "metadata": {},
   "outputs": [
    {
     "name": "stdout",
     "output_type": "stream",
     "text": [
      "[15, 78, 99, 16, 40, 21, 113]\n",
      "[15, 16, 21, 40, 78, 99, 113]\n"
     ]
    }
   ],
   "source": [
    "lst = [15, 78, 99, 16, 40, 21]\n",
    "lst.append(113)\n",
    "print(lst)\n",
    "print(sorted(lst))"
   ]
  },
  {
   "cell_type": "code",
   "execution_count": 216,
   "metadata": {},
   "outputs": [
    {
     "name": "stdout",
     "output_type": "stream",
     "text": [
      "[57, 62, 69, 8, 91, 136]\n",
      "[8, 57, 62, 69, 91, 136]\n"
     ]
    }
   ],
   "source": [
    "lst = [57, 62, 69, 8, 91]\n",
    "lst.append(136)\n",
    "print(lst)\n",
    "print(sorted(lst))"
   ]
  },
  {
   "cell_type": "code",
   "execution_count": 217,
   "metadata": {},
   "outputs": [
    {
     "name": "stdout",
     "output_type": "stream",
     "text": [
      "[44, 45, 14, 82, 95, 200]\n",
      "[14, 44, 45, 82, 95, 200]\n"
     ]
    }
   ],
   "source": [
    "lst = [44, 45, 14, 82, 95]\n",
    "lst.append(200)\n",
    "print(lst)\n",
    "print(sorted(lst))"
   ]
  },
  {
   "cell_type": "code",
   "execution_count": 218,
   "metadata": {},
   "outputs": [
    {
     "name": "stdout",
     "output_type": "stream",
     "text": [
      "[32, 53, 4, 40, 141]\n",
      "[4, 32, 40, 53, 141]\n"
     ]
    }
   ],
   "source": [
    "lst = [32, 53, 4, 40]\n",
    "lst.append(141)\n",
    "print(lst)\n",
    "print(sorted(lst))"
   ]
  },
  {
   "cell_type": "code",
   "execution_count": 219,
   "metadata": {},
   "outputs": [
    {
     "name": "stdout",
     "output_type": "stream",
     "text": [
      "[91, 43, 76, 72, 88, 190]\n",
      "[43, 72, 76, 88, 91, 190]\n"
     ]
    }
   ],
   "source": [
    "lst = [91, 43, 76, 72, 88]\n",
    "lst.append(190)\n",
    "print(lst)\n",
    "print(sorted(lst))"
   ]
  },
  {
   "cell_type": "code",
   "execution_count": 220,
   "metadata": {},
   "outputs": [
    {
     "name": "stdout",
     "output_type": "stream",
     "text": [
      "[63, 35, 76, 179]\n",
      "[35, 63, 76, 179]\n"
     ]
    }
   ],
   "source": [
    "lst = [63, 35, 76]\n",
    "lst.append(179)\n",
    "print(lst)\n",
    "print(sorted(lst))"
   ]
  },
  {
   "cell_type": "code",
   "execution_count": 221,
   "metadata": {},
   "outputs": [
    {
     "name": "stdout",
     "output_type": "stream",
     "text": [
      "[21, 72, 95, 41, 15, 91, 142]\n",
      "[15, 21, 41, 72, 91, 95, 142]\n"
     ]
    }
   ],
   "source": [
    "lst = [21, 72, 95, 41, 15, 91]\n",
    "lst.append(142)\n",
    "print(lst)\n",
    "print(sorted(lst))"
   ]
  },
  {
   "cell_type": "code",
   "execution_count": 222,
   "metadata": {},
   "outputs": [
    {
     "name": "stdout",
     "output_type": "stream",
     "text": [
      "[74, 53, 54, 26, 24, 137]\n",
      "[24, 26, 53, 54, 74, 137]\n"
     ]
    }
   ],
   "source": [
    "lst = [74, 53, 54, 26, 24]\n",
    "lst.append(137)\n",
    "print(lst)\n",
    "print(sorted(lst))"
   ]
  },
  {
   "cell_type": "code",
   "execution_count": 223,
   "metadata": {},
   "outputs": [
    {
     "name": "stdout",
     "output_type": "stream",
     "text": [
      "[48, 36, 39, 113]\n",
      "[36, 39, 48, 113]\n"
     ]
    }
   ],
   "source": [
    "lst = [48, 36, 39]\n",
    "lst.append(113)\n",
    "print(lst)\n",
    "print(sorted(lst))"
   ]
  },
  {
   "cell_type": "code",
   "execution_count": 224,
   "metadata": {},
   "outputs": [
    {
     "name": "stdout",
     "output_type": "stream",
     "text": [
      "[98, 79, 11, 92, 1, 28, 154]\n",
      "[1, 11, 28, 79, 92, 98, 154]\n"
     ]
    }
   ],
   "source": [
    "lst = [98, 79, 11, 92, 1, 28]\n",
    "lst.append(154)\n",
    "print(lst)\n",
    "print(sorted(lst))"
   ]
  },
  {
   "cell_type": "code",
   "execution_count": 225,
   "metadata": {},
   "outputs": [
    {
     "name": "stdout",
     "output_type": "stream",
     "text": [
      "[76, 25, 86, 45, 155]\n",
      "[25, 45, 76, 86, 155]\n"
     ]
    }
   ],
   "source": [
    "lst = [76, 25, 86, 45]\n",
    "lst.append(155)\n",
    "print(lst)\n",
    "print(sorted(lst))"
   ]
  },
  {
   "cell_type": "code",
   "execution_count": 226,
   "metadata": {},
   "outputs": [
    {
     "name": "stdout",
     "output_type": "stream",
     "text": [
      "[73, 31, 84, 15, 41, 2, 190]\n",
      "[2, 15, 31, 41, 73, 84, 190]\n"
     ]
    }
   ],
   "source": [
    "lst = [73, 31, 84, 15, 41, 2]\n",
    "lst.append(190)\n",
    "print(lst)\n",
    "print(sorted(lst))"
   ]
  },
  {
   "cell_type": "code",
   "execution_count": 227,
   "metadata": {},
   "outputs": [
    {
     "name": "stdout",
     "output_type": "stream",
     "text": [
      "[80, 38, 57, 45, 58, 19, 144]\n",
      "[19, 38, 45, 57, 58, 80, 144]\n"
     ]
    }
   ],
   "source": [
    "lst = [80, 38, 57, 45, 58, 19]\n",
    "lst.append(144)\n",
    "print(lst)\n",
    "print(sorted(lst))"
   ]
  },
  {
   "cell_type": "code",
   "execution_count": 228,
   "metadata": {},
   "outputs": [
    {
     "name": "stdout",
     "output_type": "stream",
     "text": [
      "[14, 42, 98, 143]\n",
      "[14, 42, 98, 143]\n"
     ]
    }
   ],
   "source": [
    "lst = [14, 42, 98]\n",
    "lst.append(143)\n",
    "print(lst)\n",
    "print(sorted(lst))"
   ]
  },
  {
   "cell_type": "code",
   "execution_count": 229,
   "metadata": {},
   "outputs": [
    {
     "name": "stdout",
     "output_type": "stream",
     "text": [
      "[32, 66, 83, 161]\n",
      "[32, 66, 83, 161]\n"
     ]
    }
   ],
   "source": [
    "lst = [32, 66, 83]\n",
    "lst.append(161)\n",
    "print(lst)\n",
    "print(sorted(lst))"
   ]
  },
  {
   "cell_type": "code",
   "execution_count": 230,
   "metadata": {},
   "outputs": [
    {
     "name": "stdout",
     "output_type": "stream",
     "text": [
      "[81, 61, 19, 49, 48, 122]\n",
      "[19, 48, 49, 61, 81, 122]\n"
     ]
    }
   ],
   "source": [
    "lst = [81, 61, 19, 49, 48]\n",
    "lst.append(122)\n",
    "print(lst)\n",
    "print(sorted(lst))"
   ]
  },
  {
   "cell_type": "code",
   "execution_count": 231,
   "metadata": {},
   "outputs": [
    {
     "name": "stdout",
     "output_type": "stream",
     "text": [
      "[26, 96, 97, 59, 140]\n",
      "[26, 59, 96, 97, 140]\n"
     ]
    }
   ],
   "source": [
    "lst = [26, 96, 97, 59]\n",
    "lst.append(140)\n",
    "print(lst)\n",
    "print(sorted(lst))"
   ]
  },
  {
   "cell_type": "code",
   "execution_count": 232,
   "metadata": {},
   "outputs": [
    {
     "name": "stdout",
     "output_type": "stream",
     "text": [
      "[83, 30, 75, 49, 189]\n",
      "[30, 49, 75, 83, 189]\n"
     ]
    }
   ],
   "source": [
    "lst = [83, 30, 75, 49]\n",
    "lst.append(189)\n",
    "print(lst)\n",
    "print(sorted(lst))"
   ]
  },
  {
   "cell_type": "code",
   "execution_count": 233,
   "metadata": {},
   "outputs": [
    {
     "name": "stdout",
     "output_type": "stream",
     "text": [
      "[32, 56, 73, 71, 67, 25, 178]\n",
      "[25, 32, 56, 67, 71, 73, 178]\n"
     ]
    }
   ],
   "source": [
    "lst = [32, 56, 73, 71, 67, 25]\n",
    "lst.append(178)\n",
    "print(lst)\n",
    "print(sorted(lst))"
   ]
  },
  {
   "cell_type": "code",
   "execution_count": 234,
   "metadata": {},
   "outputs": [
    {
     "name": "stdout",
     "output_type": "stream",
     "text": [
      "[82, 62, 41, 81, 41, 25, 168]\n",
      "[25, 41, 41, 62, 81, 82, 168]\n"
     ]
    }
   ],
   "source": [
    "lst = [82, 62, 41, 81, 41, 25]\n",
    "lst.append(168)\n",
    "print(lst)\n",
    "print(sorted(lst))"
   ]
  },
  {
   "cell_type": "code",
   "execution_count": 235,
   "metadata": {},
   "outputs": [
    {
     "name": "stdout",
     "output_type": "stream",
     "text": [
      "[15, 14, 55, 105]\n",
      "[14, 15, 55, 105]\n"
     ]
    }
   ],
   "source": [
    "lst = [15, 14, 55]\n",
    "lst.append(105)\n",
    "print(lst)\n",
    "print(sorted(lst))"
   ]
  },
  {
   "cell_type": "code",
   "execution_count": 236,
   "metadata": {},
   "outputs": [
    {
     "name": "stdout",
     "output_type": "stream",
     "text": [
      "[86, 53, 98, 193]\n",
      "[53, 86, 98, 193]\n"
     ]
    }
   ],
   "source": [
    "lst = [86, 53, 98]\n",
    "lst.append(193)\n",
    "print(lst)\n",
    "print(sorted(lst))"
   ]
  },
  {
   "cell_type": "code",
   "execution_count": 237,
   "metadata": {},
   "outputs": [
    {
     "name": "stdout",
     "output_type": "stream",
     "text": [
      "[52, 39, 38, 18, 120]\n",
      "[18, 38, 39, 52, 120]\n"
     ]
    }
   ],
   "source": [
    "lst = [52, 39, 38, 18]\n",
    "lst.append(120)\n",
    "print(lst)\n",
    "print(sorted(lst))"
   ]
  },
  {
   "cell_type": "code",
   "execution_count": 238,
   "metadata": {},
   "outputs": [
    {
     "name": "stdout",
     "output_type": "stream",
     "text": [
      "[35, 1, 37, 48, 100, 200]\n",
      "[1, 35, 37, 48, 100, 200]\n"
     ]
    }
   ],
   "source": [
    "lst = [35, 1, 37, 48, 100]\n",
    "lst.append(200)\n",
    "print(lst)\n",
    "print(sorted(lst))"
   ]
  },
  {
   "cell_type": "code",
   "execution_count": 239,
   "metadata": {},
   "outputs": [
    {
     "name": "stdout",
     "output_type": "stream",
     "text": [
      "[22, 50, 91, 66, 180]\n",
      "[22, 50, 66, 91, 180]\n"
     ]
    }
   ],
   "source": [
    "lst = [22, 50, 91, 66]\n",
    "lst.append(180)\n",
    "print(lst)\n",
    "print(sorted(lst))"
   ]
  },
  {
   "cell_type": "code",
   "execution_count": 240,
   "metadata": {},
   "outputs": [
    {
     "name": "stdout",
     "output_type": "stream",
     "text": [
      "[56, 63, 39, 46, 191]\n",
      "[39, 46, 56, 63, 191]\n"
     ]
    }
   ],
   "source": [
    "lst = [56, 63, 39, 46]\n",
    "lst.append(191)\n",
    "print(lst)\n",
    "print(sorted(lst))"
   ]
  },
  {
   "cell_type": "code",
   "execution_count": 241,
   "metadata": {},
   "outputs": [
    {
     "name": "stdout",
     "output_type": "stream",
     "text": [
      "[4, 48, 51, 47, 162]\n",
      "[4, 47, 48, 51, 162]\n"
     ]
    }
   ],
   "source": [
    "lst = [4, 48, 51, 47]\n",
    "lst.append(162)\n",
    "print(lst)\n",
    "print(sorted(lst))"
   ]
  },
  {
   "cell_type": "code",
   "execution_count": 242,
   "metadata": {},
   "outputs": [
    {
     "name": "stdout",
     "output_type": "stream",
     "text": [
      "[99, 82, 55, 94, 148]\n",
      "[55, 82, 94, 99, 148]\n"
     ]
    }
   ],
   "source": [
    "lst = [99, 82, 55, 94]\n",
    "lst.append(148)\n",
    "print(lst)\n",
    "print(sorted(lst))"
   ]
  },
  {
   "cell_type": "code",
   "execution_count": 243,
   "metadata": {},
   "outputs": [
    {
     "name": "stdout",
     "output_type": "stream",
     "text": [
      "[14, 62, 63, 43, 70, 31, 192]\n",
      "[14, 31, 43, 62, 63, 70, 192]\n"
     ]
    }
   ],
   "source": [
    "lst = [14, 62, 63, 43, 70, 31]\n",
    "lst.append(192)\n",
    "print(lst)\n",
    "print(sorted(lst))"
   ]
  },
  {
   "cell_type": "code",
   "execution_count": 244,
   "metadata": {},
   "outputs": [
    {
     "name": "stdout",
     "output_type": "stream",
     "text": [
      "[76, 39, 17, 11, 43, 151]\n",
      "[11, 17, 39, 43, 76, 151]\n"
     ]
    }
   ],
   "source": [
    "lst = [76, 39, 17, 11, 43]\n",
    "lst.append(151)\n",
    "print(lst)\n",
    "print(sorted(lst))"
   ]
  },
  {
   "cell_type": "code",
   "execution_count": 245,
   "metadata": {},
   "outputs": [
    {
     "name": "stdout",
     "output_type": "stream",
     "text": [
      "[93, 51, 40, 178]\n",
      "[40, 51, 93, 178]\n"
     ]
    }
   ],
   "source": [
    "lst = [93, 51, 40]\n",
    "lst.append(178)\n",
    "print(lst)\n",
    "print(sorted(lst))"
   ]
  },
  {
   "cell_type": "code",
   "execution_count": 246,
   "metadata": {},
   "outputs": [
    {
     "name": "stdout",
     "output_type": "stream",
     "text": [
      "[50, 72, 83, 5, 13, 112]\n",
      "[5, 13, 50, 72, 83, 112]\n"
     ]
    }
   ],
   "source": [
    "lst = [50, 72, 83, 5, 13]\n",
    "lst.append(112)\n",
    "print(lst)\n",
    "print(sorted(lst))"
   ]
  },
  {
   "cell_type": "code",
   "execution_count": 247,
   "metadata": {},
   "outputs": [
    {
     "name": "stdout",
     "output_type": "stream",
     "text": [
      "[34, 54, 17, 185]\n",
      "[17, 34, 54, 185]\n"
     ]
    }
   ],
   "source": [
    "lst = [34, 54, 17]\n",
    "lst.append(185)\n",
    "print(lst)\n",
    "print(sorted(lst))"
   ]
  },
  {
   "cell_type": "code",
   "execution_count": 248,
   "metadata": {},
   "outputs": [
    {
     "name": "stdout",
     "output_type": "stream",
     "text": [
      "[90, 68, 17, 187]\n",
      "[17, 68, 90, 187]\n"
     ]
    }
   ],
   "source": [
    "lst = [90, 68, 17]\n",
    "lst.append(187)\n",
    "print(lst)\n",
    "print(sorted(lst))"
   ]
  },
  {
   "cell_type": "code",
   "execution_count": 249,
   "metadata": {},
   "outputs": [
    {
     "name": "stdout",
     "output_type": "stream",
     "text": [
      "[22, 74, 63, 12, 92, 27, 144]\n",
      "[12, 22, 27, 63, 74, 92, 144]\n"
     ]
    }
   ],
   "source": [
    "lst = [22, 74, 63, 12, 92, 27]\n",
    "lst.append(144)\n",
    "print(lst)\n",
    "print(sorted(lst))"
   ]
  },
  {
   "cell_type": "code",
   "execution_count": 250,
   "metadata": {},
   "outputs": [
    {
     "name": "stdout",
     "output_type": "stream",
     "text": [
      "[11, 5, 23, 87, 158]\n",
      "[5, 11, 23, 87, 158]\n"
     ]
    }
   ],
   "source": [
    "lst = [11, 5, 23, 87]\n",
    "lst.append(158)\n",
    "print(lst)\n",
    "print(sorted(lst))"
   ]
  },
  {
   "cell_type": "code",
   "execution_count": 251,
   "metadata": {},
   "outputs": [
    {
     "name": "stdout",
     "output_type": "stream",
     "text": [
      "[38, 41, 1, 92, 6, 129]\n",
      "[1, 6, 38, 41, 92, 129]\n"
     ]
    }
   ],
   "source": [
    "lst = [38, 41, 1, 92, 6]\n",
    "lst.append(129)\n",
    "print(lst)\n",
    "print(sorted(lst))"
   ]
  },
  {
   "cell_type": "code",
   "execution_count": 252,
   "metadata": {},
   "outputs": [
    {
     "name": "stdout",
     "output_type": "stream",
     "text": [
      "[49, 99, 77, 112]\n",
      "[49, 77, 99, 112]\n"
     ]
    }
   ],
   "source": [
    "lst = [49, 99, 77]\n",
    "lst.append(112)\n",
    "print(lst)\n",
    "print(sorted(lst))"
   ]
  },
  {
   "cell_type": "code",
   "execution_count": 253,
   "metadata": {},
   "outputs": [
    {
     "name": "stdout",
     "output_type": "stream",
     "text": [
      "[80, 2, 42, 61, 115]\n",
      "[2, 42, 61, 80, 115]\n"
     ]
    }
   ],
   "source": [
    "lst = [80, 2, 42, 61]\n",
    "lst.append(115)\n",
    "print(lst)\n",
    "print(sorted(lst))"
   ]
  },
  {
   "cell_type": "code",
   "execution_count": 254,
   "metadata": {},
   "outputs": [
    {
     "name": "stdout",
     "output_type": "stream",
     "text": [
      "[65, 4, 59, 7, 44, 188]\n",
      "[4, 7, 44, 59, 65, 188]\n"
     ]
    }
   ],
   "source": [
    "lst = [65, 4, 59, 7, 44]\n",
    "lst.append(188)\n",
    "print(lst)\n",
    "print(sorted(lst))"
   ]
  },
  {
   "cell_type": "code",
   "execution_count": 255,
   "metadata": {},
   "outputs": [
    {
     "name": "stdout",
     "output_type": "stream",
     "text": [
      "[18, 37, 22, 34, 74, 136]\n",
      "[18, 22, 34, 37, 74, 136]\n"
     ]
    }
   ],
   "source": [
    "lst = [18, 37, 22, 34, 74]\n",
    "lst.append(136)\n",
    "print(lst)\n",
    "print(sorted(lst))"
   ]
  },
  {
   "cell_type": "code",
   "execution_count": 256,
   "metadata": {},
   "outputs": [
    {
     "name": "stdout",
     "output_type": "stream",
     "text": [
      "[72, 70, 26, 24, 111]\n",
      "[24, 26, 70, 72, 111]\n"
     ]
    }
   ],
   "source": [
    "lst = [72, 70, 26, 24]\n",
    "lst.append(111)\n",
    "print(lst)\n",
    "print(sorted(lst))"
   ]
  },
  {
   "cell_type": "code",
   "execution_count": 257,
   "metadata": {},
   "outputs": [
    {
     "name": "stdout",
     "output_type": "stream",
     "text": [
      "[77, 47, 28, 99, 136]\n",
      "[28, 47, 77, 99, 136]\n"
     ]
    }
   ],
   "source": [
    "lst = [77, 47, 28, 99]\n",
    "lst.append(136)\n",
    "print(lst)\n",
    "print(sorted(lst))"
   ]
  },
  {
   "cell_type": "code",
   "execution_count": 258,
   "metadata": {},
   "outputs": [
    {
     "name": "stdout",
     "output_type": "stream",
     "text": [
      "[59, 90, 33, 68, 28, 192]\n",
      "[28, 33, 59, 68, 90, 192]\n"
     ]
    }
   ],
   "source": [
    "lst = [59, 90, 33, 68, 28]\n",
    "lst.append(192)\n",
    "print(lst)\n",
    "print(sorted(lst))"
   ]
  },
  {
   "cell_type": "code",
   "execution_count": 259,
   "metadata": {},
   "outputs": [
    {
     "name": "stdout",
     "output_type": "stream",
     "text": [
      "[68, 42, 88, 52, 77, 126]\n",
      "[42, 52, 68, 77, 88, 126]\n"
     ]
    }
   ],
   "source": [
    "lst = [68, 42, 88, 52, 77]\n",
    "lst.append(126)\n",
    "print(lst)\n",
    "print(sorted(lst))"
   ]
  },
  {
   "cell_type": "code",
   "execution_count": 260,
   "metadata": {},
   "outputs": [
    {
     "name": "stdout",
     "output_type": "stream",
     "text": [
      "[21, 42, 94, 46, 10, 138]\n",
      "[10, 21, 42, 46, 94, 138]\n"
     ]
    }
   ],
   "source": [
    "lst = [21, 42, 94, 46, 10]\n",
    "lst.append(138)\n",
    "print(lst)\n",
    "print(sorted(lst))"
   ]
  },
  {
   "cell_type": "code",
   "execution_count": 261,
   "metadata": {},
   "outputs": [
    {
     "name": "stdout",
     "output_type": "stream",
     "text": [
      "[27, 63, 42, 200]\n",
      "[27, 42, 63, 200]\n"
     ]
    }
   ],
   "source": [
    "lst = [27, 63, 42]\n",
    "lst.append(200)\n",
    "print(lst)\n",
    "print(sorted(lst))"
   ]
  },
  {
   "cell_type": "code",
   "execution_count": 262,
   "metadata": {},
   "outputs": [
    {
     "name": "stdout",
     "output_type": "stream",
     "text": [
      "[61, 45, 91, 75, 65, 27, 129]\n",
      "[27, 45, 61, 65, 75, 91, 129]\n"
     ]
    }
   ],
   "source": [
    "lst = [61, 45, 91, 75, 65, 27]\n",
    "lst.append(129)\n",
    "print(lst)\n",
    "print(sorted(lst))"
   ]
  },
  {
   "cell_type": "code",
   "execution_count": 263,
   "metadata": {},
   "outputs": [
    {
     "name": "stdout",
     "output_type": "stream",
     "text": [
      "[64, 18, 4, 141]\n",
      "[4, 18, 64, 141]\n"
     ]
    }
   ],
   "source": [
    "lst = [64, 18, 4]\n",
    "lst.append(141)\n",
    "print(lst)\n",
    "print(sorted(lst))"
   ]
  },
  {
   "cell_type": "code",
   "execution_count": 264,
   "metadata": {},
   "outputs": [
    {
     "name": "stdout",
     "output_type": "stream",
     "text": [
      "[24, 73, 94, 44, 19, 147]\n",
      "[19, 24, 44, 73, 94, 147]\n"
     ]
    }
   ],
   "source": [
    "lst = [24, 73, 94, 44, 19]\n",
    "lst.append(147)\n",
    "print(lst)\n",
    "print(sorted(lst))"
   ]
  },
  {
   "cell_type": "code",
   "execution_count": 265,
   "metadata": {},
   "outputs": [
    {
     "name": "stdout",
     "output_type": "stream",
     "text": [
      "[95, 20, 43, 156]\n",
      "[20, 43, 95, 156]\n"
     ]
    }
   ],
   "source": [
    "lst = [95, 20, 43]\n",
    "lst.append(156)\n",
    "print(lst)\n",
    "print(sorted(lst))"
   ]
  },
  {
   "cell_type": "code",
   "execution_count": 266,
   "metadata": {},
   "outputs": [
    {
     "name": "stdout",
     "output_type": "stream",
     "text": [
      "[2, 81, 4, 105]\n",
      "[2, 4, 81, 105]\n"
     ]
    }
   ],
   "source": [
    "lst = [2, 81, 4]\n",
    "lst.append(105)\n",
    "print(lst)\n",
    "print(sorted(lst))"
   ]
  },
  {
   "cell_type": "code",
   "execution_count": 267,
   "metadata": {},
   "outputs": [
    {
     "name": "stdout",
     "output_type": "stream",
     "text": [
      "[33, 46, 17, 84, 4, 160]\n",
      "[4, 17, 33, 46, 84, 160]\n"
     ]
    }
   ],
   "source": [
    "lst = [33, 46, 17, 84, 4]\n",
    "lst.append(160)\n",
    "print(lst)\n",
    "print(sorted(lst))"
   ]
  },
  {
   "cell_type": "code",
   "execution_count": 268,
   "metadata": {},
   "outputs": [
    {
     "name": "stdout",
     "output_type": "stream",
     "text": [
      "[86, 67, 14, 79, 75, 44, 122]\n",
      "[14, 44, 67, 75, 79, 86, 122]\n"
     ]
    }
   ],
   "source": [
    "lst = [86, 67, 14, 79, 75, 44]\n",
    "lst.append(122)\n",
    "print(lst)\n",
    "print(sorted(lst))"
   ]
  },
  {
   "cell_type": "code",
   "execution_count": 269,
   "metadata": {},
   "outputs": [
    {
     "name": "stdout",
     "output_type": "stream",
     "text": [
      "[74, 30, 91, 60, 139]\n",
      "[30, 60, 74, 91, 139]\n"
     ]
    }
   ],
   "source": [
    "lst = [74, 30, 91, 60]\n",
    "lst.append(139)\n",
    "print(lst)\n",
    "print(sorted(lst))"
   ]
  },
  {
   "cell_type": "code",
   "execution_count": 270,
   "metadata": {},
   "outputs": [
    {
     "name": "stdout",
     "output_type": "stream",
     "text": [
      "[71, 54, 74, 129]\n",
      "[54, 71, 74, 129]\n"
     ]
    }
   ],
   "source": [
    "lst = [71, 54, 74]\n",
    "lst.append(129)\n",
    "print(lst)\n",
    "print(sorted(lst))"
   ]
  },
  {
   "cell_type": "code",
   "execution_count": 271,
   "metadata": {},
   "outputs": [
    {
     "name": "stdout",
     "output_type": "stream",
     "text": [
      "[4, 33, 54, 73, 35, 54, 186]\n",
      "[4, 33, 35, 54, 54, 73, 186]\n"
     ]
    }
   ],
   "source": [
    "lst = [4, 33, 54, 73, 35, 54]\n",
    "lst.append(186)\n",
    "print(lst)\n",
    "print(sorted(lst))"
   ]
  },
  {
   "cell_type": "code",
   "execution_count": 272,
   "metadata": {},
   "outputs": [
    {
     "name": "stdout",
     "output_type": "stream",
     "text": [
      "[77, 53, 72, 78, 141]\n",
      "[53, 72, 77, 78, 141]\n"
     ]
    }
   ],
   "source": [
    "lst = [77, 53, 72, 78]\n",
    "lst.append(141)\n",
    "print(lst)\n",
    "print(sorted(lst))"
   ]
  },
  {
   "cell_type": "code",
   "execution_count": 273,
   "metadata": {},
   "outputs": [
    {
     "name": "stdout",
     "output_type": "stream",
     "text": [
      "[3, 37, 77, 39, 34, 128]\n",
      "[3, 34, 37, 39, 77, 128]\n"
     ]
    }
   ],
   "source": [
    "lst = [3, 37, 77, 39, 34]\n",
    "lst.append(128)\n",
    "print(lst)\n",
    "print(sorted(lst))"
   ]
  },
  {
   "cell_type": "code",
   "execution_count": 274,
   "metadata": {},
   "outputs": [
    {
     "name": "stdout",
     "output_type": "stream",
     "text": [
      "[88, 42, 53, 31, 95, 157]\n",
      "[31, 42, 53, 88, 95, 157]\n"
     ]
    }
   ],
   "source": [
    "lst = [88, 42, 53, 31, 95]\n",
    "lst.append(157)\n",
    "print(lst)\n",
    "print(sorted(lst))"
   ]
  },
  {
   "cell_type": "code",
   "execution_count": 275,
   "metadata": {},
   "outputs": [
    {
     "name": "stdout",
     "output_type": "stream",
     "text": [
      "[100, 22, 52, 99, 163]\n",
      "[22, 52, 99, 100, 163]\n"
     ]
    }
   ],
   "source": [
    "lst = [100, 22, 52, 99]\n",
    "lst.append(163)\n",
    "print(lst)\n",
    "print(sorted(lst))"
   ]
  },
  {
   "cell_type": "code",
   "execution_count": 276,
   "metadata": {},
   "outputs": [
    {
     "name": "stdout",
     "output_type": "stream",
     "text": [
      "[94, 86, 61, 29, 186]\n",
      "[29, 61, 86, 94, 186]\n"
     ]
    }
   ],
   "source": [
    "lst = [94, 86, 61, 29]\n",
    "lst.append(186)\n",
    "print(lst)\n",
    "print(sorted(lst))"
   ]
  },
  {
   "cell_type": "code",
   "execution_count": 277,
   "metadata": {},
   "outputs": [
    {
     "name": "stdout",
     "output_type": "stream",
     "text": [
      "[12, 41, 91, 85, 48, 50, 137]\n",
      "[12, 41, 48, 50, 85, 91, 137]\n"
     ]
    }
   ],
   "source": [
    "lst = [12, 41, 91, 85, 48, 50]\n",
    "lst.append(137)\n",
    "print(lst)\n",
    "print(sorted(lst))"
   ]
  },
  {
   "cell_type": "code",
   "execution_count": 278,
   "metadata": {},
   "outputs": [
    {
     "name": "stdout",
     "output_type": "stream",
     "text": [
      "[20, 29, 29, 66, 93, 6, 114]\n",
      "[6, 20, 29, 29, 66, 93, 114]\n"
     ]
    }
   ],
   "source": [
    "lst = [20, 29, 29, 66, 93, 6]\n",
    "lst.append(114)\n",
    "print(lst)\n",
    "print(sorted(lst))"
   ]
  },
  {
   "cell_type": "code",
   "execution_count": 279,
   "metadata": {},
   "outputs": [
    {
     "name": "stdout",
     "output_type": "stream",
     "text": [
      "[65, 38, 78, 120]\n",
      "[38, 65, 78, 120]\n"
     ]
    }
   ],
   "source": [
    "lst = [65, 38, 78]\n",
    "lst.append(120)\n",
    "print(lst)\n",
    "print(sorted(lst))"
   ]
  },
  {
   "cell_type": "code",
   "execution_count": 280,
   "metadata": {},
   "outputs": [
    {
     "name": "stdout",
     "output_type": "stream",
     "text": [
      "[14, 10, 98, 123]\n",
      "[10, 14, 98, 123]\n"
     ]
    }
   ],
   "source": [
    "lst = [14, 10, 98]\n",
    "lst.append(123)\n",
    "print(lst)\n",
    "print(sorted(lst))"
   ]
  },
  {
   "cell_type": "code",
   "execution_count": 281,
   "metadata": {},
   "outputs": [
    {
     "name": "stdout",
     "output_type": "stream",
     "text": [
      "[78, 21, 84, 108]\n",
      "[21, 78, 84, 108]\n"
     ]
    }
   ],
   "source": [
    "lst = [78, 21, 84]\n",
    "lst.append(108)\n",
    "print(lst)\n",
    "print(sorted(lst))"
   ]
  },
  {
   "cell_type": "code",
   "execution_count": 282,
   "metadata": {},
   "outputs": [
    {
     "name": "stdout",
     "output_type": "stream",
     "text": [
      "[64, 78, 9, 89, 22, 102]\n",
      "[9, 22, 64, 78, 89, 102]\n"
     ]
    }
   ],
   "source": [
    "lst = [64, 78, 9, 89, 22]\n",
    "lst.append(102)\n",
    "print(lst)\n",
    "print(sorted(lst))"
   ]
  },
  {
   "cell_type": "code",
   "execution_count": 283,
   "metadata": {},
   "outputs": [
    {
     "name": "stdout",
     "output_type": "stream",
     "text": [
      "[71, 42, 37, 34, 14, 4, 169]\n",
      "[4, 14, 34, 37, 42, 71, 169]\n"
     ]
    }
   ],
   "source": [
    "lst = [71, 42, 37, 34, 14, 4]\n",
    "lst.append(169)\n",
    "print(lst)\n",
    "print(sorted(lst))"
   ]
  },
  {
   "cell_type": "code",
   "execution_count": 284,
   "metadata": {},
   "outputs": [
    {
     "name": "stdout",
     "output_type": "stream",
     "text": [
      "[74, 20, 12, 15, 189]\n",
      "[12, 15, 20, 74, 189]\n"
     ]
    }
   ],
   "source": [
    "lst = [74, 20, 12, 15]\n",
    "lst.append(189)\n",
    "print(lst)\n",
    "print(sorted(lst))"
   ]
  },
  {
   "cell_type": "code",
   "execution_count": 285,
   "metadata": {},
   "outputs": [
    {
     "name": "stdout",
     "output_type": "stream",
     "text": [
      "[34, 97, 88, 62, 101]\n",
      "[34, 62, 88, 97, 101]\n"
     ]
    }
   ],
   "source": [
    "lst = [34, 97, 88, 62]\n",
    "lst.append(101)\n",
    "print(lst)\n",
    "print(sorted(lst))"
   ]
  },
  {
   "cell_type": "code",
   "execution_count": 286,
   "metadata": {},
   "outputs": [
    {
     "name": "stdout",
     "output_type": "stream",
     "text": [
      "[95, 64, 55, 84, 76, 155]\n",
      "[55, 64, 76, 84, 95, 155]\n"
     ]
    }
   ],
   "source": [
    "lst = [95, 64, 55, 84, 76]\n",
    "lst.append(155)\n",
    "print(lst)\n",
    "print(sorted(lst))"
   ]
  },
  {
   "cell_type": "code",
   "execution_count": 287,
   "metadata": {},
   "outputs": [
    {
     "name": "stdout",
     "output_type": "stream",
     "text": [
      "[48, 79, 73, 29, 143]\n",
      "[29, 48, 73, 79, 143]\n"
     ]
    }
   ],
   "source": [
    "lst = [48, 79, 73, 29]\n",
    "lst.append(143)\n",
    "print(lst)\n",
    "print(sorted(lst))"
   ]
  },
  {
   "cell_type": "code",
   "execution_count": 288,
   "metadata": {},
   "outputs": [
    {
     "name": "stdout",
     "output_type": "stream",
     "text": [
      "[99, 20, 85, 40, 183]\n",
      "[20, 40, 85, 99, 183]\n"
     ]
    }
   ],
   "source": [
    "lst = [99, 20, 85, 40]\n",
    "lst.append(183)\n",
    "print(lst)\n",
    "print(sorted(lst))"
   ]
  },
  {
   "cell_type": "code",
   "execution_count": 289,
   "metadata": {},
   "outputs": [
    {
     "name": "stdout",
     "output_type": "stream",
     "text": [
      "[45, 53, 74, 1, 60, 73, 123]\n",
      "[1, 45, 53, 60, 73, 74, 123]\n"
     ]
    }
   ],
   "source": [
    "lst = [45, 53, 74, 1, 60, 73]\n",
    "lst.append(123)\n",
    "print(lst)\n",
    "print(sorted(lst))"
   ]
  },
  {
   "cell_type": "code",
   "execution_count": 290,
   "metadata": {},
   "outputs": [
    {
     "name": "stdout",
     "output_type": "stream",
     "text": [
      "[51, 12, 30, 69, 9, 49, 185]\n",
      "[9, 12, 30, 49, 51, 69, 185]\n"
     ]
    }
   ],
   "source": [
    "lst = [51, 12, 30, 69, 9, 49]\n",
    "lst.append(185)\n",
    "print(lst)\n",
    "print(sorted(lst))"
   ]
  },
  {
   "cell_type": "code",
   "execution_count": 291,
   "metadata": {},
   "outputs": [
    {
     "name": "stdout",
     "output_type": "stream",
     "text": [
      "[1, 66, 28, 104]\n",
      "[1, 28, 66, 104]\n"
     ]
    }
   ],
   "source": [
    "lst = [1, 66, 28]\n",
    "lst.append(104)\n",
    "print(lst)\n",
    "print(sorted(lst))"
   ]
  },
  {
   "cell_type": "code",
   "execution_count": 292,
   "metadata": {},
   "outputs": [
    {
     "name": "stdout",
     "output_type": "stream",
     "text": [
      "[77, 60, 100, 42, 66, 30, 199]\n",
      "[30, 42, 60, 66, 77, 100, 199]\n"
     ]
    }
   ],
   "source": [
    "lst = [77, 60, 100, 42, 66, 30]\n",
    "lst.append(199)\n",
    "print(lst)\n",
    "print(sorted(lst))"
   ]
  },
  {
   "cell_type": "code",
   "execution_count": 293,
   "metadata": {},
   "outputs": [
    {
     "name": "stdout",
     "output_type": "stream",
     "text": [
      "[25, 8, 89, 43, 68, 57, 153]\n",
      "[8, 25, 43, 57, 68, 89, 153]\n"
     ]
    }
   ],
   "source": [
    "lst = [25, 8, 89, 43, 68, 57]\n",
    "lst.append(153)\n",
    "print(lst)\n",
    "print(sorted(lst))"
   ]
  },
  {
   "cell_type": "code",
   "execution_count": 294,
   "metadata": {},
   "outputs": [
    {
     "name": "stdout",
     "output_type": "stream",
     "text": [
      "[33, 15, 66, 55, 176]\n",
      "[15, 33, 55, 66, 176]\n"
     ]
    }
   ],
   "source": [
    "lst = [33, 15, 66, 55]\n",
    "lst.append(176)\n",
    "print(lst)\n",
    "print(sorted(lst))"
   ]
  },
  {
   "cell_type": "code",
   "execution_count": 295,
   "metadata": {},
   "outputs": [
    {
     "name": "stdout",
     "output_type": "stream",
     "text": [
      "[81, 2, 87, 15, 81, 116]\n",
      "[2, 15, 81, 81, 87, 116]\n"
     ]
    }
   ],
   "source": [
    "lst = [81, 2, 87, 15, 81]\n",
    "lst.append(116)\n",
    "print(lst)\n",
    "print(sorted(lst))"
   ]
  },
  {
   "cell_type": "code",
   "execution_count": 296,
   "metadata": {},
   "outputs": [
    {
     "name": "stdout",
     "output_type": "stream",
     "text": [
      "[28, 75, 65, 46, 123]\n",
      "[28, 46, 65, 75, 123]\n"
     ]
    }
   ],
   "source": [
    "lst = [28, 75, 65, 46]\n",
    "lst.append(123)\n",
    "print(lst)\n",
    "print(sorted(lst))"
   ]
  },
  {
   "cell_type": "code",
   "execution_count": 297,
   "metadata": {},
   "outputs": [
    {
     "name": "stdout",
     "output_type": "stream",
     "text": [
      "[70, 21, 89, 32, 99, 70, 177]\n",
      "[21, 32, 70, 70, 89, 99, 177]\n"
     ]
    }
   ],
   "source": [
    "lst = [70, 21, 89, 32, 99, 70]\n",
    "lst.append(177)\n",
    "print(lst)\n",
    "print(sorted(lst))"
   ]
  },
  {
   "cell_type": "code",
   "execution_count": 298,
   "metadata": {},
   "outputs": [
    {
     "name": "stdout",
     "output_type": "stream",
     "text": [
      "[45, 62, 2, 146]\n",
      "[2, 45, 62, 146]\n"
     ]
    }
   ],
   "source": [
    "lst = [45, 62, 2]\n",
    "lst.append(146)\n",
    "print(lst)\n",
    "print(sorted(lst))"
   ]
  },
  {
   "cell_type": "code",
   "execution_count": 299,
   "metadata": {},
   "outputs": [
    {
     "name": "stdout",
     "output_type": "stream",
     "text": [
      "[95, 5, 38, 24, 191]\n",
      "[5, 24, 38, 95, 191]\n"
     ]
    }
   ],
   "source": [
    "lst = [95, 5, 38, 24]\n",
    "lst.append(191)\n",
    "print(lst)\n",
    "print(sorted(lst))"
   ]
  },
  {
   "cell_type": "code",
   "execution_count": 300,
   "metadata": {},
   "outputs": [
    {
     "name": "stdout",
     "output_type": "stream",
     "text": [
      "[47, 86, 94, 59, 85, 118]\n",
      "[47, 59, 85, 86, 94, 118]\n"
     ]
    }
   ],
   "source": [
    "lst = [47, 86, 94, 59, 85]\n",
    "lst.append(118)\n",
    "print(lst)\n",
    "print(sorted(lst))"
   ]
  },
  {
   "cell_type": "code",
   "execution_count": 301,
   "metadata": {},
   "outputs": [
    {
     "name": "stdout",
     "output_type": "stream",
     "text": [
      "dict_keys(['key0', 'key1'])\n",
      "dict_values([1, 84])\n",
      "84\n"
     ]
    }
   ],
   "source": [
    "d = {'key0': 1, 'key1': 84}\n",
    "print(d.keys())\n",
    "print(d.values())\n",
    "print(d.get('key1'))"
   ]
  },
  {
   "cell_type": "code",
   "execution_count": 302,
   "metadata": {},
   "outputs": [
    {
     "name": "stdout",
     "output_type": "stream",
     "text": [
      "dict_keys(['key0', 'key1'])\n",
      "dict_values([83, 24])\n",
      "24\n"
     ]
    }
   ],
   "source": [
    "d = {'key0': 83, 'key1': 24}\n",
    "print(d.keys())\n",
    "print(d.values())\n",
    "print(d.get('key1'))"
   ]
  },
  {
   "cell_type": "code",
   "execution_count": 303,
   "metadata": {},
   "outputs": [
    {
     "name": "stdout",
     "output_type": "stream",
     "text": [
      "dict_keys(['key0', 'key1'])\n",
      "dict_values([61, 40])\n",
      "40\n"
     ]
    }
   ],
   "source": [
    "d = {'key0': 61, 'key1': 40}\n",
    "print(d.keys())\n",
    "print(d.values())\n",
    "print(d.get('key1'))"
   ]
  },
  {
   "cell_type": "code",
   "execution_count": 304,
   "metadata": {},
   "outputs": [
    {
     "name": "stdout",
     "output_type": "stream",
     "text": [
      "dict_keys(['key0', 'key1', 'key2', 'key3'])\n",
      "dict_values([63, 80, 96, 21])\n",
      "80\n"
     ]
    }
   ],
   "source": [
    "d = {'key0': 63, 'key1': 80, 'key2': 96, 'key3': 21}\n",
    "print(d.keys())\n",
    "print(d.values())\n",
    "print(d.get('key1'))"
   ]
  },
  {
   "cell_type": "code",
   "execution_count": 305,
   "metadata": {},
   "outputs": [
    {
     "name": "stdout",
     "output_type": "stream",
     "text": [
      "dict_keys(['key0', 'key1'])\n",
      "dict_values([38, 65])\n",
      "65\n"
     ]
    }
   ],
   "source": [
    "d = {'key0': 38, 'key1': 65}\n",
    "print(d.keys())\n",
    "print(d.values())\n",
    "print(d.get('key1'))"
   ]
  },
  {
   "cell_type": "code",
   "execution_count": 306,
   "metadata": {},
   "outputs": [
    {
     "name": "stdout",
     "output_type": "stream",
     "text": [
      "dict_keys(['key0', 'key1', 'key2'])\n",
      "dict_values([61, 36, 59])\n",
      "36\n"
     ]
    }
   ],
   "source": [
    "d = {'key0': 61, 'key1': 36, 'key2': 59}\n",
    "print(d.keys())\n",
    "print(d.values())\n",
    "print(d.get('key1'))"
   ]
  },
  {
   "cell_type": "code",
   "execution_count": 307,
   "metadata": {},
   "outputs": [
    {
     "name": "stdout",
     "output_type": "stream",
     "text": [
      "dict_keys(['key0', 'key1', 'key2'])\n",
      "dict_values([55, 43, 48])\n",
      "43\n"
     ]
    }
   ],
   "source": [
    "d = {'key0': 55, 'key1': 43, 'key2': 48}\n",
    "print(d.keys())\n",
    "print(d.values())\n",
    "print(d.get('key1'))"
   ]
  },
  {
   "cell_type": "code",
   "execution_count": 308,
   "metadata": {},
   "outputs": [
    {
     "name": "stdout",
     "output_type": "stream",
     "text": [
      "dict_keys(['key0', 'key1'])\n",
      "dict_values([81, 87])\n",
      "87\n"
     ]
    }
   ],
   "source": [
    "d = {'key0': 81, 'key1': 87}\n",
    "print(d.keys())\n",
    "print(d.values())\n",
    "print(d.get('key1'))"
   ]
  },
  {
   "cell_type": "code",
   "execution_count": 309,
   "metadata": {},
   "outputs": [
    {
     "name": "stdout",
     "output_type": "stream",
     "text": [
      "dict_keys(['key0', 'key1', 'key2'])\n",
      "dict_values([100, 78, 5])\n",
      "78\n"
     ]
    }
   ],
   "source": [
    "d = {'key0': 100, 'key1': 78, 'key2': 5}\n",
    "print(d.keys())\n",
    "print(d.values())\n",
    "print(d.get('key1'))"
   ]
  },
  {
   "cell_type": "code",
   "execution_count": 310,
   "metadata": {},
   "outputs": [
    {
     "name": "stdout",
     "output_type": "stream",
     "text": [
      "dict_keys(['key0', 'key1'])\n",
      "dict_values([53, 82])\n",
      "82\n"
     ]
    }
   ],
   "source": [
    "d = {'key0': 53, 'key1': 82}\n",
    "print(d.keys())\n",
    "print(d.values())\n",
    "print(d.get('key1'))"
   ]
  },
  {
   "cell_type": "code",
   "execution_count": 311,
   "metadata": {},
   "outputs": [
    {
     "name": "stdout",
     "output_type": "stream",
     "text": [
      "dict_keys(['key0', 'key1', 'key2'])\n",
      "dict_values([15, 40, 17])\n",
      "40\n"
     ]
    }
   ],
   "source": [
    "d = {'key0': 15, 'key1': 40, 'key2': 17}\n",
    "print(d.keys())\n",
    "print(d.values())\n",
    "print(d.get('key1'))"
   ]
  },
  {
   "cell_type": "code",
   "execution_count": 312,
   "metadata": {},
   "outputs": [
    {
     "name": "stdout",
     "output_type": "stream",
     "text": [
      "dict_keys(['key0', 'key1'])\n",
      "dict_values([52, 24])\n",
      "24\n"
     ]
    }
   ],
   "source": [
    "d = {'key0': 52, 'key1': 24}\n",
    "print(d.keys())\n",
    "print(d.values())\n",
    "print(d.get('key1'))"
   ]
  },
  {
   "cell_type": "code",
   "execution_count": 313,
   "metadata": {},
   "outputs": [
    {
     "name": "stdout",
     "output_type": "stream",
     "text": [
      "dict_keys(['key0', 'key1'])\n",
      "dict_values([40, 83])\n",
      "83\n"
     ]
    }
   ],
   "source": [
    "d = {'key0': 40, 'key1': 83}\n",
    "print(d.keys())\n",
    "print(d.values())\n",
    "print(d.get('key1'))"
   ]
  },
  {
   "cell_type": "code",
   "execution_count": 314,
   "metadata": {},
   "outputs": [
    {
     "name": "stdout",
     "output_type": "stream",
     "text": [
      "dict_keys(['key0', 'key1'])\n",
      "dict_values([36, 20])\n",
      "20\n"
     ]
    }
   ],
   "source": [
    "d = {'key0': 36, 'key1': 20}\n",
    "print(d.keys())\n",
    "print(d.values())\n",
    "print(d.get('key1'))"
   ]
  },
  {
   "cell_type": "code",
   "execution_count": 315,
   "metadata": {},
   "outputs": [
    {
     "name": "stdout",
     "output_type": "stream",
     "text": [
      "dict_keys(['key0', 'key1', 'key2', 'key3'])\n",
      "dict_values([30, 58, 6, 21])\n",
      "58\n"
     ]
    }
   ],
   "source": [
    "d = {'key0': 30, 'key1': 58, 'key2': 6, 'key3': 21}\n",
    "print(d.keys())\n",
    "print(d.values())\n",
    "print(d.get('key1'))"
   ]
  },
  {
   "cell_type": "code",
   "execution_count": 316,
   "metadata": {},
   "outputs": [
    {
     "name": "stdout",
     "output_type": "stream",
     "text": [
      "dict_keys(['key0', 'key1'])\n",
      "dict_values([45, 82])\n",
      "82\n"
     ]
    }
   ],
   "source": [
    "d = {'key0': 45, 'key1': 82}\n",
    "print(d.keys())\n",
    "print(d.values())\n",
    "print(d.get('key1'))"
   ]
  },
  {
   "cell_type": "code",
   "execution_count": 317,
   "metadata": {},
   "outputs": [
    {
     "name": "stdout",
     "output_type": "stream",
     "text": [
      "dict_keys(['key0', 'key1', 'key2', 'key3'])\n",
      "dict_values([11, 15, 59, 79])\n",
      "15\n"
     ]
    }
   ],
   "source": [
    "d = {'key0': 11, 'key1': 15, 'key2': 59, 'key3': 79}\n",
    "print(d.keys())\n",
    "print(d.values())\n",
    "print(d.get('key1'))"
   ]
  },
  {
   "cell_type": "code",
   "execution_count": 318,
   "metadata": {},
   "outputs": [
    {
     "name": "stdout",
     "output_type": "stream",
     "text": [
      "dict_keys(['key0', 'key1'])\n",
      "dict_values([43, 20])\n",
      "20\n"
     ]
    }
   ],
   "source": [
    "d = {'key0': 43, 'key1': 20}\n",
    "print(d.keys())\n",
    "print(d.values())\n",
    "print(d.get('key1'))"
   ]
  },
  {
   "cell_type": "code",
   "execution_count": 319,
   "metadata": {},
   "outputs": [
    {
     "name": "stdout",
     "output_type": "stream",
     "text": [
      "dict_keys(['key0', 'key1'])\n",
      "dict_values([26, 47])\n",
      "47\n"
     ]
    }
   ],
   "source": [
    "d = {'key0': 26, 'key1': 47}\n",
    "print(d.keys())\n",
    "print(d.values())\n",
    "print(d.get('key1'))"
   ]
  },
  {
   "cell_type": "code",
   "execution_count": 320,
   "metadata": {},
   "outputs": [
    {
     "name": "stdout",
     "output_type": "stream",
     "text": [
      "dict_keys(['key0', 'key1', 'key2', 'key3'])\n",
      "dict_values([94, 88, 14, 60])\n",
      "88\n"
     ]
    }
   ],
   "source": [
    "d = {'key0': 94, 'key1': 88, 'key2': 14, 'key3': 60}\n",
    "print(d.keys())\n",
    "print(d.values())\n",
    "print(d.get('key1'))"
   ]
  },
  {
   "cell_type": "code",
   "execution_count": 321,
   "metadata": {},
   "outputs": [
    {
     "name": "stdout",
     "output_type": "stream",
     "text": [
      "dict_keys(['key0', 'key1'])\n",
      "dict_values([16, 88])\n",
      "88\n"
     ]
    }
   ],
   "source": [
    "d = {'key0': 16, 'key1': 88}\n",
    "print(d.keys())\n",
    "print(d.values())\n",
    "print(d.get('key1'))"
   ]
  },
  {
   "cell_type": "code",
   "execution_count": 322,
   "metadata": {},
   "outputs": [
    {
     "name": "stdout",
     "output_type": "stream",
     "text": [
      "dict_keys(['key0', 'key1', 'key2', 'key3'])\n",
      "dict_values([42, 35, 83, 22])\n",
      "35\n"
     ]
    }
   ],
   "source": [
    "d = {'key0': 42, 'key1': 35, 'key2': 83, 'key3': 22}\n",
    "print(d.keys())\n",
    "print(d.values())\n",
    "print(d.get('key1'))"
   ]
  },
  {
   "cell_type": "code",
   "execution_count": 323,
   "metadata": {},
   "outputs": [
    {
     "name": "stdout",
     "output_type": "stream",
     "text": [
      "dict_keys(['key0', 'key1', 'key2', 'key3'])\n",
      "dict_values([49, 24, 1, 85])\n",
      "24\n"
     ]
    }
   ],
   "source": [
    "d = {'key0': 49, 'key1': 24, 'key2': 1, 'key3': 85}\n",
    "print(d.keys())\n",
    "print(d.values())\n",
    "print(d.get('key1'))"
   ]
  },
  {
   "cell_type": "code",
   "execution_count": 324,
   "metadata": {},
   "outputs": [
    {
     "name": "stdout",
     "output_type": "stream",
     "text": [
      "dict_keys(['key0', 'key1'])\n",
      "dict_values([60, 25])\n",
      "25\n"
     ]
    }
   ],
   "source": [
    "d = {'key0': 60, 'key1': 25}\n",
    "print(d.keys())\n",
    "print(d.values())\n",
    "print(d.get('key1'))"
   ]
  },
  {
   "cell_type": "code",
   "execution_count": 325,
   "metadata": {},
   "outputs": [
    {
     "name": "stdout",
     "output_type": "stream",
     "text": [
      "dict_keys(['key0', 'key1'])\n",
      "dict_values([90, 97])\n",
      "97\n"
     ]
    }
   ],
   "source": [
    "d = {'key0': 90, 'key1': 97}\n",
    "print(d.keys())\n",
    "print(d.values())\n",
    "print(d.get('key1'))"
   ]
  },
  {
   "cell_type": "code",
   "execution_count": 326,
   "metadata": {},
   "outputs": [
    {
     "name": "stdout",
     "output_type": "stream",
     "text": [
      "dict_keys(['key0', 'key1', 'key2', 'key3'])\n",
      "dict_values([81, 7, 47, 8])\n",
      "7\n"
     ]
    }
   ],
   "source": [
    "d = {'key0': 81, 'key1': 7, 'key2': 47, 'key3': 8}\n",
    "print(d.keys())\n",
    "print(d.values())\n",
    "print(d.get('key1'))"
   ]
  },
  {
   "cell_type": "code",
   "execution_count": 327,
   "metadata": {},
   "outputs": [
    {
     "name": "stdout",
     "output_type": "stream",
     "text": [
      "dict_keys(['key0', 'key1'])\n",
      "dict_values([60, 56])\n",
      "56\n"
     ]
    }
   ],
   "source": [
    "d = {'key0': 60, 'key1': 56}\n",
    "print(d.keys())\n",
    "print(d.values())\n",
    "print(d.get('key1'))"
   ]
  },
  {
   "cell_type": "code",
   "execution_count": 328,
   "metadata": {},
   "outputs": [
    {
     "name": "stdout",
     "output_type": "stream",
     "text": [
      "dict_keys(['key0', 'key1', 'key2'])\n",
      "dict_values([31, 34, 83])\n",
      "34\n"
     ]
    }
   ],
   "source": [
    "d = {'key0': 31, 'key1': 34, 'key2': 83}\n",
    "print(d.keys())\n",
    "print(d.values())\n",
    "print(d.get('key1'))"
   ]
  },
  {
   "cell_type": "code",
   "execution_count": 329,
   "metadata": {},
   "outputs": [
    {
     "name": "stdout",
     "output_type": "stream",
     "text": [
      "dict_keys(['key0', 'key1', 'key2', 'key3'])\n",
      "dict_values([4, 95, 83, 17])\n",
      "95\n"
     ]
    }
   ],
   "source": [
    "d = {'key0': 4, 'key1': 95, 'key2': 83, 'key3': 17}\n",
    "print(d.keys())\n",
    "print(d.values())\n",
    "print(d.get('key1'))"
   ]
  },
  {
   "cell_type": "code",
   "execution_count": 330,
   "metadata": {},
   "outputs": [
    {
     "name": "stdout",
     "output_type": "stream",
     "text": [
      "dict_keys(['key0', 'key1'])\n",
      "dict_values([76, 83])\n",
      "83\n"
     ]
    }
   ],
   "source": [
    "d = {'key0': 76, 'key1': 83}\n",
    "print(d.keys())\n",
    "print(d.values())\n",
    "print(d.get('key1'))"
   ]
  },
  {
   "cell_type": "code",
   "execution_count": 331,
   "metadata": {},
   "outputs": [
    {
     "name": "stdout",
     "output_type": "stream",
     "text": [
      "dict_keys(['key0', 'key1', 'key2'])\n",
      "dict_values([88, 38, 44])\n",
      "38\n"
     ]
    }
   ],
   "source": [
    "d = {'key0': 88, 'key1': 38, 'key2': 44}\n",
    "print(d.keys())\n",
    "print(d.values())\n",
    "print(d.get('key1'))"
   ]
  },
  {
   "cell_type": "code",
   "execution_count": 332,
   "metadata": {},
   "outputs": [
    {
     "name": "stdout",
     "output_type": "stream",
     "text": [
      "dict_keys(['key0', 'key1', 'key2'])\n",
      "dict_values([68, 95, 44])\n",
      "95\n"
     ]
    }
   ],
   "source": [
    "d = {'key0': 68, 'key1': 95, 'key2': 44}\n",
    "print(d.keys())\n",
    "print(d.values())\n",
    "print(d.get('key1'))"
   ]
  },
  {
   "cell_type": "code",
   "execution_count": 333,
   "metadata": {},
   "outputs": [
    {
     "name": "stdout",
     "output_type": "stream",
     "text": [
      "dict_keys(['key0', 'key1', 'key2', 'key3'])\n",
      "dict_values([82, 30, 63, 30])\n",
      "30\n"
     ]
    }
   ],
   "source": [
    "d = {'key0': 82, 'key1': 30, 'key2': 63, 'key3': 30}\n",
    "print(d.keys())\n",
    "print(d.values())\n",
    "print(d.get('key1'))"
   ]
  },
  {
   "cell_type": "code",
   "execution_count": 334,
   "metadata": {},
   "outputs": [
    {
     "name": "stdout",
     "output_type": "stream",
     "text": [
      "dict_keys(['key0', 'key1', 'key2'])\n",
      "dict_values([62, 5, 71])\n",
      "5\n"
     ]
    }
   ],
   "source": [
    "d = {'key0': 62, 'key1': 5, 'key2': 71}\n",
    "print(d.keys())\n",
    "print(d.values())\n",
    "print(d.get('key1'))"
   ]
  },
  {
   "cell_type": "code",
   "execution_count": 335,
   "metadata": {},
   "outputs": [
    {
     "name": "stdout",
     "output_type": "stream",
     "text": [
      "dict_keys(['key0', 'key1', 'key2'])\n",
      "dict_values([44, 92, 25])\n",
      "92\n"
     ]
    }
   ],
   "source": [
    "d = {'key0': 44, 'key1': 92, 'key2': 25}\n",
    "print(d.keys())\n",
    "print(d.values())\n",
    "print(d.get('key1'))"
   ]
  },
  {
   "cell_type": "code",
   "execution_count": 336,
   "metadata": {},
   "outputs": [
    {
     "name": "stdout",
     "output_type": "stream",
     "text": [
      "dict_keys(['key0', 'key1'])\n",
      "dict_values([76, 35])\n",
      "35\n"
     ]
    }
   ],
   "source": [
    "d = {'key0': 76, 'key1': 35}\n",
    "print(d.keys())\n",
    "print(d.values())\n",
    "print(d.get('key1'))"
   ]
  },
  {
   "cell_type": "code",
   "execution_count": 337,
   "metadata": {},
   "outputs": [
    {
     "name": "stdout",
     "output_type": "stream",
     "text": [
      "dict_keys(['key0', 'key1'])\n",
      "dict_values([33, 86])\n",
      "86\n"
     ]
    }
   ],
   "source": [
    "d = {'key0': 33, 'key1': 86}\n",
    "print(d.keys())\n",
    "print(d.values())\n",
    "print(d.get('key1'))"
   ]
  },
  {
   "cell_type": "code",
   "execution_count": 338,
   "metadata": {},
   "outputs": [
    {
     "name": "stdout",
     "output_type": "stream",
     "text": [
      "dict_keys(['key0', 'key1'])\n",
      "dict_values([2, 48])\n",
      "48\n"
     ]
    }
   ],
   "source": [
    "d = {'key0': 2, 'key1': 48}\n",
    "print(d.keys())\n",
    "print(d.values())\n",
    "print(d.get('key1'))"
   ]
  },
  {
   "cell_type": "code",
   "execution_count": 339,
   "metadata": {},
   "outputs": [
    {
     "name": "stdout",
     "output_type": "stream",
     "text": [
      "dict_keys(['key0', 'key1', 'key2', 'key3'])\n",
      "dict_values([78, 57, 53, 17])\n",
      "57\n"
     ]
    }
   ],
   "source": [
    "d = {'key0': 78, 'key1': 57, 'key2': 53, 'key3': 17}\n",
    "print(d.keys())\n",
    "print(d.values())\n",
    "print(d.get('key1'))"
   ]
  },
  {
   "cell_type": "code",
   "execution_count": 340,
   "metadata": {},
   "outputs": [
    {
     "name": "stdout",
     "output_type": "stream",
     "text": [
      "dict_keys(['key0', 'key1'])\n",
      "dict_values([92, 43])\n",
      "43\n"
     ]
    }
   ],
   "source": [
    "d = {'key0': 92, 'key1': 43}\n",
    "print(d.keys())\n",
    "print(d.values())\n",
    "print(d.get('key1'))"
   ]
  },
  {
   "cell_type": "code",
   "execution_count": 341,
   "metadata": {},
   "outputs": [
    {
     "name": "stdout",
     "output_type": "stream",
     "text": [
      "dict_keys(['key0', 'key1', 'key2', 'key3'])\n",
      "dict_values([3, 63, 12, 44])\n",
      "63\n"
     ]
    }
   ],
   "source": [
    "d = {'key0': 3, 'key1': 63, 'key2': 12, 'key3': 44}\n",
    "print(d.keys())\n",
    "print(d.values())\n",
    "print(d.get('key1'))"
   ]
  },
  {
   "cell_type": "code",
   "execution_count": 342,
   "metadata": {},
   "outputs": [
    {
     "name": "stdout",
     "output_type": "stream",
     "text": [
      "dict_keys(['key0', 'key1', 'key2'])\n",
      "dict_values([81, 56, 62])\n",
      "56\n"
     ]
    }
   ],
   "source": [
    "d = {'key0': 81, 'key1': 56, 'key2': 62}\n",
    "print(d.keys())\n",
    "print(d.values())\n",
    "print(d.get('key1'))"
   ]
  },
  {
   "cell_type": "code",
   "execution_count": 343,
   "metadata": {},
   "outputs": [
    {
     "name": "stdout",
     "output_type": "stream",
     "text": [
      "dict_keys(['key0', 'key1', 'key2'])\n",
      "dict_values([64, 12, 68])\n",
      "12\n"
     ]
    }
   ],
   "source": [
    "d = {'key0': 64, 'key1': 12, 'key2': 68}\n",
    "print(d.keys())\n",
    "print(d.values())\n",
    "print(d.get('key1'))"
   ]
  },
  {
   "cell_type": "code",
   "execution_count": 344,
   "metadata": {},
   "outputs": [
    {
     "name": "stdout",
     "output_type": "stream",
     "text": [
      "dict_keys(['key0', 'key1', 'key2'])\n",
      "dict_values([44, 24, 88])\n",
      "24\n"
     ]
    }
   ],
   "source": [
    "d = {'key0': 44, 'key1': 24, 'key2': 88}\n",
    "print(d.keys())\n",
    "print(d.values())\n",
    "print(d.get('key1'))"
   ]
  },
  {
   "cell_type": "code",
   "execution_count": 345,
   "metadata": {},
   "outputs": [
    {
     "name": "stdout",
     "output_type": "stream",
     "text": [
      "dict_keys(['key0', 'key1', 'key2'])\n",
      "dict_values([76, 91, 47])\n",
      "91\n"
     ]
    }
   ],
   "source": [
    "d = {'key0': 76, 'key1': 91, 'key2': 47}\n",
    "print(d.keys())\n",
    "print(d.values())\n",
    "print(d.get('key1'))"
   ]
  },
  {
   "cell_type": "code",
   "execution_count": 346,
   "metadata": {},
   "outputs": [
    {
     "name": "stdout",
     "output_type": "stream",
     "text": [
      "dict_keys(['key0', 'key1', 'key2', 'key3'])\n",
      "dict_values([29, 63, 64, 76])\n",
      "63\n"
     ]
    }
   ],
   "source": [
    "d = {'key0': 29, 'key1': 63, 'key2': 64, 'key3': 76}\n",
    "print(d.keys())\n",
    "print(d.values())\n",
    "print(d.get('key1'))"
   ]
  },
  {
   "cell_type": "code",
   "execution_count": 347,
   "metadata": {},
   "outputs": [
    {
     "name": "stdout",
     "output_type": "stream",
     "text": [
      "dict_keys(['key0', 'key1', 'key2'])\n",
      "dict_values([77, 16, 57])\n",
      "16\n"
     ]
    }
   ],
   "source": [
    "d = {'key0': 77, 'key1': 16, 'key2': 57}\n",
    "print(d.keys())\n",
    "print(d.values())\n",
    "print(d.get('key1'))"
   ]
  },
  {
   "cell_type": "code",
   "execution_count": 348,
   "metadata": {},
   "outputs": [
    {
     "name": "stdout",
     "output_type": "stream",
     "text": [
      "dict_keys(['key0', 'key1', 'key2'])\n",
      "dict_values([98, 82, 66])\n",
      "82\n"
     ]
    }
   ],
   "source": [
    "d = {'key0': 98, 'key1': 82, 'key2': 66}\n",
    "print(d.keys())\n",
    "print(d.values())\n",
    "print(d.get('key1'))"
   ]
  },
  {
   "cell_type": "code",
   "execution_count": 349,
   "metadata": {},
   "outputs": [
    {
     "name": "stdout",
     "output_type": "stream",
     "text": [
      "dict_keys(['key0', 'key1', 'key2', 'key3'])\n",
      "dict_values([27, 93, 13, 60])\n",
      "93\n"
     ]
    }
   ],
   "source": [
    "d = {'key0': 27, 'key1': 93, 'key2': 13, 'key3': 60}\n",
    "print(d.keys())\n",
    "print(d.values())\n",
    "print(d.get('key1'))"
   ]
  },
  {
   "cell_type": "code",
   "execution_count": 350,
   "metadata": {},
   "outputs": [
    {
     "name": "stdout",
     "output_type": "stream",
     "text": [
      "dict_keys(['key0', 'key1'])\n",
      "dict_values([71, 87])\n",
      "87\n"
     ]
    }
   ],
   "source": [
    "d = {'key0': 71, 'key1': 87}\n",
    "print(d.keys())\n",
    "print(d.values())\n",
    "print(d.get('key1'))"
   ]
  },
  {
   "cell_type": "code",
   "execution_count": 351,
   "metadata": {},
   "outputs": [
    {
     "name": "stdout",
     "output_type": "stream",
     "text": [
      "dict_keys(['key0', 'key1'])\n",
      "dict_values([92, 30])\n",
      "30\n"
     ]
    }
   ],
   "source": [
    "d = {'key0': 92, 'key1': 30}\n",
    "print(d.keys())\n",
    "print(d.values())\n",
    "print(d.get('key1'))"
   ]
  },
  {
   "cell_type": "code",
   "execution_count": 352,
   "metadata": {},
   "outputs": [
    {
     "name": "stdout",
     "output_type": "stream",
     "text": [
      "dict_keys(['key0', 'key1', 'key2', 'key3'])\n",
      "dict_values([8, 91, 68, 36])\n",
      "91\n"
     ]
    }
   ],
   "source": [
    "d = {'key0': 8, 'key1': 91, 'key2': 68, 'key3': 36}\n",
    "print(d.keys())\n",
    "print(d.values())\n",
    "print(d.get('key1'))"
   ]
  },
  {
   "cell_type": "code",
   "execution_count": 353,
   "metadata": {},
   "outputs": [
    {
     "name": "stdout",
     "output_type": "stream",
     "text": [
      "dict_keys(['key0', 'key1'])\n",
      "dict_values([20, 54])\n",
      "54\n"
     ]
    }
   ],
   "source": [
    "d = {'key0': 20, 'key1': 54}\n",
    "print(d.keys())\n",
    "print(d.values())\n",
    "print(d.get('key1'))"
   ]
  },
  {
   "cell_type": "code",
   "execution_count": 354,
   "metadata": {},
   "outputs": [
    {
     "name": "stdout",
     "output_type": "stream",
     "text": [
      "dict_keys(['key0', 'key1', 'key2'])\n",
      "dict_values([88, 45, 27])\n",
      "45\n"
     ]
    }
   ],
   "source": [
    "d = {'key0': 88, 'key1': 45, 'key2': 27}\n",
    "print(d.keys())\n",
    "print(d.values())\n",
    "print(d.get('key1'))"
   ]
  },
  {
   "cell_type": "code",
   "execution_count": 355,
   "metadata": {},
   "outputs": [
    {
     "name": "stdout",
     "output_type": "stream",
     "text": [
      "dict_keys(['key0', 'key1'])\n",
      "dict_values([61, 44])\n",
      "44\n"
     ]
    }
   ],
   "source": [
    "d = {'key0': 61, 'key1': 44}\n",
    "print(d.keys())\n",
    "print(d.values())\n",
    "print(d.get('key1'))"
   ]
  },
  {
   "cell_type": "code",
   "execution_count": 356,
   "metadata": {},
   "outputs": [
    {
     "name": "stdout",
     "output_type": "stream",
     "text": [
      "dict_keys(['key0', 'key1', 'key2'])\n",
      "dict_values([38, 40, 61])\n",
      "40\n"
     ]
    }
   ],
   "source": [
    "d = {'key0': 38, 'key1': 40, 'key2': 61}\n",
    "print(d.keys())\n",
    "print(d.values())\n",
    "print(d.get('key1'))"
   ]
  },
  {
   "cell_type": "code",
   "execution_count": 357,
   "metadata": {},
   "outputs": [
    {
     "name": "stdout",
     "output_type": "stream",
     "text": [
      "dict_keys(['key0', 'key1', 'key2', 'key3'])\n",
      "dict_values([7, 7, 63, 29])\n",
      "7\n"
     ]
    }
   ],
   "source": [
    "d = {'key0': 7, 'key1': 7, 'key2': 63, 'key3': 29}\n",
    "print(d.keys())\n",
    "print(d.values())\n",
    "print(d.get('key1'))"
   ]
  },
  {
   "cell_type": "code",
   "execution_count": 358,
   "metadata": {},
   "outputs": [
    {
     "name": "stdout",
     "output_type": "stream",
     "text": [
      "dict_keys(['key0', 'key1'])\n",
      "dict_values([35, 50])\n",
      "50\n"
     ]
    }
   ],
   "source": [
    "d = {'key0': 35, 'key1': 50}\n",
    "print(d.keys())\n",
    "print(d.values())\n",
    "print(d.get('key1'))"
   ]
  },
  {
   "cell_type": "code",
   "execution_count": 359,
   "metadata": {},
   "outputs": [
    {
     "name": "stdout",
     "output_type": "stream",
     "text": [
      "dict_keys(['key0', 'key1'])\n",
      "dict_values([24, 88])\n",
      "88\n"
     ]
    }
   ],
   "source": [
    "d = {'key0': 24, 'key1': 88}\n",
    "print(d.keys())\n",
    "print(d.values())\n",
    "print(d.get('key1'))"
   ]
  },
  {
   "cell_type": "code",
   "execution_count": 360,
   "metadata": {},
   "outputs": [
    {
     "name": "stdout",
     "output_type": "stream",
     "text": [
      "dict_keys(['key0', 'key1'])\n",
      "dict_values([61, 37])\n",
      "37\n"
     ]
    }
   ],
   "source": [
    "d = {'key0': 61, 'key1': 37}\n",
    "print(d.keys())\n",
    "print(d.values())\n",
    "print(d.get('key1'))"
   ]
  },
  {
   "cell_type": "code",
   "execution_count": 361,
   "metadata": {},
   "outputs": [
    {
     "name": "stdout",
     "output_type": "stream",
     "text": [
      "dict_keys(['key0', 'key1', 'key2', 'key3'])\n",
      "dict_values([43, 68, 81, 4])\n",
      "68\n"
     ]
    }
   ],
   "source": [
    "d = {'key0': 43, 'key1': 68, 'key2': 81, 'key3': 4}\n",
    "print(d.keys())\n",
    "print(d.values())\n",
    "print(d.get('key1'))"
   ]
  },
  {
   "cell_type": "code",
   "execution_count": 362,
   "metadata": {},
   "outputs": [
    {
     "name": "stdout",
     "output_type": "stream",
     "text": [
      "dict_keys(['key0', 'key1', 'key2'])\n",
      "dict_values([31, 45, 25])\n",
      "45\n"
     ]
    }
   ],
   "source": [
    "d = {'key0': 31, 'key1': 45, 'key2': 25}\n",
    "print(d.keys())\n",
    "print(d.values())\n",
    "print(d.get('key1'))"
   ]
  },
  {
   "cell_type": "code",
   "execution_count": 363,
   "metadata": {},
   "outputs": [
    {
     "name": "stdout",
     "output_type": "stream",
     "text": [
      "dict_keys(['key0', 'key1'])\n",
      "dict_values([6, 77])\n",
      "77\n"
     ]
    }
   ],
   "source": [
    "d = {'key0': 6, 'key1': 77}\n",
    "print(d.keys())\n",
    "print(d.values())\n",
    "print(d.get('key1'))"
   ]
  },
  {
   "cell_type": "code",
   "execution_count": 364,
   "metadata": {},
   "outputs": [
    {
     "name": "stdout",
     "output_type": "stream",
     "text": [
      "dict_keys(['key0', 'key1', 'key2'])\n",
      "dict_values([79, 66, 16])\n",
      "66\n"
     ]
    }
   ],
   "source": [
    "d = {'key0': 79, 'key1': 66, 'key2': 16}\n",
    "print(d.keys())\n",
    "print(d.values())\n",
    "print(d.get('key1'))"
   ]
  },
  {
   "cell_type": "code",
   "execution_count": 365,
   "metadata": {},
   "outputs": [
    {
     "name": "stdout",
     "output_type": "stream",
     "text": [
      "dict_keys(['key0', 'key1', 'key2'])\n",
      "dict_values([77, 60, 76])\n",
      "60\n"
     ]
    }
   ],
   "source": [
    "d = {'key0': 77, 'key1': 60, 'key2': 76}\n",
    "print(d.keys())\n",
    "print(d.values())\n",
    "print(d.get('key1'))"
   ]
  },
  {
   "cell_type": "code",
   "execution_count": 366,
   "metadata": {},
   "outputs": [
    {
     "name": "stdout",
     "output_type": "stream",
     "text": [
      "dict_keys(['key0', 'key1'])\n",
      "dict_values([93, 35])\n",
      "35\n"
     ]
    }
   ],
   "source": [
    "d = {'key0': 93, 'key1': 35}\n",
    "print(d.keys())\n",
    "print(d.values())\n",
    "print(d.get('key1'))"
   ]
  },
  {
   "cell_type": "code",
   "execution_count": 367,
   "metadata": {},
   "outputs": [
    {
     "name": "stdout",
     "output_type": "stream",
     "text": [
      "dict_keys(['key0', 'key1', 'key2'])\n",
      "dict_values([90, 11, 94])\n",
      "11\n"
     ]
    }
   ],
   "source": [
    "d = {'key0': 90, 'key1': 11, 'key2': 94}\n",
    "print(d.keys())\n",
    "print(d.values())\n",
    "print(d.get('key1'))"
   ]
  },
  {
   "cell_type": "code",
   "execution_count": 368,
   "metadata": {},
   "outputs": [
    {
     "name": "stdout",
     "output_type": "stream",
     "text": [
      "dict_keys(['key0', 'key1', 'key2'])\n",
      "dict_values([73, 54, 54])\n",
      "54\n"
     ]
    }
   ],
   "source": [
    "d = {'key0': 73, 'key1': 54, 'key2': 54}\n",
    "print(d.keys())\n",
    "print(d.values())\n",
    "print(d.get('key1'))"
   ]
  },
  {
   "cell_type": "code",
   "execution_count": 369,
   "metadata": {},
   "outputs": [
    {
     "name": "stdout",
     "output_type": "stream",
     "text": [
      "dict_keys(['key0', 'key1'])\n",
      "dict_values([53, 93])\n",
      "93\n"
     ]
    }
   ],
   "source": [
    "d = {'key0': 53, 'key1': 93}\n",
    "print(d.keys())\n",
    "print(d.values())\n",
    "print(d.get('key1'))"
   ]
  },
  {
   "cell_type": "code",
   "execution_count": 370,
   "metadata": {},
   "outputs": [
    {
     "name": "stdout",
     "output_type": "stream",
     "text": [
      "dict_keys(['key0', 'key1', 'key2', 'key3'])\n",
      "dict_values([74, 87, 13, 19])\n",
      "87\n"
     ]
    }
   ],
   "source": [
    "d = {'key0': 74, 'key1': 87, 'key2': 13, 'key3': 19}\n",
    "print(d.keys())\n",
    "print(d.values())\n",
    "print(d.get('key1'))"
   ]
  },
  {
   "cell_type": "code",
   "execution_count": 371,
   "metadata": {},
   "outputs": [
    {
     "name": "stdout",
     "output_type": "stream",
     "text": [
      "dict_keys(['key0', 'key1', 'key2', 'key3'])\n",
      "dict_values([83, 29, 53, 67])\n",
      "29\n"
     ]
    }
   ],
   "source": [
    "d = {'key0': 83, 'key1': 29, 'key2': 53, 'key3': 67}\n",
    "print(d.keys())\n",
    "print(d.values())\n",
    "print(d.get('key1'))"
   ]
  },
  {
   "cell_type": "code",
   "execution_count": 372,
   "metadata": {},
   "outputs": [
    {
     "name": "stdout",
     "output_type": "stream",
     "text": [
      "dict_keys(['key0', 'key1', 'key2'])\n",
      "dict_values([15, 78, 86])\n",
      "78\n"
     ]
    }
   ],
   "source": [
    "d = {'key0': 15, 'key1': 78, 'key2': 86}\n",
    "print(d.keys())\n",
    "print(d.values())\n",
    "print(d.get('key1'))"
   ]
  },
  {
   "cell_type": "code",
   "execution_count": 373,
   "metadata": {},
   "outputs": [
    {
     "name": "stdout",
     "output_type": "stream",
     "text": [
      "dict_keys(['key0', 'key1'])\n",
      "dict_values([12, 64])\n",
      "64\n"
     ]
    }
   ],
   "source": [
    "d = {'key0': 12, 'key1': 64}\n",
    "print(d.keys())\n",
    "print(d.values())\n",
    "print(d.get('key1'))"
   ]
  },
  {
   "cell_type": "code",
   "execution_count": 374,
   "metadata": {},
   "outputs": [
    {
     "name": "stdout",
     "output_type": "stream",
     "text": [
      "dict_keys(['key0', 'key1', 'key2', 'key3'])\n",
      "dict_values([84, 92, 22, 37])\n",
      "92\n"
     ]
    }
   ],
   "source": [
    "d = {'key0': 84, 'key1': 92, 'key2': 22, 'key3': 37}\n",
    "print(d.keys())\n",
    "print(d.values())\n",
    "print(d.get('key1'))"
   ]
  },
  {
   "cell_type": "code",
   "execution_count": 375,
   "metadata": {},
   "outputs": [
    {
     "name": "stdout",
     "output_type": "stream",
     "text": [
      "dict_keys(['key0', 'key1'])\n",
      "dict_values([77, 71])\n",
      "71\n"
     ]
    }
   ],
   "source": [
    "d = {'key0': 77, 'key1': 71}\n",
    "print(d.keys())\n",
    "print(d.values())\n",
    "print(d.get('key1'))"
   ]
  },
  {
   "cell_type": "code",
   "execution_count": 376,
   "metadata": {},
   "outputs": [
    {
     "name": "stdout",
     "output_type": "stream",
     "text": [
      "dict_keys(['key0', 'key1'])\n",
      "dict_values([21, 41])\n",
      "41\n"
     ]
    }
   ],
   "source": [
    "d = {'key0': 21, 'key1': 41}\n",
    "print(d.keys())\n",
    "print(d.values())\n",
    "print(d.get('key1'))"
   ]
  },
  {
   "cell_type": "code",
   "execution_count": 377,
   "metadata": {},
   "outputs": [
    {
     "name": "stdout",
     "output_type": "stream",
     "text": [
      "dict_keys(['key0', 'key1', 'key2'])\n",
      "dict_values([2, 23, 92])\n",
      "23\n"
     ]
    }
   ],
   "source": [
    "d = {'key0': 2, 'key1': 23, 'key2': 92}\n",
    "print(d.keys())\n",
    "print(d.values())\n",
    "print(d.get('key1'))"
   ]
  },
  {
   "cell_type": "code",
   "execution_count": 378,
   "metadata": {},
   "outputs": [
    {
     "name": "stdout",
     "output_type": "stream",
     "text": [
      "dict_keys(['key0', 'key1', 'key2', 'key3'])\n",
      "dict_values([87, 51, 87, 48])\n",
      "51\n"
     ]
    }
   ],
   "source": [
    "d = {'key0': 87, 'key1': 51, 'key2': 87, 'key3': 48}\n",
    "print(d.keys())\n",
    "print(d.values())\n",
    "print(d.get('key1'))"
   ]
  },
  {
   "cell_type": "code",
   "execution_count": 379,
   "metadata": {},
   "outputs": [
    {
     "name": "stdout",
     "output_type": "stream",
     "text": [
      "dict_keys(['key0', 'key1'])\n",
      "dict_values([77, 16])\n",
      "16\n"
     ]
    }
   ],
   "source": [
    "d = {'key0': 77, 'key1': 16}\n",
    "print(d.keys())\n",
    "print(d.values())\n",
    "print(d.get('key1'))"
   ]
  },
  {
   "cell_type": "code",
   "execution_count": 380,
   "metadata": {},
   "outputs": [
    {
     "name": "stdout",
     "output_type": "stream",
     "text": [
      "dict_keys(['key0', 'key1', 'key2'])\n",
      "dict_values([28, 33, 43])\n",
      "33\n"
     ]
    }
   ],
   "source": [
    "d = {'key0': 28, 'key1': 33, 'key2': 43}\n",
    "print(d.keys())\n",
    "print(d.values())\n",
    "print(d.get('key1'))"
   ]
  },
  {
   "cell_type": "code",
   "execution_count": 381,
   "metadata": {},
   "outputs": [
    {
     "name": "stdout",
     "output_type": "stream",
     "text": [
      "dict_keys(['key0', 'key1', 'key2'])\n",
      "dict_values([44, 1, 91])\n",
      "1\n"
     ]
    }
   ],
   "source": [
    "d = {'key0': 44, 'key1': 1, 'key2': 91}\n",
    "print(d.keys())\n",
    "print(d.values())\n",
    "print(d.get('key1'))"
   ]
  },
  {
   "cell_type": "code",
   "execution_count": 382,
   "metadata": {},
   "outputs": [
    {
     "name": "stdout",
     "output_type": "stream",
     "text": [
      "dict_keys(['key0', 'key1', 'key2', 'key3'])\n",
      "dict_values([66, 70, 47, 34])\n",
      "70\n"
     ]
    }
   ],
   "source": [
    "d = {'key0': 66, 'key1': 70, 'key2': 47, 'key3': 34}\n",
    "print(d.keys())\n",
    "print(d.values())\n",
    "print(d.get('key1'))"
   ]
  },
  {
   "cell_type": "code",
   "execution_count": 383,
   "metadata": {},
   "outputs": [
    {
     "name": "stdout",
     "output_type": "stream",
     "text": [
      "dict_keys(['key0', 'key1', 'key2'])\n",
      "dict_values([20, 9, 89])\n",
      "9\n"
     ]
    }
   ],
   "source": [
    "d = {'key0': 20, 'key1': 9, 'key2': 89}\n",
    "print(d.keys())\n",
    "print(d.values())\n",
    "print(d.get('key1'))"
   ]
  },
  {
   "cell_type": "code",
   "execution_count": 384,
   "metadata": {},
   "outputs": [
    {
     "name": "stdout",
     "output_type": "stream",
     "text": [
      "dict_keys(['key0', 'key1', 'key2'])\n",
      "dict_values([99, 99, 75])\n",
      "99\n"
     ]
    }
   ],
   "source": [
    "d = {'key0': 99, 'key1': 99, 'key2': 75}\n",
    "print(d.keys())\n",
    "print(d.values())\n",
    "print(d.get('key1'))"
   ]
  },
  {
   "cell_type": "code",
   "execution_count": 385,
   "metadata": {},
   "outputs": [
    {
     "name": "stdout",
     "output_type": "stream",
     "text": [
      "dict_keys(['key0', 'key1'])\n",
      "dict_values([92, 43])\n",
      "43\n"
     ]
    }
   ],
   "source": [
    "d = {'key0': 92, 'key1': 43}\n",
    "print(d.keys())\n",
    "print(d.values())\n",
    "print(d.get('key1'))"
   ]
  },
  {
   "cell_type": "code",
   "execution_count": 386,
   "metadata": {},
   "outputs": [
    {
     "name": "stdout",
     "output_type": "stream",
     "text": [
      "dict_keys(['key0', 'key1', 'key2', 'key3'])\n",
      "dict_values([9, 13, 90, 68])\n",
      "13\n"
     ]
    }
   ],
   "source": [
    "d = {'key0': 9, 'key1': 13, 'key2': 90, 'key3': 68}\n",
    "print(d.keys())\n",
    "print(d.values())\n",
    "print(d.get('key1'))"
   ]
  },
  {
   "cell_type": "code",
   "execution_count": 387,
   "metadata": {},
   "outputs": [
    {
     "name": "stdout",
     "output_type": "stream",
     "text": [
      "dict_keys(['key0', 'key1', 'key2', 'key3'])\n",
      "dict_values([98, 79, 86, 22])\n",
      "79\n"
     ]
    }
   ],
   "source": [
    "d = {'key0': 98, 'key1': 79, 'key2': 86, 'key3': 22}\n",
    "print(d.keys())\n",
    "print(d.values())\n",
    "print(d.get('key1'))"
   ]
  },
  {
   "cell_type": "code",
   "execution_count": 388,
   "metadata": {},
   "outputs": [
    {
     "name": "stdout",
     "output_type": "stream",
     "text": [
      "dict_keys(['key0', 'key1'])\n",
      "dict_values([47, 44])\n",
      "44\n"
     ]
    }
   ],
   "source": [
    "d = {'key0': 47, 'key1': 44}\n",
    "print(d.keys())\n",
    "print(d.values())\n",
    "print(d.get('key1'))"
   ]
  },
  {
   "cell_type": "code",
   "execution_count": 389,
   "metadata": {},
   "outputs": [
    {
     "name": "stdout",
     "output_type": "stream",
     "text": [
      "dict_keys(['key0', 'key1', 'key2', 'key3'])\n",
      "dict_values([92, 52, 46, 8])\n",
      "52\n"
     ]
    }
   ],
   "source": [
    "d = {'key0': 92, 'key1': 52, 'key2': 46, 'key3': 8}\n",
    "print(d.keys())\n",
    "print(d.values())\n",
    "print(d.get('key1'))"
   ]
  },
  {
   "cell_type": "code",
   "execution_count": 390,
   "metadata": {},
   "outputs": [
    {
     "name": "stdout",
     "output_type": "stream",
     "text": [
      "dict_keys(['key0', 'key1'])\n",
      "dict_values([68, 6])\n",
      "6\n"
     ]
    }
   ],
   "source": [
    "d = {'key0': 68, 'key1': 6}\n",
    "print(d.keys())\n",
    "print(d.values())\n",
    "print(d.get('key1'))"
   ]
  },
  {
   "cell_type": "code",
   "execution_count": 391,
   "metadata": {},
   "outputs": [
    {
     "name": "stdout",
     "output_type": "stream",
     "text": [
      "dict_keys(['key0', 'key1'])\n",
      "dict_values([62, 93])\n",
      "93\n"
     ]
    }
   ],
   "source": [
    "d = {'key0': 62, 'key1': 93}\n",
    "print(d.keys())\n",
    "print(d.values())\n",
    "print(d.get('key1'))"
   ]
  },
  {
   "cell_type": "code",
   "execution_count": 392,
   "metadata": {},
   "outputs": [
    {
     "name": "stdout",
     "output_type": "stream",
     "text": [
      "dict_keys(['key0', 'key1', 'key2', 'key3'])\n",
      "dict_values([34, 2, 52, 40])\n",
      "2\n"
     ]
    }
   ],
   "source": [
    "d = {'key0': 34, 'key1': 2, 'key2': 52, 'key3': 40}\n",
    "print(d.keys())\n",
    "print(d.values())\n",
    "print(d.get('key1'))"
   ]
  },
  {
   "cell_type": "code",
   "execution_count": 393,
   "metadata": {},
   "outputs": [
    {
     "name": "stdout",
     "output_type": "stream",
     "text": [
      "dict_keys(['key0', 'key1', 'key2'])\n",
      "dict_values([66, 71, 58])\n",
      "71\n"
     ]
    }
   ],
   "source": [
    "d = {'key0': 66, 'key1': 71, 'key2': 58}\n",
    "print(d.keys())\n",
    "print(d.values())\n",
    "print(d.get('key1'))"
   ]
  },
  {
   "cell_type": "code",
   "execution_count": 394,
   "metadata": {},
   "outputs": [
    {
     "name": "stdout",
     "output_type": "stream",
     "text": [
      "dict_keys(['key0', 'key1', 'key2', 'key3'])\n",
      "dict_values([55, 34, 63, 42])\n",
      "34\n"
     ]
    }
   ],
   "source": [
    "d = {'key0': 55, 'key1': 34, 'key2': 63, 'key3': 42}\n",
    "print(d.keys())\n",
    "print(d.values())\n",
    "print(d.get('key1'))"
   ]
  },
  {
   "cell_type": "code",
   "execution_count": 395,
   "metadata": {},
   "outputs": [
    {
     "name": "stdout",
     "output_type": "stream",
     "text": [
      "dict_keys(['key0', 'key1', 'key2'])\n",
      "dict_values([91, 11, 60])\n",
      "11\n"
     ]
    }
   ],
   "source": [
    "d = {'key0': 91, 'key1': 11, 'key2': 60}\n",
    "print(d.keys())\n",
    "print(d.values())\n",
    "print(d.get('key1'))"
   ]
  },
  {
   "cell_type": "code",
   "execution_count": 396,
   "metadata": {},
   "outputs": [
    {
     "name": "stdout",
     "output_type": "stream",
     "text": [
      "dict_keys(['key0', 'key1', 'key2', 'key3'])\n",
      "dict_values([47, 78, 90, 87])\n",
      "78\n"
     ]
    }
   ],
   "source": [
    "d = {'key0': 47, 'key1': 78, 'key2': 90, 'key3': 87}\n",
    "print(d.keys())\n",
    "print(d.values())\n",
    "print(d.get('key1'))"
   ]
  },
  {
   "cell_type": "code",
   "execution_count": 397,
   "metadata": {},
   "outputs": [
    {
     "name": "stdout",
     "output_type": "stream",
     "text": [
      "dict_keys(['key0', 'key1', 'key2', 'key3'])\n",
      "dict_values([49, 14, 68, 58])\n",
      "14\n"
     ]
    }
   ],
   "source": [
    "d = {'key0': 49, 'key1': 14, 'key2': 68, 'key3': 58}\n",
    "print(d.keys())\n",
    "print(d.values())\n",
    "print(d.get('key1'))"
   ]
  },
  {
   "cell_type": "code",
   "execution_count": 398,
   "metadata": {},
   "outputs": [
    {
     "name": "stdout",
     "output_type": "stream",
     "text": [
      "dict_keys(['key0', 'key1'])\n",
      "dict_values([5, 49])\n",
      "49\n"
     ]
    }
   ],
   "source": [
    "d = {'key0': 5, 'key1': 49}\n",
    "print(d.keys())\n",
    "print(d.values())\n",
    "print(d.get('key1'))"
   ]
  },
  {
   "cell_type": "code",
   "execution_count": 399,
   "metadata": {},
   "outputs": [
    {
     "name": "stdout",
     "output_type": "stream",
     "text": [
      "dict_keys(['key0', 'key1'])\n",
      "dict_values([32, 6])\n",
      "6\n"
     ]
    }
   ],
   "source": [
    "d = {'key0': 32, 'key1': 6}\n",
    "print(d.keys())\n",
    "print(d.values())\n",
    "print(d.get('key1'))"
   ]
  },
  {
   "cell_type": "code",
   "execution_count": 400,
   "metadata": {},
   "outputs": [
    {
     "name": "stdout",
     "output_type": "stream",
     "text": [
      "dict_keys(['key0', 'key1', 'key2', 'key3'])\n",
      "dict_values([93, 99, 35, 22])\n",
      "99\n"
     ]
    }
   ],
   "source": [
    "d = {'key0': 93, 'key1': 99, 'key2': 35, 'key3': 22}\n",
    "print(d.keys())\n",
    "print(d.values())\n",
    "print(d.get('key1'))"
   ]
  },
  {
   "cell_type": "code",
   "execution_count": 401,
   "metadata": {},
   "outputs": [
    {
     "name": "stdout",
     "output_type": "stream",
     "text": [
      "dict_keys(['key0', 'key1'])\n",
      "dict_values([82, 20])\n",
      "20\n"
     ]
    }
   ],
   "source": [
    "d = {'key0': 82, 'key1': 20}\n",
    "print(d.keys())\n",
    "print(d.values())\n",
    "print(d.get('key1'))"
   ]
  },
  {
   "cell_type": "code",
   "execution_count": 402,
   "metadata": {},
   "outputs": [
    {
     "name": "stdout",
     "output_type": "stream",
     "text": [
      "dict_keys(['key0', 'key1', 'key2'])\n",
      "dict_values([66, 5, 72])\n",
      "5\n"
     ]
    }
   ],
   "source": [
    "d = {'key0': 66, 'key1': 5, 'key2': 72}\n",
    "print(d.keys())\n",
    "print(d.values())\n",
    "print(d.get('key1'))"
   ]
  },
  {
   "cell_type": "code",
   "execution_count": 403,
   "metadata": {},
   "outputs": [
    {
     "name": "stdout",
     "output_type": "stream",
     "text": [
      "dict_keys(['key0', 'key1'])\n",
      "dict_values([77, 12])\n",
      "12\n"
     ]
    }
   ],
   "source": [
    "d = {'key0': 77, 'key1': 12}\n",
    "print(d.keys())\n",
    "print(d.values())\n",
    "print(d.get('key1'))"
   ]
  },
  {
   "cell_type": "code",
   "execution_count": 404,
   "metadata": {},
   "outputs": [
    {
     "name": "stdout",
     "output_type": "stream",
     "text": [
      "dict_keys(['key0', 'key1'])\n",
      "dict_values([41, 39])\n",
      "39\n"
     ]
    }
   ],
   "source": [
    "d = {'key0': 41, 'key1': 39}\n",
    "print(d.keys())\n",
    "print(d.values())\n",
    "print(d.get('key1'))"
   ]
  },
  {
   "cell_type": "code",
   "execution_count": 405,
   "metadata": {},
   "outputs": [
    {
     "name": "stdout",
     "output_type": "stream",
     "text": [
      "dict_keys(['key0', 'key1', 'key2', 'key3'])\n",
      "dict_values([70, 31, 31, 74])\n",
      "31\n"
     ]
    }
   ],
   "source": [
    "d = {'key0': 70, 'key1': 31, 'key2': 31, 'key3': 74}\n",
    "print(d.keys())\n",
    "print(d.values())\n",
    "print(d.get('key1'))"
   ]
  },
  {
   "cell_type": "code",
   "execution_count": 406,
   "metadata": {},
   "outputs": [
    {
     "name": "stdout",
     "output_type": "stream",
     "text": [
      "dict_keys(['key0', 'key1'])\n",
      "dict_values([45, 78])\n",
      "78\n"
     ]
    }
   ],
   "source": [
    "d = {'key0': 45, 'key1': 78}\n",
    "print(d.keys())\n",
    "print(d.values())\n",
    "print(d.get('key1'))"
   ]
  },
  {
   "cell_type": "code",
   "execution_count": 407,
   "metadata": {},
   "outputs": [
    {
     "name": "stdout",
     "output_type": "stream",
     "text": [
      "dict_keys(['key0', 'key1', 'key2', 'key3'])\n",
      "dict_values([44, 24, 49, 25])\n",
      "24\n"
     ]
    }
   ],
   "source": [
    "d = {'key0': 44, 'key1': 24, 'key2': 49, 'key3': 25}\n",
    "print(d.keys())\n",
    "print(d.values())\n",
    "print(d.get('key1'))"
   ]
  },
  {
   "cell_type": "code",
   "execution_count": 408,
   "metadata": {},
   "outputs": [
    {
     "name": "stdout",
     "output_type": "stream",
     "text": [
      "dict_keys(['key0', 'key1', 'key2', 'key3'])\n",
      "dict_values([3, 72, 50, 21])\n",
      "72\n"
     ]
    }
   ],
   "source": [
    "d = {'key0': 3, 'key1': 72, 'key2': 50, 'key3': 21}\n",
    "print(d.keys())\n",
    "print(d.values())\n",
    "print(d.get('key1'))"
   ]
  },
  {
   "cell_type": "code",
   "execution_count": 409,
   "metadata": {},
   "outputs": [
    {
     "name": "stdout",
     "output_type": "stream",
     "text": [
      "dict_keys(['key0', 'key1'])\n",
      "dict_values([54, 87])\n",
      "87\n"
     ]
    }
   ],
   "source": [
    "d = {'key0': 54, 'key1': 87}\n",
    "print(d.keys())\n",
    "print(d.values())\n",
    "print(d.get('key1'))"
   ]
  },
  {
   "cell_type": "code",
   "execution_count": 410,
   "metadata": {},
   "outputs": [
    {
     "name": "stdout",
     "output_type": "stream",
     "text": [
      "dict_keys(['key0', 'key1', 'key2', 'key3'])\n",
      "dict_values([10, 16, 46, 47])\n",
      "16\n"
     ]
    }
   ],
   "source": [
    "d = {'key0': 10, 'key1': 16, 'key2': 46, 'key3': 47}\n",
    "print(d.keys())\n",
    "print(d.values())\n",
    "print(d.get('key1'))"
   ]
  },
  {
   "cell_type": "code",
   "execution_count": 411,
   "metadata": {},
   "outputs": [
    {
     "name": "stdout",
     "output_type": "stream",
     "text": [
      "dict_keys(['key0', 'key1', 'key2'])\n",
      "dict_values([91, 96, 24])\n",
      "96\n"
     ]
    }
   ],
   "source": [
    "d = {'key0': 91, 'key1': 96, 'key2': 24}\n",
    "print(d.keys())\n",
    "print(d.values())\n",
    "print(d.get('key1'))"
   ]
  },
  {
   "cell_type": "code",
   "execution_count": 412,
   "metadata": {},
   "outputs": [
    {
     "name": "stdout",
     "output_type": "stream",
     "text": [
      "dict_keys(['key0', 'key1', 'key2'])\n",
      "dict_values([70, 90, 71])\n",
      "90\n"
     ]
    }
   ],
   "source": [
    "d = {'key0': 70, 'key1': 90, 'key2': 71}\n",
    "print(d.keys())\n",
    "print(d.values())\n",
    "print(d.get('key1'))"
   ]
  },
  {
   "cell_type": "code",
   "execution_count": 413,
   "metadata": {},
   "outputs": [
    {
     "name": "stdout",
     "output_type": "stream",
     "text": [
      "dict_keys(['key0', 'key1', 'key2', 'key3'])\n",
      "dict_values([91, 17, 26, 62])\n",
      "17\n"
     ]
    }
   ],
   "source": [
    "d = {'key0': 91, 'key1': 17, 'key2': 26, 'key3': 62}\n",
    "print(d.keys())\n",
    "print(d.values())\n",
    "print(d.get('key1'))"
   ]
  },
  {
   "cell_type": "code",
   "execution_count": 414,
   "metadata": {},
   "outputs": [
    {
     "name": "stdout",
     "output_type": "stream",
     "text": [
      "dict_keys(['key0', 'key1', 'key2', 'key3'])\n",
      "dict_values([89, 3, 33, 48])\n",
      "3\n"
     ]
    }
   ],
   "source": [
    "d = {'key0': 89, 'key1': 3, 'key2': 33, 'key3': 48}\n",
    "print(d.keys())\n",
    "print(d.values())\n",
    "print(d.get('key1'))"
   ]
  },
  {
   "cell_type": "code",
   "execution_count": 415,
   "metadata": {},
   "outputs": [
    {
     "name": "stdout",
     "output_type": "stream",
     "text": [
      "dict_keys(['key0', 'key1', 'key2'])\n",
      "dict_values([2, 8, 27])\n",
      "8\n"
     ]
    }
   ],
   "source": [
    "d = {'key0': 2, 'key1': 8, 'key2': 27}\n",
    "print(d.keys())\n",
    "print(d.values())\n",
    "print(d.get('key1'))"
   ]
  },
  {
   "cell_type": "code",
   "execution_count": 416,
   "metadata": {},
   "outputs": [
    {
     "name": "stdout",
     "output_type": "stream",
     "text": [
      "dict_keys(['key0', 'key1', 'key2'])\n",
      "dict_values([36, 74, 2])\n",
      "74\n"
     ]
    }
   ],
   "source": [
    "d = {'key0': 36, 'key1': 74, 'key2': 2}\n",
    "print(d.keys())\n",
    "print(d.values())\n",
    "print(d.get('key1'))"
   ]
  },
  {
   "cell_type": "code",
   "execution_count": 417,
   "metadata": {},
   "outputs": [
    {
     "name": "stdout",
     "output_type": "stream",
     "text": [
      "dict_keys(['key0', 'key1', 'key2', 'key3'])\n",
      "dict_values([73, 18, 37, 56])\n",
      "18\n"
     ]
    }
   ],
   "source": [
    "d = {'key0': 73, 'key1': 18, 'key2': 37, 'key3': 56}\n",
    "print(d.keys())\n",
    "print(d.values())\n",
    "print(d.get('key1'))"
   ]
  },
  {
   "cell_type": "code",
   "execution_count": 418,
   "metadata": {},
   "outputs": [
    {
     "name": "stdout",
     "output_type": "stream",
     "text": [
      "dict_keys(['key0', 'key1', 'key2', 'key3'])\n",
      "dict_values([64, 3, 53, 55])\n",
      "3\n"
     ]
    }
   ],
   "source": [
    "d = {'key0': 64, 'key1': 3, 'key2': 53, 'key3': 55}\n",
    "print(d.keys())\n",
    "print(d.values())\n",
    "print(d.get('key1'))"
   ]
  },
  {
   "cell_type": "code",
   "execution_count": 419,
   "metadata": {},
   "outputs": [
    {
     "name": "stdout",
     "output_type": "stream",
     "text": [
      "dict_keys(['key0', 'key1'])\n",
      "dict_values([81, 40])\n",
      "40\n"
     ]
    }
   ],
   "source": [
    "d = {'key0': 81, 'key1': 40}\n",
    "print(d.keys())\n",
    "print(d.values())\n",
    "print(d.get('key1'))"
   ]
  },
  {
   "cell_type": "code",
   "execution_count": 420,
   "metadata": {},
   "outputs": [
    {
     "name": "stdout",
     "output_type": "stream",
     "text": [
      "dict_keys(['key0', 'key1', 'key2', 'key3'])\n",
      "dict_values([8, 24, 52, 10])\n",
      "24\n"
     ]
    }
   ],
   "source": [
    "d = {'key0': 8, 'key1': 24, 'key2': 52, 'key3': 10}\n",
    "print(d.keys())\n",
    "print(d.values())\n",
    "print(d.get('key1'))"
   ]
  },
  {
   "cell_type": "code",
   "execution_count": 421,
   "metadata": {},
   "outputs": [
    {
     "name": "stdout",
     "output_type": "stream",
     "text": [
      "dict_keys(['key0', 'key1', 'key2', 'key3'])\n",
      "dict_values([61, 63, 81, 5])\n",
      "63\n"
     ]
    }
   ],
   "source": [
    "d = {'key0': 61, 'key1': 63, 'key2': 81, 'key3': 5}\n",
    "print(d.keys())\n",
    "print(d.values())\n",
    "print(d.get('key1'))"
   ]
  },
  {
   "cell_type": "code",
   "execution_count": 422,
   "metadata": {},
   "outputs": [
    {
     "name": "stdout",
     "output_type": "stream",
     "text": [
      "dict_keys(['key0', 'key1', 'key2'])\n",
      "dict_values([26, 71, 42])\n",
      "71\n"
     ]
    }
   ],
   "source": [
    "d = {'key0': 26, 'key1': 71, 'key2': 42}\n",
    "print(d.keys())\n",
    "print(d.values())\n",
    "print(d.get('key1'))"
   ]
  },
  {
   "cell_type": "code",
   "execution_count": 423,
   "metadata": {},
   "outputs": [
    {
     "name": "stdout",
     "output_type": "stream",
     "text": [
      "dict_keys(['key0', 'key1', 'key2', 'key3'])\n",
      "dict_values([42, 56, 81, 80])\n",
      "56\n"
     ]
    }
   ],
   "source": [
    "d = {'key0': 42, 'key1': 56, 'key2': 81, 'key3': 80}\n",
    "print(d.keys())\n",
    "print(d.values())\n",
    "print(d.get('key1'))"
   ]
  },
  {
   "cell_type": "code",
   "execution_count": 424,
   "metadata": {},
   "outputs": [
    {
     "name": "stdout",
     "output_type": "stream",
     "text": [
      "dict_keys(['key0', 'key1', 'key2'])\n",
      "dict_values([16, 7, 19])\n",
      "7\n"
     ]
    }
   ],
   "source": [
    "d = {'key0': 16, 'key1': 7, 'key2': 19}\n",
    "print(d.keys())\n",
    "print(d.values())\n",
    "print(d.get('key1'))"
   ]
  },
  {
   "cell_type": "code",
   "execution_count": 425,
   "metadata": {},
   "outputs": [
    {
     "name": "stdout",
     "output_type": "stream",
     "text": [
      "dict_keys(['key0', 'key1', 'key2'])\n",
      "dict_values([28, 50, 57])\n",
      "50\n"
     ]
    }
   ],
   "source": [
    "d = {'key0': 28, 'key1': 50, 'key2': 57}\n",
    "print(d.keys())\n",
    "print(d.values())\n",
    "print(d.get('key1'))"
   ]
  },
  {
   "cell_type": "code",
   "execution_count": 426,
   "metadata": {},
   "outputs": [
    {
     "name": "stdout",
     "output_type": "stream",
     "text": [
      "dict_keys(['key0', 'key1', 'key2', 'key3'])\n",
      "dict_values([47, 40, 34, 57])\n",
      "40\n"
     ]
    }
   ],
   "source": [
    "d = {'key0': 47, 'key1': 40, 'key2': 34, 'key3': 57}\n",
    "print(d.keys())\n",
    "print(d.values())\n",
    "print(d.get('key1'))"
   ]
  },
  {
   "cell_type": "code",
   "execution_count": 427,
   "metadata": {},
   "outputs": [
    {
     "name": "stdout",
     "output_type": "stream",
     "text": [
      "dict_keys(['key0', 'key1', 'key2'])\n",
      "dict_values([23, 61, 11])\n",
      "61\n"
     ]
    }
   ],
   "source": [
    "d = {'key0': 23, 'key1': 61, 'key2': 11}\n",
    "print(d.keys())\n",
    "print(d.values())\n",
    "print(d.get('key1'))"
   ]
  },
  {
   "cell_type": "code",
   "execution_count": 428,
   "metadata": {},
   "outputs": [
    {
     "name": "stdout",
     "output_type": "stream",
     "text": [
      "dict_keys(['key0', 'key1'])\n",
      "dict_values([66, 66])\n",
      "66\n"
     ]
    }
   ],
   "source": [
    "d = {'key0': 66, 'key1': 66}\n",
    "print(d.keys())\n",
    "print(d.values())\n",
    "print(d.get('key1'))"
   ]
  },
  {
   "cell_type": "code",
   "execution_count": 429,
   "metadata": {},
   "outputs": [
    {
     "name": "stdout",
     "output_type": "stream",
     "text": [
      "dict_keys(['key0', 'key1', 'key2'])\n",
      "dict_values([56, 77, 91])\n",
      "77\n"
     ]
    }
   ],
   "source": [
    "d = {'key0': 56, 'key1': 77, 'key2': 91}\n",
    "print(d.keys())\n",
    "print(d.values())\n",
    "print(d.get('key1'))"
   ]
  },
  {
   "cell_type": "code",
   "execution_count": 430,
   "metadata": {},
   "outputs": [
    {
     "name": "stdout",
     "output_type": "stream",
     "text": [
      "dict_keys(['key0', 'key1'])\n",
      "dict_values([63, 93])\n",
      "93\n"
     ]
    }
   ],
   "source": [
    "d = {'key0': 63, 'key1': 93}\n",
    "print(d.keys())\n",
    "print(d.values())\n",
    "print(d.get('key1'))"
   ]
  },
  {
   "cell_type": "code",
   "execution_count": 431,
   "metadata": {},
   "outputs": [
    {
     "name": "stdout",
     "output_type": "stream",
     "text": [
      "dict_keys(['key0', 'key1'])\n",
      "dict_values([68, 62])\n",
      "62\n"
     ]
    }
   ],
   "source": [
    "d = {'key0': 68, 'key1': 62}\n",
    "print(d.keys())\n",
    "print(d.values())\n",
    "print(d.get('key1'))"
   ]
  },
  {
   "cell_type": "code",
   "execution_count": 432,
   "metadata": {},
   "outputs": [
    {
     "name": "stdout",
     "output_type": "stream",
     "text": [
      "dict_keys(['key0', 'key1', 'key2', 'key3'])\n",
      "dict_values([36, 36, 87, 8])\n",
      "36\n"
     ]
    }
   ],
   "source": [
    "d = {'key0': 36, 'key1': 36, 'key2': 87, 'key3': 8}\n",
    "print(d.keys())\n",
    "print(d.values())\n",
    "print(d.get('key1'))"
   ]
  },
  {
   "cell_type": "code",
   "execution_count": 433,
   "metadata": {},
   "outputs": [
    {
     "name": "stdout",
     "output_type": "stream",
     "text": [
      "dict_keys(['key0', 'key1'])\n",
      "dict_values([8, 57])\n",
      "57\n"
     ]
    }
   ],
   "source": [
    "d = {'key0': 8, 'key1': 57}\n",
    "print(d.keys())\n",
    "print(d.values())\n",
    "print(d.get('key1'))"
   ]
  },
  {
   "cell_type": "code",
   "execution_count": 434,
   "metadata": {},
   "outputs": [
    {
     "name": "stdout",
     "output_type": "stream",
     "text": [
      "dict_keys(['key0', 'key1', 'key2', 'key3'])\n",
      "dict_values([42, 76, 82, 66])\n",
      "76\n"
     ]
    }
   ],
   "source": [
    "d = {'key0': 42, 'key1': 76, 'key2': 82, 'key3': 66}\n",
    "print(d.keys())\n",
    "print(d.values())\n",
    "print(d.get('key1'))"
   ]
  },
  {
   "cell_type": "code",
   "execution_count": 435,
   "metadata": {},
   "outputs": [
    {
     "name": "stdout",
     "output_type": "stream",
     "text": [
      "dict_keys(['key0', 'key1', 'key2', 'key3'])\n",
      "dict_values([38, 8, 93, 47])\n",
      "8\n"
     ]
    }
   ],
   "source": [
    "d = {'key0': 38, 'key1': 8, 'key2': 93, 'key3': 47}\n",
    "print(d.keys())\n",
    "print(d.values())\n",
    "print(d.get('key1'))"
   ]
  },
  {
   "cell_type": "code",
   "execution_count": 436,
   "metadata": {},
   "outputs": [
    {
     "name": "stdout",
     "output_type": "stream",
     "text": [
      "dict_keys(['key0', 'key1', 'key2', 'key3'])\n",
      "dict_values([28, 65, 36, 88])\n",
      "65\n"
     ]
    }
   ],
   "source": [
    "d = {'key0': 28, 'key1': 65, 'key2': 36, 'key3': 88}\n",
    "print(d.keys())\n",
    "print(d.values())\n",
    "print(d.get('key1'))"
   ]
  },
  {
   "cell_type": "code",
   "execution_count": 437,
   "metadata": {},
   "outputs": [
    {
     "name": "stdout",
     "output_type": "stream",
     "text": [
      "dict_keys(['key0', 'key1'])\n",
      "dict_values([70, 77])\n",
      "77\n"
     ]
    }
   ],
   "source": [
    "d = {'key0': 70, 'key1': 77}\n",
    "print(d.keys())\n",
    "print(d.values())\n",
    "print(d.get('key1'))"
   ]
  },
  {
   "cell_type": "code",
   "execution_count": 438,
   "metadata": {},
   "outputs": [
    {
     "name": "stdout",
     "output_type": "stream",
     "text": [
      "dict_keys(['key0', 'key1', 'key2'])\n",
      "dict_values([97, 26, 2])\n",
      "26\n"
     ]
    }
   ],
   "source": [
    "d = {'key0': 97, 'key1': 26, 'key2': 2}\n",
    "print(d.keys())\n",
    "print(d.values())\n",
    "print(d.get('key1'))"
   ]
  },
  {
   "cell_type": "code",
   "execution_count": 439,
   "metadata": {},
   "outputs": [
    {
     "name": "stdout",
     "output_type": "stream",
     "text": [
      "dict_keys(['key0', 'key1', 'key2', 'key3'])\n",
      "dict_values([94, 36, 28, 20])\n",
      "36\n"
     ]
    }
   ],
   "source": [
    "d = {'key0': 94, 'key1': 36, 'key2': 28, 'key3': 20}\n",
    "print(d.keys())\n",
    "print(d.values())\n",
    "print(d.get('key1'))"
   ]
  },
  {
   "cell_type": "code",
   "execution_count": 440,
   "metadata": {},
   "outputs": [
    {
     "name": "stdout",
     "output_type": "stream",
     "text": [
      "dict_keys(['key0', 'key1', 'key2', 'key3'])\n",
      "dict_values([70, 8, 92, 58])\n",
      "8\n"
     ]
    }
   ],
   "source": [
    "d = {'key0': 70, 'key1': 8, 'key2': 92, 'key3': 58}\n",
    "print(d.keys())\n",
    "print(d.values())\n",
    "print(d.get('key1'))"
   ]
  },
  {
   "cell_type": "code",
   "execution_count": 441,
   "metadata": {},
   "outputs": [
    {
     "name": "stdout",
     "output_type": "stream",
     "text": [
      "dict_keys(['key0', 'key1', 'key2'])\n",
      "dict_values([68, 8, 91])\n",
      "8\n"
     ]
    }
   ],
   "source": [
    "d = {'key0': 68, 'key1': 8, 'key2': 91}\n",
    "print(d.keys())\n",
    "print(d.values())\n",
    "print(d.get('key1'))"
   ]
  },
  {
   "cell_type": "code",
   "execution_count": 442,
   "metadata": {},
   "outputs": [
    {
     "name": "stdout",
     "output_type": "stream",
     "text": [
      "dict_keys(['key0', 'key1', 'key2'])\n",
      "dict_values([24, 45, 98])\n",
      "45\n"
     ]
    }
   ],
   "source": [
    "d = {'key0': 24, 'key1': 45, 'key2': 98}\n",
    "print(d.keys())\n",
    "print(d.values())\n",
    "print(d.get('key1'))"
   ]
  },
  {
   "cell_type": "code",
   "execution_count": 443,
   "metadata": {},
   "outputs": [
    {
     "name": "stdout",
     "output_type": "stream",
     "text": [
      "dict_keys(['key0', 'key1'])\n",
      "dict_values([86, 92])\n",
      "92\n"
     ]
    }
   ],
   "source": [
    "d = {'key0': 86, 'key1': 92}\n",
    "print(d.keys())\n",
    "print(d.values())\n",
    "print(d.get('key1'))"
   ]
  },
  {
   "cell_type": "code",
   "execution_count": 444,
   "metadata": {},
   "outputs": [
    {
     "name": "stdout",
     "output_type": "stream",
     "text": [
      "dict_keys(['key0', 'key1'])\n",
      "dict_values([48, 73])\n",
      "73\n"
     ]
    }
   ],
   "source": [
    "d = {'key0': 48, 'key1': 73}\n",
    "print(d.keys())\n",
    "print(d.values())\n",
    "print(d.get('key1'))"
   ]
  },
  {
   "cell_type": "code",
   "execution_count": 445,
   "metadata": {},
   "outputs": [
    {
     "name": "stdout",
     "output_type": "stream",
     "text": [
      "dict_keys(['key0', 'key1', 'key2', 'key3'])\n",
      "dict_values([42, 13, 55, 97])\n",
      "13\n"
     ]
    }
   ],
   "source": [
    "d = {'key0': 42, 'key1': 13, 'key2': 55, 'key3': 97}\n",
    "print(d.keys())\n",
    "print(d.values())\n",
    "print(d.get('key1'))"
   ]
  },
  {
   "cell_type": "code",
   "execution_count": 446,
   "metadata": {},
   "outputs": [
    {
     "name": "stdout",
     "output_type": "stream",
     "text": [
      "dict_keys(['key0', 'key1', 'key2'])\n",
      "dict_values([24, 39, 68])\n",
      "39\n"
     ]
    }
   ],
   "source": [
    "d = {'key0': 24, 'key1': 39, 'key2': 68}\n",
    "print(d.keys())\n",
    "print(d.values())\n",
    "print(d.get('key1'))"
   ]
  },
  {
   "cell_type": "code",
   "execution_count": 447,
   "metadata": {},
   "outputs": [
    {
     "name": "stdout",
     "output_type": "stream",
     "text": [
      "dict_keys(['key0', 'key1', 'key2', 'key3'])\n",
      "dict_values([92, 73, 39, 6])\n",
      "73\n"
     ]
    }
   ],
   "source": [
    "d = {'key0': 92, 'key1': 73, 'key2': 39, 'key3': 6}\n",
    "print(d.keys())\n",
    "print(d.values())\n",
    "print(d.get('key1'))"
   ]
  },
  {
   "cell_type": "code",
   "execution_count": 448,
   "metadata": {},
   "outputs": [
    {
     "name": "stdout",
     "output_type": "stream",
     "text": [
      "dict_keys(['key0', 'key1', 'key2', 'key3'])\n",
      "dict_values([89, 56, 29, 16])\n",
      "56\n"
     ]
    }
   ],
   "source": [
    "d = {'key0': 89, 'key1': 56, 'key2': 29, 'key3': 16}\n",
    "print(d.keys())\n",
    "print(d.values())\n",
    "print(d.get('key1'))"
   ]
  },
  {
   "cell_type": "code",
   "execution_count": 449,
   "metadata": {},
   "outputs": [
    {
     "name": "stdout",
     "output_type": "stream",
     "text": [
      "dict_keys(['key0', 'key1', 'key2'])\n",
      "dict_values([59, 81, 4])\n",
      "81\n"
     ]
    }
   ],
   "source": [
    "d = {'key0': 59, 'key1': 81, 'key2': 4}\n",
    "print(d.keys())\n",
    "print(d.values())\n",
    "print(d.get('key1'))"
   ]
  },
  {
   "cell_type": "code",
   "execution_count": 450,
   "metadata": {},
   "outputs": [
    {
     "name": "stdout",
     "output_type": "stream",
     "text": [
      "dict_keys(['key0', 'key1', 'key2'])\n",
      "dict_values([32, 57, 81])\n",
      "57\n"
     ]
    }
   ],
   "source": [
    "d = {'key0': 32, 'key1': 57, 'key2': 81}\n",
    "print(d.keys())\n",
    "print(d.values())\n",
    "print(d.get('key1'))"
   ]
  },
  {
   "cell_type": "code",
   "execution_count": 451,
   "metadata": {},
   "outputs": [
    {
     "name": "stdout",
     "output_type": "stream",
     "text": [
      "{24, 18, 5, 15}\n",
      "4\n"
     ]
    }
   ],
   "source": [
    "st = {18, 5, 15}\n",
    "st.add(24)\n",
    "print(st)\n",
    "print(len(st))"
   ]
  },
  {
   "cell_type": "code",
   "execution_count": 452,
   "metadata": {},
   "outputs": [
    {
     "name": "stdout",
     "output_type": "stream",
     "text": [
      "{17, 5, 7, 8, 9, 26}\n",
      "6\n"
     ]
    }
   ],
   "source": [
    "st = {5, 7, 8, 9, 17}\n",
    "st.add(26)\n",
    "print(st)\n",
    "print(len(st))"
   ]
  },
  {
   "cell_type": "code",
   "execution_count": 453,
   "metadata": {},
   "outputs": [
    {
     "name": "stdout",
     "output_type": "stream",
     "text": [
      "{1, 2, 4, 6, 9, 26, 14}\n",
      "7\n"
     ]
    }
   ],
   "source": [
    "st = {1, 2, 4, 6, 9, 14}\n",
    "st.add(26)\n",
    "print(st)\n",
    "print(len(st))"
   ]
  },
  {
   "cell_type": "code",
   "execution_count": 454,
   "metadata": {},
   "outputs": [
    {
     "name": "stdout",
     "output_type": "stream",
     "text": [
      "{2, 18, 6, 8, 11, 30}\n",
      "6\n"
     ]
    }
   ],
   "source": [
    "st = {2, 6, 8, 11, 18}\n",
    "st.add(30)\n",
    "print(st)\n",
    "print(len(st))"
   ]
  },
  {
   "cell_type": "code",
   "execution_count": 455,
   "metadata": {},
   "outputs": [
    {
     "name": "stdout",
     "output_type": "stream",
     "text": [
      "{1, 18, 24, 10, 13, 15}\n",
      "6\n"
     ]
    }
   ],
   "source": [
    "st = {1, 10, 13, 15, 18}\n",
    "st.add(24)\n",
    "print(st)\n",
    "print(len(st))"
   ]
  },
  {
   "cell_type": "code",
   "execution_count": 456,
   "metadata": {},
   "outputs": [
    {
     "name": "stdout",
     "output_type": "stream",
     "text": [
      "{3, 6, 8, 17, 20}\n",
      "5\n"
     ]
    }
   ],
   "source": [
    "st = {8, 17, 3, 6}\n",
    "st.add(20)\n",
    "print(st)\n",
    "print(len(st))"
   ]
  },
  {
   "cell_type": "code",
   "execution_count": 457,
   "metadata": {},
   "outputs": [
    {
     "name": "stdout",
     "output_type": "stream",
     "text": [
      "{24, 9, 19, 13}\n",
      "4\n"
     ]
    }
   ],
   "source": [
    "st = {9, 19, 13}\n",
    "st.add(24)\n",
    "print(st)\n",
    "print(len(st))"
   ]
  },
  {
   "cell_type": "code",
   "execution_count": 458,
   "metadata": {},
   "outputs": [
    {
     "name": "stdout",
     "output_type": "stream",
     "text": [
      "{17, 2, 3, 23, 8, 9, 12}\n",
      "7\n"
     ]
    }
   ],
   "source": [
    "st = {2, 3, 8, 9, 12, 17}\n",
    "st.add(23)\n",
    "print(st)\n",
    "print(len(st))"
   ]
  },
  {
   "cell_type": "code",
   "execution_count": 459,
   "metadata": {},
   "outputs": [
    {
     "name": "stdout",
     "output_type": "stream",
     "text": [
      "{12, 13, 15, 17, 28}\n",
      "5\n"
     ]
    }
   ],
   "source": [
    "st = {17, 12, 13, 15}\n",
    "st.add(28)\n",
    "print(st)\n",
    "print(len(st))"
   ]
  },
  {
   "cell_type": "code",
   "execution_count": 460,
   "metadata": {},
   "outputs": [
    {
     "name": "stdout",
     "output_type": "stream",
     "text": [
      "{1, 9, 16, 18, 28}\n",
      "5\n"
     ]
    }
   ],
   "source": [
    "st = {16, 9, 18, 1}\n",
    "st.add(28)\n",
    "print(st)\n",
    "print(len(st))"
   ]
  },
  {
   "cell_type": "code",
   "execution_count": 461,
   "metadata": {},
   "outputs": [
    {
     "name": "stdout",
     "output_type": "stream",
     "text": [
      "{19, 4, 22, 7, 9, 15}\n",
      "6\n"
     ]
    }
   ],
   "source": [
    "st = {4, 7, 9, 15, 19}\n",
    "st.add(22)\n",
    "print(st)\n",
    "print(len(st))"
   ]
  },
  {
   "cell_type": "code",
   "execution_count": 462,
   "metadata": {},
   "outputs": [
    {
     "name": "stdout",
     "output_type": "stream",
     "text": [
      "{1, 2, 17, 19, 21, 11, 15}\n",
      "7\n"
     ]
    }
   ],
   "source": [
    "st = {1, 2, 11, 15, 17, 19}\n",
    "st.add(21)\n",
    "print(st)\n",
    "print(len(st))"
   ]
  },
  {
   "cell_type": "code",
   "execution_count": 463,
   "metadata": {},
   "outputs": [
    {
     "name": "stdout",
     "output_type": "stream",
     "text": [
      "{17, 2, 3, 19, 9, 10, 30}\n",
      "7\n"
     ]
    }
   ],
   "source": [
    "st = {2, 3, 9, 10, 17, 19}\n",
    "st.add(30)\n",
    "print(st)\n",
    "print(len(st))"
   ]
  },
  {
   "cell_type": "code",
   "execution_count": 464,
   "metadata": {},
   "outputs": [
    {
     "name": "stdout",
     "output_type": "stream",
     "text": [
      "{2, 3, 16, 18, 26}\n",
      "5\n"
     ]
    }
   ],
   "source": [
    "st = {16, 18, 2, 3}\n",
    "st.add(26)\n",
    "print(st)\n",
    "print(len(st))"
   ]
  },
  {
   "cell_type": "code",
   "execution_count": 465,
   "metadata": {},
   "outputs": [
    {
     "name": "stdout",
     "output_type": "stream",
     "text": [
      "{16, 1, 26, 6, 10, 13}\n",
      "6\n"
     ]
    }
   ],
   "source": [
    "st = {1, 6, 10, 13, 16}\n",
    "st.add(26)\n",
    "print(st)\n",
    "print(len(st))"
   ]
  },
  {
   "cell_type": "code",
   "execution_count": 466,
   "metadata": {},
   "outputs": [
    {
     "name": "stdout",
     "output_type": "stream",
     "text": [
      "{2, 6, 15, 18, 28}\n",
      "5\n"
     ]
    }
   ],
   "source": [
    "st = {2, 18, 6, 15}\n",
    "st.add(28)\n",
    "print(st)\n",
    "print(len(st))"
   ]
  },
  {
   "cell_type": "code",
   "execution_count": 467,
   "metadata": {},
   "outputs": [
    {
     "name": "stdout",
     "output_type": "stream",
     "text": [
      "{18, 19, 14, 30}\n",
      "4\n"
     ]
    }
   ],
   "source": [
    "st = {18, 19, 14}\n",
    "st.add(30)\n",
    "print(st)\n",
    "print(len(st))"
   ]
  },
  {
   "cell_type": "code",
   "execution_count": 468,
   "metadata": {},
   "outputs": [
    {
     "name": "stdout",
     "output_type": "stream",
     "text": [
      "{2, 13, 15, 17, 29}\n",
      "5\n"
     ]
    }
   ],
   "source": [
    "st = {17, 2, 13, 15}\n",
    "st.add(29)\n",
    "print(st)\n",
    "print(len(st))"
   ]
  },
  {
   "cell_type": "code",
   "execution_count": 469,
   "metadata": {},
   "outputs": [
    {
     "name": "stdout",
     "output_type": "stream",
     "text": [
      "{2, 21, 13, 14}\n",
      "4\n"
     ]
    }
   ],
   "source": [
    "st = {2, 13, 14}\n",
    "st.add(21)\n",
    "print(st)\n",
    "print(len(st))"
   ]
  },
  {
   "cell_type": "code",
   "execution_count": 470,
   "metadata": {},
   "outputs": [
    {
     "name": "stdout",
     "output_type": "stream",
     "text": [
      "{3, 4, 12, 14, 30}\n",
      "5\n"
     ]
    }
   ],
   "source": [
    "st = {3, 12, 4, 14}\n",
    "st.add(30)\n",
    "print(st)\n",
    "print(len(st))"
   ]
  },
  {
   "cell_type": "code",
   "execution_count": 471,
   "metadata": {},
   "outputs": [
    {
     "name": "stdout",
     "output_type": "stream",
     "text": [
      "{11, 14, 15, 18, 25}\n",
      "5\n"
     ]
    }
   ],
   "source": [
    "st = {18, 11, 14, 15}\n",
    "st.add(25)\n",
    "print(st)\n",
    "print(len(st))"
   ]
  },
  {
   "cell_type": "code",
   "execution_count": 472,
   "metadata": {},
   "outputs": [
    {
     "name": "stdout",
     "output_type": "stream",
     "text": [
      "{4, 5, 9, 11, 25}\n",
      "5\n"
     ]
    }
   ],
   "source": [
    "st = {9, 11, 4, 5}\n",
    "st.add(25)\n",
    "print(st)\n",
    "print(len(st))"
   ]
  },
  {
   "cell_type": "code",
   "execution_count": 473,
   "metadata": {},
   "outputs": [
    {
     "name": "stdout",
     "output_type": "stream",
     "text": [
      "{11, 12, 23, 7}\n",
      "4\n"
     ]
    }
   ],
   "source": [
    "st = {11, 12, 7}\n",
    "st.add(23)\n",
    "print(st)\n",
    "print(len(st))"
   ]
  },
  {
   "cell_type": "code",
   "execution_count": 474,
   "metadata": {},
   "outputs": [
    {
     "name": "stdout",
     "output_type": "stream",
     "text": [
      "{1, 19, 23, 6, 7, 9, 13}\n",
      "7\n"
     ]
    }
   ],
   "source": [
    "st = {1, 6, 7, 9, 13, 19}\n",
    "st.add(23)\n",
    "print(st)\n",
    "print(len(st))"
   ]
  },
  {
   "cell_type": "code",
   "execution_count": 475,
   "metadata": {},
   "outputs": [
    {
     "name": "stdout",
     "output_type": "stream",
     "text": [
      "{19, 4, 9, 26, 13, 14}\n",
      "6\n"
     ]
    }
   ],
   "source": [
    "st = {4, 9, 13, 14, 19}\n",
    "st.add(26)\n",
    "print(st)\n",
    "print(len(st))"
   ]
  },
  {
   "cell_type": "code",
   "execution_count": 476,
   "metadata": {},
   "outputs": [
    {
     "name": "stdout",
     "output_type": "stream",
     "text": [
      "{17, 18, 19, 26, 9, 10, 14}\n",
      "7\n"
     ]
    }
   ],
   "source": [
    "st = {9, 10, 14, 17, 18, 19}\n",
    "st.add(26)\n",
    "print(st)\n",
    "print(len(st))"
   ]
  },
  {
   "cell_type": "code",
   "execution_count": 477,
   "metadata": {},
   "outputs": [
    {
     "name": "stdout",
     "output_type": "stream",
     "text": [
      "{1, 4, 13, 17, 20}\n",
      "5\n"
     ]
    }
   ],
   "source": [
    "st = {17, 4, 13, 1}\n",
    "st.add(20)\n",
    "print(st)\n",
    "print(len(st))"
   ]
  },
  {
   "cell_type": "code",
   "execution_count": 478,
   "metadata": {},
   "outputs": [
    {
     "name": "stdout",
     "output_type": "stream",
     "text": [
      "{3, 7, 8, 12, 22}\n",
      "5\n"
     ]
    }
   ],
   "source": [
    "st = {8, 3, 12, 7}\n",
    "st.add(22)\n",
    "print(st)\n",
    "print(len(st))"
   ]
  },
  {
   "cell_type": "code",
   "execution_count": 479,
   "metadata": {},
   "outputs": [
    {
     "name": "stdout",
     "output_type": "stream",
     "text": [
      "{16, 1, 25, 15}\n",
      "4\n"
     ]
    }
   ],
   "source": [
    "st = {16, 1, 15}\n",
    "st.add(25)\n",
    "print(st)\n",
    "print(len(st))"
   ]
  },
  {
   "cell_type": "code",
   "execution_count": 480,
   "metadata": {},
   "outputs": [
    {
     "name": "stdout",
     "output_type": "stream",
     "text": [
      "{29, 4, 5, 15}\n",
      "4\n"
     ]
    }
   ],
   "source": [
    "st = {4, 5, 15}\n",
    "st.add(29)\n",
    "print(st)\n",
    "print(len(st))"
   ]
  },
  {
   "cell_type": "code",
   "execution_count": 481,
   "metadata": {},
   "outputs": [
    {
     "name": "stdout",
     "output_type": "stream",
     "text": [
      "{1, 2, 6, 7, 24, 11, 15}\n",
      "7\n"
     ]
    }
   ],
   "source": [
    "st = {1, 2, 6, 7, 11, 15}\n",
    "st.add(24)\n",
    "print(st)\n",
    "print(len(st))"
   ]
  },
  {
   "cell_type": "code",
   "execution_count": 482,
   "metadata": {},
   "outputs": [
    {
     "name": "stdout",
     "output_type": "stream",
     "text": [
      "{9, 4, 5, 30}\n",
      "4\n"
     ]
    }
   ],
   "source": [
    "st = {9, 4, 5}\n",
    "st.add(30)\n",
    "print(st)\n",
    "print(len(st))"
   ]
  },
  {
   "cell_type": "code",
   "execution_count": 483,
   "metadata": {},
   "outputs": [
    {
     "name": "stdout",
     "output_type": "stream",
     "text": [
      "{24, 10, 12, 14}\n",
      "4\n"
     ]
    }
   ],
   "source": [
    "st = {10, 12, 14}\n",
    "st.add(24)\n",
    "print(st)\n",
    "print(len(st))"
   ]
  },
  {
   "cell_type": "code",
   "execution_count": 484,
   "metadata": {},
   "outputs": [
    {
     "name": "stdout",
     "output_type": "stream",
     "text": [
      "{18, 4, 21, 7, 9, 10}\n",
      "6\n"
     ]
    }
   ],
   "source": [
    "st = {4, 7, 9, 10, 18}\n",
    "st.add(21)\n",
    "print(st)\n",
    "print(len(st))"
   ]
  },
  {
   "cell_type": "code",
   "execution_count": 485,
   "metadata": {},
   "outputs": [
    {
     "name": "stdout",
     "output_type": "stream",
     "text": [
      "{9, 13, 14, 22}\n",
      "4\n"
     ]
    }
   ],
   "source": [
    "st = {9, 13, 14}\n",
    "st.add(22)\n",
    "print(st)\n",
    "print(len(st))"
   ]
  },
  {
   "cell_type": "code",
   "execution_count": 486,
   "metadata": {},
   "outputs": [
    {
     "name": "stdout",
     "output_type": "stream",
     "text": [
      "{3, 4, 20, 7, 10, 13}\n",
      "6\n"
     ]
    }
   ],
   "source": [
    "st = {3, 4, 7, 10, 13}\n",
    "st.add(20)\n",
    "print(st)\n",
    "print(len(st))"
   ]
  },
  {
   "cell_type": "code",
   "execution_count": 487,
   "metadata": {},
   "outputs": [
    {
     "name": "stdout",
     "output_type": "stream",
     "text": [
      "{16, 2, 18, 4, 6, 27, 11}\n",
      "7\n"
     ]
    }
   ],
   "source": [
    "st = {2, 4, 6, 11, 16, 18}\n",
    "st.add(27)\n",
    "print(st)\n",
    "print(len(st))"
   ]
  },
  {
   "cell_type": "code",
   "execution_count": 488,
   "metadata": {},
   "outputs": [
    {
     "name": "stdout",
     "output_type": "stream",
     "text": [
      "{10, 27, 13, 7}\n",
      "4\n"
     ]
    }
   ],
   "source": [
    "st = {10, 13, 7}\n",
    "st.add(27)\n",
    "print(st)\n",
    "print(len(st))"
   ]
  },
  {
   "cell_type": "code",
   "execution_count": 489,
   "metadata": {},
   "outputs": [
    {
     "name": "stdout",
     "output_type": "stream",
     "text": [
      "{2, 10, 4, 22}\n",
      "4\n"
     ]
    }
   ],
   "source": [
    "st = {2, 10, 4}\n",
    "st.add(22)\n",
    "print(st)\n",
    "print(len(st))"
   ]
  },
  {
   "cell_type": "code",
   "execution_count": 490,
   "metadata": {},
   "outputs": [
    {
     "name": "stdout",
     "output_type": "stream",
     "text": [
      "{2, 5, 11, 15, 21}\n",
      "5\n"
     ]
    }
   ],
   "source": [
    "st = {2, 11, 5, 15}\n",
    "st.add(21)\n",
    "print(st)\n",
    "print(len(st))"
   ]
  },
  {
   "cell_type": "code",
   "execution_count": 491,
   "metadata": {},
   "outputs": [
    {
     "name": "stdout",
     "output_type": "stream",
     "text": [
      "{16, 1, 2, 17, 19, 10, 28}\n",
      "7\n"
     ]
    }
   ],
   "source": [
    "st = {1, 2, 10, 16, 17, 19}\n",
    "st.add(28)\n",
    "print(st)\n",
    "print(len(st))"
   ]
  },
  {
   "cell_type": "code",
   "execution_count": 492,
   "metadata": {},
   "outputs": [
    {
     "name": "stdout",
     "output_type": "stream",
     "text": [
      "{5, 6, 11, 19, 27}\n",
      "5\n"
     ]
    }
   ],
   "source": [
    "st = {11, 19, 5, 6}\n",
    "st.add(27)\n",
    "print(st)\n",
    "print(len(st))"
   ]
  },
  {
   "cell_type": "code",
   "execution_count": 493,
   "metadata": {},
   "outputs": [
    {
     "name": "stdout",
     "output_type": "stream",
     "text": [
      "{8, 3, 29, 15}\n",
      "4\n"
     ]
    }
   ],
   "source": [
    "st = {8, 3, 15}\n",
    "st.add(29)\n",
    "print(st)\n",
    "print(len(st))"
   ]
  },
  {
   "cell_type": "code",
   "execution_count": 494,
   "metadata": {},
   "outputs": [
    {
     "name": "stdout",
     "output_type": "stream",
     "text": [
      "{2, 5, 8, 9, 24}\n",
      "5\n"
     ]
    }
   ],
   "source": [
    "st = {8, 9, 2, 5}\n",
    "st.add(24)\n",
    "print(st)\n",
    "print(len(st))"
   ]
  },
  {
   "cell_type": "code",
   "execution_count": 495,
   "metadata": {},
   "outputs": [
    {
     "name": "stdout",
     "output_type": "stream",
     "text": [
      "{1, 2, 29, 4, 10, 13, 15}\n",
      "7\n"
     ]
    }
   ],
   "source": [
    "st = {1, 2, 4, 10, 13, 15}\n",
    "st.add(29)\n",
    "print(st)\n",
    "print(len(st))"
   ]
  },
  {
   "cell_type": "code",
   "execution_count": 496,
   "metadata": {},
   "outputs": [
    {
     "name": "stdout",
     "output_type": "stream",
     "text": [
      "{8, 12, 14, 17, 25}\n",
      "5\n"
     ]
    }
   ],
   "source": [
    "st = {8, 17, 12, 14}\n",
    "st.add(25)\n",
    "print(st)\n",
    "print(len(st))"
   ]
  },
  {
   "cell_type": "code",
   "execution_count": 497,
   "metadata": {},
   "outputs": [
    {
     "name": "stdout",
     "output_type": "stream",
     "text": [
      "{16, 1, 11, 24}\n",
      "4\n"
     ]
    }
   ],
   "source": [
    "st = {16, 1, 11}\n",
    "st.add(24)\n",
    "print(st)\n",
    "print(len(st))"
   ]
  },
  {
   "cell_type": "code",
   "execution_count": 498,
   "metadata": {},
   "outputs": [
    {
     "name": "stdout",
     "output_type": "stream",
     "text": [
      "{16, 4, 6, 25, 9, 14}\n",
      "6\n"
     ]
    }
   ],
   "source": [
    "st = {4, 6, 9, 14, 16}\n",
    "st.add(25)\n",
    "print(st)\n",
    "print(len(st))"
   ]
  },
  {
   "cell_type": "code",
   "execution_count": 499,
   "metadata": {},
   "outputs": [
    {
     "name": "stdout",
     "output_type": "stream",
     "text": [
      "{1, 6, 12, 14, 25}\n",
      "5\n"
     ]
    }
   ],
   "source": [
    "st = {1, 12, 14, 6}\n",
    "st.add(25)\n",
    "print(st)\n",
    "print(len(st))"
   ]
  },
  {
   "cell_type": "code",
   "execution_count": 500,
   "metadata": {},
   "outputs": [
    {
     "name": "stdout",
     "output_type": "stream",
     "text": [
      "{16, 18, 27, 6}\n",
      "4\n"
     ]
    }
   ],
   "source": [
    "st = {16, 18, 6}\n",
    "st.add(27)\n",
    "print(st)\n",
    "print(len(st))"
   ]
  },
  {
   "cell_type": "code",
   "execution_count": 501,
   "metadata": {},
   "outputs": [
    {
     "name": "stdout",
     "output_type": "stream",
     "text": [
      "{17, 2, 18, 19, 7, 27}\n",
      "6\n"
     ]
    }
   ],
   "source": [
    "st = {2, 7, 17, 18, 19}\n",
    "st.add(27)\n",
    "print(st)\n",
    "print(len(st))"
   ]
  },
  {
   "cell_type": "code",
   "execution_count": 502,
   "metadata": {},
   "outputs": [
    {
     "name": "stdout",
     "output_type": "stream",
     "text": [
      "{4, 5, 6, 22, 10, 12, 15}\n",
      "7\n"
     ]
    }
   ],
   "source": [
    "st = {4, 5, 6, 10, 12, 15}\n",
    "st.add(22)\n",
    "print(st)\n",
    "print(len(st))"
   ]
  },
  {
   "cell_type": "code",
   "execution_count": 503,
   "metadata": {},
   "outputs": [
    {
     "name": "stdout",
     "output_type": "stream",
     "text": [
      "{2, 8, 12, 17, 22}\n",
      "5\n"
     ]
    }
   ],
   "source": [
    "st = {8, 17, 2, 12}\n",
    "st.add(22)\n",
    "print(st)\n",
    "print(len(st))"
   ]
  },
  {
   "cell_type": "code",
   "execution_count": 504,
   "metadata": {},
   "outputs": [
    {
     "name": "stdout",
     "output_type": "stream",
     "text": [
      "{3, 22, 8, 9, 12, 13, 15}\n",
      "7\n"
     ]
    }
   ],
   "source": [
    "st = {3, 8, 9, 12, 13, 15}\n",
    "st.add(22)\n",
    "print(st)\n",
    "print(len(st))"
   ]
  },
  {
   "cell_type": "code",
   "execution_count": 505,
   "metadata": {},
   "outputs": [
    {
     "name": "stdout",
     "output_type": "stream",
     "text": [
      "{3, 19, 7, 8, 24, 10, 11}\n",
      "7\n"
     ]
    }
   ],
   "source": [
    "st = {3, 7, 8, 10, 11, 19}\n",
    "st.add(24)\n",
    "print(st)\n",
    "print(len(st))"
   ]
  },
  {
   "cell_type": "code",
   "execution_count": 506,
   "metadata": {},
   "outputs": [
    {
     "name": "stdout",
     "output_type": "stream",
     "text": [
      "{1, 17, 9, 10, 27, 12}\n",
      "6\n"
     ]
    }
   ],
   "source": [
    "st = {1, 9, 10, 12, 17}\n",
    "st.add(27)\n",
    "print(st)\n",
    "print(len(st))"
   ]
  },
  {
   "cell_type": "code",
   "execution_count": 507,
   "metadata": {},
   "outputs": [
    {
     "name": "stdout",
     "output_type": "stream",
     "text": [
      "{1, 3, 8, 10, 11, 30, 15}\n",
      "7\n"
     ]
    }
   ],
   "source": [
    "st = {1, 3, 8, 10, 11, 15}\n",
    "st.add(30)\n",
    "print(st)\n",
    "print(len(st))"
   ]
  },
  {
   "cell_type": "code",
   "execution_count": 508,
   "metadata": {},
   "outputs": [
    {
     "name": "stdout",
     "output_type": "stream",
     "text": [
      "{4, 7, 14, 16, 24}\n",
      "5\n"
     ]
    }
   ],
   "source": [
    "st = {16, 4, 14, 7}\n",
    "st.add(24)\n",
    "print(st)\n",
    "print(len(st))"
   ]
  },
  {
   "cell_type": "code",
   "execution_count": 509,
   "metadata": {},
   "outputs": [
    {
     "name": "stdout",
     "output_type": "stream",
     "text": [
      "{1, 5, 6, 24, 12, 13}\n",
      "6\n"
     ]
    }
   ],
   "source": [
    "st = {1, 5, 6, 12, 13}\n",
    "st.add(24)\n",
    "print(st)\n",
    "print(len(st))"
   ]
  },
  {
   "cell_type": "code",
   "execution_count": 510,
   "metadata": {},
   "outputs": [
    {
     "name": "stdout",
     "output_type": "stream",
     "text": [
      "{1, 22, 7, 8, 10, 12}\n",
      "6\n"
     ]
    }
   ],
   "source": [
    "st = {1, 7, 8, 10, 12}\n",
    "st.add(22)\n",
    "print(st)\n",
    "print(len(st))"
   ]
  },
  {
   "cell_type": "code",
   "execution_count": 511,
   "metadata": {},
   "outputs": [
    {
     "name": "stdout",
     "output_type": "stream",
     "text": [
      "{9, 2, 20, 5}\n",
      "4\n"
     ]
    }
   ],
   "source": [
    "st = {9, 2, 5}\n",
    "st.add(20)\n",
    "print(st)\n",
    "print(len(st))"
   ]
  },
  {
   "cell_type": "code",
   "execution_count": 512,
   "metadata": {},
   "outputs": [
    {
     "name": "stdout",
     "output_type": "stream",
     "text": [
      "{17, 3, 22, 9, 10, 15}\n",
      "6\n"
     ]
    }
   ],
   "source": [
    "st = {3, 9, 10, 15, 17}\n",
    "st.add(22)\n",
    "print(st)\n",
    "print(len(st))"
   ]
  },
  {
   "cell_type": "code",
   "execution_count": 513,
   "metadata": {},
   "outputs": [
    {
     "name": "stdout",
     "output_type": "stream",
     "text": [
      "{16, 3, 4, 9, 10, 11, 30}\n",
      "7\n"
     ]
    }
   ],
   "source": [
    "st = {3, 4, 9, 10, 11, 16}\n",
    "st.add(30)\n",
    "print(st)\n",
    "print(len(st))"
   ]
  },
  {
   "cell_type": "code",
   "execution_count": 514,
   "metadata": {},
   "outputs": [
    {
     "name": "stdout",
     "output_type": "stream",
     "text": [
      "{16, 17, 4, 8, 9, 29, 15}\n",
      "7\n"
     ]
    }
   ],
   "source": [
    "st = {4, 8, 9, 15, 16, 17}\n",
    "st.add(29)\n",
    "print(st)\n",
    "print(len(st))"
   ]
  },
  {
   "cell_type": "code",
   "execution_count": 515,
   "metadata": {},
   "outputs": [
    {
     "name": "stdout",
     "output_type": "stream",
     "text": [
      "{1, 4, 9, 12, 29}\n",
      "5\n"
     ]
    }
   ],
   "source": [
    "st = {1, 4, 12, 9}\n",
    "st.add(29)\n",
    "print(st)\n",
    "print(len(st))"
   ]
  },
  {
   "cell_type": "code",
   "execution_count": 516,
   "metadata": {},
   "outputs": [
    {
     "name": "stdout",
     "output_type": "stream",
     "text": [
      "{17, 2, 30, 6, 7, 11, 14}\n",
      "7\n"
     ]
    }
   ],
   "source": [
    "st = {2, 6, 7, 11, 14, 17}\n",
    "st.add(30)\n",
    "print(st)\n",
    "print(len(st))"
   ]
  },
  {
   "cell_type": "code",
   "execution_count": 517,
   "metadata": {},
   "outputs": [
    {
     "name": "stdout",
     "output_type": "stream",
     "text": [
      "{16, 1, 4, 20}\n",
      "4\n"
     ]
    }
   ],
   "source": [
    "st = {16, 1, 4}\n",
    "st.add(20)\n",
    "print(st)\n",
    "print(len(st))"
   ]
  },
  {
   "cell_type": "code",
   "execution_count": 518,
   "metadata": {},
   "outputs": [
    {
     "name": "stdout",
     "output_type": "stream",
     "text": [
      "{1, 7, 13, 19, 24}\n",
      "5\n"
     ]
    }
   ],
   "source": [
    "st = {1, 19, 13, 7}\n",
    "st.add(24)\n",
    "print(st)\n",
    "print(len(st))"
   ]
  },
  {
   "cell_type": "code",
   "execution_count": 519,
   "metadata": {},
   "outputs": [
    {
     "name": "stdout",
     "output_type": "stream",
     "text": [
      "{3, 20, 5, 6, 7, 13}\n",
      "6\n"
     ]
    }
   ],
   "source": [
    "st = {3, 5, 6, 7, 13}\n",
    "st.add(20)\n",
    "print(st)\n",
    "print(len(st))"
   ]
  },
  {
   "cell_type": "code",
   "execution_count": 520,
   "metadata": {},
   "outputs": [
    {
     "name": "stdout",
     "output_type": "stream",
     "text": [
      "{16, 1, 19, 6, 30, 15}\n",
      "6\n"
     ]
    }
   ],
   "source": [
    "st = {1, 6, 15, 16, 19}\n",
    "st.add(30)\n",
    "print(st)\n",
    "print(len(st))"
   ]
  },
  {
   "cell_type": "code",
   "execution_count": 521,
   "metadata": {},
   "outputs": [
    {
     "name": "stdout",
     "output_type": "stream",
     "text": [
      "{17, 4, 6, 23, 8, 10, 12}\n",
      "7\n"
     ]
    }
   ],
   "source": [
    "st = {4, 6, 8, 10, 12, 17}\n",
    "st.add(23)\n",
    "print(st)\n",
    "print(len(st))"
   ]
  },
  {
   "cell_type": "code",
   "execution_count": 522,
   "metadata": {},
   "outputs": [
    {
     "name": "stdout",
     "output_type": "stream",
     "text": [
      "{1, 17, 23, 8, 13, 14}\n",
      "6\n"
     ]
    }
   ],
   "source": [
    "st = {1, 8, 13, 14, 17}\n",
    "st.add(23)\n",
    "print(st)\n",
    "print(len(st))"
   ]
  },
  {
   "cell_type": "code",
   "execution_count": 523,
   "metadata": {},
   "outputs": [
    {
     "name": "stdout",
     "output_type": "stream",
     "text": [
      "{9, 10, 12, 14, 27}\n",
      "5\n"
     ]
    }
   ],
   "source": [
    "st = {9, 10, 12, 14}\n",
    "st.add(27)\n",
    "print(st)\n",
    "print(len(st))"
   ]
  },
  {
   "cell_type": "code",
   "execution_count": 524,
   "metadata": {},
   "outputs": [
    {
     "name": "stdout",
     "output_type": "stream",
     "text": [
      "{1, 18, 9, 10, 30, 15}\n",
      "6\n"
     ]
    }
   ],
   "source": [
    "st = {1, 9, 10, 15, 18}\n",
    "st.add(30)\n",
    "print(st)\n",
    "print(len(st))"
   ]
  },
  {
   "cell_type": "code",
   "execution_count": 525,
   "metadata": {},
   "outputs": [
    {
     "name": "stdout",
     "output_type": "stream",
     "text": [
      "{1, 5, 26, 11, 13, 14}\n",
      "6\n"
     ]
    }
   ],
   "source": [
    "st = {1, 5, 11, 13, 14}\n",
    "st.add(26)\n",
    "print(st)\n",
    "print(len(st))"
   ]
  },
  {
   "cell_type": "code",
   "execution_count": 526,
   "metadata": {},
   "outputs": [
    {
     "name": "stdout",
     "output_type": "stream",
     "text": [
      "{3, 6, 9, 19, 20}\n",
      "5\n"
     ]
    }
   ],
   "source": [
    "st = {3, 9, 19, 6}\n",
    "st.add(20)\n",
    "print(st)\n",
    "print(len(st))"
   ]
  },
  {
   "cell_type": "code",
   "execution_count": 527,
   "metadata": {},
   "outputs": [
    {
     "name": "stdout",
     "output_type": "stream",
     "text": [
      "{19, 17, 26, 11}\n",
      "4\n"
     ]
    }
   ],
   "source": [
    "st = {19, 17, 11}\n",
    "st.add(26)\n",
    "print(st)\n",
    "print(len(st))"
   ]
  },
  {
   "cell_type": "code",
   "execution_count": 528,
   "metadata": {},
   "outputs": [
    {
     "name": "stdout",
     "output_type": "stream",
     "text": [
      "{8, 9, 27, 13}\n",
      "4\n"
     ]
    }
   ],
   "source": [
    "st = {8, 9, 13}\n",
    "st.add(27)\n",
    "print(st)\n",
    "print(len(st))"
   ]
  },
  {
   "cell_type": "code",
   "execution_count": 529,
   "metadata": {},
   "outputs": [
    {
     "name": "stdout",
     "output_type": "stream",
     "text": [
      "{24, 17, 11, 6}\n",
      "4\n"
     ]
    }
   ],
   "source": [
    "st = {17, 11, 6}\n",
    "st.add(24)\n",
    "print(st)\n",
    "print(len(st))"
   ]
  },
  {
   "cell_type": "code",
   "execution_count": 530,
   "metadata": {},
   "outputs": [
    {
     "name": "stdout",
     "output_type": "stream",
     "text": [
      "{16, 9, 2, 22}\n",
      "4\n"
     ]
    }
   ],
   "source": [
    "st = {16, 9, 2}\n",
    "st.add(22)\n",
    "print(st)\n",
    "print(len(st))"
   ]
  },
  {
   "cell_type": "code",
   "execution_count": 531,
   "metadata": {},
   "outputs": [
    {
     "name": "stdout",
     "output_type": "stream",
     "text": [
      "{16, 29, 3, 10, 13, 15}\n",
      "6\n"
     ]
    }
   ],
   "source": [
    "st = {3, 10, 13, 15, 16}\n",
    "st.add(29)\n",
    "print(st)\n",
    "print(len(st))"
   ]
  },
  {
   "cell_type": "code",
   "execution_count": 532,
   "metadata": {},
   "outputs": [
    {
     "name": "stdout",
     "output_type": "stream",
     "text": [
      "{17, 2, 3, 18, 7, 25, 12}\n",
      "7\n"
     ]
    }
   ],
   "source": [
    "st = {2, 3, 7, 12, 17, 18}\n",
    "st.add(25)\n",
    "print(st)\n",
    "print(len(st))"
   ]
  },
  {
   "cell_type": "code",
   "execution_count": 533,
   "metadata": {},
   "outputs": [
    {
     "name": "stdout",
     "output_type": "stream",
     "text": [
      "{8, 17, 11, 30}\n",
      "4\n"
     ]
    }
   ],
   "source": [
    "st = {8, 17, 11}\n",
    "st.add(30)\n",
    "print(st)\n",
    "print(len(st))"
   ]
  },
  {
   "cell_type": "code",
   "execution_count": 534,
   "metadata": {},
   "outputs": [
    {
     "name": "stdout",
     "output_type": "stream",
     "text": [
      "{16, 21, 6, 7, 11, 12, 15}\n",
      "7\n"
     ]
    }
   ],
   "source": [
    "st = {6, 7, 11, 12, 15, 16}\n",
    "st.add(21)\n",
    "print(st)\n",
    "print(len(st))"
   ]
  },
  {
   "cell_type": "code",
   "execution_count": 535,
   "metadata": {},
   "outputs": [
    {
     "name": "stdout",
     "output_type": "stream",
     "text": [
      "{16, 19, 4, 6, 12, 28}\n",
      "6\n"
     ]
    }
   ],
   "source": [
    "st = {4, 6, 12, 16, 19}\n",
    "st.add(28)\n",
    "print(st)\n",
    "print(len(st))"
   ]
  },
  {
   "cell_type": "code",
   "execution_count": 536,
   "metadata": {},
   "outputs": [
    {
     "name": "stdout",
     "output_type": "stream",
     "text": [
      "{6, 13, 16, 18, 25}\n",
      "5\n"
     ]
    }
   ],
   "source": [
    "st = {16, 18, 13, 6}\n",
    "st.add(25)\n",
    "print(st)\n",
    "print(len(st))"
   ]
  },
  {
   "cell_type": "code",
   "execution_count": 537,
   "metadata": {},
   "outputs": [
    {
     "name": "stdout",
     "output_type": "stream",
     "text": [
      "{18, 4, 21, 9, 10, 11}\n",
      "6\n"
     ]
    }
   ],
   "source": [
    "st = {4, 9, 10, 11, 18}\n",
    "st.add(21)\n",
    "print(st)\n",
    "print(len(st))"
   ]
  },
  {
   "cell_type": "code",
   "execution_count": 538,
   "metadata": {},
   "outputs": [
    {
     "name": "stdout",
     "output_type": "stream",
     "text": [
      "{8, 24, 2, 13}\n",
      "4\n"
     ]
    }
   ],
   "source": [
    "st = {8, 2, 13}\n",
    "st.add(24)\n",
    "print(st)\n",
    "print(len(st))"
   ]
  },
  {
   "cell_type": "code",
   "execution_count": 539,
   "metadata": {},
   "outputs": [
    {
     "name": "stdout",
     "output_type": "stream",
     "text": [
      "{9, 10, 22, 15}\n",
      "4\n"
     ]
    }
   ],
   "source": [
    "st = {9, 10, 15}\n",
    "st.add(22)\n",
    "print(st)\n",
    "print(len(st))"
   ]
  },
  {
   "cell_type": "code",
   "execution_count": 540,
   "metadata": {},
   "outputs": [
    {
     "name": "stdout",
     "output_type": "stream",
     "text": [
      "{2, 28, 4, 5, 9, 12, 13}\n",
      "7\n"
     ]
    }
   ],
   "source": [
    "st = {2, 4, 5, 9, 12, 13}\n",
    "st.add(28)\n",
    "print(st)\n",
    "print(len(st))"
   ]
  },
  {
   "cell_type": "code",
   "execution_count": 541,
   "metadata": {},
   "outputs": [
    {
     "name": "stdout",
     "output_type": "stream",
     "text": [
      "{2, 8, 11, 16, 28}\n",
      "5\n"
     ]
    }
   ],
   "source": [
    "st = {8, 16, 2, 11}\n",
    "st.add(28)\n",
    "print(st)\n",
    "print(len(st))"
   ]
  },
  {
   "cell_type": "code",
   "execution_count": 542,
   "metadata": {},
   "outputs": [
    {
     "name": "stdout",
     "output_type": "stream",
     "text": [
      "{17, 12, 20, 7}\n",
      "4\n"
     ]
    }
   ],
   "source": [
    "st = {17, 12, 7}\n",
    "st.add(20)\n",
    "print(st)\n",
    "print(len(st))"
   ]
  },
  {
   "cell_type": "code",
   "execution_count": 543,
   "metadata": {},
   "outputs": [
    {
     "name": "stdout",
     "output_type": "stream",
     "text": [
      "{1, 21, 4, 13}\n",
      "4\n"
     ]
    }
   ],
   "source": [
    "st = {1, 4, 13}\n",
    "st.add(21)\n",
    "print(st)\n",
    "print(len(st))"
   ]
  },
  {
   "cell_type": "code",
   "execution_count": 544,
   "metadata": {},
   "outputs": [
    {
     "name": "stdout",
     "output_type": "stream",
     "text": [
      "{2, 18, 6, 30, 9, 14, 15}\n",
      "7\n"
     ]
    }
   ],
   "source": [
    "st = {2, 6, 9, 14, 15, 18}\n",
    "st.add(30)\n",
    "print(st)\n",
    "print(len(st))"
   ]
  },
  {
   "cell_type": "code",
   "execution_count": 545,
   "metadata": {},
   "outputs": [
    {
     "name": "stdout",
     "output_type": "stream",
     "text": [
      "{17, 3, 23, 6, 7, 9, 13}\n",
      "7\n"
     ]
    }
   ],
   "source": [
    "st = {3, 6, 7, 9, 13, 17}\n",
    "st.add(23)\n",
    "print(st)\n",
    "print(len(st))"
   ]
  },
  {
   "cell_type": "code",
   "execution_count": 546,
   "metadata": {},
   "outputs": [
    {
     "name": "stdout",
     "output_type": "stream",
     "text": [
      "{1, 3, 5, 21, 7, 10, 13}\n",
      "7\n"
     ]
    }
   ],
   "source": [
    "st = {1, 3, 5, 7, 10, 13}\n",
    "st.add(21)\n",
    "print(st)\n",
    "print(len(st))"
   ]
  },
  {
   "cell_type": "code",
   "execution_count": 547,
   "metadata": {},
   "outputs": [
    {
     "name": "stdout",
     "output_type": "stream",
     "text": [
      "{16, 2, 3, 4, 8, 25, 15}\n",
      "7\n"
     ]
    }
   ],
   "source": [
    "st = {2, 3, 4, 8, 15, 16}\n",
    "st.add(25)\n",
    "print(st)\n",
    "print(len(st))"
   ]
  },
  {
   "cell_type": "code",
   "execution_count": 548,
   "metadata": {},
   "outputs": [
    {
     "name": "stdout",
     "output_type": "stream",
     "text": [
      "{8, 9, 26, 5}\n",
      "4\n"
     ]
    }
   ],
   "source": [
    "st = {8, 9, 5}\n",
    "st.add(26)\n",
    "print(st)\n",
    "print(len(st))"
   ]
  },
  {
   "cell_type": "code",
   "execution_count": 549,
   "metadata": {},
   "outputs": [
    {
     "name": "stdout",
     "output_type": "stream",
     "text": [
      "{1, 9, 13, 19, 27}\n",
      "5\n"
     ]
    }
   ],
   "source": [
    "st = {9, 19, 13, 1}\n",
    "st.add(27)\n",
    "print(st)\n",
    "print(len(st))"
   ]
  },
  {
   "cell_type": "code",
   "execution_count": 550,
   "metadata": {},
   "outputs": [
    {
     "name": "stdout",
     "output_type": "stream",
     "text": [
      "{1, 6, 13, 16, 27}\n",
      "5\n"
     ]
    }
   ],
   "source": [
    "st = {16, 1, 13, 6}\n",
    "st.add(27)\n",
    "print(st)\n",
    "print(len(st))"
   ]
  },
  {
   "cell_type": "code",
   "execution_count": 551,
   "metadata": {},
   "outputs": [
    {
     "name": "stdout",
     "output_type": "stream",
     "text": [
      "{1, 19, 4, 6, 8, 29}\n",
      "6\n"
     ]
    }
   ],
   "source": [
    "st = {1, 4, 6, 8, 19}\n",
    "st.add(29)\n",
    "print(st)\n",
    "print(len(st))"
   ]
  },
  {
   "cell_type": "code",
   "execution_count": 552,
   "metadata": {},
   "outputs": [
    {
     "name": "stdout",
     "output_type": "stream",
     "text": [
      "{1, 2, 7, 10, 25}\n",
      "5\n"
     ]
    }
   ],
   "source": [
    "st = {1, 2, 10, 7}\n",
    "st.add(25)\n",
    "print(st)\n",
    "print(len(st))"
   ]
  },
  {
   "cell_type": "code",
   "execution_count": 553,
   "metadata": {},
   "outputs": [
    {
     "name": "stdout",
     "output_type": "stream",
     "text": [
      "{3, 5, 6, 8, 9, 12, 25}\n",
      "7\n"
     ]
    }
   ],
   "source": [
    "st = {3, 5, 6, 8, 9, 12}\n",
    "st.add(25)\n",
    "print(st)\n",
    "print(len(st))"
   ]
  },
  {
   "cell_type": "code",
   "execution_count": 554,
   "metadata": {},
   "outputs": [
    {
     "name": "stdout",
     "output_type": "stream",
     "text": [
      "{3, 6, 11, 14, 20}\n",
      "5\n"
     ]
    }
   ],
   "source": [
    "st = {3, 11, 6, 14}\n",
    "st.add(20)\n",
    "print(st)\n",
    "print(len(st))"
   ]
  },
  {
   "cell_type": "code",
   "execution_count": 555,
   "metadata": {},
   "outputs": [
    {
     "name": "stdout",
     "output_type": "stream",
     "text": [
      "{24, 17, 10, 6}\n",
      "4\n"
     ]
    }
   ],
   "source": [
    "st = {17, 10, 6}\n",
    "st.add(24)\n",
    "print(st)\n",
    "print(len(st))"
   ]
  },
  {
   "cell_type": "code",
   "execution_count": 556,
   "metadata": {},
   "outputs": [
    {
     "name": "stdout",
     "output_type": "stream",
     "text": [
      "{3, 13, 22, 15}\n",
      "4\n"
     ]
    }
   ],
   "source": [
    "st = {3, 13, 15}\n",
    "st.add(22)\n",
    "print(st)\n",
    "print(len(st))"
   ]
  },
  {
   "cell_type": "code",
   "execution_count": 557,
   "metadata": {},
   "outputs": [
    {
     "name": "stdout",
     "output_type": "stream",
     "text": [
      "{24, 1, 11, 13}\n",
      "4\n"
     ]
    }
   ],
   "source": [
    "st = {1, 11, 13}\n",
    "st.add(24)\n",
    "print(st)\n",
    "print(len(st))"
   ]
  },
  {
   "cell_type": "code",
   "execution_count": 558,
   "metadata": {},
   "outputs": [
    {
     "name": "stdout",
     "output_type": "stream",
     "text": [
      "{2, 4, 14, 17, 25}\n",
      "5\n"
     ]
    }
   ],
   "source": [
    "st = {17, 2, 4, 14}\n",
    "st.add(25)\n",
    "print(st)\n",
    "print(len(st))"
   ]
  },
  {
   "cell_type": "code",
   "execution_count": 559,
   "metadata": {},
   "outputs": [
    {
     "name": "stdout",
     "output_type": "stream",
     "text": [
      "{1, 28, 8, 9, 12, 13}\n",
      "6\n"
     ]
    }
   ],
   "source": [
    "st = {1, 8, 9, 12, 13}\n",
    "st.add(28)\n",
    "print(st)\n",
    "print(len(st))"
   ]
  },
  {
   "cell_type": "code",
   "execution_count": 560,
   "metadata": {},
   "outputs": [
    {
     "name": "stdout",
     "output_type": "stream",
     "text": [
      "{8, 28, 14, 7}\n",
      "4\n"
     ]
    }
   ],
   "source": [
    "st = {8, 14, 7}\n",
    "st.add(28)\n",
    "print(st)\n",
    "print(len(st))"
   ]
  },
  {
   "cell_type": "code",
   "execution_count": 561,
   "metadata": {},
   "outputs": [
    {
     "name": "stdout",
     "output_type": "stream",
     "text": [
      "{5, 6, 14, 19, 26}\n",
      "5\n"
     ]
    }
   ],
   "source": [
    "st = {19, 5, 14, 6}\n",
    "st.add(26)\n",
    "print(st)\n",
    "print(len(st))"
   ]
  },
  {
   "cell_type": "code",
   "execution_count": 562,
   "metadata": {},
   "outputs": [
    {
     "name": "stdout",
     "output_type": "stream",
     "text": [
      "{2, 3, 20, 15}\n",
      "4\n"
     ]
    }
   ],
   "source": [
    "st = {2, 3, 15}\n",
    "st.add(20)\n",
    "print(st)\n",
    "print(len(st))"
   ]
  },
  {
   "cell_type": "code",
   "execution_count": 563,
   "metadata": {},
   "outputs": [
    {
     "name": "stdout",
     "output_type": "stream",
     "text": [
      "{16, 3, 19, 9, 11, 28, 15}\n",
      "7\n"
     ]
    }
   ],
   "source": [
    "st = {3, 9, 11, 15, 16, 19}\n",
    "st.add(28)\n",
    "print(st)\n",
    "print(len(st))"
   ]
  },
  {
   "cell_type": "code",
   "execution_count": 564,
   "metadata": {},
   "outputs": [
    {
     "name": "stdout",
     "output_type": "stream",
     "text": [
      "{16, 18, 3, 24, 9, 10, 15}\n",
      "7\n"
     ]
    }
   ],
   "source": [
    "st = {3, 9, 10, 15, 16, 18}\n",
    "st.add(24)\n",
    "print(st)\n",
    "print(len(st))"
   ]
  },
  {
   "cell_type": "code",
   "execution_count": 565,
   "metadata": {},
   "outputs": [
    {
     "name": "stdout",
     "output_type": "stream",
     "text": [
      "{10, 4, 20, 7}\n",
      "4\n"
     ]
    }
   ],
   "source": [
    "st = {10, 4, 7}\n",
    "st.add(20)\n",
    "print(st)\n",
    "print(len(st))"
   ]
  },
  {
   "cell_type": "code",
   "execution_count": 566,
   "metadata": {},
   "outputs": [
    {
     "name": "stdout",
     "output_type": "stream",
     "text": [
      "{1, 10, 11, 30}\n",
      "4\n"
     ]
    }
   ],
   "source": [
    "st = {1, 10, 11}\n",
    "st.add(30)\n",
    "print(st)\n",
    "print(len(st))"
   ]
  },
  {
   "cell_type": "code",
   "execution_count": 567,
   "metadata": {},
   "outputs": [
    {
     "name": "stdout",
     "output_type": "stream",
     "text": [
      "{16, 3, 5, 11, 29, 14, 15}\n",
      "7\n"
     ]
    }
   ],
   "source": [
    "st = {3, 5, 11, 14, 15, 16}\n",
    "st.add(29)\n",
    "print(st)\n",
    "print(len(st))"
   ]
  },
  {
   "cell_type": "code",
   "execution_count": 568,
   "metadata": {},
   "outputs": [
    {
     "name": "stdout",
     "output_type": "stream",
     "text": [
      "{16, 1, 19, 4, 7, 8, 26}\n",
      "7\n"
     ]
    }
   ],
   "source": [
    "st = {1, 4, 7, 8, 16, 19}\n",
    "st.add(26)\n",
    "print(st)\n",
    "print(len(st))"
   ]
  },
  {
   "cell_type": "code",
   "execution_count": 569,
   "metadata": {},
   "outputs": [
    {
     "name": "stdout",
     "output_type": "stream",
     "text": [
      "{18, 19, 4, 6, 9, 27, 15}\n",
      "7\n"
     ]
    }
   ],
   "source": [
    "st = {4, 6, 9, 15, 18, 19}\n",
    "st.add(27)\n",
    "print(st)\n",
    "print(len(st))"
   ]
  },
  {
   "cell_type": "code",
   "execution_count": 570,
   "metadata": {},
   "outputs": [
    {
     "name": "stdout",
     "output_type": "stream",
     "text": [
      "{26, 10, 11, 7}\n",
      "4\n"
     ]
    }
   ],
   "source": [
    "st = {10, 11, 7}\n",
    "st.add(26)\n",
    "print(st)\n",
    "print(len(st))"
   ]
  },
  {
   "cell_type": "code",
   "execution_count": 571,
   "metadata": {},
   "outputs": [
    {
     "name": "stdout",
     "output_type": "stream",
     "text": [
      "{17, 18, 3, 5, 8, 30, 15}\n",
      "7\n"
     ]
    }
   ],
   "source": [
    "st = {3, 5, 8, 15, 17, 18}\n",
    "st.add(30)\n",
    "print(st)\n",
    "print(len(st))"
   ]
  },
  {
   "cell_type": "code",
   "execution_count": 572,
   "metadata": {},
   "outputs": [
    {
     "name": "stdout",
     "output_type": "stream",
     "text": [
      "{16, 18, 8, 28, 13, 14, 15}\n",
      "7\n"
     ]
    }
   ],
   "source": [
    "st = {8, 13, 14, 15, 16, 18}\n",
    "st.add(28)\n",
    "print(st)\n",
    "print(len(st))"
   ]
  },
  {
   "cell_type": "code",
   "execution_count": 573,
   "metadata": {},
   "outputs": [
    {
     "name": "stdout",
     "output_type": "stream",
     "text": [
      "{1, 5, 23, 8, 10, 14}\n",
      "6\n"
     ]
    }
   ],
   "source": [
    "st = {1, 5, 8, 10, 14}\n",
    "st.add(23)\n",
    "print(st)\n",
    "print(len(st))"
   ]
  },
  {
   "cell_type": "code",
   "execution_count": 574,
   "metadata": {},
   "outputs": [
    {
     "name": "stdout",
     "output_type": "stream",
     "text": [
      "{16, 1, 3, 4, 9, 27, 12}\n",
      "7\n"
     ]
    }
   ],
   "source": [
    "st = {1, 3, 4, 9, 12, 16}\n",
    "st.add(27)\n",
    "print(st)\n",
    "print(len(st))"
   ]
  },
  {
   "cell_type": "code",
   "execution_count": 575,
   "metadata": {},
   "outputs": [
    {
     "name": "stdout",
     "output_type": "stream",
     "text": [
      "{1, 6, 7, 12, 28, 15}\n",
      "6\n"
     ]
    }
   ],
   "source": [
    "st = {1, 6, 7, 12, 15}\n",
    "st.add(28)\n",
    "print(st)\n",
    "print(len(st))"
   ]
  },
  {
   "cell_type": "code",
   "execution_count": 576,
   "metadata": {},
   "outputs": [
    {
     "name": "stdout",
     "output_type": "stream",
     "text": [
      "{3, 7, 10, 11, 28}\n",
      "5\n"
     ]
    }
   ],
   "source": [
    "st = {11, 10, 3, 7}\n",
    "st.add(28)\n",
    "print(st)\n",
    "print(len(st))"
   ]
  },
  {
   "cell_type": "code",
   "execution_count": 577,
   "metadata": {},
   "outputs": [
    {
     "name": "stdout",
     "output_type": "stream",
     "text": [
      "{16, 6, 7, 25, 11, 14}\n",
      "6\n"
     ]
    }
   ],
   "source": [
    "st = {6, 7, 11, 14, 16}\n",
    "st.add(25)\n",
    "print(st)\n",
    "print(len(st))"
   ]
  },
  {
   "cell_type": "code",
   "execution_count": 578,
   "metadata": {},
   "outputs": [
    {
     "name": "stdout",
     "output_type": "stream",
     "text": [
      "{1, 19, 4, 5, 6, 24, 12}\n",
      "7\n"
     ]
    }
   ],
   "source": [
    "st = {1, 4, 5, 6, 12, 19}\n",
    "st.add(24)\n",
    "print(st)\n",
    "print(len(st))"
   ]
  },
  {
   "cell_type": "code",
   "execution_count": 579,
   "metadata": {},
   "outputs": [
    {
     "name": "stdout",
     "output_type": "stream",
     "text": [
      "{29, 3, 5, 14}\n",
      "4\n"
     ]
    }
   ],
   "source": [
    "st = {3, 5, 14}\n",
    "st.add(29)\n",
    "print(st)\n",
    "print(len(st))"
   ]
  },
  {
   "cell_type": "code",
   "execution_count": 580,
   "metadata": {},
   "outputs": [
    {
     "name": "stdout",
     "output_type": "stream",
     "text": [
      "{2, 19, 20, 5, 7, 8, 13}\n",
      "7\n"
     ]
    }
   ],
   "source": [
    "st = {2, 5, 7, 8, 13, 19}\n",
    "st.add(20)\n",
    "print(st)\n",
    "print(len(st))"
   ]
  },
  {
   "cell_type": "code",
   "execution_count": 581,
   "metadata": {},
   "outputs": [
    {
     "name": "stdout",
     "output_type": "stream",
     "text": [
      "{1, 18, 19, 5, 6, 11, 29}\n",
      "7\n"
     ]
    }
   ],
   "source": [
    "st = {1, 5, 6, 11, 18, 19}\n",
    "st.add(29)\n",
    "print(st)\n",
    "print(len(st))"
   ]
  },
  {
   "cell_type": "code",
   "execution_count": 582,
   "metadata": {},
   "outputs": [
    {
     "name": "stdout",
     "output_type": "stream",
     "text": [
      "{2, 29, 5, 6, 9, 11, 13}\n",
      "7\n"
     ]
    }
   ],
   "source": [
    "st = {2, 5, 6, 9, 11, 13}\n",
    "st.add(29)\n",
    "print(st)\n",
    "print(len(st))"
   ]
  },
  {
   "cell_type": "code",
   "execution_count": 583,
   "metadata": {},
   "outputs": [
    {
     "name": "stdout",
     "output_type": "stream",
     "text": [
      "{3, 4, 7, 10, 11, 12, 28}\n",
      "7\n"
     ]
    }
   ],
   "source": [
    "st = {3, 4, 7, 10, 11, 12}\n",
    "st.add(28)\n",
    "print(st)\n",
    "print(len(st))"
   ]
  },
  {
   "cell_type": "code",
   "execution_count": 584,
   "metadata": {},
   "outputs": [
    {
     "name": "stdout",
     "output_type": "stream",
     "text": [
      "{2, 9, 12, 18, 30}\n",
      "5\n"
     ]
    }
   ],
   "source": [
    "st = {9, 2, 18, 12}\n",
    "st.add(30)\n",
    "print(st)\n",
    "print(len(st))"
   ]
  },
  {
   "cell_type": "code",
   "execution_count": 585,
   "metadata": {},
   "outputs": [
    {
     "name": "stdout",
     "output_type": "stream",
     "text": [
      "{2, 8, 9, 10, 28, 14}\n",
      "6\n"
     ]
    }
   ],
   "source": [
    "st = {2, 8, 9, 10, 14}\n",
    "st.add(28)\n",
    "print(st)\n",
    "print(len(st))"
   ]
  },
  {
   "cell_type": "code",
   "execution_count": 586,
   "metadata": {},
   "outputs": [
    {
     "name": "stdout",
     "output_type": "stream",
     "text": [
      "{8, 4, 20, 14}\n",
      "4\n"
     ]
    }
   ],
   "source": [
    "st = {8, 4, 14}\n",
    "st.add(20)\n",
    "print(st)\n",
    "print(len(st))"
   ]
  },
  {
   "cell_type": "code",
   "execution_count": 587,
   "metadata": {},
   "outputs": [
    {
     "name": "stdout",
     "output_type": "stream",
     "text": [
      "{16, 3, 20, 11, 12, 13}\n",
      "6\n"
     ]
    }
   ],
   "source": [
    "st = {3, 11, 12, 13, 16}\n",
    "st.add(20)\n",
    "print(st)\n",
    "print(len(st))"
   ]
  },
  {
   "cell_type": "code",
   "execution_count": 588,
   "metadata": {},
   "outputs": [
    {
     "name": "stdout",
     "output_type": "stream",
     "text": [
      "{2, 3, 19, 6, 22, 15}\n",
      "6\n"
     ]
    }
   ],
   "source": [
    "st = {2, 3, 6, 15, 19}\n",
    "st.add(22)\n",
    "print(st)\n",
    "print(len(st))"
   ]
  },
  {
   "cell_type": "code",
   "execution_count": 589,
   "metadata": {},
   "outputs": [
    {
     "name": "stdout",
     "output_type": "stream",
     "text": [
      "{6, 10, 16, 19, 27}\n",
      "5\n"
     ]
    }
   ],
   "source": [
    "st = {16, 10, 19, 6}\n",
    "st.add(27)\n",
    "print(st)\n",
    "print(len(st))"
   ]
  },
  {
   "cell_type": "code",
   "execution_count": 590,
   "metadata": {},
   "outputs": [
    {
     "name": "stdout",
     "output_type": "stream",
     "text": [
      "{16, 11, 23, 7}\n",
      "4\n"
     ]
    }
   ],
   "source": [
    "st = {16, 11, 7}\n",
    "st.add(23)\n",
    "print(st)\n",
    "print(len(st))"
   ]
  },
  {
   "cell_type": "code",
   "execution_count": 591,
   "metadata": {},
   "outputs": [
    {
     "name": "stdout",
     "output_type": "stream",
     "text": [
      "{16, 18, 8, 12, 29, 15}\n",
      "6\n"
     ]
    }
   ],
   "source": [
    "st = {8, 12, 15, 16, 18}\n",
    "st.add(29)\n",
    "print(st)\n",
    "print(len(st))"
   ]
  },
  {
   "cell_type": "code",
   "execution_count": 592,
   "metadata": {},
   "outputs": [
    {
     "name": "stdout",
     "output_type": "stream",
     "text": [
      "{1, 8, 10, 11, 28, 13, 15}\n",
      "7\n"
     ]
    }
   ],
   "source": [
    "st = {1, 8, 10, 11, 13, 15}\n",
    "st.add(28)\n",
    "print(st)\n",
    "print(len(st))"
   ]
  },
  {
   "cell_type": "code",
   "execution_count": 593,
   "metadata": {},
   "outputs": [
    {
     "name": "stdout",
     "output_type": "stream",
     "text": [
      "{17, 6, 8, 24, 10, 12, 13}\n",
      "7\n"
     ]
    }
   ],
   "source": [
    "st = {6, 8, 10, 12, 13, 17}\n",
    "st.add(24)\n",
    "print(st)\n",
    "print(len(st))"
   ]
  },
  {
   "cell_type": "code",
   "execution_count": 594,
   "metadata": {},
   "outputs": [
    {
     "name": "stdout",
     "output_type": "stream",
     "text": [
      "{5, 9, 15, 19, 26}\n",
      "5\n"
     ]
    }
   ],
   "source": [
    "st = {9, 19, 5, 15}\n",
    "st.add(26)\n",
    "print(st)\n",
    "print(len(st))"
   ]
  },
  {
   "cell_type": "code",
   "execution_count": 595,
   "metadata": {},
   "outputs": [
    {
     "name": "stdout",
     "output_type": "stream",
     "text": [
      "{1, 2, 3, 5, 23, 8, 15}\n",
      "7\n"
     ]
    }
   ],
   "source": [
    "st = {1, 2, 3, 5, 8, 15}\n",
    "st.add(23)\n",
    "print(st)\n",
    "print(len(st))"
   ]
  },
  {
   "cell_type": "code",
   "execution_count": 596,
   "metadata": {},
   "outputs": [
    {
     "name": "stdout",
     "output_type": "stream",
     "text": [
      "{16, 17, 19, 7, 27, 9, 11}\n",
      "7\n"
     ]
    }
   ],
   "source": [
    "st = {7, 9, 11, 16, 17, 19}\n",
    "st.add(27)\n",
    "print(st)\n",
    "print(len(st))"
   ]
  },
  {
   "cell_type": "code",
   "execution_count": 597,
   "metadata": {},
   "outputs": [
    {
     "name": "stdout",
     "output_type": "stream",
     "text": [
      "{16, 19, 21, 7, 9, 11}\n",
      "6\n"
     ]
    }
   ],
   "source": [
    "st = {7, 9, 11, 16, 19}\n",
    "st.add(21)\n",
    "print(st)\n",
    "print(len(st))"
   ]
  },
  {
   "cell_type": "code",
   "execution_count": 598,
   "metadata": {},
   "outputs": [
    {
     "name": "stdout",
     "output_type": "stream",
     "text": [
      "{1, 17, 18, 19, 29}\n",
      "5\n"
     ]
    }
   ],
   "source": [
    "st = {1, 18, 19, 17}\n",
    "st.add(29)\n",
    "print(st)\n",
    "print(len(st))"
   ]
  },
  {
   "cell_type": "code",
   "execution_count": 599,
   "metadata": {},
   "outputs": [
    {
     "name": "stdout",
     "output_type": "stream",
     "text": [
      "{17, 5, 6, 23, 11, 13, 14}\n",
      "7\n"
     ]
    }
   ],
   "source": [
    "st = {5, 6, 11, 13, 14, 17}\n",
    "st.add(23)\n",
    "print(st)\n",
    "print(len(st))"
   ]
  },
  {
   "cell_type": "code",
   "execution_count": 600,
   "metadata": {},
   "outputs": [
    {
     "name": "stdout",
     "output_type": "stream",
     "text": [
      "{16, 1, 6, 7, 25, 12, 13}\n",
      "7\n"
     ]
    }
   ],
   "source": [
    "st = {1, 6, 7, 12, 13, 16}\n",
    "st.add(25)\n",
    "print(st)\n",
    "print(len(st))"
   ]
  }
 ],
 "metadata": {
  "kernelspec": {
   "display_name": "Python 3 (ipykernel)",
   "language": "python",
   "name": "python3"
  },
  "language_info": {
   "codemirror_mode": {
    "name": "ipython",
    "version": 3
   },
   "file_extension": ".py",
   "mimetype": "text/x-python",
   "name": "python",
   "nbconvert_exporter": "python",
   "pygments_lexer": "ipython3",
   "version": "3.12.11"
  }
 },
 "nbformat": 4,
 "nbformat_minor": 4
}
