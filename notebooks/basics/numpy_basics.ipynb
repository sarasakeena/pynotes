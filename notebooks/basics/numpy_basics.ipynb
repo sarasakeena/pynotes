{
 "cells": [
  {
   "cell_type": "code",
   "execution_count": 2,
   "id": "9efb0112-f581-4001-be2b-54044b942199",
   "metadata": {},
   "outputs": [],
   "source": [
    "import numpy as np"
   ]
  },
  {
   "cell_type": "code",
   "execution_count": 3,
   "id": "91273ac1-8479-40c8-9ef0-45d78e62d648",
   "metadata": {},
   "outputs": [],
   "source": [
    "a = np.array([1, 2, 3])\n",
    "b = np.array([[1, 2], [3, 4]])\n"
   ]
  },
  {
   "cell_type": "code",
   "execution_count": 4,
   "id": "78ed43c5-6047-4934-bc85-16496907b6e2",
   "metadata": {},
   "outputs": [
    {
     "name": "stdout",
     "output_type": "stream",
     "text": [
      "1D array: [1 2 3]\n",
      "2D array:\n",
      " [[1 2]\n",
      " [3 4]]\n"
     ]
    }
   ],
   "source": [
    "print(\"1D array:\", a)\n",
    "print(\"2D array:\\n\", b)"
   ]
  },
  {
   "cell_type": "code",
   "execution_count": 5,
   "id": "5df6b043-0a99-4dc4-9df1-7fcdffc5b54f",
   "metadata": {},
   "outputs": [
    {
     "name": "stdout",
     "output_type": "stream",
     "text": [
      "Sum: 6\n",
      "Mean: 2.0\n",
      "Max: 3\n",
      "Shape of b: (2, 2)\n"
     ]
    }
   ],
   "source": [
    "print(\"Sum:\", a.sum())\n",
    "print(\"Mean:\", a.mean())\n",
    "print(\"Max:\", a.max())\n",
    "print(\"Shape of b:\", b.shape)"
   ]
  },
  {
   "cell_type": "code",
   "execution_count": 6,
   "id": "879a7a0f-c302-4ed7-9bc4-c2a790e4e0cb",
   "metadata": {},
   "outputs": [
    {
     "name": "stdout",
     "output_type": "stream",
     "text": [
      "a[1]: 2\n",
      "b[0, 1]: 2\n",
      "a[1:]: [2 3]\n"
     ]
    }
   ],
   "source": [
    "print(\"a[1]:\", a[1])\n",
    "print(\"b[0, 1]:\", b[0, 1])\n",
    "print(\"a[1:]:\", a[1:])"
   ]
  },
  {
   "cell_type": "code",
   "execution_count": null,
   "id": "e8f1a6ac-2fc7-4032-af7c-a58a85cc4c8f",
   "metadata": {},
   "outputs": [],
   "source": []
  }
 ],
 "metadata": {
  "kernelspec": {
   "display_name": "Python 3 (ipykernel)",
   "language": "python",
   "name": "python3"
  },
  "language_info": {
   "codemirror_mode": {
    "name": "ipython",
    "version": 3
   },
   "file_extension": ".py",
   "mimetype": "text/x-python",
   "name": "python",
   "nbconvert_exporter": "python",
   "pygments_lexer": "ipython3",
   "version": "3.12.11"
  }
 },
 "nbformat": 4,
 "nbformat_minor": 5
}
