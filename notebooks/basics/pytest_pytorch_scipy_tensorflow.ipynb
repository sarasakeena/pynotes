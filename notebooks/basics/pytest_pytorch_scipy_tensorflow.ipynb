{
 "cells": [
  {
   "cell_type": "code",
   "execution_count": null,
   "id": "de84b166",
   "metadata": {},
   "outputs": [],
   "source": [
    "# Cell 1 - Pytest Example\n",
    "def add_1(a, b):\n",
    "    return a + b + 1\n",
    "\n",
    "def test_add_1():\n",
    "    assert add_1(1, 2) == 4\n",
    "\n",
    "test_add_1()\n",
    "print(\"Pytest Cell 1 Passed\")"
   ]
  },
  {
   "cell_type": "code",
   "execution_count": null,
   "id": "6b492aaf",
   "metadata": {},
   "outputs": [],
   "source": [
    "# Cell 2 - Pytest Example\n",
    "def add_2(a, b):\n",
    "    return a + b + 2\n",
    "\n",
    "def test_add_2():\n",
    "    assert add_2(2, 3) == 7\n",
    "\n",
    "test_add_2()\n",
    "print(\"Pytest Cell 2 Passed\")"
   ]
  },
  {
   "cell_type": "code",
   "execution_count": null,
   "id": "4642dd15",
   "metadata": {},
   "outputs": [],
   "source": [
    "# Cell 3 - Pytest Example\n",
    "def add_3(a, b):\n",
    "    return a + b + 3\n",
    "\n",
    "def test_add_3():\n",
    "    assert add_3(3, 4) == 10\n",
    "\n",
    "test_add_3()\n",
    "print(\"Pytest Cell 3 Passed\")"
   ]
  },
  {
   "cell_type": "code",
   "execution_count": null,
   "id": "86aa7925",
   "metadata": {},
   "outputs": [],
   "source": [
    "# Cell 4 - Pytest Example\n",
    "def add_4(a, b):\n",
    "    return a + b + 4\n",
    "\n",
    "def test_add_4():\n",
    "    assert add_4(4, 5) == 13\n",
    "\n",
    "test_add_4()\n",
    "print(\"Pytest Cell 4 Passed\")"
   ]
  },
  {
   "cell_type": "code",
   "execution_count": null,
   "id": "cc9cf713",
   "metadata": {},
   "outputs": [],
   "source": [
    "# Cell 5 - Pytest Example\n",
    "def add_5(a, b):\n",
    "    return a + b + 5\n",
    "\n",
    "def test_add_5():\n",
    "    assert add_5(5, 6) == 16\n",
    "\n",
    "test_add_5()\n",
    "print(\"Pytest Cell 5 Passed\")"
   ]
  },
  {
   "cell_type": "code",
   "execution_count": null,
   "id": "ba6d9e5f",
   "metadata": {},
   "outputs": [],
   "source": [
    "# Cell 6 - Pytest Example\n",
    "def add_6(a, b):\n",
    "    return a + b + 6\n",
    "\n",
    "def test_add_6():\n",
    "    assert add_6(6, 7) == 19\n",
    "\n",
    "test_add_6()\n",
    "print(\"Pytest Cell 6 Passed\")"
   ]
  },
  {
   "cell_type": "code",
   "execution_count": null,
   "id": "96e081d1",
   "metadata": {},
   "outputs": [],
   "source": [
    "# Cell 7 - Pytest Example\n",
    "def add_7(a, b):\n",
    "    return a + b + 7\n",
    "\n",
    "def test_add_7():\n",
    "    assert add_7(7, 8) == 22\n",
    "\n",
    "test_add_7()\n",
    "print(\"Pytest Cell 7 Passed\")"
   ]
  },
  {
   "cell_type": "code",
   "execution_count": null,
   "id": "d6421e0f",
   "metadata": {},
   "outputs": [],
   "source": [
    "# Cell 8 - Pytest Example\n",
    "def add_8(a, b):\n",
    "    return a + b + 8\n",
    "\n",
    "def test_add_8():\n",
    "    assert add_8(8, 9) == 25\n",
    "\n",
    "test_add_8()\n",
    "print(\"Pytest Cell 8 Passed\")"
   ]
  },
  {
   "cell_type": "code",
   "execution_count": null,
   "id": "f11b61e3",
   "metadata": {},
   "outputs": [],
   "source": [
    "# Cell 9 - Pytest Example\n",
    "def add_9(a, b):\n",
    "    return a + b + 9\n",
    "\n",
    "def test_add_9():\n",
    "    assert add_9(9, 10) == 28\n",
    "\n",
    "test_add_9()\n",
    "print(\"Pytest Cell 9 Passed\")"
   ]
  },
  {
   "cell_type": "code",
   "execution_count": null,
   "id": "75ff0233",
   "metadata": {},
   "outputs": [],
   "source": [
    "# Cell 10 - Pytest Example\n",
    "def add_10(a, b):\n",
    "    return a + b + 10\n",
    "\n",
    "def test_add_10():\n",
    "    assert add_10(10, 11) == 31\n",
    "\n",
    "test_add_10()\n",
    "print(\"Pytest Cell 10 Passed\")"
   ]
  },
  {
   "cell_type": "code",
   "execution_count": null,
   "id": "b4075871",
   "metadata": {},
   "outputs": [],
   "source": [
    "# Cell 11 - Pytest Example\n",
    "def add_11(a, b):\n",
    "    return a + b + 11\n",
    "\n",
    "def test_add_11():\n",
    "    assert add_11(11, 12) == 34\n",
    "\n",
    "test_add_11()\n",
    "print(\"Pytest Cell 11 Passed\")"
   ]
  },
  {
   "cell_type": "code",
   "execution_count": null,
   "id": "1b91e1d7",
   "metadata": {},
   "outputs": [],
   "source": [
    "# Cell 12 - Pytest Example\n",
    "def add_12(a, b):\n",
    "    return a + b + 12\n",
    "\n",
    "def test_add_12():\n",
    "    assert add_12(12, 13) == 37\n",
    "\n",
    "test_add_12()\n",
    "print(\"Pytest Cell 12 Passed\")"
   ]
  },
  {
   "cell_type": "code",
   "execution_count": null,
   "id": "9c261de9",
   "metadata": {},
   "outputs": [],
   "source": [
    "# Cell 13 - Pytest Example\n",
    "def add_13(a, b):\n",
    "    return a + b + 13\n",
    "\n",
    "def test_add_13():\n",
    "    assert add_13(13, 14) == 40\n",
    "\n",
    "test_add_13()\n",
    "print(\"Pytest Cell 13 Passed\")"
   ]
  },
  {
   "cell_type": "code",
   "execution_count": null,
   "id": "d8001d35",
   "metadata": {},
   "outputs": [],
   "source": [
    "# Cell 14 - Pytest Example\n",
    "def add_14(a, b):\n",
    "    return a + b + 14\n",
    "\n",
    "def test_add_14():\n",
    "    assert add_14(14, 15) == 43\n",
    "\n",
    "test_add_14()\n",
    "print(\"Pytest Cell 14 Passed\")"
   ]
  },
  {
   "cell_type": "code",
   "execution_count": null,
   "id": "ac1600f1",
   "metadata": {},
   "outputs": [],
   "source": [
    "# Cell 15 - Pytest Example\n",
    "def add_15(a, b):\n",
    "    return a + b + 15\n",
    "\n",
    "def test_add_15():\n",
    "    assert add_15(15, 16) == 46\n",
    "\n",
    "test_add_15()\n",
    "print(\"Pytest Cell 15 Passed\")"
   ]
  },
  {
   "cell_type": "code",
   "execution_count": null,
   "id": "738e4d1f",
   "metadata": {},
   "outputs": [],
   "source": [
    "# Cell 16 - Pytest Example\n",
    "def add_16(a, b):\n",
    "    return a + b + 16\n",
    "\n",
    "def test_add_16():\n",
    "    assert add_16(16, 17) == 49\n",
    "\n",
    "test_add_16()\n",
    "print(\"Pytest Cell 16 Passed\")"
   ]
  },
  {
   "cell_type": "code",
   "execution_count": null,
   "id": "b2dcb765",
   "metadata": {},
   "outputs": [],
   "source": [
    "# Cell 17 - Pytest Example\n",
    "def add_17(a, b):\n",
    "    return a + b + 17\n",
    "\n",
    "def test_add_17():\n",
    "    assert add_17(17, 18) == 52\n",
    "\n",
    "test_add_17()\n",
    "print(\"Pytest Cell 17 Passed\")"
   ]
  },
  {
   "cell_type": "code",
   "execution_count": null,
   "id": "60ced0a5",
   "metadata": {},
   "outputs": [],
   "source": [
    "# Cell 18 - Pytest Example\n",
    "def add_18(a, b):\n",
    "    return a + b + 18\n",
    "\n",
    "def test_add_18():\n",
    "    assert add_18(18, 19) == 55\n",
    "\n",
    "test_add_18()\n",
    "print(\"Pytest Cell 18 Passed\")"
   ]
  },
  {
   "cell_type": "code",
   "execution_count": null,
   "id": "df68d2eb",
   "metadata": {},
   "outputs": [],
   "source": [
    "# Cell 19 - Pytest Example\n",
    "def add_19(a, b):\n",
    "    return a + b + 19\n",
    "\n",
    "def test_add_19():\n",
    "    assert add_19(19, 20) == 58\n",
    "\n",
    "test_add_19()\n",
    "print(\"Pytest Cell 19 Passed\")"
   ]
  },
  {
   "cell_type": "code",
   "execution_count": null,
   "id": "c648227d",
   "metadata": {},
   "outputs": [],
   "source": [
    "# Cell 20 - Pytest Example\n",
    "def add_20(a, b):\n",
    "    return a + b + 20\n",
    "\n",
    "def test_add_20():\n",
    "    assert add_20(20, 21) == 61\n",
    "\n",
    "test_add_20()\n",
    "print(\"Pytest Cell 20 Passed\")"
   ]
  },
  {
   "cell_type": "code",
   "execution_count": null,
   "id": "5d2ab88d",
   "metadata": {},
   "outputs": [],
   "source": [
    "# Cell 21 - Pytest Example\n",
    "def add_21(a, b):\n",
    "    return a + b + 21\n",
    "\n",
    "def test_add_21():\n",
    "    assert add_21(21, 22) == 64\n",
    "\n",
    "test_add_21()\n",
    "print(\"Pytest Cell 21 Passed\")"
   ]
  },
  {
   "cell_type": "code",
   "execution_count": null,
   "id": "68612ac5",
   "metadata": {},
   "outputs": [],
   "source": [
    "# Cell 22 - Pytest Example\n",
    "def add_22(a, b):\n",
    "    return a + b + 22\n",
    "\n",
    "def test_add_22():\n",
    "    assert add_22(22, 23) == 67\n",
    "\n",
    "test_add_22()\n",
    "print(\"Pytest Cell 22 Passed\")"
   ]
  },
  {
   "cell_type": "code",
   "execution_count": null,
   "id": "80574f64",
   "metadata": {},
   "outputs": [],
   "source": [
    "# Cell 23 - Pytest Example\n",
    "def add_23(a, b):\n",
    "    return a + b + 23\n",
    "\n",
    "def test_add_23():\n",
    "    assert add_23(23, 24) == 70\n",
    "\n",
    "test_add_23()\n",
    "print(\"Pytest Cell 23 Passed\")"
   ]
  },
  {
   "cell_type": "code",
   "execution_count": null,
   "id": "343f6eaf",
   "metadata": {},
   "outputs": [],
   "source": [
    "# Cell 24 - Pytest Example\n",
    "def add_24(a, b):\n",
    "    return a + b + 24\n",
    "\n",
    "def test_add_24():\n",
    "    assert add_24(24, 25) == 73\n",
    "\n",
    "test_add_24()\n",
    "print(\"Pytest Cell 24 Passed\")"
   ]
  },
  {
   "cell_type": "code",
   "execution_count": null,
   "id": "a17a0d83",
   "metadata": {},
   "outputs": [],
   "source": [
    "# Cell 25 - Pytest Example\n",
    "def add_25(a, b):\n",
    "    return a + b + 25\n",
    "\n",
    "def test_add_25():\n",
    "    assert add_25(25, 26) == 76\n",
    "\n",
    "test_add_25()\n",
    "print(\"Pytest Cell 25 Passed\")"
   ]
  },
  {
   "cell_type": "code",
   "execution_count": null,
   "id": "866663de",
   "metadata": {},
   "outputs": [],
   "source": [
    "# Cell 26 - Pytest Example\n",
    "def add_26(a, b):\n",
    "    return a + b + 26\n",
    "\n",
    "def test_add_26():\n",
    "    assert add_26(26, 27) == 79\n",
    "\n",
    "test_add_26()\n",
    "print(\"Pytest Cell 26 Passed\")"
   ]
  },
  {
   "cell_type": "code",
   "execution_count": null,
   "id": "0ff900dd",
   "metadata": {},
   "outputs": [],
   "source": [
    "# Cell 27 - Pytest Example\n",
    "def add_27(a, b):\n",
    "    return a + b + 27\n",
    "\n",
    "def test_add_27():\n",
    "    assert add_27(27, 28) == 82\n",
    "\n",
    "test_add_27()\n",
    "print(\"Pytest Cell 27 Passed\")"
   ]
  },
  {
   "cell_type": "code",
   "execution_count": null,
   "id": "83c8bb10",
   "metadata": {},
   "outputs": [],
   "source": [
    "# Cell 28 - Pytest Example\n",
    "def add_28(a, b):\n",
    "    return a + b + 28\n",
    "\n",
    "def test_add_28():\n",
    "    assert add_28(28, 29) == 85\n",
    "\n",
    "test_add_28()\n",
    "print(\"Pytest Cell 28 Passed\")"
   ]
  },
  {
   "cell_type": "code",
   "execution_count": null,
   "id": "27603b86",
   "metadata": {},
   "outputs": [],
   "source": [
    "# Cell 29 - Pytest Example\n",
    "def add_29(a, b):\n",
    "    return a + b + 29\n",
    "\n",
    "def test_add_29():\n",
    "    assert add_29(29, 30) == 88\n",
    "\n",
    "test_add_29()\n",
    "print(\"Pytest Cell 29 Passed\")"
   ]
  },
  {
   "cell_type": "code",
   "execution_count": null,
   "id": "fa4aa552",
   "metadata": {},
   "outputs": [],
   "source": [
    "# Cell 30 - Pytest Example\n",
    "def add_30(a, b):\n",
    "    return a + b + 30\n",
    "\n",
    "def test_add_30():\n",
    "    assert add_30(30, 31) == 91\n",
    "\n",
    "test_add_30()\n",
    "print(\"Pytest Cell 30 Passed\")"
   ]
  },
  {
   "cell_type": "code",
   "execution_count": null,
   "id": "7be66bc3",
   "metadata": {},
   "outputs": [],
   "source": [
    "# Cell 31 - Pytest Example\n",
    "def add_31(a, b):\n",
    "    return a + b + 31\n",
    "\n",
    "def test_add_31():\n",
    "    assert add_31(31, 32) == 94\n",
    "\n",
    "test_add_31()\n",
    "print(\"Pytest Cell 31 Passed\")"
   ]
  },
  {
   "cell_type": "code",
   "execution_count": null,
   "id": "27d1f0e8",
   "metadata": {},
   "outputs": [],
   "source": [
    "# Cell 32 - Pytest Example\n",
    "def add_32(a, b):\n",
    "    return a + b + 32\n",
    "\n",
    "def test_add_32():\n",
    "    assert add_32(32, 33) == 97\n",
    "\n",
    "test_add_32()\n",
    "print(\"Pytest Cell 32 Passed\")"
   ]
  },
  {
   "cell_type": "code",
   "execution_count": null,
   "id": "3a506ded",
   "metadata": {},
   "outputs": [],
   "source": [
    "# Cell 33 - Pytest Example\n",
    "def add_33(a, b):\n",
    "    return a + b + 33\n",
    "\n",
    "def test_add_33():\n",
    "    assert add_33(33, 34) == 100\n",
    "\n",
    "test_add_33()\n",
    "print(\"Pytest Cell 33 Passed\")"
   ]
  },
  {
   "cell_type": "code",
   "execution_count": null,
   "id": "b47525a0",
   "metadata": {},
   "outputs": [],
   "source": [
    "# Cell 34 - Pytest Example\n",
    "def add_34(a, b):\n",
    "    return a + b + 34\n",
    "\n",
    "def test_add_34():\n",
    "    assert add_34(34, 35) == 103\n",
    "\n",
    "test_add_34()\n",
    "print(\"Pytest Cell 34 Passed\")"
   ]
  },
  {
   "cell_type": "code",
   "execution_count": null,
   "id": "9cec7db9",
   "metadata": {},
   "outputs": [],
   "source": [
    "# Cell 35 - Pytest Example\n",
    "def add_35(a, b):\n",
    "    return a + b + 35\n",
    "\n",
    "def test_add_35():\n",
    "    assert add_35(35, 36) == 106\n",
    "\n",
    "test_add_35()\n",
    "print(\"Pytest Cell 35 Passed\")"
   ]
  },
  {
   "cell_type": "code",
   "execution_count": null,
   "id": "eb8354d2",
   "metadata": {},
   "outputs": [],
   "source": [
    "# Cell 36 - Pytest Example\n",
    "def add_36(a, b):\n",
    "    return a + b + 36\n",
    "\n",
    "def test_add_36():\n",
    "    assert add_36(36, 37) == 109\n",
    "\n",
    "test_add_36()\n",
    "print(\"Pytest Cell 36 Passed\")"
   ]
  },
  {
   "cell_type": "code",
   "execution_count": null,
   "id": "cf4554c2",
   "metadata": {},
   "outputs": [],
   "source": [
    "# Cell 37 - Pytest Example\n",
    "def add_37(a, b):\n",
    "    return a + b + 37\n",
    "\n",
    "def test_add_37():\n",
    "    assert add_37(37, 38) == 112\n",
    "\n",
    "test_add_37()\n",
    "print(\"Pytest Cell 37 Passed\")"
   ]
  },
  {
   "cell_type": "code",
   "execution_count": null,
   "id": "1e87b651",
   "metadata": {},
   "outputs": [],
   "source": [
    "# Cell 38 - Pytest Example\n",
    "def add_38(a, b):\n",
    "    return a + b + 38\n",
    "\n",
    "def test_add_38():\n",
    "    assert add_38(38, 39) == 115\n",
    "\n",
    "test_add_38()\n",
    "print(\"Pytest Cell 38 Passed\")"
   ]
  },
  {
   "cell_type": "code",
   "execution_count": null,
   "id": "9d4c61cd",
   "metadata": {},
   "outputs": [],
   "source": [
    "# Cell 39 - Pytest Example\n",
    "def add_39(a, b):\n",
    "    return a + b + 39\n",
    "\n",
    "def test_add_39():\n",
    "    assert add_39(39, 40) == 118\n",
    "\n",
    "test_add_39()\n",
    "print(\"Pytest Cell 39 Passed\")"
   ]
  },
  {
   "cell_type": "code",
   "execution_count": null,
   "id": "bf53ad6b",
   "metadata": {},
   "outputs": [],
   "source": [
    "# Cell 40 - Pytest Example\n",
    "def add_40(a, b):\n",
    "    return a + b + 40\n",
    "\n",
    "def test_add_40():\n",
    "    assert add_40(40, 41) == 121\n",
    "\n",
    "test_add_40()\n",
    "print(\"Pytest Cell 40 Passed\")"
   ]
  },
  {
   "cell_type": "code",
   "execution_count": null,
   "id": "42ca372a",
   "metadata": {},
   "outputs": [],
   "source": [
    "# Cell 41 - Pytest Example\n",
    "def add_41(a, b):\n",
    "    return a + b + 41\n",
    "\n",
    "def test_add_41():\n",
    "    assert add_41(41, 42) == 124\n",
    "\n",
    "test_add_41()\n",
    "print(\"Pytest Cell 41 Passed\")"
   ]
  },
  {
   "cell_type": "code",
   "execution_count": null,
   "id": "5e17846c",
   "metadata": {},
   "outputs": [],
   "source": [
    "# Cell 42 - Pytest Example\n",
    "def add_42(a, b):\n",
    "    return a + b + 42\n",
    "\n",
    "def test_add_42():\n",
    "    assert add_42(42, 43) == 127\n",
    "\n",
    "test_add_42()\n",
    "print(\"Pytest Cell 42 Passed\")"
   ]
  },
  {
   "cell_type": "code",
   "execution_count": null,
   "id": "fb5b7858",
   "metadata": {},
   "outputs": [],
   "source": [
    "# Cell 43 - Pytest Example\n",
    "def add_43(a, b):\n",
    "    return a + b + 43\n",
    "\n",
    "def test_add_43():\n",
    "    assert add_43(43, 44) == 130\n",
    "\n",
    "test_add_43()\n",
    "print(\"Pytest Cell 43 Passed\")"
   ]
  },
  {
   "cell_type": "code",
   "execution_count": null,
   "id": "edb03415",
   "metadata": {},
   "outputs": [],
   "source": [
    "# Cell 44 - Pytest Example\n",
    "def add_44(a, b):\n",
    "    return a + b + 44\n",
    "\n",
    "def test_add_44():\n",
    "    assert add_44(44, 45) == 133\n",
    "\n",
    "test_add_44()\n",
    "print(\"Pytest Cell 44 Passed\")"
   ]
  },
  {
   "cell_type": "code",
   "execution_count": null,
   "id": "0482d7ee",
   "metadata": {},
   "outputs": [],
   "source": [
    "# Cell 45 - Pytest Example\n",
    "def add_45(a, b):\n",
    "    return a + b + 45\n",
    "\n",
    "def test_add_45():\n",
    "    assert add_45(45, 46) == 136\n",
    "\n",
    "test_add_45()\n",
    "print(\"Pytest Cell 45 Passed\")"
   ]
  },
  {
   "cell_type": "code",
   "execution_count": null,
   "id": "75bfc34d",
   "metadata": {},
   "outputs": [],
   "source": [
    "# Cell 46 - Pytest Example\n",
    "def add_46(a, b):\n",
    "    return a + b + 46\n",
    "\n",
    "def test_add_46():\n",
    "    assert add_46(46, 47) == 139\n",
    "\n",
    "test_add_46()\n",
    "print(\"Pytest Cell 46 Passed\")"
   ]
  },
  {
   "cell_type": "code",
   "execution_count": null,
   "id": "7bb95b23",
   "metadata": {},
   "outputs": [],
   "source": [
    "# Cell 47 - Pytest Example\n",
    "def add_47(a, b):\n",
    "    return a + b + 47\n",
    "\n",
    "def test_add_47():\n",
    "    assert add_47(47, 48) == 142\n",
    "\n",
    "test_add_47()\n",
    "print(\"Pytest Cell 47 Passed\")"
   ]
  },
  {
   "cell_type": "code",
   "execution_count": null,
   "id": "b923c78f",
   "metadata": {},
   "outputs": [],
   "source": [
    "# Cell 48 - Pytest Example\n",
    "def add_48(a, b):\n",
    "    return a + b + 48\n",
    "\n",
    "def test_add_48():\n",
    "    assert add_48(48, 49) == 145\n",
    "\n",
    "test_add_48()\n",
    "print(\"Pytest Cell 48 Passed\")"
   ]
  },
  {
   "cell_type": "code",
   "execution_count": null,
   "id": "418f6c6a",
   "metadata": {},
   "outputs": [],
   "source": [
    "# Cell 49 - Pytest Example\n",
    "def add_49(a, b):\n",
    "    return a + b + 49\n",
    "\n",
    "def test_add_49():\n",
    "    assert add_49(49, 50) == 148\n",
    "\n",
    "test_add_49()\n",
    "print(\"Pytest Cell 49 Passed\")"
   ]
  },
  {
   "cell_type": "code",
   "execution_count": null,
   "id": "4a50a29e",
   "metadata": {},
   "outputs": [],
   "source": [
    "# Cell 50 - Pytest Example\n",
    "def add_50(a, b):\n",
    "    return a + b + 50\n",
    "\n",
    "def test_add_50():\n",
    "    assert add_50(50, 51) == 151\n",
    "\n",
    "test_add_50()\n",
    "print(\"Pytest Cell 50 Passed\")"
   ]
  },
  {
   "cell_type": "code",
   "execution_count": null,
   "id": "8eaebbaf",
   "metadata": {},
   "outputs": [],
   "source": [
    "# Cell 51 - Pytest Example\n",
    "def add_51(a, b):\n",
    "    return a + b + 51\n",
    "\n",
    "def test_add_51():\n",
    "    assert add_51(51, 52) == 154\n",
    "\n",
    "test_add_51()\n",
    "print(\"Pytest Cell 51 Passed\")"
   ]
  },
  {
   "cell_type": "code",
   "execution_count": null,
   "id": "23446da7",
   "metadata": {},
   "outputs": [],
   "source": [
    "# Cell 52 - Pytest Example\n",
    "def add_52(a, b):\n",
    "    return a + b + 52\n",
    "\n",
    "def test_add_52():\n",
    "    assert add_52(52, 53) == 157\n",
    "\n",
    "test_add_52()\n",
    "print(\"Pytest Cell 52 Passed\")"
   ]
  },
  {
   "cell_type": "code",
   "execution_count": null,
   "id": "37b4e9d6",
   "metadata": {},
   "outputs": [],
   "source": [
    "# Cell 53 - Pytest Example\n",
    "def add_53(a, b):\n",
    "    return a + b + 53\n",
    "\n",
    "def test_add_53():\n",
    "    assert add_53(53, 54) == 160\n",
    "\n",
    "test_add_53()\n",
    "print(\"Pytest Cell 53 Passed\")"
   ]
  },
  {
   "cell_type": "code",
   "execution_count": null,
   "id": "76f89b04",
   "metadata": {},
   "outputs": [],
   "source": [
    "# Cell 54 - Pytest Example\n",
    "def add_54(a, b):\n",
    "    return a + b + 54\n",
    "\n",
    "def test_add_54():\n",
    "    assert add_54(54, 55) == 163\n",
    "\n",
    "test_add_54()\n",
    "print(\"Pytest Cell 54 Passed\")"
   ]
  },
  {
   "cell_type": "code",
   "execution_count": null,
   "id": "e9cfafc2",
   "metadata": {},
   "outputs": [],
   "source": [
    "# Cell 55 - Pytest Example\n",
    "def add_55(a, b):\n",
    "    return a + b + 55\n",
    "\n",
    "def test_add_55():\n",
    "    assert add_55(55, 56) == 166\n",
    "\n",
    "test_add_55()\n",
    "print(\"Pytest Cell 55 Passed\")"
   ]
  },
  {
   "cell_type": "code",
   "execution_count": null,
   "id": "deb5aded",
   "metadata": {},
   "outputs": [],
   "source": [
    "# Cell 56 - Pytest Example\n",
    "def add_56(a, b):\n",
    "    return a + b + 56\n",
    "\n",
    "def test_add_56():\n",
    "    assert add_56(56, 57) == 169\n",
    "\n",
    "test_add_56()\n",
    "print(\"Pytest Cell 56 Passed\")"
   ]
  },
  {
   "cell_type": "code",
   "execution_count": null,
   "id": "57d2f4aa",
   "metadata": {},
   "outputs": [],
   "source": [
    "# Cell 57 - Pytest Example\n",
    "def add_57(a, b):\n",
    "    return a + b + 57\n",
    "\n",
    "def test_add_57():\n",
    "    assert add_57(57, 58) == 172\n",
    "\n",
    "test_add_57()\n",
    "print(\"Pytest Cell 57 Passed\")"
   ]
  },
  {
   "cell_type": "code",
   "execution_count": null,
   "id": "2d074ff1",
   "metadata": {},
   "outputs": [],
   "source": [
    "# Cell 58 - Pytest Example\n",
    "def add_58(a, b):\n",
    "    return a + b + 58\n",
    "\n",
    "def test_add_58():\n",
    "    assert add_58(58, 59) == 175\n",
    "\n",
    "test_add_58()\n",
    "print(\"Pytest Cell 58 Passed\")"
   ]
  },
  {
   "cell_type": "code",
   "execution_count": null,
   "id": "ecfbcc74",
   "metadata": {},
   "outputs": [],
   "source": [
    "# Cell 59 - Pytest Example\n",
    "def add_59(a, b):\n",
    "    return a + b + 59\n",
    "\n",
    "def test_add_59():\n",
    "    assert add_59(59, 60) == 178\n",
    "\n",
    "test_add_59()\n",
    "print(\"Pytest Cell 59 Passed\")"
   ]
  },
  {
   "cell_type": "code",
   "execution_count": null,
   "id": "5208cd5d",
   "metadata": {},
   "outputs": [],
   "source": [
    "# Cell 60 - Pytest Example\n",
    "def add_60(a, b):\n",
    "    return a + b + 60\n",
    "\n",
    "def test_add_60():\n",
    "    assert add_60(60, 61) == 181\n",
    "\n",
    "test_add_60()\n",
    "print(\"Pytest Cell 60 Passed\")"
   ]
  },
  {
   "cell_type": "code",
   "execution_count": null,
   "id": "6b58da2f",
   "metadata": {},
   "outputs": [],
   "source": [
    "# Cell 61 - Pytest Example\n",
    "def add_61(a, b):\n",
    "    return a + b + 61\n",
    "\n",
    "def test_add_61():\n",
    "    assert add_61(61, 62) == 184\n",
    "\n",
    "test_add_61()\n",
    "print(\"Pytest Cell 61 Passed\")"
   ]
  },
  {
   "cell_type": "code",
   "execution_count": null,
   "id": "d59e3586",
   "metadata": {},
   "outputs": [],
   "source": [
    "# Cell 62 - Pytest Example\n",
    "def add_62(a, b):\n",
    "    return a + b + 62\n",
    "\n",
    "def test_add_62():\n",
    "    assert add_62(62, 63) == 187\n",
    "\n",
    "test_add_62()\n",
    "print(\"Pytest Cell 62 Passed\")"
   ]
  },
  {
   "cell_type": "code",
   "execution_count": null,
   "id": "801dd67d",
   "metadata": {},
   "outputs": [],
   "source": [
    "# Cell 63 - Pytest Example\n",
    "def add_63(a, b):\n",
    "    return a + b + 63\n",
    "\n",
    "def test_add_63():\n",
    "    assert add_63(63, 64) == 190\n",
    "\n",
    "test_add_63()\n",
    "print(\"Pytest Cell 63 Passed\")"
   ]
  },
  {
   "cell_type": "code",
   "execution_count": null,
   "id": "29745ae2",
   "metadata": {},
   "outputs": [],
   "source": [
    "# Cell 64 - Pytest Example\n",
    "def add_64(a, b):\n",
    "    return a + b + 64\n",
    "\n",
    "def test_add_64():\n",
    "    assert add_64(64, 65) == 193\n",
    "\n",
    "test_add_64()\n",
    "print(\"Pytest Cell 64 Passed\")"
   ]
  },
  {
   "cell_type": "code",
   "execution_count": null,
   "id": "50590660",
   "metadata": {},
   "outputs": [],
   "source": [
    "# Cell 65 - Pytest Example\n",
    "def add_65(a, b):\n",
    "    return a + b + 65\n",
    "\n",
    "def test_add_65():\n",
    "    assert add_65(65, 66) == 196\n",
    "\n",
    "test_add_65()\n",
    "print(\"Pytest Cell 65 Passed\")"
   ]
  },
  {
   "cell_type": "code",
   "execution_count": null,
   "id": "cf04e520",
   "metadata": {},
   "outputs": [],
   "source": [
    "# Cell 66 - Pytest Example\n",
    "def add_66(a, b):\n",
    "    return a + b + 66\n",
    "\n",
    "def test_add_66():\n",
    "    assert add_66(66, 67) == 199\n",
    "\n",
    "test_add_66()\n",
    "print(\"Pytest Cell 66 Passed\")"
   ]
  },
  {
   "cell_type": "code",
   "execution_count": null,
   "id": "a693d266",
   "metadata": {},
   "outputs": [],
   "source": [
    "# Cell 67 - Pytest Example\n",
    "def add_67(a, b):\n",
    "    return a + b + 67\n",
    "\n",
    "def test_add_67():\n",
    "    assert add_67(67, 68) == 202\n",
    "\n",
    "test_add_67()\n",
    "print(\"Pytest Cell 67 Passed\")"
   ]
  },
  {
   "cell_type": "code",
   "execution_count": null,
   "id": "6abfc4b5",
   "metadata": {},
   "outputs": [],
   "source": [
    "# Cell 68 - Pytest Example\n",
    "def add_68(a, b):\n",
    "    return a + b + 68\n",
    "\n",
    "def test_add_68():\n",
    "    assert add_68(68, 69) == 205\n",
    "\n",
    "test_add_68()\n",
    "print(\"Pytest Cell 68 Passed\")"
   ]
  },
  {
   "cell_type": "code",
   "execution_count": null,
   "id": "b0535598",
   "metadata": {},
   "outputs": [],
   "source": [
    "# Cell 69 - Pytest Example\n",
    "def add_69(a, b):\n",
    "    return a + b + 69\n",
    "\n",
    "def test_add_69():\n",
    "    assert add_69(69, 70) == 208\n",
    "\n",
    "test_add_69()\n",
    "print(\"Pytest Cell 69 Passed\")"
   ]
  },
  {
   "cell_type": "code",
   "execution_count": null,
   "id": "6a055e67",
   "metadata": {},
   "outputs": [],
   "source": [
    "# Cell 70 - Pytest Example\n",
    "def add_70(a, b):\n",
    "    return a + b + 70\n",
    "\n",
    "def test_add_70():\n",
    "    assert add_70(70, 71) == 211\n",
    "\n",
    "test_add_70()\n",
    "print(\"Pytest Cell 70 Passed\")"
   ]
  },
  {
   "cell_type": "code",
   "execution_count": null,
   "id": "a2081155",
   "metadata": {},
   "outputs": [],
   "source": [
    "# Cell 71 - Pytest Example\n",
    "def add_71(a, b):\n",
    "    return a + b + 71\n",
    "\n",
    "def test_add_71():\n",
    "    assert add_71(71, 72) == 214\n",
    "\n",
    "test_add_71()\n",
    "print(\"Pytest Cell 71 Passed\")"
   ]
  },
  {
   "cell_type": "code",
   "execution_count": null,
   "id": "1699ce59",
   "metadata": {},
   "outputs": [],
   "source": [
    "# Cell 72 - Pytest Example\n",
    "def add_72(a, b):\n",
    "    return a + b + 72\n",
    "\n",
    "def test_add_72():\n",
    "    assert add_72(72, 73) == 217\n",
    "\n",
    "test_add_72()\n",
    "print(\"Pytest Cell 72 Passed\")"
   ]
  },
  {
   "cell_type": "code",
   "execution_count": null,
   "id": "d8d98d44",
   "metadata": {},
   "outputs": [],
   "source": [
    "# Cell 73 - Pytest Example\n",
    "def add_73(a, b):\n",
    "    return a + b + 73\n",
    "\n",
    "def test_add_73():\n",
    "    assert add_73(73, 74) == 220\n",
    "\n",
    "test_add_73()\n",
    "print(\"Pytest Cell 73 Passed\")"
   ]
  },
  {
   "cell_type": "code",
   "execution_count": null,
   "id": "d707e2ce",
   "metadata": {},
   "outputs": [],
   "source": [
    "# Cell 74 - Pytest Example\n",
    "def add_74(a, b):\n",
    "    return a + b + 74\n",
    "\n",
    "def test_add_74():\n",
    "    assert add_74(74, 75) == 223\n",
    "\n",
    "test_add_74()\n",
    "print(\"Pytest Cell 74 Passed\")"
   ]
  },
  {
   "cell_type": "code",
   "execution_count": null,
   "id": "715af4bf",
   "metadata": {},
   "outputs": [],
   "source": [
    "# Cell 75 - Pytest Example\n",
    "def add_75(a, b):\n",
    "    return a + b + 75\n",
    "\n",
    "def test_add_75():\n",
    "    assert add_75(75, 76) == 226\n",
    "\n",
    "test_add_75()\n",
    "print(\"Pytest Cell 75 Passed\")"
   ]
  },
  {
   "cell_type": "code",
   "execution_count": null,
   "id": "5021f16c",
   "metadata": {},
   "outputs": [],
   "source": [
    "# Cell 76 - Pytest Example\n",
    "def add_76(a, b):\n",
    "    return a + b + 76\n",
    "\n",
    "def test_add_76():\n",
    "    assert add_76(76, 77) == 229\n",
    "\n",
    "test_add_76()\n",
    "print(\"Pytest Cell 76 Passed\")"
   ]
  },
  {
   "cell_type": "code",
   "execution_count": null,
   "id": "3a2997ba",
   "metadata": {},
   "outputs": [],
   "source": [
    "# Cell 77 - Pytest Example\n",
    "def add_77(a, b):\n",
    "    return a + b + 77\n",
    "\n",
    "def test_add_77():\n",
    "    assert add_77(77, 78) == 232\n",
    "\n",
    "test_add_77()\n",
    "print(\"Pytest Cell 77 Passed\")"
   ]
  },
  {
   "cell_type": "code",
   "execution_count": null,
   "id": "ad02c7ec",
   "metadata": {},
   "outputs": [],
   "source": [
    "# Cell 78 - Pytest Example\n",
    "def add_78(a, b):\n",
    "    return a + b + 78\n",
    "\n",
    "def test_add_78():\n",
    "    assert add_78(78, 79) == 235\n",
    "\n",
    "test_add_78()\n",
    "print(\"Pytest Cell 78 Passed\")"
   ]
  },
  {
   "cell_type": "code",
   "execution_count": null,
   "id": "edb7a336",
   "metadata": {},
   "outputs": [],
   "source": [
    "# Cell 79 - Pytest Example\n",
    "def add_79(a, b):\n",
    "    return a + b + 79\n",
    "\n",
    "def test_add_79():\n",
    "    assert add_79(79, 80) == 238\n",
    "\n",
    "test_add_79()\n",
    "print(\"Pytest Cell 79 Passed\")"
   ]
  },
  {
   "cell_type": "code",
   "execution_count": null,
   "id": "41964ef5",
   "metadata": {},
   "outputs": [],
   "source": [
    "# Cell 80 - Pytest Example\n",
    "def add_80(a, b):\n",
    "    return a + b + 80\n",
    "\n",
    "def test_add_80():\n",
    "    assert add_80(80, 81) == 241\n",
    "\n",
    "test_add_80()\n",
    "print(\"Pytest Cell 80 Passed\")"
   ]
  },
  {
   "cell_type": "code",
   "execution_count": null,
   "id": "ef88692a",
   "metadata": {},
   "outputs": [],
   "source": [
    "# Cell 81 - Pytest Example\n",
    "def add_81(a, b):\n",
    "    return a + b + 81\n",
    "\n",
    "def test_add_81():\n",
    "    assert add_81(81, 82) == 244\n",
    "\n",
    "test_add_81()\n",
    "print(\"Pytest Cell 81 Passed\")"
   ]
  },
  {
   "cell_type": "code",
   "execution_count": null,
   "id": "5bf030fa",
   "metadata": {},
   "outputs": [],
   "source": [
    "# Cell 82 - Pytest Example\n",
    "def add_82(a, b):\n",
    "    return a + b + 82\n",
    "\n",
    "def test_add_82():\n",
    "    assert add_82(82, 83) == 247\n",
    "\n",
    "test_add_82()\n",
    "print(\"Pytest Cell 82 Passed\")"
   ]
  },
  {
   "cell_type": "code",
   "execution_count": null,
   "id": "b24bede1",
   "metadata": {},
   "outputs": [],
   "source": [
    "# Cell 83 - Pytest Example\n",
    "def add_83(a, b):\n",
    "    return a + b + 83\n",
    "\n",
    "def test_add_83():\n",
    "    assert add_83(83, 84) == 250\n",
    "\n",
    "test_add_83()\n",
    "print(\"Pytest Cell 83 Passed\")"
   ]
  },
  {
   "cell_type": "code",
   "execution_count": null,
   "id": "34464bb5",
   "metadata": {},
   "outputs": [],
   "source": [
    "# Cell 84 - Pytest Example\n",
    "def add_84(a, b):\n",
    "    return a + b + 84\n",
    "\n",
    "def test_add_84():\n",
    "    assert add_84(84, 85) == 253\n",
    "\n",
    "test_add_84()\n",
    "print(\"Pytest Cell 84 Passed\")"
   ]
  },
  {
   "cell_type": "code",
   "execution_count": null,
   "id": "4dad2be4",
   "metadata": {},
   "outputs": [],
   "source": [
    "# Cell 85 - Pytest Example\n",
    "def add_85(a, b):\n",
    "    return a + b + 85\n",
    "\n",
    "def test_add_85():\n",
    "    assert add_85(85, 86) == 256\n",
    "\n",
    "test_add_85()\n",
    "print(\"Pytest Cell 85 Passed\")"
   ]
  },
  {
   "cell_type": "code",
   "execution_count": null,
   "id": "3f81954f",
   "metadata": {},
   "outputs": [],
   "source": [
    "# Cell 86 - Pytest Example\n",
    "def add_86(a, b):\n",
    "    return a + b + 86\n",
    "\n",
    "def test_add_86():\n",
    "    assert add_86(86, 87) == 259\n",
    "\n",
    "test_add_86()\n",
    "print(\"Pytest Cell 86 Passed\")"
   ]
  },
  {
   "cell_type": "code",
   "execution_count": null,
   "id": "a487381f",
   "metadata": {},
   "outputs": [],
   "source": [
    "# Cell 87 - Pytest Example\n",
    "def add_87(a, b):\n",
    "    return a + b + 87\n",
    "\n",
    "def test_add_87():\n",
    "    assert add_87(87, 88) == 262\n",
    "\n",
    "test_add_87()\n",
    "print(\"Pytest Cell 87 Passed\")"
   ]
  },
  {
   "cell_type": "code",
   "execution_count": null,
   "id": "cb846e2e",
   "metadata": {},
   "outputs": [],
   "source": [
    "# Cell 88 - Pytest Example\n",
    "def add_88(a, b):\n",
    "    return a + b + 88\n",
    "\n",
    "def test_add_88():\n",
    "    assert add_88(88, 89) == 265\n",
    "\n",
    "test_add_88()\n",
    "print(\"Pytest Cell 88 Passed\")"
   ]
  },
  {
   "cell_type": "code",
   "execution_count": null,
   "id": "81c145aa",
   "metadata": {},
   "outputs": [],
   "source": [
    "# Cell 89 - Pytest Example\n",
    "def add_89(a, b):\n",
    "    return a + b + 89\n",
    "\n",
    "def test_add_89():\n",
    "    assert add_89(89, 90) == 268\n",
    "\n",
    "test_add_89()\n",
    "print(\"Pytest Cell 89 Passed\")"
   ]
  },
  {
   "cell_type": "code",
   "execution_count": null,
   "id": "f10f52e6",
   "metadata": {},
   "outputs": [],
   "source": [
    "# Cell 90 - Pytest Example\n",
    "def add_90(a, b):\n",
    "    return a + b + 90\n",
    "\n",
    "def test_add_90():\n",
    "    assert add_90(90, 91) == 271\n",
    "\n",
    "test_add_90()\n",
    "print(\"Pytest Cell 90 Passed\")"
   ]
  },
  {
   "cell_type": "code",
   "execution_count": null,
   "id": "d0024a5e",
   "metadata": {},
   "outputs": [],
   "source": [
    "# Cell 91 - Pytest Example\n",
    "def add_91(a, b):\n",
    "    return a + b + 91\n",
    "\n",
    "def test_add_91():\n",
    "    assert add_91(91, 92) == 274\n",
    "\n",
    "test_add_91()\n",
    "print(\"Pytest Cell 91 Passed\")"
   ]
  },
  {
   "cell_type": "code",
   "execution_count": null,
   "id": "888460e9",
   "metadata": {},
   "outputs": [],
   "source": [
    "# Cell 92 - Pytest Example\n",
    "def add_92(a, b):\n",
    "    return a + b + 92\n",
    "\n",
    "def test_add_92():\n",
    "    assert add_92(92, 93) == 277\n",
    "\n",
    "test_add_92()\n",
    "print(\"Pytest Cell 92 Passed\")"
   ]
  },
  {
   "cell_type": "code",
   "execution_count": null,
   "id": "bf9f5221",
   "metadata": {},
   "outputs": [],
   "source": [
    "# Cell 93 - Pytest Example\n",
    "def add_93(a, b):\n",
    "    return a + b + 93\n",
    "\n",
    "def test_add_93():\n",
    "    assert add_93(93, 94) == 280\n",
    "\n",
    "test_add_93()\n",
    "print(\"Pytest Cell 93 Passed\")"
   ]
  },
  {
   "cell_type": "code",
   "execution_count": null,
   "id": "b9265446",
   "metadata": {},
   "outputs": [],
   "source": [
    "# Cell 94 - Pytest Example\n",
    "def add_94(a, b):\n",
    "    return a + b + 94\n",
    "\n",
    "def test_add_94():\n",
    "    assert add_94(94, 95) == 283\n",
    "\n",
    "test_add_94()\n",
    "print(\"Pytest Cell 94 Passed\")"
   ]
  },
  {
   "cell_type": "code",
   "execution_count": null,
   "id": "f7962121",
   "metadata": {},
   "outputs": [],
   "source": [
    "# Cell 95 - Pytest Example\n",
    "def add_95(a, b):\n",
    "    return a + b + 95\n",
    "\n",
    "def test_add_95():\n",
    "    assert add_95(95, 96) == 286\n",
    "\n",
    "test_add_95()\n",
    "print(\"Pytest Cell 95 Passed\")"
   ]
  },
  {
   "cell_type": "code",
   "execution_count": null,
   "id": "32c17499",
   "metadata": {},
   "outputs": [],
   "source": [
    "# Cell 96 - Pytest Example\n",
    "def add_96(a, b):\n",
    "    return a + b + 96\n",
    "\n",
    "def test_add_96():\n",
    "    assert add_96(96, 97) == 289\n",
    "\n",
    "test_add_96()\n",
    "print(\"Pytest Cell 96 Passed\")"
   ]
  },
  {
   "cell_type": "code",
   "execution_count": null,
   "id": "dea42405",
   "metadata": {},
   "outputs": [],
   "source": [
    "# Cell 97 - Pytest Example\n",
    "def add_97(a, b):\n",
    "    return a + b + 97\n",
    "\n",
    "def test_add_97():\n",
    "    assert add_97(97, 98) == 292\n",
    "\n",
    "test_add_97()\n",
    "print(\"Pytest Cell 97 Passed\")"
   ]
  },
  {
   "cell_type": "code",
   "execution_count": null,
   "id": "4fd31cd2",
   "metadata": {},
   "outputs": [],
   "source": [
    "# Cell 98 - Pytest Example\n",
    "def add_98(a, b):\n",
    "    return a + b + 98\n",
    "\n",
    "def test_add_98():\n",
    "    assert add_98(98, 99) == 295\n",
    "\n",
    "test_add_98()\n",
    "print(\"Pytest Cell 98 Passed\")"
   ]
  },
  {
   "cell_type": "code",
   "execution_count": null,
   "id": "44fa869a",
   "metadata": {},
   "outputs": [],
   "source": [
    "# Cell 99 - Pytest Example\n",
    "def add_99(a, b):\n",
    "    return a + b + 99\n",
    "\n",
    "def test_add_99():\n",
    "    assert add_99(99, 100) == 298\n",
    "\n",
    "test_add_99()\n",
    "print(\"Pytest Cell 99 Passed\")"
   ]
  },
  {
   "cell_type": "code",
   "execution_count": null,
   "id": "d6c17f24",
   "metadata": {},
   "outputs": [],
   "source": [
    "# Cell 100 - Pytest Example\n",
    "def add_100(a, b):\n",
    "    return a + b + 100\n",
    "\n",
    "def test_add_100():\n",
    "    assert add_100(100, 101) == 301\n",
    "\n",
    "test_add_100()\n",
    "print(\"Pytest Cell 100 Passed\")"
   ]
  },
  {
   "cell_type": "code",
   "execution_count": null,
   "id": "39822c40",
   "metadata": {},
   "outputs": [],
   "source": [
    "# Cell 101 - Pytest Example\n",
    "def add_101(a, b):\n",
    "    return a + b + 101\n",
    "\n",
    "def test_add_101():\n",
    "    assert add_101(101, 102) == 304\n",
    "\n",
    "test_add_101()\n",
    "print(\"Pytest Cell 101 Passed\")"
   ]
  },
  {
   "cell_type": "code",
   "execution_count": null,
   "id": "317dad0c",
   "metadata": {},
   "outputs": [],
   "source": [
    "# Cell 102 - Pytest Example\n",
    "def add_102(a, b):\n",
    "    return a + b + 102\n",
    "\n",
    "def test_add_102():\n",
    "    assert add_102(102, 103) == 307\n",
    "\n",
    "test_add_102()\n",
    "print(\"Pytest Cell 102 Passed\")"
   ]
  },
  {
   "cell_type": "code",
   "execution_count": null,
   "id": "4e424904",
   "metadata": {},
   "outputs": [],
   "source": [
    "# Cell 103 - Pytest Example\n",
    "def add_103(a, b):\n",
    "    return a + b + 103\n",
    "\n",
    "def test_add_103():\n",
    "    assert add_103(103, 104) == 310\n",
    "\n",
    "test_add_103()\n",
    "print(\"Pytest Cell 103 Passed\")"
   ]
  },
  {
   "cell_type": "code",
   "execution_count": null,
   "id": "f7b9a7e2",
   "metadata": {},
   "outputs": [],
   "source": [
    "# Cell 104 - Pytest Example\n",
    "def add_104(a, b):\n",
    "    return a + b + 104\n",
    "\n",
    "def test_add_104():\n",
    "    assert add_104(104, 105) == 313\n",
    "\n",
    "test_add_104()\n",
    "print(\"Pytest Cell 104 Passed\")"
   ]
  },
  {
   "cell_type": "code",
   "execution_count": null,
   "id": "89f5f03d",
   "metadata": {},
   "outputs": [],
   "source": [
    "# Cell 105 - Pytest Example\n",
    "def add_105(a, b):\n",
    "    return a + b + 105\n",
    "\n",
    "def test_add_105():\n",
    "    assert add_105(105, 106) == 316\n",
    "\n",
    "test_add_105()\n",
    "print(\"Pytest Cell 105 Passed\")"
   ]
  },
  {
   "cell_type": "code",
   "execution_count": null,
   "id": "ead61c62",
   "metadata": {},
   "outputs": [],
   "source": [
    "# Cell 106 - Pytest Example\n",
    "def add_106(a, b):\n",
    "    return a + b + 106\n",
    "\n",
    "def test_add_106():\n",
    "    assert add_106(106, 107) == 319\n",
    "\n",
    "test_add_106()\n",
    "print(\"Pytest Cell 106 Passed\")"
   ]
  },
  {
   "cell_type": "code",
   "execution_count": null,
   "id": "2dd95ac9",
   "metadata": {},
   "outputs": [],
   "source": [
    "# Cell 107 - Pytest Example\n",
    "def add_107(a, b):\n",
    "    return a + b + 107\n",
    "\n",
    "def test_add_107():\n",
    "    assert add_107(107, 108) == 322\n",
    "\n",
    "test_add_107()\n",
    "print(\"Pytest Cell 107 Passed\")"
   ]
  },
  {
   "cell_type": "code",
   "execution_count": null,
   "id": "872a8386",
   "metadata": {},
   "outputs": [],
   "source": [
    "# Cell 108 - Pytest Example\n",
    "def add_108(a, b):\n",
    "    return a + b + 108\n",
    "\n",
    "def test_add_108():\n",
    "    assert add_108(108, 109) == 325\n",
    "\n",
    "test_add_108()\n",
    "print(\"Pytest Cell 108 Passed\")"
   ]
  },
  {
   "cell_type": "code",
   "execution_count": null,
   "id": "603a34c9",
   "metadata": {},
   "outputs": [],
   "source": [
    "# Cell 109 - Pytest Example\n",
    "def add_109(a, b):\n",
    "    return a + b + 109\n",
    "\n",
    "def test_add_109():\n",
    "    assert add_109(109, 110) == 328\n",
    "\n",
    "test_add_109()\n",
    "print(\"Pytest Cell 109 Passed\")"
   ]
  },
  {
   "cell_type": "code",
   "execution_count": null,
   "id": "9e39cd69",
   "metadata": {},
   "outputs": [],
   "source": [
    "# Cell 110 - Pytest Example\n",
    "def add_110(a, b):\n",
    "    return a + b + 110\n",
    "\n",
    "def test_add_110():\n",
    "    assert add_110(110, 111) == 331\n",
    "\n",
    "test_add_110()\n",
    "print(\"Pytest Cell 110 Passed\")"
   ]
  },
  {
   "cell_type": "code",
   "execution_count": null,
   "id": "3155061d",
   "metadata": {},
   "outputs": [],
   "source": [
    "# Cell 111 - Pytest Example\n",
    "def add_111(a, b):\n",
    "    return a + b + 111\n",
    "\n",
    "def test_add_111():\n",
    "    assert add_111(111, 112) == 334\n",
    "\n",
    "test_add_111()\n",
    "print(\"Pytest Cell 111 Passed\")"
   ]
  },
  {
   "cell_type": "code",
   "execution_count": null,
   "id": "b4cae6cf",
   "metadata": {},
   "outputs": [],
   "source": [
    "# Cell 112 - Pytest Example\n",
    "def add_112(a, b):\n",
    "    return a + b + 112\n",
    "\n",
    "def test_add_112():\n",
    "    assert add_112(112, 113) == 337\n",
    "\n",
    "test_add_112()\n",
    "print(\"Pytest Cell 112 Passed\")"
   ]
  },
  {
   "cell_type": "code",
   "execution_count": null,
   "id": "f8bbb45b",
   "metadata": {},
   "outputs": [],
   "source": [
    "# Cell 113 - Pytest Example\n",
    "def add_113(a, b):\n",
    "    return a + b + 113\n",
    "\n",
    "def test_add_113():\n",
    "    assert add_113(113, 114) == 340\n",
    "\n",
    "test_add_113()\n",
    "print(\"Pytest Cell 113 Passed\")"
   ]
  },
  {
   "cell_type": "code",
   "execution_count": null,
   "id": "dfda8616",
   "metadata": {},
   "outputs": [],
   "source": [
    "# Cell 114 - Pytest Example\n",
    "def add_114(a, b):\n",
    "    return a + b + 114\n",
    "\n",
    "def test_add_114():\n",
    "    assert add_114(114, 115) == 343\n",
    "\n",
    "test_add_114()\n",
    "print(\"Pytest Cell 114 Passed\")"
   ]
  },
  {
   "cell_type": "code",
   "execution_count": null,
   "id": "f89dc0f6",
   "metadata": {},
   "outputs": [],
   "source": [
    "# Cell 115 - Pytest Example\n",
    "def add_115(a, b):\n",
    "    return a + b + 115\n",
    "\n",
    "def test_add_115():\n",
    "    assert add_115(115, 116) == 346\n",
    "\n",
    "test_add_115()\n",
    "print(\"Pytest Cell 115 Passed\")"
   ]
  },
  {
   "cell_type": "code",
   "execution_count": null,
   "id": "8efbcad7",
   "metadata": {},
   "outputs": [],
   "source": [
    "# Cell 116 - Pytest Example\n",
    "def add_116(a, b):\n",
    "    return a + b + 116\n",
    "\n",
    "def test_add_116():\n",
    "    assert add_116(116, 117) == 349\n",
    "\n",
    "test_add_116()\n",
    "print(\"Pytest Cell 116 Passed\")"
   ]
  },
  {
   "cell_type": "code",
   "execution_count": null,
   "id": "3a742f09",
   "metadata": {},
   "outputs": [],
   "source": [
    "# Cell 117 - Pytest Example\n",
    "def add_117(a, b):\n",
    "    return a + b + 117\n",
    "\n",
    "def test_add_117():\n",
    "    assert add_117(117, 118) == 352\n",
    "\n",
    "test_add_117()\n",
    "print(\"Pytest Cell 117 Passed\")"
   ]
  },
  {
   "cell_type": "code",
   "execution_count": null,
   "id": "8ce05029",
   "metadata": {},
   "outputs": [],
   "source": [
    "# Cell 118 - Pytest Example\n",
    "def add_118(a, b):\n",
    "    return a + b + 118\n",
    "\n",
    "def test_add_118():\n",
    "    assert add_118(118, 119) == 355\n",
    "\n",
    "test_add_118()\n",
    "print(\"Pytest Cell 118 Passed\")"
   ]
  },
  {
   "cell_type": "code",
   "execution_count": null,
   "id": "a2e1f22a",
   "metadata": {},
   "outputs": [],
   "source": [
    "# Cell 119 - Pytest Example\n",
    "def add_119(a, b):\n",
    "    return a + b + 119\n",
    "\n",
    "def test_add_119():\n",
    "    assert add_119(119, 120) == 358\n",
    "\n",
    "test_add_119()\n",
    "print(\"Pytest Cell 119 Passed\")"
   ]
  },
  {
   "cell_type": "code",
   "execution_count": null,
   "id": "1f689948",
   "metadata": {},
   "outputs": [],
   "source": [
    "# Cell 120 - Pytest Example\n",
    "def add_120(a, b):\n",
    "    return a + b + 120\n",
    "\n",
    "def test_add_120():\n",
    "    assert add_120(120, 121) == 361\n",
    "\n",
    "test_add_120()\n",
    "print(\"Pytest Cell 120 Passed\")"
   ]
  },
  {
   "cell_type": "code",
   "execution_count": null,
   "id": "379eb18e",
   "metadata": {},
   "outputs": [],
   "source": [
    "# Cell 121 - Pytest Example\n",
    "def add_121(a, b):\n",
    "    return a + b + 121\n",
    "\n",
    "def test_add_121():\n",
    "    assert add_121(121, 122) == 364\n",
    "\n",
    "test_add_121()\n",
    "print(\"Pytest Cell 121 Passed\")"
   ]
  },
  {
   "cell_type": "code",
   "execution_count": null,
   "id": "f6319223",
   "metadata": {},
   "outputs": [],
   "source": [
    "# Cell 122 - Pytest Example\n",
    "def add_122(a, b):\n",
    "    return a + b + 122\n",
    "\n",
    "def test_add_122():\n",
    "    assert add_122(122, 123) == 367\n",
    "\n",
    "test_add_122()\n",
    "print(\"Pytest Cell 122 Passed\")"
   ]
  },
  {
   "cell_type": "code",
   "execution_count": null,
   "id": "1405ff95",
   "metadata": {},
   "outputs": [],
   "source": [
    "# Cell 123 - Pytest Example\n",
    "def add_123(a, b):\n",
    "    return a + b + 123\n",
    "\n",
    "def test_add_123():\n",
    "    assert add_123(123, 124) == 370\n",
    "\n",
    "test_add_123()\n",
    "print(\"Pytest Cell 123 Passed\")"
   ]
  },
  {
   "cell_type": "code",
   "execution_count": null,
   "id": "1105c19d",
   "metadata": {},
   "outputs": [],
   "source": [
    "# Cell 124 - Pytest Example\n",
    "def add_124(a, b):\n",
    "    return a + b + 124\n",
    "\n",
    "def test_add_124():\n",
    "    assert add_124(124, 125) == 373\n",
    "\n",
    "test_add_124()\n",
    "print(\"Pytest Cell 124 Passed\")"
   ]
  },
  {
   "cell_type": "code",
   "execution_count": null,
   "id": "4883c345",
   "metadata": {},
   "outputs": [],
   "source": [
    "# Cell 125 - Pytest Example\n",
    "def add_125(a, b):\n",
    "    return a + b + 125\n",
    "\n",
    "def test_add_125():\n",
    "    assert add_125(125, 126) == 376\n",
    "\n",
    "test_add_125()\n",
    "print(\"Pytest Cell 125 Passed\")"
   ]
  },
  {
   "cell_type": "code",
   "execution_count": null,
   "id": "f6d8f9f4",
   "metadata": {},
   "outputs": [],
   "source": [
    "# Cell 126 - Pytest Example\n",
    "def add_126(a, b):\n",
    "    return a + b + 126\n",
    "\n",
    "def test_add_126():\n",
    "    assert add_126(126, 127) == 379\n",
    "\n",
    "test_add_126()\n",
    "print(\"Pytest Cell 126 Passed\")"
   ]
  },
  {
   "cell_type": "code",
   "execution_count": null,
   "id": "8c5bdcd8",
   "metadata": {},
   "outputs": [],
   "source": [
    "# Cell 127 - Pytest Example\n",
    "def add_127(a, b):\n",
    "    return a + b + 127\n",
    "\n",
    "def test_add_127():\n",
    "    assert add_127(127, 128) == 382\n",
    "\n",
    "test_add_127()\n",
    "print(\"Pytest Cell 127 Passed\")"
   ]
  },
  {
   "cell_type": "code",
   "execution_count": null,
   "id": "48944901",
   "metadata": {},
   "outputs": [],
   "source": [
    "# Cell 128 - Pytest Example\n",
    "def add_128(a, b):\n",
    "    return a + b + 128\n",
    "\n",
    "def test_add_128():\n",
    "    assert add_128(128, 129) == 385\n",
    "\n",
    "test_add_128()\n",
    "print(\"Pytest Cell 128 Passed\")"
   ]
  },
  {
   "cell_type": "code",
   "execution_count": null,
   "id": "42a6d992",
   "metadata": {},
   "outputs": [],
   "source": [
    "# Cell 129 - Pytest Example\n",
    "def add_129(a, b):\n",
    "    return a + b + 129\n",
    "\n",
    "def test_add_129():\n",
    "    assert add_129(129, 130) == 388\n",
    "\n",
    "test_add_129()\n",
    "print(\"Pytest Cell 129 Passed\")"
   ]
  },
  {
   "cell_type": "code",
   "execution_count": null,
   "id": "fea890ec",
   "metadata": {},
   "outputs": [],
   "source": [
    "# Cell 130 - Pytest Example\n",
    "def add_130(a, b):\n",
    "    return a + b + 130\n",
    "\n",
    "def test_add_130():\n",
    "    assert add_130(130, 131) == 391\n",
    "\n",
    "test_add_130()\n",
    "print(\"Pytest Cell 130 Passed\")"
   ]
  },
  {
   "cell_type": "code",
   "execution_count": null,
   "id": "897b92e3",
   "metadata": {},
   "outputs": [],
   "source": [
    "# Cell 131 - Pytest Example\n",
    "def add_131(a, b):\n",
    "    return a + b + 131\n",
    "\n",
    "def test_add_131():\n",
    "    assert add_131(131, 132) == 394\n",
    "\n",
    "test_add_131()\n",
    "print(\"Pytest Cell 131 Passed\")"
   ]
  },
  {
   "cell_type": "code",
   "execution_count": null,
   "id": "e492e33e",
   "metadata": {},
   "outputs": [],
   "source": [
    "# Cell 132 - Pytest Example\n",
    "def add_132(a, b):\n",
    "    return a + b + 132\n",
    "\n",
    "def test_add_132():\n",
    "    assert add_132(132, 133) == 397\n",
    "\n",
    "test_add_132()\n",
    "print(\"Pytest Cell 132 Passed\")"
   ]
  },
  {
   "cell_type": "code",
   "execution_count": null,
   "id": "d3451425",
   "metadata": {},
   "outputs": [],
   "source": [
    "# Cell 133 - Pytest Example\n",
    "def add_133(a, b):\n",
    "    return a + b + 133\n",
    "\n",
    "def test_add_133():\n",
    "    assert add_133(133, 134) == 400\n",
    "\n",
    "test_add_133()\n",
    "print(\"Pytest Cell 133 Passed\")"
   ]
  },
  {
   "cell_type": "code",
   "execution_count": null,
   "id": "6cb3f512",
   "metadata": {},
   "outputs": [],
   "source": [
    "# Cell 134 - Pytest Example\n",
    "def add_134(a, b):\n",
    "    return a + b + 134\n",
    "\n",
    "def test_add_134():\n",
    "    assert add_134(134, 135) == 403\n",
    "\n",
    "test_add_134()\n",
    "print(\"Pytest Cell 134 Passed\")"
   ]
  },
  {
   "cell_type": "code",
   "execution_count": null,
   "id": "caef1b60",
   "metadata": {},
   "outputs": [],
   "source": [
    "# Cell 135 - Pytest Example\n",
    "def add_135(a, b):\n",
    "    return a + b + 135\n",
    "\n",
    "def test_add_135():\n",
    "    assert add_135(135, 136) == 406\n",
    "\n",
    "test_add_135()\n",
    "print(\"Pytest Cell 135 Passed\")"
   ]
  },
  {
   "cell_type": "code",
   "execution_count": null,
   "id": "383cd35c",
   "metadata": {},
   "outputs": [],
   "source": [
    "# Cell 136 - Pytest Example\n",
    "def add_136(a, b):\n",
    "    return a + b + 136\n",
    "\n",
    "def test_add_136():\n",
    "    assert add_136(136, 137) == 409\n",
    "\n",
    "test_add_136()\n",
    "print(\"Pytest Cell 136 Passed\")"
   ]
  },
  {
   "cell_type": "code",
   "execution_count": null,
   "id": "ef9837d3",
   "metadata": {},
   "outputs": [],
   "source": [
    "# Cell 137 - Pytest Example\n",
    "def add_137(a, b):\n",
    "    return a + b + 137\n",
    "\n",
    "def test_add_137():\n",
    "    assert add_137(137, 138) == 412\n",
    "\n",
    "test_add_137()\n",
    "print(\"Pytest Cell 137 Passed\")"
   ]
  },
  {
   "cell_type": "code",
   "execution_count": null,
   "id": "37d1acf1",
   "metadata": {},
   "outputs": [],
   "source": [
    "# Cell 138 - Pytest Example\n",
    "def add_138(a, b):\n",
    "    return a + b + 138\n",
    "\n",
    "def test_add_138():\n",
    "    assert add_138(138, 139) == 415\n",
    "\n",
    "test_add_138()\n",
    "print(\"Pytest Cell 138 Passed\")"
   ]
  },
  {
   "cell_type": "code",
   "execution_count": null,
   "id": "1f2b8dc0",
   "metadata": {},
   "outputs": [],
   "source": [
    "# Cell 139 - Pytest Example\n",
    "def add_139(a, b):\n",
    "    return a + b + 139\n",
    "\n",
    "def test_add_139():\n",
    "    assert add_139(139, 140) == 418\n",
    "\n",
    "test_add_139()\n",
    "print(\"Pytest Cell 139 Passed\")"
   ]
  },
  {
   "cell_type": "code",
   "execution_count": null,
   "id": "ad8ef590",
   "metadata": {},
   "outputs": [],
   "source": [
    "# Cell 140 - Pytest Example\n",
    "def add_140(a, b):\n",
    "    return a + b + 140\n",
    "\n",
    "def test_add_140():\n",
    "    assert add_140(140, 141) == 421\n",
    "\n",
    "test_add_140()\n",
    "print(\"Pytest Cell 140 Passed\")"
   ]
  },
  {
   "cell_type": "code",
   "execution_count": null,
   "id": "f816b34c",
   "metadata": {},
   "outputs": [],
   "source": [
    "# Cell 141 - Pytest Example\n",
    "def add_141(a, b):\n",
    "    return a + b + 141\n",
    "\n",
    "def test_add_141():\n",
    "    assert add_141(141, 142) == 424\n",
    "\n",
    "test_add_141()\n",
    "print(\"Pytest Cell 141 Passed\")"
   ]
  },
  {
   "cell_type": "code",
   "execution_count": null,
   "id": "4f477f60",
   "metadata": {},
   "outputs": [],
   "source": [
    "# Cell 142 - Pytest Example\n",
    "def add_142(a, b):\n",
    "    return a + b + 142\n",
    "\n",
    "def test_add_142():\n",
    "    assert add_142(142, 143) == 427\n",
    "\n",
    "test_add_142()\n",
    "print(\"Pytest Cell 142 Passed\")"
   ]
  },
  {
   "cell_type": "code",
   "execution_count": null,
   "id": "70d6c103",
   "metadata": {},
   "outputs": [],
   "source": [
    "# Cell 143 - Pytest Example\n",
    "def add_143(a, b):\n",
    "    return a + b + 143\n",
    "\n",
    "def test_add_143():\n",
    "    assert add_143(143, 144) == 430\n",
    "\n",
    "test_add_143()\n",
    "print(\"Pytest Cell 143 Passed\")"
   ]
  },
  {
   "cell_type": "code",
   "execution_count": null,
   "id": "3bfd7d3a",
   "metadata": {},
   "outputs": [],
   "source": [
    "# Cell 144 - Pytest Example\n",
    "def add_144(a, b):\n",
    "    return a + b + 144\n",
    "\n",
    "def test_add_144():\n",
    "    assert add_144(144, 145) == 433\n",
    "\n",
    "test_add_144()\n",
    "print(\"Pytest Cell 144 Passed\")"
   ]
  },
  {
   "cell_type": "code",
   "execution_count": null,
   "id": "87ec7fd7",
   "metadata": {},
   "outputs": [],
   "source": [
    "# Cell 145 - Pytest Example\n",
    "def add_145(a, b):\n",
    "    return a + b + 145\n",
    "\n",
    "def test_add_145():\n",
    "    assert add_145(145, 146) == 436\n",
    "\n",
    "test_add_145()\n",
    "print(\"Pytest Cell 145 Passed\")"
   ]
  },
  {
   "cell_type": "code",
   "execution_count": null,
   "id": "e1e7853b",
   "metadata": {},
   "outputs": [],
   "source": [
    "# Cell 146 - Pytest Example\n",
    "def add_146(a, b):\n",
    "    return a + b + 146\n",
    "\n",
    "def test_add_146():\n",
    "    assert add_146(146, 147) == 439\n",
    "\n",
    "test_add_146()\n",
    "print(\"Pytest Cell 146 Passed\")"
   ]
  },
  {
   "cell_type": "code",
   "execution_count": null,
   "id": "3ce336db",
   "metadata": {},
   "outputs": [],
   "source": [
    "# Cell 147 - Pytest Example\n",
    "def add_147(a, b):\n",
    "    return a + b + 147\n",
    "\n",
    "def test_add_147():\n",
    "    assert add_147(147, 148) == 442\n",
    "\n",
    "test_add_147()\n",
    "print(\"Pytest Cell 147 Passed\")"
   ]
  },
  {
   "cell_type": "code",
   "execution_count": null,
   "id": "f690fbd6",
   "metadata": {},
   "outputs": [],
   "source": [
    "# Cell 148 - Pytest Example\n",
    "def add_148(a, b):\n",
    "    return a + b + 148\n",
    "\n",
    "def test_add_148():\n",
    "    assert add_148(148, 149) == 445\n",
    "\n",
    "test_add_148()\n",
    "print(\"Pytest Cell 148 Passed\")"
   ]
  },
  {
   "cell_type": "code",
   "execution_count": null,
   "id": "270b59f5",
   "metadata": {},
   "outputs": [],
   "source": [
    "# Cell 149 - Pytest Example\n",
    "def add_149(a, b):\n",
    "    return a + b + 149\n",
    "\n",
    "def test_add_149():\n",
    "    assert add_149(149, 150) == 448\n",
    "\n",
    "test_add_149()\n",
    "print(\"Pytest Cell 149 Passed\")"
   ]
  },
  {
   "cell_type": "code",
   "execution_count": null,
   "id": "e433d7bb",
   "metadata": {},
   "outputs": [],
   "source": [
    "# Cell 150 - Pytest Example\n",
    "def add_150(a, b):\n",
    "    return a + b + 150\n",
    "\n",
    "def test_add_150():\n",
    "    assert add_150(150, 151) == 451\n",
    "\n",
    "test_add_150()\n",
    "print(\"Pytest Cell 150 Passed\")"
   ]
  },
  {
   "cell_type": "code",
   "execution_count": null,
   "id": "fc755518",
   "metadata": {},
   "outputs": [],
   "source": [
    "# Cell 151 - PyTorch Example\n",
    "import torch\n",
    "\n",
    "x151 = torch.tensor([151.0, 152.0])\n",
    "y151 = torch.tensor([153.0, 154.0])\n",
    "z151 = x151 + y151\n",
    "print(f\"PyTorch Cell 151: \", z151)"
   ]
  },
  {
   "cell_type": "code",
   "execution_count": null,
   "id": "a77614d3",
   "metadata": {},
   "outputs": [],
   "source": [
    "# Cell 152 - PyTorch Example\n",
    "import torch\n",
    "\n",
    "x152 = torch.tensor([152.0, 153.0])\n",
    "y152 = torch.tensor([154.0, 155.0])\n",
    "z152 = x152 + y152\n",
    "print(f\"PyTorch Cell 152: \", z152)"
   ]
  },
  {
   "cell_type": "code",
   "execution_count": null,
   "id": "36f786b3",
   "metadata": {},
   "outputs": [],
   "source": [
    "# Cell 153 - PyTorch Example\n",
    "import torch\n",
    "\n",
    "x153 = torch.tensor([153.0, 154.0])\n",
    "y153 = torch.tensor([155.0, 156.0])\n",
    "z153 = x153 + y153\n",
    "print(f\"PyTorch Cell 153: \", z153)"
   ]
  },
  {
   "cell_type": "code",
   "execution_count": null,
   "id": "d78f7c26",
   "metadata": {},
   "outputs": [],
   "source": [
    "# Cell 154 - PyTorch Example\n",
    "import torch\n",
    "\n",
    "x154 = torch.tensor([154.0, 155.0])\n",
    "y154 = torch.tensor([156.0, 157.0])\n",
    "z154 = x154 + y154\n",
    "print(f\"PyTorch Cell 154: \", z154)"
   ]
  },
  {
   "cell_type": "code",
   "execution_count": null,
   "id": "24ae8e84",
   "metadata": {},
   "outputs": [],
   "source": [
    "# Cell 155 - PyTorch Example\n",
    "import torch\n",
    "\n",
    "x155 = torch.tensor([155.0, 156.0])\n",
    "y155 = torch.tensor([157.0, 158.0])\n",
    "z155 = x155 + y155\n",
    "print(f\"PyTorch Cell 155: \", z155)"
   ]
  },
  {
   "cell_type": "code",
   "execution_count": null,
   "id": "cdaaf89a",
   "metadata": {},
   "outputs": [],
   "source": [
    "# Cell 156 - PyTorch Example\n",
    "import torch\n",
    "\n",
    "x156 = torch.tensor([156.0, 157.0])\n",
    "y156 = torch.tensor([158.0, 159.0])\n",
    "z156 = x156 + y156\n",
    "print(f\"PyTorch Cell 156: \", z156)"
   ]
  },
  {
   "cell_type": "code",
   "execution_count": null,
   "id": "5c5a2f6b",
   "metadata": {},
   "outputs": [],
   "source": [
    "# Cell 157 - PyTorch Example\n",
    "import torch\n",
    "\n",
    "x157 = torch.tensor([157.0, 158.0])\n",
    "y157 = torch.tensor([159.0, 160.0])\n",
    "z157 = x157 + y157\n",
    "print(f\"PyTorch Cell 157: \", z157)"
   ]
  },
  {
   "cell_type": "code",
   "execution_count": null,
   "id": "48e73ceb",
   "metadata": {},
   "outputs": [],
   "source": [
    "# Cell 158 - PyTorch Example\n",
    "import torch\n",
    "\n",
    "x158 = torch.tensor([158.0, 159.0])\n",
    "y158 = torch.tensor([160.0, 161.0])\n",
    "z158 = x158 + y158\n",
    "print(f\"PyTorch Cell 158: \", z158)"
   ]
  },
  {
   "cell_type": "code",
   "execution_count": null,
   "id": "735baf4b",
   "metadata": {},
   "outputs": [],
   "source": [
    "# Cell 159 - PyTorch Example\n",
    "import torch\n",
    "\n",
    "x159 = torch.tensor([159.0, 160.0])\n",
    "y159 = torch.tensor([161.0, 162.0])\n",
    "z159 = x159 + y159\n",
    "print(f\"PyTorch Cell 159: \", z159)"
   ]
  },
  {
   "cell_type": "code",
   "execution_count": null,
   "id": "cce69851",
   "metadata": {},
   "outputs": [],
   "source": [
    "# Cell 160 - PyTorch Example\n",
    "import torch\n",
    "\n",
    "x160 = torch.tensor([160.0, 161.0])\n",
    "y160 = torch.tensor([162.0, 163.0])\n",
    "z160 = x160 + y160\n",
    "print(f\"PyTorch Cell 160: \", z160)"
   ]
  },
  {
   "cell_type": "code",
   "execution_count": null,
   "id": "f0ae9441",
   "metadata": {},
   "outputs": [],
   "source": [
    "# Cell 161 - PyTorch Example\n",
    "import torch\n",
    "\n",
    "x161 = torch.tensor([161.0, 162.0])\n",
    "y161 = torch.tensor([163.0, 164.0])\n",
    "z161 = x161 + y161\n",
    "print(f\"PyTorch Cell 161: \", z161)"
   ]
  },
  {
   "cell_type": "code",
   "execution_count": null,
   "id": "0a24ad7e",
   "metadata": {},
   "outputs": [],
   "source": [
    "# Cell 162 - PyTorch Example\n",
    "import torch\n",
    "\n",
    "x162 = torch.tensor([162.0, 163.0])\n",
    "y162 = torch.tensor([164.0, 165.0])\n",
    "z162 = x162 + y162\n",
    "print(f\"PyTorch Cell 162: \", z162)"
   ]
  },
  {
   "cell_type": "code",
   "execution_count": null,
   "id": "c6723aa8",
   "metadata": {},
   "outputs": [],
   "source": [
    "# Cell 163 - PyTorch Example\n",
    "import torch\n",
    "\n",
    "x163 = torch.tensor([163.0, 164.0])\n",
    "y163 = torch.tensor([165.0, 166.0])\n",
    "z163 = x163 + y163\n",
    "print(f\"PyTorch Cell 163: \", z163)"
   ]
  },
  {
   "cell_type": "code",
   "execution_count": null,
   "id": "35ad0048",
   "metadata": {},
   "outputs": [],
   "source": [
    "# Cell 164 - PyTorch Example\n",
    "import torch\n",
    "\n",
    "x164 = torch.tensor([164.0, 165.0])\n",
    "y164 = torch.tensor([166.0, 167.0])\n",
    "z164 = x164 + y164\n",
    "print(f\"PyTorch Cell 164: \", z164)"
   ]
  },
  {
   "cell_type": "code",
   "execution_count": null,
   "id": "be29214a",
   "metadata": {},
   "outputs": [],
   "source": [
    "# Cell 165 - PyTorch Example\n",
    "import torch\n",
    "\n",
    "x165 = torch.tensor([165.0, 166.0])\n",
    "y165 = torch.tensor([167.0, 168.0])\n",
    "z165 = x165 + y165\n",
    "print(f\"PyTorch Cell 165: \", z165)"
   ]
  },
  {
   "cell_type": "code",
   "execution_count": null,
   "id": "0624e81c",
   "metadata": {},
   "outputs": [],
   "source": [
    "# Cell 166 - PyTorch Example\n",
    "import torch\n",
    "\n",
    "x166 = torch.tensor([166.0, 167.0])\n",
    "y166 = torch.tensor([168.0, 169.0])\n",
    "z166 = x166 + y166\n",
    "print(f\"PyTorch Cell 166: \", z166)"
   ]
  },
  {
   "cell_type": "code",
   "execution_count": null,
   "id": "db944378",
   "metadata": {},
   "outputs": [],
   "source": [
    "# Cell 167 - PyTorch Example\n",
    "import torch\n",
    "\n",
    "x167 = torch.tensor([167.0, 168.0])\n",
    "y167 = torch.tensor([169.0, 170.0])\n",
    "z167 = x167 + y167\n",
    "print(f\"PyTorch Cell 167: \", z167)"
   ]
  },
  {
   "cell_type": "code",
   "execution_count": null,
   "id": "6f08a62c",
   "metadata": {},
   "outputs": [],
   "source": [
    "# Cell 168 - PyTorch Example\n",
    "import torch\n",
    "\n",
    "x168 = torch.tensor([168.0, 169.0])\n",
    "y168 = torch.tensor([170.0, 171.0])\n",
    "z168 = x168 + y168\n",
    "print(f\"PyTorch Cell 168: \", z168)"
   ]
  },
  {
   "cell_type": "code",
   "execution_count": null,
   "id": "d91099ef",
   "metadata": {},
   "outputs": [],
   "source": [
    "# Cell 169 - PyTorch Example\n",
    "import torch\n",
    "\n",
    "x169 = torch.tensor([169.0, 170.0])\n",
    "y169 = torch.tensor([171.0, 172.0])\n",
    "z169 = x169 + y169\n",
    "print(f\"PyTorch Cell 169: \", z169)"
   ]
  },
  {
   "cell_type": "code",
   "execution_count": null,
   "id": "1fab4be9",
   "metadata": {},
   "outputs": [],
   "source": [
    "# Cell 170 - PyTorch Example\n",
    "import torch\n",
    "\n",
    "x170 = torch.tensor([170.0, 171.0])\n",
    "y170 = torch.tensor([172.0, 173.0])\n",
    "z170 = x170 + y170\n",
    "print(f\"PyTorch Cell 170: \", z170)"
   ]
  },
  {
   "cell_type": "code",
   "execution_count": null,
   "id": "498df4bd",
   "metadata": {},
   "outputs": [],
   "source": [
    "# Cell 171 - PyTorch Example\n",
    "import torch\n",
    "\n",
    "x171 = torch.tensor([171.0, 172.0])\n",
    "y171 = torch.tensor([173.0, 174.0])\n",
    "z171 = x171 + y171\n",
    "print(f\"PyTorch Cell 171: \", z171)"
   ]
  },
  {
   "cell_type": "code",
   "execution_count": null,
   "id": "76e98d91",
   "metadata": {},
   "outputs": [],
   "source": [
    "# Cell 172 - PyTorch Example\n",
    "import torch\n",
    "\n",
    "x172 = torch.tensor([172.0, 173.0])\n",
    "y172 = torch.tensor([174.0, 175.0])\n",
    "z172 = x172 + y172\n",
    "print(f\"PyTorch Cell 172: \", z172)"
   ]
  },
  {
   "cell_type": "code",
   "execution_count": null,
   "id": "7d1327bb",
   "metadata": {},
   "outputs": [],
   "source": [
    "# Cell 173 - PyTorch Example\n",
    "import torch\n",
    "\n",
    "x173 = torch.tensor([173.0, 174.0])\n",
    "y173 = torch.tensor([175.0, 176.0])\n",
    "z173 = x173 + y173\n",
    "print(f\"PyTorch Cell 173: \", z173)"
   ]
  },
  {
   "cell_type": "code",
   "execution_count": null,
   "id": "a41053d3",
   "metadata": {},
   "outputs": [],
   "source": [
    "# Cell 174 - PyTorch Example\n",
    "import torch\n",
    "\n",
    "x174 = torch.tensor([174.0, 175.0])\n",
    "y174 = torch.tensor([176.0, 177.0])\n",
    "z174 = x174 + y174\n",
    "print(f\"PyTorch Cell 174: \", z174)"
   ]
  },
  {
   "cell_type": "code",
   "execution_count": null,
   "id": "715d9e55",
   "metadata": {},
   "outputs": [],
   "source": [
    "# Cell 175 - PyTorch Example\n",
    "import torch\n",
    "\n",
    "x175 = torch.tensor([175.0, 176.0])\n",
    "y175 = torch.tensor([177.0, 178.0])\n",
    "z175 = x175 + y175\n",
    "print(f\"PyTorch Cell 175: \", z175)"
   ]
  },
  {
   "cell_type": "code",
   "execution_count": null,
   "id": "16617607",
   "metadata": {},
   "outputs": [],
   "source": [
    "# Cell 176 - PyTorch Example\n",
    "import torch\n",
    "\n",
    "x176 = torch.tensor([176.0, 177.0])\n",
    "y176 = torch.tensor([178.0, 179.0])\n",
    "z176 = x176 + y176\n",
    "print(f\"PyTorch Cell 176: \", z176)"
   ]
  },
  {
   "cell_type": "code",
   "execution_count": null,
   "id": "41ca22aa",
   "metadata": {},
   "outputs": [],
   "source": [
    "# Cell 177 - PyTorch Example\n",
    "import torch\n",
    "\n",
    "x177 = torch.tensor([177.0, 178.0])\n",
    "y177 = torch.tensor([179.0, 180.0])\n",
    "z177 = x177 + y177\n",
    "print(f\"PyTorch Cell 177: \", z177)"
   ]
  },
  {
   "cell_type": "code",
   "execution_count": null,
   "id": "27d3f79a",
   "metadata": {},
   "outputs": [],
   "source": [
    "# Cell 178 - PyTorch Example\n",
    "import torch\n",
    "\n",
    "x178 = torch.tensor([178.0, 179.0])\n",
    "y178 = torch.tensor([180.0, 181.0])\n",
    "z178 = x178 + y178\n",
    "print(f\"PyTorch Cell 178: \", z178)"
   ]
  },
  {
   "cell_type": "code",
   "execution_count": null,
   "id": "1c0f060d",
   "metadata": {},
   "outputs": [],
   "source": [
    "# Cell 179 - PyTorch Example\n",
    "import torch\n",
    "\n",
    "x179 = torch.tensor([179.0, 180.0])\n",
    "y179 = torch.tensor([181.0, 182.0])\n",
    "z179 = x179 + y179\n",
    "print(f\"PyTorch Cell 179: \", z179)"
   ]
  },
  {
   "cell_type": "code",
   "execution_count": null,
   "id": "87ab8330",
   "metadata": {},
   "outputs": [],
   "source": [
    "# Cell 180 - PyTorch Example\n",
    "import torch\n",
    "\n",
    "x180 = torch.tensor([180.0, 181.0])\n",
    "y180 = torch.tensor([182.0, 183.0])\n",
    "z180 = x180 + y180\n",
    "print(f\"PyTorch Cell 180: \", z180)"
   ]
  },
  {
   "cell_type": "code",
   "execution_count": null,
   "id": "2e118cfc",
   "metadata": {},
   "outputs": [],
   "source": [
    "# Cell 181 - PyTorch Example\n",
    "import torch\n",
    "\n",
    "x181 = torch.tensor([181.0, 182.0])\n",
    "y181 = torch.tensor([183.0, 184.0])\n",
    "z181 = x181 + y181\n",
    "print(f\"PyTorch Cell 181: \", z181)"
   ]
  },
  {
   "cell_type": "code",
   "execution_count": null,
   "id": "bb56e82c",
   "metadata": {},
   "outputs": [],
   "source": [
    "# Cell 182 - PyTorch Example\n",
    "import torch\n",
    "\n",
    "x182 = torch.tensor([182.0, 183.0])\n",
    "y182 = torch.tensor([184.0, 185.0])\n",
    "z182 = x182 + y182\n",
    "print(f\"PyTorch Cell 182: \", z182)"
   ]
  },
  {
   "cell_type": "code",
   "execution_count": null,
   "id": "b5e7f20f",
   "metadata": {},
   "outputs": [],
   "source": [
    "# Cell 183 - PyTorch Example\n",
    "import torch\n",
    "\n",
    "x183 = torch.tensor([183.0, 184.0])\n",
    "y183 = torch.tensor([185.0, 186.0])\n",
    "z183 = x183 + y183\n",
    "print(f\"PyTorch Cell 183: \", z183)"
   ]
  },
  {
   "cell_type": "code",
   "execution_count": null,
   "id": "44db140f",
   "metadata": {},
   "outputs": [],
   "source": [
    "# Cell 184 - PyTorch Example\n",
    "import torch\n",
    "\n",
    "x184 = torch.tensor([184.0, 185.0])\n",
    "y184 = torch.tensor([186.0, 187.0])\n",
    "z184 = x184 + y184\n",
    "print(f\"PyTorch Cell 184: \", z184)"
   ]
  },
  {
   "cell_type": "code",
   "execution_count": null,
   "id": "10bf0db4",
   "metadata": {},
   "outputs": [],
   "source": [
    "# Cell 185 - PyTorch Example\n",
    "import torch\n",
    "\n",
    "x185 = torch.tensor([185.0, 186.0])\n",
    "y185 = torch.tensor([187.0, 188.0])\n",
    "z185 = x185 + y185\n",
    "print(f\"PyTorch Cell 185: \", z185)"
   ]
  },
  {
   "cell_type": "code",
   "execution_count": null,
   "id": "fae00a93",
   "metadata": {},
   "outputs": [],
   "source": [
    "# Cell 186 - PyTorch Example\n",
    "import torch\n",
    "\n",
    "x186 = torch.tensor([186.0, 187.0])\n",
    "y186 = torch.tensor([188.0, 189.0])\n",
    "z186 = x186 + y186\n",
    "print(f\"PyTorch Cell 186: \", z186)"
   ]
  },
  {
   "cell_type": "code",
   "execution_count": null,
   "id": "494eecc7",
   "metadata": {},
   "outputs": [],
   "source": [
    "# Cell 187 - PyTorch Example\n",
    "import torch\n",
    "\n",
    "x187 = torch.tensor([187.0, 188.0])\n",
    "y187 = torch.tensor([189.0, 190.0])\n",
    "z187 = x187 + y187\n",
    "print(f\"PyTorch Cell 187: \", z187)"
   ]
  },
  {
   "cell_type": "code",
   "execution_count": null,
   "id": "0b7c019d",
   "metadata": {},
   "outputs": [],
   "source": [
    "# Cell 188 - PyTorch Example\n",
    "import torch\n",
    "\n",
    "x188 = torch.tensor([188.0, 189.0])\n",
    "y188 = torch.tensor([190.0, 191.0])\n",
    "z188 = x188 + y188\n",
    "print(f\"PyTorch Cell 188: \", z188)"
   ]
  },
  {
   "cell_type": "code",
   "execution_count": null,
   "id": "4a073ba9",
   "metadata": {},
   "outputs": [],
   "source": [
    "# Cell 189 - PyTorch Example\n",
    "import torch\n",
    "\n",
    "x189 = torch.tensor([189.0, 190.0])\n",
    "y189 = torch.tensor([191.0, 192.0])\n",
    "z189 = x189 + y189\n",
    "print(f\"PyTorch Cell 189: \", z189)"
   ]
  },
  {
   "cell_type": "code",
   "execution_count": null,
   "id": "eadb3267",
   "metadata": {},
   "outputs": [],
   "source": [
    "# Cell 190 - PyTorch Example\n",
    "import torch\n",
    "\n",
    "x190 = torch.tensor([190.0, 191.0])\n",
    "y190 = torch.tensor([192.0, 193.0])\n",
    "z190 = x190 + y190\n",
    "print(f\"PyTorch Cell 190: \", z190)"
   ]
  },
  {
   "cell_type": "code",
   "execution_count": null,
   "id": "cf905bfd",
   "metadata": {},
   "outputs": [],
   "source": [
    "# Cell 191 - PyTorch Example\n",
    "import torch\n",
    "\n",
    "x191 = torch.tensor([191.0, 192.0])\n",
    "y191 = torch.tensor([193.0, 194.0])\n",
    "z191 = x191 + y191\n",
    "print(f\"PyTorch Cell 191: \", z191)"
   ]
  },
  {
   "cell_type": "code",
   "execution_count": null,
   "id": "135ce79a",
   "metadata": {},
   "outputs": [],
   "source": [
    "# Cell 192 - PyTorch Example\n",
    "import torch\n",
    "\n",
    "x192 = torch.tensor([192.0, 193.0])\n",
    "y192 = torch.tensor([194.0, 195.0])\n",
    "z192 = x192 + y192\n",
    "print(f\"PyTorch Cell 192: \", z192)"
   ]
  },
  {
   "cell_type": "code",
   "execution_count": null,
   "id": "e7b34da8",
   "metadata": {},
   "outputs": [],
   "source": [
    "# Cell 193 - PyTorch Example\n",
    "import torch\n",
    "\n",
    "x193 = torch.tensor([193.0, 194.0])\n",
    "y193 = torch.tensor([195.0, 196.0])\n",
    "z193 = x193 + y193\n",
    "print(f\"PyTorch Cell 193: \", z193)"
   ]
  },
  {
   "cell_type": "code",
   "execution_count": null,
   "id": "ce4cd38a",
   "metadata": {},
   "outputs": [],
   "source": [
    "# Cell 194 - PyTorch Example\n",
    "import torch\n",
    "\n",
    "x194 = torch.tensor([194.0, 195.0])\n",
    "y194 = torch.tensor([196.0, 197.0])\n",
    "z194 = x194 + y194\n",
    "print(f\"PyTorch Cell 194: \", z194)"
   ]
  },
  {
   "cell_type": "code",
   "execution_count": null,
   "id": "372701ee",
   "metadata": {},
   "outputs": [],
   "source": [
    "# Cell 195 - PyTorch Example\n",
    "import torch\n",
    "\n",
    "x195 = torch.tensor([195.0, 196.0])\n",
    "y195 = torch.tensor([197.0, 198.0])\n",
    "z195 = x195 + y195\n",
    "print(f\"PyTorch Cell 195: \", z195)"
   ]
  },
  {
   "cell_type": "code",
   "execution_count": null,
   "id": "fa38b689",
   "metadata": {},
   "outputs": [],
   "source": [
    "# Cell 196 - PyTorch Example\n",
    "import torch\n",
    "\n",
    "x196 = torch.tensor([196.0, 197.0])\n",
    "y196 = torch.tensor([198.0, 199.0])\n",
    "z196 = x196 + y196\n",
    "print(f\"PyTorch Cell 196: \", z196)"
   ]
  },
  {
   "cell_type": "code",
   "execution_count": null,
   "id": "875e6163",
   "metadata": {},
   "outputs": [],
   "source": [
    "# Cell 197 - PyTorch Example\n",
    "import torch\n",
    "\n",
    "x197 = torch.tensor([197.0, 198.0])\n",
    "y197 = torch.tensor([199.0, 200.0])\n",
    "z197 = x197 + y197\n",
    "print(f\"PyTorch Cell 197: \", z197)"
   ]
  },
  {
   "cell_type": "code",
   "execution_count": null,
   "id": "61abbaea",
   "metadata": {},
   "outputs": [],
   "source": [
    "# Cell 198 - PyTorch Example\n",
    "import torch\n",
    "\n",
    "x198 = torch.tensor([198.0, 199.0])\n",
    "y198 = torch.tensor([200.0, 201.0])\n",
    "z198 = x198 + y198\n",
    "print(f\"PyTorch Cell 198: \", z198)"
   ]
  },
  {
   "cell_type": "code",
   "execution_count": null,
   "id": "b7a7703e",
   "metadata": {},
   "outputs": [],
   "source": [
    "# Cell 199 - PyTorch Example\n",
    "import torch\n",
    "\n",
    "x199 = torch.tensor([199.0, 200.0])\n",
    "y199 = torch.tensor([201.0, 202.0])\n",
    "z199 = x199 + y199\n",
    "print(f\"PyTorch Cell 199: \", z199)"
   ]
  },
  {
   "cell_type": "code",
   "execution_count": null,
   "id": "ffbe89b1",
   "metadata": {},
   "outputs": [],
   "source": [
    "# Cell 200 - PyTorch Example\n",
    "import torch\n",
    "\n",
    "x200 = torch.tensor([200.0, 201.0])\n",
    "y200 = torch.tensor([202.0, 203.0])\n",
    "z200 = x200 + y200\n",
    "print(f\"PyTorch Cell 200: \", z200)"
   ]
  },
  {
   "cell_type": "code",
   "execution_count": null,
   "id": "70458aad",
   "metadata": {},
   "outputs": [],
   "source": [
    "# Cell 201 - PyTorch Example\n",
    "import torch\n",
    "\n",
    "x201 = torch.tensor([201.0, 202.0])\n",
    "y201 = torch.tensor([203.0, 204.0])\n",
    "z201 = x201 + y201\n",
    "print(f\"PyTorch Cell 201: \", z201)"
   ]
  },
  {
   "cell_type": "code",
   "execution_count": null,
   "id": "9133d293",
   "metadata": {},
   "outputs": [],
   "source": [
    "# Cell 202 - PyTorch Example\n",
    "import torch\n",
    "\n",
    "x202 = torch.tensor([202.0, 203.0])\n",
    "y202 = torch.tensor([204.0, 205.0])\n",
    "z202 = x202 + y202\n",
    "print(f\"PyTorch Cell 202: \", z202)"
   ]
  },
  {
   "cell_type": "code",
   "execution_count": null,
   "id": "8cf2dae9",
   "metadata": {},
   "outputs": [],
   "source": [
    "# Cell 203 - PyTorch Example\n",
    "import torch\n",
    "\n",
    "x203 = torch.tensor([203.0, 204.0])\n",
    "y203 = torch.tensor([205.0, 206.0])\n",
    "z203 = x203 + y203\n",
    "print(f\"PyTorch Cell 203: \", z203)"
   ]
  },
  {
   "cell_type": "code",
   "execution_count": null,
   "id": "3e9557d1",
   "metadata": {},
   "outputs": [],
   "source": [
    "# Cell 204 - PyTorch Example\n",
    "import torch\n",
    "\n",
    "x204 = torch.tensor([204.0, 205.0])\n",
    "y204 = torch.tensor([206.0, 207.0])\n",
    "z204 = x204 + y204\n",
    "print(f\"PyTorch Cell 204: \", z204)"
   ]
  },
  {
   "cell_type": "code",
   "execution_count": null,
   "id": "9c44966c",
   "metadata": {},
   "outputs": [],
   "source": [
    "# Cell 205 - PyTorch Example\n",
    "import torch\n",
    "\n",
    "x205 = torch.tensor([205.0, 206.0])\n",
    "y205 = torch.tensor([207.0, 208.0])\n",
    "z205 = x205 + y205\n",
    "print(f\"PyTorch Cell 205: \", z205)"
   ]
  },
  {
   "cell_type": "code",
   "execution_count": null,
   "id": "71a48dc4",
   "metadata": {},
   "outputs": [],
   "source": [
    "# Cell 206 - PyTorch Example\n",
    "import torch\n",
    "\n",
    "x206 = torch.tensor([206.0, 207.0])\n",
    "y206 = torch.tensor([208.0, 209.0])\n",
    "z206 = x206 + y206\n",
    "print(f\"PyTorch Cell 206: \", z206)"
   ]
  },
  {
   "cell_type": "code",
   "execution_count": null,
   "id": "d70431b9",
   "metadata": {},
   "outputs": [],
   "source": [
    "# Cell 207 - PyTorch Example\n",
    "import torch\n",
    "\n",
    "x207 = torch.tensor([207.0, 208.0])\n",
    "y207 = torch.tensor([209.0, 210.0])\n",
    "z207 = x207 + y207\n",
    "print(f\"PyTorch Cell 207: \", z207)"
   ]
  },
  {
   "cell_type": "code",
   "execution_count": null,
   "id": "06ecd131",
   "metadata": {},
   "outputs": [],
   "source": [
    "# Cell 208 - PyTorch Example\n",
    "import torch\n",
    "\n",
    "x208 = torch.tensor([208.0, 209.0])\n",
    "y208 = torch.tensor([210.0, 211.0])\n",
    "z208 = x208 + y208\n",
    "print(f\"PyTorch Cell 208: \", z208)"
   ]
  },
  {
   "cell_type": "code",
   "execution_count": null,
   "id": "21b18687",
   "metadata": {},
   "outputs": [],
   "source": [
    "# Cell 209 - PyTorch Example\n",
    "import torch\n",
    "\n",
    "x209 = torch.tensor([209.0, 210.0])\n",
    "y209 = torch.tensor([211.0, 212.0])\n",
    "z209 = x209 + y209\n",
    "print(f\"PyTorch Cell 209: \", z209)"
   ]
  },
  {
   "cell_type": "code",
   "execution_count": null,
   "id": "57df0550",
   "metadata": {},
   "outputs": [],
   "source": [
    "# Cell 210 - PyTorch Example\n",
    "import torch\n",
    "\n",
    "x210 = torch.tensor([210.0, 211.0])\n",
    "y210 = torch.tensor([212.0, 213.0])\n",
    "z210 = x210 + y210\n",
    "print(f\"PyTorch Cell 210: \", z210)"
   ]
  },
  {
   "cell_type": "code",
   "execution_count": null,
   "id": "ccc960ff",
   "metadata": {},
   "outputs": [],
   "source": [
    "# Cell 211 - PyTorch Example\n",
    "import torch\n",
    "\n",
    "x211 = torch.tensor([211.0, 212.0])\n",
    "y211 = torch.tensor([213.0, 214.0])\n",
    "z211 = x211 + y211\n",
    "print(f\"PyTorch Cell 211: \", z211)"
   ]
  },
  {
   "cell_type": "code",
   "execution_count": null,
   "id": "2b6f824b",
   "metadata": {},
   "outputs": [],
   "source": [
    "# Cell 212 - PyTorch Example\n",
    "import torch\n",
    "\n",
    "x212 = torch.tensor([212.0, 213.0])\n",
    "y212 = torch.tensor([214.0, 215.0])\n",
    "z212 = x212 + y212\n",
    "print(f\"PyTorch Cell 212: \", z212)"
   ]
  },
  {
   "cell_type": "code",
   "execution_count": null,
   "id": "2d08095e",
   "metadata": {},
   "outputs": [],
   "source": [
    "# Cell 213 - PyTorch Example\n",
    "import torch\n",
    "\n",
    "x213 = torch.tensor([213.0, 214.0])\n",
    "y213 = torch.tensor([215.0, 216.0])\n",
    "z213 = x213 + y213\n",
    "print(f\"PyTorch Cell 213: \", z213)"
   ]
  },
  {
   "cell_type": "code",
   "execution_count": null,
   "id": "d8ccfa97",
   "metadata": {},
   "outputs": [],
   "source": [
    "# Cell 214 - PyTorch Example\n",
    "import torch\n",
    "\n",
    "x214 = torch.tensor([214.0, 215.0])\n",
    "y214 = torch.tensor([216.0, 217.0])\n",
    "z214 = x214 + y214\n",
    "print(f\"PyTorch Cell 214: \", z214)"
   ]
  },
  {
   "cell_type": "code",
   "execution_count": null,
   "id": "29733fef",
   "metadata": {},
   "outputs": [],
   "source": [
    "# Cell 215 - PyTorch Example\n",
    "import torch\n",
    "\n",
    "x215 = torch.tensor([215.0, 216.0])\n",
    "y215 = torch.tensor([217.0, 218.0])\n",
    "z215 = x215 + y215\n",
    "print(f\"PyTorch Cell 215: \", z215)"
   ]
  },
  {
   "cell_type": "code",
   "execution_count": null,
   "id": "412ec30f",
   "metadata": {},
   "outputs": [],
   "source": [
    "# Cell 216 - PyTorch Example\n",
    "import torch\n",
    "\n",
    "x216 = torch.tensor([216.0, 217.0])\n",
    "y216 = torch.tensor([218.0, 219.0])\n",
    "z216 = x216 + y216\n",
    "print(f\"PyTorch Cell 216: \", z216)"
   ]
  },
  {
   "cell_type": "code",
   "execution_count": null,
   "id": "15341de8",
   "metadata": {},
   "outputs": [],
   "source": [
    "# Cell 217 - PyTorch Example\n",
    "import torch\n",
    "\n",
    "x217 = torch.tensor([217.0, 218.0])\n",
    "y217 = torch.tensor([219.0, 220.0])\n",
    "z217 = x217 + y217\n",
    "print(f\"PyTorch Cell 217: \", z217)"
   ]
  },
  {
   "cell_type": "code",
   "execution_count": null,
   "id": "fa38945a",
   "metadata": {},
   "outputs": [],
   "source": [
    "# Cell 218 - PyTorch Example\n",
    "import torch\n",
    "\n",
    "x218 = torch.tensor([218.0, 219.0])\n",
    "y218 = torch.tensor([220.0, 221.0])\n",
    "z218 = x218 + y218\n",
    "print(f\"PyTorch Cell 218: \", z218)"
   ]
  },
  {
   "cell_type": "code",
   "execution_count": null,
   "id": "0d0ccb81",
   "metadata": {},
   "outputs": [],
   "source": [
    "# Cell 219 - PyTorch Example\n",
    "import torch\n",
    "\n",
    "x219 = torch.tensor([219.0, 220.0])\n",
    "y219 = torch.tensor([221.0, 222.0])\n",
    "z219 = x219 + y219\n",
    "print(f\"PyTorch Cell 219: \", z219)"
   ]
  },
  {
   "cell_type": "code",
   "execution_count": null,
   "id": "2c702791",
   "metadata": {},
   "outputs": [],
   "source": [
    "# Cell 220 - PyTorch Example\n",
    "import torch\n",
    "\n",
    "x220 = torch.tensor([220.0, 221.0])\n",
    "y220 = torch.tensor([222.0, 223.0])\n",
    "z220 = x220 + y220\n",
    "print(f\"PyTorch Cell 220: \", z220)"
   ]
  },
  {
   "cell_type": "code",
   "execution_count": null,
   "id": "c77fa28a",
   "metadata": {},
   "outputs": [],
   "source": [
    "# Cell 221 - PyTorch Example\n",
    "import torch\n",
    "\n",
    "x221 = torch.tensor([221.0, 222.0])\n",
    "y221 = torch.tensor([223.0, 224.0])\n",
    "z221 = x221 + y221\n",
    "print(f\"PyTorch Cell 221: \", z221)"
   ]
  },
  {
   "cell_type": "code",
   "execution_count": null,
   "id": "a8e9c2bb",
   "metadata": {},
   "outputs": [],
   "source": [
    "# Cell 222 - PyTorch Example\n",
    "import torch\n",
    "\n",
    "x222 = torch.tensor([222.0, 223.0])\n",
    "y222 = torch.tensor([224.0, 225.0])\n",
    "z222 = x222 + y222\n",
    "print(f\"PyTorch Cell 222: \", z222)"
   ]
  },
  {
   "cell_type": "code",
   "execution_count": null,
   "id": "5bffcea5",
   "metadata": {},
   "outputs": [],
   "source": [
    "# Cell 223 - PyTorch Example\n",
    "import torch\n",
    "\n",
    "x223 = torch.tensor([223.0, 224.0])\n",
    "y223 = torch.tensor([225.0, 226.0])\n",
    "z223 = x223 + y223\n",
    "print(f\"PyTorch Cell 223: \", z223)"
   ]
  },
  {
   "cell_type": "code",
   "execution_count": null,
   "id": "a8222524",
   "metadata": {},
   "outputs": [],
   "source": [
    "# Cell 224 - PyTorch Example\n",
    "import torch\n",
    "\n",
    "x224 = torch.tensor([224.0, 225.0])\n",
    "y224 = torch.tensor([226.0, 227.0])\n",
    "z224 = x224 + y224\n",
    "print(f\"PyTorch Cell 224: \", z224)"
   ]
  },
  {
   "cell_type": "code",
   "execution_count": null,
   "id": "cd209286",
   "metadata": {},
   "outputs": [],
   "source": [
    "# Cell 225 - PyTorch Example\n",
    "import torch\n",
    "\n",
    "x225 = torch.tensor([225.0, 226.0])\n",
    "y225 = torch.tensor([227.0, 228.0])\n",
    "z225 = x225 + y225\n",
    "print(f\"PyTorch Cell 225: \", z225)"
   ]
  },
  {
   "cell_type": "code",
   "execution_count": null,
   "id": "c329ce6a",
   "metadata": {},
   "outputs": [],
   "source": [
    "# Cell 226 - PyTorch Example\n",
    "import torch\n",
    "\n",
    "x226 = torch.tensor([226.0, 227.0])\n",
    "y226 = torch.tensor([228.0, 229.0])\n",
    "z226 = x226 + y226\n",
    "print(f\"PyTorch Cell 226: \", z226)"
   ]
  },
  {
   "cell_type": "code",
   "execution_count": null,
   "id": "374a13ae",
   "metadata": {},
   "outputs": [],
   "source": [
    "# Cell 227 - PyTorch Example\n",
    "import torch\n",
    "\n",
    "x227 = torch.tensor([227.0, 228.0])\n",
    "y227 = torch.tensor([229.0, 230.0])\n",
    "z227 = x227 + y227\n",
    "print(f\"PyTorch Cell 227: \", z227)"
   ]
  },
  {
   "cell_type": "code",
   "execution_count": null,
   "id": "aa6e5ea7",
   "metadata": {},
   "outputs": [],
   "source": [
    "# Cell 228 - PyTorch Example\n",
    "import torch\n",
    "\n",
    "x228 = torch.tensor([228.0, 229.0])\n",
    "y228 = torch.tensor([230.0, 231.0])\n",
    "z228 = x228 + y228\n",
    "print(f\"PyTorch Cell 228: \", z228)"
   ]
  },
  {
   "cell_type": "code",
   "execution_count": null,
   "id": "f59e63ec",
   "metadata": {},
   "outputs": [],
   "source": [
    "# Cell 229 - PyTorch Example\n",
    "import torch\n",
    "\n",
    "x229 = torch.tensor([229.0, 230.0])\n",
    "y229 = torch.tensor([231.0, 232.0])\n",
    "z229 = x229 + y229\n",
    "print(f\"PyTorch Cell 229: \", z229)"
   ]
  },
  {
   "cell_type": "code",
   "execution_count": null,
   "id": "b4c369e1",
   "metadata": {},
   "outputs": [],
   "source": [
    "# Cell 230 - PyTorch Example\n",
    "import torch\n",
    "\n",
    "x230 = torch.tensor([230.0, 231.0])\n",
    "y230 = torch.tensor([232.0, 233.0])\n",
    "z230 = x230 + y230\n",
    "print(f\"PyTorch Cell 230: \", z230)"
   ]
  },
  {
   "cell_type": "code",
   "execution_count": null,
   "id": "0c0adbda",
   "metadata": {},
   "outputs": [],
   "source": [
    "# Cell 231 - PyTorch Example\n",
    "import torch\n",
    "\n",
    "x231 = torch.tensor([231.0, 232.0])\n",
    "y231 = torch.tensor([233.0, 234.0])\n",
    "z231 = x231 + y231\n",
    "print(f\"PyTorch Cell 231: \", z231)"
   ]
  },
  {
   "cell_type": "code",
   "execution_count": null,
   "id": "dcb5444e",
   "metadata": {},
   "outputs": [],
   "source": [
    "# Cell 232 - PyTorch Example\n",
    "import torch\n",
    "\n",
    "x232 = torch.tensor([232.0, 233.0])\n",
    "y232 = torch.tensor([234.0, 235.0])\n",
    "z232 = x232 + y232\n",
    "print(f\"PyTorch Cell 232: \", z232)"
   ]
  },
  {
   "cell_type": "code",
   "execution_count": null,
   "id": "3483261e",
   "metadata": {},
   "outputs": [],
   "source": [
    "# Cell 233 - PyTorch Example\n",
    "import torch\n",
    "\n",
    "x233 = torch.tensor([233.0, 234.0])\n",
    "y233 = torch.tensor([235.0, 236.0])\n",
    "z233 = x233 + y233\n",
    "print(f\"PyTorch Cell 233: \", z233)"
   ]
  },
  {
   "cell_type": "code",
   "execution_count": null,
   "id": "15284930",
   "metadata": {},
   "outputs": [],
   "source": [
    "# Cell 234 - PyTorch Example\n",
    "import torch\n",
    "\n",
    "x234 = torch.tensor([234.0, 235.0])\n",
    "y234 = torch.tensor([236.0, 237.0])\n",
    "z234 = x234 + y234\n",
    "print(f\"PyTorch Cell 234: \", z234)"
   ]
  },
  {
   "cell_type": "code",
   "execution_count": null,
   "id": "13dd9bef",
   "metadata": {},
   "outputs": [],
   "source": [
    "# Cell 235 - PyTorch Example\n",
    "import torch\n",
    "\n",
    "x235 = torch.tensor([235.0, 236.0])\n",
    "y235 = torch.tensor([237.0, 238.0])\n",
    "z235 = x235 + y235\n",
    "print(f\"PyTorch Cell 235: \", z235)"
   ]
  },
  {
   "cell_type": "code",
   "execution_count": null,
   "id": "5776f083",
   "metadata": {},
   "outputs": [],
   "source": [
    "# Cell 236 - PyTorch Example\n",
    "import torch\n",
    "\n",
    "x236 = torch.tensor([236.0, 237.0])\n",
    "y236 = torch.tensor([238.0, 239.0])\n",
    "z236 = x236 + y236\n",
    "print(f\"PyTorch Cell 236: \", z236)"
   ]
  },
  {
   "cell_type": "code",
   "execution_count": null,
   "id": "bdc4abba",
   "metadata": {},
   "outputs": [],
   "source": [
    "# Cell 237 - PyTorch Example\n",
    "import torch\n",
    "\n",
    "x237 = torch.tensor([237.0, 238.0])\n",
    "y237 = torch.tensor([239.0, 240.0])\n",
    "z237 = x237 + y237\n",
    "print(f\"PyTorch Cell 237: \", z237)"
   ]
  },
  {
   "cell_type": "code",
   "execution_count": null,
   "id": "7ec336e2",
   "metadata": {},
   "outputs": [],
   "source": [
    "# Cell 238 - PyTorch Example\n",
    "import torch\n",
    "\n",
    "x238 = torch.tensor([238.0, 239.0])\n",
    "y238 = torch.tensor([240.0, 241.0])\n",
    "z238 = x238 + y238\n",
    "print(f\"PyTorch Cell 238: \", z238)"
   ]
  },
  {
   "cell_type": "code",
   "execution_count": null,
   "id": "630bf2ba",
   "metadata": {},
   "outputs": [],
   "source": [
    "# Cell 239 - PyTorch Example\n",
    "import torch\n",
    "\n",
    "x239 = torch.tensor([239.0, 240.0])\n",
    "y239 = torch.tensor([241.0, 242.0])\n",
    "z239 = x239 + y239\n",
    "print(f\"PyTorch Cell 239: \", z239)"
   ]
  },
  {
   "cell_type": "code",
   "execution_count": null,
   "id": "bc3c59f8",
   "metadata": {},
   "outputs": [],
   "source": [
    "# Cell 240 - PyTorch Example\n",
    "import torch\n",
    "\n",
    "x240 = torch.tensor([240.0, 241.0])\n",
    "y240 = torch.tensor([242.0, 243.0])\n",
    "z240 = x240 + y240\n",
    "print(f\"PyTorch Cell 240: \", z240)"
   ]
  },
  {
   "cell_type": "code",
   "execution_count": null,
   "id": "a4703042",
   "metadata": {},
   "outputs": [],
   "source": [
    "# Cell 241 - PyTorch Example\n",
    "import torch\n",
    "\n",
    "x241 = torch.tensor([241.0, 242.0])\n",
    "y241 = torch.tensor([243.0, 244.0])\n",
    "z241 = x241 + y241\n",
    "print(f\"PyTorch Cell 241: \", z241)"
   ]
  },
  {
   "cell_type": "code",
   "execution_count": null,
   "id": "94f96340",
   "metadata": {},
   "outputs": [],
   "source": [
    "# Cell 242 - PyTorch Example\n",
    "import torch\n",
    "\n",
    "x242 = torch.tensor([242.0, 243.0])\n",
    "y242 = torch.tensor([244.0, 245.0])\n",
    "z242 = x242 + y242\n",
    "print(f\"PyTorch Cell 242: \", z242)"
   ]
  },
  {
   "cell_type": "code",
   "execution_count": null,
   "id": "3450c628",
   "metadata": {},
   "outputs": [],
   "source": [
    "# Cell 243 - PyTorch Example\n",
    "import torch\n",
    "\n",
    "x243 = torch.tensor([243.0, 244.0])\n",
    "y243 = torch.tensor([245.0, 246.0])\n",
    "z243 = x243 + y243\n",
    "print(f\"PyTorch Cell 243: \", z243)"
   ]
  },
  {
   "cell_type": "code",
   "execution_count": null,
   "id": "9d4d9597",
   "metadata": {},
   "outputs": [],
   "source": [
    "# Cell 244 - PyTorch Example\n",
    "import torch\n",
    "\n",
    "x244 = torch.tensor([244.0, 245.0])\n",
    "y244 = torch.tensor([246.0, 247.0])\n",
    "z244 = x244 + y244\n",
    "print(f\"PyTorch Cell 244: \", z244)"
   ]
  },
  {
   "cell_type": "code",
   "execution_count": null,
   "id": "1368daf4",
   "metadata": {},
   "outputs": [],
   "source": [
    "# Cell 245 - PyTorch Example\n",
    "import torch\n",
    "\n",
    "x245 = torch.tensor([245.0, 246.0])\n",
    "y245 = torch.tensor([247.0, 248.0])\n",
    "z245 = x245 + y245\n",
    "print(f\"PyTorch Cell 245: \", z245)"
   ]
  },
  {
   "cell_type": "code",
   "execution_count": null,
   "id": "ff46bc43",
   "metadata": {},
   "outputs": [],
   "source": [
    "# Cell 246 - PyTorch Example\n",
    "import torch\n",
    "\n",
    "x246 = torch.tensor([246.0, 247.0])\n",
    "y246 = torch.tensor([248.0, 249.0])\n",
    "z246 = x246 + y246\n",
    "print(f\"PyTorch Cell 246: \", z246)"
   ]
  },
  {
   "cell_type": "code",
   "execution_count": null,
   "id": "17e3bf97",
   "metadata": {},
   "outputs": [],
   "source": [
    "# Cell 247 - PyTorch Example\n",
    "import torch\n",
    "\n",
    "x247 = torch.tensor([247.0, 248.0])\n",
    "y247 = torch.tensor([249.0, 250.0])\n",
    "z247 = x247 + y247\n",
    "print(f\"PyTorch Cell 247: \", z247)"
   ]
  },
  {
   "cell_type": "code",
   "execution_count": null,
   "id": "b9fd9f97",
   "metadata": {},
   "outputs": [],
   "source": [
    "# Cell 248 - PyTorch Example\n",
    "import torch\n",
    "\n",
    "x248 = torch.tensor([248.0, 249.0])\n",
    "y248 = torch.tensor([250.0, 251.0])\n",
    "z248 = x248 + y248\n",
    "print(f\"PyTorch Cell 248: \", z248)"
   ]
  },
  {
   "cell_type": "code",
   "execution_count": null,
   "id": "11f4ca31",
   "metadata": {},
   "outputs": [],
   "source": [
    "# Cell 249 - PyTorch Example\n",
    "import torch\n",
    "\n",
    "x249 = torch.tensor([249.0, 250.0])\n",
    "y249 = torch.tensor([251.0, 252.0])\n",
    "z249 = x249 + y249\n",
    "print(f\"PyTorch Cell 249: \", z249)"
   ]
  },
  {
   "cell_type": "code",
   "execution_count": null,
   "id": "6369e0b4",
   "metadata": {},
   "outputs": [],
   "source": [
    "# Cell 250 - PyTorch Example\n",
    "import torch\n",
    "\n",
    "x250 = torch.tensor([250.0, 251.0])\n",
    "y250 = torch.tensor([252.0, 253.0])\n",
    "z250 = x250 + y250\n",
    "print(f\"PyTorch Cell 250: \", z250)"
   ]
  },
  {
   "cell_type": "code",
   "execution_count": null,
   "id": "6d3db1d7",
   "metadata": {},
   "outputs": [],
   "source": [
    "# Cell 251 - PyTorch Example\n",
    "import torch\n",
    "\n",
    "x251 = torch.tensor([251.0, 252.0])\n",
    "y251 = torch.tensor([253.0, 254.0])\n",
    "z251 = x251 + y251\n",
    "print(f\"PyTorch Cell 251: \", z251)"
   ]
  },
  {
   "cell_type": "code",
   "execution_count": null,
   "id": "84274400",
   "metadata": {},
   "outputs": [],
   "source": [
    "# Cell 252 - PyTorch Example\n",
    "import torch\n",
    "\n",
    "x252 = torch.tensor([252.0, 253.0])\n",
    "y252 = torch.tensor([254.0, 255.0])\n",
    "z252 = x252 + y252\n",
    "print(f\"PyTorch Cell 252: \", z252)"
   ]
  },
  {
   "cell_type": "code",
   "execution_count": null,
   "id": "5ca4df01",
   "metadata": {},
   "outputs": [],
   "source": [
    "# Cell 253 - PyTorch Example\n",
    "import torch\n",
    "\n",
    "x253 = torch.tensor([253.0, 254.0])\n",
    "y253 = torch.tensor([255.0, 256.0])\n",
    "z253 = x253 + y253\n",
    "print(f\"PyTorch Cell 253: \", z253)"
   ]
  },
  {
   "cell_type": "code",
   "execution_count": null,
   "id": "c111c78b",
   "metadata": {},
   "outputs": [],
   "source": [
    "# Cell 254 - PyTorch Example\n",
    "import torch\n",
    "\n",
    "x254 = torch.tensor([254.0, 255.0])\n",
    "y254 = torch.tensor([256.0, 257.0])\n",
    "z254 = x254 + y254\n",
    "print(f\"PyTorch Cell 254: \", z254)"
   ]
  },
  {
   "cell_type": "code",
   "execution_count": null,
   "id": "26aef50b",
   "metadata": {},
   "outputs": [],
   "source": [
    "# Cell 255 - PyTorch Example\n",
    "import torch\n",
    "\n",
    "x255 = torch.tensor([255.0, 256.0])\n",
    "y255 = torch.tensor([257.0, 258.0])\n",
    "z255 = x255 + y255\n",
    "print(f\"PyTorch Cell 255: \", z255)"
   ]
  },
  {
   "cell_type": "code",
   "execution_count": null,
   "id": "78433696",
   "metadata": {},
   "outputs": [],
   "source": [
    "# Cell 256 - PyTorch Example\n",
    "import torch\n",
    "\n",
    "x256 = torch.tensor([256.0, 257.0])\n",
    "y256 = torch.tensor([258.0, 259.0])\n",
    "z256 = x256 + y256\n",
    "print(f\"PyTorch Cell 256: \", z256)"
   ]
  },
  {
   "cell_type": "code",
   "execution_count": null,
   "id": "36145123",
   "metadata": {},
   "outputs": [],
   "source": [
    "# Cell 257 - PyTorch Example\n",
    "import torch\n",
    "\n",
    "x257 = torch.tensor([257.0, 258.0])\n",
    "y257 = torch.tensor([259.0, 260.0])\n",
    "z257 = x257 + y257\n",
    "print(f\"PyTorch Cell 257: \", z257)"
   ]
  },
  {
   "cell_type": "code",
   "execution_count": null,
   "id": "38752bf0",
   "metadata": {},
   "outputs": [],
   "source": [
    "# Cell 258 - PyTorch Example\n",
    "import torch\n",
    "\n",
    "x258 = torch.tensor([258.0, 259.0])\n",
    "y258 = torch.tensor([260.0, 261.0])\n",
    "z258 = x258 + y258\n",
    "print(f\"PyTorch Cell 258: \", z258)"
   ]
  },
  {
   "cell_type": "code",
   "execution_count": null,
   "id": "6d936f2c",
   "metadata": {},
   "outputs": [],
   "source": [
    "# Cell 259 - PyTorch Example\n",
    "import torch\n",
    "\n",
    "x259 = torch.tensor([259.0, 260.0])\n",
    "y259 = torch.tensor([261.0, 262.0])\n",
    "z259 = x259 + y259\n",
    "print(f\"PyTorch Cell 259: \", z259)"
   ]
  },
  {
   "cell_type": "code",
   "execution_count": null,
   "id": "0601ab64",
   "metadata": {},
   "outputs": [],
   "source": [
    "# Cell 260 - PyTorch Example\n",
    "import torch\n",
    "\n",
    "x260 = torch.tensor([260.0, 261.0])\n",
    "y260 = torch.tensor([262.0, 263.0])\n",
    "z260 = x260 + y260\n",
    "print(f\"PyTorch Cell 260: \", z260)"
   ]
  },
  {
   "cell_type": "code",
   "execution_count": null,
   "id": "8f0ee288",
   "metadata": {},
   "outputs": [],
   "source": [
    "# Cell 261 - PyTorch Example\n",
    "import torch\n",
    "\n",
    "x261 = torch.tensor([261.0, 262.0])\n",
    "y261 = torch.tensor([263.0, 264.0])\n",
    "z261 = x261 + y261\n",
    "print(f\"PyTorch Cell 261: \", z261)"
   ]
  },
  {
   "cell_type": "code",
   "execution_count": null,
   "id": "ae957988",
   "metadata": {},
   "outputs": [],
   "source": [
    "# Cell 262 - PyTorch Example\n",
    "import torch\n",
    "\n",
    "x262 = torch.tensor([262.0, 263.0])\n",
    "y262 = torch.tensor([264.0, 265.0])\n",
    "z262 = x262 + y262\n",
    "print(f\"PyTorch Cell 262: \", z262)"
   ]
  },
  {
   "cell_type": "code",
   "execution_count": null,
   "id": "67e75ee0",
   "metadata": {},
   "outputs": [],
   "source": [
    "# Cell 263 - PyTorch Example\n",
    "import torch\n",
    "\n",
    "x263 = torch.tensor([263.0, 264.0])\n",
    "y263 = torch.tensor([265.0, 266.0])\n",
    "z263 = x263 + y263\n",
    "print(f\"PyTorch Cell 263: \", z263)"
   ]
  },
  {
   "cell_type": "code",
   "execution_count": null,
   "id": "eaa65a27",
   "metadata": {},
   "outputs": [],
   "source": [
    "# Cell 264 - PyTorch Example\n",
    "import torch\n",
    "\n",
    "x264 = torch.tensor([264.0, 265.0])\n",
    "y264 = torch.tensor([266.0, 267.0])\n",
    "z264 = x264 + y264\n",
    "print(f\"PyTorch Cell 264: \", z264)"
   ]
  },
  {
   "cell_type": "code",
   "execution_count": null,
   "id": "2cbf9eed",
   "metadata": {},
   "outputs": [],
   "source": [
    "# Cell 265 - PyTorch Example\n",
    "import torch\n",
    "\n",
    "x265 = torch.tensor([265.0, 266.0])\n",
    "y265 = torch.tensor([267.0, 268.0])\n",
    "z265 = x265 + y265\n",
    "print(f\"PyTorch Cell 265: \", z265)"
   ]
  },
  {
   "cell_type": "code",
   "execution_count": null,
   "id": "d34ceb56",
   "metadata": {},
   "outputs": [],
   "source": [
    "# Cell 266 - PyTorch Example\n",
    "import torch\n",
    "\n",
    "x266 = torch.tensor([266.0, 267.0])\n",
    "y266 = torch.tensor([268.0, 269.0])\n",
    "z266 = x266 + y266\n",
    "print(f\"PyTorch Cell 266: \", z266)"
   ]
  },
  {
   "cell_type": "code",
   "execution_count": null,
   "id": "12e6416c",
   "metadata": {},
   "outputs": [],
   "source": [
    "# Cell 267 - PyTorch Example\n",
    "import torch\n",
    "\n",
    "x267 = torch.tensor([267.0, 268.0])\n",
    "y267 = torch.tensor([269.0, 270.0])\n",
    "z267 = x267 + y267\n",
    "print(f\"PyTorch Cell 267: \", z267)"
   ]
  },
  {
   "cell_type": "code",
   "execution_count": null,
   "id": "d6ab71d7",
   "metadata": {},
   "outputs": [],
   "source": [
    "# Cell 268 - PyTorch Example\n",
    "import torch\n",
    "\n",
    "x268 = torch.tensor([268.0, 269.0])\n",
    "y268 = torch.tensor([270.0, 271.0])\n",
    "z268 = x268 + y268\n",
    "print(f\"PyTorch Cell 268: \", z268)"
   ]
  },
  {
   "cell_type": "code",
   "execution_count": null,
   "id": "b6276826",
   "metadata": {},
   "outputs": [],
   "source": [
    "# Cell 269 - PyTorch Example\n",
    "import torch\n",
    "\n",
    "x269 = torch.tensor([269.0, 270.0])\n",
    "y269 = torch.tensor([271.0, 272.0])\n",
    "z269 = x269 + y269\n",
    "print(f\"PyTorch Cell 269: \", z269)"
   ]
  },
  {
   "cell_type": "code",
   "execution_count": null,
   "id": "b2003c00",
   "metadata": {},
   "outputs": [],
   "source": [
    "# Cell 270 - PyTorch Example\n",
    "import torch\n",
    "\n",
    "x270 = torch.tensor([270.0, 271.0])\n",
    "y270 = torch.tensor([272.0, 273.0])\n",
    "z270 = x270 + y270\n",
    "print(f\"PyTorch Cell 270: \", z270)"
   ]
  },
  {
   "cell_type": "code",
   "execution_count": null,
   "id": "8e7f3936",
   "metadata": {},
   "outputs": [],
   "source": [
    "# Cell 271 - PyTorch Example\n",
    "import torch\n",
    "\n",
    "x271 = torch.tensor([271.0, 272.0])\n",
    "y271 = torch.tensor([273.0, 274.0])\n",
    "z271 = x271 + y271\n",
    "print(f\"PyTorch Cell 271: \", z271)"
   ]
  },
  {
   "cell_type": "code",
   "execution_count": null,
   "id": "cf1c7cca",
   "metadata": {},
   "outputs": [],
   "source": [
    "# Cell 272 - PyTorch Example\n",
    "import torch\n",
    "\n",
    "x272 = torch.tensor([272.0, 273.0])\n",
    "y272 = torch.tensor([274.0, 275.0])\n",
    "z272 = x272 + y272\n",
    "print(f\"PyTorch Cell 272: \", z272)"
   ]
  },
  {
   "cell_type": "code",
   "execution_count": null,
   "id": "5316b956",
   "metadata": {},
   "outputs": [],
   "source": [
    "# Cell 273 - PyTorch Example\n",
    "import torch\n",
    "\n",
    "x273 = torch.tensor([273.0, 274.0])\n",
    "y273 = torch.tensor([275.0, 276.0])\n",
    "z273 = x273 + y273\n",
    "print(f\"PyTorch Cell 273: \", z273)"
   ]
  },
  {
   "cell_type": "code",
   "execution_count": null,
   "id": "0bac8a46",
   "metadata": {},
   "outputs": [],
   "source": [
    "# Cell 274 - PyTorch Example\n",
    "import torch\n",
    "\n",
    "x274 = torch.tensor([274.0, 275.0])\n",
    "y274 = torch.tensor([276.0, 277.0])\n",
    "z274 = x274 + y274\n",
    "print(f\"PyTorch Cell 274: \", z274)"
   ]
  },
  {
   "cell_type": "code",
   "execution_count": null,
   "id": "05c432f6",
   "metadata": {},
   "outputs": [],
   "source": [
    "# Cell 275 - PyTorch Example\n",
    "import torch\n",
    "\n",
    "x275 = torch.tensor([275.0, 276.0])\n",
    "y275 = torch.tensor([277.0, 278.0])\n",
    "z275 = x275 + y275\n",
    "print(f\"PyTorch Cell 275: \", z275)"
   ]
  },
  {
   "cell_type": "code",
   "execution_count": null,
   "id": "04b2c3da",
   "metadata": {},
   "outputs": [],
   "source": [
    "# Cell 276 - PyTorch Example\n",
    "import torch\n",
    "\n",
    "x276 = torch.tensor([276.0, 277.0])\n",
    "y276 = torch.tensor([278.0, 279.0])\n",
    "z276 = x276 + y276\n",
    "print(f\"PyTorch Cell 276: \", z276)"
   ]
  },
  {
   "cell_type": "code",
   "execution_count": null,
   "id": "cfb9839e",
   "metadata": {},
   "outputs": [],
   "source": [
    "# Cell 277 - PyTorch Example\n",
    "import torch\n",
    "\n",
    "x277 = torch.tensor([277.0, 278.0])\n",
    "y277 = torch.tensor([279.0, 280.0])\n",
    "z277 = x277 + y277\n",
    "print(f\"PyTorch Cell 277: \", z277)"
   ]
  },
  {
   "cell_type": "code",
   "execution_count": null,
   "id": "001e2eca",
   "metadata": {},
   "outputs": [],
   "source": [
    "# Cell 278 - PyTorch Example\n",
    "import torch\n",
    "\n",
    "x278 = torch.tensor([278.0, 279.0])\n",
    "y278 = torch.tensor([280.0, 281.0])\n",
    "z278 = x278 + y278\n",
    "print(f\"PyTorch Cell 278: \", z278)"
   ]
  },
  {
   "cell_type": "code",
   "execution_count": null,
   "id": "c3fcc273",
   "metadata": {},
   "outputs": [],
   "source": [
    "# Cell 279 - PyTorch Example\n",
    "import torch\n",
    "\n",
    "x279 = torch.tensor([279.0, 280.0])\n",
    "y279 = torch.tensor([281.0, 282.0])\n",
    "z279 = x279 + y279\n",
    "print(f\"PyTorch Cell 279: \", z279)"
   ]
  },
  {
   "cell_type": "code",
   "execution_count": null,
   "id": "d1ec05ef",
   "metadata": {},
   "outputs": [],
   "source": [
    "# Cell 280 - PyTorch Example\n",
    "import torch\n",
    "\n",
    "x280 = torch.tensor([280.0, 281.0])\n",
    "y280 = torch.tensor([282.0, 283.0])\n",
    "z280 = x280 + y280\n",
    "print(f\"PyTorch Cell 280: \", z280)"
   ]
  },
  {
   "cell_type": "code",
   "execution_count": null,
   "id": "ce6bb3e0",
   "metadata": {},
   "outputs": [],
   "source": [
    "# Cell 281 - PyTorch Example\n",
    "import torch\n",
    "\n",
    "x281 = torch.tensor([281.0, 282.0])\n",
    "y281 = torch.tensor([283.0, 284.0])\n",
    "z281 = x281 + y281\n",
    "print(f\"PyTorch Cell 281: \", z281)"
   ]
  },
  {
   "cell_type": "code",
   "execution_count": null,
   "id": "85f39a37",
   "metadata": {},
   "outputs": [],
   "source": [
    "# Cell 282 - PyTorch Example\n",
    "import torch\n",
    "\n",
    "x282 = torch.tensor([282.0, 283.0])\n",
    "y282 = torch.tensor([284.0, 285.0])\n",
    "z282 = x282 + y282\n",
    "print(f\"PyTorch Cell 282: \", z282)"
   ]
  },
  {
   "cell_type": "code",
   "execution_count": null,
   "id": "50065b23",
   "metadata": {},
   "outputs": [],
   "source": [
    "# Cell 283 - PyTorch Example\n",
    "import torch\n",
    "\n",
    "x283 = torch.tensor([283.0, 284.0])\n",
    "y283 = torch.tensor([285.0, 286.0])\n",
    "z283 = x283 + y283\n",
    "print(f\"PyTorch Cell 283: \", z283)"
   ]
  },
  {
   "cell_type": "code",
   "execution_count": null,
   "id": "16f31989",
   "metadata": {},
   "outputs": [],
   "source": [
    "# Cell 284 - PyTorch Example\n",
    "import torch\n",
    "\n",
    "x284 = torch.tensor([284.0, 285.0])\n",
    "y284 = torch.tensor([286.0, 287.0])\n",
    "z284 = x284 + y284\n",
    "print(f\"PyTorch Cell 284: \", z284)"
   ]
  },
  {
   "cell_type": "code",
   "execution_count": null,
   "id": "9f07b0a3",
   "metadata": {},
   "outputs": [],
   "source": [
    "# Cell 285 - PyTorch Example\n",
    "import torch\n",
    "\n",
    "x285 = torch.tensor([285.0, 286.0])\n",
    "y285 = torch.tensor([287.0, 288.0])\n",
    "z285 = x285 + y285\n",
    "print(f\"PyTorch Cell 285: \", z285)"
   ]
  },
  {
   "cell_type": "code",
   "execution_count": null,
   "id": "560290bf",
   "metadata": {},
   "outputs": [],
   "source": [
    "# Cell 286 - PyTorch Example\n",
    "import torch\n",
    "\n",
    "x286 = torch.tensor([286.0, 287.0])\n",
    "y286 = torch.tensor([288.0, 289.0])\n",
    "z286 = x286 + y286\n",
    "print(f\"PyTorch Cell 286: \", z286)"
   ]
  },
  {
   "cell_type": "code",
   "execution_count": null,
   "id": "161c465e",
   "metadata": {},
   "outputs": [],
   "source": [
    "# Cell 287 - PyTorch Example\n",
    "import torch\n",
    "\n",
    "x287 = torch.tensor([287.0, 288.0])\n",
    "y287 = torch.tensor([289.0, 290.0])\n",
    "z287 = x287 + y287\n",
    "print(f\"PyTorch Cell 287: \", z287)"
   ]
  },
  {
   "cell_type": "code",
   "execution_count": null,
   "id": "03c58486",
   "metadata": {},
   "outputs": [],
   "source": [
    "# Cell 288 - PyTorch Example\n",
    "import torch\n",
    "\n",
    "x288 = torch.tensor([288.0, 289.0])\n",
    "y288 = torch.tensor([290.0, 291.0])\n",
    "z288 = x288 + y288\n",
    "print(f\"PyTorch Cell 288: \", z288)"
   ]
  },
  {
   "cell_type": "code",
   "execution_count": null,
   "id": "76f560d1",
   "metadata": {},
   "outputs": [],
   "source": [
    "# Cell 289 - PyTorch Example\n",
    "import torch\n",
    "\n",
    "x289 = torch.tensor([289.0, 290.0])\n",
    "y289 = torch.tensor([291.0, 292.0])\n",
    "z289 = x289 + y289\n",
    "print(f\"PyTorch Cell 289: \", z289)"
   ]
  },
  {
   "cell_type": "code",
   "execution_count": null,
   "id": "9dcb1d1e",
   "metadata": {},
   "outputs": [],
   "source": [
    "# Cell 290 - PyTorch Example\n",
    "import torch\n",
    "\n",
    "x290 = torch.tensor([290.0, 291.0])\n",
    "y290 = torch.tensor([292.0, 293.0])\n",
    "z290 = x290 + y290\n",
    "print(f\"PyTorch Cell 290: \", z290)"
   ]
  },
  {
   "cell_type": "code",
   "execution_count": null,
   "id": "24eddb72",
   "metadata": {},
   "outputs": [],
   "source": [
    "# Cell 291 - PyTorch Example\n",
    "import torch\n",
    "\n",
    "x291 = torch.tensor([291.0, 292.0])\n",
    "y291 = torch.tensor([293.0, 294.0])\n",
    "z291 = x291 + y291\n",
    "print(f\"PyTorch Cell 291: \", z291)"
   ]
  },
  {
   "cell_type": "code",
   "execution_count": null,
   "id": "81576864",
   "metadata": {},
   "outputs": [],
   "source": [
    "# Cell 292 - PyTorch Example\n",
    "import torch\n",
    "\n",
    "x292 = torch.tensor([292.0, 293.0])\n",
    "y292 = torch.tensor([294.0, 295.0])\n",
    "z292 = x292 + y292\n",
    "print(f\"PyTorch Cell 292: \", z292)"
   ]
  },
  {
   "cell_type": "code",
   "execution_count": null,
   "id": "ffd635c8",
   "metadata": {},
   "outputs": [],
   "source": [
    "# Cell 293 - PyTorch Example\n",
    "import torch\n",
    "\n",
    "x293 = torch.tensor([293.0, 294.0])\n",
    "y293 = torch.tensor([295.0, 296.0])\n",
    "z293 = x293 + y293\n",
    "print(f\"PyTorch Cell 293: \", z293)"
   ]
  },
  {
   "cell_type": "code",
   "execution_count": null,
   "id": "f4ab9cbe",
   "metadata": {},
   "outputs": [],
   "source": [
    "# Cell 294 - PyTorch Example\n",
    "import torch\n",
    "\n",
    "x294 = torch.tensor([294.0, 295.0])\n",
    "y294 = torch.tensor([296.0, 297.0])\n",
    "z294 = x294 + y294\n",
    "print(f\"PyTorch Cell 294: \", z294)"
   ]
  },
  {
   "cell_type": "code",
   "execution_count": null,
   "id": "6e26194f",
   "metadata": {},
   "outputs": [],
   "source": [
    "# Cell 295 - PyTorch Example\n",
    "import torch\n",
    "\n",
    "x295 = torch.tensor([295.0, 296.0])\n",
    "y295 = torch.tensor([297.0, 298.0])\n",
    "z295 = x295 + y295\n",
    "print(f\"PyTorch Cell 295: \", z295)"
   ]
  },
  {
   "cell_type": "code",
   "execution_count": null,
   "id": "9ba8fc33",
   "metadata": {},
   "outputs": [],
   "source": [
    "# Cell 296 - PyTorch Example\n",
    "import torch\n",
    "\n",
    "x296 = torch.tensor([296.0, 297.0])\n",
    "y296 = torch.tensor([298.0, 299.0])\n",
    "z296 = x296 + y296\n",
    "print(f\"PyTorch Cell 296: \", z296)"
   ]
  },
  {
   "cell_type": "code",
   "execution_count": null,
   "id": "2f1fbc14",
   "metadata": {},
   "outputs": [],
   "source": [
    "# Cell 297 - PyTorch Example\n",
    "import torch\n",
    "\n",
    "x297 = torch.tensor([297.0, 298.0])\n",
    "y297 = torch.tensor([299.0, 300.0])\n",
    "z297 = x297 + y297\n",
    "print(f\"PyTorch Cell 297: \", z297)"
   ]
  },
  {
   "cell_type": "code",
   "execution_count": null,
   "id": "ecb93c31",
   "metadata": {},
   "outputs": [],
   "source": [
    "# Cell 298 - PyTorch Example\n",
    "import torch\n",
    "\n",
    "x298 = torch.tensor([298.0, 299.0])\n",
    "y298 = torch.tensor([300.0, 301.0])\n",
    "z298 = x298 + y298\n",
    "print(f\"PyTorch Cell 298: \", z298)"
   ]
  },
  {
   "cell_type": "code",
   "execution_count": null,
   "id": "88d8d1f9",
   "metadata": {},
   "outputs": [],
   "source": [
    "# Cell 299 - PyTorch Example\n",
    "import torch\n",
    "\n",
    "x299 = torch.tensor([299.0, 300.0])\n",
    "y299 = torch.tensor([301.0, 302.0])\n",
    "z299 = x299 + y299\n",
    "print(f\"PyTorch Cell 299: \", z299)"
   ]
  },
  {
   "cell_type": "code",
   "execution_count": null,
   "id": "91e809d2",
   "metadata": {},
   "outputs": [],
   "source": [
    "# Cell 300 - PyTorch Example\n",
    "import torch\n",
    "\n",
    "x300 = torch.tensor([300.0, 301.0])\n",
    "y300 = torch.tensor([302.0, 303.0])\n",
    "z300 = x300 + y300\n",
    "print(f\"PyTorch Cell 300: \", z300)"
   ]
  },
  {
   "cell_type": "code",
   "execution_count": null,
   "id": "cb6539ad",
   "metadata": {},
   "outputs": [],
   "source": [
    "# Cell 301 - SciPy Example\n",
    "from scipy.integrate import quad\n",
    "\n",
    "def func_301(x):\n",
    "    return x**2 + 301\n",
    "\n",
    "result_301, _ = quad(func_301, 0, 2)\n",
    "print(f\"SciPy Cell 301: \", result_301)"
   ]
  },
  {
   "cell_type": "code",
   "execution_count": null,
   "id": "1c146a03",
   "metadata": {},
   "outputs": [],
   "source": [
    "# Cell 302 - SciPy Example\n",
    "from scipy.integrate import quad\n",
    "\n",
    "def func_302(x):\n",
    "    return x**2 + 302\n",
    "\n",
    "result_302, _ = quad(func_302, 0, 3)\n",
    "print(f\"SciPy Cell 302: \", result_302)"
   ]
  },
  {
   "cell_type": "code",
   "execution_count": null,
   "id": "34f4bb28",
   "metadata": {},
   "outputs": [],
   "source": [
    "# Cell 303 - SciPy Example\n",
    "from scipy.integrate import quad\n",
    "\n",
    "def func_303(x):\n",
    "    return x**2 + 303\n",
    "\n",
    "result_303, _ = quad(func_303, 0, 4)\n",
    "print(f\"SciPy Cell 303: \", result_303)"
   ]
  },
  {
   "cell_type": "code",
   "execution_count": null,
   "id": "450a8d2a",
   "metadata": {},
   "outputs": [],
   "source": [
    "# Cell 304 - SciPy Example\n",
    "from scipy.integrate import quad\n",
    "\n",
    "def func_304(x):\n",
    "    return x**2 + 304\n",
    "\n",
    "result_304, _ = quad(func_304, 0, 5)\n",
    "print(f\"SciPy Cell 304: \", result_304)"
   ]
  },
  {
   "cell_type": "code",
   "execution_count": null,
   "id": "71426c8a",
   "metadata": {},
   "outputs": [],
   "source": [
    "# Cell 305 - SciPy Example\n",
    "from scipy.integrate import quad\n",
    "\n",
    "def func_305(x):\n",
    "    return x**2 + 305\n",
    "\n",
    "result_305, _ = quad(func_305, 0, 6)\n",
    "print(f\"SciPy Cell 305: \", result_305)"
   ]
  },
  {
   "cell_type": "code",
   "execution_count": null,
   "id": "cd596b98",
   "metadata": {},
   "outputs": [],
   "source": [
    "# Cell 306 - SciPy Example\n",
    "from scipy.integrate import quad\n",
    "\n",
    "def func_306(x):\n",
    "    return x**2 + 306\n",
    "\n",
    "result_306, _ = quad(func_306, 0, 7)\n",
    "print(f\"SciPy Cell 306: \", result_306)"
   ]
  },
  {
   "cell_type": "code",
   "execution_count": null,
   "id": "832cf36e",
   "metadata": {},
   "outputs": [],
   "source": [
    "# Cell 307 - SciPy Example\n",
    "from scipy.integrate import quad\n",
    "\n",
    "def func_307(x):\n",
    "    return x**2 + 307\n",
    "\n",
    "result_307, _ = quad(func_307, 0, 8)\n",
    "print(f\"SciPy Cell 307: \", result_307)"
   ]
  },
  {
   "cell_type": "code",
   "execution_count": null,
   "id": "c617264e",
   "metadata": {},
   "outputs": [],
   "source": [
    "# Cell 308 - SciPy Example\n",
    "from scipy.integrate import quad\n",
    "\n",
    "def func_308(x):\n",
    "    return x**2 + 308\n",
    "\n",
    "result_308, _ = quad(func_308, 0, 9)\n",
    "print(f\"SciPy Cell 308: \", result_308)"
   ]
  },
  {
   "cell_type": "code",
   "execution_count": null,
   "id": "326a148e",
   "metadata": {},
   "outputs": [],
   "source": [
    "# Cell 309 - SciPy Example\n",
    "from scipy.integrate import quad\n",
    "\n",
    "def func_309(x):\n",
    "    return x**2 + 309\n",
    "\n",
    "result_309, _ = quad(func_309, 0, 10)\n",
    "print(f\"SciPy Cell 309: \", result_309)"
   ]
  },
  {
   "cell_type": "code",
   "execution_count": null,
   "id": "e35f2954",
   "metadata": {},
   "outputs": [],
   "source": [
    "# Cell 310 - SciPy Example\n",
    "from scipy.integrate import quad\n",
    "\n",
    "def func_310(x):\n",
    "    return x**2 + 310\n",
    "\n",
    "result_310, _ = quad(func_310, 0, 1)\n",
    "print(f\"SciPy Cell 310: \", result_310)"
   ]
  },
  {
   "cell_type": "code",
   "execution_count": null,
   "id": "801eca65",
   "metadata": {},
   "outputs": [],
   "source": [
    "# Cell 311 - SciPy Example\n",
    "from scipy.integrate import quad\n",
    "\n",
    "def func_311(x):\n",
    "    return x**2 + 311\n",
    "\n",
    "result_311, _ = quad(func_311, 0, 2)\n",
    "print(f\"SciPy Cell 311: \", result_311)"
   ]
  },
  {
   "cell_type": "code",
   "execution_count": null,
   "id": "5680645d",
   "metadata": {},
   "outputs": [],
   "source": [
    "# Cell 312 - SciPy Example\n",
    "from scipy.integrate import quad\n",
    "\n",
    "def func_312(x):\n",
    "    return x**2 + 312\n",
    "\n",
    "result_312, _ = quad(func_312, 0, 3)\n",
    "print(f\"SciPy Cell 312: \", result_312)"
   ]
  },
  {
   "cell_type": "code",
   "execution_count": null,
   "id": "38428c6f",
   "metadata": {},
   "outputs": [],
   "source": [
    "# Cell 313 - SciPy Example\n",
    "from scipy.integrate import quad\n",
    "\n",
    "def func_313(x):\n",
    "    return x**2 + 313\n",
    "\n",
    "result_313, _ = quad(func_313, 0, 4)\n",
    "print(f\"SciPy Cell 313: \", result_313)"
   ]
  },
  {
   "cell_type": "code",
   "execution_count": null,
   "id": "17de9641",
   "metadata": {},
   "outputs": [],
   "source": [
    "# Cell 314 - SciPy Example\n",
    "from scipy.integrate import quad\n",
    "\n",
    "def func_314(x):\n",
    "    return x**2 + 314\n",
    "\n",
    "result_314, _ = quad(func_314, 0, 5)\n",
    "print(f\"SciPy Cell 314: \", result_314)"
   ]
  },
  {
   "cell_type": "code",
   "execution_count": null,
   "id": "4938cddb",
   "metadata": {},
   "outputs": [],
   "source": [
    "# Cell 315 - SciPy Example\n",
    "from scipy.integrate import quad\n",
    "\n",
    "def func_315(x):\n",
    "    return x**2 + 315\n",
    "\n",
    "result_315, _ = quad(func_315, 0, 6)\n",
    "print(f\"SciPy Cell 315: \", result_315)"
   ]
  },
  {
   "cell_type": "code",
   "execution_count": null,
   "id": "05d81421",
   "metadata": {},
   "outputs": [],
   "source": [
    "# Cell 316 - SciPy Example\n",
    "from scipy.integrate import quad\n",
    "\n",
    "def func_316(x):\n",
    "    return x**2 + 316\n",
    "\n",
    "result_316, _ = quad(func_316, 0, 7)\n",
    "print(f\"SciPy Cell 316: \", result_316)"
   ]
  },
  {
   "cell_type": "code",
   "execution_count": null,
   "id": "8ecd48c5",
   "metadata": {},
   "outputs": [],
   "source": [
    "# Cell 317 - SciPy Example\n",
    "from scipy.integrate import quad\n",
    "\n",
    "def func_317(x):\n",
    "    return x**2 + 317\n",
    "\n",
    "result_317, _ = quad(func_317, 0, 8)\n",
    "print(f\"SciPy Cell 317: \", result_317)"
   ]
  },
  {
   "cell_type": "code",
   "execution_count": null,
   "id": "5985d161",
   "metadata": {},
   "outputs": [],
   "source": [
    "# Cell 318 - SciPy Example\n",
    "from scipy.integrate import quad\n",
    "\n",
    "def func_318(x):\n",
    "    return x**2 + 318\n",
    "\n",
    "result_318, _ = quad(func_318, 0, 9)\n",
    "print(f\"SciPy Cell 318: \", result_318)"
   ]
  },
  {
   "cell_type": "code",
   "execution_count": null,
   "id": "03294635",
   "metadata": {},
   "outputs": [],
   "source": [
    "# Cell 319 - SciPy Example\n",
    "from scipy.integrate import quad\n",
    "\n",
    "def func_319(x):\n",
    "    return x**2 + 319\n",
    "\n",
    "result_319, _ = quad(func_319, 0, 10)\n",
    "print(f\"SciPy Cell 319: \", result_319)"
   ]
  },
  {
   "cell_type": "code",
   "execution_count": null,
   "id": "2e2b72cc",
   "metadata": {},
   "outputs": [],
   "source": [
    "# Cell 320 - SciPy Example\n",
    "from scipy.integrate import quad\n",
    "\n",
    "def func_320(x):\n",
    "    return x**2 + 320\n",
    "\n",
    "result_320, _ = quad(func_320, 0, 1)\n",
    "print(f\"SciPy Cell 320: \", result_320)"
   ]
  },
  {
   "cell_type": "code",
   "execution_count": null,
   "id": "d9156926",
   "metadata": {},
   "outputs": [],
   "source": [
    "# Cell 321 - SciPy Example\n",
    "from scipy.integrate import quad\n",
    "\n",
    "def func_321(x):\n",
    "    return x**2 + 321\n",
    "\n",
    "result_321, _ = quad(func_321, 0, 2)\n",
    "print(f\"SciPy Cell 321: \", result_321)"
   ]
  },
  {
   "cell_type": "code",
   "execution_count": null,
   "id": "90c230df",
   "metadata": {},
   "outputs": [],
   "source": [
    "# Cell 322 - SciPy Example\n",
    "from scipy.integrate import quad\n",
    "\n",
    "def func_322(x):\n",
    "    return x**2 + 322\n",
    "\n",
    "result_322, _ = quad(func_322, 0, 3)\n",
    "print(f\"SciPy Cell 322: \", result_322)"
   ]
  },
  {
   "cell_type": "code",
   "execution_count": null,
   "id": "8fcd7a1e",
   "metadata": {},
   "outputs": [],
   "source": [
    "# Cell 323 - SciPy Example\n",
    "from scipy.integrate import quad\n",
    "\n",
    "def func_323(x):\n",
    "    return x**2 + 323\n",
    "\n",
    "result_323, _ = quad(func_323, 0, 4)\n",
    "print(f\"SciPy Cell 323: \", result_323)"
   ]
  },
  {
   "cell_type": "code",
   "execution_count": null,
   "id": "12196493",
   "metadata": {},
   "outputs": [],
   "source": [
    "# Cell 324 - SciPy Example\n",
    "from scipy.integrate import quad\n",
    "\n",
    "def func_324(x):\n",
    "    return x**2 + 324\n",
    "\n",
    "result_324, _ = quad(func_324, 0, 5)\n",
    "print(f\"SciPy Cell 324: \", result_324)"
   ]
  },
  {
   "cell_type": "code",
   "execution_count": null,
   "id": "5606c047",
   "metadata": {},
   "outputs": [],
   "source": [
    "# Cell 325 - SciPy Example\n",
    "from scipy.integrate import quad\n",
    "\n",
    "def func_325(x):\n",
    "    return x**2 + 325\n",
    "\n",
    "result_325, _ = quad(func_325, 0, 6)\n",
    "print(f\"SciPy Cell 325: \", result_325)"
   ]
  },
  {
   "cell_type": "code",
   "execution_count": null,
   "id": "b150bbb7",
   "metadata": {},
   "outputs": [],
   "source": [
    "# Cell 326 - SciPy Example\n",
    "from scipy.integrate import quad\n",
    "\n",
    "def func_326(x):\n",
    "    return x**2 + 326\n",
    "\n",
    "result_326, _ = quad(func_326, 0, 7)\n",
    "print(f\"SciPy Cell 326: \", result_326)"
   ]
  },
  {
   "cell_type": "code",
   "execution_count": null,
   "id": "c8dc226b",
   "metadata": {},
   "outputs": [],
   "source": [
    "# Cell 327 - SciPy Example\n",
    "from scipy.integrate import quad\n",
    "\n",
    "def func_327(x):\n",
    "    return x**2 + 327\n",
    "\n",
    "result_327, _ = quad(func_327, 0, 8)\n",
    "print(f\"SciPy Cell 327: \", result_327)"
   ]
  },
  {
   "cell_type": "code",
   "execution_count": null,
   "id": "9b944b10",
   "metadata": {},
   "outputs": [],
   "source": [
    "# Cell 328 - SciPy Example\n",
    "from scipy.integrate import quad\n",
    "\n",
    "def func_328(x):\n",
    "    return x**2 + 328\n",
    "\n",
    "result_328, _ = quad(func_328, 0, 9)\n",
    "print(f\"SciPy Cell 328: \", result_328)"
   ]
  },
  {
   "cell_type": "code",
   "execution_count": null,
   "id": "11eda56a",
   "metadata": {},
   "outputs": [],
   "source": [
    "# Cell 329 - SciPy Example\n",
    "from scipy.integrate import quad\n",
    "\n",
    "def func_329(x):\n",
    "    return x**2 + 329\n",
    "\n",
    "result_329, _ = quad(func_329, 0, 10)\n",
    "print(f\"SciPy Cell 329: \", result_329)"
   ]
  },
  {
   "cell_type": "code",
   "execution_count": null,
   "id": "b717f1ba",
   "metadata": {},
   "outputs": [],
   "source": [
    "# Cell 330 - SciPy Example\n",
    "from scipy.integrate import quad\n",
    "\n",
    "def func_330(x):\n",
    "    return x**2 + 330\n",
    "\n",
    "result_330, _ = quad(func_330, 0, 1)\n",
    "print(f\"SciPy Cell 330: \", result_330)"
   ]
  },
  {
   "cell_type": "code",
   "execution_count": null,
   "id": "e5d16320",
   "metadata": {},
   "outputs": [],
   "source": [
    "# Cell 331 - SciPy Example\n",
    "from scipy.integrate import quad\n",
    "\n",
    "def func_331(x):\n",
    "    return x**2 + 331\n",
    "\n",
    "result_331, _ = quad(func_331, 0, 2)\n",
    "print(f\"SciPy Cell 331: \", result_331)"
   ]
  },
  {
   "cell_type": "code",
   "execution_count": null,
   "id": "c972c098",
   "metadata": {},
   "outputs": [],
   "source": [
    "# Cell 332 - SciPy Example\n",
    "from scipy.integrate import quad\n",
    "\n",
    "def func_332(x):\n",
    "    return x**2 + 332\n",
    "\n",
    "result_332, _ = quad(func_332, 0, 3)\n",
    "print(f\"SciPy Cell 332: \", result_332)"
   ]
  },
  {
   "cell_type": "code",
   "execution_count": null,
   "id": "44dc0a7b",
   "metadata": {},
   "outputs": [],
   "source": [
    "# Cell 333 - SciPy Example\n",
    "from scipy.integrate import quad\n",
    "\n",
    "def func_333(x):\n",
    "    return x**2 + 333\n",
    "\n",
    "result_333, _ = quad(func_333, 0, 4)\n",
    "print(f\"SciPy Cell 333: \", result_333)"
   ]
  },
  {
   "cell_type": "code",
   "execution_count": null,
   "id": "44cb242c",
   "metadata": {},
   "outputs": [],
   "source": [
    "# Cell 334 - SciPy Example\n",
    "from scipy.integrate import quad\n",
    "\n",
    "def func_334(x):\n",
    "    return x**2 + 334\n",
    "\n",
    "result_334, _ = quad(func_334, 0, 5)\n",
    "print(f\"SciPy Cell 334: \", result_334)"
   ]
  },
  {
   "cell_type": "code",
   "execution_count": null,
   "id": "d9bf3e5d",
   "metadata": {},
   "outputs": [],
   "source": [
    "# Cell 335 - SciPy Example\n",
    "from scipy.integrate import quad\n",
    "\n",
    "def func_335(x):\n",
    "    return x**2 + 335\n",
    "\n",
    "result_335, _ = quad(func_335, 0, 6)\n",
    "print(f\"SciPy Cell 335: \", result_335)"
   ]
  },
  {
   "cell_type": "code",
   "execution_count": null,
   "id": "fa4dcdc2",
   "metadata": {},
   "outputs": [],
   "source": [
    "# Cell 336 - SciPy Example\n",
    "from scipy.integrate import quad\n",
    "\n",
    "def func_336(x):\n",
    "    return x**2 + 336\n",
    "\n",
    "result_336, _ = quad(func_336, 0, 7)\n",
    "print(f\"SciPy Cell 336: \", result_336)"
   ]
  },
  {
   "cell_type": "code",
   "execution_count": null,
   "id": "2a8e1703",
   "metadata": {},
   "outputs": [],
   "source": [
    "# Cell 337 - SciPy Example\n",
    "from scipy.integrate import quad\n",
    "\n",
    "def func_337(x):\n",
    "    return x**2 + 337\n",
    "\n",
    "result_337, _ = quad(func_337, 0, 8)\n",
    "print(f\"SciPy Cell 337: \", result_337)"
   ]
  },
  {
   "cell_type": "code",
   "execution_count": null,
   "id": "f29077ec",
   "metadata": {},
   "outputs": [],
   "source": [
    "# Cell 338 - SciPy Example\n",
    "from scipy.integrate import quad\n",
    "\n",
    "def func_338(x):\n",
    "    return x**2 + 338\n",
    "\n",
    "result_338, _ = quad(func_338, 0, 9)\n",
    "print(f\"SciPy Cell 338: \", result_338)"
   ]
  },
  {
   "cell_type": "code",
   "execution_count": null,
   "id": "f442d3fb",
   "metadata": {},
   "outputs": [],
   "source": [
    "# Cell 339 - SciPy Example\n",
    "from scipy.integrate import quad\n",
    "\n",
    "def func_339(x):\n",
    "    return x**2 + 339\n",
    "\n",
    "result_339, _ = quad(func_339, 0, 10)\n",
    "print(f\"SciPy Cell 339: \", result_339)"
   ]
  },
  {
   "cell_type": "code",
   "execution_count": null,
   "id": "0d459252",
   "metadata": {},
   "outputs": [],
   "source": [
    "# Cell 340 - SciPy Example\n",
    "from scipy.integrate import quad\n",
    "\n",
    "def func_340(x):\n",
    "    return x**2 + 340\n",
    "\n",
    "result_340, _ = quad(func_340, 0, 1)\n",
    "print(f\"SciPy Cell 340: \", result_340)"
   ]
  },
  {
   "cell_type": "code",
   "execution_count": null,
   "id": "8a55c389",
   "metadata": {},
   "outputs": [],
   "source": [
    "# Cell 341 - SciPy Example\n",
    "from scipy.integrate import quad\n",
    "\n",
    "def func_341(x):\n",
    "    return x**2 + 341\n",
    "\n",
    "result_341, _ = quad(func_341, 0, 2)\n",
    "print(f\"SciPy Cell 341: \", result_341)"
   ]
  },
  {
   "cell_type": "code",
   "execution_count": null,
   "id": "d4335ce8",
   "metadata": {},
   "outputs": [],
   "source": [
    "# Cell 342 - SciPy Example\n",
    "from scipy.integrate import quad\n",
    "\n",
    "def func_342(x):\n",
    "    return x**2 + 342\n",
    "\n",
    "result_342, _ = quad(func_342, 0, 3)\n",
    "print(f\"SciPy Cell 342: \", result_342)"
   ]
  },
  {
   "cell_type": "code",
   "execution_count": null,
   "id": "cf8c4578",
   "metadata": {},
   "outputs": [],
   "source": [
    "# Cell 343 - SciPy Example\n",
    "from scipy.integrate import quad\n",
    "\n",
    "def func_343(x):\n",
    "    return x**2 + 343\n",
    "\n",
    "result_343, _ = quad(func_343, 0, 4)\n",
    "print(f\"SciPy Cell 343: \", result_343)"
   ]
  },
  {
   "cell_type": "code",
   "execution_count": null,
   "id": "0e04794d",
   "metadata": {},
   "outputs": [],
   "source": [
    "# Cell 344 - SciPy Example\n",
    "from scipy.integrate import quad\n",
    "\n",
    "def func_344(x):\n",
    "    return x**2 + 344\n",
    "\n",
    "result_344, _ = quad(func_344, 0, 5)\n",
    "print(f\"SciPy Cell 344: \", result_344)"
   ]
  },
  {
   "cell_type": "code",
   "execution_count": null,
   "id": "91b4b48b",
   "metadata": {},
   "outputs": [],
   "source": [
    "# Cell 345 - SciPy Example\n",
    "from scipy.integrate import quad\n",
    "\n",
    "def func_345(x):\n",
    "    return x**2 + 345\n",
    "\n",
    "result_345, _ = quad(func_345, 0, 6)\n",
    "print(f\"SciPy Cell 345: \", result_345)"
   ]
  },
  {
   "cell_type": "code",
   "execution_count": null,
   "id": "c6544e8e",
   "metadata": {},
   "outputs": [],
   "source": [
    "# Cell 346 - SciPy Example\n",
    "from scipy.integrate import quad\n",
    "\n",
    "def func_346(x):\n",
    "    return x**2 + 346\n",
    "\n",
    "result_346, _ = quad(func_346, 0, 7)\n",
    "print(f\"SciPy Cell 346: \", result_346)"
   ]
  },
  {
   "cell_type": "code",
   "execution_count": null,
   "id": "ba668001",
   "metadata": {},
   "outputs": [],
   "source": [
    "# Cell 347 - SciPy Example\n",
    "from scipy.integrate import quad\n",
    "\n",
    "def func_347(x):\n",
    "    return x**2 + 347\n",
    "\n",
    "result_347, _ = quad(func_347, 0, 8)\n",
    "print(f\"SciPy Cell 347: \", result_347)"
   ]
  },
  {
   "cell_type": "code",
   "execution_count": null,
   "id": "d4ed2080",
   "metadata": {},
   "outputs": [],
   "source": [
    "# Cell 348 - SciPy Example\n",
    "from scipy.integrate import quad\n",
    "\n",
    "def func_348(x):\n",
    "    return x**2 + 348\n",
    "\n",
    "result_348, _ = quad(func_348, 0, 9)\n",
    "print(f\"SciPy Cell 348: \", result_348)"
   ]
  },
  {
   "cell_type": "code",
   "execution_count": null,
   "id": "b8ce6c9e",
   "metadata": {},
   "outputs": [],
   "source": [
    "# Cell 349 - SciPy Example\n",
    "from scipy.integrate import quad\n",
    "\n",
    "def func_349(x):\n",
    "    return x**2 + 349\n",
    "\n",
    "result_349, _ = quad(func_349, 0, 10)\n",
    "print(f\"SciPy Cell 349: \", result_349)"
   ]
  },
  {
   "cell_type": "code",
   "execution_count": null,
   "id": "727332d6",
   "metadata": {},
   "outputs": [],
   "source": [
    "# Cell 350 - SciPy Example\n",
    "from scipy.integrate import quad\n",
    "\n",
    "def func_350(x):\n",
    "    return x**2 + 350\n",
    "\n",
    "result_350, _ = quad(func_350, 0, 1)\n",
    "print(f\"SciPy Cell 350: \", result_350)"
   ]
  },
  {
   "cell_type": "code",
   "execution_count": null,
   "id": "5053fb72",
   "metadata": {},
   "outputs": [],
   "source": [
    "# Cell 351 - SciPy Example\n",
    "from scipy.integrate import quad\n",
    "\n",
    "def func_351(x):\n",
    "    return x**2 + 351\n",
    "\n",
    "result_351, _ = quad(func_351, 0, 2)\n",
    "print(f\"SciPy Cell 351: \", result_351)"
   ]
  },
  {
   "cell_type": "code",
   "execution_count": null,
   "id": "c783606c",
   "metadata": {},
   "outputs": [],
   "source": [
    "# Cell 352 - SciPy Example\n",
    "from scipy.integrate import quad\n",
    "\n",
    "def func_352(x):\n",
    "    return x**2 + 352\n",
    "\n",
    "result_352, _ = quad(func_352, 0, 3)\n",
    "print(f\"SciPy Cell 352: \", result_352)"
   ]
  },
  {
   "cell_type": "code",
   "execution_count": null,
   "id": "4538f8c0",
   "metadata": {},
   "outputs": [],
   "source": [
    "# Cell 353 - SciPy Example\n",
    "from scipy.integrate import quad\n",
    "\n",
    "def func_353(x):\n",
    "    return x**2 + 353\n",
    "\n",
    "result_353, _ = quad(func_353, 0, 4)\n",
    "print(f\"SciPy Cell 353: \", result_353)"
   ]
  },
  {
   "cell_type": "code",
   "execution_count": null,
   "id": "b1c3b464",
   "metadata": {},
   "outputs": [],
   "source": [
    "# Cell 354 - SciPy Example\n",
    "from scipy.integrate import quad\n",
    "\n",
    "def func_354(x):\n",
    "    return x**2 + 354\n",
    "\n",
    "result_354, _ = quad(func_354, 0, 5)\n",
    "print(f\"SciPy Cell 354: \", result_354)"
   ]
  },
  {
   "cell_type": "code",
   "execution_count": null,
   "id": "4911524c",
   "metadata": {},
   "outputs": [],
   "source": [
    "# Cell 355 - SciPy Example\n",
    "from scipy.integrate import quad\n",
    "\n",
    "def func_355(x):\n",
    "    return x**2 + 355\n",
    "\n",
    "result_355, _ = quad(func_355, 0, 6)\n",
    "print(f\"SciPy Cell 355: \", result_355)"
   ]
  },
  {
   "cell_type": "code",
   "execution_count": null,
   "id": "359d784b",
   "metadata": {},
   "outputs": [],
   "source": [
    "# Cell 356 - SciPy Example\n",
    "from scipy.integrate import quad\n",
    "\n",
    "def func_356(x):\n",
    "    return x**2 + 356\n",
    "\n",
    "result_356, _ = quad(func_356, 0, 7)\n",
    "print(f\"SciPy Cell 356: \", result_356)"
   ]
  },
  {
   "cell_type": "code",
   "execution_count": null,
   "id": "4dc1736b",
   "metadata": {},
   "outputs": [],
   "source": [
    "# Cell 357 - SciPy Example\n",
    "from scipy.integrate import quad\n",
    "\n",
    "def func_357(x):\n",
    "    return x**2 + 357\n",
    "\n",
    "result_357, _ = quad(func_357, 0, 8)\n",
    "print(f\"SciPy Cell 357: \", result_357)"
   ]
  },
  {
   "cell_type": "code",
   "execution_count": null,
   "id": "0a747dfe",
   "metadata": {},
   "outputs": [],
   "source": [
    "# Cell 358 - SciPy Example\n",
    "from scipy.integrate import quad\n",
    "\n",
    "def func_358(x):\n",
    "    return x**2 + 358\n",
    "\n",
    "result_358, _ = quad(func_358, 0, 9)\n",
    "print(f\"SciPy Cell 358: \", result_358)"
   ]
  },
  {
   "cell_type": "code",
   "execution_count": null,
   "id": "e1c08aa7",
   "metadata": {},
   "outputs": [],
   "source": [
    "# Cell 359 - SciPy Example\n",
    "from scipy.integrate import quad\n",
    "\n",
    "def func_359(x):\n",
    "    return x**2 + 359\n",
    "\n",
    "result_359, _ = quad(func_359, 0, 10)\n",
    "print(f\"SciPy Cell 359: \", result_359)"
   ]
  },
  {
   "cell_type": "code",
   "execution_count": null,
   "id": "0fcc04c6",
   "metadata": {},
   "outputs": [],
   "source": [
    "# Cell 360 - SciPy Example\n",
    "from scipy.integrate import quad\n",
    "\n",
    "def func_360(x):\n",
    "    return x**2 + 360\n",
    "\n",
    "result_360, _ = quad(func_360, 0, 1)\n",
    "print(f\"SciPy Cell 360: \", result_360)"
   ]
  },
  {
   "cell_type": "code",
   "execution_count": null,
   "id": "14ea7dbd",
   "metadata": {},
   "outputs": [],
   "source": [
    "# Cell 361 - SciPy Example\n",
    "from scipy.integrate import quad\n",
    "\n",
    "def func_361(x):\n",
    "    return x**2 + 361\n",
    "\n",
    "result_361, _ = quad(func_361, 0, 2)\n",
    "print(f\"SciPy Cell 361: \", result_361)"
   ]
  },
  {
   "cell_type": "code",
   "execution_count": null,
   "id": "bb8d6b63",
   "metadata": {},
   "outputs": [],
   "source": [
    "# Cell 362 - SciPy Example\n",
    "from scipy.integrate import quad\n",
    "\n",
    "def func_362(x):\n",
    "    return x**2 + 362\n",
    "\n",
    "result_362, _ = quad(func_362, 0, 3)\n",
    "print(f\"SciPy Cell 362: \", result_362)"
   ]
  },
  {
   "cell_type": "code",
   "execution_count": null,
   "id": "3824d79d",
   "metadata": {},
   "outputs": [],
   "source": [
    "# Cell 363 - SciPy Example\n",
    "from scipy.integrate import quad\n",
    "\n",
    "def func_363(x):\n",
    "    return x**2 + 363\n",
    "\n",
    "result_363, _ = quad(func_363, 0, 4)\n",
    "print(f\"SciPy Cell 363: \", result_363)"
   ]
  },
  {
   "cell_type": "code",
   "execution_count": null,
   "id": "8aa477cf",
   "metadata": {},
   "outputs": [],
   "source": [
    "# Cell 364 - SciPy Example\n",
    "from scipy.integrate import quad\n",
    "\n",
    "def func_364(x):\n",
    "    return x**2 + 364\n",
    "\n",
    "result_364, _ = quad(func_364, 0, 5)\n",
    "print(f\"SciPy Cell 364: \", result_364)"
   ]
  },
  {
   "cell_type": "code",
   "execution_count": null,
   "id": "e894655a",
   "metadata": {},
   "outputs": [],
   "source": [
    "# Cell 365 - SciPy Example\n",
    "from scipy.integrate import quad\n",
    "\n",
    "def func_365(x):\n",
    "    return x**2 + 365\n",
    "\n",
    "result_365, _ = quad(func_365, 0, 6)\n",
    "print(f\"SciPy Cell 365: \", result_365)"
   ]
  },
  {
   "cell_type": "code",
   "execution_count": null,
   "id": "5c49e13f",
   "metadata": {},
   "outputs": [],
   "source": [
    "# Cell 366 - SciPy Example\n",
    "from scipy.integrate import quad\n",
    "\n",
    "def func_366(x):\n",
    "    return x**2 + 366\n",
    "\n",
    "result_366, _ = quad(func_366, 0, 7)\n",
    "print(f\"SciPy Cell 366: \", result_366)"
   ]
  },
  {
   "cell_type": "code",
   "execution_count": null,
   "id": "5aebf749",
   "metadata": {},
   "outputs": [],
   "source": [
    "# Cell 367 - SciPy Example\n",
    "from scipy.integrate import quad\n",
    "\n",
    "def func_367(x):\n",
    "    return x**2 + 367\n",
    "\n",
    "result_367, _ = quad(func_367, 0, 8)\n",
    "print(f\"SciPy Cell 367: \", result_367)"
   ]
  },
  {
   "cell_type": "code",
   "execution_count": null,
   "id": "ba4b2ff4",
   "metadata": {},
   "outputs": [],
   "source": [
    "# Cell 368 - SciPy Example\n",
    "from scipy.integrate import quad\n",
    "\n",
    "def func_368(x):\n",
    "    return x**2 + 368\n",
    "\n",
    "result_368, _ = quad(func_368, 0, 9)\n",
    "print(f\"SciPy Cell 368: \", result_368)"
   ]
  },
  {
   "cell_type": "code",
   "execution_count": null,
   "id": "ae17ff36",
   "metadata": {},
   "outputs": [],
   "source": [
    "# Cell 369 - SciPy Example\n",
    "from scipy.integrate import quad\n",
    "\n",
    "def func_369(x):\n",
    "    return x**2 + 369\n",
    "\n",
    "result_369, _ = quad(func_369, 0, 10)\n",
    "print(f\"SciPy Cell 369: \", result_369)"
   ]
  },
  {
   "cell_type": "code",
   "execution_count": null,
   "id": "36bab9b1",
   "metadata": {},
   "outputs": [],
   "source": [
    "# Cell 370 - SciPy Example\n",
    "from scipy.integrate import quad\n",
    "\n",
    "def func_370(x):\n",
    "    return x**2 + 370\n",
    "\n",
    "result_370, _ = quad(func_370, 0, 1)\n",
    "print(f\"SciPy Cell 370: \", result_370)"
   ]
  },
  {
   "cell_type": "code",
   "execution_count": null,
   "id": "342b512a",
   "metadata": {},
   "outputs": [],
   "source": [
    "# Cell 371 - SciPy Example\n",
    "from scipy.integrate import quad\n",
    "\n",
    "def func_371(x):\n",
    "    return x**2 + 371\n",
    "\n",
    "result_371, _ = quad(func_371, 0, 2)\n",
    "print(f\"SciPy Cell 371: \", result_371)"
   ]
  },
  {
   "cell_type": "code",
   "execution_count": null,
   "id": "f1301a2b",
   "metadata": {},
   "outputs": [],
   "source": [
    "# Cell 372 - SciPy Example\n",
    "from scipy.integrate import quad\n",
    "\n",
    "def func_372(x):\n",
    "    return x**2 + 372\n",
    "\n",
    "result_372, _ = quad(func_372, 0, 3)\n",
    "print(f\"SciPy Cell 372: \", result_372)"
   ]
  },
  {
   "cell_type": "code",
   "execution_count": null,
   "id": "0f7b3aed",
   "metadata": {},
   "outputs": [],
   "source": [
    "# Cell 373 - SciPy Example\n",
    "from scipy.integrate import quad\n",
    "\n",
    "def func_373(x):\n",
    "    return x**2 + 373\n",
    "\n",
    "result_373, _ = quad(func_373, 0, 4)\n",
    "print(f\"SciPy Cell 373: \", result_373)"
   ]
  },
  {
   "cell_type": "code",
   "execution_count": null,
   "id": "40514c81",
   "metadata": {},
   "outputs": [],
   "source": [
    "# Cell 374 - SciPy Example\n",
    "from scipy.integrate import quad\n",
    "\n",
    "def func_374(x):\n",
    "    return x**2 + 374\n",
    "\n",
    "result_374, _ = quad(func_374, 0, 5)\n",
    "print(f\"SciPy Cell 374: \", result_374)"
   ]
  },
  {
   "cell_type": "code",
   "execution_count": null,
   "id": "e0c88c0f",
   "metadata": {},
   "outputs": [],
   "source": [
    "# Cell 375 - SciPy Example\n",
    "from scipy.integrate import quad\n",
    "\n",
    "def func_375(x):\n",
    "    return x**2 + 375\n",
    "\n",
    "result_375, _ = quad(func_375, 0, 6)\n",
    "print(f\"SciPy Cell 375: \", result_375)"
   ]
  },
  {
   "cell_type": "code",
   "execution_count": null,
   "id": "fb7434be",
   "metadata": {},
   "outputs": [],
   "source": [
    "# Cell 376 - SciPy Example\n",
    "from scipy.integrate import quad\n",
    "\n",
    "def func_376(x):\n",
    "    return x**2 + 376\n",
    "\n",
    "result_376, _ = quad(func_376, 0, 7)\n",
    "print(f\"SciPy Cell 376: \", result_376)"
   ]
  },
  {
   "cell_type": "code",
   "execution_count": null,
   "id": "875dc3d8",
   "metadata": {},
   "outputs": [],
   "source": [
    "# Cell 377 - SciPy Example\n",
    "from scipy.integrate import quad\n",
    "\n",
    "def func_377(x):\n",
    "    return x**2 + 377\n",
    "\n",
    "result_377, _ = quad(func_377, 0, 8)\n",
    "print(f\"SciPy Cell 377: \", result_377)"
   ]
  },
  {
   "cell_type": "code",
   "execution_count": null,
   "id": "f3673b26",
   "metadata": {},
   "outputs": [],
   "source": [
    "# Cell 378 - SciPy Example\n",
    "from scipy.integrate import quad\n",
    "\n",
    "def func_378(x):\n",
    "    return x**2 + 378\n",
    "\n",
    "result_378, _ = quad(func_378, 0, 9)\n",
    "print(f\"SciPy Cell 378: \", result_378)"
   ]
  },
  {
   "cell_type": "code",
   "execution_count": null,
   "id": "4d4dee86",
   "metadata": {},
   "outputs": [],
   "source": [
    "# Cell 379 - SciPy Example\n",
    "from scipy.integrate import quad\n",
    "\n",
    "def func_379(x):\n",
    "    return x**2 + 379\n",
    "\n",
    "result_379, _ = quad(func_379, 0, 10)\n",
    "print(f\"SciPy Cell 379: \", result_379)"
   ]
  },
  {
   "cell_type": "code",
   "execution_count": null,
   "id": "80e59cd1",
   "metadata": {},
   "outputs": [],
   "source": [
    "# Cell 380 - SciPy Example\n",
    "from scipy.integrate import quad\n",
    "\n",
    "def func_380(x):\n",
    "    return x**2 + 380\n",
    "\n",
    "result_380, _ = quad(func_380, 0, 1)\n",
    "print(f\"SciPy Cell 380: \", result_380)"
   ]
  },
  {
   "cell_type": "code",
   "execution_count": null,
   "id": "f8b1b9f5",
   "metadata": {},
   "outputs": [],
   "source": [
    "# Cell 381 - SciPy Example\n",
    "from scipy.integrate import quad\n",
    "\n",
    "def func_381(x):\n",
    "    return x**2 + 381\n",
    "\n",
    "result_381, _ = quad(func_381, 0, 2)\n",
    "print(f\"SciPy Cell 381: \", result_381)"
   ]
  },
  {
   "cell_type": "code",
   "execution_count": null,
   "id": "3146679f",
   "metadata": {},
   "outputs": [],
   "source": [
    "# Cell 382 - SciPy Example\n",
    "from scipy.integrate import quad\n",
    "\n",
    "def func_382(x):\n",
    "    return x**2 + 382\n",
    "\n",
    "result_382, _ = quad(func_382, 0, 3)\n",
    "print(f\"SciPy Cell 382: \", result_382)"
   ]
  },
  {
   "cell_type": "code",
   "execution_count": null,
   "id": "643b9dbb",
   "metadata": {},
   "outputs": [],
   "source": [
    "# Cell 383 - SciPy Example\n",
    "from scipy.integrate import quad\n",
    "\n",
    "def func_383(x):\n",
    "    return x**2 + 383\n",
    "\n",
    "result_383, _ = quad(func_383, 0, 4)\n",
    "print(f\"SciPy Cell 383: \", result_383)"
   ]
  },
  {
   "cell_type": "code",
   "execution_count": null,
   "id": "a1623951",
   "metadata": {},
   "outputs": [],
   "source": [
    "# Cell 384 - SciPy Example\n",
    "from scipy.integrate import quad\n",
    "\n",
    "def func_384(x):\n",
    "    return x**2 + 384\n",
    "\n",
    "result_384, _ = quad(func_384, 0, 5)\n",
    "print(f\"SciPy Cell 384: \", result_384)"
   ]
  },
  {
   "cell_type": "code",
   "execution_count": null,
   "id": "ee1e8b3c",
   "metadata": {},
   "outputs": [],
   "source": [
    "# Cell 385 - SciPy Example\n",
    "from scipy.integrate import quad\n",
    "\n",
    "def func_385(x):\n",
    "    return x**2 + 385\n",
    "\n",
    "result_385, _ = quad(func_385, 0, 6)\n",
    "print(f\"SciPy Cell 385: \", result_385)"
   ]
  },
  {
   "cell_type": "code",
   "execution_count": null,
   "id": "13f6386f",
   "metadata": {},
   "outputs": [],
   "source": [
    "# Cell 386 - SciPy Example\n",
    "from scipy.integrate import quad\n",
    "\n",
    "def func_386(x):\n",
    "    return x**2 + 386\n",
    "\n",
    "result_386, _ = quad(func_386, 0, 7)\n",
    "print(f\"SciPy Cell 386: \", result_386)"
   ]
  },
  {
   "cell_type": "code",
   "execution_count": null,
   "id": "ea5b6fb5",
   "metadata": {},
   "outputs": [],
   "source": [
    "# Cell 387 - SciPy Example\n",
    "from scipy.integrate import quad\n",
    "\n",
    "def func_387(x):\n",
    "    return x**2 + 387\n",
    "\n",
    "result_387, _ = quad(func_387, 0, 8)\n",
    "print(f\"SciPy Cell 387: \", result_387)"
   ]
  },
  {
   "cell_type": "code",
   "execution_count": null,
   "id": "93e1e340",
   "metadata": {},
   "outputs": [],
   "source": [
    "# Cell 388 - SciPy Example\n",
    "from scipy.integrate import quad\n",
    "\n",
    "def func_388(x):\n",
    "    return x**2 + 388\n",
    "\n",
    "result_388, _ = quad(func_388, 0, 9)\n",
    "print(f\"SciPy Cell 388: \", result_388)"
   ]
  },
  {
   "cell_type": "code",
   "execution_count": null,
   "id": "544e993d",
   "metadata": {},
   "outputs": [],
   "source": [
    "# Cell 389 - SciPy Example\n",
    "from scipy.integrate import quad\n",
    "\n",
    "def func_389(x):\n",
    "    return x**2 + 389\n",
    "\n",
    "result_389, _ = quad(func_389, 0, 10)\n",
    "print(f\"SciPy Cell 389: \", result_389)"
   ]
  },
  {
   "cell_type": "code",
   "execution_count": null,
   "id": "b9c5c32b",
   "metadata": {},
   "outputs": [],
   "source": [
    "# Cell 390 - SciPy Example\n",
    "from scipy.integrate import quad\n",
    "\n",
    "def func_390(x):\n",
    "    return x**2 + 390\n",
    "\n",
    "result_390, _ = quad(func_390, 0, 1)\n",
    "print(f\"SciPy Cell 390: \", result_390)"
   ]
  },
  {
   "cell_type": "code",
   "execution_count": null,
   "id": "cecc768a",
   "metadata": {},
   "outputs": [],
   "source": [
    "# Cell 391 - SciPy Example\n",
    "from scipy.integrate import quad\n",
    "\n",
    "def func_391(x):\n",
    "    return x**2 + 391\n",
    "\n",
    "result_391, _ = quad(func_391, 0, 2)\n",
    "print(f\"SciPy Cell 391: \", result_391)"
   ]
  },
  {
   "cell_type": "code",
   "execution_count": null,
   "id": "48fa8e73",
   "metadata": {},
   "outputs": [],
   "source": [
    "# Cell 392 - SciPy Example\n",
    "from scipy.integrate import quad\n",
    "\n",
    "def func_392(x):\n",
    "    return x**2 + 392\n",
    "\n",
    "result_392, _ = quad(func_392, 0, 3)\n",
    "print(f\"SciPy Cell 392: \", result_392)"
   ]
  },
  {
   "cell_type": "code",
   "execution_count": null,
   "id": "d1aeb5e2",
   "metadata": {},
   "outputs": [],
   "source": [
    "# Cell 393 - SciPy Example\n",
    "from scipy.integrate import quad\n",
    "\n",
    "def func_393(x):\n",
    "    return x**2 + 393\n",
    "\n",
    "result_393, _ = quad(func_393, 0, 4)\n",
    "print(f\"SciPy Cell 393: \", result_393)"
   ]
  },
  {
   "cell_type": "code",
   "execution_count": null,
   "id": "a5818540",
   "metadata": {},
   "outputs": [],
   "source": [
    "# Cell 394 - SciPy Example\n",
    "from scipy.integrate import quad\n",
    "\n",
    "def func_394(x):\n",
    "    return x**2 + 394\n",
    "\n",
    "result_394, _ = quad(func_394, 0, 5)\n",
    "print(f\"SciPy Cell 394: \", result_394)"
   ]
  },
  {
   "cell_type": "code",
   "execution_count": null,
   "id": "0db1383d",
   "metadata": {},
   "outputs": [],
   "source": [
    "# Cell 395 - SciPy Example\n",
    "from scipy.integrate import quad\n",
    "\n",
    "def func_395(x):\n",
    "    return x**2 + 395\n",
    "\n",
    "result_395, _ = quad(func_395, 0, 6)\n",
    "print(f\"SciPy Cell 395: \", result_395)"
   ]
  },
  {
   "cell_type": "code",
   "execution_count": null,
   "id": "81b19832",
   "metadata": {},
   "outputs": [],
   "source": [
    "# Cell 396 - SciPy Example\n",
    "from scipy.integrate import quad\n",
    "\n",
    "def func_396(x):\n",
    "    return x**2 + 396\n",
    "\n",
    "result_396, _ = quad(func_396, 0, 7)\n",
    "print(f\"SciPy Cell 396: \", result_396)"
   ]
  },
  {
   "cell_type": "code",
   "execution_count": null,
   "id": "88f50ff3",
   "metadata": {},
   "outputs": [],
   "source": [
    "# Cell 397 - SciPy Example\n",
    "from scipy.integrate import quad\n",
    "\n",
    "def func_397(x):\n",
    "    return x**2 + 397\n",
    "\n",
    "result_397, _ = quad(func_397, 0, 8)\n",
    "print(f\"SciPy Cell 397: \", result_397)"
   ]
  },
  {
   "cell_type": "code",
   "execution_count": null,
   "id": "ff4e64f9",
   "metadata": {},
   "outputs": [],
   "source": [
    "# Cell 398 - SciPy Example\n",
    "from scipy.integrate import quad\n",
    "\n",
    "def func_398(x):\n",
    "    return x**2 + 398\n",
    "\n",
    "result_398, _ = quad(func_398, 0, 9)\n",
    "print(f\"SciPy Cell 398: \", result_398)"
   ]
  },
  {
   "cell_type": "code",
   "execution_count": null,
   "id": "496c22dc",
   "metadata": {},
   "outputs": [],
   "source": [
    "# Cell 399 - SciPy Example\n",
    "from scipy.integrate import quad\n",
    "\n",
    "def func_399(x):\n",
    "    return x**2 + 399\n",
    "\n",
    "result_399, _ = quad(func_399, 0, 10)\n",
    "print(f\"SciPy Cell 399: \", result_399)"
   ]
  },
  {
   "cell_type": "code",
   "execution_count": null,
   "id": "dd6feeb4",
   "metadata": {},
   "outputs": [],
   "source": [
    "# Cell 400 - SciPy Example\n",
    "from scipy.integrate import quad\n",
    "\n",
    "def func_400(x):\n",
    "    return x**2 + 400\n",
    "\n",
    "result_400, _ = quad(func_400, 0, 1)\n",
    "print(f\"SciPy Cell 400: \", result_400)"
   ]
  },
  {
   "cell_type": "code",
   "execution_count": null,
   "id": "131a1043",
   "metadata": {},
   "outputs": [],
   "source": [
    "# Cell 401 - SciPy Example\n",
    "from scipy.integrate import quad\n",
    "\n",
    "def func_401(x):\n",
    "    return x**2 + 401\n",
    "\n",
    "result_401, _ = quad(func_401, 0, 2)\n",
    "print(f\"SciPy Cell 401: \", result_401)"
   ]
  },
  {
   "cell_type": "code",
   "execution_count": null,
   "id": "9b6db6b5",
   "metadata": {},
   "outputs": [],
   "source": [
    "# Cell 402 - SciPy Example\n",
    "from scipy.integrate import quad\n",
    "\n",
    "def func_402(x):\n",
    "    return x**2 + 402\n",
    "\n",
    "result_402, _ = quad(func_402, 0, 3)\n",
    "print(f\"SciPy Cell 402: \", result_402)"
   ]
  },
  {
   "cell_type": "code",
   "execution_count": null,
   "id": "5103f619",
   "metadata": {},
   "outputs": [],
   "source": [
    "# Cell 403 - SciPy Example\n",
    "from scipy.integrate import quad\n",
    "\n",
    "def func_403(x):\n",
    "    return x**2 + 403\n",
    "\n",
    "result_403, _ = quad(func_403, 0, 4)\n",
    "print(f\"SciPy Cell 403: \", result_403)"
   ]
  },
  {
   "cell_type": "code",
   "execution_count": null,
   "id": "a44fbca3",
   "metadata": {},
   "outputs": [],
   "source": [
    "# Cell 404 - SciPy Example\n",
    "from scipy.integrate import quad\n",
    "\n",
    "def func_404(x):\n",
    "    return x**2 + 404\n",
    "\n",
    "result_404, _ = quad(func_404, 0, 5)\n",
    "print(f\"SciPy Cell 404: \", result_404)"
   ]
  },
  {
   "cell_type": "code",
   "execution_count": null,
   "id": "e7a09387",
   "metadata": {},
   "outputs": [],
   "source": [
    "# Cell 405 - SciPy Example\n",
    "from scipy.integrate import quad\n",
    "\n",
    "def func_405(x):\n",
    "    return x**2 + 405\n",
    "\n",
    "result_405, _ = quad(func_405, 0, 6)\n",
    "print(f\"SciPy Cell 405: \", result_405)"
   ]
  },
  {
   "cell_type": "code",
   "execution_count": null,
   "id": "a4454ed1",
   "metadata": {},
   "outputs": [],
   "source": [
    "# Cell 406 - SciPy Example\n",
    "from scipy.integrate import quad\n",
    "\n",
    "def func_406(x):\n",
    "    return x**2 + 406\n",
    "\n",
    "result_406, _ = quad(func_406, 0, 7)\n",
    "print(f\"SciPy Cell 406: \", result_406)"
   ]
  },
  {
   "cell_type": "code",
   "execution_count": null,
   "id": "fa62333e",
   "metadata": {},
   "outputs": [],
   "source": [
    "# Cell 407 - SciPy Example\n",
    "from scipy.integrate import quad\n",
    "\n",
    "def func_407(x):\n",
    "    return x**2 + 407\n",
    "\n",
    "result_407, _ = quad(func_407, 0, 8)\n",
    "print(f\"SciPy Cell 407: \", result_407)"
   ]
  },
  {
   "cell_type": "code",
   "execution_count": null,
   "id": "1b9bd383",
   "metadata": {},
   "outputs": [],
   "source": [
    "# Cell 408 - SciPy Example\n",
    "from scipy.integrate import quad\n",
    "\n",
    "def func_408(x):\n",
    "    return x**2 + 408\n",
    "\n",
    "result_408, _ = quad(func_408, 0, 9)\n",
    "print(f\"SciPy Cell 408: \", result_408)"
   ]
  },
  {
   "cell_type": "code",
   "execution_count": null,
   "id": "677fb8ad",
   "metadata": {},
   "outputs": [],
   "source": [
    "# Cell 409 - SciPy Example\n",
    "from scipy.integrate import quad\n",
    "\n",
    "def func_409(x):\n",
    "    return x**2 + 409\n",
    "\n",
    "result_409, _ = quad(func_409, 0, 10)\n",
    "print(f\"SciPy Cell 409: \", result_409)"
   ]
  },
  {
   "cell_type": "code",
   "execution_count": null,
   "id": "178054c0",
   "metadata": {},
   "outputs": [],
   "source": [
    "# Cell 410 - SciPy Example\n",
    "from scipy.integrate import quad\n",
    "\n",
    "def func_410(x):\n",
    "    return x**2 + 410\n",
    "\n",
    "result_410, _ = quad(func_410, 0, 1)\n",
    "print(f\"SciPy Cell 410: \", result_410)"
   ]
  },
  {
   "cell_type": "code",
   "execution_count": null,
   "id": "98432d20",
   "metadata": {},
   "outputs": [],
   "source": [
    "# Cell 411 - SciPy Example\n",
    "from scipy.integrate import quad\n",
    "\n",
    "def func_411(x):\n",
    "    return x**2 + 411\n",
    "\n",
    "result_411, _ = quad(func_411, 0, 2)\n",
    "print(f\"SciPy Cell 411: \", result_411)"
   ]
  },
  {
   "cell_type": "code",
   "execution_count": null,
   "id": "5aa24cbe",
   "metadata": {},
   "outputs": [],
   "source": [
    "# Cell 412 - SciPy Example\n",
    "from scipy.integrate import quad\n",
    "\n",
    "def func_412(x):\n",
    "    return x**2 + 412\n",
    "\n",
    "result_412, _ = quad(func_412, 0, 3)\n",
    "print(f\"SciPy Cell 412: \", result_412)"
   ]
  },
  {
   "cell_type": "code",
   "execution_count": null,
   "id": "63333f67",
   "metadata": {},
   "outputs": [],
   "source": [
    "# Cell 413 - SciPy Example\n",
    "from scipy.integrate import quad\n",
    "\n",
    "def func_413(x):\n",
    "    return x**2 + 413\n",
    "\n",
    "result_413, _ = quad(func_413, 0, 4)\n",
    "print(f\"SciPy Cell 413: \", result_413)"
   ]
  },
  {
   "cell_type": "code",
   "execution_count": null,
   "id": "0981eddb",
   "metadata": {},
   "outputs": [],
   "source": [
    "# Cell 414 - SciPy Example\n",
    "from scipy.integrate import quad\n",
    "\n",
    "def func_414(x):\n",
    "    return x**2 + 414\n",
    "\n",
    "result_414, _ = quad(func_414, 0, 5)\n",
    "print(f\"SciPy Cell 414: \", result_414)"
   ]
  },
  {
   "cell_type": "code",
   "execution_count": null,
   "id": "9bab69d3",
   "metadata": {},
   "outputs": [],
   "source": [
    "# Cell 415 - SciPy Example\n",
    "from scipy.integrate import quad\n",
    "\n",
    "def func_415(x):\n",
    "    return x**2 + 415\n",
    "\n",
    "result_415, _ = quad(func_415, 0, 6)\n",
    "print(f\"SciPy Cell 415: \", result_415)"
   ]
  },
  {
   "cell_type": "code",
   "execution_count": null,
   "id": "5500dca1",
   "metadata": {},
   "outputs": [],
   "source": [
    "# Cell 416 - SciPy Example\n",
    "from scipy.integrate import quad\n",
    "\n",
    "def func_416(x):\n",
    "    return x**2 + 416\n",
    "\n",
    "result_416, _ = quad(func_416, 0, 7)\n",
    "print(f\"SciPy Cell 416: \", result_416)"
   ]
  },
  {
   "cell_type": "code",
   "execution_count": null,
   "id": "9f5f0231",
   "metadata": {},
   "outputs": [],
   "source": [
    "# Cell 417 - SciPy Example\n",
    "from scipy.integrate import quad\n",
    "\n",
    "def func_417(x):\n",
    "    return x**2 + 417\n",
    "\n",
    "result_417, _ = quad(func_417, 0, 8)\n",
    "print(f\"SciPy Cell 417: \", result_417)"
   ]
  },
  {
   "cell_type": "code",
   "execution_count": null,
   "id": "a3f65271",
   "metadata": {},
   "outputs": [],
   "source": [
    "# Cell 418 - SciPy Example\n",
    "from scipy.integrate import quad\n",
    "\n",
    "def func_418(x):\n",
    "    return x**2 + 418\n",
    "\n",
    "result_418, _ = quad(func_418, 0, 9)\n",
    "print(f\"SciPy Cell 418: \", result_418)"
   ]
  },
  {
   "cell_type": "code",
   "execution_count": null,
   "id": "1be3f96a",
   "metadata": {},
   "outputs": [],
   "source": [
    "# Cell 419 - SciPy Example\n",
    "from scipy.integrate import quad\n",
    "\n",
    "def func_419(x):\n",
    "    return x**2 + 419\n",
    "\n",
    "result_419, _ = quad(func_419, 0, 10)\n",
    "print(f\"SciPy Cell 419: \", result_419)"
   ]
  },
  {
   "cell_type": "code",
   "execution_count": null,
   "id": "d1818625",
   "metadata": {},
   "outputs": [],
   "source": [
    "# Cell 420 - SciPy Example\n",
    "from scipy.integrate import quad\n",
    "\n",
    "def func_420(x):\n",
    "    return x**2 + 420\n",
    "\n",
    "result_420, _ = quad(func_420, 0, 1)\n",
    "print(f\"SciPy Cell 420: \", result_420)"
   ]
  },
  {
   "cell_type": "code",
   "execution_count": null,
   "id": "46ebaa63",
   "metadata": {},
   "outputs": [],
   "source": [
    "# Cell 421 - SciPy Example\n",
    "from scipy.integrate import quad\n",
    "\n",
    "def func_421(x):\n",
    "    return x**2 + 421\n",
    "\n",
    "result_421, _ = quad(func_421, 0, 2)\n",
    "print(f\"SciPy Cell 421: \", result_421)"
   ]
  },
  {
   "cell_type": "code",
   "execution_count": null,
   "id": "0b03ce0b",
   "metadata": {},
   "outputs": [],
   "source": [
    "# Cell 422 - SciPy Example\n",
    "from scipy.integrate import quad\n",
    "\n",
    "def func_422(x):\n",
    "    return x**2 + 422\n",
    "\n",
    "result_422, _ = quad(func_422, 0, 3)\n",
    "print(f\"SciPy Cell 422: \", result_422)"
   ]
  },
  {
   "cell_type": "code",
   "execution_count": null,
   "id": "97352ab8",
   "metadata": {},
   "outputs": [],
   "source": [
    "# Cell 423 - SciPy Example\n",
    "from scipy.integrate import quad\n",
    "\n",
    "def func_423(x):\n",
    "    return x**2 + 423\n",
    "\n",
    "result_423, _ = quad(func_423, 0, 4)\n",
    "print(f\"SciPy Cell 423: \", result_423)"
   ]
  },
  {
   "cell_type": "code",
   "execution_count": null,
   "id": "5e7c651c",
   "metadata": {},
   "outputs": [],
   "source": [
    "# Cell 424 - SciPy Example\n",
    "from scipy.integrate import quad\n",
    "\n",
    "def func_424(x):\n",
    "    return x**2 + 424\n",
    "\n",
    "result_424, _ = quad(func_424, 0, 5)\n",
    "print(f\"SciPy Cell 424: \", result_424)"
   ]
  },
  {
   "cell_type": "code",
   "execution_count": null,
   "id": "f6bc4f7d",
   "metadata": {},
   "outputs": [],
   "source": [
    "# Cell 425 - SciPy Example\n",
    "from scipy.integrate import quad\n",
    "\n",
    "def func_425(x):\n",
    "    return x**2 + 425\n",
    "\n",
    "result_425, _ = quad(func_425, 0, 6)\n",
    "print(f\"SciPy Cell 425: \", result_425)"
   ]
  },
  {
   "cell_type": "code",
   "execution_count": null,
   "id": "ae3cd7c6",
   "metadata": {},
   "outputs": [],
   "source": [
    "# Cell 426 - SciPy Example\n",
    "from scipy.integrate import quad\n",
    "\n",
    "def func_426(x):\n",
    "    return x**2 + 426\n",
    "\n",
    "result_426, _ = quad(func_426, 0, 7)\n",
    "print(f\"SciPy Cell 426: \", result_426)"
   ]
  },
  {
   "cell_type": "code",
   "execution_count": null,
   "id": "62bf0b65",
   "metadata": {},
   "outputs": [],
   "source": [
    "# Cell 427 - SciPy Example\n",
    "from scipy.integrate import quad\n",
    "\n",
    "def func_427(x):\n",
    "    return x**2 + 427\n",
    "\n",
    "result_427, _ = quad(func_427, 0, 8)\n",
    "print(f\"SciPy Cell 427: \", result_427)"
   ]
  },
  {
   "cell_type": "code",
   "execution_count": null,
   "id": "0c6c7a4d",
   "metadata": {},
   "outputs": [],
   "source": [
    "# Cell 428 - SciPy Example\n",
    "from scipy.integrate import quad\n",
    "\n",
    "def func_428(x):\n",
    "    return x**2 + 428\n",
    "\n",
    "result_428, _ = quad(func_428, 0, 9)\n",
    "print(f\"SciPy Cell 428: \", result_428)"
   ]
  },
  {
   "cell_type": "code",
   "execution_count": null,
   "id": "5d4a0d09",
   "metadata": {},
   "outputs": [],
   "source": [
    "# Cell 429 - SciPy Example\n",
    "from scipy.integrate import quad\n",
    "\n",
    "def func_429(x):\n",
    "    return x**2 + 429\n",
    "\n",
    "result_429, _ = quad(func_429, 0, 10)\n",
    "print(f\"SciPy Cell 429: \", result_429)"
   ]
  },
  {
   "cell_type": "code",
   "execution_count": null,
   "id": "096f2471",
   "metadata": {},
   "outputs": [],
   "source": [
    "# Cell 430 - SciPy Example\n",
    "from scipy.integrate import quad\n",
    "\n",
    "def func_430(x):\n",
    "    return x**2 + 430\n",
    "\n",
    "result_430, _ = quad(func_430, 0, 1)\n",
    "print(f\"SciPy Cell 430: \", result_430)"
   ]
  },
  {
   "cell_type": "code",
   "execution_count": null,
   "id": "edc52ac2",
   "metadata": {},
   "outputs": [],
   "source": [
    "# Cell 431 - SciPy Example\n",
    "from scipy.integrate import quad\n",
    "\n",
    "def func_431(x):\n",
    "    return x**2 + 431\n",
    "\n",
    "result_431, _ = quad(func_431, 0, 2)\n",
    "print(f\"SciPy Cell 431: \", result_431)"
   ]
  },
  {
   "cell_type": "code",
   "execution_count": null,
   "id": "5c26e99a",
   "metadata": {},
   "outputs": [],
   "source": [
    "# Cell 432 - SciPy Example\n",
    "from scipy.integrate import quad\n",
    "\n",
    "def func_432(x):\n",
    "    return x**2 + 432\n",
    "\n",
    "result_432, _ = quad(func_432, 0, 3)\n",
    "print(f\"SciPy Cell 432: \", result_432)"
   ]
  },
  {
   "cell_type": "code",
   "execution_count": null,
   "id": "16053a0b",
   "metadata": {},
   "outputs": [],
   "source": [
    "# Cell 433 - SciPy Example\n",
    "from scipy.integrate import quad\n",
    "\n",
    "def func_433(x):\n",
    "    return x**2 + 433\n",
    "\n",
    "result_433, _ = quad(func_433, 0, 4)\n",
    "print(f\"SciPy Cell 433: \", result_433)"
   ]
  },
  {
   "cell_type": "code",
   "execution_count": null,
   "id": "d6743025",
   "metadata": {},
   "outputs": [],
   "source": [
    "# Cell 434 - SciPy Example\n",
    "from scipy.integrate import quad\n",
    "\n",
    "def func_434(x):\n",
    "    return x**2 + 434\n",
    "\n",
    "result_434, _ = quad(func_434, 0, 5)\n",
    "print(f\"SciPy Cell 434: \", result_434)"
   ]
  },
  {
   "cell_type": "code",
   "execution_count": null,
   "id": "729611a8",
   "metadata": {},
   "outputs": [],
   "source": [
    "# Cell 435 - SciPy Example\n",
    "from scipy.integrate import quad\n",
    "\n",
    "def func_435(x):\n",
    "    return x**2 + 435\n",
    "\n",
    "result_435, _ = quad(func_435, 0, 6)\n",
    "print(f\"SciPy Cell 435: \", result_435)"
   ]
  },
  {
   "cell_type": "code",
   "execution_count": null,
   "id": "9eb8e904",
   "metadata": {},
   "outputs": [],
   "source": [
    "# Cell 436 - SciPy Example\n",
    "from scipy.integrate import quad\n",
    "\n",
    "def func_436(x):\n",
    "    return x**2 + 436\n",
    "\n",
    "result_436, _ = quad(func_436, 0, 7)\n",
    "print(f\"SciPy Cell 436: \", result_436)"
   ]
  },
  {
   "cell_type": "code",
   "execution_count": null,
   "id": "e37f2826",
   "metadata": {},
   "outputs": [],
   "source": [
    "# Cell 437 - SciPy Example\n",
    "from scipy.integrate import quad\n",
    "\n",
    "def func_437(x):\n",
    "    return x**2 + 437\n",
    "\n",
    "result_437, _ = quad(func_437, 0, 8)\n",
    "print(f\"SciPy Cell 437: \", result_437)"
   ]
  },
  {
   "cell_type": "code",
   "execution_count": null,
   "id": "39776007",
   "metadata": {},
   "outputs": [],
   "source": [
    "# Cell 438 - SciPy Example\n",
    "from scipy.integrate import quad\n",
    "\n",
    "def func_438(x):\n",
    "    return x**2 + 438\n",
    "\n",
    "result_438, _ = quad(func_438, 0, 9)\n",
    "print(f\"SciPy Cell 438: \", result_438)"
   ]
  },
  {
   "cell_type": "code",
   "execution_count": null,
   "id": "f89761bd",
   "metadata": {},
   "outputs": [],
   "source": [
    "# Cell 439 - SciPy Example\n",
    "from scipy.integrate import quad\n",
    "\n",
    "def func_439(x):\n",
    "    return x**2 + 439\n",
    "\n",
    "result_439, _ = quad(func_439, 0, 10)\n",
    "print(f\"SciPy Cell 439: \", result_439)"
   ]
  },
  {
   "cell_type": "code",
   "execution_count": null,
   "id": "6af5d90f",
   "metadata": {},
   "outputs": [],
   "source": [
    "# Cell 440 - SciPy Example\n",
    "from scipy.integrate import quad\n",
    "\n",
    "def func_440(x):\n",
    "    return x**2 + 440\n",
    "\n",
    "result_440, _ = quad(func_440, 0, 1)\n",
    "print(f\"SciPy Cell 440: \", result_440)"
   ]
  },
  {
   "cell_type": "code",
   "execution_count": null,
   "id": "77a9b11f",
   "metadata": {},
   "outputs": [],
   "source": [
    "# Cell 441 - SciPy Example\n",
    "from scipy.integrate import quad\n",
    "\n",
    "def func_441(x):\n",
    "    return x**2 + 441\n",
    "\n",
    "result_441, _ = quad(func_441, 0, 2)\n",
    "print(f\"SciPy Cell 441: \", result_441)"
   ]
  },
  {
   "cell_type": "code",
   "execution_count": null,
   "id": "0bd324e6",
   "metadata": {},
   "outputs": [],
   "source": [
    "# Cell 442 - SciPy Example\n",
    "from scipy.integrate import quad\n",
    "\n",
    "def func_442(x):\n",
    "    return x**2 + 442\n",
    "\n",
    "result_442, _ = quad(func_442, 0, 3)\n",
    "print(f\"SciPy Cell 442: \", result_442)"
   ]
  },
  {
   "cell_type": "code",
   "execution_count": null,
   "id": "2a708781",
   "metadata": {},
   "outputs": [],
   "source": [
    "# Cell 443 - SciPy Example\n",
    "from scipy.integrate import quad\n",
    "\n",
    "def func_443(x):\n",
    "    return x**2 + 443\n",
    "\n",
    "result_443, _ = quad(func_443, 0, 4)\n",
    "print(f\"SciPy Cell 443: \", result_443)"
   ]
  },
  {
   "cell_type": "code",
   "execution_count": null,
   "id": "28cd6d44",
   "metadata": {},
   "outputs": [],
   "source": [
    "# Cell 444 - SciPy Example\n",
    "from scipy.integrate import quad\n",
    "\n",
    "def func_444(x):\n",
    "    return x**2 + 444\n",
    "\n",
    "result_444, _ = quad(func_444, 0, 5)\n",
    "print(f\"SciPy Cell 444: \", result_444)"
   ]
  },
  {
   "cell_type": "code",
   "execution_count": null,
   "id": "b15f1a94",
   "metadata": {},
   "outputs": [],
   "source": [
    "# Cell 445 - SciPy Example\n",
    "from scipy.integrate import quad\n",
    "\n",
    "def func_445(x):\n",
    "    return x**2 + 445\n",
    "\n",
    "result_445, _ = quad(func_445, 0, 6)\n",
    "print(f\"SciPy Cell 445: \", result_445)"
   ]
  },
  {
   "cell_type": "code",
   "execution_count": null,
   "id": "2ec7840c",
   "metadata": {},
   "outputs": [],
   "source": [
    "# Cell 446 - SciPy Example\n",
    "from scipy.integrate import quad\n",
    "\n",
    "def func_446(x):\n",
    "    return x**2 + 446\n",
    "\n",
    "result_446, _ = quad(func_446, 0, 7)\n",
    "print(f\"SciPy Cell 446: \", result_446)"
   ]
  },
  {
   "cell_type": "code",
   "execution_count": null,
   "id": "f3c32145",
   "metadata": {},
   "outputs": [],
   "source": [
    "# Cell 447 - SciPy Example\n",
    "from scipy.integrate import quad\n",
    "\n",
    "def func_447(x):\n",
    "    return x**2 + 447\n",
    "\n",
    "result_447, _ = quad(func_447, 0, 8)\n",
    "print(f\"SciPy Cell 447: \", result_447)"
   ]
  },
  {
   "cell_type": "code",
   "execution_count": null,
   "id": "99cfb63c",
   "metadata": {},
   "outputs": [],
   "source": [
    "# Cell 448 - SciPy Example\n",
    "from scipy.integrate import quad\n",
    "\n",
    "def func_448(x):\n",
    "    return x**2 + 448\n",
    "\n",
    "result_448, _ = quad(func_448, 0, 9)\n",
    "print(f\"SciPy Cell 448: \", result_448)"
   ]
  },
  {
   "cell_type": "code",
   "execution_count": null,
   "id": "1c89b61d",
   "metadata": {},
   "outputs": [],
   "source": [
    "# Cell 449 - SciPy Example\n",
    "from scipy.integrate import quad\n",
    "\n",
    "def func_449(x):\n",
    "    return x**2 + 449\n",
    "\n",
    "result_449, _ = quad(func_449, 0, 10)\n",
    "print(f\"SciPy Cell 449: \", result_449)"
   ]
  },
  {
   "cell_type": "code",
   "execution_count": null,
   "id": "dc87b8a8",
   "metadata": {},
   "outputs": [],
   "source": [
    "# Cell 450 - SciPy Example\n",
    "from scipy.integrate import quad\n",
    "\n",
    "def func_450(x):\n",
    "    return x**2 + 450\n",
    "\n",
    "result_450, _ = quad(func_450, 0, 1)\n",
    "print(f\"SciPy Cell 450: \", result_450)"
   ]
  },
  {
   "cell_type": "code",
   "execution_count": null,
   "id": "62db3f49",
   "metadata": {},
   "outputs": [],
   "source": [
    "# Cell 451 - TensorFlow Example\n",
    "import tensorflow as tf\n",
    "\n",
    "a_451 = tf.constant([451.0, 452.0])\n",
    "b_451 = tf.constant([453.0, 454.0])\n",
    "c_451 = tf.add(a_451, b_451)\n",
    "print(f\"TensorFlow Cell 451: \", c_451.numpy())"
   ]
  },
  {
   "cell_type": "code",
   "execution_count": null,
   "id": "e77443cc",
   "metadata": {},
   "outputs": [],
   "source": [
    "# Cell 452 - TensorFlow Example\n",
    "import tensorflow as tf\n",
    "\n",
    "a_452 = tf.constant([452.0, 453.0])\n",
    "b_452 = tf.constant([454.0, 455.0])\n",
    "c_452 = tf.add(a_452, b_452)\n",
    "print(f\"TensorFlow Cell 452: \", c_452.numpy())"
   ]
  },
  {
   "cell_type": "code",
   "execution_count": null,
   "id": "b3a6d2c7",
   "metadata": {},
   "outputs": [],
   "source": [
    "# Cell 453 - TensorFlow Example\n",
    "import tensorflow as tf\n",
    "\n",
    "a_453 = tf.constant([453.0, 454.0])\n",
    "b_453 = tf.constant([455.0, 456.0])\n",
    "c_453 = tf.add(a_453, b_453)\n",
    "print(f\"TensorFlow Cell 453: \", c_453.numpy())"
   ]
  },
  {
   "cell_type": "code",
   "execution_count": null,
   "id": "d102c829",
   "metadata": {},
   "outputs": [],
   "source": [
    "# Cell 454 - TensorFlow Example\n",
    "import tensorflow as tf\n",
    "\n",
    "a_454 = tf.constant([454.0, 455.0])\n",
    "b_454 = tf.constant([456.0, 457.0])\n",
    "c_454 = tf.add(a_454, b_454)\n",
    "print(f\"TensorFlow Cell 454: \", c_454.numpy())"
   ]
  },
  {
   "cell_type": "code",
   "execution_count": null,
   "id": "bcf842db",
   "metadata": {},
   "outputs": [],
   "source": [
    "# Cell 455 - TensorFlow Example\n",
    "import tensorflow as tf\n",
    "\n",
    "a_455 = tf.constant([455.0, 456.0])\n",
    "b_455 = tf.constant([457.0, 458.0])\n",
    "c_455 = tf.add(a_455, b_455)\n",
    "print(f\"TensorFlow Cell 455: \", c_455.numpy())"
   ]
  },
  {
   "cell_type": "code",
   "execution_count": null,
   "id": "7fa1cab7",
   "metadata": {},
   "outputs": [],
   "source": [
    "# Cell 456 - TensorFlow Example\n",
    "import tensorflow as tf\n",
    "\n",
    "a_456 = tf.constant([456.0, 457.0])\n",
    "b_456 = tf.constant([458.0, 459.0])\n",
    "c_456 = tf.add(a_456, b_456)\n",
    "print(f\"TensorFlow Cell 456: \", c_456.numpy())"
   ]
  },
  {
   "cell_type": "code",
   "execution_count": null,
   "id": "ead88005",
   "metadata": {},
   "outputs": [],
   "source": [
    "# Cell 457 - TensorFlow Example\n",
    "import tensorflow as tf\n",
    "\n",
    "a_457 = tf.constant([457.0, 458.0])\n",
    "b_457 = tf.constant([459.0, 460.0])\n",
    "c_457 = tf.add(a_457, b_457)\n",
    "print(f\"TensorFlow Cell 457: \", c_457.numpy())"
   ]
  },
  {
   "cell_type": "code",
   "execution_count": null,
   "id": "4081ec32",
   "metadata": {},
   "outputs": [],
   "source": [
    "# Cell 458 - TensorFlow Example\n",
    "import tensorflow as tf\n",
    "\n",
    "a_458 = tf.constant([458.0, 459.0])\n",
    "b_458 = tf.constant([460.0, 461.0])\n",
    "c_458 = tf.add(a_458, b_458)\n",
    "print(f\"TensorFlow Cell 458: \", c_458.numpy())"
   ]
  },
  {
   "cell_type": "code",
   "execution_count": null,
   "id": "d8bce723",
   "metadata": {},
   "outputs": [],
   "source": [
    "# Cell 459 - TensorFlow Example\n",
    "import tensorflow as tf\n",
    "\n",
    "a_459 = tf.constant([459.0, 460.0])\n",
    "b_459 = tf.constant([461.0, 462.0])\n",
    "c_459 = tf.add(a_459, b_459)\n",
    "print(f\"TensorFlow Cell 459: \", c_459.numpy())"
   ]
  },
  {
   "cell_type": "code",
   "execution_count": null,
   "id": "91bda7f5",
   "metadata": {},
   "outputs": [],
   "source": [
    "# Cell 460 - TensorFlow Example\n",
    "import tensorflow as tf\n",
    "\n",
    "a_460 = tf.constant([460.0, 461.0])\n",
    "b_460 = tf.constant([462.0, 463.0])\n",
    "c_460 = tf.add(a_460, b_460)\n",
    "print(f\"TensorFlow Cell 460: \", c_460.numpy())"
   ]
  },
  {
   "cell_type": "code",
   "execution_count": null,
   "id": "593891e2",
   "metadata": {},
   "outputs": [],
   "source": [
    "# Cell 461 - TensorFlow Example\n",
    "import tensorflow as tf\n",
    "\n",
    "a_461 = tf.constant([461.0, 462.0])\n",
    "b_461 = tf.constant([463.0, 464.0])\n",
    "c_461 = tf.add(a_461, b_461)\n",
    "print(f\"TensorFlow Cell 461: \", c_461.numpy())"
   ]
  },
  {
   "cell_type": "code",
   "execution_count": null,
   "id": "b95db123",
   "metadata": {},
   "outputs": [],
   "source": [
    "# Cell 462 - TensorFlow Example\n",
    "import tensorflow as tf\n",
    "\n",
    "a_462 = tf.constant([462.0, 463.0])\n",
    "b_462 = tf.constant([464.0, 465.0])\n",
    "c_462 = tf.add(a_462, b_462)\n",
    "print(f\"TensorFlow Cell 462: \", c_462.numpy())"
   ]
  },
  {
   "cell_type": "code",
   "execution_count": null,
   "id": "e04f4768",
   "metadata": {},
   "outputs": [],
   "source": [
    "# Cell 463 - TensorFlow Example\n",
    "import tensorflow as tf\n",
    "\n",
    "a_463 = tf.constant([463.0, 464.0])\n",
    "b_463 = tf.constant([465.0, 466.0])\n",
    "c_463 = tf.add(a_463, b_463)\n",
    "print(f\"TensorFlow Cell 463: \", c_463.numpy())"
   ]
  },
  {
   "cell_type": "code",
   "execution_count": null,
   "id": "91e3a442",
   "metadata": {},
   "outputs": [],
   "source": [
    "# Cell 464 - TensorFlow Example\n",
    "import tensorflow as tf\n",
    "\n",
    "a_464 = tf.constant([464.0, 465.0])\n",
    "b_464 = tf.constant([466.0, 467.0])\n",
    "c_464 = tf.add(a_464, b_464)\n",
    "print(f\"TensorFlow Cell 464: \", c_464.numpy())"
   ]
  },
  {
   "cell_type": "code",
   "execution_count": null,
   "id": "bdc4b64d",
   "metadata": {},
   "outputs": [],
   "source": [
    "# Cell 465 - TensorFlow Example\n",
    "import tensorflow as tf\n",
    "\n",
    "a_465 = tf.constant([465.0, 466.0])\n",
    "b_465 = tf.constant([467.0, 468.0])\n",
    "c_465 = tf.add(a_465, b_465)\n",
    "print(f\"TensorFlow Cell 465: \", c_465.numpy())"
   ]
  },
  {
   "cell_type": "code",
   "execution_count": null,
   "id": "a70b513b",
   "metadata": {},
   "outputs": [],
   "source": [
    "# Cell 466 - TensorFlow Example\n",
    "import tensorflow as tf\n",
    "\n",
    "a_466 = tf.constant([466.0, 467.0])\n",
    "b_466 = tf.constant([468.0, 469.0])\n",
    "c_466 = tf.add(a_466, b_466)\n",
    "print(f\"TensorFlow Cell 466: \", c_466.numpy())"
   ]
  },
  {
   "cell_type": "code",
   "execution_count": null,
   "id": "0b5f987f",
   "metadata": {},
   "outputs": [],
   "source": [
    "# Cell 467 - TensorFlow Example\n",
    "import tensorflow as tf\n",
    "\n",
    "a_467 = tf.constant([467.0, 468.0])\n",
    "b_467 = tf.constant([469.0, 470.0])\n",
    "c_467 = tf.add(a_467, b_467)\n",
    "print(f\"TensorFlow Cell 467: \", c_467.numpy())"
   ]
  },
  {
   "cell_type": "code",
   "execution_count": null,
   "id": "0790cf97",
   "metadata": {},
   "outputs": [],
   "source": [
    "# Cell 468 - TensorFlow Example\n",
    "import tensorflow as tf\n",
    "\n",
    "a_468 = tf.constant([468.0, 469.0])\n",
    "b_468 = tf.constant([470.0, 471.0])\n",
    "c_468 = tf.add(a_468, b_468)\n",
    "print(f\"TensorFlow Cell 468: \", c_468.numpy())"
   ]
  },
  {
   "cell_type": "code",
   "execution_count": null,
   "id": "57e5a74e",
   "metadata": {},
   "outputs": [],
   "source": [
    "# Cell 469 - TensorFlow Example\n",
    "import tensorflow as tf\n",
    "\n",
    "a_469 = tf.constant([469.0, 470.0])\n",
    "b_469 = tf.constant([471.0, 472.0])\n",
    "c_469 = tf.add(a_469, b_469)\n",
    "print(f\"TensorFlow Cell 469: \", c_469.numpy())"
   ]
  },
  {
   "cell_type": "code",
   "execution_count": null,
   "id": "1bf4c415",
   "metadata": {},
   "outputs": [],
   "source": [
    "# Cell 470 - TensorFlow Example\n",
    "import tensorflow as tf\n",
    "\n",
    "a_470 = tf.constant([470.0, 471.0])\n",
    "b_470 = tf.constant([472.0, 473.0])\n",
    "c_470 = tf.add(a_470, b_470)\n",
    "print(f\"TensorFlow Cell 470: \", c_470.numpy())"
   ]
  },
  {
   "cell_type": "code",
   "execution_count": null,
   "id": "57eff8cd",
   "metadata": {},
   "outputs": [],
   "source": [
    "# Cell 471 - TensorFlow Example\n",
    "import tensorflow as tf\n",
    "\n",
    "a_471 = tf.constant([471.0, 472.0])\n",
    "b_471 = tf.constant([473.0, 474.0])\n",
    "c_471 = tf.add(a_471, b_471)\n",
    "print(f\"TensorFlow Cell 471: \", c_471.numpy())"
   ]
  },
  {
   "cell_type": "code",
   "execution_count": null,
   "id": "330246d3",
   "metadata": {},
   "outputs": [],
   "source": [
    "# Cell 472 - TensorFlow Example\n",
    "import tensorflow as tf\n",
    "\n",
    "a_472 = tf.constant([472.0, 473.0])\n",
    "b_472 = tf.constant([474.0, 475.0])\n",
    "c_472 = tf.add(a_472, b_472)\n",
    "print(f\"TensorFlow Cell 472: \", c_472.numpy())"
   ]
  },
  {
   "cell_type": "code",
   "execution_count": null,
   "id": "901a5f8d",
   "metadata": {},
   "outputs": [],
   "source": [
    "# Cell 473 - TensorFlow Example\n",
    "import tensorflow as tf\n",
    "\n",
    "a_473 = tf.constant([473.0, 474.0])\n",
    "b_473 = tf.constant([475.0, 476.0])\n",
    "c_473 = tf.add(a_473, b_473)\n",
    "print(f\"TensorFlow Cell 473: \", c_473.numpy())"
   ]
  },
  {
   "cell_type": "code",
   "execution_count": null,
   "id": "c3ebfa70",
   "metadata": {},
   "outputs": [],
   "source": [
    "# Cell 474 - TensorFlow Example\n",
    "import tensorflow as tf\n",
    "\n",
    "a_474 = tf.constant([474.0, 475.0])\n",
    "b_474 = tf.constant([476.0, 477.0])\n",
    "c_474 = tf.add(a_474, b_474)\n",
    "print(f\"TensorFlow Cell 474: \", c_474.numpy())"
   ]
  },
  {
   "cell_type": "code",
   "execution_count": null,
   "id": "6fbf3b09",
   "metadata": {},
   "outputs": [],
   "source": [
    "# Cell 475 - TensorFlow Example\n",
    "import tensorflow as tf\n",
    "\n",
    "a_475 = tf.constant([475.0, 476.0])\n",
    "b_475 = tf.constant([477.0, 478.0])\n",
    "c_475 = tf.add(a_475, b_475)\n",
    "print(f\"TensorFlow Cell 475: \", c_475.numpy())"
   ]
  },
  {
   "cell_type": "code",
   "execution_count": null,
   "id": "2d0c52ee",
   "metadata": {},
   "outputs": [],
   "source": [
    "# Cell 476 - TensorFlow Example\n",
    "import tensorflow as tf\n",
    "\n",
    "a_476 = tf.constant([476.0, 477.0])\n",
    "b_476 = tf.constant([478.0, 479.0])\n",
    "c_476 = tf.add(a_476, b_476)\n",
    "print(f\"TensorFlow Cell 476: \", c_476.numpy())"
   ]
  },
  {
   "cell_type": "code",
   "execution_count": null,
   "id": "1b029f3f",
   "metadata": {},
   "outputs": [],
   "source": [
    "# Cell 477 - TensorFlow Example\n",
    "import tensorflow as tf\n",
    "\n",
    "a_477 = tf.constant([477.0, 478.0])\n",
    "b_477 = tf.constant([479.0, 480.0])\n",
    "c_477 = tf.add(a_477, b_477)\n",
    "print(f\"TensorFlow Cell 477: \", c_477.numpy())"
   ]
  },
  {
   "cell_type": "code",
   "execution_count": null,
   "id": "d2aaf8d2",
   "metadata": {},
   "outputs": [],
   "source": [
    "# Cell 478 - TensorFlow Example\n",
    "import tensorflow as tf\n",
    "\n",
    "a_478 = tf.constant([478.0, 479.0])\n",
    "b_478 = tf.constant([480.0, 481.0])\n",
    "c_478 = tf.add(a_478, b_478)\n",
    "print(f\"TensorFlow Cell 478: \", c_478.numpy())"
   ]
  },
  {
   "cell_type": "code",
   "execution_count": null,
   "id": "d4e2b1a1",
   "metadata": {},
   "outputs": [],
   "source": [
    "# Cell 479 - TensorFlow Example\n",
    "import tensorflow as tf\n",
    "\n",
    "a_479 = tf.constant([479.0, 480.0])\n",
    "b_479 = tf.constant([481.0, 482.0])\n",
    "c_479 = tf.add(a_479, b_479)\n",
    "print(f\"TensorFlow Cell 479: \", c_479.numpy())"
   ]
  },
  {
   "cell_type": "code",
   "execution_count": null,
   "id": "8f755607",
   "metadata": {},
   "outputs": [],
   "source": [
    "# Cell 480 - TensorFlow Example\n",
    "import tensorflow as tf\n",
    "\n",
    "a_480 = tf.constant([480.0, 481.0])\n",
    "b_480 = tf.constant([482.0, 483.0])\n",
    "c_480 = tf.add(a_480, b_480)\n",
    "print(f\"TensorFlow Cell 480: \", c_480.numpy())"
   ]
  },
  {
   "cell_type": "code",
   "execution_count": null,
   "id": "98e967c2",
   "metadata": {},
   "outputs": [],
   "source": [
    "# Cell 481 - TensorFlow Example\n",
    "import tensorflow as tf\n",
    "\n",
    "a_481 = tf.constant([481.0, 482.0])\n",
    "b_481 = tf.constant([483.0, 484.0])\n",
    "c_481 = tf.add(a_481, b_481)\n",
    "print(f\"TensorFlow Cell 481: \", c_481.numpy())"
   ]
  },
  {
   "cell_type": "code",
   "execution_count": null,
   "id": "28747490",
   "metadata": {},
   "outputs": [],
   "source": [
    "# Cell 482 - TensorFlow Example\n",
    "import tensorflow as tf\n",
    "\n",
    "a_482 = tf.constant([482.0, 483.0])\n",
    "b_482 = tf.constant([484.0, 485.0])\n",
    "c_482 = tf.add(a_482, b_482)\n",
    "print(f\"TensorFlow Cell 482: \", c_482.numpy())"
   ]
  },
  {
   "cell_type": "code",
   "execution_count": null,
   "id": "3bd3a002",
   "metadata": {},
   "outputs": [],
   "source": [
    "# Cell 483 - TensorFlow Example\n",
    "import tensorflow as tf\n",
    "\n",
    "a_483 = tf.constant([483.0, 484.0])\n",
    "b_483 = tf.constant([485.0, 486.0])\n",
    "c_483 = tf.add(a_483, b_483)\n",
    "print(f\"TensorFlow Cell 483: \", c_483.numpy())"
   ]
  },
  {
   "cell_type": "code",
   "execution_count": null,
   "id": "a6b8c394",
   "metadata": {},
   "outputs": [],
   "source": [
    "# Cell 484 - TensorFlow Example\n",
    "import tensorflow as tf\n",
    "\n",
    "a_484 = tf.constant([484.0, 485.0])\n",
    "b_484 = tf.constant([486.0, 487.0])\n",
    "c_484 = tf.add(a_484, b_484)\n",
    "print(f\"TensorFlow Cell 484: \", c_484.numpy())"
   ]
  },
  {
   "cell_type": "code",
   "execution_count": null,
   "id": "55bf2a41",
   "metadata": {},
   "outputs": [],
   "source": [
    "# Cell 485 - TensorFlow Example\n",
    "import tensorflow as tf\n",
    "\n",
    "a_485 = tf.constant([485.0, 486.0])\n",
    "b_485 = tf.constant([487.0, 488.0])\n",
    "c_485 = tf.add(a_485, b_485)\n",
    "print(f\"TensorFlow Cell 485: \", c_485.numpy())"
   ]
  },
  {
   "cell_type": "code",
   "execution_count": null,
   "id": "352b9ed4",
   "metadata": {},
   "outputs": [],
   "source": [
    "# Cell 486 - TensorFlow Example\n",
    "import tensorflow as tf\n",
    "\n",
    "a_486 = tf.constant([486.0, 487.0])\n",
    "b_486 = tf.constant([488.0, 489.0])\n",
    "c_486 = tf.add(a_486, b_486)\n",
    "print(f\"TensorFlow Cell 486: \", c_486.numpy())"
   ]
  },
  {
   "cell_type": "code",
   "execution_count": null,
   "id": "37315ab9",
   "metadata": {},
   "outputs": [],
   "source": [
    "# Cell 487 - TensorFlow Example\n",
    "import tensorflow as tf\n",
    "\n",
    "a_487 = tf.constant([487.0, 488.0])\n",
    "b_487 = tf.constant([489.0, 490.0])\n",
    "c_487 = tf.add(a_487, b_487)\n",
    "print(f\"TensorFlow Cell 487: \", c_487.numpy())"
   ]
  },
  {
   "cell_type": "code",
   "execution_count": null,
   "id": "37b4be78",
   "metadata": {},
   "outputs": [],
   "source": [
    "# Cell 488 - TensorFlow Example\n",
    "import tensorflow as tf\n",
    "\n",
    "a_488 = tf.constant([488.0, 489.0])\n",
    "b_488 = tf.constant([490.0, 491.0])\n",
    "c_488 = tf.add(a_488, b_488)\n",
    "print(f\"TensorFlow Cell 488: \", c_488.numpy())"
   ]
  },
  {
   "cell_type": "code",
   "execution_count": null,
   "id": "b427a7c2",
   "metadata": {},
   "outputs": [],
   "source": [
    "# Cell 489 - TensorFlow Example\n",
    "import tensorflow as tf\n",
    "\n",
    "a_489 = tf.constant([489.0, 490.0])\n",
    "b_489 = tf.constant([491.0, 492.0])\n",
    "c_489 = tf.add(a_489, b_489)\n",
    "print(f\"TensorFlow Cell 489: \", c_489.numpy())"
   ]
  },
  {
   "cell_type": "code",
   "execution_count": null,
   "id": "7098ca22",
   "metadata": {},
   "outputs": [],
   "source": [
    "# Cell 490 - TensorFlow Example\n",
    "import tensorflow as tf\n",
    "\n",
    "a_490 = tf.constant([490.0, 491.0])\n",
    "b_490 = tf.constant([492.0, 493.0])\n",
    "c_490 = tf.add(a_490, b_490)\n",
    "print(f\"TensorFlow Cell 490: \", c_490.numpy())"
   ]
  },
  {
   "cell_type": "code",
   "execution_count": null,
   "id": "91cfff5f",
   "metadata": {},
   "outputs": [],
   "source": [
    "# Cell 491 - TensorFlow Example\n",
    "import tensorflow as tf\n",
    "\n",
    "a_491 = tf.constant([491.0, 492.0])\n",
    "b_491 = tf.constant([493.0, 494.0])\n",
    "c_491 = tf.add(a_491, b_491)\n",
    "print(f\"TensorFlow Cell 491: \", c_491.numpy())"
   ]
  },
  {
   "cell_type": "code",
   "execution_count": null,
   "id": "6e211fd0",
   "metadata": {},
   "outputs": [],
   "source": [
    "# Cell 492 - TensorFlow Example\n",
    "import tensorflow as tf\n",
    "\n",
    "a_492 = tf.constant([492.0, 493.0])\n",
    "b_492 = tf.constant([494.0, 495.0])\n",
    "c_492 = tf.add(a_492, b_492)\n",
    "print(f\"TensorFlow Cell 492: \", c_492.numpy())"
   ]
  },
  {
   "cell_type": "code",
   "execution_count": null,
   "id": "7d87a724",
   "metadata": {},
   "outputs": [],
   "source": [
    "# Cell 493 - TensorFlow Example\n",
    "import tensorflow as tf\n",
    "\n",
    "a_493 = tf.constant([493.0, 494.0])\n",
    "b_493 = tf.constant([495.0, 496.0])\n",
    "c_493 = tf.add(a_493, b_493)\n",
    "print(f\"TensorFlow Cell 493: \", c_493.numpy())"
   ]
  },
  {
   "cell_type": "code",
   "execution_count": null,
   "id": "a7d0e362",
   "metadata": {},
   "outputs": [],
   "source": [
    "# Cell 494 - TensorFlow Example\n",
    "import tensorflow as tf\n",
    "\n",
    "a_494 = tf.constant([494.0, 495.0])\n",
    "b_494 = tf.constant([496.0, 497.0])\n",
    "c_494 = tf.add(a_494, b_494)\n",
    "print(f\"TensorFlow Cell 494: \", c_494.numpy())"
   ]
  },
  {
   "cell_type": "code",
   "execution_count": null,
   "id": "de9a67c7",
   "metadata": {},
   "outputs": [],
   "source": [
    "# Cell 495 - TensorFlow Example\n",
    "import tensorflow as tf\n",
    "\n",
    "a_495 = tf.constant([495.0, 496.0])\n",
    "b_495 = tf.constant([497.0, 498.0])\n",
    "c_495 = tf.add(a_495, b_495)\n",
    "print(f\"TensorFlow Cell 495: \", c_495.numpy())"
   ]
  },
  {
   "cell_type": "code",
   "execution_count": null,
   "id": "96398a17",
   "metadata": {},
   "outputs": [],
   "source": [
    "# Cell 496 - TensorFlow Example\n",
    "import tensorflow as tf\n",
    "\n",
    "a_496 = tf.constant([496.0, 497.0])\n",
    "b_496 = tf.constant([498.0, 499.0])\n",
    "c_496 = tf.add(a_496, b_496)\n",
    "print(f\"TensorFlow Cell 496: \", c_496.numpy())"
   ]
  },
  {
   "cell_type": "code",
   "execution_count": null,
   "id": "0fac4ca5",
   "metadata": {},
   "outputs": [],
   "source": [
    "# Cell 497 - TensorFlow Example\n",
    "import tensorflow as tf\n",
    "\n",
    "a_497 = tf.constant([497.0, 498.0])\n",
    "b_497 = tf.constant([499.0, 500.0])\n",
    "c_497 = tf.add(a_497, b_497)\n",
    "print(f\"TensorFlow Cell 497: \", c_497.numpy())"
   ]
  },
  {
   "cell_type": "code",
   "execution_count": null,
   "id": "5dfcd187",
   "metadata": {},
   "outputs": [],
   "source": [
    "# Cell 498 - TensorFlow Example\n",
    "import tensorflow as tf\n",
    "\n",
    "a_498 = tf.constant([498.0, 499.0])\n",
    "b_498 = tf.constant([500.0, 501.0])\n",
    "c_498 = tf.add(a_498, b_498)\n",
    "print(f\"TensorFlow Cell 498: \", c_498.numpy())"
   ]
  },
  {
   "cell_type": "code",
   "execution_count": null,
   "id": "a18bc845",
   "metadata": {},
   "outputs": [],
   "source": [
    "# Cell 499 - TensorFlow Example\n",
    "import tensorflow as tf\n",
    "\n",
    "a_499 = tf.constant([499.0, 500.0])\n",
    "b_499 = tf.constant([501.0, 502.0])\n",
    "c_499 = tf.add(a_499, b_499)\n",
    "print(f\"TensorFlow Cell 499: \", c_499.numpy())"
   ]
  },
  {
   "cell_type": "code",
   "execution_count": null,
   "id": "52e9b163",
   "metadata": {},
   "outputs": [],
   "source": [
    "# Cell 500 - TensorFlow Example\n",
    "import tensorflow as tf\n",
    "\n",
    "a_500 = tf.constant([500.0, 501.0])\n",
    "b_500 = tf.constant([502.0, 503.0])\n",
    "c_500 = tf.add(a_500, b_500)\n",
    "print(f\"TensorFlow Cell 500: \", c_500.numpy())"
   ]
  },
  {
   "cell_type": "code",
   "execution_count": null,
   "id": "789bd2a6",
   "metadata": {},
   "outputs": [],
   "source": [
    "# Cell 501 - TensorFlow Example\n",
    "import tensorflow as tf\n",
    "\n",
    "a_501 = tf.constant([501.0, 502.0])\n",
    "b_501 = tf.constant([503.0, 504.0])\n",
    "c_501 = tf.add(a_501, b_501)\n",
    "print(f\"TensorFlow Cell 501: \", c_501.numpy())"
   ]
  },
  {
   "cell_type": "code",
   "execution_count": null,
   "id": "34798ac2",
   "metadata": {},
   "outputs": [],
   "source": [
    "# Cell 502 - TensorFlow Example\n",
    "import tensorflow as tf\n",
    "\n",
    "a_502 = tf.constant([502.0, 503.0])\n",
    "b_502 = tf.constant([504.0, 505.0])\n",
    "c_502 = tf.add(a_502, b_502)\n",
    "print(f\"TensorFlow Cell 502: \", c_502.numpy())"
   ]
  },
  {
   "cell_type": "code",
   "execution_count": null,
   "id": "a3bef7a5",
   "metadata": {},
   "outputs": [],
   "source": [
    "# Cell 503 - TensorFlow Example\n",
    "import tensorflow as tf\n",
    "\n",
    "a_503 = tf.constant([503.0, 504.0])\n",
    "b_503 = tf.constant([505.0, 506.0])\n",
    "c_503 = tf.add(a_503, b_503)\n",
    "print(f\"TensorFlow Cell 503: \", c_503.numpy())"
   ]
  },
  {
   "cell_type": "code",
   "execution_count": null,
   "id": "fdd440fb",
   "metadata": {},
   "outputs": [],
   "source": [
    "# Cell 504 - TensorFlow Example\n",
    "import tensorflow as tf\n",
    "\n",
    "a_504 = tf.constant([504.0, 505.0])\n",
    "b_504 = tf.constant([506.0, 507.0])\n",
    "c_504 = tf.add(a_504, b_504)\n",
    "print(f\"TensorFlow Cell 504: \", c_504.numpy())"
   ]
  },
  {
   "cell_type": "code",
   "execution_count": null,
   "id": "bd224dbf",
   "metadata": {},
   "outputs": [],
   "source": [
    "# Cell 505 - TensorFlow Example\n",
    "import tensorflow as tf\n",
    "\n",
    "a_505 = tf.constant([505.0, 506.0])\n",
    "b_505 = tf.constant([507.0, 508.0])\n",
    "c_505 = tf.add(a_505, b_505)\n",
    "print(f\"TensorFlow Cell 505: \", c_505.numpy())"
   ]
  },
  {
   "cell_type": "code",
   "execution_count": null,
   "id": "4536c1bf",
   "metadata": {},
   "outputs": [],
   "source": [
    "# Cell 506 - TensorFlow Example\n",
    "import tensorflow as tf\n",
    "\n",
    "a_506 = tf.constant([506.0, 507.0])\n",
    "b_506 = tf.constant([508.0, 509.0])\n",
    "c_506 = tf.add(a_506, b_506)\n",
    "print(f\"TensorFlow Cell 506: \", c_506.numpy())"
   ]
  },
  {
   "cell_type": "code",
   "execution_count": null,
   "id": "2871d448",
   "metadata": {},
   "outputs": [],
   "source": [
    "# Cell 507 - TensorFlow Example\n",
    "import tensorflow as tf\n",
    "\n",
    "a_507 = tf.constant([507.0, 508.0])\n",
    "b_507 = tf.constant([509.0, 510.0])\n",
    "c_507 = tf.add(a_507, b_507)\n",
    "print(f\"TensorFlow Cell 507: \", c_507.numpy())"
   ]
  },
  {
   "cell_type": "code",
   "execution_count": null,
   "id": "b0ba15dc",
   "metadata": {},
   "outputs": [],
   "source": [
    "# Cell 508 - TensorFlow Example\n",
    "import tensorflow as tf\n",
    "\n",
    "a_508 = tf.constant([508.0, 509.0])\n",
    "b_508 = tf.constant([510.0, 511.0])\n",
    "c_508 = tf.add(a_508, b_508)\n",
    "print(f\"TensorFlow Cell 508: \", c_508.numpy())"
   ]
  },
  {
   "cell_type": "code",
   "execution_count": null,
   "id": "a9edd137",
   "metadata": {},
   "outputs": [],
   "source": [
    "# Cell 509 - TensorFlow Example\n",
    "import tensorflow as tf\n",
    "\n",
    "a_509 = tf.constant([509.0, 510.0])\n",
    "b_509 = tf.constant([511.0, 512.0])\n",
    "c_509 = tf.add(a_509, b_509)\n",
    "print(f\"TensorFlow Cell 509: \", c_509.numpy())"
   ]
  },
  {
   "cell_type": "code",
   "execution_count": null,
   "id": "9c1048fa",
   "metadata": {},
   "outputs": [],
   "source": [
    "# Cell 510 - TensorFlow Example\n",
    "import tensorflow as tf\n",
    "\n",
    "a_510 = tf.constant([510.0, 511.0])\n",
    "b_510 = tf.constant([512.0, 513.0])\n",
    "c_510 = tf.add(a_510, b_510)\n",
    "print(f\"TensorFlow Cell 510: \", c_510.numpy())"
   ]
  },
  {
   "cell_type": "code",
   "execution_count": null,
   "id": "df7c2919",
   "metadata": {},
   "outputs": [],
   "source": [
    "# Cell 511 - TensorFlow Example\n",
    "import tensorflow as tf\n",
    "\n",
    "a_511 = tf.constant([511.0, 512.0])\n",
    "b_511 = tf.constant([513.0, 514.0])\n",
    "c_511 = tf.add(a_511, b_511)\n",
    "print(f\"TensorFlow Cell 511: \", c_511.numpy())"
   ]
  },
  {
   "cell_type": "code",
   "execution_count": null,
   "id": "c6eb9dda",
   "metadata": {},
   "outputs": [],
   "source": [
    "# Cell 512 - TensorFlow Example\n",
    "import tensorflow as tf\n",
    "\n",
    "a_512 = tf.constant([512.0, 513.0])\n",
    "b_512 = tf.constant([514.0, 515.0])\n",
    "c_512 = tf.add(a_512, b_512)\n",
    "print(f\"TensorFlow Cell 512: \", c_512.numpy())"
   ]
  },
  {
   "cell_type": "code",
   "execution_count": null,
   "id": "71a71588",
   "metadata": {},
   "outputs": [],
   "source": [
    "# Cell 513 - TensorFlow Example\n",
    "import tensorflow as tf\n",
    "\n",
    "a_513 = tf.constant([513.0, 514.0])\n",
    "b_513 = tf.constant([515.0, 516.0])\n",
    "c_513 = tf.add(a_513, b_513)\n",
    "print(f\"TensorFlow Cell 513: \", c_513.numpy())"
   ]
  },
  {
   "cell_type": "code",
   "execution_count": null,
   "id": "6bd929ab",
   "metadata": {},
   "outputs": [],
   "source": [
    "# Cell 514 - TensorFlow Example\n",
    "import tensorflow as tf\n",
    "\n",
    "a_514 = tf.constant([514.0, 515.0])\n",
    "b_514 = tf.constant([516.0, 517.0])\n",
    "c_514 = tf.add(a_514, b_514)\n",
    "print(f\"TensorFlow Cell 514: \", c_514.numpy())"
   ]
  },
  {
   "cell_type": "code",
   "execution_count": null,
   "id": "9db4b8e3",
   "metadata": {},
   "outputs": [],
   "source": [
    "# Cell 515 - TensorFlow Example\n",
    "import tensorflow as tf\n",
    "\n",
    "a_515 = tf.constant([515.0, 516.0])\n",
    "b_515 = tf.constant([517.0, 518.0])\n",
    "c_515 = tf.add(a_515, b_515)\n",
    "print(f\"TensorFlow Cell 515: \", c_515.numpy())"
   ]
  },
  {
   "cell_type": "code",
   "execution_count": null,
   "id": "21235e20",
   "metadata": {},
   "outputs": [],
   "source": [
    "# Cell 516 - TensorFlow Example\n",
    "import tensorflow as tf\n",
    "\n",
    "a_516 = tf.constant([516.0, 517.0])\n",
    "b_516 = tf.constant([518.0, 519.0])\n",
    "c_516 = tf.add(a_516, b_516)\n",
    "print(f\"TensorFlow Cell 516: \", c_516.numpy())"
   ]
  },
  {
   "cell_type": "code",
   "execution_count": null,
   "id": "3425fd26",
   "metadata": {},
   "outputs": [],
   "source": [
    "# Cell 517 - TensorFlow Example\n",
    "import tensorflow as tf\n",
    "\n",
    "a_517 = tf.constant([517.0, 518.0])\n",
    "b_517 = tf.constant([519.0, 520.0])\n",
    "c_517 = tf.add(a_517, b_517)\n",
    "print(f\"TensorFlow Cell 517: \", c_517.numpy())"
   ]
  },
  {
   "cell_type": "code",
   "execution_count": null,
   "id": "ecb49f75",
   "metadata": {},
   "outputs": [],
   "source": [
    "# Cell 518 - TensorFlow Example\n",
    "import tensorflow as tf\n",
    "\n",
    "a_518 = tf.constant([518.0, 519.0])\n",
    "b_518 = tf.constant([520.0, 521.0])\n",
    "c_518 = tf.add(a_518, b_518)\n",
    "print(f\"TensorFlow Cell 518: \", c_518.numpy())"
   ]
  },
  {
   "cell_type": "code",
   "execution_count": null,
   "id": "b7eaa9ae",
   "metadata": {},
   "outputs": [],
   "source": [
    "# Cell 519 - TensorFlow Example\n",
    "import tensorflow as tf\n",
    "\n",
    "a_519 = tf.constant([519.0, 520.0])\n",
    "b_519 = tf.constant([521.0, 522.0])\n",
    "c_519 = tf.add(a_519, b_519)\n",
    "print(f\"TensorFlow Cell 519: \", c_519.numpy())"
   ]
  },
  {
   "cell_type": "code",
   "execution_count": null,
   "id": "aafb23d1",
   "metadata": {},
   "outputs": [],
   "source": [
    "# Cell 520 - TensorFlow Example\n",
    "import tensorflow as tf\n",
    "\n",
    "a_520 = tf.constant([520.0, 521.0])\n",
    "b_520 = tf.constant([522.0, 523.0])\n",
    "c_520 = tf.add(a_520, b_520)\n",
    "print(f\"TensorFlow Cell 520: \", c_520.numpy())"
   ]
  },
  {
   "cell_type": "code",
   "execution_count": null,
   "id": "f3ba059d",
   "metadata": {},
   "outputs": [],
   "source": [
    "# Cell 521 - TensorFlow Example\n",
    "import tensorflow as tf\n",
    "\n",
    "a_521 = tf.constant([521.0, 522.0])\n",
    "b_521 = tf.constant([523.0, 524.0])\n",
    "c_521 = tf.add(a_521, b_521)\n",
    "print(f\"TensorFlow Cell 521: \", c_521.numpy())"
   ]
  },
  {
   "cell_type": "code",
   "execution_count": null,
   "id": "9b292a17",
   "metadata": {},
   "outputs": [],
   "source": [
    "# Cell 522 - TensorFlow Example\n",
    "import tensorflow as tf\n",
    "\n",
    "a_522 = tf.constant([522.0, 523.0])\n",
    "b_522 = tf.constant([524.0, 525.0])\n",
    "c_522 = tf.add(a_522, b_522)\n",
    "print(f\"TensorFlow Cell 522: \", c_522.numpy())"
   ]
  },
  {
   "cell_type": "code",
   "execution_count": null,
   "id": "8695bb65",
   "metadata": {},
   "outputs": [],
   "source": [
    "# Cell 523 - TensorFlow Example\n",
    "import tensorflow as tf\n",
    "\n",
    "a_523 = tf.constant([523.0, 524.0])\n",
    "b_523 = tf.constant([525.0, 526.0])\n",
    "c_523 = tf.add(a_523, b_523)\n",
    "print(f\"TensorFlow Cell 523: \", c_523.numpy())"
   ]
  },
  {
   "cell_type": "code",
   "execution_count": null,
   "id": "6fd08c38",
   "metadata": {},
   "outputs": [],
   "source": [
    "# Cell 524 - TensorFlow Example\n",
    "import tensorflow as tf\n",
    "\n",
    "a_524 = tf.constant([524.0, 525.0])\n",
    "b_524 = tf.constant([526.0, 527.0])\n",
    "c_524 = tf.add(a_524, b_524)\n",
    "print(f\"TensorFlow Cell 524: \", c_524.numpy())"
   ]
  },
  {
   "cell_type": "code",
   "execution_count": null,
   "id": "566cafce",
   "metadata": {},
   "outputs": [],
   "source": [
    "# Cell 525 - TensorFlow Example\n",
    "import tensorflow as tf\n",
    "\n",
    "a_525 = tf.constant([525.0, 526.0])\n",
    "b_525 = tf.constant([527.0, 528.0])\n",
    "c_525 = tf.add(a_525, b_525)\n",
    "print(f\"TensorFlow Cell 525: \", c_525.numpy())"
   ]
  },
  {
   "cell_type": "code",
   "execution_count": null,
   "id": "0917b60b",
   "metadata": {},
   "outputs": [],
   "source": [
    "# Cell 526 - TensorFlow Example\n",
    "import tensorflow as tf\n",
    "\n",
    "a_526 = tf.constant([526.0, 527.0])\n",
    "b_526 = tf.constant([528.0, 529.0])\n",
    "c_526 = tf.add(a_526, b_526)\n",
    "print(f\"TensorFlow Cell 526: \", c_526.numpy())"
   ]
  },
  {
   "cell_type": "code",
   "execution_count": null,
   "id": "80d6a5f8",
   "metadata": {},
   "outputs": [],
   "source": [
    "# Cell 527 - TensorFlow Example\n",
    "import tensorflow as tf\n",
    "\n",
    "a_527 = tf.constant([527.0, 528.0])\n",
    "b_527 = tf.constant([529.0, 530.0])\n",
    "c_527 = tf.add(a_527, b_527)\n",
    "print(f\"TensorFlow Cell 527: \", c_527.numpy())"
   ]
  },
  {
   "cell_type": "code",
   "execution_count": null,
   "id": "5c755a84",
   "metadata": {},
   "outputs": [],
   "source": [
    "# Cell 528 - TensorFlow Example\n",
    "import tensorflow as tf\n",
    "\n",
    "a_528 = tf.constant([528.0, 529.0])\n",
    "b_528 = tf.constant([530.0, 531.0])\n",
    "c_528 = tf.add(a_528, b_528)\n",
    "print(f\"TensorFlow Cell 528: \", c_528.numpy())"
   ]
  },
  {
   "cell_type": "code",
   "execution_count": null,
   "id": "e8e61327",
   "metadata": {},
   "outputs": [],
   "source": [
    "# Cell 529 - TensorFlow Example\n",
    "import tensorflow as tf\n",
    "\n",
    "a_529 = tf.constant([529.0, 530.0])\n",
    "b_529 = tf.constant([531.0, 532.0])\n",
    "c_529 = tf.add(a_529, b_529)\n",
    "print(f\"TensorFlow Cell 529: \", c_529.numpy())"
   ]
  },
  {
   "cell_type": "code",
   "execution_count": null,
   "id": "a17777d8",
   "metadata": {},
   "outputs": [],
   "source": [
    "# Cell 530 - TensorFlow Example\n",
    "import tensorflow as tf\n",
    "\n",
    "a_530 = tf.constant([530.0, 531.0])\n",
    "b_530 = tf.constant([532.0, 533.0])\n",
    "c_530 = tf.add(a_530, b_530)\n",
    "print(f\"TensorFlow Cell 530: \", c_530.numpy())"
   ]
  },
  {
   "cell_type": "code",
   "execution_count": null,
   "id": "46dad9d4",
   "metadata": {},
   "outputs": [],
   "source": [
    "# Cell 531 - TensorFlow Example\n",
    "import tensorflow as tf\n",
    "\n",
    "a_531 = tf.constant([531.0, 532.0])\n",
    "b_531 = tf.constant([533.0, 534.0])\n",
    "c_531 = tf.add(a_531, b_531)\n",
    "print(f\"TensorFlow Cell 531: \", c_531.numpy())"
   ]
  },
  {
   "cell_type": "code",
   "execution_count": null,
   "id": "2c60c1cd",
   "metadata": {},
   "outputs": [],
   "source": [
    "# Cell 532 - TensorFlow Example\n",
    "import tensorflow as tf\n",
    "\n",
    "a_532 = tf.constant([532.0, 533.0])\n",
    "b_532 = tf.constant([534.0, 535.0])\n",
    "c_532 = tf.add(a_532, b_532)\n",
    "print(f\"TensorFlow Cell 532: \", c_532.numpy())"
   ]
  },
  {
   "cell_type": "code",
   "execution_count": null,
   "id": "d7b1bf51",
   "metadata": {},
   "outputs": [],
   "source": [
    "# Cell 533 - TensorFlow Example\n",
    "import tensorflow as tf\n",
    "\n",
    "a_533 = tf.constant([533.0, 534.0])\n",
    "b_533 = tf.constant([535.0, 536.0])\n",
    "c_533 = tf.add(a_533, b_533)\n",
    "print(f\"TensorFlow Cell 533: \", c_533.numpy())"
   ]
  },
  {
   "cell_type": "code",
   "execution_count": null,
   "id": "c368c0bc",
   "metadata": {},
   "outputs": [],
   "source": [
    "# Cell 534 - TensorFlow Example\n",
    "import tensorflow as tf\n",
    "\n",
    "a_534 = tf.constant([534.0, 535.0])\n",
    "b_534 = tf.constant([536.0, 537.0])\n",
    "c_534 = tf.add(a_534, b_534)\n",
    "print(f\"TensorFlow Cell 534: \", c_534.numpy())"
   ]
  },
  {
   "cell_type": "code",
   "execution_count": null,
   "id": "1180fbfb",
   "metadata": {},
   "outputs": [],
   "source": [
    "# Cell 535 - TensorFlow Example\n",
    "import tensorflow as tf\n",
    "\n",
    "a_535 = tf.constant([535.0, 536.0])\n",
    "b_535 = tf.constant([537.0, 538.0])\n",
    "c_535 = tf.add(a_535, b_535)\n",
    "print(f\"TensorFlow Cell 535: \", c_535.numpy())"
   ]
  },
  {
   "cell_type": "code",
   "execution_count": null,
   "id": "0bd207ba",
   "metadata": {},
   "outputs": [],
   "source": [
    "# Cell 536 - TensorFlow Example\n",
    "import tensorflow as tf\n",
    "\n",
    "a_536 = tf.constant([536.0, 537.0])\n",
    "b_536 = tf.constant([538.0, 539.0])\n",
    "c_536 = tf.add(a_536, b_536)\n",
    "print(f\"TensorFlow Cell 536: \", c_536.numpy())"
   ]
  },
  {
   "cell_type": "code",
   "execution_count": null,
   "id": "9f6f2718",
   "metadata": {},
   "outputs": [],
   "source": [
    "# Cell 537 - TensorFlow Example\n",
    "import tensorflow as tf\n",
    "\n",
    "a_537 = tf.constant([537.0, 538.0])\n",
    "b_537 = tf.constant([539.0, 540.0])\n",
    "c_537 = tf.add(a_537, b_537)\n",
    "print(f\"TensorFlow Cell 537: \", c_537.numpy())"
   ]
  },
  {
   "cell_type": "code",
   "execution_count": null,
   "id": "f806df64",
   "metadata": {},
   "outputs": [],
   "source": [
    "# Cell 538 - TensorFlow Example\n",
    "import tensorflow as tf\n",
    "\n",
    "a_538 = tf.constant([538.0, 539.0])\n",
    "b_538 = tf.constant([540.0, 541.0])\n",
    "c_538 = tf.add(a_538, b_538)\n",
    "print(f\"TensorFlow Cell 538: \", c_538.numpy())"
   ]
  },
  {
   "cell_type": "code",
   "execution_count": null,
   "id": "2387668b",
   "metadata": {},
   "outputs": [],
   "source": [
    "# Cell 539 - TensorFlow Example\n",
    "import tensorflow as tf\n",
    "\n",
    "a_539 = tf.constant([539.0, 540.0])\n",
    "b_539 = tf.constant([541.0, 542.0])\n",
    "c_539 = tf.add(a_539, b_539)\n",
    "print(f\"TensorFlow Cell 539: \", c_539.numpy())"
   ]
  },
  {
   "cell_type": "code",
   "execution_count": null,
   "id": "0adcff4a",
   "metadata": {},
   "outputs": [],
   "source": [
    "# Cell 540 - TensorFlow Example\n",
    "import tensorflow as tf\n",
    "\n",
    "a_540 = tf.constant([540.0, 541.0])\n",
    "b_540 = tf.constant([542.0, 543.0])\n",
    "c_540 = tf.add(a_540, b_540)\n",
    "print(f\"TensorFlow Cell 540: \", c_540.numpy())"
   ]
  },
  {
   "cell_type": "code",
   "execution_count": null,
   "id": "7f439fdd",
   "metadata": {},
   "outputs": [],
   "source": [
    "# Cell 541 - TensorFlow Example\n",
    "import tensorflow as tf\n",
    "\n",
    "a_541 = tf.constant([541.0, 542.0])\n",
    "b_541 = tf.constant([543.0, 544.0])\n",
    "c_541 = tf.add(a_541, b_541)\n",
    "print(f\"TensorFlow Cell 541: \", c_541.numpy())"
   ]
  },
  {
   "cell_type": "code",
   "execution_count": null,
   "id": "dbcc4b6f",
   "metadata": {},
   "outputs": [],
   "source": [
    "# Cell 542 - TensorFlow Example\n",
    "import tensorflow as tf\n",
    "\n",
    "a_542 = tf.constant([542.0, 543.0])\n",
    "b_542 = tf.constant([544.0, 545.0])\n",
    "c_542 = tf.add(a_542, b_542)\n",
    "print(f\"TensorFlow Cell 542: \", c_542.numpy())"
   ]
  },
  {
   "cell_type": "code",
   "execution_count": null,
   "id": "e302c684",
   "metadata": {},
   "outputs": [],
   "source": [
    "# Cell 543 - TensorFlow Example\n",
    "import tensorflow as tf\n",
    "\n",
    "a_543 = tf.constant([543.0, 544.0])\n",
    "b_543 = tf.constant([545.0, 546.0])\n",
    "c_543 = tf.add(a_543, b_543)\n",
    "print(f\"TensorFlow Cell 543: \", c_543.numpy())"
   ]
  },
  {
   "cell_type": "code",
   "execution_count": null,
   "id": "fa32df13",
   "metadata": {},
   "outputs": [],
   "source": [
    "# Cell 544 - TensorFlow Example\n",
    "import tensorflow as tf\n",
    "\n",
    "a_544 = tf.constant([544.0, 545.0])\n",
    "b_544 = tf.constant([546.0, 547.0])\n",
    "c_544 = tf.add(a_544, b_544)\n",
    "print(f\"TensorFlow Cell 544: \", c_544.numpy())"
   ]
  },
  {
   "cell_type": "code",
   "execution_count": null,
   "id": "b90c9a02",
   "metadata": {},
   "outputs": [],
   "source": [
    "# Cell 545 - TensorFlow Example\n",
    "import tensorflow as tf\n",
    "\n",
    "a_545 = tf.constant([545.0, 546.0])\n",
    "b_545 = tf.constant([547.0, 548.0])\n",
    "c_545 = tf.add(a_545, b_545)\n",
    "print(f\"TensorFlow Cell 545: \", c_545.numpy())"
   ]
  },
  {
   "cell_type": "code",
   "execution_count": null,
   "id": "b638596c",
   "metadata": {},
   "outputs": [],
   "source": [
    "# Cell 546 - TensorFlow Example\n",
    "import tensorflow as tf\n",
    "\n",
    "a_546 = tf.constant([546.0, 547.0])\n",
    "b_546 = tf.constant([548.0, 549.0])\n",
    "c_546 = tf.add(a_546, b_546)\n",
    "print(f\"TensorFlow Cell 546: \", c_546.numpy())"
   ]
  },
  {
   "cell_type": "code",
   "execution_count": null,
   "id": "5c2a0cc9",
   "metadata": {},
   "outputs": [],
   "source": [
    "# Cell 547 - TensorFlow Example\n",
    "import tensorflow as tf\n",
    "\n",
    "a_547 = tf.constant([547.0, 548.0])\n",
    "b_547 = tf.constant([549.0, 550.0])\n",
    "c_547 = tf.add(a_547, b_547)\n",
    "print(f\"TensorFlow Cell 547: \", c_547.numpy())"
   ]
  },
  {
   "cell_type": "code",
   "execution_count": null,
   "id": "f6f95120",
   "metadata": {},
   "outputs": [],
   "source": [
    "# Cell 548 - TensorFlow Example\n",
    "import tensorflow as tf\n",
    "\n",
    "a_548 = tf.constant([548.0, 549.0])\n",
    "b_548 = tf.constant([550.0, 551.0])\n",
    "c_548 = tf.add(a_548, b_548)\n",
    "print(f\"TensorFlow Cell 548: \", c_548.numpy())"
   ]
  },
  {
   "cell_type": "code",
   "execution_count": null,
   "id": "686425fe",
   "metadata": {},
   "outputs": [],
   "source": [
    "# Cell 549 - TensorFlow Example\n",
    "import tensorflow as tf\n",
    "\n",
    "a_549 = tf.constant([549.0, 550.0])\n",
    "b_549 = tf.constant([551.0, 552.0])\n",
    "c_549 = tf.add(a_549, b_549)\n",
    "print(f\"TensorFlow Cell 549: \", c_549.numpy())"
   ]
  },
  {
   "cell_type": "code",
   "execution_count": null,
   "id": "36fd4c3c",
   "metadata": {},
   "outputs": [],
   "source": [
    "# Cell 550 - TensorFlow Example\n",
    "import tensorflow as tf\n",
    "\n",
    "a_550 = tf.constant([550.0, 551.0])\n",
    "b_550 = tf.constant([552.0, 553.0])\n",
    "c_550 = tf.add(a_550, b_550)\n",
    "print(f\"TensorFlow Cell 550: \", c_550.numpy())"
   ]
  },
  {
   "cell_type": "code",
   "execution_count": null,
   "id": "7654a48a",
   "metadata": {},
   "outputs": [],
   "source": [
    "# Cell 551 - TensorFlow Example\n",
    "import tensorflow as tf\n",
    "\n",
    "a_551 = tf.constant([551.0, 552.0])\n",
    "b_551 = tf.constant([553.0, 554.0])\n",
    "c_551 = tf.add(a_551, b_551)\n",
    "print(f\"TensorFlow Cell 551: \", c_551.numpy())"
   ]
  },
  {
   "cell_type": "code",
   "execution_count": null,
   "id": "a56951c6",
   "metadata": {},
   "outputs": [],
   "source": [
    "# Cell 552 - TensorFlow Example\n",
    "import tensorflow as tf\n",
    "\n",
    "a_552 = tf.constant([552.0, 553.0])\n",
    "b_552 = tf.constant([554.0, 555.0])\n",
    "c_552 = tf.add(a_552, b_552)\n",
    "print(f\"TensorFlow Cell 552: \", c_552.numpy())"
   ]
  },
  {
   "cell_type": "code",
   "execution_count": null,
   "id": "f183ceec",
   "metadata": {},
   "outputs": [],
   "source": [
    "# Cell 553 - TensorFlow Example\n",
    "import tensorflow as tf\n",
    "\n",
    "a_553 = tf.constant([553.0, 554.0])\n",
    "b_553 = tf.constant([555.0, 556.0])\n",
    "c_553 = tf.add(a_553, b_553)\n",
    "print(f\"TensorFlow Cell 553: \", c_553.numpy())"
   ]
  },
  {
   "cell_type": "code",
   "execution_count": null,
   "id": "b686e4cf",
   "metadata": {},
   "outputs": [],
   "source": [
    "# Cell 554 - TensorFlow Example\n",
    "import tensorflow as tf\n",
    "\n",
    "a_554 = tf.constant([554.0, 555.0])\n",
    "b_554 = tf.constant([556.0, 557.0])\n",
    "c_554 = tf.add(a_554, b_554)\n",
    "print(f\"TensorFlow Cell 554: \", c_554.numpy())"
   ]
  },
  {
   "cell_type": "code",
   "execution_count": null,
   "id": "9b6849a1",
   "metadata": {},
   "outputs": [],
   "source": [
    "# Cell 555 - TensorFlow Example\n",
    "import tensorflow as tf\n",
    "\n",
    "a_555 = tf.constant([555.0, 556.0])\n",
    "b_555 = tf.constant([557.0, 558.0])\n",
    "c_555 = tf.add(a_555, b_555)\n",
    "print(f\"TensorFlow Cell 555: \", c_555.numpy())"
   ]
  },
  {
   "cell_type": "code",
   "execution_count": null,
   "id": "9adbcccd",
   "metadata": {},
   "outputs": [],
   "source": [
    "# Cell 556 - TensorFlow Example\n",
    "import tensorflow as tf\n",
    "\n",
    "a_556 = tf.constant([556.0, 557.0])\n",
    "b_556 = tf.constant([558.0, 559.0])\n",
    "c_556 = tf.add(a_556, b_556)\n",
    "print(f\"TensorFlow Cell 556: \", c_556.numpy())"
   ]
  },
  {
   "cell_type": "code",
   "execution_count": null,
   "id": "86e02c4b",
   "metadata": {},
   "outputs": [],
   "source": [
    "# Cell 557 - TensorFlow Example\n",
    "import tensorflow as tf\n",
    "\n",
    "a_557 = tf.constant([557.0, 558.0])\n",
    "b_557 = tf.constant([559.0, 560.0])\n",
    "c_557 = tf.add(a_557, b_557)\n",
    "print(f\"TensorFlow Cell 557: \", c_557.numpy())"
   ]
  },
  {
   "cell_type": "code",
   "execution_count": null,
   "id": "b6546546",
   "metadata": {},
   "outputs": [],
   "source": [
    "# Cell 558 - TensorFlow Example\n",
    "import tensorflow as tf\n",
    "\n",
    "a_558 = tf.constant([558.0, 559.0])\n",
    "b_558 = tf.constant([560.0, 561.0])\n",
    "c_558 = tf.add(a_558, b_558)\n",
    "print(f\"TensorFlow Cell 558: \", c_558.numpy())"
   ]
  },
  {
   "cell_type": "code",
   "execution_count": null,
   "id": "c6d74756",
   "metadata": {},
   "outputs": [],
   "source": [
    "# Cell 559 - TensorFlow Example\n",
    "import tensorflow as tf\n",
    "\n",
    "a_559 = tf.constant([559.0, 560.0])\n",
    "b_559 = tf.constant([561.0, 562.0])\n",
    "c_559 = tf.add(a_559, b_559)\n",
    "print(f\"TensorFlow Cell 559: \", c_559.numpy())"
   ]
  },
  {
   "cell_type": "code",
   "execution_count": null,
   "id": "5d5f8101",
   "metadata": {},
   "outputs": [],
   "source": [
    "# Cell 560 - TensorFlow Example\n",
    "import tensorflow as tf\n",
    "\n",
    "a_560 = tf.constant([560.0, 561.0])\n",
    "b_560 = tf.constant([562.0, 563.0])\n",
    "c_560 = tf.add(a_560, b_560)\n",
    "print(f\"TensorFlow Cell 560: \", c_560.numpy())"
   ]
  },
  {
   "cell_type": "code",
   "execution_count": null,
   "id": "31ee0ca1",
   "metadata": {},
   "outputs": [],
   "source": [
    "# Cell 561 - TensorFlow Example\n",
    "import tensorflow as tf\n",
    "\n",
    "a_561 = tf.constant([561.0, 562.0])\n",
    "b_561 = tf.constant([563.0, 564.0])\n",
    "c_561 = tf.add(a_561, b_561)\n",
    "print(f\"TensorFlow Cell 561: \", c_561.numpy())"
   ]
  },
  {
   "cell_type": "code",
   "execution_count": null,
   "id": "cbee9292",
   "metadata": {},
   "outputs": [],
   "source": [
    "# Cell 562 - TensorFlow Example\n",
    "import tensorflow as tf\n",
    "\n",
    "a_562 = tf.constant([562.0, 563.0])\n",
    "b_562 = tf.constant([564.0, 565.0])\n",
    "c_562 = tf.add(a_562, b_562)\n",
    "print(f\"TensorFlow Cell 562: \", c_562.numpy())"
   ]
  },
  {
   "cell_type": "code",
   "execution_count": null,
   "id": "02566e85",
   "metadata": {},
   "outputs": [],
   "source": [
    "# Cell 563 - TensorFlow Example\n",
    "import tensorflow as tf\n",
    "\n",
    "a_563 = tf.constant([563.0, 564.0])\n",
    "b_563 = tf.constant([565.0, 566.0])\n",
    "c_563 = tf.add(a_563, b_563)\n",
    "print(f\"TensorFlow Cell 563: \", c_563.numpy())"
   ]
  },
  {
   "cell_type": "code",
   "execution_count": null,
   "id": "d37d219e",
   "metadata": {},
   "outputs": [],
   "source": [
    "# Cell 564 - TensorFlow Example\n",
    "import tensorflow as tf\n",
    "\n",
    "a_564 = tf.constant([564.0, 565.0])\n",
    "b_564 = tf.constant([566.0, 567.0])\n",
    "c_564 = tf.add(a_564, b_564)\n",
    "print(f\"TensorFlow Cell 564: \", c_564.numpy())"
   ]
  },
  {
   "cell_type": "code",
   "execution_count": null,
   "id": "f41b5341",
   "metadata": {},
   "outputs": [],
   "source": [
    "# Cell 565 - TensorFlow Example\n",
    "import tensorflow as tf\n",
    "\n",
    "a_565 = tf.constant([565.0, 566.0])\n",
    "b_565 = tf.constant([567.0, 568.0])\n",
    "c_565 = tf.add(a_565, b_565)\n",
    "print(f\"TensorFlow Cell 565: \", c_565.numpy())"
   ]
  },
  {
   "cell_type": "code",
   "execution_count": null,
   "id": "e50e9eeb",
   "metadata": {},
   "outputs": [],
   "source": [
    "# Cell 566 - TensorFlow Example\n",
    "import tensorflow as tf\n",
    "\n",
    "a_566 = tf.constant([566.0, 567.0])\n",
    "b_566 = tf.constant([568.0, 569.0])\n",
    "c_566 = tf.add(a_566, b_566)\n",
    "print(f\"TensorFlow Cell 566: \", c_566.numpy())"
   ]
  },
  {
   "cell_type": "code",
   "execution_count": null,
   "id": "31ea3667",
   "metadata": {},
   "outputs": [],
   "source": [
    "# Cell 567 - TensorFlow Example\n",
    "import tensorflow as tf\n",
    "\n",
    "a_567 = tf.constant([567.0, 568.0])\n",
    "b_567 = tf.constant([569.0, 570.0])\n",
    "c_567 = tf.add(a_567, b_567)\n",
    "print(f\"TensorFlow Cell 567: \", c_567.numpy())"
   ]
  },
  {
   "cell_type": "code",
   "execution_count": null,
   "id": "fd78f801",
   "metadata": {},
   "outputs": [],
   "source": [
    "# Cell 568 - TensorFlow Example\n",
    "import tensorflow as tf\n",
    "\n",
    "a_568 = tf.constant([568.0, 569.0])\n",
    "b_568 = tf.constant([570.0, 571.0])\n",
    "c_568 = tf.add(a_568, b_568)\n",
    "print(f\"TensorFlow Cell 568: \", c_568.numpy())"
   ]
  },
  {
   "cell_type": "code",
   "execution_count": null,
   "id": "d923ba70",
   "metadata": {},
   "outputs": [],
   "source": [
    "# Cell 569 - TensorFlow Example\n",
    "import tensorflow as tf\n",
    "\n",
    "a_569 = tf.constant([569.0, 570.0])\n",
    "b_569 = tf.constant([571.0, 572.0])\n",
    "c_569 = tf.add(a_569, b_569)\n",
    "print(f\"TensorFlow Cell 569: \", c_569.numpy())"
   ]
  },
  {
   "cell_type": "code",
   "execution_count": null,
   "id": "71b0eff8",
   "metadata": {},
   "outputs": [],
   "source": [
    "# Cell 570 - TensorFlow Example\n",
    "import tensorflow as tf\n",
    "\n",
    "a_570 = tf.constant([570.0, 571.0])\n",
    "b_570 = tf.constant([572.0, 573.0])\n",
    "c_570 = tf.add(a_570, b_570)\n",
    "print(f\"TensorFlow Cell 570: \", c_570.numpy())"
   ]
  },
  {
   "cell_type": "code",
   "execution_count": null,
   "id": "bb81ad40",
   "metadata": {},
   "outputs": [],
   "source": [
    "# Cell 571 - TensorFlow Example\n",
    "import tensorflow as tf\n",
    "\n",
    "a_571 = tf.constant([571.0, 572.0])\n",
    "b_571 = tf.constant([573.0, 574.0])\n",
    "c_571 = tf.add(a_571, b_571)\n",
    "print(f\"TensorFlow Cell 571: \", c_571.numpy())"
   ]
  },
  {
   "cell_type": "code",
   "execution_count": null,
   "id": "d4dc3ad1",
   "metadata": {},
   "outputs": [],
   "source": [
    "# Cell 572 - TensorFlow Example\n",
    "import tensorflow as tf\n",
    "\n",
    "a_572 = tf.constant([572.0, 573.0])\n",
    "b_572 = tf.constant([574.0, 575.0])\n",
    "c_572 = tf.add(a_572, b_572)\n",
    "print(f\"TensorFlow Cell 572: \", c_572.numpy())"
   ]
  },
  {
   "cell_type": "code",
   "execution_count": null,
   "id": "dcbabcfe",
   "metadata": {},
   "outputs": [],
   "source": [
    "# Cell 573 - TensorFlow Example\n",
    "import tensorflow as tf\n",
    "\n",
    "a_573 = tf.constant([573.0, 574.0])\n",
    "b_573 = tf.constant([575.0, 576.0])\n",
    "c_573 = tf.add(a_573, b_573)\n",
    "print(f\"TensorFlow Cell 573: \", c_573.numpy())"
   ]
  },
  {
   "cell_type": "code",
   "execution_count": null,
   "id": "c4b15acc",
   "metadata": {},
   "outputs": [],
   "source": [
    "# Cell 574 - TensorFlow Example\n",
    "import tensorflow as tf\n",
    "\n",
    "a_574 = tf.constant([574.0, 575.0])\n",
    "b_574 = tf.constant([576.0, 577.0])\n",
    "c_574 = tf.add(a_574, b_574)\n",
    "print(f\"TensorFlow Cell 574: \", c_574.numpy())"
   ]
  },
  {
   "cell_type": "code",
   "execution_count": null,
   "id": "a43fbbe2",
   "metadata": {},
   "outputs": [],
   "source": [
    "# Cell 575 - TensorFlow Example\n",
    "import tensorflow as tf\n",
    "\n",
    "a_575 = tf.constant([575.0, 576.0])\n",
    "b_575 = tf.constant([577.0, 578.0])\n",
    "c_575 = tf.add(a_575, b_575)\n",
    "print(f\"TensorFlow Cell 575: \", c_575.numpy())"
   ]
  },
  {
   "cell_type": "code",
   "execution_count": null,
   "id": "98ad63cc",
   "metadata": {},
   "outputs": [],
   "source": [
    "# Cell 576 - TensorFlow Example\n",
    "import tensorflow as tf\n",
    "\n",
    "a_576 = tf.constant([576.0, 577.0])\n",
    "b_576 = tf.constant([578.0, 579.0])\n",
    "c_576 = tf.add(a_576, b_576)\n",
    "print(f\"TensorFlow Cell 576: \", c_576.numpy())"
   ]
  },
  {
   "cell_type": "code",
   "execution_count": null,
   "id": "436b9324",
   "metadata": {},
   "outputs": [],
   "source": [
    "# Cell 577 - TensorFlow Example\n",
    "import tensorflow as tf\n",
    "\n",
    "a_577 = tf.constant([577.0, 578.0])\n",
    "b_577 = tf.constant([579.0, 580.0])\n",
    "c_577 = tf.add(a_577, b_577)\n",
    "print(f\"TensorFlow Cell 577: \", c_577.numpy())"
   ]
  },
  {
   "cell_type": "code",
   "execution_count": null,
   "id": "302209fc",
   "metadata": {},
   "outputs": [],
   "source": [
    "# Cell 578 - TensorFlow Example\n",
    "import tensorflow as tf\n",
    "\n",
    "a_578 = tf.constant([578.0, 579.0])\n",
    "b_578 = tf.constant([580.0, 581.0])\n",
    "c_578 = tf.add(a_578, b_578)\n",
    "print(f\"TensorFlow Cell 578: \", c_578.numpy())"
   ]
  },
  {
   "cell_type": "code",
   "execution_count": null,
   "id": "4203a158",
   "metadata": {},
   "outputs": [],
   "source": [
    "# Cell 579 - TensorFlow Example\n",
    "import tensorflow as tf\n",
    "\n",
    "a_579 = tf.constant([579.0, 580.0])\n",
    "b_579 = tf.constant([581.0, 582.0])\n",
    "c_579 = tf.add(a_579, b_579)\n",
    "print(f\"TensorFlow Cell 579: \", c_579.numpy())"
   ]
  },
  {
   "cell_type": "code",
   "execution_count": null,
   "id": "c8162d01",
   "metadata": {},
   "outputs": [],
   "source": [
    "# Cell 580 - TensorFlow Example\n",
    "import tensorflow as tf\n",
    "\n",
    "a_580 = tf.constant([580.0, 581.0])\n",
    "b_580 = tf.constant([582.0, 583.0])\n",
    "c_580 = tf.add(a_580, b_580)\n",
    "print(f\"TensorFlow Cell 580: \", c_580.numpy())"
   ]
  },
  {
   "cell_type": "code",
   "execution_count": null,
   "id": "7d4e42b7",
   "metadata": {},
   "outputs": [],
   "source": [
    "# Cell 581 - TensorFlow Example\n",
    "import tensorflow as tf\n",
    "\n",
    "a_581 = tf.constant([581.0, 582.0])\n",
    "b_581 = tf.constant([583.0, 584.0])\n",
    "c_581 = tf.add(a_581, b_581)\n",
    "print(f\"TensorFlow Cell 581: \", c_581.numpy())"
   ]
  },
  {
   "cell_type": "code",
   "execution_count": null,
   "id": "5dd58565",
   "metadata": {},
   "outputs": [],
   "source": [
    "# Cell 582 - TensorFlow Example\n",
    "import tensorflow as tf\n",
    "\n",
    "a_582 = tf.constant([582.0, 583.0])\n",
    "b_582 = tf.constant([584.0, 585.0])\n",
    "c_582 = tf.add(a_582, b_582)\n",
    "print(f\"TensorFlow Cell 582: \", c_582.numpy())"
   ]
  },
  {
   "cell_type": "code",
   "execution_count": null,
   "id": "fed08457",
   "metadata": {},
   "outputs": [],
   "source": [
    "# Cell 583 - TensorFlow Example\n",
    "import tensorflow as tf\n",
    "\n",
    "a_583 = tf.constant([583.0, 584.0])\n",
    "b_583 = tf.constant([585.0, 586.0])\n",
    "c_583 = tf.add(a_583, b_583)\n",
    "print(f\"TensorFlow Cell 583: \", c_583.numpy())"
   ]
  },
  {
   "cell_type": "code",
   "execution_count": null,
   "id": "d02429dc",
   "metadata": {},
   "outputs": [],
   "source": [
    "# Cell 584 - TensorFlow Example\n",
    "import tensorflow as tf\n",
    "\n",
    "a_584 = tf.constant([584.0, 585.0])\n",
    "b_584 = tf.constant([586.0, 587.0])\n",
    "c_584 = tf.add(a_584, b_584)\n",
    "print(f\"TensorFlow Cell 584: \", c_584.numpy())"
   ]
  },
  {
   "cell_type": "code",
   "execution_count": null,
   "id": "869faa20",
   "metadata": {},
   "outputs": [],
   "source": [
    "# Cell 585 - TensorFlow Example\n",
    "import tensorflow as tf\n",
    "\n",
    "a_585 = tf.constant([585.0, 586.0])\n",
    "b_585 = tf.constant([587.0, 588.0])\n",
    "c_585 = tf.add(a_585, b_585)\n",
    "print(f\"TensorFlow Cell 585: \", c_585.numpy())"
   ]
  },
  {
   "cell_type": "code",
   "execution_count": null,
   "id": "29efc6ca",
   "metadata": {},
   "outputs": [],
   "source": [
    "# Cell 586 - TensorFlow Example\n",
    "import tensorflow as tf\n",
    "\n",
    "a_586 = tf.constant([586.0, 587.0])\n",
    "b_586 = tf.constant([588.0, 589.0])\n",
    "c_586 = tf.add(a_586, b_586)\n",
    "print(f\"TensorFlow Cell 586: \", c_586.numpy())"
   ]
  },
  {
   "cell_type": "code",
   "execution_count": null,
   "id": "2a4fdfe7",
   "metadata": {},
   "outputs": [],
   "source": [
    "# Cell 587 - TensorFlow Example\n",
    "import tensorflow as tf\n",
    "\n",
    "a_587 = tf.constant([587.0, 588.0])\n",
    "b_587 = tf.constant([589.0, 590.0])\n",
    "c_587 = tf.add(a_587, b_587)\n",
    "print(f\"TensorFlow Cell 587: \", c_587.numpy())"
   ]
  },
  {
   "cell_type": "code",
   "execution_count": null,
   "id": "259b3243",
   "metadata": {},
   "outputs": [],
   "source": [
    "# Cell 588 - TensorFlow Example\n",
    "import tensorflow as tf\n",
    "\n",
    "a_588 = tf.constant([588.0, 589.0])\n",
    "b_588 = tf.constant([590.0, 591.0])\n",
    "c_588 = tf.add(a_588, b_588)\n",
    "print(f\"TensorFlow Cell 588: \", c_588.numpy())"
   ]
  },
  {
   "cell_type": "code",
   "execution_count": null,
   "id": "331199ac",
   "metadata": {},
   "outputs": [],
   "source": [
    "# Cell 589 - TensorFlow Example\n",
    "import tensorflow as tf\n",
    "\n",
    "a_589 = tf.constant([589.0, 590.0])\n",
    "b_589 = tf.constant([591.0, 592.0])\n",
    "c_589 = tf.add(a_589, b_589)\n",
    "print(f\"TensorFlow Cell 589: \", c_589.numpy())"
   ]
  },
  {
   "cell_type": "code",
   "execution_count": null,
   "id": "e81ea505",
   "metadata": {},
   "outputs": [],
   "source": [
    "# Cell 590 - TensorFlow Example\n",
    "import tensorflow as tf\n",
    "\n",
    "a_590 = tf.constant([590.0, 591.0])\n",
    "b_590 = tf.constant([592.0, 593.0])\n",
    "c_590 = tf.add(a_590, b_590)\n",
    "print(f\"TensorFlow Cell 590: \", c_590.numpy())"
   ]
  },
  {
   "cell_type": "code",
   "execution_count": null,
   "id": "70013ad6",
   "metadata": {},
   "outputs": [],
   "source": [
    "# Cell 591 - TensorFlow Example\n",
    "import tensorflow as tf\n",
    "\n",
    "a_591 = tf.constant([591.0, 592.0])\n",
    "b_591 = tf.constant([593.0, 594.0])\n",
    "c_591 = tf.add(a_591, b_591)\n",
    "print(f\"TensorFlow Cell 591: \", c_591.numpy())"
   ]
  },
  {
   "cell_type": "code",
   "execution_count": null,
   "id": "3389a909",
   "metadata": {},
   "outputs": [],
   "source": [
    "# Cell 592 - TensorFlow Example\n",
    "import tensorflow as tf\n",
    "\n",
    "a_592 = tf.constant([592.0, 593.0])\n",
    "b_592 = tf.constant([594.0, 595.0])\n",
    "c_592 = tf.add(a_592, b_592)\n",
    "print(f\"TensorFlow Cell 592: \", c_592.numpy())"
   ]
  },
  {
   "cell_type": "code",
   "execution_count": null,
   "id": "0d4a1561",
   "metadata": {},
   "outputs": [],
   "source": [
    "# Cell 593 - TensorFlow Example\n",
    "import tensorflow as tf\n",
    "\n",
    "a_593 = tf.constant([593.0, 594.0])\n",
    "b_593 = tf.constant([595.0, 596.0])\n",
    "c_593 = tf.add(a_593, b_593)\n",
    "print(f\"TensorFlow Cell 593: \", c_593.numpy())"
   ]
  },
  {
   "cell_type": "code",
   "execution_count": null,
   "id": "ab8c2e65",
   "metadata": {},
   "outputs": [],
   "source": [
    "# Cell 594 - TensorFlow Example\n",
    "import tensorflow as tf\n",
    "\n",
    "a_594 = tf.constant([594.0, 595.0])\n",
    "b_594 = tf.constant([596.0, 597.0])\n",
    "c_594 = tf.add(a_594, b_594)\n",
    "print(f\"TensorFlow Cell 594: \", c_594.numpy())"
   ]
  },
  {
   "cell_type": "code",
   "execution_count": null,
   "id": "41049abd",
   "metadata": {},
   "outputs": [],
   "source": [
    "# Cell 595 - TensorFlow Example\n",
    "import tensorflow as tf\n",
    "\n",
    "a_595 = tf.constant([595.0, 596.0])\n",
    "b_595 = tf.constant([597.0, 598.0])\n",
    "c_595 = tf.add(a_595, b_595)\n",
    "print(f\"TensorFlow Cell 595: \", c_595.numpy())"
   ]
  },
  {
   "cell_type": "code",
   "execution_count": null,
   "id": "ff261920",
   "metadata": {},
   "outputs": [],
   "source": [
    "# Cell 596 - TensorFlow Example\n",
    "import tensorflow as tf\n",
    "\n",
    "a_596 = tf.constant([596.0, 597.0])\n",
    "b_596 = tf.constant([598.0, 599.0])\n",
    "c_596 = tf.add(a_596, b_596)\n",
    "print(f\"TensorFlow Cell 596: \", c_596.numpy())"
   ]
  },
  {
   "cell_type": "code",
   "execution_count": null,
   "id": "0226fef7",
   "metadata": {},
   "outputs": [],
   "source": [
    "# Cell 597 - TensorFlow Example\n",
    "import tensorflow as tf\n",
    "\n",
    "a_597 = tf.constant([597.0, 598.0])\n",
    "b_597 = tf.constant([599.0, 600.0])\n",
    "c_597 = tf.add(a_597, b_597)\n",
    "print(f\"TensorFlow Cell 597: \", c_597.numpy())"
   ]
  },
  {
   "cell_type": "code",
   "execution_count": null,
   "id": "534f1137",
   "metadata": {},
   "outputs": [],
   "source": [
    "# Cell 598 - TensorFlow Example\n",
    "import tensorflow as tf\n",
    "\n",
    "a_598 = tf.constant([598.0, 599.0])\n",
    "b_598 = tf.constant([600.0, 601.0])\n",
    "c_598 = tf.add(a_598, b_598)\n",
    "print(f\"TensorFlow Cell 598: \", c_598.numpy())"
   ]
  },
  {
   "cell_type": "code",
   "execution_count": null,
   "id": "cfcba0c4",
   "metadata": {},
   "outputs": [],
   "source": [
    "# Cell 599 - TensorFlow Example\n",
    "import tensorflow as tf\n",
    "\n",
    "a_599 = tf.constant([599.0, 600.0])\n",
    "b_599 = tf.constant([601.0, 602.0])\n",
    "c_599 = tf.add(a_599, b_599)\n",
    "print(f\"TensorFlow Cell 599: \", c_599.numpy())"
   ]
  },
  {
   "cell_type": "code",
   "execution_count": null,
   "id": "a9192af3",
   "metadata": {},
   "outputs": [],
   "source": [
    "# Cell 600 - TensorFlow Example\n",
    "import tensorflow as tf\n",
    "\n",
    "a_600 = tf.constant([600.0, 601.0])\n",
    "b_600 = tf.constant([602.0, 603.0])\n",
    "c_600 = tf.add(a_600, b_600)\n",
    "print(f\"TensorFlow Cell 600: \", c_600.numpy())"
   ]
  }
 ],
 "metadata": {},
 "nbformat": 4,
 "nbformat_minor": 5
}
