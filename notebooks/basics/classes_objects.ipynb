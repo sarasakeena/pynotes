{
 "cells": [
  {
   "cell_type": "code",
   "execution_count": 128,
   "id": "467c2797",
   "metadata": {},
   "outputs": [
    {
     "name": "stdout",
     "output_type": "stream",
     "text": [
      "Sample0 Value: 0\n"
     ]
    }
   ],
   "source": [
    "# Cell 1 - instance methods\n",
    "class Sample0:\n",
    "    def __init__(self, value):\n",
    "        self.value = value\n",
    "    def display(self):\n",
    "        print(f'Sample0 Value:', self.value)\n",
    "\n",
    "obj0 = Sample0(0)\n",
    "obj0.display()"
   ]
  },
  {
   "cell_type": "code",
   "execution_count": 129,
   "id": "260e6144",
   "metadata": {},
   "outputs": [
    {
     "name": "stdout",
     "output_type": "stream",
     "text": [
      "Sample1 Value: 1\n"
     ]
    }
   ],
   "source": [
    "# Cell 2 - composition\n",
    "class Sample1:\n",
    "    def __init__(self, value):\n",
    "        self.value = value\n",
    "    def display(self):\n",
    "        print(f'Sample1 Value:', self.value)\n",
    "\n",
    "obj1 = Sample1(1)\n",
    "obj1.display()"
   ]
  },
  {
   "cell_type": "code",
   "execution_count": 130,
   "id": "19ac47d8",
   "metadata": {},
   "outputs": [
    {
     "name": "stdout",
     "output_type": "stream",
     "text": [
      "Sample2 Value: 2\n"
     ]
    }
   ],
   "source": [
    "# Cell 3 - encapsulation\n",
    "class Sample2:\n",
    "    def __init__(self, value):\n",
    "        self.value = value\n",
    "    def display(self):\n",
    "        print(f'Sample2 Value:', self.value)\n",
    "\n",
    "obj2 = Sample2(2)\n",
    "obj2.display()"
   ]
  },
  {
   "cell_type": "code",
   "execution_count": 131,
   "id": "9227b0e5",
   "metadata": {},
   "outputs": [
    {
     "name": "stdout",
     "output_type": "stream",
     "text": [
      "Sample3 Value: 3\n"
     ]
    }
   ],
   "source": [
    "# Cell 4 - encapsulation\n",
    "class Sample3:\n",
    "    def __init__(self, value):\n",
    "        self.value = value\n",
    "    def display(self):\n",
    "        print(f'Sample3 Value:', self.value)\n",
    "\n",
    "obj3 = Sample3(3)\n",
    "obj3.display()"
   ]
  },
  {
   "cell_type": "code",
   "execution_count": 132,
   "id": "487ccf10",
   "metadata": {},
   "outputs": [
    {
     "name": "stdout",
     "output_type": "stream",
     "text": [
      "Sample4 Value: 4\n"
     ]
    }
   ],
   "source": [
    "# Cell 5 - class variables\n",
    "class Sample4:\n",
    "    def __init__(self, value):\n",
    "        self.value = value\n",
    "    def display(self):\n",
    "        print(f'Sample4 Value:', self.value)\n",
    "\n",
    "obj4 = Sample4(4)\n",
    "obj4.display()"
   ]
  },
  {
   "cell_type": "code",
   "execution_count": 133,
   "id": "d64b6655",
   "metadata": {},
   "outputs": [
    {
     "name": "stdout",
     "output_type": "stream",
     "text": [
      "Sample5 Value: 5\n"
     ]
    }
   ],
   "source": [
    "# Cell 6 - instance variables\n",
    "class Sample5:\n",
    "    def __init__(self, value):\n",
    "        self.value = value\n",
    "    def display(self):\n",
    "        print(f'Sample5 Value:', self.value)\n",
    "\n",
    "obj5 = Sample5(5)\n",
    "obj5.display()"
   ]
  },
  {
   "cell_type": "code",
   "execution_count": 134,
   "id": "6921c6f6",
   "metadata": {},
   "outputs": [
    {
     "name": "stdout",
     "output_type": "stream",
     "text": [
      "Sample6 Value: 6\n"
     ]
    }
   ],
   "source": [
    "# Cell 7 - inheritance\n",
    "class Sample6:\n",
    "    def __init__(self, value):\n",
    "        self.value = value\n",
    "    def display(self):\n",
    "        print(f'Sample6 Value:', self.value)\n",
    "\n",
    "obj6 = Sample6(6)\n",
    "obj6.display()"
   ]
  },
  {
   "cell_type": "code",
   "execution_count": 135,
   "id": "f967cf2f",
   "metadata": {},
   "outputs": [
    {
     "name": "stdout",
     "output_type": "stream",
     "text": [
      "Sample7 Value: 7\n"
     ]
    }
   ],
   "source": [
    "# Cell 8 - polymorphism\n",
    "class Sample7:\n",
    "    def __init__(self, value):\n",
    "        self.value = value\n",
    "    def display(self):\n",
    "        print(f'Sample7 Value:', self.value)\n",
    "\n",
    "obj7 = Sample7(7)\n",
    "obj7.display()"
   ]
  },
  {
   "cell_type": "code",
   "execution_count": 136,
   "id": "53989898",
   "metadata": {},
   "outputs": [
    {
     "name": "stdout",
     "output_type": "stream",
     "text": [
      "Sample8 Value: 8\n"
     ]
    }
   ],
   "source": [
    "# Cell 9 - method overriding\n",
    "class Sample8:\n",
    "    def __init__(self, value):\n",
    "        self.value = value\n",
    "    def display(self):\n",
    "        print(f'Sample8 Value:', self.value)\n",
    "\n",
    "obj8 = Sample8(8)\n",
    "obj8.display()"
   ]
  },
  {
   "cell_type": "code",
   "execution_count": 137,
   "id": "b54282b6",
   "metadata": {},
   "outputs": [
    {
     "name": "stdout",
     "output_type": "stream",
     "text": [
      "Sample9 Value: 9\n"
     ]
    }
   ],
   "source": [
    "# Cell 10 - aggregation\n",
    "class Sample9:\n",
    "    def __init__(self, value):\n",
    "        self.value = value\n",
    "    def display(self):\n",
    "        print(f'Sample9 Value:', self.value)\n",
    "\n",
    "obj9 = Sample9(9)\n",
    "obj9.display()"
   ]
  },
  {
   "cell_type": "code",
   "execution_count": 138,
   "id": "c543cff6",
   "metadata": {},
   "outputs": [
    {
     "name": "stdout",
     "output_type": "stream",
     "text": [
      "Sample10 Value: 10\n"
     ]
    }
   ],
   "source": [
    "# Cell 11 - method overriding\n",
    "class Sample10:\n",
    "    def __init__(self, value):\n",
    "        self.value = value\n",
    "    def display(self):\n",
    "        print(f'Sample10 Value:', self.value)\n",
    "\n",
    "obj10 = Sample10(10)\n",
    "obj10.display()"
   ]
  },
  {
   "cell_type": "code",
   "execution_count": 139,
   "id": "e2912af1",
   "metadata": {},
   "outputs": [
    {
     "name": "stdout",
     "output_type": "stream",
     "text": [
      "Sample11 Value: 11\n"
     ]
    }
   ],
   "source": [
    "# Cell 12 - static methods\n",
    "class Sample11:\n",
    "    def __init__(self, value):\n",
    "        self.value = value\n",
    "    def display(self):\n",
    "        print(f'Sample11 Value:', self.value)\n",
    "\n",
    "obj11 = Sample11(11)\n",
    "obj11.display()"
   ]
  },
  {
   "cell_type": "code",
   "execution_count": 140,
   "id": "77170293",
   "metadata": {},
   "outputs": [
    {
     "name": "stdout",
     "output_type": "stream",
     "text": [
      "Sample12 Value: 12\n"
     ]
    }
   ],
   "source": [
    "# Cell 13 - inheritance\n",
    "class Sample12:\n",
    "    def __init__(self, value):\n",
    "        self.value = value\n",
    "    def display(self):\n",
    "        print(f'Sample12 Value:', self.value)\n",
    "\n",
    "obj12 = Sample12(12)\n",
    "obj12.display()"
   ]
  },
  {
   "cell_type": "code",
   "execution_count": 141,
   "id": "e580703f",
   "metadata": {},
   "outputs": [
    {
     "name": "stdout",
     "output_type": "stream",
     "text": [
      "Sample13 Value: 13\n"
     ]
    }
   ],
   "source": [
    "# Cell 14 - class methods\n",
    "class Sample13:\n",
    "    def __init__(self, value):\n",
    "        self.value = value\n",
    "    def display(self):\n",
    "        print(f'Sample13 Value:', self.value)\n",
    "\n",
    "obj13 = Sample13(13)\n",
    "obj13.display()"
   ]
  },
  {
   "cell_type": "code",
   "execution_count": 142,
   "id": "da5892f9",
   "metadata": {},
   "outputs": [
    {
     "name": "stdout",
     "output_type": "stream",
     "text": [
      "Sample14 Value: 14\n"
     ]
    }
   ],
   "source": [
    "# Cell 15 - multiple inheritance\n",
    "class Sample14:\n",
    "    def __init__(self, value):\n",
    "        self.value = value\n",
    "    def display(self):\n",
    "        print(f'Sample14 Value:', self.value)\n",
    "\n",
    "obj14 = Sample14(14)\n",
    "obj14.display()"
   ]
  },
  {
   "cell_type": "code",
   "execution_count": 143,
   "id": "8426ada4",
   "metadata": {},
   "outputs": [
    {
     "name": "stdout",
     "output_type": "stream",
     "text": [
      "Sample15 Value: 15\n"
     ]
    }
   ],
   "source": [
    "# Cell 16 - method overriding\n",
    "class Sample15:\n",
    "    def __init__(self, value):\n",
    "        self.value = value\n",
    "    def display(self):\n",
    "        print(f'Sample15 Value:', self.value)\n",
    "\n",
    "obj15 = Sample15(15)\n",
    "obj15.display()"
   ]
  },
  {
   "cell_type": "code",
   "execution_count": 144,
   "id": "27827fcf",
   "metadata": {},
   "outputs": [
    {
     "name": "stdout",
     "output_type": "stream",
     "text": [
      "Sample16 Value: 16\n"
     ]
    }
   ],
   "source": [
    "# Cell 17 - polymorphism\n",
    "class Sample16:\n",
    "    def __init__(self, value):\n",
    "        self.value = value\n",
    "    def display(self):\n",
    "        print(f'Sample16 Value:', self.value)\n",
    "\n",
    "obj16 = Sample16(16)\n",
    "obj16.display()"
   ]
  },
  {
   "cell_type": "code",
   "execution_count": 145,
   "id": "59c11e81",
   "metadata": {},
   "outputs": [
    {
     "name": "stdout",
     "output_type": "stream",
     "text": [
      "Sample17 Value: 17\n"
     ]
    }
   ],
   "source": [
    "# Cell 18 - static methods\n",
    "class Sample17:\n",
    "    def __init__(self, value):\n",
    "        self.value = value\n",
    "    def display(self):\n",
    "        print(f'Sample17 Value:', self.value)\n",
    "\n",
    "obj17 = Sample17(17)\n",
    "obj17.display()"
   ]
  },
  {
   "cell_type": "code",
   "execution_count": 146,
   "id": "2131907c",
   "metadata": {},
   "outputs": [
    {
     "name": "stdout",
     "output_type": "stream",
     "text": [
      "Sample18 Value: 18\n"
     ]
    }
   ],
   "source": [
    "# Cell 19 - method overriding\n",
    "class Sample18:\n",
    "    def __init__(self, value):\n",
    "        self.value = value\n",
    "    def display(self):\n",
    "        print(f'Sample18 Value:', self.value)\n",
    "\n",
    "obj18 = Sample18(18)\n",
    "obj18.display()"
   ]
  },
  {
   "cell_type": "code",
   "execution_count": 147,
   "id": "425d9536",
   "metadata": {},
   "outputs": [
    {
     "name": "stdout",
     "output_type": "stream",
     "text": [
      "Sample19 Value: 19\n"
     ]
    }
   ],
   "source": [
    "# Cell 20 - encapsulation\n",
    "class Sample19:\n",
    "    def __init__(self, value):\n",
    "        self.value = value\n",
    "    def display(self):\n",
    "        print(f'Sample19 Value:', self.value)\n",
    "\n",
    "obj19 = Sample19(19)\n",
    "obj19.display()"
   ]
  },
  {
   "cell_type": "code",
   "execution_count": 148,
   "id": "94a95b0c",
   "metadata": {},
   "outputs": [
    {
     "name": "stdout",
     "output_type": "stream",
     "text": [
      "Sample20 Value: 20\n"
     ]
    }
   ],
   "source": [
    "# Cell 21 - class methods\n",
    "class Sample20:\n",
    "    def __init__(self, value):\n",
    "        self.value = value\n",
    "    def display(self):\n",
    "        print(f'Sample20 Value:', self.value)\n",
    "\n",
    "obj20 = Sample20(20)\n",
    "obj20.display()"
   ]
  },
  {
   "cell_type": "code",
   "execution_count": 149,
   "id": "d9c53d8b",
   "metadata": {},
   "outputs": [
    {
     "name": "stdout",
     "output_type": "stream",
     "text": [
      "Sample21 Value: 21\n"
     ]
    }
   ],
   "source": [
    "# Cell 22 - instance methods\n",
    "class Sample21:\n",
    "    def __init__(self, value):\n",
    "        self.value = value\n",
    "    def display(self):\n",
    "        print(f'Sample21 Value:', self.value)\n",
    "\n",
    "obj21 = Sample21(21)\n",
    "obj21.display()"
   ]
  },
  {
   "cell_type": "code",
   "execution_count": 150,
   "id": "38421f1b",
   "metadata": {},
   "outputs": [
    {
     "name": "stdout",
     "output_type": "stream",
     "text": [
      "Sample22 Value: 22\n"
     ]
    }
   ],
   "source": [
    "# Cell 23 - polymorphism\n",
    "class Sample22:\n",
    "    def __init__(self, value):\n",
    "        self.value = value\n",
    "    def display(self):\n",
    "        print(f'Sample22 Value:', self.value)\n",
    "\n",
    "obj22 = Sample22(22)\n",
    "obj22.display()"
   ]
  },
  {
   "cell_type": "code",
   "execution_count": 151,
   "id": "6eb24bcd",
   "metadata": {},
   "outputs": [
    {
     "name": "stdout",
     "output_type": "stream",
     "text": [
      "Sample23 Value: 23\n"
     ]
    }
   ],
   "source": [
    "# Cell 24 - constructor\n",
    "class Sample23:\n",
    "    def __init__(self, value):\n",
    "        self.value = value\n",
    "    def display(self):\n",
    "        print(f'Sample23 Value:', self.value)\n",
    "\n",
    "obj23 = Sample23(23)\n",
    "obj23.display()"
   ]
  },
  {
   "cell_type": "code",
   "execution_count": 152,
   "id": "298b593a",
   "metadata": {},
   "outputs": [
    {
     "name": "stdout",
     "output_type": "stream",
     "text": [
      "Sample24 Value: 24\n"
     ]
    }
   ],
   "source": [
    "# Cell 25 - method overriding\n",
    "class Sample24:\n",
    "    def __init__(self, value):\n",
    "        self.value = value\n",
    "    def display(self):\n",
    "        print(f'Sample24 Value:', self.value)\n",
    "\n",
    "obj24 = Sample24(24)\n",
    "obj24.display()"
   ]
  },
  {
   "cell_type": "code",
   "execution_count": 153,
   "id": "f34699ff",
   "metadata": {},
   "outputs": [
    {
     "name": "stdout",
     "output_type": "stream",
     "text": [
      "Sample25 Value: 25\n"
     ]
    }
   ],
   "source": [
    "# Cell 26 - aggregation\n",
    "class Sample25:\n",
    "    def __init__(self, value):\n",
    "        self.value = value\n",
    "    def display(self):\n",
    "        print(f'Sample25 Value:', self.value)\n",
    "\n",
    "obj25 = Sample25(25)\n",
    "obj25.display()"
   ]
  },
  {
   "cell_type": "code",
   "execution_count": 154,
   "id": "b9e7493d",
   "metadata": {},
   "outputs": [
    {
     "name": "stdout",
     "output_type": "stream",
     "text": [
      "Sample26 Value: 26\n"
     ]
    }
   ],
   "source": [
    "# Cell 27 - class definition\n",
    "class Sample26:\n",
    "    def __init__(self, value):\n",
    "        self.value = value\n",
    "    def display(self):\n",
    "        print(f'Sample26 Value:', self.value)\n",
    "\n",
    "obj26 = Sample26(26)\n",
    "obj26.display()"
   ]
  },
  {
   "cell_type": "code",
   "execution_count": 155,
   "id": "26efd92f",
   "metadata": {},
   "outputs": [
    {
     "name": "stdout",
     "output_type": "stream",
     "text": [
      "Sample27 Value: 27\n"
     ]
    }
   ],
   "source": [
    "# Cell 28 - encapsulation\n",
    "class Sample27:\n",
    "    def __init__(self, value):\n",
    "        self.value = value\n",
    "    def display(self):\n",
    "        print(f'Sample27 Value:', self.value)\n",
    "\n",
    "obj27 = Sample27(27)\n",
    "obj27.display()"
   ]
  },
  {
   "cell_type": "code",
   "execution_count": 156,
   "id": "bdd88eaf",
   "metadata": {},
   "outputs": [
    {
     "name": "stdout",
     "output_type": "stream",
     "text": [
      "Sample28 Value: 28\n"
     ]
    }
   ],
   "source": [
    "# Cell 29 - multiple inheritance\n",
    "class Sample28:\n",
    "    def __init__(self, value):\n",
    "        self.value = value\n",
    "    def display(self):\n",
    "        print(f'Sample28 Value:', self.value)\n",
    "\n",
    "obj28 = Sample28(28)\n",
    "obj28.display()"
   ]
  },
  {
   "cell_type": "code",
   "execution_count": 157,
   "id": "46a2531b",
   "metadata": {},
   "outputs": [
    {
     "name": "stdout",
     "output_type": "stream",
     "text": [
      "Sample29 Value: 29\n"
     ]
    }
   ],
   "source": [
    "# Cell 30 - constructor\n",
    "class Sample29:\n",
    "    def __init__(self, value):\n",
    "        self.value = value\n",
    "    def display(self):\n",
    "        print(f'Sample29 Value:', self.value)\n",
    "\n",
    "obj29 = Sample29(29)\n",
    "obj29.display()"
   ]
  },
  {
   "cell_type": "code",
   "execution_count": 158,
   "id": "c3747d5c",
   "metadata": {},
   "outputs": [
    {
     "name": "stdout",
     "output_type": "stream",
     "text": [
      "Sample30 Value: 30\n"
     ]
    }
   ],
   "source": [
    "# Cell 31 - method overriding\n",
    "class Sample30:\n",
    "    def __init__(self, value):\n",
    "        self.value = value\n",
    "    def display(self):\n",
    "        print(f'Sample30 Value:', self.value)\n",
    "\n",
    "obj30 = Sample30(30)\n",
    "obj30.display()"
   ]
  },
  {
   "cell_type": "code",
   "execution_count": 159,
   "id": "09b9beb8",
   "metadata": {},
   "outputs": [
    {
     "name": "stdout",
     "output_type": "stream",
     "text": [
      "Sample31 Value: 31\n"
     ]
    }
   ],
   "source": [
    "# Cell 32 - class variables\n",
    "class Sample31:\n",
    "    def __init__(self, value):\n",
    "        self.value = value\n",
    "    def display(self):\n",
    "        print(f'Sample31 Value:', self.value)\n",
    "\n",
    "obj31 = Sample31(31)\n",
    "obj31.display()"
   ]
  },
  {
   "cell_type": "code",
   "execution_count": 160,
   "id": "33ca5542",
   "metadata": {},
   "outputs": [
    {
     "name": "stdout",
     "output_type": "stream",
     "text": [
      "Sample32 Value: 32\n"
     ]
    }
   ],
   "source": [
    "# Cell 33 - class definition\n",
    "class Sample32:\n",
    "    def __init__(self, value):\n",
    "        self.value = value\n",
    "    def display(self):\n",
    "        print(f'Sample32 Value:', self.value)\n",
    "\n",
    "obj32 = Sample32(32)\n",
    "obj32.display()"
   ]
  },
  {
   "cell_type": "code",
   "execution_count": 161,
   "id": "2f4dc849",
   "metadata": {},
   "outputs": [
    {
     "name": "stdout",
     "output_type": "stream",
     "text": [
      "Sample33 Value: 33\n"
     ]
    }
   ],
   "source": [
    "# Cell 34 - inheritance\n",
    "class Sample33:\n",
    "    def __init__(self, value):\n",
    "        self.value = value\n",
    "    def display(self):\n",
    "        print(f'Sample33 Value:', self.value)\n",
    "\n",
    "obj33 = Sample33(33)\n",
    "obj33.display()"
   ]
  },
  {
   "cell_type": "code",
   "execution_count": 162,
   "id": "d27ccb20",
   "metadata": {},
   "outputs": [
    {
     "name": "stdout",
     "output_type": "stream",
     "text": [
      "Sample34 Value: 34\n"
     ]
    }
   ],
   "source": [
    "# Cell 35 - class definition\n",
    "class Sample34:\n",
    "    def __init__(self, value):\n",
    "        self.value = value\n",
    "    def display(self):\n",
    "        print(f'Sample34 Value:', self.value)\n",
    "\n",
    "obj34 = Sample34(34)\n",
    "obj34.display()"
   ]
  },
  {
   "cell_type": "code",
   "execution_count": 163,
   "id": "aa05cbed",
   "metadata": {},
   "outputs": [
    {
     "name": "stdout",
     "output_type": "stream",
     "text": [
      "Sample35 Value: 35\n"
     ]
    }
   ],
   "source": [
    "# Cell 36 - composition\n",
    "class Sample35:\n",
    "    def __init__(self, value):\n",
    "        self.value = value\n",
    "    def display(self):\n",
    "        print(f'Sample35 Value:', self.value)\n",
    "\n",
    "obj35 = Sample35(35)\n",
    "obj35.display()"
   ]
  },
  {
   "cell_type": "code",
   "execution_count": 164,
   "id": "2181d385",
   "metadata": {},
   "outputs": [
    {
     "name": "stdout",
     "output_type": "stream",
     "text": [
      "Sample36 Value: 36\n"
     ]
    }
   ],
   "source": [
    "# Cell 37 - method overriding\n",
    "class Sample36:\n",
    "    def __init__(self, value):\n",
    "        self.value = value\n",
    "    def display(self):\n",
    "        print(f'Sample36 Value:', self.value)\n",
    "\n",
    "obj36 = Sample36(36)\n",
    "obj36.display()"
   ]
  },
  {
   "cell_type": "code",
   "execution_count": 165,
   "id": "92bb74c8",
   "metadata": {},
   "outputs": [
    {
     "name": "stdout",
     "output_type": "stream",
     "text": [
      "Sample37 Value: 37\n"
     ]
    }
   ],
   "source": [
    "# Cell 38 - constructor\n",
    "class Sample37:\n",
    "    def __init__(self, value):\n",
    "        self.value = value\n",
    "    def display(self):\n",
    "        print(f'Sample37 Value:', self.value)\n",
    "\n",
    "obj37 = Sample37(37)\n",
    "obj37.display()"
   ]
  },
  {
   "cell_type": "code",
   "execution_count": 166,
   "id": "6c273114",
   "metadata": {},
   "outputs": [
    {
     "name": "stdout",
     "output_type": "stream",
     "text": [
      "Sample38 Value: 38\n"
     ]
    }
   ],
   "source": [
    "# Cell 39 - method overriding\n",
    "class Sample38:\n",
    "    def __init__(self, value):\n",
    "        self.value = value\n",
    "    def display(self):\n",
    "        print(f'Sample38 Value:', self.value)\n",
    "\n",
    "obj38 = Sample38(38)\n",
    "obj38.display()"
   ]
  },
  {
   "cell_type": "code",
   "execution_count": 167,
   "id": "991164cf",
   "metadata": {},
   "outputs": [
    {
     "name": "stdout",
     "output_type": "stream",
     "text": [
      "Sample39 Value: 39\n"
     ]
    }
   ],
   "source": [
    "# Cell 40 - instance variables\n",
    "class Sample39:\n",
    "    def __init__(self, value):\n",
    "        self.value = value\n",
    "    def display(self):\n",
    "        print(f'Sample39 Value:', self.value)\n",
    "\n",
    "obj39 = Sample39(39)\n",
    "obj39.display()"
   ]
  },
  {
   "cell_type": "code",
   "execution_count": 168,
   "id": "71567dfc",
   "metadata": {},
   "outputs": [
    {
     "name": "stdout",
     "output_type": "stream",
     "text": [
      "Sample40 Value: 40\n"
     ]
    }
   ],
   "source": [
    "# Cell 41 - instance methods\n",
    "class Sample40:\n",
    "    def __init__(self, value):\n",
    "        self.value = value\n",
    "    def display(self):\n",
    "        print(f'Sample40 Value:', self.value)\n",
    "\n",
    "obj40 = Sample40(40)\n",
    "obj40.display()"
   ]
  },
  {
   "cell_type": "code",
   "execution_count": 169,
   "id": "1b74d0e4",
   "metadata": {},
   "outputs": [
    {
     "name": "stdout",
     "output_type": "stream",
     "text": [
      "Sample41 Value: 41\n"
     ]
    }
   ],
   "source": [
    "# Cell 42 - encapsulation\n",
    "class Sample41:\n",
    "    def __init__(self, value):\n",
    "        self.value = value\n",
    "    def display(self):\n",
    "        print(f'Sample41 Value:', self.value)\n",
    "\n",
    "obj41 = Sample41(41)\n",
    "obj41.display()"
   ]
  },
  {
   "cell_type": "code",
   "execution_count": 170,
   "id": "9514f2fd",
   "metadata": {},
   "outputs": [
    {
     "name": "stdout",
     "output_type": "stream",
     "text": [
      "Sample42 Value: 42\n"
     ]
    }
   ],
   "source": [
    "# Cell 43 - encapsulation\n",
    "class Sample42:\n",
    "    def __init__(self, value):\n",
    "        self.value = value\n",
    "    def display(self):\n",
    "        print(f'Sample42 Value:', self.value)\n",
    "\n",
    "obj42 = Sample42(42)\n",
    "obj42.display()"
   ]
  },
  {
   "cell_type": "code",
   "execution_count": 171,
   "id": "02da2104",
   "metadata": {},
   "outputs": [
    {
     "name": "stdout",
     "output_type": "stream",
     "text": [
      "Sample43 Value: 43\n"
     ]
    }
   ],
   "source": [
    "# Cell 44 - static methods\n",
    "class Sample43:\n",
    "    def __init__(self, value):\n",
    "        self.value = value\n",
    "    def display(self):\n",
    "        print(f'Sample43 Value:', self.value)\n",
    "\n",
    "obj43 = Sample43(43)\n",
    "obj43.display()"
   ]
  },
  {
   "cell_type": "code",
   "execution_count": 172,
   "id": "146cd25c",
   "metadata": {},
   "outputs": [
    {
     "name": "stdout",
     "output_type": "stream",
     "text": [
      "Sample44 Value: 44\n"
     ]
    }
   ],
   "source": [
    "# Cell 45 - class methods\n",
    "class Sample44:\n",
    "    def __init__(self, value):\n",
    "        self.value = value\n",
    "    def display(self):\n",
    "        print(f'Sample44 Value:', self.value)\n",
    "\n",
    "obj44 = Sample44(44)\n",
    "obj44.display()"
   ]
  },
  {
   "cell_type": "code",
   "execution_count": 173,
   "id": "52875b54",
   "metadata": {},
   "outputs": [
    {
     "name": "stdout",
     "output_type": "stream",
     "text": [
      "Sample45 Value: 45\n"
     ]
    }
   ],
   "source": [
    "# Cell 46 - aggregation\n",
    "class Sample45:\n",
    "    def __init__(self, value):\n",
    "        self.value = value\n",
    "    def display(self):\n",
    "        print(f'Sample45 Value:', self.value)\n",
    "\n",
    "obj45 = Sample45(45)\n",
    "obj45.display()"
   ]
  },
  {
   "cell_type": "code",
   "execution_count": 174,
   "id": "a726a57d",
   "metadata": {},
   "outputs": [
    {
     "name": "stdout",
     "output_type": "stream",
     "text": [
      "Sample46 Value: 46\n"
     ]
    }
   ],
   "source": [
    "# Cell 47 - multiple inheritance\n",
    "class Sample46:\n",
    "    def __init__(self, value):\n",
    "        self.value = value\n",
    "    def display(self):\n",
    "        print(f'Sample46 Value:', self.value)\n",
    "\n",
    "obj46 = Sample46(46)\n",
    "obj46.display()"
   ]
  },
  {
   "cell_type": "code",
   "execution_count": 175,
   "id": "f905bcc6",
   "metadata": {},
   "outputs": [
    {
     "name": "stdout",
     "output_type": "stream",
     "text": [
      "Sample47 Value: 47\n"
     ]
    }
   ],
   "source": [
    "# Cell 48 - dunder methods\n",
    "class Sample47:\n",
    "    def __init__(self, value):\n",
    "        self.value = value\n",
    "    def display(self):\n",
    "        print(f'Sample47 Value:', self.value)\n",
    "\n",
    "obj47 = Sample47(47)\n",
    "obj47.display()"
   ]
  },
  {
   "cell_type": "code",
   "execution_count": 176,
   "id": "9dd34e83",
   "metadata": {},
   "outputs": [
    {
     "name": "stdout",
     "output_type": "stream",
     "text": [
      "Sample48 Value: 48\n"
     ]
    }
   ],
   "source": [
    "# Cell 49 - multiple inheritance\n",
    "class Sample48:\n",
    "    def __init__(self, value):\n",
    "        self.value = value\n",
    "    def display(self):\n",
    "        print(f'Sample48 Value:', self.value)\n",
    "\n",
    "obj48 = Sample48(48)\n",
    "obj48.display()"
   ]
  },
  {
   "cell_type": "code",
   "execution_count": 177,
   "id": "bad0c8c3",
   "metadata": {},
   "outputs": [
    {
     "name": "stdout",
     "output_type": "stream",
     "text": [
      "Sample49 Value: 49\n"
     ]
    }
   ],
   "source": [
    "# Cell 50 - polymorphism\n",
    "class Sample49:\n",
    "    def __init__(self, value):\n",
    "        self.value = value\n",
    "    def display(self):\n",
    "        print(f'Sample49 Value:', self.value)\n",
    "\n",
    "obj49 = Sample49(49)\n",
    "obj49.display()"
   ]
  },
  {
   "cell_type": "code",
   "execution_count": 178,
   "id": "4f02eb94",
   "metadata": {},
   "outputs": [
    {
     "name": "stdout",
     "output_type": "stream",
     "text": [
      "Sample50 Value: 50\n"
     ]
    }
   ],
   "source": [
    "# Cell 51 - composition\n",
    "class Sample50:\n",
    "    def __init__(self, value):\n",
    "        self.value = value\n",
    "    def display(self):\n",
    "        print(f'Sample50 Value:', self.value)\n",
    "\n",
    "obj50 = Sample50(50)\n",
    "obj50.display()"
   ]
  },
  {
   "cell_type": "code",
   "execution_count": 179,
   "id": "81943a44",
   "metadata": {},
   "outputs": [
    {
     "name": "stdout",
     "output_type": "stream",
     "text": [
      "Sample51 Value: 51\n"
     ]
    }
   ],
   "source": [
    "# Cell 52 - instance variables\n",
    "class Sample51:\n",
    "    def __init__(self, value):\n",
    "        self.value = value\n",
    "    def display(self):\n",
    "        print(f'Sample51 Value:', self.value)\n",
    "\n",
    "obj51 = Sample51(51)\n",
    "obj51.display()"
   ]
  },
  {
   "cell_type": "code",
   "execution_count": 180,
   "id": "3405720e",
   "metadata": {},
   "outputs": [
    {
     "name": "stdout",
     "output_type": "stream",
     "text": [
      "Sample52 Value: 52\n"
     ]
    }
   ],
   "source": [
    "# Cell 53 - class methods\n",
    "class Sample52:\n",
    "    def __init__(self, value):\n",
    "        self.value = value\n",
    "    def display(self):\n",
    "        print(f'Sample52 Value:', self.value)\n",
    "\n",
    "obj52 = Sample52(52)\n",
    "obj52.display()"
   ]
  },
  {
   "cell_type": "code",
   "execution_count": 181,
   "id": "c8b3ca3c",
   "metadata": {},
   "outputs": [
    {
     "name": "stdout",
     "output_type": "stream",
     "text": [
      "Sample53 Value: 53\n"
     ]
    }
   ],
   "source": [
    "# Cell 54 - polymorphism\n",
    "class Sample53:\n",
    "    def __init__(self, value):\n",
    "        self.value = value\n",
    "    def display(self):\n",
    "        print(f'Sample53 Value:', self.value)\n",
    "\n",
    "obj53 = Sample53(53)\n",
    "obj53.display()"
   ]
  },
  {
   "cell_type": "code",
   "execution_count": 182,
   "id": "8d89fc34",
   "metadata": {},
   "outputs": [
    {
     "name": "stdout",
     "output_type": "stream",
     "text": [
      "Sample54 Value: 54\n"
     ]
    }
   ],
   "source": [
    "# Cell 55 - inheritance\n",
    "class Sample54:\n",
    "    def __init__(self, value):\n",
    "        self.value = value\n",
    "    def display(self):\n",
    "        print(f'Sample54 Value:', self.value)\n",
    "\n",
    "obj54 = Sample54(54)\n",
    "obj54.display()"
   ]
  },
  {
   "cell_type": "code",
   "execution_count": 183,
   "id": "08e23412",
   "metadata": {},
   "outputs": [
    {
     "name": "stdout",
     "output_type": "stream",
     "text": [
      "Sample55 Value: 55\n"
     ]
    }
   ],
   "source": [
    "# Cell 56 - multiple inheritance\n",
    "class Sample55:\n",
    "    def __init__(self, value):\n",
    "        self.value = value\n",
    "    def display(self):\n",
    "        print(f'Sample55 Value:', self.value)\n",
    "\n",
    "obj55 = Sample55(55)\n",
    "obj55.display()"
   ]
  },
  {
   "cell_type": "code",
   "execution_count": 184,
   "id": "8d99050c",
   "metadata": {},
   "outputs": [
    {
     "name": "stdout",
     "output_type": "stream",
     "text": [
      "Sample56 Value: 56\n"
     ]
    }
   ],
   "source": [
    "# Cell 57 - class methods\n",
    "class Sample56:\n",
    "    def __init__(self, value):\n",
    "        self.value = value\n",
    "    def display(self):\n",
    "        print(f'Sample56 Value:', self.value)\n",
    "\n",
    "obj56 = Sample56(56)\n",
    "obj56.display()"
   ]
  },
  {
   "cell_type": "code",
   "execution_count": 185,
   "id": "4c00905b",
   "metadata": {},
   "outputs": [
    {
     "name": "stdout",
     "output_type": "stream",
     "text": [
      "Sample57 Value: 57\n"
     ]
    }
   ],
   "source": [
    "# Cell 58 - polymorphism\n",
    "class Sample57:\n",
    "    def __init__(self, value):\n",
    "        self.value = value\n",
    "    def display(self):\n",
    "        print(f'Sample57 Value:', self.value)\n",
    "\n",
    "obj57 = Sample57(57)\n",
    "obj57.display()"
   ]
  },
  {
   "cell_type": "code",
   "execution_count": 186,
   "id": "0e2b9c92",
   "metadata": {},
   "outputs": [
    {
     "name": "stdout",
     "output_type": "stream",
     "text": [
      "Sample58 Value: 58\n"
     ]
    }
   ],
   "source": [
    "# Cell 59 - class definition\n",
    "class Sample58:\n",
    "    def __init__(self, value):\n",
    "        self.value = value\n",
    "    def display(self):\n",
    "        print(f'Sample58 Value:', self.value)\n",
    "\n",
    "obj58 = Sample58(58)\n",
    "obj58.display()"
   ]
  },
  {
   "cell_type": "code",
   "execution_count": 187,
   "id": "91f5605a",
   "metadata": {},
   "outputs": [
    {
     "name": "stdout",
     "output_type": "stream",
     "text": [
      "Sample59 Value: 59\n"
     ]
    }
   ],
   "source": [
    "# Cell 60 - class definition\n",
    "class Sample59:\n",
    "    def __init__(self, value):\n",
    "        self.value = value\n",
    "    def display(self):\n",
    "        print(f'Sample59 Value:', self.value)\n",
    "\n",
    "obj59 = Sample59(59)\n",
    "obj59.display()"
   ]
  },
  {
   "cell_type": "code",
   "execution_count": 188,
   "id": "49eeb333",
   "metadata": {},
   "outputs": [
    {
     "name": "stdout",
     "output_type": "stream",
     "text": [
      "Sample60 Value: 60\n"
     ]
    }
   ],
   "source": [
    "# Cell 61 - instance methods\n",
    "class Sample60:\n",
    "    def __init__(self, value):\n",
    "        self.value = value\n",
    "    def display(self):\n",
    "        print(f'Sample60 Value:', self.value)\n",
    "\n",
    "obj60 = Sample60(60)\n",
    "obj60.display()"
   ]
  },
  {
   "cell_type": "code",
   "execution_count": 189,
   "id": "9dc36966",
   "metadata": {},
   "outputs": [
    {
     "name": "stdout",
     "output_type": "stream",
     "text": [
      "Sample61 Value: 61\n"
     ]
    }
   ],
   "source": [
    "# Cell 62 - instance variables\n",
    "class Sample61:\n",
    "    def __init__(self, value):\n",
    "        self.value = value\n",
    "    def display(self):\n",
    "        print(f'Sample61 Value:', self.value)\n",
    "\n",
    "obj61 = Sample61(61)\n",
    "obj61.display()"
   ]
  },
  {
   "cell_type": "code",
   "execution_count": 190,
   "id": "e014bdc5",
   "metadata": {},
   "outputs": [
    {
     "name": "stdout",
     "output_type": "stream",
     "text": [
      "Sample62 Value: 62\n"
     ]
    }
   ],
   "source": [
    "# Cell 63 - multiple inheritance\n",
    "class Sample62:\n",
    "    def __init__(self, value):\n",
    "        self.value = value\n",
    "    def display(self):\n",
    "        print(f'Sample62 Value:', self.value)\n",
    "\n",
    "obj62 = Sample62(62)\n",
    "obj62.display()"
   ]
  },
  {
   "cell_type": "code",
   "execution_count": 191,
   "id": "01bdb7af",
   "metadata": {},
   "outputs": [
    {
     "name": "stdout",
     "output_type": "stream",
     "text": [
      "Sample63 Value: 63\n"
     ]
    }
   ],
   "source": [
    "# Cell 64 - multiple inheritance\n",
    "class Sample63:\n",
    "    def __init__(self, value):\n",
    "        self.value = value\n",
    "    def display(self):\n",
    "        print(f'Sample63 Value:', self.value)\n",
    "\n",
    "obj63 = Sample63(63)\n",
    "obj63.display()"
   ]
  },
  {
   "cell_type": "code",
   "execution_count": 192,
   "id": "e2dc22f8",
   "metadata": {},
   "outputs": [
    {
     "name": "stdout",
     "output_type": "stream",
     "text": [
      "Sample64 Value: 64\n"
     ]
    }
   ],
   "source": [
    "# Cell 65 - inheritance\n",
    "class Sample64:\n",
    "    def __init__(self, value):\n",
    "        self.value = value\n",
    "    def display(self):\n",
    "        print(f'Sample64 Value:', self.value)\n",
    "\n",
    "obj64 = Sample64(64)\n",
    "obj64.display()"
   ]
  },
  {
   "cell_type": "code",
   "execution_count": 193,
   "id": "6f29b26f",
   "metadata": {},
   "outputs": [
    {
     "name": "stdout",
     "output_type": "stream",
     "text": [
      "Sample65 Value: 65\n"
     ]
    }
   ],
   "source": [
    "# Cell 66 - method overriding\n",
    "class Sample65:\n",
    "    def __init__(self, value):\n",
    "        self.value = value\n",
    "    def display(self):\n",
    "        print(f'Sample65 Value:', self.value)\n",
    "\n",
    "obj65 = Sample65(65)\n",
    "obj65.display()"
   ]
  },
  {
   "cell_type": "code",
   "execution_count": 194,
   "id": "f3804a9a",
   "metadata": {},
   "outputs": [
    {
     "name": "stdout",
     "output_type": "stream",
     "text": [
      "Sample66 Value: 66\n"
     ]
    }
   ],
   "source": [
    "# Cell 67 - aggregation\n",
    "class Sample66:\n",
    "    def __init__(self, value):\n",
    "        self.value = value\n",
    "    def display(self):\n",
    "        print(f'Sample66 Value:', self.value)\n",
    "\n",
    "obj66 = Sample66(66)\n",
    "obj66.display()"
   ]
  },
  {
   "cell_type": "code",
   "execution_count": 195,
   "id": "c1247031",
   "metadata": {},
   "outputs": [
    {
     "name": "stdout",
     "output_type": "stream",
     "text": [
      "Sample67 Value: 67\n"
     ]
    }
   ],
   "source": [
    "# Cell 68 - instance methods\n",
    "class Sample67:\n",
    "    def __init__(self, value):\n",
    "        self.value = value\n",
    "    def display(self):\n",
    "        print(f'Sample67 Value:', self.value)\n",
    "\n",
    "obj67 = Sample67(67)\n",
    "obj67.display()"
   ]
  },
  {
   "cell_type": "code",
   "execution_count": 196,
   "id": "57cdef5f",
   "metadata": {},
   "outputs": [
    {
     "name": "stdout",
     "output_type": "stream",
     "text": [
      "Sample68 Value: 68\n"
     ]
    }
   ],
   "source": [
    "# Cell 69 - multiple inheritance\n",
    "class Sample68:\n",
    "    def __init__(self, value):\n",
    "        self.value = value\n",
    "    def display(self):\n",
    "        print(f'Sample68 Value:', self.value)\n",
    "\n",
    "obj68 = Sample68(68)\n",
    "obj68.display()"
   ]
  },
  {
   "cell_type": "code",
   "execution_count": 197,
   "id": "2c53df0c",
   "metadata": {},
   "outputs": [
    {
     "name": "stdout",
     "output_type": "stream",
     "text": [
      "Sample69 Value: 69\n"
     ]
    }
   ],
   "source": [
    "# Cell 70 - multiple inheritance\n",
    "class Sample69:\n",
    "    def __init__(self, value):\n",
    "        self.value = value\n",
    "    def display(self):\n",
    "        print(f'Sample69 Value:', self.value)\n",
    "\n",
    "obj69 = Sample69(69)\n",
    "obj69.display()"
   ]
  },
  {
   "cell_type": "code",
   "execution_count": 198,
   "id": "71d1e5ae",
   "metadata": {},
   "outputs": [
    {
     "name": "stdout",
     "output_type": "stream",
     "text": [
      "Sample70 Value: 70\n"
     ]
    }
   ],
   "source": [
    "# Cell 71 - class methods\n",
    "class Sample70:\n",
    "    def __init__(self, value):\n",
    "        self.value = value\n",
    "    def display(self):\n",
    "        print(f'Sample70 Value:', self.value)\n",
    "\n",
    "obj70 = Sample70(70)\n",
    "obj70.display()"
   ]
  },
  {
   "cell_type": "code",
   "execution_count": 199,
   "id": "bf77bb86",
   "metadata": {},
   "outputs": [
    {
     "name": "stdout",
     "output_type": "stream",
     "text": [
      "Sample71 Value: 71\n"
     ]
    }
   ],
   "source": [
    "# Cell 72 - instance methods\n",
    "class Sample71:\n",
    "    def __init__(self, value):\n",
    "        self.value = value\n",
    "    def display(self):\n",
    "        print(f'Sample71 Value:', self.value)\n",
    "\n",
    "obj71 = Sample71(71)\n",
    "obj71.display()"
   ]
  },
  {
   "cell_type": "code",
   "execution_count": 200,
   "id": "a3bb4629",
   "metadata": {},
   "outputs": [
    {
     "name": "stdout",
     "output_type": "stream",
     "text": [
      "Sample72 Value: 72\n"
     ]
    }
   ],
   "source": [
    "# Cell 73 - instance methods\n",
    "class Sample72:\n",
    "    def __init__(self, value):\n",
    "        self.value = value\n",
    "    def display(self):\n",
    "        print(f'Sample72 Value:', self.value)\n",
    "\n",
    "obj72 = Sample72(72)\n",
    "obj72.display()"
   ]
  },
  {
   "cell_type": "code",
   "execution_count": 201,
   "id": "73f2d32c",
   "metadata": {},
   "outputs": [
    {
     "name": "stdout",
     "output_type": "stream",
     "text": [
      "Sample73 Value: 73\n"
     ]
    }
   ],
   "source": [
    "# Cell 74 - instance methods\n",
    "class Sample73:\n",
    "    def __init__(self, value):\n",
    "        self.value = value\n",
    "    def display(self):\n",
    "        print(f'Sample73 Value:', self.value)\n",
    "\n",
    "obj73 = Sample73(73)\n",
    "obj73.display()"
   ]
  },
  {
   "cell_type": "code",
   "execution_count": 202,
   "id": "dadd6f38",
   "metadata": {},
   "outputs": [
    {
     "name": "stdout",
     "output_type": "stream",
     "text": [
      "Sample74 Value: 74\n"
     ]
    }
   ],
   "source": [
    "# Cell 75 - encapsulation\n",
    "class Sample74:\n",
    "    def __init__(self, value):\n",
    "        self.value = value\n",
    "    def display(self):\n",
    "        print(f'Sample74 Value:', self.value)\n",
    "\n",
    "obj74 = Sample74(74)\n",
    "obj74.display()"
   ]
  },
  {
   "cell_type": "code",
   "execution_count": 203,
   "id": "a934507e",
   "metadata": {},
   "outputs": [
    {
     "name": "stdout",
     "output_type": "stream",
     "text": [
      "Sample75 Value: 75\n"
     ]
    }
   ],
   "source": [
    "# Cell 76 - encapsulation\n",
    "class Sample75:\n",
    "    def __init__(self, value):\n",
    "        self.value = value\n",
    "    def display(self):\n",
    "        print(f'Sample75 Value:', self.value)\n",
    "\n",
    "obj75 = Sample75(75)\n",
    "obj75.display()"
   ]
  },
  {
   "cell_type": "code",
   "execution_count": 204,
   "id": "605b15f8",
   "metadata": {},
   "outputs": [
    {
     "name": "stdout",
     "output_type": "stream",
     "text": [
      "Sample76 Value: 76\n"
     ]
    }
   ],
   "source": [
    "# Cell 77 - inheritance\n",
    "class Sample76:\n",
    "    def __init__(self, value):\n",
    "        self.value = value\n",
    "    def display(self):\n",
    "        print(f'Sample76 Value:', self.value)\n",
    "\n",
    "obj76 = Sample76(76)\n",
    "obj76.display()"
   ]
  },
  {
   "cell_type": "code",
   "execution_count": 205,
   "id": "78b63410",
   "metadata": {},
   "outputs": [
    {
     "name": "stdout",
     "output_type": "stream",
     "text": [
      "Sample77 Value: 77\n"
     ]
    }
   ],
   "source": [
    "# Cell 78 - instance variables\n",
    "class Sample77:\n",
    "    def __init__(self, value):\n",
    "        self.value = value\n",
    "    def display(self):\n",
    "        print(f'Sample77 Value:', self.value)\n",
    "\n",
    "obj77 = Sample77(77)\n",
    "obj77.display()"
   ]
  },
  {
   "cell_type": "code",
   "execution_count": 206,
   "id": "84618294",
   "metadata": {},
   "outputs": [
    {
     "name": "stdout",
     "output_type": "stream",
     "text": [
      "Sample78 Value: 78\n"
     ]
    }
   ],
   "source": [
    "# Cell 79 - polymorphism\n",
    "class Sample78:\n",
    "    def __init__(self, value):\n",
    "        self.value = value\n",
    "    def display(self):\n",
    "        print(f'Sample78 Value:', self.value)\n",
    "\n",
    "obj78 = Sample78(78)\n",
    "obj78.display()"
   ]
  },
  {
   "cell_type": "code",
   "execution_count": 207,
   "id": "31e51f92",
   "metadata": {},
   "outputs": [
    {
     "name": "stdout",
     "output_type": "stream",
     "text": [
      "Sample79 Value: 79\n"
     ]
    }
   ],
   "source": [
    "# Cell 80 - class definition\n",
    "class Sample79:\n",
    "    def __init__(self, value):\n",
    "        self.value = value\n",
    "    def display(self):\n",
    "        print(f'Sample79 Value:', self.value)\n",
    "\n",
    "obj79 = Sample79(79)\n",
    "obj79.display()"
   ]
  },
  {
   "cell_type": "code",
   "execution_count": 208,
   "id": "e161f0a2",
   "metadata": {},
   "outputs": [
    {
     "name": "stdout",
     "output_type": "stream",
     "text": [
      "Sample80 Value: 80\n"
     ]
    }
   ],
   "source": [
    "# Cell 81 - inheritance\n",
    "class Sample80:\n",
    "    def __init__(self, value):\n",
    "        self.value = value\n",
    "    def display(self):\n",
    "        print(f'Sample80 Value:', self.value)\n",
    "\n",
    "obj80 = Sample80(80)\n",
    "obj80.display()"
   ]
  },
  {
   "cell_type": "code",
   "execution_count": 209,
   "id": "d16d2082",
   "metadata": {},
   "outputs": [
    {
     "name": "stdout",
     "output_type": "stream",
     "text": [
      "Sample81 Value: 81\n"
     ]
    }
   ],
   "source": [
    "# Cell 82 - static methods\n",
    "class Sample81:\n",
    "    def __init__(self, value):\n",
    "        self.value = value\n",
    "    def display(self):\n",
    "        print(f'Sample81 Value:', self.value)\n",
    "\n",
    "obj81 = Sample81(81)\n",
    "obj81.display()"
   ]
  },
  {
   "cell_type": "code",
   "execution_count": 210,
   "id": "af879e17",
   "metadata": {},
   "outputs": [
    {
     "name": "stdout",
     "output_type": "stream",
     "text": [
      "Sample82 Value: 82\n"
     ]
    }
   ],
   "source": [
    "# Cell 83 - multiple inheritance\n",
    "class Sample82:\n",
    "    def __init__(self, value):\n",
    "        self.value = value\n",
    "    def display(self):\n",
    "        print(f'Sample82 Value:', self.value)\n",
    "\n",
    "obj82 = Sample82(82)\n",
    "obj82.display()"
   ]
  },
  {
   "cell_type": "code",
   "execution_count": 211,
   "id": "403813d6",
   "metadata": {},
   "outputs": [
    {
     "name": "stdout",
     "output_type": "stream",
     "text": [
      "Sample83 Value: 83\n"
     ]
    }
   ],
   "source": [
    "# Cell 84 - class variables\n",
    "class Sample83:\n",
    "    def __init__(self, value):\n",
    "        self.value = value\n",
    "    def display(self):\n",
    "        print(f'Sample83 Value:', self.value)\n",
    "\n",
    "obj83 = Sample83(83)\n",
    "obj83.display()"
   ]
  },
  {
   "cell_type": "code",
   "execution_count": 212,
   "id": "1bb6d8fc",
   "metadata": {},
   "outputs": [
    {
     "name": "stdout",
     "output_type": "stream",
     "text": [
      "Sample84 Value: 84\n"
     ]
    }
   ],
   "source": [
    "# Cell 85 - constructor\n",
    "class Sample84:\n",
    "    def __init__(self, value):\n",
    "        self.value = value\n",
    "    def display(self):\n",
    "        print(f'Sample84 Value:', self.value)\n",
    "\n",
    "obj84 = Sample84(84)\n",
    "obj84.display()"
   ]
  },
  {
   "cell_type": "code",
   "execution_count": 213,
   "id": "8f0b78b6",
   "metadata": {},
   "outputs": [
    {
     "name": "stdout",
     "output_type": "stream",
     "text": [
      "Sample85 Value: 85\n"
     ]
    }
   ],
   "source": [
    "# Cell 86 - composition\n",
    "class Sample85:\n",
    "    def __init__(self, value):\n",
    "        self.value = value\n",
    "    def display(self):\n",
    "        print(f'Sample85 Value:', self.value)\n",
    "\n",
    "obj85 = Sample85(85)\n",
    "obj85.display()"
   ]
  },
  {
   "cell_type": "code",
   "execution_count": 214,
   "id": "db83b5f1",
   "metadata": {},
   "outputs": [
    {
     "name": "stdout",
     "output_type": "stream",
     "text": [
      "Sample86 Value: 86\n"
     ]
    }
   ],
   "source": [
    "# Cell 87 - instance methods\n",
    "class Sample86:\n",
    "    def __init__(self, value):\n",
    "        self.value = value\n",
    "    def display(self):\n",
    "        print(f'Sample86 Value:', self.value)\n",
    "\n",
    "obj86 = Sample86(86)\n",
    "obj86.display()"
   ]
  },
  {
   "cell_type": "code",
   "execution_count": 215,
   "id": "b0064645",
   "metadata": {},
   "outputs": [
    {
     "name": "stdout",
     "output_type": "stream",
     "text": [
      "Sample87 Value: 87\n"
     ]
    }
   ],
   "source": [
    "# Cell 88 - method overriding\n",
    "class Sample87:\n",
    "    def __init__(self, value):\n",
    "        self.value = value\n",
    "    def display(self):\n",
    "        print(f'Sample87 Value:', self.value)\n",
    "\n",
    "obj87 = Sample87(87)\n",
    "obj87.display()"
   ]
  },
  {
   "cell_type": "code",
   "execution_count": 216,
   "id": "8ba7cb65",
   "metadata": {},
   "outputs": [
    {
     "name": "stdout",
     "output_type": "stream",
     "text": [
      "Sample88 Value: 88\n"
     ]
    }
   ],
   "source": [
    "# Cell 89 - constructor\n",
    "class Sample88:\n",
    "    def __init__(self, value):\n",
    "        self.value = value\n",
    "    def display(self):\n",
    "        print(f'Sample88 Value:', self.value)\n",
    "\n",
    "obj88 = Sample88(88)\n",
    "obj88.display()"
   ]
  },
  {
   "cell_type": "code",
   "execution_count": 217,
   "id": "acfd5d96",
   "metadata": {},
   "outputs": [
    {
     "name": "stdout",
     "output_type": "stream",
     "text": [
      "Sample89 Value: 89\n"
     ]
    }
   ],
   "source": [
    "# Cell 90 - static methods\n",
    "class Sample89:\n",
    "    def __init__(self, value):\n",
    "        self.value = value\n",
    "    def display(self):\n",
    "        print(f'Sample89 Value:', self.value)\n",
    "\n",
    "obj89 = Sample89(89)\n",
    "obj89.display()"
   ]
  },
  {
   "cell_type": "code",
   "execution_count": 218,
   "id": "7aa1bc36",
   "metadata": {},
   "outputs": [
    {
     "name": "stdout",
     "output_type": "stream",
     "text": [
      "Sample90 Value: 90\n"
     ]
    }
   ],
   "source": [
    "# Cell 91 - static methods\n",
    "class Sample90:\n",
    "    def __init__(self, value):\n",
    "        self.value = value\n",
    "    def display(self):\n",
    "        print(f'Sample90 Value:', self.value)\n",
    "\n",
    "obj90 = Sample90(90)\n",
    "obj90.display()"
   ]
  },
  {
   "cell_type": "code",
   "execution_count": 219,
   "id": "90035067",
   "metadata": {},
   "outputs": [
    {
     "name": "stdout",
     "output_type": "stream",
     "text": [
      "Sample91 Value: 91\n"
     ]
    }
   ],
   "source": [
    "# Cell 92 - polymorphism\n",
    "class Sample91:\n",
    "    def __init__(self, value):\n",
    "        self.value = value\n",
    "    def display(self):\n",
    "        print(f'Sample91 Value:', self.value)\n",
    "\n",
    "obj91 = Sample91(91)\n",
    "obj91.display()"
   ]
  },
  {
   "cell_type": "code",
   "execution_count": 220,
   "id": "ed827f45",
   "metadata": {},
   "outputs": [
    {
     "name": "stdout",
     "output_type": "stream",
     "text": [
      "Sample92 Value: 92\n"
     ]
    }
   ],
   "source": [
    "# Cell 93 - constructor\n",
    "class Sample92:\n",
    "    def __init__(self, value):\n",
    "        self.value = value\n",
    "    def display(self):\n",
    "        print(f'Sample92 Value:', self.value)\n",
    "\n",
    "obj92 = Sample92(92)\n",
    "obj92.display()"
   ]
  },
  {
   "cell_type": "code",
   "execution_count": 221,
   "id": "758e98c9",
   "metadata": {},
   "outputs": [
    {
     "name": "stdout",
     "output_type": "stream",
     "text": [
      "Sample93 Value: 93\n"
     ]
    }
   ],
   "source": [
    "# Cell 94 - encapsulation\n",
    "class Sample93:\n",
    "    def __init__(self, value):\n",
    "        self.value = value\n",
    "    def display(self):\n",
    "        print(f'Sample93 Value:', self.value)\n",
    "\n",
    "obj93 = Sample93(93)\n",
    "obj93.display()"
   ]
  },
  {
   "cell_type": "code",
   "execution_count": 222,
   "id": "1cc142b5",
   "metadata": {},
   "outputs": [
    {
     "name": "stdout",
     "output_type": "stream",
     "text": [
      "Sample94 Value: 94\n"
     ]
    }
   ],
   "source": [
    "# Cell 95 - encapsulation\n",
    "class Sample94:\n",
    "    def __init__(self, value):\n",
    "        self.value = value\n",
    "    def display(self):\n",
    "        print(f'Sample94 Value:', self.value)\n",
    "\n",
    "obj94 = Sample94(94)\n",
    "obj94.display()"
   ]
  },
  {
   "cell_type": "code",
   "execution_count": 223,
   "id": "ae6ffa69",
   "metadata": {},
   "outputs": [
    {
     "name": "stdout",
     "output_type": "stream",
     "text": [
      "Sample95 Value: 95\n"
     ]
    }
   ],
   "source": [
    "# Cell 96 - encapsulation\n",
    "class Sample95:\n",
    "    def __init__(self, value):\n",
    "        self.value = value\n",
    "    def display(self):\n",
    "        print(f'Sample95 Value:', self.value)\n",
    "\n",
    "obj95 = Sample95(95)\n",
    "obj95.display()"
   ]
  },
  {
   "cell_type": "code",
   "execution_count": 224,
   "id": "87cce797",
   "metadata": {},
   "outputs": [
    {
     "name": "stdout",
     "output_type": "stream",
     "text": [
      "Sample96 Value: 96\n"
     ]
    }
   ],
   "source": [
    "# Cell 97 - polymorphism\n",
    "class Sample96:\n",
    "    def __init__(self, value):\n",
    "        self.value = value\n",
    "    def display(self):\n",
    "        print(f'Sample96 Value:', self.value)\n",
    "\n",
    "obj96 = Sample96(96)\n",
    "obj96.display()"
   ]
  },
  {
   "cell_type": "code",
   "execution_count": 225,
   "id": "53764d31",
   "metadata": {},
   "outputs": [
    {
     "name": "stdout",
     "output_type": "stream",
     "text": [
      "Sample97 Value: 97\n"
     ]
    }
   ],
   "source": [
    "# Cell 98 - constructor\n",
    "class Sample97:\n",
    "    def __init__(self, value):\n",
    "        self.value = value\n",
    "    def display(self):\n",
    "        print(f'Sample97 Value:', self.value)\n",
    "\n",
    "obj97 = Sample97(97)\n",
    "obj97.display()"
   ]
  },
  {
   "cell_type": "code",
   "execution_count": 226,
   "id": "6d2b219f",
   "metadata": {},
   "outputs": [
    {
     "name": "stdout",
     "output_type": "stream",
     "text": [
      "Sample98 Value: 98\n"
     ]
    }
   ],
   "source": [
    "# Cell 99 - method overriding\n",
    "class Sample98:\n",
    "    def __init__(self, value):\n",
    "        self.value = value\n",
    "    def display(self):\n",
    "        print(f'Sample98 Value:', self.value)\n",
    "\n",
    "obj98 = Sample98(98)\n",
    "obj98.display()"
   ]
  },
  {
   "cell_type": "code",
   "execution_count": 227,
   "id": "6f014cdf",
   "metadata": {},
   "outputs": [
    {
     "name": "stdout",
     "output_type": "stream",
     "text": [
      "Sample99 Value: 99\n"
     ]
    }
   ],
   "source": [
    "# Cell 100 - instance methods\n",
    "class Sample99:\n",
    "    def __init__(self, value):\n",
    "        self.value = value\n",
    "    def display(self):\n",
    "        print(f'Sample99 Value:', self.value)\n",
    "\n",
    "obj99 = Sample99(99)\n",
    "obj99.display()"
   ]
  },
  {
   "cell_type": "code",
   "execution_count": 228,
   "id": "3e0bdea2",
   "metadata": {},
   "outputs": [
    {
     "name": "stdout",
     "output_type": "stream",
     "text": [
      "Sample100 Value: 100\n"
     ]
    }
   ],
   "source": [
    "# Cell 101 - method overriding\n",
    "class Sample100:\n",
    "    def __init__(self, value):\n",
    "        self.value = value\n",
    "    def display(self):\n",
    "        print(f'Sample100 Value:', self.value)\n",
    "\n",
    "obj100 = Sample100(100)\n",
    "obj100.display()"
   ]
  },
  {
   "cell_type": "code",
   "execution_count": 229,
   "id": "ecd06146",
   "metadata": {},
   "outputs": [
    {
     "name": "stdout",
     "output_type": "stream",
     "text": [
      "Sample101 Value: 101\n"
     ]
    }
   ],
   "source": [
    "# Cell 102 - constructor\n",
    "class Sample101:\n",
    "    def __init__(self, value):\n",
    "        self.value = value\n",
    "    def display(self):\n",
    "        print(f'Sample101 Value:', self.value)\n",
    "\n",
    "obj101 = Sample101(101)\n",
    "obj101.display()"
   ]
  },
  {
   "cell_type": "code",
   "execution_count": 230,
   "id": "1b0fdca0",
   "metadata": {},
   "outputs": [
    {
     "name": "stdout",
     "output_type": "stream",
     "text": [
      "Sample102 Value: 102\n"
     ]
    }
   ],
   "source": [
    "# Cell 103 - instance variables\n",
    "class Sample102:\n",
    "    def __init__(self, value):\n",
    "        self.value = value\n",
    "    def display(self):\n",
    "        print(f'Sample102 Value:', self.value)\n",
    "\n",
    "obj102 = Sample102(102)\n",
    "obj102.display()"
   ]
  },
  {
   "cell_type": "code",
   "execution_count": 231,
   "id": "159a5aed",
   "metadata": {},
   "outputs": [
    {
     "name": "stdout",
     "output_type": "stream",
     "text": [
      "Sample103 Value: 103\n"
     ]
    }
   ],
   "source": [
    "# Cell 104 - dunder methods\n",
    "class Sample103:\n",
    "    def __init__(self, value):\n",
    "        self.value = value\n",
    "    def display(self):\n",
    "        print(f'Sample103 Value:', self.value)\n",
    "\n",
    "obj103 = Sample103(103)\n",
    "obj103.display()"
   ]
  },
  {
   "cell_type": "code",
   "execution_count": 232,
   "id": "fe8522ce",
   "metadata": {},
   "outputs": [
    {
     "name": "stdout",
     "output_type": "stream",
     "text": [
      "Sample104 Value: 104\n"
     ]
    }
   ],
   "source": [
    "# Cell 105 - instance methods\n",
    "class Sample104:\n",
    "    def __init__(self, value):\n",
    "        self.value = value\n",
    "    def display(self):\n",
    "        print(f'Sample104 Value:', self.value)\n",
    "\n",
    "obj104 = Sample104(104)\n",
    "obj104.display()"
   ]
  },
  {
   "cell_type": "code",
   "execution_count": 233,
   "id": "dd1a6282",
   "metadata": {},
   "outputs": [
    {
     "name": "stdout",
     "output_type": "stream",
     "text": [
      "Sample105 Value: 105\n"
     ]
    }
   ],
   "source": [
    "# Cell 106 - encapsulation\n",
    "class Sample105:\n",
    "    def __init__(self, value):\n",
    "        self.value = value\n",
    "    def display(self):\n",
    "        print(f'Sample105 Value:', self.value)\n",
    "\n",
    "obj105 = Sample105(105)\n",
    "obj105.display()"
   ]
  },
  {
   "cell_type": "code",
   "execution_count": 234,
   "id": "79a28e94",
   "metadata": {},
   "outputs": [
    {
     "name": "stdout",
     "output_type": "stream",
     "text": [
      "Sample106 Value: 106\n"
     ]
    }
   ],
   "source": [
    "# Cell 107 - constructor\n",
    "class Sample106:\n",
    "    def __init__(self, value):\n",
    "        self.value = value\n",
    "    def display(self):\n",
    "        print(f'Sample106 Value:', self.value)\n",
    "\n",
    "obj106 = Sample106(106)\n",
    "obj106.display()"
   ]
  },
  {
   "cell_type": "code",
   "execution_count": 235,
   "id": "ade2f988",
   "metadata": {},
   "outputs": [
    {
     "name": "stdout",
     "output_type": "stream",
     "text": [
      "Sample107 Value: 107\n"
     ]
    }
   ],
   "source": [
    "# Cell 108 - method overriding\n",
    "class Sample107:\n",
    "    def __init__(self, value):\n",
    "        self.value = value\n",
    "    def display(self):\n",
    "        print(f'Sample107 Value:', self.value)\n",
    "\n",
    "obj107 = Sample107(107)\n",
    "obj107.display()"
   ]
  },
  {
   "cell_type": "code",
   "execution_count": 236,
   "id": "d556e941",
   "metadata": {},
   "outputs": [
    {
     "name": "stdout",
     "output_type": "stream",
     "text": [
      "Sample108 Value: 108\n"
     ]
    }
   ],
   "source": [
    "# Cell 109 - dunder methods\n",
    "class Sample108:\n",
    "    def __init__(self, value):\n",
    "        self.value = value\n",
    "    def display(self):\n",
    "        print(f'Sample108 Value:', self.value)\n",
    "\n",
    "obj108 = Sample108(108)\n",
    "obj108.display()"
   ]
  },
  {
   "cell_type": "code",
   "execution_count": 237,
   "id": "189f94d5",
   "metadata": {},
   "outputs": [
    {
     "name": "stdout",
     "output_type": "stream",
     "text": [
      "Sample109 Value: 109\n"
     ]
    }
   ],
   "source": [
    "# Cell 110 - aggregation\n",
    "class Sample109:\n",
    "    def __init__(self, value):\n",
    "        self.value = value\n",
    "    def display(self):\n",
    "        print(f'Sample109 Value:', self.value)\n",
    "\n",
    "obj109 = Sample109(109)\n",
    "obj109.display()"
   ]
  },
  {
   "cell_type": "code",
   "execution_count": 238,
   "id": "17c56c3c",
   "metadata": {},
   "outputs": [
    {
     "name": "stdout",
     "output_type": "stream",
     "text": [
      "Sample110 Value: 110\n"
     ]
    }
   ],
   "source": [
    "# Cell 111 - class variables\n",
    "class Sample110:\n",
    "    def __init__(self, value):\n",
    "        self.value = value\n",
    "    def display(self):\n",
    "        print(f'Sample110 Value:', self.value)\n",
    "\n",
    "obj110 = Sample110(110)\n",
    "obj110.display()"
   ]
  },
  {
   "cell_type": "code",
   "execution_count": 239,
   "id": "4970b935",
   "metadata": {},
   "outputs": [
    {
     "name": "stdout",
     "output_type": "stream",
     "text": [
      "Sample111 Value: 111\n"
     ]
    }
   ],
   "source": [
    "# Cell 112 - inheritance\n",
    "class Sample111:\n",
    "    def __init__(self, value):\n",
    "        self.value = value\n",
    "    def display(self):\n",
    "        print(f'Sample111 Value:', self.value)\n",
    "\n",
    "obj111 = Sample111(111)\n",
    "obj111.display()"
   ]
  },
  {
   "cell_type": "code",
   "execution_count": 240,
   "id": "252e82f9",
   "metadata": {},
   "outputs": [
    {
     "name": "stdout",
     "output_type": "stream",
     "text": [
      "Sample112 Value: 112\n"
     ]
    }
   ],
   "source": [
    "# Cell 113 - polymorphism\n",
    "class Sample112:\n",
    "    def __init__(self, value):\n",
    "        self.value = value\n",
    "    def display(self):\n",
    "        print(f'Sample112 Value:', self.value)\n",
    "\n",
    "obj112 = Sample112(112)\n",
    "obj112.display()"
   ]
  },
  {
   "cell_type": "code",
   "execution_count": 241,
   "id": "652a55fb",
   "metadata": {},
   "outputs": [
    {
     "name": "stdout",
     "output_type": "stream",
     "text": [
      "Sample113 Value: 113\n"
     ]
    }
   ],
   "source": [
    "# Cell 114 - class methods\n",
    "class Sample113:\n",
    "    def __init__(self, value):\n",
    "        self.value = value\n",
    "    def display(self):\n",
    "        print(f'Sample113 Value:', self.value)\n",
    "\n",
    "obj113 = Sample113(113)\n",
    "obj113.display()"
   ]
  },
  {
   "cell_type": "code",
   "execution_count": 242,
   "id": "62b8e0e9",
   "metadata": {},
   "outputs": [
    {
     "name": "stdout",
     "output_type": "stream",
     "text": [
      "Sample114 Value: 114\n"
     ]
    }
   ],
   "source": [
    "# Cell 115 - constructor\n",
    "class Sample114:\n",
    "    def __init__(self, value):\n",
    "        self.value = value\n",
    "    def display(self):\n",
    "        print(f'Sample114 Value:', self.value)\n",
    "\n",
    "obj114 = Sample114(114)\n",
    "obj114.display()"
   ]
  },
  {
   "cell_type": "code",
   "execution_count": 243,
   "id": "a6b66166",
   "metadata": {},
   "outputs": [
    {
     "name": "stdout",
     "output_type": "stream",
     "text": [
      "Sample115 Value: 115\n"
     ]
    }
   ],
   "source": [
    "# Cell 116 - static methods\n",
    "class Sample115:\n",
    "    def __init__(self, value):\n",
    "        self.value = value\n",
    "    def display(self):\n",
    "        print(f'Sample115 Value:', self.value)\n",
    "\n",
    "obj115 = Sample115(115)\n",
    "obj115.display()"
   ]
  },
  {
   "cell_type": "code",
   "execution_count": 244,
   "id": "ff275b7f",
   "metadata": {},
   "outputs": [
    {
     "name": "stdout",
     "output_type": "stream",
     "text": [
      "Sample116 Value: 116\n"
     ]
    }
   ],
   "source": [
    "# Cell 117 - class variables\n",
    "class Sample116:\n",
    "    def __init__(self, value):\n",
    "        self.value = value\n",
    "    def display(self):\n",
    "        print(f'Sample116 Value:', self.value)\n",
    "\n",
    "obj116 = Sample116(116)\n",
    "obj116.display()"
   ]
  },
  {
   "cell_type": "code",
   "execution_count": 245,
   "id": "aee99718",
   "metadata": {},
   "outputs": [
    {
     "name": "stdout",
     "output_type": "stream",
     "text": [
      "Sample117 Value: 117\n"
     ]
    }
   ],
   "source": [
    "# Cell 118 - multiple inheritance\n",
    "class Sample117:\n",
    "    def __init__(self, value):\n",
    "        self.value = value\n",
    "    def display(self):\n",
    "        print(f'Sample117 Value:', self.value)\n",
    "\n",
    "obj117 = Sample117(117)\n",
    "obj117.display()"
   ]
  },
  {
   "cell_type": "code",
   "execution_count": 246,
   "id": "7fd83697",
   "metadata": {},
   "outputs": [
    {
     "name": "stdout",
     "output_type": "stream",
     "text": [
      "Sample118 Value: 118\n"
     ]
    }
   ],
   "source": [
    "# Cell 119 - static methods\n",
    "class Sample118:\n",
    "    def __init__(self, value):\n",
    "        self.value = value\n",
    "    def display(self):\n",
    "        print(f'Sample118 Value:', self.value)\n",
    "\n",
    "obj118 = Sample118(118)\n",
    "obj118.display()"
   ]
  },
  {
   "cell_type": "code",
   "execution_count": 247,
   "id": "766431e3",
   "metadata": {},
   "outputs": [
    {
     "name": "stdout",
     "output_type": "stream",
     "text": [
      "Sample119 Value: 119\n"
     ]
    }
   ],
   "source": [
    "# Cell 120 - class variables\n",
    "class Sample119:\n",
    "    def __init__(self, value):\n",
    "        self.value = value\n",
    "    def display(self):\n",
    "        print(f'Sample119 Value:', self.value)\n",
    "\n",
    "obj119 = Sample119(119)\n",
    "obj119.display()"
   ]
  },
  {
   "cell_type": "code",
   "execution_count": 248,
   "id": "a2ffb292",
   "metadata": {},
   "outputs": [
    {
     "name": "stdout",
     "output_type": "stream",
     "text": [
      "Sample120 Value: 120\n"
     ]
    }
   ],
   "source": [
    "# Cell 121 - inheritance\n",
    "class Sample120:\n",
    "    def __init__(self, value):\n",
    "        self.value = value\n",
    "    def display(self):\n",
    "        print(f'Sample120 Value:', self.value)\n",
    "\n",
    "obj120 = Sample120(120)\n",
    "obj120.display()"
   ]
  },
  {
   "cell_type": "code",
   "execution_count": 249,
   "id": "ca5b8349",
   "metadata": {},
   "outputs": [
    {
     "name": "stdout",
     "output_type": "stream",
     "text": [
      "Sample121 Value: 121\n"
     ]
    }
   ],
   "source": [
    "# Cell 122 - multiple inheritance\n",
    "class Sample121:\n",
    "    def __init__(self, value):\n",
    "        self.value = value\n",
    "    def display(self):\n",
    "        print(f'Sample121 Value:', self.value)\n",
    "\n",
    "obj121 = Sample121(121)\n",
    "obj121.display()"
   ]
  },
  {
   "cell_type": "code",
   "execution_count": 250,
   "id": "72279ea4",
   "metadata": {},
   "outputs": [
    {
     "name": "stdout",
     "output_type": "stream",
     "text": [
      "Sample122 Value: 122\n"
     ]
    }
   ],
   "source": [
    "# Cell 123 - class methods\n",
    "class Sample122:\n",
    "    def __init__(self, value):\n",
    "        self.value = value\n",
    "    def display(self):\n",
    "        print(f'Sample122 Value:', self.value)\n",
    "\n",
    "obj122 = Sample122(122)\n",
    "obj122.display()"
   ]
  },
  {
   "cell_type": "code",
   "execution_count": 251,
   "id": "5329ca1d",
   "metadata": {},
   "outputs": [
    {
     "name": "stdout",
     "output_type": "stream",
     "text": [
      "Sample123 Value: 123\n"
     ]
    }
   ],
   "source": [
    "# Cell 124 - static methods\n",
    "class Sample123:\n",
    "    def __init__(self, value):\n",
    "        self.value = value\n",
    "    def display(self):\n",
    "        print(f'Sample123 Value:', self.value)\n",
    "\n",
    "obj123 = Sample123(123)\n",
    "obj123.display()"
   ]
  },
  {
   "cell_type": "code",
   "execution_count": 252,
   "id": "888c1f4b",
   "metadata": {},
   "outputs": [
    {
     "name": "stdout",
     "output_type": "stream",
     "text": [
      "Sample124 Value: 124\n"
     ]
    }
   ],
   "source": [
    "# Cell 125 - class definition\n",
    "class Sample124:\n",
    "    def __init__(self, value):\n",
    "        self.value = value\n",
    "    def display(self):\n",
    "        print(f'Sample124 Value:', self.value)\n",
    "\n",
    "obj124 = Sample124(124)\n",
    "obj124.display()"
   ]
  },
  {
   "cell_type": "code",
   "execution_count": 253,
   "id": "04ba8390",
   "metadata": {},
   "outputs": [
    {
     "name": "stdout",
     "output_type": "stream",
     "text": [
      "Sample125 Value: 125\n"
     ]
    }
   ],
   "source": [
    "# Cell 126 - constructor\n",
    "class Sample125:\n",
    "    def __init__(self, value):\n",
    "        self.value = value\n",
    "    def display(self):\n",
    "        print(f'Sample125 Value:', self.value)\n",
    "\n",
    "obj125 = Sample125(125)\n",
    "obj125.display()"
   ]
  },
  {
   "cell_type": "code",
   "execution_count": 254,
   "id": "d49fe923",
   "metadata": {},
   "outputs": [
    {
     "name": "stdout",
     "output_type": "stream",
     "text": [
      "Sample126 Value: 126\n"
     ]
    }
   ],
   "source": [
    "# Cell 127 - multiple inheritance\n",
    "class Sample126:\n",
    "    def __init__(self, value):\n",
    "        self.value = value\n",
    "    def display(self):\n",
    "        print(f'Sample126 Value:', self.value)\n",
    "\n",
    "obj126 = Sample126(126)\n",
    "obj126.display()"
   ]
  },
  {
   "cell_type": "code",
   "execution_count": 255,
   "id": "86d955ff",
   "metadata": {},
   "outputs": [
    {
     "name": "stdout",
     "output_type": "stream",
     "text": [
      "Sample127 Value: 127\n"
     ]
    }
   ],
   "source": [
    "# Cell 128 - class variables\n",
    "class Sample127:\n",
    "    def __init__(self, value):\n",
    "        self.value = value\n",
    "    def display(self):\n",
    "        print(f'Sample127 Value:', self.value)\n",
    "\n",
    "obj127 = Sample127(127)\n",
    "obj127.display()"
   ]
  },
  {
   "cell_type": "code",
   "execution_count": 256,
   "id": "e16ac4e0",
   "metadata": {},
   "outputs": [
    {
     "name": "stdout",
     "output_type": "stream",
     "text": [
      "Sample128 Value: 128\n"
     ]
    }
   ],
   "source": [
    "# Cell 129 - class methods\n",
    "class Sample128:\n",
    "    def __init__(self, value):\n",
    "        self.value = value\n",
    "    def display(self):\n",
    "        print(f'Sample128 Value:', self.value)\n",
    "\n",
    "obj128 = Sample128(128)\n",
    "obj128.display()"
   ]
  },
  {
   "cell_type": "code",
   "execution_count": 257,
   "id": "cf3b9c7f",
   "metadata": {},
   "outputs": [
    {
     "name": "stdout",
     "output_type": "stream",
     "text": [
      "Sample129 Value: 129\n"
     ]
    }
   ],
   "source": [
    "# Cell 130 - multiple inheritance\n",
    "class Sample129:\n",
    "    def __init__(self, value):\n",
    "        self.value = value\n",
    "    def display(self):\n",
    "        print(f'Sample129 Value:', self.value)\n",
    "\n",
    "obj129 = Sample129(129)\n",
    "obj129.display()"
   ]
  },
  {
   "cell_type": "code",
   "execution_count": 258,
   "id": "bac27a30",
   "metadata": {},
   "outputs": [
    {
     "name": "stdout",
     "output_type": "stream",
     "text": [
      "Sample130 Value: 130\n"
     ]
    }
   ],
   "source": [
    "# Cell 131 - method overriding\n",
    "class Sample130:\n",
    "    def __init__(self, value):\n",
    "        self.value = value\n",
    "    def display(self):\n",
    "        print(f'Sample130 Value:', self.value)\n",
    "\n",
    "obj130 = Sample130(130)\n",
    "obj130.display()"
   ]
  },
  {
   "cell_type": "code",
   "execution_count": 259,
   "id": "4a059722",
   "metadata": {},
   "outputs": [
    {
     "name": "stdout",
     "output_type": "stream",
     "text": [
      "Sample131 Value: 131\n"
     ]
    }
   ],
   "source": [
    "# Cell 132 - class methods\n",
    "class Sample131:\n",
    "    def __init__(self, value):\n",
    "        self.value = value\n",
    "    def display(self):\n",
    "        print(f'Sample131 Value:', self.value)\n",
    "\n",
    "obj131 = Sample131(131)\n",
    "obj131.display()"
   ]
  },
  {
   "cell_type": "code",
   "execution_count": 260,
   "id": "2a2662bf",
   "metadata": {},
   "outputs": [
    {
     "name": "stdout",
     "output_type": "stream",
     "text": [
      "Sample132 Value: 132\n"
     ]
    }
   ],
   "source": [
    "# Cell 133 - aggregation\n",
    "class Sample132:\n",
    "    def __init__(self, value):\n",
    "        self.value = value\n",
    "    def display(self):\n",
    "        print(f'Sample132 Value:', self.value)\n",
    "\n",
    "obj132 = Sample132(132)\n",
    "obj132.display()"
   ]
  },
  {
   "cell_type": "code",
   "execution_count": 261,
   "id": "63d2ae82",
   "metadata": {},
   "outputs": [
    {
     "name": "stdout",
     "output_type": "stream",
     "text": [
      "Sample133 Value: 133\n"
     ]
    }
   ],
   "source": [
    "# Cell 134 - instance variables\n",
    "class Sample133:\n",
    "    def __init__(self, value):\n",
    "        self.value = value\n",
    "    def display(self):\n",
    "        print(f'Sample133 Value:', self.value)\n",
    "\n",
    "obj133 = Sample133(133)\n",
    "obj133.display()"
   ]
  },
  {
   "cell_type": "code",
   "execution_count": 262,
   "id": "c188b6b4",
   "metadata": {},
   "outputs": [
    {
     "name": "stdout",
     "output_type": "stream",
     "text": [
      "Sample134 Value: 134\n"
     ]
    }
   ],
   "source": [
    "# Cell 135 - inheritance\n",
    "class Sample134:\n",
    "    def __init__(self, value):\n",
    "        self.value = value\n",
    "    def display(self):\n",
    "        print(f'Sample134 Value:', self.value)\n",
    "\n",
    "obj134 = Sample134(134)\n",
    "obj134.display()"
   ]
  },
  {
   "cell_type": "code",
   "execution_count": 263,
   "id": "45ac66eb",
   "metadata": {},
   "outputs": [
    {
     "name": "stdout",
     "output_type": "stream",
     "text": [
      "Sample135 Value: 135\n"
     ]
    }
   ],
   "source": [
    "# Cell 136 - polymorphism\n",
    "class Sample135:\n",
    "    def __init__(self, value):\n",
    "        self.value = value\n",
    "    def display(self):\n",
    "        print(f'Sample135 Value:', self.value)\n",
    "\n",
    "obj135 = Sample135(135)\n",
    "obj135.display()"
   ]
  },
  {
   "cell_type": "code",
   "execution_count": 264,
   "id": "02c6405a",
   "metadata": {},
   "outputs": [
    {
     "name": "stdout",
     "output_type": "stream",
     "text": [
      "Sample136 Value: 136\n"
     ]
    }
   ],
   "source": [
    "# Cell 137 - class definition\n",
    "class Sample136:\n",
    "    def __init__(self, value):\n",
    "        self.value = value\n",
    "    def display(self):\n",
    "        print(f'Sample136 Value:', self.value)\n",
    "\n",
    "obj136 = Sample136(136)\n",
    "obj136.display()"
   ]
  },
  {
   "cell_type": "code",
   "execution_count": 265,
   "id": "8edb4663",
   "metadata": {},
   "outputs": [
    {
     "name": "stdout",
     "output_type": "stream",
     "text": [
      "Sample137 Value: 137\n"
     ]
    }
   ],
   "source": [
    "# Cell 138 - static methods\n",
    "class Sample137:\n",
    "    def __init__(self, value):\n",
    "        self.value = value\n",
    "    def display(self):\n",
    "        print(f'Sample137 Value:', self.value)\n",
    "\n",
    "obj137 = Sample137(137)\n",
    "obj137.display()"
   ]
  },
  {
   "cell_type": "code",
   "execution_count": 266,
   "id": "d1d9e648",
   "metadata": {},
   "outputs": [
    {
     "name": "stdout",
     "output_type": "stream",
     "text": [
      "Sample138 Value: 138\n"
     ]
    }
   ],
   "source": [
    "# Cell 139 - multiple inheritance\n",
    "class Sample138:\n",
    "    def __init__(self, value):\n",
    "        self.value = value\n",
    "    def display(self):\n",
    "        print(f'Sample138 Value:', self.value)\n",
    "\n",
    "obj138 = Sample138(138)\n",
    "obj138.display()"
   ]
  },
  {
   "cell_type": "code",
   "execution_count": 267,
   "id": "5a7a0d10",
   "metadata": {},
   "outputs": [
    {
     "name": "stdout",
     "output_type": "stream",
     "text": [
      "Sample139 Value: 139\n"
     ]
    }
   ],
   "source": [
    "# Cell 140 - multiple inheritance\n",
    "class Sample139:\n",
    "    def __init__(self, value):\n",
    "        self.value = value\n",
    "    def display(self):\n",
    "        print(f'Sample139 Value:', self.value)\n",
    "\n",
    "obj139 = Sample139(139)\n",
    "obj139.display()"
   ]
  },
  {
   "cell_type": "code",
   "execution_count": 268,
   "id": "695583ce",
   "metadata": {},
   "outputs": [
    {
     "name": "stdout",
     "output_type": "stream",
     "text": [
      "Sample140 Value: 140\n"
     ]
    }
   ],
   "source": [
    "# Cell 141 - multiple inheritance\n",
    "class Sample140:\n",
    "    def __init__(self, value):\n",
    "        self.value = value\n",
    "    def display(self):\n",
    "        print(f'Sample140 Value:', self.value)\n",
    "\n",
    "obj140 = Sample140(140)\n",
    "obj140.display()"
   ]
  },
  {
   "cell_type": "code",
   "execution_count": 269,
   "id": "857ceab4",
   "metadata": {},
   "outputs": [
    {
     "name": "stdout",
     "output_type": "stream",
     "text": [
      "Sample141 Value: 141\n"
     ]
    }
   ],
   "source": [
    "# Cell 142 - polymorphism\n",
    "class Sample141:\n",
    "    def __init__(self, value):\n",
    "        self.value = value\n",
    "    def display(self):\n",
    "        print(f'Sample141 Value:', self.value)\n",
    "\n",
    "obj141 = Sample141(141)\n",
    "obj141.display()"
   ]
  },
  {
   "cell_type": "code",
   "execution_count": 270,
   "id": "6c15146b",
   "metadata": {},
   "outputs": [
    {
     "name": "stdout",
     "output_type": "stream",
     "text": [
      "Sample142 Value: 142\n"
     ]
    }
   ],
   "source": [
    "# Cell 143 - polymorphism\n",
    "class Sample142:\n",
    "    def __init__(self, value):\n",
    "        self.value = value\n",
    "    def display(self):\n",
    "        print(f'Sample142 Value:', self.value)\n",
    "\n",
    "obj142 = Sample142(142)\n",
    "obj142.display()"
   ]
  },
  {
   "cell_type": "code",
   "execution_count": 271,
   "id": "6b08355d",
   "metadata": {},
   "outputs": [
    {
     "name": "stdout",
     "output_type": "stream",
     "text": [
      "Sample143 Value: 143\n"
     ]
    }
   ],
   "source": [
    "# Cell 144 - multiple inheritance\n",
    "class Sample143:\n",
    "    def __init__(self, value):\n",
    "        self.value = value\n",
    "    def display(self):\n",
    "        print(f'Sample143 Value:', self.value)\n",
    "\n",
    "obj143 = Sample143(143)\n",
    "obj143.display()"
   ]
  },
  {
   "cell_type": "code",
   "execution_count": 272,
   "id": "3159ecb9",
   "metadata": {},
   "outputs": [
    {
     "name": "stdout",
     "output_type": "stream",
     "text": [
      "Sample144 Value: 144\n"
     ]
    }
   ],
   "source": [
    "# Cell 145 - class variables\n",
    "class Sample144:\n",
    "    def __init__(self, value):\n",
    "        self.value = value\n",
    "    def display(self):\n",
    "        print(f'Sample144 Value:', self.value)\n",
    "\n",
    "obj144 = Sample144(144)\n",
    "obj144.display()"
   ]
  },
  {
   "cell_type": "code",
   "execution_count": 273,
   "id": "b8e3b884",
   "metadata": {},
   "outputs": [
    {
     "name": "stdout",
     "output_type": "stream",
     "text": [
      "Sample145 Value: 145\n"
     ]
    }
   ],
   "source": [
    "# Cell 146 - encapsulation\n",
    "class Sample145:\n",
    "    def __init__(self, value):\n",
    "        self.value = value\n",
    "    def display(self):\n",
    "        print(f'Sample145 Value:', self.value)\n",
    "\n",
    "obj145 = Sample145(145)\n",
    "obj145.display()"
   ]
  },
  {
   "cell_type": "code",
   "execution_count": 274,
   "id": "1608480d",
   "metadata": {},
   "outputs": [
    {
     "name": "stdout",
     "output_type": "stream",
     "text": [
      "Sample146 Value: 146\n"
     ]
    }
   ],
   "source": [
    "# Cell 147 - method overriding\n",
    "class Sample146:\n",
    "    def __init__(self, value):\n",
    "        self.value = value\n",
    "    def display(self):\n",
    "        print(f'Sample146 Value:', self.value)\n",
    "\n",
    "obj146 = Sample146(146)\n",
    "obj146.display()"
   ]
  },
  {
   "cell_type": "code",
   "execution_count": 275,
   "id": "0e3f308d",
   "metadata": {},
   "outputs": [
    {
     "name": "stdout",
     "output_type": "stream",
     "text": [
      "Sample147 Value: 147\n"
     ]
    }
   ],
   "source": [
    "# Cell 148 - constructor\n",
    "class Sample147:\n",
    "    def __init__(self, value):\n",
    "        self.value = value\n",
    "    def display(self):\n",
    "        print(f'Sample147 Value:', self.value)\n",
    "\n",
    "obj147 = Sample147(147)\n",
    "obj147.display()"
   ]
  },
  {
   "cell_type": "code",
   "execution_count": 276,
   "id": "fa8bc0bd",
   "metadata": {},
   "outputs": [
    {
     "name": "stdout",
     "output_type": "stream",
     "text": [
      "Sample148 Value: 148\n"
     ]
    }
   ],
   "source": [
    "# Cell 149 - encapsulation\n",
    "class Sample148:\n",
    "    def __init__(self, value):\n",
    "        self.value = value\n",
    "    def display(self):\n",
    "        print(f'Sample148 Value:', self.value)\n",
    "\n",
    "obj148 = Sample148(148)\n",
    "obj148.display()"
   ]
  },
  {
   "cell_type": "code",
   "execution_count": 277,
   "id": "400eccb8",
   "metadata": {},
   "outputs": [
    {
     "name": "stdout",
     "output_type": "stream",
     "text": [
      "Sample149 Value: 149\n"
     ]
    }
   ],
   "source": [
    "# Cell 150 - constructor\n",
    "class Sample149:\n",
    "    def __init__(self, value):\n",
    "        self.value = value\n",
    "    def display(self):\n",
    "        print(f'Sample149 Value:', self.value)\n",
    "\n",
    "obj149 = Sample149(149)\n",
    "obj149.display()"
   ]
  },
  {
   "cell_type": "code",
   "execution_count": 278,
   "id": "fbd07eb1",
   "metadata": {},
   "outputs": [
    {
     "name": "stdout",
     "output_type": "stream",
     "text": [
      "Sample150 Value: 150\n"
     ]
    }
   ],
   "source": [
    "# Cell 151 - composition\n",
    "class Sample150:\n",
    "    def __init__(self, value):\n",
    "        self.value = value\n",
    "    def display(self):\n",
    "        print(f'Sample150 Value:', self.value)\n",
    "\n",
    "obj150 = Sample150(150)\n",
    "obj150.display()"
   ]
  },
  {
   "cell_type": "code",
   "execution_count": 279,
   "id": "334707ed",
   "metadata": {},
   "outputs": [
    {
     "name": "stdout",
     "output_type": "stream",
     "text": [
      "Sample151 Value: 151\n"
     ]
    }
   ],
   "source": [
    "# Cell 152 - multiple inheritance\n",
    "class Sample151:\n",
    "    def __init__(self, value):\n",
    "        self.value = value\n",
    "    def display(self):\n",
    "        print(f'Sample151 Value:', self.value)\n",
    "\n",
    "obj151 = Sample151(151)\n",
    "obj151.display()"
   ]
  },
  {
   "cell_type": "code",
   "execution_count": 280,
   "id": "d2727dd1",
   "metadata": {},
   "outputs": [
    {
     "name": "stdout",
     "output_type": "stream",
     "text": [
      "Sample152 Value: 152\n"
     ]
    }
   ],
   "source": [
    "# Cell 153 - aggregation\n",
    "class Sample152:\n",
    "    def __init__(self, value):\n",
    "        self.value = value\n",
    "    def display(self):\n",
    "        print(f'Sample152 Value:', self.value)\n",
    "\n",
    "obj152 = Sample152(152)\n",
    "obj152.display()"
   ]
  },
  {
   "cell_type": "code",
   "execution_count": 281,
   "id": "30672ca1",
   "metadata": {},
   "outputs": [
    {
     "name": "stdout",
     "output_type": "stream",
     "text": [
      "Sample153 Value: 153\n"
     ]
    }
   ],
   "source": [
    "# Cell 154 - multiple inheritance\n",
    "class Sample153:\n",
    "    def __init__(self, value):\n",
    "        self.value = value\n",
    "    def display(self):\n",
    "        print(f'Sample153 Value:', self.value)\n",
    "\n",
    "obj153 = Sample153(153)\n",
    "obj153.display()"
   ]
  },
  {
   "cell_type": "code",
   "execution_count": 282,
   "id": "173349b0",
   "metadata": {},
   "outputs": [
    {
     "name": "stdout",
     "output_type": "stream",
     "text": [
      "Sample154 Value: 154\n"
     ]
    }
   ],
   "source": [
    "# Cell 155 - polymorphism\n",
    "class Sample154:\n",
    "    def __init__(self, value):\n",
    "        self.value = value\n",
    "    def display(self):\n",
    "        print(f'Sample154 Value:', self.value)\n",
    "\n",
    "obj154 = Sample154(154)\n",
    "obj154.display()"
   ]
  },
  {
   "cell_type": "code",
   "execution_count": 283,
   "id": "ed55eb21",
   "metadata": {},
   "outputs": [
    {
     "name": "stdout",
     "output_type": "stream",
     "text": [
      "Sample155 Value: 155\n"
     ]
    }
   ],
   "source": [
    "# Cell 156 - static methods\n",
    "class Sample155:\n",
    "    def __init__(self, value):\n",
    "        self.value = value\n",
    "    def display(self):\n",
    "        print(f'Sample155 Value:', self.value)\n",
    "\n",
    "obj155 = Sample155(155)\n",
    "obj155.display()"
   ]
  },
  {
   "cell_type": "code",
   "execution_count": 284,
   "id": "2824e9e4",
   "metadata": {},
   "outputs": [
    {
     "name": "stdout",
     "output_type": "stream",
     "text": [
      "Sample156 Value: 156\n"
     ]
    }
   ],
   "source": [
    "# Cell 157 - aggregation\n",
    "class Sample156:\n",
    "    def __init__(self, value):\n",
    "        self.value = value\n",
    "    def display(self):\n",
    "        print(f'Sample156 Value:', self.value)\n",
    "\n",
    "obj156 = Sample156(156)\n",
    "obj156.display()"
   ]
  },
  {
   "cell_type": "code",
   "execution_count": 285,
   "id": "91bb587b",
   "metadata": {},
   "outputs": [
    {
     "name": "stdout",
     "output_type": "stream",
     "text": [
      "Sample157 Value: 157\n"
     ]
    }
   ],
   "source": [
    "# Cell 158 - instance variables\n",
    "class Sample157:\n",
    "    def __init__(self, value):\n",
    "        self.value = value\n",
    "    def display(self):\n",
    "        print(f'Sample157 Value:', self.value)\n",
    "\n",
    "obj157 = Sample157(157)\n",
    "obj157.display()"
   ]
  },
  {
   "cell_type": "code",
   "execution_count": 286,
   "id": "c48dbbcc",
   "metadata": {},
   "outputs": [
    {
     "name": "stdout",
     "output_type": "stream",
     "text": [
      "Sample158 Value: 158\n"
     ]
    }
   ],
   "source": [
    "# Cell 159 - class variables\n",
    "class Sample158:\n",
    "    def __init__(self, value):\n",
    "        self.value = value\n",
    "    def display(self):\n",
    "        print(f'Sample158 Value:', self.value)\n",
    "\n",
    "obj158 = Sample158(158)\n",
    "obj158.display()"
   ]
  },
  {
   "cell_type": "code",
   "execution_count": 287,
   "id": "1abe047c",
   "metadata": {},
   "outputs": [
    {
     "name": "stdout",
     "output_type": "stream",
     "text": [
      "Sample159 Value: 159\n"
     ]
    }
   ],
   "source": [
    "# Cell 160 - composition\n",
    "class Sample159:\n",
    "    def __init__(self, value):\n",
    "        self.value = value\n",
    "    def display(self):\n",
    "        print(f'Sample159 Value:', self.value)\n",
    "\n",
    "obj159 = Sample159(159)\n",
    "obj159.display()"
   ]
  },
  {
   "cell_type": "code",
   "execution_count": 288,
   "id": "0c13f486",
   "metadata": {},
   "outputs": [
    {
     "name": "stdout",
     "output_type": "stream",
     "text": [
      "Sample160 Value: 160\n"
     ]
    }
   ],
   "source": [
    "# Cell 161 - class methods\n",
    "class Sample160:\n",
    "    def __init__(self, value):\n",
    "        self.value = value\n",
    "    def display(self):\n",
    "        print(f'Sample160 Value:', self.value)\n",
    "\n",
    "obj160 = Sample160(160)\n",
    "obj160.display()"
   ]
  },
  {
   "cell_type": "code",
   "execution_count": 289,
   "id": "ac2781f6",
   "metadata": {},
   "outputs": [
    {
     "name": "stdout",
     "output_type": "stream",
     "text": [
      "Sample161 Value: 161\n"
     ]
    }
   ],
   "source": [
    "# Cell 162 - encapsulation\n",
    "class Sample161:\n",
    "    def __init__(self, value):\n",
    "        self.value = value\n",
    "    def display(self):\n",
    "        print(f'Sample161 Value:', self.value)\n",
    "\n",
    "obj161 = Sample161(161)\n",
    "obj161.display()"
   ]
  },
  {
   "cell_type": "code",
   "execution_count": 290,
   "id": "137af550",
   "metadata": {},
   "outputs": [
    {
     "name": "stdout",
     "output_type": "stream",
     "text": [
      "Sample162 Value: 162\n"
     ]
    }
   ],
   "source": [
    "# Cell 163 - method overriding\n",
    "class Sample162:\n",
    "    def __init__(self, value):\n",
    "        self.value = value\n",
    "    def display(self):\n",
    "        print(f'Sample162 Value:', self.value)\n",
    "\n",
    "obj162 = Sample162(162)\n",
    "obj162.display()"
   ]
  },
  {
   "cell_type": "code",
   "execution_count": 291,
   "id": "e61d72ee",
   "metadata": {},
   "outputs": [
    {
     "name": "stdout",
     "output_type": "stream",
     "text": [
      "Sample163 Value: 163\n"
     ]
    }
   ],
   "source": [
    "# Cell 164 - constructor\n",
    "class Sample163:\n",
    "    def __init__(self, value):\n",
    "        self.value = value\n",
    "    def display(self):\n",
    "        print(f'Sample163 Value:', self.value)\n",
    "\n",
    "obj163 = Sample163(163)\n",
    "obj163.display()"
   ]
  },
  {
   "cell_type": "code",
   "execution_count": 292,
   "id": "1040232a",
   "metadata": {},
   "outputs": [
    {
     "name": "stdout",
     "output_type": "stream",
     "text": [
      "Sample164 Value: 164\n"
     ]
    }
   ],
   "source": [
    "# Cell 165 - instance methods\n",
    "class Sample164:\n",
    "    def __init__(self, value):\n",
    "        self.value = value\n",
    "    def display(self):\n",
    "        print(f'Sample164 Value:', self.value)\n",
    "\n",
    "obj164 = Sample164(164)\n",
    "obj164.display()"
   ]
  },
  {
   "cell_type": "code",
   "execution_count": 293,
   "id": "d28e80ad",
   "metadata": {},
   "outputs": [
    {
     "name": "stdout",
     "output_type": "stream",
     "text": [
      "Sample165 Value: 165\n"
     ]
    }
   ],
   "source": [
    "# Cell 166 - aggregation\n",
    "class Sample165:\n",
    "    def __init__(self, value):\n",
    "        self.value = value\n",
    "    def display(self):\n",
    "        print(f'Sample165 Value:', self.value)\n",
    "\n",
    "obj165 = Sample165(165)\n",
    "obj165.display()"
   ]
  },
  {
   "cell_type": "code",
   "execution_count": 294,
   "id": "ea4a4633",
   "metadata": {},
   "outputs": [
    {
     "name": "stdout",
     "output_type": "stream",
     "text": [
      "Sample166 Value: 166\n"
     ]
    }
   ],
   "source": [
    "# Cell 167 - static methods\n",
    "class Sample166:\n",
    "    def __init__(self, value):\n",
    "        self.value = value\n",
    "    def display(self):\n",
    "        print(f'Sample166 Value:', self.value)\n",
    "\n",
    "obj166 = Sample166(166)\n",
    "obj166.display()"
   ]
  },
  {
   "cell_type": "code",
   "execution_count": 295,
   "id": "c32ec3db",
   "metadata": {},
   "outputs": [
    {
     "name": "stdout",
     "output_type": "stream",
     "text": [
      "Sample167 Value: 167\n"
     ]
    }
   ],
   "source": [
    "# Cell 168 - polymorphism\n",
    "class Sample167:\n",
    "    def __init__(self, value):\n",
    "        self.value = value\n",
    "    def display(self):\n",
    "        print(f'Sample167 Value:', self.value)\n",
    "\n",
    "obj167 = Sample167(167)\n",
    "obj167.display()"
   ]
  },
  {
   "cell_type": "code",
   "execution_count": 296,
   "id": "1c5de578",
   "metadata": {},
   "outputs": [
    {
     "name": "stdout",
     "output_type": "stream",
     "text": [
      "Sample168 Value: 168\n"
     ]
    }
   ],
   "source": [
    "# Cell 169 - multiple inheritance\n",
    "class Sample168:\n",
    "    def __init__(self, value):\n",
    "        self.value = value\n",
    "    def display(self):\n",
    "        print(f'Sample168 Value:', self.value)\n",
    "\n",
    "obj168 = Sample168(168)\n",
    "obj168.display()"
   ]
  },
  {
   "cell_type": "code",
   "execution_count": 297,
   "id": "88b2f62e",
   "metadata": {},
   "outputs": [
    {
     "name": "stdout",
     "output_type": "stream",
     "text": [
      "Sample169 Value: 169\n"
     ]
    }
   ],
   "source": [
    "# Cell 170 - inheritance\n",
    "class Sample169:\n",
    "    def __init__(self, value):\n",
    "        self.value = value\n",
    "    def display(self):\n",
    "        print(f'Sample169 Value:', self.value)\n",
    "\n",
    "obj169 = Sample169(169)\n",
    "obj169.display()"
   ]
  },
  {
   "cell_type": "code",
   "execution_count": 298,
   "id": "ea4adc91",
   "metadata": {},
   "outputs": [
    {
     "name": "stdout",
     "output_type": "stream",
     "text": [
      "Sample170 Value: 170\n"
     ]
    }
   ],
   "source": [
    "# Cell 171 - aggregation\n",
    "class Sample170:\n",
    "    def __init__(self, value):\n",
    "        self.value = value\n",
    "    def display(self):\n",
    "        print(f'Sample170 Value:', self.value)\n",
    "\n",
    "obj170 = Sample170(170)\n",
    "obj170.display()"
   ]
  },
  {
   "cell_type": "code",
   "execution_count": 299,
   "id": "6d49b8f0",
   "metadata": {},
   "outputs": [
    {
     "name": "stdout",
     "output_type": "stream",
     "text": [
      "Sample171 Value: 171\n"
     ]
    }
   ],
   "source": [
    "# Cell 172 - inheritance\n",
    "class Sample171:\n",
    "    def __init__(self, value):\n",
    "        self.value = value\n",
    "    def display(self):\n",
    "        print(f'Sample171 Value:', self.value)\n",
    "\n",
    "obj171 = Sample171(171)\n",
    "obj171.display()"
   ]
  },
  {
   "cell_type": "code",
   "execution_count": 300,
   "id": "10f3374e",
   "metadata": {},
   "outputs": [
    {
     "name": "stdout",
     "output_type": "stream",
     "text": [
      "Sample172 Value: 172\n"
     ]
    }
   ],
   "source": [
    "# Cell 173 - class definition\n",
    "class Sample172:\n",
    "    def __init__(self, value):\n",
    "        self.value = value\n",
    "    def display(self):\n",
    "        print(f'Sample172 Value:', self.value)\n",
    "\n",
    "obj172 = Sample172(172)\n",
    "obj172.display()"
   ]
  },
  {
   "cell_type": "code",
   "execution_count": 301,
   "id": "2a459644",
   "metadata": {},
   "outputs": [
    {
     "name": "stdout",
     "output_type": "stream",
     "text": [
      "Sample173 Value: 173\n"
     ]
    }
   ],
   "source": [
    "# Cell 174 - class variables\n",
    "class Sample173:\n",
    "    def __init__(self, value):\n",
    "        self.value = value\n",
    "    def display(self):\n",
    "        print(f'Sample173 Value:', self.value)\n",
    "\n",
    "obj173 = Sample173(173)\n",
    "obj173.display()"
   ]
  },
  {
   "cell_type": "code",
   "execution_count": 302,
   "id": "40dee233",
   "metadata": {},
   "outputs": [
    {
     "name": "stdout",
     "output_type": "stream",
     "text": [
      "Sample174 Value: 174\n"
     ]
    }
   ],
   "source": [
    "# Cell 175 - polymorphism\n",
    "class Sample174:\n",
    "    def __init__(self, value):\n",
    "        self.value = value\n",
    "    def display(self):\n",
    "        print(f'Sample174 Value:', self.value)\n",
    "\n",
    "obj174 = Sample174(174)\n",
    "obj174.display()"
   ]
  },
  {
   "cell_type": "code",
   "execution_count": 303,
   "id": "aae4f341",
   "metadata": {},
   "outputs": [
    {
     "name": "stdout",
     "output_type": "stream",
     "text": [
      "Sample175 Value: 175\n"
     ]
    }
   ],
   "source": [
    "# Cell 176 - instance methods\n",
    "class Sample175:\n",
    "    def __init__(self, value):\n",
    "        self.value = value\n",
    "    def display(self):\n",
    "        print(f'Sample175 Value:', self.value)\n",
    "\n",
    "obj175 = Sample175(175)\n",
    "obj175.display()"
   ]
  },
  {
   "cell_type": "code",
   "execution_count": 304,
   "id": "261cf6ce",
   "metadata": {},
   "outputs": [
    {
     "name": "stdout",
     "output_type": "stream",
     "text": [
      "Sample176 Value: 176\n"
     ]
    }
   ],
   "source": [
    "# Cell 177 - instance methods\n",
    "class Sample176:\n",
    "    def __init__(self, value):\n",
    "        self.value = value\n",
    "    def display(self):\n",
    "        print(f'Sample176 Value:', self.value)\n",
    "\n",
    "obj176 = Sample176(176)\n",
    "obj176.display()"
   ]
  },
  {
   "cell_type": "code",
   "execution_count": 305,
   "id": "24da19b6",
   "metadata": {},
   "outputs": [
    {
     "name": "stdout",
     "output_type": "stream",
     "text": [
      "Sample177 Value: 177\n"
     ]
    }
   ],
   "source": [
    "# Cell 178 - static methods\n",
    "class Sample177:\n",
    "    def __init__(self, value):\n",
    "        self.value = value\n",
    "    def display(self):\n",
    "        print(f'Sample177 Value:', self.value)\n",
    "\n",
    "obj177 = Sample177(177)\n",
    "obj177.display()"
   ]
  },
  {
   "cell_type": "code",
   "execution_count": 306,
   "id": "d8d1c5e6",
   "metadata": {},
   "outputs": [
    {
     "name": "stdout",
     "output_type": "stream",
     "text": [
      "Sample178 Value: 178\n"
     ]
    }
   ],
   "source": [
    "# Cell 179 - class variables\n",
    "class Sample178:\n",
    "    def __init__(self, value):\n",
    "        self.value = value\n",
    "    def display(self):\n",
    "        print(f'Sample178 Value:', self.value)\n",
    "\n",
    "obj178 = Sample178(178)\n",
    "obj178.display()"
   ]
  },
  {
   "cell_type": "code",
   "execution_count": 307,
   "id": "bfc087fc",
   "metadata": {},
   "outputs": [
    {
     "name": "stdout",
     "output_type": "stream",
     "text": [
      "Sample179 Value: 179\n"
     ]
    }
   ],
   "source": [
    "# Cell 180 - class methods\n",
    "class Sample179:\n",
    "    def __init__(self, value):\n",
    "        self.value = value\n",
    "    def display(self):\n",
    "        print(f'Sample179 Value:', self.value)\n",
    "\n",
    "obj179 = Sample179(179)\n",
    "obj179.display()"
   ]
  },
  {
   "cell_type": "code",
   "execution_count": 308,
   "id": "2e9c47fe",
   "metadata": {},
   "outputs": [
    {
     "name": "stdout",
     "output_type": "stream",
     "text": [
      "Sample180 Value: 180\n"
     ]
    }
   ],
   "source": [
    "# Cell 181 - dunder methods\n",
    "class Sample180:\n",
    "    def __init__(self, value):\n",
    "        self.value = value\n",
    "    def display(self):\n",
    "        print(f'Sample180 Value:', self.value)\n",
    "\n",
    "obj180 = Sample180(180)\n",
    "obj180.display()"
   ]
  },
  {
   "cell_type": "code",
   "execution_count": 309,
   "id": "93ed0441",
   "metadata": {},
   "outputs": [
    {
     "name": "stdout",
     "output_type": "stream",
     "text": [
      "Sample181 Value: 181\n"
     ]
    }
   ],
   "source": [
    "# Cell 182 - composition\n",
    "class Sample181:\n",
    "    def __init__(self, value):\n",
    "        self.value = value\n",
    "    def display(self):\n",
    "        print(f'Sample181 Value:', self.value)\n",
    "\n",
    "obj181 = Sample181(181)\n",
    "obj181.display()"
   ]
  },
  {
   "cell_type": "code",
   "execution_count": 310,
   "id": "86c539aa",
   "metadata": {},
   "outputs": [
    {
     "name": "stdout",
     "output_type": "stream",
     "text": [
      "Sample182 Value: 182\n"
     ]
    }
   ],
   "source": [
    "# Cell 183 - composition\n",
    "class Sample182:\n",
    "    def __init__(self, value):\n",
    "        self.value = value\n",
    "    def display(self):\n",
    "        print(f'Sample182 Value:', self.value)\n",
    "\n",
    "obj182 = Sample182(182)\n",
    "obj182.display()"
   ]
  },
  {
   "cell_type": "code",
   "execution_count": 311,
   "id": "f63c30c3",
   "metadata": {},
   "outputs": [
    {
     "name": "stdout",
     "output_type": "stream",
     "text": [
      "Sample183 Value: 183\n"
     ]
    }
   ],
   "source": [
    "# Cell 184 - constructor\n",
    "class Sample183:\n",
    "    def __init__(self, value):\n",
    "        self.value = value\n",
    "    def display(self):\n",
    "        print(f'Sample183 Value:', self.value)\n",
    "\n",
    "obj183 = Sample183(183)\n",
    "obj183.display()"
   ]
  },
  {
   "cell_type": "code",
   "execution_count": 312,
   "id": "6de8f611",
   "metadata": {},
   "outputs": [
    {
     "name": "stdout",
     "output_type": "stream",
     "text": [
      "Sample184 Value: 184\n"
     ]
    }
   ],
   "source": [
    "# Cell 185 - dunder methods\n",
    "class Sample184:\n",
    "    def __init__(self, value):\n",
    "        self.value = value\n",
    "    def display(self):\n",
    "        print(f'Sample184 Value:', self.value)\n",
    "\n",
    "obj184 = Sample184(184)\n",
    "obj184.display()"
   ]
  },
  {
   "cell_type": "code",
   "execution_count": 313,
   "id": "0ba82e0b",
   "metadata": {},
   "outputs": [
    {
     "name": "stdout",
     "output_type": "stream",
     "text": [
      "Sample185 Value: 185\n"
     ]
    }
   ],
   "source": [
    "# Cell 186 - instance methods\n",
    "class Sample185:\n",
    "    def __init__(self, value):\n",
    "        self.value = value\n",
    "    def display(self):\n",
    "        print(f'Sample185 Value:', self.value)\n",
    "\n",
    "obj185 = Sample185(185)\n",
    "obj185.display()"
   ]
  },
  {
   "cell_type": "code",
   "execution_count": 314,
   "id": "95a65312",
   "metadata": {},
   "outputs": [
    {
     "name": "stdout",
     "output_type": "stream",
     "text": [
      "Sample186 Value: 186\n"
     ]
    }
   ],
   "source": [
    "# Cell 187 - encapsulation\n",
    "class Sample186:\n",
    "    def __init__(self, value):\n",
    "        self.value = value\n",
    "    def display(self):\n",
    "        print(f'Sample186 Value:', self.value)\n",
    "\n",
    "obj186 = Sample186(186)\n",
    "obj186.display()"
   ]
  },
  {
   "cell_type": "code",
   "execution_count": 315,
   "id": "7c18d0bf",
   "metadata": {},
   "outputs": [
    {
     "name": "stdout",
     "output_type": "stream",
     "text": [
      "Sample187 Value: 187\n"
     ]
    }
   ],
   "source": [
    "# Cell 188 - composition\n",
    "class Sample187:\n",
    "    def __init__(self, value):\n",
    "        self.value = value\n",
    "    def display(self):\n",
    "        print(f'Sample187 Value:', self.value)\n",
    "\n",
    "obj187 = Sample187(187)\n",
    "obj187.display()"
   ]
  },
  {
   "cell_type": "code",
   "execution_count": 316,
   "id": "3841e484",
   "metadata": {},
   "outputs": [
    {
     "name": "stdout",
     "output_type": "stream",
     "text": [
      "Sample188 Value: 188\n"
     ]
    }
   ],
   "source": [
    "# Cell 189 - class methods\n",
    "class Sample188:\n",
    "    def __init__(self, value):\n",
    "        self.value = value\n",
    "    def display(self):\n",
    "        print(f'Sample188 Value:', self.value)\n",
    "\n",
    "obj188 = Sample188(188)\n",
    "obj188.display()"
   ]
  },
  {
   "cell_type": "code",
   "execution_count": 317,
   "id": "742f4850",
   "metadata": {},
   "outputs": [
    {
     "name": "stdout",
     "output_type": "stream",
     "text": [
      "Sample189 Value: 189\n"
     ]
    }
   ],
   "source": [
    "# Cell 190 - method overriding\n",
    "class Sample189:\n",
    "    def __init__(self, value):\n",
    "        self.value = value\n",
    "    def display(self):\n",
    "        print(f'Sample189 Value:', self.value)\n",
    "\n",
    "obj189 = Sample189(189)\n",
    "obj189.display()"
   ]
  },
  {
   "cell_type": "code",
   "execution_count": 318,
   "id": "6b9fbf82",
   "metadata": {},
   "outputs": [
    {
     "name": "stdout",
     "output_type": "stream",
     "text": [
      "Sample190 Value: 190\n"
     ]
    }
   ],
   "source": [
    "# Cell 191 - multiple inheritance\n",
    "class Sample190:\n",
    "    def __init__(self, value):\n",
    "        self.value = value\n",
    "    def display(self):\n",
    "        print(f'Sample190 Value:', self.value)\n",
    "\n",
    "obj190 = Sample190(190)\n",
    "obj190.display()"
   ]
  },
  {
   "cell_type": "code",
   "execution_count": 319,
   "id": "7e7174ac",
   "metadata": {},
   "outputs": [
    {
     "name": "stdout",
     "output_type": "stream",
     "text": [
      "Sample191 Value: 191\n"
     ]
    }
   ],
   "source": [
    "# Cell 192 - encapsulation\n",
    "class Sample191:\n",
    "    def __init__(self, value):\n",
    "        self.value = value\n",
    "    def display(self):\n",
    "        print(f'Sample191 Value:', self.value)\n",
    "\n",
    "obj191 = Sample191(191)\n",
    "obj191.display()"
   ]
  },
  {
   "cell_type": "code",
   "execution_count": 320,
   "id": "e63303b8",
   "metadata": {},
   "outputs": [
    {
     "name": "stdout",
     "output_type": "stream",
     "text": [
      "Sample192 Value: 192\n"
     ]
    }
   ],
   "source": [
    "# Cell 193 - instance methods\n",
    "class Sample192:\n",
    "    def __init__(self, value):\n",
    "        self.value = value\n",
    "    def display(self):\n",
    "        print(f'Sample192 Value:', self.value)\n",
    "\n",
    "obj192 = Sample192(192)\n",
    "obj192.display()"
   ]
  },
  {
   "cell_type": "code",
   "execution_count": 321,
   "id": "91db9fbe",
   "metadata": {},
   "outputs": [
    {
     "name": "stdout",
     "output_type": "stream",
     "text": [
      "Sample193 Value: 193\n"
     ]
    }
   ],
   "source": [
    "# Cell 194 - constructor\n",
    "class Sample193:\n",
    "    def __init__(self, value):\n",
    "        self.value = value\n",
    "    def display(self):\n",
    "        print(f'Sample193 Value:', self.value)\n",
    "\n",
    "obj193 = Sample193(193)\n",
    "obj193.display()"
   ]
  },
  {
   "cell_type": "code",
   "execution_count": 322,
   "id": "3deab766",
   "metadata": {},
   "outputs": [
    {
     "name": "stdout",
     "output_type": "stream",
     "text": [
      "Sample194 Value: 194\n"
     ]
    }
   ],
   "source": [
    "# Cell 195 - composition\n",
    "class Sample194:\n",
    "    def __init__(self, value):\n",
    "        self.value = value\n",
    "    def display(self):\n",
    "        print(f'Sample194 Value:', self.value)\n",
    "\n",
    "obj194 = Sample194(194)\n",
    "obj194.display()"
   ]
  },
  {
   "cell_type": "code",
   "execution_count": 323,
   "id": "a5ab62c7",
   "metadata": {},
   "outputs": [
    {
     "name": "stdout",
     "output_type": "stream",
     "text": [
      "Sample195 Value: 195\n"
     ]
    }
   ],
   "source": [
    "# Cell 196 - class definition\n",
    "class Sample195:\n",
    "    def __init__(self, value):\n",
    "        self.value = value\n",
    "    def display(self):\n",
    "        print(f'Sample195 Value:', self.value)\n",
    "\n",
    "obj195 = Sample195(195)\n",
    "obj195.display()"
   ]
  },
  {
   "cell_type": "code",
   "execution_count": 324,
   "id": "989973c5",
   "metadata": {},
   "outputs": [
    {
     "name": "stdout",
     "output_type": "stream",
     "text": [
      "Sample196 Value: 196\n"
     ]
    }
   ],
   "source": [
    "# Cell 197 - method overriding\n",
    "class Sample196:\n",
    "    def __init__(self, value):\n",
    "        self.value = value\n",
    "    def display(self):\n",
    "        print(f'Sample196 Value:', self.value)\n",
    "\n",
    "obj196 = Sample196(196)\n",
    "obj196.display()"
   ]
  },
  {
   "cell_type": "code",
   "execution_count": 325,
   "id": "8d9ef76e",
   "metadata": {},
   "outputs": [
    {
     "name": "stdout",
     "output_type": "stream",
     "text": [
      "Sample197 Value: 197\n"
     ]
    }
   ],
   "source": [
    "# Cell 198 - constructor\n",
    "class Sample197:\n",
    "    def __init__(self, value):\n",
    "        self.value = value\n",
    "    def display(self):\n",
    "        print(f'Sample197 Value:', self.value)\n",
    "\n",
    "obj197 = Sample197(197)\n",
    "obj197.display()"
   ]
  },
  {
   "cell_type": "code",
   "execution_count": 326,
   "id": "1d4715b3",
   "metadata": {},
   "outputs": [
    {
     "name": "stdout",
     "output_type": "stream",
     "text": [
      "Sample198 Value: 198\n"
     ]
    }
   ],
   "source": [
    "# Cell 199 - encapsulation\n",
    "class Sample198:\n",
    "    def __init__(self, value):\n",
    "        self.value = value\n",
    "    def display(self):\n",
    "        print(f'Sample198 Value:', self.value)\n",
    "\n",
    "obj198 = Sample198(198)\n",
    "obj198.display()"
   ]
  },
  {
   "cell_type": "code",
   "execution_count": 327,
   "id": "590d0388",
   "metadata": {},
   "outputs": [
    {
     "name": "stdout",
     "output_type": "stream",
     "text": [
      "Sample199 Value: 199\n"
     ]
    }
   ],
   "source": [
    "# Cell 200 - class variables\n",
    "class Sample199:\n",
    "    def __init__(self, value):\n",
    "        self.value = value\n",
    "    def display(self):\n",
    "        print(f'Sample199 Value:', self.value)\n",
    "\n",
    "obj199 = Sample199(199)\n",
    "obj199.display()"
   ]
  },
  {
   "cell_type": "code",
   "execution_count": 328,
   "id": "cea32de6",
   "metadata": {},
   "outputs": [
    {
     "name": "stdout",
     "output_type": "stream",
     "text": [
      "Sample200 Value: 200\n"
     ]
    }
   ],
   "source": [
    "# Cell 201 - constructor\n",
    "class Sample200:\n",
    "    def __init__(self, value):\n",
    "        self.value = value\n",
    "    def display(self):\n",
    "        print(f'Sample200 Value:', self.value)\n",
    "\n",
    "obj200 = Sample200(200)\n",
    "obj200.display()"
   ]
  },
  {
   "cell_type": "code",
   "execution_count": 329,
   "id": "bbd5ea5b",
   "metadata": {},
   "outputs": [
    {
     "name": "stdout",
     "output_type": "stream",
     "text": [
      "Sample201 Value: 201\n"
     ]
    }
   ],
   "source": [
    "# Cell 202 - encapsulation\n",
    "class Sample201:\n",
    "    def __init__(self, value):\n",
    "        self.value = value\n",
    "    def display(self):\n",
    "        print(f'Sample201 Value:', self.value)\n",
    "\n",
    "obj201 = Sample201(201)\n",
    "obj201.display()"
   ]
  },
  {
   "cell_type": "code",
   "execution_count": 330,
   "id": "16501c0f",
   "metadata": {},
   "outputs": [
    {
     "name": "stdout",
     "output_type": "stream",
     "text": [
      "Sample202 Value: 202\n"
     ]
    }
   ],
   "source": [
    "# Cell 203 - static methods\n",
    "class Sample202:\n",
    "    def __init__(self, value):\n",
    "        self.value = value\n",
    "    def display(self):\n",
    "        print(f'Sample202 Value:', self.value)\n",
    "\n",
    "obj202 = Sample202(202)\n",
    "obj202.display()"
   ]
  },
  {
   "cell_type": "code",
   "execution_count": 331,
   "id": "43985bd8",
   "metadata": {},
   "outputs": [
    {
     "name": "stdout",
     "output_type": "stream",
     "text": [
      "Sample203 Value: 203\n"
     ]
    }
   ],
   "source": [
    "# Cell 204 - polymorphism\n",
    "class Sample203:\n",
    "    def __init__(self, value):\n",
    "        self.value = value\n",
    "    def display(self):\n",
    "        print(f'Sample203 Value:', self.value)\n",
    "\n",
    "obj203 = Sample203(203)\n",
    "obj203.display()"
   ]
  },
  {
   "cell_type": "code",
   "execution_count": 332,
   "id": "05c94948",
   "metadata": {},
   "outputs": [
    {
     "name": "stdout",
     "output_type": "stream",
     "text": [
      "Sample204 Value: 204\n"
     ]
    }
   ],
   "source": [
    "# Cell 205 - aggregation\n",
    "class Sample204:\n",
    "    def __init__(self, value):\n",
    "        self.value = value\n",
    "    def display(self):\n",
    "        print(f'Sample204 Value:', self.value)\n",
    "\n",
    "obj204 = Sample204(204)\n",
    "obj204.display()"
   ]
  },
  {
   "cell_type": "code",
   "execution_count": 333,
   "id": "6eb7149c",
   "metadata": {},
   "outputs": [
    {
     "name": "stdout",
     "output_type": "stream",
     "text": [
      "Sample205 Value: 205\n"
     ]
    }
   ],
   "source": [
    "# Cell 206 - composition\n",
    "class Sample205:\n",
    "    def __init__(self, value):\n",
    "        self.value = value\n",
    "    def display(self):\n",
    "        print(f'Sample205 Value:', self.value)\n",
    "\n",
    "obj205 = Sample205(205)\n",
    "obj205.display()"
   ]
  },
  {
   "cell_type": "code",
   "execution_count": 334,
   "id": "711529b5",
   "metadata": {},
   "outputs": [
    {
     "name": "stdout",
     "output_type": "stream",
     "text": [
      "Sample206 Value: 206\n"
     ]
    }
   ],
   "source": [
    "# Cell 207 - instance methods\n",
    "class Sample206:\n",
    "    def __init__(self, value):\n",
    "        self.value = value\n",
    "    def display(self):\n",
    "        print(f'Sample206 Value:', self.value)\n",
    "\n",
    "obj206 = Sample206(206)\n",
    "obj206.display()"
   ]
  },
  {
   "cell_type": "code",
   "execution_count": 335,
   "id": "620e7f10",
   "metadata": {},
   "outputs": [
    {
     "name": "stdout",
     "output_type": "stream",
     "text": [
      "Sample207 Value: 207\n"
     ]
    }
   ],
   "source": [
    "# Cell 208 - class methods\n",
    "class Sample207:\n",
    "    def __init__(self, value):\n",
    "        self.value = value\n",
    "    def display(self):\n",
    "        print(f'Sample207 Value:', self.value)\n",
    "\n",
    "obj207 = Sample207(207)\n",
    "obj207.display()"
   ]
  },
  {
   "cell_type": "code",
   "execution_count": 336,
   "id": "504b5d9d",
   "metadata": {},
   "outputs": [
    {
     "name": "stdout",
     "output_type": "stream",
     "text": [
      "Sample208 Value: 208\n"
     ]
    }
   ],
   "source": [
    "# Cell 209 - instance methods\n",
    "class Sample208:\n",
    "    def __init__(self, value):\n",
    "        self.value = value\n",
    "    def display(self):\n",
    "        print(f'Sample208 Value:', self.value)\n",
    "\n",
    "obj208 = Sample208(208)\n",
    "obj208.display()"
   ]
  },
  {
   "cell_type": "code",
   "execution_count": 337,
   "id": "b4f5285f",
   "metadata": {},
   "outputs": [
    {
     "name": "stdout",
     "output_type": "stream",
     "text": [
      "Sample209 Value: 209\n"
     ]
    }
   ],
   "source": [
    "# Cell 210 - constructor\n",
    "class Sample209:\n",
    "    def __init__(self, value):\n",
    "        self.value = value\n",
    "    def display(self):\n",
    "        print(f'Sample209 Value:', self.value)\n",
    "\n",
    "obj209 = Sample209(209)\n",
    "obj209.display()"
   ]
  },
  {
   "cell_type": "code",
   "execution_count": 338,
   "id": "c030524e",
   "metadata": {},
   "outputs": [
    {
     "name": "stdout",
     "output_type": "stream",
     "text": [
      "Sample210 Value: 210\n"
     ]
    }
   ],
   "source": [
    "# Cell 211 - dunder methods\n",
    "class Sample210:\n",
    "    def __init__(self, value):\n",
    "        self.value = value\n",
    "    def display(self):\n",
    "        print(f'Sample210 Value:', self.value)\n",
    "\n",
    "obj210 = Sample210(210)\n",
    "obj210.display()"
   ]
  },
  {
   "cell_type": "code",
   "execution_count": 339,
   "id": "678ae3cf",
   "metadata": {},
   "outputs": [
    {
     "name": "stdout",
     "output_type": "stream",
     "text": [
      "Sample211 Value: 211\n"
     ]
    }
   ],
   "source": [
    "# Cell 212 - method overriding\n",
    "class Sample211:\n",
    "    def __init__(self, value):\n",
    "        self.value = value\n",
    "    def display(self):\n",
    "        print(f'Sample211 Value:', self.value)\n",
    "\n",
    "obj211 = Sample211(211)\n",
    "obj211.display()"
   ]
  },
  {
   "cell_type": "code",
   "execution_count": 340,
   "id": "f47fe21b",
   "metadata": {},
   "outputs": [
    {
     "name": "stdout",
     "output_type": "stream",
     "text": [
      "Sample212 Value: 212\n"
     ]
    }
   ],
   "source": [
    "# Cell 213 - static methods\n",
    "class Sample212:\n",
    "    def __init__(self, value):\n",
    "        self.value = value\n",
    "    def display(self):\n",
    "        print(f'Sample212 Value:', self.value)\n",
    "\n",
    "obj212 = Sample212(212)\n",
    "obj212.display()"
   ]
  },
  {
   "cell_type": "code",
   "execution_count": 341,
   "id": "b6872e2e",
   "metadata": {},
   "outputs": [
    {
     "name": "stdout",
     "output_type": "stream",
     "text": [
      "Sample213 Value: 213\n"
     ]
    }
   ],
   "source": [
    "# Cell 214 - inheritance\n",
    "class Sample213:\n",
    "    def __init__(self, value):\n",
    "        self.value = value\n",
    "    def display(self):\n",
    "        print(f'Sample213 Value:', self.value)\n",
    "\n",
    "obj213 = Sample213(213)\n",
    "obj213.display()"
   ]
  },
  {
   "cell_type": "code",
   "execution_count": 342,
   "id": "dbef18f5",
   "metadata": {},
   "outputs": [
    {
     "name": "stdout",
     "output_type": "stream",
     "text": [
      "Sample214 Value: 214\n"
     ]
    }
   ],
   "source": [
    "# Cell 215 - class methods\n",
    "class Sample214:\n",
    "    def __init__(self, value):\n",
    "        self.value = value\n",
    "    def display(self):\n",
    "        print(f'Sample214 Value:', self.value)\n",
    "\n",
    "obj214 = Sample214(214)\n",
    "obj214.display()"
   ]
  },
  {
   "cell_type": "code",
   "execution_count": 343,
   "id": "ac231f9d",
   "metadata": {},
   "outputs": [
    {
     "name": "stdout",
     "output_type": "stream",
     "text": [
      "Sample215 Value: 215\n"
     ]
    }
   ],
   "source": [
    "# Cell 216 - dunder methods\n",
    "class Sample215:\n",
    "    def __init__(self, value):\n",
    "        self.value = value\n",
    "    def display(self):\n",
    "        print(f'Sample215 Value:', self.value)\n",
    "\n",
    "obj215 = Sample215(215)\n",
    "obj215.display()"
   ]
  },
  {
   "cell_type": "code",
   "execution_count": 344,
   "id": "f544c527",
   "metadata": {},
   "outputs": [
    {
     "name": "stdout",
     "output_type": "stream",
     "text": [
      "Sample216 Value: 216\n"
     ]
    }
   ],
   "source": [
    "# Cell 217 - multiple inheritance\n",
    "class Sample216:\n",
    "    def __init__(self, value):\n",
    "        self.value = value\n",
    "    def display(self):\n",
    "        print(f'Sample216 Value:', self.value)\n",
    "\n",
    "obj216 = Sample216(216)\n",
    "obj216.display()"
   ]
  },
  {
   "cell_type": "code",
   "execution_count": 345,
   "id": "c6454bcf",
   "metadata": {},
   "outputs": [
    {
     "name": "stdout",
     "output_type": "stream",
     "text": [
      "Sample217 Value: 217\n"
     ]
    }
   ],
   "source": [
    "# Cell 218 - dunder methods\n",
    "class Sample217:\n",
    "    def __init__(self, value):\n",
    "        self.value = value\n",
    "    def display(self):\n",
    "        print(f'Sample217 Value:', self.value)\n",
    "\n",
    "obj217 = Sample217(217)\n",
    "obj217.display()"
   ]
  },
  {
   "cell_type": "code",
   "execution_count": 346,
   "id": "81388386",
   "metadata": {},
   "outputs": [
    {
     "name": "stdout",
     "output_type": "stream",
     "text": [
      "Sample218 Value: 218\n"
     ]
    }
   ],
   "source": [
    "# Cell 219 - constructor\n",
    "class Sample218:\n",
    "    def __init__(self, value):\n",
    "        self.value = value\n",
    "    def display(self):\n",
    "        print(f'Sample218 Value:', self.value)\n",
    "\n",
    "obj218 = Sample218(218)\n",
    "obj218.display()"
   ]
  },
  {
   "cell_type": "code",
   "execution_count": 347,
   "id": "20c837ce",
   "metadata": {},
   "outputs": [
    {
     "name": "stdout",
     "output_type": "stream",
     "text": [
      "Sample219 Value: 219\n"
     ]
    }
   ],
   "source": [
    "# Cell 220 - class definition\n",
    "class Sample219:\n",
    "    def __init__(self, value):\n",
    "        self.value = value\n",
    "    def display(self):\n",
    "        print(f'Sample219 Value:', self.value)\n",
    "\n",
    "obj219 = Sample219(219)\n",
    "obj219.display()"
   ]
  },
  {
   "cell_type": "code",
   "execution_count": 348,
   "id": "f518d6d5",
   "metadata": {},
   "outputs": [
    {
     "name": "stdout",
     "output_type": "stream",
     "text": [
      "Sample220 Value: 220\n"
     ]
    }
   ],
   "source": [
    "# Cell 221 - class variables\n",
    "class Sample220:\n",
    "    def __init__(self, value):\n",
    "        self.value = value\n",
    "    def display(self):\n",
    "        print(f'Sample220 Value:', self.value)\n",
    "\n",
    "obj220 = Sample220(220)\n",
    "obj220.display()"
   ]
  },
  {
   "cell_type": "code",
   "execution_count": 349,
   "id": "e13562ec",
   "metadata": {},
   "outputs": [
    {
     "name": "stdout",
     "output_type": "stream",
     "text": [
      "Sample221 Value: 221\n"
     ]
    }
   ],
   "source": [
    "# Cell 222 - class methods\n",
    "class Sample221:\n",
    "    def __init__(self, value):\n",
    "        self.value = value\n",
    "    def display(self):\n",
    "        print(f'Sample221 Value:', self.value)\n",
    "\n",
    "obj221 = Sample221(221)\n",
    "obj221.display()"
   ]
  },
  {
   "cell_type": "code",
   "execution_count": 350,
   "id": "3076f5b9",
   "metadata": {},
   "outputs": [
    {
     "name": "stdout",
     "output_type": "stream",
     "text": [
      "Sample222 Value: 222\n"
     ]
    }
   ],
   "source": [
    "# Cell 223 - method overriding\n",
    "class Sample222:\n",
    "    def __init__(self, value):\n",
    "        self.value = value\n",
    "    def display(self):\n",
    "        print(f'Sample222 Value:', self.value)\n",
    "\n",
    "obj222 = Sample222(222)\n",
    "obj222.display()"
   ]
  },
  {
   "cell_type": "code",
   "execution_count": 351,
   "id": "40b104d6",
   "metadata": {},
   "outputs": [
    {
     "name": "stdout",
     "output_type": "stream",
     "text": [
      "Sample223 Value: 223\n"
     ]
    }
   ],
   "source": [
    "# Cell 224 - polymorphism\n",
    "class Sample223:\n",
    "    def __init__(self, value):\n",
    "        self.value = value\n",
    "    def display(self):\n",
    "        print(f'Sample223 Value:', self.value)\n",
    "\n",
    "obj223 = Sample223(223)\n",
    "obj223.display()"
   ]
  },
  {
   "cell_type": "code",
   "execution_count": 352,
   "id": "6fa22193",
   "metadata": {},
   "outputs": [
    {
     "name": "stdout",
     "output_type": "stream",
     "text": [
      "Sample224 Value: 224\n"
     ]
    }
   ],
   "source": [
    "# Cell 225 - aggregation\n",
    "class Sample224:\n",
    "    def __init__(self, value):\n",
    "        self.value = value\n",
    "    def display(self):\n",
    "        print(f'Sample224 Value:', self.value)\n",
    "\n",
    "obj224 = Sample224(224)\n",
    "obj224.display()"
   ]
  },
  {
   "cell_type": "code",
   "execution_count": 353,
   "id": "3b9d3e73",
   "metadata": {},
   "outputs": [
    {
     "name": "stdout",
     "output_type": "stream",
     "text": [
      "Sample225 Value: 225\n"
     ]
    }
   ],
   "source": [
    "# Cell 226 - encapsulation\n",
    "class Sample225:\n",
    "    def __init__(self, value):\n",
    "        self.value = value\n",
    "    def display(self):\n",
    "        print(f'Sample225 Value:', self.value)\n",
    "\n",
    "obj225 = Sample225(225)\n",
    "obj225.display()"
   ]
  },
  {
   "cell_type": "code",
   "execution_count": 354,
   "id": "cc069dbe",
   "metadata": {},
   "outputs": [
    {
     "name": "stdout",
     "output_type": "stream",
     "text": [
      "Sample226 Value: 226\n"
     ]
    }
   ],
   "source": [
    "# Cell 227 - composition\n",
    "class Sample226:\n",
    "    def __init__(self, value):\n",
    "        self.value = value\n",
    "    def display(self):\n",
    "        print(f'Sample226 Value:', self.value)\n",
    "\n",
    "obj226 = Sample226(226)\n",
    "obj226.display()"
   ]
  },
  {
   "cell_type": "code",
   "execution_count": 355,
   "id": "e6c938e6",
   "metadata": {},
   "outputs": [
    {
     "name": "stdout",
     "output_type": "stream",
     "text": [
      "Sample227 Value: 227\n"
     ]
    }
   ],
   "source": [
    "# Cell 228 - static methods\n",
    "class Sample227:\n",
    "    def __init__(self, value):\n",
    "        self.value = value\n",
    "    def display(self):\n",
    "        print(f'Sample227 Value:', self.value)\n",
    "\n",
    "obj227 = Sample227(227)\n",
    "obj227.display()"
   ]
  },
  {
   "cell_type": "code",
   "execution_count": 356,
   "id": "5342915a",
   "metadata": {},
   "outputs": [
    {
     "name": "stdout",
     "output_type": "stream",
     "text": [
      "Sample228 Value: 228\n"
     ]
    }
   ],
   "source": [
    "# Cell 229 - class variables\n",
    "class Sample228:\n",
    "    def __init__(self, value):\n",
    "        self.value = value\n",
    "    def display(self):\n",
    "        print(f'Sample228 Value:', self.value)\n",
    "\n",
    "obj228 = Sample228(228)\n",
    "obj228.display()"
   ]
  },
  {
   "cell_type": "code",
   "execution_count": 357,
   "id": "70314bf5",
   "metadata": {},
   "outputs": [
    {
     "name": "stdout",
     "output_type": "stream",
     "text": [
      "Sample229 Value: 229\n"
     ]
    }
   ],
   "source": [
    "# Cell 230 - composition\n",
    "class Sample229:\n",
    "    def __init__(self, value):\n",
    "        self.value = value\n",
    "    def display(self):\n",
    "        print(f'Sample229 Value:', self.value)\n",
    "\n",
    "obj229 = Sample229(229)\n",
    "obj229.display()"
   ]
  },
  {
   "cell_type": "code",
   "execution_count": 358,
   "id": "c00ec46b",
   "metadata": {},
   "outputs": [
    {
     "name": "stdout",
     "output_type": "stream",
     "text": [
      "Sample230 Value: 230\n"
     ]
    }
   ],
   "source": [
    "# Cell 231 - method overriding\n",
    "class Sample230:\n",
    "    def __init__(self, value):\n",
    "        self.value = value\n",
    "    def display(self):\n",
    "        print(f'Sample230 Value:', self.value)\n",
    "\n",
    "obj230 = Sample230(230)\n",
    "obj230.display()"
   ]
  },
  {
   "cell_type": "code",
   "execution_count": 359,
   "id": "81f580a9",
   "metadata": {},
   "outputs": [
    {
     "name": "stdout",
     "output_type": "stream",
     "text": [
      "Sample231 Value: 231\n"
     ]
    }
   ],
   "source": [
    "# Cell 232 - inheritance\n",
    "class Sample231:\n",
    "    def __init__(self, value):\n",
    "        self.value = value\n",
    "    def display(self):\n",
    "        print(f'Sample231 Value:', self.value)\n",
    "\n",
    "obj231 = Sample231(231)\n",
    "obj231.display()"
   ]
  },
  {
   "cell_type": "code",
   "execution_count": 360,
   "id": "472308d2",
   "metadata": {},
   "outputs": [
    {
     "name": "stdout",
     "output_type": "stream",
     "text": [
      "Sample232 Value: 232\n"
     ]
    }
   ],
   "source": [
    "# Cell 233 - aggregation\n",
    "class Sample232:\n",
    "    def __init__(self, value):\n",
    "        self.value = value\n",
    "    def display(self):\n",
    "        print(f'Sample232 Value:', self.value)\n",
    "\n",
    "obj232 = Sample232(232)\n",
    "obj232.display()"
   ]
  },
  {
   "cell_type": "code",
   "execution_count": 361,
   "id": "64faac3c",
   "metadata": {},
   "outputs": [
    {
     "name": "stdout",
     "output_type": "stream",
     "text": [
      "Sample233 Value: 233\n"
     ]
    }
   ],
   "source": [
    "# Cell 234 - composition\n",
    "class Sample233:\n",
    "    def __init__(self, value):\n",
    "        self.value = value\n",
    "    def display(self):\n",
    "        print(f'Sample233 Value:', self.value)\n",
    "\n",
    "obj233 = Sample233(233)\n",
    "obj233.display()"
   ]
  },
  {
   "cell_type": "code",
   "execution_count": 362,
   "id": "57e78b24",
   "metadata": {},
   "outputs": [
    {
     "name": "stdout",
     "output_type": "stream",
     "text": [
      "Sample234 Value: 234\n"
     ]
    }
   ],
   "source": [
    "# Cell 235 - aggregation\n",
    "class Sample234:\n",
    "    def __init__(self, value):\n",
    "        self.value = value\n",
    "    def display(self):\n",
    "        print(f'Sample234 Value:', self.value)\n",
    "\n",
    "obj234 = Sample234(234)\n",
    "obj234.display()"
   ]
  },
  {
   "cell_type": "code",
   "execution_count": 363,
   "id": "7ad7fbff",
   "metadata": {},
   "outputs": [
    {
     "name": "stdout",
     "output_type": "stream",
     "text": [
      "Sample235 Value: 235\n"
     ]
    }
   ],
   "source": [
    "# Cell 236 - dunder methods\n",
    "class Sample235:\n",
    "    def __init__(self, value):\n",
    "        self.value = value\n",
    "    def display(self):\n",
    "        print(f'Sample235 Value:', self.value)\n",
    "\n",
    "obj235 = Sample235(235)\n",
    "obj235.display()"
   ]
  },
  {
   "cell_type": "code",
   "execution_count": 364,
   "id": "8f0ae2d7",
   "metadata": {},
   "outputs": [
    {
     "name": "stdout",
     "output_type": "stream",
     "text": [
      "Sample236 Value: 236\n"
     ]
    }
   ],
   "source": [
    "# Cell 237 - polymorphism\n",
    "class Sample236:\n",
    "    def __init__(self, value):\n",
    "        self.value = value\n",
    "    def display(self):\n",
    "        print(f'Sample236 Value:', self.value)\n",
    "\n",
    "obj236 = Sample236(236)\n",
    "obj236.display()"
   ]
  },
  {
   "cell_type": "code",
   "execution_count": 365,
   "id": "0a5c01fb",
   "metadata": {},
   "outputs": [
    {
     "name": "stdout",
     "output_type": "stream",
     "text": [
      "Sample237 Value: 237\n"
     ]
    }
   ],
   "source": [
    "# Cell 238 - method overriding\n",
    "class Sample237:\n",
    "    def __init__(self, value):\n",
    "        self.value = value\n",
    "    def display(self):\n",
    "        print(f'Sample237 Value:', self.value)\n",
    "\n",
    "obj237 = Sample237(237)\n",
    "obj237.display()"
   ]
  },
  {
   "cell_type": "code",
   "execution_count": 366,
   "id": "079ca67f",
   "metadata": {},
   "outputs": [
    {
     "name": "stdout",
     "output_type": "stream",
     "text": [
      "Sample238 Value: 238\n"
     ]
    }
   ],
   "source": [
    "# Cell 239 - polymorphism\n",
    "class Sample238:\n",
    "    def __init__(self, value):\n",
    "        self.value = value\n",
    "    def display(self):\n",
    "        print(f'Sample238 Value:', self.value)\n",
    "\n",
    "obj238 = Sample238(238)\n",
    "obj238.display()"
   ]
  },
  {
   "cell_type": "code",
   "execution_count": 367,
   "id": "b3f4cc11",
   "metadata": {},
   "outputs": [
    {
     "name": "stdout",
     "output_type": "stream",
     "text": [
      "Sample239 Value: 239\n"
     ]
    }
   ],
   "source": [
    "# Cell 240 - class definition\n",
    "class Sample239:\n",
    "    def __init__(self, value):\n",
    "        self.value = value\n",
    "    def display(self):\n",
    "        print(f'Sample239 Value:', self.value)\n",
    "\n",
    "obj239 = Sample239(239)\n",
    "obj239.display()"
   ]
  },
  {
   "cell_type": "code",
   "execution_count": 368,
   "id": "202c0729",
   "metadata": {},
   "outputs": [
    {
     "name": "stdout",
     "output_type": "stream",
     "text": [
      "Sample240 Value: 240\n"
     ]
    }
   ],
   "source": [
    "# Cell 241 - dunder methods\n",
    "class Sample240:\n",
    "    def __init__(self, value):\n",
    "        self.value = value\n",
    "    def display(self):\n",
    "        print(f'Sample240 Value:', self.value)\n",
    "\n",
    "obj240 = Sample240(240)\n",
    "obj240.display()"
   ]
  },
  {
   "cell_type": "code",
   "execution_count": 369,
   "id": "ddc8390b",
   "metadata": {},
   "outputs": [
    {
     "name": "stdout",
     "output_type": "stream",
     "text": [
      "Sample241 Value: 241\n"
     ]
    }
   ],
   "source": [
    "# Cell 242 - class methods\n",
    "class Sample241:\n",
    "    def __init__(self, value):\n",
    "        self.value = value\n",
    "    def display(self):\n",
    "        print(f'Sample241 Value:', self.value)\n",
    "\n",
    "obj241 = Sample241(241)\n",
    "obj241.display()"
   ]
  },
  {
   "cell_type": "code",
   "execution_count": 370,
   "id": "0ac065e2",
   "metadata": {},
   "outputs": [
    {
     "name": "stdout",
     "output_type": "stream",
     "text": [
      "Sample242 Value: 242\n"
     ]
    }
   ],
   "source": [
    "# Cell 243 - instance variables\n",
    "class Sample242:\n",
    "    def __init__(self, value):\n",
    "        self.value = value\n",
    "    def display(self):\n",
    "        print(f'Sample242 Value:', self.value)\n",
    "\n",
    "obj242 = Sample242(242)\n",
    "obj242.display()"
   ]
  },
  {
   "cell_type": "code",
   "execution_count": 371,
   "id": "b83a8982",
   "metadata": {},
   "outputs": [
    {
     "name": "stdout",
     "output_type": "stream",
     "text": [
      "Sample243 Value: 243\n"
     ]
    }
   ],
   "source": [
    "# Cell 244 - dunder methods\n",
    "class Sample243:\n",
    "    def __init__(self, value):\n",
    "        self.value = value\n",
    "    def display(self):\n",
    "        print(f'Sample243 Value:', self.value)\n",
    "\n",
    "obj243 = Sample243(243)\n",
    "obj243.display()"
   ]
  },
  {
   "cell_type": "code",
   "execution_count": 372,
   "id": "ef0b0f59",
   "metadata": {},
   "outputs": [
    {
     "name": "stdout",
     "output_type": "stream",
     "text": [
      "Sample244 Value: 244\n"
     ]
    }
   ],
   "source": [
    "# Cell 245 - instance methods\n",
    "class Sample244:\n",
    "    def __init__(self, value):\n",
    "        self.value = value\n",
    "    def display(self):\n",
    "        print(f'Sample244 Value:', self.value)\n",
    "\n",
    "obj244 = Sample244(244)\n",
    "obj244.display()"
   ]
  },
  {
   "cell_type": "code",
   "execution_count": 373,
   "id": "f5c15b9c",
   "metadata": {},
   "outputs": [
    {
     "name": "stdout",
     "output_type": "stream",
     "text": [
      "Sample245 Value: 245\n"
     ]
    }
   ],
   "source": [
    "# Cell 246 - class variables\n",
    "class Sample245:\n",
    "    def __init__(self, value):\n",
    "        self.value = value\n",
    "    def display(self):\n",
    "        print(f'Sample245 Value:', self.value)\n",
    "\n",
    "obj245 = Sample245(245)\n",
    "obj245.display()"
   ]
  },
  {
   "cell_type": "code",
   "execution_count": 374,
   "id": "7874d58e",
   "metadata": {},
   "outputs": [
    {
     "name": "stdout",
     "output_type": "stream",
     "text": [
      "Sample246 Value: 246\n"
     ]
    }
   ],
   "source": [
    "# Cell 247 - class methods\n",
    "class Sample246:\n",
    "    def __init__(self, value):\n",
    "        self.value = value\n",
    "    def display(self):\n",
    "        print(f'Sample246 Value:', self.value)\n",
    "\n",
    "obj246 = Sample246(246)\n",
    "obj246.display()"
   ]
  },
  {
   "cell_type": "code",
   "execution_count": 375,
   "id": "a0ef62b6",
   "metadata": {},
   "outputs": [
    {
     "name": "stdout",
     "output_type": "stream",
     "text": [
      "Sample247 Value: 247\n"
     ]
    }
   ],
   "source": [
    "# Cell 248 - polymorphism\n",
    "class Sample247:\n",
    "    def __init__(self, value):\n",
    "        self.value = value\n",
    "    def display(self):\n",
    "        print(f'Sample247 Value:', self.value)\n",
    "\n",
    "obj247 = Sample247(247)\n",
    "obj247.display()"
   ]
  },
  {
   "cell_type": "code",
   "execution_count": 376,
   "id": "e7f758b7",
   "metadata": {},
   "outputs": [
    {
     "name": "stdout",
     "output_type": "stream",
     "text": [
      "Sample248 Value: 248\n"
     ]
    }
   ],
   "source": [
    "# Cell 249 - aggregation\n",
    "class Sample248:\n",
    "    def __init__(self, value):\n",
    "        self.value = value\n",
    "    def display(self):\n",
    "        print(f'Sample248 Value:', self.value)\n",
    "\n",
    "obj248 = Sample248(248)\n",
    "obj248.display()"
   ]
  },
  {
   "cell_type": "code",
   "execution_count": 377,
   "id": "d5f34981",
   "metadata": {},
   "outputs": [
    {
     "name": "stdout",
     "output_type": "stream",
     "text": [
      "Sample249 Value: 249\n"
     ]
    }
   ],
   "source": [
    "# Cell 250 - class methods\n",
    "class Sample249:\n",
    "    def __init__(self, value):\n",
    "        self.value = value\n",
    "    def display(self):\n",
    "        print(f'Sample249 Value:', self.value)\n",
    "\n",
    "obj249 = Sample249(249)\n",
    "obj249.display()"
   ]
  },
  {
   "cell_type": "code",
   "execution_count": 378,
   "id": "9ce162a0",
   "metadata": {},
   "outputs": [
    {
     "name": "stdout",
     "output_type": "stream",
     "text": [
      "Sample250 Value: 250\n"
     ]
    }
   ],
   "source": [
    "# Cell 251 - class methods\n",
    "class Sample250:\n",
    "    def __init__(self, value):\n",
    "        self.value = value\n",
    "    def display(self):\n",
    "        print(f'Sample250 Value:', self.value)\n",
    "\n",
    "obj250 = Sample250(250)\n",
    "obj250.display()"
   ]
  },
  {
   "cell_type": "code",
   "execution_count": 379,
   "id": "78934a5b",
   "metadata": {},
   "outputs": [
    {
     "name": "stdout",
     "output_type": "stream",
     "text": [
      "Sample251 Value: 251\n"
     ]
    }
   ],
   "source": [
    "# Cell 252 - polymorphism\n",
    "class Sample251:\n",
    "    def __init__(self, value):\n",
    "        self.value = value\n",
    "    def display(self):\n",
    "        print(f'Sample251 Value:', self.value)\n",
    "\n",
    "obj251 = Sample251(251)\n",
    "obj251.display()"
   ]
  },
  {
   "cell_type": "code",
   "execution_count": 380,
   "id": "95fc270f",
   "metadata": {},
   "outputs": [
    {
     "name": "stdout",
     "output_type": "stream",
     "text": [
      "Sample252 Value: 252\n"
     ]
    }
   ],
   "source": [
    "# Cell 253 - composition\n",
    "class Sample252:\n",
    "    def __init__(self, value):\n",
    "        self.value = value\n",
    "    def display(self):\n",
    "        print(f'Sample252 Value:', self.value)\n",
    "\n",
    "obj252 = Sample252(252)\n",
    "obj252.display()"
   ]
  },
  {
   "cell_type": "code",
   "execution_count": 381,
   "id": "8fdf9119",
   "metadata": {},
   "outputs": [
    {
     "name": "stdout",
     "output_type": "stream",
     "text": [
      "Sample253 Value: 253\n"
     ]
    }
   ],
   "source": [
    "# Cell 254 - constructor\n",
    "class Sample253:\n",
    "    def __init__(self, value):\n",
    "        self.value = value\n",
    "    def display(self):\n",
    "        print(f'Sample253 Value:', self.value)\n",
    "\n",
    "obj253 = Sample253(253)\n",
    "obj253.display()"
   ]
  },
  {
   "cell_type": "code",
   "execution_count": 382,
   "id": "7dc569ec",
   "metadata": {},
   "outputs": [
    {
     "name": "stdout",
     "output_type": "stream",
     "text": [
      "Sample254 Value: 254\n"
     ]
    }
   ],
   "source": [
    "# Cell 255 - multiple inheritance\n",
    "class Sample254:\n",
    "    def __init__(self, value):\n",
    "        self.value = value\n",
    "    def display(self):\n",
    "        print(f'Sample254 Value:', self.value)\n",
    "\n",
    "obj254 = Sample254(254)\n",
    "obj254.display()"
   ]
  },
  {
   "cell_type": "code",
   "execution_count": 383,
   "id": "d306a63d",
   "metadata": {},
   "outputs": [
    {
     "name": "stdout",
     "output_type": "stream",
     "text": [
      "Sample255 Value: 255\n"
     ]
    }
   ],
   "source": [
    "# Cell 256 - inheritance\n",
    "class Sample255:\n",
    "    def __init__(self, value):\n",
    "        self.value = value\n",
    "    def display(self):\n",
    "        print(f'Sample255 Value:', self.value)\n",
    "\n",
    "obj255 = Sample255(255)\n",
    "obj255.display()"
   ]
  },
  {
   "cell_type": "code",
   "execution_count": 384,
   "id": "3f06f5e1",
   "metadata": {},
   "outputs": [
    {
     "name": "stdout",
     "output_type": "stream",
     "text": [
      "Sample256 Value: 256\n"
     ]
    }
   ],
   "source": [
    "# Cell 257 - class variables\n",
    "class Sample256:\n",
    "    def __init__(self, value):\n",
    "        self.value = value\n",
    "    def display(self):\n",
    "        print(f'Sample256 Value:', self.value)\n",
    "\n",
    "obj256 = Sample256(256)\n",
    "obj256.display()"
   ]
  },
  {
   "cell_type": "code",
   "execution_count": 385,
   "id": "004efbc4",
   "metadata": {},
   "outputs": [
    {
     "name": "stdout",
     "output_type": "stream",
     "text": [
      "Sample257 Value: 257\n"
     ]
    }
   ],
   "source": [
    "# Cell 258 - aggregation\n",
    "class Sample257:\n",
    "    def __init__(self, value):\n",
    "        self.value = value\n",
    "    def display(self):\n",
    "        print(f'Sample257 Value:', self.value)\n",
    "\n",
    "obj257 = Sample257(257)\n",
    "obj257.display()"
   ]
  },
  {
   "cell_type": "code",
   "execution_count": 386,
   "id": "90675418",
   "metadata": {},
   "outputs": [
    {
     "name": "stdout",
     "output_type": "stream",
     "text": [
      "Sample258 Value: 258\n"
     ]
    }
   ],
   "source": [
    "# Cell 259 - composition\n",
    "class Sample258:\n",
    "    def __init__(self, value):\n",
    "        self.value = value\n",
    "    def display(self):\n",
    "        print(f'Sample258 Value:', self.value)\n",
    "\n",
    "obj258 = Sample258(258)\n",
    "obj258.display()"
   ]
  },
  {
   "cell_type": "code",
   "execution_count": 387,
   "id": "ec0eb11d",
   "metadata": {},
   "outputs": [
    {
     "name": "stdout",
     "output_type": "stream",
     "text": [
      "Sample259 Value: 259\n"
     ]
    }
   ],
   "source": [
    "# Cell 260 - constructor\n",
    "class Sample259:\n",
    "    def __init__(self, value):\n",
    "        self.value = value\n",
    "    def display(self):\n",
    "        print(f'Sample259 Value:', self.value)\n",
    "\n",
    "obj259 = Sample259(259)\n",
    "obj259.display()"
   ]
  },
  {
   "cell_type": "code",
   "execution_count": 388,
   "id": "32ebdef9",
   "metadata": {},
   "outputs": [
    {
     "name": "stdout",
     "output_type": "stream",
     "text": [
      "Sample260 Value: 260\n"
     ]
    }
   ],
   "source": [
    "# Cell 261 - aggregation\n",
    "class Sample260:\n",
    "    def __init__(self, value):\n",
    "        self.value = value\n",
    "    def display(self):\n",
    "        print(f'Sample260 Value:', self.value)\n",
    "\n",
    "obj260 = Sample260(260)\n",
    "obj260.display()"
   ]
  },
  {
   "cell_type": "code",
   "execution_count": 389,
   "id": "78c5f8dd",
   "metadata": {},
   "outputs": [
    {
     "name": "stdout",
     "output_type": "stream",
     "text": [
      "Sample261 Value: 261\n"
     ]
    }
   ],
   "source": [
    "# Cell 262 - aggregation\n",
    "class Sample261:\n",
    "    def __init__(self, value):\n",
    "        self.value = value\n",
    "    def display(self):\n",
    "        print(f'Sample261 Value:', self.value)\n",
    "\n",
    "obj261 = Sample261(261)\n",
    "obj261.display()"
   ]
  },
  {
   "cell_type": "code",
   "execution_count": 390,
   "id": "8f27f0cf",
   "metadata": {},
   "outputs": [
    {
     "name": "stdout",
     "output_type": "stream",
     "text": [
      "Sample262 Value: 262\n"
     ]
    }
   ],
   "source": [
    "# Cell 263 - instance methods\n",
    "class Sample262:\n",
    "    def __init__(self, value):\n",
    "        self.value = value\n",
    "    def display(self):\n",
    "        print(f'Sample262 Value:', self.value)\n",
    "\n",
    "obj262 = Sample262(262)\n",
    "obj262.display()"
   ]
  },
  {
   "cell_type": "code",
   "execution_count": 391,
   "id": "17a5d7d2",
   "metadata": {},
   "outputs": [
    {
     "name": "stdout",
     "output_type": "stream",
     "text": [
      "Sample263 Value: 263\n"
     ]
    }
   ],
   "source": [
    "# Cell 264 - aggregation\n",
    "class Sample263:\n",
    "    def __init__(self, value):\n",
    "        self.value = value\n",
    "    def display(self):\n",
    "        print(f'Sample263 Value:', self.value)\n",
    "\n",
    "obj263 = Sample263(263)\n",
    "obj263.display()"
   ]
  },
  {
   "cell_type": "code",
   "execution_count": 392,
   "id": "dca4eb12",
   "metadata": {},
   "outputs": [
    {
     "name": "stdout",
     "output_type": "stream",
     "text": [
      "Sample264 Value: 264\n"
     ]
    }
   ],
   "source": [
    "# Cell 265 - constructor\n",
    "class Sample264:\n",
    "    def __init__(self, value):\n",
    "        self.value = value\n",
    "    def display(self):\n",
    "        print(f'Sample264 Value:', self.value)\n",
    "\n",
    "obj264 = Sample264(264)\n",
    "obj264.display()"
   ]
  },
  {
   "cell_type": "code",
   "execution_count": 393,
   "id": "dbafedd9",
   "metadata": {},
   "outputs": [
    {
     "name": "stdout",
     "output_type": "stream",
     "text": [
      "Sample265 Value: 265\n"
     ]
    }
   ],
   "source": [
    "# Cell 266 - dunder methods\n",
    "class Sample265:\n",
    "    def __init__(self, value):\n",
    "        self.value = value\n",
    "    def display(self):\n",
    "        print(f'Sample265 Value:', self.value)\n",
    "\n",
    "obj265 = Sample265(265)\n",
    "obj265.display()"
   ]
  },
  {
   "cell_type": "code",
   "execution_count": 394,
   "id": "216d95ae",
   "metadata": {},
   "outputs": [
    {
     "name": "stdout",
     "output_type": "stream",
     "text": [
      "Sample266 Value: 266\n"
     ]
    }
   ],
   "source": [
    "# Cell 267 - constructor\n",
    "class Sample266:\n",
    "    def __init__(self, value):\n",
    "        self.value = value\n",
    "    def display(self):\n",
    "        print(f'Sample266 Value:', self.value)\n",
    "\n",
    "obj266 = Sample266(266)\n",
    "obj266.display()"
   ]
  },
  {
   "cell_type": "code",
   "execution_count": 395,
   "id": "2f8fd6c3",
   "metadata": {},
   "outputs": [
    {
     "name": "stdout",
     "output_type": "stream",
     "text": [
      "Sample267 Value: 267\n"
     ]
    }
   ],
   "source": [
    "# Cell 268 - class variables\n",
    "class Sample267:\n",
    "    def __init__(self, value):\n",
    "        self.value = value\n",
    "    def display(self):\n",
    "        print(f'Sample267 Value:', self.value)\n",
    "\n",
    "obj267 = Sample267(267)\n",
    "obj267.display()"
   ]
  },
  {
   "cell_type": "code",
   "execution_count": 396,
   "id": "27e2776b",
   "metadata": {},
   "outputs": [
    {
     "name": "stdout",
     "output_type": "stream",
     "text": [
      "Sample268 Value: 268\n"
     ]
    }
   ],
   "source": [
    "# Cell 269 - class variables\n",
    "class Sample268:\n",
    "    def __init__(self, value):\n",
    "        self.value = value\n",
    "    def display(self):\n",
    "        print(f'Sample268 Value:', self.value)\n",
    "\n",
    "obj268 = Sample268(268)\n",
    "obj268.display()"
   ]
  },
  {
   "cell_type": "code",
   "execution_count": 397,
   "id": "9a522264",
   "metadata": {},
   "outputs": [
    {
     "name": "stdout",
     "output_type": "stream",
     "text": [
      "Sample269 Value: 269\n"
     ]
    }
   ],
   "source": [
    "# Cell 270 - instance variables\n",
    "class Sample269:\n",
    "    def __init__(self, value):\n",
    "        self.value = value\n",
    "    def display(self):\n",
    "        print(f'Sample269 Value:', self.value)\n",
    "\n",
    "obj269 = Sample269(269)\n",
    "obj269.display()"
   ]
  },
  {
   "cell_type": "code",
   "execution_count": 398,
   "id": "6555743b",
   "metadata": {},
   "outputs": [
    {
     "name": "stdout",
     "output_type": "stream",
     "text": [
      "Sample270 Value: 270\n"
     ]
    }
   ],
   "source": [
    "# Cell 271 - polymorphism\n",
    "class Sample270:\n",
    "    def __init__(self, value):\n",
    "        self.value = value\n",
    "    def display(self):\n",
    "        print(f'Sample270 Value:', self.value)\n",
    "\n",
    "obj270 = Sample270(270)\n",
    "obj270.display()"
   ]
  },
  {
   "cell_type": "code",
   "execution_count": 399,
   "id": "e26e48e7",
   "metadata": {},
   "outputs": [
    {
     "name": "stdout",
     "output_type": "stream",
     "text": [
      "Sample271 Value: 271\n"
     ]
    }
   ],
   "source": [
    "# Cell 272 - dunder methods\n",
    "class Sample271:\n",
    "    def __init__(self, value):\n",
    "        self.value = value\n",
    "    def display(self):\n",
    "        print(f'Sample271 Value:', self.value)\n",
    "\n",
    "obj271 = Sample271(271)\n",
    "obj271.display()"
   ]
  },
  {
   "cell_type": "code",
   "execution_count": 400,
   "id": "e10080de",
   "metadata": {},
   "outputs": [
    {
     "name": "stdout",
     "output_type": "stream",
     "text": [
      "Sample272 Value: 272\n"
     ]
    }
   ],
   "source": [
    "# Cell 273 - polymorphism\n",
    "class Sample272:\n",
    "    def __init__(self, value):\n",
    "        self.value = value\n",
    "    def display(self):\n",
    "        print(f'Sample272 Value:', self.value)\n",
    "\n",
    "obj272 = Sample272(272)\n",
    "obj272.display()"
   ]
  },
  {
   "cell_type": "code",
   "execution_count": 401,
   "id": "3ab62477",
   "metadata": {},
   "outputs": [
    {
     "name": "stdout",
     "output_type": "stream",
     "text": [
      "Sample273 Value: 273\n"
     ]
    }
   ],
   "source": [
    "# Cell 274 - static methods\n",
    "class Sample273:\n",
    "    def __init__(self, value):\n",
    "        self.value = value\n",
    "    def display(self):\n",
    "        print(f'Sample273 Value:', self.value)\n",
    "\n",
    "obj273 = Sample273(273)\n",
    "obj273.display()"
   ]
  },
  {
   "cell_type": "code",
   "execution_count": 402,
   "id": "fe0dc585",
   "metadata": {},
   "outputs": [
    {
     "name": "stdout",
     "output_type": "stream",
     "text": [
      "Sample274 Value: 274\n"
     ]
    }
   ],
   "source": [
    "# Cell 275 - polymorphism\n",
    "class Sample274:\n",
    "    def __init__(self, value):\n",
    "        self.value = value\n",
    "    def display(self):\n",
    "        print(f'Sample274 Value:', self.value)\n",
    "\n",
    "obj274 = Sample274(274)\n",
    "obj274.display()"
   ]
  },
  {
   "cell_type": "code",
   "execution_count": 403,
   "id": "fc125e39",
   "metadata": {},
   "outputs": [
    {
     "name": "stdout",
     "output_type": "stream",
     "text": [
      "Sample275 Value: 275\n"
     ]
    }
   ],
   "source": [
    "# Cell 276 - polymorphism\n",
    "class Sample275:\n",
    "    def __init__(self, value):\n",
    "        self.value = value\n",
    "    def display(self):\n",
    "        print(f'Sample275 Value:', self.value)\n",
    "\n",
    "obj275 = Sample275(275)\n",
    "obj275.display()"
   ]
  },
  {
   "cell_type": "code",
   "execution_count": 404,
   "id": "1e68308b",
   "metadata": {},
   "outputs": [
    {
     "name": "stdout",
     "output_type": "stream",
     "text": [
      "Sample276 Value: 276\n"
     ]
    }
   ],
   "source": [
    "# Cell 277 - constructor\n",
    "class Sample276:\n",
    "    def __init__(self, value):\n",
    "        self.value = value\n",
    "    def display(self):\n",
    "        print(f'Sample276 Value:', self.value)\n",
    "\n",
    "obj276 = Sample276(276)\n",
    "obj276.display()"
   ]
  },
  {
   "cell_type": "code",
   "execution_count": 405,
   "id": "76a9a32d",
   "metadata": {},
   "outputs": [
    {
     "name": "stdout",
     "output_type": "stream",
     "text": [
      "Sample277 Value: 277\n"
     ]
    }
   ],
   "source": [
    "# Cell 278 - method overriding\n",
    "class Sample277:\n",
    "    def __init__(self, value):\n",
    "        self.value = value\n",
    "    def display(self):\n",
    "        print(f'Sample277 Value:', self.value)\n",
    "\n",
    "obj277 = Sample277(277)\n",
    "obj277.display()"
   ]
  },
  {
   "cell_type": "code",
   "execution_count": 406,
   "id": "64f17a27",
   "metadata": {},
   "outputs": [
    {
     "name": "stdout",
     "output_type": "stream",
     "text": [
      "Sample278 Value: 278\n"
     ]
    }
   ],
   "source": [
    "# Cell 279 - class definition\n",
    "class Sample278:\n",
    "    def __init__(self, value):\n",
    "        self.value = value\n",
    "    def display(self):\n",
    "        print(f'Sample278 Value:', self.value)\n",
    "\n",
    "obj278 = Sample278(278)\n",
    "obj278.display()"
   ]
  },
  {
   "cell_type": "code",
   "execution_count": 407,
   "id": "221f2fa3",
   "metadata": {},
   "outputs": [
    {
     "name": "stdout",
     "output_type": "stream",
     "text": [
      "Sample279 Value: 279\n"
     ]
    }
   ],
   "source": [
    "# Cell 280 - polymorphism\n",
    "class Sample279:\n",
    "    def __init__(self, value):\n",
    "        self.value = value\n",
    "    def display(self):\n",
    "        print(f'Sample279 Value:', self.value)\n",
    "\n",
    "obj279 = Sample279(279)\n",
    "obj279.display()"
   ]
  },
  {
   "cell_type": "code",
   "execution_count": 408,
   "id": "f7e513f0",
   "metadata": {},
   "outputs": [
    {
     "name": "stdout",
     "output_type": "stream",
     "text": [
      "Sample280 Value: 280\n"
     ]
    }
   ],
   "source": [
    "# Cell 281 - multiple inheritance\n",
    "class Sample280:\n",
    "    def __init__(self, value):\n",
    "        self.value = value\n",
    "    def display(self):\n",
    "        print(f'Sample280 Value:', self.value)\n",
    "\n",
    "obj280 = Sample280(280)\n",
    "obj280.display()"
   ]
  },
  {
   "cell_type": "code",
   "execution_count": 409,
   "id": "11aeb209",
   "metadata": {},
   "outputs": [
    {
     "name": "stdout",
     "output_type": "stream",
     "text": [
      "Sample281 Value: 281\n"
     ]
    }
   ],
   "source": [
    "# Cell 282 - polymorphism\n",
    "class Sample281:\n",
    "    def __init__(self, value):\n",
    "        self.value = value\n",
    "    def display(self):\n",
    "        print(f'Sample281 Value:', self.value)\n",
    "\n",
    "obj281 = Sample281(281)\n",
    "obj281.display()"
   ]
  },
  {
   "cell_type": "code",
   "execution_count": 410,
   "id": "9990fff7",
   "metadata": {},
   "outputs": [
    {
     "name": "stdout",
     "output_type": "stream",
     "text": [
      "Sample282 Value: 282\n"
     ]
    }
   ],
   "source": [
    "# Cell 283 - composition\n",
    "class Sample282:\n",
    "    def __init__(self, value):\n",
    "        self.value = value\n",
    "    def display(self):\n",
    "        print(f'Sample282 Value:', self.value)\n",
    "\n",
    "obj282 = Sample282(282)\n",
    "obj282.display()"
   ]
  },
  {
   "cell_type": "code",
   "execution_count": 411,
   "id": "a881fedb",
   "metadata": {},
   "outputs": [
    {
     "name": "stdout",
     "output_type": "stream",
     "text": [
      "Sample283 Value: 283\n"
     ]
    }
   ],
   "source": [
    "# Cell 284 - inheritance\n",
    "class Sample283:\n",
    "    def __init__(self, value):\n",
    "        self.value = value\n",
    "    def display(self):\n",
    "        print(f'Sample283 Value:', self.value)\n",
    "\n",
    "obj283 = Sample283(283)\n",
    "obj283.display()"
   ]
  },
  {
   "cell_type": "code",
   "execution_count": 412,
   "id": "ceeceb83",
   "metadata": {},
   "outputs": [
    {
     "name": "stdout",
     "output_type": "stream",
     "text": [
      "Sample284 Value: 284\n"
     ]
    }
   ],
   "source": [
    "# Cell 285 - polymorphism\n",
    "class Sample284:\n",
    "    def __init__(self, value):\n",
    "        self.value = value\n",
    "    def display(self):\n",
    "        print(f'Sample284 Value:', self.value)\n",
    "\n",
    "obj284 = Sample284(284)\n",
    "obj284.display()"
   ]
  },
  {
   "cell_type": "code",
   "execution_count": 413,
   "id": "6a1dcbe3",
   "metadata": {},
   "outputs": [
    {
     "name": "stdout",
     "output_type": "stream",
     "text": [
      "Sample285 Value: 285\n"
     ]
    }
   ],
   "source": [
    "# Cell 286 - encapsulation\n",
    "class Sample285:\n",
    "    def __init__(self, value):\n",
    "        self.value = value\n",
    "    def display(self):\n",
    "        print(f'Sample285 Value:', self.value)\n",
    "\n",
    "obj285 = Sample285(285)\n",
    "obj285.display()"
   ]
  },
  {
   "cell_type": "code",
   "execution_count": 414,
   "id": "c3ec2c93",
   "metadata": {},
   "outputs": [
    {
     "name": "stdout",
     "output_type": "stream",
     "text": [
      "Sample286 Value: 286\n"
     ]
    }
   ],
   "source": [
    "# Cell 287 - class definition\n",
    "class Sample286:\n",
    "    def __init__(self, value):\n",
    "        self.value = value\n",
    "    def display(self):\n",
    "        print(f'Sample286 Value:', self.value)\n",
    "\n",
    "obj286 = Sample286(286)\n",
    "obj286.display()"
   ]
  },
  {
   "cell_type": "code",
   "execution_count": 415,
   "id": "86f2032d",
   "metadata": {},
   "outputs": [
    {
     "name": "stdout",
     "output_type": "stream",
     "text": [
      "Sample287 Value: 287\n"
     ]
    }
   ],
   "source": [
    "# Cell 288 - encapsulation\n",
    "class Sample287:\n",
    "    def __init__(self, value):\n",
    "        self.value = value\n",
    "    def display(self):\n",
    "        print(f'Sample287 Value:', self.value)\n",
    "\n",
    "obj287 = Sample287(287)\n",
    "obj287.display()"
   ]
  },
  {
   "cell_type": "code",
   "execution_count": 416,
   "id": "cfea30c3",
   "metadata": {},
   "outputs": [
    {
     "name": "stdout",
     "output_type": "stream",
     "text": [
      "Sample288 Value: 288\n"
     ]
    }
   ],
   "source": [
    "# Cell 289 - encapsulation\n",
    "class Sample288:\n",
    "    def __init__(self, value):\n",
    "        self.value = value\n",
    "    def display(self):\n",
    "        print(f'Sample288 Value:', self.value)\n",
    "\n",
    "obj288 = Sample288(288)\n",
    "obj288.display()"
   ]
  },
  {
   "cell_type": "code",
   "execution_count": 417,
   "id": "cde87f21",
   "metadata": {},
   "outputs": [
    {
     "name": "stdout",
     "output_type": "stream",
     "text": [
      "Sample289 Value: 289\n"
     ]
    }
   ],
   "source": [
    "# Cell 290 - inheritance\n",
    "class Sample289:\n",
    "    def __init__(self, value):\n",
    "        self.value = value\n",
    "    def display(self):\n",
    "        print(f'Sample289 Value:', self.value)\n",
    "\n",
    "obj289 = Sample289(289)\n",
    "obj289.display()"
   ]
  },
  {
   "cell_type": "code",
   "execution_count": 418,
   "id": "0f6fb3d5",
   "metadata": {},
   "outputs": [
    {
     "name": "stdout",
     "output_type": "stream",
     "text": [
      "Sample290 Value: 290\n"
     ]
    }
   ],
   "source": [
    "# Cell 291 - dunder methods\n",
    "class Sample290:\n",
    "    def __init__(self, value):\n",
    "        self.value = value\n",
    "    def display(self):\n",
    "        print(f'Sample290 Value:', self.value)\n",
    "\n",
    "obj290 = Sample290(290)\n",
    "obj290.display()"
   ]
  },
  {
   "cell_type": "code",
   "execution_count": 419,
   "id": "a2fb2602",
   "metadata": {},
   "outputs": [
    {
     "name": "stdout",
     "output_type": "stream",
     "text": [
      "Sample291 Value: 291\n"
     ]
    }
   ],
   "source": [
    "# Cell 292 - inheritance\n",
    "class Sample291:\n",
    "    def __init__(self, value):\n",
    "        self.value = value\n",
    "    def display(self):\n",
    "        print(f'Sample291 Value:', self.value)\n",
    "\n",
    "obj291 = Sample291(291)\n",
    "obj291.display()"
   ]
  },
  {
   "cell_type": "code",
   "execution_count": 420,
   "id": "8ad66fcf",
   "metadata": {},
   "outputs": [
    {
     "name": "stdout",
     "output_type": "stream",
     "text": [
      "Sample292 Value: 292\n"
     ]
    }
   ],
   "source": [
    "# Cell 293 - class definition\n",
    "class Sample292:\n",
    "    def __init__(self, value):\n",
    "        self.value = value\n",
    "    def display(self):\n",
    "        print(f'Sample292 Value:', self.value)\n",
    "\n",
    "obj292 = Sample292(292)\n",
    "obj292.display()"
   ]
  },
  {
   "cell_type": "code",
   "execution_count": 421,
   "id": "598d86a7",
   "metadata": {},
   "outputs": [
    {
     "name": "stdout",
     "output_type": "stream",
     "text": [
      "Sample293 Value: 293\n"
     ]
    }
   ],
   "source": [
    "# Cell 294 - class methods\n",
    "class Sample293:\n",
    "    def __init__(self, value):\n",
    "        self.value = value\n",
    "    def display(self):\n",
    "        print(f'Sample293 Value:', self.value)\n",
    "\n",
    "obj293 = Sample293(293)\n",
    "obj293.display()"
   ]
  },
  {
   "cell_type": "code",
   "execution_count": 422,
   "id": "878c5253",
   "metadata": {},
   "outputs": [
    {
     "name": "stdout",
     "output_type": "stream",
     "text": [
      "Sample294 Value: 294\n"
     ]
    }
   ],
   "source": [
    "# Cell 295 - instance methods\n",
    "class Sample294:\n",
    "    def __init__(self, value):\n",
    "        self.value = value\n",
    "    def display(self):\n",
    "        print(f'Sample294 Value:', self.value)\n",
    "\n",
    "obj294 = Sample294(294)\n",
    "obj294.display()"
   ]
  },
  {
   "cell_type": "code",
   "execution_count": 423,
   "id": "5dd71c82",
   "metadata": {},
   "outputs": [
    {
     "name": "stdout",
     "output_type": "stream",
     "text": [
      "Sample295 Value: 295\n"
     ]
    }
   ],
   "source": [
    "# Cell 296 - inheritance\n",
    "class Sample295:\n",
    "    def __init__(self, value):\n",
    "        self.value = value\n",
    "    def display(self):\n",
    "        print(f'Sample295 Value:', self.value)\n",
    "\n",
    "obj295 = Sample295(295)\n",
    "obj295.display()"
   ]
  },
  {
   "cell_type": "code",
   "execution_count": 424,
   "id": "3fed8229",
   "metadata": {},
   "outputs": [
    {
     "name": "stdout",
     "output_type": "stream",
     "text": [
      "Sample296 Value: 296\n"
     ]
    }
   ],
   "source": [
    "# Cell 297 - inheritance\n",
    "class Sample296:\n",
    "    def __init__(self, value):\n",
    "        self.value = value\n",
    "    def display(self):\n",
    "        print(f'Sample296 Value:', self.value)\n",
    "\n",
    "obj296 = Sample296(296)\n",
    "obj296.display()"
   ]
  },
  {
   "cell_type": "code",
   "execution_count": 425,
   "id": "f616587f",
   "metadata": {},
   "outputs": [
    {
     "name": "stdout",
     "output_type": "stream",
     "text": [
      "Sample297 Value: 297\n"
     ]
    }
   ],
   "source": [
    "# Cell 298 - encapsulation\n",
    "class Sample297:\n",
    "    def __init__(self, value):\n",
    "        self.value = value\n",
    "    def display(self):\n",
    "        print(f'Sample297 Value:', self.value)\n",
    "\n",
    "obj297 = Sample297(297)\n",
    "obj297.display()"
   ]
  },
  {
   "cell_type": "code",
   "execution_count": 426,
   "id": "70c36914",
   "metadata": {},
   "outputs": [
    {
     "name": "stdout",
     "output_type": "stream",
     "text": [
      "Sample298 Value: 298\n"
     ]
    }
   ],
   "source": [
    "# Cell 299 - polymorphism\n",
    "class Sample298:\n",
    "    def __init__(self, value):\n",
    "        self.value = value\n",
    "    def display(self):\n",
    "        print(f'Sample298 Value:', self.value)\n",
    "\n",
    "obj298 = Sample298(298)\n",
    "obj298.display()"
   ]
  },
  {
   "cell_type": "code",
   "execution_count": 427,
   "id": "954ffb31",
   "metadata": {},
   "outputs": [
    {
     "name": "stdout",
     "output_type": "stream",
     "text": [
      "Sample299 Value: 299\n"
     ]
    }
   ],
   "source": [
    "# Cell 300 - instance methods\n",
    "class Sample299:\n",
    "    def __init__(self, value):\n",
    "        self.value = value\n",
    "    def display(self):\n",
    "        print(f'Sample299 Value:', self.value)\n",
    "\n",
    "obj299 = Sample299(299)\n",
    "obj299.display()"
   ]
  }
 ],
 "metadata": {
  "kernelspec": {
   "display_name": "Python 3 (ipykernel)",
   "language": "python",
   "name": "python3"
  },
  "language_info": {
   "codemirror_mode": {
    "name": "ipython",
    "version": 3
   },
   "file_extension": ".py",
   "mimetype": "text/x-python",
   "name": "python",
   "nbconvert_exporter": "python",
   "pygments_lexer": "ipython3",
   "version": "3.12.11"
  }
 },
 "nbformat": 4,
 "nbformat_minor": 5
}
