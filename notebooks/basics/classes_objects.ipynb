{
 "cells": [
  {
   "cell_type": "code",
   "execution_count": null,
   "id": "467c2797",
   "metadata": {},
   "outputs": [],
   "source": [
    "# Cell 1 - instance methods\n",
    "class Sample0:\n",
    "    def __init__(self, value):\n",
    "        self.value = value\n",
    "    def display(self):\n",
    "        print(f'Sample0 Value:', self.value)\n",
    "\n",
    "obj0 = Sample0(0)\n",
    "obj0.display()"
   ]
  },
  {
   "cell_type": "code",
   "execution_count": null,
   "id": "260e6144",
   "metadata": {},
   "outputs": [],
   "source": [
    "# Cell 2 - composition\n",
    "class Sample1:\n",
    "    def __init__(self, value):\n",
    "        self.value = value\n",
    "    def display(self):\n",
    "        print(f'Sample1 Value:', self.value)\n",
    "\n",
    "obj1 = Sample1(1)\n",
    "obj1.display()"
   ]
  },
  {
   "cell_type": "code",
   "execution_count": null,
   "id": "19ac47d8",
   "metadata": {},
   "outputs": [],
   "source": [
    "# Cell 3 - encapsulation\n",
    "class Sample2:\n",
    "    def __init__(self, value):\n",
    "        self.value = value\n",
    "    def display(self):\n",
    "        print(f'Sample2 Value:', self.value)\n",
    "\n",
    "obj2 = Sample2(2)\n",
    "obj2.display()"
   ]
  },
  {
   "cell_type": "code",
   "execution_count": null,
   "id": "9227b0e5",
   "metadata": {},
   "outputs": [],
   "source": [
    "# Cell 4 - encapsulation\n",
    "class Sample3:\n",
    "    def __init__(self, value):\n",
    "        self.value = value\n",
    "    def display(self):\n",
    "        print(f'Sample3 Value:', self.value)\n",
    "\n",
    "obj3 = Sample3(3)\n",
    "obj3.display()"
   ]
  },
  {
   "cell_type": "code",
   "execution_count": null,
   "id": "487ccf10",
   "metadata": {},
   "outputs": [],
   "source": [
    "# Cell 5 - class variables\n",
    "class Sample4:\n",
    "    def __init__(self, value):\n",
    "        self.value = value\n",
    "    def display(self):\n",
    "        print(f'Sample4 Value:', self.value)\n",
    "\n",
    "obj4 = Sample4(4)\n",
    "obj4.display()"
   ]
  },
  {
   "cell_type": "code",
   "execution_count": null,
   "id": "d64b6655",
   "metadata": {},
   "outputs": [],
   "source": [
    "# Cell 6 - instance variables\n",
    "class Sample5:\n",
    "    def __init__(self, value):\n",
    "        self.value = value\n",
    "    def display(self):\n",
    "        print(f'Sample5 Value:', self.value)\n",
    "\n",
    "obj5 = Sample5(5)\n",
    "obj5.display()"
   ]
  },
  {
   "cell_type": "code",
   "execution_count": null,
   "id": "6921c6f6",
   "metadata": {},
   "outputs": [],
   "source": [
    "# Cell 7 - inheritance\n",
    "class Sample6:\n",
    "    def __init__(self, value):\n",
    "        self.value = value\n",
    "    def display(self):\n",
    "        print(f'Sample6 Value:', self.value)\n",
    "\n",
    "obj6 = Sample6(6)\n",
    "obj6.display()"
   ]
  },
  {
   "cell_type": "code",
   "execution_count": null,
   "id": "f967cf2f",
   "metadata": {},
   "outputs": [],
   "source": [
    "# Cell 8 - polymorphism\n",
    "class Sample7:\n",
    "    def __init__(self, value):\n",
    "        self.value = value\n",
    "    def display(self):\n",
    "        print(f'Sample7 Value:', self.value)\n",
    "\n",
    "obj7 = Sample7(7)\n",
    "obj7.display()"
   ]
  },
  {
   "cell_type": "code",
   "execution_count": null,
   "id": "53989898",
   "metadata": {},
   "outputs": [],
   "source": [
    "# Cell 9 - method overriding\n",
    "class Sample8:\n",
    "    def __init__(self, value):\n",
    "        self.value = value\n",
    "    def display(self):\n",
    "        print(f'Sample8 Value:', self.value)\n",
    "\n",
    "obj8 = Sample8(8)\n",
    "obj8.display()"
   ]
  },
  {
   "cell_type": "code",
   "execution_count": null,
   "id": "b54282b6",
   "metadata": {},
   "outputs": [],
   "source": [
    "# Cell 10 - aggregation\n",
    "class Sample9:\n",
    "    def __init__(self, value):\n",
    "        self.value = value\n",
    "    def display(self):\n",
    "        print(f'Sample9 Value:', self.value)\n",
    "\n",
    "obj9 = Sample9(9)\n",
    "obj9.display()"
   ]
  },
  {
   "cell_type": "code",
   "execution_count": null,
   "id": "c543cff6",
   "metadata": {},
   "outputs": [],
   "source": [
    "# Cell 11 - method overriding\n",
    "class Sample10:\n",
    "    def __init__(self, value):\n",
    "        self.value = value\n",
    "    def display(self):\n",
    "        print(f'Sample10 Value:', self.value)\n",
    "\n",
    "obj10 = Sample10(10)\n",
    "obj10.display()"
   ]
  },
  {
   "cell_type": "code",
   "execution_count": null,
   "id": "e2912af1",
   "metadata": {},
   "outputs": [],
   "source": [
    "# Cell 12 - static methods\n",
    "class Sample11:\n",
    "    def __init__(self, value):\n",
    "        self.value = value\n",
    "    def display(self):\n",
    "        print(f'Sample11 Value:', self.value)\n",
    "\n",
    "obj11 = Sample11(11)\n",
    "obj11.display()"
   ]
  },
  {
   "cell_type": "code",
   "execution_count": null,
   "id": "77170293",
   "metadata": {},
   "outputs": [],
   "source": [
    "# Cell 13 - inheritance\n",
    "class Sample12:\n",
    "    def __init__(self, value):\n",
    "        self.value = value\n",
    "    def display(self):\n",
    "        print(f'Sample12 Value:', self.value)\n",
    "\n",
    "obj12 = Sample12(12)\n",
    "obj12.display()"
   ]
  },
  {
   "cell_type": "code",
   "execution_count": null,
   "id": "e580703f",
   "metadata": {},
   "outputs": [],
   "source": [
    "# Cell 14 - class methods\n",
    "class Sample13:\n",
    "    def __init__(self, value):\n",
    "        self.value = value\n",
    "    def display(self):\n",
    "        print(f'Sample13 Value:', self.value)\n",
    "\n",
    "obj13 = Sample13(13)\n",
    "obj13.display()"
   ]
  },
  {
   "cell_type": "code",
   "execution_count": null,
   "id": "da5892f9",
   "metadata": {},
   "outputs": [],
   "source": [
    "# Cell 15 - multiple inheritance\n",
    "class Sample14:\n",
    "    def __init__(self, value):\n",
    "        self.value = value\n",
    "    def display(self):\n",
    "        print(f'Sample14 Value:', self.value)\n",
    "\n",
    "obj14 = Sample14(14)\n",
    "obj14.display()"
   ]
  },
  {
   "cell_type": "code",
   "execution_count": null,
   "id": "8426ada4",
   "metadata": {},
   "outputs": [],
   "source": [
    "# Cell 16 - method overriding\n",
    "class Sample15:\n",
    "    def __init__(self, value):\n",
    "        self.value = value\n",
    "    def display(self):\n",
    "        print(f'Sample15 Value:', self.value)\n",
    "\n",
    "obj15 = Sample15(15)\n",
    "obj15.display()"
   ]
  },
  {
   "cell_type": "code",
   "execution_count": null,
   "id": "27827fcf",
   "metadata": {},
   "outputs": [],
   "source": [
    "# Cell 17 - polymorphism\n",
    "class Sample16:\n",
    "    def __init__(self, value):\n",
    "        self.value = value\n",
    "    def display(self):\n",
    "        print(f'Sample16 Value:', self.value)\n",
    "\n",
    "obj16 = Sample16(16)\n",
    "obj16.display()"
   ]
  },
  {
   "cell_type": "code",
   "execution_count": null,
   "id": "59c11e81",
   "metadata": {},
   "outputs": [],
   "source": [
    "# Cell 18 - static methods\n",
    "class Sample17:\n",
    "    def __init__(self, value):\n",
    "        self.value = value\n",
    "    def display(self):\n",
    "        print(f'Sample17 Value:', self.value)\n",
    "\n",
    "obj17 = Sample17(17)\n",
    "obj17.display()"
   ]
  },
  {
   "cell_type": "code",
   "execution_count": null,
   "id": "2131907c",
   "metadata": {},
   "outputs": [],
   "source": [
    "# Cell 19 - method overriding\n",
    "class Sample18:\n",
    "    def __init__(self, value):\n",
    "        self.value = value\n",
    "    def display(self):\n",
    "        print(f'Sample18 Value:', self.value)\n",
    "\n",
    "obj18 = Sample18(18)\n",
    "obj18.display()"
   ]
  },
  {
   "cell_type": "code",
   "execution_count": null,
   "id": "425d9536",
   "metadata": {},
   "outputs": [],
   "source": [
    "# Cell 20 - encapsulation\n",
    "class Sample19:\n",
    "    def __init__(self, value):\n",
    "        self.value = value\n",
    "    def display(self):\n",
    "        print(f'Sample19 Value:', self.value)\n",
    "\n",
    "obj19 = Sample19(19)\n",
    "obj19.display()"
   ]
  },
  {
   "cell_type": "code",
   "execution_count": null,
   "id": "94a95b0c",
   "metadata": {},
   "outputs": [],
   "source": [
    "# Cell 21 - class methods\n",
    "class Sample20:\n",
    "    def __init__(self, value):\n",
    "        self.value = value\n",
    "    def display(self):\n",
    "        print(f'Sample20 Value:', self.value)\n",
    "\n",
    "obj20 = Sample20(20)\n",
    "obj20.display()"
   ]
  },
  {
   "cell_type": "code",
   "execution_count": null,
   "id": "d9c53d8b",
   "metadata": {},
   "outputs": [],
   "source": [
    "# Cell 22 - instance methods\n",
    "class Sample21:\n",
    "    def __init__(self, value):\n",
    "        self.value = value\n",
    "    def display(self):\n",
    "        print(f'Sample21 Value:', self.value)\n",
    "\n",
    "obj21 = Sample21(21)\n",
    "obj21.display()"
   ]
  },
  {
   "cell_type": "code",
   "execution_count": null,
   "id": "38421f1b",
   "metadata": {},
   "outputs": [],
   "source": [
    "# Cell 23 - polymorphism\n",
    "class Sample22:\n",
    "    def __init__(self, value):\n",
    "        self.value = value\n",
    "    def display(self):\n",
    "        print(f'Sample22 Value:', self.value)\n",
    "\n",
    "obj22 = Sample22(22)\n",
    "obj22.display()"
   ]
  },
  {
   "cell_type": "code",
   "execution_count": null,
   "id": "6eb24bcd",
   "metadata": {},
   "outputs": [],
   "source": [
    "# Cell 24 - constructor\n",
    "class Sample23:\n",
    "    def __init__(self, value):\n",
    "        self.value = value\n",
    "    def display(self):\n",
    "        print(f'Sample23 Value:', self.value)\n",
    "\n",
    "obj23 = Sample23(23)\n",
    "obj23.display()"
   ]
  },
  {
   "cell_type": "code",
   "execution_count": null,
   "id": "298b593a",
   "metadata": {},
   "outputs": [],
   "source": [
    "# Cell 25 - method overriding\n",
    "class Sample24:\n",
    "    def __init__(self, value):\n",
    "        self.value = value\n",
    "    def display(self):\n",
    "        print(f'Sample24 Value:', self.value)\n",
    "\n",
    "obj24 = Sample24(24)\n",
    "obj24.display()"
   ]
  },
  {
   "cell_type": "code",
   "execution_count": null,
   "id": "f34699ff",
   "metadata": {},
   "outputs": [],
   "source": [
    "# Cell 26 - aggregation\n",
    "class Sample25:\n",
    "    def __init__(self, value):\n",
    "        self.value = value\n",
    "    def display(self):\n",
    "        print(f'Sample25 Value:', self.value)\n",
    "\n",
    "obj25 = Sample25(25)\n",
    "obj25.display()"
   ]
  },
  {
   "cell_type": "code",
   "execution_count": null,
   "id": "b9e7493d",
   "metadata": {},
   "outputs": [],
   "source": [
    "# Cell 27 - class definition\n",
    "class Sample26:\n",
    "    def __init__(self, value):\n",
    "        self.value = value\n",
    "    def display(self):\n",
    "        print(f'Sample26 Value:', self.value)\n",
    "\n",
    "obj26 = Sample26(26)\n",
    "obj26.display()"
   ]
  },
  {
   "cell_type": "code",
   "execution_count": null,
   "id": "26efd92f",
   "metadata": {},
   "outputs": [],
   "source": [
    "# Cell 28 - encapsulation\n",
    "class Sample27:\n",
    "    def __init__(self, value):\n",
    "        self.value = value\n",
    "    def display(self):\n",
    "        print(f'Sample27 Value:', self.value)\n",
    "\n",
    "obj27 = Sample27(27)\n",
    "obj27.display()"
   ]
  },
  {
   "cell_type": "code",
   "execution_count": null,
   "id": "bdd88eaf",
   "metadata": {},
   "outputs": [],
   "source": [
    "# Cell 29 - multiple inheritance\n",
    "class Sample28:\n",
    "    def __init__(self, value):\n",
    "        self.value = value\n",
    "    def display(self):\n",
    "        print(f'Sample28 Value:', self.value)\n",
    "\n",
    "obj28 = Sample28(28)\n",
    "obj28.display()"
   ]
  },
  {
   "cell_type": "code",
   "execution_count": null,
   "id": "46a2531b",
   "metadata": {},
   "outputs": [],
   "source": [
    "# Cell 30 - constructor\n",
    "class Sample29:\n",
    "    def __init__(self, value):\n",
    "        self.value = value\n",
    "    def display(self):\n",
    "        print(f'Sample29 Value:', self.value)\n",
    "\n",
    "obj29 = Sample29(29)\n",
    "obj29.display()"
   ]
  },
  {
   "cell_type": "code",
   "execution_count": null,
   "id": "c3747d5c",
   "metadata": {},
   "outputs": [],
   "source": [
    "# Cell 31 - method overriding\n",
    "class Sample30:\n",
    "    def __init__(self, value):\n",
    "        self.value = value\n",
    "    def display(self):\n",
    "        print(f'Sample30 Value:', self.value)\n",
    "\n",
    "obj30 = Sample30(30)\n",
    "obj30.display()"
   ]
  },
  {
   "cell_type": "code",
   "execution_count": null,
   "id": "09b9beb8",
   "metadata": {},
   "outputs": [],
   "source": [
    "# Cell 32 - class variables\n",
    "class Sample31:\n",
    "    def __init__(self, value):\n",
    "        self.value = value\n",
    "    def display(self):\n",
    "        print(f'Sample31 Value:', self.value)\n",
    "\n",
    "obj31 = Sample31(31)\n",
    "obj31.display()"
   ]
  },
  {
   "cell_type": "code",
   "execution_count": null,
   "id": "33ca5542",
   "metadata": {},
   "outputs": [],
   "source": [
    "# Cell 33 - class definition\n",
    "class Sample32:\n",
    "    def __init__(self, value):\n",
    "        self.value = value\n",
    "    def display(self):\n",
    "        print(f'Sample32 Value:', self.value)\n",
    "\n",
    "obj32 = Sample32(32)\n",
    "obj32.display()"
   ]
  },
  {
   "cell_type": "code",
   "execution_count": null,
   "id": "2f4dc849",
   "metadata": {},
   "outputs": [],
   "source": [
    "# Cell 34 - inheritance\n",
    "class Sample33:\n",
    "    def __init__(self, value):\n",
    "        self.value = value\n",
    "    def display(self):\n",
    "        print(f'Sample33 Value:', self.value)\n",
    "\n",
    "obj33 = Sample33(33)\n",
    "obj33.display()"
   ]
  },
  {
   "cell_type": "code",
   "execution_count": null,
   "id": "d27ccb20",
   "metadata": {},
   "outputs": [],
   "source": [
    "# Cell 35 - class definition\n",
    "class Sample34:\n",
    "    def __init__(self, value):\n",
    "        self.value = value\n",
    "    def display(self):\n",
    "        print(f'Sample34 Value:', self.value)\n",
    "\n",
    "obj34 = Sample34(34)\n",
    "obj34.display()"
   ]
  },
  {
   "cell_type": "code",
   "execution_count": null,
   "id": "aa05cbed",
   "metadata": {},
   "outputs": [],
   "source": [
    "# Cell 36 - composition\n",
    "class Sample35:\n",
    "    def __init__(self, value):\n",
    "        self.value = value\n",
    "    def display(self):\n",
    "        print(f'Sample35 Value:', self.value)\n",
    "\n",
    "obj35 = Sample35(35)\n",
    "obj35.display()"
   ]
  },
  {
   "cell_type": "code",
   "execution_count": null,
   "id": "2181d385",
   "metadata": {},
   "outputs": [],
   "source": [
    "# Cell 37 - method overriding\n",
    "class Sample36:\n",
    "    def __init__(self, value):\n",
    "        self.value = value\n",
    "    def display(self):\n",
    "        print(f'Sample36 Value:', self.value)\n",
    "\n",
    "obj36 = Sample36(36)\n",
    "obj36.display()"
   ]
  },
  {
   "cell_type": "code",
   "execution_count": null,
   "id": "92bb74c8",
   "metadata": {},
   "outputs": [],
   "source": [
    "# Cell 38 - constructor\n",
    "class Sample37:\n",
    "    def __init__(self, value):\n",
    "        self.value = value\n",
    "    def display(self):\n",
    "        print(f'Sample37 Value:', self.value)\n",
    "\n",
    "obj37 = Sample37(37)\n",
    "obj37.display()"
   ]
  },
  {
   "cell_type": "code",
   "execution_count": null,
   "id": "6c273114",
   "metadata": {},
   "outputs": [],
   "source": [
    "# Cell 39 - method overriding\n",
    "class Sample38:\n",
    "    def __init__(self, value):\n",
    "        self.value = value\n",
    "    def display(self):\n",
    "        print(f'Sample38 Value:', self.value)\n",
    "\n",
    "obj38 = Sample38(38)\n",
    "obj38.display()"
   ]
  },
  {
   "cell_type": "code",
   "execution_count": null,
   "id": "991164cf",
   "metadata": {},
   "outputs": [],
   "source": [
    "# Cell 40 - instance variables\n",
    "class Sample39:\n",
    "    def __init__(self, value):\n",
    "        self.value = value\n",
    "    def display(self):\n",
    "        print(f'Sample39 Value:', self.value)\n",
    "\n",
    "obj39 = Sample39(39)\n",
    "obj39.display()"
   ]
  },
  {
   "cell_type": "code",
   "execution_count": null,
   "id": "71567dfc",
   "metadata": {},
   "outputs": [],
   "source": [
    "# Cell 41 - instance methods\n",
    "class Sample40:\n",
    "    def __init__(self, value):\n",
    "        self.value = value\n",
    "    def display(self):\n",
    "        print(f'Sample40 Value:', self.value)\n",
    "\n",
    "obj40 = Sample40(40)\n",
    "obj40.display()"
   ]
  },
  {
   "cell_type": "code",
   "execution_count": null,
   "id": "1b74d0e4",
   "metadata": {},
   "outputs": [],
   "source": [
    "# Cell 42 - encapsulation\n",
    "class Sample41:\n",
    "    def __init__(self, value):\n",
    "        self.value = value\n",
    "    def display(self):\n",
    "        print(f'Sample41 Value:', self.value)\n",
    "\n",
    "obj41 = Sample41(41)\n",
    "obj41.display()"
   ]
  },
  {
   "cell_type": "code",
   "execution_count": null,
   "id": "9514f2fd",
   "metadata": {},
   "outputs": [],
   "source": [
    "# Cell 43 - encapsulation\n",
    "class Sample42:\n",
    "    def __init__(self, value):\n",
    "        self.value = value\n",
    "    def display(self):\n",
    "        print(f'Sample42 Value:', self.value)\n",
    "\n",
    "obj42 = Sample42(42)\n",
    "obj42.display()"
   ]
  },
  {
   "cell_type": "code",
   "execution_count": null,
   "id": "02da2104",
   "metadata": {},
   "outputs": [],
   "source": [
    "# Cell 44 - static methods\n",
    "class Sample43:\n",
    "    def __init__(self, value):\n",
    "        self.value = value\n",
    "    def display(self):\n",
    "        print(f'Sample43 Value:', self.value)\n",
    "\n",
    "obj43 = Sample43(43)\n",
    "obj43.display()"
   ]
  },
  {
   "cell_type": "code",
   "execution_count": null,
   "id": "146cd25c",
   "metadata": {},
   "outputs": [],
   "source": [
    "# Cell 45 - class methods\n",
    "class Sample44:\n",
    "    def __init__(self, value):\n",
    "        self.value = value\n",
    "    def display(self):\n",
    "        print(f'Sample44 Value:', self.value)\n",
    "\n",
    "obj44 = Sample44(44)\n",
    "obj44.display()"
   ]
  },
  {
   "cell_type": "code",
   "execution_count": null,
   "id": "52875b54",
   "metadata": {},
   "outputs": [],
   "source": [
    "# Cell 46 - aggregation\n",
    "class Sample45:\n",
    "    def __init__(self, value):\n",
    "        self.value = value\n",
    "    def display(self):\n",
    "        print(f'Sample45 Value:', self.value)\n",
    "\n",
    "obj45 = Sample45(45)\n",
    "obj45.display()"
   ]
  },
  {
   "cell_type": "code",
   "execution_count": null,
   "id": "a726a57d",
   "metadata": {},
   "outputs": [],
   "source": [
    "# Cell 47 - multiple inheritance\n",
    "class Sample46:\n",
    "    def __init__(self, value):\n",
    "        self.value = value\n",
    "    def display(self):\n",
    "        print(f'Sample46 Value:', self.value)\n",
    "\n",
    "obj46 = Sample46(46)\n",
    "obj46.display()"
   ]
  },
  {
   "cell_type": "code",
   "execution_count": null,
   "id": "f905bcc6",
   "metadata": {},
   "outputs": [],
   "source": [
    "# Cell 48 - dunder methods\n",
    "class Sample47:\n",
    "    def __init__(self, value):\n",
    "        self.value = value\n",
    "    def display(self):\n",
    "        print(f'Sample47 Value:', self.value)\n",
    "\n",
    "obj47 = Sample47(47)\n",
    "obj47.display()"
   ]
  },
  {
   "cell_type": "code",
   "execution_count": null,
   "id": "9dd34e83",
   "metadata": {},
   "outputs": [],
   "source": [
    "# Cell 49 - multiple inheritance\n",
    "class Sample48:\n",
    "    def __init__(self, value):\n",
    "        self.value = value\n",
    "    def display(self):\n",
    "        print(f'Sample48 Value:', self.value)\n",
    "\n",
    "obj48 = Sample48(48)\n",
    "obj48.display()"
   ]
  },
  {
   "cell_type": "code",
   "execution_count": null,
   "id": "bad0c8c3",
   "metadata": {},
   "outputs": [],
   "source": [
    "# Cell 50 - polymorphism\n",
    "class Sample49:\n",
    "    def __init__(self, value):\n",
    "        self.value = value\n",
    "    def display(self):\n",
    "        print(f'Sample49 Value:', self.value)\n",
    "\n",
    "obj49 = Sample49(49)\n",
    "obj49.display()"
   ]
  },
  {
   "cell_type": "code",
   "execution_count": null,
   "id": "4f02eb94",
   "metadata": {},
   "outputs": [],
   "source": [
    "# Cell 51 - composition\n",
    "class Sample50:\n",
    "    def __init__(self, value):\n",
    "        self.value = value\n",
    "    def display(self):\n",
    "        print(f'Sample50 Value:', self.value)\n",
    "\n",
    "obj50 = Sample50(50)\n",
    "obj50.display()"
   ]
  },
  {
   "cell_type": "code",
   "execution_count": null,
   "id": "81943a44",
   "metadata": {},
   "outputs": [],
   "source": [
    "# Cell 52 - instance variables\n",
    "class Sample51:\n",
    "    def __init__(self, value):\n",
    "        self.value = value\n",
    "    def display(self):\n",
    "        print(f'Sample51 Value:', self.value)\n",
    "\n",
    "obj51 = Sample51(51)\n",
    "obj51.display()"
   ]
  },
  {
   "cell_type": "code",
   "execution_count": null,
   "id": "3405720e",
   "metadata": {},
   "outputs": [],
   "source": [
    "# Cell 53 - class methods\n",
    "class Sample52:\n",
    "    def __init__(self, value):\n",
    "        self.value = value\n",
    "    def display(self):\n",
    "        print(f'Sample52 Value:', self.value)\n",
    "\n",
    "obj52 = Sample52(52)\n",
    "obj52.display()"
   ]
  },
  {
   "cell_type": "code",
   "execution_count": null,
   "id": "c8b3ca3c",
   "metadata": {},
   "outputs": [],
   "source": [
    "# Cell 54 - polymorphism\n",
    "class Sample53:\n",
    "    def __init__(self, value):\n",
    "        self.value = value\n",
    "    def display(self):\n",
    "        print(f'Sample53 Value:', self.value)\n",
    "\n",
    "obj53 = Sample53(53)\n",
    "obj53.display()"
   ]
  },
  {
   "cell_type": "code",
   "execution_count": null,
   "id": "8d89fc34",
   "metadata": {},
   "outputs": [],
   "source": [
    "# Cell 55 - inheritance\n",
    "class Sample54:\n",
    "    def __init__(self, value):\n",
    "        self.value = value\n",
    "    def display(self):\n",
    "        print(f'Sample54 Value:', self.value)\n",
    "\n",
    "obj54 = Sample54(54)\n",
    "obj54.display()"
   ]
  },
  {
   "cell_type": "code",
   "execution_count": null,
   "id": "08e23412",
   "metadata": {},
   "outputs": [],
   "source": [
    "# Cell 56 - multiple inheritance\n",
    "class Sample55:\n",
    "    def __init__(self, value):\n",
    "        self.value = value\n",
    "    def display(self):\n",
    "        print(f'Sample55 Value:', self.value)\n",
    "\n",
    "obj55 = Sample55(55)\n",
    "obj55.display()"
   ]
  },
  {
   "cell_type": "code",
   "execution_count": null,
   "id": "8d99050c",
   "metadata": {},
   "outputs": [],
   "source": [
    "# Cell 57 - class methods\n",
    "class Sample56:\n",
    "    def __init__(self, value):\n",
    "        self.value = value\n",
    "    def display(self):\n",
    "        print(f'Sample56 Value:', self.value)\n",
    "\n",
    "obj56 = Sample56(56)\n",
    "obj56.display()"
   ]
  },
  {
   "cell_type": "code",
   "execution_count": null,
   "id": "4c00905b",
   "metadata": {},
   "outputs": [],
   "source": [
    "# Cell 58 - polymorphism\n",
    "class Sample57:\n",
    "    def __init__(self, value):\n",
    "        self.value = value\n",
    "    def display(self):\n",
    "        print(f'Sample57 Value:', self.value)\n",
    "\n",
    "obj57 = Sample57(57)\n",
    "obj57.display()"
   ]
  },
  {
   "cell_type": "code",
   "execution_count": null,
   "id": "0e2b9c92",
   "metadata": {},
   "outputs": [],
   "source": [
    "# Cell 59 - class definition\n",
    "class Sample58:\n",
    "    def __init__(self, value):\n",
    "        self.value = value\n",
    "    def display(self):\n",
    "        print(f'Sample58 Value:', self.value)\n",
    "\n",
    "obj58 = Sample58(58)\n",
    "obj58.display()"
   ]
  },
  {
   "cell_type": "code",
   "execution_count": null,
   "id": "91f5605a",
   "metadata": {},
   "outputs": [],
   "source": [
    "# Cell 60 - class definition\n",
    "class Sample59:\n",
    "    def __init__(self, value):\n",
    "        self.value = value\n",
    "    def display(self):\n",
    "        print(f'Sample59 Value:', self.value)\n",
    "\n",
    "obj59 = Sample59(59)\n",
    "obj59.display()"
   ]
  },
  {
   "cell_type": "code",
   "execution_count": null,
   "id": "49eeb333",
   "metadata": {},
   "outputs": [],
   "source": [
    "# Cell 61 - instance methods\n",
    "class Sample60:\n",
    "    def __init__(self, value):\n",
    "        self.value = value\n",
    "    def display(self):\n",
    "        print(f'Sample60 Value:', self.value)\n",
    "\n",
    "obj60 = Sample60(60)\n",
    "obj60.display()"
   ]
  },
  {
   "cell_type": "code",
   "execution_count": null,
   "id": "9dc36966",
   "metadata": {},
   "outputs": [],
   "source": [
    "# Cell 62 - instance variables\n",
    "class Sample61:\n",
    "    def __init__(self, value):\n",
    "        self.value = value\n",
    "    def display(self):\n",
    "        print(f'Sample61 Value:', self.value)\n",
    "\n",
    "obj61 = Sample61(61)\n",
    "obj61.display()"
   ]
  },
  {
   "cell_type": "code",
   "execution_count": null,
   "id": "e014bdc5",
   "metadata": {},
   "outputs": [],
   "source": [
    "# Cell 63 - multiple inheritance\n",
    "class Sample62:\n",
    "    def __init__(self, value):\n",
    "        self.value = value\n",
    "    def display(self):\n",
    "        print(f'Sample62 Value:', self.value)\n",
    "\n",
    "obj62 = Sample62(62)\n",
    "obj62.display()"
   ]
  },
  {
   "cell_type": "code",
   "execution_count": null,
   "id": "01bdb7af",
   "metadata": {},
   "outputs": [],
   "source": [
    "# Cell 64 - multiple inheritance\n",
    "class Sample63:\n",
    "    def __init__(self, value):\n",
    "        self.value = value\n",
    "    def display(self):\n",
    "        print(f'Sample63 Value:', self.value)\n",
    "\n",
    "obj63 = Sample63(63)\n",
    "obj63.display()"
   ]
  },
  {
   "cell_type": "code",
   "execution_count": null,
   "id": "e2dc22f8",
   "metadata": {},
   "outputs": [],
   "source": [
    "# Cell 65 - inheritance\n",
    "class Sample64:\n",
    "    def __init__(self, value):\n",
    "        self.value = value\n",
    "    def display(self):\n",
    "        print(f'Sample64 Value:', self.value)\n",
    "\n",
    "obj64 = Sample64(64)\n",
    "obj64.display()"
   ]
  },
  {
   "cell_type": "code",
   "execution_count": null,
   "id": "6f29b26f",
   "metadata": {},
   "outputs": [],
   "source": [
    "# Cell 66 - method overriding\n",
    "class Sample65:\n",
    "    def __init__(self, value):\n",
    "        self.value = value\n",
    "    def display(self):\n",
    "        print(f'Sample65 Value:', self.value)\n",
    "\n",
    "obj65 = Sample65(65)\n",
    "obj65.display()"
   ]
  },
  {
   "cell_type": "code",
   "execution_count": null,
   "id": "f3804a9a",
   "metadata": {},
   "outputs": [],
   "source": [
    "# Cell 67 - aggregation\n",
    "class Sample66:\n",
    "    def __init__(self, value):\n",
    "        self.value = value\n",
    "    def display(self):\n",
    "        print(f'Sample66 Value:', self.value)\n",
    "\n",
    "obj66 = Sample66(66)\n",
    "obj66.display()"
   ]
  },
  {
   "cell_type": "code",
   "execution_count": null,
   "id": "c1247031",
   "metadata": {},
   "outputs": [],
   "source": [
    "# Cell 68 - instance methods\n",
    "class Sample67:\n",
    "    def __init__(self, value):\n",
    "        self.value = value\n",
    "    def display(self):\n",
    "        print(f'Sample67 Value:', self.value)\n",
    "\n",
    "obj67 = Sample67(67)\n",
    "obj67.display()"
   ]
  },
  {
   "cell_type": "code",
   "execution_count": null,
   "id": "57cdef5f",
   "metadata": {},
   "outputs": [],
   "source": [
    "# Cell 69 - multiple inheritance\n",
    "class Sample68:\n",
    "    def __init__(self, value):\n",
    "        self.value = value\n",
    "    def display(self):\n",
    "        print(f'Sample68 Value:', self.value)\n",
    "\n",
    "obj68 = Sample68(68)\n",
    "obj68.display()"
   ]
  },
  {
   "cell_type": "code",
   "execution_count": null,
   "id": "2c53df0c",
   "metadata": {},
   "outputs": [],
   "source": [
    "# Cell 70 - multiple inheritance\n",
    "class Sample69:\n",
    "    def __init__(self, value):\n",
    "        self.value = value\n",
    "    def display(self):\n",
    "        print(f'Sample69 Value:', self.value)\n",
    "\n",
    "obj69 = Sample69(69)\n",
    "obj69.display()"
   ]
  },
  {
   "cell_type": "code",
   "execution_count": null,
   "id": "71d1e5ae",
   "metadata": {},
   "outputs": [],
   "source": [
    "# Cell 71 - class methods\n",
    "class Sample70:\n",
    "    def __init__(self, value):\n",
    "        self.value = value\n",
    "    def display(self):\n",
    "        print(f'Sample70 Value:', self.value)\n",
    "\n",
    "obj70 = Sample70(70)\n",
    "obj70.display()"
   ]
  },
  {
   "cell_type": "code",
   "execution_count": null,
   "id": "bf77bb86",
   "metadata": {},
   "outputs": [],
   "source": [
    "# Cell 72 - instance methods\n",
    "class Sample71:\n",
    "    def __init__(self, value):\n",
    "        self.value = value\n",
    "    def display(self):\n",
    "        print(f'Sample71 Value:', self.value)\n",
    "\n",
    "obj71 = Sample71(71)\n",
    "obj71.display()"
   ]
  },
  {
   "cell_type": "code",
   "execution_count": null,
   "id": "a3bb4629",
   "metadata": {},
   "outputs": [],
   "source": [
    "# Cell 73 - instance methods\n",
    "class Sample72:\n",
    "    def __init__(self, value):\n",
    "        self.value = value\n",
    "    def display(self):\n",
    "        print(f'Sample72 Value:', self.value)\n",
    "\n",
    "obj72 = Sample72(72)\n",
    "obj72.display()"
   ]
  },
  {
   "cell_type": "code",
   "execution_count": null,
   "id": "73f2d32c",
   "metadata": {},
   "outputs": [],
   "source": [
    "# Cell 74 - instance methods\n",
    "class Sample73:\n",
    "    def __init__(self, value):\n",
    "        self.value = value\n",
    "    def display(self):\n",
    "        print(f'Sample73 Value:', self.value)\n",
    "\n",
    "obj73 = Sample73(73)\n",
    "obj73.display()"
   ]
  },
  {
   "cell_type": "code",
   "execution_count": null,
   "id": "dadd6f38",
   "metadata": {},
   "outputs": [],
   "source": [
    "# Cell 75 - encapsulation\n",
    "class Sample74:\n",
    "    def __init__(self, value):\n",
    "        self.value = value\n",
    "    def display(self):\n",
    "        print(f'Sample74 Value:', self.value)\n",
    "\n",
    "obj74 = Sample74(74)\n",
    "obj74.display()"
   ]
  },
  {
   "cell_type": "code",
   "execution_count": null,
   "id": "a934507e",
   "metadata": {},
   "outputs": [],
   "source": [
    "# Cell 76 - encapsulation\n",
    "class Sample75:\n",
    "    def __init__(self, value):\n",
    "        self.value = value\n",
    "    def display(self):\n",
    "        print(f'Sample75 Value:', self.value)\n",
    "\n",
    "obj75 = Sample75(75)\n",
    "obj75.display()"
   ]
  },
  {
   "cell_type": "code",
   "execution_count": null,
   "id": "605b15f8",
   "metadata": {},
   "outputs": [],
   "source": [
    "# Cell 77 - inheritance\n",
    "class Sample76:\n",
    "    def __init__(self, value):\n",
    "        self.value = value\n",
    "    def display(self):\n",
    "        print(f'Sample76 Value:', self.value)\n",
    "\n",
    "obj76 = Sample76(76)\n",
    "obj76.display()"
   ]
  },
  {
   "cell_type": "code",
   "execution_count": null,
   "id": "78b63410",
   "metadata": {},
   "outputs": [],
   "source": [
    "# Cell 78 - instance variables\n",
    "class Sample77:\n",
    "    def __init__(self, value):\n",
    "        self.value = value\n",
    "    def display(self):\n",
    "        print(f'Sample77 Value:', self.value)\n",
    "\n",
    "obj77 = Sample77(77)\n",
    "obj77.display()"
   ]
  },
  {
   "cell_type": "code",
   "execution_count": null,
   "id": "84618294",
   "metadata": {},
   "outputs": [],
   "source": [
    "# Cell 79 - polymorphism\n",
    "class Sample78:\n",
    "    def __init__(self, value):\n",
    "        self.value = value\n",
    "    def display(self):\n",
    "        print(f'Sample78 Value:', self.value)\n",
    "\n",
    "obj78 = Sample78(78)\n",
    "obj78.display()"
   ]
  },
  {
   "cell_type": "code",
   "execution_count": null,
   "id": "31e51f92",
   "metadata": {},
   "outputs": [],
   "source": [
    "# Cell 80 - class definition\n",
    "class Sample79:\n",
    "    def __init__(self, value):\n",
    "        self.value = value\n",
    "    def display(self):\n",
    "        print(f'Sample79 Value:', self.value)\n",
    "\n",
    "obj79 = Sample79(79)\n",
    "obj79.display()"
   ]
  },
  {
   "cell_type": "code",
   "execution_count": null,
   "id": "e161f0a2",
   "metadata": {},
   "outputs": [],
   "source": [
    "# Cell 81 - inheritance\n",
    "class Sample80:\n",
    "    def __init__(self, value):\n",
    "        self.value = value\n",
    "    def display(self):\n",
    "        print(f'Sample80 Value:', self.value)\n",
    "\n",
    "obj80 = Sample80(80)\n",
    "obj80.display()"
   ]
  },
  {
   "cell_type": "code",
   "execution_count": null,
   "id": "d16d2082",
   "metadata": {},
   "outputs": [],
   "source": [
    "# Cell 82 - static methods\n",
    "class Sample81:\n",
    "    def __init__(self, value):\n",
    "        self.value = value\n",
    "    def display(self):\n",
    "        print(f'Sample81 Value:', self.value)\n",
    "\n",
    "obj81 = Sample81(81)\n",
    "obj81.display()"
   ]
  },
  {
   "cell_type": "code",
   "execution_count": null,
   "id": "af879e17",
   "metadata": {},
   "outputs": [],
   "source": [
    "# Cell 83 - multiple inheritance\n",
    "class Sample82:\n",
    "    def __init__(self, value):\n",
    "        self.value = value\n",
    "    def display(self):\n",
    "        print(f'Sample82 Value:', self.value)\n",
    "\n",
    "obj82 = Sample82(82)\n",
    "obj82.display()"
   ]
  },
  {
   "cell_type": "code",
   "execution_count": null,
   "id": "403813d6",
   "metadata": {},
   "outputs": [],
   "source": [
    "# Cell 84 - class variables\n",
    "class Sample83:\n",
    "    def __init__(self, value):\n",
    "        self.value = value\n",
    "    def display(self):\n",
    "        print(f'Sample83 Value:', self.value)\n",
    "\n",
    "obj83 = Sample83(83)\n",
    "obj83.display()"
   ]
  },
  {
   "cell_type": "code",
   "execution_count": null,
   "id": "1bb6d8fc",
   "metadata": {},
   "outputs": [],
   "source": [
    "# Cell 85 - constructor\n",
    "class Sample84:\n",
    "    def __init__(self, value):\n",
    "        self.value = value\n",
    "    def display(self):\n",
    "        print(f'Sample84 Value:', self.value)\n",
    "\n",
    "obj84 = Sample84(84)\n",
    "obj84.display()"
   ]
  },
  {
   "cell_type": "code",
   "execution_count": null,
   "id": "8f0b78b6",
   "metadata": {},
   "outputs": [],
   "source": [
    "# Cell 86 - composition\n",
    "class Sample85:\n",
    "    def __init__(self, value):\n",
    "        self.value = value\n",
    "    def display(self):\n",
    "        print(f'Sample85 Value:', self.value)\n",
    "\n",
    "obj85 = Sample85(85)\n",
    "obj85.display()"
   ]
  },
  {
   "cell_type": "code",
   "execution_count": null,
   "id": "db83b5f1",
   "metadata": {},
   "outputs": [],
   "source": [
    "# Cell 87 - instance methods\n",
    "class Sample86:\n",
    "    def __init__(self, value):\n",
    "        self.value = value\n",
    "    def display(self):\n",
    "        print(f'Sample86 Value:', self.value)\n",
    "\n",
    "obj86 = Sample86(86)\n",
    "obj86.display()"
   ]
  },
  {
   "cell_type": "code",
   "execution_count": null,
   "id": "b0064645",
   "metadata": {},
   "outputs": [],
   "source": [
    "# Cell 88 - method overriding\n",
    "class Sample87:\n",
    "    def __init__(self, value):\n",
    "        self.value = value\n",
    "    def display(self):\n",
    "        print(f'Sample87 Value:', self.value)\n",
    "\n",
    "obj87 = Sample87(87)\n",
    "obj87.display()"
   ]
  },
  {
   "cell_type": "code",
   "execution_count": null,
   "id": "8ba7cb65",
   "metadata": {},
   "outputs": [],
   "source": [
    "# Cell 89 - constructor\n",
    "class Sample88:\n",
    "    def __init__(self, value):\n",
    "        self.value = value\n",
    "    def display(self):\n",
    "        print(f'Sample88 Value:', self.value)\n",
    "\n",
    "obj88 = Sample88(88)\n",
    "obj88.display()"
   ]
  },
  {
   "cell_type": "code",
   "execution_count": null,
   "id": "acfd5d96",
   "metadata": {},
   "outputs": [],
   "source": [
    "# Cell 90 - static methods\n",
    "class Sample89:\n",
    "    def __init__(self, value):\n",
    "        self.value = value\n",
    "    def display(self):\n",
    "        print(f'Sample89 Value:', self.value)\n",
    "\n",
    "obj89 = Sample89(89)\n",
    "obj89.display()"
   ]
  },
  {
   "cell_type": "code",
   "execution_count": null,
   "id": "7aa1bc36",
   "metadata": {},
   "outputs": [],
   "source": [
    "# Cell 91 - static methods\n",
    "class Sample90:\n",
    "    def __init__(self, value):\n",
    "        self.value = value\n",
    "    def display(self):\n",
    "        print(f'Sample90 Value:', self.value)\n",
    "\n",
    "obj90 = Sample90(90)\n",
    "obj90.display()"
   ]
  },
  {
   "cell_type": "code",
   "execution_count": null,
   "id": "90035067",
   "metadata": {},
   "outputs": [],
   "source": [
    "# Cell 92 - polymorphism\n",
    "class Sample91:\n",
    "    def __init__(self, value):\n",
    "        self.value = value\n",
    "    def display(self):\n",
    "        print(f'Sample91 Value:', self.value)\n",
    "\n",
    "obj91 = Sample91(91)\n",
    "obj91.display()"
   ]
  },
  {
   "cell_type": "code",
   "execution_count": null,
   "id": "ed827f45",
   "metadata": {},
   "outputs": [],
   "source": [
    "# Cell 93 - constructor\n",
    "class Sample92:\n",
    "    def __init__(self, value):\n",
    "        self.value = value\n",
    "    def display(self):\n",
    "        print(f'Sample92 Value:', self.value)\n",
    "\n",
    "obj92 = Sample92(92)\n",
    "obj92.display()"
   ]
  },
  {
   "cell_type": "code",
   "execution_count": null,
   "id": "758e98c9",
   "metadata": {},
   "outputs": [],
   "source": [
    "# Cell 94 - encapsulation\n",
    "class Sample93:\n",
    "    def __init__(self, value):\n",
    "        self.value = value\n",
    "    def display(self):\n",
    "        print(f'Sample93 Value:', self.value)\n",
    "\n",
    "obj93 = Sample93(93)\n",
    "obj93.display()"
   ]
  },
  {
   "cell_type": "code",
   "execution_count": null,
   "id": "1cc142b5",
   "metadata": {},
   "outputs": [],
   "source": [
    "# Cell 95 - encapsulation\n",
    "class Sample94:\n",
    "    def __init__(self, value):\n",
    "        self.value = value\n",
    "    def display(self):\n",
    "        print(f'Sample94 Value:', self.value)\n",
    "\n",
    "obj94 = Sample94(94)\n",
    "obj94.display()"
   ]
  },
  {
   "cell_type": "code",
   "execution_count": null,
   "id": "ae6ffa69",
   "metadata": {},
   "outputs": [],
   "source": [
    "# Cell 96 - encapsulation\n",
    "class Sample95:\n",
    "    def __init__(self, value):\n",
    "        self.value = value\n",
    "    def display(self):\n",
    "        print(f'Sample95 Value:', self.value)\n",
    "\n",
    "obj95 = Sample95(95)\n",
    "obj95.display()"
   ]
  },
  {
   "cell_type": "code",
   "execution_count": null,
   "id": "87cce797",
   "metadata": {},
   "outputs": [],
   "source": [
    "# Cell 97 - polymorphism\n",
    "class Sample96:\n",
    "    def __init__(self, value):\n",
    "        self.value = value\n",
    "    def display(self):\n",
    "        print(f'Sample96 Value:', self.value)\n",
    "\n",
    "obj96 = Sample96(96)\n",
    "obj96.display()"
   ]
  },
  {
   "cell_type": "code",
   "execution_count": null,
   "id": "53764d31",
   "metadata": {},
   "outputs": [],
   "source": [
    "# Cell 98 - constructor\n",
    "class Sample97:\n",
    "    def __init__(self, value):\n",
    "        self.value = value\n",
    "    def display(self):\n",
    "        print(f'Sample97 Value:', self.value)\n",
    "\n",
    "obj97 = Sample97(97)\n",
    "obj97.display()"
   ]
  },
  {
   "cell_type": "code",
   "execution_count": null,
   "id": "6d2b219f",
   "metadata": {},
   "outputs": [],
   "source": [
    "# Cell 99 - method overriding\n",
    "class Sample98:\n",
    "    def __init__(self, value):\n",
    "        self.value = value\n",
    "    def display(self):\n",
    "        print(f'Sample98 Value:', self.value)\n",
    "\n",
    "obj98 = Sample98(98)\n",
    "obj98.display()"
   ]
  },
  {
   "cell_type": "code",
   "execution_count": null,
   "id": "6f014cdf",
   "metadata": {},
   "outputs": [],
   "source": [
    "# Cell 100 - instance methods\n",
    "class Sample99:\n",
    "    def __init__(self, value):\n",
    "        self.value = value\n",
    "    def display(self):\n",
    "        print(f'Sample99 Value:', self.value)\n",
    "\n",
    "obj99 = Sample99(99)\n",
    "obj99.display()"
   ]
  },
  {
   "cell_type": "code",
   "execution_count": null,
   "id": "3e0bdea2",
   "metadata": {},
   "outputs": [],
   "source": [
    "# Cell 101 - method overriding\n",
    "class Sample100:\n",
    "    def __init__(self, value):\n",
    "        self.value = value\n",
    "    def display(self):\n",
    "        print(f'Sample100 Value:', self.value)\n",
    "\n",
    "obj100 = Sample100(100)\n",
    "obj100.display()"
   ]
  },
  {
   "cell_type": "code",
   "execution_count": null,
   "id": "ecd06146",
   "metadata": {},
   "outputs": [],
   "source": [
    "# Cell 102 - constructor\n",
    "class Sample101:\n",
    "    def __init__(self, value):\n",
    "        self.value = value\n",
    "    def display(self):\n",
    "        print(f'Sample101 Value:', self.value)\n",
    "\n",
    "obj101 = Sample101(101)\n",
    "obj101.display()"
   ]
  },
  {
   "cell_type": "code",
   "execution_count": null,
   "id": "1b0fdca0",
   "metadata": {},
   "outputs": [],
   "source": [
    "# Cell 103 - instance variables\n",
    "class Sample102:\n",
    "    def __init__(self, value):\n",
    "        self.value = value\n",
    "    def display(self):\n",
    "        print(f'Sample102 Value:', self.value)\n",
    "\n",
    "obj102 = Sample102(102)\n",
    "obj102.display()"
   ]
  },
  {
   "cell_type": "code",
   "execution_count": null,
   "id": "159a5aed",
   "metadata": {},
   "outputs": [],
   "source": [
    "# Cell 104 - dunder methods\n",
    "class Sample103:\n",
    "    def __init__(self, value):\n",
    "        self.value = value\n",
    "    def display(self):\n",
    "        print(f'Sample103 Value:', self.value)\n",
    "\n",
    "obj103 = Sample103(103)\n",
    "obj103.display()"
   ]
  },
  {
   "cell_type": "code",
   "execution_count": null,
   "id": "fe8522ce",
   "metadata": {},
   "outputs": [],
   "source": [
    "# Cell 105 - instance methods\n",
    "class Sample104:\n",
    "    def __init__(self, value):\n",
    "        self.value = value\n",
    "    def display(self):\n",
    "        print(f'Sample104 Value:', self.value)\n",
    "\n",
    "obj104 = Sample104(104)\n",
    "obj104.display()"
   ]
  },
  {
   "cell_type": "code",
   "execution_count": null,
   "id": "dd1a6282",
   "metadata": {},
   "outputs": [],
   "source": [
    "# Cell 106 - encapsulation\n",
    "class Sample105:\n",
    "    def __init__(self, value):\n",
    "        self.value = value\n",
    "    def display(self):\n",
    "        print(f'Sample105 Value:', self.value)\n",
    "\n",
    "obj105 = Sample105(105)\n",
    "obj105.display()"
   ]
  },
  {
   "cell_type": "code",
   "execution_count": null,
   "id": "79a28e94",
   "metadata": {},
   "outputs": [],
   "source": [
    "# Cell 107 - constructor\n",
    "class Sample106:\n",
    "    def __init__(self, value):\n",
    "        self.value = value\n",
    "    def display(self):\n",
    "        print(f'Sample106 Value:', self.value)\n",
    "\n",
    "obj106 = Sample106(106)\n",
    "obj106.display()"
   ]
  },
  {
   "cell_type": "code",
   "execution_count": null,
   "id": "ade2f988",
   "metadata": {},
   "outputs": [],
   "source": [
    "# Cell 108 - method overriding\n",
    "class Sample107:\n",
    "    def __init__(self, value):\n",
    "        self.value = value\n",
    "    def display(self):\n",
    "        print(f'Sample107 Value:', self.value)\n",
    "\n",
    "obj107 = Sample107(107)\n",
    "obj107.display()"
   ]
  },
  {
   "cell_type": "code",
   "execution_count": null,
   "id": "d556e941",
   "metadata": {},
   "outputs": [],
   "source": [
    "# Cell 109 - dunder methods\n",
    "class Sample108:\n",
    "    def __init__(self, value):\n",
    "        self.value = value\n",
    "    def display(self):\n",
    "        print(f'Sample108 Value:', self.value)\n",
    "\n",
    "obj108 = Sample108(108)\n",
    "obj108.display()"
   ]
  },
  {
   "cell_type": "code",
   "execution_count": null,
   "id": "189f94d5",
   "metadata": {},
   "outputs": [],
   "source": [
    "# Cell 110 - aggregation\n",
    "class Sample109:\n",
    "    def __init__(self, value):\n",
    "        self.value = value\n",
    "    def display(self):\n",
    "        print(f'Sample109 Value:', self.value)\n",
    "\n",
    "obj109 = Sample109(109)\n",
    "obj109.display()"
   ]
  },
  {
   "cell_type": "code",
   "execution_count": null,
   "id": "17c56c3c",
   "metadata": {},
   "outputs": [],
   "source": [
    "# Cell 111 - class variables\n",
    "class Sample110:\n",
    "    def __init__(self, value):\n",
    "        self.value = value\n",
    "    def display(self):\n",
    "        print(f'Sample110 Value:', self.value)\n",
    "\n",
    "obj110 = Sample110(110)\n",
    "obj110.display()"
   ]
  },
  {
   "cell_type": "code",
   "execution_count": null,
   "id": "4970b935",
   "metadata": {},
   "outputs": [],
   "source": [
    "# Cell 112 - inheritance\n",
    "class Sample111:\n",
    "    def __init__(self, value):\n",
    "        self.value = value\n",
    "    def display(self):\n",
    "        print(f'Sample111 Value:', self.value)\n",
    "\n",
    "obj111 = Sample111(111)\n",
    "obj111.display()"
   ]
  },
  {
   "cell_type": "code",
   "execution_count": null,
   "id": "252e82f9",
   "metadata": {},
   "outputs": [],
   "source": [
    "# Cell 113 - polymorphism\n",
    "class Sample112:\n",
    "    def __init__(self, value):\n",
    "        self.value = value\n",
    "    def display(self):\n",
    "        print(f'Sample112 Value:', self.value)\n",
    "\n",
    "obj112 = Sample112(112)\n",
    "obj112.display()"
   ]
  },
  {
   "cell_type": "code",
   "execution_count": null,
   "id": "652a55fb",
   "metadata": {},
   "outputs": [],
   "source": [
    "# Cell 114 - class methods\n",
    "class Sample113:\n",
    "    def __init__(self, value):\n",
    "        self.value = value\n",
    "    def display(self):\n",
    "        print(f'Sample113 Value:', self.value)\n",
    "\n",
    "obj113 = Sample113(113)\n",
    "obj113.display()"
   ]
  },
  {
   "cell_type": "code",
   "execution_count": null,
   "id": "62b8e0e9",
   "metadata": {},
   "outputs": [],
   "source": [
    "# Cell 115 - constructor\n",
    "class Sample114:\n",
    "    def __init__(self, value):\n",
    "        self.value = value\n",
    "    def display(self):\n",
    "        print(f'Sample114 Value:', self.value)\n",
    "\n",
    "obj114 = Sample114(114)\n",
    "obj114.display()"
   ]
  },
  {
   "cell_type": "code",
   "execution_count": null,
   "id": "a6b66166",
   "metadata": {},
   "outputs": [],
   "source": [
    "# Cell 116 - static methods\n",
    "class Sample115:\n",
    "    def __init__(self, value):\n",
    "        self.value = value\n",
    "    def display(self):\n",
    "        print(f'Sample115 Value:', self.value)\n",
    "\n",
    "obj115 = Sample115(115)\n",
    "obj115.display()"
   ]
  },
  {
   "cell_type": "code",
   "execution_count": null,
   "id": "ff275b7f",
   "metadata": {},
   "outputs": [],
   "source": [
    "# Cell 117 - class variables\n",
    "class Sample116:\n",
    "    def __init__(self, value):\n",
    "        self.value = value\n",
    "    def display(self):\n",
    "        print(f'Sample116 Value:', self.value)\n",
    "\n",
    "obj116 = Sample116(116)\n",
    "obj116.display()"
   ]
  },
  {
   "cell_type": "code",
   "execution_count": null,
   "id": "aee99718",
   "metadata": {},
   "outputs": [],
   "source": [
    "# Cell 118 - multiple inheritance\n",
    "class Sample117:\n",
    "    def __init__(self, value):\n",
    "        self.value = value\n",
    "    def display(self):\n",
    "        print(f'Sample117 Value:', self.value)\n",
    "\n",
    "obj117 = Sample117(117)\n",
    "obj117.display()"
   ]
  },
  {
   "cell_type": "code",
   "execution_count": null,
   "id": "7fd83697",
   "metadata": {},
   "outputs": [],
   "source": [
    "# Cell 119 - static methods\n",
    "class Sample118:\n",
    "    def __init__(self, value):\n",
    "        self.value = value\n",
    "    def display(self):\n",
    "        print(f'Sample118 Value:', self.value)\n",
    "\n",
    "obj118 = Sample118(118)\n",
    "obj118.display()"
   ]
  },
  {
   "cell_type": "code",
   "execution_count": null,
   "id": "766431e3",
   "metadata": {},
   "outputs": [],
   "source": [
    "# Cell 120 - class variables\n",
    "class Sample119:\n",
    "    def __init__(self, value):\n",
    "        self.value = value\n",
    "    def display(self):\n",
    "        print(f'Sample119 Value:', self.value)\n",
    "\n",
    "obj119 = Sample119(119)\n",
    "obj119.display()"
   ]
  },
  {
   "cell_type": "code",
   "execution_count": null,
   "id": "a2ffb292",
   "metadata": {},
   "outputs": [],
   "source": [
    "# Cell 121 - inheritance\n",
    "class Sample120:\n",
    "    def __init__(self, value):\n",
    "        self.value = value\n",
    "    def display(self):\n",
    "        print(f'Sample120 Value:', self.value)\n",
    "\n",
    "obj120 = Sample120(120)\n",
    "obj120.display()"
   ]
  },
  {
   "cell_type": "code",
   "execution_count": null,
   "id": "ca5b8349",
   "metadata": {},
   "outputs": [],
   "source": [
    "# Cell 122 - multiple inheritance\n",
    "class Sample121:\n",
    "    def __init__(self, value):\n",
    "        self.value = value\n",
    "    def display(self):\n",
    "        print(f'Sample121 Value:', self.value)\n",
    "\n",
    "obj121 = Sample121(121)\n",
    "obj121.display()"
   ]
  },
  {
   "cell_type": "code",
   "execution_count": null,
   "id": "72279ea4",
   "metadata": {},
   "outputs": [],
   "source": [
    "# Cell 123 - class methods\n",
    "class Sample122:\n",
    "    def __init__(self, value):\n",
    "        self.value = value\n",
    "    def display(self):\n",
    "        print(f'Sample122 Value:', self.value)\n",
    "\n",
    "obj122 = Sample122(122)\n",
    "obj122.display()"
   ]
  },
  {
   "cell_type": "code",
   "execution_count": null,
   "id": "5329ca1d",
   "metadata": {},
   "outputs": [],
   "source": [
    "# Cell 124 - static methods\n",
    "class Sample123:\n",
    "    def __init__(self, value):\n",
    "        self.value = value\n",
    "    def display(self):\n",
    "        print(f'Sample123 Value:', self.value)\n",
    "\n",
    "obj123 = Sample123(123)\n",
    "obj123.display()"
   ]
  },
  {
   "cell_type": "code",
   "execution_count": null,
   "id": "888c1f4b",
   "metadata": {},
   "outputs": [],
   "source": [
    "# Cell 125 - class definition\n",
    "class Sample124:\n",
    "    def __init__(self, value):\n",
    "        self.value = value\n",
    "    def display(self):\n",
    "        print(f'Sample124 Value:', self.value)\n",
    "\n",
    "obj124 = Sample124(124)\n",
    "obj124.display()"
   ]
  },
  {
   "cell_type": "code",
   "execution_count": null,
   "id": "04ba8390",
   "metadata": {},
   "outputs": [],
   "source": [
    "# Cell 126 - constructor\n",
    "class Sample125:\n",
    "    def __init__(self, value):\n",
    "        self.value = value\n",
    "    def display(self):\n",
    "        print(f'Sample125 Value:', self.value)\n",
    "\n",
    "obj125 = Sample125(125)\n",
    "obj125.display()"
   ]
  },
  {
   "cell_type": "code",
   "execution_count": null,
   "id": "d49fe923",
   "metadata": {},
   "outputs": [],
   "source": [
    "# Cell 127 - multiple inheritance\n",
    "class Sample126:\n",
    "    def __init__(self, value):\n",
    "        self.value = value\n",
    "    def display(self):\n",
    "        print(f'Sample126 Value:', self.value)\n",
    "\n",
    "obj126 = Sample126(126)\n",
    "obj126.display()"
   ]
  },
  {
   "cell_type": "code",
   "execution_count": null,
   "id": "86d955ff",
   "metadata": {},
   "outputs": [],
   "source": [
    "# Cell 128 - class variables\n",
    "class Sample127:\n",
    "    def __init__(self, value):\n",
    "        self.value = value\n",
    "    def display(self):\n",
    "        print(f'Sample127 Value:', self.value)\n",
    "\n",
    "obj127 = Sample127(127)\n",
    "obj127.display()"
   ]
  },
  {
   "cell_type": "code",
   "execution_count": null,
   "id": "e16ac4e0",
   "metadata": {},
   "outputs": [],
   "source": [
    "# Cell 129 - class methods\n",
    "class Sample128:\n",
    "    def __init__(self, value):\n",
    "        self.value = value\n",
    "    def display(self):\n",
    "        print(f'Sample128 Value:', self.value)\n",
    "\n",
    "obj128 = Sample128(128)\n",
    "obj128.display()"
   ]
  },
  {
   "cell_type": "code",
   "execution_count": null,
   "id": "cf3b9c7f",
   "metadata": {},
   "outputs": [],
   "source": [
    "# Cell 130 - multiple inheritance\n",
    "class Sample129:\n",
    "    def __init__(self, value):\n",
    "        self.value = value\n",
    "    def display(self):\n",
    "        print(f'Sample129 Value:', self.value)\n",
    "\n",
    "obj129 = Sample129(129)\n",
    "obj129.display()"
   ]
  },
  {
   "cell_type": "code",
   "execution_count": null,
   "id": "bac27a30",
   "metadata": {},
   "outputs": [],
   "source": [
    "# Cell 131 - method overriding\n",
    "class Sample130:\n",
    "    def __init__(self, value):\n",
    "        self.value = value\n",
    "    def display(self):\n",
    "        print(f'Sample130 Value:', self.value)\n",
    "\n",
    "obj130 = Sample130(130)\n",
    "obj130.display()"
   ]
  },
  {
   "cell_type": "code",
   "execution_count": null,
   "id": "4a059722",
   "metadata": {},
   "outputs": [],
   "source": [
    "# Cell 132 - class methods\n",
    "class Sample131:\n",
    "    def __init__(self, value):\n",
    "        self.value = value\n",
    "    def display(self):\n",
    "        print(f'Sample131 Value:', self.value)\n",
    "\n",
    "obj131 = Sample131(131)\n",
    "obj131.display()"
   ]
  },
  {
   "cell_type": "code",
   "execution_count": null,
   "id": "2a2662bf",
   "metadata": {},
   "outputs": [],
   "source": [
    "# Cell 133 - aggregation\n",
    "class Sample132:\n",
    "    def __init__(self, value):\n",
    "        self.value = value\n",
    "    def display(self):\n",
    "        print(f'Sample132 Value:', self.value)\n",
    "\n",
    "obj132 = Sample132(132)\n",
    "obj132.display()"
   ]
  },
  {
   "cell_type": "code",
   "execution_count": null,
   "id": "63d2ae82",
   "metadata": {},
   "outputs": [],
   "source": [
    "# Cell 134 - instance variables\n",
    "class Sample133:\n",
    "    def __init__(self, value):\n",
    "        self.value = value\n",
    "    def display(self):\n",
    "        print(f'Sample133 Value:', self.value)\n",
    "\n",
    "obj133 = Sample133(133)\n",
    "obj133.display()"
   ]
  },
  {
   "cell_type": "code",
   "execution_count": null,
   "id": "c188b6b4",
   "metadata": {},
   "outputs": [],
   "source": [
    "# Cell 135 - inheritance\n",
    "class Sample134:\n",
    "    def __init__(self, value):\n",
    "        self.value = value\n",
    "    def display(self):\n",
    "        print(f'Sample134 Value:', self.value)\n",
    "\n",
    "obj134 = Sample134(134)\n",
    "obj134.display()"
   ]
  },
  {
   "cell_type": "code",
   "execution_count": null,
   "id": "45ac66eb",
   "metadata": {},
   "outputs": [],
   "source": [
    "# Cell 136 - polymorphism\n",
    "class Sample135:\n",
    "    def __init__(self, value):\n",
    "        self.value = value\n",
    "    def display(self):\n",
    "        print(f'Sample135 Value:', self.value)\n",
    "\n",
    "obj135 = Sample135(135)\n",
    "obj135.display()"
   ]
  },
  {
   "cell_type": "code",
   "execution_count": null,
   "id": "02c6405a",
   "metadata": {},
   "outputs": [],
   "source": [
    "# Cell 137 - class definition\n",
    "class Sample136:\n",
    "    def __init__(self, value):\n",
    "        self.value = value\n",
    "    def display(self):\n",
    "        print(f'Sample136 Value:', self.value)\n",
    "\n",
    "obj136 = Sample136(136)\n",
    "obj136.display()"
   ]
  },
  {
   "cell_type": "code",
   "execution_count": null,
   "id": "8edb4663",
   "metadata": {},
   "outputs": [],
   "source": [
    "# Cell 138 - static methods\n",
    "class Sample137:\n",
    "    def __init__(self, value):\n",
    "        self.value = value\n",
    "    def display(self):\n",
    "        print(f'Sample137 Value:', self.value)\n",
    "\n",
    "obj137 = Sample137(137)\n",
    "obj137.display()"
   ]
  },
  {
   "cell_type": "code",
   "execution_count": null,
   "id": "d1d9e648",
   "metadata": {},
   "outputs": [],
   "source": [
    "# Cell 139 - multiple inheritance\n",
    "class Sample138:\n",
    "    def __init__(self, value):\n",
    "        self.value = value\n",
    "    def display(self):\n",
    "        print(f'Sample138 Value:', self.value)\n",
    "\n",
    "obj138 = Sample138(138)\n",
    "obj138.display()"
   ]
  },
  {
   "cell_type": "code",
   "execution_count": null,
   "id": "5a7a0d10",
   "metadata": {},
   "outputs": [],
   "source": [
    "# Cell 140 - multiple inheritance\n",
    "class Sample139:\n",
    "    def __init__(self, value):\n",
    "        self.value = value\n",
    "    def display(self):\n",
    "        print(f'Sample139 Value:', self.value)\n",
    "\n",
    "obj139 = Sample139(139)\n",
    "obj139.display()"
   ]
  },
  {
   "cell_type": "code",
   "execution_count": null,
   "id": "695583ce",
   "metadata": {},
   "outputs": [],
   "source": [
    "# Cell 141 - multiple inheritance\n",
    "class Sample140:\n",
    "    def __init__(self, value):\n",
    "        self.value = value\n",
    "    def display(self):\n",
    "        print(f'Sample140 Value:', self.value)\n",
    "\n",
    "obj140 = Sample140(140)\n",
    "obj140.display()"
   ]
  },
  {
   "cell_type": "code",
   "execution_count": null,
   "id": "857ceab4",
   "metadata": {},
   "outputs": [],
   "source": [
    "# Cell 142 - polymorphism\n",
    "class Sample141:\n",
    "    def __init__(self, value):\n",
    "        self.value = value\n",
    "    def display(self):\n",
    "        print(f'Sample141 Value:', self.value)\n",
    "\n",
    "obj141 = Sample141(141)\n",
    "obj141.display()"
   ]
  },
  {
   "cell_type": "code",
   "execution_count": null,
   "id": "6c15146b",
   "metadata": {},
   "outputs": [],
   "source": [
    "# Cell 143 - polymorphism\n",
    "class Sample142:\n",
    "    def __init__(self, value):\n",
    "        self.value = value\n",
    "    def display(self):\n",
    "        print(f'Sample142 Value:', self.value)\n",
    "\n",
    "obj142 = Sample142(142)\n",
    "obj142.display()"
   ]
  },
  {
   "cell_type": "code",
   "execution_count": null,
   "id": "6b08355d",
   "metadata": {},
   "outputs": [],
   "source": [
    "# Cell 144 - multiple inheritance\n",
    "class Sample143:\n",
    "    def __init__(self, value):\n",
    "        self.value = value\n",
    "    def display(self):\n",
    "        print(f'Sample143 Value:', self.value)\n",
    "\n",
    "obj143 = Sample143(143)\n",
    "obj143.display()"
   ]
  },
  {
   "cell_type": "code",
   "execution_count": null,
   "id": "3159ecb9",
   "metadata": {},
   "outputs": [],
   "source": [
    "# Cell 145 - class variables\n",
    "class Sample144:\n",
    "    def __init__(self, value):\n",
    "        self.value = value\n",
    "    def display(self):\n",
    "        print(f'Sample144 Value:', self.value)\n",
    "\n",
    "obj144 = Sample144(144)\n",
    "obj144.display()"
   ]
  },
  {
   "cell_type": "code",
   "execution_count": null,
   "id": "b8e3b884",
   "metadata": {},
   "outputs": [],
   "source": [
    "# Cell 146 - encapsulation\n",
    "class Sample145:\n",
    "    def __init__(self, value):\n",
    "        self.value = value\n",
    "    def display(self):\n",
    "        print(f'Sample145 Value:', self.value)\n",
    "\n",
    "obj145 = Sample145(145)\n",
    "obj145.display()"
   ]
  },
  {
   "cell_type": "code",
   "execution_count": null,
   "id": "1608480d",
   "metadata": {},
   "outputs": [],
   "source": [
    "# Cell 147 - method overriding\n",
    "class Sample146:\n",
    "    def __init__(self, value):\n",
    "        self.value = value\n",
    "    def display(self):\n",
    "        print(f'Sample146 Value:', self.value)\n",
    "\n",
    "obj146 = Sample146(146)\n",
    "obj146.display()"
   ]
  },
  {
   "cell_type": "code",
   "execution_count": null,
   "id": "0e3f308d",
   "metadata": {},
   "outputs": [],
   "source": [
    "# Cell 148 - constructor\n",
    "class Sample147:\n",
    "    def __init__(self, value):\n",
    "        self.value = value\n",
    "    def display(self):\n",
    "        print(f'Sample147 Value:', self.value)\n",
    "\n",
    "obj147 = Sample147(147)\n",
    "obj147.display()"
   ]
  },
  {
   "cell_type": "code",
   "execution_count": null,
   "id": "fa8bc0bd",
   "metadata": {},
   "outputs": [],
   "source": [
    "# Cell 149 - encapsulation\n",
    "class Sample148:\n",
    "    def __init__(self, value):\n",
    "        self.value = value\n",
    "    def display(self):\n",
    "        print(f'Sample148 Value:', self.value)\n",
    "\n",
    "obj148 = Sample148(148)\n",
    "obj148.display()"
   ]
  },
  {
   "cell_type": "code",
   "execution_count": null,
   "id": "400eccb8",
   "metadata": {},
   "outputs": [],
   "source": [
    "# Cell 150 - constructor\n",
    "class Sample149:\n",
    "    def __init__(self, value):\n",
    "        self.value = value\n",
    "    def display(self):\n",
    "        print(f'Sample149 Value:', self.value)\n",
    "\n",
    "obj149 = Sample149(149)\n",
    "obj149.display()"
   ]
  },
  {
   "cell_type": "code",
   "execution_count": null,
   "id": "fbd07eb1",
   "metadata": {},
   "outputs": [],
   "source": [
    "# Cell 151 - composition\n",
    "class Sample150:\n",
    "    def __init__(self, value):\n",
    "        self.value = value\n",
    "    def display(self):\n",
    "        print(f'Sample150 Value:', self.value)\n",
    "\n",
    "obj150 = Sample150(150)\n",
    "obj150.display()"
   ]
  },
  {
   "cell_type": "code",
   "execution_count": null,
   "id": "334707ed",
   "metadata": {},
   "outputs": [],
   "source": [
    "# Cell 152 - multiple inheritance\n",
    "class Sample151:\n",
    "    def __init__(self, value):\n",
    "        self.value = value\n",
    "    def display(self):\n",
    "        print(f'Sample151 Value:', self.value)\n",
    "\n",
    "obj151 = Sample151(151)\n",
    "obj151.display()"
   ]
  },
  {
   "cell_type": "code",
   "execution_count": null,
   "id": "d2727dd1",
   "metadata": {},
   "outputs": [],
   "source": [
    "# Cell 153 - aggregation\n",
    "class Sample152:\n",
    "    def __init__(self, value):\n",
    "        self.value = value\n",
    "    def display(self):\n",
    "        print(f'Sample152 Value:', self.value)\n",
    "\n",
    "obj152 = Sample152(152)\n",
    "obj152.display()"
   ]
  },
  {
   "cell_type": "code",
   "execution_count": null,
   "id": "30672ca1",
   "metadata": {},
   "outputs": [],
   "source": [
    "# Cell 154 - multiple inheritance\n",
    "class Sample153:\n",
    "    def __init__(self, value):\n",
    "        self.value = value\n",
    "    def display(self):\n",
    "        print(f'Sample153 Value:', self.value)\n",
    "\n",
    "obj153 = Sample153(153)\n",
    "obj153.display()"
   ]
  },
  {
   "cell_type": "code",
   "execution_count": null,
   "id": "173349b0",
   "metadata": {},
   "outputs": [],
   "source": [
    "# Cell 155 - polymorphism\n",
    "class Sample154:\n",
    "    def __init__(self, value):\n",
    "        self.value = value\n",
    "    def display(self):\n",
    "        print(f'Sample154 Value:', self.value)\n",
    "\n",
    "obj154 = Sample154(154)\n",
    "obj154.display()"
   ]
  },
  {
   "cell_type": "code",
   "execution_count": null,
   "id": "ed55eb21",
   "metadata": {},
   "outputs": [],
   "source": [
    "# Cell 156 - static methods\n",
    "class Sample155:\n",
    "    def __init__(self, value):\n",
    "        self.value = value\n",
    "    def display(self):\n",
    "        print(f'Sample155 Value:', self.value)\n",
    "\n",
    "obj155 = Sample155(155)\n",
    "obj155.display()"
   ]
  },
  {
   "cell_type": "code",
   "execution_count": null,
   "id": "2824e9e4",
   "metadata": {},
   "outputs": [],
   "source": [
    "# Cell 157 - aggregation\n",
    "class Sample156:\n",
    "    def __init__(self, value):\n",
    "        self.value = value\n",
    "    def display(self):\n",
    "        print(f'Sample156 Value:', self.value)\n",
    "\n",
    "obj156 = Sample156(156)\n",
    "obj156.display()"
   ]
  },
  {
   "cell_type": "code",
   "execution_count": null,
   "id": "91bb587b",
   "metadata": {},
   "outputs": [],
   "source": [
    "# Cell 158 - instance variables\n",
    "class Sample157:\n",
    "    def __init__(self, value):\n",
    "        self.value = value\n",
    "    def display(self):\n",
    "        print(f'Sample157 Value:', self.value)\n",
    "\n",
    "obj157 = Sample157(157)\n",
    "obj157.display()"
   ]
  },
  {
   "cell_type": "code",
   "execution_count": null,
   "id": "c48dbbcc",
   "metadata": {},
   "outputs": [],
   "source": [
    "# Cell 159 - class variables\n",
    "class Sample158:\n",
    "    def __init__(self, value):\n",
    "        self.value = value\n",
    "    def display(self):\n",
    "        print(f'Sample158 Value:', self.value)\n",
    "\n",
    "obj158 = Sample158(158)\n",
    "obj158.display()"
   ]
  },
  {
   "cell_type": "code",
   "execution_count": null,
   "id": "1abe047c",
   "metadata": {},
   "outputs": [],
   "source": [
    "# Cell 160 - composition\n",
    "class Sample159:\n",
    "    def __init__(self, value):\n",
    "        self.value = value\n",
    "    def display(self):\n",
    "        print(f'Sample159 Value:', self.value)\n",
    "\n",
    "obj159 = Sample159(159)\n",
    "obj159.display()"
   ]
  },
  {
   "cell_type": "code",
   "execution_count": null,
   "id": "0c13f486",
   "metadata": {},
   "outputs": [],
   "source": [
    "# Cell 161 - class methods\n",
    "class Sample160:\n",
    "    def __init__(self, value):\n",
    "        self.value = value\n",
    "    def display(self):\n",
    "        print(f'Sample160 Value:', self.value)\n",
    "\n",
    "obj160 = Sample160(160)\n",
    "obj160.display()"
   ]
  },
  {
   "cell_type": "code",
   "execution_count": null,
   "id": "ac2781f6",
   "metadata": {},
   "outputs": [],
   "source": [
    "# Cell 162 - encapsulation\n",
    "class Sample161:\n",
    "    def __init__(self, value):\n",
    "        self.value = value\n",
    "    def display(self):\n",
    "        print(f'Sample161 Value:', self.value)\n",
    "\n",
    "obj161 = Sample161(161)\n",
    "obj161.display()"
   ]
  },
  {
   "cell_type": "code",
   "execution_count": null,
   "id": "137af550",
   "metadata": {},
   "outputs": [],
   "source": [
    "# Cell 163 - method overriding\n",
    "class Sample162:\n",
    "    def __init__(self, value):\n",
    "        self.value = value\n",
    "    def display(self):\n",
    "        print(f'Sample162 Value:', self.value)\n",
    "\n",
    "obj162 = Sample162(162)\n",
    "obj162.display()"
   ]
  },
  {
   "cell_type": "code",
   "execution_count": null,
   "id": "e61d72ee",
   "metadata": {},
   "outputs": [],
   "source": [
    "# Cell 164 - constructor\n",
    "class Sample163:\n",
    "    def __init__(self, value):\n",
    "        self.value = value\n",
    "    def display(self):\n",
    "        print(f'Sample163 Value:', self.value)\n",
    "\n",
    "obj163 = Sample163(163)\n",
    "obj163.display()"
   ]
  },
  {
   "cell_type": "code",
   "execution_count": null,
   "id": "1040232a",
   "metadata": {},
   "outputs": [],
   "source": [
    "# Cell 165 - instance methods\n",
    "class Sample164:\n",
    "    def __init__(self, value):\n",
    "        self.value = value\n",
    "    def display(self):\n",
    "        print(f'Sample164 Value:', self.value)\n",
    "\n",
    "obj164 = Sample164(164)\n",
    "obj164.display()"
   ]
  },
  {
   "cell_type": "code",
   "execution_count": null,
   "id": "d28e80ad",
   "metadata": {},
   "outputs": [],
   "source": [
    "# Cell 166 - aggregation\n",
    "class Sample165:\n",
    "    def __init__(self, value):\n",
    "        self.value = value\n",
    "    def display(self):\n",
    "        print(f'Sample165 Value:', self.value)\n",
    "\n",
    "obj165 = Sample165(165)\n",
    "obj165.display()"
   ]
  },
  {
   "cell_type": "code",
   "execution_count": null,
   "id": "ea4a4633",
   "metadata": {},
   "outputs": [],
   "source": [
    "# Cell 167 - static methods\n",
    "class Sample166:\n",
    "    def __init__(self, value):\n",
    "        self.value = value\n",
    "    def display(self):\n",
    "        print(f'Sample166 Value:', self.value)\n",
    "\n",
    "obj166 = Sample166(166)\n",
    "obj166.display()"
   ]
  },
  {
   "cell_type": "code",
   "execution_count": null,
   "id": "c32ec3db",
   "metadata": {},
   "outputs": [],
   "source": [
    "# Cell 168 - polymorphism\n",
    "class Sample167:\n",
    "    def __init__(self, value):\n",
    "        self.value = value\n",
    "    def display(self):\n",
    "        print(f'Sample167 Value:', self.value)\n",
    "\n",
    "obj167 = Sample167(167)\n",
    "obj167.display()"
   ]
  },
  {
   "cell_type": "code",
   "execution_count": null,
   "id": "1c5de578",
   "metadata": {},
   "outputs": [],
   "source": [
    "# Cell 169 - multiple inheritance\n",
    "class Sample168:\n",
    "    def __init__(self, value):\n",
    "        self.value = value\n",
    "    def display(self):\n",
    "        print(f'Sample168 Value:', self.value)\n",
    "\n",
    "obj168 = Sample168(168)\n",
    "obj168.display()"
   ]
  },
  {
   "cell_type": "code",
   "execution_count": null,
   "id": "88b2f62e",
   "metadata": {},
   "outputs": [],
   "source": [
    "# Cell 170 - inheritance\n",
    "class Sample169:\n",
    "    def __init__(self, value):\n",
    "        self.value = value\n",
    "    def display(self):\n",
    "        print(f'Sample169 Value:', self.value)\n",
    "\n",
    "obj169 = Sample169(169)\n",
    "obj169.display()"
   ]
  },
  {
   "cell_type": "code",
   "execution_count": null,
   "id": "ea4adc91",
   "metadata": {},
   "outputs": [],
   "source": [
    "# Cell 171 - aggregation\n",
    "class Sample170:\n",
    "    def __init__(self, value):\n",
    "        self.value = value\n",
    "    def display(self):\n",
    "        print(f'Sample170 Value:', self.value)\n",
    "\n",
    "obj170 = Sample170(170)\n",
    "obj170.display()"
   ]
  },
  {
   "cell_type": "code",
   "execution_count": null,
   "id": "6d49b8f0",
   "metadata": {},
   "outputs": [],
   "source": [
    "# Cell 172 - inheritance\n",
    "class Sample171:\n",
    "    def __init__(self, value):\n",
    "        self.value = value\n",
    "    def display(self):\n",
    "        print(f'Sample171 Value:', self.value)\n",
    "\n",
    "obj171 = Sample171(171)\n",
    "obj171.display()"
   ]
  },
  {
   "cell_type": "code",
   "execution_count": null,
   "id": "10f3374e",
   "metadata": {},
   "outputs": [],
   "source": [
    "# Cell 173 - class definition\n",
    "class Sample172:\n",
    "    def __init__(self, value):\n",
    "        self.value = value\n",
    "    def display(self):\n",
    "        print(f'Sample172 Value:', self.value)\n",
    "\n",
    "obj172 = Sample172(172)\n",
    "obj172.display()"
   ]
  },
  {
   "cell_type": "code",
   "execution_count": null,
   "id": "2a459644",
   "metadata": {},
   "outputs": [],
   "source": [
    "# Cell 174 - class variables\n",
    "class Sample173:\n",
    "    def __init__(self, value):\n",
    "        self.value = value\n",
    "    def display(self):\n",
    "        print(f'Sample173 Value:', self.value)\n",
    "\n",
    "obj173 = Sample173(173)\n",
    "obj173.display()"
   ]
  },
  {
   "cell_type": "code",
   "execution_count": null,
   "id": "40dee233",
   "metadata": {},
   "outputs": [],
   "source": [
    "# Cell 175 - polymorphism\n",
    "class Sample174:\n",
    "    def __init__(self, value):\n",
    "        self.value = value\n",
    "    def display(self):\n",
    "        print(f'Sample174 Value:', self.value)\n",
    "\n",
    "obj174 = Sample174(174)\n",
    "obj174.display()"
   ]
  },
  {
   "cell_type": "code",
   "execution_count": null,
   "id": "aae4f341",
   "metadata": {},
   "outputs": [],
   "source": [
    "# Cell 176 - instance methods\n",
    "class Sample175:\n",
    "    def __init__(self, value):\n",
    "        self.value = value\n",
    "    def display(self):\n",
    "        print(f'Sample175 Value:', self.value)\n",
    "\n",
    "obj175 = Sample175(175)\n",
    "obj175.display()"
   ]
  },
  {
   "cell_type": "code",
   "execution_count": null,
   "id": "261cf6ce",
   "metadata": {},
   "outputs": [],
   "source": [
    "# Cell 177 - instance methods\n",
    "class Sample176:\n",
    "    def __init__(self, value):\n",
    "        self.value = value\n",
    "    def display(self):\n",
    "        print(f'Sample176 Value:', self.value)\n",
    "\n",
    "obj176 = Sample176(176)\n",
    "obj176.display()"
   ]
  },
  {
   "cell_type": "code",
   "execution_count": null,
   "id": "24da19b6",
   "metadata": {},
   "outputs": [],
   "source": [
    "# Cell 178 - static methods\n",
    "class Sample177:\n",
    "    def __init__(self, value):\n",
    "        self.value = value\n",
    "    def display(self):\n",
    "        print(f'Sample177 Value:', self.value)\n",
    "\n",
    "obj177 = Sample177(177)\n",
    "obj177.display()"
   ]
  },
  {
   "cell_type": "code",
   "execution_count": null,
   "id": "d8d1c5e6",
   "metadata": {},
   "outputs": [],
   "source": [
    "# Cell 179 - class variables\n",
    "class Sample178:\n",
    "    def __init__(self, value):\n",
    "        self.value = value\n",
    "    def display(self):\n",
    "        print(f'Sample178 Value:', self.value)\n",
    "\n",
    "obj178 = Sample178(178)\n",
    "obj178.display()"
   ]
  },
  {
   "cell_type": "code",
   "execution_count": null,
   "id": "bfc087fc",
   "metadata": {},
   "outputs": [],
   "source": [
    "# Cell 180 - class methods\n",
    "class Sample179:\n",
    "    def __init__(self, value):\n",
    "        self.value = value\n",
    "    def display(self):\n",
    "        print(f'Sample179 Value:', self.value)\n",
    "\n",
    "obj179 = Sample179(179)\n",
    "obj179.display()"
   ]
  },
  {
   "cell_type": "code",
   "execution_count": null,
   "id": "2e9c47fe",
   "metadata": {},
   "outputs": [],
   "source": [
    "# Cell 181 - dunder methods\n",
    "class Sample180:\n",
    "    def __init__(self, value):\n",
    "        self.value = value\n",
    "    def display(self):\n",
    "        print(f'Sample180 Value:', self.value)\n",
    "\n",
    "obj180 = Sample180(180)\n",
    "obj180.display()"
   ]
  },
  {
   "cell_type": "code",
   "execution_count": null,
   "id": "93ed0441",
   "metadata": {},
   "outputs": [],
   "source": [
    "# Cell 182 - composition\n",
    "class Sample181:\n",
    "    def __init__(self, value):\n",
    "        self.value = value\n",
    "    def display(self):\n",
    "        print(f'Sample181 Value:', self.value)\n",
    "\n",
    "obj181 = Sample181(181)\n",
    "obj181.display()"
   ]
  },
  {
   "cell_type": "code",
   "execution_count": null,
   "id": "86c539aa",
   "metadata": {},
   "outputs": [],
   "source": [
    "# Cell 183 - composition\n",
    "class Sample182:\n",
    "    def __init__(self, value):\n",
    "        self.value = value\n",
    "    def display(self):\n",
    "        print(f'Sample182 Value:', self.value)\n",
    "\n",
    "obj182 = Sample182(182)\n",
    "obj182.display()"
   ]
  },
  {
   "cell_type": "code",
   "execution_count": null,
   "id": "f63c30c3",
   "metadata": {},
   "outputs": [],
   "source": [
    "# Cell 184 - constructor\n",
    "class Sample183:\n",
    "    def __init__(self, value):\n",
    "        self.value = value\n",
    "    def display(self):\n",
    "        print(f'Sample183 Value:', self.value)\n",
    "\n",
    "obj183 = Sample183(183)\n",
    "obj183.display()"
   ]
  },
  {
   "cell_type": "code",
   "execution_count": null,
   "id": "6de8f611",
   "metadata": {},
   "outputs": [],
   "source": [
    "# Cell 185 - dunder methods\n",
    "class Sample184:\n",
    "    def __init__(self, value):\n",
    "        self.value = value\n",
    "    def display(self):\n",
    "        print(f'Sample184 Value:', self.value)\n",
    "\n",
    "obj184 = Sample184(184)\n",
    "obj184.display()"
   ]
  },
  {
   "cell_type": "code",
   "execution_count": null,
   "id": "0ba82e0b",
   "metadata": {},
   "outputs": [],
   "source": [
    "# Cell 186 - instance methods\n",
    "class Sample185:\n",
    "    def __init__(self, value):\n",
    "        self.value = value\n",
    "    def display(self):\n",
    "        print(f'Sample185 Value:', self.value)\n",
    "\n",
    "obj185 = Sample185(185)\n",
    "obj185.display()"
   ]
  },
  {
   "cell_type": "code",
   "execution_count": null,
   "id": "95a65312",
   "metadata": {},
   "outputs": [],
   "source": [
    "# Cell 187 - encapsulation\n",
    "class Sample186:\n",
    "    def __init__(self, value):\n",
    "        self.value = value\n",
    "    def display(self):\n",
    "        print(f'Sample186 Value:', self.value)\n",
    "\n",
    "obj186 = Sample186(186)\n",
    "obj186.display()"
   ]
  },
  {
   "cell_type": "code",
   "execution_count": null,
   "id": "7c18d0bf",
   "metadata": {},
   "outputs": [],
   "source": [
    "# Cell 188 - composition\n",
    "class Sample187:\n",
    "    def __init__(self, value):\n",
    "        self.value = value\n",
    "    def display(self):\n",
    "        print(f'Sample187 Value:', self.value)\n",
    "\n",
    "obj187 = Sample187(187)\n",
    "obj187.display()"
   ]
  },
  {
   "cell_type": "code",
   "execution_count": null,
   "id": "3841e484",
   "metadata": {},
   "outputs": [],
   "source": [
    "# Cell 189 - class methods\n",
    "class Sample188:\n",
    "    def __init__(self, value):\n",
    "        self.value = value\n",
    "    def display(self):\n",
    "        print(f'Sample188 Value:', self.value)\n",
    "\n",
    "obj188 = Sample188(188)\n",
    "obj188.display()"
   ]
  },
  {
   "cell_type": "code",
   "execution_count": null,
   "id": "742f4850",
   "metadata": {},
   "outputs": [],
   "source": [
    "# Cell 190 - method overriding\n",
    "class Sample189:\n",
    "    def __init__(self, value):\n",
    "        self.value = value\n",
    "    def display(self):\n",
    "        print(f'Sample189 Value:', self.value)\n",
    "\n",
    "obj189 = Sample189(189)\n",
    "obj189.display()"
   ]
  },
  {
   "cell_type": "code",
   "execution_count": null,
   "id": "6b9fbf82",
   "metadata": {},
   "outputs": [],
   "source": [
    "# Cell 191 - multiple inheritance\n",
    "class Sample190:\n",
    "    def __init__(self, value):\n",
    "        self.value = value\n",
    "    def display(self):\n",
    "        print(f'Sample190 Value:', self.value)\n",
    "\n",
    "obj190 = Sample190(190)\n",
    "obj190.display()"
   ]
  },
  {
   "cell_type": "code",
   "execution_count": null,
   "id": "7e7174ac",
   "metadata": {},
   "outputs": [],
   "source": [
    "# Cell 192 - encapsulation\n",
    "class Sample191:\n",
    "    def __init__(self, value):\n",
    "        self.value = value\n",
    "    def display(self):\n",
    "        print(f'Sample191 Value:', self.value)\n",
    "\n",
    "obj191 = Sample191(191)\n",
    "obj191.display()"
   ]
  },
  {
   "cell_type": "code",
   "execution_count": null,
   "id": "e63303b8",
   "metadata": {},
   "outputs": [],
   "source": [
    "# Cell 193 - instance methods\n",
    "class Sample192:\n",
    "    def __init__(self, value):\n",
    "        self.value = value\n",
    "    def display(self):\n",
    "        print(f'Sample192 Value:', self.value)\n",
    "\n",
    "obj192 = Sample192(192)\n",
    "obj192.display()"
   ]
  },
  {
   "cell_type": "code",
   "execution_count": null,
   "id": "91db9fbe",
   "metadata": {},
   "outputs": [],
   "source": [
    "# Cell 194 - constructor\n",
    "class Sample193:\n",
    "    def __init__(self, value):\n",
    "        self.value = value\n",
    "    def display(self):\n",
    "        print(f'Sample193 Value:', self.value)\n",
    "\n",
    "obj193 = Sample193(193)\n",
    "obj193.display()"
   ]
  },
  {
   "cell_type": "code",
   "execution_count": null,
   "id": "3deab766",
   "metadata": {},
   "outputs": [],
   "source": [
    "# Cell 195 - composition\n",
    "class Sample194:\n",
    "    def __init__(self, value):\n",
    "        self.value = value\n",
    "    def display(self):\n",
    "        print(f'Sample194 Value:', self.value)\n",
    "\n",
    "obj194 = Sample194(194)\n",
    "obj194.display()"
   ]
  },
  {
   "cell_type": "code",
   "execution_count": null,
   "id": "a5ab62c7",
   "metadata": {},
   "outputs": [],
   "source": [
    "# Cell 196 - class definition\n",
    "class Sample195:\n",
    "    def __init__(self, value):\n",
    "        self.value = value\n",
    "    def display(self):\n",
    "        print(f'Sample195 Value:', self.value)\n",
    "\n",
    "obj195 = Sample195(195)\n",
    "obj195.display()"
   ]
  },
  {
   "cell_type": "code",
   "execution_count": null,
   "id": "989973c5",
   "metadata": {},
   "outputs": [],
   "source": [
    "# Cell 197 - method overriding\n",
    "class Sample196:\n",
    "    def __init__(self, value):\n",
    "        self.value = value\n",
    "    def display(self):\n",
    "        print(f'Sample196 Value:', self.value)\n",
    "\n",
    "obj196 = Sample196(196)\n",
    "obj196.display()"
   ]
  },
  {
   "cell_type": "code",
   "execution_count": null,
   "id": "8d9ef76e",
   "metadata": {},
   "outputs": [],
   "source": [
    "# Cell 198 - constructor\n",
    "class Sample197:\n",
    "    def __init__(self, value):\n",
    "        self.value = value\n",
    "    def display(self):\n",
    "        print(f'Sample197 Value:', self.value)\n",
    "\n",
    "obj197 = Sample197(197)\n",
    "obj197.display()"
   ]
  },
  {
   "cell_type": "code",
   "execution_count": null,
   "id": "1d4715b3",
   "metadata": {},
   "outputs": [],
   "source": [
    "# Cell 199 - encapsulation\n",
    "class Sample198:\n",
    "    def __init__(self, value):\n",
    "        self.value = value\n",
    "    def display(self):\n",
    "        print(f'Sample198 Value:', self.value)\n",
    "\n",
    "obj198 = Sample198(198)\n",
    "obj198.display()"
   ]
  },
  {
   "cell_type": "code",
   "execution_count": null,
   "id": "590d0388",
   "metadata": {},
   "outputs": [],
   "source": [
    "# Cell 200 - class variables\n",
    "class Sample199:\n",
    "    def __init__(self, value):\n",
    "        self.value = value\n",
    "    def display(self):\n",
    "        print(f'Sample199 Value:', self.value)\n",
    "\n",
    "obj199 = Sample199(199)\n",
    "obj199.display()"
   ]
  },
  {
   "cell_type": "code",
   "execution_count": null,
   "id": "cea32de6",
   "metadata": {},
   "outputs": [],
   "source": [
    "# Cell 201 - constructor\n",
    "class Sample200:\n",
    "    def __init__(self, value):\n",
    "        self.value = value\n",
    "    def display(self):\n",
    "        print(f'Sample200 Value:', self.value)\n",
    "\n",
    "obj200 = Sample200(200)\n",
    "obj200.display()"
   ]
  },
  {
   "cell_type": "code",
   "execution_count": null,
   "id": "bbd5ea5b",
   "metadata": {},
   "outputs": [],
   "source": [
    "# Cell 202 - encapsulation\n",
    "class Sample201:\n",
    "    def __init__(self, value):\n",
    "        self.value = value\n",
    "    def display(self):\n",
    "        print(f'Sample201 Value:', self.value)\n",
    "\n",
    "obj201 = Sample201(201)\n",
    "obj201.display()"
   ]
  },
  {
   "cell_type": "code",
   "execution_count": null,
   "id": "16501c0f",
   "metadata": {},
   "outputs": [],
   "source": [
    "# Cell 203 - static methods\n",
    "class Sample202:\n",
    "    def __init__(self, value):\n",
    "        self.value = value\n",
    "    def display(self):\n",
    "        print(f'Sample202 Value:', self.value)\n",
    "\n",
    "obj202 = Sample202(202)\n",
    "obj202.display()"
   ]
  },
  {
   "cell_type": "code",
   "execution_count": null,
   "id": "43985bd8",
   "metadata": {},
   "outputs": [],
   "source": [
    "# Cell 204 - polymorphism\n",
    "class Sample203:\n",
    "    def __init__(self, value):\n",
    "        self.value = value\n",
    "    def display(self):\n",
    "        print(f'Sample203 Value:', self.value)\n",
    "\n",
    "obj203 = Sample203(203)\n",
    "obj203.display()"
   ]
  },
  {
   "cell_type": "code",
   "execution_count": null,
   "id": "05c94948",
   "metadata": {},
   "outputs": [],
   "source": [
    "# Cell 205 - aggregation\n",
    "class Sample204:\n",
    "    def __init__(self, value):\n",
    "        self.value = value\n",
    "    def display(self):\n",
    "        print(f'Sample204 Value:', self.value)\n",
    "\n",
    "obj204 = Sample204(204)\n",
    "obj204.display()"
   ]
  },
  {
   "cell_type": "code",
   "execution_count": null,
   "id": "6eb7149c",
   "metadata": {},
   "outputs": [],
   "source": [
    "# Cell 206 - composition\n",
    "class Sample205:\n",
    "    def __init__(self, value):\n",
    "        self.value = value\n",
    "    def display(self):\n",
    "        print(f'Sample205 Value:', self.value)\n",
    "\n",
    "obj205 = Sample205(205)\n",
    "obj205.display()"
   ]
  },
  {
   "cell_type": "code",
   "execution_count": null,
   "id": "711529b5",
   "metadata": {},
   "outputs": [],
   "source": [
    "# Cell 207 - instance methods\n",
    "class Sample206:\n",
    "    def __init__(self, value):\n",
    "        self.value = value\n",
    "    def display(self):\n",
    "        print(f'Sample206 Value:', self.value)\n",
    "\n",
    "obj206 = Sample206(206)\n",
    "obj206.display()"
   ]
  },
  {
   "cell_type": "code",
   "execution_count": null,
   "id": "620e7f10",
   "metadata": {},
   "outputs": [],
   "source": [
    "# Cell 208 - class methods\n",
    "class Sample207:\n",
    "    def __init__(self, value):\n",
    "        self.value = value\n",
    "    def display(self):\n",
    "        print(f'Sample207 Value:', self.value)\n",
    "\n",
    "obj207 = Sample207(207)\n",
    "obj207.display()"
   ]
  },
  {
   "cell_type": "code",
   "execution_count": null,
   "id": "504b5d9d",
   "metadata": {},
   "outputs": [],
   "source": [
    "# Cell 209 - instance methods\n",
    "class Sample208:\n",
    "    def __init__(self, value):\n",
    "        self.value = value\n",
    "    def display(self):\n",
    "        print(f'Sample208 Value:', self.value)\n",
    "\n",
    "obj208 = Sample208(208)\n",
    "obj208.display()"
   ]
  },
  {
   "cell_type": "code",
   "execution_count": null,
   "id": "b4f5285f",
   "metadata": {},
   "outputs": [],
   "source": [
    "# Cell 210 - constructor\n",
    "class Sample209:\n",
    "    def __init__(self, value):\n",
    "        self.value = value\n",
    "    def display(self):\n",
    "        print(f'Sample209 Value:', self.value)\n",
    "\n",
    "obj209 = Sample209(209)\n",
    "obj209.display()"
   ]
  },
  {
   "cell_type": "code",
   "execution_count": null,
   "id": "c030524e",
   "metadata": {},
   "outputs": [],
   "source": [
    "# Cell 211 - dunder methods\n",
    "class Sample210:\n",
    "    def __init__(self, value):\n",
    "        self.value = value\n",
    "    def display(self):\n",
    "        print(f'Sample210 Value:', self.value)\n",
    "\n",
    "obj210 = Sample210(210)\n",
    "obj210.display()"
   ]
  },
  {
   "cell_type": "code",
   "execution_count": null,
   "id": "678ae3cf",
   "metadata": {},
   "outputs": [],
   "source": [
    "# Cell 212 - method overriding\n",
    "class Sample211:\n",
    "    def __init__(self, value):\n",
    "        self.value = value\n",
    "    def display(self):\n",
    "        print(f'Sample211 Value:', self.value)\n",
    "\n",
    "obj211 = Sample211(211)\n",
    "obj211.display()"
   ]
  },
  {
   "cell_type": "code",
   "execution_count": null,
   "id": "f47fe21b",
   "metadata": {},
   "outputs": [],
   "source": [
    "# Cell 213 - static methods\n",
    "class Sample212:\n",
    "    def __init__(self, value):\n",
    "        self.value = value\n",
    "    def display(self):\n",
    "        print(f'Sample212 Value:', self.value)\n",
    "\n",
    "obj212 = Sample212(212)\n",
    "obj212.display()"
   ]
  },
  {
   "cell_type": "code",
   "execution_count": null,
   "id": "b6872e2e",
   "metadata": {},
   "outputs": [],
   "source": [
    "# Cell 214 - inheritance\n",
    "class Sample213:\n",
    "    def __init__(self, value):\n",
    "        self.value = value\n",
    "    def display(self):\n",
    "        print(f'Sample213 Value:', self.value)\n",
    "\n",
    "obj213 = Sample213(213)\n",
    "obj213.display()"
   ]
  },
  {
   "cell_type": "code",
   "execution_count": null,
   "id": "dbef18f5",
   "metadata": {},
   "outputs": [],
   "source": [
    "# Cell 215 - class methods\n",
    "class Sample214:\n",
    "    def __init__(self, value):\n",
    "        self.value = value\n",
    "    def display(self):\n",
    "        print(f'Sample214 Value:', self.value)\n",
    "\n",
    "obj214 = Sample214(214)\n",
    "obj214.display()"
   ]
  },
  {
   "cell_type": "code",
   "execution_count": null,
   "id": "ac231f9d",
   "metadata": {},
   "outputs": [],
   "source": [
    "# Cell 216 - dunder methods\n",
    "class Sample215:\n",
    "    def __init__(self, value):\n",
    "        self.value = value\n",
    "    def display(self):\n",
    "        print(f'Sample215 Value:', self.value)\n",
    "\n",
    "obj215 = Sample215(215)\n",
    "obj215.display()"
   ]
  },
  {
   "cell_type": "code",
   "execution_count": null,
   "id": "f544c527",
   "metadata": {},
   "outputs": [],
   "source": [
    "# Cell 217 - multiple inheritance\n",
    "class Sample216:\n",
    "    def __init__(self, value):\n",
    "        self.value = value\n",
    "    def display(self):\n",
    "        print(f'Sample216 Value:', self.value)\n",
    "\n",
    "obj216 = Sample216(216)\n",
    "obj216.display()"
   ]
  },
  {
   "cell_type": "code",
   "execution_count": null,
   "id": "c6454bcf",
   "metadata": {},
   "outputs": [],
   "source": [
    "# Cell 218 - dunder methods\n",
    "class Sample217:\n",
    "    def __init__(self, value):\n",
    "        self.value = value\n",
    "    def display(self):\n",
    "        print(f'Sample217 Value:', self.value)\n",
    "\n",
    "obj217 = Sample217(217)\n",
    "obj217.display()"
   ]
  },
  {
   "cell_type": "code",
   "execution_count": null,
   "id": "81388386",
   "metadata": {},
   "outputs": [],
   "source": [
    "# Cell 219 - constructor\n",
    "class Sample218:\n",
    "    def __init__(self, value):\n",
    "        self.value = value\n",
    "    def display(self):\n",
    "        print(f'Sample218 Value:', self.value)\n",
    "\n",
    "obj218 = Sample218(218)\n",
    "obj218.display()"
   ]
  },
  {
   "cell_type": "code",
   "execution_count": null,
   "id": "20c837ce",
   "metadata": {},
   "outputs": [],
   "source": [
    "# Cell 220 - class definition\n",
    "class Sample219:\n",
    "    def __init__(self, value):\n",
    "        self.value = value\n",
    "    def display(self):\n",
    "        print(f'Sample219 Value:', self.value)\n",
    "\n",
    "obj219 = Sample219(219)\n",
    "obj219.display()"
   ]
  },
  {
   "cell_type": "code",
   "execution_count": null,
   "id": "f518d6d5",
   "metadata": {},
   "outputs": [],
   "source": [
    "# Cell 221 - class variables\n",
    "class Sample220:\n",
    "    def __init__(self, value):\n",
    "        self.value = value\n",
    "    def display(self):\n",
    "        print(f'Sample220 Value:', self.value)\n",
    "\n",
    "obj220 = Sample220(220)\n",
    "obj220.display()"
   ]
  },
  {
   "cell_type": "code",
   "execution_count": null,
   "id": "e13562ec",
   "metadata": {},
   "outputs": [],
   "source": [
    "# Cell 222 - class methods\n",
    "class Sample221:\n",
    "    def __init__(self, value):\n",
    "        self.value = value\n",
    "    def display(self):\n",
    "        print(f'Sample221 Value:', self.value)\n",
    "\n",
    "obj221 = Sample221(221)\n",
    "obj221.display()"
   ]
  },
  {
   "cell_type": "code",
   "execution_count": null,
   "id": "3076f5b9",
   "metadata": {},
   "outputs": [],
   "source": [
    "# Cell 223 - method overriding\n",
    "class Sample222:\n",
    "    def __init__(self, value):\n",
    "        self.value = value\n",
    "    def display(self):\n",
    "        print(f'Sample222 Value:', self.value)\n",
    "\n",
    "obj222 = Sample222(222)\n",
    "obj222.display()"
   ]
  },
  {
   "cell_type": "code",
   "execution_count": null,
   "id": "40b104d6",
   "metadata": {},
   "outputs": [],
   "source": [
    "# Cell 224 - polymorphism\n",
    "class Sample223:\n",
    "    def __init__(self, value):\n",
    "        self.value = value\n",
    "    def display(self):\n",
    "        print(f'Sample223 Value:', self.value)\n",
    "\n",
    "obj223 = Sample223(223)\n",
    "obj223.display()"
   ]
  },
  {
   "cell_type": "code",
   "execution_count": null,
   "id": "6fa22193",
   "metadata": {},
   "outputs": [],
   "source": [
    "# Cell 225 - aggregation\n",
    "class Sample224:\n",
    "    def __init__(self, value):\n",
    "        self.value = value\n",
    "    def display(self):\n",
    "        print(f'Sample224 Value:', self.value)\n",
    "\n",
    "obj224 = Sample224(224)\n",
    "obj224.display()"
   ]
  },
  {
   "cell_type": "code",
   "execution_count": null,
   "id": "3b9d3e73",
   "metadata": {},
   "outputs": [],
   "source": [
    "# Cell 226 - encapsulation\n",
    "class Sample225:\n",
    "    def __init__(self, value):\n",
    "        self.value = value\n",
    "    def display(self):\n",
    "        print(f'Sample225 Value:', self.value)\n",
    "\n",
    "obj225 = Sample225(225)\n",
    "obj225.display()"
   ]
  },
  {
   "cell_type": "code",
   "execution_count": null,
   "id": "cc069dbe",
   "metadata": {},
   "outputs": [],
   "source": [
    "# Cell 227 - composition\n",
    "class Sample226:\n",
    "    def __init__(self, value):\n",
    "        self.value = value\n",
    "    def display(self):\n",
    "        print(f'Sample226 Value:', self.value)\n",
    "\n",
    "obj226 = Sample226(226)\n",
    "obj226.display()"
   ]
  },
  {
   "cell_type": "code",
   "execution_count": null,
   "id": "e6c938e6",
   "metadata": {},
   "outputs": [],
   "source": [
    "# Cell 228 - static methods\n",
    "class Sample227:\n",
    "    def __init__(self, value):\n",
    "        self.value = value\n",
    "    def display(self):\n",
    "        print(f'Sample227 Value:', self.value)\n",
    "\n",
    "obj227 = Sample227(227)\n",
    "obj227.display()"
   ]
  },
  {
   "cell_type": "code",
   "execution_count": null,
   "id": "5342915a",
   "metadata": {},
   "outputs": [],
   "source": [
    "# Cell 229 - class variables\n",
    "class Sample228:\n",
    "    def __init__(self, value):\n",
    "        self.value = value\n",
    "    def display(self):\n",
    "        print(f'Sample228 Value:', self.value)\n",
    "\n",
    "obj228 = Sample228(228)\n",
    "obj228.display()"
   ]
  },
  {
   "cell_type": "code",
   "execution_count": null,
   "id": "70314bf5",
   "metadata": {},
   "outputs": [],
   "source": [
    "# Cell 230 - composition\n",
    "class Sample229:\n",
    "    def __init__(self, value):\n",
    "        self.value = value\n",
    "    def display(self):\n",
    "        print(f'Sample229 Value:', self.value)\n",
    "\n",
    "obj229 = Sample229(229)\n",
    "obj229.display()"
   ]
  },
  {
   "cell_type": "code",
   "execution_count": null,
   "id": "c00ec46b",
   "metadata": {},
   "outputs": [],
   "source": [
    "# Cell 231 - method overriding\n",
    "class Sample230:\n",
    "    def __init__(self, value):\n",
    "        self.value = value\n",
    "    def display(self):\n",
    "        print(f'Sample230 Value:', self.value)\n",
    "\n",
    "obj230 = Sample230(230)\n",
    "obj230.display()"
   ]
  },
  {
   "cell_type": "code",
   "execution_count": null,
   "id": "81f580a9",
   "metadata": {},
   "outputs": [],
   "source": [
    "# Cell 232 - inheritance\n",
    "class Sample231:\n",
    "    def __init__(self, value):\n",
    "        self.value = value\n",
    "    def display(self):\n",
    "        print(f'Sample231 Value:', self.value)\n",
    "\n",
    "obj231 = Sample231(231)\n",
    "obj231.display()"
   ]
  },
  {
   "cell_type": "code",
   "execution_count": null,
   "id": "472308d2",
   "metadata": {},
   "outputs": [],
   "source": [
    "# Cell 233 - aggregation\n",
    "class Sample232:\n",
    "    def __init__(self, value):\n",
    "        self.value = value\n",
    "    def display(self):\n",
    "        print(f'Sample232 Value:', self.value)\n",
    "\n",
    "obj232 = Sample232(232)\n",
    "obj232.display()"
   ]
  },
  {
   "cell_type": "code",
   "execution_count": null,
   "id": "64faac3c",
   "metadata": {},
   "outputs": [],
   "source": [
    "# Cell 234 - composition\n",
    "class Sample233:\n",
    "    def __init__(self, value):\n",
    "        self.value = value\n",
    "    def display(self):\n",
    "        print(f'Sample233 Value:', self.value)\n",
    "\n",
    "obj233 = Sample233(233)\n",
    "obj233.display()"
   ]
  },
  {
   "cell_type": "code",
   "execution_count": null,
   "id": "57e78b24",
   "metadata": {},
   "outputs": [],
   "source": [
    "# Cell 235 - aggregation\n",
    "class Sample234:\n",
    "    def __init__(self, value):\n",
    "        self.value = value\n",
    "    def display(self):\n",
    "        print(f'Sample234 Value:', self.value)\n",
    "\n",
    "obj234 = Sample234(234)\n",
    "obj234.display()"
   ]
  },
  {
   "cell_type": "code",
   "execution_count": null,
   "id": "7ad7fbff",
   "metadata": {},
   "outputs": [],
   "source": [
    "# Cell 236 - dunder methods\n",
    "class Sample235:\n",
    "    def __init__(self, value):\n",
    "        self.value = value\n",
    "    def display(self):\n",
    "        print(f'Sample235 Value:', self.value)\n",
    "\n",
    "obj235 = Sample235(235)\n",
    "obj235.display()"
   ]
  },
  {
   "cell_type": "code",
   "execution_count": null,
   "id": "8f0ae2d7",
   "metadata": {},
   "outputs": [],
   "source": [
    "# Cell 237 - polymorphism\n",
    "class Sample236:\n",
    "    def __init__(self, value):\n",
    "        self.value = value\n",
    "    def display(self):\n",
    "        print(f'Sample236 Value:', self.value)\n",
    "\n",
    "obj236 = Sample236(236)\n",
    "obj236.display()"
   ]
  },
  {
   "cell_type": "code",
   "execution_count": null,
   "id": "0a5c01fb",
   "metadata": {},
   "outputs": [],
   "source": [
    "# Cell 238 - method overriding\n",
    "class Sample237:\n",
    "    def __init__(self, value):\n",
    "        self.value = value\n",
    "    def display(self):\n",
    "        print(f'Sample237 Value:', self.value)\n",
    "\n",
    "obj237 = Sample237(237)\n",
    "obj237.display()"
   ]
  },
  {
   "cell_type": "code",
   "execution_count": null,
   "id": "079ca67f",
   "metadata": {},
   "outputs": [],
   "source": [
    "# Cell 239 - polymorphism\n",
    "class Sample238:\n",
    "    def __init__(self, value):\n",
    "        self.value = value\n",
    "    def display(self):\n",
    "        print(f'Sample238 Value:', self.value)\n",
    "\n",
    "obj238 = Sample238(238)\n",
    "obj238.display()"
   ]
  },
  {
   "cell_type": "code",
   "execution_count": null,
   "id": "b3f4cc11",
   "metadata": {},
   "outputs": [],
   "source": [
    "# Cell 240 - class definition\n",
    "class Sample239:\n",
    "    def __init__(self, value):\n",
    "        self.value = value\n",
    "    def display(self):\n",
    "        print(f'Sample239 Value:', self.value)\n",
    "\n",
    "obj239 = Sample239(239)\n",
    "obj239.display()"
   ]
  },
  {
   "cell_type": "code",
   "execution_count": null,
   "id": "202c0729",
   "metadata": {},
   "outputs": [],
   "source": [
    "# Cell 241 - dunder methods\n",
    "class Sample240:\n",
    "    def __init__(self, value):\n",
    "        self.value = value\n",
    "    def display(self):\n",
    "        print(f'Sample240 Value:', self.value)\n",
    "\n",
    "obj240 = Sample240(240)\n",
    "obj240.display()"
   ]
  },
  {
   "cell_type": "code",
   "execution_count": null,
   "id": "ddc8390b",
   "metadata": {},
   "outputs": [],
   "source": [
    "# Cell 242 - class methods\n",
    "class Sample241:\n",
    "    def __init__(self, value):\n",
    "        self.value = value\n",
    "    def display(self):\n",
    "        print(f'Sample241 Value:', self.value)\n",
    "\n",
    "obj241 = Sample241(241)\n",
    "obj241.display()"
   ]
  },
  {
   "cell_type": "code",
   "execution_count": null,
   "id": "0ac065e2",
   "metadata": {},
   "outputs": [],
   "source": [
    "# Cell 243 - instance variables\n",
    "class Sample242:\n",
    "    def __init__(self, value):\n",
    "        self.value = value\n",
    "    def display(self):\n",
    "        print(f'Sample242 Value:', self.value)\n",
    "\n",
    "obj242 = Sample242(242)\n",
    "obj242.display()"
   ]
  },
  {
   "cell_type": "code",
   "execution_count": null,
   "id": "b83a8982",
   "metadata": {},
   "outputs": [],
   "source": [
    "# Cell 244 - dunder methods\n",
    "class Sample243:\n",
    "    def __init__(self, value):\n",
    "        self.value = value\n",
    "    def display(self):\n",
    "        print(f'Sample243 Value:', self.value)\n",
    "\n",
    "obj243 = Sample243(243)\n",
    "obj243.display()"
   ]
  },
  {
   "cell_type": "code",
   "execution_count": null,
   "id": "ef0b0f59",
   "metadata": {},
   "outputs": [],
   "source": [
    "# Cell 245 - instance methods\n",
    "class Sample244:\n",
    "    def __init__(self, value):\n",
    "        self.value = value\n",
    "    def display(self):\n",
    "        print(f'Sample244 Value:', self.value)\n",
    "\n",
    "obj244 = Sample244(244)\n",
    "obj244.display()"
   ]
  },
  {
   "cell_type": "code",
   "execution_count": null,
   "id": "f5c15b9c",
   "metadata": {},
   "outputs": [],
   "source": [
    "# Cell 246 - class variables\n",
    "class Sample245:\n",
    "    def __init__(self, value):\n",
    "        self.value = value\n",
    "    def display(self):\n",
    "        print(f'Sample245 Value:', self.value)\n",
    "\n",
    "obj245 = Sample245(245)\n",
    "obj245.display()"
   ]
  },
  {
   "cell_type": "code",
   "execution_count": null,
   "id": "7874d58e",
   "metadata": {},
   "outputs": [],
   "source": [
    "# Cell 247 - class methods\n",
    "class Sample246:\n",
    "    def __init__(self, value):\n",
    "        self.value = value\n",
    "    def display(self):\n",
    "        print(f'Sample246 Value:', self.value)\n",
    "\n",
    "obj246 = Sample246(246)\n",
    "obj246.display()"
   ]
  },
  {
   "cell_type": "code",
   "execution_count": null,
   "id": "a0ef62b6",
   "metadata": {},
   "outputs": [],
   "source": [
    "# Cell 248 - polymorphism\n",
    "class Sample247:\n",
    "    def __init__(self, value):\n",
    "        self.value = value\n",
    "    def display(self):\n",
    "        print(f'Sample247 Value:', self.value)\n",
    "\n",
    "obj247 = Sample247(247)\n",
    "obj247.display()"
   ]
  },
  {
   "cell_type": "code",
   "execution_count": null,
   "id": "e7f758b7",
   "metadata": {},
   "outputs": [],
   "source": [
    "# Cell 249 - aggregation\n",
    "class Sample248:\n",
    "    def __init__(self, value):\n",
    "        self.value = value\n",
    "    def display(self):\n",
    "        print(f'Sample248 Value:', self.value)\n",
    "\n",
    "obj248 = Sample248(248)\n",
    "obj248.display()"
   ]
  },
  {
   "cell_type": "code",
   "execution_count": null,
   "id": "d5f34981",
   "metadata": {},
   "outputs": [],
   "source": [
    "# Cell 250 - class methods\n",
    "class Sample249:\n",
    "    def __init__(self, value):\n",
    "        self.value = value\n",
    "    def display(self):\n",
    "        print(f'Sample249 Value:', self.value)\n",
    "\n",
    "obj249 = Sample249(249)\n",
    "obj249.display()"
   ]
  },
  {
   "cell_type": "code",
   "execution_count": null,
   "id": "9ce162a0",
   "metadata": {},
   "outputs": [],
   "source": [
    "# Cell 251 - class methods\n",
    "class Sample250:\n",
    "    def __init__(self, value):\n",
    "        self.value = value\n",
    "    def display(self):\n",
    "        print(f'Sample250 Value:', self.value)\n",
    "\n",
    "obj250 = Sample250(250)\n",
    "obj250.display()"
   ]
  },
  {
   "cell_type": "code",
   "execution_count": null,
   "id": "78934a5b",
   "metadata": {},
   "outputs": [],
   "source": [
    "# Cell 252 - polymorphism\n",
    "class Sample251:\n",
    "    def __init__(self, value):\n",
    "        self.value = value\n",
    "    def display(self):\n",
    "        print(f'Sample251 Value:', self.value)\n",
    "\n",
    "obj251 = Sample251(251)\n",
    "obj251.display()"
   ]
  },
  {
   "cell_type": "code",
   "execution_count": null,
   "id": "95fc270f",
   "metadata": {},
   "outputs": [],
   "source": [
    "# Cell 253 - composition\n",
    "class Sample252:\n",
    "    def __init__(self, value):\n",
    "        self.value = value\n",
    "    def display(self):\n",
    "        print(f'Sample252 Value:', self.value)\n",
    "\n",
    "obj252 = Sample252(252)\n",
    "obj252.display()"
   ]
  },
  {
   "cell_type": "code",
   "execution_count": null,
   "id": "8fdf9119",
   "metadata": {},
   "outputs": [],
   "source": [
    "# Cell 254 - constructor\n",
    "class Sample253:\n",
    "    def __init__(self, value):\n",
    "        self.value = value\n",
    "    def display(self):\n",
    "        print(f'Sample253 Value:', self.value)\n",
    "\n",
    "obj253 = Sample253(253)\n",
    "obj253.display()"
   ]
  },
  {
   "cell_type": "code",
   "execution_count": null,
   "id": "7dc569ec",
   "metadata": {},
   "outputs": [],
   "source": [
    "# Cell 255 - multiple inheritance\n",
    "class Sample254:\n",
    "    def __init__(self, value):\n",
    "        self.value = value\n",
    "    def display(self):\n",
    "        print(f'Sample254 Value:', self.value)\n",
    "\n",
    "obj254 = Sample254(254)\n",
    "obj254.display()"
   ]
  },
  {
   "cell_type": "code",
   "execution_count": null,
   "id": "d306a63d",
   "metadata": {},
   "outputs": [],
   "source": [
    "# Cell 256 - inheritance\n",
    "class Sample255:\n",
    "    def __init__(self, value):\n",
    "        self.value = value\n",
    "    def display(self):\n",
    "        print(f'Sample255 Value:', self.value)\n",
    "\n",
    "obj255 = Sample255(255)\n",
    "obj255.display()"
   ]
  },
  {
   "cell_type": "code",
   "execution_count": null,
   "id": "3f06f5e1",
   "metadata": {},
   "outputs": [],
   "source": [
    "# Cell 257 - class variables\n",
    "class Sample256:\n",
    "    def __init__(self, value):\n",
    "        self.value = value\n",
    "    def display(self):\n",
    "        print(f'Sample256 Value:', self.value)\n",
    "\n",
    "obj256 = Sample256(256)\n",
    "obj256.display()"
   ]
  },
  {
   "cell_type": "code",
   "execution_count": null,
   "id": "004efbc4",
   "metadata": {},
   "outputs": [],
   "source": [
    "# Cell 258 - aggregation\n",
    "class Sample257:\n",
    "    def __init__(self, value):\n",
    "        self.value = value\n",
    "    def display(self):\n",
    "        print(f'Sample257 Value:', self.value)\n",
    "\n",
    "obj257 = Sample257(257)\n",
    "obj257.display()"
   ]
  },
  {
   "cell_type": "code",
   "execution_count": null,
   "id": "90675418",
   "metadata": {},
   "outputs": [],
   "source": [
    "# Cell 259 - composition\n",
    "class Sample258:\n",
    "    def __init__(self, value):\n",
    "        self.value = value\n",
    "    def display(self):\n",
    "        print(f'Sample258 Value:', self.value)\n",
    "\n",
    "obj258 = Sample258(258)\n",
    "obj258.display()"
   ]
  },
  {
   "cell_type": "code",
   "execution_count": null,
   "id": "ec0eb11d",
   "metadata": {},
   "outputs": [],
   "source": [
    "# Cell 260 - constructor\n",
    "class Sample259:\n",
    "    def __init__(self, value):\n",
    "        self.value = value\n",
    "    def display(self):\n",
    "        print(f'Sample259 Value:', self.value)\n",
    "\n",
    "obj259 = Sample259(259)\n",
    "obj259.display()"
   ]
  },
  {
   "cell_type": "code",
   "execution_count": null,
   "id": "32ebdef9",
   "metadata": {},
   "outputs": [],
   "source": [
    "# Cell 261 - aggregation\n",
    "class Sample260:\n",
    "    def __init__(self, value):\n",
    "        self.value = value\n",
    "    def display(self):\n",
    "        print(f'Sample260 Value:', self.value)\n",
    "\n",
    "obj260 = Sample260(260)\n",
    "obj260.display()"
   ]
  },
  {
   "cell_type": "code",
   "execution_count": null,
   "id": "78c5f8dd",
   "metadata": {},
   "outputs": [],
   "source": [
    "# Cell 262 - aggregation\n",
    "class Sample261:\n",
    "    def __init__(self, value):\n",
    "        self.value = value\n",
    "    def display(self):\n",
    "        print(f'Sample261 Value:', self.value)\n",
    "\n",
    "obj261 = Sample261(261)\n",
    "obj261.display()"
   ]
  },
  {
   "cell_type": "code",
   "execution_count": null,
   "id": "8f27f0cf",
   "metadata": {},
   "outputs": [],
   "source": [
    "# Cell 263 - instance methods\n",
    "class Sample262:\n",
    "    def __init__(self, value):\n",
    "        self.value = value\n",
    "    def display(self):\n",
    "        print(f'Sample262 Value:', self.value)\n",
    "\n",
    "obj262 = Sample262(262)\n",
    "obj262.display()"
   ]
  },
  {
   "cell_type": "code",
   "execution_count": null,
   "id": "17a5d7d2",
   "metadata": {},
   "outputs": [],
   "source": [
    "# Cell 264 - aggregation\n",
    "class Sample263:\n",
    "    def __init__(self, value):\n",
    "        self.value = value\n",
    "    def display(self):\n",
    "        print(f'Sample263 Value:', self.value)\n",
    "\n",
    "obj263 = Sample263(263)\n",
    "obj263.display()"
   ]
  },
  {
   "cell_type": "code",
   "execution_count": null,
   "id": "dca4eb12",
   "metadata": {},
   "outputs": [],
   "source": [
    "# Cell 265 - constructor\n",
    "class Sample264:\n",
    "    def __init__(self, value):\n",
    "        self.value = value\n",
    "    def display(self):\n",
    "        print(f'Sample264 Value:', self.value)\n",
    "\n",
    "obj264 = Sample264(264)\n",
    "obj264.display()"
   ]
  },
  {
   "cell_type": "code",
   "execution_count": null,
   "id": "dbafedd9",
   "metadata": {},
   "outputs": [],
   "source": [
    "# Cell 266 - dunder methods\n",
    "class Sample265:\n",
    "    def __init__(self, value):\n",
    "        self.value = value\n",
    "    def display(self):\n",
    "        print(f'Sample265 Value:', self.value)\n",
    "\n",
    "obj265 = Sample265(265)\n",
    "obj265.display()"
   ]
  },
  {
   "cell_type": "code",
   "execution_count": null,
   "id": "216d95ae",
   "metadata": {},
   "outputs": [],
   "source": [
    "# Cell 267 - constructor\n",
    "class Sample266:\n",
    "    def __init__(self, value):\n",
    "        self.value = value\n",
    "    def display(self):\n",
    "        print(f'Sample266 Value:', self.value)\n",
    "\n",
    "obj266 = Sample266(266)\n",
    "obj266.display()"
   ]
  },
  {
   "cell_type": "code",
   "execution_count": null,
   "id": "2f8fd6c3",
   "metadata": {},
   "outputs": [],
   "source": [
    "# Cell 268 - class variables\n",
    "class Sample267:\n",
    "    def __init__(self, value):\n",
    "        self.value = value\n",
    "    def display(self):\n",
    "        print(f'Sample267 Value:', self.value)\n",
    "\n",
    "obj267 = Sample267(267)\n",
    "obj267.display()"
   ]
  },
  {
   "cell_type": "code",
   "execution_count": null,
   "id": "27e2776b",
   "metadata": {},
   "outputs": [],
   "source": [
    "# Cell 269 - class variables\n",
    "class Sample268:\n",
    "    def __init__(self, value):\n",
    "        self.value = value\n",
    "    def display(self):\n",
    "        print(f'Sample268 Value:', self.value)\n",
    "\n",
    "obj268 = Sample268(268)\n",
    "obj268.display()"
   ]
  },
  {
   "cell_type": "code",
   "execution_count": null,
   "id": "9a522264",
   "metadata": {},
   "outputs": [],
   "source": [
    "# Cell 270 - instance variables\n",
    "class Sample269:\n",
    "    def __init__(self, value):\n",
    "        self.value = value\n",
    "    def display(self):\n",
    "        print(f'Sample269 Value:', self.value)\n",
    "\n",
    "obj269 = Sample269(269)\n",
    "obj269.display()"
   ]
  },
  {
   "cell_type": "code",
   "execution_count": null,
   "id": "6555743b",
   "metadata": {},
   "outputs": [],
   "source": [
    "# Cell 271 - polymorphism\n",
    "class Sample270:\n",
    "    def __init__(self, value):\n",
    "        self.value = value\n",
    "    def display(self):\n",
    "        print(f'Sample270 Value:', self.value)\n",
    "\n",
    "obj270 = Sample270(270)\n",
    "obj270.display()"
   ]
  },
  {
   "cell_type": "code",
   "execution_count": null,
   "id": "e26e48e7",
   "metadata": {},
   "outputs": [],
   "source": [
    "# Cell 272 - dunder methods\n",
    "class Sample271:\n",
    "    def __init__(self, value):\n",
    "        self.value = value\n",
    "    def display(self):\n",
    "        print(f'Sample271 Value:', self.value)\n",
    "\n",
    "obj271 = Sample271(271)\n",
    "obj271.display()"
   ]
  },
  {
   "cell_type": "code",
   "execution_count": null,
   "id": "e10080de",
   "metadata": {},
   "outputs": [],
   "source": [
    "# Cell 273 - polymorphism\n",
    "class Sample272:\n",
    "    def __init__(self, value):\n",
    "        self.value = value\n",
    "    def display(self):\n",
    "        print(f'Sample272 Value:', self.value)\n",
    "\n",
    "obj272 = Sample272(272)\n",
    "obj272.display()"
   ]
  },
  {
   "cell_type": "code",
   "execution_count": null,
   "id": "3ab62477",
   "metadata": {},
   "outputs": [],
   "source": [
    "# Cell 274 - static methods\n",
    "class Sample273:\n",
    "    def __init__(self, value):\n",
    "        self.value = value\n",
    "    def display(self):\n",
    "        print(f'Sample273 Value:', self.value)\n",
    "\n",
    "obj273 = Sample273(273)\n",
    "obj273.display()"
   ]
  },
  {
   "cell_type": "code",
   "execution_count": null,
   "id": "fe0dc585",
   "metadata": {},
   "outputs": [],
   "source": [
    "# Cell 275 - polymorphism\n",
    "class Sample274:\n",
    "    def __init__(self, value):\n",
    "        self.value = value\n",
    "    def display(self):\n",
    "        print(f'Sample274 Value:', self.value)\n",
    "\n",
    "obj274 = Sample274(274)\n",
    "obj274.display()"
   ]
  },
  {
   "cell_type": "code",
   "execution_count": null,
   "id": "fc125e39",
   "metadata": {},
   "outputs": [],
   "source": [
    "# Cell 276 - polymorphism\n",
    "class Sample275:\n",
    "    def __init__(self, value):\n",
    "        self.value = value\n",
    "    def display(self):\n",
    "        print(f'Sample275 Value:', self.value)\n",
    "\n",
    "obj275 = Sample275(275)\n",
    "obj275.display()"
   ]
  },
  {
   "cell_type": "code",
   "execution_count": null,
   "id": "1e68308b",
   "metadata": {},
   "outputs": [],
   "source": [
    "# Cell 277 - constructor\n",
    "class Sample276:\n",
    "    def __init__(self, value):\n",
    "        self.value = value\n",
    "    def display(self):\n",
    "        print(f'Sample276 Value:', self.value)\n",
    "\n",
    "obj276 = Sample276(276)\n",
    "obj276.display()"
   ]
  },
  {
   "cell_type": "code",
   "execution_count": null,
   "id": "76a9a32d",
   "metadata": {},
   "outputs": [],
   "source": [
    "# Cell 278 - method overriding\n",
    "class Sample277:\n",
    "    def __init__(self, value):\n",
    "        self.value = value\n",
    "    def display(self):\n",
    "        print(f'Sample277 Value:', self.value)\n",
    "\n",
    "obj277 = Sample277(277)\n",
    "obj277.display()"
   ]
  },
  {
   "cell_type": "code",
   "execution_count": null,
   "id": "64f17a27",
   "metadata": {},
   "outputs": [],
   "source": [
    "# Cell 279 - class definition\n",
    "class Sample278:\n",
    "    def __init__(self, value):\n",
    "        self.value = value\n",
    "    def display(self):\n",
    "        print(f'Sample278 Value:', self.value)\n",
    "\n",
    "obj278 = Sample278(278)\n",
    "obj278.display()"
   ]
  },
  {
   "cell_type": "code",
   "execution_count": null,
   "id": "221f2fa3",
   "metadata": {},
   "outputs": [],
   "source": [
    "# Cell 280 - polymorphism\n",
    "class Sample279:\n",
    "    def __init__(self, value):\n",
    "        self.value = value\n",
    "    def display(self):\n",
    "        print(f'Sample279 Value:', self.value)\n",
    "\n",
    "obj279 = Sample279(279)\n",
    "obj279.display()"
   ]
  },
  {
   "cell_type": "code",
   "execution_count": null,
   "id": "f7e513f0",
   "metadata": {},
   "outputs": [],
   "source": [
    "# Cell 281 - multiple inheritance\n",
    "class Sample280:\n",
    "    def __init__(self, value):\n",
    "        self.value = value\n",
    "    def display(self):\n",
    "        print(f'Sample280 Value:', self.value)\n",
    "\n",
    "obj280 = Sample280(280)\n",
    "obj280.display()"
   ]
  },
  {
   "cell_type": "code",
   "execution_count": null,
   "id": "11aeb209",
   "metadata": {},
   "outputs": [],
   "source": [
    "# Cell 282 - polymorphism\n",
    "class Sample281:\n",
    "    def __init__(self, value):\n",
    "        self.value = value\n",
    "    def display(self):\n",
    "        print(f'Sample281 Value:', self.value)\n",
    "\n",
    "obj281 = Sample281(281)\n",
    "obj281.display()"
   ]
  },
  {
   "cell_type": "code",
   "execution_count": null,
   "id": "9990fff7",
   "metadata": {},
   "outputs": [],
   "source": [
    "# Cell 283 - composition\n",
    "class Sample282:\n",
    "    def __init__(self, value):\n",
    "        self.value = value\n",
    "    def display(self):\n",
    "        print(f'Sample282 Value:', self.value)\n",
    "\n",
    "obj282 = Sample282(282)\n",
    "obj282.display()"
   ]
  },
  {
   "cell_type": "code",
   "execution_count": null,
   "id": "a881fedb",
   "metadata": {},
   "outputs": [],
   "source": [
    "# Cell 284 - inheritance\n",
    "class Sample283:\n",
    "    def __init__(self, value):\n",
    "        self.value = value\n",
    "    def display(self):\n",
    "        print(f'Sample283 Value:', self.value)\n",
    "\n",
    "obj283 = Sample283(283)\n",
    "obj283.display()"
   ]
  },
  {
   "cell_type": "code",
   "execution_count": null,
   "id": "ceeceb83",
   "metadata": {},
   "outputs": [],
   "source": [
    "# Cell 285 - polymorphism\n",
    "class Sample284:\n",
    "    def __init__(self, value):\n",
    "        self.value = value\n",
    "    def display(self):\n",
    "        print(f'Sample284 Value:', self.value)\n",
    "\n",
    "obj284 = Sample284(284)\n",
    "obj284.display()"
   ]
  },
  {
   "cell_type": "code",
   "execution_count": null,
   "id": "6a1dcbe3",
   "metadata": {},
   "outputs": [],
   "source": [
    "# Cell 286 - encapsulation\n",
    "class Sample285:\n",
    "    def __init__(self, value):\n",
    "        self.value = value\n",
    "    def display(self):\n",
    "        print(f'Sample285 Value:', self.value)\n",
    "\n",
    "obj285 = Sample285(285)\n",
    "obj285.display()"
   ]
  },
  {
   "cell_type": "code",
   "execution_count": null,
   "id": "c3ec2c93",
   "metadata": {},
   "outputs": [],
   "source": [
    "# Cell 287 - class definition\n",
    "class Sample286:\n",
    "    def __init__(self, value):\n",
    "        self.value = value\n",
    "    def display(self):\n",
    "        print(f'Sample286 Value:', self.value)\n",
    "\n",
    "obj286 = Sample286(286)\n",
    "obj286.display()"
   ]
  },
  {
   "cell_type": "code",
   "execution_count": null,
   "id": "86f2032d",
   "metadata": {},
   "outputs": [],
   "source": [
    "# Cell 288 - encapsulation\n",
    "class Sample287:\n",
    "    def __init__(self, value):\n",
    "        self.value = value\n",
    "    def display(self):\n",
    "        print(f'Sample287 Value:', self.value)\n",
    "\n",
    "obj287 = Sample287(287)\n",
    "obj287.display()"
   ]
  },
  {
   "cell_type": "code",
   "execution_count": null,
   "id": "cfea30c3",
   "metadata": {},
   "outputs": [],
   "source": [
    "# Cell 289 - encapsulation\n",
    "class Sample288:\n",
    "    def __init__(self, value):\n",
    "        self.value = value\n",
    "    def display(self):\n",
    "        print(f'Sample288 Value:', self.value)\n",
    "\n",
    "obj288 = Sample288(288)\n",
    "obj288.display()"
   ]
  },
  {
   "cell_type": "code",
   "execution_count": null,
   "id": "cde87f21",
   "metadata": {},
   "outputs": [],
   "source": [
    "# Cell 290 - inheritance\n",
    "class Sample289:\n",
    "    def __init__(self, value):\n",
    "        self.value = value\n",
    "    def display(self):\n",
    "        print(f'Sample289 Value:', self.value)\n",
    "\n",
    "obj289 = Sample289(289)\n",
    "obj289.display()"
   ]
  },
  {
   "cell_type": "code",
   "execution_count": null,
   "id": "0f6fb3d5",
   "metadata": {},
   "outputs": [],
   "source": [
    "# Cell 291 - dunder methods\n",
    "class Sample290:\n",
    "    def __init__(self, value):\n",
    "        self.value = value\n",
    "    def display(self):\n",
    "        print(f'Sample290 Value:', self.value)\n",
    "\n",
    "obj290 = Sample290(290)\n",
    "obj290.display()"
   ]
  },
  {
   "cell_type": "code",
   "execution_count": null,
   "id": "a2fb2602",
   "metadata": {},
   "outputs": [],
   "source": [
    "# Cell 292 - inheritance\n",
    "class Sample291:\n",
    "    def __init__(self, value):\n",
    "        self.value = value\n",
    "    def display(self):\n",
    "        print(f'Sample291 Value:', self.value)\n",
    "\n",
    "obj291 = Sample291(291)\n",
    "obj291.display()"
   ]
  },
  {
   "cell_type": "code",
   "execution_count": null,
   "id": "8ad66fcf",
   "metadata": {},
   "outputs": [],
   "source": [
    "# Cell 293 - class definition\n",
    "class Sample292:\n",
    "    def __init__(self, value):\n",
    "        self.value = value\n",
    "    def display(self):\n",
    "        print(f'Sample292 Value:', self.value)\n",
    "\n",
    "obj292 = Sample292(292)\n",
    "obj292.display()"
   ]
  },
  {
   "cell_type": "code",
   "execution_count": null,
   "id": "598d86a7",
   "metadata": {},
   "outputs": [],
   "source": [
    "# Cell 294 - class methods\n",
    "class Sample293:\n",
    "    def __init__(self, value):\n",
    "        self.value = value\n",
    "    def display(self):\n",
    "        print(f'Sample293 Value:', self.value)\n",
    "\n",
    "obj293 = Sample293(293)\n",
    "obj293.display()"
   ]
  },
  {
   "cell_type": "code",
   "execution_count": null,
   "id": "878c5253",
   "metadata": {},
   "outputs": [],
   "source": [
    "# Cell 295 - instance methods\n",
    "class Sample294:\n",
    "    def __init__(self, value):\n",
    "        self.value = value\n",
    "    def display(self):\n",
    "        print(f'Sample294 Value:', self.value)\n",
    "\n",
    "obj294 = Sample294(294)\n",
    "obj294.display()"
   ]
  },
  {
   "cell_type": "code",
   "execution_count": null,
   "id": "5dd71c82",
   "metadata": {},
   "outputs": [],
   "source": [
    "# Cell 296 - inheritance\n",
    "class Sample295:\n",
    "    def __init__(self, value):\n",
    "        self.value = value\n",
    "    def display(self):\n",
    "        print(f'Sample295 Value:', self.value)\n",
    "\n",
    "obj295 = Sample295(295)\n",
    "obj295.display()"
   ]
  },
  {
   "cell_type": "code",
   "execution_count": null,
   "id": "3fed8229",
   "metadata": {},
   "outputs": [],
   "source": [
    "# Cell 297 - inheritance\n",
    "class Sample296:\n",
    "    def __init__(self, value):\n",
    "        self.value = value\n",
    "    def display(self):\n",
    "        print(f'Sample296 Value:', self.value)\n",
    "\n",
    "obj296 = Sample296(296)\n",
    "obj296.display()"
   ]
  },
  {
   "cell_type": "code",
   "execution_count": null,
   "id": "f616587f",
   "metadata": {},
   "outputs": [],
   "source": [
    "# Cell 298 - encapsulation\n",
    "class Sample297:\n",
    "    def __init__(self, value):\n",
    "        self.value = value\n",
    "    def display(self):\n",
    "        print(f'Sample297 Value:', self.value)\n",
    "\n",
    "obj297 = Sample297(297)\n",
    "obj297.display()"
   ]
  },
  {
   "cell_type": "code",
   "execution_count": null,
   "id": "70c36914",
   "metadata": {},
   "outputs": [],
   "source": [
    "# Cell 299 - polymorphism\n",
    "class Sample298:\n",
    "    def __init__(self, value):\n",
    "        self.value = value\n",
    "    def display(self):\n",
    "        print(f'Sample298 Value:', self.value)\n",
    "\n",
    "obj298 = Sample298(298)\n",
    "obj298.display()"
   ]
  },
  {
   "cell_type": "code",
   "execution_count": null,
   "id": "954ffb31",
   "metadata": {},
   "outputs": [],
   "source": [
    "# Cell 300 - instance methods\n",
    "class Sample299:\n",
    "    def __init__(self, value):\n",
    "        self.value = value\n",
    "    def display(self):\n",
    "        print(f'Sample299 Value:', self.value)\n",
    "\n",
    "obj299 = Sample299(299)\n",
    "obj299.display()"
   ]
  }
 ],
 "metadata": {},
 "nbformat": 4,
 "nbformat_minor": 5
}