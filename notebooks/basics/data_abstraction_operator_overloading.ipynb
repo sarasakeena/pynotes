{
 "cells": [
  {
   "cell_type": "code",
   "execution_count": 1,
   "id": "1e3eec9a",
   "metadata": {},
   "outputs": [
    {
     "name": "stdout",
     "output_type": "stream",
     "text": [
      "1\n"
     ]
    }
   ],
   "source": [
    "# Cell 1 - Data Abstraction Example\n",
    "class Example1:\n",
    "    def __init__(self, value):\n",
    "        self.__value = value\n",
    "\n",
    "    def get_value(self):\n",
    "        return self.__value * 1\n",
    "\n",
    "obj1 = Example1(1)\n",
    "print(obj1.get_value())"
   ]
  },
  {
   "cell_type": "code",
   "execution_count": 2,
   "id": "fd672b75",
   "metadata": {},
   "outputs": [
    {
     "name": "stdout",
     "output_type": "stream",
     "text": [
      "4\n"
     ]
    }
   ],
   "source": [
    "# Cell 2 - Data Abstraction Example\n",
    "class Example2:\n",
    "    def __init__(self, value):\n",
    "        self.__value = value\n",
    "\n",
    "    def get_value(self):\n",
    "        return self.__value * 2\n",
    "\n",
    "obj2 = Example2(2)\n",
    "print(obj2.get_value())"
   ]
  },
  {
   "cell_type": "code",
   "execution_count": 3,
   "id": "329eaaef",
   "metadata": {},
   "outputs": [
    {
     "name": "stdout",
     "output_type": "stream",
     "text": [
      "9\n"
     ]
    }
   ],
   "source": [
    "# Cell 3 - Data Abstraction Example\n",
    "class Example3:\n",
    "    def __init__(self, value):\n",
    "        self.__value = value\n",
    "\n",
    "    def get_value(self):\n",
    "        return self.__value * 3\n",
    "\n",
    "obj3 = Example3(3)\n",
    "print(obj3.get_value())"
   ]
  },
  {
   "cell_type": "code",
   "execution_count": 4,
   "id": "62ca2a53",
   "metadata": {},
   "outputs": [
    {
     "name": "stdout",
     "output_type": "stream",
     "text": [
      "16\n"
     ]
    }
   ],
   "source": [
    "# Cell 4 - Data Abstraction Example\n",
    "class Example4:\n",
    "    def __init__(self, value):\n",
    "        self.__value = value\n",
    "\n",
    "    def get_value(self):\n",
    "        return self.__value * 4\n",
    "\n",
    "obj4 = Example4(4)\n",
    "print(obj4.get_value())"
   ]
  },
  {
   "cell_type": "code",
   "execution_count": 5,
   "id": "e9e99f74",
   "metadata": {},
   "outputs": [
    {
     "name": "stdout",
     "output_type": "stream",
     "text": [
      "25\n"
     ]
    }
   ],
   "source": [
    "# Cell 5 - Data Abstraction Example\n",
    "class Example5:\n",
    "    def __init__(self, value):\n",
    "        self.__value = value\n",
    "\n",
    "    def get_value(self):\n",
    "        return self.__value * 5\n",
    "\n",
    "obj5 = Example5(5)\n",
    "print(obj5.get_value())"
   ]
  },
  {
   "cell_type": "code",
   "execution_count": 6,
   "id": "b62edd40",
   "metadata": {},
   "outputs": [
    {
     "name": "stdout",
     "output_type": "stream",
     "text": [
      "36\n"
     ]
    }
   ],
   "source": [
    "# Cell 6 - Data Abstraction Example\n",
    "class Example6:\n",
    "    def __init__(self, value):\n",
    "        self.__value = value\n",
    "\n",
    "    def get_value(self):\n",
    "        return self.__value * 6\n",
    "\n",
    "obj6 = Example6(6)\n",
    "print(obj6.get_value())"
   ]
  },
  {
   "cell_type": "code",
   "execution_count": 7,
   "id": "ca279af6",
   "metadata": {},
   "outputs": [
    {
     "name": "stdout",
     "output_type": "stream",
     "text": [
      "49\n"
     ]
    }
   ],
   "source": [
    "# Cell 7 - Data Abstraction Example\n",
    "class Example7:\n",
    "    def __init__(self, value):\n",
    "        self.__value = value\n",
    "\n",
    "    def get_value(self):\n",
    "        return self.__value * 7\n",
    "\n",
    "obj7 = Example7(7)\n",
    "print(obj7.get_value())"
   ]
  },
  {
   "cell_type": "code",
   "execution_count": 8,
   "id": "d8ae9bb6",
   "metadata": {},
   "outputs": [
    {
     "name": "stdout",
     "output_type": "stream",
     "text": [
      "64\n"
     ]
    }
   ],
   "source": [
    "# Cell 8 - Data Abstraction Example\n",
    "class Example8:\n",
    "    def __init__(self, value):\n",
    "        self.__value = value\n",
    "\n",
    "    def get_value(self):\n",
    "        return self.__value * 8\n",
    "\n",
    "obj8 = Example8(8)\n",
    "print(obj8.get_value())"
   ]
  },
  {
   "cell_type": "code",
   "execution_count": 9,
   "id": "444a0cf2",
   "metadata": {},
   "outputs": [
    {
     "name": "stdout",
     "output_type": "stream",
     "text": [
      "81\n"
     ]
    }
   ],
   "source": [
    "# Cell 9 - Data Abstraction Example\n",
    "class Example9:\n",
    "    def __init__(self, value):\n",
    "        self.__value = value\n",
    "\n",
    "    def get_value(self):\n",
    "        return self.__value * 9\n",
    "\n",
    "obj9 = Example9(9)\n",
    "print(obj9.get_value())"
   ]
  },
  {
   "cell_type": "code",
   "execution_count": 10,
   "id": "2f59c19e",
   "metadata": {},
   "outputs": [
    {
     "name": "stdout",
     "output_type": "stream",
     "text": [
      "100\n"
     ]
    }
   ],
   "source": [
    "# Cell 10 - Data Abstraction Example\n",
    "class Example10:\n",
    "    def __init__(self, value):\n",
    "        self.__value = value\n",
    "\n",
    "    def get_value(self):\n",
    "        return self.__value * 10\n",
    "\n",
    "obj10 = Example10(10)\n",
    "print(obj10.get_value())"
   ]
  },
  {
   "cell_type": "code",
   "execution_count": 11,
   "id": "13b1bb1b",
   "metadata": {},
   "outputs": [
    {
     "name": "stdout",
     "output_type": "stream",
     "text": [
      "121\n"
     ]
    }
   ],
   "source": [
    "# Cell 11 - Data Abstraction Example\n",
    "class Example11:\n",
    "    def __init__(self, value):\n",
    "        self.__value = value\n",
    "\n",
    "    def get_value(self):\n",
    "        return self.__value * 11\n",
    "\n",
    "obj11 = Example11(11)\n",
    "print(obj11.get_value())"
   ]
  },
  {
   "cell_type": "code",
   "execution_count": 12,
   "id": "3eba4af4",
   "metadata": {},
   "outputs": [
    {
     "name": "stdout",
     "output_type": "stream",
     "text": [
      "144\n"
     ]
    }
   ],
   "source": [
    "# Cell 12 - Data Abstraction Example\n",
    "class Example12:\n",
    "    def __init__(self, value):\n",
    "        self.__value = value\n",
    "\n",
    "    def get_value(self):\n",
    "        return self.__value * 12\n",
    "\n",
    "obj12 = Example12(12)\n",
    "print(obj12.get_value())"
   ]
  },
  {
   "cell_type": "code",
   "execution_count": 13,
   "id": "e689fef7",
   "metadata": {},
   "outputs": [
    {
     "name": "stdout",
     "output_type": "stream",
     "text": [
      "169\n"
     ]
    }
   ],
   "source": [
    "# Cell 13 - Data Abstraction Example\n",
    "class Example13:\n",
    "    def __init__(self, value):\n",
    "        self.__value = value\n",
    "\n",
    "    def get_value(self):\n",
    "        return self.__value * 13\n",
    "\n",
    "obj13 = Example13(13)\n",
    "print(obj13.get_value())"
   ]
  },
  {
   "cell_type": "code",
   "execution_count": 14,
   "id": "63c33e73",
   "metadata": {},
   "outputs": [
    {
     "name": "stdout",
     "output_type": "stream",
     "text": [
      "196\n"
     ]
    }
   ],
   "source": [
    "# Cell 14 - Data Abstraction Example\n",
    "class Example14:\n",
    "    def __init__(self, value):\n",
    "        self.__value = value\n",
    "\n",
    "    def get_value(self):\n",
    "        return self.__value * 14\n",
    "\n",
    "obj14 = Example14(14)\n",
    "print(obj14.get_value())"
   ]
  },
  {
   "cell_type": "code",
   "execution_count": 15,
   "id": "08925e30",
   "metadata": {},
   "outputs": [
    {
     "name": "stdout",
     "output_type": "stream",
     "text": [
      "225\n"
     ]
    }
   ],
   "source": [
    "# Cell 15 - Data Abstraction Example\n",
    "class Example15:\n",
    "    def __init__(self, value):\n",
    "        self.__value = value\n",
    "\n",
    "    def get_value(self):\n",
    "        return self.__value * 15\n",
    "\n",
    "obj15 = Example15(15)\n",
    "print(obj15.get_value())"
   ]
  },
  {
   "cell_type": "code",
   "execution_count": 16,
   "id": "3771b175",
   "metadata": {},
   "outputs": [
    {
     "name": "stdout",
     "output_type": "stream",
     "text": [
      "256\n"
     ]
    }
   ],
   "source": [
    "# Cell 16 - Data Abstraction Example\n",
    "class Example16:\n",
    "    def __init__(self, value):\n",
    "        self.__value = value\n",
    "\n",
    "    def get_value(self):\n",
    "        return self.__value * 16\n",
    "\n",
    "obj16 = Example16(16)\n",
    "print(obj16.get_value())"
   ]
  },
  {
   "cell_type": "code",
   "execution_count": 17,
   "id": "1c1fde65",
   "metadata": {},
   "outputs": [
    {
     "name": "stdout",
     "output_type": "stream",
     "text": [
      "289\n"
     ]
    }
   ],
   "source": [
    "# Cell 17 - Data Abstraction Example\n",
    "class Example17:\n",
    "    def __init__(self, value):\n",
    "        self.__value = value\n",
    "\n",
    "    def get_value(self):\n",
    "        return self.__value * 17\n",
    "\n",
    "obj17 = Example17(17)\n",
    "print(obj17.get_value())"
   ]
  },
  {
   "cell_type": "code",
   "execution_count": 18,
   "id": "826a290b",
   "metadata": {},
   "outputs": [
    {
     "name": "stdout",
     "output_type": "stream",
     "text": [
      "324\n"
     ]
    }
   ],
   "source": [
    "# Cell 18 - Data Abstraction Example\n",
    "class Example18:\n",
    "    def __init__(self, value):\n",
    "        self.__value = value\n",
    "\n",
    "    def get_value(self):\n",
    "        return self.__value * 18\n",
    "\n",
    "obj18 = Example18(18)\n",
    "print(obj18.get_value())"
   ]
  },
  {
   "cell_type": "code",
   "execution_count": 19,
   "id": "ac2fc10e",
   "metadata": {},
   "outputs": [
    {
     "name": "stdout",
     "output_type": "stream",
     "text": [
      "361\n"
     ]
    }
   ],
   "source": [
    "# Cell 19 - Data Abstraction Example\n",
    "class Example19:\n",
    "    def __init__(self, value):\n",
    "        self.__value = value\n",
    "\n",
    "    def get_value(self):\n",
    "        return self.__value * 19\n",
    "\n",
    "obj19 = Example19(19)\n",
    "print(obj19.get_value())"
   ]
  },
  {
   "cell_type": "code",
   "execution_count": 20,
   "id": "a5a7b83d",
   "metadata": {},
   "outputs": [
    {
     "name": "stdout",
     "output_type": "stream",
     "text": [
      "400\n"
     ]
    }
   ],
   "source": [
    "# Cell 20 - Data Abstraction Example\n",
    "class Example20:\n",
    "    def __init__(self, value):\n",
    "        self.__value = value\n",
    "\n",
    "    def get_value(self):\n",
    "        return self.__value * 20\n",
    "\n",
    "obj20 = Example20(20)\n",
    "print(obj20.get_value())"
   ]
  },
  {
   "cell_type": "code",
   "execution_count": 21,
   "id": "11891bff",
   "metadata": {},
   "outputs": [
    {
     "name": "stdout",
     "output_type": "stream",
     "text": [
      "441\n"
     ]
    }
   ],
   "source": [
    "# Cell 21 - Data Abstraction Example\n",
    "class Example21:\n",
    "    def __init__(self, value):\n",
    "        self.__value = value\n",
    "\n",
    "    def get_value(self):\n",
    "        return self.__value * 21\n",
    "\n",
    "obj21 = Example21(21)\n",
    "print(obj21.get_value())"
   ]
  },
  {
   "cell_type": "code",
   "execution_count": 22,
   "id": "690e1676",
   "metadata": {},
   "outputs": [
    {
     "name": "stdout",
     "output_type": "stream",
     "text": [
      "484\n"
     ]
    }
   ],
   "source": [
    "# Cell 22 - Data Abstraction Example\n",
    "class Example22:\n",
    "    def __init__(self, value):\n",
    "        self.__value = value\n",
    "\n",
    "    def get_value(self):\n",
    "        return self.__value * 22\n",
    "\n",
    "obj22 = Example22(22)\n",
    "print(obj22.get_value())"
   ]
  },
  {
   "cell_type": "code",
   "execution_count": 23,
   "id": "fc5908e6",
   "metadata": {},
   "outputs": [
    {
     "name": "stdout",
     "output_type": "stream",
     "text": [
      "529\n"
     ]
    }
   ],
   "source": [
    "# Cell 23 - Data Abstraction Example\n",
    "class Example23:\n",
    "    def __init__(self, value):\n",
    "        self.__value = value\n",
    "\n",
    "    def get_value(self):\n",
    "        return self.__value * 23\n",
    "\n",
    "obj23 = Example23(23)\n",
    "print(obj23.get_value())"
   ]
  },
  {
   "cell_type": "code",
   "execution_count": 24,
   "id": "e99e44ae",
   "metadata": {},
   "outputs": [
    {
     "name": "stdout",
     "output_type": "stream",
     "text": [
      "576\n"
     ]
    }
   ],
   "source": [
    "# Cell 24 - Data Abstraction Example\n",
    "class Example24:\n",
    "    def __init__(self, value):\n",
    "        self.__value = value\n",
    "\n",
    "    def get_value(self):\n",
    "        return self.__value * 24\n",
    "\n",
    "obj24 = Example24(24)\n",
    "print(obj24.get_value())"
   ]
  },
  {
   "cell_type": "code",
   "execution_count": 25,
   "id": "e4870614",
   "metadata": {},
   "outputs": [
    {
     "name": "stdout",
     "output_type": "stream",
     "text": [
      "625\n"
     ]
    }
   ],
   "source": [
    "# Cell 25 - Data Abstraction Example\n",
    "class Example25:\n",
    "    def __init__(self, value):\n",
    "        self.__value = value\n",
    "\n",
    "    def get_value(self):\n",
    "        return self.__value * 25\n",
    "\n",
    "obj25 = Example25(25)\n",
    "print(obj25.get_value())"
   ]
  },
  {
   "cell_type": "code",
   "execution_count": 26,
   "id": "2b187a66",
   "metadata": {},
   "outputs": [
    {
     "name": "stdout",
     "output_type": "stream",
     "text": [
      "676\n"
     ]
    }
   ],
   "source": [
    "# Cell 26 - Data Abstraction Example\n",
    "class Example26:\n",
    "    def __init__(self, value):\n",
    "        self.__value = value\n",
    "\n",
    "    def get_value(self):\n",
    "        return self.__value * 26\n",
    "\n",
    "obj26 = Example26(26)\n",
    "print(obj26.get_value())"
   ]
  },
  {
   "cell_type": "code",
   "execution_count": 27,
   "id": "8dc6eb75",
   "metadata": {},
   "outputs": [
    {
     "name": "stdout",
     "output_type": "stream",
     "text": [
      "729\n"
     ]
    }
   ],
   "source": [
    "# Cell 27 - Data Abstraction Example\n",
    "class Example27:\n",
    "    def __init__(self, value):\n",
    "        self.__value = value\n",
    "\n",
    "    def get_value(self):\n",
    "        return self.__value * 27\n",
    "\n",
    "obj27 = Example27(27)\n",
    "print(obj27.get_value())"
   ]
  },
  {
   "cell_type": "code",
   "execution_count": 28,
   "id": "537bb7af",
   "metadata": {},
   "outputs": [
    {
     "name": "stdout",
     "output_type": "stream",
     "text": [
      "784\n"
     ]
    }
   ],
   "source": [
    "# Cell 28 - Data Abstraction Example\n",
    "class Example28:\n",
    "    def __init__(self, value):\n",
    "        self.__value = value\n",
    "\n",
    "    def get_value(self):\n",
    "        return self.__value * 28\n",
    "\n",
    "obj28 = Example28(28)\n",
    "print(obj28.get_value())"
   ]
  },
  {
   "cell_type": "code",
   "execution_count": 29,
   "id": "3c7b7913",
   "metadata": {},
   "outputs": [
    {
     "name": "stdout",
     "output_type": "stream",
     "text": [
      "841\n"
     ]
    }
   ],
   "source": [
    "# Cell 29 - Data Abstraction Example\n",
    "class Example29:\n",
    "    def __init__(self, value):\n",
    "        self.__value = value\n",
    "\n",
    "    def get_value(self):\n",
    "        return self.__value * 29\n",
    "\n",
    "obj29 = Example29(29)\n",
    "print(obj29.get_value())"
   ]
  },
  {
   "cell_type": "code",
   "execution_count": 30,
   "id": "a71a044f",
   "metadata": {},
   "outputs": [
    {
     "name": "stdout",
     "output_type": "stream",
     "text": [
      "900\n"
     ]
    }
   ],
   "source": [
    "# Cell 30 - Data Abstraction Example\n",
    "class Example30:\n",
    "    def __init__(self, value):\n",
    "        self.__value = value\n",
    "\n",
    "    def get_value(self):\n",
    "        return self.__value * 30\n",
    "\n",
    "obj30 = Example30(30)\n",
    "print(obj30.get_value())"
   ]
  },
  {
   "cell_type": "code",
   "execution_count": 31,
   "id": "6a2b0e30",
   "metadata": {},
   "outputs": [
    {
     "name": "stdout",
     "output_type": "stream",
     "text": [
      "961\n"
     ]
    }
   ],
   "source": [
    "# Cell 31 - Data Abstraction Example\n",
    "class Example31:\n",
    "    def __init__(self, value):\n",
    "        self.__value = value\n",
    "\n",
    "    def get_value(self):\n",
    "        return self.__value * 31\n",
    "\n",
    "obj31 = Example31(31)\n",
    "print(obj31.get_value())"
   ]
  },
  {
   "cell_type": "code",
   "execution_count": 32,
   "id": "8abf50c1",
   "metadata": {},
   "outputs": [
    {
     "name": "stdout",
     "output_type": "stream",
     "text": [
      "1024\n"
     ]
    }
   ],
   "source": [
    "# Cell 32 - Data Abstraction Example\n",
    "class Example32:\n",
    "    def __init__(self, value):\n",
    "        self.__value = value\n",
    "\n",
    "    def get_value(self):\n",
    "        return self.__value * 32\n",
    "\n",
    "obj32 = Example32(32)\n",
    "print(obj32.get_value())"
   ]
  },
  {
   "cell_type": "code",
   "execution_count": 33,
   "id": "318dd15d",
   "metadata": {},
   "outputs": [
    {
     "name": "stdout",
     "output_type": "stream",
     "text": [
      "1089\n"
     ]
    }
   ],
   "source": [
    "# Cell 33 - Data Abstraction Example\n",
    "class Example33:\n",
    "    def __init__(self, value):\n",
    "        self.__value = value\n",
    "\n",
    "    def get_value(self):\n",
    "        return self.__value * 33\n",
    "\n",
    "obj33 = Example33(33)\n",
    "print(obj33.get_value())"
   ]
  },
  {
   "cell_type": "code",
   "execution_count": 34,
   "id": "8b6c60d5",
   "metadata": {},
   "outputs": [
    {
     "name": "stdout",
     "output_type": "stream",
     "text": [
      "1156\n"
     ]
    }
   ],
   "source": [
    "# Cell 34 - Data Abstraction Example\n",
    "class Example34:\n",
    "    def __init__(self, value):\n",
    "        self.__value = value\n",
    "\n",
    "    def get_value(self):\n",
    "        return self.__value * 34\n",
    "\n",
    "obj34 = Example34(34)\n",
    "print(obj34.get_value())"
   ]
  },
  {
   "cell_type": "code",
   "execution_count": 35,
   "id": "8aa7ef6b",
   "metadata": {},
   "outputs": [
    {
     "name": "stdout",
     "output_type": "stream",
     "text": [
      "1225\n"
     ]
    }
   ],
   "source": [
    "# Cell 35 - Data Abstraction Example\n",
    "class Example35:\n",
    "    def __init__(self, value):\n",
    "        self.__value = value\n",
    "\n",
    "    def get_value(self):\n",
    "        return self.__value * 35\n",
    "\n",
    "obj35 = Example35(35)\n",
    "print(obj35.get_value())"
   ]
  },
  {
   "cell_type": "code",
   "execution_count": 36,
   "id": "bdc84648",
   "metadata": {},
   "outputs": [
    {
     "name": "stdout",
     "output_type": "stream",
     "text": [
      "1296\n"
     ]
    }
   ],
   "source": [
    "# Cell 36 - Data Abstraction Example\n",
    "class Example36:\n",
    "    def __init__(self, value):\n",
    "        self.__value = value\n",
    "\n",
    "    def get_value(self):\n",
    "        return self.__value * 36\n",
    "\n",
    "obj36 = Example36(36)\n",
    "print(obj36.get_value())"
   ]
  },
  {
   "cell_type": "code",
   "execution_count": 37,
   "id": "5c1a9d62",
   "metadata": {},
   "outputs": [
    {
     "name": "stdout",
     "output_type": "stream",
     "text": [
      "1369\n"
     ]
    }
   ],
   "source": [
    "# Cell 37 - Data Abstraction Example\n",
    "class Example37:\n",
    "    def __init__(self, value):\n",
    "        self.__value = value\n",
    "\n",
    "    def get_value(self):\n",
    "        return self.__value * 37\n",
    "\n",
    "obj37 = Example37(37)\n",
    "print(obj37.get_value())"
   ]
  },
  {
   "cell_type": "code",
   "execution_count": 38,
   "id": "4129a120",
   "metadata": {},
   "outputs": [
    {
     "name": "stdout",
     "output_type": "stream",
     "text": [
      "1444\n"
     ]
    }
   ],
   "source": [
    "# Cell 38 - Data Abstraction Example\n",
    "class Example38:\n",
    "    def __init__(self, value):\n",
    "        self.__value = value\n",
    "\n",
    "    def get_value(self):\n",
    "        return self.__value * 38\n",
    "\n",
    "obj38 = Example38(38)\n",
    "print(obj38.get_value())"
   ]
  },
  {
   "cell_type": "code",
   "execution_count": 39,
   "id": "1931fcb5",
   "metadata": {},
   "outputs": [
    {
     "name": "stdout",
     "output_type": "stream",
     "text": [
      "1521\n"
     ]
    }
   ],
   "source": [
    "# Cell 39 - Data Abstraction Example\n",
    "class Example39:\n",
    "    def __init__(self, value):\n",
    "        self.__value = value\n",
    "\n",
    "    def get_value(self):\n",
    "        return self.__value * 39\n",
    "\n",
    "obj39 = Example39(39)\n",
    "print(obj39.get_value())"
   ]
  },
  {
   "cell_type": "code",
   "execution_count": 40,
   "id": "14577530",
   "metadata": {},
   "outputs": [
    {
     "name": "stdout",
     "output_type": "stream",
     "text": [
      "1600\n"
     ]
    }
   ],
   "source": [
    "# Cell 40 - Data Abstraction Example\n",
    "class Example40:\n",
    "    def __init__(self, value):\n",
    "        self.__value = value\n",
    "\n",
    "    def get_value(self):\n",
    "        return self.__value * 40\n",
    "\n",
    "obj40 = Example40(40)\n",
    "print(obj40.get_value())"
   ]
  },
  {
   "cell_type": "code",
   "execution_count": 41,
   "id": "8657fb91",
   "metadata": {},
   "outputs": [
    {
     "name": "stdout",
     "output_type": "stream",
     "text": [
      "1681\n"
     ]
    }
   ],
   "source": [
    "# Cell 41 - Data Abstraction Example\n",
    "class Example41:\n",
    "    def __init__(self, value):\n",
    "        self.__value = value\n",
    "\n",
    "    def get_value(self):\n",
    "        return self.__value * 41\n",
    "\n",
    "obj41 = Example41(41)\n",
    "print(obj41.get_value())"
   ]
  },
  {
   "cell_type": "code",
   "execution_count": 42,
   "id": "1dbd0e91",
   "metadata": {},
   "outputs": [
    {
     "name": "stdout",
     "output_type": "stream",
     "text": [
      "1764\n"
     ]
    }
   ],
   "source": [
    "# Cell 42 - Data Abstraction Example\n",
    "class Example42:\n",
    "    def __init__(self, value):\n",
    "        self.__value = value\n",
    "\n",
    "    def get_value(self):\n",
    "        return self.__value * 42\n",
    "\n",
    "obj42 = Example42(42)\n",
    "print(obj42.get_value())"
   ]
  },
  {
   "cell_type": "code",
   "execution_count": 43,
   "id": "0a36580f",
   "metadata": {},
   "outputs": [
    {
     "name": "stdout",
     "output_type": "stream",
     "text": [
      "1849\n"
     ]
    }
   ],
   "source": [
    "# Cell 43 - Data Abstraction Example\n",
    "class Example43:\n",
    "    def __init__(self, value):\n",
    "        self.__value = value\n",
    "\n",
    "    def get_value(self):\n",
    "        return self.__value * 43\n",
    "\n",
    "obj43 = Example43(43)\n",
    "print(obj43.get_value())"
   ]
  },
  {
   "cell_type": "code",
   "execution_count": 44,
   "id": "36990df7",
   "metadata": {},
   "outputs": [
    {
     "name": "stdout",
     "output_type": "stream",
     "text": [
      "1936\n"
     ]
    }
   ],
   "source": [
    "# Cell 44 - Data Abstraction Example\n",
    "class Example44:\n",
    "    def __init__(self, value):\n",
    "        self.__value = value\n",
    "\n",
    "    def get_value(self):\n",
    "        return self.__value * 44\n",
    "\n",
    "obj44 = Example44(44)\n",
    "print(obj44.get_value())"
   ]
  },
  {
   "cell_type": "code",
   "execution_count": 45,
   "id": "665133a3",
   "metadata": {},
   "outputs": [
    {
     "name": "stdout",
     "output_type": "stream",
     "text": [
      "2025\n"
     ]
    }
   ],
   "source": [
    "# Cell 45 - Data Abstraction Example\n",
    "class Example45:\n",
    "    def __init__(self, value):\n",
    "        self.__value = value\n",
    "\n",
    "    def get_value(self):\n",
    "        return self.__value * 45\n",
    "\n",
    "obj45 = Example45(45)\n",
    "print(obj45.get_value())"
   ]
  },
  {
   "cell_type": "code",
   "execution_count": 46,
   "id": "42f6e701",
   "metadata": {},
   "outputs": [
    {
     "name": "stdout",
     "output_type": "stream",
     "text": [
      "2116\n"
     ]
    }
   ],
   "source": [
    "# Cell 46 - Data Abstraction Example\n",
    "class Example46:\n",
    "    def __init__(self, value):\n",
    "        self.__value = value\n",
    "\n",
    "    def get_value(self):\n",
    "        return self.__value * 46\n",
    "\n",
    "obj46 = Example46(46)\n",
    "print(obj46.get_value())"
   ]
  },
  {
   "cell_type": "code",
   "execution_count": 47,
   "id": "13148a4a",
   "metadata": {},
   "outputs": [
    {
     "name": "stdout",
     "output_type": "stream",
     "text": [
      "2209\n"
     ]
    }
   ],
   "source": [
    "# Cell 47 - Data Abstraction Example\n",
    "class Example47:\n",
    "    def __init__(self, value):\n",
    "        self.__value = value\n",
    "\n",
    "    def get_value(self):\n",
    "        return self.__value * 47\n",
    "\n",
    "obj47 = Example47(47)\n",
    "print(obj47.get_value())"
   ]
  },
  {
   "cell_type": "code",
   "execution_count": 48,
   "id": "5cfaf827",
   "metadata": {},
   "outputs": [
    {
     "name": "stdout",
     "output_type": "stream",
     "text": [
      "2304\n"
     ]
    }
   ],
   "source": [
    "# Cell 48 - Data Abstraction Example\n",
    "class Example48:\n",
    "    def __init__(self, value):\n",
    "        self.__value = value\n",
    "\n",
    "    def get_value(self):\n",
    "        return self.__value * 48\n",
    "\n",
    "obj48 = Example48(48)\n",
    "print(obj48.get_value())"
   ]
  },
  {
   "cell_type": "code",
   "execution_count": 49,
   "id": "b2b9e860",
   "metadata": {},
   "outputs": [
    {
     "name": "stdout",
     "output_type": "stream",
     "text": [
      "2401\n"
     ]
    }
   ],
   "source": [
    "# Cell 49 - Data Abstraction Example\n",
    "class Example49:\n",
    "    def __init__(self, value):\n",
    "        self.__value = value\n",
    "\n",
    "    def get_value(self):\n",
    "        return self.__value * 49\n",
    "\n",
    "obj49 = Example49(49)\n",
    "print(obj49.get_value())"
   ]
  },
  {
   "cell_type": "code",
   "execution_count": 50,
   "id": "635c94a9",
   "metadata": {},
   "outputs": [
    {
     "name": "stdout",
     "output_type": "stream",
     "text": [
      "2500\n"
     ]
    }
   ],
   "source": [
    "# Cell 50 - Data Abstraction Example\n",
    "class Example50:\n",
    "    def __init__(self, value):\n",
    "        self.__value = value\n",
    "\n",
    "    def get_value(self):\n",
    "        return self.__value * 50\n",
    "\n",
    "obj50 = Example50(50)\n",
    "print(obj50.get_value())"
   ]
  },
  {
   "cell_type": "code",
   "execution_count": 51,
   "id": "2368c22f",
   "metadata": {},
   "outputs": [
    {
     "name": "stdout",
     "output_type": "stream",
     "text": [
      "2601\n"
     ]
    }
   ],
   "source": [
    "# Cell 51 - Data Abstraction Example\n",
    "class Example51:\n",
    "    def __init__(self, value):\n",
    "        self.__value = value\n",
    "\n",
    "    def get_value(self):\n",
    "        return self.__value * 51\n",
    "\n",
    "obj51 = Example51(51)\n",
    "print(obj51.get_value())"
   ]
  },
  {
   "cell_type": "code",
   "execution_count": 52,
   "id": "7b0223ee",
   "metadata": {},
   "outputs": [
    {
     "name": "stdout",
     "output_type": "stream",
     "text": [
      "2704\n"
     ]
    }
   ],
   "source": [
    "# Cell 52 - Data Abstraction Example\n",
    "class Example52:\n",
    "    def __init__(self, value):\n",
    "        self.__value = value\n",
    "\n",
    "    def get_value(self):\n",
    "        return self.__value * 52\n",
    "\n",
    "obj52 = Example52(52)\n",
    "print(obj52.get_value())"
   ]
  },
  {
   "cell_type": "code",
   "execution_count": 53,
   "id": "bb62f722",
   "metadata": {},
   "outputs": [
    {
     "name": "stdout",
     "output_type": "stream",
     "text": [
      "2809\n"
     ]
    }
   ],
   "source": [
    "# Cell 53 - Data Abstraction Example\n",
    "class Example53:\n",
    "    def __init__(self, value):\n",
    "        self.__value = value\n",
    "\n",
    "    def get_value(self):\n",
    "        return self.__value * 53\n",
    "\n",
    "obj53 = Example53(53)\n",
    "print(obj53.get_value())"
   ]
  },
  {
   "cell_type": "code",
   "execution_count": 54,
   "id": "73a80e83",
   "metadata": {},
   "outputs": [
    {
     "name": "stdout",
     "output_type": "stream",
     "text": [
      "2916\n"
     ]
    }
   ],
   "source": [
    "# Cell 54 - Data Abstraction Example\n",
    "class Example54:\n",
    "    def __init__(self, value):\n",
    "        self.__value = value\n",
    "\n",
    "    def get_value(self):\n",
    "        return self.__value * 54\n",
    "\n",
    "obj54 = Example54(54)\n",
    "print(obj54.get_value())"
   ]
  },
  {
   "cell_type": "code",
   "execution_count": 55,
   "id": "397583f3",
   "metadata": {},
   "outputs": [
    {
     "name": "stdout",
     "output_type": "stream",
     "text": [
      "3025\n"
     ]
    }
   ],
   "source": [
    "# Cell 55 - Data Abstraction Example\n",
    "class Example55:\n",
    "    def __init__(self, value):\n",
    "        self.__value = value\n",
    "\n",
    "    def get_value(self):\n",
    "        return self.__value * 55\n",
    "\n",
    "obj55 = Example55(55)\n",
    "print(obj55.get_value())"
   ]
  },
  {
   "cell_type": "code",
   "execution_count": 56,
   "id": "e04adccc",
   "metadata": {},
   "outputs": [
    {
     "name": "stdout",
     "output_type": "stream",
     "text": [
      "3136\n"
     ]
    }
   ],
   "source": [
    "# Cell 56 - Data Abstraction Example\n",
    "class Example56:\n",
    "    def __init__(self, value):\n",
    "        self.__value = value\n",
    "\n",
    "    def get_value(self):\n",
    "        return self.__value * 56\n",
    "\n",
    "obj56 = Example56(56)\n",
    "print(obj56.get_value())"
   ]
  },
  {
   "cell_type": "code",
   "execution_count": 57,
   "id": "7d0484a4",
   "metadata": {},
   "outputs": [
    {
     "name": "stdout",
     "output_type": "stream",
     "text": [
      "3249\n"
     ]
    }
   ],
   "source": [
    "# Cell 57 - Data Abstraction Example\n",
    "class Example57:\n",
    "    def __init__(self, value):\n",
    "        self.__value = value\n",
    "\n",
    "    def get_value(self):\n",
    "        return self.__value * 57\n",
    "\n",
    "obj57 = Example57(57)\n",
    "print(obj57.get_value())"
   ]
  },
  {
   "cell_type": "code",
   "execution_count": 58,
   "id": "171c9aa0",
   "metadata": {},
   "outputs": [
    {
     "name": "stdout",
     "output_type": "stream",
     "text": [
      "3364\n"
     ]
    }
   ],
   "source": [
    "# Cell 58 - Data Abstraction Example\n",
    "class Example58:\n",
    "    def __init__(self, value):\n",
    "        self.__value = value\n",
    "\n",
    "    def get_value(self):\n",
    "        return self.__value * 58\n",
    "\n",
    "obj58 = Example58(58)\n",
    "print(obj58.get_value())"
   ]
  },
  {
   "cell_type": "code",
   "execution_count": 59,
   "id": "92a6f70d",
   "metadata": {},
   "outputs": [
    {
     "name": "stdout",
     "output_type": "stream",
     "text": [
      "3481\n"
     ]
    }
   ],
   "source": [
    "# Cell 59 - Data Abstraction Example\n",
    "class Example59:\n",
    "    def __init__(self, value):\n",
    "        self.__value = value\n",
    "\n",
    "    def get_value(self):\n",
    "        return self.__value * 59\n",
    "\n",
    "obj59 = Example59(59)\n",
    "print(obj59.get_value())"
   ]
  },
  {
   "cell_type": "code",
   "execution_count": 60,
   "id": "c1b3bcdd",
   "metadata": {},
   "outputs": [
    {
     "name": "stdout",
     "output_type": "stream",
     "text": [
      "3600\n"
     ]
    }
   ],
   "source": [
    "# Cell 60 - Data Abstraction Example\n",
    "class Example60:\n",
    "    def __init__(self, value):\n",
    "        self.__value = value\n",
    "\n",
    "    def get_value(self):\n",
    "        return self.__value * 60\n",
    "\n",
    "obj60 = Example60(60)\n",
    "print(obj60.get_value())"
   ]
  },
  {
   "cell_type": "code",
   "execution_count": 61,
   "id": "42664126",
   "metadata": {},
   "outputs": [
    {
     "name": "stdout",
     "output_type": "stream",
     "text": [
      "3721\n"
     ]
    }
   ],
   "source": [
    "# Cell 61 - Data Abstraction Example\n",
    "class Example61:\n",
    "    def __init__(self, value):\n",
    "        self.__value = value\n",
    "\n",
    "    def get_value(self):\n",
    "        return self.__value * 61\n",
    "\n",
    "obj61 = Example61(61)\n",
    "print(obj61.get_value())"
   ]
  },
  {
   "cell_type": "code",
   "execution_count": 62,
   "id": "71f7c04e",
   "metadata": {},
   "outputs": [
    {
     "name": "stdout",
     "output_type": "stream",
     "text": [
      "3844\n"
     ]
    }
   ],
   "source": [
    "# Cell 62 - Data Abstraction Example\n",
    "class Example62:\n",
    "    def __init__(self, value):\n",
    "        self.__value = value\n",
    "\n",
    "    def get_value(self):\n",
    "        return self.__value * 62\n",
    "\n",
    "obj62 = Example62(62)\n",
    "print(obj62.get_value())"
   ]
  },
  {
   "cell_type": "code",
   "execution_count": 63,
   "id": "8b4efe67",
   "metadata": {},
   "outputs": [
    {
     "name": "stdout",
     "output_type": "stream",
     "text": [
      "3969\n"
     ]
    }
   ],
   "source": [
    "# Cell 63 - Data Abstraction Example\n",
    "class Example63:\n",
    "    def __init__(self, value):\n",
    "        self.__value = value\n",
    "\n",
    "    def get_value(self):\n",
    "        return self.__value * 63\n",
    "\n",
    "obj63 = Example63(63)\n",
    "print(obj63.get_value())"
   ]
  },
  {
   "cell_type": "code",
   "execution_count": 64,
   "id": "0edd4bd8",
   "metadata": {},
   "outputs": [
    {
     "name": "stdout",
     "output_type": "stream",
     "text": [
      "4096\n"
     ]
    }
   ],
   "source": [
    "# Cell 64 - Data Abstraction Example\n",
    "class Example64:\n",
    "    def __init__(self, value):\n",
    "        self.__value = value\n",
    "\n",
    "    def get_value(self):\n",
    "        return self.__value * 64\n",
    "\n",
    "obj64 = Example64(64)\n",
    "print(obj64.get_value())"
   ]
  },
  {
   "cell_type": "code",
   "execution_count": 65,
   "id": "03d77acf",
   "metadata": {},
   "outputs": [
    {
     "name": "stdout",
     "output_type": "stream",
     "text": [
      "4225\n"
     ]
    }
   ],
   "source": [
    "# Cell 65 - Data Abstraction Example\n",
    "class Example65:\n",
    "    def __init__(self, value):\n",
    "        self.__value = value\n",
    "\n",
    "    def get_value(self):\n",
    "        return self.__value * 65\n",
    "\n",
    "obj65 = Example65(65)\n",
    "print(obj65.get_value())"
   ]
  },
  {
   "cell_type": "code",
   "execution_count": 66,
   "id": "8c15e4ab",
   "metadata": {},
   "outputs": [
    {
     "name": "stdout",
     "output_type": "stream",
     "text": [
      "4356\n"
     ]
    }
   ],
   "source": [
    "# Cell 66 - Data Abstraction Example\n",
    "class Example66:\n",
    "    def __init__(self, value):\n",
    "        self.__value = value\n",
    "\n",
    "    def get_value(self):\n",
    "        return self.__value * 66\n",
    "\n",
    "obj66 = Example66(66)\n",
    "print(obj66.get_value())"
   ]
  },
  {
   "cell_type": "code",
   "execution_count": 67,
   "id": "0115899c",
   "metadata": {},
   "outputs": [
    {
     "name": "stdout",
     "output_type": "stream",
     "text": [
      "4489\n"
     ]
    }
   ],
   "source": [
    "# Cell 67 - Data Abstraction Example\n",
    "class Example67:\n",
    "    def __init__(self, value):\n",
    "        self.__value = value\n",
    "\n",
    "    def get_value(self):\n",
    "        return self.__value * 67\n",
    "\n",
    "obj67 = Example67(67)\n",
    "print(obj67.get_value())"
   ]
  },
  {
   "cell_type": "code",
   "execution_count": 68,
   "id": "e21a00e2",
   "metadata": {},
   "outputs": [
    {
     "name": "stdout",
     "output_type": "stream",
     "text": [
      "4624\n"
     ]
    }
   ],
   "source": [
    "# Cell 68 - Data Abstraction Example\n",
    "class Example68:\n",
    "    def __init__(self, value):\n",
    "        self.__value = value\n",
    "\n",
    "    def get_value(self):\n",
    "        return self.__value * 68\n",
    "\n",
    "obj68 = Example68(68)\n",
    "print(obj68.get_value())"
   ]
  },
  {
   "cell_type": "code",
   "execution_count": 69,
   "id": "7433a57a",
   "metadata": {},
   "outputs": [
    {
     "name": "stdout",
     "output_type": "stream",
     "text": [
      "4761\n"
     ]
    }
   ],
   "source": [
    "# Cell 69 - Data Abstraction Example\n",
    "class Example69:\n",
    "    def __init__(self, value):\n",
    "        self.__value = value\n",
    "\n",
    "    def get_value(self):\n",
    "        return self.__value * 69\n",
    "\n",
    "obj69 = Example69(69)\n",
    "print(obj69.get_value())"
   ]
  },
  {
   "cell_type": "code",
   "execution_count": 70,
   "id": "7a8e3778",
   "metadata": {},
   "outputs": [
    {
     "name": "stdout",
     "output_type": "stream",
     "text": [
      "4900\n"
     ]
    }
   ],
   "source": [
    "# Cell 70 - Data Abstraction Example\n",
    "class Example70:\n",
    "    def __init__(self, value):\n",
    "        self.__value = value\n",
    "\n",
    "    def get_value(self):\n",
    "        return self.__value * 70\n",
    "\n",
    "obj70 = Example70(70)\n",
    "print(obj70.get_value())"
   ]
  },
  {
   "cell_type": "code",
   "execution_count": 71,
   "id": "ffb7e3fc",
   "metadata": {},
   "outputs": [
    {
     "name": "stdout",
     "output_type": "stream",
     "text": [
      "5041\n"
     ]
    }
   ],
   "source": [
    "# Cell 71 - Data Abstraction Example\n",
    "class Example71:\n",
    "    def __init__(self, value):\n",
    "        self.__value = value\n",
    "\n",
    "    def get_value(self):\n",
    "        return self.__value * 71\n",
    "\n",
    "obj71 = Example71(71)\n",
    "print(obj71.get_value())"
   ]
  },
  {
   "cell_type": "code",
   "execution_count": 72,
   "id": "42209413",
   "metadata": {},
   "outputs": [
    {
     "name": "stdout",
     "output_type": "stream",
     "text": [
      "5184\n"
     ]
    }
   ],
   "source": [
    "# Cell 72 - Data Abstraction Example\n",
    "class Example72:\n",
    "    def __init__(self, value):\n",
    "        self.__value = value\n",
    "\n",
    "    def get_value(self):\n",
    "        return self.__value * 72\n",
    "\n",
    "obj72 = Example72(72)\n",
    "print(obj72.get_value())"
   ]
  },
  {
   "cell_type": "code",
   "execution_count": 73,
   "id": "98d93595",
   "metadata": {},
   "outputs": [
    {
     "name": "stdout",
     "output_type": "stream",
     "text": [
      "5329\n"
     ]
    }
   ],
   "source": [
    "# Cell 73 - Data Abstraction Example\n",
    "class Example73:\n",
    "    def __init__(self, value):\n",
    "        self.__value = value\n",
    "\n",
    "    def get_value(self):\n",
    "        return self.__value * 73\n",
    "\n",
    "obj73 = Example73(73)\n",
    "print(obj73.get_value())"
   ]
  },
  {
   "cell_type": "code",
   "execution_count": 74,
   "id": "ddd8b8c5",
   "metadata": {},
   "outputs": [
    {
     "name": "stdout",
     "output_type": "stream",
     "text": [
      "5476\n"
     ]
    }
   ],
   "source": [
    "# Cell 74 - Data Abstraction Example\n",
    "class Example74:\n",
    "    def __init__(self, value):\n",
    "        self.__value = value\n",
    "\n",
    "    def get_value(self):\n",
    "        return self.__value * 74\n",
    "\n",
    "obj74 = Example74(74)\n",
    "print(obj74.get_value())"
   ]
  },
  {
   "cell_type": "code",
   "execution_count": 75,
   "id": "870e5048",
   "metadata": {},
   "outputs": [
    {
     "name": "stdout",
     "output_type": "stream",
     "text": [
      "5625\n"
     ]
    }
   ],
   "source": [
    "# Cell 75 - Data Abstraction Example\n",
    "class Example75:\n",
    "    def __init__(self, value):\n",
    "        self.__value = value\n",
    "\n",
    "    def get_value(self):\n",
    "        return self.__value * 75\n",
    "\n",
    "obj75 = Example75(75)\n",
    "print(obj75.get_value())"
   ]
  },
  {
   "cell_type": "code",
   "execution_count": 76,
   "id": "000017f2",
   "metadata": {},
   "outputs": [
    {
     "name": "stdout",
     "output_type": "stream",
     "text": [
      "5776\n"
     ]
    }
   ],
   "source": [
    "# Cell 76 - Data Abstraction Example\n",
    "class Example76:\n",
    "    def __init__(self, value):\n",
    "        self.__value = value\n",
    "\n",
    "    def get_value(self):\n",
    "        return self.__value * 76\n",
    "\n",
    "obj76 = Example76(76)\n",
    "print(obj76.get_value())"
   ]
  },
  {
   "cell_type": "code",
   "execution_count": 77,
   "id": "bd665b4d",
   "metadata": {},
   "outputs": [
    {
     "name": "stdout",
     "output_type": "stream",
     "text": [
      "5929\n"
     ]
    }
   ],
   "source": [
    "# Cell 77 - Data Abstraction Example\n",
    "class Example77:\n",
    "    def __init__(self, value):\n",
    "        self.__value = value\n",
    "\n",
    "    def get_value(self):\n",
    "        return self.__value * 77\n",
    "\n",
    "obj77 = Example77(77)\n",
    "print(obj77.get_value())"
   ]
  },
  {
   "cell_type": "code",
   "execution_count": 78,
   "id": "b19f05ac",
   "metadata": {},
   "outputs": [
    {
     "name": "stdout",
     "output_type": "stream",
     "text": [
      "6084\n"
     ]
    }
   ],
   "source": [
    "# Cell 78 - Data Abstraction Example\n",
    "class Example78:\n",
    "    def __init__(self, value):\n",
    "        self.__value = value\n",
    "\n",
    "    def get_value(self):\n",
    "        return self.__value * 78\n",
    "\n",
    "obj78 = Example78(78)\n",
    "print(obj78.get_value())"
   ]
  },
  {
   "cell_type": "code",
   "execution_count": 79,
   "id": "cf6a2a4a",
   "metadata": {},
   "outputs": [
    {
     "name": "stdout",
     "output_type": "stream",
     "text": [
      "6241\n"
     ]
    }
   ],
   "source": [
    "# Cell 79 - Data Abstraction Example\n",
    "class Example79:\n",
    "    def __init__(self, value):\n",
    "        self.__value = value\n",
    "\n",
    "    def get_value(self):\n",
    "        return self.__value * 79\n",
    "\n",
    "obj79 = Example79(79)\n",
    "print(obj79.get_value())"
   ]
  },
  {
   "cell_type": "code",
   "execution_count": 80,
   "id": "119220c9",
   "metadata": {},
   "outputs": [
    {
     "name": "stdout",
     "output_type": "stream",
     "text": [
      "6400\n"
     ]
    }
   ],
   "source": [
    "# Cell 80 - Data Abstraction Example\n",
    "class Example80:\n",
    "    def __init__(self, value):\n",
    "        self.__value = value\n",
    "\n",
    "    def get_value(self):\n",
    "        return self.__value * 80\n",
    "\n",
    "obj80 = Example80(80)\n",
    "print(obj80.get_value())"
   ]
  },
  {
   "cell_type": "code",
   "execution_count": 81,
   "id": "74ea0abb",
   "metadata": {},
   "outputs": [
    {
     "name": "stdout",
     "output_type": "stream",
     "text": [
      "6561\n"
     ]
    }
   ],
   "source": [
    "# Cell 81 - Data Abstraction Example\n",
    "class Example81:\n",
    "    def __init__(self, value):\n",
    "        self.__value = value\n",
    "\n",
    "    def get_value(self):\n",
    "        return self.__value * 81\n",
    "\n",
    "obj81 = Example81(81)\n",
    "print(obj81.get_value())"
   ]
  },
  {
   "cell_type": "code",
   "execution_count": 82,
   "id": "8190d7e6",
   "metadata": {},
   "outputs": [
    {
     "name": "stdout",
     "output_type": "stream",
     "text": [
      "6724\n"
     ]
    }
   ],
   "source": [
    "# Cell 82 - Data Abstraction Example\n",
    "class Example82:\n",
    "    def __init__(self, value):\n",
    "        self.__value = value\n",
    "\n",
    "    def get_value(self):\n",
    "        return self.__value * 82\n",
    "\n",
    "obj82 = Example82(82)\n",
    "print(obj82.get_value())"
   ]
  },
  {
   "cell_type": "code",
   "execution_count": 83,
   "id": "9316d602",
   "metadata": {},
   "outputs": [
    {
     "name": "stdout",
     "output_type": "stream",
     "text": [
      "6889\n"
     ]
    }
   ],
   "source": [
    "# Cell 83 - Data Abstraction Example\n",
    "class Example83:\n",
    "    def __init__(self, value):\n",
    "        self.__value = value\n",
    "\n",
    "    def get_value(self):\n",
    "        return self.__value * 83\n",
    "\n",
    "obj83 = Example83(83)\n",
    "print(obj83.get_value())"
   ]
  },
  {
   "cell_type": "code",
   "execution_count": 84,
   "id": "29feb257",
   "metadata": {},
   "outputs": [
    {
     "name": "stdout",
     "output_type": "stream",
     "text": [
      "7056\n"
     ]
    }
   ],
   "source": [
    "# Cell 84 - Data Abstraction Example\n",
    "class Example84:\n",
    "    def __init__(self, value):\n",
    "        self.__value = value\n",
    "\n",
    "    def get_value(self):\n",
    "        return self.__value * 84\n",
    "\n",
    "obj84 = Example84(84)\n",
    "print(obj84.get_value())"
   ]
  },
  {
   "cell_type": "code",
   "execution_count": 85,
   "id": "de25e4ea",
   "metadata": {},
   "outputs": [
    {
     "name": "stdout",
     "output_type": "stream",
     "text": [
      "7225\n"
     ]
    }
   ],
   "source": [
    "# Cell 85 - Data Abstraction Example\n",
    "class Example85:\n",
    "    def __init__(self, value):\n",
    "        self.__value = value\n",
    "\n",
    "    def get_value(self):\n",
    "        return self.__value * 85\n",
    "\n",
    "obj85 = Example85(85)\n",
    "print(obj85.get_value())"
   ]
  },
  {
   "cell_type": "code",
   "execution_count": 86,
   "id": "191dae0c",
   "metadata": {},
   "outputs": [
    {
     "name": "stdout",
     "output_type": "stream",
     "text": [
      "7396\n"
     ]
    }
   ],
   "source": [
    "# Cell 86 - Data Abstraction Example\n",
    "class Example86:\n",
    "    def __init__(self, value):\n",
    "        self.__value = value\n",
    "\n",
    "    def get_value(self):\n",
    "        return self.__value * 86\n",
    "\n",
    "obj86 = Example86(86)\n",
    "print(obj86.get_value())"
   ]
  },
  {
   "cell_type": "code",
   "execution_count": 87,
   "id": "6d08ceb4",
   "metadata": {},
   "outputs": [
    {
     "name": "stdout",
     "output_type": "stream",
     "text": [
      "7569\n"
     ]
    }
   ],
   "source": [
    "# Cell 87 - Data Abstraction Example\n",
    "class Example87:\n",
    "    def __init__(self, value):\n",
    "        self.__value = value\n",
    "\n",
    "    def get_value(self):\n",
    "        return self.__value * 87\n",
    "\n",
    "obj87 = Example87(87)\n",
    "print(obj87.get_value())"
   ]
  },
  {
   "cell_type": "code",
   "execution_count": 88,
   "id": "203c5d93",
   "metadata": {},
   "outputs": [
    {
     "name": "stdout",
     "output_type": "stream",
     "text": [
      "7744\n"
     ]
    }
   ],
   "source": [
    "# Cell 88 - Data Abstraction Example\n",
    "class Example88:\n",
    "    def __init__(self, value):\n",
    "        self.__value = value\n",
    "\n",
    "    def get_value(self):\n",
    "        return self.__value * 88\n",
    "\n",
    "obj88 = Example88(88)\n",
    "print(obj88.get_value())"
   ]
  },
  {
   "cell_type": "code",
   "execution_count": 89,
   "id": "d9d184b8",
   "metadata": {},
   "outputs": [
    {
     "name": "stdout",
     "output_type": "stream",
     "text": [
      "7921\n"
     ]
    }
   ],
   "source": [
    "# Cell 89 - Data Abstraction Example\n",
    "class Example89:\n",
    "    def __init__(self, value):\n",
    "        self.__value = value\n",
    "\n",
    "    def get_value(self):\n",
    "        return self.__value * 89\n",
    "\n",
    "obj89 = Example89(89)\n",
    "print(obj89.get_value())"
   ]
  },
  {
   "cell_type": "code",
   "execution_count": 90,
   "id": "5c09a2e7",
   "metadata": {},
   "outputs": [
    {
     "name": "stdout",
     "output_type": "stream",
     "text": [
      "8100\n"
     ]
    }
   ],
   "source": [
    "# Cell 90 - Data Abstraction Example\n",
    "class Example90:\n",
    "    def __init__(self, value):\n",
    "        self.__value = value\n",
    "\n",
    "    def get_value(self):\n",
    "        return self.__value * 90\n",
    "\n",
    "obj90 = Example90(90)\n",
    "print(obj90.get_value())"
   ]
  },
  {
   "cell_type": "code",
   "execution_count": 91,
   "id": "1e921f44",
   "metadata": {},
   "outputs": [
    {
     "name": "stdout",
     "output_type": "stream",
     "text": [
      "8281\n"
     ]
    }
   ],
   "source": [
    "# Cell 91 - Data Abstraction Example\n",
    "class Example91:\n",
    "    def __init__(self, value):\n",
    "        self.__value = value\n",
    "\n",
    "    def get_value(self):\n",
    "        return self.__value * 91\n",
    "\n",
    "obj91 = Example91(91)\n",
    "print(obj91.get_value())"
   ]
  },
  {
   "cell_type": "code",
   "execution_count": 92,
   "id": "e35524ef",
   "metadata": {},
   "outputs": [
    {
     "name": "stdout",
     "output_type": "stream",
     "text": [
      "8464\n"
     ]
    }
   ],
   "source": [
    "# Cell 92 - Data Abstraction Example\n",
    "class Example92:\n",
    "    def __init__(self, value):\n",
    "        self.__value = value\n",
    "\n",
    "    def get_value(self):\n",
    "        return self.__value * 92\n",
    "\n",
    "obj92 = Example92(92)\n",
    "print(obj92.get_value())"
   ]
  },
  {
   "cell_type": "code",
   "execution_count": 93,
   "id": "8fb7931f",
   "metadata": {},
   "outputs": [
    {
     "name": "stdout",
     "output_type": "stream",
     "text": [
      "8649\n"
     ]
    }
   ],
   "source": [
    "# Cell 93 - Data Abstraction Example\n",
    "class Example93:\n",
    "    def __init__(self, value):\n",
    "        self.__value = value\n",
    "\n",
    "    def get_value(self):\n",
    "        return self.__value * 93\n",
    "\n",
    "obj93 = Example93(93)\n",
    "print(obj93.get_value())"
   ]
  },
  {
   "cell_type": "code",
   "execution_count": 94,
   "id": "89fbb860",
   "metadata": {},
   "outputs": [
    {
     "name": "stdout",
     "output_type": "stream",
     "text": [
      "8836\n"
     ]
    }
   ],
   "source": [
    "# Cell 94 - Data Abstraction Example\n",
    "class Example94:\n",
    "    def __init__(self, value):\n",
    "        self.__value = value\n",
    "\n",
    "    def get_value(self):\n",
    "        return self.__value * 94\n",
    "\n",
    "obj94 = Example94(94)\n",
    "print(obj94.get_value())"
   ]
  },
  {
   "cell_type": "code",
   "execution_count": 95,
   "id": "43f666de",
   "metadata": {},
   "outputs": [
    {
     "name": "stdout",
     "output_type": "stream",
     "text": [
      "9025\n"
     ]
    }
   ],
   "source": [
    "# Cell 95 - Data Abstraction Example\n",
    "class Example95:\n",
    "    def __init__(self, value):\n",
    "        self.__value = value\n",
    "\n",
    "    def get_value(self):\n",
    "        return self.__value * 95\n",
    "\n",
    "obj95 = Example95(95)\n",
    "print(obj95.get_value())"
   ]
  },
  {
   "cell_type": "code",
   "execution_count": 96,
   "id": "8ddc8591",
   "metadata": {},
   "outputs": [
    {
     "name": "stdout",
     "output_type": "stream",
     "text": [
      "9216\n"
     ]
    }
   ],
   "source": [
    "# Cell 96 - Data Abstraction Example\n",
    "class Example96:\n",
    "    def __init__(self, value):\n",
    "        self.__value = value\n",
    "\n",
    "    def get_value(self):\n",
    "        return self.__value * 96\n",
    "\n",
    "obj96 = Example96(96)\n",
    "print(obj96.get_value())"
   ]
  },
  {
   "cell_type": "code",
   "execution_count": 97,
   "id": "6efee815",
   "metadata": {},
   "outputs": [
    {
     "name": "stdout",
     "output_type": "stream",
     "text": [
      "9409\n"
     ]
    }
   ],
   "source": [
    "# Cell 97 - Data Abstraction Example\n",
    "class Example97:\n",
    "    def __init__(self, value):\n",
    "        self.__value = value\n",
    "\n",
    "    def get_value(self):\n",
    "        return self.__value * 97\n",
    "\n",
    "obj97 = Example97(97)\n",
    "print(obj97.get_value())"
   ]
  },
  {
   "cell_type": "code",
   "execution_count": 98,
   "id": "3ab139ea",
   "metadata": {},
   "outputs": [
    {
     "name": "stdout",
     "output_type": "stream",
     "text": [
      "9604\n"
     ]
    }
   ],
   "source": [
    "# Cell 98 - Data Abstraction Example\n",
    "class Example98:\n",
    "    def __init__(self, value):\n",
    "        self.__value = value\n",
    "\n",
    "    def get_value(self):\n",
    "        return self.__value * 98\n",
    "\n",
    "obj98 = Example98(98)\n",
    "print(obj98.get_value())"
   ]
  },
  {
   "cell_type": "code",
   "execution_count": 99,
   "id": "2e245f0d",
   "metadata": {},
   "outputs": [
    {
     "name": "stdout",
     "output_type": "stream",
     "text": [
      "9801\n"
     ]
    }
   ],
   "source": [
    "# Cell 99 - Data Abstraction Example\n",
    "class Example99:\n",
    "    def __init__(self, value):\n",
    "        self.__value = value\n",
    "\n",
    "    def get_value(self):\n",
    "        return self.__value * 99\n",
    "\n",
    "obj99 = Example99(99)\n",
    "print(obj99.get_value())"
   ]
  },
  {
   "cell_type": "code",
   "execution_count": 100,
   "id": "057d3d4a",
   "metadata": {},
   "outputs": [
    {
     "name": "stdout",
     "output_type": "stream",
     "text": [
      "10000\n"
     ]
    }
   ],
   "source": [
    "# Cell 100 - Data Abstraction Example\n",
    "class Example100:\n",
    "    def __init__(self, value):\n",
    "        self.__value = value\n",
    "\n",
    "    def get_value(self):\n",
    "        return self.__value * 100\n",
    "\n",
    "obj100 = Example100(100)\n",
    "print(obj100.get_value())"
   ]
  },
  {
   "cell_type": "code",
   "execution_count": 101,
   "id": "7161b1db",
   "metadata": {},
   "outputs": [
    {
     "name": "stdout",
     "output_type": "stream",
     "text": [
      "Value: 304\n"
     ]
    }
   ],
   "source": [
    "# Cell 101 - Operator Overloading Example\n",
    "class Overload101:\n",
    "    def __init__(self, num):\n",
    "        self.num = num\n",
    "\n",
    "    def __add__(self, other):\n",
    "        return Overload101(self.num + other.num + 101)\n",
    "\n",
    "    def __str__(self):\n",
    "        return f\"Value: {self.num}\"\n",
    "\n",
    "objA101 = Overload101(101)\n",
    "objB101 = Overload101(102)\n",
    "result101 = objA101 + objB101\n",
    "print(result101)"
   ]
  },
  {
   "cell_type": "code",
   "execution_count": 102,
   "id": "bfd6ef49",
   "metadata": {},
   "outputs": [
    {
     "name": "stdout",
     "output_type": "stream",
     "text": [
      "Value: 307\n"
     ]
    }
   ],
   "source": [
    "# Cell 102 - Operator Overloading Example\n",
    "class Overload102:\n",
    "    def __init__(self, num):\n",
    "        self.num = num\n",
    "\n",
    "    def __add__(self, other):\n",
    "        return Overload102(self.num + other.num + 102)\n",
    "\n",
    "    def __str__(self):\n",
    "        return f\"Value: {self.num}\"\n",
    "\n",
    "objA102 = Overload102(102)\n",
    "objB102 = Overload102(103)\n",
    "result102 = objA102 + objB102\n",
    "print(result102)"
   ]
  },
  {
   "cell_type": "code",
   "execution_count": 103,
   "id": "5c30caa7",
   "metadata": {},
   "outputs": [
    {
     "name": "stdout",
     "output_type": "stream",
     "text": [
      "Value: 310\n"
     ]
    }
   ],
   "source": [
    "# Cell 103 - Operator Overloading Example\n",
    "class Overload103:\n",
    "    def __init__(self, num):\n",
    "        self.num = num\n",
    "\n",
    "    def __add__(self, other):\n",
    "        return Overload103(self.num + other.num + 103)\n",
    "\n",
    "    def __str__(self):\n",
    "        return f\"Value: {self.num}\"\n",
    "\n",
    "objA103 = Overload103(103)\n",
    "objB103 = Overload103(104)\n",
    "result103 = objA103 + objB103\n",
    "print(result103)"
   ]
  },
  {
   "cell_type": "code",
   "execution_count": 104,
   "id": "1d788566",
   "metadata": {},
   "outputs": [
    {
     "name": "stdout",
     "output_type": "stream",
     "text": [
      "Value: 313\n"
     ]
    }
   ],
   "source": [
    "# Cell 104 - Operator Overloading Example\n",
    "class Overload104:\n",
    "    def __init__(self, num):\n",
    "        self.num = num\n",
    "\n",
    "    def __add__(self, other):\n",
    "        return Overload104(self.num + other.num + 104)\n",
    "\n",
    "    def __str__(self):\n",
    "        return f\"Value: {self.num}\"\n",
    "\n",
    "objA104 = Overload104(104)\n",
    "objB104 = Overload104(105)\n",
    "result104 = objA104 + objB104\n",
    "print(result104)"
   ]
  },
  {
   "cell_type": "code",
   "execution_count": 105,
   "id": "60eebc96",
   "metadata": {},
   "outputs": [
    {
     "name": "stdout",
     "output_type": "stream",
     "text": [
      "Value: 316\n"
     ]
    }
   ],
   "source": [
    "# Cell 105 - Operator Overloading Example\n",
    "class Overload105:\n",
    "    def __init__(self, num):\n",
    "        self.num = num\n",
    "\n",
    "    def __add__(self, other):\n",
    "        return Overload105(self.num + other.num + 105)\n",
    "\n",
    "    def __str__(self):\n",
    "        return f\"Value: {self.num}\"\n",
    "\n",
    "objA105 = Overload105(105)\n",
    "objB105 = Overload105(106)\n",
    "result105 = objA105 + objB105\n",
    "print(result105)"
   ]
  },
  {
   "cell_type": "code",
   "execution_count": 106,
   "id": "e16d6ae8",
   "metadata": {},
   "outputs": [
    {
     "name": "stdout",
     "output_type": "stream",
     "text": [
      "Value: 319\n"
     ]
    }
   ],
   "source": [
    "# Cell 106 - Operator Overloading Example\n",
    "class Overload106:\n",
    "    def __init__(self, num):\n",
    "        self.num = num\n",
    "\n",
    "    def __add__(self, other):\n",
    "        return Overload106(self.num + other.num + 106)\n",
    "\n",
    "    def __str__(self):\n",
    "        return f\"Value: {self.num}\"\n",
    "\n",
    "objA106 = Overload106(106)\n",
    "objB106 = Overload106(107)\n",
    "result106 = objA106 + objB106\n",
    "print(result106)"
   ]
  },
  {
   "cell_type": "code",
   "execution_count": 107,
   "id": "82dffbc2",
   "metadata": {},
   "outputs": [
    {
     "name": "stdout",
     "output_type": "stream",
     "text": [
      "Value: 322\n"
     ]
    }
   ],
   "source": [
    "# Cell 107 - Operator Overloading Example\n",
    "class Overload107:\n",
    "    def __init__(self, num):\n",
    "        self.num = num\n",
    "\n",
    "    def __add__(self, other):\n",
    "        return Overload107(self.num + other.num + 107)\n",
    "\n",
    "    def __str__(self):\n",
    "        return f\"Value: {self.num}\"\n",
    "\n",
    "objA107 = Overload107(107)\n",
    "objB107 = Overload107(108)\n",
    "result107 = objA107 + objB107\n",
    "print(result107)"
   ]
  },
  {
   "cell_type": "code",
   "execution_count": 108,
   "id": "806ea88c",
   "metadata": {},
   "outputs": [
    {
     "name": "stdout",
     "output_type": "stream",
     "text": [
      "Value: 325\n"
     ]
    }
   ],
   "source": [
    "# Cell 108 - Operator Overloading Example\n",
    "class Overload108:\n",
    "    def __init__(self, num):\n",
    "        self.num = num\n",
    "\n",
    "    def __add__(self, other):\n",
    "        return Overload108(self.num + other.num + 108)\n",
    "\n",
    "    def __str__(self):\n",
    "        return f\"Value: {self.num}\"\n",
    "\n",
    "objA108 = Overload108(108)\n",
    "objB108 = Overload108(109)\n",
    "result108 = objA108 + objB108\n",
    "print(result108)"
   ]
  },
  {
   "cell_type": "code",
   "execution_count": 109,
   "id": "0d47c26f",
   "metadata": {},
   "outputs": [
    {
     "name": "stdout",
     "output_type": "stream",
     "text": [
      "Value: 328\n"
     ]
    }
   ],
   "source": [
    "# Cell 109 - Operator Overloading Example\n",
    "class Overload109:\n",
    "    def __init__(self, num):\n",
    "        self.num = num\n",
    "\n",
    "    def __add__(self, other):\n",
    "        return Overload109(self.num + other.num + 109)\n",
    "\n",
    "    def __str__(self):\n",
    "        return f\"Value: {self.num}\"\n",
    "\n",
    "objA109 = Overload109(109)\n",
    "objB109 = Overload109(110)\n",
    "result109 = objA109 + objB109\n",
    "print(result109)"
   ]
  },
  {
   "cell_type": "code",
   "execution_count": 110,
   "id": "9162fc1a",
   "metadata": {},
   "outputs": [
    {
     "name": "stdout",
     "output_type": "stream",
     "text": [
      "Value: 331\n"
     ]
    }
   ],
   "source": [
    "# Cell 110 - Operator Overloading Example\n",
    "class Overload110:\n",
    "    def __init__(self, num):\n",
    "        self.num = num\n",
    "\n",
    "    def __add__(self, other):\n",
    "        return Overload110(self.num + other.num + 110)\n",
    "\n",
    "    def __str__(self):\n",
    "        return f\"Value: {self.num}\"\n",
    "\n",
    "objA110 = Overload110(110)\n",
    "objB110 = Overload110(111)\n",
    "result110 = objA110 + objB110\n",
    "print(result110)"
   ]
  },
  {
   "cell_type": "code",
   "execution_count": 111,
   "id": "689d170a",
   "metadata": {},
   "outputs": [
    {
     "name": "stdout",
     "output_type": "stream",
     "text": [
      "Value: 334\n"
     ]
    }
   ],
   "source": [
    "# Cell 111 - Operator Overloading Example\n",
    "class Overload111:\n",
    "    def __init__(self, num):\n",
    "        self.num = num\n",
    "\n",
    "    def __add__(self, other):\n",
    "        return Overload111(self.num + other.num + 111)\n",
    "\n",
    "    def __str__(self):\n",
    "        return f\"Value: {self.num}\"\n",
    "\n",
    "objA111 = Overload111(111)\n",
    "objB111 = Overload111(112)\n",
    "result111 = objA111 + objB111\n",
    "print(result111)"
   ]
  },
  {
   "cell_type": "code",
   "execution_count": 112,
   "id": "60c42ba8",
   "metadata": {},
   "outputs": [
    {
     "name": "stdout",
     "output_type": "stream",
     "text": [
      "Value: 337\n"
     ]
    }
   ],
   "source": [
    "# Cell 112 - Operator Overloading Example\n",
    "class Overload112:\n",
    "    def __init__(self, num):\n",
    "        self.num = num\n",
    "\n",
    "    def __add__(self, other):\n",
    "        return Overload112(self.num + other.num + 112)\n",
    "\n",
    "    def __str__(self):\n",
    "        return f\"Value: {self.num}\"\n",
    "\n",
    "objA112 = Overload112(112)\n",
    "objB112 = Overload112(113)\n",
    "result112 = objA112 + objB112\n",
    "print(result112)"
   ]
  },
  {
   "cell_type": "code",
   "execution_count": 113,
   "id": "26bae15c",
   "metadata": {},
   "outputs": [
    {
     "name": "stdout",
     "output_type": "stream",
     "text": [
      "Value: 340\n"
     ]
    }
   ],
   "source": [
    "# Cell 113 - Operator Overloading Example\n",
    "class Overload113:\n",
    "    def __init__(self, num):\n",
    "        self.num = num\n",
    "\n",
    "    def __add__(self, other):\n",
    "        return Overload113(self.num + other.num + 113)\n",
    "\n",
    "    def __str__(self):\n",
    "        return f\"Value: {self.num}\"\n",
    "\n",
    "objA113 = Overload113(113)\n",
    "objB113 = Overload113(114)\n",
    "result113 = objA113 + objB113\n",
    "print(result113)"
   ]
  },
  {
   "cell_type": "code",
   "execution_count": 114,
   "id": "3f604532",
   "metadata": {},
   "outputs": [
    {
     "name": "stdout",
     "output_type": "stream",
     "text": [
      "Value: 343\n"
     ]
    }
   ],
   "source": [
    "# Cell 114 - Operator Overloading Example\n",
    "class Overload114:\n",
    "    def __init__(self, num):\n",
    "        self.num = num\n",
    "\n",
    "    def __add__(self, other):\n",
    "        return Overload114(self.num + other.num + 114)\n",
    "\n",
    "    def __str__(self):\n",
    "        return f\"Value: {self.num}\"\n",
    "\n",
    "objA114 = Overload114(114)\n",
    "objB114 = Overload114(115)\n",
    "result114 = objA114 + objB114\n",
    "print(result114)"
   ]
  },
  {
   "cell_type": "code",
   "execution_count": 115,
   "id": "bbfba914",
   "metadata": {},
   "outputs": [
    {
     "name": "stdout",
     "output_type": "stream",
     "text": [
      "Value: 346\n"
     ]
    }
   ],
   "source": [
    "# Cell 115 - Operator Overloading Example\n",
    "class Overload115:\n",
    "    def __init__(self, num):\n",
    "        self.num = num\n",
    "\n",
    "    def __add__(self, other):\n",
    "        return Overload115(self.num + other.num + 115)\n",
    "\n",
    "    def __str__(self):\n",
    "        return f\"Value: {self.num}\"\n",
    "\n",
    "objA115 = Overload115(115)\n",
    "objB115 = Overload115(116)\n",
    "result115 = objA115 + objB115\n",
    "print(result115)"
   ]
  },
  {
   "cell_type": "code",
   "execution_count": 116,
   "id": "06a99706",
   "metadata": {},
   "outputs": [
    {
     "name": "stdout",
     "output_type": "stream",
     "text": [
      "Value: 349\n"
     ]
    }
   ],
   "source": [
    "# Cell 116 - Operator Overloading Example\n",
    "class Overload116:\n",
    "    def __init__(self, num):\n",
    "        self.num = num\n",
    "\n",
    "    def __add__(self, other):\n",
    "        return Overload116(self.num + other.num + 116)\n",
    "\n",
    "    def __str__(self):\n",
    "        return f\"Value: {self.num}\"\n",
    "\n",
    "objA116 = Overload116(116)\n",
    "objB116 = Overload116(117)\n",
    "result116 = objA116 + objB116\n",
    "print(result116)"
   ]
  },
  {
   "cell_type": "code",
   "execution_count": 117,
   "id": "838a07d6",
   "metadata": {},
   "outputs": [
    {
     "name": "stdout",
     "output_type": "stream",
     "text": [
      "Value: 352\n"
     ]
    }
   ],
   "source": [
    "# Cell 117 - Operator Overloading Example\n",
    "class Overload117:\n",
    "    def __init__(self, num):\n",
    "        self.num = num\n",
    "\n",
    "    def __add__(self, other):\n",
    "        return Overload117(self.num + other.num + 117)\n",
    "\n",
    "    def __str__(self):\n",
    "        return f\"Value: {self.num}\"\n",
    "\n",
    "objA117 = Overload117(117)\n",
    "objB117 = Overload117(118)\n",
    "result117 = objA117 + objB117\n",
    "print(result117)"
   ]
  },
  {
   "cell_type": "code",
   "execution_count": 118,
   "id": "82a9acef",
   "metadata": {},
   "outputs": [
    {
     "name": "stdout",
     "output_type": "stream",
     "text": [
      "Value: 355\n"
     ]
    }
   ],
   "source": [
    "# Cell 118 - Operator Overloading Example\n",
    "class Overload118:\n",
    "    def __init__(self, num):\n",
    "        self.num = num\n",
    "\n",
    "    def __add__(self, other):\n",
    "        return Overload118(self.num + other.num + 118)\n",
    "\n",
    "    def __str__(self):\n",
    "        return f\"Value: {self.num}\"\n",
    "\n",
    "objA118 = Overload118(118)\n",
    "objB118 = Overload118(119)\n",
    "result118 = objA118 + objB118\n",
    "print(result118)"
   ]
  },
  {
   "cell_type": "code",
   "execution_count": 119,
   "id": "e3c8e82e",
   "metadata": {},
   "outputs": [
    {
     "name": "stdout",
     "output_type": "stream",
     "text": [
      "Value: 358\n"
     ]
    }
   ],
   "source": [
    "# Cell 119 - Operator Overloading Example\n",
    "class Overload119:\n",
    "    def __init__(self, num):\n",
    "        self.num = num\n",
    "\n",
    "    def __add__(self, other):\n",
    "        return Overload119(self.num + other.num + 119)\n",
    "\n",
    "    def __str__(self):\n",
    "        return f\"Value: {self.num}\"\n",
    "\n",
    "objA119 = Overload119(119)\n",
    "objB119 = Overload119(120)\n",
    "result119 = objA119 + objB119\n",
    "print(result119)"
   ]
  },
  {
   "cell_type": "code",
   "execution_count": 120,
   "id": "d1b7df53",
   "metadata": {},
   "outputs": [
    {
     "name": "stdout",
     "output_type": "stream",
     "text": [
      "Value: 361\n"
     ]
    }
   ],
   "source": [
    "# Cell 120 - Operator Overloading Example\n",
    "class Overload120:\n",
    "    def __init__(self, num):\n",
    "        self.num = num\n",
    "\n",
    "    def __add__(self, other):\n",
    "        return Overload120(self.num + other.num + 120)\n",
    "\n",
    "    def __str__(self):\n",
    "        return f\"Value: {self.num}\"\n",
    "\n",
    "objA120 = Overload120(120)\n",
    "objB120 = Overload120(121)\n",
    "result120 = objA120 + objB120\n",
    "print(result120)"
   ]
  },
  {
   "cell_type": "code",
   "execution_count": 121,
   "id": "f5041444",
   "metadata": {},
   "outputs": [
    {
     "name": "stdout",
     "output_type": "stream",
     "text": [
      "Value: 364\n"
     ]
    }
   ],
   "source": [
    "# Cell 121 - Operator Overloading Example\n",
    "class Overload121:\n",
    "    def __init__(self, num):\n",
    "        self.num = num\n",
    "\n",
    "    def __add__(self, other):\n",
    "        return Overload121(self.num + other.num + 121)\n",
    "\n",
    "    def __str__(self):\n",
    "        return f\"Value: {self.num}\"\n",
    "\n",
    "objA121 = Overload121(121)\n",
    "objB121 = Overload121(122)\n",
    "result121 = objA121 + objB121\n",
    "print(result121)"
   ]
  },
  {
   "cell_type": "code",
   "execution_count": 122,
   "id": "d1e6c4df",
   "metadata": {},
   "outputs": [
    {
     "name": "stdout",
     "output_type": "stream",
     "text": [
      "Value: 367\n"
     ]
    }
   ],
   "source": [
    "# Cell 122 - Operator Overloading Example\n",
    "class Overload122:\n",
    "    def __init__(self, num):\n",
    "        self.num = num\n",
    "\n",
    "    def __add__(self, other):\n",
    "        return Overload122(self.num + other.num + 122)\n",
    "\n",
    "    def __str__(self):\n",
    "        return f\"Value: {self.num}\"\n",
    "\n",
    "objA122 = Overload122(122)\n",
    "objB122 = Overload122(123)\n",
    "result122 = objA122 + objB122\n",
    "print(result122)"
   ]
  },
  {
   "cell_type": "code",
   "execution_count": 123,
   "id": "336d2be6",
   "metadata": {},
   "outputs": [
    {
     "name": "stdout",
     "output_type": "stream",
     "text": [
      "Value: 370\n"
     ]
    }
   ],
   "source": [
    "# Cell 123 - Operator Overloading Example\n",
    "class Overload123:\n",
    "    def __init__(self, num):\n",
    "        self.num = num\n",
    "\n",
    "    def __add__(self, other):\n",
    "        return Overload123(self.num + other.num + 123)\n",
    "\n",
    "    def __str__(self):\n",
    "        return f\"Value: {self.num}\"\n",
    "\n",
    "objA123 = Overload123(123)\n",
    "objB123 = Overload123(124)\n",
    "result123 = objA123 + objB123\n",
    "print(result123)"
   ]
  },
  {
   "cell_type": "code",
   "execution_count": 124,
   "id": "a20e2900",
   "metadata": {},
   "outputs": [
    {
     "name": "stdout",
     "output_type": "stream",
     "text": [
      "Value: 373\n"
     ]
    }
   ],
   "source": [
    "# Cell 124 - Operator Overloading Example\n",
    "class Overload124:\n",
    "    def __init__(self, num):\n",
    "        self.num = num\n",
    "\n",
    "    def __add__(self, other):\n",
    "        return Overload124(self.num + other.num + 124)\n",
    "\n",
    "    def __str__(self):\n",
    "        return f\"Value: {self.num}\"\n",
    "\n",
    "objA124 = Overload124(124)\n",
    "objB124 = Overload124(125)\n",
    "result124 = objA124 + objB124\n",
    "print(result124)"
   ]
  },
  {
   "cell_type": "code",
   "execution_count": 125,
   "id": "fa26bde8",
   "metadata": {},
   "outputs": [
    {
     "name": "stdout",
     "output_type": "stream",
     "text": [
      "Value: 376\n"
     ]
    }
   ],
   "source": [
    "# Cell 125 - Operator Overloading Example\n",
    "class Overload125:\n",
    "    def __init__(self, num):\n",
    "        self.num = num\n",
    "\n",
    "    def __add__(self, other):\n",
    "        return Overload125(self.num + other.num + 125)\n",
    "\n",
    "    def __str__(self):\n",
    "        return f\"Value: {self.num}\"\n",
    "\n",
    "objA125 = Overload125(125)\n",
    "objB125 = Overload125(126)\n",
    "result125 = objA125 + objB125\n",
    "print(result125)"
   ]
  },
  {
   "cell_type": "code",
   "execution_count": 126,
   "id": "13120484",
   "metadata": {},
   "outputs": [
    {
     "name": "stdout",
     "output_type": "stream",
     "text": [
      "Value: 379\n"
     ]
    }
   ],
   "source": [
    "# Cell 126 - Operator Overloading Example\n",
    "class Overload126:\n",
    "    def __init__(self, num):\n",
    "        self.num = num\n",
    "\n",
    "    def __add__(self, other):\n",
    "        return Overload126(self.num + other.num + 126)\n",
    "\n",
    "    def __str__(self):\n",
    "        return f\"Value: {self.num}\"\n",
    "\n",
    "objA126 = Overload126(126)\n",
    "objB126 = Overload126(127)\n",
    "result126 = objA126 + objB126\n",
    "print(result126)"
   ]
  },
  {
   "cell_type": "code",
   "execution_count": 127,
   "id": "804affcf",
   "metadata": {},
   "outputs": [
    {
     "name": "stdout",
     "output_type": "stream",
     "text": [
      "Value: 382\n"
     ]
    }
   ],
   "source": [
    "# Cell 127 - Operator Overloading Example\n",
    "class Overload127:\n",
    "    def __init__(self, num):\n",
    "        self.num = num\n",
    "\n",
    "    def __add__(self, other):\n",
    "        return Overload127(self.num + other.num + 127)\n",
    "\n",
    "    def __str__(self):\n",
    "        return f\"Value: {self.num}\"\n",
    "\n",
    "objA127 = Overload127(127)\n",
    "objB127 = Overload127(128)\n",
    "result127 = objA127 + objB127\n",
    "print(result127)"
   ]
  },
  {
   "cell_type": "code",
   "execution_count": 128,
   "id": "943176f9",
   "metadata": {},
   "outputs": [
    {
     "name": "stdout",
     "output_type": "stream",
     "text": [
      "Value: 385\n"
     ]
    }
   ],
   "source": [
    "# Cell 128 - Operator Overloading Example\n",
    "class Overload128:\n",
    "    def __init__(self, num):\n",
    "        self.num = num\n",
    "\n",
    "    def __add__(self, other):\n",
    "        return Overload128(self.num + other.num + 128)\n",
    "\n",
    "    def __str__(self):\n",
    "        return f\"Value: {self.num}\"\n",
    "\n",
    "objA128 = Overload128(128)\n",
    "objB128 = Overload128(129)\n",
    "result128 = objA128 + objB128\n",
    "print(result128)"
   ]
  },
  {
   "cell_type": "code",
   "execution_count": 129,
   "id": "260acccb",
   "metadata": {},
   "outputs": [
    {
     "name": "stdout",
     "output_type": "stream",
     "text": [
      "Value: 388\n"
     ]
    }
   ],
   "source": [
    "# Cell 129 - Operator Overloading Example\n",
    "class Overload129:\n",
    "    def __init__(self, num):\n",
    "        self.num = num\n",
    "\n",
    "    def __add__(self, other):\n",
    "        return Overload129(self.num + other.num + 129)\n",
    "\n",
    "    def __str__(self):\n",
    "        return f\"Value: {self.num}\"\n",
    "\n",
    "objA129 = Overload129(129)\n",
    "objB129 = Overload129(130)\n",
    "result129 = objA129 + objB129\n",
    "print(result129)"
   ]
  },
  {
   "cell_type": "code",
   "execution_count": 130,
   "id": "1d3948fe",
   "metadata": {},
   "outputs": [
    {
     "name": "stdout",
     "output_type": "stream",
     "text": [
      "Value: 391\n"
     ]
    }
   ],
   "source": [
    "# Cell 130 - Operator Overloading Example\n",
    "class Overload130:\n",
    "    def __init__(self, num):\n",
    "        self.num = num\n",
    "\n",
    "    def __add__(self, other):\n",
    "        return Overload130(self.num + other.num + 130)\n",
    "\n",
    "    def __str__(self):\n",
    "        return f\"Value: {self.num}\"\n",
    "\n",
    "objA130 = Overload130(130)\n",
    "objB130 = Overload130(131)\n",
    "result130 = objA130 + objB130\n",
    "print(result130)"
   ]
  },
  {
   "cell_type": "code",
   "execution_count": 131,
   "id": "b01d25a6",
   "metadata": {},
   "outputs": [
    {
     "name": "stdout",
     "output_type": "stream",
     "text": [
      "Value: 394\n"
     ]
    }
   ],
   "source": [
    "# Cell 131 - Operator Overloading Example\n",
    "class Overload131:\n",
    "    def __init__(self, num):\n",
    "        self.num = num\n",
    "\n",
    "    def __add__(self, other):\n",
    "        return Overload131(self.num + other.num + 131)\n",
    "\n",
    "    def __str__(self):\n",
    "        return f\"Value: {self.num}\"\n",
    "\n",
    "objA131 = Overload131(131)\n",
    "objB131 = Overload131(132)\n",
    "result131 = objA131 + objB131\n",
    "print(result131)"
   ]
  },
  {
   "cell_type": "code",
   "execution_count": 132,
   "id": "1527039d",
   "metadata": {},
   "outputs": [
    {
     "name": "stdout",
     "output_type": "stream",
     "text": [
      "Value: 397\n"
     ]
    }
   ],
   "source": [
    "# Cell 132 - Operator Overloading Example\n",
    "class Overload132:\n",
    "    def __init__(self, num):\n",
    "        self.num = num\n",
    "\n",
    "    def __add__(self, other):\n",
    "        return Overload132(self.num + other.num + 132)\n",
    "\n",
    "    def __str__(self):\n",
    "        return f\"Value: {self.num}\"\n",
    "\n",
    "objA132 = Overload132(132)\n",
    "objB132 = Overload132(133)\n",
    "result132 = objA132 + objB132\n",
    "print(result132)"
   ]
  },
  {
   "cell_type": "code",
   "execution_count": 133,
   "id": "07e38ddb",
   "metadata": {},
   "outputs": [
    {
     "name": "stdout",
     "output_type": "stream",
     "text": [
      "Value: 400\n"
     ]
    }
   ],
   "source": [
    "# Cell 133 - Operator Overloading Example\n",
    "class Overload133:\n",
    "    def __init__(self, num):\n",
    "        self.num = num\n",
    "\n",
    "    def __add__(self, other):\n",
    "        return Overload133(self.num + other.num + 133)\n",
    "\n",
    "    def __str__(self):\n",
    "        return f\"Value: {self.num}\"\n",
    "\n",
    "objA133 = Overload133(133)\n",
    "objB133 = Overload133(134)\n",
    "result133 = objA133 + objB133\n",
    "print(result133)"
   ]
  },
  {
   "cell_type": "code",
   "execution_count": 134,
   "id": "76f6163f",
   "metadata": {},
   "outputs": [
    {
     "name": "stdout",
     "output_type": "stream",
     "text": [
      "Value: 403\n"
     ]
    }
   ],
   "source": [
    "# Cell 134 - Operator Overloading Example\n",
    "class Overload134:\n",
    "    def __init__(self, num):\n",
    "        self.num = num\n",
    "\n",
    "    def __add__(self, other):\n",
    "        return Overload134(self.num + other.num + 134)\n",
    "\n",
    "    def __str__(self):\n",
    "        return f\"Value: {self.num}\"\n",
    "\n",
    "objA134 = Overload134(134)\n",
    "objB134 = Overload134(135)\n",
    "result134 = objA134 + objB134\n",
    "print(result134)"
   ]
  },
  {
   "cell_type": "code",
   "execution_count": 135,
   "id": "40862dd8",
   "metadata": {},
   "outputs": [
    {
     "name": "stdout",
     "output_type": "stream",
     "text": [
      "Value: 406\n"
     ]
    }
   ],
   "source": [
    "# Cell 135 - Operator Overloading Example\n",
    "class Overload135:\n",
    "    def __init__(self, num):\n",
    "        self.num = num\n",
    "\n",
    "    def __add__(self, other):\n",
    "        return Overload135(self.num + other.num + 135)\n",
    "\n",
    "    def __str__(self):\n",
    "        return f\"Value: {self.num}\"\n",
    "\n",
    "objA135 = Overload135(135)\n",
    "objB135 = Overload135(136)\n",
    "result135 = objA135 + objB135\n",
    "print(result135)"
   ]
  },
  {
   "cell_type": "code",
   "execution_count": 136,
   "id": "5feb56a5",
   "metadata": {},
   "outputs": [
    {
     "name": "stdout",
     "output_type": "stream",
     "text": [
      "Value: 409\n"
     ]
    }
   ],
   "source": [
    "# Cell 136 - Operator Overloading Example\n",
    "class Overload136:\n",
    "    def __init__(self, num):\n",
    "        self.num = num\n",
    "\n",
    "    def __add__(self, other):\n",
    "        return Overload136(self.num + other.num + 136)\n",
    "\n",
    "    def __str__(self):\n",
    "        return f\"Value: {self.num}\"\n",
    "\n",
    "objA136 = Overload136(136)\n",
    "objB136 = Overload136(137)\n",
    "result136 = objA136 + objB136\n",
    "print(result136)"
   ]
  },
  {
   "cell_type": "code",
   "execution_count": 137,
   "id": "33e091ea",
   "metadata": {},
   "outputs": [
    {
     "name": "stdout",
     "output_type": "stream",
     "text": [
      "Value: 412\n"
     ]
    }
   ],
   "source": [
    "# Cell 137 - Operator Overloading Example\n",
    "class Overload137:\n",
    "    def __init__(self, num):\n",
    "        self.num = num\n",
    "\n",
    "    def __add__(self, other):\n",
    "        return Overload137(self.num + other.num + 137)\n",
    "\n",
    "    def __str__(self):\n",
    "        return f\"Value: {self.num}\"\n",
    "\n",
    "objA137 = Overload137(137)\n",
    "objB137 = Overload137(138)\n",
    "result137 = objA137 + objB137\n",
    "print(result137)"
   ]
  },
  {
   "cell_type": "code",
   "execution_count": 138,
   "id": "bf703bf6",
   "metadata": {},
   "outputs": [
    {
     "name": "stdout",
     "output_type": "stream",
     "text": [
      "Value: 415\n"
     ]
    }
   ],
   "source": [
    "# Cell 138 - Operator Overloading Example\n",
    "class Overload138:\n",
    "    def __init__(self, num):\n",
    "        self.num = num\n",
    "\n",
    "    def __add__(self, other):\n",
    "        return Overload138(self.num + other.num + 138)\n",
    "\n",
    "    def __str__(self):\n",
    "        return f\"Value: {self.num}\"\n",
    "\n",
    "objA138 = Overload138(138)\n",
    "objB138 = Overload138(139)\n",
    "result138 = objA138 + objB138\n",
    "print(result138)"
   ]
  },
  {
   "cell_type": "code",
   "execution_count": 139,
   "id": "50e7abc6",
   "metadata": {},
   "outputs": [
    {
     "name": "stdout",
     "output_type": "stream",
     "text": [
      "Value: 418\n"
     ]
    }
   ],
   "source": [
    "# Cell 139 - Operator Overloading Example\n",
    "class Overload139:\n",
    "    def __init__(self, num):\n",
    "        self.num = num\n",
    "\n",
    "    def __add__(self, other):\n",
    "        return Overload139(self.num + other.num + 139)\n",
    "\n",
    "    def __str__(self):\n",
    "        return f\"Value: {self.num}\"\n",
    "\n",
    "objA139 = Overload139(139)\n",
    "objB139 = Overload139(140)\n",
    "result139 = objA139 + objB139\n",
    "print(result139)"
   ]
  },
  {
   "cell_type": "code",
   "execution_count": 140,
   "id": "fc5a6e91",
   "metadata": {},
   "outputs": [
    {
     "name": "stdout",
     "output_type": "stream",
     "text": [
      "Value: 421\n"
     ]
    }
   ],
   "source": [
    "# Cell 140 - Operator Overloading Example\n",
    "class Overload140:\n",
    "    def __init__(self, num):\n",
    "        self.num = num\n",
    "\n",
    "    def __add__(self, other):\n",
    "        return Overload140(self.num + other.num + 140)\n",
    "\n",
    "    def __str__(self):\n",
    "        return f\"Value: {self.num}\"\n",
    "\n",
    "objA140 = Overload140(140)\n",
    "objB140 = Overload140(141)\n",
    "result140 = objA140 + objB140\n",
    "print(result140)"
   ]
  },
  {
   "cell_type": "code",
   "execution_count": 141,
   "id": "4b900f80",
   "metadata": {},
   "outputs": [
    {
     "name": "stdout",
     "output_type": "stream",
     "text": [
      "Value: 424\n"
     ]
    }
   ],
   "source": [
    "# Cell 141 - Operator Overloading Example\n",
    "class Overload141:\n",
    "    def __init__(self, num):\n",
    "        self.num = num\n",
    "\n",
    "    def __add__(self, other):\n",
    "        return Overload141(self.num + other.num + 141)\n",
    "\n",
    "    def __str__(self):\n",
    "        return f\"Value: {self.num}\"\n",
    "\n",
    "objA141 = Overload141(141)\n",
    "objB141 = Overload141(142)\n",
    "result141 = objA141 + objB141\n",
    "print(result141)"
   ]
  },
  {
   "cell_type": "code",
   "execution_count": 142,
   "id": "1bb1af8f",
   "metadata": {},
   "outputs": [
    {
     "name": "stdout",
     "output_type": "stream",
     "text": [
      "Value: 427\n"
     ]
    }
   ],
   "source": [
    "# Cell 142 - Operator Overloading Example\n",
    "class Overload142:\n",
    "    def __init__(self, num):\n",
    "        self.num = num\n",
    "\n",
    "    def __add__(self, other):\n",
    "        return Overload142(self.num + other.num + 142)\n",
    "\n",
    "    def __str__(self):\n",
    "        return f\"Value: {self.num}\"\n",
    "\n",
    "objA142 = Overload142(142)\n",
    "objB142 = Overload142(143)\n",
    "result142 = objA142 + objB142\n",
    "print(result142)"
   ]
  },
  {
   "cell_type": "code",
   "execution_count": 143,
   "id": "1c57335e",
   "metadata": {},
   "outputs": [
    {
     "name": "stdout",
     "output_type": "stream",
     "text": [
      "Value: 430\n"
     ]
    }
   ],
   "source": [
    "# Cell 143 - Operator Overloading Example\n",
    "class Overload143:\n",
    "    def __init__(self, num):\n",
    "        self.num = num\n",
    "\n",
    "    def __add__(self, other):\n",
    "        return Overload143(self.num + other.num + 143)\n",
    "\n",
    "    def __str__(self):\n",
    "        return f\"Value: {self.num}\"\n",
    "\n",
    "objA143 = Overload143(143)\n",
    "objB143 = Overload143(144)\n",
    "result143 = objA143 + objB143\n",
    "print(result143)"
   ]
  },
  {
   "cell_type": "code",
   "execution_count": 144,
   "id": "61076f32",
   "metadata": {},
   "outputs": [
    {
     "name": "stdout",
     "output_type": "stream",
     "text": [
      "Value: 433\n"
     ]
    }
   ],
   "source": [
    "# Cell 144 - Operator Overloading Example\n",
    "class Overload144:\n",
    "    def __init__(self, num):\n",
    "        self.num = num\n",
    "\n",
    "    def __add__(self, other):\n",
    "        return Overload144(self.num + other.num + 144)\n",
    "\n",
    "    def __str__(self):\n",
    "        return f\"Value: {self.num}\"\n",
    "\n",
    "objA144 = Overload144(144)\n",
    "objB144 = Overload144(145)\n",
    "result144 = objA144 + objB144\n",
    "print(result144)"
   ]
  },
  {
   "cell_type": "code",
   "execution_count": 145,
   "id": "83128170",
   "metadata": {},
   "outputs": [
    {
     "name": "stdout",
     "output_type": "stream",
     "text": [
      "Value: 436\n"
     ]
    }
   ],
   "source": [
    "# Cell 145 - Operator Overloading Example\n",
    "class Overload145:\n",
    "    def __init__(self, num):\n",
    "        self.num = num\n",
    "\n",
    "    def __add__(self, other):\n",
    "        return Overload145(self.num + other.num + 145)\n",
    "\n",
    "    def __str__(self):\n",
    "        return f\"Value: {self.num}\"\n",
    "\n",
    "objA145 = Overload145(145)\n",
    "objB145 = Overload145(146)\n",
    "result145 = objA145 + objB145\n",
    "print(result145)"
   ]
  },
  {
   "cell_type": "code",
   "execution_count": 146,
   "id": "d341c1bd",
   "metadata": {},
   "outputs": [
    {
     "name": "stdout",
     "output_type": "stream",
     "text": [
      "Value: 439\n"
     ]
    }
   ],
   "source": [
    "# Cell 146 - Operator Overloading Example\n",
    "class Overload146:\n",
    "    def __init__(self, num):\n",
    "        self.num = num\n",
    "\n",
    "    def __add__(self, other):\n",
    "        return Overload146(self.num + other.num + 146)\n",
    "\n",
    "    def __str__(self):\n",
    "        return f\"Value: {self.num}\"\n",
    "\n",
    "objA146 = Overload146(146)\n",
    "objB146 = Overload146(147)\n",
    "result146 = objA146 + objB146\n",
    "print(result146)"
   ]
  },
  {
   "cell_type": "code",
   "execution_count": 147,
   "id": "fa472cc5",
   "metadata": {},
   "outputs": [
    {
     "name": "stdout",
     "output_type": "stream",
     "text": [
      "Value: 442\n"
     ]
    }
   ],
   "source": [
    "# Cell 147 - Operator Overloading Example\n",
    "class Overload147:\n",
    "    def __init__(self, num):\n",
    "        self.num = num\n",
    "\n",
    "    def __add__(self, other):\n",
    "        return Overload147(self.num + other.num + 147)\n",
    "\n",
    "    def __str__(self):\n",
    "        return f\"Value: {self.num}\"\n",
    "\n",
    "objA147 = Overload147(147)\n",
    "objB147 = Overload147(148)\n",
    "result147 = objA147 + objB147\n",
    "print(result147)"
   ]
  },
  {
   "cell_type": "code",
   "execution_count": 148,
   "id": "d7a69a83",
   "metadata": {},
   "outputs": [
    {
     "name": "stdout",
     "output_type": "stream",
     "text": [
      "Value: 445\n"
     ]
    }
   ],
   "source": [
    "# Cell 148 - Operator Overloading Example\n",
    "class Overload148:\n",
    "    def __init__(self, num):\n",
    "        self.num = num\n",
    "\n",
    "    def __add__(self, other):\n",
    "        return Overload148(self.num + other.num + 148)\n",
    "\n",
    "    def __str__(self):\n",
    "        return f\"Value: {self.num}\"\n",
    "\n",
    "objA148 = Overload148(148)\n",
    "objB148 = Overload148(149)\n",
    "result148 = objA148 + objB148\n",
    "print(result148)"
   ]
  },
  {
   "cell_type": "code",
   "execution_count": 149,
   "id": "3c8e12af",
   "metadata": {},
   "outputs": [
    {
     "name": "stdout",
     "output_type": "stream",
     "text": [
      "Value: 448\n"
     ]
    }
   ],
   "source": [
    "# Cell 149 - Operator Overloading Example\n",
    "class Overload149:\n",
    "    def __init__(self, num):\n",
    "        self.num = num\n",
    "\n",
    "    def __add__(self, other):\n",
    "        return Overload149(self.num + other.num + 149)\n",
    "\n",
    "    def __str__(self):\n",
    "        return f\"Value: {self.num}\"\n",
    "\n",
    "objA149 = Overload149(149)\n",
    "objB149 = Overload149(150)\n",
    "result149 = objA149 + objB149\n",
    "print(result149)"
   ]
  },
  {
   "cell_type": "code",
   "execution_count": 150,
   "id": "25009e71",
   "metadata": {},
   "outputs": [
    {
     "name": "stdout",
     "output_type": "stream",
     "text": [
      "Value: 451\n"
     ]
    }
   ],
   "source": [
    "# Cell 150 - Operator Overloading Example\n",
    "class Overload150:\n",
    "    def __init__(self, num):\n",
    "        self.num = num\n",
    "\n",
    "    def __add__(self, other):\n",
    "        return Overload150(self.num + other.num + 150)\n",
    "\n",
    "    def __str__(self):\n",
    "        return f\"Value: {self.num}\"\n",
    "\n",
    "objA150 = Overload150(150)\n",
    "objB150 = Overload150(151)\n",
    "result150 = objA150 + objB150\n",
    "print(result150)"
   ]
  },
  {
   "cell_type": "code",
   "execution_count": 151,
   "id": "66b68a7e",
   "metadata": {},
   "outputs": [
    {
     "name": "stdout",
     "output_type": "stream",
     "text": [
      "Value: 454\n"
     ]
    }
   ],
   "source": [
    "# Cell 151 - Operator Overloading Example\n",
    "class Overload151:\n",
    "    def __init__(self, num):\n",
    "        self.num = num\n",
    "\n",
    "    def __add__(self, other):\n",
    "        return Overload151(self.num + other.num + 151)\n",
    "\n",
    "    def __str__(self):\n",
    "        return f\"Value: {self.num}\"\n",
    "\n",
    "objA151 = Overload151(151)\n",
    "objB151 = Overload151(152)\n",
    "result151 = objA151 + objB151\n",
    "print(result151)"
   ]
  },
  {
   "cell_type": "code",
   "execution_count": 152,
   "id": "7d1f0799",
   "metadata": {},
   "outputs": [
    {
     "name": "stdout",
     "output_type": "stream",
     "text": [
      "Value: 457\n"
     ]
    }
   ],
   "source": [
    "# Cell 152 - Operator Overloading Example\n",
    "class Overload152:\n",
    "    def __init__(self, num):\n",
    "        self.num = num\n",
    "\n",
    "    def __add__(self, other):\n",
    "        return Overload152(self.num + other.num + 152)\n",
    "\n",
    "    def __str__(self):\n",
    "        return f\"Value: {self.num}\"\n",
    "\n",
    "objA152 = Overload152(152)\n",
    "objB152 = Overload152(153)\n",
    "result152 = objA152 + objB152\n",
    "print(result152)"
   ]
  },
  {
   "cell_type": "code",
   "execution_count": 153,
   "id": "3926a170",
   "metadata": {},
   "outputs": [
    {
     "name": "stdout",
     "output_type": "stream",
     "text": [
      "Value: 460\n"
     ]
    }
   ],
   "source": [
    "# Cell 153 - Operator Overloading Example\n",
    "class Overload153:\n",
    "    def __init__(self, num):\n",
    "        self.num = num\n",
    "\n",
    "    def __add__(self, other):\n",
    "        return Overload153(self.num + other.num + 153)\n",
    "\n",
    "    def __str__(self):\n",
    "        return f\"Value: {self.num}\"\n",
    "\n",
    "objA153 = Overload153(153)\n",
    "objB153 = Overload153(154)\n",
    "result153 = objA153 + objB153\n",
    "print(result153)"
   ]
  },
  {
   "cell_type": "code",
   "execution_count": 154,
   "id": "f094163f",
   "metadata": {},
   "outputs": [
    {
     "name": "stdout",
     "output_type": "stream",
     "text": [
      "Value: 463\n"
     ]
    }
   ],
   "source": [
    "# Cell 154 - Operator Overloading Example\n",
    "class Overload154:\n",
    "    def __init__(self, num):\n",
    "        self.num = num\n",
    "\n",
    "    def __add__(self, other):\n",
    "        return Overload154(self.num + other.num + 154)\n",
    "\n",
    "    def __str__(self):\n",
    "        return f\"Value: {self.num}\"\n",
    "\n",
    "objA154 = Overload154(154)\n",
    "objB154 = Overload154(155)\n",
    "result154 = objA154 + objB154\n",
    "print(result154)"
   ]
  },
  {
   "cell_type": "code",
   "execution_count": 155,
   "id": "99343a2f",
   "metadata": {},
   "outputs": [
    {
     "name": "stdout",
     "output_type": "stream",
     "text": [
      "Value: 466\n"
     ]
    }
   ],
   "source": [
    "# Cell 155 - Operator Overloading Example\n",
    "class Overload155:\n",
    "    def __init__(self, num):\n",
    "        self.num = num\n",
    "\n",
    "    def __add__(self, other):\n",
    "        return Overload155(self.num + other.num + 155)\n",
    "\n",
    "    def __str__(self):\n",
    "        return f\"Value: {self.num}\"\n",
    "\n",
    "objA155 = Overload155(155)\n",
    "objB155 = Overload155(156)\n",
    "result155 = objA155 + objB155\n",
    "print(result155)"
   ]
  },
  {
   "cell_type": "code",
   "execution_count": 156,
   "id": "14db5326",
   "metadata": {},
   "outputs": [
    {
     "name": "stdout",
     "output_type": "stream",
     "text": [
      "Value: 469\n"
     ]
    }
   ],
   "source": [
    "# Cell 156 - Operator Overloading Example\n",
    "class Overload156:\n",
    "    def __init__(self, num):\n",
    "        self.num = num\n",
    "\n",
    "    def __add__(self, other):\n",
    "        return Overload156(self.num + other.num + 156)\n",
    "\n",
    "    def __str__(self):\n",
    "        return f\"Value: {self.num}\"\n",
    "\n",
    "objA156 = Overload156(156)\n",
    "objB156 = Overload156(157)\n",
    "result156 = objA156 + objB156\n",
    "print(result156)"
   ]
  },
  {
   "cell_type": "code",
   "execution_count": 157,
   "id": "a8c481f7",
   "metadata": {},
   "outputs": [
    {
     "name": "stdout",
     "output_type": "stream",
     "text": [
      "Value: 472\n"
     ]
    }
   ],
   "source": [
    "# Cell 157 - Operator Overloading Example\n",
    "class Overload157:\n",
    "    def __init__(self, num):\n",
    "        self.num = num\n",
    "\n",
    "    def __add__(self, other):\n",
    "        return Overload157(self.num + other.num + 157)\n",
    "\n",
    "    def __str__(self):\n",
    "        return f\"Value: {self.num}\"\n",
    "\n",
    "objA157 = Overload157(157)\n",
    "objB157 = Overload157(158)\n",
    "result157 = objA157 + objB157\n",
    "print(result157)"
   ]
  },
  {
   "cell_type": "code",
   "execution_count": 158,
   "id": "0018d130",
   "metadata": {},
   "outputs": [
    {
     "name": "stdout",
     "output_type": "stream",
     "text": [
      "Value: 475\n"
     ]
    }
   ],
   "source": [
    "# Cell 158 - Operator Overloading Example\n",
    "class Overload158:\n",
    "    def __init__(self, num):\n",
    "        self.num = num\n",
    "\n",
    "    def __add__(self, other):\n",
    "        return Overload158(self.num + other.num + 158)\n",
    "\n",
    "    def __str__(self):\n",
    "        return f\"Value: {self.num}\"\n",
    "\n",
    "objA158 = Overload158(158)\n",
    "objB158 = Overload158(159)\n",
    "result158 = objA158 + objB158\n",
    "print(result158)"
   ]
  },
  {
   "cell_type": "code",
   "execution_count": 159,
   "id": "aa2e2e9d",
   "metadata": {},
   "outputs": [
    {
     "name": "stdout",
     "output_type": "stream",
     "text": [
      "Value: 478\n"
     ]
    }
   ],
   "source": [
    "# Cell 159 - Operator Overloading Example\n",
    "class Overload159:\n",
    "    def __init__(self, num):\n",
    "        self.num = num\n",
    "\n",
    "    def __add__(self, other):\n",
    "        return Overload159(self.num + other.num + 159)\n",
    "\n",
    "    def __str__(self):\n",
    "        return f\"Value: {self.num}\"\n",
    "\n",
    "objA159 = Overload159(159)\n",
    "objB159 = Overload159(160)\n",
    "result159 = objA159 + objB159\n",
    "print(result159)"
   ]
  },
  {
   "cell_type": "code",
   "execution_count": 160,
   "id": "92ed9a2b",
   "metadata": {},
   "outputs": [
    {
     "name": "stdout",
     "output_type": "stream",
     "text": [
      "Value: 481\n"
     ]
    }
   ],
   "source": [
    "# Cell 160 - Operator Overloading Example\n",
    "class Overload160:\n",
    "    def __init__(self, num):\n",
    "        self.num = num\n",
    "\n",
    "    def __add__(self, other):\n",
    "        return Overload160(self.num + other.num + 160)\n",
    "\n",
    "    def __str__(self):\n",
    "        return f\"Value: {self.num}\"\n",
    "\n",
    "objA160 = Overload160(160)\n",
    "objB160 = Overload160(161)\n",
    "result160 = objA160 + objB160\n",
    "print(result160)"
   ]
  },
  {
   "cell_type": "code",
   "execution_count": 161,
   "id": "2f2a561c",
   "metadata": {},
   "outputs": [
    {
     "name": "stdout",
     "output_type": "stream",
     "text": [
      "Value: 484\n"
     ]
    }
   ],
   "source": [
    "# Cell 161 - Operator Overloading Example\n",
    "class Overload161:\n",
    "    def __init__(self, num):\n",
    "        self.num = num\n",
    "\n",
    "    def __add__(self, other):\n",
    "        return Overload161(self.num + other.num + 161)\n",
    "\n",
    "    def __str__(self):\n",
    "        return f\"Value: {self.num}\"\n",
    "\n",
    "objA161 = Overload161(161)\n",
    "objB161 = Overload161(162)\n",
    "result161 = objA161 + objB161\n",
    "print(result161)"
   ]
  },
  {
   "cell_type": "code",
   "execution_count": 162,
   "id": "82b2268b",
   "metadata": {},
   "outputs": [
    {
     "name": "stdout",
     "output_type": "stream",
     "text": [
      "Value: 487\n"
     ]
    }
   ],
   "source": [
    "# Cell 162 - Operator Overloading Example\n",
    "class Overload162:\n",
    "    def __init__(self, num):\n",
    "        self.num = num\n",
    "\n",
    "    def __add__(self, other):\n",
    "        return Overload162(self.num + other.num + 162)\n",
    "\n",
    "    def __str__(self):\n",
    "        return f\"Value: {self.num}\"\n",
    "\n",
    "objA162 = Overload162(162)\n",
    "objB162 = Overload162(163)\n",
    "result162 = objA162 + objB162\n",
    "print(result162)"
   ]
  },
  {
   "cell_type": "code",
   "execution_count": 163,
   "id": "2f62f82c",
   "metadata": {},
   "outputs": [
    {
     "name": "stdout",
     "output_type": "stream",
     "text": [
      "Value: 490\n"
     ]
    }
   ],
   "source": [
    "# Cell 163 - Operator Overloading Example\n",
    "class Overload163:\n",
    "    def __init__(self, num):\n",
    "        self.num = num\n",
    "\n",
    "    def __add__(self, other):\n",
    "        return Overload163(self.num + other.num + 163)\n",
    "\n",
    "    def __str__(self):\n",
    "        return f\"Value: {self.num}\"\n",
    "\n",
    "objA163 = Overload163(163)\n",
    "objB163 = Overload163(164)\n",
    "result163 = objA163 + objB163\n",
    "print(result163)"
   ]
  },
  {
   "cell_type": "code",
   "execution_count": 164,
   "id": "d60f59cd",
   "metadata": {},
   "outputs": [
    {
     "name": "stdout",
     "output_type": "stream",
     "text": [
      "Value: 493\n"
     ]
    }
   ],
   "source": [
    "# Cell 164 - Operator Overloading Example\n",
    "class Overload164:\n",
    "    def __init__(self, num):\n",
    "        self.num = num\n",
    "\n",
    "    def __add__(self, other):\n",
    "        return Overload164(self.num + other.num + 164)\n",
    "\n",
    "    def __str__(self):\n",
    "        return f\"Value: {self.num}\"\n",
    "\n",
    "objA164 = Overload164(164)\n",
    "objB164 = Overload164(165)\n",
    "result164 = objA164 + objB164\n",
    "print(result164)"
   ]
  },
  {
   "cell_type": "code",
   "execution_count": 165,
   "id": "9d95e048",
   "metadata": {},
   "outputs": [
    {
     "name": "stdout",
     "output_type": "stream",
     "text": [
      "Value: 496\n"
     ]
    }
   ],
   "source": [
    "# Cell 165 - Operator Overloading Example\n",
    "class Overload165:\n",
    "    def __init__(self, num):\n",
    "        self.num = num\n",
    "\n",
    "    def __add__(self, other):\n",
    "        return Overload165(self.num + other.num + 165)\n",
    "\n",
    "    def __str__(self):\n",
    "        return f\"Value: {self.num}\"\n",
    "\n",
    "objA165 = Overload165(165)\n",
    "objB165 = Overload165(166)\n",
    "result165 = objA165 + objB165\n",
    "print(result165)"
   ]
  },
  {
   "cell_type": "code",
   "execution_count": 166,
   "id": "f5aa2cf9",
   "metadata": {},
   "outputs": [
    {
     "name": "stdout",
     "output_type": "stream",
     "text": [
      "Value: 499\n"
     ]
    }
   ],
   "source": [
    "# Cell 166 - Operator Overloading Example\n",
    "class Overload166:\n",
    "    def __init__(self, num):\n",
    "        self.num = num\n",
    "\n",
    "    def __add__(self, other):\n",
    "        return Overload166(self.num + other.num + 166)\n",
    "\n",
    "    def __str__(self):\n",
    "        return f\"Value: {self.num}\"\n",
    "\n",
    "objA166 = Overload166(166)\n",
    "objB166 = Overload166(167)\n",
    "result166 = objA166 + objB166\n",
    "print(result166)"
   ]
  },
  {
   "cell_type": "code",
   "execution_count": 167,
   "id": "59aec852",
   "metadata": {},
   "outputs": [
    {
     "name": "stdout",
     "output_type": "stream",
     "text": [
      "Value: 502\n"
     ]
    }
   ],
   "source": [
    "# Cell 167 - Operator Overloading Example\n",
    "class Overload167:\n",
    "    def __init__(self, num):\n",
    "        self.num = num\n",
    "\n",
    "    def __add__(self, other):\n",
    "        return Overload167(self.num + other.num + 167)\n",
    "\n",
    "    def __str__(self):\n",
    "        return f\"Value: {self.num}\"\n",
    "\n",
    "objA167 = Overload167(167)\n",
    "objB167 = Overload167(168)\n",
    "result167 = objA167 + objB167\n",
    "print(result167)"
   ]
  },
  {
   "cell_type": "code",
   "execution_count": 168,
   "id": "41790e2a",
   "metadata": {},
   "outputs": [
    {
     "name": "stdout",
     "output_type": "stream",
     "text": [
      "Value: 505\n"
     ]
    }
   ],
   "source": [
    "# Cell 168 - Operator Overloading Example\n",
    "class Overload168:\n",
    "    def __init__(self, num):\n",
    "        self.num = num\n",
    "\n",
    "    def __add__(self, other):\n",
    "        return Overload168(self.num + other.num + 168)\n",
    "\n",
    "    def __str__(self):\n",
    "        return f\"Value: {self.num}\"\n",
    "\n",
    "objA168 = Overload168(168)\n",
    "objB168 = Overload168(169)\n",
    "result168 = objA168 + objB168\n",
    "print(result168)"
   ]
  },
  {
   "cell_type": "code",
   "execution_count": 169,
   "id": "2e48da3b",
   "metadata": {},
   "outputs": [
    {
     "name": "stdout",
     "output_type": "stream",
     "text": [
      "Value: 508\n"
     ]
    }
   ],
   "source": [
    "# Cell 169 - Operator Overloading Example\n",
    "class Overload169:\n",
    "    def __init__(self, num):\n",
    "        self.num = num\n",
    "\n",
    "    def __add__(self, other):\n",
    "        return Overload169(self.num + other.num + 169)\n",
    "\n",
    "    def __str__(self):\n",
    "        return f\"Value: {self.num}\"\n",
    "\n",
    "objA169 = Overload169(169)\n",
    "objB169 = Overload169(170)\n",
    "result169 = objA169 + objB169\n",
    "print(result169)"
   ]
  },
  {
   "cell_type": "code",
   "execution_count": 170,
   "id": "a1ed2c9d",
   "metadata": {},
   "outputs": [
    {
     "name": "stdout",
     "output_type": "stream",
     "text": [
      "Value: 511\n"
     ]
    }
   ],
   "source": [
    "# Cell 170 - Operator Overloading Example\n",
    "class Overload170:\n",
    "    def __init__(self, num):\n",
    "        self.num = num\n",
    "\n",
    "    def __add__(self, other):\n",
    "        return Overload170(self.num + other.num + 170)\n",
    "\n",
    "    def __str__(self):\n",
    "        return f\"Value: {self.num}\"\n",
    "\n",
    "objA170 = Overload170(170)\n",
    "objB170 = Overload170(171)\n",
    "result170 = objA170 + objB170\n",
    "print(result170)"
   ]
  },
  {
   "cell_type": "code",
   "execution_count": 171,
   "id": "dc6fdf18",
   "metadata": {},
   "outputs": [
    {
     "name": "stdout",
     "output_type": "stream",
     "text": [
      "Value: 514\n"
     ]
    }
   ],
   "source": [
    "# Cell 171 - Operator Overloading Example\n",
    "class Overload171:\n",
    "    def __init__(self, num):\n",
    "        self.num = num\n",
    "\n",
    "    def __add__(self, other):\n",
    "        return Overload171(self.num + other.num + 171)\n",
    "\n",
    "    def __str__(self):\n",
    "        return f\"Value: {self.num}\"\n",
    "\n",
    "objA171 = Overload171(171)\n",
    "objB171 = Overload171(172)\n",
    "result171 = objA171 + objB171\n",
    "print(result171)"
   ]
  },
  {
   "cell_type": "code",
   "execution_count": 172,
   "id": "6670c8de",
   "metadata": {},
   "outputs": [
    {
     "name": "stdout",
     "output_type": "stream",
     "text": [
      "Value: 517\n"
     ]
    }
   ],
   "source": [
    "# Cell 172 - Operator Overloading Example\n",
    "class Overload172:\n",
    "    def __init__(self, num):\n",
    "        self.num = num\n",
    "\n",
    "    def __add__(self, other):\n",
    "        return Overload172(self.num + other.num + 172)\n",
    "\n",
    "    def __str__(self):\n",
    "        return f\"Value: {self.num}\"\n",
    "\n",
    "objA172 = Overload172(172)\n",
    "objB172 = Overload172(173)\n",
    "result172 = objA172 + objB172\n",
    "print(result172)"
   ]
  },
  {
   "cell_type": "code",
   "execution_count": 173,
   "id": "7dba39ad",
   "metadata": {},
   "outputs": [
    {
     "name": "stdout",
     "output_type": "stream",
     "text": [
      "Value: 520\n"
     ]
    }
   ],
   "source": [
    "# Cell 173 - Operator Overloading Example\n",
    "class Overload173:\n",
    "    def __init__(self, num):\n",
    "        self.num = num\n",
    "\n",
    "    def __add__(self, other):\n",
    "        return Overload173(self.num + other.num + 173)\n",
    "\n",
    "    def __str__(self):\n",
    "        return f\"Value: {self.num}\"\n",
    "\n",
    "objA173 = Overload173(173)\n",
    "objB173 = Overload173(174)\n",
    "result173 = objA173 + objB173\n",
    "print(result173)"
   ]
  },
  {
   "cell_type": "code",
   "execution_count": 174,
   "id": "92a60051",
   "metadata": {},
   "outputs": [
    {
     "name": "stdout",
     "output_type": "stream",
     "text": [
      "Value: 523\n"
     ]
    }
   ],
   "source": [
    "# Cell 174 - Operator Overloading Example\n",
    "class Overload174:\n",
    "    def __init__(self, num):\n",
    "        self.num = num\n",
    "\n",
    "    def __add__(self, other):\n",
    "        return Overload174(self.num + other.num + 174)\n",
    "\n",
    "    def __str__(self):\n",
    "        return f\"Value: {self.num}\"\n",
    "\n",
    "objA174 = Overload174(174)\n",
    "objB174 = Overload174(175)\n",
    "result174 = objA174 + objB174\n",
    "print(result174)"
   ]
  },
  {
   "cell_type": "code",
   "execution_count": 175,
   "id": "e6d75181",
   "metadata": {},
   "outputs": [
    {
     "name": "stdout",
     "output_type": "stream",
     "text": [
      "Value: 526\n"
     ]
    }
   ],
   "source": [
    "# Cell 175 - Operator Overloading Example\n",
    "class Overload175:\n",
    "    def __init__(self, num):\n",
    "        self.num = num\n",
    "\n",
    "    def __add__(self, other):\n",
    "        return Overload175(self.num + other.num + 175)\n",
    "\n",
    "    def __str__(self):\n",
    "        return f\"Value: {self.num}\"\n",
    "\n",
    "objA175 = Overload175(175)\n",
    "objB175 = Overload175(176)\n",
    "result175 = objA175 + objB175\n",
    "print(result175)"
   ]
  },
  {
   "cell_type": "code",
   "execution_count": 176,
   "id": "c89b76be",
   "metadata": {},
   "outputs": [
    {
     "name": "stdout",
     "output_type": "stream",
     "text": [
      "Value: 529\n"
     ]
    }
   ],
   "source": [
    "# Cell 176 - Operator Overloading Example\n",
    "class Overload176:\n",
    "    def __init__(self, num):\n",
    "        self.num = num\n",
    "\n",
    "    def __add__(self, other):\n",
    "        return Overload176(self.num + other.num + 176)\n",
    "\n",
    "    def __str__(self):\n",
    "        return f\"Value: {self.num}\"\n",
    "\n",
    "objA176 = Overload176(176)\n",
    "objB176 = Overload176(177)\n",
    "result176 = objA176 + objB176\n",
    "print(result176)"
   ]
  },
  {
   "cell_type": "code",
   "execution_count": 177,
   "id": "166d951e",
   "metadata": {},
   "outputs": [
    {
     "name": "stdout",
     "output_type": "stream",
     "text": [
      "Value: 532\n"
     ]
    }
   ],
   "source": [
    "# Cell 177 - Operator Overloading Example\n",
    "class Overload177:\n",
    "    def __init__(self, num):\n",
    "        self.num = num\n",
    "\n",
    "    def __add__(self, other):\n",
    "        return Overload177(self.num + other.num + 177)\n",
    "\n",
    "    def __str__(self):\n",
    "        return f\"Value: {self.num}\"\n",
    "\n",
    "objA177 = Overload177(177)\n",
    "objB177 = Overload177(178)\n",
    "result177 = objA177 + objB177\n",
    "print(result177)"
   ]
  },
  {
   "cell_type": "code",
   "execution_count": 178,
   "id": "4e74fe92",
   "metadata": {},
   "outputs": [
    {
     "name": "stdout",
     "output_type": "stream",
     "text": [
      "Value: 535\n"
     ]
    }
   ],
   "source": [
    "# Cell 178 - Operator Overloading Example\n",
    "class Overload178:\n",
    "    def __init__(self, num):\n",
    "        self.num = num\n",
    "\n",
    "    def __add__(self, other):\n",
    "        return Overload178(self.num + other.num + 178)\n",
    "\n",
    "    def __str__(self):\n",
    "        return f\"Value: {self.num}\"\n",
    "\n",
    "objA178 = Overload178(178)\n",
    "objB178 = Overload178(179)\n",
    "result178 = objA178 + objB178\n",
    "print(result178)"
   ]
  },
  {
   "cell_type": "code",
   "execution_count": 179,
   "id": "a9f36d9d",
   "metadata": {},
   "outputs": [
    {
     "name": "stdout",
     "output_type": "stream",
     "text": [
      "Value: 538\n"
     ]
    }
   ],
   "source": [
    "# Cell 179 - Operator Overloading Example\n",
    "class Overload179:\n",
    "    def __init__(self, num):\n",
    "        self.num = num\n",
    "\n",
    "    def __add__(self, other):\n",
    "        return Overload179(self.num + other.num + 179)\n",
    "\n",
    "    def __str__(self):\n",
    "        return f\"Value: {self.num}\"\n",
    "\n",
    "objA179 = Overload179(179)\n",
    "objB179 = Overload179(180)\n",
    "result179 = objA179 + objB179\n",
    "print(result179)"
   ]
  },
  {
   "cell_type": "code",
   "execution_count": 180,
   "id": "8262b74e",
   "metadata": {},
   "outputs": [
    {
     "name": "stdout",
     "output_type": "stream",
     "text": [
      "Value: 541\n"
     ]
    }
   ],
   "source": [
    "# Cell 180 - Operator Overloading Example\n",
    "class Overload180:\n",
    "    def __init__(self, num):\n",
    "        self.num = num\n",
    "\n",
    "    def __add__(self, other):\n",
    "        return Overload180(self.num + other.num + 180)\n",
    "\n",
    "    def __str__(self):\n",
    "        return f\"Value: {self.num}\"\n",
    "\n",
    "objA180 = Overload180(180)\n",
    "objB180 = Overload180(181)\n",
    "result180 = objA180 + objB180\n",
    "print(result180)"
   ]
  },
  {
   "cell_type": "code",
   "execution_count": 181,
   "id": "0f1e54c3",
   "metadata": {},
   "outputs": [
    {
     "name": "stdout",
     "output_type": "stream",
     "text": [
      "Value: 544\n"
     ]
    }
   ],
   "source": [
    "# Cell 181 - Operator Overloading Example\n",
    "class Overload181:\n",
    "    def __init__(self, num):\n",
    "        self.num = num\n",
    "\n",
    "    def __add__(self, other):\n",
    "        return Overload181(self.num + other.num + 181)\n",
    "\n",
    "    def __str__(self):\n",
    "        return f\"Value: {self.num}\"\n",
    "\n",
    "objA181 = Overload181(181)\n",
    "objB181 = Overload181(182)\n",
    "result181 = objA181 + objB181\n",
    "print(result181)"
   ]
  },
  {
   "cell_type": "code",
   "execution_count": 182,
   "id": "789a4597",
   "metadata": {},
   "outputs": [
    {
     "name": "stdout",
     "output_type": "stream",
     "text": [
      "Value: 547\n"
     ]
    }
   ],
   "source": [
    "# Cell 182 - Operator Overloading Example\n",
    "class Overload182:\n",
    "    def __init__(self, num):\n",
    "        self.num = num\n",
    "\n",
    "    def __add__(self, other):\n",
    "        return Overload182(self.num + other.num + 182)\n",
    "\n",
    "    def __str__(self):\n",
    "        return f\"Value: {self.num}\"\n",
    "\n",
    "objA182 = Overload182(182)\n",
    "objB182 = Overload182(183)\n",
    "result182 = objA182 + objB182\n",
    "print(result182)"
   ]
  },
  {
   "cell_type": "code",
   "execution_count": 183,
   "id": "1cfd58c3",
   "metadata": {},
   "outputs": [
    {
     "name": "stdout",
     "output_type": "stream",
     "text": [
      "Value: 550\n"
     ]
    }
   ],
   "source": [
    "# Cell 183 - Operator Overloading Example\n",
    "class Overload183:\n",
    "    def __init__(self, num):\n",
    "        self.num = num\n",
    "\n",
    "    def __add__(self, other):\n",
    "        return Overload183(self.num + other.num + 183)\n",
    "\n",
    "    def __str__(self):\n",
    "        return f\"Value: {self.num}\"\n",
    "\n",
    "objA183 = Overload183(183)\n",
    "objB183 = Overload183(184)\n",
    "result183 = objA183 + objB183\n",
    "print(result183)"
   ]
  },
  {
   "cell_type": "code",
   "execution_count": 184,
   "id": "b86c214a",
   "metadata": {},
   "outputs": [
    {
     "name": "stdout",
     "output_type": "stream",
     "text": [
      "Value: 553\n"
     ]
    }
   ],
   "source": [
    "# Cell 184 - Operator Overloading Example\n",
    "class Overload184:\n",
    "    def __init__(self, num):\n",
    "        self.num = num\n",
    "\n",
    "    def __add__(self, other):\n",
    "        return Overload184(self.num + other.num + 184)\n",
    "\n",
    "    def __str__(self):\n",
    "        return f\"Value: {self.num}\"\n",
    "\n",
    "objA184 = Overload184(184)\n",
    "objB184 = Overload184(185)\n",
    "result184 = objA184 + objB184\n",
    "print(result184)"
   ]
  },
  {
   "cell_type": "code",
   "execution_count": 185,
   "id": "cb30e0e5",
   "metadata": {},
   "outputs": [
    {
     "name": "stdout",
     "output_type": "stream",
     "text": [
      "Value: 556\n"
     ]
    }
   ],
   "source": [
    "# Cell 185 - Operator Overloading Example\n",
    "class Overload185:\n",
    "    def __init__(self, num):\n",
    "        self.num = num\n",
    "\n",
    "    def __add__(self, other):\n",
    "        return Overload185(self.num + other.num + 185)\n",
    "\n",
    "    def __str__(self):\n",
    "        return f\"Value: {self.num}\"\n",
    "\n",
    "objA185 = Overload185(185)\n",
    "objB185 = Overload185(186)\n",
    "result185 = objA185 + objB185\n",
    "print(result185)"
   ]
  },
  {
   "cell_type": "code",
   "execution_count": 186,
   "id": "bc4c3a2b",
   "metadata": {},
   "outputs": [
    {
     "name": "stdout",
     "output_type": "stream",
     "text": [
      "Value: 559\n"
     ]
    }
   ],
   "source": [
    "# Cell 186 - Operator Overloading Example\n",
    "class Overload186:\n",
    "    def __init__(self, num):\n",
    "        self.num = num\n",
    "\n",
    "    def __add__(self, other):\n",
    "        return Overload186(self.num + other.num + 186)\n",
    "\n",
    "    def __str__(self):\n",
    "        return f\"Value: {self.num}\"\n",
    "\n",
    "objA186 = Overload186(186)\n",
    "objB186 = Overload186(187)\n",
    "result186 = objA186 + objB186\n",
    "print(result186)"
   ]
  },
  {
   "cell_type": "code",
   "execution_count": 187,
   "id": "d75e4935",
   "metadata": {},
   "outputs": [
    {
     "name": "stdout",
     "output_type": "stream",
     "text": [
      "Value: 562\n"
     ]
    }
   ],
   "source": [
    "# Cell 187 - Operator Overloading Example\n",
    "class Overload187:\n",
    "    def __init__(self, num):\n",
    "        self.num = num\n",
    "\n",
    "    def __add__(self, other):\n",
    "        return Overload187(self.num + other.num + 187)\n",
    "\n",
    "    def __str__(self):\n",
    "        return f\"Value: {self.num}\"\n",
    "\n",
    "objA187 = Overload187(187)\n",
    "objB187 = Overload187(188)\n",
    "result187 = objA187 + objB187\n",
    "print(result187)"
   ]
  },
  {
   "cell_type": "code",
   "execution_count": 188,
   "id": "be275642",
   "metadata": {},
   "outputs": [
    {
     "name": "stdout",
     "output_type": "stream",
     "text": [
      "Value: 565\n"
     ]
    }
   ],
   "source": [
    "# Cell 188 - Operator Overloading Example\n",
    "class Overload188:\n",
    "    def __init__(self, num):\n",
    "        self.num = num\n",
    "\n",
    "    def __add__(self, other):\n",
    "        return Overload188(self.num + other.num + 188)\n",
    "\n",
    "    def __str__(self):\n",
    "        return f\"Value: {self.num}\"\n",
    "\n",
    "objA188 = Overload188(188)\n",
    "objB188 = Overload188(189)\n",
    "result188 = objA188 + objB188\n",
    "print(result188)"
   ]
  },
  {
   "cell_type": "code",
   "execution_count": 189,
   "id": "981d5172",
   "metadata": {},
   "outputs": [
    {
     "name": "stdout",
     "output_type": "stream",
     "text": [
      "Value: 568\n"
     ]
    }
   ],
   "source": [
    "# Cell 189 - Operator Overloading Example\n",
    "class Overload189:\n",
    "    def __init__(self, num):\n",
    "        self.num = num\n",
    "\n",
    "    def __add__(self, other):\n",
    "        return Overload189(self.num + other.num + 189)\n",
    "\n",
    "    def __str__(self):\n",
    "        return f\"Value: {self.num}\"\n",
    "\n",
    "objA189 = Overload189(189)\n",
    "objB189 = Overload189(190)\n",
    "result189 = objA189 + objB189\n",
    "print(result189)"
   ]
  },
  {
   "cell_type": "code",
   "execution_count": 190,
   "id": "63fff2ff",
   "metadata": {},
   "outputs": [
    {
     "name": "stdout",
     "output_type": "stream",
     "text": [
      "Value: 571\n"
     ]
    }
   ],
   "source": [
    "# Cell 190 - Operator Overloading Example\n",
    "class Overload190:\n",
    "    def __init__(self, num):\n",
    "        self.num = num\n",
    "\n",
    "    def __add__(self, other):\n",
    "        return Overload190(self.num + other.num + 190)\n",
    "\n",
    "    def __str__(self):\n",
    "        return f\"Value: {self.num}\"\n",
    "\n",
    "objA190 = Overload190(190)\n",
    "objB190 = Overload190(191)\n",
    "result190 = objA190 + objB190\n",
    "print(result190)"
   ]
  },
  {
   "cell_type": "code",
   "execution_count": 191,
   "id": "50840490",
   "metadata": {},
   "outputs": [
    {
     "name": "stdout",
     "output_type": "stream",
     "text": [
      "Value: 574\n"
     ]
    }
   ],
   "source": [
    "# Cell 191 - Operator Overloading Example\n",
    "class Overload191:\n",
    "    def __init__(self, num):\n",
    "        self.num = num\n",
    "\n",
    "    def __add__(self, other):\n",
    "        return Overload191(self.num + other.num + 191)\n",
    "\n",
    "    def __str__(self):\n",
    "        return f\"Value: {self.num}\"\n",
    "\n",
    "objA191 = Overload191(191)\n",
    "objB191 = Overload191(192)\n",
    "result191 = objA191 + objB191\n",
    "print(result191)"
   ]
  },
  {
   "cell_type": "code",
   "execution_count": 192,
   "id": "c406c8cf",
   "metadata": {},
   "outputs": [
    {
     "name": "stdout",
     "output_type": "stream",
     "text": [
      "Value: 577\n"
     ]
    }
   ],
   "source": [
    "# Cell 192 - Operator Overloading Example\n",
    "class Overload192:\n",
    "    def __init__(self, num):\n",
    "        self.num = num\n",
    "\n",
    "    def __add__(self, other):\n",
    "        return Overload192(self.num + other.num + 192)\n",
    "\n",
    "    def __str__(self):\n",
    "        return f\"Value: {self.num}\"\n",
    "\n",
    "objA192 = Overload192(192)\n",
    "objB192 = Overload192(193)\n",
    "result192 = objA192 + objB192\n",
    "print(result192)"
   ]
  },
  {
   "cell_type": "code",
   "execution_count": 193,
   "id": "bbc14fc8",
   "metadata": {},
   "outputs": [
    {
     "name": "stdout",
     "output_type": "stream",
     "text": [
      "Value: 580\n"
     ]
    }
   ],
   "source": [
    "# Cell 193 - Operator Overloading Example\n",
    "class Overload193:\n",
    "    def __init__(self, num):\n",
    "        self.num = num\n",
    "\n",
    "    def __add__(self, other):\n",
    "        return Overload193(self.num + other.num + 193)\n",
    "\n",
    "    def __str__(self):\n",
    "        return f\"Value: {self.num}\"\n",
    "\n",
    "objA193 = Overload193(193)\n",
    "objB193 = Overload193(194)\n",
    "result193 = objA193 + objB193\n",
    "print(result193)"
   ]
  },
  {
   "cell_type": "code",
   "execution_count": 194,
   "id": "44bf90b8",
   "metadata": {},
   "outputs": [
    {
     "name": "stdout",
     "output_type": "stream",
     "text": [
      "Value: 583\n"
     ]
    }
   ],
   "source": [
    "# Cell 194 - Operator Overloading Example\n",
    "class Overload194:\n",
    "    def __init__(self, num):\n",
    "        self.num = num\n",
    "\n",
    "    def __add__(self, other):\n",
    "        return Overload194(self.num + other.num + 194)\n",
    "\n",
    "    def __str__(self):\n",
    "        return f\"Value: {self.num}\"\n",
    "\n",
    "objA194 = Overload194(194)\n",
    "objB194 = Overload194(195)\n",
    "result194 = objA194 + objB194\n",
    "print(result194)"
   ]
  },
  {
   "cell_type": "code",
   "execution_count": 195,
   "id": "a870be45",
   "metadata": {},
   "outputs": [
    {
     "name": "stdout",
     "output_type": "stream",
     "text": [
      "Value: 586\n"
     ]
    }
   ],
   "source": [
    "# Cell 195 - Operator Overloading Example\n",
    "class Overload195:\n",
    "    def __init__(self, num):\n",
    "        self.num = num\n",
    "\n",
    "    def __add__(self, other):\n",
    "        return Overload195(self.num + other.num + 195)\n",
    "\n",
    "    def __str__(self):\n",
    "        return f\"Value: {self.num}\"\n",
    "\n",
    "objA195 = Overload195(195)\n",
    "objB195 = Overload195(196)\n",
    "result195 = objA195 + objB195\n",
    "print(result195)"
   ]
  },
  {
   "cell_type": "code",
   "execution_count": 196,
   "id": "dc3ec0f5",
   "metadata": {},
   "outputs": [
    {
     "name": "stdout",
     "output_type": "stream",
     "text": [
      "Value: 589\n"
     ]
    }
   ],
   "source": [
    "# Cell 196 - Operator Overloading Example\n",
    "class Overload196:\n",
    "    def __init__(self, num):\n",
    "        self.num = num\n",
    "\n",
    "    def __add__(self, other):\n",
    "        return Overload196(self.num + other.num + 196)\n",
    "\n",
    "    def __str__(self):\n",
    "        return f\"Value: {self.num}\"\n",
    "\n",
    "objA196 = Overload196(196)\n",
    "objB196 = Overload196(197)\n",
    "result196 = objA196 + objB196\n",
    "print(result196)"
   ]
  },
  {
   "cell_type": "code",
   "execution_count": 197,
   "id": "5b1fe465",
   "metadata": {},
   "outputs": [
    {
     "name": "stdout",
     "output_type": "stream",
     "text": [
      "Value: 592\n"
     ]
    }
   ],
   "source": [
    "# Cell 197 - Operator Overloading Example\n",
    "class Overload197:\n",
    "    def __init__(self, num):\n",
    "        self.num = num\n",
    "\n",
    "    def __add__(self, other):\n",
    "        return Overload197(self.num + other.num + 197)\n",
    "\n",
    "    def __str__(self):\n",
    "        return f\"Value: {self.num}\"\n",
    "\n",
    "objA197 = Overload197(197)\n",
    "objB197 = Overload197(198)\n",
    "result197 = objA197 + objB197\n",
    "print(result197)"
   ]
  },
  {
   "cell_type": "code",
   "execution_count": 198,
   "id": "83305fb4",
   "metadata": {},
   "outputs": [
    {
     "name": "stdout",
     "output_type": "stream",
     "text": [
      "Value: 595\n"
     ]
    }
   ],
   "source": [
    "# Cell 198 - Operator Overloading Example\n",
    "class Overload198:\n",
    "    def __init__(self, num):\n",
    "        self.num = num\n",
    "\n",
    "    def __add__(self, other):\n",
    "        return Overload198(self.num + other.num + 198)\n",
    "\n",
    "    def __str__(self):\n",
    "        return f\"Value: {self.num}\"\n",
    "\n",
    "objA198 = Overload198(198)\n",
    "objB198 = Overload198(199)\n",
    "result198 = objA198 + objB198\n",
    "print(result198)"
   ]
  },
  {
   "cell_type": "code",
   "execution_count": 199,
   "id": "22062ade",
   "metadata": {},
   "outputs": [
    {
     "name": "stdout",
     "output_type": "stream",
     "text": [
      "Value: 598\n"
     ]
    }
   ],
   "source": [
    "# Cell 199 - Operator Overloading Example\n",
    "class Overload199:\n",
    "    def __init__(self, num):\n",
    "        self.num = num\n",
    "\n",
    "    def __add__(self, other):\n",
    "        return Overload199(self.num + other.num + 199)\n",
    "\n",
    "    def __str__(self):\n",
    "        return f\"Value: {self.num}\"\n",
    "\n",
    "objA199 = Overload199(199)\n",
    "objB199 = Overload199(200)\n",
    "result199 = objA199 + objB199\n",
    "print(result199)"
   ]
  },
  {
   "cell_type": "code",
   "execution_count": 200,
   "id": "f0ede038",
   "metadata": {},
   "outputs": [
    {
     "name": "stdout",
     "output_type": "stream",
     "text": [
      "Value: 601\n"
     ]
    }
   ],
   "source": [
    "# Cell 200 - Operator Overloading Example\n",
    "class Overload200:\n",
    "    def __init__(self, num):\n",
    "        self.num = num\n",
    "\n",
    "    def __add__(self, other):\n",
    "        return Overload200(self.num + other.num + 200)\n",
    "\n",
    "    def __str__(self):\n",
    "        return f\"Value: {self.num}\"\n",
    "\n",
    "objA200 = Overload200(200)\n",
    "objB200 = Overload200(201)\n",
    "result200 = objA200 + objB200\n",
    "print(result200)"
   ]
  }
 ],
 "metadata": {
  "kernelspec": {
   "display_name": "Python 3 (ipykernel)",
   "language": "python",
   "name": "python3"
  },
  "language_info": {
   "codemirror_mode": {
    "name": "ipython",
    "version": 3
   },
   "file_extension": ".py",
   "mimetype": "text/x-python",
   "name": "python",
   "nbconvert_exporter": "python",
   "pygments_lexer": "ipython3",
   "version": "3.12.11"
  }
 },
 "nbformat": 4,
 "nbformat_minor": 5
}
