{
 "cells": [
  {
   "cell_type": "code",
   "execution_count": 4,
   "id": "5ea3a0ba-97b0-4264-8166-68777a5af739",
   "metadata": {},
   "outputs": [
    {
     "name": "stdout",
     "output_type": "stream",
     "text": [
      "Hello, Sara!\n"
     ]
    }
   ],
   "source": [
    "def greet():\n",
    "    print(\"Hello, Sara!\")\n",
    "\n",
    "greet()\n"
   ]
  },
  {
   "cell_type": "code",
   "execution_count": 5,
   "id": "8e0a9b89-8d15-49f1-8802-1c86e97ddee7",
   "metadata": {},
   "outputs": [],
   "source": [
    "def add(a, b):\n",
    "    return a + b"
   ]
  },
  {
   "cell_type": "code",
   "execution_count": 6,
   "id": "c0f66dc1-2cb3-42ad-b675-583262ba09af",
   "metadata": {},
   "outputs": [
    {
     "data": {
      "text/plain": [
       "8"
      ]
     },
     "execution_count": 6,
     "metadata": {},
     "output_type": "execute_result"
    }
   ],
   "source": [
    "add(5, 3)"
   ]
  },
  {
   "cell_type": "code",
   "execution_count": 7,
   "id": "5a892509-ea18-4e30-8378-4e73d8b70376",
   "metadata": {},
   "outputs": [],
   "source": [
    "def say_hello():\n",
    "    print(\"Hello!\")"
   ]
  },
  {
   "cell_type": "code",
   "execution_count": 8,
   "id": "081e394b-9757-4764-ab0d-f989056cb95e",
   "metadata": {},
   "outputs": [],
   "source": [
    "def greet_name(name):\n",
    "    print(f\"Hi {name}!\")"
   ]
  },
  {
   "cell_type": "code",
   "execution_count": 9,
   "id": "b37e1d45-ea0b-48ff-a06f-a8b8d0d464ca",
   "metadata": {},
   "outputs": [],
   "source": [
    "def square(x):\n",
    "    return x * x"
   ]
  },
  {
   "cell_type": "code",
   "execution_count": 10,
   "id": "58298602-f526-42a7-b53b-ee33c536b114",
   "metadata": {},
   "outputs": [],
   "source": [
    "def welcome(name=\"Sara\"):\n",
    "    print(f\"Welcome, {name}!\")"
   ]
  },
  {
   "cell_type": "code",
   "execution_count": 11,
   "id": "878af3f9-f30a-48a9-98eb-e19b8fddbcbc",
   "metadata": {},
   "outputs": [],
   "source": [
    "def intro(name, age):\n",
    "    print(f\"{name} is {age} years old\")"
   ]
  },
  {
   "cell_type": "code",
   "execution_count": 12,
   "id": "3ac0f1e4-4a5d-4c2d-8925-f23358a7f38f",
   "metadata": {},
   "outputs": [
    {
     "name": "stdout",
     "output_type": "stream",
     "text": [
      "Sara is 21 years old\n"
     ]
    }
   ],
   "source": [
    "intro(age=21, name=\"Sara\")"
   ]
  },
  {
   "cell_type": "code",
   "execution_count": 13,
   "id": "8548d6d3-8768-496f-9079-98dec5e62cd3",
   "metadata": {},
   "outputs": [],
   "source": [
    "def total(*nums):\n",
    "    print(sum(nums))"
   ]
  },
  {
   "cell_type": "code",
   "execution_count": 14,
   "id": "3a3a1fa7-a0aa-48d5-aafc-35a5a02176dd",
   "metadata": {},
   "outputs": [
    {
     "name": "stdout",
     "output_type": "stream",
     "text": [
      "10\n"
     ]
    }
   ],
   "source": [
    "total(1, 2, 3, 4)"
   ]
  },
  {
   "cell_type": "code",
   "execution_count": 15,
   "id": "db53362d-ff7e-4022-96fe-f141c8382ef0",
   "metadata": {},
   "outputs": [],
   "source": [
    "def student_details(**kwargs):\n",
    "    for key, value in kwargs.items():\n",
    "        print(f\"{key}: {value}\")"
   ]
  },
  {
   "cell_type": "code",
   "execution_count": 16,
   "id": "9dfa4fb7-8abf-472b-9e5d-17c2f6874251",
   "metadata": {},
   "outputs": [
    {
     "name": "stdout",
     "output_type": "stream",
     "text": [
      "name: Sara\n",
      "age: 20\n",
      "course: AI\n"
     ]
    }
   ],
   "source": [
    "student_details(name=\"Sara\", age=20, course=\"AI\")"
   ]
  },
  {
   "cell_type": "code",
   "execution_count": 17,
   "id": "840cc6ba-29ae-40b2-9f81-c5f08b59e89b",
   "metadata": {},
   "outputs": [],
   "source": [
    "x = 10\n",
    "def func():\n",
    "    x = 5\n",
    "    print(\"Inside:\", x)"
   ]
  },
  {
   "cell_type": "code",
   "execution_count": 18,
   "id": "790b7686-ce7d-4f7d-8461-d3f8b17015a4",
   "metadata": {},
   "outputs": [
    {
     "name": "stdout",
     "output_type": "stream",
     "text": [
      "Inside: 5\n",
      "Outside: 10\n"
     ]
    }
   ],
   "source": [
    "func()\n",
    "print(\"Outside:\", x)"
   ]
  },
  {
   "cell_type": "code",
   "execution_count": 19,
   "id": "b37d845e-d824-49cd-a8fb-9b69a65bb6ad",
   "metadata": {},
   "outputs": [],
   "source": [
    "x = 10\n",
    "def update():\n",
    "    global x\n",
    "    x = 20"
   ]
  },
  {
   "cell_type": "code",
   "execution_count": 20,
   "id": "e79c95f3-8dfb-4fd9-8dbc-53cba11426a6",
   "metadata": {},
   "outputs": [
    {
     "name": "stdout",
     "output_type": "stream",
     "text": [
      "Now x: 20\n"
     ]
    }
   ],
   "source": [
    "update()\n",
    "print(\"Now x:\", x)"
   ]
  },
  {
   "cell_type": "code",
   "execution_count": 21,
   "id": "2a9c9477-70e0-40dd-947c-e0142666baf5",
   "metadata": {},
   "outputs": [
    {
     "name": "stdout",
     "output_type": "stream",
     "text": [
      "36\n"
     ]
    }
   ],
   "source": [
    "square = lambda x: x * x\n",
    "print(square(6))\n"
   ]
  },
  {
   "cell_type": "code",
   "execution_count": 22,
   "id": "218225b7-e509-46d5-bc2b-54df17f87246",
   "metadata": {},
   "outputs": [
    {
     "data": {
      "text/plain": [
       "5"
      ]
     },
     "execution_count": 22,
     "metadata": {},
     "output_type": "execute_result"
    }
   ],
   "source": [
    "add = lambda a, b: a + b\n",
    "add(2, 3)\n"
   ]
  },
  {
   "cell_type": "code",
   "execution_count": 23,
   "id": "936b3579-bad4-4c73-9721-32f7504948ff",
   "metadata": {},
   "outputs": [
    {
     "name": "stdout",
     "output_type": "stream",
     "text": [
      "[1, 4, 9, 16]\n"
     ]
    }
   ],
   "source": [
    "nums = [1, 2, 3, 4]\n",
    "squares = list(map(lambda x: x**2, nums))\n",
    "print(squares)\n"
   ]
  },
  {
   "cell_type": "code",
   "execution_count": 24,
   "id": "ba4a025d-49b9-4a3b-baed-c4e296df7690",
   "metadata": {},
   "outputs": [
    {
     "name": "stdout",
     "output_type": "stream",
     "text": [
      "[2, 4]\n"
     ]
    }
   ],
   "source": [
    "evens = list(filter(lambda x: x % 2 == 0, nums))\n",
    "print(evens)\n"
   ]
  },
  {
   "cell_type": "code",
   "execution_count": 25,
   "id": "668e91fa-2792-4886-a42e-6c829923cc03",
   "metadata": {},
   "outputs": [
    {
     "name": "stdout",
     "output_type": "stream",
     "text": [
      "10\n"
     ]
    }
   ],
   "source": [
    "from functools import reduce\n",
    "total = reduce(lambda a, b: a + b, nums)\n",
    "print(total)\n"
   ]
  },
  {
   "cell_type": "code",
   "execution_count": 26,
   "id": "5734e102-f522-49aa-bb6d-58e89ffcbf77",
   "metadata": {},
   "outputs": [
    {
     "data": {
      "text/plain": [
       "50"
      ]
     },
     "execution_count": 26,
     "metadata": {},
     "output_type": "execute_result"
    }
   ],
   "source": [
    "# Mini calculator\n",
    "def calc(a, b, op):\n",
    "    if op == '+': return a + b\n",
    "    elif op == '-': return a - b\n",
    "    elif op == '*': return a * b\n",
    "    elif op == '/': return a / b\n",
    "    else: return \"Invalid\"\n",
    "\n",
    "calc(10, 5, '*')\n"
   ]
  },
  {
   "cell_type": "code",
   "execution_count": 29,
   "id": "9b45c284-b474-492f-a10a-e625a6a130a3",
   "metadata": {},
   "outputs": [
    {
     "name": "stdin",
     "output_type": "stream",
     "text": [
      "Enter a:  2\n",
      "Enter b:  2\n",
      "Enter operator (+ - * /):  +\n"
     ]
    },
    {
     "name": "stdout",
     "output_type": "stream",
     "text": [
      "Result: 4\n"
     ]
    }
   ],
   "source": [
    "\n",
    "# Use input + call functions\n",
    "def main():\n",
    "    a = int(input(\"Enter a: \"))\n",
    "    b = int(input(\"Enter b: \"))\n",
    "    op = input(\"Enter operator (+ - * /): \")\n",
    "    print(\"Result:\", calc(a, b, op))\n",
    "\n",
    "main() \n"
   ]
  },
  {
   "cell_type": "code",
   "execution_count": null,
   "id": "d7f7b01c-9cf6-4c65-9c1f-9d32213ab156",
   "metadata": {},
   "outputs": [],
   "source": []
  },
  {
   "cell_type": "code",
   "execution_count": null,
   "id": "6cf8a3b6-4d8f-47d0-9c03-69a22d1365df",
   "metadata": {},
   "outputs": [],
   "source": []
  },
  {
   "cell_type": "code",
   "execution_count": null,
   "id": "fb9396e4-dfcf-4562-acfb-11a6f737dc9a",
   "metadata": {},
   "outputs": [],
   "source": []
  },
  {
   "cell_type": "code",
   "execution_count": null,
   "id": "9b6fd62d-0fe0-4587-ac1c-f99e7789f6c7",
   "metadata": {},
   "outputs": [],
   "source": []
  },
  {
   "cell_type": "code",
   "execution_count": null,
   "id": "4cb83d43-8cc7-4dbe-98ae-318e9ce37539",
   "metadata": {},
   "outputs": [],
   "source": []
  }
 ],
 "metadata": {
  "kernelspec": {
   "display_name": "Python 3 (ipykernel)",
   "language": "python",
   "name": "python3"
  },
  "language_info": {
   "codemirror_mode": {
    "name": "ipython",
    "version": 3
   },
   "file_extension": ".py",
   "mimetype": "text/x-python",
   "name": "python",
   "nbconvert_exporter": "python",
   "pygments_lexer": "ipython3",
   "version": "3.12.11"
  }
 },
 "nbformat": 4,
 "nbformat_minor": 5
}
