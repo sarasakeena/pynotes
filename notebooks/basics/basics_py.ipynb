{
 "cells": [
  {
   "cell_type": "code",
   "execution_count": 1,
   "id": "8c9e7dad-5f2a-4449-bf74-d5389caca73b",
   "metadata": {},
   "outputs": [],
   "source": [
    "# Declare variable\n",
    "x = 5\n"
   ]
  },
  {
   "cell_type": "code",
   "execution_count": 2,
   "id": "6a939cfd-3666-4fa4-a6fa-ae4a5ff8889a",
   "metadata": {},
   "outputs": [
    {
     "name": "stdout",
     "output_type": "stream",
     "text": [
      "5\n"
     ]
    }
   ],
   "source": [
    "# Print variable\n",
    "print(x)\n"
   ]
  },
  {
   "cell_type": "code",
   "execution_count": 3,
   "id": "c87a9b0d-d2c7-46ac-b836-ce965beebe55",
   "metadata": {},
   "outputs": [],
   "source": [
    "# Update variable\n",
    "x = 10\n"
   ]
  },
  {
   "cell_type": "code",
   "execution_count": 4,
   "id": "b511cba6-5c86-4042-9844-29d1c099c56d",
   "metadata": {},
   "outputs": [
    {
     "name": "stdout",
     "output_type": "stream",
     "text": [
      "Updated x: 10\n"
     ]
    }
   ],
   "source": [
    "# Print new value\n",
    "print(\"Updated x:\", x)\n"
   ]
  },
  {
   "cell_type": "code",
   "execution_count": 5,
   "id": "f0e1a6e6-76ab-46d2-a057-76fc54713430",
   "metadata": {},
   "outputs": [],
   "source": [
    "text = \"Hello Sara\"\n"
   ]
  },
  {
   "cell_type": "code",
   "execution_count": 6,
   "id": "172c9999-8255-4e88-bbb1-7d9c9510b118",
   "metadata": {},
   "outputs": [
    {
     "name": "stdout",
     "output_type": "stream",
     "text": [
      "Hello Sara\n"
     ]
    }
   ],
   "source": [
    "print(text)\n"
   ]
  },
  {
   "cell_type": "code",
   "execution_count": 7,
   "id": "f4d7b675-1469-444a-877a-bbdaac09ab33",
   "metadata": {},
   "outputs": [
    {
     "name": "stdout",
     "output_type": "stream",
     "text": [
      "Length: 10\n"
     ]
    }
   ],
   "source": [
    "print(\"Length:\", len(text))\n"
   ]
  },
  {
   "cell_type": "code",
   "execution_count": 8,
   "id": "71ec09ed-19af-4789-8abb-3aa967053353",
   "metadata": {},
   "outputs": [
    {
     "name": "stdout",
     "output_type": "stream",
     "text": [
      "Upper: HELLO SARA\n"
     ]
    }
   ],
   "source": [
    "print(\"Upper:\", text.upper())\n"
   ]
  },
  {
   "cell_type": "code",
   "execution_count": 9,
   "id": "84701598-7c4e-4a82-998d-d884dbf00cc8",
   "metadata": {},
   "outputs": [
    {
     "name": "stdout",
     "output_type": "stream",
     "text": [
      "Replace: Hello Queen\n"
     ]
    }
   ],
   "source": [
    "print(\"Replace:\", text.replace(\"Sara\", \"Queen\"))\n"
   ]
  },
  {
   "cell_type": "code",
   "execution_count": 10,
   "id": "00b8c0b3-356a-4a42-8832-01271a0bbbaa",
   "metadata": {},
   "outputs": [],
   "source": [
    "fruits = [\"apple\", \"banana\", \"cherry\"]\n"
   ]
  },
  {
   "cell_type": "code",
   "execution_count": 11,
   "id": "015b7201-298c-4855-8b61-d554541f8ae3",
   "metadata": {},
   "outputs": [
    {
     "name": "stdout",
     "output_type": "stream",
     "text": [
      "apple\n"
     ]
    }
   ],
   "source": [
    "print(fruits[0])\n"
   ]
  },
  {
   "cell_type": "code",
   "execution_count": 12,
   "id": "54765f68-8217-40ab-a249-b1f4cf9308ed",
   "metadata": {},
   "outputs": [],
   "source": [
    "fruits.append(\"orange\")\n"
   ]
  },
  {
   "cell_type": "code",
   "execution_count": 13,
   "id": "410a32ba-13a6-4c4d-98de-7ac765e83c4b",
   "metadata": {},
   "outputs": [
    {
     "name": "stdout",
     "output_type": "stream",
     "text": [
      "['apple', 'banana', 'cherry', 'orange']\n"
     ]
    }
   ],
   "source": [
    "print(fruits)\n"
   ]
  },
  {
   "cell_type": "code",
   "execution_count": 14,
   "id": "13deec42-ef22-49bd-816e-b3a4c287b48e",
   "metadata": {},
   "outputs": [],
   "source": [
    "fruits.remove(\"banana\")\n",
    "    "
   ]
  },
  {
   "cell_type": "code",
   "execution_count": 15,
   "id": "08dfeac8-5fcf-427c-96cc-23d26b8032b0",
   "metadata": {},
   "outputs": [
    {
     "name": "stdout",
     "output_type": "stream",
     "text": [
      "['apple', 'cherry', 'orange']\n"
     ]
    }
   ],
   "source": [
    "print(fruits)\n"
   ]
  },
  {
   "cell_type": "code",
   "execution_count": 16,
   "id": "68cf84ae-c8da-473d-bd82-b6123952933d",
   "metadata": {},
   "outputs": [],
   "source": [
    "a = 15\n",
    "b = 4\n"
   ]
  },
  {
   "cell_type": "code",
   "execution_count": 17,
   "id": "488dc478-8eca-46bd-92a4-d13848843ab2",
   "metadata": {},
   "outputs": [
    {
     "name": "stdout",
     "output_type": "stream",
     "text": [
      "Addition: 19\n"
     ]
    }
   ],
   "source": [
    "print(\"Addition:\", a + b)\n"
   ]
  },
  {
   "cell_type": "code",
   "execution_count": 18,
   "id": "4af5f950-570e-4385-a1a7-cb5df4943d67",
   "metadata": {},
   "outputs": [
    {
     "name": "stdout",
     "output_type": "stream",
     "text": [
      "Subtraction: 11\n"
     ]
    }
   ],
   "source": [
    "print(\"Subtraction:\", a - b)\n"
   ]
  },
  {
   "cell_type": "code",
   "execution_count": 19,
   "id": "d2572721-f835-4dde-8410-c9991f4a4de7",
   "metadata": {},
   "outputs": [
    {
     "name": "stdout",
     "output_type": "stream",
     "text": [
      "Multiplication: 60\n"
     ]
    }
   ],
   "source": [
    "print(\"Multiplication:\", a * b)\n"
   ]
  },
  {
   "cell_type": "code",
   "execution_count": 20,
   "id": "3b066076-f9ca-49df-962c-56e779e464d8",
   "metadata": {},
   "outputs": [
    {
     "name": "stdout",
     "output_type": "stream",
     "text": [
      "Division: 3.75\n"
     ]
    }
   ],
   "source": [
    "print(\"Division:\", a / b)\n"
   ]
  },
  {
   "cell_type": "code",
   "execution_count": 21,
   "id": "7f310fa5-7f7b-4046-a42f-ae4c67a5ff88",
   "metadata": {},
   "outputs": [
    {
     "name": "stdout",
     "output_type": "stream",
     "text": [
      "Modulus: 3\n"
     ]
    }
   ],
   "source": [
    "print(\"Modulus:\", a % b)\n"
   ]
  },
  {
   "cell_type": "code",
   "execution_count": 22,
   "id": "b6a5dddd-57d1-4af1-ba29-8573574015e4",
   "metadata": {},
   "outputs": [
    {
     "name": "stdout",
     "output_type": "stream",
     "text": [
      "Exponentiation: 50625\n"
     ]
    }
   ],
   "source": [
    "print(\"Exponentiation:\", a ** b)\n"
   ]
  },
  {
   "cell_type": "code",
   "execution_count": 23,
   "id": "0f025eb3-ecfd-4da3-b0ff-e94a88b27fa5",
   "metadata": {},
   "outputs": [
    {
     "name": "stdout",
     "output_type": "stream",
     "text": [
      "Integer: 5\n"
     ]
    }
   ],
   "source": [
    "# Casting to int\n",
    "num = int(\"5\")\n",
    "print(\"Integer:\", num)\n"
   ]
  },
  {
   "cell_type": "code",
   "execution_count": 24,
   "id": "5ba2d2af-d67f-47d3-af5c-e81522bbc977",
   "metadata": {},
   "outputs": [
    {
     "name": "stdout",
     "output_type": "stream",
     "text": [
      "Float: 3.14\n"
     ]
    }
   ],
   "source": [
    "# Casting to float\n",
    "f = float(\"3.14\")\n",
    "print(\"Float:\", f)\n"
   ]
  },
  {
   "cell_type": "code",
   "execution_count": 25,
   "id": "2ce54258-a13b-454b-a1e8-05826c54e73a",
   "metadata": {},
   "outputs": [
    {
     "name": "stdout",
     "output_type": "stream",
     "text": [
      "String: 123\n"
     ]
    }
   ],
   "source": [
    "# Casting to string\n",
    "s = str(123)\n",
    "print(\"String:\", s)\n"
   ]
  },
  {
   "cell_type": "code",
   "execution_count": 26,
   "id": "2052132e-333d-4575-b6a8-9ebd10093a69",
   "metadata": {},
   "outputs": [
    {
     "name": "stdout",
     "output_type": "stream",
     "text": [
      "<class 'float'>\n"
     ]
    }
   ],
   "source": [
    "# Type checking\n",
    "print(type(f))\n"
   ]
  },
  {
   "cell_type": "code",
   "execution_count": 27,
   "id": "4b1b9ded-ad20-466c-ac22-bf941bde2b98",
   "metadata": {},
   "outputs": [
    {
     "name": "stdout",
     "output_type": "stream",
     "text": [
      "<class 'str'>\n"
     ]
    }
   ],
   "source": [
    "print(type(s))\n"
   ]
  },
  {
   "cell_type": "code",
   "execution_count": 28,
   "id": "759d7897-7d1c-4635-9701-8711778e22fc",
   "metadata": {},
   "outputs": [
    {
     "name": "stdout",
     "output_type": "stream",
     "text": [
      "For loop iteration: 0\n",
      "For loop iteration: 1\n",
      "For loop iteration: 2\n"
     ]
    }
   ],
   "source": [
    "# For loop\n",
    "for i in range(3):\n",
    "    print(\"For loop iteration:\", i)\n"
   ]
  },
  {
   "cell_type": "code",
   "execution_count": 29,
   "id": "1df2b56e-6922-4a52-ad91-7966c273d8d9",
   "metadata": {},
   "outputs": [
    {
     "name": "stdout",
     "output_type": "stream",
     "text": [
      "While loop count: 0\n",
      "While loop count: 1\n"
     ]
    }
   ],
   "source": [
    "# While loop\n",
    "count = 0\n",
    "while count < 2:\n",
    "    print(\"While loop count:\", count)\n",
    "    count += 1\n"
   ]
  },
  {
   "cell_type": "code",
   "execution_count": 30,
   "id": "4cb29319-d502-4c5f-97ce-bd0decf96995",
   "metadata": {},
   "outputs": [
    {
     "name": "stdout",
     "output_type": "stream",
     "text": [
      "Breaking at: 0\n",
      "Breaking at: 1\n",
      "Breaking at: 2\n"
     ]
    }
   ],
   "source": [
    "# Break\n",
    "for i in range(5):\n",
    "    if i == 3:\n",
    "        break\n",
    "    print(\"Breaking at:\", i)\n"
   ]
  },
  {
   "cell_type": "code",
   "execution_count": 31,
   "id": "bb0dd005-a2e9-4cc3-901d-7c2270728dfc",
   "metadata": {},
   "outputs": [
    {
     "name": "stdout",
     "output_type": "stream",
     "text": [
      "Continue at: 0\n",
      "Continue at: 1\n",
      "Continue at: 3\n",
      "Continue at: 4\n"
     ]
    }
   ],
   "source": [
    "# Continue\n",
    "for i in range(5):\n",
    "    if i == 2:\n",
    "        continue\n",
    "    print(\"Continue at:\", i)\n"
   ]
  },
  {
   "cell_type": "code",
   "execution_count": 32,
   "id": "2d9e0261-e437-4b68-a325-1a069e6944f7",
   "metadata": {},
   "outputs": [
    {
     "name": "stdout",
     "output_type": "stream",
     "text": [
      "Continue at: 0\n",
      "Continue at: 1\n",
      "Continue at: 3\n",
      "Continue at: 4\n"
     ]
    }
   ],
   "source": [
    "# Continue\n",
    "for i in range(5):\n",
    "    if i == 2:\n",
    "        continue\n",
    "    print(\"Continue at:\", i)\n"
   ]
  },
  {
   "cell_type": "code",
   "execution_count": 33,
   "id": "665d39bb-4239-474d-ab2d-c3bc64f06d1e",
   "metadata": {},
   "outputs": [],
   "source": [
    "# Pass\n",
    "for i in range(1):\n",
    "    pass  # Placeholder\n"
   ]
  },
  {
   "cell_type": "code",
   "execution_count": 34,
   "id": "40d02bda-174a-4920-a272-d5f2853e9faf",
   "metadata": {},
   "outputs": [],
   "source": [
    "# Pass\n",
    "for i in range(1):\n",
    "    pass  # Placeholder\n"
   ]
  },
  {
   "cell_type": "code",
   "execution_count": 35,
   "id": "9423042a-8aa9-4c02-ab8f-d868a7961c57",
   "metadata": {},
   "outputs": [
    {
     "name": "stdout",
     "output_type": "stream",
     "text": [
      "x is greater than 5\n"
     ]
    }
   ],
   "source": [
    "x = 10\n",
    "if x > 5:\n",
    "    print(\"x is greater than 5\")\n"
   ]
  },
  {
   "cell_type": "code",
   "execution_count": 36,
   "id": "ba7eb246-e960-4b62-8b25-786127c77bdc",
   "metadata": {},
   "outputs": [
    {
     "name": "stdout",
     "output_type": "stream",
     "text": [
      "x is exactly 10\n"
     ]
    }
   ],
   "source": [
    "if x == 10:\n",
    "    print(\"x is exactly 10\")\n"
   ]
  },
  {
   "cell_type": "code",
   "execution_count": 37,
   "id": "a2d4c542-77eb-4df7-87c8-f9e5fe791a1f",
   "metadata": {},
   "outputs": [
    {
     "name": "stdout",
     "output_type": "stream",
     "text": [
      "x is not less than 5\n"
     ]
    }
   ],
   "source": [
    "if x < 5:\n",
    "    print(\"x is less than 5\")\n",
    "else:\n",
    "    print(\"x is not less than 5\")\n"
   ]
  },
  {
   "cell_type": "code",
   "execution_count": 38,
   "id": "a71e96ba-0f82-4627-b57a-407f8e107091",
   "metadata": {},
   "outputs": [
    {
     "name": "stdout",
     "output_type": "stream",
     "text": [
      "x is between 5 and 15\n"
     ]
    }
   ],
   "source": [
    "if x > 5 and x < 15:\n",
    "    print(\"x is between 5 and 15\")\n"
   ]
  },
  {
   "cell_type": "code",
   "execution_count": 39,
   "id": "4c270d71-0d2c-4892-9bb1-471caf5621ea",
   "metadata": {},
   "outputs": [
    {
     "name": "stdout",
     "output_type": "stream",
     "text": [
      "x is either 5 or 10\n"
     ]
    }
   ],
   "source": [
    "if x == 5 or x == 10:\n",
    "    print(\"x is either 5 or 10\")\n"
   ]
  },
  {
   "cell_type": "code",
   "execution_count": 40,
   "id": "be7de5ef-a176-4850-b730-7b41b5a1c90a",
   "metadata": {},
   "outputs": [
    {
     "name": "stdout",
     "output_type": "stream",
     "text": [
      "basics done\n"
     ]
    }
   ],
   "source": [
    "print(\"basics done\")"
   ]
  },
  {
   "cell_type": "code",
   "execution_count": null,
   "id": "4a84e757-a677-4095-8667-4c74c88e5f60",
   "metadata": {},
   "outputs": [],
   "source": []
  },
  {
   "cell_type": "code",
   "execution_count": null,
   "id": "576c941e-d2d2-4200-bb6e-f9d2f6ed4a3d",
   "metadata": {},
   "outputs": [],
   "source": []
  }
 ],
 "metadata": {
  "kernelspec": {
   "display_name": "Python 3 (ipykernel)",
   "language": "python",
   "name": "python3"
  },
  "language_info": {
   "codemirror_mode": {
    "name": "ipython",
    "version": 3
   },
   "file_extension": ".py",
   "mimetype": "text/x-python",
   "name": "python",
   "nbconvert_exporter": "python",
   "pygments_lexer": "ipython3",
   "version": "3.12.11"
  }
 },
 "nbformat": 4,
 "nbformat_minor": 5
}
