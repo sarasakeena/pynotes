{
 "cells": [
  {
   "cell_type": "code",
   "execution_count": 11,
   "id": "611e3c66-e212-468d-b6cd-411e87e76c29",
   "metadata": {},
   "outputs": [],
   "source": [
    "# Writing a file\n",
    "file = open(\"sara.txt\", \"w\")\n",
    "file.write(\"Sara\\n\")\n",
    "file.close()\n",
    "\n"
   ]
  },
  {
   "cell_type": "code",
   "execution_count": 12,
   "id": "a6430d12-f7cf-439d-8c43-25f9acc74993",
   "metadata": {},
   "outputs": [
    {
     "name": "stdout",
     "output_type": "stream",
     "text": [
      "Sara\n",
      "\n"
     ]
    }
   ],
   "source": [
    "# Reading the file\n",
    "file = open(\"sara.txt\", \"r\")\n",
    "print(file.read())\n",
    "file.close()\n",
    "\n"
   ]
  },
  {
   "cell_type": "code",
   "execution_count": 13,
   "id": "1cc2c408-7c0b-4cd0-b9f0-60a9030aec6d",
   "metadata": {},
   "outputs": [],
   "source": [
    "# Writing multiple lines\n",
    "lines = [\"Line 1\\n\", \"Line 2\\n\", \"Line 3\\n\"]\n",
    "file = open(\"lines.txt\", \"w\")\n",
    "file.writelines(lines)\n",
    "file.close()\n"
   ]
  },
  {
   "cell_type": "code",
   "execution_count": 14,
   "id": "0fb4b6ba-f2d6-48dc-ad76-32cb96a7111a",
   "metadata": {},
   "outputs": [
    {
     "name": "stdout",
     "output_type": "stream",
     "text": [
      "['Line 1\\n', 'Line 2\\n', 'Line 3\\n']\n"
     ]
    }
   ],
   "source": [
    "# Reading multiple lines\n",
    "file = open(\"lines.txt\", \"r\")\n",
    "print(file.readlines())\n",
    "file.close()\n"
   ]
  },
  {
   "cell_type": "code",
   "execution_count": 15,
   "id": "fba6635c-5cf9-4702-9978-afc78b710ef8",
   "metadata": {},
   "outputs": [],
   "source": [
    "# Appending to a file\n",
    "file = open(\"sara.txt\", \"a\")\n",
    "file.write(\"Keep shining!\\n\")\n",
    "file.close()\n"
   ]
  },
  {
   "cell_type": "code",
   "execution_count": 16,
   "id": "98b4ac0e-5d2c-4c80-991a-5f3df0616c27",
   "metadata": {},
   "outputs": [
    {
     "name": "stdout",
     "output_type": "stream",
     "text": [
      "Sara\n",
      "Keep shining!\n",
      "\n"
     ]
    }
   ],
   "source": [
    "# Read after append\n",
    "with open(\"sara.txt\", \"r\") as f:\n",
    "    print(f.read())\n"
   ]
  },
  {
   "cell_type": "code",
   "execution_count": 17,
   "id": "ebb344b9-4d89-4447-9a69-d6d342ba21ed",
   "metadata": {},
   "outputs": [
    {
     "name": "stdout",
     "output_type": "stream",
     "text": [
      "Line: Line 1\n",
      "Line: Line 2\n",
      "Line: Line 3\n"
     ]
    }
   ],
   "source": [
    "# Reading line by line\n",
    "with open(\"lines.txt\", \"r\") as f:\n",
    "    for line in f:\n",
    "        print(\"Line:\", line.strip())\n"
   ]
  },
  {
   "cell_type": "code",
   "execution_count": 18,
   "id": "15464585-3ee7-48d9-a026-a2c7c3581a83",
   "metadata": {},
   "outputs": [],
   "source": [
    "# Using with to write\n",
    "with open(\"safe.txt\", \"w\") as f:\n",
    "    f.write(\"This is safe.\")\n"
   ]
  },
  {
   "cell_type": "code",
   "execution_count": 19,
   "id": "639ceb4a-9c69-4fb6-bb85-f367cb3c5559",
   "metadata": {},
   "outputs": [
    {
     "name": "stdout",
     "output_type": "stream",
     "text": [
      "Modes: ['r', 'w', 'a', 'r+']\n"
     ]
    }
   ],
   "source": [
    "# File modes demo\n",
    "modes = ['r', 'w', 'a', 'r+']\n",
    "print(\"Modes:\", modes)\n"
   ]
  },
  {
   "cell_type": "code",
   "execution_count": 20,
   "id": "e8165f91-9815-400e-8af6-7e56b284cd8d",
   "metadata": {},
   "outputs": [
    {
     "name": "stdout",
     "output_type": "stream",
     "text": [
      "Error: [Errno 2] No such file or directory: 'nofile.txt'\n"
     ]
    }
   ],
   "source": [
    "# Try reading a non-existent file\n",
    "try:\n",
    "    open(\"nofile.txt\", \"r\")\n",
    "except FileNotFoundError as e:\n",
    "    print(\"Error:\", e)\n"
   ]
  },
  {
   "cell_type": "code",
   "execution_count": 21,
   "id": "88b829ac-bec8-493a-95be-09a61fc1c366",
   "metadata": {},
   "outputs": [
    {
     "name": "stdout",
     "output_type": "stream",
     "text": [
      "Reading: Line 1\n",
      "Line 2\n",
      "Line 3\n",
      "\n"
     ]
    }
   ],
   "source": [
    "# 'r+' mode\n",
    "with open(\"lines.txt\", \"r+\") as f:\n",
    "    print(\"Reading:\", f.read())\n"
   ]
  },
  {
   "cell_type": "code",
   "execution_count": 22,
   "id": "4d3eb5e5-90cb-4927-940f-e1ece4788c76",
   "metadata": {},
   "outputs": [
    {
     "name": "stdout",
     "output_type": "stream",
     "text": [
      "Line 1\n",
      "Line 2\n",
      "Line 3\n",
      "Appended via a+\n",
      "\n"
     ]
    }
   ],
   "source": [
    "# 'a+' mode\n",
    "with open(\"lines.txt\", \"a+\") as f:\n",
    "    f.write(\"Appended via a+\\n\")\n",
    "    f.seek(0)\n",
    "    print(f.read())\n"
   ]
  },
  {
   "cell_type": "code",
   "execution_count": 23,
   "id": "df1f3f48-4d20-44c6-8740-d0375014f33f",
   "metadata": {},
   "outputs": [
    {
     "name": "stdout",
     "output_type": "stream",
     "text": [
      "Closed? False\n",
      "Closed after closing? True\n"
     ]
    }
   ],
   "source": [
    "# Checking if file is closed\n",
    "f = open(\"temp.txt\", \"w\")\n",
    "f.write(\"Testing closed\")\n",
    "print(\"Closed?\", f.closed)\n",
    "f.close()\n",
    "print(\"Closed after closing?\", f.closed)\n"
   ]
  },
  {
   "cell_type": "code",
   "execution_count": 24,
   "id": "2d1abc40-ae22-49d8-8ff7-dd4fcf5c3a76",
   "metadata": {},
   "outputs": [
    {
     "name": "stdout",
     "output_type": "stream",
     "text": [
      "Pointer at: 0\n",
      "Pointer after read: 5\n"
     ]
    }
   ],
   "source": [
    "# File pointer position\n",
    "with open(\"lines.txt\", \"r\") as f:\n",
    "    print(\"Pointer at:\", f.tell())\n",
    "    f.read(5)\n",
    "    print(\"Pointer after read:\", f.tell())\n"
   ]
  },
  {
   "cell_type": "code",
   "execution_count": 25,
   "id": "041fc982-0489-420a-9cd0-d86ca0e06dd7",
   "metadata": {},
   "outputs": [
    {
     "name": "stdout",
     "output_type": "stream",
     "text": [
      "Start: Line 1\n"
     ]
    }
   ],
   "source": [
    "# Seek to start\n",
    "with open(\"lines.txt\", \"r\") as f:\n",
    "    f.seek(0)\n",
    "    print(\"Start:\", f.read(6))\n"
   ]
  },
  {
   "cell_type": "code",
   "execution_count": 26,
   "id": "7ce50e39-8646-4788-ad3f-287d2352d126",
   "metadata": {},
   "outputs": [
    {
     "name": "stdout",
     "output_type": "stream",
     "text": [
      "Files in directory: ['.ipynb_checkpoints', 'age-calculator.ipynb', 'basics_py.ipynb', 'bmi_calculator.ipynb', 'dictionary_operations.ipynb', 'filehandling.ipynb', 'functions.ipynb', 'iris_knn_classifier.ipynb', 'lines.txt', 'list_vs_tuple.ipynb', 'loops_and_conditions.ipynb', 'matplotlib_demo.ipynb', 'numpy_basics.ipynb', 'oop.ipynb', 'python_operators.ipynb', 'quiz_app.ipynb', 'regex_basics.ipynb', 'safe.txt', 'sample.ipynb', 'sara.txt', 'temp.txt', 'test.ipynb']\n"
     ]
    }
   ],
   "source": [
    "import os\n",
    "print(\"Files in directory:\", os.listdir())\n"
   ]
  },
  {
   "cell_type": "code",
   "execution_count": 27,
   "id": "50097226-4991-4b81-b393-7f609699158a",
   "metadata": {},
   "outputs": [
    {
     "name": "stdout",
     "output_type": "stream",
     "text": [
      "Does sara.txt exist? True\n"
     ]
    }
   ],
   "source": [
    "# Check existence\n",
    "print(\"Does sara.txt exist?\", os.path.exists(\"sara.txt\"))\n"
   ]
  },
  {
   "cell_type": "code",
   "execution_count": 28,
   "id": "4aab35ba-27d2-4cc8-8cab-15c89ab051ac",
   "metadata": {},
   "outputs": [
    {
     "name": "stdout",
     "output_type": "stream",
     "text": [
      "Size of sara.txt: 21\n"
     ]
    }
   ],
   "source": [
    "# Get file size\n",
    "print(\"Size of sara.txt:\", os.path.getsize(\"sara.txt\"))\n"
   ]
  },
  {
   "cell_type": "code",
   "execution_count": 29,
   "id": "8343cc02-9812-4d56-a0a5-a2e713426e97",
   "metadata": {},
   "outputs": [
    {
     "name": "stdout",
     "output_type": "stream",
     "text": [
      "Renamed file!\n"
     ]
    }
   ],
   "source": [
    "# Rename file\n",
    "os.rename(\"safe.txt\", \"renamed_safe.txt\")\n",
    "print(\"Renamed file!\")\n"
   ]
  },
  {
   "cell_type": "code",
   "execution_count": 30,
   "id": "1e2f10c6-50a3-45f3-aefe-ef14076bf38d",
   "metadata": {},
   "outputs": [
    {
     "name": "stdout",
     "output_type": "stream",
     "text": [
      "Deleted temp.txt\n"
     ]
    }
   ],
   "source": [
    "# Delete file\n",
    "if os.path.exists(\"temp.txt\"):\n",
    "    os.remove(\"temp.txt\")\n",
    "    print(\"Deleted temp.txt\")\n"
   ]
  },
  {
   "cell_type": "code",
   "execution_count": 31,
   "id": "ffc2a5d6-304e-4042-95df-81e95feef80d",
   "metadata": {},
   "outputs": [
    {
     "name": "stdout",
     "output_type": "stream",
     "text": [
      "Folder created!\n"
     ]
    }
   ],
   "source": [
    "# Making new folder\n",
    "if not os.path.exists(\"sara_folder\"):\n",
    "    os.mkdir(\"sara_folder\")\n",
    "    print(\"Folder created!\")\n"
   ]
  },
  {
   "cell_type": "code",
   "execution_count": 32,
   "id": "19bbda4a-010e-448c-92f6-c12aec6e96da",
   "metadata": {},
   "outputs": [],
   "source": [
    "# Writing inside folder\n",
    "with open(\"sara_folder/newfile.txt\", \"w\") as f:\n",
    "    f.write(\"Inside folder!\")\n"
   ]
  },
  {
   "cell_type": "code",
   "execution_count": 33,
   "id": "01ad8aa5-5270-4b96-9b8b-06141d495f04",
   "metadata": {},
   "outputs": [
    {
     "name": "stdout",
     "output_type": "stream",
     "text": [
      "Inside folder!\n"
     ]
    }
   ],
   "source": [
    "# Reading from folder\n",
    "with open(\"sara_folder/newfile.txt\", \"r\") as f:\n",
    "    print(f.read())\n"
   ]
  },
  {
   "cell_type": "code",
   "execution_count": 34,
   "id": "3698ce32-2fad-4595-9af2-60526518d10e",
   "metadata": {},
   "outputs": [],
   "source": [
    "# Removing folder\n",
    "os.remove(\"sara_folder/newfile.txt\")\n",
    "os.rmdir(\"sara_folder\")\n"
   ]
  },
  {
   "cell_type": "code",
   "execution_count": 35,
   "id": "2571263f-d028-4b31-b475-bbd1d66c7c34",
   "metadata": {},
   "outputs": [],
   "source": [
    "import csv\n",
    "data = [[\"Name\", \"Score\"], [\"Sara\", \"1000\"], [\"Ali\", \"950\"]]\n",
    "with open(\"scores.csv\", \"w\", newline=\"\") as f:\n",
    "    writer = csv.writer(f)\n",
    "    writer.writerows(data)\n"
   ]
  },
  {
   "cell_type": "code",
   "execution_count": 36,
   "id": "1134f64d-aaaa-48e7-93a6-739fe2c3f9ef",
   "metadata": {},
   "outputs": [
    {
     "name": "stdout",
     "output_type": "stream",
     "text": [
      "CSV Row: ['Name', 'Score']\n",
      "CSV Row: ['Sara', '1000']\n",
      "CSV Row: ['Ali', '950']\n"
     ]
    }
   ],
   "source": [
    "# Read CSV\n",
    "with open(\"scores.csv\", \"r\") as f:\n",
    "    reader = csv.reader(f)\n",
    "    for row in reader:\n",
    "        print(\"CSV Row:\", row)\n"
   ]
  },
  {
   "cell_type": "code",
   "execution_count": 37,
   "id": "af6166fd-c695-4269-8e3c-80766a2d4adb",
   "metadata": {},
   "outputs": [
    {
     "name": "stdout",
     "output_type": "stream",
     "text": [
      "CSV Row: ['Name', 'Score']\n",
      "CSV Row: ['Sara', '1000']\n",
      "CSV Row: ['Ali', '950']\n"
     ]
    }
   ],
   "source": [
    "# Read CSV\n",
    "with open(\"scores.csv\", \"r\") as f:\n",
    "    reader = csv.reader(f)\n",
    "    for row in reader:\n",
    "        print(\"CSV Row:\", row)\n"
   ]
  },
  {
   "cell_type": "code",
   "execution_count": 38,
   "id": "7a6b5275-4ffe-40a6-a463-c54c16b9b7a2",
   "metadata": {},
   "outputs": [],
   "source": [
    "# Append to CSV\n",
    "with open(\"scores.csv\", \"a\", newline=\"\") as f:\n",
    "    writer = csv.writer(f)\n",
    "    writer.writerow([\"Afra\", \"890\"])\n"
   ]
  },
  {
   "cell_type": "code",
   "execution_count": 39,
   "id": "120fb0cc-260a-41b1-93cb-4b0e9fdd9e37",
   "metadata": {},
   "outputs": [
    {
     "name": "stdout",
     "output_type": "stream",
     "text": [
      "Name,Score\n",
      "Sara,1000\n",
      "Ali,950\n",
      "Afra,890\n",
      "\n"
     ]
    }
   ],
   "source": [
    "# Reading again\n",
    "with open(\"scores.csv\", \"r\") as f:\n",
    "    print(f.read())\n"
   ]
  },
  {
   "cell_type": "code",
   "execution_count": 40,
   "id": "f4e6e9bd-9081-4ae8-a009-6671387ed072",
   "metadata": {},
   "outputs": [],
   "source": [
    "# Writing CSV using DictWriter\n",
    "with open(\"dict_scores.csv\", \"w\", newline=\"\") as f:\n",
    "    fieldnames = [\"name\", \"marks\"]\n",
    "    writer = csv.DictWriter(f, fieldnames=fieldnames)\n",
    "    writer.writeheader()\n",
    "    writer.writerow({\"name\": \"Sara\", \"marks\": 99})\n"
   ]
  },
  {
   "cell_type": "code",
   "execution_count": 41,
   "id": "810e0629-ce0e-47ab-abb0-9167023e1c04",
   "metadata": {},
   "outputs": [
    {
     "name": "stdout",
     "output_type": "stream",
     "text": [
      "{'name': 'Sara', 'marks': '99'}\n"
     ]
    }
   ],
   "source": [
    "# Reading Dict CSV\n",
    "with open(\"dict_scores.csv\", \"r\") as f:\n",
    "    reader = csv.DictReader(f)\n",
    "    for row in reader:\n",
    "        print(row)\n"
   ]
  },
  {
   "cell_type": "code",
   "execution_count": 42,
   "id": "3cd38078-776d-45db-95a9-681ca4031bcb",
   "metadata": {},
   "outputs": [],
   "source": [
    "# CSV edge case: empty file\n",
    "open(\"empty.csv\", \"w\").close()\n"
   ]
  },
  {
   "cell_type": "code",
   "execution_count": 43,
   "id": "fa7abefe-fe60-4e31-bb4a-5ff866e0a798",
   "metadata": {},
   "outputs": [
    {
     "name": "stdout",
     "output_type": "stream",
     "text": [
      "Empty: \n"
     ]
    }
   ],
   "source": [
    "# Read empty\n",
    "with open(\"empty.csv\", \"r\") as f:\n",
    "    print(\"Empty:\", f.read())\n"
   ]
  },
  {
   "cell_type": "code",
   "execution_count": 44,
   "id": "8600d5fc-91a6-4e4c-b01f-98775a77a0b6",
   "metadata": {},
   "outputs": [],
   "source": [
    "# Delete all CSVs\n",
    "files = [\"scores.csv\", \"dict_scores.csv\", \"empty.csv\"]\n",
    "for f in files:\n",
    "    if os.path.exists(f):\n",
    "        os.remove(f)\n"
   ]
  },
  {
   "cell_type": "code",
   "execution_count": 45,
   "id": "1f89c085-ec55-4d9d-959b-0b3e5ebe7065",
   "metadata": {},
   "outputs": [],
   "source": [
    "import json\n",
    "info = {\"name\": \"Sara\", \"skills\": [\"Python\", \"ML\"], \"score\": 999}\n",
    "with open(\"info.json\", \"w\") as f:\n",
    "    json.dump(info, f)\n"
   ]
  },
  {
   "cell_type": "code",
   "execution_count": 46,
   "id": "4dc5af29-7dc5-41cc-9e51-7f21570adf93",
   "metadata": {},
   "outputs": [
    {
     "name": "stdout",
     "output_type": "stream",
     "text": [
      "Loaded: {'name': 'Sara', 'skills': ['Python', 'ML'], 'score': 999}\n"
     ]
    }
   ],
   "source": [
    "# Read JSON\n",
    "with open(\"info.json\", \"r\") as f:\n",
    "    data = json.load(f)\n",
    "    print(\"Loaded:\", data)\n",
    "    "
   ]
  },
  {
   "cell_type": "code",
   "execution_count": 47,
   "id": "dab6919d-64ce-4255-98a9-5a094f69f4cb",
   "metadata": {},
   "outputs": [],
   "source": [
    "# Pretty JSON\n",
    "with open(\"pretty.json\", \"w\") as f:\n",
    "    json.dump(info, f, indent=4)\n"
   ]
  },
  {
   "cell_type": "code",
   "execution_count": 48,
   "id": "22ce33f0-24fe-4772-baf9-f75d932c7a18",
   "metadata": {},
   "outputs": [
    {
     "name": "stdout",
     "output_type": "stream",
     "text": [
      "{\n",
      "    \"name\": \"Sara\",\n",
      "    \"skills\": [\n",
      "        \"Python\",\n",
      "        \"ML\"\n",
      "    ],\n",
      "    \"score\": 999\n",
      "}\n"
     ]
    }
   ],
   "source": [
    "# Load pretty\n",
    "with open(\"pretty.json\", \"r\") as f:\n",
    "    print(f.read())\n"
   ]
  },
  {
   "cell_type": "code",
   "execution_count": 49,
   "id": "e5abe9bb-5d9b-4ed4-90f1-1ad2545513c1",
   "metadata": {},
   "outputs": [],
   "source": [
    "# Add to dict and dump\n",
    "info[\"rank\"] = 1\n",
    "with open(\"info.json\", \"w\") as f:\n",
    "    json.dump(info, f)\n"
   ]
  },
  {
   "cell_type": "code",
   "execution_count": 50,
   "id": "83188a26-3c84-44db-aa91-b14c3e2fa190",
   "metadata": {},
   "outputs": [
    {
     "name": "stdout",
     "output_type": "stream",
     "text": [
      "{'name': 'Sara', 'skills': ['Python', 'ML'], 'score': 999, 'rank': 1}\n"
     ]
    }
   ],
   "source": [
    "# Load after update\n",
    "with open(\"info.json\", \"r\") as f:\n",
    "    print(json.load(f))\n"
   ]
  },
  {
   "cell_type": "code",
   "execution_count": 51,
   "id": "f4b67613-0501-415b-86f4-ebdbaae0e5c0",
   "metadata": {},
   "outputs": [
    {
     "name": "stdout",
     "output_type": "stream",
     "text": [
      "Has rank? True\n"
     ]
    }
   ],
   "source": [
    "# Check key existence\n",
    "print(\"Has rank?\", \"rank\" in info)\n"
   ]
  },
  {
   "cell_type": "code",
   "execution_count": 52,
   "id": "f9da4482-cf09-444a-a94a-e784f04437cf",
   "metadata": {},
   "outputs": [
    {
     "name": "stdout",
     "output_type": "stream",
     "text": [
      "After delete: {'name': 'Sara', 'skills': ['Python', 'ML'], 'score': 999}\n"
     ]
    }
   ],
   "source": [
    "# Delete key\n",
    "del info[\"rank\"]\n",
    "print(\"After delete:\", info)\n"
   ]
  },
  {
   "cell_type": "code",
   "execution_count": 53,
   "id": "98a203e0-cc97-4011-b019-4573e143ace0",
   "metadata": {},
   "outputs": [],
   "source": [
    "# Re-dump JSON\n",
    "with open(\"info.json\", \"w\") as f:\n",
    "    json.dump(info, f)\n"
   ]
  },
  {
   "cell_type": "code",
   "execution_count": 54,
   "id": "88a10341-85d5-4f24-8682-001e8a160b75",
   "metadata": {},
   "outputs": [],
   "source": [
    "# Clean JSONs\n",
    "for f in [\"info.json\", \"pretty.json\"]:\n",
    "    os.remove(f)\n"
   ]
  },
  {
   "cell_type": "code",
   "execution_count": 55,
   "id": "3396c22a-314d-4c97-84d1-351701d770da",
   "metadata": {},
   "outputs": [],
   "source": [
    "# Recap: file write & read\n",
    "with open(\"recap.txt\", \"w\") as f:\n",
    "    f.write(\"done\")\n"
   ]
  },
  {
   "cell_type": "code",
   "execution_count": 56,
   "id": "3398e0a5-5ed8-4621-9f89-037c7fc798a1",
   "metadata": {},
   "outputs": [
    {
     "name": "stdout",
     "output_type": "stream",
     "text": [
      "done\n"
     ]
    }
   ],
   "source": [
    "# Read recap\n",
    "with open(\"recap.txt\", \"r\") as f:\n",
    "    print(f.read())\n"
   ]
  },
  {
   "cell_type": "code",
   "execution_count": 57,
   "id": "aa714dbc-e384-4773-823b-7cfff6f857d0",
   "metadata": {},
   "outputs": [
    {
     "name": "stdout",
     "output_type": "stream",
     "text": [
      "Recap file? True\n"
     ]
    }
   ],
   "source": [
    "# Check last files exist\n",
    "print(\"Recap file?\", os.path.exists(\"recap.txt\"))\n"
   ]
  },
  {
   "cell_type": "code",
   "execution_count": null,
   "id": "169c3e58-a1e8-4382-8656-62b2201c6cc2",
   "metadata": {},
   "outputs": [],
   "source": []
  }
 ],
 "metadata": {
  "kernelspec": {
   "display_name": "Python 3 (ipykernel)",
   "language": "python",
   "name": "python3"
  },
  "language_info": {
   "codemirror_mode": {
    "name": "ipython",
    "version": 3
   },
   "file_extension": ".py",
   "mimetype": "text/x-python",
   "name": "python",
   "nbconvert_exporter": "python",
   "pygments_lexer": "ipython3",
   "version": "3.12.11"
  }
 },
 "nbformat": 4,
 "nbformat_minor": 5
}
