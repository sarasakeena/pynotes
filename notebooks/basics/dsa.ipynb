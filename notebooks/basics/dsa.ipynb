{
 "cells": [
  {
   "cell_type": "code",
   "execution_count": 1,
   "id": "8363b188-1ae4-44e8-815d-0ec00e2d82ee",
   "metadata": {},
   "outputs": [],
   "source": [
    "# Stack using List\n",
    "stack = []\n"
   ]
  },
  {
   "cell_type": "code",
   "execution_count": 2,
   "id": "23de36a7-021a-4d42-b381-18434ae457b4",
   "metadata": {},
   "outputs": [
    {
     "name": "stdout",
     "output_type": "stream",
     "text": [
      "Stack after pushes: [10, 20, 30]\n"
     ]
    }
   ],
   "source": [
    "# Pushing elements\n",
    "stack.append(10)\n",
    "stack.append(20)\n",
    "stack.append(30)\n",
    "print(\"Stack after pushes:\", stack)\n"
   ]
  },
  {
   "cell_type": "code",
   "execution_count": 3,
   "id": "f67d6d2e-8013-4e49-8427-dd75873d5b1a",
   "metadata": {},
   "outputs": [
    {
     "name": "stdout",
     "output_type": "stream",
     "text": [
      "Stack after pop: [10, 20]\n"
     ]
    }
   ],
   "source": [
    "\n",
    "# Popping elements\n",
    "stack.pop()\n",
    "print(\"Stack after pop:\", stack)\n"
   ]
  },
  {
   "cell_type": "code",
   "execution_count": 4,
   "id": "41691cde-c0a1-4d7e-aba1-f89f80ae85d7",
   "metadata": {},
   "outputs": [
    {
     "name": "stdout",
     "output_type": "stream",
     "text": [
      "Top element: 20\n"
     ]
    }
   ],
   "source": [
    "# Peek\n",
    "if stack:\n",
    "    print(\"Top element:\", stack[-1])\n"
   ]
  },
  {
   "cell_type": "code",
   "execution_count": 5,
   "id": "77046964-6685-4990-93eb-ee9ee5bd416b",
   "metadata": {},
   "outputs": [
    {
     "name": "stdout",
     "output_type": "stream",
     "text": [
      "Is stack empty? False\n"
     ]
    }
   ],
   "source": [
    "# IsEmpty\n",
    "print(\"Is stack empty?\", len(stack) == 0)\n"
   ]
  },
  {
   "cell_type": "code",
   "execution_count": 6,
   "id": "ca0ad4fd-2a84-46dd-bb20-24243bccad3e",
   "metadata": {},
   "outputs": [
    {
     "name": "stdout",
     "output_type": "stream",
     "text": [
      "Stack size: 2\n"
     ]
    }
   ],
   "source": [
    "# Stack Length\n",
    "print(\"Stack size:\", len(stack))\n"
   ]
  },
  {
   "cell_type": "code",
   "execution_count": 7,
   "id": "74f0cd8b-6214-4061-b435-74de5f78e92d",
   "metadata": {},
   "outputs": [
    {
     "name": "stdout",
     "output_type": "stream",
     "text": [
      "20\n",
      "10\n"
     ]
    }
   ],
   "source": [
    "# Stack function\n",
    "def print_stack(s):\n",
    "    for i in reversed(s):\n",
    "        print(i)\n",
    "print_stack(stack)\n"
   ]
  },
  {
   "cell_type": "code",
   "execution_count": 8,
   "id": "8527ee0f-bdbb-4740-86ae-8e543c2bc80d",
   "metadata": {},
   "outputs": [
    {
     "name": "stdout",
     "output_type": "stream",
     "text": [
      "50\n",
      "40\n",
      "20\n",
      "10\n"
     ]
    }
   ],
   "source": [
    "# Push more elements\n",
    "stack.append(40)\n",
    "stack.append(50)\n",
    "print_stack(stack)\n"
   ]
  },
  {
   "cell_type": "code",
   "execution_count": 9,
   "id": "f0a91111-a63c-4b83-9e66-027c881f75bf",
   "metadata": {},
   "outputs": [
    {
     "name": "stdout",
     "output_type": "stream",
     "text": [
      "Stack cleared: []\n"
     ]
    }
   ],
   "source": [
    "# Pop all elements\n",
    "while stack:\n",
    "    stack.pop()\n",
    "print(\"Stack cleared:\", stack)\n"
   ]
  },
  {
   "cell_type": "code",
   "execution_count": 10,
   "id": "f457feaa-596a-406f-81c0-a7bccce1158b",
   "metadata": {},
   "outputs": [],
   "source": [
    "# Queue using List\n",
    "queue = []\n"
   ]
  },
  {
   "cell_type": "code",
   "execution_count": 11,
   "id": "123298e1-7118-44ee-9b41-f11def20fba5",
   "metadata": {},
   "outputs": [
    {
     "name": "stdout",
     "output_type": "stream",
     "text": [
      "Queue: [1, 2, 3]\n"
     ]
    }
   ],
   "source": [
    "# Enqueue\n",
    "queue.append(1)\n",
    "queue.append(2)\n",
    "queue.append(3)\n",
    "print(\"Queue:\", queue)\n"
   ]
  },
  {
   "cell_type": "code",
   "execution_count": 12,
   "id": "1a9ab325-7da3-46fd-b41f-2c27149f6631",
   "metadata": {},
   "outputs": [
    {
     "name": "stdout",
     "output_type": "stream",
     "text": [
      "After Dequeue: [2, 3]\n"
     ]
    }
   ],
   "source": [
    "# Dequeue\n",
    "queue.pop(0)\n",
    "print(\"After Dequeue:\", queue)\n"
   ]
  },
  {
   "cell_type": "code",
   "execution_count": 13,
   "id": "15fb1e9c-c90b-4095-9a02-a7ab2237dd12",
   "metadata": {},
   "outputs": [
    {
     "name": "stdout",
     "output_type": "stream",
     "text": [
      "Empty? False\n"
     ]
    }
   ],
   "source": [
    "# Is queue empty?\n",
    "print(\"Empty?\", len(queue) == 0)\n"
   ]
  },
  {
   "cell_type": "code",
   "execution_count": 14,
   "id": "dbfae42c-ea43-4935-acfb-d3b52c85b949",
   "metadata": {},
   "outputs": [
    {
     "name": "stdout",
     "output_type": "stream",
     "text": [
      "Front: 2\n"
     ]
    }
   ],
   "source": [
    "# Peek front\n",
    "if queue:\n",
    "    print(\"Front:\", queue[0])\n"
   ]
  },
  {
   "cell_type": "code",
   "execution_count": 15,
   "id": "2268d0d2-144e-4acd-ab9b-432cf1da2285",
   "metadata": {},
   "outputs": [
    {
     "name": "stdout",
     "output_type": "stream",
     "text": [
      "Queue size: 2\n"
     ]
    }
   ],
   "source": [
    "# Queue Length\n",
    "print(\"Queue size:\", len(queue))\n"
   ]
  },
  {
   "cell_type": "code",
   "execution_count": 16,
   "id": "585aa51b-3fee-4aba-bbd4-ad59308dd0dc",
   "metadata": {},
   "outputs": [],
   "source": [
    "# Using deque for efficient queue\n",
    "from collections import deque\n",
    "dq = deque()\n"
   ]
  },
  {
   "cell_type": "code",
   "execution_count": 17,
   "id": "8e97aa59-0275-44a2-af06-c4f5620cae43",
   "metadata": {},
   "outputs": [
    {
     "name": "stdout",
     "output_type": "stream",
     "text": [
      "Deque: deque([10, 20, 30])\n"
     ]
    }
   ],
   "source": [
    "dq.append(10)\n",
    "dq.append(20)\n",
    "dq.append(30)\n",
    "print(\"Deque:\", dq)\n"
   ]
  },
  {
   "cell_type": "code",
   "execution_count": 18,
   "id": "08d8ca7f-6639-4aa1-bc0b-9f52d9725629",
   "metadata": {},
   "outputs": [
    {
     "name": "stdout",
     "output_type": "stream",
     "text": [
      "After popleft: deque([20, 30])\n"
     ]
    }
   ],
   "source": [
    "dq.popleft()\n",
    "print(\"After popleft:\", dq)\n"
   ]
  },
  {
   "cell_type": "code",
   "execution_count": 19,
   "id": "a8e56c2b-286a-47c4-abb3-65da3bbf5e40",
   "metadata": {},
   "outputs": [
    {
     "name": "stdout",
     "output_type": "stream",
     "text": [
      "After appendleft: deque([5, 20, 30])\n"
     ]
    }
   ],
   "source": [
    "dq.appendleft(5)\n",
    "print(\"After appendleft:\", dq)\n"
   ]
  },
  {
   "cell_type": "code",
   "execution_count": 20,
   "id": "18b0a3df-aeef-4833-891e-70f382c98a24",
   "metadata": {},
   "outputs": [],
   "source": [
    "# Node class\n",
    "class Node:\n",
    "    def __init__(self, data):\n",
    "        self.data = data\n",
    "        self.next = None\n"
   ]
  },
  {
   "cell_type": "code",
   "execution_count": 21,
   "id": "b8e21285-5ef7-4a7d-a427-db4ff15a6ff3",
   "metadata": {},
   "outputs": [],
   "source": [
    "# Linked List class\n",
    "class LinkedList:\n",
    "    def __init__(self):\n",
    "        self.head = None\n",
    "\n",
    "    def insert(self, data):\n",
    "        new_node = Node(data)\n",
    "        if not self.head:\n",
    "            self.head = new_node\n",
    "        else:\n",
    "            temp = self.head\n",
    "            while temp.next:\n",
    "                temp = temp.next\n",
    "            temp.next = new_node\n",
    "\n",
    "    def display(self):\n",
    "        temp = self.head\n",
    "        while temp:\n",
    "            print(temp.data, end=\" -> \")\n",
    "            temp = temp.next\n",
    "        print(\"None\")\n"
   ]
  },
  {
   "cell_type": "code",
   "execution_count": 22,
   "id": "4db7115e-34ec-4e51-a92b-1e9e534516f4",
   "metadata": {},
   "outputs": [],
   "source": [
    "ll = LinkedList()\n",
    "ll.insert(1)\n",
    "ll.insert(2)\n",
    "ll.insert(3)\n"
   ]
  },
  {
   "cell_type": "code",
   "execution_count": 23,
   "id": "9ca075de-6eb7-4d0b-a0ab-6aebb1226461",
   "metadata": {},
   "outputs": [
    {
     "name": "stdout",
     "output_type": "stream",
     "text": [
      "1 -> 2 -> 3 -> None\n"
     ]
    }
   ],
   "source": [
    "ll.display()\n"
   ]
  },
  {
   "cell_type": "code",
   "execution_count": 24,
   "id": "969f0277-0e24-40d8-9d3d-907236b1961d",
   "metadata": {},
   "outputs": [],
   "source": [
    "# Insert at beginning\n",
    "def insert_at_beginning(self, data):\n",
    "    new_node = Node(data)\n",
    "    new_node.next = self.head\n",
    "    self.head = new_node\n",
    "LinkedList.insert_at_beginning = insert_at_beginning\n"
   ]
  },
  {
   "cell_type": "code",
   "execution_count": 25,
   "id": "f0f8efd7-bb31-491b-b5d7-07f4f628d796",
   "metadata": {},
   "outputs": [
    {
     "name": "stdout",
     "output_type": "stream",
     "text": [
      "0 -> 1 -> 2 -> 3 -> None\n"
     ]
    }
   ],
   "source": [
    "ll.insert_at_beginning(0)\n",
    "ll.display()\n"
   ]
  },
  {
   "cell_type": "code",
   "execution_count": 26,
   "id": "90e73e9d-1f77-44d9-bd94-d8d335caa679",
   "metadata": {},
   "outputs": [],
   "source": [
    "# Delete by value\n",
    "def delete(self, key):\n",
    "    temp = self.head\n",
    "    if temp and temp.data == key:\n",
    "        self.head = temp.next\n",
    "        return\n",
    "    while temp.next:\n",
    "        if temp.next.data == key:\n",
    "            temp.next = temp.next.next\n",
    "            return\n",
    "        temp = temp.next\n",
    "LinkedList.delete = delete\n"
   ]
  },
  {
   "cell_type": "code",
   "execution_count": 27,
   "id": "15f255f1-8156-4cd6-92b5-bd5e86dfecdb",
   "metadata": {},
   "outputs": [
    {
     "name": "stdout",
     "output_type": "stream",
     "text": [
      "0 -> 1 -> 3 -> None\n"
     ]
    }
   ],
   "source": [
    "ll.delete(2)\n",
    "ll.display()\n"
   ]
  },
  {
   "cell_type": "code",
   "execution_count": 28,
   "id": "8f067ad5-c7d1-40cb-8c39-d9ae907934de",
   "metadata": {},
   "outputs": [
    {
     "name": "stdout",
     "output_type": "stream",
     "text": [
      "1 -> 3 -> None\n"
     ]
    }
   ],
   "source": [
    "ll.delete(0)\n",
    "ll.display()\n"
   ]
  },
  {
   "cell_type": "code",
   "execution_count": 29,
   "id": "043f546b-20c4-4399-b8a4-7f5403c7cc2c",
   "metadata": {},
   "outputs": [
    {
     "name": "stdout",
     "output_type": "stream",
     "text": [
      "1 -> 3 -> None\n"
     ]
    }
   ],
   "source": [
    "ll.delete(10)  # non-existent\n",
    "ll.display()\n"
   ]
  },
  {
   "cell_type": "code",
   "execution_count": 30,
   "id": "cdb5d9c7-0aa1-4886-9e45-5f653a092226",
   "metadata": {},
   "outputs": [],
   "source": [
    "# Linear Search\n",
    "def linear_search(arr, x):\n",
    "    for i in range(len(arr)):\n",
    "        if arr[i] == x:\n",
    "            return i\n",
    "    return -1\n"
   ]
  },
  {
   "cell_type": "code",
   "execution_count": 31,
   "id": "850c8cb8-96bb-4bdb-9bae-efa2991f0c88",
   "metadata": {},
   "outputs": [
    {
     "name": "stdout",
     "output_type": "stream",
     "text": [
      "Index of 9: 2\n"
     ]
    }
   ],
   "source": [
    "arr = [5, 2, 9, 4, 7]\n",
    "print(\"Index of 9:\", linear_search(arr, 9))\n"
   ]
  },
  {
   "cell_type": "code",
   "execution_count": 32,
   "id": "330a20bf-f31d-4874-af05-e6a0c0721ba4",
   "metadata": {},
   "outputs": [
    {
     "name": "stdout",
     "output_type": "stream",
     "text": [
      "Index of 3 (not found): -1\n"
     ]
    }
   ],
   "source": [
    "print(\"Index of 3 (not found):\", linear_search(arr, 3))\n"
   ]
  },
  {
   "cell_type": "code",
   "execution_count": 33,
   "id": "c3c659e9-e89b-43c5-8241-b3c754e196b6",
   "metadata": {},
   "outputs": [],
   "source": [
    "# Binary Search\n",
    "def binary_search(arr, x):\n",
    "    low, high = 0, len(arr) - 1\n",
    "    while low <= high:\n",
    "        mid = (low + high) // 2\n",
    "        if arr[mid] == x:\n",
    "            return mid\n",
    "        elif arr[mid] < x:\n",
    "            low = mid + 1\n",
    "        else:\n",
    "            high = mid - 1\n",
    "    return -1\n"
   ]
  },
  {
   "cell_type": "code",
   "execution_count": 34,
   "id": "643056a6-b04b-4572-a15c-4e1ab711bc68",
   "metadata": {},
   "outputs": [
    {
     "name": "stdout",
     "output_type": "stream",
     "text": [
      "Sorted: [2, 4, 5, 7, 9]\n"
     ]
    }
   ],
   "source": [
    "sorted_arr = sorted(arr)\n",
    "print(\"Sorted:\", sorted_arr)\n"
   ]
  },
  {
   "cell_type": "code",
   "execution_count": 35,
   "id": "21b6ecda-eebd-4ebf-8413-669da097a38e",
   "metadata": {},
   "outputs": [
    {
     "name": "stdout",
     "output_type": "stream",
     "text": [
      "Binary search 4: 1\n"
     ]
    }
   ],
   "source": [
    "print(\"Binary search 4:\", binary_search(sorted_arr, 4))\n"
   ]
  },
  {
   "cell_type": "code",
   "execution_count": 36,
   "id": "07aedc4f-a397-4b79-81c5-970654da52de",
   "metadata": {},
   "outputs": [
    {
     "name": "stdout",
     "output_type": "stream",
     "text": [
      "Binary search 8 (not found): -1\n"
     ]
    }
   ],
   "source": [
    "print(\"Binary search 8 (not found):\", binary_search(sorted_arr, 8))\n"
   ]
  },
  {
   "cell_type": "code",
   "execution_count": 37,
   "id": "3980353b-29c4-4323-8bd2-2c82e3bf4a25",
   "metadata": {},
   "outputs": [
    {
     "name": "stdout",
     "output_type": "stream",
     "text": [
      "Empty array: -1\n"
     ]
    }
   ],
   "source": [
    "# Edge case: empty array\n",
    "print(\"Empty array:\", binary_search([], 1))\n"
   ]
  },
  {
   "cell_type": "code",
   "execution_count": 38,
   "id": "4ee7eb26-33d3-4018-8c1e-3b690318fd87",
   "metadata": {},
   "outputs": [
    {
     "name": "stdout",
     "output_type": "stream",
     "text": [
      "One element: 0\n"
     ]
    }
   ],
   "source": [
    "# Edge case: one element\n",
    "print(\"One element:\", binary_search([5], 5))\n"
   ]
  },
  {
   "cell_type": "code",
   "execution_count": 39,
   "id": "404222f5-8728-412c-a617-4f19e3461222",
   "metadata": {},
   "outputs": [
    {
     "name": "stdout",
     "output_type": "stream",
     "text": [
      "Find -3: 1\n"
     ]
    }
   ],
   "source": [
    "# Binary search for negative numbers\n",
    "neg_arr = [-9, -3, 0, 2, 4]\n",
    "print(\"Find -3:\", binary_search(neg_arr, -3))\n"
   ]
  },
  {
   "cell_type": "code",
   "execution_count": 40,
   "id": "5e1b6977-5acc-4e47-8d49-51efbcec816f",
   "metadata": {},
   "outputs": [],
   "source": [
    "# Bubble Sort\n",
    "def bubble_sort(arr):\n",
    "    n = len(arr)\n",
    "    for i in range(n):\n",
    "        for j in range(n - i - 1):\n",
    "            if arr[j] > arr[j + 1]:\n",
    "                arr[j], arr[j + 1] = arr[j + 1], arr[j]\n"
   ]
  },
  {
   "cell_type": "code",
   "execution_count": 41,
   "id": "ff0e406b-c35a-4520-9331-5f82c58cade2",
   "metadata": {},
   "outputs": [
    {
     "name": "stdout",
     "output_type": "stream",
     "text": [
      "Bubble Sorted: [11, 12, 22, 25, 34, 64, 90]\n"
     ]
    }
   ],
   "source": [
    "data = [64, 34, 25, 12, 22, 11, 90]\n",
    "bubble_sort(data)\n",
    "print(\"Bubble Sorted:\", data)\n"
   ]
  },
  {
   "cell_type": "code",
   "execution_count": 42,
   "id": "a4088675-97f5-4b7a-afcc-e21ffbd429b7",
   "metadata": {},
   "outputs": [],
   "source": [
    "# Insertion Sort\n",
    "def insertion_sort(arr):\n",
    "    for i in range(1, len(arr)):\n",
    "        key = arr[i]\n",
    "        j = i - 1\n",
    "        while j >= 0 and key < arr[j]:\n",
    "            arr[j + 1] = arr[j]\n",
    "            j -= 1\n",
    "        arr[j + 1] = key\n"
   ]
  },
  {
   "cell_type": "code",
   "execution_count": 43,
   "id": "56381e0c-efc2-4640-9d8d-2dc99b6c67b3",
   "metadata": {},
   "outputs": [
    {
     "name": "stdout",
     "output_type": "stream",
     "text": [
      "Insertion Sorted: [1, 2, 3, 6, 9]\n"
     ]
    }
   ],
   "source": [
    "data2 = [9, 1, 6, 3, 2]\n",
    "insertion_sort(data2)\n",
    "print(\"Insertion Sorted:\", data2)\n"
   ]
  },
  {
   "cell_type": "code",
   "execution_count": 44,
   "id": "71a01d64-9770-4ba9-8f87-4c3ccf78b23e",
   "metadata": {},
   "outputs": [],
   "source": [
    "# Selection Sort\n",
    "def selection_sort(arr):\n",
    "    for i in range(len(arr)):\n",
    "        min_idx = i\n",
    "        for j in range(i + 1, len(arr)):\n",
    "            if arr[j] < arr[min_idx]:\n",
    "                min_idx = j\n",
    "        arr[i], arr[min_idx] = arr[min_idx], arr[i]\n"
   ]
  },
  {
   "cell_type": "code",
   "execution_count": 45,
   "id": "dd9bcc87-e417-4dbc-829a-e76137cd8eb9",
   "metadata": {},
   "outputs": [
    {
     "name": "stdout",
     "output_type": "stream",
     "text": [
      "Selection Sorted: [10, 13, 14, 29, 37]\n"
     ]
    }
   ],
   "source": [
    "data3 = [29, 10, 14, 37, 13]\n",
    "selection_sort(data3)\n",
    "print(\"Selection Sorted:\", data3)\n"
   ]
  },
  {
   "cell_type": "code",
   "execution_count": 46,
   "id": "cbe9e812-35c8-4293-ac31-347f0e0d7242",
   "metadata": {},
   "outputs": [],
   "source": [
    "# Merge Sort\n",
    "def merge_sort(arr):\n",
    "    if len(arr) > 1:\n",
    "        mid = len(arr) // 2\n",
    "        L = arr[:mid]\n",
    "        R = arr[mid:]\n",
    "        merge_sort(L)\n",
    "        merge_sort(R)\n",
    "        i = j = k = 0\n",
    "        while i < len(L) and j < len(R):\n",
    "            if L[i] < R[j]:\n",
    "                arr[k] = L[i]\n",
    "                i += 1\n",
    "            else:\n",
    "                arr[k] = R[j]\n",
    "                j += 1\n",
    "            k += 1\n",
    "        while i < len(L):\n",
    "            arr[k] = L[i]\n",
    "            i += 1\n",
    "            k += 1\n",
    "        while j < len(R):\n",
    "            arr[k] = R[j]\n",
    "            j += 1\n",
    "            k += 1\n"
   ]
  },
  {
   "cell_type": "code",
   "execution_count": 47,
   "id": "391632a1-108f-4bf2-9f79-51a622ae09ef",
   "metadata": {},
   "outputs": [
    {
     "name": "stdout",
     "output_type": "stream",
     "text": [
      "Merge Sorted: [5, 6, 7, 11, 12, 13]\n"
     ]
    }
   ],
   "source": [
    "data4 = [12, 11, 13, 5, 6, 7]\n",
    "merge_sort(data4)\n",
    "print(\"Merge Sorted:\", data4)\n"
   ]
  },
  {
   "cell_type": "code",
   "execution_count": null,
   "id": "c0531fda-bb42-45e4-bfc8-ac08a85181dc",
   "metadata": {},
   "outputs": [],
   "source": []
  },
  {
   "cell_type": "code",
   "execution_count": 48,
   "id": "4cfa23e0-ad5e-406c-b63e-9aa671fd0eaa",
   "metadata": {},
   "outputs": [],
   "source": [
    "# Recursive Factorial\n",
    "def factorial(n):\n",
    "    if n == 0:\n",
    "        return 1\n",
    "    return n * factorial(n - 1)\n"
   ]
  },
  {
   "cell_type": "code",
   "execution_count": 49,
   "id": "82274951-d86f-4e08-b4ca-93b6c7500c11",
   "metadata": {},
   "outputs": [
    {
     "name": "stdout",
     "output_type": "stream",
     "text": [
      "Factorial 5: 120\n"
     ]
    }
   ],
   "source": [
    "print(\"Factorial 5:\", factorial(5))\n"
   ]
  },
  {
   "cell_type": "code",
   "execution_count": 50,
   "id": "f1bb9e9d-def8-43ca-b07b-47c573967174",
   "metadata": {},
   "outputs": [],
   "source": [
    "# Fibonacci\n",
    "def fibonacci(n):\n",
    "    if n <= 1:\n",
    "        return n\n",
    "    return fibonacci(n-1) + fibonacci(n-2)\n"
   ]
  },
  {
   "cell_type": "code",
   "execution_count": 51,
   "id": "74eb5277-f434-44ed-ab08-281b271f3a7b",
   "metadata": {},
   "outputs": [
    {
     "name": "stdout",
     "output_type": "stream",
     "text": [
      "Fibonacci of 6: 8\n"
     ]
    }
   ],
   "source": [
    "print(\"Fibonacci of 6:\", fibonacci(6))\n"
   ]
  },
  {
   "cell_type": "code",
   "execution_count": 52,
   "id": "ef4fac97-afd5-4869-a24d-da6ff13171ab",
   "metadata": {},
   "outputs": [
    {
     "name": "stdout",
     "output_type": "stream",
     "text": [
      "0 1 1 2 3 5 8 13 "
     ]
    }
   ],
   "source": [
    "# Print fibonacci series\n",
    "for i in range(8):\n",
    "    print(fibonacci(i), end=\" \")\n"
   ]
  },
  {
   "cell_type": "code",
   "execution_count": 53,
   "id": "d95f481f-62ab-46a7-a3c1-ee9bda38308b",
   "metadata": {},
   "outputs": [],
   "source": [
    "# Recursion with sum of array\n",
    "def sum_array(arr):\n",
    "    if not arr:\n",
    "        return 0\n",
    "    return arr[0] + sum_array(arr[1:])\n"
   ]
  },
  {
   "cell_type": "code",
   "execution_count": 54,
   "id": "e217beab-ef06-4794-bbbe-bb700ecd465a",
   "metadata": {},
   "outputs": [
    {
     "name": "stdout",
     "output_type": "stream",
     "text": [
      "Sum: 10\n"
     ]
    }
   ],
   "source": [
    "print(\"Sum:\", sum_array([1, 2, 3, 4]))\n"
   ]
  },
  {
   "cell_type": "code",
   "execution_count": 55,
   "id": "5263d4ad-ffee-43b0-9494-ee00e29b0b79",
   "metadata": {},
   "outputs": [],
   "source": [
    "# Tower of Hanoi\n",
    "def hanoi(n, src, temp, dest):\n",
    "    if n == 1:\n",
    "        print(f\"Move disk 1 from {src} to {dest}\")\n",
    "        return\n",
    "    hanoi(n - 1, src, dest, temp)\n",
    "    print(f\"Move disk {n} from {src} to {dest}\")\n",
    "    hanoi(n - 1, temp, src, dest)\n"
   ]
  },
  {
   "cell_type": "code",
   "execution_count": 56,
   "id": "b226d3dd-a4e9-4b6c-846e-ecae6cb5c7e5",
   "metadata": {},
   "outputs": [
    {
     "name": "stdout",
     "output_type": "stream",
     "text": [
      "Move disk 1 from A to C\n",
      "Move disk 2 from A to B\n",
      "Move disk 1 from C to B\n",
      "Move disk 3 from A to C\n",
      "Move disk 1 from B to A\n",
      "Move disk 2 from B to C\n",
      "Move disk 1 from A to C\n"
     ]
    }
   ],
   "source": [
    "hanoi(3, 'A', 'B', 'C')\n"
   ]
  },
  {
   "cell_type": "code",
   "execution_count": 57,
   "id": "6fd843ce-4fe2-42dc-a19b-1c321731bb93",
   "metadata": {},
   "outputs": [
    {
     "name": "stdout",
     "output_type": "stream",
     "text": [
      "Hanoi 1 disk:\n",
      "Move disk 1 from X to Z\n"
     ]
    }
   ],
   "source": [
    "# Base case edge test\n",
    "print(\"Hanoi 1 disk:\")\n",
    "hanoi(1, 'X', 'Y', 'Z')\n"
   ]
  },
  {
   "cell_type": "code",
   "execution_count": 58,
   "id": "3cd9c57e-05c1-4486-8f42-61921e305839",
   "metadata": {},
   "outputs": [],
   "source": [
    "# Tree Node\n",
    "class TreeNode:\n",
    "    def __init__(self, val):\n",
    "        self.left = None\n",
    "        self.right = None\n",
    "        self.val = val\n"
   ]
  },
  {
   "cell_type": "code",
   "execution_count": 59,
   "id": "e8c603a5-2436-4695-ac14-b6e5b4183451",
   "metadata": {},
   "outputs": [],
   "source": [
    "# Pre-order Traversal\n",
    "def preorder(root):\n",
    "    if root:\n",
    "        print(root.val, end=' ')\n",
    "        preorder(root.left)\n",
    "        preorder(root.right)\n"
   ]
  },
  {
   "cell_type": "code",
   "execution_count": 60,
   "id": "1174e1e2-3200-4c13-a7e2-eb5fe829cdd2",
   "metadata": {},
   "outputs": [],
   "source": [
    "# Build a simple tree\n",
    "root = TreeNode(1)\n",
    "root.left = TreeNode(2)\n",
    "root.right = TreeNode(3)\n",
    "root.left.left = TreeNode(4)\n",
    "root.left.right = TreeNode(5)\n"
   ]
  },
  {
   "cell_type": "code",
   "execution_count": 61,
   "id": "13b5a13a-b642-49b0-bfa7-21ceae18a483",
   "metadata": {},
   "outputs": [
    {
     "name": "stdout",
     "output_type": "stream",
     "text": [
      "Preorder traversal:\n",
      "1 2 4 5 3 "
     ]
    }
   ],
   "source": [
    "print(\"Preorder traversal:\")\n",
    "preorder(root)\n"
   ]
  },
  {
   "cell_type": "code",
   "execution_count": 62,
   "id": "a1d87451-5596-406f-86b9-e1a2df59a13e",
   "metadata": {},
   "outputs": [],
   "source": [
    "# In-order\n",
    "def inorder(root):\n",
    "    if root:\n",
    "        inorder(root.left)\n",
    "        print(root.val, end=' ')\n",
    "        inorder(root.right)\n"
   ]
  },
  {
   "cell_type": "code",
   "execution_count": 63,
   "id": "9fb11143-b5ed-45db-a6ec-5b333220e03b",
   "metadata": {},
   "outputs": [
    {
     "name": "stdout",
     "output_type": "stream",
     "text": [
      "\n",
      "Inorder traversal:\n",
      "4 2 5 1 3 "
     ]
    }
   ],
   "source": [
    "print(\"\\nInorder traversal:\")\n",
    "inorder(root)\n"
   ]
  },
  {
   "cell_type": "code",
   "execution_count": 64,
   "id": "521992a1-7f88-4fdd-ab46-0f938961c34f",
   "metadata": {},
   "outputs": [],
   "source": [
    "# Post-order\n",
    "def postorder(root):\n",
    "    if root:\n",
    "        postorder(root.left)\n",
    "        postorder(root.right)\n",
    "        print(root.val, end=' ')\n"
   ]
  },
  {
   "cell_type": "code",
   "execution_count": 65,
   "id": "74cc2d8f-2328-4824-9c7f-443e39471572",
   "metadata": {},
   "outputs": [
    {
     "name": "stdout",
     "output_type": "stream",
     "text": [
      "\n",
      "Postorder traversal:\n",
      "4 5 2 3 1 "
     ]
    }
   ],
   "source": [
    "print(\"\\nPostorder traversal:\")\n",
    "postorder(root)\n"
   ]
  },
  {
   "cell_type": "code",
   "execution_count": 66,
   "id": "e30535cc-e901-49ad-b81f-b1dfe22129d8",
   "metadata": {},
   "outputs": [],
   "source": [
    "# Tree Depth\n",
    "def depth(root):\n",
    "    if not root:\n",
    "        return 0\n",
    "    return 1 + max(depth(root.left), depth(root.right))\n"
   ]
  },
  {
   "cell_type": "code",
   "execution_count": 67,
   "id": "7cf170da-9ad0-43cd-bdae-78cfcfb40aef",
   "metadata": {},
   "outputs": [
    {
     "name": "stdout",
     "output_type": "stream",
     "text": [
      "\n",
      "Tree Depth: 3\n"
     ]
    }
   ],
   "source": [
    "print(\"\\nTree Depth:\", depth(root))\n"
   ]
  },
  {
   "cell_type": "code",
   "execution_count": null,
   "id": "098c9f46-7bc8-4e8a-bbcb-38336df49999",
   "metadata": {},
   "outputs": [],
   "source": []
  },
  {
   "cell_type": "code",
   "execution_count": null,
   "id": "2041058a-bc3f-48f2-906a-af56c6e0884d",
   "metadata": {},
   "outputs": [],
   "source": []
  },
  {
   "cell_type": "code",
   "execution_count": null,
   "id": "b59cbb96-6e08-4c74-ba4a-29e65880b465",
   "metadata": {},
   "outputs": [],
   "source": []
  },
  {
   "cell_type": "code",
   "execution_count": null,
   "id": "96dad0c0-8595-4558-b660-7910771183ef",
   "metadata": {},
   "outputs": [],
   "source": []
  },
  {
   "cell_type": "code",
   "execution_count": null,
   "id": "9fd1235d-533b-47a0-8c55-6ac98c586083",
   "metadata": {},
   "outputs": [],
   "source": []
  }
 ],
 "metadata": {
  "kernelspec": {
   "display_name": "Python 3 (ipykernel)",
   "language": "python",
   "name": "python3"
  },
  "language_info": {
   "codemirror_mode": {
    "name": "ipython",
    "version": 3
   },
   "file_extension": ".py",
   "mimetype": "text/x-python",
   "name": "python",
   "nbconvert_exporter": "python",
   "pygments_lexer": "ipython3",
   "version": "3.12.11"
  }
 },
 "nbformat": 4,
 "nbformat_minor": 5
}
