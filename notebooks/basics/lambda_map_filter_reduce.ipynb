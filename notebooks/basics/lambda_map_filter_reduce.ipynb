{
 "cells": [
  {
   "cell_type": "code",
   "execution_count": 54,
   "id": "9d935db4",
   "metadata": {},
   "outputs": [
    {
     "name": "stdout",
     "output_type": "stream",
     "text": [
      "[(1, 'a'), (2, 'b'), (3, 'c')]\n"
     ]
    }
   ],
   "source": [
    "x = [1, 2, 3]\n",
    "y = ['a', 'b', 'c']\n",
    "z = zip(x, y)\n",
    "print(list(z))"
   ]
  },
  {
   "cell_type": "code",
   "execution_count": 55,
   "id": "2e8e1ca1",
   "metadata": {},
   "outputs": [
    {
     "name": "stdout",
     "output_type": "stream",
     "text": [
      "6\n"
     ]
    }
   ],
   "source": [
    "x = lambda a, b, c : a + b + c\n",
    "print(x(1, 2, 3))"
   ]
  },
  {
   "cell_type": "code",
   "execution_count": 56,
   "id": "56f3ad43",
   "metadata": {},
   "outputs": [
    {
     "name": "stdout",
     "output_type": "stream",
     "text": [
      "[2, 4, 6]\n"
     ]
    }
   ],
   "source": [
    "nums = [1, 2, 3, 4, 5, 6]\n",
    "result = list(filter(lambda x: x % 2 == 0, nums))\n",
    "print(result)"
   ]
  },
  {
   "cell_type": "code",
   "execution_count": 57,
   "id": "7e03c9e3",
   "metadata": {},
   "outputs": [
    {
     "name": "stdout",
     "output_type": "stream",
     "text": [
      "[(1, 'a'), (2, 'b'), (3, 'c')]\n"
     ]
    }
   ],
   "source": [
    "x = [1, 2, 3]\n",
    "y = ['a', 'b', 'c']\n",
    "z = zip(x, y)\n",
    "print(list(z))"
   ]
  },
  {
   "cell_type": "code",
   "execution_count": 58,
   "id": "b0988df2",
   "metadata": {},
   "outputs": [
    {
     "name": "stdout",
     "output_type": "stream",
     "text": [
      "['Cathy']\n"
     ]
    }
   ],
   "source": [
    "names = ['Amy', 'Ben', 'Cathy', 'Dan']\n",
    "result = list(filter(lambda x: x.startswith('C'), names))\n",
    "print(result)"
   ]
  },
  {
   "cell_type": "code",
   "execution_count": 59,
   "id": "e84bcc6e",
   "metadata": {},
   "outputs": [
    {
     "name": "stdout",
     "output_type": "stream",
     "text": [
      "30\n"
     ]
    }
   ],
   "source": [
    "x = lambda a, b : a * b\n",
    "print(x(5, 6))"
   ]
  },
  {
   "cell_type": "code",
   "execution_count": 60,
   "id": "5119abf0",
   "metadata": {},
   "outputs": [
    {
     "name": "stdout",
     "output_type": "stream",
     "text": [
      "10\n"
     ]
    }
   ],
   "source": [
    "from functools import reduce\n",
    "nums = [1, 2, 3, 4]\n",
    "result = reduce(lambda x, y: x + y, nums)\n",
    "print(result)"
   ]
  },
  {
   "cell_type": "code",
   "execution_count": 61,
   "id": "550fe2aa",
   "metadata": {},
   "outputs": [
    {
     "name": "stdout",
     "output_type": "stream",
     "text": [
      "[('a', 85), ('b', 90), ('c', 95)]\n"
     ]
    }
   ],
   "source": [
    "names = ['a', 'b', 'c']\n",
    "scores = [85, 90, 95]\n",
    "result = list(zip(names, scores))\n",
    "print(result)"
   ]
  },
  {
   "cell_type": "code",
   "execution_count": 62,
   "id": "06d36fac",
   "metadata": {},
   "outputs": [
    {
     "name": "stdout",
     "output_type": "stream",
     "text": [
      "[2, 4, 6, 8]\n"
     ]
    }
   ],
   "source": [
    "nums = [1, 2, 3, 4]\n",
    "result = list(map(lambda x: x * 2, nums))\n",
    "print(result)"
   ]
  },
  {
   "cell_type": "code",
   "execution_count": 63,
   "id": "07b0c1ce",
   "metadata": {},
   "outputs": [
    {
     "name": "stdout",
     "output_type": "stream",
     "text": [
      "[(1, 'a'), (2, 'b'), (3, 'c')]\n"
     ]
    }
   ],
   "source": [
    "x = [1, 2, 3]\n",
    "y = ['a', 'b', 'c']\n",
    "z = zip(x, y)\n",
    "print(list(z))"
   ]
  },
  {
   "cell_type": "code",
   "execution_count": 64,
   "id": "c0fbda74",
   "metadata": {},
   "outputs": [
    {
     "name": "stdout",
     "output_type": "stream",
     "text": [
      "['HELLO', 'WORLD']\n"
     ]
    }
   ],
   "source": [
    "words = ['hello', 'world']\n",
    "result = list(map(str.upper, words))\n",
    "print(result)"
   ]
  },
  {
   "cell_type": "code",
   "execution_count": 65,
   "id": "a98664c0",
   "metadata": {},
   "outputs": [
    {
     "name": "stdout",
     "output_type": "stream",
     "text": [
      "['HELLO', 'WORLD']\n"
     ]
    }
   ],
   "source": [
    "words = ['hello', 'world']\n",
    "result = list(map(str.upper, words))\n",
    "print(result)"
   ]
  },
  {
   "cell_type": "code",
   "execution_count": 66,
   "id": "48417842",
   "metadata": {},
   "outputs": [
    {
     "name": "stdout",
     "output_type": "stream",
     "text": [
      "6\n"
     ]
    }
   ],
   "source": [
    "x = lambda a, b, c : a + b + c\n",
    "print(x(1, 2, 3))"
   ]
  },
  {
   "cell_type": "code",
   "execution_count": 67,
   "id": "f6b5e88a",
   "metadata": {},
   "outputs": [
    {
     "name": "stdout",
     "output_type": "stream",
     "text": [
      "0 h\n",
      "1 e\n",
      "2 l\n",
      "3 l\n",
      "4 o\n"
     ]
    }
   ],
   "source": [
    "s = 'hello'\n",
    "for i, ch in enumerate(s): print(i, ch)"
   ]
  },
  {
   "cell_type": "code",
   "execution_count": 68,
   "id": "f2eba4c5",
   "metadata": {},
   "outputs": [
    {
     "name": "stdout",
     "output_type": "stream",
     "text": [
      "0 h\n",
      "1 e\n",
      "2 l\n",
      "3 l\n",
      "4 o\n"
     ]
    }
   ],
   "source": [
    "s = 'hello'\n",
    "for i, ch in enumerate(s): print(i, ch)"
   ]
  },
  {
   "cell_type": "code",
   "execution_count": 69,
   "id": "6f6e6bb8",
   "metadata": {},
   "outputs": [
    {
     "name": "stdout",
     "output_type": "stream",
     "text": [
      "[(1, 'a'), (2, 'b'), (3, 'c')]\n"
     ]
    }
   ],
   "source": [
    "x = [1, 2, 3]\n",
    "y = ['a', 'b', 'c']\n",
    "z = zip(x, y)\n",
    "print(list(z))"
   ]
  },
  {
   "cell_type": "code",
   "execution_count": 70,
   "id": "20191073",
   "metadata": {},
   "outputs": [
    {
     "name": "stdout",
     "output_type": "stream",
     "text": [
      "0 h\n",
      "1 e\n",
      "2 l\n",
      "3 l\n",
      "4 o\n"
     ]
    }
   ],
   "source": [
    "s = 'hello'\n",
    "for i, ch in enumerate(s): print(i, ch)"
   ]
  },
  {
   "cell_type": "code",
   "execution_count": 71,
   "id": "f7867355",
   "metadata": {},
   "outputs": [
    {
     "name": "stdout",
     "output_type": "stream",
     "text": [
      "[(1, 'a'), (2, 'b'), (3, 'c')]\n"
     ]
    }
   ],
   "source": [
    "x = [1, 2, 3]\n",
    "y = ['a', 'b', 'c']\n",
    "z = zip(x, y)\n",
    "print(list(z))"
   ]
  },
  {
   "cell_type": "code",
   "execution_count": 72,
   "id": "8c5ff2e6",
   "metadata": {},
   "outputs": [
    {
     "name": "stdout",
     "output_type": "stream",
     "text": [
      "24\n"
     ]
    }
   ],
   "source": [
    "from functools import reduce\n",
    "nums = [1, 2, 3, 4]\n",
    "result = reduce(lambda x, y: x * y, nums)\n",
    "print(result)"
   ]
  },
  {
   "cell_type": "code",
   "execution_count": 73,
   "id": "d789e6dc",
   "metadata": {},
   "outputs": [
    {
     "name": "stdout",
     "output_type": "stream",
     "text": [
      "0 h\n",
      "1 e\n",
      "2 l\n",
      "3 l\n",
      "4 o\n"
     ]
    }
   ],
   "source": [
    "s = 'hello'\n",
    "for i, ch in enumerate(s): print(i, ch)"
   ]
  },
  {
   "cell_type": "code",
   "execution_count": 74,
   "id": "7c55995c",
   "metadata": {},
   "outputs": [
    {
     "name": "stdout",
     "output_type": "stream",
     "text": [
      "['HELLO', 'WORLD']\n"
     ]
    }
   ],
   "source": [
    "words = ['hello', 'world']\n",
    "result = list(map(str.upper, words))\n",
    "print(result)"
   ]
  },
  {
   "cell_type": "code",
   "execution_count": 75,
   "id": "2d27bf49",
   "metadata": {},
   "outputs": [
    {
     "name": "stdout",
     "output_type": "stream",
     "text": [
      "15\n"
     ]
    }
   ],
   "source": [
    "x = lambda a : a + 10\n",
    "print(x(5))"
   ]
  },
  {
   "cell_type": "code",
   "execution_count": 76,
   "id": "1d443175",
   "metadata": {},
   "outputs": [
    {
     "name": "stdout",
     "output_type": "stream",
     "text": [
      "[('a', 85), ('b', 90), ('c', 95)]\n"
     ]
    }
   ],
   "source": [
    "names = ['a', 'b', 'c']\n",
    "scores = [85, 90, 95]\n",
    "result = list(zip(names, scores))\n",
    "print(result)"
   ]
  },
  {
   "cell_type": "code",
   "execution_count": 77,
   "id": "f26720fa",
   "metadata": {},
   "outputs": [
    {
     "name": "stdout",
     "output_type": "stream",
     "text": [
      "[2, 4, 6]\n"
     ]
    }
   ],
   "source": [
    "nums = [1, 2, 3, 4, 5, 6]\n",
    "result = list(filter(lambda x: x % 2 == 0, nums))\n",
    "print(result)"
   ]
  },
  {
   "cell_type": "code",
   "execution_count": 78,
   "id": "be552e89",
   "metadata": {},
   "outputs": [
    {
     "name": "stdout",
     "output_type": "stream",
     "text": [
      "['HELLO', 'WORLD']\n"
     ]
    }
   ],
   "source": [
    "words = ['hello', 'world']\n",
    "result = list(map(str.upper, words))\n",
    "print(result)"
   ]
  },
  {
   "cell_type": "code",
   "execution_count": 79,
   "id": "74dbccbe",
   "metadata": {},
   "outputs": [
    {
     "name": "stdout",
     "output_type": "stream",
     "text": [
      "[('a', 85), ('b', 90), ('c', 95)]\n"
     ]
    }
   ],
   "source": [
    "names = ['a', 'b', 'c']\n",
    "scores = [85, 90, 95]\n",
    "result = list(zip(names, scores))\n",
    "print(result)"
   ]
  },
  {
   "cell_type": "code",
   "execution_count": 80,
   "id": "3e23d09b",
   "metadata": {},
   "outputs": [
    {
     "name": "stdout",
     "output_type": "stream",
     "text": [
      "[('a', 85), ('b', 90), ('c', 95)]\n"
     ]
    }
   ],
   "source": [
    "names = ['a', 'b', 'c']\n",
    "scores = [85, 90, 95]\n",
    "result = list(zip(names, scores))\n",
    "print(result)"
   ]
  },
  {
   "cell_type": "code",
   "execution_count": 81,
   "id": "63b686d4",
   "metadata": {},
   "outputs": [
    {
     "name": "stdout",
     "output_type": "stream",
     "text": [
      "['HELLO', 'WORLD']\n"
     ]
    }
   ],
   "source": [
    "words = ['hello', 'world']\n",
    "result = list(map(str.upper, words))\n",
    "print(result)"
   ]
  },
  {
   "cell_type": "code",
   "execution_count": 82,
   "id": "eeea7cbe",
   "metadata": {},
   "outputs": [
    {
     "name": "stdout",
     "output_type": "stream",
     "text": [
      "['HELLO', 'WORLD']\n"
     ]
    }
   ],
   "source": [
    "words = ['hello', 'world']\n",
    "result = list(map(str.upper, words))\n",
    "print(result)"
   ]
  },
  {
   "cell_type": "code",
   "execution_count": 83,
   "id": "9c18a614",
   "metadata": {},
   "outputs": [
    {
     "name": "stdout",
     "output_type": "stream",
     "text": [
      "[2, 4, 6]\n"
     ]
    }
   ],
   "source": [
    "nums = [1, 2, 3, 4, 5, 6]\n",
    "result = list(filter(lambda x: x % 2 == 0, nums))\n",
    "print(result)"
   ]
  },
  {
   "cell_type": "code",
   "execution_count": 84,
   "id": "d40623a8",
   "metadata": {},
   "outputs": [
    {
     "name": "stdout",
     "output_type": "stream",
     "text": [
      "0 h\n",
      "1 e\n",
      "2 l\n",
      "3 l\n",
      "4 o\n"
     ]
    }
   ],
   "source": [
    "s = 'hello'\n",
    "for i, ch in enumerate(s): print(i, ch)"
   ]
  },
  {
   "cell_type": "code",
   "execution_count": 85,
   "id": "f1f0ed6e",
   "metadata": {},
   "outputs": [
    {
     "name": "stdout",
     "output_type": "stream",
     "text": [
      "10\n"
     ]
    }
   ],
   "source": [
    "from functools import reduce\n",
    "nums = [1, 2, 3, 4]\n",
    "result = reduce(lambda x, y: x + y, nums)\n",
    "print(result)"
   ]
  },
  {
   "cell_type": "code",
   "execution_count": 86,
   "id": "fe9da60c",
   "metadata": {},
   "outputs": [
    {
     "name": "stdout",
     "output_type": "stream",
     "text": [
      "24\n"
     ]
    }
   ],
   "source": [
    "from functools import reduce\n",
    "nums = [1, 2, 3, 4]\n",
    "result = reduce(lambda x, y: x * y, nums)\n",
    "print(result)"
   ]
  },
  {
   "cell_type": "code",
   "execution_count": 87,
   "id": "6c7db781",
   "metadata": {},
   "outputs": [
    {
     "name": "stdout",
     "output_type": "stream",
     "text": [
      "10\n"
     ]
    }
   ],
   "source": [
    "from functools import reduce\n",
    "nums = [1, 2, 3, 4]\n",
    "result = reduce(lambda x, y: x + y, nums)\n",
    "print(result)"
   ]
  },
  {
   "cell_type": "code",
   "execution_count": 88,
   "id": "eaed98d0",
   "metadata": {},
   "outputs": [
    {
     "name": "stdout",
     "output_type": "stream",
     "text": [
      "10\n"
     ]
    }
   ],
   "source": [
    "from functools import reduce\n",
    "nums = [1, 2, 3, 4]\n",
    "result = reduce(lambda x, y: x + y, nums)\n",
    "print(result)"
   ]
  },
  {
   "cell_type": "code",
   "execution_count": 89,
   "id": "e3a4fa51",
   "metadata": {},
   "outputs": [
    {
     "name": "stdout",
     "output_type": "stream",
     "text": [
      "[(1, 'a'), (2, 'b'), (3, 'c')]\n"
     ]
    }
   ],
   "source": [
    "x = [1, 2, 3]\n",
    "y = ['a', 'b', 'c']\n",
    "z = zip(x, y)\n",
    "print(list(z))"
   ]
  },
  {
   "cell_type": "code",
   "execution_count": 90,
   "id": "69f44b61",
   "metadata": {},
   "outputs": [
    {
     "name": "stdout",
     "output_type": "stream",
     "text": [
      "24\n"
     ]
    }
   ],
   "source": [
    "from functools import reduce\n",
    "nums = [1, 2, 3, 4]\n",
    "result = reduce(lambda x, y: x * y, nums)\n",
    "print(result)"
   ]
  },
  {
   "cell_type": "code",
   "execution_count": 91,
   "id": "192c783a",
   "metadata": {},
   "outputs": [
    {
     "name": "stdout",
     "output_type": "stream",
     "text": [
      "[2, 4, 6]\n"
     ]
    }
   ],
   "source": [
    "nums = [1, 2, 3, 4, 5, 6]\n",
    "result = list(filter(lambda x: x % 2 == 0, nums))\n",
    "print(result)"
   ]
  },
  {
   "cell_type": "code",
   "execution_count": 92,
   "id": "623dd35d",
   "metadata": {},
   "outputs": [
    {
     "name": "stdout",
     "output_type": "stream",
     "text": [
      "0 h\n",
      "1 e\n",
      "2 l\n",
      "3 l\n",
      "4 o\n"
     ]
    }
   ],
   "source": [
    "s = 'hello'\n",
    "for i, ch in enumerate(s): print(i, ch)"
   ]
  },
  {
   "cell_type": "code",
   "execution_count": 93,
   "id": "6780d391",
   "metadata": {},
   "outputs": [
    {
     "name": "stdout",
     "output_type": "stream",
     "text": [
      "['Cathy']\n"
     ]
    }
   ],
   "source": [
    "names = ['Amy', 'Ben', 'Cathy', 'Dan']\n",
    "result = list(filter(lambda x: x.startswith('C'), names))\n",
    "print(result)"
   ]
  },
  {
   "cell_type": "code",
   "execution_count": 94,
   "id": "48900265",
   "metadata": {},
   "outputs": [
    {
     "name": "stdout",
     "output_type": "stream",
     "text": [
      "[2, 4, 6, 8]\n"
     ]
    }
   ],
   "source": [
    "nums = [1, 2, 3, 4]\n",
    "result = list(map(lambda x: x * 2, nums))\n",
    "print(result)"
   ]
  },
  {
   "cell_type": "code",
   "execution_count": 95,
   "id": "9c9e9f92",
   "metadata": {},
   "outputs": [
    {
     "name": "stdout",
     "output_type": "stream",
     "text": [
      "['HELLO', 'WORLD']\n"
     ]
    }
   ],
   "source": [
    "words = ['hello', 'world']\n",
    "result = list(map(str.upper, words))\n",
    "print(result)"
   ]
  },
  {
   "cell_type": "code",
   "execution_count": 96,
   "id": "d54bc1d8",
   "metadata": {},
   "outputs": [
    {
     "name": "stdout",
     "output_type": "stream",
     "text": [
      "['Cathy']\n"
     ]
    }
   ],
   "source": [
    "names = ['Amy', 'Ben', 'Cathy', 'Dan']\n",
    "result = list(filter(lambda x: x.startswith('C'), names))\n",
    "print(result)"
   ]
  },
  {
   "cell_type": "code",
   "execution_count": 97,
   "id": "9333bdc8",
   "metadata": {},
   "outputs": [
    {
     "name": "stdout",
     "output_type": "stream",
     "text": [
      "[('a', 85), ('b', 90), ('c', 95)]\n"
     ]
    }
   ],
   "source": [
    "names = ['a', 'b', 'c']\n",
    "scores = [85, 90, 95]\n",
    "result = list(zip(names, scores))\n",
    "print(result)"
   ]
  },
  {
   "cell_type": "code",
   "execution_count": 98,
   "id": "0f2a5b12",
   "metadata": {},
   "outputs": [
    {
     "name": "stdout",
     "output_type": "stream",
     "text": [
      "[2, 4, 6, 8]\n"
     ]
    }
   ],
   "source": [
    "nums = [1, 2, 3, 4]\n",
    "result = list(map(lambda x: x * 2, nums))\n",
    "print(result)"
   ]
  },
  {
   "cell_type": "code",
   "execution_count": 99,
   "id": "8ac497e2",
   "metadata": {},
   "outputs": [
    {
     "name": "stdout",
     "output_type": "stream",
     "text": [
      "30\n"
     ]
    }
   ],
   "source": [
    "x = lambda a, b : a * b\n",
    "print(x(5, 6))"
   ]
  },
  {
   "cell_type": "code",
   "execution_count": 100,
   "id": "21d37b41",
   "metadata": {},
   "outputs": [
    {
     "name": "stdout",
     "output_type": "stream",
     "text": [
      "10\n"
     ]
    }
   ],
   "source": [
    "from functools import reduce\n",
    "nums = [1, 2, 3, 4]\n",
    "result = reduce(lambda x, y: x + y, nums)\n",
    "print(result)"
   ]
  },
  {
   "cell_type": "code",
   "execution_count": 101,
   "id": "4a9eca24",
   "metadata": {},
   "outputs": [
    {
     "name": "stdout",
     "output_type": "stream",
     "text": [
      "6\n"
     ]
    }
   ],
   "source": [
    "x = lambda a, b, c : a + b + c\n",
    "print(x(1, 2, 3))"
   ]
  },
  {
   "cell_type": "code",
   "execution_count": 102,
   "id": "cf02c22f",
   "metadata": {},
   "outputs": [
    {
     "name": "stdout",
     "output_type": "stream",
     "text": [
      "['HELLO', 'WORLD']\n"
     ]
    }
   ],
   "source": [
    "words = ['hello', 'world']\n",
    "result = list(map(str.upper, words))\n",
    "print(result)"
   ]
  },
  {
   "cell_type": "code",
   "execution_count": 103,
   "id": "6a6c4cf0",
   "metadata": {},
   "outputs": [
    {
     "name": "stdout",
     "output_type": "stream",
     "text": [
      "['Cathy']\n"
     ]
    }
   ],
   "source": [
    "names = ['Amy', 'Ben', 'Cathy', 'Dan']\n",
    "result = list(filter(lambda x: x.startswith('C'), names))\n",
    "print(result)"
   ]
  },
  {
   "cell_type": "code",
   "execution_count": 104,
   "id": "d748c6d4",
   "metadata": {},
   "outputs": [
    {
     "name": "stdout",
     "output_type": "stream",
     "text": [
      "[2, 4, 6]\n"
     ]
    }
   ],
   "source": [
    "nums = [1, 2, 3, 4, 5, 6]\n",
    "result = list(filter(lambda x: x % 2 == 0, nums))\n",
    "print(result)"
   ]
  },
  {
   "cell_type": "code",
   "execution_count": 105,
   "id": "a1828dd6",
   "metadata": {},
   "outputs": [
    {
     "name": "stdout",
     "output_type": "stream",
     "text": [
      "15\n"
     ]
    }
   ],
   "source": [
    "x = lambda a : a + 10\n",
    "print(x(5))"
   ]
  },
  {
   "cell_type": "code",
   "execution_count": 106,
   "id": "c1e4ab79",
   "metadata": {},
   "outputs": [
    {
     "name": "stdout",
     "output_type": "stream",
     "text": [
      "[('a', 85), ('b', 90), ('c', 95)]\n"
     ]
    }
   ],
   "source": [
    "names = ['a', 'b', 'c']\n",
    "scores = [85, 90, 95]\n",
    "result = list(zip(names, scores))\n",
    "print(result)"
   ]
  },
  {
   "cell_type": "code",
   "execution_count": 107,
   "id": "78003d6f",
   "metadata": {},
   "outputs": [
    {
     "name": "stdout",
     "output_type": "stream",
     "text": [
      "24\n"
     ]
    }
   ],
   "source": [
    "from functools import reduce\n",
    "nums = [1, 2, 3, 4]\n",
    "result = reduce(lambda x, y: x * y, nums)\n",
    "print(result)"
   ]
  },
  {
   "cell_type": "code",
   "execution_count": 108,
   "id": "c129ab23",
   "metadata": {},
   "outputs": [
    {
     "name": "stdout",
     "output_type": "stream",
     "text": [
      "24\n"
     ]
    }
   ],
   "source": [
    "from functools import reduce\n",
    "nums = [1, 2, 3, 4]\n",
    "result = reduce(lambda x, y: x * y, nums)\n",
    "print(result)"
   ]
  },
  {
   "cell_type": "code",
   "execution_count": 109,
   "id": "3f3154d9",
   "metadata": {},
   "outputs": [
    {
     "name": "stdout",
     "output_type": "stream",
     "text": [
      "['Cathy']\n"
     ]
    }
   ],
   "source": [
    "names = ['Amy', 'Ben', 'Cathy', 'Dan']\n",
    "result = list(filter(lambda x: x.startswith('C'), names))\n",
    "print(result)"
   ]
  },
  {
   "cell_type": "code",
   "execution_count": 110,
   "id": "fc0fa825",
   "metadata": {},
   "outputs": [
    {
     "name": "stdout",
     "output_type": "stream",
     "text": [
      "[('a', 85), ('b', 90), ('c', 95)]\n"
     ]
    }
   ],
   "source": [
    "names = ['a', 'b', 'c']\n",
    "scores = [85, 90, 95]\n",
    "result = list(zip(names, scores))\n",
    "print(result)"
   ]
  },
  {
   "cell_type": "code",
   "execution_count": 111,
   "id": "648a7630",
   "metadata": {},
   "outputs": [
    {
     "name": "stdout",
     "output_type": "stream",
     "text": [
      "[('a', 85), ('b', 90), ('c', 95)]\n"
     ]
    }
   ],
   "source": [
    "names = ['a', 'b', 'c']\n",
    "scores = [85, 90, 95]\n",
    "result = list(zip(names, scores))\n",
    "print(result)"
   ]
  },
  {
   "cell_type": "code",
   "execution_count": 112,
   "id": "71533f78",
   "metadata": {},
   "outputs": [
    {
     "name": "stdout",
     "output_type": "stream",
     "text": [
      "6\n"
     ]
    }
   ],
   "source": [
    "x = lambda a, b, c : a + b + c\n",
    "print(x(1, 2, 3))"
   ]
  },
  {
   "cell_type": "code",
   "execution_count": 113,
   "id": "102a06f6",
   "metadata": {},
   "outputs": [
    {
     "name": "stdout",
     "output_type": "stream",
     "text": [
      "[2, 4, 6, 8]\n"
     ]
    }
   ],
   "source": [
    "nums = [1, 2, 3, 4]\n",
    "result = list(map(lambda x: x * 2, nums))\n",
    "print(result)"
   ]
  },
  {
   "cell_type": "code",
   "execution_count": 114,
   "id": "79256749",
   "metadata": {},
   "outputs": [
    {
     "name": "stdout",
     "output_type": "stream",
     "text": [
      "0 a\n",
      "1 b\n",
      "2 c\n"
     ]
    }
   ],
   "source": [
    "lst = ['a', 'b', 'c']\n",
    "for index, value in enumerate(lst): print(index, value)"
   ]
  },
  {
   "cell_type": "code",
   "execution_count": 115,
   "id": "6e0f3eb3",
   "metadata": {},
   "outputs": [
    {
     "name": "stdout",
     "output_type": "stream",
     "text": [
      "10\n"
     ]
    }
   ],
   "source": [
    "from functools import reduce\n",
    "nums = [1, 2, 3, 4]\n",
    "result = reduce(lambda x, y: x + y, nums)\n",
    "print(result)"
   ]
  },
  {
   "cell_type": "code",
   "execution_count": 116,
   "id": "44af7824",
   "metadata": {},
   "outputs": [
    {
     "name": "stdout",
     "output_type": "stream",
     "text": [
      "10\n"
     ]
    }
   ],
   "source": [
    "from functools import reduce\n",
    "nums = [1, 2, 3, 4]\n",
    "result = reduce(lambda x, y: x + y, nums)\n",
    "print(result)"
   ]
  },
  {
   "cell_type": "code",
   "execution_count": 117,
   "id": "29086d1e",
   "metadata": {},
   "outputs": [
    {
     "name": "stdout",
     "output_type": "stream",
     "text": [
      "[2, 4, 6, 8]\n"
     ]
    }
   ],
   "source": [
    "nums = [1, 2, 3, 4]\n",
    "result = list(map(lambda x: x * 2, nums))\n",
    "print(result)"
   ]
  },
  {
   "cell_type": "code",
   "execution_count": 118,
   "id": "0ebeacab",
   "metadata": {},
   "outputs": [
    {
     "name": "stdout",
     "output_type": "stream",
     "text": [
      "30\n"
     ]
    }
   ],
   "source": [
    "x = lambda a, b : a * b\n",
    "print(x(5, 6))"
   ]
  },
  {
   "cell_type": "code",
   "execution_count": 119,
   "id": "67f4008a",
   "metadata": {},
   "outputs": [
    {
     "name": "stdout",
     "output_type": "stream",
     "text": [
      "[2, 4, 6]\n"
     ]
    }
   ],
   "source": [
    "nums = [1, 2, 3, 4, 5, 6]\n",
    "result = list(filter(lambda x: x % 2 == 0, nums))\n",
    "print(result)"
   ]
  },
  {
   "cell_type": "code",
   "execution_count": 120,
   "id": "72ec8e60",
   "metadata": {},
   "outputs": [
    {
     "name": "stdout",
     "output_type": "stream",
     "text": [
      "6\n"
     ]
    }
   ],
   "source": [
    "x = lambda a, b, c : a + b + c\n",
    "print(x(1, 2, 3))"
   ]
  },
  {
   "cell_type": "code",
   "execution_count": 121,
   "id": "5ce7823a",
   "metadata": {},
   "outputs": [
    {
     "name": "stdout",
     "output_type": "stream",
     "text": [
      "15\n"
     ]
    }
   ],
   "source": [
    "x = lambda a : a + 10\n",
    "print(x(5))"
   ]
  },
  {
   "cell_type": "code",
   "execution_count": 122,
   "id": "355bebe8",
   "metadata": {},
   "outputs": [
    {
     "name": "stdout",
     "output_type": "stream",
     "text": [
      "[('a', 85), ('b', 90), ('c', 95)]\n"
     ]
    }
   ],
   "source": [
    "names = ['a', 'b', 'c']\n",
    "scores = [85, 90, 95]\n",
    "result = list(zip(names, scores))\n",
    "print(result)"
   ]
  },
  {
   "cell_type": "code",
   "execution_count": 123,
   "id": "08446f83",
   "metadata": {},
   "outputs": [
    {
     "name": "stdout",
     "output_type": "stream",
     "text": [
      "['Cathy']\n"
     ]
    }
   ],
   "source": [
    "names = ['Amy', 'Ben', 'Cathy', 'Dan']\n",
    "result = list(filter(lambda x: x.startswith('C'), names))\n",
    "print(result)"
   ]
  },
  {
   "cell_type": "code",
   "execution_count": 124,
   "id": "3d6e0ad9",
   "metadata": {},
   "outputs": [
    {
     "name": "stdout",
     "output_type": "stream",
     "text": [
      "[2, 4, 6, 8]\n"
     ]
    }
   ],
   "source": [
    "nums = [1, 2, 3, 4]\n",
    "result = list(map(lambda x: x * 2, nums))\n",
    "print(result)"
   ]
  },
  {
   "cell_type": "code",
   "execution_count": 125,
   "id": "33500ecb",
   "metadata": {},
   "outputs": [
    {
     "name": "stdout",
     "output_type": "stream",
     "text": [
      "30\n"
     ]
    }
   ],
   "source": [
    "x = lambda a, b : a * b\n",
    "print(x(5, 6))"
   ]
  },
  {
   "cell_type": "code",
   "execution_count": 126,
   "id": "f005df6d",
   "metadata": {},
   "outputs": [
    {
     "name": "stdout",
     "output_type": "stream",
     "text": [
      "[2, 4, 6]\n"
     ]
    }
   ],
   "source": [
    "nums = [1, 2, 3, 4, 5, 6]\n",
    "result = list(filter(lambda x: x % 2 == 0, nums))\n",
    "print(result)"
   ]
  },
  {
   "cell_type": "code",
   "execution_count": 127,
   "id": "4ea3b755",
   "metadata": {},
   "outputs": [
    {
     "name": "stdout",
     "output_type": "stream",
     "text": [
      "6\n"
     ]
    }
   ],
   "source": [
    "x = lambda a, b, c : a + b + c\n",
    "print(x(1, 2, 3))"
   ]
  },
  {
   "cell_type": "code",
   "execution_count": 128,
   "id": "5707bf0f",
   "metadata": {},
   "outputs": [
    {
     "name": "stdout",
     "output_type": "stream",
     "text": [
      "15\n"
     ]
    }
   ],
   "source": [
    "x = lambda a : a + 10\n",
    "print(x(5))"
   ]
  },
  {
   "cell_type": "code",
   "execution_count": 129,
   "id": "a4f288d3",
   "metadata": {},
   "outputs": [
    {
     "name": "stdout",
     "output_type": "stream",
     "text": [
      "0 a\n",
      "1 b\n",
      "2 c\n"
     ]
    }
   ],
   "source": [
    "lst = ['a', 'b', 'c']\n",
    "for index, value in enumerate(lst): print(index, value)"
   ]
  },
  {
   "cell_type": "code",
   "execution_count": 130,
   "id": "5249198a",
   "metadata": {},
   "outputs": [
    {
     "name": "stdout",
     "output_type": "stream",
     "text": [
      "10\n"
     ]
    }
   ],
   "source": [
    "from functools import reduce\n",
    "nums = [1, 2, 3, 4]\n",
    "result = reduce(lambda x, y: x + y, nums)\n",
    "print(result)"
   ]
  },
  {
   "cell_type": "code",
   "execution_count": 131,
   "id": "08e74a7b",
   "metadata": {},
   "outputs": [
    {
     "name": "stdout",
     "output_type": "stream",
     "text": [
      "0 h\n",
      "1 e\n",
      "2 l\n",
      "3 l\n",
      "4 o\n"
     ]
    }
   ],
   "source": [
    "s = 'hello'\n",
    "for i, ch in enumerate(s): print(i, ch)"
   ]
  },
  {
   "cell_type": "code",
   "execution_count": 132,
   "id": "f8f82fea",
   "metadata": {},
   "outputs": [
    {
     "name": "stdout",
     "output_type": "stream",
     "text": [
      "0 h\n",
      "1 e\n",
      "2 l\n",
      "3 l\n",
      "4 o\n"
     ]
    }
   ],
   "source": [
    "s = 'hello'\n",
    "for i, ch in enumerate(s): print(i, ch)"
   ]
  },
  {
   "cell_type": "code",
   "execution_count": 133,
   "id": "47dd0463",
   "metadata": {},
   "outputs": [
    {
     "name": "stdout",
     "output_type": "stream",
     "text": [
      "15\n"
     ]
    }
   ],
   "source": [
    "x = lambda a : a + 10\n",
    "print(x(5))"
   ]
  },
  {
   "cell_type": "code",
   "execution_count": 134,
   "id": "993c9b74",
   "metadata": {},
   "outputs": [
    {
     "name": "stdout",
     "output_type": "stream",
     "text": [
      "[('a', 85), ('b', 90), ('c', 95)]\n"
     ]
    }
   ],
   "source": [
    "names = ['a', 'b', 'c']\n",
    "scores = [85, 90, 95]\n",
    "result = list(zip(names, scores))\n",
    "print(result)"
   ]
  },
  {
   "cell_type": "code",
   "execution_count": 135,
   "id": "3b49f4c7",
   "metadata": {},
   "outputs": [
    {
     "name": "stdout",
     "output_type": "stream",
     "text": [
      "10\n"
     ]
    }
   ],
   "source": [
    "from functools import reduce\n",
    "nums = [1, 2, 3, 4]\n",
    "result = reduce(lambda x, y: x + y, nums)\n",
    "print(result)"
   ]
  },
  {
   "cell_type": "code",
   "execution_count": 136,
   "id": "848b1d77",
   "metadata": {},
   "outputs": [
    {
     "name": "stdout",
     "output_type": "stream",
     "text": [
      "[(1, 'a'), (2, 'b'), (3, 'c')]\n"
     ]
    }
   ],
   "source": [
    "x = [1, 2, 3]\n",
    "y = ['a', 'b', 'c']\n",
    "z = zip(x, y)\n",
    "print(list(z))"
   ]
  },
  {
   "cell_type": "code",
   "execution_count": 137,
   "id": "9bbe0557",
   "metadata": {},
   "outputs": [
    {
     "name": "stdout",
     "output_type": "stream",
     "text": [
      "10\n"
     ]
    }
   ],
   "source": [
    "from functools import reduce\n",
    "nums = [1, 2, 3, 4]\n",
    "result = reduce(lambda x, y: x + y, nums)\n",
    "print(result)"
   ]
  },
  {
   "cell_type": "code",
   "execution_count": 138,
   "id": "ec7df82b",
   "metadata": {},
   "outputs": [
    {
     "name": "stdout",
     "output_type": "stream",
     "text": [
      "24\n"
     ]
    }
   ],
   "source": [
    "from functools import reduce\n",
    "nums = [1, 2, 3, 4]\n",
    "result = reduce(lambda x, y: x * y, nums)\n",
    "print(result)"
   ]
  },
  {
   "cell_type": "code",
   "execution_count": 139,
   "id": "c0c1e8b8",
   "metadata": {},
   "outputs": [
    {
     "name": "stdout",
     "output_type": "stream",
     "text": [
      "0 a\n",
      "1 b\n",
      "2 c\n"
     ]
    }
   ],
   "source": [
    "lst = ['a', 'b', 'c']\n",
    "for index, value in enumerate(lst): print(index, value)"
   ]
  },
  {
   "cell_type": "code",
   "execution_count": 140,
   "id": "07613e32",
   "metadata": {},
   "outputs": [
    {
     "name": "stdout",
     "output_type": "stream",
     "text": [
      "[2, 4, 6, 8]\n"
     ]
    }
   ],
   "source": [
    "nums = [1, 2, 3, 4]\n",
    "result = list(map(lambda x: x * 2, nums))\n",
    "print(result)"
   ]
  },
  {
   "cell_type": "code",
   "execution_count": 141,
   "id": "ec65e3c5",
   "metadata": {},
   "outputs": [
    {
     "name": "stdout",
     "output_type": "stream",
     "text": [
      "24\n"
     ]
    }
   ],
   "source": [
    "from functools import reduce\n",
    "nums = [1, 2, 3, 4]\n",
    "result = reduce(lambda x, y: x * y, nums)\n",
    "print(result)"
   ]
  },
  {
   "cell_type": "code",
   "execution_count": 142,
   "id": "05d0d67d",
   "metadata": {},
   "outputs": [
    {
     "name": "stdout",
     "output_type": "stream",
     "text": [
      "[('a', 85), ('b', 90), ('c', 95)]\n"
     ]
    }
   ],
   "source": [
    "names = ['a', 'b', 'c']\n",
    "scores = [85, 90, 95]\n",
    "result = list(zip(names, scores))\n",
    "print(result)"
   ]
  },
  {
   "cell_type": "code",
   "execution_count": 143,
   "id": "5f7403cf",
   "metadata": {},
   "outputs": [
    {
     "name": "stdout",
     "output_type": "stream",
     "text": [
      "0 a\n",
      "1 b\n",
      "2 c\n"
     ]
    }
   ],
   "source": [
    "lst = ['a', 'b', 'c']\n",
    "for index, value in enumerate(lst): print(index, value)"
   ]
  },
  {
   "cell_type": "code",
   "execution_count": 144,
   "id": "be1ad6dc",
   "metadata": {},
   "outputs": [
    {
     "name": "stdout",
     "output_type": "stream",
     "text": [
      "24\n"
     ]
    }
   ],
   "source": [
    "from functools import reduce\n",
    "nums = [1, 2, 3, 4]\n",
    "result = reduce(lambda x, y: x * y, nums)\n",
    "print(result)"
   ]
  },
  {
   "cell_type": "code",
   "execution_count": 145,
   "id": "fa43e43c",
   "metadata": {},
   "outputs": [
    {
     "name": "stdout",
     "output_type": "stream",
     "text": [
      "['HELLO', 'WORLD']\n"
     ]
    }
   ],
   "source": [
    "words = ['hello', 'world']\n",
    "result = list(map(str.upper, words))\n",
    "print(result)"
   ]
  },
  {
   "cell_type": "code",
   "execution_count": 146,
   "id": "715a108d",
   "metadata": {},
   "outputs": [
    {
     "name": "stdout",
     "output_type": "stream",
     "text": [
      "0 a\n",
      "1 b\n",
      "2 c\n"
     ]
    }
   ],
   "source": [
    "lst = ['a', 'b', 'c']\n",
    "for index, value in enumerate(lst): print(index, value)"
   ]
  },
  {
   "cell_type": "code",
   "execution_count": 147,
   "id": "0d3dbe8f",
   "metadata": {},
   "outputs": [
    {
     "name": "stdout",
     "output_type": "stream",
     "text": [
      "15\n"
     ]
    }
   ],
   "source": [
    "x = lambda a : a + 10\n",
    "print(x(5))"
   ]
  },
  {
   "cell_type": "code",
   "execution_count": 148,
   "id": "1b65cd56",
   "metadata": {},
   "outputs": [
    {
     "name": "stdout",
     "output_type": "stream",
     "text": [
      "15\n"
     ]
    }
   ],
   "source": [
    "x = lambda a : a + 10\n",
    "print(x(5))"
   ]
  },
  {
   "cell_type": "code",
   "execution_count": 149,
   "id": "914a6b3d",
   "metadata": {},
   "outputs": [
    {
     "name": "stdout",
     "output_type": "stream",
     "text": [
      "24\n"
     ]
    }
   ],
   "source": [
    "from functools import reduce\n",
    "nums = [1, 2, 3, 4]\n",
    "result = reduce(lambda x, y: x * y, nums)\n",
    "print(result)"
   ]
  },
  {
   "cell_type": "code",
   "execution_count": 150,
   "id": "b2ec9ae0",
   "metadata": {},
   "outputs": [
    {
     "name": "stdout",
     "output_type": "stream",
     "text": [
      "24\n"
     ]
    }
   ],
   "source": [
    "from functools import reduce\n",
    "nums = [1, 2, 3, 4]\n",
    "result = reduce(lambda x, y: x * y, nums)\n",
    "print(result)"
   ]
  },
  {
   "cell_type": "code",
   "execution_count": 151,
   "id": "22b580ee",
   "metadata": {},
   "outputs": [
    {
     "name": "stdout",
     "output_type": "stream",
     "text": [
      "30\n"
     ]
    }
   ],
   "source": [
    "x = lambda a, b : a * b\n",
    "print(x(5, 6))"
   ]
  },
  {
   "cell_type": "code",
   "execution_count": 152,
   "id": "ac37e22e",
   "metadata": {},
   "outputs": [
    {
     "name": "stdout",
     "output_type": "stream",
     "text": [
      "6\n"
     ]
    }
   ],
   "source": [
    "x = lambda a, b, c : a + b + c\n",
    "print(x(1, 2, 3))"
   ]
  },
  {
   "cell_type": "code",
   "execution_count": 153,
   "id": "38cf37e7",
   "metadata": {},
   "outputs": [
    {
     "name": "stdout",
     "output_type": "stream",
     "text": [
      "10\n"
     ]
    }
   ],
   "source": [
    "from functools import reduce\n",
    "nums = [1, 2, 3, 4]\n",
    "result = reduce(lambda x, y: x + y, nums)\n",
    "print(result)"
   ]
  },
  {
   "cell_type": "code",
   "execution_count": 154,
   "id": "ac591186",
   "metadata": {},
   "outputs": [
    {
     "name": "stdout",
     "output_type": "stream",
     "text": [
      "0 h\n",
      "1 e\n",
      "2 l\n",
      "3 l\n",
      "4 o\n"
     ]
    }
   ],
   "source": [
    "s = 'hello'\n",
    "for i, ch in enumerate(s): print(i, ch)"
   ]
  },
  {
   "cell_type": "code",
   "execution_count": 155,
   "id": "4c654902",
   "metadata": {},
   "outputs": [
    {
     "name": "stdout",
     "output_type": "stream",
     "text": [
      "[(1, 'a'), (2, 'b'), (3, 'c')]\n"
     ]
    }
   ],
   "source": [
    "x = [1, 2, 3]\n",
    "y = ['a', 'b', 'c']\n",
    "z = zip(x, y)\n",
    "print(list(z))"
   ]
  },
  {
   "cell_type": "code",
   "execution_count": 156,
   "id": "76b58ac4",
   "metadata": {},
   "outputs": [
    {
     "name": "stdout",
     "output_type": "stream",
     "text": [
      "[(1, 'a'), (2, 'b'), (3, 'c')]\n"
     ]
    }
   ],
   "source": [
    "x = [1, 2, 3]\n",
    "y = ['a', 'b', 'c']\n",
    "z = zip(x, y)\n",
    "print(list(z))"
   ]
  },
  {
   "cell_type": "code",
   "execution_count": 157,
   "id": "81db54bc",
   "metadata": {},
   "outputs": [
    {
     "name": "stdout",
     "output_type": "stream",
     "text": [
      "15\n"
     ]
    }
   ],
   "source": [
    "x = lambda a : a + 10\n",
    "print(x(5))"
   ]
  },
  {
   "cell_type": "code",
   "execution_count": 158,
   "id": "20622d78",
   "metadata": {},
   "outputs": [
    {
     "name": "stdout",
     "output_type": "stream",
     "text": [
      "[2, 4, 6]\n"
     ]
    }
   ],
   "source": [
    "nums = [1, 2, 3, 4, 5, 6]\n",
    "result = list(filter(lambda x: x % 2 == 0, nums))\n",
    "print(result)"
   ]
  },
  {
   "cell_type": "code",
   "execution_count": 159,
   "id": "c4aca50b",
   "metadata": {},
   "outputs": [
    {
     "name": "stdout",
     "output_type": "stream",
     "text": [
      "[2, 4, 6]\n"
     ]
    }
   ],
   "source": [
    "nums = [1, 2, 3, 4, 5, 6]\n",
    "result = list(filter(lambda x: x % 2 == 0, nums))\n",
    "print(result)"
   ]
  },
  {
   "cell_type": "code",
   "execution_count": 160,
   "id": "74ab9011",
   "metadata": {},
   "outputs": [
    {
     "name": "stdout",
     "output_type": "stream",
     "text": [
      "0 h\n",
      "1 e\n",
      "2 l\n",
      "3 l\n",
      "4 o\n"
     ]
    }
   ],
   "source": [
    "s = 'hello'\n",
    "for i, ch in enumerate(s): print(i, ch)"
   ]
  },
  {
   "cell_type": "code",
   "execution_count": 161,
   "id": "41d92c83",
   "metadata": {},
   "outputs": [
    {
     "name": "stdout",
     "output_type": "stream",
     "text": [
      "10\n"
     ]
    }
   ],
   "source": [
    "from functools import reduce\n",
    "nums = [1, 2, 3, 4]\n",
    "result = reduce(lambda x, y: x + y, nums)\n",
    "print(result)"
   ]
  },
  {
   "cell_type": "code",
   "execution_count": 162,
   "id": "b211b02a",
   "metadata": {},
   "outputs": [
    {
     "name": "stdout",
     "output_type": "stream",
     "text": [
      "0 h\n",
      "1 e\n",
      "2 l\n",
      "3 l\n",
      "4 o\n"
     ]
    }
   ],
   "source": [
    "s = 'hello'\n",
    "for i, ch in enumerate(s): print(i, ch)"
   ]
  },
  {
   "cell_type": "code",
   "execution_count": 163,
   "id": "99143f10",
   "metadata": {},
   "outputs": [
    {
     "name": "stdout",
     "output_type": "stream",
     "text": [
      "[('a', 85), ('b', 90), ('c', 95)]\n"
     ]
    }
   ],
   "source": [
    "names = ['a', 'b', 'c']\n",
    "scores = [85, 90, 95]\n",
    "result = list(zip(names, scores))\n",
    "print(result)"
   ]
  },
  {
   "cell_type": "code",
   "execution_count": 164,
   "id": "2f197a10",
   "metadata": {},
   "outputs": [
    {
     "name": "stdout",
     "output_type": "stream",
     "text": [
      "0 h\n",
      "1 e\n",
      "2 l\n",
      "3 l\n",
      "4 o\n"
     ]
    }
   ],
   "source": [
    "s = 'hello'\n",
    "for i, ch in enumerate(s): print(i, ch)"
   ]
  },
  {
   "cell_type": "code",
   "execution_count": 165,
   "id": "172ffde6",
   "metadata": {},
   "outputs": [
    {
     "name": "stdout",
     "output_type": "stream",
     "text": [
      "6\n"
     ]
    }
   ],
   "source": [
    "x = lambda a, b, c : a + b + c\n",
    "print(x(1, 2, 3))"
   ]
  },
  {
   "cell_type": "code",
   "execution_count": 166,
   "id": "051856cc",
   "metadata": {},
   "outputs": [
    {
     "name": "stdout",
     "output_type": "stream",
     "text": [
      "0 a\n",
      "1 b\n",
      "2 c\n"
     ]
    }
   ],
   "source": [
    "lst = ['a', 'b', 'c']\n",
    "for index, value in enumerate(lst): print(index, value)"
   ]
  },
  {
   "cell_type": "code",
   "execution_count": 167,
   "id": "fb145e6d",
   "metadata": {},
   "outputs": [
    {
     "name": "stdout",
     "output_type": "stream",
     "text": [
      "30\n"
     ]
    }
   ],
   "source": [
    "x = lambda a, b : a * b\n",
    "print(x(5, 6))"
   ]
  },
  {
   "cell_type": "code",
   "execution_count": 168,
   "id": "8ac878b3",
   "metadata": {},
   "outputs": [
    {
     "name": "stdout",
     "output_type": "stream",
     "text": [
      "24\n"
     ]
    }
   ],
   "source": [
    "from functools import reduce\n",
    "nums = [1, 2, 3, 4]\n",
    "result = reduce(lambda x, y: x * y, nums)\n",
    "print(result)"
   ]
  },
  {
   "cell_type": "code",
   "execution_count": 169,
   "id": "0dc1b35d",
   "metadata": {},
   "outputs": [
    {
     "name": "stdout",
     "output_type": "stream",
     "text": [
      "24\n"
     ]
    }
   ],
   "source": [
    "from functools import reduce\n",
    "nums = [1, 2, 3, 4]\n",
    "result = reduce(lambda x, y: x * y, nums)\n",
    "print(result)"
   ]
  },
  {
   "cell_type": "code",
   "execution_count": 170,
   "id": "31470c7b",
   "metadata": {},
   "outputs": [
    {
     "name": "stdout",
     "output_type": "stream",
     "text": [
      "[(1, 'a'), (2, 'b'), (3, 'c')]\n"
     ]
    }
   ],
   "source": [
    "x = [1, 2, 3]\n",
    "y = ['a', 'b', 'c']\n",
    "z = zip(x, y)\n",
    "print(list(z))"
   ]
  },
  {
   "cell_type": "code",
   "execution_count": 171,
   "id": "372c3f97",
   "metadata": {},
   "outputs": [
    {
     "name": "stdout",
     "output_type": "stream",
     "text": [
      "[('a', 85), ('b', 90), ('c', 95)]\n"
     ]
    }
   ],
   "source": [
    "names = ['a', 'b', 'c']\n",
    "scores = [85, 90, 95]\n",
    "result = list(zip(names, scores))\n",
    "print(result)"
   ]
  },
  {
   "cell_type": "code",
   "execution_count": 172,
   "id": "2d07ee71",
   "metadata": {},
   "outputs": [
    {
     "name": "stdout",
     "output_type": "stream",
     "text": [
      "[(1, 'a'), (2, 'b'), (3, 'c')]\n"
     ]
    }
   ],
   "source": [
    "x = [1, 2, 3]\n",
    "y = ['a', 'b', 'c']\n",
    "z = zip(x, y)\n",
    "print(list(z))"
   ]
  },
  {
   "cell_type": "code",
   "execution_count": 173,
   "id": "2b098808",
   "metadata": {},
   "outputs": [
    {
     "name": "stdout",
     "output_type": "stream",
     "text": [
      "15\n"
     ]
    }
   ],
   "source": [
    "x = lambda a : a + 10\n",
    "print(x(5))"
   ]
  },
  {
   "cell_type": "code",
   "execution_count": 174,
   "id": "a5a8581f",
   "metadata": {},
   "outputs": [
    {
     "name": "stdout",
     "output_type": "stream",
     "text": [
      "['Cathy']\n"
     ]
    }
   ],
   "source": [
    "names = ['Amy', 'Ben', 'Cathy', 'Dan']\n",
    "result = list(filter(lambda x: x.startswith('C'), names))\n",
    "print(result)"
   ]
  },
  {
   "cell_type": "code",
   "execution_count": 175,
   "id": "50c0ca04",
   "metadata": {},
   "outputs": [
    {
     "name": "stdout",
     "output_type": "stream",
     "text": [
      "[('a', 85), ('b', 90), ('c', 95)]\n"
     ]
    }
   ],
   "source": [
    "names = ['a', 'b', 'c']\n",
    "scores = [85, 90, 95]\n",
    "result = list(zip(names, scores))\n",
    "print(result)"
   ]
  },
  {
   "cell_type": "code",
   "execution_count": 176,
   "id": "9f4e15ae",
   "metadata": {},
   "outputs": [
    {
     "name": "stdout",
     "output_type": "stream",
     "text": [
      "15\n"
     ]
    }
   ],
   "source": [
    "x = lambda a : a + 10\n",
    "print(x(5))"
   ]
  },
  {
   "cell_type": "code",
   "execution_count": 177,
   "id": "efd22f22",
   "metadata": {},
   "outputs": [
    {
     "name": "stdout",
     "output_type": "stream",
     "text": [
      "0 h\n",
      "1 e\n",
      "2 l\n",
      "3 l\n",
      "4 o\n"
     ]
    }
   ],
   "source": [
    "s = 'hello'\n",
    "for i, ch in enumerate(s): print(i, ch)"
   ]
  },
  {
   "cell_type": "code",
   "execution_count": 178,
   "id": "8edbfcb4",
   "metadata": {},
   "outputs": [
    {
     "name": "stdout",
     "output_type": "stream",
     "text": [
      "6\n"
     ]
    }
   ],
   "source": [
    "x = lambda a, b, c : a + b + c\n",
    "print(x(1, 2, 3))"
   ]
  },
  {
   "cell_type": "code",
   "execution_count": 179,
   "id": "b3032a5a",
   "metadata": {},
   "outputs": [
    {
     "name": "stdout",
     "output_type": "stream",
     "text": [
      "[2, 4, 6]\n"
     ]
    }
   ],
   "source": [
    "nums = [1, 2, 3, 4, 5, 6]\n",
    "result = list(filter(lambda x: x % 2 == 0, nums))\n",
    "print(result)"
   ]
  },
  {
   "cell_type": "code",
   "execution_count": 180,
   "id": "d7d4cf72",
   "metadata": {},
   "outputs": [
    {
     "name": "stdout",
     "output_type": "stream",
     "text": [
      "[2, 4, 6]\n"
     ]
    }
   ],
   "source": [
    "nums = [1, 2, 3, 4, 5, 6]\n",
    "result = list(filter(lambda x: x % 2 == 0, nums))\n",
    "print(result)"
   ]
  },
  {
   "cell_type": "code",
   "execution_count": 181,
   "id": "e348d233",
   "metadata": {},
   "outputs": [
    {
     "name": "stdout",
     "output_type": "stream",
     "text": [
      "[2, 4, 6]\n"
     ]
    }
   ],
   "source": [
    "nums = [1, 2, 3, 4, 5, 6]\n",
    "result = list(filter(lambda x: x % 2 == 0, nums))\n",
    "print(result)"
   ]
  },
  {
   "cell_type": "code",
   "execution_count": 182,
   "id": "8fe10359",
   "metadata": {},
   "outputs": [
    {
     "name": "stdout",
     "output_type": "stream",
     "text": [
      "[(1, 'a'), (2, 'b'), (3, 'c')]\n"
     ]
    }
   ],
   "source": [
    "x = [1, 2, 3]\n",
    "y = ['a', 'b', 'c']\n",
    "z = zip(x, y)\n",
    "print(list(z))"
   ]
  },
  {
   "cell_type": "code",
   "execution_count": 183,
   "id": "7e13c4b6",
   "metadata": {},
   "outputs": [
    {
     "name": "stdout",
     "output_type": "stream",
     "text": [
      "[2, 4, 6]\n"
     ]
    }
   ],
   "source": [
    "nums = [1, 2, 3, 4, 5, 6]\n",
    "result = list(filter(lambda x: x % 2 == 0, nums))\n",
    "print(result)"
   ]
  },
  {
   "cell_type": "code",
   "execution_count": 184,
   "id": "d19d9ad8",
   "metadata": {},
   "outputs": [
    {
     "name": "stdout",
     "output_type": "stream",
     "text": [
      "[2, 4, 6]\n"
     ]
    }
   ],
   "source": [
    "nums = [1, 2, 3, 4, 5, 6]\n",
    "result = list(filter(lambda x: x % 2 == 0, nums))\n",
    "print(result)"
   ]
  },
  {
   "cell_type": "code",
   "execution_count": 185,
   "id": "510965b8",
   "metadata": {},
   "outputs": [
    {
     "name": "stdout",
     "output_type": "stream",
     "text": [
      "0 a\n",
      "1 b\n",
      "2 c\n"
     ]
    }
   ],
   "source": [
    "lst = ['a', 'b', 'c']\n",
    "for index, value in enumerate(lst): print(index, value)"
   ]
  },
  {
   "cell_type": "code",
   "execution_count": 186,
   "id": "65e9ab49",
   "metadata": {},
   "outputs": [
    {
     "name": "stdout",
     "output_type": "stream",
     "text": [
      "24\n"
     ]
    }
   ],
   "source": [
    "from functools import reduce\n",
    "nums = [1, 2, 3, 4]\n",
    "result = reduce(lambda x, y: x * y, nums)\n",
    "print(result)"
   ]
  },
  {
   "cell_type": "code",
   "execution_count": 187,
   "id": "6d31c4e0",
   "metadata": {},
   "outputs": [
    {
     "name": "stdout",
     "output_type": "stream",
     "text": [
      "6\n"
     ]
    }
   ],
   "source": [
    "x = lambda a, b, c : a + b + c\n",
    "print(x(1, 2, 3))"
   ]
  },
  {
   "cell_type": "code",
   "execution_count": 188,
   "id": "daa09d72",
   "metadata": {},
   "outputs": [
    {
     "name": "stdout",
     "output_type": "stream",
     "text": [
      "6\n"
     ]
    }
   ],
   "source": [
    "x = lambda a, b, c : a + b + c\n",
    "print(x(1, 2, 3))"
   ]
  },
  {
   "cell_type": "code",
   "execution_count": 189,
   "id": "387077e8",
   "metadata": {},
   "outputs": [
    {
     "name": "stdout",
     "output_type": "stream",
     "text": [
      "[(1, 'a'), (2, 'b'), (3, 'c')]\n"
     ]
    }
   ],
   "source": [
    "x = [1, 2, 3]\n",
    "y = ['a', 'b', 'c']\n",
    "z = zip(x, y)\n",
    "print(list(z))"
   ]
  },
  {
   "cell_type": "code",
   "execution_count": 190,
   "id": "36d38889",
   "metadata": {},
   "outputs": [
    {
     "name": "stdout",
     "output_type": "stream",
     "text": [
      "['HELLO', 'WORLD']\n"
     ]
    }
   ],
   "source": [
    "words = ['hello', 'world']\n",
    "result = list(map(str.upper, words))\n",
    "print(result)"
   ]
  },
  {
   "cell_type": "code",
   "execution_count": 191,
   "id": "fdd32cb8",
   "metadata": {},
   "outputs": [
    {
     "name": "stdout",
     "output_type": "stream",
     "text": [
      "[('a', 85), ('b', 90), ('c', 95)]\n"
     ]
    }
   ],
   "source": [
    "names = ['a', 'b', 'c']\n",
    "scores = [85, 90, 95]\n",
    "result = list(zip(names, scores))\n",
    "print(result)"
   ]
  },
  {
   "cell_type": "code",
   "execution_count": 192,
   "id": "8bb3b987",
   "metadata": {},
   "outputs": [
    {
     "name": "stdout",
     "output_type": "stream",
     "text": [
      "['Cathy']\n"
     ]
    }
   ],
   "source": [
    "names = ['Amy', 'Ben', 'Cathy', 'Dan']\n",
    "result = list(filter(lambda x: x.startswith('C'), names))\n",
    "print(result)"
   ]
  },
  {
   "cell_type": "code",
   "execution_count": 193,
   "id": "ccc943ad",
   "metadata": {},
   "outputs": [
    {
     "name": "stdout",
     "output_type": "stream",
     "text": [
      "0 h\n",
      "1 e\n",
      "2 l\n",
      "3 l\n",
      "4 o\n"
     ]
    }
   ],
   "source": [
    "s = 'hello'\n",
    "for i, ch in enumerate(s): print(i, ch)"
   ]
  },
  {
   "cell_type": "code",
   "execution_count": 194,
   "id": "a5d8786b",
   "metadata": {},
   "outputs": [
    {
     "name": "stdout",
     "output_type": "stream",
     "text": [
      "10\n"
     ]
    }
   ],
   "source": [
    "from functools import reduce\n",
    "nums = [1, 2, 3, 4]\n",
    "result = reduce(lambda x, y: x + y, nums)\n",
    "print(result)"
   ]
  },
  {
   "cell_type": "code",
   "execution_count": 195,
   "id": "d7b5d561",
   "metadata": {},
   "outputs": [
    {
     "name": "stdout",
     "output_type": "stream",
     "text": [
      "30\n"
     ]
    }
   ],
   "source": [
    "x = lambda a, b : a * b\n",
    "print(x(5, 6))"
   ]
  },
  {
   "cell_type": "code",
   "execution_count": 196,
   "id": "a8257c76",
   "metadata": {},
   "outputs": [
    {
     "name": "stdout",
     "output_type": "stream",
     "text": [
      "['HELLO', 'WORLD']\n"
     ]
    }
   ],
   "source": [
    "words = ['hello', 'world']\n",
    "result = list(map(str.upper, words))\n",
    "print(result)"
   ]
  },
  {
   "cell_type": "code",
   "execution_count": 197,
   "id": "a568d2b2",
   "metadata": {},
   "outputs": [
    {
     "name": "stdout",
     "output_type": "stream",
     "text": [
      "10\n"
     ]
    }
   ],
   "source": [
    "from functools import reduce\n",
    "nums = [1, 2, 3, 4]\n",
    "result = reduce(lambda x, y: x + y, nums)\n",
    "print(result)"
   ]
  },
  {
   "cell_type": "code",
   "execution_count": 198,
   "id": "ff18bec8",
   "metadata": {},
   "outputs": [
    {
     "name": "stdout",
     "output_type": "stream",
     "text": [
      "0 h\n",
      "1 e\n",
      "2 l\n",
      "3 l\n",
      "4 o\n"
     ]
    }
   ],
   "source": [
    "s = 'hello'\n",
    "for i, ch in enumerate(s): print(i, ch)"
   ]
  },
  {
   "cell_type": "code",
   "execution_count": 199,
   "id": "c9004a5b",
   "metadata": {},
   "outputs": [
    {
     "name": "stdout",
     "output_type": "stream",
     "text": [
      "30\n"
     ]
    }
   ],
   "source": [
    "x = lambda a, b : a * b\n",
    "print(x(5, 6))"
   ]
  },
  {
   "cell_type": "code",
   "execution_count": 200,
   "id": "caabacb2",
   "metadata": {},
   "outputs": [
    {
     "name": "stdout",
     "output_type": "stream",
     "text": [
      "30\n"
     ]
    }
   ],
   "source": [
    "x = lambda a, b : a * b\n",
    "print(x(5, 6))"
   ]
  },
  {
   "cell_type": "code",
   "execution_count": 201,
   "id": "1b7f98ea",
   "metadata": {},
   "outputs": [
    {
     "name": "stdout",
     "output_type": "stream",
     "text": [
      "15\n"
     ]
    }
   ],
   "source": [
    "x = lambda a : a + 10\n",
    "print(x(5))"
   ]
  },
  {
   "cell_type": "code",
   "execution_count": 202,
   "id": "a0a38082",
   "metadata": {},
   "outputs": [
    {
     "name": "stdout",
     "output_type": "stream",
     "text": [
      "24\n"
     ]
    }
   ],
   "source": [
    "from functools import reduce\n",
    "nums = [1, 2, 3, 4]\n",
    "result = reduce(lambda x, y: x * y, nums)\n",
    "print(result)"
   ]
  },
  {
   "cell_type": "code",
   "execution_count": 203,
   "id": "8a804a48",
   "metadata": {},
   "outputs": [
    {
     "name": "stdout",
     "output_type": "stream",
     "text": [
      "0 h\n",
      "1 e\n",
      "2 l\n",
      "3 l\n",
      "4 o\n"
     ]
    }
   ],
   "source": [
    "s = 'hello'\n",
    "for i, ch in enumerate(s): print(i, ch)"
   ]
  },
  {
   "cell_type": "code",
   "execution_count": 204,
   "id": "f69efa68",
   "metadata": {},
   "outputs": [
    {
     "name": "stdout",
     "output_type": "stream",
     "text": [
      "[2, 4, 6]\n"
     ]
    }
   ],
   "source": [
    "nums = [1, 2, 3, 4, 5, 6]\n",
    "result = list(filter(lambda x: x % 2 == 0, nums))\n",
    "print(result)"
   ]
  },
  {
   "cell_type": "code",
   "execution_count": 205,
   "id": "f42586a2",
   "metadata": {},
   "outputs": [
    {
     "name": "stdout",
     "output_type": "stream",
     "text": [
      "[2, 4, 6]\n"
     ]
    }
   ],
   "source": [
    "nums = [1, 2, 3, 4, 5, 6]\n",
    "result = list(filter(lambda x: x % 2 == 0, nums))\n",
    "print(result)"
   ]
  },
  {
   "cell_type": "code",
   "execution_count": 206,
   "id": "2564c09b",
   "metadata": {},
   "outputs": [
    {
     "name": "stdout",
     "output_type": "stream",
     "text": [
      "['Cathy']\n"
     ]
    }
   ],
   "source": [
    "names = ['Amy', 'Ben', 'Cathy', 'Dan']\n",
    "result = list(filter(lambda x: x.startswith('C'), names))\n",
    "print(result)"
   ]
  },
  {
   "cell_type": "code",
   "execution_count": 207,
   "id": "3d44c7dc",
   "metadata": {},
   "outputs": [
    {
     "name": "stdout",
     "output_type": "stream",
     "text": [
      "10\n"
     ]
    }
   ],
   "source": [
    "from functools import reduce\n",
    "nums = [1, 2, 3, 4]\n",
    "result = reduce(lambda x, y: x + y, nums)\n",
    "print(result)"
   ]
  },
  {
   "cell_type": "code",
   "execution_count": 208,
   "id": "c5c95159",
   "metadata": {},
   "outputs": [
    {
     "name": "stdout",
     "output_type": "stream",
     "text": [
      "[(1, 'a'), (2, 'b'), (3, 'c')]\n"
     ]
    }
   ],
   "source": [
    "x = [1, 2, 3]\n",
    "y = ['a', 'b', 'c']\n",
    "z = zip(x, y)\n",
    "print(list(z))"
   ]
  },
  {
   "cell_type": "code",
   "execution_count": 209,
   "id": "9e5bae8a",
   "metadata": {},
   "outputs": [
    {
     "name": "stdout",
     "output_type": "stream",
     "text": [
      "6\n"
     ]
    }
   ],
   "source": [
    "x = lambda a, b, c : a + b + c\n",
    "print(x(1, 2, 3))"
   ]
  },
  {
   "cell_type": "code",
   "execution_count": 210,
   "id": "7aefd112",
   "metadata": {},
   "outputs": [
    {
     "name": "stdout",
     "output_type": "stream",
     "text": [
      "10\n"
     ]
    }
   ],
   "source": [
    "from functools import reduce\n",
    "nums = [1, 2, 3, 4]\n",
    "result = reduce(lambda x, y: x + y, nums)\n",
    "print(result)"
   ]
  },
  {
   "cell_type": "code",
   "execution_count": 211,
   "id": "c05d2b39",
   "metadata": {},
   "outputs": [
    {
     "name": "stdout",
     "output_type": "stream",
     "text": [
      "0 h\n",
      "1 e\n",
      "2 l\n",
      "3 l\n",
      "4 o\n"
     ]
    }
   ],
   "source": [
    "s = 'hello'\n",
    "for i, ch in enumerate(s): print(i, ch)"
   ]
  },
  {
   "cell_type": "code",
   "execution_count": 212,
   "id": "83a75119",
   "metadata": {},
   "outputs": [
    {
     "name": "stdout",
     "output_type": "stream",
     "text": [
      "6\n"
     ]
    }
   ],
   "source": [
    "x = lambda a, b, c : a + b + c\n",
    "print(x(1, 2, 3))"
   ]
  },
  {
   "cell_type": "code",
   "execution_count": 213,
   "id": "74564265",
   "metadata": {},
   "outputs": [
    {
     "name": "stdout",
     "output_type": "stream",
     "text": [
      "15\n"
     ]
    }
   ],
   "source": [
    "x = lambda a : a + 10\n",
    "print(x(5))"
   ]
  },
  {
   "cell_type": "code",
   "execution_count": 214,
   "id": "489bae37",
   "metadata": {},
   "outputs": [
    {
     "name": "stdout",
     "output_type": "stream",
     "text": [
      "0 a\n",
      "1 b\n",
      "2 c\n"
     ]
    }
   ],
   "source": [
    "lst = ['a', 'b', 'c']\n",
    "for index, value in enumerate(lst): print(index, value)"
   ]
  },
  {
   "cell_type": "code",
   "execution_count": 215,
   "id": "db1b151c",
   "metadata": {},
   "outputs": [
    {
     "name": "stdout",
     "output_type": "stream",
     "text": [
      "[('a', 85), ('b', 90), ('c', 95)]\n"
     ]
    }
   ],
   "source": [
    "names = ['a', 'b', 'c']\n",
    "scores = [85, 90, 95]\n",
    "result = list(zip(names, scores))\n",
    "print(result)"
   ]
  },
  {
   "cell_type": "code",
   "execution_count": 216,
   "id": "c92473bb",
   "metadata": {},
   "outputs": [
    {
     "name": "stdout",
     "output_type": "stream",
     "text": [
      "[2, 4, 6]\n"
     ]
    }
   ],
   "source": [
    "nums = [1, 2, 3, 4, 5, 6]\n",
    "result = list(filter(lambda x: x % 2 == 0, nums))\n",
    "print(result)"
   ]
  },
  {
   "cell_type": "code",
   "execution_count": 217,
   "id": "00d92139",
   "metadata": {},
   "outputs": [
    {
     "name": "stdout",
     "output_type": "stream",
     "text": [
      "30\n"
     ]
    }
   ],
   "source": [
    "x = lambda a, b : a * b\n",
    "print(x(5, 6))"
   ]
  },
  {
   "cell_type": "code",
   "execution_count": 218,
   "id": "82672da1",
   "metadata": {},
   "outputs": [
    {
     "name": "stdout",
     "output_type": "stream",
     "text": [
      "['HELLO', 'WORLD']\n"
     ]
    }
   ],
   "source": [
    "words = ['hello', 'world']\n",
    "result = list(map(str.upper, words))\n",
    "print(result)"
   ]
  },
  {
   "cell_type": "code",
   "execution_count": 219,
   "id": "20a8bfcb",
   "metadata": {},
   "outputs": [
    {
     "name": "stdout",
     "output_type": "stream",
     "text": [
      "24\n"
     ]
    }
   ],
   "source": [
    "from functools import reduce\n",
    "nums = [1, 2, 3, 4]\n",
    "result = reduce(lambda x, y: x * y, nums)\n",
    "print(result)"
   ]
  },
  {
   "cell_type": "code",
   "execution_count": 220,
   "id": "cb028003",
   "metadata": {},
   "outputs": [
    {
     "name": "stdout",
     "output_type": "stream",
     "text": [
      "['HELLO', 'WORLD']\n"
     ]
    }
   ],
   "source": [
    "words = ['hello', 'world']\n",
    "result = list(map(str.upper, words))\n",
    "print(result)"
   ]
  },
  {
   "cell_type": "code",
   "execution_count": 221,
   "id": "3b0d8d75",
   "metadata": {},
   "outputs": [
    {
     "name": "stdout",
     "output_type": "stream",
     "text": [
      "0 a\n",
      "1 b\n",
      "2 c\n"
     ]
    }
   ],
   "source": [
    "lst = ['a', 'b', 'c']\n",
    "for index, value in enumerate(lst): print(index, value)"
   ]
  },
  {
   "cell_type": "code",
   "execution_count": 222,
   "id": "b97222c0",
   "metadata": {},
   "outputs": [
    {
     "name": "stdout",
     "output_type": "stream",
     "text": [
      "15\n"
     ]
    }
   ],
   "source": [
    "x = lambda a : a + 10\n",
    "print(x(5))"
   ]
  },
  {
   "cell_type": "code",
   "execution_count": 223,
   "id": "001591fd",
   "metadata": {},
   "outputs": [
    {
     "name": "stdout",
     "output_type": "stream",
     "text": [
      "[('a', 85), ('b', 90), ('c', 95)]\n"
     ]
    }
   ],
   "source": [
    "names = ['a', 'b', 'c']\n",
    "scores = [85, 90, 95]\n",
    "result = list(zip(names, scores))\n",
    "print(result)"
   ]
  },
  {
   "cell_type": "code",
   "execution_count": 224,
   "id": "f093c296",
   "metadata": {},
   "outputs": [
    {
     "name": "stdout",
     "output_type": "stream",
     "text": [
      "0 a\n",
      "1 b\n",
      "2 c\n"
     ]
    }
   ],
   "source": [
    "lst = ['a', 'b', 'c']\n",
    "for index, value in enumerate(lst): print(index, value)"
   ]
  },
  {
   "cell_type": "code",
   "execution_count": 225,
   "id": "15a0206f",
   "metadata": {},
   "outputs": [
    {
     "name": "stdout",
     "output_type": "stream",
     "text": [
      "0 h\n",
      "1 e\n",
      "2 l\n",
      "3 l\n",
      "4 o\n"
     ]
    }
   ],
   "source": [
    "s = 'hello'\n",
    "for i, ch in enumerate(s): print(i, ch)"
   ]
  },
  {
   "cell_type": "code",
   "execution_count": 226,
   "id": "4dbcdcfa",
   "metadata": {},
   "outputs": [
    {
     "name": "stdout",
     "output_type": "stream",
     "text": [
      "[('a', 85), ('b', 90), ('c', 95)]\n"
     ]
    }
   ],
   "source": [
    "names = ['a', 'b', 'c']\n",
    "scores = [85, 90, 95]\n",
    "result = list(zip(names, scores))\n",
    "print(result)"
   ]
  },
  {
   "cell_type": "code",
   "execution_count": 227,
   "id": "d16ef83f",
   "metadata": {},
   "outputs": [
    {
     "name": "stdout",
     "output_type": "stream",
     "text": [
      "[('a', 85), ('b', 90), ('c', 95)]\n"
     ]
    }
   ],
   "source": [
    "names = ['a', 'b', 'c']\n",
    "scores = [85, 90, 95]\n",
    "result = list(zip(names, scores))\n",
    "print(result)"
   ]
  },
  {
   "cell_type": "code",
   "execution_count": 228,
   "id": "b935865e",
   "metadata": {},
   "outputs": [
    {
     "name": "stdout",
     "output_type": "stream",
     "text": [
      "[2, 4, 6, 8]\n"
     ]
    }
   ],
   "source": [
    "nums = [1, 2, 3, 4]\n",
    "result = list(map(lambda x: x * 2, nums))\n",
    "print(result)"
   ]
  },
  {
   "cell_type": "code",
   "execution_count": 229,
   "id": "8fe6fe70",
   "metadata": {},
   "outputs": [
    {
     "name": "stdout",
     "output_type": "stream",
     "text": [
      "[(1, 'a'), (2, 'b'), (3, 'c')]\n"
     ]
    }
   ],
   "source": [
    "x = [1, 2, 3]\n",
    "y = ['a', 'b', 'c']\n",
    "z = zip(x, y)\n",
    "print(list(z))"
   ]
  },
  {
   "cell_type": "code",
   "execution_count": 230,
   "id": "06a2108e",
   "metadata": {},
   "outputs": [
    {
     "name": "stdout",
     "output_type": "stream",
     "text": [
      "0 h\n",
      "1 e\n",
      "2 l\n",
      "3 l\n",
      "4 o\n"
     ]
    }
   ],
   "source": [
    "s = 'hello'\n",
    "for i, ch in enumerate(s): print(i, ch)"
   ]
  },
  {
   "cell_type": "code",
   "execution_count": 231,
   "id": "16fb40fb",
   "metadata": {},
   "outputs": [
    {
     "name": "stdout",
     "output_type": "stream",
     "text": [
      "[2, 4, 6, 8]\n"
     ]
    }
   ],
   "source": [
    "nums = [1, 2, 3, 4]\n",
    "result = list(map(lambda x: x * 2, nums))\n",
    "print(result)"
   ]
  },
  {
   "cell_type": "code",
   "execution_count": 232,
   "id": "f94cc255",
   "metadata": {},
   "outputs": [
    {
     "name": "stdout",
     "output_type": "stream",
     "text": [
      "0 h\n",
      "1 e\n",
      "2 l\n",
      "3 l\n",
      "4 o\n"
     ]
    }
   ],
   "source": [
    "s = 'hello'\n",
    "for i, ch in enumerate(s): print(i, ch)"
   ]
  },
  {
   "cell_type": "code",
   "execution_count": 233,
   "id": "d20e01e1",
   "metadata": {},
   "outputs": [
    {
     "name": "stdout",
     "output_type": "stream",
     "text": [
      "10\n"
     ]
    }
   ],
   "source": [
    "from functools import reduce\n",
    "nums = [1, 2, 3, 4]\n",
    "result = reduce(lambda x, y: x + y, nums)\n",
    "print(result)"
   ]
  },
  {
   "cell_type": "code",
   "execution_count": 234,
   "id": "4f7b567c",
   "metadata": {},
   "outputs": [
    {
     "name": "stdout",
     "output_type": "stream",
     "text": [
      "10\n"
     ]
    }
   ],
   "source": [
    "from functools import reduce\n",
    "nums = [1, 2, 3, 4]\n",
    "result = reduce(lambda x, y: x + y, nums)\n",
    "print(result)"
   ]
  },
  {
   "cell_type": "code",
   "execution_count": 235,
   "id": "f4c4563d",
   "metadata": {},
   "outputs": [
    {
     "name": "stdout",
     "output_type": "stream",
     "text": [
      "['HELLO', 'WORLD']\n"
     ]
    }
   ],
   "source": [
    "words = ['hello', 'world']\n",
    "result = list(map(str.upper, words))\n",
    "print(result)"
   ]
  },
  {
   "cell_type": "code",
   "execution_count": 236,
   "id": "bce5672b",
   "metadata": {},
   "outputs": [
    {
     "name": "stdout",
     "output_type": "stream",
     "text": [
      "[2, 4, 6, 8]\n"
     ]
    }
   ],
   "source": [
    "nums = [1, 2, 3, 4]\n",
    "result = list(map(lambda x: x * 2, nums))\n",
    "print(result)"
   ]
  },
  {
   "cell_type": "code",
   "execution_count": 237,
   "id": "55c183fd",
   "metadata": {},
   "outputs": [
    {
     "name": "stdout",
     "output_type": "stream",
     "text": [
      "0 h\n",
      "1 e\n",
      "2 l\n",
      "3 l\n",
      "4 o\n"
     ]
    }
   ],
   "source": [
    "s = 'hello'\n",
    "for i, ch in enumerate(s): print(i, ch)"
   ]
  },
  {
   "cell_type": "code",
   "execution_count": 238,
   "id": "13ff1541",
   "metadata": {},
   "outputs": [
    {
     "name": "stdout",
     "output_type": "stream",
     "text": [
      "['Cathy']\n"
     ]
    }
   ],
   "source": [
    "names = ['Amy', 'Ben', 'Cathy', 'Dan']\n",
    "result = list(filter(lambda x: x.startswith('C'), names))\n",
    "print(result)"
   ]
  },
  {
   "cell_type": "code",
   "execution_count": 239,
   "id": "fa428084",
   "metadata": {},
   "outputs": [
    {
     "name": "stdout",
     "output_type": "stream",
     "text": [
      "30\n"
     ]
    }
   ],
   "source": [
    "x = lambda a, b : a * b\n",
    "print(x(5, 6))"
   ]
  },
  {
   "cell_type": "code",
   "execution_count": 240,
   "id": "b1a4f79f",
   "metadata": {},
   "outputs": [
    {
     "name": "stdout",
     "output_type": "stream",
     "text": [
      "0 a\n",
      "1 b\n",
      "2 c\n"
     ]
    }
   ],
   "source": [
    "lst = ['a', 'b', 'c']\n",
    "for index, value in enumerate(lst): print(index, value)"
   ]
  },
  {
   "cell_type": "code",
   "execution_count": 241,
   "id": "dd097439",
   "metadata": {},
   "outputs": [
    {
     "name": "stdout",
     "output_type": "stream",
     "text": [
      "0 h\n",
      "1 e\n",
      "2 l\n",
      "3 l\n",
      "4 o\n"
     ]
    }
   ],
   "source": [
    "s = 'hello'\n",
    "for i, ch in enumerate(s): print(i, ch)"
   ]
  },
  {
   "cell_type": "code",
   "execution_count": 242,
   "id": "546f93ee",
   "metadata": {},
   "outputs": [
    {
     "name": "stdout",
     "output_type": "stream",
     "text": [
      "30\n"
     ]
    }
   ],
   "source": [
    "x = lambda a, b : a * b\n",
    "print(x(5, 6))"
   ]
  },
  {
   "cell_type": "code",
   "execution_count": 243,
   "id": "e98ecdac",
   "metadata": {},
   "outputs": [
    {
     "name": "stdout",
     "output_type": "stream",
     "text": [
      "0 h\n",
      "1 e\n",
      "2 l\n",
      "3 l\n",
      "4 o\n"
     ]
    }
   ],
   "source": [
    "s = 'hello'\n",
    "for i, ch in enumerate(s): print(i, ch)"
   ]
  },
  {
   "cell_type": "code",
   "execution_count": 244,
   "id": "6dbd37b7",
   "metadata": {},
   "outputs": [
    {
     "name": "stdout",
     "output_type": "stream",
     "text": [
      "[('a', 85), ('b', 90), ('c', 95)]\n"
     ]
    }
   ],
   "source": [
    "names = ['a', 'b', 'c']\n",
    "scores = [85, 90, 95]\n",
    "result = list(zip(names, scores))\n",
    "print(result)"
   ]
  },
  {
   "cell_type": "code",
   "execution_count": 245,
   "id": "f3936789",
   "metadata": {},
   "outputs": [
    {
     "name": "stdout",
     "output_type": "stream",
     "text": [
      "0 a\n",
      "1 b\n",
      "2 c\n"
     ]
    }
   ],
   "source": [
    "lst = ['a', 'b', 'c']\n",
    "for index, value in enumerate(lst): print(index, value)"
   ]
  },
  {
   "cell_type": "code",
   "execution_count": 246,
   "id": "539a9d56",
   "metadata": {},
   "outputs": [
    {
     "name": "stdout",
     "output_type": "stream",
     "text": [
      "['HELLO', 'WORLD']\n"
     ]
    }
   ],
   "source": [
    "words = ['hello', 'world']\n",
    "result = list(map(str.upper, words))\n",
    "print(result)"
   ]
  },
  {
   "cell_type": "code",
   "execution_count": 247,
   "id": "8f06c18a",
   "metadata": {},
   "outputs": [
    {
     "name": "stdout",
     "output_type": "stream",
     "text": [
      "15\n"
     ]
    }
   ],
   "source": [
    "x = lambda a : a + 10\n",
    "print(x(5))"
   ]
  },
  {
   "cell_type": "code",
   "execution_count": 248,
   "id": "caa36224",
   "metadata": {},
   "outputs": [
    {
     "name": "stdout",
     "output_type": "stream",
     "text": [
      "[2, 4, 6]\n"
     ]
    }
   ],
   "source": [
    "nums = [1, 2, 3, 4, 5, 6]\n",
    "result = list(filter(lambda x: x % 2 == 0, nums))\n",
    "print(result)"
   ]
  },
  {
   "cell_type": "code",
   "execution_count": 249,
   "id": "22df81e1",
   "metadata": {},
   "outputs": [
    {
     "name": "stdout",
     "output_type": "stream",
     "text": [
      "[2, 4, 6]\n"
     ]
    }
   ],
   "source": [
    "nums = [1, 2, 3, 4, 5, 6]\n",
    "result = list(filter(lambda x: x % 2 == 0, nums))\n",
    "print(result)"
   ]
  },
  {
   "cell_type": "code",
   "execution_count": 250,
   "id": "e1bdfc55",
   "metadata": {},
   "outputs": [
    {
     "name": "stdout",
     "output_type": "stream",
     "text": [
      "['Cathy']\n"
     ]
    }
   ],
   "source": [
    "names = ['Amy', 'Ben', 'Cathy', 'Dan']\n",
    "result = list(filter(lambda x: x.startswith('C'), names))\n",
    "print(result)"
   ]
  },
  {
   "cell_type": "code",
   "execution_count": 251,
   "id": "084721eb",
   "metadata": {},
   "outputs": [
    {
     "name": "stdout",
     "output_type": "stream",
     "text": [
      "[2, 4, 6, 8]\n"
     ]
    }
   ],
   "source": [
    "nums = [1, 2, 3, 4]\n",
    "result = list(map(lambda x: x * 2, nums))\n",
    "print(result)"
   ]
  },
  {
   "cell_type": "code",
   "execution_count": 252,
   "id": "c4fa4435",
   "metadata": {},
   "outputs": [
    {
     "name": "stdout",
     "output_type": "stream",
     "text": [
      "[(1, 'a'), (2, 'b'), (3, 'c')]\n"
     ]
    }
   ],
   "source": [
    "x = [1, 2, 3]\n",
    "y = ['a', 'b', 'c']\n",
    "z = zip(x, y)\n",
    "print(list(z))"
   ]
  },
  {
   "cell_type": "code",
   "execution_count": 253,
   "id": "68cd22b2",
   "metadata": {},
   "outputs": [
    {
     "name": "stdout",
     "output_type": "stream",
     "text": [
      "24\n"
     ]
    }
   ],
   "source": [
    "from functools import reduce\n",
    "nums = [1, 2, 3, 4]\n",
    "result = reduce(lambda x, y: x * y, nums)\n",
    "print(result)"
   ]
  },
  {
   "cell_type": "code",
   "execution_count": 254,
   "id": "e3571dcb",
   "metadata": {},
   "outputs": [
    {
     "name": "stdout",
     "output_type": "stream",
     "text": [
      "['HELLO', 'WORLD']\n"
     ]
    }
   ],
   "source": [
    "words = ['hello', 'world']\n",
    "result = list(map(str.upper, words))\n",
    "print(result)"
   ]
  },
  {
   "cell_type": "code",
   "execution_count": 255,
   "id": "40537249",
   "metadata": {},
   "outputs": [
    {
     "name": "stdout",
     "output_type": "stream",
     "text": [
      "15\n"
     ]
    }
   ],
   "source": [
    "x = lambda a : a + 10\n",
    "print(x(5))"
   ]
  },
  {
   "cell_type": "code",
   "execution_count": 256,
   "id": "094f47e1",
   "metadata": {},
   "outputs": [
    {
     "name": "stdout",
     "output_type": "stream",
     "text": [
      "0 h\n",
      "1 e\n",
      "2 l\n",
      "3 l\n",
      "4 o\n"
     ]
    }
   ],
   "source": [
    "s = 'hello'\n",
    "for i, ch in enumerate(s): print(i, ch)"
   ]
  },
  {
   "cell_type": "code",
   "execution_count": 257,
   "id": "feb337c3",
   "metadata": {},
   "outputs": [
    {
     "name": "stdout",
     "output_type": "stream",
     "text": [
      "15\n"
     ]
    }
   ],
   "source": [
    "x = lambda a : a + 10\n",
    "print(x(5))"
   ]
  },
  {
   "cell_type": "code",
   "execution_count": 258,
   "id": "84659c4d",
   "metadata": {},
   "outputs": [
    {
     "name": "stdout",
     "output_type": "stream",
     "text": [
      "10\n"
     ]
    }
   ],
   "source": [
    "from functools import reduce\n",
    "nums = [1, 2, 3, 4]\n",
    "result = reduce(lambda x, y: x + y, nums)\n",
    "print(result)"
   ]
  },
  {
   "cell_type": "code",
   "execution_count": 259,
   "id": "eb2081f7",
   "metadata": {},
   "outputs": [
    {
     "name": "stdout",
     "output_type": "stream",
     "text": [
      "[2, 4, 6, 8]\n"
     ]
    }
   ],
   "source": [
    "nums = [1, 2, 3, 4]\n",
    "result = list(map(lambda x: x * 2, nums))\n",
    "print(result)"
   ]
  },
  {
   "cell_type": "code",
   "execution_count": 260,
   "id": "f1423237",
   "metadata": {},
   "outputs": [
    {
     "name": "stdout",
     "output_type": "stream",
     "text": [
      "24\n"
     ]
    }
   ],
   "source": [
    "from functools import reduce\n",
    "nums = [1, 2, 3, 4]\n",
    "result = reduce(lambda x, y: x * y, nums)\n",
    "print(result)"
   ]
  },
  {
   "cell_type": "code",
   "execution_count": 261,
   "id": "4fd2a9dd",
   "metadata": {},
   "outputs": [
    {
     "name": "stdout",
     "output_type": "stream",
     "text": [
      "6\n"
     ]
    }
   ],
   "source": [
    "x = lambda a, b, c : a + b + c\n",
    "print(x(1, 2, 3))"
   ]
  },
  {
   "cell_type": "code",
   "execution_count": 262,
   "id": "b23b6c83",
   "metadata": {},
   "outputs": [
    {
     "name": "stdout",
     "output_type": "stream",
     "text": [
      "10\n"
     ]
    }
   ],
   "source": [
    "from functools import reduce\n",
    "nums = [1, 2, 3, 4]\n",
    "result = reduce(lambda x, y: x + y, nums)\n",
    "print(result)"
   ]
  },
  {
   "cell_type": "code",
   "execution_count": 263,
   "id": "41f38b70",
   "metadata": {},
   "outputs": [
    {
     "name": "stdout",
     "output_type": "stream",
     "text": [
      "[2, 4, 6, 8]\n"
     ]
    }
   ],
   "source": [
    "nums = [1, 2, 3, 4]\n",
    "result = list(map(lambda x: x * 2, nums))\n",
    "print(result)"
   ]
  },
  {
   "cell_type": "code",
   "execution_count": 264,
   "id": "17bf5e35",
   "metadata": {},
   "outputs": [
    {
     "name": "stdout",
     "output_type": "stream",
     "text": [
      "6\n"
     ]
    }
   ],
   "source": [
    "x = lambda a, b, c : a + b + c\n",
    "print(x(1, 2, 3))"
   ]
  },
  {
   "cell_type": "code",
   "execution_count": 265,
   "id": "41cc731b",
   "metadata": {},
   "outputs": [
    {
     "name": "stdout",
     "output_type": "stream",
     "text": [
      "[2, 4, 6, 8]\n"
     ]
    }
   ],
   "source": [
    "nums = [1, 2, 3, 4]\n",
    "result = list(map(lambda x: x * 2, nums))\n",
    "print(result)"
   ]
  },
  {
   "cell_type": "code",
   "execution_count": 266,
   "id": "c2c055f7",
   "metadata": {},
   "outputs": [
    {
     "name": "stdout",
     "output_type": "stream",
     "text": [
      "[(1, 'a'), (2, 'b'), (3, 'c')]\n"
     ]
    }
   ],
   "source": [
    "x = [1, 2, 3]\n",
    "y = ['a', 'b', 'c']\n",
    "z = zip(x, y)\n",
    "print(list(z))"
   ]
  },
  {
   "cell_type": "code",
   "execution_count": 267,
   "id": "4f56a655",
   "metadata": {},
   "outputs": [
    {
     "name": "stdout",
     "output_type": "stream",
     "text": [
      "[(1, 'a'), (2, 'b'), (3, 'c')]\n"
     ]
    }
   ],
   "source": [
    "x = [1, 2, 3]\n",
    "y = ['a', 'b', 'c']\n",
    "z = zip(x, y)\n",
    "print(list(z))"
   ]
  },
  {
   "cell_type": "code",
   "execution_count": 268,
   "id": "e2f26c3e",
   "metadata": {},
   "outputs": [
    {
     "name": "stdout",
     "output_type": "stream",
     "text": [
      "15\n"
     ]
    }
   ],
   "source": [
    "x = lambda a : a + 10\n",
    "print(x(5))"
   ]
  },
  {
   "cell_type": "code",
   "execution_count": 269,
   "id": "6191cca4",
   "metadata": {},
   "outputs": [
    {
     "name": "stdout",
     "output_type": "stream",
     "text": [
      "[(1, 'a'), (2, 'b'), (3, 'c')]\n"
     ]
    }
   ],
   "source": [
    "x = [1, 2, 3]\n",
    "y = ['a', 'b', 'c']\n",
    "z = zip(x, y)\n",
    "print(list(z))"
   ]
  },
  {
   "cell_type": "code",
   "execution_count": 270,
   "id": "b15e7849",
   "metadata": {},
   "outputs": [
    {
     "name": "stdout",
     "output_type": "stream",
     "text": [
      "['Cathy']\n"
     ]
    }
   ],
   "source": [
    "names = ['Amy', 'Ben', 'Cathy', 'Dan']\n",
    "result = list(filter(lambda x: x.startswith('C'), names))\n",
    "print(result)"
   ]
  },
  {
   "cell_type": "code",
   "execution_count": 271,
   "id": "dd259a59",
   "metadata": {},
   "outputs": [
    {
     "name": "stdout",
     "output_type": "stream",
     "text": [
      "10\n"
     ]
    }
   ],
   "source": [
    "from functools import reduce\n",
    "nums = [1, 2, 3, 4]\n",
    "result = reduce(lambda x, y: x + y, nums)\n",
    "print(result)"
   ]
  },
  {
   "cell_type": "code",
   "execution_count": 272,
   "id": "a4d1f951",
   "metadata": {},
   "outputs": [
    {
     "name": "stdout",
     "output_type": "stream",
     "text": [
      "0 a\n",
      "1 b\n",
      "2 c\n"
     ]
    }
   ],
   "source": [
    "lst = ['a', 'b', 'c']\n",
    "for index, value in enumerate(lst): print(index, value)"
   ]
  },
  {
   "cell_type": "code",
   "execution_count": 273,
   "id": "b25e5e5c",
   "metadata": {},
   "outputs": [
    {
     "name": "stdout",
     "output_type": "stream",
     "text": [
      "[('a', 85), ('b', 90), ('c', 95)]\n"
     ]
    }
   ],
   "source": [
    "names = ['a', 'b', 'c']\n",
    "scores = [85, 90, 95]\n",
    "result = list(zip(names, scores))\n",
    "print(result)"
   ]
  },
  {
   "cell_type": "code",
   "execution_count": 274,
   "id": "e28d22a4",
   "metadata": {},
   "outputs": [
    {
     "name": "stdout",
     "output_type": "stream",
     "text": [
      "['HELLO', 'WORLD']\n"
     ]
    }
   ],
   "source": [
    "words = ['hello', 'world']\n",
    "result = list(map(str.upper, words))\n",
    "print(result)"
   ]
  },
  {
   "cell_type": "code",
   "execution_count": 275,
   "id": "6fa91e78",
   "metadata": {},
   "outputs": [
    {
     "name": "stdout",
     "output_type": "stream",
     "text": [
      "[('a', 85), ('b', 90), ('c', 95)]\n"
     ]
    }
   ],
   "source": [
    "names = ['a', 'b', 'c']\n",
    "scores = [85, 90, 95]\n",
    "result = list(zip(names, scores))\n",
    "print(result)"
   ]
  },
  {
   "cell_type": "code",
   "execution_count": 276,
   "id": "f3bcab0e",
   "metadata": {},
   "outputs": [
    {
     "name": "stdout",
     "output_type": "stream",
     "text": [
      "15\n"
     ]
    }
   ],
   "source": [
    "x = lambda a : a + 10\n",
    "print(x(5))"
   ]
  },
  {
   "cell_type": "code",
   "execution_count": 277,
   "id": "c1ed1ee1",
   "metadata": {},
   "outputs": [
    {
     "name": "stdout",
     "output_type": "stream",
     "text": [
      "[(1, 'a'), (2, 'b'), (3, 'c')]\n"
     ]
    }
   ],
   "source": [
    "x = [1, 2, 3]\n",
    "y = ['a', 'b', 'c']\n",
    "z = zip(x, y)\n",
    "print(list(z))"
   ]
  },
  {
   "cell_type": "code",
   "execution_count": 278,
   "id": "d496c51f",
   "metadata": {},
   "outputs": [
    {
     "name": "stdout",
     "output_type": "stream",
     "text": [
      "[2, 4, 6]\n"
     ]
    }
   ],
   "source": [
    "nums = [1, 2, 3, 4, 5, 6]\n",
    "result = list(filter(lambda x: x % 2 == 0, nums))\n",
    "print(result)"
   ]
  },
  {
   "cell_type": "code",
   "execution_count": 279,
   "id": "8eb989b8",
   "metadata": {},
   "outputs": [
    {
     "name": "stdout",
     "output_type": "stream",
     "text": [
      "0 h\n",
      "1 e\n",
      "2 l\n",
      "3 l\n",
      "4 o\n"
     ]
    }
   ],
   "source": [
    "s = 'hello'\n",
    "for i, ch in enumerate(s): print(i, ch)"
   ]
  },
  {
   "cell_type": "code",
   "execution_count": 280,
   "id": "405b286c",
   "metadata": {},
   "outputs": [
    {
     "name": "stdout",
     "output_type": "stream",
     "text": [
      "[(1, 'a'), (2, 'b'), (3, 'c')]\n"
     ]
    }
   ],
   "source": [
    "x = [1, 2, 3]\n",
    "y = ['a', 'b', 'c']\n",
    "z = zip(x, y)\n",
    "print(list(z))"
   ]
  },
  {
   "cell_type": "code",
   "execution_count": 281,
   "id": "18a5adb8",
   "metadata": {},
   "outputs": [
    {
     "name": "stdout",
     "output_type": "stream",
     "text": [
      "30\n"
     ]
    }
   ],
   "source": [
    "x = lambda a, b : a * b\n",
    "print(x(5, 6))"
   ]
  },
  {
   "cell_type": "code",
   "execution_count": 282,
   "id": "a60d2851",
   "metadata": {},
   "outputs": [
    {
     "name": "stdout",
     "output_type": "stream",
     "text": [
      "0 h\n",
      "1 e\n",
      "2 l\n",
      "3 l\n",
      "4 o\n"
     ]
    }
   ],
   "source": [
    "s = 'hello'\n",
    "for i, ch in enumerate(s): print(i, ch)"
   ]
  },
  {
   "cell_type": "code",
   "execution_count": 283,
   "id": "426e11d8",
   "metadata": {},
   "outputs": [
    {
     "name": "stdout",
     "output_type": "stream",
     "text": [
      "[2, 4, 6]\n"
     ]
    }
   ],
   "source": [
    "nums = [1, 2, 3, 4, 5, 6]\n",
    "result = list(filter(lambda x: x % 2 == 0, nums))\n",
    "print(result)"
   ]
  },
  {
   "cell_type": "code",
   "execution_count": 284,
   "id": "edbb8c90",
   "metadata": {},
   "outputs": [
    {
     "name": "stdout",
     "output_type": "stream",
     "text": [
      "['Cathy']\n"
     ]
    }
   ],
   "source": [
    "names = ['Amy', 'Ben', 'Cathy', 'Dan']\n",
    "result = list(filter(lambda x: x.startswith('C'), names))\n",
    "print(result)"
   ]
  },
  {
   "cell_type": "code",
   "execution_count": 285,
   "id": "4ab247fc",
   "metadata": {},
   "outputs": [
    {
     "name": "stdout",
     "output_type": "stream",
     "text": [
      "[(1, 'a'), (2, 'b'), (3, 'c')]\n"
     ]
    }
   ],
   "source": [
    "x = [1, 2, 3]\n",
    "y = ['a', 'b', 'c']\n",
    "z = zip(x, y)\n",
    "print(list(z))"
   ]
  },
  {
   "cell_type": "code",
   "execution_count": 286,
   "id": "c0ae5da7",
   "metadata": {},
   "outputs": [
    {
     "name": "stdout",
     "output_type": "stream",
     "text": [
      "['Cathy']\n"
     ]
    }
   ],
   "source": [
    "names = ['Amy', 'Ben', 'Cathy', 'Dan']\n",
    "result = list(filter(lambda x: x.startswith('C'), names))\n",
    "print(result)"
   ]
  },
  {
   "cell_type": "code",
   "execution_count": 287,
   "id": "59198e71",
   "metadata": {},
   "outputs": [
    {
     "name": "stdout",
     "output_type": "stream",
     "text": [
      "30\n"
     ]
    }
   ],
   "source": [
    "x = lambda a, b : a * b\n",
    "print(x(5, 6))"
   ]
  },
  {
   "cell_type": "code",
   "execution_count": 288,
   "id": "79aaeaa4",
   "metadata": {},
   "outputs": [
    {
     "name": "stdout",
     "output_type": "stream",
     "text": [
      "[2, 4, 6]\n"
     ]
    }
   ],
   "source": [
    "nums = [1, 2, 3, 4, 5, 6]\n",
    "result = list(filter(lambda x: x % 2 == 0, nums))\n",
    "print(result)"
   ]
  },
  {
   "cell_type": "code",
   "execution_count": 289,
   "id": "6c228222",
   "metadata": {},
   "outputs": [
    {
     "name": "stdout",
     "output_type": "stream",
     "text": [
      "6\n"
     ]
    }
   ],
   "source": [
    "x = lambda a, b, c : a + b + c\n",
    "print(x(1, 2, 3))"
   ]
  },
  {
   "cell_type": "code",
   "execution_count": 290,
   "id": "d0dc8686",
   "metadata": {},
   "outputs": [
    {
     "name": "stdout",
     "output_type": "stream",
     "text": [
      "0 h\n",
      "1 e\n",
      "2 l\n",
      "3 l\n",
      "4 o\n"
     ]
    }
   ],
   "source": [
    "s = 'hello'\n",
    "for i, ch in enumerate(s): print(i, ch)"
   ]
  },
  {
   "cell_type": "code",
   "execution_count": 291,
   "id": "a92be644",
   "metadata": {},
   "outputs": [
    {
     "name": "stdout",
     "output_type": "stream",
     "text": [
      "[('a', 85), ('b', 90), ('c', 95)]\n"
     ]
    }
   ],
   "source": [
    "names = ['a', 'b', 'c']\n",
    "scores = [85, 90, 95]\n",
    "result = list(zip(names, scores))\n",
    "print(result)"
   ]
  },
  {
   "cell_type": "code",
   "execution_count": 292,
   "id": "36b0ed64",
   "metadata": {},
   "outputs": [
    {
     "name": "stdout",
     "output_type": "stream",
     "text": [
      "[2, 4, 6, 8]\n"
     ]
    }
   ],
   "source": [
    "nums = [1, 2, 3, 4]\n",
    "result = list(map(lambda x: x * 2, nums))\n",
    "print(result)"
   ]
  },
  {
   "cell_type": "code",
   "execution_count": 293,
   "id": "af765422",
   "metadata": {},
   "outputs": [
    {
     "name": "stdout",
     "output_type": "stream",
     "text": [
      "0 a\n",
      "1 b\n",
      "2 c\n"
     ]
    }
   ],
   "source": [
    "lst = ['a', 'b', 'c']\n",
    "for index, value in enumerate(lst): print(index, value)"
   ]
  },
  {
   "cell_type": "code",
   "execution_count": 294,
   "id": "1a56ee00",
   "metadata": {},
   "outputs": [
    {
     "name": "stdout",
     "output_type": "stream",
     "text": [
      "30\n"
     ]
    }
   ],
   "source": [
    "x = lambda a, b : a * b\n",
    "print(x(5, 6))"
   ]
  },
  {
   "cell_type": "code",
   "execution_count": 295,
   "id": "e39c085c",
   "metadata": {},
   "outputs": [
    {
     "name": "stdout",
     "output_type": "stream",
     "text": [
      "6\n"
     ]
    }
   ],
   "source": [
    "x = lambda a, b, c : a + b + c\n",
    "print(x(1, 2, 3))"
   ]
  },
  {
   "cell_type": "code",
   "execution_count": 296,
   "id": "1df2cc34",
   "metadata": {},
   "outputs": [
    {
     "name": "stdout",
     "output_type": "stream",
     "text": [
      "['HELLO', 'WORLD']\n"
     ]
    }
   ],
   "source": [
    "words = ['hello', 'world']\n",
    "result = list(map(str.upper, words))\n",
    "print(result)"
   ]
  },
  {
   "cell_type": "code",
   "execution_count": 297,
   "id": "49a21084",
   "metadata": {},
   "outputs": [
    {
     "name": "stdout",
     "output_type": "stream",
     "text": [
      "['Cathy']\n"
     ]
    }
   ],
   "source": [
    "names = ['Amy', 'Ben', 'Cathy', 'Dan']\n",
    "result = list(filter(lambda x: x.startswith('C'), names))\n",
    "print(result)"
   ]
  },
  {
   "cell_type": "code",
   "execution_count": 298,
   "id": "3614a18d",
   "metadata": {},
   "outputs": [
    {
     "name": "stdout",
     "output_type": "stream",
     "text": [
      "[2, 4, 6]\n"
     ]
    }
   ],
   "source": [
    "nums = [1, 2, 3, 4, 5, 6]\n",
    "result = list(filter(lambda x: x % 2 == 0, nums))\n",
    "print(result)"
   ]
  },
  {
   "cell_type": "code",
   "execution_count": 299,
   "id": "b96880c9",
   "metadata": {},
   "outputs": [
    {
     "name": "stdout",
     "output_type": "stream",
     "text": [
      "6\n"
     ]
    }
   ],
   "source": [
    "x = lambda a, b, c : a + b + c\n",
    "print(x(1, 2, 3))"
   ]
  },
  {
   "cell_type": "code",
   "execution_count": 300,
   "id": "e8071263",
   "metadata": {},
   "outputs": [
    {
     "name": "stdout",
     "output_type": "stream",
     "text": [
      "6\n"
     ]
    }
   ],
   "source": [
    "x = lambda a, b, c : a + b + c\n",
    "print(x(1, 2, 3))"
   ]
  },
  {
   "cell_type": "code",
   "execution_count": 301,
   "id": "bf2d9138",
   "metadata": {},
   "outputs": [
    {
     "name": "stdout",
     "output_type": "stream",
     "text": [
      "24\n"
     ]
    }
   ],
   "source": [
    "from functools import reduce\n",
    "nums = [1, 2, 3, 4]\n",
    "result = reduce(lambda x, y: x * y, nums)\n",
    "print(result)"
   ]
  },
  {
   "cell_type": "code",
   "execution_count": 302,
   "id": "1fec7301",
   "metadata": {},
   "outputs": [
    {
     "name": "stdout",
     "output_type": "stream",
     "text": [
      "[(1, 'a'), (2, 'b'), (3, 'c')]\n"
     ]
    }
   ],
   "source": [
    "x = [1, 2, 3]\n",
    "y = ['a', 'b', 'c']\n",
    "z = zip(x, y)\n",
    "print(list(z))"
   ]
  },
  {
   "cell_type": "code",
   "execution_count": 303,
   "id": "adb53c4e",
   "metadata": {},
   "outputs": [
    {
     "name": "stdout",
     "output_type": "stream",
     "text": [
      "15\n"
     ]
    }
   ],
   "source": [
    "x = lambda a : a + 10\n",
    "print(x(5))"
   ]
  },
  {
   "cell_type": "code",
   "execution_count": 304,
   "id": "0f854fa3",
   "metadata": {},
   "outputs": [
    {
     "name": "stdout",
     "output_type": "stream",
     "text": [
      "24\n"
     ]
    }
   ],
   "source": [
    "from functools import reduce\n",
    "nums = [1, 2, 3, 4]\n",
    "result = reduce(lambda x, y: x * y, nums)\n",
    "print(result)"
   ]
  },
  {
   "cell_type": "code",
   "execution_count": 305,
   "id": "0d4947ca",
   "metadata": {},
   "outputs": [
    {
     "name": "stdout",
     "output_type": "stream",
     "text": [
      "[('a', 85), ('b', 90), ('c', 95)]\n"
     ]
    }
   ],
   "source": [
    "names = ['a', 'b', 'c']\n",
    "scores = [85, 90, 95]\n",
    "result = list(zip(names, scores))\n",
    "print(result)"
   ]
  },
  {
   "cell_type": "code",
   "execution_count": 306,
   "id": "80ee70bb",
   "metadata": {},
   "outputs": [
    {
     "name": "stdout",
     "output_type": "stream",
     "text": [
      "[('a', 85), ('b', 90), ('c', 95)]\n"
     ]
    }
   ],
   "source": [
    "names = ['a', 'b', 'c']\n",
    "scores = [85, 90, 95]\n",
    "result = list(zip(names, scores))\n",
    "print(result)"
   ]
  },
  {
   "cell_type": "code",
   "execution_count": 307,
   "id": "09773df2",
   "metadata": {},
   "outputs": [
    {
     "name": "stdout",
     "output_type": "stream",
     "text": [
      "[2, 4, 6]\n"
     ]
    }
   ],
   "source": [
    "nums = [1, 2, 3, 4, 5, 6]\n",
    "result = list(filter(lambda x: x % 2 == 0, nums))\n",
    "print(result)"
   ]
  },
  {
   "cell_type": "code",
   "execution_count": 308,
   "id": "05502a4c",
   "metadata": {},
   "outputs": [
    {
     "name": "stdout",
     "output_type": "stream",
     "text": [
      "[(1, 'a'), (2, 'b'), (3, 'c')]\n"
     ]
    }
   ],
   "source": [
    "x = [1, 2, 3]\n",
    "y = ['a', 'b', 'c']\n",
    "z = zip(x, y)\n",
    "print(list(z))"
   ]
  },
  {
   "cell_type": "code",
   "execution_count": 309,
   "id": "b6d0a300",
   "metadata": {},
   "outputs": [
    {
     "name": "stdout",
     "output_type": "stream",
     "text": [
      "0 h\n",
      "1 e\n",
      "2 l\n",
      "3 l\n",
      "4 o\n"
     ]
    }
   ],
   "source": [
    "s = 'hello'\n",
    "for i, ch in enumerate(s): print(i, ch)"
   ]
  },
  {
   "cell_type": "code",
   "execution_count": 310,
   "id": "2bce990b",
   "metadata": {},
   "outputs": [
    {
     "name": "stdout",
     "output_type": "stream",
     "text": [
      "['HELLO', 'WORLD']\n"
     ]
    }
   ],
   "source": [
    "words = ['hello', 'world']\n",
    "result = list(map(str.upper, words))\n",
    "print(result)"
   ]
  },
  {
   "cell_type": "code",
   "execution_count": 311,
   "id": "d9681ea0",
   "metadata": {},
   "outputs": [
    {
     "name": "stdout",
     "output_type": "stream",
     "text": [
      "['HELLO', 'WORLD']\n"
     ]
    }
   ],
   "source": [
    "words = ['hello', 'world']\n",
    "result = list(map(str.upper, words))\n",
    "print(result)"
   ]
  },
  {
   "cell_type": "code",
   "execution_count": 312,
   "id": "e7337368",
   "metadata": {},
   "outputs": [
    {
     "name": "stdout",
     "output_type": "stream",
     "text": [
      "15\n"
     ]
    }
   ],
   "source": [
    "x = lambda a : a + 10\n",
    "print(x(5))"
   ]
  },
  {
   "cell_type": "code",
   "execution_count": 313,
   "id": "50283715",
   "metadata": {},
   "outputs": [
    {
     "name": "stdout",
     "output_type": "stream",
     "text": [
      "['HELLO', 'WORLD']\n"
     ]
    }
   ],
   "source": [
    "words = ['hello', 'world']\n",
    "result = list(map(str.upper, words))\n",
    "print(result)"
   ]
  },
  {
   "cell_type": "code",
   "execution_count": 314,
   "id": "ebd06687",
   "metadata": {},
   "outputs": [
    {
     "name": "stdout",
     "output_type": "stream",
     "text": [
      "6\n"
     ]
    }
   ],
   "source": [
    "x = lambda a, b, c : a + b + c\n",
    "print(x(1, 2, 3))"
   ]
  },
  {
   "cell_type": "code",
   "execution_count": 315,
   "id": "2a4d58a8",
   "metadata": {},
   "outputs": [
    {
     "name": "stdout",
     "output_type": "stream",
     "text": [
      "['Cathy']\n"
     ]
    }
   ],
   "source": [
    "names = ['Amy', 'Ben', 'Cathy', 'Dan']\n",
    "result = list(filter(lambda x: x.startswith('C'), names))\n",
    "print(result)"
   ]
  },
  {
   "cell_type": "code",
   "execution_count": 316,
   "id": "dd882423",
   "metadata": {},
   "outputs": [
    {
     "name": "stdout",
     "output_type": "stream",
     "text": [
      "['HELLO', 'WORLD']\n"
     ]
    }
   ],
   "source": [
    "words = ['hello', 'world']\n",
    "result = list(map(str.upper, words))\n",
    "print(result)"
   ]
  },
  {
   "cell_type": "code",
   "execution_count": 317,
   "id": "7d1d36c8",
   "metadata": {},
   "outputs": [
    {
     "name": "stdout",
     "output_type": "stream",
     "text": [
      "30\n"
     ]
    }
   ],
   "source": [
    "x = lambda a, b : a * b\n",
    "print(x(5, 6))"
   ]
  },
  {
   "cell_type": "code",
   "execution_count": 318,
   "id": "c85d8d5f",
   "metadata": {},
   "outputs": [
    {
     "name": "stdout",
     "output_type": "stream",
     "text": [
      "[(1, 'a'), (2, 'b'), (3, 'c')]\n"
     ]
    }
   ],
   "source": [
    "x = [1, 2, 3]\n",
    "y = ['a', 'b', 'c']\n",
    "z = zip(x, y)\n",
    "print(list(z))"
   ]
  },
  {
   "cell_type": "code",
   "execution_count": 319,
   "id": "8ee61c46",
   "metadata": {},
   "outputs": [
    {
     "name": "stdout",
     "output_type": "stream",
     "text": [
      "10\n"
     ]
    }
   ],
   "source": [
    "from functools import reduce\n",
    "nums = [1, 2, 3, 4]\n",
    "result = reduce(lambda x, y: x + y, nums)\n",
    "print(result)"
   ]
  },
  {
   "cell_type": "code",
   "execution_count": 320,
   "id": "050926a8",
   "metadata": {},
   "outputs": [
    {
     "name": "stdout",
     "output_type": "stream",
     "text": [
      "6\n"
     ]
    }
   ],
   "source": [
    "x = lambda a, b, c : a + b + c\n",
    "print(x(1, 2, 3))"
   ]
  },
  {
   "cell_type": "code",
   "execution_count": 321,
   "id": "de807371",
   "metadata": {},
   "outputs": [
    {
     "name": "stdout",
     "output_type": "stream",
     "text": [
      "[(1, 'a'), (2, 'b'), (3, 'c')]\n"
     ]
    }
   ],
   "source": [
    "x = [1, 2, 3]\n",
    "y = ['a', 'b', 'c']\n",
    "z = zip(x, y)\n",
    "print(list(z))"
   ]
  },
  {
   "cell_type": "code",
   "execution_count": 322,
   "id": "989f1c85",
   "metadata": {},
   "outputs": [
    {
     "name": "stdout",
     "output_type": "stream",
     "text": [
      "30\n"
     ]
    }
   ],
   "source": [
    "x = lambda a, b : a * b\n",
    "print(x(5, 6))"
   ]
  },
  {
   "cell_type": "code",
   "execution_count": 323,
   "id": "9204fd97",
   "metadata": {},
   "outputs": [
    {
     "name": "stdout",
     "output_type": "stream",
     "text": [
      "[2, 4, 6]\n"
     ]
    }
   ],
   "source": [
    "nums = [1, 2, 3, 4, 5, 6]\n",
    "result = list(filter(lambda x: x % 2 == 0, nums))\n",
    "print(result)"
   ]
  },
  {
   "cell_type": "code",
   "execution_count": 324,
   "id": "dcc08f22",
   "metadata": {},
   "outputs": [
    {
     "name": "stdout",
     "output_type": "stream",
     "text": [
      "[(1, 'a'), (2, 'b'), (3, 'c')]\n"
     ]
    }
   ],
   "source": [
    "x = [1, 2, 3]\n",
    "y = ['a', 'b', 'c']\n",
    "z = zip(x, y)\n",
    "print(list(z))"
   ]
  },
  {
   "cell_type": "code",
   "execution_count": 325,
   "id": "54d251a4",
   "metadata": {},
   "outputs": [
    {
     "name": "stdout",
     "output_type": "stream",
     "text": [
      "0 h\n",
      "1 e\n",
      "2 l\n",
      "3 l\n",
      "4 o\n"
     ]
    }
   ],
   "source": [
    "s = 'hello'\n",
    "for i, ch in enumerate(s): print(i, ch)"
   ]
  },
  {
   "cell_type": "code",
   "execution_count": 326,
   "id": "7527344c",
   "metadata": {},
   "outputs": [
    {
     "name": "stdout",
     "output_type": "stream",
     "text": [
      "['HELLO', 'WORLD']\n"
     ]
    }
   ],
   "source": [
    "words = ['hello', 'world']\n",
    "result = list(map(str.upper, words))\n",
    "print(result)"
   ]
  },
  {
   "cell_type": "code",
   "execution_count": 327,
   "id": "27c3447c",
   "metadata": {},
   "outputs": [
    {
     "name": "stdout",
     "output_type": "stream",
     "text": [
      "6\n"
     ]
    }
   ],
   "source": [
    "x = lambda a, b, c : a + b + c\n",
    "print(x(1, 2, 3))"
   ]
  },
  {
   "cell_type": "code",
   "execution_count": 328,
   "id": "f8141a9b",
   "metadata": {},
   "outputs": [
    {
     "name": "stdout",
     "output_type": "stream",
     "text": [
      "0 h\n",
      "1 e\n",
      "2 l\n",
      "3 l\n",
      "4 o\n"
     ]
    }
   ],
   "source": [
    "s = 'hello'\n",
    "for i, ch in enumerate(s): print(i, ch)"
   ]
  },
  {
   "cell_type": "code",
   "execution_count": 329,
   "id": "f08710d3",
   "metadata": {},
   "outputs": [
    {
     "name": "stdout",
     "output_type": "stream",
     "text": [
      "30\n"
     ]
    }
   ],
   "source": [
    "x = lambda a, b : a * b\n",
    "print(x(5, 6))"
   ]
  },
  {
   "cell_type": "code",
   "execution_count": 330,
   "id": "2f0a325b",
   "metadata": {},
   "outputs": [
    {
     "name": "stdout",
     "output_type": "stream",
     "text": [
      "10\n"
     ]
    }
   ],
   "source": [
    "from functools import reduce\n",
    "nums = [1, 2, 3, 4]\n",
    "result = reduce(lambda x, y: x + y, nums)\n",
    "print(result)"
   ]
  },
  {
   "cell_type": "code",
   "execution_count": 331,
   "id": "67c3589b",
   "metadata": {},
   "outputs": [
    {
     "name": "stdout",
     "output_type": "stream",
     "text": [
      "0 h\n",
      "1 e\n",
      "2 l\n",
      "3 l\n",
      "4 o\n"
     ]
    }
   ],
   "source": [
    "s = 'hello'\n",
    "for i, ch in enumerate(s): print(i, ch)"
   ]
  },
  {
   "cell_type": "code",
   "execution_count": 332,
   "id": "50475b3d",
   "metadata": {},
   "outputs": [
    {
     "name": "stdout",
     "output_type": "stream",
     "text": [
      "6\n"
     ]
    }
   ],
   "source": [
    "x = lambda a, b, c : a + b + c\n",
    "print(x(1, 2, 3))"
   ]
  },
  {
   "cell_type": "code",
   "execution_count": 333,
   "id": "bf9e527f",
   "metadata": {},
   "outputs": [
    {
     "name": "stdout",
     "output_type": "stream",
     "text": [
      "[2, 4, 6]\n"
     ]
    }
   ],
   "source": [
    "nums = [1, 2, 3, 4, 5, 6]\n",
    "result = list(filter(lambda x: x % 2 == 0, nums))\n",
    "print(result)"
   ]
  },
  {
   "cell_type": "code",
   "execution_count": 334,
   "id": "fe7cff0c",
   "metadata": {},
   "outputs": [
    {
     "name": "stdout",
     "output_type": "stream",
     "text": [
      "15\n"
     ]
    }
   ],
   "source": [
    "x = lambda a : a + 10\n",
    "print(x(5))"
   ]
  },
  {
   "cell_type": "code",
   "execution_count": 335,
   "id": "2d63e030",
   "metadata": {},
   "outputs": [
    {
     "name": "stdout",
     "output_type": "stream",
     "text": [
      "[(1, 'a'), (2, 'b'), (3, 'c')]\n"
     ]
    }
   ],
   "source": [
    "x = [1, 2, 3]\n",
    "y = ['a', 'b', 'c']\n",
    "z = zip(x, y)\n",
    "print(list(z))"
   ]
  },
  {
   "cell_type": "code",
   "execution_count": 336,
   "id": "3c70a17c",
   "metadata": {},
   "outputs": [
    {
     "name": "stdout",
     "output_type": "stream",
     "text": [
      "0 h\n",
      "1 e\n",
      "2 l\n",
      "3 l\n",
      "4 o\n"
     ]
    }
   ],
   "source": [
    "s = 'hello'\n",
    "for i, ch in enumerate(s): print(i, ch)"
   ]
  },
  {
   "cell_type": "code",
   "execution_count": 337,
   "id": "f7332f25",
   "metadata": {},
   "outputs": [
    {
     "name": "stdout",
     "output_type": "stream",
     "text": [
      "6\n"
     ]
    }
   ],
   "source": [
    "x = lambda a, b, c : a + b + c\n",
    "print(x(1, 2, 3))"
   ]
  },
  {
   "cell_type": "code",
   "execution_count": 338,
   "id": "228b1055",
   "metadata": {},
   "outputs": [
    {
     "name": "stdout",
     "output_type": "stream",
     "text": [
      "[2, 4, 6]\n"
     ]
    }
   ],
   "source": [
    "nums = [1, 2, 3, 4, 5, 6]\n",
    "result = list(filter(lambda x: x % 2 == 0, nums))\n",
    "print(result)"
   ]
  },
  {
   "cell_type": "code",
   "execution_count": 339,
   "id": "850a39b8",
   "metadata": {},
   "outputs": [
    {
     "name": "stdout",
     "output_type": "stream",
     "text": [
      "10\n"
     ]
    }
   ],
   "source": [
    "from functools import reduce\n",
    "nums = [1, 2, 3, 4]\n",
    "result = reduce(lambda x, y: x + y, nums)\n",
    "print(result)"
   ]
  },
  {
   "cell_type": "code",
   "execution_count": 340,
   "id": "852cb62a",
   "metadata": {},
   "outputs": [
    {
     "name": "stdout",
     "output_type": "stream",
     "text": [
      "10\n"
     ]
    }
   ],
   "source": [
    "from functools import reduce\n",
    "nums = [1, 2, 3, 4]\n",
    "result = reduce(lambda x, y: x + y, nums)\n",
    "print(result)"
   ]
  },
  {
   "cell_type": "code",
   "execution_count": 341,
   "id": "06e2afec",
   "metadata": {},
   "outputs": [
    {
     "name": "stdout",
     "output_type": "stream",
     "text": [
      "['HELLO', 'WORLD']\n"
     ]
    }
   ],
   "source": [
    "words = ['hello', 'world']\n",
    "result = list(map(str.upper, words))\n",
    "print(result)"
   ]
  },
  {
   "cell_type": "code",
   "execution_count": 342,
   "id": "09b59464",
   "metadata": {},
   "outputs": [
    {
     "name": "stdout",
     "output_type": "stream",
     "text": [
      "15\n"
     ]
    }
   ],
   "source": [
    "x = lambda a : a + 10\n",
    "print(x(5))"
   ]
  },
  {
   "cell_type": "code",
   "execution_count": 343,
   "id": "f63199a7",
   "metadata": {},
   "outputs": [
    {
     "name": "stdout",
     "output_type": "stream",
     "text": [
      "['HELLO', 'WORLD']\n"
     ]
    }
   ],
   "source": [
    "words = ['hello', 'world']\n",
    "result = list(map(str.upper, words))\n",
    "print(result)"
   ]
  },
  {
   "cell_type": "code",
   "execution_count": 344,
   "id": "02f4fb77",
   "metadata": {},
   "outputs": [
    {
     "name": "stdout",
     "output_type": "stream",
     "text": [
      "[('a', 85), ('b', 90), ('c', 95)]\n"
     ]
    }
   ],
   "source": [
    "names = ['a', 'b', 'c']\n",
    "scores = [85, 90, 95]\n",
    "result = list(zip(names, scores))\n",
    "print(result)"
   ]
  },
  {
   "cell_type": "code",
   "execution_count": 345,
   "id": "93d9ff49",
   "metadata": {},
   "outputs": [
    {
     "name": "stdout",
     "output_type": "stream",
     "text": [
      "[(1, 'a'), (2, 'b'), (3, 'c')]\n"
     ]
    }
   ],
   "source": [
    "x = [1, 2, 3]\n",
    "y = ['a', 'b', 'c']\n",
    "z = zip(x, y)\n",
    "print(list(z))"
   ]
  },
  {
   "cell_type": "code",
   "execution_count": 346,
   "id": "4e00104e",
   "metadata": {},
   "outputs": [
    {
     "name": "stdout",
     "output_type": "stream",
     "text": [
      "['Cathy']\n"
     ]
    }
   ],
   "source": [
    "names = ['Amy', 'Ben', 'Cathy', 'Dan']\n",
    "result = list(filter(lambda x: x.startswith('C'), names))\n",
    "print(result)"
   ]
  },
  {
   "cell_type": "code",
   "execution_count": 347,
   "id": "df22f37a",
   "metadata": {},
   "outputs": [
    {
     "name": "stdout",
     "output_type": "stream",
     "text": [
      "[2, 4, 6]\n"
     ]
    }
   ],
   "source": [
    "nums = [1, 2, 3, 4, 5, 6]\n",
    "result = list(filter(lambda x: x % 2 == 0, nums))\n",
    "print(result)"
   ]
  },
  {
   "cell_type": "code",
   "execution_count": 348,
   "id": "7ca847d9",
   "metadata": {},
   "outputs": [
    {
     "name": "stdout",
     "output_type": "stream",
     "text": [
      "24\n"
     ]
    }
   ],
   "source": [
    "from functools import reduce\n",
    "nums = [1, 2, 3, 4]\n",
    "result = reduce(lambda x, y: x * y, nums)\n",
    "print(result)"
   ]
  },
  {
   "cell_type": "code",
   "execution_count": 349,
   "id": "c2697fbf",
   "metadata": {},
   "outputs": [
    {
     "name": "stdout",
     "output_type": "stream",
     "text": [
      "[2, 4, 6]\n"
     ]
    }
   ],
   "source": [
    "nums = [1, 2, 3, 4, 5, 6]\n",
    "result = list(filter(lambda x: x % 2 == 0, nums))\n",
    "print(result)"
   ]
  },
  {
   "cell_type": "code",
   "execution_count": 350,
   "id": "475c4381",
   "metadata": {},
   "outputs": [
    {
     "name": "stdout",
     "output_type": "stream",
     "text": [
      "[2, 4, 6, 8]\n"
     ]
    }
   ],
   "source": [
    "nums = [1, 2, 3, 4]\n",
    "result = list(map(lambda x: x * 2, nums))\n",
    "print(result)"
   ]
  },
  {
   "cell_type": "code",
   "execution_count": 351,
   "id": "6324addd",
   "metadata": {},
   "outputs": [
    {
     "name": "stdout",
     "output_type": "stream",
     "text": [
      "['HELLO', 'WORLD']\n"
     ]
    }
   ],
   "source": [
    "words = ['hello', 'world']\n",
    "result = list(map(str.upper, words))\n",
    "print(result)"
   ]
  },
  {
   "cell_type": "code",
   "execution_count": 352,
   "id": "ebcf5437",
   "metadata": {},
   "outputs": [
    {
     "name": "stdout",
     "output_type": "stream",
     "text": [
      "6\n"
     ]
    }
   ],
   "source": [
    "x = lambda a, b, c : a + b + c\n",
    "print(x(1, 2, 3))"
   ]
  },
  {
   "cell_type": "code",
   "execution_count": 353,
   "id": "c85f4ac1",
   "metadata": {},
   "outputs": [
    {
     "name": "stdout",
     "output_type": "stream",
     "text": [
      "[2, 4, 6, 8]\n"
     ]
    }
   ],
   "source": [
    "nums = [1, 2, 3, 4]\n",
    "result = list(map(lambda x: x * 2, nums))\n",
    "print(result)"
   ]
  },
  {
   "cell_type": "code",
   "execution_count": 354,
   "id": "f019fe58",
   "metadata": {},
   "outputs": [
    {
     "name": "stdout",
     "output_type": "stream",
     "text": [
      "[2, 4, 6, 8]\n"
     ]
    }
   ],
   "source": [
    "nums = [1, 2, 3, 4]\n",
    "result = list(map(lambda x: x * 2, nums))\n",
    "print(result)"
   ]
  },
  {
   "cell_type": "code",
   "execution_count": 355,
   "id": "56496320",
   "metadata": {},
   "outputs": [
    {
     "name": "stdout",
     "output_type": "stream",
     "text": [
      "10\n"
     ]
    }
   ],
   "source": [
    "from functools import reduce\n",
    "nums = [1, 2, 3, 4]\n",
    "result = reduce(lambda x, y: x + y, nums)\n",
    "print(result)"
   ]
  },
  {
   "cell_type": "code",
   "execution_count": 356,
   "id": "fbe68d24",
   "metadata": {},
   "outputs": [
    {
     "name": "stdout",
     "output_type": "stream",
     "text": [
      "[('a', 85), ('b', 90), ('c', 95)]\n"
     ]
    }
   ],
   "source": [
    "names = ['a', 'b', 'c']\n",
    "scores = [85, 90, 95]\n",
    "result = list(zip(names, scores))\n",
    "print(result)"
   ]
  },
  {
   "cell_type": "code",
   "execution_count": 357,
   "id": "aa5f7c49",
   "metadata": {},
   "outputs": [
    {
     "name": "stdout",
     "output_type": "stream",
     "text": [
      "[2, 4, 6]\n"
     ]
    }
   ],
   "source": [
    "nums = [1, 2, 3, 4, 5, 6]\n",
    "result = list(filter(lambda x: x % 2 == 0, nums))\n",
    "print(result)"
   ]
  },
  {
   "cell_type": "code",
   "execution_count": 358,
   "id": "6095df9f",
   "metadata": {},
   "outputs": [
    {
     "name": "stdout",
     "output_type": "stream",
     "text": [
      "[(1, 'a'), (2, 'b'), (3, 'c')]\n"
     ]
    }
   ],
   "source": [
    "x = [1, 2, 3]\n",
    "y = ['a', 'b', 'c']\n",
    "z = zip(x, y)\n",
    "print(list(z))"
   ]
  },
  {
   "cell_type": "code",
   "execution_count": 359,
   "id": "7314f96c",
   "metadata": {},
   "outputs": [
    {
     "name": "stdout",
     "output_type": "stream",
     "text": [
      "[2, 4, 6]\n"
     ]
    }
   ],
   "source": [
    "nums = [1, 2, 3, 4, 5, 6]\n",
    "result = list(filter(lambda x: x % 2 == 0, nums))\n",
    "print(result)"
   ]
  },
  {
   "cell_type": "code",
   "execution_count": 360,
   "id": "9d58e289",
   "metadata": {},
   "outputs": [
    {
     "name": "stdout",
     "output_type": "stream",
     "text": [
      "['HELLO', 'WORLD']\n"
     ]
    }
   ],
   "source": [
    "words = ['hello', 'world']\n",
    "result = list(map(str.upper, words))\n",
    "print(result)"
   ]
  },
  {
   "cell_type": "code",
   "execution_count": 361,
   "id": "6b5af06d",
   "metadata": {},
   "outputs": [
    {
     "name": "stdout",
     "output_type": "stream",
     "text": [
      "24\n"
     ]
    }
   ],
   "source": [
    "from functools import reduce\n",
    "nums = [1, 2, 3, 4]\n",
    "result = reduce(lambda x, y: x * y, nums)\n",
    "print(result)"
   ]
  },
  {
   "cell_type": "code",
   "execution_count": 362,
   "id": "016a6e74",
   "metadata": {},
   "outputs": [
    {
     "name": "stdout",
     "output_type": "stream",
     "text": [
      "[2, 4, 6, 8]\n"
     ]
    }
   ],
   "source": [
    "nums = [1, 2, 3, 4]\n",
    "result = list(map(lambda x: x * 2, nums))\n",
    "print(result)"
   ]
  },
  {
   "cell_type": "code",
   "execution_count": 363,
   "id": "b97055e7",
   "metadata": {},
   "outputs": [
    {
     "name": "stdout",
     "output_type": "stream",
     "text": [
      "24\n"
     ]
    }
   ],
   "source": [
    "from functools import reduce\n",
    "nums = [1, 2, 3, 4]\n",
    "result = reduce(lambda x, y: x * y, nums)\n",
    "print(result)"
   ]
  },
  {
   "cell_type": "code",
   "execution_count": 364,
   "id": "e5df9374",
   "metadata": {},
   "outputs": [
    {
     "name": "stdout",
     "output_type": "stream",
     "text": [
      "[2, 4, 6, 8]\n"
     ]
    }
   ],
   "source": [
    "nums = [1, 2, 3, 4]\n",
    "result = list(map(lambda x: x * 2, nums))\n",
    "print(result)"
   ]
  },
  {
   "cell_type": "code",
   "execution_count": 365,
   "id": "7939768c",
   "metadata": {},
   "outputs": [
    {
     "name": "stdout",
     "output_type": "stream",
     "text": [
      "15\n"
     ]
    }
   ],
   "source": [
    "x = lambda a : a + 10\n",
    "print(x(5))"
   ]
  },
  {
   "cell_type": "code",
   "execution_count": 366,
   "id": "98361b64",
   "metadata": {},
   "outputs": [
    {
     "name": "stdout",
     "output_type": "stream",
     "text": [
      "0 a\n",
      "1 b\n",
      "2 c\n"
     ]
    }
   ],
   "source": [
    "lst = ['a', 'b', 'c']\n",
    "for index, value in enumerate(lst): print(index, value)"
   ]
  },
  {
   "cell_type": "code",
   "execution_count": 367,
   "id": "03b57885",
   "metadata": {},
   "outputs": [
    {
     "name": "stdout",
     "output_type": "stream",
     "text": [
      "10\n"
     ]
    }
   ],
   "source": [
    "from functools import reduce\n",
    "nums = [1, 2, 3, 4]\n",
    "result = reduce(lambda x, y: x + y, nums)\n",
    "print(result)"
   ]
  },
  {
   "cell_type": "code",
   "execution_count": 368,
   "id": "7031af6b",
   "metadata": {},
   "outputs": [
    {
     "name": "stdout",
     "output_type": "stream",
     "text": [
      "[2, 4, 6, 8]\n"
     ]
    }
   ],
   "source": [
    "nums = [1, 2, 3, 4]\n",
    "result = list(map(lambda x: x * 2, nums))\n",
    "print(result)"
   ]
  },
  {
   "cell_type": "code",
   "execution_count": 369,
   "id": "7f04e8f6",
   "metadata": {},
   "outputs": [
    {
     "name": "stdout",
     "output_type": "stream",
     "text": [
      "0 a\n",
      "1 b\n",
      "2 c\n"
     ]
    }
   ],
   "source": [
    "lst = ['a', 'b', 'c']\n",
    "for index, value in enumerate(lst): print(index, value)"
   ]
  },
  {
   "cell_type": "code",
   "execution_count": 370,
   "id": "bca23930",
   "metadata": {},
   "outputs": [
    {
     "name": "stdout",
     "output_type": "stream",
     "text": [
      "[2, 4, 6, 8]\n"
     ]
    }
   ],
   "source": [
    "nums = [1, 2, 3, 4]\n",
    "result = list(map(lambda x: x * 2, nums))\n",
    "print(result)"
   ]
  },
  {
   "cell_type": "code",
   "execution_count": 371,
   "id": "07248a74",
   "metadata": {},
   "outputs": [
    {
     "name": "stdout",
     "output_type": "stream",
     "text": [
      "[2, 4, 6]\n"
     ]
    }
   ],
   "source": [
    "nums = [1, 2, 3, 4, 5, 6]\n",
    "result = list(filter(lambda x: x % 2 == 0, nums))\n",
    "print(result)"
   ]
  },
  {
   "cell_type": "code",
   "execution_count": 372,
   "id": "07138a76",
   "metadata": {},
   "outputs": [
    {
     "name": "stdout",
     "output_type": "stream",
     "text": [
      "10\n"
     ]
    }
   ],
   "source": [
    "from functools import reduce\n",
    "nums = [1, 2, 3, 4]\n",
    "result = reduce(lambda x, y: x + y, nums)\n",
    "print(result)"
   ]
  },
  {
   "cell_type": "code",
   "execution_count": 373,
   "id": "05162fba",
   "metadata": {},
   "outputs": [
    {
     "name": "stdout",
     "output_type": "stream",
     "text": [
      "[(1, 'a'), (2, 'b'), (3, 'c')]\n"
     ]
    }
   ],
   "source": [
    "x = [1, 2, 3]\n",
    "y = ['a', 'b', 'c']\n",
    "z = zip(x, y)\n",
    "print(list(z))"
   ]
  },
  {
   "cell_type": "code",
   "execution_count": 374,
   "id": "307f570e",
   "metadata": {},
   "outputs": [
    {
     "name": "stdout",
     "output_type": "stream",
     "text": [
      "6\n"
     ]
    }
   ],
   "source": [
    "x = lambda a, b, c : a + b + c\n",
    "print(x(1, 2, 3))"
   ]
  },
  {
   "cell_type": "code",
   "execution_count": 375,
   "id": "295e0825",
   "metadata": {},
   "outputs": [
    {
     "name": "stdout",
     "output_type": "stream",
     "text": [
      "30\n"
     ]
    }
   ],
   "source": [
    "x = lambda a, b : a * b\n",
    "print(x(5, 6))"
   ]
  },
  {
   "cell_type": "code",
   "execution_count": 376,
   "id": "80f6258e",
   "metadata": {},
   "outputs": [
    {
     "name": "stdout",
     "output_type": "stream",
     "text": [
      "[('a', 85), ('b', 90), ('c', 95)]\n"
     ]
    }
   ],
   "source": [
    "names = ['a', 'b', 'c']\n",
    "scores = [85, 90, 95]\n",
    "result = list(zip(names, scores))\n",
    "print(result)"
   ]
  },
  {
   "cell_type": "code",
   "execution_count": 377,
   "id": "4a69837f",
   "metadata": {},
   "outputs": [
    {
     "name": "stdout",
     "output_type": "stream",
     "text": [
      "10\n"
     ]
    }
   ],
   "source": [
    "from functools import reduce\n",
    "nums = [1, 2, 3, 4]\n",
    "result = reduce(lambda x, y: x + y, nums)\n",
    "print(result)"
   ]
  },
  {
   "cell_type": "code",
   "execution_count": 378,
   "id": "6d87f216",
   "metadata": {},
   "outputs": [
    {
     "name": "stdout",
     "output_type": "stream",
     "text": [
      "10\n"
     ]
    }
   ],
   "source": [
    "from functools import reduce\n",
    "nums = [1, 2, 3, 4]\n",
    "result = reduce(lambda x, y: x + y, nums)\n",
    "print(result)"
   ]
  },
  {
   "cell_type": "code",
   "execution_count": 379,
   "id": "66455813",
   "metadata": {},
   "outputs": [
    {
     "name": "stdout",
     "output_type": "stream",
     "text": [
      "30\n"
     ]
    }
   ],
   "source": [
    "x = lambda a, b : a * b\n",
    "print(x(5, 6))"
   ]
  },
  {
   "cell_type": "code",
   "execution_count": 380,
   "id": "d37b2f60",
   "metadata": {},
   "outputs": [
    {
     "name": "stdout",
     "output_type": "stream",
     "text": [
      "10\n"
     ]
    }
   ],
   "source": [
    "from functools import reduce\n",
    "nums = [1, 2, 3, 4]\n",
    "result = reduce(lambda x, y: x + y, nums)\n",
    "print(result)"
   ]
  },
  {
   "cell_type": "code",
   "execution_count": 381,
   "id": "0ced8e93",
   "metadata": {},
   "outputs": [
    {
     "name": "stdout",
     "output_type": "stream",
     "text": [
      "30\n"
     ]
    }
   ],
   "source": [
    "x = lambda a, b : a * b\n",
    "print(x(5, 6))"
   ]
  },
  {
   "cell_type": "code",
   "execution_count": 382,
   "id": "27cb416e",
   "metadata": {},
   "outputs": [
    {
     "name": "stdout",
     "output_type": "stream",
     "text": [
      "15\n"
     ]
    }
   ],
   "source": [
    "x = lambda a : a + 10\n",
    "print(x(5))"
   ]
  },
  {
   "cell_type": "code",
   "execution_count": 383,
   "id": "b92c44a1",
   "metadata": {},
   "outputs": [
    {
     "name": "stdout",
     "output_type": "stream",
     "text": [
      "[2, 4, 6]\n"
     ]
    }
   ],
   "source": [
    "nums = [1, 2, 3, 4, 5, 6]\n",
    "result = list(filter(lambda x: x % 2 == 0, nums))\n",
    "print(result)"
   ]
  },
  {
   "cell_type": "code",
   "execution_count": 384,
   "id": "875d2ce3",
   "metadata": {},
   "outputs": [
    {
     "name": "stdout",
     "output_type": "stream",
     "text": [
      "[2, 4, 6, 8]\n"
     ]
    }
   ],
   "source": [
    "nums = [1, 2, 3, 4]\n",
    "result = list(map(lambda x: x * 2, nums))\n",
    "print(result)"
   ]
  },
  {
   "cell_type": "code",
   "execution_count": 385,
   "id": "c871be68",
   "metadata": {},
   "outputs": [
    {
     "name": "stdout",
     "output_type": "stream",
     "text": [
      "10\n"
     ]
    }
   ],
   "source": [
    "from functools import reduce\n",
    "nums = [1, 2, 3, 4]\n",
    "result = reduce(lambda x, y: x + y, nums)\n",
    "print(result)"
   ]
  },
  {
   "cell_type": "code",
   "execution_count": 386,
   "id": "a0ea5343",
   "metadata": {},
   "outputs": [
    {
     "name": "stdout",
     "output_type": "stream",
     "text": [
      "[2, 4, 6]\n"
     ]
    }
   ],
   "source": [
    "nums = [1, 2, 3, 4, 5, 6]\n",
    "result = list(filter(lambda x: x % 2 == 0, nums))\n",
    "print(result)"
   ]
  },
  {
   "cell_type": "code",
   "execution_count": 387,
   "id": "62e1525d",
   "metadata": {},
   "outputs": [
    {
     "name": "stdout",
     "output_type": "stream",
     "text": [
      "['Cathy']\n"
     ]
    }
   ],
   "source": [
    "names = ['Amy', 'Ben', 'Cathy', 'Dan']\n",
    "result = list(filter(lambda x: x.startswith('C'), names))\n",
    "print(result)"
   ]
  },
  {
   "cell_type": "code",
   "execution_count": 388,
   "id": "ac809567",
   "metadata": {},
   "outputs": [
    {
     "name": "stdout",
     "output_type": "stream",
     "text": [
      "6\n"
     ]
    }
   ],
   "source": [
    "x = lambda a, b, c : a + b + c\n",
    "print(x(1, 2, 3))"
   ]
  },
  {
   "cell_type": "code",
   "execution_count": 389,
   "id": "859eef61",
   "metadata": {},
   "outputs": [
    {
     "name": "stdout",
     "output_type": "stream",
     "text": [
      "6\n"
     ]
    }
   ],
   "source": [
    "x = lambda a, b, c : a + b + c\n",
    "print(x(1, 2, 3))"
   ]
  },
  {
   "cell_type": "code",
   "execution_count": 390,
   "id": "feb5ab4e",
   "metadata": {},
   "outputs": [
    {
     "name": "stdout",
     "output_type": "stream",
     "text": [
      "[('a', 85), ('b', 90), ('c', 95)]\n"
     ]
    }
   ],
   "source": [
    "names = ['a', 'b', 'c']\n",
    "scores = [85, 90, 95]\n",
    "result = list(zip(names, scores))\n",
    "print(result)"
   ]
  },
  {
   "cell_type": "code",
   "execution_count": 391,
   "id": "85bd64bb",
   "metadata": {},
   "outputs": [
    {
     "name": "stdout",
     "output_type": "stream",
     "text": [
      "['HELLO', 'WORLD']\n"
     ]
    }
   ],
   "source": [
    "words = ['hello', 'world']\n",
    "result = list(map(str.upper, words))\n",
    "print(result)"
   ]
  },
  {
   "cell_type": "code",
   "execution_count": 392,
   "id": "40b9bccc",
   "metadata": {},
   "outputs": [
    {
     "name": "stdout",
     "output_type": "stream",
     "text": [
      "['Cathy']\n"
     ]
    }
   ],
   "source": [
    "names = ['Amy', 'Ben', 'Cathy', 'Dan']\n",
    "result = list(filter(lambda x: x.startswith('C'), names))\n",
    "print(result)"
   ]
  },
  {
   "cell_type": "code",
   "execution_count": 393,
   "id": "6337c66b",
   "metadata": {},
   "outputs": [
    {
     "name": "stdout",
     "output_type": "stream",
     "text": [
      "6\n"
     ]
    }
   ],
   "source": [
    "x = lambda a, b, c : a + b + c\n",
    "print(x(1, 2, 3))"
   ]
  },
  {
   "cell_type": "code",
   "execution_count": 394,
   "id": "1c4fa313",
   "metadata": {},
   "outputs": [
    {
     "name": "stdout",
     "output_type": "stream",
     "text": [
      "[2, 4, 6, 8]\n"
     ]
    }
   ],
   "source": [
    "nums = [1, 2, 3, 4]\n",
    "result = list(map(lambda x: x * 2, nums))\n",
    "print(result)"
   ]
  },
  {
   "cell_type": "code",
   "execution_count": 395,
   "id": "0bc0af47",
   "metadata": {},
   "outputs": [
    {
     "name": "stdout",
     "output_type": "stream",
     "text": [
      "['Cathy']\n"
     ]
    }
   ],
   "source": [
    "names = ['Amy', 'Ben', 'Cathy', 'Dan']\n",
    "result = list(filter(lambda x: x.startswith('C'), names))\n",
    "print(result)"
   ]
  },
  {
   "cell_type": "code",
   "execution_count": 396,
   "id": "a5584130",
   "metadata": {},
   "outputs": [
    {
     "name": "stdout",
     "output_type": "stream",
     "text": [
      "['HELLO', 'WORLD']\n"
     ]
    }
   ],
   "source": [
    "words = ['hello', 'world']\n",
    "result = list(map(str.upper, words))\n",
    "print(result)"
   ]
  },
  {
   "cell_type": "code",
   "execution_count": 397,
   "id": "099b49b4",
   "metadata": {},
   "outputs": [
    {
     "name": "stdout",
     "output_type": "stream",
     "text": [
      "['HELLO', 'WORLD']\n"
     ]
    }
   ],
   "source": [
    "words = ['hello', 'world']\n",
    "result = list(map(str.upper, words))\n",
    "print(result)"
   ]
  },
  {
   "cell_type": "code",
   "execution_count": 398,
   "id": "848d4ad4",
   "metadata": {},
   "outputs": [
    {
     "name": "stdout",
     "output_type": "stream",
     "text": [
      "[(1, 'a'), (2, 'b'), (3, 'c')]\n"
     ]
    }
   ],
   "source": [
    "x = [1, 2, 3]\n",
    "y = ['a', 'b', 'c']\n",
    "z = zip(x, y)\n",
    "print(list(z))"
   ]
  },
  {
   "cell_type": "code",
   "execution_count": 399,
   "id": "fddfc5b5",
   "metadata": {},
   "outputs": [
    {
     "name": "stdout",
     "output_type": "stream",
     "text": [
      "15\n"
     ]
    }
   ],
   "source": [
    "x = lambda a : a + 10\n",
    "print(x(5))"
   ]
  },
  {
   "cell_type": "code",
   "execution_count": 400,
   "id": "5da4b15e",
   "metadata": {},
   "outputs": [
    {
     "name": "stdout",
     "output_type": "stream",
     "text": [
      "0 a\n",
      "1 b\n",
      "2 c\n"
     ]
    }
   ],
   "source": [
    "lst = ['a', 'b', 'c']\n",
    "for index, value in enumerate(lst): print(index, value)"
   ]
  },
  {
   "cell_type": "code",
   "execution_count": 401,
   "id": "ce0f2b53",
   "metadata": {},
   "outputs": [
    {
     "name": "stdout",
     "output_type": "stream",
     "text": [
      "[2, 4, 6, 8]\n"
     ]
    }
   ],
   "source": [
    "nums = [1, 2, 3, 4]\n",
    "result = list(map(lambda x: x * 2, nums))\n",
    "print(result)"
   ]
  },
  {
   "cell_type": "code",
   "execution_count": 402,
   "id": "a1a41d49",
   "metadata": {},
   "outputs": [
    {
     "name": "stdout",
     "output_type": "stream",
     "text": [
      "['Cathy']\n"
     ]
    }
   ],
   "source": [
    "names = ['Amy', 'Ben', 'Cathy', 'Dan']\n",
    "result = list(filter(lambda x: x.startswith('C'), names))\n",
    "print(result)"
   ]
  },
  {
   "cell_type": "code",
   "execution_count": 403,
   "id": "cf60bda0",
   "metadata": {},
   "outputs": [
    {
     "name": "stdout",
     "output_type": "stream",
     "text": [
      "0 h\n",
      "1 e\n",
      "2 l\n",
      "3 l\n",
      "4 o\n"
     ]
    }
   ],
   "source": [
    "s = 'hello'\n",
    "for i, ch in enumerate(s): print(i, ch)"
   ]
  },
  {
   "cell_type": "code",
   "execution_count": 404,
   "id": "cf9ce7ea",
   "metadata": {},
   "outputs": [
    {
     "name": "stdout",
     "output_type": "stream",
     "text": [
      "0 a\n",
      "1 b\n",
      "2 c\n"
     ]
    }
   ],
   "source": [
    "lst = ['a', 'b', 'c']\n",
    "for index, value in enumerate(lst): print(index, value)"
   ]
  },
  {
   "cell_type": "code",
   "execution_count": 405,
   "id": "61f091e3",
   "metadata": {},
   "outputs": [
    {
     "name": "stdout",
     "output_type": "stream",
     "text": [
      "[2, 4, 6]\n"
     ]
    }
   ],
   "source": [
    "nums = [1, 2, 3, 4, 5, 6]\n",
    "result = list(filter(lambda x: x % 2 == 0, nums))\n",
    "print(result)"
   ]
  },
  {
   "cell_type": "code",
   "execution_count": 406,
   "id": "47d31211",
   "metadata": {},
   "outputs": [
    {
     "name": "stdout",
     "output_type": "stream",
     "text": [
      "['Cathy']\n"
     ]
    }
   ],
   "source": [
    "names = ['Amy', 'Ben', 'Cathy', 'Dan']\n",
    "result = list(filter(lambda x: x.startswith('C'), names))\n",
    "print(result)"
   ]
  },
  {
   "cell_type": "code",
   "execution_count": 407,
   "id": "e95fb2d7",
   "metadata": {},
   "outputs": [
    {
     "name": "stdout",
     "output_type": "stream",
     "text": [
      "15\n"
     ]
    }
   ],
   "source": [
    "x = lambda a : a + 10\n",
    "print(x(5))"
   ]
  },
  {
   "cell_type": "code",
   "execution_count": 408,
   "id": "82276d48",
   "metadata": {},
   "outputs": [
    {
     "name": "stdout",
     "output_type": "stream",
     "text": [
      "15\n"
     ]
    }
   ],
   "source": [
    "x = lambda a : a + 10\n",
    "print(x(5))"
   ]
  },
  {
   "cell_type": "code",
   "execution_count": 409,
   "id": "06fcaee5",
   "metadata": {},
   "outputs": [
    {
     "name": "stdout",
     "output_type": "stream",
     "text": [
      "[(1, 'a'), (2, 'b'), (3, 'c')]\n"
     ]
    }
   ],
   "source": [
    "x = [1, 2, 3]\n",
    "y = ['a', 'b', 'c']\n",
    "z = zip(x, y)\n",
    "print(list(z))"
   ]
  },
  {
   "cell_type": "code",
   "execution_count": 410,
   "id": "9696cadf",
   "metadata": {},
   "outputs": [
    {
     "name": "stdout",
     "output_type": "stream",
     "text": [
      "0 a\n",
      "1 b\n",
      "2 c\n"
     ]
    }
   ],
   "source": [
    "lst = ['a', 'b', 'c']\n",
    "for index, value in enumerate(lst): print(index, value)"
   ]
  },
  {
   "cell_type": "code",
   "execution_count": 411,
   "id": "f9629f4c",
   "metadata": {},
   "outputs": [
    {
     "name": "stdout",
     "output_type": "stream",
     "text": [
      "30\n"
     ]
    }
   ],
   "source": [
    "x = lambda a, b : a * b\n",
    "print(x(5, 6))"
   ]
  },
  {
   "cell_type": "code",
   "execution_count": 412,
   "id": "884537f8",
   "metadata": {},
   "outputs": [
    {
     "name": "stdout",
     "output_type": "stream",
     "text": [
      "[(1, 'a'), (2, 'b'), (3, 'c')]\n"
     ]
    }
   ],
   "source": [
    "x = [1, 2, 3]\n",
    "y = ['a', 'b', 'c']\n",
    "z = zip(x, y)\n",
    "print(list(z))"
   ]
  },
  {
   "cell_type": "code",
   "execution_count": 413,
   "id": "91f7b4c5",
   "metadata": {},
   "outputs": [
    {
     "name": "stdout",
     "output_type": "stream",
     "text": [
      "[(1, 'a'), (2, 'b'), (3, 'c')]\n"
     ]
    }
   ],
   "source": [
    "x = [1, 2, 3]\n",
    "y = ['a', 'b', 'c']\n",
    "z = zip(x, y)\n",
    "print(list(z))"
   ]
  },
  {
   "cell_type": "code",
   "execution_count": 414,
   "id": "ef68ad2b",
   "metadata": {},
   "outputs": [
    {
     "name": "stdout",
     "output_type": "stream",
     "text": [
      "0 h\n",
      "1 e\n",
      "2 l\n",
      "3 l\n",
      "4 o\n"
     ]
    }
   ],
   "source": [
    "s = 'hello'\n",
    "for i, ch in enumerate(s): print(i, ch)"
   ]
  },
  {
   "cell_type": "code",
   "execution_count": 415,
   "id": "52cfaac3",
   "metadata": {},
   "outputs": [
    {
     "name": "stdout",
     "output_type": "stream",
     "text": [
      "[('a', 85), ('b', 90), ('c', 95)]\n"
     ]
    }
   ],
   "source": [
    "names = ['a', 'b', 'c']\n",
    "scores = [85, 90, 95]\n",
    "result = list(zip(names, scores))\n",
    "print(result)"
   ]
  },
  {
   "cell_type": "code",
   "execution_count": 416,
   "id": "8a55b74b",
   "metadata": {},
   "outputs": [
    {
     "name": "stdout",
     "output_type": "stream",
     "text": [
      "30\n"
     ]
    }
   ],
   "source": [
    "x = lambda a, b : a * b\n",
    "print(x(5, 6))"
   ]
  },
  {
   "cell_type": "code",
   "execution_count": 417,
   "id": "31b71154",
   "metadata": {},
   "outputs": [
    {
     "name": "stdout",
     "output_type": "stream",
     "text": [
      "10\n"
     ]
    }
   ],
   "source": [
    "from functools import reduce\n",
    "nums = [1, 2, 3, 4]\n",
    "result = reduce(lambda x, y: x + y, nums)\n",
    "print(result)"
   ]
  },
  {
   "cell_type": "code",
   "execution_count": 418,
   "id": "d545b6ac",
   "metadata": {},
   "outputs": [
    {
     "name": "stdout",
     "output_type": "stream",
     "text": [
      "6\n"
     ]
    }
   ],
   "source": [
    "x = lambda a, b, c : a + b + c\n",
    "print(x(1, 2, 3))"
   ]
  },
  {
   "cell_type": "code",
   "execution_count": 419,
   "id": "f5e43677",
   "metadata": {},
   "outputs": [
    {
     "name": "stdout",
     "output_type": "stream",
     "text": [
      "[(1, 'a'), (2, 'b'), (3, 'c')]\n"
     ]
    }
   ],
   "source": [
    "x = [1, 2, 3]\n",
    "y = ['a', 'b', 'c']\n",
    "z = zip(x, y)\n",
    "print(list(z))"
   ]
  },
  {
   "cell_type": "code",
   "execution_count": 420,
   "id": "d6439d4a",
   "metadata": {},
   "outputs": [
    {
     "name": "stdout",
     "output_type": "stream",
     "text": [
      "10\n"
     ]
    }
   ],
   "source": [
    "from functools import reduce\n",
    "nums = [1, 2, 3, 4]\n",
    "result = reduce(lambda x, y: x + y, nums)\n",
    "print(result)"
   ]
  },
  {
   "cell_type": "code",
   "execution_count": 421,
   "id": "de802c79",
   "metadata": {},
   "outputs": [
    {
     "name": "stdout",
     "output_type": "stream",
     "text": [
      "30\n"
     ]
    }
   ],
   "source": [
    "x = lambda a, b : a * b\n",
    "print(x(5, 6))"
   ]
  },
  {
   "cell_type": "code",
   "execution_count": 422,
   "id": "9a5ef6de",
   "metadata": {},
   "outputs": [
    {
     "name": "stdout",
     "output_type": "stream",
     "text": [
      "24\n"
     ]
    }
   ],
   "source": [
    "from functools import reduce\n",
    "nums = [1, 2, 3, 4]\n",
    "result = reduce(lambda x, y: x * y, nums)\n",
    "print(result)"
   ]
  },
  {
   "cell_type": "code",
   "execution_count": 423,
   "id": "183aad38",
   "metadata": {},
   "outputs": [
    {
     "name": "stdout",
     "output_type": "stream",
     "text": [
      "15\n"
     ]
    }
   ],
   "source": [
    "x = lambda a : a + 10\n",
    "print(x(5))"
   ]
  },
  {
   "cell_type": "code",
   "execution_count": 424,
   "id": "89e1adb6",
   "metadata": {},
   "outputs": [
    {
     "name": "stdout",
     "output_type": "stream",
     "text": [
      "[(1, 'a'), (2, 'b'), (3, 'c')]\n"
     ]
    }
   ],
   "source": [
    "x = [1, 2, 3]\n",
    "y = ['a', 'b', 'c']\n",
    "z = zip(x, y)\n",
    "print(list(z))"
   ]
  },
  {
   "cell_type": "code",
   "execution_count": 425,
   "id": "774e131d",
   "metadata": {},
   "outputs": [
    {
     "name": "stdout",
     "output_type": "stream",
     "text": [
      "[(1, 'a'), (2, 'b'), (3, 'c')]\n"
     ]
    }
   ],
   "source": [
    "x = [1, 2, 3]\n",
    "y = ['a', 'b', 'c']\n",
    "z = zip(x, y)\n",
    "print(list(z))"
   ]
  },
  {
   "cell_type": "code",
   "execution_count": 426,
   "id": "0a42dcf4",
   "metadata": {},
   "outputs": [
    {
     "name": "stdout",
     "output_type": "stream",
     "text": [
      "10\n"
     ]
    }
   ],
   "source": [
    "from functools import reduce\n",
    "nums = [1, 2, 3, 4]\n",
    "result = reduce(lambda x, y: x + y, nums)\n",
    "print(result)"
   ]
  },
  {
   "cell_type": "code",
   "execution_count": 427,
   "id": "3fe66730",
   "metadata": {},
   "outputs": [
    {
     "name": "stdout",
     "output_type": "stream",
     "text": [
      "15\n"
     ]
    }
   ],
   "source": [
    "x = lambda a : a + 10\n",
    "print(x(5))"
   ]
  },
  {
   "cell_type": "code",
   "execution_count": 428,
   "id": "2b75154c",
   "metadata": {},
   "outputs": [
    {
     "name": "stdout",
     "output_type": "stream",
     "text": [
      "[(1, 'a'), (2, 'b'), (3, 'c')]\n"
     ]
    }
   ],
   "source": [
    "x = [1, 2, 3]\n",
    "y = ['a', 'b', 'c']\n",
    "z = zip(x, y)\n",
    "print(list(z))"
   ]
  },
  {
   "cell_type": "code",
   "execution_count": 429,
   "id": "e7e9671b",
   "metadata": {},
   "outputs": [
    {
     "name": "stdout",
     "output_type": "stream",
     "text": [
      "[2, 4, 6]\n"
     ]
    }
   ],
   "source": [
    "nums = [1, 2, 3, 4, 5, 6]\n",
    "result = list(filter(lambda x: x % 2 == 0, nums))\n",
    "print(result)"
   ]
  },
  {
   "cell_type": "code",
   "execution_count": 430,
   "id": "e0bb96b1",
   "metadata": {},
   "outputs": [
    {
     "name": "stdout",
     "output_type": "stream",
     "text": [
      "10\n"
     ]
    }
   ],
   "source": [
    "from functools import reduce\n",
    "nums = [1, 2, 3, 4]\n",
    "result = reduce(lambda x, y: x + y, nums)\n",
    "print(result)"
   ]
  },
  {
   "cell_type": "code",
   "execution_count": 431,
   "id": "84cb112e",
   "metadata": {},
   "outputs": [
    {
     "name": "stdout",
     "output_type": "stream",
     "text": [
      "6\n"
     ]
    }
   ],
   "source": [
    "x = lambda a, b, c : a + b + c\n",
    "print(x(1, 2, 3))"
   ]
  },
  {
   "cell_type": "code",
   "execution_count": 432,
   "id": "d1f061d2",
   "metadata": {},
   "outputs": [
    {
     "name": "stdout",
     "output_type": "stream",
     "text": [
      "10\n"
     ]
    }
   ],
   "source": [
    "from functools import reduce\n",
    "nums = [1, 2, 3, 4]\n",
    "result = reduce(lambda x, y: x + y, nums)\n",
    "print(result)"
   ]
  },
  {
   "cell_type": "code",
   "execution_count": 433,
   "id": "968db040",
   "metadata": {},
   "outputs": [
    {
     "name": "stdout",
     "output_type": "stream",
     "text": [
      "[2, 4, 6, 8]\n"
     ]
    }
   ],
   "source": [
    "nums = [1, 2, 3, 4]\n",
    "result = list(map(lambda x: x * 2, nums))\n",
    "print(result)"
   ]
  },
  {
   "cell_type": "code",
   "execution_count": 434,
   "id": "1b0c36b1",
   "metadata": {},
   "outputs": [
    {
     "name": "stdout",
     "output_type": "stream",
     "text": [
      "['HELLO', 'WORLD']\n"
     ]
    }
   ],
   "source": [
    "words = ['hello', 'world']\n",
    "result = list(map(str.upper, words))\n",
    "print(result)"
   ]
  },
  {
   "cell_type": "code",
   "execution_count": 435,
   "id": "9a011188",
   "metadata": {},
   "outputs": [
    {
     "name": "stdout",
     "output_type": "stream",
     "text": [
      "30\n"
     ]
    }
   ],
   "source": [
    "x = lambda a, b : a * b\n",
    "print(x(5, 6))"
   ]
  },
  {
   "cell_type": "code",
   "execution_count": 436,
   "id": "ae74d6a3",
   "metadata": {},
   "outputs": [
    {
     "name": "stdout",
     "output_type": "stream",
     "text": [
      "['HELLO', 'WORLD']\n"
     ]
    }
   ],
   "source": [
    "words = ['hello', 'world']\n",
    "result = list(map(str.upper, words))\n",
    "print(result)"
   ]
  },
  {
   "cell_type": "code",
   "execution_count": 437,
   "id": "e0635283",
   "metadata": {},
   "outputs": [
    {
     "name": "stdout",
     "output_type": "stream",
     "text": [
      "10\n"
     ]
    }
   ],
   "source": [
    "from functools import reduce\n",
    "nums = [1, 2, 3, 4]\n",
    "result = reduce(lambda x, y: x + y, nums)\n",
    "print(result)"
   ]
  },
  {
   "cell_type": "code",
   "execution_count": 438,
   "id": "8daa4061",
   "metadata": {},
   "outputs": [
    {
     "name": "stdout",
     "output_type": "stream",
     "text": [
      "15\n"
     ]
    }
   ],
   "source": [
    "x = lambda a : a + 10\n",
    "print(x(5))"
   ]
  },
  {
   "cell_type": "code",
   "execution_count": 439,
   "id": "da4b8324",
   "metadata": {},
   "outputs": [
    {
     "name": "stdout",
     "output_type": "stream",
     "text": [
      "0 h\n",
      "1 e\n",
      "2 l\n",
      "3 l\n",
      "4 o\n"
     ]
    }
   ],
   "source": [
    "s = 'hello'\n",
    "for i, ch in enumerate(s): print(i, ch)"
   ]
  },
  {
   "cell_type": "code",
   "execution_count": 440,
   "id": "8fc5740c",
   "metadata": {},
   "outputs": [
    {
     "name": "stdout",
     "output_type": "stream",
     "text": [
      "24\n"
     ]
    }
   ],
   "source": [
    "from functools import reduce\n",
    "nums = [1, 2, 3, 4]\n",
    "result = reduce(lambda x, y: x * y, nums)\n",
    "print(result)"
   ]
  },
  {
   "cell_type": "code",
   "execution_count": 441,
   "id": "fa42a77e",
   "metadata": {},
   "outputs": [
    {
     "name": "stdout",
     "output_type": "stream",
     "text": [
      "24\n"
     ]
    }
   ],
   "source": [
    "from functools import reduce\n",
    "nums = [1, 2, 3, 4]\n",
    "result = reduce(lambda x, y: x * y, nums)\n",
    "print(result)"
   ]
  },
  {
   "cell_type": "code",
   "execution_count": 442,
   "id": "4404d548",
   "metadata": {},
   "outputs": [
    {
     "name": "stdout",
     "output_type": "stream",
     "text": [
      "[2, 4, 6]\n"
     ]
    }
   ],
   "source": [
    "nums = [1, 2, 3, 4, 5, 6]\n",
    "result = list(filter(lambda x: x % 2 == 0, nums))\n",
    "print(result)"
   ]
  },
  {
   "cell_type": "code",
   "execution_count": 443,
   "id": "d0d84ad7",
   "metadata": {},
   "outputs": [
    {
     "name": "stdout",
     "output_type": "stream",
     "text": [
      "['Cathy']\n"
     ]
    }
   ],
   "source": [
    "names = ['Amy', 'Ben', 'Cathy', 'Dan']\n",
    "result = list(filter(lambda x: x.startswith('C'), names))\n",
    "print(result)"
   ]
  },
  {
   "cell_type": "code",
   "execution_count": 444,
   "id": "c80c27cb",
   "metadata": {},
   "outputs": [
    {
     "name": "stdout",
     "output_type": "stream",
     "text": [
      "30\n"
     ]
    }
   ],
   "source": [
    "x = lambda a, b : a * b\n",
    "print(x(5, 6))"
   ]
  },
  {
   "cell_type": "code",
   "execution_count": 445,
   "id": "1421b22b",
   "metadata": {},
   "outputs": [
    {
     "name": "stdout",
     "output_type": "stream",
     "text": [
      "0 h\n",
      "1 e\n",
      "2 l\n",
      "3 l\n",
      "4 o\n"
     ]
    }
   ],
   "source": [
    "s = 'hello'\n",
    "for i, ch in enumerate(s): print(i, ch)"
   ]
  },
  {
   "cell_type": "code",
   "execution_count": 446,
   "id": "a048fe5a",
   "metadata": {},
   "outputs": [
    {
     "name": "stdout",
     "output_type": "stream",
     "text": [
      "[(1, 'a'), (2, 'b'), (3, 'c')]\n"
     ]
    }
   ],
   "source": [
    "x = [1, 2, 3]\n",
    "y = ['a', 'b', 'c']\n",
    "z = zip(x, y)\n",
    "print(list(z))"
   ]
  },
  {
   "cell_type": "code",
   "execution_count": 447,
   "id": "c1cbcc0a",
   "metadata": {},
   "outputs": [
    {
     "name": "stdout",
     "output_type": "stream",
     "text": [
      "[2, 4, 6, 8]\n"
     ]
    }
   ],
   "source": [
    "nums = [1, 2, 3, 4]\n",
    "result = list(map(lambda x: x * 2, nums))\n",
    "print(result)"
   ]
  },
  {
   "cell_type": "code",
   "execution_count": 448,
   "id": "e6b1e5bc",
   "metadata": {},
   "outputs": [
    {
     "name": "stdout",
     "output_type": "stream",
     "text": [
      "30\n"
     ]
    }
   ],
   "source": [
    "x = lambda a, b : a * b\n",
    "print(x(5, 6))"
   ]
  },
  {
   "cell_type": "code",
   "execution_count": 449,
   "id": "50d3094c",
   "metadata": {},
   "outputs": [
    {
     "name": "stdout",
     "output_type": "stream",
     "text": [
      "[('a', 85), ('b', 90), ('c', 95)]\n"
     ]
    }
   ],
   "source": [
    "names = ['a', 'b', 'c']\n",
    "scores = [85, 90, 95]\n",
    "result = list(zip(names, scores))\n",
    "print(result)"
   ]
  },
  {
   "cell_type": "code",
   "execution_count": 450,
   "id": "5faa84bb",
   "metadata": {},
   "outputs": [
    {
     "name": "stdout",
     "output_type": "stream",
     "text": [
      "10\n"
     ]
    }
   ],
   "source": [
    "from functools import reduce\n",
    "nums = [1, 2, 3, 4]\n",
    "result = reduce(lambda x, y: x + y, nums)\n",
    "print(result)"
   ]
  },
  {
   "cell_type": "code",
   "execution_count": 451,
   "id": "749753df",
   "metadata": {},
   "outputs": [
    {
     "name": "stdout",
     "output_type": "stream",
     "text": [
      "6\n"
     ]
    }
   ],
   "source": [
    "x = lambda a, b, c : a + b + c\n",
    "print(x(1, 2, 3))"
   ]
  },
  {
   "cell_type": "code",
   "execution_count": 452,
   "id": "62e5392b",
   "metadata": {},
   "outputs": [
    {
     "name": "stdout",
     "output_type": "stream",
     "text": [
      "30\n"
     ]
    }
   ],
   "source": [
    "x = lambda a, b : a * b\n",
    "print(x(5, 6))"
   ]
  },
  {
   "cell_type": "code",
   "execution_count": 453,
   "id": "918b845f",
   "metadata": {},
   "outputs": [
    {
     "name": "stdout",
     "output_type": "stream",
     "text": [
      "[2, 4, 6, 8]\n"
     ]
    }
   ],
   "source": [
    "nums = [1, 2, 3, 4]\n",
    "result = list(map(lambda x: x * 2, nums))\n",
    "print(result)"
   ]
  },
  {
   "cell_type": "code",
   "execution_count": 454,
   "id": "aa297727",
   "metadata": {},
   "outputs": [
    {
     "name": "stdout",
     "output_type": "stream",
     "text": [
      "['Cathy']\n"
     ]
    }
   ],
   "source": [
    "names = ['Amy', 'Ben', 'Cathy', 'Dan']\n",
    "result = list(filter(lambda x: x.startswith('C'), names))\n",
    "print(result)"
   ]
  },
  {
   "cell_type": "code",
   "execution_count": 455,
   "id": "0ddc8c72",
   "metadata": {},
   "outputs": [
    {
     "name": "stdout",
     "output_type": "stream",
     "text": [
      "6\n"
     ]
    }
   ],
   "source": [
    "x = lambda a, b, c : a + b + c\n",
    "print(x(1, 2, 3))"
   ]
  },
  {
   "cell_type": "code",
   "execution_count": 456,
   "id": "5a7237ff",
   "metadata": {},
   "outputs": [
    {
     "name": "stdout",
     "output_type": "stream",
     "text": [
      "['HELLO', 'WORLD']\n"
     ]
    }
   ],
   "source": [
    "words = ['hello', 'world']\n",
    "result = list(map(str.upper, words))\n",
    "print(result)"
   ]
  },
  {
   "cell_type": "code",
   "execution_count": 457,
   "id": "e41c3f1b",
   "metadata": {},
   "outputs": [
    {
     "name": "stdout",
     "output_type": "stream",
     "text": [
      "['Cathy']\n"
     ]
    }
   ],
   "source": [
    "names = ['Amy', 'Ben', 'Cathy', 'Dan']\n",
    "result = list(filter(lambda x: x.startswith('C'), names))\n",
    "print(result)"
   ]
  },
  {
   "cell_type": "code",
   "execution_count": 458,
   "id": "5467a106",
   "metadata": {},
   "outputs": [
    {
     "name": "stdout",
     "output_type": "stream",
     "text": [
      "['HELLO', 'WORLD']\n"
     ]
    }
   ],
   "source": [
    "words = ['hello', 'world']\n",
    "result = list(map(str.upper, words))\n",
    "print(result)"
   ]
  },
  {
   "cell_type": "code",
   "execution_count": 459,
   "id": "72106dbe",
   "metadata": {},
   "outputs": [
    {
     "name": "stdout",
     "output_type": "stream",
     "text": [
      "30\n"
     ]
    }
   ],
   "source": [
    "x = lambda a, b : a * b\n",
    "print(x(5, 6))"
   ]
  },
  {
   "cell_type": "code",
   "execution_count": 460,
   "id": "cc140acd",
   "metadata": {},
   "outputs": [
    {
     "name": "stdout",
     "output_type": "stream",
     "text": [
      "0 h\n",
      "1 e\n",
      "2 l\n",
      "3 l\n",
      "4 o\n"
     ]
    }
   ],
   "source": [
    "s = 'hello'\n",
    "for i, ch in enumerate(s): print(i, ch)"
   ]
  },
  {
   "cell_type": "code",
   "execution_count": 461,
   "id": "58c958be",
   "metadata": {},
   "outputs": [
    {
     "name": "stdout",
     "output_type": "stream",
     "text": [
      "24\n"
     ]
    }
   ],
   "source": [
    "from functools import reduce\n",
    "nums = [1, 2, 3, 4]\n",
    "result = reduce(lambda x, y: x * y, nums)\n",
    "print(result)"
   ]
  },
  {
   "cell_type": "code",
   "execution_count": 462,
   "id": "0f045f95",
   "metadata": {},
   "outputs": [
    {
     "name": "stdout",
     "output_type": "stream",
     "text": [
      "[2, 4, 6]\n"
     ]
    }
   ],
   "source": [
    "nums = [1, 2, 3, 4, 5, 6]\n",
    "result = list(filter(lambda x: x % 2 == 0, nums))\n",
    "print(result)"
   ]
  },
  {
   "cell_type": "code",
   "execution_count": 463,
   "id": "81818840",
   "metadata": {},
   "outputs": [
    {
     "name": "stdout",
     "output_type": "stream",
     "text": [
      "6\n"
     ]
    }
   ],
   "source": [
    "x = lambda a, b, c : a + b + c\n",
    "print(x(1, 2, 3))"
   ]
  },
  {
   "cell_type": "code",
   "execution_count": 464,
   "id": "807db631",
   "metadata": {},
   "outputs": [
    {
     "name": "stdout",
     "output_type": "stream",
     "text": [
      "10\n"
     ]
    }
   ],
   "source": [
    "from functools import reduce\n",
    "nums = [1, 2, 3, 4]\n",
    "result = reduce(lambda x, y: x + y, nums)\n",
    "print(result)"
   ]
  },
  {
   "cell_type": "code",
   "execution_count": 465,
   "id": "21846e44",
   "metadata": {},
   "outputs": [
    {
     "name": "stdout",
     "output_type": "stream",
     "text": [
      "[2, 4, 6]\n"
     ]
    }
   ],
   "source": [
    "nums = [1, 2, 3, 4, 5, 6]\n",
    "result = list(filter(lambda x: x % 2 == 0, nums))\n",
    "print(result)"
   ]
  },
  {
   "cell_type": "code",
   "execution_count": 466,
   "id": "a18ef758",
   "metadata": {},
   "outputs": [
    {
     "name": "stdout",
     "output_type": "stream",
     "text": [
      "[2, 4, 6]\n"
     ]
    }
   ],
   "source": [
    "nums = [1, 2, 3, 4, 5, 6]\n",
    "result = list(filter(lambda x: x % 2 == 0, nums))\n",
    "print(result)"
   ]
  },
  {
   "cell_type": "code",
   "execution_count": 467,
   "id": "aa18ceaa",
   "metadata": {},
   "outputs": [
    {
     "name": "stdout",
     "output_type": "stream",
     "text": [
      "[(1, 'a'), (2, 'b'), (3, 'c')]\n"
     ]
    }
   ],
   "source": [
    "x = [1, 2, 3]\n",
    "y = ['a', 'b', 'c']\n",
    "z = zip(x, y)\n",
    "print(list(z))"
   ]
  },
  {
   "cell_type": "code",
   "execution_count": 468,
   "id": "c524e26c",
   "metadata": {},
   "outputs": [
    {
     "name": "stdout",
     "output_type": "stream",
     "text": [
      "0 a\n",
      "1 b\n",
      "2 c\n"
     ]
    }
   ],
   "source": [
    "lst = ['a', 'b', 'c']\n",
    "for index, value in enumerate(lst): print(index, value)"
   ]
  },
  {
   "cell_type": "code",
   "execution_count": 469,
   "id": "bc78f578",
   "metadata": {},
   "outputs": [
    {
     "name": "stdout",
     "output_type": "stream",
     "text": [
      "15\n"
     ]
    }
   ],
   "source": [
    "x = lambda a : a + 10\n",
    "print(x(5))"
   ]
  },
  {
   "cell_type": "code",
   "execution_count": 470,
   "id": "6464e189",
   "metadata": {},
   "outputs": [
    {
     "name": "stdout",
     "output_type": "stream",
     "text": [
      "10\n"
     ]
    }
   ],
   "source": [
    "from functools import reduce\n",
    "nums = [1, 2, 3, 4]\n",
    "result = reduce(lambda x, y: x + y, nums)\n",
    "print(result)"
   ]
  },
  {
   "cell_type": "code",
   "execution_count": 471,
   "id": "4573e88d",
   "metadata": {},
   "outputs": [
    {
     "name": "stdout",
     "output_type": "stream",
     "text": [
      "15\n"
     ]
    }
   ],
   "source": [
    "x = lambda a : a + 10\n",
    "print(x(5))"
   ]
  },
  {
   "cell_type": "code",
   "execution_count": 472,
   "id": "23091dc5",
   "metadata": {},
   "outputs": [
    {
     "name": "stdout",
     "output_type": "stream",
     "text": [
      "10\n"
     ]
    }
   ],
   "source": [
    "from functools import reduce\n",
    "nums = [1, 2, 3, 4]\n",
    "result = reduce(lambda x, y: x + y, nums)\n",
    "print(result)"
   ]
  },
  {
   "cell_type": "code",
   "execution_count": 473,
   "id": "6ef9a960",
   "metadata": {},
   "outputs": [
    {
     "name": "stdout",
     "output_type": "stream",
     "text": [
      "24\n"
     ]
    }
   ],
   "source": [
    "from functools import reduce\n",
    "nums = [1, 2, 3, 4]\n",
    "result = reduce(lambda x, y: x * y, nums)\n",
    "print(result)"
   ]
  },
  {
   "cell_type": "code",
   "execution_count": 474,
   "id": "d00cfde0",
   "metadata": {},
   "outputs": [
    {
     "name": "stdout",
     "output_type": "stream",
     "text": [
      "15\n"
     ]
    }
   ],
   "source": [
    "x = lambda a : a + 10\n",
    "print(x(5))"
   ]
  },
  {
   "cell_type": "code",
   "execution_count": 475,
   "id": "599640cd",
   "metadata": {},
   "outputs": [
    {
     "name": "stdout",
     "output_type": "stream",
     "text": [
      "[(1, 'a'), (2, 'b'), (3, 'c')]\n"
     ]
    }
   ],
   "source": [
    "x = [1, 2, 3]\n",
    "y = ['a', 'b', 'c']\n",
    "z = zip(x, y)\n",
    "print(list(z))"
   ]
  },
  {
   "cell_type": "code",
   "execution_count": 476,
   "id": "3be12c0f",
   "metadata": {},
   "outputs": [
    {
     "name": "stdout",
     "output_type": "stream",
     "text": [
      "[2, 4, 6, 8]\n"
     ]
    }
   ],
   "source": [
    "nums = [1, 2, 3, 4]\n",
    "result = list(map(lambda x: x * 2, nums))\n",
    "print(result)"
   ]
  },
  {
   "cell_type": "code",
   "execution_count": 477,
   "id": "dcb4a267",
   "metadata": {},
   "outputs": [
    {
     "name": "stdout",
     "output_type": "stream",
     "text": [
      "0 a\n",
      "1 b\n",
      "2 c\n"
     ]
    }
   ],
   "source": [
    "lst = ['a', 'b', 'c']\n",
    "for index, value in enumerate(lst): print(index, value)"
   ]
  },
  {
   "cell_type": "code",
   "execution_count": 478,
   "id": "2d6f6237",
   "metadata": {},
   "outputs": [
    {
     "name": "stdout",
     "output_type": "stream",
     "text": [
      "['HELLO', 'WORLD']\n"
     ]
    }
   ],
   "source": [
    "words = ['hello', 'world']\n",
    "result = list(map(str.upper, words))\n",
    "print(result)"
   ]
  },
  {
   "cell_type": "code",
   "execution_count": 479,
   "id": "b67b6820",
   "metadata": {},
   "outputs": [
    {
     "name": "stdout",
     "output_type": "stream",
     "text": [
      "30\n"
     ]
    }
   ],
   "source": [
    "x = lambda a, b : a * b\n",
    "print(x(5, 6))"
   ]
  },
  {
   "cell_type": "code",
   "execution_count": 480,
   "id": "5aba0ca4",
   "metadata": {},
   "outputs": [
    {
     "name": "stdout",
     "output_type": "stream",
     "text": [
      "24\n"
     ]
    }
   ],
   "source": [
    "from functools import reduce\n",
    "nums = [1, 2, 3, 4]\n",
    "result = reduce(lambda x, y: x * y, nums)\n",
    "print(result)"
   ]
  },
  {
   "cell_type": "code",
   "execution_count": 481,
   "id": "fdd3d8a0",
   "metadata": {},
   "outputs": [
    {
     "name": "stdout",
     "output_type": "stream",
     "text": [
      "6\n"
     ]
    }
   ],
   "source": [
    "x = lambda a, b, c : a + b + c\n",
    "print(x(1, 2, 3))"
   ]
  },
  {
   "cell_type": "code",
   "execution_count": 482,
   "id": "9be3e9c8",
   "metadata": {},
   "outputs": [
    {
     "name": "stdout",
     "output_type": "stream",
     "text": [
      "15\n"
     ]
    }
   ],
   "source": [
    "x = lambda a : a + 10\n",
    "print(x(5))"
   ]
  },
  {
   "cell_type": "code",
   "execution_count": 483,
   "id": "7261690b",
   "metadata": {},
   "outputs": [
    {
     "name": "stdout",
     "output_type": "stream",
     "text": [
      "24\n"
     ]
    }
   ],
   "source": [
    "from functools import reduce\n",
    "nums = [1, 2, 3, 4]\n",
    "result = reduce(lambda x, y: x * y, nums)\n",
    "print(result)"
   ]
  },
  {
   "cell_type": "code",
   "execution_count": 484,
   "id": "43b85fd3",
   "metadata": {},
   "outputs": [
    {
     "name": "stdout",
     "output_type": "stream",
     "text": [
      "['Cathy']\n"
     ]
    }
   ],
   "source": [
    "names = ['Amy', 'Ben', 'Cathy', 'Dan']\n",
    "result = list(filter(lambda x: x.startswith('C'), names))\n",
    "print(result)"
   ]
  },
  {
   "cell_type": "code",
   "execution_count": 485,
   "id": "dd0b1aca",
   "metadata": {},
   "outputs": [
    {
     "name": "stdout",
     "output_type": "stream",
     "text": [
      "[2, 4, 6]\n"
     ]
    }
   ],
   "source": [
    "nums = [1, 2, 3, 4, 5, 6]\n",
    "result = list(filter(lambda x: x % 2 == 0, nums))\n",
    "print(result)"
   ]
  },
  {
   "cell_type": "code",
   "execution_count": 486,
   "id": "58eaf461",
   "metadata": {},
   "outputs": [
    {
     "name": "stdout",
     "output_type": "stream",
     "text": [
      "0 a\n",
      "1 b\n",
      "2 c\n"
     ]
    }
   ],
   "source": [
    "lst = ['a', 'b', 'c']\n",
    "for index, value in enumerate(lst): print(index, value)"
   ]
  },
  {
   "cell_type": "code",
   "execution_count": 487,
   "id": "8bf08844",
   "metadata": {},
   "outputs": [
    {
     "name": "stdout",
     "output_type": "stream",
     "text": [
      "[('a', 85), ('b', 90), ('c', 95)]\n"
     ]
    }
   ],
   "source": [
    "names = ['a', 'b', 'c']\n",
    "scores = [85, 90, 95]\n",
    "result = list(zip(names, scores))\n",
    "print(result)"
   ]
  },
  {
   "cell_type": "code",
   "execution_count": 488,
   "id": "0a9ae3b5",
   "metadata": {},
   "outputs": [
    {
     "name": "stdout",
     "output_type": "stream",
     "text": [
      "24\n"
     ]
    }
   ],
   "source": [
    "from functools import reduce\n",
    "nums = [1, 2, 3, 4]\n",
    "result = reduce(lambda x, y: x * y, nums)\n",
    "print(result)"
   ]
  },
  {
   "cell_type": "code",
   "execution_count": 489,
   "id": "2ff06788",
   "metadata": {},
   "outputs": [
    {
     "name": "stdout",
     "output_type": "stream",
     "text": [
      "['HELLO', 'WORLD']\n"
     ]
    }
   ],
   "source": [
    "words = ['hello', 'world']\n",
    "result = list(map(str.upper, words))\n",
    "print(result)"
   ]
  },
  {
   "cell_type": "code",
   "execution_count": 490,
   "id": "05c55094",
   "metadata": {},
   "outputs": [
    {
     "name": "stdout",
     "output_type": "stream",
     "text": [
      "0 h\n",
      "1 e\n",
      "2 l\n",
      "3 l\n",
      "4 o\n"
     ]
    }
   ],
   "source": [
    "s = 'hello'\n",
    "for i, ch in enumerate(s): print(i, ch)"
   ]
  },
  {
   "cell_type": "code",
   "execution_count": 491,
   "id": "701adc3e",
   "metadata": {},
   "outputs": [
    {
     "name": "stdout",
     "output_type": "stream",
     "text": [
      "['HELLO', 'WORLD']\n"
     ]
    }
   ],
   "source": [
    "words = ['hello', 'world']\n",
    "result = list(map(str.upper, words))\n",
    "print(result)"
   ]
  },
  {
   "cell_type": "code",
   "execution_count": 492,
   "id": "f63b1551",
   "metadata": {},
   "outputs": [
    {
     "name": "stdout",
     "output_type": "stream",
     "text": [
      "[('a', 85), ('b', 90), ('c', 95)]\n"
     ]
    }
   ],
   "source": [
    "names = ['a', 'b', 'c']\n",
    "scores = [85, 90, 95]\n",
    "result = list(zip(names, scores))\n",
    "print(result)"
   ]
  },
  {
   "cell_type": "code",
   "execution_count": 493,
   "id": "2a06a306",
   "metadata": {},
   "outputs": [
    {
     "name": "stdout",
     "output_type": "stream",
     "text": [
      "6\n"
     ]
    }
   ],
   "source": [
    "x = lambda a, b, c : a + b + c\n",
    "print(x(1, 2, 3))"
   ]
  },
  {
   "cell_type": "code",
   "execution_count": 494,
   "id": "54360942",
   "metadata": {},
   "outputs": [
    {
     "name": "stdout",
     "output_type": "stream",
     "text": [
      "24\n"
     ]
    }
   ],
   "source": [
    "from functools import reduce\n",
    "nums = [1, 2, 3, 4]\n",
    "result = reduce(lambda x, y: x * y, nums)\n",
    "print(result)"
   ]
  },
  {
   "cell_type": "code",
   "execution_count": 495,
   "id": "82562cf0",
   "metadata": {},
   "outputs": [
    {
     "name": "stdout",
     "output_type": "stream",
     "text": [
      "0 h\n",
      "1 e\n",
      "2 l\n",
      "3 l\n",
      "4 o\n"
     ]
    }
   ],
   "source": [
    "s = 'hello'\n",
    "for i, ch in enumerate(s): print(i, ch)"
   ]
  },
  {
   "cell_type": "code",
   "execution_count": 496,
   "id": "5b5e2b52",
   "metadata": {},
   "outputs": [
    {
     "name": "stdout",
     "output_type": "stream",
     "text": [
      "0 h\n",
      "1 e\n",
      "2 l\n",
      "3 l\n",
      "4 o\n"
     ]
    }
   ],
   "source": [
    "s = 'hello'\n",
    "for i, ch in enumerate(s): print(i, ch)"
   ]
  },
  {
   "cell_type": "code",
   "execution_count": 497,
   "id": "68f8fd46",
   "metadata": {},
   "outputs": [
    {
     "name": "stdout",
     "output_type": "stream",
     "text": [
      "10\n"
     ]
    }
   ],
   "source": [
    "from functools import reduce\n",
    "nums = [1, 2, 3, 4]\n",
    "result = reduce(lambda x, y: x + y, nums)\n",
    "print(result)"
   ]
  },
  {
   "cell_type": "code",
   "execution_count": 498,
   "id": "068cdede",
   "metadata": {},
   "outputs": [
    {
     "name": "stdout",
     "output_type": "stream",
     "text": [
      "[2, 4, 6]\n"
     ]
    }
   ],
   "source": [
    "nums = [1, 2, 3, 4, 5, 6]\n",
    "result = list(filter(lambda x: x % 2 == 0, nums))\n",
    "print(result)"
   ]
  },
  {
   "cell_type": "code",
   "execution_count": 499,
   "id": "620d6e89",
   "metadata": {},
   "outputs": [
    {
     "name": "stdout",
     "output_type": "stream",
     "text": [
      "['Cathy']\n"
     ]
    }
   ],
   "source": [
    "names = ['Amy', 'Ben', 'Cathy', 'Dan']\n",
    "result = list(filter(lambda x: x.startswith('C'), names))\n",
    "print(result)"
   ]
  },
  {
   "cell_type": "code",
   "execution_count": 500,
   "id": "c24cb899",
   "metadata": {},
   "outputs": [
    {
     "name": "stdout",
     "output_type": "stream",
     "text": [
      "[('a', 85), ('b', 90), ('c', 95)]\n"
     ]
    }
   ],
   "source": [
    "names = ['a', 'b', 'c']\n",
    "scores = [85, 90, 95]\n",
    "result = list(zip(names, scores))\n",
    "print(result)"
   ]
  },
  {
   "cell_type": "code",
   "execution_count": 501,
   "id": "c9eecdac",
   "metadata": {},
   "outputs": [
    {
     "name": "stdout",
     "output_type": "stream",
     "text": [
      "0 a\n",
      "1 b\n",
      "2 c\n"
     ]
    }
   ],
   "source": [
    "lst = ['a', 'b', 'c']\n",
    "for index, value in enumerate(lst): print(index, value)"
   ]
  },
  {
   "cell_type": "code",
   "execution_count": 502,
   "id": "db3b8756",
   "metadata": {},
   "outputs": [
    {
     "name": "stdout",
     "output_type": "stream",
     "text": [
      "0 h\n",
      "1 e\n",
      "2 l\n",
      "3 l\n",
      "4 o\n"
     ]
    }
   ],
   "source": [
    "s = 'hello'\n",
    "for i, ch in enumerate(s): print(i, ch)"
   ]
  },
  {
   "cell_type": "code",
   "execution_count": 503,
   "id": "c352fef8",
   "metadata": {},
   "outputs": [
    {
     "name": "stdout",
     "output_type": "stream",
     "text": [
      "[2, 4, 6]\n"
     ]
    }
   ],
   "source": [
    "nums = [1, 2, 3, 4, 5, 6]\n",
    "result = list(filter(lambda x: x % 2 == 0, nums))\n",
    "print(result)"
   ]
  }
 ],
 "metadata": {
  "kernelspec": {
   "display_name": "Python 3 (ipykernel)",
   "language": "python",
   "name": "python3"
  },
  "language_info": {
   "codemirror_mode": {
    "name": "ipython",
    "version": 3
   },
   "file_extension": ".py",
   "mimetype": "text/x-python",
   "name": "python",
   "nbconvert_exporter": "python",
   "pygments_lexer": "ipython3",
   "version": "3.12.11"
  }
 },
 "nbformat": 4,
 "nbformat_minor": 5
}
