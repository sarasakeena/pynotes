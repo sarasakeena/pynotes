{
 "cells": [
  {
   "cell_type": "code",
   "execution_count": null,
   "id": "9d935db4",
   "metadata": {},
   "outputs": [],
   "source": [
    "x = [1, 2, 3]\n",
    "y = ['a', 'b', 'c']\n",
    "z = zip(x, y)\n",
    "print(list(z))"
   ]
  },
  {
   "cell_type": "code",
   "execution_count": null,
   "id": "2e8e1ca1",
   "metadata": {},
   "outputs": [],
   "source": [
    "x = lambda a, b, c : a + b + c\n",
    "print(x(1, 2, 3))"
   ]
  },
  {
   "cell_type": "code",
   "execution_count": null,
   "id": "56f3ad43",
   "metadata": {},
   "outputs": [],
   "source": [
    "nums = [1, 2, 3, 4, 5, 6]\n",
    "result = list(filter(lambda x: x % 2 == 0, nums))\n",
    "print(result)"
   ]
  },
  {
   "cell_type": "code",
   "execution_count": null,
   "id": "7e03c9e3",
   "metadata": {},
   "outputs": [],
   "source": [
    "x = [1, 2, 3]\n",
    "y = ['a', 'b', 'c']\n",
    "z = zip(x, y)\n",
    "print(list(z))"
   ]
  },
  {
   "cell_type": "code",
   "execution_count": null,
   "id": "b0988df2",
   "metadata": {},
   "outputs": [],
   "source": [
    "names = ['Amy', 'Ben', 'Cathy', 'Dan']\n",
    "result = list(filter(lambda x: x.startswith('C'), names))\n",
    "print(result)"
   ]
  },
  {
   "cell_type": "code",
   "execution_count": null,
   "id": "e84bcc6e",
   "metadata": {},
   "outputs": [],
   "source": [
    "x = lambda a, b : a * b\n",
    "print(x(5, 6))"
   ]
  },
  {
   "cell_type": "code",
   "execution_count": null,
   "id": "5119abf0",
   "metadata": {},
   "outputs": [],
   "source": [
    "from functools import reduce\n",
    "nums = [1, 2, 3, 4]\n",
    "result = reduce(lambda x, y: x + y, nums)\n",
    "print(result)"
   ]
  },
  {
   "cell_type": "code",
   "execution_count": null,
   "id": "550fe2aa",
   "metadata": {},
   "outputs": [],
   "source": [
    "names = ['a', 'b', 'c']\n",
    "scores = [85, 90, 95]\n",
    "result = list(zip(names, scores))\n",
    "print(result)"
   ]
  },
  {
   "cell_type": "code",
   "execution_count": null,
   "id": "06d36fac",
   "metadata": {},
   "outputs": [],
   "source": [
    "nums = [1, 2, 3, 4]\n",
    "result = list(map(lambda x: x * 2, nums))\n",
    "print(result)"
   ]
  },
  {
   "cell_type": "code",
   "execution_count": null,
   "id": "07b0c1ce",
   "metadata": {},
   "outputs": [],
   "source": [
    "x = [1, 2, 3]\n",
    "y = ['a', 'b', 'c']\n",
    "z = zip(x, y)\n",
    "print(list(z))"
   ]
  },
  {
   "cell_type": "code",
   "execution_count": null,
   "id": "c0fbda74",
   "metadata": {},
   "outputs": [],
   "source": [
    "words = ['hello', 'world']\n",
    "result = list(map(str.upper, words))\n",
    "print(result)"
   ]
  },
  {
   "cell_type": "code",
   "execution_count": null,
   "id": "a98664c0",
   "metadata": {},
   "outputs": [],
   "source": [
    "words = ['hello', 'world']\n",
    "result = list(map(str.upper, words))\n",
    "print(result)"
   ]
  },
  {
   "cell_type": "code",
   "execution_count": null,
   "id": "48417842",
   "metadata": {},
   "outputs": [],
   "source": [
    "x = lambda a, b, c : a + b + c\n",
    "print(x(1, 2, 3))"
   ]
  },
  {
   "cell_type": "code",
   "execution_count": null,
   "id": "f6b5e88a",
   "metadata": {},
   "outputs": [],
   "source": [
    "s = 'hello'\n",
    "for i, ch in enumerate(s): print(i, ch)"
   ]
  },
  {
   "cell_type": "code",
   "execution_count": null,
   "id": "f2eba4c5",
   "metadata": {},
   "outputs": [],
   "source": [
    "s = 'hello'\n",
    "for i, ch in enumerate(s): print(i, ch)"
   ]
  },
  {
   "cell_type": "code",
   "execution_count": null,
   "id": "6f6e6bb8",
   "metadata": {},
   "outputs": [],
   "source": [
    "x = [1, 2, 3]\n",
    "y = ['a', 'b', 'c']\n",
    "z = zip(x, y)\n",
    "print(list(z))"
   ]
  },
  {
   "cell_type": "code",
   "execution_count": null,
   "id": "20191073",
   "metadata": {},
   "outputs": [],
   "source": [
    "s = 'hello'\n",
    "for i, ch in enumerate(s): print(i, ch)"
   ]
  },
  {
   "cell_type": "code",
   "execution_count": null,
   "id": "f7867355",
   "metadata": {},
   "outputs": [],
   "source": [
    "x = [1, 2, 3]\n",
    "y = ['a', 'b', 'c']\n",
    "z = zip(x, y)\n",
    "print(list(z))"
   ]
  },
  {
   "cell_type": "code",
   "execution_count": null,
   "id": "8c5ff2e6",
   "metadata": {},
   "outputs": [],
   "source": [
    "from functools import reduce\n",
    "nums = [1, 2, 3, 4]\n",
    "result = reduce(lambda x, y: x * y, nums)\n",
    "print(result)"
   ]
  },
  {
   "cell_type": "code",
   "execution_count": null,
   "id": "d789e6dc",
   "metadata": {},
   "outputs": [],
   "source": [
    "s = 'hello'\n",
    "for i, ch in enumerate(s): print(i, ch)"
   ]
  },
  {
   "cell_type": "code",
   "execution_count": null,
   "id": "7c55995c",
   "metadata": {},
   "outputs": [],
   "source": [
    "words = ['hello', 'world']\n",
    "result = list(map(str.upper, words))\n",
    "print(result)"
   ]
  },
  {
   "cell_type": "code",
   "execution_count": null,
   "id": "2d27bf49",
   "metadata": {},
   "outputs": [],
   "source": [
    "x = lambda a : a + 10\n",
    "print(x(5))"
   ]
  },
  {
   "cell_type": "code",
   "execution_count": null,
   "id": "1d443175",
   "metadata": {},
   "outputs": [],
   "source": [
    "names = ['a', 'b', 'c']\n",
    "scores = [85, 90, 95]\n",
    "result = list(zip(names, scores))\n",
    "print(result)"
   ]
  },
  {
   "cell_type": "code",
   "execution_count": null,
   "id": "f26720fa",
   "metadata": {},
   "outputs": [],
   "source": [
    "nums = [1, 2, 3, 4, 5, 6]\n",
    "result = list(filter(lambda x: x % 2 == 0, nums))\n",
    "print(result)"
   ]
  },
  {
   "cell_type": "code",
   "execution_count": null,
   "id": "be552e89",
   "metadata": {},
   "outputs": [],
   "source": [
    "words = ['hello', 'world']\n",
    "result = list(map(str.upper, words))\n",
    "print(result)"
   ]
  },
  {
   "cell_type": "code",
   "execution_count": null,
   "id": "74dbccbe",
   "metadata": {},
   "outputs": [],
   "source": [
    "names = ['a', 'b', 'c']\n",
    "scores = [85, 90, 95]\n",
    "result = list(zip(names, scores))\n",
    "print(result)"
   ]
  },
  {
   "cell_type": "code",
   "execution_count": null,
   "id": "3e23d09b",
   "metadata": {},
   "outputs": [],
   "source": [
    "names = ['a', 'b', 'c']\n",
    "scores = [85, 90, 95]\n",
    "result = list(zip(names, scores))\n",
    "print(result)"
   ]
  },
  {
   "cell_type": "code",
   "execution_count": null,
   "id": "63b686d4",
   "metadata": {},
   "outputs": [],
   "source": [
    "words = ['hello', 'world']\n",
    "result = list(map(str.upper, words))\n",
    "print(result)"
   ]
  },
  {
   "cell_type": "code",
   "execution_count": null,
   "id": "eeea7cbe",
   "metadata": {},
   "outputs": [],
   "source": [
    "words = ['hello', 'world']\n",
    "result = list(map(str.upper, words))\n",
    "print(result)"
   ]
  },
  {
   "cell_type": "code",
   "execution_count": null,
   "id": "9c18a614",
   "metadata": {},
   "outputs": [],
   "source": [
    "nums = [1, 2, 3, 4, 5, 6]\n",
    "result = list(filter(lambda x: x % 2 == 0, nums))\n",
    "print(result)"
   ]
  },
  {
   "cell_type": "code",
   "execution_count": null,
   "id": "d40623a8",
   "metadata": {},
   "outputs": [],
   "source": [
    "s = 'hello'\n",
    "for i, ch in enumerate(s): print(i, ch)"
   ]
  },
  {
   "cell_type": "code",
   "execution_count": null,
   "id": "f1f0ed6e",
   "metadata": {},
   "outputs": [],
   "source": [
    "from functools import reduce\n",
    "nums = [1, 2, 3, 4]\n",
    "result = reduce(lambda x, y: x + y, nums)\n",
    "print(result)"
   ]
  },
  {
   "cell_type": "code",
   "execution_count": null,
   "id": "fe9da60c",
   "metadata": {},
   "outputs": [],
   "source": [
    "from functools import reduce\n",
    "nums = [1, 2, 3, 4]\n",
    "result = reduce(lambda x, y: x * y, nums)\n",
    "print(result)"
   ]
  },
  {
   "cell_type": "code",
   "execution_count": null,
   "id": "6c7db781",
   "metadata": {},
   "outputs": [],
   "source": [
    "from functools import reduce\n",
    "nums = [1, 2, 3, 4]\n",
    "result = reduce(lambda x, y: x + y, nums)\n",
    "print(result)"
   ]
  },
  {
   "cell_type": "code",
   "execution_count": null,
   "id": "eaed98d0",
   "metadata": {},
   "outputs": [],
   "source": [
    "from functools import reduce\n",
    "nums = [1, 2, 3, 4]\n",
    "result = reduce(lambda x, y: x + y, nums)\n",
    "print(result)"
   ]
  },
  {
   "cell_type": "code",
   "execution_count": null,
   "id": "e3a4fa51",
   "metadata": {},
   "outputs": [],
   "source": [
    "x = [1, 2, 3]\n",
    "y = ['a', 'b', 'c']\n",
    "z = zip(x, y)\n",
    "print(list(z))"
   ]
  },
  {
   "cell_type": "code",
   "execution_count": null,
   "id": "69f44b61",
   "metadata": {},
   "outputs": [],
   "source": [
    "from functools import reduce\n",
    "nums = [1, 2, 3, 4]\n",
    "result = reduce(lambda x, y: x * y, nums)\n",
    "print(result)"
   ]
  },
  {
   "cell_type": "code",
   "execution_count": null,
   "id": "192c783a",
   "metadata": {},
   "outputs": [],
   "source": [
    "nums = [1, 2, 3, 4, 5, 6]\n",
    "result = list(filter(lambda x: x % 2 == 0, nums))\n",
    "print(result)"
   ]
  },
  {
   "cell_type": "code",
   "execution_count": null,
   "id": "623dd35d",
   "metadata": {},
   "outputs": [],
   "source": [
    "s = 'hello'\n",
    "for i, ch in enumerate(s): print(i, ch)"
   ]
  },
  {
   "cell_type": "code",
   "execution_count": null,
   "id": "6780d391",
   "metadata": {},
   "outputs": [],
   "source": [
    "names = ['Amy', 'Ben', 'Cathy', 'Dan']\n",
    "result = list(filter(lambda x: x.startswith('C'), names))\n",
    "print(result)"
   ]
  },
  {
   "cell_type": "code",
   "execution_count": null,
   "id": "48900265",
   "metadata": {},
   "outputs": [],
   "source": [
    "nums = [1, 2, 3, 4]\n",
    "result = list(map(lambda x: x * 2, nums))\n",
    "print(result)"
   ]
  },
  {
   "cell_type": "code",
   "execution_count": null,
   "id": "9c9e9f92",
   "metadata": {},
   "outputs": [],
   "source": [
    "words = ['hello', 'world']\n",
    "result = list(map(str.upper, words))\n",
    "print(result)"
   ]
  },
  {
   "cell_type": "code",
   "execution_count": null,
   "id": "d54bc1d8",
   "metadata": {},
   "outputs": [],
   "source": [
    "names = ['Amy', 'Ben', 'Cathy', 'Dan']\n",
    "result = list(filter(lambda x: x.startswith('C'), names))\n",
    "print(result)"
   ]
  },
  {
   "cell_type": "code",
   "execution_count": null,
   "id": "9333bdc8",
   "metadata": {},
   "outputs": [],
   "source": [
    "names = ['a', 'b', 'c']\n",
    "scores = [85, 90, 95]\n",
    "result = list(zip(names, scores))\n",
    "print(result)"
   ]
  },
  {
   "cell_type": "code",
   "execution_count": null,
   "id": "0f2a5b12",
   "metadata": {},
   "outputs": [],
   "source": [
    "nums = [1, 2, 3, 4]\n",
    "result = list(map(lambda x: x * 2, nums))\n",
    "print(result)"
   ]
  },
  {
   "cell_type": "code",
   "execution_count": null,
   "id": "8ac497e2",
   "metadata": {},
   "outputs": [],
   "source": [
    "x = lambda a, b : a * b\n",
    "print(x(5, 6))"
   ]
  },
  {
   "cell_type": "code",
   "execution_count": null,
   "id": "21d37b41",
   "metadata": {},
   "outputs": [],
   "source": [
    "from functools import reduce\n",
    "nums = [1, 2, 3, 4]\n",
    "result = reduce(lambda x, y: x + y, nums)\n",
    "print(result)"
   ]
  },
  {
   "cell_type": "code",
   "execution_count": null,
   "id": "4a9eca24",
   "metadata": {},
   "outputs": [],
   "source": [
    "x = lambda a, b, c : a + b + c\n",
    "print(x(1, 2, 3))"
   ]
  },
  {
   "cell_type": "code",
   "execution_count": null,
   "id": "cf02c22f",
   "metadata": {},
   "outputs": [],
   "source": [
    "words = ['hello', 'world']\n",
    "result = list(map(str.upper, words))\n",
    "print(result)"
   ]
  },
  {
   "cell_type": "code",
   "execution_count": null,
   "id": "6a6c4cf0",
   "metadata": {},
   "outputs": [],
   "source": [
    "names = ['Amy', 'Ben', 'Cathy', 'Dan']\n",
    "result = list(filter(lambda x: x.startswith('C'), names))\n",
    "print(result)"
   ]
  },
  {
   "cell_type": "code",
   "execution_count": null,
   "id": "d748c6d4",
   "metadata": {},
   "outputs": [],
   "source": [
    "nums = [1, 2, 3, 4, 5, 6]\n",
    "result = list(filter(lambda x: x % 2 == 0, nums))\n",
    "print(result)"
   ]
  },
  {
   "cell_type": "code",
   "execution_count": null,
   "id": "a1828dd6",
   "metadata": {},
   "outputs": [],
   "source": [
    "x = lambda a : a + 10\n",
    "print(x(5))"
   ]
  },
  {
   "cell_type": "code",
   "execution_count": null,
   "id": "c1e4ab79",
   "metadata": {},
   "outputs": [],
   "source": [
    "names = ['a', 'b', 'c']\n",
    "scores = [85, 90, 95]\n",
    "result = list(zip(names, scores))\n",
    "print(result)"
   ]
  },
  {
   "cell_type": "code",
   "execution_count": null,
   "id": "78003d6f",
   "metadata": {},
   "outputs": [],
   "source": [
    "from functools import reduce\n",
    "nums = [1, 2, 3, 4]\n",
    "result = reduce(lambda x, y: x * y, nums)\n",
    "print(result)"
   ]
  },
  {
   "cell_type": "code",
   "execution_count": null,
   "id": "c129ab23",
   "metadata": {},
   "outputs": [],
   "source": [
    "from functools import reduce\n",
    "nums = [1, 2, 3, 4]\n",
    "result = reduce(lambda x, y: x * y, nums)\n",
    "print(result)"
   ]
  },
  {
   "cell_type": "code",
   "execution_count": null,
   "id": "3f3154d9",
   "metadata": {},
   "outputs": [],
   "source": [
    "names = ['Amy', 'Ben', 'Cathy', 'Dan']\n",
    "result = list(filter(lambda x: x.startswith('C'), names))\n",
    "print(result)"
   ]
  },
  {
   "cell_type": "code",
   "execution_count": null,
   "id": "fc0fa825",
   "metadata": {},
   "outputs": [],
   "source": [
    "names = ['a', 'b', 'c']\n",
    "scores = [85, 90, 95]\n",
    "result = list(zip(names, scores))\n",
    "print(result)"
   ]
  },
  {
   "cell_type": "code",
   "execution_count": null,
   "id": "648a7630",
   "metadata": {},
   "outputs": [],
   "source": [
    "names = ['a', 'b', 'c']\n",
    "scores = [85, 90, 95]\n",
    "result = list(zip(names, scores))\n",
    "print(result)"
   ]
  },
  {
   "cell_type": "code",
   "execution_count": null,
   "id": "71533f78",
   "metadata": {},
   "outputs": [],
   "source": [
    "x = lambda a, b, c : a + b + c\n",
    "print(x(1, 2, 3))"
   ]
  },
  {
   "cell_type": "code",
   "execution_count": null,
   "id": "102a06f6",
   "metadata": {},
   "outputs": [],
   "source": [
    "nums = [1, 2, 3, 4]\n",
    "result = list(map(lambda x: x * 2, nums))\n",
    "print(result)"
   ]
  },
  {
   "cell_type": "code",
   "execution_count": null,
   "id": "79256749",
   "metadata": {},
   "outputs": [],
   "source": [
    "lst = ['a', 'b', 'c']\n",
    "for index, value in enumerate(lst): print(index, value)"
   ]
  },
  {
   "cell_type": "code",
   "execution_count": null,
   "id": "6e0f3eb3",
   "metadata": {},
   "outputs": [],
   "source": [
    "from functools import reduce\n",
    "nums = [1, 2, 3, 4]\n",
    "result = reduce(lambda x, y: x + y, nums)\n",
    "print(result)"
   ]
  },
  {
   "cell_type": "code",
   "execution_count": null,
   "id": "44af7824",
   "metadata": {},
   "outputs": [],
   "source": [
    "from functools import reduce\n",
    "nums = [1, 2, 3, 4]\n",
    "result = reduce(lambda x, y: x + y, nums)\n",
    "print(result)"
   ]
  },
  {
   "cell_type": "code",
   "execution_count": null,
   "id": "29086d1e",
   "metadata": {},
   "outputs": [],
   "source": [
    "nums = [1, 2, 3, 4]\n",
    "result = list(map(lambda x: x * 2, nums))\n",
    "print(result)"
   ]
  },
  {
   "cell_type": "code",
   "execution_count": null,
   "id": "0ebeacab",
   "metadata": {},
   "outputs": [],
   "source": [
    "x = lambda a, b : a * b\n",
    "print(x(5, 6))"
   ]
  },
  {
   "cell_type": "code",
   "execution_count": null,
   "id": "67f4008a",
   "metadata": {},
   "outputs": [],
   "source": [
    "nums = [1, 2, 3, 4, 5, 6]\n",
    "result = list(filter(lambda x: x % 2 == 0, nums))\n",
    "print(result)"
   ]
  },
  {
   "cell_type": "code",
   "execution_count": null,
   "id": "72ec8e60",
   "metadata": {},
   "outputs": [],
   "source": [
    "x = lambda a, b, c : a + b + c\n",
    "print(x(1, 2, 3))"
   ]
  },
  {
   "cell_type": "code",
   "execution_count": null,
   "id": "5ce7823a",
   "metadata": {},
   "outputs": [],
   "source": [
    "x = lambda a : a + 10\n",
    "print(x(5))"
   ]
  },
  {
   "cell_type": "code",
   "execution_count": null,
   "id": "355bebe8",
   "metadata": {},
   "outputs": [],
   "source": [
    "names = ['a', 'b', 'c']\n",
    "scores = [85, 90, 95]\n",
    "result = list(zip(names, scores))\n",
    "print(result)"
   ]
  },
  {
   "cell_type": "code",
   "execution_count": null,
   "id": "08446f83",
   "metadata": {},
   "outputs": [],
   "source": [
    "names = ['Amy', 'Ben', 'Cathy', 'Dan']\n",
    "result = list(filter(lambda x: x.startswith('C'), names))\n",
    "print(result)"
   ]
  },
  {
   "cell_type": "code",
   "execution_count": null,
   "id": "3d6e0ad9",
   "metadata": {},
   "outputs": [],
   "source": [
    "nums = [1, 2, 3, 4]\n",
    "result = list(map(lambda x: x * 2, nums))\n",
    "print(result)"
   ]
  },
  {
   "cell_type": "code",
   "execution_count": null,
   "id": "33500ecb",
   "metadata": {},
   "outputs": [],
   "source": [
    "x = lambda a, b : a * b\n",
    "print(x(5, 6))"
   ]
  },
  {
   "cell_type": "code",
   "execution_count": null,
   "id": "f005df6d",
   "metadata": {},
   "outputs": [],
   "source": [
    "nums = [1, 2, 3, 4, 5, 6]\n",
    "result = list(filter(lambda x: x % 2 == 0, nums))\n",
    "print(result)"
   ]
  },
  {
   "cell_type": "code",
   "execution_count": null,
   "id": "4ea3b755",
   "metadata": {},
   "outputs": [],
   "source": [
    "x = lambda a, b, c : a + b + c\n",
    "print(x(1, 2, 3))"
   ]
  },
  {
   "cell_type": "code",
   "execution_count": null,
   "id": "5707bf0f",
   "metadata": {},
   "outputs": [],
   "source": [
    "x = lambda a : a + 10\n",
    "print(x(5))"
   ]
  },
  {
   "cell_type": "code",
   "execution_count": null,
   "id": "a4f288d3",
   "metadata": {},
   "outputs": [],
   "source": [
    "lst = ['a', 'b', 'c']\n",
    "for index, value in enumerate(lst): print(index, value)"
   ]
  },
  {
   "cell_type": "code",
   "execution_count": null,
   "id": "5249198a",
   "metadata": {},
   "outputs": [],
   "source": [
    "from functools import reduce\n",
    "nums = [1, 2, 3, 4]\n",
    "result = reduce(lambda x, y: x + y, nums)\n",
    "print(result)"
   ]
  },
  {
   "cell_type": "code",
   "execution_count": null,
   "id": "08e74a7b",
   "metadata": {},
   "outputs": [],
   "source": [
    "s = 'hello'\n",
    "for i, ch in enumerate(s): print(i, ch)"
   ]
  },
  {
   "cell_type": "code",
   "execution_count": null,
   "id": "f8f82fea",
   "metadata": {},
   "outputs": [],
   "source": [
    "s = 'hello'\n",
    "for i, ch in enumerate(s): print(i, ch)"
   ]
  },
  {
   "cell_type": "code",
   "execution_count": null,
   "id": "47dd0463",
   "metadata": {},
   "outputs": [],
   "source": [
    "x = lambda a : a + 10\n",
    "print(x(5))"
   ]
  },
  {
   "cell_type": "code",
   "execution_count": null,
   "id": "993c9b74",
   "metadata": {},
   "outputs": [],
   "source": [
    "names = ['a', 'b', 'c']\n",
    "scores = [85, 90, 95]\n",
    "result = list(zip(names, scores))\n",
    "print(result)"
   ]
  },
  {
   "cell_type": "code",
   "execution_count": null,
   "id": "3b49f4c7",
   "metadata": {},
   "outputs": [],
   "source": [
    "from functools import reduce\n",
    "nums = [1, 2, 3, 4]\n",
    "result = reduce(lambda x, y: x + y, nums)\n",
    "print(result)"
   ]
  },
  {
   "cell_type": "code",
   "execution_count": null,
   "id": "848b1d77",
   "metadata": {},
   "outputs": [],
   "source": [
    "x = [1, 2, 3]\n",
    "y = ['a', 'b', 'c']\n",
    "z = zip(x, y)\n",
    "print(list(z))"
   ]
  },
  {
   "cell_type": "code",
   "execution_count": null,
   "id": "9bbe0557",
   "metadata": {},
   "outputs": [],
   "source": [
    "from functools import reduce\n",
    "nums = [1, 2, 3, 4]\n",
    "result = reduce(lambda x, y: x + y, nums)\n",
    "print(result)"
   ]
  },
  {
   "cell_type": "code",
   "execution_count": null,
   "id": "ec7df82b",
   "metadata": {},
   "outputs": [],
   "source": [
    "from functools import reduce\n",
    "nums = [1, 2, 3, 4]\n",
    "result = reduce(lambda x, y: x * y, nums)\n",
    "print(result)"
   ]
  },
  {
   "cell_type": "code",
   "execution_count": null,
   "id": "c0c1e8b8",
   "metadata": {},
   "outputs": [],
   "source": [
    "lst = ['a', 'b', 'c']\n",
    "for index, value in enumerate(lst): print(index, value)"
   ]
  },
  {
   "cell_type": "code",
   "execution_count": null,
   "id": "07613e32",
   "metadata": {},
   "outputs": [],
   "source": [
    "nums = [1, 2, 3, 4]\n",
    "result = list(map(lambda x: x * 2, nums))\n",
    "print(result)"
   ]
  },
  {
   "cell_type": "code",
   "execution_count": null,
   "id": "ec65e3c5",
   "metadata": {},
   "outputs": [],
   "source": [
    "from functools import reduce\n",
    "nums = [1, 2, 3, 4]\n",
    "result = reduce(lambda x, y: x * y, nums)\n",
    "print(result)"
   ]
  },
  {
   "cell_type": "code",
   "execution_count": null,
   "id": "05d0d67d",
   "metadata": {},
   "outputs": [],
   "source": [
    "names = ['a', 'b', 'c']\n",
    "scores = [85, 90, 95]\n",
    "result = list(zip(names, scores))\n",
    "print(result)"
   ]
  },
  {
   "cell_type": "code",
   "execution_count": null,
   "id": "5f7403cf",
   "metadata": {},
   "outputs": [],
   "source": [
    "lst = ['a', 'b', 'c']\n",
    "for index, value in enumerate(lst): print(index, value)"
   ]
  },
  {
   "cell_type": "code",
   "execution_count": null,
   "id": "be1ad6dc",
   "metadata": {},
   "outputs": [],
   "source": [
    "from functools import reduce\n",
    "nums = [1, 2, 3, 4]\n",
    "result = reduce(lambda x, y: x * y, nums)\n",
    "print(result)"
   ]
  },
  {
   "cell_type": "code",
   "execution_count": null,
   "id": "fa43e43c",
   "metadata": {},
   "outputs": [],
   "source": [
    "words = ['hello', 'world']\n",
    "result = list(map(str.upper, words))\n",
    "print(result)"
   ]
  },
  {
   "cell_type": "code",
   "execution_count": null,
   "id": "715a108d",
   "metadata": {},
   "outputs": [],
   "source": [
    "lst = ['a', 'b', 'c']\n",
    "for index, value in enumerate(lst): print(index, value)"
   ]
  },
  {
   "cell_type": "code",
   "execution_count": null,
   "id": "0d3dbe8f",
   "metadata": {},
   "outputs": [],
   "source": [
    "x = lambda a : a + 10\n",
    "print(x(5))"
   ]
  },
  {
   "cell_type": "code",
   "execution_count": null,
   "id": "1b65cd56",
   "metadata": {},
   "outputs": [],
   "source": [
    "x = lambda a : a + 10\n",
    "print(x(5))"
   ]
  },
  {
   "cell_type": "code",
   "execution_count": null,
   "id": "914a6b3d",
   "metadata": {},
   "outputs": [],
   "source": [
    "from functools import reduce\n",
    "nums = [1, 2, 3, 4]\n",
    "result = reduce(lambda x, y: x * y, nums)\n",
    "print(result)"
   ]
  },
  {
   "cell_type": "code",
   "execution_count": null,
   "id": "b2ec9ae0",
   "metadata": {},
   "outputs": [],
   "source": [
    "from functools import reduce\n",
    "nums = [1, 2, 3, 4]\n",
    "result = reduce(lambda x, y: x * y, nums)\n",
    "print(result)"
   ]
  },
  {
   "cell_type": "code",
   "execution_count": null,
   "id": "22b580ee",
   "metadata": {},
   "outputs": [],
   "source": [
    "x = lambda a, b : a * b\n",
    "print(x(5, 6))"
   ]
  },
  {
   "cell_type": "code",
   "execution_count": null,
   "id": "ac37e22e",
   "metadata": {},
   "outputs": [],
   "source": [
    "x = lambda a, b, c : a + b + c\n",
    "print(x(1, 2, 3))"
   ]
  },
  {
   "cell_type": "code",
   "execution_count": null,
   "id": "38cf37e7",
   "metadata": {},
   "outputs": [],
   "source": [
    "from functools import reduce\n",
    "nums = [1, 2, 3, 4]\n",
    "result = reduce(lambda x, y: x + y, nums)\n",
    "print(result)"
   ]
  },
  {
   "cell_type": "code",
   "execution_count": null,
   "id": "ac591186",
   "metadata": {},
   "outputs": [],
   "source": [
    "s = 'hello'\n",
    "for i, ch in enumerate(s): print(i, ch)"
   ]
  },
  {
   "cell_type": "code",
   "execution_count": null,
   "id": "4c654902",
   "metadata": {},
   "outputs": [],
   "source": [
    "x = [1, 2, 3]\n",
    "y = ['a', 'b', 'c']\n",
    "z = zip(x, y)\n",
    "print(list(z))"
   ]
  },
  {
   "cell_type": "code",
   "execution_count": null,
   "id": "76b58ac4",
   "metadata": {},
   "outputs": [],
   "source": [
    "x = [1, 2, 3]\n",
    "y = ['a', 'b', 'c']\n",
    "z = zip(x, y)\n",
    "print(list(z))"
   ]
  },
  {
   "cell_type": "code",
   "execution_count": null,
   "id": "81db54bc",
   "metadata": {},
   "outputs": [],
   "source": [
    "x = lambda a : a + 10\n",
    "print(x(5))"
   ]
  },
  {
   "cell_type": "code",
   "execution_count": null,
   "id": "20622d78",
   "metadata": {},
   "outputs": [],
   "source": [
    "nums = [1, 2, 3, 4, 5, 6]\n",
    "result = list(filter(lambda x: x % 2 == 0, nums))\n",
    "print(result)"
   ]
  },
  {
   "cell_type": "code",
   "execution_count": null,
   "id": "c4aca50b",
   "metadata": {},
   "outputs": [],
   "source": [
    "nums = [1, 2, 3, 4, 5, 6]\n",
    "result = list(filter(lambda x: x % 2 == 0, nums))\n",
    "print(result)"
   ]
  },
  {
   "cell_type": "code",
   "execution_count": null,
   "id": "74ab9011",
   "metadata": {},
   "outputs": [],
   "source": [
    "s = 'hello'\n",
    "for i, ch in enumerate(s): print(i, ch)"
   ]
  },
  {
   "cell_type": "code",
   "execution_count": null,
   "id": "41d92c83",
   "metadata": {},
   "outputs": [],
   "source": [
    "from functools import reduce\n",
    "nums = [1, 2, 3, 4]\n",
    "result = reduce(lambda x, y: x + y, nums)\n",
    "print(result)"
   ]
  },
  {
   "cell_type": "code",
   "execution_count": null,
   "id": "b211b02a",
   "metadata": {},
   "outputs": [],
   "source": [
    "s = 'hello'\n",
    "for i, ch in enumerate(s): print(i, ch)"
   ]
  },
  {
   "cell_type": "code",
   "execution_count": null,
   "id": "99143f10",
   "metadata": {},
   "outputs": [],
   "source": [
    "names = ['a', 'b', 'c']\n",
    "scores = [85, 90, 95]\n",
    "result = list(zip(names, scores))\n",
    "print(result)"
   ]
  },
  {
   "cell_type": "code",
   "execution_count": null,
   "id": "2f197a10",
   "metadata": {},
   "outputs": [],
   "source": [
    "s = 'hello'\n",
    "for i, ch in enumerate(s): print(i, ch)"
   ]
  },
  {
   "cell_type": "code",
   "execution_count": null,
   "id": "172ffde6",
   "metadata": {},
   "outputs": [],
   "source": [
    "x = lambda a, b, c : a + b + c\n",
    "print(x(1, 2, 3))"
   ]
  },
  {
   "cell_type": "code",
   "execution_count": null,
   "id": "051856cc",
   "metadata": {},
   "outputs": [],
   "source": [
    "lst = ['a', 'b', 'c']\n",
    "for index, value in enumerate(lst): print(index, value)"
   ]
  },
  {
   "cell_type": "code",
   "execution_count": null,
   "id": "fb145e6d",
   "metadata": {},
   "outputs": [],
   "source": [
    "x = lambda a, b : a * b\n",
    "print(x(5, 6))"
   ]
  },
  {
   "cell_type": "code",
   "execution_count": null,
   "id": "8ac878b3",
   "metadata": {},
   "outputs": [],
   "source": [
    "from functools import reduce\n",
    "nums = [1, 2, 3, 4]\n",
    "result = reduce(lambda x, y: x * y, nums)\n",
    "print(result)"
   ]
  },
  {
   "cell_type": "code",
   "execution_count": null,
   "id": "0dc1b35d",
   "metadata": {},
   "outputs": [],
   "source": [
    "from functools import reduce\n",
    "nums = [1, 2, 3, 4]\n",
    "result = reduce(lambda x, y: x * y, nums)\n",
    "print(result)"
   ]
  },
  {
   "cell_type": "code",
   "execution_count": null,
   "id": "31470c7b",
   "metadata": {},
   "outputs": [],
   "source": [
    "x = [1, 2, 3]\n",
    "y = ['a', 'b', 'c']\n",
    "z = zip(x, y)\n",
    "print(list(z))"
   ]
  },
  {
   "cell_type": "code",
   "execution_count": null,
   "id": "372c3f97",
   "metadata": {},
   "outputs": [],
   "source": [
    "names = ['a', 'b', 'c']\n",
    "scores = [85, 90, 95]\n",
    "result = list(zip(names, scores))\n",
    "print(result)"
   ]
  },
  {
   "cell_type": "code",
   "execution_count": null,
   "id": "2d07ee71",
   "metadata": {},
   "outputs": [],
   "source": [
    "x = [1, 2, 3]\n",
    "y = ['a', 'b', 'c']\n",
    "z = zip(x, y)\n",
    "print(list(z))"
   ]
  },
  {
   "cell_type": "code",
   "execution_count": null,
   "id": "2b098808",
   "metadata": {},
   "outputs": [],
   "source": [
    "x = lambda a : a + 10\n",
    "print(x(5))"
   ]
  },
  {
   "cell_type": "code",
   "execution_count": null,
   "id": "a5a8581f",
   "metadata": {},
   "outputs": [],
   "source": [
    "names = ['Amy', 'Ben', 'Cathy', 'Dan']\n",
    "result = list(filter(lambda x: x.startswith('C'), names))\n",
    "print(result)"
   ]
  },
  {
   "cell_type": "code",
   "execution_count": null,
   "id": "50c0ca04",
   "metadata": {},
   "outputs": [],
   "source": [
    "names = ['a', 'b', 'c']\n",
    "scores = [85, 90, 95]\n",
    "result = list(zip(names, scores))\n",
    "print(result)"
   ]
  },
  {
   "cell_type": "code",
   "execution_count": null,
   "id": "9f4e15ae",
   "metadata": {},
   "outputs": [],
   "source": [
    "x = lambda a : a + 10\n",
    "print(x(5))"
   ]
  },
  {
   "cell_type": "code",
   "execution_count": null,
   "id": "efd22f22",
   "metadata": {},
   "outputs": [],
   "source": [
    "s = 'hello'\n",
    "for i, ch in enumerate(s): print(i, ch)"
   ]
  },
  {
   "cell_type": "code",
   "execution_count": null,
   "id": "8edbfcb4",
   "metadata": {},
   "outputs": [],
   "source": [
    "x = lambda a, b, c : a + b + c\n",
    "print(x(1, 2, 3))"
   ]
  },
  {
   "cell_type": "code",
   "execution_count": null,
   "id": "b3032a5a",
   "metadata": {},
   "outputs": [],
   "source": [
    "nums = [1, 2, 3, 4, 5, 6]\n",
    "result = list(filter(lambda x: x % 2 == 0, nums))\n",
    "print(result)"
   ]
  },
  {
   "cell_type": "code",
   "execution_count": null,
   "id": "d7d4cf72",
   "metadata": {},
   "outputs": [],
   "source": [
    "nums = [1, 2, 3, 4, 5, 6]\n",
    "result = list(filter(lambda x: x % 2 == 0, nums))\n",
    "print(result)"
   ]
  },
  {
   "cell_type": "code",
   "execution_count": null,
   "id": "e348d233",
   "metadata": {},
   "outputs": [],
   "source": [
    "nums = [1, 2, 3, 4, 5, 6]\n",
    "result = list(filter(lambda x: x % 2 == 0, nums))\n",
    "print(result)"
   ]
  },
  {
   "cell_type": "code",
   "execution_count": null,
   "id": "8fe10359",
   "metadata": {},
   "outputs": [],
   "source": [
    "x = [1, 2, 3]\n",
    "y = ['a', 'b', 'c']\n",
    "z = zip(x, y)\n",
    "print(list(z))"
   ]
  },
  {
   "cell_type": "code",
   "execution_count": null,
   "id": "7e13c4b6",
   "metadata": {},
   "outputs": [],
   "source": [
    "nums = [1, 2, 3, 4, 5, 6]\n",
    "result = list(filter(lambda x: x % 2 == 0, nums))\n",
    "print(result)"
   ]
  },
  {
   "cell_type": "code",
   "execution_count": null,
   "id": "d19d9ad8",
   "metadata": {},
   "outputs": [],
   "source": [
    "nums = [1, 2, 3, 4, 5, 6]\n",
    "result = list(filter(lambda x: x % 2 == 0, nums))\n",
    "print(result)"
   ]
  },
  {
   "cell_type": "code",
   "execution_count": null,
   "id": "510965b8",
   "metadata": {},
   "outputs": [],
   "source": [
    "lst = ['a', 'b', 'c']\n",
    "for index, value in enumerate(lst): print(index, value)"
   ]
  },
  {
   "cell_type": "code",
   "execution_count": null,
   "id": "65e9ab49",
   "metadata": {},
   "outputs": [],
   "source": [
    "from functools import reduce\n",
    "nums = [1, 2, 3, 4]\n",
    "result = reduce(lambda x, y: x * y, nums)\n",
    "print(result)"
   ]
  },
  {
   "cell_type": "code",
   "execution_count": null,
   "id": "6d31c4e0",
   "metadata": {},
   "outputs": [],
   "source": [
    "x = lambda a, b, c : a + b + c\n",
    "print(x(1, 2, 3))"
   ]
  },
  {
   "cell_type": "code",
   "execution_count": null,
   "id": "daa09d72",
   "metadata": {},
   "outputs": [],
   "source": [
    "x = lambda a, b, c : a + b + c\n",
    "print(x(1, 2, 3))"
   ]
  },
  {
   "cell_type": "code",
   "execution_count": null,
   "id": "387077e8",
   "metadata": {},
   "outputs": [],
   "source": [
    "x = [1, 2, 3]\n",
    "y = ['a', 'b', 'c']\n",
    "z = zip(x, y)\n",
    "print(list(z))"
   ]
  },
  {
   "cell_type": "code",
   "execution_count": null,
   "id": "36d38889",
   "metadata": {},
   "outputs": [],
   "source": [
    "words = ['hello', 'world']\n",
    "result = list(map(str.upper, words))\n",
    "print(result)"
   ]
  },
  {
   "cell_type": "code",
   "execution_count": null,
   "id": "fdd32cb8",
   "metadata": {},
   "outputs": [],
   "source": [
    "names = ['a', 'b', 'c']\n",
    "scores = [85, 90, 95]\n",
    "result = list(zip(names, scores))\n",
    "print(result)"
   ]
  },
  {
   "cell_type": "code",
   "execution_count": null,
   "id": "8bb3b987",
   "metadata": {},
   "outputs": [],
   "source": [
    "names = ['Amy', 'Ben', 'Cathy', 'Dan']\n",
    "result = list(filter(lambda x: x.startswith('C'), names))\n",
    "print(result)"
   ]
  },
  {
   "cell_type": "code",
   "execution_count": null,
   "id": "ccc943ad",
   "metadata": {},
   "outputs": [],
   "source": [
    "s = 'hello'\n",
    "for i, ch in enumerate(s): print(i, ch)"
   ]
  },
  {
   "cell_type": "code",
   "execution_count": null,
   "id": "a5d8786b",
   "metadata": {},
   "outputs": [],
   "source": [
    "from functools import reduce\n",
    "nums = [1, 2, 3, 4]\n",
    "result = reduce(lambda x, y: x + y, nums)\n",
    "print(result)"
   ]
  },
  {
   "cell_type": "code",
   "execution_count": null,
   "id": "d7b5d561",
   "metadata": {},
   "outputs": [],
   "source": [
    "x = lambda a, b : a * b\n",
    "print(x(5, 6))"
   ]
  },
  {
   "cell_type": "code",
   "execution_count": null,
   "id": "a8257c76",
   "metadata": {},
   "outputs": [],
   "source": [
    "words = ['hello', 'world']\n",
    "result = list(map(str.upper, words))\n",
    "print(result)"
   ]
  },
  {
   "cell_type": "code",
   "execution_count": null,
   "id": "a568d2b2",
   "metadata": {},
   "outputs": [],
   "source": [
    "from functools import reduce\n",
    "nums = [1, 2, 3, 4]\n",
    "result = reduce(lambda x, y: x + y, nums)\n",
    "print(result)"
   ]
  },
  {
   "cell_type": "code",
   "execution_count": null,
   "id": "ff18bec8",
   "metadata": {},
   "outputs": [],
   "source": [
    "s = 'hello'\n",
    "for i, ch in enumerate(s): print(i, ch)"
   ]
  },
  {
   "cell_type": "code",
   "execution_count": null,
   "id": "c9004a5b",
   "metadata": {},
   "outputs": [],
   "source": [
    "x = lambda a, b : a * b\n",
    "print(x(5, 6))"
   ]
  },
  {
   "cell_type": "code",
   "execution_count": null,
   "id": "caabacb2",
   "metadata": {},
   "outputs": [],
   "source": [
    "x = lambda a, b : a * b\n",
    "print(x(5, 6))"
   ]
  },
  {
   "cell_type": "code",
   "execution_count": null,
   "id": "1b7f98ea",
   "metadata": {},
   "outputs": [],
   "source": [
    "x = lambda a : a + 10\n",
    "print(x(5))"
   ]
  },
  {
   "cell_type": "code",
   "execution_count": null,
   "id": "a0a38082",
   "metadata": {},
   "outputs": [],
   "source": [
    "from functools import reduce\n",
    "nums = [1, 2, 3, 4]\n",
    "result = reduce(lambda x, y: x * y, nums)\n",
    "print(result)"
   ]
  },
  {
   "cell_type": "code",
   "execution_count": null,
   "id": "8a804a48",
   "metadata": {},
   "outputs": [],
   "source": [
    "s = 'hello'\n",
    "for i, ch in enumerate(s): print(i, ch)"
   ]
  },
  {
   "cell_type": "code",
   "execution_count": null,
   "id": "f69efa68",
   "metadata": {},
   "outputs": [],
   "source": [
    "nums = [1, 2, 3, 4, 5, 6]\n",
    "result = list(filter(lambda x: x % 2 == 0, nums))\n",
    "print(result)"
   ]
  },
  {
   "cell_type": "code",
   "execution_count": null,
   "id": "f42586a2",
   "metadata": {},
   "outputs": [],
   "source": [
    "nums = [1, 2, 3, 4, 5, 6]\n",
    "result = list(filter(lambda x: x % 2 == 0, nums))\n",
    "print(result)"
   ]
  },
  {
   "cell_type": "code",
   "execution_count": null,
   "id": "2564c09b",
   "metadata": {},
   "outputs": [],
   "source": [
    "names = ['Amy', 'Ben', 'Cathy', 'Dan']\n",
    "result = list(filter(lambda x: x.startswith('C'), names))\n",
    "print(result)"
   ]
  },
  {
   "cell_type": "code",
   "execution_count": null,
   "id": "3d44c7dc",
   "metadata": {},
   "outputs": [],
   "source": [
    "from functools import reduce\n",
    "nums = [1, 2, 3, 4]\n",
    "result = reduce(lambda x, y: x + y, nums)\n",
    "print(result)"
   ]
  },
  {
   "cell_type": "code",
   "execution_count": null,
   "id": "c5c95159",
   "metadata": {},
   "outputs": [],
   "source": [
    "x = [1, 2, 3]\n",
    "y = ['a', 'b', 'c']\n",
    "z = zip(x, y)\n",
    "print(list(z))"
   ]
  },
  {
   "cell_type": "code",
   "execution_count": null,
   "id": "9e5bae8a",
   "metadata": {},
   "outputs": [],
   "source": [
    "x = lambda a, b, c : a + b + c\n",
    "print(x(1, 2, 3))"
   ]
  },
  {
   "cell_type": "code",
   "execution_count": null,
   "id": "7aefd112",
   "metadata": {},
   "outputs": [],
   "source": [
    "from functools import reduce\n",
    "nums = [1, 2, 3, 4]\n",
    "result = reduce(lambda x, y: x + y, nums)\n",
    "print(result)"
   ]
  },
  {
   "cell_type": "code",
   "execution_count": null,
   "id": "c05d2b39",
   "metadata": {},
   "outputs": [],
   "source": [
    "s = 'hello'\n",
    "for i, ch in enumerate(s): print(i, ch)"
   ]
  },
  {
   "cell_type": "code",
   "execution_count": null,
   "id": "83a75119",
   "metadata": {},
   "outputs": [],
   "source": [
    "x = lambda a, b, c : a + b + c\n",
    "print(x(1, 2, 3))"
   ]
  },
  {
   "cell_type": "code",
   "execution_count": null,
   "id": "74564265",
   "metadata": {},
   "outputs": [],
   "source": [
    "x = lambda a : a + 10\n",
    "print(x(5))"
   ]
  },
  {
   "cell_type": "code",
   "execution_count": null,
   "id": "489bae37",
   "metadata": {},
   "outputs": [],
   "source": [
    "lst = ['a', 'b', 'c']\n",
    "for index, value in enumerate(lst): print(index, value)"
   ]
  },
  {
   "cell_type": "code",
   "execution_count": null,
   "id": "db1b151c",
   "metadata": {},
   "outputs": [],
   "source": [
    "names = ['a', 'b', 'c']\n",
    "scores = [85, 90, 95]\n",
    "result = list(zip(names, scores))\n",
    "print(result)"
   ]
  },
  {
   "cell_type": "code",
   "execution_count": null,
   "id": "c92473bb",
   "metadata": {},
   "outputs": [],
   "source": [
    "nums = [1, 2, 3, 4, 5, 6]\n",
    "result = list(filter(lambda x: x % 2 == 0, nums))\n",
    "print(result)"
   ]
  },
  {
   "cell_type": "code",
   "execution_count": null,
   "id": "00d92139",
   "metadata": {},
   "outputs": [],
   "source": [
    "x = lambda a, b : a * b\n",
    "print(x(5, 6))"
   ]
  },
  {
   "cell_type": "code",
   "execution_count": null,
   "id": "82672da1",
   "metadata": {},
   "outputs": [],
   "source": [
    "words = ['hello', 'world']\n",
    "result = list(map(str.upper, words))\n",
    "print(result)"
   ]
  },
  {
   "cell_type": "code",
   "execution_count": null,
   "id": "20a8bfcb",
   "metadata": {},
   "outputs": [],
   "source": [
    "from functools import reduce\n",
    "nums = [1, 2, 3, 4]\n",
    "result = reduce(lambda x, y: x * y, nums)\n",
    "print(result)"
   ]
  },
  {
   "cell_type": "code",
   "execution_count": null,
   "id": "cb028003",
   "metadata": {},
   "outputs": [],
   "source": [
    "words = ['hello', 'world']\n",
    "result = list(map(str.upper, words))\n",
    "print(result)"
   ]
  },
  {
   "cell_type": "code",
   "execution_count": null,
   "id": "3b0d8d75",
   "metadata": {},
   "outputs": [],
   "source": [
    "lst = ['a', 'b', 'c']\n",
    "for index, value in enumerate(lst): print(index, value)"
   ]
  },
  {
   "cell_type": "code",
   "execution_count": null,
   "id": "b97222c0",
   "metadata": {},
   "outputs": [],
   "source": [
    "x = lambda a : a + 10\n",
    "print(x(5))"
   ]
  },
  {
   "cell_type": "code",
   "execution_count": null,
   "id": "001591fd",
   "metadata": {},
   "outputs": [],
   "source": [
    "names = ['a', 'b', 'c']\n",
    "scores = [85, 90, 95]\n",
    "result = list(zip(names, scores))\n",
    "print(result)"
   ]
  },
  {
   "cell_type": "code",
   "execution_count": null,
   "id": "f093c296",
   "metadata": {},
   "outputs": [],
   "source": [
    "lst = ['a', 'b', 'c']\n",
    "for index, value in enumerate(lst): print(index, value)"
   ]
  },
  {
   "cell_type": "code",
   "execution_count": null,
   "id": "15a0206f",
   "metadata": {},
   "outputs": [],
   "source": [
    "s = 'hello'\n",
    "for i, ch in enumerate(s): print(i, ch)"
   ]
  },
  {
   "cell_type": "code",
   "execution_count": null,
   "id": "4dbcdcfa",
   "metadata": {},
   "outputs": [],
   "source": [
    "names = ['a', 'b', 'c']\n",
    "scores = [85, 90, 95]\n",
    "result = list(zip(names, scores))\n",
    "print(result)"
   ]
  },
  {
   "cell_type": "code",
   "execution_count": null,
   "id": "d16ef83f",
   "metadata": {},
   "outputs": [],
   "source": [
    "names = ['a', 'b', 'c']\n",
    "scores = [85, 90, 95]\n",
    "result = list(zip(names, scores))\n",
    "print(result)"
   ]
  },
  {
   "cell_type": "code",
   "execution_count": null,
   "id": "b935865e",
   "metadata": {},
   "outputs": [],
   "source": [
    "nums = [1, 2, 3, 4]\n",
    "result = list(map(lambda x: x * 2, nums))\n",
    "print(result)"
   ]
  },
  {
   "cell_type": "code",
   "execution_count": null,
   "id": "8fe6fe70",
   "metadata": {},
   "outputs": [],
   "source": [
    "x = [1, 2, 3]\n",
    "y = ['a', 'b', 'c']\n",
    "z = zip(x, y)\n",
    "print(list(z))"
   ]
  },
  {
   "cell_type": "code",
   "execution_count": null,
   "id": "06a2108e",
   "metadata": {},
   "outputs": [],
   "source": [
    "s = 'hello'\n",
    "for i, ch in enumerate(s): print(i, ch)"
   ]
  },
  {
   "cell_type": "code",
   "execution_count": null,
   "id": "16fb40fb",
   "metadata": {},
   "outputs": [],
   "source": [
    "nums = [1, 2, 3, 4]\n",
    "result = list(map(lambda x: x * 2, nums))\n",
    "print(result)"
   ]
  },
  {
   "cell_type": "code",
   "execution_count": null,
   "id": "f94cc255",
   "metadata": {},
   "outputs": [],
   "source": [
    "s = 'hello'\n",
    "for i, ch in enumerate(s): print(i, ch)"
   ]
  },
  {
   "cell_type": "code",
   "execution_count": null,
   "id": "d20e01e1",
   "metadata": {},
   "outputs": [],
   "source": [
    "from functools import reduce\n",
    "nums = [1, 2, 3, 4]\n",
    "result = reduce(lambda x, y: x + y, nums)\n",
    "print(result)"
   ]
  },
  {
   "cell_type": "code",
   "execution_count": null,
   "id": "4f7b567c",
   "metadata": {},
   "outputs": [],
   "source": [
    "from functools import reduce\n",
    "nums = [1, 2, 3, 4]\n",
    "result = reduce(lambda x, y: x + y, nums)\n",
    "print(result)"
   ]
  },
  {
   "cell_type": "code",
   "execution_count": null,
   "id": "f4c4563d",
   "metadata": {},
   "outputs": [],
   "source": [
    "words = ['hello', 'world']\n",
    "result = list(map(str.upper, words))\n",
    "print(result)"
   ]
  },
  {
   "cell_type": "code",
   "execution_count": null,
   "id": "bce5672b",
   "metadata": {},
   "outputs": [],
   "source": [
    "nums = [1, 2, 3, 4]\n",
    "result = list(map(lambda x: x * 2, nums))\n",
    "print(result)"
   ]
  },
  {
   "cell_type": "code",
   "execution_count": null,
   "id": "55c183fd",
   "metadata": {},
   "outputs": [],
   "source": [
    "s = 'hello'\n",
    "for i, ch in enumerate(s): print(i, ch)"
   ]
  },
  {
   "cell_type": "code",
   "execution_count": null,
   "id": "13ff1541",
   "metadata": {},
   "outputs": [],
   "source": [
    "names = ['Amy', 'Ben', 'Cathy', 'Dan']\n",
    "result = list(filter(lambda x: x.startswith('C'), names))\n",
    "print(result)"
   ]
  },
  {
   "cell_type": "code",
   "execution_count": null,
   "id": "fa428084",
   "metadata": {},
   "outputs": [],
   "source": [
    "x = lambda a, b : a * b\n",
    "print(x(5, 6))"
   ]
  },
  {
   "cell_type": "code",
   "execution_count": null,
   "id": "b1a4f79f",
   "metadata": {},
   "outputs": [],
   "source": [
    "lst = ['a', 'b', 'c']\n",
    "for index, value in enumerate(lst): print(index, value)"
   ]
  },
  {
   "cell_type": "code",
   "execution_count": null,
   "id": "dd097439",
   "metadata": {},
   "outputs": [],
   "source": [
    "s = 'hello'\n",
    "for i, ch in enumerate(s): print(i, ch)"
   ]
  },
  {
   "cell_type": "code",
   "execution_count": null,
   "id": "546f93ee",
   "metadata": {},
   "outputs": [],
   "source": [
    "x = lambda a, b : a * b\n",
    "print(x(5, 6))"
   ]
  },
  {
   "cell_type": "code",
   "execution_count": null,
   "id": "e98ecdac",
   "metadata": {},
   "outputs": [],
   "source": [
    "s = 'hello'\n",
    "for i, ch in enumerate(s): print(i, ch)"
   ]
  },
  {
   "cell_type": "code",
   "execution_count": null,
   "id": "6dbd37b7",
   "metadata": {},
   "outputs": [],
   "source": [
    "names = ['a', 'b', 'c']\n",
    "scores = [85, 90, 95]\n",
    "result = list(zip(names, scores))\n",
    "print(result)"
   ]
  },
  {
   "cell_type": "code",
   "execution_count": null,
   "id": "f3936789",
   "metadata": {},
   "outputs": [],
   "source": [
    "lst = ['a', 'b', 'c']\n",
    "for index, value in enumerate(lst): print(index, value)"
   ]
  },
  {
   "cell_type": "code",
   "execution_count": null,
   "id": "539a9d56",
   "metadata": {},
   "outputs": [],
   "source": [
    "words = ['hello', 'world']\n",
    "result = list(map(str.upper, words))\n",
    "print(result)"
   ]
  },
  {
   "cell_type": "code",
   "execution_count": null,
   "id": "8f06c18a",
   "metadata": {},
   "outputs": [],
   "source": [
    "x = lambda a : a + 10\n",
    "print(x(5))"
   ]
  },
  {
   "cell_type": "code",
   "execution_count": null,
   "id": "caa36224",
   "metadata": {},
   "outputs": [],
   "source": [
    "nums = [1, 2, 3, 4, 5, 6]\n",
    "result = list(filter(lambda x: x % 2 == 0, nums))\n",
    "print(result)"
   ]
  },
  {
   "cell_type": "code",
   "execution_count": null,
   "id": "22df81e1",
   "metadata": {},
   "outputs": [],
   "source": [
    "nums = [1, 2, 3, 4, 5, 6]\n",
    "result = list(filter(lambda x: x % 2 == 0, nums))\n",
    "print(result)"
   ]
  },
  {
   "cell_type": "code",
   "execution_count": null,
   "id": "e1bdfc55",
   "metadata": {},
   "outputs": [],
   "source": [
    "names = ['Amy', 'Ben', 'Cathy', 'Dan']\n",
    "result = list(filter(lambda x: x.startswith('C'), names))\n",
    "print(result)"
   ]
  },
  {
   "cell_type": "code",
   "execution_count": null,
   "id": "084721eb",
   "metadata": {},
   "outputs": [],
   "source": [
    "nums = [1, 2, 3, 4]\n",
    "result = list(map(lambda x: x * 2, nums))\n",
    "print(result)"
   ]
  },
  {
   "cell_type": "code",
   "execution_count": null,
   "id": "c4fa4435",
   "metadata": {},
   "outputs": [],
   "source": [
    "x = [1, 2, 3]\n",
    "y = ['a', 'b', 'c']\n",
    "z = zip(x, y)\n",
    "print(list(z))"
   ]
  },
  {
   "cell_type": "code",
   "execution_count": null,
   "id": "68cd22b2",
   "metadata": {},
   "outputs": [],
   "source": [
    "from functools import reduce\n",
    "nums = [1, 2, 3, 4]\n",
    "result = reduce(lambda x, y: x * y, nums)\n",
    "print(result)"
   ]
  },
  {
   "cell_type": "code",
   "execution_count": null,
   "id": "e3571dcb",
   "metadata": {},
   "outputs": [],
   "source": [
    "words = ['hello', 'world']\n",
    "result = list(map(str.upper, words))\n",
    "print(result)"
   ]
  },
  {
   "cell_type": "code",
   "execution_count": null,
   "id": "40537249",
   "metadata": {},
   "outputs": [],
   "source": [
    "x = lambda a : a + 10\n",
    "print(x(5))"
   ]
  },
  {
   "cell_type": "code",
   "execution_count": null,
   "id": "094f47e1",
   "metadata": {},
   "outputs": [],
   "source": [
    "s = 'hello'\n",
    "for i, ch in enumerate(s): print(i, ch)"
   ]
  },
  {
   "cell_type": "code",
   "execution_count": null,
   "id": "feb337c3",
   "metadata": {},
   "outputs": [],
   "source": [
    "x = lambda a : a + 10\n",
    "print(x(5))"
   ]
  },
  {
   "cell_type": "code",
   "execution_count": null,
   "id": "84659c4d",
   "metadata": {},
   "outputs": [],
   "source": [
    "from functools import reduce\n",
    "nums = [1, 2, 3, 4]\n",
    "result = reduce(lambda x, y: x + y, nums)\n",
    "print(result)"
   ]
  },
  {
   "cell_type": "code",
   "execution_count": null,
   "id": "eb2081f7",
   "metadata": {},
   "outputs": [],
   "source": [
    "nums = [1, 2, 3, 4]\n",
    "result = list(map(lambda x: x * 2, nums))\n",
    "print(result)"
   ]
  },
  {
   "cell_type": "code",
   "execution_count": null,
   "id": "f1423237",
   "metadata": {},
   "outputs": [],
   "source": [
    "from functools import reduce\n",
    "nums = [1, 2, 3, 4]\n",
    "result = reduce(lambda x, y: x * y, nums)\n",
    "print(result)"
   ]
  },
  {
   "cell_type": "code",
   "execution_count": null,
   "id": "4fd2a9dd",
   "metadata": {},
   "outputs": [],
   "source": [
    "x = lambda a, b, c : a + b + c\n",
    "print(x(1, 2, 3))"
   ]
  },
  {
   "cell_type": "code",
   "execution_count": null,
   "id": "b23b6c83",
   "metadata": {},
   "outputs": [],
   "source": [
    "from functools import reduce\n",
    "nums = [1, 2, 3, 4]\n",
    "result = reduce(lambda x, y: x + y, nums)\n",
    "print(result)"
   ]
  },
  {
   "cell_type": "code",
   "execution_count": null,
   "id": "41f38b70",
   "metadata": {},
   "outputs": [],
   "source": [
    "nums = [1, 2, 3, 4]\n",
    "result = list(map(lambda x: x * 2, nums))\n",
    "print(result)"
   ]
  },
  {
   "cell_type": "code",
   "execution_count": null,
   "id": "17bf5e35",
   "metadata": {},
   "outputs": [],
   "source": [
    "x = lambda a, b, c : a + b + c\n",
    "print(x(1, 2, 3))"
   ]
  },
  {
   "cell_type": "code",
   "execution_count": null,
   "id": "41cc731b",
   "metadata": {},
   "outputs": [],
   "source": [
    "nums = [1, 2, 3, 4]\n",
    "result = list(map(lambda x: x * 2, nums))\n",
    "print(result)"
   ]
  },
  {
   "cell_type": "code",
   "execution_count": null,
   "id": "c2c055f7",
   "metadata": {},
   "outputs": [],
   "source": [
    "x = [1, 2, 3]\n",
    "y = ['a', 'b', 'c']\n",
    "z = zip(x, y)\n",
    "print(list(z))"
   ]
  },
  {
   "cell_type": "code",
   "execution_count": null,
   "id": "4f56a655",
   "metadata": {},
   "outputs": [],
   "source": [
    "x = [1, 2, 3]\n",
    "y = ['a', 'b', 'c']\n",
    "z = zip(x, y)\n",
    "print(list(z))"
   ]
  },
  {
   "cell_type": "code",
   "execution_count": null,
   "id": "e2f26c3e",
   "metadata": {},
   "outputs": [],
   "source": [
    "x = lambda a : a + 10\n",
    "print(x(5))"
   ]
  },
  {
   "cell_type": "code",
   "execution_count": null,
   "id": "6191cca4",
   "metadata": {},
   "outputs": [],
   "source": [
    "x = [1, 2, 3]\n",
    "y = ['a', 'b', 'c']\n",
    "z = zip(x, y)\n",
    "print(list(z))"
   ]
  },
  {
   "cell_type": "code",
   "execution_count": null,
   "id": "b15e7849",
   "metadata": {},
   "outputs": [],
   "source": [
    "names = ['Amy', 'Ben', 'Cathy', 'Dan']\n",
    "result = list(filter(lambda x: x.startswith('C'), names))\n",
    "print(result)"
   ]
  },
  {
   "cell_type": "code",
   "execution_count": null,
   "id": "dd259a59",
   "metadata": {},
   "outputs": [],
   "source": [
    "from functools import reduce\n",
    "nums = [1, 2, 3, 4]\n",
    "result = reduce(lambda x, y: x + y, nums)\n",
    "print(result)"
   ]
  },
  {
   "cell_type": "code",
   "execution_count": null,
   "id": "a4d1f951",
   "metadata": {},
   "outputs": [],
   "source": [
    "lst = ['a', 'b', 'c']\n",
    "for index, value in enumerate(lst): print(index, value)"
   ]
  },
  {
   "cell_type": "code",
   "execution_count": null,
   "id": "b25e5e5c",
   "metadata": {},
   "outputs": [],
   "source": [
    "names = ['a', 'b', 'c']\n",
    "scores = [85, 90, 95]\n",
    "result = list(zip(names, scores))\n",
    "print(result)"
   ]
  },
  {
   "cell_type": "code",
   "execution_count": null,
   "id": "e28d22a4",
   "metadata": {},
   "outputs": [],
   "source": [
    "words = ['hello', 'world']\n",
    "result = list(map(str.upper, words))\n",
    "print(result)"
   ]
  },
  {
   "cell_type": "code",
   "execution_count": null,
   "id": "6fa91e78",
   "metadata": {},
   "outputs": [],
   "source": [
    "names = ['a', 'b', 'c']\n",
    "scores = [85, 90, 95]\n",
    "result = list(zip(names, scores))\n",
    "print(result)"
   ]
  },
  {
   "cell_type": "code",
   "execution_count": null,
   "id": "f3bcab0e",
   "metadata": {},
   "outputs": [],
   "source": [
    "x = lambda a : a + 10\n",
    "print(x(5))"
   ]
  },
  {
   "cell_type": "code",
   "execution_count": null,
   "id": "c1ed1ee1",
   "metadata": {},
   "outputs": [],
   "source": [
    "x = [1, 2, 3]\n",
    "y = ['a', 'b', 'c']\n",
    "z = zip(x, y)\n",
    "print(list(z))"
   ]
  },
  {
   "cell_type": "code",
   "execution_count": null,
   "id": "d496c51f",
   "metadata": {},
   "outputs": [],
   "source": [
    "nums = [1, 2, 3, 4, 5, 6]\n",
    "result = list(filter(lambda x: x % 2 == 0, nums))\n",
    "print(result)"
   ]
  },
  {
   "cell_type": "code",
   "execution_count": null,
   "id": "8eb989b8",
   "metadata": {},
   "outputs": [],
   "source": [
    "s = 'hello'\n",
    "for i, ch in enumerate(s): print(i, ch)"
   ]
  },
  {
   "cell_type": "code",
   "execution_count": null,
   "id": "405b286c",
   "metadata": {},
   "outputs": [],
   "source": [
    "x = [1, 2, 3]\n",
    "y = ['a', 'b', 'c']\n",
    "z = zip(x, y)\n",
    "print(list(z))"
   ]
  },
  {
   "cell_type": "code",
   "execution_count": null,
   "id": "18a5adb8",
   "metadata": {},
   "outputs": [],
   "source": [
    "x = lambda a, b : a * b\n",
    "print(x(5, 6))"
   ]
  },
  {
   "cell_type": "code",
   "execution_count": null,
   "id": "a60d2851",
   "metadata": {},
   "outputs": [],
   "source": [
    "s = 'hello'\n",
    "for i, ch in enumerate(s): print(i, ch)"
   ]
  },
  {
   "cell_type": "code",
   "execution_count": null,
   "id": "426e11d8",
   "metadata": {},
   "outputs": [],
   "source": [
    "nums = [1, 2, 3, 4, 5, 6]\n",
    "result = list(filter(lambda x: x % 2 == 0, nums))\n",
    "print(result)"
   ]
  },
  {
   "cell_type": "code",
   "execution_count": null,
   "id": "edbb8c90",
   "metadata": {},
   "outputs": [],
   "source": [
    "names = ['Amy', 'Ben', 'Cathy', 'Dan']\n",
    "result = list(filter(lambda x: x.startswith('C'), names))\n",
    "print(result)"
   ]
  },
  {
   "cell_type": "code",
   "execution_count": null,
   "id": "4ab247fc",
   "metadata": {},
   "outputs": [],
   "source": [
    "x = [1, 2, 3]\n",
    "y = ['a', 'b', 'c']\n",
    "z = zip(x, y)\n",
    "print(list(z))"
   ]
  },
  {
   "cell_type": "code",
   "execution_count": null,
   "id": "c0ae5da7",
   "metadata": {},
   "outputs": [],
   "source": [
    "names = ['Amy', 'Ben', 'Cathy', 'Dan']\n",
    "result = list(filter(lambda x: x.startswith('C'), names))\n",
    "print(result)"
   ]
  },
  {
   "cell_type": "code",
   "execution_count": null,
   "id": "59198e71",
   "metadata": {},
   "outputs": [],
   "source": [
    "x = lambda a, b : a * b\n",
    "print(x(5, 6))"
   ]
  },
  {
   "cell_type": "code",
   "execution_count": null,
   "id": "79aaeaa4",
   "metadata": {},
   "outputs": [],
   "source": [
    "nums = [1, 2, 3, 4, 5, 6]\n",
    "result = list(filter(lambda x: x % 2 == 0, nums))\n",
    "print(result)"
   ]
  },
  {
   "cell_type": "code",
   "execution_count": null,
   "id": "6c228222",
   "metadata": {},
   "outputs": [],
   "source": [
    "x = lambda a, b, c : a + b + c\n",
    "print(x(1, 2, 3))"
   ]
  },
  {
   "cell_type": "code",
   "execution_count": null,
   "id": "d0dc8686",
   "metadata": {},
   "outputs": [],
   "source": [
    "s = 'hello'\n",
    "for i, ch in enumerate(s): print(i, ch)"
   ]
  },
  {
   "cell_type": "code",
   "execution_count": null,
   "id": "a92be644",
   "metadata": {},
   "outputs": [],
   "source": [
    "names = ['a', 'b', 'c']\n",
    "scores = [85, 90, 95]\n",
    "result = list(zip(names, scores))\n",
    "print(result)"
   ]
  },
  {
   "cell_type": "code",
   "execution_count": null,
   "id": "36b0ed64",
   "metadata": {},
   "outputs": [],
   "source": [
    "nums = [1, 2, 3, 4]\n",
    "result = list(map(lambda x: x * 2, nums))\n",
    "print(result)"
   ]
  },
  {
   "cell_type": "code",
   "execution_count": null,
   "id": "af765422",
   "metadata": {},
   "outputs": [],
   "source": [
    "lst = ['a', 'b', 'c']\n",
    "for index, value in enumerate(lst): print(index, value)"
   ]
  },
  {
   "cell_type": "code",
   "execution_count": null,
   "id": "1a56ee00",
   "metadata": {},
   "outputs": [],
   "source": [
    "x = lambda a, b : a * b\n",
    "print(x(5, 6))"
   ]
  },
  {
   "cell_type": "code",
   "execution_count": null,
   "id": "e39c085c",
   "metadata": {},
   "outputs": [],
   "source": [
    "x = lambda a, b, c : a + b + c\n",
    "print(x(1, 2, 3))"
   ]
  },
  {
   "cell_type": "code",
   "execution_count": null,
   "id": "1df2cc34",
   "metadata": {},
   "outputs": [],
   "source": [
    "words = ['hello', 'world']\n",
    "result = list(map(str.upper, words))\n",
    "print(result)"
   ]
  },
  {
   "cell_type": "code",
   "execution_count": null,
   "id": "49a21084",
   "metadata": {},
   "outputs": [],
   "source": [
    "names = ['Amy', 'Ben', 'Cathy', 'Dan']\n",
    "result = list(filter(lambda x: x.startswith('C'), names))\n",
    "print(result)"
   ]
  },
  {
   "cell_type": "code",
   "execution_count": null,
   "id": "3614a18d",
   "metadata": {},
   "outputs": [],
   "source": [
    "nums = [1, 2, 3, 4, 5, 6]\n",
    "result = list(filter(lambda x: x % 2 == 0, nums))\n",
    "print(result)"
   ]
  },
  {
   "cell_type": "code",
   "execution_count": null,
   "id": "b96880c9",
   "metadata": {},
   "outputs": [],
   "source": [
    "x = lambda a, b, c : a + b + c\n",
    "print(x(1, 2, 3))"
   ]
  },
  {
   "cell_type": "code",
   "execution_count": null,
   "id": "e8071263",
   "metadata": {},
   "outputs": [],
   "source": [
    "x = lambda a, b, c : a + b + c\n",
    "print(x(1, 2, 3))"
   ]
  },
  {
   "cell_type": "code",
   "execution_count": null,
   "id": "bf2d9138",
   "metadata": {},
   "outputs": [],
   "source": [
    "from functools import reduce\n",
    "nums = [1, 2, 3, 4]\n",
    "result = reduce(lambda x, y: x * y, nums)\n",
    "print(result)"
   ]
  },
  {
   "cell_type": "code",
   "execution_count": null,
   "id": "1fec7301",
   "metadata": {},
   "outputs": [],
   "source": [
    "x = [1, 2, 3]\n",
    "y = ['a', 'b', 'c']\n",
    "z = zip(x, y)\n",
    "print(list(z))"
   ]
  },
  {
   "cell_type": "code",
   "execution_count": null,
   "id": "adb53c4e",
   "metadata": {},
   "outputs": [],
   "source": [
    "x = lambda a : a + 10\n",
    "print(x(5))"
   ]
  },
  {
   "cell_type": "code",
   "execution_count": null,
   "id": "0f854fa3",
   "metadata": {},
   "outputs": [],
   "source": [
    "from functools import reduce\n",
    "nums = [1, 2, 3, 4]\n",
    "result = reduce(lambda x, y: x * y, nums)\n",
    "print(result)"
   ]
  },
  {
   "cell_type": "code",
   "execution_count": null,
   "id": "0d4947ca",
   "metadata": {},
   "outputs": [],
   "source": [
    "names = ['a', 'b', 'c']\n",
    "scores = [85, 90, 95]\n",
    "result = list(zip(names, scores))\n",
    "print(result)"
   ]
  },
  {
   "cell_type": "code",
   "execution_count": null,
   "id": "80ee70bb",
   "metadata": {},
   "outputs": [],
   "source": [
    "names = ['a', 'b', 'c']\n",
    "scores = [85, 90, 95]\n",
    "result = list(zip(names, scores))\n",
    "print(result)"
   ]
  },
  {
   "cell_type": "code",
   "execution_count": null,
   "id": "09773df2",
   "metadata": {},
   "outputs": [],
   "source": [
    "nums = [1, 2, 3, 4, 5, 6]\n",
    "result = list(filter(lambda x: x % 2 == 0, nums))\n",
    "print(result)"
   ]
  },
  {
   "cell_type": "code",
   "execution_count": null,
   "id": "05502a4c",
   "metadata": {},
   "outputs": [],
   "source": [
    "x = [1, 2, 3]\n",
    "y = ['a', 'b', 'c']\n",
    "z = zip(x, y)\n",
    "print(list(z))"
   ]
  },
  {
   "cell_type": "code",
   "execution_count": null,
   "id": "b6d0a300",
   "metadata": {},
   "outputs": [],
   "source": [
    "s = 'hello'\n",
    "for i, ch in enumerate(s): print(i, ch)"
   ]
  },
  {
   "cell_type": "code",
   "execution_count": null,
   "id": "2bce990b",
   "metadata": {},
   "outputs": [],
   "source": [
    "words = ['hello', 'world']\n",
    "result = list(map(str.upper, words))\n",
    "print(result)"
   ]
  },
  {
   "cell_type": "code",
   "execution_count": null,
   "id": "d9681ea0",
   "metadata": {},
   "outputs": [],
   "source": [
    "words = ['hello', 'world']\n",
    "result = list(map(str.upper, words))\n",
    "print(result)"
   ]
  },
  {
   "cell_type": "code",
   "execution_count": null,
   "id": "e7337368",
   "metadata": {},
   "outputs": [],
   "source": [
    "x = lambda a : a + 10\n",
    "print(x(5))"
   ]
  },
  {
   "cell_type": "code",
   "execution_count": null,
   "id": "50283715",
   "metadata": {},
   "outputs": [],
   "source": [
    "words = ['hello', 'world']\n",
    "result = list(map(str.upper, words))\n",
    "print(result)"
   ]
  },
  {
   "cell_type": "code",
   "execution_count": null,
   "id": "ebd06687",
   "metadata": {},
   "outputs": [],
   "source": [
    "x = lambda a, b, c : a + b + c\n",
    "print(x(1, 2, 3))"
   ]
  },
  {
   "cell_type": "code",
   "execution_count": null,
   "id": "2a4d58a8",
   "metadata": {},
   "outputs": [],
   "source": [
    "names = ['Amy', 'Ben', 'Cathy', 'Dan']\n",
    "result = list(filter(lambda x: x.startswith('C'), names))\n",
    "print(result)"
   ]
  },
  {
   "cell_type": "code",
   "execution_count": null,
   "id": "dd882423",
   "metadata": {},
   "outputs": [],
   "source": [
    "words = ['hello', 'world']\n",
    "result = list(map(str.upper, words))\n",
    "print(result)"
   ]
  },
  {
   "cell_type": "code",
   "execution_count": null,
   "id": "7d1d36c8",
   "metadata": {},
   "outputs": [],
   "source": [
    "x = lambda a, b : a * b\n",
    "print(x(5, 6))"
   ]
  },
  {
   "cell_type": "code",
   "execution_count": null,
   "id": "c85d8d5f",
   "metadata": {},
   "outputs": [],
   "source": [
    "x = [1, 2, 3]\n",
    "y = ['a', 'b', 'c']\n",
    "z = zip(x, y)\n",
    "print(list(z))"
   ]
  },
  {
   "cell_type": "code",
   "execution_count": null,
   "id": "8ee61c46",
   "metadata": {},
   "outputs": [],
   "source": [
    "from functools import reduce\n",
    "nums = [1, 2, 3, 4]\n",
    "result = reduce(lambda x, y: x + y, nums)\n",
    "print(result)"
   ]
  },
  {
   "cell_type": "code",
   "execution_count": null,
   "id": "050926a8",
   "metadata": {},
   "outputs": [],
   "source": [
    "x = lambda a, b, c : a + b + c\n",
    "print(x(1, 2, 3))"
   ]
  },
  {
   "cell_type": "code",
   "execution_count": null,
   "id": "de807371",
   "metadata": {},
   "outputs": [],
   "source": [
    "x = [1, 2, 3]\n",
    "y = ['a', 'b', 'c']\n",
    "z = zip(x, y)\n",
    "print(list(z))"
   ]
  },
  {
   "cell_type": "code",
   "execution_count": null,
   "id": "989f1c85",
   "metadata": {},
   "outputs": [],
   "source": [
    "x = lambda a, b : a * b\n",
    "print(x(5, 6))"
   ]
  },
  {
   "cell_type": "code",
   "execution_count": null,
   "id": "9204fd97",
   "metadata": {},
   "outputs": [],
   "source": [
    "nums = [1, 2, 3, 4, 5, 6]\n",
    "result = list(filter(lambda x: x % 2 == 0, nums))\n",
    "print(result)"
   ]
  },
  {
   "cell_type": "code",
   "execution_count": null,
   "id": "dcc08f22",
   "metadata": {},
   "outputs": [],
   "source": [
    "x = [1, 2, 3]\n",
    "y = ['a', 'b', 'c']\n",
    "z = zip(x, y)\n",
    "print(list(z))"
   ]
  },
  {
   "cell_type": "code",
   "execution_count": null,
   "id": "54d251a4",
   "metadata": {},
   "outputs": [],
   "source": [
    "s = 'hello'\n",
    "for i, ch in enumerate(s): print(i, ch)"
   ]
  },
  {
   "cell_type": "code",
   "execution_count": null,
   "id": "7527344c",
   "metadata": {},
   "outputs": [],
   "source": [
    "words = ['hello', 'world']\n",
    "result = list(map(str.upper, words))\n",
    "print(result)"
   ]
  },
  {
   "cell_type": "code",
   "execution_count": null,
   "id": "27c3447c",
   "metadata": {},
   "outputs": [],
   "source": [
    "x = lambda a, b, c : a + b + c\n",
    "print(x(1, 2, 3))"
   ]
  },
  {
   "cell_type": "code",
   "execution_count": null,
   "id": "f8141a9b",
   "metadata": {},
   "outputs": [],
   "source": [
    "s = 'hello'\n",
    "for i, ch in enumerate(s): print(i, ch)"
   ]
  },
  {
   "cell_type": "code",
   "execution_count": null,
   "id": "f08710d3",
   "metadata": {},
   "outputs": [],
   "source": [
    "x = lambda a, b : a * b\n",
    "print(x(5, 6))"
   ]
  },
  {
   "cell_type": "code",
   "execution_count": null,
   "id": "2f0a325b",
   "metadata": {},
   "outputs": [],
   "source": [
    "from functools import reduce\n",
    "nums = [1, 2, 3, 4]\n",
    "result = reduce(lambda x, y: x + y, nums)\n",
    "print(result)"
   ]
  },
  {
   "cell_type": "code",
   "execution_count": null,
   "id": "67c3589b",
   "metadata": {},
   "outputs": [],
   "source": [
    "s = 'hello'\n",
    "for i, ch in enumerate(s): print(i, ch)"
   ]
  },
  {
   "cell_type": "code",
   "execution_count": null,
   "id": "50475b3d",
   "metadata": {},
   "outputs": [],
   "source": [
    "x = lambda a, b, c : a + b + c\n",
    "print(x(1, 2, 3))"
   ]
  },
  {
   "cell_type": "code",
   "execution_count": null,
   "id": "bf9e527f",
   "metadata": {},
   "outputs": [],
   "source": [
    "nums = [1, 2, 3, 4, 5, 6]\n",
    "result = list(filter(lambda x: x % 2 == 0, nums))\n",
    "print(result)"
   ]
  },
  {
   "cell_type": "code",
   "execution_count": null,
   "id": "fe7cff0c",
   "metadata": {},
   "outputs": [],
   "source": [
    "x = lambda a : a + 10\n",
    "print(x(5))"
   ]
  },
  {
   "cell_type": "code",
   "execution_count": null,
   "id": "2d63e030",
   "metadata": {},
   "outputs": [],
   "source": [
    "x = [1, 2, 3]\n",
    "y = ['a', 'b', 'c']\n",
    "z = zip(x, y)\n",
    "print(list(z))"
   ]
  },
  {
   "cell_type": "code",
   "execution_count": null,
   "id": "3c70a17c",
   "metadata": {},
   "outputs": [],
   "source": [
    "s = 'hello'\n",
    "for i, ch in enumerate(s): print(i, ch)"
   ]
  },
  {
   "cell_type": "code",
   "execution_count": null,
   "id": "f7332f25",
   "metadata": {},
   "outputs": [],
   "source": [
    "x = lambda a, b, c : a + b + c\n",
    "print(x(1, 2, 3))"
   ]
  },
  {
   "cell_type": "code",
   "execution_count": null,
   "id": "228b1055",
   "metadata": {},
   "outputs": [],
   "source": [
    "nums = [1, 2, 3, 4, 5, 6]\n",
    "result = list(filter(lambda x: x % 2 == 0, nums))\n",
    "print(result)"
   ]
  },
  {
   "cell_type": "code",
   "execution_count": null,
   "id": "850a39b8",
   "metadata": {},
   "outputs": [],
   "source": [
    "from functools import reduce\n",
    "nums = [1, 2, 3, 4]\n",
    "result = reduce(lambda x, y: x + y, nums)\n",
    "print(result)"
   ]
  },
  {
   "cell_type": "code",
   "execution_count": null,
   "id": "852cb62a",
   "metadata": {},
   "outputs": [],
   "source": [
    "from functools import reduce\n",
    "nums = [1, 2, 3, 4]\n",
    "result = reduce(lambda x, y: x + y, nums)\n",
    "print(result)"
   ]
  },
  {
   "cell_type": "code",
   "execution_count": null,
   "id": "06e2afec",
   "metadata": {},
   "outputs": [],
   "source": [
    "words = ['hello', 'world']\n",
    "result = list(map(str.upper, words))\n",
    "print(result)"
   ]
  },
  {
   "cell_type": "code",
   "execution_count": null,
   "id": "09b59464",
   "metadata": {},
   "outputs": [],
   "source": [
    "x = lambda a : a + 10\n",
    "print(x(5))"
   ]
  },
  {
   "cell_type": "code",
   "execution_count": null,
   "id": "f63199a7",
   "metadata": {},
   "outputs": [],
   "source": [
    "words = ['hello', 'world']\n",
    "result = list(map(str.upper, words))\n",
    "print(result)"
   ]
  },
  {
   "cell_type": "code",
   "execution_count": null,
   "id": "02f4fb77",
   "metadata": {},
   "outputs": [],
   "source": [
    "names = ['a', 'b', 'c']\n",
    "scores = [85, 90, 95]\n",
    "result = list(zip(names, scores))\n",
    "print(result)"
   ]
  },
  {
   "cell_type": "code",
   "execution_count": null,
   "id": "93d9ff49",
   "metadata": {},
   "outputs": [],
   "source": [
    "x = [1, 2, 3]\n",
    "y = ['a', 'b', 'c']\n",
    "z = zip(x, y)\n",
    "print(list(z))"
   ]
  },
  {
   "cell_type": "code",
   "execution_count": null,
   "id": "4e00104e",
   "metadata": {},
   "outputs": [],
   "source": [
    "names = ['Amy', 'Ben', 'Cathy', 'Dan']\n",
    "result = list(filter(lambda x: x.startswith('C'), names))\n",
    "print(result)"
   ]
  },
  {
   "cell_type": "code",
   "execution_count": null,
   "id": "df22f37a",
   "metadata": {},
   "outputs": [],
   "source": [
    "nums = [1, 2, 3, 4, 5, 6]\n",
    "result = list(filter(lambda x: x % 2 == 0, nums))\n",
    "print(result)"
   ]
  },
  {
   "cell_type": "code",
   "execution_count": null,
   "id": "7ca847d9",
   "metadata": {},
   "outputs": [],
   "source": [
    "from functools import reduce\n",
    "nums = [1, 2, 3, 4]\n",
    "result = reduce(lambda x, y: x * y, nums)\n",
    "print(result)"
   ]
  },
  {
   "cell_type": "code",
   "execution_count": null,
   "id": "c2697fbf",
   "metadata": {},
   "outputs": [],
   "source": [
    "nums = [1, 2, 3, 4, 5, 6]\n",
    "result = list(filter(lambda x: x % 2 == 0, nums))\n",
    "print(result)"
   ]
  },
  {
   "cell_type": "code",
   "execution_count": null,
   "id": "475c4381",
   "metadata": {},
   "outputs": [],
   "source": [
    "nums = [1, 2, 3, 4]\n",
    "result = list(map(lambda x: x * 2, nums))\n",
    "print(result)"
   ]
  },
  {
   "cell_type": "code",
   "execution_count": null,
   "id": "6324addd",
   "metadata": {},
   "outputs": [],
   "source": [
    "words = ['hello', 'world']\n",
    "result = list(map(str.upper, words))\n",
    "print(result)"
   ]
  },
  {
   "cell_type": "code",
   "execution_count": null,
   "id": "ebcf5437",
   "metadata": {},
   "outputs": [],
   "source": [
    "x = lambda a, b, c : a + b + c\n",
    "print(x(1, 2, 3))"
   ]
  },
  {
   "cell_type": "code",
   "execution_count": null,
   "id": "c85f4ac1",
   "metadata": {},
   "outputs": [],
   "source": [
    "nums = [1, 2, 3, 4]\n",
    "result = list(map(lambda x: x * 2, nums))\n",
    "print(result)"
   ]
  },
  {
   "cell_type": "code",
   "execution_count": null,
   "id": "f019fe58",
   "metadata": {},
   "outputs": [],
   "source": [
    "nums = [1, 2, 3, 4]\n",
    "result = list(map(lambda x: x * 2, nums))\n",
    "print(result)"
   ]
  },
  {
   "cell_type": "code",
   "execution_count": null,
   "id": "56496320",
   "metadata": {},
   "outputs": [],
   "source": [
    "from functools import reduce\n",
    "nums = [1, 2, 3, 4]\n",
    "result = reduce(lambda x, y: x + y, nums)\n",
    "print(result)"
   ]
  },
  {
   "cell_type": "code",
   "execution_count": null,
   "id": "fbe68d24",
   "metadata": {},
   "outputs": [],
   "source": [
    "names = ['a', 'b', 'c']\n",
    "scores = [85, 90, 95]\n",
    "result = list(zip(names, scores))\n",
    "print(result)"
   ]
  },
  {
   "cell_type": "code",
   "execution_count": null,
   "id": "aa5f7c49",
   "metadata": {},
   "outputs": [],
   "source": [
    "nums = [1, 2, 3, 4, 5, 6]\n",
    "result = list(filter(lambda x: x % 2 == 0, nums))\n",
    "print(result)"
   ]
  },
  {
   "cell_type": "code",
   "execution_count": null,
   "id": "6095df9f",
   "metadata": {},
   "outputs": [],
   "source": [
    "x = [1, 2, 3]\n",
    "y = ['a', 'b', 'c']\n",
    "z = zip(x, y)\n",
    "print(list(z))"
   ]
  },
  {
   "cell_type": "code",
   "execution_count": null,
   "id": "7314f96c",
   "metadata": {},
   "outputs": [],
   "source": [
    "nums = [1, 2, 3, 4, 5, 6]\n",
    "result = list(filter(lambda x: x % 2 == 0, nums))\n",
    "print(result)"
   ]
  },
  {
   "cell_type": "code",
   "execution_count": null,
   "id": "9d58e289",
   "metadata": {},
   "outputs": [],
   "source": [
    "words = ['hello', 'world']\n",
    "result = list(map(str.upper, words))\n",
    "print(result)"
   ]
  },
  {
   "cell_type": "code",
   "execution_count": null,
   "id": "6b5af06d",
   "metadata": {},
   "outputs": [],
   "source": [
    "from functools import reduce\n",
    "nums = [1, 2, 3, 4]\n",
    "result = reduce(lambda x, y: x * y, nums)\n",
    "print(result)"
   ]
  },
  {
   "cell_type": "code",
   "execution_count": null,
   "id": "016a6e74",
   "metadata": {},
   "outputs": [],
   "source": [
    "nums = [1, 2, 3, 4]\n",
    "result = list(map(lambda x: x * 2, nums))\n",
    "print(result)"
   ]
  },
  {
   "cell_type": "code",
   "execution_count": null,
   "id": "b97055e7",
   "metadata": {},
   "outputs": [],
   "source": [
    "from functools import reduce\n",
    "nums = [1, 2, 3, 4]\n",
    "result = reduce(lambda x, y: x * y, nums)\n",
    "print(result)"
   ]
  },
  {
   "cell_type": "code",
   "execution_count": null,
   "id": "e5df9374",
   "metadata": {},
   "outputs": [],
   "source": [
    "nums = [1, 2, 3, 4]\n",
    "result = list(map(lambda x: x * 2, nums))\n",
    "print(result)"
   ]
  },
  {
   "cell_type": "code",
   "execution_count": null,
   "id": "7939768c",
   "metadata": {},
   "outputs": [],
   "source": [
    "x = lambda a : a + 10\n",
    "print(x(5))"
   ]
  },
  {
   "cell_type": "code",
   "execution_count": null,
   "id": "98361b64",
   "metadata": {},
   "outputs": [],
   "source": [
    "lst = ['a', 'b', 'c']\n",
    "for index, value in enumerate(lst): print(index, value)"
   ]
  },
  {
   "cell_type": "code",
   "execution_count": null,
   "id": "03b57885",
   "metadata": {},
   "outputs": [],
   "source": [
    "from functools import reduce\n",
    "nums = [1, 2, 3, 4]\n",
    "result = reduce(lambda x, y: x + y, nums)\n",
    "print(result)"
   ]
  },
  {
   "cell_type": "code",
   "execution_count": null,
   "id": "7031af6b",
   "metadata": {},
   "outputs": [],
   "source": [
    "nums = [1, 2, 3, 4]\n",
    "result = list(map(lambda x: x * 2, nums))\n",
    "print(result)"
   ]
  },
  {
   "cell_type": "code",
   "execution_count": null,
   "id": "7f04e8f6",
   "metadata": {},
   "outputs": [],
   "source": [
    "lst = ['a', 'b', 'c']\n",
    "for index, value in enumerate(lst): print(index, value)"
   ]
  },
  {
   "cell_type": "code",
   "execution_count": null,
   "id": "bca23930",
   "metadata": {},
   "outputs": [],
   "source": [
    "nums = [1, 2, 3, 4]\n",
    "result = list(map(lambda x: x * 2, nums))\n",
    "print(result)"
   ]
  },
  {
   "cell_type": "code",
   "execution_count": null,
   "id": "07248a74",
   "metadata": {},
   "outputs": [],
   "source": [
    "nums = [1, 2, 3, 4, 5, 6]\n",
    "result = list(filter(lambda x: x % 2 == 0, nums))\n",
    "print(result)"
   ]
  },
  {
   "cell_type": "code",
   "execution_count": null,
   "id": "07138a76",
   "metadata": {},
   "outputs": [],
   "source": [
    "from functools import reduce\n",
    "nums = [1, 2, 3, 4]\n",
    "result = reduce(lambda x, y: x + y, nums)\n",
    "print(result)"
   ]
  },
  {
   "cell_type": "code",
   "execution_count": null,
   "id": "05162fba",
   "metadata": {},
   "outputs": [],
   "source": [
    "x = [1, 2, 3]\n",
    "y = ['a', 'b', 'c']\n",
    "z = zip(x, y)\n",
    "print(list(z))"
   ]
  },
  {
   "cell_type": "code",
   "execution_count": null,
   "id": "307f570e",
   "metadata": {},
   "outputs": [],
   "source": [
    "x = lambda a, b, c : a + b + c\n",
    "print(x(1, 2, 3))"
   ]
  },
  {
   "cell_type": "code",
   "execution_count": null,
   "id": "295e0825",
   "metadata": {},
   "outputs": [],
   "source": [
    "x = lambda a, b : a * b\n",
    "print(x(5, 6))"
   ]
  },
  {
   "cell_type": "code",
   "execution_count": null,
   "id": "80f6258e",
   "metadata": {},
   "outputs": [],
   "source": [
    "names = ['a', 'b', 'c']\n",
    "scores = [85, 90, 95]\n",
    "result = list(zip(names, scores))\n",
    "print(result)"
   ]
  },
  {
   "cell_type": "code",
   "execution_count": null,
   "id": "4a69837f",
   "metadata": {},
   "outputs": [],
   "source": [
    "from functools import reduce\n",
    "nums = [1, 2, 3, 4]\n",
    "result = reduce(lambda x, y: x + y, nums)\n",
    "print(result)"
   ]
  },
  {
   "cell_type": "code",
   "execution_count": null,
   "id": "6d87f216",
   "metadata": {},
   "outputs": [],
   "source": [
    "from functools import reduce\n",
    "nums = [1, 2, 3, 4]\n",
    "result = reduce(lambda x, y: x + y, nums)\n",
    "print(result)"
   ]
  },
  {
   "cell_type": "code",
   "execution_count": null,
   "id": "66455813",
   "metadata": {},
   "outputs": [],
   "source": [
    "x = lambda a, b : a * b\n",
    "print(x(5, 6))"
   ]
  },
  {
   "cell_type": "code",
   "execution_count": null,
   "id": "d37b2f60",
   "metadata": {},
   "outputs": [],
   "source": [
    "from functools import reduce\n",
    "nums = [1, 2, 3, 4]\n",
    "result = reduce(lambda x, y: x + y, nums)\n",
    "print(result)"
   ]
  },
  {
   "cell_type": "code",
   "execution_count": null,
   "id": "0ced8e93",
   "metadata": {},
   "outputs": [],
   "source": [
    "x = lambda a, b : a * b\n",
    "print(x(5, 6))"
   ]
  },
  {
   "cell_type": "code",
   "execution_count": null,
   "id": "27cb416e",
   "metadata": {},
   "outputs": [],
   "source": [
    "x = lambda a : a + 10\n",
    "print(x(5))"
   ]
  },
  {
   "cell_type": "code",
   "execution_count": null,
   "id": "b92c44a1",
   "metadata": {},
   "outputs": [],
   "source": [
    "nums = [1, 2, 3, 4, 5, 6]\n",
    "result = list(filter(lambda x: x % 2 == 0, nums))\n",
    "print(result)"
   ]
  },
  {
   "cell_type": "code",
   "execution_count": null,
   "id": "875d2ce3",
   "metadata": {},
   "outputs": [],
   "source": [
    "nums = [1, 2, 3, 4]\n",
    "result = list(map(lambda x: x * 2, nums))\n",
    "print(result)"
   ]
  },
  {
   "cell_type": "code",
   "execution_count": null,
   "id": "c871be68",
   "metadata": {},
   "outputs": [],
   "source": [
    "from functools import reduce\n",
    "nums = [1, 2, 3, 4]\n",
    "result = reduce(lambda x, y: x + y, nums)\n",
    "print(result)"
   ]
  },
  {
   "cell_type": "code",
   "execution_count": null,
   "id": "a0ea5343",
   "metadata": {},
   "outputs": [],
   "source": [
    "nums = [1, 2, 3, 4, 5, 6]\n",
    "result = list(filter(lambda x: x % 2 == 0, nums))\n",
    "print(result)"
   ]
  },
  {
   "cell_type": "code",
   "execution_count": null,
   "id": "62e1525d",
   "metadata": {},
   "outputs": [],
   "source": [
    "names = ['Amy', 'Ben', 'Cathy', 'Dan']\n",
    "result = list(filter(lambda x: x.startswith('C'), names))\n",
    "print(result)"
   ]
  },
  {
   "cell_type": "code",
   "execution_count": null,
   "id": "ac809567",
   "metadata": {},
   "outputs": [],
   "source": [
    "x = lambda a, b, c : a + b + c\n",
    "print(x(1, 2, 3))"
   ]
  },
  {
   "cell_type": "code",
   "execution_count": null,
   "id": "859eef61",
   "metadata": {},
   "outputs": [],
   "source": [
    "x = lambda a, b, c : a + b + c\n",
    "print(x(1, 2, 3))"
   ]
  },
  {
   "cell_type": "code",
   "execution_count": null,
   "id": "feb5ab4e",
   "metadata": {},
   "outputs": [],
   "source": [
    "names = ['a', 'b', 'c']\n",
    "scores = [85, 90, 95]\n",
    "result = list(zip(names, scores))\n",
    "print(result)"
   ]
  },
  {
   "cell_type": "code",
   "execution_count": null,
   "id": "85bd64bb",
   "metadata": {},
   "outputs": [],
   "source": [
    "words = ['hello', 'world']\n",
    "result = list(map(str.upper, words))\n",
    "print(result)"
   ]
  },
  {
   "cell_type": "code",
   "execution_count": null,
   "id": "40b9bccc",
   "metadata": {},
   "outputs": [],
   "source": [
    "names = ['Amy', 'Ben', 'Cathy', 'Dan']\n",
    "result = list(filter(lambda x: x.startswith('C'), names))\n",
    "print(result)"
   ]
  },
  {
   "cell_type": "code",
   "execution_count": null,
   "id": "6337c66b",
   "metadata": {},
   "outputs": [],
   "source": [
    "x = lambda a, b, c : a + b + c\n",
    "print(x(1, 2, 3))"
   ]
  },
  {
   "cell_type": "code",
   "execution_count": null,
   "id": "1c4fa313",
   "metadata": {},
   "outputs": [],
   "source": [
    "nums = [1, 2, 3, 4]\n",
    "result = list(map(lambda x: x * 2, nums))\n",
    "print(result)"
   ]
  },
  {
   "cell_type": "code",
   "execution_count": null,
   "id": "0bc0af47",
   "metadata": {},
   "outputs": [],
   "source": [
    "names = ['Amy', 'Ben', 'Cathy', 'Dan']\n",
    "result = list(filter(lambda x: x.startswith('C'), names))\n",
    "print(result)"
   ]
  },
  {
   "cell_type": "code",
   "execution_count": null,
   "id": "a5584130",
   "metadata": {},
   "outputs": [],
   "source": [
    "words = ['hello', 'world']\n",
    "result = list(map(str.upper, words))\n",
    "print(result)"
   ]
  },
  {
   "cell_type": "code",
   "execution_count": null,
   "id": "099b49b4",
   "metadata": {},
   "outputs": [],
   "source": [
    "words = ['hello', 'world']\n",
    "result = list(map(str.upper, words))\n",
    "print(result)"
   ]
  },
  {
   "cell_type": "code",
   "execution_count": null,
   "id": "848d4ad4",
   "metadata": {},
   "outputs": [],
   "source": [
    "x = [1, 2, 3]\n",
    "y = ['a', 'b', 'c']\n",
    "z = zip(x, y)\n",
    "print(list(z))"
   ]
  },
  {
   "cell_type": "code",
   "execution_count": null,
   "id": "fddfc5b5",
   "metadata": {},
   "outputs": [],
   "source": [
    "x = lambda a : a + 10\n",
    "print(x(5))"
   ]
  },
  {
   "cell_type": "code",
   "execution_count": null,
   "id": "5da4b15e",
   "metadata": {},
   "outputs": [],
   "source": [
    "lst = ['a', 'b', 'c']\n",
    "for index, value in enumerate(lst): print(index, value)"
   ]
  },
  {
   "cell_type": "code",
   "execution_count": null,
   "id": "ce0f2b53",
   "metadata": {},
   "outputs": [],
   "source": [
    "nums = [1, 2, 3, 4]\n",
    "result = list(map(lambda x: x * 2, nums))\n",
    "print(result)"
   ]
  },
  {
   "cell_type": "code",
   "execution_count": null,
   "id": "a1a41d49",
   "metadata": {},
   "outputs": [],
   "source": [
    "names = ['Amy', 'Ben', 'Cathy', 'Dan']\n",
    "result = list(filter(lambda x: x.startswith('C'), names))\n",
    "print(result)"
   ]
  },
  {
   "cell_type": "code",
   "execution_count": null,
   "id": "cf60bda0",
   "metadata": {},
   "outputs": [],
   "source": [
    "s = 'hello'\n",
    "for i, ch in enumerate(s): print(i, ch)"
   ]
  },
  {
   "cell_type": "code",
   "execution_count": null,
   "id": "cf9ce7ea",
   "metadata": {},
   "outputs": [],
   "source": [
    "lst = ['a', 'b', 'c']\n",
    "for index, value in enumerate(lst): print(index, value)"
   ]
  },
  {
   "cell_type": "code",
   "execution_count": null,
   "id": "61f091e3",
   "metadata": {},
   "outputs": [],
   "source": [
    "nums = [1, 2, 3, 4, 5, 6]\n",
    "result = list(filter(lambda x: x % 2 == 0, nums))\n",
    "print(result)"
   ]
  },
  {
   "cell_type": "code",
   "execution_count": null,
   "id": "47d31211",
   "metadata": {},
   "outputs": [],
   "source": [
    "names = ['Amy', 'Ben', 'Cathy', 'Dan']\n",
    "result = list(filter(lambda x: x.startswith('C'), names))\n",
    "print(result)"
   ]
  },
  {
   "cell_type": "code",
   "execution_count": null,
   "id": "e95fb2d7",
   "metadata": {},
   "outputs": [],
   "source": [
    "x = lambda a : a + 10\n",
    "print(x(5))"
   ]
  },
  {
   "cell_type": "code",
   "execution_count": null,
   "id": "82276d48",
   "metadata": {},
   "outputs": [],
   "source": [
    "x = lambda a : a + 10\n",
    "print(x(5))"
   ]
  },
  {
   "cell_type": "code",
   "execution_count": null,
   "id": "06fcaee5",
   "metadata": {},
   "outputs": [],
   "source": [
    "x = [1, 2, 3]\n",
    "y = ['a', 'b', 'c']\n",
    "z = zip(x, y)\n",
    "print(list(z))"
   ]
  },
  {
   "cell_type": "code",
   "execution_count": null,
   "id": "9696cadf",
   "metadata": {},
   "outputs": [],
   "source": [
    "lst = ['a', 'b', 'c']\n",
    "for index, value in enumerate(lst): print(index, value)"
   ]
  },
  {
   "cell_type": "code",
   "execution_count": null,
   "id": "f9629f4c",
   "metadata": {},
   "outputs": [],
   "source": [
    "x = lambda a, b : a * b\n",
    "print(x(5, 6))"
   ]
  },
  {
   "cell_type": "code",
   "execution_count": null,
   "id": "884537f8",
   "metadata": {},
   "outputs": [],
   "source": [
    "x = [1, 2, 3]\n",
    "y = ['a', 'b', 'c']\n",
    "z = zip(x, y)\n",
    "print(list(z))"
   ]
  },
  {
   "cell_type": "code",
   "execution_count": null,
   "id": "91f7b4c5",
   "metadata": {},
   "outputs": [],
   "source": [
    "x = [1, 2, 3]\n",
    "y = ['a', 'b', 'c']\n",
    "z = zip(x, y)\n",
    "print(list(z))"
   ]
  },
  {
   "cell_type": "code",
   "execution_count": null,
   "id": "ef68ad2b",
   "metadata": {},
   "outputs": [],
   "source": [
    "s = 'hello'\n",
    "for i, ch in enumerate(s): print(i, ch)"
   ]
  },
  {
   "cell_type": "code",
   "execution_count": null,
   "id": "52cfaac3",
   "metadata": {},
   "outputs": [],
   "source": [
    "names = ['a', 'b', 'c']\n",
    "scores = [85, 90, 95]\n",
    "result = list(zip(names, scores))\n",
    "print(result)"
   ]
  },
  {
   "cell_type": "code",
   "execution_count": null,
   "id": "8a55b74b",
   "metadata": {},
   "outputs": [],
   "source": [
    "x = lambda a, b : a * b\n",
    "print(x(5, 6))"
   ]
  },
  {
   "cell_type": "code",
   "execution_count": null,
   "id": "31b71154",
   "metadata": {},
   "outputs": [],
   "source": [
    "from functools import reduce\n",
    "nums = [1, 2, 3, 4]\n",
    "result = reduce(lambda x, y: x + y, nums)\n",
    "print(result)"
   ]
  },
  {
   "cell_type": "code",
   "execution_count": null,
   "id": "d545b6ac",
   "metadata": {},
   "outputs": [],
   "source": [
    "x = lambda a, b, c : a + b + c\n",
    "print(x(1, 2, 3))"
   ]
  },
  {
   "cell_type": "code",
   "execution_count": null,
   "id": "f5e43677",
   "metadata": {},
   "outputs": [],
   "source": [
    "x = [1, 2, 3]\n",
    "y = ['a', 'b', 'c']\n",
    "z = zip(x, y)\n",
    "print(list(z))"
   ]
  },
  {
   "cell_type": "code",
   "execution_count": null,
   "id": "d6439d4a",
   "metadata": {},
   "outputs": [],
   "source": [
    "from functools import reduce\n",
    "nums = [1, 2, 3, 4]\n",
    "result = reduce(lambda x, y: x + y, nums)\n",
    "print(result)"
   ]
  },
  {
   "cell_type": "code",
   "execution_count": null,
   "id": "de802c79",
   "metadata": {},
   "outputs": [],
   "source": [
    "x = lambda a, b : a * b\n",
    "print(x(5, 6))"
   ]
  },
  {
   "cell_type": "code",
   "execution_count": null,
   "id": "9a5ef6de",
   "metadata": {},
   "outputs": [],
   "source": [
    "from functools import reduce\n",
    "nums = [1, 2, 3, 4]\n",
    "result = reduce(lambda x, y: x * y, nums)\n",
    "print(result)"
   ]
  },
  {
   "cell_type": "code",
   "execution_count": null,
   "id": "183aad38",
   "metadata": {},
   "outputs": [],
   "source": [
    "x = lambda a : a + 10\n",
    "print(x(5))"
   ]
  },
  {
   "cell_type": "code",
   "execution_count": null,
   "id": "89e1adb6",
   "metadata": {},
   "outputs": [],
   "source": [
    "x = [1, 2, 3]\n",
    "y = ['a', 'b', 'c']\n",
    "z = zip(x, y)\n",
    "print(list(z))"
   ]
  },
  {
   "cell_type": "code",
   "execution_count": null,
   "id": "774e131d",
   "metadata": {},
   "outputs": [],
   "source": [
    "x = [1, 2, 3]\n",
    "y = ['a', 'b', 'c']\n",
    "z = zip(x, y)\n",
    "print(list(z))"
   ]
  },
  {
   "cell_type": "code",
   "execution_count": null,
   "id": "0a42dcf4",
   "metadata": {},
   "outputs": [],
   "source": [
    "from functools import reduce\n",
    "nums = [1, 2, 3, 4]\n",
    "result = reduce(lambda x, y: x + y, nums)\n",
    "print(result)"
   ]
  },
  {
   "cell_type": "code",
   "execution_count": null,
   "id": "3fe66730",
   "metadata": {},
   "outputs": [],
   "source": [
    "x = lambda a : a + 10\n",
    "print(x(5))"
   ]
  },
  {
   "cell_type": "code",
   "execution_count": null,
   "id": "2b75154c",
   "metadata": {},
   "outputs": [],
   "source": [
    "x = [1, 2, 3]\n",
    "y = ['a', 'b', 'c']\n",
    "z = zip(x, y)\n",
    "print(list(z))"
   ]
  },
  {
   "cell_type": "code",
   "execution_count": null,
   "id": "e7e9671b",
   "metadata": {},
   "outputs": [],
   "source": [
    "nums = [1, 2, 3, 4, 5, 6]\n",
    "result = list(filter(lambda x: x % 2 == 0, nums))\n",
    "print(result)"
   ]
  },
  {
   "cell_type": "code",
   "execution_count": null,
   "id": "e0bb96b1",
   "metadata": {},
   "outputs": [],
   "source": [
    "from functools import reduce\n",
    "nums = [1, 2, 3, 4]\n",
    "result = reduce(lambda x, y: x + y, nums)\n",
    "print(result)"
   ]
  },
  {
   "cell_type": "code",
   "execution_count": null,
   "id": "84cb112e",
   "metadata": {},
   "outputs": [],
   "source": [
    "x = lambda a, b, c : a + b + c\n",
    "print(x(1, 2, 3))"
   ]
  },
  {
   "cell_type": "code",
   "execution_count": null,
   "id": "d1f061d2",
   "metadata": {},
   "outputs": [],
   "source": [
    "from functools import reduce\n",
    "nums = [1, 2, 3, 4]\n",
    "result = reduce(lambda x, y: x + y, nums)\n",
    "print(result)"
   ]
  },
  {
   "cell_type": "code",
   "execution_count": null,
   "id": "968db040",
   "metadata": {},
   "outputs": [],
   "source": [
    "nums = [1, 2, 3, 4]\n",
    "result = list(map(lambda x: x * 2, nums))\n",
    "print(result)"
   ]
  },
  {
   "cell_type": "code",
   "execution_count": null,
   "id": "1b0c36b1",
   "metadata": {},
   "outputs": [],
   "source": [
    "words = ['hello', 'world']\n",
    "result = list(map(str.upper, words))\n",
    "print(result)"
   ]
  },
  {
   "cell_type": "code",
   "execution_count": null,
   "id": "9a011188",
   "metadata": {},
   "outputs": [],
   "source": [
    "x = lambda a, b : a * b\n",
    "print(x(5, 6))"
   ]
  },
  {
   "cell_type": "code",
   "execution_count": null,
   "id": "ae74d6a3",
   "metadata": {},
   "outputs": [],
   "source": [
    "words = ['hello', 'world']\n",
    "result = list(map(str.upper, words))\n",
    "print(result)"
   ]
  },
  {
   "cell_type": "code",
   "execution_count": null,
   "id": "e0635283",
   "metadata": {},
   "outputs": [],
   "source": [
    "from functools import reduce\n",
    "nums = [1, 2, 3, 4]\n",
    "result = reduce(lambda x, y: x + y, nums)\n",
    "print(result)"
   ]
  },
  {
   "cell_type": "code",
   "execution_count": null,
   "id": "8daa4061",
   "metadata": {},
   "outputs": [],
   "source": [
    "x = lambda a : a + 10\n",
    "print(x(5))"
   ]
  },
  {
   "cell_type": "code",
   "execution_count": null,
   "id": "da4b8324",
   "metadata": {},
   "outputs": [],
   "source": [
    "s = 'hello'\n",
    "for i, ch in enumerate(s): print(i, ch)"
   ]
  },
  {
   "cell_type": "code",
   "execution_count": null,
   "id": "8fc5740c",
   "metadata": {},
   "outputs": [],
   "source": [
    "from functools import reduce\n",
    "nums = [1, 2, 3, 4]\n",
    "result = reduce(lambda x, y: x * y, nums)\n",
    "print(result)"
   ]
  },
  {
   "cell_type": "code",
   "execution_count": null,
   "id": "fa42a77e",
   "metadata": {},
   "outputs": [],
   "source": [
    "from functools import reduce\n",
    "nums = [1, 2, 3, 4]\n",
    "result = reduce(lambda x, y: x * y, nums)\n",
    "print(result)"
   ]
  },
  {
   "cell_type": "code",
   "execution_count": null,
   "id": "4404d548",
   "metadata": {},
   "outputs": [],
   "source": [
    "nums = [1, 2, 3, 4, 5, 6]\n",
    "result = list(filter(lambda x: x % 2 == 0, nums))\n",
    "print(result)"
   ]
  },
  {
   "cell_type": "code",
   "execution_count": null,
   "id": "d0d84ad7",
   "metadata": {},
   "outputs": [],
   "source": [
    "names = ['Amy', 'Ben', 'Cathy', 'Dan']\n",
    "result = list(filter(lambda x: x.startswith('C'), names))\n",
    "print(result)"
   ]
  },
  {
   "cell_type": "code",
   "execution_count": null,
   "id": "c80c27cb",
   "metadata": {},
   "outputs": [],
   "source": [
    "x = lambda a, b : a * b\n",
    "print(x(5, 6))"
   ]
  },
  {
   "cell_type": "code",
   "execution_count": null,
   "id": "1421b22b",
   "metadata": {},
   "outputs": [],
   "source": [
    "s = 'hello'\n",
    "for i, ch in enumerate(s): print(i, ch)"
   ]
  },
  {
   "cell_type": "code",
   "execution_count": null,
   "id": "a048fe5a",
   "metadata": {},
   "outputs": [],
   "source": [
    "x = [1, 2, 3]\n",
    "y = ['a', 'b', 'c']\n",
    "z = zip(x, y)\n",
    "print(list(z))"
   ]
  },
  {
   "cell_type": "code",
   "execution_count": null,
   "id": "c1cbcc0a",
   "metadata": {},
   "outputs": [],
   "source": [
    "nums = [1, 2, 3, 4]\n",
    "result = list(map(lambda x: x * 2, nums))\n",
    "print(result)"
   ]
  },
  {
   "cell_type": "code",
   "execution_count": null,
   "id": "e6b1e5bc",
   "metadata": {},
   "outputs": [],
   "source": [
    "x = lambda a, b : a * b\n",
    "print(x(5, 6))"
   ]
  },
  {
   "cell_type": "code",
   "execution_count": null,
   "id": "50d3094c",
   "metadata": {},
   "outputs": [],
   "source": [
    "names = ['a', 'b', 'c']\n",
    "scores = [85, 90, 95]\n",
    "result = list(zip(names, scores))\n",
    "print(result)"
   ]
  },
  {
   "cell_type": "code",
   "execution_count": null,
   "id": "5faa84bb",
   "metadata": {},
   "outputs": [],
   "source": [
    "from functools import reduce\n",
    "nums = [1, 2, 3, 4]\n",
    "result = reduce(lambda x, y: x + y, nums)\n",
    "print(result)"
   ]
  },
  {
   "cell_type": "code",
   "execution_count": null,
   "id": "749753df",
   "metadata": {},
   "outputs": [],
   "source": [
    "x = lambda a, b, c : a + b + c\n",
    "print(x(1, 2, 3))"
   ]
  },
  {
   "cell_type": "code",
   "execution_count": null,
   "id": "62e5392b",
   "metadata": {},
   "outputs": [],
   "source": [
    "x = lambda a, b : a * b\n",
    "print(x(5, 6))"
   ]
  },
  {
   "cell_type": "code",
   "execution_count": null,
   "id": "918b845f",
   "metadata": {},
   "outputs": [],
   "source": [
    "nums = [1, 2, 3, 4]\n",
    "result = list(map(lambda x: x * 2, nums))\n",
    "print(result)"
   ]
  },
  {
   "cell_type": "code",
   "execution_count": null,
   "id": "aa297727",
   "metadata": {},
   "outputs": [],
   "source": [
    "names = ['Amy', 'Ben', 'Cathy', 'Dan']\n",
    "result = list(filter(lambda x: x.startswith('C'), names))\n",
    "print(result)"
   ]
  },
  {
   "cell_type": "code",
   "execution_count": null,
   "id": "0ddc8c72",
   "metadata": {},
   "outputs": [],
   "source": [
    "x = lambda a, b, c : a + b + c\n",
    "print(x(1, 2, 3))"
   ]
  },
  {
   "cell_type": "code",
   "execution_count": null,
   "id": "5a7237ff",
   "metadata": {},
   "outputs": [],
   "source": [
    "words = ['hello', 'world']\n",
    "result = list(map(str.upper, words))\n",
    "print(result)"
   ]
  },
  {
   "cell_type": "code",
   "execution_count": null,
   "id": "e41c3f1b",
   "metadata": {},
   "outputs": [],
   "source": [
    "names = ['Amy', 'Ben', 'Cathy', 'Dan']\n",
    "result = list(filter(lambda x: x.startswith('C'), names))\n",
    "print(result)"
   ]
  },
  {
   "cell_type": "code",
   "execution_count": null,
   "id": "5467a106",
   "metadata": {},
   "outputs": [],
   "source": [
    "words = ['hello', 'world']\n",
    "result = list(map(str.upper, words))\n",
    "print(result)"
   ]
  },
  {
   "cell_type": "code",
   "execution_count": null,
   "id": "72106dbe",
   "metadata": {},
   "outputs": [],
   "source": [
    "x = lambda a, b : a * b\n",
    "print(x(5, 6))"
   ]
  },
  {
   "cell_type": "code",
   "execution_count": null,
   "id": "cc140acd",
   "metadata": {},
   "outputs": [],
   "source": [
    "s = 'hello'\n",
    "for i, ch in enumerate(s): print(i, ch)"
   ]
  },
  {
   "cell_type": "code",
   "execution_count": null,
   "id": "58c958be",
   "metadata": {},
   "outputs": [],
   "source": [
    "from functools import reduce\n",
    "nums = [1, 2, 3, 4]\n",
    "result = reduce(lambda x, y: x * y, nums)\n",
    "print(result)"
   ]
  },
  {
   "cell_type": "code",
   "execution_count": null,
   "id": "0f045f95",
   "metadata": {},
   "outputs": [],
   "source": [
    "nums = [1, 2, 3, 4, 5, 6]\n",
    "result = list(filter(lambda x: x % 2 == 0, nums))\n",
    "print(result)"
   ]
  },
  {
   "cell_type": "code",
   "execution_count": null,
   "id": "81818840",
   "metadata": {},
   "outputs": [],
   "source": [
    "x = lambda a, b, c : a + b + c\n",
    "print(x(1, 2, 3))"
   ]
  },
  {
   "cell_type": "code",
   "execution_count": null,
   "id": "807db631",
   "metadata": {},
   "outputs": [],
   "source": [
    "from functools import reduce\n",
    "nums = [1, 2, 3, 4]\n",
    "result = reduce(lambda x, y: x + y, nums)\n",
    "print(result)"
   ]
  },
  {
   "cell_type": "code",
   "execution_count": null,
   "id": "21846e44",
   "metadata": {},
   "outputs": [],
   "source": [
    "nums = [1, 2, 3, 4, 5, 6]\n",
    "result = list(filter(lambda x: x % 2 == 0, nums))\n",
    "print(result)"
   ]
  },
  {
   "cell_type": "code",
   "execution_count": null,
   "id": "a18ef758",
   "metadata": {},
   "outputs": [],
   "source": [
    "nums = [1, 2, 3, 4, 5, 6]\n",
    "result = list(filter(lambda x: x % 2 == 0, nums))\n",
    "print(result)"
   ]
  },
  {
   "cell_type": "code",
   "execution_count": null,
   "id": "aa18ceaa",
   "metadata": {},
   "outputs": [],
   "source": [
    "x = [1, 2, 3]\n",
    "y = ['a', 'b', 'c']\n",
    "z = zip(x, y)\n",
    "print(list(z))"
   ]
  },
  {
   "cell_type": "code",
   "execution_count": null,
   "id": "c524e26c",
   "metadata": {},
   "outputs": [],
   "source": [
    "lst = ['a', 'b', 'c']\n",
    "for index, value in enumerate(lst): print(index, value)"
   ]
  },
  {
   "cell_type": "code",
   "execution_count": null,
   "id": "bc78f578",
   "metadata": {},
   "outputs": [],
   "source": [
    "x = lambda a : a + 10\n",
    "print(x(5))"
   ]
  },
  {
   "cell_type": "code",
   "execution_count": null,
   "id": "6464e189",
   "metadata": {},
   "outputs": [],
   "source": [
    "from functools import reduce\n",
    "nums = [1, 2, 3, 4]\n",
    "result = reduce(lambda x, y: x + y, nums)\n",
    "print(result)"
   ]
  },
  {
   "cell_type": "code",
   "execution_count": null,
   "id": "4573e88d",
   "metadata": {},
   "outputs": [],
   "source": [
    "x = lambda a : a + 10\n",
    "print(x(5))"
   ]
  },
  {
   "cell_type": "code",
   "execution_count": null,
   "id": "23091dc5",
   "metadata": {},
   "outputs": [],
   "source": [
    "from functools import reduce\n",
    "nums = [1, 2, 3, 4]\n",
    "result = reduce(lambda x, y: x + y, nums)\n",
    "print(result)"
   ]
  },
  {
   "cell_type": "code",
   "execution_count": null,
   "id": "6ef9a960",
   "metadata": {},
   "outputs": [],
   "source": [
    "from functools import reduce\n",
    "nums = [1, 2, 3, 4]\n",
    "result = reduce(lambda x, y: x * y, nums)\n",
    "print(result)"
   ]
  },
  {
   "cell_type": "code",
   "execution_count": null,
   "id": "d00cfde0",
   "metadata": {},
   "outputs": [],
   "source": [
    "x = lambda a : a + 10\n",
    "print(x(5))"
   ]
  },
  {
   "cell_type": "code",
   "execution_count": null,
   "id": "599640cd",
   "metadata": {},
   "outputs": [],
   "source": [
    "x = [1, 2, 3]\n",
    "y = ['a', 'b', 'c']\n",
    "z = zip(x, y)\n",
    "print(list(z))"
   ]
  },
  {
   "cell_type": "code",
   "execution_count": null,
   "id": "3be12c0f",
   "metadata": {},
   "outputs": [],
   "source": [
    "nums = [1, 2, 3, 4]\n",
    "result = list(map(lambda x: x * 2, nums))\n",
    "print(result)"
   ]
  },
  {
   "cell_type": "code",
   "execution_count": null,
   "id": "dcb4a267",
   "metadata": {},
   "outputs": [],
   "source": [
    "lst = ['a', 'b', 'c']\n",
    "for index, value in enumerate(lst): print(index, value)"
   ]
  },
  {
   "cell_type": "code",
   "execution_count": null,
   "id": "2d6f6237",
   "metadata": {},
   "outputs": [],
   "source": [
    "words = ['hello', 'world']\n",
    "result = list(map(str.upper, words))\n",
    "print(result)"
   ]
  },
  {
   "cell_type": "code",
   "execution_count": null,
   "id": "b67b6820",
   "metadata": {},
   "outputs": [],
   "source": [
    "x = lambda a, b : a * b\n",
    "print(x(5, 6))"
   ]
  },
  {
   "cell_type": "code",
   "execution_count": null,
   "id": "5aba0ca4",
   "metadata": {},
   "outputs": [],
   "source": [
    "from functools import reduce\n",
    "nums = [1, 2, 3, 4]\n",
    "result = reduce(lambda x, y: x * y, nums)\n",
    "print(result)"
   ]
  },
  {
   "cell_type": "code",
   "execution_count": null,
   "id": "fdd3d8a0",
   "metadata": {},
   "outputs": [],
   "source": [
    "x = lambda a, b, c : a + b + c\n",
    "print(x(1, 2, 3))"
   ]
  },
  {
   "cell_type": "code",
   "execution_count": null,
   "id": "9be3e9c8",
   "metadata": {},
   "outputs": [],
   "source": [
    "x = lambda a : a + 10\n",
    "print(x(5))"
   ]
  },
  {
   "cell_type": "code",
   "execution_count": null,
   "id": "7261690b",
   "metadata": {},
   "outputs": [],
   "source": [
    "from functools import reduce\n",
    "nums = [1, 2, 3, 4]\n",
    "result = reduce(lambda x, y: x * y, nums)\n",
    "print(result)"
   ]
  },
  {
   "cell_type": "code",
   "execution_count": null,
   "id": "43b85fd3",
   "metadata": {},
   "outputs": [],
   "source": [
    "names = ['Amy', 'Ben', 'Cathy', 'Dan']\n",
    "result = list(filter(lambda x: x.startswith('C'), names))\n",
    "print(result)"
   ]
  },
  {
   "cell_type": "code",
   "execution_count": null,
   "id": "dd0b1aca",
   "metadata": {},
   "outputs": [],
   "source": [
    "nums = [1, 2, 3, 4, 5, 6]\n",
    "result = list(filter(lambda x: x % 2 == 0, nums))\n",
    "print(result)"
   ]
  },
  {
   "cell_type": "code",
   "execution_count": null,
   "id": "58eaf461",
   "metadata": {},
   "outputs": [],
   "source": [
    "lst = ['a', 'b', 'c']\n",
    "for index, value in enumerate(lst): print(index, value)"
   ]
  },
  {
   "cell_type": "code",
   "execution_count": null,
   "id": "8bf08844",
   "metadata": {},
   "outputs": [],
   "source": [
    "names = ['a', 'b', 'c']\n",
    "scores = [85, 90, 95]\n",
    "result = list(zip(names, scores))\n",
    "print(result)"
   ]
  },
  {
   "cell_type": "code",
   "execution_count": null,
   "id": "0a9ae3b5",
   "metadata": {},
   "outputs": [],
   "source": [
    "from functools import reduce\n",
    "nums = [1, 2, 3, 4]\n",
    "result = reduce(lambda x, y: x * y, nums)\n",
    "print(result)"
   ]
  },
  {
   "cell_type": "code",
   "execution_count": null,
   "id": "2ff06788",
   "metadata": {},
   "outputs": [],
   "source": [
    "words = ['hello', 'world']\n",
    "result = list(map(str.upper, words))\n",
    "print(result)"
   ]
  },
  {
   "cell_type": "code",
   "execution_count": null,
   "id": "05c55094",
   "metadata": {},
   "outputs": [],
   "source": [
    "s = 'hello'\n",
    "for i, ch in enumerate(s): print(i, ch)"
   ]
  },
  {
   "cell_type": "code",
   "execution_count": null,
   "id": "701adc3e",
   "metadata": {},
   "outputs": [],
   "source": [
    "words = ['hello', 'world']\n",
    "result = list(map(str.upper, words))\n",
    "print(result)"
   ]
  },
  {
   "cell_type": "code",
   "execution_count": null,
   "id": "f63b1551",
   "metadata": {},
   "outputs": [],
   "source": [
    "names = ['a', 'b', 'c']\n",
    "scores = [85, 90, 95]\n",
    "result = list(zip(names, scores))\n",
    "print(result)"
   ]
  },
  {
   "cell_type": "code",
   "execution_count": null,
   "id": "2a06a306",
   "metadata": {},
   "outputs": [],
   "source": [
    "x = lambda a, b, c : a + b + c\n",
    "print(x(1, 2, 3))"
   ]
  },
  {
   "cell_type": "code",
   "execution_count": null,
   "id": "54360942",
   "metadata": {},
   "outputs": [],
   "source": [
    "from functools import reduce\n",
    "nums = [1, 2, 3, 4]\n",
    "result = reduce(lambda x, y: x * y, nums)\n",
    "print(result)"
   ]
  },
  {
   "cell_type": "code",
   "execution_count": null,
   "id": "82562cf0",
   "metadata": {},
   "outputs": [],
   "source": [
    "s = 'hello'\n",
    "for i, ch in enumerate(s): print(i, ch)"
   ]
  },
  {
   "cell_type": "code",
   "execution_count": null,
   "id": "5b5e2b52",
   "metadata": {},
   "outputs": [],
   "source": [
    "s = 'hello'\n",
    "for i, ch in enumerate(s): print(i, ch)"
   ]
  },
  {
   "cell_type": "code",
   "execution_count": null,
   "id": "68f8fd46",
   "metadata": {},
   "outputs": [],
   "source": [
    "from functools import reduce\n",
    "nums = [1, 2, 3, 4]\n",
    "result = reduce(lambda x, y: x + y, nums)\n",
    "print(result)"
   ]
  },
  {
   "cell_type": "code",
   "execution_count": null,
   "id": "068cdede",
   "metadata": {},
   "outputs": [],
   "source": [
    "nums = [1, 2, 3, 4, 5, 6]\n",
    "result = list(filter(lambda x: x % 2 == 0, nums))\n",
    "print(result)"
   ]
  },
  {
   "cell_type": "code",
   "execution_count": null,
   "id": "620d6e89",
   "metadata": {},
   "outputs": [],
   "source": [
    "names = ['Amy', 'Ben', 'Cathy', 'Dan']\n",
    "result = list(filter(lambda x: x.startswith('C'), names))\n",
    "print(result)"
   ]
  },
  {
   "cell_type": "code",
   "execution_count": null,
   "id": "c24cb899",
   "metadata": {},
   "outputs": [],
   "source": [
    "names = ['a', 'b', 'c']\n",
    "scores = [85, 90, 95]\n",
    "result = list(zip(names, scores))\n",
    "print(result)"
   ]
  },
  {
   "cell_type": "code",
   "execution_count": null,
   "id": "c9eecdac",
   "metadata": {},
   "outputs": [],
   "source": [
    "lst = ['a', 'b', 'c']\n",
    "for index, value in enumerate(lst): print(index, value)"
   ]
  },
  {
   "cell_type": "code",
   "execution_count": null,
   "id": "db3b8756",
   "metadata": {},
   "outputs": [],
   "source": [
    "s = 'hello'\n",
    "for i, ch in enumerate(s): print(i, ch)"
   ]
  },
  {
   "cell_type": "code",
   "execution_count": null,
   "id": "c352fef8",
   "metadata": {},
   "outputs": [],
   "source": [
    "nums = [1, 2, 3, 4, 5, 6]\n",
    "result = list(filter(lambda x: x % 2 == 0, nums))\n",
    "print(result)"
   ]
  }
 ],
 "metadata": {},
 "nbformat": 4,
 "nbformat_minor": 5
}