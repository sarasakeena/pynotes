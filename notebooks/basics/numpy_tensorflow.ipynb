{
 "cells": [
  {
   "cell_type": "code",
   "execution_count": 1,
   "id": "151e9405",
   "metadata": {},
   "outputs": [
    {
     "name": "stdout",
     "output_type": "stream",
     "text": [
      "Cell 1 - Numpy\n",
      "Array shape: (1, 1)\n",
      "Sum: 0\n",
      "Mean: 0.0\n",
      "Max: 0\n"
     ]
    }
   ],
   "source": [
    "import numpy as np\n",
    "\n",
    "arr_1 = np.arange(1).reshape(-1, 1)\n",
    "squared_1 = arr_1 ** 2\n",
    "summed_1 = np.sum(squared_1)\n",
    "meaned_1 = np.mean(squared_1)\n",
    "maxed_1 = np.max(squared_1)\n",
    "\n",
    "print(\"Cell 1 - Numpy\")\n",
    "print(\"Array shape:\", arr_1.shape)\n",
    "print(\"Sum:\", summed_1)\n",
    "print(\"Mean:\", meaned_1)\n",
    "print(\"Max:\", maxed_1)"
   ]
  },
  {
   "cell_type": "code",
   "execution_count": 2,
   "id": "4ec81337",
   "metadata": {},
   "outputs": [
    {
     "name": "stdout",
     "output_type": "stream",
     "text": [
      "Cell 2 - Numpy\n",
      "Array shape: (2, 1)\n",
      "Sum: 1\n",
      "Mean: 0.5\n",
      "Max: 1\n"
     ]
    }
   ],
   "source": [
    "import numpy as np\n",
    "\n",
    "arr_2 = np.arange(2).reshape(-1, 1)\n",
    "squared_2 = arr_2 ** 2\n",
    "summed_2 = np.sum(squared_2)\n",
    "meaned_2 = np.mean(squared_2)\n",
    "maxed_2 = np.max(squared_2)\n",
    "\n",
    "print(\"Cell 2 - Numpy\")\n",
    "print(\"Array shape:\", arr_2.shape)\n",
    "print(\"Sum:\", summed_2)\n",
    "print(\"Mean:\", meaned_2)\n",
    "print(\"Max:\", maxed_2)"
   ]
  },
  {
   "cell_type": "code",
   "execution_count": 3,
   "id": "747bb1fc",
   "metadata": {},
   "outputs": [
    {
     "name": "stdout",
     "output_type": "stream",
     "text": [
      "Cell 3 - Numpy\n",
      "Array shape: (3, 1)\n",
      "Sum: 5\n",
      "Mean: 1.6666666666666667\n",
      "Max: 4\n"
     ]
    }
   ],
   "source": [
    "import numpy as np\n",
    "\n",
    "arr_3 = np.arange(3).reshape(-1, 1)\n",
    "squared_3 = arr_3 ** 2\n",
    "summed_3 = np.sum(squared_3)\n",
    "meaned_3 = np.mean(squared_3)\n",
    "maxed_3 = np.max(squared_3)\n",
    "\n",
    "print(\"Cell 3 - Numpy\")\n",
    "print(\"Array shape:\", arr_3.shape)\n",
    "print(\"Sum:\", summed_3)\n",
    "print(\"Mean:\", meaned_3)\n",
    "print(\"Max:\", maxed_3)"
   ]
  },
  {
   "cell_type": "code",
   "execution_count": 4,
   "id": "98415aa2",
   "metadata": {},
   "outputs": [
    {
     "name": "stdout",
     "output_type": "stream",
     "text": [
      "Cell 4 - Numpy\n",
      "Array shape: (4, 1)\n",
      "Sum: 14\n",
      "Mean: 3.5\n",
      "Max: 9\n"
     ]
    }
   ],
   "source": [
    "import numpy as np\n",
    "\n",
    "arr_4 = np.arange(4).reshape(-1, 1)\n",
    "squared_4 = arr_4 ** 2\n",
    "summed_4 = np.sum(squared_4)\n",
    "meaned_4 = np.mean(squared_4)\n",
    "maxed_4 = np.max(squared_4)\n",
    "\n",
    "print(\"Cell 4 - Numpy\")\n",
    "print(\"Array shape:\", arr_4.shape)\n",
    "print(\"Sum:\", summed_4)\n",
    "print(\"Mean:\", meaned_4)\n",
    "print(\"Max:\", maxed_4)"
   ]
  },
  {
   "cell_type": "code",
   "execution_count": 5,
   "id": "ea708192",
   "metadata": {},
   "outputs": [
    {
     "name": "stdout",
     "output_type": "stream",
     "text": [
      "Cell 5 - Numpy\n",
      "Array shape: (5, 1)\n",
      "Sum: 30\n",
      "Mean: 6.0\n",
      "Max: 16\n"
     ]
    }
   ],
   "source": [
    "import numpy as np\n",
    "\n",
    "arr_5 = np.arange(5).reshape(-1, 1)\n",
    "squared_5 = arr_5 ** 2\n",
    "summed_5 = np.sum(squared_5)\n",
    "meaned_5 = np.mean(squared_5)\n",
    "maxed_5 = np.max(squared_5)\n",
    "\n",
    "print(\"Cell 5 - Numpy\")\n",
    "print(\"Array shape:\", arr_5.shape)\n",
    "print(\"Sum:\", summed_5)\n",
    "print(\"Mean:\", meaned_5)\n",
    "print(\"Max:\", maxed_5)"
   ]
  },
  {
   "cell_type": "code",
   "execution_count": 6,
   "id": "2f8631d5",
   "metadata": {},
   "outputs": [
    {
     "name": "stdout",
     "output_type": "stream",
     "text": [
      "Cell 6 - Numpy\n",
      "Array shape: (6, 1)\n",
      "Sum: 55\n",
      "Mean: 9.166666666666666\n",
      "Max: 25\n"
     ]
    }
   ],
   "source": [
    "import numpy as np\n",
    "\n",
    "arr_6 = np.arange(6).reshape(-1, 1)\n",
    "squared_6 = arr_6 ** 2\n",
    "summed_6 = np.sum(squared_6)\n",
    "meaned_6 = np.mean(squared_6)\n",
    "maxed_6 = np.max(squared_6)\n",
    "\n",
    "print(\"Cell 6 - Numpy\")\n",
    "print(\"Array shape:\", arr_6.shape)\n",
    "print(\"Sum:\", summed_6)\n",
    "print(\"Mean:\", meaned_6)\n",
    "print(\"Max:\", maxed_6)"
   ]
  },
  {
   "cell_type": "code",
   "execution_count": 7,
   "id": "22132680",
   "metadata": {},
   "outputs": [
    {
     "name": "stdout",
     "output_type": "stream",
     "text": [
      "Cell 7 - Numpy\n",
      "Array shape: (7, 1)\n",
      "Sum: 91\n",
      "Mean: 13.0\n",
      "Max: 36\n"
     ]
    }
   ],
   "source": [
    "import numpy as np\n",
    "\n",
    "arr_7 = np.arange(7).reshape(-1, 1)\n",
    "squared_7 = arr_7 ** 2\n",
    "summed_7 = np.sum(squared_7)\n",
    "meaned_7 = np.mean(squared_7)\n",
    "maxed_7 = np.max(squared_7)\n",
    "\n",
    "print(\"Cell 7 - Numpy\")\n",
    "print(\"Array shape:\", arr_7.shape)\n",
    "print(\"Sum:\", summed_7)\n",
    "print(\"Mean:\", meaned_7)\n",
    "print(\"Max:\", maxed_7)"
   ]
  },
  {
   "cell_type": "code",
   "execution_count": 8,
   "id": "a2d97d15",
   "metadata": {},
   "outputs": [
    {
     "name": "stdout",
     "output_type": "stream",
     "text": [
      "Cell 8 - Numpy\n",
      "Array shape: (8, 1)\n",
      "Sum: 140\n",
      "Mean: 17.5\n",
      "Max: 49\n"
     ]
    }
   ],
   "source": [
    "import numpy as np\n",
    "\n",
    "arr_8 = np.arange(8).reshape(-1, 1)\n",
    "squared_8 = arr_8 ** 2\n",
    "summed_8 = np.sum(squared_8)\n",
    "meaned_8 = np.mean(squared_8)\n",
    "maxed_8 = np.max(squared_8)\n",
    "\n",
    "print(\"Cell 8 - Numpy\")\n",
    "print(\"Array shape:\", arr_8.shape)\n",
    "print(\"Sum:\", summed_8)\n",
    "print(\"Mean:\", meaned_8)\n",
    "print(\"Max:\", maxed_8)"
   ]
  },
  {
   "cell_type": "code",
   "execution_count": 9,
   "id": "10aa209f",
   "metadata": {},
   "outputs": [
    {
     "name": "stdout",
     "output_type": "stream",
     "text": [
      "Cell 9 - Numpy\n",
      "Array shape: (9, 1)\n",
      "Sum: 204\n",
      "Mean: 22.666666666666668\n",
      "Max: 64\n"
     ]
    }
   ],
   "source": [
    "import numpy as np\n",
    "\n",
    "arr_9 = np.arange(9).reshape(-1, 1)\n",
    "squared_9 = arr_9 ** 2\n",
    "summed_9 = np.sum(squared_9)\n",
    "meaned_9 = np.mean(squared_9)\n",
    "maxed_9 = np.max(squared_9)\n",
    "\n",
    "print(\"Cell 9 - Numpy\")\n",
    "print(\"Array shape:\", arr_9.shape)\n",
    "print(\"Sum:\", summed_9)\n",
    "print(\"Mean:\", meaned_9)\n",
    "print(\"Max:\", maxed_9)"
   ]
  },
  {
   "cell_type": "code",
   "execution_count": 10,
   "id": "ece1cbbc",
   "metadata": {},
   "outputs": [
    {
     "name": "stdout",
     "output_type": "stream",
     "text": [
      "Cell 10 - Numpy\n",
      "Array shape: (10, 1)\n",
      "Sum: 285\n",
      "Mean: 28.5\n",
      "Max: 81\n"
     ]
    }
   ],
   "source": [
    "import numpy as np\n",
    "\n",
    "arr_10 = np.arange(10).reshape(-1, 1)\n",
    "squared_10 = arr_10 ** 2\n",
    "summed_10 = np.sum(squared_10)\n",
    "meaned_10 = np.mean(squared_10)\n",
    "maxed_10 = np.max(squared_10)\n",
    "\n",
    "print(\"Cell 10 - Numpy\")\n",
    "print(\"Array shape:\", arr_10.shape)\n",
    "print(\"Sum:\", summed_10)\n",
    "print(\"Mean:\", meaned_10)\n",
    "print(\"Max:\", maxed_10)"
   ]
  },
  {
   "cell_type": "code",
   "execution_count": 11,
   "id": "fc98313d",
   "metadata": {},
   "outputs": [
    {
     "name": "stdout",
     "output_type": "stream",
     "text": [
      "Cell 11 - Numpy\n",
      "Array shape: (11, 1)\n",
      "Sum: 385\n",
      "Mean: 35.0\n",
      "Max: 100\n"
     ]
    }
   ],
   "source": [
    "import numpy as np\n",
    "\n",
    "arr_11 = np.arange(11).reshape(-1, 1)\n",
    "squared_11 = arr_11 ** 2\n",
    "summed_11 = np.sum(squared_11)\n",
    "meaned_11 = np.mean(squared_11)\n",
    "maxed_11 = np.max(squared_11)\n",
    "\n",
    "print(\"Cell 11 - Numpy\")\n",
    "print(\"Array shape:\", arr_11.shape)\n",
    "print(\"Sum:\", summed_11)\n",
    "print(\"Mean:\", meaned_11)\n",
    "print(\"Max:\", maxed_11)"
   ]
  },
  {
   "cell_type": "code",
   "execution_count": 12,
   "id": "d673604b",
   "metadata": {},
   "outputs": [
    {
     "name": "stdout",
     "output_type": "stream",
     "text": [
      "Cell 12 - Numpy\n",
      "Array shape: (12, 1)\n",
      "Sum: 506\n",
      "Mean: 42.166666666666664\n",
      "Max: 121\n"
     ]
    }
   ],
   "source": [
    "import numpy as np\n",
    "\n",
    "arr_12 = np.arange(12).reshape(-1, 1)\n",
    "squared_12 = arr_12 ** 2\n",
    "summed_12 = np.sum(squared_12)\n",
    "meaned_12 = np.mean(squared_12)\n",
    "maxed_12 = np.max(squared_12)\n",
    "\n",
    "print(\"Cell 12 - Numpy\")\n",
    "print(\"Array shape:\", arr_12.shape)\n",
    "print(\"Sum:\", summed_12)\n",
    "print(\"Mean:\", meaned_12)\n",
    "print(\"Max:\", maxed_12)"
   ]
  },
  {
   "cell_type": "code",
   "execution_count": 13,
   "id": "ad9462f3",
   "metadata": {},
   "outputs": [
    {
     "name": "stdout",
     "output_type": "stream",
     "text": [
      "Cell 13 - Numpy\n",
      "Array shape: (13, 1)\n",
      "Sum: 650\n",
      "Mean: 50.0\n",
      "Max: 144\n"
     ]
    }
   ],
   "source": [
    "import numpy as np\n",
    "\n",
    "arr_13 = np.arange(13).reshape(-1, 1)\n",
    "squared_13 = arr_13 ** 2\n",
    "summed_13 = np.sum(squared_13)\n",
    "meaned_13 = np.mean(squared_13)\n",
    "maxed_13 = np.max(squared_13)\n",
    "\n",
    "print(\"Cell 13 - Numpy\")\n",
    "print(\"Array shape:\", arr_13.shape)\n",
    "print(\"Sum:\", summed_13)\n",
    "print(\"Mean:\", meaned_13)\n",
    "print(\"Max:\", maxed_13)"
   ]
  },
  {
   "cell_type": "code",
   "execution_count": 14,
   "id": "c6e858cf",
   "metadata": {},
   "outputs": [
    {
     "name": "stdout",
     "output_type": "stream",
     "text": [
      "Cell 14 - Numpy\n",
      "Array shape: (14, 1)\n",
      "Sum: 819\n",
      "Mean: 58.5\n",
      "Max: 169\n"
     ]
    }
   ],
   "source": [
    "import numpy as np\n",
    "\n",
    "arr_14 = np.arange(14).reshape(-1, 1)\n",
    "squared_14 = arr_14 ** 2\n",
    "summed_14 = np.sum(squared_14)\n",
    "meaned_14 = np.mean(squared_14)\n",
    "maxed_14 = np.max(squared_14)\n",
    "\n",
    "print(\"Cell 14 - Numpy\")\n",
    "print(\"Array shape:\", arr_14.shape)\n",
    "print(\"Sum:\", summed_14)\n",
    "print(\"Mean:\", meaned_14)\n",
    "print(\"Max:\", maxed_14)"
   ]
  },
  {
   "cell_type": "code",
   "execution_count": 15,
   "id": "3e551cd3",
   "metadata": {},
   "outputs": [
    {
     "name": "stdout",
     "output_type": "stream",
     "text": [
      "Cell 15 - Numpy\n",
      "Array shape: (15, 1)\n",
      "Sum: 1015\n",
      "Mean: 67.66666666666667\n",
      "Max: 196\n"
     ]
    }
   ],
   "source": [
    "import numpy as np\n",
    "\n",
    "arr_15 = np.arange(15).reshape(-1, 1)\n",
    "squared_15 = arr_15 ** 2\n",
    "summed_15 = np.sum(squared_15)\n",
    "meaned_15 = np.mean(squared_15)\n",
    "maxed_15 = np.max(squared_15)\n",
    "\n",
    "print(\"Cell 15 - Numpy\")\n",
    "print(\"Array shape:\", arr_15.shape)\n",
    "print(\"Sum:\", summed_15)\n",
    "print(\"Mean:\", meaned_15)\n",
    "print(\"Max:\", maxed_15)"
   ]
  },
  {
   "cell_type": "code",
   "execution_count": 16,
   "id": "7c792c19",
   "metadata": {},
   "outputs": [
    {
     "name": "stdout",
     "output_type": "stream",
     "text": [
      "Cell 16 - Numpy\n",
      "Array shape: (16, 1)\n",
      "Sum: 1240\n",
      "Mean: 77.5\n",
      "Max: 225\n"
     ]
    }
   ],
   "source": [
    "import numpy as np\n",
    "\n",
    "arr_16 = np.arange(16).reshape(-1, 1)\n",
    "squared_16 = arr_16 ** 2\n",
    "summed_16 = np.sum(squared_16)\n",
    "meaned_16 = np.mean(squared_16)\n",
    "maxed_16 = np.max(squared_16)\n",
    "\n",
    "print(\"Cell 16 - Numpy\")\n",
    "print(\"Array shape:\", arr_16.shape)\n",
    "print(\"Sum:\", summed_16)\n",
    "print(\"Mean:\", meaned_16)\n",
    "print(\"Max:\", maxed_16)"
   ]
  },
  {
   "cell_type": "code",
   "execution_count": 17,
   "id": "f3959afb",
   "metadata": {},
   "outputs": [
    {
     "name": "stdout",
     "output_type": "stream",
     "text": [
      "Cell 17 - Numpy\n",
      "Array shape: (17, 1)\n",
      "Sum: 1496\n",
      "Mean: 88.0\n",
      "Max: 256\n"
     ]
    }
   ],
   "source": [
    "import numpy as np\n",
    "\n",
    "arr_17 = np.arange(17).reshape(-1, 1)\n",
    "squared_17 = arr_17 ** 2\n",
    "summed_17 = np.sum(squared_17)\n",
    "meaned_17 = np.mean(squared_17)\n",
    "maxed_17 = np.max(squared_17)\n",
    "\n",
    "print(\"Cell 17 - Numpy\")\n",
    "print(\"Array shape:\", arr_17.shape)\n",
    "print(\"Sum:\", summed_17)\n",
    "print(\"Mean:\", meaned_17)\n",
    "print(\"Max:\", maxed_17)"
   ]
  },
  {
   "cell_type": "code",
   "execution_count": 18,
   "id": "9691be64",
   "metadata": {},
   "outputs": [
    {
     "name": "stdout",
     "output_type": "stream",
     "text": [
      "Cell 18 - Numpy\n",
      "Array shape: (18, 1)\n",
      "Sum: 1785\n",
      "Mean: 99.16666666666667\n",
      "Max: 289\n"
     ]
    }
   ],
   "source": [
    "import numpy as np\n",
    "\n",
    "arr_18 = np.arange(18).reshape(-1, 1)\n",
    "squared_18 = arr_18 ** 2\n",
    "summed_18 = np.sum(squared_18)\n",
    "meaned_18 = np.mean(squared_18)\n",
    "maxed_18 = np.max(squared_18)\n",
    "\n",
    "print(\"Cell 18 - Numpy\")\n",
    "print(\"Array shape:\", arr_18.shape)\n",
    "print(\"Sum:\", summed_18)\n",
    "print(\"Mean:\", meaned_18)\n",
    "print(\"Max:\", maxed_18)"
   ]
  },
  {
   "cell_type": "code",
   "execution_count": 19,
   "id": "94aaebf6",
   "metadata": {},
   "outputs": [
    {
     "name": "stdout",
     "output_type": "stream",
     "text": [
      "Cell 19 - Numpy\n",
      "Array shape: (19, 1)\n",
      "Sum: 2109\n",
      "Mean: 111.0\n",
      "Max: 324\n"
     ]
    }
   ],
   "source": [
    "import numpy as np\n",
    "\n",
    "arr_19 = np.arange(19).reshape(-1, 1)\n",
    "squared_19 = arr_19 ** 2\n",
    "summed_19 = np.sum(squared_19)\n",
    "meaned_19 = np.mean(squared_19)\n",
    "maxed_19 = np.max(squared_19)\n",
    "\n",
    "print(\"Cell 19 - Numpy\")\n",
    "print(\"Array shape:\", arr_19.shape)\n",
    "print(\"Sum:\", summed_19)\n",
    "print(\"Mean:\", meaned_19)\n",
    "print(\"Max:\", maxed_19)"
   ]
  },
  {
   "cell_type": "code",
   "execution_count": 20,
   "id": "3c07d19c",
   "metadata": {},
   "outputs": [
    {
     "name": "stdout",
     "output_type": "stream",
     "text": [
      "Cell 20 - Numpy\n",
      "Array shape: (20, 1)\n",
      "Sum: 2470\n",
      "Mean: 123.5\n",
      "Max: 361\n"
     ]
    }
   ],
   "source": [
    "import numpy as np\n",
    "\n",
    "arr_20 = np.arange(20).reshape(-1, 1)\n",
    "squared_20 = arr_20 ** 2\n",
    "summed_20 = np.sum(squared_20)\n",
    "meaned_20 = np.mean(squared_20)\n",
    "maxed_20 = np.max(squared_20)\n",
    "\n",
    "print(\"Cell 20 - Numpy\")\n",
    "print(\"Array shape:\", arr_20.shape)\n",
    "print(\"Sum:\", summed_20)\n",
    "print(\"Mean:\", meaned_20)\n",
    "print(\"Max:\", maxed_20)"
   ]
  },
  {
   "cell_type": "code",
   "execution_count": 21,
   "id": "f869ce31",
   "metadata": {},
   "outputs": [
    {
     "name": "stdout",
     "output_type": "stream",
     "text": [
      "Cell 21 - Numpy\n",
      "Array shape: (21, 1)\n",
      "Sum: 2870\n",
      "Mean: 136.66666666666666\n",
      "Max: 400\n"
     ]
    }
   ],
   "source": [
    "import numpy as np\n",
    "\n",
    "arr_21 = np.arange(21).reshape(-1, 1)\n",
    "squared_21 = arr_21 ** 2\n",
    "summed_21 = np.sum(squared_21)\n",
    "meaned_21 = np.mean(squared_21)\n",
    "maxed_21 = np.max(squared_21)\n",
    "\n",
    "print(\"Cell 21 - Numpy\")\n",
    "print(\"Array shape:\", arr_21.shape)\n",
    "print(\"Sum:\", summed_21)\n",
    "print(\"Mean:\", meaned_21)\n",
    "print(\"Max:\", maxed_21)"
   ]
  },
  {
   "cell_type": "code",
   "execution_count": 22,
   "id": "8a88a218",
   "metadata": {},
   "outputs": [
    {
     "name": "stdout",
     "output_type": "stream",
     "text": [
      "Cell 22 - Numpy\n",
      "Array shape: (22, 1)\n",
      "Sum: 3311\n",
      "Mean: 150.5\n",
      "Max: 441\n"
     ]
    }
   ],
   "source": [
    "import numpy as np\n",
    "\n",
    "arr_22 = np.arange(22).reshape(-1, 1)\n",
    "squared_22 = arr_22 ** 2\n",
    "summed_22 = np.sum(squared_22)\n",
    "meaned_22 = np.mean(squared_22)\n",
    "maxed_22 = np.max(squared_22)\n",
    "\n",
    "print(\"Cell 22 - Numpy\")\n",
    "print(\"Array shape:\", arr_22.shape)\n",
    "print(\"Sum:\", summed_22)\n",
    "print(\"Mean:\", meaned_22)\n",
    "print(\"Max:\", maxed_22)"
   ]
  },
  {
   "cell_type": "code",
   "execution_count": 23,
   "id": "6017f4b1",
   "metadata": {},
   "outputs": [
    {
     "name": "stdout",
     "output_type": "stream",
     "text": [
      "Cell 23 - Numpy\n",
      "Array shape: (23, 1)\n",
      "Sum: 3795\n",
      "Mean: 165.0\n",
      "Max: 484\n"
     ]
    }
   ],
   "source": [
    "import numpy as np\n",
    "\n",
    "arr_23 = np.arange(23).reshape(-1, 1)\n",
    "squared_23 = arr_23 ** 2\n",
    "summed_23 = np.sum(squared_23)\n",
    "meaned_23 = np.mean(squared_23)\n",
    "maxed_23 = np.max(squared_23)\n",
    "\n",
    "print(\"Cell 23 - Numpy\")\n",
    "print(\"Array shape:\", arr_23.shape)\n",
    "print(\"Sum:\", summed_23)\n",
    "print(\"Mean:\", meaned_23)\n",
    "print(\"Max:\", maxed_23)"
   ]
  },
  {
   "cell_type": "code",
   "execution_count": 24,
   "id": "61d9ce14",
   "metadata": {},
   "outputs": [
    {
     "name": "stdout",
     "output_type": "stream",
     "text": [
      "Cell 24 - Numpy\n",
      "Array shape: (24, 1)\n",
      "Sum: 4324\n",
      "Mean: 180.16666666666666\n",
      "Max: 529\n"
     ]
    }
   ],
   "source": [
    "import numpy as np\n",
    "\n",
    "arr_24 = np.arange(24).reshape(-1, 1)\n",
    "squared_24 = arr_24 ** 2\n",
    "summed_24 = np.sum(squared_24)\n",
    "meaned_24 = np.mean(squared_24)\n",
    "maxed_24 = np.max(squared_24)\n",
    "\n",
    "print(\"Cell 24 - Numpy\")\n",
    "print(\"Array shape:\", arr_24.shape)\n",
    "print(\"Sum:\", summed_24)\n",
    "print(\"Mean:\", meaned_24)\n",
    "print(\"Max:\", maxed_24)"
   ]
  },
  {
   "cell_type": "code",
   "execution_count": 25,
   "id": "88f98707",
   "metadata": {},
   "outputs": [
    {
     "name": "stdout",
     "output_type": "stream",
     "text": [
      "Cell 25 - Numpy\n",
      "Array shape: (25, 1)\n",
      "Sum: 4900\n",
      "Mean: 196.0\n",
      "Max: 576\n"
     ]
    }
   ],
   "source": [
    "import numpy as np\n",
    "\n",
    "arr_25 = np.arange(25).reshape(-1, 1)\n",
    "squared_25 = arr_25 ** 2\n",
    "summed_25 = np.sum(squared_25)\n",
    "meaned_25 = np.mean(squared_25)\n",
    "maxed_25 = np.max(squared_25)\n",
    "\n",
    "print(\"Cell 25 - Numpy\")\n",
    "print(\"Array shape:\", arr_25.shape)\n",
    "print(\"Sum:\", summed_25)\n",
    "print(\"Mean:\", meaned_25)\n",
    "print(\"Max:\", maxed_25)"
   ]
  },
  {
   "cell_type": "code",
   "execution_count": 26,
   "id": "840acaf9",
   "metadata": {},
   "outputs": [
    {
     "name": "stdout",
     "output_type": "stream",
     "text": [
      "Cell 26 - Numpy\n",
      "Array shape: (26, 1)\n",
      "Sum: 5525\n",
      "Mean: 212.5\n",
      "Max: 625\n"
     ]
    }
   ],
   "source": [
    "import numpy as np\n",
    "\n",
    "arr_26 = np.arange(26).reshape(-1, 1)\n",
    "squared_26 = arr_26 ** 2\n",
    "summed_26 = np.sum(squared_26)\n",
    "meaned_26 = np.mean(squared_26)\n",
    "maxed_26 = np.max(squared_26)\n",
    "\n",
    "print(\"Cell 26 - Numpy\")\n",
    "print(\"Array shape:\", arr_26.shape)\n",
    "print(\"Sum:\", summed_26)\n",
    "print(\"Mean:\", meaned_26)\n",
    "print(\"Max:\", maxed_26)"
   ]
  },
  {
   "cell_type": "code",
   "execution_count": 27,
   "id": "69d0864c",
   "metadata": {},
   "outputs": [
    {
     "name": "stdout",
     "output_type": "stream",
     "text": [
      "Cell 27 - Numpy\n",
      "Array shape: (27, 1)\n",
      "Sum: 6201\n",
      "Mean: 229.66666666666666\n",
      "Max: 676\n"
     ]
    }
   ],
   "source": [
    "import numpy as np\n",
    "\n",
    "arr_27 = np.arange(27).reshape(-1, 1)\n",
    "squared_27 = arr_27 ** 2\n",
    "summed_27 = np.sum(squared_27)\n",
    "meaned_27 = np.mean(squared_27)\n",
    "maxed_27 = np.max(squared_27)\n",
    "\n",
    "print(\"Cell 27 - Numpy\")\n",
    "print(\"Array shape:\", arr_27.shape)\n",
    "print(\"Sum:\", summed_27)\n",
    "print(\"Mean:\", meaned_27)\n",
    "print(\"Max:\", maxed_27)"
   ]
  },
  {
   "cell_type": "code",
   "execution_count": 28,
   "id": "a48b6385",
   "metadata": {},
   "outputs": [
    {
     "name": "stdout",
     "output_type": "stream",
     "text": [
      "Cell 28 - Numpy\n",
      "Array shape: (28, 1)\n",
      "Sum: 6930\n",
      "Mean: 247.5\n",
      "Max: 729\n"
     ]
    }
   ],
   "source": [
    "import numpy as np\n",
    "\n",
    "arr_28 = np.arange(28).reshape(-1, 1)\n",
    "squared_28 = arr_28 ** 2\n",
    "summed_28 = np.sum(squared_28)\n",
    "meaned_28 = np.mean(squared_28)\n",
    "maxed_28 = np.max(squared_28)\n",
    "\n",
    "print(\"Cell 28 - Numpy\")\n",
    "print(\"Array shape:\", arr_28.shape)\n",
    "print(\"Sum:\", summed_28)\n",
    "print(\"Mean:\", meaned_28)\n",
    "print(\"Max:\", maxed_28)"
   ]
  },
  {
   "cell_type": "code",
   "execution_count": 29,
   "id": "b56c75d7",
   "metadata": {},
   "outputs": [
    {
     "name": "stdout",
     "output_type": "stream",
     "text": [
      "Cell 29 - Numpy\n",
      "Array shape: (29, 1)\n",
      "Sum: 7714\n",
      "Mean: 266.0\n",
      "Max: 784\n"
     ]
    }
   ],
   "source": [
    "import numpy as np\n",
    "\n",
    "arr_29 = np.arange(29).reshape(-1, 1)\n",
    "squared_29 = arr_29 ** 2\n",
    "summed_29 = np.sum(squared_29)\n",
    "meaned_29 = np.mean(squared_29)\n",
    "maxed_29 = np.max(squared_29)\n",
    "\n",
    "print(\"Cell 29 - Numpy\")\n",
    "print(\"Array shape:\", arr_29.shape)\n",
    "print(\"Sum:\", summed_29)\n",
    "print(\"Mean:\", meaned_29)\n",
    "print(\"Max:\", maxed_29)"
   ]
  },
  {
   "cell_type": "code",
   "execution_count": 30,
   "id": "db41bde4",
   "metadata": {},
   "outputs": [
    {
     "name": "stdout",
     "output_type": "stream",
     "text": [
      "Cell 30 - Numpy\n",
      "Array shape: (30, 1)\n",
      "Sum: 8555\n",
      "Mean: 285.1666666666667\n",
      "Max: 841\n"
     ]
    }
   ],
   "source": [
    "import numpy as np\n",
    "\n",
    "arr_30 = np.arange(30).reshape(-1, 1)\n",
    "squared_30 = arr_30 ** 2\n",
    "summed_30 = np.sum(squared_30)\n",
    "meaned_30 = np.mean(squared_30)\n",
    "maxed_30 = np.max(squared_30)\n",
    "\n",
    "print(\"Cell 30 - Numpy\")\n",
    "print(\"Array shape:\", arr_30.shape)\n",
    "print(\"Sum:\", summed_30)\n",
    "print(\"Mean:\", meaned_30)\n",
    "print(\"Max:\", maxed_30)"
   ]
  },
  {
   "cell_type": "code",
   "execution_count": 31,
   "id": "06460832",
   "metadata": {},
   "outputs": [
    {
     "name": "stdout",
     "output_type": "stream",
     "text": [
      "Cell 31 - Numpy\n",
      "Array shape: (31, 1)\n",
      "Sum: 9455\n",
      "Mean: 305.0\n",
      "Max: 900\n"
     ]
    }
   ],
   "source": [
    "import numpy as np\n",
    "\n",
    "arr_31 = np.arange(31).reshape(-1, 1)\n",
    "squared_31 = arr_31 ** 2\n",
    "summed_31 = np.sum(squared_31)\n",
    "meaned_31 = np.mean(squared_31)\n",
    "maxed_31 = np.max(squared_31)\n",
    "\n",
    "print(\"Cell 31 - Numpy\")\n",
    "print(\"Array shape:\", arr_31.shape)\n",
    "print(\"Sum:\", summed_31)\n",
    "print(\"Mean:\", meaned_31)\n",
    "print(\"Max:\", maxed_31)"
   ]
  },
  {
   "cell_type": "code",
   "execution_count": 32,
   "id": "42536b7b",
   "metadata": {},
   "outputs": [
    {
     "name": "stdout",
     "output_type": "stream",
     "text": [
      "Cell 32 - Numpy\n",
      "Array shape: (32, 1)\n",
      "Sum: 10416\n",
      "Mean: 325.5\n",
      "Max: 961\n"
     ]
    }
   ],
   "source": [
    "import numpy as np\n",
    "\n",
    "arr_32 = np.arange(32).reshape(-1, 1)\n",
    "squared_32 = arr_32 ** 2\n",
    "summed_32 = np.sum(squared_32)\n",
    "meaned_32 = np.mean(squared_32)\n",
    "maxed_32 = np.max(squared_32)\n",
    "\n",
    "print(\"Cell 32 - Numpy\")\n",
    "print(\"Array shape:\", arr_32.shape)\n",
    "print(\"Sum:\", summed_32)\n",
    "print(\"Mean:\", meaned_32)\n",
    "print(\"Max:\", maxed_32)"
   ]
  },
  {
   "cell_type": "code",
   "execution_count": 33,
   "id": "d7674d04",
   "metadata": {},
   "outputs": [
    {
     "name": "stdout",
     "output_type": "stream",
     "text": [
      "Cell 33 - Numpy\n",
      "Array shape: (33, 1)\n",
      "Sum: 11440\n",
      "Mean: 346.6666666666667\n",
      "Max: 1024\n"
     ]
    }
   ],
   "source": [
    "import numpy as np\n",
    "\n",
    "arr_33 = np.arange(33).reshape(-1, 1)\n",
    "squared_33 = arr_33 ** 2\n",
    "summed_33 = np.sum(squared_33)\n",
    "meaned_33 = np.mean(squared_33)\n",
    "maxed_33 = np.max(squared_33)\n",
    "\n",
    "print(\"Cell 33 - Numpy\")\n",
    "print(\"Array shape:\", arr_33.shape)\n",
    "print(\"Sum:\", summed_33)\n",
    "print(\"Mean:\", meaned_33)\n",
    "print(\"Max:\", maxed_33)"
   ]
  },
  {
   "cell_type": "code",
   "execution_count": 34,
   "id": "2d54adc5",
   "metadata": {},
   "outputs": [
    {
     "name": "stdout",
     "output_type": "stream",
     "text": [
      "Cell 34 - Numpy\n",
      "Array shape: (34, 1)\n",
      "Sum: 12529\n",
      "Mean: 368.5\n",
      "Max: 1089\n"
     ]
    }
   ],
   "source": [
    "import numpy as np\n",
    "\n",
    "arr_34 = np.arange(34).reshape(-1, 1)\n",
    "squared_34 = arr_34 ** 2\n",
    "summed_34 = np.sum(squared_34)\n",
    "meaned_34 = np.mean(squared_34)\n",
    "maxed_34 = np.max(squared_34)\n",
    "\n",
    "print(\"Cell 34 - Numpy\")\n",
    "print(\"Array shape:\", arr_34.shape)\n",
    "print(\"Sum:\", summed_34)\n",
    "print(\"Mean:\", meaned_34)\n",
    "print(\"Max:\", maxed_34)"
   ]
  },
  {
   "cell_type": "code",
   "execution_count": 35,
   "id": "79ce2ef9",
   "metadata": {},
   "outputs": [
    {
     "name": "stdout",
     "output_type": "stream",
     "text": [
      "Cell 35 - Numpy\n",
      "Array shape: (35, 1)\n",
      "Sum: 13685\n",
      "Mean: 391.0\n",
      "Max: 1156\n"
     ]
    }
   ],
   "source": [
    "import numpy as np\n",
    "\n",
    "arr_35 = np.arange(35).reshape(-1, 1)\n",
    "squared_35 = arr_35 ** 2\n",
    "summed_35 = np.sum(squared_35)\n",
    "meaned_35 = np.mean(squared_35)\n",
    "maxed_35 = np.max(squared_35)\n",
    "\n",
    "print(\"Cell 35 - Numpy\")\n",
    "print(\"Array shape:\", arr_35.shape)\n",
    "print(\"Sum:\", summed_35)\n",
    "print(\"Mean:\", meaned_35)\n",
    "print(\"Max:\", maxed_35)"
   ]
  },
  {
   "cell_type": "code",
   "execution_count": 36,
   "id": "c66060ee",
   "metadata": {},
   "outputs": [
    {
     "name": "stdout",
     "output_type": "stream",
     "text": [
      "Cell 36 - Numpy\n",
      "Array shape: (36, 1)\n",
      "Sum: 14910\n",
      "Mean: 414.1666666666667\n",
      "Max: 1225\n"
     ]
    }
   ],
   "source": [
    "import numpy as np\n",
    "\n",
    "arr_36 = np.arange(36).reshape(-1, 1)\n",
    "squared_36 = arr_36 ** 2\n",
    "summed_36 = np.sum(squared_36)\n",
    "meaned_36 = np.mean(squared_36)\n",
    "maxed_36 = np.max(squared_36)\n",
    "\n",
    "print(\"Cell 36 - Numpy\")\n",
    "print(\"Array shape:\", arr_36.shape)\n",
    "print(\"Sum:\", summed_36)\n",
    "print(\"Mean:\", meaned_36)\n",
    "print(\"Max:\", maxed_36)"
   ]
  },
  {
   "cell_type": "code",
   "execution_count": 37,
   "id": "56f6c084",
   "metadata": {},
   "outputs": [
    {
     "name": "stdout",
     "output_type": "stream",
     "text": [
      "Cell 37 - Numpy\n",
      "Array shape: (37, 1)\n",
      "Sum: 16206\n",
      "Mean: 438.0\n",
      "Max: 1296\n"
     ]
    }
   ],
   "source": [
    "import numpy as np\n",
    "\n",
    "arr_37 = np.arange(37).reshape(-1, 1)\n",
    "squared_37 = arr_37 ** 2\n",
    "summed_37 = np.sum(squared_37)\n",
    "meaned_37 = np.mean(squared_37)\n",
    "maxed_37 = np.max(squared_37)\n",
    "\n",
    "print(\"Cell 37 - Numpy\")\n",
    "print(\"Array shape:\", arr_37.shape)\n",
    "print(\"Sum:\", summed_37)\n",
    "print(\"Mean:\", meaned_37)\n",
    "print(\"Max:\", maxed_37)"
   ]
  },
  {
   "cell_type": "code",
   "execution_count": 38,
   "id": "4f8764f8",
   "metadata": {},
   "outputs": [
    {
     "name": "stdout",
     "output_type": "stream",
     "text": [
      "Cell 38 - Numpy\n",
      "Array shape: (38, 1)\n",
      "Sum: 17575\n",
      "Mean: 462.5\n",
      "Max: 1369\n"
     ]
    }
   ],
   "source": [
    "import numpy as np\n",
    "\n",
    "arr_38 = np.arange(38).reshape(-1, 1)\n",
    "squared_38 = arr_38 ** 2\n",
    "summed_38 = np.sum(squared_38)\n",
    "meaned_38 = np.mean(squared_38)\n",
    "maxed_38 = np.max(squared_38)\n",
    "\n",
    "print(\"Cell 38 - Numpy\")\n",
    "print(\"Array shape:\", arr_38.shape)\n",
    "print(\"Sum:\", summed_38)\n",
    "print(\"Mean:\", meaned_38)\n",
    "print(\"Max:\", maxed_38)"
   ]
  },
  {
   "cell_type": "code",
   "execution_count": 39,
   "id": "5f964ff4",
   "metadata": {},
   "outputs": [
    {
     "name": "stdout",
     "output_type": "stream",
     "text": [
      "Cell 39 - Numpy\n",
      "Array shape: (39, 1)\n",
      "Sum: 19019\n",
      "Mean: 487.6666666666667\n",
      "Max: 1444\n"
     ]
    }
   ],
   "source": [
    "import numpy as np\n",
    "\n",
    "arr_39 = np.arange(39).reshape(-1, 1)\n",
    "squared_39 = arr_39 ** 2\n",
    "summed_39 = np.sum(squared_39)\n",
    "meaned_39 = np.mean(squared_39)\n",
    "maxed_39 = np.max(squared_39)\n",
    "\n",
    "print(\"Cell 39 - Numpy\")\n",
    "print(\"Array shape:\", arr_39.shape)\n",
    "print(\"Sum:\", summed_39)\n",
    "print(\"Mean:\", meaned_39)\n",
    "print(\"Max:\", maxed_39)"
   ]
  },
  {
   "cell_type": "code",
   "execution_count": 40,
   "id": "3d077b40",
   "metadata": {},
   "outputs": [
    {
     "name": "stdout",
     "output_type": "stream",
     "text": [
      "Cell 40 - Numpy\n",
      "Array shape: (40, 1)\n",
      "Sum: 20540\n",
      "Mean: 513.5\n",
      "Max: 1521\n"
     ]
    }
   ],
   "source": [
    "import numpy as np\n",
    "\n",
    "arr_40 = np.arange(40).reshape(-1, 1)\n",
    "squared_40 = arr_40 ** 2\n",
    "summed_40 = np.sum(squared_40)\n",
    "meaned_40 = np.mean(squared_40)\n",
    "maxed_40 = np.max(squared_40)\n",
    "\n",
    "print(\"Cell 40 - Numpy\")\n",
    "print(\"Array shape:\", arr_40.shape)\n",
    "print(\"Sum:\", summed_40)\n",
    "print(\"Mean:\", meaned_40)\n",
    "print(\"Max:\", maxed_40)"
   ]
  },
  {
   "cell_type": "code",
   "execution_count": 41,
   "id": "aac5ca00",
   "metadata": {},
   "outputs": [
    {
     "name": "stdout",
     "output_type": "stream",
     "text": [
      "Cell 41 - Numpy\n",
      "Array shape: (41, 1)\n",
      "Sum: 22140\n",
      "Mean: 540.0\n",
      "Max: 1600\n"
     ]
    }
   ],
   "source": [
    "import numpy as np\n",
    "\n",
    "arr_41 = np.arange(41).reshape(-1, 1)\n",
    "squared_41 = arr_41 ** 2\n",
    "summed_41 = np.sum(squared_41)\n",
    "meaned_41 = np.mean(squared_41)\n",
    "maxed_41 = np.max(squared_41)\n",
    "\n",
    "print(\"Cell 41 - Numpy\")\n",
    "print(\"Array shape:\", arr_41.shape)\n",
    "print(\"Sum:\", summed_41)\n",
    "print(\"Mean:\", meaned_41)\n",
    "print(\"Max:\", maxed_41)"
   ]
  },
  {
   "cell_type": "code",
   "execution_count": 42,
   "id": "e271b15b",
   "metadata": {},
   "outputs": [
    {
     "name": "stdout",
     "output_type": "stream",
     "text": [
      "Cell 42 - Numpy\n",
      "Array shape: (42, 1)\n",
      "Sum: 23821\n",
      "Mean: 567.1666666666666\n",
      "Max: 1681\n"
     ]
    }
   ],
   "source": [
    "import numpy as np\n",
    "\n",
    "arr_42 = np.arange(42).reshape(-1, 1)\n",
    "squared_42 = arr_42 ** 2\n",
    "summed_42 = np.sum(squared_42)\n",
    "meaned_42 = np.mean(squared_42)\n",
    "maxed_42 = np.max(squared_42)\n",
    "\n",
    "print(\"Cell 42 - Numpy\")\n",
    "print(\"Array shape:\", arr_42.shape)\n",
    "print(\"Sum:\", summed_42)\n",
    "print(\"Mean:\", meaned_42)\n",
    "print(\"Max:\", maxed_42)"
   ]
  },
  {
   "cell_type": "code",
   "execution_count": 43,
   "id": "7a667a52",
   "metadata": {},
   "outputs": [
    {
     "name": "stdout",
     "output_type": "stream",
     "text": [
      "Cell 43 - Numpy\n",
      "Array shape: (43, 1)\n",
      "Sum: 25585\n",
      "Mean: 595.0\n",
      "Max: 1764\n"
     ]
    }
   ],
   "source": [
    "import numpy as np\n",
    "\n",
    "arr_43 = np.arange(43).reshape(-1, 1)\n",
    "squared_43 = arr_43 ** 2\n",
    "summed_43 = np.sum(squared_43)\n",
    "meaned_43 = np.mean(squared_43)\n",
    "maxed_43 = np.max(squared_43)\n",
    "\n",
    "print(\"Cell 43 - Numpy\")\n",
    "print(\"Array shape:\", arr_43.shape)\n",
    "print(\"Sum:\", summed_43)\n",
    "print(\"Mean:\", meaned_43)\n",
    "print(\"Max:\", maxed_43)"
   ]
  },
  {
   "cell_type": "code",
   "execution_count": 44,
   "id": "ac657537",
   "metadata": {},
   "outputs": [
    {
     "name": "stdout",
     "output_type": "stream",
     "text": [
      "Cell 44 - Numpy\n",
      "Array shape: (44, 1)\n",
      "Sum: 27434\n",
      "Mean: 623.5\n",
      "Max: 1849\n"
     ]
    }
   ],
   "source": [
    "import numpy as np\n",
    "\n",
    "arr_44 = np.arange(44).reshape(-1, 1)\n",
    "squared_44 = arr_44 ** 2\n",
    "summed_44 = np.sum(squared_44)\n",
    "meaned_44 = np.mean(squared_44)\n",
    "maxed_44 = np.max(squared_44)\n",
    "\n",
    "print(\"Cell 44 - Numpy\")\n",
    "print(\"Array shape:\", arr_44.shape)\n",
    "print(\"Sum:\", summed_44)\n",
    "print(\"Mean:\", meaned_44)\n",
    "print(\"Max:\", maxed_44)"
   ]
  },
  {
   "cell_type": "code",
   "execution_count": 45,
   "id": "de4159e3",
   "metadata": {},
   "outputs": [
    {
     "name": "stdout",
     "output_type": "stream",
     "text": [
      "Cell 45 - Numpy\n",
      "Array shape: (45, 1)\n",
      "Sum: 29370\n",
      "Mean: 652.6666666666666\n",
      "Max: 1936\n"
     ]
    }
   ],
   "source": [
    "import numpy as np\n",
    "\n",
    "arr_45 = np.arange(45).reshape(-1, 1)\n",
    "squared_45 = arr_45 ** 2\n",
    "summed_45 = np.sum(squared_45)\n",
    "meaned_45 = np.mean(squared_45)\n",
    "maxed_45 = np.max(squared_45)\n",
    "\n",
    "print(\"Cell 45 - Numpy\")\n",
    "print(\"Array shape:\", arr_45.shape)\n",
    "print(\"Sum:\", summed_45)\n",
    "print(\"Mean:\", meaned_45)\n",
    "print(\"Max:\", maxed_45)"
   ]
  },
  {
   "cell_type": "code",
   "execution_count": 46,
   "id": "312364a3",
   "metadata": {},
   "outputs": [
    {
     "name": "stdout",
     "output_type": "stream",
     "text": [
      "Cell 46 - Numpy\n",
      "Array shape: (46, 1)\n",
      "Sum: 31395\n",
      "Mean: 682.5\n",
      "Max: 2025\n"
     ]
    }
   ],
   "source": [
    "import numpy as np\n",
    "\n",
    "arr_46 = np.arange(46).reshape(-1, 1)\n",
    "squared_46 = arr_46 ** 2\n",
    "summed_46 = np.sum(squared_46)\n",
    "meaned_46 = np.mean(squared_46)\n",
    "maxed_46 = np.max(squared_46)\n",
    "\n",
    "print(\"Cell 46 - Numpy\")\n",
    "print(\"Array shape:\", arr_46.shape)\n",
    "print(\"Sum:\", summed_46)\n",
    "print(\"Mean:\", meaned_46)\n",
    "print(\"Max:\", maxed_46)"
   ]
  },
  {
   "cell_type": "code",
   "execution_count": 47,
   "id": "f1d950f5",
   "metadata": {},
   "outputs": [
    {
     "name": "stdout",
     "output_type": "stream",
     "text": [
      "Cell 47 - Numpy\n",
      "Array shape: (47, 1)\n",
      "Sum: 33511\n",
      "Mean: 713.0\n",
      "Max: 2116\n"
     ]
    }
   ],
   "source": [
    "import numpy as np\n",
    "\n",
    "arr_47 = np.arange(47).reshape(-1, 1)\n",
    "squared_47 = arr_47 ** 2\n",
    "summed_47 = np.sum(squared_47)\n",
    "meaned_47 = np.mean(squared_47)\n",
    "maxed_47 = np.max(squared_47)\n",
    "\n",
    "print(\"Cell 47 - Numpy\")\n",
    "print(\"Array shape:\", arr_47.shape)\n",
    "print(\"Sum:\", summed_47)\n",
    "print(\"Mean:\", meaned_47)\n",
    "print(\"Max:\", maxed_47)"
   ]
  },
  {
   "cell_type": "code",
   "execution_count": 48,
   "id": "d44a522e",
   "metadata": {},
   "outputs": [
    {
     "name": "stdout",
     "output_type": "stream",
     "text": [
      "Cell 48 - Numpy\n",
      "Array shape: (48, 1)\n",
      "Sum: 35720\n",
      "Mean: 744.1666666666666\n",
      "Max: 2209\n"
     ]
    }
   ],
   "source": [
    "import numpy as np\n",
    "\n",
    "arr_48 = np.arange(48).reshape(-1, 1)\n",
    "squared_48 = arr_48 ** 2\n",
    "summed_48 = np.sum(squared_48)\n",
    "meaned_48 = np.mean(squared_48)\n",
    "maxed_48 = np.max(squared_48)\n",
    "\n",
    "print(\"Cell 48 - Numpy\")\n",
    "print(\"Array shape:\", arr_48.shape)\n",
    "print(\"Sum:\", summed_48)\n",
    "print(\"Mean:\", meaned_48)\n",
    "print(\"Max:\", maxed_48)"
   ]
  },
  {
   "cell_type": "code",
   "execution_count": 49,
   "id": "9d8bbc16",
   "metadata": {},
   "outputs": [
    {
     "name": "stdout",
     "output_type": "stream",
     "text": [
      "Cell 49 - Numpy\n",
      "Array shape: (49, 1)\n",
      "Sum: 38024\n",
      "Mean: 776.0\n",
      "Max: 2304\n"
     ]
    }
   ],
   "source": [
    "import numpy as np\n",
    "\n",
    "arr_49 = np.arange(49).reshape(-1, 1)\n",
    "squared_49 = arr_49 ** 2\n",
    "summed_49 = np.sum(squared_49)\n",
    "meaned_49 = np.mean(squared_49)\n",
    "maxed_49 = np.max(squared_49)\n",
    "\n",
    "print(\"Cell 49 - Numpy\")\n",
    "print(\"Array shape:\", arr_49.shape)\n",
    "print(\"Sum:\", summed_49)\n",
    "print(\"Mean:\", meaned_49)\n",
    "print(\"Max:\", maxed_49)"
   ]
  },
  {
   "cell_type": "code",
   "execution_count": 50,
   "id": "16b8ad0c",
   "metadata": {},
   "outputs": [
    {
     "name": "stdout",
     "output_type": "stream",
     "text": [
      "Cell 50 - Numpy\n",
      "Array shape: (50, 1)\n",
      "Sum: 40425\n",
      "Mean: 808.5\n",
      "Max: 2401\n"
     ]
    }
   ],
   "source": [
    "import numpy as np\n",
    "\n",
    "arr_50 = np.arange(50).reshape(-1, 1)\n",
    "squared_50 = arr_50 ** 2\n",
    "summed_50 = np.sum(squared_50)\n",
    "meaned_50 = np.mean(squared_50)\n",
    "maxed_50 = np.max(squared_50)\n",
    "\n",
    "print(\"Cell 50 - Numpy\")\n",
    "print(\"Array shape:\", arr_50.shape)\n",
    "print(\"Sum:\", summed_50)\n",
    "print(\"Mean:\", meaned_50)\n",
    "print(\"Max:\", maxed_50)"
   ]
  },
  {
   "cell_type": "code",
   "execution_count": 51,
   "id": "b81e0520",
   "metadata": {},
   "outputs": [
    {
     "name": "stdout",
     "output_type": "stream",
     "text": [
      "Cell 51 - Numpy\n",
      "Array shape: (51, 1)\n",
      "Sum: 42925\n",
      "Mean: 841.6666666666666\n",
      "Max: 2500\n"
     ]
    }
   ],
   "source": [
    "import numpy as np\n",
    "\n",
    "arr_51 = np.arange(51).reshape(-1, 1)\n",
    "squared_51 = arr_51 ** 2\n",
    "summed_51 = np.sum(squared_51)\n",
    "meaned_51 = np.mean(squared_51)\n",
    "maxed_51 = np.max(squared_51)\n",
    "\n",
    "print(\"Cell 51 - Numpy\")\n",
    "print(\"Array shape:\", arr_51.shape)\n",
    "print(\"Sum:\", summed_51)\n",
    "print(\"Mean:\", meaned_51)\n",
    "print(\"Max:\", maxed_51)"
   ]
  },
  {
   "cell_type": "code",
   "execution_count": 52,
   "id": "a6b87e6f",
   "metadata": {},
   "outputs": [
    {
     "name": "stdout",
     "output_type": "stream",
     "text": [
      "Cell 52 - Numpy\n",
      "Array shape: (52, 1)\n",
      "Sum: 45526\n",
      "Mean: 875.5\n",
      "Max: 2601\n"
     ]
    }
   ],
   "source": [
    "import numpy as np\n",
    "\n",
    "arr_52 = np.arange(52).reshape(-1, 1)\n",
    "squared_52 = arr_52 ** 2\n",
    "summed_52 = np.sum(squared_52)\n",
    "meaned_52 = np.mean(squared_52)\n",
    "maxed_52 = np.max(squared_52)\n",
    "\n",
    "print(\"Cell 52 - Numpy\")\n",
    "print(\"Array shape:\", arr_52.shape)\n",
    "print(\"Sum:\", summed_52)\n",
    "print(\"Mean:\", meaned_52)\n",
    "print(\"Max:\", maxed_52)"
   ]
  },
  {
   "cell_type": "code",
   "execution_count": 53,
   "id": "70a43a40",
   "metadata": {},
   "outputs": [
    {
     "name": "stdout",
     "output_type": "stream",
     "text": [
      "Cell 53 - Numpy\n",
      "Array shape: (53, 1)\n",
      "Sum: 48230\n",
      "Mean: 910.0\n",
      "Max: 2704\n"
     ]
    }
   ],
   "source": [
    "import numpy as np\n",
    "\n",
    "arr_53 = np.arange(53).reshape(-1, 1)\n",
    "squared_53 = arr_53 ** 2\n",
    "summed_53 = np.sum(squared_53)\n",
    "meaned_53 = np.mean(squared_53)\n",
    "maxed_53 = np.max(squared_53)\n",
    "\n",
    "print(\"Cell 53 - Numpy\")\n",
    "print(\"Array shape:\", arr_53.shape)\n",
    "print(\"Sum:\", summed_53)\n",
    "print(\"Mean:\", meaned_53)\n",
    "print(\"Max:\", maxed_53)"
   ]
  },
  {
   "cell_type": "code",
   "execution_count": 54,
   "id": "948cab9b",
   "metadata": {},
   "outputs": [
    {
     "name": "stdout",
     "output_type": "stream",
     "text": [
      "Cell 54 - Numpy\n",
      "Array shape: (54, 1)\n",
      "Sum: 51039\n",
      "Mean: 945.1666666666666\n",
      "Max: 2809\n"
     ]
    }
   ],
   "source": [
    "import numpy as np\n",
    "\n",
    "arr_54 = np.arange(54).reshape(-1, 1)\n",
    "squared_54 = arr_54 ** 2\n",
    "summed_54 = np.sum(squared_54)\n",
    "meaned_54 = np.mean(squared_54)\n",
    "maxed_54 = np.max(squared_54)\n",
    "\n",
    "print(\"Cell 54 - Numpy\")\n",
    "print(\"Array shape:\", arr_54.shape)\n",
    "print(\"Sum:\", summed_54)\n",
    "print(\"Mean:\", meaned_54)\n",
    "print(\"Max:\", maxed_54)"
   ]
  },
  {
   "cell_type": "code",
   "execution_count": 55,
   "id": "0d507551",
   "metadata": {},
   "outputs": [
    {
     "name": "stdout",
     "output_type": "stream",
     "text": [
      "Cell 55 - Numpy\n",
      "Array shape: (55, 1)\n",
      "Sum: 53955\n",
      "Mean: 981.0\n",
      "Max: 2916\n"
     ]
    }
   ],
   "source": [
    "import numpy as np\n",
    "\n",
    "arr_55 = np.arange(55).reshape(-1, 1)\n",
    "squared_55 = arr_55 ** 2\n",
    "summed_55 = np.sum(squared_55)\n",
    "meaned_55 = np.mean(squared_55)\n",
    "maxed_55 = np.max(squared_55)\n",
    "\n",
    "print(\"Cell 55 - Numpy\")\n",
    "print(\"Array shape:\", arr_55.shape)\n",
    "print(\"Sum:\", summed_55)\n",
    "print(\"Mean:\", meaned_55)\n",
    "print(\"Max:\", maxed_55)"
   ]
  },
  {
   "cell_type": "code",
   "execution_count": 56,
   "id": "8e3f784e",
   "metadata": {},
   "outputs": [
    {
     "name": "stdout",
     "output_type": "stream",
     "text": [
      "Cell 56 - Numpy\n",
      "Array shape: (56, 1)\n",
      "Sum: 56980\n",
      "Mean: 1017.5\n",
      "Max: 3025\n"
     ]
    }
   ],
   "source": [
    "import numpy as np\n",
    "\n",
    "arr_56 = np.arange(56).reshape(-1, 1)\n",
    "squared_56 = arr_56 ** 2\n",
    "summed_56 = np.sum(squared_56)\n",
    "meaned_56 = np.mean(squared_56)\n",
    "maxed_56 = np.max(squared_56)\n",
    "\n",
    "print(\"Cell 56 - Numpy\")\n",
    "print(\"Array shape:\", arr_56.shape)\n",
    "print(\"Sum:\", summed_56)\n",
    "print(\"Mean:\", meaned_56)\n",
    "print(\"Max:\", maxed_56)"
   ]
  },
  {
   "cell_type": "code",
   "execution_count": 57,
   "id": "32597391",
   "metadata": {},
   "outputs": [
    {
     "name": "stdout",
     "output_type": "stream",
     "text": [
      "Cell 57 - Numpy\n",
      "Array shape: (57, 1)\n",
      "Sum: 60116\n",
      "Mean: 1054.6666666666667\n",
      "Max: 3136\n"
     ]
    }
   ],
   "source": [
    "import numpy as np\n",
    "\n",
    "arr_57 = np.arange(57).reshape(-1, 1)\n",
    "squared_57 = arr_57 ** 2\n",
    "summed_57 = np.sum(squared_57)\n",
    "meaned_57 = np.mean(squared_57)\n",
    "maxed_57 = np.max(squared_57)\n",
    "\n",
    "print(\"Cell 57 - Numpy\")\n",
    "print(\"Array shape:\", arr_57.shape)\n",
    "print(\"Sum:\", summed_57)\n",
    "print(\"Mean:\", meaned_57)\n",
    "print(\"Max:\", maxed_57)"
   ]
  },
  {
   "cell_type": "code",
   "execution_count": 58,
   "id": "218824c6",
   "metadata": {},
   "outputs": [
    {
     "name": "stdout",
     "output_type": "stream",
     "text": [
      "Cell 58 - Numpy\n",
      "Array shape: (58, 1)\n",
      "Sum: 63365\n",
      "Mean: 1092.5\n",
      "Max: 3249\n"
     ]
    }
   ],
   "source": [
    "import numpy as np\n",
    "\n",
    "arr_58 = np.arange(58).reshape(-1, 1)\n",
    "squared_58 = arr_58 ** 2\n",
    "summed_58 = np.sum(squared_58)\n",
    "meaned_58 = np.mean(squared_58)\n",
    "maxed_58 = np.max(squared_58)\n",
    "\n",
    "print(\"Cell 58 - Numpy\")\n",
    "print(\"Array shape:\", arr_58.shape)\n",
    "print(\"Sum:\", summed_58)\n",
    "print(\"Mean:\", meaned_58)\n",
    "print(\"Max:\", maxed_58)"
   ]
  },
  {
   "cell_type": "code",
   "execution_count": 59,
   "id": "581683aa",
   "metadata": {},
   "outputs": [
    {
     "name": "stdout",
     "output_type": "stream",
     "text": [
      "Cell 59 - Numpy\n",
      "Array shape: (59, 1)\n",
      "Sum: 66729\n",
      "Mean: 1131.0\n",
      "Max: 3364\n"
     ]
    }
   ],
   "source": [
    "import numpy as np\n",
    "\n",
    "arr_59 = np.arange(59).reshape(-1, 1)\n",
    "squared_59 = arr_59 ** 2\n",
    "summed_59 = np.sum(squared_59)\n",
    "meaned_59 = np.mean(squared_59)\n",
    "maxed_59 = np.max(squared_59)\n",
    "\n",
    "print(\"Cell 59 - Numpy\")\n",
    "print(\"Array shape:\", arr_59.shape)\n",
    "print(\"Sum:\", summed_59)\n",
    "print(\"Mean:\", meaned_59)\n",
    "print(\"Max:\", maxed_59)"
   ]
  },
  {
   "cell_type": "code",
   "execution_count": 60,
   "id": "63988ff8",
   "metadata": {},
   "outputs": [
    {
     "name": "stdout",
     "output_type": "stream",
     "text": [
      "Cell 60 - Numpy\n",
      "Array shape: (60, 1)\n",
      "Sum: 70210\n",
      "Mean: 1170.1666666666667\n",
      "Max: 3481\n"
     ]
    }
   ],
   "source": [
    "import numpy as np\n",
    "\n",
    "arr_60 = np.arange(60).reshape(-1, 1)\n",
    "squared_60 = arr_60 ** 2\n",
    "summed_60 = np.sum(squared_60)\n",
    "meaned_60 = np.mean(squared_60)\n",
    "maxed_60 = np.max(squared_60)\n",
    "\n",
    "print(\"Cell 60 - Numpy\")\n",
    "print(\"Array shape:\", arr_60.shape)\n",
    "print(\"Sum:\", summed_60)\n",
    "print(\"Mean:\", meaned_60)\n",
    "print(\"Max:\", maxed_60)"
   ]
  },
  {
   "cell_type": "code",
   "execution_count": 61,
   "id": "5b43cfda",
   "metadata": {},
   "outputs": [
    {
     "name": "stdout",
     "output_type": "stream",
     "text": [
      "Cell 61 - Numpy\n",
      "Array shape: (61, 1)\n",
      "Sum: 73810\n",
      "Mean: 1210.0\n",
      "Max: 3600\n"
     ]
    }
   ],
   "source": [
    "import numpy as np\n",
    "\n",
    "arr_61 = np.arange(61).reshape(-1, 1)\n",
    "squared_61 = arr_61 ** 2\n",
    "summed_61 = np.sum(squared_61)\n",
    "meaned_61 = np.mean(squared_61)\n",
    "maxed_61 = np.max(squared_61)\n",
    "\n",
    "print(\"Cell 61 - Numpy\")\n",
    "print(\"Array shape:\", arr_61.shape)\n",
    "print(\"Sum:\", summed_61)\n",
    "print(\"Mean:\", meaned_61)\n",
    "print(\"Max:\", maxed_61)"
   ]
  },
  {
   "cell_type": "code",
   "execution_count": 62,
   "id": "0c3da5ea",
   "metadata": {},
   "outputs": [
    {
     "name": "stdout",
     "output_type": "stream",
     "text": [
      "Cell 62 - Numpy\n",
      "Array shape: (62, 1)\n",
      "Sum: 77531\n",
      "Mean: 1250.5\n",
      "Max: 3721\n"
     ]
    }
   ],
   "source": [
    "import numpy as np\n",
    "\n",
    "arr_62 = np.arange(62).reshape(-1, 1)\n",
    "squared_62 = arr_62 ** 2\n",
    "summed_62 = np.sum(squared_62)\n",
    "meaned_62 = np.mean(squared_62)\n",
    "maxed_62 = np.max(squared_62)\n",
    "\n",
    "print(\"Cell 62 - Numpy\")\n",
    "print(\"Array shape:\", arr_62.shape)\n",
    "print(\"Sum:\", summed_62)\n",
    "print(\"Mean:\", meaned_62)\n",
    "print(\"Max:\", maxed_62)"
   ]
  },
  {
   "cell_type": "code",
   "execution_count": 63,
   "id": "ab9a1928",
   "metadata": {},
   "outputs": [
    {
     "name": "stdout",
     "output_type": "stream",
     "text": [
      "Cell 63 - Numpy\n",
      "Array shape: (63, 1)\n",
      "Sum: 81375\n",
      "Mean: 1291.6666666666667\n",
      "Max: 3844\n"
     ]
    }
   ],
   "source": [
    "import numpy as np\n",
    "\n",
    "arr_63 = np.arange(63).reshape(-1, 1)\n",
    "squared_63 = arr_63 ** 2\n",
    "summed_63 = np.sum(squared_63)\n",
    "meaned_63 = np.mean(squared_63)\n",
    "maxed_63 = np.max(squared_63)\n",
    "\n",
    "print(\"Cell 63 - Numpy\")\n",
    "print(\"Array shape:\", arr_63.shape)\n",
    "print(\"Sum:\", summed_63)\n",
    "print(\"Mean:\", meaned_63)\n",
    "print(\"Max:\", maxed_63)"
   ]
  },
  {
   "cell_type": "code",
   "execution_count": 64,
   "id": "c75008ee",
   "metadata": {},
   "outputs": [
    {
     "name": "stdout",
     "output_type": "stream",
     "text": [
      "Cell 64 - Numpy\n",
      "Array shape: (64, 1)\n",
      "Sum: 85344\n",
      "Mean: 1333.5\n",
      "Max: 3969\n"
     ]
    }
   ],
   "source": [
    "import numpy as np\n",
    "\n",
    "arr_64 = np.arange(64).reshape(-1, 1)\n",
    "squared_64 = arr_64 ** 2\n",
    "summed_64 = np.sum(squared_64)\n",
    "meaned_64 = np.mean(squared_64)\n",
    "maxed_64 = np.max(squared_64)\n",
    "\n",
    "print(\"Cell 64 - Numpy\")\n",
    "print(\"Array shape:\", arr_64.shape)\n",
    "print(\"Sum:\", summed_64)\n",
    "print(\"Mean:\", meaned_64)\n",
    "print(\"Max:\", maxed_64)"
   ]
  },
  {
   "cell_type": "code",
   "execution_count": 65,
   "id": "f038cc42",
   "metadata": {},
   "outputs": [
    {
     "name": "stdout",
     "output_type": "stream",
     "text": [
      "Cell 65 - Numpy\n",
      "Array shape: (65, 1)\n",
      "Sum: 89440\n",
      "Mean: 1376.0\n",
      "Max: 4096\n"
     ]
    }
   ],
   "source": [
    "import numpy as np\n",
    "\n",
    "arr_65 = np.arange(65).reshape(-1, 1)\n",
    "squared_65 = arr_65 ** 2\n",
    "summed_65 = np.sum(squared_65)\n",
    "meaned_65 = np.mean(squared_65)\n",
    "maxed_65 = np.max(squared_65)\n",
    "\n",
    "print(\"Cell 65 - Numpy\")\n",
    "print(\"Array shape:\", arr_65.shape)\n",
    "print(\"Sum:\", summed_65)\n",
    "print(\"Mean:\", meaned_65)\n",
    "print(\"Max:\", maxed_65)"
   ]
  },
  {
   "cell_type": "code",
   "execution_count": 66,
   "id": "c571ceb4",
   "metadata": {},
   "outputs": [
    {
     "name": "stdout",
     "output_type": "stream",
     "text": [
      "Cell 66 - Numpy\n",
      "Array shape: (66, 1)\n",
      "Sum: 93665\n",
      "Mean: 1419.1666666666667\n",
      "Max: 4225\n"
     ]
    }
   ],
   "source": [
    "import numpy as np\n",
    "\n",
    "arr_66 = np.arange(66).reshape(-1, 1)\n",
    "squared_66 = arr_66 ** 2\n",
    "summed_66 = np.sum(squared_66)\n",
    "meaned_66 = np.mean(squared_66)\n",
    "maxed_66 = np.max(squared_66)\n",
    "\n",
    "print(\"Cell 66 - Numpy\")\n",
    "print(\"Array shape:\", arr_66.shape)\n",
    "print(\"Sum:\", summed_66)\n",
    "print(\"Mean:\", meaned_66)\n",
    "print(\"Max:\", maxed_66)"
   ]
  },
  {
   "cell_type": "code",
   "execution_count": 67,
   "id": "ad9a1fc2",
   "metadata": {},
   "outputs": [
    {
     "name": "stdout",
     "output_type": "stream",
     "text": [
      "Cell 67 - Numpy\n",
      "Array shape: (67, 1)\n",
      "Sum: 98021\n",
      "Mean: 1463.0\n",
      "Max: 4356\n"
     ]
    }
   ],
   "source": [
    "import numpy as np\n",
    "\n",
    "arr_67 = np.arange(67).reshape(-1, 1)\n",
    "squared_67 = arr_67 ** 2\n",
    "summed_67 = np.sum(squared_67)\n",
    "meaned_67 = np.mean(squared_67)\n",
    "maxed_67 = np.max(squared_67)\n",
    "\n",
    "print(\"Cell 67 - Numpy\")\n",
    "print(\"Array shape:\", arr_67.shape)\n",
    "print(\"Sum:\", summed_67)\n",
    "print(\"Mean:\", meaned_67)\n",
    "print(\"Max:\", maxed_67)"
   ]
  },
  {
   "cell_type": "code",
   "execution_count": 68,
   "id": "4fe7ef4c",
   "metadata": {},
   "outputs": [
    {
     "name": "stdout",
     "output_type": "stream",
     "text": [
      "Cell 68 - Numpy\n",
      "Array shape: (68, 1)\n",
      "Sum: 102510\n",
      "Mean: 1507.5\n",
      "Max: 4489\n"
     ]
    }
   ],
   "source": [
    "import numpy as np\n",
    "\n",
    "arr_68 = np.arange(68).reshape(-1, 1)\n",
    "squared_68 = arr_68 ** 2\n",
    "summed_68 = np.sum(squared_68)\n",
    "meaned_68 = np.mean(squared_68)\n",
    "maxed_68 = np.max(squared_68)\n",
    "\n",
    "print(\"Cell 68 - Numpy\")\n",
    "print(\"Array shape:\", arr_68.shape)\n",
    "print(\"Sum:\", summed_68)\n",
    "print(\"Mean:\", meaned_68)\n",
    "print(\"Max:\", maxed_68)"
   ]
  },
  {
   "cell_type": "code",
   "execution_count": 69,
   "id": "17c4cb3e",
   "metadata": {},
   "outputs": [
    {
     "name": "stdout",
     "output_type": "stream",
     "text": [
      "Cell 69 - Numpy\n",
      "Array shape: (69, 1)\n",
      "Sum: 107134\n",
      "Mean: 1552.6666666666667\n",
      "Max: 4624\n"
     ]
    }
   ],
   "source": [
    "import numpy as np\n",
    "\n",
    "arr_69 = np.arange(69).reshape(-1, 1)\n",
    "squared_69 = arr_69 ** 2\n",
    "summed_69 = np.sum(squared_69)\n",
    "meaned_69 = np.mean(squared_69)\n",
    "maxed_69 = np.max(squared_69)\n",
    "\n",
    "print(\"Cell 69 - Numpy\")\n",
    "print(\"Array shape:\", arr_69.shape)\n",
    "print(\"Sum:\", summed_69)\n",
    "print(\"Mean:\", meaned_69)\n",
    "print(\"Max:\", maxed_69)"
   ]
  },
  {
   "cell_type": "code",
   "execution_count": 70,
   "id": "03c11590",
   "metadata": {},
   "outputs": [
    {
     "name": "stdout",
     "output_type": "stream",
     "text": [
      "Cell 70 - Numpy\n",
      "Array shape: (70, 1)\n",
      "Sum: 111895\n",
      "Mean: 1598.5\n",
      "Max: 4761\n"
     ]
    }
   ],
   "source": [
    "import numpy as np\n",
    "\n",
    "arr_70 = np.arange(70).reshape(-1, 1)\n",
    "squared_70 = arr_70 ** 2\n",
    "summed_70 = np.sum(squared_70)\n",
    "meaned_70 = np.mean(squared_70)\n",
    "maxed_70 = np.max(squared_70)\n",
    "\n",
    "print(\"Cell 70 - Numpy\")\n",
    "print(\"Array shape:\", arr_70.shape)\n",
    "print(\"Sum:\", summed_70)\n",
    "print(\"Mean:\", meaned_70)\n",
    "print(\"Max:\", maxed_70)"
   ]
  },
  {
   "cell_type": "code",
   "execution_count": 71,
   "id": "007553c6",
   "metadata": {},
   "outputs": [
    {
     "name": "stdout",
     "output_type": "stream",
     "text": [
      "Cell 71 - Numpy\n",
      "Array shape: (71, 1)\n",
      "Sum: 116795\n",
      "Mean: 1645.0\n",
      "Max: 4900\n"
     ]
    }
   ],
   "source": [
    "import numpy as np\n",
    "\n",
    "arr_71 = np.arange(71).reshape(-1, 1)\n",
    "squared_71 = arr_71 ** 2\n",
    "summed_71 = np.sum(squared_71)\n",
    "meaned_71 = np.mean(squared_71)\n",
    "maxed_71 = np.max(squared_71)\n",
    "\n",
    "print(\"Cell 71 - Numpy\")\n",
    "print(\"Array shape:\", arr_71.shape)\n",
    "print(\"Sum:\", summed_71)\n",
    "print(\"Mean:\", meaned_71)\n",
    "print(\"Max:\", maxed_71)"
   ]
  },
  {
   "cell_type": "code",
   "execution_count": 72,
   "id": "d806fa2d",
   "metadata": {},
   "outputs": [
    {
     "name": "stdout",
     "output_type": "stream",
     "text": [
      "Cell 72 - Numpy\n",
      "Array shape: (72, 1)\n",
      "Sum: 121836\n",
      "Mean: 1692.1666666666667\n",
      "Max: 5041\n"
     ]
    }
   ],
   "source": [
    "import numpy as np\n",
    "\n",
    "arr_72 = np.arange(72).reshape(-1, 1)\n",
    "squared_72 = arr_72 ** 2\n",
    "summed_72 = np.sum(squared_72)\n",
    "meaned_72 = np.mean(squared_72)\n",
    "maxed_72 = np.max(squared_72)\n",
    "\n",
    "print(\"Cell 72 - Numpy\")\n",
    "print(\"Array shape:\", arr_72.shape)\n",
    "print(\"Sum:\", summed_72)\n",
    "print(\"Mean:\", meaned_72)\n",
    "print(\"Max:\", maxed_72)"
   ]
  },
  {
   "cell_type": "code",
   "execution_count": 73,
   "id": "e5c8f4fe",
   "metadata": {},
   "outputs": [
    {
     "name": "stdout",
     "output_type": "stream",
     "text": [
      "Cell 73 - Numpy\n",
      "Array shape: (73, 1)\n",
      "Sum: 127020\n",
      "Mean: 1740.0\n",
      "Max: 5184\n"
     ]
    }
   ],
   "source": [
    "import numpy as np\n",
    "\n",
    "arr_73 = np.arange(73).reshape(-1, 1)\n",
    "squared_73 = arr_73 ** 2\n",
    "summed_73 = np.sum(squared_73)\n",
    "meaned_73 = np.mean(squared_73)\n",
    "maxed_73 = np.max(squared_73)\n",
    "\n",
    "print(\"Cell 73 - Numpy\")\n",
    "print(\"Array shape:\", arr_73.shape)\n",
    "print(\"Sum:\", summed_73)\n",
    "print(\"Mean:\", meaned_73)\n",
    "print(\"Max:\", maxed_73)"
   ]
  },
  {
   "cell_type": "code",
   "execution_count": 74,
   "id": "79f9a11e",
   "metadata": {},
   "outputs": [
    {
     "name": "stdout",
     "output_type": "stream",
     "text": [
      "Cell 74 - Numpy\n",
      "Array shape: (74, 1)\n",
      "Sum: 132349\n",
      "Mean: 1788.5\n",
      "Max: 5329\n"
     ]
    }
   ],
   "source": [
    "import numpy as np\n",
    "\n",
    "arr_74 = np.arange(74).reshape(-1, 1)\n",
    "squared_74 = arr_74 ** 2\n",
    "summed_74 = np.sum(squared_74)\n",
    "meaned_74 = np.mean(squared_74)\n",
    "maxed_74 = np.max(squared_74)\n",
    "\n",
    "print(\"Cell 74 - Numpy\")\n",
    "print(\"Array shape:\", arr_74.shape)\n",
    "print(\"Sum:\", summed_74)\n",
    "print(\"Mean:\", meaned_74)\n",
    "print(\"Max:\", maxed_74)"
   ]
  },
  {
   "cell_type": "code",
   "execution_count": 75,
   "id": "607f4fb6",
   "metadata": {},
   "outputs": [
    {
     "name": "stdout",
     "output_type": "stream",
     "text": [
      "Cell 75 - Numpy\n",
      "Array shape: (75, 1)\n",
      "Sum: 137825\n",
      "Mean: 1837.6666666666667\n",
      "Max: 5476\n"
     ]
    }
   ],
   "source": [
    "import numpy as np\n",
    "\n",
    "arr_75 = np.arange(75).reshape(-1, 1)\n",
    "squared_75 = arr_75 ** 2\n",
    "summed_75 = np.sum(squared_75)\n",
    "meaned_75 = np.mean(squared_75)\n",
    "maxed_75 = np.max(squared_75)\n",
    "\n",
    "print(\"Cell 75 - Numpy\")\n",
    "print(\"Array shape:\", arr_75.shape)\n",
    "print(\"Sum:\", summed_75)\n",
    "print(\"Mean:\", meaned_75)\n",
    "print(\"Max:\", maxed_75)"
   ]
  },
  {
   "cell_type": "code",
   "execution_count": 76,
   "id": "76fd959d",
   "metadata": {},
   "outputs": [
    {
     "name": "stdout",
     "output_type": "stream",
     "text": [
      "Cell 76 - Numpy\n",
      "Array shape: (76, 1)\n",
      "Sum: 143450\n",
      "Mean: 1887.5\n",
      "Max: 5625\n"
     ]
    }
   ],
   "source": [
    "import numpy as np\n",
    "\n",
    "arr_76 = np.arange(76).reshape(-1, 1)\n",
    "squared_76 = arr_76 ** 2\n",
    "summed_76 = np.sum(squared_76)\n",
    "meaned_76 = np.mean(squared_76)\n",
    "maxed_76 = np.max(squared_76)\n",
    "\n",
    "print(\"Cell 76 - Numpy\")\n",
    "print(\"Array shape:\", arr_76.shape)\n",
    "print(\"Sum:\", summed_76)\n",
    "print(\"Mean:\", meaned_76)\n",
    "print(\"Max:\", maxed_76)"
   ]
  },
  {
   "cell_type": "code",
   "execution_count": 77,
   "id": "44abee0c",
   "metadata": {},
   "outputs": [
    {
     "name": "stdout",
     "output_type": "stream",
     "text": [
      "Cell 77 - Numpy\n",
      "Array shape: (77, 1)\n",
      "Sum: 149226\n",
      "Mean: 1938.0\n",
      "Max: 5776\n"
     ]
    }
   ],
   "source": [
    "import numpy as np\n",
    "\n",
    "arr_77 = np.arange(77).reshape(-1, 1)\n",
    "squared_77 = arr_77 ** 2\n",
    "summed_77 = np.sum(squared_77)\n",
    "meaned_77 = np.mean(squared_77)\n",
    "maxed_77 = np.max(squared_77)\n",
    "\n",
    "print(\"Cell 77 - Numpy\")\n",
    "print(\"Array shape:\", arr_77.shape)\n",
    "print(\"Sum:\", summed_77)\n",
    "print(\"Mean:\", meaned_77)\n",
    "print(\"Max:\", maxed_77)"
   ]
  },
  {
   "cell_type": "code",
   "execution_count": 78,
   "id": "23666fd7",
   "metadata": {},
   "outputs": [
    {
     "name": "stdout",
     "output_type": "stream",
     "text": [
      "Cell 78 - Numpy\n",
      "Array shape: (78, 1)\n",
      "Sum: 155155\n",
      "Mean: 1989.1666666666667\n",
      "Max: 5929\n"
     ]
    }
   ],
   "source": [
    "import numpy as np\n",
    "\n",
    "arr_78 = np.arange(78).reshape(-1, 1)\n",
    "squared_78 = arr_78 ** 2\n",
    "summed_78 = np.sum(squared_78)\n",
    "meaned_78 = np.mean(squared_78)\n",
    "maxed_78 = np.max(squared_78)\n",
    "\n",
    "print(\"Cell 78 - Numpy\")\n",
    "print(\"Array shape:\", arr_78.shape)\n",
    "print(\"Sum:\", summed_78)\n",
    "print(\"Mean:\", meaned_78)\n",
    "print(\"Max:\", maxed_78)"
   ]
  },
  {
   "cell_type": "code",
   "execution_count": 79,
   "id": "b2ba84b4",
   "metadata": {},
   "outputs": [
    {
     "name": "stdout",
     "output_type": "stream",
     "text": [
      "Cell 79 - Numpy\n",
      "Array shape: (79, 1)\n",
      "Sum: 161239\n",
      "Mean: 2041.0\n",
      "Max: 6084\n"
     ]
    }
   ],
   "source": [
    "import numpy as np\n",
    "\n",
    "arr_79 = np.arange(79).reshape(-1, 1)\n",
    "squared_79 = arr_79 ** 2\n",
    "summed_79 = np.sum(squared_79)\n",
    "meaned_79 = np.mean(squared_79)\n",
    "maxed_79 = np.max(squared_79)\n",
    "\n",
    "print(\"Cell 79 - Numpy\")\n",
    "print(\"Array shape:\", arr_79.shape)\n",
    "print(\"Sum:\", summed_79)\n",
    "print(\"Mean:\", meaned_79)\n",
    "print(\"Max:\", maxed_79)"
   ]
  },
  {
   "cell_type": "code",
   "execution_count": 80,
   "id": "d4dcc536",
   "metadata": {},
   "outputs": [
    {
     "name": "stdout",
     "output_type": "stream",
     "text": [
      "Cell 80 - Numpy\n",
      "Array shape: (80, 1)\n",
      "Sum: 167480\n",
      "Mean: 2093.5\n",
      "Max: 6241\n"
     ]
    }
   ],
   "source": [
    "import numpy as np\n",
    "\n",
    "arr_80 = np.arange(80).reshape(-1, 1)\n",
    "squared_80 = arr_80 ** 2\n",
    "summed_80 = np.sum(squared_80)\n",
    "meaned_80 = np.mean(squared_80)\n",
    "maxed_80 = np.max(squared_80)\n",
    "\n",
    "print(\"Cell 80 - Numpy\")\n",
    "print(\"Array shape:\", arr_80.shape)\n",
    "print(\"Sum:\", summed_80)\n",
    "print(\"Mean:\", meaned_80)\n",
    "print(\"Max:\", maxed_80)"
   ]
  },
  {
   "cell_type": "code",
   "execution_count": 81,
   "id": "8333bd4c",
   "metadata": {},
   "outputs": [
    {
     "name": "stdout",
     "output_type": "stream",
     "text": [
      "Cell 81 - Numpy\n",
      "Array shape: (81, 1)\n",
      "Sum: 173880\n",
      "Mean: 2146.6666666666665\n",
      "Max: 6400\n"
     ]
    }
   ],
   "source": [
    "import numpy as np\n",
    "\n",
    "arr_81 = np.arange(81).reshape(-1, 1)\n",
    "squared_81 = arr_81 ** 2\n",
    "summed_81 = np.sum(squared_81)\n",
    "meaned_81 = np.mean(squared_81)\n",
    "maxed_81 = np.max(squared_81)\n",
    "\n",
    "print(\"Cell 81 - Numpy\")\n",
    "print(\"Array shape:\", arr_81.shape)\n",
    "print(\"Sum:\", summed_81)\n",
    "print(\"Mean:\", meaned_81)\n",
    "print(\"Max:\", maxed_81)"
   ]
  },
  {
   "cell_type": "code",
   "execution_count": 82,
   "id": "7e0147c9",
   "metadata": {},
   "outputs": [
    {
     "name": "stdout",
     "output_type": "stream",
     "text": [
      "Cell 82 - Numpy\n",
      "Array shape: (82, 1)\n",
      "Sum: 180441\n",
      "Mean: 2200.5\n",
      "Max: 6561\n"
     ]
    }
   ],
   "source": [
    "import numpy as np\n",
    "\n",
    "arr_82 = np.arange(82).reshape(-1, 1)\n",
    "squared_82 = arr_82 ** 2\n",
    "summed_82 = np.sum(squared_82)\n",
    "meaned_82 = np.mean(squared_82)\n",
    "maxed_82 = np.max(squared_82)\n",
    "\n",
    "print(\"Cell 82 - Numpy\")\n",
    "print(\"Array shape:\", arr_82.shape)\n",
    "print(\"Sum:\", summed_82)\n",
    "print(\"Mean:\", meaned_82)\n",
    "print(\"Max:\", maxed_82)"
   ]
  },
  {
   "cell_type": "code",
   "execution_count": 83,
   "id": "87e76b40",
   "metadata": {},
   "outputs": [
    {
     "name": "stdout",
     "output_type": "stream",
     "text": [
      "Cell 83 - Numpy\n",
      "Array shape: (83, 1)\n",
      "Sum: 187165\n",
      "Mean: 2255.0\n",
      "Max: 6724\n"
     ]
    }
   ],
   "source": [
    "import numpy as np\n",
    "\n",
    "arr_83 = np.arange(83).reshape(-1, 1)\n",
    "squared_83 = arr_83 ** 2\n",
    "summed_83 = np.sum(squared_83)\n",
    "meaned_83 = np.mean(squared_83)\n",
    "maxed_83 = np.max(squared_83)\n",
    "\n",
    "print(\"Cell 83 - Numpy\")\n",
    "print(\"Array shape:\", arr_83.shape)\n",
    "print(\"Sum:\", summed_83)\n",
    "print(\"Mean:\", meaned_83)\n",
    "print(\"Max:\", maxed_83)"
   ]
  },
  {
   "cell_type": "code",
   "execution_count": 84,
   "id": "f132c82b",
   "metadata": {},
   "outputs": [
    {
     "name": "stdout",
     "output_type": "stream",
     "text": [
      "Cell 84 - Numpy\n",
      "Array shape: (84, 1)\n",
      "Sum: 194054\n",
      "Mean: 2310.1666666666665\n",
      "Max: 6889\n"
     ]
    }
   ],
   "source": [
    "import numpy as np\n",
    "\n",
    "arr_84 = np.arange(84).reshape(-1, 1)\n",
    "squared_84 = arr_84 ** 2\n",
    "summed_84 = np.sum(squared_84)\n",
    "meaned_84 = np.mean(squared_84)\n",
    "maxed_84 = np.max(squared_84)\n",
    "\n",
    "print(\"Cell 84 - Numpy\")\n",
    "print(\"Array shape:\", arr_84.shape)\n",
    "print(\"Sum:\", summed_84)\n",
    "print(\"Mean:\", meaned_84)\n",
    "print(\"Max:\", maxed_84)"
   ]
  },
  {
   "cell_type": "code",
   "execution_count": 85,
   "id": "2e5a0113",
   "metadata": {},
   "outputs": [
    {
     "name": "stdout",
     "output_type": "stream",
     "text": [
      "Cell 85 - Numpy\n",
      "Array shape: (85, 1)\n",
      "Sum: 201110\n",
      "Mean: 2366.0\n",
      "Max: 7056\n"
     ]
    }
   ],
   "source": [
    "import numpy as np\n",
    "\n",
    "arr_85 = np.arange(85).reshape(-1, 1)\n",
    "squared_85 = arr_85 ** 2\n",
    "summed_85 = np.sum(squared_85)\n",
    "meaned_85 = np.mean(squared_85)\n",
    "maxed_85 = np.max(squared_85)\n",
    "\n",
    "print(\"Cell 85 - Numpy\")\n",
    "print(\"Array shape:\", arr_85.shape)\n",
    "print(\"Sum:\", summed_85)\n",
    "print(\"Mean:\", meaned_85)\n",
    "print(\"Max:\", maxed_85)"
   ]
  },
  {
   "cell_type": "code",
   "execution_count": 86,
   "id": "ce5dac66",
   "metadata": {},
   "outputs": [
    {
     "name": "stdout",
     "output_type": "stream",
     "text": [
      "Cell 86 - Numpy\n",
      "Array shape: (86, 1)\n",
      "Sum: 208335\n",
      "Mean: 2422.5\n",
      "Max: 7225\n"
     ]
    }
   ],
   "source": [
    "import numpy as np\n",
    "\n",
    "arr_86 = np.arange(86).reshape(-1, 1)\n",
    "squared_86 = arr_86 ** 2\n",
    "summed_86 = np.sum(squared_86)\n",
    "meaned_86 = np.mean(squared_86)\n",
    "maxed_86 = np.max(squared_86)\n",
    "\n",
    "print(\"Cell 86 - Numpy\")\n",
    "print(\"Array shape:\", arr_86.shape)\n",
    "print(\"Sum:\", summed_86)\n",
    "print(\"Mean:\", meaned_86)\n",
    "print(\"Max:\", maxed_86)"
   ]
  },
  {
   "cell_type": "code",
   "execution_count": 87,
   "id": "0bd723a3",
   "metadata": {},
   "outputs": [
    {
     "name": "stdout",
     "output_type": "stream",
     "text": [
      "Cell 87 - Numpy\n",
      "Array shape: (87, 1)\n",
      "Sum: 215731\n",
      "Mean: 2479.6666666666665\n",
      "Max: 7396\n"
     ]
    }
   ],
   "source": [
    "import numpy as np\n",
    "\n",
    "arr_87 = np.arange(87).reshape(-1, 1)\n",
    "squared_87 = arr_87 ** 2\n",
    "summed_87 = np.sum(squared_87)\n",
    "meaned_87 = np.mean(squared_87)\n",
    "maxed_87 = np.max(squared_87)\n",
    "\n",
    "print(\"Cell 87 - Numpy\")\n",
    "print(\"Array shape:\", arr_87.shape)\n",
    "print(\"Sum:\", summed_87)\n",
    "print(\"Mean:\", meaned_87)\n",
    "print(\"Max:\", maxed_87)"
   ]
  },
  {
   "cell_type": "code",
   "execution_count": 88,
   "id": "ea8f3bcf",
   "metadata": {},
   "outputs": [
    {
     "name": "stdout",
     "output_type": "stream",
     "text": [
      "Cell 88 - Numpy\n",
      "Array shape: (88, 1)\n",
      "Sum: 223300\n",
      "Mean: 2537.5\n",
      "Max: 7569\n"
     ]
    }
   ],
   "source": [
    "import numpy as np\n",
    "\n",
    "arr_88 = np.arange(88).reshape(-1, 1)\n",
    "squared_88 = arr_88 ** 2\n",
    "summed_88 = np.sum(squared_88)\n",
    "meaned_88 = np.mean(squared_88)\n",
    "maxed_88 = np.max(squared_88)\n",
    "\n",
    "print(\"Cell 88 - Numpy\")\n",
    "print(\"Array shape:\", arr_88.shape)\n",
    "print(\"Sum:\", summed_88)\n",
    "print(\"Mean:\", meaned_88)\n",
    "print(\"Max:\", maxed_88)"
   ]
  },
  {
   "cell_type": "code",
   "execution_count": 89,
   "id": "f2c72839",
   "metadata": {},
   "outputs": [
    {
     "name": "stdout",
     "output_type": "stream",
     "text": [
      "Cell 89 - Numpy\n",
      "Array shape: (89, 1)\n",
      "Sum: 231044\n",
      "Mean: 2596.0\n",
      "Max: 7744\n"
     ]
    }
   ],
   "source": [
    "import numpy as np\n",
    "\n",
    "arr_89 = np.arange(89).reshape(-1, 1)\n",
    "squared_89 = arr_89 ** 2\n",
    "summed_89 = np.sum(squared_89)\n",
    "meaned_89 = np.mean(squared_89)\n",
    "maxed_89 = np.max(squared_89)\n",
    "\n",
    "print(\"Cell 89 - Numpy\")\n",
    "print(\"Array shape:\", arr_89.shape)\n",
    "print(\"Sum:\", summed_89)\n",
    "print(\"Mean:\", meaned_89)\n",
    "print(\"Max:\", maxed_89)"
   ]
  },
  {
   "cell_type": "code",
   "execution_count": 90,
   "id": "162b31b8",
   "metadata": {},
   "outputs": [
    {
     "name": "stdout",
     "output_type": "stream",
     "text": [
      "Cell 90 - Numpy\n",
      "Array shape: (90, 1)\n",
      "Sum: 238965\n",
      "Mean: 2655.1666666666665\n",
      "Max: 7921\n"
     ]
    }
   ],
   "source": [
    "import numpy as np\n",
    "\n",
    "arr_90 = np.arange(90).reshape(-1, 1)\n",
    "squared_90 = arr_90 ** 2\n",
    "summed_90 = np.sum(squared_90)\n",
    "meaned_90 = np.mean(squared_90)\n",
    "maxed_90 = np.max(squared_90)\n",
    "\n",
    "print(\"Cell 90 - Numpy\")\n",
    "print(\"Array shape:\", arr_90.shape)\n",
    "print(\"Sum:\", summed_90)\n",
    "print(\"Mean:\", meaned_90)\n",
    "print(\"Max:\", maxed_90)"
   ]
  },
  {
   "cell_type": "code",
   "execution_count": 91,
   "id": "be171292",
   "metadata": {},
   "outputs": [
    {
     "name": "stdout",
     "output_type": "stream",
     "text": [
      "Cell 91 - Numpy\n",
      "Array shape: (91, 1)\n",
      "Sum: 247065\n",
      "Mean: 2715.0\n",
      "Max: 8100\n"
     ]
    }
   ],
   "source": [
    "import numpy as np\n",
    "\n",
    "arr_91 = np.arange(91).reshape(-1, 1)\n",
    "squared_91 = arr_91 ** 2\n",
    "summed_91 = np.sum(squared_91)\n",
    "meaned_91 = np.mean(squared_91)\n",
    "maxed_91 = np.max(squared_91)\n",
    "\n",
    "print(\"Cell 91 - Numpy\")\n",
    "print(\"Array shape:\", arr_91.shape)\n",
    "print(\"Sum:\", summed_91)\n",
    "print(\"Mean:\", meaned_91)\n",
    "print(\"Max:\", maxed_91)"
   ]
  },
  {
   "cell_type": "code",
   "execution_count": 92,
   "id": "5be4b4c3",
   "metadata": {},
   "outputs": [
    {
     "name": "stdout",
     "output_type": "stream",
     "text": [
      "Cell 92 - Numpy\n",
      "Array shape: (92, 1)\n",
      "Sum: 255346\n",
      "Mean: 2775.5\n",
      "Max: 8281\n"
     ]
    }
   ],
   "source": [
    "import numpy as np\n",
    "\n",
    "arr_92 = np.arange(92).reshape(-1, 1)\n",
    "squared_92 = arr_92 ** 2\n",
    "summed_92 = np.sum(squared_92)\n",
    "meaned_92 = np.mean(squared_92)\n",
    "maxed_92 = np.max(squared_92)\n",
    "\n",
    "print(\"Cell 92 - Numpy\")\n",
    "print(\"Array shape:\", arr_92.shape)\n",
    "print(\"Sum:\", summed_92)\n",
    "print(\"Mean:\", meaned_92)\n",
    "print(\"Max:\", maxed_92)"
   ]
  },
  {
   "cell_type": "code",
   "execution_count": 93,
   "id": "11de03c6",
   "metadata": {},
   "outputs": [
    {
     "name": "stdout",
     "output_type": "stream",
     "text": [
      "Cell 93 - Numpy\n",
      "Array shape: (93, 1)\n",
      "Sum: 263810\n",
      "Mean: 2836.6666666666665\n",
      "Max: 8464\n"
     ]
    }
   ],
   "source": [
    "import numpy as np\n",
    "\n",
    "arr_93 = np.arange(93).reshape(-1, 1)\n",
    "squared_93 = arr_93 ** 2\n",
    "summed_93 = np.sum(squared_93)\n",
    "meaned_93 = np.mean(squared_93)\n",
    "maxed_93 = np.max(squared_93)\n",
    "\n",
    "print(\"Cell 93 - Numpy\")\n",
    "print(\"Array shape:\", arr_93.shape)\n",
    "print(\"Sum:\", summed_93)\n",
    "print(\"Mean:\", meaned_93)\n",
    "print(\"Max:\", maxed_93)"
   ]
  },
  {
   "cell_type": "code",
   "execution_count": 94,
   "id": "5a0ca93a",
   "metadata": {},
   "outputs": [
    {
     "name": "stdout",
     "output_type": "stream",
     "text": [
      "Cell 94 - Numpy\n",
      "Array shape: (94, 1)\n",
      "Sum: 272459\n",
      "Mean: 2898.5\n",
      "Max: 8649\n"
     ]
    }
   ],
   "source": [
    "import numpy as np\n",
    "\n",
    "arr_94 = np.arange(94).reshape(-1, 1)\n",
    "squared_94 = arr_94 ** 2\n",
    "summed_94 = np.sum(squared_94)\n",
    "meaned_94 = np.mean(squared_94)\n",
    "maxed_94 = np.max(squared_94)\n",
    "\n",
    "print(\"Cell 94 - Numpy\")\n",
    "print(\"Array shape:\", arr_94.shape)\n",
    "print(\"Sum:\", summed_94)\n",
    "print(\"Mean:\", meaned_94)\n",
    "print(\"Max:\", maxed_94)"
   ]
  },
  {
   "cell_type": "code",
   "execution_count": 95,
   "id": "504e8c38",
   "metadata": {},
   "outputs": [
    {
     "name": "stdout",
     "output_type": "stream",
     "text": [
      "Cell 95 - Numpy\n",
      "Array shape: (95, 1)\n",
      "Sum: 281295\n",
      "Mean: 2961.0\n",
      "Max: 8836\n"
     ]
    }
   ],
   "source": [
    "import numpy as np\n",
    "\n",
    "arr_95 = np.arange(95).reshape(-1, 1)\n",
    "squared_95 = arr_95 ** 2\n",
    "summed_95 = np.sum(squared_95)\n",
    "meaned_95 = np.mean(squared_95)\n",
    "maxed_95 = np.max(squared_95)\n",
    "\n",
    "print(\"Cell 95 - Numpy\")\n",
    "print(\"Array shape:\", arr_95.shape)\n",
    "print(\"Sum:\", summed_95)\n",
    "print(\"Mean:\", meaned_95)\n",
    "print(\"Max:\", maxed_95)"
   ]
  },
  {
   "cell_type": "code",
   "execution_count": 96,
   "id": "392a9968",
   "metadata": {},
   "outputs": [
    {
     "name": "stdout",
     "output_type": "stream",
     "text": [
      "Cell 96 - Numpy\n",
      "Array shape: (96, 1)\n",
      "Sum: 290320\n",
      "Mean: 3024.1666666666665\n",
      "Max: 9025\n"
     ]
    }
   ],
   "source": [
    "import numpy as np\n",
    "\n",
    "arr_96 = np.arange(96).reshape(-1, 1)\n",
    "squared_96 = arr_96 ** 2\n",
    "summed_96 = np.sum(squared_96)\n",
    "meaned_96 = np.mean(squared_96)\n",
    "maxed_96 = np.max(squared_96)\n",
    "\n",
    "print(\"Cell 96 - Numpy\")\n",
    "print(\"Array shape:\", arr_96.shape)\n",
    "print(\"Sum:\", summed_96)\n",
    "print(\"Mean:\", meaned_96)\n",
    "print(\"Max:\", maxed_96)"
   ]
  },
  {
   "cell_type": "code",
   "execution_count": 97,
   "id": "a00df937",
   "metadata": {},
   "outputs": [
    {
     "name": "stdout",
     "output_type": "stream",
     "text": [
      "Cell 97 - Numpy\n",
      "Array shape: (97, 1)\n",
      "Sum: 299536\n",
      "Mean: 3088.0\n",
      "Max: 9216\n"
     ]
    }
   ],
   "source": [
    "import numpy as np\n",
    "\n",
    "arr_97 = np.arange(97).reshape(-1, 1)\n",
    "squared_97 = arr_97 ** 2\n",
    "summed_97 = np.sum(squared_97)\n",
    "meaned_97 = np.mean(squared_97)\n",
    "maxed_97 = np.max(squared_97)\n",
    "\n",
    "print(\"Cell 97 - Numpy\")\n",
    "print(\"Array shape:\", arr_97.shape)\n",
    "print(\"Sum:\", summed_97)\n",
    "print(\"Mean:\", meaned_97)\n",
    "print(\"Max:\", maxed_97)"
   ]
  },
  {
   "cell_type": "code",
   "execution_count": 98,
   "id": "24860f58",
   "metadata": {},
   "outputs": [
    {
     "name": "stdout",
     "output_type": "stream",
     "text": [
      "Cell 98 - Numpy\n",
      "Array shape: (98, 1)\n",
      "Sum: 308945\n",
      "Mean: 3152.5\n",
      "Max: 9409\n"
     ]
    }
   ],
   "source": [
    "import numpy as np\n",
    "\n",
    "arr_98 = np.arange(98).reshape(-1, 1)\n",
    "squared_98 = arr_98 ** 2\n",
    "summed_98 = np.sum(squared_98)\n",
    "meaned_98 = np.mean(squared_98)\n",
    "maxed_98 = np.max(squared_98)\n",
    "\n",
    "print(\"Cell 98 - Numpy\")\n",
    "print(\"Array shape:\", arr_98.shape)\n",
    "print(\"Sum:\", summed_98)\n",
    "print(\"Mean:\", meaned_98)\n",
    "print(\"Max:\", maxed_98)"
   ]
  },
  {
   "cell_type": "code",
   "execution_count": 99,
   "id": "55c81ea6",
   "metadata": {},
   "outputs": [
    {
     "name": "stdout",
     "output_type": "stream",
     "text": [
      "Cell 99 - Numpy\n",
      "Array shape: (99, 1)\n",
      "Sum: 318549\n",
      "Mean: 3217.6666666666665\n",
      "Max: 9604\n"
     ]
    }
   ],
   "source": [
    "import numpy as np\n",
    "\n",
    "arr_99 = np.arange(99).reshape(-1, 1)\n",
    "squared_99 = arr_99 ** 2\n",
    "summed_99 = np.sum(squared_99)\n",
    "meaned_99 = np.mean(squared_99)\n",
    "maxed_99 = np.max(squared_99)\n",
    "\n",
    "print(\"Cell 99 - Numpy\")\n",
    "print(\"Array shape:\", arr_99.shape)\n",
    "print(\"Sum:\", summed_99)\n",
    "print(\"Mean:\", meaned_99)\n",
    "print(\"Max:\", maxed_99)"
   ]
  },
  {
   "cell_type": "code",
   "execution_count": 100,
   "id": "3377d00c",
   "metadata": {},
   "outputs": [
    {
     "name": "stdout",
     "output_type": "stream",
     "text": [
      "Cell 100 - Numpy\n",
      "Array shape: (100, 1)\n",
      "Sum: 328350\n",
      "Mean: 3283.5\n",
      "Max: 9801\n"
     ]
    }
   ],
   "source": [
    "import numpy as np\n",
    "\n",
    "arr_100 = np.arange(100).reshape(-1, 1)\n",
    "squared_100 = arr_100 ** 2\n",
    "summed_100 = np.sum(squared_100)\n",
    "meaned_100 = np.mean(squared_100)\n",
    "maxed_100 = np.max(squared_100)\n",
    "\n",
    "print(\"Cell 100 - Numpy\")\n",
    "print(\"Array shape:\", arr_100.shape)\n",
    "print(\"Sum:\", summed_100)\n",
    "print(\"Mean:\", meaned_100)\n",
    "print(\"Max:\", maxed_100)"
   ]
  },
  {
   "cell_type": "code",
   "execution_count": 101,
   "id": "c77ce8a8",
   "metadata": {},
   "outputs": [
    {
     "name": "stdout",
     "output_type": "stream",
     "text": [
      "Cell 101 - Numpy\n",
      "Array shape: (101, 1)\n",
      "Sum: 338350\n",
      "Mean: 3350.0\n",
      "Max: 10000\n"
     ]
    }
   ],
   "source": [
    "import numpy as np\n",
    "\n",
    "arr_101 = np.arange(101).reshape(-1, 1)\n",
    "squared_101 = arr_101 ** 2\n",
    "summed_101 = np.sum(squared_101)\n",
    "meaned_101 = np.mean(squared_101)\n",
    "maxed_101 = np.max(squared_101)\n",
    "\n",
    "print(\"Cell 101 - Numpy\")\n",
    "print(\"Array shape:\", arr_101.shape)\n",
    "print(\"Sum:\", summed_101)\n",
    "print(\"Mean:\", meaned_101)\n",
    "print(\"Max:\", maxed_101)"
   ]
  },
  {
   "cell_type": "code",
   "execution_count": 102,
   "id": "51665f5f",
   "metadata": {},
   "outputs": [
    {
     "name": "stdout",
     "output_type": "stream",
     "text": [
      "Cell 102 - Numpy\n",
      "Array shape: (102, 1)\n",
      "Sum: 348551\n",
      "Mean: 3417.1666666666665\n",
      "Max: 10201\n"
     ]
    }
   ],
   "source": [
    "import numpy as np\n",
    "\n",
    "arr_102 = np.arange(102).reshape(-1, 1)\n",
    "squared_102 = arr_102 ** 2\n",
    "summed_102 = np.sum(squared_102)\n",
    "meaned_102 = np.mean(squared_102)\n",
    "maxed_102 = np.max(squared_102)\n",
    "\n",
    "print(\"Cell 102 - Numpy\")\n",
    "print(\"Array shape:\", arr_102.shape)\n",
    "print(\"Sum:\", summed_102)\n",
    "print(\"Mean:\", meaned_102)\n",
    "print(\"Max:\", maxed_102)"
   ]
  },
  {
   "cell_type": "code",
   "execution_count": 103,
   "id": "46386304",
   "metadata": {},
   "outputs": [
    {
     "name": "stdout",
     "output_type": "stream",
     "text": [
      "Cell 103 - Numpy\n",
      "Array shape: (103, 1)\n",
      "Sum: 358955\n",
      "Mean: 3485.0\n",
      "Max: 10404\n"
     ]
    }
   ],
   "source": [
    "import numpy as np\n",
    "\n",
    "arr_103 = np.arange(103).reshape(-1, 1)\n",
    "squared_103 = arr_103 ** 2\n",
    "summed_103 = np.sum(squared_103)\n",
    "meaned_103 = np.mean(squared_103)\n",
    "maxed_103 = np.max(squared_103)\n",
    "\n",
    "print(\"Cell 103 - Numpy\")\n",
    "print(\"Array shape:\", arr_103.shape)\n",
    "print(\"Sum:\", summed_103)\n",
    "print(\"Mean:\", meaned_103)\n",
    "print(\"Max:\", maxed_103)"
   ]
  },
  {
   "cell_type": "code",
   "execution_count": 104,
   "id": "2fe94ffc",
   "metadata": {},
   "outputs": [
    {
     "name": "stdout",
     "output_type": "stream",
     "text": [
      "Cell 104 - Numpy\n",
      "Array shape: (104, 1)\n",
      "Sum: 369564\n",
      "Mean: 3553.5\n",
      "Max: 10609\n"
     ]
    }
   ],
   "source": [
    "import numpy as np\n",
    "\n",
    "arr_104 = np.arange(104).reshape(-1, 1)\n",
    "squared_104 = arr_104 ** 2\n",
    "summed_104 = np.sum(squared_104)\n",
    "meaned_104 = np.mean(squared_104)\n",
    "maxed_104 = np.max(squared_104)\n",
    "\n",
    "print(\"Cell 104 - Numpy\")\n",
    "print(\"Array shape:\", arr_104.shape)\n",
    "print(\"Sum:\", summed_104)\n",
    "print(\"Mean:\", meaned_104)\n",
    "print(\"Max:\", maxed_104)"
   ]
  },
  {
   "cell_type": "code",
   "execution_count": 105,
   "id": "10e02181",
   "metadata": {},
   "outputs": [
    {
     "name": "stdout",
     "output_type": "stream",
     "text": [
      "Cell 105 - Numpy\n",
      "Array shape: (105, 1)\n",
      "Sum: 380380\n",
      "Mean: 3622.6666666666665\n",
      "Max: 10816\n"
     ]
    }
   ],
   "source": [
    "import numpy as np\n",
    "\n",
    "arr_105 = np.arange(105).reshape(-1, 1)\n",
    "squared_105 = arr_105 ** 2\n",
    "summed_105 = np.sum(squared_105)\n",
    "meaned_105 = np.mean(squared_105)\n",
    "maxed_105 = np.max(squared_105)\n",
    "\n",
    "print(\"Cell 105 - Numpy\")\n",
    "print(\"Array shape:\", arr_105.shape)\n",
    "print(\"Sum:\", summed_105)\n",
    "print(\"Mean:\", meaned_105)\n",
    "print(\"Max:\", maxed_105)"
   ]
  },
  {
   "cell_type": "code",
   "execution_count": 106,
   "id": "aeae7425",
   "metadata": {},
   "outputs": [
    {
     "name": "stdout",
     "output_type": "stream",
     "text": [
      "Cell 106 - Numpy\n",
      "Array shape: (106, 1)\n",
      "Sum: 391405\n",
      "Mean: 3692.5\n",
      "Max: 11025\n"
     ]
    }
   ],
   "source": [
    "import numpy as np\n",
    "\n",
    "arr_106 = np.arange(106).reshape(-1, 1)\n",
    "squared_106 = arr_106 ** 2\n",
    "summed_106 = np.sum(squared_106)\n",
    "meaned_106 = np.mean(squared_106)\n",
    "maxed_106 = np.max(squared_106)\n",
    "\n",
    "print(\"Cell 106 - Numpy\")\n",
    "print(\"Array shape:\", arr_106.shape)\n",
    "print(\"Sum:\", summed_106)\n",
    "print(\"Mean:\", meaned_106)\n",
    "print(\"Max:\", maxed_106)"
   ]
  },
  {
   "cell_type": "code",
   "execution_count": 107,
   "id": "44d36ad4",
   "metadata": {},
   "outputs": [
    {
     "name": "stdout",
     "output_type": "stream",
     "text": [
      "Cell 107 - Numpy\n",
      "Array shape: (107, 1)\n",
      "Sum: 402641\n",
      "Mean: 3763.0\n",
      "Max: 11236\n"
     ]
    }
   ],
   "source": [
    "import numpy as np\n",
    "\n",
    "arr_107 = np.arange(107).reshape(-1, 1)\n",
    "squared_107 = arr_107 ** 2\n",
    "summed_107 = np.sum(squared_107)\n",
    "meaned_107 = np.mean(squared_107)\n",
    "maxed_107 = np.max(squared_107)\n",
    "\n",
    "print(\"Cell 107 - Numpy\")\n",
    "print(\"Array shape:\", arr_107.shape)\n",
    "print(\"Sum:\", summed_107)\n",
    "print(\"Mean:\", meaned_107)\n",
    "print(\"Max:\", maxed_107)"
   ]
  },
  {
   "cell_type": "code",
   "execution_count": 108,
   "id": "91cc969d",
   "metadata": {},
   "outputs": [
    {
     "name": "stdout",
     "output_type": "stream",
     "text": [
      "Cell 108 - Numpy\n",
      "Array shape: (108, 1)\n",
      "Sum: 414090\n",
      "Mean: 3834.1666666666665\n",
      "Max: 11449\n"
     ]
    }
   ],
   "source": [
    "import numpy as np\n",
    "\n",
    "arr_108 = np.arange(108).reshape(-1, 1)\n",
    "squared_108 = arr_108 ** 2\n",
    "summed_108 = np.sum(squared_108)\n",
    "meaned_108 = np.mean(squared_108)\n",
    "maxed_108 = np.max(squared_108)\n",
    "\n",
    "print(\"Cell 108 - Numpy\")\n",
    "print(\"Array shape:\", arr_108.shape)\n",
    "print(\"Sum:\", summed_108)\n",
    "print(\"Mean:\", meaned_108)\n",
    "print(\"Max:\", maxed_108)"
   ]
  },
  {
   "cell_type": "code",
   "execution_count": 109,
   "id": "185a393c",
   "metadata": {},
   "outputs": [
    {
     "name": "stdout",
     "output_type": "stream",
     "text": [
      "Cell 109 - Numpy\n",
      "Array shape: (109, 1)\n",
      "Sum: 425754\n",
      "Mean: 3906.0\n",
      "Max: 11664\n"
     ]
    }
   ],
   "source": [
    "import numpy as np\n",
    "\n",
    "arr_109 = np.arange(109).reshape(-1, 1)\n",
    "squared_109 = arr_109 ** 2\n",
    "summed_109 = np.sum(squared_109)\n",
    "meaned_109 = np.mean(squared_109)\n",
    "maxed_109 = np.max(squared_109)\n",
    "\n",
    "print(\"Cell 109 - Numpy\")\n",
    "print(\"Array shape:\", arr_109.shape)\n",
    "print(\"Sum:\", summed_109)\n",
    "print(\"Mean:\", meaned_109)\n",
    "print(\"Max:\", maxed_109)"
   ]
  },
  {
   "cell_type": "code",
   "execution_count": 110,
   "id": "6a32bf91",
   "metadata": {},
   "outputs": [
    {
     "name": "stdout",
     "output_type": "stream",
     "text": [
      "Cell 110 - Numpy\n",
      "Array shape: (110, 1)\n",
      "Sum: 437635\n",
      "Mean: 3978.5\n",
      "Max: 11881\n"
     ]
    }
   ],
   "source": [
    "import numpy as np\n",
    "\n",
    "arr_110 = np.arange(110).reshape(-1, 1)\n",
    "squared_110 = arr_110 ** 2\n",
    "summed_110 = np.sum(squared_110)\n",
    "meaned_110 = np.mean(squared_110)\n",
    "maxed_110 = np.max(squared_110)\n",
    "\n",
    "print(\"Cell 110 - Numpy\")\n",
    "print(\"Array shape:\", arr_110.shape)\n",
    "print(\"Sum:\", summed_110)\n",
    "print(\"Mean:\", meaned_110)\n",
    "print(\"Max:\", maxed_110)"
   ]
  },
  {
   "cell_type": "code",
   "execution_count": 111,
   "id": "9ac48b56",
   "metadata": {},
   "outputs": [
    {
     "name": "stdout",
     "output_type": "stream",
     "text": [
      "Cell 111 - Numpy\n",
      "Array shape: (111, 1)\n",
      "Sum: 449735\n",
      "Mean: 4051.6666666666665\n",
      "Max: 12100\n"
     ]
    }
   ],
   "source": [
    "import numpy as np\n",
    "\n",
    "arr_111 = np.arange(111).reshape(-1, 1)\n",
    "squared_111 = arr_111 ** 2\n",
    "summed_111 = np.sum(squared_111)\n",
    "meaned_111 = np.mean(squared_111)\n",
    "maxed_111 = np.max(squared_111)\n",
    "\n",
    "print(\"Cell 111 - Numpy\")\n",
    "print(\"Array shape:\", arr_111.shape)\n",
    "print(\"Sum:\", summed_111)\n",
    "print(\"Mean:\", meaned_111)\n",
    "print(\"Max:\", maxed_111)"
   ]
  },
  {
   "cell_type": "code",
   "execution_count": 112,
   "id": "43f3c590",
   "metadata": {},
   "outputs": [
    {
     "name": "stdout",
     "output_type": "stream",
     "text": [
      "Cell 112 - Numpy\n",
      "Array shape: (112, 1)\n",
      "Sum: 462056\n",
      "Mean: 4125.5\n",
      "Max: 12321\n"
     ]
    }
   ],
   "source": [
    "import numpy as np\n",
    "\n",
    "arr_112 = np.arange(112).reshape(-1, 1)\n",
    "squared_112 = arr_112 ** 2\n",
    "summed_112 = np.sum(squared_112)\n",
    "meaned_112 = np.mean(squared_112)\n",
    "maxed_112 = np.max(squared_112)\n",
    "\n",
    "print(\"Cell 112 - Numpy\")\n",
    "print(\"Array shape:\", arr_112.shape)\n",
    "print(\"Sum:\", summed_112)\n",
    "print(\"Mean:\", meaned_112)\n",
    "print(\"Max:\", maxed_112)"
   ]
  },
  {
   "cell_type": "code",
   "execution_count": 113,
   "id": "7653721d",
   "metadata": {},
   "outputs": [
    {
     "name": "stdout",
     "output_type": "stream",
     "text": [
      "Cell 113 - Numpy\n",
      "Array shape: (113, 1)\n",
      "Sum: 474600\n",
      "Mean: 4200.0\n",
      "Max: 12544\n"
     ]
    }
   ],
   "source": [
    "import numpy as np\n",
    "\n",
    "arr_113 = np.arange(113).reshape(-1, 1)\n",
    "squared_113 = arr_113 ** 2\n",
    "summed_113 = np.sum(squared_113)\n",
    "meaned_113 = np.mean(squared_113)\n",
    "maxed_113 = np.max(squared_113)\n",
    "\n",
    "print(\"Cell 113 - Numpy\")\n",
    "print(\"Array shape:\", arr_113.shape)\n",
    "print(\"Sum:\", summed_113)\n",
    "print(\"Mean:\", meaned_113)\n",
    "print(\"Max:\", maxed_113)"
   ]
  },
  {
   "cell_type": "code",
   "execution_count": 114,
   "id": "0c8fa686",
   "metadata": {},
   "outputs": [
    {
     "name": "stdout",
     "output_type": "stream",
     "text": [
      "Cell 114 - Numpy\n",
      "Array shape: (114, 1)\n",
      "Sum: 487369\n",
      "Mean: 4275.166666666667\n",
      "Max: 12769\n"
     ]
    }
   ],
   "source": [
    "import numpy as np\n",
    "\n",
    "arr_114 = np.arange(114).reshape(-1, 1)\n",
    "squared_114 = arr_114 ** 2\n",
    "summed_114 = np.sum(squared_114)\n",
    "meaned_114 = np.mean(squared_114)\n",
    "maxed_114 = np.max(squared_114)\n",
    "\n",
    "print(\"Cell 114 - Numpy\")\n",
    "print(\"Array shape:\", arr_114.shape)\n",
    "print(\"Sum:\", summed_114)\n",
    "print(\"Mean:\", meaned_114)\n",
    "print(\"Max:\", maxed_114)"
   ]
  },
  {
   "cell_type": "code",
   "execution_count": 115,
   "id": "c87c4fb2",
   "metadata": {},
   "outputs": [
    {
     "name": "stdout",
     "output_type": "stream",
     "text": [
      "Cell 115 - Numpy\n",
      "Array shape: (115, 1)\n",
      "Sum: 500365\n",
      "Mean: 4351.0\n",
      "Max: 12996\n"
     ]
    }
   ],
   "source": [
    "import numpy as np\n",
    "\n",
    "arr_115 = np.arange(115).reshape(-1, 1)\n",
    "squared_115 = arr_115 ** 2\n",
    "summed_115 = np.sum(squared_115)\n",
    "meaned_115 = np.mean(squared_115)\n",
    "maxed_115 = np.max(squared_115)\n",
    "\n",
    "print(\"Cell 115 - Numpy\")\n",
    "print(\"Array shape:\", arr_115.shape)\n",
    "print(\"Sum:\", summed_115)\n",
    "print(\"Mean:\", meaned_115)\n",
    "print(\"Max:\", maxed_115)"
   ]
  },
  {
   "cell_type": "code",
   "execution_count": 116,
   "id": "856848ff",
   "metadata": {},
   "outputs": [
    {
     "name": "stdout",
     "output_type": "stream",
     "text": [
      "Cell 116 - Numpy\n",
      "Array shape: (116, 1)\n",
      "Sum: 513590\n",
      "Mean: 4427.5\n",
      "Max: 13225\n"
     ]
    }
   ],
   "source": [
    "import numpy as np\n",
    "\n",
    "arr_116 = np.arange(116).reshape(-1, 1)\n",
    "squared_116 = arr_116 ** 2\n",
    "summed_116 = np.sum(squared_116)\n",
    "meaned_116 = np.mean(squared_116)\n",
    "maxed_116 = np.max(squared_116)\n",
    "\n",
    "print(\"Cell 116 - Numpy\")\n",
    "print(\"Array shape:\", arr_116.shape)\n",
    "print(\"Sum:\", summed_116)\n",
    "print(\"Mean:\", meaned_116)\n",
    "print(\"Max:\", maxed_116)"
   ]
  },
  {
   "cell_type": "code",
   "execution_count": 117,
   "id": "919af8d7",
   "metadata": {},
   "outputs": [
    {
     "name": "stdout",
     "output_type": "stream",
     "text": [
      "Cell 117 - Numpy\n",
      "Array shape: (117, 1)\n",
      "Sum: 527046\n",
      "Mean: 4504.666666666667\n",
      "Max: 13456\n"
     ]
    }
   ],
   "source": [
    "import numpy as np\n",
    "\n",
    "arr_117 = np.arange(117).reshape(-1, 1)\n",
    "squared_117 = arr_117 ** 2\n",
    "summed_117 = np.sum(squared_117)\n",
    "meaned_117 = np.mean(squared_117)\n",
    "maxed_117 = np.max(squared_117)\n",
    "\n",
    "print(\"Cell 117 - Numpy\")\n",
    "print(\"Array shape:\", arr_117.shape)\n",
    "print(\"Sum:\", summed_117)\n",
    "print(\"Mean:\", meaned_117)\n",
    "print(\"Max:\", maxed_117)"
   ]
  },
  {
   "cell_type": "code",
   "execution_count": 118,
   "id": "2ef9cd79",
   "metadata": {},
   "outputs": [
    {
     "name": "stdout",
     "output_type": "stream",
     "text": [
      "Cell 118 - Numpy\n",
      "Array shape: (118, 1)\n",
      "Sum: 540735\n",
      "Mean: 4582.5\n",
      "Max: 13689\n"
     ]
    }
   ],
   "source": [
    "import numpy as np\n",
    "\n",
    "arr_118 = np.arange(118).reshape(-1, 1)\n",
    "squared_118 = arr_118 ** 2\n",
    "summed_118 = np.sum(squared_118)\n",
    "meaned_118 = np.mean(squared_118)\n",
    "maxed_118 = np.max(squared_118)\n",
    "\n",
    "print(\"Cell 118 - Numpy\")\n",
    "print(\"Array shape:\", arr_118.shape)\n",
    "print(\"Sum:\", summed_118)\n",
    "print(\"Mean:\", meaned_118)\n",
    "print(\"Max:\", maxed_118)"
   ]
  },
  {
   "cell_type": "code",
   "execution_count": 119,
   "id": "39add6b4",
   "metadata": {},
   "outputs": [
    {
     "name": "stdout",
     "output_type": "stream",
     "text": [
      "Cell 119 - Numpy\n",
      "Array shape: (119, 1)\n",
      "Sum: 554659\n",
      "Mean: 4661.0\n",
      "Max: 13924\n"
     ]
    }
   ],
   "source": [
    "import numpy as np\n",
    "\n",
    "arr_119 = np.arange(119).reshape(-1, 1)\n",
    "squared_119 = arr_119 ** 2\n",
    "summed_119 = np.sum(squared_119)\n",
    "meaned_119 = np.mean(squared_119)\n",
    "maxed_119 = np.max(squared_119)\n",
    "\n",
    "print(\"Cell 119 - Numpy\")\n",
    "print(\"Array shape:\", arr_119.shape)\n",
    "print(\"Sum:\", summed_119)\n",
    "print(\"Mean:\", meaned_119)\n",
    "print(\"Max:\", maxed_119)"
   ]
  },
  {
   "cell_type": "code",
   "execution_count": 120,
   "id": "e4b28983",
   "metadata": {},
   "outputs": [
    {
     "name": "stdout",
     "output_type": "stream",
     "text": [
      "Cell 120 - Numpy\n",
      "Array shape: (120, 1)\n",
      "Sum: 568820\n",
      "Mean: 4740.166666666667\n",
      "Max: 14161\n"
     ]
    }
   ],
   "source": [
    "import numpy as np\n",
    "\n",
    "arr_120 = np.arange(120).reshape(-1, 1)\n",
    "squared_120 = arr_120 ** 2\n",
    "summed_120 = np.sum(squared_120)\n",
    "meaned_120 = np.mean(squared_120)\n",
    "maxed_120 = np.max(squared_120)\n",
    "\n",
    "print(\"Cell 120 - Numpy\")\n",
    "print(\"Array shape:\", arr_120.shape)\n",
    "print(\"Sum:\", summed_120)\n",
    "print(\"Mean:\", meaned_120)\n",
    "print(\"Max:\", maxed_120)"
   ]
  },
  {
   "cell_type": "code",
   "execution_count": 121,
   "id": "b09917d8",
   "metadata": {},
   "outputs": [
    {
     "name": "stdout",
     "output_type": "stream",
     "text": [
      "Cell 121 - Numpy\n",
      "Array shape: (121, 1)\n",
      "Sum: 583220\n",
      "Mean: 4820.0\n",
      "Max: 14400\n"
     ]
    }
   ],
   "source": [
    "import numpy as np\n",
    "\n",
    "arr_121 = np.arange(121).reshape(-1, 1)\n",
    "squared_121 = arr_121 ** 2\n",
    "summed_121 = np.sum(squared_121)\n",
    "meaned_121 = np.mean(squared_121)\n",
    "maxed_121 = np.max(squared_121)\n",
    "\n",
    "print(\"Cell 121 - Numpy\")\n",
    "print(\"Array shape:\", arr_121.shape)\n",
    "print(\"Sum:\", summed_121)\n",
    "print(\"Mean:\", meaned_121)\n",
    "print(\"Max:\", maxed_121)"
   ]
  },
  {
   "cell_type": "code",
   "execution_count": 122,
   "id": "2aa8c65a",
   "metadata": {},
   "outputs": [
    {
     "name": "stdout",
     "output_type": "stream",
     "text": [
      "Cell 122 - Numpy\n",
      "Array shape: (122, 1)\n",
      "Sum: 597861\n",
      "Mean: 4900.5\n",
      "Max: 14641\n"
     ]
    }
   ],
   "source": [
    "import numpy as np\n",
    "\n",
    "arr_122 = np.arange(122).reshape(-1, 1)\n",
    "squared_122 = arr_122 ** 2\n",
    "summed_122 = np.sum(squared_122)\n",
    "meaned_122 = np.mean(squared_122)\n",
    "maxed_122 = np.max(squared_122)\n",
    "\n",
    "print(\"Cell 122 - Numpy\")\n",
    "print(\"Array shape:\", arr_122.shape)\n",
    "print(\"Sum:\", summed_122)\n",
    "print(\"Mean:\", meaned_122)\n",
    "print(\"Max:\", maxed_122)"
   ]
  },
  {
   "cell_type": "code",
   "execution_count": 123,
   "id": "6dc3f022",
   "metadata": {},
   "outputs": [
    {
     "name": "stdout",
     "output_type": "stream",
     "text": [
      "Cell 123 - Numpy\n",
      "Array shape: (123, 1)\n",
      "Sum: 612745\n",
      "Mean: 4981.666666666667\n",
      "Max: 14884\n"
     ]
    }
   ],
   "source": [
    "import numpy as np\n",
    "\n",
    "arr_123 = np.arange(123).reshape(-1, 1)\n",
    "squared_123 = arr_123 ** 2\n",
    "summed_123 = np.sum(squared_123)\n",
    "meaned_123 = np.mean(squared_123)\n",
    "maxed_123 = np.max(squared_123)\n",
    "\n",
    "print(\"Cell 123 - Numpy\")\n",
    "print(\"Array shape:\", arr_123.shape)\n",
    "print(\"Sum:\", summed_123)\n",
    "print(\"Mean:\", meaned_123)\n",
    "print(\"Max:\", maxed_123)"
   ]
  },
  {
   "cell_type": "code",
   "execution_count": 124,
   "id": "ce13463f",
   "metadata": {},
   "outputs": [
    {
     "name": "stdout",
     "output_type": "stream",
     "text": [
      "Cell 124 - Numpy\n",
      "Array shape: (124, 1)\n",
      "Sum: 627874\n",
      "Mean: 5063.5\n",
      "Max: 15129\n"
     ]
    }
   ],
   "source": [
    "import numpy as np\n",
    "\n",
    "arr_124 = np.arange(124).reshape(-1, 1)\n",
    "squared_124 = arr_124 ** 2\n",
    "summed_124 = np.sum(squared_124)\n",
    "meaned_124 = np.mean(squared_124)\n",
    "maxed_124 = np.max(squared_124)\n",
    "\n",
    "print(\"Cell 124 - Numpy\")\n",
    "print(\"Array shape:\", arr_124.shape)\n",
    "print(\"Sum:\", summed_124)\n",
    "print(\"Mean:\", meaned_124)\n",
    "print(\"Max:\", maxed_124)"
   ]
  },
  {
   "cell_type": "code",
   "execution_count": 125,
   "id": "c3961114",
   "metadata": {},
   "outputs": [
    {
     "name": "stdout",
     "output_type": "stream",
     "text": [
      "Cell 125 - Numpy\n",
      "Array shape: (125, 1)\n",
      "Sum: 643250\n",
      "Mean: 5146.0\n",
      "Max: 15376\n"
     ]
    }
   ],
   "source": [
    "import numpy as np\n",
    "\n",
    "arr_125 = np.arange(125).reshape(-1, 1)\n",
    "squared_125 = arr_125 ** 2\n",
    "summed_125 = np.sum(squared_125)\n",
    "meaned_125 = np.mean(squared_125)\n",
    "maxed_125 = np.max(squared_125)\n",
    "\n",
    "print(\"Cell 125 - Numpy\")\n",
    "print(\"Array shape:\", arr_125.shape)\n",
    "print(\"Sum:\", summed_125)\n",
    "print(\"Mean:\", meaned_125)\n",
    "print(\"Max:\", maxed_125)"
   ]
  },
  {
   "cell_type": "code",
   "execution_count": 126,
   "id": "079cbd7c",
   "metadata": {},
   "outputs": [
    {
     "name": "stdout",
     "output_type": "stream",
     "text": [
      "Cell 126 - Numpy\n",
      "Array shape: (126, 1)\n",
      "Sum: 658875\n",
      "Mean: 5229.166666666667\n",
      "Max: 15625\n"
     ]
    }
   ],
   "source": [
    "import numpy as np\n",
    "\n",
    "arr_126 = np.arange(126).reshape(-1, 1)\n",
    "squared_126 = arr_126 ** 2\n",
    "summed_126 = np.sum(squared_126)\n",
    "meaned_126 = np.mean(squared_126)\n",
    "maxed_126 = np.max(squared_126)\n",
    "\n",
    "print(\"Cell 126 - Numpy\")\n",
    "print(\"Array shape:\", arr_126.shape)\n",
    "print(\"Sum:\", summed_126)\n",
    "print(\"Mean:\", meaned_126)\n",
    "print(\"Max:\", maxed_126)"
   ]
  },
  {
   "cell_type": "code",
   "execution_count": 127,
   "id": "4c016cda",
   "metadata": {},
   "outputs": [
    {
     "name": "stdout",
     "output_type": "stream",
     "text": [
      "Cell 127 - Numpy\n",
      "Array shape: (127, 1)\n",
      "Sum: 674751\n",
      "Mean: 5313.0\n",
      "Max: 15876\n"
     ]
    }
   ],
   "source": [
    "import numpy as np\n",
    "\n",
    "arr_127 = np.arange(127).reshape(-1, 1)\n",
    "squared_127 = arr_127 ** 2\n",
    "summed_127 = np.sum(squared_127)\n",
    "meaned_127 = np.mean(squared_127)\n",
    "maxed_127 = np.max(squared_127)\n",
    "\n",
    "print(\"Cell 127 - Numpy\")\n",
    "print(\"Array shape:\", arr_127.shape)\n",
    "print(\"Sum:\", summed_127)\n",
    "print(\"Mean:\", meaned_127)\n",
    "print(\"Max:\", maxed_127)"
   ]
  },
  {
   "cell_type": "code",
   "execution_count": 128,
   "id": "11c71330",
   "metadata": {},
   "outputs": [
    {
     "name": "stdout",
     "output_type": "stream",
     "text": [
      "Cell 128 - Numpy\n",
      "Array shape: (128, 1)\n",
      "Sum: 690880\n",
      "Mean: 5397.5\n",
      "Max: 16129\n"
     ]
    }
   ],
   "source": [
    "import numpy as np\n",
    "\n",
    "arr_128 = np.arange(128).reshape(-1, 1)\n",
    "squared_128 = arr_128 ** 2\n",
    "summed_128 = np.sum(squared_128)\n",
    "meaned_128 = np.mean(squared_128)\n",
    "maxed_128 = np.max(squared_128)\n",
    "\n",
    "print(\"Cell 128 - Numpy\")\n",
    "print(\"Array shape:\", arr_128.shape)\n",
    "print(\"Sum:\", summed_128)\n",
    "print(\"Mean:\", meaned_128)\n",
    "print(\"Max:\", maxed_128)"
   ]
  },
  {
   "cell_type": "code",
   "execution_count": 129,
   "id": "c1148555",
   "metadata": {},
   "outputs": [
    {
     "name": "stdout",
     "output_type": "stream",
     "text": [
      "Cell 129 - Numpy\n",
      "Array shape: (129, 1)\n",
      "Sum: 707264\n",
      "Mean: 5482.666666666667\n",
      "Max: 16384\n"
     ]
    }
   ],
   "source": [
    "import numpy as np\n",
    "\n",
    "arr_129 = np.arange(129).reshape(-1, 1)\n",
    "squared_129 = arr_129 ** 2\n",
    "summed_129 = np.sum(squared_129)\n",
    "meaned_129 = np.mean(squared_129)\n",
    "maxed_129 = np.max(squared_129)\n",
    "\n",
    "print(\"Cell 129 - Numpy\")\n",
    "print(\"Array shape:\", arr_129.shape)\n",
    "print(\"Sum:\", summed_129)\n",
    "print(\"Mean:\", meaned_129)\n",
    "print(\"Max:\", maxed_129)"
   ]
  },
  {
   "cell_type": "code",
   "execution_count": 130,
   "id": "40051a15",
   "metadata": {},
   "outputs": [
    {
     "name": "stdout",
     "output_type": "stream",
     "text": [
      "Cell 130 - Numpy\n",
      "Array shape: (130, 1)\n",
      "Sum: 723905\n",
      "Mean: 5568.5\n",
      "Max: 16641\n"
     ]
    }
   ],
   "source": [
    "import numpy as np\n",
    "\n",
    "arr_130 = np.arange(130).reshape(-1, 1)\n",
    "squared_130 = arr_130 ** 2\n",
    "summed_130 = np.sum(squared_130)\n",
    "meaned_130 = np.mean(squared_130)\n",
    "maxed_130 = np.max(squared_130)\n",
    "\n",
    "print(\"Cell 130 - Numpy\")\n",
    "print(\"Array shape:\", arr_130.shape)\n",
    "print(\"Sum:\", summed_130)\n",
    "print(\"Mean:\", meaned_130)\n",
    "print(\"Max:\", maxed_130)"
   ]
  },
  {
   "cell_type": "code",
   "execution_count": 131,
   "id": "7d57c6e3",
   "metadata": {},
   "outputs": [
    {
     "name": "stdout",
     "output_type": "stream",
     "text": [
      "Cell 131 - Numpy\n",
      "Array shape: (131, 1)\n",
      "Sum: 740805\n",
      "Mean: 5655.0\n",
      "Max: 16900\n"
     ]
    }
   ],
   "source": [
    "import numpy as np\n",
    "\n",
    "arr_131 = np.arange(131).reshape(-1, 1)\n",
    "squared_131 = arr_131 ** 2\n",
    "summed_131 = np.sum(squared_131)\n",
    "meaned_131 = np.mean(squared_131)\n",
    "maxed_131 = np.max(squared_131)\n",
    "\n",
    "print(\"Cell 131 - Numpy\")\n",
    "print(\"Array shape:\", arr_131.shape)\n",
    "print(\"Sum:\", summed_131)\n",
    "print(\"Mean:\", meaned_131)\n",
    "print(\"Max:\", maxed_131)"
   ]
  },
  {
   "cell_type": "code",
   "execution_count": 132,
   "id": "2fb400c0",
   "metadata": {},
   "outputs": [
    {
     "name": "stdout",
     "output_type": "stream",
     "text": [
      "Cell 132 - Numpy\n",
      "Array shape: (132, 1)\n",
      "Sum: 757966\n",
      "Mean: 5742.166666666667\n",
      "Max: 17161\n"
     ]
    }
   ],
   "source": [
    "import numpy as np\n",
    "\n",
    "arr_132 = np.arange(132).reshape(-1, 1)\n",
    "squared_132 = arr_132 ** 2\n",
    "summed_132 = np.sum(squared_132)\n",
    "meaned_132 = np.mean(squared_132)\n",
    "maxed_132 = np.max(squared_132)\n",
    "\n",
    "print(\"Cell 132 - Numpy\")\n",
    "print(\"Array shape:\", arr_132.shape)\n",
    "print(\"Sum:\", summed_132)\n",
    "print(\"Mean:\", meaned_132)\n",
    "print(\"Max:\", maxed_132)"
   ]
  },
  {
   "cell_type": "code",
   "execution_count": 133,
   "id": "384c6b55",
   "metadata": {},
   "outputs": [
    {
     "name": "stdout",
     "output_type": "stream",
     "text": [
      "Cell 133 - Numpy\n",
      "Array shape: (133, 1)\n",
      "Sum: 775390\n",
      "Mean: 5830.0\n",
      "Max: 17424\n"
     ]
    }
   ],
   "source": [
    "import numpy as np\n",
    "\n",
    "arr_133 = np.arange(133).reshape(-1, 1)\n",
    "squared_133 = arr_133 ** 2\n",
    "summed_133 = np.sum(squared_133)\n",
    "meaned_133 = np.mean(squared_133)\n",
    "maxed_133 = np.max(squared_133)\n",
    "\n",
    "print(\"Cell 133 - Numpy\")\n",
    "print(\"Array shape:\", arr_133.shape)\n",
    "print(\"Sum:\", summed_133)\n",
    "print(\"Mean:\", meaned_133)\n",
    "print(\"Max:\", maxed_133)"
   ]
  },
  {
   "cell_type": "code",
   "execution_count": 134,
   "id": "d89e0550",
   "metadata": {},
   "outputs": [
    {
     "name": "stdout",
     "output_type": "stream",
     "text": [
      "Cell 134 - Numpy\n",
      "Array shape: (134, 1)\n",
      "Sum: 793079\n",
      "Mean: 5918.5\n",
      "Max: 17689\n"
     ]
    }
   ],
   "source": [
    "import numpy as np\n",
    "\n",
    "arr_134 = np.arange(134).reshape(-1, 1)\n",
    "squared_134 = arr_134 ** 2\n",
    "summed_134 = np.sum(squared_134)\n",
    "meaned_134 = np.mean(squared_134)\n",
    "maxed_134 = np.max(squared_134)\n",
    "\n",
    "print(\"Cell 134 - Numpy\")\n",
    "print(\"Array shape:\", arr_134.shape)\n",
    "print(\"Sum:\", summed_134)\n",
    "print(\"Mean:\", meaned_134)\n",
    "print(\"Max:\", maxed_134)"
   ]
  },
  {
   "cell_type": "code",
   "execution_count": 135,
   "id": "05e92826",
   "metadata": {},
   "outputs": [
    {
     "name": "stdout",
     "output_type": "stream",
     "text": [
      "Cell 135 - Numpy\n",
      "Array shape: (135, 1)\n",
      "Sum: 811035\n",
      "Mean: 6007.666666666667\n",
      "Max: 17956\n"
     ]
    }
   ],
   "source": [
    "import numpy as np\n",
    "\n",
    "arr_135 = np.arange(135).reshape(-1, 1)\n",
    "squared_135 = arr_135 ** 2\n",
    "summed_135 = np.sum(squared_135)\n",
    "meaned_135 = np.mean(squared_135)\n",
    "maxed_135 = np.max(squared_135)\n",
    "\n",
    "print(\"Cell 135 - Numpy\")\n",
    "print(\"Array shape:\", arr_135.shape)\n",
    "print(\"Sum:\", summed_135)\n",
    "print(\"Mean:\", meaned_135)\n",
    "print(\"Max:\", maxed_135)"
   ]
  },
  {
   "cell_type": "code",
   "execution_count": 136,
   "id": "b23764c3",
   "metadata": {},
   "outputs": [
    {
     "name": "stdout",
     "output_type": "stream",
     "text": [
      "Cell 136 - Numpy\n",
      "Array shape: (136, 1)\n",
      "Sum: 829260\n",
      "Mean: 6097.5\n",
      "Max: 18225\n"
     ]
    }
   ],
   "source": [
    "import numpy as np\n",
    "\n",
    "arr_136 = np.arange(136).reshape(-1, 1)\n",
    "squared_136 = arr_136 ** 2\n",
    "summed_136 = np.sum(squared_136)\n",
    "meaned_136 = np.mean(squared_136)\n",
    "maxed_136 = np.max(squared_136)\n",
    "\n",
    "print(\"Cell 136 - Numpy\")\n",
    "print(\"Array shape:\", arr_136.shape)\n",
    "print(\"Sum:\", summed_136)\n",
    "print(\"Mean:\", meaned_136)\n",
    "print(\"Max:\", maxed_136)"
   ]
  },
  {
   "cell_type": "code",
   "execution_count": 137,
   "id": "61723314",
   "metadata": {},
   "outputs": [
    {
     "name": "stdout",
     "output_type": "stream",
     "text": [
      "Cell 137 - Numpy\n",
      "Array shape: (137, 1)\n",
      "Sum: 847756\n",
      "Mean: 6188.0\n",
      "Max: 18496\n"
     ]
    }
   ],
   "source": [
    "import numpy as np\n",
    "\n",
    "arr_137 = np.arange(137).reshape(-1, 1)\n",
    "squared_137 = arr_137 ** 2\n",
    "summed_137 = np.sum(squared_137)\n",
    "meaned_137 = np.mean(squared_137)\n",
    "maxed_137 = np.max(squared_137)\n",
    "\n",
    "print(\"Cell 137 - Numpy\")\n",
    "print(\"Array shape:\", arr_137.shape)\n",
    "print(\"Sum:\", summed_137)\n",
    "print(\"Mean:\", meaned_137)\n",
    "print(\"Max:\", maxed_137)"
   ]
  },
  {
   "cell_type": "code",
   "execution_count": 138,
   "id": "cbf77d87",
   "metadata": {},
   "outputs": [
    {
     "name": "stdout",
     "output_type": "stream",
     "text": [
      "Cell 138 - Numpy\n",
      "Array shape: (138, 1)\n",
      "Sum: 866525\n",
      "Mean: 6279.166666666667\n",
      "Max: 18769\n"
     ]
    }
   ],
   "source": [
    "import numpy as np\n",
    "\n",
    "arr_138 = np.arange(138).reshape(-1, 1)\n",
    "squared_138 = arr_138 ** 2\n",
    "summed_138 = np.sum(squared_138)\n",
    "meaned_138 = np.mean(squared_138)\n",
    "maxed_138 = np.max(squared_138)\n",
    "\n",
    "print(\"Cell 138 - Numpy\")\n",
    "print(\"Array shape:\", arr_138.shape)\n",
    "print(\"Sum:\", summed_138)\n",
    "print(\"Mean:\", meaned_138)\n",
    "print(\"Max:\", maxed_138)"
   ]
  },
  {
   "cell_type": "code",
   "execution_count": 139,
   "id": "a035a986",
   "metadata": {},
   "outputs": [
    {
     "name": "stdout",
     "output_type": "stream",
     "text": [
      "Cell 139 - Numpy\n",
      "Array shape: (139, 1)\n",
      "Sum: 885569\n",
      "Mean: 6371.0\n",
      "Max: 19044\n"
     ]
    }
   ],
   "source": [
    "import numpy as np\n",
    "\n",
    "arr_139 = np.arange(139).reshape(-1, 1)\n",
    "squared_139 = arr_139 ** 2\n",
    "summed_139 = np.sum(squared_139)\n",
    "meaned_139 = np.mean(squared_139)\n",
    "maxed_139 = np.max(squared_139)\n",
    "\n",
    "print(\"Cell 139 - Numpy\")\n",
    "print(\"Array shape:\", arr_139.shape)\n",
    "print(\"Sum:\", summed_139)\n",
    "print(\"Mean:\", meaned_139)\n",
    "print(\"Max:\", maxed_139)"
   ]
  },
  {
   "cell_type": "code",
   "execution_count": 140,
   "id": "57615752",
   "metadata": {},
   "outputs": [
    {
     "name": "stdout",
     "output_type": "stream",
     "text": [
      "Cell 140 - Numpy\n",
      "Array shape: (140, 1)\n",
      "Sum: 904890\n",
      "Mean: 6463.5\n",
      "Max: 19321\n"
     ]
    }
   ],
   "source": [
    "import numpy as np\n",
    "\n",
    "arr_140 = np.arange(140).reshape(-1, 1)\n",
    "squared_140 = arr_140 ** 2\n",
    "summed_140 = np.sum(squared_140)\n",
    "meaned_140 = np.mean(squared_140)\n",
    "maxed_140 = np.max(squared_140)\n",
    "\n",
    "print(\"Cell 140 - Numpy\")\n",
    "print(\"Array shape:\", arr_140.shape)\n",
    "print(\"Sum:\", summed_140)\n",
    "print(\"Mean:\", meaned_140)\n",
    "print(\"Max:\", maxed_140)"
   ]
  },
  {
   "cell_type": "code",
   "execution_count": 141,
   "id": "f3f8accf",
   "metadata": {},
   "outputs": [
    {
     "name": "stdout",
     "output_type": "stream",
     "text": [
      "Cell 141 - Numpy\n",
      "Array shape: (141, 1)\n",
      "Sum: 924490\n",
      "Mean: 6556.666666666667\n",
      "Max: 19600\n"
     ]
    }
   ],
   "source": [
    "import numpy as np\n",
    "\n",
    "arr_141 = np.arange(141).reshape(-1, 1)\n",
    "squared_141 = arr_141 ** 2\n",
    "summed_141 = np.sum(squared_141)\n",
    "meaned_141 = np.mean(squared_141)\n",
    "maxed_141 = np.max(squared_141)\n",
    "\n",
    "print(\"Cell 141 - Numpy\")\n",
    "print(\"Array shape:\", arr_141.shape)\n",
    "print(\"Sum:\", summed_141)\n",
    "print(\"Mean:\", meaned_141)\n",
    "print(\"Max:\", maxed_141)"
   ]
  },
  {
   "cell_type": "code",
   "execution_count": 142,
   "id": "a4c482c0",
   "metadata": {},
   "outputs": [
    {
     "name": "stdout",
     "output_type": "stream",
     "text": [
      "Cell 142 - Numpy\n",
      "Array shape: (142, 1)\n",
      "Sum: 944371\n",
      "Mean: 6650.5\n",
      "Max: 19881\n"
     ]
    }
   ],
   "source": [
    "import numpy as np\n",
    "\n",
    "arr_142 = np.arange(142).reshape(-1, 1)\n",
    "squared_142 = arr_142 ** 2\n",
    "summed_142 = np.sum(squared_142)\n",
    "meaned_142 = np.mean(squared_142)\n",
    "maxed_142 = np.max(squared_142)\n",
    "\n",
    "print(\"Cell 142 - Numpy\")\n",
    "print(\"Array shape:\", arr_142.shape)\n",
    "print(\"Sum:\", summed_142)\n",
    "print(\"Mean:\", meaned_142)\n",
    "print(\"Max:\", maxed_142)"
   ]
  },
  {
   "cell_type": "code",
   "execution_count": 143,
   "id": "47abac5f",
   "metadata": {},
   "outputs": [
    {
     "name": "stdout",
     "output_type": "stream",
     "text": [
      "Cell 143 - Numpy\n",
      "Array shape: (143, 1)\n",
      "Sum: 964535\n",
      "Mean: 6745.0\n",
      "Max: 20164\n"
     ]
    }
   ],
   "source": [
    "import numpy as np\n",
    "\n",
    "arr_143 = np.arange(143).reshape(-1, 1)\n",
    "squared_143 = arr_143 ** 2\n",
    "summed_143 = np.sum(squared_143)\n",
    "meaned_143 = np.mean(squared_143)\n",
    "maxed_143 = np.max(squared_143)\n",
    "\n",
    "print(\"Cell 143 - Numpy\")\n",
    "print(\"Array shape:\", arr_143.shape)\n",
    "print(\"Sum:\", summed_143)\n",
    "print(\"Mean:\", meaned_143)\n",
    "print(\"Max:\", maxed_143)"
   ]
  },
  {
   "cell_type": "code",
   "execution_count": 144,
   "id": "3b8e4da2",
   "metadata": {},
   "outputs": [
    {
     "name": "stdout",
     "output_type": "stream",
     "text": [
      "Cell 144 - Numpy\n",
      "Array shape: (144, 1)\n",
      "Sum: 984984\n",
      "Mean: 6840.166666666667\n",
      "Max: 20449\n"
     ]
    }
   ],
   "source": [
    "import numpy as np\n",
    "\n",
    "arr_144 = np.arange(144).reshape(-1, 1)\n",
    "squared_144 = arr_144 ** 2\n",
    "summed_144 = np.sum(squared_144)\n",
    "meaned_144 = np.mean(squared_144)\n",
    "maxed_144 = np.max(squared_144)\n",
    "\n",
    "print(\"Cell 144 - Numpy\")\n",
    "print(\"Array shape:\", arr_144.shape)\n",
    "print(\"Sum:\", summed_144)\n",
    "print(\"Mean:\", meaned_144)\n",
    "print(\"Max:\", maxed_144)"
   ]
  },
  {
   "cell_type": "code",
   "execution_count": 145,
   "id": "e3f732d7",
   "metadata": {},
   "outputs": [
    {
     "name": "stdout",
     "output_type": "stream",
     "text": [
      "Cell 145 - Numpy\n",
      "Array shape: (145, 1)\n",
      "Sum: 1005720\n",
      "Mean: 6936.0\n",
      "Max: 20736\n"
     ]
    }
   ],
   "source": [
    "import numpy as np\n",
    "\n",
    "arr_145 = np.arange(145).reshape(-1, 1)\n",
    "squared_145 = arr_145 ** 2\n",
    "summed_145 = np.sum(squared_145)\n",
    "meaned_145 = np.mean(squared_145)\n",
    "maxed_145 = np.max(squared_145)\n",
    "\n",
    "print(\"Cell 145 - Numpy\")\n",
    "print(\"Array shape:\", arr_145.shape)\n",
    "print(\"Sum:\", summed_145)\n",
    "print(\"Mean:\", meaned_145)\n",
    "print(\"Max:\", maxed_145)"
   ]
  },
  {
   "cell_type": "code",
   "execution_count": 146,
   "id": "bed02cd7",
   "metadata": {},
   "outputs": [
    {
     "name": "stdout",
     "output_type": "stream",
     "text": [
      "Cell 146 - Numpy\n",
      "Array shape: (146, 1)\n",
      "Sum: 1026745\n",
      "Mean: 7032.5\n",
      "Max: 21025\n"
     ]
    }
   ],
   "source": [
    "import numpy as np\n",
    "\n",
    "arr_146 = np.arange(146).reshape(-1, 1)\n",
    "squared_146 = arr_146 ** 2\n",
    "summed_146 = np.sum(squared_146)\n",
    "meaned_146 = np.mean(squared_146)\n",
    "maxed_146 = np.max(squared_146)\n",
    "\n",
    "print(\"Cell 146 - Numpy\")\n",
    "print(\"Array shape:\", arr_146.shape)\n",
    "print(\"Sum:\", summed_146)\n",
    "print(\"Mean:\", meaned_146)\n",
    "print(\"Max:\", maxed_146)"
   ]
  },
  {
   "cell_type": "code",
   "execution_count": 147,
   "id": "d8548cb5",
   "metadata": {},
   "outputs": [
    {
     "name": "stdout",
     "output_type": "stream",
     "text": [
      "Cell 147 - Numpy\n",
      "Array shape: (147, 1)\n",
      "Sum: 1048061\n",
      "Mean: 7129.666666666667\n",
      "Max: 21316\n"
     ]
    }
   ],
   "source": [
    "import numpy as np\n",
    "\n",
    "arr_147 = np.arange(147).reshape(-1, 1)\n",
    "squared_147 = arr_147 ** 2\n",
    "summed_147 = np.sum(squared_147)\n",
    "meaned_147 = np.mean(squared_147)\n",
    "maxed_147 = np.max(squared_147)\n",
    "\n",
    "print(\"Cell 147 - Numpy\")\n",
    "print(\"Array shape:\", arr_147.shape)\n",
    "print(\"Sum:\", summed_147)\n",
    "print(\"Mean:\", meaned_147)\n",
    "print(\"Max:\", maxed_147)"
   ]
  },
  {
   "cell_type": "code",
   "execution_count": 148,
   "id": "537d6153",
   "metadata": {},
   "outputs": [
    {
     "name": "stdout",
     "output_type": "stream",
     "text": [
      "Cell 148 - Numpy\n",
      "Array shape: (148, 1)\n",
      "Sum: 1069670\n",
      "Mean: 7227.5\n",
      "Max: 21609\n"
     ]
    }
   ],
   "source": [
    "import numpy as np\n",
    "\n",
    "arr_148 = np.arange(148).reshape(-1, 1)\n",
    "squared_148 = arr_148 ** 2\n",
    "summed_148 = np.sum(squared_148)\n",
    "meaned_148 = np.mean(squared_148)\n",
    "maxed_148 = np.max(squared_148)\n",
    "\n",
    "print(\"Cell 148 - Numpy\")\n",
    "print(\"Array shape:\", arr_148.shape)\n",
    "print(\"Sum:\", summed_148)\n",
    "print(\"Mean:\", meaned_148)\n",
    "print(\"Max:\", maxed_148)"
   ]
  },
  {
   "cell_type": "code",
   "execution_count": 149,
   "id": "68097a0c",
   "metadata": {},
   "outputs": [
    {
     "name": "stdout",
     "output_type": "stream",
     "text": [
      "Cell 149 - Numpy\n",
      "Array shape: (149, 1)\n",
      "Sum: 1091574\n",
      "Mean: 7326.0\n",
      "Max: 21904\n"
     ]
    }
   ],
   "source": [
    "import numpy as np\n",
    "\n",
    "arr_149 = np.arange(149).reshape(-1, 1)\n",
    "squared_149 = arr_149 ** 2\n",
    "summed_149 = np.sum(squared_149)\n",
    "meaned_149 = np.mean(squared_149)\n",
    "maxed_149 = np.max(squared_149)\n",
    "\n",
    "print(\"Cell 149 - Numpy\")\n",
    "print(\"Array shape:\", arr_149.shape)\n",
    "print(\"Sum:\", summed_149)\n",
    "print(\"Mean:\", meaned_149)\n",
    "print(\"Max:\", maxed_149)"
   ]
  },
  {
   "cell_type": "code",
   "execution_count": 150,
   "id": "7289feca",
   "metadata": {},
   "outputs": [
    {
     "name": "stdout",
     "output_type": "stream",
     "text": [
      "Cell 150 - Numpy\n",
      "Array shape: (150, 1)\n",
      "Sum: 1113775\n",
      "Mean: 7425.166666666667\n",
      "Max: 22201\n"
     ]
    }
   ],
   "source": [
    "import numpy as np\n",
    "\n",
    "arr_150 = np.arange(150).reshape(-1, 1)\n",
    "squared_150 = arr_150 ** 2\n",
    "summed_150 = np.sum(squared_150)\n",
    "meaned_150 = np.mean(squared_150)\n",
    "maxed_150 = np.max(squared_150)\n",
    "\n",
    "print(\"Cell 150 - Numpy\")\n",
    "print(\"Array shape:\", arr_150.shape)\n",
    "print(\"Sum:\", summed_150)\n",
    "print(\"Mean:\", meaned_150)\n",
    "print(\"Max:\", maxed_150)"
   ]
  },
  {
   "cell_type": "code",
   "execution_count": 151,
   "id": "3991b96f",
   "metadata": {},
   "outputs": [
    {
     "name": "stdout",
     "output_type": "stream",
     "text": [
      "Cell 151 - Numpy\n",
      "Array shape: (151, 1)\n",
      "Sum: 1136275\n",
      "Mean: 7525.0\n",
      "Max: 22500\n"
     ]
    }
   ],
   "source": [
    "import numpy as np\n",
    "\n",
    "arr_151 = np.arange(151).reshape(-1, 1)\n",
    "squared_151 = arr_151 ** 2\n",
    "summed_151 = np.sum(squared_151)\n",
    "meaned_151 = np.mean(squared_151)\n",
    "maxed_151 = np.max(squared_151)\n",
    "\n",
    "print(\"Cell 151 - Numpy\")\n",
    "print(\"Array shape:\", arr_151.shape)\n",
    "print(\"Sum:\", summed_151)\n",
    "print(\"Mean:\", meaned_151)\n",
    "print(\"Max:\", maxed_151)"
   ]
  },
  {
   "cell_type": "code",
   "execution_count": 152,
   "id": "1b9c72c9",
   "metadata": {},
   "outputs": [
    {
     "name": "stdout",
     "output_type": "stream",
     "text": [
      "Cell 152 - Numpy\n",
      "Array shape: (152, 1)\n",
      "Sum: 1159076\n",
      "Mean: 7625.5\n",
      "Max: 22801\n"
     ]
    }
   ],
   "source": [
    "import numpy as np\n",
    "\n",
    "arr_152 = np.arange(152).reshape(-1, 1)\n",
    "squared_152 = arr_152 ** 2\n",
    "summed_152 = np.sum(squared_152)\n",
    "meaned_152 = np.mean(squared_152)\n",
    "maxed_152 = np.max(squared_152)\n",
    "\n",
    "print(\"Cell 152 - Numpy\")\n",
    "print(\"Array shape:\", arr_152.shape)\n",
    "print(\"Sum:\", summed_152)\n",
    "print(\"Mean:\", meaned_152)\n",
    "print(\"Max:\", maxed_152)"
   ]
  },
  {
   "cell_type": "code",
   "execution_count": 153,
   "id": "fd6b57cb",
   "metadata": {},
   "outputs": [
    {
     "name": "stdout",
     "output_type": "stream",
     "text": [
      "Cell 153 - Numpy\n",
      "Array shape: (153, 1)\n",
      "Sum: 1182180\n",
      "Mean: 7726.666666666667\n",
      "Max: 23104\n"
     ]
    }
   ],
   "source": [
    "import numpy as np\n",
    "\n",
    "arr_153 = np.arange(153).reshape(-1, 1)\n",
    "squared_153 = arr_153 ** 2\n",
    "summed_153 = np.sum(squared_153)\n",
    "meaned_153 = np.mean(squared_153)\n",
    "maxed_153 = np.max(squared_153)\n",
    "\n",
    "print(\"Cell 153 - Numpy\")\n",
    "print(\"Array shape:\", arr_153.shape)\n",
    "print(\"Sum:\", summed_153)\n",
    "print(\"Mean:\", meaned_153)\n",
    "print(\"Max:\", maxed_153)"
   ]
  },
  {
   "cell_type": "code",
   "execution_count": 154,
   "id": "aa0ea488",
   "metadata": {},
   "outputs": [
    {
     "name": "stdout",
     "output_type": "stream",
     "text": [
      "Cell 154 - Numpy\n",
      "Array shape: (154, 1)\n",
      "Sum: 1205589\n",
      "Mean: 7828.5\n",
      "Max: 23409\n"
     ]
    }
   ],
   "source": [
    "import numpy as np\n",
    "\n",
    "arr_154 = np.arange(154).reshape(-1, 1)\n",
    "squared_154 = arr_154 ** 2\n",
    "summed_154 = np.sum(squared_154)\n",
    "meaned_154 = np.mean(squared_154)\n",
    "maxed_154 = np.max(squared_154)\n",
    "\n",
    "print(\"Cell 154 - Numpy\")\n",
    "print(\"Array shape:\", arr_154.shape)\n",
    "print(\"Sum:\", summed_154)\n",
    "print(\"Mean:\", meaned_154)\n",
    "print(\"Max:\", maxed_154)"
   ]
  },
  {
   "cell_type": "code",
   "execution_count": 155,
   "id": "74c57334",
   "metadata": {},
   "outputs": [
    {
     "name": "stdout",
     "output_type": "stream",
     "text": [
      "Cell 155 - Numpy\n",
      "Array shape: (155, 1)\n",
      "Sum: 1229305\n",
      "Mean: 7931.0\n",
      "Max: 23716\n"
     ]
    }
   ],
   "source": [
    "import numpy as np\n",
    "\n",
    "arr_155 = np.arange(155).reshape(-1, 1)\n",
    "squared_155 = arr_155 ** 2\n",
    "summed_155 = np.sum(squared_155)\n",
    "meaned_155 = np.mean(squared_155)\n",
    "maxed_155 = np.max(squared_155)\n",
    "\n",
    "print(\"Cell 155 - Numpy\")\n",
    "print(\"Array shape:\", arr_155.shape)\n",
    "print(\"Sum:\", summed_155)\n",
    "print(\"Mean:\", meaned_155)\n",
    "print(\"Max:\", maxed_155)"
   ]
  },
  {
   "cell_type": "code",
   "execution_count": 156,
   "id": "9bceb97d",
   "metadata": {},
   "outputs": [
    {
     "name": "stdout",
     "output_type": "stream",
     "text": [
      "Cell 156 - Numpy\n",
      "Array shape: (156, 1)\n",
      "Sum: 1253330\n",
      "Mean: 8034.166666666667\n",
      "Max: 24025\n"
     ]
    }
   ],
   "source": [
    "import numpy as np\n",
    "\n",
    "arr_156 = np.arange(156).reshape(-1, 1)\n",
    "squared_156 = arr_156 ** 2\n",
    "summed_156 = np.sum(squared_156)\n",
    "meaned_156 = np.mean(squared_156)\n",
    "maxed_156 = np.max(squared_156)\n",
    "\n",
    "print(\"Cell 156 - Numpy\")\n",
    "print(\"Array shape:\", arr_156.shape)\n",
    "print(\"Sum:\", summed_156)\n",
    "print(\"Mean:\", meaned_156)\n",
    "print(\"Max:\", maxed_156)"
   ]
  },
  {
   "cell_type": "code",
   "execution_count": 157,
   "id": "83d4d1d1",
   "metadata": {},
   "outputs": [
    {
     "name": "stdout",
     "output_type": "stream",
     "text": [
      "Cell 157 - Numpy\n",
      "Array shape: (157, 1)\n",
      "Sum: 1277666\n",
      "Mean: 8138.0\n",
      "Max: 24336\n"
     ]
    }
   ],
   "source": [
    "import numpy as np\n",
    "\n",
    "arr_157 = np.arange(157).reshape(-1, 1)\n",
    "squared_157 = arr_157 ** 2\n",
    "summed_157 = np.sum(squared_157)\n",
    "meaned_157 = np.mean(squared_157)\n",
    "maxed_157 = np.max(squared_157)\n",
    "\n",
    "print(\"Cell 157 - Numpy\")\n",
    "print(\"Array shape:\", arr_157.shape)\n",
    "print(\"Sum:\", summed_157)\n",
    "print(\"Mean:\", meaned_157)\n",
    "print(\"Max:\", maxed_157)"
   ]
  },
  {
   "cell_type": "code",
   "execution_count": 158,
   "id": "5e1f4c01",
   "metadata": {},
   "outputs": [
    {
     "name": "stdout",
     "output_type": "stream",
     "text": [
      "Cell 158 - Numpy\n",
      "Array shape: (158, 1)\n",
      "Sum: 1302315\n",
      "Mean: 8242.5\n",
      "Max: 24649\n"
     ]
    }
   ],
   "source": [
    "import numpy as np\n",
    "\n",
    "arr_158 = np.arange(158).reshape(-1, 1)\n",
    "squared_158 = arr_158 ** 2\n",
    "summed_158 = np.sum(squared_158)\n",
    "meaned_158 = np.mean(squared_158)\n",
    "maxed_158 = np.max(squared_158)\n",
    "\n",
    "print(\"Cell 158 - Numpy\")\n",
    "print(\"Array shape:\", arr_158.shape)\n",
    "print(\"Sum:\", summed_158)\n",
    "print(\"Mean:\", meaned_158)\n",
    "print(\"Max:\", maxed_158)"
   ]
  },
  {
   "cell_type": "code",
   "execution_count": 159,
   "id": "2a230214",
   "metadata": {},
   "outputs": [
    {
     "name": "stdout",
     "output_type": "stream",
     "text": [
      "Cell 159 - Numpy\n",
      "Array shape: (159, 1)\n",
      "Sum: 1327279\n",
      "Mean: 8347.666666666666\n",
      "Max: 24964\n"
     ]
    }
   ],
   "source": [
    "import numpy as np\n",
    "\n",
    "arr_159 = np.arange(159).reshape(-1, 1)\n",
    "squared_159 = arr_159 ** 2\n",
    "summed_159 = np.sum(squared_159)\n",
    "meaned_159 = np.mean(squared_159)\n",
    "maxed_159 = np.max(squared_159)\n",
    "\n",
    "print(\"Cell 159 - Numpy\")\n",
    "print(\"Array shape:\", arr_159.shape)\n",
    "print(\"Sum:\", summed_159)\n",
    "print(\"Mean:\", meaned_159)\n",
    "print(\"Max:\", maxed_159)"
   ]
  },
  {
   "cell_type": "code",
   "execution_count": 160,
   "id": "4a5c0877",
   "metadata": {},
   "outputs": [
    {
     "name": "stdout",
     "output_type": "stream",
     "text": [
      "Cell 160 - Numpy\n",
      "Array shape: (160, 1)\n",
      "Sum: 1352560\n",
      "Mean: 8453.5\n",
      "Max: 25281\n"
     ]
    }
   ],
   "source": [
    "import numpy as np\n",
    "\n",
    "arr_160 = np.arange(160).reshape(-1, 1)\n",
    "squared_160 = arr_160 ** 2\n",
    "summed_160 = np.sum(squared_160)\n",
    "meaned_160 = np.mean(squared_160)\n",
    "maxed_160 = np.max(squared_160)\n",
    "\n",
    "print(\"Cell 160 - Numpy\")\n",
    "print(\"Array shape:\", arr_160.shape)\n",
    "print(\"Sum:\", summed_160)\n",
    "print(\"Mean:\", meaned_160)\n",
    "print(\"Max:\", maxed_160)"
   ]
  },
  {
   "cell_type": "code",
   "execution_count": 161,
   "id": "22ecca94",
   "metadata": {},
   "outputs": [
    {
     "name": "stdout",
     "output_type": "stream",
     "text": [
      "Cell 161 - Numpy\n",
      "Array shape: (161, 1)\n",
      "Sum: 1378160\n",
      "Mean: 8560.0\n",
      "Max: 25600\n"
     ]
    }
   ],
   "source": [
    "import numpy as np\n",
    "\n",
    "arr_161 = np.arange(161).reshape(-1, 1)\n",
    "squared_161 = arr_161 ** 2\n",
    "summed_161 = np.sum(squared_161)\n",
    "meaned_161 = np.mean(squared_161)\n",
    "maxed_161 = np.max(squared_161)\n",
    "\n",
    "print(\"Cell 161 - Numpy\")\n",
    "print(\"Array shape:\", arr_161.shape)\n",
    "print(\"Sum:\", summed_161)\n",
    "print(\"Mean:\", meaned_161)\n",
    "print(\"Max:\", maxed_161)"
   ]
  },
  {
   "cell_type": "code",
   "execution_count": 162,
   "id": "28528ae5",
   "metadata": {},
   "outputs": [
    {
     "name": "stdout",
     "output_type": "stream",
     "text": [
      "Cell 162 - Numpy\n",
      "Array shape: (162, 1)\n",
      "Sum: 1404081\n",
      "Mean: 8667.166666666666\n",
      "Max: 25921\n"
     ]
    }
   ],
   "source": [
    "import numpy as np\n",
    "\n",
    "arr_162 = np.arange(162).reshape(-1, 1)\n",
    "squared_162 = arr_162 ** 2\n",
    "summed_162 = np.sum(squared_162)\n",
    "meaned_162 = np.mean(squared_162)\n",
    "maxed_162 = np.max(squared_162)\n",
    "\n",
    "print(\"Cell 162 - Numpy\")\n",
    "print(\"Array shape:\", arr_162.shape)\n",
    "print(\"Sum:\", summed_162)\n",
    "print(\"Mean:\", meaned_162)\n",
    "print(\"Max:\", maxed_162)"
   ]
  },
  {
   "cell_type": "code",
   "execution_count": 163,
   "id": "4f7612f2",
   "metadata": {},
   "outputs": [
    {
     "name": "stdout",
     "output_type": "stream",
     "text": [
      "Cell 163 - Numpy\n",
      "Array shape: (163, 1)\n",
      "Sum: 1430325\n",
      "Mean: 8775.0\n",
      "Max: 26244\n"
     ]
    }
   ],
   "source": [
    "import numpy as np\n",
    "\n",
    "arr_163 = np.arange(163).reshape(-1, 1)\n",
    "squared_163 = arr_163 ** 2\n",
    "summed_163 = np.sum(squared_163)\n",
    "meaned_163 = np.mean(squared_163)\n",
    "maxed_163 = np.max(squared_163)\n",
    "\n",
    "print(\"Cell 163 - Numpy\")\n",
    "print(\"Array shape:\", arr_163.shape)\n",
    "print(\"Sum:\", summed_163)\n",
    "print(\"Mean:\", meaned_163)\n",
    "print(\"Max:\", maxed_163)"
   ]
  },
  {
   "cell_type": "code",
   "execution_count": 164,
   "id": "220b0503",
   "metadata": {},
   "outputs": [
    {
     "name": "stdout",
     "output_type": "stream",
     "text": [
      "Cell 164 - Numpy\n",
      "Array shape: (164, 1)\n",
      "Sum: 1456894\n",
      "Mean: 8883.5\n",
      "Max: 26569\n"
     ]
    }
   ],
   "source": [
    "import numpy as np\n",
    "\n",
    "arr_164 = np.arange(164).reshape(-1, 1)\n",
    "squared_164 = arr_164 ** 2\n",
    "summed_164 = np.sum(squared_164)\n",
    "meaned_164 = np.mean(squared_164)\n",
    "maxed_164 = np.max(squared_164)\n",
    "\n",
    "print(\"Cell 164 - Numpy\")\n",
    "print(\"Array shape:\", arr_164.shape)\n",
    "print(\"Sum:\", summed_164)\n",
    "print(\"Mean:\", meaned_164)\n",
    "print(\"Max:\", maxed_164)"
   ]
  },
  {
   "cell_type": "code",
   "execution_count": 165,
   "id": "849bc750",
   "metadata": {},
   "outputs": [
    {
     "name": "stdout",
     "output_type": "stream",
     "text": [
      "Cell 165 - Numpy\n",
      "Array shape: (165, 1)\n",
      "Sum: 1483790\n",
      "Mean: 8992.666666666666\n",
      "Max: 26896\n"
     ]
    }
   ],
   "source": [
    "import numpy as np\n",
    "\n",
    "arr_165 = np.arange(165).reshape(-1, 1)\n",
    "squared_165 = arr_165 ** 2\n",
    "summed_165 = np.sum(squared_165)\n",
    "meaned_165 = np.mean(squared_165)\n",
    "maxed_165 = np.max(squared_165)\n",
    "\n",
    "print(\"Cell 165 - Numpy\")\n",
    "print(\"Array shape:\", arr_165.shape)\n",
    "print(\"Sum:\", summed_165)\n",
    "print(\"Mean:\", meaned_165)\n",
    "print(\"Max:\", maxed_165)"
   ]
  },
  {
   "cell_type": "code",
   "execution_count": 166,
   "id": "0da9e33b",
   "metadata": {},
   "outputs": [
    {
     "name": "stdout",
     "output_type": "stream",
     "text": [
      "Cell 166 - Numpy\n",
      "Array shape: (166, 1)\n",
      "Sum: 1511015\n",
      "Mean: 9102.5\n",
      "Max: 27225\n"
     ]
    }
   ],
   "source": [
    "import numpy as np\n",
    "\n",
    "arr_166 = np.arange(166).reshape(-1, 1)\n",
    "squared_166 = arr_166 ** 2\n",
    "summed_166 = np.sum(squared_166)\n",
    "meaned_166 = np.mean(squared_166)\n",
    "maxed_166 = np.max(squared_166)\n",
    "\n",
    "print(\"Cell 166 - Numpy\")\n",
    "print(\"Array shape:\", arr_166.shape)\n",
    "print(\"Sum:\", summed_166)\n",
    "print(\"Mean:\", meaned_166)\n",
    "print(\"Max:\", maxed_166)"
   ]
  },
  {
   "cell_type": "code",
   "execution_count": 167,
   "id": "2bdd57d1",
   "metadata": {},
   "outputs": [
    {
     "name": "stdout",
     "output_type": "stream",
     "text": [
      "Cell 167 - Numpy\n",
      "Array shape: (167, 1)\n",
      "Sum: 1538571\n",
      "Mean: 9213.0\n",
      "Max: 27556\n"
     ]
    }
   ],
   "source": [
    "import numpy as np\n",
    "\n",
    "arr_167 = np.arange(167).reshape(-1, 1)\n",
    "squared_167 = arr_167 ** 2\n",
    "summed_167 = np.sum(squared_167)\n",
    "meaned_167 = np.mean(squared_167)\n",
    "maxed_167 = np.max(squared_167)\n",
    "\n",
    "print(\"Cell 167 - Numpy\")\n",
    "print(\"Array shape:\", arr_167.shape)\n",
    "print(\"Sum:\", summed_167)\n",
    "print(\"Mean:\", meaned_167)\n",
    "print(\"Max:\", maxed_167)"
   ]
  },
  {
   "cell_type": "code",
   "execution_count": 168,
   "id": "331842cc",
   "metadata": {},
   "outputs": [
    {
     "name": "stdout",
     "output_type": "stream",
     "text": [
      "Cell 168 - Numpy\n",
      "Array shape: (168, 1)\n",
      "Sum: 1566460\n",
      "Mean: 9324.166666666666\n",
      "Max: 27889\n"
     ]
    }
   ],
   "source": [
    "import numpy as np\n",
    "\n",
    "arr_168 = np.arange(168).reshape(-1, 1)\n",
    "squared_168 = arr_168 ** 2\n",
    "summed_168 = np.sum(squared_168)\n",
    "meaned_168 = np.mean(squared_168)\n",
    "maxed_168 = np.max(squared_168)\n",
    "\n",
    "print(\"Cell 168 - Numpy\")\n",
    "print(\"Array shape:\", arr_168.shape)\n",
    "print(\"Sum:\", summed_168)\n",
    "print(\"Mean:\", meaned_168)\n",
    "print(\"Max:\", maxed_168)"
   ]
  },
  {
   "cell_type": "code",
   "execution_count": 169,
   "id": "3a4d5c58",
   "metadata": {},
   "outputs": [
    {
     "name": "stdout",
     "output_type": "stream",
     "text": [
      "Cell 169 - Numpy\n",
      "Array shape: (169, 1)\n",
      "Sum: 1594684\n",
      "Mean: 9436.0\n",
      "Max: 28224\n"
     ]
    }
   ],
   "source": [
    "import numpy as np\n",
    "\n",
    "arr_169 = np.arange(169).reshape(-1, 1)\n",
    "squared_169 = arr_169 ** 2\n",
    "summed_169 = np.sum(squared_169)\n",
    "meaned_169 = np.mean(squared_169)\n",
    "maxed_169 = np.max(squared_169)\n",
    "\n",
    "print(\"Cell 169 - Numpy\")\n",
    "print(\"Array shape:\", arr_169.shape)\n",
    "print(\"Sum:\", summed_169)\n",
    "print(\"Mean:\", meaned_169)\n",
    "print(\"Max:\", maxed_169)"
   ]
  },
  {
   "cell_type": "code",
   "execution_count": 170,
   "id": "e5875328",
   "metadata": {},
   "outputs": [
    {
     "name": "stdout",
     "output_type": "stream",
     "text": [
      "Cell 170 - Numpy\n",
      "Array shape: (170, 1)\n",
      "Sum: 1623245\n",
      "Mean: 9548.5\n",
      "Max: 28561\n"
     ]
    }
   ],
   "source": [
    "import numpy as np\n",
    "\n",
    "arr_170 = np.arange(170).reshape(-1, 1)\n",
    "squared_170 = arr_170 ** 2\n",
    "summed_170 = np.sum(squared_170)\n",
    "meaned_170 = np.mean(squared_170)\n",
    "maxed_170 = np.max(squared_170)\n",
    "\n",
    "print(\"Cell 170 - Numpy\")\n",
    "print(\"Array shape:\", arr_170.shape)\n",
    "print(\"Sum:\", summed_170)\n",
    "print(\"Mean:\", meaned_170)\n",
    "print(\"Max:\", maxed_170)"
   ]
  },
  {
   "cell_type": "code",
   "execution_count": 171,
   "id": "92289f27",
   "metadata": {},
   "outputs": [
    {
     "name": "stdout",
     "output_type": "stream",
     "text": [
      "Cell 171 - Numpy\n",
      "Array shape: (171, 1)\n",
      "Sum: 1652145\n",
      "Mean: 9661.666666666666\n",
      "Max: 28900\n"
     ]
    }
   ],
   "source": [
    "import numpy as np\n",
    "\n",
    "arr_171 = np.arange(171).reshape(-1, 1)\n",
    "squared_171 = arr_171 ** 2\n",
    "summed_171 = np.sum(squared_171)\n",
    "meaned_171 = np.mean(squared_171)\n",
    "maxed_171 = np.max(squared_171)\n",
    "\n",
    "print(\"Cell 171 - Numpy\")\n",
    "print(\"Array shape:\", arr_171.shape)\n",
    "print(\"Sum:\", summed_171)\n",
    "print(\"Mean:\", meaned_171)\n",
    "print(\"Max:\", maxed_171)"
   ]
  },
  {
   "cell_type": "code",
   "execution_count": 172,
   "id": "5232526e",
   "metadata": {},
   "outputs": [
    {
     "name": "stdout",
     "output_type": "stream",
     "text": [
      "Cell 172 - Numpy\n",
      "Array shape: (172, 1)\n",
      "Sum: 1681386\n",
      "Mean: 9775.5\n",
      "Max: 29241\n"
     ]
    }
   ],
   "source": [
    "import numpy as np\n",
    "\n",
    "arr_172 = np.arange(172).reshape(-1, 1)\n",
    "squared_172 = arr_172 ** 2\n",
    "summed_172 = np.sum(squared_172)\n",
    "meaned_172 = np.mean(squared_172)\n",
    "maxed_172 = np.max(squared_172)\n",
    "\n",
    "print(\"Cell 172 - Numpy\")\n",
    "print(\"Array shape:\", arr_172.shape)\n",
    "print(\"Sum:\", summed_172)\n",
    "print(\"Mean:\", meaned_172)\n",
    "print(\"Max:\", maxed_172)"
   ]
  },
  {
   "cell_type": "code",
   "execution_count": 173,
   "id": "142b0a5d",
   "metadata": {},
   "outputs": [
    {
     "name": "stdout",
     "output_type": "stream",
     "text": [
      "Cell 173 - Numpy\n",
      "Array shape: (173, 1)\n",
      "Sum: 1710970\n",
      "Mean: 9890.0\n",
      "Max: 29584\n"
     ]
    }
   ],
   "source": [
    "import numpy as np\n",
    "\n",
    "arr_173 = np.arange(173).reshape(-1, 1)\n",
    "squared_173 = arr_173 ** 2\n",
    "summed_173 = np.sum(squared_173)\n",
    "meaned_173 = np.mean(squared_173)\n",
    "maxed_173 = np.max(squared_173)\n",
    "\n",
    "print(\"Cell 173 - Numpy\")\n",
    "print(\"Array shape:\", arr_173.shape)\n",
    "print(\"Sum:\", summed_173)\n",
    "print(\"Mean:\", meaned_173)\n",
    "print(\"Max:\", maxed_173)"
   ]
  },
  {
   "cell_type": "code",
   "execution_count": 174,
   "id": "1b6ccafc",
   "metadata": {},
   "outputs": [
    {
     "name": "stdout",
     "output_type": "stream",
     "text": [
      "Cell 174 - Numpy\n",
      "Array shape: (174, 1)\n",
      "Sum: 1740899\n",
      "Mean: 10005.166666666666\n",
      "Max: 29929\n"
     ]
    }
   ],
   "source": [
    "import numpy as np\n",
    "\n",
    "arr_174 = np.arange(174).reshape(-1, 1)\n",
    "squared_174 = arr_174 ** 2\n",
    "summed_174 = np.sum(squared_174)\n",
    "meaned_174 = np.mean(squared_174)\n",
    "maxed_174 = np.max(squared_174)\n",
    "\n",
    "print(\"Cell 174 - Numpy\")\n",
    "print(\"Array shape:\", arr_174.shape)\n",
    "print(\"Sum:\", summed_174)\n",
    "print(\"Mean:\", meaned_174)\n",
    "print(\"Max:\", maxed_174)"
   ]
  },
  {
   "cell_type": "code",
   "execution_count": 175,
   "id": "eb0475b7",
   "metadata": {},
   "outputs": [
    {
     "name": "stdout",
     "output_type": "stream",
     "text": [
      "Cell 175 - Numpy\n",
      "Array shape: (175, 1)\n",
      "Sum: 1771175\n",
      "Mean: 10121.0\n",
      "Max: 30276\n"
     ]
    }
   ],
   "source": [
    "import numpy as np\n",
    "\n",
    "arr_175 = np.arange(175).reshape(-1, 1)\n",
    "squared_175 = arr_175 ** 2\n",
    "summed_175 = np.sum(squared_175)\n",
    "meaned_175 = np.mean(squared_175)\n",
    "maxed_175 = np.max(squared_175)\n",
    "\n",
    "print(\"Cell 175 - Numpy\")\n",
    "print(\"Array shape:\", arr_175.shape)\n",
    "print(\"Sum:\", summed_175)\n",
    "print(\"Mean:\", meaned_175)\n",
    "print(\"Max:\", maxed_175)"
   ]
  },
  {
   "cell_type": "code",
   "execution_count": 176,
   "id": "1bb494c7",
   "metadata": {},
   "outputs": [
    {
     "name": "stdout",
     "output_type": "stream",
     "text": [
      "Cell 176 - Numpy\n",
      "Array shape: (176, 1)\n",
      "Sum: 1801800\n",
      "Mean: 10237.5\n",
      "Max: 30625\n"
     ]
    }
   ],
   "source": [
    "import numpy as np\n",
    "\n",
    "arr_176 = np.arange(176).reshape(-1, 1)\n",
    "squared_176 = arr_176 ** 2\n",
    "summed_176 = np.sum(squared_176)\n",
    "meaned_176 = np.mean(squared_176)\n",
    "maxed_176 = np.max(squared_176)\n",
    "\n",
    "print(\"Cell 176 - Numpy\")\n",
    "print(\"Array shape:\", arr_176.shape)\n",
    "print(\"Sum:\", summed_176)\n",
    "print(\"Mean:\", meaned_176)\n",
    "print(\"Max:\", maxed_176)"
   ]
  },
  {
   "cell_type": "code",
   "execution_count": 177,
   "id": "6d94de99",
   "metadata": {},
   "outputs": [
    {
     "name": "stdout",
     "output_type": "stream",
     "text": [
      "Cell 177 - Numpy\n",
      "Array shape: (177, 1)\n",
      "Sum: 1832776\n",
      "Mean: 10354.666666666666\n",
      "Max: 30976\n"
     ]
    }
   ],
   "source": [
    "import numpy as np\n",
    "\n",
    "arr_177 = np.arange(177).reshape(-1, 1)\n",
    "squared_177 = arr_177 ** 2\n",
    "summed_177 = np.sum(squared_177)\n",
    "meaned_177 = np.mean(squared_177)\n",
    "maxed_177 = np.max(squared_177)\n",
    "\n",
    "print(\"Cell 177 - Numpy\")\n",
    "print(\"Array shape:\", arr_177.shape)\n",
    "print(\"Sum:\", summed_177)\n",
    "print(\"Mean:\", meaned_177)\n",
    "print(\"Max:\", maxed_177)"
   ]
  },
  {
   "cell_type": "code",
   "execution_count": 178,
   "id": "68050c30",
   "metadata": {},
   "outputs": [
    {
     "name": "stdout",
     "output_type": "stream",
     "text": [
      "Cell 178 - Numpy\n",
      "Array shape: (178, 1)\n",
      "Sum: 1864105\n",
      "Mean: 10472.5\n",
      "Max: 31329\n"
     ]
    }
   ],
   "source": [
    "import numpy as np\n",
    "\n",
    "arr_178 = np.arange(178).reshape(-1, 1)\n",
    "squared_178 = arr_178 ** 2\n",
    "summed_178 = np.sum(squared_178)\n",
    "meaned_178 = np.mean(squared_178)\n",
    "maxed_178 = np.max(squared_178)\n",
    "\n",
    "print(\"Cell 178 - Numpy\")\n",
    "print(\"Array shape:\", arr_178.shape)\n",
    "print(\"Sum:\", summed_178)\n",
    "print(\"Mean:\", meaned_178)\n",
    "print(\"Max:\", maxed_178)"
   ]
  },
  {
   "cell_type": "code",
   "execution_count": 179,
   "id": "41a1fb6e",
   "metadata": {},
   "outputs": [
    {
     "name": "stdout",
     "output_type": "stream",
     "text": [
      "Cell 179 - Numpy\n",
      "Array shape: (179, 1)\n",
      "Sum: 1895789\n",
      "Mean: 10591.0\n",
      "Max: 31684\n"
     ]
    }
   ],
   "source": [
    "import numpy as np\n",
    "\n",
    "arr_179 = np.arange(179).reshape(-1, 1)\n",
    "squared_179 = arr_179 ** 2\n",
    "summed_179 = np.sum(squared_179)\n",
    "meaned_179 = np.mean(squared_179)\n",
    "maxed_179 = np.max(squared_179)\n",
    "\n",
    "print(\"Cell 179 - Numpy\")\n",
    "print(\"Array shape:\", arr_179.shape)\n",
    "print(\"Sum:\", summed_179)\n",
    "print(\"Mean:\", meaned_179)\n",
    "print(\"Max:\", maxed_179)"
   ]
  },
  {
   "cell_type": "code",
   "execution_count": 180,
   "id": "fd9395cd",
   "metadata": {},
   "outputs": [
    {
     "name": "stdout",
     "output_type": "stream",
     "text": [
      "Cell 180 - Numpy\n",
      "Array shape: (180, 1)\n",
      "Sum: 1927830\n",
      "Mean: 10710.166666666666\n",
      "Max: 32041\n"
     ]
    }
   ],
   "source": [
    "import numpy as np\n",
    "\n",
    "arr_180 = np.arange(180).reshape(-1, 1)\n",
    "squared_180 = arr_180 ** 2\n",
    "summed_180 = np.sum(squared_180)\n",
    "meaned_180 = np.mean(squared_180)\n",
    "maxed_180 = np.max(squared_180)\n",
    "\n",
    "print(\"Cell 180 - Numpy\")\n",
    "print(\"Array shape:\", arr_180.shape)\n",
    "print(\"Sum:\", summed_180)\n",
    "print(\"Mean:\", meaned_180)\n",
    "print(\"Max:\", maxed_180)"
   ]
  },
  {
   "cell_type": "code",
   "execution_count": 181,
   "id": "bb152b4a",
   "metadata": {},
   "outputs": [
    {
     "name": "stdout",
     "output_type": "stream",
     "text": [
      "Cell 181 - Numpy\n",
      "Array shape: (181, 1)\n",
      "Sum: 1960230\n",
      "Mean: 10830.0\n",
      "Max: 32400\n"
     ]
    }
   ],
   "source": [
    "import numpy as np\n",
    "\n",
    "arr_181 = np.arange(181).reshape(-1, 1)\n",
    "squared_181 = arr_181 ** 2\n",
    "summed_181 = np.sum(squared_181)\n",
    "meaned_181 = np.mean(squared_181)\n",
    "maxed_181 = np.max(squared_181)\n",
    "\n",
    "print(\"Cell 181 - Numpy\")\n",
    "print(\"Array shape:\", arr_181.shape)\n",
    "print(\"Sum:\", summed_181)\n",
    "print(\"Mean:\", meaned_181)\n",
    "print(\"Max:\", maxed_181)"
   ]
  },
  {
   "cell_type": "code",
   "execution_count": 182,
   "id": "60a7c6ed",
   "metadata": {},
   "outputs": [
    {
     "name": "stdout",
     "output_type": "stream",
     "text": [
      "Cell 182 - Numpy\n",
      "Array shape: (182, 1)\n",
      "Sum: 1992991\n",
      "Mean: 10950.5\n",
      "Max: 32761\n"
     ]
    }
   ],
   "source": [
    "import numpy as np\n",
    "\n",
    "arr_182 = np.arange(182).reshape(-1, 1)\n",
    "squared_182 = arr_182 ** 2\n",
    "summed_182 = np.sum(squared_182)\n",
    "meaned_182 = np.mean(squared_182)\n",
    "maxed_182 = np.max(squared_182)\n",
    "\n",
    "print(\"Cell 182 - Numpy\")\n",
    "print(\"Array shape:\", arr_182.shape)\n",
    "print(\"Sum:\", summed_182)\n",
    "print(\"Mean:\", meaned_182)\n",
    "print(\"Max:\", maxed_182)"
   ]
  },
  {
   "cell_type": "code",
   "execution_count": 183,
   "id": "fe14b9e6",
   "metadata": {},
   "outputs": [
    {
     "name": "stdout",
     "output_type": "stream",
     "text": [
      "Cell 183 - Numpy\n",
      "Array shape: (183, 1)\n",
      "Sum: 2026115\n",
      "Mean: 11071.666666666666\n",
      "Max: 33124\n"
     ]
    }
   ],
   "source": [
    "import numpy as np\n",
    "\n",
    "arr_183 = np.arange(183).reshape(-1, 1)\n",
    "squared_183 = arr_183 ** 2\n",
    "summed_183 = np.sum(squared_183)\n",
    "meaned_183 = np.mean(squared_183)\n",
    "maxed_183 = np.max(squared_183)\n",
    "\n",
    "print(\"Cell 183 - Numpy\")\n",
    "print(\"Array shape:\", arr_183.shape)\n",
    "print(\"Sum:\", summed_183)\n",
    "print(\"Mean:\", meaned_183)\n",
    "print(\"Max:\", maxed_183)"
   ]
  },
  {
   "cell_type": "code",
   "execution_count": 184,
   "id": "ae94f674",
   "metadata": {},
   "outputs": [
    {
     "name": "stdout",
     "output_type": "stream",
     "text": [
      "Cell 184 - Numpy\n",
      "Array shape: (184, 1)\n",
      "Sum: 2059604\n",
      "Mean: 11193.5\n",
      "Max: 33489\n"
     ]
    }
   ],
   "source": [
    "import numpy as np\n",
    "\n",
    "arr_184 = np.arange(184).reshape(-1, 1)\n",
    "squared_184 = arr_184 ** 2\n",
    "summed_184 = np.sum(squared_184)\n",
    "meaned_184 = np.mean(squared_184)\n",
    "maxed_184 = np.max(squared_184)\n",
    "\n",
    "print(\"Cell 184 - Numpy\")\n",
    "print(\"Array shape:\", arr_184.shape)\n",
    "print(\"Sum:\", summed_184)\n",
    "print(\"Mean:\", meaned_184)\n",
    "print(\"Max:\", maxed_184)"
   ]
  },
  {
   "cell_type": "code",
   "execution_count": 185,
   "id": "63f08c04",
   "metadata": {},
   "outputs": [
    {
     "name": "stdout",
     "output_type": "stream",
     "text": [
      "Cell 185 - Numpy\n",
      "Array shape: (185, 1)\n",
      "Sum: 2093460\n",
      "Mean: 11316.0\n",
      "Max: 33856\n"
     ]
    }
   ],
   "source": [
    "import numpy as np\n",
    "\n",
    "arr_185 = np.arange(185).reshape(-1, 1)\n",
    "squared_185 = arr_185 ** 2\n",
    "summed_185 = np.sum(squared_185)\n",
    "meaned_185 = np.mean(squared_185)\n",
    "maxed_185 = np.max(squared_185)\n",
    "\n",
    "print(\"Cell 185 - Numpy\")\n",
    "print(\"Array shape:\", arr_185.shape)\n",
    "print(\"Sum:\", summed_185)\n",
    "print(\"Mean:\", meaned_185)\n",
    "print(\"Max:\", maxed_185)"
   ]
  },
  {
   "cell_type": "code",
   "execution_count": 186,
   "id": "fee3dfab",
   "metadata": {},
   "outputs": [
    {
     "name": "stdout",
     "output_type": "stream",
     "text": [
      "Cell 186 - Numpy\n",
      "Array shape: (186, 1)\n",
      "Sum: 2127685\n",
      "Mean: 11439.166666666666\n",
      "Max: 34225\n"
     ]
    }
   ],
   "source": [
    "import numpy as np\n",
    "\n",
    "arr_186 = np.arange(186).reshape(-1, 1)\n",
    "squared_186 = arr_186 ** 2\n",
    "summed_186 = np.sum(squared_186)\n",
    "meaned_186 = np.mean(squared_186)\n",
    "maxed_186 = np.max(squared_186)\n",
    "\n",
    "print(\"Cell 186 - Numpy\")\n",
    "print(\"Array shape:\", arr_186.shape)\n",
    "print(\"Sum:\", summed_186)\n",
    "print(\"Mean:\", meaned_186)\n",
    "print(\"Max:\", maxed_186)"
   ]
  },
  {
   "cell_type": "code",
   "execution_count": 187,
   "id": "4e31e378",
   "metadata": {},
   "outputs": [
    {
     "name": "stdout",
     "output_type": "stream",
     "text": [
      "Cell 187 - Numpy\n",
      "Array shape: (187, 1)\n",
      "Sum: 2162281\n",
      "Mean: 11563.0\n",
      "Max: 34596\n"
     ]
    }
   ],
   "source": [
    "import numpy as np\n",
    "\n",
    "arr_187 = np.arange(187).reshape(-1, 1)\n",
    "squared_187 = arr_187 ** 2\n",
    "summed_187 = np.sum(squared_187)\n",
    "meaned_187 = np.mean(squared_187)\n",
    "maxed_187 = np.max(squared_187)\n",
    "\n",
    "print(\"Cell 187 - Numpy\")\n",
    "print(\"Array shape:\", arr_187.shape)\n",
    "print(\"Sum:\", summed_187)\n",
    "print(\"Mean:\", meaned_187)\n",
    "print(\"Max:\", maxed_187)"
   ]
  },
  {
   "cell_type": "code",
   "execution_count": 188,
   "id": "a2f18310",
   "metadata": {},
   "outputs": [
    {
     "name": "stdout",
     "output_type": "stream",
     "text": [
      "Cell 188 - Numpy\n",
      "Array shape: (188, 1)\n",
      "Sum: 2197250\n",
      "Mean: 11687.5\n",
      "Max: 34969\n"
     ]
    }
   ],
   "source": [
    "import numpy as np\n",
    "\n",
    "arr_188 = np.arange(188).reshape(-1, 1)\n",
    "squared_188 = arr_188 ** 2\n",
    "summed_188 = np.sum(squared_188)\n",
    "meaned_188 = np.mean(squared_188)\n",
    "maxed_188 = np.max(squared_188)\n",
    "\n",
    "print(\"Cell 188 - Numpy\")\n",
    "print(\"Array shape:\", arr_188.shape)\n",
    "print(\"Sum:\", summed_188)\n",
    "print(\"Mean:\", meaned_188)\n",
    "print(\"Max:\", maxed_188)"
   ]
  },
  {
   "cell_type": "code",
   "execution_count": 189,
   "id": "69a37e2b",
   "metadata": {},
   "outputs": [
    {
     "name": "stdout",
     "output_type": "stream",
     "text": [
      "Cell 189 - Numpy\n",
      "Array shape: (189, 1)\n",
      "Sum: 2232594\n",
      "Mean: 11812.666666666666\n",
      "Max: 35344\n"
     ]
    }
   ],
   "source": [
    "import numpy as np\n",
    "\n",
    "arr_189 = np.arange(189).reshape(-1, 1)\n",
    "squared_189 = arr_189 ** 2\n",
    "summed_189 = np.sum(squared_189)\n",
    "meaned_189 = np.mean(squared_189)\n",
    "maxed_189 = np.max(squared_189)\n",
    "\n",
    "print(\"Cell 189 - Numpy\")\n",
    "print(\"Array shape:\", arr_189.shape)\n",
    "print(\"Sum:\", summed_189)\n",
    "print(\"Mean:\", meaned_189)\n",
    "print(\"Max:\", maxed_189)"
   ]
  },
  {
   "cell_type": "code",
   "execution_count": 190,
   "id": "3979cb74",
   "metadata": {},
   "outputs": [
    {
     "name": "stdout",
     "output_type": "stream",
     "text": [
      "Cell 190 - Numpy\n",
      "Array shape: (190, 1)\n",
      "Sum: 2268315\n",
      "Mean: 11938.5\n",
      "Max: 35721\n"
     ]
    }
   ],
   "source": [
    "import numpy as np\n",
    "\n",
    "arr_190 = np.arange(190).reshape(-1, 1)\n",
    "squared_190 = arr_190 ** 2\n",
    "summed_190 = np.sum(squared_190)\n",
    "meaned_190 = np.mean(squared_190)\n",
    "maxed_190 = np.max(squared_190)\n",
    "\n",
    "print(\"Cell 190 - Numpy\")\n",
    "print(\"Array shape:\", arr_190.shape)\n",
    "print(\"Sum:\", summed_190)\n",
    "print(\"Mean:\", meaned_190)\n",
    "print(\"Max:\", maxed_190)"
   ]
  },
  {
   "cell_type": "code",
   "execution_count": 191,
   "id": "c90da6ec",
   "metadata": {},
   "outputs": [
    {
     "name": "stdout",
     "output_type": "stream",
     "text": [
      "Cell 191 - Numpy\n",
      "Array shape: (191, 1)\n",
      "Sum: 2304415\n",
      "Mean: 12065.0\n",
      "Max: 36100\n"
     ]
    }
   ],
   "source": [
    "import numpy as np\n",
    "\n",
    "arr_191 = np.arange(191).reshape(-1, 1)\n",
    "squared_191 = arr_191 ** 2\n",
    "summed_191 = np.sum(squared_191)\n",
    "meaned_191 = np.mean(squared_191)\n",
    "maxed_191 = np.max(squared_191)\n",
    "\n",
    "print(\"Cell 191 - Numpy\")\n",
    "print(\"Array shape:\", arr_191.shape)\n",
    "print(\"Sum:\", summed_191)\n",
    "print(\"Mean:\", meaned_191)\n",
    "print(\"Max:\", maxed_191)"
   ]
  },
  {
   "cell_type": "code",
   "execution_count": 192,
   "id": "d8b0cf84",
   "metadata": {},
   "outputs": [
    {
     "name": "stdout",
     "output_type": "stream",
     "text": [
      "Cell 192 - Numpy\n",
      "Array shape: (192, 1)\n",
      "Sum: 2340896\n",
      "Mean: 12192.166666666666\n",
      "Max: 36481\n"
     ]
    }
   ],
   "source": [
    "import numpy as np\n",
    "\n",
    "arr_192 = np.arange(192).reshape(-1, 1)\n",
    "squared_192 = arr_192 ** 2\n",
    "summed_192 = np.sum(squared_192)\n",
    "meaned_192 = np.mean(squared_192)\n",
    "maxed_192 = np.max(squared_192)\n",
    "\n",
    "print(\"Cell 192 - Numpy\")\n",
    "print(\"Array shape:\", arr_192.shape)\n",
    "print(\"Sum:\", summed_192)\n",
    "print(\"Mean:\", meaned_192)\n",
    "print(\"Max:\", maxed_192)"
   ]
  },
  {
   "cell_type": "code",
   "execution_count": 193,
   "id": "7f4cb56c",
   "metadata": {},
   "outputs": [
    {
     "name": "stdout",
     "output_type": "stream",
     "text": [
      "Cell 193 - Numpy\n",
      "Array shape: (193, 1)\n",
      "Sum: 2377760\n",
      "Mean: 12320.0\n",
      "Max: 36864\n"
     ]
    }
   ],
   "source": [
    "import numpy as np\n",
    "\n",
    "arr_193 = np.arange(193).reshape(-1, 1)\n",
    "squared_193 = arr_193 ** 2\n",
    "summed_193 = np.sum(squared_193)\n",
    "meaned_193 = np.mean(squared_193)\n",
    "maxed_193 = np.max(squared_193)\n",
    "\n",
    "print(\"Cell 193 - Numpy\")\n",
    "print(\"Array shape:\", arr_193.shape)\n",
    "print(\"Sum:\", summed_193)\n",
    "print(\"Mean:\", meaned_193)\n",
    "print(\"Max:\", maxed_193)"
   ]
  },
  {
   "cell_type": "code",
   "execution_count": 194,
   "id": "ba7b16a0",
   "metadata": {},
   "outputs": [
    {
     "name": "stdout",
     "output_type": "stream",
     "text": [
      "Cell 194 - Numpy\n",
      "Array shape: (194, 1)\n",
      "Sum: 2415009\n",
      "Mean: 12448.5\n",
      "Max: 37249\n"
     ]
    }
   ],
   "source": [
    "import numpy as np\n",
    "\n",
    "arr_194 = np.arange(194).reshape(-1, 1)\n",
    "squared_194 = arr_194 ** 2\n",
    "summed_194 = np.sum(squared_194)\n",
    "meaned_194 = np.mean(squared_194)\n",
    "maxed_194 = np.max(squared_194)\n",
    "\n",
    "print(\"Cell 194 - Numpy\")\n",
    "print(\"Array shape:\", arr_194.shape)\n",
    "print(\"Sum:\", summed_194)\n",
    "print(\"Mean:\", meaned_194)\n",
    "print(\"Max:\", maxed_194)"
   ]
  },
  {
   "cell_type": "code",
   "execution_count": 195,
   "id": "f5c8348e",
   "metadata": {},
   "outputs": [
    {
     "name": "stdout",
     "output_type": "stream",
     "text": [
      "Cell 195 - Numpy\n",
      "Array shape: (195, 1)\n",
      "Sum: 2452645\n",
      "Mean: 12577.666666666666\n",
      "Max: 37636\n"
     ]
    }
   ],
   "source": [
    "import numpy as np\n",
    "\n",
    "arr_195 = np.arange(195).reshape(-1, 1)\n",
    "squared_195 = arr_195 ** 2\n",
    "summed_195 = np.sum(squared_195)\n",
    "meaned_195 = np.mean(squared_195)\n",
    "maxed_195 = np.max(squared_195)\n",
    "\n",
    "print(\"Cell 195 - Numpy\")\n",
    "print(\"Array shape:\", arr_195.shape)\n",
    "print(\"Sum:\", summed_195)\n",
    "print(\"Mean:\", meaned_195)\n",
    "print(\"Max:\", maxed_195)"
   ]
  },
  {
   "cell_type": "code",
   "execution_count": 196,
   "id": "43164c4a",
   "metadata": {},
   "outputs": [
    {
     "name": "stdout",
     "output_type": "stream",
     "text": [
      "Cell 196 - Numpy\n",
      "Array shape: (196, 1)\n",
      "Sum: 2490670\n",
      "Mean: 12707.5\n",
      "Max: 38025\n"
     ]
    }
   ],
   "source": [
    "import numpy as np\n",
    "\n",
    "arr_196 = np.arange(196).reshape(-1, 1)\n",
    "squared_196 = arr_196 ** 2\n",
    "summed_196 = np.sum(squared_196)\n",
    "meaned_196 = np.mean(squared_196)\n",
    "maxed_196 = np.max(squared_196)\n",
    "\n",
    "print(\"Cell 196 - Numpy\")\n",
    "print(\"Array shape:\", arr_196.shape)\n",
    "print(\"Sum:\", summed_196)\n",
    "print(\"Mean:\", meaned_196)\n",
    "print(\"Max:\", maxed_196)"
   ]
  },
  {
   "cell_type": "code",
   "execution_count": 197,
   "id": "15757890",
   "metadata": {},
   "outputs": [
    {
     "name": "stdout",
     "output_type": "stream",
     "text": [
      "Cell 197 - Numpy\n",
      "Array shape: (197, 1)\n",
      "Sum: 2529086\n",
      "Mean: 12838.0\n",
      "Max: 38416\n"
     ]
    }
   ],
   "source": [
    "import numpy as np\n",
    "\n",
    "arr_197 = np.arange(197).reshape(-1, 1)\n",
    "squared_197 = arr_197 ** 2\n",
    "summed_197 = np.sum(squared_197)\n",
    "meaned_197 = np.mean(squared_197)\n",
    "maxed_197 = np.max(squared_197)\n",
    "\n",
    "print(\"Cell 197 - Numpy\")\n",
    "print(\"Array shape:\", arr_197.shape)\n",
    "print(\"Sum:\", summed_197)\n",
    "print(\"Mean:\", meaned_197)\n",
    "print(\"Max:\", maxed_197)"
   ]
  },
  {
   "cell_type": "code",
   "execution_count": 198,
   "id": "550ce3d8",
   "metadata": {},
   "outputs": [
    {
     "name": "stdout",
     "output_type": "stream",
     "text": [
      "Cell 198 - Numpy\n",
      "Array shape: (198, 1)\n",
      "Sum: 2567895\n",
      "Mean: 12969.166666666666\n",
      "Max: 38809\n"
     ]
    }
   ],
   "source": [
    "import numpy as np\n",
    "\n",
    "arr_198 = np.arange(198).reshape(-1, 1)\n",
    "squared_198 = arr_198 ** 2\n",
    "summed_198 = np.sum(squared_198)\n",
    "meaned_198 = np.mean(squared_198)\n",
    "maxed_198 = np.max(squared_198)\n",
    "\n",
    "print(\"Cell 198 - Numpy\")\n",
    "print(\"Array shape:\", arr_198.shape)\n",
    "print(\"Sum:\", summed_198)\n",
    "print(\"Mean:\", meaned_198)\n",
    "print(\"Max:\", maxed_198)"
   ]
  },
  {
   "cell_type": "code",
   "execution_count": 199,
   "id": "424d6958",
   "metadata": {},
   "outputs": [
    {
     "name": "stdout",
     "output_type": "stream",
     "text": [
      "Cell 199 - Numpy\n",
      "Array shape: (199, 1)\n",
      "Sum: 2607099\n",
      "Mean: 13101.0\n",
      "Max: 39204\n"
     ]
    }
   ],
   "source": [
    "import numpy as np\n",
    "\n",
    "arr_199 = np.arange(199).reshape(-1, 1)\n",
    "squared_199 = arr_199 ** 2\n",
    "summed_199 = np.sum(squared_199)\n",
    "meaned_199 = np.mean(squared_199)\n",
    "maxed_199 = np.max(squared_199)\n",
    "\n",
    "print(\"Cell 199 - Numpy\")\n",
    "print(\"Array shape:\", arr_199.shape)\n",
    "print(\"Sum:\", summed_199)\n",
    "print(\"Mean:\", meaned_199)\n",
    "print(\"Max:\", maxed_199)"
   ]
  },
  {
   "cell_type": "code",
   "execution_count": 200,
   "id": "d27f5bd9",
   "metadata": {},
   "outputs": [
    {
     "name": "stdout",
     "output_type": "stream",
     "text": [
      "Cell 200 - Numpy\n",
      "Array shape: (200, 1)\n",
      "Sum: 2646700\n",
      "Mean: 13233.5\n",
      "Max: 39601\n"
     ]
    }
   ],
   "source": [
    "import numpy as np\n",
    "\n",
    "arr_200 = np.arange(200).reshape(-1, 1)\n",
    "squared_200 = arr_200 ** 2\n",
    "summed_200 = np.sum(squared_200)\n",
    "meaned_200 = np.mean(squared_200)\n",
    "maxed_200 = np.max(squared_200)\n",
    "\n",
    "print(\"Cell 200 - Numpy\")\n",
    "print(\"Array shape:\", arr_200.shape)\n",
    "print(\"Sum:\", summed_200)\n",
    "print(\"Mean:\", meaned_200)\n",
    "print(\"Max:\", maxed_200)"
   ]
  },
  {
   "cell_type": "code",
   "execution_count": 201,
   "id": "ab4e64ff",
   "metadata": {},
   "outputs": [
    {
     "name": "stdout",
     "output_type": "stream",
     "text": [
      "Cell 201 - Numpy\n",
      "Array shape: (201, 1)\n",
      "Sum: 2686700\n",
      "Mean: 13366.666666666666\n",
      "Max: 40000\n"
     ]
    }
   ],
   "source": [
    "import numpy as np\n",
    "\n",
    "arr_201 = np.arange(201).reshape(-1, 1)\n",
    "squared_201 = arr_201 ** 2\n",
    "summed_201 = np.sum(squared_201)\n",
    "meaned_201 = np.mean(squared_201)\n",
    "maxed_201 = np.max(squared_201)\n",
    "\n",
    "print(\"Cell 201 - Numpy\")\n",
    "print(\"Array shape:\", arr_201.shape)\n",
    "print(\"Sum:\", summed_201)\n",
    "print(\"Mean:\", meaned_201)\n",
    "print(\"Max:\", maxed_201)"
   ]
  },
  {
   "cell_type": "code",
   "execution_count": 202,
   "id": "af142e92",
   "metadata": {},
   "outputs": [
    {
     "name": "stdout",
     "output_type": "stream",
     "text": [
      "Cell 202 - Numpy\n",
      "Array shape: (202, 1)\n",
      "Sum: 2727101\n",
      "Mean: 13500.5\n",
      "Max: 40401\n"
     ]
    }
   ],
   "source": [
    "import numpy as np\n",
    "\n",
    "arr_202 = np.arange(202).reshape(-1, 1)\n",
    "squared_202 = arr_202 ** 2\n",
    "summed_202 = np.sum(squared_202)\n",
    "meaned_202 = np.mean(squared_202)\n",
    "maxed_202 = np.max(squared_202)\n",
    "\n",
    "print(\"Cell 202 - Numpy\")\n",
    "print(\"Array shape:\", arr_202.shape)\n",
    "print(\"Sum:\", summed_202)\n",
    "print(\"Mean:\", meaned_202)\n",
    "print(\"Max:\", maxed_202)"
   ]
  },
  {
   "cell_type": "code",
   "execution_count": 203,
   "id": "a70ff056",
   "metadata": {},
   "outputs": [
    {
     "name": "stdout",
     "output_type": "stream",
     "text": [
      "Cell 203 - Numpy\n",
      "Array shape: (203, 1)\n",
      "Sum: 2767905\n",
      "Mean: 13635.0\n",
      "Max: 40804\n"
     ]
    }
   ],
   "source": [
    "import numpy as np\n",
    "\n",
    "arr_203 = np.arange(203).reshape(-1, 1)\n",
    "squared_203 = arr_203 ** 2\n",
    "summed_203 = np.sum(squared_203)\n",
    "meaned_203 = np.mean(squared_203)\n",
    "maxed_203 = np.max(squared_203)\n",
    "\n",
    "print(\"Cell 203 - Numpy\")\n",
    "print(\"Array shape:\", arr_203.shape)\n",
    "print(\"Sum:\", summed_203)\n",
    "print(\"Mean:\", meaned_203)\n",
    "print(\"Max:\", maxed_203)"
   ]
  },
  {
   "cell_type": "code",
   "execution_count": 204,
   "id": "9fe42f00",
   "metadata": {},
   "outputs": [
    {
     "name": "stdout",
     "output_type": "stream",
     "text": [
      "Cell 204 - Numpy\n",
      "Array shape: (204, 1)\n",
      "Sum: 2809114\n",
      "Mean: 13770.166666666666\n",
      "Max: 41209\n"
     ]
    }
   ],
   "source": [
    "import numpy as np\n",
    "\n",
    "arr_204 = np.arange(204).reshape(-1, 1)\n",
    "squared_204 = arr_204 ** 2\n",
    "summed_204 = np.sum(squared_204)\n",
    "meaned_204 = np.mean(squared_204)\n",
    "maxed_204 = np.max(squared_204)\n",
    "\n",
    "print(\"Cell 204 - Numpy\")\n",
    "print(\"Array shape:\", arr_204.shape)\n",
    "print(\"Sum:\", summed_204)\n",
    "print(\"Mean:\", meaned_204)\n",
    "print(\"Max:\", maxed_204)"
   ]
  },
  {
   "cell_type": "code",
   "execution_count": 205,
   "id": "542dc8f3",
   "metadata": {},
   "outputs": [
    {
     "name": "stdout",
     "output_type": "stream",
     "text": [
      "Cell 205 - Numpy\n",
      "Array shape: (205, 1)\n",
      "Sum: 2850730\n",
      "Mean: 13906.0\n",
      "Max: 41616\n"
     ]
    }
   ],
   "source": [
    "import numpy as np\n",
    "\n",
    "arr_205 = np.arange(205).reshape(-1, 1)\n",
    "squared_205 = arr_205 ** 2\n",
    "summed_205 = np.sum(squared_205)\n",
    "meaned_205 = np.mean(squared_205)\n",
    "maxed_205 = np.max(squared_205)\n",
    "\n",
    "print(\"Cell 205 - Numpy\")\n",
    "print(\"Array shape:\", arr_205.shape)\n",
    "print(\"Sum:\", summed_205)\n",
    "print(\"Mean:\", meaned_205)\n",
    "print(\"Max:\", maxed_205)"
   ]
  },
  {
   "cell_type": "code",
   "execution_count": 206,
   "id": "6b9d0722",
   "metadata": {},
   "outputs": [
    {
     "name": "stdout",
     "output_type": "stream",
     "text": [
      "Cell 206 - Numpy\n",
      "Array shape: (206, 1)\n",
      "Sum: 2892755\n",
      "Mean: 14042.5\n",
      "Max: 42025\n"
     ]
    }
   ],
   "source": [
    "import numpy as np\n",
    "\n",
    "arr_206 = np.arange(206).reshape(-1, 1)\n",
    "squared_206 = arr_206 ** 2\n",
    "summed_206 = np.sum(squared_206)\n",
    "meaned_206 = np.mean(squared_206)\n",
    "maxed_206 = np.max(squared_206)\n",
    "\n",
    "print(\"Cell 206 - Numpy\")\n",
    "print(\"Array shape:\", arr_206.shape)\n",
    "print(\"Sum:\", summed_206)\n",
    "print(\"Mean:\", meaned_206)\n",
    "print(\"Max:\", maxed_206)"
   ]
  },
  {
   "cell_type": "code",
   "execution_count": 207,
   "id": "a1f9ef87",
   "metadata": {},
   "outputs": [
    {
     "name": "stdout",
     "output_type": "stream",
     "text": [
      "Cell 207 - Numpy\n",
      "Array shape: (207, 1)\n",
      "Sum: 2935191\n",
      "Mean: 14179.666666666666\n",
      "Max: 42436\n"
     ]
    }
   ],
   "source": [
    "import numpy as np\n",
    "\n",
    "arr_207 = np.arange(207).reshape(-1, 1)\n",
    "squared_207 = arr_207 ** 2\n",
    "summed_207 = np.sum(squared_207)\n",
    "meaned_207 = np.mean(squared_207)\n",
    "maxed_207 = np.max(squared_207)\n",
    "\n",
    "print(\"Cell 207 - Numpy\")\n",
    "print(\"Array shape:\", arr_207.shape)\n",
    "print(\"Sum:\", summed_207)\n",
    "print(\"Mean:\", meaned_207)\n",
    "print(\"Max:\", maxed_207)"
   ]
  },
  {
   "cell_type": "code",
   "execution_count": 208,
   "id": "24c0d049",
   "metadata": {},
   "outputs": [
    {
     "name": "stdout",
     "output_type": "stream",
     "text": [
      "Cell 208 - Numpy\n",
      "Array shape: (208, 1)\n",
      "Sum: 2978040\n",
      "Mean: 14317.5\n",
      "Max: 42849\n"
     ]
    }
   ],
   "source": [
    "import numpy as np\n",
    "\n",
    "arr_208 = np.arange(208).reshape(-1, 1)\n",
    "squared_208 = arr_208 ** 2\n",
    "summed_208 = np.sum(squared_208)\n",
    "meaned_208 = np.mean(squared_208)\n",
    "maxed_208 = np.max(squared_208)\n",
    "\n",
    "print(\"Cell 208 - Numpy\")\n",
    "print(\"Array shape:\", arr_208.shape)\n",
    "print(\"Sum:\", summed_208)\n",
    "print(\"Mean:\", meaned_208)\n",
    "print(\"Max:\", maxed_208)"
   ]
  },
  {
   "cell_type": "code",
   "execution_count": 209,
   "id": "f2154bb9",
   "metadata": {},
   "outputs": [
    {
     "name": "stdout",
     "output_type": "stream",
     "text": [
      "Cell 209 - Numpy\n",
      "Array shape: (209, 1)\n",
      "Sum: 3021304\n",
      "Mean: 14456.0\n",
      "Max: 43264\n"
     ]
    }
   ],
   "source": [
    "import numpy as np\n",
    "\n",
    "arr_209 = np.arange(209).reshape(-1, 1)\n",
    "squared_209 = arr_209 ** 2\n",
    "summed_209 = np.sum(squared_209)\n",
    "meaned_209 = np.mean(squared_209)\n",
    "maxed_209 = np.max(squared_209)\n",
    "\n",
    "print(\"Cell 209 - Numpy\")\n",
    "print(\"Array shape:\", arr_209.shape)\n",
    "print(\"Sum:\", summed_209)\n",
    "print(\"Mean:\", meaned_209)\n",
    "print(\"Max:\", maxed_209)"
   ]
  },
  {
   "cell_type": "code",
   "execution_count": 210,
   "id": "5e7ca5d6",
   "metadata": {},
   "outputs": [
    {
     "name": "stdout",
     "output_type": "stream",
     "text": [
      "Cell 210 - Numpy\n",
      "Array shape: (210, 1)\n",
      "Sum: 3064985\n",
      "Mean: 14595.166666666666\n",
      "Max: 43681\n"
     ]
    }
   ],
   "source": [
    "import numpy as np\n",
    "\n",
    "arr_210 = np.arange(210).reshape(-1, 1)\n",
    "squared_210 = arr_210 ** 2\n",
    "summed_210 = np.sum(squared_210)\n",
    "meaned_210 = np.mean(squared_210)\n",
    "maxed_210 = np.max(squared_210)\n",
    "\n",
    "print(\"Cell 210 - Numpy\")\n",
    "print(\"Array shape:\", arr_210.shape)\n",
    "print(\"Sum:\", summed_210)\n",
    "print(\"Mean:\", meaned_210)\n",
    "print(\"Max:\", maxed_210)"
   ]
  },
  {
   "cell_type": "code",
   "execution_count": 211,
   "id": "5b3f3b9e",
   "metadata": {},
   "outputs": [
    {
     "name": "stdout",
     "output_type": "stream",
     "text": [
      "Cell 211 - Numpy\n",
      "Array shape: (211, 1)\n",
      "Sum: 3109085\n",
      "Mean: 14735.0\n",
      "Max: 44100\n"
     ]
    }
   ],
   "source": [
    "import numpy as np\n",
    "\n",
    "arr_211 = np.arange(211).reshape(-1, 1)\n",
    "squared_211 = arr_211 ** 2\n",
    "summed_211 = np.sum(squared_211)\n",
    "meaned_211 = np.mean(squared_211)\n",
    "maxed_211 = np.max(squared_211)\n",
    "\n",
    "print(\"Cell 211 - Numpy\")\n",
    "print(\"Array shape:\", arr_211.shape)\n",
    "print(\"Sum:\", summed_211)\n",
    "print(\"Mean:\", meaned_211)\n",
    "print(\"Max:\", maxed_211)"
   ]
  },
  {
   "cell_type": "code",
   "execution_count": 212,
   "id": "441cafae",
   "metadata": {},
   "outputs": [
    {
     "name": "stdout",
     "output_type": "stream",
     "text": [
      "Cell 212 - Numpy\n",
      "Array shape: (212, 1)\n",
      "Sum: 3153606\n",
      "Mean: 14875.5\n",
      "Max: 44521\n"
     ]
    }
   ],
   "source": [
    "import numpy as np\n",
    "\n",
    "arr_212 = np.arange(212).reshape(-1, 1)\n",
    "squared_212 = arr_212 ** 2\n",
    "summed_212 = np.sum(squared_212)\n",
    "meaned_212 = np.mean(squared_212)\n",
    "maxed_212 = np.max(squared_212)\n",
    "\n",
    "print(\"Cell 212 - Numpy\")\n",
    "print(\"Array shape:\", arr_212.shape)\n",
    "print(\"Sum:\", summed_212)\n",
    "print(\"Mean:\", meaned_212)\n",
    "print(\"Max:\", maxed_212)"
   ]
  },
  {
   "cell_type": "code",
   "execution_count": 213,
   "id": "8af90d7c",
   "metadata": {},
   "outputs": [
    {
     "name": "stdout",
     "output_type": "stream",
     "text": [
      "Cell 213 - Numpy\n",
      "Array shape: (213, 1)\n",
      "Sum: 3198550\n",
      "Mean: 15016.666666666666\n",
      "Max: 44944\n"
     ]
    }
   ],
   "source": [
    "import numpy as np\n",
    "\n",
    "arr_213 = np.arange(213).reshape(-1, 1)\n",
    "squared_213 = arr_213 ** 2\n",
    "summed_213 = np.sum(squared_213)\n",
    "meaned_213 = np.mean(squared_213)\n",
    "maxed_213 = np.max(squared_213)\n",
    "\n",
    "print(\"Cell 213 - Numpy\")\n",
    "print(\"Array shape:\", arr_213.shape)\n",
    "print(\"Sum:\", summed_213)\n",
    "print(\"Mean:\", meaned_213)\n",
    "print(\"Max:\", maxed_213)"
   ]
  },
  {
   "cell_type": "code",
   "execution_count": 214,
   "id": "f0e4ab66",
   "metadata": {},
   "outputs": [
    {
     "name": "stdout",
     "output_type": "stream",
     "text": [
      "Cell 214 - Numpy\n",
      "Array shape: (214, 1)\n",
      "Sum: 3243919\n",
      "Mean: 15158.5\n",
      "Max: 45369\n"
     ]
    }
   ],
   "source": [
    "import numpy as np\n",
    "\n",
    "arr_214 = np.arange(214).reshape(-1, 1)\n",
    "squared_214 = arr_214 ** 2\n",
    "summed_214 = np.sum(squared_214)\n",
    "meaned_214 = np.mean(squared_214)\n",
    "maxed_214 = np.max(squared_214)\n",
    "\n",
    "print(\"Cell 214 - Numpy\")\n",
    "print(\"Array shape:\", arr_214.shape)\n",
    "print(\"Sum:\", summed_214)\n",
    "print(\"Mean:\", meaned_214)\n",
    "print(\"Max:\", maxed_214)"
   ]
  },
  {
   "cell_type": "code",
   "execution_count": 215,
   "id": "ba9635cd",
   "metadata": {},
   "outputs": [
    {
     "name": "stdout",
     "output_type": "stream",
     "text": [
      "Cell 215 - Numpy\n",
      "Array shape: (215, 1)\n",
      "Sum: 3289715\n",
      "Mean: 15301.0\n",
      "Max: 45796\n"
     ]
    }
   ],
   "source": [
    "import numpy as np\n",
    "\n",
    "arr_215 = np.arange(215).reshape(-1, 1)\n",
    "squared_215 = arr_215 ** 2\n",
    "summed_215 = np.sum(squared_215)\n",
    "meaned_215 = np.mean(squared_215)\n",
    "maxed_215 = np.max(squared_215)\n",
    "\n",
    "print(\"Cell 215 - Numpy\")\n",
    "print(\"Array shape:\", arr_215.shape)\n",
    "print(\"Sum:\", summed_215)\n",
    "print(\"Mean:\", meaned_215)\n",
    "print(\"Max:\", maxed_215)"
   ]
  },
  {
   "cell_type": "code",
   "execution_count": 216,
   "id": "5bbf2aec",
   "metadata": {},
   "outputs": [
    {
     "name": "stdout",
     "output_type": "stream",
     "text": [
      "Cell 216 - Numpy\n",
      "Array shape: (216, 1)\n",
      "Sum: 3335940\n",
      "Mean: 15444.166666666666\n",
      "Max: 46225\n"
     ]
    }
   ],
   "source": [
    "import numpy as np\n",
    "\n",
    "arr_216 = np.arange(216).reshape(-1, 1)\n",
    "squared_216 = arr_216 ** 2\n",
    "summed_216 = np.sum(squared_216)\n",
    "meaned_216 = np.mean(squared_216)\n",
    "maxed_216 = np.max(squared_216)\n",
    "\n",
    "print(\"Cell 216 - Numpy\")\n",
    "print(\"Array shape:\", arr_216.shape)\n",
    "print(\"Sum:\", summed_216)\n",
    "print(\"Mean:\", meaned_216)\n",
    "print(\"Max:\", maxed_216)"
   ]
  },
  {
   "cell_type": "code",
   "execution_count": 217,
   "id": "22c8361c",
   "metadata": {},
   "outputs": [
    {
     "name": "stdout",
     "output_type": "stream",
     "text": [
      "Cell 217 - Numpy\n",
      "Array shape: (217, 1)\n",
      "Sum: 3382596\n",
      "Mean: 15588.0\n",
      "Max: 46656\n"
     ]
    }
   ],
   "source": [
    "import numpy as np\n",
    "\n",
    "arr_217 = np.arange(217).reshape(-1, 1)\n",
    "squared_217 = arr_217 ** 2\n",
    "summed_217 = np.sum(squared_217)\n",
    "meaned_217 = np.mean(squared_217)\n",
    "maxed_217 = np.max(squared_217)\n",
    "\n",
    "print(\"Cell 217 - Numpy\")\n",
    "print(\"Array shape:\", arr_217.shape)\n",
    "print(\"Sum:\", summed_217)\n",
    "print(\"Mean:\", meaned_217)\n",
    "print(\"Max:\", maxed_217)"
   ]
  },
  {
   "cell_type": "code",
   "execution_count": 218,
   "id": "12321639",
   "metadata": {},
   "outputs": [
    {
     "name": "stdout",
     "output_type": "stream",
     "text": [
      "Cell 218 - Numpy\n",
      "Array shape: (218, 1)\n",
      "Sum: 3429685\n",
      "Mean: 15732.5\n",
      "Max: 47089\n"
     ]
    }
   ],
   "source": [
    "import numpy as np\n",
    "\n",
    "arr_218 = np.arange(218).reshape(-1, 1)\n",
    "squared_218 = arr_218 ** 2\n",
    "summed_218 = np.sum(squared_218)\n",
    "meaned_218 = np.mean(squared_218)\n",
    "maxed_218 = np.max(squared_218)\n",
    "\n",
    "print(\"Cell 218 - Numpy\")\n",
    "print(\"Array shape:\", arr_218.shape)\n",
    "print(\"Sum:\", summed_218)\n",
    "print(\"Mean:\", meaned_218)\n",
    "print(\"Max:\", maxed_218)"
   ]
  },
  {
   "cell_type": "code",
   "execution_count": 219,
   "id": "8e6b8bed",
   "metadata": {},
   "outputs": [
    {
     "name": "stdout",
     "output_type": "stream",
     "text": [
      "Cell 219 - Numpy\n",
      "Array shape: (219, 1)\n",
      "Sum: 3477209\n",
      "Mean: 15877.666666666666\n",
      "Max: 47524\n"
     ]
    }
   ],
   "source": [
    "import numpy as np\n",
    "\n",
    "arr_219 = np.arange(219).reshape(-1, 1)\n",
    "squared_219 = arr_219 ** 2\n",
    "summed_219 = np.sum(squared_219)\n",
    "meaned_219 = np.mean(squared_219)\n",
    "maxed_219 = np.max(squared_219)\n",
    "\n",
    "print(\"Cell 219 - Numpy\")\n",
    "print(\"Array shape:\", arr_219.shape)\n",
    "print(\"Sum:\", summed_219)\n",
    "print(\"Mean:\", meaned_219)\n",
    "print(\"Max:\", maxed_219)"
   ]
  },
  {
   "cell_type": "code",
   "execution_count": 220,
   "id": "f748766a",
   "metadata": {},
   "outputs": [
    {
     "name": "stdout",
     "output_type": "stream",
     "text": [
      "Cell 220 - Numpy\n",
      "Array shape: (220, 1)\n",
      "Sum: 3525170\n",
      "Mean: 16023.5\n",
      "Max: 47961\n"
     ]
    }
   ],
   "source": [
    "import numpy as np\n",
    "\n",
    "arr_220 = np.arange(220).reshape(-1, 1)\n",
    "squared_220 = arr_220 ** 2\n",
    "summed_220 = np.sum(squared_220)\n",
    "meaned_220 = np.mean(squared_220)\n",
    "maxed_220 = np.max(squared_220)\n",
    "\n",
    "print(\"Cell 220 - Numpy\")\n",
    "print(\"Array shape:\", arr_220.shape)\n",
    "print(\"Sum:\", summed_220)\n",
    "print(\"Mean:\", meaned_220)\n",
    "print(\"Max:\", maxed_220)"
   ]
  },
  {
   "cell_type": "code",
   "execution_count": 221,
   "id": "d92163f7",
   "metadata": {},
   "outputs": [
    {
     "name": "stdout",
     "output_type": "stream",
     "text": [
      "Cell 221 - Numpy\n",
      "Array shape: (221, 1)\n",
      "Sum: 3573570\n",
      "Mean: 16170.0\n",
      "Max: 48400\n"
     ]
    }
   ],
   "source": [
    "import numpy as np\n",
    "\n",
    "arr_221 = np.arange(221).reshape(-1, 1)\n",
    "squared_221 = arr_221 ** 2\n",
    "summed_221 = np.sum(squared_221)\n",
    "meaned_221 = np.mean(squared_221)\n",
    "maxed_221 = np.max(squared_221)\n",
    "\n",
    "print(\"Cell 221 - Numpy\")\n",
    "print(\"Array shape:\", arr_221.shape)\n",
    "print(\"Sum:\", summed_221)\n",
    "print(\"Mean:\", meaned_221)\n",
    "print(\"Max:\", maxed_221)"
   ]
  },
  {
   "cell_type": "code",
   "execution_count": 222,
   "id": "29e43ea3",
   "metadata": {},
   "outputs": [
    {
     "name": "stdout",
     "output_type": "stream",
     "text": [
      "Cell 222 - Numpy\n",
      "Array shape: (222, 1)\n",
      "Sum: 3622411\n",
      "Mean: 16317.166666666666\n",
      "Max: 48841\n"
     ]
    }
   ],
   "source": [
    "import numpy as np\n",
    "\n",
    "arr_222 = np.arange(222).reshape(-1, 1)\n",
    "squared_222 = arr_222 ** 2\n",
    "summed_222 = np.sum(squared_222)\n",
    "meaned_222 = np.mean(squared_222)\n",
    "maxed_222 = np.max(squared_222)\n",
    "\n",
    "print(\"Cell 222 - Numpy\")\n",
    "print(\"Array shape:\", arr_222.shape)\n",
    "print(\"Sum:\", summed_222)\n",
    "print(\"Mean:\", meaned_222)\n",
    "print(\"Max:\", maxed_222)"
   ]
  },
  {
   "cell_type": "code",
   "execution_count": 223,
   "id": "1510fb6d",
   "metadata": {},
   "outputs": [
    {
     "name": "stdout",
     "output_type": "stream",
     "text": [
      "Cell 223 - Numpy\n",
      "Array shape: (223, 1)\n",
      "Sum: 3671695\n",
      "Mean: 16465.0\n",
      "Max: 49284\n"
     ]
    }
   ],
   "source": [
    "import numpy as np\n",
    "\n",
    "arr_223 = np.arange(223).reshape(-1, 1)\n",
    "squared_223 = arr_223 ** 2\n",
    "summed_223 = np.sum(squared_223)\n",
    "meaned_223 = np.mean(squared_223)\n",
    "maxed_223 = np.max(squared_223)\n",
    "\n",
    "print(\"Cell 223 - Numpy\")\n",
    "print(\"Array shape:\", arr_223.shape)\n",
    "print(\"Sum:\", summed_223)\n",
    "print(\"Mean:\", meaned_223)\n",
    "print(\"Max:\", maxed_223)"
   ]
  },
  {
   "cell_type": "code",
   "execution_count": 224,
   "id": "8a074ad1",
   "metadata": {},
   "outputs": [
    {
     "name": "stdout",
     "output_type": "stream",
     "text": [
      "Cell 224 - Numpy\n",
      "Array shape: (224, 1)\n",
      "Sum: 3721424\n",
      "Mean: 16613.5\n",
      "Max: 49729\n"
     ]
    }
   ],
   "source": [
    "import numpy as np\n",
    "\n",
    "arr_224 = np.arange(224).reshape(-1, 1)\n",
    "squared_224 = arr_224 ** 2\n",
    "summed_224 = np.sum(squared_224)\n",
    "meaned_224 = np.mean(squared_224)\n",
    "maxed_224 = np.max(squared_224)\n",
    "\n",
    "print(\"Cell 224 - Numpy\")\n",
    "print(\"Array shape:\", arr_224.shape)\n",
    "print(\"Sum:\", summed_224)\n",
    "print(\"Mean:\", meaned_224)\n",
    "print(\"Max:\", maxed_224)"
   ]
  },
  {
   "cell_type": "code",
   "execution_count": 225,
   "id": "f2fdf079",
   "metadata": {},
   "outputs": [
    {
     "name": "stdout",
     "output_type": "stream",
     "text": [
      "Cell 225 - Numpy\n",
      "Array shape: (225, 1)\n",
      "Sum: 3771600\n",
      "Mean: 16762.666666666668\n",
      "Max: 50176\n"
     ]
    }
   ],
   "source": [
    "import numpy as np\n",
    "\n",
    "arr_225 = np.arange(225).reshape(-1, 1)\n",
    "squared_225 = arr_225 ** 2\n",
    "summed_225 = np.sum(squared_225)\n",
    "meaned_225 = np.mean(squared_225)\n",
    "maxed_225 = np.max(squared_225)\n",
    "\n",
    "print(\"Cell 225 - Numpy\")\n",
    "print(\"Array shape:\", arr_225.shape)\n",
    "print(\"Sum:\", summed_225)\n",
    "print(\"Mean:\", meaned_225)\n",
    "print(\"Max:\", maxed_225)"
   ]
  },
  {
   "cell_type": "code",
   "execution_count": 226,
   "id": "233c7dad",
   "metadata": {},
   "outputs": [
    {
     "name": "stdout",
     "output_type": "stream",
     "text": [
      "Cell 226 - Numpy\n",
      "Array shape: (226, 1)\n",
      "Sum: 3822225\n",
      "Mean: 16912.5\n",
      "Max: 50625\n"
     ]
    }
   ],
   "source": [
    "import numpy as np\n",
    "\n",
    "arr_226 = np.arange(226).reshape(-1, 1)\n",
    "squared_226 = arr_226 ** 2\n",
    "summed_226 = np.sum(squared_226)\n",
    "meaned_226 = np.mean(squared_226)\n",
    "maxed_226 = np.max(squared_226)\n",
    "\n",
    "print(\"Cell 226 - Numpy\")\n",
    "print(\"Array shape:\", arr_226.shape)\n",
    "print(\"Sum:\", summed_226)\n",
    "print(\"Mean:\", meaned_226)\n",
    "print(\"Max:\", maxed_226)"
   ]
  },
  {
   "cell_type": "code",
   "execution_count": 227,
   "id": "bce3a4de",
   "metadata": {},
   "outputs": [
    {
     "name": "stdout",
     "output_type": "stream",
     "text": [
      "Cell 227 - Numpy\n",
      "Array shape: (227, 1)\n",
      "Sum: 3873301\n",
      "Mean: 17063.0\n",
      "Max: 51076\n"
     ]
    }
   ],
   "source": [
    "import numpy as np\n",
    "\n",
    "arr_227 = np.arange(227).reshape(-1, 1)\n",
    "squared_227 = arr_227 ** 2\n",
    "summed_227 = np.sum(squared_227)\n",
    "meaned_227 = np.mean(squared_227)\n",
    "maxed_227 = np.max(squared_227)\n",
    "\n",
    "print(\"Cell 227 - Numpy\")\n",
    "print(\"Array shape:\", arr_227.shape)\n",
    "print(\"Sum:\", summed_227)\n",
    "print(\"Mean:\", meaned_227)\n",
    "print(\"Max:\", maxed_227)"
   ]
  },
  {
   "cell_type": "code",
   "execution_count": 228,
   "id": "bc53fa77",
   "metadata": {},
   "outputs": [
    {
     "name": "stdout",
     "output_type": "stream",
     "text": [
      "Cell 228 - Numpy\n",
      "Array shape: (228, 1)\n",
      "Sum: 3924830\n",
      "Mean: 17214.166666666668\n",
      "Max: 51529\n"
     ]
    }
   ],
   "source": [
    "import numpy as np\n",
    "\n",
    "arr_228 = np.arange(228).reshape(-1, 1)\n",
    "squared_228 = arr_228 ** 2\n",
    "summed_228 = np.sum(squared_228)\n",
    "meaned_228 = np.mean(squared_228)\n",
    "maxed_228 = np.max(squared_228)\n",
    "\n",
    "print(\"Cell 228 - Numpy\")\n",
    "print(\"Array shape:\", arr_228.shape)\n",
    "print(\"Sum:\", summed_228)\n",
    "print(\"Mean:\", meaned_228)\n",
    "print(\"Max:\", maxed_228)"
   ]
  },
  {
   "cell_type": "code",
   "execution_count": 229,
   "id": "6bfd19d7",
   "metadata": {},
   "outputs": [
    {
     "name": "stdout",
     "output_type": "stream",
     "text": [
      "Cell 229 - Numpy\n",
      "Array shape: (229, 1)\n",
      "Sum: 3976814\n",
      "Mean: 17366.0\n",
      "Max: 51984\n"
     ]
    }
   ],
   "source": [
    "import numpy as np\n",
    "\n",
    "arr_229 = np.arange(229).reshape(-1, 1)\n",
    "squared_229 = arr_229 ** 2\n",
    "summed_229 = np.sum(squared_229)\n",
    "meaned_229 = np.mean(squared_229)\n",
    "maxed_229 = np.max(squared_229)\n",
    "\n",
    "print(\"Cell 229 - Numpy\")\n",
    "print(\"Array shape:\", arr_229.shape)\n",
    "print(\"Sum:\", summed_229)\n",
    "print(\"Mean:\", meaned_229)\n",
    "print(\"Max:\", maxed_229)"
   ]
  },
  {
   "cell_type": "code",
   "execution_count": 230,
   "id": "7b4689f8",
   "metadata": {},
   "outputs": [
    {
     "name": "stdout",
     "output_type": "stream",
     "text": [
      "Cell 230 - Numpy\n",
      "Array shape: (230, 1)\n",
      "Sum: 4029255\n",
      "Mean: 17518.5\n",
      "Max: 52441\n"
     ]
    }
   ],
   "source": [
    "import numpy as np\n",
    "\n",
    "arr_230 = np.arange(230).reshape(-1, 1)\n",
    "squared_230 = arr_230 ** 2\n",
    "summed_230 = np.sum(squared_230)\n",
    "meaned_230 = np.mean(squared_230)\n",
    "maxed_230 = np.max(squared_230)\n",
    "\n",
    "print(\"Cell 230 - Numpy\")\n",
    "print(\"Array shape:\", arr_230.shape)\n",
    "print(\"Sum:\", summed_230)\n",
    "print(\"Mean:\", meaned_230)\n",
    "print(\"Max:\", maxed_230)"
   ]
  },
  {
   "cell_type": "code",
   "execution_count": 231,
   "id": "739d3fc0",
   "metadata": {},
   "outputs": [
    {
     "name": "stdout",
     "output_type": "stream",
     "text": [
      "Cell 231 - Numpy\n",
      "Array shape: (231, 1)\n",
      "Sum: 4082155\n",
      "Mean: 17671.666666666668\n",
      "Max: 52900\n"
     ]
    }
   ],
   "source": [
    "import numpy as np\n",
    "\n",
    "arr_231 = np.arange(231).reshape(-1, 1)\n",
    "squared_231 = arr_231 ** 2\n",
    "summed_231 = np.sum(squared_231)\n",
    "meaned_231 = np.mean(squared_231)\n",
    "maxed_231 = np.max(squared_231)\n",
    "\n",
    "print(\"Cell 231 - Numpy\")\n",
    "print(\"Array shape:\", arr_231.shape)\n",
    "print(\"Sum:\", summed_231)\n",
    "print(\"Mean:\", meaned_231)\n",
    "print(\"Max:\", maxed_231)"
   ]
  },
  {
   "cell_type": "code",
   "execution_count": 232,
   "id": "494fb6b1",
   "metadata": {},
   "outputs": [
    {
     "name": "stdout",
     "output_type": "stream",
     "text": [
      "Cell 232 - Numpy\n",
      "Array shape: (232, 1)\n",
      "Sum: 4135516\n",
      "Mean: 17825.5\n",
      "Max: 53361\n"
     ]
    }
   ],
   "source": [
    "import numpy as np\n",
    "\n",
    "arr_232 = np.arange(232).reshape(-1, 1)\n",
    "squared_232 = arr_232 ** 2\n",
    "summed_232 = np.sum(squared_232)\n",
    "meaned_232 = np.mean(squared_232)\n",
    "maxed_232 = np.max(squared_232)\n",
    "\n",
    "print(\"Cell 232 - Numpy\")\n",
    "print(\"Array shape:\", arr_232.shape)\n",
    "print(\"Sum:\", summed_232)\n",
    "print(\"Mean:\", meaned_232)\n",
    "print(\"Max:\", maxed_232)"
   ]
  },
  {
   "cell_type": "code",
   "execution_count": 233,
   "id": "d9e48cb5",
   "metadata": {},
   "outputs": [
    {
     "name": "stdout",
     "output_type": "stream",
     "text": [
      "Cell 233 - Numpy\n",
      "Array shape: (233, 1)\n",
      "Sum: 4189340\n",
      "Mean: 17980.0\n",
      "Max: 53824\n"
     ]
    }
   ],
   "source": [
    "import numpy as np\n",
    "\n",
    "arr_233 = np.arange(233).reshape(-1, 1)\n",
    "squared_233 = arr_233 ** 2\n",
    "summed_233 = np.sum(squared_233)\n",
    "meaned_233 = np.mean(squared_233)\n",
    "maxed_233 = np.max(squared_233)\n",
    "\n",
    "print(\"Cell 233 - Numpy\")\n",
    "print(\"Array shape:\", arr_233.shape)\n",
    "print(\"Sum:\", summed_233)\n",
    "print(\"Mean:\", meaned_233)\n",
    "print(\"Max:\", maxed_233)"
   ]
  },
  {
   "cell_type": "code",
   "execution_count": 234,
   "id": "3227f1e9",
   "metadata": {},
   "outputs": [
    {
     "name": "stdout",
     "output_type": "stream",
     "text": [
      "Cell 234 - Numpy\n",
      "Array shape: (234, 1)\n",
      "Sum: 4243629\n",
      "Mean: 18135.166666666668\n",
      "Max: 54289\n"
     ]
    }
   ],
   "source": [
    "import numpy as np\n",
    "\n",
    "arr_234 = np.arange(234).reshape(-1, 1)\n",
    "squared_234 = arr_234 ** 2\n",
    "summed_234 = np.sum(squared_234)\n",
    "meaned_234 = np.mean(squared_234)\n",
    "maxed_234 = np.max(squared_234)\n",
    "\n",
    "print(\"Cell 234 - Numpy\")\n",
    "print(\"Array shape:\", arr_234.shape)\n",
    "print(\"Sum:\", summed_234)\n",
    "print(\"Mean:\", meaned_234)\n",
    "print(\"Max:\", maxed_234)"
   ]
  },
  {
   "cell_type": "code",
   "execution_count": 235,
   "id": "c2dee38d",
   "metadata": {},
   "outputs": [
    {
     "name": "stdout",
     "output_type": "stream",
     "text": [
      "Cell 235 - Numpy\n",
      "Array shape: (235, 1)\n",
      "Sum: 4298385\n",
      "Mean: 18291.0\n",
      "Max: 54756\n"
     ]
    }
   ],
   "source": [
    "import numpy as np\n",
    "\n",
    "arr_235 = np.arange(235).reshape(-1, 1)\n",
    "squared_235 = arr_235 ** 2\n",
    "summed_235 = np.sum(squared_235)\n",
    "meaned_235 = np.mean(squared_235)\n",
    "maxed_235 = np.max(squared_235)\n",
    "\n",
    "print(\"Cell 235 - Numpy\")\n",
    "print(\"Array shape:\", arr_235.shape)\n",
    "print(\"Sum:\", summed_235)\n",
    "print(\"Mean:\", meaned_235)\n",
    "print(\"Max:\", maxed_235)"
   ]
  },
  {
   "cell_type": "code",
   "execution_count": 236,
   "id": "5ba5c6fd",
   "metadata": {},
   "outputs": [
    {
     "name": "stdout",
     "output_type": "stream",
     "text": [
      "Cell 236 - Numpy\n",
      "Array shape: (236, 1)\n",
      "Sum: 4353610\n",
      "Mean: 18447.5\n",
      "Max: 55225\n"
     ]
    }
   ],
   "source": [
    "import numpy as np\n",
    "\n",
    "arr_236 = np.arange(236).reshape(-1, 1)\n",
    "squared_236 = arr_236 ** 2\n",
    "summed_236 = np.sum(squared_236)\n",
    "meaned_236 = np.mean(squared_236)\n",
    "maxed_236 = np.max(squared_236)\n",
    "\n",
    "print(\"Cell 236 - Numpy\")\n",
    "print(\"Array shape:\", arr_236.shape)\n",
    "print(\"Sum:\", summed_236)\n",
    "print(\"Mean:\", meaned_236)\n",
    "print(\"Max:\", maxed_236)"
   ]
  },
  {
   "cell_type": "code",
   "execution_count": 237,
   "id": "7803c63f",
   "metadata": {},
   "outputs": [
    {
     "name": "stdout",
     "output_type": "stream",
     "text": [
      "Cell 237 - Numpy\n",
      "Array shape: (237, 1)\n",
      "Sum: 4409306\n",
      "Mean: 18604.666666666668\n",
      "Max: 55696\n"
     ]
    }
   ],
   "source": [
    "import numpy as np\n",
    "\n",
    "arr_237 = np.arange(237).reshape(-1, 1)\n",
    "squared_237 = arr_237 ** 2\n",
    "summed_237 = np.sum(squared_237)\n",
    "meaned_237 = np.mean(squared_237)\n",
    "maxed_237 = np.max(squared_237)\n",
    "\n",
    "print(\"Cell 237 - Numpy\")\n",
    "print(\"Array shape:\", arr_237.shape)\n",
    "print(\"Sum:\", summed_237)\n",
    "print(\"Mean:\", meaned_237)\n",
    "print(\"Max:\", maxed_237)"
   ]
  },
  {
   "cell_type": "code",
   "execution_count": 238,
   "id": "01f0eeb9",
   "metadata": {},
   "outputs": [
    {
     "name": "stdout",
     "output_type": "stream",
     "text": [
      "Cell 238 - Numpy\n",
      "Array shape: (238, 1)\n",
      "Sum: 4465475\n",
      "Mean: 18762.5\n",
      "Max: 56169\n"
     ]
    }
   ],
   "source": [
    "import numpy as np\n",
    "\n",
    "arr_238 = np.arange(238).reshape(-1, 1)\n",
    "squared_238 = arr_238 ** 2\n",
    "summed_238 = np.sum(squared_238)\n",
    "meaned_238 = np.mean(squared_238)\n",
    "maxed_238 = np.max(squared_238)\n",
    "\n",
    "print(\"Cell 238 - Numpy\")\n",
    "print(\"Array shape:\", arr_238.shape)\n",
    "print(\"Sum:\", summed_238)\n",
    "print(\"Mean:\", meaned_238)\n",
    "print(\"Max:\", maxed_238)"
   ]
  },
  {
   "cell_type": "code",
   "execution_count": 239,
   "id": "67d9eb45",
   "metadata": {},
   "outputs": [
    {
     "name": "stdout",
     "output_type": "stream",
     "text": [
      "Cell 239 - Numpy\n",
      "Array shape: (239, 1)\n",
      "Sum: 4522119\n",
      "Mean: 18921.0\n",
      "Max: 56644\n"
     ]
    }
   ],
   "source": [
    "import numpy as np\n",
    "\n",
    "arr_239 = np.arange(239).reshape(-1, 1)\n",
    "squared_239 = arr_239 ** 2\n",
    "summed_239 = np.sum(squared_239)\n",
    "meaned_239 = np.mean(squared_239)\n",
    "maxed_239 = np.max(squared_239)\n",
    "\n",
    "print(\"Cell 239 - Numpy\")\n",
    "print(\"Array shape:\", arr_239.shape)\n",
    "print(\"Sum:\", summed_239)\n",
    "print(\"Mean:\", meaned_239)\n",
    "print(\"Max:\", maxed_239)"
   ]
  },
  {
   "cell_type": "code",
   "execution_count": 240,
   "id": "9d2830f3",
   "metadata": {},
   "outputs": [
    {
     "name": "stdout",
     "output_type": "stream",
     "text": [
      "Cell 240 - Numpy\n",
      "Array shape: (240, 1)\n",
      "Sum: 4579240\n",
      "Mean: 19080.166666666668\n",
      "Max: 57121\n"
     ]
    }
   ],
   "source": [
    "import numpy as np\n",
    "\n",
    "arr_240 = np.arange(240).reshape(-1, 1)\n",
    "squared_240 = arr_240 ** 2\n",
    "summed_240 = np.sum(squared_240)\n",
    "meaned_240 = np.mean(squared_240)\n",
    "maxed_240 = np.max(squared_240)\n",
    "\n",
    "print(\"Cell 240 - Numpy\")\n",
    "print(\"Array shape:\", arr_240.shape)\n",
    "print(\"Sum:\", summed_240)\n",
    "print(\"Mean:\", meaned_240)\n",
    "print(\"Max:\", maxed_240)"
   ]
  },
  {
   "cell_type": "code",
   "execution_count": 241,
   "id": "2b42a3d5",
   "metadata": {},
   "outputs": [
    {
     "name": "stdout",
     "output_type": "stream",
     "text": [
      "Cell 241 - Numpy\n",
      "Array shape: (241, 1)\n",
      "Sum: 4636840\n",
      "Mean: 19240.0\n",
      "Max: 57600\n"
     ]
    }
   ],
   "source": [
    "import numpy as np\n",
    "\n",
    "arr_241 = np.arange(241).reshape(-1, 1)\n",
    "squared_241 = arr_241 ** 2\n",
    "summed_241 = np.sum(squared_241)\n",
    "meaned_241 = np.mean(squared_241)\n",
    "maxed_241 = np.max(squared_241)\n",
    "\n",
    "print(\"Cell 241 - Numpy\")\n",
    "print(\"Array shape:\", arr_241.shape)\n",
    "print(\"Sum:\", summed_241)\n",
    "print(\"Mean:\", meaned_241)\n",
    "print(\"Max:\", maxed_241)"
   ]
  },
  {
   "cell_type": "code",
   "execution_count": 242,
   "id": "810f4a01",
   "metadata": {},
   "outputs": [
    {
     "name": "stdout",
     "output_type": "stream",
     "text": [
      "Cell 242 - Numpy\n",
      "Array shape: (242, 1)\n",
      "Sum: 4694921\n",
      "Mean: 19400.5\n",
      "Max: 58081\n"
     ]
    }
   ],
   "source": [
    "import numpy as np\n",
    "\n",
    "arr_242 = np.arange(242).reshape(-1, 1)\n",
    "squared_242 = arr_242 ** 2\n",
    "summed_242 = np.sum(squared_242)\n",
    "meaned_242 = np.mean(squared_242)\n",
    "maxed_242 = np.max(squared_242)\n",
    "\n",
    "print(\"Cell 242 - Numpy\")\n",
    "print(\"Array shape:\", arr_242.shape)\n",
    "print(\"Sum:\", summed_242)\n",
    "print(\"Mean:\", meaned_242)\n",
    "print(\"Max:\", maxed_242)"
   ]
  },
  {
   "cell_type": "code",
   "execution_count": 243,
   "id": "45fea171",
   "metadata": {},
   "outputs": [
    {
     "name": "stdout",
     "output_type": "stream",
     "text": [
      "Cell 243 - Numpy\n",
      "Array shape: (243, 1)\n",
      "Sum: 4753485\n",
      "Mean: 19561.666666666668\n",
      "Max: 58564\n"
     ]
    }
   ],
   "source": [
    "import numpy as np\n",
    "\n",
    "arr_243 = np.arange(243).reshape(-1, 1)\n",
    "squared_243 = arr_243 ** 2\n",
    "summed_243 = np.sum(squared_243)\n",
    "meaned_243 = np.mean(squared_243)\n",
    "maxed_243 = np.max(squared_243)\n",
    "\n",
    "print(\"Cell 243 - Numpy\")\n",
    "print(\"Array shape:\", arr_243.shape)\n",
    "print(\"Sum:\", summed_243)\n",
    "print(\"Mean:\", meaned_243)\n",
    "print(\"Max:\", maxed_243)"
   ]
  },
  {
   "cell_type": "code",
   "execution_count": 244,
   "id": "1dafd477",
   "metadata": {},
   "outputs": [
    {
     "name": "stdout",
     "output_type": "stream",
     "text": [
      "Cell 244 - Numpy\n",
      "Array shape: (244, 1)\n",
      "Sum: 4812534\n",
      "Mean: 19723.5\n",
      "Max: 59049\n"
     ]
    }
   ],
   "source": [
    "import numpy as np\n",
    "\n",
    "arr_244 = np.arange(244).reshape(-1, 1)\n",
    "squared_244 = arr_244 ** 2\n",
    "summed_244 = np.sum(squared_244)\n",
    "meaned_244 = np.mean(squared_244)\n",
    "maxed_244 = np.max(squared_244)\n",
    "\n",
    "print(\"Cell 244 - Numpy\")\n",
    "print(\"Array shape:\", arr_244.shape)\n",
    "print(\"Sum:\", summed_244)\n",
    "print(\"Mean:\", meaned_244)\n",
    "print(\"Max:\", maxed_244)"
   ]
  },
  {
   "cell_type": "code",
   "execution_count": 245,
   "id": "d3f6bedd",
   "metadata": {},
   "outputs": [
    {
     "name": "stdout",
     "output_type": "stream",
     "text": [
      "Cell 245 - Numpy\n",
      "Array shape: (245, 1)\n",
      "Sum: 4872070\n",
      "Mean: 19886.0\n",
      "Max: 59536\n"
     ]
    }
   ],
   "source": [
    "import numpy as np\n",
    "\n",
    "arr_245 = np.arange(245).reshape(-1, 1)\n",
    "squared_245 = arr_245 ** 2\n",
    "summed_245 = np.sum(squared_245)\n",
    "meaned_245 = np.mean(squared_245)\n",
    "maxed_245 = np.max(squared_245)\n",
    "\n",
    "print(\"Cell 245 - Numpy\")\n",
    "print(\"Array shape:\", arr_245.shape)\n",
    "print(\"Sum:\", summed_245)\n",
    "print(\"Mean:\", meaned_245)\n",
    "print(\"Max:\", maxed_245)"
   ]
  },
  {
   "cell_type": "code",
   "execution_count": 246,
   "id": "fa450eed",
   "metadata": {},
   "outputs": [
    {
     "name": "stdout",
     "output_type": "stream",
     "text": [
      "Cell 246 - Numpy\n",
      "Array shape: (246, 1)\n",
      "Sum: 4932095\n",
      "Mean: 20049.166666666668\n",
      "Max: 60025\n"
     ]
    }
   ],
   "source": [
    "import numpy as np\n",
    "\n",
    "arr_246 = np.arange(246).reshape(-1, 1)\n",
    "squared_246 = arr_246 ** 2\n",
    "summed_246 = np.sum(squared_246)\n",
    "meaned_246 = np.mean(squared_246)\n",
    "maxed_246 = np.max(squared_246)\n",
    "\n",
    "print(\"Cell 246 - Numpy\")\n",
    "print(\"Array shape:\", arr_246.shape)\n",
    "print(\"Sum:\", summed_246)\n",
    "print(\"Mean:\", meaned_246)\n",
    "print(\"Max:\", maxed_246)"
   ]
  },
  {
   "cell_type": "code",
   "execution_count": 247,
   "id": "fa1e6a12",
   "metadata": {},
   "outputs": [
    {
     "name": "stdout",
     "output_type": "stream",
     "text": [
      "Cell 247 - Numpy\n",
      "Array shape: (247, 1)\n",
      "Sum: 4992611\n",
      "Mean: 20213.0\n",
      "Max: 60516\n"
     ]
    }
   ],
   "source": [
    "import numpy as np\n",
    "\n",
    "arr_247 = np.arange(247).reshape(-1, 1)\n",
    "squared_247 = arr_247 ** 2\n",
    "summed_247 = np.sum(squared_247)\n",
    "meaned_247 = np.mean(squared_247)\n",
    "maxed_247 = np.max(squared_247)\n",
    "\n",
    "print(\"Cell 247 - Numpy\")\n",
    "print(\"Array shape:\", arr_247.shape)\n",
    "print(\"Sum:\", summed_247)\n",
    "print(\"Mean:\", meaned_247)\n",
    "print(\"Max:\", maxed_247)"
   ]
  },
  {
   "cell_type": "code",
   "execution_count": 248,
   "id": "61c974b8",
   "metadata": {},
   "outputs": [
    {
     "name": "stdout",
     "output_type": "stream",
     "text": [
      "Cell 248 - Numpy\n",
      "Array shape: (248, 1)\n",
      "Sum: 5053620\n",
      "Mean: 20377.5\n",
      "Max: 61009\n"
     ]
    }
   ],
   "source": [
    "import numpy as np\n",
    "\n",
    "arr_248 = np.arange(248).reshape(-1, 1)\n",
    "squared_248 = arr_248 ** 2\n",
    "summed_248 = np.sum(squared_248)\n",
    "meaned_248 = np.mean(squared_248)\n",
    "maxed_248 = np.max(squared_248)\n",
    "\n",
    "print(\"Cell 248 - Numpy\")\n",
    "print(\"Array shape:\", arr_248.shape)\n",
    "print(\"Sum:\", summed_248)\n",
    "print(\"Mean:\", meaned_248)\n",
    "print(\"Max:\", maxed_248)"
   ]
  },
  {
   "cell_type": "code",
   "execution_count": 249,
   "id": "819a163d",
   "metadata": {},
   "outputs": [
    {
     "name": "stdout",
     "output_type": "stream",
     "text": [
      "Cell 249 - Numpy\n",
      "Array shape: (249, 1)\n",
      "Sum: 5115124\n",
      "Mean: 20542.666666666668\n",
      "Max: 61504\n"
     ]
    }
   ],
   "source": [
    "import numpy as np\n",
    "\n",
    "arr_249 = np.arange(249).reshape(-1, 1)\n",
    "squared_249 = arr_249 ** 2\n",
    "summed_249 = np.sum(squared_249)\n",
    "meaned_249 = np.mean(squared_249)\n",
    "maxed_249 = np.max(squared_249)\n",
    "\n",
    "print(\"Cell 249 - Numpy\")\n",
    "print(\"Array shape:\", arr_249.shape)\n",
    "print(\"Sum:\", summed_249)\n",
    "print(\"Mean:\", meaned_249)\n",
    "print(\"Max:\", maxed_249)"
   ]
  },
  {
   "cell_type": "code",
   "execution_count": 250,
   "id": "13a56e3e",
   "metadata": {},
   "outputs": [
    {
     "name": "stdout",
     "output_type": "stream",
     "text": [
      "Cell 250 - Numpy\n",
      "Array shape: (250, 1)\n",
      "Sum: 5177125\n",
      "Mean: 20708.5\n",
      "Max: 62001\n"
     ]
    }
   ],
   "source": [
    "import numpy as np\n",
    "\n",
    "arr_250 = np.arange(250).reshape(-1, 1)\n",
    "squared_250 = arr_250 ** 2\n",
    "summed_250 = np.sum(squared_250)\n",
    "meaned_250 = np.mean(squared_250)\n",
    "maxed_250 = np.max(squared_250)\n",
    "\n",
    "print(\"Cell 250 - Numpy\")\n",
    "print(\"Array shape:\", arr_250.shape)\n",
    "print(\"Sum:\", summed_250)\n",
    "print(\"Mean:\", meaned_250)\n",
    "print(\"Max:\", maxed_250)"
   ]
  },
  {
   "cell_type": "code",
   "execution_count": 251,
   "id": "da7c9919",
   "metadata": {},
   "outputs": [
    {
     "name": "stdout",
     "output_type": "stream",
     "text": [
      "Cell 251 - Numpy\n",
      "Array shape: (251, 1)\n",
      "Sum: 5239625\n",
      "Mean: 20875.0\n",
      "Max: 62500\n"
     ]
    }
   ],
   "source": [
    "import numpy as np\n",
    "\n",
    "arr_251 = np.arange(251).reshape(-1, 1)\n",
    "squared_251 = arr_251 ** 2\n",
    "summed_251 = np.sum(squared_251)\n",
    "meaned_251 = np.mean(squared_251)\n",
    "maxed_251 = np.max(squared_251)\n",
    "\n",
    "print(\"Cell 251 - Numpy\")\n",
    "print(\"Array shape:\", arr_251.shape)\n",
    "print(\"Sum:\", summed_251)\n",
    "print(\"Mean:\", meaned_251)\n",
    "print(\"Max:\", maxed_251)"
   ]
  },
  {
   "cell_type": "code",
   "execution_count": 252,
   "id": "eb58b5fc",
   "metadata": {},
   "outputs": [
    {
     "name": "stdout",
     "output_type": "stream",
     "text": [
      "Cell 252 - Numpy\n",
      "Array shape: (252, 1)\n",
      "Sum: 5302626\n",
      "Mean: 21042.166666666668\n",
      "Max: 63001\n"
     ]
    }
   ],
   "source": [
    "import numpy as np\n",
    "\n",
    "arr_252 = np.arange(252).reshape(-1, 1)\n",
    "squared_252 = arr_252 ** 2\n",
    "summed_252 = np.sum(squared_252)\n",
    "meaned_252 = np.mean(squared_252)\n",
    "maxed_252 = np.max(squared_252)\n",
    "\n",
    "print(\"Cell 252 - Numpy\")\n",
    "print(\"Array shape:\", arr_252.shape)\n",
    "print(\"Sum:\", summed_252)\n",
    "print(\"Mean:\", meaned_252)\n",
    "print(\"Max:\", maxed_252)"
   ]
  },
  {
   "cell_type": "code",
   "execution_count": 253,
   "id": "7a2c5fba",
   "metadata": {},
   "outputs": [
    {
     "name": "stdout",
     "output_type": "stream",
     "text": [
      "Cell 253 - Numpy\n",
      "Array shape: (253, 1)\n",
      "Sum: 5366130\n",
      "Mean: 21210.0\n",
      "Max: 63504\n"
     ]
    }
   ],
   "source": [
    "import numpy as np\n",
    "\n",
    "arr_253 = np.arange(253).reshape(-1, 1)\n",
    "squared_253 = arr_253 ** 2\n",
    "summed_253 = np.sum(squared_253)\n",
    "meaned_253 = np.mean(squared_253)\n",
    "maxed_253 = np.max(squared_253)\n",
    "\n",
    "print(\"Cell 253 - Numpy\")\n",
    "print(\"Array shape:\", arr_253.shape)\n",
    "print(\"Sum:\", summed_253)\n",
    "print(\"Mean:\", meaned_253)\n",
    "print(\"Max:\", maxed_253)"
   ]
  },
  {
   "cell_type": "code",
   "execution_count": 254,
   "id": "c6d1d93e",
   "metadata": {},
   "outputs": [
    {
     "name": "stdout",
     "output_type": "stream",
     "text": [
      "Cell 254 - Numpy\n",
      "Array shape: (254, 1)\n",
      "Sum: 5430139\n",
      "Mean: 21378.5\n",
      "Max: 64009\n"
     ]
    }
   ],
   "source": [
    "import numpy as np\n",
    "\n",
    "arr_254 = np.arange(254).reshape(-1, 1)\n",
    "squared_254 = arr_254 ** 2\n",
    "summed_254 = np.sum(squared_254)\n",
    "meaned_254 = np.mean(squared_254)\n",
    "maxed_254 = np.max(squared_254)\n",
    "\n",
    "print(\"Cell 254 - Numpy\")\n",
    "print(\"Array shape:\", arr_254.shape)\n",
    "print(\"Sum:\", summed_254)\n",
    "print(\"Mean:\", meaned_254)\n",
    "print(\"Max:\", maxed_254)"
   ]
  },
  {
   "cell_type": "code",
   "execution_count": 255,
   "id": "be9611f2",
   "metadata": {},
   "outputs": [
    {
     "name": "stdout",
     "output_type": "stream",
     "text": [
      "Cell 255 - Numpy\n",
      "Array shape: (255, 1)\n",
      "Sum: 5494655\n",
      "Mean: 21547.666666666668\n",
      "Max: 64516\n"
     ]
    }
   ],
   "source": [
    "import numpy as np\n",
    "\n",
    "arr_255 = np.arange(255).reshape(-1, 1)\n",
    "squared_255 = arr_255 ** 2\n",
    "summed_255 = np.sum(squared_255)\n",
    "meaned_255 = np.mean(squared_255)\n",
    "maxed_255 = np.max(squared_255)\n",
    "\n",
    "print(\"Cell 255 - Numpy\")\n",
    "print(\"Array shape:\", arr_255.shape)\n",
    "print(\"Sum:\", summed_255)\n",
    "print(\"Mean:\", meaned_255)\n",
    "print(\"Max:\", maxed_255)"
   ]
  },
  {
   "cell_type": "code",
   "execution_count": 256,
   "id": "a5e3ca2c",
   "metadata": {},
   "outputs": [
    {
     "name": "stdout",
     "output_type": "stream",
     "text": [
      "Cell 256 - Numpy\n",
      "Array shape: (256, 1)\n",
      "Sum: 5559680\n",
      "Mean: 21717.5\n",
      "Max: 65025\n"
     ]
    }
   ],
   "source": [
    "import numpy as np\n",
    "\n",
    "arr_256 = np.arange(256).reshape(-1, 1)\n",
    "squared_256 = arr_256 ** 2\n",
    "summed_256 = np.sum(squared_256)\n",
    "meaned_256 = np.mean(squared_256)\n",
    "maxed_256 = np.max(squared_256)\n",
    "\n",
    "print(\"Cell 256 - Numpy\")\n",
    "print(\"Array shape:\", arr_256.shape)\n",
    "print(\"Sum:\", summed_256)\n",
    "print(\"Mean:\", meaned_256)\n",
    "print(\"Max:\", maxed_256)"
   ]
  },
  {
   "cell_type": "code",
   "execution_count": 257,
   "id": "1a92012f",
   "metadata": {},
   "outputs": [
    {
     "name": "stdout",
     "output_type": "stream",
     "text": [
      "Cell 257 - Numpy\n",
      "Array shape: (257, 1)\n",
      "Sum: 5625216\n",
      "Mean: 21888.0\n",
      "Max: 65536\n"
     ]
    }
   ],
   "source": [
    "import numpy as np\n",
    "\n",
    "arr_257 = np.arange(257).reshape(-1, 1)\n",
    "squared_257 = arr_257 ** 2\n",
    "summed_257 = np.sum(squared_257)\n",
    "meaned_257 = np.mean(squared_257)\n",
    "maxed_257 = np.max(squared_257)\n",
    "\n",
    "print(\"Cell 257 - Numpy\")\n",
    "print(\"Array shape:\", arr_257.shape)\n",
    "print(\"Sum:\", summed_257)\n",
    "print(\"Mean:\", meaned_257)\n",
    "print(\"Max:\", maxed_257)"
   ]
  },
  {
   "cell_type": "code",
   "execution_count": 258,
   "id": "a7f369bf",
   "metadata": {},
   "outputs": [
    {
     "name": "stdout",
     "output_type": "stream",
     "text": [
      "Cell 258 - Numpy\n",
      "Array shape: (258, 1)\n",
      "Sum: 5691265\n",
      "Mean: 22059.166666666668\n",
      "Max: 66049\n"
     ]
    }
   ],
   "source": [
    "import numpy as np\n",
    "\n",
    "arr_258 = np.arange(258).reshape(-1, 1)\n",
    "squared_258 = arr_258 ** 2\n",
    "summed_258 = np.sum(squared_258)\n",
    "meaned_258 = np.mean(squared_258)\n",
    "maxed_258 = np.max(squared_258)\n",
    "\n",
    "print(\"Cell 258 - Numpy\")\n",
    "print(\"Array shape:\", arr_258.shape)\n",
    "print(\"Sum:\", summed_258)\n",
    "print(\"Mean:\", meaned_258)\n",
    "print(\"Max:\", maxed_258)"
   ]
  },
  {
   "cell_type": "code",
   "execution_count": 259,
   "id": "acd0ebdc",
   "metadata": {},
   "outputs": [
    {
     "name": "stdout",
     "output_type": "stream",
     "text": [
      "Cell 259 - Numpy\n",
      "Array shape: (259, 1)\n",
      "Sum: 5757829\n",
      "Mean: 22231.0\n",
      "Max: 66564\n"
     ]
    }
   ],
   "source": [
    "import numpy as np\n",
    "\n",
    "arr_259 = np.arange(259).reshape(-1, 1)\n",
    "squared_259 = arr_259 ** 2\n",
    "summed_259 = np.sum(squared_259)\n",
    "meaned_259 = np.mean(squared_259)\n",
    "maxed_259 = np.max(squared_259)\n",
    "\n",
    "print(\"Cell 259 - Numpy\")\n",
    "print(\"Array shape:\", arr_259.shape)\n",
    "print(\"Sum:\", summed_259)\n",
    "print(\"Mean:\", meaned_259)\n",
    "print(\"Max:\", maxed_259)"
   ]
  },
  {
   "cell_type": "code",
   "execution_count": 260,
   "id": "5e0f65e8",
   "metadata": {},
   "outputs": [
    {
     "name": "stdout",
     "output_type": "stream",
     "text": [
      "Cell 260 - Numpy\n",
      "Array shape: (260, 1)\n",
      "Sum: 5824910\n",
      "Mean: 22403.5\n",
      "Max: 67081\n"
     ]
    }
   ],
   "source": [
    "import numpy as np\n",
    "\n",
    "arr_260 = np.arange(260).reshape(-1, 1)\n",
    "squared_260 = arr_260 ** 2\n",
    "summed_260 = np.sum(squared_260)\n",
    "meaned_260 = np.mean(squared_260)\n",
    "maxed_260 = np.max(squared_260)\n",
    "\n",
    "print(\"Cell 260 - Numpy\")\n",
    "print(\"Array shape:\", arr_260.shape)\n",
    "print(\"Sum:\", summed_260)\n",
    "print(\"Mean:\", meaned_260)\n",
    "print(\"Max:\", maxed_260)"
   ]
  },
  {
   "cell_type": "code",
   "execution_count": 261,
   "id": "896004ae",
   "metadata": {},
   "outputs": [
    {
     "name": "stdout",
     "output_type": "stream",
     "text": [
      "Cell 261 - Numpy\n",
      "Array shape: (261, 1)\n",
      "Sum: 5892510\n",
      "Mean: 22576.666666666668\n",
      "Max: 67600\n"
     ]
    }
   ],
   "source": [
    "import numpy as np\n",
    "\n",
    "arr_261 = np.arange(261).reshape(-1, 1)\n",
    "squared_261 = arr_261 ** 2\n",
    "summed_261 = np.sum(squared_261)\n",
    "meaned_261 = np.mean(squared_261)\n",
    "maxed_261 = np.max(squared_261)\n",
    "\n",
    "print(\"Cell 261 - Numpy\")\n",
    "print(\"Array shape:\", arr_261.shape)\n",
    "print(\"Sum:\", summed_261)\n",
    "print(\"Mean:\", meaned_261)\n",
    "print(\"Max:\", maxed_261)"
   ]
  },
  {
   "cell_type": "code",
   "execution_count": 262,
   "id": "4776078f",
   "metadata": {},
   "outputs": [
    {
     "name": "stdout",
     "output_type": "stream",
     "text": [
      "Cell 262 - Numpy\n",
      "Array shape: (262, 1)\n",
      "Sum: 5960631\n",
      "Mean: 22750.5\n",
      "Max: 68121\n"
     ]
    }
   ],
   "source": [
    "import numpy as np\n",
    "\n",
    "arr_262 = np.arange(262).reshape(-1, 1)\n",
    "squared_262 = arr_262 ** 2\n",
    "summed_262 = np.sum(squared_262)\n",
    "meaned_262 = np.mean(squared_262)\n",
    "maxed_262 = np.max(squared_262)\n",
    "\n",
    "print(\"Cell 262 - Numpy\")\n",
    "print(\"Array shape:\", arr_262.shape)\n",
    "print(\"Sum:\", summed_262)\n",
    "print(\"Mean:\", meaned_262)\n",
    "print(\"Max:\", maxed_262)"
   ]
  },
  {
   "cell_type": "code",
   "execution_count": 263,
   "id": "d223c0ab",
   "metadata": {},
   "outputs": [
    {
     "name": "stdout",
     "output_type": "stream",
     "text": [
      "Cell 263 - Numpy\n",
      "Array shape: (263, 1)\n",
      "Sum: 6029275\n",
      "Mean: 22925.0\n",
      "Max: 68644\n"
     ]
    }
   ],
   "source": [
    "import numpy as np\n",
    "\n",
    "arr_263 = np.arange(263).reshape(-1, 1)\n",
    "squared_263 = arr_263 ** 2\n",
    "summed_263 = np.sum(squared_263)\n",
    "meaned_263 = np.mean(squared_263)\n",
    "maxed_263 = np.max(squared_263)\n",
    "\n",
    "print(\"Cell 263 - Numpy\")\n",
    "print(\"Array shape:\", arr_263.shape)\n",
    "print(\"Sum:\", summed_263)\n",
    "print(\"Mean:\", meaned_263)\n",
    "print(\"Max:\", maxed_263)"
   ]
  },
  {
   "cell_type": "code",
   "execution_count": 264,
   "id": "617368ae",
   "metadata": {},
   "outputs": [
    {
     "name": "stdout",
     "output_type": "stream",
     "text": [
      "Cell 264 - Numpy\n",
      "Array shape: (264, 1)\n",
      "Sum: 6098444\n",
      "Mean: 23100.166666666668\n",
      "Max: 69169\n"
     ]
    }
   ],
   "source": [
    "import numpy as np\n",
    "\n",
    "arr_264 = np.arange(264).reshape(-1, 1)\n",
    "squared_264 = arr_264 ** 2\n",
    "summed_264 = np.sum(squared_264)\n",
    "meaned_264 = np.mean(squared_264)\n",
    "maxed_264 = np.max(squared_264)\n",
    "\n",
    "print(\"Cell 264 - Numpy\")\n",
    "print(\"Array shape:\", arr_264.shape)\n",
    "print(\"Sum:\", summed_264)\n",
    "print(\"Mean:\", meaned_264)\n",
    "print(\"Max:\", maxed_264)"
   ]
  },
  {
   "cell_type": "code",
   "execution_count": 265,
   "id": "8b438bbf",
   "metadata": {},
   "outputs": [
    {
     "name": "stdout",
     "output_type": "stream",
     "text": [
      "Cell 265 - Numpy\n",
      "Array shape: (265, 1)\n",
      "Sum: 6168140\n",
      "Mean: 23276.0\n",
      "Max: 69696\n"
     ]
    }
   ],
   "source": [
    "import numpy as np\n",
    "\n",
    "arr_265 = np.arange(265).reshape(-1, 1)\n",
    "squared_265 = arr_265 ** 2\n",
    "summed_265 = np.sum(squared_265)\n",
    "meaned_265 = np.mean(squared_265)\n",
    "maxed_265 = np.max(squared_265)\n",
    "\n",
    "print(\"Cell 265 - Numpy\")\n",
    "print(\"Array shape:\", arr_265.shape)\n",
    "print(\"Sum:\", summed_265)\n",
    "print(\"Mean:\", meaned_265)\n",
    "print(\"Max:\", maxed_265)"
   ]
  },
  {
   "cell_type": "code",
   "execution_count": 266,
   "id": "5684f95a",
   "metadata": {},
   "outputs": [
    {
     "name": "stdout",
     "output_type": "stream",
     "text": [
      "Cell 266 - Numpy\n",
      "Array shape: (266, 1)\n",
      "Sum: 6238365\n",
      "Mean: 23452.5\n",
      "Max: 70225\n"
     ]
    }
   ],
   "source": [
    "import numpy as np\n",
    "\n",
    "arr_266 = np.arange(266).reshape(-1, 1)\n",
    "squared_266 = arr_266 ** 2\n",
    "summed_266 = np.sum(squared_266)\n",
    "meaned_266 = np.mean(squared_266)\n",
    "maxed_266 = np.max(squared_266)\n",
    "\n",
    "print(\"Cell 266 - Numpy\")\n",
    "print(\"Array shape:\", arr_266.shape)\n",
    "print(\"Sum:\", summed_266)\n",
    "print(\"Mean:\", meaned_266)\n",
    "print(\"Max:\", maxed_266)"
   ]
  },
  {
   "cell_type": "code",
   "execution_count": 267,
   "id": "da656682",
   "metadata": {},
   "outputs": [
    {
     "name": "stdout",
     "output_type": "stream",
     "text": [
      "Cell 267 - Numpy\n",
      "Array shape: (267, 1)\n",
      "Sum: 6309121\n",
      "Mean: 23629.666666666668\n",
      "Max: 70756\n"
     ]
    }
   ],
   "source": [
    "import numpy as np\n",
    "\n",
    "arr_267 = np.arange(267).reshape(-1, 1)\n",
    "squared_267 = arr_267 ** 2\n",
    "summed_267 = np.sum(squared_267)\n",
    "meaned_267 = np.mean(squared_267)\n",
    "maxed_267 = np.max(squared_267)\n",
    "\n",
    "print(\"Cell 267 - Numpy\")\n",
    "print(\"Array shape:\", arr_267.shape)\n",
    "print(\"Sum:\", summed_267)\n",
    "print(\"Mean:\", meaned_267)\n",
    "print(\"Max:\", maxed_267)"
   ]
  },
  {
   "cell_type": "code",
   "execution_count": 268,
   "id": "f3ae14b5",
   "metadata": {},
   "outputs": [
    {
     "name": "stdout",
     "output_type": "stream",
     "text": [
      "Cell 268 - Numpy\n",
      "Array shape: (268, 1)\n",
      "Sum: 6380410\n",
      "Mean: 23807.5\n",
      "Max: 71289\n"
     ]
    }
   ],
   "source": [
    "import numpy as np\n",
    "\n",
    "arr_268 = np.arange(268).reshape(-1, 1)\n",
    "squared_268 = arr_268 ** 2\n",
    "summed_268 = np.sum(squared_268)\n",
    "meaned_268 = np.mean(squared_268)\n",
    "maxed_268 = np.max(squared_268)\n",
    "\n",
    "print(\"Cell 268 - Numpy\")\n",
    "print(\"Array shape:\", arr_268.shape)\n",
    "print(\"Sum:\", summed_268)\n",
    "print(\"Mean:\", meaned_268)\n",
    "print(\"Max:\", maxed_268)"
   ]
  },
  {
   "cell_type": "code",
   "execution_count": 269,
   "id": "9987d49e",
   "metadata": {},
   "outputs": [
    {
     "name": "stdout",
     "output_type": "stream",
     "text": [
      "Cell 269 - Numpy\n",
      "Array shape: (269, 1)\n",
      "Sum: 6452234\n",
      "Mean: 23986.0\n",
      "Max: 71824\n"
     ]
    }
   ],
   "source": [
    "import numpy as np\n",
    "\n",
    "arr_269 = np.arange(269).reshape(-1, 1)\n",
    "squared_269 = arr_269 ** 2\n",
    "summed_269 = np.sum(squared_269)\n",
    "meaned_269 = np.mean(squared_269)\n",
    "maxed_269 = np.max(squared_269)\n",
    "\n",
    "print(\"Cell 269 - Numpy\")\n",
    "print(\"Array shape:\", arr_269.shape)\n",
    "print(\"Sum:\", summed_269)\n",
    "print(\"Mean:\", meaned_269)\n",
    "print(\"Max:\", maxed_269)"
   ]
  },
  {
   "cell_type": "code",
   "execution_count": 270,
   "id": "12ec4b16",
   "metadata": {},
   "outputs": [
    {
     "name": "stdout",
     "output_type": "stream",
     "text": [
      "Cell 270 - Numpy\n",
      "Array shape: (270, 1)\n",
      "Sum: 6524595\n",
      "Mean: 24165.166666666668\n",
      "Max: 72361\n"
     ]
    }
   ],
   "source": [
    "import numpy as np\n",
    "\n",
    "arr_270 = np.arange(270).reshape(-1, 1)\n",
    "squared_270 = arr_270 ** 2\n",
    "summed_270 = np.sum(squared_270)\n",
    "meaned_270 = np.mean(squared_270)\n",
    "maxed_270 = np.max(squared_270)\n",
    "\n",
    "print(\"Cell 270 - Numpy\")\n",
    "print(\"Array shape:\", arr_270.shape)\n",
    "print(\"Sum:\", summed_270)\n",
    "print(\"Mean:\", meaned_270)\n",
    "print(\"Max:\", maxed_270)"
   ]
  },
  {
   "cell_type": "code",
   "execution_count": 271,
   "id": "6fab6591",
   "metadata": {},
   "outputs": [
    {
     "name": "stdout",
     "output_type": "stream",
     "text": [
      "Cell 271 - Numpy\n",
      "Array shape: (271, 1)\n",
      "Sum: 6597495\n",
      "Mean: 24345.0\n",
      "Max: 72900\n"
     ]
    }
   ],
   "source": [
    "import numpy as np\n",
    "\n",
    "arr_271 = np.arange(271).reshape(-1, 1)\n",
    "squared_271 = arr_271 ** 2\n",
    "summed_271 = np.sum(squared_271)\n",
    "meaned_271 = np.mean(squared_271)\n",
    "maxed_271 = np.max(squared_271)\n",
    "\n",
    "print(\"Cell 271 - Numpy\")\n",
    "print(\"Array shape:\", arr_271.shape)\n",
    "print(\"Sum:\", summed_271)\n",
    "print(\"Mean:\", meaned_271)\n",
    "print(\"Max:\", maxed_271)"
   ]
  },
  {
   "cell_type": "code",
   "execution_count": 272,
   "id": "ac25276c",
   "metadata": {},
   "outputs": [
    {
     "name": "stdout",
     "output_type": "stream",
     "text": [
      "Cell 272 - Numpy\n",
      "Array shape: (272, 1)\n",
      "Sum: 6670936\n",
      "Mean: 24525.5\n",
      "Max: 73441\n"
     ]
    }
   ],
   "source": [
    "import numpy as np\n",
    "\n",
    "arr_272 = np.arange(272).reshape(-1, 1)\n",
    "squared_272 = arr_272 ** 2\n",
    "summed_272 = np.sum(squared_272)\n",
    "meaned_272 = np.mean(squared_272)\n",
    "maxed_272 = np.max(squared_272)\n",
    "\n",
    "print(\"Cell 272 - Numpy\")\n",
    "print(\"Array shape:\", arr_272.shape)\n",
    "print(\"Sum:\", summed_272)\n",
    "print(\"Mean:\", meaned_272)\n",
    "print(\"Max:\", maxed_272)"
   ]
  },
  {
   "cell_type": "code",
   "execution_count": 273,
   "id": "dad61d7c",
   "metadata": {},
   "outputs": [
    {
     "name": "stdout",
     "output_type": "stream",
     "text": [
      "Cell 273 - Numpy\n",
      "Array shape: (273, 1)\n",
      "Sum: 6744920\n",
      "Mean: 24706.666666666668\n",
      "Max: 73984\n"
     ]
    }
   ],
   "source": [
    "import numpy as np\n",
    "\n",
    "arr_273 = np.arange(273).reshape(-1, 1)\n",
    "squared_273 = arr_273 ** 2\n",
    "summed_273 = np.sum(squared_273)\n",
    "meaned_273 = np.mean(squared_273)\n",
    "maxed_273 = np.max(squared_273)\n",
    "\n",
    "print(\"Cell 273 - Numpy\")\n",
    "print(\"Array shape:\", arr_273.shape)\n",
    "print(\"Sum:\", summed_273)\n",
    "print(\"Mean:\", meaned_273)\n",
    "print(\"Max:\", maxed_273)"
   ]
  },
  {
   "cell_type": "code",
   "execution_count": 274,
   "id": "f76a2751",
   "metadata": {},
   "outputs": [
    {
     "name": "stdout",
     "output_type": "stream",
     "text": [
      "Cell 274 - Numpy\n",
      "Array shape: (274, 1)\n",
      "Sum: 6819449\n",
      "Mean: 24888.5\n",
      "Max: 74529\n"
     ]
    }
   ],
   "source": [
    "import numpy as np\n",
    "\n",
    "arr_274 = np.arange(274).reshape(-1, 1)\n",
    "squared_274 = arr_274 ** 2\n",
    "summed_274 = np.sum(squared_274)\n",
    "meaned_274 = np.mean(squared_274)\n",
    "maxed_274 = np.max(squared_274)\n",
    "\n",
    "print(\"Cell 274 - Numpy\")\n",
    "print(\"Array shape:\", arr_274.shape)\n",
    "print(\"Sum:\", summed_274)\n",
    "print(\"Mean:\", meaned_274)\n",
    "print(\"Max:\", maxed_274)"
   ]
  },
  {
   "cell_type": "code",
   "execution_count": 275,
   "id": "902255c8",
   "metadata": {},
   "outputs": [
    {
     "name": "stdout",
     "output_type": "stream",
     "text": [
      "Cell 275 - Numpy\n",
      "Array shape: (275, 1)\n",
      "Sum: 6894525\n",
      "Mean: 25071.0\n",
      "Max: 75076\n"
     ]
    }
   ],
   "source": [
    "import numpy as np\n",
    "\n",
    "arr_275 = np.arange(275).reshape(-1, 1)\n",
    "squared_275 = arr_275 ** 2\n",
    "summed_275 = np.sum(squared_275)\n",
    "meaned_275 = np.mean(squared_275)\n",
    "maxed_275 = np.max(squared_275)\n",
    "\n",
    "print(\"Cell 275 - Numpy\")\n",
    "print(\"Array shape:\", arr_275.shape)\n",
    "print(\"Sum:\", summed_275)\n",
    "print(\"Mean:\", meaned_275)\n",
    "print(\"Max:\", maxed_275)"
   ]
  },
  {
   "cell_type": "code",
   "execution_count": 276,
   "id": "572b2892",
   "metadata": {},
   "outputs": [
    {
     "name": "stdout",
     "output_type": "stream",
     "text": [
      "Cell 276 - Numpy\n",
      "Array shape: (276, 1)\n",
      "Sum: 6970150\n",
      "Mean: 25254.166666666668\n",
      "Max: 75625\n"
     ]
    }
   ],
   "source": [
    "import numpy as np\n",
    "\n",
    "arr_276 = np.arange(276).reshape(-1, 1)\n",
    "squared_276 = arr_276 ** 2\n",
    "summed_276 = np.sum(squared_276)\n",
    "meaned_276 = np.mean(squared_276)\n",
    "maxed_276 = np.max(squared_276)\n",
    "\n",
    "print(\"Cell 276 - Numpy\")\n",
    "print(\"Array shape:\", arr_276.shape)\n",
    "print(\"Sum:\", summed_276)\n",
    "print(\"Mean:\", meaned_276)\n",
    "print(\"Max:\", maxed_276)"
   ]
  },
  {
   "cell_type": "code",
   "execution_count": 277,
   "id": "0d84403a",
   "metadata": {},
   "outputs": [
    {
     "name": "stdout",
     "output_type": "stream",
     "text": [
      "Cell 277 - Numpy\n",
      "Array shape: (277, 1)\n",
      "Sum: 7046326\n",
      "Mean: 25438.0\n",
      "Max: 76176\n"
     ]
    }
   ],
   "source": [
    "import numpy as np\n",
    "\n",
    "arr_277 = np.arange(277).reshape(-1, 1)\n",
    "squared_277 = arr_277 ** 2\n",
    "summed_277 = np.sum(squared_277)\n",
    "meaned_277 = np.mean(squared_277)\n",
    "maxed_277 = np.max(squared_277)\n",
    "\n",
    "print(\"Cell 277 - Numpy\")\n",
    "print(\"Array shape:\", arr_277.shape)\n",
    "print(\"Sum:\", summed_277)\n",
    "print(\"Mean:\", meaned_277)\n",
    "print(\"Max:\", maxed_277)"
   ]
  },
  {
   "cell_type": "code",
   "execution_count": 278,
   "id": "41e3a6df",
   "metadata": {},
   "outputs": [
    {
     "name": "stdout",
     "output_type": "stream",
     "text": [
      "Cell 278 - Numpy\n",
      "Array shape: (278, 1)\n",
      "Sum: 7123055\n",
      "Mean: 25622.5\n",
      "Max: 76729\n"
     ]
    }
   ],
   "source": [
    "import numpy as np\n",
    "\n",
    "arr_278 = np.arange(278).reshape(-1, 1)\n",
    "squared_278 = arr_278 ** 2\n",
    "summed_278 = np.sum(squared_278)\n",
    "meaned_278 = np.mean(squared_278)\n",
    "maxed_278 = np.max(squared_278)\n",
    "\n",
    "print(\"Cell 278 - Numpy\")\n",
    "print(\"Array shape:\", arr_278.shape)\n",
    "print(\"Sum:\", summed_278)\n",
    "print(\"Mean:\", meaned_278)\n",
    "print(\"Max:\", maxed_278)"
   ]
  },
  {
   "cell_type": "code",
   "execution_count": 279,
   "id": "ef9c3e16",
   "metadata": {},
   "outputs": [
    {
     "name": "stdout",
     "output_type": "stream",
     "text": [
      "Cell 279 - Numpy\n",
      "Array shape: (279, 1)\n",
      "Sum: 7200339\n",
      "Mean: 25807.666666666668\n",
      "Max: 77284\n"
     ]
    }
   ],
   "source": [
    "import numpy as np\n",
    "\n",
    "arr_279 = np.arange(279).reshape(-1, 1)\n",
    "squared_279 = arr_279 ** 2\n",
    "summed_279 = np.sum(squared_279)\n",
    "meaned_279 = np.mean(squared_279)\n",
    "maxed_279 = np.max(squared_279)\n",
    "\n",
    "print(\"Cell 279 - Numpy\")\n",
    "print(\"Array shape:\", arr_279.shape)\n",
    "print(\"Sum:\", summed_279)\n",
    "print(\"Mean:\", meaned_279)\n",
    "print(\"Max:\", maxed_279)"
   ]
  },
  {
   "cell_type": "code",
   "execution_count": 280,
   "id": "b2e8fc0d",
   "metadata": {},
   "outputs": [
    {
     "name": "stdout",
     "output_type": "stream",
     "text": [
      "Cell 280 - Numpy\n",
      "Array shape: (280, 1)\n",
      "Sum: 7278180\n",
      "Mean: 25993.5\n",
      "Max: 77841\n"
     ]
    }
   ],
   "source": [
    "import numpy as np\n",
    "\n",
    "arr_280 = np.arange(280).reshape(-1, 1)\n",
    "squared_280 = arr_280 ** 2\n",
    "summed_280 = np.sum(squared_280)\n",
    "meaned_280 = np.mean(squared_280)\n",
    "maxed_280 = np.max(squared_280)\n",
    "\n",
    "print(\"Cell 280 - Numpy\")\n",
    "print(\"Array shape:\", arr_280.shape)\n",
    "print(\"Sum:\", summed_280)\n",
    "print(\"Mean:\", meaned_280)\n",
    "print(\"Max:\", maxed_280)"
   ]
  },
  {
   "cell_type": "code",
   "execution_count": 281,
   "id": "675dd387",
   "metadata": {},
   "outputs": [
    {
     "name": "stdout",
     "output_type": "stream",
     "text": [
      "Cell 281 - Numpy\n",
      "Array shape: (281, 1)\n",
      "Sum: 7356580\n",
      "Mean: 26180.0\n",
      "Max: 78400\n"
     ]
    }
   ],
   "source": [
    "import numpy as np\n",
    "\n",
    "arr_281 = np.arange(281).reshape(-1, 1)\n",
    "squared_281 = arr_281 ** 2\n",
    "summed_281 = np.sum(squared_281)\n",
    "meaned_281 = np.mean(squared_281)\n",
    "maxed_281 = np.max(squared_281)\n",
    "\n",
    "print(\"Cell 281 - Numpy\")\n",
    "print(\"Array shape:\", arr_281.shape)\n",
    "print(\"Sum:\", summed_281)\n",
    "print(\"Mean:\", meaned_281)\n",
    "print(\"Max:\", maxed_281)"
   ]
  },
  {
   "cell_type": "code",
   "execution_count": 282,
   "id": "9c76c08f",
   "metadata": {},
   "outputs": [
    {
     "name": "stdout",
     "output_type": "stream",
     "text": [
      "Cell 282 - Numpy\n",
      "Array shape: (282, 1)\n",
      "Sum: 7435541\n",
      "Mean: 26367.166666666668\n",
      "Max: 78961\n"
     ]
    }
   ],
   "source": [
    "import numpy as np\n",
    "\n",
    "arr_282 = np.arange(282).reshape(-1, 1)\n",
    "squared_282 = arr_282 ** 2\n",
    "summed_282 = np.sum(squared_282)\n",
    "meaned_282 = np.mean(squared_282)\n",
    "maxed_282 = np.max(squared_282)\n",
    "\n",
    "print(\"Cell 282 - Numpy\")\n",
    "print(\"Array shape:\", arr_282.shape)\n",
    "print(\"Sum:\", summed_282)\n",
    "print(\"Mean:\", meaned_282)\n",
    "print(\"Max:\", maxed_282)"
   ]
  },
  {
   "cell_type": "code",
   "execution_count": 283,
   "id": "65ddc9eb",
   "metadata": {},
   "outputs": [
    {
     "name": "stdout",
     "output_type": "stream",
     "text": [
      "Cell 283 - Numpy\n",
      "Array shape: (283, 1)\n",
      "Sum: 7515065\n",
      "Mean: 26555.0\n",
      "Max: 79524\n"
     ]
    }
   ],
   "source": [
    "import numpy as np\n",
    "\n",
    "arr_283 = np.arange(283).reshape(-1, 1)\n",
    "squared_283 = arr_283 ** 2\n",
    "summed_283 = np.sum(squared_283)\n",
    "meaned_283 = np.mean(squared_283)\n",
    "maxed_283 = np.max(squared_283)\n",
    "\n",
    "print(\"Cell 283 - Numpy\")\n",
    "print(\"Array shape:\", arr_283.shape)\n",
    "print(\"Sum:\", summed_283)\n",
    "print(\"Mean:\", meaned_283)\n",
    "print(\"Max:\", maxed_283)"
   ]
  },
  {
   "cell_type": "code",
   "execution_count": 284,
   "id": "5c0cf54a",
   "metadata": {},
   "outputs": [
    {
     "name": "stdout",
     "output_type": "stream",
     "text": [
      "Cell 284 - Numpy\n",
      "Array shape: (284, 1)\n",
      "Sum: 7595154\n",
      "Mean: 26743.5\n",
      "Max: 80089\n"
     ]
    }
   ],
   "source": [
    "import numpy as np\n",
    "\n",
    "arr_284 = np.arange(284).reshape(-1, 1)\n",
    "squared_284 = arr_284 ** 2\n",
    "summed_284 = np.sum(squared_284)\n",
    "meaned_284 = np.mean(squared_284)\n",
    "maxed_284 = np.max(squared_284)\n",
    "\n",
    "print(\"Cell 284 - Numpy\")\n",
    "print(\"Array shape:\", arr_284.shape)\n",
    "print(\"Sum:\", summed_284)\n",
    "print(\"Mean:\", meaned_284)\n",
    "print(\"Max:\", maxed_284)"
   ]
  },
  {
   "cell_type": "code",
   "execution_count": 285,
   "id": "ed4dacba",
   "metadata": {},
   "outputs": [
    {
     "name": "stdout",
     "output_type": "stream",
     "text": [
      "Cell 285 - Numpy\n",
      "Array shape: (285, 1)\n",
      "Sum: 7675810\n",
      "Mean: 26932.666666666668\n",
      "Max: 80656\n"
     ]
    }
   ],
   "source": [
    "import numpy as np\n",
    "\n",
    "arr_285 = np.arange(285).reshape(-1, 1)\n",
    "squared_285 = arr_285 ** 2\n",
    "summed_285 = np.sum(squared_285)\n",
    "meaned_285 = np.mean(squared_285)\n",
    "maxed_285 = np.max(squared_285)\n",
    "\n",
    "print(\"Cell 285 - Numpy\")\n",
    "print(\"Array shape:\", arr_285.shape)\n",
    "print(\"Sum:\", summed_285)\n",
    "print(\"Mean:\", meaned_285)\n",
    "print(\"Max:\", maxed_285)"
   ]
  },
  {
   "cell_type": "code",
   "execution_count": 286,
   "id": "a32c0d55",
   "metadata": {},
   "outputs": [
    {
     "name": "stdout",
     "output_type": "stream",
     "text": [
      "Cell 286 - Numpy\n",
      "Array shape: (286, 1)\n",
      "Sum: 7757035\n",
      "Mean: 27122.5\n",
      "Max: 81225\n"
     ]
    }
   ],
   "source": [
    "import numpy as np\n",
    "\n",
    "arr_286 = np.arange(286).reshape(-1, 1)\n",
    "squared_286 = arr_286 ** 2\n",
    "summed_286 = np.sum(squared_286)\n",
    "meaned_286 = np.mean(squared_286)\n",
    "maxed_286 = np.max(squared_286)\n",
    "\n",
    "print(\"Cell 286 - Numpy\")\n",
    "print(\"Array shape:\", arr_286.shape)\n",
    "print(\"Sum:\", summed_286)\n",
    "print(\"Mean:\", meaned_286)\n",
    "print(\"Max:\", maxed_286)"
   ]
  },
  {
   "cell_type": "code",
   "execution_count": 287,
   "id": "3941bfee",
   "metadata": {},
   "outputs": [
    {
     "name": "stdout",
     "output_type": "stream",
     "text": [
      "Cell 287 - Numpy\n",
      "Array shape: (287, 1)\n",
      "Sum: 7838831\n",
      "Mean: 27313.0\n",
      "Max: 81796\n"
     ]
    }
   ],
   "source": [
    "import numpy as np\n",
    "\n",
    "arr_287 = np.arange(287).reshape(-1, 1)\n",
    "squared_287 = arr_287 ** 2\n",
    "summed_287 = np.sum(squared_287)\n",
    "meaned_287 = np.mean(squared_287)\n",
    "maxed_287 = np.max(squared_287)\n",
    "\n",
    "print(\"Cell 287 - Numpy\")\n",
    "print(\"Array shape:\", arr_287.shape)\n",
    "print(\"Sum:\", summed_287)\n",
    "print(\"Mean:\", meaned_287)\n",
    "print(\"Max:\", maxed_287)"
   ]
  },
  {
   "cell_type": "code",
   "execution_count": 288,
   "id": "228b68cb",
   "metadata": {},
   "outputs": [
    {
     "name": "stdout",
     "output_type": "stream",
     "text": [
      "Cell 288 - Numpy\n",
      "Array shape: (288, 1)\n",
      "Sum: 7921200\n",
      "Mean: 27504.166666666668\n",
      "Max: 82369\n"
     ]
    }
   ],
   "source": [
    "import numpy as np\n",
    "\n",
    "arr_288 = np.arange(288).reshape(-1, 1)\n",
    "squared_288 = arr_288 ** 2\n",
    "summed_288 = np.sum(squared_288)\n",
    "meaned_288 = np.mean(squared_288)\n",
    "maxed_288 = np.max(squared_288)\n",
    "\n",
    "print(\"Cell 288 - Numpy\")\n",
    "print(\"Array shape:\", arr_288.shape)\n",
    "print(\"Sum:\", summed_288)\n",
    "print(\"Mean:\", meaned_288)\n",
    "print(\"Max:\", maxed_288)"
   ]
  },
  {
   "cell_type": "code",
   "execution_count": 289,
   "id": "aaa144a8",
   "metadata": {},
   "outputs": [
    {
     "name": "stdout",
     "output_type": "stream",
     "text": [
      "Cell 289 - Numpy\n",
      "Array shape: (289, 1)\n",
      "Sum: 8004144\n",
      "Mean: 27696.0\n",
      "Max: 82944\n"
     ]
    }
   ],
   "source": [
    "import numpy as np\n",
    "\n",
    "arr_289 = np.arange(289).reshape(-1, 1)\n",
    "squared_289 = arr_289 ** 2\n",
    "summed_289 = np.sum(squared_289)\n",
    "meaned_289 = np.mean(squared_289)\n",
    "maxed_289 = np.max(squared_289)\n",
    "\n",
    "print(\"Cell 289 - Numpy\")\n",
    "print(\"Array shape:\", arr_289.shape)\n",
    "print(\"Sum:\", summed_289)\n",
    "print(\"Mean:\", meaned_289)\n",
    "print(\"Max:\", maxed_289)"
   ]
  },
  {
   "cell_type": "code",
   "execution_count": 290,
   "id": "9d1e372b",
   "metadata": {},
   "outputs": [
    {
     "name": "stdout",
     "output_type": "stream",
     "text": [
      "Cell 290 - Numpy\n",
      "Array shape: (290, 1)\n",
      "Sum: 8087665\n",
      "Mean: 27888.5\n",
      "Max: 83521\n"
     ]
    }
   ],
   "source": [
    "import numpy as np\n",
    "\n",
    "arr_290 = np.arange(290).reshape(-1, 1)\n",
    "squared_290 = arr_290 ** 2\n",
    "summed_290 = np.sum(squared_290)\n",
    "meaned_290 = np.mean(squared_290)\n",
    "maxed_290 = np.max(squared_290)\n",
    "\n",
    "print(\"Cell 290 - Numpy\")\n",
    "print(\"Array shape:\", arr_290.shape)\n",
    "print(\"Sum:\", summed_290)\n",
    "print(\"Mean:\", meaned_290)\n",
    "print(\"Max:\", maxed_290)"
   ]
  },
  {
   "cell_type": "code",
   "execution_count": 291,
   "id": "6642499f",
   "metadata": {},
   "outputs": [
    {
     "name": "stdout",
     "output_type": "stream",
     "text": [
      "Cell 291 - Numpy\n",
      "Array shape: (291, 1)\n",
      "Sum: 8171765\n",
      "Mean: 28081.666666666668\n",
      "Max: 84100\n"
     ]
    }
   ],
   "source": [
    "import numpy as np\n",
    "\n",
    "arr_291 = np.arange(291).reshape(-1, 1)\n",
    "squared_291 = arr_291 ** 2\n",
    "summed_291 = np.sum(squared_291)\n",
    "meaned_291 = np.mean(squared_291)\n",
    "maxed_291 = np.max(squared_291)\n",
    "\n",
    "print(\"Cell 291 - Numpy\")\n",
    "print(\"Array shape:\", arr_291.shape)\n",
    "print(\"Sum:\", summed_291)\n",
    "print(\"Mean:\", meaned_291)\n",
    "print(\"Max:\", maxed_291)"
   ]
  },
  {
   "cell_type": "code",
   "execution_count": 292,
   "id": "2041b42f",
   "metadata": {},
   "outputs": [
    {
     "name": "stdout",
     "output_type": "stream",
     "text": [
      "Cell 292 - Numpy\n",
      "Array shape: (292, 1)\n",
      "Sum: 8256446\n",
      "Mean: 28275.5\n",
      "Max: 84681\n"
     ]
    }
   ],
   "source": [
    "import numpy as np\n",
    "\n",
    "arr_292 = np.arange(292).reshape(-1, 1)\n",
    "squared_292 = arr_292 ** 2\n",
    "summed_292 = np.sum(squared_292)\n",
    "meaned_292 = np.mean(squared_292)\n",
    "maxed_292 = np.max(squared_292)\n",
    "\n",
    "print(\"Cell 292 - Numpy\")\n",
    "print(\"Array shape:\", arr_292.shape)\n",
    "print(\"Sum:\", summed_292)\n",
    "print(\"Mean:\", meaned_292)\n",
    "print(\"Max:\", maxed_292)"
   ]
  },
  {
   "cell_type": "code",
   "execution_count": 293,
   "id": "bb050827",
   "metadata": {},
   "outputs": [
    {
     "name": "stdout",
     "output_type": "stream",
     "text": [
      "Cell 293 - Numpy\n",
      "Array shape: (293, 1)\n",
      "Sum: 8341710\n",
      "Mean: 28470.0\n",
      "Max: 85264\n"
     ]
    }
   ],
   "source": [
    "import numpy as np\n",
    "\n",
    "arr_293 = np.arange(293).reshape(-1, 1)\n",
    "squared_293 = arr_293 ** 2\n",
    "summed_293 = np.sum(squared_293)\n",
    "meaned_293 = np.mean(squared_293)\n",
    "maxed_293 = np.max(squared_293)\n",
    "\n",
    "print(\"Cell 293 - Numpy\")\n",
    "print(\"Array shape:\", arr_293.shape)\n",
    "print(\"Sum:\", summed_293)\n",
    "print(\"Mean:\", meaned_293)\n",
    "print(\"Max:\", maxed_293)"
   ]
  },
  {
   "cell_type": "code",
   "execution_count": 294,
   "id": "395f71a6",
   "metadata": {},
   "outputs": [
    {
     "name": "stdout",
     "output_type": "stream",
     "text": [
      "Cell 294 - Numpy\n",
      "Array shape: (294, 1)\n",
      "Sum: 8427559\n",
      "Mean: 28665.166666666668\n",
      "Max: 85849\n"
     ]
    }
   ],
   "source": [
    "import numpy as np\n",
    "\n",
    "arr_294 = np.arange(294).reshape(-1, 1)\n",
    "squared_294 = arr_294 ** 2\n",
    "summed_294 = np.sum(squared_294)\n",
    "meaned_294 = np.mean(squared_294)\n",
    "maxed_294 = np.max(squared_294)\n",
    "\n",
    "print(\"Cell 294 - Numpy\")\n",
    "print(\"Array shape:\", arr_294.shape)\n",
    "print(\"Sum:\", summed_294)\n",
    "print(\"Mean:\", meaned_294)\n",
    "print(\"Max:\", maxed_294)"
   ]
  },
  {
   "cell_type": "code",
   "execution_count": 295,
   "id": "9f8b8557",
   "metadata": {},
   "outputs": [
    {
     "name": "stdout",
     "output_type": "stream",
     "text": [
      "Cell 295 - Numpy\n",
      "Array shape: (295, 1)\n",
      "Sum: 8513995\n",
      "Mean: 28861.0\n",
      "Max: 86436\n"
     ]
    }
   ],
   "source": [
    "import numpy as np\n",
    "\n",
    "arr_295 = np.arange(295).reshape(-1, 1)\n",
    "squared_295 = arr_295 ** 2\n",
    "summed_295 = np.sum(squared_295)\n",
    "meaned_295 = np.mean(squared_295)\n",
    "maxed_295 = np.max(squared_295)\n",
    "\n",
    "print(\"Cell 295 - Numpy\")\n",
    "print(\"Array shape:\", arr_295.shape)\n",
    "print(\"Sum:\", summed_295)\n",
    "print(\"Mean:\", meaned_295)\n",
    "print(\"Max:\", maxed_295)"
   ]
  },
  {
   "cell_type": "code",
   "execution_count": 296,
   "id": "44af830e",
   "metadata": {},
   "outputs": [
    {
     "name": "stdout",
     "output_type": "stream",
     "text": [
      "Cell 296 - Numpy\n",
      "Array shape: (296, 1)\n",
      "Sum: 8601020\n",
      "Mean: 29057.5\n",
      "Max: 87025\n"
     ]
    }
   ],
   "source": [
    "import numpy as np\n",
    "\n",
    "arr_296 = np.arange(296).reshape(-1, 1)\n",
    "squared_296 = arr_296 ** 2\n",
    "summed_296 = np.sum(squared_296)\n",
    "meaned_296 = np.mean(squared_296)\n",
    "maxed_296 = np.max(squared_296)\n",
    "\n",
    "print(\"Cell 296 - Numpy\")\n",
    "print(\"Array shape:\", arr_296.shape)\n",
    "print(\"Sum:\", summed_296)\n",
    "print(\"Mean:\", meaned_296)\n",
    "print(\"Max:\", maxed_296)"
   ]
  },
  {
   "cell_type": "code",
   "execution_count": 297,
   "id": "7d0879f4",
   "metadata": {},
   "outputs": [
    {
     "name": "stdout",
     "output_type": "stream",
     "text": [
      "Cell 297 - Numpy\n",
      "Array shape: (297, 1)\n",
      "Sum: 8688636\n",
      "Mean: 29254.666666666668\n",
      "Max: 87616\n"
     ]
    }
   ],
   "source": [
    "import numpy as np\n",
    "\n",
    "arr_297 = np.arange(297).reshape(-1, 1)\n",
    "squared_297 = arr_297 ** 2\n",
    "summed_297 = np.sum(squared_297)\n",
    "meaned_297 = np.mean(squared_297)\n",
    "maxed_297 = np.max(squared_297)\n",
    "\n",
    "print(\"Cell 297 - Numpy\")\n",
    "print(\"Array shape:\", arr_297.shape)\n",
    "print(\"Sum:\", summed_297)\n",
    "print(\"Mean:\", meaned_297)\n",
    "print(\"Max:\", maxed_297)"
   ]
  },
  {
   "cell_type": "code",
   "execution_count": 298,
   "id": "f036c4d8",
   "metadata": {},
   "outputs": [
    {
     "name": "stdout",
     "output_type": "stream",
     "text": [
      "Cell 298 - Numpy\n",
      "Array shape: (298, 1)\n",
      "Sum: 8776845\n",
      "Mean: 29452.5\n",
      "Max: 88209\n"
     ]
    }
   ],
   "source": [
    "import numpy as np\n",
    "\n",
    "arr_298 = np.arange(298).reshape(-1, 1)\n",
    "squared_298 = arr_298 ** 2\n",
    "summed_298 = np.sum(squared_298)\n",
    "meaned_298 = np.mean(squared_298)\n",
    "maxed_298 = np.max(squared_298)\n",
    "\n",
    "print(\"Cell 298 - Numpy\")\n",
    "print(\"Array shape:\", arr_298.shape)\n",
    "print(\"Sum:\", summed_298)\n",
    "print(\"Mean:\", meaned_298)\n",
    "print(\"Max:\", maxed_298)"
   ]
  },
  {
   "cell_type": "code",
   "execution_count": 299,
   "id": "58c0cb5e",
   "metadata": {},
   "outputs": [
    {
     "name": "stdout",
     "output_type": "stream",
     "text": [
      "Cell 299 - Numpy\n",
      "Array shape: (299, 1)\n",
      "Sum: 8865649\n",
      "Mean: 29651.0\n",
      "Max: 88804\n"
     ]
    }
   ],
   "source": [
    "import numpy as np\n",
    "\n",
    "arr_299 = np.arange(299).reshape(-1, 1)\n",
    "squared_299 = arr_299 ** 2\n",
    "summed_299 = np.sum(squared_299)\n",
    "meaned_299 = np.mean(squared_299)\n",
    "maxed_299 = np.max(squared_299)\n",
    "\n",
    "print(\"Cell 299 - Numpy\")\n",
    "print(\"Array shape:\", arr_299.shape)\n",
    "print(\"Sum:\", summed_299)\n",
    "print(\"Mean:\", meaned_299)\n",
    "print(\"Max:\", maxed_299)"
   ]
  },
  {
   "cell_type": "code",
   "execution_count": 300,
   "id": "a960e1f8",
   "metadata": {},
   "outputs": [
    {
     "name": "stdout",
     "output_type": "stream",
     "text": [
      "Cell 300 - Numpy\n",
      "Array shape: (300, 1)\n",
      "Sum: 8955050\n",
      "Mean: 29850.166666666668\n",
      "Max: 89401\n"
     ]
    }
   ],
   "source": [
    "import numpy as np\n",
    "\n",
    "arr_300 = np.arange(300).reshape(-1, 1)\n",
    "squared_300 = arr_300 ** 2\n",
    "summed_300 = np.sum(squared_300)\n",
    "meaned_300 = np.mean(squared_300)\n",
    "maxed_300 = np.max(squared_300)\n",
    "\n",
    "print(\"Cell 300 - Numpy\")\n",
    "print(\"Array shape:\", arr_300.shape)\n",
    "print(\"Sum:\", summed_300)\n",
    "print(\"Mean:\", meaned_300)\n",
    "print(\"Max:\", maxed_300)"
   ]
  },
  {
   "cell_type": "code",
   "execution_count": 301,
   "id": "0a9b63d3",
   "metadata": {},
   "outputs": [
    {
     "name": "stdout",
     "output_type": "stream",
     "text": [
      "Cell 301 - Numpy\n",
      "Array shape: (301, 1)\n",
      "Sum: 9045050\n",
      "Mean: 30050.0\n",
      "Max: 90000\n"
     ]
    }
   ],
   "source": [
    "import numpy as np\n",
    "\n",
    "arr_301 = np.arange(301).reshape(-1, 1)\n",
    "squared_301 = arr_301 ** 2\n",
    "summed_301 = np.sum(squared_301)\n",
    "meaned_301 = np.mean(squared_301)\n",
    "maxed_301 = np.max(squared_301)\n",
    "\n",
    "print(\"Cell 301 - Numpy\")\n",
    "print(\"Array shape:\", arr_301.shape)\n",
    "print(\"Sum:\", summed_301)\n",
    "print(\"Mean:\", meaned_301)\n",
    "print(\"Max:\", maxed_301)"
   ]
  },
  {
   "cell_type": "code",
   "execution_count": 302,
   "id": "317f83af",
   "metadata": {},
   "outputs": [
    {
     "name": "stdout",
     "output_type": "stream",
     "text": [
      "Cell 302 - Numpy\n",
      "Array shape: (302, 1)\n",
      "Sum: 9135651\n",
      "Mean: 30250.5\n",
      "Max: 90601\n"
     ]
    }
   ],
   "source": [
    "import numpy as np\n",
    "\n",
    "arr_302 = np.arange(302).reshape(-1, 1)\n",
    "squared_302 = arr_302 ** 2\n",
    "summed_302 = np.sum(squared_302)\n",
    "meaned_302 = np.mean(squared_302)\n",
    "maxed_302 = np.max(squared_302)\n",
    "\n",
    "print(\"Cell 302 - Numpy\")\n",
    "print(\"Array shape:\", arr_302.shape)\n",
    "print(\"Sum:\", summed_302)\n",
    "print(\"Mean:\", meaned_302)\n",
    "print(\"Max:\", maxed_302)"
   ]
  },
  {
   "cell_type": "code",
   "execution_count": 303,
   "id": "76746db6",
   "metadata": {},
   "outputs": [
    {
     "name": "stdout",
     "output_type": "stream",
     "text": [
      "Cell 303 - Numpy\n",
      "Array shape: (303, 1)\n",
      "Sum: 9226855\n",
      "Mean: 30451.666666666668\n",
      "Max: 91204\n"
     ]
    }
   ],
   "source": [
    "import numpy as np\n",
    "\n",
    "arr_303 = np.arange(303).reshape(-1, 1)\n",
    "squared_303 = arr_303 ** 2\n",
    "summed_303 = np.sum(squared_303)\n",
    "meaned_303 = np.mean(squared_303)\n",
    "maxed_303 = np.max(squared_303)\n",
    "\n",
    "print(\"Cell 303 - Numpy\")\n",
    "print(\"Array shape:\", arr_303.shape)\n",
    "print(\"Sum:\", summed_303)\n",
    "print(\"Mean:\", meaned_303)\n",
    "print(\"Max:\", maxed_303)"
   ]
  },
  {
   "cell_type": "code",
   "execution_count": 304,
   "id": "c2d6de51",
   "metadata": {},
   "outputs": [
    {
     "name": "stdout",
     "output_type": "stream",
     "text": [
      "Cell 304 - Numpy\n",
      "Array shape: (304, 1)\n",
      "Sum: 9318664\n",
      "Mean: 30653.5\n",
      "Max: 91809\n"
     ]
    }
   ],
   "source": [
    "import numpy as np\n",
    "\n",
    "arr_304 = np.arange(304).reshape(-1, 1)\n",
    "squared_304 = arr_304 ** 2\n",
    "summed_304 = np.sum(squared_304)\n",
    "meaned_304 = np.mean(squared_304)\n",
    "maxed_304 = np.max(squared_304)\n",
    "\n",
    "print(\"Cell 304 - Numpy\")\n",
    "print(\"Array shape:\", arr_304.shape)\n",
    "print(\"Sum:\", summed_304)\n",
    "print(\"Mean:\", meaned_304)\n",
    "print(\"Max:\", maxed_304)"
   ]
  },
  {
   "cell_type": "code",
   "execution_count": 305,
   "id": "6b303866",
   "metadata": {},
   "outputs": [
    {
     "name": "stdout",
     "output_type": "stream",
     "text": [
      "Cell 305 - Numpy\n",
      "Array shape: (305, 1)\n",
      "Sum: 9411080\n",
      "Mean: 30856.0\n",
      "Max: 92416\n"
     ]
    }
   ],
   "source": [
    "import numpy as np\n",
    "\n",
    "arr_305 = np.arange(305).reshape(-1, 1)\n",
    "squared_305 = arr_305 ** 2\n",
    "summed_305 = np.sum(squared_305)\n",
    "meaned_305 = np.mean(squared_305)\n",
    "maxed_305 = np.max(squared_305)\n",
    "\n",
    "print(\"Cell 305 - Numpy\")\n",
    "print(\"Array shape:\", arr_305.shape)\n",
    "print(\"Sum:\", summed_305)\n",
    "print(\"Mean:\", meaned_305)\n",
    "print(\"Max:\", maxed_305)"
   ]
  },
  {
   "cell_type": "code",
   "execution_count": 306,
   "id": "a6d37224",
   "metadata": {},
   "outputs": [
    {
     "name": "stdout",
     "output_type": "stream",
     "text": [
      "Cell 306 - Numpy\n",
      "Array shape: (306, 1)\n",
      "Sum: 9504105\n",
      "Mean: 31059.166666666668\n",
      "Max: 93025\n"
     ]
    }
   ],
   "source": [
    "import numpy as np\n",
    "\n",
    "arr_306 = np.arange(306).reshape(-1, 1)\n",
    "squared_306 = arr_306 ** 2\n",
    "summed_306 = np.sum(squared_306)\n",
    "meaned_306 = np.mean(squared_306)\n",
    "maxed_306 = np.max(squared_306)\n",
    "\n",
    "print(\"Cell 306 - Numpy\")\n",
    "print(\"Array shape:\", arr_306.shape)\n",
    "print(\"Sum:\", summed_306)\n",
    "print(\"Mean:\", meaned_306)\n",
    "print(\"Max:\", maxed_306)"
   ]
  },
  {
   "cell_type": "code",
   "execution_count": 307,
   "id": "080344dc",
   "metadata": {},
   "outputs": [
    {
     "name": "stdout",
     "output_type": "stream",
     "text": [
      "Cell 307 - Numpy\n",
      "Array shape: (307, 1)\n",
      "Sum: 9597741\n",
      "Mean: 31263.0\n",
      "Max: 93636\n"
     ]
    }
   ],
   "source": [
    "import numpy as np\n",
    "\n",
    "arr_307 = np.arange(307).reshape(-1, 1)\n",
    "squared_307 = arr_307 ** 2\n",
    "summed_307 = np.sum(squared_307)\n",
    "meaned_307 = np.mean(squared_307)\n",
    "maxed_307 = np.max(squared_307)\n",
    "\n",
    "print(\"Cell 307 - Numpy\")\n",
    "print(\"Array shape:\", arr_307.shape)\n",
    "print(\"Sum:\", summed_307)\n",
    "print(\"Mean:\", meaned_307)\n",
    "print(\"Max:\", maxed_307)"
   ]
  },
  {
   "cell_type": "code",
   "execution_count": 308,
   "id": "39220fc6",
   "metadata": {},
   "outputs": [
    {
     "name": "stdout",
     "output_type": "stream",
     "text": [
      "Cell 308 - Numpy\n",
      "Array shape: (308, 1)\n",
      "Sum: 9691990\n",
      "Mean: 31467.5\n",
      "Max: 94249\n"
     ]
    }
   ],
   "source": [
    "import numpy as np\n",
    "\n",
    "arr_308 = np.arange(308).reshape(-1, 1)\n",
    "squared_308 = arr_308 ** 2\n",
    "summed_308 = np.sum(squared_308)\n",
    "meaned_308 = np.mean(squared_308)\n",
    "maxed_308 = np.max(squared_308)\n",
    "\n",
    "print(\"Cell 308 - Numpy\")\n",
    "print(\"Array shape:\", arr_308.shape)\n",
    "print(\"Sum:\", summed_308)\n",
    "print(\"Mean:\", meaned_308)\n",
    "print(\"Max:\", maxed_308)"
   ]
  },
  {
   "cell_type": "code",
   "execution_count": 309,
   "id": "4f41cb33",
   "metadata": {},
   "outputs": [
    {
     "name": "stdout",
     "output_type": "stream",
     "text": [
      "Cell 309 - Numpy\n",
      "Array shape: (309, 1)\n",
      "Sum: 9786854\n",
      "Mean: 31672.666666666668\n",
      "Max: 94864\n"
     ]
    }
   ],
   "source": [
    "import numpy as np\n",
    "\n",
    "arr_309 = np.arange(309).reshape(-1, 1)\n",
    "squared_309 = arr_309 ** 2\n",
    "summed_309 = np.sum(squared_309)\n",
    "meaned_309 = np.mean(squared_309)\n",
    "maxed_309 = np.max(squared_309)\n",
    "\n",
    "print(\"Cell 309 - Numpy\")\n",
    "print(\"Array shape:\", arr_309.shape)\n",
    "print(\"Sum:\", summed_309)\n",
    "print(\"Mean:\", meaned_309)\n",
    "print(\"Max:\", maxed_309)"
   ]
  },
  {
   "cell_type": "code",
   "execution_count": 310,
   "id": "ebfe0276",
   "metadata": {},
   "outputs": [
    {
     "name": "stdout",
     "output_type": "stream",
     "text": [
      "Cell 310 - Numpy\n",
      "Array shape: (310, 1)\n",
      "Sum: 9882335\n",
      "Mean: 31878.5\n",
      "Max: 95481\n"
     ]
    }
   ],
   "source": [
    "import numpy as np\n",
    "\n",
    "arr_310 = np.arange(310).reshape(-1, 1)\n",
    "squared_310 = arr_310 ** 2\n",
    "summed_310 = np.sum(squared_310)\n",
    "meaned_310 = np.mean(squared_310)\n",
    "maxed_310 = np.max(squared_310)\n",
    "\n",
    "print(\"Cell 310 - Numpy\")\n",
    "print(\"Array shape:\", arr_310.shape)\n",
    "print(\"Sum:\", summed_310)\n",
    "print(\"Mean:\", meaned_310)\n",
    "print(\"Max:\", maxed_310)"
   ]
  },
  {
   "cell_type": "code",
   "execution_count": 311,
   "id": "8a92daab",
   "metadata": {},
   "outputs": [
    {
     "name": "stdout",
     "output_type": "stream",
     "text": [
      "Cell 311 - Numpy\n",
      "Array shape: (311, 1)\n",
      "Sum: 9978435\n",
      "Mean: 32085.0\n",
      "Max: 96100\n"
     ]
    }
   ],
   "source": [
    "import numpy as np\n",
    "\n",
    "arr_311 = np.arange(311).reshape(-1, 1)\n",
    "squared_311 = arr_311 ** 2\n",
    "summed_311 = np.sum(squared_311)\n",
    "meaned_311 = np.mean(squared_311)\n",
    "maxed_311 = np.max(squared_311)\n",
    "\n",
    "print(\"Cell 311 - Numpy\")\n",
    "print(\"Array shape:\", arr_311.shape)\n",
    "print(\"Sum:\", summed_311)\n",
    "print(\"Mean:\", meaned_311)\n",
    "print(\"Max:\", maxed_311)"
   ]
  },
  {
   "cell_type": "code",
   "execution_count": 312,
   "id": "4cef37fe",
   "metadata": {},
   "outputs": [
    {
     "name": "stdout",
     "output_type": "stream",
     "text": [
      "Cell 312 - Numpy\n",
      "Array shape: (312, 1)\n",
      "Sum: 10075156\n",
      "Mean: 32292.166666666668\n",
      "Max: 96721\n"
     ]
    }
   ],
   "source": [
    "import numpy as np\n",
    "\n",
    "arr_312 = np.arange(312).reshape(-1, 1)\n",
    "squared_312 = arr_312 ** 2\n",
    "summed_312 = np.sum(squared_312)\n",
    "meaned_312 = np.mean(squared_312)\n",
    "maxed_312 = np.max(squared_312)\n",
    "\n",
    "print(\"Cell 312 - Numpy\")\n",
    "print(\"Array shape:\", arr_312.shape)\n",
    "print(\"Sum:\", summed_312)\n",
    "print(\"Mean:\", meaned_312)\n",
    "print(\"Max:\", maxed_312)"
   ]
  },
  {
   "cell_type": "code",
   "execution_count": 313,
   "id": "aff9d19b",
   "metadata": {},
   "outputs": [
    {
     "name": "stdout",
     "output_type": "stream",
     "text": [
      "Cell 313 - Numpy\n",
      "Array shape: (313, 1)\n",
      "Sum: 10172500\n",
      "Mean: 32500.0\n",
      "Max: 97344\n"
     ]
    }
   ],
   "source": [
    "import numpy as np\n",
    "\n",
    "arr_313 = np.arange(313).reshape(-1, 1)\n",
    "squared_313 = arr_313 ** 2\n",
    "summed_313 = np.sum(squared_313)\n",
    "meaned_313 = np.mean(squared_313)\n",
    "maxed_313 = np.max(squared_313)\n",
    "\n",
    "print(\"Cell 313 - Numpy\")\n",
    "print(\"Array shape:\", arr_313.shape)\n",
    "print(\"Sum:\", summed_313)\n",
    "print(\"Mean:\", meaned_313)\n",
    "print(\"Max:\", maxed_313)"
   ]
  },
  {
   "cell_type": "code",
   "execution_count": 314,
   "id": "7c01cf2e",
   "metadata": {},
   "outputs": [
    {
     "name": "stdout",
     "output_type": "stream",
     "text": [
      "Cell 314 - Numpy\n",
      "Array shape: (314, 1)\n",
      "Sum: 10270469\n",
      "Mean: 32708.5\n",
      "Max: 97969\n"
     ]
    }
   ],
   "source": [
    "import numpy as np\n",
    "\n",
    "arr_314 = np.arange(314).reshape(-1, 1)\n",
    "squared_314 = arr_314 ** 2\n",
    "summed_314 = np.sum(squared_314)\n",
    "meaned_314 = np.mean(squared_314)\n",
    "maxed_314 = np.max(squared_314)\n",
    "\n",
    "print(\"Cell 314 - Numpy\")\n",
    "print(\"Array shape:\", arr_314.shape)\n",
    "print(\"Sum:\", summed_314)\n",
    "print(\"Mean:\", meaned_314)\n",
    "print(\"Max:\", maxed_314)"
   ]
  },
  {
   "cell_type": "code",
   "execution_count": 315,
   "id": "cc95be54",
   "metadata": {},
   "outputs": [
    {
     "name": "stdout",
     "output_type": "stream",
     "text": [
      "Cell 315 - Numpy\n",
      "Array shape: (315, 1)\n",
      "Sum: 10369065\n",
      "Mean: 32917.666666666664\n",
      "Max: 98596\n"
     ]
    }
   ],
   "source": [
    "import numpy as np\n",
    "\n",
    "arr_315 = np.arange(315).reshape(-1, 1)\n",
    "squared_315 = arr_315 ** 2\n",
    "summed_315 = np.sum(squared_315)\n",
    "meaned_315 = np.mean(squared_315)\n",
    "maxed_315 = np.max(squared_315)\n",
    "\n",
    "print(\"Cell 315 - Numpy\")\n",
    "print(\"Array shape:\", arr_315.shape)\n",
    "print(\"Sum:\", summed_315)\n",
    "print(\"Mean:\", meaned_315)\n",
    "print(\"Max:\", maxed_315)"
   ]
  },
  {
   "cell_type": "code",
   "execution_count": 316,
   "id": "15d2b412",
   "metadata": {},
   "outputs": [
    {
     "name": "stdout",
     "output_type": "stream",
     "text": [
      "Cell 316 - Numpy\n",
      "Array shape: (316, 1)\n",
      "Sum: 10468290\n",
      "Mean: 33127.5\n",
      "Max: 99225\n"
     ]
    }
   ],
   "source": [
    "import numpy as np\n",
    "\n",
    "arr_316 = np.arange(316).reshape(-1, 1)\n",
    "squared_316 = arr_316 ** 2\n",
    "summed_316 = np.sum(squared_316)\n",
    "meaned_316 = np.mean(squared_316)\n",
    "maxed_316 = np.max(squared_316)\n",
    "\n",
    "print(\"Cell 316 - Numpy\")\n",
    "print(\"Array shape:\", arr_316.shape)\n",
    "print(\"Sum:\", summed_316)\n",
    "print(\"Mean:\", meaned_316)\n",
    "print(\"Max:\", maxed_316)"
   ]
  },
  {
   "cell_type": "code",
   "execution_count": 317,
   "id": "ac648799",
   "metadata": {},
   "outputs": [
    {
     "name": "stdout",
     "output_type": "stream",
     "text": [
      "Cell 317 - Numpy\n",
      "Array shape: (317, 1)\n",
      "Sum: 10568146\n",
      "Mean: 33338.0\n",
      "Max: 99856\n"
     ]
    }
   ],
   "source": [
    "import numpy as np\n",
    "\n",
    "arr_317 = np.arange(317).reshape(-1, 1)\n",
    "squared_317 = arr_317 ** 2\n",
    "summed_317 = np.sum(squared_317)\n",
    "meaned_317 = np.mean(squared_317)\n",
    "maxed_317 = np.max(squared_317)\n",
    "\n",
    "print(\"Cell 317 - Numpy\")\n",
    "print(\"Array shape:\", arr_317.shape)\n",
    "print(\"Sum:\", summed_317)\n",
    "print(\"Mean:\", meaned_317)\n",
    "print(\"Max:\", maxed_317)"
   ]
  },
  {
   "cell_type": "code",
   "execution_count": 318,
   "id": "3ef26816",
   "metadata": {},
   "outputs": [
    {
     "name": "stdout",
     "output_type": "stream",
     "text": [
      "Cell 318 - Numpy\n",
      "Array shape: (318, 1)\n",
      "Sum: 10668635\n",
      "Mean: 33549.166666666664\n",
      "Max: 100489\n"
     ]
    }
   ],
   "source": [
    "import numpy as np\n",
    "\n",
    "arr_318 = np.arange(318).reshape(-1, 1)\n",
    "squared_318 = arr_318 ** 2\n",
    "summed_318 = np.sum(squared_318)\n",
    "meaned_318 = np.mean(squared_318)\n",
    "maxed_318 = np.max(squared_318)\n",
    "\n",
    "print(\"Cell 318 - Numpy\")\n",
    "print(\"Array shape:\", arr_318.shape)\n",
    "print(\"Sum:\", summed_318)\n",
    "print(\"Mean:\", meaned_318)\n",
    "print(\"Max:\", maxed_318)"
   ]
  },
  {
   "cell_type": "code",
   "execution_count": 319,
   "id": "b9d3b6ff",
   "metadata": {},
   "outputs": [
    {
     "name": "stdout",
     "output_type": "stream",
     "text": [
      "Cell 319 - Numpy\n",
      "Array shape: (319, 1)\n",
      "Sum: 10769759\n",
      "Mean: 33761.0\n",
      "Max: 101124\n"
     ]
    }
   ],
   "source": [
    "import numpy as np\n",
    "\n",
    "arr_319 = np.arange(319).reshape(-1, 1)\n",
    "squared_319 = arr_319 ** 2\n",
    "summed_319 = np.sum(squared_319)\n",
    "meaned_319 = np.mean(squared_319)\n",
    "maxed_319 = np.max(squared_319)\n",
    "\n",
    "print(\"Cell 319 - Numpy\")\n",
    "print(\"Array shape:\", arr_319.shape)\n",
    "print(\"Sum:\", summed_319)\n",
    "print(\"Mean:\", meaned_319)\n",
    "print(\"Max:\", maxed_319)"
   ]
  },
  {
   "cell_type": "code",
   "execution_count": 320,
   "id": "f3283430",
   "metadata": {},
   "outputs": [
    {
     "name": "stdout",
     "output_type": "stream",
     "text": [
      "Cell 320 - Numpy\n",
      "Array shape: (320, 1)\n",
      "Sum: 10871520\n",
      "Mean: 33973.5\n",
      "Max: 101761\n"
     ]
    }
   ],
   "source": [
    "import numpy as np\n",
    "\n",
    "arr_320 = np.arange(320).reshape(-1, 1)\n",
    "squared_320 = arr_320 ** 2\n",
    "summed_320 = np.sum(squared_320)\n",
    "meaned_320 = np.mean(squared_320)\n",
    "maxed_320 = np.max(squared_320)\n",
    "\n",
    "print(\"Cell 320 - Numpy\")\n",
    "print(\"Array shape:\", arr_320.shape)\n",
    "print(\"Sum:\", summed_320)\n",
    "print(\"Mean:\", meaned_320)\n",
    "print(\"Max:\", maxed_320)"
   ]
  },
  {
   "cell_type": "code",
   "execution_count": 321,
   "id": "282e33a4",
   "metadata": {},
   "outputs": [
    {
     "name": "stdout",
     "output_type": "stream",
     "text": [
      "Cell 321 - Numpy\n",
      "Array shape: (321, 1)\n",
      "Sum: 10973920\n",
      "Mean: 34186.666666666664\n",
      "Max: 102400\n"
     ]
    }
   ],
   "source": [
    "import numpy as np\n",
    "\n",
    "arr_321 = np.arange(321).reshape(-1, 1)\n",
    "squared_321 = arr_321 ** 2\n",
    "summed_321 = np.sum(squared_321)\n",
    "meaned_321 = np.mean(squared_321)\n",
    "maxed_321 = np.max(squared_321)\n",
    "\n",
    "print(\"Cell 321 - Numpy\")\n",
    "print(\"Array shape:\", arr_321.shape)\n",
    "print(\"Sum:\", summed_321)\n",
    "print(\"Mean:\", meaned_321)\n",
    "print(\"Max:\", maxed_321)"
   ]
  },
  {
   "cell_type": "code",
   "execution_count": 322,
   "id": "e211de0e",
   "metadata": {},
   "outputs": [
    {
     "name": "stdout",
     "output_type": "stream",
     "text": [
      "Cell 322 - Numpy\n",
      "Array shape: (322, 1)\n",
      "Sum: 11076961\n",
      "Mean: 34400.5\n",
      "Max: 103041\n"
     ]
    }
   ],
   "source": [
    "import numpy as np\n",
    "\n",
    "arr_322 = np.arange(322).reshape(-1, 1)\n",
    "squared_322 = arr_322 ** 2\n",
    "summed_322 = np.sum(squared_322)\n",
    "meaned_322 = np.mean(squared_322)\n",
    "maxed_322 = np.max(squared_322)\n",
    "\n",
    "print(\"Cell 322 - Numpy\")\n",
    "print(\"Array shape:\", arr_322.shape)\n",
    "print(\"Sum:\", summed_322)\n",
    "print(\"Mean:\", meaned_322)\n",
    "print(\"Max:\", maxed_322)"
   ]
  },
  {
   "cell_type": "code",
   "execution_count": 323,
   "id": "9020ea9f",
   "metadata": {},
   "outputs": [
    {
     "name": "stdout",
     "output_type": "stream",
     "text": [
      "Cell 323 - Numpy\n",
      "Array shape: (323, 1)\n",
      "Sum: 11180645\n",
      "Mean: 34615.0\n",
      "Max: 103684\n"
     ]
    }
   ],
   "source": [
    "import numpy as np\n",
    "\n",
    "arr_323 = np.arange(323).reshape(-1, 1)\n",
    "squared_323 = arr_323 ** 2\n",
    "summed_323 = np.sum(squared_323)\n",
    "meaned_323 = np.mean(squared_323)\n",
    "maxed_323 = np.max(squared_323)\n",
    "\n",
    "print(\"Cell 323 - Numpy\")\n",
    "print(\"Array shape:\", arr_323.shape)\n",
    "print(\"Sum:\", summed_323)\n",
    "print(\"Mean:\", meaned_323)\n",
    "print(\"Max:\", maxed_323)"
   ]
  },
  {
   "cell_type": "code",
   "execution_count": 324,
   "id": "dc45d0c0",
   "metadata": {},
   "outputs": [
    {
     "name": "stdout",
     "output_type": "stream",
     "text": [
      "Cell 324 - Numpy\n",
      "Array shape: (324, 1)\n",
      "Sum: 11284974\n",
      "Mean: 34830.166666666664\n",
      "Max: 104329\n"
     ]
    }
   ],
   "source": [
    "import numpy as np\n",
    "\n",
    "arr_324 = np.arange(324).reshape(-1, 1)\n",
    "squared_324 = arr_324 ** 2\n",
    "summed_324 = np.sum(squared_324)\n",
    "meaned_324 = np.mean(squared_324)\n",
    "maxed_324 = np.max(squared_324)\n",
    "\n",
    "print(\"Cell 324 - Numpy\")\n",
    "print(\"Array shape:\", arr_324.shape)\n",
    "print(\"Sum:\", summed_324)\n",
    "print(\"Mean:\", meaned_324)\n",
    "print(\"Max:\", maxed_324)"
   ]
  },
  {
   "cell_type": "code",
   "execution_count": 325,
   "id": "d27ee028",
   "metadata": {},
   "outputs": [
    {
     "name": "stdout",
     "output_type": "stream",
     "text": [
      "Cell 325 - Numpy\n",
      "Array shape: (325, 1)\n",
      "Sum: 11389950\n",
      "Mean: 35046.0\n",
      "Max: 104976\n"
     ]
    }
   ],
   "source": [
    "import numpy as np\n",
    "\n",
    "arr_325 = np.arange(325).reshape(-1, 1)\n",
    "squared_325 = arr_325 ** 2\n",
    "summed_325 = np.sum(squared_325)\n",
    "meaned_325 = np.mean(squared_325)\n",
    "maxed_325 = np.max(squared_325)\n",
    "\n",
    "print(\"Cell 325 - Numpy\")\n",
    "print(\"Array shape:\", arr_325.shape)\n",
    "print(\"Sum:\", summed_325)\n",
    "print(\"Mean:\", meaned_325)\n",
    "print(\"Max:\", maxed_325)"
   ]
  },
  {
   "cell_type": "code",
   "execution_count": 326,
   "id": "e8466786",
   "metadata": {},
   "outputs": [
    {
     "name": "stdout",
     "output_type": "stream",
     "text": [
      "Cell 326 - Numpy\n",
      "Array shape: (326, 1)\n",
      "Sum: 11495575\n",
      "Mean: 35262.5\n",
      "Max: 105625\n"
     ]
    }
   ],
   "source": [
    "import numpy as np\n",
    "\n",
    "arr_326 = np.arange(326).reshape(-1, 1)\n",
    "squared_326 = arr_326 ** 2\n",
    "summed_326 = np.sum(squared_326)\n",
    "meaned_326 = np.mean(squared_326)\n",
    "maxed_326 = np.max(squared_326)\n",
    "\n",
    "print(\"Cell 326 - Numpy\")\n",
    "print(\"Array shape:\", arr_326.shape)\n",
    "print(\"Sum:\", summed_326)\n",
    "print(\"Mean:\", meaned_326)\n",
    "print(\"Max:\", maxed_326)"
   ]
  },
  {
   "cell_type": "code",
   "execution_count": 327,
   "id": "3757eda8",
   "metadata": {},
   "outputs": [
    {
     "name": "stdout",
     "output_type": "stream",
     "text": [
      "Cell 327 - Numpy\n",
      "Array shape: (327, 1)\n",
      "Sum: 11601851\n",
      "Mean: 35479.666666666664\n",
      "Max: 106276\n"
     ]
    }
   ],
   "source": [
    "import numpy as np\n",
    "\n",
    "arr_327 = np.arange(327).reshape(-1, 1)\n",
    "squared_327 = arr_327 ** 2\n",
    "summed_327 = np.sum(squared_327)\n",
    "meaned_327 = np.mean(squared_327)\n",
    "maxed_327 = np.max(squared_327)\n",
    "\n",
    "print(\"Cell 327 - Numpy\")\n",
    "print(\"Array shape:\", arr_327.shape)\n",
    "print(\"Sum:\", summed_327)\n",
    "print(\"Mean:\", meaned_327)\n",
    "print(\"Max:\", maxed_327)"
   ]
  },
  {
   "cell_type": "code",
   "execution_count": 328,
   "id": "63eab21f",
   "metadata": {},
   "outputs": [
    {
     "name": "stdout",
     "output_type": "stream",
     "text": [
      "Cell 328 - Numpy\n",
      "Array shape: (328, 1)\n",
      "Sum: 11708780\n",
      "Mean: 35697.5\n",
      "Max: 106929\n"
     ]
    }
   ],
   "source": [
    "import numpy as np\n",
    "\n",
    "arr_328 = np.arange(328).reshape(-1, 1)\n",
    "squared_328 = arr_328 ** 2\n",
    "summed_328 = np.sum(squared_328)\n",
    "meaned_328 = np.mean(squared_328)\n",
    "maxed_328 = np.max(squared_328)\n",
    "\n",
    "print(\"Cell 328 - Numpy\")\n",
    "print(\"Array shape:\", arr_328.shape)\n",
    "print(\"Sum:\", summed_328)\n",
    "print(\"Mean:\", meaned_328)\n",
    "print(\"Max:\", maxed_328)"
   ]
  },
  {
   "cell_type": "code",
   "execution_count": 329,
   "id": "61ff38b1",
   "metadata": {},
   "outputs": [
    {
     "name": "stdout",
     "output_type": "stream",
     "text": [
      "Cell 329 - Numpy\n",
      "Array shape: (329, 1)\n",
      "Sum: 11816364\n",
      "Mean: 35916.0\n",
      "Max: 107584\n"
     ]
    }
   ],
   "source": [
    "import numpy as np\n",
    "\n",
    "arr_329 = np.arange(329).reshape(-1, 1)\n",
    "squared_329 = arr_329 ** 2\n",
    "summed_329 = np.sum(squared_329)\n",
    "meaned_329 = np.mean(squared_329)\n",
    "maxed_329 = np.max(squared_329)\n",
    "\n",
    "print(\"Cell 329 - Numpy\")\n",
    "print(\"Array shape:\", arr_329.shape)\n",
    "print(\"Sum:\", summed_329)\n",
    "print(\"Mean:\", meaned_329)\n",
    "print(\"Max:\", maxed_329)"
   ]
  },
  {
   "cell_type": "code",
   "execution_count": 330,
   "id": "95d9a2e0",
   "metadata": {},
   "outputs": [
    {
     "name": "stdout",
     "output_type": "stream",
     "text": [
      "Cell 330 - Numpy\n",
      "Array shape: (330, 1)\n",
      "Sum: 11924605\n",
      "Mean: 36135.166666666664\n",
      "Max: 108241\n"
     ]
    }
   ],
   "source": [
    "import numpy as np\n",
    "\n",
    "arr_330 = np.arange(330).reshape(-1, 1)\n",
    "squared_330 = arr_330 ** 2\n",
    "summed_330 = np.sum(squared_330)\n",
    "meaned_330 = np.mean(squared_330)\n",
    "maxed_330 = np.max(squared_330)\n",
    "\n",
    "print(\"Cell 330 - Numpy\")\n",
    "print(\"Array shape:\", arr_330.shape)\n",
    "print(\"Sum:\", summed_330)\n",
    "print(\"Mean:\", meaned_330)\n",
    "print(\"Max:\", maxed_330)"
   ]
  },
  {
   "cell_type": "code",
   "execution_count": 331,
   "id": "93220003",
   "metadata": {},
   "outputs": [
    {
     "name": "stdout",
     "output_type": "stream",
     "text": [
      "Cell 331 - Numpy\n",
      "Array shape: (331, 1)\n",
      "Sum: 12033505\n",
      "Mean: 36355.0\n",
      "Max: 108900\n"
     ]
    }
   ],
   "source": [
    "import numpy as np\n",
    "\n",
    "arr_331 = np.arange(331).reshape(-1, 1)\n",
    "squared_331 = arr_331 ** 2\n",
    "summed_331 = np.sum(squared_331)\n",
    "meaned_331 = np.mean(squared_331)\n",
    "maxed_331 = np.max(squared_331)\n",
    "\n",
    "print(\"Cell 331 - Numpy\")\n",
    "print(\"Array shape:\", arr_331.shape)\n",
    "print(\"Sum:\", summed_331)\n",
    "print(\"Mean:\", meaned_331)\n",
    "print(\"Max:\", maxed_331)"
   ]
  },
  {
   "cell_type": "code",
   "execution_count": 332,
   "id": "8859c9df",
   "metadata": {},
   "outputs": [
    {
     "name": "stdout",
     "output_type": "stream",
     "text": [
      "Cell 332 - Numpy\n",
      "Array shape: (332, 1)\n",
      "Sum: 12143066\n",
      "Mean: 36575.5\n",
      "Max: 109561\n"
     ]
    }
   ],
   "source": [
    "import numpy as np\n",
    "\n",
    "arr_332 = np.arange(332).reshape(-1, 1)\n",
    "squared_332 = arr_332 ** 2\n",
    "summed_332 = np.sum(squared_332)\n",
    "meaned_332 = np.mean(squared_332)\n",
    "maxed_332 = np.max(squared_332)\n",
    "\n",
    "print(\"Cell 332 - Numpy\")\n",
    "print(\"Array shape:\", arr_332.shape)\n",
    "print(\"Sum:\", summed_332)\n",
    "print(\"Mean:\", meaned_332)\n",
    "print(\"Max:\", maxed_332)"
   ]
  },
  {
   "cell_type": "code",
   "execution_count": 333,
   "id": "c9286139",
   "metadata": {},
   "outputs": [
    {
     "name": "stdout",
     "output_type": "stream",
     "text": [
      "Cell 333 - Numpy\n",
      "Array shape: (333, 1)\n",
      "Sum: 12253290\n",
      "Mean: 36796.666666666664\n",
      "Max: 110224\n"
     ]
    }
   ],
   "source": [
    "import numpy as np\n",
    "\n",
    "arr_333 = np.arange(333).reshape(-1, 1)\n",
    "squared_333 = arr_333 ** 2\n",
    "summed_333 = np.sum(squared_333)\n",
    "meaned_333 = np.mean(squared_333)\n",
    "maxed_333 = np.max(squared_333)\n",
    "\n",
    "print(\"Cell 333 - Numpy\")\n",
    "print(\"Array shape:\", arr_333.shape)\n",
    "print(\"Sum:\", summed_333)\n",
    "print(\"Mean:\", meaned_333)\n",
    "print(\"Max:\", maxed_333)"
   ]
  },
  {
   "cell_type": "code",
   "execution_count": 334,
   "id": "f12a863f",
   "metadata": {},
   "outputs": [
    {
     "name": "stdout",
     "output_type": "stream",
     "text": [
      "Cell 334 - Numpy\n",
      "Array shape: (334, 1)\n",
      "Sum: 12364179\n",
      "Mean: 37018.5\n",
      "Max: 110889\n"
     ]
    }
   ],
   "source": [
    "import numpy as np\n",
    "\n",
    "arr_334 = np.arange(334).reshape(-1, 1)\n",
    "squared_334 = arr_334 ** 2\n",
    "summed_334 = np.sum(squared_334)\n",
    "meaned_334 = np.mean(squared_334)\n",
    "maxed_334 = np.max(squared_334)\n",
    "\n",
    "print(\"Cell 334 - Numpy\")\n",
    "print(\"Array shape:\", arr_334.shape)\n",
    "print(\"Sum:\", summed_334)\n",
    "print(\"Mean:\", meaned_334)\n",
    "print(\"Max:\", maxed_334)"
   ]
  },
  {
   "cell_type": "code",
   "execution_count": 335,
   "id": "63ba4586",
   "metadata": {},
   "outputs": [
    {
     "name": "stdout",
     "output_type": "stream",
     "text": [
      "Cell 335 - Numpy\n",
      "Array shape: (335, 1)\n",
      "Sum: 12475735\n",
      "Mean: 37241.0\n",
      "Max: 111556\n"
     ]
    }
   ],
   "source": [
    "import numpy as np\n",
    "\n",
    "arr_335 = np.arange(335).reshape(-1, 1)\n",
    "squared_335 = arr_335 ** 2\n",
    "summed_335 = np.sum(squared_335)\n",
    "meaned_335 = np.mean(squared_335)\n",
    "maxed_335 = np.max(squared_335)\n",
    "\n",
    "print(\"Cell 335 - Numpy\")\n",
    "print(\"Array shape:\", arr_335.shape)\n",
    "print(\"Sum:\", summed_335)\n",
    "print(\"Mean:\", meaned_335)\n",
    "print(\"Max:\", maxed_335)"
   ]
  },
  {
   "cell_type": "code",
   "execution_count": 336,
   "id": "2f1a748d",
   "metadata": {},
   "outputs": [
    {
     "name": "stdout",
     "output_type": "stream",
     "text": [
      "Cell 336 - Numpy\n",
      "Array shape: (336, 1)\n",
      "Sum: 12587960\n",
      "Mean: 37464.166666666664\n",
      "Max: 112225\n"
     ]
    }
   ],
   "source": [
    "import numpy as np\n",
    "\n",
    "arr_336 = np.arange(336).reshape(-1, 1)\n",
    "squared_336 = arr_336 ** 2\n",
    "summed_336 = np.sum(squared_336)\n",
    "meaned_336 = np.mean(squared_336)\n",
    "maxed_336 = np.max(squared_336)\n",
    "\n",
    "print(\"Cell 336 - Numpy\")\n",
    "print(\"Array shape:\", arr_336.shape)\n",
    "print(\"Sum:\", summed_336)\n",
    "print(\"Mean:\", meaned_336)\n",
    "print(\"Max:\", maxed_336)"
   ]
  },
  {
   "cell_type": "code",
   "execution_count": 337,
   "id": "a923023b",
   "metadata": {},
   "outputs": [
    {
     "name": "stdout",
     "output_type": "stream",
     "text": [
      "Cell 337 - Numpy\n",
      "Array shape: (337, 1)\n",
      "Sum: 12700856\n",
      "Mean: 37688.0\n",
      "Max: 112896\n"
     ]
    }
   ],
   "source": [
    "import numpy as np\n",
    "\n",
    "arr_337 = np.arange(337).reshape(-1, 1)\n",
    "squared_337 = arr_337 ** 2\n",
    "summed_337 = np.sum(squared_337)\n",
    "meaned_337 = np.mean(squared_337)\n",
    "maxed_337 = np.max(squared_337)\n",
    "\n",
    "print(\"Cell 337 - Numpy\")\n",
    "print(\"Array shape:\", arr_337.shape)\n",
    "print(\"Sum:\", summed_337)\n",
    "print(\"Mean:\", meaned_337)\n",
    "print(\"Max:\", maxed_337)"
   ]
  },
  {
   "cell_type": "code",
   "execution_count": 338,
   "id": "9894bd66",
   "metadata": {},
   "outputs": [
    {
     "name": "stdout",
     "output_type": "stream",
     "text": [
      "Cell 338 - Numpy\n",
      "Array shape: (338, 1)\n",
      "Sum: 12814425\n",
      "Mean: 37912.5\n",
      "Max: 113569\n"
     ]
    }
   ],
   "source": [
    "import numpy as np\n",
    "\n",
    "arr_338 = np.arange(338).reshape(-1, 1)\n",
    "squared_338 = arr_338 ** 2\n",
    "summed_338 = np.sum(squared_338)\n",
    "meaned_338 = np.mean(squared_338)\n",
    "maxed_338 = np.max(squared_338)\n",
    "\n",
    "print(\"Cell 338 - Numpy\")\n",
    "print(\"Array shape:\", arr_338.shape)\n",
    "print(\"Sum:\", summed_338)\n",
    "print(\"Mean:\", meaned_338)\n",
    "print(\"Max:\", maxed_338)"
   ]
  },
  {
   "cell_type": "code",
   "execution_count": 339,
   "id": "443b8e8b",
   "metadata": {},
   "outputs": [
    {
     "name": "stdout",
     "output_type": "stream",
     "text": [
      "Cell 339 - Numpy\n",
      "Array shape: (339, 1)\n",
      "Sum: 12928669\n",
      "Mean: 38137.666666666664\n",
      "Max: 114244\n"
     ]
    }
   ],
   "source": [
    "import numpy as np\n",
    "\n",
    "arr_339 = np.arange(339).reshape(-1, 1)\n",
    "squared_339 = arr_339 ** 2\n",
    "summed_339 = np.sum(squared_339)\n",
    "meaned_339 = np.mean(squared_339)\n",
    "maxed_339 = np.max(squared_339)\n",
    "\n",
    "print(\"Cell 339 - Numpy\")\n",
    "print(\"Array shape:\", arr_339.shape)\n",
    "print(\"Sum:\", summed_339)\n",
    "print(\"Mean:\", meaned_339)\n",
    "print(\"Max:\", maxed_339)"
   ]
  },
  {
   "cell_type": "code",
   "execution_count": 340,
   "id": "54df3912",
   "metadata": {},
   "outputs": [
    {
     "name": "stdout",
     "output_type": "stream",
     "text": [
      "Cell 340 - Numpy\n",
      "Array shape: (340, 1)\n",
      "Sum: 13043590\n",
      "Mean: 38363.5\n",
      "Max: 114921\n"
     ]
    }
   ],
   "source": [
    "import numpy as np\n",
    "\n",
    "arr_340 = np.arange(340).reshape(-1, 1)\n",
    "squared_340 = arr_340 ** 2\n",
    "summed_340 = np.sum(squared_340)\n",
    "meaned_340 = np.mean(squared_340)\n",
    "maxed_340 = np.max(squared_340)\n",
    "\n",
    "print(\"Cell 340 - Numpy\")\n",
    "print(\"Array shape:\", arr_340.shape)\n",
    "print(\"Sum:\", summed_340)\n",
    "print(\"Mean:\", meaned_340)\n",
    "print(\"Max:\", maxed_340)"
   ]
  },
  {
   "cell_type": "code",
   "execution_count": 341,
   "id": "735597e1",
   "metadata": {},
   "outputs": [
    {
     "name": "stdout",
     "output_type": "stream",
     "text": [
      "Cell 341 - Numpy\n",
      "Array shape: (341, 1)\n",
      "Sum: 13159190\n",
      "Mean: 38590.0\n",
      "Max: 115600\n"
     ]
    }
   ],
   "source": [
    "import numpy as np\n",
    "\n",
    "arr_341 = np.arange(341).reshape(-1, 1)\n",
    "squared_341 = arr_341 ** 2\n",
    "summed_341 = np.sum(squared_341)\n",
    "meaned_341 = np.mean(squared_341)\n",
    "maxed_341 = np.max(squared_341)\n",
    "\n",
    "print(\"Cell 341 - Numpy\")\n",
    "print(\"Array shape:\", arr_341.shape)\n",
    "print(\"Sum:\", summed_341)\n",
    "print(\"Mean:\", meaned_341)\n",
    "print(\"Max:\", maxed_341)"
   ]
  },
  {
   "cell_type": "code",
   "execution_count": 342,
   "id": "a555af49",
   "metadata": {},
   "outputs": [
    {
     "name": "stdout",
     "output_type": "stream",
     "text": [
      "Cell 342 - Numpy\n",
      "Array shape: (342, 1)\n",
      "Sum: 13275471\n",
      "Mean: 38817.166666666664\n",
      "Max: 116281\n"
     ]
    }
   ],
   "source": [
    "import numpy as np\n",
    "\n",
    "arr_342 = np.arange(342).reshape(-1, 1)\n",
    "squared_342 = arr_342 ** 2\n",
    "summed_342 = np.sum(squared_342)\n",
    "meaned_342 = np.mean(squared_342)\n",
    "maxed_342 = np.max(squared_342)\n",
    "\n",
    "print(\"Cell 342 - Numpy\")\n",
    "print(\"Array shape:\", arr_342.shape)\n",
    "print(\"Sum:\", summed_342)\n",
    "print(\"Mean:\", meaned_342)\n",
    "print(\"Max:\", maxed_342)"
   ]
  },
  {
   "cell_type": "code",
   "execution_count": 343,
   "id": "cb6513b2",
   "metadata": {},
   "outputs": [
    {
     "name": "stdout",
     "output_type": "stream",
     "text": [
      "Cell 343 - Numpy\n",
      "Array shape: (343, 1)\n",
      "Sum: 13392435\n",
      "Mean: 39045.0\n",
      "Max: 116964\n"
     ]
    }
   ],
   "source": [
    "import numpy as np\n",
    "\n",
    "arr_343 = np.arange(343).reshape(-1, 1)\n",
    "squared_343 = arr_343 ** 2\n",
    "summed_343 = np.sum(squared_343)\n",
    "meaned_343 = np.mean(squared_343)\n",
    "maxed_343 = np.max(squared_343)\n",
    "\n",
    "print(\"Cell 343 - Numpy\")\n",
    "print(\"Array shape:\", arr_343.shape)\n",
    "print(\"Sum:\", summed_343)\n",
    "print(\"Mean:\", meaned_343)\n",
    "print(\"Max:\", maxed_343)"
   ]
  },
  {
   "cell_type": "code",
   "execution_count": 344,
   "id": "829f799e",
   "metadata": {},
   "outputs": [
    {
     "name": "stdout",
     "output_type": "stream",
     "text": [
      "Cell 344 - Numpy\n",
      "Array shape: (344, 1)\n",
      "Sum: 13510084\n",
      "Mean: 39273.5\n",
      "Max: 117649\n"
     ]
    }
   ],
   "source": [
    "import numpy as np\n",
    "\n",
    "arr_344 = np.arange(344).reshape(-1, 1)\n",
    "squared_344 = arr_344 ** 2\n",
    "summed_344 = np.sum(squared_344)\n",
    "meaned_344 = np.mean(squared_344)\n",
    "maxed_344 = np.max(squared_344)\n",
    "\n",
    "print(\"Cell 344 - Numpy\")\n",
    "print(\"Array shape:\", arr_344.shape)\n",
    "print(\"Sum:\", summed_344)\n",
    "print(\"Mean:\", meaned_344)\n",
    "print(\"Max:\", maxed_344)"
   ]
  },
  {
   "cell_type": "code",
   "execution_count": 345,
   "id": "635432e9",
   "metadata": {},
   "outputs": [
    {
     "name": "stdout",
     "output_type": "stream",
     "text": [
      "Cell 345 - Numpy\n",
      "Array shape: (345, 1)\n",
      "Sum: 13628420\n",
      "Mean: 39502.666666666664\n",
      "Max: 118336\n"
     ]
    }
   ],
   "source": [
    "import numpy as np\n",
    "\n",
    "arr_345 = np.arange(345).reshape(-1, 1)\n",
    "squared_345 = arr_345 ** 2\n",
    "summed_345 = np.sum(squared_345)\n",
    "meaned_345 = np.mean(squared_345)\n",
    "maxed_345 = np.max(squared_345)\n",
    "\n",
    "print(\"Cell 345 - Numpy\")\n",
    "print(\"Array shape:\", arr_345.shape)\n",
    "print(\"Sum:\", summed_345)\n",
    "print(\"Mean:\", meaned_345)\n",
    "print(\"Max:\", maxed_345)"
   ]
  },
  {
   "cell_type": "code",
   "execution_count": 346,
   "id": "87f6d197",
   "metadata": {},
   "outputs": [
    {
     "name": "stdout",
     "output_type": "stream",
     "text": [
      "Cell 346 - Numpy\n",
      "Array shape: (346, 1)\n",
      "Sum: 13747445\n",
      "Mean: 39732.5\n",
      "Max: 119025\n"
     ]
    }
   ],
   "source": [
    "import numpy as np\n",
    "\n",
    "arr_346 = np.arange(346).reshape(-1, 1)\n",
    "squared_346 = arr_346 ** 2\n",
    "summed_346 = np.sum(squared_346)\n",
    "meaned_346 = np.mean(squared_346)\n",
    "maxed_346 = np.max(squared_346)\n",
    "\n",
    "print(\"Cell 346 - Numpy\")\n",
    "print(\"Array shape:\", arr_346.shape)\n",
    "print(\"Sum:\", summed_346)\n",
    "print(\"Mean:\", meaned_346)\n",
    "print(\"Max:\", maxed_346)"
   ]
  },
  {
   "cell_type": "code",
   "execution_count": 347,
   "id": "691fbf73",
   "metadata": {},
   "outputs": [
    {
     "name": "stdout",
     "output_type": "stream",
     "text": [
      "Cell 347 - Numpy\n",
      "Array shape: (347, 1)\n",
      "Sum: 13867161\n",
      "Mean: 39963.0\n",
      "Max: 119716\n"
     ]
    }
   ],
   "source": [
    "import numpy as np\n",
    "\n",
    "arr_347 = np.arange(347).reshape(-1, 1)\n",
    "squared_347 = arr_347 ** 2\n",
    "summed_347 = np.sum(squared_347)\n",
    "meaned_347 = np.mean(squared_347)\n",
    "maxed_347 = np.max(squared_347)\n",
    "\n",
    "print(\"Cell 347 - Numpy\")\n",
    "print(\"Array shape:\", arr_347.shape)\n",
    "print(\"Sum:\", summed_347)\n",
    "print(\"Mean:\", meaned_347)\n",
    "print(\"Max:\", maxed_347)"
   ]
  },
  {
   "cell_type": "code",
   "execution_count": 348,
   "id": "2a40b73f",
   "metadata": {},
   "outputs": [
    {
     "name": "stdout",
     "output_type": "stream",
     "text": [
      "Cell 348 - Numpy\n",
      "Array shape: (348, 1)\n",
      "Sum: 13987570\n",
      "Mean: 40194.166666666664\n",
      "Max: 120409\n"
     ]
    }
   ],
   "source": [
    "import numpy as np\n",
    "\n",
    "arr_348 = np.arange(348).reshape(-1, 1)\n",
    "squared_348 = arr_348 ** 2\n",
    "summed_348 = np.sum(squared_348)\n",
    "meaned_348 = np.mean(squared_348)\n",
    "maxed_348 = np.max(squared_348)\n",
    "\n",
    "print(\"Cell 348 - Numpy\")\n",
    "print(\"Array shape:\", arr_348.shape)\n",
    "print(\"Sum:\", summed_348)\n",
    "print(\"Mean:\", meaned_348)\n",
    "print(\"Max:\", maxed_348)"
   ]
  },
  {
   "cell_type": "code",
   "execution_count": 349,
   "id": "afd4927c",
   "metadata": {},
   "outputs": [
    {
     "name": "stdout",
     "output_type": "stream",
     "text": [
      "Cell 349 - Numpy\n",
      "Array shape: (349, 1)\n",
      "Sum: 14108674\n",
      "Mean: 40426.0\n",
      "Max: 121104\n"
     ]
    }
   ],
   "source": [
    "import numpy as np\n",
    "\n",
    "arr_349 = np.arange(349).reshape(-1, 1)\n",
    "squared_349 = arr_349 ** 2\n",
    "summed_349 = np.sum(squared_349)\n",
    "meaned_349 = np.mean(squared_349)\n",
    "maxed_349 = np.max(squared_349)\n",
    "\n",
    "print(\"Cell 349 - Numpy\")\n",
    "print(\"Array shape:\", arr_349.shape)\n",
    "print(\"Sum:\", summed_349)\n",
    "print(\"Mean:\", meaned_349)\n",
    "print(\"Max:\", maxed_349)"
   ]
  },
  {
   "cell_type": "code",
   "execution_count": 350,
   "id": "0a7dfc8e",
   "metadata": {},
   "outputs": [
    {
     "name": "stdout",
     "output_type": "stream",
     "text": [
      "Cell 350 - Numpy\n",
      "Array shape: (350, 1)\n",
      "Sum: 14230475\n",
      "Mean: 40658.5\n",
      "Max: 121801\n"
     ]
    }
   ],
   "source": [
    "import numpy as np\n",
    "\n",
    "arr_350 = np.arange(350).reshape(-1, 1)\n",
    "squared_350 = arr_350 ** 2\n",
    "summed_350 = np.sum(squared_350)\n",
    "meaned_350 = np.mean(squared_350)\n",
    "maxed_350 = np.max(squared_350)\n",
    "\n",
    "print(\"Cell 350 - Numpy\")\n",
    "print(\"Array shape:\", arr_350.shape)\n",
    "print(\"Sum:\", summed_350)\n",
    "print(\"Mean:\", meaned_350)\n",
    "print(\"Max:\", maxed_350)"
   ]
  },
  {
   "cell_type": "code",
   "execution_count": 351,
   "id": "92ac4c30",
   "metadata": {},
   "outputs": [
    {
     "name": "stdout",
     "output_type": "stream",
     "text": [
      "Cell 351 - Numpy\n",
      "Array shape: (351, 1)\n",
      "Sum: 14352975\n",
      "Mean: 40891.666666666664\n",
      "Max: 122500\n"
     ]
    }
   ],
   "source": [
    "import numpy as np\n",
    "\n",
    "arr_351 = np.arange(351).reshape(-1, 1)\n",
    "squared_351 = arr_351 ** 2\n",
    "summed_351 = np.sum(squared_351)\n",
    "meaned_351 = np.mean(squared_351)\n",
    "maxed_351 = np.max(squared_351)\n",
    "\n",
    "print(\"Cell 351 - Numpy\")\n",
    "print(\"Array shape:\", arr_351.shape)\n",
    "print(\"Sum:\", summed_351)\n",
    "print(\"Mean:\", meaned_351)\n",
    "print(\"Max:\", maxed_351)"
   ]
  },
  {
   "cell_type": "code",
   "execution_count": 352,
   "id": "cf23e63f",
   "metadata": {},
   "outputs": [
    {
     "name": "stdout",
     "output_type": "stream",
     "text": [
      "Cell 352 - Numpy\n",
      "Array shape: (352, 1)\n",
      "Sum: 14476176\n",
      "Mean: 41125.5\n",
      "Max: 123201\n"
     ]
    }
   ],
   "source": [
    "import numpy as np\n",
    "\n",
    "arr_352 = np.arange(352).reshape(-1, 1)\n",
    "squared_352 = arr_352 ** 2\n",
    "summed_352 = np.sum(squared_352)\n",
    "meaned_352 = np.mean(squared_352)\n",
    "maxed_352 = np.max(squared_352)\n",
    "\n",
    "print(\"Cell 352 - Numpy\")\n",
    "print(\"Array shape:\", arr_352.shape)\n",
    "print(\"Sum:\", summed_352)\n",
    "print(\"Mean:\", meaned_352)\n",
    "print(\"Max:\", maxed_352)"
   ]
  },
  {
   "cell_type": "code",
   "execution_count": 353,
   "id": "0dd95de8",
   "metadata": {},
   "outputs": [
    {
     "name": "stdout",
     "output_type": "stream",
     "text": [
      "Cell 353 - Numpy\n",
      "Array shape: (353, 1)\n",
      "Sum: 14600080\n",
      "Mean: 41360.0\n",
      "Max: 123904\n"
     ]
    }
   ],
   "source": [
    "import numpy as np\n",
    "\n",
    "arr_353 = np.arange(353).reshape(-1, 1)\n",
    "squared_353 = arr_353 ** 2\n",
    "summed_353 = np.sum(squared_353)\n",
    "meaned_353 = np.mean(squared_353)\n",
    "maxed_353 = np.max(squared_353)\n",
    "\n",
    "print(\"Cell 353 - Numpy\")\n",
    "print(\"Array shape:\", arr_353.shape)\n",
    "print(\"Sum:\", summed_353)\n",
    "print(\"Mean:\", meaned_353)\n",
    "print(\"Max:\", maxed_353)"
   ]
  },
  {
   "cell_type": "code",
   "execution_count": 354,
   "id": "da2a60d7",
   "metadata": {},
   "outputs": [
    {
     "name": "stdout",
     "output_type": "stream",
     "text": [
      "Cell 354 - Numpy\n",
      "Array shape: (354, 1)\n",
      "Sum: 14724689\n",
      "Mean: 41595.166666666664\n",
      "Max: 124609\n"
     ]
    }
   ],
   "source": [
    "import numpy as np\n",
    "\n",
    "arr_354 = np.arange(354).reshape(-1, 1)\n",
    "squared_354 = arr_354 ** 2\n",
    "summed_354 = np.sum(squared_354)\n",
    "meaned_354 = np.mean(squared_354)\n",
    "maxed_354 = np.max(squared_354)\n",
    "\n",
    "print(\"Cell 354 - Numpy\")\n",
    "print(\"Array shape:\", arr_354.shape)\n",
    "print(\"Sum:\", summed_354)\n",
    "print(\"Mean:\", meaned_354)\n",
    "print(\"Max:\", maxed_354)"
   ]
  },
  {
   "cell_type": "code",
   "execution_count": 355,
   "id": "170b7b35",
   "metadata": {},
   "outputs": [
    {
     "name": "stdout",
     "output_type": "stream",
     "text": [
      "Cell 355 - Numpy\n",
      "Array shape: (355, 1)\n",
      "Sum: 14850005\n",
      "Mean: 41831.0\n",
      "Max: 125316\n"
     ]
    }
   ],
   "source": [
    "import numpy as np\n",
    "\n",
    "arr_355 = np.arange(355).reshape(-1, 1)\n",
    "squared_355 = arr_355 ** 2\n",
    "summed_355 = np.sum(squared_355)\n",
    "meaned_355 = np.mean(squared_355)\n",
    "maxed_355 = np.max(squared_355)\n",
    "\n",
    "print(\"Cell 355 - Numpy\")\n",
    "print(\"Array shape:\", arr_355.shape)\n",
    "print(\"Sum:\", summed_355)\n",
    "print(\"Mean:\", meaned_355)\n",
    "print(\"Max:\", maxed_355)"
   ]
  },
  {
   "cell_type": "code",
   "execution_count": 356,
   "id": "add2e5b5",
   "metadata": {},
   "outputs": [
    {
     "name": "stdout",
     "output_type": "stream",
     "text": [
      "Cell 356 - Numpy\n",
      "Array shape: (356, 1)\n",
      "Sum: 14976030\n",
      "Mean: 42067.5\n",
      "Max: 126025\n"
     ]
    }
   ],
   "source": [
    "import numpy as np\n",
    "\n",
    "arr_356 = np.arange(356).reshape(-1, 1)\n",
    "squared_356 = arr_356 ** 2\n",
    "summed_356 = np.sum(squared_356)\n",
    "meaned_356 = np.mean(squared_356)\n",
    "maxed_356 = np.max(squared_356)\n",
    "\n",
    "print(\"Cell 356 - Numpy\")\n",
    "print(\"Array shape:\", arr_356.shape)\n",
    "print(\"Sum:\", summed_356)\n",
    "print(\"Mean:\", meaned_356)\n",
    "print(\"Max:\", maxed_356)"
   ]
  },
  {
   "cell_type": "code",
   "execution_count": 357,
   "id": "29cd2684",
   "metadata": {},
   "outputs": [
    {
     "name": "stdout",
     "output_type": "stream",
     "text": [
      "Cell 357 - Numpy\n",
      "Array shape: (357, 1)\n",
      "Sum: 15102766\n",
      "Mean: 42304.666666666664\n",
      "Max: 126736\n"
     ]
    }
   ],
   "source": [
    "import numpy as np\n",
    "\n",
    "arr_357 = np.arange(357).reshape(-1, 1)\n",
    "squared_357 = arr_357 ** 2\n",
    "summed_357 = np.sum(squared_357)\n",
    "meaned_357 = np.mean(squared_357)\n",
    "maxed_357 = np.max(squared_357)\n",
    "\n",
    "print(\"Cell 357 - Numpy\")\n",
    "print(\"Array shape:\", arr_357.shape)\n",
    "print(\"Sum:\", summed_357)\n",
    "print(\"Mean:\", meaned_357)\n",
    "print(\"Max:\", maxed_357)"
   ]
  },
  {
   "cell_type": "code",
   "execution_count": 358,
   "id": "45e5bd88",
   "metadata": {},
   "outputs": [
    {
     "name": "stdout",
     "output_type": "stream",
     "text": [
      "Cell 358 - Numpy\n",
      "Array shape: (358, 1)\n",
      "Sum: 15230215\n",
      "Mean: 42542.5\n",
      "Max: 127449\n"
     ]
    }
   ],
   "source": [
    "import numpy as np\n",
    "\n",
    "arr_358 = np.arange(358).reshape(-1, 1)\n",
    "squared_358 = arr_358 ** 2\n",
    "summed_358 = np.sum(squared_358)\n",
    "meaned_358 = np.mean(squared_358)\n",
    "maxed_358 = np.max(squared_358)\n",
    "\n",
    "print(\"Cell 358 - Numpy\")\n",
    "print(\"Array shape:\", arr_358.shape)\n",
    "print(\"Sum:\", summed_358)\n",
    "print(\"Mean:\", meaned_358)\n",
    "print(\"Max:\", maxed_358)"
   ]
  },
  {
   "cell_type": "code",
   "execution_count": 359,
   "id": "e9b191b0",
   "metadata": {},
   "outputs": [
    {
     "name": "stdout",
     "output_type": "stream",
     "text": [
      "Cell 359 - Numpy\n",
      "Array shape: (359, 1)\n",
      "Sum: 15358379\n",
      "Mean: 42781.0\n",
      "Max: 128164\n"
     ]
    }
   ],
   "source": [
    "import numpy as np\n",
    "\n",
    "arr_359 = np.arange(359).reshape(-1, 1)\n",
    "squared_359 = arr_359 ** 2\n",
    "summed_359 = np.sum(squared_359)\n",
    "meaned_359 = np.mean(squared_359)\n",
    "maxed_359 = np.max(squared_359)\n",
    "\n",
    "print(\"Cell 359 - Numpy\")\n",
    "print(\"Array shape:\", arr_359.shape)\n",
    "print(\"Sum:\", summed_359)\n",
    "print(\"Mean:\", meaned_359)\n",
    "print(\"Max:\", maxed_359)"
   ]
  },
  {
   "cell_type": "code",
   "execution_count": 360,
   "id": "17664725",
   "metadata": {},
   "outputs": [
    {
     "name": "stdout",
     "output_type": "stream",
     "text": [
      "Cell 360 - Numpy\n",
      "Array shape: (360, 1)\n",
      "Sum: 15487260\n",
      "Mean: 43020.166666666664\n",
      "Max: 128881\n"
     ]
    }
   ],
   "source": [
    "import numpy as np\n",
    "\n",
    "arr_360 = np.arange(360).reshape(-1, 1)\n",
    "squared_360 = arr_360 ** 2\n",
    "summed_360 = np.sum(squared_360)\n",
    "meaned_360 = np.mean(squared_360)\n",
    "maxed_360 = np.max(squared_360)\n",
    "\n",
    "print(\"Cell 360 - Numpy\")\n",
    "print(\"Array shape:\", arr_360.shape)\n",
    "print(\"Sum:\", summed_360)\n",
    "print(\"Mean:\", meaned_360)\n",
    "print(\"Max:\", maxed_360)"
   ]
  },
  {
   "cell_type": "code",
   "execution_count": 361,
   "id": "c2323b94",
   "metadata": {},
   "outputs": [
    {
     "name": "stdout",
     "output_type": "stream",
     "text": [
      "Cell 361 - Numpy\n",
      "Array shape: (361, 1)\n",
      "Sum: 15616860\n",
      "Mean: 43260.0\n",
      "Max: 129600\n"
     ]
    }
   ],
   "source": [
    "import numpy as np\n",
    "\n",
    "arr_361 = np.arange(361).reshape(-1, 1)\n",
    "squared_361 = arr_361 ** 2\n",
    "summed_361 = np.sum(squared_361)\n",
    "meaned_361 = np.mean(squared_361)\n",
    "maxed_361 = np.max(squared_361)\n",
    "\n",
    "print(\"Cell 361 - Numpy\")\n",
    "print(\"Array shape:\", arr_361.shape)\n",
    "print(\"Sum:\", summed_361)\n",
    "print(\"Mean:\", meaned_361)\n",
    "print(\"Max:\", maxed_361)"
   ]
  },
  {
   "cell_type": "code",
   "execution_count": 362,
   "id": "88f5edd6",
   "metadata": {},
   "outputs": [
    {
     "name": "stdout",
     "output_type": "stream",
     "text": [
      "Cell 362 - Numpy\n",
      "Array shape: (362, 1)\n",
      "Sum: 15747181\n",
      "Mean: 43500.5\n",
      "Max: 130321\n"
     ]
    }
   ],
   "source": [
    "import numpy as np\n",
    "\n",
    "arr_362 = np.arange(362).reshape(-1, 1)\n",
    "squared_362 = arr_362 ** 2\n",
    "summed_362 = np.sum(squared_362)\n",
    "meaned_362 = np.mean(squared_362)\n",
    "maxed_362 = np.max(squared_362)\n",
    "\n",
    "print(\"Cell 362 - Numpy\")\n",
    "print(\"Array shape:\", arr_362.shape)\n",
    "print(\"Sum:\", summed_362)\n",
    "print(\"Mean:\", meaned_362)\n",
    "print(\"Max:\", maxed_362)"
   ]
  },
  {
   "cell_type": "code",
   "execution_count": 363,
   "id": "b2cbd8af",
   "metadata": {},
   "outputs": [
    {
     "name": "stdout",
     "output_type": "stream",
     "text": [
      "Cell 363 - Numpy\n",
      "Array shape: (363, 1)\n",
      "Sum: 15878225\n",
      "Mean: 43741.666666666664\n",
      "Max: 131044\n"
     ]
    }
   ],
   "source": [
    "import numpy as np\n",
    "\n",
    "arr_363 = np.arange(363).reshape(-1, 1)\n",
    "squared_363 = arr_363 ** 2\n",
    "summed_363 = np.sum(squared_363)\n",
    "meaned_363 = np.mean(squared_363)\n",
    "maxed_363 = np.max(squared_363)\n",
    "\n",
    "print(\"Cell 363 - Numpy\")\n",
    "print(\"Array shape:\", arr_363.shape)\n",
    "print(\"Sum:\", summed_363)\n",
    "print(\"Mean:\", meaned_363)\n",
    "print(\"Max:\", maxed_363)"
   ]
  },
  {
   "cell_type": "code",
   "execution_count": 364,
   "id": "a262503d",
   "metadata": {},
   "outputs": [
    {
     "name": "stdout",
     "output_type": "stream",
     "text": [
      "Cell 364 - Numpy\n",
      "Array shape: (364, 1)\n",
      "Sum: 16009994\n",
      "Mean: 43983.5\n",
      "Max: 131769\n"
     ]
    }
   ],
   "source": [
    "import numpy as np\n",
    "\n",
    "arr_364 = np.arange(364).reshape(-1, 1)\n",
    "squared_364 = arr_364 ** 2\n",
    "summed_364 = np.sum(squared_364)\n",
    "meaned_364 = np.mean(squared_364)\n",
    "maxed_364 = np.max(squared_364)\n",
    "\n",
    "print(\"Cell 364 - Numpy\")\n",
    "print(\"Array shape:\", arr_364.shape)\n",
    "print(\"Sum:\", summed_364)\n",
    "print(\"Mean:\", meaned_364)\n",
    "print(\"Max:\", maxed_364)"
   ]
  },
  {
   "cell_type": "code",
   "execution_count": 365,
   "id": "93570818",
   "metadata": {},
   "outputs": [
    {
     "name": "stdout",
     "output_type": "stream",
     "text": [
      "Cell 365 - Numpy\n",
      "Array shape: (365, 1)\n",
      "Sum: 16142490\n",
      "Mean: 44226.0\n",
      "Max: 132496\n"
     ]
    }
   ],
   "source": [
    "import numpy as np\n",
    "\n",
    "arr_365 = np.arange(365).reshape(-1, 1)\n",
    "squared_365 = arr_365 ** 2\n",
    "summed_365 = np.sum(squared_365)\n",
    "meaned_365 = np.mean(squared_365)\n",
    "maxed_365 = np.max(squared_365)\n",
    "\n",
    "print(\"Cell 365 - Numpy\")\n",
    "print(\"Array shape:\", arr_365.shape)\n",
    "print(\"Sum:\", summed_365)\n",
    "print(\"Mean:\", meaned_365)\n",
    "print(\"Max:\", maxed_365)"
   ]
  },
  {
   "cell_type": "code",
   "execution_count": 366,
   "id": "1f0f6adc",
   "metadata": {},
   "outputs": [
    {
     "name": "stdout",
     "output_type": "stream",
     "text": [
      "Cell 366 - Numpy\n",
      "Array shape: (366, 1)\n",
      "Sum: 16275715\n",
      "Mean: 44469.166666666664\n",
      "Max: 133225\n"
     ]
    }
   ],
   "source": [
    "import numpy as np\n",
    "\n",
    "arr_366 = np.arange(366).reshape(-1, 1)\n",
    "squared_366 = arr_366 ** 2\n",
    "summed_366 = np.sum(squared_366)\n",
    "meaned_366 = np.mean(squared_366)\n",
    "maxed_366 = np.max(squared_366)\n",
    "\n",
    "print(\"Cell 366 - Numpy\")\n",
    "print(\"Array shape:\", arr_366.shape)\n",
    "print(\"Sum:\", summed_366)\n",
    "print(\"Mean:\", meaned_366)\n",
    "print(\"Max:\", maxed_366)"
   ]
  },
  {
   "cell_type": "code",
   "execution_count": 367,
   "id": "02a2cc3a",
   "metadata": {},
   "outputs": [
    {
     "name": "stdout",
     "output_type": "stream",
     "text": [
      "Cell 367 - Numpy\n",
      "Array shape: (367, 1)\n",
      "Sum: 16409671\n",
      "Mean: 44713.0\n",
      "Max: 133956\n"
     ]
    }
   ],
   "source": [
    "import numpy as np\n",
    "\n",
    "arr_367 = np.arange(367).reshape(-1, 1)\n",
    "squared_367 = arr_367 ** 2\n",
    "summed_367 = np.sum(squared_367)\n",
    "meaned_367 = np.mean(squared_367)\n",
    "maxed_367 = np.max(squared_367)\n",
    "\n",
    "print(\"Cell 367 - Numpy\")\n",
    "print(\"Array shape:\", arr_367.shape)\n",
    "print(\"Sum:\", summed_367)\n",
    "print(\"Mean:\", meaned_367)\n",
    "print(\"Max:\", maxed_367)"
   ]
  },
  {
   "cell_type": "code",
   "execution_count": 368,
   "id": "4f772b8e",
   "metadata": {},
   "outputs": [
    {
     "name": "stdout",
     "output_type": "stream",
     "text": [
      "Cell 368 - Numpy\n",
      "Array shape: (368, 1)\n",
      "Sum: 16544360\n",
      "Mean: 44957.5\n",
      "Max: 134689\n"
     ]
    }
   ],
   "source": [
    "import numpy as np\n",
    "\n",
    "arr_368 = np.arange(368).reshape(-1, 1)\n",
    "squared_368 = arr_368 ** 2\n",
    "summed_368 = np.sum(squared_368)\n",
    "meaned_368 = np.mean(squared_368)\n",
    "maxed_368 = np.max(squared_368)\n",
    "\n",
    "print(\"Cell 368 - Numpy\")\n",
    "print(\"Array shape:\", arr_368.shape)\n",
    "print(\"Sum:\", summed_368)\n",
    "print(\"Mean:\", meaned_368)\n",
    "print(\"Max:\", maxed_368)"
   ]
  },
  {
   "cell_type": "code",
   "execution_count": 369,
   "id": "a5511477",
   "metadata": {},
   "outputs": [
    {
     "name": "stdout",
     "output_type": "stream",
     "text": [
      "Cell 369 - Numpy\n",
      "Array shape: (369, 1)\n",
      "Sum: 16679784\n",
      "Mean: 45202.666666666664\n",
      "Max: 135424\n"
     ]
    }
   ],
   "source": [
    "import numpy as np\n",
    "\n",
    "arr_369 = np.arange(369).reshape(-1, 1)\n",
    "squared_369 = arr_369 ** 2\n",
    "summed_369 = np.sum(squared_369)\n",
    "meaned_369 = np.mean(squared_369)\n",
    "maxed_369 = np.max(squared_369)\n",
    "\n",
    "print(\"Cell 369 - Numpy\")\n",
    "print(\"Array shape:\", arr_369.shape)\n",
    "print(\"Sum:\", summed_369)\n",
    "print(\"Mean:\", meaned_369)\n",
    "print(\"Max:\", maxed_369)"
   ]
  },
  {
   "cell_type": "code",
   "execution_count": 370,
   "id": "188e152d",
   "metadata": {},
   "outputs": [
    {
     "name": "stdout",
     "output_type": "stream",
     "text": [
      "Cell 370 - Numpy\n",
      "Array shape: (370, 1)\n",
      "Sum: 16815945\n",
      "Mean: 45448.5\n",
      "Max: 136161\n"
     ]
    }
   ],
   "source": [
    "import numpy as np\n",
    "\n",
    "arr_370 = np.arange(370).reshape(-1, 1)\n",
    "squared_370 = arr_370 ** 2\n",
    "summed_370 = np.sum(squared_370)\n",
    "meaned_370 = np.mean(squared_370)\n",
    "maxed_370 = np.max(squared_370)\n",
    "\n",
    "print(\"Cell 370 - Numpy\")\n",
    "print(\"Array shape:\", arr_370.shape)\n",
    "print(\"Sum:\", summed_370)\n",
    "print(\"Mean:\", meaned_370)\n",
    "print(\"Max:\", maxed_370)"
   ]
  },
  {
   "cell_type": "code",
   "execution_count": 371,
   "id": "154fc48e",
   "metadata": {},
   "outputs": [
    {
     "name": "stdout",
     "output_type": "stream",
     "text": [
      "Cell 371 - Numpy\n",
      "Array shape: (371, 1)\n",
      "Sum: 16952845\n",
      "Mean: 45695.0\n",
      "Max: 136900\n"
     ]
    }
   ],
   "source": [
    "import numpy as np\n",
    "\n",
    "arr_371 = np.arange(371).reshape(-1, 1)\n",
    "squared_371 = arr_371 ** 2\n",
    "summed_371 = np.sum(squared_371)\n",
    "meaned_371 = np.mean(squared_371)\n",
    "maxed_371 = np.max(squared_371)\n",
    "\n",
    "print(\"Cell 371 - Numpy\")\n",
    "print(\"Array shape:\", arr_371.shape)\n",
    "print(\"Sum:\", summed_371)\n",
    "print(\"Mean:\", meaned_371)\n",
    "print(\"Max:\", maxed_371)"
   ]
  },
  {
   "cell_type": "code",
   "execution_count": 372,
   "id": "cc64fb49",
   "metadata": {},
   "outputs": [
    {
     "name": "stdout",
     "output_type": "stream",
     "text": [
      "Cell 372 - Numpy\n",
      "Array shape: (372, 1)\n",
      "Sum: 17090486\n",
      "Mean: 45942.166666666664\n",
      "Max: 137641\n"
     ]
    }
   ],
   "source": [
    "import numpy as np\n",
    "\n",
    "arr_372 = np.arange(372).reshape(-1, 1)\n",
    "squared_372 = arr_372 ** 2\n",
    "summed_372 = np.sum(squared_372)\n",
    "meaned_372 = np.mean(squared_372)\n",
    "maxed_372 = np.max(squared_372)\n",
    "\n",
    "print(\"Cell 372 - Numpy\")\n",
    "print(\"Array shape:\", arr_372.shape)\n",
    "print(\"Sum:\", summed_372)\n",
    "print(\"Mean:\", meaned_372)\n",
    "print(\"Max:\", maxed_372)"
   ]
  },
  {
   "cell_type": "code",
   "execution_count": 373,
   "id": "c19ae76b",
   "metadata": {},
   "outputs": [
    {
     "name": "stdout",
     "output_type": "stream",
     "text": [
      "Cell 373 - Numpy\n",
      "Array shape: (373, 1)\n",
      "Sum: 17228870\n",
      "Mean: 46190.0\n",
      "Max: 138384\n"
     ]
    }
   ],
   "source": [
    "import numpy as np\n",
    "\n",
    "arr_373 = np.arange(373).reshape(-1, 1)\n",
    "squared_373 = arr_373 ** 2\n",
    "summed_373 = np.sum(squared_373)\n",
    "meaned_373 = np.mean(squared_373)\n",
    "maxed_373 = np.max(squared_373)\n",
    "\n",
    "print(\"Cell 373 - Numpy\")\n",
    "print(\"Array shape:\", arr_373.shape)\n",
    "print(\"Sum:\", summed_373)\n",
    "print(\"Mean:\", meaned_373)\n",
    "print(\"Max:\", maxed_373)"
   ]
  },
  {
   "cell_type": "code",
   "execution_count": 374,
   "id": "3069644b",
   "metadata": {},
   "outputs": [
    {
     "name": "stdout",
     "output_type": "stream",
     "text": [
      "Cell 374 - Numpy\n",
      "Array shape: (374, 1)\n",
      "Sum: 17367999\n",
      "Mean: 46438.5\n",
      "Max: 139129\n"
     ]
    }
   ],
   "source": [
    "import numpy as np\n",
    "\n",
    "arr_374 = np.arange(374).reshape(-1, 1)\n",
    "squared_374 = arr_374 ** 2\n",
    "summed_374 = np.sum(squared_374)\n",
    "meaned_374 = np.mean(squared_374)\n",
    "maxed_374 = np.max(squared_374)\n",
    "\n",
    "print(\"Cell 374 - Numpy\")\n",
    "print(\"Array shape:\", arr_374.shape)\n",
    "print(\"Sum:\", summed_374)\n",
    "print(\"Mean:\", meaned_374)\n",
    "print(\"Max:\", maxed_374)"
   ]
  },
  {
   "cell_type": "code",
   "execution_count": 375,
   "id": "8494d973",
   "metadata": {},
   "outputs": [
    {
     "name": "stdout",
     "output_type": "stream",
     "text": [
      "Cell 375 - Numpy\n",
      "Array shape: (375, 1)\n",
      "Sum: 17507875\n",
      "Mean: 46687.666666666664\n",
      "Max: 139876\n"
     ]
    }
   ],
   "source": [
    "import numpy as np\n",
    "\n",
    "arr_375 = np.arange(375).reshape(-1, 1)\n",
    "squared_375 = arr_375 ** 2\n",
    "summed_375 = np.sum(squared_375)\n",
    "meaned_375 = np.mean(squared_375)\n",
    "maxed_375 = np.max(squared_375)\n",
    "\n",
    "print(\"Cell 375 - Numpy\")\n",
    "print(\"Array shape:\", arr_375.shape)\n",
    "print(\"Sum:\", summed_375)\n",
    "print(\"Mean:\", meaned_375)\n",
    "print(\"Max:\", maxed_375)"
   ]
  },
  {
   "cell_type": "code",
   "execution_count": 376,
   "id": "aaa52624",
   "metadata": {},
   "outputs": [
    {
     "name": "stdout",
     "output_type": "stream",
     "text": [
      "Cell 376 - Numpy\n",
      "Array shape: (376, 1)\n",
      "Sum: 17648500\n",
      "Mean: 46937.5\n",
      "Max: 140625\n"
     ]
    }
   ],
   "source": [
    "import numpy as np\n",
    "\n",
    "arr_376 = np.arange(376).reshape(-1, 1)\n",
    "squared_376 = arr_376 ** 2\n",
    "summed_376 = np.sum(squared_376)\n",
    "meaned_376 = np.mean(squared_376)\n",
    "maxed_376 = np.max(squared_376)\n",
    "\n",
    "print(\"Cell 376 - Numpy\")\n",
    "print(\"Array shape:\", arr_376.shape)\n",
    "print(\"Sum:\", summed_376)\n",
    "print(\"Mean:\", meaned_376)\n",
    "print(\"Max:\", maxed_376)"
   ]
  },
  {
   "cell_type": "code",
   "execution_count": 377,
   "id": "d1843519",
   "metadata": {},
   "outputs": [
    {
     "name": "stdout",
     "output_type": "stream",
     "text": [
      "Cell 377 - Numpy\n",
      "Array shape: (377, 1)\n",
      "Sum: 17789876\n",
      "Mean: 47188.0\n",
      "Max: 141376\n"
     ]
    }
   ],
   "source": [
    "import numpy as np\n",
    "\n",
    "arr_377 = np.arange(377).reshape(-1, 1)\n",
    "squared_377 = arr_377 ** 2\n",
    "summed_377 = np.sum(squared_377)\n",
    "meaned_377 = np.mean(squared_377)\n",
    "maxed_377 = np.max(squared_377)\n",
    "\n",
    "print(\"Cell 377 - Numpy\")\n",
    "print(\"Array shape:\", arr_377.shape)\n",
    "print(\"Sum:\", summed_377)\n",
    "print(\"Mean:\", meaned_377)\n",
    "print(\"Max:\", maxed_377)"
   ]
  },
  {
   "cell_type": "code",
   "execution_count": 378,
   "id": "39d70e2a",
   "metadata": {},
   "outputs": [
    {
     "name": "stdout",
     "output_type": "stream",
     "text": [
      "Cell 378 - Numpy\n",
      "Array shape: (378, 1)\n",
      "Sum: 17932005\n",
      "Mean: 47439.166666666664\n",
      "Max: 142129\n"
     ]
    }
   ],
   "source": [
    "import numpy as np\n",
    "\n",
    "arr_378 = np.arange(378).reshape(-1, 1)\n",
    "squared_378 = arr_378 ** 2\n",
    "summed_378 = np.sum(squared_378)\n",
    "meaned_378 = np.mean(squared_378)\n",
    "maxed_378 = np.max(squared_378)\n",
    "\n",
    "print(\"Cell 378 - Numpy\")\n",
    "print(\"Array shape:\", arr_378.shape)\n",
    "print(\"Sum:\", summed_378)\n",
    "print(\"Mean:\", meaned_378)\n",
    "print(\"Max:\", maxed_378)"
   ]
  },
  {
   "cell_type": "code",
   "execution_count": 379,
   "id": "b3ecbc37",
   "metadata": {},
   "outputs": [
    {
     "name": "stdout",
     "output_type": "stream",
     "text": [
      "Cell 379 - Numpy\n",
      "Array shape: (379, 1)\n",
      "Sum: 18074889\n",
      "Mean: 47691.0\n",
      "Max: 142884\n"
     ]
    }
   ],
   "source": [
    "import numpy as np\n",
    "\n",
    "arr_379 = np.arange(379).reshape(-1, 1)\n",
    "squared_379 = arr_379 ** 2\n",
    "summed_379 = np.sum(squared_379)\n",
    "meaned_379 = np.mean(squared_379)\n",
    "maxed_379 = np.max(squared_379)\n",
    "\n",
    "print(\"Cell 379 - Numpy\")\n",
    "print(\"Array shape:\", arr_379.shape)\n",
    "print(\"Sum:\", summed_379)\n",
    "print(\"Mean:\", meaned_379)\n",
    "print(\"Max:\", maxed_379)"
   ]
  },
  {
   "cell_type": "code",
   "execution_count": 380,
   "id": "da4d31a5",
   "metadata": {},
   "outputs": [
    {
     "name": "stdout",
     "output_type": "stream",
     "text": [
      "Cell 380 - Numpy\n",
      "Array shape: (380, 1)\n",
      "Sum: 18218530\n",
      "Mean: 47943.5\n",
      "Max: 143641\n"
     ]
    }
   ],
   "source": [
    "import numpy as np\n",
    "\n",
    "arr_380 = np.arange(380).reshape(-1, 1)\n",
    "squared_380 = arr_380 ** 2\n",
    "summed_380 = np.sum(squared_380)\n",
    "meaned_380 = np.mean(squared_380)\n",
    "maxed_380 = np.max(squared_380)\n",
    "\n",
    "print(\"Cell 380 - Numpy\")\n",
    "print(\"Array shape:\", arr_380.shape)\n",
    "print(\"Sum:\", summed_380)\n",
    "print(\"Mean:\", meaned_380)\n",
    "print(\"Max:\", maxed_380)"
   ]
  },
  {
   "cell_type": "code",
   "execution_count": 381,
   "id": "1b170758",
   "metadata": {},
   "outputs": [
    {
     "name": "stdout",
     "output_type": "stream",
     "text": [
      "Cell 381 - Numpy\n",
      "Array shape: (381, 1)\n",
      "Sum: 18362930\n",
      "Mean: 48196.666666666664\n",
      "Max: 144400\n"
     ]
    }
   ],
   "source": [
    "import numpy as np\n",
    "\n",
    "arr_381 = np.arange(381).reshape(-1, 1)\n",
    "squared_381 = arr_381 ** 2\n",
    "summed_381 = np.sum(squared_381)\n",
    "meaned_381 = np.mean(squared_381)\n",
    "maxed_381 = np.max(squared_381)\n",
    "\n",
    "print(\"Cell 381 - Numpy\")\n",
    "print(\"Array shape:\", arr_381.shape)\n",
    "print(\"Sum:\", summed_381)\n",
    "print(\"Mean:\", meaned_381)\n",
    "print(\"Max:\", maxed_381)"
   ]
  },
  {
   "cell_type": "code",
   "execution_count": 382,
   "id": "e2b1567f",
   "metadata": {},
   "outputs": [
    {
     "name": "stdout",
     "output_type": "stream",
     "text": [
      "Cell 382 - Numpy\n",
      "Array shape: (382, 1)\n",
      "Sum: 18508091\n",
      "Mean: 48450.5\n",
      "Max: 145161\n"
     ]
    }
   ],
   "source": [
    "import numpy as np\n",
    "\n",
    "arr_382 = np.arange(382).reshape(-1, 1)\n",
    "squared_382 = arr_382 ** 2\n",
    "summed_382 = np.sum(squared_382)\n",
    "meaned_382 = np.mean(squared_382)\n",
    "maxed_382 = np.max(squared_382)\n",
    "\n",
    "print(\"Cell 382 - Numpy\")\n",
    "print(\"Array shape:\", arr_382.shape)\n",
    "print(\"Sum:\", summed_382)\n",
    "print(\"Mean:\", meaned_382)\n",
    "print(\"Max:\", maxed_382)"
   ]
  },
  {
   "cell_type": "code",
   "execution_count": 383,
   "id": "d50355cb",
   "metadata": {},
   "outputs": [
    {
     "name": "stdout",
     "output_type": "stream",
     "text": [
      "Cell 383 - Numpy\n",
      "Array shape: (383, 1)\n",
      "Sum: 18654015\n",
      "Mean: 48705.0\n",
      "Max: 145924\n"
     ]
    }
   ],
   "source": [
    "import numpy as np\n",
    "\n",
    "arr_383 = np.arange(383).reshape(-1, 1)\n",
    "squared_383 = arr_383 ** 2\n",
    "summed_383 = np.sum(squared_383)\n",
    "meaned_383 = np.mean(squared_383)\n",
    "maxed_383 = np.max(squared_383)\n",
    "\n",
    "print(\"Cell 383 - Numpy\")\n",
    "print(\"Array shape:\", arr_383.shape)\n",
    "print(\"Sum:\", summed_383)\n",
    "print(\"Mean:\", meaned_383)\n",
    "print(\"Max:\", maxed_383)"
   ]
  },
  {
   "cell_type": "code",
   "execution_count": 384,
   "id": "76f7cc4f",
   "metadata": {},
   "outputs": [
    {
     "name": "stdout",
     "output_type": "stream",
     "text": [
      "Cell 384 - Numpy\n",
      "Array shape: (384, 1)\n",
      "Sum: 18800704\n",
      "Mean: 48960.166666666664\n",
      "Max: 146689\n"
     ]
    }
   ],
   "source": [
    "import numpy as np\n",
    "\n",
    "arr_384 = np.arange(384).reshape(-1, 1)\n",
    "squared_384 = arr_384 ** 2\n",
    "summed_384 = np.sum(squared_384)\n",
    "meaned_384 = np.mean(squared_384)\n",
    "maxed_384 = np.max(squared_384)\n",
    "\n",
    "print(\"Cell 384 - Numpy\")\n",
    "print(\"Array shape:\", arr_384.shape)\n",
    "print(\"Sum:\", summed_384)\n",
    "print(\"Mean:\", meaned_384)\n",
    "print(\"Max:\", maxed_384)"
   ]
  },
  {
   "cell_type": "code",
   "execution_count": 385,
   "id": "43bcf487",
   "metadata": {},
   "outputs": [
    {
     "name": "stdout",
     "output_type": "stream",
     "text": [
      "Cell 385 - Numpy\n",
      "Array shape: (385, 1)\n",
      "Sum: 18948160\n",
      "Mean: 49216.0\n",
      "Max: 147456\n"
     ]
    }
   ],
   "source": [
    "import numpy as np\n",
    "\n",
    "arr_385 = np.arange(385).reshape(-1, 1)\n",
    "squared_385 = arr_385 ** 2\n",
    "summed_385 = np.sum(squared_385)\n",
    "meaned_385 = np.mean(squared_385)\n",
    "maxed_385 = np.max(squared_385)\n",
    "\n",
    "print(\"Cell 385 - Numpy\")\n",
    "print(\"Array shape:\", arr_385.shape)\n",
    "print(\"Sum:\", summed_385)\n",
    "print(\"Mean:\", meaned_385)\n",
    "print(\"Max:\", maxed_385)"
   ]
  },
  {
   "cell_type": "code",
   "execution_count": 386,
   "id": "0460aac9",
   "metadata": {},
   "outputs": [
    {
     "name": "stdout",
     "output_type": "stream",
     "text": [
      "Cell 386 - Numpy\n",
      "Array shape: (386, 1)\n",
      "Sum: 19096385\n",
      "Mean: 49472.5\n",
      "Max: 148225\n"
     ]
    }
   ],
   "source": [
    "import numpy as np\n",
    "\n",
    "arr_386 = np.arange(386).reshape(-1, 1)\n",
    "squared_386 = arr_386 ** 2\n",
    "summed_386 = np.sum(squared_386)\n",
    "meaned_386 = np.mean(squared_386)\n",
    "maxed_386 = np.max(squared_386)\n",
    "\n",
    "print(\"Cell 386 - Numpy\")\n",
    "print(\"Array shape:\", arr_386.shape)\n",
    "print(\"Sum:\", summed_386)\n",
    "print(\"Mean:\", meaned_386)\n",
    "print(\"Max:\", maxed_386)"
   ]
  },
  {
   "cell_type": "code",
   "execution_count": 387,
   "id": "64262f5e",
   "metadata": {},
   "outputs": [
    {
     "name": "stdout",
     "output_type": "stream",
     "text": [
      "Cell 387 - Numpy\n",
      "Array shape: (387, 1)\n",
      "Sum: 19245381\n",
      "Mean: 49729.666666666664\n",
      "Max: 148996\n"
     ]
    }
   ],
   "source": [
    "import numpy as np\n",
    "\n",
    "arr_387 = np.arange(387).reshape(-1, 1)\n",
    "squared_387 = arr_387 ** 2\n",
    "summed_387 = np.sum(squared_387)\n",
    "meaned_387 = np.mean(squared_387)\n",
    "maxed_387 = np.max(squared_387)\n",
    "\n",
    "print(\"Cell 387 - Numpy\")\n",
    "print(\"Array shape:\", arr_387.shape)\n",
    "print(\"Sum:\", summed_387)\n",
    "print(\"Mean:\", meaned_387)\n",
    "print(\"Max:\", maxed_387)"
   ]
  },
  {
   "cell_type": "code",
   "execution_count": 388,
   "id": "b88ee139",
   "metadata": {},
   "outputs": [
    {
     "name": "stdout",
     "output_type": "stream",
     "text": [
      "Cell 388 - Numpy\n",
      "Array shape: (388, 1)\n",
      "Sum: 19395150\n",
      "Mean: 49987.5\n",
      "Max: 149769\n"
     ]
    }
   ],
   "source": [
    "import numpy as np\n",
    "\n",
    "arr_388 = np.arange(388).reshape(-1, 1)\n",
    "squared_388 = arr_388 ** 2\n",
    "summed_388 = np.sum(squared_388)\n",
    "meaned_388 = np.mean(squared_388)\n",
    "maxed_388 = np.max(squared_388)\n",
    "\n",
    "print(\"Cell 388 - Numpy\")\n",
    "print(\"Array shape:\", arr_388.shape)\n",
    "print(\"Sum:\", summed_388)\n",
    "print(\"Mean:\", meaned_388)\n",
    "print(\"Max:\", maxed_388)"
   ]
  },
  {
   "cell_type": "code",
   "execution_count": 389,
   "id": "67afbb30",
   "metadata": {},
   "outputs": [
    {
     "name": "stdout",
     "output_type": "stream",
     "text": [
      "Cell 389 - Numpy\n",
      "Array shape: (389, 1)\n",
      "Sum: 19545694\n",
      "Mean: 50246.0\n",
      "Max: 150544\n"
     ]
    }
   ],
   "source": [
    "import numpy as np\n",
    "\n",
    "arr_389 = np.arange(389).reshape(-1, 1)\n",
    "squared_389 = arr_389 ** 2\n",
    "summed_389 = np.sum(squared_389)\n",
    "meaned_389 = np.mean(squared_389)\n",
    "maxed_389 = np.max(squared_389)\n",
    "\n",
    "print(\"Cell 389 - Numpy\")\n",
    "print(\"Array shape:\", arr_389.shape)\n",
    "print(\"Sum:\", summed_389)\n",
    "print(\"Mean:\", meaned_389)\n",
    "print(\"Max:\", maxed_389)"
   ]
  },
  {
   "cell_type": "code",
   "execution_count": 390,
   "id": "43a90589",
   "metadata": {},
   "outputs": [
    {
     "name": "stdout",
     "output_type": "stream",
     "text": [
      "Cell 390 - Numpy\n",
      "Array shape: (390, 1)\n",
      "Sum: 19697015\n",
      "Mean: 50505.166666666664\n",
      "Max: 151321\n"
     ]
    }
   ],
   "source": [
    "import numpy as np\n",
    "\n",
    "arr_390 = np.arange(390).reshape(-1, 1)\n",
    "squared_390 = arr_390 ** 2\n",
    "summed_390 = np.sum(squared_390)\n",
    "meaned_390 = np.mean(squared_390)\n",
    "maxed_390 = np.max(squared_390)\n",
    "\n",
    "print(\"Cell 390 - Numpy\")\n",
    "print(\"Array shape:\", arr_390.shape)\n",
    "print(\"Sum:\", summed_390)\n",
    "print(\"Mean:\", meaned_390)\n",
    "print(\"Max:\", maxed_390)"
   ]
  },
  {
   "cell_type": "code",
   "execution_count": 391,
   "id": "9e455753",
   "metadata": {},
   "outputs": [
    {
     "name": "stdout",
     "output_type": "stream",
     "text": [
      "Cell 391 - Numpy\n",
      "Array shape: (391, 1)\n",
      "Sum: 19849115\n",
      "Mean: 50765.0\n",
      "Max: 152100\n"
     ]
    }
   ],
   "source": [
    "import numpy as np\n",
    "\n",
    "arr_391 = np.arange(391).reshape(-1, 1)\n",
    "squared_391 = arr_391 ** 2\n",
    "summed_391 = np.sum(squared_391)\n",
    "meaned_391 = np.mean(squared_391)\n",
    "maxed_391 = np.max(squared_391)\n",
    "\n",
    "print(\"Cell 391 - Numpy\")\n",
    "print(\"Array shape:\", arr_391.shape)\n",
    "print(\"Sum:\", summed_391)\n",
    "print(\"Mean:\", meaned_391)\n",
    "print(\"Max:\", maxed_391)"
   ]
  },
  {
   "cell_type": "code",
   "execution_count": 392,
   "id": "b70cdcde",
   "metadata": {},
   "outputs": [
    {
     "name": "stdout",
     "output_type": "stream",
     "text": [
      "Cell 392 - Numpy\n",
      "Array shape: (392, 1)\n",
      "Sum: 20001996\n",
      "Mean: 51025.5\n",
      "Max: 152881\n"
     ]
    }
   ],
   "source": [
    "import numpy as np\n",
    "\n",
    "arr_392 = np.arange(392).reshape(-1, 1)\n",
    "squared_392 = arr_392 ** 2\n",
    "summed_392 = np.sum(squared_392)\n",
    "meaned_392 = np.mean(squared_392)\n",
    "maxed_392 = np.max(squared_392)\n",
    "\n",
    "print(\"Cell 392 - Numpy\")\n",
    "print(\"Array shape:\", arr_392.shape)\n",
    "print(\"Sum:\", summed_392)\n",
    "print(\"Mean:\", meaned_392)\n",
    "print(\"Max:\", maxed_392)"
   ]
  },
  {
   "cell_type": "code",
   "execution_count": 393,
   "id": "2f063634",
   "metadata": {},
   "outputs": [
    {
     "name": "stdout",
     "output_type": "stream",
     "text": [
      "Cell 393 - Numpy\n",
      "Array shape: (393, 1)\n",
      "Sum: 20155660\n",
      "Mean: 51286.666666666664\n",
      "Max: 153664\n"
     ]
    }
   ],
   "source": [
    "import numpy as np\n",
    "\n",
    "arr_393 = np.arange(393).reshape(-1, 1)\n",
    "squared_393 = arr_393 ** 2\n",
    "summed_393 = np.sum(squared_393)\n",
    "meaned_393 = np.mean(squared_393)\n",
    "maxed_393 = np.max(squared_393)\n",
    "\n",
    "print(\"Cell 393 - Numpy\")\n",
    "print(\"Array shape:\", arr_393.shape)\n",
    "print(\"Sum:\", summed_393)\n",
    "print(\"Mean:\", meaned_393)\n",
    "print(\"Max:\", maxed_393)"
   ]
  },
  {
   "cell_type": "code",
   "execution_count": 394,
   "id": "200ace1d",
   "metadata": {},
   "outputs": [
    {
     "name": "stdout",
     "output_type": "stream",
     "text": [
      "Cell 394 - Numpy\n",
      "Array shape: (394, 1)\n",
      "Sum: 20310109\n",
      "Mean: 51548.5\n",
      "Max: 154449\n"
     ]
    }
   ],
   "source": [
    "import numpy as np\n",
    "\n",
    "arr_394 = np.arange(394).reshape(-1, 1)\n",
    "squared_394 = arr_394 ** 2\n",
    "summed_394 = np.sum(squared_394)\n",
    "meaned_394 = np.mean(squared_394)\n",
    "maxed_394 = np.max(squared_394)\n",
    "\n",
    "print(\"Cell 394 - Numpy\")\n",
    "print(\"Array shape:\", arr_394.shape)\n",
    "print(\"Sum:\", summed_394)\n",
    "print(\"Mean:\", meaned_394)\n",
    "print(\"Max:\", maxed_394)"
   ]
  },
  {
   "cell_type": "code",
   "execution_count": 395,
   "id": "4e95b481",
   "metadata": {},
   "outputs": [
    {
     "name": "stdout",
     "output_type": "stream",
     "text": [
      "Cell 395 - Numpy\n",
      "Array shape: (395, 1)\n",
      "Sum: 20465345\n",
      "Mean: 51811.0\n",
      "Max: 155236\n"
     ]
    }
   ],
   "source": [
    "import numpy as np\n",
    "\n",
    "arr_395 = np.arange(395).reshape(-1, 1)\n",
    "squared_395 = arr_395 ** 2\n",
    "summed_395 = np.sum(squared_395)\n",
    "meaned_395 = np.mean(squared_395)\n",
    "maxed_395 = np.max(squared_395)\n",
    "\n",
    "print(\"Cell 395 - Numpy\")\n",
    "print(\"Array shape:\", arr_395.shape)\n",
    "print(\"Sum:\", summed_395)\n",
    "print(\"Mean:\", meaned_395)\n",
    "print(\"Max:\", maxed_395)"
   ]
  },
  {
   "cell_type": "code",
   "execution_count": 396,
   "id": "d8d19372",
   "metadata": {},
   "outputs": [
    {
     "name": "stdout",
     "output_type": "stream",
     "text": [
      "Cell 396 - Numpy\n",
      "Array shape: (396, 1)\n",
      "Sum: 20621370\n",
      "Mean: 52074.166666666664\n",
      "Max: 156025\n"
     ]
    }
   ],
   "source": [
    "import numpy as np\n",
    "\n",
    "arr_396 = np.arange(396).reshape(-1, 1)\n",
    "squared_396 = arr_396 ** 2\n",
    "summed_396 = np.sum(squared_396)\n",
    "meaned_396 = np.mean(squared_396)\n",
    "maxed_396 = np.max(squared_396)\n",
    "\n",
    "print(\"Cell 396 - Numpy\")\n",
    "print(\"Array shape:\", arr_396.shape)\n",
    "print(\"Sum:\", summed_396)\n",
    "print(\"Mean:\", meaned_396)\n",
    "print(\"Max:\", maxed_396)"
   ]
  },
  {
   "cell_type": "code",
   "execution_count": 397,
   "id": "17e111f0",
   "metadata": {},
   "outputs": [
    {
     "name": "stdout",
     "output_type": "stream",
     "text": [
      "Cell 397 - Numpy\n",
      "Array shape: (397, 1)\n",
      "Sum: 20778186\n",
      "Mean: 52338.0\n",
      "Max: 156816\n"
     ]
    }
   ],
   "source": [
    "import numpy as np\n",
    "\n",
    "arr_397 = np.arange(397).reshape(-1, 1)\n",
    "squared_397 = arr_397 ** 2\n",
    "summed_397 = np.sum(squared_397)\n",
    "meaned_397 = np.mean(squared_397)\n",
    "maxed_397 = np.max(squared_397)\n",
    "\n",
    "print(\"Cell 397 - Numpy\")\n",
    "print(\"Array shape:\", arr_397.shape)\n",
    "print(\"Sum:\", summed_397)\n",
    "print(\"Mean:\", meaned_397)\n",
    "print(\"Max:\", maxed_397)"
   ]
  },
  {
   "cell_type": "code",
   "execution_count": 398,
   "id": "c86e32e9",
   "metadata": {},
   "outputs": [
    {
     "name": "stdout",
     "output_type": "stream",
     "text": [
      "Cell 398 - Numpy\n",
      "Array shape: (398, 1)\n",
      "Sum: 20935795\n",
      "Mean: 52602.5\n",
      "Max: 157609\n"
     ]
    }
   ],
   "source": [
    "import numpy as np\n",
    "\n",
    "arr_398 = np.arange(398).reshape(-1, 1)\n",
    "squared_398 = arr_398 ** 2\n",
    "summed_398 = np.sum(squared_398)\n",
    "meaned_398 = np.mean(squared_398)\n",
    "maxed_398 = np.max(squared_398)\n",
    "\n",
    "print(\"Cell 398 - Numpy\")\n",
    "print(\"Array shape:\", arr_398.shape)\n",
    "print(\"Sum:\", summed_398)\n",
    "print(\"Mean:\", meaned_398)\n",
    "print(\"Max:\", maxed_398)"
   ]
  },
  {
   "cell_type": "code",
   "execution_count": 399,
   "id": "a622db91",
   "metadata": {},
   "outputs": [
    {
     "name": "stdout",
     "output_type": "stream",
     "text": [
      "Cell 399 - Numpy\n",
      "Array shape: (399, 1)\n",
      "Sum: 21094199\n",
      "Mean: 52867.666666666664\n",
      "Max: 158404\n"
     ]
    }
   ],
   "source": [
    "import numpy as np\n",
    "\n",
    "arr_399 = np.arange(399).reshape(-1, 1)\n",
    "squared_399 = arr_399 ** 2\n",
    "summed_399 = np.sum(squared_399)\n",
    "meaned_399 = np.mean(squared_399)\n",
    "maxed_399 = np.max(squared_399)\n",
    "\n",
    "print(\"Cell 399 - Numpy\")\n",
    "print(\"Array shape:\", arr_399.shape)\n",
    "print(\"Sum:\", summed_399)\n",
    "print(\"Mean:\", meaned_399)\n",
    "print(\"Max:\", maxed_399)"
   ]
  },
  {
   "cell_type": "code",
   "execution_count": 400,
   "id": "b8fdad4f",
   "metadata": {},
   "outputs": [
    {
     "name": "stdout",
     "output_type": "stream",
     "text": [
      "Cell 400 - Numpy\n",
      "Array shape: (400, 1)\n",
      "Sum: 21253400\n",
      "Mean: 53133.5\n",
      "Max: 159201\n"
     ]
    }
   ],
   "source": [
    "import numpy as np\n",
    "\n",
    "arr_400 = np.arange(400).reshape(-1, 1)\n",
    "squared_400 = arr_400 ** 2\n",
    "summed_400 = np.sum(squared_400)\n",
    "meaned_400 = np.mean(squared_400)\n",
    "maxed_400 = np.max(squared_400)\n",
    "\n",
    "print(\"Cell 400 - Numpy\")\n",
    "print(\"Array shape:\", arr_400.shape)\n",
    "print(\"Sum:\", summed_400)\n",
    "print(\"Mean:\", meaned_400)\n",
    "print(\"Max:\", maxed_400)"
   ]
  },
  {
   "cell_type": "code",
   "execution_count": 401,
   "id": "78dedda4",
   "metadata": {},
   "outputs": [
    {
     "name": "stderr",
     "output_type": "stream",
     "text": [
      "\n",
      "A module that was compiled using NumPy 1.x cannot be run in\n",
      "NumPy 2.3.1 as it may crash. To support both 1.x and 2.x\n",
      "versions of NumPy, modules must be compiled with NumPy 2.0.\n",
      "Some module may need to rebuild instead e.g. with 'pybind11>=2.12'.\n",
      "\n",
      "If you are a user of the module, the easiest solution will be to\n",
      "downgrade to 'numpy<2' or try to upgrade the affected module.\n",
      "We expect that some modules will need time to support NumPy 2.\n",
      "\n",
      "Traceback (most recent call last):  File \"<frozen runpy>\", line 198, in _run_module_as_main\n",
      "  File \"<frozen runpy>\", line 88, in _run_code\n",
      "  File \"C:\\Users\\HP\\miniconda3\\envs\\py312\\Lib\\site-packages\\ipykernel_launcher.py\", line 18, in <module>\n",
      "    app.launch_new_instance()\n",
      "  File \"C:\\Users\\HP\\miniconda3\\envs\\py312\\Lib\\site-packages\\traitlets\\config\\application.py\", line 1075, in launch_instance\n",
      "    app.start()\n",
      "  File \"C:\\Users\\HP\\miniconda3\\envs\\py312\\Lib\\site-packages\\ipykernel\\kernelapp.py\", line 739, in start\n",
      "    self.io_loop.start()\n",
      "  File \"C:\\Users\\HP\\miniconda3\\envs\\py312\\Lib\\site-packages\\tornado\\platform\\asyncio.py\", line 211, in start\n",
      "    self.asyncio_loop.run_forever()\n",
      "  File \"C:\\Users\\HP\\miniconda3\\envs\\py312\\Lib\\asyncio\\base_events.py\", line 645, in run_forever\n",
      "    self._run_once()\n",
      "  File \"C:\\Users\\HP\\miniconda3\\envs\\py312\\Lib\\asyncio\\base_events.py\", line 1999, in _run_once\n",
      "    handle._run()\n",
      "  File \"C:\\Users\\HP\\miniconda3\\envs\\py312\\Lib\\asyncio\\events.py\", line 88, in _run\n",
      "    self._context.run(self._callback, *self._args)\n",
      "  File \"C:\\Users\\HP\\miniconda3\\envs\\py312\\Lib\\site-packages\\ipykernel\\kernelbase.py\", line 545, in dispatch_queue\n",
      "    await self.process_one()\n",
      "  File \"C:\\Users\\HP\\miniconda3\\envs\\py312\\Lib\\site-packages\\ipykernel\\kernelbase.py\", line 534, in process_one\n",
      "    await dispatch(*args)\n",
      "  File \"C:\\Users\\HP\\miniconda3\\envs\\py312\\Lib\\site-packages\\ipykernel\\kernelbase.py\", line 437, in dispatch_shell\n",
      "    await result\n",
      "  File \"C:\\Users\\HP\\miniconda3\\envs\\py312\\Lib\\site-packages\\ipykernel\\ipkernel.py\", line 362, in execute_request\n",
      "    await super().execute_request(stream, ident, parent)\n",
      "  File \"C:\\Users\\HP\\miniconda3\\envs\\py312\\Lib\\site-packages\\ipykernel\\kernelbase.py\", line 778, in execute_request\n",
      "    reply_content = await reply_content\n",
      "  File \"C:\\Users\\HP\\miniconda3\\envs\\py312\\Lib\\site-packages\\ipykernel\\ipkernel.py\", line 449, in do_execute\n",
      "    res = shell.run_cell(\n",
      "  File \"C:\\Users\\HP\\miniconda3\\envs\\py312\\Lib\\site-packages\\ipykernel\\zmqshell.py\", line 549, in run_cell\n",
      "    return super().run_cell(*args, **kwargs)\n",
      "  File \"C:\\Users\\HP\\miniconda3\\envs\\py312\\Lib\\site-packages\\IPython\\core\\interactiveshell.py\", line 3100, in run_cell\n",
      "    result = self._run_cell(\n",
      "  File \"C:\\Users\\HP\\miniconda3\\envs\\py312\\Lib\\site-packages\\IPython\\core\\interactiveshell.py\", line 3155, in _run_cell\n",
      "    result = runner(coro)\n",
      "  File \"C:\\Users\\HP\\miniconda3\\envs\\py312\\Lib\\site-packages\\IPython\\core\\async_helpers.py\", line 128, in _pseudo_sync_runner\n",
      "    coro.send(None)\n",
      "  File \"C:\\Users\\HP\\miniconda3\\envs\\py312\\Lib\\site-packages\\IPython\\core\\interactiveshell.py\", line 3367, in run_cell_async\n",
      "    has_raised = await self.run_ast_nodes(code_ast.body, cell_name,\n",
      "  File \"C:\\Users\\HP\\miniconda3\\envs\\py312\\Lib\\site-packages\\IPython\\core\\interactiveshell.py\", line 3612, in run_ast_nodes\n",
      "    if await self.run_code(code, result, async_=asy):\n",
      "  File \"C:\\Users\\HP\\miniconda3\\envs\\py312\\Lib\\site-packages\\IPython\\core\\interactiveshell.py\", line 3672, in run_code\n",
      "    exec(code_obj, self.user_global_ns, self.user_ns)\n",
      "  File \"C:\\Users\\HP\\AppData\\Local\\Temp\\ipykernel_21384\\876432070.py\", line 1, in <module>\n",
      "    import tensorflow as tf\n",
      "  File \"C:\\Users\\HP\\AppData\\Roaming\\Python\\Python312\\site-packages\\tensorflow\\__init__.py\", line 47, in <module>\n",
      "    from tensorflow._api.v2 import __internal__\n",
      "  File \"C:\\Users\\HP\\AppData\\Roaming\\Python\\Python312\\site-packages\\tensorflow\\_api\\v2\\__internal__\\__init__.py\", line 8, in <module>\n",
      "    from tensorflow._api.v2.__internal__ import autograph\n",
      "  File \"C:\\Users\\HP\\AppData\\Roaming\\Python\\Python312\\site-packages\\tensorflow\\_api\\v2\\__internal__\\autograph\\__init__.py\", line 8, in <module>\n",
      "    from tensorflow.python.autograph.core.ag_ctx import control_status_ctx # line: 34\n",
      "  File \"C:\\Users\\HP\\AppData\\Roaming\\Python\\Python312\\site-packages\\tensorflow\\python\\autograph\\core\\ag_ctx.py\", line 21, in <module>\n",
      "    from tensorflow.python.autograph.utils import ag_logging\n",
      "  File \"C:\\Users\\HP\\AppData\\Roaming\\Python\\Python312\\site-packages\\tensorflow\\python\\autograph\\utils\\__init__.py\", line 17, in <module>\n",
      "    from tensorflow.python.autograph.utils.context_managers import control_dependency_on_returns\n",
      "  File \"C:\\Users\\HP\\AppData\\Roaming\\Python\\Python312\\site-packages\\tensorflow\\python\\autograph\\utils\\context_managers.py\", line 19, in <module>\n",
      "    from tensorflow.python.framework import ops\n",
      "  File \"C:\\Users\\HP\\AppData\\Roaming\\Python\\Python312\\site-packages\\tensorflow\\python\\framework\\ops.py\", line 46, in <module>\n",
      "    from tensorflow.python import pywrap_tfe\n",
      "  File \"C:\\Users\\HP\\AppData\\Roaming\\Python\\Python312\\site-packages\\tensorflow\\python\\pywrap_tfe.py\", line 25, in <module>\n",
      "    from tensorflow.python._pywrap_tfe import *\n"
     ]
    },
    {
     "ename": "ImportError",
     "evalue": "\nA module that was compiled using NumPy 1.x cannot be run in\nNumPy 2.3.1 as it may crash. To support both 1.x and 2.x\nversions of NumPy, modules must be compiled with NumPy 2.0.\nSome module may need to rebuild instead e.g. with 'pybind11>=2.12'.\n\nIf you are a user of the module, the easiest solution will be to\ndowngrade to 'numpy<2' or try to upgrade the affected module.\nWe expect that some modules will need time to support NumPy 2.\n\n",
     "output_type": "error",
     "traceback": [
      "\u001b[31m---------------------------------------------------------------------------\u001b[39m",
      "\u001b[31mImportError\u001b[39m                               Traceback (most recent call last)",
      "\u001b[36mFile \u001b[39m\u001b[32m~\\miniconda3\\envs\\py312\\Lib\\site-packages\\numpy\\core\\_multiarray_umath.py:46\u001b[39m, in \u001b[36m__getattr__\u001b[39m\u001b[34m(attr_name)\u001b[39m\n\u001b[32m     41\u001b[39m     \u001b[38;5;66;03m# Also print the message (with traceback).  This is because old versions\u001b[39;00m\n\u001b[32m     42\u001b[39m     \u001b[38;5;66;03m# of NumPy unfortunately set up the import to replace (and hide) the\u001b[39;00m\n\u001b[32m     43\u001b[39m     \u001b[38;5;66;03m# error.  The traceback shouldn't be needed, but e.g. pytest plugins\u001b[39;00m\n\u001b[32m     44\u001b[39m     \u001b[38;5;66;03m# seem to swallow it and we should be failing anyway...\u001b[39;00m\n\u001b[32m     45\u001b[39m     sys.stderr.write(msg + tb_msg)\n\u001b[32m---> \u001b[39m\u001b[32m46\u001b[39m     \u001b[38;5;28;01mraise\u001b[39;00m \u001b[38;5;167;01mImportError\u001b[39;00m(msg)\n\u001b[32m     48\u001b[39m ret = \u001b[38;5;28mgetattr\u001b[39m(_multiarray_umath, attr_name, \u001b[38;5;28;01mNone\u001b[39;00m)\n\u001b[32m     49\u001b[39m \u001b[38;5;28;01mif\u001b[39;00m ret \u001b[38;5;129;01mis\u001b[39;00m \u001b[38;5;28;01mNone\u001b[39;00m:\n",
      "\u001b[31mImportError\u001b[39m: \nA module that was compiled using NumPy 1.x cannot be run in\nNumPy 2.3.1 as it may crash. To support both 1.x and 2.x\nversions of NumPy, modules must be compiled with NumPy 2.0.\nSome module may need to rebuild instead e.g. with 'pybind11>=2.12'.\n\nIf you are a user of the module, the easiest solution will be to\ndowngrade to 'numpy<2' or try to upgrade the affected module.\nWe expect that some modules will need time to support NumPy 2.\n\n"
     ]
    },
    {
     "ename": "AttributeError",
     "evalue": "'MessageFactory' object has no attribute 'GetPrototype'",
     "output_type": "error",
     "traceback": [
      "\u001b[31m---------------------------------------------------------------------------\u001b[39m",
      "\u001b[31mAttributeError\u001b[39m                            Traceback (most recent call last)",
      "\u001b[31mAttributeError\u001b[39m: 'MessageFactory' object has no attribute 'GetPrototype'"
     ]
    },
    {
     "name": "stderr",
     "output_type": "stream",
     "text": [
      "\n",
      "A module that was compiled using NumPy 1.x cannot be run in\n",
      "NumPy 2.3.1 as it may crash. To support both 1.x and 2.x\n",
      "versions of NumPy, modules must be compiled with NumPy 2.0.\n",
      "Some module may need to rebuild instead e.g. with 'pybind11>=2.12'.\n",
      "\n",
      "If you are a user of the module, the easiest solution will be to\n",
      "downgrade to 'numpy<2' or try to upgrade the affected module.\n",
      "We expect that some modules will need time to support NumPy 2.\n",
      "\n",
      "Traceback (most recent call last):  File \"<frozen runpy>\", line 198, in _run_module_as_main\n",
      "  File \"<frozen runpy>\", line 88, in _run_code\n",
      "  File \"C:\\Users\\HP\\miniconda3\\envs\\py312\\Lib\\site-packages\\ipykernel_launcher.py\", line 18, in <module>\n",
      "    app.launch_new_instance()\n",
      "  File \"C:\\Users\\HP\\miniconda3\\envs\\py312\\Lib\\site-packages\\traitlets\\config\\application.py\", line 1075, in launch_instance\n",
      "    app.start()\n",
      "  File \"C:\\Users\\HP\\miniconda3\\envs\\py312\\Lib\\site-packages\\ipykernel\\kernelapp.py\", line 739, in start\n",
      "    self.io_loop.start()\n",
      "  File \"C:\\Users\\HP\\miniconda3\\envs\\py312\\Lib\\site-packages\\tornado\\platform\\asyncio.py\", line 211, in start\n",
      "    self.asyncio_loop.run_forever()\n",
      "  File \"C:\\Users\\HP\\miniconda3\\envs\\py312\\Lib\\asyncio\\base_events.py\", line 645, in run_forever\n",
      "    self._run_once()\n",
      "  File \"C:\\Users\\HP\\miniconda3\\envs\\py312\\Lib\\asyncio\\base_events.py\", line 1999, in _run_once\n",
      "    handle._run()\n",
      "  File \"C:\\Users\\HP\\miniconda3\\envs\\py312\\Lib\\asyncio\\events.py\", line 88, in _run\n",
      "    self._context.run(self._callback, *self._args)\n",
      "  File \"C:\\Users\\HP\\miniconda3\\envs\\py312\\Lib\\site-packages\\ipykernel\\kernelbase.py\", line 545, in dispatch_queue\n",
      "    await self.process_one()\n",
      "  File \"C:\\Users\\HP\\miniconda3\\envs\\py312\\Lib\\site-packages\\ipykernel\\kernelbase.py\", line 534, in process_one\n",
      "    await dispatch(*args)\n",
      "  File \"C:\\Users\\HP\\miniconda3\\envs\\py312\\Lib\\site-packages\\ipykernel\\kernelbase.py\", line 437, in dispatch_shell\n",
      "    await result\n",
      "  File \"C:\\Users\\HP\\miniconda3\\envs\\py312\\Lib\\site-packages\\ipykernel\\ipkernel.py\", line 362, in execute_request\n",
      "    await super().execute_request(stream, ident, parent)\n",
      "  File \"C:\\Users\\HP\\miniconda3\\envs\\py312\\Lib\\site-packages\\ipykernel\\kernelbase.py\", line 778, in execute_request\n",
      "    reply_content = await reply_content\n",
      "  File \"C:\\Users\\HP\\miniconda3\\envs\\py312\\Lib\\site-packages\\ipykernel\\ipkernel.py\", line 449, in do_execute\n",
      "    res = shell.run_cell(\n",
      "  File \"C:\\Users\\HP\\miniconda3\\envs\\py312\\Lib\\site-packages\\ipykernel\\zmqshell.py\", line 549, in run_cell\n",
      "    return super().run_cell(*args, **kwargs)\n",
      "  File \"C:\\Users\\HP\\miniconda3\\envs\\py312\\Lib\\site-packages\\IPython\\core\\interactiveshell.py\", line 3100, in run_cell\n",
      "    result = self._run_cell(\n",
      "  File \"C:\\Users\\HP\\miniconda3\\envs\\py312\\Lib\\site-packages\\IPython\\core\\interactiveshell.py\", line 3155, in _run_cell\n",
      "    result = runner(coro)\n",
      "  File \"C:\\Users\\HP\\miniconda3\\envs\\py312\\Lib\\site-packages\\IPython\\core\\async_helpers.py\", line 128, in _pseudo_sync_runner\n",
      "    coro.send(None)\n",
      "  File \"C:\\Users\\HP\\miniconda3\\envs\\py312\\Lib\\site-packages\\IPython\\core\\interactiveshell.py\", line 3367, in run_cell_async\n",
      "    has_raised = await self.run_ast_nodes(code_ast.body, cell_name,\n",
      "  File \"C:\\Users\\HP\\miniconda3\\envs\\py312\\Lib\\site-packages\\IPython\\core\\interactiveshell.py\", line 3612, in run_ast_nodes\n",
      "    if await self.run_code(code, result, async_=asy):\n",
      "  File \"C:\\Users\\HP\\miniconda3\\envs\\py312\\Lib\\site-packages\\IPython\\core\\interactiveshell.py\", line 3672, in run_code\n",
      "    exec(code_obj, self.user_global_ns, self.user_ns)\n",
      "  File \"C:\\Users\\HP\\AppData\\Local\\Temp\\ipykernel_21384\\876432070.py\", line 1, in <module>\n",
      "    import tensorflow as tf\n",
      "  File \"C:\\Users\\HP\\AppData\\Roaming\\Python\\Python312\\site-packages\\tensorflow\\__init__.py\", line 47, in <module>\n",
      "    from tensorflow._api.v2 import __internal__\n",
      "  File \"C:\\Users\\HP\\AppData\\Roaming\\Python\\Python312\\site-packages\\tensorflow\\_api\\v2\\__internal__\\__init__.py\", line 8, in <module>\n",
      "    from tensorflow._api.v2.__internal__ import autograph\n",
      "  File \"C:\\Users\\HP\\AppData\\Roaming\\Python\\Python312\\site-packages\\tensorflow\\_api\\v2\\__internal__\\autograph\\__init__.py\", line 8, in <module>\n",
      "    from tensorflow.python.autograph.core.ag_ctx import control_status_ctx # line: 34\n",
      "  File \"C:\\Users\\HP\\AppData\\Roaming\\Python\\Python312\\site-packages\\tensorflow\\python\\autograph\\core\\ag_ctx.py\", line 21, in <module>\n",
      "    from tensorflow.python.autograph.utils import ag_logging\n",
      "  File \"C:\\Users\\HP\\AppData\\Roaming\\Python\\Python312\\site-packages\\tensorflow\\python\\autograph\\utils\\__init__.py\", line 17, in <module>\n",
      "    from tensorflow.python.autograph.utils.context_managers import control_dependency_on_returns\n",
      "  File \"C:\\Users\\HP\\AppData\\Roaming\\Python\\Python312\\site-packages\\tensorflow\\python\\autograph\\utils\\context_managers.py\", line 19, in <module>\n",
      "    from tensorflow.python.framework import ops\n",
      "  File \"C:\\Users\\HP\\AppData\\Roaming\\Python\\Python312\\site-packages\\tensorflow\\python\\framework\\ops.py\", line 49, in <module>\n",
      "    from tensorflow.python.client import pywrap_tf_session\n",
      "  File \"C:\\Users\\HP\\AppData\\Roaming\\Python\\Python312\\site-packages\\tensorflow\\python\\client\\pywrap_tf_session.py\", line 19, in <module>\n",
      "    from tensorflow.python.client._pywrap_tf_session import *\n"
     ]
    },
    {
     "ename": "ImportError",
     "evalue": "\nA module that was compiled using NumPy 1.x cannot be run in\nNumPy 2.3.1 as it may crash. To support both 1.x and 2.x\nversions of NumPy, modules must be compiled with NumPy 2.0.\nSome module may need to rebuild instead e.g. with 'pybind11>=2.12'.\n\nIf you are a user of the module, the easiest solution will be to\ndowngrade to 'numpy<2' or try to upgrade the affected module.\nWe expect that some modules will need time to support NumPy 2.\n\n",
     "output_type": "error",
     "traceback": [
      "\u001b[31m---------------------------------------------------------------------------\u001b[39m",
      "\u001b[31mImportError\u001b[39m                               Traceback (most recent call last)",
      "\u001b[36mFile \u001b[39m\u001b[32m~\\miniconda3\\envs\\py312\\Lib\\site-packages\\numpy\\core\\_multiarray_umath.py:46\u001b[39m, in \u001b[36m__getattr__\u001b[39m\u001b[34m(attr_name)\u001b[39m\n\u001b[32m     41\u001b[39m     \u001b[38;5;66;03m# Also print the message (with traceback).  This is because old versions\u001b[39;00m\n\u001b[32m     42\u001b[39m     \u001b[38;5;66;03m# of NumPy unfortunately set up the import to replace (and hide) the\u001b[39;00m\n\u001b[32m     43\u001b[39m     \u001b[38;5;66;03m# error.  The traceback shouldn't be needed, but e.g. pytest plugins\u001b[39;00m\n\u001b[32m     44\u001b[39m     \u001b[38;5;66;03m# seem to swallow it and we should be failing anyway...\u001b[39;00m\n\u001b[32m     45\u001b[39m     sys.stderr.write(msg + tb_msg)\n\u001b[32m---> \u001b[39m\u001b[32m46\u001b[39m     \u001b[38;5;28;01mraise\u001b[39;00m \u001b[38;5;167;01mImportError\u001b[39;00m(msg)\n\u001b[32m     48\u001b[39m ret = \u001b[38;5;28mgetattr\u001b[39m(_multiarray_umath, attr_name, \u001b[38;5;28;01mNone\u001b[39;00m)\n\u001b[32m     49\u001b[39m \u001b[38;5;28;01mif\u001b[39;00m ret \u001b[38;5;129;01mis\u001b[39;00m \u001b[38;5;28;01mNone\u001b[39;00m:\n",
      "\u001b[31mImportError\u001b[39m: \nA module that was compiled using NumPy 1.x cannot be run in\nNumPy 2.3.1 as it may crash. To support both 1.x and 2.x\nversions of NumPy, modules must be compiled with NumPy 2.0.\nSome module may need to rebuild instead e.g. with 'pybind11>=2.12'.\n\nIf you are a user of the module, the easiest solution will be to\ndowngrade to 'numpy<2' or try to upgrade the affected module.\nWe expect that some modules will need time to support NumPy 2.\n\n"
     ]
    },
    {
     "ename": "ModuleNotFoundError",
     "evalue": "No module named 'ml_dtypes'",
     "output_type": "error",
     "traceback": [
      "\u001b[31m---------------------------------------------------------------------------\u001b[39m",
      "\u001b[31mModuleNotFoundError\u001b[39m                       Traceback (most recent call last)",
      "\u001b[36mCell\u001b[39m\u001b[36m \u001b[39m\u001b[32mIn[401]\u001b[39m\u001b[32m, line 1\u001b[39m\n\u001b[32m----> \u001b[39m\u001b[32m1\u001b[39m \u001b[38;5;28;01mimport\u001b[39;00m\u001b[38;5;250m \u001b[39m\u001b[34;01mtensorflow\u001b[39;00m\u001b[38;5;250m \u001b[39m\u001b[38;5;28;01mas\u001b[39;00m\u001b[38;5;250m \u001b[39m\u001b[34;01mtf\u001b[39;00m\n\u001b[32m      3\u001b[39m tensor_401 = tf.constant(\u001b[38;5;28mlist\u001b[39m(\u001b[38;5;28mrange\u001b[39m(\u001b[32m401\u001b[39m)), dtype=tf.float32)\n\u001b[32m      4\u001b[39m tensor_squared_401 = tf.square(tensor_401)\n",
      "\u001b[36mFile \u001b[39m\u001b[32m~\\AppData\\Roaming\\Python\\Python312\\site-packages\\tensorflow\\__init__.py:47\u001b[39m\n\u001b[32m     44\u001b[39m \u001b[38;5;28;01mfrom\u001b[39;00m\u001b[38;5;250m \u001b[39m\u001b[34;01mtensorflow\u001b[39;00m\u001b[34;01m.\u001b[39;00m\u001b[34;01mpython\u001b[39;00m\u001b[38;5;250m \u001b[39m\u001b[38;5;28;01mimport\u001b[39;00m tf2 \u001b[38;5;28;01mas\u001b[39;00m _tf2\n\u001b[32m     45\u001b[39m _tf2.enable()\n\u001b[32m---> \u001b[39m\u001b[32m47\u001b[39m \u001b[38;5;28;01mfrom\u001b[39;00m\u001b[38;5;250m \u001b[39m\u001b[34;01mtensorflow\u001b[39;00m\u001b[34;01m.\u001b[39;00m\u001b[34;01m_api\u001b[39;00m\u001b[34;01m.\u001b[39;00m\u001b[34;01mv2\u001b[39;00m\u001b[38;5;250m \u001b[39m\u001b[38;5;28;01mimport\u001b[39;00m __internal__\n\u001b[32m     48\u001b[39m \u001b[38;5;28;01mfrom\u001b[39;00m\u001b[38;5;250m \u001b[39m\u001b[34;01mtensorflow\u001b[39;00m\u001b[34;01m.\u001b[39;00m\u001b[34;01m_api\u001b[39;00m\u001b[34;01m.\u001b[39;00m\u001b[34;01mv2\u001b[39;00m\u001b[38;5;250m \u001b[39m\u001b[38;5;28;01mimport\u001b[39;00m __operators__\n\u001b[32m     49\u001b[39m \u001b[38;5;28;01mfrom\u001b[39;00m\u001b[38;5;250m \u001b[39m\u001b[34;01mtensorflow\u001b[39;00m\u001b[34;01m.\u001b[39;00m\u001b[34;01m_api\u001b[39;00m\u001b[34;01m.\u001b[39;00m\u001b[34;01mv2\u001b[39;00m\u001b[38;5;250m \u001b[39m\u001b[38;5;28;01mimport\u001b[39;00m audio\n",
      "\u001b[36mFile \u001b[39m\u001b[32m~\\AppData\\Roaming\\Python\\Python312\\site-packages\\tensorflow\\_api\\v2\\__internal__\\__init__.py:8\u001b[39m\n\u001b[32m      3\u001b[39m \u001b[33;03m\"\"\"Public API for tf._api.v2.__internal__ namespace\u001b[39;00m\n\u001b[32m      4\u001b[39m \u001b[33;03m\"\"\"\u001b[39;00m\n\u001b[32m      6\u001b[39m \u001b[38;5;28;01mimport\u001b[39;00m\u001b[38;5;250m \u001b[39m\u001b[34;01msys\u001b[39;00m\u001b[38;5;250m \u001b[39m\u001b[38;5;28;01mas\u001b[39;00m\u001b[38;5;250m \u001b[39m\u001b[34;01m_sys\u001b[39;00m\n\u001b[32m----> \u001b[39m\u001b[32m8\u001b[39m \u001b[38;5;28;01mfrom\u001b[39;00m\u001b[38;5;250m \u001b[39m\u001b[34;01mtensorflow\u001b[39;00m\u001b[34;01m.\u001b[39;00m\u001b[34;01m_api\u001b[39;00m\u001b[34;01m.\u001b[39;00m\u001b[34;01mv2\u001b[39;00m\u001b[34;01m.\u001b[39;00m\u001b[34;01m__internal__\u001b[39;00m\u001b[38;5;250m \u001b[39m\u001b[38;5;28;01mimport\u001b[39;00m autograph\n\u001b[32m      9\u001b[39m \u001b[38;5;28;01mfrom\u001b[39;00m\u001b[38;5;250m \u001b[39m\u001b[34;01mtensorflow\u001b[39;00m\u001b[34;01m.\u001b[39;00m\u001b[34;01m_api\u001b[39;00m\u001b[34;01m.\u001b[39;00m\u001b[34;01mv2\u001b[39;00m\u001b[34;01m.\u001b[39;00m\u001b[34;01m__internal__\u001b[39;00m\u001b[38;5;250m \u001b[39m\u001b[38;5;28;01mimport\u001b[39;00m decorator\n\u001b[32m     10\u001b[39m \u001b[38;5;28;01mfrom\u001b[39;00m\u001b[38;5;250m \u001b[39m\u001b[34;01mtensorflow\u001b[39;00m\u001b[34;01m.\u001b[39;00m\u001b[34;01m_api\u001b[39;00m\u001b[34;01m.\u001b[39;00m\u001b[34;01mv2\u001b[39;00m\u001b[34;01m.\u001b[39;00m\u001b[34;01m__internal__\u001b[39;00m\u001b[38;5;250m \u001b[39m\u001b[38;5;28;01mimport\u001b[39;00m dispatch\n",
      "\u001b[36mFile \u001b[39m\u001b[32m~\\AppData\\Roaming\\Python\\Python312\\site-packages\\tensorflow\\_api\\v2\\__internal__\\autograph\\__init__.py:8\u001b[39m\n\u001b[32m      3\u001b[39m \u001b[33;03m\"\"\"Public API for tf._api.v2.__internal__.autograph namespace\u001b[39;00m\n\u001b[32m      4\u001b[39m \u001b[33;03m\"\"\"\u001b[39;00m\n\u001b[32m      6\u001b[39m \u001b[38;5;28;01mimport\u001b[39;00m\u001b[38;5;250m \u001b[39m\u001b[34;01msys\u001b[39;00m\u001b[38;5;250m \u001b[39m\u001b[38;5;28;01mas\u001b[39;00m\u001b[38;5;250m \u001b[39m\u001b[34;01m_sys\u001b[39;00m\n\u001b[32m----> \u001b[39m\u001b[32m8\u001b[39m \u001b[38;5;28;01mfrom\u001b[39;00m\u001b[38;5;250m \u001b[39m\u001b[34;01mtensorflow\u001b[39;00m\u001b[34;01m.\u001b[39;00m\u001b[34;01mpython\u001b[39;00m\u001b[34;01m.\u001b[39;00m\u001b[34;01mautograph\u001b[39;00m\u001b[34;01m.\u001b[39;00m\u001b[34;01mcore\u001b[39;00m\u001b[34;01m.\u001b[39;00m\u001b[34;01mag_ctx\u001b[39;00m\u001b[38;5;250m \u001b[39m\u001b[38;5;28;01mimport\u001b[39;00m control_status_ctx \u001b[38;5;66;03m# line: 34\u001b[39;00m\n\u001b[32m      9\u001b[39m \u001b[38;5;28;01mfrom\u001b[39;00m\u001b[38;5;250m \u001b[39m\u001b[34;01mtensorflow\u001b[39;00m\u001b[34;01m.\u001b[39;00m\u001b[34;01mpython\u001b[39;00m\u001b[34;01m.\u001b[39;00m\u001b[34;01mautograph\u001b[39;00m\u001b[34;01m.\u001b[39;00m\u001b[34;01mimpl\u001b[39;00m\u001b[34;01m.\u001b[39;00m\u001b[34;01mapi\u001b[39;00m\u001b[38;5;250m \u001b[39m\u001b[38;5;28;01mimport\u001b[39;00m tf_convert \u001b[38;5;66;03m# line: 493\u001b[39;00m\n",
      "\u001b[36mFile \u001b[39m\u001b[32m~\\AppData\\Roaming\\Python\\Python312\\site-packages\\tensorflow\\python\\autograph\\core\\ag_ctx.py:21\u001b[39m\n\u001b[32m     18\u001b[39m \u001b[38;5;28;01mimport\u001b[39;00m\u001b[38;5;250m \u001b[39m\u001b[34;01minspect\u001b[39;00m\n\u001b[32m     19\u001b[39m \u001b[38;5;28;01mimport\u001b[39;00m\u001b[38;5;250m \u001b[39m\u001b[34;01mthreading\u001b[39;00m\n\u001b[32m---> \u001b[39m\u001b[32m21\u001b[39m \u001b[38;5;28;01mfrom\u001b[39;00m\u001b[38;5;250m \u001b[39m\u001b[34;01mtensorflow\u001b[39;00m\u001b[34;01m.\u001b[39;00m\u001b[34;01mpython\u001b[39;00m\u001b[34;01m.\u001b[39;00m\u001b[34;01mautograph\u001b[39;00m\u001b[34;01m.\u001b[39;00m\u001b[34;01mutils\u001b[39;00m\u001b[38;5;250m \u001b[39m\u001b[38;5;28;01mimport\u001b[39;00m ag_logging\n\u001b[32m     22\u001b[39m \u001b[38;5;28;01mfrom\u001b[39;00m\u001b[38;5;250m \u001b[39m\u001b[34;01mtensorflow\u001b[39;00m\u001b[34;01m.\u001b[39;00m\u001b[34;01mpython\u001b[39;00m\u001b[34;01m.\u001b[39;00m\u001b[34;01mutil\u001b[39;00m\u001b[34;01m.\u001b[39;00m\u001b[34;01mtf_export\u001b[39;00m\u001b[38;5;250m \u001b[39m\u001b[38;5;28;01mimport\u001b[39;00m tf_export\n\u001b[32m     25\u001b[39m stacks = threading.local()\n",
      "\u001b[36mFile \u001b[39m\u001b[32m~\\AppData\\Roaming\\Python\\Python312\\site-packages\\tensorflow\\python\\autograph\\utils\\__init__.py:17\u001b[39m\n\u001b[32m      1\u001b[39m \u001b[38;5;66;03m# Copyright 2016 The TensorFlow Authors. All Rights Reserved.\u001b[39;00m\n\u001b[32m      2\u001b[39m \u001b[38;5;66;03m#\u001b[39;00m\n\u001b[32m      3\u001b[39m \u001b[38;5;66;03m# Licensed under the Apache License, Version 2.0 (the \"License\");\u001b[39;00m\n\u001b[32m   (...)\u001b[39m\u001b[32m     13\u001b[39m \u001b[38;5;66;03m# limitations under the License.\u001b[39;00m\n\u001b[32m     14\u001b[39m \u001b[38;5;66;03m# ==============================================================================\u001b[39;00m\n\u001b[32m     15\u001b[39m \u001b[33;03m\"\"\"Utility module that contains APIs usable in the generated code.\"\"\"\u001b[39;00m\n\u001b[32m---> \u001b[39m\u001b[32m17\u001b[39m \u001b[38;5;28;01mfrom\u001b[39;00m\u001b[38;5;250m \u001b[39m\u001b[34;01mtensorflow\u001b[39;00m\u001b[34;01m.\u001b[39;00m\u001b[34;01mpython\u001b[39;00m\u001b[34;01m.\u001b[39;00m\u001b[34;01mautograph\u001b[39;00m\u001b[34;01m.\u001b[39;00m\u001b[34;01mutils\u001b[39;00m\u001b[34;01m.\u001b[39;00m\u001b[34;01mcontext_managers\u001b[39;00m\u001b[38;5;250m \u001b[39m\u001b[38;5;28;01mimport\u001b[39;00m control_dependency_on_returns\n\u001b[32m     18\u001b[39m \u001b[38;5;28;01mfrom\u001b[39;00m\u001b[38;5;250m \u001b[39m\u001b[34;01mtensorflow\u001b[39;00m\u001b[34;01m.\u001b[39;00m\u001b[34;01mpython\u001b[39;00m\u001b[34;01m.\u001b[39;00m\u001b[34;01mautograph\u001b[39;00m\u001b[34;01m.\u001b[39;00m\u001b[34;01mutils\u001b[39;00m\u001b[34;01m.\u001b[39;00m\u001b[34;01mmisc\u001b[39;00m\u001b[38;5;250m \u001b[39m\u001b[38;5;28;01mimport\u001b[39;00m alias_tensors\n\u001b[32m     19\u001b[39m \u001b[38;5;28;01mfrom\u001b[39;00m\u001b[38;5;250m \u001b[39m\u001b[34;01mtensorflow\u001b[39;00m\u001b[34;01m.\u001b[39;00m\u001b[34;01mpython\u001b[39;00m\u001b[34;01m.\u001b[39;00m\u001b[34;01mautograph\u001b[39;00m\u001b[34;01m.\u001b[39;00m\u001b[34;01mutils\u001b[39;00m\u001b[34;01m.\u001b[39;00m\u001b[34;01mtensor_list\u001b[39;00m\u001b[38;5;250m \u001b[39m\u001b[38;5;28;01mimport\u001b[39;00m dynamic_list_append\n",
      "\u001b[36mFile \u001b[39m\u001b[32m~\\AppData\\Roaming\\Python\\Python312\\site-packages\\tensorflow\\python\\autograph\\utils\\context_managers.py:19\u001b[39m\n\u001b[32m     15\u001b[39m \u001b[33;03m\"\"\"Various context managers.\"\"\"\u001b[39;00m\n\u001b[32m     17\u001b[39m \u001b[38;5;28;01mimport\u001b[39;00m\u001b[38;5;250m \u001b[39m\u001b[34;01mcontextlib\u001b[39;00m\n\u001b[32m---> \u001b[39m\u001b[32m19\u001b[39m \u001b[38;5;28;01mfrom\u001b[39;00m\u001b[38;5;250m \u001b[39m\u001b[34;01mtensorflow\u001b[39;00m\u001b[34;01m.\u001b[39;00m\u001b[34;01mpython\u001b[39;00m\u001b[34;01m.\u001b[39;00m\u001b[34;01mframework\u001b[39;00m\u001b[38;5;250m \u001b[39m\u001b[38;5;28;01mimport\u001b[39;00m ops\n\u001b[32m     20\u001b[39m \u001b[38;5;28;01mfrom\u001b[39;00m\u001b[38;5;250m \u001b[39m\u001b[34;01mtensorflow\u001b[39;00m\u001b[34;01m.\u001b[39;00m\u001b[34;01mpython\u001b[39;00m\u001b[34;01m.\u001b[39;00m\u001b[34;01mops\u001b[39;00m\u001b[38;5;250m \u001b[39m\u001b[38;5;28;01mimport\u001b[39;00m tensor_array_ops\n\u001b[32m     23\u001b[39m \u001b[38;5;28;01mdef\u001b[39;00m\u001b[38;5;250m \u001b[39m\u001b[34mcontrol_dependency_on_returns\u001b[39m(return_value):\n",
      "\u001b[36mFile \u001b[39m\u001b[32m~\\AppData\\Roaming\\Python\\Python312\\site-packages\\tensorflow\\python\\framework\\ops.py:50\u001b[39m\n\u001b[32m     48\u001b[39m \u001b[38;5;28;01mfrom\u001b[39;00m\u001b[38;5;250m \u001b[39m\u001b[34;01mtensorflow\u001b[39;00m\u001b[34;01m.\u001b[39;00m\u001b[34;01mpython\u001b[39;00m\u001b[38;5;250m \u001b[39m\u001b[38;5;28;01mimport\u001b[39;00m tf2\n\u001b[32m     49\u001b[39m \u001b[38;5;28;01mfrom\u001b[39;00m\u001b[38;5;250m \u001b[39m\u001b[34;01mtensorflow\u001b[39;00m\u001b[34;01m.\u001b[39;00m\u001b[34;01mpython\u001b[39;00m\u001b[34;01m.\u001b[39;00m\u001b[34;01mclient\u001b[39;00m\u001b[38;5;250m \u001b[39m\u001b[38;5;28;01mimport\u001b[39;00m pywrap_tf_session\n\u001b[32m---> \u001b[39m\u001b[32m50\u001b[39m \u001b[38;5;28;01mfrom\u001b[39;00m\u001b[38;5;250m \u001b[39m\u001b[34;01mtensorflow\u001b[39;00m\u001b[34;01m.\u001b[39;00m\u001b[34;01mpython\u001b[39;00m\u001b[34;01m.\u001b[39;00m\u001b[34;01meager\u001b[39;00m\u001b[38;5;250m \u001b[39m\u001b[38;5;28;01mimport\u001b[39;00m context\n\u001b[32m     51\u001b[39m \u001b[38;5;28;01mfrom\u001b[39;00m\u001b[38;5;250m \u001b[39m\u001b[34;01mtensorflow\u001b[39;00m\u001b[34;01m.\u001b[39;00m\u001b[34;01mpython\u001b[39;00m\u001b[34;01m.\u001b[39;00m\u001b[34;01meager\u001b[39;00m\u001b[38;5;250m \u001b[39m\u001b[38;5;28;01mimport\u001b[39;00m core\n\u001b[32m     52\u001b[39m \u001b[38;5;28;01mfrom\u001b[39;00m\u001b[38;5;250m \u001b[39m\u001b[34;01mtensorflow\u001b[39;00m\u001b[34;01m.\u001b[39;00m\u001b[34;01mpython\u001b[39;00m\u001b[34;01m.\u001b[39;00m\u001b[34;01meager\u001b[39;00m\u001b[38;5;250m \u001b[39m\u001b[38;5;28;01mimport\u001b[39;00m monitoring\n",
      "\u001b[36mFile \u001b[39m\u001b[32m~\\AppData\\Roaming\\Python\\Python312\\site-packages\\tensorflow\\python\\eager\\context.py:37\u001b[39m\n\u001b[32m     35\u001b[39m \u001b[38;5;28;01mfrom\u001b[39;00m\u001b[38;5;250m \u001b[39m\u001b[34;01mtensorflow\u001b[39;00m\u001b[34;01m.\u001b[39;00m\u001b[34;01mpython\u001b[39;00m\u001b[34;01m.\u001b[39;00m\u001b[34;01mclient\u001b[39;00m\u001b[38;5;250m \u001b[39m\u001b[38;5;28;01mimport\u001b[39;00m pywrap_tf_session\n\u001b[32m     36\u001b[39m \u001b[38;5;28;01mfrom\u001b[39;00m\u001b[38;5;250m \u001b[39m\u001b[34;01mtensorflow\u001b[39;00m\u001b[34;01m.\u001b[39;00m\u001b[34;01mpython\u001b[39;00m\u001b[34;01m.\u001b[39;00m\u001b[34;01meager\u001b[39;00m\u001b[38;5;250m \u001b[39m\u001b[38;5;28;01mimport\u001b[39;00m cancellation\n\u001b[32m---> \u001b[39m\u001b[32m37\u001b[39m \u001b[38;5;28;01mfrom\u001b[39;00m\u001b[38;5;250m \u001b[39m\u001b[34;01mtensorflow\u001b[39;00m\u001b[34;01m.\u001b[39;00m\u001b[34;01mpython\u001b[39;00m\u001b[34;01m.\u001b[39;00m\u001b[34;01meager\u001b[39;00m\u001b[38;5;250m \u001b[39m\u001b[38;5;28;01mimport\u001b[39;00m execute\n\u001b[32m     38\u001b[39m \u001b[38;5;28;01mfrom\u001b[39;00m\u001b[38;5;250m \u001b[39m\u001b[34;01mtensorflow\u001b[39;00m\u001b[34;01m.\u001b[39;00m\u001b[34;01mpython\u001b[39;00m\u001b[34;01m.\u001b[39;00m\u001b[34;01meager\u001b[39;00m\u001b[38;5;250m \u001b[39m\u001b[38;5;28;01mimport\u001b[39;00m executor\n\u001b[32m     39\u001b[39m \u001b[38;5;28;01mfrom\u001b[39;00m\u001b[38;5;250m \u001b[39m\u001b[34;01mtensorflow\u001b[39;00m\u001b[34;01m.\u001b[39;00m\u001b[34;01mpython\u001b[39;00m\u001b[34;01m.\u001b[39;00m\u001b[34;01meager\u001b[39;00m\u001b[38;5;250m \u001b[39m\u001b[38;5;28;01mimport\u001b[39;00m monitoring\n",
      "\u001b[36mFile \u001b[39m\u001b[32m~\\AppData\\Roaming\\Python\\Python312\\site-packages\\tensorflow\\python\\eager\\execute.py:21\u001b[39m\n\u001b[32m     19\u001b[39m \u001b[38;5;28;01mfrom\u001b[39;00m\u001b[38;5;250m \u001b[39m\u001b[34;01mtensorflow\u001b[39;00m\u001b[34;01m.\u001b[39;00m\u001b[34;01mpython\u001b[39;00m\u001b[38;5;250m \u001b[39m\u001b[38;5;28;01mimport\u001b[39;00m pywrap_tfe\n\u001b[32m     20\u001b[39m \u001b[38;5;28;01mfrom\u001b[39;00m\u001b[38;5;250m \u001b[39m\u001b[34;01mtensorflow\u001b[39;00m\u001b[34;01m.\u001b[39;00m\u001b[34;01mpython\u001b[39;00m\u001b[34;01m.\u001b[39;00m\u001b[34;01meager\u001b[39;00m\u001b[38;5;250m \u001b[39m\u001b[38;5;28;01mimport\u001b[39;00m core\n\u001b[32m---> \u001b[39m\u001b[32m21\u001b[39m \u001b[38;5;28;01mfrom\u001b[39;00m\u001b[38;5;250m \u001b[39m\u001b[34;01mtensorflow\u001b[39;00m\u001b[34;01m.\u001b[39;00m\u001b[34;01mpython\u001b[39;00m\u001b[34;01m.\u001b[39;00m\u001b[34;01mframework\u001b[39;00m\u001b[38;5;250m \u001b[39m\u001b[38;5;28;01mimport\u001b[39;00m dtypes\n\u001b[32m     22\u001b[39m \u001b[38;5;28;01mfrom\u001b[39;00m\u001b[38;5;250m \u001b[39m\u001b[34;01mtensorflow\u001b[39;00m\u001b[34;01m.\u001b[39;00m\u001b[34;01mpython\u001b[39;00m\u001b[34;01m.\u001b[39;00m\u001b[34;01mframework\u001b[39;00m\u001b[38;5;250m \u001b[39m\u001b[38;5;28;01mimport\u001b[39;00m tensor_conversion_registry\n\u001b[32m     23\u001b[39m \u001b[38;5;28;01mfrom\u001b[39;00m\u001b[38;5;250m \u001b[39m\u001b[34;01mtensorflow\u001b[39;00m\u001b[34;01m.\u001b[39;00m\u001b[34;01mpython\u001b[39;00m\u001b[34;01m.\u001b[39;00m\u001b[34;01mframework\u001b[39;00m\u001b[38;5;250m \u001b[39m\u001b[38;5;28;01mimport\u001b[39;00m tensor_shape\n",
      "\u001b[36mFile \u001b[39m\u001b[32m~\\AppData\\Roaming\\Python\\Python312\\site-packages\\tensorflow\\python\\framework\\dtypes.py:21\u001b[39m\n\u001b[32m     18\u001b[39m \u001b[38;5;28;01mimport\u001b[39;00m\u001b[38;5;250m \u001b[39m\u001b[34;01mdataclasses\u001b[39;00m\n\u001b[32m     19\u001b[39m \u001b[38;5;28;01mfrom\u001b[39;00m\u001b[38;5;250m \u001b[39m\u001b[34;01mtyping\u001b[39;00m\u001b[38;5;250m \u001b[39m\u001b[38;5;28;01mimport\u001b[39;00m Type, Sequence, Optional\n\u001b[32m---> \u001b[39m\u001b[32m21\u001b[39m \u001b[38;5;28;01mimport\u001b[39;00m\u001b[38;5;250m \u001b[39m\u001b[34;01mml_dtypes\u001b[39;00m\n\u001b[32m     22\u001b[39m \u001b[38;5;28;01mimport\u001b[39;00m\u001b[38;5;250m \u001b[39m\u001b[34;01mnumpy\u001b[39;00m\u001b[38;5;250m \u001b[39m\u001b[38;5;28;01mas\u001b[39;00m\u001b[38;5;250m \u001b[39m\u001b[34;01mnp\u001b[39;00m\n\u001b[32m     24\u001b[39m \u001b[38;5;28;01mfrom\u001b[39;00m\u001b[38;5;250m \u001b[39m\u001b[34;01mtensorflow\u001b[39;00m\u001b[34;01m.\u001b[39;00m\u001b[34;01mcore\u001b[39;00m\u001b[34;01m.\u001b[39;00m\u001b[34;01mframework\u001b[39;00m\u001b[38;5;250m \u001b[39m\u001b[38;5;28;01mimport\u001b[39;00m types_pb2\n",
      "\u001b[31mModuleNotFoundError\u001b[39m: No module named 'ml_dtypes'"
     ]
    }
   ],
   "source": [
    "import tensorflow as tf\n",
    "\n",
    "tensor_401 = tf.constant(list(range(401)), dtype=tf.float32)\n",
    "tensor_squared_401 = tf.square(tensor_401)\n",
    "tensor_sum_401 = tf.reduce_sum(tensor_squared_401)\n",
    "tensor_mean_401 = tf.reduce_mean(tensor_squared_401)\n",
    "tensor_max_401 = tf.reduce_max(tensor_squared_401)\n",
    "\n",
    "tf.print(\"Cell 401 - TensorFlow\")\n",
    "tf.print(\"Tensor shape:\", tf.shape(tensor_401))\n",
    "tf.print(\"Sum:\", tensor_sum_401)\n",
    "tf.print(\"Mean:\", tensor_mean_401)\n",
    "tf.print(\"Max:\", tensor_max_401)"
   ]
  },
  {
   "cell_type": "code",
   "execution_count": null,
   "id": "86b752a7",
   "metadata": {},
   "outputs": [],
   "source": [
    "import tensorflow as tf\n",
    "\n",
    "tensor_402 = tf.constant(list(range(402)), dtype=tf.float32)\n",
    "tensor_squared_402 = tf.square(tensor_402)\n",
    "tensor_sum_402 = tf.reduce_sum(tensor_squared_402)\n",
    "tensor_mean_402 = tf.reduce_mean(tensor_squared_402)\n",
    "tensor_max_402 = tf.reduce_max(tensor_squared_402)\n",
    "\n",
    "tf.print(\"Cell 402 - TensorFlow\")\n",
    "tf.print(\"Tensor shape:\", tf.shape(tensor_402))\n",
    "tf.print(\"Sum:\", tensor_sum_402)\n",
    "tf.print(\"Mean:\", tensor_mean_402)\n",
    "tf.print(\"Max:\", tensor_max_402)"
   ]
  },
  {
   "cell_type": "code",
   "execution_count": null,
   "id": "24810116",
   "metadata": {},
   "outputs": [],
   "source": [
    "import tensorflow as tf\n",
    "\n",
    "tensor_403 = tf.constant(list(range(403)), dtype=tf.float32)\n",
    "tensor_squared_403 = tf.square(tensor_403)\n",
    "tensor_sum_403 = tf.reduce_sum(tensor_squared_403)\n",
    "tensor_mean_403 = tf.reduce_mean(tensor_squared_403)\n",
    "tensor_max_403 = tf.reduce_max(tensor_squared_403)\n",
    "\n",
    "tf.print(\"Cell 403 - TensorFlow\")\n",
    "tf.print(\"Tensor shape:\", tf.shape(tensor_403))\n",
    "tf.print(\"Sum:\", tensor_sum_403)\n",
    "tf.print(\"Mean:\", tensor_mean_403)\n",
    "tf.print(\"Max:\", tensor_max_403)"
   ]
  },
  {
   "cell_type": "code",
   "execution_count": null,
   "id": "1c3df3ff",
   "metadata": {},
   "outputs": [],
   "source": [
    "import tensorflow as tf\n",
    "\n",
    "tensor_404 = tf.constant(list(range(404)), dtype=tf.float32)\n",
    "tensor_squared_404 = tf.square(tensor_404)\n",
    "tensor_sum_404 = tf.reduce_sum(tensor_squared_404)\n",
    "tensor_mean_404 = tf.reduce_mean(tensor_squared_404)\n",
    "tensor_max_404 = tf.reduce_max(tensor_squared_404)\n",
    "\n",
    "tf.print(\"Cell 404 - TensorFlow\")\n",
    "tf.print(\"Tensor shape:\", tf.shape(tensor_404))\n",
    "tf.print(\"Sum:\", tensor_sum_404)\n",
    "tf.print(\"Mean:\", tensor_mean_404)\n",
    "tf.print(\"Max:\", tensor_max_404)"
   ]
  },
  {
   "cell_type": "code",
   "execution_count": null,
   "id": "87908f33",
   "metadata": {},
   "outputs": [],
   "source": [
    "import tensorflow as tf\n",
    "\n",
    "tensor_405 = tf.constant(list(range(405)), dtype=tf.float32)\n",
    "tensor_squared_405 = tf.square(tensor_405)\n",
    "tensor_sum_405 = tf.reduce_sum(tensor_squared_405)\n",
    "tensor_mean_405 = tf.reduce_mean(tensor_squared_405)\n",
    "tensor_max_405 = tf.reduce_max(tensor_squared_405)\n",
    "\n",
    "tf.print(\"Cell 405 - TensorFlow\")\n",
    "tf.print(\"Tensor shape:\", tf.shape(tensor_405))\n",
    "tf.print(\"Sum:\", tensor_sum_405)\n",
    "tf.print(\"Mean:\", tensor_mean_405)\n",
    "tf.print(\"Max:\", tensor_max_405)"
   ]
  },
  {
   "cell_type": "code",
   "execution_count": null,
   "id": "8408087d",
   "metadata": {},
   "outputs": [],
   "source": [
    "import tensorflow as tf\n",
    "\n",
    "tensor_406 = tf.constant(list(range(406)), dtype=tf.float32)\n",
    "tensor_squared_406 = tf.square(tensor_406)\n",
    "tensor_sum_406 = tf.reduce_sum(tensor_squared_406)\n",
    "tensor_mean_406 = tf.reduce_mean(tensor_squared_406)\n",
    "tensor_max_406 = tf.reduce_max(tensor_squared_406)\n",
    "\n",
    "tf.print(\"Cell 406 - TensorFlow\")\n",
    "tf.print(\"Tensor shape:\", tf.shape(tensor_406))\n",
    "tf.print(\"Sum:\", tensor_sum_406)\n",
    "tf.print(\"Mean:\", tensor_mean_406)\n",
    "tf.print(\"Max:\", tensor_max_406)"
   ]
  },
  {
   "cell_type": "code",
   "execution_count": null,
   "id": "0a9c3f7d",
   "metadata": {},
   "outputs": [],
   "source": [
    "import tensorflow as tf\n",
    "\n",
    "tensor_407 = tf.constant(list(range(407)), dtype=tf.float32)\n",
    "tensor_squared_407 = tf.square(tensor_407)\n",
    "tensor_sum_407 = tf.reduce_sum(tensor_squared_407)\n",
    "tensor_mean_407 = tf.reduce_mean(tensor_squared_407)\n",
    "tensor_max_407 = tf.reduce_max(tensor_squared_407)\n",
    "\n",
    "tf.print(\"Cell 407 - TensorFlow\")\n",
    "tf.print(\"Tensor shape:\", tf.shape(tensor_407))\n",
    "tf.print(\"Sum:\", tensor_sum_407)\n",
    "tf.print(\"Mean:\", tensor_mean_407)\n",
    "tf.print(\"Max:\", tensor_max_407)"
   ]
  },
  {
   "cell_type": "code",
   "execution_count": null,
   "id": "ef66407c",
   "metadata": {},
   "outputs": [],
   "source": [
    "import tensorflow as tf\n",
    "\n",
    "tensor_408 = tf.constant(list(range(408)), dtype=tf.float32)\n",
    "tensor_squared_408 = tf.square(tensor_408)\n",
    "tensor_sum_408 = tf.reduce_sum(tensor_squared_408)\n",
    "tensor_mean_408 = tf.reduce_mean(tensor_squared_408)\n",
    "tensor_max_408 = tf.reduce_max(tensor_squared_408)\n",
    "\n",
    "tf.print(\"Cell 408 - TensorFlow\")\n",
    "tf.print(\"Tensor shape:\", tf.shape(tensor_408))\n",
    "tf.print(\"Sum:\", tensor_sum_408)\n",
    "tf.print(\"Mean:\", tensor_mean_408)\n",
    "tf.print(\"Max:\", tensor_max_408)"
   ]
  },
  {
   "cell_type": "code",
   "execution_count": null,
   "id": "73d73fdc",
   "metadata": {},
   "outputs": [],
   "source": [
    "import tensorflow as tf\n",
    "\n",
    "tensor_409 = tf.constant(list(range(409)), dtype=tf.float32)\n",
    "tensor_squared_409 = tf.square(tensor_409)\n",
    "tensor_sum_409 = tf.reduce_sum(tensor_squared_409)\n",
    "tensor_mean_409 = tf.reduce_mean(tensor_squared_409)\n",
    "tensor_max_409 = tf.reduce_max(tensor_squared_409)\n",
    "\n",
    "tf.print(\"Cell 409 - TensorFlow\")\n",
    "tf.print(\"Tensor shape:\", tf.shape(tensor_409))\n",
    "tf.print(\"Sum:\", tensor_sum_409)\n",
    "tf.print(\"Mean:\", tensor_mean_409)\n",
    "tf.print(\"Max:\", tensor_max_409)"
   ]
  },
  {
   "cell_type": "code",
   "execution_count": null,
   "id": "71874b68",
   "metadata": {},
   "outputs": [],
   "source": [
    "import tensorflow as tf\n",
    "\n",
    "tensor_410 = tf.constant(list(range(410)), dtype=tf.float32)\n",
    "tensor_squared_410 = tf.square(tensor_410)\n",
    "tensor_sum_410 = tf.reduce_sum(tensor_squared_410)\n",
    "tensor_mean_410 = tf.reduce_mean(tensor_squared_410)\n",
    "tensor_max_410 = tf.reduce_max(tensor_squared_410)\n",
    "\n",
    "tf.print(\"Cell 410 - TensorFlow\")\n",
    "tf.print(\"Tensor shape:\", tf.shape(tensor_410))\n",
    "tf.print(\"Sum:\", tensor_sum_410)\n",
    "tf.print(\"Mean:\", tensor_mean_410)\n",
    "tf.print(\"Max:\", tensor_max_410)"
   ]
  },
  {
   "cell_type": "code",
   "execution_count": null,
   "id": "f40b879c",
   "metadata": {},
   "outputs": [],
   "source": [
    "import tensorflow as tf\n",
    "\n",
    "tensor_411 = tf.constant(list(range(411)), dtype=tf.float32)\n",
    "tensor_squared_411 = tf.square(tensor_411)\n",
    "tensor_sum_411 = tf.reduce_sum(tensor_squared_411)\n",
    "tensor_mean_411 = tf.reduce_mean(tensor_squared_411)\n",
    "tensor_max_411 = tf.reduce_max(tensor_squared_411)\n",
    "\n",
    "tf.print(\"Cell 411 - TensorFlow\")\n",
    "tf.print(\"Tensor shape:\", tf.shape(tensor_411))\n",
    "tf.print(\"Sum:\", tensor_sum_411)\n",
    "tf.print(\"Mean:\", tensor_mean_411)\n",
    "tf.print(\"Max:\", tensor_max_411)"
   ]
  },
  {
   "cell_type": "code",
   "execution_count": null,
   "id": "e1d2c151",
   "metadata": {},
   "outputs": [],
   "source": [
    "import tensorflow as tf\n",
    "\n",
    "tensor_412 = tf.constant(list(range(412)), dtype=tf.float32)\n",
    "tensor_squared_412 = tf.square(tensor_412)\n",
    "tensor_sum_412 = tf.reduce_sum(tensor_squared_412)\n",
    "tensor_mean_412 = tf.reduce_mean(tensor_squared_412)\n",
    "tensor_max_412 = tf.reduce_max(tensor_squared_412)\n",
    "\n",
    "tf.print(\"Cell 412 - TensorFlow\")\n",
    "tf.print(\"Tensor shape:\", tf.shape(tensor_412))\n",
    "tf.print(\"Sum:\", tensor_sum_412)\n",
    "tf.print(\"Mean:\", tensor_mean_412)\n",
    "tf.print(\"Max:\", tensor_max_412)"
   ]
  },
  {
   "cell_type": "code",
   "execution_count": null,
   "id": "6b052e2f",
   "metadata": {},
   "outputs": [],
   "source": [
    "import tensorflow as tf\n",
    "\n",
    "tensor_413 = tf.constant(list(range(413)), dtype=tf.float32)\n",
    "tensor_squared_413 = tf.square(tensor_413)\n",
    "tensor_sum_413 = tf.reduce_sum(tensor_squared_413)\n",
    "tensor_mean_413 = tf.reduce_mean(tensor_squared_413)\n",
    "tensor_max_413 = tf.reduce_max(tensor_squared_413)\n",
    "\n",
    "tf.print(\"Cell 413 - TensorFlow\")\n",
    "tf.print(\"Tensor shape:\", tf.shape(tensor_413))\n",
    "tf.print(\"Sum:\", tensor_sum_413)\n",
    "tf.print(\"Mean:\", tensor_mean_413)\n",
    "tf.print(\"Max:\", tensor_max_413)"
   ]
  },
  {
   "cell_type": "code",
   "execution_count": null,
   "id": "8ae7f640",
   "metadata": {},
   "outputs": [],
   "source": [
    "import tensorflow as tf\n",
    "\n",
    "tensor_414 = tf.constant(list(range(414)), dtype=tf.float32)\n",
    "tensor_squared_414 = tf.square(tensor_414)\n",
    "tensor_sum_414 = tf.reduce_sum(tensor_squared_414)\n",
    "tensor_mean_414 = tf.reduce_mean(tensor_squared_414)\n",
    "tensor_max_414 = tf.reduce_max(tensor_squared_414)\n",
    "\n",
    "tf.print(\"Cell 414 - TensorFlow\")\n",
    "tf.print(\"Tensor shape:\", tf.shape(tensor_414))\n",
    "tf.print(\"Sum:\", tensor_sum_414)\n",
    "tf.print(\"Mean:\", tensor_mean_414)\n",
    "tf.print(\"Max:\", tensor_max_414)"
   ]
  },
  {
   "cell_type": "code",
   "execution_count": null,
   "id": "0723d5c6",
   "metadata": {},
   "outputs": [],
   "source": [
    "import tensorflow as tf\n",
    "\n",
    "tensor_415 = tf.constant(list(range(415)), dtype=tf.float32)\n",
    "tensor_squared_415 = tf.square(tensor_415)\n",
    "tensor_sum_415 = tf.reduce_sum(tensor_squared_415)\n",
    "tensor_mean_415 = tf.reduce_mean(tensor_squared_415)\n",
    "tensor_max_415 = tf.reduce_max(tensor_squared_415)\n",
    "\n",
    "tf.print(\"Cell 415 - TensorFlow\")\n",
    "tf.print(\"Tensor shape:\", tf.shape(tensor_415))\n",
    "tf.print(\"Sum:\", tensor_sum_415)\n",
    "tf.print(\"Mean:\", tensor_mean_415)\n",
    "tf.print(\"Max:\", tensor_max_415)"
   ]
  },
  {
   "cell_type": "code",
   "execution_count": null,
   "id": "353c70f4",
   "metadata": {},
   "outputs": [],
   "source": [
    "import tensorflow as tf\n",
    "\n",
    "tensor_416 = tf.constant(list(range(416)), dtype=tf.float32)\n",
    "tensor_squared_416 = tf.square(tensor_416)\n",
    "tensor_sum_416 = tf.reduce_sum(tensor_squared_416)\n",
    "tensor_mean_416 = tf.reduce_mean(tensor_squared_416)\n",
    "tensor_max_416 = tf.reduce_max(tensor_squared_416)\n",
    "\n",
    "tf.print(\"Cell 416 - TensorFlow\")\n",
    "tf.print(\"Tensor shape:\", tf.shape(tensor_416))\n",
    "tf.print(\"Sum:\", tensor_sum_416)\n",
    "tf.print(\"Mean:\", tensor_mean_416)\n",
    "tf.print(\"Max:\", tensor_max_416)"
   ]
  },
  {
   "cell_type": "code",
   "execution_count": null,
   "id": "3812e693",
   "metadata": {},
   "outputs": [],
   "source": [
    "import tensorflow as tf\n",
    "\n",
    "tensor_417 = tf.constant(list(range(417)), dtype=tf.float32)\n",
    "tensor_squared_417 = tf.square(tensor_417)\n",
    "tensor_sum_417 = tf.reduce_sum(tensor_squared_417)\n",
    "tensor_mean_417 = tf.reduce_mean(tensor_squared_417)\n",
    "tensor_max_417 = tf.reduce_max(tensor_squared_417)\n",
    "\n",
    "tf.print(\"Cell 417 - TensorFlow\")\n",
    "tf.print(\"Tensor shape:\", tf.shape(tensor_417))\n",
    "tf.print(\"Sum:\", tensor_sum_417)\n",
    "tf.print(\"Mean:\", tensor_mean_417)\n",
    "tf.print(\"Max:\", tensor_max_417)"
   ]
  },
  {
   "cell_type": "code",
   "execution_count": null,
   "id": "340cbd98",
   "metadata": {},
   "outputs": [],
   "source": [
    "import tensorflow as tf\n",
    "\n",
    "tensor_418 = tf.constant(list(range(418)), dtype=tf.float32)\n",
    "tensor_squared_418 = tf.square(tensor_418)\n",
    "tensor_sum_418 = tf.reduce_sum(tensor_squared_418)\n",
    "tensor_mean_418 = tf.reduce_mean(tensor_squared_418)\n",
    "tensor_max_418 = tf.reduce_max(tensor_squared_418)\n",
    "\n",
    "tf.print(\"Cell 418 - TensorFlow\")\n",
    "tf.print(\"Tensor shape:\", tf.shape(tensor_418))\n",
    "tf.print(\"Sum:\", tensor_sum_418)\n",
    "tf.print(\"Mean:\", tensor_mean_418)\n",
    "tf.print(\"Max:\", tensor_max_418)"
   ]
  },
  {
   "cell_type": "code",
   "execution_count": null,
   "id": "2a014859",
   "metadata": {},
   "outputs": [],
   "source": [
    "import tensorflow as tf\n",
    "\n",
    "tensor_419 = tf.constant(list(range(419)), dtype=tf.float32)\n",
    "tensor_squared_419 = tf.square(tensor_419)\n",
    "tensor_sum_419 = tf.reduce_sum(tensor_squared_419)\n",
    "tensor_mean_419 = tf.reduce_mean(tensor_squared_419)\n",
    "tensor_max_419 = tf.reduce_max(tensor_squared_419)\n",
    "\n",
    "tf.print(\"Cell 419 - TensorFlow\")\n",
    "tf.print(\"Tensor shape:\", tf.shape(tensor_419))\n",
    "tf.print(\"Sum:\", tensor_sum_419)\n",
    "tf.print(\"Mean:\", tensor_mean_419)\n",
    "tf.print(\"Max:\", tensor_max_419)"
   ]
  },
  {
   "cell_type": "code",
   "execution_count": null,
   "id": "eca56293",
   "metadata": {},
   "outputs": [],
   "source": [
    "import tensorflow as tf\n",
    "\n",
    "tensor_420 = tf.constant(list(range(420)), dtype=tf.float32)\n",
    "tensor_squared_420 = tf.square(tensor_420)\n",
    "tensor_sum_420 = tf.reduce_sum(tensor_squared_420)\n",
    "tensor_mean_420 = tf.reduce_mean(tensor_squared_420)\n",
    "tensor_max_420 = tf.reduce_max(tensor_squared_420)\n",
    "\n",
    "tf.print(\"Cell 420 - TensorFlow\")\n",
    "tf.print(\"Tensor shape:\", tf.shape(tensor_420))\n",
    "tf.print(\"Sum:\", tensor_sum_420)\n",
    "tf.print(\"Mean:\", tensor_mean_420)\n",
    "tf.print(\"Max:\", tensor_max_420)"
   ]
  },
  {
   "cell_type": "code",
   "execution_count": null,
   "id": "da7c9a1a",
   "metadata": {},
   "outputs": [],
   "source": [
    "import tensorflow as tf\n",
    "\n",
    "tensor_421 = tf.constant(list(range(421)), dtype=tf.float32)\n",
    "tensor_squared_421 = tf.square(tensor_421)\n",
    "tensor_sum_421 = tf.reduce_sum(tensor_squared_421)\n",
    "tensor_mean_421 = tf.reduce_mean(tensor_squared_421)\n",
    "tensor_max_421 = tf.reduce_max(tensor_squared_421)\n",
    "\n",
    "tf.print(\"Cell 421 - TensorFlow\")\n",
    "tf.print(\"Tensor shape:\", tf.shape(tensor_421))\n",
    "tf.print(\"Sum:\", tensor_sum_421)\n",
    "tf.print(\"Mean:\", tensor_mean_421)\n",
    "tf.print(\"Max:\", tensor_max_421)"
   ]
  },
  {
   "cell_type": "code",
   "execution_count": null,
   "id": "a885166c",
   "metadata": {},
   "outputs": [],
   "source": [
    "import tensorflow as tf\n",
    "\n",
    "tensor_422 = tf.constant(list(range(422)), dtype=tf.float32)\n",
    "tensor_squared_422 = tf.square(tensor_422)\n",
    "tensor_sum_422 = tf.reduce_sum(tensor_squared_422)\n",
    "tensor_mean_422 = tf.reduce_mean(tensor_squared_422)\n",
    "tensor_max_422 = tf.reduce_max(tensor_squared_422)\n",
    "\n",
    "tf.print(\"Cell 422 - TensorFlow\")\n",
    "tf.print(\"Tensor shape:\", tf.shape(tensor_422))\n",
    "tf.print(\"Sum:\", tensor_sum_422)\n",
    "tf.print(\"Mean:\", tensor_mean_422)\n",
    "tf.print(\"Max:\", tensor_max_422)"
   ]
  },
  {
   "cell_type": "code",
   "execution_count": null,
   "id": "c587f2d8",
   "metadata": {},
   "outputs": [],
   "source": [
    "import tensorflow as tf\n",
    "\n",
    "tensor_423 = tf.constant(list(range(423)), dtype=tf.float32)\n",
    "tensor_squared_423 = tf.square(tensor_423)\n",
    "tensor_sum_423 = tf.reduce_sum(tensor_squared_423)\n",
    "tensor_mean_423 = tf.reduce_mean(tensor_squared_423)\n",
    "tensor_max_423 = tf.reduce_max(tensor_squared_423)\n",
    "\n",
    "tf.print(\"Cell 423 - TensorFlow\")\n",
    "tf.print(\"Tensor shape:\", tf.shape(tensor_423))\n",
    "tf.print(\"Sum:\", tensor_sum_423)\n",
    "tf.print(\"Mean:\", tensor_mean_423)\n",
    "tf.print(\"Max:\", tensor_max_423)"
   ]
  },
  {
   "cell_type": "code",
   "execution_count": null,
   "id": "d15a2a07",
   "metadata": {},
   "outputs": [],
   "source": [
    "import tensorflow as tf\n",
    "\n",
    "tensor_424 = tf.constant(list(range(424)), dtype=tf.float32)\n",
    "tensor_squared_424 = tf.square(tensor_424)\n",
    "tensor_sum_424 = tf.reduce_sum(tensor_squared_424)\n",
    "tensor_mean_424 = tf.reduce_mean(tensor_squared_424)\n",
    "tensor_max_424 = tf.reduce_max(tensor_squared_424)\n",
    "\n",
    "tf.print(\"Cell 424 - TensorFlow\")\n",
    "tf.print(\"Tensor shape:\", tf.shape(tensor_424))\n",
    "tf.print(\"Sum:\", tensor_sum_424)\n",
    "tf.print(\"Mean:\", tensor_mean_424)\n",
    "tf.print(\"Max:\", tensor_max_424)"
   ]
  },
  {
   "cell_type": "code",
   "execution_count": null,
   "id": "376c9edb",
   "metadata": {},
   "outputs": [],
   "source": [
    "import tensorflow as tf\n",
    "\n",
    "tensor_425 = tf.constant(list(range(425)), dtype=tf.float32)\n",
    "tensor_squared_425 = tf.square(tensor_425)\n",
    "tensor_sum_425 = tf.reduce_sum(tensor_squared_425)\n",
    "tensor_mean_425 = tf.reduce_mean(tensor_squared_425)\n",
    "tensor_max_425 = tf.reduce_max(tensor_squared_425)\n",
    "\n",
    "tf.print(\"Cell 425 - TensorFlow\")\n",
    "tf.print(\"Tensor shape:\", tf.shape(tensor_425))\n",
    "tf.print(\"Sum:\", tensor_sum_425)\n",
    "tf.print(\"Mean:\", tensor_mean_425)\n",
    "tf.print(\"Max:\", tensor_max_425)"
   ]
  },
  {
   "cell_type": "code",
   "execution_count": null,
   "id": "e837b513",
   "metadata": {},
   "outputs": [],
   "source": [
    "import tensorflow as tf\n",
    "\n",
    "tensor_426 = tf.constant(list(range(426)), dtype=tf.float32)\n",
    "tensor_squared_426 = tf.square(tensor_426)\n",
    "tensor_sum_426 = tf.reduce_sum(tensor_squared_426)\n",
    "tensor_mean_426 = tf.reduce_mean(tensor_squared_426)\n",
    "tensor_max_426 = tf.reduce_max(tensor_squared_426)\n",
    "\n",
    "tf.print(\"Cell 426 - TensorFlow\")\n",
    "tf.print(\"Tensor shape:\", tf.shape(tensor_426))\n",
    "tf.print(\"Sum:\", tensor_sum_426)\n",
    "tf.print(\"Mean:\", tensor_mean_426)\n",
    "tf.print(\"Max:\", tensor_max_426)"
   ]
  },
  {
   "cell_type": "code",
   "execution_count": null,
   "id": "9336d2c4",
   "metadata": {},
   "outputs": [],
   "source": [
    "import tensorflow as tf\n",
    "\n",
    "tensor_427 = tf.constant(list(range(427)), dtype=tf.float32)\n",
    "tensor_squared_427 = tf.square(tensor_427)\n",
    "tensor_sum_427 = tf.reduce_sum(tensor_squared_427)\n",
    "tensor_mean_427 = tf.reduce_mean(tensor_squared_427)\n",
    "tensor_max_427 = tf.reduce_max(tensor_squared_427)\n",
    "\n",
    "tf.print(\"Cell 427 - TensorFlow\")\n",
    "tf.print(\"Tensor shape:\", tf.shape(tensor_427))\n",
    "tf.print(\"Sum:\", tensor_sum_427)\n",
    "tf.print(\"Mean:\", tensor_mean_427)\n",
    "tf.print(\"Max:\", tensor_max_427)"
   ]
  },
  {
   "cell_type": "code",
   "execution_count": null,
   "id": "1009f978",
   "metadata": {},
   "outputs": [],
   "source": [
    "import tensorflow as tf\n",
    "\n",
    "tensor_428 = tf.constant(list(range(428)), dtype=tf.float32)\n",
    "tensor_squared_428 = tf.square(tensor_428)\n",
    "tensor_sum_428 = tf.reduce_sum(tensor_squared_428)\n",
    "tensor_mean_428 = tf.reduce_mean(tensor_squared_428)\n",
    "tensor_max_428 = tf.reduce_max(tensor_squared_428)\n",
    "\n",
    "tf.print(\"Cell 428 - TensorFlow\")\n",
    "tf.print(\"Tensor shape:\", tf.shape(tensor_428))\n",
    "tf.print(\"Sum:\", tensor_sum_428)\n",
    "tf.print(\"Mean:\", tensor_mean_428)\n",
    "tf.print(\"Max:\", tensor_max_428)"
   ]
  },
  {
   "cell_type": "code",
   "execution_count": null,
   "id": "1d71412a",
   "metadata": {},
   "outputs": [],
   "source": [
    "import tensorflow as tf\n",
    "\n",
    "tensor_429 = tf.constant(list(range(429)), dtype=tf.float32)\n",
    "tensor_squared_429 = tf.square(tensor_429)\n",
    "tensor_sum_429 = tf.reduce_sum(tensor_squared_429)\n",
    "tensor_mean_429 = tf.reduce_mean(tensor_squared_429)\n",
    "tensor_max_429 = tf.reduce_max(tensor_squared_429)\n",
    "\n",
    "tf.print(\"Cell 429 - TensorFlow\")\n",
    "tf.print(\"Tensor shape:\", tf.shape(tensor_429))\n",
    "tf.print(\"Sum:\", tensor_sum_429)\n",
    "tf.print(\"Mean:\", tensor_mean_429)\n",
    "tf.print(\"Max:\", tensor_max_429)"
   ]
  },
  {
   "cell_type": "code",
   "execution_count": null,
   "id": "62b335f9",
   "metadata": {},
   "outputs": [],
   "source": [
    "import tensorflow as tf\n",
    "\n",
    "tensor_430 = tf.constant(list(range(430)), dtype=tf.float32)\n",
    "tensor_squared_430 = tf.square(tensor_430)\n",
    "tensor_sum_430 = tf.reduce_sum(tensor_squared_430)\n",
    "tensor_mean_430 = tf.reduce_mean(tensor_squared_430)\n",
    "tensor_max_430 = tf.reduce_max(tensor_squared_430)\n",
    "\n",
    "tf.print(\"Cell 430 - TensorFlow\")\n",
    "tf.print(\"Tensor shape:\", tf.shape(tensor_430))\n",
    "tf.print(\"Sum:\", tensor_sum_430)\n",
    "tf.print(\"Mean:\", tensor_mean_430)\n",
    "tf.print(\"Max:\", tensor_max_430)"
   ]
  },
  {
   "cell_type": "code",
   "execution_count": null,
   "id": "1a91f15a",
   "metadata": {},
   "outputs": [],
   "source": [
    "import tensorflow as tf\n",
    "\n",
    "tensor_431 = tf.constant(list(range(431)), dtype=tf.float32)\n",
    "tensor_squared_431 = tf.square(tensor_431)\n",
    "tensor_sum_431 = tf.reduce_sum(tensor_squared_431)\n",
    "tensor_mean_431 = tf.reduce_mean(tensor_squared_431)\n",
    "tensor_max_431 = tf.reduce_max(tensor_squared_431)\n",
    "\n",
    "tf.print(\"Cell 431 - TensorFlow\")\n",
    "tf.print(\"Tensor shape:\", tf.shape(tensor_431))\n",
    "tf.print(\"Sum:\", tensor_sum_431)\n",
    "tf.print(\"Mean:\", tensor_mean_431)\n",
    "tf.print(\"Max:\", tensor_max_431)"
   ]
  },
  {
   "cell_type": "code",
   "execution_count": null,
   "id": "75da34c4",
   "metadata": {},
   "outputs": [],
   "source": [
    "import tensorflow as tf\n",
    "\n",
    "tensor_432 = tf.constant(list(range(432)), dtype=tf.float32)\n",
    "tensor_squared_432 = tf.square(tensor_432)\n",
    "tensor_sum_432 = tf.reduce_sum(tensor_squared_432)\n",
    "tensor_mean_432 = tf.reduce_mean(tensor_squared_432)\n",
    "tensor_max_432 = tf.reduce_max(tensor_squared_432)\n",
    "\n",
    "tf.print(\"Cell 432 - TensorFlow\")\n",
    "tf.print(\"Tensor shape:\", tf.shape(tensor_432))\n",
    "tf.print(\"Sum:\", tensor_sum_432)\n",
    "tf.print(\"Mean:\", tensor_mean_432)\n",
    "tf.print(\"Max:\", tensor_max_432)"
   ]
  },
  {
   "cell_type": "code",
   "execution_count": null,
   "id": "6ce7be21",
   "metadata": {},
   "outputs": [],
   "source": [
    "import tensorflow as tf\n",
    "\n",
    "tensor_433 = tf.constant(list(range(433)), dtype=tf.float32)\n",
    "tensor_squared_433 = tf.square(tensor_433)\n",
    "tensor_sum_433 = tf.reduce_sum(tensor_squared_433)\n",
    "tensor_mean_433 = tf.reduce_mean(tensor_squared_433)\n",
    "tensor_max_433 = tf.reduce_max(tensor_squared_433)\n",
    "\n",
    "tf.print(\"Cell 433 - TensorFlow\")\n",
    "tf.print(\"Tensor shape:\", tf.shape(tensor_433))\n",
    "tf.print(\"Sum:\", tensor_sum_433)\n",
    "tf.print(\"Mean:\", tensor_mean_433)\n",
    "tf.print(\"Max:\", tensor_max_433)"
   ]
  },
  {
   "cell_type": "code",
   "execution_count": null,
   "id": "93dbd59d",
   "metadata": {},
   "outputs": [],
   "source": [
    "import tensorflow as tf\n",
    "\n",
    "tensor_434 = tf.constant(list(range(434)), dtype=tf.float32)\n",
    "tensor_squared_434 = tf.square(tensor_434)\n",
    "tensor_sum_434 = tf.reduce_sum(tensor_squared_434)\n",
    "tensor_mean_434 = tf.reduce_mean(tensor_squared_434)\n",
    "tensor_max_434 = tf.reduce_max(tensor_squared_434)\n",
    "\n",
    "tf.print(\"Cell 434 - TensorFlow\")\n",
    "tf.print(\"Tensor shape:\", tf.shape(tensor_434))\n",
    "tf.print(\"Sum:\", tensor_sum_434)\n",
    "tf.print(\"Mean:\", tensor_mean_434)\n",
    "tf.print(\"Max:\", tensor_max_434)"
   ]
  },
  {
   "cell_type": "code",
   "execution_count": null,
   "id": "650a9038",
   "metadata": {},
   "outputs": [],
   "source": [
    "import tensorflow as tf\n",
    "\n",
    "tensor_435 = tf.constant(list(range(435)), dtype=tf.float32)\n",
    "tensor_squared_435 = tf.square(tensor_435)\n",
    "tensor_sum_435 = tf.reduce_sum(tensor_squared_435)\n",
    "tensor_mean_435 = tf.reduce_mean(tensor_squared_435)\n",
    "tensor_max_435 = tf.reduce_max(tensor_squared_435)\n",
    "\n",
    "tf.print(\"Cell 435 - TensorFlow\")\n",
    "tf.print(\"Tensor shape:\", tf.shape(tensor_435))\n",
    "tf.print(\"Sum:\", tensor_sum_435)\n",
    "tf.print(\"Mean:\", tensor_mean_435)\n",
    "tf.print(\"Max:\", tensor_max_435)"
   ]
  },
  {
   "cell_type": "code",
   "execution_count": null,
   "id": "8651aba2",
   "metadata": {},
   "outputs": [],
   "source": [
    "import tensorflow as tf\n",
    "\n",
    "tensor_436 = tf.constant(list(range(436)), dtype=tf.float32)\n",
    "tensor_squared_436 = tf.square(tensor_436)\n",
    "tensor_sum_436 = tf.reduce_sum(tensor_squared_436)\n",
    "tensor_mean_436 = tf.reduce_mean(tensor_squared_436)\n",
    "tensor_max_436 = tf.reduce_max(tensor_squared_436)\n",
    "\n",
    "tf.print(\"Cell 436 - TensorFlow\")\n",
    "tf.print(\"Tensor shape:\", tf.shape(tensor_436))\n",
    "tf.print(\"Sum:\", tensor_sum_436)\n",
    "tf.print(\"Mean:\", tensor_mean_436)\n",
    "tf.print(\"Max:\", tensor_max_436)"
   ]
  },
  {
   "cell_type": "code",
   "execution_count": null,
   "id": "300253e5",
   "metadata": {},
   "outputs": [],
   "source": [
    "import tensorflow as tf\n",
    "\n",
    "tensor_437 = tf.constant(list(range(437)), dtype=tf.float32)\n",
    "tensor_squared_437 = tf.square(tensor_437)\n",
    "tensor_sum_437 = tf.reduce_sum(tensor_squared_437)\n",
    "tensor_mean_437 = tf.reduce_mean(tensor_squared_437)\n",
    "tensor_max_437 = tf.reduce_max(tensor_squared_437)\n",
    "\n",
    "tf.print(\"Cell 437 - TensorFlow\")\n",
    "tf.print(\"Tensor shape:\", tf.shape(tensor_437))\n",
    "tf.print(\"Sum:\", tensor_sum_437)\n",
    "tf.print(\"Mean:\", tensor_mean_437)\n",
    "tf.print(\"Max:\", tensor_max_437)"
   ]
  },
  {
   "cell_type": "code",
   "execution_count": null,
   "id": "14f18ae0",
   "metadata": {},
   "outputs": [],
   "source": [
    "import tensorflow as tf\n",
    "\n",
    "tensor_438 = tf.constant(list(range(438)), dtype=tf.float32)\n",
    "tensor_squared_438 = tf.square(tensor_438)\n",
    "tensor_sum_438 = tf.reduce_sum(tensor_squared_438)\n",
    "tensor_mean_438 = tf.reduce_mean(tensor_squared_438)\n",
    "tensor_max_438 = tf.reduce_max(tensor_squared_438)\n",
    "\n",
    "tf.print(\"Cell 438 - TensorFlow\")\n",
    "tf.print(\"Tensor shape:\", tf.shape(tensor_438))\n",
    "tf.print(\"Sum:\", tensor_sum_438)\n",
    "tf.print(\"Mean:\", tensor_mean_438)\n",
    "tf.print(\"Max:\", tensor_max_438)"
   ]
  },
  {
   "cell_type": "code",
   "execution_count": null,
   "id": "4e5f6def",
   "metadata": {},
   "outputs": [],
   "source": [
    "import tensorflow as tf\n",
    "\n",
    "tensor_439 = tf.constant(list(range(439)), dtype=tf.float32)\n",
    "tensor_squared_439 = tf.square(tensor_439)\n",
    "tensor_sum_439 = tf.reduce_sum(tensor_squared_439)\n",
    "tensor_mean_439 = tf.reduce_mean(tensor_squared_439)\n",
    "tensor_max_439 = tf.reduce_max(tensor_squared_439)\n",
    "\n",
    "tf.print(\"Cell 439 - TensorFlow\")\n",
    "tf.print(\"Tensor shape:\", tf.shape(tensor_439))\n",
    "tf.print(\"Sum:\", tensor_sum_439)\n",
    "tf.print(\"Mean:\", tensor_mean_439)\n",
    "tf.print(\"Max:\", tensor_max_439)"
   ]
  },
  {
   "cell_type": "code",
   "execution_count": null,
   "id": "b284e136",
   "metadata": {},
   "outputs": [],
   "source": [
    "import tensorflow as tf\n",
    "\n",
    "tensor_440 = tf.constant(list(range(440)), dtype=tf.float32)\n",
    "tensor_squared_440 = tf.square(tensor_440)\n",
    "tensor_sum_440 = tf.reduce_sum(tensor_squared_440)\n",
    "tensor_mean_440 = tf.reduce_mean(tensor_squared_440)\n",
    "tensor_max_440 = tf.reduce_max(tensor_squared_440)\n",
    "\n",
    "tf.print(\"Cell 440 - TensorFlow\")\n",
    "tf.print(\"Tensor shape:\", tf.shape(tensor_440))\n",
    "tf.print(\"Sum:\", tensor_sum_440)\n",
    "tf.print(\"Mean:\", tensor_mean_440)\n",
    "tf.print(\"Max:\", tensor_max_440)"
   ]
  },
  {
   "cell_type": "code",
   "execution_count": null,
   "id": "5851ccd1",
   "metadata": {},
   "outputs": [],
   "source": [
    "import tensorflow as tf\n",
    "\n",
    "tensor_441 = tf.constant(list(range(441)), dtype=tf.float32)\n",
    "tensor_squared_441 = tf.square(tensor_441)\n",
    "tensor_sum_441 = tf.reduce_sum(tensor_squared_441)\n",
    "tensor_mean_441 = tf.reduce_mean(tensor_squared_441)\n",
    "tensor_max_441 = tf.reduce_max(tensor_squared_441)\n",
    "\n",
    "tf.print(\"Cell 441 - TensorFlow\")\n",
    "tf.print(\"Tensor shape:\", tf.shape(tensor_441))\n",
    "tf.print(\"Sum:\", tensor_sum_441)\n",
    "tf.print(\"Mean:\", tensor_mean_441)\n",
    "tf.print(\"Max:\", tensor_max_441)"
   ]
  },
  {
   "cell_type": "code",
   "execution_count": null,
   "id": "5e2a50b0",
   "metadata": {},
   "outputs": [],
   "source": [
    "import tensorflow as tf\n",
    "\n",
    "tensor_442 = tf.constant(list(range(442)), dtype=tf.float32)\n",
    "tensor_squared_442 = tf.square(tensor_442)\n",
    "tensor_sum_442 = tf.reduce_sum(tensor_squared_442)\n",
    "tensor_mean_442 = tf.reduce_mean(tensor_squared_442)\n",
    "tensor_max_442 = tf.reduce_max(tensor_squared_442)\n",
    "\n",
    "tf.print(\"Cell 442 - TensorFlow\")\n",
    "tf.print(\"Tensor shape:\", tf.shape(tensor_442))\n",
    "tf.print(\"Sum:\", tensor_sum_442)\n",
    "tf.print(\"Mean:\", tensor_mean_442)\n",
    "tf.print(\"Max:\", tensor_max_442)"
   ]
  },
  {
   "cell_type": "code",
   "execution_count": null,
   "id": "524e80c9",
   "metadata": {},
   "outputs": [],
   "source": [
    "import tensorflow as tf\n",
    "\n",
    "tensor_443 = tf.constant(list(range(443)), dtype=tf.float32)\n",
    "tensor_squared_443 = tf.square(tensor_443)\n",
    "tensor_sum_443 = tf.reduce_sum(tensor_squared_443)\n",
    "tensor_mean_443 = tf.reduce_mean(tensor_squared_443)\n",
    "tensor_max_443 = tf.reduce_max(tensor_squared_443)\n",
    "\n",
    "tf.print(\"Cell 443 - TensorFlow\")\n",
    "tf.print(\"Tensor shape:\", tf.shape(tensor_443))\n",
    "tf.print(\"Sum:\", tensor_sum_443)\n",
    "tf.print(\"Mean:\", tensor_mean_443)\n",
    "tf.print(\"Max:\", tensor_max_443)"
   ]
  },
  {
   "cell_type": "code",
   "execution_count": null,
   "id": "4e1e285e",
   "metadata": {},
   "outputs": [],
   "source": [
    "import tensorflow as tf\n",
    "\n",
    "tensor_444 = tf.constant(list(range(444)), dtype=tf.float32)\n",
    "tensor_squared_444 = tf.square(tensor_444)\n",
    "tensor_sum_444 = tf.reduce_sum(tensor_squared_444)\n",
    "tensor_mean_444 = tf.reduce_mean(tensor_squared_444)\n",
    "tensor_max_444 = tf.reduce_max(tensor_squared_444)\n",
    "\n",
    "tf.print(\"Cell 444 - TensorFlow\")\n",
    "tf.print(\"Tensor shape:\", tf.shape(tensor_444))\n",
    "tf.print(\"Sum:\", tensor_sum_444)\n",
    "tf.print(\"Mean:\", tensor_mean_444)\n",
    "tf.print(\"Max:\", tensor_max_444)"
   ]
  },
  {
   "cell_type": "code",
   "execution_count": null,
   "id": "61e3b684",
   "metadata": {},
   "outputs": [],
   "source": [
    "import tensorflow as tf\n",
    "\n",
    "tensor_445 = tf.constant(list(range(445)), dtype=tf.float32)\n",
    "tensor_squared_445 = tf.square(tensor_445)\n",
    "tensor_sum_445 = tf.reduce_sum(tensor_squared_445)\n",
    "tensor_mean_445 = tf.reduce_mean(tensor_squared_445)\n",
    "tensor_max_445 = tf.reduce_max(tensor_squared_445)\n",
    "\n",
    "tf.print(\"Cell 445 - TensorFlow\")\n",
    "tf.print(\"Tensor shape:\", tf.shape(tensor_445))\n",
    "tf.print(\"Sum:\", tensor_sum_445)\n",
    "tf.print(\"Mean:\", tensor_mean_445)\n",
    "tf.print(\"Max:\", tensor_max_445)"
   ]
  },
  {
   "cell_type": "code",
   "execution_count": null,
   "id": "39b9ec2f",
   "metadata": {},
   "outputs": [],
   "source": [
    "import tensorflow as tf\n",
    "\n",
    "tensor_446 = tf.constant(list(range(446)), dtype=tf.float32)\n",
    "tensor_squared_446 = tf.square(tensor_446)\n",
    "tensor_sum_446 = tf.reduce_sum(tensor_squared_446)\n",
    "tensor_mean_446 = tf.reduce_mean(tensor_squared_446)\n",
    "tensor_max_446 = tf.reduce_max(tensor_squared_446)\n",
    "\n",
    "tf.print(\"Cell 446 - TensorFlow\")\n",
    "tf.print(\"Tensor shape:\", tf.shape(tensor_446))\n",
    "tf.print(\"Sum:\", tensor_sum_446)\n",
    "tf.print(\"Mean:\", tensor_mean_446)\n",
    "tf.print(\"Max:\", tensor_max_446)"
   ]
  },
  {
   "cell_type": "code",
   "execution_count": null,
   "id": "1bc70c86",
   "metadata": {},
   "outputs": [],
   "source": [
    "import tensorflow as tf\n",
    "\n",
    "tensor_447 = tf.constant(list(range(447)), dtype=tf.float32)\n",
    "tensor_squared_447 = tf.square(tensor_447)\n",
    "tensor_sum_447 = tf.reduce_sum(tensor_squared_447)\n",
    "tensor_mean_447 = tf.reduce_mean(tensor_squared_447)\n",
    "tensor_max_447 = tf.reduce_max(tensor_squared_447)\n",
    "\n",
    "tf.print(\"Cell 447 - TensorFlow\")\n",
    "tf.print(\"Tensor shape:\", tf.shape(tensor_447))\n",
    "tf.print(\"Sum:\", tensor_sum_447)\n",
    "tf.print(\"Mean:\", tensor_mean_447)\n",
    "tf.print(\"Max:\", tensor_max_447)"
   ]
  },
  {
   "cell_type": "code",
   "execution_count": null,
   "id": "61f17a1f",
   "metadata": {},
   "outputs": [],
   "source": [
    "import tensorflow as tf\n",
    "\n",
    "tensor_448 = tf.constant(list(range(448)), dtype=tf.float32)\n",
    "tensor_squared_448 = tf.square(tensor_448)\n",
    "tensor_sum_448 = tf.reduce_sum(tensor_squared_448)\n",
    "tensor_mean_448 = tf.reduce_mean(tensor_squared_448)\n",
    "tensor_max_448 = tf.reduce_max(tensor_squared_448)\n",
    "\n",
    "tf.print(\"Cell 448 - TensorFlow\")\n",
    "tf.print(\"Tensor shape:\", tf.shape(tensor_448))\n",
    "tf.print(\"Sum:\", tensor_sum_448)\n",
    "tf.print(\"Mean:\", tensor_mean_448)\n",
    "tf.print(\"Max:\", tensor_max_448)"
   ]
  },
  {
   "cell_type": "code",
   "execution_count": null,
   "id": "4cc56744",
   "metadata": {},
   "outputs": [],
   "source": [
    "import tensorflow as tf\n",
    "\n",
    "tensor_449 = tf.constant(list(range(449)), dtype=tf.float32)\n",
    "tensor_squared_449 = tf.square(tensor_449)\n",
    "tensor_sum_449 = tf.reduce_sum(tensor_squared_449)\n",
    "tensor_mean_449 = tf.reduce_mean(tensor_squared_449)\n",
    "tensor_max_449 = tf.reduce_max(tensor_squared_449)\n",
    "\n",
    "tf.print(\"Cell 449 - TensorFlow\")\n",
    "tf.print(\"Tensor shape:\", tf.shape(tensor_449))\n",
    "tf.print(\"Sum:\", tensor_sum_449)\n",
    "tf.print(\"Mean:\", tensor_mean_449)\n",
    "tf.print(\"Max:\", tensor_max_449)"
   ]
  },
  {
   "cell_type": "code",
   "execution_count": null,
   "id": "6983c320",
   "metadata": {},
   "outputs": [],
   "source": [
    "import tensorflow as tf\n",
    "\n",
    "tensor_450 = tf.constant(list(range(450)), dtype=tf.float32)\n",
    "tensor_squared_450 = tf.square(tensor_450)\n",
    "tensor_sum_450 = tf.reduce_sum(tensor_squared_450)\n",
    "tensor_mean_450 = tf.reduce_mean(tensor_squared_450)\n",
    "tensor_max_450 = tf.reduce_max(tensor_squared_450)\n",
    "\n",
    "tf.print(\"Cell 450 - TensorFlow\")\n",
    "tf.print(\"Tensor shape:\", tf.shape(tensor_450))\n",
    "tf.print(\"Sum:\", tensor_sum_450)\n",
    "tf.print(\"Mean:\", tensor_mean_450)\n",
    "tf.print(\"Max:\", tensor_max_450)"
   ]
  },
  {
   "cell_type": "code",
   "execution_count": null,
   "id": "9859cf6c",
   "metadata": {},
   "outputs": [],
   "source": [
    "import tensorflow as tf\n",
    "\n",
    "tensor_451 = tf.constant(list(range(451)), dtype=tf.float32)\n",
    "tensor_squared_451 = tf.square(tensor_451)\n",
    "tensor_sum_451 = tf.reduce_sum(tensor_squared_451)\n",
    "tensor_mean_451 = tf.reduce_mean(tensor_squared_451)\n",
    "tensor_max_451 = tf.reduce_max(tensor_squared_451)\n",
    "\n",
    "tf.print(\"Cell 451 - TensorFlow\")\n",
    "tf.print(\"Tensor shape:\", tf.shape(tensor_451))\n",
    "tf.print(\"Sum:\", tensor_sum_451)\n",
    "tf.print(\"Mean:\", tensor_mean_451)\n",
    "tf.print(\"Max:\", tensor_max_451)"
   ]
  },
  {
   "cell_type": "code",
   "execution_count": null,
   "id": "f0058227",
   "metadata": {},
   "outputs": [],
   "source": [
    "import tensorflow as tf\n",
    "\n",
    "tensor_452 = tf.constant(list(range(452)), dtype=tf.float32)\n",
    "tensor_squared_452 = tf.square(tensor_452)\n",
    "tensor_sum_452 = tf.reduce_sum(tensor_squared_452)\n",
    "tensor_mean_452 = tf.reduce_mean(tensor_squared_452)\n",
    "tensor_max_452 = tf.reduce_max(tensor_squared_452)\n",
    "\n",
    "tf.print(\"Cell 452 - TensorFlow\")\n",
    "tf.print(\"Tensor shape:\", tf.shape(tensor_452))\n",
    "tf.print(\"Sum:\", tensor_sum_452)\n",
    "tf.print(\"Mean:\", tensor_mean_452)\n",
    "tf.print(\"Max:\", tensor_max_452)"
   ]
  },
  {
   "cell_type": "code",
   "execution_count": null,
   "id": "bcbd3afc",
   "metadata": {},
   "outputs": [],
   "source": [
    "import tensorflow as tf\n",
    "\n",
    "tensor_453 = tf.constant(list(range(453)), dtype=tf.float32)\n",
    "tensor_squared_453 = tf.square(tensor_453)\n",
    "tensor_sum_453 = tf.reduce_sum(tensor_squared_453)\n",
    "tensor_mean_453 = tf.reduce_mean(tensor_squared_453)\n",
    "tensor_max_453 = tf.reduce_max(tensor_squared_453)\n",
    "\n",
    "tf.print(\"Cell 453 - TensorFlow\")\n",
    "tf.print(\"Tensor shape:\", tf.shape(tensor_453))\n",
    "tf.print(\"Sum:\", tensor_sum_453)\n",
    "tf.print(\"Mean:\", tensor_mean_453)\n",
    "tf.print(\"Max:\", tensor_max_453)"
   ]
  },
  {
   "cell_type": "code",
   "execution_count": null,
   "id": "68dc2c17",
   "metadata": {},
   "outputs": [],
   "source": [
    "import tensorflow as tf\n",
    "\n",
    "tensor_454 = tf.constant(list(range(454)), dtype=tf.float32)\n",
    "tensor_squared_454 = tf.square(tensor_454)\n",
    "tensor_sum_454 = tf.reduce_sum(tensor_squared_454)\n",
    "tensor_mean_454 = tf.reduce_mean(tensor_squared_454)\n",
    "tensor_max_454 = tf.reduce_max(tensor_squared_454)\n",
    "\n",
    "tf.print(\"Cell 454 - TensorFlow\")\n",
    "tf.print(\"Tensor shape:\", tf.shape(tensor_454))\n",
    "tf.print(\"Sum:\", tensor_sum_454)\n",
    "tf.print(\"Mean:\", tensor_mean_454)\n",
    "tf.print(\"Max:\", tensor_max_454)"
   ]
  },
  {
   "cell_type": "code",
   "execution_count": null,
   "id": "6ea1d6c9",
   "metadata": {},
   "outputs": [],
   "source": [
    "import tensorflow as tf\n",
    "\n",
    "tensor_455 = tf.constant(list(range(455)), dtype=tf.float32)\n",
    "tensor_squared_455 = tf.square(tensor_455)\n",
    "tensor_sum_455 = tf.reduce_sum(tensor_squared_455)\n",
    "tensor_mean_455 = tf.reduce_mean(tensor_squared_455)\n",
    "tensor_max_455 = tf.reduce_max(tensor_squared_455)\n",
    "\n",
    "tf.print(\"Cell 455 - TensorFlow\")\n",
    "tf.print(\"Tensor shape:\", tf.shape(tensor_455))\n",
    "tf.print(\"Sum:\", tensor_sum_455)\n",
    "tf.print(\"Mean:\", tensor_mean_455)\n",
    "tf.print(\"Max:\", tensor_max_455)"
   ]
  },
  {
   "cell_type": "code",
   "execution_count": null,
   "id": "0dd76669",
   "metadata": {},
   "outputs": [],
   "source": [
    "import tensorflow as tf\n",
    "\n",
    "tensor_456 = tf.constant(list(range(456)), dtype=tf.float32)\n",
    "tensor_squared_456 = tf.square(tensor_456)\n",
    "tensor_sum_456 = tf.reduce_sum(tensor_squared_456)\n",
    "tensor_mean_456 = tf.reduce_mean(tensor_squared_456)\n",
    "tensor_max_456 = tf.reduce_max(tensor_squared_456)\n",
    "\n",
    "tf.print(\"Cell 456 - TensorFlow\")\n",
    "tf.print(\"Tensor shape:\", tf.shape(tensor_456))\n",
    "tf.print(\"Sum:\", tensor_sum_456)\n",
    "tf.print(\"Mean:\", tensor_mean_456)\n",
    "tf.print(\"Max:\", tensor_max_456)"
   ]
  },
  {
   "cell_type": "code",
   "execution_count": null,
   "id": "10ac0176",
   "metadata": {},
   "outputs": [],
   "source": [
    "import tensorflow as tf\n",
    "\n",
    "tensor_457 = tf.constant(list(range(457)), dtype=tf.float32)\n",
    "tensor_squared_457 = tf.square(tensor_457)\n",
    "tensor_sum_457 = tf.reduce_sum(tensor_squared_457)\n",
    "tensor_mean_457 = tf.reduce_mean(tensor_squared_457)\n",
    "tensor_max_457 = tf.reduce_max(tensor_squared_457)\n",
    "\n",
    "tf.print(\"Cell 457 - TensorFlow\")\n",
    "tf.print(\"Tensor shape:\", tf.shape(tensor_457))\n",
    "tf.print(\"Sum:\", tensor_sum_457)\n",
    "tf.print(\"Mean:\", tensor_mean_457)\n",
    "tf.print(\"Max:\", tensor_max_457)"
   ]
  },
  {
   "cell_type": "code",
   "execution_count": null,
   "id": "6003534a",
   "metadata": {},
   "outputs": [],
   "source": [
    "import tensorflow as tf\n",
    "\n",
    "tensor_458 = tf.constant(list(range(458)), dtype=tf.float32)\n",
    "tensor_squared_458 = tf.square(tensor_458)\n",
    "tensor_sum_458 = tf.reduce_sum(tensor_squared_458)\n",
    "tensor_mean_458 = tf.reduce_mean(tensor_squared_458)\n",
    "tensor_max_458 = tf.reduce_max(tensor_squared_458)\n",
    "\n",
    "tf.print(\"Cell 458 - TensorFlow\")\n",
    "tf.print(\"Tensor shape:\", tf.shape(tensor_458))\n",
    "tf.print(\"Sum:\", tensor_sum_458)\n",
    "tf.print(\"Mean:\", tensor_mean_458)\n",
    "tf.print(\"Max:\", tensor_max_458)"
   ]
  },
  {
   "cell_type": "code",
   "execution_count": null,
   "id": "a88a9941",
   "metadata": {},
   "outputs": [],
   "source": [
    "import tensorflow as tf\n",
    "\n",
    "tensor_459 = tf.constant(list(range(459)), dtype=tf.float32)\n",
    "tensor_squared_459 = tf.square(tensor_459)\n",
    "tensor_sum_459 = tf.reduce_sum(tensor_squared_459)\n",
    "tensor_mean_459 = tf.reduce_mean(tensor_squared_459)\n",
    "tensor_max_459 = tf.reduce_max(tensor_squared_459)\n",
    "\n",
    "tf.print(\"Cell 459 - TensorFlow\")\n",
    "tf.print(\"Tensor shape:\", tf.shape(tensor_459))\n",
    "tf.print(\"Sum:\", tensor_sum_459)\n",
    "tf.print(\"Mean:\", tensor_mean_459)\n",
    "tf.print(\"Max:\", tensor_max_459)"
   ]
  },
  {
   "cell_type": "code",
   "execution_count": null,
   "id": "7019c512",
   "metadata": {},
   "outputs": [],
   "source": [
    "import tensorflow as tf\n",
    "\n",
    "tensor_460 = tf.constant(list(range(460)), dtype=tf.float32)\n",
    "tensor_squared_460 = tf.square(tensor_460)\n",
    "tensor_sum_460 = tf.reduce_sum(tensor_squared_460)\n",
    "tensor_mean_460 = tf.reduce_mean(tensor_squared_460)\n",
    "tensor_max_460 = tf.reduce_max(tensor_squared_460)\n",
    "\n",
    "tf.print(\"Cell 460 - TensorFlow\")\n",
    "tf.print(\"Tensor shape:\", tf.shape(tensor_460))\n",
    "tf.print(\"Sum:\", tensor_sum_460)\n",
    "tf.print(\"Mean:\", tensor_mean_460)\n",
    "tf.print(\"Max:\", tensor_max_460)"
   ]
  },
  {
   "cell_type": "code",
   "execution_count": null,
   "id": "823e0ed4",
   "metadata": {},
   "outputs": [],
   "source": [
    "import tensorflow as tf\n",
    "\n",
    "tensor_461 = tf.constant(list(range(461)), dtype=tf.float32)\n",
    "tensor_squared_461 = tf.square(tensor_461)\n",
    "tensor_sum_461 = tf.reduce_sum(tensor_squared_461)\n",
    "tensor_mean_461 = tf.reduce_mean(tensor_squared_461)\n",
    "tensor_max_461 = tf.reduce_max(tensor_squared_461)\n",
    "\n",
    "tf.print(\"Cell 461 - TensorFlow\")\n",
    "tf.print(\"Tensor shape:\", tf.shape(tensor_461))\n",
    "tf.print(\"Sum:\", tensor_sum_461)\n",
    "tf.print(\"Mean:\", tensor_mean_461)\n",
    "tf.print(\"Max:\", tensor_max_461)"
   ]
  },
  {
   "cell_type": "code",
   "execution_count": null,
   "id": "035ef0f7",
   "metadata": {},
   "outputs": [],
   "source": [
    "import tensorflow as tf\n",
    "\n",
    "tensor_462 = tf.constant(list(range(462)), dtype=tf.float32)\n",
    "tensor_squared_462 = tf.square(tensor_462)\n",
    "tensor_sum_462 = tf.reduce_sum(tensor_squared_462)\n",
    "tensor_mean_462 = tf.reduce_mean(tensor_squared_462)\n",
    "tensor_max_462 = tf.reduce_max(tensor_squared_462)\n",
    "\n",
    "tf.print(\"Cell 462 - TensorFlow\")\n",
    "tf.print(\"Tensor shape:\", tf.shape(tensor_462))\n",
    "tf.print(\"Sum:\", tensor_sum_462)\n",
    "tf.print(\"Mean:\", tensor_mean_462)\n",
    "tf.print(\"Max:\", tensor_max_462)"
   ]
  },
  {
   "cell_type": "code",
   "execution_count": null,
   "id": "43553a5e",
   "metadata": {},
   "outputs": [],
   "source": [
    "import tensorflow as tf\n",
    "\n",
    "tensor_463 = tf.constant(list(range(463)), dtype=tf.float32)\n",
    "tensor_squared_463 = tf.square(tensor_463)\n",
    "tensor_sum_463 = tf.reduce_sum(tensor_squared_463)\n",
    "tensor_mean_463 = tf.reduce_mean(tensor_squared_463)\n",
    "tensor_max_463 = tf.reduce_max(tensor_squared_463)\n",
    "\n",
    "tf.print(\"Cell 463 - TensorFlow\")\n",
    "tf.print(\"Tensor shape:\", tf.shape(tensor_463))\n",
    "tf.print(\"Sum:\", tensor_sum_463)\n",
    "tf.print(\"Mean:\", tensor_mean_463)\n",
    "tf.print(\"Max:\", tensor_max_463)"
   ]
  },
  {
   "cell_type": "code",
   "execution_count": null,
   "id": "4a2a1b8f",
   "metadata": {},
   "outputs": [],
   "source": [
    "import tensorflow as tf\n",
    "\n",
    "tensor_464 = tf.constant(list(range(464)), dtype=tf.float32)\n",
    "tensor_squared_464 = tf.square(tensor_464)\n",
    "tensor_sum_464 = tf.reduce_sum(tensor_squared_464)\n",
    "tensor_mean_464 = tf.reduce_mean(tensor_squared_464)\n",
    "tensor_max_464 = tf.reduce_max(tensor_squared_464)\n",
    "\n",
    "tf.print(\"Cell 464 - TensorFlow\")\n",
    "tf.print(\"Tensor shape:\", tf.shape(tensor_464))\n",
    "tf.print(\"Sum:\", tensor_sum_464)\n",
    "tf.print(\"Mean:\", tensor_mean_464)\n",
    "tf.print(\"Max:\", tensor_max_464)"
   ]
  },
  {
   "cell_type": "code",
   "execution_count": null,
   "id": "c8a6d7bb",
   "metadata": {},
   "outputs": [],
   "source": [
    "import tensorflow as tf\n",
    "\n",
    "tensor_465 = tf.constant(list(range(465)), dtype=tf.float32)\n",
    "tensor_squared_465 = tf.square(tensor_465)\n",
    "tensor_sum_465 = tf.reduce_sum(tensor_squared_465)\n",
    "tensor_mean_465 = tf.reduce_mean(tensor_squared_465)\n",
    "tensor_max_465 = tf.reduce_max(tensor_squared_465)\n",
    "\n",
    "tf.print(\"Cell 465 - TensorFlow\")\n",
    "tf.print(\"Tensor shape:\", tf.shape(tensor_465))\n",
    "tf.print(\"Sum:\", tensor_sum_465)\n",
    "tf.print(\"Mean:\", tensor_mean_465)\n",
    "tf.print(\"Max:\", tensor_max_465)"
   ]
  },
  {
   "cell_type": "code",
   "execution_count": null,
   "id": "ad34243c",
   "metadata": {},
   "outputs": [],
   "source": [
    "import tensorflow as tf\n",
    "\n",
    "tensor_466 = tf.constant(list(range(466)), dtype=tf.float32)\n",
    "tensor_squared_466 = tf.square(tensor_466)\n",
    "tensor_sum_466 = tf.reduce_sum(tensor_squared_466)\n",
    "tensor_mean_466 = tf.reduce_mean(tensor_squared_466)\n",
    "tensor_max_466 = tf.reduce_max(tensor_squared_466)\n",
    "\n",
    "tf.print(\"Cell 466 - TensorFlow\")\n",
    "tf.print(\"Tensor shape:\", tf.shape(tensor_466))\n",
    "tf.print(\"Sum:\", tensor_sum_466)\n",
    "tf.print(\"Mean:\", tensor_mean_466)\n",
    "tf.print(\"Max:\", tensor_max_466)"
   ]
  },
  {
   "cell_type": "code",
   "execution_count": null,
   "id": "b2b12954",
   "metadata": {},
   "outputs": [],
   "source": [
    "import tensorflow as tf\n",
    "\n",
    "tensor_467 = tf.constant(list(range(467)), dtype=tf.float32)\n",
    "tensor_squared_467 = tf.square(tensor_467)\n",
    "tensor_sum_467 = tf.reduce_sum(tensor_squared_467)\n",
    "tensor_mean_467 = tf.reduce_mean(tensor_squared_467)\n",
    "tensor_max_467 = tf.reduce_max(tensor_squared_467)\n",
    "\n",
    "tf.print(\"Cell 467 - TensorFlow\")\n",
    "tf.print(\"Tensor shape:\", tf.shape(tensor_467))\n",
    "tf.print(\"Sum:\", tensor_sum_467)\n",
    "tf.print(\"Mean:\", tensor_mean_467)\n",
    "tf.print(\"Max:\", tensor_max_467)"
   ]
  },
  {
   "cell_type": "code",
   "execution_count": null,
   "id": "eb01e190",
   "metadata": {},
   "outputs": [],
   "source": [
    "import tensorflow as tf\n",
    "\n",
    "tensor_468 = tf.constant(list(range(468)), dtype=tf.float32)\n",
    "tensor_squared_468 = tf.square(tensor_468)\n",
    "tensor_sum_468 = tf.reduce_sum(tensor_squared_468)\n",
    "tensor_mean_468 = tf.reduce_mean(tensor_squared_468)\n",
    "tensor_max_468 = tf.reduce_max(tensor_squared_468)\n",
    "\n",
    "tf.print(\"Cell 468 - TensorFlow\")\n",
    "tf.print(\"Tensor shape:\", tf.shape(tensor_468))\n",
    "tf.print(\"Sum:\", tensor_sum_468)\n",
    "tf.print(\"Mean:\", tensor_mean_468)\n",
    "tf.print(\"Max:\", tensor_max_468)"
   ]
  },
  {
   "cell_type": "code",
   "execution_count": null,
   "id": "edf697b0",
   "metadata": {},
   "outputs": [],
   "source": [
    "import tensorflow as tf\n",
    "\n",
    "tensor_469 = tf.constant(list(range(469)), dtype=tf.float32)\n",
    "tensor_squared_469 = tf.square(tensor_469)\n",
    "tensor_sum_469 = tf.reduce_sum(tensor_squared_469)\n",
    "tensor_mean_469 = tf.reduce_mean(tensor_squared_469)\n",
    "tensor_max_469 = tf.reduce_max(tensor_squared_469)\n",
    "\n",
    "tf.print(\"Cell 469 - TensorFlow\")\n",
    "tf.print(\"Tensor shape:\", tf.shape(tensor_469))\n",
    "tf.print(\"Sum:\", tensor_sum_469)\n",
    "tf.print(\"Mean:\", tensor_mean_469)\n",
    "tf.print(\"Max:\", tensor_max_469)"
   ]
  },
  {
   "cell_type": "code",
   "execution_count": null,
   "id": "b2e4ce09",
   "metadata": {},
   "outputs": [],
   "source": [
    "import tensorflow as tf\n",
    "\n",
    "tensor_470 = tf.constant(list(range(470)), dtype=tf.float32)\n",
    "tensor_squared_470 = tf.square(tensor_470)\n",
    "tensor_sum_470 = tf.reduce_sum(tensor_squared_470)\n",
    "tensor_mean_470 = tf.reduce_mean(tensor_squared_470)\n",
    "tensor_max_470 = tf.reduce_max(tensor_squared_470)\n",
    "\n",
    "tf.print(\"Cell 470 - TensorFlow\")\n",
    "tf.print(\"Tensor shape:\", tf.shape(tensor_470))\n",
    "tf.print(\"Sum:\", tensor_sum_470)\n",
    "tf.print(\"Mean:\", tensor_mean_470)\n",
    "tf.print(\"Max:\", tensor_max_470)"
   ]
  },
  {
   "cell_type": "code",
   "execution_count": null,
   "id": "ffce6c15",
   "metadata": {},
   "outputs": [],
   "source": [
    "import tensorflow as tf\n",
    "\n",
    "tensor_471 = tf.constant(list(range(471)), dtype=tf.float32)\n",
    "tensor_squared_471 = tf.square(tensor_471)\n",
    "tensor_sum_471 = tf.reduce_sum(tensor_squared_471)\n",
    "tensor_mean_471 = tf.reduce_mean(tensor_squared_471)\n",
    "tensor_max_471 = tf.reduce_max(tensor_squared_471)\n",
    "\n",
    "tf.print(\"Cell 471 - TensorFlow\")\n",
    "tf.print(\"Tensor shape:\", tf.shape(tensor_471))\n",
    "tf.print(\"Sum:\", tensor_sum_471)\n",
    "tf.print(\"Mean:\", tensor_mean_471)\n",
    "tf.print(\"Max:\", tensor_max_471)"
   ]
  },
  {
   "cell_type": "code",
   "execution_count": null,
   "id": "90a4e5e3",
   "metadata": {},
   "outputs": [],
   "source": [
    "import tensorflow as tf\n",
    "\n",
    "tensor_472 = tf.constant(list(range(472)), dtype=tf.float32)\n",
    "tensor_squared_472 = tf.square(tensor_472)\n",
    "tensor_sum_472 = tf.reduce_sum(tensor_squared_472)\n",
    "tensor_mean_472 = tf.reduce_mean(tensor_squared_472)\n",
    "tensor_max_472 = tf.reduce_max(tensor_squared_472)\n",
    "\n",
    "tf.print(\"Cell 472 - TensorFlow\")\n",
    "tf.print(\"Tensor shape:\", tf.shape(tensor_472))\n",
    "tf.print(\"Sum:\", tensor_sum_472)\n",
    "tf.print(\"Mean:\", tensor_mean_472)\n",
    "tf.print(\"Max:\", tensor_max_472)"
   ]
  },
  {
   "cell_type": "code",
   "execution_count": null,
   "id": "a3d94877",
   "metadata": {},
   "outputs": [],
   "source": [
    "import tensorflow as tf\n",
    "\n",
    "tensor_473 = tf.constant(list(range(473)), dtype=tf.float32)\n",
    "tensor_squared_473 = tf.square(tensor_473)\n",
    "tensor_sum_473 = tf.reduce_sum(tensor_squared_473)\n",
    "tensor_mean_473 = tf.reduce_mean(tensor_squared_473)\n",
    "tensor_max_473 = tf.reduce_max(tensor_squared_473)\n",
    "\n",
    "tf.print(\"Cell 473 - TensorFlow\")\n",
    "tf.print(\"Tensor shape:\", tf.shape(tensor_473))\n",
    "tf.print(\"Sum:\", tensor_sum_473)\n",
    "tf.print(\"Mean:\", tensor_mean_473)\n",
    "tf.print(\"Max:\", tensor_max_473)"
   ]
  },
  {
   "cell_type": "code",
   "execution_count": null,
   "id": "85b6ed6d",
   "metadata": {},
   "outputs": [],
   "source": [
    "import tensorflow as tf\n",
    "\n",
    "tensor_474 = tf.constant(list(range(474)), dtype=tf.float32)\n",
    "tensor_squared_474 = tf.square(tensor_474)\n",
    "tensor_sum_474 = tf.reduce_sum(tensor_squared_474)\n",
    "tensor_mean_474 = tf.reduce_mean(tensor_squared_474)\n",
    "tensor_max_474 = tf.reduce_max(tensor_squared_474)\n",
    "\n",
    "tf.print(\"Cell 474 - TensorFlow\")\n",
    "tf.print(\"Tensor shape:\", tf.shape(tensor_474))\n",
    "tf.print(\"Sum:\", tensor_sum_474)\n",
    "tf.print(\"Mean:\", tensor_mean_474)\n",
    "tf.print(\"Max:\", tensor_max_474)"
   ]
  },
  {
   "cell_type": "code",
   "execution_count": null,
   "id": "f042755e",
   "metadata": {},
   "outputs": [],
   "source": [
    "import tensorflow as tf\n",
    "\n",
    "tensor_475 = tf.constant(list(range(475)), dtype=tf.float32)\n",
    "tensor_squared_475 = tf.square(tensor_475)\n",
    "tensor_sum_475 = tf.reduce_sum(tensor_squared_475)\n",
    "tensor_mean_475 = tf.reduce_mean(tensor_squared_475)\n",
    "tensor_max_475 = tf.reduce_max(tensor_squared_475)\n",
    "\n",
    "tf.print(\"Cell 475 - TensorFlow\")\n",
    "tf.print(\"Tensor shape:\", tf.shape(tensor_475))\n",
    "tf.print(\"Sum:\", tensor_sum_475)\n",
    "tf.print(\"Mean:\", tensor_mean_475)\n",
    "tf.print(\"Max:\", tensor_max_475)"
   ]
  },
  {
   "cell_type": "code",
   "execution_count": null,
   "id": "72f5a261",
   "metadata": {},
   "outputs": [],
   "source": [
    "import tensorflow as tf\n",
    "\n",
    "tensor_476 = tf.constant(list(range(476)), dtype=tf.float32)\n",
    "tensor_squared_476 = tf.square(tensor_476)\n",
    "tensor_sum_476 = tf.reduce_sum(tensor_squared_476)\n",
    "tensor_mean_476 = tf.reduce_mean(tensor_squared_476)\n",
    "tensor_max_476 = tf.reduce_max(tensor_squared_476)\n",
    "\n",
    "tf.print(\"Cell 476 - TensorFlow\")\n",
    "tf.print(\"Tensor shape:\", tf.shape(tensor_476))\n",
    "tf.print(\"Sum:\", tensor_sum_476)\n",
    "tf.print(\"Mean:\", tensor_mean_476)\n",
    "tf.print(\"Max:\", tensor_max_476)"
   ]
  },
  {
   "cell_type": "code",
   "execution_count": null,
   "id": "3ea001ca",
   "metadata": {},
   "outputs": [],
   "source": [
    "import tensorflow as tf\n",
    "\n",
    "tensor_477 = tf.constant(list(range(477)), dtype=tf.float32)\n",
    "tensor_squared_477 = tf.square(tensor_477)\n",
    "tensor_sum_477 = tf.reduce_sum(tensor_squared_477)\n",
    "tensor_mean_477 = tf.reduce_mean(tensor_squared_477)\n",
    "tensor_max_477 = tf.reduce_max(tensor_squared_477)\n",
    "\n",
    "tf.print(\"Cell 477 - TensorFlow\")\n",
    "tf.print(\"Tensor shape:\", tf.shape(tensor_477))\n",
    "tf.print(\"Sum:\", tensor_sum_477)\n",
    "tf.print(\"Mean:\", tensor_mean_477)\n",
    "tf.print(\"Max:\", tensor_max_477)"
   ]
  },
  {
   "cell_type": "code",
   "execution_count": null,
   "id": "18d35454",
   "metadata": {},
   "outputs": [],
   "source": [
    "import tensorflow as tf\n",
    "\n",
    "tensor_478 = tf.constant(list(range(478)), dtype=tf.float32)\n",
    "tensor_squared_478 = tf.square(tensor_478)\n",
    "tensor_sum_478 = tf.reduce_sum(tensor_squared_478)\n",
    "tensor_mean_478 = tf.reduce_mean(tensor_squared_478)\n",
    "tensor_max_478 = tf.reduce_max(tensor_squared_478)\n",
    "\n",
    "tf.print(\"Cell 478 - TensorFlow\")\n",
    "tf.print(\"Tensor shape:\", tf.shape(tensor_478))\n",
    "tf.print(\"Sum:\", tensor_sum_478)\n",
    "tf.print(\"Mean:\", tensor_mean_478)\n",
    "tf.print(\"Max:\", tensor_max_478)"
   ]
  },
  {
   "cell_type": "code",
   "execution_count": null,
   "id": "3c9ac31a",
   "metadata": {},
   "outputs": [],
   "source": [
    "import tensorflow as tf\n",
    "\n",
    "tensor_479 = tf.constant(list(range(479)), dtype=tf.float32)\n",
    "tensor_squared_479 = tf.square(tensor_479)\n",
    "tensor_sum_479 = tf.reduce_sum(tensor_squared_479)\n",
    "tensor_mean_479 = tf.reduce_mean(tensor_squared_479)\n",
    "tensor_max_479 = tf.reduce_max(tensor_squared_479)\n",
    "\n",
    "tf.print(\"Cell 479 - TensorFlow\")\n",
    "tf.print(\"Tensor shape:\", tf.shape(tensor_479))\n",
    "tf.print(\"Sum:\", tensor_sum_479)\n",
    "tf.print(\"Mean:\", tensor_mean_479)\n",
    "tf.print(\"Max:\", tensor_max_479)"
   ]
  },
  {
   "cell_type": "code",
   "execution_count": null,
   "id": "f6249665",
   "metadata": {},
   "outputs": [],
   "source": [
    "import tensorflow as tf\n",
    "\n",
    "tensor_480 = tf.constant(list(range(480)), dtype=tf.float32)\n",
    "tensor_squared_480 = tf.square(tensor_480)\n",
    "tensor_sum_480 = tf.reduce_sum(tensor_squared_480)\n",
    "tensor_mean_480 = tf.reduce_mean(tensor_squared_480)\n",
    "tensor_max_480 = tf.reduce_max(tensor_squared_480)\n",
    "\n",
    "tf.print(\"Cell 480 - TensorFlow\")\n",
    "tf.print(\"Tensor shape:\", tf.shape(tensor_480))\n",
    "tf.print(\"Sum:\", tensor_sum_480)\n",
    "tf.print(\"Mean:\", tensor_mean_480)\n",
    "tf.print(\"Max:\", tensor_max_480)"
   ]
  },
  {
   "cell_type": "code",
   "execution_count": null,
   "id": "8a9c56bf",
   "metadata": {},
   "outputs": [],
   "source": [
    "import tensorflow as tf\n",
    "\n",
    "tensor_481 = tf.constant(list(range(481)), dtype=tf.float32)\n",
    "tensor_squared_481 = tf.square(tensor_481)\n",
    "tensor_sum_481 = tf.reduce_sum(tensor_squared_481)\n",
    "tensor_mean_481 = tf.reduce_mean(tensor_squared_481)\n",
    "tensor_max_481 = tf.reduce_max(tensor_squared_481)\n",
    "\n",
    "tf.print(\"Cell 481 - TensorFlow\")\n",
    "tf.print(\"Tensor shape:\", tf.shape(tensor_481))\n",
    "tf.print(\"Sum:\", tensor_sum_481)\n",
    "tf.print(\"Mean:\", tensor_mean_481)\n",
    "tf.print(\"Max:\", tensor_max_481)"
   ]
  },
  {
   "cell_type": "code",
   "execution_count": null,
   "id": "5e263383",
   "metadata": {},
   "outputs": [],
   "source": [
    "import tensorflow as tf\n",
    "\n",
    "tensor_482 = tf.constant(list(range(482)), dtype=tf.float32)\n",
    "tensor_squared_482 = tf.square(tensor_482)\n",
    "tensor_sum_482 = tf.reduce_sum(tensor_squared_482)\n",
    "tensor_mean_482 = tf.reduce_mean(tensor_squared_482)\n",
    "tensor_max_482 = tf.reduce_max(tensor_squared_482)\n",
    "\n",
    "tf.print(\"Cell 482 - TensorFlow\")\n",
    "tf.print(\"Tensor shape:\", tf.shape(tensor_482))\n",
    "tf.print(\"Sum:\", tensor_sum_482)\n",
    "tf.print(\"Mean:\", tensor_mean_482)\n",
    "tf.print(\"Max:\", tensor_max_482)"
   ]
  },
  {
   "cell_type": "code",
   "execution_count": null,
   "id": "8c2d4da2",
   "metadata": {},
   "outputs": [],
   "source": [
    "import tensorflow as tf\n",
    "\n",
    "tensor_483 = tf.constant(list(range(483)), dtype=tf.float32)\n",
    "tensor_squared_483 = tf.square(tensor_483)\n",
    "tensor_sum_483 = tf.reduce_sum(tensor_squared_483)\n",
    "tensor_mean_483 = tf.reduce_mean(tensor_squared_483)\n",
    "tensor_max_483 = tf.reduce_max(tensor_squared_483)\n",
    "\n",
    "tf.print(\"Cell 483 - TensorFlow\")\n",
    "tf.print(\"Tensor shape:\", tf.shape(tensor_483))\n",
    "tf.print(\"Sum:\", tensor_sum_483)\n",
    "tf.print(\"Mean:\", tensor_mean_483)\n",
    "tf.print(\"Max:\", tensor_max_483)"
   ]
  },
  {
   "cell_type": "code",
   "execution_count": null,
   "id": "d2d2e34e",
   "metadata": {},
   "outputs": [],
   "source": [
    "import tensorflow as tf\n",
    "\n",
    "tensor_484 = tf.constant(list(range(484)), dtype=tf.float32)\n",
    "tensor_squared_484 = tf.square(tensor_484)\n",
    "tensor_sum_484 = tf.reduce_sum(tensor_squared_484)\n",
    "tensor_mean_484 = tf.reduce_mean(tensor_squared_484)\n",
    "tensor_max_484 = tf.reduce_max(tensor_squared_484)\n",
    "\n",
    "tf.print(\"Cell 484 - TensorFlow\")\n",
    "tf.print(\"Tensor shape:\", tf.shape(tensor_484))\n",
    "tf.print(\"Sum:\", tensor_sum_484)\n",
    "tf.print(\"Mean:\", tensor_mean_484)\n",
    "tf.print(\"Max:\", tensor_max_484)"
   ]
  },
  {
   "cell_type": "code",
   "execution_count": null,
   "id": "3e06bff7",
   "metadata": {},
   "outputs": [],
   "source": [
    "import tensorflow as tf\n",
    "\n",
    "tensor_485 = tf.constant(list(range(485)), dtype=tf.float32)\n",
    "tensor_squared_485 = tf.square(tensor_485)\n",
    "tensor_sum_485 = tf.reduce_sum(tensor_squared_485)\n",
    "tensor_mean_485 = tf.reduce_mean(tensor_squared_485)\n",
    "tensor_max_485 = tf.reduce_max(tensor_squared_485)\n",
    "\n",
    "tf.print(\"Cell 485 - TensorFlow\")\n",
    "tf.print(\"Tensor shape:\", tf.shape(tensor_485))\n",
    "tf.print(\"Sum:\", tensor_sum_485)\n",
    "tf.print(\"Mean:\", tensor_mean_485)\n",
    "tf.print(\"Max:\", tensor_max_485)"
   ]
  },
  {
   "cell_type": "code",
   "execution_count": null,
   "id": "f3eabb0a",
   "metadata": {},
   "outputs": [],
   "source": [
    "import tensorflow as tf\n",
    "\n",
    "tensor_486 = tf.constant(list(range(486)), dtype=tf.float32)\n",
    "tensor_squared_486 = tf.square(tensor_486)\n",
    "tensor_sum_486 = tf.reduce_sum(tensor_squared_486)\n",
    "tensor_mean_486 = tf.reduce_mean(tensor_squared_486)\n",
    "tensor_max_486 = tf.reduce_max(tensor_squared_486)\n",
    "\n",
    "tf.print(\"Cell 486 - TensorFlow\")\n",
    "tf.print(\"Tensor shape:\", tf.shape(tensor_486))\n",
    "tf.print(\"Sum:\", tensor_sum_486)\n",
    "tf.print(\"Mean:\", tensor_mean_486)\n",
    "tf.print(\"Max:\", tensor_max_486)"
   ]
  },
  {
   "cell_type": "code",
   "execution_count": null,
   "id": "f640027b",
   "metadata": {},
   "outputs": [],
   "source": [
    "import tensorflow as tf\n",
    "\n",
    "tensor_487 = tf.constant(list(range(487)), dtype=tf.float32)\n",
    "tensor_squared_487 = tf.square(tensor_487)\n",
    "tensor_sum_487 = tf.reduce_sum(tensor_squared_487)\n",
    "tensor_mean_487 = tf.reduce_mean(tensor_squared_487)\n",
    "tensor_max_487 = tf.reduce_max(tensor_squared_487)\n",
    "\n",
    "tf.print(\"Cell 487 - TensorFlow\")\n",
    "tf.print(\"Tensor shape:\", tf.shape(tensor_487))\n",
    "tf.print(\"Sum:\", tensor_sum_487)\n",
    "tf.print(\"Mean:\", tensor_mean_487)\n",
    "tf.print(\"Max:\", tensor_max_487)"
   ]
  },
  {
   "cell_type": "code",
   "execution_count": null,
   "id": "0879e0b4",
   "metadata": {},
   "outputs": [],
   "source": [
    "import tensorflow as tf\n",
    "\n",
    "tensor_488 = tf.constant(list(range(488)), dtype=tf.float32)\n",
    "tensor_squared_488 = tf.square(tensor_488)\n",
    "tensor_sum_488 = tf.reduce_sum(tensor_squared_488)\n",
    "tensor_mean_488 = tf.reduce_mean(tensor_squared_488)\n",
    "tensor_max_488 = tf.reduce_max(tensor_squared_488)\n",
    "\n",
    "tf.print(\"Cell 488 - TensorFlow\")\n",
    "tf.print(\"Tensor shape:\", tf.shape(tensor_488))\n",
    "tf.print(\"Sum:\", tensor_sum_488)\n",
    "tf.print(\"Mean:\", tensor_mean_488)\n",
    "tf.print(\"Max:\", tensor_max_488)"
   ]
  },
  {
   "cell_type": "code",
   "execution_count": null,
   "id": "5a27d9a4",
   "metadata": {},
   "outputs": [],
   "source": [
    "import tensorflow as tf\n",
    "\n",
    "tensor_489 = tf.constant(list(range(489)), dtype=tf.float32)\n",
    "tensor_squared_489 = tf.square(tensor_489)\n",
    "tensor_sum_489 = tf.reduce_sum(tensor_squared_489)\n",
    "tensor_mean_489 = tf.reduce_mean(tensor_squared_489)\n",
    "tensor_max_489 = tf.reduce_max(tensor_squared_489)\n",
    "\n",
    "tf.print(\"Cell 489 - TensorFlow\")\n",
    "tf.print(\"Tensor shape:\", tf.shape(tensor_489))\n",
    "tf.print(\"Sum:\", tensor_sum_489)\n",
    "tf.print(\"Mean:\", tensor_mean_489)\n",
    "tf.print(\"Max:\", tensor_max_489)"
   ]
  },
  {
   "cell_type": "code",
   "execution_count": null,
   "id": "f4a84afb",
   "metadata": {},
   "outputs": [],
   "source": [
    "import tensorflow as tf\n",
    "\n",
    "tensor_490 = tf.constant(list(range(490)), dtype=tf.float32)\n",
    "tensor_squared_490 = tf.square(tensor_490)\n",
    "tensor_sum_490 = tf.reduce_sum(tensor_squared_490)\n",
    "tensor_mean_490 = tf.reduce_mean(tensor_squared_490)\n",
    "tensor_max_490 = tf.reduce_max(tensor_squared_490)\n",
    "\n",
    "tf.print(\"Cell 490 - TensorFlow\")\n",
    "tf.print(\"Tensor shape:\", tf.shape(tensor_490))\n",
    "tf.print(\"Sum:\", tensor_sum_490)\n",
    "tf.print(\"Mean:\", tensor_mean_490)\n",
    "tf.print(\"Max:\", tensor_max_490)"
   ]
  },
  {
   "cell_type": "code",
   "execution_count": null,
   "id": "4f84c2e9",
   "metadata": {},
   "outputs": [],
   "source": [
    "import tensorflow as tf\n",
    "\n",
    "tensor_491 = tf.constant(list(range(491)), dtype=tf.float32)\n",
    "tensor_squared_491 = tf.square(tensor_491)\n",
    "tensor_sum_491 = tf.reduce_sum(tensor_squared_491)\n",
    "tensor_mean_491 = tf.reduce_mean(tensor_squared_491)\n",
    "tensor_max_491 = tf.reduce_max(tensor_squared_491)\n",
    "\n",
    "tf.print(\"Cell 491 - TensorFlow\")\n",
    "tf.print(\"Tensor shape:\", tf.shape(tensor_491))\n",
    "tf.print(\"Sum:\", tensor_sum_491)\n",
    "tf.print(\"Mean:\", tensor_mean_491)\n",
    "tf.print(\"Max:\", tensor_max_491)"
   ]
  },
  {
   "cell_type": "code",
   "execution_count": null,
   "id": "acc7cbeb",
   "metadata": {},
   "outputs": [],
   "source": [
    "import tensorflow as tf\n",
    "\n",
    "tensor_492 = tf.constant(list(range(492)), dtype=tf.float32)\n",
    "tensor_squared_492 = tf.square(tensor_492)\n",
    "tensor_sum_492 = tf.reduce_sum(tensor_squared_492)\n",
    "tensor_mean_492 = tf.reduce_mean(tensor_squared_492)\n",
    "tensor_max_492 = tf.reduce_max(tensor_squared_492)\n",
    "\n",
    "tf.print(\"Cell 492 - TensorFlow\")\n",
    "tf.print(\"Tensor shape:\", tf.shape(tensor_492))\n",
    "tf.print(\"Sum:\", tensor_sum_492)\n",
    "tf.print(\"Mean:\", tensor_mean_492)\n",
    "tf.print(\"Max:\", tensor_max_492)"
   ]
  },
  {
   "cell_type": "code",
   "execution_count": null,
   "id": "3e71f669",
   "metadata": {},
   "outputs": [],
   "source": [
    "import tensorflow as tf\n",
    "\n",
    "tensor_493 = tf.constant(list(range(493)), dtype=tf.float32)\n",
    "tensor_squared_493 = tf.square(tensor_493)\n",
    "tensor_sum_493 = tf.reduce_sum(tensor_squared_493)\n",
    "tensor_mean_493 = tf.reduce_mean(tensor_squared_493)\n",
    "tensor_max_493 = tf.reduce_max(tensor_squared_493)\n",
    "\n",
    "tf.print(\"Cell 493 - TensorFlow\")\n",
    "tf.print(\"Tensor shape:\", tf.shape(tensor_493))\n",
    "tf.print(\"Sum:\", tensor_sum_493)\n",
    "tf.print(\"Mean:\", tensor_mean_493)\n",
    "tf.print(\"Max:\", tensor_max_493)"
   ]
  },
  {
   "cell_type": "code",
   "execution_count": null,
   "id": "b7f8fb2d",
   "metadata": {},
   "outputs": [],
   "source": [
    "import tensorflow as tf\n",
    "\n",
    "tensor_494 = tf.constant(list(range(494)), dtype=tf.float32)\n",
    "tensor_squared_494 = tf.square(tensor_494)\n",
    "tensor_sum_494 = tf.reduce_sum(tensor_squared_494)\n",
    "tensor_mean_494 = tf.reduce_mean(tensor_squared_494)\n",
    "tensor_max_494 = tf.reduce_max(tensor_squared_494)\n",
    "\n",
    "tf.print(\"Cell 494 - TensorFlow\")\n",
    "tf.print(\"Tensor shape:\", tf.shape(tensor_494))\n",
    "tf.print(\"Sum:\", tensor_sum_494)\n",
    "tf.print(\"Mean:\", tensor_mean_494)\n",
    "tf.print(\"Max:\", tensor_max_494)"
   ]
  },
  {
   "cell_type": "code",
   "execution_count": null,
   "id": "2d4d9530",
   "metadata": {},
   "outputs": [],
   "source": [
    "import tensorflow as tf\n",
    "\n",
    "tensor_495 = tf.constant(list(range(495)), dtype=tf.float32)\n",
    "tensor_squared_495 = tf.square(tensor_495)\n",
    "tensor_sum_495 = tf.reduce_sum(tensor_squared_495)\n",
    "tensor_mean_495 = tf.reduce_mean(tensor_squared_495)\n",
    "tensor_max_495 = tf.reduce_max(tensor_squared_495)\n",
    "\n",
    "tf.print(\"Cell 495 - TensorFlow\")\n",
    "tf.print(\"Tensor shape:\", tf.shape(tensor_495))\n",
    "tf.print(\"Sum:\", tensor_sum_495)\n",
    "tf.print(\"Mean:\", tensor_mean_495)\n",
    "tf.print(\"Max:\", tensor_max_495)"
   ]
  },
  {
   "cell_type": "code",
   "execution_count": null,
   "id": "353382ba",
   "metadata": {},
   "outputs": [],
   "source": [
    "import tensorflow as tf\n",
    "\n",
    "tensor_496 = tf.constant(list(range(496)), dtype=tf.float32)\n",
    "tensor_squared_496 = tf.square(tensor_496)\n",
    "tensor_sum_496 = tf.reduce_sum(tensor_squared_496)\n",
    "tensor_mean_496 = tf.reduce_mean(tensor_squared_496)\n",
    "tensor_max_496 = tf.reduce_max(tensor_squared_496)\n",
    "\n",
    "tf.print(\"Cell 496 - TensorFlow\")\n",
    "tf.print(\"Tensor shape:\", tf.shape(tensor_496))\n",
    "tf.print(\"Sum:\", tensor_sum_496)\n",
    "tf.print(\"Mean:\", tensor_mean_496)\n",
    "tf.print(\"Max:\", tensor_max_496)"
   ]
  },
  {
   "cell_type": "code",
   "execution_count": null,
   "id": "44061673",
   "metadata": {},
   "outputs": [],
   "source": [
    "import tensorflow as tf\n",
    "\n",
    "tensor_497 = tf.constant(list(range(497)), dtype=tf.float32)\n",
    "tensor_squared_497 = tf.square(tensor_497)\n",
    "tensor_sum_497 = tf.reduce_sum(tensor_squared_497)\n",
    "tensor_mean_497 = tf.reduce_mean(tensor_squared_497)\n",
    "tensor_max_497 = tf.reduce_max(tensor_squared_497)\n",
    "\n",
    "tf.print(\"Cell 497 - TensorFlow\")\n",
    "tf.print(\"Tensor shape:\", tf.shape(tensor_497))\n",
    "tf.print(\"Sum:\", tensor_sum_497)\n",
    "tf.print(\"Mean:\", tensor_mean_497)\n",
    "tf.print(\"Max:\", tensor_max_497)"
   ]
  },
  {
   "cell_type": "code",
   "execution_count": null,
   "id": "37ab5d39",
   "metadata": {},
   "outputs": [],
   "source": [
    "import tensorflow as tf\n",
    "\n",
    "tensor_498 = tf.constant(list(range(498)), dtype=tf.float32)\n",
    "tensor_squared_498 = tf.square(tensor_498)\n",
    "tensor_sum_498 = tf.reduce_sum(tensor_squared_498)\n",
    "tensor_mean_498 = tf.reduce_mean(tensor_squared_498)\n",
    "tensor_max_498 = tf.reduce_max(tensor_squared_498)\n",
    "\n",
    "tf.print(\"Cell 498 - TensorFlow\")\n",
    "tf.print(\"Tensor shape:\", tf.shape(tensor_498))\n",
    "tf.print(\"Sum:\", tensor_sum_498)\n",
    "tf.print(\"Mean:\", tensor_mean_498)\n",
    "tf.print(\"Max:\", tensor_max_498)"
   ]
  },
  {
   "cell_type": "code",
   "execution_count": null,
   "id": "47d2c5de",
   "metadata": {},
   "outputs": [],
   "source": [
    "import tensorflow as tf\n",
    "\n",
    "tensor_499 = tf.constant(list(range(499)), dtype=tf.float32)\n",
    "tensor_squared_499 = tf.square(tensor_499)\n",
    "tensor_sum_499 = tf.reduce_sum(tensor_squared_499)\n",
    "tensor_mean_499 = tf.reduce_mean(tensor_squared_499)\n",
    "tensor_max_499 = tf.reduce_max(tensor_squared_499)\n",
    "\n",
    "tf.print(\"Cell 499 - TensorFlow\")\n",
    "tf.print(\"Tensor shape:\", tf.shape(tensor_499))\n",
    "tf.print(\"Sum:\", tensor_sum_499)\n",
    "tf.print(\"Mean:\", tensor_mean_499)\n",
    "tf.print(\"Max:\", tensor_max_499)"
   ]
  },
  {
   "cell_type": "code",
   "execution_count": null,
   "id": "1c508420",
   "metadata": {},
   "outputs": [],
   "source": [
    "import tensorflow as tf\n",
    "\n",
    "tensor_500 = tf.constant(list(range(500)), dtype=tf.float32)\n",
    "tensor_squared_500 = tf.square(tensor_500)\n",
    "tensor_sum_500 = tf.reduce_sum(tensor_squared_500)\n",
    "tensor_mean_500 = tf.reduce_mean(tensor_squared_500)\n",
    "tensor_max_500 = tf.reduce_max(tensor_squared_500)\n",
    "\n",
    "tf.print(\"Cell 500 - TensorFlow\")\n",
    "tf.print(\"Tensor shape:\", tf.shape(tensor_500))\n",
    "tf.print(\"Sum:\", tensor_sum_500)\n",
    "tf.print(\"Mean:\", tensor_mean_500)\n",
    "tf.print(\"Max:\", tensor_max_500)"
   ]
  },
  {
   "cell_type": "code",
   "execution_count": null,
   "id": "c0bb452e",
   "metadata": {},
   "outputs": [],
   "source": [
    "import tensorflow as tf\n",
    "\n",
    "tensor_501 = tf.constant(list(range(501)), dtype=tf.float32)\n",
    "tensor_squared_501 = tf.square(tensor_501)\n",
    "tensor_sum_501 = tf.reduce_sum(tensor_squared_501)\n",
    "tensor_mean_501 = tf.reduce_mean(tensor_squared_501)\n",
    "tensor_max_501 = tf.reduce_max(tensor_squared_501)\n",
    "\n",
    "tf.print(\"Cell 501 - TensorFlow\")\n",
    "tf.print(\"Tensor shape:\", tf.shape(tensor_501))\n",
    "tf.print(\"Sum:\", tensor_sum_501)\n",
    "tf.print(\"Mean:\", tensor_mean_501)\n",
    "tf.print(\"Max:\", tensor_max_501)"
   ]
  },
  {
   "cell_type": "code",
   "execution_count": null,
   "id": "64fcfa91",
   "metadata": {},
   "outputs": [],
   "source": [
    "import tensorflow as tf\n",
    "\n",
    "tensor_502 = tf.constant(list(range(502)), dtype=tf.float32)\n",
    "tensor_squared_502 = tf.square(tensor_502)\n",
    "tensor_sum_502 = tf.reduce_sum(tensor_squared_502)\n",
    "tensor_mean_502 = tf.reduce_mean(tensor_squared_502)\n",
    "tensor_max_502 = tf.reduce_max(tensor_squared_502)\n",
    "\n",
    "tf.print(\"Cell 502 - TensorFlow\")\n",
    "tf.print(\"Tensor shape:\", tf.shape(tensor_502))\n",
    "tf.print(\"Sum:\", tensor_sum_502)\n",
    "tf.print(\"Mean:\", tensor_mean_502)\n",
    "tf.print(\"Max:\", tensor_max_502)"
   ]
  },
  {
   "cell_type": "code",
   "execution_count": null,
   "id": "4b5728dd",
   "metadata": {},
   "outputs": [],
   "source": [
    "import tensorflow as tf\n",
    "\n",
    "tensor_503 = tf.constant(list(range(503)), dtype=tf.float32)\n",
    "tensor_squared_503 = tf.square(tensor_503)\n",
    "tensor_sum_503 = tf.reduce_sum(tensor_squared_503)\n",
    "tensor_mean_503 = tf.reduce_mean(tensor_squared_503)\n",
    "tensor_max_503 = tf.reduce_max(tensor_squared_503)\n",
    "\n",
    "tf.print(\"Cell 503 - TensorFlow\")\n",
    "tf.print(\"Tensor shape:\", tf.shape(tensor_503))\n",
    "tf.print(\"Sum:\", tensor_sum_503)\n",
    "tf.print(\"Mean:\", tensor_mean_503)\n",
    "tf.print(\"Max:\", tensor_max_503)"
   ]
  },
  {
   "cell_type": "code",
   "execution_count": null,
   "id": "d55f102a",
   "metadata": {},
   "outputs": [],
   "source": [
    "import tensorflow as tf\n",
    "\n",
    "tensor_504 = tf.constant(list(range(504)), dtype=tf.float32)\n",
    "tensor_squared_504 = tf.square(tensor_504)\n",
    "tensor_sum_504 = tf.reduce_sum(tensor_squared_504)\n",
    "tensor_mean_504 = tf.reduce_mean(tensor_squared_504)\n",
    "tensor_max_504 = tf.reduce_max(tensor_squared_504)\n",
    "\n",
    "tf.print(\"Cell 504 - TensorFlow\")\n",
    "tf.print(\"Tensor shape:\", tf.shape(tensor_504))\n",
    "tf.print(\"Sum:\", tensor_sum_504)\n",
    "tf.print(\"Mean:\", tensor_mean_504)\n",
    "tf.print(\"Max:\", tensor_max_504)"
   ]
  },
  {
   "cell_type": "code",
   "execution_count": null,
   "id": "581260e4",
   "metadata": {},
   "outputs": [],
   "source": [
    "import tensorflow as tf\n",
    "\n",
    "tensor_505 = tf.constant(list(range(505)), dtype=tf.float32)\n",
    "tensor_squared_505 = tf.square(tensor_505)\n",
    "tensor_sum_505 = tf.reduce_sum(tensor_squared_505)\n",
    "tensor_mean_505 = tf.reduce_mean(tensor_squared_505)\n",
    "tensor_max_505 = tf.reduce_max(tensor_squared_505)\n",
    "\n",
    "tf.print(\"Cell 505 - TensorFlow\")\n",
    "tf.print(\"Tensor shape:\", tf.shape(tensor_505))\n",
    "tf.print(\"Sum:\", tensor_sum_505)\n",
    "tf.print(\"Mean:\", tensor_mean_505)\n",
    "tf.print(\"Max:\", tensor_max_505)"
   ]
  },
  {
   "cell_type": "code",
   "execution_count": null,
   "id": "1b4abf8e",
   "metadata": {},
   "outputs": [],
   "source": [
    "import tensorflow as tf\n",
    "\n",
    "tensor_506 = tf.constant(list(range(506)), dtype=tf.float32)\n",
    "tensor_squared_506 = tf.square(tensor_506)\n",
    "tensor_sum_506 = tf.reduce_sum(tensor_squared_506)\n",
    "tensor_mean_506 = tf.reduce_mean(tensor_squared_506)\n",
    "tensor_max_506 = tf.reduce_max(tensor_squared_506)\n",
    "\n",
    "tf.print(\"Cell 506 - TensorFlow\")\n",
    "tf.print(\"Tensor shape:\", tf.shape(tensor_506))\n",
    "tf.print(\"Sum:\", tensor_sum_506)\n",
    "tf.print(\"Mean:\", tensor_mean_506)\n",
    "tf.print(\"Max:\", tensor_max_506)"
   ]
  },
  {
   "cell_type": "code",
   "execution_count": null,
   "id": "b840a602",
   "metadata": {},
   "outputs": [],
   "source": [
    "import tensorflow as tf\n",
    "\n",
    "tensor_507 = tf.constant(list(range(507)), dtype=tf.float32)\n",
    "tensor_squared_507 = tf.square(tensor_507)\n",
    "tensor_sum_507 = tf.reduce_sum(tensor_squared_507)\n",
    "tensor_mean_507 = tf.reduce_mean(tensor_squared_507)\n",
    "tensor_max_507 = tf.reduce_max(tensor_squared_507)\n",
    "\n",
    "tf.print(\"Cell 507 - TensorFlow\")\n",
    "tf.print(\"Tensor shape:\", tf.shape(tensor_507))\n",
    "tf.print(\"Sum:\", tensor_sum_507)\n",
    "tf.print(\"Mean:\", tensor_mean_507)\n",
    "tf.print(\"Max:\", tensor_max_507)"
   ]
  },
  {
   "cell_type": "code",
   "execution_count": null,
   "id": "f5e2e37d",
   "metadata": {},
   "outputs": [],
   "source": [
    "import tensorflow as tf\n",
    "\n",
    "tensor_508 = tf.constant(list(range(508)), dtype=tf.float32)\n",
    "tensor_squared_508 = tf.square(tensor_508)\n",
    "tensor_sum_508 = tf.reduce_sum(tensor_squared_508)\n",
    "tensor_mean_508 = tf.reduce_mean(tensor_squared_508)\n",
    "tensor_max_508 = tf.reduce_max(tensor_squared_508)\n",
    "\n",
    "tf.print(\"Cell 508 - TensorFlow\")\n",
    "tf.print(\"Tensor shape:\", tf.shape(tensor_508))\n",
    "tf.print(\"Sum:\", tensor_sum_508)\n",
    "tf.print(\"Mean:\", tensor_mean_508)\n",
    "tf.print(\"Max:\", tensor_max_508)"
   ]
  },
  {
   "cell_type": "code",
   "execution_count": null,
   "id": "56025e2e",
   "metadata": {},
   "outputs": [],
   "source": [
    "import tensorflow as tf\n",
    "\n",
    "tensor_509 = tf.constant(list(range(509)), dtype=tf.float32)\n",
    "tensor_squared_509 = tf.square(tensor_509)\n",
    "tensor_sum_509 = tf.reduce_sum(tensor_squared_509)\n",
    "tensor_mean_509 = tf.reduce_mean(tensor_squared_509)\n",
    "tensor_max_509 = tf.reduce_max(tensor_squared_509)\n",
    "\n",
    "tf.print(\"Cell 509 - TensorFlow\")\n",
    "tf.print(\"Tensor shape:\", tf.shape(tensor_509))\n",
    "tf.print(\"Sum:\", tensor_sum_509)\n",
    "tf.print(\"Mean:\", tensor_mean_509)\n",
    "tf.print(\"Max:\", tensor_max_509)"
   ]
  },
  {
   "cell_type": "code",
   "execution_count": null,
   "id": "d2c5ef70",
   "metadata": {},
   "outputs": [],
   "source": [
    "import tensorflow as tf\n",
    "\n",
    "tensor_510 = tf.constant(list(range(510)), dtype=tf.float32)\n",
    "tensor_squared_510 = tf.square(tensor_510)\n",
    "tensor_sum_510 = tf.reduce_sum(tensor_squared_510)\n",
    "tensor_mean_510 = tf.reduce_mean(tensor_squared_510)\n",
    "tensor_max_510 = tf.reduce_max(tensor_squared_510)\n",
    "\n",
    "tf.print(\"Cell 510 - TensorFlow\")\n",
    "tf.print(\"Tensor shape:\", tf.shape(tensor_510))\n",
    "tf.print(\"Sum:\", tensor_sum_510)\n",
    "tf.print(\"Mean:\", tensor_mean_510)\n",
    "tf.print(\"Max:\", tensor_max_510)"
   ]
  },
  {
   "cell_type": "code",
   "execution_count": null,
   "id": "8a7d492d",
   "metadata": {},
   "outputs": [],
   "source": [
    "import tensorflow as tf\n",
    "\n",
    "tensor_511 = tf.constant(list(range(511)), dtype=tf.float32)\n",
    "tensor_squared_511 = tf.square(tensor_511)\n",
    "tensor_sum_511 = tf.reduce_sum(tensor_squared_511)\n",
    "tensor_mean_511 = tf.reduce_mean(tensor_squared_511)\n",
    "tensor_max_511 = tf.reduce_max(tensor_squared_511)\n",
    "\n",
    "tf.print(\"Cell 511 - TensorFlow\")\n",
    "tf.print(\"Tensor shape:\", tf.shape(tensor_511))\n",
    "tf.print(\"Sum:\", tensor_sum_511)\n",
    "tf.print(\"Mean:\", tensor_mean_511)\n",
    "tf.print(\"Max:\", tensor_max_511)"
   ]
  },
  {
   "cell_type": "code",
   "execution_count": null,
   "id": "1c8169d8",
   "metadata": {},
   "outputs": [],
   "source": [
    "import tensorflow as tf\n",
    "\n",
    "tensor_512 = tf.constant(list(range(512)), dtype=tf.float32)\n",
    "tensor_squared_512 = tf.square(tensor_512)\n",
    "tensor_sum_512 = tf.reduce_sum(tensor_squared_512)\n",
    "tensor_mean_512 = tf.reduce_mean(tensor_squared_512)\n",
    "tensor_max_512 = tf.reduce_max(tensor_squared_512)\n",
    "\n",
    "tf.print(\"Cell 512 - TensorFlow\")\n",
    "tf.print(\"Tensor shape:\", tf.shape(tensor_512))\n",
    "tf.print(\"Sum:\", tensor_sum_512)\n",
    "tf.print(\"Mean:\", tensor_mean_512)\n",
    "tf.print(\"Max:\", tensor_max_512)"
   ]
  },
  {
   "cell_type": "code",
   "execution_count": null,
   "id": "4ffe89ad",
   "metadata": {},
   "outputs": [],
   "source": [
    "import tensorflow as tf\n",
    "\n",
    "tensor_513 = tf.constant(list(range(513)), dtype=tf.float32)\n",
    "tensor_squared_513 = tf.square(tensor_513)\n",
    "tensor_sum_513 = tf.reduce_sum(tensor_squared_513)\n",
    "tensor_mean_513 = tf.reduce_mean(tensor_squared_513)\n",
    "tensor_max_513 = tf.reduce_max(tensor_squared_513)\n",
    "\n",
    "tf.print(\"Cell 513 - TensorFlow\")\n",
    "tf.print(\"Tensor shape:\", tf.shape(tensor_513))\n",
    "tf.print(\"Sum:\", tensor_sum_513)\n",
    "tf.print(\"Mean:\", tensor_mean_513)\n",
    "tf.print(\"Max:\", tensor_max_513)"
   ]
  },
  {
   "cell_type": "code",
   "execution_count": null,
   "id": "1adbce24",
   "metadata": {},
   "outputs": [],
   "source": [
    "import tensorflow as tf\n",
    "\n",
    "tensor_514 = tf.constant(list(range(514)), dtype=tf.float32)\n",
    "tensor_squared_514 = tf.square(tensor_514)\n",
    "tensor_sum_514 = tf.reduce_sum(tensor_squared_514)\n",
    "tensor_mean_514 = tf.reduce_mean(tensor_squared_514)\n",
    "tensor_max_514 = tf.reduce_max(tensor_squared_514)\n",
    "\n",
    "tf.print(\"Cell 514 - TensorFlow\")\n",
    "tf.print(\"Tensor shape:\", tf.shape(tensor_514))\n",
    "tf.print(\"Sum:\", tensor_sum_514)\n",
    "tf.print(\"Mean:\", tensor_mean_514)\n",
    "tf.print(\"Max:\", tensor_max_514)"
   ]
  },
  {
   "cell_type": "code",
   "execution_count": null,
   "id": "1386118c",
   "metadata": {},
   "outputs": [],
   "source": [
    "import tensorflow as tf\n",
    "\n",
    "tensor_515 = tf.constant(list(range(515)), dtype=tf.float32)\n",
    "tensor_squared_515 = tf.square(tensor_515)\n",
    "tensor_sum_515 = tf.reduce_sum(tensor_squared_515)\n",
    "tensor_mean_515 = tf.reduce_mean(tensor_squared_515)\n",
    "tensor_max_515 = tf.reduce_max(tensor_squared_515)\n",
    "\n",
    "tf.print(\"Cell 515 - TensorFlow\")\n",
    "tf.print(\"Tensor shape:\", tf.shape(tensor_515))\n",
    "tf.print(\"Sum:\", tensor_sum_515)\n",
    "tf.print(\"Mean:\", tensor_mean_515)\n",
    "tf.print(\"Max:\", tensor_max_515)"
   ]
  },
  {
   "cell_type": "code",
   "execution_count": null,
   "id": "be23b069",
   "metadata": {},
   "outputs": [],
   "source": [
    "import tensorflow as tf\n",
    "\n",
    "tensor_516 = tf.constant(list(range(516)), dtype=tf.float32)\n",
    "tensor_squared_516 = tf.square(tensor_516)\n",
    "tensor_sum_516 = tf.reduce_sum(tensor_squared_516)\n",
    "tensor_mean_516 = tf.reduce_mean(tensor_squared_516)\n",
    "tensor_max_516 = tf.reduce_max(tensor_squared_516)\n",
    "\n",
    "tf.print(\"Cell 516 - TensorFlow\")\n",
    "tf.print(\"Tensor shape:\", tf.shape(tensor_516))\n",
    "tf.print(\"Sum:\", tensor_sum_516)\n",
    "tf.print(\"Mean:\", tensor_mean_516)\n",
    "tf.print(\"Max:\", tensor_max_516)"
   ]
  },
  {
   "cell_type": "code",
   "execution_count": null,
   "id": "383a2159",
   "metadata": {},
   "outputs": [],
   "source": [
    "import tensorflow as tf\n",
    "\n",
    "tensor_517 = tf.constant(list(range(517)), dtype=tf.float32)\n",
    "tensor_squared_517 = tf.square(tensor_517)\n",
    "tensor_sum_517 = tf.reduce_sum(tensor_squared_517)\n",
    "tensor_mean_517 = tf.reduce_mean(tensor_squared_517)\n",
    "tensor_max_517 = tf.reduce_max(tensor_squared_517)\n",
    "\n",
    "tf.print(\"Cell 517 - TensorFlow\")\n",
    "tf.print(\"Tensor shape:\", tf.shape(tensor_517))\n",
    "tf.print(\"Sum:\", tensor_sum_517)\n",
    "tf.print(\"Mean:\", tensor_mean_517)\n",
    "tf.print(\"Max:\", tensor_max_517)"
   ]
  },
  {
   "cell_type": "code",
   "execution_count": null,
   "id": "de8e5512",
   "metadata": {},
   "outputs": [],
   "source": [
    "import tensorflow as tf\n",
    "\n",
    "tensor_518 = tf.constant(list(range(518)), dtype=tf.float32)\n",
    "tensor_squared_518 = tf.square(tensor_518)\n",
    "tensor_sum_518 = tf.reduce_sum(tensor_squared_518)\n",
    "tensor_mean_518 = tf.reduce_mean(tensor_squared_518)\n",
    "tensor_max_518 = tf.reduce_max(tensor_squared_518)\n",
    "\n",
    "tf.print(\"Cell 518 - TensorFlow\")\n",
    "tf.print(\"Tensor shape:\", tf.shape(tensor_518))\n",
    "tf.print(\"Sum:\", tensor_sum_518)\n",
    "tf.print(\"Mean:\", tensor_mean_518)\n",
    "tf.print(\"Max:\", tensor_max_518)"
   ]
  },
  {
   "cell_type": "code",
   "execution_count": null,
   "id": "e72e9938",
   "metadata": {},
   "outputs": [],
   "source": [
    "import tensorflow as tf\n",
    "\n",
    "tensor_519 = tf.constant(list(range(519)), dtype=tf.float32)\n",
    "tensor_squared_519 = tf.square(tensor_519)\n",
    "tensor_sum_519 = tf.reduce_sum(tensor_squared_519)\n",
    "tensor_mean_519 = tf.reduce_mean(tensor_squared_519)\n",
    "tensor_max_519 = tf.reduce_max(tensor_squared_519)\n",
    "\n",
    "tf.print(\"Cell 519 - TensorFlow\")\n",
    "tf.print(\"Tensor shape:\", tf.shape(tensor_519))\n",
    "tf.print(\"Sum:\", tensor_sum_519)\n",
    "tf.print(\"Mean:\", tensor_mean_519)\n",
    "tf.print(\"Max:\", tensor_max_519)"
   ]
  },
  {
   "cell_type": "code",
   "execution_count": null,
   "id": "92bf6985",
   "metadata": {},
   "outputs": [],
   "source": [
    "import tensorflow as tf\n",
    "\n",
    "tensor_520 = tf.constant(list(range(520)), dtype=tf.float32)\n",
    "tensor_squared_520 = tf.square(tensor_520)\n",
    "tensor_sum_520 = tf.reduce_sum(tensor_squared_520)\n",
    "tensor_mean_520 = tf.reduce_mean(tensor_squared_520)\n",
    "tensor_max_520 = tf.reduce_max(tensor_squared_520)\n",
    "\n",
    "tf.print(\"Cell 520 - TensorFlow\")\n",
    "tf.print(\"Tensor shape:\", tf.shape(tensor_520))\n",
    "tf.print(\"Sum:\", tensor_sum_520)\n",
    "tf.print(\"Mean:\", tensor_mean_520)\n",
    "tf.print(\"Max:\", tensor_max_520)"
   ]
  },
  {
   "cell_type": "code",
   "execution_count": null,
   "id": "51e8b630",
   "metadata": {},
   "outputs": [],
   "source": [
    "import tensorflow as tf\n",
    "\n",
    "tensor_521 = tf.constant(list(range(521)), dtype=tf.float32)\n",
    "tensor_squared_521 = tf.square(tensor_521)\n",
    "tensor_sum_521 = tf.reduce_sum(tensor_squared_521)\n",
    "tensor_mean_521 = tf.reduce_mean(tensor_squared_521)\n",
    "tensor_max_521 = tf.reduce_max(tensor_squared_521)\n",
    "\n",
    "tf.print(\"Cell 521 - TensorFlow\")\n",
    "tf.print(\"Tensor shape:\", tf.shape(tensor_521))\n",
    "tf.print(\"Sum:\", tensor_sum_521)\n",
    "tf.print(\"Mean:\", tensor_mean_521)\n",
    "tf.print(\"Max:\", tensor_max_521)"
   ]
  },
  {
   "cell_type": "code",
   "execution_count": null,
   "id": "78e5af30",
   "metadata": {},
   "outputs": [],
   "source": [
    "import tensorflow as tf\n",
    "\n",
    "tensor_522 = tf.constant(list(range(522)), dtype=tf.float32)\n",
    "tensor_squared_522 = tf.square(tensor_522)\n",
    "tensor_sum_522 = tf.reduce_sum(tensor_squared_522)\n",
    "tensor_mean_522 = tf.reduce_mean(tensor_squared_522)\n",
    "tensor_max_522 = tf.reduce_max(tensor_squared_522)\n",
    "\n",
    "tf.print(\"Cell 522 - TensorFlow\")\n",
    "tf.print(\"Tensor shape:\", tf.shape(tensor_522))\n",
    "tf.print(\"Sum:\", tensor_sum_522)\n",
    "tf.print(\"Mean:\", tensor_mean_522)\n",
    "tf.print(\"Max:\", tensor_max_522)"
   ]
  },
  {
   "cell_type": "code",
   "execution_count": null,
   "id": "9934910b",
   "metadata": {},
   "outputs": [],
   "source": [
    "import tensorflow as tf\n",
    "\n",
    "tensor_523 = tf.constant(list(range(523)), dtype=tf.float32)\n",
    "tensor_squared_523 = tf.square(tensor_523)\n",
    "tensor_sum_523 = tf.reduce_sum(tensor_squared_523)\n",
    "tensor_mean_523 = tf.reduce_mean(tensor_squared_523)\n",
    "tensor_max_523 = tf.reduce_max(tensor_squared_523)\n",
    "\n",
    "tf.print(\"Cell 523 - TensorFlow\")\n",
    "tf.print(\"Tensor shape:\", tf.shape(tensor_523))\n",
    "tf.print(\"Sum:\", tensor_sum_523)\n",
    "tf.print(\"Mean:\", tensor_mean_523)\n",
    "tf.print(\"Max:\", tensor_max_523)"
   ]
  },
  {
   "cell_type": "code",
   "execution_count": null,
   "id": "561fa2f6",
   "metadata": {},
   "outputs": [],
   "source": [
    "import tensorflow as tf\n",
    "\n",
    "tensor_524 = tf.constant(list(range(524)), dtype=tf.float32)\n",
    "tensor_squared_524 = tf.square(tensor_524)\n",
    "tensor_sum_524 = tf.reduce_sum(tensor_squared_524)\n",
    "tensor_mean_524 = tf.reduce_mean(tensor_squared_524)\n",
    "tensor_max_524 = tf.reduce_max(tensor_squared_524)\n",
    "\n",
    "tf.print(\"Cell 524 - TensorFlow\")\n",
    "tf.print(\"Tensor shape:\", tf.shape(tensor_524))\n",
    "tf.print(\"Sum:\", tensor_sum_524)\n",
    "tf.print(\"Mean:\", tensor_mean_524)\n",
    "tf.print(\"Max:\", tensor_max_524)"
   ]
  },
  {
   "cell_type": "code",
   "execution_count": null,
   "id": "d3e61f1d",
   "metadata": {},
   "outputs": [],
   "source": [
    "import tensorflow as tf\n",
    "\n",
    "tensor_525 = tf.constant(list(range(525)), dtype=tf.float32)\n",
    "tensor_squared_525 = tf.square(tensor_525)\n",
    "tensor_sum_525 = tf.reduce_sum(tensor_squared_525)\n",
    "tensor_mean_525 = tf.reduce_mean(tensor_squared_525)\n",
    "tensor_max_525 = tf.reduce_max(tensor_squared_525)\n",
    "\n",
    "tf.print(\"Cell 525 - TensorFlow\")\n",
    "tf.print(\"Tensor shape:\", tf.shape(tensor_525))\n",
    "tf.print(\"Sum:\", tensor_sum_525)\n",
    "tf.print(\"Mean:\", tensor_mean_525)\n",
    "tf.print(\"Max:\", tensor_max_525)"
   ]
  },
  {
   "cell_type": "code",
   "execution_count": null,
   "id": "f6bc12cb",
   "metadata": {},
   "outputs": [],
   "source": [
    "import tensorflow as tf\n",
    "\n",
    "tensor_526 = tf.constant(list(range(526)), dtype=tf.float32)\n",
    "tensor_squared_526 = tf.square(tensor_526)\n",
    "tensor_sum_526 = tf.reduce_sum(tensor_squared_526)\n",
    "tensor_mean_526 = tf.reduce_mean(tensor_squared_526)\n",
    "tensor_max_526 = tf.reduce_max(tensor_squared_526)\n",
    "\n",
    "tf.print(\"Cell 526 - TensorFlow\")\n",
    "tf.print(\"Tensor shape:\", tf.shape(tensor_526))\n",
    "tf.print(\"Sum:\", tensor_sum_526)\n",
    "tf.print(\"Mean:\", tensor_mean_526)\n",
    "tf.print(\"Max:\", tensor_max_526)"
   ]
  },
  {
   "cell_type": "code",
   "execution_count": null,
   "id": "3fbdd47b",
   "metadata": {},
   "outputs": [],
   "source": [
    "import tensorflow as tf\n",
    "\n",
    "tensor_527 = tf.constant(list(range(527)), dtype=tf.float32)\n",
    "tensor_squared_527 = tf.square(tensor_527)\n",
    "tensor_sum_527 = tf.reduce_sum(tensor_squared_527)\n",
    "tensor_mean_527 = tf.reduce_mean(tensor_squared_527)\n",
    "tensor_max_527 = tf.reduce_max(tensor_squared_527)\n",
    "\n",
    "tf.print(\"Cell 527 - TensorFlow\")\n",
    "tf.print(\"Tensor shape:\", tf.shape(tensor_527))\n",
    "tf.print(\"Sum:\", tensor_sum_527)\n",
    "tf.print(\"Mean:\", tensor_mean_527)\n",
    "tf.print(\"Max:\", tensor_max_527)"
   ]
  },
  {
   "cell_type": "code",
   "execution_count": null,
   "id": "c87bb063",
   "metadata": {},
   "outputs": [],
   "source": [
    "import tensorflow as tf\n",
    "\n",
    "tensor_528 = tf.constant(list(range(528)), dtype=tf.float32)\n",
    "tensor_squared_528 = tf.square(tensor_528)\n",
    "tensor_sum_528 = tf.reduce_sum(tensor_squared_528)\n",
    "tensor_mean_528 = tf.reduce_mean(tensor_squared_528)\n",
    "tensor_max_528 = tf.reduce_max(tensor_squared_528)\n",
    "\n",
    "tf.print(\"Cell 528 - TensorFlow\")\n",
    "tf.print(\"Tensor shape:\", tf.shape(tensor_528))\n",
    "tf.print(\"Sum:\", tensor_sum_528)\n",
    "tf.print(\"Mean:\", tensor_mean_528)\n",
    "tf.print(\"Max:\", tensor_max_528)"
   ]
  },
  {
   "cell_type": "code",
   "execution_count": null,
   "id": "d4d56a66",
   "metadata": {},
   "outputs": [],
   "source": [
    "import tensorflow as tf\n",
    "\n",
    "tensor_529 = tf.constant(list(range(529)), dtype=tf.float32)\n",
    "tensor_squared_529 = tf.square(tensor_529)\n",
    "tensor_sum_529 = tf.reduce_sum(tensor_squared_529)\n",
    "tensor_mean_529 = tf.reduce_mean(tensor_squared_529)\n",
    "tensor_max_529 = tf.reduce_max(tensor_squared_529)\n",
    "\n",
    "tf.print(\"Cell 529 - TensorFlow\")\n",
    "tf.print(\"Tensor shape:\", tf.shape(tensor_529))\n",
    "tf.print(\"Sum:\", tensor_sum_529)\n",
    "tf.print(\"Mean:\", tensor_mean_529)\n",
    "tf.print(\"Max:\", tensor_max_529)"
   ]
  },
  {
   "cell_type": "code",
   "execution_count": null,
   "id": "5abd1854",
   "metadata": {},
   "outputs": [],
   "source": [
    "import tensorflow as tf\n",
    "\n",
    "tensor_530 = tf.constant(list(range(530)), dtype=tf.float32)\n",
    "tensor_squared_530 = tf.square(tensor_530)\n",
    "tensor_sum_530 = tf.reduce_sum(tensor_squared_530)\n",
    "tensor_mean_530 = tf.reduce_mean(tensor_squared_530)\n",
    "tensor_max_530 = tf.reduce_max(tensor_squared_530)\n",
    "\n",
    "tf.print(\"Cell 530 - TensorFlow\")\n",
    "tf.print(\"Tensor shape:\", tf.shape(tensor_530))\n",
    "tf.print(\"Sum:\", tensor_sum_530)\n",
    "tf.print(\"Mean:\", tensor_mean_530)\n",
    "tf.print(\"Max:\", tensor_max_530)"
   ]
  },
  {
   "cell_type": "code",
   "execution_count": null,
   "id": "0145d1a4",
   "metadata": {},
   "outputs": [],
   "source": [
    "import tensorflow as tf\n",
    "\n",
    "tensor_531 = tf.constant(list(range(531)), dtype=tf.float32)\n",
    "tensor_squared_531 = tf.square(tensor_531)\n",
    "tensor_sum_531 = tf.reduce_sum(tensor_squared_531)\n",
    "tensor_mean_531 = tf.reduce_mean(tensor_squared_531)\n",
    "tensor_max_531 = tf.reduce_max(tensor_squared_531)\n",
    "\n",
    "tf.print(\"Cell 531 - TensorFlow\")\n",
    "tf.print(\"Tensor shape:\", tf.shape(tensor_531))\n",
    "tf.print(\"Sum:\", tensor_sum_531)\n",
    "tf.print(\"Mean:\", tensor_mean_531)\n",
    "tf.print(\"Max:\", tensor_max_531)"
   ]
  },
  {
   "cell_type": "code",
   "execution_count": null,
   "id": "58a9677f",
   "metadata": {},
   "outputs": [],
   "source": [
    "import tensorflow as tf\n",
    "\n",
    "tensor_532 = tf.constant(list(range(532)), dtype=tf.float32)\n",
    "tensor_squared_532 = tf.square(tensor_532)\n",
    "tensor_sum_532 = tf.reduce_sum(tensor_squared_532)\n",
    "tensor_mean_532 = tf.reduce_mean(tensor_squared_532)\n",
    "tensor_max_532 = tf.reduce_max(tensor_squared_532)\n",
    "\n",
    "tf.print(\"Cell 532 - TensorFlow\")\n",
    "tf.print(\"Tensor shape:\", tf.shape(tensor_532))\n",
    "tf.print(\"Sum:\", tensor_sum_532)\n",
    "tf.print(\"Mean:\", tensor_mean_532)\n",
    "tf.print(\"Max:\", tensor_max_532)"
   ]
  },
  {
   "cell_type": "code",
   "execution_count": null,
   "id": "d7a6575f",
   "metadata": {},
   "outputs": [],
   "source": [
    "import tensorflow as tf\n",
    "\n",
    "tensor_533 = tf.constant(list(range(533)), dtype=tf.float32)\n",
    "tensor_squared_533 = tf.square(tensor_533)\n",
    "tensor_sum_533 = tf.reduce_sum(tensor_squared_533)\n",
    "tensor_mean_533 = tf.reduce_mean(tensor_squared_533)\n",
    "tensor_max_533 = tf.reduce_max(tensor_squared_533)\n",
    "\n",
    "tf.print(\"Cell 533 - TensorFlow\")\n",
    "tf.print(\"Tensor shape:\", tf.shape(tensor_533))\n",
    "tf.print(\"Sum:\", tensor_sum_533)\n",
    "tf.print(\"Mean:\", tensor_mean_533)\n",
    "tf.print(\"Max:\", tensor_max_533)"
   ]
  },
  {
   "cell_type": "code",
   "execution_count": null,
   "id": "56b4e508",
   "metadata": {},
   "outputs": [],
   "source": [
    "import tensorflow as tf\n",
    "\n",
    "tensor_534 = tf.constant(list(range(534)), dtype=tf.float32)\n",
    "tensor_squared_534 = tf.square(tensor_534)\n",
    "tensor_sum_534 = tf.reduce_sum(tensor_squared_534)\n",
    "tensor_mean_534 = tf.reduce_mean(tensor_squared_534)\n",
    "tensor_max_534 = tf.reduce_max(tensor_squared_534)\n",
    "\n",
    "tf.print(\"Cell 534 - TensorFlow\")\n",
    "tf.print(\"Tensor shape:\", tf.shape(tensor_534))\n",
    "tf.print(\"Sum:\", tensor_sum_534)\n",
    "tf.print(\"Mean:\", tensor_mean_534)\n",
    "tf.print(\"Max:\", tensor_max_534)"
   ]
  },
  {
   "cell_type": "code",
   "execution_count": null,
   "id": "d8e4dd14",
   "metadata": {},
   "outputs": [],
   "source": [
    "import tensorflow as tf\n",
    "\n",
    "tensor_535 = tf.constant(list(range(535)), dtype=tf.float32)\n",
    "tensor_squared_535 = tf.square(tensor_535)\n",
    "tensor_sum_535 = tf.reduce_sum(tensor_squared_535)\n",
    "tensor_mean_535 = tf.reduce_mean(tensor_squared_535)\n",
    "tensor_max_535 = tf.reduce_max(tensor_squared_535)\n",
    "\n",
    "tf.print(\"Cell 535 - TensorFlow\")\n",
    "tf.print(\"Tensor shape:\", tf.shape(tensor_535))\n",
    "tf.print(\"Sum:\", tensor_sum_535)\n",
    "tf.print(\"Mean:\", tensor_mean_535)\n",
    "tf.print(\"Max:\", tensor_max_535)"
   ]
  },
  {
   "cell_type": "code",
   "execution_count": null,
   "id": "92a4dfe8",
   "metadata": {},
   "outputs": [],
   "source": [
    "import tensorflow as tf\n",
    "\n",
    "tensor_536 = tf.constant(list(range(536)), dtype=tf.float32)\n",
    "tensor_squared_536 = tf.square(tensor_536)\n",
    "tensor_sum_536 = tf.reduce_sum(tensor_squared_536)\n",
    "tensor_mean_536 = tf.reduce_mean(tensor_squared_536)\n",
    "tensor_max_536 = tf.reduce_max(tensor_squared_536)\n",
    "\n",
    "tf.print(\"Cell 536 - TensorFlow\")\n",
    "tf.print(\"Tensor shape:\", tf.shape(tensor_536))\n",
    "tf.print(\"Sum:\", tensor_sum_536)\n",
    "tf.print(\"Mean:\", tensor_mean_536)\n",
    "tf.print(\"Max:\", tensor_max_536)"
   ]
  },
  {
   "cell_type": "code",
   "execution_count": null,
   "id": "ad92b1bd",
   "metadata": {},
   "outputs": [],
   "source": [
    "import tensorflow as tf\n",
    "\n",
    "tensor_537 = tf.constant(list(range(537)), dtype=tf.float32)\n",
    "tensor_squared_537 = tf.square(tensor_537)\n",
    "tensor_sum_537 = tf.reduce_sum(tensor_squared_537)\n",
    "tensor_mean_537 = tf.reduce_mean(tensor_squared_537)\n",
    "tensor_max_537 = tf.reduce_max(tensor_squared_537)\n",
    "\n",
    "tf.print(\"Cell 537 - TensorFlow\")\n",
    "tf.print(\"Tensor shape:\", tf.shape(tensor_537))\n",
    "tf.print(\"Sum:\", tensor_sum_537)\n",
    "tf.print(\"Mean:\", tensor_mean_537)\n",
    "tf.print(\"Max:\", tensor_max_537)"
   ]
  },
  {
   "cell_type": "code",
   "execution_count": null,
   "id": "2101f578",
   "metadata": {},
   "outputs": [],
   "source": [
    "import tensorflow as tf\n",
    "\n",
    "tensor_538 = tf.constant(list(range(538)), dtype=tf.float32)\n",
    "tensor_squared_538 = tf.square(tensor_538)\n",
    "tensor_sum_538 = tf.reduce_sum(tensor_squared_538)\n",
    "tensor_mean_538 = tf.reduce_mean(tensor_squared_538)\n",
    "tensor_max_538 = tf.reduce_max(tensor_squared_538)\n",
    "\n",
    "tf.print(\"Cell 538 - TensorFlow\")\n",
    "tf.print(\"Tensor shape:\", tf.shape(tensor_538))\n",
    "tf.print(\"Sum:\", tensor_sum_538)\n",
    "tf.print(\"Mean:\", tensor_mean_538)\n",
    "tf.print(\"Max:\", tensor_max_538)"
   ]
  },
  {
   "cell_type": "code",
   "execution_count": null,
   "id": "6d9d1cae",
   "metadata": {},
   "outputs": [],
   "source": [
    "import tensorflow as tf\n",
    "\n",
    "tensor_539 = tf.constant(list(range(539)), dtype=tf.float32)\n",
    "tensor_squared_539 = tf.square(tensor_539)\n",
    "tensor_sum_539 = tf.reduce_sum(tensor_squared_539)\n",
    "tensor_mean_539 = tf.reduce_mean(tensor_squared_539)\n",
    "tensor_max_539 = tf.reduce_max(tensor_squared_539)\n",
    "\n",
    "tf.print(\"Cell 539 - TensorFlow\")\n",
    "tf.print(\"Tensor shape:\", tf.shape(tensor_539))\n",
    "tf.print(\"Sum:\", tensor_sum_539)\n",
    "tf.print(\"Mean:\", tensor_mean_539)\n",
    "tf.print(\"Max:\", tensor_max_539)"
   ]
  },
  {
   "cell_type": "code",
   "execution_count": null,
   "id": "22dcfbeb",
   "metadata": {},
   "outputs": [],
   "source": [
    "import tensorflow as tf\n",
    "\n",
    "tensor_540 = tf.constant(list(range(540)), dtype=tf.float32)\n",
    "tensor_squared_540 = tf.square(tensor_540)\n",
    "tensor_sum_540 = tf.reduce_sum(tensor_squared_540)\n",
    "tensor_mean_540 = tf.reduce_mean(tensor_squared_540)\n",
    "tensor_max_540 = tf.reduce_max(tensor_squared_540)\n",
    "\n",
    "tf.print(\"Cell 540 - TensorFlow\")\n",
    "tf.print(\"Tensor shape:\", tf.shape(tensor_540))\n",
    "tf.print(\"Sum:\", tensor_sum_540)\n",
    "tf.print(\"Mean:\", tensor_mean_540)\n",
    "tf.print(\"Max:\", tensor_max_540)"
   ]
  },
  {
   "cell_type": "code",
   "execution_count": null,
   "id": "f06ed9d7",
   "metadata": {},
   "outputs": [],
   "source": [
    "import tensorflow as tf\n",
    "\n",
    "tensor_541 = tf.constant(list(range(541)), dtype=tf.float32)\n",
    "tensor_squared_541 = tf.square(tensor_541)\n",
    "tensor_sum_541 = tf.reduce_sum(tensor_squared_541)\n",
    "tensor_mean_541 = tf.reduce_mean(tensor_squared_541)\n",
    "tensor_max_541 = tf.reduce_max(tensor_squared_541)\n",
    "\n",
    "tf.print(\"Cell 541 - TensorFlow\")\n",
    "tf.print(\"Tensor shape:\", tf.shape(tensor_541))\n",
    "tf.print(\"Sum:\", tensor_sum_541)\n",
    "tf.print(\"Mean:\", tensor_mean_541)\n",
    "tf.print(\"Max:\", tensor_max_541)"
   ]
  },
  {
   "cell_type": "code",
   "execution_count": null,
   "id": "934a5bf7",
   "metadata": {},
   "outputs": [],
   "source": [
    "import tensorflow as tf\n",
    "\n",
    "tensor_542 = tf.constant(list(range(542)), dtype=tf.float32)\n",
    "tensor_squared_542 = tf.square(tensor_542)\n",
    "tensor_sum_542 = tf.reduce_sum(tensor_squared_542)\n",
    "tensor_mean_542 = tf.reduce_mean(tensor_squared_542)\n",
    "tensor_max_542 = tf.reduce_max(tensor_squared_542)\n",
    "\n",
    "tf.print(\"Cell 542 - TensorFlow\")\n",
    "tf.print(\"Tensor shape:\", tf.shape(tensor_542))\n",
    "tf.print(\"Sum:\", tensor_sum_542)\n",
    "tf.print(\"Mean:\", tensor_mean_542)\n",
    "tf.print(\"Max:\", tensor_max_542)"
   ]
  },
  {
   "cell_type": "code",
   "execution_count": null,
   "id": "98009596",
   "metadata": {},
   "outputs": [],
   "source": [
    "import tensorflow as tf\n",
    "\n",
    "tensor_543 = tf.constant(list(range(543)), dtype=tf.float32)\n",
    "tensor_squared_543 = tf.square(tensor_543)\n",
    "tensor_sum_543 = tf.reduce_sum(tensor_squared_543)\n",
    "tensor_mean_543 = tf.reduce_mean(tensor_squared_543)\n",
    "tensor_max_543 = tf.reduce_max(tensor_squared_543)\n",
    "\n",
    "tf.print(\"Cell 543 - TensorFlow\")\n",
    "tf.print(\"Tensor shape:\", tf.shape(tensor_543))\n",
    "tf.print(\"Sum:\", tensor_sum_543)\n",
    "tf.print(\"Mean:\", tensor_mean_543)\n",
    "tf.print(\"Max:\", tensor_max_543)"
   ]
  },
  {
   "cell_type": "code",
   "execution_count": null,
   "id": "d4932c1a",
   "metadata": {},
   "outputs": [],
   "source": [
    "import tensorflow as tf\n",
    "\n",
    "tensor_544 = tf.constant(list(range(544)), dtype=tf.float32)\n",
    "tensor_squared_544 = tf.square(tensor_544)\n",
    "tensor_sum_544 = tf.reduce_sum(tensor_squared_544)\n",
    "tensor_mean_544 = tf.reduce_mean(tensor_squared_544)\n",
    "tensor_max_544 = tf.reduce_max(tensor_squared_544)\n",
    "\n",
    "tf.print(\"Cell 544 - TensorFlow\")\n",
    "tf.print(\"Tensor shape:\", tf.shape(tensor_544))\n",
    "tf.print(\"Sum:\", tensor_sum_544)\n",
    "tf.print(\"Mean:\", tensor_mean_544)\n",
    "tf.print(\"Max:\", tensor_max_544)"
   ]
  },
  {
   "cell_type": "code",
   "execution_count": null,
   "id": "33724926",
   "metadata": {},
   "outputs": [],
   "source": [
    "import tensorflow as tf\n",
    "\n",
    "tensor_545 = tf.constant(list(range(545)), dtype=tf.float32)\n",
    "tensor_squared_545 = tf.square(tensor_545)\n",
    "tensor_sum_545 = tf.reduce_sum(tensor_squared_545)\n",
    "tensor_mean_545 = tf.reduce_mean(tensor_squared_545)\n",
    "tensor_max_545 = tf.reduce_max(tensor_squared_545)\n",
    "\n",
    "tf.print(\"Cell 545 - TensorFlow\")\n",
    "tf.print(\"Tensor shape:\", tf.shape(tensor_545))\n",
    "tf.print(\"Sum:\", tensor_sum_545)\n",
    "tf.print(\"Mean:\", tensor_mean_545)\n",
    "tf.print(\"Max:\", tensor_max_545)"
   ]
  },
  {
   "cell_type": "code",
   "execution_count": null,
   "id": "0bf6313f",
   "metadata": {},
   "outputs": [],
   "source": [
    "import tensorflow as tf\n",
    "\n",
    "tensor_546 = tf.constant(list(range(546)), dtype=tf.float32)\n",
    "tensor_squared_546 = tf.square(tensor_546)\n",
    "tensor_sum_546 = tf.reduce_sum(tensor_squared_546)\n",
    "tensor_mean_546 = tf.reduce_mean(tensor_squared_546)\n",
    "tensor_max_546 = tf.reduce_max(tensor_squared_546)\n",
    "\n",
    "tf.print(\"Cell 546 - TensorFlow\")\n",
    "tf.print(\"Tensor shape:\", tf.shape(tensor_546))\n",
    "tf.print(\"Sum:\", tensor_sum_546)\n",
    "tf.print(\"Mean:\", tensor_mean_546)\n",
    "tf.print(\"Max:\", tensor_max_546)"
   ]
  },
  {
   "cell_type": "code",
   "execution_count": null,
   "id": "43a6b69c",
   "metadata": {},
   "outputs": [],
   "source": [
    "import tensorflow as tf\n",
    "\n",
    "tensor_547 = tf.constant(list(range(547)), dtype=tf.float32)\n",
    "tensor_squared_547 = tf.square(tensor_547)\n",
    "tensor_sum_547 = tf.reduce_sum(tensor_squared_547)\n",
    "tensor_mean_547 = tf.reduce_mean(tensor_squared_547)\n",
    "tensor_max_547 = tf.reduce_max(tensor_squared_547)\n",
    "\n",
    "tf.print(\"Cell 547 - TensorFlow\")\n",
    "tf.print(\"Tensor shape:\", tf.shape(tensor_547))\n",
    "tf.print(\"Sum:\", tensor_sum_547)\n",
    "tf.print(\"Mean:\", tensor_mean_547)\n",
    "tf.print(\"Max:\", tensor_max_547)"
   ]
  },
  {
   "cell_type": "code",
   "execution_count": null,
   "id": "ffaadcd4",
   "metadata": {},
   "outputs": [],
   "source": [
    "import tensorflow as tf\n",
    "\n",
    "tensor_548 = tf.constant(list(range(548)), dtype=tf.float32)\n",
    "tensor_squared_548 = tf.square(tensor_548)\n",
    "tensor_sum_548 = tf.reduce_sum(tensor_squared_548)\n",
    "tensor_mean_548 = tf.reduce_mean(tensor_squared_548)\n",
    "tensor_max_548 = tf.reduce_max(tensor_squared_548)\n",
    "\n",
    "tf.print(\"Cell 548 - TensorFlow\")\n",
    "tf.print(\"Tensor shape:\", tf.shape(tensor_548))\n",
    "tf.print(\"Sum:\", tensor_sum_548)\n",
    "tf.print(\"Mean:\", tensor_mean_548)\n",
    "tf.print(\"Max:\", tensor_max_548)"
   ]
  },
  {
   "cell_type": "code",
   "execution_count": null,
   "id": "606ada61",
   "metadata": {},
   "outputs": [],
   "source": [
    "import tensorflow as tf\n",
    "\n",
    "tensor_549 = tf.constant(list(range(549)), dtype=tf.float32)\n",
    "tensor_squared_549 = tf.square(tensor_549)\n",
    "tensor_sum_549 = tf.reduce_sum(tensor_squared_549)\n",
    "tensor_mean_549 = tf.reduce_mean(tensor_squared_549)\n",
    "tensor_max_549 = tf.reduce_max(tensor_squared_549)\n",
    "\n",
    "tf.print(\"Cell 549 - TensorFlow\")\n",
    "tf.print(\"Tensor shape:\", tf.shape(tensor_549))\n",
    "tf.print(\"Sum:\", tensor_sum_549)\n",
    "tf.print(\"Mean:\", tensor_mean_549)\n",
    "tf.print(\"Max:\", tensor_max_549)"
   ]
  },
  {
   "cell_type": "code",
   "execution_count": null,
   "id": "96d39a8b",
   "metadata": {},
   "outputs": [],
   "source": [
    "import tensorflow as tf\n",
    "\n",
    "tensor_550 = tf.constant(list(range(550)), dtype=tf.float32)\n",
    "tensor_squared_550 = tf.square(tensor_550)\n",
    "tensor_sum_550 = tf.reduce_sum(tensor_squared_550)\n",
    "tensor_mean_550 = tf.reduce_mean(tensor_squared_550)\n",
    "tensor_max_550 = tf.reduce_max(tensor_squared_550)\n",
    "\n",
    "tf.print(\"Cell 550 - TensorFlow\")\n",
    "tf.print(\"Tensor shape:\", tf.shape(tensor_550))\n",
    "tf.print(\"Sum:\", tensor_sum_550)\n",
    "tf.print(\"Mean:\", tensor_mean_550)\n",
    "tf.print(\"Max:\", tensor_max_550)"
   ]
  },
  {
   "cell_type": "code",
   "execution_count": null,
   "id": "112e946b",
   "metadata": {},
   "outputs": [],
   "source": [
    "import tensorflow as tf\n",
    "\n",
    "tensor_551 = tf.constant(list(range(551)), dtype=tf.float32)\n",
    "tensor_squared_551 = tf.square(tensor_551)\n",
    "tensor_sum_551 = tf.reduce_sum(tensor_squared_551)\n",
    "tensor_mean_551 = tf.reduce_mean(tensor_squared_551)\n",
    "tensor_max_551 = tf.reduce_max(tensor_squared_551)\n",
    "\n",
    "tf.print(\"Cell 551 - TensorFlow\")\n",
    "tf.print(\"Tensor shape:\", tf.shape(tensor_551))\n",
    "tf.print(\"Sum:\", tensor_sum_551)\n",
    "tf.print(\"Mean:\", tensor_mean_551)\n",
    "tf.print(\"Max:\", tensor_max_551)"
   ]
  },
  {
   "cell_type": "code",
   "execution_count": null,
   "id": "8bf7d099",
   "metadata": {},
   "outputs": [],
   "source": [
    "import tensorflow as tf\n",
    "\n",
    "tensor_552 = tf.constant(list(range(552)), dtype=tf.float32)\n",
    "tensor_squared_552 = tf.square(tensor_552)\n",
    "tensor_sum_552 = tf.reduce_sum(tensor_squared_552)\n",
    "tensor_mean_552 = tf.reduce_mean(tensor_squared_552)\n",
    "tensor_max_552 = tf.reduce_max(tensor_squared_552)\n",
    "\n",
    "tf.print(\"Cell 552 - TensorFlow\")\n",
    "tf.print(\"Tensor shape:\", tf.shape(tensor_552))\n",
    "tf.print(\"Sum:\", tensor_sum_552)\n",
    "tf.print(\"Mean:\", tensor_mean_552)\n",
    "tf.print(\"Max:\", tensor_max_552)"
   ]
  },
  {
   "cell_type": "code",
   "execution_count": null,
   "id": "abdb1574",
   "metadata": {},
   "outputs": [],
   "source": [
    "import tensorflow as tf\n",
    "\n",
    "tensor_553 = tf.constant(list(range(553)), dtype=tf.float32)\n",
    "tensor_squared_553 = tf.square(tensor_553)\n",
    "tensor_sum_553 = tf.reduce_sum(tensor_squared_553)\n",
    "tensor_mean_553 = tf.reduce_mean(tensor_squared_553)\n",
    "tensor_max_553 = tf.reduce_max(tensor_squared_553)\n",
    "\n",
    "tf.print(\"Cell 553 - TensorFlow\")\n",
    "tf.print(\"Tensor shape:\", tf.shape(tensor_553))\n",
    "tf.print(\"Sum:\", tensor_sum_553)\n",
    "tf.print(\"Mean:\", tensor_mean_553)\n",
    "tf.print(\"Max:\", tensor_max_553)"
   ]
  },
  {
   "cell_type": "code",
   "execution_count": null,
   "id": "97fdb26b",
   "metadata": {},
   "outputs": [],
   "source": [
    "import tensorflow as tf\n",
    "\n",
    "tensor_554 = tf.constant(list(range(554)), dtype=tf.float32)\n",
    "tensor_squared_554 = tf.square(tensor_554)\n",
    "tensor_sum_554 = tf.reduce_sum(tensor_squared_554)\n",
    "tensor_mean_554 = tf.reduce_mean(tensor_squared_554)\n",
    "tensor_max_554 = tf.reduce_max(tensor_squared_554)\n",
    "\n",
    "tf.print(\"Cell 554 - TensorFlow\")\n",
    "tf.print(\"Tensor shape:\", tf.shape(tensor_554))\n",
    "tf.print(\"Sum:\", tensor_sum_554)\n",
    "tf.print(\"Mean:\", tensor_mean_554)\n",
    "tf.print(\"Max:\", tensor_max_554)"
   ]
  },
  {
   "cell_type": "code",
   "execution_count": null,
   "id": "840e3df9",
   "metadata": {},
   "outputs": [],
   "source": [
    "import tensorflow as tf\n",
    "\n",
    "tensor_555 = tf.constant(list(range(555)), dtype=tf.float32)\n",
    "tensor_squared_555 = tf.square(tensor_555)\n",
    "tensor_sum_555 = tf.reduce_sum(tensor_squared_555)\n",
    "tensor_mean_555 = tf.reduce_mean(tensor_squared_555)\n",
    "tensor_max_555 = tf.reduce_max(tensor_squared_555)\n",
    "\n",
    "tf.print(\"Cell 555 - TensorFlow\")\n",
    "tf.print(\"Tensor shape:\", tf.shape(tensor_555))\n",
    "tf.print(\"Sum:\", tensor_sum_555)\n",
    "tf.print(\"Mean:\", tensor_mean_555)\n",
    "tf.print(\"Max:\", tensor_max_555)"
   ]
  },
  {
   "cell_type": "code",
   "execution_count": null,
   "id": "ad16dfef",
   "metadata": {},
   "outputs": [],
   "source": [
    "import tensorflow as tf\n",
    "\n",
    "tensor_556 = tf.constant(list(range(556)), dtype=tf.float32)\n",
    "tensor_squared_556 = tf.square(tensor_556)\n",
    "tensor_sum_556 = tf.reduce_sum(tensor_squared_556)\n",
    "tensor_mean_556 = tf.reduce_mean(tensor_squared_556)\n",
    "tensor_max_556 = tf.reduce_max(tensor_squared_556)\n",
    "\n",
    "tf.print(\"Cell 556 - TensorFlow\")\n",
    "tf.print(\"Tensor shape:\", tf.shape(tensor_556))\n",
    "tf.print(\"Sum:\", tensor_sum_556)\n",
    "tf.print(\"Mean:\", tensor_mean_556)\n",
    "tf.print(\"Max:\", tensor_max_556)"
   ]
  },
  {
   "cell_type": "code",
   "execution_count": null,
   "id": "520d6a3d",
   "metadata": {},
   "outputs": [],
   "source": [
    "import tensorflow as tf\n",
    "\n",
    "tensor_557 = tf.constant(list(range(557)), dtype=tf.float32)\n",
    "tensor_squared_557 = tf.square(tensor_557)\n",
    "tensor_sum_557 = tf.reduce_sum(tensor_squared_557)\n",
    "tensor_mean_557 = tf.reduce_mean(tensor_squared_557)\n",
    "tensor_max_557 = tf.reduce_max(tensor_squared_557)\n",
    "\n",
    "tf.print(\"Cell 557 - TensorFlow\")\n",
    "tf.print(\"Tensor shape:\", tf.shape(tensor_557))\n",
    "tf.print(\"Sum:\", tensor_sum_557)\n",
    "tf.print(\"Mean:\", tensor_mean_557)\n",
    "tf.print(\"Max:\", tensor_max_557)"
   ]
  },
  {
   "cell_type": "code",
   "execution_count": null,
   "id": "7f7b9393",
   "metadata": {},
   "outputs": [],
   "source": [
    "import tensorflow as tf\n",
    "\n",
    "tensor_558 = tf.constant(list(range(558)), dtype=tf.float32)\n",
    "tensor_squared_558 = tf.square(tensor_558)\n",
    "tensor_sum_558 = tf.reduce_sum(tensor_squared_558)\n",
    "tensor_mean_558 = tf.reduce_mean(tensor_squared_558)\n",
    "tensor_max_558 = tf.reduce_max(tensor_squared_558)\n",
    "\n",
    "tf.print(\"Cell 558 - TensorFlow\")\n",
    "tf.print(\"Tensor shape:\", tf.shape(tensor_558))\n",
    "tf.print(\"Sum:\", tensor_sum_558)\n",
    "tf.print(\"Mean:\", tensor_mean_558)\n",
    "tf.print(\"Max:\", tensor_max_558)"
   ]
  },
  {
   "cell_type": "code",
   "execution_count": null,
   "id": "e02b2266",
   "metadata": {},
   "outputs": [],
   "source": [
    "import tensorflow as tf\n",
    "\n",
    "tensor_559 = tf.constant(list(range(559)), dtype=tf.float32)\n",
    "tensor_squared_559 = tf.square(tensor_559)\n",
    "tensor_sum_559 = tf.reduce_sum(tensor_squared_559)\n",
    "tensor_mean_559 = tf.reduce_mean(tensor_squared_559)\n",
    "tensor_max_559 = tf.reduce_max(tensor_squared_559)\n",
    "\n",
    "tf.print(\"Cell 559 - TensorFlow\")\n",
    "tf.print(\"Tensor shape:\", tf.shape(tensor_559))\n",
    "tf.print(\"Sum:\", tensor_sum_559)\n",
    "tf.print(\"Mean:\", tensor_mean_559)\n",
    "tf.print(\"Max:\", tensor_max_559)"
   ]
  },
  {
   "cell_type": "code",
   "execution_count": null,
   "id": "6394b6d1",
   "metadata": {},
   "outputs": [],
   "source": [
    "import tensorflow as tf\n",
    "\n",
    "tensor_560 = tf.constant(list(range(560)), dtype=tf.float32)\n",
    "tensor_squared_560 = tf.square(tensor_560)\n",
    "tensor_sum_560 = tf.reduce_sum(tensor_squared_560)\n",
    "tensor_mean_560 = tf.reduce_mean(tensor_squared_560)\n",
    "tensor_max_560 = tf.reduce_max(tensor_squared_560)\n",
    "\n",
    "tf.print(\"Cell 560 - TensorFlow\")\n",
    "tf.print(\"Tensor shape:\", tf.shape(tensor_560))\n",
    "tf.print(\"Sum:\", tensor_sum_560)\n",
    "tf.print(\"Mean:\", tensor_mean_560)\n",
    "tf.print(\"Max:\", tensor_max_560)"
   ]
  },
  {
   "cell_type": "code",
   "execution_count": null,
   "id": "1426a85a",
   "metadata": {},
   "outputs": [],
   "source": [
    "import tensorflow as tf\n",
    "\n",
    "tensor_561 = tf.constant(list(range(561)), dtype=tf.float32)\n",
    "tensor_squared_561 = tf.square(tensor_561)\n",
    "tensor_sum_561 = tf.reduce_sum(tensor_squared_561)\n",
    "tensor_mean_561 = tf.reduce_mean(tensor_squared_561)\n",
    "tensor_max_561 = tf.reduce_max(tensor_squared_561)\n",
    "\n",
    "tf.print(\"Cell 561 - TensorFlow\")\n",
    "tf.print(\"Tensor shape:\", tf.shape(tensor_561))\n",
    "tf.print(\"Sum:\", tensor_sum_561)\n",
    "tf.print(\"Mean:\", tensor_mean_561)\n",
    "tf.print(\"Max:\", tensor_max_561)"
   ]
  },
  {
   "cell_type": "code",
   "execution_count": null,
   "id": "3964049a",
   "metadata": {},
   "outputs": [],
   "source": [
    "import tensorflow as tf\n",
    "\n",
    "tensor_562 = tf.constant(list(range(562)), dtype=tf.float32)\n",
    "tensor_squared_562 = tf.square(tensor_562)\n",
    "tensor_sum_562 = tf.reduce_sum(tensor_squared_562)\n",
    "tensor_mean_562 = tf.reduce_mean(tensor_squared_562)\n",
    "tensor_max_562 = tf.reduce_max(tensor_squared_562)\n",
    "\n",
    "tf.print(\"Cell 562 - TensorFlow\")\n",
    "tf.print(\"Tensor shape:\", tf.shape(tensor_562))\n",
    "tf.print(\"Sum:\", tensor_sum_562)\n",
    "tf.print(\"Mean:\", tensor_mean_562)\n",
    "tf.print(\"Max:\", tensor_max_562)"
   ]
  },
  {
   "cell_type": "code",
   "execution_count": null,
   "id": "fce2ad49",
   "metadata": {},
   "outputs": [],
   "source": [
    "import tensorflow as tf\n",
    "\n",
    "tensor_563 = tf.constant(list(range(563)), dtype=tf.float32)\n",
    "tensor_squared_563 = tf.square(tensor_563)\n",
    "tensor_sum_563 = tf.reduce_sum(tensor_squared_563)\n",
    "tensor_mean_563 = tf.reduce_mean(tensor_squared_563)\n",
    "tensor_max_563 = tf.reduce_max(tensor_squared_563)\n",
    "\n",
    "tf.print(\"Cell 563 - TensorFlow\")\n",
    "tf.print(\"Tensor shape:\", tf.shape(tensor_563))\n",
    "tf.print(\"Sum:\", tensor_sum_563)\n",
    "tf.print(\"Mean:\", tensor_mean_563)\n",
    "tf.print(\"Max:\", tensor_max_563)"
   ]
  },
  {
   "cell_type": "code",
   "execution_count": null,
   "id": "efeb9519",
   "metadata": {},
   "outputs": [],
   "source": [
    "import tensorflow as tf\n",
    "\n",
    "tensor_564 = tf.constant(list(range(564)), dtype=tf.float32)\n",
    "tensor_squared_564 = tf.square(tensor_564)\n",
    "tensor_sum_564 = tf.reduce_sum(tensor_squared_564)\n",
    "tensor_mean_564 = tf.reduce_mean(tensor_squared_564)\n",
    "tensor_max_564 = tf.reduce_max(tensor_squared_564)\n",
    "\n",
    "tf.print(\"Cell 564 - TensorFlow\")\n",
    "tf.print(\"Tensor shape:\", tf.shape(tensor_564))\n",
    "tf.print(\"Sum:\", tensor_sum_564)\n",
    "tf.print(\"Mean:\", tensor_mean_564)\n",
    "tf.print(\"Max:\", tensor_max_564)"
   ]
  },
  {
   "cell_type": "code",
   "execution_count": null,
   "id": "fa1b6d25",
   "metadata": {},
   "outputs": [],
   "source": [
    "import tensorflow as tf\n",
    "\n",
    "tensor_565 = tf.constant(list(range(565)), dtype=tf.float32)\n",
    "tensor_squared_565 = tf.square(tensor_565)\n",
    "tensor_sum_565 = tf.reduce_sum(tensor_squared_565)\n",
    "tensor_mean_565 = tf.reduce_mean(tensor_squared_565)\n",
    "tensor_max_565 = tf.reduce_max(tensor_squared_565)\n",
    "\n",
    "tf.print(\"Cell 565 - TensorFlow\")\n",
    "tf.print(\"Tensor shape:\", tf.shape(tensor_565))\n",
    "tf.print(\"Sum:\", tensor_sum_565)\n",
    "tf.print(\"Mean:\", tensor_mean_565)\n",
    "tf.print(\"Max:\", tensor_max_565)"
   ]
  },
  {
   "cell_type": "code",
   "execution_count": null,
   "id": "a31bfa2f",
   "metadata": {},
   "outputs": [],
   "source": [
    "import tensorflow as tf\n",
    "\n",
    "tensor_566 = tf.constant(list(range(566)), dtype=tf.float32)\n",
    "tensor_squared_566 = tf.square(tensor_566)\n",
    "tensor_sum_566 = tf.reduce_sum(tensor_squared_566)\n",
    "tensor_mean_566 = tf.reduce_mean(tensor_squared_566)\n",
    "tensor_max_566 = tf.reduce_max(tensor_squared_566)\n",
    "\n",
    "tf.print(\"Cell 566 - TensorFlow\")\n",
    "tf.print(\"Tensor shape:\", tf.shape(tensor_566))\n",
    "tf.print(\"Sum:\", tensor_sum_566)\n",
    "tf.print(\"Mean:\", tensor_mean_566)\n",
    "tf.print(\"Max:\", tensor_max_566)"
   ]
  },
  {
   "cell_type": "code",
   "execution_count": null,
   "id": "54bf287e",
   "metadata": {},
   "outputs": [],
   "source": [
    "import tensorflow as tf\n",
    "\n",
    "tensor_567 = tf.constant(list(range(567)), dtype=tf.float32)\n",
    "tensor_squared_567 = tf.square(tensor_567)\n",
    "tensor_sum_567 = tf.reduce_sum(tensor_squared_567)\n",
    "tensor_mean_567 = tf.reduce_mean(tensor_squared_567)\n",
    "tensor_max_567 = tf.reduce_max(tensor_squared_567)\n",
    "\n",
    "tf.print(\"Cell 567 - TensorFlow\")\n",
    "tf.print(\"Tensor shape:\", tf.shape(tensor_567))\n",
    "tf.print(\"Sum:\", tensor_sum_567)\n",
    "tf.print(\"Mean:\", tensor_mean_567)\n",
    "tf.print(\"Max:\", tensor_max_567)"
   ]
  },
  {
   "cell_type": "code",
   "execution_count": null,
   "id": "d34edc67",
   "metadata": {},
   "outputs": [],
   "source": [
    "import tensorflow as tf\n",
    "\n",
    "tensor_568 = tf.constant(list(range(568)), dtype=tf.float32)\n",
    "tensor_squared_568 = tf.square(tensor_568)\n",
    "tensor_sum_568 = tf.reduce_sum(tensor_squared_568)\n",
    "tensor_mean_568 = tf.reduce_mean(tensor_squared_568)\n",
    "tensor_max_568 = tf.reduce_max(tensor_squared_568)\n",
    "\n",
    "tf.print(\"Cell 568 - TensorFlow\")\n",
    "tf.print(\"Tensor shape:\", tf.shape(tensor_568))\n",
    "tf.print(\"Sum:\", tensor_sum_568)\n",
    "tf.print(\"Mean:\", tensor_mean_568)\n",
    "tf.print(\"Max:\", tensor_max_568)"
   ]
  },
  {
   "cell_type": "code",
   "execution_count": null,
   "id": "abc1c304",
   "metadata": {},
   "outputs": [],
   "source": [
    "import tensorflow as tf\n",
    "\n",
    "tensor_569 = tf.constant(list(range(569)), dtype=tf.float32)\n",
    "tensor_squared_569 = tf.square(tensor_569)\n",
    "tensor_sum_569 = tf.reduce_sum(tensor_squared_569)\n",
    "tensor_mean_569 = tf.reduce_mean(tensor_squared_569)\n",
    "tensor_max_569 = tf.reduce_max(tensor_squared_569)\n",
    "\n",
    "tf.print(\"Cell 569 - TensorFlow\")\n",
    "tf.print(\"Tensor shape:\", tf.shape(tensor_569))\n",
    "tf.print(\"Sum:\", tensor_sum_569)\n",
    "tf.print(\"Mean:\", tensor_mean_569)\n",
    "tf.print(\"Max:\", tensor_max_569)"
   ]
  },
  {
   "cell_type": "code",
   "execution_count": null,
   "id": "5eaefe34",
   "metadata": {},
   "outputs": [],
   "source": [
    "import tensorflow as tf\n",
    "\n",
    "tensor_570 = tf.constant(list(range(570)), dtype=tf.float32)\n",
    "tensor_squared_570 = tf.square(tensor_570)\n",
    "tensor_sum_570 = tf.reduce_sum(tensor_squared_570)\n",
    "tensor_mean_570 = tf.reduce_mean(tensor_squared_570)\n",
    "tensor_max_570 = tf.reduce_max(tensor_squared_570)\n",
    "\n",
    "tf.print(\"Cell 570 - TensorFlow\")\n",
    "tf.print(\"Tensor shape:\", tf.shape(tensor_570))\n",
    "tf.print(\"Sum:\", tensor_sum_570)\n",
    "tf.print(\"Mean:\", tensor_mean_570)\n",
    "tf.print(\"Max:\", tensor_max_570)"
   ]
  },
  {
   "cell_type": "code",
   "execution_count": null,
   "id": "47db0768",
   "metadata": {},
   "outputs": [],
   "source": [
    "import tensorflow as tf\n",
    "\n",
    "tensor_571 = tf.constant(list(range(571)), dtype=tf.float32)\n",
    "tensor_squared_571 = tf.square(tensor_571)\n",
    "tensor_sum_571 = tf.reduce_sum(tensor_squared_571)\n",
    "tensor_mean_571 = tf.reduce_mean(tensor_squared_571)\n",
    "tensor_max_571 = tf.reduce_max(tensor_squared_571)\n",
    "\n",
    "tf.print(\"Cell 571 - TensorFlow\")\n",
    "tf.print(\"Tensor shape:\", tf.shape(tensor_571))\n",
    "tf.print(\"Sum:\", tensor_sum_571)\n",
    "tf.print(\"Mean:\", tensor_mean_571)\n",
    "tf.print(\"Max:\", tensor_max_571)"
   ]
  },
  {
   "cell_type": "code",
   "execution_count": null,
   "id": "cd993f15",
   "metadata": {},
   "outputs": [],
   "source": [
    "import tensorflow as tf\n",
    "\n",
    "tensor_572 = tf.constant(list(range(572)), dtype=tf.float32)\n",
    "tensor_squared_572 = tf.square(tensor_572)\n",
    "tensor_sum_572 = tf.reduce_sum(tensor_squared_572)\n",
    "tensor_mean_572 = tf.reduce_mean(tensor_squared_572)\n",
    "tensor_max_572 = tf.reduce_max(tensor_squared_572)\n",
    "\n",
    "tf.print(\"Cell 572 - TensorFlow\")\n",
    "tf.print(\"Tensor shape:\", tf.shape(tensor_572))\n",
    "tf.print(\"Sum:\", tensor_sum_572)\n",
    "tf.print(\"Mean:\", tensor_mean_572)\n",
    "tf.print(\"Max:\", tensor_max_572)"
   ]
  },
  {
   "cell_type": "code",
   "execution_count": null,
   "id": "84cb2895",
   "metadata": {},
   "outputs": [],
   "source": [
    "import tensorflow as tf\n",
    "\n",
    "tensor_573 = tf.constant(list(range(573)), dtype=tf.float32)\n",
    "tensor_squared_573 = tf.square(tensor_573)\n",
    "tensor_sum_573 = tf.reduce_sum(tensor_squared_573)\n",
    "tensor_mean_573 = tf.reduce_mean(tensor_squared_573)\n",
    "tensor_max_573 = tf.reduce_max(tensor_squared_573)\n",
    "\n",
    "tf.print(\"Cell 573 - TensorFlow\")\n",
    "tf.print(\"Tensor shape:\", tf.shape(tensor_573))\n",
    "tf.print(\"Sum:\", tensor_sum_573)\n",
    "tf.print(\"Mean:\", tensor_mean_573)\n",
    "tf.print(\"Max:\", tensor_max_573)"
   ]
  },
  {
   "cell_type": "code",
   "execution_count": null,
   "id": "146fb72c",
   "metadata": {},
   "outputs": [],
   "source": [
    "import tensorflow as tf\n",
    "\n",
    "tensor_574 = tf.constant(list(range(574)), dtype=tf.float32)\n",
    "tensor_squared_574 = tf.square(tensor_574)\n",
    "tensor_sum_574 = tf.reduce_sum(tensor_squared_574)\n",
    "tensor_mean_574 = tf.reduce_mean(tensor_squared_574)\n",
    "tensor_max_574 = tf.reduce_max(tensor_squared_574)\n",
    "\n",
    "tf.print(\"Cell 574 - TensorFlow\")\n",
    "tf.print(\"Tensor shape:\", tf.shape(tensor_574))\n",
    "tf.print(\"Sum:\", tensor_sum_574)\n",
    "tf.print(\"Mean:\", tensor_mean_574)\n",
    "tf.print(\"Max:\", tensor_max_574)"
   ]
  },
  {
   "cell_type": "code",
   "execution_count": null,
   "id": "6d25497f",
   "metadata": {},
   "outputs": [],
   "source": [
    "import tensorflow as tf\n",
    "\n",
    "tensor_575 = tf.constant(list(range(575)), dtype=tf.float32)\n",
    "tensor_squared_575 = tf.square(tensor_575)\n",
    "tensor_sum_575 = tf.reduce_sum(tensor_squared_575)\n",
    "tensor_mean_575 = tf.reduce_mean(tensor_squared_575)\n",
    "tensor_max_575 = tf.reduce_max(tensor_squared_575)\n",
    "\n",
    "tf.print(\"Cell 575 - TensorFlow\")\n",
    "tf.print(\"Tensor shape:\", tf.shape(tensor_575))\n",
    "tf.print(\"Sum:\", tensor_sum_575)\n",
    "tf.print(\"Mean:\", tensor_mean_575)\n",
    "tf.print(\"Max:\", tensor_max_575)"
   ]
  },
  {
   "cell_type": "code",
   "execution_count": null,
   "id": "125cae64",
   "metadata": {},
   "outputs": [],
   "source": [
    "import tensorflow as tf\n",
    "\n",
    "tensor_576 = tf.constant(list(range(576)), dtype=tf.float32)\n",
    "tensor_squared_576 = tf.square(tensor_576)\n",
    "tensor_sum_576 = tf.reduce_sum(tensor_squared_576)\n",
    "tensor_mean_576 = tf.reduce_mean(tensor_squared_576)\n",
    "tensor_max_576 = tf.reduce_max(tensor_squared_576)\n",
    "\n",
    "tf.print(\"Cell 576 - TensorFlow\")\n",
    "tf.print(\"Tensor shape:\", tf.shape(tensor_576))\n",
    "tf.print(\"Sum:\", tensor_sum_576)\n",
    "tf.print(\"Mean:\", tensor_mean_576)\n",
    "tf.print(\"Max:\", tensor_max_576)"
   ]
  },
  {
   "cell_type": "code",
   "execution_count": null,
   "id": "9a913c6f",
   "metadata": {},
   "outputs": [],
   "source": [
    "import tensorflow as tf\n",
    "\n",
    "tensor_577 = tf.constant(list(range(577)), dtype=tf.float32)\n",
    "tensor_squared_577 = tf.square(tensor_577)\n",
    "tensor_sum_577 = tf.reduce_sum(tensor_squared_577)\n",
    "tensor_mean_577 = tf.reduce_mean(tensor_squared_577)\n",
    "tensor_max_577 = tf.reduce_max(tensor_squared_577)\n",
    "\n",
    "tf.print(\"Cell 577 - TensorFlow\")\n",
    "tf.print(\"Tensor shape:\", tf.shape(tensor_577))\n",
    "tf.print(\"Sum:\", tensor_sum_577)\n",
    "tf.print(\"Mean:\", tensor_mean_577)\n",
    "tf.print(\"Max:\", tensor_max_577)"
   ]
  },
  {
   "cell_type": "code",
   "execution_count": null,
   "id": "e0e38f14",
   "metadata": {},
   "outputs": [],
   "source": [
    "import tensorflow as tf\n",
    "\n",
    "tensor_578 = tf.constant(list(range(578)), dtype=tf.float32)\n",
    "tensor_squared_578 = tf.square(tensor_578)\n",
    "tensor_sum_578 = tf.reduce_sum(tensor_squared_578)\n",
    "tensor_mean_578 = tf.reduce_mean(tensor_squared_578)\n",
    "tensor_max_578 = tf.reduce_max(tensor_squared_578)\n",
    "\n",
    "tf.print(\"Cell 578 - TensorFlow\")\n",
    "tf.print(\"Tensor shape:\", tf.shape(tensor_578))\n",
    "tf.print(\"Sum:\", tensor_sum_578)\n",
    "tf.print(\"Mean:\", tensor_mean_578)\n",
    "tf.print(\"Max:\", tensor_max_578)"
   ]
  },
  {
   "cell_type": "code",
   "execution_count": null,
   "id": "0ceb6b1f",
   "metadata": {},
   "outputs": [],
   "source": [
    "import tensorflow as tf\n",
    "\n",
    "tensor_579 = tf.constant(list(range(579)), dtype=tf.float32)\n",
    "tensor_squared_579 = tf.square(tensor_579)\n",
    "tensor_sum_579 = tf.reduce_sum(tensor_squared_579)\n",
    "tensor_mean_579 = tf.reduce_mean(tensor_squared_579)\n",
    "tensor_max_579 = tf.reduce_max(tensor_squared_579)\n",
    "\n",
    "tf.print(\"Cell 579 - TensorFlow\")\n",
    "tf.print(\"Tensor shape:\", tf.shape(tensor_579))\n",
    "tf.print(\"Sum:\", tensor_sum_579)\n",
    "tf.print(\"Mean:\", tensor_mean_579)\n",
    "tf.print(\"Max:\", tensor_max_579)"
   ]
  },
  {
   "cell_type": "code",
   "execution_count": null,
   "id": "decf0e00",
   "metadata": {},
   "outputs": [],
   "source": [
    "import tensorflow as tf\n",
    "\n",
    "tensor_580 = tf.constant(list(range(580)), dtype=tf.float32)\n",
    "tensor_squared_580 = tf.square(tensor_580)\n",
    "tensor_sum_580 = tf.reduce_sum(tensor_squared_580)\n",
    "tensor_mean_580 = tf.reduce_mean(tensor_squared_580)\n",
    "tensor_max_580 = tf.reduce_max(tensor_squared_580)\n",
    "\n",
    "tf.print(\"Cell 580 - TensorFlow\")\n",
    "tf.print(\"Tensor shape:\", tf.shape(tensor_580))\n",
    "tf.print(\"Sum:\", tensor_sum_580)\n",
    "tf.print(\"Mean:\", tensor_mean_580)\n",
    "tf.print(\"Max:\", tensor_max_580)"
   ]
  },
  {
   "cell_type": "code",
   "execution_count": null,
   "id": "d24c5064",
   "metadata": {},
   "outputs": [],
   "source": [
    "import tensorflow as tf\n",
    "\n",
    "tensor_581 = tf.constant(list(range(581)), dtype=tf.float32)\n",
    "tensor_squared_581 = tf.square(tensor_581)\n",
    "tensor_sum_581 = tf.reduce_sum(tensor_squared_581)\n",
    "tensor_mean_581 = tf.reduce_mean(tensor_squared_581)\n",
    "tensor_max_581 = tf.reduce_max(tensor_squared_581)\n",
    "\n",
    "tf.print(\"Cell 581 - TensorFlow\")\n",
    "tf.print(\"Tensor shape:\", tf.shape(tensor_581))\n",
    "tf.print(\"Sum:\", tensor_sum_581)\n",
    "tf.print(\"Mean:\", tensor_mean_581)\n",
    "tf.print(\"Max:\", tensor_max_581)"
   ]
  },
  {
   "cell_type": "code",
   "execution_count": null,
   "id": "ab7f3ad3",
   "metadata": {},
   "outputs": [],
   "source": [
    "import tensorflow as tf\n",
    "\n",
    "tensor_582 = tf.constant(list(range(582)), dtype=tf.float32)\n",
    "tensor_squared_582 = tf.square(tensor_582)\n",
    "tensor_sum_582 = tf.reduce_sum(tensor_squared_582)\n",
    "tensor_mean_582 = tf.reduce_mean(tensor_squared_582)\n",
    "tensor_max_582 = tf.reduce_max(tensor_squared_582)\n",
    "\n",
    "tf.print(\"Cell 582 - TensorFlow\")\n",
    "tf.print(\"Tensor shape:\", tf.shape(tensor_582))\n",
    "tf.print(\"Sum:\", tensor_sum_582)\n",
    "tf.print(\"Mean:\", tensor_mean_582)\n",
    "tf.print(\"Max:\", tensor_max_582)"
   ]
  },
  {
   "cell_type": "code",
   "execution_count": null,
   "id": "974589b8",
   "metadata": {},
   "outputs": [],
   "source": [
    "import tensorflow as tf\n",
    "\n",
    "tensor_583 = tf.constant(list(range(583)), dtype=tf.float32)\n",
    "tensor_squared_583 = tf.square(tensor_583)\n",
    "tensor_sum_583 = tf.reduce_sum(tensor_squared_583)\n",
    "tensor_mean_583 = tf.reduce_mean(tensor_squared_583)\n",
    "tensor_max_583 = tf.reduce_max(tensor_squared_583)\n",
    "\n",
    "tf.print(\"Cell 583 - TensorFlow\")\n",
    "tf.print(\"Tensor shape:\", tf.shape(tensor_583))\n",
    "tf.print(\"Sum:\", tensor_sum_583)\n",
    "tf.print(\"Mean:\", tensor_mean_583)\n",
    "tf.print(\"Max:\", tensor_max_583)"
   ]
  },
  {
   "cell_type": "code",
   "execution_count": null,
   "id": "109233f5",
   "metadata": {},
   "outputs": [],
   "source": [
    "import tensorflow as tf\n",
    "\n",
    "tensor_584 = tf.constant(list(range(584)), dtype=tf.float32)\n",
    "tensor_squared_584 = tf.square(tensor_584)\n",
    "tensor_sum_584 = tf.reduce_sum(tensor_squared_584)\n",
    "tensor_mean_584 = tf.reduce_mean(tensor_squared_584)\n",
    "tensor_max_584 = tf.reduce_max(tensor_squared_584)\n",
    "\n",
    "tf.print(\"Cell 584 - TensorFlow\")\n",
    "tf.print(\"Tensor shape:\", tf.shape(tensor_584))\n",
    "tf.print(\"Sum:\", tensor_sum_584)\n",
    "tf.print(\"Mean:\", tensor_mean_584)\n",
    "tf.print(\"Max:\", tensor_max_584)"
   ]
  },
  {
   "cell_type": "code",
   "execution_count": null,
   "id": "70ebf289",
   "metadata": {},
   "outputs": [],
   "source": [
    "import tensorflow as tf\n",
    "\n",
    "tensor_585 = tf.constant(list(range(585)), dtype=tf.float32)\n",
    "tensor_squared_585 = tf.square(tensor_585)\n",
    "tensor_sum_585 = tf.reduce_sum(tensor_squared_585)\n",
    "tensor_mean_585 = tf.reduce_mean(tensor_squared_585)\n",
    "tensor_max_585 = tf.reduce_max(tensor_squared_585)\n",
    "\n",
    "tf.print(\"Cell 585 - TensorFlow\")\n",
    "tf.print(\"Tensor shape:\", tf.shape(tensor_585))\n",
    "tf.print(\"Sum:\", tensor_sum_585)\n",
    "tf.print(\"Mean:\", tensor_mean_585)\n",
    "tf.print(\"Max:\", tensor_max_585)"
   ]
  },
  {
   "cell_type": "code",
   "execution_count": null,
   "id": "d8349e8e",
   "metadata": {},
   "outputs": [],
   "source": [
    "import tensorflow as tf\n",
    "\n",
    "tensor_586 = tf.constant(list(range(586)), dtype=tf.float32)\n",
    "tensor_squared_586 = tf.square(tensor_586)\n",
    "tensor_sum_586 = tf.reduce_sum(tensor_squared_586)\n",
    "tensor_mean_586 = tf.reduce_mean(tensor_squared_586)\n",
    "tensor_max_586 = tf.reduce_max(tensor_squared_586)\n",
    "\n",
    "tf.print(\"Cell 586 - TensorFlow\")\n",
    "tf.print(\"Tensor shape:\", tf.shape(tensor_586))\n",
    "tf.print(\"Sum:\", tensor_sum_586)\n",
    "tf.print(\"Mean:\", tensor_mean_586)\n",
    "tf.print(\"Max:\", tensor_max_586)"
   ]
  },
  {
   "cell_type": "code",
   "execution_count": null,
   "id": "7d54f3e8",
   "metadata": {},
   "outputs": [],
   "source": [
    "import tensorflow as tf\n",
    "\n",
    "tensor_587 = tf.constant(list(range(587)), dtype=tf.float32)\n",
    "tensor_squared_587 = tf.square(tensor_587)\n",
    "tensor_sum_587 = tf.reduce_sum(tensor_squared_587)\n",
    "tensor_mean_587 = tf.reduce_mean(tensor_squared_587)\n",
    "tensor_max_587 = tf.reduce_max(tensor_squared_587)\n",
    "\n",
    "tf.print(\"Cell 587 - TensorFlow\")\n",
    "tf.print(\"Tensor shape:\", tf.shape(tensor_587))\n",
    "tf.print(\"Sum:\", tensor_sum_587)\n",
    "tf.print(\"Mean:\", tensor_mean_587)\n",
    "tf.print(\"Max:\", tensor_max_587)"
   ]
  },
  {
   "cell_type": "code",
   "execution_count": null,
   "id": "99bb9958",
   "metadata": {},
   "outputs": [],
   "source": [
    "import tensorflow as tf\n",
    "\n",
    "tensor_588 = tf.constant(list(range(588)), dtype=tf.float32)\n",
    "tensor_squared_588 = tf.square(tensor_588)\n",
    "tensor_sum_588 = tf.reduce_sum(tensor_squared_588)\n",
    "tensor_mean_588 = tf.reduce_mean(tensor_squared_588)\n",
    "tensor_max_588 = tf.reduce_max(tensor_squared_588)\n",
    "\n",
    "tf.print(\"Cell 588 - TensorFlow\")\n",
    "tf.print(\"Tensor shape:\", tf.shape(tensor_588))\n",
    "tf.print(\"Sum:\", tensor_sum_588)\n",
    "tf.print(\"Mean:\", tensor_mean_588)\n",
    "tf.print(\"Max:\", tensor_max_588)"
   ]
  },
  {
   "cell_type": "code",
   "execution_count": null,
   "id": "901a7155",
   "metadata": {},
   "outputs": [],
   "source": [
    "import tensorflow as tf\n",
    "\n",
    "tensor_589 = tf.constant(list(range(589)), dtype=tf.float32)\n",
    "tensor_squared_589 = tf.square(tensor_589)\n",
    "tensor_sum_589 = tf.reduce_sum(tensor_squared_589)\n",
    "tensor_mean_589 = tf.reduce_mean(tensor_squared_589)\n",
    "tensor_max_589 = tf.reduce_max(tensor_squared_589)\n",
    "\n",
    "tf.print(\"Cell 589 - TensorFlow\")\n",
    "tf.print(\"Tensor shape:\", tf.shape(tensor_589))\n",
    "tf.print(\"Sum:\", tensor_sum_589)\n",
    "tf.print(\"Mean:\", tensor_mean_589)\n",
    "tf.print(\"Max:\", tensor_max_589)"
   ]
  },
  {
   "cell_type": "code",
   "execution_count": null,
   "id": "0823f2e5",
   "metadata": {},
   "outputs": [],
   "source": [
    "import tensorflow as tf\n",
    "\n",
    "tensor_590 = tf.constant(list(range(590)), dtype=tf.float32)\n",
    "tensor_squared_590 = tf.square(tensor_590)\n",
    "tensor_sum_590 = tf.reduce_sum(tensor_squared_590)\n",
    "tensor_mean_590 = tf.reduce_mean(tensor_squared_590)\n",
    "tensor_max_590 = tf.reduce_max(tensor_squared_590)\n",
    "\n",
    "tf.print(\"Cell 590 - TensorFlow\")\n",
    "tf.print(\"Tensor shape:\", tf.shape(tensor_590))\n",
    "tf.print(\"Sum:\", tensor_sum_590)\n",
    "tf.print(\"Mean:\", tensor_mean_590)\n",
    "tf.print(\"Max:\", tensor_max_590)"
   ]
  },
  {
   "cell_type": "code",
   "execution_count": null,
   "id": "bcae64fe",
   "metadata": {},
   "outputs": [],
   "source": [
    "import tensorflow as tf\n",
    "\n",
    "tensor_591 = tf.constant(list(range(591)), dtype=tf.float32)\n",
    "tensor_squared_591 = tf.square(tensor_591)\n",
    "tensor_sum_591 = tf.reduce_sum(tensor_squared_591)\n",
    "tensor_mean_591 = tf.reduce_mean(tensor_squared_591)\n",
    "tensor_max_591 = tf.reduce_max(tensor_squared_591)\n",
    "\n",
    "tf.print(\"Cell 591 - TensorFlow\")\n",
    "tf.print(\"Tensor shape:\", tf.shape(tensor_591))\n",
    "tf.print(\"Sum:\", tensor_sum_591)\n",
    "tf.print(\"Mean:\", tensor_mean_591)\n",
    "tf.print(\"Max:\", tensor_max_591)"
   ]
  },
  {
   "cell_type": "code",
   "execution_count": null,
   "id": "ce445a32",
   "metadata": {},
   "outputs": [],
   "source": [
    "import tensorflow as tf\n",
    "\n",
    "tensor_592 = tf.constant(list(range(592)), dtype=tf.float32)\n",
    "tensor_squared_592 = tf.square(tensor_592)\n",
    "tensor_sum_592 = tf.reduce_sum(tensor_squared_592)\n",
    "tensor_mean_592 = tf.reduce_mean(tensor_squared_592)\n",
    "tensor_max_592 = tf.reduce_max(tensor_squared_592)\n",
    "\n",
    "tf.print(\"Cell 592 - TensorFlow\")\n",
    "tf.print(\"Tensor shape:\", tf.shape(tensor_592))\n",
    "tf.print(\"Sum:\", tensor_sum_592)\n",
    "tf.print(\"Mean:\", tensor_mean_592)\n",
    "tf.print(\"Max:\", tensor_max_592)"
   ]
  },
  {
   "cell_type": "code",
   "execution_count": null,
   "id": "2c076c51",
   "metadata": {},
   "outputs": [],
   "source": [
    "import tensorflow as tf\n",
    "\n",
    "tensor_593 = tf.constant(list(range(593)), dtype=tf.float32)\n",
    "tensor_squared_593 = tf.square(tensor_593)\n",
    "tensor_sum_593 = tf.reduce_sum(tensor_squared_593)\n",
    "tensor_mean_593 = tf.reduce_mean(tensor_squared_593)\n",
    "tensor_max_593 = tf.reduce_max(tensor_squared_593)\n",
    "\n",
    "tf.print(\"Cell 593 - TensorFlow\")\n",
    "tf.print(\"Tensor shape:\", tf.shape(tensor_593))\n",
    "tf.print(\"Sum:\", tensor_sum_593)\n",
    "tf.print(\"Mean:\", tensor_mean_593)\n",
    "tf.print(\"Max:\", tensor_max_593)"
   ]
  },
  {
   "cell_type": "code",
   "execution_count": null,
   "id": "1254e88d",
   "metadata": {},
   "outputs": [],
   "source": [
    "import tensorflow as tf\n",
    "\n",
    "tensor_594 = tf.constant(list(range(594)), dtype=tf.float32)\n",
    "tensor_squared_594 = tf.square(tensor_594)\n",
    "tensor_sum_594 = tf.reduce_sum(tensor_squared_594)\n",
    "tensor_mean_594 = tf.reduce_mean(tensor_squared_594)\n",
    "tensor_max_594 = tf.reduce_max(tensor_squared_594)\n",
    "\n",
    "tf.print(\"Cell 594 - TensorFlow\")\n",
    "tf.print(\"Tensor shape:\", tf.shape(tensor_594))\n",
    "tf.print(\"Sum:\", tensor_sum_594)\n",
    "tf.print(\"Mean:\", tensor_mean_594)\n",
    "tf.print(\"Max:\", tensor_max_594)"
   ]
  },
  {
   "cell_type": "code",
   "execution_count": null,
   "id": "4292a1e2",
   "metadata": {},
   "outputs": [],
   "source": [
    "import tensorflow as tf\n",
    "\n",
    "tensor_595 = tf.constant(list(range(595)), dtype=tf.float32)\n",
    "tensor_squared_595 = tf.square(tensor_595)\n",
    "tensor_sum_595 = tf.reduce_sum(tensor_squared_595)\n",
    "tensor_mean_595 = tf.reduce_mean(tensor_squared_595)\n",
    "tensor_max_595 = tf.reduce_max(tensor_squared_595)\n",
    "\n",
    "tf.print(\"Cell 595 - TensorFlow\")\n",
    "tf.print(\"Tensor shape:\", tf.shape(tensor_595))\n",
    "tf.print(\"Sum:\", tensor_sum_595)\n",
    "tf.print(\"Mean:\", tensor_mean_595)\n",
    "tf.print(\"Max:\", tensor_max_595)"
   ]
  },
  {
   "cell_type": "code",
   "execution_count": null,
   "id": "97c8afd5",
   "metadata": {},
   "outputs": [],
   "source": [
    "import tensorflow as tf\n",
    "\n",
    "tensor_596 = tf.constant(list(range(596)), dtype=tf.float32)\n",
    "tensor_squared_596 = tf.square(tensor_596)\n",
    "tensor_sum_596 = tf.reduce_sum(tensor_squared_596)\n",
    "tensor_mean_596 = tf.reduce_mean(tensor_squared_596)\n",
    "tensor_max_596 = tf.reduce_max(tensor_squared_596)\n",
    "\n",
    "tf.print(\"Cell 596 - TensorFlow\")\n",
    "tf.print(\"Tensor shape:\", tf.shape(tensor_596))\n",
    "tf.print(\"Sum:\", tensor_sum_596)\n",
    "tf.print(\"Mean:\", tensor_mean_596)\n",
    "tf.print(\"Max:\", tensor_max_596)"
   ]
  },
  {
   "cell_type": "code",
   "execution_count": null,
   "id": "67437fe4",
   "metadata": {},
   "outputs": [],
   "source": [
    "import tensorflow as tf\n",
    "\n",
    "tensor_597 = tf.constant(list(range(597)), dtype=tf.float32)\n",
    "tensor_squared_597 = tf.square(tensor_597)\n",
    "tensor_sum_597 = tf.reduce_sum(tensor_squared_597)\n",
    "tensor_mean_597 = tf.reduce_mean(tensor_squared_597)\n",
    "tensor_max_597 = tf.reduce_max(tensor_squared_597)\n",
    "\n",
    "tf.print(\"Cell 597 - TensorFlow\")\n",
    "tf.print(\"Tensor shape:\", tf.shape(tensor_597))\n",
    "tf.print(\"Sum:\", tensor_sum_597)\n",
    "tf.print(\"Mean:\", tensor_mean_597)\n",
    "tf.print(\"Max:\", tensor_max_597)"
   ]
  },
  {
   "cell_type": "code",
   "execution_count": null,
   "id": "0c44ecac",
   "metadata": {},
   "outputs": [],
   "source": [
    "import tensorflow as tf\n",
    "\n",
    "tensor_598 = tf.constant(list(range(598)), dtype=tf.float32)\n",
    "tensor_squared_598 = tf.square(tensor_598)\n",
    "tensor_sum_598 = tf.reduce_sum(tensor_squared_598)\n",
    "tensor_mean_598 = tf.reduce_mean(tensor_squared_598)\n",
    "tensor_max_598 = tf.reduce_max(tensor_squared_598)\n",
    "\n",
    "tf.print(\"Cell 598 - TensorFlow\")\n",
    "tf.print(\"Tensor shape:\", tf.shape(tensor_598))\n",
    "tf.print(\"Sum:\", tensor_sum_598)\n",
    "tf.print(\"Mean:\", tensor_mean_598)\n",
    "tf.print(\"Max:\", tensor_max_598)"
   ]
  },
  {
   "cell_type": "code",
   "execution_count": null,
   "id": "4125f618",
   "metadata": {},
   "outputs": [],
   "source": [
    "import tensorflow as tf\n",
    "\n",
    "tensor_599 = tf.constant(list(range(599)), dtype=tf.float32)\n",
    "tensor_squared_599 = tf.square(tensor_599)\n",
    "tensor_sum_599 = tf.reduce_sum(tensor_squared_599)\n",
    "tensor_mean_599 = tf.reduce_mean(tensor_squared_599)\n",
    "tensor_max_599 = tf.reduce_max(tensor_squared_599)\n",
    "\n",
    "tf.print(\"Cell 599 - TensorFlow\")\n",
    "tf.print(\"Tensor shape:\", tf.shape(tensor_599))\n",
    "tf.print(\"Sum:\", tensor_sum_599)\n",
    "tf.print(\"Mean:\", tensor_mean_599)\n",
    "tf.print(\"Max:\", tensor_max_599)"
   ]
  },
  {
   "cell_type": "code",
   "execution_count": null,
   "id": "dbddc932",
   "metadata": {},
   "outputs": [],
   "source": [
    "import tensorflow as tf\n",
    "\n",
    "tensor_600 = tf.constant(list(range(600)), dtype=tf.float32)\n",
    "tensor_squared_600 = tf.square(tensor_600)\n",
    "tensor_sum_600 = tf.reduce_sum(tensor_squared_600)\n",
    "tensor_mean_600 = tf.reduce_mean(tensor_squared_600)\n",
    "tensor_max_600 = tf.reduce_max(tensor_squared_600)\n",
    "\n",
    "tf.print(\"Cell 600 - TensorFlow\")\n",
    "tf.print(\"Tensor shape:\", tf.shape(tensor_600))\n",
    "tf.print(\"Sum:\", tensor_sum_600)\n",
    "tf.print(\"Mean:\", tensor_mean_600)\n",
    "tf.print(\"Max:\", tensor_max_600)"
   ]
  },
  {
   "cell_type": "code",
   "execution_count": null,
   "id": "a5b9d763",
   "metadata": {},
   "outputs": [],
   "source": [
    "import tensorflow as tf\n",
    "\n",
    "tensor_601 = tf.constant(list(range(601)), dtype=tf.float32)\n",
    "tensor_squared_601 = tf.square(tensor_601)\n",
    "tensor_sum_601 = tf.reduce_sum(tensor_squared_601)\n",
    "tensor_mean_601 = tf.reduce_mean(tensor_squared_601)\n",
    "tensor_max_601 = tf.reduce_max(tensor_squared_601)\n",
    "\n",
    "tf.print(\"Cell 601 - TensorFlow\")\n",
    "tf.print(\"Tensor shape:\", tf.shape(tensor_601))\n",
    "tf.print(\"Sum:\", tensor_sum_601)\n",
    "tf.print(\"Mean:\", tensor_mean_601)\n",
    "tf.print(\"Max:\", tensor_max_601)"
   ]
  },
  {
   "cell_type": "code",
   "execution_count": null,
   "id": "12f8cd7a",
   "metadata": {},
   "outputs": [],
   "source": [
    "import tensorflow as tf\n",
    "\n",
    "tensor_602 = tf.constant(list(range(602)), dtype=tf.float32)\n",
    "tensor_squared_602 = tf.square(tensor_602)\n",
    "tensor_sum_602 = tf.reduce_sum(tensor_squared_602)\n",
    "tensor_mean_602 = tf.reduce_mean(tensor_squared_602)\n",
    "tensor_max_602 = tf.reduce_max(tensor_squared_602)\n",
    "\n",
    "tf.print(\"Cell 602 - TensorFlow\")\n",
    "tf.print(\"Tensor shape:\", tf.shape(tensor_602))\n",
    "tf.print(\"Sum:\", tensor_sum_602)\n",
    "tf.print(\"Mean:\", tensor_mean_602)\n",
    "tf.print(\"Max:\", tensor_max_602)"
   ]
  },
  {
   "cell_type": "code",
   "execution_count": null,
   "id": "bee3878c",
   "metadata": {},
   "outputs": [],
   "source": [
    "import tensorflow as tf\n",
    "\n",
    "tensor_603 = tf.constant(list(range(603)), dtype=tf.float32)\n",
    "tensor_squared_603 = tf.square(tensor_603)\n",
    "tensor_sum_603 = tf.reduce_sum(tensor_squared_603)\n",
    "tensor_mean_603 = tf.reduce_mean(tensor_squared_603)\n",
    "tensor_max_603 = tf.reduce_max(tensor_squared_603)\n",
    "\n",
    "tf.print(\"Cell 603 - TensorFlow\")\n",
    "tf.print(\"Tensor shape:\", tf.shape(tensor_603))\n",
    "tf.print(\"Sum:\", tensor_sum_603)\n",
    "tf.print(\"Mean:\", tensor_mean_603)\n",
    "tf.print(\"Max:\", tensor_max_603)"
   ]
  },
  {
   "cell_type": "code",
   "execution_count": null,
   "id": "e203ba92",
   "metadata": {},
   "outputs": [],
   "source": [
    "import tensorflow as tf\n",
    "\n",
    "tensor_604 = tf.constant(list(range(604)), dtype=tf.float32)\n",
    "tensor_squared_604 = tf.square(tensor_604)\n",
    "tensor_sum_604 = tf.reduce_sum(tensor_squared_604)\n",
    "tensor_mean_604 = tf.reduce_mean(tensor_squared_604)\n",
    "tensor_max_604 = tf.reduce_max(tensor_squared_604)\n",
    "\n",
    "tf.print(\"Cell 604 - TensorFlow\")\n",
    "tf.print(\"Tensor shape:\", tf.shape(tensor_604))\n",
    "tf.print(\"Sum:\", tensor_sum_604)\n",
    "tf.print(\"Mean:\", tensor_mean_604)\n",
    "tf.print(\"Max:\", tensor_max_604)"
   ]
  },
  {
   "cell_type": "code",
   "execution_count": null,
   "id": "c55d8fb7",
   "metadata": {},
   "outputs": [],
   "source": [
    "import tensorflow as tf\n",
    "\n",
    "tensor_605 = tf.constant(list(range(605)), dtype=tf.float32)\n",
    "tensor_squared_605 = tf.square(tensor_605)\n",
    "tensor_sum_605 = tf.reduce_sum(tensor_squared_605)\n",
    "tensor_mean_605 = tf.reduce_mean(tensor_squared_605)\n",
    "tensor_max_605 = tf.reduce_max(tensor_squared_605)\n",
    "\n",
    "tf.print(\"Cell 605 - TensorFlow\")\n",
    "tf.print(\"Tensor shape:\", tf.shape(tensor_605))\n",
    "tf.print(\"Sum:\", tensor_sum_605)\n",
    "tf.print(\"Mean:\", tensor_mean_605)\n",
    "tf.print(\"Max:\", tensor_max_605)"
   ]
  },
  {
   "cell_type": "code",
   "execution_count": null,
   "id": "4ca6f92d",
   "metadata": {},
   "outputs": [],
   "source": [
    "import tensorflow as tf\n",
    "\n",
    "tensor_606 = tf.constant(list(range(606)), dtype=tf.float32)\n",
    "tensor_squared_606 = tf.square(tensor_606)\n",
    "tensor_sum_606 = tf.reduce_sum(tensor_squared_606)\n",
    "tensor_mean_606 = tf.reduce_mean(tensor_squared_606)\n",
    "tensor_max_606 = tf.reduce_max(tensor_squared_606)\n",
    "\n",
    "tf.print(\"Cell 606 - TensorFlow\")\n",
    "tf.print(\"Tensor shape:\", tf.shape(tensor_606))\n",
    "tf.print(\"Sum:\", tensor_sum_606)\n",
    "tf.print(\"Mean:\", tensor_mean_606)\n",
    "tf.print(\"Max:\", tensor_max_606)"
   ]
  },
  {
   "cell_type": "code",
   "execution_count": null,
   "id": "b6b44b9c",
   "metadata": {},
   "outputs": [],
   "source": [
    "import tensorflow as tf\n",
    "\n",
    "tensor_607 = tf.constant(list(range(607)), dtype=tf.float32)\n",
    "tensor_squared_607 = tf.square(tensor_607)\n",
    "tensor_sum_607 = tf.reduce_sum(tensor_squared_607)\n",
    "tensor_mean_607 = tf.reduce_mean(tensor_squared_607)\n",
    "tensor_max_607 = tf.reduce_max(tensor_squared_607)\n",
    "\n",
    "tf.print(\"Cell 607 - TensorFlow\")\n",
    "tf.print(\"Tensor shape:\", tf.shape(tensor_607))\n",
    "tf.print(\"Sum:\", tensor_sum_607)\n",
    "tf.print(\"Mean:\", tensor_mean_607)\n",
    "tf.print(\"Max:\", tensor_max_607)"
   ]
  },
  {
   "cell_type": "code",
   "execution_count": null,
   "id": "132b90cd",
   "metadata": {},
   "outputs": [],
   "source": [
    "import tensorflow as tf\n",
    "\n",
    "tensor_608 = tf.constant(list(range(608)), dtype=tf.float32)\n",
    "tensor_squared_608 = tf.square(tensor_608)\n",
    "tensor_sum_608 = tf.reduce_sum(tensor_squared_608)\n",
    "tensor_mean_608 = tf.reduce_mean(tensor_squared_608)\n",
    "tensor_max_608 = tf.reduce_max(tensor_squared_608)\n",
    "\n",
    "tf.print(\"Cell 608 - TensorFlow\")\n",
    "tf.print(\"Tensor shape:\", tf.shape(tensor_608))\n",
    "tf.print(\"Sum:\", tensor_sum_608)\n",
    "tf.print(\"Mean:\", tensor_mean_608)\n",
    "tf.print(\"Max:\", tensor_max_608)"
   ]
  },
  {
   "cell_type": "code",
   "execution_count": null,
   "id": "b1bdaafa",
   "metadata": {},
   "outputs": [],
   "source": [
    "import tensorflow as tf\n",
    "\n",
    "tensor_609 = tf.constant(list(range(609)), dtype=tf.float32)\n",
    "tensor_squared_609 = tf.square(tensor_609)\n",
    "tensor_sum_609 = tf.reduce_sum(tensor_squared_609)\n",
    "tensor_mean_609 = tf.reduce_mean(tensor_squared_609)\n",
    "tensor_max_609 = tf.reduce_max(tensor_squared_609)\n",
    "\n",
    "tf.print(\"Cell 609 - TensorFlow\")\n",
    "tf.print(\"Tensor shape:\", tf.shape(tensor_609))\n",
    "tf.print(\"Sum:\", tensor_sum_609)\n",
    "tf.print(\"Mean:\", tensor_mean_609)\n",
    "tf.print(\"Max:\", tensor_max_609)"
   ]
  },
  {
   "cell_type": "code",
   "execution_count": null,
   "id": "3bf82b6f",
   "metadata": {},
   "outputs": [],
   "source": [
    "import tensorflow as tf\n",
    "\n",
    "tensor_610 = tf.constant(list(range(610)), dtype=tf.float32)\n",
    "tensor_squared_610 = tf.square(tensor_610)\n",
    "tensor_sum_610 = tf.reduce_sum(tensor_squared_610)\n",
    "tensor_mean_610 = tf.reduce_mean(tensor_squared_610)\n",
    "tensor_max_610 = tf.reduce_max(tensor_squared_610)\n",
    "\n",
    "tf.print(\"Cell 610 - TensorFlow\")\n",
    "tf.print(\"Tensor shape:\", tf.shape(tensor_610))\n",
    "tf.print(\"Sum:\", tensor_sum_610)\n",
    "tf.print(\"Mean:\", tensor_mean_610)\n",
    "tf.print(\"Max:\", tensor_max_610)"
   ]
  },
  {
   "cell_type": "code",
   "execution_count": null,
   "id": "ed2ae7ca",
   "metadata": {},
   "outputs": [],
   "source": [
    "import tensorflow as tf\n",
    "\n",
    "tensor_611 = tf.constant(list(range(611)), dtype=tf.float32)\n",
    "tensor_squared_611 = tf.square(tensor_611)\n",
    "tensor_sum_611 = tf.reduce_sum(tensor_squared_611)\n",
    "tensor_mean_611 = tf.reduce_mean(tensor_squared_611)\n",
    "tensor_max_611 = tf.reduce_max(tensor_squared_611)\n",
    "\n",
    "tf.print(\"Cell 611 - TensorFlow\")\n",
    "tf.print(\"Tensor shape:\", tf.shape(tensor_611))\n",
    "tf.print(\"Sum:\", tensor_sum_611)\n",
    "tf.print(\"Mean:\", tensor_mean_611)\n",
    "tf.print(\"Max:\", tensor_max_611)"
   ]
  },
  {
   "cell_type": "code",
   "execution_count": null,
   "id": "6c8807ad",
   "metadata": {},
   "outputs": [],
   "source": [
    "import tensorflow as tf\n",
    "\n",
    "tensor_612 = tf.constant(list(range(612)), dtype=tf.float32)\n",
    "tensor_squared_612 = tf.square(tensor_612)\n",
    "tensor_sum_612 = tf.reduce_sum(tensor_squared_612)\n",
    "tensor_mean_612 = tf.reduce_mean(tensor_squared_612)\n",
    "tensor_max_612 = tf.reduce_max(tensor_squared_612)\n",
    "\n",
    "tf.print(\"Cell 612 - TensorFlow\")\n",
    "tf.print(\"Tensor shape:\", tf.shape(tensor_612))\n",
    "tf.print(\"Sum:\", tensor_sum_612)\n",
    "tf.print(\"Mean:\", tensor_mean_612)\n",
    "tf.print(\"Max:\", tensor_max_612)"
   ]
  },
  {
   "cell_type": "code",
   "execution_count": null,
   "id": "7f789a0f",
   "metadata": {},
   "outputs": [],
   "source": [
    "import tensorflow as tf\n",
    "\n",
    "tensor_613 = tf.constant(list(range(613)), dtype=tf.float32)\n",
    "tensor_squared_613 = tf.square(tensor_613)\n",
    "tensor_sum_613 = tf.reduce_sum(tensor_squared_613)\n",
    "tensor_mean_613 = tf.reduce_mean(tensor_squared_613)\n",
    "tensor_max_613 = tf.reduce_max(tensor_squared_613)\n",
    "\n",
    "tf.print(\"Cell 613 - TensorFlow\")\n",
    "tf.print(\"Tensor shape:\", tf.shape(tensor_613))\n",
    "tf.print(\"Sum:\", tensor_sum_613)\n",
    "tf.print(\"Mean:\", tensor_mean_613)\n",
    "tf.print(\"Max:\", tensor_max_613)"
   ]
  },
  {
   "cell_type": "code",
   "execution_count": null,
   "id": "e57b1b17",
   "metadata": {},
   "outputs": [],
   "source": [
    "import tensorflow as tf\n",
    "\n",
    "tensor_614 = tf.constant(list(range(614)), dtype=tf.float32)\n",
    "tensor_squared_614 = tf.square(tensor_614)\n",
    "tensor_sum_614 = tf.reduce_sum(tensor_squared_614)\n",
    "tensor_mean_614 = tf.reduce_mean(tensor_squared_614)\n",
    "tensor_max_614 = tf.reduce_max(tensor_squared_614)\n",
    "\n",
    "tf.print(\"Cell 614 - TensorFlow\")\n",
    "tf.print(\"Tensor shape:\", tf.shape(tensor_614))\n",
    "tf.print(\"Sum:\", tensor_sum_614)\n",
    "tf.print(\"Mean:\", tensor_mean_614)\n",
    "tf.print(\"Max:\", tensor_max_614)"
   ]
  },
  {
   "cell_type": "code",
   "execution_count": null,
   "id": "d2d3e176",
   "metadata": {},
   "outputs": [],
   "source": [
    "import tensorflow as tf\n",
    "\n",
    "tensor_615 = tf.constant(list(range(615)), dtype=tf.float32)\n",
    "tensor_squared_615 = tf.square(tensor_615)\n",
    "tensor_sum_615 = tf.reduce_sum(tensor_squared_615)\n",
    "tensor_mean_615 = tf.reduce_mean(tensor_squared_615)\n",
    "tensor_max_615 = tf.reduce_max(tensor_squared_615)\n",
    "\n",
    "tf.print(\"Cell 615 - TensorFlow\")\n",
    "tf.print(\"Tensor shape:\", tf.shape(tensor_615))\n",
    "tf.print(\"Sum:\", tensor_sum_615)\n",
    "tf.print(\"Mean:\", tensor_mean_615)\n",
    "tf.print(\"Max:\", tensor_max_615)"
   ]
  },
  {
   "cell_type": "code",
   "execution_count": null,
   "id": "d6348ac9",
   "metadata": {},
   "outputs": [],
   "source": [
    "import tensorflow as tf\n",
    "\n",
    "tensor_616 = tf.constant(list(range(616)), dtype=tf.float32)\n",
    "tensor_squared_616 = tf.square(tensor_616)\n",
    "tensor_sum_616 = tf.reduce_sum(tensor_squared_616)\n",
    "tensor_mean_616 = tf.reduce_mean(tensor_squared_616)\n",
    "tensor_max_616 = tf.reduce_max(tensor_squared_616)\n",
    "\n",
    "tf.print(\"Cell 616 - TensorFlow\")\n",
    "tf.print(\"Tensor shape:\", tf.shape(tensor_616))\n",
    "tf.print(\"Sum:\", tensor_sum_616)\n",
    "tf.print(\"Mean:\", tensor_mean_616)\n",
    "tf.print(\"Max:\", tensor_max_616)"
   ]
  },
  {
   "cell_type": "code",
   "execution_count": null,
   "id": "5296135c",
   "metadata": {},
   "outputs": [],
   "source": [
    "import tensorflow as tf\n",
    "\n",
    "tensor_617 = tf.constant(list(range(617)), dtype=tf.float32)\n",
    "tensor_squared_617 = tf.square(tensor_617)\n",
    "tensor_sum_617 = tf.reduce_sum(tensor_squared_617)\n",
    "tensor_mean_617 = tf.reduce_mean(tensor_squared_617)\n",
    "tensor_max_617 = tf.reduce_max(tensor_squared_617)\n",
    "\n",
    "tf.print(\"Cell 617 - TensorFlow\")\n",
    "tf.print(\"Tensor shape:\", tf.shape(tensor_617))\n",
    "tf.print(\"Sum:\", tensor_sum_617)\n",
    "tf.print(\"Mean:\", tensor_mean_617)\n",
    "tf.print(\"Max:\", tensor_max_617)"
   ]
  },
  {
   "cell_type": "code",
   "execution_count": null,
   "id": "715ae55f",
   "metadata": {},
   "outputs": [],
   "source": [
    "import tensorflow as tf\n",
    "\n",
    "tensor_618 = tf.constant(list(range(618)), dtype=tf.float32)\n",
    "tensor_squared_618 = tf.square(tensor_618)\n",
    "tensor_sum_618 = tf.reduce_sum(tensor_squared_618)\n",
    "tensor_mean_618 = tf.reduce_mean(tensor_squared_618)\n",
    "tensor_max_618 = tf.reduce_max(tensor_squared_618)\n",
    "\n",
    "tf.print(\"Cell 618 - TensorFlow\")\n",
    "tf.print(\"Tensor shape:\", tf.shape(tensor_618))\n",
    "tf.print(\"Sum:\", tensor_sum_618)\n",
    "tf.print(\"Mean:\", tensor_mean_618)\n",
    "tf.print(\"Max:\", tensor_max_618)"
   ]
  },
  {
   "cell_type": "code",
   "execution_count": null,
   "id": "5a07cd61",
   "metadata": {},
   "outputs": [],
   "source": [
    "import tensorflow as tf\n",
    "\n",
    "tensor_619 = tf.constant(list(range(619)), dtype=tf.float32)\n",
    "tensor_squared_619 = tf.square(tensor_619)\n",
    "tensor_sum_619 = tf.reduce_sum(tensor_squared_619)\n",
    "tensor_mean_619 = tf.reduce_mean(tensor_squared_619)\n",
    "tensor_max_619 = tf.reduce_max(tensor_squared_619)\n",
    "\n",
    "tf.print(\"Cell 619 - TensorFlow\")\n",
    "tf.print(\"Tensor shape:\", tf.shape(tensor_619))\n",
    "tf.print(\"Sum:\", tensor_sum_619)\n",
    "tf.print(\"Mean:\", tensor_mean_619)\n",
    "tf.print(\"Max:\", tensor_max_619)"
   ]
  },
  {
   "cell_type": "code",
   "execution_count": null,
   "id": "5a43c786",
   "metadata": {},
   "outputs": [],
   "source": [
    "import tensorflow as tf\n",
    "\n",
    "tensor_620 = tf.constant(list(range(620)), dtype=tf.float32)\n",
    "tensor_squared_620 = tf.square(tensor_620)\n",
    "tensor_sum_620 = tf.reduce_sum(tensor_squared_620)\n",
    "tensor_mean_620 = tf.reduce_mean(tensor_squared_620)\n",
    "tensor_max_620 = tf.reduce_max(tensor_squared_620)\n",
    "\n",
    "tf.print(\"Cell 620 - TensorFlow\")\n",
    "tf.print(\"Tensor shape:\", tf.shape(tensor_620))\n",
    "tf.print(\"Sum:\", tensor_sum_620)\n",
    "tf.print(\"Mean:\", tensor_mean_620)\n",
    "tf.print(\"Max:\", tensor_max_620)"
   ]
  },
  {
   "cell_type": "code",
   "execution_count": null,
   "id": "f7e6064a",
   "metadata": {},
   "outputs": [],
   "source": [
    "import tensorflow as tf\n",
    "\n",
    "tensor_621 = tf.constant(list(range(621)), dtype=tf.float32)\n",
    "tensor_squared_621 = tf.square(tensor_621)\n",
    "tensor_sum_621 = tf.reduce_sum(tensor_squared_621)\n",
    "tensor_mean_621 = tf.reduce_mean(tensor_squared_621)\n",
    "tensor_max_621 = tf.reduce_max(tensor_squared_621)\n",
    "\n",
    "tf.print(\"Cell 621 - TensorFlow\")\n",
    "tf.print(\"Tensor shape:\", tf.shape(tensor_621))\n",
    "tf.print(\"Sum:\", tensor_sum_621)\n",
    "tf.print(\"Mean:\", tensor_mean_621)\n",
    "tf.print(\"Max:\", tensor_max_621)"
   ]
  },
  {
   "cell_type": "code",
   "execution_count": null,
   "id": "6f957b30",
   "metadata": {},
   "outputs": [],
   "source": [
    "import tensorflow as tf\n",
    "\n",
    "tensor_622 = tf.constant(list(range(622)), dtype=tf.float32)\n",
    "tensor_squared_622 = tf.square(tensor_622)\n",
    "tensor_sum_622 = tf.reduce_sum(tensor_squared_622)\n",
    "tensor_mean_622 = tf.reduce_mean(tensor_squared_622)\n",
    "tensor_max_622 = tf.reduce_max(tensor_squared_622)\n",
    "\n",
    "tf.print(\"Cell 622 - TensorFlow\")\n",
    "tf.print(\"Tensor shape:\", tf.shape(tensor_622))\n",
    "tf.print(\"Sum:\", tensor_sum_622)\n",
    "tf.print(\"Mean:\", tensor_mean_622)\n",
    "tf.print(\"Max:\", tensor_max_622)"
   ]
  },
  {
   "cell_type": "code",
   "execution_count": null,
   "id": "a4d5fdbf",
   "metadata": {},
   "outputs": [],
   "source": [
    "import tensorflow as tf\n",
    "\n",
    "tensor_623 = tf.constant(list(range(623)), dtype=tf.float32)\n",
    "tensor_squared_623 = tf.square(tensor_623)\n",
    "tensor_sum_623 = tf.reduce_sum(tensor_squared_623)\n",
    "tensor_mean_623 = tf.reduce_mean(tensor_squared_623)\n",
    "tensor_max_623 = tf.reduce_max(tensor_squared_623)\n",
    "\n",
    "tf.print(\"Cell 623 - TensorFlow\")\n",
    "tf.print(\"Tensor shape:\", tf.shape(tensor_623))\n",
    "tf.print(\"Sum:\", tensor_sum_623)\n",
    "tf.print(\"Mean:\", tensor_mean_623)\n",
    "tf.print(\"Max:\", tensor_max_623)"
   ]
  },
  {
   "cell_type": "code",
   "execution_count": null,
   "id": "30bd121f",
   "metadata": {},
   "outputs": [],
   "source": [
    "import tensorflow as tf\n",
    "\n",
    "tensor_624 = tf.constant(list(range(624)), dtype=tf.float32)\n",
    "tensor_squared_624 = tf.square(tensor_624)\n",
    "tensor_sum_624 = tf.reduce_sum(tensor_squared_624)\n",
    "tensor_mean_624 = tf.reduce_mean(tensor_squared_624)\n",
    "tensor_max_624 = tf.reduce_max(tensor_squared_624)\n",
    "\n",
    "tf.print(\"Cell 624 - TensorFlow\")\n",
    "tf.print(\"Tensor shape:\", tf.shape(tensor_624))\n",
    "tf.print(\"Sum:\", tensor_sum_624)\n",
    "tf.print(\"Mean:\", tensor_mean_624)\n",
    "tf.print(\"Max:\", tensor_max_624)"
   ]
  },
  {
   "cell_type": "code",
   "execution_count": null,
   "id": "b9a0e4dd",
   "metadata": {},
   "outputs": [],
   "source": [
    "import tensorflow as tf\n",
    "\n",
    "tensor_625 = tf.constant(list(range(625)), dtype=tf.float32)\n",
    "tensor_squared_625 = tf.square(tensor_625)\n",
    "tensor_sum_625 = tf.reduce_sum(tensor_squared_625)\n",
    "tensor_mean_625 = tf.reduce_mean(tensor_squared_625)\n",
    "tensor_max_625 = tf.reduce_max(tensor_squared_625)\n",
    "\n",
    "tf.print(\"Cell 625 - TensorFlow\")\n",
    "tf.print(\"Tensor shape:\", tf.shape(tensor_625))\n",
    "tf.print(\"Sum:\", tensor_sum_625)\n",
    "tf.print(\"Mean:\", tensor_mean_625)\n",
    "tf.print(\"Max:\", tensor_max_625)"
   ]
  },
  {
   "cell_type": "code",
   "execution_count": null,
   "id": "0673e953",
   "metadata": {},
   "outputs": [],
   "source": [
    "import tensorflow as tf\n",
    "\n",
    "tensor_626 = tf.constant(list(range(626)), dtype=tf.float32)\n",
    "tensor_squared_626 = tf.square(tensor_626)\n",
    "tensor_sum_626 = tf.reduce_sum(tensor_squared_626)\n",
    "tensor_mean_626 = tf.reduce_mean(tensor_squared_626)\n",
    "tensor_max_626 = tf.reduce_max(tensor_squared_626)\n",
    "\n",
    "tf.print(\"Cell 626 - TensorFlow\")\n",
    "tf.print(\"Tensor shape:\", tf.shape(tensor_626))\n",
    "tf.print(\"Sum:\", tensor_sum_626)\n",
    "tf.print(\"Mean:\", tensor_mean_626)\n",
    "tf.print(\"Max:\", tensor_max_626)"
   ]
  },
  {
   "cell_type": "code",
   "execution_count": null,
   "id": "de093125",
   "metadata": {},
   "outputs": [],
   "source": [
    "import tensorflow as tf\n",
    "\n",
    "tensor_627 = tf.constant(list(range(627)), dtype=tf.float32)\n",
    "tensor_squared_627 = tf.square(tensor_627)\n",
    "tensor_sum_627 = tf.reduce_sum(tensor_squared_627)\n",
    "tensor_mean_627 = tf.reduce_mean(tensor_squared_627)\n",
    "tensor_max_627 = tf.reduce_max(tensor_squared_627)\n",
    "\n",
    "tf.print(\"Cell 627 - TensorFlow\")\n",
    "tf.print(\"Tensor shape:\", tf.shape(tensor_627))\n",
    "tf.print(\"Sum:\", tensor_sum_627)\n",
    "tf.print(\"Mean:\", tensor_mean_627)\n",
    "tf.print(\"Max:\", tensor_max_627)"
   ]
  },
  {
   "cell_type": "code",
   "execution_count": null,
   "id": "178ac991",
   "metadata": {},
   "outputs": [],
   "source": [
    "import tensorflow as tf\n",
    "\n",
    "tensor_628 = tf.constant(list(range(628)), dtype=tf.float32)\n",
    "tensor_squared_628 = tf.square(tensor_628)\n",
    "tensor_sum_628 = tf.reduce_sum(tensor_squared_628)\n",
    "tensor_mean_628 = tf.reduce_mean(tensor_squared_628)\n",
    "tensor_max_628 = tf.reduce_max(tensor_squared_628)\n",
    "\n",
    "tf.print(\"Cell 628 - TensorFlow\")\n",
    "tf.print(\"Tensor shape:\", tf.shape(tensor_628))\n",
    "tf.print(\"Sum:\", tensor_sum_628)\n",
    "tf.print(\"Mean:\", tensor_mean_628)\n",
    "tf.print(\"Max:\", tensor_max_628)"
   ]
  },
  {
   "cell_type": "code",
   "execution_count": null,
   "id": "2042aa90",
   "metadata": {},
   "outputs": [],
   "source": [
    "import tensorflow as tf\n",
    "\n",
    "tensor_629 = tf.constant(list(range(629)), dtype=tf.float32)\n",
    "tensor_squared_629 = tf.square(tensor_629)\n",
    "tensor_sum_629 = tf.reduce_sum(tensor_squared_629)\n",
    "tensor_mean_629 = tf.reduce_mean(tensor_squared_629)\n",
    "tensor_max_629 = tf.reduce_max(tensor_squared_629)\n",
    "\n",
    "tf.print(\"Cell 629 - TensorFlow\")\n",
    "tf.print(\"Tensor shape:\", tf.shape(tensor_629))\n",
    "tf.print(\"Sum:\", tensor_sum_629)\n",
    "tf.print(\"Mean:\", tensor_mean_629)\n",
    "tf.print(\"Max:\", tensor_max_629)"
   ]
  },
  {
   "cell_type": "code",
   "execution_count": null,
   "id": "d8eeedc0",
   "metadata": {},
   "outputs": [],
   "source": [
    "import tensorflow as tf\n",
    "\n",
    "tensor_630 = tf.constant(list(range(630)), dtype=tf.float32)\n",
    "tensor_squared_630 = tf.square(tensor_630)\n",
    "tensor_sum_630 = tf.reduce_sum(tensor_squared_630)\n",
    "tensor_mean_630 = tf.reduce_mean(tensor_squared_630)\n",
    "tensor_max_630 = tf.reduce_max(tensor_squared_630)\n",
    "\n",
    "tf.print(\"Cell 630 - TensorFlow\")\n",
    "tf.print(\"Tensor shape:\", tf.shape(tensor_630))\n",
    "tf.print(\"Sum:\", tensor_sum_630)\n",
    "tf.print(\"Mean:\", tensor_mean_630)\n",
    "tf.print(\"Max:\", tensor_max_630)"
   ]
  },
  {
   "cell_type": "code",
   "execution_count": null,
   "id": "eb95db1e",
   "metadata": {},
   "outputs": [],
   "source": [
    "import tensorflow as tf\n",
    "\n",
    "tensor_631 = tf.constant(list(range(631)), dtype=tf.float32)\n",
    "tensor_squared_631 = tf.square(tensor_631)\n",
    "tensor_sum_631 = tf.reduce_sum(tensor_squared_631)\n",
    "tensor_mean_631 = tf.reduce_mean(tensor_squared_631)\n",
    "tensor_max_631 = tf.reduce_max(tensor_squared_631)\n",
    "\n",
    "tf.print(\"Cell 631 - TensorFlow\")\n",
    "tf.print(\"Tensor shape:\", tf.shape(tensor_631))\n",
    "tf.print(\"Sum:\", tensor_sum_631)\n",
    "tf.print(\"Mean:\", tensor_mean_631)\n",
    "tf.print(\"Max:\", tensor_max_631)"
   ]
  },
  {
   "cell_type": "code",
   "execution_count": null,
   "id": "c08aca8e",
   "metadata": {},
   "outputs": [],
   "source": [
    "import tensorflow as tf\n",
    "\n",
    "tensor_632 = tf.constant(list(range(632)), dtype=tf.float32)\n",
    "tensor_squared_632 = tf.square(tensor_632)\n",
    "tensor_sum_632 = tf.reduce_sum(tensor_squared_632)\n",
    "tensor_mean_632 = tf.reduce_mean(tensor_squared_632)\n",
    "tensor_max_632 = tf.reduce_max(tensor_squared_632)\n",
    "\n",
    "tf.print(\"Cell 632 - TensorFlow\")\n",
    "tf.print(\"Tensor shape:\", tf.shape(tensor_632))\n",
    "tf.print(\"Sum:\", tensor_sum_632)\n",
    "tf.print(\"Mean:\", tensor_mean_632)\n",
    "tf.print(\"Max:\", tensor_max_632)"
   ]
  },
  {
   "cell_type": "code",
   "execution_count": null,
   "id": "6f645170",
   "metadata": {},
   "outputs": [],
   "source": [
    "import tensorflow as tf\n",
    "\n",
    "tensor_633 = tf.constant(list(range(633)), dtype=tf.float32)\n",
    "tensor_squared_633 = tf.square(tensor_633)\n",
    "tensor_sum_633 = tf.reduce_sum(tensor_squared_633)\n",
    "tensor_mean_633 = tf.reduce_mean(tensor_squared_633)\n",
    "tensor_max_633 = tf.reduce_max(tensor_squared_633)\n",
    "\n",
    "tf.print(\"Cell 633 - TensorFlow\")\n",
    "tf.print(\"Tensor shape:\", tf.shape(tensor_633))\n",
    "tf.print(\"Sum:\", tensor_sum_633)\n",
    "tf.print(\"Mean:\", tensor_mean_633)\n",
    "tf.print(\"Max:\", tensor_max_633)"
   ]
  },
  {
   "cell_type": "code",
   "execution_count": null,
   "id": "27ae844b",
   "metadata": {},
   "outputs": [],
   "source": [
    "import tensorflow as tf\n",
    "\n",
    "tensor_634 = tf.constant(list(range(634)), dtype=tf.float32)\n",
    "tensor_squared_634 = tf.square(tensor_634)\n",
    "tensor_sum_634 = tf.reduce_sum(tensor_squared_634)\n",
    "tensor_mean_634 = tf.reduce_mean(tensor_squared_634)\n",
    "tensor_max_634 = tf.reduce_max(tensor_squared_634)\n",
    "\n",
    "tf.print(\"Cell 634 - TensorFlow\")\n",
    "tf.print(\"Tensor shape:\", tf.shape(tensor_634))\n",
    "tf.print(\"Sum:\", tensor_sum_634)\n",
    "tf.print(\"Mean:\", tensor_mean_634)\n",
    "tf.print(\"Max:\", tensor_max_634)"
   ]
  },
  {
   "cell_type": "code",
   "execution_count": null,
   "id": "12482c42",
   "metadata": {},
   "outputs": [],
   "source": [
    "import tensorflow as tf\n",
    "\n",
    "tensor_635 = tf.constant(list(range(635)), dtype=tf.float32)\n",
    "tensor_squared_635 = tf.square(tensor_635)\n",
    "tensor_sum_635 = tf.reduce_sum(tensor_squared_635)\n",
    "tensor_mean_635 = tf.reduce_mean(tensor_squared_635)\n",
    "tensor_max_635 = tf.reduce_max(tensor_squared_635)\n",
    "\n",
    "tf.print(\"Cell 635 - TensorFlow\")\n",
    "tf.print(\"Tensor shape:\", tf.shape(tensor_635))\n",
    "tf.print(\"Sum:\", tensor_sum_635)\n",
    "tf.print(\"Mean:\", tensor_mean_635)\n",
    "tf.print(\"Max:\", tensor_max_635)"
   ]
  },
  {
   "cell_type": "code",
   "execution_count": null,
   "id": "aa3472d1",
   "metadata": {},
   "outputs": [],
   "source": [
    "import tensorflow as tf\n",
    "\n",
    "tensor_636 = tf.constant(list(range(636)), dtype=tf.float32)\n",
    "tensor_squared_636 = tf.square(tensor_636)\n",
    "tensor_sum_636 = tf.reduce_sum(tensor_squared_636)\n",
    "tensor_mean_636 = tf.reduce_mean(tensor_squared_636)\n",
    "tensor_max_636 = tf.reduce_max(tensor_squared_636)\n",
    "\n",
    "tf.print(\"Cell 636 - TensorFlow\")\n",
    "tf.print(\"Tensor shape:\", tf.shape(tensor_636))\n",
    "tf.print(\"Sum:\", tensor_sum_636)\n",
    "tf.print(\"Mean:\", tensor_mean_636)\n",
    "tf.print(\"Max:\", tensor_max_636)"
   ]
  },
  {
   "cell_type": "code",
   "execution_count": null,
   "id": "03dda764",
   "metadata": {},
   "outputs": [],
   "source": [
    "import tensorflow as tf\n",
    "\n",
    "tensor_637 = tf.constant(list(range(637)), dtype=tf.float32)\n",
    "tensor_squared_637 = tf.square(tensor_637)\n",
    "tensor_sum_637 = tf.reduce_sum(tensor_squared_637)\n",
    "tensor_mean_637 = tf.reduce_mean(tensor_squared_637)\n",
    "tensor_max_637 = tf.reduce_max(tensor_squared_637)\n",
    "\n",
    "tf.print(\"Cell 637 - TensorFlow\")\n",
    "tf.print(\"Tensor shape:\", tf.shape(tensor_637))\n",
    "tf.print(\"Sum:\", tensor_sum_637)\n",
    "tf.print(\"Mean:\", tensor_mean_637)\n",
    "tf.print(\"Max:\", tensor_max_637)"
   ]
  },
  {
   "cell_type": "code",
   "execution_count": null,
   "id": "b4ee07e1",
   "metadata": {},
   "outputs": [],
   "source": [
    "import tensorflow as tf\n",
    "\n",
    "tensor_638 = tf.constant(list(range(638)), dtype=tf.float32)\n",
    "tensor_squared_638 = tf.square(tensor_638)\n",
    "tensor_sum_638 = tf.reduce_sum(tensor_squared_638)\n",
    "tensor_mean_638 = tf.reduce_mean(tensor_squared_638)\n",
    "tensor_max_638 = tf.reduce_max(tensor_squared_638)\n",
    "\n",
    "tf.print(\"Cell 638 - TensorFlow\")\n",
    "tf.print(\"Tensor shape:\", tf.shape(tensor_638))\n",
    "tf.print(\"Sum:\", tensor_sum_638)\n",
    "tf.print(\"Mean:\", tensor_mean_638)\n",
    "tf.print(\"Max:\", tensor_max_638)"
   ]
  },
  {
   "cell_type": "code",
   "execution_count": null,
   "id": "b66b5431",
   "metadata": {},
   "outputs": [],
   "source": [
    "import tensorflow as tf\n",
    "\n",
    "tensor_639 = tf.constant(list(range(639)), dtype=tf.float32)\n",
    "tensor_squared_639 = tf.square(tensor_639)\n",
    "tensor_sum_639 = tf.reduce_sum(tensor_squared_639)\n",
    "tensor_mean_639 = tf.reduce_mean(tensor_squared_639)\n",
    "tensor_max_639 = tf.reduce_max(tensor_squared_639)\n",
    "\n",
    "tf.print(\"Cell 639 - TensorFlow\")\n",
    "tf.print(\"Tensor shape:\", tf.shape(tensor_639))\n",
    "tf.print(\"Sum:\", tensor_sum_639)\n",
    "tf.print(\"Mean:\", tensor_mean_639)\n",
    "tf.print(\"Max:\", tensor_max_639)"
   ]
  },
  {
   "cell_type": "code",
   "execution_count": null,
   "id": "82044fb6",
   "metadata": {},
   "outputs": [],
   "source": [
    "import tensorflow as tf\n",
    "\n",
    "tensor_640 = tf.constant(list(range(640)), dtype=tf.float32)\n",
    "tensor_squared_640 = tf.square(tensor_640)\n",
    "tensor_sum_640 = tf.reduce_sum(tensor_squared_640)\n",
    "tensor_mean_640 = tf.reduce_mean(tensor_squared_640)\n",
    "tensor_max_640 = tf.reduce_max(tensor_squared_640)\n",
    "\n",
    "tf.print(\"Cell 640 - TensorFlow\")\n",
    "tf.print(\"Tensor shape:\", tf.shape(tensor_640))\n",
    "tf.print(\"Sum:\", tensor_sum_640)\n",
    "tf.print(\"Mean:\", tensor_mean_640)\n",
    "tf.print(\"Max:\", tensor_max_640)"
   ]
  },
  {
   "cell_type": "code",
   "execution_count": null,
   "id": "f7ecca3a",
   "metadata": {},
   "outputs": [],
   "source": [
    "import tensorflow as tf\n",
    "\n",
    "tensor_641 = tf.constant(list(range(641)), dtype=tf.float32)\n",
    "tensor_squared_641 = tf.square(tensor_641)\n",
    "tensor_sum_641 = tf.reduce_sum(tensor_squared_641)\n",
    "tensor_mean_641 = tf.reduce_mean(tensor_squared_641)\n",
    "tensor_max_641 = tf.reduce_max(tensor_squared_641)\n",
    "\n",
    "tf.print(\"Cell 641 - TensorFlow\")\n",
    "tf.print(\"Tensor shape:\", tf.shape(tensor_641))\n",
    "tf.print(\"Sum:\", tensor_sum_641)\n",
    "tf.print(\"Mean:\", tensor_mean_641)\n",
    "tf.print(\"Max:\", tensor_max_641)"
   ]
  },
  {
   "cell_type": "code",
   "execution_count": null,
   "id": "111b9827",
   "metadata": {},
   "outputs": [],
   "source": [
    "import tensorflow as tf\n",
    "\n",
    "tensor_642 = tf.constant(list(range(642)), dtype=tf.float32)\n",
    "tensor_squared_642 = tf.square(tensor_642)\n",
    "tensor_sum_642 = tf.reduce_sum(tensor_squared_642)\n",
    "tensor_mean_642 = tf.reduce_mean(tensor_squared_642)\n",
    "tensor_max_642 = tf.reduce_max(tensor_squared_642)\n",
    "\n",
    "tf.print(\"Cell 642 - TensorFlow\")\n",
    "tf.print(\"Tensor shape:\", tf.shape(tensor_642))\n",
    "tf.print(\"Sum:\", tensor_sum_642)\n",
    "tf.print(\"Mean:\", tensor_mean_642)\n",
    "tf.print(\"Max:\", tensor_max_642)"
   ]
  },
  {
   "cell_type": "code",
   "execution_count": null,
   "id": "540162ae",
   "metadata": {},
   "outputs": [],
   "source": [
    "import tensorflow as tf\n",
    "\n",
    "tensor_643 = tf.constant(list(range(643)), dtype=tf.float32)\n",
    "tensor_squared_643 = tf.square(tensor_643)\n",
    "tensor_sum_643 = tf.reduce_sum(tensor_squared_643)\n",
    "tensor_mean_643 = tf.reduce_mean(tensor_squared_643)\n",
    "tensor_max_643 = tf.reduce_max(tensor_squared_643)\n",
    "\n",
    "tf.print(\"Cell 643 - TensorFlow\")\n",
    "tf.print(\"Tensor shape:\", tf.shape(tensor_643))\n",
    "tf.print(\"Sum:\", tensor_sum_643)\n",
    "tf.print(\"Mean:\", tensor_mean_643)\n",
    "tf.print(\"Max:\", tensor_max_643)"
   ]
  },
  {
   "cell_type": "code",
   "execution_count": null,
   "id": "1b7d0018",
   "metadata": {},
   "outputs": [],
   "source": [
    "import tensorflow as tf\n",
    "\n",
    "tensor_644 = tf.constant(list(range(644)), dtype=tf.float32)\n",
    "tensor_squared_644 = tf.square(tensor_644)\n",
    "tensor_sum_644 = tf.reduce_sum(tensor_squared_644)\n",
    "tensor_mean_644 = tf.reduce_mean(tensor_squared_644)\n",
    "tensor_max_644 = tf.reduce_max(tensor_squared_644)\n",
    "\n",
    "tf.print(\"Cell 644 - TensorFlow\")\n",
    "tf.print(\"Tensor shape:\", tf.shape(tensor_644))\n",
    "tf.print(\"Sum:\", tensor_sum_644)\n",
    "tf.print(\"Mean:\", tensor_mean_644)\n",
    "tf.print(\"Max:\", tensor_max_644)"
   ]
  },
  {
   "cell_type": "code",
   "execution_count": null,
   "id": "a32e6953",
   "metadata": {},
   "outputs": [],
   "source": [
    "import tensorflow as tf\n",
    "\n",
    "tensor_645 = tf.constant(list(range(645)), dtype=tf.float32)\n",
    "tensor_squared_645 = tf.square(tensor_645)\n",
    "tensor_sum_645 = tf.reduce_sum(tensor_squared_645)\n",
    "tensor_mean_645 = tf.reduce_mean(tensor_squared_645)\n",
    "tensor_max_645 = tf.reduce_max(tensor_squared_645)\n",
    "\n",
    "tf.print(\"Cell 645 - TensorFlow\")\n",
    "tf.print(\"Tensor shape:\", tf.shape(tensor_645))\n",
    "tf.print(\"Sum:\", tensor_sum_645)\n",
    "tf.print(\"Mean:\", tensor_mean_645)\n",
    "tf.print(\"Max:\", tensor_max_645)"
   ]
  },
  {
   "cell_type": "code",
   "execution_count": null,
   "id": "ffb9b1f0",
   "metadata": {},
   "outputs": [],
   "source": [
    "import tensorflow as tf\n",
    "\n",
    "tensor_646 = tf.constant(list(range(646)), dtype=tf.float32)\n",
    "tensor_squared_646 = tf.square(tensor_646)\n",
    "tensor_sum_646 = tf.reduce_sum(tensor_squared_646)\n",
    "tensor_mean_646 = tf.reduce_mean(tensor_squared_646)\n",
    "tensor_max_646 = tf.reduce_max(tensor_squared_646)\n",
    "\n",
    "tf.print(\"Cell 646 - TensorFlow\")\n",
    "tf.print(\"Tensor shape:\", tf.shape(tensor_646))\n",
    "tf.print(\"Sum:\", tensor_sum_646)\n",
    "tf.print(\"Mean:\", tensor_mean_646)\n",
    "tf.print(\"Max:\", tensor_max_646)"
   ]
  },
  {
   "cell_type": "code",
   "execution_count": null,
   "id": "36ca04b3",
   "metadata": {},
   "outputs": [],
   "source": [
    "import tensorflow as tf\n",
    "\n",
    "tensor_647 = tf.constant(list(range(647)), dtype=tf.float32)\n",
    "tensor_squared_647 = tf.square(tensor_647)\n",
    "tensor_sum_647 = tf.reduce_sum(tensor_squared_647)\n",
    "tensor_mean_647 = tf.reduce_mean(tensor_squared_647)\n",
    "tensor_max_647 = tf.reduce_max(tensor_squared_647)\n",
    "\n",
    "tf.print(\"Cell 647 - TensorFlow\")\n",
    "tf.print(\"Tensor shape:\", tf.shape(tensor_647))\n",
    "tf.print(\"Sum:\", tensor_sum_647)\n",
    "tf.print(\"Mean:\", tensor_mean_647)\n",
    "tf.print(\"Max:\", tensor_max_647)"
   ]
  },
  {
   "cell_type": "code",
   "execution_count": null,
   "id": "ba7515a2",
   "metadata": {},
   "outputs": [],
   "source": [
    "import tensorflow as tf\n",
    "\n",
    "tensor_648 = tf.constant(list(range(648)), dtype=tf.float32)\n",
    "tensor_squared_648 = tf.square(tensor_648)\n",
    "tensor_sum_648 = tf.reduce_sum(tensor_squared_648)\n",
    "tensor_mean_648 = tf.reduce_mean(tensor_squared_648)\n",
    "tensor_max_648 = tf.reduce_max(tensor_squared_648)\n",
    "\n",
    "tf.print(\"Cell 648 - TensorFlow\")\n",
    "tf.print(\"Tensor shape:\", tf.shape(tensor_648))\n",
    "tf.print(\"Sum:\", tensor_sum_648)\n",
    "tf.print(\"Mean:\", tensor_mean_648)\n",
    "tf.print(\"Max:\", tensor_max_648)"
   ]
  },
  {
   "cell_type": "code",
   "execution_count": null,
   "id": "ce536616",
   "metadata": {},
   "outputs": [],
   "source": [
    "import tensorflow as tf\n",
    "\n",
    "tensor_649 = tf.constant(list(range(649)), dtype=tf.float32)\n",
    "tensor_squared_649 = tf.square(tensor_649)\n",
    "tensor_sum_649 = tf.reduce_sum(tensor_squared_649)\n",
    "tensor_mean_649 = tf.reduce_mean(tensor_squared_649)\n",
    "tensor_max_649 = tf.reduce_max(tensor_squared_649)\n",
    "\n",
    "tf.print(\"Cell 649 - TensorFlow\")\n",
    "tf.print(\"Tensor shape:\", tf.shape(tensor_649))\n",
    "tf.print(\"Sum:\", tensor_sum_649)\n",
    "tf.print(\"Mean:\", tensor_mean_649)\n",
    "tf.print(\"Max:\", tensor_max_649)"
   ]
  },
  {
   "cell_type": "code",
   "execution_count": null,
   "id": "1cec71ab",
   "metadata": {},
   "outputs": [],
   "source": [
    "import tensorflow as tf\n",
    "\n",
    "tensor_650 = tf.constant(list(range(650)), dtype=tf.float32)\n",
    "tensor_squared_650 = tf.square(tensor_650)\n",
    "tensor_sum_650 = tf.reduce_sum(tensor_squared_650)\n",
    "tensor_mean_650 = tf.reduce_mean(tensor_squared_650)\n",
    "tensor_max_650 = tf.reduce_max(tensor_squared_650)\n",
    "\n",
    "tf.print(\"Cell 650 - TensorFlow\")\n",
    "tf.print(\"Tensor shape:\", tf.shape(tensor_650))\n",
    "tf.print(\"Sum:\", tensor_sum_650)\n",
    "tf.print(\"Mean:\", tensor_mean_650)\n",
    "tf.print(\"Max:\", tensor_max_650)"
   ]
  },
  {
   "cell_type": "code",
   "execution_count": null,
   "id": "29d73935",
   "metadata": {},
   "outputs": [],
   "source": [
    "import tensorflow as tf\n",
    "\n",
    "tensor_651 = tf.constant(list(range(651)), dtype=tf.float32)\n",
    "tensor_squared_651 = tf.square(tensor_651)\n",
    "tensor_sum_651 = tf.reduce_sum(tensor_squared_651)\n",
    "tensor_mean_651 = tf.reduce_mean(tensor_squared_651)\n",
    "tensor_max_651 = tf.reduce_max(tensor_squared_651)\n",
    "\n",
    "tf.print(\"Cell 651 - TensorFlow\")\n",
    "tf.print(\"Tensor shape:\", tf.shape(tensor_651))\n",
    "tf.print(\"Sum:\", tensor_sum_651)\n",
    "tf.print(\"Mean:\", tensor_mean_651)\n",
    "tf.print(\"Max:\", tensor_max_651)"
   ]
  },
  {
   "cell_type": "code",
   "execution_count": null,
   "id": "013e1ef7",
   "metadata": {},
   "outputs": [],
   "source": [
    "import tensorflow as tf\n",
    "\n",
    "tensor_652 = tf.constant(list(range(652)), dtype=tf.float32)\n",
    "tensor_squared_652 = tf.square(tensor_652)\n",
    "tensor_sum_652 = tf.reduce_sum(tensor_squared_652)\n",
    "tensor_mean_652 = tf.reduce_mean(tensor_squared_652)\n",
    "tensor_max_652 = tf.reduce_max(tensor_squared_652)\n",
    "\n",
    "tf.print(\"Cell 652 - TensorFlow\")\n",
    "tf.print(\"Tensor shape:\", tf.shape(tensor_652))\n",
    "tf.print(\"Sum:\", tensor_sum_652)\n",
    "tf.print(\"Mean:\", tensor_mean_652)\n",
    "tf.print(\"Max:\", tensor_max_652)"
   ]
  },
  {
   "cell_type": "code",
   "execution_count": null,
   "id": "8fcb40c8",
   "metadata": {},
   "outputs": [],
   "source": [
    "import tensorflow as tf\n",
    "\n",
    "tensor_653 = tf.constant(list(range(653)), dtype=tf.float32)\n",
    "tensor_squared_653 = tf.square(tensor_653)\n",
    "tensor_sum_653 = tf.reduce_sum(tensor_squared_653)\n",
    "tensor_mean_653 = tf.reduce_mean(tensor_squared_653)\n",
    "tensor_max_653 = tf.reduce_max(tensor_squared_653)\n",
    "\n",
    "tf.print(\"Cell 653 - TensorFlow\")\n",
    "tf.print(\"Tensor shape:\", tf.shape(tensor_653))\n",
    "tf.print(\"Sum:\", tensor_sum_653)\n",
    "tf.print(\"Mean:\", tensor_mean_653)\n",
    "tf.print(\"Max:\", tensor_max_653)"
   ]
  },
  {
   "cell_type": "code",
   "execution_count": null,
   "id": "ac137a0c",
   "metadata": {},
   "outputs": [],
   "source": [
    "import tensorflow as tf\n",
    "\n",
    "tensor_654 = tf.constant(list(range(654)), dtype=tf.float32)\n",
    "tensor_squared_654 = tf.square(tensor_654)\n",
    "tensor_sum_654 = tf.reduce_sum(tensor_squared_654)\n",
    "tensor_mean_654 = tf.reduce_mean(tensor_squared_654)\n",
    "tensor_max_654 = tf.reduce_max(tensor_squared_654)\n",
    "\n",
    "tf.print(\"Cell 654 - TensorFlow\")\n",
    "tf.print(\"Tensor shape:\", tf.shape(tensor_654))\n",
    "tf.print(\"Sum:\", tensor_sum_654)\n",
    "tf.print(\"Mean:\", tensor_mean_654)\n",
    "tf.print(\"Max:\", tensor_max_654)"
   ]
  },
  {
   "cell_type": "code",
   "execution_count": null,
   "id": "8d73a492",
   "metadata": {},
   "outputs": [],
   "source": [
    "import tensorflow as tf\n",
    "\n",
    "tensor_655 = tf.constant(list(range(655)), dtype=tf.float32)\n",
    "tensor_squared_655 = tf.square(tensor_655)\n",
    "tensor_sum_655 = tf.reduce_sum(tensor_squared_655)\n",
    "tensor_mean_655 = tf.reduce_mean(tensor_squared_655)\n",
    "tensor_max_655 = tf.reduce_max(tensor_squared_655)\n",
    "\n",
    "tf.print(\"Cell 655 - TensorFlow\")\n",
    "tf.print(\"Tensor shape:\", tf.shape(tensor_655))\n",
    "tf.print(\"Sum:\", tensor_sum_655)\n",
    "tf.print(\"Mean:\", tensor_mean_655)\n",
    "tf.print(\"Max:\", tensor_max_655)"
   ]
  },
  {
   "cell_type": "code",
   "execution_count": null,
   "id": "94789bc2",
   "metadata": {},
   "outputs": [],
   "source": [
    "import tensorflow as tf\n",
    "\n",
    "tensor_656 = tf.constant(list(range(656)), dtype=tf.float32)\n",
    "tensor_squared_656 = tf.square(tensor_656)\n",
    "tensor_sum_656 = tf.reduce_sum(tensor_squared_656)\n",
    "tensor_mean_656 = tf.reduce_mean(tensor_squared_656)\n",
    "tensor_max_656 = tf.reduce_max(tensor_squared_656)\n",
    "\n",
    "tf.print(\"Cell 656 - TensorFlow\")\n",
    "tf.print(\"Tensor shape:\", tf.shape(tensor_656))\n",
    "tf.print(\"Sum:\", tensor_sum_656)\n",
    "tf.print(\"Mean:\", tensor_mean_656)\n",
    "tf.print(\"Max:\", tensor_max_656)"
   ]
  },
  {
   "cell_type": "code",
   "execution_count": null,
   "id": "e14c1530",
   "metadata": {},
   "outputs": [],
   "source": [
    "import tensorflow as tf\n",
    "\n",
    "tensor_657 = tf.constant(list(range(657)), dtype=tf.float32)\n",
    "tensor_squared_657 = tf.square(tensor_657)\n",
    "tensor_sum_657 = tf.reduce_sum(tensor_squared_657)\n",
    "tensor_mean_657 = tf.reduce_mean(tensor_squared_657)\n",
    "tensor_max_657 = tf.reduce_max(tensor_squared_657)\n",
    "\n",
    "tf.print(\"Cell 657 - TensorFlow\")\n",
    "tf.print(\"Tensor shape:\", tf.shape(tensor_657))\n",
    "tf.print(\"Sum:\", tensor_sum_657)\n",
    "tf.print(\"Mean:\", tensor_mean_657)\n",
    "tf.print(\"Max:\", tensor_max_657)"
   ]
  },
  {
   "cell_type": "code",
   "execution_count": null,
   "id": "59b9a759",
   "metadata": {},
   "outputs": [],
   "source": [
    "import tensorflow as tf\n",
    "\n",
    "tensor_658 = tf.constant(list(range(658)), dtype=tf.float32)\n",
    "tensor_squared_658 = tf.square(tensor_658)\n",
    "tensor_sum_658 = tf.reduce_sum(tensor_squared_658)\n",
    "tensor_mean_658 = tf.reduce_mean(tensor_squared_658)\n",
    "tensor_max_658 = tf.reduce_max(tensor_squared_658)\n",
    "\n",
    "tf.print(\"Cell 658 - TensorFlow\")\n",
    "tf.print(\"Tensor shape:\", tf.shape(tensor_658))\n",
    "tf.print(\"Sum:\", tensor_sum_658)\n",
    "tf.print(\"Mean:\", tensor_mean_658)\n",
    "tf.print(\"Max:\", tensor_max_658)"
   ]
  },
  {
   "cell_type": "code",
   "execution_count": null,
   "id": "2eb051bd",
   "metadata": {},
   "outputs": [],
   "source": [
    "import tensorflow as tf\n",
    "\n",
    "tensor_659 = tf.constant(list(range(659)), dtype=tf.float32)\n",
    "tensor_squared_659 = tf.square(tensor_659)\n",
    "tensor_sum_659 = tf.reduce_sum(tensor_squared_659)\n",
    "tensor_mean_659 = tf.reduce_mean(tensor_squared_659)\n",
    "tensor_max_659 = tf.reduce_max(tensor_squared_659)\n",
    "\n",
    "tf.print(\"Cell 659 - TensorFlow\")\n",
    "tf.print(\"Tensor shape:\", tf.shape(tensor_659))\n",
    "tf.print(\"Sum:\", tensor_sum_659)\n",
    "tf.print(\"Mean:\", tensor_mean_659)\n",
    "tf.print(\"Max:\", tensor_max_659)"
   ]
  },
  {
   "cell_type": "code",
   "execution_count": null,
   "id": "5e4ce0f9",
   "metadata": {},
   "outputs": [],
   "source": [
    "import tensorflow as tf\n",
    "\n",
    "tensor_660 = tf.constant(list(range(660)), dtype=tf.float32)\n",
    "tensor_squared_660 = tf.square(tensor_660)\n",
    "tensor_sum_660 = tf.reduce_sum(tensor_squared_660)\n",
    "tensor_mean_660 = tf.reduce_mean(tensor_squared_660)\n",
    "tensor_max_660 = tf.reduce_max(tensor_squared_660)\n",
    "\n",
    "tf.print(\"Cell 660 - TensorFlow\")\n",
    "tf.print(\"Tensor shape:\", tf.shape(tensor_660))\n",
    "tf.print(\"Sum:\", tensor_sum_660)\n",
    "tf.print(\"Mean:\", tensor_mean_660)\n",
    "tf.print(\"Max:\", tensor_max_660)"
   ]
  },
  {
   "cell_type": "code",
   "execution_count": null,
   "id": "92a4c5b3",
   "metadata": {},
   "outputs": [],
   "source": [
    "import tensorflow as tf\n",
    "\n",
    "tensor_661 = tf.constant(list(range(661)), dtype=tf.float32)\n",
    "tensor_squared_661 = tf.square(tensor_661)\n",
    "tensor_sum_661 = tf.reduce_sum(tensor_squared_661)\n",
    "tensor_mean_661 = tf.reduce_mean(tensor_squared_661)\n",
    "tensor_max_661 = tf.reduce_max(tensor_squared_661)\n",
    "\n",
    "tf.print(\"Cell 661 - TensorFlow\")\n",
    "tf.print(\"Tensor shape:\", tf.shape(tensor_661))\n",
    "tf.print(\"Sum:\", tensor_sum_661)\n",
    "tf.print(\"Mean:\", tensor_mean_661)\n",
    "tf.print(\"Max:\", tensor_max_661)"
   ]
  },
  {
   "cell_type": "code",
   "execution_count": null,
   "id": "aaa55fe2",
   "metadata": {},
   "outputs": [],
   "source": [
    "import tensorflow as tf\n",
    "\n",
    "tensor_662 = tf.constant(list(range(662)), dtype=tf.float32)\n",
    "tensor_squared_662 = tf.square(tensor_662)\n",
    "tensor_sum_662 = tf.reduce_sum(tensor_squared_662)\n",
    "tensor_mean_662 = tf.reduce_mean(tensor_squared_662)\n",
    "tensor_max_662 = tf.reduce_max(tensor_squared_662)\n",
    "\n",
    "tf.print(\"Cell 662 - TensorFlow\")\n",
    "tf.print(\"Tensor shape:\", tf.shape(tensor_662))\n",
    "tf.print(\"Sum:\", tensor_sum_662)\n",
    "tf.print(\"Mean:\", tensor_mean_662)\n",
    "tf.print(\"Max:\", tensor_max_662)"
   ]
  },
  {
   "cell_type": "code",
   "execution_count": null,
   "id": "85484a90",
   "metadata": {},
   "outputs": [],
   "source": [
    "import tensorflow as tf\n",
    "\n",
    "tensor_663 = tf.constant(list(range(663)), dtype=tf.float32)\n",
    "tensor_squared_663 = tf.square(tensor_663)\n",
    "tensor_sum_663 = tf.reduce_sum(tensor_squared_663)\n",
    "tensor_mean_663 = tf.reduce_mean(tensor_squared_663)\n",
    "tensor_max_663 = tf.reduce_max(tensor_squared_663)\n",
    "\n",
    "tf.print(\"Cell 663 - TensorFlow\")\n",
    "tf.print(\"Tensor shape:\", tf.shape(tensor_663))\n",
    "tf.print(\"Sum:\", tensor_sum_663)\n",
    "tf.print(\"Mean:\", tensor_mean_663)\n",
    "tf.print(\"Max:\", tensor_max_663)"
   ]
  },
  {
   "cell_type": "code",
   "execution_count": null,
   "id": "86f59403",
   "metadata": {},
   "outputs": [],
   "source": [
    "import tensorflow as tf\n",
    "\n",
    "tensor_664 = tf.constant(list(range(664)), dtype=tf.float32)\n",
    "tensor_squared_664 = tf.square(tensor_664)\n",
    "tensor_sum_664 = tf.reduce_sum(tensor_squared_664)\n",
    "tensor_mean_664 = tf.reduce_mean(tensor_squared_664)\n",
    "tensor_max_664 = tf.reduce_max(tensor_squared_664)\n",
    "\n",
    "tf.print(\"Cell 664 - TensorFlow\")\n",
    "tf.print(\"Tensor shape:\", tf.shape(tensor_664))\n",
    "tf.print(\"Sum:\", tensor_sum_664)\n",
    "tf.print(\"Mean:\", tensor_mean_664)\n",
    "tf.print(\"Max:\", tensor_max_664)"
   ]
  },
  {
   "cell_type": "code",
   "execution_count": null,
   "id": "bd9059cd",
   "metadata": {},
   "outputs": [],
   "source": [
    "import tensorflow as tf\n",
    "\n",
    "tensor_665 = tf.constant(list(range(665)), dtype=tf.float32)\n",
    "tensor_squared_665 = tf.square(tensor_665)\n",
    "tensor_sum_665 = tf.reduce_sum(tensor_squared_665)\n",
    "tensor_mean_665 = tf.reduce_mean(tensor_squared_665)\n",
    "tensor_max_665 = tf.reduce_max(tensor_squared_665)\n",
    "\n",
    "tf.print(\"Cell 665 - TensorFlow\")\n",
    "tf.print(\"Tensor shape:\", tf.shape(tensor_665))\n",
    "tf.print(\"Sum:\", tensor_sum_665)\n",
    "tf.print(\"Mean:\", tensor_mean_665)\n",
    "tf.print(\"Max:\", tensor_max_665)"
   ]
  },
  {
   "cell_type": "code",
   "execution_count": null,
   "id": "a76f1eda",
   "metadata": {},
   "outputs": [],
   "source": [
    "import tensorflow as tf\n",
    "\n",
    "tensor_666 = tf.constant(list(range(666)), dtype=tf.float32)\n",
    "tensor_squared_666 = tf.square(tensor_666)\n",
    "tensor_sum_666 = tf.reduce_sum(tensor_squared_666)\n",
    "tensor_mean_666 = tf.reduce_mean(tensor_squared_666)\n",
    "tensor_max_666 = tf.reduce_max(tensor_squared_666)\n",
    "\n",
    "tf.print(\"Cell 666 - TensorFlow\")\n",
    "tf.print(\"Tensor shape:\", tf.shape(tensor_666))\n",
    "tf.print(\"Sum:\", tensor_sum_666)\n",
    "tf.print(\"Mean:\", tensor_mean_666)\n",
    "tf.print(\"Max:\", tensor_max_666)"
   ]
  },
  {
   "cell_type": "code",
   "execution_count": null,
   "id": "db6fcd7b",
   "metadata": {},
   "outputs": [],
   "source": [
    "import tensorflow as tf\n",
    "\n",
    "tensor_667 = tf.constant(list(range(667)), dtype=tf.float32)\n",
    "tensor_squared_667 = tf.square(tensor_667)\n",
    "tensor_sum_667 = tf.reduce_sum(tensor_squared_667)\n",
    "tensor_mean_667 = tf.reduce_mean(tensor_squared_667)\n",
    "tensor_max_667 = tf.reduce_max(tensor_squared_667)\n",
    "\n",
    "tf.print(\"Cell 667 - TensorFlow\")\n",
    "tf.print(\"Tensor shape:\", tf.shape(tensor_667))\n",
    "tf.print(\"Sum:\", tensor_sum_667)\n",
    "tf.print(\"Mean:\", tensor_mean_667)\n",
    "tf.print(\"Max:\", tensor_max_667)"
   ]
  },
  {
   "cell_type": "code",
   "execution_count": null,
   "id": "134b0ce4",
   "metadata": {},
   "outputs": [],
   "source": [
    "import tensorflow as tf\n",
    "\n",
    "tensor_668 = tf.constant(list(range(668)), dtype=tf.float32)\n",
    "tensor_squared_668 = tf.square(tensor_668)\n",
    "tensor_sum_668 = tf.reduce_sum(tensor_squared_668)\n",
    "tensor_mean_668 = tf.reduce_mean(tensor_squared_668)\n",
    "tensor_max_668 = tf.reduce_max(tensor_squared_668)\n",
    "\n",
    "tf.print(\"Cell 668 - TensorFlow\")\n",
    "tf.print(\"Tensor shape:\", tf.shape(tensor_668))\n",
    "tf.print(\"Sum:\", tensor_sum_668)\n",
    "tf.print(\"Mean:\", tensor_mean_668)\n",
    "tf.print(\"Max:\", tensor_max_668)"
   ]
  },
  {
   "cell_type": "code",
   "execution_count": null,
   "id": "673f2636",
   "metadata": {},
   "outputs": [],
   "source": [
    "import tensorflow as tf\n",
    "\n",
    "tensor_669 = tf.constant(list(range(669)), dtype=tf.float32)\n",
    "tensor_squared_669 = tf.square(tensor_669)\n",
    "tensor_sum_669 = tf.reduce_sum(tensor_squared_669)\n",
    "tensor_mean_669 = tf.reduce_mean(tensor_squared_669)\n",
    "tensor_max_669 = tf.reduce_max(tensor_squared_669)\n",
    "\n",
    "tf.print(\"Cell 669 - TensorFlow\")\n",
    "tf.print(\"Tensor shape:\", tf.shape(tensor_669))\n",
    "tf.print(\"Sum:\", tensor_sum_669)\n",
    "tf.print(\"Mean:\", tensor_mean_669)\n",
    "tf.print(\"Max:\", tensor_max_669)"
   ]
  },
  {
   "cell_type": "code",
   "execution_count": null,
   "id": "5235ae0d",
   "metadata": {},
   "outputs": [],
   "source": [
    "import tensorflow as tf\n",
    "\n",
    "tensor_670 = tf.constant(list(range(670)), dtype=tf.float32)\n",
    "tensor_squared_670 = tf.square(tensor_670)\n",
    "tensor_sum_670 = tf.reduce_sum(tensor_squared_670)\n",
    "tensor_mean_670 = tf.reduce_mean(tensor_squared_670)\n",
    "tensor_max_670 = tf.reduce_max(tensor_squared_670)\n",
    "\n",
    "tf.print(\"Cell 670 - TensorFlow\")\n",
    "tf.print(\"Tensor shape:\", tf.shape(tensor_670))\n",
    "tf.print(\"Sum:\", tensor_sum_670)\n",
    "tf.print(\"Mean:\", tensor_mean_670)\n",
    "tf.print(\"Max:\", tensor_max_670)"
   ]
  },
  {
   "cell_type": "code",
   "execution_count": null,
   "id": "71708204",
   "metadata": {},
   "outputs": [],
   "source": [
    "import tensorflow as tf\n",
    "\n",
    "tensor_671 = tf.constant(list(range(671)), dtype=tf.float32)\n",
    "tensor_squared_671 = tf.square(tensor_671)\n",
    "tensor_sum_671 = tf.reduce_sum(tensor_squared_671)\n",
    "tensor_mean_671 = tf.reduce_mean(tensor_squared_671)\n",
    "tensor_max_671 = tf.reduce_max(tensor_squared_671)\n",
    "\n",
    "tf.print(\"Cell 671 - TensorFlow\")\n",
    "tf.print(\"Tensor shape:\", tf.shape(tensor_671))\n",
    "tf.print(\"Sum:\", tensor_sum_671)\n",
    "tf.print(\"Mean:\", tensor_mean_671)\n",
    "tf.print(\"Max:\", tensor_max_671)"
   ]
  },
  {
   "cell_type": "code",
   "execution_count": null,
   "id": "f25a947c",
   "metadata": {},
   "outputs": [],
   "source": [
    "import tensorflow as tf\n",
    "\n",
    "tensor_672 = tf.constant(list(range(672)), dtype=tf.float32)\n",
    "tensor_squared_672 = tf.square(tensor_672)\n",
    "tensor_sum_672 = tf.reduce_sum(tensor_squared_672)\n",
    "tensor_mean_672 = tf.reduce_mean(tensor_squared_672)\n",
    "tensor_max_672 = tf.reduce_max(tensor_squared_672)\n",
    "\n",
    "tf.print(\"Cell 672 - TensorFlow\")\n",
    "tf.print(\"Tensor shape:\", tf.shape(tensor_672))\n",
    "tf.print(\"Sum:\", tensor_sum_672)\n",
    "tf.print(\"Mean:\", tensor_mean_672)\n",
    "tf.print(\"Max:\", tensor_max_672)"
   ]
  },
  {
   "cell_type": "code",
   "execution_count": null,
   "id": "3c602321",
   "metadata": {},
   "outputs": [],
   "source": [
    "import tensorflow as tf\n",
    "\n",
    "tensor_673 = tf.constant(list(range(673)), dtype=tf.float32)\n",
    "tensor_squared_673 = tf.square(tensor_673)\n",
    "tensor_sum_673 = tf.reduce_sum(tensor_squared_673)\n",
    "tensor_mean_673 = tf.reduce_mean(tensor_squared_673)\n",
    "tensor_max_673 = tf.reduce_max(tensor_squared_673)\n",
    "\n",
    "tf.print(\"Cell 673 - TensorFlow\")\n",
    "tf.print(\"Tensor shape:\", tf.shape(tensor_673))\n",
    "tf.print(\"Sum:\", tensor_sum_673)\n",
    "tf.print(\"Mean:\", tensor_mean_673)\n",
    "tf.print(\"Max:\", tensor_max_673)"
   ]
  },
  {
   "cell_type": "code",
   "execution_count": null,
   "id": "da999f3a",
   "metadata": {},
   "outputs": [],
   "source": [
    "import tensorflow as tf\n",
    "\n",
    "tensor_674 = tf.constant(list(range(674)), dtype=tf.float32)\n",
    "tensor_squared_674 = tf.square(tensor_674)\n",
    "tensor_sum_674 = tf.reduce_sum(tensor_squared_674)\n",
    "tensor_mean_674 = tf.reduce_mean(tensor_squared_674)\n",
    "tensor_max_674 = tf.reduce_max(tensor_squared_674)\n",
    "\n",
    "tf.print(\"Cell 674 - TensorFlow\")\n",
    "tf.print(\"Tensor shape:\", tf.shape(tensor_674))\n",
    "tf.print(\"Sum:\", tensor_sum_674)\n",
    "tf.print(\"Mean:\", tensor_mean_674)\n",
    "tf.print(\"Max:\", tensor_max_674)"
   ]
  },
  {
   "cell_type": "code",
   "execution_count": null,
   "id": "882e7666",
   "metadata": {},
   "outputs": [],
   "source": [
    "import tensorflow as tf\n",
    "\n",
    "tensor_675 = tf.constant(list(range(675)), dtype=tf.float32)\n",
    "tensor_squared_675 = tf.square(tensor_675)\n",
    "tensor_sum_675 = tf.reduce_sum(tensor_squared_675)\n",
    "tensor_mean_675 = tf.reduce_mean(tensor_squared_675)\n",
    "tensor_max_675 = tf.reduce_max(tensor_squared_675)\n",
    "\n",
    "tf.print(\"Cell 675 - TensorFlow\")\n",
    "tf.print(\"Tensor shape:\", tf.shape(tensor_675))\n",
    "tf.print(\"Sum:\", tensor_sum_675)\n",
    "tf.print(\"Mean:\", tensor_mean_675)\n",
    "tf.print(\"Max:\", tensor_max_675)"
   ]
  },
  {
   "cell_type": "code",
   "execution_count": null,
   "id": "ebccb65f",
   "metadata": {},
   "outputs": [],
   "source": [
    "import tensorflow as tf\n",
    "\n",
    "tensor_676 = tf.constant(list(range(676)), dtype=tf.float32)\n",
    "tensor_squared_676 = tf.square(tensor_676)\n",
    "tensor_sum_676 = tf.reduce_sum(tensor_squared_676)\n",
    "tensor_mean_676 = tf.reduce_mean(tensor_squared_676)\n",
    "tensor_max_676 = tf.reduce_max(tensor_squared_676)\n",
    "\n",
    "tf.print(\"Cell 676 - TensorFlow\")\n",
    "tf.print(\"Tensor shape:\", tf.shape(tensor_676))\n",
    "tf.print(\"Sum:\", tensor_sum_676)\n",
    "tf.print(\"Mean:\", tensor_mean_676)\n",
    "tf.print(\"Max:\", tensor_max_676)"
   ]
  },
  {
   "cell_type": "code",
   "execution_count": null,
   "id": "fc797456",
   "metadata": {},
   "outputs": [],
   "source": [
    "import tensorflow as tf\n",
    "\n",
    "tensor_677 = tf.constant(list(range(677)), dtype=tf.float32)\n",
    "tensor_squared_677 = tf.square(tensor_677)\n",
    "tensor_sum_677 = tf.reduce_sum(tensor_squared_677)\n",
    "tensor_mean_677 = tf.reduce_mean(tensor_squared_677)\n",
    "tensor_max_677 = tf.reduce_max(tensor_squared_677)\n",
    "\n",
    "tf.print(\"Cell 677 - TensorFlow\")\n",
    "tf.print(\"Tensor shape:\", tf.shape(tensor_677))\n",
    "tf.print(\"Sum:\", tensor_sum_677)\n",
    "tf.print(\"Mean:\", tensor_mean_677)\n",
    "tf.print(\"Max:\", tensor_max_677)"
   ]
  },
  {
   "cell_type": "code",
   "execution_count": null,
   "id": "4fa941b9",
   "metadata": {},
   "outputs": [],
   "source": [
    "import tensorflow as tf\n",
    "\n",
    "tensor_678 = tf.constant(list(range(678)), dtype=tf.float32)\n",
    "tensor_squared_678 = tf.square(tensor_678)\n",
    "tensor_sum_678 = tf.reduce_sum(tensor_squared_678)\n",
    "tensor_mean_678 = tf.reduce_mean(tensor_squared_678)\n",
    "tensor_max_678 = tf.reduce_max(tensor_squared_678)\n",
    "\n",
    "tf.print(\"Cell 678 - TensorFlow\")\n",
    "tf.print(\"Tensor shape:\", tf.shape(tensor_678))\n",
    "tf.print(\"Sum:\", tensor_sum_678)\n",
    "tf.print(\"Mean:\", tensor_mean_678)\n",
    "tf.print(\"Max:\", tensor_max_678)"
   ]
  },
  {
   "cell_type": "code",
   "execution_count": null,
   "id": "0db6a8fb",
   "metadata": {},
   "outputs": [],
   "source": [
    "import tensorflow as tf\n",
    "\n",
    "tensor_679 = tf.constant(list(range(679)), dtype=tf.float32)\n",
    "tensor_squared_679 = tf.square(tensor_679)\n",
    "tensor_sum_679 = tf.reduce_sum(tensor_squared_679)\n",
    "tensor_mean_679 = tf.reduce_mean(tensor_squared_679)\n",
    "tensor_max_679 = tf.reduce_max(tensor_squared_679)\n",
    "\n",
    "tf.print(\"Cell 679 - TensorFlow\")\n",
    "tf.print(\"Tensor shape:\", tf.shape(tensor_679))\n",
    "tf.print(\"Sum:\", tensor_sum_679)\n",
    "tf.print(\"Mean:\", tensor_mean_679)\n",
    "tf.print(\"Max:\", tensor_max_679)"
   ]
  },
  {
   "cell_type": "code",
   "execution_count": null,
   "id": "e714268f",
   "metadata": {},
   "outputs": [],
   "source": [
    "import tensorflow as tf\n",
    "\n",
    "tensor_680 = tf.constant(list(range(680)), dtype=tf.float32)\n",
    "tensor_squared_680 = tf.square(tensor_680)\n",
    "tensor_sum_680 = tf.reduce_sum(tensor_squared_680)\n",
    "tensor_mean_680 = tf.reduce_mean(tensor_squared_680)\n",
    "tensor_max_680 = tf.reduce_max(tensor_squared_680)\n",
    "\n",
    "tf.print(\"Cell 680 - TensorFlow\")\n",
    "tf.print(\"Tensor shape:\", tf.shape(tensor_680))\n",
    "tf.print(\"Sum:\", tensor_sum_680)\n",
    "tf.print(\"Mean:\", tensor_mean_680)\n",
    "tf.print(\"Max:\", tensor_max_680)"
   ]
  },
  {
   "cell_type": "code",
   "execution_count": null,
   "id": "9cf4cd35",
   "metadata": {},
   "outputs": [],
   "source": [
    "import tensorflow as tf\n",
    "\n",
    "tensor_681 = tf.constant(list(range(681)), dtype=tf.float32)\n",
    "tensor_squared_681 = tf.square(tensor_681)\n",
    "tensor_sum_681 = tf.reduce_sum(tensor_squared_681)\n",
    "tensor_mean_681 = tf.reduce_mean(tensor_squared_681)\n",
    "tensor_max_681 = tf.reduce_max(tensor_squared_681)\n",
    "\n",
    "tf.print(\"Cell 681 - TensorFlow\")\n",
    "tf.print(\"Tensor shape:\", tf.shape(tensor_681))\n",
    "tf.print(\"Sum:\", tensor_sum_681)\n",
    "tf.print(\"Mean:\", tensor_mean_681)\n",
    "tf.print(\"Max:\", tensor_max_681)"
   ]
  },
  {
   "cell_type": "code",
   "execution_count": null,
   "id": "7357629a",
   "metadata": {},
   "outputs": [],
   "source": [
    "import tensorflow as tf\n",
    "\n",
    "tensor_682 = tf.constant(list(range(682)), dtype=tf.float32)\n",
    "tensor_squared_682 = tf.square(tensor_682)\n",
    "tensor_sum_682 = tf.reduce_sum(tensor_squared_682)\n",
    "tensor_mean_682 = tf.reduce_mean(tensor_squared_682)\n",
    "tensor_max_682 = tf.reduce_max(tensor_squared_682)\n",
    "\n",
    "tf.print(\"Cell 682 - TensorFlow\")\n",
    "tf.print(\"Tensor shape:\", tf.shape(tensor_682))\n",
    "tf.print(\"Sum:\", tensor_sum_682)\n",
    "tf.print(\"Mean:\", tensor_mean_682)\n",
    "tf.print(\"Max:\", tensor_max_682)"
   ]
  },
  {
   "cell_type": "code",
   "execution_count": null,
   "id": "b5367681",
   "metadata": {},
   "outputs": [],
   "source": [
    "import tensorflow as tf\n",
    "\n",
    "tensor_683 = tf.constant(list(range(683)), dtype=tf.float32)\n",
    "tensor_squared_683 = tf.square(tensor_683)\n",
    "tensor_sum_683 = tf.reduce_sum(tensor_squared_683)\n",
    "tensor_mean_683 = tf.reduce_mean(tensor_squared_683)\n",
    "tensor_max_683 = tf.reduce_max(tensor_squared_683)\n",
    "\n",
    "tf.print(\"Cell 683 - TensorFlow\")\n",
    "tf.print(\"Tensor shape:\", tf.shape(tensor_683))\n",
    "tf.print(\"Sum:\", tensor_sum_683)\n",
    "tf.print(\"Mean:\", tensor_mean_683)\n",
    "tf.print(\"Max:\", tensor_max_683)"
   ]
  },
  {
   "cell_type": "code",
   "execution_count": null,
   "id": "078baf95",
   "metadata": {},
   "outputs": [],
   "source": [
    "import tensorflow as tf\n",
    "\n",
    "tensor_684 = tf.constant(list(range(684)), dtype=tf.float32)\n",
    "tensor_squared_684 = tf.square(tensor_684)\n",
    "tensor_sum_684 = tf.reduce_sum(tensor_squared_684)\n",
    "tensor_mean_684 = tf.reduce_mean(tensor_squared_684)\n",
    "tensor_max_684 = tf.reduce_max(tensor_squared_684)\n",
    "\n",
    "tf.print(\"Cell 684 - TensorFlow\")\n",
    "tf.print(\"Tensor shape:\", tf.shape(tensor_684))\n",
    "tf.print(\"Sum:\", tensor_sum_684)\n",
    "tf.print(\"Mean:\", tensor_mean_684)\n",
    "tf.print(\"Max:\", tensor_max_684)"
   ]
  },
  {
   "cell_type": "code",
   "execution_count": null,
   "id": "6de55d22",
   "metadata": {},
   "outputs": [],
   "source": [
    "import tensorflow as tf\n",
    "\n",
    "tensor_685 = tf.constant(list(range(685)), dtype=tf.float32)\n",
    "tensor_squared_685 = tf.square(tensor_685)\n",
    "tensor_sum_685 = tf.reduce_sum(tensor_squared_685)\n",
    "tensor_mean_685 = tf.reduce_mean(tensor_squared_685)\n",
    "tensor_max_685 = tf.reduce_max(tensor_squared_685)\n",
    "\n",
    "tf.print(\"Cell 685 - TensorFlow\")\n",
    "tf.print(\"Tensor shape:\", tf.shape(tensor_685))\n",
    "tf.print(\"Sum:\", tensor_sum_685)\n",
    "tf.print(\"Mean:\", tensor_mean_685)\n",
    "tf.print(\"Max:\", tensor_max_685)"
   ]
  },
  {
   "cell_type": "code",
   "execution_count": null,
   "id": "95889ef8",
   "metadata": {},
   "outputs": [],
   "source": [
    "import tensorflow as tf\n",
    "\n",
    "tensor_686 = tf.constant(list(range(686)), dtype=tf.float32)\n",
    "tensor_squared_686 = tf.square(tensor_686)\n",
    "tensor_sum_686 = tf.reduce_sum(tensor_squared_686)\n",
    "tensor_mean_686 = tf.reduce_mean(tensor_squared_686)\n",
    "tensor_max_686 = tf.reduce_max(tensor_squared_686)\n",
    "\n",
    "tf.print(\"Cell 686 - TensorFlow\")\n",
    "tf.print(\"Tensor shape:\", tf.shape(tensor_686))\n",
    "tf.print(\"Sum:\", tensor_sum_686)\n",
    "tf.print(\"Mean:\", tensor_mean_686)\n",
    "tf.print(\"Max:\", tensor_max_686)"
   ]
  },
  {
   "cell_type": "code",
   "execution_count": null,
   "id": "42b4d43a",
   "metadata": {},
   "outputs": [],
   "source": [
    "import tensorflow as tf\n",
    "\n",
    "tensor_687 = tf.constant(list(range(687)), dtype=tf.float32)\n",
    "tensor_squared_687 = tf.square(tensor_687)\n",
    "tensor_sum_687 = tf.reduce_sum(tensor_squared_687)\n",
    "tensor_mean_687 = tf.reduce_mean(tensor_squared_687)\n",
    "tensor_max_687 = tf.reduce_max(tensor_squared_687)\n",
    "\n",
    "tf.print(\"Cell 687 - TensorFlow\")\n",
    "tf.print(\"Tensor shape:\", tf.shape(tensor_687))\n",
    "tf.print(\"Sum:\", tensor_sum_687)\n",
    "tf.print(\"Mean:\", tensor_mean_687)\n",
    "tf.print(\"Max:\", tensor_max_687)"
   ]
  },
  {
   "cell_type": "code",
   "execution_count": null,
   "id": "9a4900c6",
   "metadata": {},
   "outputs": [],
   "source": [
    "import tensorflow as tf\n",
    "\n",
    "tensor_688 = tf.constant(list(range(688)), dtype=tf.float32)\n",
    "tensor_squared_688 = tf.square(tensor_688)\n",
    "tensor_sum_688 = tf.reduce_sum(tensor_squared_688)\n",
    "tensor_mean_688 = tf.reduce_mean(tensor_squared_688)\n",
    "tensor_max_688 = tf.reduce_max(tensor_squared_688)\n",
    "\n",
    "tf.print(\"Cell 688 - TensorFlow\")\n",
    "tf.print(\"Tensor shape:\", tf.shape(tensor_688))\n",
    "tf.print(\"Sum:\", tensor_sum_688)\n",
    "tf.print(\"Mean:\", tensor_mean_688)\n",
    "tf.print(\"Max:\", tensor_max_688)"
   ]
  },
  {
   "cell_type": "code",
   "execution_count": null,
   "id": "4e6741a2",
   "metadata": {},
   "outputs": [],
   "source": [
    "import tensorflow as tf\n",
    "\n",
    "tensor_689 = tf.constant(list(range(689)), dtype=tf.float32)\n",
    "tensor_squared_689 = tf.square(tensor_689)\n",
    "tensor_sum_689 = tf.reduce_sum(tensor_squared_689)\n",
    "tensor_mean_689 = tf.reduce_mean(tensor_squared_689)\n",
    "tensor_max_689 = tf.reduce_max(tensor_squared_689)\n",
    "\n",
    "tf.print(\"Cell 689 - TensorFlow\")\n",
    "tf.print(\"Tensor shape:\", tf.shape(tensor_689))\n",
    "tf.print(\"Sum:\", tensor_sum_689)\n",
    "tf.print(\"Mean:\", tensor_mean_689)\n",
    "tf.print(\"Max:\", tensor_max_689)"
   ]
  },
  {
   "cell_type": "code",
   "execution_count": null,
   "id": "98815740",
   "metadata": {},
   "outputs": [],
   "source": [
    "import tensorflow as tf\n",
    "\n",
    "tensor_690 = tf.constant(list(range(690)), dtype=tf.float32)\n",
    "tensor_squared_690 = tf.square(tensor_690)\n",
    "tensor_sum_690 = tf.reduce_sum(tensor_squared_690)\n",
    "tensor_mean_690 = tf.reduce_mean(tensor_squared_690)\n",
    "tensor_max_690 = tf.reduce_max(tensor_squared_690)\n",
    "\n",
    "tf.print(\"Cell 690 - TensorFlow\")\n",
    "tf.print(\"Tensor shape:\", tf.shape(tensor_690))\n",
    "tf.print(\"Sum:\", tensor_sum_690)\n",
    "tf.print(\"Mean:\", tensor_mean_690)\n",
    "tf.print(\"Max:\", tensor_max_690)"
   ]
  },
  {
   "cell_type": "code",
   "execution_count": null,
   "id": "39f6f647",
   "metadata": {},
   "outputs": [],
   "source": [
    "import tensorflow as tf\n",
    "\n",
    "tensor_691 = tf.constant(list(range(691)), dtype=tf.float32)\n",
    "tensor_squared_691 = tf.square(tensor_691)\n",
    "tensor_sum_691 = tf.reduce_sum(tensor_squared_691)\n",
    "tensor_mean_691 = tf.reduce_mean(tensor_squared_691)\n",
    "tensor_max_691 = tf.reduce_max(tensor_squared_691)\n",
    "\n",
    "tf.print(\"Cell 691 - TensorFlow\")\n",
    "tf.print(\"Tensor shape:\", tf.shape(tensor_691))\n",
    "tf.print(\"Sum:\", tensor_sum_691)\n",
    "tf.print(\"Mean:\", tensor_mean_691)\n",
    "tf.print(\"Max:\", tensor_max_691)"
   ]
  },
  {
   "cell_type": "code",
   "execution_count": null,
   "id": "8ce49710",
   "metadata": {},
   "outputs": [],
   "source": [
    "import tensorflow as tf\n",
    "\n",
    "tensor_692 = tf.constant(list(range(692)), dtype=tf.float32)\n",
    "tensor_squared_692 = tf.square(tensor_692)\n",
    "tensor_sum_692 = tf.reduce_sum(tensor_squared_692)\n",
    "tensor_mean_692 = tf.reduce_mean(tensor_squared_692)\n",
    "tensor_max_692 = tf.reduce_max(tensor_squared_692)\n",
    "\n",
    "tf.print(\"Cell 692 - TensorFlow\")\n",
    "tf.print(\"Tensor shape:\", tf.shape(tensor_692))\n",
    "tf.print(\"Sum:\", tensor_sum_692)\n",
    "tf.print(\"Mean:\", tensor_mean_692)\n",
    "tf.print(\"Max:\", tensor_max_692)"
   ]
  },
  {
   "cell_type": "code",
   "execution_count": null,
   "id": "702b2959",
   "metadata": {},
   "outputs": [],
   "source": [
    "import tensorflow as tf\n",
    "\n",
    "tensor_693 = tf.constant(list(range(693)), dtype=tf.float32)\n",
    "tensor_squared_693 = tf.square(tensor_693)\n",
    "tensor_sum_693 = tf.reduce_sum(tensor_squared_693)\n",
    "tensor_mean_693 = tf.reduce_mean(tensor_squared_693)\n",
    "tensor_max_693 = tf.reduce_max(tensor_squared_693)\n",
    "\n",
    "tf.print(\"Cell 693 - TensorFlow\")\n",
    "tf.print(\"Tensor shape:\", tf.shape(tensor_693))\n",
    "tf.print(\"Sum:\", tensor_sum_693)\n",
    "tf.print(\"Mean:\", tensor_mean_693)\n",
    "tf.print(\"Max:\", tensor_max_693)"
   ]
  },
  {
   "cell_type": "code",
   "execution_count": null,
   "id": "ddde7e93",
   "metadata": {},
   "outputs": [],
   "source": [
    "import tensorflow as tf\n",
    "\n",
    "tensor_694 = tf.constant(list(range(694)), dtype=tf.float32)\n",
    "tensor_squared_694 = tf.square(tensor_694)\n",
    "tensor_sum_694 = tf.reduce_sum(tensor_squared_694)\n",
    "tensor_mean_694 = tf.reduce_mean(tensor_squared_694)\n",
    "tensor_max_694 = tf.reduce_max(tensor_squared_694)\n",
    "\n",
    "tf.print(\"Cell 694 - TensorFlow\")\n",
    "tf.print(\"Tensor shape:\", tf.shape(tensor_694))\n",
    "tf.print(\"Sum:\", tensor_sum_694)\n",
    "tf.print(\"Mean:\", tensor_mean_694)\n",
    "tf.print(\"Max:\", tensor_max_694)"
   ]
  },
  {
   "cell_type": "code",
   "execution_count": null,
   "id": "2e3adb8d",
   "metadata": {},
   "outputs": [],
   "source": [
    "import tensorflow as tf\n",
    "\n",
    "tensor_695 = tf.constant(list(range(695)), dtype=tf.float32)\n",
    "tensor_squared_695 = tf.square(tensor_695)\n",
    "tensor_sum_695 = tf.reduce_sum(tensor_squared_695)\n",
    "tensor_mean_695 = tf.reduce_mean(tensor_squared_695)\n",
    "tensor_max_695 = tf.reduce_max(tensor_squared_695)\n",
    "\n",
    "tf.print(\"Cell 695 - TensorFlow\")\n",
    "tf.print(\"Tensor shape:\", tf.shape(tensor_695))\n",
    "tf.print(\"Sum:\", tensor_sum_695)\n",
    "tf.print(\"Mean:\", tensor_mean_695)\n",
    "tf.print(\"Max:\", tensor_max_695)"
   ]
  },
  {
   "cell_type": "code",
   "execution_count": null,
   "id": "03254b88",
   "metadata": {},
   "outputs": [],
   "source": [
    "import tensorflow as tf\n",
    "\n",
    "tensor_696 = tf.constant(list(range(696)), dtype=tf.float32)\n",
    "tensor_squared_696 = tf.square(tensor_696)\n",
    "tensor_sum_696 = tf.reduce_sum(tensor_squared_696)\n",
    "tensor_mean_696 = tf.reduce_mean(tensor_squared_696)\n",
    "tensor_max_696 = tf.reduce_max(tensor_squared_696)\n",
    "\n",
    "tf.print(\"Cell 696 - TensorFlow\")\n",
    "tf.print(\"Tensor shape:\", tf.shape(tensor_696))\n",
    "tf.print(\"Sum:\", tensor_sum_696)\n",
    "tf.print(\"Mean:\", tensor_mean_696)\n",
    "tf.print(\"Max:\", tensor_max_696)"
   ]
  },
  {
   "cell_type": "code",
   "execution_count": null,
   "id": "17ae8628",
   "metadata": {},
   "outputs": [],
   "source": [
    "import tensorflow as tf\n",
    "\n",
    "tensor_697 = tf.constant(list(range(697)), dtype=tf.float32)\n",
    "tensor_squared_697 = tf.square(tensor_697)\n",
    "tensor_sum_697 = tf.reduce_sum(tensor_squared_697)\n",
    "tensor_mean_697 = tf.reduce_mean(tensor_squared_697)\n",
    "tensor_max_697 = tf.reduce_max(tensor_squared_697)\n",
    "\n",
    "tf.print(\"Cell 697 - TensorFlow\")\n",
    "tf.print(\"Tensor shape:\", tf.shape(tensor_697))\n",
    "tf.print(\"Sum:\", tensor_sum_697)\n",
    "tf.print(\"Mean:\", tensor_mean_697)\n",
    "tf.print(\"Max:\", tensor_max_697)"
   ]
  },
  {
   "cell_type": "code",
   "execution_count": null,
   "id": "2fddb61a",
   "metadata": {},
   "outputs": [],
   "source": [
    "import tensorflow as tf\n",
    "\n",
    "tensor_698 = tf.constant(list(range(698)), dtype=tf.float32)\n",
    "tensor_squared_698 = tf.square(tensor_698)\n",
    "tensor_sum_698 = tf.reduce_sum(tensor_squared_698)\n",
    "tensor_mean_698 = tf.reduce_mean(tensor_squared_698)\n",
    "tensor_max_698 = tf.reduce_max(tensor_squared_698)\n",
    "\n",
    "tf.print(\"Cell 698 - TensorFlow\")\n",
    "tf.print(\"Tensor shape:\", tf.shape(tensor_698))\n",
    "tf.print(\"Sum:\", tensor_sum_698)\n",
    "tf.print(\"Mean:\", tensor_mean_698)\n",
    "tf.print(\"Max:\", tensor_max_698)"
   ]
  },
  {
   "cell_type": "code",
   "execution_count": null,
   "id": "c42e7858",
   "metadata": {},
   "outputs": [],
   "source": [
    "import tensorflow as tf\n",
    "\n",
    "tensor_699 = tf.constant(list(range(699)), dtype=tf.float32)\n",
    "tensor_squared_699 = tf.square(tensor_699)\n",
    "tensor_sum_699 = tf.reduce_sum(tensor_squared_699)\n",
    "tensor_mean_699 = tf.reduce_mean(tensor_squared_699)\n",
    "tensor_max_699 = tf.reduce_max(tensor_squared_699)\n",
    "\n",
    "tf.print(\"Cell 699 - TensorFlow\")\n",
    "tf.print(\"Tensor shape:\", tf.shape(tensor_699))\n",
    "tf.print(\"Sum:\", tensor_sum_699)\n",
    "tf.print(\"Mean:\", tensor_mean_699)\n",
    "tf.print(\"Max:\", tensor_max_699)"
   ]
  },
  {
   "cell_type": "code",
   "execution_count": null,
   "id": "d829c4b7",
   "metadata": {},
   "outputs": [],
   "source": [
    "import tensorflow as tf\n",
    "\n",
    "tensor_700 = tf.constant(list(range(700)), dtype=tf.float32)\n",
    "tensor_squared_700 = tf.square(tensor_700)\n",
    "tensor_sum_700 = tf.reduce_sum(tensor_squared_700)\n",
    "tensor_mean_700 = tf.reduce_mean(tensor_squared_700)\n",
    "tensor_max_700 = tf.reduce_max(tensor_squared_700)\n",
    "\n",
    "tf.print(\"Cell 700 - TensorFlow\")\n",
    "tf.print(\"Tensor shape:\", tf.shape(tensor_700))\n",
    "tf.print(\"Sum:\", tensor_sum_700)\n",
    "tf.print(\"Mean:\", tensor_mean_700)\n",
    "tf.print(\"Max:\", tensor_max_700)"
   ]
  },
  {
   "cell_type": "code",
   "execution_count": null,
   "id": "32eee979",
   "metadata": {},
   "outputs": [],
   "source": [
    "import tensorflow as tf\n",
    "\n",
    "tensor_701 = tf.constant(list(range(701)), dtype=tf.float32)\n",
    "tensor_squared_701 = tf.square(tensor_701)\n",
    "tensor_sum_701 = tf.reduce_sum(tensor_squared_701)\n",
    "tensor_mean_701 = tf.reduce_mean(tensor_squared_701)\n",
    "tensor_max_701 = tf.reduce_max(tensor_squared_701)\n",
    "\n",
    "tf.print(\"Cell 701 - TensorFlow\")\n",
    "tf.print(\"Tensor shape:\", tf.shape(tensor_701))\n",
    "tf.print(\"Sum:\", tensor_sum_701)\n",
    "tf.print(\"Mean:\", tensor_mean_701)\n",
    "tf.print(\"Max:\", tensor_max_701)"
   ]
  },
  {
   "cell_type": "code",
   "execution_count": null,
   "id": "f603a2fa",
   "metadata": {},
   "outputs": [],
   "source": [
    "import tensorflow as tf\n",
    "\n",
    "tensor_702 = tf.constant(list(range(702)), dtype=tf.float32)\n",
    "tensor_squared_702 = tf.square(tensor_702)\n",
    "tensor_sum_702 = tf.reduce_sum(tensor_squared_702)\n",
    "tensor_mean_702 = tf.reduce_mean(tensor_squared_702)\n",
    "tensor_max_702 = tf.reduce_max(tensor_squared_702)\n",
    "\n",
    "tf.print(\"Cell 702 - TensorFlow\")\n",
    "tf.print(\"Tensor shape:\", tf.shape(tensor_702))\n",
    "tf.print(\"Sum:\", tensor_sum_702)\n",
    "tf.print(\"Mean:\", tensor_mean_702)\n",
    "tf.print(\"Max:\", tensor_max_702)"
   ]
  },
  {
   "cell_type": "code",
   "execution_count": null,
   "id": "ca2751fb",
   "metadata": {},
   "outputs": [],
   "source": [
    "import tensorflow as tf\n",
    "\n",
    "tensor_703 = tf.constant(list(range(703)), dtype=tf.float32)\n",
    "tensor_squared_703 = tf.square(tensor_703)\n",
    "tensor_sum_703 = tf.reduce_sum(tensor_squared_703)\n",
    "tensor_mean_703 = tf.reduce_mean(tensor_squared_703)\n",
    "tensor_max_703 = tf.reduce_max(tensor_squared_703)\n",
    "\n",
    "tf.print(\"Cell 703 - TensorFlow\")\n",
    "tf.print(\"Tensor shape:\", tf.shape(tensor_703))\n",
    "tf.print(\"Sum:\", tensor_sum_703)\n",
    "tf.print(\"Mean:\", tensor_mean_703)\n",
    "tf.print(\"Max:\", tensor_max_703)"
   ]
  },
  {
   "cell_type": "code",
   "execution_count": null,
   "id": "db9194fd",
   "metadata": {},
   "outputs": [],
   "source": [
    "import tensorflow as tf\n",
    "\n",
    "tensor_704 = tf.constant(list(range(704)), dtype=tf.float32)\n",
    "tensor_squared_704 = tf.square(tensor_704)\n",
    "tensor_sum_704 = tf.reduce_sum(tensor_squared_704)\n",
    "tensor_mean_704 = tf.reduce_mean(tensor_squared_704)\n",
    "tensor_max_704 = tf.reduce_max(tensor_squared_704)\n",
    "\n",
    "tf.print(\"Cell 704 - TensorFlow\")\n",
    "tf.print(\"Tensor shape:\", tf.shape(tensor_704))\n",
    "tf.print(\"Sum:\", tensor_sum_704)\n",
    "tf.print(\"Mean:\", tensor_mean_704)\n",
    "tf.print(\"Max:\", tensor_max_704)"
   ]
  },
  {
   "cell_type": "code",
   "execution_count": null,
   "id": "9ecd962a",
   "metadata": {},
   "outputs": [],
   "source": [
    "import tensorflow as tf\n",
    "\n",
    "tensor_705 = tf.constant(list(range(705)), dtype=tf.float32)\n",
    "tensor_squared_705 = tf.square(tensor_705)\n",
    "tensor_sum_705 = tf.reduce_sum(tensor_squared_705)\n",
    "tensor_mean_705 = tf.reduce_mean(tensor_squared_705)\n",
    "tensor_max_705 = tf.reduce_max(tensor_squared_705)\n",
    "\n",
    "tf.print(\"Cell 705 - TensorFlow\")\n",
    "tf.print(\"Tensor shape:\", tf.shape(tensor_705))\n",
    "tf.print(\"Sum:\", tensor_sum_705)\n",
    "tf.print(\"Mean:\", tensor_mean_705)\n",
    "tf.print(\"Max:\", tensor_max_705)"
   ]
  },
  {
   "cell_type": "code",
   "execution_count": null,
   "id": "7b6cc9fe",
   "metadata": {},
   "outputs": [],
   "source": [
    "import tensorflow as tf\n",
    "\n",
    "tensor_706 = tf.constant(list(range(706)), dtype=tf.float32)\n",
    "tensor_squared_706 = tf.square(tensor_706)\n",
    "tensor_sum_706 = tf.reduce_sum(tensor_squared_706)\n",
    "tensor_mean_706 = tf.reduce_mean(tensor_squared_706)\n",
    "tensor_max_706 = tf.reduce_max(tensor_squared_706)\n",
    "\n",
    "tf.print(\"Cell 706 - TensorFlow\")\n",
    "tf.print(\"Tensor shape:\", tf.shape(tensor_706))\n",
    "tf.print(\"Sum:\", tensor_sum_706)\n",
    "tf.print(\"Mean:\", tensor_mean_706)\n",
    "tf.print(\"Max:\", tensor_max_706)"
   ]
  },
  {
   "cell_type": "code",
   "execution_count": null,
   "id": "ca92263d",
   "metadata": {},
   "outputs": [],
   "source": [
    "import tensorflow as tf\n",
    "\n",
    "tensor_707 = tf.constant(list(range(707)), dtype=tf.float32)\n",
    "tensor_squared_707 = tf.square(tensor_707)\n",
    "tensor_sum_707 = tf.reduce_sum(tensor_squared_707)\n",
    "tensor_mean_707 = tf.reduce_mean(tensor_squared_707)\n",
    "tensor_max_707 = tf.reduce_max(tensor_squared_707)\n",
    "\n",
    "tf.print(\"Cell 707 - TensorFlow\")\n",
    "tf.print(\"Tensor shape:\", tf.shape(tensor_707))\n",
    "tf.print(\"Sum:\", tensor_sum_707)\n",
    "tf.print(\"Mean:\", tensor_mean_707)\n",
    "tf.print(\"Max:\", tensor_max_707)"
   ]
  },
  {
   "cell_type": "code",
   "execution_count": null,
   "id": "e3f9fb22",
   "metadata": {},
   "outputs": [],
   "source": [
    "import tensorflow as tf\n",
    "\n",
    "tensor_708 = tf.constant(list(range(708)), dtype=tf.float32)\n",
    "tensor_squared_708 = tf.square(tensor_708)\n",
    "tensor_sum_708 = tf.reduce_sum(tensor_squared_708)\n",
    "tensor_mean_708 = tf.reduce_mean(tensor_squared_708)\n",
    "tensor_max_708 = tf.reduce_max(tensor_squared_708)\n",
    "\n",
    "tf.print(\"Cell 708 - TensorFlow\")\n",
    "tf.print(\"Tensor shape:\", tf.shape(tensor_708))\n",
    "tf.print(\"Sum:\", tensor_sum_708)\n",
    "tf.print(\"Mean:\", tensor_mean_708)\n",
    "tf.print(\"Max:\", tensor_max_708)"
   ]
  },
  {
   "cell_type": "code",
   "execution_count": null,
   "id": "9f1ccc30",
   "metadata": {},
   "outputs": [],
   "source": [
    "import tensorflow as tf\n",
    "\n",
    "tensor_709 = tf.constant(list(range(709)), dtype=tf.float32)\n",
    "tensor_squared_709 = tf.square(tensor_709)\n",
    "tensor_sum_709 = tf.reduce_sum(tensor_squared_709)\n",
    "tensor_mean_709 = tf.reduce_mean(tensor_squared_709)\n",
    "tensor_max_709 = tf.reduce_max(tensor_squared_709)\n",
    "\n",
    "tf.print(\"Cell 709 - TensorFlow\")\n",
    "tf.print(\"Tensor shape:\", tf.shape(tensor_709))\n",
    "tf.print(\"Sum:\", tensor_sum_709)\n",
    "tf.print(\"Mean:\", tensor_mean_709)\n",
    "tf.print(\"Max:\", tensor_max_709)"
   ]
  },
  {
   "cell_type": "code",
   "execution_count": null,
   "id": "17fd90b1",
   "metadata": {},
   "outputs": [],
   "source": [
    "import tensorflow as tf\n",
    "\n",
    "tensor_710 = tf.constant(list(range(710)), dtype=tf.float32)\n",
    "tensor_squared_710 = tf.square(tensor_710)\n",
    "tensor_sum_710 = tf.reduce_sum(tensor_squared_710)\n",
    "tensor_mean_710 = tf.reduce_mean(tensor_squared_710)\n",
    "tensor_max_710 = tf.reduce_max(tensor_squared_710)\n",
    "\n",
    "tf.print(\"Cell 710 - TensorFlow\")\n",
    "tf.print(\"Tensor shape:\", tf.shape(tensor_710))\n",
    "tf.print(\"Sum:\", tensor_sum_710)\n",
    "tf.print(\"Mean:\", tensor_mean_710)\n",
    "tf.print(\"Max:\", tensor_max_710)"
   ]
  },
  {
   "cell_type": "code",
   "execution_count": null,
   "id": "1e242efc",
   "metadata": {},
   "outputs": [],
   "source": [
    "import tensorflow as tf\n",
    "\n",
    "tensor_711 = tf.constant(list(range(711)), dtype=tf.float32)\n",
    "tensor_squared_711 = tf.square(tensor_711)\n",
    "tensor_sum_711 = tf.reduce_sum(tensor_squared_711)\n",
    "tensor_mean_711 = tf.reduce_mean(tensor_squared_711)\n",
    "tensor_max_711 = tf.reduce_max(tensor_squared_711)\n",
    "\n",
    "tf.print(\"Cell 711 - TensorFlow\")\n",
    "tf.print(\"Tensor shape:\", tf.shape(tensor_711))\n",
    "tf.print(\"Sum:\", tensor_sum_711)\n",
    "tf.print(\"Mean:\", tensor_mean_711)\n",
    "tf.print(\"Max:\", tensor_max_711)"
   ]
  },
  {
   "cell_type": "code",
   "execution_count": null,
   "id": "1e326d8c",
   "metadata": {},
   "outputs": [],
   "source": [
    "import tensorflow as tf\n",
    "\n",
    "tensor_712 = tf.constant(list(range(712)), dtype=tf.float32)\n",
    "tensor_squared_712 = tf.square(tensor_712)\n",
    "tensor_sum_712 = tf.reduce_sum(tensor_squared_712)\n",
    "tensor_mean_712 = tf.reduce_mean(tensor_squared_712)\n",
    "tensor_max_712 = tf.reduce_max(tensor_squared_712)\n",
    "\n",
    "tf.print(\"Cell 712 - TensorFlow\")\n",
    "tf.print(\"Tensor shape:\", tf.shape(tensor_712))\n",
    "tf.print(\"Sum:\", tensor_sum_712)\n",
    "tf.print(\"Mean:\", tensor_mean_712)\n",
    "tf.print(\"Max:\", tensor_max_712)"
   ]
  },
  {
   "cell_type": "code",
   "execution_count": null,
   "id": "11797129",
   "metadata": {},
   "outputs": [],
   "source": [
    "import tensorflow as tf\n",
    "\n",
    "tensor_713 = tf.constant(list(range(713)), dtype=tf.float32)\n",
    "tensor_squared_713 = tf.square(tensor_713)\n",
    "tensor_sum_713 = tf.reduce_sum(tensor_squared_713)\n",
    "tensor_mean_713 = tf.reduce_mean(tensor_squared_713)\n",
    "tensor_max_713 = tf.reduce_max(tensor_squared_713)\n",
    "\n",
    "tf.print(\"Cell 713 - TensorFlow\")\n",
    "tf.print(\"Tensor shape:\", tf.shape(tensor_713))\n",
    "tf.print(\"Sum:\", tensor_sum_713)\n",
    "tf.print(\"Mean:\", tensor_mean_713)\n",
    "tf.print(\"Max:\", tensor_max_713)"
   ]
  },
  {
   "cell_type": "code",
   "execution_count": null,
   "id": "8c67a2cc",
   "metadata": {},
   "outputs": [],
   "source": [
    "import tensorflow as tf\n",
    "\n",
    "tensor_714 = tf.constant(list(range(714)), dtype=tf.float32)\n",
    "tensor_squared_714 = tf.square(tensor_714)\n",
    "tensor_sum_714 = tf.reduce_sum(tensor_squared_714)\n",
    "tensor_mean_714 = tf.reduce_mean(tensor_squared_714)\n",
    "tensor_max_714 = tf.reduce_max(tensor_squared_714)\n",
    "\n",
    "tf.print(\"Cell 714 - TensorFlow\")\n",
    "tf.print(\"Tensor shape:\", tf.shape(tensor_714))\n",
    "tf.print(\"Sum:\", tensor_sum_714)\n",
    "tf.print(\"Mean:\", tensor_mean_714)\n",
    "tf.print(\"Max:\", tensor_max_714)"
   ]
  },
  {
   "cell_type": "code",
   "execution_count": null,
   "id": "5c8b1629",
   "metadata": {},
   "outputs": [],
   "source": [
    "import tensorflow as tf\n",
    "\n",
    "tensor_715 = tf.constant(list(range(715)), dtype=tf.float32)\n",
    "tensor_squared_715 = tf.square(tensor_715)\n",
    "tensor_sum_715 = tf.reduce_sum(tensor_squared_715)\n",
    "tensor_mean_715 = tf.reduce_mean(tensor_squared_715)\n",
    "tensor_max_715 = tf.reduce_max(tensor_squared_715)\n",
    "\n",
    "tf.print(\"Cell 715 - TensorFlow\")\n",
    "tf.print(\"Tensor shape:\", tf.shape(tensor_715))\n",
    "tf.print(\"Sum:\", tensor_sum_715)\n",
    "tf.print(\"Mean:\", tensor_mean_715)\n",
    "tf.print(\"Max:\", tensor_max_715)"
   ]
  },
  {
   "cell_type": "code",
   "execution_count": null,
   "id": "475c4736",
   "metadata": {},
   "outputs": [],
   "source": [
    "import tensorflow as tf\n",
    "\n",
    "tensor_716 = tf.constant(list(range(716)), dtype=tf.float32)\n",
    "tensor_squared_716 = tf.square(tensor_716)\n",
    "tensor_sum_716 = tf.reduce_sum(tensor_squared_716)\n",
    "tensor_mean_716 = tf.reduce_mean(tensor_squared_716)\n",
    "tensor_max_716 = tf.reduce_max(tensor_squared_716)\n",
    "\n",
    "tf.print(\"Cell 716 - TensorFlow\")\n",
    "tf.print(\"Tensor shape:\", tf.shape(tensor_716))\n",
    "tf.print(\"Sum:\", tensor_sum_716)\n",
    "tf.print(\"Mean:\", tensor_mean_716)\n",
    "tf.print(\"Max:\", tensor_max_716)"
   ]
  },
  {
   "cell_type": "code",
   "execution_count": null,
   "id": "e8cd252e",
   "metadata": {},
   "outputs": [],
   "source": [
    "import tensorflow as tf\n",
    "\n",
    "tensor_717 = tf.constant(list(range(717)), dtype=tf.float32)\n",
    "tensor_squared_717 = tf.square(tensor_717)\n",
    "tensor_sum_717 = tf.reduce_sum(tensor_squared_717)\n",
    "tensor_mean_717 = tf.reduce_mean(tensor_squared_717)\n",
    "tensor_max_717 = tf.reduce_max(tensor_squared_717)\n",
    "\n",
    "tf.print(\"Cell 717 - TensorFlow\")\n",
    "tf.print(\"Tensor shape:\", tf.shape(tensor_717))\n",
    "tf.print(\"Sum:\", tensor_sum_717)\n",
    "tf.print(\"Mean:\", tensor_mean_717)\n",
    "tf.print(\"Max:\", tensor_max_717)"
   ]
  },
  {
   "cell_type": "code",
   "execution_count": null,
   "id": "80d027eb",
   "metadata": {},
   "outputs": [],
   "source": [
    "import tensorflow as tf\n",
    "\n",
    "tensor_718 = tf.constant(list(range(718)), dtype=tf.float32)\n",
    "tensor_squared_718 = tf.square(tensor_718)\n",
    "tensor_sum_718 = tf.reduce_sum(tensor_squared_718)\n",
    "tensor_mean_718 = tf.reduce_mean(tensor_squared_718)\n",
    "tensor_max_718 = tf.reduce_max(tensor_squared_718)\n",
    "\n",
    "tf.print(\"Cell 718 - TensorFlow\")\n",
    "tf.print(\"Tensor shape:\", tf.shape(tensor_718))\n",
    "tf.print(\"Sum:\", tensor_sum_718)\n",
    "tf.print(\"Mean:\", tensor_mean_718)\n",
    "tf.print(\"Max:\", tensor_max_718)"
   ]
  },
  {
   "cell_type": "code",
   "execution_count": null,
   "id": "8df7504e",
   "metadata": {},
   "outputs": [],
   "source": [
    "import tensorflow as tf\n",
    "\n",
    "tensor_719 = tf.constant(list(range(719)), dtype=tf.float32)\n",
    "tensor_squared_719 = tf.square(tensor_719)\n",
    "tensor_sum_719 = tf.reduce_sum(tensor_squared_719)\n",
    "tensor_mean_719 = tf.reduce_mean(tensor_squared_719)\n",
    "tensor_max_719 = tf.reduce_max(tensor_squared_719)\n",
    "\n",
    "tf.print(\"Cell 719 - TensorFlow\")\n",
    "tf.print(\"Tensor shape:\", tf.shape(tensor_719))\n",
    "tf.print(\"Sum:\", tensor_sum_719)\n",
    "tf.print(\"Mean:\", tensor_mean_719)\n",
    "tf.print(\"Max:\", tensor_max_719)"
   ]
  },
  {
   "cell_type": "code",
   "execution_count": null,
   "id": "9c7c77a1",
   "metadata": {},
   "outputs": [],
   "source": [
    "import tensorflow as tf\n",
    "\n",
    "tensor_720 = tf.constant(list(range(720)), dtype=tf.float32)\n",
    "tensor_squared_720 = tf.square(tensor_720)\n",
    "tensor_sum_720 = tf.reduce_sum(tensor_squared_720)\n",
    "tensor_mean_720 = tf.reduce_mean(tensor_squared_720)\n",
    "tensor_max_720 = tf.reduce_max(tensor_squared_720)\n",
    "\n",
    "tf.print(\"Cell 720 - TensorFlow\")\n",
    "tf.print(\"Tensor shape:\", tf.shape(tensor_720))\n",
    "tf.print(\"Sum:\", tensor_sum_720)\n",
    "tf.print(\"Mean:\", tensor_mean_720)\n",
    "tf.print(\"Max:\", tensor_max_720)"
   ]
  },
  {
   "cell_type": "code",
   "execution_count": null,
   "id": "63df9305",
   "metadata": {},
   "outputs": [],
   "source": [
    "import tensorflow as tf\n",
    "\n",
    "tensor_721 = tf.constant(list(range(721)), dtype=tf.float32)\n",
    "tensor_squared_721 = tf.square(tensor_721)\n",
    "tensor_sum_721 = tf.reduce_sum(tensor_squared_721)\n",
    "tensor_mean_721 = tf.reduce_mean(tensor_squared_721)\n",
    "tensor_max_721 = tf.reduce_max(tensor_squared_721)\n",
    "\n",
    "tf.print(\"Cell 721 - TensorFlow\")\n",
    "tf.print(\"Tensor shape:\", tf.shape(tensor_721))\n",
    "tf.print(\"Sum:\", tensor_sum_721)\n",
    "tf.print(\"Mean:\", tensor_mean_721)\n",
    "tf.print(\"Max:\", tensor_max_721)"
   ]
  },
  {
   "cell_type": "code",
   "execution_count": null,
   "id": "8626e8f2",
   "metadata": {},
   "outputs": [],
   "source": [
    "import tensorflow as tf\n",
    "\n",
    "tensor_722 = tf.constant(list(range(722)), dtype=tf.float32)\n",
    "tensor_squared_722 = tf.square(tensor_722)\n",
    "tensor_sum_722 = tf.reduce_sum(tensor_squared_722)\n",
    "tensor_mean_722 = tf.reduce_mean(tensor_squared_722)\n",
    "tensor_max_722 = tf.reduce_max(tensor_squared_722)\n",
    "\n",
    "tf.print(\"Cell 722 - TensorFlow\")\n",
    "tf.print(\"Tensor shape:\", tf.shape(tensor_722))\n",
    "tf.print(\"Sum:\", tensor_sum_722)\n",
    "tf.print(\"Mean:\", tensor_mean_722)\n",
    "tf.print(\"Max:\", tensor_max_722)"
   ]
  },
  {
   "cell_type": "code",
   "execution_count": null,
   "id": "08a9373c",
   "metadata": {},
   "outputs": [],
   "source": [
    "import tensorflow as tf\n",
    "\n",
    "tensor_723 = tf.constant(list(range(723)), dtype=tf.float32)\n",
    "tensor_squared_723 = tf.square(tensor_723)\n",
    "tensor_sum_723 = tf.reduce_sum(tensor_squared_723)\n",
    "tensor_mean_723 = tf.reduce_mean(tensor_squared_723)\n",
    "tensor_max_723 = tf.reduce_max(tensor_squared_723)\n",
    "\n",
    "tf.print(\"Cell 723 - TensorFlow\")\n",
    "tf.print(\"Tensor shape:\", tf.shape(tensor_723))\n",
    "tf.print(\"Sum:\", tensor_sum_723)\n",
    "tf.print(\"Mean:\", tensor_mean_723)\n",
    "tf.print(\"Max:\", tensor_max_723)"
   ]
  },
  {
   "cell_type": "code",
   "execution_count": null,
   "id": "20750e31",
   "metadata": {},
   "outputs": [],
   "source": [
    "import tensorflow as tf\n",
    "\n",
    "tensor_724 = tf.constant(list(range(724)), dtype=tf.float32)\n",
    "tensor_squared_724 = tf.square(tensor_724)\n",
    "tensor_sum_724 = tf.reduce_sum(tensor_squared_724)\n",
    "tensor_mean_724 = tf.reduce_mean(tensor_squared_724)\n",
    "tensor_max_724 = tf.reduce_max(tensor_squared_724)\n",
    "\n",
    "tf.print(\"Cell 724 - TensorFlow\")\n",
    "tf.print(\"Tensor shape:\", tf.shape(tensor_724))\n",
    "tf.print(\"Sum:\", tensor_sum_724)\n",
    "tf.print(\"Mean:\", tensor_mean_724)\n",
    "tf.print(\"Max:\", tensor_max_724)"
   ]
  },
  {
   "cell_type": "code",
   "execution_count": null,
   "id": "49e94178",
   "metadata": {},
   "outputs": [],
   "source": [
    "import tensorflow as tf\n",
    "\n",
    "tensor_725 = tf.constant(list(range(725)), dtype=tf.float32)\n",
    "tensor_squared_725 = tf.square(tensor_725)\n",
    "tensor_sum_725 = tf.reduce_sum(tensor_squared_725)\n",
    "tensor_mean_725 = tf.reduce_mean(tensor_squared_725)\n",
    "tensor_max_725 = tf.reduce_max(tensor_squared_725)\n",
    "\n",
    "tf.print(\"Cell 725 - TensorFlow\")\n",
    "tf.print(\"Tensor shape:\", tf.shape(tensor_725))\n",
    "tf.print(\"Sum:\", tensor_sum_725)\n",
    "tf.print(\"Mean:\", tensor_mean_725)\n",
    "tf.print(\"Max:\", tensor_max_725)"
   ]
  },
  {
   "cell_type": "code",
   "execution_count": null,
   "id": "c575191a",
   "metadata": {},
   "outputs": [],
   "source": [
    "import tensorflow as tf\n",
    "\n",
    "tensor_726 = tf.constant(list(range(726)), dtype=tf.float32)\n",
    "tensor_squared_726 = tf.square(tensor_726)\n",
    "tensor_sum_726 = tf.reduce_sum(tensor_squared_726)\n",
    "tensor_mean_726 = tf.reduce_mean(tensor_squared_726)\n",
    "tensor_max_726 = tf.reduce_max(tensor_squared_726)\n",
    "\n",
    "tf.print(\"Cell 726 - TensorFlow\")\n",
    "tf.print(\"Tensor shape:\", tf.shape(tensor_726))\n",
    "tf.print(\"Sum:\", tensor_sum_726)\n",
    "tf.print(\"Mean:\", tensor_mean_726)\n",
    "tf.print(\"Max:\", tensor_max_726)"
   ]
  },
  {
   "cell_type": "code",
   "execution_count": null,
   "id": "a88c5bb2",
   "metadata": {},
   "outputs": [],
   "source": [
    "import tensorflow as tf\n",
    "\n",
    "tensor_727 = tf.constant(list(range(727)), dtype=tf.float32)\n",
    "tensor_squared_727 = tf.square(tensor_727)\n",
    "tensor_sum_727 = tf.reduce_sum(tensor_squared_727)\n",
    "tensor_mean_727 = tf.reduce_mean(tensor_squared_727)\n",
    "tensor_max_727 = tf.reduce_max(tensor_squared_727)\n",
    "\n",
    "tf.print(\"Cell 727 - TensorFlow\")\n",
    "tf.print(\"Tensor shape:\", tf.shape(tensor_727))\n",
    "tf.print(\"Sum:\", tensor_sum_727)\n",
    "tf.print(\"Mean:\", tensor_mean_727)\n",
    "tf.print(\"Max:\", tensor_max_727)"
   ]
  },
  {
   "cell_type": "code",
   "execution_count": null,
   "id": "11445797",
   "metadata": {},
   "outputs": [],
   "source": [
    "import tensorflow as tf\n",
    "\n",
    "tensor_728 = tf.constant(list(range(728)), dtype=tf.float32)\n",
    "tensor_squared_728 = tf.square(tensor_728)\n",
    "tensor_sum_728 = tf.reduce_sum(tensor_squared_728)\n",
    "tensor_mean_728 = tf.reduce_mean(tensor_squared_728)\n",
    "tensor_max_728 = tf.reduce_max(tensor_squared_728)\n",
    "\n",
    "tf.print(\"Cell 728 - TensorFlow\")\n",
    "tf.print(\"Tensor shape:\", tf.shape(tensor_728))\n",
    "tf.print(\"Sum:\", tensor_sum_728)\n",
    "tf.print(\"Mean:\", tensor_mean_728)\n",
    "tf.print(\"Max:\", tensor_max_728)"
   ]
  },
  {
   "cell_type": "code",
   "execution_count": null,
   "id": "4af25d05",
   "metadata": {},
   "outputs": [],
   "source": [
    "import tensorflow as tf\n",
    "\n",
    "tensor_729 = tf.constant(list(range(729)), dtype=tf.float32)\n",
    "tensor_squared_729 = tf.square(tensor_729)\n",
    "tensor_sum_729 = tf.reduce_sum(tensor_squared_729)\n",
    "tensor_mean_729 = tf.reduce_mean(tensor_squared_729)\n",
    "tensor_max_729 = tf.reduce_max(tensor_squared_729)\n",
    "\n",
    "tf.print(\"Cell 729 - TensorFlow\")\n",
    "tf.print(\"Tensor shape:\", tf.shape(tensor_729))\n",
    "tf.print(\"Sum:\", tensor_sum_729)\n",
    "tf.print(\"Mean:\", tensor_mean_729)\n",
    "tf.print(\"Max:\", tensor_max_729)"
   ]
  },
  {
   "cell_type": "code",
   "execution_count": null,
   "id": "4a468f30",
   "metadata": {},
   "outputs": [],
   "source": [
    "import tensorflow as tf\n",
    "\n",
    "tensor_730 = tf.constant(list(range(730)), dtype=tf.float32)\n",
    "tensor_squared_730 = tf.square(tensor_730)\n",
    "tensor_sum_730 = tf.reduce_sum(tensor_squared_730)\n",
    "tensor_mean_730 = tf.reduce_mean(tensor_squared_730)\n",
    "tensor_max_730 = tf.reduce_max(tensor_squared_730)\n",
    "\n",
    "tf.print(\"Cell 730 - TensorFlow\")\n",
    "tf.print(\"Tensor shape:\", tf.shape(tensor_730))\n",
    "tf.print(\"Sum:\", tensor_sum_730)\n",
    "tf.print(\"Mean:\", tensor_mean_730)\n",
    "tf.print(\"Max:\", tensor_max_730)"
   ]
  },
  {
   "cell_type": "code",
   "execution_count": null,
   "id": "2d5d044e",
   "metadata": {},
   "outputs": [],
   "source": [
    "import tensorflow as tf\n",
    "\n",
    "tensor_731 = tf.constant(list(range(731)), dtype=tf.float32)\n",
    "tensor_squared_731 = tf.square(tensor_731)\n",
    "tensor_sum_731 = tf.reduce_sum(tensor_squared_731)\n",
    "tensor_mean_731 = tf.reduce_mean(tensor_squared_731)\n",
    "tensor_max_731 = tf.reduce_max(tensor_squared_731)\n",
    "\n",
    "tf.print(\"Cell 731 - TensorFlow\")\n",
    "tf.print(\"Tensor shape:\", tf.shape(tensor_731))\n",
    "tf.print(\"Sum:\", tensor_sum_731)\n",
    "tf.print(\"Mean:\", tensor_mean_731)\n",
    "tf.print(\"Max:\", tensor_max_731)"
   ]
  },
  {
   "cell_type": "code",
   "execution_count": null,
   "id": "236c10de",
   "metadata": {},
   "outputs": [],
   "source": [
    "import tensorflow as tf\n",
    "\n",
    "tensor_732 = tf.constant(list(range(732)), dtype=tf.float32)\n",
    "tensor_squared_732 = tf.square(tensor_732)\n",
    "tensor_sum_732 = tf.reduce_sum(tensor_squared_732)\n",
    "tensor_mean_732 = tf.reduce_mean(tensor_squared_732)\n",
    "tensor_max_732 = tf.reduce_max(tensor_squared_732)\n",
    "\n",
    "tf.print(\"Cell 732 - TensorFlow\")\n",
    "tf.print(\"Tensor shape:\", tf.shape(tensor_732))\n",
    "tf.print(\"Sum:\", tensor_sum_732)\n",
    "tf.print(\"Mean:\", tensor_mean_732)\n",
    "tf.print(\"Max:\", tensor_max_732)"
   ]
  },
  {
   "cell_type": "code",
   "execution_count": null,
   "id": "df53024c",
   "metadata": {},
   "outputs": [],
   "source": [
    "import tensorflow as tf\n",
    "\n",
    "tensor_733 = tf.constant(list(range(733)), dtype=tf.float32)\n",
    "tensor_squared_733 = tf.square(tensor_733)\n",
    "tensor_sum_733 = tf.reduce_sum(tensor_squared_733)\n",
    "tensor_mean_733 = tf.reduce_mean(tensor_squared_733)\n",
    "tensor_max_733 = tf.reduce_max(tensor_squared_733)\n",
    "\n",
    "tf.print(\"Cell 733 - TensorFlow\")\n",
    "tf.print(\"Tensor shape:\", tf.shape(tensor_733))\n",
    "tf.print(\"Sum:\", tensor_sum_733)\n",
    "tf.print(\"Mean:\", tensor_mean_733)\n",
    "tf.print(\"Max:\", tensor_max_733)"
   ]
  },
  {
   "cell_type": "code",
   "execution_count": null,
   "id": "53dceff1",
   "metadata": {},
   "outputs": [],
   "source": [
    "import tensorflow as tf\n",
    "\n",
    "tensor_734 = tf.constant(list(range(734)), dtype=tf.float32)\n",
    "tensor_squared_734 = tf.square(tensor_734)\n",
    "tensor_sum_734 = tf.reduce_sum(tensor_squared_734)\n",
    "tensor_mean_734 = tf.reduce_mean(tensor_squared_734)\n",
    "tensor_max_734 = tf.reduce_max(tensor_squared_734)\n",
    "\n",
    "tf.print(\"Cell 734 - TensorFlow\")\n",
    "tf.print(\"Tensor shape:\", tf.shape(tensor_734))\n",
    "tf.print(\"Sum:\", tensor_sum_734)\n",
    "tf.print(\"Mean:\", tensor_mean_734)\n",
    "tf.print(\"Max:\", tensor_max_734)"
   ]
  },
  {
   "cell_type": "code",
   "execution_count": null,
   "id": "6ab2bc92",
   "metadata": {},
   "outputs": [],
   "source": [
    "import tensorflow as tf\n",
    "\n",
    "tensor_735 = tf.constant(list(range(735)), dtype=tf.float32)\n",
    "tensor_squared_735 = tf.square(tensor_735)\n",
    "tensor_sum_735 = tf.reduce_sum(tensor_squared_735)\n",
    "tensor_mean_735 = tf.reduce_mean(tensor_squared_735)\n",
    "tensor_max_735 = tf.reduce_max(tensor_squared_735)\n",
    "\n",
    "tf.print(\"Cell 735 - TensorFlow\")\n",
    "tf.print(\"Tensor shape:\", tf.shape(tensor_735))\n",
    "tf.print(\"Sum:\", tensor_sum_735)\n",
    "tf.print(\"Mean:\", tensor_mean_735)\n",
    "tf.print(\"Max:\", tensor_max_735)"
   ]
  },
  {
   "cell_type": "code",
   "execution_count": null,
   "id": "de8de787",
   "metadata": {},
   "outputs": [],
   "source": [
    "import tensorflow as tf\n",
    "\n",
    "tensor_736 = tf.constant(list(range(736)), dtype=tf.float32)\n",
    "tensor_squared_736 = tf.square(tensor_736)\n",
    "tensor_sum_736 = tf.reduce_sum(tensor_squared_736)\n",
    "tensor_mean_736 = tf.reduce_mean(tensor_squared_736)\n",
    "tensor_max_736 = tf.reduce_max(tensor_squared_736)\n",
    "\n",
    "tf.print(\"Cell 736 - TensorFlow\")\n",
    "tf.print(\"Tensor shape:\", tf.shape(tensor_736))\n",
    "tf.print(\"Sum:\", tensor_sum_736)\n",
    "tf.print(\"Mean:\", tensor_mean_736)\n",
    "tf.print(\"Max:\", tensor_max_736)"
   ]
  },
  {
   "cell_type": "code",
   "execution_count": null,
   "id": "45180c45",
   "metadata": {},
   "outputs": [],
   "source": [
    "import tensorflow as tf\n",
    "\n",
    "tensor_737 = tf.constant(list(range(737)), dtype=tf.float32)\n",
    "tensor_squared_737 = tf.square(tensor_737)\n",
    "tensor_sum_737 = tf.reduce_sum(tensor_squared_737)\n",
    "tensor_mean_737 = tf.reduce_mean(tensor_squared_737)\n",
    "tensor_max_737 = tf.reduce_max(tensor_squared_737)\n",
    "\n",
    "tf.print(\"Cell 737 - TensorFlow\")\n",
    "tf.print(\"Tensor shape:\", tf.shape(tensor_737))\n",
    "tf.print(\"Sum:\", tensor_sum_737)\n",
    "tf.print(\"Mean:\", tensor_mean_737)\n",
    "tf.print(\"Max:\", tensor_max_737)"
   ]
  },
  {
   "cell_type": "code",
   "execution_count": null,
   "id": "394877e1",
   "metadata": {},
   "outputs": [],
   "source": [
    "import tensorflow as tf\n",
    "\n",
    "tensor_738 = tf.constant(list(range(738)), dtype=tf.float32)\n",
    "tensor_squared_738 = tf.square(tensor_738)\n",
    "tensor_sum_738 = tf.reduce_sum(tensor_squared_738)\n",
    "tensor_mean_738 = tf.reduce_mean(tensor_squared_738)\n",
    "tensor_max_738 = tf.reduce_max(tensor_squared_738)\n",
    "\n",
    "tf.print(\"Cell 738 - TensorFlow\")\n",
    "tf.print(\"Tensor shape:\", tf.shape(tensor_738))\n",
    "tf.print(\"Sum:\", tensor_sum_738)\n",
    "tf.print(\"Mean:\", tensor_mean_738)\n",
    "tf.print(\"Max:\", tensor_max_738)"
   ]
  },
  {
   "cell_type": "code",
   "execution_count": null,
   "id": "2fffeacc",
   "metadata": {},
   "outputs": [],
   "source": [
    "import tensorflow as tf\n",
    "\n",
    "tensor_739 = tf.constant(list(range(739)), dtype=tf.float32)\n",
    "tensor_squared_739 = tf.square(tensor_739)\n",
    "tensor_sum_739 = tf.reduce_sum(tensor_squared_739)\n",
    "tensor_mean_739 = tf.reduce_mean(tensor_squared_739)\n",
    "tensor_max_739 = tf.reduce_max(tensor_squared_739)\n",
    "\n",
    "tf.print(\"Cell 739 - TensorFlow\")\n",
    "tf.print(\"Tensor shape:\", tf.shape(tensor_739))\n",
    "tf.print(\"Sum:\", tensor_sum_739)\n",
    "tf.print(\"Mean:\", tensor_mean_739)\n",
    "tf.print(\"Max:\", tensor_max_739)"
   ]
  },
  {
   "cell_type": "code",
   "execution_count": null,
   "id": "fdf67d56",
   "metadata": {},
   "outputs": [],
   "source": [
    "import tensorflow as tf\n",
    "\n",
    "tensor_740 = tf.constant(list(range(740)), dtype=tf.float32)\n",
    "tensor_squared_740 = tf.square(tensor_740)\n",
    "tensor_sum_740 = tf.reduce_sum(tensor_squared_740)\n",
    "tensor_mean_740 = tf.reduce_mean(tensor_squared_740)\n",
    "tensor_max_740 = tf.reduce_max(tensor_squared_740)\n",
    "\n",
    "tf.print(\"Cell 740 - TensorFlow\")\n",
    "tf.print(\"Tensor shape:\", tf.shape(tensor_740))\n",
    "tf.print(\"Sum:\", tensor_sum_740)\n",
    "tf.print(\"Mean:\", tensor_mean_740)\n",
    "tf.print(\"Max:\", tensor_max_740)"
   ]
  },
  {
   "cell_type": "code",
   "execution_count": null,
   "id": "e9ee186f",
   "metadata": {},
   "outputs": [],
   "source": [
    "import tensorflow as tf\n",
    "\n",
    "tensor_741 = tf.constant(list(range(741)), dtype=tf.float32)\n",
    "tensor_squared_741 = tf.square(tensor_741)\n",
    "tensor_sum_741 = tf.reduce_sum(tensor_squared_741)\n",
    "tensor_mean_741 = tf.reduce_mean(tensor_squared_741)\n",
    "tensor_max_741 = tf.reduce_max(tensor_squared_741)\n",
    "\n",
    "tf.print(\"Cell 741 - TensorFlow\")\n",
    "tf.print(\"Tensor shape:\", tf.shape(tensor_741))\n",
    "tf.print(\"Sum:\", tensor_sum_741)\n",
    "tf.print(\"Mean:\", tensor_mean_741)\n",
    "tf.print(\"Max:\", tensor_max_741)"
   ]
  },
  {
   "cell_type": "code",
   "execution_count": null,
   "id": "fbd338a3",
   "metadata": {},
   "outputs": [],
   "source": [
    "import tensorflow as tf\n",
    "\n",
    "tensor_742 = tf.constant(list(range(742)), dtype=tf.float32)\n",
    "tensor_squared_742 = tf.square(tensor_742)\n",
    "tensor_sum_742 = tf.reduce_sum(tensor_squared_742)\n",
    "tensor_mean_742 = tf.reduce_mean(tensor_squared_742)\n",
    "tensor_max_742 = tf.reduce_max(tensor_squared_742)\n",
    "\n",
    "tf.print(\"Cell 742 - TensorFlow\")\n",
    "tf.print(\"Tensor shape:\", tf.shape(tensor_742))\n",
    "tf.print(\"Sum:\", tensor_sum_742)\n",
    "tf.print(\"Mean:\", tensor_mean_742)\n",
    "tf.print(\"Max:\", tensor_max_742)"
   ]
  },
  {
   "cell_type": "code",
   "execution_count": null,
   "id": "761e6c81",
   "metadata": {},
   "outputs": [],
   "source": [
    "import tensorflow as tf\n",
    "\n",
    "tensor_743 = tf.constant(list(range(743)), dtype=tf.float32)\n",
    "tensor_squared_743 = tf.square(tensor_743)\n",
    "tensor_sum_743 = tf.reduce_sum(tensor_squared_743)\n",
    "tensor_mean_743 = tf.reduce_mean(tensor_squared_743)\n",
    "tensor_max_743 = tf.reduce_max(tensor_squared_743)\n",
    "\n",
    "tf.print(\"Cell 743 - TensorFlow\")\n",
    "tf.print(\"Tensor shape:\", tf.shape(tensor_743))\n",
    "tf.print(\"Sum:\", tensor_sum_743)\n",
    "tf.print(\"Mean:\", tensor_mean_743)\n",
    "tf.print(\"Max:\", tensor_max_743)"
   ]
  },
  {
   "cell_type": "code",
   "execution_count": null,
   "id": "4f0eb3a2",
   "metadata": {},
   "outputs": [],
   "source": [
    "import tensorflow as tf\n",
    "\n",
    "tensor_744 = tf.constant(list(range(744)), dtype=tf.float32)\n",
    "tensor_squared_744 = tf.square(tensor_744)\n",
    "tensor_sum_744 = tf.reduce_sum(tensor_squared_744)\n",
    "tensor_mean_744 = tf.reduce_mean(tensor_squared_744)\n",
    "tensor_max_744 = tf.reduce_max(tensor_squared_744)\n",
    "\n",
    "tf.print(\"Cell 744 - TensorFlow\")\n",
    "tf.print(\"Tensor shape:\", tf.shape(tensor_744))\n",
    "tf.print(\"Sum:\", tensor_sum_744)\n",
    "tf.print(\"Mean:\", tensor_mean_744)\n",
    "tf.print(\"Max:\", tensor_max_744)"
   ]
  },
  {
   "cell_type": "code",
   "execution_count": null,
   "id": "e66d7887",
   "metadata": {},
   "outputs": [],
   "source": [
    "import tensorflow as tf\n",
    "\n",
    "tensor_745 = tf.constant(list(range(745)), dtype=tf.float32)\n",
    "tensor_squared_745 = tf.square(tensor_745)\n",
    "tensor_sum_745 = tf.reduce_sum(tensor_squared_745)\n",
    "tensor_mean_745 = tf.reduce_mean(tensor_squared_745)\n",
    "tensor_max_745 = tf.reduce_max(tensor_squared_745)\n",
    "\n",
    "tf.print(\"Cell 745 - TensorFlow\")\n",
    "tf.print(\"Tensor shape:\", tf.shape(tensor_745))\n",
    "tf.print(\"Sum:\", tensor_sum_745)\n",
    "tf.print(\"Mean:\", tensor_mean_745)\n",
    "tf.print(\"Max:\", tensor_max_745)"
   ]
  },
  {
   "cell_type": "code",
   "execution_count": null,
   "id": "a081e407",
   "metadata": {},
   "outputs": [],
   "source": [
    "import tensorflow as tf\n",
    "\n",
    "tensor_746 = tf.constant(list(range(746)), dtype=tf.float32)\n",
    "tensor_squared_746 = tf.square(tensor_746)\n",
    "tensor_sum_746 = tf.reduce_sum(tensor_squared_746)\n",
    "tensor_mean_746 = tf.reduce_mean(tensor_squared_746)\n",
    "tensor_max_746 = tf.reduce_max(tensor_squared_746)\n",
    "\n",
    "tf.print(\"Cell 746 - TensorFlow\")\n",
    "tf.print(\"Tensor shape:\", tf.shape(tensor_746))\n",
    "tf.print(\"Sum:\", tensor_sum_746)\n",
    "tf.print(\"Mean:\", tensor_mean_746)\n",
    "tf.print(\"Max:\", tensor_max_746)"
   ]
  },
  {
   "cell_type": "code",
   "execution_count": null,
   "id": "150a76ba",
   "metadata": {},
   "outputs": [],
   "source": [
    "import tensorflow as tf\n",
    "\n",
    "tensor_747 = tf.constant(list(range(747)), dtype=tf.float32)\n",
    "tensor_squared_747 = tf.square(tensor_747)\n",
    "tensor_sum_747 = tf.reduce_sum(tensor_squared_747)\n",
    "tensor_mean_747 = tf.reduce_mean(tensor_squared_747)\n",
    "tensor_max_747 = tf.reduce_max(tensor_squared_747)\n",
    "\n",
    "tf.print(\"Cell 747 - TensorFlow\")\n",
    "tf.print(\"Tensor shape:\", tf.shape(tensor_747))\n",
    "tf.print(\"Sum:\", tensor_sum_747)\n",
    "tf.print(\"Mean:\", tensor_mean_747)\n",
    "tf.print(\"Max:\", tensor_max_747)"
   ]
  },
  {
   "cell_type": "code",
   "execution_count": null,
   "id": "e10efcda",
   "metadata": {},
   "outputs": [],
   "source": [
    "import tensorflow as tf\n",
    "\n",
    "tensor_748 = tf.constant(list(range(748)), dtype=tf.float32)\n",
    "tensor_squared_748 = tf.square(tensor_748)\n",
    "tensor_sum_748 = tf.reduce_sum(tensor_squared_748)\n",
    "tensor_mean_748 = tf.reduce_mean(tensor_squared_748)\n",
    "tensor_max_748 = tf.reduce_max(tensor_squared_748)\n",
    "\n",
    "tf.print(\"Cell 748 - TensorFlow\")\n",
    "tf.print(\"Tensor shape:\", tf.shape(tensor_748))\n",
    "tf.print(\"Sum:\", tensor_sum_748)\n",
    "tf.print(\"Mean:\", tensor_mean_748)\n",
    "tf.print(\"Max:\", tensor_max_748)"
   ]
  },
  {
   "cell_type": "code",
   "execution_count": null,
   "id": "ebdc21e6",
   "metadata": {},
   "outputs": [],
   "source": [
    "import tensorflow as tf\n",
    "\n",
    "tensor_749 = tf.constant(list(range(749)), dtype=tf.float32)\n",
    "tensor_squared_749 = tf.square(tensor_749)\n",
    "tensor_sum_749 = tf.reduce_sum(tensor_squared_749)\n",
    "tensor_mean_749 = tf.reduce_mean(tensor_squared_749)\n",
    "tensor_max_749 = tf.reduce_max(tensor_squared_749)\n",
    "\n",
    "tf.print(\"Cell 749 - TensorFlow\")\n",
    "tf.print(\"Tensor shape:\", tf.shape(tensor_749))\n",
    "tf.print(\"Sum:\", tensor_sum_749)\n",
    "tf.print(\"Mean:\", tensor_mean_749)\n",
    "tf.print(\"Max:\", tensor_max_749)"
   ]
  },
  {
   "cell_type": "code",
   "execution_count": null,
   "id": "10782ad8",
   "metadata": {},
   "outputs": [],
   "source": [
    "import tensorflow as tf\n",
    "\n",
    "tensor_750 = tf.constant(list(range(750)), dtype=tf.float32)\n",
    "tensor_squared_750 = tf.square(tensor_750)\n",
    "tensor_sum_750 = tf.reduce_sum(tensor_squared_750)\n",
    "tensor_mean_750 = tf.reduce_mean(tensor_squared_750)\n",
    "tensor_max_750 = tf.reduce_max(tensor_squared_750)\n",
    "\n",
    "tf.print(\"Cell 750 - TensorFlow\")\n",
    "tf.print(\"Tensor shape:\", tf.shape(tensor_750))\n",
    "tf.print(\"Sum:\", tensor_sum_750)\n",
    "tf.print(\"Mean:\", tensor_mean_750)\n",
    "tf.print(\"Max:\", tensor_max_750)"
   ]
  },
  {
   "cell_type": "code",
   "execution_count": null,
   "id": "88bfa19b",
   "metadata": {},
   "outputs": [],
   "source": [
    "import tensorflow as tf\n",
    "\n",
    "tensor_751 = tf.constant(list(range(751)), dtype=tf.float32)\n",
    "tensor_squared_751 = tf.square(tensor_751)\n",
    "tensor_sum_751 = tf.reduce_sum(tensor_squared_751)\n",
    "tensor_mean_751 = tf.reduce_mean(tensor_squared_751)\n",
    "tensor_max_751 = tf.reduce_max(tensor_squared_751)\n",
    "\n",
    "tf.print(\"Cell 751 - TensorFlow\")\n",
    "tf.print(\"Tensor shape:\", tf.shape(tensor_751))\n",
    "tf.print(\"Sum:\", tensor_sum_751)\n",
    "tf.print(\"Mean:\", tensor_mean_751)\n",
    "tf.print(\"Max:\", tensor_max_751)"
   ]
  },
  {
   "cell_type": "code",
   "execution_count": null,
   "id": "237d3bf9",
   "metadata": {},
   "outputs": [],
   "source": [
    "import tensorflow as tf\n",
    "\n",
    "tensor_752 = tf.constant(list(range(752)), dtype=tf.float32)\n",
    "tensor_squared_752 = tf.square(tensor_752)\n",
    "tensor_sum_752 = tf.reduce_sum(tensor_squared_752)\n",
    "tensor_mean_752 = tf.reduce_mean(tensor_squared_752)\n",
    "tensor_max_752 = tf.reduce_max(tensor_squared_752)\n",
    "\n",
    "tf.print(\"Cell 752 - TensorFlow\")\n",
    "tf.print(\"Tensor shape:\", tf.shape(tensor_752))\n",
    "tf.print(\"Sum:\", tensor_sum_752)\n",
    "tf.print(\"Mean:\", tensor_mean_752)\n",
    "tf.print(\"Max:\", tensor_max_752)"
   ]
  },
  {
   "cell_type": "code",
   "execution_count": null,
   "id": "598ea693",
   "metadata": {},
   "outputs": [],
   "source": [
    "import tensorflow as tf\n",
    "\n",
    "tensor_753 = tf.constant(list(range(753)), dtype=tf.float32)\n",
    "tensor_squared_753 = tf.square(tensor_753)\n",
    "tensor_sum_753 = tf.reduce_sum(tensor_squared_753)\n",
    "tensor_mean_753 = tf.reduce_mean(tensor_squared_753)\n",
    "tensor_max_753 = tf.reduce_max(tensor_squared_753)\n",
    "\n",
    "tf.print(\"Cell 753 - TensorFlow\")\n",
    "tf.print(\"Tensor shape:\", tf.shape(tensor_753))\n",
    "tf.print(\"Sum:\", tensor_sum_753)\n",
    "tf.print(\"Mean:\", tensor_mean_753)\n",
    "tf.print(\"Max:\", tensor_max_753)"
   ]
  },
  {
   "cell_type": "code",
   "execution_count": null,
   "id": "a1b7237a",
   "metadata": {},
   "outputs": [],
   "source": [
    "import tensorflow as tf\n",
    "\n",
    "tensor_754 = tf.constant(list(range(754)), dtype=tf.float32)\n",
    "tensor_squared_754 = tf.square(tensor_754)\n",
    "tensor_sum_754 = tf.reduce_sum(tensor_squared_754)\n",
    "tensor_mean_754 = tf.reduce_mean(tensor_squared_754)\n",
    "tensor_max_754 = tf.reduce_max(tensor_squared_754)\n",
    "\n",
    "tf.print(\"Cell 754 - TensorFlow\")\n",
    "tf.print(\"Tensor shape:\", tf.shape(tensor_754))\n",
    "tf.print(\"Sum:\", tensor_sum_754)\n",
    "tf.print(\"Mean:\", tensor_mean_754)\n",
    "tf.print(\"Max:\", tensor_max_754)"
   ]
  },
  {
   "cell_type": "code",
   "execution_count": null,
   "id": "6a59e20c",
   "metadata": {},
   "outputs": [],
   "source": [
    "import tensorflow as tf\n",
    "\n",
    "tensor_755 = tf.constant(list(range(755)), dtype=tf.float32)\n",
    "tensor_squared_755 = tf.square(tensor_755)\n",
    "tensor_sum_755 = tf.reduce_sum(tensor_squared_755)\n",
    "tensor_mean_755 = tf.reduce_mean(tensor_squared_755)\n",
    "tensor_max_755 = tf.reduce_max(tensor_squared_755)\n",
    "\n",
    "tf.print(\"Cell 755 - TensorFlow\")\n",
    "tf.print(\"Tensor shape:\", tf.shape(tensor_755))\n",
    "tf.print(\"Sum:\", tensor_sum_755)\n",
    "tf.print(\"Mean:\", tensor_mean_755)\n",
    "tf.print(\"Max:\", tensor_max_755)"
   ]
  },
  {
   "cell_type": "code",
   "execution_count": null,
   "id": "8f85c0f6",
   "metadata": {},
   "outputs": [],
   "source": [
    "import tensorflow as tf\n",
    "\n",
    "tensor_756 = tf.constant(list(range(756)), dtype=tf.float32)\n",
    "tensor_squared_756 = tf.square(tensor_756)\n",
    "tensor_sum_756 = tf.reduce_sum(tensor_squared_756)\n",
    "tensor_mean_756 = tf.reduce_mean(tensor_squared_756)\n",
    "tensor_max_756 = tf.reduce_max(tensor_squared_756)\n",
    "\n",
    "tf.print(\"Cell 756 - TensorFlow\")\n",
    "tf.print(\"Tensor shape:\", tf.shape(tensor_756))\n",
    "tf.print(\"Sum:\", tensor_sum_756)\n",
    "tf.print(\"Mean:\", tensor_mean_756)\n",
    "tf.print(\"Max:\", tensor_max_756)"
   ]
  },
  {
   "cell_type": "code",
   "execution_count": null,
   "id": "f83645e4",
   "metadata": {},
   "outputs": [],
   "source": [
    "import tensorflow as tf\n",
    "\n",
    "tensor_757 = tf.constant(list(range(757)), dtype=tf.float32)\n",
    "tensor_squared_757 = tf.square(tensor_757)\n",
    "tensor_sum_757 = tf.reduce_sum(tensor_squared_757)\n",
    "tensor_mean_757 = tf.reduce_mean(tensor_squared_757)\n",
    "tensor_max_757 = tf.reduce_max(tensor_squared_757)\n",
    "\n",
    "tf.print(\"Cell 757 - TensorFlow\")\n",
    "tf.print(\"Tensor shape:\", tf.shape(tensor_757))\n",
    "tf.print(\"Sum:\", tensor_sum_757)\n",
    "tf.print(\"Mean:\", tensor_mean_757)\n",
    "tf.print(\"Max:\", tensor_max_757)"
   ]
  },
  {
   "cell_type": "code",
   "execution_count": null,
   "id": "70aae2df",
   "metadata": {},
   "outputs": [],
   "source": [
    "import tensorflow as tf\n",
    "\n",
    "tensor_758 = tf.constant(list(range(758)), dtype=tf.float32)\n",
    "tensor_squared_758 = tf.square(tensor_758)\n",
    "tensor_sum_758 = tf.reduce_sum(tensor_squared_758)\n",
    "tensor_mean_758 = tf.reduce_mean(tensor_squared_758)\n",
    "tensor_max_758 = tf.reduce_max(tensor_squared_758)\n",
    "\n",
    "tf.print(\"Cell 758 - TensorFlow\")\n",
    "tf.print(\"Tensor shape:\", tf.shape(tensor_758))\n",
    "tf.print(\"Sum:\", tensor_sum_758)\n",
    "tf.print(\"Mean:\", tensor_mean_758)\n",
    "tf.print(\"Max:\", tensor_max_758)"
   ]
  },
  {
   "cell_type": "code",
   "execution_count": null,
   "id": "c0d6e628",
   "metadata": {},
   "outputs": [],
   "source": [
    "import tensorflow as tf\n",
    "\n",
    "tensor_759 = tf.constant(list(range(759)), dtype=tf.float32)\n",
    "tensor_squared_759 = tf.square(tensor_759)\n",
    "tensor_sum_759 = tf.reduce_sum(tensor_squared_759)\n",
    "tensor_mean_759 = tf.reduce_mean(tensor_squared_759)\n",
    "tensor_max_759 = tf.reduce_max(tensor_squared_759)\n",
    "\n",
    "tf.print(\"Cell 759 - TensorFlow\")\n",
    "tf.print(\"Tensor shape:\", tf.shape(tensor_759))\n",
    "tf.print(\"Sum:\", tensor_sum_759)\n",
    "tf.print(\"Mean:\", tensor_mean_759)\n",
    "tf.print(\"Max:\", tensor_max_759)"
   ]
  },
  {
   "cell_type": "code",
   "execution_count": null,
   "id": "f27c923c",
   "metadata": {},
   "outputs": [],
   "source": [
    "import tensorflow as tf\n",
    "\n",
    "tensor_760 = tf.constant(list(range(760)), dtype=tf.float32)\n",
    "tensor_squared_760 = tf.square(tensor_760)\n",
    "tensor_sum_760 = tf.reduce_sum(tensor_squared_760)\n",
    "tensor_mean_760 = tf.reduce_mean(tensor_squared_760)\n",
    "tensor_max_760 = tf.reduce_max(tensor_squared_760)\n",
    "\n",
    "tf.print(\"Cell 760 - TensorFlow\")\n",
    "tf.print(\"Tensor shape:\", tf.shape(tensor_760))\n",
    "tf.print(\"Sum:\", tensor_sum_760)\n",
    "tf.print(\"Mean:\", tensor_mean_760)\n",
    "tf.print(\"Max:\", tensor_max_760)"
   ]
  },
  {
   "cell_type": "code",
   "execution_count": null,
   "id": "79af5b6c",
   "metadata": {},
   "outputs": [],
   "source": [
    "import tensorflow as tf\n",
    "\n",
    "tensor_761 = tf.constant(list(range(761)), dtype=tf.float32)\n",
    "tensor_squared_761 = tf.square(tensor_761)\n",
    "tensor_sum_761 = tf.reduce_sum(tensor_squared_761)\n",
    "tensor_mean_761 = tf.reduce_mean(tensor_squared_761)\n",
    "tensor_max_761 = tf.reduce_max(tensor_squared_761)\n",
    "\n",
    "tf.print(\"Cell 761 - TensorFlow\")\n",
    "tf.print(\"Tensor shape:\", tf.shape(tensor_761))\n",
    "tf.print(\"Sum:\", tensor_sum_761)\n",
    "tf.print(\"Mean:\", tensor_mean_761)\n",
    "tf.print(\"Max:\", tensor_max_761)"
   ]
  },
  {
   "cell_type": "code",
   "execution_count": null,
   "id": "7873a1da",
   "metadata": {},
   "outputs": [],
   "source": [
    "import tensorflow as tf\n",
    "\n",
    "tensor_762 = tf.constant(list(range(762)), dtype=tf.float32)\n",
    "tensor_squared_762 = tf.square(tensor_762)\n",
    "tensor_sum_762 = tf.reduce_sum(tensor_squared_762)\n",
    "tensor_mean_762 = tf.reduce_mean(tensor_squared_762)\n",
    "tensor_max_762 = tf.reduce_max(tensor_squared_762)\n",
    "\n",
    "tf.print(\"Cell 762 - TensorFlow\")\n",
    "tf.print(\"Tensor shape:\", tf.shape(tensor_762))\n",
    "tf.print(\"Sum:\", tensor_sum_762)\n",
    "tf.print(\"Mean:\", tensor_mean_762)\n",
    "tf.print(\"Max:\", tensor_max_762)"
   ]
  },
  {
   "cell_type": "code",
   "execution_count": null,
   "id": "adae9df4",
   "metadata": {},
   "outputs": [],
   "source": [
    "import tensorflow as tf\n",
    "\n",
    "tensor_763 = tf.constant(list(range(763)), dtype=tf.float32)\n",
    "tensor_squared_763 = tf.square(tensor_763)\n",
    "tensor_sum_763 = tf.reduce_sum(tensor_squared_763)\n",
    "tensor_mean_763 = tf.reduce_mean(tensor_squared_763)\n",
    "tensor_max_763 = tf.reduce_max(tensor_squared_763)\n",
    "\n",
    "tf.print(\"Cell 763 - TensorFlow\")\n",
    "tf.print(\"Tensor shape:\", tf.shape(tensor_763))\n",
    "tf.print(\"Sum:\", tensor_sum_763)\n",
    "tf.print(\"Mean:\", tensor_mean_763)\n",
    "tf.print(\"Max:\", tensor_max_763)"
   ]
  },
  {
   "cell_type": "code",
   "execution_count": null,
   "id": "75a01de3",
   "metadata": {},
   "outputs": [],
   "source": [
    "import tensorflow as tf\n",
    "\n",
    "tensor_764 = tf.constant(list(range(764)), dtype=tf.float32)\n",
    "tensor_squared_764 = tf.square(tensor_764)\n",
    "tensor_sum_764 = tf.reduce_sum(tensor_squared_764)\n",
    "tensor_mean_764 = tf.reduce_mean(tensor_squared_764)\n",
    "tensor_max_764 = tf.reduce_max(tensor_squared_764)\n",
    "\n",
    "tf.print(\"Cell 764 - TensorFlow\")\n",
    "tf.print(\"Tensor shape:\", tf.shape(tensor_764))\n",
    "tf.print(\"Sum:\", tensor_sum_764)\n",
    "tf.print(\"Mean:\", tensor_mean_764)\n",
    "tf.print(\"Max:\", tensor_max_764)"
   ]
  },
  {
   "cell_type": "code",
   "execution_count": null,
   "id": "416ede83",
   "metadata": {},
   "outputs": [],
   "source": [
    "import tensorflow as tf\n",
    "\n",
    "tensor_765 = tf.constant(list(range(765)), dtype=tf.float32)\n",
    "tensor_squared_765 = tf.square(tensor_765)\n",
    "tensor_sum_765 = tf.reduce_sum(tensor_squared_765)\n",
    "tensor_mean_765 = tf.reduce_mean(tensor_squared_765)\n",
    "tensor_max_765 = tf.reduce_max(tensor_squared_765)\n",
    "\n",
    "tf.print(\"Cell 765 - TensorFlow\")\n",
    "tf.print(\"Tensor shape:\", tf.shape(tensor_765))\n",
    "tf.print(\"Sum:\", tensor_sum_765)\n",
    "tf.print(\"Mean:\", tensor_mean_765)\n",
    "tf.print(\"Max:\", tensor_max_765)"
   ]
  },
  {
   "cell_type": "code",
   "execution_count": null,
   "id": "0d6b74f2",
   "metadata": {},
   "outputs": [],
   "source": [
    "import tensorflow as tf\n",
    "\n",
    "tensor_766 = tf.constant(list(range(766)), dtype=tf.float32)\n",
    "tensor_squared_766 = tf.square(tensor_766)\n",
    "tensor_sum_766 = tf.reduce_sum(tensor_squared_766)\n",
    "tensor_mean_766 = tf.reduce_mean(tensor_squared_766)\n",
    "tensor_max_766 = tf.reduce_max(tensor_squared_766)\n",
    "\n",
    "tf.print(\"Cell 766 - TensorFlow\")\n",
    "tf.print(\"Tensor shape:\", tf.shape(tensor_766))\n",
    "tf.print(\"Sum:\", tensor_sum_766)\n",
    "tf.print(\"Mean:\", tensor_mean_766)\n",
    "tf.print(\"Max:\", tensor_max_766)"
   ]
  },
  {
   "cell_type": "code",
   "execution_count": null,
   "id": "fc1ce552",
   "metadata": {},
   "outputs": [],
   "source": [
    "import tensorflow as tf\n",
    "\n",
    "tensor_767 = tf.constant(list(range(767)), dtype=tf.float32)\n",
    "tensor_squared_767 = tf.square(tensor_767)\n",
    "tensor_sum_767 = tf.reduce_sum(tensor_squared_767)\n",
    "tensor_mean_767 = tf.reduce_mean(tensor_squared_767)\n",
    "tensor_max_767 = tf.reduce_max(tensor_squared_767)\n",
    "\n",
    "tf.print(\"Cell 767 - TensorFlow\")\n",
    "tf.print(\"Tensor shape:\", tf.shape(tensor_767))\n",
    "tf.print(\"Sum:\", tensor_sum_767)\n",
    "tf.print(\"Mean:\", tensor_mean_767)\n",
    "tf.print(\"Max:\", tensor_max_767)"
   ]
  },
  {
   "cell_type": "code",
   "execution_count": null,
   "id": "fbbc0b0f",
   "metadata": {},
   "outputs": [],
   "source": [
    "import tensorflow as tf\n",
    "\n",
    "tensor_768 = tf.constant(list(range(768)), dtype=tf.float32)\n",
    "tensor_squared_768 = tf.square(tensor_768)\n",
    "tensor_sum_768 = tf.reduce_sum(tensor_squared_768)\n",
    "tensor_mean_768 = tf.reduce_mean(tensor_squared_768)\n",
    "tensor_max_768 = tf.reduce_max(tensor_squared_768)\n",
    "\n",
    "tf.print(\"Cell 768 - TensorFlow\")\n",
    "tf.print(\"Tensor shape:\", tf.shape(tensor_768))\n",
    "tf.print(\"Sum:\", tensor_sum_768)\n",
    "tf.print(\"Mean:\", tensor_mean_768)\n",
    "tf.print(\"Max:\", tensor_max_768)"
   ]
  },
  {
   "cell_type": "code",
   "execution_count": null,
   "id": "f42e5bc3",
   "metadata": {},
   "outputs": [],
   "source": [
    "import tensorflow as tf\n",
    "\n",
    "tensor_769 = tf.constant(list(range(769)), dtype=tf.float32)\n",
    "tensor_squared_769 = tf.square(tensor_769)\n",
    "tensor_sum_769 = tf.reduce_sum(tensor_squared_769)\n",
    "tensor_mean_769 = tf.reduce_mean(tensor_squared_769)\n",
    "tensor_max_769 = tf.reduce_max(tensor_squared_769)\n",
    "\n",
    "tf.print(\"Cell 769 - TensorFlow\")\n",
    "tf.print(\"Tensor shape:\", tf.shape(tensor_769))\n",
    "tf.print(\"Sum:\", tensor_sum_769)\n",
    "tf.print(\"Mean:\", tensor_mean_769)\n",
    "tf.print(\"Max:\", tensor_max_769)"
   ]
  },
  {
   "cell_type": "code",
   "execution_count": null,
   "id": "e5aff33f",
   "metadata": {},
   "outputs": [],
   "source": [
    "import tensorflow as tf\n",
    "\n",
    "tensor_770 = tf.constant(list(range(770)), dtype=tf.float32)\n",
    "tensor_squared_770 = tf.square(tensor_770)\n",
    "tensor_sum_770 = tf.reduce_sum(tensor_squared_770)\n",
    "tensor_mean_770 = tf.reduce_mean(tensor_squared_770)\n",
    "tensor_max_770 = tf.reduce_max(tensor_squared_770)\n",
    "\n",
    "tf.print(\"Cell 770 - TensorFlow\")\n",
    "tf.print(\"Tensor shape:\", tf.shape(tensor_770))\n",
    "tf.print(\"Sum:\", tensor_sum_770)\n",
    "tf.print(\"Mean:\", tensor_mean_770)\n",
    "tf.print(\"Max:\", tensor_max_770)"
   ]
  },
  {
   "cell_type": "code",
   "execution_count": null,
   "id": "84506492",
   "metadata": {},
   "outputs": [],
   "source": [
    "import tensorflow as tf\n",
    "\n",
    "tensor_771 = tf.constant(list(range(771)), dtype=tf.float32)\n",
    "tensor_squared_771 = tf.square(tensor_771)\n",
    "tensor_sum_771 = tf.reduce_sum(tensor_squared_771)\n",
    "tensor_mean_771 = tf.reduce_mean(tensor_squared_771)\n",
    "tensor_max_771 = tf.reduce_max(tensor_squared_771)\n",
    "\n",
    "tf.print(\"Cell 771 - TensorFlow\")\n",
    "tf.print(\"Tensor shape:\", tf.shape(tensor_771))\n",
    "tf.print(\"Sum:\", tensor_sum_771)\n",
    "tf.print(\"Mean:\", tensor_mean_771)\n",
    "tf.print(\"Max:\", tensor_max_771)"
   ]
  },
  {
   "cell_type": "code",
   "execution_count": null,
   "id": "2e5a393d",
   "metadata": {},
   "outputs": [],
   "source": [
    "import tensorflow as tf\n",
    "\n",
    "tensor_772 = tf.constant(list(range(772)), dtype=tf.float32)\n",
    "tensor_squared_772 = tf.square(tensor_772)\n",
    "tensor_sum_772 = tf.reduce_sum(tensor_squared_772)\n",
    "tensor_mean_772 = tf.reduce_mean(tensor_squared_772)\n",
    "tensor_max_772 = tf.reduce_max(tensor_squared_772)\n",
    "\n",
    "tf.print(\"Cell 772 - TensorFlow\")\n",
    "tf.print(\"Tensor shape:\", tf.shape(tensor_772))\n",
    "tf.print(\"Sum:\", tensor_sum_772)\n",
    "tf.print(\"Mean:\", tensor_mean_772)\n",
    "tf.print(\"Max:\", tensor_max_772)"
   ]
  },
  {
   "cell_type": "code",
   "execution_count": null,
   "id": "c552d263",
   "metadata": {},
   "outputs": [],
   "source": [
    "import tensorflow as tf\n",
    "\n",
    "tensor_773 = tf.constant(list(range(773)), dtype=tf.float32)\n",
    "tensor_squared_773 = tf.square(tensor_773)\n",
    "tensor_sum_773 = tf.reduce_sum(tensor_squared_773)\n",
    "tensor_mean_773 = tf.reduce_mean(tensor_squared_773)\n",
    "tensor_max_773 = tf.reduce_max(tensor_squared_773)\n",
    "\n",
    "tf.print(\"Cell 773 - TensorFlow\")\n",
    "tf.print(\"Tensor shape:\", tf.shape(tensor_773))\n",
    "tf.print(\"Sum:\", tensor_sum_773)\n",
    "tf.print(\"Mean:\", tensor_mean_773)\n",
    "tf.print(\"Max:\", tensor_max_773)"
   ]
  },
  {
   "cell_type": "code",
   "execution_count": null,
   "id": "e2b31f3b",
   "metadata": {},
   "outputs": [],
   "source": [
    "import tensorflow as tf\n",
    "\n",
    "tensor_774 = tf.constant(list(range(774)), dtype=tf.float32)\n",
    "tensor_squared_774 = tf.square(tensor_774)\n",
    "tensor_sum_774 = tf.reduce_sum(tensor_squared_774)\n",
    "tensor_mean_774 = tf.reduce_mean(tensor_squared_774)\n",
    "tensor_max_774 = tf.reduce_max(tensor_squared_774)\n",
    "\n",
    "tf.print(\"Cell 774 - TensorFlow\")\n",
    "tf.print(\"Tensor shape:\", tf.shape(tensor_774))\n",
    "tf.print(\"Sum:\", tensor_sum_774)\n",
    "tf.print(\"Mean:\", tensor_mean_774)\n",
    "tf.print(\"Max:\", tensor_max_774)"
   ]
  },
  {
   "cell_type": "code",
   "execution_count": null,
   "id": "809a5f7c",
   "metadata": {},
   "outputs": [],
   "source": [
    "import tensorflow as tf\n",
    "\n",
    "tensor_775 = tf.constant(list(range(775)), dtype=tf.float32)\n",
    "tensor_squared_775 = tf.square(tensor_775)\n",
    "tensor_sum_775 = tf.reduce_sum(tensor_squared_775)\n",
    "tensor_mean_775 = tf.reduce_mean(tensor_squared_775)\n",
    "tensor_max_775 = tf.reduce_max(tensor_squared_775)\n",
    "\n",
    "tf.print(\"Cell 775 - TensorFlow\")\n",
    "tf.print(\"Tensor shape:\", tf.shape(tensor_775))\n",
    "tf.print(\"Sum:\", tensor_sum_775)\n",
    "tf.print(\"Mean:\", tensor_mean_775)\n",
    "tf.print(\"Max:\", tensor_max_775)"
   ]
  },
  {
   "cell_type": "code",
   "execution_count": null,
   "id": "0762c3d9",
   "metadata": {},
   "outputs": [],
   "source": [
    "import tensorflow as tf\n",
    "\n",
    "tensor_776 = tf.constant(list(range(776)), dtype=tf.float32)\n",
    "tensor_squared_776 = tf.square(tensor_776)\n",
    "tensor_sum_776 = tf.reduce_sum(tensor_squared_776)\n",
    "tensor_mean_776 = tf.reduce_mean(tensor_squared_776)\n",
    "tensor_max_776 = tf.reduce_max(tensor_squared_776)\n",
    "\n",
    "tf.print(\"Cell 776 - TensorFlow\")\n",
    "tf.print(\"Tensor shape:\", tf.shape(tensor_776))\n",
    "tf.print(\"Sum:\", tensor_sum_776)\n",
    "tf.print(\"Mean:\", tensor_mean_776)\n",
    "tf.print(\"Max:\", tensor_max_776)"
   ]
  },
  {
   "cell_type": "code",
   "execution_count": null,
   "id": "4af31597",
   "metadata": {},
   "outputs": [],
   "source": [
    "import tensorflow as tf\n",
    "\n",
    "tensor_777 = tf.constant(list(range(777)), dtype=tf.float32)\n",
    "tensor_squared_777 = tf.square(tensor_777)\n",
    "tensor_sum_777 = tf.reduce_sum(tensor_squared_777)\n",
    "tensor_mean_777 = tf.reduce_mean(tensor_squared_777)\n",
    "tensor_max_777 = tf.reduce_max(tensor_squared_777)\n",
    "\n",
    "tf.print(\"Cell 777 - TensorFlow\")\n",
    "tf.print(\"Tensor shape:\", tf.shape(tensor_777))\n",
    "tf.print(\"Sum:\", tensor_sum_777)\n",
    "tf.print(\"Mean:\", tensor_mean_777)\n",
    "tf.print(\"Max:\", tensor_max_777)"
   ]
  },
  {
   "cell_type": "code",
   "execution_count": null,
   "id": "fbee24c8",
   "metadata": {},
   "outputs": [],
   "source": [
    "import tensorflow as tf\n",
    "\n",
    "tensor_778 = tf.constant(list(range(778)), dtype=tf.float32)\n",
    "tensor_squared_778 = tf.square(tensor_778)\n",
    "tensor_sum_778 = tf.reduce_sum(tensor_squared_778)\n",
    "tensor_mean_778 = tf.reduce_mean(tensor_squared_778)\n",
    "tensor_max_778 = tf.reduce_max(tensor_squared_778)\n",
    "\n",
    "tf.print(\"Cell 778 - TensorFlow\")\n",
    "tf.print(\"Tensor shape:\", tf.shape(tensor_778))\n",
    "tf.print(\"Sum:\", tensor_sum_778)\n",
    "tf.print(\"Mean:\", tensor_mean_778)\n",
    "tf.print(\"Max:\", tensor_max_778)"
   ]
  },
  {
   "cell_type": "code",
   "execution_count": null,
   "id": "c379a7c4",
   "metadata": {},
   "outputs": [],
   "source": [
    "import tensorflow as tf\n",
    "\n",
    "tensor_779 = tf.constant(list(range(779)), dtype=tf.float32)\n",
    "tensor_squared_779 = tf.square(tensor_779)\n",
    "tensor_sum_779 = tf.reduce_sum(tensor_squared_779)\n",
    "tensor_mean_779 = tf.reduce_mean(tensor_squared_779)\n",
    "tensor_max_779 = tf.reduce_max(tensor_squared_779)\n",
    "\n",
    "tf.print(\"Cell 779 - TensorFlow\")\n",
    "tf.print(\"Tensor shape:\", tf.shape(tensor_779))\n",
    "tf.print(\"Sum:\", tensor_sum_779)\n",
    "tf.print(\"Mean:\", tensor_mean_779)\n",
    "tf.print(\"Max:\", tensor_max_779)"
   ]
  },
  {
   "cell_type": "code",
   "execution_count": null,
   "id": "e285f3ea",
   "metadata": {},
   "outputs": [],
   "source": [
    "import tensorflow as tf\n",
    "\n",
    "tensor_780 = tf.constant(list(range(780)), dtype=tf.float32)\n",
    "tensor_squared_780 = tf.square(tensor_780)\n",
    "tensor_sum_780 = tf.reduce_sum(tensor_squared_780)\n",
    "tensor_mean_780 = tf.reduce_mean(tensor_squared_780)\n",
    "tensor_max_780 = tf.reduce_max(tensor_squared_780)\n",
    "\n",
    "tf.print(\"Cell 780 - TensorFlow\")\n",
    "tf.print(\"Tensor shape:\", tf.shape(tensor_780))\n",
    "tf.print(\"Sum:\", tensor_sum_780)\n",
    "tf.print(\"Mean:\", tensor_mean_780)\n",
    "tf.print(\"Max:\", tensor_max_780)"
   ]
  },
  {
   "cell_type": "code",
   "execution_count": null,
   "id": "85941d12",
   "metadata": {},
   "outputs": [],
   "source": [
    "import tensorflow as tf\n",
    "\n",
    "tensor_781 = tf.constant(list(range(781)), dtype=tf.float32)\n",
    "tensor_squared_781 = tf.square(tensor_781)\n",
    "tensor_sum_781 = tf.reduce_sum(tensor_squared_781)\n",
    "tensor_mean_781 = tf.reduce_mean(tensor_squared_781)\n",
    "tensor_max_781 = tf.reduce_max(tensor_squared_781)\n",
    "\n",
    "tf.print(\"Cell 781 - TensorFlow\")\n",
    "tf.print(\"Tensor shape:\", tf.shape(tensor_781))\n",
    "tf.print(\"Sum:\", tensor_sum_781)\n",
    "tf.print(\"Mean:\", tensor_mean_781)\n",
    "tf.print(\"Max:\", tensor_max_781)"
   ]
  },
  {
   "cell_type": "code",
   "execution_count": null,
   "id": "34fee6a5",
   "metadata": {},
   "outputs": [],
   "source": [
    "import tensorflow as tf\n",
    "\n",
    "tensor_782 = tf.constant(list(range(782)), dtype=tf.float32)\n",
    "tensor_squared_782 = tf.square(tensor_782)\n",
    "tensor_sum_782 = tf.reduce_sum(tensor_squared_782)\n",
    "tensor_mean_782 = tf.reduce_mean(tensor_squared_782)\n",
    "tensor_max_782 = tf.reduce_max(tensor_squared_782)\n",
    "\n",
    "tf.print(\"Cell 782 - TensorFlow\")\n",
    "tf.print(\"Tensor shape:\", tf.shape(tensor_782))\n",
    "tf.print(\"Sum:\", tensor_sum_782)\n",
    "tf.print(\"Mean:\", tensor_mean_782)\n",
    "tf.print(\"Max:\", tensor_max_782)"
   ]
  },
  {
   "cell_type": "code",
   "execution_count": null,
   "id": "3c854635",
   "metadata": {},
   "outputs": [],
   "source": [
    "import tensorflow as tf\n",
    "\n",
    "tensor_783 = tf.constant(list(range(783)), dtype=tf.float32)\n",
    "tensor_squared_783 = tf.square(tensor_783)\n",
    "tensor_sum_783 = tf.reduce_sum(tensor_squared_783)\n",
    "tensor_mean_783 = tf.reduce_mean(tensor_squared_783)\n",
    "tensor_max_783 = tf.reduce_max(tensor_squared_783)\n",
    "\n",
    "tf.print(\"Cell 783 - TensorFlow\")\n",
    "tf.print(\"Tensor shape:\", tf.shape(tensor_783))\n",
    "tf.print(\"Sum:\", tensor_sum_783)\n",
    "tf.print(\"Mean:\", tensor_mean_783)\n",
    "tf.print(\"Max:\", tensor_max_783)"
   ]
  },
  {
   "cell_type": "code",
   "execution_count": null,
   "id": "35124da6",
   "metadata": {},
   "outputs": [],
   "source": [
    "import tensorflow as tf\n",
    "\n",
    "tensor_784 = tf.constant(list(range(784)), dtype=tf.float32)\n",
    "tensor_squared_784 = tf.square(tensor_784)\n",
    "tensor_sum_784 = tf.reduce_sum(tensor_squared_784)\n",
    "tensor_mean_784 = tf.reduce_mean(tensor_squared_784)\n",
    "tensor_max_784 = tf.reduce_max(tensor_squared_784)\n",
    "\n",
    "tf.print(\"Cell 784 - TensorFlow\")\n",
    "tf.print(\"Tensor shape:\", tf.shape(tensor_784))\n",
    "tf.print(\"Sum:\", tensor_sum_784)\n",
    "tf.print(\"Mean:\", tensor_mean_784)\n",
    "tf.print(\"Max:\", tensor_max_784)"
   ]
  },
  {
   "cell_type": "code",
   "execution_count": null,
   "id": "5584c590",
   "metadata": {},
   "outputs": [],
   "source": [
    "import tensorflow as tf\n",
    "\n",
    "tensor_785 = tf.constant(list(range(785)), dtype=tf.float32)\n",
    "tensor_squared_785 = tf.square(tensor_785)\n",
    "tensor_sum_785 = tf.reduce_sum(tensor_squared_785)\n",
    "tensor_mean_785 = tf.reduce_mean(tensor_squared_785)\n",
    "tensor_max_785 = tf.reduce_max(tensor_squared_785)\n",
    "\n",
    "tf.print(\"Cell 785 - TensorFlow\")\n",
    "tf.print(\"Tensor shape:\", tf.shape(tensor_785))\n",
    "tf.print(\"Sum:\", tensor_sum_785)\n",
    "tf.print(\"Mean:\", tensor_mean_785)\n",
    "tf.print(\"Max:\", tensor_max_785)"
   ]
  },
  {
   "cell_type": "code",
   "execution_count": null,
   "id": "f0f0e8ca",
   "metadata": {},
   "outputs": [],
   "source": [
    "import tensorflow as tf\n",
    "\n",
    "tensor_786 = tf.constant(list(range(786)), dtype=tf.float32)\n",
    "tensor_squared_786 = tf.square(tensor_786)\n",
    "tensor_sum_786 = tf.reduce_sum(tensor_squared_786)\n",
    "tensor_mean_786 = tf.reduce_mean(tensor_squared_786)\n",
    "tensor_max_786 = tf.reduce_max(tensor_squared_786)\n",
    "\n",
    "tf.print(\"Cell 786 - TensorFlow\")\n",
    "tf.print(\"Tensor shape:\", tf.shape(tensor_786))\n",
    "tf.print(\"Sum:\", tensor_sum_786)\n",
    "tf.print(\"Mean:\", tensor_mean_786)\n",
    "tf.print(\"Max:\", tensor_max_786)"
   ]
  },
  {
   "cell_type": "code",
   "execution_count": null,
   "id": "060bba2f",
   "metadata": {},
   "outputs": [],
   "source": [
    "import tensorflow as tf\n",
    "\n",
    "tensor_787 = tf.constant(list(range(787)), dtype=tf.float32)\n",
    "tensor_squared_787 = tf.square(tensor_787)\n",
    "tensor_sum_787 = tf.reduce_sum(tensor_squared_787)\n",
    "tensor_mean_787 = tf.reduce_mean(tensor_squared_787)\n",
    "tensor_max_787 = tf.reduce_max(tensor_squared_787)\n",
    "\n",
    "tf.print(\"Cell 787 - TensorFlow\")\n",
    "tf.print(\"Tensor shape:\", tf.shape(tensor_787))\n",
    "tf.print(\"Sum:\", tensor_sum_787)\n",
    "tf.print(\"Mean:\", tensor_mean_787)\n",
    "tf.print(\"Max:\", tensor_max_787)"
   ]
  },
  {
   "cell_type": "code",
   "execution_count": null,
   "id": "5e8bfb08",
   "metadata": {},
   "outputs": [],
   "source": [
    "import tensorflow as tf\n",
    "\n",
    "tensor_788 = tf.constant(list(range(788)), dtype=tf.float32)\n",
    "tensor_squared_788 = tf.square(tensor_788)\n",
    "tensor_sum_788 = tf.reduce_sum(tensor_squared_788)\n",
    "tensor_mean_788 = tf.reduce_mean(tensor_squared_788)\n",
    "tensor_max_788 = tf.reduce_max(tensor_squared_788)\n",
    "\n",
    "tf.print(\"Cell 788 - TensorFlow\")\n",
    "tf.print(\"Tensor shape:\", tf.shape(tensor_788))\n",
    "tf.print(\"Sum:\", tensor_sum_788)\n",
    "tf.print(\"Mean:\", tensor_mean_788)\n",
    "tf.print(\"Max:\", tensor_max_788)"
   ]
  },
  {
   "cell_type": "code",
   "execution_count": null,
   "id": "545b278d",
   "metadata": {},
   "outputs": [],
   "source": [
    "import tensorflow as tf\n",
    "\n",
    "tensor_789 = tf.constant(list(range(789)), dtype=tf.float32)\n",
    "tensor_squared_789 = tf.square(tensor_789)\n",
    "tensor_sum_789 = tf.reduce_sum(tensor_squared_789)\n",
    "tensor_mean_789 = tf.reduce_mean(tensor_squared_789)\n",
    "tensor_max_789 = tf.reduce_max(tensor_squared_789)\n",
    "\n",
    "tf.print(\"Cell 789 - TensorFlow\")\n",
    "tf.print(\"Tensor shape:\", tf.shape(tensor_789))\n",
    "tf.print(\"Sum:\", tensor_sum_789)\n",
    "tf.print(\"Mean:\", tensor_mean_789)\n",
    "tf.print(\"Max:\", tensor_max_789)"
   ]
  },
  {
   "cell_type": "code",
   "execution_count": null,
   "id": "2f48a78f",
   "metadata": {},
   "outputs": [],
   "source": [
    "import tensorflow as tf\n",
    "\n",
    "tensor_790 = tf.constant(list(range(790)), dtype=tf.float32)\n",
    "tensor_squared_790 = tf.square(tensor_790)\n",
    "tensor_sum_790 = tf.reduce_sum(tensor_squared_790)\n",
    "tensor_mean_790 = tf.reduce_mean(tensor_squared_790)\n",
    "tensor_max_790 = tf.reduce_max(tensor_squared_790)\n",
    "\n",
    "tf.print(\"Cell 790 - TensorFlow\")\n",
    "tf.print(\"Tensor shape:\", tf.shape(tensor_790))\n",
    "tf.print(\"Sum:\", tensor_sum_790)\n",
    "tf.print(\"Mean:\", tensor_mean_790)\n",
    "tf.print(\"Max:\", tensor_max_790)"
   ]
  },
  {
   "cell_type": "code",
   "execution_count": null,
   "id": "4c78e754",
   "metadata": {},
   "outputs": [],
   "source": [
    "import tensorflow as tf\n",
    "\n",
    "tensor_791 = tf.constant(list(range(791)), dtype=tf.float32)\n",
    "tensor_squared_791 = tf.square(tensor_791)\n",
    "tensor_sum_791 = tf.reduce_sum(tensor_squared_791)\n",
    "tensor_mean_791 = tf.reduce_mean(tensor_squared_791)\n",
    "tensor_max_791 = tf.reduce_max(tensor_squared_791)\n",
    "\n",
    "tf.print(\"Cell 791 - TensorFlow\")\n",
    "tf.print(\"Tensor shape:\", tf.shape(tensor_791))\n",
    "tf.print(\"Sum:\", tensor_sum_791)\n",
    "tf.print(\"Mean:\", tensor_mean_791)\n",
    "tf.print(\"Max:\", tensor_max_791)"
   ]
  },
  {
   "cell_type": "code",
   "execution_count": null,
   "id": "0025644c",
   "metadata": {},
   "outputs": [],
   "source": [
    "import tensorflow as tf\n",
    "\n",
    "tensor_792 = tf.constant(list(range(792)), dtype=tf.float32)\n",
    "tensor_squared_792 = tf.square(tensor_792)\n",
    "tensor_sum_792 = tf.reduce_sum(tensor_squared_792)\n",
    "tensor_mean_792 = tf.reduce_mean(tensor_squared_792)\n",
    "tensor_max_792 = tf.reduce_max(tensor_squared_792)\n",
    "\n",
    "tf.print(\"Cell 792 - TensorFlow\")\n",
    "tf.print(\"Tensor shape:\", tf.shape(tensor_792))\n",
    "tf.print(\"Sum:\", tensor_sum_792)\n",
    "tf.print(\"Mean:\", tensor_mean_792)\n",
    "tf.print(\"Max:\", tensor_max_792)"
   ]
  },
  {
   "cell_type": "code",
   "execution_count": null,
   "id": "0296273e",
   "metadata": {},
   "outputs": [],
   "source": [
    "import tensorflow as tf\n",
    "\n",
    "tensor_793 = tf.constant(list(range(793)), dtype=tf.float32)\n",
    "tensor_squared_793 = tf.square(tensor_793)\n",
    "tensor_sum_793 = tf.reduce_sum(tensor_squared_793)\n",
    "tensor_mean_793 = tf.reduce_mean(tensor_squared_793)\n",
    "tensor_max_793 = tf.reduce_max(tensor_squared_793)\n",
    "\n",
    "tf.print(\"Cell 793 - TensorFlow\")\n",
    "tf.print(\"Tensor shape:\", tf.shape(tensor_793))\n",
    "tf.print(\"Sum:\", tensor_sum_793)\n",
    "tf.print(\"Mean:\", tensor_mean_793)\n",
    "tf.print(\"Max:\", tensor_max_793)"
   ]
  },
  {
   "cell_type": "code",
   "execution_count": null,
   "id": "15f4604e",
   "metadata": {},
   "outputs": [],
   "source": [
    "import tensorflow as tf\n",
    "\n",
    "tensor_794 = tf.constant(list(range(794)), dtype=tf.float32)\n",
    "tensor_squared_794 = tf.square(tensor_794)\n",
    "tensor_sum_794 = tf.reduce_sum(tensor_squared_794)\n",
    "tensor_mean_794 = tf.reduce_mean(tensor_squared_794)\n",
    "tensor_max_794 = tf.reduce_max(tensor_squared_794)\n",
    "\n",
    "tf.print(\"Cell 794 - TensorFlow\")\n",
    "tf.print(\"Tensor shape:\", tf.shape(tensor_794))\n",
    "tf.print(\"Sum:\", tensor_sum_794)\n",
    "tf.print(\"Mean:\", tensor_mean_794)\n",
    "tf.print(\"Max:\", tensor_max_794)"
   ]
  },
  {
   "cell_type": "code",
   "execution_count": null,
   "id": "3d04d5bb",
   "metadata": {},
   "outputs": [],
   "source": [
    "import tensorflow as tf\n",
    "\n",
    "tensor_795 = tf.constant(list(range(795)), dtype=tf.float32)\n",
    "tensor_squared_795 = tf.square(tensor_795)\n",
    "tensor_sum_795 = tf.reduce_sum(tensor_squared_795)\n",
    "tensor_mean_795 = tf.reduce_mean(tensor_squared_795)\n",
    "tensor_max_795 = tf.reduce_max(tensor_squared_795)\n",
    "\n",
    "tf.print(\"Cell 795 - TensorFlow\")\n",
    "tf.print(\"Tensor shape:\", tf.shape(tensor_795))\n",
    "tf.print(\"Sum:\", tensor_sum_795)\n",
    "tf.print(\"Mean:\", tensor_mean_795)\n",
    "tf.print(\"Max:\", tensor_max_795)"
   ]
  },
  {
   "cell_type": "code",
   "execution_count": null,
   "id": "c15cf8f4",
   "metadata": {},
   "outputs": [],
   "source": [
    "import tensorflow as tf\n",
    "\n",
    "tensor_796 = tf.constant(list(range(796)), dtype=tf.float32)\n",
    "tensor_squared_796 = tf.square(tensor_796)\n",
    "tensor_sum_796 = tf.reduce_sum(tensor_squared_796)\n",
    "tensor_mean_796 = tf.reduce_mean(tensor_squared_796)\n",
    "tensor_max_796 = tf.reduce_max(tensor_squared_796)\n",
    "\n",
    "tf.print(\"Cell 796 - TensorFlow\")\n",
    "tf.print(\"Tensor shape:\", tf.shape(tensor_796))\n",
    "tf.print(\"Sum:\", tensor_sum_796)\n",
    "tf.print(\"Mean:\", tensor_mean_796)\n",
    "tf.print(\"Max:\", tensor_max_796)"
   ]
  },
  {
   "cell_type": "code",
   "execution_count": null,
   "id": "e2c9c1f7",
   "metadata": {},
   "outputs": [],
   "source": [
    "import tensorflow as tf\n",
    "\n",
    "tensor_797 = tf.constant(list(range(797)), dtype=tf.float32)\n",
    "tensor_squared_797 = tf.square(tensor_797)\n",
    "tensor_sum_797 = tf.reduce_sum(tensor_squared_797)\n",
    "tensor_mean_797 = tf.reduce_mean(tensor_squared_797)\n",
    "tensor_max_797 = tf.reduce_max(tensor_squared_797)\n",
    "\n",
    "tf.print(\"Cell 797 - TensorFlow\")\n",
    "tf.print(\"Tensor shape:\", tf.shape(tensor_797))\n",
    "tf.print(\"Sum:\", tensor_sum_797)\n",
    "tf.print(\"Mean:\", tensor_mean_797)\n",
    "tf.print(\"Max:\", tensor_max_797)"
   ]
  },
  {
   "cell_type": "code",
   "execution_count": null,
   "id": "f9c1b5f2",
   "metadata": {},
   "outputs": [],
   "source": [
    "import tensorflow as tf\n",
    "\n",
    "tensor_798 = tf.constant(list(range(798)), dtype=tf.float32)\n",
    "tensor_squared_798 = tf.square(tensor_798)\n",
    "tensor_sum_798 = tf.reduce_sum(tensor_squared_798)\n",
    "tensor_mean_798 = tf.reduce_mean(tensor_squared_798)\n",
    "tensor_max_798 = tf.reduce_max(tensor_squared_798)\n",
    "\n",
    "tf.print(\"Cell 798 - TensorFlow\")\n",
    "tf.print(\"Tensor shape:\", tf.shape(tensor_798))\n",
    "tf.print(\"Sum:\", tensor_sum_798)\n",
    "tf.print(\"Mean:\", tensor_mean_798)\n",
    "tf.print(\"Max:\", tensor_max_798)"
   ]
  },
  {
   "cell_type": "code",
   "execution_count": null,
   "id": "475096e4",
   "metadata": {},
   "outputs": [],
   "source": [
    "import tensorflow as tf\n",
    "\n",
    "tensor_799 = tf.constant(list(range(799)), dtype=tf.float32)\n",
    "tensor_squared_799 = tf.square(tensor_799)\n",
    "tensor_sum_799 = tf.reduce_sum(tensor_squared_799)\n",
    "tensor_mean_799 = tf.reduce_mean(tensor_squared_799)\n",
    "tensor_max_799 = tf.reduce_max(tensor_squared_799)\n",
    "\n",
    "tf.print(\"Cell 799 - TensorFlow\")\n",
    "tf.print(\"Tensor shape:\", tf.shape(tensor_799))\n",
    "tf.print(\"Sum:\", tensor_sum_799)\n",
    "tf.print(\"Mean:\", tensor_mean_799)\n",
    "tf.print(\"Max:\", tensor_max_799)"
   ]
  },
  {
   "cell_type": "code",
   "execution_count": null,
   "id": "3603c532",
   "metadata": {},
   "outputs": [],
   "source": [
    "import tensorflow as tf\n",
    "\n",
    "tensor_800 = tf.constant(list(range(800)), dtype=tf.float32)\n",
    "tensor_squared_800 = tf.square(tensor_800)\n",
    "tensor_sum_800 = tf.reduce_sum(tensor_squared_800)\n",
    "tensor_mean_800 = tf.reduce_mean(tensor_squared_800)\n",
    "tensor_max_800 = tf.reduce_max(tensor_squared_800)\n",
    "\n",
    "tf.print(\"Cell 800 - TensorFlow\")\n",
    "tf.print(\"Tensor shape:\", tf.shape(tensor_800))\n",
    "tf.print(\"Sum:\", tensor_sum_800)\n",
    "tf.print(\"Mean:\", tensor_mean_800)\n",
    "tf.print(\"Max:\", tensor_max_800)"
   ]
  }
 ],
 "metadata": {
  "kernelspec": {
   "display_name": "Python 3 (ipykernel)",
   "language": "python",
   "name": "python3"
  },
  "language_info": {
   "codemirror_mode": {
    "name": "ipython",
    "version": 3
   },
   "file_extension": ".py",
   "mimetype": "text/x-python",
   "name": "python",
   "nbconvert_exporter": "python",
   "pygments_lexer": "ipython3",
   "version": "3.12.11"
  }
 },
 "nbformat": 4,
 "nbformat_minor": 5
}
