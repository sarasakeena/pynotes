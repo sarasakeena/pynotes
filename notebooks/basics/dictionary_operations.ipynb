{
 "cells": [
  {
   "cell_type": "code",
   "execution_count": 1,
   "id": "dec80b81-d798-4b2b-b933-b554545ace1c",
   "metadata": {},
   "outputs": [
    {
     "name": "stdout",
     "output_type": "stream",
     "text": [
      "{'name': 'Sara', 'age': 20, 'score': 95}\n"
     ]
    }
   ],
   "source": [
    "student = {\n",
    "    \"name\": \"Sara\",\n",
    "    \"age\": 20,\n",
    "    \"score\": 95\n",
    "}\n",
    "print(student)"
   ]
  },
  {
   "cell_type": "code",
   "execution_count": 2,
   "id": "5ee5f098-fc2e-4b39-a8e7-f26f930ff282",
   "metadata": {},
   "outputs": [],
   "source": [
    "student[\"grade\"] = \"A\""
   ]
  },
  {
   "cell_type": "code",
   "execution_count": 3,
   "id": "8db38873-b791-4af6-934f-56daa9e97f1d",
   "metadata": {},
   "outputs": [
    {
     "name": "stdout",
     "output_type": "stream",
     "text": [
      "name: Sara\n",
      "age: 20\n",
      "score: 95\n",
      "grade: A\n"
     ]
    }
   ],
   "source": [
    "for k, v in student.items():\n",
    "    print(f\"{k}: {v}\")"
   ]
  },
  {
   "cell_type": "code",
   "execution_count": null,
   "id": "51eb5ef9-3615-4416-ae6e-4b151470d544",
   "metadata": {},
   "outputs": [],
   "source": []
  }
 ],
 "metadata": {
  "kernelspec": {
   "display_name": "Python 3 (ipykernel)",
   "language": "python",
   "name": "python3"
  },
  "language_info": {
   "codemirror_mode": {
    "name": "ipython",
    "version": 3
   },
   "file_extension": ".py",
   "mimetype": "text/x-python",
   "name": "python",
   "nbconvert_exporter": "python",
   "pygments_lexer": "ipython3",
   "version": "3.12.11"
  }
 },
 "nbformat": 4,
 "nbformat_minor": 5
}
