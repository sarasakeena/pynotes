{
 "cells": [
  {
   "cell_type": "code",
   "execution_count": 1,
   "id": "dd17f36e",
   "metadata": {},
   "outputs": [],
   "source": [
    "import numpy as np\n",
    "import pandas as pd\n",
    "import time\n",
    "from numpy.linalg import inv, det, eig, norm"
   ]
  },
  {
   "cell_type": "code",
   "execution_count": 117,
   "id": "601c691a",
   "metadata": {},
   "outputs": [
    {
     "name": "stdout",
     "output_type": "stream",
     "text": [
      "[[0 1 2]\n",
      " [3 4 5]]\n"
     ]
    }
   ],
   "source": [
    "arr_1 = np.arange(6).reshape(2, 3)  # 6 is divisible by 2\n",
    "print(arr_1)\n"
   ]
  },
  {
   "cell_type": "code",
   "execution_count": 118,
   "id": "26c4669c",
   "metadata": {},
   "outputs": [
    {
     "name": "stdout",
     "output_type": "stream",
     "text": [
      "[[0 1]\n",
      " [2 3]\n",
      " [4 5]]\n"
     ]
    }
   ],
   "source": [
    "# Cell 2 – Array Creation\n",
    "arr_2 = np.arange(2*3).reshape(3, -1)\n",
    "print(arr_2)"
   ]
  },
  {
   "cell_type": "code",
   "execution_count": 119,
   "id": "3497e292",
   "metadata": {},
   "outputs": [
    {
     "name": "stdout",
     "output_type": "stream",
     "text": [
      "[[0 1 2 3 4 5 6 7 8]]\n"
     ]
    }
   ],
   "source": [
    "# Cell 3 – Array Creation\n",
    "arr_3 = np.arange(3*3).reshape(1, -1)\n",
    "print(arr_3)"
   ]
  },
  {
   "cell_type": "code",
   "execution_count": 120,
   "id": "e270d670",
   "metadata": {},
   "outputs": [
    {
     "name": "stdout",
     "output_type": "stream",
     "text": [
      "[[ 0  1  2  3  4  5]\n",
      " [ 6  7  8  9 10 11]]\n"
     ]
    }
   ],
   "source": [
    "# Cell 4 – Array Creation\n",
    "arr_4 = np.arange(4*3).reshape(2, -1)\n",
    "print(arr_4)"
   ]
  },
  {
   "cell_type": "code",
   "execution_count": 121,
   "id": "663cc27d",
   "metadata": {},
   "outputs": [
    {
     "name": "stdout",
     "output_type": "stream",
     "text": [
      "[[ 0  1  2  3  4]\n",
      " [ 5  6  7  8  9]\n",
      " [10 11 12 13 14]]\n"
     ]
    }
   ],
   "source": [
    "# Cell 5 – Array Creation\n",
    "arr_5 = np.arange(5*3).reshape(3, -1)\n",
    "print(arr_5)"
   ]
  },
  {
   "cell_type": "code",
   "execution_count": 122,
   "id": "f9ef59ac",
   "metadata": {},
   "outputs": [
    {
     "name": "stdout",
     "output_type": "stream",
     "text": [
      "[[ 0  1  2  3  4  5  6  7  8  9 10 11 12 13 14 15 16 17]]\n"
     ]
    }
   ],
   "source": [
    "# Cell 6 – Array Creation\n",
    "arr_6 = np.arange(6*3).reshape(1, -1)\n",
    "print(arr_6)"
   ]
  },
  {
   "cell_type": "code",
   "execution_count": 124,
   "id": "b1d77bd7",
   "metadata": {},
   "outputs": [
    {
     "name": "stdout",
     "output_type": "stream",
     "text": [
      "[[ 0  1  2  3  4  5  6  7  8  9 10 11]\n",
      " [12 13 14 15 16 17 18 19 20 21 22 23]]\n"
     ]
    }
   ],
   "source": [
    "# Cell 7 – Array Creation\n",
    "arr_7 = np.arange(24).reshape(2, -1)  # 24 ÷ 2 = 12 columns\n",
    "print(arr_7)\n"
   ]
  },
  {
   "cell_type": "code",
   "execution_count": 125,
   "id": "bc964df5",
   "metadata": {},
   "outputs": [
    {
     "name": "stdout",
     "output_type": "stream",
     "text": [
      "[[ 0  1  2  3  4  5  6  7]\n",
      " [ 8  9 10 11 12 13 14 15]\n",
      " [16 17 18 19 20 21 22 23]]\n"
     ]
    }
   ],
   "source": [
    "# Cell 8 – Array Creation\n",
    "arr_8 = np.arange(8*3).reshape(3, -1)\n",
    "print(arr_8)"
   ]
  },
  {
   "cell_type": "code",
   "execution_count": 126,
   "id": "01cec239",
   "metadata": {},
   "outputs": [
    {
     "name": "stdout",
     "output_type": "stream",
     "text": [
      "[[ 0  1  2  3  4  5  6  7  8  9 10 11 12 13 14 15 16 17 18 19 20 21 22 23\n",
      "  24 25 26]]\n"
     ]
    }
   ],
   "source": [
    "# Cell 9 – Array Creation\n",
    "arr_9 = np.arange(9*3).reshape(1, -1)\n",
    "print(arr_9)"
   ]
  },
  {
   "cell_type": "code",
   "execution_count": 127,
   "id": "36847a26",
   "metadata": {},
   "outputs": [
    {
     "name": "stdout",
     "output_type": "stream",
     "text": [
      "[[ 0  1  2  3  4  5  6  7  8  9 10 11 12 13 14]\n",
      " [15 16 17 18 19 20 21 22 23 24 25 26 27 28 29]]\n"
     ]
    }
   ],
   "source": [
    "# Cell 10 – Array Creation\n",
    "arr_10 = np.arange(10*3).reshape(2, -1)\n",
    "print(arr_10)"
   ]
  },
  {
   "cell_type": "code",
   "execution_count": 128,
   "id": "95a2c946",
   "metadata": {},
   "outputs": [
    {
     "name": "stdout",
     "output_type": "stream",
     "text": [
      "[[0 1 2]]\n"
     ]
    }
   ],
   "source": [
    "# Cell 11 – Slicing & Indexing\n",
    "print(arr_1[:1])"
   ]
  },
  {
   "cell_type": "code",
   "execution_count": 129,
   "id": "9af63545",
   "metadata": {},
   "outputs": [
    {
     "name": "stdout",
     "output_type": "stream",
     "text": [
      "[[0 1]]\n"
     ]
    }
   ],
   "source": [
    "# Cell 12 – Slicing & Indexing\n",
    "print(arr_2[:1])"
   ]
  },
  {
   "cell_type": "code",
   "execution_count": 130,
   "id": "c3976292",
   "metadata": {},
   "outputs": [
    {
     "name": "stdout",
     "output_type": "stream",
     "text": [
      "[[0 1 2 3 4 5 6 7 8]]\n"
     ]
    }
   ],
   "source": [
    "# Cell 13 – Slicing & Indexing\n",
    "print(arr_3[:1])"
   ]
  },
  {
   "cell_type": "code",
   "execution_count": 131,
   "id": "67d7b435",
   "metadata": {},
   "outputs": [
    {
     "name": "stdout",
     "output_type": "stream",
     "text": [
      "[[0 1 2 3 4 5]]\n"
     ]
    }
   ],
   "source": [
    "# Cell 14 – Slicing & Indexing\n",
    "print(arr_4[:1])"
   ]
  },
  {
   "cell_type": "code",
   "execution_count": 132,
   "id": "4b908ddd",
   "metadata": {},
   "outputs": [
    {
     "name": "stdout",
     "output_type": "stream",
     "text": [
      "[[0 1 2 3 4]]\n"
     ]
    }
   ],
   "source": [
    "# Cell 15 – Slicing & Indexing\n",
    "print(arr_5[:1])"
   ]
  },
  {
   "cell_type": "code",
   "execution_count": 133,
   "id": "e0e76d5f",
   "metadata": {},
   "outputs": [
    {
     "name": "stdout",
     "output_type": "stream",
     "text": [
      "[[ 0  1  2  3  4  5  6  7  8  9 10 11 12 13 14 15 16 17]]\n"
     ]
    }
   ],
   "source": [
    "# Cell 16 – Slicing & Indexing\n",
    "print(arr_6[:1])"
   ]
  },
  {
   "cell_type": "code",
   "execution_count": 134,
   "id": "fc887f56",
   "metadata": {},
   "outputs": [
    {
     "name": "stdout",
     "output_type": "stream",
     "text": [
      "[[ 0  1  2  3  4  5  6  7  8  9 10 11]]\n"
     ]
    }
   ],
   "source": [
    "# Cell 17 – Slicing & Indexing\n",
    "print(arr_7[:1])"
   ]
  },
  {
   "cell_type": "code",
   "execution_count": 135,
   "id": "0b23cd39",
   "metadata": {},
   "outputs": [
    {
     "name": "stdout",
     "output_type": "stream",
     "text": [
      "[[0 1 2 3 4 5 6 7]]\n"
     ]
    }
   ],
   "source": [
    "# Cell 18 – Slicing & Indexing\n",
    "print(arr_8[:1])"
   ]
  },
  {
   "cell_type": "code",
   "execution_count": 136,
   "id": "7eebdb4a",
   "metadata": {},
   "outputs": [
    {
     "name": "stdout",
     "output_type": "stream",
     "text": [
      "[[ 0  1  2  3  4  5  6  7  8  9 10 11 12 13 14 15 16 17 18 19 20 21 22 23\n",
      "  24 25 26]]\n"
     ]
    }
   ],
   "source": [
    "# Cell 19 – Slicing & Indexing\n",
    "print(arr_9[:1])"
   ]
  },
  {
   "cell_type": "code",
   "execution_count": 137,
   "id": "39a6e698",
   "metadata": {},
   "outputs": [
    {
     "name": "stdout",
     "output_type": "stream",
     "text": [
      "[[ 0  1  2  3  4  5  6  7  8  9 10 11 12 13 14]]\n"
     ]
    }
   ],
   "source": [
    "# Cell 20 – Slicing & Indexing\n",
    "print(arr_10[:1])"
   ]
  },
  {
   "cell_type": "code",
   "execution_count": 138,
   "id": "545bbfbc",
   "metadata": {},
   "outputs": [
    {
     "name": "stdout",
     "output_type": "stream",
     "text": [
      "mean: 2.5 std: 1.707825127659933\n"
     ]
    }
   ],
   "source": [
    "# Cell 21 – Stats\n",
    "print('mean:', arr_1.mean(), 'std:', arr_1.std())"
   ]
  },
  {
   "cell_type": "code",
   "execution_count": 139,
   "id": "205c5746",
   "metadata": {},
   "outputs": [
    {
     "name": "stdout",
     "output_type": "stream",
     "text": [
      "mean: 2.5 std: 1.707825127659933\n"
     ]
    }
   ],
   "source": [
    "# Cell 22 – Stats\n",
    "print('mean:', arr_2.mean(), 'std:', arr_2.std())"
   ]
  },
  {
   "cell_type": "code",
   "execution_count": 140,
   "id": "825b7fbc",
   "metadata": {},
   "outputs": [
    {
     "name": "stdout",
     "output_type": "stream",
     "text": [
      "mean: 4.0 std: 2.581988897471611\n"
     ]
    }
   ],
   "source": [
    "# Cell 23 – Stats\n",
    "print('mean:', arr_3.mean(), 'std:', arr_3.std())"
   ]
  },
  {
   "cell_type": "code",
   "execution_count": 141,
   "id": "a61fbcfe",
   "metadata": {},
   "outputs": [
    {
     "name": "stdout",
     "output_type": "stream",
     "text": [
      "mean: 5.5 std: 3.452052529534663\n"
     ]
    }
   ],
   "source": [
    "# Cell 24 – Stats\n",
    "print('mean:', arr_4.mean(), 'std:', arr_4.std())"
   ]
  },
  {
   "cell_type": "code",
   "execution_count": 142,
   "id": "33927b02",
   "metadata": {},
   "outputs": [
    {
     "name": "stdout",
     "output_type": "stream",
     "text": [
      "mean: 7.0 std: 4.320493798938574\n"
     ]
    }
   ],
   "source": [
    "# Cell 25 – Stats\n",
    "print('mean:', arr_5.mean(), 'std:', arr_5.std())"
   ]
  },
  {
   "cell_type": "code",
   "execution_count": 143,
   "id": "a9765625",
   "metadata": {},
   "outputs": [
    {
     "name": "stdout",
     "output_type": "stream",
     "text": [
      "mean: 8.5 std: 5.188127472091127\n"
     ]
    }
   ],
   "source": [
    "# Cell 26 – Stats\n",
    "print('mean:', arr_6.mean(), 'std:', arr_6.std())"
   ]
  },
  {
   "cell_type": "code",
   "execution_count": 144,
   "id": "ae1edab8",
   "metadata": {},
   "outputs": [
    {
     "name": "stdout",
     "output_type": "stream",
     "text": [
      "mean: 11.5 std: 6.922186552431729\n"
     ]
    }
   ],
   "source": [
    "# Cell 27 – Stats\n",
    "print('mean:', arr_7.mean(), 'std:', arr_7.std())"
   ]
  },
  {
   "cell_type": "code",
   "execution_count": 145,
   "id": "4c3af99c",
   "metadata": {},
   "outputs": [
    {
     "name": "stdout",
     "output_type": "stream",
     "text": [
      "mean: 11.5 std: 6.922186552431729\n"
     ]
    }
   ],
   "source": [
    "# Cell 28 – Stats\n",
    "print('mean:', arr_8.mean(), 'std:', arr_8.std())"
   ]
  },
  {
   "cell_type": "code",
   "execution_count": 146,
   "id": "4b4f8a1e",
   "metadata": {},
   "outputs": [
    {
     "name": "stdout",
     "output_type": "stream",
     "text": [
      "mean: 13.0 std: 7.788880963698615\n"
     ]
    }
   ],
   "source": [
    "# Cell 29 – Stats\n",
    "print('mean:', arr_9.mean(), 'std:', arr_9.std())"
   ]
  },
  {
   "cell_type": "code",
   "execution_count": 147,
   "id": "b94158de",
   "metadata": {},
   "outputs": [
    {
     "name": "stdout",
     "output_type": "stream",
     "text": [
      "mean: 14.5 std: 8.65544144839919\n"
     ]
    }
   ],
   "source": [
    "# Cell 30 – Stats\n",
    "print('mean:', arr_10.mean(), 'std:', arr_10.std())"
   ]
  },
  {
   "cell_type": "code",
   "execution_count": 148,
   "id": "d89794ab",
   "metadata": {},
   "outputs": [
    {
     "name": "stdout",
     "output_type": "stream",
     "text": [
      "Matrix: [[8 2 2]\n",
      " [4 3 9]\n",
      " [8 9 6]]\n",
      "Det: -384.0\n"
     ]
    }
   ],
   "source": [
    "# Cell 31 – Matrix Ops\n",
    "m = np.random.randint(1, 10, (3, 3))\n",
    "print('Matrix:', m)\n",
    "print('Det:', det(m))"
   ]
  },
  {
   "cell_type": "code",
   "execution_count": 149,
   "id": "ca42a737",
   "metadata": {},
   "outputs": [
    {
     "name": "stdout",
     "output_type": "stream",
     "text": [
      "Matrix: [[6 3 6]\n",
      " [9 5 7]\n",
      " [6 5 8]]\n",
      "Det: 30.000000000000014\n"
     ]
    }
   ],
   "source": [
    "# Cell 32 – Matrix Ops\n",
    "m = np.random.randint(1, 10, (3, 3))\n",
    "print('Matrix:', m)\n",
    "print('Det:', det(m))"
   ]
  },
  {
   "cell_type": "code",
   "execution_count": 150,
   "id": "87e4040c",
   "metadata": {},
   "outputs": [
    {
     "name": "stdout",
     "output_type": "stream",
     "text": [
      "Matrix: [[9 2 4]\n",
      " [3 5 5]\n",
      " [6 4 1]]\n",
      "Det: -152.99999999999997\n"
     ]
    }
   ],
   "source": [
    "# Cell 33 – Matrix Ops\n",
    "m = np.random.randint(1, 10, (3, 3))\n",
    "print('Matrix:', m)\n",
    "print('Det:', det(m))"
   ]
  },
  {
   "cell_type": "code",
   "execution_count": 151,
   "id": "848cee58",
   "metadata": {},
   "outputs": [
    {
     "name": "stdout",
     "output_type": "stream",
     "text": [
      "Matrix: [[3 5 1]\n",
      " [8 8 5]\n",
      " [6 3 3]]\n",
      "Det: 32.999999999999986\n"
     ]
    }
   ],
   "source": [
    "# Cell 34 – Matrix Ops\n",
    "m = np.random.randint(1, 10, (3, 3))\n",
    "print('Matrix:', m)\n",
    "print('Det:', det(m))"
   ]
  },
  {
   "cell_type": "code",
   "execution_count": 152,
   "id": "218943e4",
   "metadata": {},
   "outputs": [
    {
     "name": "stdout",
     "output_type": "stream",
     "text": [
      "Matrix: [[4 6 8]\n",
      " [5 5 7]\n",
      " [9 7 7]]\n",
      "Det: 32.000000000000014\n"
     ]
    }
   ],
   "source": [
    "# Cell 35 – Matrix Ops\n",
    "m = np.random.randint(1, 10, (3, 3))\n",
    "print('Matrix:', m)\n",
    "print('Det:', det(m))"
   ]
  },
  {
   "cell_type": "code",
   "execution_count": 153,
   "id": "7ddf6e70",
   "metadata": {},
   "outputs": [
    {
     "name": "stdout",
     "output_type": "stream",
     "text": [
      "Matrix: [[8 4 6]\n",
      " [9 5 5]\n",
      " [8 4 5]]\n",
      "Det: -4.000000000000003\n"
     ]
    }
   ],
   "source": [
    "# Cell 36 – Matrix Ops\n",
    "m = np.random.randint(1, 10, (3, 3))\n",
    "print('Matrix:', m)\n",
    "print('Det:', det(m))"
   ]
  },
  {
   "cell_type": "code",
   "execution_count": 154,
   "id": "07d88e9d",
   "metadata": {},
   "outputs": [
    {
     "name": "stdout",
     "output_type": "stream",
     "text": [
      "Matrix: [[8 9 2]\n",
      " [7 2 8]\n",
      " [5 7 3]]\n",
      "Det: -151.0\n"
     ]
    }
   ],
   "source": [
    "# Cell 37 – Matrix Ops\n",
    "m = np.random.randint(1, 10, (3, 3))\n",
    "print('Matrix:', m)\n",
    "print('Det:', det(m))"
   ]
  },
  {
   "cell_type": "code",
   "execution_count": 155,
   "id": "51460b00",
   "metadata": {},
   "outputs": [
    {
     "name": "stdout",
     "output_type": "stream",
     "text": [
      "Matrix: [[1 3 3]\n",
      " [8 2 9]\n",
      " [9 2 4]]\n",
      "Det: 131.00000000000006\n"
     ]
    }
   ],
   "source": [
    "# Cell 38 – Matrix Ops\n",
    "m = np.random.randint(1, 10, (3, 3))\n",
    "print('Matrix:', m)\n",
    "print('Det:', det(m))"
   ]
  },
  {
   "cell_type": "code",
   "execution_count": 156,
   "id": "ec82b246",
   "metadata": {},
   "outputs": [
    {
     "name": "stdout",
     "output_type": "stream",
     "text": [
      "Matrix: [[4 8 8]\n",
      " [2 8 3]\n",
      " [3 6 1]]\n",
      "Det: -79.99999999999997\n"
     ]
    }
   ],
   "source": [
    "# Cell 39 – Matrix Ops\n",
    "m = np.random.randint(1, 10, (3, 3))\n",
    "print('Matrix:', m)\n",
    "print('Det:', det(m))"
   ]
  },
  {
   "cell_type": "code",
   "execution_count": 157,
   "id": "287334df",
   "metadata": {},
   "outputs": [
    {
     "name": "stdout",
     "output_type": "stream",
     "text": [
      "Matrix: [[1 9 7]\n",
      " [3 4 3]\n",
      " [7 3 6]]\n",
      "Det: -90.99999999999997\n"
     ]
    }
   ],
   "source": [
    "# Cell 40 – Matrix Ops\n",
    "m = np.random.randint(1, 10, (3, 3))\n",
    "print('Matrix:', m)\n",
    "print('Det:', det(m))"
   ]
  },
  {
   "cell_type": "code",
   "execution_count": 158,
   "id": "b1b422bc",
   "metadata": {},
   "outputs": [
    {
     "name": "stdout",
     "output_type": "stream",
     "text": [
      "Matrix: [[2 2 5]\n",
      " [9 1 5]\n",
      " [6 5 2]]\n",
      "Det: 172.99999999999991\n"
     ]
    }
   ],
   "source": [
    "# Cell 41 – Matrix Ops\n",
    "m = np.random.randint(1, 10, (3, 3))\n",
    "print('Matrix:', m)\n",
    "print('Det:', det(m))"
   ]
  },
  {
   "cell_type": "code",
   "execution_count": 159,
   "id": "bf9aa383",
   "metadata": {},
   "outputs": [
    {
     "name": "stdout",
     "output_type": "stream",
     "text": [
      "Matrix: [[6 5 1]\n",
      " [5 8 1]\n",
      " [1 4 7]]\n",
      "Det: 154.00000000000006\n"
     ]
    }
   ],
   "source": [
    "# Cell 42 – Matrix Ops\n",
    "m = np.random.randint(1, 10, (3, 3))\n",
    "print('Matrix:', m)\n",
    "print('Det:', det(m))"
   ]
  },
  {
   "cell_type": "code",
   "execution_count": 160,
   "id": "3765c210",
   "metadata": {},
   "outputs": [
    {
     "name": "stdout",
     "output_type": "stream",
     "text": [
      "Matrix: [[8 3 3]\n",
      " [6 2 7]\n",
      " [1 6 9]]\n",
      "Det: -230.99999999999994\n"
     ]
    }
   ],
   "source": [
    "# Cell 43 – Matrix Ops\n",
    "m = np.random.randint(1, 10, (3, 3))\n",
    "print('Matrix:', m)\n",
    "print('Det:', det(m))"
   ]
  },
  {
   "cell_type": "code",
   "execution_count": 161,
   "id": "eae5712a",
   "metadata": {},
   "outputs": [
    {
     "name": "stdout",
     "output_type": "stream",
     "text": [
      "Matrix: [[6 6 3]\n",
      " [7 5 6]\n",
      " [8 3 4]]\n",
      "Det: 74.99999999999997\n"
     ]
    }
   ],
   "source": [
    "# Cell 44 – Matrix Ops\n",
    "m = np.random.randint(1, 10, (3, 3))\n",
    "print('Matrix:', m)\n",
    "print('Det:', det(m))"
   ]
  },
  {
   "cell_type": "code",
   "execution_count": 162,
   "id": "bc01dcf1",
   "metadata": {},
   "outputs": [
    {
     "name": "stdout",
     "output_type": "stream",
     "text": [
      "Matrix: [[1 5 7]\n",
      " [5 3 7]\n",
      " [6 1 5]]\n",
      "Det: 1.9999999999999905\n"
     ]
    }
   ],
   "source": [
    "# Cell 45 – Matrix Ops\n",
    "m = np.random.randint(1, 10, (3, 3))\n",
    "print('Matrix:', m)\n",
    "print('Det:', det(m))"
   ]
  },
  {
   "cell_type": "code",
   "execution_count": 163,
   "id": "dd6651ad",
   "metadata": {},
   "outputs": [
    {
     "name": "stdout",
     "output_type": "stream",
     "text": [
      "[[0.78383235 0.63483371 0.24904309]\n",
      " [0.75807586 0.31307694 0.93723736]\n",
      " [0.04286545 0.4408672  0.91272229]]\n"
     ]
    }
   ],
   "source": [
    "# Cell 46 – Random\n",
    "np.random.seed(46)\n",
    "print(np.random.rand(3, 3))"
   ]
  },
  {
   "cell_type": "code",
   "execution_count": 164,
   "id": "07f9beb8",
   "metadata": {},
   "outputs": [
    {
     "name": "stdout",
     "output_type": "stream",
     "text": [
      "[[0.11348847 0.97448309 0.72873463]\n",
      " [0.35146781 0.70760514 0.7996046 ]\n",
      " [0.64556185 0.41459961 0.70603101]]\n"
     ]
    }
   ],
   "source": [
    "# Cell 47 – Random\n",
    "np.random.seed(47)\n",
    "print(np.random.rand(3, 3))"
   ]
  },
  {
   "cell_type": "code",
   "execution_count": 165,
   "id": "94708d59",
   "metadata": {},
   "outputs": [
    {
     "name": "stdout",
     "output_type": "stream",
     "text": [
      "[[0.01749027 0.89157327 0.28486117]\n",
      " [0.29897638 0.79203426 0.3244706 ]\n",
      " [0.86471039 0.44751263 0.54822991]]\n"
     ]
    }
   ],
   "source": [
    "# Cell 48 – Random\n",
    "np.random.seed(48)\n",
    "print(np.random.rand(3, 3))"
   ]
  },
  {
   "cell_type": "code",
   "execution_count": 166,
   "id": "c6186181",
   "metadata": {},
   "outputs": [
    {
     "name": "stdout",
     "output_type": "stream",
     "text": [
      "[[0.30096446 0.24706183 0.92633514]\n",
      " [0.89160344 0.68327676 0.56688466]\n",
      " [0.54696588 0.21042384 0.76975447]]\n"
     ]
    }
   ],
   "source": [
    "# Cell 49 – Random\n",
    "np.random.seed(49)\n",
    "print(np.random.rand(3, 3))"
   ]
  },
  {
   "cell_type": "code",
   "execution_count": 167,
   "id": "a237583d",
   "metadata": {},
   "outputs": [
    {
     "name": "stdout",
     "output_type": "stream",
     "text": [
      "[[0.49460165 0.2280831  0.25547392]\n",
      " [0.39632991 0.3773151  0.99657423]\n",
      " [0.4081972  0.77189399 0.76053669]]\n"
     ]
    }
   ],
   "source": [
    "# Cell 50 – Random\n",
    "np.random.seed(50)\n",
    "print(np.random.rand(3, 3))"
   ]
  },
  {
   "cell_type": "code",
   "execution_count": 168,
   "id": "49a09f71",
   "metadata": {},
   "outputs": [
    {
     "name": "stdout",
     "output_type": "stream",
     "text": [
      "[[0.67573142 0.04471218 0.34330367]\n",
      " [0.64401973 0.284213   0.94933781]\n",
      " [0.15767017 0.38797296 0.58999368]]\n"
     ]
    }
   ],
   "source": [
    "# Cell 51 – Random\n",
    "np.random.seed(51)\n",
    "print(np.random.rand(3, 3))"
   ]
  },
  {
   "cell_type": "code",
   "execution_count": 169,
   "id": "c345a916",
   "metadata": {},
   "outputs": [
    {
     "name": "stdout",
     "output_type": "stream",
     "text": [
      "[[0.82311034 0.02611798 0.21077064]\n",
      " [0.61842177 0.09828447 0.62013131]\n",
      " [0.05389022 0.96065406 0.98042937]]\n"
     ]
    }
   ],
   "source": [
    "# Cell 52 – Random\n",
    "np.random.seed(52)\n",
    "print(np.random.rand(3, 3))"
   ]
  },
  {
   "cell_type": "code",
   "execution_count": 170,
   "id": "21d69c6c",
   "metadata": {},
   "outputs": [
    {
     "name": "stdout",
     "output_type": "stream",
     "text": [
      "[[0.84666241 0.56116554 0.4548754 ]\n",
      " [0.35217491 0.58585138 0.53574974]\n",
      " [0.82745628 0.2645422  0.47837906]]\n"
     ]
    }
   ],
   "source": [
    "# Cell 53 – Random\n",
    "np.random.seed(53)\n",
    "print(np.random.rand(3, 3))"
   ]
  },
  {
   "cell_type": "code",
   "execution_count": 171,
   "id": "153daed2",
   "metadata": {},
   "outputs": [
    {
     "name": "stdout",
     "output_type": "stream",
     "text": [
      "[[0.42018297 0.3632395  0.18487669]\n",
      " [0.51828273 0.00860545 0.96893621]\n",
      " [0.80138126 0.75731199 0.6714843 ]]\n"
     ]
    }
   ],
   "source": [
    "# Cell 54 – Random\n",
    "np.random.seed(54)\n",
    "print(np.random.rand(3, 3))"
   ]
  },
  {
   "cell_type": "code",
   "execution_count": 172,
   "id": "4590c932",
   "metadata": {},
   "outputs": [
    {
     "name": "stdout",
     "output_type": "stream",
     "text": [
      "[[0.09310829 0.97165592 0.48385998]\n",
      " [0.2425227  0.53112383 0.28554424]\n",
      " [0.86263038 0.04110015 0.10834773]]\n"
     ]
    }
   ],
   "source": [
    "# Cell 55 – Random\n",
    "np.random.seed(55)\n",
    "print(np.random.rand(3, 3))"
   ]
  },
  {
   "cell_type": "code",
   "execution_count": 173,
   "id": "a3118c32",
   "metadata": {},
   "outputs": [
    {
     "name": "stdout",
     "output_type": "stream",
     "text": [
      "[[False False  True  True  True  True  True  True  True  True  True  True]\n",
      " [ True  True  True  True  True  True  True  True  True  True  True  True]]\n"
     ]
    }
   ],
   "source": [
    "# Cell 56 – Logical Ops\n",
    "print(arr_7 > 1)"
   ]
  },
  {
   "cell_type": "code",
   "execution_count": 174,
   "id": "1b92d9fc",
   "metadata": {},
   "outputs": [
    {
     "name": "stdout",
     "output_type": "stream",
     "text": [
      "[[False False False  True  True  True  True  True]\n",
      " [ True  True  True  True  True  True  True  True]\n",
      " [ True  True  True  True  True  True  True  True]]\n"
     ]
    }
   ],
   "source": [
    "# Cell 57 – Logical Ops\n",
    "print(arr_8 > 2)"
   ]
  },
  {
   "cell_type": "code",
   "execution_count": 175,
   "id": "5a03e0ee",
   "metadata": {},
   "outputs": [
    {
     "name": "stdout",
     "output_type": "stream",
     "text": [
      "[[False False False False  True  True  True  True  True  True  True  True\n",
      "   True  True  True  True  True  True  True  True  True  True  True  True\n",
      "   True  True  True]]\n"
     ]
    }
   ],
   "source": [
    "# Cell 58 – Logical Ops\n",
    "print(arr_9 > 3)"
   ]
  },
  {
   "cell_type": "code",
   "execution_count": 176,
   "id": "3e44a4b1",
   "metadata": {},
   "outputs": [
    {
     "name": "stdout",
     "output_type": "stream",
     "text": [
      "[[False False False False False  True  True  True  True  True  True  True\n",
      "   True  True  True]\n",
      " [ True  True  True  True  True  True  True  True  True  True  True  True\n",
      "   True  True  True]]\n"
     ]
    }
   ],
   "source": [
    "# Cell 59 – Logical Ops\n",
    "print(arr_10 > 4)"
   ]
  },
  {
   "cell_type": "code",
   "execution_count": 177,
   "id": "a6314cff",
   "metadata": {},
   "outputs": [
    {
     "name": "stdout",
     "output_type": "stream",
     "text": [
      "[[False  True  True]\n",
      " [ True  True  True]]\n"
     ]
    }
   ],
   "source": [
    "# Cell 60 – Logical Ops\n",
    "print(arr_1 > 0)"
   ]
  },
  {
   "cell_type": "code",
   "execution_count": 178,
   "id": "5a4157d5",
   "metadata": {},
   "outputs": [
    {
     "name": "stdout",
     "output_type": "stream",
     "text": [
      "[[False False]\n",
      " [ True  True]\n",
      " [ True  True]]\n"
     ]
    }
   ],
   "source": [
    "# Cell 61 – Logical Ops\n",
    "print(arr_2 > 1)"
   ]
  },
  {
   "cell_type": "code",
   "execution_count": 179,
   "id": "02a54c1f",
   "metadata": {},
   "outputs": [
    {
     "name": "stdout",
     "output_type": "stream",
     "text": [
      "[[False False False  True  True  True  True  True  True]]\n"
     ]
    }
   ],
   "source": [
    "# Cell 62 – Logical Ops\n",
    "print(arr_3 > 2)"
   ]
  },
  {
   "cell_type": "code",
   "execution_count": 180,
   "id": "08da9870",
   "metadata": {},
   "outputs": [
    {
     "name": "stdout",
     "output_type": "stream",
     "text": [
      "[[False False False False  True  True]\n",
      " [ True  True  True  True  True  True]]\n"
     ]
    }
   ],
   "source": [
    "# Cell 63 – Logical Ops\n",
    "print(arr_4 > 3)"
   ]
  },
  {
   "cell_type": "code",
   "execution_count": 181,
   "id": "e3ce0744",
   "metadata": {},
   "outputs": [
    {
     "name": "stdout",
     "output_type": "stream",
     "text": [
      "[[False False False False False]\n",
      " [ True  True  True  True  True]\n",
      " [ True  True  True  True  True]]\n"
     ]
    }
   ],
   "source": [
    "# Cell 64 – Logical Ops\n",
    "print(arr_5 > 4)"
   ]
  },
  {
   "cell_type": "code",
   "execution_count": 182,
   "id": "d576ef00",
   "metadata": {},
   "outputs": [
    {
     "name": "stdout",
     "output_type": "stream",
     "text": [
      "[[False  True  True  True  True  True  True  True  True  True  True  True\n",
      "   True  True  True  True  True  True]]\n"
     ]
    }
   ],
   "source": [
    "# Cell 65 – Logical Ops\n",
    "print(arr_6 > 0)"
   ]
  },
  {
   "cell_type": "code",
   "execution_count": 183,
   "id": "cab3c5fb",
   "metadata": {},
   "outputs": [
    {
     "name": "stdout",
     "output_type": "stream",
     "text": [
      "Sorted: [13 25 72 78 95]\n"
     ]
    }
   ],
   "source": [
    "# Cell 66 – Sort & Argsort\n",
    "rand = np.random.randint(1, 100, 5)\n",
    "print('Sorted:', np.sort(rand))"
   ]
  },
  {
   "cell_type": "code",
   "execution_count": 184,
   "id": "0fb3cad8",
   "metadata": {},
   "outputs": [
    {
     "name": "stdout",
     "output_type": "stream",
     "text": [
      "Sorted: [32 52 73 75 98]\n"
     ]
    }
   ],
   "source": [
    "# Cell 67 – Sort & Argsort\n",
    "rand = np.random.randint(1, 100, 5)\n",
    "print('Sorted:', np.sort(rand))"
   ]
  },
  {
   "cell_type": "code",
   "execution_count": 185,
   "id": "894a06df",
   "metadata": {},
   "outputs": [
    {
     "name": "stdout",
     "output_type": "stream",
     "text": [
      "Sorted: [ 1 56 92 94 94]\n"
     ]
    }
   ],
   "source": [
    "# Cell 68 – Sort & Argsort\n",
    "rand = np.random.randint(1, 100, 5)\n",
    "print('Sorted:', np.sort(rand))"
   ]
  },
  {
   "cell_type": "code",
   "execution_count": 186,
   "id": "fea1659c",
   "metadata": {},
   "outputs": [
    {
     "name": "stdout",
     "output_type": "stream",
     "text": [
      "Sorted: [44 50 63 83 92]\n"
     ]
    }
   ],
   "source": [
    "# Cell 69 – Sort & Argsort\n",
    "rand = np.random.randint(1, 100, 5)\n",
    "print('Sorted:', np.sort(rand))"
   ]
  },
  {
   "cell_type": "code",
   "execution_count": 187,
   "id": "98bab76b",
   "metadata": {},
   "outputs": [
    {
     "name": "stdout",
     "output_type": "stream",
     "text": [
      "Sorted: [11 49 61 79 89]\n"
     ]
    }
   ],
   "source": [
    "# Cell 70 – Sort & Argsort\n",
    "rand = np.random.randint(1, 100, 5)\n",
    "print('Sorted:', np.sort(rand))"
   ]
  },
  {
   "cell_type": "code",
   "execution_count": 188,
   "id": "1ad22037",
   "metadata": {},
   "outputs": [
    {
     "name": "stdout",
     "output_type": "stream",
     "text": [
      "Sorted: [45 60 60 89 93]\n"
     ]
    }
   ],
   "source": [
    "# Cell 71 – Sort & Argsort\n",
    "rand = np.random.randint(1, 100, 5)\n",
    "print('Sorted:', np.sort(rand))"
   ]
  },
  {
   "cell_type": "code",
   "execution_count": 189,
   "id": "26f2a195",
   "metadata": {},
   "outputs": [
    {
     "name": "stdout",
     "output_type": "stream",
     "text": [
      "Sorted: [22 53 63 78 94]\n"
     ]
    }
   ],
   "source": [
    "# Cell 72 – Sort & Argsort\n",
    "rand = np.random.randint(1, 100, 5)\n",
    "print('Sorted:', np.sort(rand))"
   ]
  },
  {
   "cell_type": "code",
   "execution_count": 190,
   "id": "61107201",
   "metadata": {},
   "outputs": [
    {
     "name": "stdout",
     "output_type": "stream",
     "text": [
      "Sorted: [34 46 53 59 62]\n"
     ]
    }
   ],
   "source": [
    "# Cell 73 – Sort & Argsort\n",
    "rand = np.random.randint(1, 100, 5)\n",
    "print('Sorted:', np.sort(rand))"
   ]
  },
  {
   "cell_type": "code",
   "execution_count": 191,
   "id": "a93ae9ed",
   "metadata": {},
   "outputs": [
    {
     "name": "stdout",
     "output_type": "stream",
     "text": [
      "Sorted: [19 25 28 56 81]\n"
     ]
    }
   ],
   "source": [
    "# Cell 74 – Sort & Argsort\n",
    "rand = np.random.randint(1, 100, 5)\n",
    "print('Sorted:', np.sort(rand))"
   ]
  },
  {
   "cell_type": "code",
   "execution_count": 192,
   "id": "eac4a8f2",
   "metadata": {},
   "outputs": [
    {
     "name": "stdout",
     "output_type": "stream",
     "text": [
      "Sorted: [19 43 57 63 63]\n"
     ]
    }
   ],
   "source": [
    "# Cell 75 – Sort & Argsort\n",
    "rand = np.random.randint(1, 100, 5)\n",
    "print('Sorted:', np.sort(rand))"
   ]
  },
  {
   "cell_type": "code",
   "execution_count": 193,
   "id": "a42f36d3",
   "metadata": {},
   "outputs": [
    {
     "name": "stdout",
     "output_type": "stream",
     "text": [
      "[[1. 1.]\n",
      " [0. 0.]]\n"
     ]
    }
   ],
   "source": [
    "# Cell 76 – Stack/Split\n",
    "a = np.ones(2)\n",
    "b = np.zeros(2)\n",
    "print(np.vstack((a,b)))"
   ]
  },
  {
   "cell_type": "code",
   "execution_count": 194,
   "id": "1ff2ecec",
   "metadata": {},
   "outputs": [
    {
     "name": "stdout",
     "output_type": "stream",
     "text": [
      "[[1. 1. 1.]\n",
      " [0. 0. 0.]]\n"
     ]
    }
   ],
   "source": [
    "# Cell 77 – Stack/Split\n",
    "a = np.ones(3)\n",
    "b = np.zeros(3)\n",
    "print(np.vstack((a,b)))"
   ]
  },
  {
   "cell_type": "code",
   "execution_count": 195,
   "id": "23f48eff",
   "metadata": {},
   "outputs": [
    {
     "name": "stdout",
     "output_type": "stream",
     "text": [
      "[[1. 1. 1. 1.]\n",
      " [0. 0. 0. 0.]]\n"
     ]
    }
   ],
   "source": [
    "# Cell 78 – Stack/Split\n",
    "a = np.ones(4)\n",
    "b = np.zeros(4)\n",
    "print(np.vstack((a,b)))"
   ]
  },
  {
   "cell_type": "code",
   "execution_count": 196,
   "id": "46fb4356",
   "metadata": {},
   "outputs": [
    {
     "name": "stdout",
     "output_type": "stream",
     "text": [
      "[[1. 1. 1. 1. 1.]\n",
      " [0. 0. 0. 0. 0.]]\n"
     ]
    }
   ],
   "source": [
    "# Cell 79 – Stack/Split\n",
    "a = np.ones(5)\n",
    "b = np.zeros(5)\n",
    "print(np.vstack((a,b)))"
   ]
  },
  {
   "cell_type": "code",
   "execution_count": 197,
   "id": "91929d45",
   "metadata": {},
   "outputs": [
    {
     "name": "stdout",
     "output_type": "stream",
     "text": [
      "[[1. 1.]\n",
      " [0. 0.]]\n"
     ]
    }
   ],
   "source": [
    "# Cell 80 – Stack/Split\n",
    "a = np.ones(2)\n",
    "b = np.zeros(2)\n",
    "print(np.vstack((a,b)))"
   ]
  },
  {
   "cell_type": "code",
   "execution_count": 198,
   "id": "5c461b8c",
   "metadata": {},
   "outputs": [
    {
     "name": "stdout",
     "output_type": "stream",
     "text": [
      "[[1. 1. 1.]\n",
      " [0. 0. 0.]]\n"
     ]
    }
   ],
   "source": [
    "# Cell 81 – Stack/Split\n",
    "a = np.ones(3)\n",
    "b = np.zeros(3)\n",
    "print(np.vstack((a,b)))"
   ]
  },
  {
   "cell_type": "code",
   "execution_count": 199,
   "id": "866f7418",
   "metadata": {},
   "outputs": [
    {
     "name": "stdout",
     "output_type": "stream",
     "text": [
      "[[1. 1. 1. 1.]\n",
      " [0. 0. 0. 0.]]\n"
     ]
    }
   ],
   "source": [
    "# Cell 82 – Stack/Split\n",
    "a = np.ones(4)\n",
    "b = np.zeros(4)\n",
    "print(np.vstack((a,b)))"
   ]
  },
  {
   "cell_type": "code",
   "execution_count": 200,
   "id": "a4b56fe2",
   "metadata": {},
   "outputs": [
    {
     "name": "stdout",
     "output_type": "stream",
     "text": [
      "[[1. 1. 1. 1. 1.]\n",
      " [0. 0. 0. 0. 0.]]\n"
     ]
    }
   ],
   "source": [
    "# Cell 83 – Stack/Split\n",
    "a = np.ones(5)\n",
    "b = np.zeros(5)\n",
    "print(np.vstack((a,b)))"
   ]
  },
  {
   "cell_type": "code",
   "execution_count": 201,
   "id": "ba56bcd2",
   "metadata": {},
   "outputs": [
    {
     "name": "stdout",
     "output_type": "stream",
     "text": [
      "[[1. 1.]\n",
      " [0. 0.]]\n"
     ]
    }
   ],
   "source": [
    "# Cell 84 – Stack/Split\n",
    "a = np.ones(2)\n",
    "b = np.zeros(2)\n",
    "print(np.vstack((a,b)))"
   ]
  },
  {
   "cell_type": "code",
   "execution_count": 202,
   "id": "4af55eba",
   "metadata": {},
   "outputs": [
    {
     "name": "stdout",
     "output_type": "stream",
     "text": [
      "[[1. 1. 1.]\n",
      " [0. 0. 0.]]\n"
     ]
    }
   ],
   "source": [
    "# Cell 85 – Stack/Split\n",
    "a = np.ones(3)\n",
    "b = np.zeros(3)\n",
    "print(np.vstack((a,b)))"
   ]
  },
  {
   "cell_type": "code",
   "execution_count": 203,
   "id": "a59d8221",
   "metadata": {},
   "outputs": [
    {
     "name": "stdout",
     "output_type": "stream",
     "text": [
      "[1 2 3 4 5]\n"
     ]
    }
   ],
   "source": [
    "# Cell 86 – Set Ops\n",
    "a = np.array([1,2,3,4])\n",
    "b = np.array([3,4,5])\n",
    "print(np.union1d(a,b))"
   ]
  },
  {
   "cell_type": "code",
   "execution_count": 204,
   "id": "9da86029",
   "metadata": {},
   "outputs": [
    {
     "name": "stdout",
     "output_type": "stream",
     "text": [
      "[1 2 3 4 5]\n"
     ]
    }
   ],
   "source": [
    "# Cell 87 – Set Ops\n",
    "a = np.array([1,2,3,4])\n",
    "b = np.array([3,4,5])\n",
    "print(np.union1d(a,b))"
   ]
  },
  {
   "cell_type": "code",
   "execution_count": 205,
   "id": "2560aed2",
   "metadata": {},
   "outputs": [
    {
     "name": "stdout",
     "output_type": "stream",
     "text": [
      "[1 2 3 4 5]\n"
     ]
    }
   ],
   "source": [
    "# Cell 88 – Set Ops\n",
    "a = np.array([1,2,3,4])\n",
    "b = np.array([3,4,5])\n",
    "print(np.union1d(a,b))"
   ]
  },
  {
   "cell_type": "code",
   "execution_count": 206,
   "id": "2425ff37",
   "metadata": {},
   "outputs": [
    {
     "name": "stdout",
     "output_type": "stream",
     "text": [
      "[1 2 3 4 5]\n"
     ]
    }
   ],
   "source": [
    "# Cell 89 – Set Ops\n",
    "a = np.array([1,2,3,4])\n",
    "b = np.array([3,4,5])\n",
    "print(np.union1d(a,b))"
   ]
  },
  {
   "cell_type": "code",
   "execution_count": 207,
   "id": "cb401f30",
   "metadata": {},
   "outputs": [
    {
     "name": "stdout",
     "output_type": "stream",
     "text": [
      "[1 2 3 4 5]\n"
     ]
    }
   ],
   "source": [
    "# Cell 90 – Set Ops\n",
    "a = np.array([1,2,3,4])\n",
    "b = np.array([3,4,5])\n",
    "print(np.union1d(a,b))"
   ]
  },
  {
   "cell_type": "code",
   "execution_count": 208,
   "id": "51ef5d72",
   "metadata": {},
   "outputs": [
    {
     "name": "stdout",
     "output_type": "stream",
     "text": [
      "[1 2 3 4 5]\n"
     ]
    }
   ],
   "source": [
    "# Cell 91 – Set Ops\n",
    "a = np.array([1,2,3,4])\n",
    "b = np.array([3,4,5])\n",
    "print(np.union1d(a,b))"
   ]
  },
  {
   "cell_type": "code",
   "execution_count": 209,
   "id": "b5f3c9ef",
   "metadata": {},
   "outputs": [
    {
     "name": "stdout",
     "output_type": "stream",
     "text": [
      "[1 2 3 4 5]\n"
     ]
    }
   ],
   "source": [
    "# Cell 92 – Set Ops\n",
    "a = np.array([1,2,3,4])\n",
    "b = np.array([3,4,5])\n",
    "print(np.union1d(a,b))"
   ]
  },
  {
   "cell_type": "code",
   "execution_count": 210,
   "id": "cce6c31d",
   "metadata": {},
   "outputs": [
    {
     "name": "stdout",
     "output_type": "stream",
     "text": [
      "[1 2 3 4 5]\n"
     ]
    }
   ],
   "source": [
    "# Cell 93 – Set Ops\n",
    "a = np.array([1,2,3,4])\n",
    "b = np.array([3,4,5])\n",
    "print(np.union1d(a,b))"
   ]
  },
  {
   "cell_type": "code",
   "execution_count": 211,
   "id": "e9238e76",
   "metadata": {},
   "outputs": [
    {
     "name": "stdout",
     "output_type": "stream",
     "text": [
      "[1 2 3 4 5]\n"
     ]
    }
   ],
   "source": [
    "# Cell 94 – Set Ops\n",
    "a = np.array([1,2,3,4])\n",
    "b = np.array([3,4,5])\n",
    "print(np.union1d(a,b))"
   ]
  },
  {
   "cell_type": "code",
   "execution_count": 212,
   "id": "c149e998",
   "metadata": {},
   "outputs": [
    {
     "name": "stdout",
     "output_type": "stream",
     "text": [
      "[1 2 3 4 5]\n"
     ]
    }
   ],
   "source": [
    "# Cell 95 – Set Ops\n",
    "a = np.array([1,2,3,4])\n",
    "b = np.array([3,4,5])\n",
    "print(np.union1d(a,b))"
   ]
  },
  {
   "cell_type": "code",
   "execution_count": 213,
   "id": "42c6f1f5",
   "metadata": {},
   "outputs": [
    {
     "name": "stdout",
     "output_type": "stream",
     "text": [
      "[1 2 3 4]\n"
     ]
    }
   ],
   "source": [
    "# Cell 96 – Flatten\n",
    "x = np.array([[1,2],[3,4]])\n",
    "print(x.flatten())"
   ]
  },
  {
   "cell_type": "code",
   "execution_count": 214,
   "id": "09e4f29b",
   "metadata": {},
   "outputs": [
    {
     "name": "stdout",
     "output_type": "stream",
     "text": [
      "[1 2 3 4]\n"
     ]
    }
   ],
   "source": [
    "# Cell 97 – Flatten\n",
    "x = np.array([[1,2],[3,4]])\n",
    "print(x.flatten())"
   ]
  },
  {
   "cell_type": "code",
   "execution_count": 215,
   "id": "cdb719ca",
   "metadata": {},
   "outputs": [
    {
     "name": "stdout",
     "output_type": "stream",
     "text": [
      "[1 2 3 4]\n"
     ]
    }
   ],
   "source": [
    "# Cell 98 – Flatten\n",
    "x = np.array([[1,2],[3,4]])\n",
    "print(x.flatten())"
   ]
  },
  {
   "cell_type": "code",
   "execution_count": 216,
   "id": "5428eb65",
   "metadata": {},
   "outputs": [
    {
     "name": "stdout",
     "output_type": "stream",
     "text": [
      "[1 2 3 4]\n"
     ]
    }
   ],
   "source": [
    "# Cell 99 – Flatten\n",
    "x = np.array([[1,2],[3,4]])\n",
    "print(x.flatten())"
   ]
  },
  {
   "cell_type": "code",
   "execution_count": 217,
   "id": "4ba68051",
   "metadata": {},
   "outputs": [
    {
     "name": "stdout",
     "output_type": "stream",
     "text": [
      "[1 2 3 4]\n"
     ]
    }
   ],
   "source": [
    "# Cell 100 – Flatten\n",
    "x = np.array([[1,2],[3,4]])\n",
    "print(x.flatten())"
   ]
  },
  {
   "cell_type": "code",
   "execution_count": 218,
   "id": "42c622b8",
   "metadata": {},
   "outputs": [
    {
     "name": "stdout",
     "output_type": "stream",
     "text": [
      "[[0 1]\n",
      " [2 3]\n",
      " [4 5]]\n"
     ]
    }
   ],
   "source": [
    "# Cell 101 – Save/Load\n",
    "np.save('temp_101.npy', arr_2)\n",
    "print(np.load('temp_101.npy'))"
   ]
  },
  {
   "cell_type": "code",
   "execution_count": 219,
   "id": "7aad5e66",
   "metadata": {},
   "outputs": [
    {
     "name": "stdout",
     "output_type": "stream",
     "text": [
      "[[0 1 2 3 4 5 6 7 8]]\n"
     ]
    }
   ],
   "source": [
    "# Cell 102 – Save/Load\n",
    "np.save('temp_102.npy', arr_3)\n",
    "print(np.load('temp_102.npy'))"
   ]
  },
  {
   "cell_type": "code",
   "execution_count": 220,
   "id": "dc7782f9",
   "metadata": {},
   "outputs": [
    {
     "name": "stdout",
     "output_type": "stream",
     "text": [
      "[[ 0  1  2  3  4  5]\n",
      " [ 6  7  8  9 10 11]]\n"
     ]
    }
   ],
   "source": [
    "# Cell 103 – Save/Load\n",
    "np.save('temp_103.npy', arr_4)\n",
    "print(np.load('temp_103.npy'))"
   ]
  },
  {
   "cell_type": "code",
   "execution_count": 221,
   "id": "95f7a7ac",
   "metadata": {},
   "outputs": [
    {
     "name": "stdout",
     "output_type": "stream",
     "text": [
      "[[ 0  1  2  3  4]\n",
      " [ 5  6  7  8  9]\n",
      " [10 11 12 13 14]]\n"
     ]
    }
   ],
   "source": [
    "# Cell 104 – Save/Load\n",
    "np.save('temp_104.npy', arr_5)\n",
    "print(np.load('temp_104.npy'))"
   ]
  },
  {
   "cell_type": "code",
   "execution_count": 222,
   "id": "b9c7d1e1",
   "metadata": {},
   "outputs": [
    {
     "name": "stdout",
     "output_type": "stream",
     "text": [
      "[[ 0  1  2  3  4  5  6  7  8  9 10 11 12 13 14 15 16 17]]\n"
     ]
    }
   ],
   "source": [
    "# Cell 105 – Save/Load\n",
    "np.save('temp_105.npy', arr_6)\n",
    "print(np.load('temp_105.npy'))"
   ]
  },
  {
   "cell_type": "code",
   "execution_count": 245,
   "id": "c75b9092",
   "metadata": {},
   "outputs": [
    {
     "name": "stdout",
     "output_type": "stream",
     "text": [
      "[[ 0  1  2  3  4  5  6  7  8  9 10 11]\n",
      " [12 13 14 15 16 17 18 19 20 21 22 23]]\n"
     ]
    }
   ],
   "source": [
    "# Cell 106 – Save/Load\n",
    "np.save('temp_106.npy', arr_7)\n",
    "print(np.load('temp_106.npy'))"
   ]
  },
  {
   "cell_type": "code",
   "execution_count": 246,
   "id": "7096b47a",
   "metadata": {},
   "outputs": [
    {
     "name": "stdout",
     "output_type": "stream",
     "text": [
      "[[ 0  1  2  3  4  5  6  7]\n",
      " [ 8  9 10 11 12 13 14 15]\n",
      " [16 17 18 19 20 21 22 23]]\n"
     ]
    }
   ],
   "source": [
    "# Cell 107 – Save/Load\n",
    "np.save('temp_107.npy', arr_8)\n",
    "print(np.load('temp_107.npy'))"
   ]
  },
  {
   "cell_type": "code",
   "execution_count": 247,
   "id": "c42d6f03",
   "metadata": {},
   "outputs": [
    {
     "name": "stdout",
     "output_type": "stream",
     "text": [
      "[[ 0  1  2  3  4  5  6  7  8  9 10 11 12 13 14 15 16 17 18 19 20 21 22 23\n",
      "  24 25 26]]\n"
     ]
    }
   ],
   "source": [
    "# Cell 108 – Save/Load\n",
    "np.save('temp_108.npy', arr_9)\n",
    "print(np.load('temp_108.npy'))"
   ]
  },
  {
   "cell_type": "code",
   "execution_count": 248,
   "id": "63635e00",
   "metadata": {},
   "outputs": [
    {
     "name": "stdout",
     "output_type": "stream",
     "text": [
      "[[ 0  1  2  3  4  5  6  7  8  9 10 11 12 13 14]\n",
      " [15 16 17 18 19 20 21 22 23 24 25 26 27 28 29]]\n"
     ]
    }
   ],
   "source": [
    "# Cell 109 – Save/Load\n",
    "np.save('temp_109.npy', arr_10)\n",
    "print(np.load('temp_109.npy'))"
   ]
  },
  {
   "cell_type": "code",
   "execution_count": 249,
   "id": "0144cb61",
   "metadata": {},
   "outputs": [
    {
     "name": "stdout",
     "output_type": "stream",
     "text": [
      "[[0 1 2]\n",
      " [3 4 5]]\n"
     ]
    }
   ],
   "source": [
    "# Cell 110 – Save/Load\n",
    "np.save('temp_110.npy', arr_1)\n",
    "print(np.load('temp_110.npy'))"
   ]
  },
  {
   "cell_type": "code",
   "execution_count": 250,
   "id": "c50d9f59",
   "metadata": {},
   "outputs": [
    {
     "name": "stdout",
     "output_type": "stream",
     "text": [
      "Time: 0.0\n"
     ]
    }
   ],
   "source": [
    "# Cell 111 – Bonus Trick\n",
    "x = np.random.rand(1000)\n",
    "start = time.time()\n",
    "s = np.sum(x)\n",
    "end = time.time()\n",
    "print('Time:', end - start)"
   ]
  },
  {
   "cell_type": "code",
   "execution_count": 251,
   "id": "0587f7d3",
   "metadata": {},
   "outputs": [
    {
     "name": "stdout",
     "output_type": "stream",
     "text": [
      "Time: 0.0\n"
     ]
    }
   ],
   "source": [
    "# Cell 112 – Bonus Trick\n",
    "x = np.random.rand(1000)\n",
    "start = time.time()\n",
    "s = np.sum(x)\n",
    "end = time.time()\n",
    "print('Time:', end - start)"
   ]
  },
  {
   "cell_type": "code",
   "execution_count": 252,
   "id": "2e81405e",
   "metadata": {},
   "outputs": [
    {
     "name": "stdout",
     "output_type": "stream",
     "text": [
      "Time: 0.0010080337524414062\n"
     ]
    }
   ],
   "source": [
    "# Cell 113 – Bonus Trick\n",
    "x = np.random.rand(1000)\n",
    "start = time.time()\n",
    "s = np.sum(x)\n",
    "end = time.time()\n",
    "print('Time:', end - start)"
   ]
  },
  {
   "cell_type": "code",
   "execution_count": 253,
   "id": "2d7649f3",
   "metadata": {},
   "outputs": [
    {
     "name": "stdout",
     "output_type": "stream",
     "text": [
      "Time: 0.0\n"
     ]
    }
   ],
   "source": [
    "# Cell 114 – Bonus Trick\n",
    "x = np.random.rand(1000)\n",
    "start = time.time()\n",
    "s = np.sum(x)\n",
    "end = time.time()\n",
    "print('Time:', end - start)"
   ]
  },
  {
   "cell_type": "code",
   "execution_count": 254,
   "id": "e4f454a5",
   "metadata": {},
   "outputs": [
    {
     "name": "stdout",
     "output_type": "stream",
     "text": [
      "Time: 0.0\n"
     ]
    }
   ],
   "source": [
    "# Cell 115 – Bonus Trick\n",
    "x = np.random.rand(1000)\n",
    "start = time.time()\n",
    "s = np.sum(x)\n",
    "end = time.time()\n",
    "print('Time:', end - start)"
   ]
  },
  {
   "cell_type": "code",
   "execution_count": 255,
   "id": "96ba238f",
   "metadata": {},
   "outputs": [
    {
     "name": "stdout",
     "output_type": "stream",
     "text": [
      "Time: 0.0\n"
     ]
    }
   ],
   "source": [
    "# Cell 116 – Bonus Trick\n",
    "x = np.random.rand(1000)\n",
    "start = time.time()\n",
    "s = np.sum(x)\n",
    "end = time.time()\n",
    "print('Time:', end - start)"
   ]
  },
  {
   "cell_type": "code",
   "execution_count": 256,
   "id": "a37cc2d0",
   "metadata": {},
   "outputs": [
    {
     "name": "stdout",
     "output_type": "stream",
     "text": [
      "Time: 0.0\n"
     ]
    }
   ],
   "source": [
    "# Cell 117 – Bonus Trick\n",
    "x = np.random.rand(1000)\n",
    "start = time.time()\n",
    "s = np.sum(x)\n",
    "end = time.time()\n",
    "print('Time:', end - start)"
   ]
  },
  {
   "cell_type": "code",
   "execution_count": 257,
   "id": "9fbc31c4",
   "metadata": {},
   "outputs": [
    {
     "name": "stdout",
     "output_type": "stream",
     "text": [
      "Time: 0.0\n"
     ]
    }
   ],
   "source": [
    "# Cell 118 – Bonus Trick\n",
    "x = np.random.rand(1000)\n",
    "start = time.time()\n",
    "s = np.sum(x)\n",
    "end = time.time()\n",
    "print('Time:', end - start)"
   ]
  },
  {
   "cell_type": "code",
   "execution_count": 258,
   "id": "837bfd4e",
   "metadata": {},
   "outputs": [
    {
     "name": "stdout",
     "output_type": "stream",
     "text": [
      "Time: 0.0\n"
     ]
    }
   ],
   "source": [
    "\n",
    "x = np.random.rand(1000)\n",
    "start = time.time()\n",
    "s = np.sum(x)\n",
    "end = time.time()\n",
    "print('Time:', end - start)"
   ]
  },
  {
   "cell_type": "code",
   "execution_count": 259,
   "id": "e84c94c2",
   "metadata": {},
   "outputs": [
    {
     "name": "stdout",
     "output_type": "stream",
     "text": [
      "Time: 0.0\n"
     ]
    }
   ],
   "source": [
    "\n",
    "x = np.random.rand(1000)\n",
    "start = time.time()\n",
    "s = np.sum(x)\n",
    "end = time.time()\n",
    "print('Time:', end - start)"
   ]
  },
  {
   "cell_type": "code",
   "execution_count": null,
   "id": "a5560248-bec8-43a0-9e57-06f0e486cd55",
   "metadata": {},
   "outputs": [],
   "source": []
  },
  {
   "cell_type": "code",
   "execution_count": null,
   "id": "baa5b500-681a-43df-b1d7-6abca19ef501",
   "metadata": {},
   "outputs": [],
   "source": []
  },
  {
   "cell_type": "code",
   "execution_count": null,
   "id": "7a026a8b-f7d7-4854-beb4-8d23d271f7a4",
   "metadata": {},
   "outputs": [],
   "source": []
  },
  {
   "cell_type": "code",
   "execution_count": null,
   "id": "a4401a12-7faf-434e-9e2b-595bbedf2869",
   "metadata": {},
   "outputs": [],
   "source": []
  },
  {
   "cell_type": "code",
   "execution_count": null,
   "id": "10d83565-a685-4203-9c50-88fb0a19e8a1",
   "metadata": {},
   "outputs": [],
   "source": []
  }
 ],
 "metadata": {
  "kernelspec": {
   "display_name": "Python 3 (ipykernel)",
   "language": "python",
   "name": "python3"
  },
  "language_info": {
   "codemirror_mode": {
    "name": "ipython",
    "version": 3
   },
   "file_extension": ".py",
   "mimetype": "text/x-python",
   "name": "python",
   "nbconvert_exporter": "python",
   "pygments_lexer": "ipython3",
   "version": "3.12.11"
  }
 },
 "nbformat": 4,
 "nbformat_minor": 5
}
