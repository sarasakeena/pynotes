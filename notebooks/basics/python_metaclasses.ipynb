{
 "cells": [
  {
   "cell_type": "code",
   "execution_count": null,
   "id": "34c1576e",
   "metadata": {},
   "outputs": [],
   "source": [
    "class Meta1(type):\n",
    "    def __new__(cls, name, bases, dct):\n",
    "        dct['meta_id'] = 1\n",
    "        return super().__new__(cls, name, bases, dct)\n",
    "\n",
    "class ClassWithMeta1(metaclass=Meta1):\n",
    "    def show_meta_id(self):\n",
    "        return self.meta_id\n",
    "\n",
    "obj1 = ClassWithMeta1()\n",
    "obj1.show_meta_id()"
   ]
  },
  {
   "cell_type": "code",
   "execution_count": null,
   "id": "b0f69d4e",
   "metadata": {},
   "outputs": [],
   "source": [
    "class Meta2(type):\n",
    "    def __new__(cls, name, bases, dct):\n",
    "        dct['meta_id'] = 2\n",
    "        return super().__new__(cls, name, bases, dct)\n",
    "\n",
    "class ClassWithMeta2(metaclass=Meta2):\n",
    "    def show_meta_id(self):\n",
    "        return self.meta_id\n",
    "\n",
    "obj2 = ClassWithMeta2()\n",
    "obj2.show_meta_id()"
   ]
  },
  {
   "cell_type": "code",
   "execution_count": null,
   "id": "9c6ae31a",
   "metadata": {},
   "outputs": [],
   "source": [
    "class Meta3(type):\n",
    "    def __new__(cls, name, bases, dct):\n",
    "        dct['meta_id'] = 3\n",
    "        return super().__new__(cls, name, bases, dct)\n",
    "\n",
    "class ClassWithMeta3(metaclass=Meta3):\n",
    "    def show_meta_id(self):\n",
    "        return self.meta_id\n",
    "\n",
    "obj3 = ClassWithMeta3()\n",
    "obj3.show_meta_id()"
   ]
  },
  {
   "cell_type": "code",
   "execution_count": null,
   "id": "7585bb15",
   "metadata": {},
   "outputs": [],
   "source": [
    "class Meta4(type):\n",
    "    def __new__(cls, name, bases, dct):\n",
    "        dct['meta_id'] = 4\n",
    "        return super().__new__(cls, name, bases, dct)\n",
    "\n",
    "class ClassWithMeta4(metaclass=Meta4):\n",
    "    def show_meta_id(self):\n",
    "        return self.meta_id\n",
    "\n",
    "obj4 = ClassWithMeta4()\n",
    "obj4.show_meta_id()"
   ]
  },
  {
   "cell_type": "code",
   "execution_count": null,
   "id": "d3f0d960",
   "metadata": {},
   "outputs": [],
   "source": [
    "class Meta5(type):\n",
    "    def __new__(cls, name, bases, dct):\n",
    "        dct['meta_id'] = 5\n",
    "        return super().__new__(cls, name, bases, dct)\n",
    "\n",
    "class ClassWithMeta5(metaclass=Meta5):\n",
    "    def show_meta_id(self):\n",
    "        return self.meta_id\n",
    "\n",
    "obj5 = ClassWithMeta5()\n",
    "obj5.show_meta_id()"
   ]
  },
  {
   "cell_type": "code",
   "execution_count": null,
   "id": "84045b53",
   "metadata": {},
   "outputs": [],
   "source": [
    "class Meta6(type):\n",
    "    def __new__(cls, name, bases, dct):\n",
    "        dct['meta_id'] = 6\n",
    "        return super().__new__(cls, name, bases, dct)\n",
    "\n",
    "class ClassWithMeta6(metaclass=Meta6):\n",
    "    def show_meta_id(self):\n",
    "        return self.meta_id\n",
    "\n",
    "obj6 = ClassWithMeta6()\n",
    "obj6.show_meta_id()"
   ]
  },
  {
   "cell_type": "code",
   "execution_count": null,
   "id": "2f99ff8d",
   "metadata": {},
   "outputs": [],
   "source": [
    "class Meta7(type):\n",
    "    def __new__(cls, name, bases, dct):\n",
    "        dct['meta_id'] = 7\n",
    "        return super().__new__(cls, name, bases, dct)\n",
    "\n",
    "class ClassWithMeta7(metaclass=Meta7):\n",
    "    def show_meta_id(self):\n",
    "        return self.meta_id\n",
    "\n",
    "obj7 = ClassWithMeta7()\n",
    "obj7.show_meta_id()"
   ]
  },
  {
   "cell_type": "code",
   "execution_count": null,
   "id": "dc660adf",
   "metadata": {},
   "outputs": [],
   "source": [
    "class Meta8(type):\n",
    "    def __new__(cls, name, bases, dct):\n",
    "        dct['meta_id'] = 8\n",
    "        return super().__new__(cls, name, bases, dct)\n",
    "\n",
    "class ClassWithMeta8(metaclass=Meta8):\n",
    "    def show_meta_id(self):\n",
    "        return self.meta_id\n",
    "\n",
    "obj8 = ClassWithMeta8()\n",
    "obj8.show_meta_id()"
   ]
  },
  {
   "cell_type": "code",
   "execution_count": null,
   "id": "ccb63922",
   "metadata": {},
   "outputs": [],
   "source": [
    "class Meta9(type):\n",
    "    def __new__(cls, name, bases, dct):\n",
    "        dct['meta_id'] = 9\n",
    "        return super().__new__(cls, name, bases, dct)\n",
    "\n",
    "class ClassWithMeta9(metaclass=Meta9):\n",
    "    def show_meta_id(self):\n",
    "        return self.meta_id\n",
    "\n",
    "obj9 = ClassWithMeta9()\n",
    "obj9.show_meta_id()"
   ]
  },
  {
   "cell_type": "code",
   "execution_count": null,
   "id": "b36383d9",
   "metadata": {},
   "outputs": [],
   "source": [
    "class Meta10(type):\n",
    "    def __new__(cls, name, bases, dct):\n",
    "        dct['meta_id'] = 10\n",
    "        return super().__new__(cls, name, bases, dct)\n",
    "\n",
    "class ClassWithMeta10(metaclass=Meta10):\n",
    "    def show_meta_id(self):\n",
    "        return self.meta_id\n",
    "\n",
    "obj10 = ClassWithMeta10()\n",
    "obj10.show_meta_id()"
   ]
  },
  {
   "cell_type": "code",
   "execution_count": null,
   "id": "5f286f7e",
   "metadata": {},
   "outputs": [],
   "source": [
    "class Meta11(type):\n",
    "    def __new__(cls, name, bases, dct):\n",
    "        dct['meta_id'] = 11\n",
    "        return super().__new__(cls, name, bases, dct)\n",
    "\n",
    "class ClassWithMeta11(metaclass=Meta11):\n",
    "    def show_meta_id(self):\n",
    "        return self.meta_id\n",
    "\n",
    "obj11 = ClassWithMeta11()\n",
    "obj11.show_meta_id()"
   ]
  },
  {
   "cell_type": "code",
   "execution_count": null,
   "id": "4c506240",
   "metadata": {},
   "outputs": [],
   "source": [
    "class Meta12(type):\n",
    "    def __new__(cls, name, bases, dct):\n",
    "        dct['meta_id'] = 12\n",
    "        return super().__new__(cls, name, bases, dct)\n",
    "\n",
    "class ClassWithMeta12(metaclass=Meta12):\n",
    "    def show_meta_id(self):\n",
    "        return self.meta_id\n",
    "\n",
    "obj12 = ClassWithMeta12()\n",
    "obj12.show_meta_id()"
   ]
  },
  {
   "cell_type": "code",
   "execution_count": null,
   "id": "bb944a93",
   "metadata": {},
   "outputs": [],
   "source": [
    "class Meta13(type):\n",
    "    def __new__(cls, name, bases, dct):\n",
    "        dct['meta_id'] = 13\n",
    "        return super().__new__(cls, name, bases, dct)\n",
    "\n",
    "class ClassWithMeta13(metaclass=Meta13):\n",
    "    def show_meta_id(self):\n",
    "        return self.meta_id\n",
    "\n",
    "obj13 = ClassWithMeta13()\n",
    "obj13.show_meta_id()"
   ]
  },
  {
   "cell_type": "code",
   "execution_count": null,
   "id": "204d3b3f",
   "metadata": {},
   "outputs": [],
   "source": [
    "class Meta14(type):\n",
    "    def __new__(cls, name, bases, dct):\n",
    "        dct['meta_id'] = 14\n",
    "        return super().__new__(cls, name, bases, dct)\n",
    "\n",
    "class ClassWithMeta14(metaclass=Meta14):\n",
    "    def show_meta_id(self):\n",
    "        return self.meta_id\n",
    "\n",
    "obj14 = ClassWithMeta14()\n",
    "obj14.show_meta_id()"
   ]
  },
  {
   "cell_type": "code",
   "execution_count": null,
   "id": "f468e700",
   "metadata": {},
   "outputs": [],
   "source": [
    "class Meta15(type):\n",
    "    def __new__(cls, name, bases, dct):\n",
    "        dct['meta_id'] = 15\n",
    "        return super().__new__(cls, name, bases, dct)\n",
    "\n",
    "class ClassWithMeta15(metaclass=Meta15):\n",
    "    def show_meta_id(self):\n",
    "        return self.meta_id\n",
    "\n",
    "obj15 = ClassWithMeta15()\n",
    "obj15.show_meta_id()"
   ]
  },
  {
   "cell_type": "code",
   "execution_count": null,
   "id": "584ef0cc",
   "metadata": {},
   "outputs": [],
   "source": [
    "class Meta16(type):\n",
    "    def __new__(cls, name, bases, dct):\n",
    "        dct['meta_id'] = 16\n",
    "        return super().__new__(cls, name, bases, dct)\n",
    "\n",
    "class ClassWithMeta16(metaclass=Meta16):\n",
    "    def show_meta_id(self):\n",
    "        return self.meta_id\n",
    "\n",
    "obj16 = ClassWithMeta16()\n",
    "obj16.show_meta_id()"
   ]
  },
  {
   "cell_type": "code",
   "execution_count": null,
   "id": "e4da0e5f",
   "metadata": {},
   "outputs": [],
   "source": [
    "class Meta17(type):\n",
    "    def __new__(cls, name, bases, dct):\n",
    "        dct['meta_id'] = 17\n",
    "        return super().__new__(cls, name, bases, dct)\n",
    "\n",
    "class ClassWithMeta17(metaclass=Meta17):\n",
    "    def show_meta_id(self):\n",
    "        return self.meta_id\n",
    "\n",
    "obj17 = ClassWithMeta17()\n",
    "obj17.show_meta_id()"
   ]
  },
  {
   "cell_type": "code",
   "execution_count": null,
   "id": "bf475631",
   "metadata": {},
   "outputs": [],
   "source": [
    "class Meta18(type):\n",
    "    def __new__(cls, name, bases, dct):\n",
    "        dct['meta_id'] = 18\n",
    "        return super().__new__(cls, name, bases, dct)\n",
    "\n",
    "class ClassWithMeta18(metaclass=Meta18):\n",
    "    def show_meta_id(self):\n",
    "        return self.meta_id\n",
    "\n",
    "obj18 = ClassWithMeta18()\n",
    "obj18.show_meta_id()"
   ]
  },
  {
   "cell_type": "code",
   "execution_count": null,
   "id": "371ce0f4",
   "metadata": {},
   "outputs": [],
   "source": [
    "class Meta19(type):\n",
    "    def __new__(cls, name, bases, dct):\n",
    "        dct['meta_id'] = 19\n",
    "        return super().__new__(cls, name, bases, dct)\n",
    "\n",
    "class ClassWithMeta19(metaclass=Meta19):\n",
    "    def show_meta_id(self):\n",
    "        return self.meta_id\n",
    "\n",
    "obj19 = ClassWithMeta19()\n",
    "obj19.show_meta_id()"
   ]
  },
  {
   "cell_type": "code",
   "execution_count": null,
   "id": "98950a0d",
   "metadata": {},
   "outputs": [],
   "source": [
    "class Meta20(type):\n",
    "    def __new__(cls, name, bases, dct):\n",
    "        dct['meta_id'] = 20\n",
    "        return super().__new__(cls, name, bases, dct)\n",
    "\n",
    "class ClassWithMeta20(metaclass=Meta20):\n",
    "    def show_meta_id(self):\n",
    "        return self.meta_id\n",
    "\n",
    "obj20 = ClassWithMeta20()\n",
    "obj20.show_meta_id()"
   ]
  },
  {
   "cell_type": "code",
   "execution_count": null,
   "id": "dcc914ec",
   "metadata": {},
   "outputs": [],
   "source": [
    "class Meta21(type):\n",
    "    def __new__(cls, name, bases, dct):\n",
    "        dct['meta_id'] = 21\n",
    "        return super().__new__(cls, name, bases, dct)\n",
    "\n",
    "class ClassWithMeta21(metaclass=Meta21):\n",
    "    def show_meta_id(self):\n",
    "        return self.meta_id\n",
    "\n",
    "obj21 = ClassWithMeta21()\n",
    "obj21.show_meta_id()"
   ]
  },
  {
   "cell_type": "code",
   "execution_count": null,
   "id": "1a261082",
   "metadata": {},
   "outputs": [],
   "source": [
    "class Meta22(type):\n",
    "    def __new__(cls, name, bases, dct):\n",
    "        dct['meta_id'] = 22\n",
    "        return super().__new__(cls, name, bases, dct)\n",
    "\n",
    "class ClassWithMeta22(metaclass=Meta22):\n",
    "    def show_meta_id(self):\n",
    "        return self.meta_id\n",
    "\n",
    "obj22 = ClassWithMeta22()\n",
    "obj22.show_meta_id()"
   ]
  },
  {
   "cell_type": "code",
   "execution_count": null,
   "id": "cfb69fb8",
   "metadata": {},
   "outputs": [],
   "source": [
    "class Meta23(type):\n",
    "    def __new__(cls, name, bases, dct):\n",
    "        dct['meta_id'] = 23\n",
    "        return super().__new__(cls, name, bases, dct)\n",
    "\n",
    "class ClassWithMeta23(metaclass=Meta23):\n",
    "    def show_meta_id(self):\n",
    "        return self.meta_id\n",
    "\n",
    "obj23 = ClassWithMeta23()\n",
    "obj23.show_meta_id()"
   ]
  },
  {
   "cell_type": "code",
   "execution_count": null,
   "id": "dcb2045a",
   "metadata": {},
   "outputs": [],
   "source": [
    "class Meta24(type):\n",
    "    def __new__(cls, name, bases, dct):\n",
    "        dct['meta_id'] = 24\n",
    "        return super().__new__(cls, name, bases, dct)\n",
    "\n",
    "class ClassWithMeta24(metaclass=Meta24):\n",
    "    def show_meta_id(self):\n",
    "        return self.meta_id\n",
    "\n",
    "obj24 = ClassWithMeta24()\n",
    "obj24.show_meta_id()"
   ]
  },
  {
   "cell_type": "code",
   "execution_count": null,
   "id": "03b17a73",
   "metadata": {},
   "outputs": [],
   "source": [
    "class Meta25(type):\n",
    "    def __new__(cls, name, bases, dct):\n",
    "        dct['meta_id'] = 25\n",
    "        return super().__new__(cls, name, bases, dct)\n",
    "\n",
    "class ClassWithMeta25(metaclass=Meta25):\n",
    "    def show_meta_id(self):\n",
    "        return self.meta_id\n",
    "\n",
    "obj25 = ClassWithMeta25()\n",
    "obj25.show_meta_id()"
   ]
  },
  {
   "cell_type": "code",
   "execution_count": null,
   "id": "d937d914",
   "metadata": {},
   "outputs": [],
   "source": [
    "class Meta26(type):\n",
    "    def __new__(cls, name, bases, dct):\n",
    "        dct['meta_id'] = 26\n",
    "        return super().__new__(cls, name, bases, dct)\n",
    "\n",
    "class ClassWithMeta26(metaclass=Meta26):\n",
    "    def show_meta_id(self):\n",
    "        return self.meta_id\n",
    "\n",
    "obj26 = ClassWithMeta26()\n",
    "obj26.show_meta_id()"
   ]
  },
  {
   "cell_type": "code",
   "execution_count": null,
   "id": "20906898",
   "metadata": {},
   "outputs": [],
   "source": [
    "class Meta27(type):\n",
    "    def __new__(cls, name, bases, dct):\n",
    "        dct['meta_id'] = 27\n",
    "        return super().__new__(cls, name, bases, dct)\n",
    "\n",
    "class ClassWithMeta27(metaclass=Meta27):\n",
    "    def show_meta_id(self):\n",
    "        return self.meta_id\n",
    "\n",
    "obj27 = ClassWithMeta27()\n",
    "obj27.show_meta_id()"
   ]
  },
  {
   "cell_type": "code",
   "execution_count": null,
   "id": "c8e69f71",
   "metadata": {},
   "outputs": [],
   "source": [
    "class Meta28(type):\n",
    "    def __new__(cls, name, bases, dct):\n",
    "        dct['meta_id'] = 28\n",
    "        return super().__new__(cls, name, bases, dct)\n",
    "\n",
    "class ClassWithMeta28(metaclass=Meta28):\n",
    "    def show_meta_id(self):\n",
    "        return self.meta_id\n",
    "\n",
    "obj28 = ClassWithMeta28()\n",
    "obj28.show_meta_id()"
   ]
  },
  {
   "cell_type": "code",
   "execution_count": null,
   "id": "d848677f",
   "metadata": {},
   "outputs": [],
   "source": [
    "class Meta29(type):\n",
    "    def __new__(cls, name, bases, dct):\n",
    "        dct['meta_id'] = 29\n",
    "        return super().__new__(cls, name, bases, dct)\n",
    "\n",
    "class ClassWithMeta29(metaclass=Meta29):\n",
    "    def show_meta_id(self):\n",
    "        return self.meta_id\n",
    "\n",
    "obj29 = ClassWithMeta29()\n",
    "obj29.show_meta_id()"
   ]
  },
  {
   "cell_type": "code",
   "execution_count": null,
   "id": "d66fa7b8",
   "metadata": {},
   "outputs": [],
   "source": [
    "class Meta30(type):\n",
    "    def __new__(cls, name, bases, dct):\n",
    "        dct['meta_id'] = 30\n",
    "        return super().__new__(cls, name, bases, dct)\n",
    "\n",
    "class ClassWithMeta30(metaclass=Meta30):\n",
    "    def show_meta_id(self):\n",
    "        return self.meta_id\n",
    "\n",
    "obj30 = ClassWithMeta30()\n",
    "obj30.show_meta_id()"
   ]
  },
  {
   "cell_type": "code",
   "execution_count": null,
   "id": "fc279ce7",
   "metadata": {},
   "outputs": [],
   "source": [
    "class Meta31(type):\n",
    "    def __new__(cls, name, bases, dct):\n",
    "        dct['meta_id'] = 31\n",
    "        return super().__new__(cls, name, bases, dct)\n",
    "\n",
    "class ClassWithMeta31(metaclass=Meta31):\n",
    "    def show_meta_id(self):\n",
    "        return self.meta_id\n",
    "\n",
    "obj31 = ClassWithMeta31()\n",
    "obj31.show_meta_id()"
   ]
  },
  {
   "cell_type": "code",
   "execution_count": null,
   "id": "b52ce795",
   "metadata": {},
   "outputs": [],
   "source": [
    "class Meta32(type):\n",
    "    def __new__(cls, name, bases, dct):\n",
    "        dct['meta_id'] = 32\n",
    "        return super().__new__(cls, name, bases, dct)\n",
    "\n",
    "class ClassWithMeta32(metaclass=Meta32):\n",
    "    def show_meta_id(self):\n",
    "        return self.meta_id\n",
    "\n",
    "obj32 = ClassWithMeta32()\n",
    "obj32.show_meta_id()"
   ]
  },
  {
   "cell_type": "code",
   "execution_count": null,
   "id": "53d5a771",
   "metadata": {},
   "outputs": [],
   "source": [
    "class Meta33(type):\n",
    "    def __new__(cls, name, bases, dct):\n",
    "        dct['meta_id'] = 33\n",
    "        return super().__new__(cls, name, bases, dct)\n",
    "\n",
    "class ClassWithMeta33(metaclass=Meta33):\n",
    "    def show_meta_id(self):\n",
    "        return self.meta_id\n",
    "\n",
    "obj33 = ClassWithMeta33()\n",
    "obj33.show_meta_id()"
   ]
  },
  {
   "cell_type": "code",
   "execution_count": null,
   "id": "9da55491",
   "metadata": {},
   "outputs": [],
   "source": [
    "class Meta34(type):\n",
    "    def __new__(cls, name, bases, dct):\n",
    "        dct['meta_id'] = 34\n",
    "        return super().__new__(cls, name, bases, dct)\n",
    "\n",
    "class ClassWithMeta34(metaclass=Meta34):\n",
    "    def show_meta_id(self):\n",
    "        return self.meta_id\n",
    "\n",
    "obj34 = ClassWithMeta34()\n",
    "obj34.show_meta_id()"
   ]
  },
  {
   "cell_type": "code",
   "execution_count": null,
   "id": "b25c77fc",
   "metadata": {},
   "outputs": [],
   "source": [
    "class Meta35(type):\n",
    "    def __new__(cls, name, bases, dct):\n",
    "        dct['meta_id'] = 35\n",
    "        return super().__new__(cls, name, bases, dct)\n",
    "\n",
    "class ClassWithMeta35(metaclass=Meta35):\n",
    "    def show_meta_id(self):\n",
    "        return self.meta_id\n",
    "\n",
    "obj35 = ClassWithMeta35()\n",
    "obj35.show_meta_id()"
   ]
  },
  {
   "cell_type": "code",
   "execution_count": null,
   "id": "e07921fd",
   "metadata": {},
   "outputs": [],
   "source": [
    "class Meta36(type):\n",
    "    def __new__(cls, name, bases, dct):\n",
    "        dct['meta_id'] = 36\n",
    "        return super().__new__(cls, name, bases, dct)\n",
    "\n",
    "class ClassWithMeta36(metaclass=Meta36):\n",
    "    def show_meta_id(self):\n",
    "        return self.meta_id\n",
    "\n",
    "obj36 = ClassWithMeta36()\n",
    "obj36.show_meta_id()"
   ]
  },
  {
   "cell_type": "code",
   "execution_count": null,
   "id": "df110ec0",
   "metadata": {},
   "outputs": [],
   "source": [
    "class Meta37(type):\n",
    "    def __new__(cls, name, bases, dct):\n",
    "        dct['meta_id'] = 37\n",
    "        return super().__new__(cls, name, bases, dct)\n",
    "\n",
    "class ClassWithMeta37(metaclass=Meta37):\n",
    "    def show_meta_id(self):\n",
    "        return self.meta_id\n",
    "\n",
    "obj37 = ClassWithMeta37()\n",
    "obj37.show_meta_id()"
   ]
  },
  {
   "cell_type": "code",
   "execution_count": null,
   "id": "ba6e3e8e",
   "metadata": {},
   "outputs": [],
   "source": [
    "class Meta38(type):\n",
    "    def __new__(cls, name, bases, dct):\n",
    "        dct['meta_id'] = 38\n",
    "        return super().__new__(cls, name, bases, dct)\n",
    "\n",
    "class ClassWithMeta38(metaclass=Meta38):\n",
    "    def show_meta_id(self):\n",
    "        return self.meta_id\n",
    "\n",
    "obj38 = ClassWithMeta38()\n",
    "obj38.show_meta_id()"
   ]
  },
  {
   "cell_type": "code",
   "execution_count": null,
   "id": "c57882aa",
   "metadata": {},
   "outputs": [],
   "source": [
    "class Meta39(type):\n",
    "    def __new__(cls, name, bases, dct):\n",
    "        dct['meta_id'] = 39\n",
    "        return super().__new__(cls, name, bases, dct)\n",
    "\n",
    "class ClassWithMeta39(metaclass=Meta39):\n",
    "    def show_meta_id(self):\n",
    "        return self.meta_id\n",
    "\n",
    "obj39 = ClassWithMeta39()\n",
    "obj39.show_meta_id()"
   ]
  },
  {
   "cell_type": "code",
   "execution_count": null,
   "id": "c6db3c5c",
   "metadata": {},
   "outputs": [],
   "source": [
    "class Meta40(type):\n",
    "    def __new__(cls, name, bases, dct):\n",
    "        dct['meta_id'] = 40\n",
    "        return super().__new__(cls, name, bases, dct)\n",
    "\n",
    "class ClassWithMeta40(metaclass=Meta40):\n",
    "    def show_meta_id(self):\n",
    "        return self.meta_id\n",
    "\n",
    "obj40 = ClassWithMeta40()\n",
    "obj40.show_meta_id()"
   ]
  },
  {
   "cell_type": "code",
   "execution_count": null,
   "id": "6ecda627",
   "metadata": {},
   "outputs": [],
   "source": [
    "class Meta41(type):\n",
    "    def __new__(cls, name, bases, dct):\n",
    "        dct['meta_id'] = 41\n",
    "        return super().__new__(cls, name, bases, dct)\n",
    "\n",
    "class ClassWithMeta41(metaclass=Meta41):\n",
    "    def show_meta_id(self):\n",
    "        return self.meta_id\n",
    "\n",
    "obj41 = ClassWithMeta41()\n",
    "obj41.show_meta_id()"
   ]
  },
  {
   "cell_type": "code",
   "execution_count": null,
   "id": "31c8676f",
   "metadata": {},
   "outputs": [],
   "source": [
    "class Meta42(type):\n",
    "    def __new__(cls, name, bases, dct):\n",
    "        dct['meta_id'] = 42\n",
    "        return super().__new__(cls, name, bases, dct)\n",
    "\n",
    "class ClassWithMeta42(metaclass=Meta42):\n",
    "    def show_meta_id(self):\n",
    "        return self.meta_id\n",
    "\n",
    "obj42 = ClassWithMeta42()\n",
    "obj42.show_meta_id()"
   ]
  },
  {
   "cell_type": "code",
   "execution_count": null,
   "id": "a7bf47e7",
   "metadata": {},
   "outputs": [],
   "source": [
    "class Meta43(type):\n",
    "    def __new__(cls, name, bases, dct):\n",
    "        dct['meta_id'] = 43\n",
    "        return super().__new__(cls, name, bases, dct)\n",
    "\n",
    "class ClassWithMeta43(metaclass=Meta43):\n",
    "    def show_meta_id(self):\n",
    "        return self.meta_id\n",
    "\n",
    "obj43 = ClassWithMeta43()\n",
    "obj43.show_meta_id()"
   ]
  },
  {
   "cell_type": "code",
   "execution_count": null,
   "id": "226b822f",
   "metadata": {},
   "outputs": [],
   "source": [
    "class Meta44(type):\n",
    "    def __new__(cls, name, bases, dct):\n",
    "        dct['meta_id'] = 44\n",
    "        return super().__new__(cls, name, bases, dct)\n",
    "\n",
    "class ClassWithMeta44(metaclass=Meta44):\n",
    "    def show_meta_id(self):\n",
    "        return self.meta_id\n",
    "\n",
    "obj44 = ClassWithMeta44()\n",
    "obj44.show_meta_id()"
   ]
  },
  {
   "cell_type": "code",
   "execution_count": null,
   "id": "7f18457c",
   "metadata": {},
   "outputs": [],
   "source": [
    "class Meta45(type):\n",
    "    def __new__(cls, name, bases, dct):\n",
    "        dct['meta_id'] = 45\n",
    "        return super().__new__(cls, name, bases, dct)\n",
    "\n",
    "class ClassWithMeta45(metaclass=Meta45):\n",
    "    def show_meta_id(self):\n",
    "        return self.meta_id\n",
    "\n",
    "obj45 = ClassWithMeta45()\n",
    "obj45.show_meta_id()"
   ]
  },
  {
   "cell_type": "code",
   "execution_count": null,
   "id": "4b1a261b",
   "metadata": {},
   "outputs": [],
   "source": [
    "class Meta46(type):\n",
    "    def __new__(cls, name, bases, dct):\n",
    "        dct['meta_id'] = 46\n",
    "        return super().__new__(cls, name, bases, dct)\n",
    "\n",
    "class ClassWithMeta46(metaclass=Meta46):\n",
    "    def show_meta_id(self):\n",
    "        return self.meta_id\n",
    "\n",
    "obj46 = ClassWithMeta46()\n",
    "obj46.show_meta_id()"
   ]
  },
  {
   "cell_type": "code",
   "execution_count": null,
   "id": "9cfc7cea",
   "metadata": {},
   "outputs": [],
   "source": [
    "class Meta47(type):\n",
    "    def __new__(cls, name, bases, dct):\n",
    "        dct['meta_id'] = 47\n",
    "        return super().__new__(cls, name, bases, dct)\n",
    "\n",
    "class ClassWithMeta47(metaclass=Meta47):\n",
    "    def show_meta_id(self):\n",
    "        return self.meta_id\n",
    "\n",
    "obj47 = ClassWithMeta47()\n",
    "obj47.show_meta_id()"
   ]
  },
  {
   "cell_type": "code",
   "execution_count": null,
   "id": "d51e12f0",
   "metadata": {},
   "outputs": [],
   "source": [
    "class Meta48(type):\n",
    "    def __new__(cls, name, bases, dct):\n",
    "        dct['meta_id'] = 48\n",
    "        return super().__new__(cls, name, bases, dct)\n",
    "\n",
    "class ClassWithMeta48(metaclass=Meta48):\n",
    "    def show_meta_id(self):\n",
    "        return self.meta_id\n",
    "\n",
    "obj48 = ClassWithMeta48()\n",
    "obj48.show_meta_id()"
   ]
  },
  {
   "cell_type": "code",
   "execution_count": null,
   "id": "d844382b",
   "metadata": {},
   "outputs": [],
   "source": [
    "class Meta49(type):\n",
    "    def __new__(cls, name, bases, dct):\n",
    "        dct['meta_id'] = 49\n",
    "        return super().__new__(cls, name, bases, dct)\n",
    "\n",
    "class ClassWithMeta49(metaclass=Meta49):\n",
    "    def show_meta_id(self):\n",
    "        return self.meta_id\n",
    "\n",
    "obj49 = ClassWithMeta49()\n",
    "obj49.show_meta_id()"
   ]
  },
  {
   "cell_type": "code",
   "execution_count": null,
   "id": "8a8d37d9",
   "metadata": {},
   "outputs": [],
   "source": [
    "class Meta50(type):\n",
    "    def __new__(cls, name, bases, dct):\n",
    "        dct['meta_id'] = 50\n",
    "        return super().__new__(cls, name, bases, dct)\n",
    "\n",
    "class ClassWithMeta50(metaclass=Meta50):\n",
    "    def show_meta_id(self):\n",
    "        return self.meta_id\n",
    "\n",
    "obj50 = ClassWithMeta50()\n",
    "obj50.show_meta_id()"
   ]
  },
  {
   "cell_type": "code",
   "execution_count": null,
   "id": "24361bfb",
   "metadata": {},
   "outputs": [],
   "source": [
    "class Meta51(type):\n",
    "    def __new__(cls, name, bases, dct):\n",
    "        dct['meta_id'] = 51\n",
    "        return super().__new__(cls, name, bases, dct)\n",
    "\n",
    "class ClassWithMeta51(metaclass=Meta51):\n",
    "    def show_meta_id(self):\n",
    "        return self.meta_id\n",
    "\n",
    "obj51 = ClassWithMeta51()\n",
    "obj51.show_meta_id()"
   ]
  },
  {
   "cell_type": "code",
   "execution_count": null,
   "id": "094a5ffd",
   "metadata": {},
   "outputs": [],
   "source": [
    "class Meta52(type):\n",
    "    def __new__(cls, name, bases, dct):\n",
    "        dct['meta_id'] = 52\n",
    "        return super().__new__(cls, name, bases, dct)\n",
    "\n",
    "class ClassWithMeta52(metaclass=Meta52):\n",
    "    def show_meta_id(self):\n",
    "        return self.meta_id\n",
    "\n",
    "obj52 = ClassWithMeta52()\n",
    "obj52.show_meta_id()"
   ]
  },
  {
   "cell_type": "code",
   "execution_count": null,
   "id": "84a416f7",
   "metadata": {},
   "outputs": [],
   "source": [
    "class Meta53(type):\n",
    "    def __new__(cls, name, bases, dct):\n",
    "        dct['meta_id'] = 53\n",
    "        return super().__new__(cls, name, bases, dct)\n",
    "\n",
    "class ClassWithMeta53(metaclass=Meta53):\n",
    "    def show_meta_id(self):\n",
    "        return self.meta_id\n",
    "\n",
    "obj53 = ClassWithMeta53()\n",
    "obj53.show_meta_id()"
   ]
  },
  {
   "cell_type": "code",
   "execution_count": null,
   "id": "c7e3452c",
   "metadata": {},
   "outputs": [],
   "source": [
    "class Meta54(type):\n",
    "    def __new__(cls, name, bases, dct):\n",
    "        dct['meta_id'] = 54\n",
    "        return super().__new__(cls, name, bases, dct)\n",
    "\n",
    "class ClassWithMeta54(metaclass=Meta54):\n",
    "    def show_meta_id(self):\n",
    "        return self.meta_id\n",
    "\n",
    "obj54 = ClassWithMeta54()\n",
    "obj54.show_meta_id()"
   ]
  },
  {
   "cell_type": "code",
   "execution_count": null,
   "id": "a78da16e",
   "metadata": {},
   "outputs": [],
   "source": [
    "class Meta55(type):\n",
    "    def __new__(cls, name, bases, dct):\n",
    "        dct['meta_id'] = 55\n",
    "        return super().__new__(cls, name, bases, dct)\n",
    "\n",
    "class ClassWithMeta55(metaclass=Meta55):\n",
    "    def show_meta_id(self):\n",
    "        return self.meta_id\n",
    "\n",
    "obj55 = ClassWithMeta55()\n",
    "obj55.show_meta_id()"
   ]
  },
  {
   "cell_type": "code",
   "execution_count": null,
   "id": "2e90be2b",
   "metadata": {},
   "outputs": [],
   "source": [
    "class Meta56(type):\n",
    "    def __new__(cls, name, bases, dct):\n",
    "        dct['meta_id'] = 56\n",
    "        return super().__new__(cls, name, bases, dct)\n",
    "\n",
    "class ClassWithMeta56(metaclass=Meta56):\n",
    "    def show_meta_id(self):\n",
    "        return self.meta_id\n",
    "\n",
    "obj56 = ClassWithMeta56()\n",
    "obj56.show_meta_id()"
   ]
  },
  {
   "cell_type": "code",
   "execution_count": null,
   "id": "65cc62e2",
   "metadata": {},
   "outputs": [],
   "source": [
    "class Meta57(type):\n",
    "    def __new__(cls, name, bases, dct):\n",
    "        dct['meta_id'] = 57\n",
    "        return super().__new__(cls, name, bases, dct)\n",
    "\n",
    "class ClassWithMeta57(metaclass=Meta57):\n",
    "    def show_meta_id(self):\n",
    "        return self.meta_id\n",
    "\n",
    "obj57 = ClassWithMeta57()\n",
    "obj57.show_meta_id()"
   ]
  },
  {
   "cell_type": "code",
   "execution_count": null,
   "id": "3275ff21",
   "metadata": {},
   "outputs": [],
   "source": [
    "class Meta58(type):\n",
    "    def __new__(cls, name, bases, dct):\n",
    "        dct['meta_id'] = 58\n",
    "        return super().__new__(cls, name, bases, dct)\n",
    "\n",
    "class ClassWithMeta58(metaclass=Meta58):\n",
    "    def show_meta_id(self):\n",
    "        return self.meta_id\n",
    "\n",
    "obj58 = ClassWithMeta58()\n",
    "obj58.show_meta_id()"
   ]
  },
  {
   "cell_type": "code",
   "execution_count": null,
   "id": "297b6e40",
   "metadata": {},
   "outputs": [],
   "source": [
    "class Meta59(type):\n",
    "    def __new__(cls, name, bases, dct):\n",
    "        dct['meta_id'] = 59\n",
    "        return super().__new__(cls, name, bases, dct)\n",
    "\n",
    "class ClassWithMeta59(metaclass=Meta59):\n",
    "    def show_meta_id(self):\n",
    "        return self.meta_id\n",
    "\n",
    "obj59 = ClassWithMeta59()\n",
    "obj59.show_meta_id()"
   ]
  },
  {
   "cell_type": "code",
   "execution_count": null,
   "id": "4bb432b8",
   "metadata": {},
   "outputs": [],
   "source": [
    "class Meta60(type):\n",
    "    def __new__(cls, name, bases, dct):\n",
    "        dct['meta_id'] = 60\n",
    "        return super().__new__(cls, name, bases, dct)\n",
    "\n",
    "class ClassWithMeta60(metaclass=Meta60):\n",
    "    def show_meta_id(self):\n",
    "        return self.meta_id\n",
    "\n",
    "obj60 = ClassWithMeta60()\n",
    "obj60.show_meta_id()"
   ]
  },
  {
   "cell_type": "code",
   "execution_count": null,
   "id": "2f9577cf",
   "metadata": {},
   "outputs": [],
   "source": [
    "class Meta61(type):\n",
    "    def __new__(cls, name, bases, dct):\n",
    "        dct['meta_id'] = 61\n",
    "        return super().__new__(cls, name, bases, dct)\n",
    "\n",
    "class ClassWithMeta61(metaclass=Meta61):\n",
    "    def show_meta_id(self):\n",
    "        return self.meta_id\n",
    "\n",
    "obj61 = ClassWithMeta61()\n",
    "obj61.show_meta_id()"
   ]
  },
  {
   "cell_type": "code",
   "execution_count": null,
   "id": "85c5b308",
   "metadata": {},
   "outputs": [],
   "source": [
    "class Meta62(type):\n",
    "    def __new__(cls, name, bases, dct):\n",
    "        dct['meta_id'] = 62\n",
    "        return super().__new__(cls, name, bases, dct)\n",
    "\n",
    "class ClassWithMeta62(metaclass=Meta62):\n",
    "    def show_meta_id(self):\n",
    "        return self.meta_id\n",
    "\n",
    "obj62 = ClassWithMeta62()\n",
    "obj62.show_meta_id()"
   ]
  },
  {
   "cell_type": "code",
   "execution_count": null,
   "id": "bb8a4e85",
   "metadata": {},
   "outputs": [],
   "source": [
    "class Meta63(type):\n",
    "    def __new__(cls, name, bases, dct):\n",
    "        dct['meta_id'] = 63\n",
    "        return super().__new__(cls, name, bases, dct)\n",
    "\n",
    "class ClassWithMeta63(metaclass=Meta63):\n",
    "    def show_meta_id(self):\n",
    "        return self.meta_id\n",
    "\n",
    "obj63 = ClassWithMeta63()\n",
    "obj63.show_meta_id()"
   ]
  },
  {
   "cell_type": "code",
   "execution_count": null,
   "id": "6226cd74",
   "metadata": {},
   "outputs": [],
   "source": [
    "class Meta64(type):\n",
    "    def __new__(cls, name, bases, dct):\n",
    "        dct['meta_id'] = 64\n",
    "        return super().__new__(cls, name, bases, dct)\n",
    "\n",
    "class ClassWithMeta64(metaclass=Meta64):\n",
    "    def show_meta_id(self):\n",
    "        return self.meta_id\n",
    "\n",
    "obj64 = ClassWithMeta64()\n",
    "obj64.show_meta_id()"
   ]
  },
  {
   "cell_type": "code",
   "execution_count": null,
   "id": "ecbaeeaa",
   "metadata": {},
   "outputs": [],
   "source": [
    "class Meta65(type):\n",
    "    def __new__(cls, name, bases, dct):\n",
    "        dct['meta_id'] = 65\n",
    "        return super().__new__(cls, name, bases, dct)\n",
    "\n",
    "class ClassWithMeta65(metaclass=Meta65):\n",
    "    def show_meta_id(self):\n",
    "        return self.meta_id\n",
    "\n",
    "obj65 = ClassWithMeta65()\n",
    "obj65.show_meta_id()"
   ]
  },
  {
   "cell_type": "code",
   "execution_count": null,
   "id": "a3ac549f",
   "metadata": {},
   "outputs": [],
   "source": [
    "class Meta66(type):\n",
    "    def __new__(cls, name, bases, dct):\n",
    "        dct['meta_id'] = 66\n",
    "        return super().__new__(cls, name, bases, dct)\n",
    "\n",
    "class ClassWithMeta66(metaclass=Meta66):\n",
    "    def show_meta_id(self):\n",
    "        return self.meta_id\n",
    "\n",
    "obj66 = ClassWithMeta66()\n",
    "obj66.show_meta_id()"
   ]
  },
  {
   "cell_type": "code",
   "execution_count": null,
   "id": "ca2fcd5f",
   "metadata": {},
   "outputs": [],
   "source": [
    "class Meta67(type):\n",
    "    def __new__(cls, name, bases, dct):\n",
    "        dct['meta_id'] = 67\n",
    "        return super().__new__(cls, name, bases, dct)\n",
    "\n",
    "class ClassWithMeta67(metaclass=Meta67):\n",
    "    def show_meta_id(self):\n",
    "        return self.meta_id\n",
    "\n",
    "obj67 = ClassWithMeta67()\n",
    "obj67.show_meta_id()"
   ]
  },
  {
   "cell_type": "code",
   "execution_count": null,
   "id": "fee07efc",
   "metadata": {},
   "outputs": [],
   "source": [
    "class Meta68(type):\n",
    "    def __new__(cls, name, bases, dct):\n",
    "        dct['meta_id'] = 68\n",
    "        return super().__new__(cls, name, bases, dct)\n",
    "\n",
    "class ClassWithMeta68(metaclass=Meta68):\n",
    "    def show_meta_id(self):\n",
    "        return self.meta_id\n",
    "\n",
    "obj68 = ClassWithMeta68()\n",
    "obj68.show_meta_id()"
   ]
  },
  {
   "cell_type": "code",
   "execution_count": null,
   "id": "c67126d6",
   "metadata": {},
   "outputs": [],
   "source": [
    "class Meta69(type):\n",
    "    def __new__(cls, name, bases, dct):\n",
    "        dct['meta_id'] = 69\n",
    "        return super().__new__(cls, name, bases, dct)\n",
    "\n",
    "class ClassWithMeta69(metaclass=Meta69):\n",
    "    def show_meta_id(self):\n",
    "        return self.meta_id\n",
    "\n",
    "obj69 = ClassWithMeta69()\n",
    "obj69.show_meta_id()"
   ]
  },
  {
   "cell_type": "code",
   "execution_count": null,
   "id": "4107eec4",
   "metadata": {},
   "outputs": [],
   "source": [
    "class Meta70(type):\n",
    "    def __new__(cls, name, bases, dct):\n",
    "        dct['meta_id'] = 70\n",
    "        return super().__new__(cls, name, bases, dct)\n",
    "\n",
    "class ClassWithMeta70(metaclass=Meta70):\n",
    "    def show_meta_id(self):\n",
    "        return self.meta_id\n",
    "\n",
    "obj70 = ClassWithMeta70()\n",
    "obj70.show_meta_id()"
   ]
  },
  {
   "cell_type": "code",
   "execution_count": null,
   "id": "f88a510c",
   "metadata": {},
   "outputs": [],
   "source": [
    "class Meta71(type):\n",
    "    def __new__(cls, name, bases, dct):\n",
    "        dct['meta_id'] = 71\n",
    "        return super().__new__(cls, name, bases, dct)\n",
    "\n",
    "class ClassWithMeta71(metaclass=Meta71):\n",
    "    def show_meta_id(self):\n",
    "        return self.meta_id\n",
    "\n",
    "obj71 = ClassWithMeta71()\n",
    "obj71.show_meta_id()"
   ]
  },
  {
   "cell_type": "code",
   "execution_count": null,
   "id": "46a84a7c",
   "metadata": {},
   "outputs": [],
   "source": [
    "class Meta72(type):\n",
    "    def __new__(cls, name, bases, dct):\n",
    "        dct['meta_id'] = 72\n",
    "        return super().__new__(cls, name, bases, dct)\n",
    "\n",
    "class ClassWithMeta72(metaclass=Meta72):\n",
    "    def show_meta_id(self):\n",
    "        return self.meta_id\n",
    "\n",
    "obj72 = ClassWithMeta72()\n",
    "obj72.show_meta_id()"
   ]
  },
  {
   "cell_type": "code",
   "execution_count": null,
   "id": "17bf0d78",
   "metadata": {},
   "outputs": [],
   "source": [
    "class Meta73(type):\n",
    "    def __new__(cls, name, bases, dct):\n",
    "        dct['meta_id'] = 73\n",
    "        return super().__new__(cls, name, bases, dct)\n",
    "\n",
    "class ClassWithMeta73(metaclass=Meta73):\n",
    "    def show_meta_id(self):\n",
    "        return self.meta_id\n",
    "\n",
    "obj73 = ClassWithMeta73()\n",
    "obj73.show_meta_id()"
   ]
  },
  {
   "cell_type": "code",
   "execution_count": null,
   "id": "534e6e6c",
   "metadata": {},
   "outputs": [],
   "source": [
    "class Meta74(type):\n",
    "    def __new__(cls, name, bases, dct):\n",
    "        dct['meta_id'] = 74\n",
    "        return super().__new__(cls, name, bases, dct)\n",
    "\n",
    "class ClassWithMeta74(metaclass=Meta74):\n",
    "    def show_meta_id(self):\n",
    "        return self.meta_id\n",
    "\n",
    "obj74 = ClassWithMeta74()\n",
    "obj74.show_meta_id()"
   ]
  },
  {
   "cell_type": "code",
   "execution_count": null,
   "id": "b431856d",
   "metadata": {},
   "outputs": [],
   "source": [
    "class Meta75(type):\n",
    "    def __new__(cls, name, bases, dct):\n",
    "        dct['meta_id'] = 75\n",
    "        return super().__new__(cls, name, bases, dct)\n",
    "\n",
    "class ClassWithMeta75(metaclass=Meta75):\n",
    "    def show_meta_id(self):\n",
    "        return self.meta_id\n",
    "\n",
    "obj75 = ClassWithMeta75()\n",
    "obj75.show_meta_id()"
   ]
  },
  {
   "cell_type": "code",
   "execution_count": null,
   "id": "227fce76",
   "metadata": {},
   "outputs": [],
   "source": [
    "class Meta76(type):\n",
    "    def __new__(cls, name, bases, dct):\n",
    "        dct['meta_id'] = 76\n",
    "        return super().__new__(cls, name, bases, dct)\n",
    "\n",
    "class ClassWithMeta76(metaclass=Meta76):\n",
    "    def show_meta_id(self):\n",
    "        return self.meta_id\n",
    "\n",
    "obj76 = ClassWithMeta76()\n",
    "obj76.show_meta_id()"
   ]
  },
  {
   "cell_type": "code",
   "execution_count": null,
   "id": "16babc26",
   "metadata": {},
   "outputs": [],
   "source": [
    "class Meta77(type):\n",
    "    def __new__(cls, name, bases, dct):\n",
    "        dct['meta_id'] = 77\n",
    "        return super().__new__(cls, name, bases, dct)\n",
    "\n",
    "class ClassWithMeta77(metaclass=Meta77):\n",
    "    def show_meta_id(self):\n",
    "        return self.meta_id\n",
    "\n",
    "obj77 = ClassWithMeta77()\n",
    "obj77.show_meta_id()"
   ]
  },
  {
   "cell_type": "code",
   "execution_count": null,
   "id": "696f4398",
   "metadata": {},
   "outputs": [],
   "source": [
    "class Meta78(type):\n",
    "    def __new__(cls, name, bases, dct):\n",
    "        dct['meta_id'] = 78\n",
    "        return super().__new__(cls, name, bases, dct)\n",
    "\n",
    "class ClassWithMeta78(metaclass=Meta78):\n",
    "    def show_meta_id(self):\n",
    "        return self.meta_id\n",
    "\n",
    "obj78 = ClassWithMeta78()\n",
    "obj78.show_meta_id()"
   ]
  },
  {
   "cell_type": "code",
   "execution_count": null,
   "id": "6d229d84",
   "metadata": {},
   "outputs": [],
   "source": [
    "class Meta79(type):\n",
    "    def __new__(cls, name, bases, dct):\n",
    "        dct['meta_id'] = 79\n",
    "        return super().__new__(cls, name, bases, dct)\n",
    "\n",
    "class ClassWithMeta79(metaclass=Meta79):\n",
    "    def show_meta_id(self):\n",
    "        return self.meta_id\n",
    "\n",
    "obj79 = ClassWithMeta79()\n",
    "obj79.show_meta_id()"
   ]
  },
  {
   "cell_type": "code",
   "execution_count": null,
   "id": "03ffd979",
   "metadata": {},
   "outputs": [],
   "source": [
    "class Meta80(type):\n",
    "    def __new__(cls, name, bases, dct):\n",
    "        dct['meta_id'] = 80\n",
    "        return super().__new__(cls, name, bases, dct)\n",
    "\n",
    "class ClassWithMeta80(metaclass=Meta80):\n",
    "    def show_meta_id(self):\n",
    "        return self.meta_id\n",
    "\n",
    "obj80 = ClassWithMeta80()\n",
    "obj80.show_meta_id()"
   ]
  },
  {
   "cell_type": "code",
   "execution_count": null,
   "id": "0ddab3a4",
   "metadata": {},
   "outputs": [],
   "source": [
    "class Meta81(type):\n",
    "    def __new__(cls, name, bases, dct):\n",
    "        dct['meta_id'] = 81\n",
    "        return super().__new__(cls, name, bases, dct)\n",
    "\n",
    "class ClassWithMeta81(metaclass=Meta81):\n",
    "    def show_meta_id(self):\n",
    "        return self.meta_id\n",
    "\n",
    "obj81 = ClassWithMeta81()\n",
    "obj81.show_meta_id()"
   ]
  },
  {
   "cell_type": "code",
   "execution_count": null,
   "id": "4f403d70",
   "metadata": {},
   "outputs": [],
   "source": [
    "class Meta82(type):\n",
    "    def __new__(cls, name, bases, dct):\n",
    "        dct['meta_id'] = 82\n",
    "        return super().__new__(cls, name, bases, dct)\n",
    "\n",
    "class ClassWithMeta82(metaclass=Meta82):\n",
    "    def show_meta_id(self):\n",
    "        return self.meta_id\n",
    "\n",
    "obj82 = ClassWithMeta82()\n",
    "obj82.show_meta_id()"
   ]
  },
  {
   "cell_type": "code",
   "execution_count": null,
   "id": "8605a512",
   "metadata": {},
   "outputs": [],
   "source": [
    "class Meta83(type):\n",
    "    def __new__(cls, name, bases, dct):\n",
    "        dct['meta_id'] = 83\n",
    "        return super().__new__(cls, name, bases, dct)\n",
    "\n",
    "class ClassWithMeta83(metaclass=Meta83):\n",
    "    def show_meta_id(self):\n",
    "        return self.meta_id\n",
    "\n",
    "obj83 = ClassWithMeta83()\n",
    "obj83.show_meta_id()"
   ]
  },
  {
   "cell_type": "code",
   "execution_count": null,
   "id": "b3d04197",
   "metadata": {},
   "outputs": [],
   "source": [
    "class Meta84(type):\n",
    "    def __new__(cls, name, bases, dct):\n",
    "        dct['meta_id'] = 84\n",
    "        return super().__new__(cls, name, bases, dct)\n",
    "\n",
    "class ClassWithMeta84(metaclass=Meta84):\n",
    "    def show_meta_id(self):\n",
    "        return self.meta_id\n",
    "\n",
    "obj84 = ClassWithMeta84()\n",
    "obj84.show_meta_id()"
   ]
  },
  {
   "cell_type": "code",
   "execution_count": null,
   "id": "6e4aac14",
   "metadata": {},
   "outputs": [],
   "source": [
    "class Meta85(type):\n",
    "    def __new__(cls, name, bases, dct):\n",
    "        dct['meta_id'] = 85\n",
    "        return super().__new__(cls, name, bases, dct)\n",
    "\n",
    "class ClassWithMeta85(metaclass=Meta85):\n",
    "    def show_meta_id(self):\n",
    "        return self.meta_id\n",
    "\n",
    "obj85 = ClassWithMeta85()\n",
    "obj85.show_meta_id()"
   ]
  },
  {
   "cell_type": "code",
   "execution_count": null,
   "id": "9280663f",
   "metadata": {},
   "outputs": [],
   "source": [
    "class Meta86(type):\n",
    "    def __new__(cls, name, bases, dct):\n",
    "        dct['meta_id'] = 86\n",
    "        return super().__new__(cls, name, bases, dct)\n",
    "\n",
    "class ClassWithMeta86(metaclass=Meta86):\n",
    "    def show_meta_id(self):\n",
    "        return self.meta_id\n",
    "\n",
    "obj86 = ClassWithMeta86()\n",
    "obj86.show_meta_id()"
   ]
  },
  {
   "cell_type": "code",
   "execution_count": null,
   "id": "c209f781",
   "metadata": {},
   "outputs": [],
   "source": [
    "class Meta87(type):\n",
    "    def __new__(cls, name, bases, dct):\n",
    "        dct['meta_id'] = 87\n",
    "        return super().__new__(cls, name, bases, dct)\n",
    "\n",
    "class ClassWithMeta87(metaclass=Meta87):\n",
    "    def show_meta_id(self):\n",
    "        return self.meta_id\n",
    "\n",
    "obj87 = ClassWithMeta87()\n",
    "obj87.show_meta_id()"
   ]
  },
  {
   "cell_type": "code",
   "execution_count": null,
   "id": "93c3600b",
   "metadata": {},
   "outputs": [],
   "source": [
    "class Meta88(type):\n",
    "    def __new__(cls, name, bases, dct):\n",
    "        dct['meta_id'] = 88\n",
    "        return super().__new__(cls, name, bases, dct)\n",
    "\n",
    "class ClassWithMeta88(metaclass=Meta88):\n",
    "    def show_meta_id(self):\n",
    "        return self.meta_id\n",
    "\n",
    "obj88 = ClassWithMeta88()\n",
    "obj88.show_meta_id()"
   ]
  },
  {
   "cell_type": "code",
   "execution_count": null,
   "id": "b0431d67",
   "metadata": {},
   "outputs": [],
   "source": [
    "class Meta89(type):\n",
    "    def __new__(cls, name, bases, dct):\n",
    "        dct['meta_id'] = 89\n",
    "        return super().__new__(cls, name, bases, dct)\n",
    "\n",
    "class ClassWithMeta89(metaclass=Meta89):\n",
    "    def show_meta_id(self):\n",
    "        return self.meta_id\n",
    "\n",
    "obj89 = ClassWithMeta89()\n",
    "obj89.show_meta_id()"
   ]
  },
  {
   "cell_type": "code",
   "execution_count": null,
   "id": "13a8141d",
   "metadata": {},
   "outputs": [],
   "source": [
    "class Meta90(type):\n",
    "    def __new__(cls, name, bases, dct):\n",
    "        dct['meta_id'] = 90\n",
    "        return super().__new__(cls, name, bases, dct)\n",
    "\n",
    "class ClassWithMeta90(metaclass=Meta90):\n",
    "    def show_meta_id(self):\n",
    "        return self.meta_id\n",
    "\n",
    "obj90 = ClassWithMeta90()\n",
    "obj90.show_meta_id()"
   ]
  },
  {
   "cell_type": "code",
   "execution_count": null,
   "id": "0cc46f86",
   "metadata": {},
   "outputs": [],
   "source": [
    "class Meta91(type):\n",
    "    def __new__(cls, name, bases, dct):\n",
    "        dct['meta_id'] = 91\n",
    "        return super().__new__(cls, name, bases, dct)\n",
    "\n",
    "class ClassWithMeta91(metaclass=Meta91):\n",
    "    def show_meta_id(self):\n",
    "        return self.meta_id\n",
    "\n",
    "obj91 = ClassWithMeta91()\n",
    "obj91.show_meta_id()"
   ]
  },
  {
   "cell_type": "code",
   "execution_count": null,
   "id": "af5545db",
   "metadata": {},
   "outputs": [],
   "source": [
    "class Meta92(type):\n",
    "    def __new__(cls, name, bases, dct):\n",
    "        dct['meta_id'] = 92\n",
    "        return super().__new__(cls, name, bases, dct)\n",
    "\n",
    "class ClassWithMeta92(metaclass=Meta92):\n",
    "    def show_meta_id(self):\n",
    "        return self.meta_id\n",
    "\n",
    "obj92 = ClassWithMeta92()\n",
    "obj92.show_meta_id()"
   ]
  },
  {
   "cell_type": "code",
   "execution_count": null,
   "id": "10b801f5",
   "metadata": {},
   "outputs": [],
   "source": [
    "class Meta93(type):\n",
    "    def __new__(cls, name, bases, dct):\n",
    "        dct['meta_id'] = 93\n",
    "        return super().__new__(cls, name, bases, dct)\n",
    "\n",
    "class ClassWithMeta93(metaclass=Meta93):\n",
    "    def show_meta_id(self):\n",
    "        return self.meta_id\n",
    "\n",
    "obj93 = ClassWithMeta93()\n",
    "obj93.show_meta_id()"
   ]
  },
  {
   "cell_type": "code",
   "execution_count": null,
   "id": "8a104094",
   "metadata": {},
   "outputs": [],
   "source": [
    "class Meta94(type):\n",
    "    def __new__(cls, name, bases, dct):\n",
    "        dct['meta_id'] = 94\n",
    "        return super().__new__(cls, name, bases, dct)\n",
    "\n",
    "class ClassWithMeta94(metaclass=Meta94):\n",
    "    def show_meta_id(self):\n",
    "        return self.meta_id\n",
    "\n",
    "obj94 = ClassWithMeta94()\n",
    "obj94.show_meta_id()"
   ]
  },
  {
   "cell_type": "code",
   "execution_count": null,
   "id": "763fb1f6",
   "metadata": {},
   "outputs": [],
   "source": [
    "class Meta95(type):\n",
    "    def __new__(cls, name, bases, dct):\n",
    "        dct['meta_id'] = 95\n",
    "        return super().__new__(cls, name, bases, dct)\n",
    "\n",
    "class ClassWithMeta95(metaclass=Meta95):\n",
    "    def show_meta_id(self):\n",
    "        return self.meta_id\n",
    "\n",
    "obj95 = ClassWithMeta95()\n",
    "obj95.show_meta_id()"
   ]
  },
  {
   "cell_type": "code",
   "execution_count": null,
   "id": "092c9d38",
   "metadata": {},
   "outputs": [],
   "source": [
    "class Meta96(type):\n",
    "    def __new__(cls, name, bases, dct):\n",
    "        dct['meta_id'] = 96\n",
    "        return super().__new__(cls, name, bases, dct)\n",
    "\n",
    "class ClassWithMeta96(metaclass=Meta96):\n",
    "    def show_meta_id(self):\n",
    "        return self.meta_id\n",
    "\n",
    "obj96 = ClassWithMeta96()\n",
    "obj96.show_meta_id()"
   ]
  },
  {
   "cell_type": "code",
   "execution_count": null,
   "id": "8b51821f",
   "metadata": {},
   "outputs": [],
   "source": [
    "class Meta97(type):\n",
    "    def __new__(cls, name, bases, dct):\n",
    "        dct['meta_id'] = 97\n",
    "        return super().__new__(cls, name, bases, dct)\n",
    "\n",
    "class ClassWithMeta97(metaclass=Meta97):\n",
    "    def show_meta_id(self):\n",
    "        return self.meta_id\n",
    "\n",
    "obj97 = ClassWithMeta97()\n",
    "obj97.show_meta_id()"
   ]
  },
  {
   "cell_type": "code",
   "execution_count": null,
   "id": "e1a0d2e4",
   "metadata": {},
   "outputs": [],
   "source": [
    "class Meta98(type):\n",
    "    def __new__(cls, name, bases, dct):\n",
    "        dct['meta_id'] = 98\n",
    "        return super().__new__(cls, name, bases, dct)\n",
    "\n",
    "class ClassWithMeta98(metaclass=Meta98):\n",
    "    def show_meta_id(self):\n",
    "        return self.meta_id\n",
    "\n",
    "obj98 = ClassWithMeta98()\n",
    "obj98.show_meta_id()"
   ]
  },
  {
   "cell_type": "code",
   "execution_count": null,
   "id": "ae831d9a",
   "metadata": {},
   "outputs": [],
   "source": [
    "class Meta99(type):\n",
    "    def __new__(cls, name, bases, dct):\n",
    "        dct['meta_id'] = 99\n",
    "        return super().__new__(cls, name, bases, dct)\n",
    "\n",
    "class ClassWithMeta99(metaclass=Meta99):\n",
    "    def show_meta_id(self):\n",
    "        return self.meta_id\n",
    "\n",
    "obj99 = ClassWithMeta99()\n",
    "obj99.show_meta_id()"
   ]
  },
  {
   "cell_type": "code",
   "execution_count": null,
   "id": "b831c602",
   "metadata": {},
   "outputs": [],
   "source": [
    "class Meta100(type):\n",
    "    def __new__(cls, name, bases, dct):\n",
    "        dct['meta_id'] = 100\n",
    "        return super().__new__(cls, name, bases, dct)\n",
    "\n",
    "class ClassWithMeta100(metaclass=Meta100):\n",
    "    def show_meta_id(self):\n",
    "        return self.meta_id\n",
    "\n",
    "obj100 = ClassWithMeta100()\n",
    "obj100.show_meta_id()"
   ]
  },
  {
   "cell_type": "code",
   "execution_count": null,
   "id": "e5e9d66d",
   "metadata": {},
   "outputs": [],
   "source": [
    "class Meta101(type):\n",
    "    def __new__(cls, name, bases, dct):\n",
    "        dct['meta_id'] = 101\n",
    "        return super().__new__(cls, name, bases, dct)\n",
    "\n",
    "class ClassWithMeta101(metaclass=Meta101):\n",
    "    def show_meta_id(self):\n",
    "        return self.meta_id\n",
    "\n",
    "obj101 = ClassWithMeta101()\n",
    "obj101.show_meta_id()"
   ]
  },
  {
   "cell_type": "code",
   "execution_count": null,
   "id": "8a813abc",
   "metadata": {},
   "outputs": [],
   "source": [
    "class Meta102(type):\n",
    "    def __new__(cls, name, bases, dct):\n",
    "        dct['meta_id'] = 102\n",
    "        return super().__new__(cls, name, bases, dct)\n",
    "\n",
    "class ClassWithMeta102(metaclass=Meta102):\n",
    "    def show_meta_id(self):\n",
    "        return self.meta_id\n",
    "\n",
    "obj102 = ClassWithMeta102()\n",
    "obj102.show_meta_id()"
   ]
  },
  {
   "cell_type": "code",
   "execution_count": null,
   "id": "d9843adc",
   "metadata": {},
   "outputs": [],
   "source": [
    "class Meta103(type):\n",
    "    def __new__(cls, name, bases, dct):\n",
    "        dct['meta_id'] = 103\n",
    "        return super().__new__(cls, name, bases, dct)\n",
    "\n",
    "class ClassWithMeta103(metaclass=Meta103):\n",
    "    def show_meta_id(self):\n",
    "        return self.meta_id\n",
    "\n",
    "obj103 = ClassWithMeta103()\n",
    "obj103.show_meta_id()"
   ]
  },
  {
   "cell_type": "code",
   "execution_count": null,
   "id": "9ddb38e7",
   "metadata": {},
   "outputs": [],
   "source": [
    "class Meta104(type):\n",
    "    def __new__(cls, name, bases, dct):\n",
    "        dct['meta_id'] = 104\n",
    "        return super().__new__(cls, name, bases, dct)\n",
    "\n",
    "class ClassWithMeta104(metaclass=Meta104):\n",
    "    def show_meta_id(self):\n",
    "        return self.meta_id\n",
    "\n",
    "obj104 = ClassWithMeta104()\n",
    "obj104.show_meta_id()"
   ]
  },
  {
   "cell_type": "code",
   "execution_count": null,
   "id": "20cdc8e3",
   "metadata": {},
   "outputs": [],
   "source": [
    "class Meta105(type):\n",
    "    def __new__(cls, name, bases, dct):\n",
    "        dct['meta_id'] = 105\n",
    "        return super().__new__(cls, name, bases, dct)\n",
    "\n",
    "class ClassWithMeta105(metaclass=Meta105):\n",
    "    def show_meta_id(self):\n",
    "        return self.meta_id\n",
    "\n",
    "obj105 = ClassWithMeta105()\n",
    "obj105.show_meta_id()"
   ]
  },
  {
   "cell_type": "code",
   "execution_count": null,
   "id": "69508273",
   "metadata": {},
   "outputs": [],
   "source": [
    "class Meta106(type):\n",
    "    def __new__(cls, name, bases, dct):\n",
    "        dct['meta_id'] = 106\n",
    "        return super().__new__(cls, name, bases, dct)\n",
    "\n",
    "class ClassWithMeta106(metaclass=Meta106):\n",
    "    def show_meta_id(self):\n",
    "        return self.meta_id\n",
    "\n",
    "obj106 = ClassWithMeta106()\n",
    "obj106.show_meta_id()"
   ]
  },
  {
   "cell_type": "code",
   "execution_count": null,
   "id": "8ee81e24",
   "metadata": {},
   "outputs": [],
   "source": [
    "class Meta107(type):\n",
    "    def __new__(cls, name, bases, dct):\n",
    "        dct['meta_id'] = 107\n",
    "        return super().__new__(cls, name, bases, dct)\n",
    "\n",
    "class ClassWithMeta107(metaclass=Meta107):\n",
    "    def show_meta_id(self):\n",
    "        return self.meta_id\n",
    "\n",
    "obj107 = ClassWithMeta107()\n",
    "obj107.show_meta_id()"
   ]
  },
  {
   "cell_type": "code",
   "execution_count": null,
   "id": "7a0ac9e7",
   "metadata": {},
   "outputs": [],
   "source": [
    "class Meta108(type):\n",
    "    def __new__(cls, name, bases, dct):\n",
    "        dct['meta_id'] = 108\n",
    "        return super().__new__(cls, name, bases, dct)\n",
    "\n",
    "class ClassWithMeta108(metaclass=Meta108):\n",
    "    def show_meta_id(self):\n",
    "        return self.meta_id\n",
    "\n",
    "obj108 = ClassWithMeta108()\n",
    "obj108.show_meta_id()"
   ]
  },
  {
   "cell_type": "code",
   "execution_count": null,
   "id": "93c1ac59",
   "metadata": {},
   "outputs": [],
   "source": [
    "class Meta109(type):\n",
    "    def __new__(cls, name, bases, dct):\n",
    "        dct['meta_id'] = 109\n",
    "        return super().__new__(cls, name, bases, dct)\n",
    "\n",
    "class ClassWithMeta109(metaclass=Meta109):\n",
    "    def show_meta_id(self):\n",
    "        return self.meta_id\n",
    "\n",
    "obj109 = ClassWithMeta109()\n",
    "obj109.show_meta_id()"
   ]
  },
  {
   "cell_type": "code",
   "execution_count": null,
   "id": "2aa930fe",
   "metadata": {},
   "outputs": [],
   "source": [
    "class Meta110(type):\n",
    "    def __new__(cls, name, bases, dct):\n",
    "        dct['meta_id'] = 110\n",
    "        return super().__new__(cls, name, bases, dct)\n",
    "\n",
    "class ClassWithMeta110(metaclass=Meta110):\n",
    "    def show_meta_id(self):\n",
    "        return self.meta_id\n",
    "\n",
    "obj110 = ClassWithMeta110()\n",
    "obj110.show_meta_id()"
   ]
  },
  {
   "cell_type": "code",
   "execution_count": null,
   "id": "5c01429b",
   "metadata": {},
   "outputs": [],
   "source": [
    "class Meta111(type):\n",
    "    def __new__(cls, name, bases, dct):\n",
    "        dct['meta_id'] = 111\n",
    "        return super().__new__(cls, name, bases, dct)\n",
    "\n",
    "class ClassWithMeta111(metaclass=Meta111):\n",
    "    def show_meta_id(self):\n",
    "        return self.meta_id\n",
    "\n",
    "obj111 = ClassWithMeta111()\n",
    "obj111.show_meta_id()"
   ]
  },
  {
   "cell_type": "code",
   "execution_count": null,
   "id": "e75ee008",
   "metadata": {},
   "outputs": [],
   "source": [
    "class Meta112(type):\n",
    "    def __new__(cls, name, bases, dct):\n",
    "        dct['meta_id'] = 112\n",
    "        return super().__new__(cls, name, bases, dct)\n",
    "\n",
    "class ClassWithMeta112(metaclass=Meta112):\n",
    "    def show_meta_id(self):\n",
    "        return self.meta_id\n",
    "\n",
    "obj112 = ClassWithMeta112()\n",
    "obj112.show_meta_id()"
   ]
  },
  {
   "cell_type": "code",
   "execution_count": null,
   "id": "c21663e6",
   "metadata": {},
   "outputs": [],
   "source": [
    "class Meta113(type):\n",
    "    def __new__(cls, name, bases, dct):\n",
    "        dct['meta_id'] = 113\n",
    "        return super().__new__(cls, name, bases, dct)\n",
    "\n",
    "class ClassWithMeta113(metaclass=Meta113):\n",
    "    def show_meta_id(self):\n",
    "        return self.meta_id\n",
    "\n",
    "obj113 = ClassWithMeta113()\n",
    "obj113.show_meta_id()"
   ]
  },
  {
   "cell_type": "code",
   "execution_count": null,
   "id": "bee51318",
   "metadata": {},
   "outputs": [],
   "source": [
    "class Meta114(type):\n",
    "    def __new__(cls, name, bases, dct):\n",
    "        dct['meta_id'] = 114\n",
    "        return super().__new__(cls, name, bases, dct)\n",
    "\n",
    "class ClassWithMeta114(metaclass=Meta114):\n",
    "    def show_meta_id(self):\n",
    "        return self.meta_id\n",
    "\n",
    "obj114 = ClassWithMeta114()\n",
    "obj114.show_meta_id()"
   ]
  },
  {
   "cell_type": "code",
   "execution_count": null,
   "id": "5e7b056e",
   "metadata": {},
   "outputs": [],
   "source": [
    "class Meta115(type):\n",
    "    def __new__(cls, name, bases, dct):\n",
    "        dct['meta_id'] = 115\n",
    "        return super().__new__(cls, name, bases, dct)\n",
    "\n",
    "class ClassWithMeta115(metaclass=Meta115):\n",
    "    def show_meta_id(self):\n",
    "        return self.meta_id\n",
    "\n",
    "obj115 = ClassWithMeta115()\n",
    "obj115.show_meta_id()"
   ]
  },
  {
   "cell_type": "code",
   "execution_count": null,
   "id": "7bd5d2cf",
   "metadata": {},
   "outputs": [],
   "source": [
    "class Meta116(type):\n",
    "    def __new__(cls, name, bases, dct):\n",
    "        dct['meta_id'] = 116\n",
    "        return super().__new__(cls, name, bases, dct)\n",
    "\n",
    "class ClassWithMeta116(metaclass=Meta116):\n",
    "    def show_meta_id(self):\n",
    "        return self.meta_id\n",
    "\n",
    "obj116 = ClassWithMeta116()\n",
    "obj116.show_meta_id()"
   ]
  },
  {
   "cell_type": "code",
   "execution_count": null,
   "id": "b0f25484",
   "metadata": {},
   "outputs": [],
   "source": [
    "class Meta117(type):\n",
    "    def __new__(cls, name, bases, dct):\n",
    "        dct['meta_id'] = 117\n",
    "        return super().__new__(cls, name, bases, dct)\n",
    "\n",
    "class ClassWithMeta117(metaclass=Meta117):\n",
    "    def show_meta_id(self):\n",
    "        return self.meta_id\n",
    "\n",
    "obj117 = ClassWithMeta117()\n",
    "obj117.show_meta_id()"
   ]
  },
  {
   "cell_type": "code",
   "execution_count": null,
   "id": "09d5294e",
   "metadata": {},
   "outputs": [],
   "source": [
    "class Meta118(type):\n",
    "    def __new__(cls, name, bases, dct):\n",
    "        dct['meta_id'] = 118\n",
    "        return super().__new__(cls, name, bases, dct)\n",
    "\n",
    "class ClassWithMeta118(metaclass=Meta118):\n",
    "    def show_meta_id(self):\n",
    "        return self.meta_id\n",
    "\n",
    "obj118 = ClassWithMeta118()\n",
    "obj118.show_meta_id()"
   ]
  },
  {
   "cell_type": "code",
   "execution_count": null,
   "id": "bf8c423c",
   "metadata": {},
   "outputs": [],
   "source": [
    "class Meta119(type):\n",
    "    def __new__(cls, name, bases, dct):\n",
    "        dct['meta_id'] = 119\n",
    "        return super().__new__(cls, name, bases, dct)\n",
    "\n",
    "class ClassWithMeta119(metaclass=Meta119):\n",
    "    def show_meta_id(self):\n",
    "        return self.meta_id\n",
    "\n",
    "obj119 = ClassWithMeta119()\n",
    "obj119.show_meta_id()"
   ]
  },
  {
   "cell_type": "code",
   "execution_count": null,
   "id": "014eba54",
   "metadata": {},
   "outputs": [],
   "source": [
    "class Meta120(type):\n",
    "    def __new__(cls, name, bases, dct):\n",
    "        dct['meta_id'] = 120\n",
    "        return super().__new__(cls, name, bases, dct)\n",
    "\n",
    "class ClassWithMeta120(metaclass=Meta120):\n",
    "    def show_meta_id(self):\n",
    "        return self.meta_id\n",
    "\n",
    "obj120 = ClassWithMeta120()\n",
    "obj120.show_meta_id()"
   ]
  },
  {
   "cell_type": "code",
   "execution_count": null,
   "id": "21d24bdd",
   "metadata": {},
   "outputs": [],
   "source": [
    "class Meta121(type):\n",
    "    def __new__(cls, name, bases, dct):\n",
    "        dct['meta_id'] = 121\n",
    "        return super().__new__(cls, name, bases, dct)\n",
    "\n",
    "class ClassWithMeta121(metaclass=Meta121):\n",
    "    def show_meta_id(self):\n",
    "        return self.meta_id\n",
    "\n",
    "obj121 = ClassWithMeta121()\n",
    "obj121.show_meta_id()"
   ]
  },
  {
   "cell_type": "code",
   "execution_count": null,
   "id": "9dd9a61e",
   "metadata": {},
   "outputs": [],
   "source": [
    "class Meta122(type):\n",
    "    def __new__(cls, name, bases, dct):\n",
    "        dct['meta_id'] = 122\n",
    "        return super().__new__(cls, name, bases, dct)\n",
    "\n",
    "class ClassWithMeta122(metaclass=Meta122):\n",
    "    def show_meta_id(self):\n",
    "        return self.meta_id\n",
    "\n",
    "obj122 = ClassWithMeta122()\n",
    "obj122.show_meta_id()"
   ]
  },
  {
   "cell_type": "code",
   "execution_count": null,
   "id": "e17d5161",
   "metadata": {},
   "outputs": [],
   "source": [
    "class Meta123(type):\n",
    "    def __new__(cls, name, bases, dct):\n",
    "        dct['meta_id'] = 123\n",
    "        return super().__new__(cls, name, bases, dct)\n",
    "\n",
    "class ClassWithMeta123(metaclass=Meta123):\n",
    "    def show_meta_id(self):\n",
    "        return self.meta_id\n",
    "\n",
    "obj123 = ClassWithMeta123()\n",
    "obj123.show_meta_id()"
   ]
  },
  {
   "cell_type": "code",
   "execution_count": null,
   "id": "651d9cfc",
   "metadata": {},
   "outputs": [],
   "source": [
    "class Meta124(type):\n",
    "    def __new__(cls, name, bases, dct):\n",
    "        dct['meta_id'] = 124\n",
    "        return super().__new__(cls, name, bases, dct)\n",
    "\n",
    "class ClassWithMeta124(metaclass=Meta124):\n",
    "    def show_meta_id(self):\n",
    "        return self.meta_id\n",
    "\n",
    "obj124 = ClassWithMeta124()\n",
    "obj124.show_meta_id()"
   ]
  },
  {
   "cell_type": "code",
   "execution_count": null,
   "id": "68c3714c",
   "metadata": {},
   "outputs": [],
   "source": [
    "class Meta125(type):\n",
    "    def __new__(cls, name, bases, dct):\n",
    "        dct['meta_id'] = 125\n",
    "        return super().__new__(cls, name, bases, dct)\n",
    "\n",
    "class ClassWithMeta125(metaclass=Meta125):\n",
    "    def show_meta_id(self):\n",
    "        return self.meta_id\n",
    "\n",
    "obj125 = ClassWithMeta125()\n",
    "obj125.show_meta_id()"
   ]
  },
  {
   "cell_type": "code",
   "execution_count": null,
   "id": "20276ab0",
   "metadata": {},
   "outputs": [],
   "source": [
    "class Meta126(type):\n",
    "    def __new__(cls, name, bases, dct):\n",
    "        dct['meta_id'] = 126\n",
    "        return super().__new__(cls, name, bases, dct)\n",
    "\n",
    "class ClassWithMeta126(metaclass=Meta126):\n",
    "    def show_meta_id(self):\n",
    "        return self.meta_id\n",
    "\n",
    "obj126 = ClassWithMeta126()\n",
    "obj126.show_meta_id()"
   ]
  },
  {
   "cell_type": "code",
   "execution_count": null,
   "id": "32dc6d20",
   "metadata": {},
   "outputs": [],
   "source": [
    "class Meta127(type):\n",
    "    def __new__(cls, name, bases, dct):\n",
    "        dct['meta_id'] = 127\n",
    "        return super().__new__(cls, name, bases, dct)\n",
    "\n",
    "class ClassWithMeta127(metaclass=Meta127):\n",
    "    def show_meta_id(self):\n",
    "        return self.meta_id\n",
    "\n",
    "obj127 = ClassWithMeta127()\n",
    "obj127.show_meta_id()"
   ]
  },
  {
   "cell_type": "code",
   "execution_count": null,
   "id": "866fd2ba",
   "metadata": {},
   "outputs": [],
   "source": [
    "class Meta128(type):\n",
    "    def __new__(cls, name, bases, dct):\n",
    "        dct['meta_id'] = 128\n",
    "        return super().__new__(cls, name, bases, dct)\n",
    "\n",
    "class ClassWithMeta128(metaclass=Meta128):\n",
    "    def show_meta_id(self):\n",
    "        return self.meta_id\n",
    "\n",
    "obj128 = ClassWithMeta128()\n",
    "obj128.show_meta_id()"
   ]
  },
  {
   "cell_type": "code",
   "execution_count": null,
   "id": "e48613f1",
   "metadata": {},
   "outputs": [],
   "source": [
    "class Meta129(type):\n",
    "    def __new__(cls, name, bases, dct):\n",
    "        dct['meta_id'] = 129\n",
    "        return super().__new__(cls, name, bases, dct)\n",
    "\n",
    "class ClassWithMeta129(metaclass=Meta129):\n",
    "    def show_meta_id(self):\n",
    "        return self.meta_id\n",
    "\n",
    "obj129 = ClassWithMeta129()\n",
    "obj129.show_meta_id()"
   ]
  },
  {
   "cell_type": "code",
   "execution_count": null,
   "id": "dd86eb4a",
   "metadata": {},
   "outputs": [],
   "source": [
    "class Meta130(type):\n",
    "    def __new__(cls, name, bases, dct):\n",
    "        dct['meta_id'] = 130\n",
    "        return super().__new__(cls, name, bases, dct)\n",
    "\n",
    "class ClassWithMeta130(metaclass=Meta130):\n",
    "    def show_meta_id(self):\n",
    "        return self.meta_id\n",
    "\n",
    "obj130 = ClassWithMeta130()\n",
    "obj130.show_meta_id()"
   ]
  },
  {
   "cell_type": "code",
   "execution_count": null,
   "id": "53e19552",
   "metadata": {},
   "outputs": [],
   "source": [
    "class Meta131(type):\n",
    "    def __new__(cls, name, bases, dct):\n",
    "        dct['meta_id'] = 131\n",
    "        return super().__new__(cls, name, bases, dct)\n",
    "\n",
    "class ClassWithMeta131(metaclass=Meta131):\n",
    "    def show_meta_id(self):\n",
    "        return self.meta_id\n",
    "\n",
    "obj131 = ClassWithMeta131()\n",
    "obj131.show_meta_id()"
   ]
  },
  {
   "cell_type": "code",
   "execution_count": null,
   "id": "4d5fc858",
   "metadata": {},
   "outputs": [],
   "source": [
    "class Meta132(type):\n",
    "    def __new__(cls, name, bases, dct):\n",
    "        dct['meta_id'] = 132\n",
    "        return super().__new__(cls, name, bases, dct)\n",
    "\n",
    "class ClassWithMeta132(metaclass=Meta132):\n",
    "    def show_meta_id(self):\n",
    "        return self.meta_id\n",
    "\n",
    "obj132 = ClassWithMeta132()\n",
    "obj132.show_meta_id()"
   ]
  },
  {
   "cell_type": "code",
   "execution_count": null,
   "id": "5f112603",
   "metadata": {},
   "outputs": [],
   "source": [
    "class Meta133(type):\n",
    "    def __new__(cls, name, bases, dct):\n",
    "        dct['meta_id'] = 133\n",
    "        return super().__new__(cls, name, bases, dct)\n",
    "\n",
    "class ClassWithMeta133(metaclass=Meta133):\n",
    "    def show_meta_id(self):\n",
    "        return self.meta_id\n",
    "\n",
    "obj133 = ClassWithMeta133()\n",
    "obj133.show_meta_id()"
   ]
  },
  {
   "cell_type": "code",
   "execution_count": null,
   "id": "ffd8fe2b",
   "metadata": {},
   "outputs": [],
   "source": [
    "class Meta134(type):\n",
    "    def __new__(cls, name, bases, dct):\n",
    "        dct['meta_id'] = 134\n",
    "        return super().__new__(cls, name, bases, dct)\n",
    "\n",
    "class ClassWithMeta134(metaclass=Meta134):\n",
    "    def show_meta_id(self):\n",
    "        return self.meta_id\n",
    "\n",
    "obj134 = ClassWithMeta134()\n",
    "obj134.show_meta_id()"
   ]
  },
  {
   "cell_type": "code",
   "execution_count": null,
   "id": "d598ed92",
   "metadata": {},
   "outputs": [],
   "source": [
    "class Meta135(type):\n",
    "    def __new__(cls, name, bases, dct):\n",
    "        dct['meta_id'] = 135\n",
    "        return super().__new__(cls, name, bases, dct)\n",
    "\n",
    "class ClassWithMeta135(metaclass=Meta135):\n",
    "    def show_meta_id(self):\n",
    "        return self.meta_id\n",
    "\n",
    "obj135 = ClassWithMeta135()\n",
    "obj135.show_meta_id()"
   ]
  },
  {
   "cell_type": "code",
   "execution_count": null,
   "id": "4473bde5",
   "metadata": {},
   "outputs": [],
   "source": [
    "class Meta136(type):\n",
    "    def __new__(cls, name, bases, dct):\n",
    "        dct['meta_id'] = 136\n",
    "        return super().__new__(cls, name, bases, dct)\n",
    "\n",
    "class ClassWithMeta136(metaclass=Meta136):\n",
    "    def show_meta_id(self):\n",
    "        return self.meta_id\n",
    "\n",
    "obj136 = ClassWithMeta136()\n",
    "obj136.show_meta_id()"
   ]
  },
  {
   "cell_type": "code",
   "execution_count": null,
   "id": "10ccfe59",
   "metadata": {},
   "outputs": [],
   "source": [
    "class Meta137(type):\n",
    "    def __new__(cls, name, bases, dct):\n",
    "        dct['meta_id'] = 137\n",
    "        return super().__new__(cls, name, bases, dct)\n",
    "\n",
    "class ClassWithMeta137(metaclass=Meta137):\n",
    "    def show_meta_id(self):\n",
    "        return self.meta_id\n",
    "\n",
    "obj137 = ClassWithMeta137()\n",
    "obj137.show_meta_id()"
   ]
  },
  {
   "cell_type": "code",
   "execution_count": null,
   "id": "c9b01af3",
   "metadata": {},
   "outputs": [],
   "source": [
    "class Meta138(type):\n",
    "    def __new__(cls, name, bases, dct):\n",
    "        dct['meta_id'] = 138\n",
    "        return super().__new__(cls, name, bases, dct)\n",
    "\n",
    "class ClassWithMeta138(metaclass=Meta138):\n",
    "    def show_meta_id(self):\n",
    "        return self.meta_id\n",
    "\n",
    "obj138 = ClassWithMeta138()\n",
    "obj138.show_meta_id()"
   ]
  },
  {
   "cell_type": "code",
   "execution_count": null,
   "id": "550a3d10",
   "metadata": {},
   "outputs": [],
   "source": [
    "class Meta139(type):\n",
    "    def __new__(cls, name, bases, dct):\n",
    "        dct['meta_id'] = 139\n",
    "        return super().__new__(cls, name, bases, dct)\n",
    "\n",
    "class ClassWithMeta139(metaclass=Meta139):\n",
    "    def show_meta_id(self):\n",
    "        return self.meta_id\n",
    "\n",
    "obj139 = ClassWithMeta139()\n",
    "obj139.show_meta_id()"
   ]
  },
  {
   "cell_type": "code",
   "execution_count": null,
   "id": "4728ee2d",
   "metadata": {},
   "outputs": [],
   "source": [
    "class Meta140(type):\n",
    "    def __new__(cls, name, bases, dct):\n",
    "        dct['meta_id'] = 140\n",
    "        return super().__new__(cls, name, bases, dct)\n",
    "\n",
    "class ClassWithMeta140(metaclass=Meta140):\n",
    "    def show_meta_id(self):\n",
    "        return self.meta_id\n",
    "\n",
    "obj140 = ClassWithMeta140()\n",
    "obj140.show_meta_id()"
   ]
  },
  {
   "cell_type": "code",
   "execution_count": null,
   "id": "9c2e42ef",
   "metadata": {},
   "outputs": [],
   "source": [
    "class Meta141(type):\n",
    "    def __new__(cls, name, bases, dct):\n",
    "        dct['meta_id'] = 141\n",
    "        return super().__new__(cls, name, bases, dct)\n",
    "\n",
    "class ClassWithMeta141(metaclass=Meta141):\n",
    "    def show_meta_id(self):\n",
    "        return self.meta_id\n",
    "\n",
    "obj141 = ClassWithMeta141()\n",
    "obj141.show_meta_id()"
   ]
  },
  {
   "cell_type": "code",
   "execution_count": null,
   "id": "27f1854c",
   "metadata": {},
   "outputs": [],
   "source": [
    "class Meta142(type):\n",
    "    def __new__(cls, name, bases, dct):\n",
    "        dct['meta_id'] = 142\n",
    "        return super().__new__(cls, name, bases, dct)\n",
    "\n",
    "class ClassWithMeta142(metaclass=Meta142):\n",
    "    def show_meta_id(self):\n",
    "        return self.meta_id\n",
    "\n",
    "obj142 = ClassWithMeta142()\n",
    "obj142.show_meta_id()"
   ]
  },
  {
   "cell_type": "code",
   "execution_count": null,
   "id": "a7a554f6",
   "metadata": {},
   "outputs": [],
   "source": [
    "class Meta143(type):\n",
    "    def __new__(cls, name, bases, dct):\n",
    "        dct['meta_id'] = 143\n",
    "        return super().__new__(cls, name, bases, dct)\n",
    "\n",
    "class ClassWithMeta143(metaclass=Meta143):\n",
    "    def show_meta_id(self):\n",
    "        return self.meta_id\n",
    "\n",
    "obj143 = ClassWithMeta143()\n",
    "obj143.show_meta_id()"
   ]
  },
  {
   "cell_type": "code",
   "execution_count": null,
   "id": "01309e51",
   "metadata": {},
   "outputs": [],
   "source": [
    "class Meta144(type):\n",
    "    def __new__(cls, name, bases, dct):\n",
    "        dct['meta_id'] = 144\n",
    "        return super().__new__(cls, name, bases, dct)\n",
    "\n",
    "class ClassWithMeta144(metaclass=Meta144):\n",
    "    def show_meta_id(self):\n",
    "        return self.meta_id\n",
    "\n",
    "obj144 = ClassWithMeta144()\n",
    "obj144.show_meta_id()"
   ]
  },
  {
   "cell_type": "code",
   "execution_count": null,
   "id": "e73d4297",
   "metadata": {},
   "outputs": [],
   "source": [
    "class Meta145(type):\n",
    "    def __new__(cls, name, bases, dct):\n",
    "        dct['meta_id'] = 145\n",
    "        return super().__new__(cls, name, bases, dct)\n",
    "\n",
    "class ClassWithMeta145(metaclass=Meta145):\n",
    "    def show_meta_id(self):\n",
    "        return self.meta_id\n",
    "\n",
    "obj145 = ClassWithMeta145()\n",
    "obj145.show_meta_id()"
   ]
  },
  {
   "cell_type": "code",
   "execution_count": null,
   "id": "fa7cde0a",
   "metadata": {},
   "outputs": [],
   "source": [
    "class Meta146(type):\n",
    "    def __new__(cls, name, bases, dct):\n",
    "        dct['meta_id'] = 146\n",
    "        return super().__new__(cls, name, bases, dct)\n",
    "\n",
    "class ClassWithMeta146(metaclass=Meta146):\n",
    "    def show_meta_id(self):\n",
    "        return self.meta_id\n",
    "\n",
    "obj146 = ClassWithMeta146()\n",
    "obj146.show_meta_id()"
   ]
  },
  {
   "cell_type": "code",
   "execution_count": null,
   "id": "07f07a4c",
   "metadata": {},
   "outputs": [],
   "source": [
    "class Meta147(type):\n",
    "    def __new__(cls, name, bases, dct):\n",
    "        dct['meta_id'] = 147\n",
    "        return super().__new__(cls, name, bases, dct)\n",
    "\n",
    "class ClassWithMeta147(metaclass=Meta147):\n",
    "    def show_meta_id(self):\n",
    "        return self.meta_id\n",
    "\n",
    "obj147 = ClassWithMeta147()\n",
    "obj147.show_meta_id()"
   ]
  },
  {
   "cell_type": "code",
   "execution_count": null,
   "id": "0f46b7b3",
   "metadata": {},
   "outputs": [],
   "source": [
    "class Meta148(type):\n",
    "    def __new__(cls, name, bases, dct):\n",
    "        dct['meta_id'] = 148\n",
    "        return super().__new__(cls, name, bases, dct)\n",
    "\n",
    "class ClassWithMeta148(metaclass=Meta148):\n",
    "    def show_meta_id(self):\n",
    "        return self.meta_id\n",
    "\n",
    "obj148 = ClassWithMeta148()\n",
    "obj148.show_meta_id()"
   ]
  },
  {
   "cell_type": "code",
   "execution_count": null,
   "id": "34fc2ff5",
   "metadata": {},
   "outputs": [],
   "source": [
    "class Meta149(type):\n",
    "    def __new__(cls, name, bases, dct):\n",
    "        dct['meta_id'] = 149\n",
    "        return super().__new__(cls, name, bases, dct)\n",
    "\n",
    "class ClassWithMeta149(metaclass=Meta149):\n",
    "    def show_meta_id(self):\n",
    "        return self.meta_id\n",
    "\n",
    "obj149 = ClassWithMeta149()\n",
    "obj149.show_meta_id()"
   ]
  },
  {
   "cell_type": "code",
   "execution_count": null,
   "id": "54c58390",
   "metadata": {},
   "outputs": [],
   "source": [
    "class Meta150(type):\n",
    "    def __new__(cls, name, bases, dct):\n",
    "        dct['meta_id'] = 150\n",
    "        return super().__new__(cls, name, bases, dct)\n",
    "\n",
    "class ClassWithMeta150(metaclass=Meta150):\n",
    "    def show_meta_id(self):\n",
    "        return self.meta_id\n",
    "\n",
    "obj150 = ClassWithMeta150()\n",
    "obj150.show_meta_id()"
   ]
  },
  {
   "cell_type": "code",
   "execution_count": null,
   "id": "4ed71f9c",
   "metadata": {},
   "outputs": [],
   "source": [
    "class Meta151(type):\n",
    "    def __new__(cls, name, bases, dct):\n",
    "        dct['meta_id'] = 151\n",
    "        return super().__new__(cls, name, bases, dct)\n",
    "\n",
    "class ClassWithMeta151(metaclass=Meta151):\n",
    "    def show_meta_id(self):\n",
    "        return self.meta_id\n",
    "\n",
    "obj151 = ClassWithMeta151()\n",
    "obj151.show_meta_id()"
   ]
  },
  {
   "cell_type": "code",
   "execution_count": null,
   "id": "82efbfcc",
   "metadata": {},
   "outputs": [],
   "source": [
    "class Meta152(type):\n",
    "    def __new__(cls, name, bases, dct):\n",
    "        dct['meta_id'] = 152\n",
    "        return super().__new__(cls, name, bases, dct)\n",
    "\n",
    "class ClassWithMeta152(metaclass=Meta152):\n",
    "    def show_meta_id(self):\n",
    "        return self.meta_id\n",
    "\n",
    "obj152 = ClassWithMeta152()\n",
    "obj152.show_meta_id()"
   ]
  },
  {
   "cell_type": "code",
   "execution_count": null,
   "id": "9474e6ea",
   "metadata": {},
   "outputs": [],
   "source": [
    "class Meta153(type):\n",
    "    def __new__(cls, name, bases, dct):\n",
    "        dct['meta_id'] = 153\n",
    "        return super().__new__(cls, name, bases, dct)\n",
    "\n",
    "class ClassWithMeta153(metaclass=Meta153):\n",
    "    def show_meta_id(self):\n",
    "        return self.meta_id\n",
    "\n",
    "obj153 = ClassWithMeta153()\n",
    "obj153.show_meta_id()"
   ]
  },
  {
   "cell_type": "code",
   "execution_count": null,
   "id": "de60409e",
   "metadata": {},
   "outputs": [],
   "source": [
    "class Meta154(type):\n",
    "    def __new__(cls, name, bases, dct):\n",
    "        dct['meta_id'] = 154\n",
    "        return super().__new__(cls, name, bases, dct)\n",
    "\n",
    "class ClassWithMeta154(metaclass=Meta154):\n",
    "    def show_meta_id(self):\n",
    "        return self.meta_id\n",
    "\n",
    "obj154 = ClassWithMeta154()\n",
    "obj154.show_meta_id()"
   ]
  },
  {
   "cell_type": "code",
   "execution_count": null,
   "id": "9a17d297",
   "metadata": {},
   "outputs": [],
   "source": [
    "class Meta155(type):\n",
    "    def __new__(cls, name, bases, dct):\n",
    "        dct['meta_id'] = 155\n",
    "        return super().__new__(cls, name, bases, dct)\n",
    "\n",
    "class ClassWithMeta155(metaclass=Meta155):\n",
    "    def show_meta_id(self):\n",
    "        return self.meta_id\n",
    "\n",
    "obj155 = ClassWithMeta155()\n",
    "obj155.show_meta_id()"
   ]
  },
  {
   "cell_type": "code",
   "execution_count": null,
   "id": "3405ad20",
   "metadata": {},
   "outputs": [],
   "source": [
    "class Meta156(type):\n",
    "    def __new__(cls, name, bases, dct):\n",
    "        dct['meta_id'] = 156\n",
    "        return super().__new__(cls, name, bases, dct)\n",
    "\n",
    "class ClassWithMeta156(metaclass=Meta156):\n",
    "    def show_meta_id(self):\n",
    "        return self.meta_id\n",
    "\n",
    "obj156 = ClassWithMeta156()\n",
    "obj156.show_meta_id()"
   ]
  },
  {
   "cell_type": "code",
   "execution_count": null,
   "id": "89ddb9e7",
   "metadata": {},
   "outputs": [],
   "source": [
    "class Meta157(type):\n",
    "    def __new__(cls, name, bases, dct):\n",
    "        dct['meta_id'] = 157\n",
    "        return super().__new__(cls, name, bases, dct)\n",
    "\n",
    "class ClassWithMeta157(metaclass=Meta157):\n",
    "    def show_meta_id(self):\n",
    "        return self.meta_id\n",
    "\n",
    "obj157 = ClassWithMeta157()\n",
    "obj157.show_meta_id()"
   ]
  },
  {
   "cell_type": "code",
   "execution_count": null,
   "id": "3702e48a",
   "metadata": {},
   "outputs": [],
   "source": [
    "class Meta158(type):\n",
    "    def __new__(cls, name, bases, dct):\n",
    "        dct['meta_id'] = 158\n",
    "        return super().__new__(cls, name, bases, dct)\n",
    "\n",
    "class ClassWithMeta158(metaclass=Meta158):\n",
    "    def show_meta_id(self):\n",
    "        return self.meta_id\n",
    "\n",
    "obj158 = ClassWithMeta158()\n",
    "obj158.show_meta_id()"
   ]
  },
  {
   "cell_type": "code",
   "execution_count": null,
   "id": "f9ceca81",
   "metadata": {},
   "outputs": [],
   "source": [
    "class Meta159(type):\n",
    "    def __new__(cls, name, bases, dct):\n",
    "        dct['meta_id'] = 159\n",
    "        return super().__new__(cls, name, bases, dct)\n",
    "\n",
    "class ClassWithMeta159(metaclass=Meta159):\n",
    "    def show_meta_id(self):\n",
    "        return self.meta_id\n",
    "\n",
    "obj159 = ClassWithMeta159()\n",
    "obj159.show_meta_id()"
   ]
  },
  {
   "cell_type": "code",
   "execution_count": null,
   "id": "f5ab7b2b",
   "metadata": {},
   "outputs": [],
   "source": [
    "class Meta160(type):\n",
    "    def __new__(cls, name, bases, dct):\n",
    "        dct['meta_id'] = 160\n",
    "        return super().__new__(cls, name, bases, dct)\n",
    "\n",
    "class ClassWithMeta160(metaclass=Meta160):\n",
    "    def show_meta_id(self):\n",
    "        return self.meta_id\n",
    "\n",
    "obj160 = ClassWithMeta160()\n",
    "obj160.show_meta_id()"
   ]
  },
  {
   "cell_type": "code",
   "execution_count": null,
   "id": "5f525174",
   "metadata": {},
   "outputs": [],
   "source": [
    "class Meta161(type):\n",
    "    def __new__(cls, name, bases, dct):\n",
    "        dct['meta_id'] = 161\n",
    "        return super().__new__(cls, name, bases, dct)\n",
    "\n",
    "class ClassWithMeta161(metaclass=Meta161):\n",
    "    def show_meta_id(self):\n",
    "        return self.meta_id\n",
    "\n",
    "obj161 = ClassWithMeta161()\n",
    "obj161.show_meta_id()"
   ]
  },
  {
   "cell_type": "code",
   "execution_count": null,
   "id": "476bec02",
   "metadata": {},
   "outputs": [],
   "source": [
    "class Meta162(type):\n",
    "    def __new__(cls, name, bases, dct):\n",
    "        dct['meta_id'] = 162\n",
    "        return super().__new__(cls, name, bases, dct)\n",
    "\n",
    "class ClassWithMeta162(metaclass=Meta162):\n",
    "    def show_meta_id(self):\n",
    "        return self.meta_id\n",
    "\n",
    "obj162 = ClassWithMeta162()\n",
    "obj162.show_meta_id()"
   ]
  },
  {
   "cell_type": "code",
   "execution_count": null,
   "id": "a219b417",
   "metadata": {},
   "outputs": [],
   "source": [
    "class Meta163(type):\n",
    "    def __new__(cls, name, bases, dct):\n",
    "        dct['meta_id'] = 163\n",
    "        return super().__new__(cls, name, bases, dct)\n",
    "\n",
    "class ClassWithMeta163(metaclass=Meta163):\n",
    "    def show_meta_id(self):\n",
    "        return self.meta_id\n",
    "\n",
    "obj163 = ClassWithMeta163()\n",
    "obj163.show_meta_id()"
   ]
  },
  {
   "cell_type": "code",
   "execution_count": null,
   "id": "abb41fe8",
   "metadata": {},
   "outputs": [],
   "source": [
    "class Meta164(type):\n",
    "    def __new__(cls, name, bases, dct):\n",
    "        dct['meta_id'] = 164\n",
    "        return super().__new__(cls, name, bases, dct)\n",
    "\n",
    "class ClassWithMeta164(metaclass=Meta164):\n",
    "    def show_meta_id(self):\n",
    "        return self.meta_id\n",
    "\n",
    "obj164 = ClassWithMeta164()\n",
    "obj164.show_meta_id()"
   ]
  },
  {
   "cell_type": "code",
   "execution_count": null,
   "id": "b09648d8",
   "metadata": {},
   "outputs": [],
   "source": [
    "class Meta165(type):\n",
    "    def __new__(cls, name, bases, dct):\n",
    "        dct['meta_id'] = 165\n",
    "        return super().__new__(cls, name, bases, dct)\n",
    "\n",
    "class ClassWithMeta165(metaclass=Meta165):\n",
    "    def show_meta_id(self):\n",
    "        return self.meta_id\n",
    "\n",
    "obj165 = ClassWithMeta165()\n",
    "obj165.show_meta_id()"
   ]
  },
  {
   "cell_type": "code",
   "execution_count": null,
   "id": "8c3fe808",
   "metadata": {},
   "outputs": [],
   "source": [
    "class Meta166(type):\n",
    "    def __new__(cls, name, bases, dct):\n",
    "        dct['meta_id'] = 166\n",
    "        return super().__new__(cls, name, bases, dct)\n",
    "\n",
    "class ClassWithMeta166(metaclass=Meta166):\n",
    "    def show_meta_id(self):\n",
    "        return self.meta_id\n",
    "\n",
    "obj166 = ClassWithMeta166()\n",
    "obj166.show_meta_id()"
   ]
  },
  {
   "cell_type": "code",
   "execution_count": null,
   "id": "1ba73217",
   "metadata": {},
   "outputs": [],
   "source": [
    "class Meta167(type):\n",
    "    def __new__(cls, name, bases, dct):\n",
    "        dct['meta_id'] = 167\n",
    "        return super().__new__(cls, name, bases, dct)\n",
    "\n",
    "class ClassWithMeta167(metaclass=Meta167):\n",
    "    def show_meta_id(self):\n",
    "        return self.meta_id\n",
    "\n",
    "obj167 = ClassWithMeta167()\n",
    "obj167.show_meta_id()"
   ]
  },
  {
   "cell_type": "code",
   "execution_count": null,
   "id": "e72e47ce",
   "metadata": {},
   "outputs": [],
   "source": [
    "class Meta168(type):\n",
    "    def __new__(cls, name, bases, dct):\n",
    "        dct['meta_id'] = 168\n",
    "        return super().__new__(cls, name, bases, dct)\n",
    "\n",
    "class ClassWithMeta168(metaclass=Meta168):\n",
    "    def show_meta_id(self):\n",
    "        return self.meta_id\n",
    "\n",
    "obj168 = ClassWithMeta168()\n",
    "obj168.show_meta_id()"
   ]
  },
  {
   "cell_type": "code",
   "execution_count": null,
   "id": "03e49670",
   "metadata": {},
   "outputs": [],
   "source": [
    "class Meta169(type):\n",
    "    def __new__(cls, name, bases, dct):\n",
    "        dct['meta_id'] = 169\n",
    "        return super().__new__(cls, name, bases, dct)\n",
    "\n",
    "class ClassWithMeta169(metaclass=Meta169):\n",
    "    def show_meta_id(self):\n",
    "        return self.meta_id\n",
    "\n",
    "obj169 = ClassWithMeta169()\n",
    "obj169.show_meta_id()"
   ]
  },
  {
   "cell_type": "code",
   "execution_count": null,
   "id": "74f92873",
   "metadata": {},
   "outputs": [],
   "source": [
    "class Meta170(type):\n",
    "    def __new__(cls, name, bases, dct):\n",
    "        dct['meta_id'] = 170\n",
    "        return super().__new__(cls, name, bases, dct)\n",
    "\n",
    "class ClassWithMeta170(metaclass=Meta170):\n",
    "    def show_meta_id(self):\n",
    "        return self.meta_id\n",
    "\n",
    "obj170 = ClassWithMeta170()\n",
    "obj170.show_meta_id()"
   ]
  },
  {
   "cell_type": "code",
   "execution_count": null,
   "id": "47727e65",
   "metadata": {},
   "outputs": [],
   "source": [
    "class Meta171(type):\n",
    "    def __new__(cls, name, bases, dct):\n",
    "        dct['meta_id'] = 171\n",
    "        return super().__new__(cls, name, bases, dct)\n",
    "\n",
    "class ClassWithMeta171(metaclass=Meta171):\n",
    "    def show_meta_id(self):\n",
    "        return self.meta_id\n",
    "\n",
    "obj171 = ClassWithMeta171()\n",
    "obj171.show_meta_id()"
   ]
  },
  {
   "cell_type": "code",
   "execution_count": null,
   "id": "ab016918",
   "metadata": {},
   "outputs": [],
   "source": [
    "class Meta172(type):\n",
    "    def __new__(cls, name, bases, dct):\n",
    "        dct['meta_id'] = 172\n",
    "        return super().__new__(cls, name, bases, dct)\n",
    "\n",
    "class ClassWithMeta172(metaclass=Meta172):\n",
    "    def show_meta_id(self):\n",
    "        return self.meta_id\n",
    "\n",
    "obj172 = ClassWithMeta172()\n",
    "obj172.show_meta_id()"
   ]
  },
  {
   "cell_type": "code",
   "execution_count": null,
   "id": "0792d884",
   "metadata": {},
   "outputs": [],
   "source": [
    "class Meta173(type):\n",
    "    def __new__(cls, name, bases, dct):\n",
    "        dct['meta_id'] = 173\n",
    "        return super().__new__(cls, name, bases, dct)\n",
    "\n",
    "class ClassWithMeta173(metaclass=Meta173):\n",
    "    def show_meta_id(self):\n",
    "        return self.meta_id\n",
    "\n",
    "obj173 = ClassWithMeta173()\n",
    "obj173.show_meta_id()"
   ]
  },
  {
   "cell_type": "code",
   "execution_count": null,
   "id": "57012744",
   "metadata": {},
   "outputs": [],
   "source": [
    "class Meta174(type):\n",
    "    def __new__(cls, name, bases, dct):\n",
    "        dct['meta_id'] = 174\n",
    "        return super().__new__(cls, name, bases, dct)\n",
    "\n",
    "class ClassWithMeta174(metaclass=Meta174):\n",
    "    def show_meta_id(self):\n",
    "        return self.meta_id\n",
    "\n",
    "obj174 = ClassWithMeta174()\n",
    "obj174.show_meta_id()"
   ]
  },
  {
   "cell_type": "code",
   "execution_count": null,
   "id": "703ac25b",
   "metadata": {},
   "outputs": [],
   "source": [
    "class Meta175(type):\n",
    "    def __new__(cls, name, bases, dct):\n",
    "        dct['meta_id'] = 175\n",
    "        return super().__new__(cls, name, bases, dct)\n",
    "\n",
    "class ClassWithMeta175(metaclass=Meta175):\n",
    "    def show_meta_id(self):\n",
    "        return self.meta_id\n",
    "\n",
    "obj175 = ClassWithMeta175()\n",
    "obj175.show_meta_id()"
   ]
  },
  {
   "cell_type": "code",
   "execution_count": null,
   "id": "9d8a0676",
   "metadata": {},
   "outputs": [],
   "source": [
    "class Meta176(type):\n",
    "    def __new__(cls, name, bases, dct):\n",
    "        dct['meta_id'] = 176\n",
    "        return super().__new__(cls, name, bases, dct)\n",
    "\n",
    "class ClassWithMeta176(metaclass=Meta176):\n",
    "    def show_meta_id(self):\n",
    "        return self.meta_id\n",
    "\n",
    "obj176 = ClassWithMeta176()\n",
    "obj176.show_meta_id()"
   ]
  },
  {
   "cell_type": "code",
   "execution_count": null,
   "id": "6510c235",
   "metadata": {},
   "outputs": [],
   "source": [
    "class Meta177(type):\n",
    "    def __new__(cls, name, bases, dct):\n",
    "        dct['meta_id'] = 177\n",
    "        return super().__new__(cls, name, bases, dct)\n",
    "\n",
    "class ClassWithMeta177(metaclass=Meta177):\n",
    "    def show_meta_id(self):\n",
    "        return self.meta_id\n",
    "\n",
    "obj177 = ClassWithMeta177()\n",
    "obj177.show_meta_id()"
   ]
  },
  {
   "cell_type": "code",
   "execution_count": null,
   "id": "203cf623",
   "metadata": {},
   "outputs": [],
   "source": [
    "class Meta178(type):\n",
    "    def __new__(cls, name, bases, dct):\n",
    "        dct['meta_id'] = 178\n",
    "        return super().__new__(cls, name, bases, dct)\n",
    "\n",
    "class ClassWithMeta178(metaclass=Meta178):\n",
    "    def show_meta_id(self):\n",
    "        return self.meta_id\n",
    "\n",
    "obj178 = ClassWithMeta178()\n",
    "obj178.show_meta_id()"
   ]
  },
  {
   "cell_type": "code",
   "execution_count": null,
   "id": "5f5e751e",
   "metadata": {},
   "outputs": [],
   "source": [
    "class Meta179(type):\n",
    "    def __new__(cls, name, bases, dct):\n",
    "        dct['meta_id'] = 179\n",
    "        return super().__new__(cls, name, bases, dct)\n",
    "\n",
    "class ClassWithMeta179(metaclass=Meta179):\n",
    "    def show_meta_id(self):\n",
    "        return self.meta_id\n",
    "\n",
    "obj179 = ClassWithMeta179()\n",
    "obj179.show_meta_id()"
   ]
  },
  {
   "cell_type": "code",
   "execution_count": null,
   "id": "067af0be",
   "metadata": {},
   "outputs": [],
   "source": [
    "class Meta180(type):\n",
    "    def __new__(cls, name, bases, dct):\n",
    "        dct['meta_id'] = 180\n",
    "        return super().__new__(cls, name, bases, dct)\n",
    "\n",
    "class ClassWithMeta180(metaclass=Meta180):\n",
    "    def show_meta_id(self):\n",
    "        return self.meta_id\n",
    "\n",
    "obj180 = ClassWithMeta180()\n",
    "obj180.show_meta_id()"
   ]
  },
  {
   "cell_type": "code",
   "execution_count": null,
   "id": "7b220737",
   "metadata": {},
   "outputs": [],
   "source": [
    "class Meta181(type):\n",
    "    def __new__(cls, name, bases, dct):\n",
    "        dct['meta_id'] = 181\n",
    "        return super().__new__(cls, name, bases, dct)\n",
    "\n",
    "class ClassWithMeta181(metaclass=Meta181):\n",
    "    def show_meta_id(self):\n",
    "        return self.meta_id\n",
    "\n",
    "obj181 = ClassWithMeta181()\n",
    "obj181.show_meta_id()"
   ]
  },
  {
   "cell_type": "code",
   "execution_count": null,
   "id": "f2d5ecaf",
   "metadata": {},
   "outputs": [],
   "source": [
    "class Meta182(type):\n",
    "    def __new__(cls, name, bases, dct):\n",
    "        dct['meta_id'] = 182\n",
    "        return super().__new__(cls, name, bases, dct)\n",
    "\n",
    "class ClassWithMeta182(metaclass=Meta182):\n",
    "    def show_meta_id(self):\n",
    "        return self.meta_id\n",
    "\n",
    "obj182 = ClassWithMeta182()\n",
    "obj182.show_meta_id()"
   ]
  },
  {
   "cell_type": "code",
   "execution_count": null,
   "id": "aec3b2ee",
   "metadata": {},
   "outputs": [],
   "source": [
    "class Meta183(type):\n",
    "    def __new__(cls, name, bases, dct):\n",
    "        dct['meta_id'] = 183\n",
    "        return super().__new__(cls, name, bases, dct)\n",
    "\n",
    "class ClassWithMeta183(metaclass=Meta183):\n",
    "    def show_meta_id(self):\n",
    "        return self.meta_id\n",
    "\n",
    "obj183 = ClassWithMeta183()\n",
    "obj183.show_meta_id()"
   ]
  },
  {
   "cell_type": "code",
   "execution_count": null,
   "id": "4437cc9e",
   "metadata": {},
   "outputs": [],
   "source": [
    "class Meta184(type):\n",
    "    def __new__(cls, name, bases, dct):\n",
    "        dct['meta_id'] = 184\n",
    "        return super().__new__(cls, name, bases, dct)\n",
    "\n",
    "class ClassWithMeta184(metaclass=Meta184):\n",
    "    def show_meta_id(self):\n",
    "        return self.meta_id\n",
    "\n",
    "obj184 = ClassWithMeta184()\n",
    "obj184.show_meta_id()"
   ]
  },
  {
   "cell_type": "code",
   "execution_count": null,
   "id": "3801bf6d",
   "metadata": {},
   "outputs": [],
   "source": [
    "class Meta185(type):\n",
    "    def __new__(cls, name, bases, dct):\n",
    "        dct['meta_id'] = 185\n",
    "        return super().__new__(cls, name, bases, dct)\n",
    "\n",
    "class ClassWithMeta185(metaclass=Meta185):\n",
    "    def show_meta_id(self):\n",
    "        return self.meta_id\n",
    "\n",
    "obj185 = ClassWithMeta185()\n",
    "obj185.show_meta_id()"
   ]
  },
  {
   "cell_type": "code",
   "execution_count": null,
   "id": "f5605aac",
   "metadata": {},
   "outputs": [],
   "source": [
    "class Meta186(type):\n",
    "    def __new__(cls, name, bases, dct):\n",
    "        dct['meta_id'] = 186\n",
    "        return super().__new__(cls, name, bases, dct)\n",
    "\n",
    "class ClassWithMeta186(metaclass=Meta186):\n",
    "    def show_meta_id(self):\n",
    "        return self.meta_id\n",
    "\n",
    "obj186 = ClassWithMeta186()\n",
    "obj186.show_meta_id()"
   ]
  },
  {
   "cell_type": "code",
   "execution_count": null,
   "id": "aa4d368c",
   "metadata": {},
   "outputs": [],
   "source": [
    "class Meta187(type):\n",
    "    def __new__(cls, name, bases, dct):\n",
    "        dct['meta_id'] = 187\n",
    "        return super().__new__(cls, name, bases, dct)\n",
    "\n",
    "class ClassWithMeta187(metaclass=Meta187):\n",
    "    def show_meta_id(self):\n",
    "        return self.meta_id\n",
    "\n",
    "obj187 = ClassWithMeta187()\n",
    "obj187.show_meta_id()"
   ]
  },
  {
   "cell_type": "code",
   "execution_count": null,
   "id": "2cd2fbd8",
   "metadata": {},
   "outputs": [],
   "source": [
    "class Meta188(type):\n",
    "    def __new__(cls, name, bases, dct):\n",
    "        dct['meta_id'] = 188\n",
    "        return super().__new__(cls, name, bases, dct)\n",
    "\n",
    "class ClassWithMeta188(metaclass=Meta188):\n",
    "    def show_meta_id(self):\n",
    "        return self.meta_id\n",
    "\n",
    "obj188 = ClassWithMeta188()\n",
    "obj188.show_meta_id()"
   ]
  },
  {
   "cell_type": "code",
   "execution_count": null,
   "id": "911ba7c7",
   "metadata": {},
   "outputs": [],
   "source": [
    "class Meta189(type):\n",
    "    def __new__(cls, name, bases, dct):\n",
    "        dct['meta_id'] = 189\n",
    "        return super().__new__(cls, name, bases, dct)\n",
    "\n",
    "class ClassWithMeta189(metaclass=Meta189):\n",
    "    def show_meta_id(self):\n",
    "        return self.meta_id\n",
    "\n",
    "obj189 = ClassWithMeta189()\n",
    "obj189.show_meta_id()"
   ]
  },
  {
   "cell_type": "code",
   "execution_count": null,
   "id": "0908aa40",
   "metadata": {},
   "outputs": [],
   "source": [
    "class Meta190(type):\n",
    "    def __new__(cls, name, bases, dct):\n",
    "        dct['meta_id'] = 190\n",
    "        return super().__new__(cls, name, bases, dct)\n",
    "\n",
    "class ClassWithMeta190(metaclass=Meta190):\n",
    "    def show_meta_id(self):\n",
    "        return self.meta_id\n",
    "\n",
    "obj190 = ClassWithMeta190()\n",
    "obj190.show_meta_id()"
   ]
  },
  {
   "cell_type": "code",
   "execution_count": null,
   "id": "be7ef997",
   "metadata": {},
   "outputs": [],
   "source": [
    "class Meta191(type):\n",
    "    def __new__(cls, name, bases, dct):\n",
    "        dct['meta_id'] = 191\n",
    "        return super().__new__(cls, name, bases, dct)\n",
    "\n",
    "class ClassWithMeta191(metaclass=Meta191):\n",
    "    def show_meta_id(self):\n",
    "        return self.meta_id\n",
    "\n",
    "obj191 = ClassWithMeta191()\n",
    "obj191.show_meta_id()"
   ]
  },
  {
   "cell_type": "code",
   "execution_count": null,
   "id": "4808124e",
   "metadata": {},
   "outputs": [],
   "source": [
    "class Meta192(type):\n",
    "    def __new__(cls, name, bases, dct):\n",
    "        dct['meta_id'] = 192\n",
    "        return super().__new__(cls, name, bases, dct)\n",
    "\n",
    "class ClassWithMeta192(metaclass=Meta192):\n",
    "    def show_meta_id(self):\n",
    "        return self.meta_id\n",
    "\n",
    "obj192 = ClassWithMeta192()\n",
    "obj192.show_meta_id()"
   ]
  },
  {
   "cell_type": "code",
   "execution_count": null,
   "id": "a1aa5a4c",
   "metadata": {},
   "outputs": [],
   "source": [
    "class Meta193(type):\n",
    "    def __new__(cls, name, bases, dct):\n",
    "        dct['meta_id'] = 193\n",
    "        return super().__new__(cls, name, bases, dct)\n",
    "\n",
    "class ClassWithMeta193(metaclass=Meta193):\n",
    "    def show_meta_id(self):\n",
    "        return self.meta_id\n",
    "\n",
    "obj193 = ClassWithMeta193()\n",
    "obj193.show_meta_id()"
   ]
  },
  {
   "cell_type": "code",
   "execution_count": null,
   "id": "06f9fa77",
   "metadata": {},
   "outputs": [],
   "source": [
    "class Meta194(type):\n",
    "    def __new__(cls, name, bases, dct):\n",
    "        dct['meta_id'] = 194\n",
    "        return super().__new__(cls, name, bases, dct)\n",
    "\n",
    "class ClassWithMeta194(metaclass=Meta194):\n",
    "    def show_meta_id(self):\n",
    "        return self.meta_id\n",
    "\n",
    "obj194 = ClassWithMeta194()\n",
    "obj194.show_meta_id()"
   ]
  },
  {
   "cell_type": "code",
   "execution_count": null,
   "id": "13ebe087",
   "metadata": {},
   "outputs": [],
   "source": [
    "class Meta195(type):\n",
    "    def __new__(cls, name, bases, dct):\n",
    "        dct['meta_id'] = 195\n",
    "        return super().__new__(cls, name, bases, dct)\n",
    "\n",
    "class ClassWithMeta195(metaclass=Meta195):\n",
    "    def show_meta_id(self):\n",
    "        return self.meta_id\n",
    "\n",
    "obj195 = ClassWithMeta195()\n",
    "obj195.show_meta_id()"
   ]
  },
  {
   "cell_type": "code",
   "execution_count": null,
   "id": "5bc6ab93",
   "metadata": {},
   "outputs": [],
   "source": [
    "class Meta196(type):\n",
    "    def __new__(cls, name, bases, dct):\n",
    "        dct['meta_id'] = 196\n",
    "        return super().__new__(cls, name, bases, dct)\n",
    "\n",
    "class ClassWithMeta196(metaclass=Meta196):\n",
    "    def show_meta_id(self):\n",
    "        return self.meta_id\n",
    "\n",
    "obj196 = ClassWithMeta196()\n",
    "obj196.show_meta_id()"
   ]
  },
  {
   "cell_type": "code",
   "execution_count": null,
   "id": "9c6f8d83",
   "metadata": {},
   "outputs": [],
   "source": [
    "class Meta197(type):\n",
    "    def __new__(cls, name, bases, dct):\n",
    "        dct['meta_id'] = 197\n",
    "        return super().__new__(cls, name, bases, dct)\n",
    "\n",
    "class ClassWithMeta197(metaclass=Meta197):\n",
    "    def show_meta_id(self):\n",
    "        return self.meta_id\n",
    "\n",
    "obj197 = ClassWithMeta197()\n",
    "obj197.show_meta_id()"
   ]
  },
  {
   "cell_type": "code",
   "execution_count": null,
   "id": "14e0abaf",
   "metadata": {},
   "outputs": [],
   "source": [
    "class Meta198(type):\n",
    "    def __new__(cls, name, bases, dct):\n",
    "        dct['meta_id'] = 198\n",
    "        return super().__new__(cls, name, bases, dct)\n",
    "\n",
    "class ClassWithMeta198(metaclass=Meta198):\n",
    "    def show_meta_id(self):\n",
    "        return self.meta_id\n",
    "\n",
    "obj198 = ClassWithMeta198()\n",
    "obj198.show_meta_id()"
   ]
  },
  {
   "cell_type": "code",
   "execution_count": null,
   "id": "aaf9ed76",
   "metadata": {},
   "outputs": [],
   "source": [
    "class Meta199(type):\n",
    "    def __new__(cls, name, bases, dct):\n",
    "        dct['meta_id'] = 199\n",
    "        return super().__new__(cls, name, bases, dct)\n",
    "\n",
    "class ClassWithMeta199(metaclass=Meta199):\n",
    "    def show_meta_id(self):\n",
    "        return self.meta_id\n",
    "\n",
    "obj199 = ClassWithMeta199()\n",
    "obj199.show_meta_id()"
   ]
  },
  {
   "cell_type": "code",
   "execution_count": null,
   "id": "99d7536a",
   "metadata": {},
   "outputs": [],
   "source": [
    "class Meta200(type):\n",
    "    def __new__(cls, name, bases, dct):\n",
    "        dct['meta_id'] = 200\n",
    "        return super().__new__(cls, name, bases, dct)\n",
    "\n",
    "class ClassWithMeta200(metaclass=Meta200):\n",
    "    def show_meta_id(self):\n",
    "        return self.meta_id\n",
    "\n",
    "obj200 = ClassWithMeta200()\n",
    "obj200.show_meta_id()"
   ]
  },
  {
   "cell_type": "code",
   "execution_count": null,
   "id": "e87eef84",
   "metadata": {},
   "outputs": [],
   "source": [
    "class Meta201(type):\n",
    "    def __new__(cls, name, bases, dct):\n",
    "        dct['meta_id'] = 201\n",
    "        return super().__new__(cls, name, bases, dct)\n",
    "\n",
    "class ClassWithMeta201(metaclass=Meta201):\n",
    "    def show_meta_id(self):\n",
    "        return self.meta_id\n",
    "\n",
    "obj201 = ClassWithMeta201()\n",
    "obj201.show_meta_id()"
   ]
  },
  {
   "cell_type": "code",
   "execution_count": null,
   "id": "18e3f963",
   "metadata": {},
   "outputs": [],
   "source": [
    "class Meta202(type):\n",
    "    def __new__(cls, name, bases, dct):\n",
    "        dct['meta_id'] = 202\n",
    "        return super().__new__(cls, name, bases, dct)\n",
    "\n",
    "class ClassWithMeta202(metaclass=Meta202):\n",
    "    def show_meta_id(self):\n",
    "        return self.meta_id\n",
    "\n",
    "obj202 = ClassWithMeta202()\n",
    "obj202.show_meta_id()"
   ]
  },
  {
   "cell_type": "code",
   "execution_count": null,
   "id": "855b4a3a",
   "metadata": {},
   "outputs": [],
   "source": [
    "class Meta203(type):\n",
    "    def __new__(cls, name, bases, dct):\n",
    "        dct['meta_id'] = 203\n",
    "        return super().__new__(cls, name, bases, dct)\n",
    "\n",
    "class ClassWithMeta203(metaclass=Meta203):\n",
    "    def show_meta_id(self):\n",
    "        return self.meta_id\n",
    "\n",
    "obj203 = ClassWithMeta203()\n",
    "obj203.show_meta_id()"
   ]
  },
  {
   "cell_type": "code",
   "execution_count": null,
   "id": "a366303a",
   "metadata": {},
   "outputs": [],
   "source": [
    "class Meta204(type):\n",
    "    def __new__(cls, name, bases, dct):\n",
    "        dct['meta_id'] = 204\n",
    "        return super().__new__(cls, name, bases, dct)\n",
    "\n",
    "class ClassWithMeta204(metaclass=Meta204):\n",
    "    def show_meta_id(self):\n",
    "        return self.meta_id\n",
    "\n",
    "obj204 = ClassWithMeta204()\n",
    "obj204.show_meta_id()"
   ]
  },
  {
   "cell_type": "code",
   "execution_count": null,
   "id": "ee877dd8",
   "metadata": {},
   "outputs": [],
   "source": [
    "class Meta205(type):\n",
    "    def __new__(cls, name, bases, dct):\n",
    "        dct['meta_id'] = 205\n",
    "        return super().__new__(cls, name, bases, dct)\n",
    "\n",
    "class ClassWithMeta205(metaclass=Meta205):\n",
    "    def show_meta_id(self):\n",
    "        return self.meta_id\n",
    "\n",
    "obj205 = ClassWithMeta205()\n",
    "obj205.show_meta_id()"
   ]
  },
  {
   "cell_type": "code",
   "execution_count": null,
   "id": "e4663926",
   "metadata": {},
   "outputs": [],
   "source": [
    "class Meta206(type):\n",
    "    def __new__(cls, name, bases, dct):\n",
    "        dct['meta_id'] = 206\n",
    "        return super().__new__(cls, name, bases, dct)\n",
    "\n",
    "class ClassWithMeta206(metaclass=Meta206):\n",
    "    def show_meta_id(self):\n",
    "        return self.meta_id\n",
    "\n",
    "obj206 = ClassWithMeta206()\n",
    "obj206.show_meta_id()"
   ]
  },
  {
   "cell_type": "code",
   "execution_count": null,
   "id": "7fc4934e",
   "metadata": {},
   "outputs": [],
   "source": [
    "class Meta207(type):\n",
    "    def __new__(cls, name, bases, dct):\n",
    "        dct['meta_id'] = 207\n",
    "        return super().__new__(cls, name, bases, dct)\n",
    "\n",
    "class ClassWithMeta207(metaclass=Meta207):\n",
    "    def show_meta_id(self):\n",
    "        return self.meta_id\n",
    "\n",
    "obj207 = ClassWithMeta207()\n",
    "obj207.show_meta_id()"
   ]
  },
  {
   "cell_type": "code",
   "execution_count": null,
   "id": "60d30915",
   "metadata": {},
   "outputs": [],
   "source": [
    "class Meta208(type):\n",
    "    def __new__(cls, name, bases, dct):\n",
    "        dct['meta_id'] = 208\n",
    "        return super().__new__(cls, name, bases, dct)\n",
    "\n",
    "class ClassWithMeta208(metaclass=Meta208):\n",
    "    def show_meta_id(self):\n",
    "        return self.meta_id\n",
    "\n",
    "obj208 = ClassWithMeta208()\n",
    "obj208.show_meta_id()"
   ]
  },
  {
   "cell_type": "code",
   "execution_count": null,
   "id": "b4c96d47",
   "metadata": {},
   "outputs": [],
   "source": [
    "class Meta209(type):\n",
    "    def __new__(cls, name, bases, dct):\n",
    "        dct['meta_id'] = 209\n",
    "        return super().__new__(cls, name, bases, dct)\n",
    "\n",
    "class ClassWithMeta209(metaclass=Meta209):\n",
    "    def show_meta_id(self):\n",
    "        return self.meta_id\n",
    "\n",
    "obj209 = ClassWithMeta209()\n",
    "obj209.show_meta_id()"
   ]
  },
  {
   "cell_type": "code",
   "execution_count": null,
   "id": "ce8f1bc1",
   "metadata": {},
   "outputs": [],
   "source": [
    "class Meta210(type):\n",
    "    def __new__(cls, name, bases, dct):\n",
    "        dct['meta_id'] = 210\n",
    "        return super().__new__(cls, name, bases, dct)\n",
    "\n",
    "class ClassWithMeta210(metaclass=Meta210):\n",
    "    def show_meta_id(self):\n",
    "        return self.meta_id\n",
    "\n",
    "obj210 = ClassWithMeta210()\n",
    "obj210.show_meta_id()"
   ]
  },
  {
   "cell_type": "code",
   "execution_count": null,
   "id": "0d54b153",
   "metadata": {},
   "outputs": [],
   "source": [
    "class Meta211(type):\n",
    "    def __new__(cls, name, bases, dct):\n",
    "        dct['meta_id'] = 211\n",
    "        return super().__new__(cls, name, bases, dct)\n",
    "\n",
    "class ClassWithMeta211(metaclass=Meta211):\n",
    "    def show_meta_id(self):\n",
    "        return self.meta_id\n",
    "\n",
    "obj211 = ClassWithMeta211()\n",
    "obj211.show_meta_id()"
   ]
  },
  {
   "cell_type": "code",
   "execution_count": null,
   "id": "8be68214",
   "metadata": {},
   "outputs": [],
   "source": [
    "class Meta212(type):\n",
    "    def __new__(cls, name, bases, dct):\n",
    "        dct['meta_id'] = 212\n",
    "        return super().__new__(cls, name, bases, dct)\n",
    "\n",
    "class ClassWithMeta212(metaclass=Meta212):\n",
    "    def show_meta_id(self):\n",
    "        return self.meta_id\n",
    "\n",
    "obj212 = ClassWithMeta212()\n",
    "obj212.show_meta_id()"
   ]
  },
  {
   "cell_type": "code",
   "execution_count": null,
   "id": "70e3d286",
   "metadata": {},
   "outputs": [],
   "source": [
    "class Meta213(type):\n",
    "    def __new__(cls, name, bases, dct):\n",
    "        dct['meta_id'] = 213\n",
    "        return super().__new__(cls, name, bases, dct)\n",
    "\n",
    "class ClassWithMeta213(metaclass=Meta213):\n",
    "    def show_meta_id(self):\n",
    "        return self.meta_id\n",
    "\n",
    "obj213 = ClassWithMeta213()\n",
    "obj213.show_meta_id()"
   ]
  },
  {
   "cell_type": "code",
   "execution_count": null,
   "id": "b619d634",
   "metadata": {},
   "outputs": [],
   "source": [
    "class Meta214(type):\n",
    "    def __new__(cls, name, bases, dct):\n",
    "        dct['meta_id'] = 214\n",
    "        return super().__new__(cls, name, bases, dct)\n",
    "\n",
    "class ClassWithMeta214(metaclass=Meta214):\n",
    "    def show_meta_id(self):\n",
    "        return self.meta_id\n",
    "\n",
    "obj214 = ClassWithMeta214()\n",
    "obj214.show_meta_id()"
   ]
  },
  {
   "cell_type": "code",
   "execution_count": null,
   "id": "e1ef3e50",
   "metadata": {},
   "outputs": [],
   "source": [
    "class Meta215(type):\n",
    "    def __new__(cls, name, bases, dct):\n",
    "        dct['meta_id'] = 215\n",
    "        return super().__new__(cls, name, bases, dct)\n",
    "\n",
    "class ClassWithMeta215(metaclass=Meta215):\n",
    "    def show_meta_id(self):\n",
    "        return self.meta_id\n",
    "\n",
    "obj215 = ClassWithMeta215()\n",
    "obj215.show_meta_id()"
   ]
  },
  {
   "cell_type": "code",
   "execution_count": null,
   "id": "a7db7285",
   "metadata": {},
   "outputs": [],
   "source": [
    "class Meta216(type):\n",
    "    def __new__(cls, name, bases, dct):\n",
    "        dct['meta_id'] = 216\n",
    "        return super().__new__(cls, name, bases, dct)\n",
    "\n",
    "class ClassWithMeta216(metaclass=Meta216):\n",
    "    def show_meta_id(self):\n",
    "        return self.meta_id\n",
    "\n",
    "obj216 = ClassWithMeta216()\n",
    "obj216.show_meta_id()"
   ]
  },
  {
   "cell_type": "code",
   "execution_count": null,
   "id": "30218387",
   "metadata": {},
   "outputs": [],
   "source": [
    "class Meta217(type):\n",
    "    def __new__(cls, name, bases, dct):\n",
    "        dct['meta_id'] = 217\n",
    "        return super().__new__(cls, name, bases, dct)\n",
    "\n",
    "class ClassWithMeta217(metaclass=Meta217):\n",
    "    def show_meta_id(self):\n",
    "        return self.meta_id\n",
    "\n",
    "obj217 = ClassWithMeta217()\n",
    "obj217.show_meta_id()"
   ]
  },
  {
   "cell_type": "code",
   "execution_count": null,
   "id": "2daa9f9c",
   "metadata": {},
   "outputs": [],
   "source": [
    "class Meta218(type):\n",
    "    def __new__(cls, name, bases, dct):\n",
    "        dct['meta_id'] = 218\n",
    "        return super().__new__(cls, name, bases, dct)\n",
    "\n",
    "class ClassWithMeta218(metaclass=Meta218):\n",
    "    def show_meta_id(self):\n",
    "        return self.meta_id\n",
    "\n",
    "obj218 = ClassWithMeta218()\n",
    "obj218.show_meta_id()"
   ]
  },
  {
   "cell_type": "code",
   "execution_count": null,
   "id": "699b6ce6",
   "metadata": {},
   "outputs": [],
   "source": [
    "class Meta219(type):\n",
    "    def __new__(cls, name, bases, dct):\n",
    "        dct['meta_id'] = 219\n",
    "        return super().__new__(cls, name, bases, dct)\n",
    "\n",
    "class ClassWithMeta219(metaclass=Meta219):\n",
    "    def show_meta_id(self):\n",
    "        return self.meta_id\n",
    "\n",
    "obj219 = ClassWithMeta219()\n",
    "obj219.show_meta_id()"
   ]
  },
  {
   "cell_type": "code",
   "execution_count": null,
   "id": "6ed0297d",
   "metadata": {},
   "outputs": [],
   "source": [
    "class Meta220(type):\n",
    "    def __new__(cls, name, bases, dct):\n",
    "        dct['meta_id'] = 220\n",
    "        return super().__new__(cls, name, bases, dct)\n",
    "\n",
    "class ClassWithMeta220(metaclass=Meta220):\n",
    "    def show_meta_id(self):\n",
    "        return self.meta_id\n",
    "\n",
    "obj220 = ClassWithMeta220()\n",
    "obj220.show_meta_id()"
   ]
  },
  {
   "cell_type": "code",
   "execution_count": null,
   "id": "fbe7741f",
   "metadata": {},
   "outputs": [],
   "source": [
    "class Meta221(type):\n",
    "    def __new__(cls, name, bases, dct):\n",
    "        dct['meta_id'] = 221\n",
    "        return super().__new__(cls, name, bases, dct)\n",
    "\n",
    "class ClassWithMeta221(metaclass=Meta221):\n",
    "    def show_meta_id(self):\n",
    "        return self.meta_id\n",
    "\n",
    "obj221 = ClassWithMeta221()\n",
    "obj221.show_meta_id()"
   ]
  },
  {
   "cell_type": "code",
   "execution_count": null,
   "id": "68c8ba7a",
   "metadata": {},
   "outputs": [],
   "source": [
    "class Meta222(type):\n",
    "    def __new__(cls, name, bases, dct):\n",
    "        dct['meta_id'] = 222\n",
    "        return super().__new__(cls, name, bases, dct)\n",
    "\n",
    "class ClassWithMeta222(metaclass=Meta222):\n",
    "    def show_meta_id(self):\n",
    "        return self.meta_id\n",
    "\n",
    "obj222 = ClassWithMeta222()\n",
    "obj222.show_meta_id()"
   ]
  },
  {
   "cell_type": "code",
   "execution_count": null,
   "id": "cae6da6e",
   "metadata": {},
   "outputs": [],
   "source": [
    "class Meta223(type):\n",
    "    def __new__(cls, name, bases, dct):\n",
    "        dct['meta_id'] = 223\n",
    "        return super().__new__(cls, name, bases, dct)\n",
    "\n",
    "class ClassWithMeta223(metaclass=Meta223):\n",
    "    def show_meta_id(self):\n",
    "        return self.meta_id\n",
    "\n",
    "obj223 = ClassWithMeta223()\n",
    "obj223.show_meta_id()"
   ]
  },
  {
   "cell_type": "code",
   "execution_count": null,
   "id": "3957e519",
   "metadata": {},
   "outputs": [],
   "source": [
    "class Meta224(type):\n",
    "    def __new__(cls, name, bases, dct):\n",
    "        dct['meta_id'] = 224\n",
    "        return super().__new__(cls, name, bases, dct)\n",
    "\n",
    "class ClassWithMeta224(metaclass=Meta224):\n",
    "    def show_meta_id(self):\n",
    "        return self.meta_id\n",
    "\n",
    "obj224 = ClassWithMeta224()\n",
    "obj224.show_meta_id()"
   ]
  },
  {
   "cell_type": "code",
   "execution_count": null,
   "id": "178946b1",
   "metadata": {},
   "outputs": [],
   "source": [
    "class Meta225(type):\n",
    "    def __new__(cls, name, bases, dct):\n",
    "        dct['meta_id'] = 225\n",
    "        return super().__new__(cls, name, bases, dct)\n",
    "\n",
    "class ClassWithMeta225(metaclass=Meta225):\n",
    "    def show_meta_id(self):\n",
    "        return self.meta_id\n",
    "\n",
    "obj225 = ClassWithMeta225()\n",
    "obj225.show_meta_id()"
   ]
  },
  {
   "cell_type": "code",
   "execution_count": null,
   "id": "fea47b2b",
   "metadata": {},
   "outputs": [],
   "source": [
    "class Meta226(type):\n",
    "    def __new__(cls, name, bases, dct):\n",
    "        dct['meta_id'] = 226\n",
    "        return super().__new__(cls, name, bases, dct)\n",
    "\n",
    "class ClassWithMeta226(metaclass=Meta226):\n",
    "    def show_meta_id(self):\n",
    "        return self.meta_id\n",
    "\n",
    "obj226 = ClassWithMeta226()\n",
    "obj226.show_meta_id()"
   ]
  },
  {
   "cell_type": "code",
   "execution_count": null,
   "id": "8132b0fb",
   "metadata": {},
   "outputs": [],
   "source": [
    "class Meta227(type):\n",
    "    def __new__(cls, name, bases, dct):\n",
    "        dct['meta_id'] = 227\n",
    "        return super().__new__(cls, name, bases, dct)\n",
    "\n",
    "class ClassWithMeta227(metaclass=Meta227):\n",
    "    def show_meta_id(self):\n",
    "        return self.meta_id\n",
    "\n",
    "obj227 = ClassWithMeta227()\n",
    "obj227.show_meta_id()"
   ]
  },
  {
   "cell_type": "code",
   "execution_count": null,
   "id": "6bf30491",
   "metadata": {},
   "outputs": [],
   "source": [
    "class Meta228(type):\n",
    "    def __new__(cls, name, bases, dct):\n",
    "        dct['meta_id'] = 228\n",
    "        return super().__new__(cls, name, bases, dct)\n",
    "\n",
    "class ClassWithMeta228(metaclass=Meta228):\n",
    "    def show_meta_id(self):\n",
    "        return self.meta_id\n",
    "\n",
    "obj228 = ClassWithMeta228()\n",
    "obj228.show_meta_id()"
   ]
  },
  {
   "cell_type": "code",
   "execution_count": null,
   "id": "ff6eb3ae",
   "metadata": {},
   "outputs": [],
   "source": [
    "class Meta229(type):\n",
    "    def __new__(cls, name, bases, dct):\n",
    "        dct['meta_id'] = 229\n",
    "        return super().__new__(cls, name, bases, dct)\n",
    "\n",
    "class ClassWithMeta229(metaclass=Meta229):\n",
    "    def show_meta_id(self):\n",
    "        return self.meta_id\n",
    "\n",
    "obj229 = ClassWithMeta229()\n",
    "obj229.show_meta_id()"
   ]
  },
  {
   "cell_type": "code",
   "execution_count": null,
   "id": "2e3c5d2d",
   "metadata": {},
   "outputs": [],
   "source": [
    "class Meta230(type):\n",
    "    def __new__(cls, name, bases, dct):\n",
    "        dct['meta_id'] = 230\n",
    "        return super().__new__(cls, name, bases, dct)\n",
    "\n",
    "class ClassWithMeta230(metaclass=Meta230):\n",
    "    def show_meta_id(self):\n",
    "        return self.meta_id\n",
    "\n",
    "obj230 = ClassWithMeta230()\n",
    "obj230.show_meta_id()"
   ]
  },
  {
   "cell_type": "code",
   "execution_count": null,
   "id": "00df9ccd",
   "metadata": {},
   "outputs": [],
   "source": [
    "class Meta231(type):\n",
    "    def __new__(cls, name, bases, dct):\n",
    "        dct['meta_id'] = 231\n",
    "        return super().__new__(cls, name, bases, dct)\n",
    "\n",
    "class ClassWithMeta231(metaclass=Meta231):\n",
    "    def show_meta_id(self):\n",
    "        return self.meta_id\n",
    "\n",
    "obj231 = ClassWithMeta231()\n",
    "obj231.show_meta_id()"
   ]
  },
  {
   "cell_type": "code",
   "execution_count": null,
   "id": "5b96548f",
   "metadata": {},
   "outputs": [],
   "source": [
    "class Meta232(type):\n",
    "    def __new__(cls, name, bases, dct):\n",
    "        dct['meta_id'] = 232\n",
    "        return super().__new__(cls, name, bases, dct)\n",
    "\n",
    "class ClassWithMeta232(metaclass=Meta232):\n",
    "    def show_meta_id(self):\n",
    "        return self.meta_id\n",
    "\n",
    "obj232 = ClassWithMeta232()\n",
    "obj232.show_meta_id()"
   ]
  },
  {
   "cell_type": "code",
   "execution_count": null,
   "id": "12249407",
   "metadata": {},
   "outputs": [],
   "source": [
    "class Meta233(type):\n",
    "    def __new__(cls, name, bases, dct):\n",
    "        dct['meta_id'] = 233\n",
    "        return super().__new__(cls, name, bases, dct)\n",
    "\n",
    "class ClassWithMeta233(metaclass=Meta233):\n",
    "    def show_meta_id(self):\n",
    "        return self.meta_id\n",
    "\n",
    "obj233 = ClassWithMeta233()\n",
    "obj233.show_meta_id()"
   ]
  },
  {
   "cell_type": "code",
   "execution_count": null,
   "id": "18c6e9dc",
   "metadata": {},
   "outputs": [],
   "source": [
    "class Meta234(type):\n",
    "    def __new__(cls, name, bases, dct):\n",
    "        dct['meta_id'] = 234\n",
    "        return super().__new__(cls, name, bases, dct)\n",
    "\n",
    "class ClassWithMeta234(metaclass=Meta234):\n",
    "    def show_meta_id(self):\n",
    "        return self.meta_id\n",
    "\n",
    "obj234 = ClassWithMeta234()\n",
    "obj234.show_meta_id()"
   ]
  },
  {
   "cell_type": "code",
   "execution_count": null,
   "id": "4940a0c2",
   "metadata": {},
   "outputs": [],
   "source": [
    "class Meta235(type):\n",
    "    def __new__(cls, name, bases, dct):\n",
    "        dct['meta_id'] = 235\n",
    "        return super().__new__(cls, name, bases, dct)\n",
    "\n",
    "class ClassWithMeta235(metaclass=Meta235):\n",
    "    def show_meta_id(self):\n",
    "        return self.meta_id\n",
    "\n",
    "obj235 = ClassWithMeta235()\n",
    "obj235.show_meta_id()"
   ]
  },
  {
   "cell_type": "code",
   "execution_count": null,
   "id": "11dea6bc",
   "metadata": {},
   "outputs": [],
   "source": [
    "class Meta236(type):\n",
    "    def __new__(cls, name, bases, dct):\n",
    "        dct['meta_id'] = 236\n",
    "        return super().__new__(cls, name, bases, dct)\n",
    "\n",
    "class ClassWithMeta236(metaclass=Meta236):\n",
    "    def show_meta_id(self):\n",
    "        return self.meta_id\n",
    "\n",
    "obj236 = ClassWithMeta236()\n",
    "obj236.show_meta_id()"
   ]
  },
  {
   "cell_type": "code",
   "execution_count": null,
   "id": "1313b9d5",
   "metadata": {},
   "outputs": [],
   "source": [
    "class Meta237(type):\n",
    "    def __new__(cls, name, bases, dct):\n",
    "        dct['meta_id'] = 237\n",
    "        return super().__new__(cls, name, bases, dct)\n",
    "\n",
    "class ClassWithMeta237(metaclass=Meta237):\n",
    "    def show_meta_id(self):\n",
    "        return self.meta_id\n",
    "\n",
    "obj237 = ClassWithMeta237()\n",
    "obj237.show_meta_id()"
   ]
  },
  {
   "cell_type": "code",
   "execution_count": null,
   "id": "a5108673",
   "metadata": {},
   "outputs": [],
   "source": [
    "class Meta238(type):\n",
    "    def __new__(cls, name, bases, dct):\n",
    "        dct['meta_id'] = 238\n",
    "        return super().__new__(cls, name, bases, dct)\n",
    "\n",
    "class ClassWithMeta238(metaclass=Meta238):\n",
    "    def show_meta_id(self):\n",
    "        return self.meta_id\n",
    "\n",
    "obj238 = ClassWithMeta238()\n",
    "obj238.show_meta_id()"
   ]
  },
  {
   "cell_type": "code",
   "execution_count": null,
   "id": "23c7b3e3",
   "metadata": {},
   "outputs": [],
   "source": [
    "class Meta239(type):\n",
    "    def __new__(cls, name, bases, dct):\n",
    "        dct['meta_id'] = 239\n",
    "        return super().__new__(cls, name, bases, dct)\n",
    "\n",
    "class ClassWithMeta239(metaclass=Meta239):\n",
    "    def show_meta_id(self):\n",
    "        return self.meta_id\n",
    "\n",
    "obj239 = ClassWithMeta239()\n",
    "obj239.show_meta_id()"
   ]
  },
  {
   "cell_type": "code",
   "execution_count": null,
   "id": "d9c81df2",
   "metadata": {},
   "outputs": [],
   "source": [
    "class Meta240(type):\n",
    "    def __new__(cls, name, bases, dct):\n",
    "        dct['meta_id'] = 240\n",
    "        return super().__new__(cls, name, bases, dct)\n",
    "\n",
    "class ClassWithMeta240(metaclass=Meta240):\n",
    "    def show_meta_id(self):\n",
    "        return self.meta_id\n",
    "\n",
    "obj240 = ClassWithMeta240()\n",
    "obj240.show_meta_id()"
   ]
  },
  {
   "cell_type": "code",
   "execution_count": null,
   "id": "144efe55",
   "metadata": {},
   "outputs": [],
   "source": [
    "class Meta241(type):\n",
    "    def __new__(cls, name, bases, dct):\n",
    "        dct['meta_id'] = 241\n",
    "        return super().__new__(cls, name, bases, dct)\n",
    "\n",
    "class ClassWithMeta241(metaclass=Meta241):\n",
    "    def show_meta_id(self):\n",
    "        return self.meta_id\n",
    "\n",
    "obj241 = ClassWithMeta241()\n",
    "obj241.show_meta_id()"
   ]
  },
  {
   "cell_type": "code",
   "execution_count": null,
   "id": "e6c03a8f",
   "metadata": {},
   "outputs": [],
   "source": [
    "class Meta242(type):\n",
    "    def __new__(cls, name, bases, dct):\n",
    "        dct['meta_id'] = 242\n",
    "        return super().__new__(cls, name, bases, dct)\n",
    "\n",
    "class ClassWithMeta242(metaclass=Meta242):\n",
    "    def show_meta_id(self):\n",
    "        return self.meta_id\n",
    "\n",
    "obj242 = ClassWithMeta242()\n",
    "obj242.show_meta_id()"
   ]
  },
  {
   "cell_type": "code",
   "execution_count": null,
   "id": "f1a771a6",
   "metadata": {},
   "outputs": [],
   "source": [
    "class Meta243(type):\n",
    "    def __new__(cls, name, bases, dct):\n",
    "        dct['meta_id'] = 243\n",
    "        return super().__new__(cls, name, bases, dct)\n",
    "\n",
    "class ClassWithMeta243(metaclass=Meta243):\n",
    "    def show_meta_id(self):\n",
    "        return self.meta_id\n",
    "\n",
    "obj243 = ClassWithMeta243()\n",
    "obj243.show_meta_id()"
   ]
  },
  {
   "cell_type": "code",
   "execution_count": null,
   "id": "315d9376",
   "metadata": {},
   "outputs": [],
   "source": [
    "class Meta244(type):\n",
    "    def __new__(cls, name, bases, dct):\n",
    "        dct['meta_id'] = 244\n",
    "        return super().__new__(cls, name, bases, dct)\n",
    "\n",
    "class ClassWithMeta244(metaclass=Meta244):\n",
    "    def show_meta_id(self):\n",
    "        return self.meta_id\n",
    "\n",
    "obj244 = ClassWithMeta244()\n",
    "obj244.show_meta_id()"
   ]
  },
  {
   "cell_type": "code",
   "execution_count": null,
   "id": "3cb7df91",
   "metadata": {},
   "outputs": [],
   "source": [
    "class Meta245(type):\n",
    "    def __new__(cls, name, bases, dct):\n",
    "        dct['meta_id'] = 245\n",
    "        return super().__new__(cls, name, bases, dct)\n",
    "\n",
    "class ClassWithMeta245(metaclass=Meta245):\n",
    "    def show_meta_id(self):\n",
    "        return self.meta_id\n",
    "\n",
    "obj245 = ClassWithMeta245()\n",
    "obj245.show_meta_id()"
   ]
  },
  {
   "cell_type": "code",
   "execution_count": null,
   "id": "f92a65ad",
   "metadata": {},
   "outputs": [],
   "source": [
    "class Meta246(type):\n",
    "    def __new__(cls, name, bases, dct):\n",
    "        dct['meta_id'] = 246\n",
    "        return super().__new__(cls, name, bases, dct)\n",
    "\n",
    "class ClassWithMeta246(metaclass=Meta246):\n",
    "    def show_meta_id(self):\n",
    "        return self.meta_id\n",
    "\n",
    "obj246 = ClassWithMeta246()\n",
    "obj246.show_meta_id()"
   ]
  },
  {
   "cell_type": "code",
   "execution_count": null,
   "id": "3fba2292",
   "metadata": {},
   "outputs": [],
   "source": [
    "class Meta247(type):\n",
    "    def __new__(cls, name, bases, dct):\n",
    "        dct['meta_id'] = 247\n",
    "        return super().__new__(cls, name, bases, dct)\n",
    "\n",
    "class ClassWithMeta247(metaclass=Meta247):\n",
    "    def show_meta_id(self):\n",
    "        return self.meta_id\n",
    "\n",
    "obj247 = ClassWithMeta247()\n",
    "obj247.show_meta_id()"
   ]
  },
  {
   "cell_type": "code",
   "execution_count": null,
   "id": "0ce50674",
   "metadata": {},
   "outputs": [],
   "source": [
    "class Meta248(type):\n",
    "    def __new__(cls, name, bases, dct):\n",
    "        dct['meta_id'] = 248\n",
    "        return super().__new__(cls, name, bases, dct)\n",
    "\n",
    "class ClassWithMeta248(metaclass=Meta248):\n",
    "    def show_meta_id(self):\n",
    "        return self.meta_id\n",
    "\n",
    "obj248 = ClassWithMeta248()\n",
    "obj248.show_meta_id()"
   ]
  },
  {
   "cell_type": "code",
   "execution_count": null,
   "id": "69e078b0",
   "metadata": {},
   "outputs": [],
   "source": [
    "class Meta249(type):\n",
    "    def __new__(cls, name, bases, dct):\n",
    "        dct['meta_id'] = 249\n",
    "        return super().__new__(cls, name, bases, dct)\n",
    "\n",
    "class ClassWithMeta249(metaclass=Meta249):\n",
    "    def show_meta_id(self):\n",
    "        return self.meta_id\n",
    "\n",
    "obj249 = ClassWithMeta249()\n",
    "obj249.show_meta_id()"
   ]
  },
  {
   "cell_type": "code",
   "execution_count": null,
   "id": "b40d42b3",
   "metadata": {},
   "outputs": [],
   "source": [
    "class Meta250(type):\n",
    "    def __new__(cls, name, bases, dct):\n",
    "        dct['meta_id'] = 250\n",
    "        return super().__new__(cls, name, bases, dct)\n",
    "\n",
    "class ClassWithMeta250(metaclass=Meta250):\n",
    "    def show_meta_id(self):\n",
    "        return self.meta_id\n",
    "\n",
    "obj250 = ClassWithMeta250()\n",
    "obj250.show_meta_id()"
   ]
  },
  {
   "cell_type": "code",
   "execution_count": null,
   "id": "1b89b482",
   "metadata": {},
   "outputs": [],
   "source": [
    "class Meta251(type):\n",
    "    def __new__(cls, name, bases, dct):\n",
    "        dct['meta_id'] = 251\n",
    "        return super().__new__(cls, name, bases, dct)\n",
    "\n",
    "class ClassWithMeta251(metaclass=Meta251):\n",
    "    def show_meta_id(self):\n",
    "        return self.meta_id\n",
    "\n",
    "obj251 = ClassWithMeta251()\n",
    "obj251.show_meta_id()"
   ]
  },
  {
   "cell_type": "code",
   "execution_count": null,
   "id": "61f65257",
   "metadata": {},
   "outputs": [],
   "source": [
    "class Meta252(type):\n",
    "    def __new__(cls, name, bases, dct):\n",
    "        dct['meta_id'] = 252\n",
    "        return super().__new__(cls, name, bases, dct)\n",
    "\n",
    "class ClassWithMeta252(metaclass=Meta252):\n",
    "    def show_meta_id(self):\n",
    "        return self.meta_id\n",
    "\n",
    "obj252 = ClassWithMeta252()\n",
    "obj252.show_meta_id()"
   ]
  },
  {
   "cell_type": "code",
   "execution_count": null,
   "id": "4d2f0a06",
   "metadata": {},
   "outputs": [],
   "source": [
    "class Meta253(type):\n",
    "    def __new__(cls, name, bases, dct):\n",
    "        dct['meta_id'] = 253\n",
    "        return super().__new__(cls, name, bases, dct)\n",
    "\n",
    "class ClassWithMeta253(metaclass=Meta253):\n",
    "    def show_meta_id(self):\n",
    "        return self.meta_id\n",
    "\n",
    "obj253 = ClassWithMeta253()\n",
    "obj253.show_meta_id()"
   ]
  },
  {
   "cell_type": "code",
   "execution_count": null,
   "id": "3af79265",
   "metadata": {},
   "outputs": [],
   "source": [
    "class Meta254(type):\n",
    "    def __new__(cls, name, bases, dct):\n",
    "        dct['meta_id'] = 254\n",
    "        return super().__new__(cls, name, bases, dct)\n",
    "\n",
    "class ClassWithMeta254(metaclass=Meta254):\n",
    "    def show_meta_id(self):\n",
    "        return self.meta_id\n",
    "\n",
    "obj254 = ClassWithMeta254()\n",
    "obj254.show_meta_id()"
   ]
  },
  {
   "cell_type": "code",
   "execution_count": null,
   "id": "9e35e531",
   "metadata": {},
   "outputs": [],
   "source": [
    "class Meta255(type):\n",
    "    def __new__(cls, name, bases, dct):\n",
    "        dct['meta_id'] = 255\n",
    "        return super().__new__(cls, name, bases, dct)\n",
    "\n",
    "class ClassWithMeta255(metaclass=Meta255):\n",
    "    def show_meta_id(self):\n",
    "        return self.meta_id\n",
    "\n",
    "obj255 = ClassWithMeta255()\n",
    "obj255.show_meta_id()"
   ]
  },
  {
   "cell_type": "code",
   "execution_count": null,
   "id": "37338ae5",
   "metadata": {},
   "outputs": [],
   "source": [
    "class Meta256(type):\n",
    "    def __new__(cls, name, bases, dct):\n",
    "        dct['meta_id'] = 256\n",
    "        return super().__new__(cls, name, bases, dct)\n",
    "\n",
    "class ClassWithMeta256(metaclass=Meta256):\n",
    "    def show_meta_id(self):\n",
    "        return self.meta_id\n",
    "\n",
    "obj256 = ClassWithMeta256()\n",
    "obj256.show_meta_id()"
   ]
  },
  {
   "cell_type": "code",
   "execution_count": null,
   "id": "2564a920",
   "metadata": {},
   "outputs": [],
   "source": [
    "class Meta257(type):\n",
    "    def __new__(cls, name, bases, dct):\n",
    "        dct['meta_id'] = 257\n",
    "        return super().__new__(cls, name, bases, dct)\n",
    "\n",
    "class ClassWithMeta257(metaclass=Meta257):\n",
    "    def show_meta_id(self):\n",
    "        return self.meta_id\n",
    "\n",
    "obj257 = ClassWithMeta257()\n",
    "obj257.show_meta_id()"
   ]
  },
  {
   "cell_type": "code",
   "execution_count": null,
   "id": "46297b77",
   "metadata": {},
   "outputs": [],
   "source": [
    "class Meta258(type):\n",
    "    def __new__(cls, name, bases, dct):\n",
    "        dct['meta_id'] = 258\n",
    "        return super().__new__(cls, name, bases, dct)\n",
    "\n",
    "class ClassWithMeta258(metaclass=Meta258):\n",
    "    def show_meta_id(self):\n",
    "        return self.meta_id\n",
    "\n",
    "obj258 = ClassWithMeta258()\n",
    "obj258.show_meta_id()"
   ]
  },
  {
   "cell_type": "code",
   "execution_count": null,
   "id": "c1583d77",
   "metadata": {},
   "outputs": [],
   "source": [
    "class Meta259(type):\n",
    "    def __new__(cls, name, bases, dct):\n",
    "        dct['meta_id'] = 259\n",
    "        return super().__new__(cls, name, bases, dct)\n",
    "\n",
    "class ClassWithMeta259(metaclass=Meta259):\n",
    "    def show_meta_id(self):\n",
    "        return self.meta_id\n",
    "\n",
    "obj259 = ClassWithMeta259()\n",
    "obj259.show_meta_id()"
   ]
  },
  {
   "cell_type": "code",
   "execution_count": null,
   "id": "2a0da916",
   "metadata": {},
   "outputs": [],
   "source": [
    "class Meta260(type):\n",
    "    def __new__(cls, name, bases, dct):\n",
    "        dct['meta_id'] = 260\n",
    "        return super().__new__(cls, name, bases, dct)\n",
    "\n",
    "class ClassWithMeta260(metaclass=Meta260):\n",
    "    def show_meta_id(self):\n",
    "        return self.meta_id\n",
    "\n",
    "obj260 = ClassWithMeta260()\n",
    "obj260.show_meta_id()"
   ]
  },
  {
   "cell_type": "code",
   "execution_count": null,
   "id": "42fba6d8",
   "metadata": {},
   "outputs": [],
   "source": [
    "class Meta261(type):\n",
    "    def __new__(cls, name, bases, dct):\n",
    "        dct['meta_id'] = 261\n",
    "        return super().__new__(cls, name, bases, dct)\n",
    "\n",
    "class ClassWithMeta261(metaclass=Meta261):\n",
    "    def show_meta_id(self):\n",
    "        return self.meta_id\n",
    "\n",
    "obj261 = ClassWithMeta261()\n",
    "obj261.show_meta_id()"
   ]
  },
  {
   "cell_type": "code",
   "execution_count": null,
   "id": "b1addd47",
   "metadata": {},
   "outputs": [],
   "source": [
    "class Meta262(type):\n",
    "    def __new__(cls, name, bases, dct):\n",
    "        dct['meta_id'] = 262\n",
    "        return super().__new__(cls, name, bases, dct)\n",
    "\n",
    "class ClassWithMeta262(metaclass=Meta262):\n",
    "    def show_meta_id(self):\n",
    "        return self.meta_id\n",
    "\n",
    "obj262 = ClassWithMeta262()\n",
    "obj262.show_meta_id()"
   ]
  },
  {
   "cell_type": "code",
   "execution_count": null,
   "id": "033e51fa",
   "metadata": {},
   "outputs": [],
   "source": [
    "class Meta263(type):\n",
    "    def __new__(cls, name, bases, dct):\n",
    "        dct['meta_id'] = 263\n",
    "        return super().__new__(cls, name, bases, dct)\n",
    "\n",
    "class ClassWithMeta263(metaclass=Meta263):\n",
    "    def show_meta_id(self):\n",
    "        return self.meta_id\n",
    "\n",
    "obj263 = ClassWithMeta263()\n",
    "obj263.show_meta_id()"
   ]
  },
  {
   "cell_type": "code",
   "execution_count": null,
   "id": "43181a92",
   "metadata": {},
   "outputs": [],
   "source": [
    "class Meta264(type):\n",
    "    def __new__(cls, name, bases, dct):\n",
    "        dct['meta_id'] = 264\n",
    "        return super().__new__(cls, name, bases, dct)\n",
    "\n",
    "class ClassWithMeta264(metaclass=Meta264):\n",
    "    def show_meta_id(self):\n",
    "        return self.meta_id\n",
    "\n",
    "obj264 = ClassWithMeta264()\n",
    "obj264.show_meta_id()"
   ]
  },
  {
   "cell_type": "code",
   "execution_count": null,
   "id": "15c04f32",
   "metadata": {},
   "outputs": [],
   "source": [
    "class Meta265(type):\n",
    "    def __new__(cls, name, bases, dct):\n",
    "        dct['meta_id'] = 265\n",
    "        return super().__new__(cls, name, bases, dct)\n",
    "\n",
    "class ClassWithMeta265(metaclass=Meta265):\n",
    "    def show_meta_id(self):\n",
    "        return self.meta_id\n",
    "\n",
    "obj265 = ClassWithMeta265()\n",
    "obj265.show_meta_id()"
   ]
  },
  {
   "cell_type": "code",
   "execution_count": null,
   "id": "ace73a7e",
   "metadata": {},
   "outputs": [],
   "source": [
    "class Meta266(type):\n",
    "    def __new__(cls, name, bases, dct):\n",
    "        dct['meta_id'] = 266\n",
    "        return super().__new__(cls, name, bases, dct)\n",
    "\n",
    "class ClassWithMeta266(metaclass=Meta266):\n",
    "    def show_meta_id(self):\n",
    "        return self.meta_id\n",
    "\n",
    "obj266 = ClassWithMeta266()\n",
    "obj266.show_meta_id()"
   ]
  },
  {
   "cell_type": "code",
   "execution_count": null,
   "id": "7cb97f5d",
   "metadata": {},
   "outputs": [],
   "source": [
    "class Meta267(type):\n",
    "    def __new__(cls, name, bases, dct):\n",
    "        dct['meta_id'] = 267\n",
    "        return super().__new__(cls, name, bases, dct)\n",
    "\n",
    "class ClassWithMeta267(metaclass=Meta267):\n",
    "    def show_meta_id(self):\n",
    "        return self.meta_id\n",
    "\n",
    "obj267 = ClassWithMeta267()\n",
    "obj267.show_meta_id()"
   ]
  },
  {
   "cell_type": "code",
   "execution_count": null,
   "id": "5450686f",
   "metadata": {},
   "outputs": [],
   "source": [
    "class Meta268(type):\n",
    "    def __new__(cls, name, bases, dct):\n",
    "        dct['meta_id'] = 268\n",
    "        return super().__new__(cls, name, bases, dct)\n",
    "\n",
    "class ClassWithMeta268(metaclass=Meta268):\n",
    "    def show_meta_id(self):\n",
    "        return self.meta_id\n",
    "\n",
    "obj268 = ClassWithMeta268()\n",
    "obj268.show_meta_id()"
   ]
  },
  {
   "cell_type": "code",
   "execution_count": null,
   "id": "dc5a177c",
   "metadata": {},
   "outputs": [],
   "source": [
    "class Meta269(type):\n",
    "    def __new__(cls, name, bases, dct):\n",
    "        dct['meta_id'] = 269\n",
    "        return super().__new__(cls, name, bases, dct)\n",
    "\n",
    "class ClassWithMeta269(metaclass=Meta269):\n",
    "    def show_meta_id(self):\n",
    "        return self.meta_id\n",
    "\n",
    "obj269 = ClassWithMeta269()\n",
    "obj269.show_meta_id()"
   ]
  },
  {
   "cell_type": "code",
   "execution_count": null,
   "id": "a700fe2d",
   "metadata": {},
   "outputs": [],
   "source": [
    "class Meta270(type):\n",
    "    def __new__(cls, name, bases, dct):\n",
    "        dct['meta_id'] = 270\n",
    "        return super().__new__(cls, name, bases, dct)\n",
    "\n",
    "class ClassWithMeta270(metaclass=Meta270):\n",
    "    def show_meta_id(self):\n",
    "        return self.meta_id\n",
    "\n",
    "obj270 = ClassWithMeta270()\n",
    "obj270.show_meta_id()"
   ]
  },
  {
   "cell_type": "code",
   "execution_count": null,
   "id": "7288c208",
   "metadata": {},
   "outputs": [],
   "source": [
    "class Meta271(type):\n",
    "    def __new__(cls, name, bases, dct):\n",
    "        dct['meta_id'] = 271\n",
    "        return super().__new__(cls, name, bases, dct)\n",
    "\n",
    "class ClassWithMeta271(metaclass=Meta271):\n",
    "    def show_meta_id(self):\n",
    "        return self.meta_id\n",
    "\n",
    "obj271 = ClassWithMeta271()\n",
    "obj271.show_meta_id()"
   ]
  },
  {
   "cell_type": "code",
   "execution_count": null,
   "id": "7ad30bc2",
   "metadata": {},
   "outputs": [],
   "source": [
    "class Meta272(type):\n",
    "    def __new__(cls, name, bases, dct):\n",
    "        dct['meta_id'] = 272\n",
    "        return super().__new__(cls, name, bases, dct)\n",
    "\n",
    "class ClassWithMeta272(metaclass=Meta272):\n",
    "    def show_meta_id(self):\n",
    "        return self.meta_id\n",
    "\n",
    "obj272 = ClassWithMeta272()\n",
    "obj272.show_meta_id()"
   ]
  },
  {
   "cell_type": "code",
   "execution_count": null,
   "id": "1c95950a",
   "metadata": {},
   "outputs": [],
   "source": [
    "class Meta273(type):\n",
    "    def __new__(cls, name, bases, dct):\n",
    "        dct['meta_id'] = 273\n",
    "        return super().__new__(cls, name, bases, dct)\n",
    "\n",
    "class ClassWithMeta273(metaclass=Meta273):\n",
    "    def show_meta_id(self):\n",
    "        return self.meta_id\n",
    "\n",
    "obj273 = ClassWithMeta273()\n",
    "obj273.show_meta_id()"
   ]
  },
  {
   "cell_type": "code",
   "execution_count": null,
   "id": "c0893805",
   "metadata": {},
   "outputs": [],
   "source": [
    "class Meta274(type):\n",
    "    def __new__(cls, name, bases, dct):\n",
    "        dct['meta_id'] = 274\n",
    "        return super().__new__(cls, name, bases, dct)\n",
    "\n",
    "class ClassWithMeta274(metaclass=Meta274):\n",
    "    def show_meta_id(self):\n",
    "        return self.meta_id\n",
    "\n",
    "obj274 = ClassWithMeta274()\n",
    "obj274.show_meta_id()"
   ]
  },
  {
   "cell_type": "code",
   "execution_count": null,
   "id": "5aa2a9bd",
   "metadata": {},
   "outputs": [],
   "source": [
    "class Meta275(type):\n",
    "    def __new__(cls, name, bases, dct):\n",
    "        dct['meta_id'] = 275\n",
    "        return super().__new__(cls, name, bases, dct)\n",
    "\n",
    "class ClassWithMeta275(metaclass=Meta275):\n",
    "    def show_meta_id(self):\n",
    "        return self.meta_id\n",
    "\n",
    "obj275 = ClassWithMeta275()\n",
    "obj275.show_meta_id()"
   ]
  },
  {
   "cell_type": "code",
   "execution_count": null,
   "id": "dbc288ab",
   "metadata": {},
   "outputs": [],
   "source": [
    "class Meta276(type):\n",
    "    def __new__(cls, name, bases, dct):\n",
    "        dct['meta_id'] = 276\n",
    "        return super().__new__(cls, name, bases, dct)\n",
    "\n",
    "class ClassWithMeta276(metaclass=Meta276):\n",
    "    def show_meta_id(self):\n",
    "        return self.meta_id\n",
    "\n",
    "obj276 = ClassWithMeta276()\n",
    "obj276.show_meta_id()"
   ]
  },
  {
   "cell_type": "code",
   "execution_count": null,
   "id": "6871846e",
   "metadata": {},
   "outputs": [],
   "source": [
    "class Meta277(type):\n",
    "    def __new__(cls, name, bases, dct):\n",
    "        dct['meta_id'] = 277\n",
    "        return super().__new__(cls, name, bases, dct)\n",
    "\n",
    "class ClassWithMeta277(metaclass=Meta277):\n",
    "    def show_meta_id(self):\n",
    "        return self.meta_id\n",
    "\n",
    "obj277 = ClassWithMeta277()\n",
    "obj277.show_meta_id()"
   ]
  },
  {
   "cell_type": "code",
   "execution_count": null,
   "id": "5dbb4b92",
   "metadata": {},
   "outputs": [],
   "source": [
    "class Meta278(type):\n",
    "    def __new__(cls, name, bases, dct):\n",
    "        dct['meta_id'] = 278\n",
    "        return super().__new__(cls, name, bases, dct)\n",
    "\n",
    "class ClassWithMeta278(metaclass=Meta278):\n",
    "    def show_meta_id(self):\n",
    "        return self.meta_id\n",
    "\n",
    "obj278 = ClassWithMeta278()\n",
    "obj278.show_meta_id()"
   ]
  },
  {
   "cell_type": "code",
   "execution_count": null,
   "id": "4e4724e9",
   "metadata": {},
   "outputs": [],
   "source": [
    "class Meta279(type):\n",
    "    def __new__(cls, name, bases, dct):\n",
    "        dct['meta_id'] = 279\n",
    "        return super().__new__(cls, name, bases, dct)\n",
    "\n",
    "class ClassWithMeta279(metaclass=Meta279):\n",
    "    def show_meta_id(self):\n",
    "        return self.meta_id\n",
    "\n",
    "obj279 = ClassWithMeta279()\n",
    "obj279.show_meta_id()"
   ]
  },
  {
   "cell_type": "code",
   "execution_count": null,
   "id": "8fd6aca6",
   "metadata": {},
   "outputs": [],
   "source": [
    "class Meta280(type):\n",
    "    def __new__(cls, name, bases, dct):\n",
    "        dct['meta_id'] = 280\n",
    "        return super().__new__(cls, name, bases, dct)\n",
    "\n",
    "class ClassWithMeta280(metaclass=Meta280):\n",
    "    def show_meta_id(self):\n",
    "        return self.meta_id\n",
    "\n",
    "obj280 = ClassWithMeta280()\n",
    "obj280.show_meta_id()"
   ]
  },
  {
   "cell_type": "code",
   "execution_count": null,
   "id": "24dfb401",
   "metadata": {},
   "outputs": [],
   "source": [
    "class Meta281(type):\n",
    "    def __new__(cls, name, bases, dct):\n",
    "        dct['meta_id'] = 281\n",
    "        return super().__new__(cls, name, bases, dct)\n",
    "\n",
    "class ClassWithMeta281(metaclass=Meta281):\n",
    "    def show_meta_id(self):\n",
    "        return self.meta_id\n",
    "\n",
    "obj281 = ClassWithMeta281()\n",
    "obj281.show_meta_id()"
   ]
  },
  {
   "cell_type": "code",
   "execution_count": null,
   "id": "16864221",
   "metadata": {},
   "outputs": [],
   "source": [
    "class Meta282(type):\n",
    "    def __new__(cls, name, bases, dct):\n",
    "        dct['meta_id'] = 282\n",
    "        return super().__new__(cls, name, bases, dct)\n",
    "\n",
    "class ClassWithMeta282(metaclass=Meta282):\n",
    "    def show_meta_id(self):\n",
    "        return self.meta_id\n",
    "\n",
    "obj282 = ClassWithMeta282()\n",
    "obj282.show_meta_id()"
   ]
  },
  {
   "cell_type": "code",
   "execution_count": null,
   "id": "5dac64a3",
   "metadata": {},
   "outputs": [],
   "source": [
    "class Meta283(type):\n",
    "    def __new__(cls, name, bases, dct):\n",
    "        dct['meta_id'] = 283\n",
    "        return super().__new__(cls, name, bases, dct)\n",
    "\n",
    "class ClassWithMeta283(metaclass=Meta283):\n",
    "    def show_meta_id(self):\n",
    "        return self.meta_id\n",
    "\n",
    "obj283 = ClassWithMeta283()\n",
    "obj283.show_meta_id()"
   ]
  },
  {
   "cell_type": "code",
   "execution_count": null,
   "id": "143e25e5",
   "metadata": {},
   "outputs": [],
   "source": [
    "class Meta284(type):\n",
    "    def __new__(cls, name, bases, dct):\n",
    "        dct['meta_id'] = 284\n",
    "        return super().__new__(cls, name, bases, dct)\n",
    "\n",
    "class ClassWithMeta284(metaclass=Meta284):\n",
    "    def show_meta_id(self):\n",
    "        return self.meta_id\n",
    "\n",
    "obj284 = ClassWithMeta284()\n",
    "obj284.show_meta_id()"
   ]
  },
  {
   "cell_type": "code",
   "execution_count": null,
   "id": "b80ee111",
   "metadata": {},
   "outputs": [],
   "source": [
    "class Meta285(type):\n",
    "    def __new__(cls, name, bases, dct):\n",
    "        dct['meta_id'] = 285\n",
    "        return super().__new__(cls, name, bases, dct)\n",
    "\n",
    "class ClassWithMeta285(metaclass=Meta285):\n",
    "    def show_meta_id(self):\n",
    "        return self.meta_id\n",
    "\n",
    "obj285 = ClassWithMeta285()\n",
    "obj285.show_meta_id()"
   ]
  },
  {
   "cell_type": "code",
   "execution_count": null,
   "id": "10a606e7",
   "metadata": {},
   "outputs": [],
   "source": [
    "class Meta286(type):\n",
    "    def __new__(cls, name, bases, dct):\n",
    "        dct['meta_id'] = 286\n",
    "        return super().__new__(cls, name, bases, dct)\n",
    "\n",
    "class ClassWithMeta286(metaclass=Meta286):\n",
    "    def show_meta_id(self):\n",
    "        return self.meta_id\n",
    "\n",
    "obj286 = ClassWithMeta286()\n",
    "obj286.show_meta_id()"
   ]
  },
  {
   "cell_type": "code",
   "execution_count": null,
   "id": "05ec5c44",
   "metadata": {},
   "outputs": [],
   "source": [
    "class Meta287(type):\n",
    "    def __new__(cls, name, bases, dct):\n",
    "        dct['meta_id'] = 287\n",
    "        return super().__new__(cls, name, bases, dct)\n",
    "\n",
    "class ClassWithMeta287(metaclass=Meta287):\n",
    "    def show_meta_id(self):\n",
    "        return self.meta_id\n",
    "\n",
    "obj287 = ClassWithMeta287()\n",
    "obj287.show_meta_id()"
   ]
  },
  {
   "cell_type": "code",
   "execution_count": null,
   "id": "c4746d17",
   "metadata": {},
   "outputs": [],
   "source": [
    "class Meta288(type):\n",
    "    def __new__(cls, name, bases, dct):\n",
    "        dct['meta_id'] = 288\n",
    "        return super().__new__(cls, name, bases, dct)\n",
    "\n",
    "class ClassWithMeta288(metaclass=Meta288):\n",
    "    def show_meta_id(self):\n",
    "        return self.meta_id\n",
    "\n",
    "obj288 = ClassWithMeta288()\n",
    "obj288.show_meta_id()"
   ]
  },
  {
   "cell_type": "code",
   "execution_count": null,
   "id": "384b71d0",
   "metadata": {},
   "outputs": [],
   "source": [
    "class Meta289(type):\n",
    "    def __new__(cls, name, bases, dct):\n",
    "        dct['meta_id'] = 289\n",
    "        return super().__new__(cls, name, bases, dct)\n",
    "\n",
    "class ClassWithMeta289(metaclass=Meta289):\n",
    "    def show_meta_id(self):\n",
    "        return self.meta_id\n",
    "\n",
    "obj289 = ClassWithMeta289()\n",
    "obj289.show_meta_id()"
   ]
  },
  {
   "cell_type": "code",
   "execution_count": null,
   "id": "e1b239a1",
   "metadata": {},
   "outputs": [],
   "source": [
    "class Meta290(type):\n",
    "    def __new__(cls, name, bases, dct):\n",
    "        dct['meta_id'] = 290\n",
    "        return super().__new__(cls, name, bases, dct)\n",
    "\n",
    "class ClassWithMeta290(metaclass=Meta290):\n",
    "    def show_meta_id(self):\n",
    "        return self.meta_id\n",
    "\n",
    "obj290 = ClassWithMeta290()\n",
    "obj290.show_meta_id()"
   ]
  },
  {
   "cell_type": "code",
   "execution_count": null,
   "id": "e2fa4630",
   "metadata": {},
   "outputs": [],
   "source": [
    "class Meta291(type):\n",
    "    def __new__(cls, name, bases, dct):\n",
    "        dct['meta_id'] = 291\n",
    "        return super().__new__(cls, name, bases, dct)\n",
    "\n",
    "class ClassWithMeta291(metaclass=Meta291):\n",
    "    def show_meta_id(self):\n",
    "        return self.meta_id\n",
    "\n",
    "obj291 = ClassWithMeta291()\n",
    "obj291.show_meta_id()"
   ]
  },
  {
   "cell_type": "code",
   "execution_count": null,
   "id": "6c6076a3",
   "metadata": {},
   "outputs": [],
   "source": [
    "class Meta292(type):\n",
    "    def __new__(cls, name, bases, dct):\n",
    "        dct['meta_id'] = 292\n",
    "        return super().__new__(cls, name, bases, dct)\n",
    "\n",
    "class ClassWithMeta292(metaclass=Meta292):\n",
    "    def show_meta_id(self):\n",
    "        return self.meta_id\n",
    "\n",
    "obj292 = ClassWithMeta292()\n",
    "obj292.show_meta_id()"
   ]
  },
  {
   "cell_type": "code",
   "execution_count": null,
   "id": "499ef5f2",
   "metadata": {},
   "outputs": [],
   "source": [
    "class Meta293(type):\n",
    "    def __new__(cls, name, bases, dct):\n",
    "        dct['meta_id'] = 293\n",
    "        return super().__new__(cls, name, bases, dct)\n",
    "\n",
    "class ClassWithMeta293(metaclass=Meta293):\n",
    "    def show_meta_id(self):\n",
    "        return self.meta_id\n",
    "\n",
    "obj293 = ClassWithMeta293()\n",
    "obj293.show_meta_id()"
   ]
  },
  {
   "cell_type": "code",
   "execution_count": null,
   "id": "0606f995",
   "metadata": {},
   "outputs": [],
   "source": [
    "class Meta294(type):\n",
    "    def __new__(cls, name, bases, dct):\n",
    "        dct['meta_id'] = 294\n",
    "        return super().__new__(cls, name, bases, dct)\n",
    "\n",
    "class ClassWithMeta294(metaclass=Meta294):\n",
    "    def show_meta_id(self):\n",
    "        return self.meta_id\n",
    "\n",
    "obj294 = ClassWithMeta294()\n",
    "obj294.show_meta_id()"
   ]
  },
  {
   "cell_type": "code",
   "execution_count": null,
   "id": "43aa312e",
   "metadata": {},
   "outputs": [],
   "source": [
    "class Meta295(type):\n",
    "    def __new__(cls, name, bases, dct):\n",
    "        dct['meta_id'] = 295\n",
    "        return super().__new__(cls, name, bases, dct)\n",
    "\n",
    "class ClassWithMeta295(metaclass=Meta295):\n",
    "    def show_meta_id(self):\n",
    "        return self.meta_id\n",
    "\n",
    "obj295 = ClassWithMeta295()\n",
    "obj295.show_meta_id()"
   ]
  },
  {
   "cell_type": "code",
   "execution_count": null,
   "id": "98743117",
   "metadata": {},
   "outputs": [],
   "source": [
    "class Meta296(type):\n",
    "    def __new__(cls, name, bases, dct):\n",
    "        dct['meta_id'] = 296\n",
    "        return super().__new__(cls, name, bases, dct)\n",
    "\n",
    "class ClassWithMeta296(metaclass=Meta296):\n",
    "    def show_meta_id(self):\n",
    "        return self.meta_id\n",
    "\n",
    "obj296 = ClassWithMeta296()\n",
    "obj296.show_meta_id()"
   ]
  },
  {
   "cell_type": "code",
   "execution_count": null,
   "id": "71586ea3",
   "metadata": {},
   "outputs": [],
   "source": [
    "class Meta297(type):\n",
    "    def __new__(cls, name, bases, dct):\n",
    "        dct['meta_id'] = 297\n",
    "        return super().__new__(cls, name, bases, dct)\n",
    "\n",
    "class ClassWithMeta297(metaclass=Meta297):\n",
    "    def show_meta_id(self):\n",
    "        return self.meta_id\n",
    "\n",
    "obj297 = ClassWithMeta297()\n",
    "obj297.show_meta_id()"
   ]
  },
  {
   "cell_type": "code",
   "execution_count": null,
   "id": "df5635a3",
   "metadata": {},
   "outputs": [],
   "source": [
    "class Meta298(type):\n",
    "    def __new__(cls, name, bases, dct):\n",
    "        dct['meta_id'] = 298\n",
    "        return super().__new__(cls, name, bases, dct)\n",
    "\n",
    "class ClassWithMeta298(metaclass=Meta298):\n",
    "    def show_meta_id(self):\n",
    "        return self.meta_id\n",
    "\n",
    "obj298 = ClassWithMeta298()\n",
    "obj298.show_meta_id()"
   ]
  },
  {
   "cell_type": "code",
   "execution_count": null,
   "id": "123149ef",
   "metadata": {},
   "outputs": [],
   "source": [
    "class Meta299(type):\n",
    "    def __new__(cls, name, bases, dct):\n",
    "        dct['meta_id'] = 299\n",
    "        return super().__new__(cls, name, bases, dct)\n",
    "\n",
    "class ClassWithMeta299(metaclass=Meta299):\n",
    "    def show_meta_id(self):\n",
    "        return self.meta_id\n",
    "\n",
    "obj299 = ClassWithMeta299()\n",
    "obj299.show_meta_id()"
   ]
  },
  {
   "cell_type": "code",
   "execution_count": null,
   "id": "da695205",
   "metadata": {},
   "outputs": [],
   "source": [
    "class Meta300(type):\n",
    "    def __new__(cls, name, bases, dct):\n",
    "        dct['meta_id'] = 300\n",
    "        return super().__new__(cls, name, bases, dct)\n",
    "\n",
    "class ClassWithMeta300(metaclass=Meta300):\n",
    "    def show_meta_id(self):\n",
    "        return self.meta_id\n",
    "\n",
    "obj300 = ClassWithMeta300()\n",
    "obj300.show_meta_id()"
   ]
  },
  {
   "cell_type": "code",
   "execution_count": null,
   "id": "7ff587ca",
   "metadata": {},
   "outputs": [],
   "source": [
    "class Meta301(type):\n",
    "    def __new__(cls, name, bases, dct):\n",
    "        dct['meta_id'] = 301\n",
    "        return super().__new__(cls, name, bases, dct)\n",
    "\n",
    "class ClassWithMeta301(metaclass=Meta301):\n",
    "    def show_meta_id(self):\n",
    "        return self.meta_id\n",
    "\n",
    "obj301 = ClassWithMeta301()\n",
    "obj301.show_meta_id()"
   ]
  },
  {
   "cell_type": "code",
   "execution_count": null,
   "id": "873a90a8",
   "metadata": {},
   "outputs": [],
   "source": [
    "class Meta302(type):\n",
    "    def __new__(cls, name, bases, dct):\n",
    "        dct['meta_id'] = 302\n",
    "        return super().__new__(cls, name, bases, dct)\n",
    "\n",
    "class ClassWithMeta302(metaclass=Meta302):\n",
    "    def show_meta_id(self):\n",
    "        return self.meta_id\n",
    "\n",
    "obj302 = ClassWithMeta302()\n",
    "obj302.show_meta_id()"
   ]
  },
  {
   "cell_type": "code",
   "execution_count": null,
   "id": "d9f92845",
   "metadata": {},
   "outputs": [],
   "source": [
    "class Meta303(type):\n",
    "    def __new__(cls, name, bases, dct):\n",
    "        dct['meta_id'] = 303\n",
    "        return super().__new__(cls, name, bases, dct)\n",
    "\n",
    "class ClassWithMeta303(metaclass=Meta303):\n",
    "    def show_meta_id(self):\n",
    "        return self.meta_id\n",
    "\n",
    "obj303 = ClassWithMeta303()\n",
    "obj303.show_meta_id()"
   ]
  },
  {
   "cell_type": "code",
   "execution_count": null,
   "id": "8bf44a6d",
   "metadata": {},
   "outputs": [],
   "source": [
    "class Meta304(type):\n",
    "    def __new__(cls, name, bases, dct):\n",
    "        dct['meta_id'] = 304\n",
    "        return super().__new__(cls, name, bases, dct)\n",
    "\n",
    "class ClassWithMeta304(metaclass=Meta304):\n",
    "    def show_meta_id(self):\n",
    "        return self.meta_id\n",
    "\n",
    "obj304 = ClassWithMeta304()\n",
    "obj304.show_meta_id()"
   ]
  },
  {
   "cell_type": "code",
   "execution_count": null,
   "id": "53517f08",
   "metadata": {},
   "outputs": [],
   "source": [
    "class Meta305(type):\n",
    "    def __new__(cls, name, bases, dct):\n",
    "        dct['meta_id'] = 305\n",
    "        return super().__new__(cls, name, bases, dct)\n",
    "\n",
    "class ClassWithMeta305(metaclass=Meta305):\n",
    "    def show_meta_id(self):\n",
    "        return self.meta_id\n",
    "\n",
    "obj305 = ClassWithMeta305()\n",
    "obj305.show_meta_id()"
   ]
  },
  {
   "cell_type": "code",
   "execution_count": null,
   "id": "1f63a6d0",
   "metadata": {},
   "outputs": [],
   "source": [
    "class Meta306(type):\n",
    "    def __new__(cls, name, bases, dct):\n",
    "        dct['meta_id'] = 306\n",
    "        return super().__new__(cls, name, bases, dct)\n",
    "\n",
    "class ClassWithMeta306(metaclass=Meta306):\n",
    "    def show_meta_id(self):\n",
    "        return self.meta_id\n",
    "\n",
    "obj306 = ClassWithMeta306()\n",
    "obj306.show_meta_id()"
   ]
  },
  {
   "cell_type": "code",
   "execution_count": null,
   "id": "a181cd4c",
   "metadata": {},
   "outputs": [],
   "source": [
    "class Meta307(type):\n",
    "    def __new__(cls, name, bases, dct):\n",
    "        dct['meta_id'] = 307\n",
    "        return super().__new__(cls, name, bases, dct)\n",
    "\n",
    "class ClassWithMeta307(metaclass=Meta307):\n",
    "    def show_meta_id(self):\n",
    "        return self.meta_id\n",
    "\n",
    "obj307 = ClassWithMeta307()\n",
    "obj307.show_meta_id()"
   ]
  },
  {
   "cell_type": "code",
   "execution_count": null,
   "id": "c0e6bd4e",
   "metadata": {},
   "outputs": [],
   "source": [
    "class Meta308(type):\n",
    "    def __new__(cls, name, bases, dct):\n",
    "        dct['meta_id'] = 308\n",
    "        return super().__new__(cls, name, bases, dct)\n",
    "\n",
    "class ClassWithMeta308(metaclass=Meta308):\n",
    "    def show_meta_id(self):\n",
    "        return self.meta_id\n",
    "\n",
    "obj308 = ClassWithMeta308()\n",
    "obj308.show_meta_id()"
   ]
  },
  {
   "cell_type": "code",
   "execution_count": null,
   "id": "92f5541b",
   "metadata": {},
   "outputs": [],
   "source": [
    "class Meta309(type):\n",
    "    def __new__(cls, name, bases, dct):\n",
    "        dct['meta_id'] = 309\n",
    "        return super().__new__(cls, name, bases, dct)\n",
    "\n",
    "class ClassWithMeta309(metaclass=Meta309):\n",
    "    def show_meta_id(self):\n",
    "        return self.meta_id\n",
    "\n",
    "obj309 = ClassWithMeta309()\n",
    "obj309.show_meta_id()"
   ]
  },
  {
   "cell_type": "code",
   "execution_count": null,
   "id": "379fbca7",
   "metadata": {},
   "outputs": [],
   "source": [
    "class Meta310(type):\n",
    "    def __new__(cls, name, bases, dct):\n",
    "        dct['meta_id'] = 310\n",
    "        return super().__new__(cls, name, bases, dct)\n",
    "\n",
    "class ClassWithMeta310(metaclass=Meta310):\n",
    "    def show_meta_id(self):\n",
    "        return self.meta_id\n",
    "\n",
    "obj310 = ClassWithMeta310()\n",
    "obj310.show_meta_id()"
   ]
  },
  {
   "cell_type": "code",
   "execution_count": null,
   "id": "45fd4e0c",
   "metadata": {},
   "outputs": [],
   "source": [
    "class Meta311(type):\n",
    "    def __new__(cls, name, bases, dct):\n",
    "        dct['meta_id'] = 311\n",
    "        return super().__new__(cls, name, bases, dct)\n",
    "\n",
    "class ClassWithMeta311(metaclass=Meta311):\n",
    "    def show_meta_id(self):\n",
    "        return self.meta_id\n",
    "\n",
    "obj311 = ClassWithMeta311()\n",
    "obj311.show_meta_id()"
   ]
  },
  {
   "cell_type": "code",
   "execution_count": null,
   "id": "4e3204d5",
   "metadata": {},
   "outputs": [],
   "source": [
    "class Meta312(type):\n",
    "    def __new__(cls, name, bases, dct):\n",
    "        dct['meta_id'] = 312\n",
    "        return super().__new__(cls, name, bases, dct)\n",
    "\n",
    "class ClassWithMeta312(metaclass=Meta312):\n",
    "    def show_meta_id(self):\n",
    "        return self.meta_id\n",
    "\n",
    "obj312 = ClassWithMeta312()\n",
    "obj312.show_meta_id()"
   ]
  },
  {
   "cell_type": "code",
   "execution_count": null,
   "id": "7d8c5f36",
   "metadata": {},
   "outputs": [],
   "source": [
    "class Meta313(type):\n",
    "    def __new__(cls, name, bases, dct):\n",
    "        dct['meta_id'] = 313\n",
    "        return super().__new__(cls, name, bases, dct)\n",
    "\n",
    "class ClassWithMeta313(metaclass=Meta313):\n",
    "    def show_meta_id(self):\n",
    "        return self.meta_id\n",
    "\n",
    "obj313 = ClassWithMeta313()\n",
    "obj313.show_meta_id()"
   ]
  },
  {
   "cell_type": "code",
   "execution_count": null,
   "id": "b6b149fd",
   "metadata": {},
   "outputs": [],
   "source": [
    "class Meta314(type):\n",
    "    def __new__(cls, name, bases, dct):\n",
    "        dct['meta_id'] = 314\n",
    "        return super().__new__(cls, name, bases, dct)\n",
    "\n",
    "class ClassWithMeta314(metaclass=Meta314):\n",
    "    def show_meta_id(self):\n",
    "        return self.meta_id\n",
    "\n",
    "obj314 = ClassWithMeta314()\n",
    "obj314.show_meta_id()"
   ]
  },
  {
   "cell_type": "code",
   "execution_count": null,
   "id": "7c93947e",
   "metadata": {},
   "outputs": [],
   "source": [
    "class Meta315(type):\n",
    "    def __new__(cls, name, bases, dct):\n",
    "        dct['meta_id'] = 315\n",
    "        return super().__new__(cls, name, bases, dct)\n",
    "\n",
    "class ClassWithMeta315(metaclass=Meta315):\n",
    "    def show_meta_id(self):\n",
    "        return self.meta_id\n",
    "\n",
    "obj315 = ClassWithMeta315()\n",
    "obj315.show_meta_id()"
   ]
  },
  {
   "cell_type": "code",
   "execution_count": null,
   "id": "286067f4",
   "metadata": {},
   "outputs": [],
   "source": [
    "class Meta316(type):\n",
    "    def __new__(cls, name, bases, dct):\n",
    "        dct['meta_id'] = 316\n",
    "        return super().__new__(cls, name, bases, dct)\n",
    "\n",
    "class ClassWithMeta316(metaclass=Meta316):\n",
    "    def show_meta_id(self):\n",
    "        return self.meta_id\n",
    "\n",
    "obj316 = ClassWithMeta316()\n",
    "obj316.show_meta_id()"
   ]
  },
  {
   "cell_type": "code",
   "execution_count": null,
   "id": "e55f14e2",
   "metadata": {},
   "outputs": [],
   "source": [
    "class Meta317(type):\n",
    "    def __new__(cls, name, bases, dct):\n",
    "        dct['meta_id'] = 317\n",
    "        return super().__new__(cls, name, bases, dct)\n",
    "\n",
    "class ClassWithMeta317(metaclass=Meta317):\n",
    "    def show_meta_id(self):\n",
    "        return self.meta_id\n",
    "\n",
    "obj317 = ClassWithMeta317()\n",
    "obj317.show_meta_id()"
   ]
  },
  {
   "cell_type": "code",
   "execution_count": null,
   "id": "89d49c0c",
   "metadata": {},
   "outputs": [],
   "source": [
    "class Meta318(type):\n",
    "    def __new__(cls, name, bases, dct):\n",
    "        dct['meta_id'] = 318\n",
    "        return super().__new__(cls, name, bases, dct)\n",
    "\n",
    "class ClassWithMeta318(metaclass=Meta318):\n",
    "    def show_meta_id(self):\n",
    "        return self.meta_id\n",
    "\n",
    "obj318 = ClassWithMeta318()\n",
    "obj318.show_meta_id()"
   ]
  },
  {
   "cell_type": "code",
   "execution_count": null,
   "id": "e8f73fc2",
   "metadata": {},
   "outputs": [],
   "source": [
    "class Meta319(type):\n",
    "    def __new__(cls, name, bases, dct):\n",
    "        dct['meta_id'] = 319\n",
    "        return super().__new__(cls, name, bases, dct)\n",
    "\n",
    "class ClassWithMeta319(metaclass=Meta319):\n",
    "    def show_meta_id(self):\n",
    "        return self.meta_id\n",
    "\n",
    "obj319 = ClassWithMeta319()\n",
    "obj319.show_meta_id()"
   ]
  },
  {
   "cell_type": "code",
   "execution_count": null,
   "id": "057b12f6",
   "metadata": {},
   "outputs": [],
   "source": [
    "class Meta320(type):\n",
    "    def __new__(cls, name, bases, dct):\n",
    "        dct['meta_id'] = 320\n",
    "        return super().__new__(cls, name, bases, dct)\n",
    "\n",
    "class ClassWithMeta320(metaclass=Meta320):\n",
    "    def show_meta_id(self):\n",
    "        return self.meta_id\n",
    "\n",
    "obj320 = ClassWithMeta320()\n",
    "obj320.show_meta_id()"
   ]
  },
  {
   "cell_type": "code",
   "execution_count": null,
   "id": "8d6090ea",
   "metadata": {},
   "outputs": [],
   "source": [
    "class Meta321(type):\n",
    "    def __new__(cls, name, bases, dct):\n",
    "        dct['meta_id'] = 321\n",
    "        return super().__new__(cls, name, bases, dct)\n",
    "\n",
    "class ClassWithMeta321(metaclass=Meta321):\n",
    "    def show_meta_id(self):\n",
    "        return self.meta_id\n",
    "\n",
    "obj321 = ClassWithMeta321()\n",
    "obj321.show_meta_id()"
   ]
  },
  {
   "cell_type": "code",
   "execution_count": null,
   "id": "2f56d7c0",
   "metadata": {},
   "outputs": [],
   "source": [
    "class Meta322(type):\n",
    "    def __new__(cls, name, bases, dct):\n",
    "        dct['meta_id'] = 322\n",
    "        return super().__new__(cls, name, bases, dct)\n",
    "\n",
    "class ClassWithMeta322(metaclass=Meta322):\n",
    "    def show_meta_id(self):\n",
    "        return self.meta_id\n",
    "\n",
    "obj322 = ClassWithMeta322()\n",
    "obj322.show_meta_id()"
   ]
  },
  {
   "cell_type": "code",
   "execution_count": null,
   "id": "7906552f",
   "metadata": {},
   "outputs": [],
   "source": [
    "class Meta323(type):\n",
    "    def __new__(cls, name, bases, dct):\n",
    "        dct['meta_id'] = 323\n",
    "        return super().__new__(cls, name, bases, dct)\n",
    "\n",
    "class ClassWithMeta323(metaclass=Meta323):\n",
    "    def show_meta_id(self):\n",
    "        return self.meta_id\n",
    "\n",
    "obj323 = ClassWithMeta323()\n",
    "obj323.show_meta_id()"
   ]
  },
  {
   "cell_type": "code",
   "execution_count": null,
   "id": "54681b97",
   "metadata": {},
   "outputs": [],
   "source": [
    "class Meta324(type):\n",
    "    def __new__(cls, name, bases, dct):\n",
    "        dct['meta_id'] = 324\n",
    "        return super().__new__(cls, name, bases, dct)\n",
    "\n",
    "class ClassWithMeta324(metaclass=Meta324):\n",
    "    def show_meta_id(self):\n",
    "        return self.meta_id\n",
    "\n",
    "obj324 = ClassWithMeta324()\n",
    "obj324.show_meta_id()"
   ]
  },
  {
   "cell_type": "code",
   "execution_count": null,
   "id": "dea07c93",
   "metadata": {},
   "outputs": [],
   "source": [
    "class Meta325(type):\n",
    "    def __new__(cls, name, bases, dct):\n",
    "        dct['meta_id'] = 325\n",
    "        return super().__new__(cls, name, bases, dct)\n",
    "\n",
    "class ClassWithMeta325(metaclass=Meta325):\n",
    "    def show_meta_id(self):\n",
    "        return self.meta_id\n",
    "\n",
    "obj325 = ClassWithMeta325()\n",
    "obj325.show_meta_id()"
   ]
  },
  {
   "cell_type": "code",
   "execution_count": null,
   "id": "ddab0150",
   "metadata": {},
   "outputs": [],
   "source": [
    "class Meta326(type):\n",
    "    def __new__(cls, name, bases, dct):\n",
    "        dct['meta_id'] = 326\n",
    "        return super().__new__(cls, name, bases, dct)\n",
    "\n",
    "class ClassWithMeta326(metaclass=Meta326):\n",
    "    def show_meta_id(self):\n",
    "        return self.meta_id\n",
    "\n",
    "obj326 = ClassWithMeta326()\n",
    "obj326.show_meta_id()"
   ]
  },
  {
   "cell_type": "code",
   "execution_count": null,
   "id": "2109705a",
   "metadata": {},
   "outputs": [],
   "source": [
    "class Meta327(type):\n",
    "    def __new__(cls, name, bases, dct):\n",
    "        dct['meta_id'] = 327\n",
    "        return super().__new__(cls, name, bases, dct)\n",
    "\n",
    "class ClassWithMeta327(metaclass=Meta327):\n",
    "    def show_meta_id(self):\n",
    "        return self.meta_id\n",
    "\n",
    "obj327 = ClassWithMeta327()\n",
    "obj327.show_meta_id()"
   ]
  },
  {
   "cell_type": "code",
   "execution_count": null,
   "id": "f760bee7",
   "metadata": {},
   "outputs": [],
   "source": [
    "class Meta328(type):\n",
    "    def __new__(cls, name, bases, dct):\n",
    "        dct['meta_id'] = 328\n",
    "        return super().__new__(cls, name, bases, dct)\n",
    "\n",
    "class ClassWithMeta328(metaclass=Meta328):\n",
    "    def show_meta_id(self):\n",
    "        return self.meta_id\n",
    "\n",
    "obj328 = ClassWithMeta328()\n",
    "obj328.show_meta_id()"
   ]
  },
  {
   "cell_type": "code",
   "execution_count": null,
   "id": "412b5061",
   "metadata": {},
   "outputs": [],
   "source": [
    "class Meta329(type):\n",
    "    def __new__(cls, name, bases, dct):\n",
    "        dct['meta_id'] = 329\n",
    "        return super().__new__(cls, name, bases, dct)\n",
    "\n",
    "class ClassWithMeta329(metaclass=Meta329):\n",
    "    def show_meta_id(self):\n",
    "        return self.meta_id\n",
    "\n",
    "obj329 = ClassWithMeta329()\n",
    "obj329.show_meta_id()"
   ]
  },
  {
   "cell_type": "code",
   "execution_count": null,
   "id": "fdd303fb",
   "metadata": {},
   "outputs": [],
   "source": [
    "class Meta330(type):\n",
    "    def __new__(cls, name, bases, dct):\n",
    "        dct['meta_id'] = 330\n",
    "        return super().__new__(cls, name, bases, dct)\n",
    "\n",
    "class ClassWithMeta330(metaclass=Meta330):\n",
    "    def show_meta_id(self):\n",
    "        return self.meta_id\n",
    "\n",
    "obj330 = ClassWithMeta330()\n",
    "obj330.show_meta_id()"
   ]
  },
  {
   "cell_type": "code",
   "execution_count": null,
   "id": "220f3f7c",
   "metadata": {},
   "outputs": [],
   "source": [
    "class Meta331(type):\n",
    "    def __new__(cls, name, bases, dct):\n",
    "        dct['meta_id'] = 331\n",
    "        return super().__new__(cls, name, bases, dct)\n",
    "\n",
    "class ClassWithMeta331(metaclass=Meta331):\n",
    "    def show_meta_id(self):\n",
    "        return self.meta_id\n",
    "\n",
    "obj331 = ClassWithMeta331()\n",
    "obj331.show_meta_id()"
   ]
  },
  {
   "cell_type": "code",
   "execution_count": null,
   "id": "7334c999",
   "metadata": {},
   "outputs": [],
   "source": [
    "class Meta332(type):\n",
    "    def __new__(cls, name, bases, dct):\n",
    "        dct['meta_id'] = 332\n",
    "        return super().__new__(cls, name, bases, dct)\n",
    "\n",
    "class ClassWithMeta332(metaclass=Meta332):\n",
    "    def show_meta_id(self):\n",
    "        return self.meta_id\n",
    "\n",
    "obj332 = ClassWithMeta332()\n",
    "obj332.show_meta_id()"
   ]
  },
  {
   "cell_type": "code",
   "execution_count": null,
   "id": "d09b6d64",
   "metadata": {},
   "outputs": [],
   "source": [
    "class Meta333(type):\n",
    "    def __new__(cls, name, bases, dct):\n",
    "        dct['meta_id'] = 333\n",
    "        return super().__new__(cls, name, bases, dct)\n",
    "\n",
    "class ClassWithMeta333(metaclass=Meta333):\n",
    "    def show_meta_id(self):\n",
    "        return self.meta_id\n",
    "\n",
    "obj333 = ClassWithMeta333()\n",
    "obj333.show_meta_id()"
   ]
  },
  {
   "cell_type": "code",
   "execution_count": null,
   "id": "39bc773a",
   "metadata": {},
   "outputs": [],
   "source": [
    "class Meta334(type):\n",
    "    def __new__(cls, name, bases, dct):\n",
    "        dct['meta_id'] = 334\n",
    "        return super().__new__(cls, name, bases, dct)\n",
    "\n",
    "class ClassWithMeta334(metaclass=Meta334):\n",
    "    def show_meta_id(self):\n",
    "        return self.meta_id\n",
    "\n",
    "obj334 = ClassWithMeta334()\n",
    "obj334.show_meta_id()"
   ]
  },
  {
   "cell_type": "code",
   "execution_count": null,
   "id": "fc19f43a",
   "metadata": {},
   "outputs": [],
   "source": [
    "class Meta335(type):\n",
    "    def __new__(cls, name, bases, dct):\n",
    "        dct['meta_id'] = 335\n",
    "        return super().__new__(cls, name, bases, dct)\n",
    "\n",
    "class ClassWithMeta335(metaclass=Meta335):\n",
    "    def show_meta_id(self):\n",
    "        return self.meta_id\n",
    "\n",
    "obj335 = ClassWithMeta335()\n",
    "obj335.show_meta_id()"
   ]
  },
  {
   "cell_type": "code",
   "execution_count": null,
   "id": "61ac46d0",
   "metadata": {},
   "outputs": [],
   "source": [
    "class Meta336(type):\n",
    "    def __new__(cls, name, bases, dct):\n",
    "        dct['meta_id'] = 336\n",
    "        return super().__new__(cls, name, bases, dct)\n",
    "\n",
    "class ClassWithMeta336(metaclass=Meta336):\n",
    "    def show_meta_id(self):\n",
    "        return self.meta_id\n",
    "\n",
    "obj336 = ClassWithMeta336()\n",
    "obj336.show_meta_id()"
   ]
  },
  {
   "cell_type": "code",
   "execution_count": null,
   "id": "2b791624",
   "metadata": {},
   "outputs": [],
   "source": [
    "class Meta337(type):\n",
    "    def __new__(cls, name, bases, dct):\n",
    "        dct['meta_id'] = 337\n",
    "        return super().__new__(cls, name, bases, dct)\n",
    "\n",
    "class ClassWithMeta337(metaclass=Meta337):\n",
    "    def show_meta_id(self):\n",
    "        return self.meta_id\n",
    "\n",
    "obj337 = ClassWithMeta337()\n",
    "obj337.show_meta_id()"
   ]
  },
  {
   "cell_type": "code",
   "execution_count": null,
   "id": "d7e9b521",
   "metadata": {},
   "outputs": [],
   "source": [
    "class Meta338(type):\n",
    "    def __new__(cls, name, bases, dct):\n",
    "        dct['meta_id'] = 338\n",
    "        return super().__new__(cls, name, bases, dct)\n",
    "\n",
    "class ClassWithMeta338(metaclass=Meta338):\n",
    "    def show_meta_id(self):\n",
    "        return self.meta_id\n",
    "\n",
    "obj338 = ClassWithMeta338()\n",
    "obj338.show_meta_id()"
   ]
  },
  {
   "cell_type": "code",
   "execution_count": null,
   "id": "6814f979",
   "metadata": {},
   "outputs": [],
   "source": [
    "class Meta339(type):\n",
    "    def __new__(cls, name, bases, dct):\n",
    "        dct['meta_id'] = 339\n",
    "        return super().__new__(cls, name, bases, dct)\n",
    "\n",
    "class ClassWithMeta339(metaclass=Meta339):\n",
    "    def show_meta_id(self):\n",
    "        return self.meta_id\n",
    "\n",
    "obj339 = ClassWithMeta339()\n",
    "obj339.show_meta_id()"
   ]
  },
  {
   "cell_type": "code",
   "execution_count": null,
   "id": "ec7038f1",
   "metadata": {},
   "outputs": [],
   "source": [
    "class Meta340(type):\n",
    "    def __new__(cls, name, bases, dct):\n",
    "        dct['meta_id'] = 340\n",
    "        return super().__new__(cls, name, bases, dct)\n",
    "\n",
    "class ClassWithMeta340(metaclass=Meta340):\n",
    "    def show_meta_id(self):\n",
    "        return self.meta_id\n",
    "\n",
    "obj340 = ClassWithMeta340()\n",
    "obj340.show_meta_id()"
   ]
  },
  {
   "cell_type": "code",
   "execution_count": null,
   "id": "121ac410",
   "metadata": {},
   "outputs": [],
   "source": [
    "class Meta341(type):\n",
    "    def __new__(cls, name, bases, dct):\n",
    "        dct['meta_id'] = 341\n",
    "        return super().__new__(cls, name, bases, dct)\n",
    "\n",
    "class ClassWithMeta341(metaclass=Meta341):\n",
    "    def show_meta_id(self):\n",
    "        return self.meta_id\n",
    "\n",
    "obj341 = ClassWithMeta341()\n",
    "obj341.show_meta_id()"
   ]
  },
  {
   "cell_type": "code",
   "execution_count": null,
   "id": "fd73c821",
   "metadata": {},
   "outputs": [],
   "source": [
    "class Meta342(type):\n",
    "    def __new__(cls, name, bases, dct):\n",
    "        dct['meta_id'] = 342\n",
    "        return super().__new__(cls, name, bases, dct)\n",
    "\n",
    "class ClassWithMeta342(metaclass=Meta342):\n",
    "    def show_meta_id(self):\n",
    "        return self.meta_id\n",
    "\n",
    "obj342 = ClassWithMeta342()\n",
    "obj342.show_meta_id()"
   ]
  },
  {
   "cell_type": "code",
   "execution_count": null,
   "id": "11ca3dfb",
   "metadata": {},
   "outputs": [],
   "source": [
    "class Meta343(type):\n",
    "    def __new__(cls, name, bases, dct):\n",
    "        dct['meta_id'] = 343\n",
    "        return super().__new__(cls, name, bases, dct)\n",
    "\n",
    "class ClassWithMeta343(metaclass=Meta343):\n",
    "    def show_meta_id(self):\n",
    "        return self.meta_id\n",
    "\n",
    "obj343 = ClassWithMeta343()\n",
    "obj343.show_meta_id()"
   ]
  },
  {
   "cell_type": "code",
   "execution_count": null,
   "id": "8a36d2b8",
   "metadata": {},
   "outputs": [],
   "source": [
    "class Meta344(type):\n",
    "    def __new__(cls, name, bases, dct):\n",
    "        dct['meta_id'] = 344\n",
    "        return super().__new__(cls, name, bases, dct)\n",
    "\n",
    "class ClassWithMeta344(metaclass=Meta344):\n",
    "    def show_meta_id(self):\n",
    "        return self.meta_id\n",
    "\n",
    "obj344 = ClassWithMeta344()\n",
    "obj344.show_meta_id()"
   ]
  },
  {
   "cell_type": "code",
   "execution_count": null,
   "id": "b870d2ec",
   "metadata": {},
   "outputs": [],
   "source": [
    "class Meta345(type):\n",
    "    def __new__(cls, name, bases, dct):\n",
    "        dct['meta_id'] = 345\n",
    "        return super().__new__(cls, name, bases, dct)\n",
    "\n",
    "class ClassWithMeta345(metaclass=Meta345):\n",
    "    def show_meta_id(self):\n",
    "        return self.meta_id\n",
    "\n",
    "obj345 = ClassWithMeta345()\n",
    "obj345.show_meta_id()"
   ]
  },
  {
   "cell_type": "code",
   "execution_count": null,
   "id": "84164b4c",
   "metadata": {},
   "outputs": [],
   "source": [
    "class Meta346(type):\n",
    "    def __new__(cls, name, bases, dct):\n",
    "        dct['meta_id'] = 346\n",
    "        return super().__new__(cls, name, bases, dct)\n",
    "\n",
    "class ClassWithMeta346(metaclass=Meta346):\n",
    "    def show_meta_id(self):\n",
    "        return self.meta_id\n",
    "\n",
    "obj346 = ClassWithMeta346()\n",
    "obj346.show_meta_id()"
   ]
  },
  {
   "cell_type": "code",
   "execution_count": null,
   "id": "5879a642",
   "metadata": {},
   "outputs": [],
   "source": [
    "class Meta347(type):\n",
    "    def __new__(cls, name, bases, dct):\n",
    "        dct['meta_id'] = 347\n",
    "        return super().__new__(cls, name, bases, dct)\n",
    "\n",
    "class ClassWithMeta347(metaclass=Meta347):\n",
    "    def show_meta_id(self):\n",
    "        return self.meta_id\n",
    "\n",
    "obj347 = ClassWithMeta347()\n",
    "obj347.show_meta_id()"
   ]
  },
  {
   "cell_type": "code",
   "execution_count": null,
   "id": "bcbb45b6",
   "metadata": {},
   "outputs": [],
   "source": [
    "class Meta348(type):\n",
    "    def __new__(cls, name, bases, dct):\n",
    "        dct['meta_id'] = 348\n",
    "        return super().__new__(cls, name, bases, dct)\n",
    "\n",
    "class ClassWithMeta348(metaclass=Meta348):\n",
    "    def show_meta_id(self):\n",
    "        return self.meta_id\n",
    "\n",
    "obj348 = ClassWithMeta348()\n",
    "obj348.show_meta_id()"
   ]
  },
  {
   "cell_type": "code",
   "execution_count": null,
   "id": "5c05793c",
   "metadata": {},
   "outputs": [],
   "source": [
    "class Meta349(type):\n",
    "    def __new__(cls, name, bases, dct):\n",
    "        dct['meta_id'] = 349\n",
    "        return super().__new__(cls, name, bases, dct)\n",
    "\n",
    "class ClassWithMeta349(metaclass=Meta349):\n",
    "    def show_meta_id(self):\n",
    "        return self.meta_id\n",
    "\n",
    "obj349 = ClassWithMeta349()\n",
    "obj349.show_meta_id()"
   ]
  },
  {
   "cell_type": "code",
   "execution_count": null,
   "id": "2fc3e55d",
   "metadata": {},
   "outputs": [],
   "source": [
    "class Meta350(type):\n",
    "    def __new__(cls, name, bases, dct):\n",
    "        dct['meta_id'] = 350\n",
    "        return super().__new__(cls, name, bases, dct)\n",
    "\n",
    "class ClassWithMeta350(metaclass=Meta350):\n",
    "    def show_meta_id(self):\n",
    "        return self.meta_id\n",
    "\n",
    "obj350 = ClassWithMeta350()\n",
    "obj350.show_meta_id()"
   ]
  },
  {
   "cell_type": "code",
   "execution_count": null,
   "id": "b7bf6131",
   "metadata": {},
   "outputs": [],
   "source": [
    "class Meta351(type):\n",
    "    def __new__(cls, name, bases, dct):\n",
    "        dct['meta_id'] = 351\n",
    "        return super().__new__(cls, name, bases, dct)\n",
    "\n",
    "class ClassWithMeta351(metaclass=Meta351):\n",
    "    def show_meta_id(self):\n",
    "        return self.meta_id\n",
    "\n",
    "obj351 = ClassWithMeta351()\n",
    "obj351.show_meta_id()"
   ]
  },
  {
   "cell_type": "code",
   "execution_count": null,
   "id": "903952ba",
   "metadata": {},
   "outputs": [],
   "source": [
    "class Meta352(type):\n",
    "    def __new__(cls, name, bases, dct):\n",
    "        dct['meta_id'] = 352\n",
    "        return super().__new__(cls, name, bases, dct)\n",
    "\n",
    "class ClassWithMeta352(metaclass=Meta352):\n",
    "    def show_meta_id(self):\n",
    "        return self.meta_id\n",
    "\n",
    "obj352 = ClassWithMeta352()\n",
    "obj352.show_meta_id()"
   ]
  },
  {
   "cell_type": "code",
   "execution_count": null,
   "id": "e7ee70f8",
   "metadata": {},
   "outputs": [],
   "source": [
    "class Meta353(type):\n",
    "    def __new__(cls, name, bases, dct):\n",
    "        dct['meta_id'] = 353\n",
    "        return super().__new__(cls, name, bases, dct)\n",
    "\n",
    "class ClassWithMeta353(metaclass=Meta353):\n",
    "    def show_meta_id(self):\n",
    "        return self.meta_id\n",
    "\n",
    "obj353 = ClassWithMeta353()\n",
    "obj353.show_meta_id()"
   ]
  },
  {
   "cell_type": "code",
   "execution_count": null,
   "id": "1f43a2fe",
   "metadata": {},
   "outputs": [],
   "source": [
    "class Meta354(type):\n",
    "    def __new__(cls, name, bases, dct):\n",
    "        dct['meta_id'] = 354\n",
    "        return super().__new__(cls, name, bases, dct)\n",
    "\n",
    "class ClassWithMeta354(metaclass=Meta354):\n",
    "    def show_meta_id(self):\n",
    "        return self.meta_id\n",
    "\n",
    "obj354 = ClassWithMeta354()\n",
    "obj354.show_meta_id()"
   ]
  },
  {
   "cell_type": "code",
   "execution_count": null,
   "id": "ca067ff5",
   "metadata": {},
   "outputs": [],
   "source": [
    "class Meta355(type):\n",
    "    def __new__(cls, name, bases, dct):\n",
    "        dct['meta_id'] = 355\n",
    "        return super().__new__(cls, name, bases, dct)\n",
    "\n",
    "class ClassWithMeta355(metaclass=Meta355):\n",
    "    def show_meta_id(self):\n",
    "        return self.meta_id\n",
    "\n",
    "obj355 = ClassWithMeta355()\n",
    "obj355.show_meta_id()"
   ]
  },
  {
   "cell_type": "code",
   "execution_count": null,
   "id": "a2be4621",
   "metadata": {},
   "outputs": [],
   "source": [
    "class Meta356(type):\n",
    "    def __new__(cls, name, bases, dct):\n",
    "        dct['meta_id'] = 356\n",
    "        return super().__new__(cls, name, bases, dct)\n",
    "\n",
    "class ClassWithMeta356(metaclass=Meta356):\n",
    "    def show_meta_id(self):\n",
    "        return self.meta_id\n",
    "\n",
    "obj356 = ClassWithMeta356()\n",
    "obj356.show_meta_id()"
   ]
  },
  {
   "cell_type": "code",
   "execution_count": null,
   "id": "23aff0b8",
   "metadata": {},
   "outputs": [],
   "source": [
    "class Meta357(type):\n",
    "    def __new__(cls, name, bases, dct):\n",
    "        dct['meta_id'] = 357\n",
    "        return super().__new__(cls, name, bases, dct)\n",
    "\n",
    "class ClassWithMeta357(metaclass=Meta357):\n",
    "    def show_meta_id(self):\n",
    "        return self.meta_id\n",
    "\n",
    "obj357 = ClassWithMeta357()\n",
    "obj357.show_meta_id()"
   ]
  },
  {
   "cell_type": "code",
   "execution_count": null,
   "id": "1b9cec4c",
   "metadata": {},
   "outputs": [],
   "source": [
    "class Meta358(type):\n",
    "    def __new__(cls, name, bases, dct):\n",
    "        dct['meta_id'] = 358\n",
    "        return super().__new__(cls, name, bases, dct)\n",
    "\n",
    "class ClassWithMeta358(metaclass=Meta358):\n",
    "    def show_meta_id(self):\n",
    "        return self.meta_id\n",
    "\n",
    "obj358 = ClassWithMeta358()\n",
    "obj358.show_meta_id()"
   ]
  },
  {
   "cell_type": "code",
   "execution_count": null,
   "id": "834be01d",
   "metadata": {},
   "outputs": [],
   "source": [
    "class Meta359(type):\n",
    "    def __new__(cls, name, bases, dct):\n",
    "        dct['meta_id'] = 359\n",
    "        return super().__new__(cls, name, bases, dct)\n",
    "\n",
    "class ClassWithMeta359(metaclass=Meta359):\n",
    "    def show_meta_id(self):\n",
    "        return self.meta_id\n",
    "\n",
    "obj359 = ClassWithMeta359()\n",
    "obj359.show_meta_id()"
   ]
  },
  {
   "cell_type": "code",
   "execution_count": null,
   "id": "f496407e",
   "metadata": {},
   "outputs": [],
   "source": [
    "class Meta360(type):\n",
    "    def __new__(cls, name, bases, dct):\n",
    "        dct['meta_id'] = 360\n",
    "        return super().__new__(cls, name, bases, dct)\n",
    "\n",
    "class ClassWithMeta360(metaclass=Meta360):\n",
    "    def show_meta_id(self):\n",
    "        return self.meta_id\n",
    "\n",
    "obj360 = ClassWithMeta360()\n",
    "obj360.show_meta_id()"
   ]
  },
  {
   "cell_type": "code",
   "execution_count": null,
   "id": "f6ae2ac0",
   "metadata": {},
   "outputs": [],
   "source": [
    "class Meta361(type):\n",
    "    def __new__(cls, name, bases, dct):\n",
    "        dct['meta_id'] = 361\n",
    "        return super().__new__(cls, name, bases, dct)\n",
    "\n",
    "class ClassWithMeta361(metaclass=Meta361):\n",
    "    def show_meta_id(self):\n",
    "        return self.meta_id\n",
    "\n",
    "obj361 = ClassWithMeta361()\n",
    "obj361.show_meta_id()"
   ]
  },
  {
   "cell_type": "code",
   "execution_count": null,
   "id": "b5f487bf",
   "metadata": {},
   "outputs": [],
   "source": [
    "class Meta362(type):\n",
    "    def __new__(cls, name, bases, dct):\n",
    "        dct['meta_id'] = 362\n",
    "        return super().__new__(cls, name, bases, dct)\n",
    "\n",
    "class ClassWithMeta362(metaclass=Meta362):\n",
    "    def show_meta_id(self):\n",
    "        return self.meta_id\n",
    "\n",
    "obj362 = ClassWithMeta362()\n",
    "obj362.show_meta_id()"
   ]
  },
  {
   "cell_type": "code",
   "execution_count": null,
   "id": "47a1c186",
   "metadata": {},
   "outputs": [],
   "source": [
    "class Meta363(type):\n",
    "    def __new__(cls, name, bases, dct):\n",
    "        dct['meta_id'] = 363\n",
    "        return super().__new__(cls, name, bases, dct)\n",
    "\n",
    "class ClassWithMeta363(metaclass=Meta363):\n",
    "    def show_meta_id(self):\n",
    "        return self.meta_id\n",
    "\n",
    "obj363 = ClassWithMeta363()\n",
    "obj363.show_meta_id()"
   ]
  },
  {
   "cell_type": "code",
   "execution_count": null,
   "id": "0c013453",
   "metadata": {},
   "outputs": [],
   "source": [
    "class Meta364(type):\n",
    "    def __new__(cls, name, bases, dct):\n",
    "        dct['meta_id'] = 364\n",
    "        return super().__new__(cls, name, bases, dct)\n",
    "\n",
    "class ClassWithMeta364(metaclass=Meta364):\n",
    "    def show_meta_id(self):\n",
    "        return self.meta_id\n",
    "\n",
    "obj364 = ClassWithMeta364()\n",
    "obj364.show_meta_id()"
   ]
  },
  {
   "cell_type": "code",
   "execution_count": null,
   "id": "f2f77f37",
   "metadata": {},
   "outputs": [],
   "source": [
    "class Meta365(type):\n",
    "    def __new__(cls, name, bases, dct):\n",
    "        dct['meta_id'] = 365\n",
    "        return super().__new__(cls, name, bases, dct)\n",
    "\n",
    "class ClassWithMeta365(metaclass=Meta365):\n",
    "    def show_meta_id(self):\n",
    "        return self.meta_id\n",
    "\n",
    "obj365 = ClassWithMeta365()\n",
    "obj365.show_meta_id()"
   ]
  },
  {
   "cell_type": "code",
   "execution_count": null,
   "id": "edd6f76c",
   "metadata": {},
   "outputs": [],
   "source": [
    "class Meta366(type):\n",
    "    def __new__(cls, name, bases, dct):\n",
    "        dct['meta_id'] = 366\n",
    "        return super().__new__(cls, name, bases, dct)\n",
    "\n",
    "class ClassWithMeta366(metaclass=Meta366):\n",
    "    def show_meta_id(self):\n",
    "        return self.meta_id\n",
    "\n",
    "obj366 = ClassWithMeta366()\n",
    "obj366.show_meta_id()"
   ]
  },
  {
   "cell_type": "code",
   "execution_count": null,
   "id": "6d56d890",
   "metadata": {},
   "outputs": [],
   "source": [
    "class Meta367(type):\n",
    "    def __new__(cls, name, bases, dct):\n",
    "        dct['meta_id'] = 367\n",
    "        return super().__new__(cls, name, bases, dct)\n",
    "\n",
    "class ClassWithMeta367(metaclass=Meta367):\n",
    "    def show_meta_id(self):\n",
    "        return self.meta_id\n",
    "\n",
    "obj367 = ClassWithMeta367()\n",
    "obj367.show_meta_id()"
   ]
  },
  {
   "cell_type": "code",
   "execution_count": null,
   "id": "44285f90",
   "metadata": {},
   "outputs": [],
   "source": [
    "class Meta368(type):\n",
    "    def __new__(cls, name, bases, dct):\n",
    "        dct['meta_id'] = 368\n",
    "        return super().__new__(cls, name, bases, dct)\n",
    "\n",
    "class ClassWithMeta368(metaclass=Meta368):\n",
    "    def show_meta_id(self):\n",
    "        return self.meta_id\n",
    "\n",
    "obj368 = ClassWithMeta368()\n",
    "obj368.show_meta_id()"
   ]
  },
  {
   "cell_type": "code",
   "execution_count": null,
   "id": "ceab5a9f",
   "metadata": {},
   "outputs": [],
   "source": [
    "class Meta369(type):\n",
    "    def __new__(cls, name, bases, dct):\n",
    "        dct['meta_id'] = 369\n",
    "        return super().__new__(cls, name, bases, dct)\n",
    "\n",
    "class ClassWithMeta369(metaclass=Meta369):\n",
    "    def show_meta_id(self):\n",
    "        return self.meta_id\n",
    "\n",
    "obj369 = ClassWithMeta369()\n",
    "obj369.show_meta_id()"
   ]
  },
  {
   "cell_type": "code",
   "execution_count": null,
   "id": "dac9fc65",
   "metadata": {},
   "outputs": [],
   "source": [
    "class Meta370(type):\n",
    "    def __new__(cls, name, bases, dct):\n",
    "        dct['meta_id'] = 370\n",
    "        return super().__new__(cls, name, bases, dct)\n",
    "\n",
    "class ClassWithMeta370(metaclass=Meta370):\n",
    "    def show_meta_id(self):\n",
    "        return self.meta_id\n",
    "\n",
    "obj370 = ClassWithMeta370()\n",
    "obj370.show_meta_id()"
   ]
  },
  {
   "cell_type": "code",
   "execution_count": null,
   "id": "43377e4b",
   "metadata": {},
   "outputs": [],
   "source": [
    "class Meta371(type):\n",
    "    def __new__(cls, name, bases, dct):\n",
    "        dct['meta_id'] = 371\n",
    "        return super().__new__(cls, name, bases, dct)\n",
    "\n",
    "class ClassWithMeta371(metaclass=Meta371):\n",
    "    def show_meta_id(self):\n",
    "        return self.meta_id\n",
    "\n",
    "obj371 = ClassWithMeta371()\n",
    "obj371.show_meta_id()"
   ]
  },
  {
   "cell_type": "code",
   "execution_count": null,
   "id": "2fd9ec1b",
   "metadata": {},
   "outputs": [],
   "source": [
    "class Meta372(type):\n",
    "    def __new__(cls, name, bases, dct):\n",
    "        dct['meta_id'] = 372\n",
    "        return super().__new__(cls, name, bases, dct)\n",
    "\n",
    "class ClassWithMeta372(metaclass=Meta372):\n",
    "    def show_meta_id(self):\n",
    "        return self.meta_id\n",
    "\n",
    "obj372 = ClassWithMeta372()\n",
    "obj372.show_meta_id()"
   ]
  },
  {
   "cell_type": "code",
   "execution_count": null,
   "id": "91713c5f",
   "metadata": {},
   "outputs": [],
   "source": [
    "class Meta373(type):\n",
    "    def __new__(cls, name, bases, dct):\n",
    "        dct['meta_id'] = 373\n",
    "        return super().__new__(cls, name, bases, dct)\n",
    "\n",
    "class ClassWithMeta373(metaclass=Meta373):\n",
    "    def show_meta_id(self):\n",
    "        return self.meta_id\n",
    "\n",
    "obj373 = ClassWithMeta373()\n",
    "obj373.show_meta_id()"
   ]
  },
  {
   "cell_type": "code",
   "execution_count": null,
   "id": "4f9712ee",
   "metadata": {},
   "outputs": [],
   "source": [
    "class Meta374(type):\n",
    "    def __new__(cls, name, bases, dct):\n",
    "        dct['meta_id'] = 374\n",
    "        return super().__new__(cls, name, bases, dct)\n",
    "\n",
    "class ClassWithMeta374(metaclass=Meta374):\n",
    "    def show_meta_id(self):\n",
    "        return self.meta_id\n",
    "\n",
    "obj374 = ClassWithMeta374()\n",
    "obj374.show_meta_id()"
   ]
  },
  {
   "cell_type": "code",
   "execution_count": null,
   "id": "066a1a5e",
   "metadata": {},
   "outputs": [],
   "source": [
    "class Meta375(type):\n",
    "    def __new__(cls, name, bases, dct):\n",
    "        dct['meta_id'] = 375\n",
    "        return super().__new__(cls, name, bases, dct)\n",
    "\n",
    "class ClassWithMeta375(metaclass=Meta375):\n",
    "    def show_meta_id(self):\n",
    "        return self.meta_id\n",
    "\n",
    "obj375 = ClassWithMeta375()\n",
    "obj375.show_meta_id()"
   ]
  },
  {
   "cell_type": "code",
   "execution_count": null,
   "id": "0285857b",
   "metadata": {},
   "outputs": [],
   "source": [
    "class Meta376(type):\n",
    "    def __new__(cls, name, bases, dct):\n",
    "        dct['meta_id'] = 376\n",
    "        return super().__new__(cls, name, bases, dct)\n",
    "\n",
    "class ClassWithMeta376(metaclass=Meta376):\n",
    "    def show_meta_id(self):\n",
    "        return self.meta_id\n",
    "\n",
    "obj376 = ClassWithMeta376()\n",
    "obj376.show_meta_id()"
   ]
  },
  {
   "cell_type": "code",
   "execution_count": null,
   "id": "bad17aad",
   "metadata": {},
   "outputs": [],
   "source": [
    "class Meta377(type):\n",
    "    def __new__(cls, name, bases, dct):\n",
    "        dct['meta_id'] = 377\n",
    "        return super().__new__(cls, name, bases, dct)\n",
    "\n",
    "class ClassWithMeta377(metaclass=Meta377):\n",
    "    def show_meta_id(self):\n",
    "        return self.meta_id\n",
    "\n",
    "obj377 = ClassWithMeta377()\n",
    "obj377.show_meta_id()"
   ]
  },
  {
   "cell_type": "code",
   "execution_count": null,
   "id": "aba485ad",
   "metadata": {},
   "outputs": [],
   "source": [
    "class Meta378(type):\n",
    "    def __new__(cls, name, bases, dct):\n",
    "        dct['meta_id'] = 378\n",
    "        return super().__new__(cls, name, bases, dct)\n",
    "\n",
    "class ClassWithMeta378(metaclass=Meta378):\n",
    "    def show_meta_id(self):\n",
    "        return self.meta_id\n",
    "\n",
    "obj378 = ClassWithMeta378()\n",
    "obj378.show_meta_id()"
   ]
  },
  {
   "cell_type": "code",
   "execution_count": null,
   "id": "c34ec771",
   "metadata": {},
   "outputs": [],
   "source": [
    "class Meta379(type):\n",
    "    def __new__(cls, name, bases, dct):\n",
    "        dct['meta_id'] = 379\n",
    "        return super().__new__(cls, name, bases, dct)\n",
    "\n",
    "class ClassWithMeta379(metaclass=Meta379):\n",
    "    def show_meta_id(self):\n",
    "        return self.meta_id\n",
    "\n",
    "obj379 = ClassWithMeta379()\n",
    "obj379.show_meta_id()"
   ]
  },
  {
   "cell_type": "code",
   "execution_count": null,
   "id": "463dec48",
   "metadata": {},
   "outputs": [],
   "source": [
    "class Meta380(type):\n",
    "    def __new__(cls, name, bases, dct):\n",
    "        dct['meta_id'] = 380\n",
    "        return super().__new__(cls, name, bases, dct)\n",
    "\n",
    "class ClassWithMeta380(metaclass=Meta380):\n",
    "    def show_meta_id(self):\n",
    "        return self.meta_id\n",
    "\n",
    "obj380 = ClassWithMeta380()\n",
    "obj380.show_meta_id()"
   ]
  },
  {
   "cell_type": "code",
   "execution_count": null,
   "id": "7580c0ac",
   "metadata": {},
   "outputs": [],
   "source": [
    "class Meta381(type):\n",
    "    def __new__(cls, name, bases, dct):\n",
    "        dct['meta_id'] = 381\n",
    "        return super().__new__(cls, name, bases, dct)\n",
    "\n",
    "class ClassWithMeta381(metaclass=Meta381):\n",
    "    def show_meta_id(self):\n",
    "        return self.meta_id\n",
    "\n",
    "obj381 = ClassWithMeta381()\n",
    "obj381.show_meta_id()"
   ]
  },
  {
   "cell_type": "code",
   "execution_count": null,
   "id": "153af5bb",
   "metadata": {},
   "outputs": [],
   "source": [
    "class Meta382(type):\n",
    "    def __new__(cls, name, bases, dct):\n",
    "        dct['meta_id'] = 382\n",
    "        return super().__new__(cls, name, bases, dct)\n",
    "\n",
    "class ClassWithMeta382(metaclass=Meta382):\n",
    "    def show_meta_id(self):\n",
    "        return self.meta_id\n",
    "\n",
    "obj382 = ClassWithMeta382()\n",
    "obj382.show_meta_id()"
   ]
  },
  {
   "cell_type": "code",
   "execution_count": null,
   "id": "cff94add",
   "metadata": {},
   "outputs": [],
   "source": [
    "class Meta383(type):\n",
    "    def __new__(cls, name, bases, dct):\n",
    "        dct['meta_id'] = 383\n",
    "        return super().__new__(cls, name, bases, dct)\n",
    "\n",
    "class ClassWithMeta383(metaclass=Meta383):\n",
    "    def show_meta_id(self):\n",
    "        return self.meta_id\n",
    "\n",
    "obj383 = ClassWithMeta383()\n",
    "obj383.show_meta_id()"
   ]
  },
  {
   "cell_type": "code",
   "execution_count": null,
   "id": "dc83e02b",
   "metadata": {},
   "outputs": [],
   "source": [
    "class Meta384(type):\n",
    "    def __new__(cls, name, bases, dct):\n",
    "        dct['meta_id'] = 384\n",
    "        return super().__new__(cls, name, bases, dct)\n",
    "\n",
    "class ClassWithMeta384(metaclass=Meta384):\n",
    "    def show_meta_id(self):\n",
    "        return self.meta_id\n",
    "\n",
    "obj384 = ClassWithMeta384()\n",
    "obj384.show_meta_id()"
   ]
  },
  {
   "cell_type": "code",
   "execution_count": null,
   "id": "b355407e",
   "metadata": {},
   "outputs": [],
   "source": [
    "class Meta385(type):\n",
    "    def __new__(cls, name, bases, dct):\n",
    "        dct['meta_id'] = 385\n",
    "        return super().__new__(cls, name, bases, dct)\n",
    "\n",
    "class ClassWithMeta385(metaclass=Meta385):\n",
    "    def show_meta_id(self):\n",
    "        return self.meta_id\n",
    "\n",
    "obj385 = ClassWithMeta385()\n",
    "obj385.show_meta_id()"
   ]
  },
  {
   "cell_type": "code",
   "execution_count": null,
   "id": "80950a46",
   "metadata": {},
   "outputs": [],
   "source": [
    "class Meta386(type):\n",
    "    def __new__(cls, name, bases, dct):\n",
    "        dct['meta_id'] = 386\n",
    "        return super().__new__(cls, name, bases, dct)\n",
    "\n",
    "class ClassWithMeta386(metaclass=Meta386):\n",
    "    def show_meta_id(self):\n",
    "        return self.meta_id\n",
    "\n",
    "obj386 = ClassWithMeta386()\n",
    "obj386.show_meta_id()"
   ]
  },
  {
   "cell_type": "code",
   "execution_count": null,
   "id": "d5d73bb7",
   "metadata": {},
   "outputs": [],
   "source": [
    "class Meta387(type):\n",
    "    def __new__(cls, name, bases, dct):\n",
    "        dct['meta_id'] = 387\n",
    "        return super().__new__(cls, name, bases, dct)\n",
    "\n",
    "class ClassWithMeta387(metaclass=Meta387):\n",
    "    def show_meta_id(self):\n",
    "        return self.meta_id\n",
    "\n",
    "obj387 = ClassWithMeta387()\n",
    "obj387.show_meta_id()"
   ]
  },
  {
   "cell_type": "code",
   "execution_count": null,
   "id": "f9d051d9",
   "metadata": {},
   "outputs": [],
   "source": [
    "class Meta388(type):\n",
    "    def __new__(cls, name, bases, dct):\n",
    "        dct['meta_id'] = 388\n",
    "        return super().__new__(cls, name, bases, dct)\n",
    "\n",
    "class ClassWithMeta388(metaclass=Meta388):\n",
    "    def show_meta_id(self):\n",
    "        return self.meta_id\n",
    "\n",
    "obj388 = ClassWithMeta388()\n",
    "obj388.show_meta_id()"
   ]
  },
  {
   "cell_type": "code",
   "execution_count": null,
   "id": "dc86b245",
   "metadata": {},
   "outputs": [],
   "source": [
    "class Meta389(type):\n",
    "    def __new__(cls, name, bases, dct):\n",
    "        dct['meta_id'] = 389\n",
    "        return super().__new__(cls, name, bases, dct)\n",
    "\n",
    "class ClassWithMeta389(metaclass=Meta389):\n",
    "    def show_meta_id(self):\n",
    "        return self.meta_id\n",
    "\n",
    "obj389 = ClassWithMeta389()\n",
    "obj389.show_meta_id()"
   ]
  },
  {
   "cell_type": "code",
   "execution_count": null,
   "id": "9deb6324",
   "metadata": {},
   "outputs": [],
   "source": [
    "class Meta390(type):\n",
    "    def __new__(cls, name, bases, dct):\n",
    "        dct['meta_id'] = 390\n",
    "        return super().__new__(cls, name, bases, dct)\n",
    "\n",
    "class ClassWithMeta390(metaclass=Meta390):\n",
    "    def show_meta_id(self):\n",
    "        return self.meta_id\n",
    "\n",
    "obj390 = ClassWithMeta390()\n",
    "obj390.show_meta_id()"
   ]
  },
  {
   "cell_type": "code",
   "execution_count": null,
   "id": "6bd70551",
   "metadata": {},
   "outputs": [],
   "source": [
    "class Meta391(type):\n",
    "    def __new__(cls, name, bases, dct):\n",
    "        dct['meta_id'] = 391\n",
    "        return super().__new__(cls, name, bases, dct)\n",
    "\n",
    "class ClassWithMeta391(metaclass=Meta391):\n",
    "    def show_meta_id(self):\n",
    "        return self.meta_id\n",
    "\n",
    "obj391 = ClassWithMeta391()\n",
    "obj391.show_meta_id()"
   ]
  },
  {
   "cell_type": "code",
   "execution_count": null,
   "id": "e47301f1",
   "metadata": {},
   "outputs": [],
   "source": [
    "class Meta392(type):\n",
    "    def __new__(cls, name, bases, dct):\n",
    "        dct['meta_id'] = 392\n",
    "        return super().__new__(cls, name, bases, dct)\n",
    "\n",
    "class ClassWithMeta392(metaclass=Meta392):\n",
    "    def show_meta_id(self):\n",
    "        return self.meta_id\n",
    "\n",
    "obj392 = ClassWithMeta392()\n",
    "obj392.show_meta_id()"
   ]
  },
  {
   "cell_type": "code",
   "execution_count": null,
   "id": "71c3607d",
   "metadata": {},
   "outputs": [],
   "source": [
    "class Meta393(type):\n",
    "    def __new__(cls, name, bases, dct):\n",
    "        dct['meta_id'] = 393\n",
    "        return super().__new__(cls, name, bases, dct)\n",
    "\n",
    "class ClassWithMeta393(metaclass=Meta393):\n",
    "    def show_meta_id(self):\n",
    "        return self.meta_id\n",
    "\n",
    "obj393 = ClassWithMeta393()\n",
    "obj393.show_meta_id()"
   ]
  },
  {
   "cell_type": "code",
   "execution_count": null,
   "id": "43be0172",
   "metadata": {},
   "outputs": [],
   "source": [
    "class Meta394(type):\n",
    "    def __new__(cls, name, bases, dct):\n",
    "        dct['meta_id'] = 394\n",
    "        return super().__new__(cls, name, bases, dct)\n",
    "\n",
    "class ClassWithMeta394(metaclass=Meta394):\n",
    "    def show_meta_id(self):\n",
    "        return self.meta_id\n",
    "\n",
    "obj394 = ClassWithMeta394()\n",
    "obj394.show_meta_id()"
   ]
  },
  {
   "cell_type": "code",
   "execution_count": null,
   "id": "d999f7be",
   "metadata": {},
   "outputs": [],
   "source": [
    "class Meta395(type):\n",
    "    def __new__(cls, name, bases, dct):\n",
    "        dct['meta_id'] = 395\n",
    "        return super().__new__(cls, name, bases, dct)\n",
    "\n",
    "class ClassWithMeta395(metaclass=Meta395):\n",
    "    def show_meta_id(self):\n",
    "        return self.meta_id\n",
    "\n",
    "obj395 = ClassWithMeta395()\n",
    "obj395.show_meta_id()"
   ]
  },
  {
   "cell_type": "code",
   "execution_count": null,
   "id": "1557e2e1",
   "metadata": {},
   "outputs": [],
   "source": [
    "class Meta396(type):\n",
    "    def __new__(cls, name, bases, dct):\n",
    "        dct['meta_id'] = 396\n",
    "        return super().__new__(cls, name, bases, dct)\n",
    "\n",
    "class ClassWithMeta396(metaclass=Meta396):\n",
    "    def show_meta_id(self):\n",
    "        return self.meta_id\n",
    "\n",
    "obj396 = ClassWithMeta396()\n",
    "obj396.show_meta_id()"
   ]
  },
  {
   "cell_type": "code",
   "execution_count": null,
   "id": "1da4d1d9",
   "metadata": {},
   "outputs": [],
   "source": [
    "class Meta397(type):\n",
    "    def __new__(cls, name, bases, dct):\n",
    "        dct['meta_id'] = 397\n",
    "        return super().__new__(cls, name, bases, dct)\n",
    "\n",
    "class ClassWithMeta397(metaclass=Meta397):\n",
    "    def show_meta_id(self):\n",
    "        return self.meta_id\n",
    "\n",
    "obj397 = ClassWithMeta397()\n",
    "obj397.show_meta_id()"
   ]
  },
  {
   "cell_type": "code",
   "execution_count": null,
   "id": "9b069537",
   "metadata": {},
   "outputs": [],
   "source": [
    "class Meta398(type):\n",
    "    def __new__(cls, name, bases, dct):\n",
    "        dct['meta_id'] = 398\n",
    "        return super().__new__(cls, name, bases, dct)\n",
    "\n",
    "class ClassWithMeta398(metaclass=Meta398):\n",
    "    def show_meta_id(self):\n",
    "        return self.meta_id\n",
    "\n",
    "obj398 = ClassWithMeta398()\n",
    "obj398.show_meta_id()"
   ]
  },
  {
   "cell_type": "code",
   "execution_count": null,
   "id": "2f4f1fe0",
   "metadata": {},
   "outputs": [],
   "source": [
    "class Meta399(type):\n",
    "    def __new__(cls, name, bases, dct):\n",
    "        dct['meta_id'] = 399\n",
    "        return super().__new__(cls, name, bases, dct)\n",
    "\n",
    "class ClassWithMeta399(metaclass=Meta399):\n",
    "    def show_meta_id(self):\n",
    "        return self.meta_id\n",
    "\n",
    "obj399 = ClassWithMeta399()\n",
    "obj399.show_meta_id()"
   ]
  },
  {
   "cell_type": "code",
   "execution_count": null,
   "id": "68ad2f36",
   "metadata": {},
   "outputs": [],
   "source": [
    "class Meta400(type):\n",
    "    def __new__(cls, name, bases, dct):\n",
    "        dct['meta_id'] = 400\n",
    "        return super().__new__(cls, name, bases, dct)\n",
    "\n",
    "class ClassWithMeta400(metaclass=Meta400):\n",
    "    def show_meta_id(self):\n",
    "        return self.meta_id\n",
    "\n",
    "obj400 = ClassWithMeta400()\n",
    "obj400.show_meta_id()"
   ]
  },
  {
   "cell_type": "code",
   "execution_count": null,
   "id": "6ecda666",
   "metadata": {},
   "outputs": [],
   "source": [
    "class Meta401(type):\n",
    "    def __new__(cls, name, bases, dct):\n",
    "        dct['meta_id'] = 401\n",
    "        return super().__new__(cls, name, bases, dct)\n",
    "\n",
    "class ClassWithMeta401(metaclass=Meta401):\n",
    "    def show_meta_id(self):\n",
    "        return self.meta_id\n",
    "\n",
    "obj401 = ClassWithMeta401()\n",
    "obj401.show_meta_id()"
   ]
  },
  {
   "cell_type": "code",
   "execution_count": null,
   "id": "0ece449a",
   "metadata": {},
   "outputs": [],
   "source": [
    "class Meta402(type):\n",
    "    def __new__(cls, name, bases, dct):\n",
    "        dct['meta_id'] = 402\n",
    "        return super().__new__(cls, name, bases, dct)\n",
    "\n",
    "class ClassWithMeta402(metaclass=Meta402):\n",
    "    def show_meta_id(self):\n",
    "        return self.meta_id\n",
    "\n",
    "obj402 = ClassWithMeta402()\n",
    "obj402.show_meta_id()"
   ]
  },
  {
   "cell_type": "code",
   "execution_count": null,
   "id": "ee61e6c8",
   "metadata": {},
   "outputs": [],
   "source": [
    "class Meta403(type):\n",
    "    def __new__(cls, name, bases, dct):\n",
    "        dct['meta_id'] = 403\n",
    "        return super().__new__(cls, name, bases, dct)\n",
    "\n",
    "class ClassWithMeta403(metaclass=Meta403):\n",
    "    def show_meta_id(self):\n",
    "        return self.meta_id\n",
    "\n",
    "obj403 = ClassWithMeta403()\n",
    "obj403.show_meta_id()"
   ]
  },
  {
   "cell_type": "code",
   "execution_count": null,
   "id": "a774cd13",
   "metadata": {},
   "outputs": [],
   "source": [
    "class Meta404(type):\n",
    "    def __new__(cls, name, bases, dct):\n",
    "        dct['meta_id'] = 404\n",
    "        return super().__new__(cls, name, bases, dct)\n",
    "\n",
    "class ClassWithMeta404(metaclass=Meta404):\n",
    "    def show_meta_id(self):\n",
    "        return self.meta_id\n",
    "\n",
    "obj404 = ClassWithMeta404()\n",
    "obj404.show_meta_id()"
   ]
  },
  {
   "cell_type": "code",
   "execution_count": null,
   "id": "7a65d6f5",
   "metadata": {},
   "outputs": [],
   "source": [
    "class Meta405(type):\n",
    "    def __new__(cls, name, bases, dct):\n",
    "        dct['meta_id'] = 405\n",
    "        return super().__new__(cls, name, bases, dct)\n",
    "\n",
    "class ClassWithMeta405(metaclass=Meta405):\n",
    "    def show_meta_id(self):\n",
    "        return self.meta_id\n",
    "\n",
    "obj405 = ClassWithMeta405()\n",
    "obj405.show_meta_id()"
   ]
  },
  {
   "cell_type": "code",
   "execution_count": null,
   "id": "c7dcecfd",
   "metadata": {},
   "outputs": [],
   "source": [
    "class Meta406(type):\n",
    "    def __new__(cls, name, bases, dct):\n",
    "        dct['meta_id'] = 406\n",
    "        return super().__new__(cls, name, bases, dct)\n",
    "\n",
    "class ClassWithMeta406(metaclass=Meta406):\n",
    "    def show_meta_id(self):\n",
    "        return self.meta_id\n",
    "\n",
    "obj406 = ClassWithMeta406()\n",
    "obj406.show_meta_id()"
   ]
  },
  {
   "cell_type": "code",
   "execution_count": null,
   "id": "ee077987",
   "metadata": {},
   "outputs": [],
   "source": [
    "class Meta407(type):\n",
    "    def __new__(cls, name, bases, dct):\n",
    "        dct['meta_id'] = 407\n",
    "        return super().__new__(cls, name, bases, dct)\n",
    "\n",
    "class ClassWithMeta407(metaclass=Meta407):\n",
    "    def show_meta_id(self):\n",
    "        return self.meta_id\n",
    "\n",
    "obj407 = ClassWithMeta407()\n",
    "obj407.show_meta_id()"
   ]
  },
  {
   "cell_type": "code",
   "execution_count": null,
   "id": "f9b3a1d7",
   "metadata": {},
   "outputs": [],
   "source": [
    "class Meta408(type):\n",
    "    def __new__(cls, name, bases, dct):\n",
    "        dct['meta_id'] = 408\n",
    "        return super().__new__(cls, name, bases, dct)\n",
    "\n",
    "class ClassWithMeta408(metaclass=Meta408):\n",
    "    def show_meta_id(self):\n",
    "        return self.meta_id\n",
    "\n",
    "obj408 = ClassWithMeta408()\n",
    "obj408.show_meta_id()"
   ]
  },
  {
   "cell_type": "code",
   "execution_count": null,
   "id": "2fa48315",
   "metadata": {},
   "outputs": [],
   "source": [
    "class Meta409(type):\n",
    "    def __new__(cls, name, bases, dct):\n",
    "        dct['meta_id'] = 409\n",
    "        return super().__new__(cls, name, bases, dct)\n",
    "\n",
    "class ClassWithMeta409(metaclass=Meta409):\n",
    "    def show_meta_id(self):\n",
    "        return self.meta_id\n",
    "\n",
    "obj409 = ClassWithMeta409()\n",
    "obj409.show_meta_id()"
   ]
  },
  {
   "cell_type": "code",
   "execution_count": null,
   "id": "00e437ef",
   "metadata": {},
   "outputs": [],
   "source": [
    "class Meta410(type):\n",
    "    def __new__(cls, name, bases, dct):\n",
    "        dct['meta_id'] = 410\n",
    "        return super().__new__(cls, name, bases, dct)\n",
    "\n",
    "class ClassWithMeta410(metaclass=Meta410):\n",
    "    def show_meta_id(self):\n",
    "        return self.meta_id\n",
    "\n",
    "obj410 = ClassWithMeta410()\n",
    "obj410.show_meta_id()"
   ]
  },
  {
   "cell_type": "code",
   "execution_count": null,
   "id": "87561c58",
   "metadata": {},
   "outputs": [],
   "source": [
    "class Meta411(type):\n",
    "    def __new__(cls, name, bases, dct):\n",
    "        dct['meta_id'] = 411\n",
    "        return super().__new__(cls, name, bases, dct)\n",
    "\n",
    "class ClassWithMeta411(metaclass=Meta411):\n",
    "    def show_meta_id(self):\n",
    "        return self.meta_id\n",
    "\n",
    "obj411 = ClassWithMeta411()\n",
    "obj411.show_meta_id()"
   ]
  },
  {
   "cell_type": "code",
   "execution_count": null,
   "id": "07f1657a",
   "metadata": {},
   "outputs": [],
   "source": [
    "class Meta412(type):\n",
    "    def __new__(cls, name, bases, dct):\n",
    "        dct['meta_id'] = 412\n",
    "        return super().__new__(cls, name, bases, dct)\n",
    "\n",
    "class ClassWithMeta412(metaclass=Meta412):\n",
    "    def show_meta_id(self):\n",
    "        return self.meta_id\n",
    "\n",
    "obj412 = ClassWithMeta412()\n",
    "obj412.show_meta_id()"
   ]
  },
  {
   "cell_type": "code",
   "execution_count": null,
   "id": "b92b5149",
   "metadata": {},
   "outputs": [],
   "source": [
    "class Meta413(type):\n",
    "    def __new__(cls, name, bases, dct):\n",
    "        dct['meta_id'] = 413\n",
    "        return super().__new__(cls, name, bases, dct)\n",
    "\n",
    "class ClassWithMeta413(metaclass=Meta413):\n",
    "    def show_meta_id(self):\n",
    "        return self.meta_id\n",
    "\n",
    "obj413 = ClassWithMeta413()\n",
    "obj413.show_meta_id()"
   ]
  },
  {
   "cell_type": "code",
   "execution_count": null,
   "id": "37c86f3c",
   "metadata": {},
   "outputs": [],
   "source": [
    "class Meta414(type):\n",
    "    def __new__(cls, name, bases, dct):\n",
    "        dct['meta_id'] = 414\n",
    "        return super().__new__(cls, name, bases, dct)\n",
    "\n",
    "class ClassWithMeta414(metaclass=Meta414):\n",
    "    def show_meta_id(self):\n",
    "        return self.meta_id\n",
    "\n",
    "obj414 = ClassWithMeta414()\n",
    "obj414.show_meta_id()"
   ]
  },
  {
   "cell_type": "code",
   "execution_count": null,
   "id": "04ab5d21",
   "metadata": {},
   "outputs": [],
   "source": [
    "class Meta415(type):\n",
    "    def __new__(cls, name, bases, dct):\n",
    "        dct['meta_id'] = 415\n",
    "        return super().__new__(cls, name, bases, dct)\n",
    "\n",
    "class ClassWithMeta415(metaclass=Meta415):\n",
    "    def show_meta_id(self):\n",
    "        return self.meta_id\n",
    "\n",
    "obj415 = ClassWithMeta415()\n",
    "obj415.show_meta_id()"
   ]
  },
  {
   "cell_type": "code",
   "execution_count": null,
   "id": "d605aeec",
   "metadata": {},
   "outputs": [],
   "source": [
    "class Meta416(type):\n",
    "    def __new__(cls, name, bases, dct):\n",
    "        dct['meta_id'] = 416\n",
    "        return super().__new__(cls, name, bases, dct)\n",
    "\n",
    "class ClassWithMeta416(metaclass=Meta416):\n",
    "    def show_meta_id(self):\n",
    "        return self.meta_id\n",
    "\n",
    "obj416 = ClassWithMeta416()\n",
    "obj416.show_meta_id()"
   ]
  },
  {
   "cell_type": "code",
   "execution_count": null,
   "id": "3628d836",
   "metadata": {},
   "outputs": [],
   "source": [
    "class Meta417(type):\n",
    "    def __new__(cls, name, bases, dct):\n",
    "        dct['meta_id'] = 417\n",
    "        return super().__new__(cls, name, bases, dct)\n",
    "\n",
    "class ClassWithMeta417(metaclass=Meta417):\n",
    "    def show_meta_id(self):\n",
    "        return self.meta_id\n",
    "\n",
    "obj417 = ClassWithMeta417()\n",
    "obj417.show_meta_id()"
   ]
  },
  {
   "cell_type": "code",
   "execution_count": null,
   "id": "ea36d3d9",
   "metadata": {},
   "outputs": [],
   "source": [
    "class Meta418(type):\n",
    "    def __new__(cls, name, bases, dct):\n",
    "        dct['meta_id'] = 418\n",
    "        return super().__new__(cls, name, bases, dct)\n",
    "\n",
    "class ClassWithMeta418(metaclass=Meta418):\n",
    "    def show_meta_id(self):\n",
    "        return self.meta_id\n",
    "\n",
    "obj418 = ClassWithMeta418()\n",
    "obj418.show_meta_id()"
   ]
  },
  {
   "cell_type": "code",
   "execution_count": null,
   "id": "f0e1fe01",
   "metadata": {},
   "outputs": [],
   "source": [
    "class Meta419(type):\n",
    "    def __new__(cls, name, bases, dct):\n",
    "        dct['meta_id'] = 419\n",
    "        return super().__new__(cls, name, bases, dct)\n",
    "\n",
    "class ClassWithMeta419(metaclass=Meta419):\n",
    "    def show_meta_id(self):\n",
    "        return self.meta_id\n",
    "\n",
    "obj419 = ClassWithMeta419()\n",
    "obj419.show_meta_id()"
   ]
  },
  {
   "cell_type": "code",
   "execution_count": null,
   "id": "794014cb",
   "metadata": {},
   "outputs": [],
   "source": [
    "class Meta420(type):\n",
    "    def __new__(cls, name, bases, dct):\n",
    "        dct['meta_id'] = 420\n",
    "        return super().__new__(cls, name, bases, dct)\n",
    "\n",
    "class ClassWithMeta420(metaclass=Meta420):\n",
    "    def show_meta_id(self):\n",
    "        return self.meta_id\n",
    "\n",
    "obj420 = ClassWithMeta420()\n",
    "obj420.show_meta_id()"
   ]
  },
  {
   "cell_type": "code",
   "execution_count": null,
   "id": "2b64e2b1",
   "metadata": {},
   "outputs": [],
   "source": [
    "class Meta421(type):\n",
    "    def __new__(cls, name, bases, dct):\n",
    "        dct['meta_id'] = 421\n",
    "        return super().__new__(cls, name, bases, dct)\n",
    "\n",
    "class ClassWithMeta421(metaclass=Meta421):\n",
    "    def show_meta_id(self):\n",
    "        return self.meta_id\n",
    "\n",
    "obj421 = ClassWithMeta421()\n",
    "obj421.show_meta_id()"
   ]
  },
  {
   "cell_type": "code",
   "execution_count": null,
   "id": "7521b095",
   "metadata": {},
   "outputs": [],
   "source": [
    "class Meta422(type):\n",
    "    def __new__(cls, name, bases, dct):\n",
    "        dct['meta_id'] = 422\n",
    "        return super().__new__(cls, name, bases, dct)\n",
    "\n",
    "class ClassWithMeta422(metaclass=Meta422):\n",
    "    def show_meta_id(self):\n",
    "        return self.meta_id\n",
    "\n",
    "obj422 = ClassWithMeta422()\n",
    "obj422.show_meta_id()"
   ]
  },
  {
   "cell_type": "code",
   "execution_count": null,
   "id": "4e9887bb",
   "metadata": {},
   "outputs": [],
   "source": [
    "class Meta423(type):\n",
    "    def __new__(cls, name, bases, dct):\n",
    "        dct['meta_id'] = 423\n",
    "        return super().__new__(cls, name, bases, dct)\n",
    "\n",
    "class ClassWithMeta423(metaclass=Meta423):\n",
    "    def show_meta_id(self):\n",
    "        return self.meta_id\n",
    "\n",
    "obj423 = ClassWithMeta423()\n",
    "obj423.show_meta_id()"
   ]
  },
  {
   "cell_type": "code",
   "execution_count": null,
   "id": "356afa79",
   "metadata": {},
   "outputs": [],
   "source": [
    "class Meta424(type):\n",
    "    def __new__(cls, name, bases, dct):\n",
    "        dct['meta_id'] = 424\n",
    "        return super().__new__(cls, name, bases, dct)\n",
    "\n",
    "class ClassWithMeta424(metaclass=Meta424):\n",
    "    def show_meta_id(self):\n",
    "        return self.meta_id\n",
    "\n",
    "obj424 = ClassWithMeta424()\n",
    "obj424.show_meta_id()"
   ]
  },
  {
   "cell_type": "code",
   "execution_count": null,
   "id": "5a30052e",
   "metadata": {},
   "outputs": [],
   "source": [
    "class Meta425(type):\n",
    "    def __new__(cls, name, bases, dct):\n",
    "        dct['meta_id'] = 425\n",
    "        return super().__new__(cls, name, bases, dct)\n",
    "\n",
    "class ClassWithMeta425(metaclass=Meta425):\n",
    "    def show_meta_id(self):\n",
    "        return self.meta_id\n",
    "\n",
    "obj425 = ClassWithMeta425()\n",
    "obj425.show_meta_id()"
   ]
  },
  {
   "cell_type": "code",
   "execution_count": null,
   "id": "214e4fc3",
   "metadata": {},
   "outputs": [],
   "source": [
    "class Meta426(type):\n",
    "    def __new__(cls, name, bases, dct):\n",
    "        dct['meta_id'] = 426\n",
    "        return super().__new__(cls, name, bases, dct)\n",
    "\n",
    "class ClassWithMeta426(metaclass=Meta426):\n",
    "    def show_meta_id(self):\n",
    "        return self.meta_id\n",
    "\n",
    "obj426 = ClassWithMeta426()\n",
    "obj426.show_meta_id()"
   ]
  },
  {
   "cell_type": "code",
   "execution_count": null,
   "id": "2ddc8cab",
   "metadata": {},
   "outputs": [],
   "source": [
    "class Meta427(type):\n",
    "    def __new__(cls, name, bases, dct):\n",
    "        dct['meta_id'] = 427\n",
    "        return super().__new__(cls, name, bases, dct)\n",
    "\n",
    "class ClassWithMeta427(metaclass=Meta427):\n",
    "    def show_meta_id(self):\n",
    "        return self.meta_id\n",
    "\n",
    "obj427 = ClassWithMeta427()\n",
    "obj427.show_meta_id()"
   ]
  },
  {
   "cell_type": "code",
   "execution_count": null,
   "id": "5753296b",
   "metadata": {},
   "outputs": [],
   "source": [
    "class Meta428(type):\n",
    "    def __new__(cls, name, bases, dct):\n",
    "        dct['meta_id'] = 428\n",
    "        return super().__new__(cls, name, bases, dct)\n",
    "\n",
    "class ClassWithMeta428(metaclass=Meta428):\n",
    "    def show_meta_id(self):\n",
    "        return self.meta_id\n",
    "\n",
    "obj428 = ClassWithMeta428()\n",
    "obj428.show_meta_id()"
   ]
  },
  {
   "cell_type": "code",
   "execution_count": null,
   "id": "b9af0b63",
   "metadata": {},
   "outputs": [],
   "source": [
    "class Meta429(type):\n",
    "    def __new__(cls, name, bases, dct):\n",
    "        dct['meta_id'] = 429\n",
    "        return super().__new__(cls, name, bases, dct)\n",
    "\n",
    "class ClassWithMeta429(metaclass=Meta429):\n",
    "    def show_meta_id(self):\n",
    "        return self.meta_id\n",
    "\n",
    "obj429 = ClassWithMeta429()\n",
    "obj429.show_meta_id()"
   ]
  },
  {
   "cell_type": "code",
   "execution_count": null,
   "id": "a2272957",
   "metadata": {},
   "outputs": [],
   "source": [
    "class Meta430(type):\n",
    "    def __new__(cls, name, bases, dct):\n",
    "        dct['meta_id'] = 430\n",
    "        return super().__new__(cls, name, bases, dct)\n",
    "\n",
    "class ClassWithMeta430(metaclass=Meta430):\n",
    "    def show_meta_id(self):\n",
    "        return self.meta_id\n",
    "\n",
    "obj430 = ClassWithMeta430()\n",
    "obj430.show_meta_id()"
   ]
  },
  {
   "cell_type": "code",
   "execution_count": null,
   "id": "0454640f",
   "metadata": {},
   "outputs": [],
   "source": [
    "class Meta431(type):\n",
    "    def __new__(cls, name, bases, dct):\n",
    "        dct['meta_id'] = 431\n",
    "        return super().__new__(cls, name, bases, dct)\n",
    "\n",
    "class ClassWithMeta431(metaclass=Meta431):\n",
    "    def show_meta_id(self):\n",
    "        return self.meta_id\n",
    "\n",
    "obj431 = ClassWithMeta431()\n",
    "obj431.show_meta_id()"
   ]
  },
  {
   "cell_type": "code",
   "execution_count": null,
   "id": "95fa2931",
   "metadata": {},
   "outputs": [],
   "source": [
    "class Meta432(type):\n",
    "    def __new__(cls, name, bases, dct):\n",
    "        dct['meta_id'] = 432\n",
    "        return super().__new__(cls, name, bases, dct)\n",
    "\n",
    "class ClassWithMeta432(metaclass=Meta432):\n",
    "    def show_meta_id(self):\n",
    "        return self.meta_id\n",
    "\n",
    "obj432 = ClassWithMeta432()\n",
    "obj432.show_meta_id()"
   ]
  },
  {
   "cell_type": "code",
   "execution_count": null,
   "id": "9760bebe",
   "metadata": {},
   "outputs": [],
   "source": [
    "class Meta433(type):\n",
    "    def __new__(cls, name, bases, dct):\n",
    "        dct['meta_id'] = 433\n",
    "        return super().__new__(cls, name, bases, dct)\n",
    "\n",
    "class ClassWithMeta433(metaclass=Meta433):\n",
    "    def show_meta_id(self):\n",
    "        return self.meta_id\n",
    "\n",
    "obj433 = ClassWithMeta433()\n",
    "obj433.show_meta_id()"
   ]
  },
  {
   "cell_type": "code",
   "execution_count": null,
   "id": "880af825",
   "metadata": {},
   "outputs": [],
   "source": [
    "class Meta434(type):\n",
    "    def __new__(cls, name, bases, dct):\n",
    "        dct['meta_id'] = 434\n",
    "        return super().__new__(cls, name, bases, dct)\n",
    "\n",
    "class ClassWithMeta434(metaclass=Meta434):\n",
    "    def show_meta_id(self):\n",
    "        return self.meta_id\n",
    "\n",
    "obj434 = ClassWithMeta434()\n",
    "obj434.show_meta_id()"
   ]
  },
  {
   "cell_type": "code",
   "execution_count": null,
   "id": "9ec18ace",
   "metadata": {},
   "outputs": [],
   "source": [
    "class Meta435(type):\n",
    "    def __new__(cls, name, bases, dct):\n",
    "        dct['meta_id'] = 435\n",
    "        return super().__new__(cls, name, bases, dct)\n",
    "\n",
    "class ClassWithMeta435(metaclass=Meta435):\n",
    "    def show_meta_id(self):\n",
    "        return self.meta_id\n",
    "\n",
    "obj435 = ClassWithMeta435()\n",
    "obj435.show_meta_id()"
   ]
  },
  {
   "cell_type": "code",
   "execution_count": null,
   "id": "43967eb6",
   "metadata": {},
   "outputs": [],
   "source": [
    "class Meta436(type):\n",
    "    def __new__(cls, name, bases, dct):\n",
    "        dct['meta_id'] = 436\n",
    "        return super().__new__(cls, name, bases, dct)\n",
    "\n",
    "class ClassWithMeta436(metaclass=Meta436):\n",
    "    def show_meta_id(self):\n",
    "        return self.meta_id\n",
    "\n",
    "obj436 = ClassWithMeta436()\n",
    "obj436.show_meta_id()"
   ]
  },
  {
   "cell_type": "code",
   "execution_count": null,
   "id": "f9a85394",
   "metadata": {},
   "outputs": [],
   "source": [
    "class Meta437(type):\n",
    "    def __new__(cls, name, bases, dct):\n",
    "        dct['meta_id'] = 437\n",
    "        return super().__new__(cls, name, bases, dct)\n",
    "\n",
    "class ClassWithMeta437(metaclass=Meta437):\n",
    "    def show_meta_id(self):\n",
    "        return self.meta_id\n",
    "\n",
    "obj437 = ClassWithMeta437()\n",
    "obj437.show_meta_id()"
   ]
  },
  {
   "cell_type": "code",
   "execution_count": null,
   "id": "824df8ca",
   "metadata": {},
   "outputs": [],
   "source": [
    "class Meta438(type):\n",
    "    def __new__(cls, name, bases, dct):\n",
    "        dct['meta_id'] = 438\n",
    "        return super().__new__(cls, name, bases, dct)\n",
    "\n",
    "class ClassWithMeta438(metaclass=Meta438):\n",
    "    def show_meta_id(self):\n",
    "        return self.meta_id\n",
    "\n",
    "obj438 = ClassWithMeta438()\n",
    "obj438.show_meta_id()"
   ]
  },
  {
   "cell_type": "code",
   "execution_count": null,
   "id": "14b35e8b",
   "metadata": {},
   "outputs": [],
   "source": [
    "class Meta439(type):\n",
    "    def __new__(cls, name, bases, dct):\n",
    "        dct['meta_id'] = 439\n",
    "        return super().__new__(cls, name, bases, dct)\n",
    "\n",
    "class ClassWithMeta439(metaclass=Meta439):\n",
    "    def show_meta_id(self):\n",
    "        return self.meta_id\n",
    "\n",
    "obj439 = ClassWithMeta439()\n",
    "obj439.show_meta_id()"
   ]
  },
  {
   "cell_type": "code",
   "execution_count": null,
   "id": "1d8668bc",
   "metadata": {},
   "outputs": [],
   "source": [
    "class Meta440(type):\n",
    "    def __new__(cls, name, bases, dct):\n",
    "        dct['meta_id'] = 440\n",
    "        return super().__new__(cls, name, bases, dct)\n",
    "\n",
    "class ClassWithMeta440(metaclass=Meta440):\n",
    "    def show_meta_id(self):\n",
    "        return self.meta_id\n",
    "\n",
    "obj440 = ClassWithMeta440()\n",
    "obj440.show_meta_id()"
   ]
  },
  {
   "cell_type": "code",
   "execution_count": null,
   "id": "2591aa07",
   "metadata": {},
   "outputs": [],
   "source": [
    "class Meta441(type):\n",
    "    def __new__(cls, name, bases, dct):\n",
    "        dct['meta_id'] = 441\n",
    "        return super().__new__(cls, name, bases, dct)\n",
    "\n",
    "class ClassWithMeta441(metaclass=Meta441):\n",
    "    def show_meta_id(self):\n",
    "        return self.meta_id\n",
    "\n",
    "obj441 = ClassWithMeta441()\n",
    "obj441.show_meta_id()"
   ]
  },
  {
   "cell_type": "code",
   "execution_count": null,
   "id": "aac924ea",
   "metadata": {},
   "outputs": [],
   "source": [
    "class Meta442(type):\n",
    "    def __new__(cls, name, bases, dct):\n",
    "        dct['meta_id'] = 442\n",
    "        return super().__new__(cls, name, bases, dct)\n",
    "\n",
    "class ClassWithMeta442(metaclass=Meta442):\n",
    "    def show_meta_id(self):\n",
    "        return self.meta_id\n",
    "\n",
    "obj442 = ClassWithMeta442()\n",
    "obj442.show_meta_id()"
   ]
  },
  {
   "cell_type": "code",
   "execution_count": null,
   "id": "17b34611",
   "metadata": {},
   "outputs": [],
   "source": [
    "class Meta443(type):\n",
    "    def __new__(cls, name, bases, dct):\n",
    "        dct['meta_id'] = 443\n",
    "        return super().__new__(cls, name, bases, dct)\n",
    "\n",
    "class ClassWithMeta443(metaclass=Meta443):\n",
    "    def show_meta_id(self):\n",
    "        return self.meta_id\n",
    "\n",
    "obj443 = ClassWithMeta443()\n",
    "obj443.show_meta_id()"
   ]
  },
  {
   "cell_type": "code",
   "execution_count": null,
   "id": "fbfdedf8",
   "metadata": {},
   "outputs": [],
   "source": [
    "class Meta444(type):\n",
    "    def __new__(cls, name, bases, dct):\n",
    "        dct['meta_id'] = 444\n",
    "        return super().__new__(cls, name, bases, dct)\n",
    "\n",
    "class ClassWithMeta444(metaclass=Meta444):\n",
    "    def show_meta_id(self):\n",
    "        return self.meta_id\n",
    "\n",
    "obj444 = ClassWithMeta444()\n",
    "obj444.show_meta_id()"
   ]
  },
  {
   "cell_type": "code",
   "execution_count": null,
   "id": "89b36e30",
   "metadata": {},
   "outputs": [],
   "source": [
    "class Meta445(type):\n",
    "    def __new__(cls, name, bases, dct):\n",
    "        dct['meta_id'] = 445\n",
    "        return super().__new__(cls, name, bases, dct)\n",
    "\n",
    "class ClassWithMeta445(metaclass=Meta445):\n",
    "    def show_meta_id(self):\n",
    "        return self.meta_id\n",
    "\n",
    "obj445 = ClassWithMeta445()\n",
    "obj445.show_meta_id()"
   ]
  },
  {
   "cell_type": "code",
   "execution_count": null,
   "id": "de315a0b",
   "metadata": {},
   "outputs": [],
   "source": [
    "class Meta446(type):\n",
    "    def __new__(cls, name, bases, dct):\n",
    "        dct['meta_id'] = 446\n",
    "        return super().__new__(cls, name, bases, dct)\n",
    "\n",
    "class ClassWithMeta446(metaclass=Meta446):\n",
    "    def show_meta_id(self):\n",
    "        return self.meta_id\n",
    "\n",
    "obj446 = ClassWithMeta446()\n",
    "obj446.show_meta_id()"
   ]
  },
  {
   "cell_type": "code",
   "execution_count": null,
   "id": "ae22f0f6",
   "metadata": {},
   "outputs": [],
   "source": [
    "class Meta447(type):\n",
    "    def __new__(cls, name, bases, dct):\n",
    "        dct['meta_id'] = 447\n",
    "        return super().__new__(cls, name, bases, dct)\n",
    "\n",
    "class ClassWithMeta447(metaclass=Meta447):\n",
    "    def show_meta_id(self):\n",
    "        return self.meta_id\n",
    "\n",
    "obj447 = ClassWithMeta447()\n",
    "obj447.show_meta_id()"
   ]
  },
  {
   "cell_type": "code",
   "execution_count": null,
   "id": "f855df21",
   "metadata": {},
   "outputs": [],
   "source": [
    "class Meta448(type):\n",
    "    def __new__(cls, name, bases, dct):\n",
    "        dct['meta_id'] = 448\n",
    "        return super().__new__(cls, name, bases, dct)\n",
    "\n",
    "class ClassWithMeta448(metaclass=Meta448):\n",
    "    def show_meta_id(self):\n",
    "        return self.meta_id\n",
    "\n",
    "obj448 = ClassWithMeta448()\n",
    "obj448.show_meta_id()"
   ]
  },
  {
   "cell_type": "code",
   "execution_count": null,
   "id": "36aeff87",
   "metadata": {},
   "outputs": [],
   "source": [
    "class Meta449(type):\n",
    "    def __new__(cls, name, bases, dct):\n",
    "        dct['meta_id'] = 449\n",
    "        return super().__new__(cls, name, bases, dct)\n",
    "\n",
    "class ClassWithMeta449(metaclass=Meta449):\n",
    "    def show_meta_id(self):\n",
    "        return self.meta_id\n",
    "\n",
    "obj449 = ClassWithMeta449()\n",
    "obj449.show_meta_id()"
   ]
  },
  {
   "cell_type": "code",
   "execution_count": null,
   "id": "bc908d4d",
   "metadata": {},
   "outputs": [],
   "source": [
    "class Meta450(type):\n",
    "    def __new__(cls, name, bases, dct):\n",
    "        dct['meta_id'] = 450\n",
    "        return super().__new__(cls, name, bases, dct)\n",
    "\n",
    "class ClassWithMeta450(metaclass=Meta450):\n",
    "    def show_meta_id(self):\n",
    "        return self.meta_id\n",
    "\n",
    "obj450 = ClassWithMeta450()\n",
    "obj450.show_meta_id()"
   ]
  },
  {
   "cell_type": "code",
   "execution_count": null,
   "id": "5b8be94a",
   "metadata": {},
   "outputs": [],
   "source": [
    "class Meta451(type):\n",
    "    def __new__(cls, name, bases, dct):\n",
    "        dct['meta_id'] = 451\n",
    "        return super().__new__(cls, name, bases, dct)\n",
    "\n",
    "class ClassWithMeta451(metaclass=Meta451):\n",
    "    def show_meta_id(self):\n",
    "        return self.meta_id\n",
    "\n",
    "obj451 = ClassWithMeta451()\n",
    "obj451.show_meta_id()"
   ]
  },
  {
   "cell_type": "code",
   "execution_count": null,
   "id": "4fd5d3ec",
   "metadata": {},
   "outputs": [],
   "source": [
    "class Meta452(type):\n",
    "    def __new__(cls, name, bases, dct):\n",
    "        dct['meta_id'] = 452\n",
    "        return super().__new__(cls, name, bases, dct)\n",
    "\n",
    "class ClassWithMeta452(metaclass=Meta452):\n",
    "    def show_meta_id(self):\n",
    "        return self.meta_id\n",
    "\n",
    "obj452 = ClassWithMeta452()\n",
    "obj452.show_meta_id()"
   ]
  },
  {
   "cell_type": "code",
   "execution_count": null,
   "id": "81039ef8",
   "metadata": {},
   "outputs": [],
   "source": [
    "class Meta453(type):\n",
    "    def __new__(cls, name, bases, dct):\n",
    "        dct['meta_id'] = 453\n",
    "        return super().__new__(cls, name, bases, dct)\n",
    "\n",
    "class ClassWithMeta453(metaclass=Meta453):\n",
    "    def show_meta_id(self):\n",
    "        return self.meta_id\n",
    "\n",
    "obj453 = ClassWithMeta453()\n",
    "obj453.show_meta_id()"
   ]
  },
  {
   "cell_type": "code",
   "execution_count": null,
   "id": "74859a59",
   "metadata": {},
   "outputs": [],
   "source": [
    "class Meta454(type):\n",
    "    def __new__(cls, name, bases, dct):\n",
    "        dct['meta_id'] = 454\n",
    "        return super().__new__(cls, name, bases, dct)\n",
    "\n",
    "class ClassWithMeta454(metaclass=Meta454):\n",
    "    def show_meta_id(self):\n",
    "        return self.meta_id\n",
    "\n",
    "obj454 = ClassWithMeta454()\n",
    "obj454.show_meta_id()"
   ]
  },
  {
   "cell_type": "code",
   "execution_count": null,
   "id": "43725a07",
   "metadata": {},
   "outputs": [],
   "source": [
    "class Meta455(type):\n",
    "    def __new__(cls, name, bases, dct):\n",
    "        dct['meta_id'] = 455\n",
    "        return super().__new__(cls, name, bases, dct)\n",
    "\n",
    "class ClassWithMeta455(metaclass=Meta455):\n",
    "    def show_meta_id(self):\n",
    "        return self.meta_id\n",
    "\n",
    "obj455 = ClassWithMeta455()\n",
    "obj455.show_meta_id()"
   ]
  },
  {
   "cell_type": "code",
   "execution_count": null,
   "id": "4bdbe748",
   "metadata": {},
   "outputs": [],
   "source": [
    "class Meta456(type):\n",
    "    def __new__(cls, name, bases, dct):\n",
    "        dct['meta_id'] = 456\n",
    "        return super().__new__(cls, name, bases, dct)\n",
    "\n",
    "class ClassWithMeta456(metaclass=Meta456):\n",
    "    def show_meta_id(self):\n",
    "        return self.meta_id\n",
    "\n",
    "obj456 = ClassWithMeta456()\n",
    "obj456.show_meta_id()"
   ]
  },
  {
   "cell_type": "code",
   "execution_count": null,
   "id": "092f4a77",
   "metadata": {},
   "outputs": [],
   "source": [
    "class Meta457(type):\n",
    "    def __new__(cls, name, bases, dct):\n",
    "        dct['meta_id'] = 457\n",
    "        return super().__new__(cls, name, bases, dct)\n",
    "\n",
    "class ClassWithMeta457(metaclass=Meta457):\n",
    "    def show_meta_id(self):\n",
    "        return self.meta_id\n",
    "\n",
    "obj457 = ClassWithMeta457()\n",
    "obj457.show_meta_id()"
   ]
  },
  {
   "cell_type": "code",
   "execution_count": null,
   "id": "bb6cb855",
   "metadata": {},
   "outputs": [],
   "source": [
    "class Meta458(type):\n",
    "    def __new__(cls, name, bases, dct):\n",
    "        dct['meta_id'] = 458\n",
    "        return super().__new__(cls, name, bases, dct)\n",
    "\n",
    "class ClassWithMeta458(metaclass=Meta458):\n",
    "    def show_meta_id(self):\n",
    "        return self.meta_id\n",
    "\n",
    "obj458 = ClassWithMeta458()\n",
    "obj458.show_meta_id()"
   ]
  },
  {
   "cell_type": "code",
   "execution_count": null,
   "id": "466d2e28",
   "metadata": {},
   "outputs": [],
   "source": [
    "class Meta459(type):\n",
    "    def __new__(cls, name, bases, dct):\n",
    "        dct['meta_id'] = 459\n",
    "        return super().__new__(cls, name, bases, dct)\n",
    "\n",
    "class ClassWithMeta459(metaclass=Meta459):\n",
    "    def show_meta_id(self):\n",
    "        return self.meta_id\n",
    "\n",
    "obj459 = ClassWithMeta459()\n",
    "obj459.show_meta_id()"
   ]
  },
  {
   "cell_type": "code",
   "execution_count": null,
   "id": "50236f53",
   "metadata": {},
   "outputs": [],
   "source": [
    "class Meta460(type):\n",
    "    def __new__(cls, name, bases, dct):\n",
    "        dct['meta_id'] = 460\n",
    "        return super().__new__(cls, name, bases, dct)\n",
    "\n",
    "class ClassWithMeta460(metaclass=Meta460):\n",
    "    def show_meta_id(self):\n",
    "        return self.meta_id\n",
    "\n",
    "obj460 = ClassWithMeta460()\n",
    "obj460.show_meta_id()"
   ]
  },
  {
   "cell_type": "code",
   "execution_count": null,
   "id": "21e8309c",
   "metadata": {},
   "outputs": [],
   "source": [
    "class Meta461(type):\n",
    "    def __new__(cls, name, bases, dct):\n",
    "        dct['meta_id'] = 461\n",
    "        return super().__new__(cls, name, bases, dct)\n",
    "\n",
    "class ClassWithMeta461(metaclass=Meta461):\n",
    "    def show_meta_id(self):\n",
    "        return self.meta_id\n",
    "\n",
    "obj461 = ClassWithMeta461()\n",
    "obj461.show_meta_id()"
   ]
  },
  {
   "cell_type": "code",
   "execution_count": null,
   "id": "e1d2bc56",
   "metadata": {},
   "outputs": [],
   "source": [
    "class Meta462(type):\n",
    "    def __new__(cls, name, bases, dct):\n",
    "        dct['meta_id'] = 462\n",
    "        return super().__new__(cls, name, bases, dct)\n",
    "\n",
    "class ClassWithMeta462(metaclass=Meta462):\n",
    "    def show_meta_id(self):\n",
    "        return self.meta_id\n",
    "\n",
    "obj462 = ClassWithMeta462()\n",
    "obj462.show_meta_id()"
   ]
  },
  {
   "cell_type": "code",
   "execution_count": null,
   "id": "0be18c29",
   "metadata": {},
   "outputs": [],
   "source": [
    "class Meta463(type):\n",
    "    def __new__(cls, name, bases, dct):\n",
    "        dct['meta_id'] = 463\n",
    "        return super().__new__(cls, name, bases, dct)\n",
    "\n",
    "class ClassWithMeta463(metaclass=Meta463):\n",
    "    def show_meta_id(self):\n",
    "        return self.meta_id\n",
    "\n",
    "obj463 = ClassWithMeta463()\n",
    "obj463.show_meta_id()"
   ]
  },
  {
   "cell_type": "code",
   "execution_count": null,
   "id": "e0e68ae4",
   "metadata": {},
   "outputs": [],
   "source": [
    "class Meta464(type):\n",
    "    def __new__(cls, name, bases, dct):\n",
    "        dct['meta_id'] = 464\n",
    "        return super().__new__(cls, name, bases, dct)\n",
    "\n",
    "class ClassWithMeta464(metaclass=Meta464):\n",
    "    def show_meta_id(self):\n",
    "        return self.meta_id\n",
    "\n",
    "obj464 = ClassWithMeta464()\n",
    "obj464.show_meta_id()"
   ]
  },
  {
   "cell_type": "code",
   "execution_count": null,
   "id": "1377262a",
   "metadata": {},
   "outputs": [],
   "source": [
    "class Meta465(type):\n",
    "    def __new__(cls, name, bases, dct):\n",
    "        dct['meta_id'] = 465\n",
    "        return super().__new__(cls, name, bases, dct)\n",
    "\n",
    "class ClassWithMeta465(metaclass=Meta465):\n",
    "    def show_meta_id(self):\n",
    "        return self.meta_id\n",
    "\n",
    "obj465 = ClassWithMeta465()\n",
    "obj465.show_meta_id()"
   ]
  },
  {
   "cell_type": "code",
   "execution_count": null,
   "id": "cb6017ca",
   "metadata": {},
   "outputs": [],
   "source": [
    "class Meta466(type):\n",
    "    def __new__(cls, name, bases, dct):\n",
    "        dct['meta_id'] = 466\n",
    "        return super().__new__(cls, name, bases, dct)\n",
    "\n",
    "class ClassWithMeta466(metaclass=Meta466):\n",
    "    def show_meta_id(self):\n",
    "        return self.meta_id\n",
    "\n",
    "obj466 = ClassWithMeta466()\n",
    "obj466.show_meta_id()"
   ]
  },
  {
   "cell_type": "code",
   "execution_count": null,
   "id": "2e7d2bfa",
   "metadata": {},
   "outputs": [],
   "source": [
    "class Meta467(type):\n",
    "    def __new__(cls, name, bases, dct):\n",
    "        dct['meta_id'] = 467\n",
    "        return super().__new__(cls, name, bases, dct)\n",
    "\n",
    "class ClassWithMeta467(metaclass=Meta467):\n",
    "    def show_meta_id(self):\n",
    "        return self.meta_id\n",
    "\n",
    "obj467 = ClassWithMeta467()\n",
    "obj467.show_meta_id()"
   ]
  },
  {
   "cell_type": "code",
   "execution_count": null,
   "id": "18d81ae1",
   "metadata": {},
   "outputs": [],
   "source": [
    "class Meta468(type):\n",
    "    def __new__(cls, name, bases, dct):\n",
    "        dct['meta_id'] = 468\n",
    "        return super().__new__(cls, name, bases, dct)\n",
    "\n",
    "class ClassWithMeta468(metaclass=Meta468):\n",
    "    def show_meta_id(self):\n",
    "        return self.meta_id\n",
    "\n",
    "obj468 = ClassWithMeta468()\n",
    "obj468.show_meta_id()"
   ]
  },
  {
   "cell_type": "code",
   "execution_count": null,
   "id": "2663f198",
   "metadata": {},
   "outputs": [],
   "source": [
    "class Meta469(type):\n",
    "    def __new__(cls, name, bases, dct):\n",
    "        dct['meta_id'] = 469\n",
    "        return super().__new__(cls, name, bases, dct)\n",
    "\n",
    "class ClassWithMeta469(metaclass=Meta469):\n",
    "    def show_meta_id(self):\n",
    "        return self.meta_id\n",
    "\n",
    "obj469 = ClassWithMeta469()\n",
    "obj469.show_meta_id()"
   ]
  },
  {
   "cell_type": "code",
   "execution_count": null,
   "id": "4b2d08a2",
   "metadata": {},
   "outputs": [],
   "source": [
    "class Meta470(type):\n",
    "    def __new__(cls, name, bases, dct):\n",
    "        dct['meta_id'] = 470\n",
    "        return super().__new__(cls, name, bases, dct)\n",
    "\n",
    "class ClassWithMeta470(metaclass=Meta470):\n",
    "    def show_meta_id(self):\n",
    "        return self.meta_id\n",
    "\n",
    "obj470 = ClassWithMeta470()\n",
    "obj470.show_meta_id()"
   ]
  },
  {
   "cell_type": "code",
   "execution_count": null,
   "id": "3e49e990",
   "metadata": {},
   "outputs": [],
   "source": [
    "class Meta471(type):\n",
    "    def __new__(cls, name, bases, dct):\n",
    "        dct['meta_id'] = 471\n",
    "        return super().__new__(cls, name, bases, dct)\n",
    "\n",
    "class ClassWithMeta471(metaclass=Meta471):\n",
    "    def show_meta_id(self):\n",
    "        return self.meta_id\n",
    "\n",
    "obj471 = ClassWithMeta471()\n",
    "obj471.show_meta_id()"
   ]
  },
  {
   "cell_type": "code",
   "execution_count": null,
   "id": "a86e82a7",
   "metadata": {},
   "outputs": [],
   "source": [
    "class Meta472(type):\n",
    "    def __new__(cls, name, bases, dct):\n",
    "        dct['meta_id'] = 472\n",
    "        return super().__new__(cls, name, bases, dct)\n",
    "\n",
    "class ClassWithMeta472(metaclass=Meta472):\n",
    "    def show_meta_id(self):\n",
    "        return self.meta_id\n",
    "\n",
    "obj472 = ClassWithMeta472()\n",
    "obj472.show_meta_id()"
   ]
  },
  {
   "cell_type": "code",
   "execution_count": null,
   "id": "792a3775",
   "metadata": {},
   "outputs": [],
   "source": [
    "class Meta473(type):\n",
    "    def __new__(cls, name, bases, dct):\n",
    "        dct['meta_id'] = 473\n",
    "        return super().__new__(cls, name, bases, dct)\n",
    "\n",
    "class ClassWithMeta473(metaclass=Meta473):\n",
    "    def show_meta_id(self):\n",
    "        return self.meta_id\n",
    "\n",
    "obj473 = ClassWithMeta473()\n",
    "obj473.show_meta_id()"
   ]
  },
  {
   "cell_type": "code",
   "execution_count": null,
   "id": "cb02fe0d",
   "metadata": {},
   "outputs": [],
   "source": [
    "class Meta474(type):\n",
    "    def __new__(cls, name, bases, dct):\n",
    "        dct['meta_id'] = 474\n",
    "        return super().__new__(cls, name, bases, dct)\n",
    "\n",
    "class ClassWithMeta474(metaclass=Meta474):\n",
    "    def show_meta_id(self):\n",
    "        return self.meta_id\n",
    "\n",
    "obj474 = ClassWithMeta474()\n",
    "obj474.show_meta_id()"
   ]
  },
  {
   "cell_type": "code",
   "execution_count": null,
   "id": "5d1edc59",
   "metadata": {},
   "outputs": [],
   "source": [
    "class Meta475(type):\n",
    "    def __new__(cls, name, bases, dct):\n",
    "        dct['meta_id'] = 475\n",
    "        return super().__new__(cls, name, bases, dct)\n",
    "\n",
    "class ClassWithMeta475(metaclass=Meta475):\n",
    "    def show_meta_id(self):\n",
    "        return self.meta_id\n",
    "\n",
    "obj475 = ClassWithMeta475()\n",
    "obj475.show_meta_id()"
   ]
  },
  {
   "cell_type": "code",
   "execution_count": null,
   "id": "894d9e75",
   "metadata": {},
   "outputs": [],
   "source": [
    "class Meta476(type):\n",
    "    def __new__(cls, name, bases, dct):\n",
    "        dct['meta_id'] = 476\n",
    "        return super().__new__(cls, name, bases, dct)\n",
    "\n",
    "class ClassWithMeta476(metaclass=Meta476):\n",
    "    def show_meta_id(self):\n",
    "        return self.meta_id\n",
    "\n",
    "obj476 = ClassWithMeta476()\n",
    "obj476.show_meta_id()"
   ]
  },
  {
   "cell_type": "code",
   "execution_count": null,
   "id": "b99cde4a",
   "metadata": {},
   "outputs": [],
   "source": [
    "class Meta477(type):\n",
    "    def __new__(cls, name, bases, dct):\n",
    "        dct['meta_id'] = 477\n",
    "        return super().__new__(cls, name, bases, dct)\n",
    "\n",
    "class ClassWithMeta477(metaclass=Meta477):\n",
    "    def show_meta_id(self):\n",
    "        return self.meta_id\n",
    "\n",
    "obj477 = ClassWithMeta477()\n",
    "obj477.show_meta_id()"
   ]
  },
  {
   "cell_type": "code",
   "execution_count": null,
   "id": "686af71a",
   "metadata": {},
   "outputs": [],
   "source": [
    "class Meta478(type):\n",
    "    def __new__(cls, name, bases, dct):\n",
    "        dct['meta_id'] = 478\n",
    "        return super().__new__(cls, name, bases, dct)\n",
    "\n",
    "class ClassWithMeta478(metaclass=Meta478):\n",
    "    def show_meta_id(self):\n",
    "        return self.meta_id\n",
    "\n",
    "obj478 = ClassWithMeta478()\n",
    "obj478.show_meta_id()"
   ]
  },
  {
   "cell_type": "code",
   "execution_count": null,
   "id": "43c7cdbc",
   "metadata": {},
   "outputs": [],
   "source": [
    "class Meta479(type):\n",
    "    def __new__(cls, name, bases, dct):\n",
    "        dct['meta_id'] = 479\n",
    "        return super().__new__(cls, name, bases, dct)\n",
    "\n",
    "class ClassWithMeta479(metaclass=Meta479):\n",
    "    def show_meta_id(self):\n",
    "        return self.meta_id\n",
    "\n",
    "obj479 = ClassWithMeta479()\n",
    "obj479.show_meta_id()"
   ]
  },
  {
   "cell_type": "code",
   "execution_count": null,
   "id": "77d1480b",
   "metadata": {},
   "outputs": [],
   "source": [
    "class Meta480(type):\n",
    "    def __new__(cls, name, bases, dct):\n",
    "        dct['meta_id'] = 480\n",
    "        return super().__new__(cls, name, bases, dct)\n",
    "\n",
    "class ClassWithMeta480(metaclass=Meta480):\n",
    "    def show_meta_id(self):\n",
    "        return self.meta_id\n",
    "\n",
    "obj480 = ClassWithMeta480()\n",
    "obj480.show_meta_id()"
   ]
  },
  {
   "cell_type": "code",
   "execution_count": null,
   "id": "c492731d",
   "metadata": {},
   "outputs": [],
   "source": [
    "class Meta481(type):\n",
    "    def __new__(cls, name, bases, dct):\n",
    "        dct['meta_id'] = 481\n",
    "        return super().__new__(cls, name, bases, dct)\n",
    "\n",
    "class ClassWithMeta481(metaclass=Meta481):\n",
    "    def show_meta_id(self):\n",
    "        return self.meta_id\n",
    "\n",
    "obj481 = ClassWithMeta481()\n",
    "obj481.show_meta_id()"
   ]
  },
  {
   "cell_type": "code",
   "execution_count": null,
   "id": "6c4e0d63",
   "metadata": {},
   "outputs": [],
   "source": [
    "class Meta482(type):\n",
    "    def __new__(cls, name, bases, dct):\n",
    "        dct['meta_id'] = 482\n",
    "        return super().__new__(cls, name, bases, dct)\n",
    "\n",
    "class ClassWithMeta482(metaclass=Meta482):\n",
    "    def show_meta_id(self):\n",
    "        return self.meta_id\n",
    "\n",
    "obj482 = ClassWithMeta482()\n",
    "obj482.show_meta_id()"
   ]
  },
  {
   "cell_type": "code",
   "execution_count": null,
   "id": "4fce52f6",
   "metadata": {},
   "outputs": [],
   "source": [
    "class Meta483(type):\n",
    "    def __new__(cls, name, bases, dct):\n",
    "        dct['meta_id'] = 483\n",
    "        return super().__new__(cls, name, bases, dct)\n",
    "\n",
    "class ClassWithMeta483(metaclass=Meta483):\n",
    "    def show_meta_id(self):\n",
    "        return self.meta_id\n",
    "\n",
    "obj483 = ClassWithMeta483()\n",
    "obj483.show_meta_id()"
   ]
  },
  {
   "cell_type": "code",
   "execution_count": null,
   "id": "ff04269e",
   "metadata": {},
   "outputs": [],
   "source": [
    "class Meta484(type):\n",
    "    def __new__(cls, name, bases, dct):\n",
    "        dct['meta_id'] = 484\n",
    "        return super().__new__(cls, name, bases, dct)\n",
    "\n",
    "class ClassWithMeta484(metaclass=Meta484):\n",
    "    def show_meta_id(self):\n",
    "        return self.meta_id\n",
    "\n",
    "obj484 = ClassWithMeta484()\n",
    "obj484.show_meta_id()"
   ]
  },
  {
   "cell_type": "code",
   "execution_count": null,
   "id": "f99b6a66",
   "metadata": {},
   "outputs": [],
   "source": [
    "class Meta485(type):\n",
    "    def __new__(cls, name, bases, dct):\n",
    "        dct['meta_id'] = 485\n",
    "        return super().__new__(cls, name, bases, dct)\n",
    "\n",
    "class ClassWithMeta485(metaclass=Meta485):\n",
    "    def show_meta_id(self):\n",
    "        return self.meta_id\n",
    "\n",
    "obj485 = ClassWithMeta485()\n",
    "obj485.show_meta_id()"
   ]
  },
  {
   "cell_type": "code",
   "execution_count": null,
   "id": "1eabb837",
   "metadata": {},
   "outputs": [],
   "source": [
    "class Meta486(type):\n",
    "    def __new__(cls, name, bases, dct):\n",
    "        dct['meta_id'] = 486\n",
    "        return super().__new__(cls, name, bases, dct)\n",
    "\n",
    "class ClassWithMeta486(metaclass=Meta486):\n",
    "    def show_meta_id(self):\n",
    "        return self.meta_id\n",
    "\n",
    "obj486 = ClassWithMeta486()\n",
    "obj486.show_meta_id()"
   ]
  },
  {
   "cell_type": "code",
   "execution_count": null,
   "id": "1f32393d",
   "metadata": {},
   "outputs": [],
   "source": [
    "class Meta487(type):\n",
    "    def __new__(cls, name, bases, dct):\n",
    "        dct['meta_id'] = 487\n",
    "        return super().__new__(cls, name, bases, dct)\n",
    "\n",
    "class ClassWithMeta487(metaclass=Meta487):\n",
    "    def show_meta_id(self):\n",
    "        return self.meta_id\n",
    "\n",
    "obj487 = ClassWithMeta487()\n",
    "obj487.show_meta_id()"
   ]
  },
  {
   "cell_type": "code",
   "execution_count": null,
   "id": "f68c5df9",
   "metadata": {},
   "outputs": [],
   "source": [
    "class Meta488(type):\n",
    "    def __new__(cls, name, bases, dct):\n",
    "        dct['meta_id'] = 488\n",
    "        return super().__new__(cls, name, bases, dct)\n",
    "\n",
    "class ClassWithMeta488(metaclass=Meta488):\n",
    "    def show_meta_id(self):\n",
    "        return self.meta_id\n",
    "\n",
    "obj488 = ClassWithMeta488()\n",
    "obj488.show_meta_id()"
   ]
  },
  {
   "cell_type": "code",
   "execution_count": null,
   "id": "231da5e3",
   "metadata": {},
   "outputs": [],
   "source": [
    "class Meta489(type):\n",
    "    def __new__(cls, name, bases, dct):\n",
    "        dct['meta_id'] = 489\n",
    "        return super().__new__(cls, name, bases, dct)\n",
    "\n",
    "class ClassWithMeta489(metaclass=Meta489):\n",
    "    def show_meta_id(self):\n",
    "        return self.meta_id\n",
    "\n",
    "obj489 = ClassWithMeta489()\n",
    "obj489.show_meta_id()"
   ]
  },
  {
   "cell_type": "code",
   "execution_count": null,
   "id": "63ce23b0",
   "metadata": {},
   "outputs": [],
   "source": [
    "class Meta490(type):\n",
    "    def __new__(cls, name, bases, dct):\n",
    "        dct['meta_id'] = 490\n",
    "        return super().__new__(cls, name, bases, dct)\n",
    "\n",
    "class ClassWithMeta490(metaclass=Meta490):\n",
    "    def show_meta_id(self):\n",
    "        return self.meta_id\n",
    "\n",
    "obj490 = ClassWithMeta490()\n",
    "obj490.show_meta_id()"
   ]
  },
  {
   "cell_type": "code",
   "execution_count": null,
   "id": "c5a09e1b",
   "metadata": {},
   "outputs": [],
   "source": [
    "class Meta491(type):\n",
    "    def __new__(cls, name, bases, dct):\n",
    "        dct['meta_id'] = 491\n",
    "        return super().__new__(cls, name, bases, dct)\n",
    "\n",
    "class ClassWithMeta491(metaclass=Meta491):\n",
    "    def show_meta_id(self):\n",
    "        return self.meta_id\n",
    "\n",
    "obj491 = ClassWithMeta491()\n",
    "obj491.show_meta_id()"
   ]
  },
  {
   "cell_type": "code",
   "execution_count": null,
   "id": "6880af06",
   "metadata": {},
   "outputs": [],
   "source": [
    "class Meta492(type):\n",
    "    def __new__(cls, name, bases, dct):\n",
    "        dct['meta_id'] = 492\n",
    "        return super().__new__(cls, name, bases, dct)\n",
    "\n",
    "class ClassWithMeta492(metaclass=Meta492):\n",
    "    def show_meta_id(self):\n",
    "        return self.meta_id\n",
    "\n",
    "obj492 = ClassWithMeta492()\n",
    "obj492.show_meta_id()"
   ]
  },
  {
   "cell_type": "code",
   "execution_count": null,
   "id": "957bd62c",
   "metadata": {},
   "outputs": [],
   "source": [
    "class Meta493(type):\n",
    "    def __new__(cls, name, bases, dct):\n",
    "        dct['meta_id'] = 493\n",
    "        return super().__new__(cls, name, bases, dct)\n",
    "\n",
    "class ClassWithMeta493(metaclass=Meta493):\n",
    "    def show_meta_id(self):\n",
    "        return self.meta_id\n",
    "\n",
    "obj493 = ClassWithMeta493()\n",
    "obj493.show_meta_id()"
   ]
  },
  {
   "cell_type": "code",
   "execution_count": null,
   "id": "3c1be7c9",
   "metadata": {},
   "outputs": [],
   "source": [
    "class Meta494(type):\n",
    "    def __new__(cls, name, bases, dct):\n",
    "        dct['meta_id'] = 494\n",
    "        return super().__new__(cls, name, bases, dct)\n",
    "\n",
    "class ClassWithMeta494(metaclass=Meta494):\n",
    "    def show_meta_id(self):\n",
    "        return self.meta_id\n",
    "\n",
    "obj494 = ClassWithMeta494()\n",
    "obj494.show_meta_id()"
   ]
  },
  {
   "cell_type": "code",
   "execution_count": null,
   "id": "f45d0c16",
   "metadata": {},
   "outputs": [],
   "source": [
    "class Meta495(type):\n",
    "    def __new__(cls, name, bases, dct):\n",
    "        dct['meta_id'] = 495\n",
    "        return super().__new__(cls, name, bases, dct)\n",
    "\n",
    "class ClassWithMeta495(metaclass=Meta495):\n",
    "    def show_meta_id(self):\n",
    "        return self.meta_id\n",
    "\n",
    "obj495 = ClassWithMeta495()\n",
    "obj495.show_meta_id()"
   ]
  },
  {
   "cell_type": "code",
   "execution_count": null,
   "id": "651b0425",
   "metadata": {},
   "outputs": [],
   "source": [
    "class Meta496(type):\n",
    "    def __new__(cls, name, bases, dct):\n",
    "        dct['meta_id'] = 496\n",
    "        return super().__new__(cls, name, bases, dct)\n",
    "\n",
    "class ClassWithMeta496(metaclass=Meta496):\n",
    "    def show_meta_id(self):\n",
    "        return self.meta_id\n",
    "\n",
    "obj496 = ClassWithMeta496()\n",
    "obj496.show_meta_id()"
   ]
  },
  {
   "cell_type": "code",
   "execution_count": null,
   "id": "7d0b57fa",
   "metadata": {},
   "outputs": [],
   "source": [
    "class Meta497(type):\n",
    "    def __new__(cls, name, bases, dct):\n",
    "        dct['meta_id'] = 497\n",
    "        return super().__new__(cls, name, bases, dct)\n",
    "\n",
    "class ClassWithMeta497(metaclass=Meta497):\n",
    "    def show_meta_id(self):\n",
    "        return self.meta_id\n",
    "\n",
    "obj497 = ClassWithMeta497()\n",
    "obj497.show_meta_id()"
   ]
  },
  {
   "cell_type": "code",
   "execution_count": null,
   "id": "f08c5849",
   "metadata": {},
   "outputs": [],
   "source": [
    "class Meta498(type):\n",
    "    def __new__(cls, name, bases, dct):\n",
    "        dct['meta_id'] = 498\n",
    "        return super().__new__(cls, name, bases, dct)\n",
    "\n",
    "class ClassWithMeta498(metaclass=Meta498):\n",
    "    def show_meta_id(self):\n",
    "        return self.meta_id\n",
    "\n",
    "obj498 = ClassWithMeta498()\n",
    "obj498.show_meta_id()"
   ]
  },
  {
   "cell_type": "code",
   "execution_count": null,
   "id": "f08cddee",
   "metadata": {},
   "outputs": [],
   "source": [
    "class Meta499(type):\n",
    "    def __new__(cls, name, bases, dct):\n",
    "        dct['meta_id'] = 499\n",
    "        return super().__new__(cls, name, bases, dct)\n",
    "\n",
    "class ClassWithMeta499(metaclass=Meta499):\n",
    "    def show_meta_id(self):\n",
    "        return self.meta_id\n",
    "\n",
    "obj499 = ClassWithMeta499()\n",
    "obj499.show_meta_id()"
   ]
  },
  {
   "cell_type": "code",
   "execution_count": null,
   "id": "fadab10c",
   "metadata": {},
   "outputs": [],
   "source": [
    "class Meta500(type):\n",
    "    def __new__(cls, name, bases, dct):\n",
    "        dct['meta_id'] = 500\n",
    "        return super().__new__(cls, name, bases, dct)\n",
    "\n",
    "class ClassWithMeta500(metaclass=Meta500):\n",
    "    def show_meta_id(self):\n",
    "        return self.meta_id\n",
    "\n",
    "obj500 = ClassWithMeta500()\n",
    "obj500.show_meta_id()"
   ]
  }
 ],
 "metadata": {
  "kernelspec": {
   "display_name": "Python 3 (ipykernel)",
   "language": "python",
   "name": "python3"
  },
  "language_info": {
   "codemirror_mode": {
    "name": "ipython",
    "version": 3
   },
   "file_extension": ".py",
   "mimetype": "text/x-python",
   "name": "python",
   "nbconvert_exporter": "python",
   "pygments_lexer": "ipython3",
   "version": "3.12.11"
  }
 },
 "nbformat": 4,
 "nbformat_minor": 5
}
