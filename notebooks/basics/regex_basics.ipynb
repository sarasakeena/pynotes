{
 "cells": [
  {
   "cell_type": "code",
   "execution_count": 1,
   "id": "d8bbec74-57a5-4b08-ae4a-a5b4e7b7dcb9",
   "metadata": {},
   "outputs": [],
   "source": [
    "import re"
   ]
  },
  {
   "cell_type": "code",
   "execution_count": 2,
   "id": "23c04c30-b5a0-4cfb-a972-9c541c797887",
   "metadata": {},
   "outputs": [],
   "source": [
    "text = \"Contact us at sara123@gmail.com or call +91-9876543210\"\n"
   ]
  },
  {
   "cell_type": "code",
   "execution_count": 3,
   "id": "6edf2fbb-6ca9-42a0-855d-795be8152df6",
   "metadata": {},
   "outputs": [
    {
     "name": "stdout",
     "output_type": "stream",
     "text": [
      "Email: ['sara123@gmail.com']\n"
     ]
    }
   ],
   "source": [
    "email = re.findall(r\"[a-zA-Z0-9._]+@[a-z]+\\.[a-z]+\", text)\n",
    "print(\"Email:\", email)\n"
   ]
  },
  {
   "cell_type": "code",
   "execution_count": 4,
   "id": "c8394b8f-ac06-4ddf-849b-b16d05ec8756",
   "metadata": {},
   "outputs": [
    {
     "name": "stdout",
     "output_type": "stream",
     "text": [
      "Phone: ['+91-9876543210']\n"
     ]
    }
   ],
   "source": [
    "phone = re.findall(r\"\\+91-\\d{10}\", text)\n",
    "print(\"Phone:\", phone)"
   ]
  },
  {
   "cell_type": "code",
   "execution_count": null,
   "id": "8ae5e9f3-095e-40e7-9cc3-930173e5155d",
   "metadata": {},
   "outputs": [],
   "source": [
    "Regex is used for pattern matching.\n",
    "Useful in scraping, validation.\n"
   ]
  }
 ],
 "metadata": {
  "kernelspec": {
   "display_name": "Python 3 (ipykernel)",
   "language": "python",
   "name": "python3"
  },
  "language_info": {
   "codemirror_mode": {
    "name": "ipython",
    "version": 3
   },
   "file_extension": ".py",
   "mimetype": "text/x-python",
   "name": "python",
   "nbconvert_exporter": "python",
   "pygments_lexer": "ipython3",
   "version": "3.12.11"
  }
 },
 "nbformat": 4,
 "nbformat_minor": 5
}
