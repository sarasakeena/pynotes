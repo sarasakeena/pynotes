{
 "cells": [
  {
   "cell_type": "code",
   "execution_count": null,
   "id": "450aaf7e",
   "metadata": {},
   "outputs": [],
   "source": [
    "d = {}"
   ]
  },
  {
   "cell_type": "code",
   "execution_count": null,
   "id": "02a4a413",
   "metadata": {},
   "outputs": [],
   "source": [
    "d['a'] = 1"
   ]
  },
  {
   "cell_type": "code",
   "execution_count": null,
   "id": "76d779c3",
   "metadata": {},
   "outputs": [],
   "source": [
    "d['b'] = 2"
   ]
  },
  {
   "cell_type": "code",
   "execution_count": null,
   "id": "cd2bf25c",
   "metadata": {},
   "outputs": [],
   "source": [
    "print(d)"
   ]
  },
  {
   "cell_type": "code",
   "execution_count": null,
   "id": "1555d27a",
   "metadata": {},
   "outputs": [],
   "source": [
    "print(d['a'])"
   ]
  },
  {
   "cell_type": "code",
   "execution_count": null,
   "id": "ce40f8da",
   "metadata": {},
   "outputs": [],
   "source": [
    "d['c'] = 3"
   ]
  },
  {
   "cell_type": "code",
   "execution_count": null,
   "id": "34b23cd4",
   "metadata": {},
   "outputs": [],
   "source": [
    "d['a'] = 100"
   ]
  },
  {
   "cell_type": "code",
   "execution_count": null,
   "id": "70b787cb",
   "metadata": {},
   "outputs": [],
   "source": [
    "print(d)"
   ]
  },
  {
   "cell_type": "code",
   "execution_count": null,
   "id": "2c191d49",
   "metadata": {},
   "outputs": [],
   "source": [
    "del d['b']"
   ]
  },
  {
   "cell_type": "code",
   "execution_count": null,
   "id": "f00bda8e",
   "metadata": {},
   "outputs": [],
   "source": [
    "print(d)"
   ]
  },
  {
   "cell_type": "code",
   "execution_count": null,
   "id": "d433adc4",
   "metadata": {},
   "outputs": [],
   "source": [
    "len(d)"
   ]
  },
  {
   "cell_type": "code",
   "execution_count": null,
   "id": "d9822273",
   "metadata": {},
   "outputs": [],
   "source": [
    "d.get('a')"
   ]
  },
  {
   "cell_type": "code",
   "execution_count": null,
   "id": "93bd3def",
   "metadata": {},
   "outputs": [],
   "source": [
    "d.get('z', 'not found')"
   ]
  },
  {
   "cell_type": "code",
   "execution_count": null,
   "id": "0d2ada2a",
   "metadata": {},
   "outputs": [],
   "source": [
    "'c' in d"
   ]
  },
  {
   "cell_type": "code",
   "execution_count": null,
   "id": "96d3448a",
   "metadata": {},
   "outputs": [],
   "source": [
    "'z' in d"
   ]
  },
  {
   "cell_type": "code",
   "execution_count": null,
   "id": "af906cc3",
   "metadata": {},
   "outputs": [],
   "source": [
    "d.keys()"
   ]
  },
  {
   "cell_type": "code",
   "execution_count": null,
   "id": "2e2b1881",
   "metadata": {},
   "outputs": [],
   "source": [
    "d.values()"
   ]
  },
  {
   "cell_type": "code",
   "execution_count": null,
   "id": "4ad3cc79",
   "metadata": {},
   "outputs": [],
   "source": [
    "d.items()"
   ]
  },
  {
   "cell_type": "code",
   "execution_count": null,
   "id": "bf1ca98d",
   "metadata": {},
   "outputs": [],
   "source": [
    "for key in d: print(key)"
   ]
  },
  {
   "cell_type": "code",
   "execution_count": null,
   "id": "845a7743",
   "metadata": {},
   "outputs": [],
   "source": [
    "for value in d.values(): print(value)"
   ]
  },
  {
   "cell_type": "code",
   "execution_count": null,
   "id": "29179a1a",
   "metadata": {},
   "outputs": [],
   "source": [
    "for k, v in d.items(): print(k, v)"
   ]
  },
  {
   "cell_type": "code",
   "execution_count": null,
   "id": "0e04c0b2",
   "metadata": {},
   "outputs": [],
   "source": [
    "dict1 = {'x': 1, 'y': 2}"
   ]
  },
  {
   "cell_type": "code",
   "execution_count": null,
   "id": "d20cd3ac",
   "metadata": {},
   "outputs": [],
   "source": [
    "dict2 = {'y': 3, 'z': 4}"
   ]
  },
  {
   "cell_type": "code",
   "execution_count": null,
   "id": "f188841d",
   "metadata": {},
   "outputs": [],
   "source": [
    "dict1.update(dict2)"
   ]
  },
  {
   "cell_type": "code",
   "execution_count": null,
   "id": "5bf68b05",
   "metadata": {},
   "outputs": [],
   "source": [
    "print(dict1)"
   ]
  },
  {
   "cell_type": "code",
   "execution_count": null,
   "id": "c2664503",
   "metadata": {},
   "outputs": [],
   "source": [
    "dict3 = dict1.copy()"
   ]
  },
  {
   "cell_type": "code",
   "execution_count": null,
   "id": "021c60f6",
   "metadata": {},
   "outputs": [],
   "source": [
    "print(dict3)"
   ]
  },
  {
   "cell_type": "code",
   "execution_count": null,
   "id": "aa545f8f",
   "metadata": {},
   "outputs": [],
   "source": [
    "dict3.clear()"
   ]
  },
  {
   "cell_type": "code",
   "execution_count": null,
   "id": "063b3bac",
   "metadata": {},
   "outputs": [],
   "source": [
    "print(dict3)"
   ]
  },
  {
   "cell_type": "code",
   "execution_count": null,
   "id": "4c9ebff3",
   "metadata": {},
   "outputs": [],
   "source": [
    "dict4 = dict(a=1, b=2)"
   ]
  },
  {
   "cell_type": "code",
   "execution_count": null,
   "id": "9c38eb04",
   "metadata": {},
   "outputs": [],
   "source": [
    "print(dict4)"
   ]
  },
  {
   "cell_type": "code",
   "execution_count": null,
   "id": "75386d1d",
   "metadata": {},
   "outputs": [],
   "source": [
    "dict5 = {i: i**2 for i in range(5)}"
   ]
  },
  {
   "cell_type": "code",
   "execution_count": null,
   "id": "1cddd3e6",
   "metadata": {},
   "outputs": [],
   "source": [
    "print(dict5)"
   ]
  },
  {
   "cell_type": "code",
   "execution_count": null,
   "id": "63686911",
   "metadata": {},
   "outputs": [],
   "source": [
    "tuple_key = (1, 2)"
   ]
  },
  {
   "cell_type": "code",
   "execution_count": null,
   "id": "75a13559",
   "metadata": {},
   "outputs": [],
   "source": [
    "d[tuple_key] = 'tuple as key'"
   ]
  },
  {
   "cell_type": "code",
   "execution_count": null,
   "id": "a916a457",
   "metadata": {},
   "outputs": [],
   "source": [
    "print(d)"
   ]
  },
  {
   "cell_type": "code",
   "execution_count": null,
   "id": "8c39ff00",
   "metadata": {},
   "outputs": [],
   "source": [
    "try: print(d['missing'])\n",
    "except KeyError: print('KeyError')"
   ]
  },
  {
   "cell_type": "code",
   "execution_count": null,
   "id": "f056f809",
   "metadata": {},
   "outputs": [],
   "source": [
    "default = d.setdefault('new', 999)"
   ]
  },
  {
   "cell_type": "code",
   "execution_count": null,
   "id": "019cd6e7",
   "metadata": {},
   "outputs": [],
   "source": [
    "print(d)"
   ]
  },
  {
   "cell_type": "code",
   "execution_count": null,
   "id": "1bf67225",
   "metadata": {},
   "outputs": [],
   "source": [
    "print(default)"
   ]
  },
  {
   "cell_type": "code",
   "execution_count": null,
   "id": "48901bd7",
   "metadata": {},
   "outputs": [],
   "source": [
    "d.pop('new')"
   ]
  },
  {
   "cell_type": "code",
   "execution_count": null,
   "id": "2c66e162",
   "metadata": {},
   "outputs": [],
   "source": [
    "print(d)"
   ]
  },
  {
   "cell_type": "code",
   "execution_count": null,
   "id": "85d8821d",
   "metadata": {},
   "outputs": [],
   "source": [
    "d.popitem()"
   ]
  },
  {
   "cell_type": "code",
   "execution_count": null,
   "id": "7aeefab8",
   "metadata": {},
   "outputs": [],
   "source": [
    "print(d)"
   ]
  },
  {
   "cell_type": "code",
   "execution_count": null,
   "id": "015fb0f5",
   "metadata": {},
   "outputs": [],
   "source": [
    "from collections import defaultdict"
   ]
  },
  {
   "cell_type": "code",
   "execution_count": null,
   "id": "818fc2ca",
   "metadata": {},
   "outputs": [],
   "source": [
    "dd = defaultdict(int)"
   ]
  },
  {
   "cell_type": "code",
   "execution_count": null,
   "id": "83b3a1cb",
   "metadata": {},
   "outputs": [],
   "source": [
    "dd['a'] += 1"
   ]
  },
  {
   "cell_type": "code",
   "execution_count": null,
   "id": "b4b1f46f",
   "metadata": {},
   "outputs": [],
   "source": [
    "print(dd)"
   ]
  },
  {
   "cell_type": "code",
   "execution_count": null,
   "id": "3a648e15",
   "metadata": {},
   "outputs": [],
   "source": [
    "from collections import OrderedDict"
   ]
  },
  {
   "cell_type": "code",
   "execution_count": null,
   "id": "4fd7248a",
   "metadata": {},
   "outputs": [],
   "source": [
    "od = OrderedDict()"
   ]
  },
  {
   "cell_type": "code",
   "execution_count": null,
   "id": "ed942c00",
   "metadata": {},
   "outputs": [],
   "source": [
    "od['a'] = 1"
   ]
  },
  {
   "cell_type": "code",
   "execution_count": null,
   "id": "95c08427",
   "metadata": {},
   "outputs": [],
   "source": [
    "od['b'] = 2"
   ]
  },
  {
   "cell_type": "code",
   "execution_count": null,
   "id": "1e42203e",
   "metadata": {},
   "outputs": [],
   "source": [
    "print(od)"
   ]
  },
  {
   "cell_type": "code",
   "execution_count": null,
   "id": "47e58f28",
   "metadata": {},
   "outputs": [],
   "source": [
    "od.move_to_end('a')"
   ]
  },
  {
   "cell_type": "code",
   "execution_count": null,
   "id": "c3833e0b",
   "metadata": {},
   "outputs": [],
   "source": [
    "print(od)"
   ]
  },
  {
   "cell_type": "code",
   "execution_count": null,
   "id": "2f20f281",
   "metadata": {},
   "outputs": [],
   "source": [
    "od.popitem(last=False)"
   ]
  },
  {
   "cell_type": "code",
   "execution_count": null,
   "id": "d629c954",
   "metadata": {},
   "outputs": [],
   "source": [
    "print(od)"
   ]
  },
  {
   "cell_type": "code",
   "execution_count": null,
   "id": "c934d6f5",
   "metadata": {},
   "outputs": [],
   "source": [
    "d = dict([('x', 10), ('y', 20)])"
   ]
  },
  {
   "cell_type": "code",
   "execution_count": null,
   "id": "2f9d692a",
   "metadata": {},
   "outputs": [],
   "source": [
    "print(d)"
   ]
  },
  {
   "cell_type": "code",
   "execution_count": null,
   "id": "513f3fb7",
   "metadata": {},
   "outputs": [],
   "source": [
    "zipped = zip(['a', 'b'], [1, 2])"
   ]
  },
  {
   "cell_type": "code",
   "execution_count": null,
   "id": "8aa9714e",
   "metadata": {},
   "outputs": [],
   "source": [
    "d = dict(zipped)"
   ]
  },
  {
   "cell_type": "code",
   "execution_count": null,
   "id": "0dd0b7af",
   "metadata": {},
   "outputs": [],
   "source": [
    "print(d)"
   ]
  },
  {
   "cell_type": "code",
   "execution_count": null,
   "id": "45151986",
   "metadata": {},
   "outputs": [],
   "source": [
    "d = {chr(65+i): i for i in range(10)}"
   ]
  },
  {
   "cell_type": "code",
   "execution_count": null,
   "id": "29237a31",
   "metadata": {},
   "outputs": [],
   "source": [
    "print(d)"
   ]
  },
  {
   "cell_type": "code",
   "execution_count": null,
   "id": "a77dcbe3",
   "metadata": {},
   "outputs": [],
   "source": [
    "d = {x: x+1 for x in range(10) if x % 2 == 0}"
   ]
  },
  {
   "cell_type": "code",
   "execution_count": null,
   "id": "12ed0ea5",
   "metadata": {},
   "outputs": [],
   "source": [
    "print(d)"
   ]
  },
  {
   "cell_type": "code",
   "execution_count": null,
   "id": "64b0b048",
   "metadata": {},
   "outputs": [],
   "source": [
    "hash('abc')"
   ]
  },
  {
   "cell_type": "code",
   "execution_count": null,
   "id": "883ea86c",
   "metadata": {},
   "outputs": [],
   "source": [
    "hash(123)"
   ]
  },
  {
   "cell_type": "code",
   "execution_count": null,
   "id": "8a0baf99",
   "metadata": {},
   "outputs": [],
   "source": [
    "hash((1,2))"
   ]
  },
  {
   "cell_type": "code",
   "execution_count": null,
   "id": "36845638",
   "metadata": {},
   "outputs": [],
   "source": [
    "d = {'a': {'nested': 1}}"
   ]
  },
  {
   "cell_type": "code",
   "execution_count": null,
   "id": "c8a660e3",
   "metadata": {},
   "outputs": [],
   "source": [
    "print(d['a']['nested'])"
   ]
  },
  {
   "cell_type": "code",
   "execution_count": null,
   "id": "adc96fd8",
   "metadata": {},
   "outputs": [],
   "source": [
    "d['a']['nested'] += 1"
   ]
  },
  {
   "cell_type": "code",
   "execution_count": null,
   "id": "f075b5df",
   "metadata": {},
   "outputs": [],
   "source": [
    "print(d)"
   ]
  },
  {
   "cell_type": "code",
   "execution_count": null,
   "id": "b9b6d724",
   "metadata": {},
   "outputs": [],
   "source": [
    "d = {i: chr(65+i) for i in range(5)}"
   ]
  },
  {
   "cell_type": "code",
   "execution_count": null,
   "id": "052a283b",
   "metadata": {},
   "outputs": [],
   "source": [
    "for k in sorted(d): print(k, d[k])"
   ]
  },
  {
   "cell_type": "code",
   "execution_count": null,
   "id": "afb58506",
   "metadata": {},
   "outputs": [],
   "source": [
    "inverse = {v: k for k, v in d.items()}"
   ]
  },
  {
   "cell_type": "code",
   "execution_count": null,
   "id": "7ef232a3",
   "metadata": {},
   "outputs": [],
   "source": [
    "print(inverse)"
   ]
  },
  {
   "cell_type": "code",
   "execution_count": null,
   "id": "4e9099e7",
   "metadata": {},
   "outputs": [],
   "source": [
    "import json"
   ]
  },
  {
   "cell_type": "code",
   "execution_count": null,
   "id": "2cca003e",
   "metadata": {},
   "outputs": [],
   "source": [
    "json_str = json.dumps(d)"
   ]
  },
  {
   "cell_type": "code",
   "execution_count": null,
   "id": "cad11696",
   "metadata": {},
   "outputs": [],
   "source": [
    "print(json_str)"
   ]
  }
 ],
 "metadata": {},
 "nbformat": 4,
 "nbformat_minor": 5
}