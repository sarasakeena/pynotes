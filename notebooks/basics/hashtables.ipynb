{
 "cells": [
  {
   "cell_type": "code",
   "execution_count": 1,
   "id": "450aaf7e",
   "metadata": {},
   "outputs": [],
   "source": [
    "d = {}"
   ]
  },
  {
   "cell_type": "code",
   "execution_count": 2,
   "id": "02a4a413",
   "metadata": {},
   "outputs": [],
   "source": [
    "d['a'] = 1"
   ]
  },
  {
   "cell_type": "code",
   "execution_count": 3,
   "id": "76d779c3",
   "metadata": {},
   "outputs": [],
   "source": [
    "d['b'] = 2"
   ]
  },
  {
   "cell_type": "code",
   "execution_count": 4,
   "id": "cd2bf25c",
   "metadata": {},
   "outputs": [
    {
     "name": "stdout",
     "output_type": "stream",
     "text": [
      "{'a': 1, 'b': 2}\n"
     ]
    }
   ],
   "source": [
    "print(d)"
   ]
  },
  {
   "cell_type": "code",
   "execution_count": 5,
   "id": "1555d27a",
   "metadata": {},
   "outputs": [
    {
     "name": "stdout",
     "output_type": "stream",
     "text": [
      "1\n"
     ]
    }
   ],
   "source": [
    "print(d['a'])"
   ]
  },
  {
   "cell_type": "code",
   "execution_count": 6,
   "id": "ce40f8da",
   "metadata": {},
   "outputs": [],
   "source": [
    "d['c'] = 3"
   ]
  },
  {
   "cell_type": "code",
   "execution_count": 7,
   "id": "34b23cd4",
   "metadata": {},
   "outputs": [],
   "source": [
    "d['a'] = 100"
   ]
  },
  {
   "cell_type": "code",
   "execution_count": 8,
   "id": "70b787cb",
   "metadata": {},
   "outputs": [
    {
     "name": "stdout",
     "output_type": "stream",
     "text": [
      "{'a': 100, 'b': 2, 'c': 3}\n"
     ]
    }
   ],
   "source": [
    "print(d)"
   ]
  },
  {
   "cell_type": "code",
   "execution_count": 9,
   "id": "2c191d49",
   "metadata": {},
   "outputs": [],
   "source": [
    "del d['b']"
   ]
  },
  {
   "cell_type": "code",
   "execution_count": 10,
   "id": "f00bda8e",
   "metadata": {},
   "outputs": [
    {
     "name": "stdout",
     "output_type": "stream",
     "text": [
      "{'a': 100, 'c': 3}\n"
     ]
    }
   ],
   "source": [
    "print(d)"
   ]
  },
  {
   "cell_type": "code",
   "execution_count": 11,
   "id": "d433adc4",
   "metadata": {},
   "outputs": [
    {
     "data": {
      "text/plain": [
       "2"
      ]
     },
     "execution_count": 11,
     "metadata": {},
     "output_type": "execute_result"
    }
   ],
   "source": [
    "len(d)"
   ]
  },
  {
   "cell_type": "code",
   "execution_count": 12,
   "id": "d9822273",
   "metadata": {},
   "outputs": [
    {
     "data": {
      "text/plain": [
       "100"
      ]
     },
     "execution_count": 12,
     "metadata": {},
     "output_type": "execute_result"
    }
   ],
   "source": [
    "d.get('a')"
   ]
  },
  {
   "cell_type": "code",
   "execution_count": 13,
   "id": "93bd3def",
   "metadata": {},
   "outputs": [
    {
     "data": {
      "text/plain": [
       "'not found'"
      ]
     },
     "execution_count": 13,
     "metadata": {},
     "output_type": "execute_result"
    }
   ],
   "source": [
    "d.get('z', 'not found')"
   ]
  },
  {
   "cell_type": "code",
   "execution_count": 14,
   "id": "0d2ada2a",
   "metadata": {},
   "outputs": [
    {
     "data": {
      "text/plain": [
       "True"
      ]
     },
     "execution_count": 14,
     "metadata": {},
     "output_type": "execute_result"
    }
   ],
   "source": [
    "'c' in d"
   ]
  },
  {
   "cell_type": "code",
   "execution_count": 15,
   "id": "96d3448a",
   "metadata": {},
   "outputs": [
    {
     "data": {
      "text/plain": [
       "False"
      ]
     },
     "execution_count": 15,
     "metadata": {},
     "output_type": "execute_result"
    }
   ],
   "source": [
    "'z' in d"
   ]
  },
  {
   "cell_type": "code",
   "execution_count": 16,
   "id": "af906cc3",
   "metadata": {},
   "outputs": [
    {
     "data": {
      "text/plain": [
       "dict_keys(['a', 'c'])"
      ]
     },
     "execution_count": 16,
     "metadata": {},
     "output_type": "execute_result"
    }
   ],
   "source": [
    "d.keys()"
   ]
  },
  {
   "cell_type": "code",
   "execution_count": 17,
   "id": "2e2b1881",
   "metadata": {},
   "outputs": [
    {
     "data": {
      "text/plain": [
       "dict_values([100, 3])"
      ]
     },
     "execution_count": 17,
     "metadata": {},
     "output_type": "execute_result"
    }
   ],
   "source": [
    "d.values()"
   ]
  },
  {
   "cell_type": "code",
   "execution_count": 18,
   "id": "4ad3cc79",
   "metadata": {},
   "outputs": [
    {
     "data": {
      "text/plain": [
       "dict_items([('a', 100), ('c', 3)])"
      ]
     },
     "execution_count": 18,
     "metadata": {},
     "output_type": "execute_result"
    }
   ],
   "source": [
    "d.items()"
   ]
  },
  {
   "cell_type": "code",
   "execution_count": 19,
   "id": "bf1ca98d",
   "metadata": {},
   "outputs": [
    {
     "name": "stdout",
     "output_type": "stream",
     "text": [
      "a\n",
      "c\n"
     ]
    }
   ],
   "source": [
    "for key in d: print(key)"
   ]
  },
  {
   "cell_type": "code",
   "execution_count": 20,
   "id": "845a7743",
   "metadata": {},
   "outputs": [
    {
     "name": "stdout",
     "output_type": "stream",
     "text": [
      "100\n",
      "3\n"
     ]
    }
   ],
   "source": [
    "for value in d.values(): print(value)"
   ]
  },
  {
   "cell_type": "code",
   "execution_count": 21,
   "id": "29179a1a",
   "metadata": {},
   "outputs": [
    {
     "name": "stdout",
     "output_type": "stream",
     "text": [
      "a 100\n",
      "c 3\n"
     ]
    }
   ],
   "source": [
    "for k, v in d.items(): print(k, v)"
   ]
  },
  {
   "cell_type": "code",
   "execution_count": 22,
   "id": "0e04c0b2",
   "metadata": {},
   "outputs": [],
   "source": [
    "dict1 = {'x': 1, 'y': 2}"
   ]
  },
  {
   "cell_type": "code",
   "execution_count": 23,
   "id": "d20cd3ac",
   "metadata": {},
   "outputs": [],
   "source": [
    "dict2 = {'y': 3, 'z': 4}"
   ]
  },
  {
   "cell_type": "code",
   "execution_count": 24,
   "id": "f188841d",
   "metadata": {},
   "outputs": [],
   "source": [
    "dict1.update(dict2)"
   ]
  },
  {
   "cell_type": "code",
   "execution_count": 25,
   "id": "5bf68b05",
   "metadata": {},
   "outputs": [
    {
     "name": "stdout",
     "output_type": "stream",
     "text": [
      "{'x': 1, 'y': 3, 'z': 4}\n"
     ]
    }
   ],
   "source": [
    "print(dict1)"
   ]
  },
  {
   "cell_type": "code",
   "execution_count": 26,
   "id": "c2664503",
   "metadata": {},
   "outputs": [],
   "source": [
    "dict3 = dict1.copy()"
   ]
  },
  {
   "cell_type": "code",
   "execution_count": 27,
   "id": "021c60f6",
   "metadata": {},
   "outputs": [
    {
     "name": "stdout",
     "output_type": "stream",
     "text": [
      "{'x': 1, 'y': 3, 'z': 4}\n"
     ]
    }
   ],
   "source": [
    "print(dict3)"
   ]
  },
  {
   "cell_type": "code",
   "execution_count": 28,
   "id": "aa545f8f",
   "metadata": {},
   "outputs": [],
   "source": [
    "dict3.clear()"
   ]
  },
  {
   "cell_type": "code",
   "execution_count": 29,
   "id": "063b3bac",
   "metadata": {},
   "outputs": [
    {
     "name": "stdout",
     "output_type": "stream",
     "text": [
      "{}\n"
     ]
    }
   ],
   "source": [
    "print(dict3)"
   ]
  },
  {
   "cell_type": "code",
   "execution_count": 30,
   "id": "4c9ebff3",
   "metadata": {},
   "outputs": [],
   "source": [
    "dict4 = dict(a=1, b=2)"
   ]
  },
  {
   "cell_type": "code",
   "execution_count": 31,
   "id": "9c38eb04",
   "metadata": {},
   "outputs": [
    {
     "name": "stdout",
     "output_type": "stream",
     "text": [
      "{'a': 1, 'b': 2}\n"
     ]
    }
   ],
   "source": [
    "print(dict4)"
   ]
  },
  {
   "cell_type": "code",
   "execution_count": 32,
   "id": "75386d1d",
   "metadata": {},
   "outputs": [],
   "source": [
    "dict5 = {i: i**2 for i in range(5)}"
   ]
  },
  {
   "cell_type": "code",
   "execution_count": 33,
   "id": "1cddd3e6",
   "metadata": {},
   "outputs": [
    {
     "name": "stdout",
     "output_type": "stream",
     "text": [
      "{0: 0, 1: 1, 2: 4, 3: 9, 4: 16}\n"
     ]
    }
   ],
   "source": [
    "print(dict5)"
   ]
  },
  {
   "cell_type": "code",
   "execution_count": 34,
   "id": "63686911",
   "metadata": {},
   "outputs": [],
   "source": [
    "tuple_key = (1, 2)"
   ]
  },
  {
   "cell_type": "code",
   "execution_count": 35,
   "id": "75a13559",
   "metadata": {},
   "outputs": [],
   "source": [
    "d[tuple_key] = 'tuple as key'"
   ]
  },
  {
   "cell_type": "code",
   "execution_count": 36,
   "id": "a916a457",
   "metadata": {},
   "outputs": [
    {
     "name": "stdout",
     "output_type": "stream",
     "text": [
      "{'a': 100, 'c': 3, (1, 2): 'tuple as key'}\n"
     ]
    }
   ],
   "source": [
    "print(d)"
   ]
  },
  {
   "cell_type": "code",
   "execution_count": 37,
   "id": "8c39ff00",
   "metadata": {},
   "outputs": [
    {
     "name": "stdout",
     "output_type": "stream",
     "text": [
      "KeyError\n"
     ]
    }
   ],
   "source": [
    "try: print(d['missing'])\n",
    "except KeyError: print('KeyError')"
   ]
  },
  {
   "cell_type": "code",
   "execution_count": 38,
   "id": "f056f809",
   "metadata": {},
   "outputs": [],
   "source": [
    "default = d.setdefault('new', 999)"
   ]
  },
  {
   "cell_type": "code",
   "execution_count": 39,
   "id": "019cd6e7",
   "metadata": {},
   "outputs": [
    {
     "name": "stdout",
     "output_type": "stream",
     "text": [
      "{'a': 100, 'c': 3, (1, 2): 'tuple as key', 'new': 999}\n"
     ]
    }
   ],
   "source": [
    "print(d)"
   ]
  },
  {
   "cell_type": "code",
   "execution_count": 40,
   "id": "1bf67225",
   "metadata": {},
   "outputs": [
    {
     "name": "stdout",
     "output_type": "stream",
     "text": [
      "999\n"
     ]
    }
   ],
   "source": [
    "print(default)"
   ]
  },
  {
   "cell_type": "code",
   "execution_count": 41,
   "id": "48901bd7",
   "metadata": {},
   "outputs": [
    {
     "data": {
      "text/plain": [
       "999"
      ]
     },
     "execution_count": 41,
     "metadata": {},
     "output_type": "execute_result"
    }
   ],
   "source": [
    "d.pop('new')"
   ]
  },
  {
   "cell_type": "code",
   "execution_count": 42,
   "id": "2c66e162",
   "metadata": {},
   "outputs": [
    {
     "name": "stdout",
     "output_type": "stream",
     "text": [
      "{'a': 100, 'c': 3, (1, 2): 'tuple as key'}\n"
     ]
    }
   ],
   "source": [
    "print(d)"
   ]
  },
  {
   "cell_type": "code",
   "execution_count": 43,
   "id": "85d8821d",
   "metadata": {},
   "outputs": [
    {
     "data": {
      "text/plain": [
       "((1, 2), 'tuple as key')"
      ]
     },
     "execution_count": 43,
     "metadata": {},
     "output_type": "execute_result"
    }
   ],
   "source": [
    "d.popitem()"
   ]
  },
  {
   "cell_type": "code",
   "execution_count": 44,
   "id": "7aeefab8",
   "metadata": {},
   "outputs": [
    {
     "name": "stdout",
     "output_type": "stream",
     "text": [
      "{'a': 100, 'c': 3}\n"
     ]
    }
   ],
   "source": [
    "print(d)"
   ]
  },
  {
   "cell_type": "code",
   "execution_count": 45,
   "id": "015fb0f5",
   "metadata": {},
   "outputs": [],
   "source": [
    "from collections import defaultdict"
   ]
  },
  {
   "cell_type": "code",
   "execution_count": 46,
   "id": "818fc2ca",
   "metadata": {},
   "outputs": [],
   "source": [
    "dd = defaultdict(int)"
   ]
  },
  {
   "cell_type": "code",
   "execution_count": 47,
   "id": "83b3a1cb",
   "metadata": {},
   "outputs": [],
   "source": [
    "dd['a'] += 1"
   ]
  },
  {
   "cell_type": "code",
   "execution_count": 48,
   "id": "b4b1f46f",
   "metadata": {},
   "outputs": [
    {
     "name": "stdout",
     "output_type": "stream",
     "text": [
      "defaultdict(<class 'int'>, {'a': 1})\n"
     ]
    }
   ],
   "source": [
    "print(dd)"
   ]
  },
  {
   "cell_type": "code",
   "execution_count": 49,
   "id": "3a648e15",
   "metadata": {},
   "outputs": [],
   "source": [
    "from collections import OrderedDict"
   ]
  },
  {
   "cell_type": "code",
   "execution_count": 50,
   "id": "4fd7248a",
   "metadata": {},
   "outputs": [],
   "source": [
    "od = OrderedDict()"
   ]
  },
  {
   "cell_type": "code",
   "execution_count": 51,
   "id": "ed942c00",
   "metadata": {},
   "outputs": [],
   "source": [
    "od['a'] = 1"
   ]
  },
  {
   "cell_type": "code",
   "execution_count": 52,
   "id": "95c08427",
   "metadata": {},
   "outputs": [],
   "source": [
    "od['b'] = 2"
   ]
  },
  {
   "cell_type": "code",
   "execution_count": 53,
   "id": "1e42203e",
   "metadata": {},
   "outputs": [
    {
     "name": "stdout",
     "output_type": "stream",
     "text": [
      "OrderedDict({'a': 1, 'b': 2})\n"
     ]
    }
   ],
   "source": [
    "print(od)"
   ]
  },
  {
   "cell_type": "code",
   "execution_count": 54,
   "id": "47e58f28",
   "metadata": {},
   "outputs": [],
   "source": [
    "od.move_to_end('a')"
   ]
  },
  {
   "cell_type": "code",
   "execution_count": 55,
   "id": "c3833e0b",
   "metadata": {},
   "outputs": [
    {
     "name": "stdout",
     "output_type": "stream",
     "text": [
      "OrderedDict({'b': 2, 'a': 1})\n"
     ]
    }
   ],
   "source": [
    "print(od)"
   ]
  },
  {
   "cell_type": "code",
   "execution_count": 56,
   "id": "2f20f281",
   "metadata": {},
   "outputs": [
    {
     "data": {
      "text/plain": [
       "('b', 2)"
      ]
     },
     "execution_count": 56,
     "metadata": {},
     "output_type": "execute_result"
    }
   ],
   "source": [
    "od.popitem(last=False)"
   ]
  },
  {
   "cell_type": "code",
   "execution_count": 57,
   "id": "d629c954",
   "metadata": {},
   "outputs": [
    {
     "name": "stdout",
     "output_type": "stream",
     "text": [
      "OrderedDict({'a': 1})\n"
     ]
    }
   ],
   "source": [
    "print(od)"
   ]
  },
  {
   "cell_type": "code",
   "execution_count": 58,
   "id": "c934d6f5",
   "metadata": {},
   "outputs": [],
   "source": [
    "d = dict([('x', 10), ('y', 20)])"
   ]
  },
  {
   "cell_type": "code",
   "execution_count": 59,
   "id": "2f9d692a",
   "metadata": {},
   "outputs": [
    {
     "name": "stdout",
     "output_type": "stream",
     "text": [
      "{'x': 10, 'y': 20}\n"
     ]
    }
   ],
   "source": [
    "print(d)"
   ]
  },
  {
   "cell_type": "code",
   "execution_count": 60,
   "id": "513f3fb7",
   "metadata": {},
   "outputs": [],
   "source": [
    "zipped = zip(['a', 'b'], [1, 2])"
   ]
  },
  {
   "cell_type": "code",
   "execution_count": 61,
   "id": "8aa9714e",
   "metadata": {},
   "outputs": [],
   "source": [
    "d = dict(zipped)"
   ]
  },
  {
   "cell_type": "code",
   "execution_count": 62,
   "id": "0dd0b7af",
   "metadata": {},
   "outputs": [
    {
     "name": "stdout",
     "output_type": "stream",
     "text": [
      "{'a': 1, 'b': 2}\n"
     ]
    }
   ],
   "source": [
    "print(d)"
   ]
  },
  {
   "cell_type": "code",
   "execution_count": 63,
   "id": "45151986",
   "metadata": {},
   "outputs": [],
   "source": [
    "d = {chr(65+i): i for i in range(10)}"
   ]
  },
  {
   "cell_type": "code",
   "execution_count": 64,
   "id": "29237a31",
   "metadata": {},
   "outputs": [
    {
     "name": "stdout",
     "output_type": "stream",
     "text": [
      "{'A': 0, 'B': 1, 'C': 2, 'D': 3, 'E': 4, 'F': 5, 'G': 6, 'H': 7, 'I': 8, 'J': 9}\n"
     ]
    }
   ],
   "source": [
    "print(d)"
   ]
  },
  {
   "cell_type": "code",
   "execution_count": 65,
   "id": "a77dcbe3",
   "metadata": {},
   "outputs": [],
   "source": [
    "d = {x: x+1 for x in range(10) if x % 2 == 0}"
   ]
  },
  {
   "cell_type": "code",
   "execution_count": 66,
   "id": "12ed0ea5",
   "metadata": {},
   "outputs": [
    {
     "name": "stdout",
     "output_type": "stream",
     "text": [
      "{0: 1, 2: 3, 4: 5, 6: 7, 8: 9}\n"
     ]
    }
   ],
   "source": [
    "print(d)"
   ]
  },
  {
   "cell_type": "code",
   "execution_count": 67,
   "id": "64b0b048",
   "metadata": {},
   "outputs": [
    {
     "data": {
      "text/plain": [
       "-6797330088782940123"
      ]
     },
     "execution_count": 67,
     "metadata": {},
     "output_type": "execute_result"
    }
   ],
   "source": [
    "hash('abc')"
   ]
  },
  {
   "cell_type": "code",
   "execution_count": 68,
   "id": "883ea86c",
   "metadata": {},
   "outputs": [
    {
     "data": {
      "text/plain": [
       "123"
      ]
     },
     "execution_count": 68,
     "metadata": {},
     "output_type": "execute_result"
    }
   ],
   "source": [
    "hash(123)"
   ]
  },
  {
   "cell_type": "code",
   "execution_count": 69,
   "id": "8a0baf99",
   "metadata": {},
   "outputs": [
    {
     "data": {
      "text/plain": [
       "-3550055125485641917"
      ]
     },
     "execution_count": 69,
     "metadata": {},
     "output_type": "execute_result"
    }
   ],
   "source": [
    "hash((1,2))"
   ]
  },
  {
   "cell_type": "code",
   "execution_count": 70,
   "id": "36845638",
   "metadata": {},
   "outputs": [],
   "source": [
    "d = {'a': {'nested': 1}}"
   ]
  },
  {
   "cell_type": "code",
   "execution_count": 71,
   "id": "c8a660e3",
   "metadata": {},
   "outputs": [
    {
     "name": "stdout",
     "output_type": "stream",
     "text": [
      "1\n"
     ]
    }
   ],
   "source": [
    "print(d['a']['nested'])"
   ]
  },
  {
   "cell_type": "code",
   "execution_count": 72,
   "id": "adc96fd8",
   "metadata": {},
   "outputs": [],
   "source": [
    "d['a']['nested'] += 1"
   ]
  },
  {
   "cell_type": "code",
   "execution_count": 73,
   "id": "f075b5df",
   "metadata": {},
   "outputs": [
    {
     "name": "stdout",
     "output_type": "stream",
     "text": [
      "{'a': {'nested': 2}}\n"
     ]
    }
   ],
   "source": [
    "print(d)"
   ]
  },
  {
   "cell_type": "code",
   "execution_count": 74,
   "id": "b9b6d724",
   "metadata": {},
   "outputs": [],
   "source": [
    "d = {i: chr(65+i) for i in range(5)}"
   ]
  },
  {
   "cell_type": "code",
   "execution_count": 75,
   "id": "052a283b",
   "metadata": {},
   "outputs": [
    {
     "name": "stdout",
     "output_type": "stream",
     "text": [
      "0 A\n",
      "1 B\n",
      "2 C\n",
      "3 D\n",
      "4 E\n"
     ]
    }
   ],
   "source": [
    "for k in sorted(d): print(k, d[k])"
   ]
  },
  {
   "cell_type": "code",
   "execution_count": 76,
   "id": "afb58506",
   "metadata": {},
   "outputs": [],
   "source": [
    "inverse = {v: k for k, v in d.items()}"
   ]
  },
  {
   "cell_type": "code",
   "execution_count": 77,
   "id": "7ef232a3",
   "metadata": {},
   "outputs": [
    {
     "name": "stdout",
     "output_type": "stream",
     "text": [
      "{'A': 0, 'B': 1, 'C': 2, 'D': 3, 'E': 4}\n"
     ]
    }
   ],
   "source": [
    "print(inverse)"
   ]
  },
  {
   "cell_type": "code",
   "execution_count": 78,
   "id": "4e9099e7",
   "metadata": {},
   "outputs": [],
   "source": [
    "import json"
   ]
  },
  {
   "cell_type": "code",
   "execution_count": 79,
   "id": "2cca003e",
   "metadata": {},
   "outputs": [],
   "source": [
    "json_str = json.dumps(d)"
   ]
  },
  {
   "cell_type": "code",
   "execution_count": 80,
   "id": "cad11696",
   "metadata": {},
   "outputs": [
    {
     "name": "stdout",
     "output_type": "stream",
     "text": [
      "{\"0\": \"A\", \"1\": \"B\", \"2\": \"C\", \"3\": \"D\", \"4\": \"E\"}\n"
     ]
    }
   ],
   "source": [
    "print(json_str)"
   ]
  }
 ],
 "metadata": {
  "kernelspec": {
   "display_name": "Python 3 (ipykernel)",
   "language": "python",
   "name": "python3"
  },
  "language_info": {
   "codemirror_mode": {
    "name": "ipython",
    "version": 3
   },
   "file_extension": ".py",
   "mimetype": "text/x-python",
   "name": "python",
   "nbconvert_exporter": "python",
   "pygments_lexer": "ipython3",
   "version": "3.12.11"
  }
 },
 "nbformat": 4,
 "nbformat_minor": 5
}
