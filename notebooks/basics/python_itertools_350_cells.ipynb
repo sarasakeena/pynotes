{
 "cells": [
  {
   "cell_type": "code",
   "execution_count": 3,
   "id": "8e29f3c4",
   "metadata": {},
   "outputs": [],
   "source": [
    "import itertools"
   ]
  },
  {
   "cell_type": "code",
   "execution_count": null,
   "id": "2543f6e6",
   "metadata": {},
   "outputs": [],
   "source": [
    "list(itertools.count(10, 2))[:11]"
   ]
  },
  {
   "cell_type": "code",
   "execution_count": null,
   "id": "d6347cc1",
   "metadata": {},
   "outputs": [],
   "source": [
    "list(itertools.cycle('ABCD'))[:12]"
   ]
  },
  {
   "cell_type": "code",
   "execution_count": null,
   "id": "47a967d5",
   "metadata": {},
   "outputs": [],
   "source": [
    "list(itertools.repeat('hello', 5))"
   ]
  },
  {
   "cell_type": "code",
   "execution_count": null,
   "id": "710fd306",
   "metadata": {},
   "outputs": [],
   "source": [
    "list(itertools.accumulate([1,2,3,4]))"
   ]
  },
  {
   "cell_type": "code",
   "execution_count": null,
   "id": "cab6b44b",
   "metadata": {},
   "outputs": [],
   "source": [
    "list(itertools.chain('ABC', 'DEF'))"
   ]
  },
  {
   "cell_type": "code",
   "execution_count": null,
   "id": "9adbfb7a",
   "metadata": {},
   "outputs": [],
   "source": [
    "list(itertools.compress('ABCDEF', [1,0,1,0,1,0]))"
   ]
  },
  {
   "cell_type": "code",
   "execution_count": null,
   "id": "ca29682a",
   "metadata": {},
   "outputs": [],
   "source": [
    "list(itertools.dropwhile(lambda x: x<5, [1,4,6,7,3]))"
   ]
  },
  {
   "cell_type": "code",
   "execution_count": null,
   "id": "a5302fb9",
   "metadata": {},
   "outputs": [],
   "source": [
    "list(itertools.takewhile(lambda x: x<5, [1,4,6,7,3]))"
   ]
  },
  {
   "cell_type": "code",
   "execution_count": null,
   "id": "5884f2ce",
   "metadata": {},
   "outputs": [],
   "source": [
    "list(itertools.filterfalse(lambda x: x%2, range(10)))"
   ]
  },
  {
   "cell_type": "code",
   "execution_count": null,
   "id": "53d7cc3f",
   "metadata": {},
   "outputs": [],
   "source": [
    "list(itertools.islice(range(20), 5))"
   ]
  },
  {
   "cell_type": "code",
   "execution_count": null,
   "id": "450f25c5",
   "metadata": {},
   "outputs": [],
   "source": [
    "list(itertools.islice(range(20), 5, 15))"
   ]
  },
  {
   "cell_type": "code",
   "execution_count": null,
   "id": "8a3fae9e",
   "metadata": {},
   "outputs": [],
   "source": [
    "list(itertools.islice(range(20), 5, 15, 2))"
   ]
  },
  {
   "cell_type": "code",
   "execution_count": null,
   "id": "7b0b624b",
   "metadata": {},
   "outputs": [],
   "source": [
    "list(itertools.permutations('ABC'))"
   ]
  },
  {
   "cell_type": "code",
   "execution_count": null,
   "id": "1d2872a8",
   "metadata": {},
   "outputs": [],
   "source": [
    "list(itertools.permutations('ABCD', 2))"
   ]
  },
  {
   "cell_type": "code",
   "execution_count": null,
   "id": "49b1b045",
   "metadata": {},
   "outputs": [],
   "source": [
    "list(itertools.combinations('ABCD', 2))"
   ]
  },
  {
   "cell_type": "code",
   "execution_count": null,
   "id": "bb04bf8a",
   "metadata": {},
   "outputs": [],
   "source": [
    "list(itertools.combinations_with_replacement('AB', 3))"
   ]
  },
  {
   "cell_type": "code",
   "execution_count": null,
   "id": "48356b64",
   "metadata": {},
   "outputs": [],
   "source": [
    "list(itertools.product('AB', repeat=2))"
   ]
  },
  {
   "cell_type": "code",
   "execution_count": null,
   "id": "00a6221a",
   "metadata": {},
   "outputs": [],
   "source": [
    "list(itertools.groupby('AABBBCCDAA'))"
   ]
  },
  {
   "cell_type": "code",
   "execution_count": null,
   "id": "ebf0cbc1",
   "metadata": {},
   "outputs": [],
   "source": [
    "[list(g) for k, g in itertools.groupby('AABBBCCDAA')]"
   ]
  },
  {
   "cell_type": "code",
   "execution_count": null,
   "id": "d3e8b287",
   "metadata": {},
   "outputs": [],
   "source": [
    "list(itertools.starmap(pow, [(2,5), (3,2), (10,3)]))"
   ]
  },
  {
   "cell_type": "code",
   "execution_count": null,
   "id": "38b58cac",
   "metadata": {},
   "outputs": [],
   "source": [
    "list(itertools.tee([1, 2, 3, 4], 2))[0]"
   ]
  },
  {
   "cell_type": "code",
   "execution_count": null,
   "id": "4fefa654",
   "metadata": {},
   "outputs": [],
   "source": [
    "a, b = itertools.tee([1, 2, 3, 4], 2); list(a), list(b)"
   ]
  },
  {
   "cell_type": "code",
   "execution_count": null,
   "id": "58f94bf5",
   "metadata": {},
   "outputs": [],
   "source": [
    "list(itertools.zip_longest('AB', '1234', fillvalue='-'))"
   ]
  },
  {
   "cell_type": "code",
   "execution_count": null,
   "id": "2ca5338a",
   "metadata": {},
   "outputs": [],
   "source": [
    "data = [(1, 2), (3, 4)]; list(itertools.starmap(lambda x, y: x + y, data))"
   ]
  },
  {
   "cell_type": "code",
   "execution_count": null,
   "id": "03c4acaa",
   "metadata": {},
   "outputs": [],
   "source": [
    "list(itertools.accumulate(range(1, 6), lambda x, y: x*y))"
   ]
  },
  {
   "cell_type": "code",
   "execution_count": null,
   "id": "249e5775",
   "metadata": {},
   "outputs": [],
   "source": [
    "import itertools"
   ]
  },
  {
   "cell_type": "code",
   "execution_count": null,
   "id": "a0eec023",
   "metadata": {},
   "outputs": [],
   "source": [
    "list(itertools.count(10, 2))[:12]"
   ]
  },
  {
   "cell_type": "code",
   "execution_count": null,
   "id": "5ffe98e1",
   "metadata": {},
   "outputs": [],
   "source": [
    "list(itertools.cycle('ABCD'))[:13]"
   ]
  },
  {
   "cell_type": "code",
   "execution_count": null,
   "id": "1379d6b9",
   "metadata": {},
   "outputs": [],
   "source": [
    "list(itertools.repeat('hello', 5))"
   ]
  },
  {
   "cell_type": "code",
   "execution_count": null,
   "id": "6c4bbd75",
   "metadata": {},
   "outputs": [],
   "source": [
    "list(itertools.accumulate([1,2,3,4]))"
   ]
  },
  {
   "cell_type": "code",
   "execution_count": null,
   "id": "cdbcec11",
   "metadata": {},
   "outputs": [],
   "source": [
    "list(itertools.chain('ABC', 'DEF'))"
   ]
  },
  {
   "cell_type": "code",
   "execution_count": null,
   "id": "522ad3b0",
   "metadata": {},
   "outputs": [],
   "source": [
    "list(itertools.compress('ABCDEF', [1,0,1,0,1,0]))"
   ]
  },
  {
   "cell_type": "code",
   "execution_count": null,
   "id": "7a9f7cb0",
   "metadata": {},
   "outputs": [],
   "source": [
    "list(itertools.dropwhile(lambda x: x<5, [1,4,6,7,3]))"
   ]
  },
  {
   "cell_type": "code",
   "execution_count": null,
   "id": "797f1a03",
   "metadata": {},
   "outputs": [],
   "source": [
    "list(itertools.takewhile(lambda x: x<5, [1,4,6,7,3]))"
   ]
  },
  {
   "cell_type": "code",
   "execution_count": null,
   "id": "ace03418",
   "metadata": {},
   "outputs": [],
   "source": [
    "list(itertools.filterfalse(lambda x: x%2, range(10)))"
   ]
  },
  {
   "cell_type": "code",
   "execution_count": null,
   "id": "85f05085",
   "metadata": {},
   "outputs": [],
   "source": [
    "list(itertools.islice(range(20), 5))"
   ]
  },
  {
   "cell_type": "code",
   "execution_count": null,
   "id": "e1b5ea4a",
   "metadata": {},
   "outputs": [],
   "source": [
    "list(itertools.islice(range(20), 5, 15))"
   ]
  },
  {
   "cell_type": "code",
   "execution_count": null,
   "id": "8717db03",
   "metadata": {},
   "outputs": [],
   "source": [
    "list(itertools.islice(range(20), 5, 15, 2))"
   ]
  },
  {
   "cell_type": "code",
   "execution_count": null,
   "id": "4fa9be96",
   "metadata": {},
   "outputs": [],
   "source": [
    "list(itertools.permutations('ABC'))"
   ]
  },
  {
   "cell_type": "code",
   "execution_count": null,
   "id": "8a07caa3",
   "metadata": {},
   "outputs": [],
   "source": [
    "list(itertools.permutations('ABCD', 2))"
   ]
  },
  {
   "cell_type": "code",
   "execution_count": null,
   "id": "a7757e5c",
   "metadata": {},
   "outputs": [],
   "source": [
    "list(itertools.combinations('ABCD', 2))"
   ]
  },
  {
   "cell_type": "code",
   "execution_count": null,
   "id": "32477172",
   "metadata": {},
   "outputs": [],
   "source": [
    "list(itertools.combinations_with_replacement('AB', 3))"
   ]
  },
  {
   "cell_type": "code",
   "execution_count": null,
   "id": "9d58508f",
   "metadata": {},
   "outputs": [],
   "source": [
    "list(itertools.product('AB', repeat=2))"
   ]
  },
  {
   "cell_type": "code",
   "execution_count": null,
   "id": "99e894be",
   "metadata": {},
   "outputs": [],
   "source": [
    "list(itertools.groupby('AABBBCCDAA'))"
   ]
  },
  {
   "cell_type": "code",
   "execution_count": null,
   "id": "02d49039",
   "metadata": {},
   "outputs": [],
   "source": [
    "[list(g) for k, g in itertools.groupby('AABBBCCDAA')]"
   ]
  },
  {
   "cell_type": "code",
   "execution_count": null,
   "id": "e4068d2f",
   "metadata": {},
   "outputs": [],
   "source": [
    "list(itertools.starmap(pow, [(2,5), (3,2), (10,3)]))"
   ]
  },
  {
   "cell_type": "code",
   "execution_count": null,
   "id": "85d181c2",
   "metadata": {},
   "outputs": [],
   "source": [
    "list(itertools.tee([1, 2, 3, 4], 2))[0]"
   ]
  },
  {
   "cell_type": "code",
   "execution_count": null,
   "id": "24d6e821",
   "metadata": {},
   "outputs": [],
   "source": [
    "a, b = itertools.tee([1, 2, 3, 4], 2); list(a), list(b)"
   ]
  },
  {
   "cell_type": "code",
   "execution_count": null,
   "id": "9c050d30",
   "metadata": {},
   "outputs": [],
   "source": [
    "list(itertools.zip_longest('AB', '1234', fillvalue='-'))"
   ]
  },
  {
   "cell_type": "code",
   "execution_count": null,
   "id": "f68fb3e9",
   "metadata": {},
   "outputs": [],
   "source": [
    "data = [(1, 2), (3, 4)]; list(itertools.starmap(lambda x, y: x + y, data))"
   ]
  },
  {
   "cell_type": "code",
   "execution_count": null,
   "id": "d0d51b92",
   "metadata": {},
   "outputs": [],
   "source": [
    "list(itertools.accumulate(range(1, 6), lambda x, y: x*y))"
   ]
  },
  {
   "cell_type": "code",
   "execution_count": null,
   "id": "59cb4251",
   "metadata": {},
   "outputs": [],
   "source": [
    "import itertools"
   ]
  },
  {
   "cell_type": "code",
   "execution_count": null,
   "id": "58550480",
   "metadata": {},
   "outputs": [],
   "source": [
    "list(itertools.count(10, 2))[:13]"
   ]
  },
  {
   "cell_type": "code",
   "execution_count": null,
   "id": "43860295",
   "metadata": {},
   "outputs": [],
   "source": [
    "list(itertools.cycle('ABCD'))[:14]"
   ]
  },
  {
   "cell_type": "code",
   "execution_count": null,
   "id": "468c17e7",
   "metadata": {},
   "outputs": [],
   "source": [
    "list(itertools.repeat('hello', 5))"
   ]
  },
  {
   "cell_type": "code",
   "execution_count": null,
   "id": "c71a7bf2",
   "metadata": {},
   "outputs": [],
   "source": [
    "list(itertools.accumulate([1,2,3,4]))"
   ]
  },
  {
   "cell_type": "code",
   "execution_count": null,
   "id": "419a2a72",
   "metadata": {},
   "outputs": [],
   "source": [
    "list(itertools.chain('ABC', 'DEF'))"
   ]
  },
  {
   "cell_type": "code",
   "execution_count": null,
   "id": "4f4c94c8",
   "metadata": {},
   "outputs": [],
   "source": [
    "list(itertools.compress('ABCDEF', [1,0,1,0,1,0]))"
   ]
  },
  {
   "cell_type": "code",
   "execution_count": null,
   "id": "2da046c9",
   "metadata": {},
   "outputs": [],
   "source": [
    "list(itertools.dropwhile(lambda x: x<5, [1,4,6,7,3]))"
   ]
  },
  {
   "cell_type": "code",
   "execution_count": null,
   "id": "cefb62e3",
   "metadata": {},
   "outputs": [],
   "source": [
    "list(itertools.takewhile(lambda x: x<5, [1,4,6,7,3]))"
   ]
  },
  {
   "cell_type": "code",
   "execution_count": null,
   "id": "7e772a44",
   "metadata": {},
   "outputs": [],
   "source": [
    "list(itertools.filterfalse(lambda x: x%2, range(10)))"
   ]
  },
  {
   "cell_type": "code",
   "execution_count": null,
   "id": "8f496b29",
   "metadata": {},
   "outputs": [],
   "source": [
    "list(itertools.islice(range(20), 5))"
   ]
  },
  {
   "cell_type": "code",
   "execution_count": null,
   "id": "a654c81b",
   "metadata": {},
   "outputs": [],
   "source": [
    "list(itertools.islice(range(20), 5, 15))"
   ]
  },
  {
   "cell_type": "code",
   "execution_count": null,
   "id": "ac58a930",
   "metadata": {},
   "outputs": [],
   "source": [
    "list(itertools.islice(range(20), 5, 15, 2))"
   ]
  },
  {
   "cell_type": "code",
   "execution_count": null,
   "id": "7b9a19be",
   "metadata": {},
   "outputs": [],
   "source": [
    "list(itertools.permutations('ABC'))"
   ]
  },
  {
   "cell_type": "code",
   "execution_count": null,
   "id": "ef5c3f58",
   "metadata": {},
   "outputs": [],
   "source": [
    "list(itertools.permutations('ABCD', 2))"
   ]
  },
  {
   "cell_type": "code",
   "execution_count": null,
   "id": "40815709",
   "metadata": {},
   "outputs": [],
   "source": [
    "list(itertools.combinations('ABCD', 2))"
   ]
  },
  {
   "cell_type": "code",
   "execution_count": null,
   "id": "f1d28f34",
   "metadata": {},
   "outputs": [],
   "source": [
    "list(itertools.combinations_with_replacement('AB', 3))"
   ]
  },
  {
   "cell_type": "code",
   "execution_count": null,
   "id": "5c92ad7e",
   "metadata": {},
   "outputs": [],
   "source": [
    "list(itertools.product('AB', repeat=2))"
   ]
  },
  {
   "cell_type": "code",
   "execution_count": null,
   "id": "f21ea49d",
   "metadata": {},
   "outputs": [],
   "source": [
    "list(itertools.groupby('AABBBCCDAA'))"
   ]
  },
  {
   "cell_type": "code",
   "execution_count": null,
   "id": "aafdb130",
   "metadata": {},
   "outputs": [],
   "source": [
    "[list(g) for k, g in itertools.groupby('AABBBCCDAA')]"
   ]
  },
  {
   "cell_type": "code",
   "execution_count": null,
   "id": "ad59a363",
   "metadata": {},
   "outputs": [],
   "source": [
    "list(itertools.starmap(pow, [(2,5), (3,2), (10,3)]))"
   ]
  },
  {
   "cell_type": "code",
   "execution_count": null,
   "id": "6b4b6d62",
   "metadata": {},
   "outputs": [],
   "source": [
    "list(itertools.tee([1, 2, 3, 4], 2))[0]"
   ]
  },
  {
   "cell_type": "code",
   "execution_count": null,
   "id": "59944f17",
   "metadata": {},
   "outputs": [],
   "source": [
    "a, b = itertools.tee([1, 2, 3, 4], 2); list(a), list(b)"
   ]
  },
  {
   "cell_type": "code",
   "execution_count": null,
   "id": "f332064a",
   "metadata": {},
   "outputs": [],
   "source": [
    "list(itertools.zip_longest('AB', '1234', fillvalue='-'))"
   ]
  },
  {
   "cell_type": "code",
   "execution_count": null,
   "id": "c1ee7e7d",
   "metadata": {},
   "outputs": [],
   "source": [
    "data = [(1, 2), (3, 4)]; list(itertools.starmap(lambda x, y: x + y, data))"
   ]
  },
  {
   "cell_type": "code",
   "execution_count": null,
   "id": "21f8fc58",
   "metadata": {},
   "outputs": [],
   "source": [
    "list(itertools.accumulate(range(1, 6), lambda x, y: x*y))"
   ]
  },
  {
   "cell_type": "code",
   "execution_count": null,
   "id": "928cf4f1",
   "metadata": {},
   "outputs": [],
   "source": [
    "import itertools"
   ]
  },
  {
   "cell_type": "code",
   "execution_count": null,
   "id": "5596a2be",
   "metadata": {},
   "outputs": [],
   "source": [
    "list(itertools.count(10, 2))[:14]"
   ]
  },
  {
   "cell_type": "code",
   "execution_count": null,
   "id": "686e79a8",
   "metadata": {},
   "outputs": [],
   "source": [
    "list(itertools.cycle('ABCD'))[:10]"
   ]
  },
  {
   "cell_type": "code",
   "execution_count": null,
   "id": "3943f590",
   "metadata": {},
   "outputs": [],
   "source": [
    "list(itertools.repeat('hello', 5))"
   ]
  },
  {
   "cell_type": "code",
   "execution_count": null,
   "id": "334b75d7",
   "metadata": {},
   "outputs": [],
   "source": [
    "list(itertools.accumulate([1,2,3,4]))"
   ]
  },
  {
   "cell_type": "code",
   "execution_count": null,
   "id": "7da347b7",
   "metadata": {},
   "outputs": [],
   "source": [
    "list(itertools.chain('ABC', 'DEF'))"
   ]
  },
  {
   "cell_type": "code",
   "execution_count": null,
   "id": "e83ea118",
   "metadata": {},
   "outputs": [],
   "source": [
    "list(itertools.compress('ABCDEF', [1,0,1,0,1,0]))"
   ]
  },
  {
   "cell_type": "code",
   "execution_count": null,
   "id": "0082b008",
   "metadata": {},
   "outputs": [],
   "source": [
    "list(itertools.dropwhile(lambda x: x<5, [1,4,6,7,3]))"
   ]
  },
  {
   "cell_type": "code",
   "execution_count": null,
   "id": "93a2c337",
   "metadata": {},
   "outputs": [],
   "source": [
    "list(itertools.takewhile(lambda x: x<5, [1,4,6,7,3]))"
   ]
  },
  {
   "cell_type": "code",
   "execution_count": null,
   "id": "5e8afeb9",
   "metadata": {},
   "outputs": [],
   "source": [
    "list(itertools.filterfalse(lambda x: x%2, range(10)))"
   ]
  },
  {
   "cell_type": "code",
   "execution_count": null,
   "id": "e92d06c5",
   "metadata": {},
   "outputs": [],
   "source": [
    "list(itertools.islice(range(20), 5))"
   ]
  },
  {
   "cell_type": "code",
   "execution_count": null,
   "id": "05b9ceea",
   "metadata": {},
   "outputs": [],
   "source": [
    "list(itertools.islice(range(20), 5, 15))"
   ]
  },
  {
   "cell_type": "code",
   "execution_count": null,
   "id": "a335f631",
   "metadata": {},
   "outputs": [],
   "source": [
    "list(itertools.islice(range(20), 5, 15, 2))"
   ]
  },
  {
   "cell_type": "code",
   "execution_count": null,
   "id": "20be8923",
   "metadata": {},
   "outputs": [],
   "source": [
    "list(itertools.permutations('ABC'))"
   ]
  },
  {
   "cell_type": "code",
   "execution_count": null,
   "id": "3fa06e58",
   "metadata": {},
   "outputs": [],
   "source": [
    "list(itertools.permutations('ABCD', 2))"
   ]
  },
  {
   "cell_type": "code",
   "execution_count": null,
   "id": "b62c50cb",
   "metadata": {},
   "outputs": [],
   "source": [
    "list(itertools.combinations('ABCD', 2))"
   ]
  },
  {
   "cell_type": "code",
   "execution_count": null,
   "id": "a3b4be7f",
   "metadata": {},
   "outputs": [],
   "source": [
    "list(itertools.combinations_with_replacement('AB', 3))"
   ]
  },
  {
   "cell_type": "code",
   "execution_count": null,
   "id": "3bb1dbac",
   "metadata": {},
   "outputs": [],
   "source": [
    "list(itertools.product('AB', repeat=2))"
   ]
  },
  {
   "cell_type": "code",
   "execution_count": null,
   "id": "99c7f85c",
   "metadata": {},
   "outputs": [],
   "source": [
    "list(itertools.groupby('AABBBCCDAA'))"
   ]
  },
  {
   "cell_type": "code",
   "execution_count": null,
   "id": "06edaeb3",
   "metadata": {},
   "outputs": [],
   "source": [
    "[list(g) for k, g in itertools.groupby('AABBBCCDAA')]"
   ]
  },
  {
   "cell_type": "code",
   "execution_count": null,
   "id": "1fee4c84",
   "metadata": {},
   "outputs": [],
   "source": [
    "list(itertools.starmap(pow, [(2,5), (3,2), (10,3)]))"
   ]
  },
  {
   "cell_type": "code",
   "execution_count": null,
   "id": "78d64239",
   "metadata": {},
   "outputs": [],
   "source": [
    "list(itertools.tee([1, 2, 3, 4], 2))[0]"
   ]
  },
  {
   "cell_type": "code",
   "execution_count": null,
   "id": "b42aa56c",
   "metadata": {},
   "outputs": [],
   "source": [
    "a, b = itertools.tee([1, 2, 3, 4], 2); list(a), list(b)"
   ]
  },
  {
   "cell_type": "code",
   "execution_count": null,
   "id": "baeb6180",
   "metadata": {},
   "outputs": [],
   "source": [
    "list(itertools.zip_longest('AB', '1234', fillvalue='-'))"
   ]
  },
  {
   "cell_type": "code",
   "execution_count": null,
   "id": "0cd0dea4",
   "metadata": {},
   "outputs": [],
   "source": [
    "data = [(1, 2), (3, 4)]; list(itertools.starmap(lambda x, y: x + y, data))"
   ]
  },
  {
   "cell_type": "code",
   "execution_count": null,
   "id": "61244990",
   "metadata": {},
   "outputs": [],
   "source": [
    "list(itertools.accumulate(range(1, 6), lambda x, y: x*y))"
   ]
  },
  {
   "cell_type": "code",
   "execution_count": null,
   "id": "68cafa2e",
   "metadata": {},
   "outputs": [],
   "source": [
    "import itertools"
   ]
  },
  {
   "cell_type": "code",
   "execution_count": null,
   "id": "c62d283c",
   "metadata": {},
   "outputs": [],
   "source": [
    "list(itertools.count(10, 2))[:10]"
   ]
  },
  {
   "cell_type": "code",
   "execution_count": null,
   "id": "b540aee5",
   "metadata": {},
   "outputs": [],
   "source": [
    "list(itertools.cycle('ABCD'))[:11]"
   ]
  },
  {
   "cell_type": "code",
   "execution_count": null,
   "id": "daed3871",
   "metadata": {},
   "outputs": [],
   "source": [
    "list(itertools.repeat('hello', 5))"
   ]
  },
  {
   "cell_type": "code",
   "execution_count": null,
   "id": "27431e7c",
   "metadata": {},
   "outputs": [],
   "source": [
    "list(itertools.accumulate([1,2,3,4]))"
   ]
  },
  {
   "cell_type": "code",
   "execution_count": null,
   "id": "ee30b5c9",
   "metadata": {},
   "outputs": [],
   "source": [
    "list(itertools.chain('ABC', 'DEF'))"
   ]
  },
  {
   "cell_type": "code",
   "execution_count": null,
   "id": "6a14fb0f",
   "metadata": {},
   "outputs": [],
   "source": [
    "list(itertools.compress('ABCDEF', [1,0,1,0,1,0]))"
   ]
  },
  {
   "cell_type": "code",
   "execution_count": null,
   "id": "40d1e18e",
   "metadata": {},
   "outputs": [],
   "source": [
    "list(itertools.dropwhile(lambda x: x<5, [1,4,6,7,3]))"
   ]
  },
  {
   "cell_type": "code",
   "execution_count": null,
   "id": "247c32ea",
   "metadata": {},
   "outputs": [],
   "source": [
    "list(itertools.takewhile(lambda x: x<5, [1,4,6,7,3]))"
   ]
  },
  {
   "cell_type": "code",
   "execution_count": null,
   "id": "e641089d",
   "metadata": {},
   "outputs": [],
   "source": [
    "list(itertools.filterfalse(lambda x: x%2, range(10)))"
   ]
  },
  {
   "cell_type": "code",
   "execution_count": null,
   "id": "4b70f596",
   "metadata": {},
   "outputs": [],
   "source": [
    "list(itertools.islice(range(20), 5))"
   ]
  },
  {
   "cell_type": "code",
   "execution_count": null,
   "id": "87c32614",
   "metadata": {},
   "outputs": [],
   "source": [
    "list(itertools.islice(range(20), 5, 15))"
   ]
  },
  {
   "cell_type": "code",
   "execution_count": null,
   "id": "1361fbac",
   "metadata": {},
   "outputs": [],
   "source": [
    "list(itertools.islice(range(20), 5, 15, 2))"
   ]
  },
  {
   "cell_type": "code",
   "execution_count": null,
   "id": "ce2ec7ff",
   "metadata": {},
   "outputs": [],
   "source": [
    "list(itertools.permutations('ABC'))"
   ]
  },
  {
   "cell_type": "code",
   "execution_count": null,
   "id": "53851ca8",
   "metadata": {},
   "outputs": [],
   "source": [
    "list(itertools.permutations('ABCD', 2))"
   ]
  },
  {
   "cell_type": "code",
   "execution_count": null,
   "id": "3c5be51a",
   "metadata": {},
   "outputs": [],
   "source": [
    "list(itertools.combinations('ABCD', 2))"
   ]
  },
  {
   "cell_type": "code",
   "execution_count": null,
   "id": "bba4e01d",
   "metadata": {},
   "outputs": [],
   "source": [
    "list(itertools.combinations_with_replacement('AB', 3))"
   ]
  },
  {
   "cell_type": "code",
   "execution_count": null,
   "id": "cd6897ac",
   "metadata": {},
   "outputs": [],
   "source": [
    "list(itertools.product('AB', repeat=2))"
   ]
  },
  {
   "cell_type": "code",
   "execution_count": null,
   "id": "32a7ed53",
   "metadata": {},
   "outputs": [],
   "source": [
    "list(itertools.groupby('AABBBCCDAA'))"
   ]
  },
  {
   "cell_type": "code",
   "execution_count": null,
   "id": "91f6bfd5",
   "metadata": {},
   "outputs": [],
   "source": [
    "[list(g) for k, g in itertools.groupby('AABBBCCDAA')]"
   ]
  },
  {
   "cell_type": "code",
   "execution_count": null,
   "id": "6a6f8ef6",
   "metadata": {},
   "outputs": [],
   "source": [
    "list(itertools.starmap(pow, [(2,5), (3,2), (10,3)]))"
   ]
  },
  {
   "cell_type": "code",
   "execution_count": null,
   "id": "f1de85be",
   "metadata": {},
   "outputs": [],
   "source": [
    "list(itertools.tee([1, 2, 3, 4], 2))[0]"
   ]
  },
  {
   "cell_type": "code",
   "execution_count": null,
   "id": "0d7f6958",
   "metadata": {},
   "outputs": [],
   "source": [
    "a, b = itertools.tee([1, 2, 3, 4], 2); list(a), list(b)"
   ]
  },
  {
   "cell_type": "code",
   "execution_count": null,
   "id": "b289aff9",
   "metadata": {},
   "outputs": [],
   "source": [
    "list(itertools.zip_longest('AB', '1234', fillvalue='-'))"
   ]
  },
  {
   "cell_type": "code",
   "execution_count": null,
   "id": "137aa89e",
   "metadata": {},
   "outputs": [],
   "source": [
    "data = [(1, 2), (3, 4)]; list(itertools.starmap(lambda x, y: x + y, data))"
   ]
  },
  {
   "cell_type": "code",
   "execution_count": null,
   "id": "f042100f",
   "metadata": {},
   "outputs": [],
   "source": [
    "list(itertools.accumulate(range(1, 6), lambda x, y: x*y))"
   ]
  },
  {
   "cell_type": "code",
   "execution_count": null,
   "id": "d6d1bd6b",
   "metadata": {},
   "outputs": [],
   "source": [
    "import itertools"
   ]
  },
  {
   "cell_type": "code",
   "execution_count": null,
   "id": "fef8f68b",
   "metadata": {},
   "outputs": [],
   "source": [
    "list(itertools.count(10, 2))[:11]"
   ]
  },
  {
   "cell_type": "code",
   "execution_count": null,
   "id": "9a0d8d88",
   "metadata": {},
   "outputs": [],
   "source": [
    "list(itertools.cycle('ABCD'))[:12]"
   ]
  },
  {
   "cell_type": "code",
   "execution_count": null,
   "id": "2d38ef6d",
   "metadata": {},
   "outputs": [],
   "source": [
    "list(itertools.repeat('hello', 5))"
   ]
  },
  {
   "cell_type": "code",
   "execution_count": null,
   "id": "663cb0fa",
   "metadata": {},
   "outputs": [],
   "source": [
    "list(itertools.accumulate([1,2,3,4]))"
   ]
  },
  {
   "cell_type": "code",
   "execution_count": null,
   "id": "bf64190e",
   "metadata": {},
   "outputs": [],
   "source": [
    "list(itertools.chain('ABC', 'DEF'))"
   ]
  },
  {
   "cell_type": "code",
   "execution_count": null,
   "id": "54469113",
   "metadata": {},
   "outputs": [],
   "source": [
    "list(itertools.compress('ABCDEF', [1,0,1,0,1,0]))"
   ]
  },
  {
   "cell_type": "code",
   "execution_count": null,
   "id": "adc40ad3",
   "metadata": {},
   "outputs": [],
   "source": [
    "list(itertools.dropwhile(lambda x: x<5, [1,4,6,7,3]))"
   ]
  },
  {
   "cell_type": "code",
   "execution_count": null,
   "id": "a58a6eaa",
   "metadata": {},
   "outputs": [],
   "source": [
    "list(itertools.takewhile(lambda x: x<5, [1,4,6,7,3]))"
   ]
  },
  {
   "cell_type": "code",
   "execution_count": null,
   "id": "22419ab4",
   "metadata": {},
   "outputs": [],
   "source": [
    "list(itertools.filterfalse(lambda x: x%2, range(10)))"
   ]
  },
  {
   "cell_type": "code",
   "execution_count": null,
   "id": "65cf8c33",
   "metadata": {},
   "outputs": [],
   "source": [
    "list(itertools.islice(range(20), 5))"
   ]
  },
  {
   "cell_type": "code",
   "execution_count": null,
   "id": "a0a6c287",
   "metadata": {},
   "outputs": [],
   "source": [
    "list(itertools.islice(range(20), 5, 15))"
   ]
  },
  {
   "cell_type": "code",
   "execution_count": null,
   "id": "4e1ac049",
   "metadata": {},
   "outputs": [],
   "source": [
    "list(itertools.islice(range(20), 5, 15, 2))"
   ]
  },
  {
   "cell_type": "code",
   "execution_count": null,
   "id": "4fb48b83",
   "metadata": {},
   "outputs": [],
   "source": [
    "list(itertools.permutations('ABC'))"
   ]
  },
  {
   "cell_type": "code",
   "execution_count": null,
   "id": "205f910a",
   "metadata": {},
   "outputs": [],
   "source": [
    "list(itertools.permutations('ABCD', 2))"
   ]
  },
  {
   "cell_type": "code",
   "execution_count": null,
   "id": "87bc633b",
   "metadata": {},
   "outputs": [],
   "source": [
    "list(itertools.combinations('ABCD', 2))"
   ]
  },
  {
   "cell_type": "code",
   "execution_count": null,
   "id": "5dceaed3",
   "metadata": {},
   "outputs": [],
   "source": [
    "list(itertools.combinations_with_replacement('AB', 3))"
   ]
  },
  {
   "cell_type": "code",
   "execution_count": null,
   "id": "184bab53",
   "metadata": {},
   "outputs": [],
   "source": [
    "list(itertools.product('AB', repeat=2))"
   ]
  },
  {
   "cell_type": "code",
   "execution_count": null,
   "id": "0bb452e0",
   "metadata": {},
   "outputs": [],
   "source": [
    "list(itertools.groupby('AABBBCCDAA'))"
   ]
  },
  {
   "cell_type": "code",
   "execution_count": null,
   "id": "e29a22bc",
   "metadata": {},
   "outputs": [],
   "source": [
    "[list(g) for k, g in itertools.groupby('AABBBCCDAA')]"
   ]
  },
  {
   "cell_type": "code",
   "execution_count": null,
   "id": "6fb4c97d",
   "metadata": {},
   "outputs": [],
   "source": [
    "list(itertools.starmap(pow, [(2,5), (3,2), (10,3)]))"
   ]
  },
  {
   "cell_type": "code",
   "execution_count": null,
   "id": "1644687f",
   "metadata": {},
   "outputs": [],
   "source": [
    "list(itertools.tee([1, 2, 3, 4], 2))[0]"
   ]
  },
  {
   "cell_type": "code",
   "execution_count": null,
   "id": "349634b7",
   "metadata": {},
   "outputs": [],
   "source": [
    "a, b = itertools.tee([1, 2, 3, 4], 2); list(a), list(b)"
   ]
  },
  {
   "cell_type": "code",
   "execution_count": null,
   "id": "30249d70",
   "metadata": {},
   "outputs": [],
   "source": [
    "list(itertools.zip_longest('AB', '1234', fillvalue='-'))"
   ]
  },
  {
   "cell_type": "code",
   "execution_count": null,
   "id": "28a419d4",
   "metadata": {},
   "outputs": [],
   "source": [
    "data = [(1, 2), (3, 4)]; list(itertools.starmap(lambda x, y: x + y, data))"
   ]
  },
  {
   "cell_type": "code",
   "execution_count": null,
   "id": "24faab15",
   "metadata": {},
   "outputs": [],
   "source": [
    "list(itertools.accumulate(range(1, 6), lambda x, y: x*y))"
   ]
  },
  {
   "cell_type": "code",
   "execution_count": null,
   "id": "e744b752",
   "metadata": {},
   "outputs": [],
   "source": [
    "import itertools"
   ]
  },
  {
   "cell_type": "code",
   "execution_count": null,
   "id": "6cef4a8b",
   "metadata": {},
   "outputs": [],
   "source": [
    "list(itertools.count(10, 2))[:12]"
   ]
  },
  {
   "cell_type": "code",
   "execution_count": null,
   "id": "9f321991",
   "metadata": {},
   "outputs": [],
   "source": [
    "list(itertools.cycle('ABCD'))[:13]"
   ]
  },
  {
   "cell_type": "code",
   "execution_count": null,
   "id": "3704bb45",
   "metadata": {},
   "outputs": [],
   "source": [
    "list(itertools.repeat('hello', 5))"
   ]
  },
  {
   "cell_type": "code",
   "execution_count": null,
   "id": "00cf0056",
   "metadata": {},
   "outputs": [],
   "source": [
    "list(itertools.accumulate([1,2,3,4]))"
   ]
  },
  {
   "cell_type": "code",
   "execution_count": null,
   "id": "10149f61",
   "metadata": {},
   "outputs": [],
   "source": [
    "list(itertools.chain('ABC', 'DEF'))"
   ]
  },
  {
   "cell_type": "code",
   "execution_count": null,
   "id": "27347808",
   "metadata": {},
   "outputs": [],
   "source": [
    "list(itertools.compress('ABCDEF', [1,0,1,0,1,0]))"
   ]
  },
  {
   "cell_type": "code",
   "execution_count": null,
   "id": "c9e2775d",
   "metadata": {},
   "outputs": [],
   "source": [
    "list(itertools.dropwhile(lambda x: x<5, [1,4,6,7,3]))"
   ]
  },
  {
   "cell_type": "code",
   "execution_count": null,
   "id": "aaf0051a",
   "metadata": {},
   "outputs": [],
   "source": [
    "list(itertools.takewhile(lambda x: x<5, [1,4,6,7,3]))"
   ]
  },
  {
   "cell_type": "code",
   "execution_count": null,
   "id": "085744de",
   "metadata": {},
   "outputs": [],
   "source": [
    "list(itertools.filterfalse(lambda x: x%2, range(10)))"
   ]
  },
  {
   "cell_type": "code",
   "execution_count": null,
   "id": "0d256dbb",
   "metadata": {},
   "outputs": [],
   "source": [
    "list(itertools.islice(range(20), 5))"
   ]
  },
  {
   "cell_type": "code",
   "execution_count": null,
   "id": "478c06da",
   "metadata": {},
   "outputs": [],
   "source": [
    "list(itertools.islice(range(20), 5, 15))"
   ]
  },
  {
   "cell_type": "code",
   "execution_count": null,
   "id": "5e62c790",
   "metadata": {},
   "outputs": [],
   "source": [
    "list(itertools.islice(range(20), 5, 15, 2))"
   ]
  },
  {
   "cell_type": "code",
   "execution_count": null,
   "id": "6002b558",
   "metadata": {},
   "outputs": [],
   "source": [
    "list(itertools.permutations('ABC'))"
   ]
  },
  {
   "cell_type": "code",
   "execution_count": null,
   "id": "40670acb",
   "metadata": {},
   "outputs": [],
   "source": [
    "list(itertools.permutations('ABCD', 2))"
   ]
  },
  {
   "cell_type": "code",
   "execution_count": null,
   "id": "e34ef01a",
   "metadata": {},
   "outputs": [],
   "source": [
    "list(itertools.combinations('ABCD', 2))"
   ]
  },
  {
   "cell_type": "code",
   "execution_count": null,
   "id": "81f0fbf4",
   "metadata": {},
   "outputs": [],
   "source": [
    "list(itertools.combinations_with_replacement('AB', 3))"
   ]
  },
  {
   "cell_type": "code",
   "execution_count": null,
   "id": "1c142a56",
   "metadata": {},
   "outputs": [],
   "source": [
    "list(itertools.product('AB', repeat=2))"
   ]
  },
  {
   "cell_type": "code",
   "execution_count": null,
   "id": "45a5bcf2",
   "metadata": {},
   "outputs": [],
   "source": [
    "list(itertools.groupby('AABBBCCDAA'))"
   ]
  },
  {
   "cell_type": "code",
   "execution_count": null,
   "id": "cdae9d37",
   "metadata": {},
   "outputs": [],
   "source": [
    "[list(g) for k, g in itertools.groupby('AABBBCCDAA')]"
   ]
  },
  {
   "cell_type": "code",
   "execution_count": null,
   "id": "26252526",
   "metadata": {},
   "outputs": [],
   "source": [
    "list(itertools.starmap(pow, [(2,5), (3,2), (10,3)]))"
   ]
  },
  {
   "cell_type": "code",
   "execution_count": null,
   "id": "3feed08a",
   "metadata": {},
   "outputs": [],
   "source": [
    "list(itertools.tee([1, 2, 3, 4], 2))[0]"
   ]
  },
  {
   "cell_type": "code",
   "execution_count": null,
   "id": "1b9ce8f8",
   "metadata": {},
   "outputs": [],
   "source": [
    "a, b = itertools.tee([1, 2, 3, 4], 2); list(a), list(b)"
   ]
  },
  {
   "cell_type": "code",
   "execution_count": null,
   "id": "31ed3de7",
   "metadata": {},
   "outputs": [],
   "source": [
    "list(itertools.zip_longest('AB', '1234', fillvalue='-'))"
   ]
  },
  {
   "cell_type": "code",
   "execution_count": null,
   "id": "7c7ce941",
   "metadata": {},
   "outputs": [],
   "source": [
    "data = [(1, 2), (3, 4)]; list(itertools.starmap(lambda x, y: x + y, data))"
   ]
  },
  {
   "cell_type": "code",
   "execution_count": null,
   "id": "63ef5df2",
   "metadata": {},
   "outputs": [],
   "source": [
    "list(itertools.accumulate(range(1, 6), lambda x, y: x*y))"
   ]
  },
  {
   "cell_type": "code",
   "execution_count": null,
   "id": "79c6782c",
   "metadata": {},
   "outputs": [],
   "source": [
    "import itertools"
   ]
  },
  {
   "cell_type": "code",
   "execution_count": null,
   "id": "0c3232ee",
   "metadata": {},
   "outputs": [],
   "source": [
    "list(itertools.count(10, 2))[:13]"
   ]
  },
  {
   "cell_type": "code",
   "execution_count": null,
   "id": "cd851004",
   "metadata": {},
   "outputs": [],
   "source": [
    "list(itertools.cycle('ABCD'))[:14]"
   ]
  },
  {
   "cell_type": "code",
   "execution_count": null,
   "id": "a87dbad1",
   "metadata": {},
   "outputs": [],
   "source": [
    "list(itertools.repeat('hello', 5))"
   ]
  },
  {
   "cell_type": "code",
   "execution_count": null,
   "id": "5e6b220d",
   "metadata": {},
   "outputs": [],
   "source": [
    "list(itertools.accumulate([1,2,3,4]))"
   ]
  },
  {
   "cell_type": "code",
   "execution_count": null,
   "id": "76bf7e96",
   "metadata": {},
   "outputs": [],
   "source": [
    "list(itertools.chain('ABC', 'DEF'))"
   ]
  },
  {
   "cell_type": "code",
   "execution_count": null,
   "id": "6a6efa11",
   "metadata": {},
   "outputs": [],
   "source": [
    "list(itertools.compress('ABCDEF', [1,0,1,0,1,0]))"
   ]
  },
  {
   "cell_type": "code",
   "execution_count": null,
   "id": "480b1e04",
   "metadata": {},
   "outputs": [],
   "source": [
    "list(itertools.dropwhile(lambda x: x<5, [1,4,6,7,3]))"
   ]
  },
  {
   "cell_type": "code",
   "execution_count": null,
   "id": "03cda52b",
   "metadata": {},
   "outputs": [],
   "source": [
    "list(itertools.takewhile(lambda x: x<5, [1,4,6,7,3]))"
   ]
  },
  {
   "cell_type": "code",
   "execution_count": null,
   "id": "22f2d0b9",
   "metadata": {},
   "outputs": [],
   "source": [
    "list(itertools.filterfalse(lambda x: x%2, range(10)))"
   ]
  },
  {
   "cell_type": "code",
   "execution_count": null,
   "id": "a4fc965a",
   "metadata": {},
   "outputs": [],
   "source": [
    "list(itertools.islice(range(20), 5))"
   ]
  },
  {
   "cell_type": "code",
   "execution_count": null,
   "id": "34e4617c",
   "metadata": {},
   "outputs": [],
   "source": [
    "list(itertools.islice(range(20), 5, 15))"
   ]
  },
  {
   "cell_type": "code",
   "execution_count": null,
   "id": "f29ca584",
   "metadata": {},
   "outputs": [],
   "source": [
    "list(itertools.islice(range(20), 5, 15, 2))"
   ]
  },
  {
   "cell_type": "code",
   "execution_count": null,
   "id": "91ea5864",
   "metadata": {},
   "outputs": [],
   "source": [
    "list(itertools.permutations('ABC'))"
   ]
  },
  {
   "cell_type": "code",
   "execution_count": null,
   "id": "10b62559",
   "metadata": {},
   "outputs": [],
   "source": [
    "list(itertools.permutations('ABCD', 2))"
   ]
  },
  {
   "cell_type": "code",
   "execution_count": null,
   "id": "7cc6e7a0",
   "metadata": {},
   "outputs": [],
   "source": [
    "list(itertools.combinations('ABCD', 2))"
   ]
  },
  {
   "cell_type": "code",
   "execution_count": null,
   "id": "43c757fe",
   "metadata": {},
   "outputs": [],
   "source": [
    "list(itertools.combinations_with_replacement('AB', 3))"
   ]
  },
  {
   "cell_type": "code",
   "execution_count": null,
   "id": "2f286528",
   "metadata": {},
   "outputs": [],
   "source": [
    "list(itertools.product('AB', repeat=2))"
   ]
  },
  {
   "cell_type": "code",
   "execution_count": null,
   "id": "3a9e1b25",
   "metadata": {},
   "outputs": [],
   "source": [
    "list(itertools.groupby('AABBBCCDAA'))"
   ]
  },
  {
   "cell_type": "code",
   "execution_count": null,
   "id": "38956cb3",
   "metadata": {},
   "outputs": [],
   "source": [
    "[list(g) for k, g in itertools.groupby('AABBBCCDAA')]"
   ]
  },
  {
   "cell_type": "code",
   "execution_count": null,
   "id": "3bc94932",
   "metadata": {},
   "outputs": [],
   "source": [
    "list(itertools.starmap(pow, [(2,5), (3,2), (10,3)]))"
   ]
  },
  {
   "cell_type": "code",
   "execution_count": null,
   "id": "8b79a96d",
   "metadata": {},
   "outputs": [],
   "source": [
    "list(itertools.tee([1, 2, 3, 4], 2))[0]"
   ]
  },
  {
   "cell_type": "code",
   "execution_count": null,
   "id": "06f14b4e",
   "metadata": {},
   "outputs": [],
   "source": [
    "a, b = itertools.tee([1, 2, 3, 4], 2); list(a), list(b)"
   ]
  },
  {
   "cell_type": "code",
   "execution_count": null,
   "id": "03994e0b",
   "metadata": {},
   "outputs": [],
   "source": [
    "list(itertools.zip_longest('AB', '1234', fillvalue='-'))"
   ]
  },
  {
   "cell_type": "code",
   "execution_count": null,
   "id": "01453568",
   "metadata": {},
   "outputs": [],
   "source": [
    "data = [(1, 2), (3, 4)]; list(itertools.starmap(lambda x, y: x + y, data))"
   ]
  },
  {
   "cell_type": "code",
   "execution_count": null,
   "id": "46f4cf9a",
   "metadata": {},
   "outputs": [],
   "source": [
    "list(itertools.accumulate(range(1, 6), lambda x, y: x*y))"
   ]
  },
  {
   "cell_type": "code",
   "execution_count": null,
   "id": "a9ef8014",
   "metadata": {},
   "outputs": [],
   "source": [
    "import itertools"
   ]
  },
  {
   "cell_type": "code",
   "execution_count": null,
   "id": "097b5d6e",
   "metadata": {},
   "outputs": [],
   "source": [
    "list(itertools.count(10, 2))[:14]"
   ]
  },
  {
   "cell_type": "code",
   "execution_count": null,
   "id": "e3166e9f",
   "metadata": {},
   "outputs": [],
   "source": [
    "list(itertools.cycle('ABCD'))[:10]"
   ]
  },
  {
   "cell_type": "code",
   "execution_count": null,
   "id": "8029e6e1",
   "metadata": {},
   "outputs": [],
   "source": [
    "list(itertools.repeat('hello', 5))"
   ]
  },
  {
   "cell_type": "code",
   "execution_count": null,
   "id": "236ff99b",
   "metadata": {},
   "outputs": [],
   "source": [
    "list(itertools.accumulate([1,2,3,4]))"
   ]
  },
  {
   "cell_type": "code",
   "execution_count": null,
   "id": "164042c4",
   "metadata": {},
   "outputs": [],
   "source": [
    "list(itertools.chain('ABC', 'DEF'))"
   ]
  },
  {
   "cell_type": "code",
   "execution_count": null,
   "id": "00542bb8",
   "metadata": {},
   "outputs": [],
   "source": [
    "list(itertools.compress('ABCDEF', [1,0,1,0,1,0]))"
   ]
  },
  {
   "cell_type": "code",
   "execution_count": null,
   "id": "69803273",
   "metadata": {},
   "outputs": [],
   "source": [
    "list(itertools.dropwhile(lambda x: x<5, [1,4,6,7,3]))"
   ]
  },
  {
   "cell_type": "code",
   "execution_count": null,
   "id": "b9002132",
   "metadata": {},
   "outputs": [],
   "source": [
    "list(itertools.takewhile(lambda x: x<5, [1,4,6,7,3]))"
   ]
  },
  {
   "cell_type": "code",
   "execution_count": null,
   "id": "d8e1b76b",
   "metadata": {},
   "outputs": [],
   "source": [
    "list(itertools.filterfalse(lambda x: x%2, range(10)))"
   ]
  },
  {
   "cell_type": "code",
   "execution_count": null,
   "id": "1c0ff00e",
   "metadata": {},
   "outputs": [],
   "source": [
    "list(itertools.islice(range(20), 5))"
   ]
  },
  {
   "cell_type": "code",
   "execution_count": null,
   "id": "ebe552a1",
   "metadata": {},
   "outputs": [],
   "source": [
    "list(itertools.islice(range(20), 5, 15))"
   ]
  },
  {
   "cell_type": "code",
   "execution_count": null,
   "id": "904d673a",
   "metadata": {},
   "outputs": [],
   "source": [
    "list(itertools.islice(range(20), 5, 15, 2))"
   ]
  },
  {
   "cell_type": "code",
   "execution_count": null,
   "id": "3df3dc68",
   "metadata": {},
   "outputs": [],
   "source": [
    "list(itertools.permutations('ABC'))"
   ]
  },
  {
   "cell_type": "code",
   "execution_count": null,
   "id": "49f284ca",
   "metadata": {},
   "outputs": [],
   "source": [
    "list(itertools.permutations('ABCD', 2))"
   ]
  },
  {
   "cell_type": "code",
   "execution_count": null,
   "id": "00f601c3",
   "metadata": {},
   "outputs": [],
   "source": [
    "list(itertools.combinations('ABCD', 2))"
   ]
  },
  {
   "cell_type": "code",
   "execution_count": null,
   "id": "88e46cf8",
   "metadata": {},
   "outputs": [],
   "source": [
    "list(itertools.combinations_with_replacement('AB', 3))"
   ]
  },
  {
   "cell_type": "code",
   "execution_count": null,
   "id": "8ce07a08",
   "metadata": {},
   "outputs": [],
   "source": [
    "list(itertools.product('AB', repeat=2))"
   ]
  },
  {
   "cell_type": "code",
   "execution_count": null,
   "id": "197ee2ff",
   "metadata": {},
   "outputs": [],
   "source": [
    "list(itertools.groupby('AABBBCCDAA'))"
   ]
  },
  {
   "cell_type": "code",
   "execution_count": null,
   "id": "42806fcb",
   "metadata": {},
   "outputs": [],
   "source": [
    "[list(g) for k, g in itertools.groupby('AABBBCCDAA')]"
   ]
  },
  {
   "cell_type": "code",
   "execution_count": null,
   "id": "c0d6e8a0",
   "metadata": {},
   "outputs": [],
   "source": [
    "list(itertools.starmap(pow, [(2,5), (3,2), (10,3)]))"
   ]
  },
  {
   "cell_type": "code",
   "execution_count": null,
   "id": "85a557ac",
   "metadata": {},
   "outputs": [],
   "source": [
    "list(itertools.tee([1, 2, 3, 4], 2))[0]"
   ]
  },
  {
   "cell_type": "code",
   "execution_count": null,
   "id": "5d64aeef",
   "metadata": {},
   "outputs": [],
   "source": [
    "a, b = itertools.tee([1, 2, 3, 4], 2); list(a), list(b)"
   ]
  },
  {
   "cell_type": "code",
   "execution_count": null,
   "id": "a0c476b3",
   "metadata": {},
   "outputs": [],
   "source": [
    "list(itertools.zip_longest('AB', '1234', fillvalue='-'))"
   ]
  },
  {
   "cell_type": "code",
   "execution_count": null,
   "id": "e79d3ef2",
   "metadata": {},
   "outputs": [],
   "source": [
    "data = [(1, 2), (3, 4)]; list(itertools.starmap(lambda x, y: x + y, data))"
   ]
  },
  {
   "cell_type": "code",
   "execution_count": null,
   "id": "5536c8ce",
   "metadata": {},
   "outputs": [],
   "source": [
    "list(itertools.accumulate(range(1, 6), lambda x, y: x*y))"
   ]
  },
  {
   "cell_type": "code",
   "execution_count": null,
   "id": "3dfd33ff",
   "metadata": {},
   "outputs": [],
   "source": [
    "import itertools"
   ]
  },
  {
   "cell_type": "code",
   "execution_count": null,
   "id": "6ac7a6ea",
   "metadata": {},
   "outputs": [],
   "source": [
    "list(itertools.count(10, 2))[:10]"
   ]
  },
  {
   "cell_type": "code",
   "execution_count": null,
   "id": "e00209b3",
   "metadata": {},
   "outputs": [],
   "source": [
    "list(itertools.cycle('ABCD'))[:11]"
   ]
  },
  {
   "cell_type": "code",
   "execution_count": null,
   "id": "cd0b0699",
   "metadata": {},
   "outputs": [],
   "source": [
    "list(itertools.repeat('hello', 5))"
   ]
  },
  {
   "cell_type": "code",
   "execution_count": null,
   "id": "17c9741c",
   "metadata": {},
   "outputs": [],
   "source": [
    "list(itertools.accumulate([1,2,3,4]))"
   ]
  },
  {
   "cell_type": "code",
   "execution_count": null,
   "id": "0bde7ee7",
   "metadata": {},
   "outputs": [],
   "source": [
    "list(itertools.chain('ABC', 'DEF'))"
   ]
  },
  {
   "cell_type": "code",
   "execution_count": null,
   "id": "d73c83b5",
   "metadata": {},
   "outputs": [],
   "source": [
    "list(itertools.compress('ABCDEF', [1,0,1,0,1,0]))"
   ]
  },
  {
   "cell_type": "code",
   "execution_count": null,
   "id": "aedef82c",
   "metadata": {},
   "outputs": [],
   "source": [
    "list(itertools.dropwhile(lambda x: x<5, [1,4,6,7,3]))"
   ]
  },
  {
   "cell_type": "code",
   "execution_count": null,
   "id": "cb5931ab",
   "metadata": {},
   "outputs": [],
   "source": [
    "list(itertools.takewhile(lambda x: x<5, [1,4,6,7,3]))"
   ]
  },
  {
   "cell_type": "code",
   "execution_count": null,
   "id": "71f90c73",
   "metadata": {},
   "outputs": [],
   "source": [
    "list(itertools.filterfalse(lambda x: x%2, range(10)))"
   ]
  },
  {
   "cell_type": "code",
   "execution_count": null,
   "id": "579cb319",
   "metadata": {},
   "outputs": [],
   "source": [
    "list(itertools.islice(range(20), 5))"
   ]
  },
  {
   "cell_type": "code",
   "execution_count": null,
   "id": "1bd1f526",
   "metadata": {},
   "outputs": [],
   "source": [
    "list(itertools.islice(range(20), 5, 15))"
   ]
  },
  {
   "cell_type": "code",
   "execution_count": null,
   "id": "4d4fcba9",
   "metadata": {},
   "outputs": [],
   "source": [
    "list(itertools.islice(range(20), 5, 15, 2))"
   ]
  },
  {
   "cell_type": "code",
   "execution_count": null,
   "id": "0809fce5",
   "metadata": {},
   "outputs": [],
   "source": [
    "list(itertools.permutations('ABC'))"
   ]
  },
  {
   "cell_type": "code",
   "execution_count": null,
   "id": "f30c1838",
   "metadata": {},
   "outputs": [],
   "source": [
    "list(itertools.permutations('ABCD', 2))"
   ]
  },
  {
   "cell_type": "code",
   "execution_count": null,
   "id": "da80eb2c",
   "metadata": {},
   "outputs": [],
   "source": [
    "list(itertools.combinations('ABCD', 2))"
   ]
  },
  {
   "cell_type": "code",
   "execution_count": null,
   "id": "e076e05e",
   "metadata": {},
   "outputs": [],
   "source": [
    "list(itertools.combinations_with_replacement('AB', 3))"
   ]
  },
  {
   "cell_type": "code",
   "execution_count": null,
   "id": "8546f35e",
   "metadata": {},
   "outputs": [],
   "source": [
    "list(itertools.product('AB', repeat=2))"
   ]
  },
  {
   "cell_type": "code",
   "execution_count": null,
   "id": "d7d9286d",
   "metadata": {},
   "outputs": [],
   "source": [
    "list(itertools.groupby('AABBBCCDAA'))"
   ]
  },
  {
   "cell_type": "code",
   "execution_count": null,
   "id": "0edadcdb",
   "metadata": {},
   "outputs": [],
   "source": [
    "[list(g) for k, g in itertools.groupby('AABBBCCDAA')]"
   ]
  },
  {
   "cell_type": "code",
   "execution_count": null,
   "id": "0df16fe0",
   "metadata": {},
   "outputs": [],
   "source": [
    "list(itertools.starmap(pow, [(2,5), (3,2), (10,3)]))"
   ]
  },
  {
   "cell_type": "code",
   "execution_count": null,
   "id": "eda0fd56",
   "metadata": {},
   "outputs": [],
   "source": [
    "list(itertools.tee([1, 2, 3, 4], 2))[0]"
   ]
  },
  {
   "cell_type": "code",
   "execution_count": null,
   "id": "ba1518ce",
   "metadata": {},
   "outputs": [],
   "source": [
    "a, b = itertools.tee([1, 2, 3, 4], 2); list(a), list(b)"
   ]
  },
  {
   "cell_type": "code",
   "execution_count": null,
   "id": "17a8522b",
   "metadata": {},
   "outputs": [],
   "source": [
    "list(itertools.zip_longest('AB', '1234', fillvalue='-'))"
   ]
  },
  {
   "cell_type": "code",
   "execution_count": null,
   "id": "b3463b08",
   "metadata": {},
   "outputs": [],
   "source": [
    "data = [(1, 2), (3, 4)]; list(itertools.starmap(lambda x, y: x + y, data))"
   ]
  },
  {
   "cell_type": "code",
   "execution_count": null,
   "id": "eb44b180",
   "metadata": {},
   "outputs": [],
   "source": [
    "list(itertools.accumulate(range(1, 6), lambda x, y: x*y))"
   ]
  },
  {
   "cell_type": "code",
   "execution_count": null,
   "id": "293d5630",
   "metadata": {},
   "outputs": [],
   "source": [
    "import itertools"
   ]
  },
  {
   "cell_type": "code",
   "execution_count": null,
   "id": "29a3bbe6",
   "metadata": {},
   "outputs": [],
   "source": [
    "list(itertools.count(10, 2))[:11]"
   ]
  },
  {
   "cell_type": "code",
   "execution_count": null,
   "id": "e0a61d72",
   "metadata": {},
   "outputs": [],
   "source": [
    "list(itertools.cycle('ABCD'))[:12]"
   ]
  },
  {
   "cell_type": "code",
   "execution_count": null,
   "id": "e79c5179",
   "metadata": {},
   "outputs": [],
   "source": [
    "list(itertools.repeat('hello', 5))"
   ]
  },
  {
   "cell_type": "code",
   "execution_count": null,
   "id": "ee72281a",
   "metadata": {},
   "outputs": [],
   "source": [
    "list(itertools.accumulate([1,2,3,4]))"
   ]
  },
  {
   "cell_type": "code",
   "execution_count": null,
   "id": "c7ca5f09",
   "metadata": {},
   "outputs": [],
   "source": [
    "list(itertools.chain('ABC', 'DEF'))"
   ]
  },
  {
   "cell_type": "code",
   "execution_count": null,
   "id": "d043e81e",
   "metadata": {},
   "outputs": [],
   "source": [
    "list(itertools.compress('ABCDEF', [1,0,1,0,1,0]))"
   ]
  },
  {
   "cell_type": "code",
   "execution_count": null,
   "id": "fa0e84f3",
   "metadata": {},
   "outputs": [],
   "source": [
    "list(itertools.dropwhile(lambda x: x<5, [1,4,6,7,3]))"
   ]
  },
  {
   "cell_type": "code",
   "execution_count": null,
   "id": "fc1b07d0",
   "metadata": {},
   "outputs": [],
   "source": [
    "list(itertools.takewhile(lambda x: x<5, [1,4,6,7,3]))"
   ]
  },
  {
   "cell_type": "code",
   "execution_count": null,
   "id": "583f36d2",
   "metadata": {},
   "outputs": [],
   "source": [
    "list(itertools.filterfalse(lambda x: x%2, range(10)))"
   ]
  },
  {
   "cell_type": "code",
   "execution_count": null,
   "id": "5d10c527",
   "metadata": {},
   "outputs": [],
   "source": [
    "list(itertools.islice(range(20), 5))"
   ]
  },
  {
   "cell_type": "code",
   "execution_count": null,
   "id": "069e30a1",
   "metadata": {},
   "outputs": [],
   "source": [
    "list(itertools.islice(range(20), 5, 15))"
   ]
  },
  {
   "cell_type": "code",
   "execution_count": null,
   "id": "cf41777d",
   "metadata": {},
   "outputs": [],
   "source": [
    "list(itertools.islice(range(20), 5, 15, 2))"
   ]
  },
  {
   "cell_type": "code",
   "execution_count": null,
   "id": "8d8ee7b3",
   "metadata": {},
   "outputs": [],
   "source": [
    "list(itertools.permutations('ABC'))"
   ]
  },
  {
   "cell_type": "code",
   "execution_count": null,
   "id": "a98c98d7",
   "metadata": {},
   "outputs": [],
   "source": [
    "list(itertools.permutations('ABCD', 2))"
   ]
  },
  {
   "cell_type": "code",
   "execution_count": null,
   "id": "c9571a81",
   "metadata": {},
   "outputs": [],
   "source": [
    "list(itertools.combinations('ABCD', 2))"
   ]
  },
  {
   "cell_type": "code",
   "execution_count": null,
   "id": "02fa2808",
   "metadata": {},
   "outputs": [],
   "source": [
    "list(itertools.combinations_with_replacement('AB', 3))"
   ]
  },
  {
   "cell_type": "code",
   "execution_count": null,
   "id": "385a8efb",
   "metadata": {},
   "outputs": [],
   "source": [
    "list(itertools.product('AB', repeat=2))"
   ]
  },
  {
   "cell_type": "code",
   "execution_count": null,
   "id": "0c53d6e0",
   "metadata": {},
   "outputs": [],
   "source": [
    "list(itertools.groupby('AABBBCCDAA'))"
   ]
  },
  {
   "cell_type": "code",
   "execution_count": null,
   "id": "25c3f8f4",
   "metadata": {},
   "outputs": [],
   "source": [
    "[list(g) for k, g in itertools.groupby('AABBBCCDAA')]"
   ]
  },
  {
   "cell_type": "code",
   "execution_count": null,
   "id": "ac016d0e",
   "metadata": {},
   "outputs": [],
   "source": [
    "list(itertools.starmap(pow, [(2,5), (3,2), (10,3)]))"
   ]
  },
  {
   "cell_type": "code",
   "execution_count": null,
   "id": "7a629781",
   "metadata": {},
   "outputs": [],
   "source": [
    "list(itertools.tee([1, 2, 3, 4], 2))[0]"
   ]
  },
  {
   "cell_type": "code",
   "execution_count": null,
   "id": "decb2a29",
   "metadata": {},
   "outputs": [],
   "source": [
    "a, b = itertools.tee([1, 2, 3, 4], 2); list(a), list(b)"
   ]
  },
  {
   "cell_type": "code",
   "execution_count": null,
   "id": "6155358b",
   "metadata": {},
   "outputs": [],
   "source": [
    "list(itertools.zip_longest('AB', '1234', fillvalue='-'))"
   ]
  },
  {
   "cell_type": "code",
   "execution_count": null,
   "id": "d9343bb9",
   "metadata": {},
   "outputs": [],
   "source": [
    "data = [(1, 2), (3, 4)]; list(itertools.starmap(lambda x, y: x + y, data))"
   ]
  },
  {
   "cell_type": "code",
   "execution_count": null,
   "id": "4c0abd4f",
   "metadata": {},
   "outputs": [],
   "source": [
    "list(itertools.accumulate(range(1, 6), lambda x, y: x*y))"
   ]
  },
  {
   "cell_type": "code",
   "execution_count": null,
   "id": "023208e6",
   "metadata": {},
   "outputs": [],
   "source": [
    "import itertools"
   ]
  },
  {
   "cell_type": "code",
   "execution_count": null,
   "id": "ca83d95b",
   "metadata": {},
   "outputs": [],
   "source": [
    "list(itertools.count(10, 2))[:12]"
   ]
  },
  {
   "cell_type": "code",
   "execution_count": null,
   "id": "7c447453",
   "metadata": {},
   "outputs": [],
   "source": [
    "list(itertools.cycle('ABCD'))[:13]"
   ]
  },
  {
   "cell_type": "code",
   "execution_count": null,
   "id": "d47fb74e",
   "metadata": {},
   "outputs": [],
   "source": [
    "list(itertools.repeat('hello', 5))"
   ]
  },
  {
   "cell_type": "code",
   "execution_count": null,
   "id": "8ab6399c",
   "metadata": {},
   "outputs": [],
   "source": [
    "list(itertools.accumulate([1,2,3,4]))"
   ]
  },
  {
   "cell_type": "code",
   "execution_count": null,
   "id": "e358db83",
   "metadata": {},
   "outputs": [],
   "source": [
    "list(itertools.chain('ABC', 'DEF'))"
   ]
  },
  {
   "cell_type": "code",
   "execution_count": null,
   "id": "4b104ed3",
   "metadata": {},
   "outputs": [],
   "source": [
    "list(itertools.compress('ABCDEF', [1,0,1,0,1,0]))"
   ]
  },
  {
   "cell_type": "code",
   "execution_count": null,
   "id": "41d648d6",
   "metadata": {},
   "outputs": [],
   "source": [
    "list(itertools.dropwhile(lambda x: x<5, [1,4,6,7,3]))"
   ]
  },
  {
   "cell_type": "code",
   "execution_count": null,
   "id": "81419a3a",
   "metadata": {},
   "outputs": [],
   "source": [
    "list(itertools.takewhile(lambda x: x<5, [1,4,6,7,3]))"
   ]
  },
  {
   "cell_type": "code",
   "execution_count": null,
   "id": "def8bec6",
   "metadata": {},
   "outputs": [],
   "source": [
    "list(itertools.filterfalse(lambda x: x%2, range(10)))"
   ]
  },
  {
   "cell_type": "code",
   "execution_count": null,
   "id": "07436c29",
   "metadata": {},
   "outputs": [],
   "source": [
    "list(itertools.islice(range(20), 5))"
   ]
  },
  {
   "cell_type": "code",
   "execution_count": null,
   "id": "dad02bff",
   "metadata": {},
   "outputs": [],
   "source": [
    "list(itertools.islice(range(20), 5, 15))"
   ]
  },
  {
   "cell_type": "code",
   "execution_count": null,
   "id": "2a51123d",
   "metadata": {},
   "outputs": [],
   "source": [
    "list(itertools.islice(range(20), 5, 15, 2))"
   ]
  },
  {
   "cell_type": "code",
   "execution_count": null,
   "id": "3c3d8cb1",
   "metadata": {},
   "outputs": [],
   "source": [
    "list(itertools.permutations('ABC'))"
   ]
  },
  {
   "cell_type": "code",
   "execution_count": null,
   "id": "3e918510",
   "metadata": {},
   "outputs": [],
   "source": [
    "list(itertools.permutations('ABCD', 2))"
   ]
  },
  {
   "cell_type": "code",
   "execution_count": null,
   "id": "4ecf4c8e",
   "metadata": {},
   "outputs": [],
   "source": [
    "list(itertools.combinations('ABCD', 2))"
   ]
  },
  {
   "cell_type": "code",
   "execution_count": null,
   "id": "e7b69a21",
   "metadata": {},
   "outputs": [],
   "source": [
    "list(itertools.combinations_with_replacement('AB', 3))"
   ]
  },
  {
   "cell_type": "code",
   "execution_count": null,
   "id": "cc6ccc7b",
   "metadata": {},
   "outputs": [],
   "source": [
    "list(itertools.product('AB', repeat=2))"
   ]
  },
  {
   "cell_type": "code",
   "execution_count": null,
   "id": "3129c5ec",
   "metadata": {},
   "outputs": [],
   "source": [
    "list(itertools.groupby('AABBBCCDAA'))"
   ]
  },
  {
   "cell_type": "code",
   "execution_count": null,
   "id": "805b7d74",
   "metadata": {},
   "outputs": [],
   "source": [
    "[list(g) for k, g in itertools.groupby('AABBBCCDAA')]"
   ]
  },
  {
   "cell_type": "code",
   "execution_count": null,
   "id": "71e82fcd",
   "metadata": {},
   "outputs": [],
   "source": [
    "list(itertools.starmap(pow, [(2,5), (3,2), (10,3)]))"
   ]
  },
  {
   "cell_type": "code",
   "execution_count": null,
   "id": "ce655548",
   "metadata": {},
   "outputs": [],
   "source": [
    "list(itertools.tee([1, 2, 3, 4], 2))[0]"
   ]
  },
  {
   "cell_type": "code",
   "execution_count": null,
   "id": "5023d63e",
   "metadata": {},
   "outputs": [],
   "source": [
    "a, b = itertools.tee([1, 2, 3, 4], 2); list(a), list(b)"
   ]
  },
  {
   "cell_type": "code",
   "execution_count": null,
   "id": "3e54804e",
   "metadata": {},
   "outputs": [],
   "source": [
    "list(itertools.zip_longest('AB', '1234', fillvalue='-'))"
   ]
  },
  {
   "cell_type": "code",
   "execution_count": null,
   "id": "6ffbbaf8",
   "metadata": {},
   "outputs": [],
   "source": [
    "data = [(1, 2), (3, 4)]; list(itertools.starmap(lambda x, y: x + y, data))"
   ]
  },
  {
   "cell_type": "code",
   "execution_count": null,
   "id": "24c665f6",
   "metadata": {},
   "outputs": [],
   "source": [
    "list(itertools.accumulate(range(1, 6), lambda x, y: x*y))"
   ]
  },
  {
   "cell_type": "code",
   "execution_count": null,
   "id": "dd1b49f9",
   "metadata": {},
   "outputs": [],
   "source": [
    "import itertools"
   ]
  },
  {
   "cell_type": "code",
   "execution_count": null,
   "id": "60af7b52",
   "metadata": {},
   "outputs": [],
   "source": [
    "list(itertools.count(10, 2))[:13]"
   ]
  },
  {
   "cell_type": "code",
   "execution_count": null,
   "id": "a8bf13f3",
   "metadata": {},
   "outputs": [],
   "source": [
    "list(itertools.cycle('ABCD'))[:14]"
   ]
  },
  {
   "cell_type": "code",
   "execution_count": null,
   "id": "47e1553f",
   "metadata": {},
   "outputs": [],
   "source": [
    "list(itertools.repeat('hello', 5))"
   ]
  },
  {
   "cell_type": "code",
   "execution_count": null,
   "id": "33cbdfe3",
   "metadata": {},
   "outputs": [],
   "source": [
    "list(itertools.accumulate([1,2,3,4]))"
   ]
  },
  {
   "cell_type": "code",
   "execution_count": null,
   "id": "48a0f6ca",
   "metadata": {},
   "outputs": [],
   "source": [
    "list(itertools.chain('ABC', 'DEF'))"
   ]
  },
  {
   "cell_type": "code",
   "execution_count": null,
   "id": "46ff3a46",
   "metadata": {},
   "outputs": [],
   "source": [
    "list(itertools.compress('ABCDEF', [1,0,1,0,1,0]))"
   ]
  },
  {
   "cell_type": "code",
   "execution_count": null,
   "id": "58314d5e",
   "metadata": {},
   "outputs": [],
   "source": [
    "list(itertools.dropwhile(lambda x: x<5, [1,4,6,7,3]))"
   ]
  },
  {
   "cell_type": "code",
   "execution_count": null,
   "id": "8a39335b",
   "metadata": {},
   "outputs": [],
   "source": [
    "list(itertools.takewhile(lambda x: x<5, [1,4,6,7,3]))"
   ]
  },
  {
   "cell_type": "code",
   "execution_count": null,
   "id": "55292709",
   "metadata": {},
   "outputs": [],
   "source": [
    "list(itertools.filterfalse(lambda x: x%2, range(10)))"
   ]
  },
  {
   "cell_type": "code",
   "execution_count": null,
   "id": "ad0cdbc5",
   "metadata": {},
   "outputs": [],
   "source": [
    "list(itertools.islice(range(20), 5))"
   ]
  },
  {
   "cell_type": "code",
   "execution_count": null,
   "id": "8a3fcf88",
   "metadata": {},
   "outputs": [],
   "source": [
    "list(itertools.islice(range(20), 5, 15))"
   ]
  },
  {
   "cell_type": "code",
   "execution_count": null,
   "id": "c47a9ceb",
   "metadata": {},
   "outputs": [],
   "source": [
    "list(itertools.islice(range(20), 5, 15, 2))"
   ]
  },
  {
   "cell_type": "code",
   "execution_count": null,
   "id": "ac89820e",
   "metadata": {},
   "outputs": [],
   "source": [
    "list(itertools.permutations('ABC'))"
   ]
  },
  {
   "cell_type": "code",
   "execution_count": null,
   "id": "9c5b9f4e",
   "metadata": {},
   "outputs": [],
   "source": [
    "list(itertools.permutations('ABCD', 2))"
   ]
  },
  {
   "cell_type": "code",
   "execution_count": null,
   "id": "ba581aa3",
   "metadata": {},
   "outputs": [],
   "source": [
    "list(itertools.combinations('ABCD', 2))"
   ]
  },
  {
   "cell_type": "code",
   "execution_count": null,
   "id": "30a7eb6e",
   "metadata": {},
   "outputs": [],
   "source": [
    "list(itertools.combinations_with_replacement('AB', 3))"
   ]
  },
  {
   "cell_type": "code",
   "execution_count": null,
   "id": "0e6ad90d",
   "metadata": {},
   "outputs": [],
   "source": [
    "list(itertools.product('AB', repeat=2))"
   ]
  },
  {
   "cell_type": "code",
   "execution_count": null,
   "id": "f65bcfbd",
   "metadata": {},
   "outputs": [],
   "source": [
    "list(itertools.groupby('AABBBCCDAA'))"
   ]
  },
  {
   "cell_type": "code",
   "execution_count": null,
   "id": "cf51c954",
   "metadata": {},
   "outputs": [],
   "source": [
    "[list(g) for k, g in itertools.groupby('AABBBCCDAA')]"
   ]
  },
  {
   "cell_type": "code",
   "execution_count": null,
   "id": "8a765d15",
   "metadata": {},
   "outputs": [],
   "source": [
    "list(itertools.starmap(pow, [(2,5), (3,2), (10,3)]))"
   ]
  },
  {
   "cell_type": "code",
   "execution_count": null,
   "id": "c5106827",
   "metadata": {},
   "outputs": [],
   "source": [
    "list(itertools.tee([1, 2, 3, 4], 2))[0]"
   ]
  },
  {
   "cell_type": "code",
   "execution_count": null,
   "id": "6ce18334",
   "metadata": {},
   "outputs": [],
   "source": [
    "a, b = itertools.tee([1, 2, 3, 4], 2); list(a), list(b)"
   ]
  },
  {
   "cell_type": "code",
   "execution_count": null,
   "id": "6962a258",
   "metadata": {},
   "outputs": [],
   "source": [
    "list(itertools.zip_longest('AB', '1234', fillvalue='-'))"
   ]
  },
  {
   "cell_type": "code",
   "execution_count": null,
   "id": "49f2aa9b",
   "metadata": {},
   "outputs": [],
   "source": [
    "data = [(1, 2), (3, 4)]; list(itertools.starmap(lambda x, y: x + y, data))"
   ]
  },
  {
   "cell_type": "code",
   "execution_count": null,
   "id": "faff8bde",
   "metadata": {},
   "outputs": [],
   "source": [
    "list(itertools.accumulate(range(1, 6), lambda x, y: x*y))"
   ]
  },
  {
   "cell_type": "code",
   "execution_count": null,
   "id": "f8ba717e",
   "metadata": {},
   "outputs": [],
   "source": [
    "import itertools"
   ]
  },
  {
   "cell_type": "code",
   "execution_count": null,
   "id": "85e5aaed",
   "metadata": {},
   "outputs": [],
   "source": [
    "list(itertools.count(10, 2))[:14]"
   ]
  },
  {
   "cell_type": "code",
   "execution_count": null,
   "id": "db26b64c",
   "metadata": {},
   "outputs": [],
   "source": [
    "list(itertools.cycle('ABCD'))[:10]"
   ]
  },
  {
   "cell_type": "code",
   "execution_count": null,
   "id": "995cde44",
   "metadata": {},
   "outputs": [],
   "source": [
    "list(itertools.repeat('hello', 5))"
   ]
  },
  {
   "cell_type": "code",
   "execution_count": null,
   "id": "3b2a43bf",
   "metadata": {},
   "outputs": [],
   "source": [
    "list(itertools.accumulate([1,2,3,4]))"
   ]
  },
  {
   "cell_type": "code",
   "execution_count": null,
   "id": "1c234a15",
   "metadata": {},
   "outputs": [],
   "source": [
    "list(itertools.chain('ABC', 'DEF'))"
   ]
  },
  {
   "cell_type": "code",
   "execution_count": null,
   "id": "d3f07eb7",
   "metadata": {},
   "outputs": [],
   "source": [
    "list(itertools.compress('ABCDEF', [1,0,1,0,1,0]))"
   ]
  },
  {
   "cell_type": "code",
   "execution_count": null,
   "id": "7c3e515c",
   "metadata": {},
   "outputs": [],
   "source": [
    "list(itertools.dropwhile(lambda x: x<5, [1,4,6,7,3]))"
   ]
  },
  {
   "cell_type": "code",
   "execution_count": null,
   "id": "fb40450f",
   "metadata": {},
   "outputs": [],
   "source": [
    "list(itertools.takewhile(lambda x: x<5, [1,4,6,7,3]))"
   ]
  },
  {
   "cell_type": "code",
   "execution_count": null,
   "id": "e0d61d33",
   "metadata": {},
   "outputs": [],
   "source": [
    "list(itertools.filterfalse(lambda x: x%2, range(10)))"
   ]
  },
  {
   "cell_type": "code",
   "execution_count": null,
   "id": "dade05a4",
   "metadata": {},
   "outputs": [],
   "source": [
    "list(itertools.islice(range(20), 5))"
   ]
  },
  {
   "cell_type": "code",
   "execution_count": null,
   "id": "1befd5ed",
   "metadata": {},
   "outputs": [],
   "source": [
    "list(itertools.islice(range(20), 5, 15))"
   ]
  }
 ],
 "metadata": {
  "kernelspec": {
   "display_name": "Python 3 (ipykernel)",
   "language": "python",
   "name": "python3"
  },
  "language_info": {
   "codemirror_mode": {
    "name": "ipython",
    "version": 3
   },
   "file_extension": ".py",
   "mimetype": "text/x-python",
   "name": "python",
   "nbconvert_exporter": "python",
   "pygments_lexer": "ipython3",
   "version": "3.12.11"
  }
 },
 "nbformat": 4,
 "nbformat_minor": 5
}
