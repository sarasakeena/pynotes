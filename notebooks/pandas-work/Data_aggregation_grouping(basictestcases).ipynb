{
  "nbformat": 4,
  "nbformat_minor": 5,
  "metadata": {
    "kernelspec": {
      "display_name": "Python 3",
      "language": "python",
      "name": "python3"
    },
    "language_info": {
      "name": "python",
      "version": "3.12"
    }
  },
  "cells": [
    {
      "id": "5fb08f16",
      "cell_type": "code",
      "metadata": {},
      "execution_count": null,
      "source": "import pandas as pd\ndf = pd.DataFrame({'group': ['A', 'B', 'A', 'B'], 'value': [1, 2, 3, 2]})\ndf.groupby('group').agg(['sum', 'mean'])",
      "outputs": []
    },
    {
      "id": "570d873d",
      "cell_type": "code",
      "metadata": {},
      "execution_count": null,
      "source": "import pandas as pd\ndf = pd.DataFrame({'group': ['A', 'B', 'A', 'B'], 'value': [1, 2, 3, 3]})\ndf.groupby('group').agg(['sum', 'mean'])",
      "outputs": []
    },
    {
      "id": "a3b675bb",
      "cell_type": "code",
      "metadata": {},
      "execution_count": null,
      "source": "import pandas as pd\ndf = pd.DataFrame({'group': ['A', 'B', 'A', 'B'], 'value': [1, 2, 3, 4]})\ndf.groupby('group').agg(['sum', 'mean'])",
      "outputs": []
    },
    {
      "id": "5dee3555",
      "cell_type": "code",
      "metadata": {},
      "execution_count": null,
      "source": "import pandas as pd\ndf = pd.DataFrame({'group': ['A', 'B', 'A', 'B'], 'value': [1, 2, 3, 5]})\ndf.groupby('group').agg(['sum', 'mean'])",
      "outputs": []
    },
    {
      "id": "53ff85e1",
      "cell_type": "code",
      "metadata": {},
      "execution_count": null,
      "source": "import pandas as pd\ndf = pd.DataFrame({'group': ['A', 'B', 'A', 'B'], 'value': [1, 2, 3, 6]})\ndf.groupby('group').agg(['sum', 'mean'])",
      "outputs": []
    },
    {
      "id": "14f7f0d2",
      "cell_type": "code",
      "metadata": {},
      "execution_count": null,
      "source": "import pandas as pd\ndf = pd.DataFrame({'group': ['A', 'B', 'A', 'B'], 'value': [1, 2, 3, 7]})\ndf.groupby('group').agg(['sum', 'mean'])",
      "outputs": []
    },
    {
      "id": "9f9f5dfe",
      "cell_type": "code",
      "metadata": {},
      "execution_count": null,
      "source": "import pandas as pd\ndf = pd.DataFrame({'group': ['A', 'B', 'A', 'B'], 'value': [1, 2, 3, 8]})\ndf.groupby('group').agg(['sum', 'mean'])",
      "outputs": []
    },
    {
      "id": "f4260f46",
      "cell_type": "code",
      "metadata": {},
      "execution_count": null,
      "source": "import pandas as pd\ndf = pd.DataFrame({'group': ['A', 'B', 'A', 'B'], 'value': [1, 2, 3, 9]})\ndf.groupby('group').agg(['sum', 'mean'])",
      "outputs": []
    },
    {
      "id": "1bb38eca",
      "cell_type": "code",
      "metadata": {},
      "execution_count": null,
      "source": "import pandas as pd\ndf = pd.DataFrame({'group': ['A', 'B', 'A', 'B'], 'value': [1, 2, 3, 10]})\ndf.groupby('group').agg(['sum', 'mean'])",
      "outputs": []
    },
    {
      "id": "28a8f808",
      "cell_type": "code",
      "metadata": {},
      "execution_count": null,
      "source": "import pandas as pd\ndf = pd.DataFrame({'group': ['A', 'B', 'A', 'B'], 'value': [1, 2, 3, 1]})\ndf.groupby('group').agg(['sum', 'mean'])",
      "outputs": []
    },
    {
      "id": "f04c4d71",
      "cell_type": "code",
      "metadata": {},
      "execution_count": null,
      "source": "import pandas as pd\ndf = pd.DataFrame({'group': ['A', 'B', 'A', 'B'], 'value': [1, 2, 3, 2]})\ndf.groupby('group').agg(['sum', 'mean'])",
      "outputs": []
    },
    {
      "id": "89543e4e",
      "cell_type": "code",
      "metadata": {},
      "execution_count": null,
      "source": "import pandas as pd\ndf = pd.DataFrame({'group': ['A', 'B', 'A', 'B'], 'value': [1, 2, 3, 3]})\ndf.groupby('group').agg(['sum', 'mean'])",
      "outputs": []
    },
    {
      "id": "d156c4a1",
      "cell_type": "code",
      "metadata": {},
      "execution_count": null,
      "source": "import pandas as pd\ndf = pd.DataFrame({'group': ['A', 'B', 'A', 'B'], 'value': [1, 2, 3, 4]})\ndf.groupby('group').agg(['sum', 'mean'])",
      "outputs": []
    },
    {
      "id": "28eefc92",
      "cell_type": "code",
      "metadata": {},
      "execution_count": null,
      "source": "import pandas as pd\ndf = pd.DataFrame({'group': ['A', 'B', 'A', 'B'], 'value': [1, 2, 3, 5]})\ndf.groupby('group').agg(['sum', 'mean'])",
      "outputs": []
    },
    {
      "id": "49b70c02",
      "cell_type": "code",
      "metadata": {},
      "execution_count": null,
      "source": "import pandas as pd\ndf = pd.DataFrame({'group': ['A', 'B', 'A', 'B'], 'value': [1, 2, 3, 6]})\ndf.groupby('group').agg(['sum', 'mean'])",
      "outputs": []
    },
    {
      "id": "b57ee4c4",
      "cell_type": "code",
      "metadata": {},
      "execution_count": null,
      "source": "import pandas as pd\ndf = pd.DataFrame({'group': ['A', 'B', 'A', 'B'], 'value': [1, 2, 3, 7]})\ndf.groupby('group').agg(['sum', 'mean'])",
      "outputs": []
    },
    {
      "id": "ce3eaf1f",
      "cell_type": "code",
      "metadata": {},
      "execution_count": null,
      "source": "import pandas as pd\ndf = pd.DataFrame({'group': ['A', 'B', 'A', 'B'], 'value': [1, 2, 3, 8]})\ndf.groupby('group').agg(['sum', 'mean'])",
      "outputs": []
    },
    {
      "id": "f9976261",
      "cell_type": "code",
      "metadata": {},
      "execution_count": null,
      "source": "import pandas as pd\ndf = pd.DataFrame({'group': ['A', 'B', 'A', 'B'], 'value': [1, 2, 3, 9]})\ndf.groupby('group').agg(['sum', 'mean'])",
      "outputs": []
    },
    {
      "id": "7f608085",
      "cell_type": "code",
      "metadata": {},
      "execution_count": null,
      "source": "import pandas as pd\ndf = pd.DataFrame({'group': ['A', 'B', 'A', 'B'], 'value': [1, 2, 3, 10]})\ndf.groupby('group').agg(['sum', 'mean'])",
      "outputs": []
    },
    {
      "id": "e8d9b6bd",
      "cell_type": "code",
      "metadata": {},
      "execution_count": null,
      "source": "import pandas as pd\ndf = pd.DataFrame({'group': ['A', 'B', 'A', 'B'], 'value': [1, 2, 3, 1]})\ndf.groupby('group').agg(['sum', 'mean'])",
      "outputs": []
    },
    {
      "id": "3a49bd7d",
      "cell_type": "code",
      "metadata": {},
      "execution_count": null,
      "source": "import pandas as pd\ndf = pd.DataFrame({'group': ['A', 'B', 'A', 'B'], 'value': [1, 2, 3, 2]})\ndf.groupby('group').agg(['sum', 'mean'])",
      "outputs": []
    },
    {
      "id": "eeee6fc9",
      "cell_type": "code",
      "metadata": {},
      "execution_count": null,
      "source": "import pandas as pd\ndf = pd.DataFrame({'group': ['A', 'B', 'A', 'B'], 'value': [1, 2, 3, 3]})\ndf.groupby('group').agg(['sum', 'mean'])",
      "outputs": []
    },
    {
      "id": "3d75d424",
      "cell_type": "code",
      "metadata": {},
      "execution_count": null,
      "source": "import pandas as pd\ndf = pd.DataFrame({'group': ['A', 'B', 'A', 'B'], 'value': [1, 2, 3, 4]})\ndf.groupby('group').agg(['sum', 'mean'])",
      "outputs": []
    },
    {
      "id": "e8ba4464",
      "cell_type": "code",
      "metadata": {},
      "execution_count": null,
      "source": "import pandas as pd\ndf = pd.DataFrame({'group': ['A', 'B', 'A', 'B'], 'value': [1, 2, 3, 5]})\ndf.groupby('group').agg(['sum', 'mean'])",
      "outputs": []
    },
    {
      "id": "829e19ca",
      "cell_type": "code",
      "metadata": {},
      "execution_count": null,
      "source": "import pandas as pd\ndf = pd.DataFrame({'group': ['A', 'B', 'A', 'B'], 'value': [1, 2, 3, 6]})\ndf.groupby('group').agg(['sum', 'mean'])",
      "outputs": []
    },
    {
      "id": "726149ac",
      "cell_type": "code",
      "metadata": {},
      "execution_count": null,
      "source": "import pandas as pd\ndf = pd.DataFrame({'group': ['A', 'B', 'A', 'B'], 'value': [1, 2, 3, 7]})\ndf.groupby('group').agg(['sum', 'mean'])",
      "outputs": []
    },
    {
      "id": "e5758729",
      "cell_type": "code",
      "metadata": {},
      "execution_count": null,
      "source": "import pandas as pd\ndf = pd.DataFrame({'group': ['A', 'B', 'A', 'B'], 'value': [1, 2, 3, 8]})\ndf.groupby('group').agg(['sum', 'mean'])",
      "outputs": []
    },
    {
      "id": "1438f587",
      "cell_type": "code",
      "metadata": {},
      "execution_count": null,
      "source": "import pandas as pd\ndf = pd.DataFrame({'group': ['A', 'B', 'A', 'B'], 'value': [1, 2, 3, 9]})\ndf.groupby('group').agg(['sum', 'mean'])",
      "outputs": []
    },
    {
      "id": "c8634acb",
      "cell_type": "code",
      "metadata": {},
      "execution_count": null,
      "source": "import pandas as pd\ndf = pd.DataFrame({'group': ['A', 'B', 'A', 'B'], 'value': [1, 2, 3, 10]})\ndf.groupby('group').agg(['sum', 'mean'])",
      "outputs": []
    },
    {
      "id": "5cae1581",
      "cell_type": "code",
      "metadata": {},
      "execution_count": null,
      "source": "import pandas as pd\ndf = pd.DataFrame({'group': ['A', 'B', 'A', 'B'], 'value': [1, 2, 3, 1]})\ndf.groupby('group').agg(['sum', 'mean'])",
      "outputs": []
    },
    {
      "id": "2833f0bb",
      "cell_type": "code",
      "metadata": {},
      "execution_count": null,
      "source": "import pandas as pd\ndf = pd.DataFrame({'group': ['A', 'B', 'A', 'B'], 'value': [1, 2, 3, 2]})\ndf.groupby('group').agg(['sum', 'mean'])",
      "outputs": []
    },
    {
      "id": "05a6666d",
      "cell_type": "code",
      "metadata": {},
      "execution_count": null,
      "source": "import pandas as pd\ndf = pd.DataFrame({'group': ['A', 'B', 'A', 'B'], 'value': [1, 2, 3, 3]})\ndf.groupby('group').agg(['sum', 'mean'])",
      "outputs": []
    },
    {
      "id": "893d9b4a",
      "cell_type": "code",
      "metadata": {},
      "execution_count": null,
      "source": "import pandas as pd\ndf = pd.DataFrame({'group': ['A', 'B', 'A', 'B'], 'value': [1, 2, 3, 4]})\ndf.groupby('group').agg(['sum', 'mean'])",
      "outputs": []
    },
    {
      "id": "fa7fa383",
      "cell_type": "code",
      "metadata": {},
      "execution_count": null,
      "source": "import pandas as pd\ndf = pd.DataFrame({'group': ['A', 'B', 'A', 'B'], 'value': [1, 2, 3, 5]})\ndf.groupby('group').agg(['sum', 'mean'])",
      "outputs": []
    },
    {
      "id": "3a81a934",
      "cell_type": "code",
      "metadata": {},
      "execution_count": null,
      "source": "import pandas as pd\ndf = pd.DataFrame({'group': ['A', 'B', 'A', 'B'], 'value': [1, 2, 3, 6]})\ndf.groupby('group').agg(['sum', 'mean'])",
      "outputs": []
    },
    {
      "id": "69fc37c7",
      "cell_type": "code",
      "metadata": {},
      "execution_count": null,
      "source": "import pandas as pd\ndf = pd.DataFrame({'group': ['A', 'B', 'A', 'B'], 'value': [1, 2, 3, 7]})\ndf.groupby('group').agg(['sum', 'mean'])",
      "outputs": []
    },
    {
      "id": "aebc8ccb",
      "cell_type": "code",
      "metadata": {},
      "execution_count": null,
      "source": "import pandas as pd\ndf = pd.DataFrame({'group': ['A', 'B', 'A', 'B'], 'value': [1, 2, 3, 8]})\ndf.groupby('group').agg(['sum', 'mean'])",
      "outputs": []
    },
    {
      "id": "4a4c5d10",
      "cell_type": "code",
      "metadata": {},
      "execution_count": null,
      "source": "import pandas as pd\ndf = pd.DataFrame({'group': ['A', 'B', 'A', 'B'], 'value': [1, 2, 3, 9]})\ndf.groupby('group').agg(['sum', 'mean'])",
      "outputs": []
    },
    {
      "id": "830c67ba",
      "cell_type": "code",
      "metadata": {},
      "execution_count": null,
      "source": "import pandas as pd\ndf = pd.DataFrame({'group': ['A', 'B', 'A', 'B'], 'value': [1, 2, 3, 10]})\ndf.groupby('group').agg(['sum', 'mean'])",
      "outputs": []
    },
    {
      "id": "901d6c7b",
      "cell_type": "code",
      "metadata": {},
      "execution_count": null,
      "source": "import pandas as pd\ndf = pd.DataFrame({'group': ['A', 'B', 'A', 'B'], 'value': [1, 2, 3, 1]})\ndf.groupby('group').agg(['sum', 'mean'])",
      "outputs": []
    },
    {
      "id": "8b2068dd",
      "cell_type": "code",
      "metadata": {},
      "execution_count": null,
      "source": "import pandas as pd\ndf = pd.DataFrame({'group': ['A', 'B', 'A', 'B'], 'value': [1, 2, 3, 2]})\ndf.groupby('group').agg(['sum', 'mean'])",
      "outputs": []
    },
    {
      "id": "f0c0be66",
      "cell_type": "code",
      "metadata": {},
      "execution_count": null,
      "source": "import pandas as pd\ndf = pd.DataFrame({'group': ['A', 'B', 'A', 'B'], 'value': [1, 2, 3, 3]})\ndf.groupby('group').agg(['sum', 'mean'])",
      "outputs": []
    },
    {
      "id": "38d130fb",
      "cell_type": "code",
      "metadata": {},
      "execution_count": null,
      "source": "import pandas as pd\ndf = pd.DataFrame({'group': ['A', 'B', 'A', 'B'], 'value': [1, 2, 3, 4]})\ndf.groupby('group').agg(['sum', 'mean'])",
      "outputs": []
    },
    {
      "id": "af3b8490",
      "cell_type": "code",
      "metadata": {},
      "execution_count": null,
      "source": "import pandas as pd\ndf = pd.DataFrame({'group': ['A', 'B', 'A', 'B'], 'value': [1, 2, 3, 5]})\ndf.groupby('group').agg(['sum', 'mean'])",
      "outputs": []
    },
    {
      "id": "dc72771b",
      "cell_type": "code",
      "metadata": {},
      "execution_count": null,
      "source": "import pandas as pd\ndf = pd.DataFrame({'group': ['A', 'B', 'A', 'B'], 'value': [1, 2, 3, 6]})\ndf.groupby('group').agg(['sum', 'mean'])",
      "outputs": []
    },
    {
      "id": "d22352d2",
      "cell_type": "code",
      "metadata": {},
      "execution_count": null,
      "source": "import pandas as pd\ndf = pd.DataFrame({'group': ['A', 'B', 'A', 'B'], 'value': [1, 2, 3, 7]})\ndf.groupby('group').agg(['sum', 'mean'])",
      "outputs": []
    },
    {
      "id": "fa35b953",
      "cell_type": "code",
      "metadata": {},
      "execution_count": null,
      "source": "import pandas as pd\ndf = pd.DataFrame({'group': ['A', 'B', 'A', 'B'], 'value': [1, 2, 3, 8]})\ndf.groupby('group').agg(['sum', 'mean'])",
      "outputs": []
    },
    {
      "id": "1101dc5c",
      "cell_type": "code",
      "metadata": {},
      "execution_count": null,
      "source": "import pandas as pd\ndf = pd.DataFrame({'group': ['A', 'B', 'A', 'B'], 'value': [1, 2, 3, 9]})\ndf.groupby('group').agg(['sum', 'mean'])",
      "outputs": []
    },
    {
      "id": "f00efb7b",
      "cell_type": "code",
      "metadata": {},
      "execution_count": null,
      "source": "import pandas as pd\ndf = pd.DataFrame({'group': ['A', 'B', 'A', 'B'], 'value': [1, 2, 3, 10]})\ndf.groupby('group').agg(['sum', 'mean'])",
      "outputs": []
    },
    {
      "id": "ae820a96",
      "cell_type": "code",
      "metadata": {},
      "execution_count": null,
      "source": "import pandas as pd\ndf = pd.DataFrame({'group': ['A', 'B', 'A', 'B'], 'value': [1, 2, 3, 1]})\ndf.groupby('group').agg(['sum', 'mean'])",
      "outputs": []
    },
    {
      "id": "a1baa6dd",
      "cell_type": "code",
      "metadata": {},
      "execution_count": null,
      "source": "import pandas as pd\ndf = pd.DataFrame({'group': ['A', 'B', 'A', 'B'], 'value': [1, 2, 3, 2]})\ndf.groupby('group').agg(['sum', 'mean'])",
      "outputs": []
    },
    {
      "id": "1c7716a7",
      "cell_type": "code",
      "metadata": {},
      "execution_count": null,
      "source": "import pandas as pd\ndf = pd.DataFrame({'group': ['A', 'B', 'A', 'B'], 'value': [1, 2, 3, 3]})\ndf.groupby('group').agg(['sum', 'mean'])",
      "outputs": []
    },
    {
      "id": "8e3c7b0d",
      "cell_type": "code",
      "metadata": {},
      "execution_count": null,
      "source": "import pandas as pd\ndf = pd.DataFrame({'group': ['A', 'B', 'A', 'B'], 'value': [1, 2, 3, 4]})\ndf.groupby('group').agg(['sum', 'mean'])",
      "outputs": []
    },
    {
      "id": "376aed93",
      "cell_type": "code",
      "metadata": {},
      "execution_count": null,
      "source": "import pandas as pd\ndf = pd.DataFrame({'group': ['A', 'B', 'A', 'B'], 'value': [1, 2, 3, 5]})\ndf.groupby('group').agg(['sum', 'mean'])",
      "outputs": []
    },
    {
      "id": "22a6eeff",
      "cell_type": "code",
      "metadata": {},
      "execution_count": null,
      "source": "import pandas as pd\ndf = pd.DataFrame({'group': ['A', 'B', 'A', 'B'], 'value': [1, 2, 3, 6]})\ndf.groupby('group').agg(['sum', 'mean'])",
      "outputs": []
    },
    {
      "id": "33c975a9",
      "cell_type": "code",
      "metadata": {},
      "execution_count": null,
      "source": "import pandas as pd\ndf = pd.DataFrame({'group': ['A', 'B', 'A', 'B'], 'value': [1, 2, 3, 7]})\ndf.groupby('group').agg(['sum', 'mean'])",
      "outputs": []
    },
    {
      "id": "877121a6",
      "cell_type": "code",
      "metadata": {},
      "execution_count": null,
      "source": "import pandas as pd\ndf = pd.DataFrame({'group': ['A', 'B', 'A', 'B'], 'value': [1, 2, 3, 8]})\ndf.groupby('group').agg(['sum', 'mean'])",
      "outputs": []
    },
    {
      "id": "2c6b3ccb",
      "cell_type": "code",
      "metadata": {},
      "execution_count": null,
      "source": "import pandas as pd\ndf = pd.DataFrame({'group': ['A', 'B', 'A', 'B'], 'value': [1, 2, 3, 9]})\ndf.groupby('group').agg(['sum', 'mean'])",
      "outputs": []
    },
    {
      "id": "c8758a4c",
      "cell_type": "code",
      "metadata": {},
      "execution_count": null,
      "source": "import pandas as pd\ndf = pd.DataFrame({'group': ['A', 'B', 'A', 'B'], 'value': [1, 2, 3, 10]})\ndf.groupby('group').agg(['sum', 'mean'])",
      "outputs": []
    },
    {
      "id": "e74ac434",
      "cell_type": "code",
      "metadata": {},
      "execution_count": null,
      "source": "import pandas as pd\ndf = pd.DataFrame({'group': ['A', 'B', 'A', 'B'], 'value': [1, 2, 3, 1]})\ndf.groupby('group').agg(['sum', 'mean'])",
      "outputs": []
    },
    {
      "id": "7dbb7bb8",
      "cell_type": "code",
      "metadata": {},
      "execution_count": null,
      "source": "import pandas as pd\ndf = pd.DataFrame({'group': ['A', 'B', 'A', 'B'], 'value': [1, 2, 3, 2]})\ndf.groupby('group').agg(['sum', 'mean'])",
      "outputs": []
    },
    {
      "id": "8a5e6170",
      "cell_type": "code",
      "metadata": {},
      "execution_count": null,
      "source": "import pandas as pd\ndf = pd.DataFrame({'group': ['A', 'B', 'A', 'B'], 'value': [1, 2, 3, 3]})\ndf.groupby('group').agg(['sum', 'mean'])",
      "outputs": []
    },
    {
      "id": "ccda744f",
      "cell_type": "code",
      "metadata": {},
      "execution_count": null,
      "source": "import pandas as pd\ndf = pd.DataFrame({'group': ['A', 'B', 'A', 'B'], 'value': [1, 2, 3, 4]})\ndf.groupby('group').agg(['sum', 'mean'])",
      "outputs": []
    },
    {
      "id": "8aeb0cd6",
      "cell_type": "code",
      "metadata": {},
      "execution_count": null,
      "source": "import pandas as pd\ndf = pd.DataFrame({'group': ['A', 'B', 'A', 'B'], 'value': [1, 2, 3, 5]})\ndf.groupby('group').agg(['sum', 'mean'])",
      "outputs": []
    },
    {
      "id": "7390074a",
      "cell_type": "code",
      "metadata": {},
      "execution_count": null,
      "source": "import pandas as pd\ndf = pd.DataFrame({'group': ['A', 'B', 'A', 'B'], 'value': [1, 2, 3, 6]})\ndf.groupby('group').agg(['sum', 'mean'])",
      "outputs": []
    },
    {
      "id": "cd160a31",
      "cell_type": "code",
      "metadata": {},
      "execution_count": null,
      "source": "import pandas as pd\ndf = pd.DataFrame({'group': ['A', 'B', 'A', 'B'], 'value': [1, 2, 3, 7]})\ndf.groupby('group').agg(['sum', 'mean'])",
      "outputs": []
    },
    {
      "id": "fc271df7",
      "cell_type": "code",
      "metadata": {},
      "execution_count": null,
      "source": "import pandas as pd\ndf = pd.DataFrame({'group': ['A', 'B', 'A', 'B'], 'value': [1, 2, 3, 8]})\ndf.groupby('group').agg(['sum', 'mean'])",
      "outputs": []
    },
    {
      "id": "67dd8d08",
      "cell_type": "code",
      "metadata": {},
      "execution_count": null,
      "source": "import pandas as pd\ndf = pd.DataFrame({'group': ['A', 'B', 'A', 'B'], 'value': [1, 2, 3, 9]})\ndf.groupby('group').agg(['sum', 'mean'])",
      "outputs": []
    },
    {
      "id": "22f32307",
      "cell_type": "code",
      "metadata": {},
      "execution_count": null,
      "source": "import pandas as pd\ndf = pd.DataFrame({'group': ['A', 'B', 'A', 'B'], 'value': [1, 2, 3, 10]})\ndf.groupby('group').agg(['sum', 'mean'])",
      "outputs": []
    },
    {
      "id": "30503630",
      "cell_type": "code",
      "metadata": {},
      "execution_count": null,
      "source": "import pandas as pd\ndf = pd.DataFrame({'group': ['A', 'B', 'A', 'B'], 'value': [1, 2, 3, 1]})\ndf.groupby('group').agg(['sum', 'mean'])",
      "outputs": []
    },
    {
      "id": "12dd6a8c",
      "cell_type": "code",
      "metadata": {},
      "execution_count": null,
      "source": "import pandas as pd\ndf = pd.DataFrame({'group': ['A', 'B', 'A', 'B'], 'value': [1, 2, 3, 2]})\ndf.groupby('group').agg(['sum', 'mean'])",
      "outputs": []
    },
    {
      "id": "2c697ca8",
      "cell_type": "code",
      "metadata": {},
      "execution_count": null,
      "source": "import pandas as pd\ndf = pd.DataFrame({'group': ['A', 'B', 'A', 'B'], 'value': [1, 2, 3, 3]})\ndf.groupby('group').agg(['sum', 'mean'])",
      "outputs": []
    },
    {
      "id": "2e707ec4",
      "cell_type": "code",
      "metadata": {},
      "execution_count": null,
      "source": "import pandas as pd\ndf = pd.DataFrame({'group': ['A', 'B', 'A', 'B'], 'value': [1, 2, 3, 4]})\ndf.groupby('group').agg(['sum', 'mean'])",
      "outputs": []
    },
    {
      "id": "b8bf1ea1",
      "cell_type": "code",
      "metadata": {},
      "execution_count": null,
      "source": "import pandas as pd\ndf = pd.DataFrame({'group': ['A', 'B', 'A', 'B'], 'value': [1, 2, 3, 5]})\ndf.groupby('group').agg(['sum', 'mean'])",
      "outputs": []
    },
    {
      "id": "f6ff4ce8",
      "cell_type": "code",
      "metadata": {},
      "execution_count": null,
      "source": "import pandas as pd\ndf = pd.DataFrame({'group': ['A', 'B', 'A', 'B'], 'value': [1, 2, 3, 6]})\ndf.groupby('group').agg(['sum', 'mean'])",
      "outputs": []
    },
    {
      "id": "5e811486",
      "cell_type": "code",
      "metadata": {},
      "execution_count": null,
      "source": "import pandas as pd\ndf = pd.DataFrame({'group': ['A', 'B', 'A', 'B'], 'value': [1, 2, 3, 7]})\ndf.groupby('group').agg(['sum', 'mean'])",
      "outputs": []
    },
    {
      "id": "fa72f85c",
      "cell_type": "code",
      "metadata": {},
      "execution_count": null,
      "source": "import pandas as pd\ndf = pd.DataFrame({'group': ['A', 'B', 'A', 'B'], 'value': [1, 2, 3, 8]})\ndf.groupby('group').agg(['sum', 'mean'])",
      "outputs": []
    },
    {
      "id": "a9e4c0e9",
      "cell_type": "code",
      "metadata": {},
      "execution_count": null,
      "source": "import pandas as pd\ndf = pd.DataFrame({'group': ['A', 'B', 'A', 'B'], 'value': [1, 2, 3, 9]})\ndf.groupby('group').agg(['sum', 'mean'])",
      "outputs": []
    },
    {
      "id": "990507e3",
      "cell_type": "code",
      "metadata": {},
      "execution_count": null,
      "source": "import pandas as pd\ndf = pd.DataFrame({'group': ['A', 'B', 'A', 'B'], 'value': [1, 2, 3, 10]})\ndf.groupby('group').agg(['sum', 'mean'])",
      "outputs": []
    },
    {
      "id": "0bf14353",
      "cell_type": "code",
      "metadata": {},
      "execution_count": null,
      "source": "import pandas as pd\ndf = pd.DataFrame({'group': ['A', 'B', 'A', 'B'], 'value': [1, 2, 3, 1]})\ndf.groupby('group').agg(['sum', 'mean'])",
      "outputs": []
    },
    {
      "id": "331662b5",
      "cell_type": "code",
      "metadata": {},
      "execution_count": null,
      "source": "import pandas as pd\ndf = pd.DataFrame({'group': ['A', 'B', 'A', 'B'], 'value': [1, 2, 3, 2]})\ndf.groupby('group').agg(['sum', 'mean'])",
      "outputs": []
    },
    {
      "id": "4ce5ade0",
      "cell_type": "code",
      "metadata": {},
      "execution_count": null,
      "source": "import pandas as pd\ndf = pd.DataFrame({'group': ['A', 'B', 'A', 'B'], 'value': [1, 2, 3, 3]})\ndf.groupby('group').agg(['sum', 'mean'])",
      "outputs": []
    },
    {
      "id": "bb593929",
      "cell_type": "code",
      "metadata": {},
      "execution_count": null,
      "source": "import pandas as pd\ndf = pd.DataFrame({'group': ['A', 'B', 'A', 'B'], 'value': [1, 2, 3, 4]})\ndf.groupby('group').agg(['sum', 'mean'])",
      "outputs": []
    },
    {
      "id": "8b62a301",
      "cell_type": "code",
      "metadata": {},
      "execution_count": null,
      "source": "import pandas as pd\ndf = pd.DataFrame({'group': ['A', 'B', 'A', 'B'], 'value': [1, 2, 3, 5]})\ndf.groupby('group').agg(['sum', 'mean'])",
      "outputs": []
    },
    {
      "id": "4aab858c",
      "cell_type": "code",
      "metadata": {},
      "execution_count": null,
      "source": "import pandas as pd\ndf = pd.DataFrame({'group': ['A', 'B', 'A', 'B'], 'value': [1, 2, 3, 6]})\ndf.groupby('group').agg(['sum', 'mean'])",
      "outputs": []
    },
    {
      "id": "51c7d1ed",
      "cell_type": "code",
      "metadata": {},
      "execution_count": null,
      "source": "import pandas as pd\ndf = pd.DataFrame({'group': ['A', 'B', 'A', 'B'], 'value': [1, 2, 3, 7]})\ndf.groupby('group').agg(['sum', 'mean'])",
      "outputs": []
    },
    {
      "id": "9d7855a9",
      "cell_type": "code",
      "metadata": {},
      "execution_count": null,
      "source": "import pandas as pd\ndf = pd.DataFrame({'group': ['A', 'B', 'A', 'B'], 'value': [1, 2, 3, 8]})\ndf.groupby('group').agg(['sum', 'mean'])",
      "outputs": []
    },
    {
      "id": "b5c6a494",
      "cell_type": "code",
      "metadata": {},
      "execution_count": null,
      "source": "import pandas as pd\ndf = pd.DataFrame({'group': ['A', 'B', 'A', 'B'], 'value': [1, 2, 3, 9]})\ndf.groupby('group').agg(['sum', 'mean'])",
      "outputs": []
    },
    {
      "id": "03b78ca2",
      "cell_type": "code",
      "metadata": {},
      "execution_count": null,
      "source": "import pandas as pd\ndf = pd.DataFrame({'group': ['A', 'B', 'A', 'B'], 'value': [1, 2, 3, 10]})\ndf.groupby('group').agg(['sum', 'mean'])",
      "outputs": []
    },
    {
      "id": "0b480b9f",
      "cell_type": "code",
      "metadata": {},
      "execution_count": null,
      "source": "import pandas as pd\ndf = pd.DataFrame({'group': ['A', 'B', 'A', 'B'], 'value': [1, 2, 3, 1]})\ndf.groupby('group').agg(['sum', 'mean'])",
      "outputs": []
    },
    {
      "id": "af4e7f81",
      "cell_type": "code",
      "metadata": {},
      "execution_count": null,
      "source": "import pandas as pd\ndf = pd.DataFrame({'group': ['A', 'B', 'A', 'B'], 'value': [1, 2, 3, 2]})\ndf.groupby('group').agg(['sum', 'mean'])",
      "outputs": []
    },
    {
      "id": "0a1beca5",
      "cell_type": "code",
      "metadata": {},
      "execution_count": null,
      "source": "import pandas as pd\ndf = pd.DataFrame({'group': ['A', 'B', 'A', 'B'], 'value': [1, 2, 3, 3]})\ndf.groupby('group').agg(['sum', 'mean'])",
      "outputs": []
    },
    {
      "id": "e1990567",
      "cell_type": "code",
      "metadata": {},
      "execution_count": null,
      "source": "import pandas as pd\ndf = pd.DataFrame({'group': ['A', 'B', 'A', 'B'], 'value': [1, 2, 3, 4]})\ndf.groupby('group').agg(['sum', 'mean'])",
      "outputs": []
    },
    {
      "id": "2e31923c",
      "cell_type": "code",
      "metadata": {},
      "execution_count": null,
      "source": "import pandas as pd\ndf = pd.DataFrame({'group': ['A', 'B', 'A', 'B'], 'value': [1, 2, 3, 5]})\ndf.groupby('group').agg(['sum', 'mean'])",
      "outputs": []
    },
    {
      "id": "4ef77963",
      "cell_type": "code",
      "metadata": {},
      "execution_count": null,
      "source": "import pandas as pd\ndf = pd.DataFrame({'group': ['A', 'B', 'A', 'B'], 'value': [1, 2, 3, 6]})\ndf.groupby('group').agg(['sum', 'mean'])",
      "outputs": []
    },
    {
      "id": "836a9637",
      "cell_type": "code",
      "metadata": {},
      "execution_count": null,
      "source": "import pandas as pd\ndf = pd.DataFrame({'group': ['A', 'B', 'A', 'B'], 'value': [1, 2, 3, 7]})\ndf.groupby('group').agg(['sum', 'mean'])",
      "outputs": []
    },
    {
      "id": "23e2b99d",
      "cell_type": "code",
      "metadata": {},
      "execution_count": null,
      "source": "import pandas as pd\ndf = pd.DataFrame({'group': ['A', 'B', 'A', 'B'], 'value': [1, 2, 3, 8]})\ndf.groupby('group').agg(['sum', 'mean'])",
      "outputs": []
    },
    {
      "id": "d8438f38",
      "cell_type": "code",
      "metadata": {},
      "execution_count": null,
      "source": "import pandas as pd\ndf = pd.DataFrame({'group': ['A', 'B', 'A', 'B'], 'value': [1, 2, 3, 9]})\ndf.groupby('group').agg(['sum', 'mean'])",
      "outputs": []
    },
    {
      "id": "27e84f95",
      "cell_type": "code",
      "metadata": {},
      "execution_count": null,
      "source": "import pandas as pd\ndf = pd.DataFrame({'group': ['A', 'B', 'A', 'B'], 'value': [1, 2, 3, 10]})\ndf.groupby('group').agg(['sum', 'mean'])",
      "outputs": []
    },
    {
      "id": "1d4d4f95",
      "cell_type": "code",
      "metadata": {},
      "execution_count": null,
      "source": "import pandas as pd\ndf = pd.DataFrame({'group': ['A', 'B', 'A', 'B'], 'value': [1, 2, 3, 1]})\ndf.groupby('group').agg(['sum', 'mean'])",
      "outputs": []
    },
    {
      "id": "67e1c61a",
      "cell_type": "code",
      "metadata": {},
      "execution_count": null,
      "source": "import pandas as pd\ndf = pd.DataFrame({'group': ['A', 'B', 'A', 'B'], 'value': [1, 2, 3, 2]})\ndf.groupby('group').agg(['sum', 'mean'])",
      "outputs": []
    },
    {
      "id": "85948887",
      "cell_type": "code",
      "metadata": {},
      "execution_count": null,
      "source": "import pandas as pd\ndf = pd.DataFrame({'group': ['A', 'B', 'A', 'B'], 'value': [1, 2, 3, 3]})\ndf.groupby('group').agg(['sum', 'mean'])",
      "outputs": []
    },
    {
      "id": "c83f5652",
      "cell_type": "code",
      "metadata": {},
      "execution_count": null,
      "source": "import pandas as pd\ndf = pd.DataFrame({'group': ['A', 'B', 'A', 'B'], 'value': [1, 2, 3, 4]})\ndf.groupby('group').agg(['sum', 'mean'])",
      "outputs": []
    },
    {
      "id": "a834abe8",
      "cell_type": "code",
      "metadata": {},
      "execution_count": null,
      "source": "import pandas as pd\ndf = pd.DataFrame({'group': ['A', 'B', 'A', 'B'], 'value': [1, 2, 3, 5]})\ndf.groupby('group').agg(['sum', 'mean'])",
      "outputs": []
    },
    {
      "id": "9b567412",
      "cell_type": "code",
      "metadata": {},
      "execution_count": null,
      "source": "import pandas as pd\ndf = pd.DataFrame({'group': ['A', 'B', 'A', 'B'], 'value': [1, 2, 3, 6]})\ndf.groupby('group').agg(['sum', 'mean'])",
      "outputs": []
    },
    {
      "id": "29640385",
      "cell_type": "code",
      "metadata": {},
      "execution_count": null,
      "source": "import pandas as pd\ndf = pd.DataFrame({'group': ['A', 'B', 'A', 'B'], 'value': [1, 2, 3, 7]})\ndf.groupby('group').agg(['sum', 'mean'])",
      "outputs": []
    },
    {
      "id": "b0004d87",
      "cell_type": "code",
      "metadata": {},
      "execution_count": null,
      "source": "import pandas as pd\ndf = pd.DataFrame({'group': ['A', 'B', 'A', 'B'], 'value': [1, 2, 3, 8]})\ndf.groupby('group').agg(['sum', 'mean'])",
      "outputs": []
    },
    {
      "id": "18f50b32",
      "cell_type": "code",
      "metadata": {},
      "execution_count": null,
      "source": "import pandas as pd\ndf = pd.DataFrame({'group': ['A', 'B', 'A', 'B'], 'value': [1, 2, 3, 9]})\ndf.groupby('group').agg(['sum', 'mean'])",
      "outputs": []
    },
    {
      "id": "90f0e722",
      "cell_type": "code",
      "metadata": {},
      "execution_count": null,
      "source": "import pandas as pd\ndf = pd.DataFrame({'group': ['A', 'B', 'A', 'B'], 'value': [1, 2, 3, 10]})\ndf.groupby('group').agg(['sum', 'mean'])",
      "outputs": []
    },
    {
      "id": "aaf48b74",
      "cell_type": "code",
      "metadata": {},
      "execution_count": null,
      "source": "import pandas as pd\ndf = pd.DataFrame({'group': ['A', 'B', 'A', 'B'], 'value': [1, 2, 3, 1]})\ndf.groupby('group').agg(['sum', 'mean'])",
      "outputs": []
    },
    {
      "id": "2fdc1db0",
      "cell_type": "code",
      "metadata": {},
      "execution_count": null,
      "source": "import pandas as pd\ndf = pd.DataFrame({'group': ['A', 'B', 'A', 'B'], 'value': [1, 2, 3, 2]})\ndf.groupby('group').agg(['sum', 'mean'])",
      "outputs": []
    },
    {
      "id": "d655ea0f",
      "cell_type": "code",
      "metadata": {},
      "execution_count": null,
      "source": "import pandas as pd\ndf = pd.DataFrame({'group': ['A', 'B', 'A', 'B'], 'value': [1, 2, 3, 3]})\ndf.groupby('group').agg(['sum', 'mean'])",
      "outputs": []
    },
    {
      "id": "0b2aa53a",
      "cell_type": "code",
      "metadata": {},
      "execution_count": null,
      "source": "import pandas as pd\ndf = pd.DataFrame({'group': ['A', 'B', 'A', 'B'], 'value': [1, 2, 3, 4]})\ndf.groupby('group').agg(['sum', 'mean'])",
      "outputs": []
    },
    {
      "id": "c8c37ad5",
      "cell_type": "code",
      "metadata": {},
      "execution_count": null,
      "source": "import pandas as pd\ndf = pd.DataFrame({'group': ['A', 'B', 'A', 'B'], 'value': [1, 2, 3, 5]})\ndf.groupby('group').agg(['sum', 'mean'])",
      "outputs": []
    },
    {
      "id": "329cf3dc",
      "cell_type": "code",
      "metadata": {},
      "execution_count": null,
      "source": "import pandas as pd\ndf = pd.DataFrame({'group': ['A', 'B', 'A', 'B'], 'value': [1, 2, 3, 6]})\ndf.groupby('group').agg(['sum', 'mean'])",
      "outputs": []
    },
    {
      "id": "039bd03d",
      "cell_type": "code",
      "metadata": {},
      "execution_count": null,
      "source": "import pandas as pd\ndf = pd.DataFrame({'group': ['A', 'B', 'A', 'B'], 'value': [1, 2, 3, 7]})\ndf.groupby('group').agg(['sum', 'mean'])",
      "outputs": []
    },
    {
      "id": "b5ff4c15",
      "cell_type": "code",
      "metadata": {},
      "execution_count": null,
      "source": "import pandas as pd\ndf = pd.DataFrame({'group': ['A', 'B', 'A', 'B'], 'value': [1, 2, 3, 8]})\ndf.groupby('group').agg(['sum', 'mean'])",
      "outputs": []
    },
    {
      "id": "827b8aa3",
      "cell_type": "code",
      "metadata": {},
      "execution_count": null,
      "source": "import pandas as pd\ndf = pd.DataFrame({'group': ['A', 'B', 'A', 'B'], 'value': [1, 2, 3, 9]})\ndf.groupby('group').agg(['sum', 'mean'])",
      "outputs": []
    },
    {
      "id": "7e1724fe",
      "cell_type": "code",
      "metadata": {},
      "execution_count": null,
      "source": "import pandas as pd\ndf = pd.DataFrame({'group': ['A', 'B', 'A', 'B'], 'value': [1, 2, 3, 10]})\ndf.groupby('group').agg(['sum', 'mean'])",
      "outputs": []
    },
    {
      "id": "e7d89df2",
      "cell_type": "code",
      "metadata": {},
      "execution_count": null,
      "source": "import pandas as pd\ndf = pd.DataFrame({'group': ['A', 'B', 'A', 'B'], 'value': [1, 2, 3, 1]})\ndf.groupby('group').agg(['sum', 'mean'])",
      "outputs": []
    },
    {
      "id": "39d9d1cd",
      "cell_type": "code",
      "metadata": {},
      "execution_count": null,
      "source": "import pandas as pd\ndf = pd.DataFrame({'group': ['A', 'B', 'A', 'B'], 'value': [1, 2, 3, 2]})\ndf.groupby('group').agg(['sum', 'mean'])",
      "outputs": []
    },
    {
      "id": "e03ab139",
      "cell_type": "code",
      "metadata": {},
      "execution_count": null,
      "source": "import pandas as pd\ndf = pd.DataFrame({'group': ['A', 'B', 'A', 'B'], 'value': [1, 2, 3, 3]})\ndf.groupby('group').agg(['sum', 'mean'])",
      "outputs": []
    },
    {
      "id": "ff6530dd",
      "cell_type": "code",
      "metadata": {},
      "execution_count": null,
      "source": "import pandas as pd\ndf = pd.DataFrame({'group': ['A', 'B', 'A', 'B'], 'value': [1, 2, 3, 4]})\ndf.groupby('group').agg(['sum', 'mean'])",
      "outputs": []
    },
    {
      "id": "312ccee1",
      "cell_type": "code",
      "metadata": {},
      "execution_count": null,
      "source": "import pandas as pd\ndf = pd.DataFrame({'group': ['A', 'B', 'A', 'B'], 'value': [1, 2, 3, 5]})\ndf.groupby('group').agg(['sum', 'mean'])",
      "outputs": []
    },
    {
      "id": "e79ac8a8",
      "cell_type": "code",
      "metadata": {},
      "execution_count": null,
      "source": "import pandas as pd\ndf = pd.DataFrame({'group': ['A', 'B', 'A', 'B'], 'value': [1, 2, 3, 6]})\ndf.groupby('group').agg(['sum', 'mean'])",
      "outputs": []
    },
    {
      "id": "737f79d4",
      "cell_type": "code",
      "metadata": {},
      "execution_count": null,
      "source": "import pandas as pd\ndf = pd.DataFrame({'group': ['A', 'B', 'A', 'B'], 'value': [1, 2, 3, 7]})\ndf.groupby('group').agg(['sum', 'mean'])",
      "outputs": []
    },
    {
      "id": "3f58c355",
      "cell_type": "code",
      "metadata": {},
      "execution_count": null,
      "source": "import pandas as pd\ndf = pd.DataFrame({'group': ['A', 'B', 'A', 'B'], 'value': [1, 2, 3, 8]})\ndf.groupby('group').agg(['sum', 'mean'])",
      "outputs": []
    },
    {
      "id": "8856c9be",
      "cell_type": "code",
      "metadata": {},
      "execution_count": null,
      "source": "import pandas as pd\ndf = pd.DataFrame({'group': ['A', 'B', 'A', 'B'], 'value': [1, 2, 3, 9]})\ndf.groupby('group').agg(['sum', 'mean'])",
      "outputs": []
    },
    {
      "id": "e07d5bed",
      "cell_type": "code",
      "metadata": {},
      "execution_count": null,
      "source": "import pandas as pd\ndf = pd.DataFrame({'group': ['A', 'B', 'A', 'B'], 'value': [1, 2, 3, 10]})\ndf.groupby('group').agg(['sum', 'mean'])",
      "outputs": []
    },
    {
      "id": "7438d3d8",
      "cell_type": "code",
      "metadata": {},
      "execution_count": null,
      "source": "import pandas as pd\ndf = pd.DataFrame({'group': ['A', 'B', 'A', 'B'], 'value': [1, 2, 3, 1]})\ndf.groupby('group').agg(['sum', 'mean'])",
      "outputs": []
    },
    {
      "id": "9fb79243",
      "cell_type": "code",
      "metadata": {},
      "execution_count": null,
      "source": "import pandas as pd\ndf = pd.DataFrame({'group': ['A', 'B', 'A', 'B'], 'value': [1, 2, 3, 2]})\ndf.groupby('group').agg(['sum', 'mean'])",
      "outputs": []
    },
    {
      "id": "65b26080",
      "cell_type": "code",
      "metadata": {},
      "execution_count": null,
      "source": "import pandas as pd\ndf = pd.DataFrame({'group': ['A', 'B', 'A', 'B'], 'value': [1, 2, 3, 3]})\ndf.groupby('group').agg(['sum', 'mean'])",
      "outputs": []
    },
    {
      "id": "6d4bb671",
      "cell_type": "code",
      "metadata": {},
      "execution_count": null,
      "source": "import pandas as pd\ndf = pd.DataFrame({'group': ['A', 'B', 'A', 'B'], 'value': [1, 2, 3, 4]})\ndf.groupby('group').agg(['sum', 'mean'])",
      "outputs": []
    },
    {
      "id": "36486ee4",
      "cell_type": "code",
      "metadata": {},
      "execution_count": null,
      "source": "import pandas as pd\ndf = pd.DataFrame({'group': ['A', 'B', 'A', 'B'], 'value': [1, 2, 3, 5]})\ndf.groupby('group').agg(['sum', 'mean'])",
      "outputs": []
    },
    {
      "id": "04a87062",
      "cell_type": "code",
      "metadata": {},
      "execution_count": null,
      "source": "import pandas as pd\ndf = pd.DataFrame({'group': ['A', 'B', 'A', 'B'], 'value': [1, 2, 3, 6]})\ndf.groupby('group').agg(['sum', 'mean'])",
      "outputs": []
    },
    {
      "id": "b3301b73",
      "cell_type": "code",
      "metadata": {},
      "execution_count": null,
      "source": "import pandas as pd\ndf = pd.DataFrame({'group': ['A', 'B', 'A', 'B'], 'value': [1, 2, 3, 7]})\ndf.groupby('group').agg(['sum', 'mean'])",
      "outputs": []
    },
    {
      "id": "df0f2f92",
      "cell_type": "code",
      "metadata": {},
      "execution_count": null,
      "source": "import pandas as pd\ndf = pd.DataFrame({'group': ['A', 'B', 'A', 'B'], 'value': [1, 2, 3, 8]})\ndf.groupby('group').agg(['sum', 'mean'])",
      "outputs": []
    },
    {
      "id": "5e5956df",
      "cell_type": "code",
      "metadata": {},
      "execution_count": null,
      "source": "import pandas as pd\ndf = pd.DataFrame({'group': ['A', 'B', 'A', 'B'], 'value': [1, 2, 3, 9]})\ndf.groupby('group').agg(['sum', 'mean'])",
      "outputs": []
    },
    {
      "id": "dd612b77",
      "cell_type": "code",
      "metadata": {},
      "execution_count": null,
      "source": "import pandas as pd\ndf = pd.DataFrame({'group': ['A', 'B', 'A', 'B'], 'value': [1, 2, 3, 10]})\ndf.groupby('group').agg(['sum', 'mean'])",
      "outputs": []
    },
    {
      "id": "3a5e80b5",
      "cell_type": "code",
      "metadata": {},
      "execution_count": null,
      "source": "import pandas as pd\ndf = pd.DataFrame({'group': ['A', 'B', 'A', 'B'], 'value': [1, 2, 3, 1]})\ndf.groupby('group').agg(['sum', 'mean'])",
      "outputs": []
    },
    {
      "id": "4bb8af43",
      "cell_type": "code",
      "metadata": {},
      "execution_count": null,
      "source": "import pandas as pd\ndf = pd.DataFrame({'group': ['A', 'B', 'A', 'B'], 'value': [1, 2, 3, 2]})\ndf.groupby('group').agg(['sum', 'mean'])",
      "outputs": []
    },
    {
      "id": "37710f24",
      "cell_type": "code",
      "metadata": {},
      "execution_count": null,
      "source": "import pandas as pd\ndf = pd.DataFrame({'group': ['A', 'B', 'A', 'B'], 'value': [1, 2, 3, 3]})\ndf.groupby('group').agg(['sum', 'mean'])",
      "outputs": []
    },
    {
      "id": "61699688",
      "cell_type": "code",
      "metadata": {},
      "execution_count": null,
      "source": "import pandas as pd\ndf = pd.DataFrame({'group': ['A', 'B', 'A', 'B'], 'value': [1, 2, 3, 4]})\ndf.groupby('group').agg(['sum', 'mean'])",
      "outputs": []
    },
    {
      "id": "a51c08d7",
      "cell_type": "code",
      "metadata": {},
      "execution_count": null,
      "source": "import pandas as pd\ndf = pd.DataFrame({'group': ['A', 'B', 'A', 'B'], 'value': [1, 2, 3, 5]})\ndf.groupby('group').agg(['sum', 'mean'])",
      "outputs": []
    },
    {
      "id": "daa421c8",
      "cell_type": "code",
      "metadata": {},
      "execution_count": null,
      "source": "import pandas as pd\ndf = pd.DataFrame({'group': ['A', 'B', 'A', 'B'], 'value': [1, 2, 3, 6]})\ndf.groupby('group').agg(['sum', 'mean'])",
      "outputs": []
    },
    {
      "id": "156e13ee",
      "cell_type": "code",
      "metadata": {},
      "execution_count": null,
      "source": "import pandas as pd\ndf = pd.DataFrame({'group': ['A', 'B', 'A', 'B'], 'value': [1, 2, 3, 7]})\ndf.groupby('group').agg(['sum', 'mean'])",
      "outputs": []
    },
    {
      "id": "c8c5e39b",
      "cell_type": "code",
      "metadata": {},
      "execution_count": null,
      "source": "import pandas as pd\ndf = pd.DataFrame({'group': ['A', 'B', 'A', 'B'], 'value': [1, 2, 3, 8]})\ndf.groupby('group').agg(['sum', 'mean'])",
      "outputs": []
    },
    {
      "id": "46ea07ba",
      "cell_type": "code",
      "metadata": {},
      "execution_count": null,
      "source": "import pandas as pd\ndf = pd.DataFrame({'group': ['A', 'B', 'A', 'B'], 'value': [1, 2, 3, 9]})\ndf.groupby('group').agg(['sum', 'mean'])",
      "outputs": []
    },
    {
      "id": "87867ae0",
      "cell_type": "code",
      "metadata": {},
      "execution_count": null,
      "source": "import pandas as pd\ndf = pd.DataFrame({'group': ['A', 'B', 'A', 'B'], 'value': [1, 2, 3, 10]})\ndf.groupby('group').agg(['sum', 'mean'])",
      "outputs": []
    },
    {
      "id": "00975694",
      "cell_type": "code",
      "metadata": {},
      "execution_count": null,
      "source": "import pandas as pd\ndf = pd.DataFrame({'group': ['A', 'B', 'A', 'B'], 'value': [1, 2, 3, 1]})\ndf.groupby('group').agg(['sum', 'mean'])",
      "outputs": []
    },
    {
      "id": "4b0e40a5",
      "cell_type": "code",
      "metadata": {},
      "execution_count": null,
      "source": "import pandas as pd\ndf = pd.DataFrame({'group': ['A', 'B', 'A', 'B'], 'value': [1, 2, 3, 2]})\ndf.groupby('group').agg(['sum', 'mean'])",
      "outputs": []
    },
    {
      "id": "a7a0e8b3",
      "cell_type": "code",
      "metadata": {},
      "execution_count": null,
      "source": "import pandas as pd\ndf = pd.DataFrame({'group': ['A', 'B', 'A', 'B'], 'value': [1, 2, 3, 3]})\ndf.groupby('group').agg(['sum', 'mean'])",
      "outputs": []
    },
    {
      "id": "fc6dd07e",
      "cell_type": "code",
      "metadata": {},
      "execution_count": null,
      "source": "import pandas as pd\ndf = pd.DataFrame({'group': ['A', 'B', 'A', 'B'], 'value': [1, 2, 3, 4]})\ndf.groupby('group').agg(['sum', 'mean'])",
      "outputs": []
    },
    {
      "id": "a2ced705",
      "cell_type": "code",
      "metadata": {},
      "execution_count": null,
      "source": "import pandas as pd\ndf = pd.DataFrame({'group': ['A', 'B', 'A', 'B'], 'value': [1, 2, 3, 5]})\ndf.groupby('group').agg(['sum', 'mean'])",
      "outputs": []
    },
    {
      "id": "c228f178",
      "cell_type": "code",
      "metadata": {},
      "execution_count": null,
      "source": "import pandas as pd\ndf = pd.DataFrame({'group': ['A', 'B', 'A', 'B'], 'value': [1, 2, 3, 6]})\ndf.groupby('group').agg(['sum', 'mean'])",
      "outputs": []
    },
    {
      "id": "f47c5738",
      "cell_type": "code",
      "metadata": {},
      "execution_count": null,
      "source": "import pandas as pd\ndf = pd.DataFrame({'group': ['A', 'B', 'A', 'B'], 'value': [1, 2, 3, 7]})\ndf.groupby('group').agg(['sum', 'mean'])",
      "outputs": []
    },
    {
      "id": "b344d5ea",
      "cell_type": "code",
      "metadata": {},
      "execution_count": null,
      "source": "import pandas as pd\ndf = pd.DataFrame({'group': ['A', 'B', 'A', 'B'], 'value': [1, 2, 3, 8]})\ndf.groupby('group').agg(['sum', 'mean'])",
      "outputs": []
    },
    {
      "id": "1d70cac7",
      "cell_type": "code",
      "metadata": {},
      "execution_count": null,
      "source": "import pandas as pd\ndf = pd.DataFrame({'group': ['A', 'B', 'A', 'B'], 'value': [1, 2, 3, 9]})\ndf.groupby('group').agg(['sum', 'mean'])",
      "outputs": []
    },
    {
      "id": "61c37be4",
      "cell_type": "code",
      "metadata": {},
      "execution_count": null,
      "source": "import pandas as pd\ndf = pd.DataFrame({'group': ['A', 'B', 'A', 'B'], 'value': [1, 2, 3, 10]})\ndf.groupby('group').agg(['sum', 'mean'])",
      "outputs": []
    },
    {
      "id": "24c91a2e",
      "cell_type": "code",
      "metadata": {},
      "execution_count": null,
      "source": "import pandas as pd\ndf = pd.DataFrame({'group': ['A', 'B', 'A', 'B'], 'value': [1, 2, 3, 1]})\ndf.groupby('group').agg(['sum', 'mean'])",
      "outputs": []
    },
    {
      "id": "c0c864da",
      "cell_type": "code",
      "metadata": {},
      "execution_count": null,
      "source": "import pandas as pd\ndf = pd.DataFrame({'group': ['A', 'B', 'A', 'B'], 'value': [1, 2, 3, 2]})\ndf.groupby('group').agg(['sum', 'mean'])",
      "outputs": []
    },
    {
      "id": "6630287b",
      "cell_type": "code",
      "metadata": {},
      "execution_count": null,
      "source": "import pandas as pd\ndf = pd.DataFrame({'group': ['A', 'B', 'A', 'B'], 'value': [1, 2, 3, 3]})\ndf.groupby('group').agg(['sum', 'mean'])",
      "outputs": []
    },
    {
      "id": "10928290",
      "cell_type": "code",
      "metadata": {},
      "execution_count": null,
      "source": "import pandas as pd\ndf = pd.DataFrame({'group': ['A', 'B', 'A', 'B'], 'value': [1, 2, 3, 4]})\ndf.groupby('group').agg(['sum', 'mean'])",
      "outputs": []
    },
    {
      "id": "df55c029",
      "cell_type": "code",
      "metadata": {},
      "execution_count": null,
      "source": "import pandas as pd\ndf = pd.DataFrame({'group': ['A', 'B', 'A', 'B'], 'value': [1, 2, 3, 5]})\ndf.groupby('group').agg(['sum', 'mean'])",
      "outputs": []
    },
    {
      "id": "8b6ca28a",
      "cell_type": "code",
      "metadata": {},
      "execution_count": null,
      "source": "import pandas as pd\ndf = pd.DataFrame({'group': ['A', 'B', 'A', 'B'], 'value': [1, 2, 3, 6]})\ndf.groupby('group').agg(['sum', 'mean'])",
      "outputs": []
    },
    {
      "id": "9f6be107",
      "cell_type": "code",
      "metadata": {},
      "execution_count": null,
      "source": "import pandas as pd\ndf = pd.DataFrame({'group': ['A', 'B', 'A', 'B'], 'value': [1, 2, 3, 7]})\ndf.groupby('group').agg(['sum', 'mean'])",
      "outputs": []
    },
    {
      "id": "8beda4ef",
      "cell_type": "code",
      "metadata": {},
      "execution_count": null,
      "source": "import pandas as pd\ndf = pd.DataFrame({'group': ['A', 'B', 'A', 'B'], 'value': [1, 2, 3, 8]})\ndf.groupby('group').agg(['sum', 'mean'])",
      "outputs": []
    },
    {
      "id": "e6195d57",
      "cell_type": "code",
      "metadata": {},
      "execution_count": null,
      "source": "import pandas as pd\ndf = pd.DataFrame({'group': ['A', 'B', 'A', 'B'], 'value': [1, 2, 3, 9]})\ndf.groupby('group').agg(['sum', 'mean'])",
      "outputs": []
    },
    {
      "id": "293663bb",
      "cell_type": "code",
      "metadata": {},
      "execution_count": null,
      "source": "import pandas as pd\ndf = pd.DataFrame({'group': ['A', 'B', 'A', 'B'], 'value': [1, 2, 3, 10]})\ndf.groupby('group').agg(['sum', 'mean'])",
      "outputs": []
    },
    {
      "id": "b9dfdd4d",
      "cell_type": "code",
      "metadata": {},
      "execution_count": null,
      "source": "import pandas as pd\ndf = pd.DataFrame({'group': ['A', 'B', 'A', 'B'], 'value': [1, 2, 3, 1]})\ndf.groupby('group').agg(['sum', 'mean'])",
      "outputs": []
    },
    {
      "id": "909549e7",
      "cell_type": "code",
      "metadata": {},
      "execution_count": null,
      "source": "import pandas as pd\ndf = pd.DataFrame({'group': ['A', 'B', 'A', 'B'], 'value': [1, 2, 3, 2]})\ndf.groupby('group').agg(['sum', 'mean'])",
      "outputs": []
    },
    {
      "id": "eafff8f2",
      "cell_type": "code",
      "metadata": {},
      "execution_count": null,
      "source": "import pandas as pd\ndf = pd.DataFrame({'group': ['A', 'B', 'A', 'B'], 'value': [1, 2, 3, 3]})\ndf.groupby('group').agg(['sum', 'mean'])",
      "outputs": []
    },
    {
      "id": "a7b5fcc3",
      "cell_type": "code",
      "metadata": {},
      "execution_count": null,
      "source": "import pandas as pd\ndf = pd.DataFrame({'group': ['A', 'B', 'A', 'B'], 'value': [1, 2, 3, 4]})\ndf.groupby('group').agg(['sum', 'mean'])",
      "outputs": []
    },
    {
      "id": "722f443a",
      "cell_type": "code",
      "metadata": {},
      "execution_count": null,
      "source": "import pandas as pd\ndf = pd.DataFrame({'group': ['A', 'B', 'A', 'B'], 'value': [1, 2, 3, 5]})\ndf.groupby('group').agg(['sum', 'mean'])",
      "outputs": []
    },
    {
      "id": "227a094b",
      "cell_type": "code",
      "metadata": {},
      "execution_count": null,
      "source": "import pandas as pd\ndf = pd.DataFrame({'group': ['A', 'B', 'A', 'B'], 'value': [1, 2, 3, 6]})\ndf.groupby('group').agg(['sum', 'mean'])",
      "outputs": []
    },
    {
      "id": "044aea26",
      "cell_type": "code",
      "metadata": {},
      "execution_count": null,
      "source": "import pandas as pd\ndf = pd.DataFrame({'group': ['A', 'B', 'A', 'B'], 'value': [1, 2, 3, 7]})\ndf.groupby('group').agg(['sum', 'mean'])",
      "outputs": []
    },
    {
      "id": "defd6412",
      "cell_type": "code",
      "metadata": {},
      "execution_count": null,
      "source": "import pandas as pd\ndf = pd.DataFrame({'group': ['A', 'B', 'A', 'B'], 'value': [1, 2, 3, 8]})\ndf.groupby('group').agg(['sum', 'mean'])",
      "outputs": []
    },
    {
      "id": "55f7202a",
      "cell_type": "code",
      "metadata": {},
      "execution_count": null,
      "source": "import pandas as pd\ndf = pd.DataFrame({'group': ['A', 'B', 'A', 'B'], 'value': [1, 2, 3, 9]})\ndf.groupby('group').agg(['sum', 'mean'])",
      "outputs": []
    },
    {
      "id": "d5c31948",
      "cell_type": "code",
      "metadata": {},
      "execution_count": null,
      "source": "import pandas as pd\ndf = pd.DataFrame({'group': ['A', 'B', 'A', 'B'], 'value': [1, 2, 3, 10]})\ndf.groupby('group').agg(['sum', 'mean'])",
      "outputs": []
    },
    {
      "id": "9c25b889",
      "cell_type": "code",
      "metadata": {},
      "execution_count": null,
      "source": "import pandas as pd\ndf = pd.DataFrame({'group': ['A', 'B', 'A', 'B'], 'value': [1, 2, 3, 1]})\ndf.groupby('group').agg(['sum', 'mean'])",
      "outputs": []
    },
    {
      "id": "ee9d3431",
      "cell_type": "code",
      "metadata": {},
      "execution_count": null,
      "source": "import pandas as pd\ndf = pd.DataFrame({'group': ['A', 'B', 'A', 'B'], 'value': [1, 2, 3, 2]})\ndf.groupby('group').agg(['sum', 'mean'])",
      "outputs": []
    },
    {
      "id": "5eeb7884",
      "cell_type": "code",
      "metadata": {},
      "execution_count": null,
      "source": "import pandas as pd\ndf = pd.DataFrame({'group': ['A', 'B', 'A', 'B'], 'value': [1, 2, 3, 3]})\ndf.groupby('group').agg(['sum', 'mean'])",
      "outputs": []
    },
    {
      "id": "fc684f82",
      "cell_type": "code",
      "metadata": {},
      "execution_count": null,
      "source": "import pandas as pd\ndf = pd.DataFrame({'group': ['A', 'B', 'A', 'B'], 'value': [1, 2, 3, 4]})\ndf.groupby('group').agg(['sum', 'mean'])",
      "outputs": []
    },
    {
      "id": "f550fd6b",
      "cell_type": "code",
      "metadata": {},
      "execution_count": null,
      "source": "import pandas as pd\ndf = pd.DataFrame({'group': ['A', 'B', 'A', 'B'], 'value': [1, 2, 3, 5]})\ndf.groupby('group').agg(['sum', 'mean'])",
      "outputs": []
    },
    {
      "id": "eca6159f",
      "cell_type": "code",
      "metadata": {},
      "execution_count": null,
      "source": "import pandas as pd\ndf = pd.DataFrame({'group': ['A', 'B', 'A', 'B'], 'value': [1, 2, 3, 6]})\ndf.groupby('group').agg(['sum', 'mean'])",
      "outputs": []
    },
    {
      "id": "d3e40687",
      "cell_type": "code",
      "metadata": {},
      "execution_count": null,
      "source": "import pandas as pd\ndf = pd.DataFrame({'group': ['A', 'B', 'A', 'B'], 'value': [1, 2, 3, 7]})\ndf.groupby('group').agg(['sum', 'mean'])",
      "outputs": []
    },
    {
      "id": "606e5ee1",
      "cell_type": "code",
      "metadata": {},
      "execution_count": null,
      "source": "import pandas as pd\ndf = pd.DataFrame({'group': ['A', 'B', 'A', 'B'], 'value': [1, 2, 3, 8]})\ndf.groupby('group').agg(['sum', 'mean'])",
      "outputs": []
    },
    {
      "id": "d08f1d9c",
      "cell_type": "code",
      "metadata": {},
      "execution_count": null,
      "source": "import pandas as pd\ndf = pd.DataFrame({'group': ['A', 'B', 'A', 'B'], 'value': [1, 2, 3, 9]})\ndf.groupby('group').agg(['sum', 'mean'])",
      "outputs": []
    },
    {
      "id": "b3b480bd",
      "cell_type": "code",
      "metadata": {},
      "execution_count": null,
      "source": "import pandas as pd\ndf = pd.DataFrame({'group': ['A', 'B', 'A', 'B'], 'value': [1, 2, 3, 10]})\ndf.groupby('group').agg(['sum', 'mean'])",
      "outputs": []
    },
    {
      "id": "8150782f",
      "cell_type": "code",
      "metadata": {},
      "execution_count": null,
      "source": "import pandas as pd\ndf = pd.DataFrame({'group': ['A', 'B', 'A', 'B'], 'value': [1, 2, 3, 1]})\ndf.groupby('group').agg(['sum', 'mean'])",
      "outputs": []
    },
    {
      "id": "52b8fee8",
      "cell_type": "code",
      "metadata": {},
      "execution_count": null,
      "source": "import pandas as pd\ndf = pd.DataFrame({'group': ['A', 'B', 'A', 'B'], 'value': [1, 2, 3, 2]})\ndf.groupby('group').agg(['sum', 'mean'])",
      "outputs": []
    },
    {
      "id": "55dfbeef",
      "cell_type": "code",
      "metadata": {},
      "execution_count": null,
      "source": "import pandas as pd\ndf = pd.DataFrame({'group': ['A', 'B', 'A', 'B'], 'value': [1, 2, 3, 3]})\ndf.groupby('group').agg(['sum', 'mean'])",
      "outputs": []
    },
    {
      "id": "d933d10d",
      "cell_type": "code",
      "metadata": {},
      "execution_count": null,
      "source": "import pandas as pd\ndf = pd.DataFrame({'group': ['A', 'B', 'A', 'B'], 'value': [1, 2, 3, 4]})\ndf.groupby('group').agg(['sum', 'mean'])",
      "outputs": []
    },
    {
      "id": "aaa80fa4",
      "cell_type": "code",
      "metadata": {},
      "execution_count": null,
      "source": "import pandas as pd\ndf = pd.DataFrame({'group': ['A', 'B', 'A', 'B'], 'value': [1, 2, 3, 5]})\ndf.groupby('group').agg(['sum', 'mean'])",
      "outputs": []
    },
    {
      "id": "c46366d1",
      "cell_type": "code",
      "metadata": {},
      "execution_count": null,
      "source": "import pandas as pd\ndf = pd.DataFrame({'group': ['A', 'B', 'A', 'B'], 'value': [1, 2, 3, 6]})\ndf.groupby('group').agg(['sum', 'mean'])",
      "outputs": []
    },
    {
      "id": "26c9b0ed",
      "cell_type": "code",
      "metadata": {},
      "execution_count": null,
      "source": "import pandas as pd\ndf = pd.DataFrame({'group': ['A', 'B', 'A', 'B'], 'value': [1, 2, 3, 7]})\ndf.groupby('group').agg(['sum', 'mean'])",
      "outputs": []
    },
    {
      "id": "491addc6",
      "cell_type": "code",
      "metadata": {},
      "execution_count": null,
      "source": "import pandas as pd\ndf = pd.DataFrame({'group': ['A', 'B', 'A', 'B'], 'value': [1, 2, 3, 8]})\ndf.groupby('group').agg(['sum', 'mean'])",
      "outputs": []
    },
    {
      "id": "c1aef83d",
      "cell_type": "code",
      "metadata": {},
      "execution_count": null,
      "source": "import pandas as pd\ndf = pd.DataFrame({'group': ['A', 'B', 'A', 'B'], 'value': [1, 2, 3, 9]})\ndf.groupby('group').agg(['sum', 'mean'])",
      "outputs": []
    },
    {
      "id": "d2100a66",
      "cell_type": "code",
      "metadata": {},
      "execution_count": null,
      "source": "import pandas as pd\ndf = pd.DataFrame({'group': ['A', 'B', 'A', 'B'], 'value': [1, 2, 3, 10]})\ndf.groupby('group').agg(['sum', 'mean'])",
      "outputs": []
    },
    {
      "id": "f54edcd9",
      "cell_type": "code",
      "metadata": {},
      "execution_count": null,
      "source": "import pandas as pd\ndf = pd.DataFrame({'group': ['A', 'B', 'A', 'B'], 'value': [1, 2, 3, 1]})\ndf.groupby('group').agg(['sum', 'mean'])",
      "outputs": []
    }
  ]
}