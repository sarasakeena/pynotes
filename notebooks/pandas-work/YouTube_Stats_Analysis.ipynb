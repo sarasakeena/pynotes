{
 "cells": [
  {
   "cell_type": "code",
   "execution_count": 1,
   "id": "d5aa2622-f0c6-4628-ac46-3f53387c247e",
   "metadata": {},
   "outputs": [],
   "source": [
    "import pandas as pd\n",
    "import matplotlib.pyplot as plt\n",
    "import seaborn as sns\n"
   ]
  },
  {
   "cell_type": "code",
   "execution_count": 2,
   "id": "a5ad2fc1-fc78-4998-bca3-396b35673571",
   "metadata": {},
   "outputs": [
    {
     "data": {
      "text/html": [
       "<div>\n",
       "<style scoped>\n",
       "    .dataframe tbody tr th:only-of-type {\n",
       "        vertical-align: middle;\n",
       "    }\n",
       "\n",
       "    .dataframe tbody tr th {\n",
       "        vertical-align: top;\n",
       "    }\n",
       "\n",
       "    .dataframe thead th {\n",
       "        text-align: right;\n",
       "    }\n",
       "</style>\n",
       "<table border=\"1\" class=\"dataframe\">\n",
       "  <thead>\n",
       "    <tr style=\"text-align: right;\">\n",
       "      <th></th>\n",
       "      <th>Title</th>\n",
       "      <th>Views</th>\n",
       "      <th>Likes</th>\n",
       "      <th>Comments</th>\n",
       "      <th>Duration</th>\n",
       "    </tr>\n",
       "  </thead>\n",
       "  <tbody>\n",
       "    <tr>\n",
       "      <th>0</th>\n",
       "      <td>Study Vlog - 1</td>\n",
       "      <td>254300</td>\n",
       "      <td>15300</td>\n",
       "      <td>1893</td>\n",
       "      <td>12:30</td>\n",
       "    </tr>\n",
       "    <tr>\n",
       "      <th>1</th>\n",
       "      <td>How to Focus Better</td>\n",
       "      <td>431000</td>\n",
       "      <td>28500</td>\n",
       "      <td>3045</td>\n",
       "      <td>10:45</td>\n",
       "    </tr>\n",
       "    <tr>\n",
       "      <th>2</th>\n",
       "      <td>Python for Beginners</td>\n",
       "      <td>891000</td>\n",
       "      <td>76000</td>\n",
       "      <td>4589</td>\n",
       "      <td>25:00</td>\n",
       "    </tr>\n",
       "    <tr>\n",
       "      <th>3</th>\n",
       "      <td>Room Tour 2025</td>\n",
       "      <td>123000</td>\n",
       "      <td>8200</td>\n",
       "      <td>1203</td>\n",
       "      <td>8:00</td>\n",
       "    </tr>\n",
       "    <tr>\n",
       "      <th>4</th>\n",
       "      <td>Study With Me - 2hr Pomodoro</td>\n",
       "      <td>710000</td>\n",
       "      <td>54200</td>\n",
       "      <td>3421</td>\n",
       "      <td>120:00</td>\n",
       "    </tr>\n",
       "    <tr>\n",
       "      <th>5</th>\n",
       "      <td>My Daily Routine</td>\n",
       "      <td>276500</td>\n",
       "      <td>17400</td>\n",
       "      <td>2145</td>\n",
       "      <td>9:50</td>\n",
       "    </tr>\n",
       "    <tr>\n",
       "      <th>6</th>\n",
       "      <td>Productive Morning Routine</td>\n",
       "      <td>389000</td>\n",
       "      <td>23800</td>\n",
       "      <td>2801</td>\n",
       "      <td>11:00</td>\n",
       "    </tr>\n",
       "    <tr>\n",
       "      <th>7</th>\n",
       "      <td>Q&amp;A: Student Life</td>\n",
       "      <td>194000</td>\n",
       "      <td>12200</td>\n",
       "      <td>1645</td>\n",
       "      <td>13:20</td>\n",
       "    </tr>\n",
       "  </tbody>\n",
       "</table>\n",
       "</div>"
      ],
      "text/plain": [
       "                          Title   Views  Likes  Comments Duration\n",
       "0                Study Vlog - 1  254300  15300      1893    12:30\n",
       "1           How to Focus Better  431000  28500      3045    10:45\n",
       "2          Python for Beginners  891000  76000      4589    25:00\n",
       "3                Room Tour 2025  123000   8200      1203     8:00\n",
       "4  Study With Me - 2hr Pomodoro  710000  54200      3421   120:00\n",
       "5              My Daily Routine  276500  17400      2145     9:50\n",
       "6    Productive Morning Routine  389000  23800      2801    11:00\n",
       "7             Q&A: Student Life  194000  12200      1645    13:20"
      ]
     },
     "execution_count": 2,
     "metadata": {},
     "output_type": "execute_result"
    }
   ],
   "source": [
    "df = pd.read_csv(r'C:\\datasets\\youtube_stats.csv')\n",
    "df\n"
   ]
  },
  {
   "cell_type": "code",
   "execution_count": 3,
   "id": "0747c60e-b453-46ad-a57e-5f158877da23",
   "metadata": {},
   "outputs": [
    {
     "name": "stdout",
     "output_type": "stream",
     "text": [
      "<class 'pandas.core.frame.DataFrame'>\n",
      "RangeIndex: 8 entries, 0 to 7\n",
      "Data columns (total 5 columns):\n",
      " #   Column    Non-Null Count  Dtype \n",
      "---  ------    --------------  ----- \n",
      " 0   Title     8 non-null      object\n",
      " 1   Views     8 non-null      int64 \n",
      " 2   Likes     8 non-null      int64 \n",
      " 3   Comments  8 non-null      int64 \n",
      " 4   Duration  8 non-null      object\n",
      "dtypes: int64(3), object(2)\n",
      "memory usage: 452.0+ bytes\n"
     ]
    },
    {
     "data": {
      "text/html": [
       "<div>\n",
       "<style scoped>\n",
       "    .dataframe tbody tr th:only-of-type {\n",
       "        vertical-align: middle;\n",
       "    }\n",
       "\n",
       "    .dataframe tbody tr th {\n",
       "        vertical-align: top;\n",
       "    }\n",
       "\n",
       "    .dataframe thead th {\n",
       "        text-align: right;\n",
       "    }\n",
       "</style>\n",
       "<table border=\"1\" class=\"dataframe\">\n",
       "  <thead>\n",
       "    <tr style=\"text-align: right;\">\n",
       "      <th></th>\n",
       "      <th>Views</th>\n",
       "      <th>Likes</th>\n",
       "      <th>Comments</th>\n",
       "    </tr>\n",
       "  </thead>\n",
       "  <tbody>\n",
       "    <tr>\n",
       "      <th>count</th>\n",
       "      <td>8.000000</td>\n",
       "      <td>8.000000</td>\n",
       "      <td>8.000000</td>\n",
       "    </tr>\n",
       "    <tr>\n",
       "      <th>mean</th>\n",
       "      <td>408600.000000</td>\n",
       "      <td>29450.000000</td>\n",
       "      <td>2592.750000</td>\n",
       "    </tr>\n",
       "    <tr>\n",
       "      <th>std</th>\n",
       "      <td>265469.142678</td>\n",
       "      <td>23624.563488</td>\n",
       "      <td>1097.964057</td>\n",
       "    </tr>\n",
       "    <tr>\n",
       "      <th>min</th>\n",
       "      <td>123000.000000</td>\n",
       "      <td>8200.000000</td>\n",
       "      <td>1203.000000</td>\n",
       "    </tr>\n",
       "    <tr>\n",
       "      <th>25%</th>\n",
       "      <td>239225.000000</td>\n",
       "      <td>14525.000000</td>\n",
       "      <td>1831.000000</td>\n",
       "    </tr>\n",
       "    <tr>\n",
       "      <th>50%</th>\n",
       "      <td>332750.000000</td>\n",
       "      <td>20600.000000</td>\n",
       "      <td>2473.000000</td>\n",
       "    </tr>\n",
       "    <tr>\n",
       "      <th>75%</th>\n",
       "      <td>500750.000000</td>\n",
       "      <td>34925.000000</td>\n",
       "      <td>3139.000000</td>\n",
       "    </tr>\n",
       "    <tr>\n",
       "      <th>max</th>\n",
       "      <td>891000.000000</td>\n",
       "      <td>76000.000000</td>\n",
       "      <td>4589.000000</td>\n",
       "    </tr>\n",
       "  </tbody>\n",
       "</table>\n",
       "</div>"
      ],
      "text/plain": [
       "               Views         Likes     Comments\n",
       "count       8.000000      8.000000     8.000000\n",
       "mean   408600.000000  29450.000000  2592.750000\n",
       "std    265469.142678  23624.563488  1097.964057\n",
       "min    123000.000000   8200.000000  1203.000000\n",
       "25%    239225.000000  14525.000000  1831.000000\n",
       "50%    332750.000000  20600.000000  2473.000000\n",
       "75%    500750.000000  34925.000000  3139.000000\n",
       "max    891000.000000  76000.000000  4589.000000"
      ]
     },
     "execution_count": 3,
     "metadata": {},
     "output_type": "execute_result"
    }
   ],
   "source": [
    "df.info()\n",
    "df.describe()\n"
   ]
  },
  {
   "cell_type": "code",
   "execution_count": 4,
   "id": "de1ea449-20ff-4766-af45-b3da2ae053ea",
   "metadata": {},
   "outputs": [
    {
     "data": {
      "text/plain": [
       "Title       Python for Beginners\n",
       "Views                     891000\n",
       "Likes                      76000\n",
       "Comments                    4589\n",
       "Duration                   25:00\n",
       "Name: 2, dtype: object"
      ]
     },
     "execution_count": 4,
     "metadata": {},
     "output_type": "execute_result"
    }
   ],
   "source": [
    "df.loc[df[\"Views\"].idxmax()]\n"
   ]
  },
  {
   "cell_type": "code",
   "execution_count": 5,
   "id": "aba494c3-aa35-4f70-854b-2f0f1594ee91",
   "metadata": {},
   "outputs": [
    {
     "data": {
      "text/html": [
       "<div>\n",
       "<style scoped>\n",
       "    .dataframe tbody tr th:only-of-type {\n",
       "        vertical-align: middle;\n",
       "    }\n",
       "\n",
       "    .dataframe tbody tr th {\n",
       "        vertical-align: top;\n",
       "    }\n",
       "\n",
       "    .dataframe thead th {\n",
       "        text-align: right;\n",
       "    }\n",
       "</style>\n",
       "<table border=\"1\" class=\"dataframe\">\n",
       "  <thead>\n",
       "    <tr style=\"text-align: right;\">\n",
       "      <th></th>\n",
       "      <th>Title</th>\n",
       "      <th>Views</th>\n",
       "      <th>Likes</th>\n",
       "      <th>Comments</th>\n",
       "      <th>Duration</th>\n",
       "      <th>Engagement</th>\n",
       "    </tr>\n",
       "  </thead>\n",
       "  <tbody>\n",
       "    <tr>\n",
       "      <th>2</th>\n",
       "      <td>Python for Beginners</td>\n",
       "      <td>891000</td>\n",
       "      <td>76000</td>\n",
       "      <td>4589</td>\n",
       "      <td>25:00</td>\n",
       "      <td>0.090448</td>\n",
       "    </tr>\n",
       "    <tr>\n",
       "      <th>4</th>\n",
       "      <td>Study With Me - 2hr Pomodoro</td>\n",
       "      <td>710000</td>\n",
       "      <td>54200</td>\n",
       "      <td>3421</td>\n",
       "      <td>120:00</td>\n",
       "      <td>0.081156</td>\n",
       "    </tr>\n",
       "    <tr>\n",
       "      <th>3</th>\n",
       "      <td>Room Tour 2025</td>\n",
       "      <td>123000</td>\n",
       "      <td>8200</td>\n",
       "      <td>1203</td>\n",
       "      <td>8:00</td>\n",
       "      <td>0.076447</td>\n",
       "    </tr>\n",
       "    <tr>\n",
       "      <th>1</th>\n",
       "      <td>How to Focus Better</td>\n",
       "      <td>431000</td>\n",
       "      <td>28500</td>\n",
       "      <td>3045</td>\n",
       "      <td>10:45</td>\n",
       "      <td>0.073190</td>\n",
       "    </tr>\n",
       "    <tr>\n",
       "      <th>7</th>\n",
       "      <td>Q&amp;A: Student Life</td>\n",
       "      <td>194000</td>\n",
       "      <td>12200</td>\n",
       "      <td>1645</td>\n",
       "      <td>13:20</td>\n",
       "      <td>0.071366</td>\n",
       "    </tr>\n",
       "    <tr>\n",
       "      <th>5</th>\n",
       "      <td>My Daily Routine</td>\n",
       "      <td>276500</td>\n",
       "      <td>17400</td>\n",
       "      <td>2145</td>\n",
       "      <td>9:50</td>\n",
       "      <td>0.070687</td>\n",
       "    </tr>\n",
       "    <tr>\n",
       "      <th>6</th>\n",
       "      <td>Productive Morning Routine</td>\n",
       "      <td>389000</td>\n",
       "      <td>23800</td>\n",
       "      <td>2801</td>\n",
       "      <td>11:00</td>\n",
       "      <td>0.068383</td>\n",
       "    </tr>\n",
       "    <tr>\n",
       "      <th>0</th>\n",
       "      <td>Study Vlog - 1</td>\n",
       "      <td>254300</td>\n",
       "      <td>15300</td>\n",
       "      <td>1893</td>\n",
       "      <td>12:30</td>\n",
       "      <td>0.067609</td>\n",
       "    </tr>\n",
       "  </tbody>\n",
       "</table>\n",
       "</div>"
      ],
      "text/plain": [
       "                          Title   Views  Likes  Comments Duration  Engagement\n",
       "2          Python for Beginners  891000  76000      4589    25:00    0.090448\n",
       "4  Study With Me - 2hr Pomodoro  710000  54200      3421   120:00    0.081156\n",
       "3                Room Tour 2025  123000   8200      1203     8:00    0.076447\n",
       "1           How to Focus Better  431000  28500      3045    10:45    0.073190\n",
       "7             Q&A: Student Life  194000  12200      1645    13:20    0.071366\n",
       "5              My Daily Routine  276500  17400      2145     9:50    0.070687\n",
       "6    Productive Morning Routine  389000  23800      2801    11:00    0.068383\n",
       "0                Study Vlog - 1  254300  15300      1893    12:30    0.067609"
      ]
     },
     "execution_count": 5,
     "metadata": {},
     "output_type": "execute_result"
    }
   ],
   "source": [
    "df[\"Engagement\"] = (df[\"Likes\"] + df[\"Comments\"]) / df[\"Views\"]\n",
    "df.sort_values(\"Engagement\", ascending=False)\n"
   ]
  },
  {
   "cell_type": "code",
   "execution_count": 6,
   "id": "b50e9015-6e59-43ee-86c2-632fa6f46432",
   "metadata": {},
   "outputs": [
    {
     "name": "stderr",
     "output_type": "stream",
     "text": [
      "C:\\Users\\HP\\AppData\\Local\\Temp\\ipykernel_16092\\1895900681.py:2: FutureWarning: \n",
      "\n",
      "Passing `palette` without assigning `hue` is deprecated and will be removed in v0.14.0. Assign the `y` variable to `hue` and set `legend=False` for the same effect.\n",
      "\n",
      "  sns.barplot(data=df.sort_values(\"Views\", ascending=False), x=\"Views\", y=\"Title\", palette=\"mako\")\n"
     ]
    },
    {
     "data": {
      "image/png": "[encoded data removed]",
      "text/plain": [
       "<Figure size 1000x600 with 1 Axes>"
      ]
     },
     "metadata": {},
     "output_type": "display_data"
    }
   ],
   "source": [
    "plt.figure(figsize=(10,6))\n",
    "sns.barplot(data=df.sort_values(\"Views\", ascending=False), x=\"Views\", y=\"Title\", palette=\"mako\")\n",
    "plt.title(\" YouTube Video Views\")\n",
    "plt.xlabel(\"Views\")\n",
    "plt.ylabel(\"Video Title\")\n",
    "plt.tight_layout()\n",
    "plt.show()\n"
   ]
  },
  {
   "cell_type": "code",
   "execution_count": 7,
   "id": "1202a973-5896-4045-9e05-3a24a756073e",
   "metadata": {},
   "outputs": [
    {
     "data": {
      "text/plain": [
       "Text(0.5, 1.0, 'Likes vs Comments Relationship')"
      ]
     },
     "execution_count": 7,
     "metadata": {},
     "output_type": "execute_result"
    },
    {
     "data": {
      "image/png": "[encoded data removed]",
      "text/plain": [
       "<Figure size 780x600 with 1 Axes>"
      ]
     },
     "metadata": {},
     "output_type": "display_data"
    }
   ],
   "source": [
    "sns.lmplot(data=df, x=\"Likes\", y=\"Comments\", height=6, aspect=1.3)\n",
    "plt.title(\"Likes vs Comments Relationship\")\n"
   ]
  },
  {
   "cell_type": "code",
   "execution_count": null,
   "id": "d2b4984a-fea8-4e4c-a1e7-4976e4b4eee8",
   "metadata": {},
   "outputs": [],
   "source": []
  }
 ],
 "metadata": {
  "kernelspec": {
   "display_name": "Python 3 (ipykernel)",
   "language": "python",
   "name": "python3"
  },
  "language_info": {
   "codemirror_mode": {
    "name": "ipython",
    "version": 3
   },
   "file_extension": ".py",
   "mimetype": "text/x-python",
   "name": "python",
   "nbconvert_exporter": "python",
   "pygments_lexer": "ipython3",
   "version": "3.12.11"
  }
 },
 "nbformat": 4,
 "nbformat_minor": 5
}
