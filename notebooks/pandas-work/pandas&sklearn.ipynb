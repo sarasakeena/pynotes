{
 "cells": [
  {
   "cell_type": "code",
   "execution_count": null,
   "id": "5c084150",
   "metadata": {},
   "outputs": [],
   "source": [
    "# Cell 1 - Pandas: Dropping Columns\n",
    "import pandas as pd\n",
    "df0 = pd.DataFrame({'A': [1, 2, 3], 'B': [4, 5, 6]})\n",
    "print(df0)"
   ]
  },
  {
   "cell_type": "code",
   "execution_count": null,
   "id": "b385f95e",
   "metadata": {},
   "outputs": [],
   "source": [
    "# Cell 2 - Scikit-learn: Feature Scaling\n",
    "from sklearn.model_selection import train_test_split\n",
    "from sklearn.linear_model import LinearRegression\n",
    "import numpy as np\n",
    "X1 = np.array([[1], [2], [3], [4], [5]])\n",
    "y1 = np.array([1, 4, 9, 16, 25])\n",
    "X_train1, X_test1, y_train1, y_test1 = train_test_split(X1, y1, test_size=0.2)\n",
    "model1 = LinearRegression()\n",
    "model1.fit(X_train1, y_train1)\n",
    "print(model1.predict(X_test1))"
   ]
  },
  {
   "cell_type": "code",
   "execution_count": null,
   "id": "8c819c7f",
   "metadata": {},
   "outputs": [],
   "source": [
    "# Cell 3 - Pandas: Creating DataFrames\n",
    "import pandas as pd\n",
    "df2 = pd.DataFrame({'A': [1, 2, 3], 'B': [4, 5, 6]})\n",
    "print(df2)"
   ]
  },
  {
   "cell_type": "code",
   "execution_count": null,
   "id": "93790fc5",
   "metadata": {},
   "outputs": [],
   "source": [
    "# Cell 4 - Scikit-learn: Decision Trees\n",
    "from sklearn.model_selection import train_test_split\n",
    "from sklearn.linear_model import LinearRegression\n",
    "import numpy as np\n",
    "X3 = np.array([[1], [2], [3], [4], [5]])\n",
    "y3 = np.array([1, 4, 9, 16, 25])\n",
    "X_train3, X_test3, y_train3, y_test3 = train_test_split(X3, y3, test_size=0.2)\n",
    "model3 = LinearRegression()\n",
    "model3.fit(X_train3, y_train3)\n",
    "print(model3.predict(X_test3))"
   ]
  },
  {
   "cell_type": "code",
   "execution_count": null,
   "id": "8bb1542a",
   "metadata": {},
   "outputs": [],
   "source": [
    "# Cell 5 - Pandas: Data Selection\n",
    "import pandas as pd\n",
    "df4 = pd.DataFrame({'A': [1, 2, 3], 'B': [4, 5, 6]})\n",
    "print(df4)"
   ]
  },
  {
   "cell_type": "code",
   "execution_count": null,
   "id": "b8fd0cf0",
   "metadata": {},
   "outputs": [],
   "source": [
    "# Cell 6 - Scikit-learn: SVM\n",
    "from sklearn.model_selection import train_test_split\n",
    "from sklearn.linear_model import LinearRegression\n",
    "import numpy as np\n",
    "X5 = np.array([[1], [2], [3], [4], [5]])\n",
    "y5 = np.array([1, 4, 9, 16, 25])\n",
    "X_train5, X_test5, y_train5, y_test5 = train_test_split(X5, y5, test_size=0.2)\n",
    "model5 = LinearRegression()\n",
    "model5.fit(X_train5, y_train5)\n",
    "print(model5.predict(X_test5))"
   ]
  },
  {
   "cell_type": "code",
   "execution_count": null,
   "id": "b3c031f5",
   "metadata": {},
   "outputs": [],
   "source": [
    "# Cell 7 - Pandas: Reading CSV\n",
    "import pandas as pd\n",
    "df6 = pd.DataFrame({'A': [1, 2, 3], 'B': [4, 5, 6]})\n",
    "print(df6)"
   ]
  },
  {
   "cell_type": "code",
   "execution_count": null,
   "id": "256539f2",
   "metadata": {},
   "outputs": [],
   "source": [
    "# Cell 8 - Scikit-learn: Pipeline\n",
    "from sklearn.model_selection import train_test_split\n",
    "from sklearn.linear_model import LinearRegression\n",
    "import numpy as np\n",
    "X7 = np.array([[1], [2], [3], [4], [5]])\n",
    "y7 = np.array([1, 4, 9, 16, 25])\n",
    "X_train7, X_test7, y_train7, y_test7 = train_test_split(X7, y7, test_size=0.2)\n",
    "model7 = LinearRegression()\n",
    "model7.fit(X_train7, y_train7)\n",
    "print(model7.predict(X_test7))"
   ]
  },
  {
   "cell_type": "code",
   "execution_count": null,
   "id": "01071aff",
   "metadata": {},
   "outputs": [],
   "source": [
    "# Cell 9 - Pandas: Creating DataFrames\n",
    "import pandas as pd\n",
    "df8 = pd.DataFrame({'A': [1, 2, 3], 'B': [4, 5, 6]})\n",
    "print(df8)"
   ]
  },
  {
   "cell_type": "code",
   "execution_count": null,
   "id": "7f342d89",
   "metadata": {},
   "outputs": [],
   "source": [
    "# Cell 10 - Scikit-learn: Random Forest\n",
    "from sklearn.model_selection import train_test_split\n",
    "from sklearn.linear_model import LinearRegression\n",
    "import numpy as np\n",
    "X9 = np.array([[1], [2], [3], [4], [5]])\n",
    "y9 = np.array([1, 4, 9, 16, 25])\n",
    "X_train9, X_test9, y_train9, y_test9 = train_test_split(X9, y9, test_size=0.2)\n",
    "model9 = LinearRegression()\n",
    "model9.fit(X_train9, y_train9)\n",
    "print(model9.predict(X_test9))"
   ]
  },
  {
   "cell_type": "code",
   "execution_count": null,
   "id": "82abdb15",
   "metadata": {},
   "outputs": [],
   "source": [
    "# Cell 11 - Pandas: Reading CSV\n",
    "import pandas as pd\n",
    "df10 = pd.DataFrame({'A': [1, 2, 3], 'B': [4, 5, 6]})\n",
    "print(df10)"
   ]
  },
  {
   "cell_type": "code",
   "execution_count": null,
   "id": "3f579d31",
   "metadata": {},
   "outputs": [],
   "source": [
    "# Cell 12 - Scikit-learn: Logistic Regression\n",
    "from sklearn.model_selection import train_test_split\n",
    "from sklearn.linear_model import LinearRegression\n",
    "import numpy as np\n",
    "X11 = np.array([[1], [2], [3], [4], [5]])\n",
    "y11 = np.array([1, 4, 9, 16, 25])\n",
    "X_train11, X_test11, y_train11, y_test11 = train_test_split(X11, y11, test_size=0.2)\n",
    "model11 = LinearRegression()\n",
    "model11.fit(X_train11, y_train11)\n",
    "print(model11.predict(X_test11))"
   ]
  },
  {
   "cell_type": "code",
   "execution_count": null,
   "id": "d29c5df6",
   "metadata": {},
   "outputs": [],
   "source": [
    "# Cell 13 - Pandas: Reading CSV\n",
    "import pandas as pd\n",
    "df12 = pd.DataFrame({'A': [1, 2, 3], 'B': [4, 5, 6]})\n",
    "print(df12)"
   ]
  },
  {
   "cell_type": "code",
   "execution_count": null,
   "id": "3a4a09be",
   "metadata": {},
   "outputs": [],
   "source": [
    "# Cell 14 - Scikit-learn: Feature Scaling\n",
    "from sklearn.model_selection import train_test_split\n",
    "from sklearn.linear_model import LinearRegression\n",
    "import numpy as np\n",
    "X13 = np.array([[1], [2], [3], [4], [5]])\n",
    "y13 = np.array([1, 4, 9, 16, 25])\n",
    "X_train13, X_test13, y_train13, y_test13 = train_test_split(X13, y13, test_size=0.2)\n",
    "model13 = LinearRegression()\n",
    "model13.fit(X_train13, y_train13)\n",
    "print(model13.predict(X_test13))"
   ]
  },
  {
   "cell_type": "code",
   "execution_count": null,
   "id": "feb08958",
   "metadata": {},
   "outputs": [],
   "source": [
    "# Cell 15 - Pandas: Adding Columns\n",
    "import pandas as pd\n",
    "df14 = pd.DataFrame({'A': [1, 2, 3], 'B': [4, 5, 6]})\n",
    "print(df14)"
   ]
  },
  {
   "cell_type": "code",
   "execution_count": null,
   "id": "5bf7759d",
   "metadata": {},
   "outputs": [],
   "source": [
    "# Cell 16 - Scikit-learn: Decision Trees\n",
    "from sklearn.model_selection import train_test_split\n",
    "from sklearn.linear_model import LinearRegression\n",
    "import numpy as np\n",
    "X15 = np.array([[1], [2], [3], [4], [5]])\n",
    "y15 = np.array([1, 4, 9, 16, 25])\n",
    "X_train15, X_test15, y_train15, y_test15 = train_test_split(X15, y15, test_size=0.2)\n",
    "model15 = LinearRegression()\n",
    "model15.fit(X_train15, y_train15)\n",
    "print(model15.predict(X_test15))"
   ]
  },
  {
   "cell_type": "code",
   "execution_count": null,
   "id": "e2cb05d9",
   "metadata": {},
   "outputs": [],
   "source": [
    "# Cell 17 - Pandas: Data Selection\n",
    "import pandas as pd\n",
    "df16 = pd.DataFrame({'A': [1, 2, 3], 'B': [4, 5, 6]})\n",
    "print(df16)"
   ]
  },
  {
   "cell_type": "code",
   "execution_count": null,
   "id": "e278ca33",
   "metadata": {},
   "outputs": [],
   "source": [
    "# Cell 18 - Scikit-learn: Pipeline\n",
    "from sklearn.model_selection import train_test_split\n",
    "from sklearn.linear_model import LinearRegression\n",
    "import numpy as np\n",
    "X17 = np.array([[1], [2], [3], [4], [5]])\n",
    "y17 = np.array([1, 4, 9, 16, 25])\n",
    "X_train17, X_test17, y_train17, y_test17 = train_test_split(X17, y17, test_size=0.2)\n",
    "model17 = LinearRegression()\n",
    "model17.fit(X_train17, y_train17)\n",
    "print(model17.predict(X_test17))"
   ]
  },
  {
   "cell_type": "code",
   "execution_count": null,
   "id": "84d69139",
   "metadata": {},
   "outputs": [],
   "source": [
    "# Cell 19 - Pandas: Descriptive Stats\n",
    "import pandas as pd\n",
    "df18 = pd.DataFrame({'A': [1, 2, 3], 'B': [4, 5, 6]})\n",
    "print(df18)"
   ]
  },
  {
   "cell_type": "code",
   "execution_count": null,
   "id": "630a615c",
   "metadata": {},
   "outputs": [],
   "source": [
    "# Cell 20 - Scikit-learn: Cross Validation\n",
    "from sklearn.model_selection import train_test_split\n",
    "from sklearn.linear_model import LinearRegression\n",
    "import numpy as np\n",
    "X19 = np.array([[1], [2], [3], [4], [5]])\n",
    "y19 = np.array([1, 4, 9, 16, 25])\n",
    "X_train19, X_test19, y_train19, y_test19 = train_test_split(X19, y19, test_size=0.2)\n",
    "model19 = LinearRegression()\n",
    "model19.fit(X_train19, y_train19)\n",
    "print(model19.predict(X_test19))"
   ]
  },
  {
   "cell_type": "code",
   "execution_count": null,
   "id": "33b12c79",
   "metadata": {},
   "outputs": [],
   "source": [
    "# Cell 21 - Pandas: Sorting\n",
    "import pandas as pd\n",
    "df20 = pd.DataFrame({'A': [1, 2, 3], 'B': [4, 5, 6]})\n",
    "print(df20)"
   ]
  },
  {
   "cell_type": "code",
   "execution_count": null,
   "id": "bdc91e65",
   "metadata": {},
   "outputs": [],
   "source": [
    "# Cell 22 - Scikit-learn: Decision Trees\n",
    "from sklearn.model_selection import train_test_split\n",
    "from sklearn.linear_model import LinearRegression\n",
    "import numpy as np\n",
    "X21 = np.array([[1], [2], [3], [4], [5]])\n",
    "y21 = np.array([1, 4, 9, 16, 25])\n",
    "X_train21, X_test21, y_train21, y_test21 = train_test_split(X21, y21, test_size=0.2)\n",
    "model21 = LinearRegression()\n",
    "model21.fit(X_train21, y_train21)\n",
    "print(model21.predict(X_test21))"
   ]
  },
  {
   "cell_type": "code",
   "execution_count": null,
   "id": "98c3d553",
   "metadata": {},
   "outputs": [],
   "source": [
    "# Cell 23 - Pandas: Data Types\n",
    "import pandas as pd\n",
    "df22 = pd.DataFrame({'A': [1, 2, 3], 'B': [4, 5, 6]})\n",
    "print(df22)"
   ]
  },
  {
   "cell_type": "code",
   "execution_count": null,
   "id": "704aace7",
   "metadata": {},
   "outputs": [],
   "source": [
    "# Cell 24 - Scikit-learn: KNN\n",
    "from sklearn.model_selection import train_test_split\n",
    "from sklearn.linear_model import LinearRegression\n",
    "import numpy as np\n",
    "X23 = np.array([[1], [2], [3], [4], [5]])\n",
    "y23 = np.array([1, 4, 9, 16, 25])\n",
    "X_train23, X_test23, y_train23, y_test23 = train_test_split(X23, y23, test_size=0.2)\n",
    "model23 = LinearRegression()\n",
    "model23.fit(X_train23, y_train23)\n",
    "print(model23.predict(X_test23))"
   ]
  },
  {
   "cell_type": "code",
   "execution_count": null,
   "id": "de13ddcf",
   "metadata": {},
   "outputs": [],
   "source": [
    "# Cell 25 - Pandas: Creating DataFrames\n",
    "import pandas as pd\n",
    "df24 = pd.DataFrame({'A': [1, 2, 3], 'B': [4, 5, 6]})\n",
    "print(df24)"
   ]
  },
  {
   "cell_type": "code",
   "execution_count": null,
   "id": "62926dcd",
   "metadata": {},
   "outputs": [],
   "source": [
    "# Cell 26 - Scikit-learn: Pipeline\n",
    "from sklearn.model_selection import train_test_split\n",
    "from sklearn.linear_model import LinearRegression\n",
    "import numpy as np\n",
    "X25 = np.array([[1], [2], [3], [4], [5]])\n",
    "y25 = np.array([1, 4, 9, 16, 25])\n",
    "X_train25, X_test25, y_train25, y_test25 = train_test_split(X25, y25, test_size=0.2)\n",
    "model25 = LinearRegression()\n",
    "model25.fit(X_train25, y_train25)\n",
    "print(model25.predict(X_test25))"
   ]
  },
  {
   "cell_type": "code",
   "execution_count": null,
   "id": "45fdebe8",
   "metadata": {},
   "outputs": [],
   "source": [
    "# Cell 27 - Pandas: Data Selection\n",
    "import pandas as pd\n",
    "df26 = pd.DataFrame({'A': [1, 2, 3], 'B': [4, 5, 6]})\n",
    "print(df26)"
   ]
  },
  {
   "cell_type": "code",
   "execution_count": null,
   "id": "b1670e10",
   "metadata": {},
   "outputs": [],
   "source": [
    "# Cell 28 - Scikit-learn: Train-Test Split\n",
    "from sklearn.model_selection import train_test_split\n",
    "from sklearn.linear_model import LinearRegression\n",
    "import numpy as np\n",
    "X27 = np.array([[1], [2], [3], [4], [5]])\n",
    "y27 = np.array([1, 4, 9, 16, 25])\n",
    "X_train27, X_test27, y_train27, y_test27 = train_test_split(X27, y27, test_size=0.2)\n",
    "model27 = LinearRegression()\n",
    "model27.fit(X_train27, y_train27)\n",
    "print(model27.predict(X_test27))"
   ]
  },
  {
   "cell_type": "code",
   "execution_count": null,
   "id": "26c21fe8",
   "metadata": {},
   "outputs": [],
   "source": [
    "# Cell 29 - Pandas: Dropping Columns\n",
    "import pandas as pd\n",
    "df28 = pd.DataFrame({'A': [1, 2, 3], 'B': [4, 5, 6]})\n",
    "print(df28)"
   ]
  },
  {
   "cell_type": "code",
   "execution_count": null,
   "id": "3709aa0e",
   "metadata": {},
   "outputs": [],
   "source": [
    "# Cell 30 - Scikit-learn: Pipeline\n",
    "from sklearn.model_selection import train_test_split\n",
    "from sklearn.linear_model import LinearRegression\n",
    "import numpy as np\n",
    "X29 = np.array([[1], [2], [3], [4], [5]])\n",
    "y29 = np.array([1, 4, 9, 16, 25])\n",
    "X_train29, X_test29, y_train29, y_test29 = train_test_split(X29, y29, test_size=0.2)\n",
    "model29 = LinearRegression()\n",
    "model29.fit(X_train29, y_train29)\n",
    "print(model29.predict(X_test29))"
   ]
  },
  {
   "cell_type": "code",
   "execution_count": null,
   "id": "71d85823",
   "metadata": {},
   "outputs": [],
   "source": [
    "# Cell 31 - Pandas: Sorting\n",
    "import pandas as pd\n",
    "df30 = pd.DataFrame({'A': [1, 2, 3], 'B': [4, 5, 6]})\n",
    "print(df30)"
   ]
  },
  {
   "cell_type": "code",
   "execution_count": null,
   "id": "253f2a85",
   "metadata": {},
   "outputs": [],
   "source": [
    "# Cell 32 - Scikit-learn: Train-Test Split\n",
    "from sklearn.model_selection import train_test_split\n",
    "from sklearn.linear_model import LinearRegression\n",
    "import numpy as np\n",
    "X31 = np.array([[1], [2], [3], [4], [5]])\n",
    "y31 = np.array([1, 4, 9, 16, 25])\n",
    "X_train31, X_test31, y_train31, y_test31 = train_test_split(X31, y31, test_size=0.2)\n",
    "model31 = LinearRegression()\n",
    "model31.fit(X_train31, y_train31)\n",
    "print(model31.predict(X_test31))"
   ]
  },
  {
   "cell_type": "code",
   "execution_count": null,
   "id": "9d78d3bb",
   "metadata": {},
   "outputs": [],
   "source": [
    "# Cell 33 - Pandas: GroupBy\n",
    "import pandas as pd\n",
    "df32 = pd.DataFrame({'A': [1, 2, 3], 'B': [4, 5, 6]})\n",
    "print(df32)"
   ]
  },
  {
   "cell_type": "code",
   "execution_count": null,
   "id": "3374c584",
   "metadata": {},
   "outputs": [],
   "source": [
    "# Cell 34 - Scikit-learn: Random Forest\n",
    "from sklearn.model_selection import train_test_split\n",
    "from sklearn.linear_model import LinearRegression\n",
    "import numpy as np\n",
    "X33 = np.array([[1], [2], [3], [4], [5]])\n",
    "y33 = np.array([1, 4, 9, 16, 25])\n",
    "X_train33, X_test33, y_train33, y_test33 = train_test_split(X33, y33, test_size=0.2)\n",
    "model33 = LinearRegression()\n",
    "model33.fit(X_train33, y_train33)\n",
    "print(model33.predict(X_test33))"
   ]
  },
  {
   "cell_type": "code",
   "execution_count": null,
   "id": "0e57e6c6",
   "metadata": {},
   "outputs": [],
   "source": [
    "# Cell 35 - Pandas: Creating DataFrames\n",
    "import pandas as pd\n",
    "df34 = pd.DataFrame({'A': [1, 2, 3], 'B': [4, 5, 6]})\n",
    "print(df34)"
   ]
  },
  {
   "cell_type": "code",
   "execution_count": null,
   "id": "c371b3e5",
   "metadata": {},
   "outputs": [],
   "source": [
    "# Cell 36 - Scikit-learn: Logistic Regression\n",
    "from sklearn.model_selection import train_test_split\n",
    "from sklearn.linear_model import LinearRegression\n",
    "import numpy as np\n",
    "X35 = np.array([[1], [2], [3], [4], [5]])\n",
    "y35 = np.array([1, 4, 9, 16, 25])\n",
    "X_train35, X_test35, y_train35, y_test35 = train_test_split(X35, y35, test_size=0.2)\n",
    "model35 = LinearRegression()\n",
    "model35.fit(X_train35, y_train35)\n",
    "print(model35.predict(X_test35))"
   ]
  },
  {
   "cell_type": "code",
   "execution_count": null,
   "id": "5131e10a",
   "metadata": {},
   "outputs": [],
   "source": [
    "# Cell 37 - Pandas: Reading CSV\n",
    "import pandas as pd\n",
    "df36 = pd.DataFrame({'A': [1, 2, 3], 'B': [4, 5, 6]})\n",
    "print(df36)"
   ]
  },
  {
   "cell_type": "code",
   "execution_count": null,
   "id": "66cb8969",
   "metadata": {},
   "outputs": [],
   "source": [
    "# Cell 38 - Scikit-learn: Logistic Regression\n",
    "from sklearn.model_selection import train_test_split\n",
    "from sklearn.linear_model import LinearRegression\n",
    "import numpy as np\n",
    "X37 = np.array([[1], [2], [3], [4], [5]])\n",
    "y37 = np.array([1, 4, 9, 16, 25])\n",
    "X_train37, X_test37, y_train37, y_test37 = train_test_split(X37, y37, test_size=0.2)\n",
    "model37 = LinearRegression()\n",
    "model37.fit(X_train37, y_train37)\n",
    "print(model37.predict(X_test37))"
   ]
  },
  {
   "cell_type": "code",
   "execution_count": null,
   "id": "a30a3528",
   "metadata": {},
   "outputs": [],
   "source": [
    "# Cell 39 - Pandas: Filtering Rows\n",
    "import pandas as pd\n",
    "df38 = pd.DataFrame({'A': [1, 2, 3], 'B': [4, 5, 6]})\n",
    "print(df38)"
   ]
  },
  {
   "cell_type": "code",
   "execution_count": null,
   "id": "772cb462",
   "metadata": {},
   "outputs": [],
   "source": [
    "# Cell 40 - Scikit-learn: Linear Regression\n",
    "from sklearn.model_selection import train_test_split\n",
    "from sklearn.linear_model import LinearRegression\n",
    "import numpy as np\n",
    "X39 = np.array([[1], [2], [3], [4], [5]])\n",
    "y39 = np.array([1, 4, 9, 16, 25])\n",
    "X_train39, X_test39, y_train39, y_test39 = train_test_split(X39, y39, test_size=0.2)\n",
    "model39 = LinearRegression()\n",
    "model39.fit(X_train39, y_train39)\n",
    "print(model39.predict(X_test39))"
   ]
  },
  {
   "cell_type": "code",
   "execution_count": null,
   "id": "5b8bcde9",
   "metadata": {},
   "outputs": [],
   "source": [
    "# Cell 41 - Pandas: Reading CSV\n",
    "import pandas as pd\n",
    "df40 = pd.DataFrame({'A': [1, 2, 3], 'B': [4, 5, 6]})\n",
    "print(df40)"
   ]
  },
  {
   "cell_type": "code",
   "execution_count": null,
   "id": "dc71017a",
   "metadata": {},
   "outputs": [],
   "source": [
    "# Cell 42 - Scikit-learn: Encoding Categorical Variables\n",
    "from sklearn.model_selection import train_test_split\n",
    "from sklearn.linear_model import LinearRegression\n",
    "import numpy as np\n",
    "X41 = np.array([[1], [2], [3], [4], [5]])\n",
    "y41 = np.array([1, 4, 9, 16, 25])\n",
    "X_train41, X_test41, y_train41, y_test41 = train_test_split(X41, y41, test_size=0.2)\n",
    "model41 = LinearRegression()\n",
    "model41.fit(X_train41, y_train41)\n",
    "print(model41.predict(X_test41))"
   ]
  },
  {
   "cell_type": "code",
   "execution_count": null,
   "id": "1eb62dc2",
   "metadata": {},
   "outputs": [],
   "source": [
    "# Cell 43 - Pandas: Adding Columns\n",
    "import pandas as pd\n",
    "df42 = pd.DataFrame({'A': [1, 2, 3], 'B': [4, 5, 6]})\n",
    "print(df42)"
   ]
  },
  {
   "cell_type": "code",
   "execution_count": null,
   "id": "8abdd155",
   "metadata": {},
   "outputs": [],
   "source": [
    "# Cell 44 - Scikit-learn: Pipeline\n",
    "from sklearn.model_selection import train_test_split\n",
    "from sklearn.linear_model import LinearRegression\n",
    "import numpy as np\n",
    "X43 = np.array([[1], [2], [3], [4], [5]])\n",
    "y43 = np.array([1, 4, 9, 16, 25])\n",
    "X_train43, X_test43, y_train43, y_test43 = train_test_split(X43, y43, test_size=0.2)\n",
    "model43 = LinearRegression()\n",
    "model43.fit(X_train43, y_train43)\n",
    "print(model43.predict(X_test43))"
   ]
  },
  {
   "cell_type": "code",
   "execution_count": null,
   "id": "788aa0cf",
   "metadata": {},
   "outputs": [],
   "source": [
    "# Cell 45 - Pandas: Creating DataFrames\n",
    "import pandas as pd\n",
    "df44 = pd.DataFrame({'A': [1, 2, 3], 'B': [4, 5, 6]})\n",
    "print(df44)"
   ]
  },
  {
   "cell_type": "code",
   "execution_count": null,
   "id": "0422b97d",
   "metadata": {},
   "outputs": [],
   "source": [
    "# Cell 46 - Scikit-learn: Model Evaluation\n",
    "from sklearn.model_selection import train_test_split\n",
    "from sklearn.linear_model import LinearRegression\n",
    "import numpy as np\n",
    "X45 = np.array([[1], [2], [3], [4], [5]])\n",
    "y45 = np.array([1, 4, 9, 16, 25])\n",
    "X_train45, X_test45, y_train45, y_test45 = train_test_split(X45, y45, test_size=0.2)\n",
    "model45 = LinearRegression()\n",
    "model45.fit(X_train45, y_train45)\n",
    "print(model45.predict(X_test45))"
   ]
  },
  {
   "cell_type": "code",
   "execution_count": null,
   "id": "c3732e43",
   "metadata": {},
   "outputs": [],
   "source": [
    "# Cell 47 - Pandas: Data Types\n",
    "import pandas as pd\n",
    "df46 = pd.DataFrame({'A': [1, 2, 3], 'B': [4, 5, 6]})\n",
    "print(df46)"
   ]
  },
  {
   "cell_type": "code",
   "execution_count": null,
   "id": "cada49f1",
   "metadata": {},
   "outputs": [],
   "source": [
    "# Cell 48 - Scikit-learn: KNN\n",
    "from sklearn.model_selection import train_test_split\n",
    "from sklearn.linear_model import LinearRegression\n",
    "import numpy as np\n",
    "X47 = np.array([[1], [2], [3], [4], [5]])\n",
    "y47 = np.array([1, 4, 9, 16, 25])\n",
    "X_train47, X_test47, y_train47, y_test47 = train_test_split(X47, y47, test_size=0.2)\n",
    "model47 = LinearRegression()\n",
    "model47.fit(X_train47, y_train47)\n",
    "print(model47.predict(X_test47))"
   ]
  },
  {
   "cell_type": "code",
   "execution_count": null,
   "id": "4e5dae5b",
   "metadata": {},
   "outputs": [],
   "source": [
    "# Cell 49 - Pandas: Dropping Columns\n",
    "import pandas as pd\n",
    "df48 = pd.DataFrame({'A': [1, 2, 3], 'B': [4, 5, 6]})\n",
    "print(df48)"
   ]
  },
  {
   "cell_type": "code",
   "execution_count": null,
   "id": "b90db33a",
   "metadata": {},
   "outputs": [],
   "source": [
    "# Cell 50 - Scikit-learn: Train-Test Split\n",
    "from sklearn.model_selection import train_test_split\n",
    "from sklearn.linear_model import LinearRegression\n",
    "import numpy as np\n",
    "X49 = np.array([[1], [2], [3], [4], [5]])\n",
    "y49 = np.array([1, 4, 9, 16, 25])\n",
    "X_train49, X_test49, y_train49, y_test49 = train_test_split(X49, y49, test_size=0.2)\n",
    "model49 = LinearRegression()\n",
    "model49.fit(X_train49, y_train49)\n",
    "print(model49.predict(X_test49))"
   ]
  },
  {
   "cell_type": "code",
   "execution_count": null,
   "id": "3d256cfd",
   "metadata": {},
   "outputs": [],
   "source": [
    "# Cell 51 - Pandas: Descriptive Stats\n",
    "import pandas as pd\n",
    "df50 = pd.DataFrame({'A': [1, 2, 3], 'B': [4, 5, 6]})\n",
    "print(df50)"
   ]
  },
  {
   "cell_type": "code",
   "execution_count": null,
   "id": "aedb11f5",
   "metadata": {},
   "outputs": [],
   "source": [
    "# Cell 52 - Scikit-learn: Model Evaluation\n",
    "from sklearn.model_selection import train_test_split\n",
    "from sklearn.linear_model import LinearRegression\n",
    "import numpy as np\n",
    "X51 = np.array([[1], [2], [3], [4], [5]])\n",
    "y51 = np.array([1, 4, 9, 16, 25])\n",
    "X_train51, X_test51, y_train51, y_test51 = train_test_split(X51, y51, test_size=0.2)\n",
    "model51 = LinearRegression()\n",
    "model51.fit(X_train51, y_train51)\n",
    "print(model51.predict(X_test51))"
   ]
  },
  {
   "cell_type": "code",
   "execution_count": null,
   "id": "5ed425df",
   "metadata": {},
   "outputs": [],
   "source": [
    "# Cell 53 - Pandas: Data Selection\n",
    "import pandas as pd\n",
    "df52 = pd.DataFrame({'A': [1, 2, 3], 'B': [4, 5, 6]})\n",
    "print(df52)"
   ]
  },
  {
   "cell_type": "code",
   "execution_count": null,
   "id": "5c8f874d",
   "metadata": {},
   "outputs": [],
   "source": [
    "# Cell 54 - Scikit-learn: Feature Scaling\n",
    "from sklearn.model_selection import train_test_split\n",
    "from sklearn.linear_model import LinearRegression\n",
    "import numpy as np\n",
    "X53 = np.array([[1], [2], [3], [4], [5]])\n",
    "y53 = np.array([1, 4, 9, 16, 25])\n",
    "X_train53, X_test53, y_train53, y_test53 = train_test_split(X53, y53, test_size=0.2)\n",
    "model53 = LinearRegression()\n",
    "model53.fit(X_train53, y_train53)\n",
    "print(model53.predict(X_test53))"
   ]
  },
  {
   "cell_type": "code",
   "execution_count": null,
   "id": "2009c9cc",
   "metadata": {},
   "outputs": [],
   "source": [
    "# Cell 55 - Pandas: Creating DataFrames\n",
    "import pandas as pd\n",
    "df54 = pd.DataFrame({'A': [1, 2, 3], 'B': [4, 5, 6]})\n",
    "print(df54)"
   ]
  },
  {
   "cell_type": "code",
   "execution_count": null,
   "id": "46dccfd2",
   "metadata": {},
   "outputs": [],
   "source": [
    "# Cell 56 - Scikit-learn: Logistic Regression\n",
    "from sklearn.model_selection import train_test_split\n",
    "from sklearn.linear_model import LinearRegression\n",
    "import numpy as np\n",
    "X55 = np.array([[1], [2], [3], [4], [5]])\n",
    "y55 = np.array([1, 4, 9, 16, 25])\n",
    "X_train55, X_test55, y_train55, y_test55 = train_test_split(X55, y55, test_size=0.2)\n",
    "model55 = LinearRegression()\n",
    "model55.fit(X_train55, y_train55)\n",
    "print(model55.predict(X_test55))"
   ]
  },
  {
   "cell_type": "code",
   "execution_count": null,
   "id": "d5c5b162",
   "metadata": {},
   "outputs": [],
   "source": [
    "# Cell 57 - Pandas: Creating DataFrames\n",
    "import pandas as pd\n",
    "df56 = pd.DataFrame({'A': [1, 2, 3], 'B': [4, 5, 6]})\n",
    "print(df56)"
   ]
  },
  {
   "cell_type": "code",
   "execution_count": null,
   "id": "44a1426a",
   "metadata": {},
   "outputs": [],
   "source": [
    "# Cell 58 - Scikit-learn: SVM\n",
    "from sklearn.model_selection import train_test_split\n",
    "from sklearn.linear_model import LinearRegression\n",
    "import numpy as np\n",
    "X57 = np.array([[1], [2], [3], [4], [5]])\n",
    "y57 = np.array([1, 4, 9, 16, 25])\n",
    "X_train57, X_test57, y_train57, y_test57 = train_test_split(X57, y57, test_size=0.2)\n",
    "model57 = LinearRegression()\n",
    "model57.fit(X_train57, y_train57)\n",
    "print(model57.predict(X_test57))"
   ]
  },
  {
   "cell_type": "code",
   "execution_count": null,
   "id": "860287fe",
   "metadata": {},
   "outputs": [],
   "source": [
    "# Cell 59 - Pandas: Sorting\n",
    "import pandas as pd\n",
    "df58 = pd.DataFrame({'A': [1, 2, 3], 'B': [4, 5, 6]})\n",
    "print(df58)"
   ]
  },
  {
   "cell_type": "code",
   "execution_count": null,
   "id": "328f3d7f",
   "metadata": {},
   "outputs": [],
   "source": [
    "# Cell 60 - Scikit-learn: Logistic Regression\n",
    "from sklearn.model_selection import train_test_split\n",
    "from sklearn.linear_model import LinearRegression\n",
    "import numpy as np\n",
    "X59 = np.array([[1], [2], [3], [4], [5]])\n",
    "y59 = np.array([1, 4, 9, 16, 25])\n",
    "X_train59, X_test59, y_train59, y_test59 = train_test_split(X59, y59, test_size=0.2)\n",
    "model59 = LinearRegression()\n",
    "model59.fit(X_train59, y_train59)\n",
    "print(model59.predict(X_test59))"
   ]
  },
  {
   "cell_type": "code",
   "execution_count": null,
   "id": "4d46f8fb",
   "metadata": {},
   "outputs": [],
   "source": [
    "# Cell 61 - Pandas: Adding Columns\n",
    "import pandas as pd\n",
    "df60 = pd.DataFrame({'A': [1, 2, 3], 'B': [4, 5, 6]})\n",
    "print(df60)"
   ]
  },
  {
   "cell_type": "code",
   "execution_count": null,
   "id": "ced9a6cf",
   "metadata": {},
   "outputs": [],
   "source": [
    "# Cell 62 - Scikit-learn: Train-Test Split\n",
    "from sklearn.model_selection import train_test_split\n",
    "from sklearn.linear_model import LinearRegression\n",
    "import numpy as np\n",
    "X61 = np.array([[1], [2], [3], [4], [5]])\n",
    "y61 = np.array([1, 4, 9, 16, 25])\n",
    "X_train61, X_test61, y_train61, y_test61 = train_test_split(X61, y61, test_size=0.2)\n",
    "model61 = LinearRegression()\n",
    "model61.fit(X_train61, y_train61)\n",
    "print(model61.predict(X_test61))"
   ]
  },
  {
   "cell_type": "code",
   "execution_count": null,
   "id": "e04a2eba",
   "metadata": {},
   "outputs": [],
   "source": [
    "# Cell 63 - Pandas: Dropping Columns\n",
    "import pandas as pd\n",
    "df62 = pd.DataFrame({'A': [1, 2, 3], 'B': [4, 5, 6]})\n",
    "print(df62)"
   ]
  },
  {
   "cell_type": "code",
   "execution_count": null,
   "id": "8dd42197",
   "metadata": {},
   "outputs": [],
   "source": [
    "# Cell 64 - Scikit-learn: Feature Scaling\n",
    "from sklearn.model_selection import train_test_split\n",
    "from sklearn.linear_model import LinearRegression\n",
    "import numpy as np\n",
    "X63 = np.array([[1], [2], [3], [4], [5]])\n",
    "y63 = np.array([1, 4, 9, 16, 25])\n",
    "X_train63, X_test63, y_train63, y_test63 = train_test_split(X63, y63, test_size=0.2)\n",
    "model63 = LinearRegression()\n",
    "model63.fit(X_train63, y_train63)\n",
    "print(model63.predict(X_test63))"
   ]
  },
  {
   "cell_type": "code",
   "execution_count": null,
   "id": "7a3cda46",
   "metadata": {},
   "outputs": [],
   "source": [
    "# Cell 65 - Pandas: Reading CSV\n",
    "import pandas as pd\n",
    "df64 = pd.DataFrame({'A': [1, 2, 3], 'B': [4, 5, 6]})\n",
    "print(df64)"
   ]
  },
  {
   "cell_type": "code",
   "execution_count": null,
   "id": "c1c62b9d",
   "metadata": {},
   "outputs": [],
   "source": [
    "# Cell 66 - Scikit-learn: Train-Test Split\n",
    "from sklearn.model_selection import train_test_split\n",
    "from sklearn.linear_model import LinearRegression\n",
    "import numpy as np\n",
    "X65 = np.array([[1], [2], [3], [4], [5]])\n",
    "y65 = np.array([1, 4, 9, 16, 25])\n",
    "X_train65, X_test65, y_train65, y_test65 = train_test_split(X65, y65, test_size=0.2)\n",
    "model65 = LinearRegression()\n",
    "model65.fit(X_train65, y_train65)\n",
    "print(model65.predict(X_test65))"
   ]
  },
  {
   "cell_type": "code",
   "execution_count": null,
   "id": "2bc9fe68",
   "metadata": {},
   "outputs": [],
   "source": [
    "# Cell 67 - Pandas: Dropping Columns\n",
    "import pandas as pd\n",
    "df66 = pd.DataFrame({'A': [1, 2, 3], 'B': [4, 5, 6]})\n",
    "print(df66)"
   ]
  },
  {
   "cell_type": "code",
   "execution_count": null,
   "id": "c45d96e3",
   "metadata": {},
   "outputs": [],
   "source": [
    "# Cell 68 - Scikit-learn: Encoding Categorical Variables\n",
    "from sklearn.model_selection import train_test_split\n",
    "from sklearn.linear_model import LinearRegression\n",
    "import numpy as np\n",
    "X67 = np.array([[1], [2], [3], [4], [5]])\n",
    "y67 = np.array([1, 4, 9, 16, 25])\n",
    "X_train67, X_test67, y_train67, y_test67 = train_test_split(X67, y67, test_size=0.2)\n",
    "model67 = LinearRegression()\n",
    "model67.fit(X_train67, y_train67)\n",
    "print(model67.predict(X_test67))"
   ]
  },
  {
   "cell_type": "code",
   "execution_count": null,
   "id": "be65086e",
   "metadata": {},
   "outputs": [],
   "source": [
    "# Cell 69 - Pandas: Filtering Rows\n",
    "import pandas as pd\n",
    "df68 = pd.DataFrame({'A': [1, 2, 3], 'B': [4, 5, 6]})\n",
    "print(df68)"
   ]
  },
  {
   "cell_type": "code",
   "execution_count": null,
   "id": "8f25e2fd",
   "metadata": {},
   "outputs": [],
   "source": [
    "# Cell 70 - Scikit-learn: Model Evaluation\n",
    "from sklearn.model_selection import train_test_split\n",
    "from sklearn.linear_model import LinearRegression\n",
    "import numpy as np\n",
    "X69 = np.array([[1], [2], [3], [4], [5]])\n",
    "y69 = np.array([1, 4, 9, 16, 25])\n",
    "X_train69, X_test69, y_train69, y_test69 = train_test_split(X69, y69, test_size=0.2)\n",
    "model69 = LinearRegression()\n",
    "model69.fit(X_train69, y_train69)\n",
    "print(model69.predict(X_test69))"
   ]
  },
  {
   "cell_type": "code",
   "execution_count": null,
   "id": "04003fb8",
   "metadata": {},
   "outputs": [],
   "source": [
    "# Cell 71 - Pandas: Merging DataFrames\n",
    "import pandas as pd\n",
    "df70 = pd.DataFrame({'A': [1, 2, 3], 'B': [4, 5, 6]})\n",
    "print(df70)"
   ]
  },
  {
   "cell_type": "code",
   "execution_count": null,
   "id": "59e77dc3",
   "metadata": {},
   "outputs": [],
   "source": [
    "# Cell 72 - Scikit-learn: Decision Trees\n",
    "from sklearn.model_selection import train_test_split\n",
    "from sklearn.linear_model import LinearRegression\n",
    "import numpy as np\n",
    "X71 = np.array([[1], [2], [3], [4], [5]])\n",
    "y71 = np.array([1, 4, 9, 16, 25])\n",
    "X_train71, X_test71, y_train71, y_test71 = train_test_split(X71, y71, test_size=0.2)\n",
    "model71 = LinearRegression()\n",
    "model71.fit(X_train71, y_train71)\n",
    "print(model71.predict(X_test71))"
   ]
  },
  {
   "cell_type": "code",
   "execution_count": null,
   "id": "cdb543b4",
   "metadata": {},
   "outputs": [],
   "source": [
    "# Cell 73 - Pandas: Handling Missing Data\n",
    "import pandas as pd\n",
    "df72 = pd.DataFrame({'A': [1, 2, 3], 'B': [4, 5, 6]})\n",
    "print(df72)"
   ]
  },
  {
   "cell_type": "code",
   "execution_count": null,
   "id": "9f83d92f",
   "metadata": {},
   "outputs": [],
   "source": [
    "# Cell 74 - Scikit-learn: Decision Trees\n",
    "from sklearn.model_selection import train_test_split\n",
    "from sklearn.linear_model import LinearRegression\n",
    "import numpy as np\n",
    "X73 = np.array([[1], [2], [3], [4], [5]])\n",
    "y73 = np.array([1, 4, 9, 16, 25])\n",
    "X_train73, X_test73, y_train73, y_test73 = train_test_split(X73, y73, test_size=0.2)\n",
    "model73 = LinearRegression()\n",
    "model73.fit(X_train73, y_train73)\n",
    "print(model73.predict(X_test73))"
   ]
  },
  {
   "cell_type": "code",
   "execution_count": null,
   "id": "771c74cb",
   "metadata": {},
   "outputs": [],
   "source": [
    "# Cell 75 - Pandas: Adding Columns\n",
    "import pandas as pd\n",
    "df74 = pd.DataFrame({'A': [1, 2, 3], 'B': [4, 5, 6]})\n",
    "print(df74)"
   ]
  },
  {
   "cell_type": "code",
   "execution_count": null,
   "id": "1c155bf8",
   "metadata": {},
   "outputs": [],
   "source": [
    "# Cell 76 - Scikit-learn: Decision Trees\n",
    "from sklearn.model_selection import train_test_split\n",
    "from sklearn.linear_model import LinearRegression\n",
    "import numpy as np\n",
    "X75 = np.array([[1], [2], [3], [4], [5]])\n",
    "y75 = np.array([1, 4, 9, 16, 25])\n",
    "X_train75, X_test75, y_train75, y_test75 = train_test_split(X75, y75, test_size=0.2)\n",
    "model75 = LinearRegression()\n",
    "model75.fit(X_train75, y_train75)\n",
    "print(model75.predict(X_test75))"
   ]
  },
  {
   "cell_type": "code",
   "execution_count": null,
   "id": "37148b60",
   "metadata": {},
   "outputs": [],
   "source": [
    "# Cell 77 - Pandas: Data Selection\n",
    "import pandas as pd\n",
    "df76 = pd.DataFrame({'A': [1, 2, 3], 'B': [4, 5, 6]})\n",
    "print(df76)"
   ]
  },
  {
   "cell_type": "code",
   "execution_count": null,
   "id": "55979fd3",
   "metadata": {},
   "outputs": [],
   "source": [
    "# Cell 78 - Scikit-learn: Logistic Regression\n",
    "from sklearn.model_selection import train_test_split\n",
    "from sklearn.linear_model import LinearRegression\n",
    "import numpy as np\n",
    "X77 = np.array([[1], [2], [3], [4], [5]])\n",
    "y77 = np.array([1, 4, 9, 16, 25])\n",
    "X_train77, X_test77, y_train77, y_test77 = train_test_split(X77, y77, test_size=0.2)\n",
    "model77 = LinearRegression()\n",
    "model77.fit(X_train77, y_train77)\n",
    "print(model77.predict(X_test77))"
   ]
  },
  {
   "cell_type": "code",
   "execution_count": null,
   "id": "2f29c612",
   "metadata": {},
   "outputs": [],
   "source": [
    "# Cell 79 - Pandas: Sorting\n",
    "import pandas as pd\n",
    "df78 = pd.DataFrame({'A': [1, 2, 3], 'B': [4, 5, 6]})\n",
    "print(df78)"
   ]
  },
  {
   "cell_type": "code",
   "execution_count": null,
   "id": "e7124632",
   "metadata": {},
   "outputs": [],
   "source": [
    "# Cell 80 - Scikit-learn: Decision Trees\n",
    "from sklearn.model_selection import train_test_split\n",
    "from sklearn.linear_model import LinearRegression\n",
    "import numpy as np\n",
    "X79 = np.array([[1], [2], [3], [4], [5]])\n",
    "y79 = np.array([1, 4, 9, 16, 25])\n",
    "X_train79, X_test79, y_train79, y_test79 = train_test_split(X79, y79, test_size=0.2)\n",
    "model79 = LinearRegression()\n",
    "model79.fit(X_train79, y_train79)\n",
    "print(model79.predict(X_test79))"
   ]
  },
  {
   "cell_type": "code",
   "execution_count": null,
   "id": "2b3bbbdd",
   "metadata": {},
   "outputs": [],
   "source": [
    "# Cell 81 - Pandas: Data Selection\n",
    "import pandas as pd\n",
    "df80 = pd.DataFrame({'A': [1, 2, 3], 'B': [4, 5, 6]})\n",
    "print(df80)"
   ]
  },
  {
   "cell_type": "code",
   "execution_count": null,
   "id": "951b1312",
   "metadata": {},
   "outputs": [],
   "source": [
    "# Cell 82 - Scikit-learn: Linear Regression\n",
    "from sklearn.model_selection import train_test_split\n",
    "from sklearn.linear_model import LinearRegression\n",
    "import numpy as np\n",
    "X81 = np.array([[1], [2], [3], [4], [5]])\n",
    "y81 = np.array([1, 4, 9, 16, 25])\n",
    "X_train81, X_test81, y_train81, y_test81 = train_test_split(X81, y81, test_size=0.2)\n",
    "model81 = LinearRegression()\n",
    "model81.fit(X_train81, y_train81)\n",
    "print(model81.predict(X_test81))"
   ]
  },
  {
   "cell_type": "code",
   "execution_count": null,
   "id": "7bf94b28",
   "metadata": {},
   "outputs": [],
   "source": [
    "# Cell 83 - Pandas: Descriptive Stats\n",
    "import pandas as pd\n",
    "df82 = pd.DataFrame({'A': [1, 2, 3], 'B': [4, 5, 6]})\n",
    "print(df82)"
   ]
  },
  {
   "cell_type": "code",
   "execution_count": null,
   "id": "bc45558b",
   "metadata": {},
   "outputs": [],
   "source": [
    "# Cell 84 - Scikit-learn: Random Forest\n",
    "from sklearn.model_selection import train_test_split\n",
    "from sklearn.linear_model import LinearRegression\n",
    "import numpy as np\n",
    "X83 = np.array([[1], [2], [3], [4], [5]])\n",
    "y83 = np.array([1, 4, 9, 16, 25])\n",
    "X_train83, X_test83, y_train83, y_test83 = train_test_split(X83, y83, test_size=0.2)\n",
    "model83 = LinearRegression()\n",
    "model83.fit(X_train83, y_train83)\n",
    "print(model83.predict(X_test83))"
   ]
  },
  {
   "cell_type": "code",
   "execution_count": null,
   "id": "5afda684",
   "metadata": {},
   "outputs": [],
   "source": [
    "# Cell 85 - Pandas: Merging DataFrames\n",
    "import pandas as pd\n",
    "df84 = pd.DataFrame({'A': [1, 2, 3], 'B': [4, 5, 6]})\n",
    "print(df84)"
   ]
  },
  {
   "cell_type": "code",
   "execution_count": null,
   "id": "254bd0a1",
   "metadata": {},
   "outputs": [],
   "source": [
    "# Cell 86 - Scikit-learn: Train-Test Split\n",
    "from sklearn.model_selection import train_test_split\n",
    "from sklearn.linear_model import LinearRegression\n",
    "import numpy as np\n",
    "X85 = np.array([[1], [2], [3], [4], [5]])\n",
    "y85 = np.array([1, 4, 9, 16, 25])\n",
    "X_train85, X_test85, y_train85, y_test85 = train_test_split(X85, y85, test_size=0.2)\n",
    "model85 = LinearRegression()\n",
    "model85.fit(X_train85, y_train85)\n",
    "print(model85.predict(X_test85))"
   ]
  },
  {
   "cell_type": "code",
   "execution_count": null,
   "id": "b40afcb4",
   "metadata": {},
   "outputs": [],
   "source": [
    "# Cell 87 - Pandas: Dropping Columns\n",
    "import pandas as pd\n",
    "df86 = pd.DataFrame({'A': [1, 2, 3], 'B': [4, 5, 6]})\n",
    "print(df86)"
   ]
  },
  {
   "cell_type": "code",
   "execution_count": null,
   "id": "d8b3dcfb",
   "metadata": {},
   "outputs": [],
   "source": [
    "# Cell 88 - Scikit-learn: Encoding Categorical Variables\n",
    "from sklearn.model_selection import train_test_split\n",
    "from sklearn.linear_model import LinearRegression\n",
    "import numpy as np\n",
    "X87 = np.array([[1], [2], [3], [4], [5]])\n",
    "y87 = np.array([1, 4, 9, 16, 25])\n",
    "X_train87, X_test87, y_train87, y_test87 = train_test_split(X87, y87, test_size=0.2)\n",
    "model87 = LinearRegression()\n",
    "model87.fit(X_train87, y_train87)\n",
    "print(model87.predict(X_test87))"
   ]
  },
  {
   "cell_type": "code",
   "execution_count": null,
   "id": "ee2637e6",
   "metadata": {},
   "outputs": [],
   "source": [
    "# Cell 89 - Pandas: Merging DataFrames\n",
    "import pandas as pd\n",
    "df88 = pd.DataFrame({'A': [1, 2, 3], 'B': [4, 5, 6]})\n",
    "print(df88)"
   ]
  },
  {
   "cell_type": "code",
   "execution_count": null,
   "id": "60c23b83",
   "metadata": {},
   "outputs": [],
   "source": [
    "# Cell 90 - Scikit-learn: Model Evaluation\n",
    "from sklearn.model_selection import train_test_split\n",
    "from sklearn.linear_model import LinearRegression\n",
    "import numpy as np\n",
    "X89 = np.array([[1], [2], [3], [4], [5]])\n",
    "y89 = np.array([1, 4, 9, 16, 25])\n",
    "X_train89, X_test89, y_train89, y_test89 = train_test_split(X89, y89, test_size=0.2)\n",
    "model89 = LinearRegression()\n",
    "model89.fit(X_train89, y_train89)\n",
    "print(model89.predict(X_test89))"
   ]
  },
  {
   "cell_type": "code",
   "execution_count": null,
   "id": "86bae2ee",
   "metadata": {},
   "outputs": [],
   "source": [
    "# Cell 91 - Pandas: Sorting\n",
    "import pandas as pd\n",
    "df90 = pd.DataFrame({'A': [1, 2, 3], 'B': [4, 5, 6]})\n",
    "print(df90)"
   ]
  },
  {
   "cell_type": "code",
   "execution_count": null,
   "id": "2ad2bd1d",
   "metadata": {},
   "outputs": [],
   "source": [
    "# Cell 92 - Scikit-learn: Random Forest\n",
    "from sklearn.model_selection import train_test_split\n",
    "from sklearn.linear_model import LinearRegression\n",
    "import numpy as np\n",
    "X91 = np.array([[1], [2], [3], [4], [5]])\n",
    "y91 = np.array([1, 4, 9, 16, 25])\n",
    "X_train91, X_test91, y_train91, y_test91 = train_test_split(X91, y91, test_size=0.2)\n",
    "model91 = LinearRegression()\n",
    "model91.fit(X_train91, y_train91)\n",
    "print(model91.predict(X_test91))"
   ]
  },
  {
   "cell_type": "code",
   "execution_count": null,
   "id": "dfd581d3",
   "metadata": {},
   "outputs": [],
   "source": [
    "# Cell 93 - Pandas: Descriptive Stats\n",
    "import pandas as pd\n",
    "df92 = pd.DataFrame({'A': [1, 2, 3], 'B': [4, 5, 6]})\n",
    "print(df92)"
   ]
  },
  {
   "cell_type": "code",
   "execution_count": null,
   "id": "37c37bf7",
   "metadata": {},
   "outputs": [],
   "source": [
    "# Cell 94 - Scikit-learn: Random Forest\n",
    "from sklearn.model_selection import train_test_split\n",
    "from sklearn.linear_model import LinearRegression\n",
    "import numpy as np\n",
    "X93 = np.array([[1], [2], [3], [4], [5]])\n",
    "y93 = np.array([1, 4, 9, 16, 25])\n",
    "X_train93, X_test93, y_train93, y_test93 = train_test_split(X93, y93, test_size=0.2)\n",
    "model93 = LinearRegression()\n",
    "model93.fit(X_train93, y_train93)\n",
    "print(model93.predict(X_test93))"
   ]
  },
  {
   "cell_type": "code",
   "execution_count": null,
   "id": "1f378502",
   "metadata": {},
   "outputs": [],
   "source": [
    "# Cell 95 - Pandas: Creating DataFrames\n",
    "import pandas as pd\n",
    "df94 = pd.DataFrame({'A': [1, 2, 3], 'B': [4, 5, 6]})\n",
    "print(df94)"
   ]
  },
  {
   "cell_type": "code",
   "execution_count": null,
   "id": "d3307c30",
   "metadata": {},
   "outputs": [],
   "source": [
    "# Cell 96 - Scikit-learn: KNN\n",
    "from sklearn.model_selection import train_test_split\n",
    "from sklearn.linear_model import LinearRegression\n",
    "import numpy as np\n",
    "X95 = np.array([[1], [2], [3], [4], [5]])\n",
    "y95 = np.array([1, 4, 9, 16, 25])\n",
    "X_train95, X_test95, y_train95, y_test95 = train_test_split(X95, y95, test_size=0.2)\n",
    "model95 = LinearRegression()\n",
    "model95.fit(X_train95, y_train95)\n",
    "print(model95.predict(X_test95))"
   ]
  },
  {
   "cell_type": "code",
   "execution_count": null,
   "id": "d67a88c5",
   "metadata": {},
   "outputs": [],
   "source": [
    "# Cell 97 - Pandas: Reading CSV\n",
    "import pandas as pd\n",
    "df96 = pd.DataFrame({'A': [1, 2, 3], 'B': [4, 5, 6]})\n",
    "print(df96)"
   ]
  },
  {
   "cell_type": "code",
   "execution_count": null,
   "id": "44944598",
   "metadata": {},
   "outputs": [],
   "source": [
    "# Cell 98 - Scikit-learn: Linear Regression\n",
    "from sklearn.model_selection import train_test_split\n",
    "from sklearn.linear_model import LinearRegression\n",
    "import numpy as np\n",
    "X97 = np.array([[1], [2], [3], [4], [5]])\n",
    "y97 = np.array([1, 4, 9, 16, 25])\n",
    "X_train97, X_test97, y_train97, y_test97 = train_test_split(X97, y97, test_size=0.2)\n",
    "model97 = LinearRegression()\n",
    "model97.fit(X_train97, y_train97)\n",
    "print(model97.predict(X_test97))"
   ]
  },
  {
   "cell_type": "code",
   "execution_count": null,
   "id": "172b0c7e",
   "metadata": {},
   "outputs": [],
   "source": [
    "# Cell 99 - Pandas: Descriptive Stats\n",
    "import pandas as pd\n",
    "df98 = pd.DataFrame({'A': [1, 2, 3], 'B': [4, 5, 6]})\n",
    "print(df98)"
   ]
  },
  {
   "cell_type": "code",
   "execution_count": null,
   "id": "a80df91e",
   "metadata": {},
   "outputs": [],
   "source": [
    "# Cell 100 - Scikit-learn: Logistic Regression\n",
    "from sklearn.model_selection import train_test_split\n",
    "from sklearn.linear_model import LinearRegression\n",
    "import numpy as np\n",
    "X99 = np.array([[1], [2], [3], [4], [5]])\n",
    "y99 = np.array([1, 4, 9, 16, 25])\n",
    "X_train99, X_test99, y_train99, y_test99 = train_test_split(X99, y99, test_size=0.2)\n",
    "model99 = LinearRegression()\n",
    "model99.fit(X_train99, y_train99)\n",
    "print(model99.predict(X_test99))"
   ]
  },
  {
   "cell_type": "code",
   "execution_count": null,
   "id": "59925ba7",
   "metadata": {},
   "outputs": [],
   "source": [
    "# Cell 101 - Pandas: Descriptive Stats\n",
    "import pandas as pd\n",
    "df100 = pd.DataFrame({'A': [1, 2, 3], 'B': [4, 5, 6]})\n",
    "print(df100)"
   ]
  },
  {
   "cell_type": "code",
   "execution_count": null,
   "id": "d1c17172",
   "metadata": {},
   "outputs": [],
   "source": [
    "# Cell 102 - Scikit-learn: Model Evaluation\n",
    "from sklearn.model_selection import train_test_split\n",
    "from sklearn.linear_model import LinearRegression\n",
    "import numpy as np\n",
    "X101 = np.array([[1], [2], [3], [4], [5]])\n",
    "y101 = np.array([1, 4, 9, 16, 25])\n",
    "X_train101, X_test101, y_train101, y_test101 = train_test_split(X101, y101, test_size=0.2)\n",
    "model101 = LinearRegression()\n",
    "model101.fit(X_train101, y_train101)\n",
    "print(model101.predict(X_test101))"
   ]
  },
  {
   "cell_type": "code",
   "execution_count": null,
   "id": "1d7c8b21",
   "metadata": {},
   "outputs": [],
   "source": [
    "# Cell 103 - Pandas: Filtering Rows\n",
    "import pandas as pd\n",
    "df102 = pd.DataFrame({'A': [1, 2, 3], 'B': [4, 5, 6]})\n",
    "print(df102)"
   ]
  },
  {
   "cell_type": "code",
   "execution_count": null,
   "id": "fac807f5",
   "metadata": {},
   "outputs": [],
   "source": [
    "# Cell 104 - Scikit-learn: Logistic Regression\n",
    "from sklearn.model_selection import train_test_split\n",
    "from sklearn.linear_model import LinearRegression\n",
    "import numpy as np\n",
    "X103 = np.array([[1], [2], [3], [4], [5]])\n",
    "y103 = np.array([1, 4, 9, 16, 25])\n",
    "X_train103, X_test103, y_train103, y_test103 = train_test_split(X103, y103, test_size=0.2)\n",
    "model103 = LinearRegression()\n",
    "model103.fit(X_train103, y_train103)\n",
    "print(model103.predict(X_test103))"
   ]
  },
  {
   "cell_type": "code",
   "execution_count": null,
   "id": "71b2a572",
   "metadata": {},
   "outputs": [],
   "source": [
    "# Cell 105 - Pandas: Reading CSV\n",
    "import pandas as pd\n",
    "df104 = pd.DataFrame({'A': [1, 2, 3], 'B': [4, 5, 6]})\n",
    "print(df104)"
   ]
  },
  {
   "cell_type": "code",
   "execution_count": null,
   "id": "9ddfd165",
   "metadata": {},
   "outputs": [],
   "source": [
    "# Cell 106 - Scikit-learn: SVM\n",
    "from sklearn.model_selection import train_test_split\n",
    "from sklearn.linear_model import LinearRegression\n",
    "import numpy as np\n",
    "X105 = np.array([[1], [2], [3], [4], [5]])\n",
    "y105 = np.array([1, 4, 9, 16, 25])\n",
    "X_train105, X_test105, y_train105, y_test105 = train_test_split(X105, y105, test_size=0.2)\n",
    "model105 = LinearRegression()\n",
    "model105.fit(X_train105, y_train105)\n",
    "print(model105.predict(X_test105))"
   ]
  },
  {
   "cell_type": "code",
   "execution_count": null,
   "id": "e3447081",
   "metadata": {},
   "outputs": [],
   "source": [
    "# Cell 107 - Pandas: Data Selection\n",
    "import pandas as pd\n",
    "df106 = pd.DataFrame({'A': [1, 2, 3], 'B': [4, 5, 6]})\n",
    "print(df106)"
   ]
  },
  {
   "cell_type": "code",
   "execution_count": null,
   "id": "bd023d5a",
   "metadata": {},
   "outputs": [],
   "source": [
    "# Cell 108 - Scikit-learn: Pipeline\n",
    "from sklearn.model_selection import train_test_split\n",
    "from sklearn.linear_model import LinearRegression\n",
    "import numpy as np\n",
    "X107 = np.array([[1], [2], [3], [4], [5]])\n",
    "y107 = np.array([1, 4, 9, 16, 25])\n",
    "X_train107, X_test107, y_train107, y_test107 = train_test_split(X107, y107, test_size=0.2)\n",
    "model107 = LinearRegression()\n",
    "model107.fit(X_train107, y_train107)\n",
    "print(model107.predict(X_test107))"
   ]
  },
  {
   "cell_type": "code",
   "execution_count": null,
   "id": "7258a68c",
   "metadata": {},
   "outputs": [],
   "source": [
    "# Cell 109 - Pandas: Filtering Rows\n",
    "import pandas as pd\n",
    "df108 = pd.DataFrame({'A': [1, 2, 3], 'B': [4, 5, 6]})\n",
    "print(df108)"
   ]
  },
  {
   "cell_type": "code",
   "execution_count": null,
   "id": "d3b0c329",
   "metadata": {},
   "outputs": [],
   "source": [
    "# Cell 110 - Scikit-learn: Random Forest\n",
    "from sklearn.model_selection import train_test_split\n",
    "from sklearn.linear_model import LinearRegression\n",
    "import numpy as np\n",
    "X109 = np.array([[1], [2], [3], [4], [5]])\n",
    "y109 = np.array([1, 4, 9, 16, 25])\n",
    "X_train109, X_test109, y_train109, y_test109 = train_test_split(X109, y109, test_size=0.2)\n",
    "model109 = LinearRegression()\n",
    "model109.fit(X_train109, y_train109)\n",
    "print(model109.predict(X_test109))"
   ]
  },
  {
   "cell_type": "code",
   "execution_count": null,
   "id": "4e9e4092",
   "metadata": {},
   "outputs": [],
   "source": [
    "# Cell 111 - Pandas: Dropping Columns\n",
    "import pandas as pd\n",
    "df110 = pd.DataFrame({'A': [1, 2, 3], 'B': [4, 5, 6]})\n",
    "print(df110)"
   ]
  },
  {
   "cell_type": "code",
   "execution_count": null,
   "id": "5e6cb0eb",
   "metadata": {},
   "outputs": [],
   "source": [
    "# Cell 112 - Scikit-learn: Linear Regression\n",
    "from sklearn.model_selection import train_test_split\n",
    "from sklearn.linear_model import LinearRegression\n",
    "import numpy as np\n",
    "X111 = np.array([[1], [2], [3], [4], [5]])\n",
    "y111 = np.array([1, 4, 9, 16, 25])\n",
    "X_train111, X_test111, y_train111, y_test111 = train_test_split(X111, y111, test_size=0.2)\n",
    "model111 = LinearRegression()\n",
    "model111.fit(X_train111, y_train111)\n",
    "print(model111.predict(X_test111))"
   ]
  },
  {
   "cell_type": "code",
   "execution_count": null,
   "id": "607e9f20",
   "metadata": {},
   "outputs": [],
   "source": [
    "# Cell 113 - Pandas: Dropping Columns\n",
    "import pandas as pd\n",
    "df112 = pd.DataFrame({'A': [1, 2, 3], 'B': [4, 5, 6]})\n",
    "print(df112)"
   ]
  },
  {
   "cell_type": "code",
   "execution_count": null,
   "id": "33158fb5",
   "metadata": {},
   "outputs": [],
   "source": [
    "# Cell 114 - Scikit-learn: KNN\n",
    "from sklearn.model_selection import train_test_split\n",
    "from sklearn.linear_model import LinearRegression\n",
    "import numpy as np\n",
    "X113 = np.array([[1], [2], [3], [4], [5]])\n",
    "y113 = np.array([1, 4, 9, 16, 25])\n",
    "X_train113, X_test113, y_train113, y_test113 = train_test_split(X113, y113, test_size=0.2)\n",
    "model113 = LinearRegression()\n",
    "model113.fit(X_train113, y_train113)\n",
    "print(model113.predict(X_test113))"
   ]
  },
  {
   "cell_type": "code",
   "execution_count": null,
   "id": "13e13158",
   "metadata": {},
   "outputs": [],
   "source": [
    "# Cell 115 - Pandas: Data Selection\n",
    "import pandas as pd\n",
    "df114 = pd.DataFrame({'A': [1, 2, 3], 'B': [4, 5, 6]})\n",
    "print(df114)"
   ]
  },
  {
   "cell_type": "code",
   "execution_count": null,
   "id": "0b3dcb1c",
   "metadata": {},
   "outputs": [],
   "source": [
    "# Cell 116 - Scikit-learn: Model Evaluation\n",
    "from sklearn.model_selection import train_test_split\n",
    "from sklearn.linear_model import LinearRegression\n",
    "import numpy as np\n",
    "X115 = np.array([[1], [2], [3], [4], [5]])\n",
    "y115 = np.array([1, 4, 9, 16, 25])\n",
    "X_train115, X_test115, y_train115, y_test115 = train_test_split(X115, y115, test_size=0.2)\n",
    "model115 = LinearRegression()\n",
    "model115.fit(X_train115, y_train115)\n",
    "print(model115.predict(X_test115))"
   ]
  },
  {
   "cell_type": "code",
   "execution_count": null,
   "id": "68a187ac",
   "metadata": {},
   "outputs": [],
   "source": [
    "# Cell 117 - Pandas: Data Types\n",
    "import pandas as pd\n",
    "df116 = pd.DataFrame({'A': [1, 2, 3], 'B': [4, 5, 6]})\n",
    "print(df116)"
   ]
  },
  {
   "cell_type": "code",
   "execution_count": null,
   "id": "169f4fc1",
   "metadata": {},
   "outputs": [],
   "source": [
    "# Cell 118 - Scikit-learn: Decision Trees\n",
    "from sklearn.model_selection import train_test_split\n",
    "from sklearn.linear_model import LinearRegression\n",
    "import numpy as np\n",
    "X117 = np.array([[1], [2], [3], [4], [5]])\n",
    "y117 = np.array([1, 4, 9, 16, 25])\n",
    "X_train117, X_test117, y_train117, y_test117 = train_test_split(X117, y117, test_size=0.2)\n",
    "model117 = LinearRegression()\n",
    "model117.fit(X_train117, y_train117)\n",
    "print(model117.predict(X_test117))"
   ]
  },
  {
   "cell_type": "code",
   "execution_count": null,
   "id": "ccb351b5",
   "metadata": {},
   "outputs": [],
   "source": [
    "# Cell 119 - Pandas: Reading CSV\n",
    "import pandas as pd\n",
    "df118 = pd.DataFrame({'A': [1, 2, 3], 'B': [4, 5, 6]})\n",
    "print(df118)"
   ]
  },
  {
   "cell_type": "code",
   "execution_count": null,
   "id": "0dd1a11b",
   "metadata": {},
   "outputs": [],
   "source": [
    "# Cell 120 - Scikit-learn: Train-Test Split\n",
    "from sklearn.model_selection import train_test_split\n",
    "from sklearn.linear_model import LinearRegression\n",
    "import numpy as np\n",
    "X119 = np.array([[1], [2], [3], [4], [5]])\n",
    "y119 = np.array([1, 4, 9, 16, 25])\n",
    "X_train119, X_test119, y_train119, y_test119 = train_test_split(X119, y119, test_size=0.2)\n",
    "model119 = LinearRegression()\n",
    "model119.fit(X_train119, y_train119)\n",
    "print(model119.predict(X_test119))"
   ]
  },
  {
   "cell_type": "code",
   "execution_count": null,
   "id": "48250845",
   "metadata": {},
   "outputs": [],
   "source": [
    "# Cell 121 - Pandas: Sorting\n",
    "import pandas as pd\n",
    "df120 = pd.DataFrame({'A': [1, 2, 3], 'B': [4, 5, 6]})\n",
    "print(df120)"
   ]
  },
  {
   "cell_type": "code",
   "execution_count": null,
   "id": "2070ad4b",
   "metadata": {},
   "outputs": [],
   "source": [
    "# Cell 122 - Scikit-learn: Decision Trees\n",
    "from sklearn.model_selection import train_test_split\n",
    "from sklearn.linear_model import LinearRegression\n",
    "import numpy as np\n",
    "X121 = np.array([[1], [2], [3], [4], [5]])\n",
    "y121 = np.array([1, 4, 9, 16, 25])\n",
    "X_train121, X_test121, y_train121, y_test121 = train_test_split(X121, y121, test_size=0.2)\n",
    "model121 = LinearRegression()\n",
    "model121.fit(X_train121, y_train121)\n",
    "print(model121.predict(X_test121))"
   ]
  },
  {
   "cell_type": "code",
   "execution_count": null,
   "id": "ac72fdf9",
   "metadata": {},
   "outputs": [],
   "source": [
    "# Cell 123 - Pandas: Sorting\n",
    "import pandas as pd\n",
    "df122 = pd.DataFrame({'A': [1, 2, 3], 'B': [4, 5, 6]})\n",
    "print(df122)"
   ]
  },
  {
   "cell_type": "code",
   "execution_count": null,
   "id": "80556ade",
   "metadata": {},
   "outputs": [],
   "source": [
    "# Cell 124 - Scikit-learn: Train-Test Split\n",
    "from sklearn.model_selection import train_test_split\n",
    "from sklearn.linear_model import LinearRegression\n",
    "import numpy as np\n",
    "X123 = np.array([[1], [2], [3], [4], [5]])\n",
    "y123 = np.array([1, 4, 9, 16, 25])\n",
    "X_train123, X_test123, y_train123, y_test123 = train_test_split(X123, y123, test_size=0.2)\n",
    "model123 = LinearRegression()\n",
    "model123.fit(X_train123, y_train123)\n",
    "print(model123.predict(X_test123))"
   ]
  },
  {
   "cell_type": "code",
   "execution_count": null,
   "id": "38fd11d6",
   "metadata": {},
   "outputs": [],
   "source": [
    "# Cell 125 - Pandas: Filtering Rows\n",
    "import pandas as pd\n",
    "df124 = pd.DataFrame({'A': [1, 2, 3], 'B': [4, 5, 6]})\n",
    "print(df124)"
   ]
  },
  {
   "cell_type": "code",
   "execution_count": null,
   "id": "322fd037",
   "metadata": {},
   "outputs": [],
   "source": [
    "# Cell 126 - Scikit-learn: Decision Trees\n",
    "from sklearn.model_selection import train_test_split\n",
    "from sklearn.linear_model import LinearRegression\n",
    "import numpy as np\n",
    "X125 = np.array([[1], [2], [3], [4], [5]])\n",
    "y125 = np.array([1, 4, 9, 16, 25])\n",
    "X_train125, X_test125, y_train125, y_test125 = train_test_split(X125, y125, test_size=0.2)\n",
    "model125 = LinearRegression()\n",
    "model125.fit(X_train125, y_train125)\n",
    "print(model125.predict(X_test125))"
   ]
  },
  {
   "cell_type": "code",
   "execution_count": null,
   "id": "e908c46b",
   "metadata": {},
   "outputs": [],
   "source": [
    "# Cell 127 - Pandas: Filtering Rows\n",
    "import pandas as pd\n",
    "df126 = pd.DataFrame({'A': [1, 2, 3], 'B': [4, 5, 6]})\n",
    "print(df126)"
   ]
  },
  {
   "cell_type": "code",
   "execution_count": null,
   "id": "43367753",
   "metadata": {},
   "outputs": [],
   "source": [
    "# Cell 128 - Scikit-learn: Model Evaluation\n",
    "from sklearn.model_selection import train_test_split\n",
    "from sklearn.linear_model import LinearRegression\n",
    "import numpy as np\n",
    "X127 = np.array([[1], [2], [3], [4], [5]])\n",
    "y127 = np.array([1, 4, 9, 16, 25])\n",
    "X_train127, X_test127, y_train127, y_test127 = train_test_split(X127, y127, test_size=0.2)\n",
    "model127 = LinearRegression()\n",
    "model127.fit(X_train127, y_train127)\n",
    "print(model127.predict(X_test127))"
   ]
  },
  {
   "cell_type": "code",
   "execution_count": null,
   "id": "05c2aff2",
   "metadata": {},
   "outputs": [],
   "source": [
    "# Cell 129 - Pandas: Creating DataFrames\n",
    "import pandas as pd\n",
    "df128 = pd.DataFrame({'A': [1, 2, 3], 'B': [4, 5, 6]})\n",
    "print(df128)"
   ]
  },
  {
   "cell_type": "code",
   "execution_count": null,
   "id": "61e231ba",
   "metadata": {},
   "outputs": [],
   "source": [
    "# Cell 130 - Scikit-learn: Pipeline\n",
    "from sklearn.model_selection import train_test_split\n",
    "from sklearn.linear_model import LinearRegression\n",
    "import numpy as np\n",
    "X129 = np.array([[1], [2], [3], [4], [5]])\n",
    "y129 = np.array([1, 4, 9, 16, 25])\n",
    "X_train129, X_test129, y_train129, y_test129 = train_test_split(X129, y129, test_size=0.2)\n",
    "model129 = LinearRegression()\n",
    "model129.fit(X_train129, y_train129)\n",
    "print(model129.predict(X_test129))"
   ]
  },
  {
   "cell_type": "code",
   "execution_count": null,
   "id": "f176af22",
   "metadata": {},
   "outputs": [],
   "source": [
    "# Cell 131 - Pandas: Reading CSV\n",
    "import pandas as pd\n",
    "df130 = pd.DataFrame({'A': [1, 2, 3], 'B': [4, 5, 6]})\n",
    "print(df130)"
   ]
  },
  {
   "cell_type": "code",
   "execution_count": null,
   "id": "353e2e44",
   "metadata": {},
   "outputs": [],
   "source": [
    "# Cell 132 - Scikit-learn: Encoding Categorical Variables\n",
    "from sklearn.model_selection import train_test_split\n",
    "from sklearn.linear_model import LinearRegression\n",
    "import numpy as np\n",
    "X131 = np.array([[1], [2], [3], [4], [5]])\n",
    "y131 = np.array([1, 4, 9, 16, 25])\n",
    "X_train131, X_test131, y_train131, y_test131 = train_test_split(X131, y131, test_size=0.2)\n",
    "model131 = LinearRegression()\n",
    "model131.fit(X_train131, y_train131)\n",
    "print(model131.predict(X_test131))"
   ]
  },
  {
   "cell_type": "code",
   "execution_count": null,
   "id": "c3332e6d",
   "metadata": {},
   "outputs": [],
   "source": [
    "# Cell 133 - Pandas: GroupBy\n",
    "import pandas as pd\n",
    "df132 = pd.DataFrame({'A': [1, 2, 3], 'B': [4, 5, 6]})\n",
    "print(df132)"
   ]
  },
  {
   "cell_type": "code",
   "execution_count": null,
   "id": "b951f8b5",
   "metadata": {},
   "outputs": [],
   "source": [
    "# Cell 134 - Scikit-learn: Feature Scaling\n",
    "from sklearn.model_selection import train_test_split\n",
    "from sklearn.linear_model import LinearRegression\n",
    "import numpy as np\n",
    "X133 = np.array([[1], [2], [3], [4], [5]])\n",
    "y133 = np.array([1, 4, 9, 16, 25])\n",
    "X_train133, X_test133, y_train133, y_test133 = train_test_split(X133, y133, test_size=0.2)\n",
    "model133 = LinearRegression()\n",
    "model133.fit(X_train133, y_train133)\n",
    "print(model133.predict(X_test133))"
   ]
  },
  {
   "cell_type": "code",
   "execution_count": null,
   "id": "7bafc3c6",
   "metadata": {},
   "outputs": [],
   "source": [
    "# Cell 135 - Pandas: Filtering Rows\n",
    "import pandas as pd\n",
    "df134 = pd.DataFrame({'A': [1, 2, 3], 'B': [4, 5, 6]})\n",
    "print(df134)"
   ]
  },
  {
   "cell_type": "code",
   "execution_count": null,
   "id": "eed078b5",
   "metadata": {},
   "outputs": [],
   "source": [
    "# Cell 136 - Scikit-learn: Encoding Categorical Variables\n",
    "from sklearn.model_selection import train_test_split\n",
    "from sklearn.linear_model import LinearRegression\n",
    "import numpy as np\n",
    "X135 = np.array([[1], [2], [3], [4], [5]])\n",
    "y135 = np.array([1, 4, 9, 16, 25])\n",
    "X_train135, X_test135, y_train135, y_test135 = train_test_split(X135, y135, test_size=0.2)\n",
    "model135 = LinearRegression()\n",
    "model135.fit(X_train135, y_train135)\n",
    "print(model135.predict(X_test135))"
   ]
  },
  {
   "cell_type": "code",
   "execution_count": null,
   "id": "5b9e14d5",
   "metadata": {},
   "outputs": [],
   "source": [
    "# Cell 137 - Pandas: Adding Columns\n",
    "import pandas as pd\n",
    "df136 = pd.DataFrame({'A': [1, 2, 3], 'B': [4, 5, 6]})\n",
    "print(df136)"
   ]
  },
  {
   "cell_type": "code",
   "execution_count": null,
   "id": "dd04b69c",
   "metadata": {},
   "outputs": [],
   "source": [
    "# Cell 138 - Scikit-learn: Train-Test Split\n",
    "from sklearn.model_selection import train_test_split\n",
    "from sklearn.linear_model import LinearRegression\n",
    "import numpy as np\n",
    "X137 = np.array([[1], [2], [3], [4], [5]])\n",
    "y137 = np.array([1, 4, 9, 16, 25])\n",
    "X_train137, X_test137, y_train137, y_test137 = train_test_split(X137, y137, test_size=0.2)\n",
    "model137 = LinearRegression()\n",
    "model137.fit(X_train137, y_train137)\n",
    "print(model137.predict(X_test137))"
   ]
  },
  {
   "cell_type": "code",
   "execution_count": null,
   "id": "357e686b",
   "metadata": {},
   "outputs": [],
   "source": [
    "# Cell 139 - Pandas: Reading CSV\n",
    "import pandas as pd\n",
    "df138 = pd.DataFrame({'A': [1, 2, 3], 'B': [4, 5, 6]})\n",
    "print(df138)"
   ]
  },
  {
   "cell_type": "code",
   "execution_count": null,
   "id": "7f0a8bbe",
   "metadata": {},
   "outputs": [],
   "source": [
    "# Cell 140 - Scikit-learn: Pipeline\n",
    "from sklearn.model_selection import train_test_split\n",
    "from sklearn.linear_model import LinearRegression\n",
    "import numpy as np\n",
    "X139 = np.array([[1], [2], [3], [4], [5]])\n",
    "y139 = np.array([1, 4, 9, 16, 25])\n",
    "X_train139, X_test139, y_train139, y_test139 = train_test_split(X139, y139, test_size=0.2)\n",
    "model139 = LinearRegression()\n",
    "model139.fit(X_train139, y_train139)\n",
    "print(model139.predict(X_test139))"
   ]
  },
  {
   "cell_type": "code",
   "execution_count": null,
   "id": "bb5f851d",
   "metadata": {},
   "outputs": [],
   "source": [
    "# Cell 141 - Pandas: Merging DataFrames\n",
    "import pandas as pd\n",
    "df140 = pd.DataFrame({'A': [1, 2, 3], 'B': [4, 5, 6]})\n",
    "print(df140)"
   ]
  },
  {
   "cell_type": "code",
   "execution_count": null,
   "id": "d7fa9a9a",
   "metadata": {},
   "outputs": [],
   "source": [
    "# Cell 142 - Scikit-learn: Encoding Categorical Variables\n",
    "from sklearn.model_selection import train_test_split\n",
    "from sklearn.linear_model import LinearRegression\n",
    "import numpy as np\n",
    "X141 = np.array([[1], [2], [3], [4], [5]])\n",
    "y141 = np.array([1, 4, 9, 16, 25])\n",
    "X_train141, X_test141, y_train141, y_test141 = train_test_split(X141, y141, test_size=0.2)\n",
    "model141 = LinearRegression()\n",
    "model141.fit(X_train141, y_train141)\n",
    "print(model141.predict(X_test141))"
   ]
  },
  {
   "cell_type": "code",
   "execution_count": null,
   "id": "5d8221cb",
   "metadata": {},
   "outputs": [],
   "source": [
    "# Cell 143 - Pandas: Sorting\n",
    "import pandas as pd\n",
    "df142 = pd.DataFrame({'A': [1, 2, 3], 'B': [4, 5, 6]})\n",
    "print(df142)"
   ]
  },
  {
   "cell_type": "code",
   "execution_count": null,
   "id": "d3e573cf",
   "metadata": {},
   "outputs": [],
   "source": [
    "# Cell 144 - Scikit-learn: Pipeline\n",
    "from sklearn.model_selection import train_test_split\n",
    "from sklearn.linear_model import LinearRegression\n",
    "import numpy as np\n",
    "X143 = np.array([[1], [2], [3], [4], [5]])\n",
    "y143 = np.array([1, 4, 9, 16, 25])\n",
    "X_train143, X_test143, y_train143, y_test143 = train_test_split(X143, y143, test_size=0.2)\n",
    "model143 = LinearRegression()\n",
    "model143.fit(X_train143, y_train143)\n",
    "print(model143.predict(X_test143))"
   ]
  },
  {
   "cell_type": "code",
   "execution_count": null,
   "id": "dec88472",
   "metadata": {},
   "outputs": [],
   "source": [
    "# Cell 145 - Pandas: Data Types\n",
    "import pandas as pd\n",
    "df144 = pd.DataFrame({'A': [1, 2, 3], 'B': [4, 5, 6]})\n",
    "print(df144)"
   ]
  },
  {
   "cell_type": "code",
   "execution_count": null,
   "id": "3288fa73",
   "metadata": {},
   "outputs": [],
   "source": [
    "# Cell 146 - Scikit-learn: Model Evaluation\n",
    "from sklearn.model_selection import train_test_split\n",
    "from sklearn.linear_model import LinearRegression\n",
    "import numpy as np\n",
    "X145 = np.array([[1], [2], [3], [4], [5]])\n",
    "y145 = np.array([1, 4, 9, 16, 25])\n",
    "X_train145, X_test145, y_train145, y_test145 = train_test_split(X145, y145, test_size=0.2)\n",
    "model145 = LinearRegression()\n",
    "model145.fit(X_train145, y_train145)\n",
    "print(model145.predict(X_test145))"
   ]
  },
  {
   "cell_type": "code",
   "execution_count": null,
   "id": "fa02868c",
   "metadata": {},
   "outputs": [],
   "source": [
    "# Cell 147 - Pandas: Data Types\n",
    "import pandas as pd\n",
    "df146 = pd.DataFrame({'A': [1, 2, 3], 'B': [4, 5, 6]})\n",
    "print(df146)"
   ]
  },
  {
   "cell_type": "code",
   "execution_count": null,
   "id": "1fe79d39",
   "metadata": {},
   "outputs": [],
   "source": [
    "# Cell 148 - Scikit-learn: Logistic Regression\n",
    "from sklearn.model_selection import train_test_split\n",
    "from sklearn.linear_model import LinearRegression\n",
    "import numpy as np\n",
    "X147 = np.array([[1], [2], [3], [4], [5]])\n",
    "y147 = np.array([1, 4, 9, 16, 25])\n",
    "X_train147, X_test147, y_train147, y_test147 = train_test_split(X147, y147, test_size=0.2)\n",
    "model147 = LinearRegression()\n",
    "model147.fit(X_train147, y_train147)\n",
    "print(model147.predict(X_test147))"
   ]
  },
  {
   "cell_type": "code",
   "execution_count": null,
   "id": "86978152",
   "metadata": {},
   "outputs": [],
   "source": [
    "# Cell 149 - Pandas: Sorting\n",
    "import pandas as pd\n",
    "df148 = pd.DataFrame({'A': [1, 2, 3], 'B': [4, 5, 6]})\n",
    "print(df148)"
   ]
  },
  {
   "cell_type": "code",
   "execution_count": null,
   "id": "95e81d64",
   "metadata": {},
   "outputs": [],
   "source": [
    "# Cell 150 - Scikit-learn: Pipeline\n",
    "from sklearn.model_selection import train_test_split\n",
    "from sklearn.linear_model import LinearRegression\n",
    "import numpy as np\n",
    "X149 = np.array([[1], [2], [3], [4], [5]])\n",
    "y149 = np.array([1, 4, 9, 16, 25])\n",
    "X_train149, X_test149, y_train149, y_test149 = train_test_split(X149, y149, test_size=0.2)\n",
    "model149 = LinearRegression()\n",
    "model149.fit(X_train149, y_train149)\n",
    "print(model149.predict(X_test149))"
   ]
  },
  {
   "cell_type": "code",
   "execution_count": null,
   "id": "5765bb1a",
   "metadata": {},
   "outputs": [],
   "source": [
    "# Cell 151 - Pandas: Creating DataFrames\n",
    "import pandas as pd\n",
    "df150 = pd.DataFrame({'A': [1, 2, 3], 'B': [4, 5, 6]})\n",
    "print(df150)"
   ]
  },
  {
   "cell_type": "code",
   "execution_count": null,
   "id": "41e13933",
   "metadata": {},
   "outputs": [],
   "source": [
    "# Cell 152 - Scikit-learn: Pipeline\n",
    "from sklearn.model_selection import train_test_split\n",
    "from sklearn.linear_model import LinearRegression\n",
    "import numpy as np\n",
    "X151 = np.array([[1], [2], [3], [4], [5]])\n",
    "y151 = np.array([1, 4, 9, 16, 25])\n",
    "X_train151, X_test151, y_train151, y_test151 = train_test_split(X151, y151, test_size=0.2)\n",
    "model151 = LinearRegression()\n",
    "model151.fit(X_train151, y_train151)\n",
    "print(model151.predict(X_test151))"
   ]
  },
  {
   "cell_type": "code",
   "execution_count": null,
   "id": "8cbe5a10",
   "metadata": {},
   "outputs": [],
   "source": [
    "# Cell 153 - Pandas: Reading CSV\n",
    "import pandas as pd\n",
    "df152 = pd.DataFrame({'A': [1, 2, 3], 'B': [4, 5, 6]})\n",
    "print(df152)"
   ]
  },
  {
   "cell_type": "code",
   "execution_count": null,
   "id": "eb3bbef6",
   "metadata": {},
   "outputs": [],
   "source": [
    "# Cell 154 - Scikit-learn: Feature Scaling\n",
    "from sklearn.model_selection import train_test_split\n",
    "from sklearn.linear_model import LinearRegression\n",
    "import numpy as np\n",
    "X153 = np.array([[1], [2], [3], [4], [5]])\n",
    "y153 = np.array([1, 4, 9, 16, 25])\n",
    "X_train153, X_test153, y_train153, y_test153 = train_test_split(X153, y153, test_size=0.2)\n",
    "model153 = LinearRegression()\n",
    "model153.fit(X_train153, y_train153)\n",
    "print(model153.predict(X_test153))"
   ]
  },
  {
   "cell_type": "code",
   "execution_count": null,
   "id": "66600dd7",
   "metadata": {},
   "outputs": [],
   "source": [
    "# Cell 155 - Pandas: Data Selection\n",
    "import pandas as pd\n",
    "df154 = pd.DataFrame({'A': [1, 2, 3], 'B': [4, 5, 6]})\n",
    "print(df154)"
   ]
  },
  {
   "cell_type": "code",
   "execution_count": null,
   "id": "d4eb3254",
   "metadata": {},
   "outputs": [],
   "source": [
    "# Cell 156 - Scikit-learn: Encoding Categorical Variables\n",
    "from sklearn.model_selection import train_test_split\n",
    "from sklearn.linear_model import LinearRegression\n",
    "import numpy as np\n",
    "X155 = np.array([[1], [2], [3], [4], [5]])\n",
    "y155 = np.array([1, 4, 9, 16, 25])\n",
    "X_train155, X_test155, y_train155, y_test155 = train_test_split(X155, y155, test_size=0.2)\n",
    "model155 = LinearRegression()\n",
    "model155.fit(X_train155, y_train155)\n",
    "print(model155.predict(X_test155))"
   ]
  },
  {
   "cell_type": "code",
   "execution_count": null,
   "id": "de4cfdc3",
   "metadata": {},
   "outputs": [],
   "source": [
    "# Cell 157 - Pandas: Dropping Columns\n",
    "import pandas as pd\n",
    "df156 = pd.DataFrame({'A': [1, 2, 3], 'B': [4, 5, 6]})\n",
    "print(df156)"
   ]
  },
  {
   "cell_type": "code",
   "execution_count": null,
   "id": "d02fd34e",
   "metadata": {},
   "outputs": [],
   "source": [
    "# Cell 158 - Scikit-learn: KNN\n",
    "from sklearn.model_selection import train_test_split\n",
    "from sklearn.linear_model import LinearRegression\n",
    "import numpy as np\n",
    "X157 = np.array([[1], [2], [3], [4], [5]])\n",
    "y157 = np.array([1, 4, 9, 16, 25])\n",
    "X_train157, X_test157, y_train157, y_test157 = train_test_split(X157, y157, test_size=0.2)\n",
    "model157 = LinearRegression()\n",
    "model157.fit(X_train157, y_train157)\n",
    "print(model157.predict(X_test157))"
   ]
  },
  {
   "cell_type": "code",
   "execution_count": null,
   "id": "9a350d8b",
   "metadata": {},
   "outputs": [],
   "source": [
    "# Cell 159 - Pandas: Data Selection\n",
    "import pandas as pd\n",
    "df158 = pd.DataFrame({'A': [1, 2, 3], 'B': [4, 5, 6]})\n",
    "print(df158)"
   ]
  },
  {
   "cell_type": "code",
   "execution_count": null,
   "id": "edd5c604",
   "metadata": {},
   "outputs": [],
   "source": [
    "# Cell 160 - Scikit-learn: Pipeline\n",
    "from sklearn.model_selection import train_test_split\n",
    "from sklearn.linear_model import LinearRegression\n",
    "import numpy as np\n",
    "X159 = np.array([[1], [2], [3], [4], [5]])\n",
    "y159 = np.array([1, 4, 9, 16, 25])\n",
    "X_train159, X_test159, y_train159, y_test159 = train_test_split(X159, y159, test_size=0.2)\n",
    "model159 = LinearRegression()\n",
    "model159.fit(X_train159, y_train159)\n",
    "print(model159.predict(X_test159))"
   ]
  },
  {
   "cell_type": "code",
   "execution_count": null,
   "id": "fa6400ed",
   "metadata": {},
   "outputs": [],
   "source": [
    "# Cell 161 - Pandas: Merging DataFrames\n",
    "import pandas as pd\n",
    "df160 = pd.DataFrame({'A': [1, 2, 3], 'B': [4, 5, 6]})\n",
    "print(df160)"
   ]
  },
  {
   "cell_type": "code",
   "execution_count": null,
   "id": "f9db2f5f",
   "metadata": {},
   "outputs": [],
   "source": [
    "# Cell 162 - Scikit-learn: SVM\n",
    "from sklearn.model_selection import train_test_split\n",
    "from sklearn.linear_model import LinearRegression\n",
    "import numpy as np\n",
    "X161 = np.array([[1], [2], [3], [4], [5]])\n",
    "y161 = np.array([1, 4, 9, 16, 25])\n",
    "X_train161, X_test161, y_train161, y_test161 = train_test_split(X161, y161, test_size=0.2)\n",
    "model161 = LinearRegression()\n",
    "model161.fit(X_train161, y_train161)\n",
    "print(model161.predict(X_test161))"
   ]
  },
  {
   "cell_type": "code",
   "execution_count": null,
   "id": "7fa6d2b1",
   "metadata": {},
   "outputs": [],
   "source": [
    "# Cell 163 - Pandas: Merging DataFrames\n",
    "import pandas as pd\n",
    "df162 = pd.DataFrame({'A': [1, 2, 3], 'B': [4, 5, 6]})\n",
    "print(df162)"
   ]
  },
  {
   "cell_type": "code",
   "execution_count": null,
   "id": "0b82dbc2",
   "metadata": {},
   "outputs": [],
   "source": [
    "# Cell 164 - Scikit-learn: Logistic Regression\n",
    "from sklearn.model_selection import train_test_split\n",
    "from sklearn.linear_model import LinearRegression\n",
    "import numpy as np\n",
    "X163 = np.array([[1], [2], [3], [4], [5]])\n",
    "y163 = np.array([1, 4, 9, 16, 25])\n",
    "X_train163, X_test163, y_train163, y_test163 = train_test_split(X163, y163, test_size=0.2)\n",
    "model163 = LinearRegression()\n",
    "model163.fit(X_train163, y_train163)\n",
    "print(model163.predict(X_test163))"
   ]
  },
  {
   "cell_type": "code",
   "execution_count": null,
   "id": "8a4e65f0",
   "metadata": {},
   "outputs": [],
   "source": [
    "# Cell 165 - Pandas: Filtering Rows\n",
    "import pandas as pd\n",
    "df164 = pd.DataFrame({'A': [1, 2, 3], 'B': [4, 5, 6]})\n",
    "print(df164)"
   ]
  },
  {
   "cell_type": "code",
   "execution_count": null,
   "id": "73ec82cc",
   "metadata": {},
   "outputs": [],
   "source": [
    "# Cell 166 - Scikit-learn: Pipeline\n",
    "from sklearn.model_selection import train_test_split\n",
    "from sklearn.linear_model import LinearRegression\n",
    "import numpy as np\n",
    "X165 = np.array([[1], [2], [3], [4], [5]])\n",
    "y165 = np.array([1, 4, 9, 16, 25])\n",
    "X_train165, X_test165, y_train165, y_test165 = train_test_split(X165, y165, test_size=0.2)\n",
    "model165 = LinearRegression()\n",
    "model165.fit(X_train165, y_train165)\n",
    "print(model165.predict(X_test165))"
   ]
  },
  {
   "cell_type": "code",
   "execution_count": null,
   "id": "b447342a",
   "metadata": {},
   "outputs": [],
   "source": [
    "# Cell 167 - Pandas: Adding Columns\n",
    "import pandas as pd\n",
    "df166 = pd.DataFrame({'A': [1, 2, 3], 'B': [4, 5, 6]})\n",
    "print(df166)"
   ]
  },
  {
   "cell_type": "code",
   "execution_count": null,
   "id": "b67f3222",
   "metadata": {},
   "outputs": [],
   "source": [
    "# Cell 168 - Scikit-learn: Linear Regression\n",
    "from sklearn.model_selection import train_test_split\n",
    "from sklearn.linear_model import LinearRegression\n",
    "import numpy as np\n",
    "X167 = np.array([[1], [2], [3], [4], [5]])\n",
    "y167 = np.array([1, 4, 9, 16, 25])\n",
    "X_train167, X_test167, y_train167, y_test167 = train_test_split(X167, y167, test_size=0.2)\n",
    "model167 = LinearRegression()\n",
    "model167.fit(X_train167, y_train167)\n",
    "print(model167.predict(X_test167))"
   ]
  },
  {
   "cell_type": "code",
   "execution_count": null,
   "id": "a903c5e9",
   "metadata": {},
   "outputs": [],
   "source": [
    "# Cell 169 - Pandas: Sorting\n",
    "import pandas as pd\n",
    "df168 = pd.DataFrame({'A': [1, 2, 3], 'B': [4, 5, 6]})\n",
    "print(df168)"
   ]
  },
  {
   "cell_type": "code",
   "execution_count": null,
   "id": "7f3a7cd5",
   "metadata": {},
   "outputs": [],
   "source": [
    "# Cell 170 - Scikit-learn: Train-Test Split\n",
    "from sklearn.model_selection import train_test_split\n",
    "from sklearn.linear_model import LinearRegression\n",
    "import numpy as np\n",
    "X169 = np.array([[1], [2], [3], [4], [5]])\n",
    "y169 = np.array([1, 4, 9, 16, 25])\n",
    "X_train169, X_test169, y_train169, y_test169 = train_test_split(X169, y169, test_size=0.2)\n",
    "model169 = LinearRegression()\n",
    "model169.fit(X_train169, y_train169)\n",
    "print(model169.predict(X_test169))"
   ]
  },
  {
   "cell_type": "code",
   "execution_count": null,
   "id": "056e15a9",
   "metadata": {},
   "outputs": [],
   "source": [
    "# Cell 171 - Pandas: Adding Columns\n",
    "import pandas as pd\n",
    "df170 = pd.DataFrame({'A': [1, 2, 3], 'B': [4, 5, 6]})\n",
    "print(df170)"
   ]
  },
  {
   "cell_type": "code",
   "execution_count": null,
   "id": "5e435404",
   "metadata": {},
   "outputs": [],
   "source": [
    "# Cell 172 - Scikit-learn: Train-Test Split\n",
    "from sklearn.model_selection import train_test_split\n",
    "from sklearn.linear_model import LinearRegression\n",
    "import numpy as np\n",
    "X171 = np.array([[1], [2], [3], [4], [5]])\n",
    "y171 = np.array([1, 4, 9, 16, 25])\n",
    "X_train171, X_test171, y_train171, y_test171 = train_test_split(X171, y171, test_size=0.2)\n",
    "model171 = LinearRegression()\n",
    "model171.fit(X_train171, y_train171)\n",
    "print(model171.predict(X_test171))"
   ]
  },
  {
   "cell_type": "code",
   "execution_count": null,
   "id": "3087e380",
   "metadata": {},
   "outputs": [],
   "source": [
    "# Cell 173 - Pandas: Reading CSV\n",
    "import pandas as pd\n",
    "df172 = pd.DataFrame({'A': [1, 2, 3], 'B': [4, 5, 6]})\n",
    "print(df172)"
   ]
  },
  {
   "cell_type": "code",
   "execution_count": null,
   "id": "21e3dc6c",
   "metadata": {},
   "outputs": [],
   "source": [
    "# Cell 174 - Scikit-learn: Linear Regression\n",
    "from sklearn.model_selection import train_test_split\n",
    "from sklearn.linear_model import LinearRegression\n",
    "import numpy as np\n",
    "X173 = np.array([[1], [2], [3], [4], [5]])\n",
    "y173 = np.array([1, 4, 9, 16, 25])\n",
    "X_train173, X_test173, y_train173, y_test173 = train_test_split(X173, y173, test_size=0.2)\n",
    "model173 = LinearRegression()\n",
    "model173.fit(X_train173, y_train173)\n",
    "print(model173.predict(X_test173))"
   ]
  },
  {
   "cell_type": "code",
   "execution_count": null,
   "id": "e3e9471d",
   "metadata": {},
   "outputs": [],
   "source": [
    "# Cell 175 - Pandas: Adding Columns\n",
    "import pandas as pd\n",
    "df174 = pd.DataFrame({'A': [1, 2, 3], 'B': [4, 5, 6]})\n",
    "print(df174)"
   ]
  },
  {
   "cell_type": "code",
   "execution_count": null,
   "id": "f0d7cd86",
   "metadata": {},
   "outputs": [],
   "source": [
    "# Cell 176 - Scikit-learn: KNN\n",
    "from sklearn.model_selection import train_test_split\n",
    "from sklearn.linear_model import LinearRegression\n",
    "import numpy as np\n",
    "X175 = np.array([[1], [2], [3], [4], [5]])\n",
    "y175 = np.array([1, 4, 9, 16, 25])\n",
    "X_train175, X_test175, y_train175, y_test175 = train_test_split(X175, y175, test_size=0.2)\n",
    "model175 = LinearRegression()\n",
    "model175.fit(X_train175, y_train175)\n",
    "print(model175.predict(X_test175))"
   ]
  },
  {
   "cell_type": "code",
   "execution_count": null,
   "id": "5fa21925",
   "metadata": {},
   "outputs": [],
   "source": [
    "# Cell 177 - Pandas: Merging DataFrames\n",
    "import pandas as pd\n",
    "df176 = pd.DataFrame({'A': [1, 2, 3], 'B': [4, 5, 6]})\n",
    "print(df176)"
   ]
  },
  {
   "cell_type": "code",
   "execution_count": null,
   "id": "d2505762",
   "metadata": {},
   "outputs": [],
   "source": [
    "# Cell 178 - Scikit-learn: KNN\n",
    "from sklearn.model_selection import train_test_split\n",
    "from sklearn.linear_model import LinearRegression\n",
    "import numpy as np\n",
    "X177 = np.array([[1], [2], [3], [4], [5]])\n",
    "y177 = np.array([1, 4, 9, 16, 25])\n",
    "X_train177, X_test177, y_train177, y_test177 = train_test_split(X177, y177, test_size=0.2)\n",
    "model177 = LinearRegression()\n",
    "model177.fit(X_train177, y_train177)\n",
    "print(model177.predict(X_test177))"
   ]
  },
  {
   "cell_type": "code",
   "execution_count": null,
   "id": "9d691686",
   "metadata": {},
   "outputs": [],
   "source": [
    "# Cell 179 - Pandas: Adding Columns\n",
    "import pandas as pd\n",
    "df178 = pd.DataFrame({'A': [1, 2, 3], 'B': [4, 5, 6]})\n",
    "print(df178)"
   ]
  },
  {
   "cell_type": "code",
   "execution_count": null,
   "id": "bf757923",
   "metadata": {},
   "outputs": [],
   "source": [
    "# Cell 180 - Scikit-learn: Model Evaluation\n",
    "from sklearn.model_selection import train_test_split\n",
    "from sklearn.linear_model import LinearRegression\n",
    "import numpy as np\n",
    "X179 = np.array([[1], [2], [3], [4], [5]])\n",
    "y179 = np.array([1, 4, 9, 16, 25])\n",
    "X_train179, X_test179, y_train179, y_test179 = train_test_split(X179, y179, test_size=0.2)\n",
    "model179 = LinearRegression()\n",
    "model179.fit(X_train179, y_train179)\n",
    "print(model179.predict(X_test179))"
   ]
  },
  {
   "cell_type": "code",
   "execution_count": null,
   "id": "400d5843",
   "metadata": {},
   "outputs": [],
   "source": [
    "# Cell 181 - Pandas: Merging DataFrames\n",
    "import pandas as pd\n",
    "df180 = pd.DataFrame({'A': [1, 2, 3], 'B': [4, 5, 6]})\n",
    "print(df180)"
   ]
  },
  {
   "cell_type": "code",
   "execution_count": null,
   "id": "f4b93523",
   "metadata": {},
   "outputs": [],
   "source": [
    "# Cell 182 - Scikit-learn: Pipeline\n",
    "from sklearn.model_selection import train_test_split\n",
    "from sklearn.linear_model import LinearRegression\n",
    "import numpy as np\n",
    "X181 = np.array([[1], [2], [3], [4], [5]])\n",
    "y181 = np.array([1, 4, 9, 16, 25])\n",
    "X_train181, X_test181, y_train181, y_test181 = train_test_split(X181, y181, test_size=0.2)\n",
    "model181 = LinearRegression()\n",
    "model181.fit(X_train181, y_train181)\n",
    "print(model181.predict(X_test181))"
   ]
  },
  {
   "cell_type": "code",
   "execution_count": null,
   "id": "14294a3d",
   "metadata": {},
   "outputs": [],
   "source": [
    "# Cell 183 - Pandas: Filtering Rows\n",
    "import pandas as pd\n",
    "df182 = pd.DataFrame({'A': [1, 2, 3], 'B': [4, 5, 6]})\n",
    "print(df182)"
   ]
  },
  {
   "cell_type": "code",
   "execution_count": null,
   "id": "8eb6e02e",
   "metadata": {},
   "outputs": [],
   "source": [
    "# Cell 184 - Scikit-learn: Cross Validation\n",
    "from sklearn.model_selection import train_test_split\n",
    "from sklearn.linear_model import LinearRegression\n",
    "import numpy as np\n",
    "X183 = np.array([[1], [2], [3], [4], [5]])\n",
    "y183 = np.array([1, 4, 9, 16, 25])\n",
    "X_train183, X_test183, y_train183, y_test183 = train_test_split(X183, y183, test_size=0.2)\n",
    "model183 = LinearRegression()\n",
    "model183.fit(X_train183, y_train183)\n",
    "print(model183.predict(X_test183))"
   ]
  },
  {
   "cell_type": "code",
   "execution_count": null,
   "id": "50d08f04",
   "metadata": {},
   "outputs": [],
   "source": [
    "# Cell 185 - Pandas: GroupBy\n",
    "import pandas as pd\n",
    "df184 = pd.DataFrame({'A': [1, 2, 3], 'B': [4, 5, 6]})\n",
    "print(df184)"
   ]
  },
  {
   "cell_type": "code",
   "execution_count": null,
   "id": "ce08d566",
   "metadata": {},
   "outputs": [],
   "source": [
    "# Cell 186 - Scikit-learn: Train-Test Split\n",
    "from sklearn.model_selection import train_test_split\n",
    "from sklearn.linear_model import LinearRegression\n",
    "import numpy as np\n",
    "X185 = np.array([[1], [2], [3], [4], [5]])\n",
    "y185 = np.array([1, 4, 9, 16, 25])\n",
    "X_train185, X_test185, y_train185, y_test185 = train_test_split(X185, y185, test_size=0.2)\n",
    "model185 = LinearRegression()\n",
    "model185.fit(X_train185, y_train185)\n",
    "print(model185.predict(X_test185))"
   ]
  },
  {
   "cell_type": "code",
   "execution_count": null,
   "id": "67a65113",
   "metadata": {},
   "outputs": [],
   "source": [
    "# Cell 187 - Pandas: Merging DataFrames\n",
    "import pandas as pd\n",
    "df186 = pd.DataFrame({'A': [1, 2, 3], 'B': [4, 5, 6]})\n",
    "print(df186)"
   ]
  },
  {
   "cell_type": "code",
   "execution_count": null,
   "id": "1cba3f10",
   "metadata": {},
   "outputs": [],
   "source": [
    "# Cell 188 - Scikit-learn: Encoding Categorical Variables\n",
    "from sklearn.model_selection import train_test_split\n",
    "from sklearn.linear_model import LinearRegression\n",
    "import numpy as np\n",
    "X187 = np.array([[1], [2], [3], [4], [5]])\n",
    "y187 = np.array([1, 4, 9, 16, 25])\n",
    "X_train187, X_test187, y_train187, y_test187 = train_test_split(X187, y187, test_size=0.2)\n",
    "model187 = LinearRegression()\n",
    "model187.fit(X_train187, y_train187)\n",
    "print(model187.predict(X_test187))"
   ]
  },
  {
   "cell_type": "code",
   "execution_count": null,
   "id": "ec0399dc",
   "metadata": {},
   "outputs": [],
   "source": [
    "# Cell 189 - Pandas: Sorting\n",
    "import pandas as pd\n",
    "df188 = pd.DataFrame({'A': [1, 2, 3], 'B': [4, 5, 6]})\n",
    "print(df188)"
   ]
  },
  {
   "cell_type": "code",
   "execution_count": null,
   "id": "0a489f21",
   "metadata": {},
   "outputs": [],
   "source": [
    "# Cell 190 - Scikit-learn: Encoding Categorical Variables\n",
    "from sklearn.model_selection import train_test_split\n",
    "from sklearn.linear_model import LinearRegression\n",
    "import numpy as np\n",
    "X189 = np.array([[1], [2], [3], [4], [5]])\n",
    "y189 = np.array([1, 4, 9, 16, 25])\n",
    "X_train189, X_test189, y_train189, y_test189 = train_test_split(X189, y189, test_size=0.2)\n",
    "model189 = LinearRegression()\n",
    "model189.fit(X_train189, y_train189)\n",
    "print(model189.predict(X_test189))"
   ]
  },
  {
   "cell_type": "code",
   "execution_count": null,
   "id": "d3b8c71f",
   "metadata": {},
   "outputs": [],
   "source": [
    "# Cell 191 - Pandas: Data Types\n",
    "import pandas as pd\n",
    "df190 = pd.DataFrame({'A': [1, 2, 3], 'B': [4, 5, 6]})\n",
    "print(df190)"
   ]
  },
  {
   "cell_type": "code",
   "execution_count": null,
   "id": "3dd5eb9c",
   "metadata": {},
   "outputs": [],
   "source": [
    "# Cell 192 - Scikit-learn: Feature Scaling\n",
    "from sklearn.model_selection import train_test_split\n",
    "from sklearn.linear_model import LinearRegression\n",
    "import numpy as np\n",
    "X191 = np.array([[1], [2], [3], [4], [5]])\n",
    "y191 = np.array([1, 4, 9, 16, 25])\n",
    "X_train191, X_test191, y_train191, y_test191 = train_test_split(X191, y191, test_size=0.2)\n",
    "model191 = LinearRegression()\n",
    "model191.fit(X_train191, y_train191)\n",
    "print(model191.predict(X_test191))"
   ]
  },
  {
   "cell_type": "code",
   "execution_count": null,
   "id": "ddce0aa2",
   "metadata": {},
   "outputs": [],
   "source": [
    "# Cell 193 - Pandas: Sorting\n",
    "import pandas as pd\n",
    "df192 = pd.DataFrame({'A': [1, 2, 3], 'B': [4, 5, 6]})\n",
    "print(df192)"
   ]
  },
  {
   "cell_type": "code",
   "execution_count": null,
   "id": "9c588496",
   "metadata": {},
   "outputs": [],
   "source": [
    "# Cell 194 - Scikit-learn: Train-Test Split\n",
    "from sklearn.model_selection import train_test_split\n",
    "from sklearn.linear_model import LinearRegression\n",
    "import numpy as np\n",
    "X193 = np.array([[1], [2], [3], [4], [5]])\n",
    "y193 = np.array([1, 4, 9, 16, 25])\n",
    "X_train193, X_test193, y_train193, y_test193 = train_test_split(X193, y193, test_size=0.2)\n",
    "model193 = LinearRegression()\n",
    "model193.fit(X_train193, y_train193)\n",
    "print(model193.predict(X_test193))"
   ]
  },
  {
   "cell_type": "code",
   "execution_count": null,
   "id": "b7469c1c",
   "metadata": {},
   "outputs": [],
   "source": [
    "# Cell 195 - Pandas: GroupBy\n",
    "import pandas as pd\n",
    "df194 = pd.DataFrame({'A': [1, 2, 3], 'B': [4, 5, 6]})\n",
    "print(df194)"
   ]
  },
  {
   "cell_type": "code",
   "execution_count": null,
   "id": "983a6a8c",
   "metadata": {},
   "outputs": [],
   "source": [
    "# Cell 196 - Scikit-learn: Decision Trees\n",
    "from sklearn.model_selection import train_test_split\n",
    "from sklearn.linear_model import LinearRegression\n",
    "import numpy as np\n",
    "X195 = np.array([[1], [2], [3], [4], [5]])\n",
    "y195 = np.array([1, 4, 9, 16, 25])\n",
    "X_train195, X_test195, y_train195, y_test195 = train_test_split(X195, y195, test_size=0.2)\n",
    "model195 = LinearRegression()\n",
    "model195.fit(X_train195, y_train195)\n",
    "print(model195.predict(X_test195))"
   ]
  },
  {
   "cell_type": "code",
   "execution_count": null,
   "id": "db4832a8",
   "metadata": {},
   "outputs": [],
   "source": [
    "# Cell 197 - Pandas: Descriptive Stats\n",
    "import pandas as pd\n",
    "df196 = pd.DataFrame({'A': [1, 2, 3], 'B': [4, 5, 6]})\n",
    "print(df196)"
   ]
  },
  {
   "cell_type": "code",
   "execution_count": null,
   "id": "c1591d80",
   "metadata": {},
   "outputs": [],
   "source": [
    "# Cell 198 - Scikit-learn: Cross Validation\n",
    "from sklearn.model_selection import train_test_split\n",
    "from sklearn.linear_model import LinearRegression\n",
    "import numpy as np\n",
    "X197 = np.array([[1], [2], [3], [4], [5]])\n",
    "y197 = np.array([1, 4, 9, 16, 25])\n",
    "X_train197, X_test197, y_train197, y_test197 = train_test_split(X197, y197, test_size=0.2)\n",
    "model197 = LinearRegression()\n",
    "model197.fit(X_train197, y_train197)\n",
    "print(model197.predict(X_test197))"
   ]
  },
  {
   "cell_type": "code",
   "execution_count": null,
   "id": "9b03f385",
   "metadata": {},
   "outputs": [],
   "source": [
    "# Cell 199 - Pandas: Handling Missing Data\n",
    "import pandas as pd\n",
    "df198 = pd.DataFrame({'A': [1, 2, 3], 'B': [4, 5, 6]})\n",
    "print(df198)"
   ]
  },
  {
   "cell_type": "code",
   "execution_count": null,
   "id": "7ab754b7",
   "metadata": {},
   "outputs": [],
   "source": [
    "# Cell 200 - Scikit-learn: Logistic Regression\n",
    "from sklearn.model_selection import train_test_split\n",
    "from sklearn.linear_model import LinearRegression\n",
    "import numpy as np\n",
    "X199 = np.array([[1], [2], [3], [4], [5]])\n",
    "y199 = np.array([1, 4, 9, 16, 25])\n",
    "X_train199, X_test199, y_train199, y_test199 = train_test_split(X199, y199, test_size=0.2)\n",
    "model199 = LinearRegression()\n",
    "model199.fit(X_train199, y_train199)\n",
    "print(model199.predict(X_test199))"
   ]
  },
  {
   "cell_type": "code",
   "execution_count": null,
   "id": "36379ace",
   "metadata": {},
   "outputs": [],
   "source": [
    "# Cell 201 - Pandas: Handling Missing Data\n",
    "import pandas as pd\n",
    "df200 = pd.DataFrame({'A': [1, 2, 3], 'B': [4, 5, 6]})\n",
    "print(df200)"
   ]
  },
  {
   "cell_type": "code",
   "execution_count": null,
   "id": "47074a8e",
   "metadata": {},
   "outputs": [],
   "source": [
    "# Cell 202 - Scikit-learn: Cross Validation\n",
    "from sklearn.model_selection import train_test_split\n",
    "from sklearn.linear_model import LinearRegression\n",
    "import numpy as np\n",
    "X201 = np.array([[1], [2], [3], [4], [5]])\n",
    "y201 = np.array([1, 4, 9, 16, 25])\n",
    "X_train201, X_test201, y_train201, y_test201 = train_test_split(X201, y201, test_size=0.2)\n",
    "model201 = LinearRegression()\n",
    "model201.fit(X_train201, y_train201)\n",
    "print(model201.predict(X_test201))"
   ]
  },
  {
   "cell_type": "code",
   "execution_count": null,
   "id": "f7e7ca3c",
   "metadata": {},
   "outputs": [],
   "source": [
    "# Cell 203 - Pandas: GroupBy\n",
    "import pandas as pd\n",
    "df202 = pd.DataFrame({'A': [1, 2, 3], 'B': [4, 5, 6]})\n",
    "print(df202)"
   ]
  },
  {
   "cell_type": "code",
   "execution_count": null,
   "id": "cc078c47",
   "metadata": {},
   "outputs": [],
   "source": [
    "# Cell 204 - Scikit-learn: Decision Trees\n",
    "from sklearn.model_selection import train_test_split\n",
    "from sklearn.linear_model import LinearRegression\n",
    "import numpy as np\n",
    "X203 = np.array([[1], [2], [3], [4], [5]])\n",
    "y203 = np.array([1, 4, 9, 16, 25])\n",
    "X_train203, X_test203, y_train203, y_test203 = train_test_split(X203, y203, test_size=0.2)\n",
    "model203 = LinearRegression()\n",
    "model203.fit(X_train203, y_train203)\n",
    "print(model203.predict(X_test203))"
   ]
  },
  {
   "cell_type": "code",
   "execution_count": null,
   "id": "53802604",
   "metadata": {},
   "outputs": [],
   "source": [
    "# Cell 205 - Pandas: Reading CSV\n",
    "import pandas as pd\n",
    "df204 = pd.DataFrame({'A': [1, 2, 3], 'B': [4, 5, 6]})\n",
    "print(df204)"
   ]
  },
  {
   "cell_type": "code",
   "execution_count": null,
   "id": "da444451",
   "metadata": {},
   "outputs": [],
   "source": [
    "# Cell 206 - Scikit-learn: KNN\n",
    "from sklearn.model_selection import train_test_split\n",
    "from sklearn.linear_model import LinearRegression\n",
    "import numpy as np\n",
    "X205 = np.array([[1], [2], [3], [4], [5]])\n",
    "y205 = np.array([1, 4, 9, 16, 25])\n",
    "X_train205, X_test205, y_train205, y_test205 = train_test_split(X205, y205, test_size=0.2)\n",
    "model205 = LinearRegression()\n",
    "model205.fit(X_train205, y_train205)\n",
    "print(model205.predict(X_test205))"
   ]
  },
  {
   "cell_type": "code",
   "execution_count": null,
   "id": "caeb5262",
   "metadata": {},
   "outputs": [],
   "source": [
    "# Cell 207 - Pandas: Merging DataFrames\n",
    "import pandas as pd\n",
    "df206 = pd.DataFrame({'A': [1, 2, 3], 'B': [4, 5, 6]})\n",
    "print(df206)"
   ]
  },
  {
   "cell_type": "code",
   "execution_count": null,
   "id": "8de60a3d",
   "metadata": {},
   "outputs": [],
   "source": [
    "# Cell 208 - Scikit-learn: Linear Regression\n",
    "from sklearn.model_selection import train_test_split\n",
    "from sklearn.linear_model import LinearRegression\n",
    "import numpy as np\n",
    "X207 = np.array([[1], [2], [3], [4], [5]])\n",
    "y207 = np.array([1, 4, 9, 16, 25])\n",
    "X_train207, X_test207, y_train207, y_test207 = train_test_split(X207, y207, test_size=0.2)\n",
    "model207 = LinearRegression()\n",
    "model207.fit(X_train207, y_train207)\n",
    "print(model207.predict(X_test207))"
   ]
  },
  {
   "cell_type": "code",
   "execution_count": null,
   "id": "dd192d5a",
   "metadata": {},
   "outputs": [],
   "source": [
    "# Cell 209 - Pandas: Adding Columns\n",
    "import pandas as pd\n",
    "df208 = pd.DataFrame({'A': [1, 2, 3], 'B': [4, 5, 6]})\n",
    "print(df208)"
   ]
  },
  {
   "cell_type": "code",
   "execution_count": null,
   "id": "9a5a60af",
   "metadata": {},
   "outputs": [],
   "source": [
    "# Cell 210 - Scikit-learn: Encoding Categorical Variables\n",
    "from sklearn.model_selection import train_test_split\n",
    "from sklearn.linear_model import LinearRegression\n",
    "import numpy as np\n",
    "X209 = np.array([[1], [2], [3], [4], [5]])\n",
    "y209 = np.array([1, 4, 9, 16, 25])\n",
    "X_train209, X_test209, y_train209, y_test209 = train_test_split(X209, y209, test_size=0.2)\n",
    "model209 = LinearRegression()\n",
    "model209.fit(X_train209, y_train209)\n",
    "print(model209.predict(X_test209))"
   ]
  },
  {
   "cell_type": "code",
   "execution_count": null,
   "id": "ef46464d",
   "metadata": {},
   "outputs": [],
   "source": [
    "# Cell 211 - Pandas: GroupBy\n",
    "import pandas as pd\n",
    "df210 = pd.DataFrame({'A': [1, 2, 3], 'B': [4, 5, 6]})\n",
    "print(df210)"
   ]
  },
  {
   "cell_type": "code",
   "execution_count": null,
   "id": "292054a1",
   "metadata": {},
   "outputs": [],
   "source": [
    "# Cell 212 - Scikit-learn: Train-Test Split\n",
    "from sklearn.model_selection import train_test_split\n",
    "from sklearn.linear_model import LinearRegression\n",
    "import numpy as np\n",
    "X211 = np.array([[1], [2], [3], [4], [5]])\n",
    "y211 = np.array([1, 4, 9, 16, 25])\n",
    "X_train211, X_test211, y_train211, y_test211 = train_test_split(X211, y211, test_size=0.2)\n",
    "model211 = LinearRegression()\n",
    "model211.fit(X_train211, y_train211)\n",
    "print(model211.predict(X_test211))"
   ]
  },
  {
   "cell_type": "code",
   "execution_count": null,
   "id": "13b387ef",
   "metadata": {},
   "outputs": [],
   "source": [
    "# Cell 213 - Pandas: Sorting\n",
    "import pandas as pd\n",
    "df212 = pd.DataFrame({'A': [1, 2, 3], 'B': [4, 5, 6]})\n",
    "print(df212)"
   ]
  },
  {
   "cell_type": "code",
   "execution_count": null,
   "id": "d489b754",
   "metadata": {},
   "outputs": [],
   "source": [
    "# Cell 214 - Scikit-learn: Pipeline\n",
    "from sklearn.model_selection import train_test_split\n",
    "from sklearn.linear_model import LinearRegression\n",
    "import numpy as np\n",
    "X213 = np.array([[1], [2], [3], [4], [5]])\n",
    "y213 = np.array([1, 4, 9, 16, 25])\n",
    "X_train213, X_test213, y_train213, y_test213 = train_test_split(X213, y213, test_size=0.2)\n",
    "model213 = LinearRegression()\n",
    "model213.fit(X_train213, y_train213)\n",
    "print(model213.predict(X_test213))"
   ]
  },
  {
   "cell_type": "code",
   "execution_count": null,
   "id": "057bc79f",
   "metadata": {},
   "outputs": [],
   "source": [
    "# Cell 215 - Pandas: Merging DataFrames\n",
    "import pandas as pd\n",
    "df214 = pd.DataFrame({'A': [1, 2, 3], 'B': [4, 5, 6]})\n",
    "print(df214)"
   ]
  },
  {
   "cell_type": "code",
   "execution_count": null,
   "id": "e4dfcdcf",
   "metadata": {},
   "outputs": [],
   "source": [
    "# Cell 216 - Scikit-learn: SVM\n",
    "from sklearn.model_selection import train_test_split\n",
    "from sklearn.linear_model import LinearRegression\n",
    "import numpy as np\n",
    "X215 = np.array([[1], [2], [3], [4], [5]])\n",
    "y215 = np.array([1, 4, 9, 16, 25])\n",
    "X_train215, X_test215, y_train215, y_test215 = train_test_split(X215, y215, test_size=0.2)\n",
    "model215 = LinearRegression()\n",
    "model215.fit(X_train215, y_train215)\n",
    "print(model215.predict(X_test215))"
   ]
  },
  {
   "cell_type": "code",
   "execution_count": null,
   "id": "3db731b7",
   "metadata": {},
   "outputs": [],
   "source": [
    "# Cell 217 - Pandas: Data Types\n",
    "import pandas as pd\n",
    "df216 = pd.DataFrame({'A': [1, 2, 3], 'B': [4, 5, 6]})\n",
    "print(df216)"
   ]
  },
  {
   "cell_type": "code",
   "execution_count": null,
   "id": "10c852eb",
   "metadata": {},
   "outputs": [],
   "source": [
    "# Cell 218 - Scikit-learn: Model Evaluation\n",
    "from sklearn.model_selection import train_test_split\n",
    "from sklearn.linear_model import LinearRegression\n",
    "import numpy as np\n",
    "X217 = np.array([[1], [2], [3], [4], [5]])\n",
    "y217 = np.array([1, 4, 9, 16, 25])\n",
    "X_train217, X_test217, y_train217, y_test217 = train_test_split(X217, y217, test_size=0.2)\n",
    "model217 = LinearRegression()\n",
    "model217.fit(X_train217, y_train217)\n",
    "print(model217.predict(X_test217))"
   ]
  },
  {
   "cell_type": "code",
   "execution_count": null,
   "id": "b3a90c86",
   "metadata": {},
   "outputs": [],
   "source": [
    "# Cell 219 - Pandas: Handling Missing Data\n",
    "import pandas as pd\n",
    "df218 = pd.DataFrame({'A': [1, 2, 3], 'B': [4, 5, 6]})\n",
    "print(df218)"
   ]
  },
  {
   "cell_type": "code",
   "execution_count": null,
   "id": "6e7a81f6",
   "metadata": {},
   "outputs": [],
   "source": [
    "# Cell 220 - Scikit-learn: SVM\n",
    "from sklearn.model_selection import train_test_split\n",
    "from sklearn.linear_model import LinearRegression\n",
    "import numpy as np\n",
    "X219 = np.array([[1], [2], [3], [4], [5]])\n",
    "y219 = np.array([1, 4, 9, 16, 25])\n",
    "X_train219, X_test219, y_train219, y_test219 = train_test_split(X219, y219, test_size=0.2)\n",
    "model219 = LinearRegression()\n",
    "model219.fit(X_train219, y_train219)\n",
    "print(model219.predict(X_test219))"
   ]
  },
  {
   "cell_type": "code",
   "execution_count": null,
   "id": "b203cd60",
   "metadata": {},
   "outputs": [],
   "source": [
    "# Cell 221 - Pandas: Handling Missing Data\n",
    "import pandas as pd\n",
    "df220 = pd.DataFrame({'A': [1, 2, 3], 'B': [4, 5, 6]})\n",
    "print(df220)"
   ]
  },
  {
   "cell_type": "code",
   "execution_count": null,
   "id": "bde71ac6",
   "metadata": {},
   "outputs": [],
   "source": [
    "# Cell 222 - Scikit-learn: Decision Trees\n",
    "from sklearn.model_selection import train_test_split\n",
    "from sklearn.linear_model import LinearRegression\n",
    "import numpy as np\n",
    "X221 = np.array([[1], [2], [3], [4], [5]])\n",
    "y221 = np.array([1, 4, 9, 16, 25])\n",
    "X_train221, X_test221, y_train221, y_test221 = train_test_split(X221, y221, test_size=0.2)\n",
    "model221 = LinearRegression()\n",
    "model221.fit(X_train221, y_train221)\n",
    "print(model221.predict(X_test221))"
   ]
  },
  {
   "cell_type": "code",
   "execution_count": null,
   "id": "4b23afb7",
   "metadata": {},
   "outputs": [],
   "source": [
    "# Cell 223 - Pandas: Adding Columns\n",
    "import pandas as pd\n",
    "df222 = pd.DataFrame({'A': [1, 2, 3], 'B': [4, 5, 6]})\n",
    "print(df222)"
   ]
  },
  {
   "cell_type": "code",
   "execution_count": null,
   "id": "a04a0533",
   "metadata": {},
   "outputs": [],
   "source": [
    "# Cell 224 - Scikit-learn: Train-Test Split\n",
    "from sklearn.model_selection import train_test_split\n",
    "from sklearn.linear_model import LinearRegression\n",
    "import numpy as np\n",
    "X223 = np.array([[1], [2], [3], [4], [5]])\n",
    "y223 = np.array([1, 4, 9, 16, 25])\n",
    "X_train223, X_test223, y_train223, y_test223 = train_test_split(X223, y223, test_size=0.2)\n",
    "model223 = LinearRegression()\n",
    "model223.fit(X_train223, y_train223)\n",
    "print(model223.predict(X_test223))"
   ]
  },
  {
   "cell_type": "code",
   "execution_count": null,
   "id": "c7508cd7",
   "metadata": {},
   "outputs": [],
   "source": [
    "# Cell 225 - Pandas: GroupBy\n",
    "import pandas as pd\n",
    "df224 = pd.DataFrame({'A': [1, 2, 3], 'B': [4, 5, 6]})\n",
    "print(df224)"
   ]
  },
  {
   "cell_type": "code",
   "execution_count": null,
   "id": "dd795ff8",
   "metadata": {},
   "outputs": [],
   "source": [
    "# Cell 226 - Scikit-learn: Cross Validation\n",
    "from sklearn.model_selection import train_test_split\n",
    "from sklearn.linear_model import LinearRegression\n",
    "import numpy as np\n",
    "X225 = np.array([[1], [2], [3], [4], [5]])\n",
    "y225 = np.array([1, 4, 9, 16, 25])\n",
    "X_train225, X_test225, y_train225, y_test225 = train_test_split(X225, y225, test_size=0.2)\n",
    "model225 = LinearRegression()\n",
    "model225.fit(X_train225, y_train225)\n",
    "print(model225.predict(X_test225))"
   ]
  },
  {
   "cell_type": "code",
   "execution_count": null,
   "id": "ab717b05",
   "metadata": {},
   "outputs": [],
   "source": [
    "# Cell 227 - Pandas: Filtering Rows\n",
    "import pandas as pd\n",
    "df226 = pd.DataFrame({'A': [1, 2, 3], 'B': [4, 5, 6]})\n",
    "print(df226)"
   ]
  },
  {
   "cell_type": "code",
   "execution_count": null,
   "id": "ea71322e",
   "metadata": {},
   "outputs": [],
   "source": [
    "# Cell 228 - Scikit-learn: SVM\n",
    "from sklearn.model_selection import train_test_split\n",
    "from sklearn.linear_model import LinearRegression\n",
    "import numpy as np\n",
    "X227 = np.array([[1], [2], [3], [4], [5]])\n",
    "y227 = np.array([1, 4, 9, 16, 25])\n",
    "X_train227, X_test227, y_train227, y_test227 = train_test_split(X227, y227, test_size=0.2)\n",
    "model227 = LinearRegression()\n",
    "model227.fit(X_train227, y_train227)\n",
    "print(model227.predict(X_test227))"
   ]
  },
  {
   "cell_type": "code",
   "execution_count": null,
   "id": "e3c99691",
   "metadata": {},
   "outputs": [],
   "source": [
    "# Cell 229 - Pandas: Creating DataFrames\n",
    "import pandas as pd\n",
    "df228 = pd.DataFrame({'A': [1, 2, 3], 'B': [4, 5, 6]})\n",
    "print(df228)"
   ]
  },
  {
   "cell_type": "code",
   "execution_count": null,
   "id": "9c7fbc07",
   "metadata": {},
   "outputs": [],
   "source": [
    "# Cell 230 - Scikit-learn: Encoding Categorical Variables\n",
    "from sklearn.model_selection import train_test_split\n",
    "from sklearn.linear_model import LinearRegression\n",
    "import numpy as np\n",
    "X229 = np.array([[1], [2], [3], [4], [5]])\n",
    "y229 = np.array([1, 4, 9, 16, 25])\n",
    "X_train229, X_test229, y_train229, y_test229 = train_test_split(X229, y229, test_size=0.2)\n",
    "model229 = LinearRegression()\n",
    "model229.fit(X_train229, y_train229)\n",
    "print(model229.predict(X_test229))"
   ]
  },
  {
   "cell_type": "code",
   "execution_count": null,
   "id": "a5e0e71b",
   "metadata": {},
   "outputs": [],
   "source": [
    "# Cell 231 - Pandas: Data Types\n",
    "import pandas as pd\n",
    "df230 = pd.DataFrame({'A': [1, 2, 3], 'B': [4, 5, 6]})\n",
    "print(df230)"
   ]
  },
  {
   "cell_type": "code",
   "execution_count": null,
   "id": "5cc8a94b",
   "metadata": {},
   "outputs": [],
   "source": [
    "# Cell 232 - Scikit-learn: Decision Trees\n",
    "from sklearn.model_selection import train_test_split\n",
    "from sklearn.linear_model import LinearRegression\n",
    "import numpy as np\n",
    "X231 = np.array([[1], [2], [3], [4], [5]])\n",
    "y231 = np.array([1, 4, 9, 16, 25])\n",
    "X_train231, X_test231, y_train231, y_test231 = train_test_split(X231, y231, test_size=0.2)\n",
    "model231 = LinearRegression()\n",
    "model231.fit(X_train231, y_train231)\n",
    "print(model231.predict(X_test231))"
   ]
  },
  {
   "cell_type": "code",
   "execution_count": null,
   "id": "6345f3ae",
   "metadata": {},
   "outputs": [],
   "source": [
    "# Cell 233 - Pandas: Sorting\n",
    "import pandas as pd\n",
    "df232 = pd.DataFrame({'A': [1, 2, 3], 'B': [4, 5, 6]})\n",
    "print(df232)"
   ]
  },
  {
   "cell_type": "code",
   "execution_count": null,
   "id": "90bb7824",
   "metadata": {},
   "outputs": [],
   "source": [
    "# Cell 234 - Scikit-learn: SVM\n",
    "from sklearn.model_selection import train_test_split\n",
    "from sklearn.linear_model import LinearRegression\n",
    "import numpy as np\n",
    "X233 = np.array([[1], [2], [3], [4], [5]])\n",
    "y233 = np.array([1, 4, 9, 16, 25])\n",
    "X_train233, X_test233, y_train233, y_test233 = train_test_split(X233, y233, test_size=0.2)\n",
    "model233 = LinearRegression()\n",
    "model233.fit(X_train233, y_train233)\n",
    "print(model233.predict(X_test233))"
   ]
  },
  {
   "cell_type": "code",
   "execution_count": null,
   "id": "3250f945",
   "metadata": {},
   "outputs": [],
   "source": [
    "# Cell 235 - Pandas: GroupBy\n",
    "import pandas as pd\n",
    "df234 = pd.DataFrame({'A': [1, 2, 3], 'B': [4, 5, 6]})\n",
    "print(df234)"
   ]
  },
  {
   "cell_type": "code",
   "execution_count": null,
   "id": "ae1b5501",
   "metadata": {},
   "outputs": [],
   "source": [
    "# Cell 236 - Scikit-learn: Feature Scaling\n",
    "from sklearn.model_selection import train_test_split\n",
    "from sklearn.linear_model import LinearRegression\n",
    "import numpy as np\n",
    "X235 = np.array([[1], [2], [3], [4], [5]])\n",
    "y235 = np.array([1, 4, 9, 16, 25])\n",
    "X_train235, X_test235, y_train235, y_test235 = train_test_split(X235, y235, test_size=0.2)\n",
    "model235 = LinearRegression()\n",
    "model235.fit(X_train235, y_train235)\n",
    "print(model235.predict(X_test235))"
   ]
  },
  {
   "cell_type": "code",
   "execution_count": null,
   "id": "51f031f5",
   "metadata": {},
   "outputs": [],
   "source": [
    "# Cell 237 - Pandas: Filtering Rows\n",
    "import pandas as pd\n",
    "df236 = pd.DataFrame({'A': [1, 2, 3], 'B': [4, 5, 6]})\n",
    "print(df236)"
   ]
  },
  {
   "cell_type": "code",
   "execution_count": null,
   "id": "70818ab3",
   "metadata": {},
   "outputs": [],
   "source": [
    "# Cell 238 - Scikit-learn: Feature Scaling\n",
    "from sklearn.model_selection import train_test_split\n",
    "from sklearn.linear_model import LinearRegression\n",
    "import numpy as np\n",
    "X237 = np.array([[1], [2], [3], [4], [5]])\n",
    "y237 = np.array([1, 4, 9, 16, 25])\n",
    "X_train237, X_test237, y_train237, y_test237 = train_test_split(X237, y237, test_size=0.2)\n",
    "model237 = LinearRegression()\n",
    "model237.fit(X_train237, y_train237)\n",
    "print(model237.predict(X_test237))"
   ]
  },
  {
   "cell_type": "code",
   "execution_count": null,
   "id": "9261542f",
   "metadata": {},
   "outputs": [],
   "source": [
    "# Cell 239 - Pandas: Filtering Rows\n",
    "import pandas as pd\n",
    "df238 = pd.DataFrame({'A': [1, 2, 3], 'B': [4, 5, 6]})\n",
    "print(df238)"
   ]
  },
  {
   "cell_type": "code",
   "execution_count": null,
   "id": "0cc240a9",
   "metadata": {},
   "outputs": [],
   "source": [
    "# Cell 240 - Scikit-learn: Random Forest\n",
    "from sklearn.model_selection import train_test_split\n",
    "from sklearn.linear_model import LinearRegression\n",
    "import numpy as np\n",
    "X239 = np.array([[1], [2], [3], [4], [5]])\n",
    "y239 = np.array([1, 4, 9, 16, 25])\n",
    "X_train239, X_test239, y_train239, y_test239 = train_test_split(X239, y239, test_size=0.2)\n",
    "model239 = LinearRegression()\n",
    "model239.fit(X_train239, y_train239)\n",
    "print(model239.predict(X_test239))"
   ]
  },
  {
   "cell_type": "code",
   "execution_count": null,
   "id": "f22dda7c",
   "metadata": {},
   "outputs": [],
   "source": [
    "# Cell 241 - Pandas: Handling Missing Data\n",
    "import pandas as pd\n",
    "df240 = pd.DataFrame({'A': [1, 2, 3], 'B': [4, 5, 6]})\n",
    "print(df240)"
   ]
  },
  {
   "cell_type": "code",
   "execution_count": null,
   "id": "6c38b571",
   "metadata": {},
   "outputs": [],
   "source": [
    "# Cell 242 - Scikit-learn: Random Forest\n",
    "from sklearn.model_selection import train_test_split\n",
    "from sklearn.linear_model import LinearRegression\n",
    "import numpy as np\n",
    "X241 = np.array([[1], [2], [3], [4], [5]])\n",
    "y241 = np.array([1, 4, 9, 16, 25])\n",
    "X_train241, X_test241, y_train241, y_test241 = train_test_split(X241, y241, test_size=0.2)\n",
    "model241 = LinearRegression()\n",
    "model241.fit(X_train241, y_train241)\n",
    "print(model241.predict(X_test241))"
   ]
  },
  {
   "cell_type": "code",
   "execution_count": null,
   "id": "ebbdb11b",
   "metadata": {},
   "outputs": [],
   "source": [
    "# Cell 243 - Pandas: Descriptive Stats\n",
    "import pandas as pd\n",
    "df242 = pd.DataFrame({'A': [1, 2, 3], 'B': [4, 5, 6]})\n",
    "print(df242)"
   ]
  },
  {
   "cell_type": "code",
   "execution_count": null,
   "id": "46785134",
   "metadata": {},
   "outputs": [],
   "source": [
    "# Cell 244 - Scikit-learn: Encoding Categorical Variables\n",
    "from sklearn.model_selection import train_test_split\n",
    "from sklearn.linear_model import LinearRegression\n",
    "import numpy as np\n",
    "X243 = np.array([[1], [2], [3], [4], [5]])\n",
    "y243 = np.array([1, 4, 9, 16, 25])\n",
    "X_train243, X_test243, y_train243, y_test243 = train_test_split(X243, y243, test_size=0.2)\n",
    "model243 = LinearRegression()\n",
    "model243.fit(X_train243, y_train243)\n",
    "print(model243.predict(X_test243))"
   ]
  },
  {
   "cell_type": "code",
   "execution_count": null,
   "id": "03a85a09",
   "metadata": {},
   "outputs": [],
   "source": [
    "# Cell 245 - Pandas: Data Types\n",
    "import pandas as pd\n",
    "df244 = pd.DataFrame({'A': [1, 2, 3], 'B': [4, 5, 6]})\n",
    "print(df244)"
   ]
  },
  {
   "cell_type": "code",
   "execution_count": null,
   "id": "33cc5c2d",
   "metadata": {},
   "outputs": [],
   "source": [
    "# Cell 246 - Scikit-learn: Logistic Regression\n",
    "from sklearn.model_selection import train_test_split\n",
    "from sklearn.linear_model import LinearRegression\n",
    "import numpy as np\n",
    "X245 = np.array([[1], [2], [3], [4], [5]])\n",
    "y245 = np.array([1, 4, 9, 16, 25])\n",
    "X_train245, X_test245, y_train245, y_test245 = train_test_split(X245, y245, test_size=0.2)\n",
    "model245 = LinearRegression()\n",
    "model245.fit(X_train245, y_train245)\n",
    "print(model245.predict(X_test245))"
   ]
  },
  {
   "cell_type": "code",
   "execution_count": null,
   "id": "626bf3cd",
   "metadata": {},
   "outputs": [],
   "source": [
    "# Cell 247 - Pandas: Adding Columns\n",
    "import pandas as pd\n",
    "df246 = pd.DataFrame({'A': [1, 2, 3], 'B': [4, 5, 6]})\n",
    "print(df246)"
   ]
  },
  {
   "cell_type": "code",
   "execution_count": null,
   "id": "66c07e15",
   "metadata": {},
   "outputs": [],
   "source": [
    "# Cell 248 - Scikit-learn: Random Forest\n",
    "from sklearn.model_selection import train_test_split\n",
    "from sklearn.linear_model import LinearRegression\n",
    "import numpy as np\n",
    "X247 = np.array([[1], [2], [3], [4], [5]])\n",
    "y247 = np.array([1, 4, 9, 16, 25])\n",
    "X_train247, X_test247, y_train247, y_test247 = train_test_split(X247, y247, test_size=0.2)\n",
    "model247 = LinearRegression()\n",
    "model247.fit(X_train247, y_train247)\n",
    "print(model247.predict(X_test247))"
   ]
  },
  {
   "cell_type": "code",
   "execution_count": null,
   "id": "75a1f6b3",
   "metadata": {},
   "outputs": [],
   "source": [
    "# Cell 249 - Pandas: Data Selection\n",
    "import pandas as pd\n",
    "df248 = pd.DataFrame({'A': [1, 2, 3], 'B': [4, 5, 6]})\n",
    "print(df248)"
   ]
  },
  {
   "cell_type": "code",
   "execution_count": null,
   "id": "19595a73",
   "metadata": {},
   "outputs": [],
   "source": [
    "# Cell 250 - Scikit-learn: KNN\n",
    "from sklearn.model_selection import train_test_split\n",
    "from sklearn.linear_model import LinearRegression\n",
    "import numpy as np\n",
    "X249 = np.array([[1], [2], [3], [4], [5]])\n",
    "y249 = np.array([1, 4, 9, 16, 25])\n",
    "X_train249, X_test249, y_train249, y_test249 = train_test_split(X249, y249, test_size=0.2)\n",
    "model249 = LinearRegression()\n",
    "model249.fit(X_train249, y_train249)\n",
    "print(model249.predict(X_test249))"
   ]
  },
  {
   "cell_type": "code",
   "execution_count": null,
   "id": "86c8b65a",
   "metadata": {},
   "outputs": [],
   "source": [
    "# Cell 251 - Pandas: Creating DataFrames\n",
    "import pandas as pd\n",
    "df250 = pd.DataFrame({'A': [1, 2, 3], 'B': [4, 5, 6]})\n",
    "print(df250)"
   ]
  },
  {
   "cell_type": "code",
   "execution_count": null,
   "id": "bb9ad5b1",
   "metadata": {},
   "outputs": [],
   "source": [
    "# Cell 252 - Scikit-learn: Logistic Regression\n",
    "from sklearn.model_selection import train_test_split\n",
    "from sklearn.linear_model import LinearRegression\n",
    "import numpy as np\n",
    "X251 = np.array([[1], [2], [3], [4], [5]])\n",
    "y251 = np.array([1, 4, 9, 16, 25])\n",
    "X_train251, X_test251, y_train251, y_test251 = train_test_split(X251, y251, test_size=0.2)\n",
    "model251 = LinearRegression()\n",
    "model251.fit(X_train251, y_train251)\n",
    "print(model251.predict(X_test251))"
   ]
  },
  {
   "cell_type": "code",
   "execution_count": null,
   "id": "f26965f3",
   "metadata": {},
   "outputs": [],
   "source": [
    "# Cell 253 - Pandas: Adding Columns\n",
    "import pandas as pd\n",
    "df252 = pd.DataFrame({'A': [1, 2, 3], 'B': [4, 5, 6]})\n",
    "print(df252)"
   ]
  },
  {
   "cell_type": "code",
   "execution_count": null,
   "id": "e7f77036",
   "metadata": {},
   "outputs": [],
   "source": [
    "# Cell 254 - Scikit-learn: Feature Scaling\n",
    "from sklearn.model_selection import train_test_split\n",
    "from sklearn.linear_model import LinearRegression\n",
    "import numpy as np\n",
    "X253 = np.array([[1], [2], [3], [4], [5]])\n",
    "y253 = np.array([1, 4, 9, 16, 25])\n",
    "X_train253, X_test253, y_train253, y_test253 = train_test_split(X253, y253, test_size=0.2)\n",
    "model253 = LinearRegression()\n",
    "model253.fit(X_train253, y_train253)\n",
    "print(model253.predict(X_test253))"
   ]
  },
  {
   "cell_type": "code",
   "execution_count": null,
   "id": "895c9593",
   "metadata": {},
   "outputs": [],
   "source": [
    "# Cell 255 - Pandas: Data Types\n",
    "import pandas as pd\n",
    "df254 = pd.DataFrame({'A': [1, 2, 3], 'B': [4, 5, 6]})\n",
    "print(df254)"
   ]
  },
  {
   "cell_type": "code",
   "execution_count": null,
   "id": "bfab5212",
   "metadata": {},
   "outputs": [],
   "source": [
    "# Cell 256 - Scikit-learn: Random Forest\n",
    "from sklearn.model_selection import train_test_split\n",
    "from sklearn.linear_model import LinearRegression\n",
    "import numpy as np\n",
    "X255 = np.array([[1], [2], [3], [4], [5]])\n",
    "y255 = np.array([1, 4, 9, 16, 25])\n",
    "X_train255, X_test255, y_train255, y_test255 = train_test_split(X255, y255, test_size=0.2)\n",
    "model255 = LinearRegression()\n",
    "model255.fit(X_train255, y_train255)\n",
    "print(model255.predict(X_test255))"
   ]
  },
  {
   "cell_type": "code",
   "execution_count": null,
   "id": "dcbbab5d",
   "metadata": {},
   "outputs": [],
   "source": [
    "# Cell 257 - Pandas: Dropping Columns\n",
    "import pandas as pd\n",
    "df256 = pd.DataFrame({'A': [1, 2, 3], 'B': [4, 5, 6]})\n",
    "print(df256)"
   ]
  },
  {
   "cell_type": "code",
   "execution_count": null,
   "id": "a3107f54",
   "metadata": {},
   "outputs": [],
   "source": [
    "# Cell 258 - Scikit-learn: Encoding Categorical Variables\n",
    "from sklearn.model_selection import train_test_split\n",
    "from sklearn.linear_model import LinearRegression\n",
    "import numpy as np\n",
    "X257 = np.array([[1], [2], [3], [4], [5]])\n",
    "y257 = np.array([1, 4, 9, 16, 25])\n",
    "X_train257, X_test257, y_train257, y_test257 = train_test_split(X257, y257, test_size=0.2)\n",
    "model257 = LinearRegression()\n",
    "model257.fit(X_train257, y_train257)\n",
    "print(model257.predict(X_test257))"
   ]
  },
  {
   "cell_type": "code",
   "execution_count": null,
   "id": "a7bf555e",
   "metadata": {},
   "outputs": [],
   "source": [
    "# Cell 259 - Pandas: Merging DataFrames\n",
    "import pandas as pd\n",
    "df258 = pd.DataFrame({'A': [1, 2, 3], 'B': [4, 5, 6]})\n",
    "print(df258)"
   ]
  },
  {
   "cell_type": "code",
   "execution_count": null,
   "id": "98d7e03f",
   "metadata": {},
   "outputs": [],
   "source": [
    "# Cell 260 - Scikit-learn: Pipeline\n",
    "from sklearn.model_selection import train_test_split\n",
    "from sklearn.linear_model import LinearRegression\n",
    "import numpy as np\n",
    "X259 = np.array([[1], [2], [3], [4], [5]])\n",
    "y259 = np.array([1, 4, 9, 16, 25])\n",
    "X_train259, X_test259, y_train259, y_test259 = train_test_split(X259, y259, test_size=0.2)\n",
    "model259 = LinearRegression()\n",
    "model259.fit(X_train259, y_train259)\n",
    "print(model259.predict(X_test259))"
   ]
  },
  {
   "cell_type": "code",
   "execution_count": null,
   "id": "c9c23a47",
   "metadata": {},
   "outputs": [],
   "source": [
    "# Cell 261 - Pandas: GroupBy\n",
    "import pandas as pd\n",
    "df260 = pd.DataFrame({'A': [1, 2, 3], 'B': [4, 5, 6]})\n",
    "print(df260)"
   ]
  },
  {
   "cell_type": "code",
   "execution_count": null,
   "id": "7f84573c",
   "metadata": {},
   "outputs": [],
   "source": [
    "# Cell 262 - Scikit-learn: Model Evaluation\n",
    "from sklearn.model_selection import train_test_split\n",
    "from sklearn.linear_model import LinearRegression\n",
    "import numpy as np\n",
    "X261 = np.array([[1], [2], [3], [4], [5]])\n",
    "y261 = np.array([1, 4, 9, 16, 25])\n",
    "X_train261, X_test261, y_train261, y_test261 = train_test_split(X261, y261, test_size=0.2)\n",
    "model261 = LinearRegression()\n",
    "model261.fit(X_train261, y_train261)\n",
    "print(model261.predict(X_test261))"
   ]
  },
  {
   "cell_type": "code",
   "execution_count": null,
   "id": "c601890b",
   "metadata": {},
   "outputs": [],
   "source": [
    "# Cell 263 - Pandas: GroupBy\n",
    "import pandas as pd\n",
    "df262 = pd.DataFrame({'A': [1, 2, 3], 'B': [4, 5, 6]})\n",
    "print(df262)"
   ]
  },
  {
   "cell_type": "code",
   "execution_count": null,
   "id": "1bbf5d1d",
   "metadata": {},
   "outputs": [],
   "source": [
    "# Cell 264 - Scikit-learn: Linear Regression\n",
    "from sklearn.model_selection import train_test_split\n",
    "from sklearn.linear_model import LinearRegression\n",
    "import numpy as np\n",
    "X263 = np.array([[1], [2], [3], [4], [5]])\n",
    "y263 = np.array([1, 4, 9, 16, 25])\n",
    "X_train263, X_test263, y_train263, y_test263 = train_test_split(X263, y263, test_size=0.2)\n",
    "model263 = LinearRegression()\n",
    "model263.fit(X_train263, y_train263)\n",
    "print(model263.predict(X_test263))"
   ]
  },
  {
   "cell_type": "code",
   "execution_count": null,
   "id": "1efe10fe",
   "metadata": {},
   "outputs": [],
   "source": [
    "# Cell 265 - Pandas: Sorting\n",
    "import pandas as pd\n",
    "df264 = pd.DataFrame({'A': [1, 2, 3], 'B': [4, 5, 6]})\n",
    "print(df264)"
   ]
  },
  {
   "cell_type": "code",
   "execution_count": null,
   "id": "6c1c3a33",
   "metadata": {},
   "outputs": [],
   "source": [
    "# Cell 266 - Scikit-learn: Decision Trees\n",
    "from sklearn.model_selection import train_test_split\n",
    "from sklearn.linear_model import LinearRegression\n",
    "import numpy as np\n",
    "X265 = np.array([[1], [2], [3], [4], [5]])\n",
    "y265 = np.array([1, 4, 9, 16, 25])\n",
    "X_train265, X_test265, y_train265, y_test265 = train_test_split(X265, y265, test_size=0.2)\n",
    "model265 = LinearRegression()\n",
    "model265.fit(X_train265, y_train265)\n",
    "print(model265.predict(X_test265))"
   ]
  },
  {
   "cell_type": "code",
   "execution_count": null,
   "id": "c5d52efe",
   "metadata": {},
   "outputs": [],
   "source": [
    "# Cell 267 - Pandas: Merging DataFrames\n",
    "import pandas as pd\n",
    "df266 = pd.DataFrame({'A': [1, 2, 3], 'B': [4, 5, 6]})\n",
    "print(df266)"
   ]
  },
  {
   "cell_type": "code",
   "execution_count": null,
   "id": "009f9ff9",
   "metadata": {},
   "outputs": [],
   "source": [
    "# Cell 268 - Scikit-learn: Cross Validation\n",
    "from sklearn.model_selection import train_test_split\n",
    "from sklearn.linear_model import LinearRegression\n",
    "import numpy as np\n",
    "X267 = np.array([[1], [2], [3], [4], [5]])\n",
    "y267 = np.array([1, 4, 9, 16, 25])\n",
    "X_train267, X_test267, y_train267, y_test267 = train_test_split(X267, y267, test_size=0.2)\n",
    "model267 = LinearRegression()\n",
    "model267.fit(X_train267, y_train267)\n",
    "print(model267.predict(X_test267))"
   ]
  },
  {
   "cell_type": "code",
   "execution_count": null,
   "id": "da2ff454",
   "metadata": {},
   "outputs": [],
   "source": [
    "# Cell 269 - Pandas: Sorting\n",
    "import pandas as pd\n",
    "df268 = pd.DataFrame({'A': [1, 2, 3], 'B': [4, 5, 6]})\n",
    "print(df268)"
   ]
  },
  {
   "cell_type": "code",
   "execution_count": null,
   "id": "e184c1d4",
   "metadata": {},
   "outputs": [],
   "source": [
    "# Cell 270 - Scikit-learn: Decision Trees\n",
    "from sklearn.model_selection import train_test_split\n",
    "from sklearn.linear_model import LinearRegression\n",
    "import numpy as np\n",
    "X269 = np.array([[1], [2], [3], [4], [5]])\n",
    "y269 = np.array([1, 4, 9, 16, 25])\n",
    "X_train269, X_test269, y_train269, y_test269 = train_test_split(X269, y269, test_size=0.2)\n",
    "model269 = LinearRegression()\n",
    "model269.fit(X_train269, y_train269)\n",
    "print(model269.predict(X_test269))"
   ]
  },
  {
   "cell_type": "code",
   "execution_count": null,
   "id": "ad205162",
   "metadata": {},
   "outputs": [],
   "source": [
    "# Cell 271 - Pandas: Data Types\n",
    "import pandas as pd\n",
    "df270 = pd.DataFrame({'A': [1, 2, 3], 'B': [4, 5, 6]})\n",
    "print(df270)"
   ]
  },
  {
   "cell_type": "code",
   "execution_count": null,
   "id": "38f1a419",
   "metadata": {},
   "outputs": [],
   "source": [
    "# Cell 272 - Scikit-learn: Model Evaluation\n",
    "from sklearn.model_selection import train_test_split\n",
    "from sklearn.linear_model import LinearRegression\n",
    "import numpy as np\n",
    "X271 = np.array([[1], [2], [3], [4], [5]])\n",
    "y271 = np.array([1, 4, 9, 16, 25])\n",
    "X_train271, X_test271, y_train271, y_test271 = train_test_split(X271, y271, test_size=0.2)\n",
    "model271 = LinearRegression()\n",
    "model271.fit(X_train271, y_train271)\n",
    "print(model271.predict(X_test271))"
   ]
  },
  {
   "cell_type": "code",
   "execution_count": null,
   "id": "581e15e9",
   "metadata": {},
   "outputs": [],
   "source": [
    "# Cell 273 - Pandas: Data Types\n",
    "import pandas as pd\n",
    "df272 = pd.DataFrame({'A': [1, 2, 3], 'B': [4, 5, 6]})\n",
    "print(df272)"
   ]
  },
  {
   "cell_type": "code",
   "execution_count": null,
   "id": "f44da002",
   "metadata": {},
   "outputs": [],
   "source": [
    "# Cell 274 - Scikit-learn: Model Evaluation\n",
    "from sklearn.model_selection import train_test_split\n",
    "from sklearn.linear_model import LinearRegression\n",
    "import numpy as np\n",
    "X273 = np.array([[1], [2], [3], [4], [5]])\n",
    "y273 = np.array([1, 4, 9, 16, 25])\n",
    "X_train273, X_test273, y_train273, y_test273 = train_test_split(X273, y273, test_size=0.2)\n",
    "model273 = LinearRegression()\n",
    "model273.fit(X_train273, y_train273)\n",
    "print(model273.predict(X_test273))"
   ]
  },
  {
   "cell_type": "code",
   "execution_count": null,
   "id": "018e10f3",
   "metadata": {},
   "outputs": [],
   "source": [
    "# Cell 275 - Pandas: Adding Columns\n",
    "import pandas as pd\n",
    "df274 = pd.DataFrame({'A': [1, 2, 3], 'B': [4, 5, 6]})\n",
    "print(df274)"
   ]
  },
  {
   "cell_type": "code",
   "execution_count": null,
   "id": "ad23049c",
   "metadata": {},
   "outputs": [],
   "source": [
    "# Cell 276 - Scikit-learn: Train-Test Split\n",
    "from sklearn.model_selection import train_test_split\n",
    "from sklearn.linear_model import LinearRegression\n",
    "import numpy as np\n",
    "X275 = np.array([[1], [2], [3], [4], [5]])\n",
    "y275 = np.array([1, 4, 9, 16, 25])\n",
    "X_train275, X_test275, y_train275, y_test275 = train_test_split(X275, y275, test_size=0.2)\n",
    "model275 = LinearRegression()\n",
    "model275.fit(X_train275, y_train275)\n",
    "print(model275.predict(X_test275))"
   ]
  },
  {
   "cell_type": "code",
   "execution_count": null,
   "id": "91c4e3e0",
   "metadata": {},
   "outputs": [],
   "source": [
    "# Cell 277 - Pandas: Handling Missing Data\n",
    "import pandas as pd\n",
    "df276 = pd.DataFrame({'A': [1, 2, 3], 'B': [4, 5, 6]})\n",
    "print(df276)"
   ]
  },
  {
   "cell_type": "code",
   "execution_count": null,
   "id": "fc875521",
   "metadata": {},
   "outputs": [],
   "source": [
    "# Cell 278 - Scikit-learn: KNN\n",
    "from sklearn.model_selection import train_test_split\n",
    "from sklearn.linear_model import LinearRegression\n",
    "import numpy as np\n",
    "X277 = np.array([[1], [2], [3], [4], [5]])\n",
    "y277 = np.array([1, 4, 9, 16, 25])\n",
    "X_train277, X_test277, y_train277, y_test277 = train_test_split(X277, y277, test_size=0.2)\n",
    "model277 = LinearRegression()\n",
    "model277.fit(X_train277, y_train277)\n",
    "print(model277.predict(X_test277))"
   ]
  },
  {
   "cell_type": "code",
   "execution_count": null,
   "id": "5422c8af",
   "metadata": {},
   "outputs": [],
   "source": [
    "# Cell 279 - Pandas: Adding Columns\n",
    "import pandas as pd\n",
    "df278 = pd.DataFrame({'A': [1, 2, 3], 'B': [4, 5, 6]})\n",
    "print(df278)"
   ]
  },
  {
   "cell_type": "code",
   "execution_count": null,
   "id": "8c281d41",
   "metadata": {},
   "outputs": [],
   "source": [
    "# Cell 280 - Scikit-learn: Linear Regression\n",
    "from sklearn.model_selection import train_test_split\n",
    "from sklearn.linear_model import LinearRegression\n",
    "import numpy as np\n",
    "X279 = np.array([[1], [2], [3], [4], [5]])\n",
    "y279 = np.array([1, 4, 9, 16, 25])\n",
    "X_train279, X_test279, y_train279, y_test279 = train_test_split(X279, y279, test_size=0.2)\n",
    "model279 = LinearRegression()\n",
    "model279.fit(X_train279, y_train279)\n",
    "print(model279.predict(X_test279))"
   ]
  },
  {
   "cell_type": "code",
   "execution_count": null,
   "id": "116008cc",
   "metadata": {},
   "outputs": [],
   "source": [
    "# Cell 281 - Pandas: GroupBy\n",
    "import pandas as pd\n",
    "df280 = pd.DataFrame({'A': [1, 2, 3], 'B': [4, 5, 6]})\n",
    "print(df280)"
   ]
  },
  {
   "cell_type": "code",
   "execution_count": null,
   "id": "448037b8",
   "metadata": {},
   "outputs": [],
   "source": [
    "# Cell 282 - Scikit-learn: Logistic Regression\n",
    "from sklearn.model_selection import train_test_split\n",
    "from sklearn.linear_model import LinearRegression\n",
    "import numpy as np\n",
    "X281 = np.array([[1], [2], [3], [4], [5]])\n",
    "y281 = np.array([1, 4, 9, 16, 25])\n",
    "X_train281, X_test281, y_train281, y_test281 = train_test_split(X281, y281, test_size=0.2)\n",
    "model281 = LinearRegression()\n",
    "model281.fit(X_train281, y_train281)\n",
    "print(model281.predict(X_test281))"
   ]
  },
  {
   "cell_type": "code",
   "execution_count": null,
   "id": "20d676be",
   "metadata": {},
   "outputs": [],
   "source": [
    "# Cell 283 - Pandas: Sorting\n",
    "import pandas as pd\n",
    "df282 = pd.DataFrame({'A': [1, 2, 3], 'B': [4, 5, 6]})\n",
    "print(df282)"
   ]
  },
  {
   "cell_type": "code",
   "execution_count": null,
   "id": "4823bf7a",
   "metadata": {},
   "outputs": [],
   "source": [
    "# Cell 284 - Scikit-learn: Pipeline\n",
    "from sklearn.model_selection import train_test_split\n",
    "from sklearn.linear_model import LinearRegression\n",
    "import numpy as np\n",
    "X283 = np.array([[1], [2], [3], [4], [5]])\n",
    "y283 = np.array([1, 4, 9, 16, 25])\n",
    "X_train283, X_test283, y_train283, y_test283 = train_test_split(X283, y283, test_size=0.2)\n",
    "model283 = LinearRegression()\n",
    "model283.fit(X_train283, y_train283)\n",
    "print(model283.predict(X_test283))"
   ]
  },
  {
   "cell_type": "code",
   "execution_count": null,
   "id": "4848371f",
   "metadata": {},
   "outputs": [],
   "source": [
    "# Cell 285 - Pandas: Merging DataFrames\n",
    "import pandas as pd\n",
    "df284 = pd.DataFrame({'A': [1, 2, 3], 'B': [4, 5, 6]})\n",
    "print(df284)"
   ]
  },
  {
   "cell_type": "code",
   "execution_count": null,
   "id": "c6cb770f",
   "metadata": {},
   "outputs": [],
   "source": [
    "# Cell 286 - Scikit-learn: Linear Regression\n",
    "from sklearn.model_selection import train_test_split\n",
    "from sklearn.linear_model import LinearRegression\n",
    "import numpy as np\n",
    "X285 = np.array([[1], [2], [3], [4], [5]])\n",
    "y285 = np.array([1, 4, 9, 16, 25])\n",
    "X_train285, X_test285, y_train285, y_test285 = train_test_split(X285, y285, test_size=0.2)\n",
    "model285 = LinearRegression()\n",
    "model285.fit(X_train285, y_train285)\n",
    "print(model285.predict(X_test285))"
   ]
  },
  {
   "cell_type": "code",
   "execution_count": null,
   "id": "db5a9ace",
   "metadata": {},
   "outputs": [],
   "source": [
    "# Cell 287 - Pandas: Data Types\n",
    "import pandas as pd\n",
    "df286 = pd.DataFrame({'A': [1, 2, 3], 'B': [4, 5, 6]})\n",
    "print(df286)"
   ]
  },
  {
   "cell_type": "code",
   "execution_count": null,
   "id": "63ec023c",
   "metadata": {},
   "outputs": [],
   "source": [
    "# Cell 288 - Scikit-learn: Encoding Categorical Variables\n",
    "from sklearn.model_selection import train_test_split\n",
    "from sklearn.linear_model import LinearRegression\n",
    "import numpy as np\n",
    "X287 = np.array([[1], [2], [3], [4], [5]])\n",
    "y287 = np.array([1, 4, 9, 16, 25])\n",
    "X_train287, X_test287, y_train287, y_test287 = train_test_split(X287, y287, test_size=0.2)\n",
    "model287 = LinearRegression()\n",
    "model287.fit(X_train287, y_train287)\n",
    "print(model287.predict(X_test287))"
   ]
  },
  {
   "cell_type": "code",
   "execution_count": null,
   "id": "0ec491bc",
   "metadata": {},
   "outputs": [],
   "source": [
    "# Cell 289 - Pandas: Creating DataFrames\n",
    "import pandas as pd\n",
    "df288 = pd.DataFrame({'A': [1, 2, 3], 'B': [4, 5, 6]})\n",
    "print(df288)"
   ]
  },
  {
   "cell_type": "code",
   "execution_count": null,
   "id": "7a0971a0",
   "metadata": {},
   "outputs": [],
   "source": [
    "# Cell 290 - Scikit-learn: Cross Validation\n",
    "from sklearn.model_selection import train_test_split\n",
    "from sklearn.linear_model import LinearRegression\n",
    "import numpy as np\n",
    "X289 = np.array([[1], [2], [3], [4], [5]])\n",
    "y289 = np.array([1, 4, 9, 16, 25])\n",
    "X_train289, X_test289, y_train289, y_test289 = train_test_split(X289, y289, test_size=0.2)\n",
    "model289 = LinearRegression()\n",
    "model289.fit(X_train289, y_train289)\n",
    "print(model289.predict(X_test289))"
   ]
  },
  {
   "cell_type": "code",
   "execution_count": null,
   "id": "582cc7b5",
   "metadata": {},
   "outputs": [],
   "source": [
    "# Cell 291 - Pandas: Dropping Columns\n",
    "import pandas as pd\n",
    "df290 = pd.DataFrame({'A': [1, 2, 3], 'B': [4, 5, 6]})\n",
    "print(df290)"
   ]
  },
  {
   "cell_type": "code",
   "execution_count": null,
   "id": "72f7ce36",
   "metadata": {},
   "outputs": [],
   "source": [
    "# Cell 292 - Scikit-learn: Logistic Regression\n",
    "from sklearn.model_selection import train_test_split\n",
    "from sklearn.linear_model import LinearRegression\n",
    "import numpy as np\n",
    "X291 = np.array([[1], [2], [3], [4], [5]])\n",
    "y291 = np.array([1, 4, 9, 16, 25])\n",
    "X_train291, X_test291, y_train291, y_test291 = train_test_split(X291, y291, test_size=0.2)\n",
    "model291 = LinearRegression()\n",
    "model291.fit(X_train291, y_train291)\n",
    "print(model291.predict(X_test291))"
   ]
  },
  {
   "cell_type": "code",
   "execution_count": null,
   "id": "0f7e8e86",
   "metadata": {},
   "outputs": [],
   "source": [
    "# Cell 293 - Pandas: Sorting\n",
    "import pandas as pd\n",
    "df292 = pd.DataFrame({'A': [1, 2, 3], 'B': [4, 5, 6]})\n",
    "print(df292)"
   ]
  },
  {
   "cell_type": "code",
   "execution_count": null,
   "id": "1f24a53f",
   "metadata": {},
   "outputs": [],
   "source": [
    "# Cell 294 - Scikit-learn: SVM\n",
    "from sklearn.model_selection import train_test_split\n",
    "from sklearn.linear_model import LinearRegression\n",
    "import numpy as np\n",
    "X293 = np.array([[1], [2], [3], [4], [5]])\n",
    "y293 = np.array([1, 4, 9, 16, 25])\n",
    "X_train293, X_test293, y_train293, y_test293 = train_test_split(X293, y293, test_size=0.2)\n",
    "model293 = LinearRegression()\n",
    "model293.fit(X_train293, y_train293)\n",
    "print(model293.predict(X_test293))"
   ]
  },
  {
   "cell_type": "code",
   "execution_count": null,
   "id": "54978a86",
   "metadata": {},
   "outputs": [],
   "source": [
    "# Cell 295 - Pandas: Handling Missing Data\n",
    "import pandas as pd\n",
    "df294 = pd.DataFrame({'A': [1, 2, 3], 'B': [4, 5, 6]})\n",
    "print(df294)"
   ]
  },
  {
   "cell_type": "code",
   "execution_count": null,
   "id": "5f07fa8d",
   "metadata": {},
   "outputs": [],
   "source": [
    "# Cell 296 - Scikit-learn: SVM\n",
    "from sklearn.model_selection import train_test_split\n",
    "from sklearn.linear_model import LinearRegression\n",
    "import numpy as np\n",
    "X295 = np.array([[1], [2], [3], [4], [5]])\n",
    "y295 = np.array([1, 4, 9, 16, 25])\n",
    "X_train295, X_test295, y_train295, y_test295 = train_test_split(X295, y295, test_size=0.2)\n",
    "model295 = LinearRegression()\n",
    "model295.fit(X_train295, y_train295)\n",
    "print(model295.predict(X_test295))"
   ]
  },
  {
   "cell_type": "code",
   "execution_count": null,
   "id": "ce4f69b6",
   "metadata": {},
   "outputs": [],
   "source": [
    "# Cell 297 - Pandas: GroupBy\n",
    "import pandas as pd\n",
    "df296 = pd.DataFrame({'A': [1, 2, 3], 'B': [4, 5, 6]})\n",
    "print(df296)"
   ]
  },
  {
   "cell_type": "code",
   "execution_count": null,
   "id": "d4b71a25",
   "metadata": {},
   "outputs": [],
   "source": [
    "# Cell 298 - Scikit-learn: Logistic Regression\n",
    "from sklearn.model_selection import train_test_split\n",
    "from sklearn.linear_model import LinearRegression\n",
    "import numpy as np\n",
    "X297 = np.array([[1], [2], [3], [4], [5]])\n",
    "y297 = np.array([1, 4, 9, 16, 25])\n",
    "X_train297, X_test297, y_train297, y_test297 = train_test_split(X297, y297, test_size=0.2)\n",
    "model297 = LinearRegression()\n",
    "model297.fit(X_train297, y_train297)\n",
    "print(model297.predict(X_test297))"
   ]
  },
  {
   "cell_type": "code",
   "execution_count": null,
   "id": "699802db",
   "metadata": {},
   "outputs": [],
   "source": [
    "# Cell 299 - Pandas: Data Types\n",
    "import pandas as pd\n",
    "df298 = pd.DataFrame({'A': [1, 2, 3], 'B': [4, 5, 6]})\n",
    "print(df298)"
   ]
  },
  {
   "cell_type": "code",
   "execution_count": null,
   "id": "7cbf4808",
   "metadata": {},
   "outputs": [],
   "source": [
    "# Cell 300 - Scikit-learn: Train-Test Split\n",
    "from sklearn.model_selection import train_test_split\n",
    "from sklearn.linear_model import LinearRegression\n",
    "import numpy as np\n",
    "X299 = np.array([[1], [2], [3], [4], [5]])\n",
    "y299 = np.array([1, 4, 9, 16, 25])\n",
    "X_train299, X_test299, y_train299, y_test299 = train_test_split(X299, y299, test_size=0.2)\n",
    "model299 = LinearRegression()\n",
    "model299.fit(X_train299, y_train299)\n",
    "print(model299.predict(X_test299))"
   ]
  },
  {
   "cell_type": "code",
   "execution_count": null,
   "id": "a1fcbbe5",
   "metadata": {},
   "outputs": [],
   "source": [
    "# Cell 301 - Pandas: Descriptive Stats\n",
    "import pandas as pd\n",
    "df300 = pd.DataFrame({'A': [1, 2, 3], 'B': [4, 5, 6]})\n",
    "print(df300)"
   ]
  },
  {
   "cell_type": "code",
   "execution_count": null,
   "id": "81bf1a21",
   "metadata": {},
   "outputs": [],
   "source": [
    "# Cell 302 - Scikit-learn: Pipeline\n",
    "from sklearn.model_selection import train_test_split\n",
    "from sklearn.linear_model import LinearRegression\n",
    "import numpy as np\n",
    "X301 = np.array([[1], [2], [3], [4], [5]])\n",
    "y301 = np.array([1, 4, 9, 16, 25])\n",
    "X_train301, X_test301, y_train301, y_test301 = train_test_split(X301, y301, test_size=0.2)\n",
    "model301 = LinearRegression()\n",
    "model301.fit(X_train301, y_train301)\n",
    "print(model301.predict(X_test301))"
   ]
  },
  {
   "cell_type": "code",
   "execution_count": null,
   "id": "3ea12644",
   "metadata": {},
   "outputs": [],
   "source": [
    "# Cell 303 - Pandas: Descriptive Stats\n",
    "import pandas as pd\n",
    "df302 = pd.DataFrame({'A': [1, 2, 3], 'B': [4, 5, 6]})\n",
    "print(df302)"
   ]
  },
  {
   "cell_type": "code",
   "execution_count": null,
   "id": "e2a17d40",
   "metadata": {},
   "outputs": [],
   "source": [
    "# Cell 304 - Scikit-learn: Feature Scaling\n",
    "from sklearn.model_selection import train_test_split\n",
    "from sklearn.linear_model import LinearRegression\n",
    "import numpy as np\n",
    "X303 = np.array([[1], [2], [3], [4], [5]])\n",
    "y303 = np.array([1, 4, 9, 16, 25])\n",
    "X_train303, X_test303, y_train303, y_test303 = train_test_split(X303, y303, test_size=0.2)\n",
    "model303 = LinearRegression()\n",
    "model303.fit(X_train303, y_train303)\n",
    "print(model303.predict(X_test303))"
   ]
  },
  {
   "cell_type": "code",
   "execution_count": null,
   "id": "1a791d1f",
   "metadata": {},
   "outputs": [],
   "source": [
    "# Cell 305 - Pandas: Reading CSV\n",
    "import pandas as pd\n",
    "df304 = pd.DataFrame({'A': [1, 2, 3], 'B': [4, 5, 6]})\n",
    "print(df304)"
   ]
  },
  {
   "cell_type": "code",
   "execution_count": null,
   "id": "c06119a7",
   "metadata": {},
   "outputs": [],
   "source": [
    "# Cell 306 - Scikit-learn: Train-Test Split\n",
    "from sklearn.model_selection import train_test_split\n",
    "from sklearn.linear_model import LinearRegression\n",
    "import numpy as np\n",
    "X305 = np.array([[1], [2], [3], [4], [5]])\n",
    "y305 = np.array([1, 4, 9, 16, 25])\n",
    "X_train305, X_test305, y_train305, y_test305 = train_test_split(X305, y305, test_size=0.2)\n",
    "model305 = LinearRegression()\n",
    "model305.fit(X_train305, y_train305)\n",
    "print(model305.predict(X_test305))"
   ]
  },
  {
   "cell_type": "code",
   "execution_count": null,
   "id": "54e6d4bb",
   "metadata": {},
   "outputs": [],
   "source": [
    "# Cell 307 - Pandas: Sorting\n",
    "import pandas as pd\n",
    "df306 = pd.DataFrame({'A': [1, 2, 3], 'B': [4, 5, 6]})\n",
    "print(df306)"
   ]
  },
  {
   "cell_type": "code",
   "execution_count": null,
   "id": "854590a8",
   "metadata": {},
   "outputs": [],
   "source": [
    "# Cell 308 - Scikit-learn: Encoding Categorical Variables\n",
    "from sklearn.model_selection import train_test_split\n",
    "from sklearn.linear_model import LinearRegression\n",
    "import numpy as np\n",
    "X307 = np.array([[1], [2], [3], [4], [5]])\n",
    "y307 = np.array([1, 4, 9, 16, 25])\n",
    "X_train307, X_test307, y_train307, y_test307 = train_test_split(X307, y307, test_size=0.2)\n",
    "model307 = LinearRegression()\n",
    "model307.fit(X_train307, y_train307)\n",
    "print(model307.predict(X_test307))"
   ]
  },
  {
   "cell_type": "code",
   "execution_count": null,
   "id": "f7a92177",
   "metadata": {},
   "outputs": [],
   "source": [
    "# Cell 309 - Pandas: Dropping Columns\n",
    "import pandas as pd\n",
    "df308 = pd.DataFrame({'A': [1, 2, 3], 'B': [4, 5, 6]})\n",
    "print(df308)"
   ]
  },
  {
   "cell_type": "code",
   "execution_count": null,
   "id": "40cc6463",
   "metadata": {},
   "outputs": [],
   "source": [
    "# Cell 310 - Scikit-learn: Random Forest\n",
    "from sklearn.model_selection import train_test_split\n",
    "from sklearn.linear_model import LinearRegression\n",
    "import numpy as np\n",
    "X309 = np.array([[1], [2], [3], [4], [5]])\n",
    "y309 = np.array([1, 4, 9, 16, 25])\n",
    "X_train309, X_test309, y_train309, y_test309 = train_test_split(X309, y309, test_size=0.2)\n",
    "model309 = LinearRegression()\n",
    "model309.fit(X_train309, y_train309)\n",
    "print(model309.predict(X_test309))"
   ]
  },
  {
   "cell_type": "code",
   "execution_count": null,
   "id": "cb0103f7",
   "metadata": {},
   "outputs": [],
   "source": [
    "# Cell 311 - Pandas: Reading CSV\n",
    "import pandas as pd\n",
    "df310 = pd.DataFrame({'A': [1, 2, 3], 'B': [4, 5, 6]})\n",
    "print(df310)"
   ]
  },
  {
   "cell_type": "code",
   "execution_count": null,
   "id": "95c683fb",
   "metadata": {},
   "outputs": [],
   "source": [
    "# Cell 312 - Scikit-learn: Model Evaluation\n",
    "from sklearn.model_selection import train_test_split\n",
    "from sklearn.linear_model import LinearRegression\n",
    "import numpy as np\n",
    "X311 = np.array([[1], [2], [3], [4], [5]])\n",
    "y311 = np.array([1, 4, 9, 16, 25])\n",
    "X_train311, X_test311, y_train311, y_test311 = train_test_split(X311, y311, test_size=0.2)\n",
    "model311 = LinearRegression()\n",
    "model311.fit(X_train311, y_train311)\n",
    "print(model311.predict(X_test311))"
   ]
  },
  {
   "cell_type": "code",
   "execution_count": null,
   "id": "f67374aa",
   "metadata": {},
   "outputs": [],
   "source": [
    "# Cell 313 - Pandas: Adding Columns\n",
    "import pandas as pd\n",
    "df312 = pd.DataFrame({'A': [1, 2, 3], 'B': [4, 5, 6]})\n",
    "print(df312)"
   ]
  },
  {
   "cell_type": "code",
   "execution_count": null,
   "id": "0611310f",
   "metadata": {},
   "outputs": [],
   "source": [
    "# Cell 314 - Scikit-learn: Feature Scaling\n",
    "from sklearn.model_selection import train_test_split\n",
    "from sklearn.linear_model import LinearRegression\n",
    "import numpy as np\n",
    "X313 = np.array([[1], [2], [3], [4], [5]])\n",
    "y313 = np.array([1, 4, 9, 16, 25])\n",
    "X_train313, X_test313, y_train313, y_test313 = train_test_split(X313, y313, test_size=0.2)\n",
    "model313 = LinearRegression()\n",
    "model313.fit(X_train313, y_train313)\n",
    "print(model313.predict(X_test313))"
   ]
  },
  {
   "cell_type": "code",
   "execution_count": null,
   "id": "f0d6da21",
   "metadata": {},
   "outputs": [],
   "source": [
    "# Cell 315 - Pandas: Merging DataFrames\n",
    "import pandas as pd\n",
    "df314 = pd.DataFrame({'A': [1, 2, 3], 'B': [4, 5, 6]})\n",
    "print(df314)"
   ]
  },
  {
   "cell_type": "code",
   "execution_count": null,
   "id": "efcaf1e4",
   "metadata": {},
   "outputs": [],
   "source": [
    "# Cell 316 - Scikit-learn: Logistic Regression\n",
    "from sklearn.model_selection import train_test_split\n",
    "from sklearn.linear_model import LinearRegression\n",
    "import numpy as np\n",
    "X315 = np.array([[1], [2], [3], [4], [5]])\n",
    "y315 = np.array([1, 4, 9, 16, 25])\n",
    "X_train315, X_test315, y_train315, y_test315 = train_test_split(X315, y315, test_size=0.2)\n",
    "model315 = LinearRegression()\n",
    "model315.fit(X_train315, y_train315)\n",
    "print(model315.predict(X_test315))"
   ]
  },
  {
   "cell_type": "code",
   "execution_count": null,
   "id": "113412bf",
   "metadata": {},
   "outputs": [],
   "source": [
    "# Cell 317 - Pandas: Merging DataFrames\n",
    "import pandas as pd\n",
    "df316 = pd.DataFrame({'A': [1, 2, 3], 'B': [4, 5, 6]})\n",
    "print(df316)"
   ]
  },
  {
   "cell_type": "code",
   "execution_count": null,
   "id": "24cc1b03",
   "metadata": {},
   "outputs": [],
   "source": [
    "# Cell 318 - Scikit-learn: Encoding Categorical Variables\n",
    "from sklearn.model_selection import train_test_split\n",
    "from sklearn.linear_model import LinearRegression\n",
    "import numpy as np\n",
    "X317 = np.array([[1], [2], [3], [4], [5]])\n",
    "y317 = np.array([1, 4, 9, 16, 25])\n",
    "X_train317, X_test317, y_train317, y_test317 = train_test_split(X317, y317, test_size=0.2)\n",
    "model317 = LinearRegression()\n",
    "model317.fit(X_train317, y_train317)\n",
    "print(model317.predict(X_test317))"
   ]
  },
  {
   "cell_type": "code",
   "execution_count": null,
   "id": "041591a5",
   "metadata": {},
   "outputs": [],
   "source": [
    "# Cell 319 - Pandas: Dropping Columns\n",
    "import pandas as pd\n",
    "df318 = pd.DataFrame({'A': [1, 2, 3], 'B': [4, 5, 6]})\n",
    "print(df318)"
   ]
  },
  {
   "cell_type": "code",
   "execution_count": null,
   "id": "b2d30851",
   "metadata": {},
   "outputs": [],
   "source": [
    "# Cell 320 - Scikit-learn: Decision Trees\n",
    "from sklearn.model_selection import train_test_split\n",
    "from sklearn.linear_model import LinearRegression\n",
    "import numpy as np\n",
    "X319 = np.array([[1], [2], [3], [4], [5]])\n",
    "y319 = np.array([1, 4, 9, 16, 25])\n",
    "X_train319, X_test319, y_train319, y_test319 = train_test_split(X319, y319, test_size=0.2)\n",
    "model319 = LinearRegression()\n",
    "model319.fit(X_train319, y_train319)\n",
    "print(model319.predict(X_test319))"
   ]
  },
  {
   "cell_type": "code",
   "execution_count": null,
   "id": "f9ebdb96",
   "metadata": {},
   "outputs": [],
   "source": [
    "# Cell 321 - Pandas: Data Types\n",
    "import pandas as pd\n",
    "df320 = pd.DataFrame({'A': [1, 2, 3], 'B': [4, 5, 6]})\n",
    "print(df320)"
   ]
  },
  {
   "cell_type": "code",
   "execution_count": null,
   "id": "3085b8f2",
   "metadata": {},
   "outputs": [],
   "source": [
    "# Cell 322 - Scikit-learn: Feature Scaling\n",
    "from sklearn.model_selection import train_test_split\n",
    "from sklearn.linear_model import LinearRegression\n",
    "import numpy as np\n",
    "X321 = np.array([[1], [2], [3], [4], [5]])\n",
    "y321 = np.array([1, 4, 9, 16, 25])\n",
    "X_train321, X_test321, y_train321, y_test321 = train_test_split(X321, y321, test_size=0.2)\n",
    "model321 = LinearRegression()\n",
    "model321.fit(X_train321, y_train321)\n",
    "print(model321.predict(X_test321))"
   ]
  },
  {
   "cell_type": "code",
   "execution_count": null,
   "id": "bf3e4f27",
   "metadata": {},
   "outputs": [],
   "source": [
    "# Cell 323 - Pandas: Filtering Rows\n",
    "import pandas as pd\n",
    "df322 = pd.DataFrame({'A': [1, 2, 3], 'B': [4, 5, 6]})\n",
    "print(df322)"
   ]
  },
  {
   "cell_type": "code",
   "execution_count": null,
   "id": "ac7c04ef",
   "metadata": {},
   "outputs": [],
   "source": [
    "# Cell 324 - Scikit-learn: Pipeline\n",
    "from sklearn.model_selection import train_test_split\n",
    "from sklearn.linear_model import LinearRegression\n",
    "import numpy as np\n",
    "X323 = np.array([[1], [2], [3], [4], [5]])\n",
    "y323 = np.array([1, 4, 9, 16, 25])\n",
    "X_train323, X_test323, y_train323, y_test323 = train_test_split(X323, y323, test_size=0.2)\n",
    "model323 = LinearRegression()\n",
    "model323.fit(X_train323, y_train323)\n",
    "print(model323.predict(X_test323))"
   ]
  },
  {
   "cell_type": "code",
   "execution_count": null,
   "id": "58651bfc",
   "metadata": {},
   "outputs": [],
   "source": [
    "# Cell 325 - Pandas: Creating DataFrames\n",
    "import pandas as pd\n",
    "df324 = pd.DataFrame({'A': [1, 2, 3], 'B': [4, 5, 6]})\n",
    "print(df324)"
   ]
  },
  {
   "cell_type": "code",
   "execution_count": null,
   "id": "6bec9b6d",
   "metadata": {},
   "outputs": [],
   "source": [
    "# Cell 326 - Scikit-learn: Random Forest\n",
    "from sklearn.model_selection import train_test_split\n",
    "from sklearn.linear_model import LinearRegression\n",
    "import numpy as np\n",
    "X325 = np.array([[1], [2], [3], [4], [5]])\n",
    "y325 = np.array([1, 4, 9, 16, 25])\n",
    "X_train325, X_test325, y_train325, y_test325 = train_test_split(X325, y325, test_size=0.2)\n",
    "model325 = LinearRegression()\n",
    "model325.fit(X_train325, y_train325)\n",
    "print(model325.predict(X_test325))"
   ]
  },
  {
   "cell_type": "code",
   "execution_count": null,
   "id": "7d07e7c9",
   "metadata": {},
   "outputs": [],
   "source": [
    "# Cell 327 - Pandas: GroupBy\n",
    "import pandas as pd\n",
    "df326 = pd.DataFrame({'A': [1, 2, 3], 'B': [4, 5, 6]})\n",
    "print(df326)"
   ]
  },
  {
   "cell_type": "code",
   "execution_count": null,
   "id": "089fd31b",
   "metadata": {},
   "outputs": [],
   "source": [
    "# Cell 328 - Scikit-learn: Pipeline\n",
    "from sklearn.model_selection import train_test_split\n",
    "from sklearn.linear_model import LinearRegression\n",
    "import numpy as np\n",
    "X327 = np.array([[1], [2], [3], [4], [5]])\n",
    "y327 = np.array([1, 4, 9, 16, 25])\n",
    "X_train327, X_test327, y_train327, y_test327 = train_test_split(X327, y327, test_size=0.2)\n",
    "model327 = LinearRegression()\n",
    "model327.fit(X_train327, y_train327)\n",
    "print(model327.predict(X_test327))"
   ]
  },
  {
   "cell_type": "code",
   "execution_count": null,
   "id": "322e82bc",
   "metadata": {},
   "outputs": [],
   "source": [
    "# Cell 329 - Pandas: Data Types\n",
    "import pandas as pd\n",
    "df328 = pd.DataFrame({'A': [1, 2, 3], 'B': [4, 5, 6]})\n",
    "print(df328)"
   ]
  },
  {
   "cell_type": "code",
   "execution_count": null,
   "id": "1c3eac3a",
   "metadata": {},
   "outputs": [],
   "source": [
    "# Cell 330 - Scikit-learn: SVM\n",
    "from sklearn.model_selection import train_test_split\n",
    "from sklearn.linear_model import LinearRegression\n",
    "import numpy as np\n",
    "X329 = np.array([[1], [2], [3], [4], [5]])\n",
    "y329 = np.array([1, 4, 9, 16, 25])\n",
    "X_train329, X_test329, y_train329, y_test329 = train_test_split(X329, y329, test_size=0.2)\n",
    "model329 = LinearRegression()\n",
    "model329.fit(X_train329, y_train329)\n",
    "print(model329.predict(X_test329))"
   ]
  },
  {
   "cell_type": "code",
   "execution_count": null,
   "id": "5327b988",
   "metadata": {},
   "outputs": [],
   "source": [
    "# Cell 331 - Pandas: Descriptive Stats\n",
    "import pandas as pd\n",
    "df330 = pd.DataFrame({'A': [1, 2, 3], 'B': [4, 5, 6]})\n",
    "print(df330)"
   ]
  },
  {
   "cell_type": "code",
   "execution_count": null,
   "id": "23afc82f",
   "metadata": {},
   "outputs": [],
   "source": [
    "# Cell 332 - Scikit-learn: Model Evaluation\n",
    "from sklearn.model_selection import train_test_split\n",
    "from sklearn.linear_model import LinearRegression\n",
    "import numpy as np\n",
    "X331 = np.array([[1], [2], [3], [4], [5]])\n",
    "y331 = np.array([1, 4, 9, 16, 25])\n",
    "X_train331, X_test331, y_train331, y_test331 = train_test_split(X331, y331, test_size=0.2)\n",
    "model331 = LinearRegression()\n",
    "model331.fit(X_train331, y_train331)\n",
    "print(model331.predict(X_test331))"
   ]
  },
  {
   "cell_type": "code",
   "execution_count": null,
   "id": "81c914ea",
   "metadata": {},
   "outputs": [],
   "source": [
    "# Cell 333 - Pandas: Handling Missing Data\n",
    "import pandas as pd\n",
    "df332 = pd.DataFrame({'A': [1, 2, 3], 'B': [4, 5, 6]})\n",
    "print(df332)"
   ]
  },
  {
   "cell_type": "code",
   "execution_count": null,
   "id": "8ec9768e",
   "metadata": {},
   "outputs": [],
   "source": [
    "# Cell 334 - Scikit-learn: Model Evaluation\n",
    "from sklearn.model_selection import train_test_split\n",
    "from sklearn.linear_model import LinearRegression\n",
    "import numpy as np\n",
    "X333 = np.array([[1], [2], [3], [4], [5]])\n",
    "y333 = np.array([1, 4, 9, 16, 25])\n",
    "X_train333, X_test333, y_train333, y_test333 = train_test_split(X333, y333, test_size=0.2)\n",
    "model333 = LinearRegression()\n",
    "model333.fit(X_train333, y_train333)\n",
    "print(model333.predict(X_test333))"
   ]
  },
  {
   "cell_type": "code",
   "execution_count": null,
   "id": "5c3a9a63",
   "metadata": {},
   "outputs": [],
   "source": [
    "# Cell 335 - Pandas: Reading CSV\n",
    "import pandas as pd\n",
    "df334 = pd.DataFrame({'A': [1, 2, 3], 'B': [4, 5, 6]})\n",
    "print(df334)"
   ]
  },
  {
   "cell_type": "code",
   "execution_count": null,
   "id": "68155828",
   "metadata": {},
   "outputs": [],
   "source": [
    "# Cell 336 - Scikit-learn: Pipeline\n",
    "from sklearn.model_selection import train_test_split\n",
    "from sklearn.linear_model import LinearRegression\n",
    "import numpy as np\n",
    "X335 = np.array([[1], [2], [3], [4], [5]])\n",
    "y335 = np.array([1, 4, 9, 16, 25])\n",
    "X_train335, X_test335, y_train335, y_test335 = train_test_split(X335, y335, test_size=0.2)\n",
    "model335 = LinearRegression()\n",
    "model335.fit(X_train335, y_train335)\n",
    "print(model335.predict(X_test335))"
   ]
  },
  {
   "cell_type": "code",
   "execution_count": null,
   "id": "086d9c25",
   "metadata": {},
   "outputs": [],
   "source": [
    "# Cell 337 - Pandas: GroupBy\n",
    "import pandas as pd\n",
    "df336 = pd.DataFrame({'A': [1, 2, 3], 'B': [4, 5, 6]})\n",
    "print(df336)"
   ]
  },
  {
   "cell_type": "code",
   "execution_count": null,
   "id": "370a048a",
   "metadata": {},
   "outputs": [],
   "source": [
    "# Cell 338 - Scikit-learn: Feature Scaling\n",
    "from sklearn.model_selection import train_test_split\n",
    "from sklearn.linear_model import LinearRegression\n",
    "import numpy as np\n",
    "X337 = np.array([[1], [2], [3], [4], [5]])\n",
    "y337 = np.array([1, 4, 9, 16, 25])\n",
    "X_train337, X_test337, y_train337, y_test337 = train_test_split(X337, y337, test_size=0.2)\n",
    "model337 = LinearRegression()\n",
    "model337.fit(X_train337, y_train337)\n",
    "print(model337.predict(X_test337))"
   ]
  },
  {
   "cell_type": "code",
   "execution_count": null,
   "id": "54569d46",
   "metadata": {},
   "outputs": [],
   "source": [
    "# Cell 339 - Pandas: Dropping Columns\n",
    "import pandas as pd\n",
    "df338 = pd.DataFrame({'A': [1, 2, 3], 'B': [4, 5, 6]})\n",
    "print(df338)"
   ]
  },
  {
   "cell_type": "code",
   "execution_count": null,
   "id": "1fb6b575",
   "metadata": {},
   "outputs": [],
   "source": [
    "# Cell 340 - Scikit-learn: Logistic Regression\n",
    "from sklearn.model_selection import train_test_split\n",
    "from sklearn.linear_model import LinearRegression\n",
    "import numpy as np\n",
    "X339 = np.array([[1], [2], [3], [4], [5]])\n",
    "y339 = np.array([1, 4, 9, 16, 25])\n",
    "X_train339, X_test339, y_train339, y_test339 = train_test_split(X339, y339, test_size=0.2)\n",
    "model339 = LinearRegression()\n",
    "model339.fit(X_train339, y_train339)\n",
    "print(model339.predict(X_test339))"
   ]
  },
  {
   "cell_type": "code",
   "execution_count": null,
   "id": "d92584e5",
   "metadata": {},
   "outputs": [],
   "source": [
    "# Cell 341 - Pandas: Data Types\n",
    "import pandas as pd\n",
    "df340 = pd.DataFrame({'A': [1, 2, 3], 'B': [4, 5, 6]})\n",
    "print(df340)"
   ]
  },
  {
   "cell_type": "code",
   "execution_count": null,
   "id": "f4ea4344",
   "metadata": {},
   "outputs": [],
   "source": [
    "# Cell 342 - Scikit-learn: KNN\n",
    "from sklearn.model_selection import train_test_split\n",
    "from sklearn.linear_model import LinearRegression\n",
    "import numpy as np\n",
    "X341 = np.array([[1], [2], [3], [4], [5]])\n",
    "y341 = np.array([1, 4, 9, 16, 25])\n",
    "X_train341, X_test341, y_train341, y_test341 = train_test_split(X341, y341, test_size=0.2)\n",
    "model341 = LinearRegression()\n",
    "model341.fit(X_train341, y_train341)\n",
    "print(model341.predict(X_test341))"
   ]
  },
  {
   "cell_type": "code",
   "execution_count": null,
   "id": "4543fed8",
   "metadata": {},
   "outputs": [],
   "source": [
    "# Cell 343 - Pandas: Filtering Rows\n",
    "import pandas as pd\n",
    "df342 = pd.DataFrame({'A': [1, 2, 3], 'B': [4, 5, 6]})\n",
    "print(df342)"
   ]
  },
  {
   "cell_type": "code",
   "execution_count": null,
   "id": "bb7ec0a6",
   "metadata": {},
   "outputs": [],
   "source": [
    "# Cell 344 - Scikit-learn: Cross Validation\n",
    "from sklearn.model_selection import train_test_split\n",
    "from sklearn.linear_model import LinearRegression\n",
    "import numpy as np\n",
    "X343 = np.array([[1], [2], [3], [4], [5]])\n",
    "y343 = np.array([1, 4, 9, 16, 25])\n",
    "X_train343, X_test343, y_train343, y_test343 = train_test_split(X343, y343, test_size=0.2)\n",
    "model343 = LinearRegression()\n",
    "model343.fit(X_train343, y_train343)\n",
    "print(model343.predict(X_test343))"
   ]
  },
  {
   "cell_type": "code",
   "execution_count": null,
   "id": "e8f5951d",
   "metadata": {},
   "outputs": [],
   "source": [
    "# Cell 345 - Pandas: Data Types\n",
    "import pandas as pd\n",
    "df344 = pd.DataFrame({'A': [1, 2, 3], 'B': [4, 5, 6]})\n",
    "print(df344)"
   ]
  },
  {
   "cell_type": "code",
   "execution_count": null,
   "id": "3018f5c3",
   "metadata": {},
   "outputs": [],
   "source": [
    "# Cell 346 - Scikit-learn: Feature Scaling\n",
    "from sklearn.model_selection import train_test_split\n",
    "from sklearn.linear_model import LinearRegression\n",
    "import numpy as np\n",
    "X345 = np.array([[1], [2], [3], [4], [5]])\n",
    "y345 = np.array([1, 4, 9, 16, 25])\n",
    "X_train345, X_test345, y_train345, y_test345 = train_test_split(X345, y345, test_size=0.2)\n",
    "model345 = LinearRegression()\n",
    "model345.fit(X_train345, y_train345)\n",
    "print(model345.predict(X_test345))"
   ]
  },
  {
   "cell_type": "code",
   "execution_count": null,
   "id": "cd5d309d",
   "metadata": {},
   "outputs": [],
   "source": [
    "# Cell 347 - Pandas: Data Selection\n",
    "import pandas as pd\n",
    "df346 = pd.DataFrame({'A': [1, 2, 3], 'B': [4, 5, 6]})\n",
    "print(df346)"
   ]
  },
  {
   "cell_type": "code",
   "execution_count": null,
   "id": "3a93e15b",
   "metadata": {},
   "outputs": [],
   "source": [
    "# Cell 348 - Scikit-learn: SVM\n",
    "from sklearn.model_selection import train_test_split\n",
    "from sklearn.linear_model import LinearRegression\n",
    "import numpy as np\n",
    "X347 = np.array([[1], [2], [3], [4], [5]])\n",
    "y347 = np.array([1, 4, 9, 16, 25])\n",
    "X_train347, X_test347, y_train347, y_test347 = train_test_split(X347, y347, test_size=0.2)\n",
    "model347 = LinearRegression()\n",
    "model347.fit(X_train347, y_train347)\n",
    "print(model347.predict(X_test347))"
   ]
  },
  {
   "cell_type": "code",
   "execution_count": null,
   "id": "f5833443",
   "metadata": {},
   "outputs": [],
   "source": [
    "# Cell 349 - Pandas: Descriptive Stats\n",
    "import pandas as pd\n",
    "df348 = pd.DataFrame({'A': [1, 2, 3], 'B': [4, 5, 6]})\n",
    "print(df348)"
   ]
  },
  {
   "cell_type": "code",
   "execution_count": null,
   "id": "8cb81faa",
   "metadata": {},
   "outputs": [],
   "source": [
    "# Cell 350 - Scikit-learn: Decision Trees\n",
    "from sklearn.model_selection import train_test_split\n",
    "from sklearn.linear_model import LinearRegression\n",
    "import numpy as np\n",
    "X349 = np.array([[1], [2], [3], [4], [5]])\n",
    "y349 = np.array([1, 4, 9, 16, 25])\n",
    "X_train349, X_test349, y_train349, y_test349 = train_test_split(X349, y349, test_size=0.2)\n",
    "model349 = LinearRegression()\n",
    "model349.fit(X_train349, y_train349)\n",
    "print(model349.predict(X_test349))"
   ]
  },
  {
   "cell_type": "code",
   "execution_count": null,
   "id": "a7af17f2",
   "metadata": {},
   "outputs": [],
   "source": [
    "# Cell 351 - Pandas: Filtering Rows\n",
    "import pandas as pd\n",
    "df350 = pd.DataFrame({'A': [1, 2, 3], 'B': [4, 5, 6]})\n",
    "print(df350)"
   ]
  },
  {
   "cell_type": "code",
   "execution_count": null,
   "id": "6fe24612",
   "metadata": {},
   "outputs": [],
   "source": [
    "# Cell 352 - Scikit-learn: Linear Regression\n",
    "from sklearn.model_selection import train_test_split\n",
    "from sklearn.linear_model import LinearRegression\n",
    "import numpy as np\n",
    "X351 = np.array([[1], [2], [3], [4], [5]])\n",
    "y351 = np.array([1, 4, 9, 16, 25])\n",
    "X_train351, X_test351, y_train351, y_test351 = train_test_split(X351, y351, test_size=0.2)\n",
    "model351 = LinearRegression()\n",
    "model351.fit(X_train351, y_train351)\n",
    "print(model351.predict(X_test351))"
   ]
  },
  {
   "cell_type": "code",
   "execution_count": null,
   "id": "9d5c8ef5",
   "metadata": {},
   "outputs": [],
   "source": [
    "# Cell 353 - Pandas: Creating DataFrames\n",
    "import pandas as pd\n",
    "df352 = pd.DataFrame({'A': [1, 2, 3], 'B': [4, 5, 6]})\n",
    "print(df352)"
   ]
  },
  {
   "cell_type": "code",
   "execution_count": null,
   "id": "8f4ae8b7",
   "metadata": {},
   "outputs": [],
   "source": [
    "# Cell 354 - Scikit-learn: Decision Trees\n",
    "from sklearn.model_selection import train_test_split\n",
    "from sklearn.linear_model import LinearRegression\n",
    "import numpy as np\n",
    "X353 = np.array([[1], [2], [3], [4], [5]])\n",
    "y353 = np.array([1, 4, 9, 16, 25])\n",
    "X_train353, X_test353, y_train353, y_test353 = train_test_split(X353, y353, test_size=0.2)\n",
    "model353 = LinearRegression()\n",
    "model353.fit(X_train353, y_train353)\n",
    "print(model353.predict(X_test353))"
   ]
  },
  {
   "cell_type": "code",
   "execution_count": null,
   "id": "204e3795",
   "metadata": {},
   "outputs": [],
   "source": [
    "# Cell 355 - Pandas: Merging DataFrames\n",
    "import pandas as pd\n",
    "df354 = pd.DataFrame({'A': [1, 2, 3], 'B': [4, 5, 6]})\n",
    "print(df354)"
   ]
  },
  {
   "cell_type": "code",
   "execution_count": null,
   "id": "c3f6253d",
   "metadata": {},
   "outputs": [],
   "source": [
    "# Cell 356 - Scikit-learn: Encoding Categorical Variables\n",
    "from sklearn.model_selection import train_test_split\n",
    "from sklearn.linear_model import LinearRegression\n",
    "import numpy as np\n",
    "X355 = np.array([[1], [2], [3], [4], [5]])\n",
    "y355 = np.array([1, 4, 9, 16, 25])\n",
    "X_train355, X_test355, y_train355, y_test355 = train_test_split(X355, y355, test_size=0.2)\n",
    "model355 = LinearRegression()\n",
    "model355.fit(X_train355, y_train355)\n",
    "print(model355.predict(X_test355))"
   ]
  },
  {
   "cell_type": "code",
   "execution_count": null,
   "id": "c7489b18",
   "metadata": {},
   "outputs": [],
   "source": [
    "# Cell 357 - Pandas: Descriptive Stats\n",
    "import pandas as pd\n",
    "df356 = pd.DataFrame({'A': [1, 2, 3], 'B': [4, 5, 6]})\n",
    "print(df356)"
   ]
  },
  {
   "cell_type": "code",
   "execution_count": null,
   "id": "7aa9e702",
   "metadata": {},
   "outputs": [],
   "source": [
    "# Cell 358 - Scikit-learn: SVM\n",
    "from sklearn.model_selection import train_test_split\n",
    "from sklearn.linear_model import LinearRegression\n",
    "import numpy as np\n",
    "X357 = np.array([[1], [2], [3], [4], [5]])\n",
    "y357 = np.array([1, 4, 9, 16, 25])\n",
    "X_train357, X_test357, y_train357, y_test357 = train_test_split(X357, y357, test_size=0.2)\n",
    "model357 = LinearRegression()\n",
    "model357.fit(X_train357, y_train357)\n",
    "print(model357.predict(X_test357))"
   ]
  },
  {
   "cell_type": "code",
   "execution_count": null,
   "id": "532851c5",
   "metadata": {},
   "outputs": [],
   "source": [
    "# Cell 359 - Pandas: Merging DataFrames\n",
    "import pandas as pd\n",
    "df358 = pd.DataFrame({'A': [1, 2, 3], 'B': [4, 5, 6]})\n",
    "print(df358)"
   ]
  },
  {
   "cell_type": "code",
   "execution_count": null,
   "id": "a8e76877",
   "metadata": {},
   "outputs": [],
   "source": [
    "# Cell 360 - Scikit-learn: SVM\n",
    "from sklearn.model_selection import train_test_split\n",
    "from sklearn.linear_model import LinearRegression\n",
    "import numpy as np\n",
    "X359 = np.array([[1], [2], [3], [4], [5]])\n",
    "y359 = np.array([1, 4, 9, 16, 25])\n",
    "X_train359, X_test359, y_train359, y_test359 = train_test_split(X359, y359, test_size=0.2)\n",
    "model359 = LinearRegression()\n",
    "model359.fit(X_train359, y_train359)\n",
    "print(model359.predict(X_test359))"
   ]
  },
  {
   "cell_type": "code",
   "execution_count": null,
   "id": "f8b144ef",
   "metadata": {},
   "outputs": [],
   "source": [
    "# Cell 361 - Pandas: Reading CSV\n",
    "import pandas as pd\n",
    "df360 = pd.DataFrame({'A': [1, 2, 3], 'B': [4, 5, 6]})\n",
    "print(df360)"
   ]
  },
  {
   "cell_type": "code",
   "execution_count": null,
   "id": "6554287d",
   "metadata": {},
   "outputs": [],
   "source": [
    "# Cell 362 - Scikit-learn: Decision Trees\n",
    "from sklearn.model_selection import train_test_split\n",
    "from sklearn.linear_model import LinearRegression\n",
    "import numpy as np\n",
    "X361 = np.array([[1], [2], [3], [4], [5]])\n",
    "y361 = np.array([1, 4, 9, 16, 25])\n",
    "X_train361, X_test361, y_train361, y_test361 = train_test_split(X361, y361, test_size=0.2)\n",
    "model361 = LinearRegression()\n",
    "model361.fit(X_train361, y_train361)\n",
    "print(model361.predict(X_test361))"
   ]
  },
  {
   "cell_type": "code",
   "execution_count": null,
   "id": "bff0a390",
   "metadata": {},
   "outputs": [],
   "source": [
    "# Cell 363 - Pandas: Descriptive Stats\n",
    "import pandas as pd\n",
    "df362 = pd.DataFrame({'A': [1, 2, 3], 'B': [4, 5, 6]})\n",
    "print(df362)"
   ]
  },
  {
   "cell_type": "code",
   "execution_count": null,
   "id": "9235483e",
   "metadata": {},
   "outputs": [],
   "source": [
    "# Cell 364 - Scikit-learn: Linear Regression\n",
    "from sklearn.model_selection import train_test_split\n",
    "from sklearn.linear_model import LinearRegression\n",
    "import numpy as np\n",
    "X363 = np.array([[1], [2], [3], [4], [5]])\n",
    "y363 = np.array([1, 4, 9, 16, 25])\n",
    "X_train363, X_test363, y_train363, y_test363 = train_test_split(X363, y363, test_size=0.2)\n",
    "model363 = LinearRegression()\n",
    "model363.fit(X_train363, y_train363)\n",
    "print(model363.predict(X_test363))"
   ]
  },
  {
   "cell_type": "code",
   "execution_count": null,
   "id": "4e23d404",
   "metadata": {},
   "outputs": [],
   "source": [
    "# Cell 365 - Pandas: GroupBy\n",
    "import pandas as pd\n",
    "df364 = pd.DataFrame({'A': [1, 2, 3], 'B': [4, 5, 6]})\n",
    "print(df364)"
   ]
  },
  {
   "cell_type": "code",
   "execution_count": null,
   "id": "ad74318d",
   "metadata": {},
   "outputs": [],
   "source": [
    "# Cell 366 - Scikit-learn: SVM\n",
    "from sklearn.model_selection import train_test_split\n",
    "from sklearn.linear_model import LinearRegression\n",
    "import numpy as np\n",
    "X365 = np.array([[1], [2], [3], [4], [5]])\n",
    "y365 = np.array([1, 4, 9, 16, 25])\n",
    "X_train365, X_test365, y_train365, y_test365 = train_test_split(X365, y365, test_size=0.2)\n",
    "model365 = LinearRegression()\n",
    "model365.fit(X_train365, y_train365)\n",
    "print(model365.predict(X_test365))"
   ]
  },
  {
   "cell_type": "code",
   "execution_count": null,
   "id": "4dabf13f",
   "metadata": {},
   "outputs": [],
   "source": [
    "# Cell 367 - Pandas: Handling Missing Data\n",
    "import pandas as pd\n",
    "df366 = pd.DataFrame({'A': [1, 2, 3], 'B': [4, 5, 6]})\n",
    "print(df366)"
   ]
  },
  {
   "cell_type": "code",
   "execution_count": null,
   "id": "883d7251",
   "metadata": {},
   "outputs": [],
   "source": [
    "# Cell 368 - Scikit-learn: Logistic Regression\n",
    "from sklearn.model_selection import train_test_split\n",
    "from sklearn.linear_model import LinearRegression\n",
    "import numpy as np\n",
    "X367 = np.array([[1], [2], [3], [4], [5]])\n",
    "y367 = np.array([1, 4, 9, 16, 25])\n",
    "X_train367, X_test367, y_train367, y_test367 = train_test_split(X367, y367, test_size=0.2)\n",
    "model367 = LinearRegression()\n",
    "model367.fit(X_train367, y_train367)\n",
    "print(model367.predict(X_test367))"
   ]
  },
  {
   "cell_type": "code",
   "execution_count": null,
   "id": "5156476c",
   "metadata": {},
   "outputs": [],
   "source": [
    "# Cell 369 - Pandas: Reading CSV\n",
    "import pandas as pd\n",
    "df368 = pd.DataFrame({'A': [1, 2, 3], 'B': [4, 5, 6]})\n",
    "print(df368)"
   ]
  },
  {
   "cell_type": "code",
   "execution_count": null,
   "id": "ef19205b",
   "metadata": {},
   "outputs": [],
   "source": [
    "# Cell 370 - Scikit-learn: Feature Scaling\n",
    "from sklearn.model_selection import train_test_split\n",
    "from sklearn.linear_model import LinearRegression\n",
    "import numpy as np\n",
    "X369 = np.array([[1], [2], [3], [4], [5]])\n",
    "y369 = np.array([1, 4, 9, 16, 25])\n",
    "X_train369, X_test369, y_train369, y_test369 = train_test_split(X369, y369, test_size=0.2)\n",
    "model369 = LinearRegression()\n",
    "model369.fit(X_train369, y_train369)\n",
    "print(model369.predict(X_test369))"
   ]
  },
  {
   "cell_type": "code",
   "execution_count": null,
   "id": "17498b31",
   "metadata": {},
   "outputs": [],
   "source": [
    "# Cell 371 - Pandas: Data Selection\n",
    "import pandas as pd\n",
    "df370 = pd.DataFrame({'A': [1, 2, 3], 'B': [4, 5, 6]})\n",
    "print(df370)"
   ]
  },
  {
   "cell_type": "code",
   "execution_count": null,
   "id": "915328f9",
   "metadata": {},
   "outputs": [],
   "source": [
    "# Cell 372 - Scikit-learn: Cross Validation\n",
    "from sklearn.model_selection import train_test_split\n",
    "from sklearn.linear_model import LinearRegression\n",
    "import numpy as np\n",
    "X371 = np.array([[1], [2], [3], [4], [5]])\n",
    "y371 = np.array([1, 4, 9, 16, 25])\n",
    "X_train371, X_test371, y_train371, y_test371 = train_test_split(X371, y371, test_size=0.2)\n",
    "model371 = LinearRegression()\n",
    "model371.fit(X_train371, y_train371)\n",
    "print(model371.predict(X_test371))"
   ]
  },
  {
   "cell_type": "code",
   "execution_count": null,
   "id": "0b688f23",
   "metadata": {},
   "outputs": [],
   "source": [
    "# Cell 373 - Pandas: Merging DataFrames\n",
    "import pandas as pd\n",
    "df372 = pd.DataFrame({'A': [1, 2, 3], 'B': [4, 5, 6]})\n",
    "print(df372)"
   ]
  },
  {
   "cell_type": "code",
   "execution_count": null,
   "id": "ae1ad42a",
   "metadata": {},
   "outputs": [],
   "source": [
    "# Cell 374 - Scikit-learn: Logistic Regression\n",
    "from sklearn.model_selection import train_test_split\n",
    "from sklearn.linear_model import LinearRegression\n",
    "import numpy as np\n",
    "X373 = np.array([[1], [2], [3], [4], [5]])\n",
    "y373 = np.array([1, 4, 9, 16, 25])\n",
    "X_train373, X_test373, y_train373, y_test373 = train_test_split(X373, y373, test_size=0.2)\n",
    "model373 = LinearRegression()\n",
    "model373.fit(X_train373, y_train373)\n",
    "print(model373.predict(X_test373))"
   ]
  },
  {
   "cell_type": "code",
   "execution_count": null,
   "id": "9d052b5f",
   "metadata": {},
   "outputs": [],
   "source": [
    "# Cell 375 - Pandas: Sorting\n",
    "import pandas as pd\n",
    "df374 = pd.DataFrame({'A': [1, 2, 3], 'B': [4, 5, 6]})\n",
    "print(df374)"
   ]
  },
  {
   "cell_type": "code",
   "execution_count": null,
   "id": "67022ca7",
   "metadata": {},
   "outputs": [],
   "source": [
    "# Cell 376 - Scikit-learn: Model Evaluation\n",
    "from sklearn.model_selection import train_test_split\n",
    "from sklearn.linear_model import LinearRegression\n",
    "import numpy as np\n",
    "X375 = np.array([[1], [2], [3], [4], [5]])\n",
    "y375 = np.array([1, 4, 9, 16, 25])\n",
    "X_train375, X_test375, y_train375, y_test375 = train_test_split(X375, y375, test_size=0.2)\n",
    "model375 = LinearRegression()\n",
    "model375.fit(X_train375, y_train375)\n",
    "print(model375.predict(X_test375))"
   ]
  },
  {
   "cell_type": "code",
   "execution_count": null,
   "id": "9bbd6130",
   "metadata": {},
   "outputs": [],
   "source": [
    "# Cell 377 - Pandas: Data Selection\n",
    "import pandas as pd\n",
    "df376 = pd.DataFrame({'A': [1, 2, 3], 'B': [4, 5, 6]})\n",
    "print(df376)"
   ]
  },
  {
   "cell_type": "code",
   "execution_count": null,
   "id": "83d40f62",
   "metadata": {},
   "outputs": [],
   "source": [
    "# Cell 378 - Scikit-learn: Encoding Categorical Variables\n",
    "from sklearn.model_selection import train_test_split\n",
    "from sklearn.linear_model import LinearRegression\n",
    "import numpy as np\n",
    "X377 = np.array([[1], [2], [3], [4], [5]])\n",
    "y377 = np.array([1, 4, 9, 16, 25])\n",
    "X_train377, X_test377, y_train377, y_test377 = train_test_split(X377, y377, test_size=0.2)\n",
    "model377 = LinearRegression()\n",
    "model377.fit(X_train377, y_train377)\n",
    "print(model377.predict(X_test377))"
   ]
  },
  {
   "cell_type": "code",
   "execution_count": null,
   "id": "ccd674cc",
   "metadata": {},
   "outputs": [],
   "source": [
    "# Cell 379 - Pandas: Handling Missing Data\n",
    "import pandas as pd\n",
    "df378 = pd.DataFrame({'A': [1, 2, 3], 'B': [4, 5, 6]})\n",
    "print(df378)"
   ]
  },
  {
   "cell_type": "code",
   "execution_count": null,
   "id": "02bd0129",
   "metadata": {},
   "outputs": [],
   "source": [
    "# Cell 380 - Scikit-learn: Linear Regression\n",
    "from sklearn.model_selection import train_test_split\n",
    "from sklearn.linear_model import LinearRegression\n",
    "import numpy as np\n",
    "X379 = np.array([[1], [2], [3], [4], [5]])\n",
    "y379 = np.array([1, 4, 9, 16, 25])\n",
    "X_train379, X_test379, y_train379, y_test379 = train_test_split(X379, y379, test_size=0.2)\n",
    "model379 = LinearRegression()\n",
    "model379.fit(X_train379, y_train379)\n",
    "print(model379.predict(X_test379))"
   ]
  },
  {
   "cell_type": "code",
   "execution_count": null,
   "id": "301c9cff",
   "metadata": {},
   "outputs": [],
   "source": [
    "# Cell 381 - Pandas: Creating DataFrames\n",
    "import pandas as pd\n",
    "df380 = pd.DataFrame({'A': [1, 2, 3], 'B': [4, 5, 6]})\n",
    "print(df380)"
   ]
  },
  {
   "cell_type": "code",
   "execution_count": null,
   "id": "f332c945",
   "metadata": {},
   "outputs": [],
   "source": [
    "# Cell 382 - Scikit-learn: Feature Scaling\n",
    "from sklearn.model_selection import train_test_split\n",
    "from sklearn.linear_model import LinearRegression\n",
    "import numpy as np\n",
    "X381 = np.array([[1], [2], [3], [4], [5]])\n",
    "y381 = np.array([1, 4, 9, 16, 25])\n",
    "X_train381, X_test381, y_train381, y_test381 = train_test_split(X381, y381, test_size=0.2)\n",
    "model381 = LinearRegression()\n",
    "model381.fit(X_train381, y_train381)\n",
    "print(model381.predict(X_test381))"
   ]
  },
  {
   "cell_type": "code",
   "execution_count": null,
   "id": "76158001",
   "metadata": {},
   "outputs": [],
   "source": [
    "# Cell 383 - Pandas: Dropping Columns\n",
    "import pandas as pd\n",
    "df382 = pd.DataFrame({'A': [1, 2, 3], 'B': [4, 5, 6]})\n",
    "print(df382)"
   ]
  },
  {
   "cell_type": "code",
   "execution_count": null,
   "id": "1e6cf1c1",
   "metadata": {},
   "outputs": [],
   "source": [
    "# Cell 384 - Scikit-learn: KNN\n",
    "from sklearn.model_selection import train_test_split\n",
    "from sklearn.linear_model import LinearRegression\n",
    "import numpy as np\n",
    "X383 = np.array([[1], [2], [3], [4], [5]])\n",
    "y383 = np.array([1, 4, 9, 16, 25])\n",
    "X_train383, X_test383, y_train383, y_test383 = train_test_split(X383, y383, test_size=0.2)\n",
    "model383 = LinearRegression()\n",
    "model383.fit(X_train383, y_train383)\n",
    "print(model383.predict(X_test383))"
   ]
  },
  {
   "cell_type": "code",
   "execution_count": null,
   "id": "5edfb884",
   "metadata": {},
   "outputs": [],
   "source": [
    "# Cell 385 - Pandas: Data Selection\n",
    "import pandas as pd\n",
    "df384 = pd.DataFrame({'A': [1, 2, 3], 'B': [4, 5, 6]})\n",
    "print(df384)"
   ]
  },
  {
   "cell_type": "code",
   "execution_count": null,
   "id": "4effeae3",
   "metadata": {},
   "outputs": [],
   "source": [
    "# Cell 386 - Scikit-learn: Pipeline\n",
    "from sklearn.model_selection import train_test_split\n",
    "from sklearn.linear_model import LinearRegression\n",
    "import numpy as np\n",
    "X385 = np.array([[1], [2], [3], [4], [5]])\n",
    "y385 = np.array([1, 4, 9, 16, 25])\n",
    "X_train385, X_test385, y_train385, y_test385 = train_test_split(X385, y385, test_size=0.2)\n",
    "model385 = LinearRegression()\n",
    "model385.fit(X_train385, y_train385)\n",
    "print(model385.predict(X_test385))"
   ]
  },
  {
   "cell_type": "code",
   "execution_count": null,
   "id": "ce12ead0",
   "metadata": {},
   "outputs": [],
   "source": [
    "# Cell 387 - Pandas: Handling Missing Data\n",
    "import pandas as pd\n",
    "df386 = pd.DataFrame({'A': [1, 2, 3], 'B': [4, 5, 6]})\n",
    "print(df386)"
   ]
  },
  {
   "cell_type": "code",
   "execution_count": null,
   "id": "ca205d4a",
   "metadata": {},
   "outputs": [],
   "source": [
    "# Cell 388 - Scikit-learn: Feature Scaling\n",
    "from sklearn.model_selection import train_test_split\n",
    "from sklearn.linear_model import LinearRegression\n",
    "import numpy as np\n",
    "X387 = np.array([[1], [2], [3], [4], [5]])\n",
    "y387 = np.array([1, 4, 9, 16, 25])\n",
    "X_train387, X_test387, y_train387, y_test387 = train_test_split(X387, y387, test_size=0.2)\n",
    "model387 = LinearRegression()\n",
    "model387.fit(X_train387, y_train387)\n",
    "print(model387.predict(X_test387))"
   ]
  },
  {
   "cell_type": "code",
   "execution_count": null,
   "id": "fe624a1a",
   "metadata": {},
   "outputs": [],
   "source": [
    "# Cell 389 - Pandas: Handling Missing Data\n",
    "import pandas as pd\n",
    "df388 = pd.DataFrame({'A': [1, 2, 3], 'B': [4, 5, 6]})\n",
    "print(df388)"
   ]
  },
  {
   "cell_type": "code",
   "execution_count": null,
   "id": "13797cc5",
   "metadata": {},
   "outputs": [],
   "source": [
    "# Cell 390 - Scikit-learn: Feature Scaling\n",
    "from sklearn.model_selection import train_test_split\n",
    "from sklearn.linear_model import LinearRegression\n",
    "import numpy as np\n",
    "X389 = np.array([[1], [2], [3], [4], [5]])\n",
    "y389 = np.array([1, 4, 9, 16, 25])\n",
    "X_train389, X_test389, y_train389, y_test389 = train_test_split(X389, y389, test_size=0.2)\n",
    "model389 = LinearRegression()\n",
    "model389.fit(X_train389, y_train389)\n",
    "print(model389.predict(X_test389))"
   ]
  },
  {
   "cell_type": "code",
   "execution_count": null,
   "id": "f8e0e851",
   "metadata": {},
   "outputs": [],
   "source": [
    "# Cell 391 - Pandas: Adding Columns\n",
    "import pandas as pd\n",
    "df390 = pd.DataFrame({'A': [1, 2, 3], 'B': [4, 5, 6]})\n",
    "print(df390)"
   ]
  },
  {
   "cell_type": "code",
   "execution_count": null,
   "id": "7a5dfdbb",
   "metadata": {},
   "outputs": [],
   "source": [
    "# Cell 392 - Scikit-learn: Decision Trees\n",
    "from sklearn.model_selection import train_test_split\n",
    "from sklearn.linear_model import LinearRegression\n",
    "import numpy as np\n",
    "X391 = np.array([[1], [2], [3], [4], [5]])\n",
    "y391 = np.array([1, 4, 9, 16, 25])\n",
    "X_train391, X_test391, y_train391, y_test391 = train_test_split(X391, y391, test_size=0.2)\n",
    "model391 = LinearRegression()\n",
    "model391.fit(X_train391, y_train391)\n",
    "print(model391.predict(X_test391))"
   ]
  },
  {
   "cell_type": "code",
   "execution_count": null,
   "id": "5187d027",
   "metadata": {},
   "outputs": [],
   "source": [
    "# Cell 393 - Pandas: Adding Columns\n",
    "import pandas as pd\n",
    "df392 = pd.DataFrame({'A': [1, 2, 3], 'B': [4, 5, 6]})\n",
    "print(df392)"
   ]
  },
  {
   "cell_type": "code",
   "execution_count": null,
   "id": "04a07fb3",
   "metadata": {},
   "outputs": [],
   "source": [
    "# Cell 394 - Scikit-learn: Pipeline\n",
    "from sklearn.model_selection import train_test_split\n",
    "from sklearn.linear_model import LinearRegression\n",
    "import numpy as np\n",
    "X393 = np.array([[1], [2], [3], [4], [5]])\n",
    "y393 = np.array([1, 4, 9, 16, 25])\n",
    "X_train393, X_test393, y_train393, y_test393 = train_test_split(X393, y393, test_size=0.2)\n",
    "model393 = LinearRegression()\n",
    "model393.fit(X_train393, y_train393)\n",
    "print(model393.predict(X_test393))"
   ]
  },
  {
   "cell_type": "code",
   "execution_count": null,
   "id": "9fd55dcd",
   "metadata": {},
   "outputs": [],
   "source": [
    "# Cell 395 - Pandas: Adding Columns\n",
    "import pandas as pd\n",
    "df394 = pd.DataFrame({'A': [1, 2, 3], 'B': [4, 5, 6]})\n",
    "print(df394)"
   ]
  },
  {
   "cell_type": "code",
   "execution_count": null,
   "id": "16f14f4f",
   "metadata": {},
   "outputs": [],
   "source": [
    "# Cell 396 - Scikit-learn: Decision Trees\n",
    "from sklearn.model_selection import train_test_split\n",
    "from sklearn.linear_model import LinearRegression\n",
    "import numpy as np\n",
    "X395 = np.array([[1], [2], [3], [4], [5]])\n",
    "y395 = np.array([1, 4, 9, 16, 25])\n",
    "X_train395, X_test395, y_train395, y_test395 = train_test_split(X395, y395, test_size=0.2)\n",
    "model395 = LinearRegression()\n",
    "model395.fit(X_train395, y_train395)\n",
    "print(model395.predict(X_test395))"
   ]
  },
  {
   "cell_type": "code",
   "execution_count": null,
   "id": "5b6edcc2",
   "metadata": {},
   "outputs": [],
   "source": [
    "# Cell 397 - Pandas: Sorting\n",
    "import pandas as pd\n",
    "df396 = pd.DataFrame({'A': [1, 2, 3], 'B': [4, 5, 6]})\n",
    "print(df396)"
   ]
  },
  {
   "cell_type": "code",
   "execution_count": null,
   "id": "460f5363",
   "metadata": {},
   "outputs": [],
   "source": [
    "# Cell 398 - Scikit-learn: Linear Regression\n",
    "from sklearn.model_selection import train_test_split\n",
    "from sklearn.linear_model import LinearRegression\n",
    "import numpy as np\n",
    "X397 = np.array([[1], [2], [3], [4], [5]])\n",
    "y397 = np.array([1, 4, 9, 16, 25])\n",
    "X_train397, X_test397, y_train397, y_test397 = train_test_split(X397, y397, test_size=0.2)\n",
    "model397 = LinearRegression()\n",
    "model397.fit(X_train397, y_train397)\n",
    "print(model397.predict(X_test397))"
   ]
  },
  {
   "cell_type": "code",
   "execution_count": null,
   "id": "c0d6509a",
   "metadata": {},
   "outputs": [],
   "source": [
    "# Cell 399 - Pandas: Merging DataFrames\n",
    "import pandas as pd\n",
    "df398 = pd.DataFrame({'A': [1, 2, 3], 'B': [4, 5, 6]})\n",
    "print(df398)"
   ]
  },
  {
   "cell_type": "code",
   "execution_count": null,
   "id": "d0f3ae6c",
   "metadata": {},
   "outputs": [],
   "source": [
    "# Cell 400 - Scikit-learn: Train-Test Split\n",
    "from sklearn.model_selection import train_test_split\n",
    "from sklearn.linear_model import LinearRegression\n",
    "import numpy as np\n",
    "X399 = np.array([[1], [2], [3], [4], [5]])\n",
    "y399 = np.array([1, 4, 9, 16, 25])\n",
    "X_train399, X_test399, y_train399, y_test399 = train_test_split(X399, y399, test_size=0.2)\n",
    "model399 = LinearRegression()\n",
    "model399.fit(X_train399, y_train399)\n",
    "print(model399.predict(X_test399))"
   ]
  },
  {
   "cell_type": "code",
   "execution_count": null,
   "id": "6b7ca578",
   "metadata": {},
   "outputs": [],
   "source": [
    "# Cell 401 - Pandas: Adding Columns\n",
    "import pandas as pd\n",
    "df400 = pd.DataFrame({'A': [1, 2, 3], 'B': [4, 5, 6]})\n",
    "print(df400)"
   ]
  },
  {
   "cell_type": "code",
   "execution_count": null,
   "id": "8ddbbce9",
   "metadata": {},
   "outputs": [],
   "source": [
    "# Cell 402 - Scikit-learn: KNN\n",
    "from sklearn.model_selection import train_test_split\n",
    "from sklearn.linear_model import LinearRegression\n",
    "import numpy as np\n",
    "X401 = np.array([[1], [2], [3], [4], [5]])\n",
    "y401 = np.array([1, 4, 9, 16, 25])\n",
    "X_train401, X_test401, y_train401, y_test401 = train_test_split(X401, y401, test_size=0.2)\n",
    "model401 = LinearRegression()\n",
    "model401.fit(X_train401, y_train401)\n",
    "print(model401.predict(X_test401))"
   ]
  },
  {
   "cell_type": "code",
   "execution_count": null,
   "id": "40c59039",
   "metadata": {},
   "outputs": [],
   "source": [
    "# Cell 403 - Pandas: Sorting\n",
    "import pandas as pd\n",
    "df402 = pd.DataFrame({'A': [1, 2, 3], 'B': [4, 5, 6]})\n",
    "print(df402)"
   ]
  },
  {
   "cell_type": "code",
   "execution_count": null,
   "id": "ac8448c1",
   "metadata": {},
   "outputs": [],
   "source": [
    "# Cell 404 - Scikit-learn: KNN\n",
    "from sklearn.model_selection import train_test_split\n",
    "from sklearn.linear_model import LinearRegression\n",
    "import numpy as np\n",
    "X403 = np.array([[1], [2], [3], [4], [5]])\n",
    "y403 = np.array([1, 4, 9, 16, 25])\n",
    "X_train403, X_test403, y_train403, y_test403 = train_test_split(X403, y403, test_size=0.2)\n",
    "model403 = LinearRegression()\n",
    "model403.fit(X_train403, y_train403)\n",
    "print(model403.predict(X_test403))"
   ]
  },
  {
   "cell_type": "code",
   "execution_count": null,
   "id": "c6e98877",
   "metadata": {},
   "outputs": [],
   "source": [
    "# Cell 405 - Pandas: Data Types\n",
    "import pandas as pd\n",
    "df404 = pd.DataFrame({'A': [1, 2, 3], 'B': [4, 5, 6]})\n",
    "print(df404)"
   ]
  },
  {
   "cell_type": "code",
   "execution_count": null,
   "id": "ef993630",
   "metadata": {},
   "outputs": [],
   "source": [
    "# Cell 406 - Scikit-learn: Decision Trees\n",
    "from sklearn.model_selection import train_test_split\n",
    "from sklearn.linear_model import LinearRegression\n",
    "import numpy as np\n",
    "X405 = np.array([[1], [2], [3], [4], [5]])\n",
    "y405 = np.array([1, 4, 9, 16, 25])\n",
    "X_train405, X_test405, y_train405, y_test405 = train_test_split(X405, y405, test_size=0.2)\n",
    "model405 = LinearRegression()\n",
    "model405.fit(X_train405, y_train405)\n",
    "print(model405.predict(X_test405))"
   ]
  },
  {
   "cell_type": "code",
   "execution_count": null,
   "id": "afd9203c",
   "metadata": {},
   "outputs": [],
   "source": [
    "# Cell 407 - Pandas: Creating DataFrames\n",
    "import pandas as pd\n",
    "df406 = pd.DataFrame({'A': [1, 2, 3], 'B': [4, 5, 6]})\n",
    "print(df406)"
   ]
  },
  {
   "cell_type": "code",
   "execution_count": null,
   "id": "7f93a220",
   "metadata": {},
   "outputs": [],
   "source": [
    "# Cell 408 - Scikit-learn: SVM\n",
    "from sklearn.model_selection import train_test_split\n",
    "from sklearn.linear_model import LinearRegression\n",
    "import numpy as np\n",
    "X407 = np.array([[1], [2], [3], [4], [5]])\n",
    "y407 = np.array([1, 4, 9, 16, 25])\n",
    "X_train407, X_test407, y_train407, y_test407 = train_test_split(X407, y407, test_size=0.2)\n",
    "model407 = LinearRegression()\n",
    "model407.fit(X_train407, y_train407)\n",
    "print(model407.predict(X_test407))"
   ]
  },
  {
   "cell_type": "code",
   "execution_count": null,
   "id": "57e5da2b",
   "metadata": {},
   "outputs": [],
   "source": [
    "# Cell 409 - Pandas: Filtering Rows\n",
    "import pandas as pd\n",
    "df408 = pd.DataFrame({'A': [1, 2, 3], 'B': [4, 5, 6]})\n",
    "print(df408)"
   ]
  },
  {
   "cell_type": "code",
   "execution_count": null,
   "id": "d48d6c2b",
   "metadata": {},
   "outputs": [],
   "source": [
    "# Cell 410 - Scikit-learn: Random Forest\n",
    "from sklearn.model_selection import train_test_split\n",
    "from sklearn.linear_model import LinearRegression\n",
    "import numpy as np\n",
    "X409 = np.array([[1], [2], [3], [4], [5]])\n",
    "y409 = np.array([1, 4, 9, 16, 25])\n",
    "X_train409, X_test409, y_train409, y_test409 = train_test_split(X409, y409, test_size=0.2)\n",
    "model409 = LinearRegression()\n",
    "model409.fit(X_train409, y_train409)\n",
    "print(model409.predict(X_test409))"
   ]
  },
  {
   "cell_type": "code",
   "execution_count": null,
   "id": "a2568d12",
   "metadata": {},
   "outputs": [],
   "source": [
    "# Cell 411 - Pandas: Sorting\n",
    "import pandas as pd\n",
    "df410 = pd.DataFrame({'A': [1, 2, 3], 'B': [4, 5, 6]})\n",
    "print(df410)"
   ]
  },
  {
   "cell_type": "code",
   "execution_count": null,
   "id": "e4dbeb46",
   "metadata": {},
   "outputs": [],
   "source": [
    "# Cell 412 - Scikit-learn: KNN\n",
    "from sklearn.model_selection import train_test_split\n",
    "from sklearn.linear_model import LinearRegression\n",
    "import numpy as np\n",
    "X411 = np.array([[1], [2], [3], [4], [5]])\n",
    "y411 = np.array([1, 4, 9, 16, 25])\n",
    "X_train411, X_test411, y_train411, y_test411 = train_test_split(X411, y411, test_size=0.2)\n",
    "model411 = LinearRegression()\n",
    "model411.fit(X_train411, y_train411)\n",
    "print(model411.predict(X_test411))"
   ]
  },
  {
   "cell_type": "code",
   "execution_count": null,
   "id": "f88bd9ee",
   "metadata": {},
   "outputs": [],
   "source": [
    "# Cell 413 - Pandas: Handling Missing Data\n",
    "import pandas as pd\n",
    "df412 = pd.DataFrame({'A': [1, 2, 3], 'B': [4, 5, 6]})\n",
    "print(df412)"
   ]
  },
  {
   "cell_type": "code",
   "execution_count": null,
   "id": "8436fb72",
   "metadata": {},
   "outputs": [],
   "source": [
    "# Cell 414 - Scikit-learn: Train-Test Split\n",
    "from sklearn.model_selection import train_test_split\n",
    "from sklearn.linear_model import LinearRegression\n",
    "import numpy as np\n",
    "X413 = np.array([[1], [2], [3], [4], [5]])\n",
    "y413 = np.array([1, 4, 9, 16, 25])\n",
    "X_train413, X_test413, y_train413, y_test413 = train_test_split(X413, y413, test_size=0.2)\n",
    "model413 = LinearRegression()\n",
    "model413.fit(X_train413, y_train413)\n",
    "print(model413.predict(X_test413))"
   ]
  },
  {
   "cell_type": "code",
   "execution_count": null,
   "id": "43130e13",
   "metadata": {},
   "outputs": [],
   "source": [
    "# Cell 415 - Pandas: GroupBy\n",
    "import pandas as pd\n",
    "df414 = pd.DataFrame({'A': [1, 2, 3], 'B': [4, 5, 6]})\n",
    "print(df414)"
   ]
  },
  {
   "cell_type": "code",
   "execution_count": null,
   "id": "9e3a8c52",
   "metadata": {},
   "outputs": [],
   "source": [
    "# Cell 416 - Scikit-learn: SVM\n",
    "from sklearn.model_selection import train_test_split\n",
    "from sklearn.linear_model import LinearRegression\n",
    "import numpy as np\n",
    "X415 = np.array([[1], [2], [3], [4], [5]])\n",
    "y415 = np.array([1, 4, 9, 16, 25])\n",
    "X_train415, X_test415, y_train415, y_test415 = train_test_split(X415, y415, test_size=0.2)\n",
    "model415 = LinearRegression()\n",
    "model415.fit(X_train415, y_train415)\n",
    "print(model415.predict(X_test415))"
   ]
  },
  {
   "cell_type": "code",
   "execution_count": null,
   "id": "ea52eb4f",
   "metadata": {},
   "outputs": [],
   "source": [
    "# Cell 417 - Pandas: Filtering Rows\n",
    "import pandas as pd\n",
    "df416 = pd.DataFrame({'A': [1, 2, 3], 'B': [4, 5, 6]})\n",
    "print(df416)"
   ]
  },
  {
   "cell_type": "code",
   "execution_count": null,
   "id": "edd91c76",
   "metadata": {},
   "outputs": [],
   "source": [
    "# Cell 418 - Scikit-learn: Model Evaluation\n",
    "from sklearn.model_selection import train_test_split\n",
    "from sklearn.linear_model import LinearRegression\n",
    "import numpy as np\n",
    "X417 = np.array([[1], [2], [3], [4], [5]])\n",
    "y417 = np.array([1, 4, 9, 16, 25])\n",
    "X_train417, X_test417, y_train417, y_test417 = train_test_split(X417, y417, test_size=0.2)\n",
    "model417 = LinearRegression()\n",
    "model417.fit(X_train417, y_train417)\n",
    "print(model417.predict(X_test417))"
   ]
  },
  {
   "cell_type": "code",
   "execution_count": null,
   "id": "780cf4d3",
   "metadata": {},
   "outputs": [],
   "source": [
    "# Cell 419 - Pandas: Reading CSV\n",
    "import pandas as pd\n",
    "df418 = pd.DataFrame({'A': [1, 2, 3], 'B': [4, 5, 6]})\n",
    "print(df418)"
   ]
  },
  {
   "cell_type": "code",
   "execution_count": null,
   "id": "d031d3b9",
   "metadata": {},
   "outputs": [],
   "source": [
    "# Cell 420 - Scikit-learn: Model Evaluation\n",
    "from sklearn.model_selection import train_test_split\n",
    "from sklearn.linear_model import LinearRegression\n",
    "import numpy as np\n",
    "X419 = np.array([[1], [2], [3], [4], [5]])\n",
    "y419 = np.array([1, 4, 9, 16, 25])\n",
    "X_train419, X_test419, y_train419, y_test419 = train_test_split(X419, y419, test_size=0.2)\n",
    "model419 = LinearRegression()\n",
    "model419.fit(X_train419, y_train419)\n",
    "print(model419.predict(X_test419))"
   ]
  },
  {
   "cell_type": "code",
   "execution_count": null,
   "id": "b05f87fe",
   "metadata": {},
   "outputs": [],
   "source": [
    "# Cell 421 - Pandas: Dropping Columns\n",
    "import pandas as pd\n",
    "df420 = pd.DataFrame({'A': [1, 2, 3], 'B': [4, 5, 6]})\n",
    "print(df420)"
   ]
  },
  {
   "cell_type": "code",
   "execution_count": null,
   "id": "097dbd08",
   "metadata": {},
   "outputs": [],
   "source": [
    "# Cell 422 - Scikit-learn: SVM\n",
    "from sklearn.model_selection import train_test_split\n",
    "from sklearn.linear_model import LinearRegression\n",
    "import numpy as np\n",
    "X421 = np.array([[1], [2], [3], [4], [5]])\n",
    "y421 = np.array([1, 4, 9, 16, 25])\n",
    "X_train421, X_test421, y_train421, y_test421 = train_test_split(X421, y421, test_size=0.2)\n",
    "model421 = LinearRegression()\n",
    "model421.fit(X_train421, y_train421)\n",
    "print(model421.predict(X_test421))"
   ]
  },
  {
   "cell_type": "code",
   "execution_count": null,
   "id": "27a0102d",
   "metadata": {},
   "outputs": [],
   "source": [
    "# Cell 423 - Pandas: Dropping Columns\n",
    "import pandas as pd\n",
    "df422 = pd.DataFrame({'A': [1, 2, 3], 'B': [4, 5, 6]})\n",
    "print(df422)"
   ]
  },
  {
   "cell_type": "code",
   "execution_count": null,
   "id": "71130a4f",
   "metadata": {},
   "outputs": [],
   "source": [
    "# Cell 424 - Scikit-learn: Decision Trees\n",
    "from sklearn.model_selection import train_test_split\n",
    "from sklearn.linear_model import LinearRegression\n",
    "import numpy as np\n",
    "X423 = np.array([[1], [2], [3], [4], [5]])\n",
    "y423 = np.array([1, 4, 9, 16, 25])\n",
    "X_train423, X_test423, y_train423, y_test423 = train_test_split(X423, y423, test_size=0.2)\n",
    "model423 = LinearRegression()\n",
    "model423.fit(X_train423, y_train423)\n",
    "print(model423.predict(X_test423))"
   ]
  },
  {
   "cell_type": "code",
   "execution_count": null,
   "id": "803520b1",
   "metadata": {},
   "outputs": [],
   "source": [
    "# Cell 425 - Pandas: Data Selection\n",
    "import pandas as pd\n",
    "df424 = pd.DataFrame({'A': [1, 2, 3], 'B': [4, 5, 6]})\n",
    "print(df424)"
   ]
  },
  {
   "cell_type": "code",
   "execution_count": null,
   "id": "b6dc0352",
   "metadata": {},
   "outputs": [],
   "source": [
    "# Cell 426 - Scikit-learn: Feature Scaling\n",
    "from sklearn.model_selection import train_test_split\n",
    "from sklearn.linear_model import LinearRegression\n",
    "import numpy as np\n",
    "X425 = np.array([[1], [2], [3], [4], [5]])\n",
    "y425 = np.array([1, 4, 9, 16, 25])\n",
    "X_train425, X_test425, y_train425, y_test425 = train_test_split(X425, y425, test_size=0.2)\n",
    "model425 = LinearRegression()\n",
    "model425.fit(X_train425, y_train425)\n",
    "print(model425.predict(X_test425))"
   ]
  },
  {
   "cell_type": "code",
   "execution_count": null,
   "id": "6a75c847",
   "metadata": {},
   "outputs": [],
   "source": [
    "# Cell 427 - Pandas: Merging DataFrames\n",
    "import pandas as pd\n",
    "df426 = pd.DataFrame({'A': [1, 2, 3], 'B': [4, 5, 6]})\n",
    "print(df426)"
   ]
  },
  {
   "cell_type": "code",
   "execution_count": null,
   "id": "2bd46545",
   "metadata": {},
   "outputs": [],
   "source": [
    "# Cell 428 - Scikit-learn: Decision Trees\n",
    "from sklearn.model_selection import train_test_split\n",
    "from sklearn.linear_model import LinearRegression\n",
    "import numpy as np\n",
    "X427 = np.array([[1], [2], [3], [4], [5]])\n",
    "y427 = np.array([1, 4, 9, 16, 25])\n",
    "X_train427, X_test427, y_train427, y_test427 = train_test_split(X427, y427, test_size=0.2)\n",
    "model427 = LinearRegression()\n",
    "model427.fit(X_train427, y_train427)\n",
    "print(model427.predict(X_test427))"
   ]
  },
  {
   "cell_type": "code",
   "execution_count": null,
   "id": "8d31441c",
   "metadata": {},
   "outputs": [],
   "source": [
    "# Cell 429 - Pandas: Creating DataFrames\n",
    "import pandas as pd\n",
    "df428 = pd.DataFrame({'A': [1, 2, 3], 'B': [4, 5, 6]})\n",
    "print(df428)"
   ]
  },
  {
   "cell_type": "code",
   "execution_count": null,
   "id": "81ddb3dd",
   "metadata": {},
   "outputs": [],
   "source": [
    "# Cell 430 - Scikit-learn: Pipeline\n",
    "from sklearn.model_selection import train_test_split\n",
    "from sklearn.linear_model import LinearRegression\n",
    "import numpy as np\n",
    "X429 = np.array([[1], [2], [3], [4], [5]])\n",
    "y429 = np.array([1, 4, 9, 16, 25])\n",
    "X_train429, X_test429, y_train429, y_test429 = train_test_split(X429, y429, test_size=0.2)\n",
    "model429 = LinearRegression()\n",
    "model429.fit(X_train429, y_train429)\n",
    "print(model429.predict(X_test429))"
   ]
  },
  {
   "cell_type": "code",
   "execution_count": null,
   "id": "f056cb1a",
   "metadata": {},
   "outputs": [],
   "source": [
    "# Cell 431 - Pandas: Data Selection\n",
    "import pandas as pd\n",
    "df430 = pd.DataFrame({'A': [1, 2, 3], 'B': [4, 5, 6]})\n",
    "print(df430)"
   ]
  },
  {
   "cell_type": "code",
   "execution_count": null,
   "id": "cf29d922",
   "metadata": {},
   "outputs": [],
   "source": [
    "# Cell 432 - Scikit-learn: Encoding Categorical Variables\n",
    "from sklearn.model_selection import train_test_split\n",
    "from sklearn.linear_model import LinearRegression\n",
    "import numpy as np\n",
    "X431 = np.array([[1], [2], [3], [4], [5]])\n",
    "y431 = np.array([1, 4, 9, 16, 25])\n",
    "X_train431, X_test431, y_train431, y_test431 = train_test_split(X431, y431, test_size=0.2)\n",
    "model431 = LinearRegression()\n",
    "model431.fit(X_train431, y_train431)\n",
    "print(model431.predict(X_test431))"
   ]
  },
  {
   "cell_type": "code",
   "execution_count": null,
   "id": "e3ef7740",
   "metadata": {},
   "outputs": [],
   "source": [
    "# Cell 433 - Pandas: Data Selection\n",
    "import pandas as pd\n",
    "df432 = pd.DataFrame({'A': [1, 2, 3], 'B': [4, 5, 6]})\n",
    "print(df432)"
   ]
  },
  {
   "cell_type": "code",
   "execution_count": null,
   "id": "5aeea286",
   "metadata": {},
   "outputs": [],
   "source": [
    "# Cell 434 - Scikit-learn: Decision Trees\n",
    "from sklearn.model_selection import train_test_split\n",
    "from sklearn.linear_model import LinearRegression\n",
    "import numpy as np\n",
    "X433 = np.array([[1], [2], [3], [4], [5]])\n",
    "y433 = np.array([1, 4, 9, 16, 25])\n",
    "X_train433, X_test433, y_train433, y_test433 = train_test_split(X433, y433, test_size=0.2)\n",
    "model433 = LinearRegression()\n",
    "model433.fit(X_train433, y_train433)\n",
    "print(model433.predict(X_test433))"
   ]
  },
  {
   "cell_type": "code",
   "execution_count": null,
   "id": "77a4c96f",
   "metadata": {},
   "outputs": [],
   "source": [
    "# Cell 435 - Pandas: Adding Columns\n",
    "import pandas as pd\n",
    "df434 = pd.DataFrame({'A': [1, 2, 3], 'B': [4, 5, 6]})\n",
    "print(df434)"
   ]
  },
  {
   "cell_type": "code",
   "execution_count": null,
   "id": "cba538f6",
   "metadata": {},
   "outputs": [],
   "source": [
    "# Cell 436 - Scikit-learn: Decision Trees\n",
    "from sklearn.model_selection import train_test_split\n",
    "from sklearn.linear_model import LinearRegression\n",
    "import numpy as np\n",
    "X435 = np.array([[1], [2], [3], [4], [5]])\n",
    "y435 = np.array([1, 4, 9, 16, 25])\n",
    "X_train435, X_test435, y_train435, y_test435 = train_test_split(X435, y435, test_size=0.2)\n",
    "model435 = LinearRegression()\n",
    "model435.fit(X_train435, y_train435)\n",
    "print(model435.predict(X_test435))"
   ]
  },
  {
   "cell_type": "code",
   "execution_count": null,
   "id": "e6ae8db4",
   "metadata": {},
   "outputs": [],
   "source": [
    "# Cell 437 - Pandas: GroupBy\n",
    "import pandas as pd\n",
    "df436 = pd.DataFrame({'A': [1, 2, 3], 'B': [4, 5, 6]})\n",
    "print(df436)"
   ]
  },
  {
   "cell_type": "code",
   "execution_count": null,
   "id": "a41d4d1d",
   "metadata": {},
   "outputs": [],
   "source": [
    "# Cell 438 - Scikit-learn: Model Evaluation\n",
    "from sklearn.model_selection import train_test_split\n",
    "from sklearn.linear_model import LinearRegression\n",
    "import numpy as np\n",
    "X437 = np.array([[1], [2], [3], [4], [5]])\n",
    "y437 = np.array([1, 4, 9, 16, 25])\n",
    "X_train437, X_test437, y_train437, y_test437 = train_test_split(X437, y437, test_size=0.2)\n",
    "model437 = LinearRegression()\n",
    "model437.fit(X_train437, y_train437)\n",
    "print(model437.predict(X_test437))"
   ]
  },
  {
   "cell_type": "code",
   "execution_count": null,
   "id": "e2f87e57",
   "metadata": {},
   "outputs": [],
   "source": [
    "# Cell 439 - Pandas: Data Selection\n",
    "import pandas as pd\n",
    "df438 = pd.DataFrame({'A': [1, 2, 3], 'B': [4, 5, 6]})\n",
    "print(df438)"
   ]
  },
  {
   "cell_type": "code",
   "execution_count": null,
   "id": "d1ca0de1",
   "metadata": {},
   "outputs": [],
   "source": [
    "# Cell 440 - Scikit-learn: Encoding Categorical Variables\n",
    "from sklearn.model_selection import train_test_split\n",
    "from sklearn.linear_model import LinearRegression\n",
    "import numpy as np\n",
    "X439 = np.array([[1], [2], [3], [4], [5]])\n",
    "y439 = np.array([1, 4, 9, 16, 25])\n",
    "X_train439, X_test439, y_train439, y_test439 = train_test_split(X439, y439, test_size=0.2)\n",
    "model439 = LinearRegression()\n",
    "model439.fit(X_train439, y_train439)\n",
    "print(model439.predict(X_test439))"
   ]
  },
  {
   "cell_type": "code",
   "execution_count": null,
   "id": "07406023",
   "metadata": {},
   "outputs": [],
   "source": [
    "# Cell 441 - Pandas: Dropping Columns\n",
    "import pandas as pd\n",
    "df440 = pd.DataFrame({'A': [1, 2, 3], 'B': [4, 5, 6]})\n",
    "print(df440)"
   ]
  },
  {
   "cell_type": "code",
   "execution_count": null,
   "id": "3ea3e504",
   "metadata": {},
   "outputs": [],
   "source": [
    "# Cell 442 - Scikit-learn: Linear Regression\n",
    "from sklearn.model_selection import train_test_split\n",
    "from sklearn.linear_model import LinearRegression\n",
    "import numpy as np\n",
    "X441 = np.array([[1], [2], [3], [4], [5]])\n",
    "y441 = np.array([1, 4, 9, 16, 25])\n",
    "X_train441, X_test441, y_train441, y_test441 = train_test_split(X441, y441, test_size=0.2)\n",
    "model441 = LinearRegression()\n",
    "model441.fit(X_train441, y_train441)\n",
    "print(model441.predict(X_test441))"
   ]
  },
  {
   "cell_type": "code",
   "execution_count": null,
   "id": "903c7429",
   "metadata": {},
   "outputs": [],
   "source": [
    "# Cell 443 - Pandas: Dropping Columns\n",
    "import pandas as pd\n",
    "df442 = pd.DataFrame({'A': [1, 2, 3], 'B': [4, 5, 6]})\n",
    "print(df442)"
   ]
  },
  {
   "cell_type": "code",
   "execution_count": null,
   "id": "9fdd8b90",
   "metadata": {},
   "outputs": [],
   "source": [
    "# Cell 444 - Scikit-learn: Model Evaluation\n",
    "from sklearn.model_selection import train_test_split\n",
    "from sklearn.linear_model import LinearRegression\n",
    "import numpy as np\n",
    "X443 = np.array([[1], [2], [3], [4], [5]])\n",
    "y443 = np.array([1, 4, 9, 16, 25])\n",
    "X_train443, X_test443, y_train443, y_test443 = train_test_split(X443, y443, test_size=0.2)\n",
    "model443 = LinearRegression()\n",
    "model443.fit(X_train443, y_train443)\n",
    "print(model443.predict(X_test443))"
   ]
  },
  {
   "cell_type": "code",
   "execution_count": null,
   "id": "368bf26f",
   "metadata": {},
   "outputs": [],
   "source": [
    "# Cell 445 - Pandas: Filtering Rows\n",
    "import pandas as pd\n",
    "df444 = pd.DataFrame({'A': [1, 2, 3], 'B': [4, 5, 6]})\n",
    "print(df444)"
   ]
  },
  {
   "cell_type": "code",
   "execution_count": null,
   "id": "5996eb83",
   "metadata": {},
   "outputs": [],
   "source": [
    "# Cell 446 - Scikit-learn: Encoding Categorical Variables\n",
    "from sklearn.model_selection import train_test_split\n",
    "from sklearn.linear_model import LinearRegression\n",
    "import numpy as np\n",
    "X445 = np.array([[1], [2], [3], [4], [5]])\n",
    "y445 = np.array([1, 4, 9, 16, 25])\n",
    "X_train445, X_test445, y_train445, y_test445 = train_test_split(X445, y445, test_size=0.2)\n",
    "model445 = LinearRegression()\n",
    "model445.fit(X_train445, y_train445)\n",
    "print(model445.predict(X_test445))"
   ]
  },
  {
   "cell_type": "code",
   "execution_count": null,
   "id": "70d97bbd",
   "metadata": {},
   "outputs": [],
   "source": [
    "# Cell 447 - Pandas: Merging DataFrames\n",
    "import pandas as pd\n",
    "df446 = pd.DataFrame({'A': [1, 2, 3], 'B': [4, 5, 6]})\n",
    "print(df446)"
   ]
  },
  {
   "cell_type": "code",
   "execution_count": null,
   "id": "5f9f4d35",
   "metadata": {},
   "outputs": [],
   "source": [
    "# Cell 448 - Scikit-learn: Pipeline\n",
    "from sklearn.model_selection import train_test_split\n",
    "from sklearn.linear_model import LinearRegression\n",
    "import numpy as np\n",
    "X447 = np.array([[1], [2], [3], [4], [5]])\n",
    "y447 = np.array([1, 4, 9, 16, 25])\n",
    "X_train447, X_test447, y_train447, y_test447 = train_test_split(X447, y447, test_size=0.2)\n",
    "model447 = LinearRegression()\n",
    "model447.fit(X_train447, y_train447)\n",
    "print(model447.predict(X_test447))"
   ]
  },
  {
   "cell_type": "code",
   "execution_count": null,
   "id": "b7daaf75",
   "metadata": {},
   "outputs": [],
   "source": [
    "# Cell 449 - Pandas: Handling Missing Data\n",
    "import pandas as pd\n",
    "df448 = pd.DataFrame({'A': [1, 2, 3], 'B': [4, 5, 6]})\n",
    "print(df448)"
   ]
  },
  {
   "cell_type": "code",
   "execution_count": null,
   "id": "9400502e",
   "metadata": {},
   "outputs": [],
   "source": [
    "# Cell 450 - Scikit-learn: Train-Test Split\n",
    "from sklearn.model_selection import train_test_split\n",
    "from sklearn.linear_model import LinearRegression\n",
    "import numpy as np\n",
    "X449 = np.array([[1], [2], [3], [4], [5]])\n",
    "y449 = np.array([1, 4, 9, 16, 25])\n",
    "X_train449, X_test449, y_train449, y_test449 = train_test_split(X449, y449, test_size=0.2)\n",
    "model449 = LinearRegression()\n",
    "model449.fit(X_train449, y_train449)\n",
    "print(model449.predict(X_test449))"
   ]
  }
 ],
 "metadata": {},
 "nbformat": 4,
 "nbformat_minor": 5
}