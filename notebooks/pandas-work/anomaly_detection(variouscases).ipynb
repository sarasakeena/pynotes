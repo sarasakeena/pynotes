{
  "nbformat": 4,
  "nbformat_minor": 5,
  "metadata": {
    "kernelspec": {
      "display_name": "Python 3",
      "language": "python",
      "name": "python3"
    },
    "language_info": {
      "name": "python",
      "version": "3.12"
    }
  },
  "cells": [
    {
      "id": "b7e4c8af",
      "cell_type": "code",
      "metadata": {},
      "execution_count": null,
      "source": "import pandas as pd\nimport numpy as np\ndf = pd.DataFrame({'value': np.append(np.random.normal(0, 1, 20), [10])})\nthreshold = 3\nanomalies = df[np.abs(df['value']) > threshold]\nanomalies",
      "outputs": []
    },
    {
      "id": "5722522b",
      "cell_type": "code",
      "metadata": {},
      "execution_count": null,
      "source": "import pandas as pd\nimport numpy as np\ndf = pd.DataFrame({'value': np.append(np.random.normal(0, 1, 20), [20])})\nthreshold = 3\nanomalies = df[np.abs(df['value']) > threshold]\nanomalies",
      "outputs": []
    },
    {
      "id": "5e0bc70a",
      "cell_type": "code",
      "metadata": {},
      "execution_count": null,
      "source": "import pandas as pd\nimport numpy as np\ndf = pd.DataFrame({'value': np.append(np.random.normal(0, 1, 20), [30])})\nthreshold = 3\nanomalies = df[np.abs(df['value']) > threshold]\nanomalies",
      "outputs": []
    },
    {
      "id": "55a967aa",
      "cell_type": "code",
      "metadata": {},
      "execution_count": null,
      "source": "import pandas as pd\nimport numpy as np\ndf = pd.DataFrame({'value': np.append(np.random.normal(0, 1, 20), [40])})\nthreshold = 3\nanomalies = df[np.abs(df['value']) > threshold]\nanomalies",
      "outputs": []
    },
    {
      "id": "f1d599d5",
      "cell_type": "code",
      "metadata": {},
      "execution_count": null,
      "source": "import pandas as pd\nimport numpy as np\ndf = pd.DataFrame({'value': np.append(np.random.normal(0, 1, 20), [50])})\nthreshold = 3\nanomalies = df[np.abs(df['value']) > threshold]\nanomalies",
      "outputs": []
    },
    {
      "id": "a223b516",
      "cell_type": "code",
      "metadata": {},
      "execution_count": null,
      "source": "import pandas as pd\nimport numpy as np\ndf = pd.DataFrame({'value': np.append(np.random.normal(0, 1, 20), [60])})\nthreshold = 3\nanomalies = df[np.abs(df['value']) > threshold]\nanomalies",
      "outputs": []
    },
    {
      "id": "2375add2",
      "cell_type": "code",
      "metadata": {},
      "execution_count": null,
      "source": "import pandas as pd\nimport numpy as np\ndf = pd.DataFrame({'value': np.append(np.random.normal(0, 1, 20), [70])})\nthreshold = 3\nanomalies = df[np.abs(df['value']) > threshold]\nanomalies",
      "outputs": []
    },
    {
      "id": "607c6fdc",
      "cell_type": "code",
      "metadata": {},
      "execution_count": null,
      "source": "import pandas as pd\nimport numpy as np\ndf = pd.DataFrame({'value': np.append(np.random.normal(0, 1, 20), [80])})\nthreshold = 3\nanomalies = df[np.abs(df['value']) > threshold]\nanomalies",
      "outputs": []
    },
    {
      "id": "1dfd91cb",
      "cell_type": "code",
      "metadata": {},
      "execution_count": null,
      "source": "import pandas as pd\nimport numpy as np\ndf = pd.DataFrame({'value': np.append(np.random.normal(0, 1, 20), [90])})\nthreshold = 3\nanomalies = df[np.abs(df['value']) > threshold]\nanomalies",
      "outputs": []
    },
    {
      "id": "2c1287a1",
      "cell_type": "code",
      "metadata": {},
      "execution_count": null,
      "source": "import pandas as pd\nimport numpy as np\ndf = pd.DataFrame({'value': np.append(np.random.normal(0, 1, 20), [100])})\nthreshold = 3\nanomalies = df[np.abs(df['value']) > threshold]\nanomalies",
      "outputs": []
    },
    {
      "id": "7ec7afe6",
      "cell_type": "code",
      "metadata": {},
      "execution_count": null,
      "source": "import pandas as pd\nimport numpy as np\ndf = pd.DataFrame({'value': np.append(np.random.normal(0, 1, 20), [110])})\nthreshold = 3\nanomalies = df[np.abs(df['value']) > threshold]\nanomalies",
      "outputs": []
    },
    {
      "id": "85201dab",
      "cell_type": "code",
      "metadata": {},
      "execution_count": null,
      "source": "import pandas as pd\nimport numpy as np\ndf = pd.DataFrame({'value': np.append(np.random.normal(0, 1, 20), [120])})\nthreshold = 3\nanomalies = df[np.abs(df['value']) > threshold]\nanomalies",
      "outputs": []
    },
    {
      "id": "5346714e",
      "cell_type": "code",
      "metadata": {},
      "execution_count": null,
      "source": "import pandas as pd\nimport numpy as np\ndf = pd.DataFrame({'value': np.append(np.random.normal(0, 1, 20), [130])})\nthreshold = 3\nanomalies = df[np.abs(df['value']) > threshold]\nanomalies",
      "outputs": []
    },
    {
      "id": "4900c39e",
      "cell_type": "code",
      "metadata": {},
      "execution_count": null,
      "source": "import pandas as pd\nimport numpy as np\ndf = pd.DataFrame({'value': np.append(np.random.normal(0, 1, 20), [140])})\nthreshold = 3\nanomalies = df[np.abs(df['value']) > threshold]\nanomalies",
      "outputs": []
    },
    {
      "id": "85bba150",
      "cell_type": "code",
      "metadata": {},
      "execution_count": null,
      "source": "import pandas as pd\nimport numpy as np\ndf = pd.DataFrame({'value': np.append(np.random.normal(0, 1, 20), [150])})\nthreshold = 3\nanomalies = df[np.abs(df['value']) > threshold]\nanomalies",
      "outputs": []
    },
    {
      "id": "a52be5fb",
      "cell_type": "code",
      "metadata": {},
      "execution_count": null,
      "source": "import pandas as pd\nimport numpy as np\ndf = pd.DataFrame({'value': np.append(np.random.normal(0, 1, 20), [160])})\nthreshold = 3\nanomalies = df[np.abs(df['value']) > threshold]\nanomalies",
      "outputs": []
    },
    {
      "id": "c750497d",
      "cell_type": "code",
      "metadata": {},
      "execution_count": null,
      "source": "import pandas as pd\nimport numpy as np\ndf = pd.DataFrame({'value': np.append(np.random.normal(0, 1, 20), [170])})\nthreshold = 3\nanomalies = df[np.abs(df['value']) > threshold]\nanomalies",
      "outputs": []
    },
    {
      "id": "6fd492d5",
      "cell_type": "code",
      "metadata": {},
      "execution_count": null,
      "source": "import pandas as pd\nimport numpy as np\ndf = pd.DataFrame({'value': np.append(np.random.normal(0, 1, 20), [180])})\nthreshold = 3\nanomalies = df[np.abs(df['value']) > threshold]\nanomalies",
      "outputs": []
    },
    {
      "id": "92a24265",
      "cell_type": "code",
      "metadata": {},
      "execution_count": null,
      "source": "import pandas as pd\nimport numpy as np\ndf = pd.DataFrame({'value': np.append(np.random.normal(0, 1, 20), [190])})\nthreshold = 3\nanomalies = df[np.abs(df['value']) > threshold]\nanomalies",
      "outputs": []
    },
    {
      "id": "1a76934c",
      "cell_type": "code",
      "metadata": {},
      "execution_count": null,
      "source": "import pandas as pd\nimport numpy as np\ndf = pd.DataFrame({'value': np.append(np.random.normal(0, 1, 20), [200])})\nthreshold = 3\nanomalies = df[np.abs(df['value']) > threshold]\nanomalies",
      "outputs": []
    },
    {
      "id": "e70836f4",
      "cell_type": "code",
      "metadata": {},
      "execution_count": null,
      "source": "import pandas as pd\nimport numpy as np\ndf = pd.DataFrame({'value': np.append(np.random.normal(0, 1, 20), [210])})\nthreshold = 3\nanomalies = df[np.abs(df['value']) > threshold]\nanomalies",
      "outputs": []
    },
    {
      "id": "b0237b0c",
      "cell_type": "code",
      "metadata": {},
      "execution_count": null,
      "source": "import pandas as pd\nimport numpy as np\ndf = pd.DataFrame({'value': np.append(np.random.normal(0, 1, 20), [220])})\nthreshold = 3\nanomalies = df[np.abs(df['value']) > threshold]\nanomalies",
      "outputs": []
    },
    {
      "id": "b03a3685",
      "cell_type": "code",
      "metadata": {},
      "execution_count": null,
      "source": "import pandas as pd\nimport numpy as np\ndf = pd.DataFrame({'value': np.append(np.random.normal(0, 1, 20), [230])})\nthreshold = 3\nanomalies = df[np.abs(df['value']) > threshold]\nanomalies",
      "outputs": []
    },
    {
      "id": "e8e4dd87",
      "cell_type": "code",
      "metadata": {},
      "execution_count": null,
      "source": "import pandas as pd\nimport numpy as np\ndf = pd.DataFrame({'value': np.append(np.random.normal(0, 1, 20), [240])})\nthreshold = 3\nanomalies = df[np.abs(df['value']) > threshold]\nanomalies",
      "outputs": []
    },
    {
      "id": "5b29b602",
      "cell_type": "code",
      "metadata": {},
      "execution_count": null,
      "source": "import pandas as pd\nimport numpy as np\ndf = pd.DataFrame({'value': np.append(np.random.normal(0, 1, 20), [250])})\nthreshold = 3\nanomalies = df[np.abs(df['value']) > threshold]\nanomalies",
      "outputs": []
    },
    {
      "id": "813cd219",
      "cell_type": "code",
      "metadata": {},
      "execution_count": null,
      "source": "import pandas as pd\nimport numpy as np\ndf = pd.DataFrame({'value': np.append(np.random.normal(0, 1, 20), [260])})\nthreshold = 3\nanomalies = df[np.abs(df['value']) > threshold]\nanomalies",
      "outputs": []
    },
    {
      "id": "74fe011f",
      "cell_type": "code",
      "metadata": {},
      "execution_count": null,
      "source": "import pandas as pd\nimport numpy as np\ndf = pd.DataFrame({'value': np.append(np.random.normal(0, 1, 20), [270])})\nthreshold = 3\nanomalies = df[np.abs(df['value']) > threshold]\nanomalies",
      "outputs": []
    },
    {
      "id": "d17cb04c",
      "cell_type": "code",
      "metadata": {},
      "execution_count": null,
      "source": "import pandas as pd\nimport numpy as np\ndf = pd.DataFrame({'value': np.append(np.random.normal(0, 1, 20), [280])})\nthreshold = 3\nanomalies = df[np.abs(df['value']) > threshold]\nanomalies",
      "outputs": []
    },
    {
      "id": "3bbfb699",
      "cell_type": "code",
      "metadata": {},
      "execution_count": null,
      "source": "import pandas as pd\nimport numpy as np\ndf = pd.DataFrame({'value': np.append(np.random.normal(0, 1, 20), [290])})\nthreshold = 3\nanomalies = df[np.abs(df['value']) > threshold]\nanomalies",
      "outputs": []
    },
    {
      "id": "80756a31",
      "cell_type": "code",
      "metadata": {},
      "execution_count": null,
      "source": "import pandas as pd\nimport numpy as np\ndf = pd.DataFrame({'value': np.append(np.random.normal(0, 1, 20), [300])})\nthreshold = 3\nanomalies = df[np.abs(df['value']) > threshold]\nanomalies",
      "outputs": []
    },
    {
      "id": "da4ebb45",
      "cell_type": "code",
      "metadata": {},
      "execution_count": null,
      "source": "import pandas as pd\nimport numpy as np\ndf = pd.DataFrame({'value': np.append(np.random.normal(0, 1, 20), [310])})\nthreshold = 3\nanomalies = df[np.abs(df['value']) > threshold]\nanomalies",
      "outputs": []
    },
    {
      "id": "7efddc8d",
      "cell_type": "code",
      "metadata": {},
      "execution_count": null,
      "source": "import pandas as pd\nimport numpy as np\ndf = pd.DataFrame({'value': np.append(np.random.normal(0, 1, 20), [320])})\nthreshold = 3\nanomalies = df[np.abs(df['value']) > threshold]\nanomalies",
      "outputs": []
    },
    {
      "id": "6ad7ae5a",
      "cell_type": "code",
      "metadata": {},
      "execution_count": null,
      "source": "import pandas as pd\nimport numpy as np\ndf = pd.DataFrame({'value': np.append(np.random.normal(0, 1, 20), [330])})\nthreshold = 3\nanomalies = df[np.abs(df['value']) > threshold]\nanomalies",
      "outputs": []
    },
    {
      "id": "cbd06ff1",
      "cell_type": "code",
      "metadata": {},
      "execution_count": null,
      "source": "import pandas as pd\nimport numpy as np\ndf = pd.DataFrame({'value': np.append(np.random.normal(0, 1, 20), [340])})\nthreshold = 3\nanomalies = df[np.abs(df['value']) > threshold]\nanomalies",
      "outputs": []
    },
    {
      "id": "d47953cf",
      "cell_type": "code",
      "metadata": {},
      "execution_count": null,
      "source": "import pandas as pd\nimport numpy as np\ndf = pd.DataFrame({'value': np.append(np.random.normal(0, 1, 20), [350])})\nthreshold = 3\nanomalies = df[np.abs(df['value']) > threshold]\nanomalies",
      "outputs": []
    },
    {
      "id": "af07fdb1",
      "cell_type": "code",
      "metadata": {},
      "execution_count": null,
      "source": "import pandas as pd\nimport numpy as np\ndf = pd.DataFrame({'value': np.append(np.random.normal(0, 1, 20), [360])})\nthreshold = 3\nanomalies = df[np.abs(df['value']) > threshold]\nanomalies",
      "outputs": []
    },
    {
      "id": "2181d8e6",
      "cell_type": "code",
      "metadata": {},
      "execution_count": null,
      "source": "import pandas as pd\nimport numpy as np\ndf = pd.DataFrame({'value': np.append(np.random.normal(0, 1, 20), [370])})\nthreshold = 3\nanomalies = df[np.abs(df['value']) > threshold]\nanomalies",
      "outputs": []
    },
    {
      "id": "4f623bec",
      "cell_type": "code",
      "metadata": {},
      "execution_count": null,
      "source": "import pandas as pd\nimport numpy as np\ndf = pd.DataFrame({'value': np.append(np.random.normal(0, 1, 20), [380])})\nthreshold = 3\nanomalies = df[np.abs(df['value']) > threshold]\nanomalies",
      "outputs": []
    },
    {
      "id": "a40c6f25",
      "cell_type": "code",
      "metadata": {},
      "execution_count": null,
      "source": "import pandas as pd\nimport numpy as np\ndf = pd.DataFrame({'value': np.append(np.random.normal(0, 1, 20), [390])})\nthreshold = 3\nanomalies = df[np.abs(df['value']) > threshold]\nanomalies",
      "outputs": []
    },
    {
      "id": "7aa9f100",
      "cell_type": "code",
      "metadata": {},
      "execution_count": null,
      "source": "import pandas as pd\nimport numpy as np\ndf = pd.DataFrame({'value': np.append(np.random.normal(0, 1, 20), [400])})\nthreshold = 3\nanomalies = df[np.abs(df['value']) > threshold]\nanomalies",
      "outputs": []
    },
    {
      "id": "4d59d36f",
      "cell_type": "code",
      "metadata": {},
      "execution_count": null,
      "source": "import pandas as pd\nimport numpy as np\ndf = pd.DataFrame({'value': np.append(np.random.normal(0, 1, 20), [410])})\nthreshold = 3\nanomalies = df[np.abs(df['value']) > threshold]\nanomalies",
      "outputs": []
    },
    {
      "id": "2ab40834",
      "cell_type": "code",
      "metadata": {},
      "execution_count": null,
      "source": "import pandas as pd\nimport numpy as np\ndf = pd.DataFrame({'value': np.append(np.random.normal(0, 1, 20), [420])})\nthreshold = 3\nanomalies = df[np.abs(df['value']) > threshold]\nanomalies",
      "outputs": []
    },
    {
      "id": "037010c4",
      "cell_type": "code",
      "metadata": {},
      "execution_count": null,
      "source": "import pandas as pd\nimport numpy as np\ndf = pd.DataFrame({'value': np.append(np.random.normal(0, 1, 20), [430])})\nthreshold = 3\nanomalies = df[np.abs(df['value']) > threshold]\nanomalies",
      "outputs": []
    },
    {
      "id": "67c46c9b",
      "cell_type": "code",
      "metadata": {},
      "execution_count": null,
      "source": "import pandas as pd\nimport numpy as np\ndf = pd.DataFrame({'value': np.append(np.random.normal(0, 1, 20), [440])})\nthreshold = 3\nanomalies = df[np.abs(df['value']) > threshold]\nanomalies",
      "outputs": []
    },
    {
      "id": "65568185",
      "cell_type": "code",
      "metadata": {},
      "execution_count": null,
      "source": "import pandas as pd\nimport numpy as np\ndf = pd.DataFrame({'value': np.append(np.random.normal(0, 1, 20), [450])})\nthreshold = 3\nanomalies = df[np.abs(df['value']) > threshold]\nanomalies",
      "outputs": []
    },
    {
      "id": "61e36b53",
      "cell_type": "code",
      "metadata": {},
      "execution_count": null,
      "source": "import pandas as pd\nimport numpy as np\ndf = pd.DataFrame({'value': np.append(np.random.normal(0, 1, 20), [460])})\nthreshold = 3\nanomalies = df[np.abs(df['value']) > threshold]\nanomalies",
      "outputs": []
    },
    {
      "id": "5961e896",
      "cell_type": "code",
      "metadata": {},
      "execution_count": null,
      "source": "import pandas as pd\nimport numpy as np\ndf = pd.DataFrame({'value': np.append(np.random.normal(0, 1, 20), [470])})\nthreshold = 3\nanomalies = df[np.abs(df['value']) > threshold]\nanomalies",
      "outputs": []
    },
    {
      "id": "2a0adad6",
      "cell_type": "code",
      "metadata": {},
      "execution_count": null,
      "source": "import pandas as pd\nimport numpy as np\ndf = pd.DataFrame({'value': np.append(np.random.normal(0, 1, 20), [480])})\nthreshold = 3\nanomalies = df[np.abs(df['value']) > threshold]\nanomalies",
      "outputs": []
    },
    {
      "id": "ed24899d",
      "cell_type": "code",
      "metadata": {},
      "execution_count": null,
      "source": "import pandas as pd\nimport numpy as np\ndf = pd.DataFrame({'value': np.append(np.random.normal(0, 1, 20), [490])})\nthreshold = 3\nanomalies = df[np.abs(df['value']) > threshold]\nanomalies",
      "outputs": []
    },
    {
      "id": "751aa6a8",
      "cell_type": "code",
      "metadata": {},
      "execution_count": null,
      "source": "import pandas as pd\nimport numpy as np\ndf = pd.DataFrame({'value': np.append(np.random.normal(0, 1, 20), [500])})\nthreshold = 3\nanomalies = df[np.abs(df['value']) > threshold]\nanomalies",
      "outputs": []
    },
    {
      "id": "6b381c16",
      "cell_type": "code",
      "metadata": {},
      "execution_count": null,
      "source": "import pandas as pd\nimport numpy as np\ndf = pd.DataFrame({'value': np.append(np.random.normal(0, 1, 20), [510])})\nthreshold = 3\nanomalies = df[np.abs(df['value']) > threshold]\nanomalies",
      "outputs": []
    },
    {
      "id": "bc9b92fc",
      "cell_type": "code",
      "metadata": {},
      "execution_count": null,
      "source": "import pandas as pd\nimport numpy as np\ndf = pd.DataFrame({'value': np.append(np.random.normal(0, 1, 20), [520])})\nthreshold = 3\nanomalies = df[np.abs(df['value']) > threshold]\nanomalies",
      "outputs": []
    },
    {
      "id": "95935c0d",
      "cell_type": "code",
      "metadata": {},
      "execution_count": null,
      "source": "import pandas as pd\nimport numpy as np\ndf = pd.DataFrame({'value': np.append(np.random.normal(0, 1, 20), [530])})\nthreshold = 3\nanomalies = df[np.abs(df['value']) > threshold]\nanomalies",
      "outputs": []
    },
    {
      "id": "2b2689df",
      "cell_type": "code",
      "metadata": {},
      "execution_count": null,
      "source": "import pandas as pd\nimport numpy as np\ndf = pd.DataFrame({'value': np.append(np.random.normal(0, 1, 20), [540])})\nthreshold = 3\nanomalies = df[np.abs(df['value']) > threshold]\nanomalies",
      "outputs": []
    },
    {
      "id": "dc9651a5",
      "cell_type": "code",
      "metadata": {},
      "execution_count": null,
      "source": "import pandas as pd\nimport numpy as np\ndf = pd.DataFrame({'value': np.append(np.random.normal(0, 1, 20), [550])})\nthreshold = 3\nanomalies = df[np.abs(df['value']) > threshold]\nanomalies",
      "outputs": []
    },
    {
      "id": "6600d6cb",
      "cell_type": "code",
      "metadata": {},
      "execution_count": null,
      "source": "import pandas as pd\nimport numpy as np\ndf = pd.DataFrame({'value': np.append(np.random.normal(0, 1, 20), [560])})\nthreshold = 3\nanomalies = df[np.abs(df['value']) > threshold]\nanomalies",
      "outputs": []
    },
    {
      "id": "6cbbc98a",
      "cell_type": "code",
      "metadata": {},
      "execution_count": null,
      "source": "import pandas as pd\nimport numpy as np\ndf = pd.DataFrame({'value': np.append(np.random.normal(0, 1, 20), [570])})\nthreshold = 3\nanomalies = df[np.abs(df['value']) > threshold]\nanomalies",
      "outputs": []
    },
    {
      "id": "ab99c21b",
      "cell_type": "code",
      "metadata": {},
      "execution_count": null,
      "source": "import pandas as pd\nimport numpy as np\ndf = pd.DataFrame({'value': np.append(np.random.normal(0, 1, 20), [580])})\nthreshold = 3\nanomalies = df[np.abs(df['value']) > threshold]\nanomalies",
      "outputs": []
    },
    {
      "id": "cd1cda1c",
      "cell_type": "code",
      "metadata": {},
      "execution_count": null,
      "source": "import pandas as pd\nimport numpy as np\ndf = pd.DataFrame({'value': np.append(np.random.normal(0, 1, 20), [590])})\nthreshold = 3\nanomalies = df[np.abs(df['value']) > threshold]\nanomalies",
      "outputs": []
    },
    {
      "id": "1a54e758",
      "cell_type": "code",
      "metadata": {},
      "execution_count": null,
      "source": "import pandas as pd\nimport numpy as np\ndf = pd.DataFrame({'value': np.append(np.random.normal(0, 1, 20), [600])})\nthreshold = 3\nanomalies = df[np.abs(df['value']) > threshold]\nanomalies",
      "outputs": []
    },
    {
      "id": "3c0f6bb1",
      "cell_type": "code",
      "metadata": {},
      "execution_count": null,
      "source": "import pandas as pd\nimport numpy as np\ndf = pd.DataFrame({'value': np.append(np.random.normal(0, 1, 20), [610])})\nthreshold = 3\nanomalies = df[np.abs(df['value']) > threshold]\nanomalies",
      "outputs": []
    },
    {
      "id": "c8d5f425",
      "cell_type": "code",
      "metadata": {},
      "execution_count": null,
      "source": "import pandas as pd\nimport numpy as np\ndf = pd.DataFrame({'value': np.append(np.random.normal(0, 1, 20), [620])})\nthreshold = 3\nanomalies = df[np.abs(df['value']) > threshold]\nanomalies",
      "outputs": []
    },
    {
      "id": "61820aca",
      "cell_type": "code",
      "metadata": {},
      "execution_count": null,
      "source": "import pandas as pd\nimport numpy as np\ndf = pd.DataFrame({'value': np.append(np.random.normal(0, 1, 20), [630])})\nthreshold = 3\nanomalies = df[np.abs(df['value']) > threshold]\nanomalies",
      "outputs": []
    },
    {
      "id": "32155212",
      "cell_type": "code",
      "metadata": {},
      "execution_count": null,
      "source": "import pandas as pd\nimport numpy as np\ndf = pd.DataFrame({'value': np.append(np.random.normal(0, 1, 20), [640])})\nthreshold = 3\nanomalies = df[np.abs(df['value']) > threshold]\nanomalies",
      "outputs": []
    },
    {
      "id": "79cee64d",
      "cell_type": "code",
      "metadata": {},
      "execution_count": null,
      "source": "import pandas as pd\nimport numpy as np\ndf = pd.DataFrame({'value': np.append(np.random.normal(0, 1, 20), [650])})\nthreshold = 3\nanomalies = df[np.abs(df['value']) > threshold]\nanomalies",
      "outputs": []
    },
    {
      "id": "f5b7ca2c",
      "cell_type": "code",
      "metadata": {},
      "execution_count": null,
      "source": "import pandas as pd\nimport numpy as np\ndf = pd.DataFrame({'value': np.append(np.random.normal(0, 1, 20), [660])})\nthreshold = 3\nanomalies = df[np.abs(df['value']) > threshold]\nanomalies",
      "outputs": []
    },
    {
      "id": "fc46828f",
      "cell_type": "code",
      "metadata": {},
      "execution_count": null,
      "source": "import pandas as pd\nimport numpy as np\ndf = pd.DataFrame({'value': np.append(np.random.normal(0, 1, 20), [670])})\nthreshold = 3\nanomalies = df[np.abs(df['value']) > threshold]\nanomalies",
      "outputs": []
    },
    {
      "id": "1080993e",
      "cell_type": "code",
      "metadata": {},
      "execution_count": null,
      "source": "import pandas as pd\nimport numpy as np\ndf = pd.DataFrame({'value': np.append(np.random.normal(0, 1, 20), [680])})\nthreshold = 3\nanomalies = df[np.abs(df['value']) > threshold]\nanomalies",
      "outputs": []
    },
    {
      "id": "5a0b40ce",
      "cell_type": "code",
      "metadata": {},
      "execution_count": null,
      "source": "import pandas as pd\nimport numpy as np\ndf = pd.DataFrame({'value': np.append(np.random.normal(0, 1, 20), [690])})\nthreshold = 3\nanomalies = df[np.abs(df['value']) > threshold]\nanomalies",
      "outputs": []
    },
    {
      "id": "2b5d6a50",
      "cell_type": "code",
      "metadata": {},
      "execution_count": null,
      "source": "import pandas as pd\nimport numpy as np\ndf = pd.DataFrame({'value': np.append(np.random.normal(0, 1, 20), [700])})\nthreshold = 3\nanomalies = df[np.abs(df['value']) > threshold]\nanomalies",
      "outputs": []
    },
    {
      "id": "51608689",
      "cell_type": "code",
      "metadata": {},
      "execution_count": null,
      "source": "import pandas as pd\nimport numpy as np\ndf = pd.DataFrame({'value': np.append(np.random.normal(0, 1, 20), [710])})\nthreshold = 3\nanomalies = df[np.abs(df['value']) > threshold]\nanomalies",
      "outputs": []
    },
    {
      "id": "9635fb52",
      "cell_type": "code",
      "metadata": {},
      "execution_count": null,
      "source": "import pandas as pd\nimport numpy as np\ndf = pd.DataFrame({'value': np.append(np.random.normal(0, 1, 20), [720])})\nthreshold = 3\nanomalies = df[np.abs(df['value']) > threshold]\nanomalies",
      "outputs": []
    },
    {
      "id": "24ac4955",
      "cell_type": "code",
      "metadata": {},
      "execution_count": null,
      "source": "import pandas as pd\nimport numpy as np\ndf = pd.DataFrame({'value': np.append(np.random.normal(0, 1, 20), [730])})\nthreshold = 3\nanomalies = df[np.abs(df['value']) > threshold]\nanomalies",
      "outputs": []
    },
    {
      "id": "59ccc552",
      "cell_type": "code",
      "metadata": {},
      "execution_count": null,
      "source": "import pandas as pd\nimport numpy as np\ndf = pd.DataFrame({'value': np.append(np.random.normal(0, 1, 20), [740])})\nthreshold = 3\nanomalies = df[np.abs(df['value']) > threshold]\nanomalies",
      "outputs": []
    },
    {
      "id": "3fb7f85e",
      "cell_type": "code",
      "metadata": {},
      "execution_count": null,
      "source": "import pandas as pd\nimport numpy as np\ndf = pd.DataFrame({'value': np.append(np.random.normal(0, 1, 20), [750])})\nthreshold = 3\nanomalies = df[np.abs(df['value']) > threshold]\nanomalies",
      "outputs": []
    },
    {
      "id": "9d6cce89",
      "cell_type": "code",
      "metadata": {},
      "execution_count": null,
      "source": "import pandas as pd\nimport numpy as np\ndf = pd.DataFrame({'value': np.append(np.random.normal(0, 1, 20), [760])})\nthreshold = 3\nanomalies = df[np.abs(df['value']) > threshold]\nanomalies",
      "outputs": []
    },
    {
      "id": "ac1182ec",
      "cell_type": "code",
      "metadata": {},
      "execution_count": null,
      "source": "import pandas as pd\nimport numpy as np\ndf = pd.DataFrame({'value': np.append(np.random.normal(0, 1, 20), [770])})\nthreshold = 3\nanomalies = df[np.abs(df['value']) > threshold]\nanomalies",
      "outputs": []
    },
    {
      "id": "b2de8aae",
      "cell_type": "code",
      "metadata": {},
      "execution_count": null,
      "source": "import pandas as pd\nimport numpy as np\ndf = pd.DataFrame({'value': np.append(np.random.normal(0, 1, 20), [780])})\nthreshold = 3\nanomalies = df[np.abs(df['value']) > threshold]\nanomalies",
      "outputs": []
    },
    {
      "id": "fea4e8c7",
      "cell_type": "code",
      "metadata": {},
      "execution_count": null,
      "source": "import pandas as pd\nimport numpy as np\ndf = pd.DataFrame({'value': np.append(np.random.normal(0, 1, 20), [790])})\nthreshold = 3\nanomalies = df[np.abs(df['value']) > threshold]\nanomalies",
      "outputs": []
    },
    {
      "id": "da6ca033",
      "cell_type": "code",
      "metadata": {},
      "execution_count": null,
      "source": "import pandas as pd\nimport numpy as np\ndf = pd.DataFrame({'value': np.append(np.random.normal(0, 1, 20), [800])})\nthreshold = 3\nanomalies = df[np.abs(df['value']) > threshold]\nanomalies",
      "outputs": []
    },
    {
      "id": "14963679",
      "cell_type": "code",
      "metadata": {},
      "execution_count": null,
      "source": "import pandas as pd\nimport numpy as np\ndf = pd.DataFrame({'value': np.append(np.random.normal(0, 1, 20), [810])})\nthreshold = 3\nanomalies = df[np.abs(df['value']) > threshold]\nanomalies",
      "outputs": []
    },
    {
      "id": "fe78dd9e",
      "cell_type": "code",
      "metadata": {},
      "execution_count": null,
      "source": "import pandas as pd\nimport numpy as np\ndf = pd.DataFrame({'value': np.append(np.random.normal(0, 1, 20), [820])})\nthreshold = 3\nanomalies = df[np.abs(df['value']) > threshold]\nanomalies",
      "outputs": []
    },
    {
      "id": "cfa89692",
      "cell_type": "code",
      "metadata": {},
      "execution_count": null,
      "source": "import pandas as pd\nimport numpy as np\ndf = pd.DataFrame({'value': np.append(np.random.normal(0, 1, 20), [830])})\nthreshold = 3\nanomalies = df[np.abs(df['value']) > threshold]\nanomalies",
      "outputs": []
    },
    {
      "id": "e7370bb6",
      "cell_type": "code",
      "metadata": {},
      "execution_count": null,
      "source": "import pandas as pd\nimport numpy as np\ndf = pd.DataFrame({'value': np.append(np.random.normal(0, 1, 20), [840])})\nthreshold = 3\nanomalies = df[np.abs(df['value']) > threshold]\nanomalies",
      "outputs": []
    },
    {
      "id": "9af32dbc",
      "cell_type": "code",
      "metadata": {},
      "execution_count": null,
      "source": "import pandas as pd\nimport numpy as np\ndf = pd.DataFrame({'value': np.append(np.random.normal(0, 1, 20), [850])})\nthreshold = 3\nanomalies = df[np.abs(df['value']) > threshold]\nanomalies",
      "outputs": []
    },
    {
      "id": "2f051552",
      "cell_type": "code",
      "metadata": {},
      "execution_count": null,
      "source": "import pandas as pd\nimport numpy as np\ndf = pd.DataFrame({'value': np.append(np.random.normal(0, 1, 20), [860])})\nthreshold = 3\nanomalies = df[np.abs(df['value']) > threshold]\nanomalies",
      "outputs": []
    },
    {
      "id": "f8d813d5",
      "cell_type": "code",
      "metadata": {},
      "execution_count": null,
      "source": "import pandas as pd\nimport numpy as np\ndf = pd.DataFrame({'value': np.append(np.random.normal(0, 1, 20), [870])})\nthreshold = 3\nanomalies = df[np.abs(df['value']) > threshold]\nanomalies",
      "outputs": []
    },
    {
      "id": "6e13704f",
      "cell_type": "code",
      "metadata": {},
      "execution_count": null,
      "source": "import pandas as pd\nimport numpy as np\ndf = pd.DataFrame({'value': np.append(np.random.normal(0, 1, 20), [880])})\nthreshold = 3\nanomalies = df[np.abs(df['value']) > threshold]\nanomalies",
      "outputs": []
    },
    {
      "id": "649dccf6",
      "cell_type": "code",
      "metadata": {},
      "execution_count": null,
      "source": "import pandas as pd\nimport numpy as np\ndf = pd.DataFrame({'value': np.append(np.random.normal(0, 1, 20), [890])})\nthreshold = 3\nanomalies = df[np.abs(df['value']) > threshold]\nanomalies",
      "outputs": []
    },
    {
      "id": "37dd5763",
      "cell_type": "code",
      "metadata": {},
      "execution_count": null,
      "source": "import pandas as pd\nimport numpy as np\ndf = pd.DataFrame({'value': np.append(np.random.normal(0, 1, 20), [900])})\nthreshold = 3\nanomalies = df[np.abs(df['value']) > threshold]\nanomalies",
      "outputs": []
    },
    {
      "id": "1ba28216",
      "cell_type": "code",
      "metadata": {},
      "execution_count": null,
      "source": "import pandas as pd\nimport numpy as np\ndf = pd.DataFrame({'value': np.append(np.random.normal(0, 1, 20), [910])})\nthreshold = 3\nanomalies = df[np.abs(df['value']) > threshold]\nanomalies",
      "outputs": []
    },
    {
      "id": "eb13886d",
      "cell_type": "code",
      "metadata": {},
      "execution_count": null,
      "source": "import pandas as pd\nimport numpy as np\ndf = pd.DataFrame({'value': np.append(np.random.normal(0, 1, 20), [920])})\nthreshold = 3\nanomalies = df[np.abs(df['value']) > threshold]\nanomalies",
      "outputs": []
    },
    {
      "id": "f6fad2ed",
      "cell_type": "code",
      "metadata": {},
      "execution_count": null,
      "source": "import pandas as pd\nimport numpy as np\ndf = pd.DataFrame({'value': np.append(np.random.normal(0, 1, 20), [930])})\nthreshold = 3\nanomalies = df[np.abs(df['value']) > threshold]\nanomalies",
      "outputs": []
    },
    {
      "id": "f8862031",
      "cell_type": "code",
      "metadata": {},
      "execution_count": null,
      "source": "import pandas as pd\nimport numpy as np\ndf = pd.DataFrame({'value': np.append(np.random.normal(0, 1, 20), [940])})\nthreshold = 3\nanomalies = df[np.abs(df['value']) > threshold]\nanomalies",
      "outputs": []
    },
    {
      "id": "69ffbaaa",
      "cell_type": "code",
      "metadata": {},
      "execution_count": null,
      "source": "import pandas as pd\nimport numpy as np\ndf = pd.DataFrame({'value': np.append(np.random.normal(0, 1, 20), [950])})\nthreshold = 3\nanomalies = df[np.abs(df['value']) > threshold]\nanomalies",
      "outputs": []
    },
    {
      "id": "67e48843",
      "cell_type": "code",
      "metadata": {},
      "execution_count": null,
      "source": "import pandas as pd\nimport numpy as np\ndf = pd.DataFrame({'value': np.append(np.random.normal(0, 1, 20), [960])})\nthreshold = 3\nanomalies = df[np.abs(df['value']) > threshold]\nanomalies",
      "outputs": []
    },
    {
      "id": "b24b9fc4",
      "cell_type": "code",
      "metadata": {},
      "execution_count": null,
      "source": "import pandas as pd\nimport numpy as np\ndf = pd.DataFrame({'value': np.append(np.random.normal(0, 1, 20), [970])})\nthreshold = 3\nanomalies = df[np.abs(df['value']) > threshold]\nanomalies",
      "outputs": []
    },
    {
      "id": "57bedeab",
      "cell_type": "code",
      "metadata": {},
      "execution_count": null,
      "source": "import pandas as pd\nimport numpy as np\ndf = pd.DataFrame({'value': np.append(np.random.normal(0, 1, 20), [980])})\nthreshold = 3\nanomalies = df[np.abs(df['value']) > threshold]\nanomalies",
      "outputs": []
    },
    {
      "id": "6b91878f",
      "cell_type": "code",
      "metadata": {},
      "execution_count": null,
      "source": "import pandas as pd\nimport numpy as np\ndf = pd.DataFrame({'value': np.append(np.random.normal(0, 1, 20), [990])})\nthreshold = 3\nanomalies = df[np.abs(df['value']) > threshold]\nanomalies",
      "outputs": []
    },
    {
      "id": "92ea552c",
      "cell_type": "code",
      "metadata": {},
      "execution_count": null,
      "source": "import pandas as pd\nimport numpy as np\ndf = pd.DataFrame({'value': np.append(np.random.normal(0, 1, 20), [1000])})\nthreshold = 3\nanomalies = df[np.abs(df['value']) > threshold]\nanomalies",
      "outputs": []
    },
    {
      "id": "060367fa",
      "cell_type": "code",
      "metadata": {},
      "execution_count": null,
      "source": "import pandas as pd\nimport numpy as np\ndf = pd.DataFrame({'value': np.append(np.random.normal(0, 1, 20), [1010])})\nthreshold = 3\nanomalies = df[np.abs(df['value']) > threshold]\nanomalies",
      "outputs": []
    },
    {
      "id": "151693a2",
      "cell_type": "code",
      "metadata": {},
      "execution_count": null,
      "source": "import pandas as pd\nimport numpy as np\ndf = pd.DataFrame({'value': np.append(np.random.normal(0, 1, 20), [1020])})\nthreshold = 3\nanomalies = df[np.abs(df['value']) > threshold]\nanomalies",
      "outputs": []
    },
    {
      "id": "f0d4f27b",
      "cell_type": "code",
      "metadata": {},
      "execution_count": null,
      "source": "import pandas as pd\nimport numpy as np\ndf = pd.DataFrame({'value': np.append(np.random.normal(0, 1, 20), [1030])})\nthreshold = 3\nanomalies = df[np.abs(df['value']) > threshold]\nanomalies",
      "outputs": []
    },
    {
      "id": "4c4ac7ec",
      "cell_type": "code",
      "metadata": {},
      "execution_count": null,
      "source": "import pandas as pd\nimport numpy as np\ndf = pd.DataFrame({'value': np.append(np.random.normal(0, 1, 20), [1040])})\nthreshold = 3\nanomalies = df[np.abs(df['value']) > threshold]\nanomalies",
      "outputs": []
    },
    {
      "id": "57123ef6",
      "cell_type": "code",
      "metadata": {},
      "execution_count": null,
      "source": "import pandas as pd\nimport numpy as np\ndf = pd.DataFrame({'value': np.append(np.random.normal(0, 1, 20), [1050])})\nthreshold = 3\nanomalies = df[np.abs(df['value']) > threshold]\nanomalies",
      "outputs": []
    },
    {
      "id": "02be4da2",
      "cell_type": "code",
      "metadata": {},
      "execution_count": null,
      "source": "import pandas as pd\nimport numpy as np\ndf = pd.DataFrame({'value': np.append(np.random.normal(0, 1, 20), [1060])})\nthreshold = 3\nanomalies = df[np.abs(df['value']) > threshold]\nanomalies",
      "outputs": []
    },
    {
      "id": "ec060aa2",
      "cell_type": "code",
      "metadata": {},
      "execution_count": null,
      "source": "import pandas as pd\nimport numpy as np\ndf = pd.DataFrame({'value': np.append(np.random.normal(0, 1, 20), [1070])})\nthreshold = 3\nanomalies = df[np.abs(df['value']) > threshold]\nanomalies",
      "outputs": []
    },
    {
      "id": "2995bbae",
      "cell_type": "code",
      "metadata": {},
      "execution_count": null,
      "source": "import pandas as pd\nimport numpy as np\ndf = pd.DataFrame({'value': np.append(np.random.normal(0, 1, 20), [1080])})\nthreshold = 3\nanomalies = df[np.abs(df['value']) > threshold]\nanomalies",
      "outputs": []
    },
    {
      "id": "b29d42d1",
      "cell_type": "code",
      "metadata": {},
      "execution_count": null,
      "source": "import pandas as pd\nimport numpy as np\ndf = pd.DataFrame({'value': np.append(np.random.normal(0, 1, 20), [1090])})\nthreshold = 3\nanomalies = df[np.abs(df['value']) > threshold]\nanomalies",
      "outputs": []
    },
    {
      "id": "3951f6ca",
      "cell_type": "code",
      "metadata": {},
      "execution_count": null,
      "source": "import pandas as pd\nimport numpy as np\ndf = pd.DataFrame({'value': np.append(np.random.normal(0, 1, 20), [1100])})\nthreshold = 3\nanomalies = df[np.abs(df['value']) > threshold]\nanomalies",
      "outputs": []
    },
    {
      "id": "39cb7e3d",
      "cell_type": "code",
      "metadata": {},
      "execution_count": null,
      "source": "import pandas as pd\nimport numpy as np\ndf = pd.DataFrame({'value': np.append(np.random.normal(0, 1, 20), [1110])})\nthreshold = 3\nanomalies = df[np.abs(df['value']) > threshold]\nanomalies",
      "outputs": []
    },
    {
      "id": "0f838af3",
      "cell_type": "code",
      "metadata": {},
      "execution_count": null,
      "source": "import pandas as pd\nimport numpy as np\ndf = pd.DataFrame({'value': np.append(np.random.normal(0, 1, 20), [1120])})\nthreshold = 3\nanomalies = df[np.abs(df['value']) > threshold]\nanomalies",
      "outputs": []
    },
    {
      "id": "d5cd280b",
      "cell_type": "code",
      "metadata": {},
      "execution_count": null,
      "source": "import pandas as pd\nimport numpy as np\ndf = pd.DataFrame({'value': np.append(np.random.normal(0, 1, 20), [1130])})\nthreshold = 3\nanomalies = df[np.abs(df['value']) > threshold]\nanomalies",
      "outputs": []
    },
    {
      "id": "e10af386",
      "cell_type": "code",
      "metadata": {},
      "execution_count": null,
      "source": "import pandas as pd\nimport numpy as np\ndf = pd.DataFrame({'value': np.append(np.random.normal(0, 1, 20), [1140])})\nthreshold = 3\nanomalies = df[np.abs(df['value']) > threshold]\nanomalies",
      "outputs": []
    },
    {
      "id": "f765f513",
      "cell_type": "code",
      "metadata": {},
      "execution_count": null,
      "source": "import pandas as pd\nimport numpy as np\ndf = pd.DataFrame({'value': np.append(np.random.normal(0, 1, 20), [1150])})\nthreshold = 3\nanomalies = df[np.abs(df['value']) > threshold]\nanomalies",
      "outputs": []
    },
    {
      "id": "f58853e7",
      "cell_type": "code",
      "metadata": {},
      "execution_count": null,
      "source": "import pandas as pd\nimport numpy as np\ndf = pd.DataFrame({'value': np.append(np.random.normal(0, 1, 20), [1160])})\nthreshold = 3\nanomalies = df[np.abs(df['value']) > threshold]\nanomalies",
      "outputs": []
    },
    {
      "id": "fc00e2ad",
      "cell_type": "code",
      "metadata": {},
      "execution_count": null,
      "source": "import pandas as pd\nimport numpy as np\ndf = pd.DataFrame({'value': np.append(np.random.normal(0, 1, 20), [1170])})\nthreshold = 3\nanomalies = df[np.abs(df['value']) > threshold]\nanomalies",
      "outputs": []
    },
    {
      "id": "c782bf8e",
      "cell_type": "code",
      "metadata": {},
      "execution_count": null,
      "source": "import pandas as pd\nimport numpy as np\ndf = pd.DataFrame({'value': np.append(np.random.normal(0, 1, 20), [1180])})\nthreshold = 3\nanomalies = df[np.abs(df['value']) > threshold]\nanomalies",
      "outputs": []
    },
    {
      "id": "710d7369",
      "cell_type": "code",
      "metadata": {},
      "execution_count": null,
      "source": "import pandas as pd\nimport numpy as np\ndf = pd.DataFrame({'value': np.append(np.random.normal(0, 1, 20), [1190])})\nthreshold = 3\nanomalies = df[np.abs(df['value']) > threshold]\nanomalies",
      "outputs": []
    },
    {
      "id": "9437c918",
      "cell_type": "code",
      "metadata": {},
      "execution_count": null,
      "source": "import pandas as pd\nimport numpy as np\ndf = pd.DataFrame({'value': np.append(np.random.normal(0, 1, 20), [1200])})\nthreshold = 3\nanomalies = df[np.abs(df['value']) > threshold]\nanomalies",
      "outputs": []
    },
    {
      "id": "847d0f46",
      "cell_type": "code",
      "metadata": {},
      "execution_count": null,
      "source": "import pandas as pd\nimport numpy as np\ndf = pd.DataFrame({'value': np.append(np.random.normal(0, 1, 20), [1210])})\nthreshold = 3\nanomalies = df[np.abs(df['value']) > threshold]\nanomalies",
      "outputs": []
    },
    {
      "id": "aa21f3d1",
      "cell_type": "code",
      "metadata": {},
      "execution_count": null,
      "source": "import pandas as pd\nimport numpy as np\ndf = pd.DataFrame({'value': np.append(np.random.normal(0, 1, 20), [1220])})\nthreshold = 3\nanomalies = df[np.abs(df['value']) > threshold]\nanomalies",
      "outputs": []
    },
    {
      "id": "a60fce8f",
      "cell_type": "code",
      "metadata": {},
      "execution_count": null,
      "source": "import pandas as pd\nimport numpy as np\ndf = pd.DataFrame({'value': np.append(np.random.normal(0, 1, 20), [1230])})\nthreshold = 3\nanomalies = df[np.abs(df['value']) > threshold]\nanomalies",
      "outputs": []
    },
    {
      "id": "1d95e0d4",
      "cell_type": "code",
      "metadata": {},
      "execution_count": null,
      "source": "import pandas as pd\nimport numpy as np\ndf = pd.DataFrame({'value': np.append(np.random.normal(0, 1, 20), [1240])})\nthreshold = 3\nanomalies = df[np.abs(df['value']) > threshold]\nanomalies",
      "outputs": []
    },
    {
      "id": "f0acb5ad",
      "cell_type": "code",
      "metadata": {},
      "execution_count": null,
      "source": "import pandas as pd\nimport numpy as np\ndf = pd.DataFrame({'value': np.append(np.random.normal(0, 1, 20), [1250])})\nthreshold = 3\nanomalies = df[np.abs(df['value']) > threshold]\nanomalies",
      "outputs": []
    },
    {
      "id": "6895cab6",
      "cell_type": "code",
      "metadata": {},
      "execution_count": null,
      "source": "import pandas as pd\nimport numpy as np\ndf = pd.DataFrame({'value': np.append(np.random.normal(0, 1, 20), [1260])})\nthreshold = 3\nanomalies = df[np.abs(df['value']) > threshold]\nanomalies",
      "outputs": []
    },
    {
      "id": "cd8d23ea",
      "cell_type": "code",
      "metadata": {},
      "execution_count": null,
      "source": "import pandas as pd\nimport numpy as np\ndf = pd.DataFrame({'value': np.append(np.random.normal(0, 1, 20), [1270])})\nthreshold = 3\nanomalies = df[np.abs(df['value']) > threshold]\nanomalies",
      "outputs": []
    },
    {
      "id": "cf1563fe",
      "cell_type": "code",
      "metadata": {},
      "execution_count": null,
      "source": "import pandas as pd\nimport numpy as np\ndf = pd.DataFrame({'value': np.append(np.random.normal(0, 1, 20), [1280])})\nthreshold = 3\nanomalies = df[np.abs(df['value']) > threshold]\nanomalies",
      "outputs": []
    },
    {
      "id": "5386730e",
      "cell_type": "code",
      "metadata": {},
      "execution_count": null,
      "source": "import pandas as pd\nimport numpy as np\ndf = pd.DataFrame({'value': np.append(np.random.normal(0, 1, 20), [1290])})\nthreshold = 3\nanomalies = df[np.abs(df['value']) > threshold]\nanomalies",
      "outputs": []
    },
    {
      "id": "688977de",
      "cell_type": "code",
      "metadata": {},
      "execution_count": null,
      "source": "import pandas as pd\nimport numpy as np\ndf = pd.DataFrame({'value': np.append(np.random.normal(0, 1, 20), [1300])})\nthreshold = 3\nanomalies = df[np.abs(df['value']) > threshold]\nanomalies",
      "outputs": []
    },
    {
      "id": "d07785fa",
      "cell_type": "code",
      "metadata": {},
      "execution_count": null,
      "source": "import pandas as pd\nimport numpy as np\ndf = pd.DataFrame({'value': np.append(np.random.normal(0, 1, 20), [1310])})\nthreshold = 3\nanomalies = df[np.abs(df['value']) > threshold]\nanomalies",
      "outputs": []
    },
    {
      "id": "b6b58860",
      "cell_type": "code",
      "metadata": {},
      "execution_count": null,
      "source": "import pandas as pd\nimport numpy as np\ndf = pd.DataFrame({'value': np.append(np.random.normal(0, 1, 20), [1320])})\nthreshold = 3\nanomalies = df[np.abs(df['value']) > threshold]\nanomalies",
      "outputs": []
    },
    {
      "id": "0a2af02b",
      "cell_type": "code",
      "metadata": {},
      "execution_count": null,
      "source": "import pandas as pd\nimport numpy as np\ndf = pd.DataFrame({'value': np.append(np.random.normal(0, 1, 20), [1330])})\nthreshold = 3\nanomalies = df[np.abs(df['value']) > threshold]\nanomalies",
      "outputs": []
    },
    {
      "id": "8fdca85e",
      "cell_type": "code",
      "metadata": {},
      "execution_count": null,
      "source": "import pandas as pd\nimport numpy as np\ndf = pd.DataFrame({'value': np.append(np.random.normal(0, 1, 20), [1340])})\nthreshold = 3\nanomalies = df[np.abs(df['value']) > threshold]\nanomalies",
      "outputs": []
    },
    {
      "id": "637f41ee",
      "cell_type": "code",
      "metadata": {},
      "execution_count": null,
      "source": "import pandas as pd\nimport numpy as np\ndf = pd.DataFrame({'value': np.append(np.random.normal(0, 1, 20), [1350])})\nthreshold = 3\nanomalies = df[np.abs(df['value']) > threshold]\nanomalies",
      "outputs": []
    },
    {
      "id": "a1451407",
      "cell_type": "code",
      "metadata": {},
      "execution_count": null,
      "source": "import pandas as pd\nimport numpy as np\ndf = pd.DataFrame({'value': np.append(np.random.normal(0, 1, 20), [1360])})\nthreshold = 3\nanomalies = df[np.abs(df['value']) > threshold]\nanomalies",
      "outputs": []
    },
    {
      "id": "36f7eaf0",
      "cell_type": "code",
      "metadata": {},
      "execution_count": null,
      "source": "import pandas as pd\nimport numpy as np\ndf = pd.DataFrame({'value': np.append(np.random.normal(0, 1, 20), [1370])})\nthreshold = 3\nanomalies = df[np.abs(df['value']) > threshold]\nanomalies",
      "outputs": []
    },
    {
      "id": "8e302317",
      "cell_type": "code",
      "metadata": {},
      "execution_count": null,
      "source": "import pandas as pd\nimport numpy as np\ndf = pd.DataFrame({'value': np.append(np.random.normal(0, 1, 20), [1380])})\nthreshold = 3\nanomalies = df[np.abs(df['value']) > threshold]\nanomalies",
      "outputs": []
    },
    {
      "id": "b2d87105",
      "cell_type": "code",
      "metadata": {},
      "execution_count": null,
      "source": "import pandas as pd\nimport numpy as np\ndf = pd.DataFrame({'value': np.append(np.random.normal(0, 1, 20), [1390])})\nthreshold = 3\nanomalies = df[np.abs(df['value']) > threshold]\nanomalies",
      "outputs": []
    },
    {
      "id": "db5fd052",
      "cell_type": "code",
      "metadata": {},
      "execution_count": null,
      "source": "import pandas as pd\nimport numpy as np\ndf = pd.DataFrame({'value': np.append(np.random.normal(0, 1, 20), [1400])})\nthreshold = 3\nanomalies = df[np.abs(df['value']) > threshold]\nanomalies",
      "outputs": []
    },
    {
      "id": "78fe63b0",
      "cell_type": "code",
      "metadata": {},
      "execution_count": null,
      "source": "import pandas as pd\nimport numpy as np\ndf = pd.DataFrame({'value': np.append(np.random.normal(0, 1, 20), [1410])})\nthreshold = 3\nanomalies = df[np.abs(df['value']) > threshold]\nanomalies",
      "outputs": []
    },
    {
      "id": "d79948a8",
      "cell_type": "code",
      "metadata": {},
      "execution_count": null,
      "source": "import pandas as pd\nimport numpy as np\ndf = pd.DataFrame({'value': np.append(np.random.normal(0, 1, 20), [1420])})\nthreshold = 3\nanomalies = df[np.abs(df['value']) > threshold]\nanomalies",
      "outputs": []
    },
    {
      "id": "2db93d89",
      "cell_type": "code",
      "metadata": {},
      "execution_count": null,
      "source": "import pandas as pd\nimport numpy as np\ndf = pd.DataFrame({'value': np.append(np.random.normal(0, 1, 20), [1430])})\nthreshold = 3\nanomalies = df[np.abs(df['value']) > threshold]\nanomalies",
      "outputs": []
    },
    {
      "id": "9df6618a",
      "cell_type": "code",
      "metadata": {},
      "execution_count": null,
      "source": "import pandas as pd\nimport numpy as np\ndf = pd.DataFrame({'value': np.append(np.random.normal(0, 1, 20), [1440])})\nthreshold = 3\nanomalies = df[np.abs(df['value']) > threshold]\nanomalies",
      "outputs": []
    },
    {
      "id": "f3ab86f1",
      "cell_type": "code",
      "metadata": {},
      "execution_count": null,
      "source": "import pandas as pd\nimport numpy as np\ndf = pd.DataFrame({'value': np.append(np.random.normal(0, 1, 20), [1450])})\nthreshold = 3\nanomalies = df[np.abs(df['value']) > threshold]\nanomalies",
      "outputs": []
    },
    {
      "id": "17d545cb",
      "cell_type": "code",
      "metadata": {},
      "execution_count": null,
      "source": "import pandas as pd\nimport numpy as np\ndf = pd.DataFrame({'value': np.append(np.random.normal(0, 1, 20), [1460])})\nthreshold = 3\nanomalies = df[np.abs(df['value']) > threshold]\nanomalies",
      "outputs": []
    },
    {
      "id": "6122068d",
      "cell_type": "code",
      "metadata": {},
      "execution_count": null,
      "source": "import pandas as pd\nimport numpy as np\ndf = pd.DataFrame({'value': np.append(np.random.normal(0, 1, 20), [1470])})\nthreshold = 3\nanomalies = df[np.abs(df['value']) > threshold]\nanomalies",
      "outputs": []
    },
    {
      "id": "2fbbc31e",
      "cell_type": "code",
      "metadata": {},
      "execution_count": null,
      "source": "import pandas as pd\nimport numpy as np\ndf = pd.DataFrame({'value': np.append(np.random.normal(0, 1, 20), [1480])})\nthreshold = 3\nanomalies = df[np.abs(df['value']) > threshold]\nanomalies",
      "outputs": []
    },
    {
      "id": "e0f20459",
      "cell_type": "code",
      "metadata": {},
      "execution_count": null,
      "source": "import pandas as pd\nimport numpy as np\ndf = pd.DataFrame({'value': np.append(np.random.normal(0, 1, 20), [1490])})\nthreshold = 3\nanomalies = df[np.abs(df['value']) > threshold]\nanomalies",
      "outputs": []
    },
    {
      "id": "0593c711",
      "cell_type": "code",
      "metadata": {},
      "execution_count": null,
      "source": "import pandas as pd\nimport numpy as np\ndf = pd.DataFrame({'value': np.append(np.random.normal(0, 1, 20), [1500])})\nthreshold = 3\nanomalies = df[np.abs(df['value']) > threshold]\nanomalies",
      "outputs": []
    },
    {
      "id": "ff8f61e9",
      "cell_type": "code",
      "metadata": {},
      "execution_count": null,
      "source": "import pandas as pd\nimport numpy as np\ndf = pd.DataFrame({'value': np.append(np.random.normal(0, 1, 20), [1510])})\nthreshold = 3\nanomalies = df[np.abs(df['value']) > threshold]\nanomalies",
      "outputs": []
    },
    {
      "id": "cf83ee04",
      "cell_type": "code",
      "metadata": {},
      "execution_count": null,
      "source": "import pandas as pd\nimport numpy as np\ndf = pd.DataFrame({'value': np.append(np.random.normal(0, 1, 20), [1520])})\nthreshold = 3\nanomalies = df[np.abs(df['value']) > threshold]\nanomalies",
      "outputs": []
    },
    {
      "id": "026f295c",
      "cell_type": "code",
      "metadata": {},
      "execution_count": null,
      "source": "import pandas as pd\nimport numpy as np\ndf = pd.DataFrame({'value': np.append(np.random.normal(0, 1, 20), [1530])})\nthreshold = 3\nanomalies = df[np.abs(df['value']) > threshold]\nanomalies",
      "outputs": []
    },
    {
      "id": "3829b07d",
      "cell_type": "code",
      "metadata": {},
      "execution_count": null,
      "source": "import pandas as pd\nimport numpy as np\ndf = pd.DataFrame({'value': np.append(np.random.normal(0, 1, 20), [1540])})\nthreshold = 3\nanomalies = df[np.abs(df['value']) > threshold]\nanomalies",
      "outputs": []
    },
    {
      "id": "29f0e5fd",
      "cell_type": "code",
      "metadata": {},
      "execution_count": null,
      "source": "import pandas as pd\nimport numpy as np\ndf = pd.DataFrame({'value': np.append(np.random.normal(0, 1, 20), [1550])})\nthreshold = 3\nanomalies = df[np.abs(df['value']) > threshold]\nanomalies",
      "outputs": []
    },
    {
      "id": "44ae0e94",
      "cell_type": "code",
      "metadata": {},
      "execution_count": null,
      "source": "import pandas as pd\nimport numpy as np\ndf = pd.DataFrame({'value': np.append(np.random.normal(0, 1, 20), [1560])})\nthreshold = 3\nanomalies = df[np.abs(df['value']) > threshold]\nanomalies",
      "outputs": []
    },
    {
      "id": "24447bf2",
      "cell_type": "code",
      "metadata": {},
      "execution_count": null,
      "source": "import pandas as pd\nimport numpy as np\ndf = pd.DataFrame({'value': np.append(np.random.normal(0, 1, 20), [1570])})\nthreshold = 3\nanomalies = df[np.abs(df['value']) > threshold]\nanomalies",
      "outputs": []
    },
    {
      "id": "721c7478",
      "cell_type": "code",
      "metadata": {},
      "execution_count": null,
      "source": "import pandas as pd\nimport numpy as np\ndf = pd.DataFrame({'value': np.append(np.random.normal(0, 1, 20), [1580])})\nthreshold = 3\nanomalies = df[np.abs(df['value']) > threshold]\nanomalies",
      "outputs": []
    },
    {
      "id": "8809dfa7",
      "cell_type": "code",
      "metadata": {},
      "execution_count": null,
      "source": "import pandas as pd\nimport numpy as np\ndf = pd.DataFrame({'value': np.append(np.random.normal(0, 1, 20), [1590])})\nthreshold = 3\nanomalies = df[np.abs(df['value']) > threshold]\nanomalies",
      "outputs": []
    },
    {
      "id": "b77664ca",
      "cell_type": "code",
      "metadata": {},
      "execution_count": null,
      "source": "import pandas as pd\nimport numpy as np\ndf = pd.DataFrame({'value': np.append(np.random.normal(0, 1, 20), [1600])})\nthreshold = 3\nanomalies = df[np.abs(df['value']) > threshold]\nanomalies",
      "outputs": []
    },
    {
      "id": "20e22637",
      "cell_type": "code",
      "metadata": {},
      "execution_count": null,
      "source": "import pandas as pd\nimport numpy as np\ndf = pd.DataFrame({'value': np.append(np.random.normal(0, 1, 20), [1610])})\nthreshold = 3\nanomalies = df[np.abs(df['value']) > threshold]\nanomalies",
      "outputs": []
    },
    {
      "id": "86808240",
      "cell_type": "code",
      "metadata": {},
      "execution_count": null,
      "source": "import pandas as pd\nimport numpy as np\ndf = pd.DataFrame({'value': np.append(np.random.normal(0, 1, 20), [1620])})\nthreshold = 3\nanomalies = df[np.abs(df['value']) > threshold]\nanomalies",
      "outputs": []
    },
    {
      "id": "f3ad0bd4",
      "cell_type": "code",
      "metadata": {},
      "execution_count": null,
      "source": "import pandas as pd\nimport numpy as np\ndf = pd.DataFrame({'value': np.append(np.random.normal(0, 1, 20), [1630])})\nthreshold = 3\nanomalies = df[np.abs(df['value']) > threshold]\nanomalies",
      "outputs": []
    },
    {
      "id": "1f014c41",
      "cell_type": "code",
      "metadata": {},
      "execution_count": null,
      "source": "import pandas as pd\nimport numpy as np\ndf = pd.DataFrame({'value': np.append(np.random.normal(0, 1, 20), [1640])})\nthreshold = 3\nanomalies = df[np.abs(df['value']) > threshold]\nanomalies",
      "outputs": []
    },
    {
      "id": "1a385c68",
      "cell_type": "code",
      "metadata": {},
      "execution_count": null,
      "source": "import pandas as pd\nimport numpy as np\ndf = pd.DataFrame({'value': np.append(np.random.normal(0, 1, 20), [1650])})\nthreshold = 3\nanomalies = df[np.abs(df['value']) > threshold]\nanomalies",
      "outputs": []
    },
    {
      "id": "798c5170",
      "cell_type": "code",
      "metadata": {},
      "execution_count": null,
      "source": "import pandas as pd\nimport numpy as np\ndf = pd.DataFrame({'value': np.append(np.random.normal(0, 1, 20), [1660])})\nthreshold = 3\nanomalies = df[np.abs(df['value']) > threshold]\nanomalies",
      "outputs": []
    },
    {
      "id": "638162e8",
      "cell_type": "code",
      "metadata": {},
      "execution_count": null,
      "source": "import pandas as pd\nimport numpy as np\ndf = pd.DataFrame({'value': np.append(np.random.normal(0, 1, 20), [1670])})\nthreshold = 3\nanomalies = df[np.abs(df['value']) > threshold]\nanomalies",
      "outputs": []
    },
    {
      "id": "f5a63fe2",
      "cell_type": "code",
      "metadata": {},
      "execution_count": null,
      "source": "import pandas as pd\nimport numpy as np\ndf = pd.DataFrame({'value': np.append(np.random.normal(0, 1, 20), [1680])})\nthreshold = 3\nanomalies = df[np.abs(df['value']) > threshold]\nanomalies",
      "outputs": []
    },
    {
      "id": "c6b55a2c",
      "cell_type": "code",
      "metadata": {},
      "execution_count": null,
      "source": "import pandas as pd\nimport numpy as np\ndf = pd.DataFrame({'value': np.append(np.random.normal(0, 1, 20), [1690])})\nthreshold = 3\nanomalies = df[np.abs(df['value']) > threshold]\nanomalies",
      "outputs": []
    },
    {
      "id": "baa94643",
      "cell_type": "code",
      "metadata": {},
      "execution_count": null,
      "source": "import pandas as pd\nimport numpy as np\ndf = pd.DataFrame({'value': np.append(np.random.normal(0, 1, 20), [1700])})\nthreshold = 3\nanomalies = df[np.abs(df['value']) > threshold]\nanomalies",
      "outputs": []
    },
    {
      "id": "bdf10ff2",
      "cell_type": "code",
      "metadata": {},
      "execution_count": null,
      "source": "import pandas as pd\nimport numpy as np\ndf = pd.DataFrame({'value': np.append(np.random.normal(0, 1, 20), [1710])})\nthreshold = 3\nanomalies = df[np.abs(df['value']) > threshold]\nanomalies",
      "outputs": []
    },
    {
      "id": "40730673",
      "cell_type": "code",
      "metadata": {},
      "execution_count": null,
      "source": "import pandas as pd\nimport numpy as np\ndf = pd.DataFrame({'value': np.append(np.random.normal(0, 1, 20), [1720])})\nthreshold = 3\nanomalies = df[np.abs(df['value']) > threshold]\nanomalies",
      "outputs": []
    },
    {
      "id": "29bfb3b1",
      "cell_type": "code",
      "metadata": {},
      "execution_count": null,
      "source": "import pandas as pd\nimport numpy as np\ndf = pd.DataFrame({'value': np.append(np.random.normal(0, 1, 20), [1730])})\nthreshold = 3\nanomalies = df[np.abs(df['value']) > threshold]\nanomalies",
      "outputs": []
    },
    {
      "id": "ee1f8a74",
      "cell_type": "code",
      "metadata": {},
      "execution_count": null,
      "source": "import pandas as pd\nimport numpy as np\ndf = pd.DataFrame({'value': np.append(np.random.normal(0, 1, 20), [1740])})\nthreshold = 3\nanomalies = df[np.abs(df['value']) > threshold]\nanomalies",
      "outputs": []
    },
    {
      "id": "95b5ec0d",
      "cell_type": "code",
      "metadata": {},
      "execution_count": null,
      "source": "import pandas as pd\nimport numpy as np\ndf = pd.DataFrame({'value': np.append(np.random.normal(0, 1, 20), [1750])})\nthreshold = 3\nanomalies = df[np.abs(df['value']) > threshold]\nanomalies",
      "outputs": []
    },
    {
      "id": "8270cb39",
      "cell_type": "code",
      "metadata": {},
      "execution_count": null,
      "source": "import pandas as pd\nimport numpy as np\ndf = pd.DataFrame({'value': np.append(np.random.normal(0, 1, 20), [1760])})\nthreshold = 3\nanomalies = df[np.abs(df['value']) > threshold]\nanomalies",
      "outputs": []
    },
    {
      "id": "a9d072da",
      "cell_type": "code",
      "metadata": {},
      "execution_count": null,
      "source": "import pandas as pd\nimport numpy as np\ndf = pd.DataFrame({'value': np.append(np.random.normal(0, 1, 20), [1770])})\nthreshold = 3\nanomalies = df[np.abs(df['value']) > threshold]\nanomalies",
      "outputs": []
    },
    {
      "id": "2a9afb93",
      "cell_type": "code",
      "metadata": {},
      "execution_count": null,
      "source": "import pandas as pd\nimport numpy as np\ndf = pd.DataFrame({'value': np.append(np.random.normal(0, 1, 20), [1780])})\nthreshold = 3\nanomalies = df[np.abs(df['value']) > threshold]\nanomalies",
      "outputs": []
    },
    {
      "id": "0c9b6129",
      "cell_type": "code",
      "metadata": {},
      "execution_count": null,
      "source": "import pandas as pd\nimport numpy as np\ndf = pd.DataFrame({'value': np.append(np.random.normal(0, 1, 20), [1790])})\nthreshold = 3\nanomalies = df[np.abs(df['value']) > threshold]\nanomalies",
      "outputs": []
    },
    {
      "id": "d07b7d47",
      "cell_type": "code",
      "metadata": {},
      "execution_count": null,
      "source": "import pandas as pd\nimport numpy as np\ndf = pd.DataFrame({'value': np.append(np.random.normal(0, 1, 20), [1800])})\nthreshold = 3\nanomalies = df[np.abs(df['value']) > threshold]\nanomalies",
      "outputs": []
    },
    {
      "id": "4dfcfd07",
      "cell_type": "code",
      "metadata": {},
      "execution_count": null,
      "source": "import pandas as pd\nimport numpy as np\ndf = pd.DataFrame({'value': np.append(np.random.normal(0, 1, 20), [1810])})\nthreshold = 3\nanomalies = df[np.abs(df['value']) > threshold]\nanomalies",
      "outputs": []
    },
    {
      "id": "fa4d4e79",
      "cell_type": "code",
      "metadata": {},
      "execution_count": null,
      "source": "import pandas as pd\nimport numpy as np\ndf = pd.DataFrame({'value': np.append(np.random.normal(0, 1, 20), [1820])})\nthreshold = 3\nanomalies = df[np.abs(df['value']) > threshold]\nanomalies",
      "outputs": []
    },
    {
      "id": "a31182cd",
      "cell_type": "code",
      "metadata": {},
      "execution_count": null,
      "source": "import pandas as pd\nimport numpy as np\ndf = pd.DataFrame({'value': np.append(np.random.normal(0, 1, 20), [1830])})\nthreshold = 3\nanomalies = df[np.abs(df['value']) > threshold]\nanomalies",
      "outputs": []
    },
    {
      "id": "01968b21",
      "cell_type": "code",
      "metadata": {},
      "execution_count": null,
      "source": "import pandas as pd\nimport numpy as np\ndf = pd.DataFrame({'value': np.append(np.random.normal(0, 1, 20), [1840])})\nthreshold = 3\nanomalies = df[np.abs(df['value']) > threshold]\nanomalies",
      "outputs": []
    },
    {
      "id": "58a4c67c",
      "cell_type": "code",
      "metadata": {},
      "execution_count": null,
      "source": "import pandas as pd\nimport numpy as np\ndf = pd.DataFrame({'value': np.append(np.random.normal(0, 1, 20), [1850])})\nthreshold = 3\nanomalies = df[np.abs(df['value']) > threshold]\nanomalies",
      "outputs": []
    },
    {
      "id": "ee250e4e",
      "cell_type": "code",
      "metadata": {},
      "execution_count": null,
      "source": "import pandas as pd\nimport numpy as np\ndf = pd.DataFrame({'value': np.append(np.random.normal(0, 1, 20), [1860])})\nthreshold = 3\nanomalies = df[np.abs(df['value']) > threshold]\nanomalies",
      "outputs": []
    },
    {
      "id": "882b9d0d",
      "cell_type": "code",
      "metadata": {},
      "execution_count": null,
      "source": "import pandas as pd\nimport numpy as np\ndf = pd.DataFrame({'value': np.append(np.random.normal(0, 1, 20), [1870])})\nthreshold = 3\nanomalies = df[np.abs(df['value']) > threshold]\nanomalies",
      "outputs": []
    },
    {
      "id": "ba599158",
      "cell_type": "code",
      "metadata": {},
      "execution_count": null,
      "source": "import pandas as pd\nimport numpy as np\ndf = pd.DataFrame({'value': np.append(np.random.normal(0, 1, 20), [1880])})\nthreshold = 3\nanomalies = df[np.abs(df['value']) > threshold]\nanomalies",
      "outputs": []
    },
    {
      "id": "59a0c6a6",
      "cell_type": "code",
      "metadata": {},
      "execution_count": null,
      "source": "import pandas as pd\nimport numpy as np\ndf = pd.DataFrame({'value': np.append(np.random.normal(0, 1, 20), [1890])})\nthreshold = 3\nanomalies = df[np.abs(df['value']) > threshold]\nanomalies",
      "outputs": []
    },
    {
      "id": "2d5e6ae5",
      "cell_type": "code",
      "metadata": {},
      "execution_count": null,
      "source": "import pandas as pd\nimport numpy as np\ndf = pd.DataFrame({'value': np.append(np.random.normal(0, 1, 20), [1900])})\nthreshold = 3\nanomalies = df[np.abs(df['value']) > threshold]\nanomalies",
      "outputs": []
    },
    {
      "id": "86f92300",
      "cell_type": "code",
      "metadata": {},
      "execution_count": null,
      "source": "import pandas as pd\nimport numpy as np\ndf = pd.DataFrame({'value': np.append(np.random.normal(0, 1, 20), [1910])})\nthreshold = 3\nanomalies = df[np.abs(df['value']) > threshold]\nanomalies",
      "outputs": []
    },
    {
      "id": "06230ba5",
      "cell_type": "code",
      "metadata": {},
      "execution_count": null,
      "source": "import pandas as pd\nimport numpy as np\ndf = pd.DataFrame({'value': np.append(np.random.normal(0, 1, 20), [1920])})\nthreshold = 3\nanomalies = df[np.abs(df['value']) > threshold]\nanomalies",
      "outputs": []
    },
    {
      "id": "3a6e2ce6",
      "cell_type": "code",
      "metadata": {},
      "execution_count": null,
      "source": "import pandas as pd\nimport numpy as np\ndf = pd.DataFrame({'value': np.append(np.random.normal(0, 1, 20), [1930])})\nthreshold = 3\nanomalies = df[np.abs(df['value']) > threshold]\nanomalies",
      "outputs": []
    },
    {
      "id": "d57ed2f6",
      "cell_type": "code",
      "metadata": {},
      "execution_count": null,
      "source": "import pandas as pd\nimport numpy as np\ndf = pd.DataFrame({'value': np.append(np.random.normal(0, 1, 20), [1940])})\nthreshold = 3\nanomalies = df[np.abs(df['value']) > threshold]\nanomalies",
      "outputs": []
    },
    {
      "id": "dd555acb",
      "cell_type": "code",
      "metadata": {},
      "execution_count": null,
      "source": "import pandas as pd\nimport numpy as np\ndf = pd.DataFrame({'value': np.append(np.random.normal(0, 1, 20), [1950])})\nthreshold = 3\nanomalies = df[np.abs(df['value']) > threshold]\nanomalies",
      "outputs": []
    },
    {
      "id": "dc4da671",
      "cell_type": "code",
      "metadata": {},
      "execution_count": null,
      "source": "import pandas as pd\nimport numpy as np\ndf = pd.DataFrame({'value': np.append(np.random.normal(0, 1, 20), [1960])})\nthreshold = 3\nanomalies = df[np.abs(df['value']) > threshold]\nanomalies",
      "outputs": []
    },
    {
      "id": "81d38308",
      "cell_type": "code",
      "metadata": {},
      "execution_count": null,
      "source": "import pandas as pd\nimport numpy as np\ndf = pd.DataFrame({'value': np.append(np.random.normal(0, 1, 20), [1970])})\nthreshold = 3\nanomalies = df[np.abs(df['value']) > threshold]\nanomalies",
      "outputs": []
    },
    {
      "id": "c425dff0",
      "cell_type": "code",
      "metadata": {},
      "execution_count": null,
      "source": "import pandas as pd\nimport numpy as np\ndf = pd.DataFrame({'value': np.append(np.random.normal(0, 1, 20), [1980])})\nthreshold = 3\nanomalies = df[np.abs(df['value']) > threshold]\nanomalies",
      "outputs": []
    },
    {
      "id": "e07ce922",
      "cell_type": "code",
      "metadata": {},
      "execution_count": null,
      "source": "import pandas as pd\nimport numpy as np\ndf = pd.DataFrame({'value': np.append(np.random.normal(0, 1, 20), [1990])})\nthreshold = 3\nanomalies = df[np.abs(df['value']) > threshold]\nanomalies",
      "outputs": []
    },
    {
      "id": "d721937f",
      "cell_type": "code",
      "metadata": {},
      "execution_count": null,
      "source": "import pandas as pd\nimport numpy as np\ndf = pd.DataFrame({'value': np.append(np.random.normal(0, 1, 20), [2000])})\nthreshold = 3\nanomalies = df[np.abs(df['value']) > threshold]\nanomalies",
      "outputs": []
    }
  ]
}