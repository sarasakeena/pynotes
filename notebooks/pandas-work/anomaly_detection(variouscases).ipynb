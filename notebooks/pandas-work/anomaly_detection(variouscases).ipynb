{
 "cells": [
  {
   "cell_type": "code",
   "execution_count": null,
   "id": "b7e4c8af",
   "metadata": {},
   "outputs": [],
   "source": [
    "import pandas as pd\n",
    "import numpy as np\n",
    "df = pd.DataFrame({'value': np.append(np.random.normal(0, 1, 20), [10])})\n",
    "threshold = 3\n",
    "anomalies = df[np.abs(df['value']) > threshold]\n",
    "anomalies"
   ]
  },
  {
   "cell_type": "code",
   "execution_count": null,
   "id": "5722522b",
   "metadata": {},
   "outputs": [],
   "source": [
    "import pandas as pd\n",
    "import numpy as np\n",
    "df = pd.DataFrame({'value': np.append(np.random.normal(0, 1, 20), [20])})\n",
    "threshold = 3\n",
    "anomalies = df[np.abs(df['value']) > threshold]\n",
    "anomalies"
   ]
  },
  {
   "cell_type": "code",
   "execution_count": null,
   "id": "5e0bc70a",
   "metadata": {},
   "outputs": [],
   "source": [
    "import pandas as pd\n",
    "import numpy as np\n",
    "df = pd.DataFrame({'value': np.append(np.random.normal(0, 1, 20), [30])})\n",
    "threshold = 3\n",
    "anomalies = df[np.abs(df['value']) > threshold]\n",
    "anomalies"
   ]
  },
  {
   "cell_type": "code",
   "execution_count": null,
   "id": "55a967aa",
   "metadata": {},
   "outputs": [],
   "source": [
    "import pandas as pd\n",
    "import numpy as np\n",
    "df = pd.DataFrame({'value': np.append(np.random.normal(0, 1, 20), [40])})\n",
    "threshold = 3\n",
    "anomalies = df[np.abs(df['value']) > threshold]\n",
    "anomalies"
   ]
  },
  {
   "cell_type": "code",
   "execution_count": null,
   "id": "f1d599d5",
   "metadata": {},
   "outputs": [],
   "source": [
    "import pandas as pd\n",
    "import numpy as np\n",
    "df = pd.DataFrame({'value': np.append(np.random.normal(0, 1, 20), [50])})\n",
    "threshold = 3\n",
    "anomalies = df[np.abs(df['value']) > threshold]\n",
    "anomalies"
   ]
  },
  {
   "cell_type": "code",
   "execution_count": null,
   "id": "a223b516",
   "metadata": {},
   "outputs": [],
   "source": [
    "import pandas as pd\n",
    "import numpy as np\n",
    "df = pd.DataFrame({'value': np.append(np.random.normal(0, 1, 20), [60])})\n",
    "threshold = 3\n",
    "anomalies = df[np.abs(df['value']) > threshold]\n",
    "anomalies"
   ]
  },
  {
   "cell_type": "code",
   "execution_count": null,
   "id": "2375add2",
   "metadata": {},
   "outputs": [],
   "source": [
    "import pandas as pd\n",
    "import numpy as np\n",
    "df = pd.DataFrame({'value': np.append(np.random.normal(0, 1, 20), [70])})\n",
    "threshold = 3\n",
    "anomalies = df[np.abs(df['value']) > threshold]\n",
    "anomalies"
   ]
  },
  {
   "cell_type": "code",
   "execution_count": null,
   "id": "607c6fdc",
   "metadata": {},
   "outputs": [],
   "source": [
    "import pandas as pd\n",
    "import numpy as np\n",
    "df = pd.DataFrame({'value': np.append(np.random.normal(0, 1, 20), [80])})\n",
    "threshold = 3\n",
    "anomalies = df[np.abs(df['value']) > threshold]\n",
    "anomalies"
   ]
  },
  {
   "cell_type": "code",
   "execution_count": null,
   "id": "1dfd91cb",
   "metadata": {},
   "outputs": [],
   "source": [
    "import pandas as pd\n",
    "import numpy as np\n",
    "df = pd.DataFrame({'value': np.append(np.random.normal(0, 1, 20), [90])})\n",
    "threshold = 3\n",
    "anomalies = df[np.abs(df['value']) > threshold]\n",
    "anomalies"
   ]
  },
  {
   "cell_type": "code",
   "execution_count": null,
   "id": "2c1287a1",
   "metadata": {},
   "outputs": [],
   "source": [
    "import pandas as pd\n",
    "import numpy as np\n",
    "df = pd.DataFrame({'value': np.append(np.random.normal(0, 1, 20), [100])})\n",
    "threshold = 3\n",
    "anomalies = df[np.abs(df['value']) > threshold]\n",
    "anomalies"
   ]
  },
  {
   "cell_type": "code",
   "execution_count": null,
   "id": "7ec7afe6",
   "metadata": {},
   "outputs": [],
   "source": [
    "import pandas as pd\n",
    "import numpy as np\n",
    "df = pd.DataFrame({'value': np.append(np.random.normal(0, 1, 20), [110])})\n",
    "threshold = 3\n",
    "anomalies = df[np.abs(df['value']) > threshold]\n",
    "anomalies"
   ]
  },
  {
   "cell_type": "code",
   "execution_count": null,
   "id": "85201dab",
   "metadata": {},
   "outputs": [],
   "source": [
    "import pandas as pd\n",
    "import numpy as np\n",
    "df = pd.DataFrame({'value': np.append(np.random.normal(0, 1, 20), [120])})\n",
    "threshold = 3\n",
    "anomalies = df[np.abs(df['value']) > threshold]\n",
    "anomalies"
   ]
  },
  {
   "cell_type": "code",
   "execution_count": null,
   "id": "5346714e",
   "metadata": {},
   "outputs": [],
   "source": [
    "import pandas as pd\n",
    "import numpy as np\n",
    "df = pd.DataFrame({'value': np.append(np.random.normal(0, 1, 20), [130])})\n",
    "threshold = 3\n",
    "anomalies = df[np.abs(df['value']) > threshold]\n",
    "anomalies"
   ]
  },
  {
   "cell_type": "code",
   "execution_count": null,
   "id": "4900c39e",
   "metadata": {},
   "outputs": [],
   "source": [
    "import pandas as pd\n",
    "import numpy as np\n",
    "df = pd.DataFrame({'value': np.append(np.random.normal(0, 1, 20), [140])})\n",
    "threshold = 3\n",
    "anomalies = df[np.abs(df['value']) > threshold]\n",
    "anomalies"
   ]
  },
  {
   "cell_type": "code",
   "execution_count": null,
   "id": "85bba150",
   "metadata": {},
   "outputs": [],
   "source": [
    "import pandas as pd\n",
    "import numpy as np\n",
    "df = pd.DataFrame({'value': np.append(np.random.normal(0, 1, 20), [150])})\n",
    "threshold = 3\n",
    "anomalies = df[np.abs(df['value']) > threshold]\n",
    "anomalies"
   ]
  },
  {
   "cell_type": "code",
   "execution_count": null,
   "id": "a52be5fb",
   "metadata": {},
   "outputs": [],
   "source": [
    "import pandas as pd\n",
    "import numpy as np\n",
    "df = pd.DataFrame({'value': np.append(np.random.normal(0, 1, 20), [160])})\n",
    "threshold = 3\n",
    "anomalies = df[np.abs(df['value']) > threshold]\n",
    "anomalies"
   ]
  },
  {
   "cell_type": "code",
   "execution_count": null,
   "id": "c750497d",
   "metadata": {},
   "outputs": [],
   "source": [
    "import pandas as pd\n",
    "import numpy as np\n",
    "df = pd.DataFrame({'value': np.append(np.random.normal(0, 1, 20), [170])})\n",
    "threshold = 3\n",
    "anomalies = df[np.abs(df['value']) > threshold]\n",
    "anomalies"
   ]
  },
  {
   "cell_type": "code",
   "execution_count": null,
   "id": "6fd492d5",
   "metadata": {},
   "outputs": [],
   "source": [
    "import pandas as pd\n",
    "import numpy as np\n",
    "df = pd.DataFrame({'value': np.append(np.random.normal(0, 1, 20), [180])})\n",
    "threshold = 3\n",
    "anomalies = df[np.abs(df['value']) > threshold]\n",
    "anomalies"
   ]
  },
  {
   "cell_type": "code",
   "execution_count": null,
   "id": "92a24265",
   "metadata": {},
   "outputs": [],
   "source": [
    "import pandas as pd\n",
    "import numpy as np\n",
    "df = pd.DataFrame({'value': np.append(np.random.normal(0, 1, 20), [190])})\n",
    "threshold = 3\n",
    "anomalies = df[np.abs(df['value']) > threshold]\n",
    "anomalies"
   ]
  },
  {
   "cell_type": "code",
   "execution_count": null,
   "id": "1a76934c",
   "metadata": {},
   "outputs": [],
   "source": [
    "import pandas as pd\n",
    "import numpy as np\n",
    "df = pd.DataFrame({'value': np.append(np.random.normal(0, 1, 20), [200])})\n",
    "threshold = 3\n",
    "anomalies = df[np.abs(df['value']) > threshold]\n",
    "anomalies"
   ]
  },
  {
   "cell_type": "code",
   "execution_count": null,
   "id": "e70836f4",
   "metadata": {},
   "outputs": [],
   "source": [
    "import pandas as pd\n",
    "import numpy as np\n",
    "df = pd.DataFrame({'value': np.append(np.random.normal(0, 1, 20), [210])})\n",
    "threshold = 3\n",
    "anomalies = df[np.abs(df['value']) > threshold]\n",
    "anomalies"
   ]
  },
  {
   "cell_type": "code",
   "execution_count": null,
   "id": "b0237b0c",
   "metadata": {},
   "outputs": [],
   "source": [
    "import pandas as pd\n",
    "import numpy as np\n",
    "df = pd.DataFrame({'value': np.append(np.random.normal(0, 1, 20), [220])})\n",
    "threshold = 3\n",
    "anomalies = df[np.abs(df['value']) > threshold]\n",
    "anomalies"
   ]
  },
  {
   "cell_type": "code",
   "execution_count": null,
   "id": "b03a3685",
   "metadata": {},
   "outputs": [],
   "source": [
    "import pandas as pd\n",
    "import numpy as np\n",
    "df = pd.DataFrame({'value': np.append(np.random.normal(0, 1, 20), [230])})\n",
    "threshold = 3\n",
    "anomalies = df[np.abs(df['value']) > threshold]\n",
    "anomalies"
   ]
  },
  {
   "cell_type": "code",
   "execution_count": null,
   "id": "e8e4dd87",
   "metadata": {},
   "outputs": [],
   "source": [
    "import pandas as pd\n",
    "import numpy as np\n",
    "df = pd.DataFrame({'value': np.append(np.random.normal(0, 1, 20), [240])})\n",
    "threshold = 3\n",
    "anomalies = df[np.abs(df['value']) > threshold]\n",
    "anomalies"
   ]
  },
  {
   "cell_type": "code",
   "execution_count": null,
   "id": "5b29b602",
   "metadata": {},
   "outputs": [],
   "source": [
    "import pandas as pd\n",
    "import numpy as np\n",
    "df = pd.DataFrame({'value': np.append(np.random.normal(0, 1, 20), [250])})\n",
    "threshold = 3\n",
    "anomalies = df[np.abs(df['value']) > threshold]\n",
    "anomalies"
   ]
  },
  {
   "cell_type": "code",
   "execution_count": null,
   "id": "813cd219",
   "metadata": {},
   "outputs": [],
   "source": [
    "import pandas as pd\n",
    "import numpy as np\n",
    "df = pd.DataFrame({'value': np.append(np.random.normal(0, 1, 20), [260])})\n",
    "threshold = 3\n",
    "anomalies = df[np.abs(df['value']) > threshold]\n",
    "anomalies"
   ]
  },
  {
   "cell_type": "code",
   "execution_count": null,
   "id": "74fe011f",
   "metadata": {},
   "outputs": [],
   "source": [
    "import pandas as pd\n",
    "import numpy as np\n",
    "df = pd.DataFrame({'value': np.append(np.random.normal(0, 1, 20), [270])})\n",
    "threshold = 3\n",
    "anomalies = df[np.abs(df['value']) > threshold]\n",
    "anomalies"
   ]
  },
  {
   "cell_type": "code",
   "execution_count": null,
   "id": "d17cb04c",
   "metadata": {},
   "outputs": [],
   "source": [
    "import pandas as pd\n",
    "import numpy as np\n",
    "df = pd.DataFrame({'value': np.append(np.random.normal(0, 1, 20), [280])})\n",
    "threshold = 3\n",
    "anomalies = df[np.abs(df['value']) > threshold]\n",
    "anomalies"
   ]
  },
  {
   "cell_type": "code",
   "execution_count": null,
   "id": "3bbfb699",
   "metadata": {},
   "outputs": [],
   "source": [
    "import pandas as pd\n",
    "import numpy as np\n",
    "df = pd.DataFrame({'value': np.append(np.random.normal(0, 1, 20), [290])})\n",
    "threshold = 3\n",
    "anomalies = df[np.abs(df['value']) > threshold]\n",
    "anomalies"
   ]
  },
  {
   "cell_type": "code",
   "execution_count": null,
   "id": "80756a31",
   "metadata": {},
   "outputs": [],
   "source": [
    "import pandas as pd\n",
    "import numpy as np\n",
    "df = pd.DataFrame({'value': np.append(np.random.normal(0, 1, 20), [300])})\n",
    "threshold = 3\n",
    "anomalies = df[np.abs(df['value']) > threshold]\n",
    "anomalies"
   ]
  },
  {
   "cell_type": "code",
   "execution_count": null,
   "id": "da4ebb45",
   "metadata": {},
   "outputs": [],
   "source": [
    "import pandas as pd\n",
    "import numpy as np\n",
    "df = pd.DataFrame({'value': np.append(np.random.normal(0, 1, 20), [310])})\n",
    "threshold = 3\n",
    "anomalies = df[np.abs(df['value']) > threshold]\n",
    "anomalies"
   ]
  },
  {
   "cell_type": "code",
   "execution_count": null,
   "id": "7efddc8d",
   "metadata": {},
   "outputs": [],
   "source": [
    "import pandas as pd\n",
    "import numpy as np\n",
    "df = pd.DataFrame({'value': np.append(np.random.normal(0, 1, 20), [320])})\n",
    "threshold = 3\n",
    "anomalies = df[np.abs(df['value']) > threshold]\n",
    "anomalies"
   ]
  },
  {
   "cell_type": "code",
   "execution_count": null,
   "id": "6ad7ae5a",
   "metadata": {},
   "outputs": [],
   "source": [
    "import pandas as pd\n",
    "import numpy as np\n",
    "df = pd.DataFrame({'value': np.append(np.random.normal(0, 1, 20), [330])})\n",
    "threshold = 3\n",
    "anomalies = df[np.abs(df['value']) > threshold]\n",
    "anomalies"
   ]
  },
  {
   "cell_type": "code",
   "execution_count": null,
   "id": "cbd06ff1",
   "metadata": {},
   "outputs": [],
   "source": [
    "import pandas as pd\n",
    "import numpy as np\n",
    "df = pd.DataFrame({'value': np.append(np.random.normal(0, 1, 20), [340])})\n",
    "threshold = 3\n",
    "anomalies = df[np.abs(df['value']) > threshold]\n",
    "anomalies"
   ]
  },
  {
   "cell_type": "code",
   "execution_count": null,
   "id": "d47953cf",
   "metadata": {},
   "outputs": [],
   "source": [
    "import pandas as pd\n",
    "import numpy as np\n",
    "df = pd.DataFrame({'value': np.append(np.random.normal(0, 1, 20), [350])})\n",
    "threshold = 3\n",
    "anomalies = df[np.abs(df['value']) > threshold]\n",
    "anomalies"
   ]
  },
  {
   "cell_type": "code",
   "execution_count": null,
   "id": "af07fdb1",
   "metadata": {},
   "outputs": [],
   "source": [
    "import pandas as pd\n",
    "import numpy as np\n",
    "df = pd.DataFrame({'value': np.append(np.random.normal(0, 1, 20), [360])})\n",
    "threshold = 3\n",
    "anomalies = df[np.abs(df['value']) > threshold]\n",
    "anomalies"
   ]
  },
  {
   "cell_type": "code",
   "execution_count": null,
   "id": "2181d8e6",
   "metadata": {},
   "outputs": [],
   "source": [
    "import pandas as pd\n",
    "import numpy as np\n",
    "df = pd.DataFrame({'value': np.append(np.random.normal(0, 1, 20), [370])})\n",
    "threshold = 3\n",
    "anomalies = df[np.abs(df['value']) > threshold]\n",
    "anomalies"
   ]
  },
  {
   "cell_type": "code",
   "execution_count": null,
   "id": "4f623bec",
   "metadata": {},
   "outputs": [],
   "source": [
    "import pandas as pd\n",
    "import numpy as np\n",
    "df = pd.DataFrame({'value': np.append(np.random.normal(0, 1, 20), [380])})\n",
    "threshold = 3\n",
    "anomalies = df[np.abs(df['value']) > threshold]\n",
    "anomalies"
   ]
  },
  {
   "cell_type": "code",
   "execution_count": null,
   "id": "a40c6f25",
   "metadata": {},
   "outputs": [],
   "source": [
    "import pandas as pd\n",
    "import numpy as np\n",
    "df = pd.DataFrame({'value': np.append(np.random.normal(0, 1, 20), [390])})\n",
    "threshold = 3\n",
    "anomalies = df[np.abs(df['value']) > threshold]\n",
    "anomalies"
   ]
  },
  {
   "cell_type": "code",
   "execution_count": null,
   "id": "7aa9f100",
   "metadata": {},
   "outputs": [],
   "source": [
    "import pandas as pd\n",
    "import numpy as np\n",
    "df = pd.DataFrame({'value': np.append(np.random.normal(0, 1, 20), [400])})\n",
    "threshold = 3\n",
    "anomalies = df[np.abs(df['value']) > threshold]\n",
    "anomalies"
   ]
  },
  {
   "cell_type": "code",
   "execution_count": null,
   "id": "4d59d36f",
   "metadata": {},
   "outputs": [],
   "source": [
    "import pandas as pd\n",
    "import numpy as np\n",
    "df = pd.DataFrame({'value': np.append(np.random.normal(0, 1, 20), [410])})\n",
    "threshold = 3\n",
    "anomalies = df[np.abs(df['value']) > threshold]\n",
    "anomalies"
   ]
  },
  {
   "cell_type": "code",
   "execution_count": null,
   "id": "2ab40834",
   "metadata": {},
   "outputs": [],
   "source": [
    "import pandas as pd\n",
    "import numpy as np\n",
    "df = pd.DataFrame({'value': np.append(np.random.normal(0, 1, 20), [420])})\n",
    "threshold = 3\n",
    "anomalies = df[np.abs(df['value']) > threshold]\n",
    "anomalies"
   ]
  },
  {
   "cell_type": "code",
   "execution_count": null,
   "id": "037010c4",
   "metadata": {},
   "outputs": [],
   "source": [
    "import pandas as pd\n",
    "import numpy as np\n",
    "df = pd.DataFrame({'value': np.append(np.random.normal(0, 1, 20), [430])})\n",
    "threshold = 3\n",
    "anomalies = df[np.abs(df['value']) > threshold]\n",
    "anomalies"
   ]
  },
  {
   "cell_type": "code",
   "execution_count": null,
   "id": "67c46c9b",
   "metadata": {},
   "outputs": [],
   "source": [
    "import pandas as pd\n",
    "import numpy as np\n",
    "df = pd.DataFrame({'value': np.append(np.random.normal(0, 1, 20), [440])})\n",
    "threshold = 3\n",
    "anomalies = df[np.abs(df['value']) > threshold]\n",
    "anomalies"
   ]
  },
  {
   "cell_type": "code",
   "execution_count": null,
   "id": "65568185",
   "metadata": {},
   "outputs": [],
   "source": [
    "import pandas as pd\n",
    "import numpy as np\n",
    "df = pd.DataFrame({'value': np.append(np.random.normal(0, 1, 20), [450])})\n",
    "threshold = 3\n",
    "anomalies = df[np.abs(df['value']) > threshold]\n",
    "anomalies"
   ]
  },
  {
   "cell_type": "code",
   "execution_count": null,
   "id": "61e36b53",
   "metadata": {},
   "outputs": [],
   "source": [
    "import pandas as pd\n",
    "import numpy as np\n",
    "df = pd.DataFrame({'value': np.append(np.random.normal(0, 1, 20), [460])})\n",
    "threshold = 3\n",
    "anomalies = df[np.abs(df['value']) > threshold]\n",
    "anomalies"
   ]
  },
  {
   "cell_type": "code",
   "execution_count": null,
   "id": "5961e896",
   "metadata": {},
   "outputs": [],
   "source": [
    "import pandas as pd\n",
    "import numpy as np\n",
    "df = pd.DataFrame({'value': np.append(np.random.normal(0, 1, 20), [470])})\n",
    "threshold = 3\n",
    "anomalies = df[np.abs(df['value']) > threshold]\n",
    "anomalies"
   ]
  },
  {
   "cell_type": "code",
   "execution_count": null,
   "id": "2a0adad6",
   "metadata": {},
   "outputs": [],
   "source": [
    "import pandas as pd\n",
    "import numpy as np\n",
    "df = pd.DataFrame({'value': np.append(np.random.normal(0, 1, 20), [480])})\n",
    "threshold = 3\n",
    "anomalies = df[np.abs(df['value']) > threshold]\n",
    "anomalies"
   ]
  },
  {
   "cell_type": "code",
   "execution_count": null,
   "id": "ed24899d",
   "metadata": {},
   "outputs": [],
   "source": [
    "import pandas as pd\n",
    "import numpy as np\n",
    "df = pd.DataFrame({'value': np.append(np.random.normal(0, 1, 20), [490])})\n",
    "threshold = 3\n",
    "anomalies = df[np.abs(df['value']) > threshold]\n",
    "anomalies"
   ]
  },
  {
   "cell_type": "code",
   "execution_count": null,
   "id": "751aa6a8",
   "metadata": {},
   "outputs": [],
   "source": [
    "import pandas as pd\n",
    "import numpy as np\n",
    "df = pd.DataFrame({'value': np.append(np.random.normal(0, 1, 20), [500])})\n",
    "threshold = 3\n",
    "anomalies = df[np.abs(df['value']) > threshold]\n",
    "anomalies"
   ]
  },
  {
   "cell_type": "code",
   "execution_count": null,
   "id": "6b381c16",
   "metadata": {},
   "outputs": [],
   "source": [
    "import pandas as pd\n",
    "import numpy as np\n",
    "df = pd.DataFrame({'value': np.append(np.random.normal(0, 1, 20), [510])})\n",
    "threshold = 3\n",
    "anomalies = df[np.abs(df['value']) > threshold]\n",
    "anomalies"
   ]
  },
  {
   "cell_type": "code",
   "execution_count": null,
   "id": "bc9b92fc",
   "metadata": {},
   "outputs": [],
   "source": [
    "import pandas as pd\n",
    "import numpy as np\n",
    "df = pd.DataFrame({'value': np.append(np.random.normal(0, 1, 20), [520])})\n",
    "threshold = 3\n",
    "anomalies = df[np.abs(df['value']) > threshold]\n",
    "anomalies"
   ]
  },
  {
   "cell_type": "code",
   "execution_count": null,
   "id": "95935c0d",
   "metadata": {},
   "outputs": [],
   "source": [
    "import pandas as pd\n",
    "import numpy as np\n",
    "df = pd.DataFrame({'value': np.append(np.random.normal(0, 1, 20), [530])})\n",
    "threshold = 3\n",
    "anomalies = df[np.abs(df['value']) > threshold]\n",
    "anomalies"
   ]
  },
  {
   "cell_type": "code",
   "execution_count": null,
   "id": "2b2689df",
   "metadata": {},
   "outputs": [],
   "source": [
    "import pandas as pd\n",
    "import numpy as np\n",
    "df = pd.DataFrame({'value': np.append(np.random.normal(0, 1, 20), [540])})\n",
    "threshold = 3\n",
    "anomalies = df[np.abs(df['value']) > threshold]\n",
    "anomalies"
   ]
  },
  {
   "cell_type": "code",
   "execution_count": null,
   "id": "dc9651a5",
   "metadata": {},
   "outputs": [],
   "source": [
    "import pandas as pd\n",
    "import numpy as np\n",
    "df = pd.DataFrame({'value': np.append(np.random.normal(0, 1, 20), [550])})\n",
    "threshold = 3\n",
    "anomalies = df[np.abs(df['value']) > threshold]\n",
    "anomalies"
   ]
  },
  {
   "cell_type": "code",
   "execution_count": null,
   "id": "6600d6cb",
   "metadata": {},
   "outputs": [],
   "source": [
    "import pandas as pd\n",
    "import numpy as np\n",
    "df = pd.DataFrame({'value': np.append(np.random.normal(0, 1, 20), [560])})\n",
    "threshold = 3\n",
    "anomalies = df[np.abs(df['value']) > threshold]\n",
    "anomalies"
   ]
  },
  {
   "cell_type": "code",
   "execution_count": null,
   "id": "6cbbc98a",
   "metadata": {},
   "outputs": [],
   "source": [
    "import pandas as pd\n",
    "import numpy as np\n",
    "df = pd.DataFrame({'value': np.append(np.random.normal(0, 1, 20), [570])})\n",
    "threshold = 3\n",
    "anomalies = df[np.abs(df['value']) > threshold]\n",
    "anomalies"
   ]
  },
  {
   "cell_type": "code",
   "execution_count": null,
   "id": "ab99c21b",
   "metadata": {},
   "outputs": [],
   "source": [
    "import pandas as pd\n",
    "import numpy as np\n",
    "df = pd.DataFrame({'value': np.append(np.random.normal(0, 1, 20), [580])})\n",
    "threshold = 3\n",
    "anomalies = df[np.abs(df['value']) > threshold]\n",
    "anomalies"
   ]
  },
  {
   "cell_type": "code",
   "execution_count": null,
   "id": "cd1cda1c",
   "metadata": {},
   "outputs": [],
   "source": [
    "import pandas as pd\n",
    "import numpy as np\n",
    "df = pd.DataFrame({'value': np.append(np.random.normal(0, 1, 20), [590])})\n",
    "threshold = 3\n",
    "anomalies = df[np.abs(df['value']) > threshold]\n",
    "anomalies"
   ]
  },
  {
   "cell_type": "code",
   "execution_count": null,
   "id": "1a54e758",
   "metadata": {},
   "outputs": [],
   "source": [
    "import pandas as pd\n",
    "import numpy as np\n",
    "df = pd.DataFrame({'value': np.append(np.random.normal(0, 1, 20), [600])})\n",
    "threshold = 3\n",
    "anomalies = df[np.abs(df['value']) > threshold]\n",
    "anomalies"
   ]
  },
  {
   "cell_type": "code",
   "execution_count": null,
   "id": "3c0f6bb1",
   "metadata": {},
   "outputs": [],
   "source": [
    "import pandas as pd\n",
    "import numpy as np\n",
    "df = pd.DataFrame({'value': np.append(np.random.normal(0, 1, 20), [610])})\n",
    "threshold = 3\n",
    "anomalies = df[np.abs(df['value']) > threshold]\n",
    "anomalies"
   ]
  },
  {
   "cell_type": "code",
   "execution_count": null,
   "id": "c8d5f425",
   "metadata": {},
   "outputs": [],
   "source": [
    "import pandas as pd\n",
    "import numpy as np\n",
    "df = pd.DataFrame({'value': np.append(np.random.normal(0, 1, 20), [620])})\n",
    "threshold = 3\n",
    "anomalies = df[np.abs(df['value']) > threshold]\n",
    "anomalies"
   ]
  },
  {
   "cell_type": "code",
   "execution_count": null,
   "id": "61820aca",
   "metadata": {},
   "outputs": [],
   "source": [
    "import pandas as pd\n",
    "import numpy as np\n",
    "df = pd.DataFrame({'value': np.append(np.random.normal(0, 1, 20), [630])})\n",
    "threshold = 3\n",
    "anomalies = df[np.abs(df['value']) > threshold]\n",
    "anomalies"
   ]
  },
  {
   "cell_type": "code",
   "execution_count": null,
   "id": "32155212",
   "metadata": {},
   "outputs": [],
   "source": [
    "import pandas as pd\n",
    "import numpy as np\n",
    "df = pd.DataFrame({'value': np.append(np.random.normal(0, 1, 20), [640])})\n",
    "threshold = 3\n",
    "anomalies = df[np.abs(df['value']) > threshold]\n",
    "anomalies"
   ]
  },
  {
   "cell_type": "code",
   "execution_count": null,
   "id": "79cee64d",
   "metadata": {},
   "outputs": [],
   "source": [
    "import pandas as pd\n",
    "import numpy as np\n",
    "df = pd.DataFrame({'value': np.append(np.random.normal(0, 1, 20), [650])})\n",
    "threshold = 3\n",
    "anomalies = df[np.abs(df['value']) > threshold]\n",
    "anomalies"
   ]
  },
  {
   "cell_type": "code",
   "execution_count": null,
   "id": "f5b7ca2c",
   "metadata": {},
   "outputs": [],
   "source": [
    "import pandas as pd\n",
    "import numpy as np\n",
    "df = pd.DataFrame({'value': np.append(np.random.normal(0, 1, 20), [660])})\n",
    "threshold = 3\n",
    "anomalies = df[np.abs(df['value']) > threshold]\n",
    "anomalies"
   ]
  },
  {
   "cell_type": "code",
   "execution_count": null,
   "id": "fc46828f",
   "metadata": {},
   "outputs": [],
   "source": [
    "import pandas as pd\n",
    "import numpy as np\n",
    "df = pd.DataFrame({'value': np.append(np.random.normal(0, 1, 20), [670])})\n",
    "threshold = 3\n",
    "anomalies = df[np.abs(df['value']) > threshold]\n",
    "anomalies"
   ]
  },
  {
   "cell_type": "code",
   "execution_count": null,
   "id": "1080993e",
   "metadata": {},
   "outputs": [],
   "source": [
    "import pandas as pd\n",
    "import numpy as np\n",
    "df = pd.DataFrame({'value': np.append(np.random.normal(0, 1, 20), [680])})\n",
    "threshold = 3\n",
    "anomalies = df[np.abs(df['value']) > threshold]\n",
    "anomalies"
   ]
  },
  {
   "cell_type": "code",
   "execution_count": null,
   "id": "5a0b40ce",
   "metadata": {},
   "outputs": [],
   "source": [
    "import pandas as pd\n",
    "import numpy as np\n",
    "df = pd.DataFrame({'value': np.append(np.random.normal(0, 1, 20), [690])})\n",
    "threshold = 3\n",
    "anomalies = df[np.abs(df['value']) > threshold]\n",
    "anomalies"
   ]
  },
  {
   "cell_type": "code",
   "execution_count": null,
   "id": "2b5d6a50",
   "metadata": {},
   "outputs": [],
   "source": [
    "import pandas as pd\n",
    "import numpy as np\n",
    "df = pd.DataFrame({'value': np.append(np.random.normal(0, 1, 20), [700])})\n",
    "threshold = 3\n",
    "anomalies = df[np.abs(df['value']) > threshold]\n",
    "anomalies"
   ]
  },
  {
   "cell_type": "code",
   "execution_count": null,
   "id": "51608689",
   "metadata": {},
   "outputs": [],
   "source": [
    "import pandas as pd\n",
    "import numpy as np\n",
    "df = pd.DataFrame({'value': np.append(np.random.normal(0, 1, 20), [710])})\n",
    "threshold = 3\n",
    "anomalies = df[np.abs(df['value']) > threshold]\n",
    "anomalies"
   ]
  },
  {
   "cell_type": "code",
   "execution_count": null,
   "id": "9635fb52",
   "metadata": {},
   "outputs": [],
   "source": [
    "import pandas as pd\n",
    "import numpy as np\n",
    "df = pd.DataFrame({'value': np.append(np.random.normal(0, 1, 20), [720])})\n",
    "threshold = 3\n",
    "anomalies = df[np.abs(df['value']) > threshold]\n",
    "anomalies"
   ]
  },
  {
   "cell_type": "code",
   "execution_count": null,
   "id": "24ac4955",
   "metadata": {},
   "outputs": [],
   "source": [
    "import pandas as pd\n",
    "import numpy as np\n",
    "df = pd.DataFrame({'value': np.append(np.random.normal(0, 1, 20), [730])})\n",
    "threshold = 3\n",
    "anomalies = df[np.abs(df['value']) > threshold]\n",
    "anomalies"
   ]
  },
  {
   "cell_type": "code",
   "execution_count": null,
   "id": "59ccc552",
   "metadata": {},
   "outputs": [],
   "source": [
    "import pandas as pd\n",
    "import numpy as np\n",
    "df = pd.DataFrame({'value': np.append(np.random.normal(0, 1, 20), [740])})\n",
    "threshold = 3\n",
    "anomalies = df[np.abs(df['value']) > threshold]\n",
    "anomalies"
   ]
  },
  {
   "cell_type": "code",
   "execution_count": null,
   "id": "3fb7f85e",
   "metadata": {},
   "outputs": [],
   "source": [
    "import pandas as pd\n",
    "import numpy as np\n",
    "df = pd.DataFrame({'value': np.append(np.random.normal(0, 1, 20), [750])})\n",
    "threshold = 3\n",
    "anomalies = df[np.abs(df['value']) > threshold]\n",
    "anomalies"
   ]
  },
  {
   "cell_type": "code",
   "execution_count": null,
   "id": "9d6cce89",
   "metadata": {},
   "outputs": [],
   "source": [
    "import pandas as pd\n",
    "import numpy as np\n",
    "df = pd.DataFrame({'value': np.append(np.random.normal(0, 1, 20), [760])})\n",
    "threshold = 3\n",
    "anomalies = df[np.abs(df['value']) > threshold]\n",
    "anomalies"
   ]
  },
  {
   "cell_type": "code",
   "execution_count": null,
   "id": "ac1182ec",
   "metadata": {},
   "outputs": [],
   "source": [
    "import pandas as pd\n",
    "import numpy as np\n",
    "df = pd.DataFrame({'value': np.append(np.random.normal(0, 1, 20), [770])})\n",
    "threshold = 3\n",
    "anomalies = df[np.abs(df['value']) > threshold]\n",
    "anomalies"
   ]
  },
  {
   "cell_type": "code",
   "execution_count": null,
   "id": "b2de8aae",
   "metadata": {},
   "outputs": [],
   "source": [
    "import pandas as pd\n",
    "import numpy as np\n",
    "df = pd.DataFrame({'value': np.append(np.random.normal(0, 1, 20), [780])})\n",
    "threshold = 3\n",
    "anomalies = df[np.abs(df['value']) > threshold]\n",
    "anomalies"
   ]
  },
  {
   "cell_type": "code",
   "execution_count": null,
   "id": "fea4e8c7",
   "metadata": {},
   "outputs": [],
   "source": [
    "import pandas as pd\n",
    "import numpy as np\n",
    "df = pd.DataFrame({'value': np.append(np.random.normal(0, 1, 20), [790])})\n",
    "threshold = 3\n",
    "anomalies = df[np.abs(df['value']) > threshold]\n",
    "anomalies"
   ]
  },
  {
   "cell_type": "code",
   "execution_count": null,
   "id": "da6ca033",
   "metadata": {},
   "outputs": [],
   "source": [
    "import pandas as pd\n",
    "import numpy as np\n",
    "df = pd.DataFrame({'value': np.append(np.random.normal(0, 1, 20), [800])})\n",
    "threshold = 3\n",
    "anomalies = df[np.abs(df['value']) > threshold]\n",
    "anomalies"
   ]
  },
  {
   "cell_type": "code",
   "execution_count": null,
   "id": "14963679",
   "metadata": {},
   "outputs": [],
   "source": [
    "import pandas as pd\n",
    "import numpy as np\n",
    "df = pd.DataFrame({'value': np.append(np.random.normal(0, 1, 20), [810])})\n",
    "threshold = 3\n",
    "anomalies = df[np.abs(df['value']) > threshold]\n",
    "anomalies"
   ]
  },
  {
   "cell_type": "code",
   "execution_count": null,
   "id": "fe78dd9e",
   "metadata": {},
   "outputs": [],
   "source": [
    "import pandas as pd\n",
    "import numpy as np\n",
    "df = pd.DataFrame({'value': np.append(np.random.normal(0, 1, 20), [820])})\n",
    "threshold = 3\n",
    "anomalies = df[np.abs(df['value']) > threshold]\n",
    "anomalies"
   ]
  },
  {
   "cell_type": "code",
   "execution_count": null,
   "id": "cfa89692",
   "metadata": {},
   "outputs": [],
   "source": [
    "import pandas as pd\n",
    "import numpy as np\n",
    "df = pd.DataFrame({'value': np.append(np.random.normal(0, 1, 20), [830])})\n",
    "threshold = 3\n",
    "anomalies = df[np.abs(df['value']) > threshold]\n",
    "anomalies"
   ]
  },
  {
   "cell_type": "code",
   "execution_count": null,
   "id": "e7370bb6",
   "metadata": {},
   "outputs": [],
   "source": [
    "import pandas as pd\n",
    "import numpy as np\n",
    "df = pd.DataFrame({'value': np.append(np.random.normal(0, 1, 20), [840])})\n",
    "threshold = 3\n",
    "anomalies = df[np.abs(df['value']) > threshold]\n",
    "anomalies"
   ]
  },
  {
   "cell_type": "code",
   "execution_count": null,
   "id": "9af32dbc",
   "metadata": {},
   "outputs": [],
   "source": [
    "import pandas as pd\n",
    "import numpy as np\n",
    "df = pd.DataFrame({'value': np.append(np.random.normal(0, 1, 20), [850])})\n",
    "threshold = 3\n",
    "anomalies = df[np.abs(df['value']) > threshold]\n",
    "anomalies"
   ]
  },
  {
   "cell_type": "code",
   "execution_count": null,
   "id": "2f051552",
   "metadata": {},
   "outputs": [],
   "source": [
    "import pandas as pd\n",
    "import numpy as np\n",
    "df = pd.DataFrame({'value': np.append(np.random.normal(0, 1, 20), [860])})\n",
    "threshold = 3\n",
    "anomalies = df[np.abs(df['value']) > threshold]\n",
    "anomalies"
   ]
  },
  {
   "cell_type": "code",
   "execution_count": null,
   "id": "f8d813d5",
   "metadata": {},
   "outputs": [],
   "source": [
    "import pandas as pd\n",
    "import numpy as np\n",
    "df = pd.DataFrame({'value': np.append(np.random.normal(0, 1, 20), [870])})\n",
    "threshold = 3\n",
    "anomalies = df[np.abs(df['value']) > threshold]\n",
    "anomalies"
   ]
  },
  {
   "cell_type": "code",
   "execution_count": null,
   "id": "6e13704f",
   "metadata": {},
   "outputs": [],
   "source": [
    "import pandas as pd\n",
    "import numpy as np\n",
    "df = pd.DataFrame({'value': np.append(np.random.normal(0, 1, 20), [880])})\n",
    "threshold = 3\n",
    "anomalies = df[np.abs(df['value']) > threshold]\n",
    "anomalies"
   ]
  },
  {
   "cell_type": "code",
   "execution_count": null,
   "id": "649dccf6",
   "metadata": {},
   "outputs": [],
   "source": [
    "import pandas as pd\n",
    "import numpy as np\n",
    "df = pd.DataFrame({'value': np.append(np.random.normal(0, 1, 20), [890])})\n",
    "threshold = 3\n",
    "anomalies = df[np.abs(df['value']) > threshold]\n",
    "anomalies"
   ]
  },
  {
   "cell_type": "code",
   "execution_count": null,
   "id": "37dd5763",
   "metadata": {},
   "outputs": [],
   "source": [
    "import pandas as pd\n",
    "import numpy as np\n",
    "df = pd.DataFrame({'value': np.append(np.random.normal(0, 1, 20), [900])})\n",
    "threshold = 3\n",
    "anomalies = df[np.abs(df['value']) > threshold]\n",
    "anomalies"
   ]
  },
  {
   "cell_type": "code",
   "execution_count": null,
   "id": "1ba28216",
   "metadata": {},
   "outputs": [],
   "source": [
    "import pandas as pd\n",
    "import numpy as np\n",
    "df = pd.DataFrame({'value': np.append(np.random.normal(0, 1, 20), [910])})\n",
    "threshold = 3\n",
    "anomalies = df[np.abs(df['value']) > threshold]\n",
    "anomalies"
   ]
  },
  {
   "cell_type": "code",
   "execution_count": null,
   "id": "eb13886d",
   "metadata": {},
   "outputs": [],
   "source": [
    "import pandas as pd\n",
    "import numpy as np\n",
    "df = pd.DataFrame({'value': np.append(np.random.normal(0, 1, 20), [920])})\n",
    "threshold = 3\n",
    "anomalies = df[np.abs(df['value']) > threshold]\n",
    "anomalies"
   ]
  },
  {
   "cell_type": "code",
   "execution_count": null,
   "id": "f6fad2ed",
   "metadata": {},
   "outputs": [],
   "source": [
    "import pandas as pd\n",
    "import numpy as np\n",
    "df = pd.DataFrame({'value': np.append(np.random.normal(0, 1, 20), [930])})\n",
    "threshold = 3\n",
    "anomalies = df[np.abs(df['value']) > threshold]\n",
    "anomalies"
   ]
  },
  {
   "cell_type": "code",
   "execution_count": null,
   "id": "f8862031",
   "metadata": {},
   "outputs": [],
   "source": [
    "import pandas as pd\n",
    "import numpy as np\n",
    "df = pd.DataFrame({'value': np.append(np.random.normal(0, 1, 20), [940])})\n",
    "threshold = 3\n",
    "anomalies = df[np.abs(df['value']) > threshold]\n",
    "anomalies"
   ]
  },
  {
   "cell_type": "code",
   "execution_count": null,
   "id": "69ffbaaa",
   "metadata": {},
   "outputs": [],
   "source": [
    "import pandas as pd\n",
    "import numpy as np\n",
    "df = pd.DataFrame({'value': np.append(np.random.normal(0, 1, 20), [950])})\n",
    "threshold = 3\n",
    "anomalies = df[np.abs(df['value']) > threshold]\n",
    "anomalies"
   ]
  },
  {
   "cell_type": "code",
   "execution_count": null,
   "id": "67e48843",
   "metadata": {},
   "outputs": [],
   "source": [
    "import pandas as pd\n",
    "import numpy as np\n",
    "df = pd.DataFrame({'value': np.append(np.random.normal(0, 1, 20), [960])})\n",
    "threshold = 3\n",
    "anomalies = df[np.abs(df['value']) > threshold]\n",
    "anomalies"
   ]
  },
  {
   "cell_type": "code",
   "execution_count": null,
   "id": "b24b9fc4",
   "metadata": {},
   "outputs": [],
   "source": [
    "import pandas as pd\n",
    "import numpy as np\n",
    "df = pd.DataFrame({'value': np.append(np.random.normal(0, 1, 20), [970])})\n",
    "threshold = 3\n",
    "anomalies = df[np.abs(df['value']) > threshold]\n",
    "anomalies"
   ]
  },
  {
   "cell_type": "code",
   "execution_count": null,
   "id": "57bedeab",
   "metadata": {},
   "outputs": [],
   "source": [
    "import pandas as pd\n",
    "import numpy as np\n",
    "df = pd.DataFrame({'value': np.append(np.random.normal(0, 1, 20), [980])})\n",
    "threshold = 3\n",
    "anomalies = df[np.abs(df['value']) > threshold]\n",
    "anomalies"
   ]
  },
  {
   "cell_type": "code",
   "execution_count": null,
   "id": "6b91878f",
   "metadata": {},
   "outputs": [],
   "source": [
    "import pandas as pd\n",
    "import numpy as np\n",
    "df = pd.DataFrame({'value': np.append(np.random.normal(0, 1, 20), [990])})\n",
    "threshold = 3\n",
    "anomalies = df[np.abs(df['value']) > threshold]\n",
    "anomalies"
   ]
  },
  {
   "cell_type": "code",
   "execution_count": null,
   "id": "92ea552c",
   "metadata": {},
   "outputs": [],
   "source": [
    "import pandas as pd\n",
    "import numpy as np\n",
    "df = pd.DataFrame({'value': np.append(np.random.normal(0, 1, 20), [1000])})\n",
    "threshold = 3\n",
    "anomalies = df[np.abs(df['value']) > threshold]\n",
    "anomalies"
   ]
  },
  {
   "cell_type": "code",
   "execution_count": null,
   "id": "060367fa",
   "metadata": {},
   "outputs": [],
   "source": [
    "import pandas as pd\n",
    "import numpy as np\n",
    "df = pd.DataFrame({'value': np.append(np.random.normal(0, 1, 20), [1010])})\n",
    "threshold = 3\n",
    "anomalies = df[np.abs(df['value']) > threshold]\n",
    "anomalies"
   ]
  },
  {
   "cell_type": "code",
   "execution_count": null,
   "id": "151693a2",
   "metadata": {},
   "outputs": [],
   "source": [
    "import pandas as pd\n",
    "import numpy as np\n",
    "df = pd.DataFrame({'value': np.append(np.random.normal(0, 1, 20), [1020])})\n",
    "threshold = 3\n",
    "anomalies = df[np.abs(df['value']) > threshold]\n",
    "anomalies"
   ]
  },
  {
   "cell_type": "code",
   "execution_count": null,
   "id": "f0d4f27b",
   "metadata": {},
   "outputs": [],
   "source": [
    "import pandas as pd\n",
    "import numpy as np\n",
    "df = pd.DataFrame({'value': np.append(np.random.normal(0, 1, 20), [1030])})\n",
    "threshold = 3\n",
    "anomalies = df[np.abs(df['value']) > threshold]\n",
    "anomalies"
   ]
  },
  {
   "cell_type": "code",
   "execution_count": null,
   "id": "4c4ac7ec",
   "metadata": {},
   "outputs": [],
   "source": [
    "import pandas as pd\n",
    "import numpy as np\n",
    "df = pd.DataFrame({'value': np.append(np.random.normal(0, 1, 20), [1040])})\n",
    "threshold = 3\n",
    "anomalies = df[np.abs(df['value']) > threshold]\n",
    "anomalies"
   ]
  },
  {
   "cell_type": "code",
   "execution_count": null,
   "id": "57123ef6",
   "metadata": {},
   "outputs": [],
   "source": [
    "import pandas as pd\n",
    "import numpy as np\n",
    "df = pd.DataFrame({'value': np.append(np.random.normal(0, 1, 20), [1050])})\n",
    "threshold = 3\n",
    "anomalies = df[np.abs(df['value']) > threshold]\n",
    "anomalies"
   ]
  },
  {
   "cell_type": "code",
   "execution_count": null,
   "id": "02be4da2",
   "metadata": {},
   "outputs": [],
   "source": [
    "import pandas as pd\n",
    "import numpy as np\n",
    "df = pd.DataFrame({'value': np.append(np.random.normal(0, 1, 20), [1060])})\n",
    "threshold = 3\n",
    "anomalies = df[np.abs(df['value']) > threshold]\n",
    "anomalies"
   ]
  },
  {
   "cell_type": "code",
   "execution_count": null,
   "id": "ec060aa2",
   "metadata": {},
   "outputs": [],
   "source": [
    "import pandas as pd\n",
    "import numpy as np\n",
    "df = pd.DataFrame({'value': np.append(np.random.normal(0, 1, 20), [1070])})\n",
    "threshold = 3\n",
    "anomalies = df[np.abs(df['value']) > threshold]\n",
    "anomalies"
   ]
  },
  {
   "cell_type": "code",
   "execution_count": null,
   "id": "2995bbae",
   "metadata": {},
   "outputs": [],
   "source": [
    "import pandas as pd\n",
    "import numpy as np\n",
    "df = pd.DataFrame({'value': np.append(np.random.normal(0, 1, 20), [1080])})\n",
    "threshold = 3\n",
    "anomalies = df[np.abs(df['value']) > threshold]\n",
    "anomalies"
   ]
  },
  {
   "cell_type": "code",
   "execution_count": null,
   "id": "b29d42d1",
   "metadata": {},
   "outputs": [],
   "source": [
    "import pandas as pd\n",
    "import numpy as np\n",
    "df = pd.DataFrame({'value': np.append(np.random.normal(0, 1, 20), [1090])})\n",
    "threshold = 3\n",
    "anomalies = df[np.abs(df['value']) > threshold]\n",
    "anomalies"
   ]
  },
  {
   "cell_type": "code",
   "execution_count": null,
   "id": "3951f6ca",
   "metadata": {},
   "outputs": [],
   "source": [
    "import pandas as pd\n",
    "import numpy as np\n",
    "df = pd.DataFrame({'value': np.append(np.random.normal(0, 1, 20), [1100])})\n",
    "threshold = 3\n",
    "anomalies = df[np.abs(df['value']) > threshold]\n",
    "anomalies"
   ]
  },
  {
   "cell_type": "code",
   "execution_count": null,
   "id": "39cb7e3d",
   "metadata": {},
   "outputs": [],
   "source": [
    "import pandas as pd\n",
    "import numpy as np\n",
    "df = pd.DataFrame({'value': np.append(np.random.normal(0, 1, 20), [1110])})\n",
    "threshold = 3\n",
    "anomalies = df[np.abs(df['value']) > threshold]\n",
    "anomalies"
   ]
  },
  {
   "cell_type": "code",
   "execution_count": null,
   "id": "0f838af3",
   "metadata": {},
   "outputs": [],
   "source": [
    "import pandas as pd\n",
    "import numpy as np\n",
    "df = pd.DataFrame({'value': np.append(np.random.normal(0, 1, 20), [1120])})\n",
    "threshold = 3\n",
    "anomalies = df[np.abs(df['value']) > threshold]\n",
    "anomalies"
   ]
  },
  {
   "cell_type": "code",
   "execution_count": null,
   "id": "d5cd280b",
   "metadata": {},
   "outputs": [],
   "source": [
    "import pandas as pd\n",
    "import numpy as np\n",
    "df = pd.DataFrame({'value': np.append(np.random.normal(0, 1, 20), [1130])})\n",
    "threshold = 3\n",
    "anomalies = df[np.abs(df['value']) > threshold]\n",
    "anomalies"
   ]
  },
  {
   "cell_type": "code",
   "execution_count": null,
   "id": "e10af386",
   "metadata": {},
   "outputs": [],
   "source": [
    "import pandas as pd\n",
    "import numpy as np\n",
    "df = pd.DataFrame({'value': np.append(np.random.normal(0, 1, 20), [1140])})\n",
    "threshold = 3\n",
    "anomalies = df[np.abs(df['value']) > threshold]\n",
    "anomalies"
   ]
  },
  {
   "cell_type": "code",
   "execution_count": null,
   "id": "f765f513",
   "metadata": {},
   "outputs": [],
   "source": [
    "import pandas as pd\n",
    "import numpy as np\n",
    "df = pd.DataFrame({'value': np.append(np.random.normal(0, 1, 20), [1150])})\n",
    "threshold = 3\n",
    "anomalies = df[np.abs(df['value']) > threshold]\n",
    "anomalies"
   ]
  },
  {
   "cell_type": "code",
   "execution_count": null,
   "id": "f58853e7",
   "metadata": {},
   "outputs": [],
   "source": [
    "import pandas as pd\n",
    "import numpy as np\n",
    "df = pd.DataFrame({'value': np.append(np.random.normal(0, 1, 20), [1160])})\n",
    "threshold = 3\n",
    "anomalies = df[np.abs(df['value']) > threshold]\n",
    "anomalies"
   ]
  },
  {
   "cell_type": "code",
   "execution_count": null,
   "id": "fc00e2ad",
   "metadata": {},
   "outputs": [],
   "source": [
    "import pandas as pd\n",
    "import numpy as np\n",
    "df = pd.DataFrame({'value': np.append(np.random.normal(0, 1, 20), [1170])})\n",
    "threshold = 3\n",
    "anomalies = df[np.abs(df['value']) > threshold]\n",
    "anomalies"
   ]
  },
  {
   "cell_type": "code",
   "execution_count": null,
   "id": "c782bf8e",
   "metadata": {},
   "outputs": [],
   "source": [
    "import pandas as pd\n",
    "import numpy as np\n",
    "df = pd.DataFrame({'value': np.append(np.random.normal(0, 1, 20), [1180])})\n",
    "threshold = 3\n",
    "anomalies = df[np.abs(df['value']) > threshold]\n",
    "anomalies"
   ]
  },
  {
   "cell_type": "code",
   "execution_count": null,
   "id": "710d7369",
   "metadata": {},
   "outputs": [],
   "source": [
    "import pandas as pd\n",
    "import numpy as np\n",
    "df = pd.DataFrame({'value': np.append(np.random.normal(0, 1, 20), [1190])})\n",
    "threshold = 3\n",
    "anomalies = df[np.abs(df['value']) > threshold]\n",
    "anomalies"
   ]
  },
  {
   "cell_type": "code",
   "execution_count": null,
   "id": "9437c918",
   "metadata": {},
   "outputs": [],
   "source": [
    "import pandas as pd\n",
    "import numpy as np\n",
    "df = pd.DataFrame({'value': np.append(np.random.normal(0, 1, 20), [1200])})\n",
    "threshold = 3\n",
    "anomalies = df[np.abs(df['value']) > threshold]\n",
    "anomalies"
   ]
  },
  {
   "cell_type": "code",
   "execution_count": null,
   "id": "847d0f46",
   "metadata": {},
   "outputs": [],
   "source": [
    "import pandas as pd\n",
    "import numpy as np\n",
    "df = pd.DataFrame({'value': np.append(np.random.normal(0, 1, 20), [1210])})\n",
    "threshold = 3\n",
    "anomalies = df[np.abs(df['value']) > threshold]\n",
    "anomalies"
   ]
  },
  {
   "cell_type": "code",
   "execution_count": null,
   "id": "aa21f3d1",
   "metadata": {},
   "outputs": [],
   "source": [
    "import pandas as pd\n",
    "import numpy as np\n",
    "df = pd.DataFrame({'value': np.append(np.random.normal(0, 1, 20), [1220])})\n",
    "threshold = 3\n",
    "anomalies = df[np.abs(df['value']) > threshold]\n",
    "anomalies"
   ]
  },
  {
   "cell_type": "code",
   "execution_count": null,
   "id": "a60fce8f",
   "metadata": {},
   "outputs": [],
   "source": [
    "import pandas as pd\n",
    "import numpy as np\n",
    "df = pd.DataFrame({'value': np.append(np.random.normal(0, 1, 20), [1230])})\n",
    "threshold = 3\n",
    "anomalies = df[np.abs(df['value']) > threshold]\n",
    "anomalies"
   ]
  },
  {
   "cell_type": "code",
   "execution_count": null,
   "id": "1d95e0d4",
   "metadata": {},
   "outputs": [],
   "source": [
    "import pandas as pd\n",
    "import numpy as np\n",
    "df = pd.DataFrame({'value': np.append(np.random.normal(0, 1, 20), [1240])})\n",
    "threshold = 3\n",
    "anomalies = df[np.abs(df['value']) > threshold]\n",
    "anomalies"
   ]
  },
  {
   "cell_type": "code",
   "execution_count": null,
   "id": "f0acb5ad",
   "metadata": {},
   "outputs": [],
   "source": [
    "import pandas as pd\n",
    "import numpy as np\n",
    "df = pd.DataFrame({'value': np.append(np.random.normal(0, 1, 20), [1250])})\n",
    "threshold = 3\n",
    "anomalies = df[np.abs(df['value']) > threshold]\n",
    "anomalies"
   ]
  },
  {
   "cell_type": "code",
   "execution_count": null,
   "id": "6895cab6",
   "metadata": {},
   "outputs": [],
   "source": [
    "import pandas as pd\n",
    "import numpy as np\n",
    "df = pd.DataFrame({'value': np.append(np.random.normal(0, 1, 20), [1260])})\n",
    "threshold = 3\n",
    "anomalies = df[np.abs(df['value']) > threshold]\n",
    "anomalies"
   ]
  },
  {
   "cell_type": "code",
   "execution_count": null,
   "id": "cd8d23ea",
   "metadata": {},
   "outputs": [],
   "source": [
    "import pandas as pd\n",
    "import numpy as np\n",
    "df = pd.DataFrame({'value': np.append(np.random.normal(0, 1, 20), [1270])})\n",
    "threshold = 3\n",
    "anomalies = df[np.abs(df['value']) > threshold]\n",
    "anomalies"
   ]
  },
  {
   "cell_type": "code",
   "execution_count": null,
   "id": "cf1563fe",
   "metadata": {},
   "outputs": [],
   "source": [
    "import pandas as pd\n",
    "import numpy as np\n",
    "df = pd.DataFrame({'value': np.append(np.random.normal(0, 1, 20), [1280])})\n",
    "threshold = 3\n",
    "anomalies = df[np.abs(df['value']) > threshold]\n",
    "anomalies"
   ]
  },
  {
   "cell_type": "code",
   "execution_count": null,
   "id": "5386730e",
   "metadata": {},
   "outputs": [],
   "source": [
    "import pandas as pd\n",
    "import numpy as np\n",
    "df = pd.DataFrame({'value': np.append(np.random.normal(0, 1, 20), [1290])})\n",
    "threshold = 3\n",
    "anomalies = df[np.abs(df['value']) > threshold]\n",
    "anomalies"
   ]
  },
  {
   "cell_type": "code",
   "execution_count": null,
   "id": "688977de",
   "metadata": {},
   "outputs": [],
   "source": [
    "import pandas as pd\n",
    "import numpy as np\n",
    "df = pd.DataFrame({'value': np.append(np.random.normal(0, 1, 20), [1300])})\n",
    "threshold = 3\n",
    "anomalies = df[np.abs(df['value']) > threshold]\n",
    "anomalies"
   ]
  },
  {
   "cell_type": "code",
   "execution_count": null,
   "id": "d07785fa",
   "metadata": {},
   "outputs": [],
   "source": [
    "import pandas as pd\n",
    "import numpy as np\n",
    "df = pd.DataFrame({'value': np.append(np.random.normal(0, 1, 20), [1310])})\n",
    "threshold = 3\n",
    "anomalies = df[np.abs(df['value']) > threshold]\n",
    "anomalies"
   ]
  },
  {
   "cell_type": "code",
   "execution_count": null,
   "id": "b6b58860",
   "metadata": {},
   "outputs": [],
   "source": [
    "import pandas as pd\n",
    "import numpy as np\n",
    "df = pd.DataFrame({'value': np.append(np.random.normal(0, 1, 20), [1320])})\n",
    "threshold = 3\n",
    "anomalies = df[np.abs(df['value']) > threshold]\n",
    "anomalies"
   ]
  },
  {
   "cell_type": "code",
   "execution_count": null,
   "id": "0a2af02b",
   "metadata": {},
   "outputs": [],
   "source": [
    "import pandas as pd\n",
    "import numpy as np\n",
    "df = pd.DataFrame({'value': np.append(np.random.normal(0, 1, 20), [1330])})\n",
    "threshold = 3\n",
    "anomalies = df[np.abs(df['value']) > threshold]\n",
    "anomalies"
   ]
  },
  {
   "cell_type": "code",
   "execution_count": null,
   "id": "8fdca85e",
   "metadata": {},
   "outputs": [],
   "source": [
    "import pandas as pd\n",
    "import numpy as np\n",
    "df = pd.DataFrame({'value': np.append(np.random.normal(0, 1, 20), [1340])})\n",
    "threshold = 3\n",
    "anomalies = df[np.abs(df['value']) > threshold]\n",
    "anomalies"
   ]
  },
  {
   "cell_type": "code",
   "execution_count": null,
   "id": "637f41ee",
   "metadata": {},
   "outputs": [],
   "source": [
    "import pandas as pd\n",
    "import numpy as np\n",
    "df = pd.DataFrame({'value': np.append(np.random.normal(0, 1, 20), [1350])})\n",
    "threshold = 3\n",
    "anomalies = df[np.abs(df['value']) > threshold]\n",
    "anomalies"
   ]
  },
  {
   "cell_type": "code",
   "execution_count": null,
   "id": "a1451407",
   "metadata": {},
   "outputs": [],
   "source": [
    "import pandas as pd\n",
    "import numpy as np\n",
    "df = pd.DataFrame({'value': np.append(np.random.normal(0, 1, 20), [1360])})\n",
    "threshold = 3\n",
    "anomalies = df[np.abs(df['value']) > threshold]\n",
    "anomalies"
   ]
  },
  {
   "cell_type": "code",
   "execution_count": null,
   "id": "36f7eaf0",
   "metadata": {},
   "outputs": [],
   "source": [
    "import pandas as pd\n",
    "import numpy as np\n",
    "df = pd.DataFrame({'value': np.append(np.random.normal(0, 1, 20), [1370])})\n",
    "threshold = 3\n",
    "anomalies = df[np.abs(df['value']) > threshold]\n",
    "anomalies"
   ]
  },
  {
   "cell_type": "code",
   "execution_count": null,
   "id": "8e302317",
   "metadata": {},
   "outputs": [],
   "source": [
    "import pandas as pd\n",
    "import numpy as np\n",
    "df = pd.DataFrame({'value': np.append(np.random.normal(0, 1, 20), [1380])})\n",
    "threshold = 3\n",
    "anomalies = df[np.abs(df['value']) > threshold]\n",
    "anomalies"
   ]
  },
  {
   "cell_type": "code",
   "execution_count": null,
   "id": "b2d87105",
   "metadata": {},
   "outputs": [],
   "source": [
    "import pandas as pd\n",
    "import numpy as np\n",
    "df = pd.DataFrame({'value': np.append(np.random.normal(0, 1, 20), [1390])})\n",
    "threshold = 3\n",
    "anomalies = df[np.abs(df['value']) > threshold]\n",
    "anomalies"
   ]
  },
  {
   "cell_type": "code",
   "execution_count": null,
   "id": "db5fd052",
   "metadata": {},
   "outputs": [],
   "source": [
    "import pandas as pd\n",
    "import numpy as np\n",
    "df = pd.DataFrame({'value': np.append(np.random.normal(0, 1, 20), [1400])})\n",
    "threshold = 3\n",
    "anomalies = df[np.abs(df['value']) > threshold]\n",
    "anomalies"
   ]
  },
  {
   "cell_type": "code",
   "execution_count": null,
   "id": "78fe63b0",
   "metadata": {},
   "outputs": [],
   "source": [
    "import pandas as pd\n",
    "import numpy as np\n",
    "df = pd.DataFrame({'value': np.append(np.random.normal(0, 1, 20), [1410])})\n",
    "threshold = 3\n",
    "anomalies = df[np.abs(df['value']) > threshold]\n",
    "anomalies"
   ]
  },
  {
   "cell_type": "code",
   "execution_count": null,
   "id": "d79948a8",
   "metadata": {},
   "outputs": [],
   "source": [
    "import pandas as pd\n",
    "import numpy as np\n",
    "df = pd.DataFrame({'value': np.append(np.random.normal(0, 1, 20), [1420])})\n",
    "threshold = 3\n",
    "anomalies = df[np.abs(df['value']) > threshold]\n",
    "anomalies"
   ]
  },
  {
   "cell_type": "code",
   "execution_count": null,
   "id": "2db93d89",
   "metadata": {},
   "outputs": [],
   "source": [
    "import pandas as pd\n",
    "import numpy as np\n",
    "df = pd.DataFrame({'value': np.append(np.random.normal(0, 1, 20), [1430])})\n",
    "threshold = 3\n",
    "anomalies = df[np.abs(df['value']) > threshold]\n",
    "anomalies"
   ]
  },
  {
   "cell_type": "code",
   "execution_count": null,
   "id": "9df6618a",
   "metadata": {},
   "outputs": [],
   "source": [
    "import pandas as pd\n",
    "import numpy as np\n",
    "df = pd.DataFrame({'value': np.append(np.random.normal(0, 1, 20), [1440])})\n",
    "threshold = 3\n",
    "anomalies = df[np.abs(df['value']) > threshold]\n",
    "anomalies"
   ]
  },
  {
   "cell_type": "code",
   "execution_count": null,
   "id": "f3ab86f1",
   "metadata": {},
   "outputs": [],
   "source": [
    "import pandas as pd\n",
    "import numpy as np\n",
    "df = pd.DataFrame({'value': np.append(np.random.normal(0, 1, 20), [1450])})\n",
    "threshold = 3\n",
    "anomalies = df[np.abs(df['value']) > threshold]\n",
    "anomalies"
   ]
  },
  {
   "cell_type": "code",
   "execution_count": null,
   "id": "17d545cb",
   "metadata": {},
   "outputs": [],
   "source": [
    "import pandas as pd\n",
    "import numpy as np\n",
    "df = pd.DataFrame({'value': np.append(np.random.normal(0, 1, 20), [1460])})\n",
    "threshold = 3\n",
    "anomalies = df[np.abs(df['value']) > threshold]\n",
    "anomalies"
   ]
  },
  {
   "cell_type": "code",
   "execution_count": null,
   "id": "6122068d",
   "metadata": {},
   "outputs": [],
   "source": [
    "import pandas as pd\n",
    "import numpy as np\n",
    "df = pd.DataFrame({'value': np.append(np.random.normal(0, 1, 20), [1470])})\n",
    "threshold = 3\n",
    "anomalies = df[np.abs(df['value']) > threshold]\n",
    "anomalies"
   ]
  },
  {
   "cell_type": "code",
   "execution_count": null,
   "id": "2fbbc31e",
   "metadata": {},
   "outputs": [],
   "source": [
    "import pandas as pd\n",
    "import numpy as np\n",
    "df = pd.DataFrame({'value': np.append(np.random.normal(0, 1, 20), [1480])})\n",
    "threshold = 3\n",
    "anomalies = df[np.abs(df['value']) > threshold]\n",
    "anomalies"
   ]
  },
  {
   "cell_type": "code",
   "execution_count": null,
   "id": "e0f20459",
   "metadata": {},
   "outputs": [],
   "source": [
    "import pandas as pd\n",
    "import numpy as np\n",
    "df = pd.DataFrame({'value': np.append(np.random.normal(0, 1, 20), [1490])})\n",
    "threshold = 3\n",
    "anomalies = df[np.abs(df['value']) > threshold]\n",
    "anomalies"
   ]
  },
  {
   "cell_type": "code",
   "execution_count": null,
   "id": "0593c711",
   "metadata": {},
   "outputs": [],
   "source": [
    "import pandas as pd\n",
    "import numpy as np\n",
    "df = pd.DataFrame({'value': np.append(np.random.normal(0, 1, 20), [1500])})\n",
    "threshold = 3\n",
    "anomalies = df[np.abs(df['value']) > threshold]\n",
    "anomalies"
   ]
  },
  {
   "cell_type": "code",
   "execution_count": null,
   "id": "ff8f61e9",
   "metadata": {},
   "outputs": [],
   "source": [
    "import pandas as pd\n",
    "import numpy as np\n",
    "df = pd.DataFrame({'value': np.append(np.random.normal(0, 1, 20), [1510])})\n",
    "threshold = 3\n",
    "anomalies = df[np.abs(df['value']) > threshold]\n",
    "anomalies"
   ]
  },
  {
   "cell_type": "code",
   "execution_count": null,
   "id": "cf83ee04",
   "metadata": {},
   "outputs": [],
   "source": [
    "import pandas as pd\n",
    "import numpy as np\n",
    "df = pd.DataFrame({'value': np.append(np.random.normal(0, 1, 20), [1520])})\n",
    "threshold = 3\n",
    "anomalies = df[np.abs(df['value']) > threshold]\n",
    "anomalies"
   ]
  },
  {
   "cell_type": "code",
   "execution_count": null,
   "id": "026f295c",
   "metadata": {},
   "outputs": [],
   "source": [
    "import pandas as pd\n",
    "import numpy as np\n",
    "df = pd.DataFrame({'value': np.append(np.random.normal(0, 1, 20), [1530])})\n",
    "threshold = 3\n",
    "anomalies = df[np.abs(df['value']) > threshold]\n",
    "anomalies"
   ]
  },
  {
   "cell_type": "code",
   "execution_count": null,
   "id": "3829b07d",
   "metadata": {},
   "outputs": [],
   "source": [
    "import pandas as pd\n",
    "import numpy as np\n",
    "df = pd.DataFrame({'value': np.append(np.random.normal(0, 1, 20), [1540])})\n",
    "threshold = 3\n",
    "anomalies = df[np.abs(df['value']) > threshold]\n",
    "anomalies"
   ]
  },
  {
   "cell_type": "code",
   "execution_count": null,
   "id": "29f0e5fd",
   "metadata": {},
   "outputs": [],
   "source": [
    "import pandas as pd\n",
    "import numpy as np\n",
    "df = pd.DataFrame({'value': np.append(np.random.normal(0, 1, 20), [1550])})\n",
    "threshold = 3\n",
    "anomalies = df[np.abs(df['value']) > threshold]\n",
    "anomalies"
   ]
  },
  {
   "cell_type": "code",
   "execution_count": null,
   "id": "44ae0e94",
   "metadata": {},
   "outputs": [],
   "source": [
    "import pandas as pd\n",
    "import numpy as np\n",
    "df = pd.DataFrame({'value': np.append(np.random.normal(0, 1, 20), [1560])})\n",
    "threshold = 3\n",
    "anomalies = df[np.abs(df['value']) > threshold]\n",
    "anomalies"
   ]
  },
  {
   "cell_type": "code",
   "execution_count": null,
   "id": "24447bf2",
   "metadata": {},
   "outputs": [],
   "source": [
    "import pandas as pd\n",
    "import numpy as np\n",
    "df = pd.DataFrame({'value': np.append(np.random.normal(0, 1, 20), [1570])})\n",
    "threshold = 3\n",
    "anomalies = df[np.abs(df['value']) > threshold]\n",
    "anomalies"
   ]
  },
  {
   "cell_type": "code",
   "execution_count": null,
   "id": "721c7478",
   "metadata": {},
   "outputs": [],
   "source": [
    "import pandas as pd\n",
    "import numpy as np\n",
    "df = pd.DataFrame({'value': np.append(np.random.normal(0, 1, 20), [1580])})\n",
    "threshold = 3\n",
    "anomalies = df[np.abs(df['value']) > threshold]\n",
    "anomalies"
   ]
  },
  {
   "cell_type": "code",
   "execution_count": null,
   "id": "8809dfa7",
   "metadata": {},
   "outputs": [],
   "source": [
    "import pandas as pd\n",
    "import numpy as np\n",
    "df = pd.DataFrame({'value': np.append(np.random.normal(0, 1, 20), [1590])})\n",
    "threshold = 3\n",
    "anomalies = df[np.abs(df['value']) > threshold]\n",
    "anomalies"
   ]
  },
  {
   "cell_type": "code",
   "execution_count": null,
   "id": "b77664ca",
   "metadata": {},
   "outputs": [],
   "source": [
    "import pandas as pd\n",
    "import numpy as np\n",
    "df = pd.DataFrame({'value': np.append(np.random.normal(0, 1, 20), [1600])})\n",
    "threshold = 3\n",
    "anomalies = df[np.abs(df['value']) > threshold]\n",
    "anomalies"
   ]
  },
  {
   "cell_type": "code",
   "execution_count": null,
   "id": "20e22637",
   "metadata": {},
   "outputs": [],
   "source": [
    "import pandas as pd\n",
    "import numpy as np\n",
    "df = pd.DataFrame({'value': np.append(np.random.normal(0, 1, 20), [1610])})\n",
    "threshold = 3\n",
    "anomalies = df[np.abs(df['value']) > threshold]\n",
    "anomalies"
   ]
  },
  {
   "cell_type": "code",
   "execution_count": null,
   "id": "86808240",
   "metadata": {},
   "outputs": [],
   "source": [
    "import pandas as pd\n",
    "import numpy as np\n",
    "df = pd.DataFrame({'value': np.append(np.random.normal(0, 1, 20), [1620])})\n",
    "threshold = 3\n",
    "anomalies = df[np.abs(df['value']) > threshold]\n",
    "anomalies"
   ]
  },
  {
   "cell_type": "code",
   "execution_count": null,
   "id": "f3ad0bd4",
   "metadata": {},
   "outputs": [],
   "source": [
    "import pandas as pd\n",
    "import numpy as np\n",
    "df = pd.DataFrame({'value': np.append(np.random.normal(0, 1, 20), [1630])})\n",
    "threshold = 3\n",
    "anomalies = df[np.abs(df['value']) > threshold]\n",
    "anomalies"
   ]
  },
  {
   "cell_type": "code",
   "execution_count": null,
   "id": "1f014c41",
   "metadata": {},
   "outputs": [],
   "source": [
    "import pandas as pd\n",
    "import numpy as np\n",
    "df = pd.DataFrame({'value': np.append(np.random.normal(0, 1, 20), [1640])})\n",
    "threshold = 3\n",
    "anomalies = df[np.abs(df['value']) > threshold]\n",
    "anomalies"
   ]
  },
  {
   "cell_type": "code",
   "execution_count": null,
   "id": "1a385c68",
   "metadata": {},
   "outputs": [],
   "source": [
    "import pandas as pd\n",
    "import numpy as np\n",
    "df = pd.DataFrame({'value': np.append(np.random.normal(0, 1, 20), [1650])})\n",
    "threshold = 3\n",
    "anomalies = df[np.abs(df['value']) > threshold]\n",
    "anomalies"
   ]
  },
  {
   "cell_type": "code",
   "execution_count": null,
   "id": "798c5170",
   "metadata": {},
   "outputs": [],
   "source": [
    "import pandas as pd\n",
    "import numpy as np\n",
    "df = pd.DataFrame({'value': np.append(np.random.normal(0, 1, 20), [1660])})\n",
    "threshold = 3\n",
    "anomalies = df[np.abs(df['value']) > threshold]\n",
    "anomalies"
   ]
  },
  {
   "cell_type": "code",
   "execution_count": null,
   "id": "638162e8",
   "metadata": {},
   "outputs": [],
   "source": [
    "import pandas as pd\n",
    "import numpy as np\n",
    "df = pd.DataFrame({'value': np.append(np.random.normal(0, 1, 20), [1670])})\n",
    "threshold = 3\n",
    "anomalies = df[np.abs(df['value']) > threshold]\n",
    "anomalies"
   ]
  },
  {
   "cell_type": "code",
   "execution_count": null,
   "id": "f5a63fe2",
   "metadata": {},
   "outputs": [],
   "source": [
    "import pandas as pd\n",
    "import numpy as np\n",
    "df = pd.DataFrame({'value': np.append(np.random.normal(0, 1, 20), [1680])})\n",
    "threshold = 3\n",
    "anomalies = df[np.abs(df['value']) > threshold]\n",
    "anomalies"
   ]
  },
  {
   "cell_type": "code",
   "execution_count": null,
   "id": "c6b55a2c",
   "metadata": {},
   "outputs": [],
   "source": [
    "import pandas as pd\n",
    "import numpy as np\n",
    "df = pd.DataFrame({'value': np.append(np.random.normal(0, 1, 20), [1690])})\n",
    "threshold = 3\n",
    "anomalies = df[np.abs(df['value']) > threshold]\n",
    "anomalies"
   ]
  },
  {
   "cell_type": "code",
   "execution_count": null,
   "id": "baa94643",
   "metadata": {},
   "outputs": [],
   "source": [
    "import pandas as pd\n",
    "import numpy as np\n",
    "df = pd.DataFrame({'value': np.append(np.random.normal(0, 1, 20), [1700])})\n",
    "threshold = 3\n",
    "anomalies = df[np.abs(df['value']) > threshold]\n",
    "anomalies"
   ]
  },
  {
   "cell_type": "code",
   "execution_count": null,
   "id": "bdf10ff2",
   "metadata": {},
   "outputs": [],
   "source": [
    "import pandas as pd\n",
    "import numpy as np\n",
    "df = pd.DataFrame({'value': np.append(np.random.normal(0, 1, 20), [1710])})\n",
    "threshold = 3\n",
    "anomalies = df[np.abs(df['value']) > threshold]\n",
    "anomalies"
   ]
  },
  {
   "cell_type": "code",
   "execution_count": null,
   "id": "40730673",
   "metadata": {},
   "outputs": [],
   "source": [
    "import pandas as pd\n",
    "import numpy as np\n",
    "df = pd.DataFrame({'value': np.append(np.random.normal(0, 1, 20), [1720])})\n",
    "threshold = 3\n",
    "anomalies = df[np.abs(df['value']) > threshold]\n",
    "anomalies"
   ]
  },
  {
   "cell_type": "code",
   "execution_count": null,
   "id": "29bfb3b1",
   "metadata": {},
   "outputs": [],
   "source": [
    "import pandas as pd\n",
    "import numpy as np\n",
    "df = pd.DataFrame({'value': np.append(np.random.normal(0, 1, 20), [1730])})\n",
    "threshold = 3\n",
    "anomalies = df[np.abs(df['value']) > threshold]\n",
    "anomalies"
   ]
  },
  {
   "cell_type": "code",
   "execution_count": null,
   "id": "ee1f8a74",
   "metadata": {},
   "outputs": [],
   "source": [
    "import pandas as pd\n",
    "import numpy as np\n",
    "df = pd.DataFrame({'value': np.append(np.random.normal(0, 1, 20), [1740])})\n",
    "threshold = 3\n",
    "anomalies = df[np.abs(df['value']) > threshold]\n",
    "anomalies"
   ]
  },
  {
   "cell_type": "code",
   "execution_count": null,
   "id": "95b5ec0d",
   "metadata": {},
   "outputs": [],
   "source": [
    "import pandas as pd\n",
    "import numpy as np\n",
    "df = pd.DataFrame({'value': np.append(np.random.normal(0, 1, 20), [1750])})\n",
    "threshold = 3\n",
    "anomalies = df[np.abs(df['value']) > threshold]\n",
    "anomalies"
   ]
  },
  {
   "cell_type": "code",
   "execution_count": null,
   "id": "8270cb39",
   "metadata": {},
   "outputs": [],
   "source": [
    "import pandas as pd\n",
    "import numpy as np\n",
    "df = pd.DataFrame({'value': np.append(np.random.normal(0, 1, 20), [1760])})\n",
    "threshold = 3\n",
    "anomalies = df[np.abs(df['value']) > threshold]\n",
    "anomalies"
   ]
  },
  {
   "cell_type": "code",
   "execution_count": null,
   "id": "a9d072da",
   "metadata": {},
   "outputs": [],
   "source": [
    "import pandas as pd\n",
    "import numpy as np\n",
    "df = pd.DataFrame({'value': np.append(np.random.normal(0, 1, 20), [1770])})\n",
    "threshold = 3\n",
    "anomalies = df[np.abs(df['value']) > threshold]\n",
    "anomalies"
   ]
  },
  {
   "cell_type": "code",
   "execution_count": null,
   "id": "2a9afb93",
   "metadata": {},
   "outputs": [],
   "source": [
    "import pandas as pd\n",
    "import numpy as np\n",
    "df = pd.DataFrame({'value': np.append(np.random.normal(0, 1, 20), [1780])})\n",
    "threshold = 3\n",
    "anomalies = df[np.abs(df['value']) > threshold]\n",
    "anomalies"
   ]
  },
  {
   "cell_type": "code",
   "execution_count": null,
   "id": "0c9b6129",
   "metadata": {},
   "outputs": [],
   "source": [
    "import pandas as pd\n",
    "import numpy as np\n",
    "df = pd.DataFrame({'value': np.append(np.random.normal(0, 1, 20), [1790])})\n",
    "threshold = 3\n",
    "anomalies = df[np.abs(df['value']) > threshold]\n",
    "anomalies"
   ]
  },
  {
   "cell_type": "code",
   "execution_count": null,
   "id": "d07b7d47",
   "metadata": {},
   "outputs": [],
   "source": [
    "import pandas as pd\n",
    "import numpy as np\n",
    "df = pd.DataFrame({'value': np.append(np.random.normal(0, 1, 20), [1800])})\n",
    "threshold = 3\n",
    "anomalies = df[np.abs(df['value']) > threshold]\n",
    "anomalies"
   ]
  },
  {
   "cell_type": "code",
   "execution_count": null,
   "id": "4dfcfd07",
   "metadata": {},
   "outputs": [],
   "source": [
    "import pandas as pd\n",
    "import numpy as np\n",
    "df = pd.DataFrame({'value': np.append(np.random.normal(0, 1, 20), [1810])})\n",
    "threshold = 3\n",
    "anomalies = df[np.abs(df['value']) > threshold]\n",
    "anomalies"
   ]
  },
  {
   "cell_type": "code",
   "execution_count": null,
   "id": "fa4d4e79",
   "metadata": {},
   "outputs": [],
   "source": [
    "import pandas as pd\n",
    "import numpy as np\n",
    "df = pd.DataFrame({'value': np.append(np.random.normal(0, 1, 20), [1820])})\n",
    "threshold = 3\n",
    "anomalies = df[np.abs(df['value']) > threshold]\n",
    "anomalies"
   ]
  },
  {
   "cell_type": "code",
   "execution_count": null,
   "id": "a31182cd",
   "metadata": {},
   "outputs": [],
   "source": [
    "import pandas as pd\n",
    "import numpy as np\n",
    "df = pd.DataFrame({'value': np.append(np.random.normal(0, 1, 20), [1830])})\n",
    "threshold = 3\n",
    "anomalies = df[np.abs(df['value']) > threshold]\n",
    "anomalies"
   ]
  },
  {
   "cell_type": "code",
   "execution_count": null,
   "id": "01968b21",
   "metadata": {},
   "outputs": [],
   "source": [
    "import pandas as pd\n",
    "import numpy as np\n",
    "df = pd.DataFrame({'value': np.append(np.random.normal(0, 1, 20), [1840])})\n",
    "threshold = 3\n",
    "anomalies = df[np.abs(df['value']) > threshold]\n",
    "anomalies"
   ]
  },
  {
   "cell_type": "code",
   "execution_count": null,
   "id": "58a4c67c",
   "metadata": {},
   "outputs": [],
   "source": [
    "import pandas as pd\n",
    "import numpy as np\n",
    "df = pd.DataFrame({'value': np.append(np.random.normal(0, 1, 20), [1850])})\n",
    "threshold = 3\n",
    "anomalies = df[np.abs(df['value']) > threshold]\n",
    "anomalies"
   ]
  },
  {
   "cell_type": "code",
   "execution_count": null,
   "id": "ee250e4e",
   "metadata": {},
   "outputs": [],
   "source": [
    "import pandas as pd\n",
    "import numpy as np\n",
    "df = pd.DataFrame({'value': np.append(np.random.normal(0, 1, 20), [1860])})\n",
    "threshold = 3\n",
    "anomalies = df[np.abs(df['value']) > threshold]\n",
    "anomalies"
   ]
  },
  {
   "cell_type": "code",
   "execution_count": null,
   "id": "882b9d0d",
   "metadata": {},
   "outputs": [],
   "source": [
    "import pandas as pd\n",
    "import numpy as np\n",
    "df = pd.DataFrame({'value': np.append(np.random.normal(0, 1, 20), [1870])})\n",
    "threshold = 3\n",
    "anomalies = df[np.abs(df['value']) > threshold]\n",
    "anomalies"
   ]
  },
  {
   "cell_type": "code",
   "execution_count": null,
   "id": "ba599158",
   "metadata": {},
   "outputs": [],
   "source": [
    "import pandas as pd\n",
    "import numpy as np\n",
    "df = pd.DataFrame({'value': np.append(np.random.normal(0, 1, 20), [1880])})\n",
    "threshold = 3\n",
    "anomalies = df[np.abs(df['value']) > threshold]\n",
    "anomalies"
   ]
  },
  {
   "cell_type": "code",
   "execution_count": null,
   "id": "59a0c6a6",
   "metadata": {},
   "outputs": [],
   "source": [
    "import pandas as pd\n",
    "import numpy as np\n",
    "df = pd.DataFrame({'value': np.append(np.random.normal(0, 1, 20), [1890])})\n",
    "threshold = 3\n",
    "anomalies = df[np.abs(df['value']) > threshold]\n",
    "anomalies"
   ]
  },
  {
   "cell_type": "code",
   "execution_count": null,
   "id": "2d5e6ae5",
   "metadata": {},
   "outputs": [],
   "source": [
    "import pandas as pd\n",
    "import numpy as np\n",
    "df = pd.DataFrame({'value': np.append(np.random.normal(0, 1, 20), [1900])})\n",
    "threshold = 3\n",
    "anomalies = df[np.abs(df['value']) > threshold]\n",
    "anomalies"
   ]
  },
  {
   "cell_type": "code",
   "execution_count": null,
   "id": "86f92300",
   "metadata": {},
   "outputs": [],
   "source": [
    "import pandas as pd\n",
    "import numpy as np\n",
    "df = pd.DataFrame({'value': np.append(np.random.normal(0, 1, 20), [1910])})\n",
    "threshold = 3\n",
    "anomalies = df[np.abs(df['value']) > threshold]\n",
    "anomalies"
   ]
  },
  {
   "cell_type": "code",
   "execution_count": null,
   "id": "06230ba5",
   "metadata": {},
   "outputs": [],
   "source": [
    "import pandas as pd\n",
    "import numpy as np\n",
    "df = pd.DataFrame({'value': np.append(np.random.normal(0, 1, 20), [1920])})\n",
    "threshold = 3\n",
    "anomalies = df[np.abs(df['value']) > threshold]\n",
    "anomalies"
   ]
  },
  {
   "cell_type": "code",
   "execution_count": null,
   "id": "3a6e2ce6",
   "metadata": {},
   "outputs": [],
   "source": [
    "import pandas as pd\n",
    "import numpy as np\n",
    "df = pd.DataFrame({'value': np.append(np.random.normal(0, 1, 20), [1930])})\n",
    "threshold = 3\n",
    "anomalies = df[np.abs(df['value']) > threshold]\n",
    "anomalies"
   ]
  },
  {
   "cell_type": "code",
   "execution_count": null,
   "id": "d57ed2f6",
   "metadata": {},
   "outputs": [],
   "source": [
    "import pandas as pd\n",
    "import numpy as np\n",
    "df = pd.DataFrame({'value': np.append(np.random.normal(0, 1, 20), [1940])})\n",
    "threshold = 3\n",
    "anomalies = df[np.abs(df['value']) > threshold]\n",
    "anomalies"
   ]
  },
  {
   "cell_type": "code",
   "execution_count": null,
   "id": "dd555acb",
   "metadata": {},
   "outputs": [],
   "source": [
    "import pandas as pd\n",
    "import numpy as np\n",
    "df = pd.DataFrame({'value': np.append(np.random.normal(0, 1, 20), [1950])})\n",
    "threshold = 3\n",
    "anomalies = df[np.abs(df['value']) > threshold]\n",
    "anomalies"
   ]
  },
  {
   "cell_type": "code",
   "execution_count": null,
   "id": "dc4da671",
   "metadata": {},
   "outputs": [],
   "source": [
    "import pandas as pd\n",
    "import numpy as np\n",
    "df = pd.DataFrame({'value': np.append(np.random.normal(0, 1, 20), [1960])})\n",
    "threshold = 3\n",
    "anomalies = df[np.abs(df['value']) > threshold]\n",
    "anomalies"
   ]
  },
  {
   "cell_type": "code",
   "execution_count": null,
   "id": "81d38308",
   "metadata": {},
   "outputs": [],
   "source": [
    "import pandas as pd\n",
    "import numpy as np\n",
    "df = pd.DataFrame({'value': np.append(np.random.normal(0, 1, 20), [1970])})\n",
    "threshold = 3\n",
    "anomalies = df[np.abs(df['value']) > threshold]\n",
    "anomalies"
   ]
  },
  {
   "cell_type": "code",
   "execution_count": null,
   "id": "c425dff0",
   "metadata": {},
   "outputs": [],
   "source": [
    "import pandas as pd\n",
    "import numpy as np\n",
    "df = pd.DataFrame({'value': np.append(np.random.normal(0, 1, 20), [1980])})\n",
    "threshold = 3\n",
    "anomalies = df[np.abs(df['value']) > threshold]\n",
    "anomalies"
   ]
  },
  {
   "cell_type": "code",
   "execution_count": null,
   "id": "e07ce922",
   "metadata": {},
   "outputs": [],
   "source": [
    "import pandas as pd\n",
    "import numpy as np\n",
    "df = pd.DataFrame({'value': np.append(np.random.normal(0, 1, 20), [1990])})\n",
    "threshold = 3\n",
    "anomalies = df[np.abs(df['value']) > threshold]\n",
    "anomalies"
   ]
  },
  {
   "cell_type": "code",
   "execution_count": null,
   "id": "d721937f",
   "metadata": {},
   "outputs": [],
   "source": [
    "import pandas as pd\n",
    "import numpy as np\n",
    "df = pd.DataFrame({'value': np.append(np.random.normal(0, 1, 20), [2000])})\n",
    "threshold = 3\n",
    "anomalies = df[np.abs(df['value']) > threshold]\n",
    "anomalies"
   ]
  }
 ],
 "metadata": {
  "kernelspec": {
   "display_name": "Python 3 (ipykernel)",
   "language": "python",
   "name": "python3"
  },
  "language_info": {
   "codemirror_mode": {
    "name": "ipython",
    "version": 3
   },
   "file_extension": ".py",
   "mimetype": "text/x-python",
   "name": "python",
   "nbconvert_exporter": "python",
   "pygments_lexer": "ipython3",
   "version": "3.12.11"
  }
 },
 "nbformat": 4,
 "nbformat_minor": 5
}
