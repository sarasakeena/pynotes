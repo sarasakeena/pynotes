{
 "cells": [
  {
   "cell_type": "code",
   "execution_count": 1,
   "id": "193d0a51-23d1-453b-b96d-b6997dd469f1",
   "metadata": {},
   "outputs": [],
   "source": [
    "import streamlit as st\n",
    "    \n"
   ]
  },
  {
   "cell_type": "code",
   "execution_count": 2,
   "id": "4737a4da-dffc-4958-b6ad-b9404328c92a",
   "metadata": {},
   "outputs": [
    {
     "name": "stderr",
     "output_type": "stream",
     "text": [
      "2025-06-29 18:16:24.949 WARNING streamlit.runtime.scriptrunner_utils.script_run_context: Thread 'MainThread': missing ScriptRunContext! This warning can be ignored when running in bare mode.\n",
      "2025-06-29 18:16:24.952 WARNING streamlit.runtime.scriptrunner_utils.script_run_context: Thread 'MainThread': missing ScriptRunContext! This warning can be ignored when running in bare mode.\n",
      "2025-06-29 18:16:25.405 \n",
      "  \u001b[33m\u001b[1mWarning:\u001b[0m to view this Streamlit app on a browser, run it with the following\n",
      "  command:\n",
      "\n",
      "    streamlit run C:\\Users\\HP\\miniconda3\\envs\\py312\\Lib\\site-packages\\ipykernel_launcher.py [ARGUMENTS]\n",
      "2025-06-29 18:16:25.407 Thread 'MainThread': missing ScriptRunContext! This warning can be ignored when running in bare mode.\n",
      "2025-06-29 18:16:25.408 Thread 'MainThread': missing ScriptRunContext! This warning can be ignored when running in bare mode.\n"
     ]
    },
    {
     "data": {
      "text/plain": [
       "DeltaGenerator()"
      ]
     },
     "execution_count": 2,
     "metadata": {},
     "output_type": "execute_result"
    }
   ],
   "source": [
    "st.set_page_config(page_title=\"Resume Ranker\", layout=\"wide\")\n",
    "st.title(\"📄 Resume Ranker\")"
   ]
  },
  {
   "cell_type": "code",
   "execution_count": 3,
   "id": "957588e7-b0c6-4e8a-9582-9fe42f4f9788",
   "metadata": {},
   "outputs": [],
   "source": [
    "skills_required = [\"python\", \"machine learning\", \"pandas\", \"sql\"]\n"
   ]
  },
  {
   "cell_type": "code",
   "execution_count": 4,
   "id": "14716fdd-37ca-4b35-88fb-33e702a4bb16",
   "metadata": {},
   "outputs": [
    {
     "name": "stderr",
     "output_type": "stream",
     "text": [
      "2025-06-29 18:16:25.452 Thread 'MainThread': missing ScriptRunContext! This warning can be ignored when running in bare mode.\n",
      "2025-06-29 18:16:25.455 Thread 'MainThread': missing ScriptRunContext! This warning can be ignored when running in bare mode.\n",
      "2025-06-29 18:16:25.456 Thread 'MainThread': missing ScriptRunContext! This warning can be ignored when running in bare mode.\n",
      "2025-06-29 18:16:25.460 Thread 'MainThread': missing ScriptRunContext! This warning can be ignored when running in bare mode.\n",
      "2025-06-29 18:16:25.462 Session state does not function when running a script without `streamlit run`\n",
      "2025-06-29 18:16:25.463 Thread 'MainThread': missing ScriptRunContext! This warning can be ignored when running in bare mode.\n",
      "2025-06-29 18:16:25.465 Thread 'MainThread': missing ScriptRunContext! This warning can be ignored when running in bare mode.\n",
      "2025-06-29 18:16:25.470 Thread 'MainThread': missing ScriptRunContext! This warning can be ignored when running in bare mode.\n"
     ]
    }
   ],
   "source": [
    "resume_text = st.text_area(\"Paste your resume content here:\")"
   ]
  },
  {
   "cell_type": "code",
   "execution_count": 5,
   "id": "4a37f49c-25f5-4d14-bcce-f477f7b2e14e",
   "metadata": {},
   "outputs": [
    {
     "name": "stderr",
     "output_type": "stream",
     "text": [
      "2025-06-29 18:16:28.984 Thread 'MainThread': missing ScriptRunContext! This warning can be ignored when running in bare mode.\n",
      "2025-06-29 18:16:28.984 Thread 'MainThread': missing ScriptRunContext! This warning can be ignored when running in bare mode.\n",
      "2025-06-29 18:16:28.985 Thread 'MainThread': missing ScriptRunContext! This warning can be ignored when running in bare mode.\n",
      "2025-06-29 18:16:28.986 Thread 'MainThread': missing ScriptRunContext! This warning can be ignored when running in bare mode.\n",
      "2025-06-29 18:16:28.986 Thread 'MainThread': missing ScriptRunContext! This warning can be ignored when running in bare mode.\n",
      "2025-06-29 18:16:28.987 Thread 'MainThread': missing ScriptRunContext! This warning can be ignored when running in bare mode.\n"
     ]
    }
   ],
   "source": [
    "if st.button(\"Check Score\"):\n",
    "    matched = [skill for skill in skills_required if skill.lower() in resume_text.lower()]\n",
    "    score = len(matched) / len(skills_required) * 100\n",
    "    st.write(f\"### Match Score: `{round(score)}%`\")\n",
    "    st.write(\"Matched Skills:\", matched)"
   ]
  },
  {
   "cell_type": "code",
   "execution_count": null,
   "id": "a2fdeda3-5d6f-48c3-892a-98ef64b9c528",
   "metadata": {},
   "outputs": [],
   "source": []
  }
 ],
 "metadata": {
  "kernelspec": {
   "display_name": "Python 3 (ipykernel)",
   "language": "python",
   "name": "python3"
  },
  "language_info": {
   "codemirror_mode": {
    "name": "ipython",
    "version": 3
   },
   "file_extension": ".py",
   "mimetype": "text/x-python",
   "name": "python",
   "nbconvert_exporter": "python",
   "pygments_lexer": "ipython3",
   "version": "3.12.11"
  }
 },
 "nbformat": 4,
 "nbformat_minor": 5
}
