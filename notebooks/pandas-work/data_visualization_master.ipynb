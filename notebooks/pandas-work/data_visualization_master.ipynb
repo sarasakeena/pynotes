{
 "cells": [
  {
   "cell_type": "code",
   "execution_count": null,
   "id": "902e4b32-09e1-49bf-a742-a4372fbddbf3",
   "metadata": {},
   "outputs": [],
   "source": [
    "# Imports\n",
    "import matplotlib.pyplot as plt\n",
    "import seaborn as sns\n",
    "import numpy as np\n",
    "import pandas as pd\n",
    "%matplotlib inline\n"
   ]
  },
  {
   "cell_type": "code",
   "execution_count": null,
   "id": "74d00541-2f8f-4a3e-b29e-9e4c517aad85",
   "metadata": {},
   "outputs": [],
   "source": [
    "# Sample Data\n",
    "x = [1, 2, 3, 4, 5]\n",
    "y = [10, 15, 13, 17, 20]\n"
   ]
  },
  {
   "cell_type": "code",
   "execution_count": null,
   "id": "ea4cd87e-fd62-42c7-9a44-4f72774e0150",
   "metadata": {},
   "outputs": [],
   "source": [
    "# DataFrame for seaborn\n",
    "df = pd.DataFrame({\n",
    "    'Day': ['Mon', 'Tue', 'Wed', 'Thu', 'Fri'],\n",
    "    'Sales': [200, 300, 250, 400, 450],\n",
    "    'Category': ['A', 'B', 'A', 'B', 'A']\n",
    "})\n"
   ]
  },
  {
   "cell_type": "code",
   "execution_count": null,
   "id": "538fc214-2485-43fe-af47-1bc2def838e6",
   "metadata": {},
   "outputs": [],
   "source": [
    "df.head()\n"
   ]
  },
  {
   "cell_type": "code",
   "execution_count": null,
   "id": "1f6cf988-6084-4944-bdbf-c8f6a0fb66e6",
   "metadata": {},
   "outputs": [],
   "source": [
    "# Basic line plot\n",
    "plt.plot(x, y)\n",
    "plt.title(\"Simple Line Plot\")\n",
    "plt.show()\n"
   ]
  },
  {
   "cell_type": "code",
   "execution_count": null,
   "id": "641e03e1-3547-4f21-bb42-a7772faff53c",
   "metadata": {},
   "outputs": [],
   "source": [
    "# Line plot with labels\n",
    "plt.plot(x, y)\n",
    "plt.xlabel(\"X-axis\")\n",
    "plt.ylabel(\"Y-axis\")\n",
    "plt.title(\"Line Plot with Labels\")\n",
    "plt.show()\n"
   ]
  },
  {
   "cell_type": "code",
   "execution_count": null,
   "id": "e5534e00-af3f-4cfc-968f-770a0d733e7b",
   "metadata": {},
   "outputs": [],
   "source": [
    "# Line color and style\n",
    "plt.plot(x, y, color='green', linestyle='--', marker='o')\n",
    "plt.title(\"Styled Line Plot\")\n",
    "plt.show()\n"
   ]
  },
  {
   "cell_type": "code",
   "execution_count": null,
   "id": "9688c177-000f-44c7-bf26-09df9c6c6cbb",
   "metadata": {},
   "outputs": [],
   "source": [
    "# Line thickness\n",
    "plt.plot(x, y, linewidth=2)\n",
    "plt.title(\"Thick Line\")\n",
    "plt.show()\n"
   ]
  },
  {
   "cell_type": "code",
   "execution_count": null,
   "id": "7563117c-8aa2-4cef-9aa5-8521717f098a",
   "metadata": {},
   "outputs": [],
   "source": [
    "# Multiple lines\n",
    "y2 = [5, 10, 8, 12, 18]\n",
    "plt.plot(x, y, label='First')\n",
    "plt.plot(x, y2, label='Second')\n",
    "plt.legend()\n",
    "plt.show()\n"
   ]
  },
  {
   "cell_type": "code",
   "execution_count": null,
   "id": "2b7e8646-b025-4e24-93ac-e274d49618dd",
   "metadata": {},
   "outputs": [],
   "source": [
    "# Grid\n",
    "plt.plot(x, y)\n",
    "plt.grid(True)\n",
    "plt.title(\"Grid Example\")\n",
    "plt.show()\n"
   ]
  },
  {
   "cell_type": "code",
   "execution_count": null,
   "id": "22032fb9-b1cf-43ad-9dc1-80771de1c32e",
   "metadata": {},
   "outputs": [],
   "source": [
    "# Markers\n",
    "plt.plot(x, y, marker='^')\n",
    "plt.title(\"Custom Markers\")\n",
    "plt.show()\n"
   ]
  },
  {
   "cell_type": "code",
   "execution_count": null,
   "id": "db73ea17-e4d1-4761-930f-bacc4a0a0c76",
   "metadata": {},
   "outputs": [],
   "source": [
    "# Axis limits\n",
    "plt.plot(x, y)\n",
    "plt.ylim(0, 25)\n",
    "plt.xlim(0, 6)\n",
    "plt.title(\"Axis Limit Example\")\n",
    "plt.show()\n"
   ]
  },
  {
   "cell_type": "code",
   "execution_count": null,
   "id": "ba993ae4-6f09-4277-aa35-69376a412dd5",
   "metadata": {},
   "outputs": [],
   "source": [
    "# Color\n",
    "plt.plot(x, y, color='purple')\n",
    "plt.title(\"Purple Line\")\n",
    "plt.show()\n"
   ]
  },
  {
   "cell_type": "code",
   "execution_count": null,
   "id": "b6e22455-31c7-4316-8139-50da471d55a3",
   "metadata": {},
   "outputs": [],
   "source": [
    "# Subplot 1x2\n",
    "plt.subplot(1, 2, 1)\n",
    "plt.plot(x, y)\n",
    "plt.title(\"Left\")\n",
    "\n",
    "plt.subplot(1, 2, 2)\n",
    "plt.plot(x, y2)\n",
    "plt.title(\"Right\")\n",
    "\n",
    "plt.tight_layout()\n",
    "plt.show()\n"
   ]
  },
  {
   "cell_type": "code",
   "execution_count": null,
   "id": "a485c5be-b0fa-4cd3-8b08-4a761c4c697f",
   "metadata": {},
   "outputs": [],
   "source": [
    "# Bar chart\n",
    "plt.bar(df['Day'], df['Sales'])\n",
    "plt.title(\"Bar Chart\")\n",
    "plt.show()\n"
   ]
  },
  {
   "cell_type": "code",
   "execution_count": null,
   "id": "2806a71d-2c16-4e37-821f-6165dee0a1d1",
   "metadata": {},
   "outputs": [],
   "source": [
    "# Horizontal bar\n",
    "plt.barh(df['Day'], df['Sales'], color='orange')\n",
    "plt.title(\"Horizontal Bar\")\n",
    "plt.show()\n"
   ]
  },
  {
   "cell_type": "code",
   "execution_count": null,
   "id": "a85764b8-f248-4d5e-b74d-af2ccf845e16",
   "metadata": {},
   "outputs": [],
   "source": [
    "# Bar with color\n",
    "colors = ['red', 'blue', 'green', 'purple', 'cyan']\n",
    "plt.bar(df['Day'], df['Sales'], color=colors)\n",
    "plt.title(\"Colored Bars\")\n",
    "plt.show()\n"
   ]
  },
  {
   "cell_type": "code",
   "execution_count": null,
   "id": "0453d360-b07b-4365-b378-a088eeac026d",
   "metadata": {},
   "outputs": [],
   "source": [
    "# Width\n",
    "plt.bar(df['Day'], df['Sales'], width=0.5)\n",
    "plt.title(\"Custom Width\")\n",
    "plt.show()\n"
   ]
  },
  {
   "cell_type": "code",
   "execution_count": null,
   "id": "940e4306-a988-4f1e-aadc-b50f7b8d89c6",
   "metadata": {},
   "outputs": [],
   "source": [
    "# Grouped bars\n",
    "labels = ['G1', 'G2', 'G3']\n",
    "a = [20, 34, 30]\n",
    "b = [25, 32, 34]\n",
    "\n",
    "x = np.arange(len(labels))\n",
    "width = 0.35\n",
    "\n",
    "fig, ax = plt.subplots()\n",
    "ax.bar(x - width/2, a, width, label='A')\n",
    "ax.bar(x + width/2, b, width, label='B')\n",
    "ax.set_xticks(x)\n",
    "ax.set_xticklabels(labels)\n",
    "ax.legend()\n",
    "plt.title(\"Grouped Bar Chart\")\n",
    "plt.show()\n"
   ]
  },
  {
   "cell_type": "code",
   "execution_count": null,
   "id": "f859ee34-4ec5-46db-9fe0-85eb2077ec0f",
   "metadata": {},
   "outputs": [],
   "source": [
    "# Grouped bars\n",
    "labels = ['G1', 'G2', 'G3']\n",
    "a = [20, 34, 30]\n",
    "b = [25, 32, 34]\n",
    "\n",
    "x = np.arange(len(labels))\n",
    "width = 0.35\n",
    "\n",
    "fig, ax = plt.subplots()\n",
    "ax.bar(x - width/2, a, width, label='A')\n",
    "ax.bar(x + width/2, b, width, label='B')\n",
    "ax.set_xticks(x)\n",
    "ax.set_xticklabels(labels)\n",
    "ax.legend()\n",
    "plt.title(\"Grouped Bar Chart\")\n",
    "plt.show()\n"
   ]
  },
  {
   "cell_type": "code",
   "execution_count": null,
   "id": "43ebbcee-9fa5-436e-b67b-53f1bb3dec1f",
   "metadata": {},
   "outputs": [],
   "source": [
    "# Annotated bar chart\n",
    "bars = plt.bar(df['Day'], df['Sales'])\n",
    "for bar in bars:\n",
    "    yval = bar.get_height()\n",
    "    plt.text(bar.get_x() + 0.1, yval + 10, yval)\n",
    "plt.title(\"Annotated Bars\")\n",
    "plt.show()\n"
   ]
  },
  {
   "cell_type": "code",
   "execution_count": null,
   "id": "92a80dae-6f38-4a67-9517-93ed6c19a216",
   "metadata": {},
   "outputs": [],
   "source": [
    "# Bar chart by category\n",
    "sns.barplot(x='Day', y='Sales', hue='Category', data=df)\n",
    "plt.title(\"Bar Chart with Seaborn\")\n",
    "plt.show()\n"
   ]
  },
  {
   "cell_type": "code",
   "execution_count": null,
   "id": "3d5427b9-8ca0-4d8c-89df-e485ef0956f3",
   "metadata": {},
   "outputs": [],
   "source": [
    "# Countplot\n",
    "sns.countplot(x='Category', data=df)\n",
    "plt.title(\"Countplot\")\n",
    "plt.show()\n"
   ]
  },
  {
   "cell_type": "code",
   "execution_count": null,
   "id": "f2ae5202-a97a-4413-ab29-e9c381a2c310",
   "metadata": {},
   "outputs": [],
   "source": [
    "# Bar chart with palette\n",
    "sns.barplot(x='Day', y='Sales', data=df, palette='mako')\n",
    "plt.title(\"Palette Mako\")\n",
    "plt.show()\n"
   ]
  },
  {
   "cell_type": "code",
   "execution_count": null,
   "id": "aded49b0-2584-455f-9c35-33c2a53aa39a",
   "metadata": {},
   "outputs": [],
   "source": [
    "# Horizontal bar seaborn\n",
    "sns.barplot(x='Sales', y='Day', data=df)\n",
    "plt.title(\"Seaborn Horizontal Bar\")\n",
    "plt.show()\n"
   ]
  },
  {
   "cell_type": "code",
   "execution_count": null,
   "id": "669d9500-637a-4274-9de5-e8ac7ea1841f",
   "metadata": {},
   "outputs": [],
   "source": [
    "# Simple pie\n",
    "sizes = [30, 40, 20, 10]\n",
    "labels = ['A', 'B', 'C', 'D']\n",
    "plt.pie(sizes, labels=labels)\n",
    "plt.title(\"Simple Pie\")\n",
    "plt.show()\n"
   ]
  },
  {
   "cell_type": "code",
   "execution_count": null,
   "id": "a4912367-1adb-49df-8ada-05a927c98230",
   "metadata": {},
   "outputs": [],
   "source": [
    "# Pie with explode\n",
    "explode = (0.1, 0, 0, 0)\n",
    "plt.pie(sizes, labels=labels, explode=explode, autopct='%1.1f%%')\n",
    "plt.title(\"Exploded Pie\")\n",
    "plt.show()\n"
   ]
  },
  {
   "cell_type": "code",
   "execution_count": null,
   "id": "3de39bf3-bb34-4dcf-acb1-53796e481192",
   "metadata": {},
   "outputs": [],
   "source": [
    "# Pie with shadow\n",
    "plt.pie(sizes, labels=labels, shadow=True, startangle=140)\n",
    "plt.title(\"Pie with Shadow\")\n",
    "plt.show()\n"
   ]
  },
  {
   "cell_type": "code",
   "execution_count": null,
   "id": "dc027c26-7f66-4513-bd34-9056a8aec3c7",
   "metadata": {},
   "outputs": [],
   "source": [
    "# Pie with colors\n",
    "colors = ['gold', 'lightgreen', 'skyblue', 'lightcoral']\n",
    "plt.pie(sizes, labels=labels, colors=colors)\n",
    "plt.title(\"Colored Pie\")\n",
    "plt.show()\n"
   ]
  },
  {
   "cell_type": "code",
   "execution_count": null,
   "id": "a43ab61e-ae44-4be8-b912-ae296ebe5413",
   "metadata": {},
   "outputs": [],
   "source": [
    "# Pie with percentages\n",
    "plt.pie(sizes, labels=labels, autopct='%1.2f%%')\n",
    "plt.title(\"Pie Percentages\")\n",
    "plt.show()\n"
   ]
  },
  {
   "cell_type": "code",
   "execution_count": null,
   "id": "45ea90d5-ad27-444b-b4e7-bbcb9db8a18b",
   "metadata": {},
   "outputs": [],
   "source": [
    "# Donut chart\n",
    "plt.pie(sizes, labels=labels)\n",
    "plt.gca().add_artist(plt.Circle((0,0), 0.5, color='white'))\n",
    "plt.title(\"Donut Chart\")\n",
    "plt.show()\n"
   ]
  },
  {
   "cell_type": "code",
   "execution_count": null,
   "id": "d558e559-eadf-4627-8dda-635c8ab2f996",
   "metadata": {},
   "outputs": [],
   "source": [
    "# Pie + bar side by side\n",
    "plt.subplot(1, 2, 1)\n",
    "plt.pie(sizes, labels=labels)\n",
    "plt.subplot(1, 2, 2)\n",
    "plt.bar(labels, sizes)\n",
    "plt.tight_layout()\n",
    "plt.show()\n"
   ]
  },
  {
   "cell_type": "code",
   "execution_count": null,
   "id": "8d37fc5a-efba-4e1f-862d-fca88ec36d2b",
   "metadata": {},
   "outputs": [],
   "source": [
    "# Pie from dataframe\n",
    "sales = df['Sales']\n",
    "plt.pie(sales, labels=df['Day'], autopct='%1.1f%%')\n",
    "plt.title(\"Sales Distribution Pie\")\n",
    "plt.show()\n"
   ]
  },
  {
   "cell_type": "code",
   "execution_count": null,
   "id": "563a54a5-5c49-4ec5-9624-f4145acc0d0e",
   "metadata": {},
   "outputs": [],
   "source": [
    "# Pie with large dataset\n",
    "labels = ['A', 'B', 'C', 'D', 'E']\n",
    "values = [30, 25, 20, 15, 10]\n",
    "plt.pie(values, labels=labels, autopct='%1.0f%%')\n",
    "plt.title(\"Large Pie\")\n",
    "plt.show()\n"
   ]
  },
  {
   "cell_type": "code",
   "execution_count": null,
   "id": "40e0acff-1f33-4043-8281-3ee89ca080b5",
   "metadata": {},
   "outputs": [],
   "source": [
    "# Pie chart rotated\n",
    "plt.pie(sizes, labels=labels, startangle=90)\n",
    "plt.title(\"Rotated Pie\")\n",
    "plt.show()\n"
   ]
  },
  {
   "cell_type": "code",
   "execution_count": null,
   "id": "80d9cec6-aa6a-4da6-b2d1-9d9a08f54adc",
   "metadata": {},
   "outputs": [],
   "source": [
    "# Histogram\n",
    "data = np.random.randn(100)\n",
    "plt.hist(data)\n",
    "plt.title(\"Histogram\")\n",
    "plt.show()\n"
   ]
  },
  {
   "cell_type": "code",
   "execution_count": null,
   "id": "0f07f0f6-a389-4ecc-86b8-59e57b638961",
   "metadata": {},
   "outputs": [],
   "source": [
    "# Histogram bins\n",
    "plt.hist(data, bins=20, color='teal')\n",
    "plt.title(\"Histogram with Bins\")\n",
    "plt.show()\n"
   ]
  },
  {
   "cell_type": "code",
   "execution_count": null,
   "id": "9661d08b-75ac-4547-9c1f-9c6745229c07",
   "metadata": {},
   "outputs": [],
   "source": [
    "# KDE plot\n",
    "sns.kdeplot(data)\n",
    "plt.title(\"KDE Plot\")\n",
    "plt.show()\n"
   ]
  },
  {
   "cell_type": "code",
   "execution_count": null,
   "id": "34794093-4ed7-4c20-b6e7-d1a4087e0527",
   "metadata": {},
   "outputs": [],
   "source": [
    "# KDE shade\n",
    "sns.kdeplot(data, shade=True)\n",
    "plt.title(\"KDE with Shade\")\n",
    "plt.show()\n"
   ]
  },
  {
   "cell_type": "code",
   "execution_count": null,
   "id": "ec1392a6-a533-436b-97bc-2c4b27ffd779",
   "metadata": {},
   "outputs": [],
   "source": [
    "# KDE + Histogram\n",
    "sns.histplot(data, kde=True)\n",
    "plt.title(\"Histogram with KDE\")\n",
    "plt.show()\n"
   ]
  },
  {
   "cell_type": "code",
   "execution_count": null,
   "id": "26a7974f-f1c2-43cb-a352-88552df95436",
   "metadata": {},
   "outputs": [],
   "source": [
    "# Boxplot\n",
    "tips = sns.load_dataset(\"tips\")\n",
    "sns.boxplot(x=tips['total_bill'])\n",
    "plt.title(\"Boxplot of Total Bill\")\n",
    "plt.show()\n"
   ]
  },
  {
   "cell_type": "code",
   "execution_count": null,
   "id": "7d5aa696-0394-4754-b5f9-895c1331e623",
   "metadata": {},
   "outputs": [],
   "source": [
    "# Boxplot by category\n",
    "sns.boxplot(x='day', y='total_bill', data=tips)\n",
    "plt.title(\"Boxplot by Day\")\n",
    "plt.show()\n"
   ]
  },
  {
   "cell_type": "code",
   "execution_count": null,
   "id": "fb2c0a54-9eb7-4f30-86c2-e36da9f9b283",
   "metadata": {},
   "outputs": [],
   "source": [
    "# Violin plot\n",
    "sns.violinplot(x='day', y='total_bill', data=tips)\n",
    "plt.title(\"Violin Plot\")\n",
    "plt.show()\n"
   ]
  },
  {
   "cell_type": "code",
   "execution_count": null,
   "id": "3b05bb1e-5c08-4152-acbf-a20919321762",
   "metadata": {},
   "outputs": [],
   "source": [
    "# Swarm plot\n",
    "sns.swarmplot(x='day', y='total_bill', data=tips)\n",
    "plt.title(\"Swarm Plot\")\n",
    "plt.show()\n",
    "    "
   ]
  },
  {
   "cell_type": "code",
   "execution_count": null,
   "id": "a6200dd9-1752-4e62-9225-ddd91724976a",
   "metadata": {},
   "outputs": [],
   "source": [
    "# Combined swarm + violin\n",
    "sns.violinplot(x='day', y='total_bill', data=tips, inner=None)\n",
    "sns.swarmplot(x='day', y='total_bill', data=tips, color='k', alpha=0.5)\n",
    "plt.title(\"Violin + Swarm\")\n",
    "plt.show()\n"
   ]
  },
  {
   "cell_type": "code",
   "execution_count": null,
   "id": "3debfaf4-76dd-4ce7-bf31-d7d4cbe29bbf",
   "metadata": {},
   "outputs": [],
   "source": [
    "# Scatter plot\n",
    "plt.scatter(df['Sales'], [1,2,3,4,5])\n",
    "plt.title(\"Scatter Plot\")\n",
    "plt.show()\n"
   ]
  },
  {
   "cell_type": "code",
   "execution_count": null,
   "id": "28d9ee40-4e28-4316-bf29-7f38f54d8e6e",
   "metadata": {},
   "outputs": [],
   "source": [
    "# Scatter with color\n",
    "colors = ['red', 'blue', 'green', 'orange', 'purple']\n",
    "plt.scatter(df['Sales'], [1,2,3,4,5], c=colors)\n",
    "plt.title(\"Colored Scatter\")\n",
    "plt.show()\n"
   ]
  },
  {
   "cell_type": "code",
   "execution_count": null,
   "id": "175ab109-75a5-4bf8-8256-34bb115d15de",
   "metadata": {},
   "outputs": [],
   "source": [
    "# Seaborn scatter\n",
    "sns.scatterplot(x='Day', y='Sales', hue='Category', data=df)\n",
    "plt.title(\"Seaborn Scatter\")\n",
    "plt.show()\n"
   ]
  },
  {
   "cell_type": "code",
   "execution_count": null,
   "id": "9781e19b-1f55-4a67-8e4a-f91eae757b6a",
   "metadata": {},
   "outputs": [],
   "source": [
    "# Pairplot\n",
    "sns.pairplot(tips)\n",
    "plt.suptitle(\"Pairplot of Tips\", y=1.02)\n",
    "plt.show()\n"
   ]
  },
  {
   "cell_type": "code",
   "execution_count": null,
   "id": "e956b310-988b-4189-878b-3db0793d9f99",
   "metadata": {},
   "outputs": [],
   "source": [
    "# Pairplot\n",
    "sns.pairplot(tips)\n",
    "plt.suptitle(\"Pairplot of Tips\", y=1.02)\n",
    "plt.show()\n"
   ]
  },
  {
   "cell_type": "code",
   "execution_count": null,
   "id": "7c05e4cc-925d-43c5-9415-62be14d20932",
   "metadata": {},
   "outputs": [],
   "source": [
    "# Heatmap\n",
    "corr = tips.corr()\n",
    "sns.heatmap(corr, annot=True, cmap='coolwarm')\n",
    "plt.title(\"Correlation Heatmap\")\n",
    "plt.show()\n"
   ]
  },
  {
   "cell_type": "code",
   "execution_count": null,
   "id": "b271943e-1408-4dd0-81ce-c5f6948d1dde",
   "metadata": {},
   "outputs": [],
   "source": [
    "# Heatmap without annotations\n",
    "sns.heatmap(corr, cmap='YlGnBu')\n",
    "plt.title(\"Heatmap No Annot\")\n",
    "plt.show()\n"
   ]
  },
  {
   "cell_type": "code",
   "execution_count": null,
   "id": "d30ead47-0d7e-4737-9a16-c6f560bf6e7c",
   "metadata": {},
   "outputs": [],
   "source": [
    "# Subplot 2x2\n",
    "fig, axs = plt.subplots(2, 2)\n",
    "axs[0, 0].plot(x, y)\n",
    "axs[0, 1].bar(df['Day'], df['Sales'])\n",
    "axs[1, 0].pie(sizes, labels=labels)\n",
    "axs[1, 1].hist(data)\n",
    "plt.tight_layout()\n",
    "plt.show()\n"
   ]
  },
  {
   "cell_type": "code",
   "execution_count": null,
   "id": "6caf5ab4-e3cc-40ec-a7a2-254dbb23af3d",
   "metadata": {},
   "outputs": [],
   "source": [
    "# Dark theme\n",
    "plt.style.use('dark_background')\n",
    "plt.plot(x, y)\n",
    "plt.title(\"Dark Theme Plot\")\n",
    "plt.show()\n"
   ]
  },
  {
   "cell_type": "code",
   "execution_count": null,
   "id": "4f6bff39-b774-4783-93c1-6b0c281adc5c",
   "metadata": {},
   "outputs": [],
   "source": [
    "# Reset style\n",
    "plt.style.use('default')\n"
   ]
  },
  {
   "cell_type": "code",
   "execution_count": null,
   "id": "a13b3363-ea1d-4bd8-943c-f0314a034c33",
   "metadata": {},
   "outputs": [],
   "source": [
    "# Save figure\n",
    "plt.plot(x, y)\n",
    "plt.savefig(\"plot.png\")\n",
    "plt.title(\"Saved Plot\")\n",
    "plt.show()\n"
   ]
  },
  {
   "cell_type": "code",
   "execution_count": null,
   "id": "00980696-0f97-4b5c-b3d5-bd9221ab0d05",
   "metadata": {},
   "outputs": [],
   "source": [
    "# 3D Surface Plot (if matplotlib 3D enabled)\n",
    "from mpl_toolkits.mplot3d import Axes3D\n",
    "fig = plt.figure()\n",
    "ax = fig.add_subplot(111, projection='3d')\n",
    "X, Y = np.meshgrid(np.linspace(-5, 5, 100), np.linspace(-5, 5, 100))\n",
    "Z = np.sin(np.sqrt(X**2 + Y**2))\n",
    "ax.plot_surface(X, Y, Z, cmap='viridis')\n",
    "plt.title(\"3D Surface Plot\")\n",
    "plt.show()\n"
   ]
  },
  {
   "cell_type": "code",
   "execution_count": null,
   "id": "44d5ae05-c44c-4bdb-83bf-343b2ab4ef3f",
   "metadata": {},
   "outputs": [],
   "source": [
    "# Rug plot\n",
    "sns.rugplot(data, height=0.3)\n",
    "plt.title(\"Rug Plot\")\n",
    "plt.show()\n"
   ]
  },
  {
   "cell_type": "code",
   "execution_count": null,
   "id": "ecc4dbcf-126e-4bb9-8386-2780acde1489",
   "metadata": {},
   "outputs": [],
   "source": [
    "# Strip plot\n",
    "sns.stripplot(x='day', y='total_bill', data=tips)\n",
    "plt.title(\"Strip Plot\")\n",
    "plt.show()\n"
   ]
  },
  {
   "cell_type": "code",
   "execution_count": null,
   "id": "b24989f6-0d77-4560-9020-1037cd4363ae",
   "metadata": {},
   "outputs": [],
   "source": [
    "# Strip plot\n",
    "sns.stripplot(x='day', y='total_bill', data=tips)\n",
    "plt.title(\"Strip Plot\")\n",
    "plt.show()\n"
   ]
  },
  {
   "cell_type": "code",
   "execution_count": null,
   "id": "271b5bd6-45b5-4aa4-88f4-5b6741e91812",
   "metadata": {},
   "outputs": [],
   "source": [
    "# Multi-hue bar plot\n",
    "sns.barplot(x=\"day\", y=\"tip\", hue=\"sex\", data=tips)\n",
    "plt.title(\"Multi-Hue Bar\")\n",
    "plt.show()\n"
   ]
  },
  {
   "cell_type": "code",
   "execution_count": null,
   "id": "11e0f72f-bad4-4e04-9a01-1df59f4e45f0",
   "metadata": {},
   "outputs": [],
   "source": [
    "# Histogram + KDE + Style\n",
    "sns.histplot(tips['total_bill'], kde=True, color='skyblue')\n",
    "plt.title(\"Styled Hist + KDE\")\n",
    "plt.show()\n"
   ]
  },
  {
   "cell_type": "code",
   "execution_count": null,
   "id": "1d617f1b-5f9e-45b9-b473-8f2a81aff6a0",
   "metadata": {},
   "outputs": [],
   "source": [
    "# Joint plot\n",
    "sns.jointplot(x=\"total_bill\", y=\"tip\", data=tips, kind='reg')\n",
    "plt.show()\n"
   ]
  },
  {
   "cell_type": "code",
   "execution_count": null,
   "id": "32306bbf-1eb1-4d0a-8660-fa3e29ef9d07",
   "metadata": {},
   "outputs": [],
   "source": [
    "# Set figure size\n",
    "plt.figure(figsize=(8, 4))\n",
    "plt.plot(x, y)\n",
    "plt.title(\"Custom Size\")\n",
    "plt.show()\n"
   ]
  },
  {
   "cell_type": "code",
   "execution_count": null,
   "id": "571e7a28-d209-4025-8d96-ae87e4a62af1",
   "metadata": {},
   "outputs": [],
   "source": []
  }
 ],
 "metadata": {
  "kernelspec": {
   "display_name": "Python 3 (ipykernel)",
   "language": "python",
   "name": "python3"
  },
  "language_info": {
   "codemirror_mode": {
    "name": "ipython",
    "version": 3
   },
   "file_extension": ".py",
   "mimetype": "text/x-python",
   "name": "python",
   "nbconvert_exporter": "python",
   "pygments_lexer": "ipython3",
   "version": "3.12.11"
  }
 },
 "nbformat": 4,
 "nbformat_minor": 5
}
